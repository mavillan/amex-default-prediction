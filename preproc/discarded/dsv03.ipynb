{
 "cells": [
  {
   "cell_type": "code",
   "execution_count": 1,
   "id": "4fa78142-ec85-4beb-ac15-6b36626bbdd7",
   "metadata": {},
   "outputs": [],
   "source": [
    "import gc\n",
    "import numpy as np\n",
    "import pandas as pd\n",
    "from tqdm import tqdm\n",
    "\n",
    "pd.set_option('display.max_colwidth', None)\n",
    "pd.set_option('display.max_columns', None)"
   ]
  },
  {
   "cell_type": "markdown",
   "id": "5a4e6364-7b43-4d1d-af83-83384a003dd3",
   "metadata": {},
   "source": [
    "***"
   ]
  },
  {
   "cell_type": "code",
   "execution_count": 2,
   "id": "7faf8c43-77d5-4ae8-9f88-b41b358110d0",
   "metadata": {},
   "outputs": [
    {
     "name": "stdout",
     "output_type": "stream",
     "text": [
      "CPU times: user 30.3 s, sys: 29.9 s, total: 1min\n",
      "Wall time: 41.6 s\n"
     ]
    }
   ],
   "source": [
    "%%time\n",
    "train = pd.read_parquet(\"../data/ext/amex-data-integer-dtypes-parquet-format/train.parquet\")\n",
    "test = pd.read_parquet(\"../data/ext/amex-data-integer-dtypes-parquet-format/test.parquet\")"
   ]
  },
  {
   "cell_type": "code",
   "execution_count": 3,
   "id": "121f5609-cfe8-4a9d-9266-491800d627a5",
   "metadata": {},
   "outputs": [],
   "source": [
    "train[\"S_2\"] = pd.to_datetime(train[\"S_2\"])\n",
    "test[\"S_2\"] = pd.to_datetime(test[\"S_2\"])"
   ]
  },
  {
   "cell_type": "markdown",
   "id": "e8083424-eaf7-4774-a1dc-d9a50396b34b",
   "metadata": {},
   "source": [
    "***\n",
    "## identify columns that are constant over time"
   ]
  },
  {
   "cell_type": "code",
   "execution_count": null,
   "id": "00553241-9d52-4e57-b61b-01a03a697599",
   "metadata": {},
   "outputs": [],
   "source": [
    "constant_cols = list()\n",
    "\n",
    "for col in tqdm(train.columns[2:]):\n",
    "    if train.groupby(\"customer_ID\")[col].nunique().max() == 1:\n",
    "        print(col)\n",
    "        constant_cols.append(col)"
   ]
  },
  {
   "cell_type": "code",
   "execution_count": null,
   "id": "9bfdc13f-f2d4-41b5-9777-4680f06d6666",
   "metadata": {},
   "outputs": [],
   "source": [
    "# there are no such columns ...\n",
    "constant_cols"
   ]
  },
  {
   "cell_type": "markdown",
   "id": "f0d59a8a-67a1-4ee8-9ba3-b182e75d3959",
   "metadata": {},
   "source": [
    "***\n",
    "## convert to wide format"
   ]
  },
  {
   "cell_type": "code",
   "execution_count": 4,
   "id": "5bafec14-5f4c-4c94-b3d3-428214897e7e",
   "metadata": {},
   "outputs": [],
   "source": [
    "# create timestep variable\n",
    "\n",
    "train[\"timestep\"] = 14 - train.groupby(\"customer_ID\")[\"S_2\"].rank(ascending=False).astype(int)\n",
    "test[\"timestep\"] = 14 - test.groupby(\"customer_ID\")[\"S_2\"].rank(ascending=False).astype(int)"
   ]
  },
  {
   "cell_type": "markdown",
   "id": "5a79ae08-954d-4912-8fab-beef59e63939",
   "metadata": {},
   "source": [
    "***\n",
    "## transform on train"
   ]
  },
  {
   "cell_type": "code",
   "execution_count": 5,
   "id": "57d077d9-3ef2-4d07-ab01-4e331440e759",
   "metadata": {},
   "outputs": [
    {
     "name": "stderr",
     "output_type": "stream",
     "text": [
      "100% 188/188 [06:52<00:00,  2.19s/it]\n"
     ]
    }
   ],
   "source": [
    "# pivot the dataframe col by col\n",
    "\n",
    "all_dfs = list()\n",
    "\n",
    "for col in tqdm(train.columns[2:-1]):\n",
    "    df = train.pivot(index=\"customer_ID\", columns=\"timestep\", values=col)\n",
    "    df.columns = [f\"{col}-{i}\" for i in df.columns]\n",
    "    all_dfs.append(df)"
   ]
  },
  {
   "cell_type": "code",
   "execution_count": 6,
   "id": "bfaed331-9688-4b59-a016-6168cbfcd2f0",
   "metadata": {},
   "outputs": [],
   "source": [
    "train_pivot = pd.concat(all_dfs, axis=1)\n",
    "train_pivot.to_parquet(\"../data/processed/dsv03/train.parquet\")"
   ]
  },
  {
   "cell_type": "code",
   "execution_count": 7,
   "id": "d511a627-e375-4d61-bbfd-19c8c0340785",
   "metadata": {
    "tags": []
   },
   "outputs": [
    {
     "data": {
      "text/plain": [
       "23"
      ]
     },
     "execution_count": 7,
     "metadata": {},
     "output_type": "execute_result"
    }
   ],
   "source": [
    "del train,all_dfs,train_pivot\n",
    "gc.collect()"
   ]
  },
  {
   "cell_type": "markdown",
   "id": "6c14f405-fe39-4f31-93dc-10e8336fe7c6",
   "metadata": {},
   "source": [
    "***\n",
    "## transform on test"
   ]
  },
  {
   "cell_type": "code",
   "execution_count": 8,
   "id": "e9ff6a2a-6a83-4ee7-8e9e-50a427bdb5c2",
   "metadata": {},
   "outputs": [
    {
     "name": "stderr",
     "output_type": "stream",
     "text": [
      "100% 188/188 [15:20<00:00,  4.89s/it]\n"
     ]
    }
   ],
   "source": [
    "# pivot the dataframe col by col\n",
    "\n",
    "all_dfs = list()\n",
    "\n",
    "for col in tqdm(test.columns[2:-1]):\n",
    "    df = test.pivot(index=\"customer_ID\", columns=\"timestep\", values=col)\n",
    "    df.columns = [f\"{col}-{i}\" for i in df.columns]\n",
    "    all_dfs.append(df)"
   ]
  },
  {
   "cell_type": "code",
   "execution_count": 9,
   "id": "a0339f71-a7e2-4242-8f45-225212736d55",
   "metadata": {},
   "outputs": [],
   "source": [
    "test_pivot = pd.concat(all_dfs, axis=1)\n",
    "test_pivot.to_parquet(\"../data/processed/dsv03/test.parquet\")"
   ]
  },
  {
   "cell_type": "code",
   "execution_count": 10,
   "id": "6cf8b652-1d4f-4d4b-a36a-c3f77bd59f2e",
   "metadata": {},
   "outputs": [
    {
     "data": {
      "text/plain": [
       "23"
      ]
     },
     "execution_count": 10,
     "metadata": {},
     "output_type": "execute_result"
    }
   ],
   "source": [
    "del test,all_dfs,test_pivot\n",
    "gc.collect()"
   ]
  },
  {
   "cell_type": "markdown",
   "id": "3ebe3da4-dde3-4e10-9960-0558c05cc328",
   "metadata": {},
   "source": [
    "***"
   ]
  }
 ],
 "metadata": {
  "kernelspec": {
   "display_name": "Python 3 (ipykernel)",
   "language": "python",
   "name": "python3"
  },
  "language_info": {
   "codemirror_mode": {
    "name": "ipython",
    "version": 3
   },
   "file_extension": ".py",
   "mimetype": "text/x-python",
   "name": "python",
   "nbconvert_exporter": "python",
   "pygments_lexer": "ipython3",
   "version": "3.7.12"
  }
 },
 "nbformat": 4,
 "nbformat_minor": 5
}
