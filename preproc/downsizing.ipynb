{
 "cells": [
  {
   "cell_type": "code",
   "execution_count": 1,
   "id": "76c334c8-0d33-44f1-b9bd-733baa899a8a",
   "metadata": {},
   "outputs": [],
   "source": [
    "import numpy as np\n",
    "import pandas as pd\n",
    "import sys\n",
    "\n",
    "sys.path.append(\"../utils/\")\n",
    "from memory import *"
   ]
  },
  {
   "cell_type": "markdown",
   "id": "19c74371-cda4-49a3-a9e5-da92c46a9938",
   "metadata": {},
   "source": [
    "***\n",
    "## loading data"
   ]
  },
  {
   "cell_type": "code",
   "execution_count": 4,
   "id": "d48a9c3d-e225-44cb-a313-674f02175e46",
   "metadata": {},
   "outputs": [],
   "source": [
    "train = pd.read_csv(\"../data/train_data.csv\")\n",
    "train_labels = pd.read_csv(\"../data/train_labels.csv\")\n",
    "test = pd.read_csv(\"../data/test_data.csv\")\n",
    "sample_sub = pd.read_csv(\"../data/sample_submission.csv\")"
   ]
  },
  {
   "cell_type": "code",
   "execution_count": 5,
   "id": "30df5a8b-ceed-42a5-95e1-26b7479b7219",
   "metadata": {},
   "outputs": [
    {
     "name": "stdout",
     "output_type": "stream",
     "text": [
      "<class 'pandas.core.frame.DataFrame'>\n",
      "RangeIndex: 5531451 entries, 0 to 5531450\n",
      "Columns: 190 entries, customer_ID to D_145\n",
      "dtypes: float64(185), int64(1), object(4)\n",
      "memory usage: 7.8+ GB\n"
     ]
    }
   ],
   "source": [
    "train.info()"
   ]
  },
  {
   "cell_type": "code",
   "execution_count": 6,
   "id": "5fa1a458-03d4-4c39-8404-8c12c846a835",
   "metadata": {},
   "outputs": [
    {
     "name": "stdout",
     "output_type": "stream",
     "text": [
      "<class 'pandas.core.frame.DataFrame'>\n",
      "RangeIndex: 11363762 entries, 0 to 11363761\n",
      "Columns: 190 entries, customer_ID to D_145\n",
      "dtypes: float64(185), int64(1), object(4)\n",
      "memory usage: 16.1+ GB\n"
     ]
    }
   ],
   "source": [
    "test.info()"
   ]
  },
  {
   "cell_type": "code",
   "execution_count": 8,
   "id": "da49154d-ef31-41dd-8c6a-6edfedc93da3",
   "metadata": {},
   "outputs": [
    {
     "name": "stdout",
     "output_type": "stream",
     "text": [
      "Mem. usage decreased to 4077.73 Mb (49.1% reduction)\n"
     ]
    }
   ],
   "source": [
    "train_red = reduce_mem_usage(train, verbose=True)"
   ]
  },
  {
   "cell_type": "code",
   "execution_count": 9,
   "id": "99b51383-13db-4839-9f71-4ab2c929ea44",
   "metadata": {},
   "outputs": [
    {
     "name": "stdout",
     "output_type": "stream",
     "text": [
      "Mem. usage decreased to 8377.25 Mb (49.1% reduction)\n"
     ]
    }
   ],
   "source": [
    "test_red = reduce_mem_usage(test, verbose=True)"
   ]
  },
  {
   "cell_type": "markdown",
   "id": "257cbc13-b340-405a-a178-d3a21f80c268",
   "metadata": {},
   "source": [
    "***\n",
    "## save the results"
   ]
  },
  {
   "cell_type": "code",
   "execution_count": 11,
   "id": "6ab7f6c9-0c8e-4dc7-814f-d882404c0d66",
   "metadata": {},
   "outputs": [],
   "source": [
    "train_red.to_parquet(\"../data/processed/train.parquet\", index=False)\n",
    "train_labels.to_parquet(\"../data/processed/train_labels.parquet\", index=False)\n",
    "test_red.to_parquet(\"../data/processed/test.parquet\", index=False)\n",
    "sample_sub.to_parquet(\"../data/processed/sample_sub.parquet\", index=False)"
   ]
  },
  {
   "cell_type": "markdown",
   "id": "8178bf3b-e0d6-45fc-bfcd-b6b7b842ec9f",
   "metadata": {},
   "source": [
    "***"
   ]
  }
 ],
 "metadata": {
  "kernelspec": {
   "display_name": "Python 3 (ipykernel)",
   "language": "python",
   "name": "python3"
  },
  "language_info": {
   "codemirror_mode": {
    "name": "ipython",
    "version": 3
   },
   "file_extension": ".py",
   "mimetype": "text/x-python",
   "name": "python",
   "nbconvert_exporter": "python",
   "pygments_lexer": "ipython3",
   "version": "3.7.12"
  }
 },
 "nbformat": 4,
 "nbformat_minor": 5
}
