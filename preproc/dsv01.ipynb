{
 "cells": [
  {
   "cell_type": "code",
   "execution_count": 1,
   "id": "4fa78142-ec85-4beb-ac15-6b36626bbdd7",
   "metadata": {},
   "outputs": [],
   "source": [
    "import gc\n",
    "import numpy as np\n",
    "import pandas as pd\n",
    "from tqdm import tqdm\n",
    "\n",
    "pd.set_option('display.max_colwidth', None)\n",
    "pd.set_option('display.max_columns', None)"
   ]
  },
  {
   "cell_type": "markdown",
   "id": "5a4e6364-7b43-4d1d-af83-83384a003dd3",
   "metadata": {},
   "source": [
    "***"
   ]
  },
  {
   "cell_type": "code",
   "execution_count": 2,
   "id": "7faf8c43-77d5-4ae8-9f88-b41b358110d0",
   "metadata": {},
   "outputs": [
    {
     "name": "stdout",
     "output_type": "stream",
     "text": [
      "CPU times: user 29.1 s, sys: 15.3 s, total: 44.4 s\n",
      "Wall time: 13.4 s\n"
     ]
    }
   ],
   "source": [
    "%%time\n",
    "train = pd.read_parquet(\"../data/ext/amex-data-integer-dtypes-parquet-format/train.parquet\")\n",
    "test = pd.read_parquet(\"../data/ext/amex-data-integer-dtypes-parquet-format/test.parquet\")"
   ]
  },
  {
   "cell_type": "code",
   "execution_count": 3,
   "id": "121f5609-cfe8-4a9d-9266-491800d627a5",
   "metadata": {},
   "outputs": [],
   "source": [
    "train[\"S_2\"] = pd.to_datetime(train[\"S_2\"])\n",
    "test[\"S_2\"] = pd.to_datetime(test[\"S_2\"])"
   ]
  },
  {
   "cell_type": "markdown",
   "id": "f0d59a8a-67a1-4ee8-9ba3-b182e75d3959",
   "metadata": {},
   "source": [
    "***\n",
    "## adds timestep column"
   ]
  },
  {
   "cell_type": "code",
   "execution_count": 4,
   "id": "5bafec14-5f4c-4c94-b3d3-428214897e7e",
   "metadata": {},
   "outputs": [],
   "source": [
    "# create timestep variable\n",
    "\n",
    "train[\"timestep\"] = 14 - train.groupby(\"customer_ID\")[\"S_2\"].rank(ascending=False).astype(int)\n",
    "test[\"timestep\"] = 14 - test.groupby(\"customer_ID\")[\"S_2\"].rank(ascending=False).astype(int)"
   ]
  },
  {
   "cell_type": "code",
   "execution_count": 5,
   "id": "2efa842b-41e0-4b8a-b33a-86fd5897e72c",
   "metadata": {},
   "outputs": [],
   "source": [
    "train.to_parquet(\"../data/processed/dsv01/train.parquet\")\n",
    "test.to_parquet(\"../data/processed/dsv01/test.parquet\")"
   ]
  },
  {
   "cell_type": "markdown",
   "id": "3ebe3da4-dde3-4e10-9960-0558c05cc328",
   "metadata": {},
   "source": [
    "***"
   ]
  }
 ],
 "metadata": {
  "kernelspec": {
   "display_name": "Python 3 (ipykernel)",
   "language": "python",
   "name": "python3"
  },
  "language_info": {
   "codemirror_mode": {
    "name": "ipython",
    "version": 3
   },
   "file_extension": ".py",
   "mimetype": "text/x-python",
   "name": "python",
   "nbconvert_exporter": "python",
   "pygments_lexer": "ipython3",
   "version": "3.7.12"
  }
 },
 "nbformat": 4,
 "nbformat_minor": 5
}
