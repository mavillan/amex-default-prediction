{
 "cells": [
  {
   "cell_type": "code",
   "execution_count": 1,
   "id": "4fa78142-ec85-4beb-ac15-6b36626bbdd7",
   "metadata": {},
   "outputs": [],
   "source": [
    "import numpy as np\n",
    "import pandas as pd\n",
    "from tqdm import tqdm\n",
    "\n",
    "pd.set_option('display.max_colwidth', None)\n",
    "pd.set_option('display.max_columns', None)"
   ]
  },
  {
   "cell_type": "markdown",
   "id": "5a4e6364-7b43-4d1d-af83-83384a003dd3",
   "metadata": {},
   "source": [
    "***"
   ]
  },
  {
   "cell_type": "code",
   "execution_count": 2,
   "id": "7faf8c43-77d5-4ae8-9f88-b41b358110d0",
   "metadata": {},
   "outputs": [
    {
     "name": "stdout",
     "output_type": "stream",
     "text": [
      "CPU times: user 31.7 s, sys: 15.8 s, total: 47.5 s\n",
      "Wall time: 9.49 s\n"
     ]
    }
   ],
   "source": [
    "%%time\n",
    "train = pd.read_parquet(\"../data/ext/amex-data-integer-dtypes-parquet-format/train.parquet\")\n",
    "test = pd.read_parquet(\"../data/ext/amex-data-integer-dtypes-parquet-format/test.parquet\")"
   ]
  },
  {
   "cell_type": "code",
   "execution_count": 3,
   "id": "121f5609-cfe8-4a9d-9266-491800d627a5",
   "metadata": {},
   "outputs": [],
   "source": [
    "train[\"S_2\"] = pd.to_datetime(train[\"S_2\"])\n",
    "test[\"S_2\"] = pd.to_datetime(test[\"S_2\"])"
   ]
  },
  {
   "cell_type": "markdown",
   "id": "e8083424-eaf7-4774-a1dc-d9a50396b34b",
   "metadata": {},
   "source": [
    "***\n",
    "## identify columns that are constant over time"
   ]
  },
  {
   "cell_type": "code",
   "execution_count": 4,
   "id": "00553241-9d52-4e57-b61b-01a03a697599",
   "metadata": {},
   "outputs": [
    {
     "name": "stderr",
     "output_type": "stream",
     "text": [
      "100% 188/188 [05:30<00:00,  1.76s/it]\n"
     ]
    }
   ],
   "source": [
    "constant_cols = list()\n",
    "\n",
    "for col in tqdm(train.columns[2:]):\n",
    "    if train.groupby(\"customer_ID\")[col].nunique().max() == 1:\n",
    "        print(col)\n",
    "        constant_cols.append(col)"
   ]
  },
  {
   "cell_type": "code",
   "execution_count": 5,
   "id": "9bfdc13f-f2d4-41b5-9777-4680f06d6666",
   "metadata": {},
   "outputs": [
    {
     "data": {
      "text/plain": [
       "[]"
      ]
     },
     "execution_count": 5,
     "metadata": {},
     "output_type": "execute_result"
    }
   ],
   "source": [
    "# there are no such columns ...\n",
    "constant_cols"
   ]
  },
  {
   "cell_type": "markdown",
   "id": "f0d59a8a-67a1-4ee8-9ba3-b182e75d3959",
   "metadata": {},
   "source": [
    "***\n",
    "## convert to wide format"
   ]
  },
  {
   "cell_type": "code",
   "execution_count": 6,
   "id": "5bafec14-5f4c-4c94-b3d3-428214897e7e",
   "metadata": {},
   "outputs": [],
   "source": [
    "# create timestep variable\n",
    "\n",
    "train[\"timestep\"] = 14 - train.groupby(\"customer_ID\")[\"S_2\"].rank(ascending=False).astype(int)\n",
    "test[\"timestep\"] = 14 - test.groupby(\"customer_ID\")[\"S_2\"].rank(ascending=False).astype(int)"
   ]
  },
  {
   "cell_type": "code",
   "execution_count": 7,
   "id": "57d077d9-3ef2-4d07-ab01-4e331440e759",
   "metadata": {},
   "outputs": [
    {
     "name": "stderr",
     "output_type": "stream",
     "text": [
      "100% 189/189 [06:59<00:00,  2.22s/it]\n"
     ]
    }
   ],
   "source": [
    "# pivot the dataframe col by col\n",
    "\n",
    "all_dfs = list()\n",
    "\n",
    "for col in tqdm(train.columns[2:]):\n",
    "    df = train.pivot(index=\"customer_ID\", columns=\"timestep\", values=col)\n",
    "    df.columns = [f\"{col}-{i}\" for i in df.columns]\n",
    "    all_dfs.append(df)\n"
   ]
  },
  {
   "cell_type": "code",
   "execution_count": null,
   "id": "83cfb780-06ae-41cc-9b8e-808a1e9a380c",
   "metadata": {},
   "outputs": [],
   "source": [
    "# todo: concatenate by axis=0\n",
    "r = pd.concat(all_dfs)"
   ]
  },
  {
   "cell_type": "code",
   "execution_count": null,
   "id": "c48468a6-e31c-42a8-9622-47d16fb59d37",
   "metadata": {},
   "outputs": [],
   "source": [
    "r"
   ]
  },
  {
   "cell_type": "markdown",
   "id": "3ebe3da4-dde3-4e10-9960-0558c05cc328",
   "metadata": {},
   "source": [
    "***"
   ]
  }
 ],
 "metadata": {
  "kernelspec": {
   "display_name": "Python 3 (ipykernel)",
   "language": "python",
   "name": "python3"
  },
  "language_info": {
   "codemirror_mode": {
    "name": "ipython",
    "version": 3
   },
   "file_extension": ".py",
   "mimetype": "text/x-python",
   "name": "python",
   "nbconvert_exporter": "python",
   "pygments_lexer": "ipython3",
   "version": "3.7.12"
  }
 },
 "nbformat": 4,
 "nbformat_minor": 5
}
