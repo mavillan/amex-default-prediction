{
 "cells": [
  {
   "cell_type": "code",
   "execution_count": 1,
   "id": "de32a423-950f-41f9-be29-082a650349b0",
   "metadata": {},
   "outputs": [],
   "source": [
    "import numpy as np\n",
    "import pandas as pd\n",
    "from pathlib import Path"
   ]
  },
  {
   "cell_type": "code",
   "execution_count": 2,
   "id": "c99aad25-85db-4049-98e2-a755635c1bca",
   "metadata": {},
   "outputs": [],
   "source": [
    "OUT_PATH = Path(\"../data/processed/dsv07\")\n",
    "if not OUT_PATH.exists():\n",
    "    OUT_PATH.mkdir(parents=True, exist_ok=True)"
   ]
  },
  {
   "cell_type": "markdown",
   "id": "8fbc9314-f1a3-4eb9-af97-48f7ef52a06a",
   "metadata": {},
   "source": [
    "***"
   ]
  },
  {
   "cell_type": "code",
   "execution_count": 3,
   "id": "9eb44703-e1f5-4b3d-b034-64aae938347e",
   "metadata": {},
   "outputs": [
    {
     "data": {
      "text/plain": [
       "B_11-P_2_last          0.001962\n",
       "B_3_last               0.001343\n",
       "D_44_last              0.001306\n",
       "B_9_last               0.001243\n",
       "S_16-P_2_last          0.001207\n",
       "                         ...   \n",
       "R_10_above_mean        0.000050\n",
       "P_3_diff_last-first    0.000050\n",
       "S_9_min                0.000050\n",
       "B_7_diff_lag2          0.000050\n",
       "D_39-P_2_pchg_std      0.000050\n",
       "Length: 2000, dtype: float64"
      ]
     },
     "execution_count": 3,
     "metadata": {},
     "output_type": "execute_result"
    }
   ],
   "source": [
    "df_pfi = pd.read_csv(\"../data/feat-selection/catb-pfi.csv\")\n",
    "df_pfi.iloc[:,1:].mean(axis=0).sort_values(ascending=False).head(2000)"
   ]
  },
  {
   "cell_type": "code",
   "execution_count": 4,
   "id": "c2b4b548-0e01-46d9-a3d0-66202e0e1e62",
   "metadata": {},
   "outputs": [
    {
     "data": {
      "text/plain": [
       "B_11-P_2_last      1.111200e-03\n",
       "S_16-P_2_last      4.456111e-04\n",
       "B_3_last           3.106185e-04\n",
       "D_44_last          2.779437e-04\n",
       "P_2_last           2.672461e-04\n",
       "                       ...     \n",
       "R_28_pchg_lag1     4.460415e-07\n",
       "B_12_sum_cxty1     4.458861e-07\n",
       "R_19_mean_cxty2    4.455652e-07\n",
       "B_26_mean_cxty2    4.455383e-07\n",
       "B_23_pchg_std      4.451403e-07\n",
       "Length: 2000, dtype: float64"
      ]
     },
     "execution_count": 4,
     "metadata": {},
     "output_type": "execute_result"
    }
   ],
   "source": [
    "df_lfc = pd.read_csv(\"../data/feat-selection/catb-lfc.csv\")\n",
    "df_lfc.mean(axis=0).sort_values(ascending=False).head(2000)"
   ]
  },
  {
   "cell_type": "code",
   "execution_count": 5,
   "id": "551fa0c6-7744-44b9-b009-7e5fea8baff7",
   "metadata": {},
   "outputs": [
    {
     "data": {
      "text/plain": [
       "B_11-P_2_last          0.127874\n",
       "S_16-P_2_last          0.084109\n",
       "P_2_last               0.064072\n",
       "S_23-P_2_last          0.059025\n",
       "B_5_last               0.056832\n",
       "                         ...   \n",
       "B_23_pchg_mean         0.000659\n",
       "D_39-P_3_below_mean    0.000657\n",
       "D_71_diff_std          0.000657\n",
       "D_115_min              0.000657\n",
       "D_60_pchg_min          0.000656\n",
       "Length: 2000, dtype: float64"
      ]
     },
     "execution_count": 5,
     "metadata": {},
     "output_type": "execute_result"
    }
   ],
   "source": [
    "df_shap = pd.read_csv(\"../data/feat-selection/catb-shap.csv\")\n",
    "df_shap.mean(axis=0).sort_values(ascending=False).head(2000)"
   ]
  },
  {
   "cell_type": "code",
   "execution_count": 6,
   "id": "a1ce6d19-f57e-4afa-b844-e81dcf2bde1c",
   "metadata": {},
   "outputs": [],
   "source": [
    "selected_pfi = df_pfi.iloc[:,1:].mean(axis=0).sort_values(ascending=False).head(2000).index.tolist()\n",
    "selected_lfc = df_lfc.mean(axis=0).sort_values(ascending=False).head(2000).index.tolist()\n",
    "selected_shap = df_shap.mean(axis=0).sort_values(ascending=False).head(2000).index.tolist()"
   ]
  },
  {
   "cell_type": "code",
   "execution_count": 7,
   "id": "fc7697f7-8fd0-4614-b88f-9b778e004155",
   "metadata": {},
   "outputs": [],
   "source": [
    "selected_set01 = list(set(selected_pfi) & set(selected_lfc) & set(selected_shap))\n",
    "selected_set02 = list(set(selected_pfi) & set(selected_lfc)) \n",
    "selected_set03 = list(set(selected_lfc) & set(selected_shap))\n",
    "selected_set04 = list(set(selected_pfi) & set(selected_shap))"
   ]
  },
  {
   "cell_type": "markdown",
   "id": "fcfde91d-5026-412c-8f30-e53536991e12",
   "metadata": {},
   "source": [
    "***\n",
    "## filtering for the selected features"
   ]
  },
  {
   "cell_type": "code",
   "execution_count": 8,
   "id": "95f9c77d-bbeb-4fc0-8e21-5014e2e33605",
   "metadata": {},
   "outputs": [
    {
     "data": {
      "text/plain": [
       "1662"
      ]
     },
     "execution_count": 8,
     "metadata": {},
     "output_type": "execute_result"
    }
   ],
   "source": [
    "len(selected_set04)"
   ]
  },
  {
   "cell_type": "code",
   "execution_count": 9,
   "id": "bf8b826f-981b-4965-8825-768ab1cf522e",
   "metadata": {},
   "outputs": [
    {
     "name": "stdout",
     "output_type": "stream",
     "text": [
      "test.parquet  train.parquet\n"
     ]
    }
   ],
   "source": [
    "!ls ../data/processed/dsv05"
   ]
  },
  {
   "cell_type": "code",
   "execution_count": 10,
   "id": "303ec96b-6cdf-4a5d-b69f-7d8db83a37b1",
   "metadata": {},
   "outputs": [],
   "source": [
    "train = pd.read_parquet(\"../data/processed/dsv05/train.parquet\", columns=selected_set04)\n",
    "test =  pd.read_parquet(\"../data/processed/dsv05/test.parquet\",  columns=selected_set04)"
   ]
  },
  {
   "cell_type": "code",
   "execution_count": 11,
   "id": "d9e4ccf7-6818-41ef-b5d0-591da428c791",
   "metadata": {},
   "outputs": [],
   "source": [
    "train.to_parquet(OUT_PATH/\"train.parquet\")\n",
    "test.to_parquet(OUT_PATH/\"test.parquet\")"
   ]
  },
  {
   "cell_type": "markdown",
   "id": "e89b18c3-af8a-447e-93a6-9ee23d79d357",
   "metadata": {},
   "source": [
    "***"
   ]
  }
 ],
 "metadata": {
  "kernelspec": {
   "display_name": "Python 3 (ipykernel)",
   "language": "python",
   "name": "python3"
  },
  "language_info": {
   "codemirror_mode": {
    "name": "ipython",
    "version": 3
   },
   "file_extension": ".py",
   "mimetype": "text/x-python",
   "name": "python",
   "nbconvert_exporter": "python",
   "pygments_lexer": "ipython3",
   "version": "3.7.12"
  }
 },
 "nbformat": 4,
 "nbformat_minor": 5
}
