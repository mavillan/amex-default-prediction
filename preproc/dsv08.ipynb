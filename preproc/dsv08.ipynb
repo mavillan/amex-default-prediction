{
 "cells": [
  {
   "cell_type": "code",
   "execution_count": 1,
   "id": "de32a423-950f-41f9-be29-082a650349b0",
   "metadata": {},
   "outputs": [],
   "source": [
    "import numpy as np\n",
    "import pandas as pd\n",
    "from pathlib import Path"
   ]
  },
  {
   "cell_type": "code",
   "execution_count": 2,
   "id": "c99aad25-85db-4049-98e2-a755635c1bca",
   "metadata": {},
   "outputs": [],
   "source": [
    "OUT_PATH = Path(\"../data/processed/dsv08\")\n",
    "if not OUT_PATH.exists():\n",
    "    OUT_PATH.mkdir(parents=True, exist_ok=True)"
   ]
  },
  {
   "cell_type": "markdown",
   "id": "8fbc9314-f1a3-4eb9-af97-48f7ef52a06a",
   "metadata": {},
   "source": [
    "***"
   ]
  },
  {
   "cell_type": "code",
   "execution_count": 3,
   "id": "9eb44703-e1f5-4b3d-b034-64aae938347e",
   "metadata": {},
   "outputs": [
    {
     "data": {
      "text/plain": [
       "B_11-P_2_last          0.001962\n",
       "B_3_last               0.001343\n",
       "D_44_last              0.001306\n",
       "B_9_last               0.001243\n",
       "S_16-P_2_last          0.001207\n",
       "                         ...   \n",
       "R_10_above_mean        0.000050\n",
       "P_3_diff_last-first    0.000050\n",
       "S_9_min                0.000050\n",
       "B_7_diff_lag2          0.000050\n",
       "D_39-P_2_pchg_std      0.000050\n",
       "Length: 2000, dtype: float64"
      ]
     },
     "execution_count": 3,
     "metadata": {},
     "output_type": "execute_result"
    }
   ],
   "source": [
    "df_pfi = pd.read_csv(\"../data/feat-selection/catb-pfi.csv\")\n",
    "df_pfi.iloc[:,1:].mean(axis=0).sort_values(ascending=False).head(2000)"
   ]
  },
  {
   "cell_type": "code",
   "execution_count": 4,
   "id": "c2b4b548-0e01-46d9-a3d0-66202e0e1e62",
   "metadata": {},
   "outputs": [
    {
     "data": {
      "text/plain": [
       "B_11-P_2_last      1.111200e-03\n",
       "S_16-P_2_last      4.456111e-04\n",
       "B_3_last           3.106185e-04\n",
       "D_44_last          2.779437e-04\n",
       "P_2_last           2.672461e-04\n",
       "                       ...     \n",
       "R_28_pchg_lag1     4.460415e-07\n",
       "B_12_sum_cxty1     4.458861e-07\n",
       "R_19_mean_cxty2    4.455652e-07\n",
       "B_26_mean_cxty2    4.455383e-07\n",
       "B_23_pchg_std      4.451403e-07\n",
       "Length: 2000, dtype: float64"
      ]
     },
     "execution_count": 4,
     "metadata": {},
     "output_type": "execute_result"
    }
   ],
   "source": [
    "df_lfc = pd.read_csv(\"../data/feat-selection/catb-lfc.csv\")\n",
    "df_lfc.mean(axis=0).sort_values(ascending=False).head(2000)"
   ]
  },
  {
   "cell_type": "code",
   "execution_count": 5,
   "id": "551fa0c6-7744-44b9-b009-7e5fea8baff7",
   "metadata": {},
   "outputs": [
    {
     "data": {
      "text/plain": [
       "B_11-P_2_last          0.127874\n",
       "S_16-P_2_last          0.084109\n",
       "P_2_last               0.064072\n",
       "S_23-P_2_last          0.059025\n",
       "B_5_last               0.056832\n",
       "                         ...   \n",
       "B_23_pchg_mean         0.000659\n",
       "D_39-P_3_below_mean    0.000657\n",
       "D_71_diff_std          0.000657\n",
       "D_115_min              0.000657\n",
       "D_60_pchg_min          0.000656\n",
       "Length: 2000, dtype: float64"
      ]
     },
     "execution_count": 5,
     "metadata": {},
     "output_type": "execute_result"
    }
   ],
   "source": [
    "df_shap = pd.read_csv(\"../data/feat-selection/catb-shap.csv\")\n",
    "df_shap.mean(axis=0).sort_values(ascending=False).head(2000)"
   ]
  },
  {
   "cell_type": "code",
   "execution_count": 6,
   "id": "a1ce6d19-f57e-4afa-b844-e81dcf2bde1c",
   "metadata": {},
   "outputs": [],
   "source": [
    "selected_pfi = df_pfi.iloc[:,1:].mean(axis=0).sort_values(ascending=False).head(2000).index.tolist()\n",
    "selected_lfc = df_lfc.mean(axis=0).sort_values(ascending=False).head(2000).index.tolist()\n",
    "selected_shap = df_shap.mean(axis=0).sort_values(ascending=False).head(2000).index.tolist()"
   ]
  },
  {
   "cell_type": "code",
   "execution_count": 7,
   "id": "fc7697f7-8fd0-4614-b88f-9b778e004155",
   "metadata": {},
   "outputs": [],
   "source": [
    "selected_set01 = list(set(selected_pfi) & set(selected_lfc) & set(selected_shap))\n",
    "selected_set02 = list(set(selected_pfi) & set(selected_lfc)) \n",
    "selected_set03 = list(set(selected_lfc) & set(selected_shap))\n",
    "selected_set04 = list(set(selected_pfi) & set(selected_shap))"
   ]
  },
  {
   "cell_type": "markdown",
   "id": "27e91a96-014b-4e12-85de-da9f9e8147cb",
   "metadata": {},
   "source": [
    "## filtering feature from adversarial validation"
   ]
  },
  {
   "cell_type": "code",
   "execution_count": 8,
   "id": "504f2a66-1a01-4203-8ff0-fe6ea9cb30c2",
   "metadata": {},
   "outputs": [
    {
     "data": {
      "text/plain": [
       "59"
      ]
     },
     "execution_count": 8,
     "metadata": {},
     "output_type": "execute_result"
    }
   ],
   "source": [
    "to_remove_set01 = [\n",
    "    'B_29_diff_last-first', 'B_29_mean', 'S_9_diff_min', 'S_9_diff_last-mean', \n",
    "    'S_9_mean_nan', 'S_9_min', 'S_9_mean_cxty2', 'S_9_diff_last-max', 'S_9_median', \n",
    "    'S_9_max', 'S_9_last', 'S_9_diff_last-median', 'S_9_diff_last-first', 'S_9_mean', \n",
    "    'R_1_mean_cxty1', 'R_1_mean', 'R_1_diff_last-min', 'R_1_std', 'R_1_median', \n",
    "    'R_1_diff_min', 'R_1_diff_last-median', 'R_1_last', 'R_1_min', 'R_1_diff_last-mean', \n",
    "    'R_1_max', 'R_1_diff_lag3', 'R_1_sum_cxty1', 'D_59_pchg_lag3', 'D_59_slope', 'D_59_pchg_lag1', \n",
    "    'D_59_diff_last-mean', 'D_59_std', 'D_59_pchg_max', 'D_59_median', 'D_59_last', 'D_59_diff_mean', \n",
    "    'D_59_sum_cxty1', 'D_59_max', 'D_59_pchg_mean', 'D_59_mean', 'D_59_diff_last-min', 'S_11_mean_cxty1', \n",
    "    'S_11_mean', 'S_11_diff_last-median', 'S_11_median', 'S_11_min', 'S_11_pchg_min', 'S_11_last', \n",
    "    'S_11_max', 'S_9_diff_min', 'S_9_diff_last-mean', 'S_9_mean_nan', 'S_9_min', 'S_9_mean_cxty2', \n",
    "    'S_9_diff_last-max', 'S_9_median', 'S_9_max', 'S_9_last', 'S_9_diff_last-median', 'S_9_diff_last-first', \n",
    "    'S_9_mean', 'D_121_mean_cxty2', 'D_121_pchg_max', 'D_121_pchg_std', 'D_121_max', 'D_121_median', \n",
    "    'D_121_min', 'D_121_sum_cxty2', 'D_121_last', 'D_121_mean', 'D_121_pchg_mean',\n",
    "]\n",
    "to_remove_set01 = list(set(to_remove_set01))\n",
    "len(to_remove_set01)"
   ]
  },
  {
   "cell_type": "code",
   "execution_count": 9,
   "id": "552f28ad-4a78-4113-9232-927abdb548bc",
   "metadata": {},
   "outputs": [
    {
     "data": {
      "text/plain": [
       "500"
      ]
     },
     "execution_count": 9,
     "metadata": {},
     "output_type": "execute_result"
    }
   ],
   "source": [
    "top_av_selected = [\n",
    "    'S_15_last', 'D_120_2_mean', 'R_27_mean', 'D_126_4_mean', 'D_126_4_lo', 'S_15_max', \n",
    "    'D_120_2_lo', 'D_120_1_lo', 'D_123_idxmax', 'S_24_last', 'D_123_slope', 'S_24_max', \n",
    "    'D_117_7_lo', 'D_91_mean', 'S_13_max', 'S_15_above_mean_cc', 'D_117_7_mean', 'S_13_last', \n",
    "    'S_15_mean', 'S_24_pchg_max', 'S_15_median', 'S_15_diff_last-median', 'D_117_4_lo', \n",
    "    'S_24_pchg_min', 'S_27_median', 'S_24_mean', 'S_15_diff_last-mean', 'D_118_pchg_mean', \n",
    "    'D_117_4_mean', 'S_24_pchg_lag1', 'S_24_diff_last-min', 'D_45_pchg_mean', 'S_24_pchg_std', \n",
    "    'D_56_diff_idxmax', 'R_27_median', 'S_24_diff_min', 'S_24_diff_lag1', 'D_118_mean_cxty2', \n",
    "    'D_119_pchg_mean', 'D_64_4_lo', 'S_24_diff_last-median', 'S_24_diff_last-mean', 'D_64_4_mean', \n",
    "    'R_27_min', 'S_27_mean', 'S_27_max', 'D_117_8_mean', 'D_122_mean', 'D_140_mean', 'R_26_min', \n",
    "    'D_117_8_lo', 'R_26_mean', 'D_119_mean_cxty2', 'D_114_1_mean', 'D_55_pchg_mean', 'D_114_2_mean', \n",
    "    'D_119_pchg_max', 'R_27_max', 'D_114_2_lo', 'D_119_pchg_std', 'D_119_sum_cxty2', 'D_55_min',\n",
    "    'D_64_1_mean', 'D_145_diff_last-mean', 'D_124_pchg_max', 'R_27_last', 'D_118_min', 'D_119_min', \n",
    "    'P_4_median', 'D_68_1_lo', 'R_27_pchg_min', 'D_55_diff_lag3', 'P_4_mean', 'R_27_pchg_std', \n",
    "    'D_129_mean', 'R_27_sum_cxty2', 'D_129_slope', 'D_124_max', 'D_45_max', 'D_42_pchg_mean', \n",
    "    'R_27_diff_min', 'B_17_diff_lag2', 'D_45_median', 'B_17_idxmin', 'D_107_std', 'D_45_mean', \n",
    "    'R_26_max', 'B_17_diff_lag1', 'B_8_sum_cxty2', 'D_123_diff_mean', 'B_8_mean_cxty2', 'D_45_min', \n",
    "    'R_26_last', 'D_55_mean', 'D_124_mean', 'D_45_last', 'D_45_pchg_max', 'D_107_slope', 'D_118_median', \n",
    "    'D_91_last', 'D_45_pchg_std', 'D_119_median', 'D_55_pchg_min', 'D_122_min', 'D_61_max', \n",
    "    'B_8_pchg_std', 'D_45_sum_cxty2', 'S_22_pchg_min', 'D_55_diff_min', 'D_119_mean', 'D_45_mean_cxty2', \n",
    "    'D_55_median', 'D_118_mean', 'B_8_mean', 'S_22_pchg_mean', 'D_55_max', 'S_22_pchg_std', 'D_64_1_lo', \n",
    "    'D_56_diff_last-mean', 'D_42_pchg_min', 'S_22_sum_cxty2', 'D_55_last', 'D_55_diff_last-mean', \n",
    "    'B_8_diff_min', 'S_15_min', 'B_8_last', 'D_55_diff_last-first', 'B_8_std', 'S_22_pchg_lag1', \n",
    "    'D_55_diff_mean', 'D_55_diff_last-min', 'D_55_diff_last-median', 'D_118_last', 'S_13_diff_last-first', \n",
    "    'R_26_median', 'D_55_slope', 'D_119_last', 'D_144_idxmin', 'B_8_median', 'D_119_max', 'D_115_max', \n",
    "    'D_118_max', 'D_42_sum_cxty2', 'D_42_sum_nan', 'S_13_pchg_std', 'S_13_pchg_mean', 'D_122_max', 'B_8_min', \n",
    "    'D_42_min', 'D_114_1_lo', 'S_13_sum_cxty2', 'S_13_sum_cxty1', 'S_13_mean_cxty2', 'B_8_max', \n",
    "    'D_42_mean_nan', 'S_13_diff_mean', 'B_8_mean_cxty1', 'D_142_max', 'B_8_diff_std', 'D_42_mean', \n",
    "    'B_8_sum_cxty1', 'S_13_diff_last-median', 'S_13_mean_cxty1', 'S_8_max', 'D_142_median', 'S_13_diff_std', \n",
    "    'D_42_last', 'S_16-P_3_diff_idxmax', 'S_27_mean_cxty1', 'S_8_mean', 'S_27_sum_cxty1', 'D_42_pchg_max', \n",
    "    'S_27_diff_std', 'D_61_mean', 'B_17_last', 'D_42_median', 'D_42_diff_last-max', 'B_17_diff_last-max', \n",
    "    'D_82_diff_last-mean', 'B_4_idxmax', 'B_17_diff_last-median', 'D_42_max', 'D_56_mean_cxty2', 'D_117_5_lo', \n",
    "    'B_38_2_mean', 'D_124_min', 'D_117_5_mean', 'B_17-P_2_diff_lag1', 'S_8_median', 'D_66_1_mean', 'S_22_mean', \n",
    "    'D_42_diff_last-first', 'D_39_last', 'D_42_diff_last-median', 'D_142_pchg_max', 'D_42_diff_mean', \n",
    "    'D_42_diff_last-mean', 'D_79_mean_cxty2', 'D_61_median', 'D_82_mean', 'D_39-P_3_max', 'D_79_idxmin', \n",
    "    'D_61_last', 'D_56_pchg_std', 'B_6_max', 'D_79_pchg_std', 'D_39_max', 'B_17-P_2_pchg_lag1', 'D_124_median', \n",
    "    'D_47_pchg_mean', 'D_70_min', 'D_47_min', 'R_9_min', 'D_47_median', 'S_13_diff_last-mean', 'D_39-P_2_max', \n",
    "    'D_122_median', 'D_72_mean', 'D_42_pchg_lag3', 'D_39_idxmin', 'S_7_last', 'D_39_diff_last-first', \n",
    "    'D_61_std', 'S_8_diff_max', 'D_122_last', 'D_39_diff_mean', 'D_56_diff_last-max', 'D_141_mean', \n",
    "    'D_55_idxmin', 'D_124_last', 'D_39-P_2_diff_mean', 'B_40_max', 'D_56_sum_cxty2', 'D_123_max', \n",
    "    'S_22_diff_last-mean', 'D_123_diff_last-first', 'D_39-P_2_pchg_lag1', 'D_63_2_mean', 'B_6_diff_last-mean', \n",
    "    'D_39-P_2_pchg_lag3', 'S_12_diff_lag3', 'B_40_mean', 'B_6_mean', 'D_77_mean_nan', 'B_9_max', \n",
    "    'D_82_last', 'S_12_pchg_lag3', 'D_61_diff_min', 'D_91_min', 'D_62_max', 'D_61_mean_cxty1', \n",
    "    'D_82_max', 'S_3_pchg_std', 'D_39_diff_lag1', 'D_47_mean', 'S_7_median', 'D_47_max', 'D_39_diff_last-min', \n",
    "    'D_47_last', 'D_62_mean', 'D_47_pchg_max', 'D_62_median', 'D_77_max', 'D_39-P_2_diff_lag1', 'S_7_mean', \n",
    "    'S_3_pchg_min', 'D_62_min', 'D_62_last', 'D_39-P_2_last', 'D_66_1_lo', 'D_77_mean', 'S_7_min', \n",
    "    'D_39-P_2_min', 'D_39-P_2_diff_last-min', 'D_39-P_3_last', 'D_39-P_3_diff_last-min', 'D_77_median', \n",
    "    'D_105_diff_lag2', 'B_6_pchg_min', 'S_7_max', 'D_102_diff_last-min', 'D_39_std', 'D_51_mean', \n",
    "    'D_39-P_3_median', 'D_48_idxmin', 'D_39-P_2_median', 'B_38_1_lo', 'D_51_min', 'D_39-P_3_std', \n",
    "    'S_22_diff_last-median', 'S_3_pchg_max', 'B_38_1_mean', 'D_39-P_2_std', 'R_9_mean', 'D_39-P_2_sum_cxty1', \n",
    "    'D_39_mean_cxty1', 'B_16_slope', 'S_3_max', 'B_4_above_mean_cc', 'B_17_min', 'D_56_min', 'D_39-P_3_diff_max', \n",
    "    'S_3_diff_last-max', 'B_9_diff_std', 'S_3_mean', 'S_3_diff_last-mean', 'B_9_std', 'S_3_median', \n",
    "    'D_39-P_2_diff_max', 'D_66_2_mean', 'D_39_diff_max', 'S_3_min', 'D_102_diff_mean', 'S_7_diff_last-max', \n",
    "    'B_9_mean', 'B_9_diff_last-max', 'S_7_diff_last-mean', 'S_7_diff_last-median', 'S_3_diff_std', \n",
    "    'S_3_last', 'S_3_diff_last-min', 'S_3_std', 'S_3_mean_cxty2', 'D_44_min', 'B_9_median', 'S_3_pchg_lag1', \n",
    "    'D_43_mean_cxty1', 'B_40_diff_mean', 'B_12_mean', 'D_46_min', 'S_3_diff_max', 'B_9_diff_mean', \n",
    "    'D_43_diff_std', 'S_8_mean_cxty2', 'D_44_pchg_min', 'D_43_sum_cxty1', 'S_7_diff_lag1', 'B_9_diff_min', \n",
    "    'S_8_slope', 'S_7_mean_cxty1', 'S_3_sum_cxty2', 'S_3_diff_lag1', 'B_1_slope', 'D_44_idxmin', \n",
    "    'B_17-P_2_diff_last-mean', 'D_39-P_3_mean', 'D_39_slope', 'D_78_pchg_mean', 'S_3_idxmax', 'D_61_diff_mean', \n",
    "    'B_16_diff_mean', 'B_9_last', 'B_6_pchg_mean', 'B_25_idxmax', 'P_3_max', 'D_39_mean', 'B_16_diff_last-mean', \n",
    "    'B_33_diff_mean', 'B_9_diff_last-mean', 'D_70_mean', 'R_3_pchg_mean', 'B_9_min', 'B_17-P_2_last', \n",
    "    'D_39-P_2_slope', 'B_3_slope', 'D_102_diff_last-first', 'B_17-P_3_sum_nan', 'D_128_mean_cxty1', \n",
    "    'D_79_pchg_max', 'S_5_diff_lag2', 'B_17-P_2_diff_idxmax', 'D_142_pchg_std', 'B_4_diff_last-first', \n",
    "    'B_17-P_3_mean_nan', 'D_44_diff_mean', 'B_4_diff_mean', 'D_142_sum_cxty2', 'D_44_pchg_mean', 'S_8_last', \n",
    "    'D_43_std', 'S_8_min', 'D_43_diff_last-max', 'B_17_median', 'B_4_pchg_min', 'S_25_max', 'D_43_max', \n",
    "    'S_25_last', 'B_28_idxmax', 'B_13_max', 'D_56_mean', 'B_17_pchg_min', 'B_9_diff_last-first', 'D_56_median', \n",
    "    'B_4_diff_min', 'S_27_diff_lag2', 'B_37_max', 'B_17-P_3_last', 'B_6_median', 'D_132_mean_nan', \n",
    "    'D_39-P_3_slope', 'B_38_7_lo', 'D_56_last', 'D_39-P_3_idxmax', 'B_17_diff_min', 'D_39_diff_last-mean', \n",
    "    'D_56_max', 'D_39-P_2_mean', 'B_38_7_mean', 'B_38_3_mean', 'B_17_mean', 'B_4_pchg_mean', 'B_2_mean_cxty2', \n",
    "    'D_43_diff_lag2', 'B_6_pchg_std', 'D_51_median', 'B_1_max', 'B_6_mean_cxty2', 'D_102_std', 'B_13_mean', \n",
    "    'B_17_mean_cxty1', 'B_6_sum_cxty2', 'D_128_mean', 'B_6_pchg_max', 'S_26_last', 'D_78_pchg_std', \n",
    "    'S_26_diff_last-min', 'D_75_diff_mean', 'B_11-P_3_diff_min', 'D_61_pchg_lag1', 'D_39-P_2_diff_last-mean', \n",
    "    'B_3_min', 'D_39-P_3_diff_last-mean', 'D_50_pchg_max', 'B_9_diff_last-min', 'D_46_idxmax', \n",
    "    'B_10_max', 'D_52_mean', 'D_39-P_3_diff_last-median', 'D_39-P_2_diff_last-median', 'R_3_diff_last-mean', \n",
    "    'D_39_diff_last-median', 'B_9_diff_last-median', 'D_52_max', 'B_12_sum_cxty1', 'B_20_median', \n",
    "    'B_2_max', 'S_23-P_2_idxmax', 'D_39-P_2_idxmax', 'D_52_min', 'D_80_slope', 'D_80_diff_last-mean', \n",
    "    'B_2_mean', 'B_10_mean', 'D_52_last', 'D_48_diff_lag2', 'D_52_median', 'D_74_diff_std', \n",
    "    'S_16-P_2_pchg_lag3', 'D_48_pchg_lag2', 'B_17_slope', 'P_3_min', 'B_40_pchg_mean', 'B_37_mean', \n",
    "    'B_17_diff_max', 'D_52_pchg_min', 'S_23-P_2_pchg_lag3', 'B_1_mean', 'D_48_idxmax', 'D_46_pchg_lag2', \n",
    "    'D_46_pchg_std', 'D_46_mean_cxty2', 'B_9_diff_lag3', 'D_74_mean_cxty1', 'B_2_median', 'B_25_pchg_min', \n",
    "    'B_2_pchg_min', 'D_46_pchg_min', 'D_74_diff_mean', 'D_105_max', 'B_9_idxmax', 'D_43_diff_idxmin', \n",
    "    'B_2_diff_max', 'B_14-P_2_idxmax', 'B_5_max', 'R_3_median', 'B_2_mean_cxty1', 'B_13_median', \n",
    "    'S_16-P_3_diff_min', 'D_78_std', 'B_9_pchg_std', 'B_28_diff_last-max', 'D_43_diff_idxmax', 'B_4_slope', \n",
    "    'B_2_diff_last-mean', 'R_3_mean', 'B_16_diff_std', 'D_43_nan_lpo', 'D_46_idxmin', 'D_44_diff_last-min', \n",
    "    'B_5_mean',]\n",
    "len(top_av_selected)"
   ]
  },
  {
   "cell_type": "code",
   "execution_count": 10,
   "id": "a40c4b4b-195c-41ab-86bf-e9d2ea307ed8",
   "metadata": {},
   "outputs": [
    {
     "data": {
      "text/plain": [
       "100"
      ]
     },
     "execution_count": 10,
     "metadata": {},
     "output_type": "execute_result"
    }
   ],
   "source": [
    "SELECT_TOP = 100\n",
    "\n",
    "to_remove_set02 = top_av_selected[:SELECT_TOP]\n",
    "len(to_remove_set02)"
   ]
  },
  {
   "cell_type": "code",
   "execution_count": 11,
   "id": "215f1439-f153-4e12-9283-cda863d29711",
   "metadata": {
    "tags": []
   },
   "outputs": [
    {
     "data": {
      "text/plain": [
       "159"
      ]
     },
     "execution_count": 11,
     "metadata": {},
     "output_type": "execute_result"
    }
   ],
   "source": [
    "to_remove = to_remove_set01 + to_remove_set02\n",
    "len(to_remove)"
   ]
  },
  {
   "cell_type": "code",
   "execution_count": 12,
   "id": "ad394273-fc32-493f-8839-5faf8447d20e",
   "metadata": {},
   "outputs": [
    {
     "data": {
      "text/plain": [
       "1149"
      ]
     },
     "execution_count": 12,
     "metadata": {},
     "output_type": "execute_result"
    }
   ],
   "source": [
    "selected_features = [feat for feat in selected_set01 if feat not in to_remove]\n",
    "len(selected_features)"
   ]
  },
  {
   "cell_type": "markdown",
   "id": "fcfde91d-5026-412c-8f30-e53536991e12",
   "metadata": {},
   "source": [
    "***\n",
    "## filtering for the selected features"
   ]
  },
  {
   "cell_type": "code",
   "execution_count": 13,
   "id": "bf8b826f-981b-4965-8825-768ab1cf522e",
   "metadata": {},
   "outputs": [
    {
     "name": "stdout",
     "output_type": "stream",
     "text": [
      "test.parquet  train.parquet\n"
     ]
    }
   ],
   "source": [
    "!ls ../data/processed/dsv05"
   ]
  },
  {
   "cell_type": "code",
   "execution_count": 14,
   "id": "303ec96b-6cdf-4a5d-b69f-7d8db83a37b1",
   "metadata": {},
   "outputs": [],
   "source": [
    "train = pd.read_parquet(\"../data/processed/dsv05/train.parquet\", columns=selected_features)\n",
    "test =  pd.read_parquet(\"../data/processed/dsv05/test.parquet\",  columns=selected_features)"
   ]
  },
  {
   "cell_type": "code",
   "execution_count": 15,
   "id": "d9e4ccf7-6818-41ef-b5d0-591da428c791",
   "metadata": {},
   "outputs": [],
   "source": [
    "train.to_parquet(OUT_PATH/\"train.parquet\")\n",
    "test.to_parquet(OUT_PATH/\"test.parquet\")"
   ]
  },
  {
   "cell_type": "markdown",
   "id": "e89b18c3-af8a-447e-93a6-9ee23d79d357",
   "metadata": {},
   "source": [
    "***"
   ]
  }
 ],
 "metadata": {
  "kernelspec": {
   "display_name": "Python 3 (ipykernel)",
   "language": "python",
   "name": "python3"
  },
  "language_info": {
   "codemirror_mode": {
    "name": "ipython",
    "version": 3
   },
   "file_extension": ".py",
   "mimetype": "text/x-python",
   "name": "python",
   "nbconvert_exporter": "python",
   "pygments_lexer": "ipython3",
   "version": "3.7.12"
  }
 },
 "nbformat": 4,
 "nbformat_minor": 5
}
