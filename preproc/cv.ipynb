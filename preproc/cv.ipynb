{
 "cells": [
  {
   "cell_type": "code",
   "execution_count": 1,
   "id": "d3ab6f56-31a7-4c79-821f-224e6bccb044",
   "metadata": {},
   "outputs": [],
   "source": [
    "import numpy as np\n",
    "import pandas as pd\n",
    "from sklearn.model_selection import StratifiedKFold\n",
    "\n",
    "np.random.seed(2112)"
   ]
  },
  {
   "cell_type": "markdown",
   "id": "d15590b6-cb51-4012-86ae-7ff8cd3f4665",
   "metadata": {},
   "source": [
    "***\n",
    "5 different splits for repeated cross validation"
   ]
  },
  {
   "cell_type": "code",
   "execution_count": 2,
   "id": "7735179a-214f-435e-87b6-b34d59d695af",
   "metadata": {},
   "outputs": [
    {
     "name": "stdout",
     "output_type": "stream",
     "text": [
      "<class 'pandas.core.frame.DataFrame'>\n",
      "RangeIndex: 458913 entries, 0 to 458912\n",
      "Data columns (total 2 columns):\n",
      " #   Column       Non-Null Count   Dtype \n",
      "---  ------       --------------   ----- \n",
      " 0   customer_ID  458913 non-null  object\n",
      " 1   target       458913 non-null  int64 \n",
      "dtypes: int64(1), object(1)\n",
      "memory usage: 7.0+ MB\n"
     ]
    }
   ],
   "source": [
    "train_labels = pd.read_csv(\"../data/raw/train_labels.csv\")\n",
    "train_labels.info()"
   ]
  },
  {
   "cell_type": "code",
   "execution_count": 3,
   "id": "1a6d335b-8637-40e8-8da4-e11c11efb333",
   "metadata": {},
   "outputs": [],
   "source": [
    "super_seeds = [2, 7, 11, 23, 2112]"
   ]
  },
  {
   "cell_type": "code",
   "execution_count": 4,
   "id": "c6fbdaaa-b5ff-495f-9bdd-d72a790425d5",
   "metadata": {},
   "outputs": [
    {
     "name": "stdout",
     "output_type": "stream",
     "text": [
      "------------------------------------------------------------------------------------------\n",
      "fold  target\n",
      "0     0         68017\n",
      "      1         23766\n",
      "1     0         68017\n",
      "      1         23766\n",
      "2     0         68017\n",
      "      1         23766\n",
      "3     0         68017\n",
      "      1         23765\n",
      "4     0         68017\n",
      "      1         23765\n",
      "Name: target, dtype: int64\n",
      "------------------------------------------------------------------------------------------\n",
      "fold  target\n",
      "0     0         68017\n",
      "      1         23766\n",
      "1     0         68017\n",
      "      1         23766\n",
      "2     0         68017\n",
      "      1         23766\n",
      "3     0         68017\n",
      "      1         23765\n",
      "4     0         68017\n",
      "      1         23765\n",
      "Name: target, dtype: int64\n",
      "------------------------------------------------------------------------------------------\n",
      "fold  target\n",
      "0     0         68017\n",
      "      1         23766\n",
      "1     0         68017\n",
      "      1         23766\n",
      "2     0         68017\n",
      "      1         23766\n",
      "3     0         68017\n",
      "      1         23765\n",
      "4     0         68017\n",
      "      1         23765\n",
      "Name: target, dtype: int64\n",
      "------------------------------------------------------------------------------------------\n",
      "fold  target\n",
      "0     0         68017\n",
      "      1         23766\n",
      "1     0         68017\n",
      "      1         23766\n",
      "2     0         68017\n",
      "      1         23766\n",
      "3     0         68017\n",
      "      1         23765\n",
      "4     0         68017\n",
      "      1         23765\n",
      "Name: target, dtype: int64\n",
      "------------------------------------------------------------------------------------------\n",
      "fold  target\n",
      "0     0         68017\n",
      "      1         23766\n",
      "1     0         68017\n",
      "      1         23766\n",
      "2     0         68017\n",
      "      1         23766\n",
      "3     0         68017\n",
      "      1         23765\n",
      "4     0         68017\n",
      "      1         23765\n",
      "Name: target, dtype: int64\n"
     ]
    }
   ],
   "source": [
    "all_splits = list()\n",
    "\n",
    "for it,seed in enumerate(super_seeds):\n",
    "    folds = train_labels[[\"customer_ID\"]].copy()\n",
    "    folds[\"fold\"] = -1\n",
    "    \n",
    "    skf = StratifiedKFold(n_splits=5, shuffle=True, random_state=seed)\n",
    "    skf_split = skf.split(train_labels, train_labels[\"target\"].values)\n",
    "    \n",
    "    for fold,(_,valid_idx) in enumerate(skf_split):\n",
    "        folds.loc[valid_idx,\"fold\"] = fold\n",
    "    \n",
    "    # assert that all samples are assigned to one fold\n",
    "    assert len(folds.query(\"fold < 0\")) == 0\n",
    "    \n",
    "    print(\"-\"*90)\n",
    "    print(pd.merge(train_labels, folds).groupby(\"fold\")[\"target\"].value_counts())\n",
    "    \n",
    "    all_splits.append(folds)\n",
    "    folds.to_parquet(f\"../data/processed/cv{it}.parquet\", index=False)"
   ]
  },
  {
   "cell_type": "code",
   "execution_count": 5,
   "id": "ad19d7f9-b93d-40e4-8cb8-a1e33d1bda36",
   "metadata": {},
   "outputs": [
    {
     "data": {
      "text/plain": [
       "False"
      ]
     },
     "execution_count": 5,
     "metadata": {},
     "output_type": "execute_result"
    }
   ],
   "source": [
    "(all_splits[0].fold == all_splits[1].fold).all()"
   ]
  },
  {
   "cell_type": "code",
   "execution_count": 6,
   "id": "88c353bf-b9cc-4003-9e9a-1f40f23597f2",
   "metadata": {},
   "outputs": [
    {
     "data": {
      "text/plain": [
       "False"
      ]
     },
     "execution_count": 6,
     "metadata": {},
     "output_type": "execute_result"
    }
   ],
   "source": [
    "(all_splits[1].fold == all_splits[2].fold).all()"
   ]
  },
  {
   "cell_type": "code",
   "execution_count": 7,
   "id": "99580499-19ea-4550-a942-2066377276d2",
   "metadata": {},
   "outputs": [
    {
     "data": {
      "text/plain": [
       "False"
      ]
     },
     "execution_count": 7,
     "metadata": {},
     "output_type": "execute_result"
    }
   ],
   "source": [
    "(all_splits[2].fold == all_splits[3].fold).all()"
   ]
  },
  {
   "cell_type": "code",
   "execution_count": 8,
   "id": "a8b19407-ff29-4028-b5ad-445550a28968",
   "metadata": {},
   "outputs": [
    {
     "data": {
      "text/plain": [
       "False"
      ]
     },
     "execution_count": 8,
     "metadata": {},
     "output_type": "execute_result"
    }
   ],
   "source": [
    "(all_splits[3].fold == all_splits[4].fold).all()"
   ]
  },
  {
   "cell_type": "markdown",
   "id": "0a9c7563-4a5a-4167-bc1a-06a5c8c723dc",
   "metadata": {},
   "source": [
    "***"
   ]
  }
 ],
 "metadata": {
  "kernelspec": {
   "display_name": "Python 3 (ipykernel)",
   "language": "python",
   "name": "python3"
  },
  "language_info": {
   "codemirror_mode": {
    "name": "ipython",
    "version": 3
   },
   "file_extension": ".py",
   "mimetype": "text/x-python",
   "name": "python",
   "nbconvert_exporter": "python",
   "pygments_lexer": "ipython3",
   "version": "3.7.12"
  }
 },
 "nbformat": 4,
 "nbformat_minor": 5
}
