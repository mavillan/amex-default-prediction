{
 "cells": [
  {
   "cell_type": "code",
   "execution_count": 1,
   "id": "d3ab6f56-31a7-4c79-821f-224e6bccb044",
   "metadata": {},
   "outputs": [],
   "source": [
    "import numpy as np\n",
    "import pandas as pd\n",
    "import random\n",
    "import os\n",
    "from sklearn.model_selection import StratifiedKFold\n",
    "\n",
    "SEED = 2112\n",
    "random.seed(SEED)\n",
    "np.random.seed(SEED)\n",
    "os.environ['PYTHONHASHSEED'] = str(SEED)"
   ]
  },
  {
   "cell_type": "markdown",
   "id": "d15590b6-cb51-4012-86ae-7ff8cd3f4665",
   "metadata": {},
   "source": [
    "***\n",
    "10 different splits for repeated cross validation"
   ]
  },
  {
   "cell_type": "code",
   "execution_count": 2,
   "id": "7735179a-214f-435e-87b6-b34d59d695af",
   "metadata": {},
   "outputs": [
    {
     "name": "stdout",
     "output_type": "stream",
     "text": [
      "<class 'pandas.core.frame.DataFrame'>\n",
      "RangeIndex: 458913 entries, 0 to 458912\n",
      "Data columns (total 2 columns):\n",
      " #   Column       Non-Null Count   Dtype \n",
      "---  ------       --------------   ----- \n",
      " 0   customer_ID  458913 non-null  object\n",
      " 1   target       458913 non-null  int64 \n",
      "dtypes: int64(1), object(1)\n",
      "memory usage: 7.0+ MB\n"
     ]
    }
   ],
   "source": [
    "train_labels = pd.read_csv(\"../data/raw/train_labels.csv\")\n",
    "train_labels.info()"
   ]
  },
  {
   "cell_type": "code",
   "execution_count": 3,
   "id": "f9efede5-9ef9-4499-9502-af3177f5bf6b",
   "metadata": {},
   "outputs": [],
   "source": [
    "#train_labels[\"customer_id\"] = train_labels[\"customer_ID\"].str[-16:].apply(lambda x: int(x, 16))\n",
    "#assert (train_labels.groupby(\"customer_ID\")[\"customer_id\"].nunique() == 1).all()"
   ]
  },
  {
   "cell_type": "code",
   "execution_count": 4,
   "id": "1a6d335b-8637-40e8-8da4-e11c11efb333",
   "metadata": {},
   "outputs": [],
   "source": [
    "super_seeds = [2, 7, 11, 23, 2112, 2222, 3333, 5555, 7777, 11111111]"
   ]
  },
  {
   "cell_type": "code",
   "execution_count": 5,
   "id": "c6fbdaaa-b5ff-495f-9bdd-d72a790425d5",
   "metadata": {},
   "outputs": [
    {
     "name": "stdout",
     "output_type": "stream",
     "text": [
      "------------------------------------------------------------------------------------------\n",
      "fold  target\n",
      "0     0         68017\n",
      "      1         23766\n",
      "1     0         68017\n",
      "      1         23766\n",
      "2     0         68017\n",
      "      1         23766\n",
      "3     0         68017\n",
      "      1         23765\n",
      "4     0         68017\n",
      "      1         23765\n",
      "Name: target, dtype: int64\n",
      "------------------------------------------------------------------------------------------\n",
      "fold  target\n",
      "0     0         68017\n",
      "      1         23766\n",
      "1     0         68017\n",
      "      1         23766\n",
      "2     0         68017\n",
      "      1         23766\n",
      "3     0         68017\n",
      "      1         23765\n",
      "4     0         68017\n",
      "      1         23765\n",
      "Name: target, dtype: int64\n",
      "------------------------------------------------------------------------------------------\n",
      "fold  target\n",
      "0     0         68017\n",
      "      1         23766\n",
      "1     0         68017\n",
      "      1         23766\n",
      "2     0         68017\n",
      "      1         23766\n",
      "3     0         68017\n",
      "      1         23765\n",
      "4     0         68017\n",
      "      1         23765\n",
      "Name: target, dtype: int64\n",
      "------------------------------------------------------------------------------------------\n",
      "fold  target\n",
      "0     0         68017\n",
      "      1         23766\n",
      "1     0         68017\n",
      "      1         23766\n",
      "2     0         68017\n",
      "      1         23766\n",
      "3     0         68017\n",
      "      1         23765\n",
      "4     0         68017\n",
      "      1         23765\n",
      "Name: target, dtype: int64\n",
      "------------------------------------------------------------------------------------------\n",
      "fold  target\n",
      "0     0         68017\n",
      "      1         23766\n",
      "1     0         68017\n",
      "      1         23766\n",
      "2     0         68017\n",
      "      1         23766\n",
      "3     0         68017\n",
      "      1         23765\n",
      "4     0         68017\n",
      "      1         23765\n",
      "Name: target, dtype: int64\n",
      "------------------------------------------------------------------------------------------\n",
      "fold  target\n",
      "0     0         68017\n",
      "      1         23766\n",
      "1     0         68017\n",
      "      1         23766\n",
      "2     0         68017\n",
      "      1         23766\n",
      "3     0         68017\n",
      "      1         23765\n",
      "4     0         68017\n",
      "      1         23765\n",
      "Name: target, dtype: int64\n",
      "------------------------------------------------------------------------------------------\n",
      "fold  target\n",
      "0     0         68017\n",
      "      1         23766\n",
      "1     0         68017\n",
      "      1         23766\n",
      "2     0         68017\n",
      "      1         23766\n",
      "3     0         68017\n",
      "      1         23765\n",
      "4     0         68017\n",
      "      1         23765\n",
      "Name: target, dtype: int64\n",
      "------------------------------------------------------------------------------------------\n",
      "fold  target\n",
      "0     0         68017\n",
      "      1         23766\n",
      "1     0         68017\n",
      "      1         23766\n",
      "2     0         68017\n",
      "      1         23766\n",
      "3     0         68017\n",
      "      1         23765\n",
      "4     0         68017\n",
      "      1         23765\n",
      "Name: target, dtype: int64\n",
      "------------------------------------------------------------------------------------------\n",
      "fold  target\n",
      "0     0         68017\n",
      "      1         23766\n",
      "1     0         68017\n",
      "      1         23766\n",
      "2     0         68017\n",
      "      1         23766\n",
      "3     0         68017\n",
      "      1         23765\n",
      "4     0         68017\n",
      "      1         23765\n",
      "Name: target, dtype: int64\n",
      "------------------------------------------------------------------------------------------\n",
      "fold  target\n",
      "0     0         68017\n",
      "      1         23766\n",
      "1     0         68017\n",
      "      1         23766\n",
      "2     0         68017\n",
      "      1         23766\n",
      "3     0         68017\n",
      "      1         23765\n",
      "4     0         68017\n",
      "      1         23765\n",
      "Name: target, dtype: int64\n"
     ]
    }
   ],
   "source": [
    "all_splits = list()\n",
    "\n",
    "for it,seed in enumerate(super_seeds):\n",
    "    folds = train_labels[[\"customer_ID\"]].copy()\n",
    "    folds[\"fold\"] = -1\n",
    "    \n",
    "    skf = StratifiedKFold(n_splits=5, shuffle=True, random_state=seed)\n",
    "    skf_split = skf.split(train_labels, train_labels[\"target\"].values)\n",
    "    \n",
    "    for fold,(_,valid_idx) in enumerate(skf_split):\n",
    "        folds.loc[valid_idx,\"fold\"] = fold\n",
    "    \n",
    "    # assert that all samples are assigned to one fold\n",
    "    assert len(folds.query(\"fold < 0\")) == 0\n",
    "    \n",
    "    print(\"-\"*90)\n",
    "    print(pd.merge(train_labels, folds).groupby(\"fold\")[\"target\"].value_counts())\n",
    "    \n",
    "    all_splits.append(folds)\n",
    "    folds.to_csv(f\"../data/processed/cv{it}.csv\", index=False)"
   ]
  },
  {
   "cell_type": "code",
   "execution_count": 6,
   "id": "ad19d7f9-b93d-40e4-8cb8-a1e33d1bda36",
   "metadata": {},
   "outputs": [
    {
     "data": {
      "text/plain": [
       "False"
      ]
     },
     "execution_count": 6,
     "metadata": {},
     "output_type": "execute_result"
    }
   ],
   "source": [
    "(all_splits[0].fold == all_splits[1].fold).all()"
   ]
  },
  {
   "cell_type": "code",
   "execution_count": 7,
   "id": "88c353bf-b9cc-4003-9e9a-1f40f23597f2",
   "metadata": {},
   "outputs": [
    {
     "data": {
      "text/plain": [
       "False"
      ]
     },
     "execution_count": 7,
     "metadata": {},
     "output_type": "execute_result"
    }
   ],
   "source": [
    "(all_splits[1].fold == all_splits[2].fold).all()"
   ]
  },
  {
   "cell_type": "code",
   "execution_count": 8,
   "id": "99580499-19ea-4550-a942-2066377276d2",
   "metadata": {},
   "outputs": [
    {
     "data": {
      "text/plain": [
       "False"
      ]
     },
     "execution_count": 8,
     "metadata": {},
     "output_type": "execute_result"
    }
   ],
   "source": [
    "(all_splits[2].fold == all_splits[3].fold).all()"
   ]
  },
  {
   "cell_type": "code",
   "execution_count": 9,
   "id": "a8b19407-ff29-4028-b5ad-445550a28968",
   "metadata": {},
   "outputs": [
    {
     "data": {
      "text/plain": [
       "False"
      ]
     },
     "execution_count": 9,
     "metadata": {},
     "output_type": "execute_result"
    }
   ],
   "source": [
    "(all_splits[3].fold == all_splits[4].fold).all()"
   ]
  },
  {
   "cell_type": "code",
   "execution_count": 10,
   "id": "e1709986-a119-481a-8975-e628caa49123",
   "metadata": {},
   "outputs": [
    {
     "data": {
      "text/plain": [
       "False"
      ]
     },
     "execution_count": 10,
     "metadata": {},
     "output_type": "execute_result"
    }
   ],
   "source": [
    "(all_splits[4].fold == all_splits[5].fold).all()"
   ]
  },
  {
   "cell_type": "code",
   "execution_count": 11,
   "id": "3ee336c9-37d6-429d-bb85-38595bda8ba8",
   "metadata": {},
   "outputs": [
    {
     "data": {
      "text/plain": [
       "False"
      ]
     },
     "execution_count": 11,
     "metadata": {},
     "output_type": "execute_result"
    }
   ],
   "source": [
    "(all_splits[5].fold == all_splits[6].fold).all()"
   ]
  },
  {
   "cell_type": "code",
   "execution_count": 12,
   "id": "52802c87-f700-4ce3-9d1e-a261cd4b5a69",
   "metadata": {},
   "outputs": [
    {
     "data": {
      "text/plain": [
       "False"
      ]
     },
     "execution_count": 12,
     "metadata": {},
     "output_type": "execute_result"
    }
   ],
   "source": [
    "(all_splits[6].fold == all_splits[7].fold).all()"
   ]
  },
  {
   "cell_type": "code",
   "execution_count": 13,
   "id": "5a81ecb2-fde7-4cec-bdf1-7463736c42ac",
   "metadata": {},
   "outputs": [
    {
     "data": {
      "text/plain": [
       "False"
      ]
     },
     "execution_count": 13,
     "metadata": {},
     "output_type": "execute_result"
    }
   ],
   "source": [
    "(all_splits[7].fold == all_splits[8].fold).all()"
   ]
  },
  {
   "cell_type": "code",
   "execution_count": 14,
   "id": "4cdec0da-11cf-4687-8d62-5f27079ac362",
   "metadata": {},
   "outputs": [
    {
     "data": {
      "text/plain": [
       "False"
      ]
     },
     "execution_count": 14,
     "metadata": {},
     "output_type": "execute_result"
    }
   ],
   "source": [
    "(all_splits[8].fold == all_splits[9].fold).all()"
   ]
  },
  {
   "cell_type": "markdown",
   "id": "0a9c7563-4a5a-4167-bc1a-06a5c8c723dc",
   "metadata": {},
   "source": [
    "***"
   ]
  }
 ],
 "metadata": {
  "kernelspec": {
   "display_name": "Python 3 (ipykernel)",
   "language": "python",
   "name": "python3"
  },
  "language_info": {
   "codemirror_mode": {
    "name": "ipython",
    "version": 3
   },
   "file_extension": ".py",
   "mimetype": "text/x-python",
   "name": "python",
   "nbconvert_exporter": "python",
   "pygments_lexer": "ipython3",
   "version": "3.7.12"
  }
 },
 "nbformat": 4,
 "nbformat_minor": 5
}
