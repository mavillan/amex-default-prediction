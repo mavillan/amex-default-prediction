{
 "cells": [
  {
   "cell_type": "code",
   "execution_count": 1,
   "id": "2c1037df",
   "metadata": {
    "_cell_guid": "b1076dfc-b9ad-4769-8c92-a6c4dae69d19",
    "_uuid": "8f2839f25d086af736a60e9eeb907d3b93b6e0e5",
    "execution": {
     "iopub.execute_input": "2022-07-13T20:10:31.733410Z",
     "iopub.status.busy": "2022-07-13T20:10:31.732816Z",
     "iopub.status.idle": "2022-07-13T20:10:32.683105Z",
     "shell.execute_reply": "2022-07-13T20:10:32.682476Z"
    },
    "papermill": {
     "duration": 0.971317,
     "end_time": "2022-07-13T20:10:32.683263",
     "exception": false,
     "start_time": "2022-07-13T20:10:31.711946",
     "status": "completed"
    },
    "tags": []
   },
   "outputs": [
    {
     "data": {
      "text/html": [
       "<style type='text/css'>\n",
       ".datatable table.frame { margin-bottom: 0; }\n",
       ".datatable table.frame thead { border-bottom: none; }\n",
       ".datatable table.frame tr.coltypes td {  color: #FFFFFF;  line-height: 6px;  padding: 0 0.5em;}\n",
       ".datatable .bool    { background: #DDDD99; }\n",
       ".datatable .object  { background: #565656; }\n",
       ".datatable .int     { background: #5D9E5D; }\n",
       ".datatable .float   { background: #4040CC; }\n",
       ".datatable .str     { background: #CC4040; }\n",
       ".datatable .time    { background: #40CC40; }\n",
       ".datatable .row_index {  background: var(--jp-border-color3);  border-right: 1px solid var(--jp-border-color0);  color: var(--jp-ui-font-color3);  font-size: 9px;}\n",
       ".datatable .frame tbody td { text-align: left; }\n",
       ".datatable .frame tr.coltypes .row_index {  background: var(--jp-border-color0);}\n",
       ".datatable th:nth-child(2) { padding-left: 12px; }\n",
       ".datatable .hellipsis {  color: var(--jp-cell-editor-border-color);}\n",
       ".datatable .vellipsis {  background: var(--jp-layout-color0);  color: var(--jp-cell-editor-border-color);}\n",
       ".datatable .na {  color: var(--jp-cell-editor-border-color);  font-size: 80%;}\n",
       ".datatable .sp {  opacity: 0.25;}\n",
       ".datatable .footer { font-size: 9px; }\n",
       ".datatable .frame_dimensions {  background: var(--jp-border-color3);  border-top: 1px solid var(--jp-border-color0);  color: var(--jp-ui-font-color3);  display: inline-block;  opacity: 0.6;  padding: 1px 10px 1px 5px;}\n",
       "</style>\n"
      ],
      "text/plain": [
       "<IPython.core.display.HTML object>"
      ]
     },
     "metadata": {},
     "output_type": "display_data"
    }
   ],
   "source": [
    "import gc\n",
    "from glob import glob\n",
    "import numpy as np\n",
    "import pandas as pd\n",
    "import matplotlib.pyplot as plt\n",
    "from pathlib import Path\n",
    "import time\n",
    "\n",
    "import category_encoders as ce\n",
    "import lightgbm as lgb\n",
    "from sklearn.model_selection import StratifiedKFold\n",
    "from sklearn.preprocessing import StandardScaler\n",
    "from sklearn import metrics\n",
    "\n",
    "import sys\n",
    "sys.path.append(\"../utils\")\n",
    "from metrics import compute_recall_at4, compute_normalized_gini, compute_amex_metric\n",
    "#from messaging import send_message\n",
    "\n",
    "pd.set_option('display.max_columns', None)"
   ]
  },
  {
   "cell_type": "code",
   "execution_count": 2,
   "id": "39c33d3c",
   "metadata": {
    "execution": {
     "iopub.execute_input": "2022-07-13T20:10:32.713815Z",
     "iopub.status.busy": "2022-07-13T20:10:32.713245Z",
     "iopub.status.idle": "2022-07-13T20:10:32.715444Z",
     "shell.execute_reply": "2022-07-13T20:10:32.715026Z"
    },
    "papermill": {
     "duration": 0.019651,
     "end_time": "2022-07-13T20:10:32.715593",
     "exception": false,
     "start_time": "2022-07-13T20:10:32.695942",
     "status": "completed"
    },
    "tags": []
   },
   "outputs": [],
   "source": [
    "# metrics in lgbm format\n",
    "\n",
    "def metric_recall_at4(y_pred: np.ndarray, data: lgb.Dataset):\n",
    "    y_true = data.get_label()\n",
    "    return 'recall_at4', compute_recall_at4(y_true, y_pred), True\n",
    "\n",
    "def metric_normalized_gini(y_pred: np.ndarray, data: lgb.Dataset):\n",
    "    y_true = data.get_label()\n",
    "    return 'norm_gini', compute_normalized_gini(y_true, y_pred), True\n",
    "\n",
    "def metric_amex(y_pred: np.ndarray, data: lgb.Dataset):\n",
    "    y_true = data.get_label()\n",
    "    return 'amex_metric', compute_amex_metric(y_true, y_pred), True"
   ]
  },
  {
   "cell_type": "code",
   "execution_count": 3,
   "id": "595fc244",
   "metadata": {
    "execution": {
     "iopub.execute_input": "2022-07-13T20:10:32.744631Z",
     "iopub.status.busy": "2022-07-13T20:10:32.744050Z",
     "iopub.status.idle": "2022-07-13T20:10:32.745965Z",
     "shell.execute_reply": "2022-07-13T20:10:32.746360Z"
    },
    "papermill": {
     "duration": 0.019373,
     "end_time": "2022-07-13T20:10:32.746513",
     "exception": false,
     "start_time": "2022-07-13T20:10:32.727140",
     "status": "completed"
    },
    "tags": []
   },
   "outputs": [],
   "source": [
    "# CONFIG PARAMS\n",
    "N_REPEATS = 1"
   ]
  },
  {
   "cell_type": "code",
   "execution_count": 4,
   "id": "4a00ed3f",
   "metadata": {
    "execution": {
     "iopub.execute_input": "2022-07-13T20:10:32.774140Z",
     "iopub.status.busy": "2022-07-13T20:10:32.773599Z",
     "iopub.status.idle": "2022-07-13T20:10:32.775239Z",
     "shell.execute_reply": "2022-07-13T20:10:32.775642Z"
    },
    "papermill": {
     "duration": 0.017906,
     "end_time": "2022-07-13T20:10:32.775782",
     "exception": false,
     "start_time": "2022-07-13T20:10:32.757876",
     "status": "completed"
    },
    "tags": []
   },
   "outputs": [],
   "source": [
    "OOF_PATH = Path(\"../data/oof/lgbm-dart-linear-bce-dsv02\")\n",
    "SUB_PATH = Path(\"../data/subs/lgbm-dart-linear-bce-dsv02\")\n",
    "\n",
    "if not OOF_PATH.exists():\n",
    "    OOF_PATH.mkdir(parents=True, exist_ok=True)\n",
    "if not SUB_PATH.exists():\n",
    "    SUB_PATH.mkdir(parents=True, exist_ok=True)"
   ]
  },
  {
   "cell_type": "markdown",
   "id": "76fb892e",
   "metadata": {
    "papermill": {
     "duration": 0.011622,
     "end_time": "2022-07-13T20:10:32.799105",
     "exception": false,
     "start_time": "2022-07-13T20:10:32.787483",
     "status": "completed"
    },
    "tags": []
   },
   "source": [
    "***\n",
    "## load and prepare data"
   ]
  },
  {
   "cell_type": "code",
   "execution_count": 5,
   "id": "8eb0d7a8",
   "metadata": {
    "execution": {
     "iopub.execute_input": "2022-07-13T20:10:32.827588Z",
     "iopub.status.busy": "2022-07-13T20:10:32.826999Z",
     "iopub.status.idle": "2022-07-13T20:10:32.950057Z",
     "shell.execute_reply": "2022-07-13T20:10:32.949581Z"
    },
    "papermill": {
     "duration": 0.139175,
     "end_time": "2022-07-13T20:10:32.950196",
     "exception": false,
     "start_time": "2022-07-13T20:10:32.811021",
     "status": "completed"
    },
    "tags": []
   },
   "outputs": [
    {
     "name": "stdout",
     "output_type": "stream",
     "text": [
      "test.parquet  train.parquet\r\n"
     ]
    }
   ],
   "source": [
    "!ls ../data/processed/dsv02"
   ]
  },
  {
   "cell_type": "code",
   "execution_count": 6,
   "id": "95d3bc1a",
   "metadata": {
    "execution": {
     "iopub.execute_input": "2022-07-13T20:10:32.979152Z",
     "iopub.status.busy": "2022-07-13T20:10:32.976978Z",
     "iopub.status.idle": "2022-07-13T20:10:35.283014Z",
     "shell.execute_reply": "2022-07-13T20:10:35.282491Z"
    },
    "papermill": {
     "duration": 2.320956,
     "end_time": "2022-07-13T20:10:35.283171",
     "exception": false,
     "start_time": "2022-07-13T20:10:32.962215",
     "status": "completed"
    },
    "tags": []
   },
   "outputs": [],
   "source": [
    "train = pd.read_parquet(\"../data/processed/dsv02/train.parquet\")\n",
    "train_labels = pd.read_csv(\"../data/raw/train_labels.csv\", index_col=\"customer_ID\")"
   ]
  },
  {
   "cell_type": "code",
   "execution_count": 7,
   "id": "4db193c9",
   "metadata": {
    "execution": {
     "iopub.execute_input": "2022-07-13T20:10:35.315209Z",
     "iopub.status.busy": "2022-07-13T20:10:35.314595Z",
     "iopub.status.idle": "2022-07-13T20:10:35.317341Z",
     "shell.execute_reply": "2022-07-13T20:10:35.316812Z"
    },
    "papermill": {
     "duration": 0.022066,
     "end_time": "2022-07-13T20:10:35.317458",
     "exception": false,
     "start_time": "2022-07-13T20:10:35.295392",
     "status": "completed"
    },
    "tags": []
   },
   "outputs": [
    {
     "data": {
      "text/plain": [
       "1562"
      ]
     },
     "execution_count": 7,
     "metadata": {},
     "output_type": "execute_result"
    }
   ],
   "source": [
    "input_feats = train.columns.tolist()\n",
    "categ_feats = [\n",
    "    'B_30_first', 'B_38_first', 'D_114_first', 'D_116_first', 'D_117_first', \n",
    "    'D_120_first', 'D_126_first', 'D_63_first', 'D_64_first', 'D_66_first', 'D_68_first',\n",
    "    'B_30_last', 'B_38_last', 'D_114_last', 'D_116_last', 'D_117_last', \n",
    "    'D_120_last', 'D_126_last', 'D_63_last', 'D_64_last', 'D_66_last', 'D_68_last',\n",
    "]\n",
    "numeric_feats = [col for col in input_feats if col not in categ_feats]\n",
    "\n",
    "len(input_feats)"
   ]
  },
  {
   "cell_type": "code",
   "execution_count": 8,
   "id": "19947240",
   "metadata": {
    "execution": {
     "iopub.execute_input": "2022-07-13T20:10:35.580872Z",
     "iopub.status.busy": "2022-07-13T20:10:35.439635Z",
     "iopub.status.idle": "2022-07-13T20:10:37.740086Z",
     "shell.execute_reply": "2022-07-13T20:10:37.740476Z"
    },
    "papermill": {
     "duration": 2.410396,
     "end_time": "2022-07-13T20:10:37.740640",
     "exception": false,
     "start_time": "2022-07-13T20:10:35.330244",
     "status": "completed"
    },
    "tags": []
   },
   "outputs": [
    {
     "data": {
      "text/plain": [
       "102"
      ]
     },
     "execution_count": 8,
     "metadata": {},
     "output_type": "execute_result"
    }
   ],
   "source": [
    "train = pd.merge(train, train_labels, how=\"inner\", left_index=True, right_index=True)\n",
    "del train_labels\n",
    "gc.collect()"
   ]
  },
  {
   "cell_type": "markdown",
   "id": "088be1c9",
   "metadata": {
    "papermill": {
     "duration": 0.012939,
     "end_time": "2022-07-13T20:10:37.766392",
     "exception": false,
     "start_time": "2022-07-13T20:10:37.753453",
     "status": "completed"
    },
    "tags": []
   },
   "source": [
    "***\n",
    "## model training\n",
    "\n",
    "train with repeated cross validation"
   ]
  },
  {
   "cell_type": "code",
   "execution_count": 9,
   "id": "e56cc848",
   "metadata": {
    "execution": {
     "iopub.execute_input": "2022-07-13T20:10:37.798130Z",
     "iopub.status.busy": "2022-07-13T20:10:37.797565Z",
     "iopub.status.idle": "2022-07-13T20:10:37.799361Z",
     "shell.execute_reply": "2022-07-13T20:10:37.799720Z"
    },
    "papermill": {
     "duration": 0.020405,
     "end_time": "2022-07-13T20:10:37.799868",
     "exception": false,
     "start_time": "2022-07-13T20:10:37.779463",
     "status": "completed"
    },
    "tags": []
   },
   "outputs": [],
   "source": [
    "model_params = {\n",
    "    'boosting':'dart',\n",
    "    'linear_tree':True,\n",
    "    'objective': 'binary',\n",
    "    'metric': 'None',\n",
    "    'num_leaves': 31,\n",
    "    'learning_rate': 0.05,\n",
    "    'max_bin': 511,\n",
    "    'bin_construct_sample_cnt': 100000000,\n",
    "    'bagging_freq': 1,\n",
    "    'bagging_fraction': 0.95,\n",
    "    'feature_fraction': 0.15,\n",
    "    'lambda_l1': 10.352308845012756,\n",
    "    'lambda_l2': 1.569788743184169,\n",
    "    'min_data_in_leaf': 3000,\n",
    "    'linear_lambda':10,\n",
    "    #'path_smooth': 30.4965047619009,\n",
    "    'seed': 2112,\n",
    "    'force_col_wise': True,\n",
    "    'feature_pre_filter': False,\n",
    "    'verbosity': -1,\n",
    "}"
   ]
  },
  {
   "cell_type": "code",
   "execution_count": 10,
   "id": "bdd73bf1",
   "metadata": {
    "execution": {
     "iopub.execute_input": "2022-07-13T20:10:37.836572Z",
     "iopub.status.busy": "2022-07-13T20:10:37.836002Z",
     "iopub.status.idle": "2022-07-13T20:10:37.838154Z",
     "shell.execute_reply": "2022-07-13T20:10:37.837696Z"
    },
    "papermill": {
     "duration": 0.02567,
     "end_time": "2022-07-13T20:10:37.838293",
     "exception": false,
     "start_time": "2022-07-13T20:10:37.812623",
     "status": "completed"
    },
    "tags": []
   },
   "outputs": [],
   "source": [
    "def train_models(dataframe: pd.DataFrame, n_folds: int = 5,) -> tuple:\n",
    "    \n",
    "    scalers = list()\n",
    "    models = list()\n",
    "    \n",
    "    # dataframe to store the oof predictions\n",
    "    oof = dataframe[[\"target\"]].copy()\n",
    "    oof[\"pred\"] = -1\n",
    "\n",
    "    for fold in range(n_folds):\n",
    "        \n",
    "        print(f\" training model {fold+1}/{n_folds} \".center(100, \"#\"))\n",
    "        \n",
    "        train_df = dataframe.query(\"fold != @fold\").copy()\n",
    "        valid_df = dataframe.query(\"fold == @fold\").copy()\n",
    "        \n",
    "        scaler = StandardScaler(with_mean=True, with_std=True)\n",
    "        scaler.fit(train_df[numeric_feats].values)\n",
    "        train_df[numeric_feats] = scaler.transform(train_df[numeric_feats].values)\n",
    "        valid_df[numeric_feats] = scaler.transform(valid_df[numeric_feats].values)\n",
    "        \n",
    "        train_dset = lgb.Dataset(\n",
    "            data=train_df.loc[:,input_feats],\n",
    "            label=train_df.loc[:,\"target\"].values,\n",
    "            categorical_feature=categ_feats,\n",
    "            free_raw_data=True,\n",
    "        )\n",
    "        valid_dset = lgb.Dataset(\n",
    "            data=valid_df.loc[:,input_feats],\n",
    "            label=valid_df.loc[:,\"target\"].values,\n",
    "            categorical_feature=categ_feats,\n",
    "            free_raw_data=True,\n",
    "        )\n",
    "        \n",
    "        model = lgb.train(\n",
    "            params=model_params,\n",
    "            train_set=train_dset,\n",
    "            valid_sets=[valid_dset,],\n",
    "            feval=[metric_amex, metric_recall_at4, metric_normalized_gini],\n",
    "            num_boost_round=5000,\n",
    "            callbacks=[lgb.log_evaluation(period=50),],\n",
    "        )\n",
    "        \n",
    "        lgb.plot_importance(model, figsize=(8,15), importance_type=\"split\", max_num_features=30)\n",
    "        lgb.plot_importance(model, figsize=(8,15), importance_type=\"gain\", max_num_features=30)\n",
    "        plt.show()        \n",
    "        \n",
    "        oof.loc[valid_df.index,\"pred\"] = model.predict(valid_df.loc[:,input_feats])\n",
    "        \n",
    "        scalers.append(scaler)\n",
    "        models.append(model)\n",
    "        del train_df,valid_df,train_dset,valid_dset\n",
    "        gc.collect()\n",
    "    \n",
    "    return scalers,models,oof"
   ]
  },
  {
   "cell_type": "code",
   "execution_count": 11,
   "id": "694428d2",
   "metadata": {
    "execution": {
     "iopub.execute_input": "2022-07-13T20:10:37.866142Z",
     "iopub.status.busy": "2022-07-13T20:10:37.865086Z",
     "iopub.status.idle": "2022-07-13T20:10:37.868800Z",
     "shell.execute_reply": "2022-07-13T20:10:37.868372Z"
    },
    "papermill": {
     "duration": 0.017855,
     "end_time": "2022-07-13T20:10:37.868937",
     "exception": false,
     "start_time": "2022-07-13T20:10:37.851082",
     "status": "completed"
    },
    "tags": []
   },
   "outputs": [
    {
     "data": {
      "text/plain": [
       "['../data/processed/cv0.csv',\n",
       " '../data/processed/cv1.csv',\n",
       " '../data/processed/cv2.csv',\n",
       " '../data/processed/cv3.csv',\n",
       " '../data/processed/cv4.csv',\n",
       " '../data/processed/cv5.csv',\n",
       " '../data/processed/cv6.csv',\n",
       " '../data/processed/cv7.csv',\n",
       " '../data/processed/cv8.csv',\n",
       " '../data/processed/cv9.csv']"
      ]
     },
     "execution_count": 11,
     "metadata": {},
     "output_type": "execute_result"
    }
   ],
   "source": [
    "# implement repeated cross validation\n",
    "sorted(glob(\"../data/processed/cv*.csv\"))"
   ]
  },
  {
   "cell_type": "code",
   "execution_count": 12,
   "id": "6c210e3a",
   "metadata": {
    "execution": {
     "iopub.execute_input": "2022-07-13T20:10:37.901716Z",
     "iopub.status.busy": "2022-07-13T20:10:37.901174Z",
     "iopub.status.idle": "2022-07-13T22:51:08.149552Z",
     "shell.execute_reply": "2022-07-13T22:51:08.149104Z"
    },
    "jupyter": {
     "outputs_hidden": true
    },
    "papermill": {
     "duration": 9630.268546,
     "end_time": "2022-07-13T22:51:08.149687",
     "exception": false,
     "start_time": "2022-07-13T20:10:37.881141",
     "status": "completed"
    },
    "tags": []
   },
   "outputs": [
    {
     "name": "stdout",
     "output_type": "stream",
     "text": [
      "############################### repeated cross-validation step: 1/1 ################################\n"
     ]
    },
    {
     "name": "stdout",
     "output_type": "stream",
     "text": [
      "######################################## training model 1/5 ########################################\n"
     ]
    },
    {
     "name": "stderr",
     "output_type": "stream",
     "text": [
      "/opt/conda/lib/python3.7/site-packages/lightgbm/basic.py:2065: UserWarning: Using categorical_feature in Dataset.\n",
      "  _log_warning('Using categorical_feature in Dataset.')\n"
     ]
    },
    {
     "name": "stdout",
     "output_type": "stream",
     "text": [
      "[LightGBM] [Warning] Met negative value in categorical features, will convert it to NaN\n",
      "[LightGBM] [Warning] Met negative value in categorical features, will convert it to NaN\n",
      "[LightGBM] [Warning] Met negative value in categorical features, will convert it to NaN\n",
      "[LightGBM] [Warning] Met negative value in categorical features, will convert it to NaN\n",
      "[LightGBM] [Warning] Met negative value in categorical features, will convert it to NaN\n",
      "[LightGBM] [Warning] Met negative value in categorical features, will convert it to NaN\n",
      "[LightGBM] [Warning] Met negative value in categorical features, will convert it to NaN\n",
      "[LightGBM] [Warning] Met negative value in categorical features, will convert it to NaN\n",
      "[LightGBM] [Warning] Met negative value in categorical features, will convert it to NaN\n",
      "[LightGBM] [Warning] Met negative value in categorical features, will convert it to NaN\n",
      "[LightGBM] [Warning] Met negative value in categorical features, will convert it to NaN\n",
      "[LightGBM] [Warning] Met negative value in categorical features, will convert it to NaN\n",
      "[LightGBM] [Warning] Met negative value in categorical features, will convert it to NaN\n",
      "[LightGBM] [Warning] Met negative value in categorical features, will convert it to NaN\n",
      "[LightGBM] [Warning] Met negative value in categorical features, will convert it to NaN\n",
      "[LightGBM] [Warning] Met negative value in categorical features, will convert it to NaN\n",
      "[LightGBM] [Warning] Met negative value in categorical features, will convert it to NaN\n"
     ]
    },
    {
     "name": "stderr",
     "output_type": "stream",
     "text": [
      "/opt/conda/lib/python3.7/site-packages/lightgbm/basic.py:1780: UserWarning: Overriding the parameters from Reference Dataset.\n",
      "  _log_warning('Overriding the parameters from Reference Dataset.')\n"
     ]
    },
    {
     "name": "stderr",
     "output_type": "stream",
     "text": [
      "/opt/conda/lib/python3.7/site-packages/lightgbm/basic.py:1513: UserWarning: categorical_column in param dict is overridden.\n",
      "  _log_warning(f'{cat_alias} in param dict is overridden.')\n"
     ]
    },
    {
     "name": "stdout",
     "output_type": "stream",
     "text": [
      "[50]\tvalid_0's amex_metric: 0.760688\tvalid_0's recall_at4: 0.616595\tvalid_0's norm_gini: 0.904781\n"
     ]
    },
    {
     "name": "stdout",
     "output_type": "stream",
     "text": [
      "[100]\tvalid_0's amex_metric: 0.767723\tvalid_0's recall_at4: 0.625936\tvalid_0's norm_gini: 0.90951\n"
     ]
    },
    {
     "name": "stdout",
     "output_type": "stream",
     "text": [
      "[150]\tvalid_0's amex_metric: 0.771607\tvalid_0's recall_at4: 0.631448\tvalid_0's norm_gini: 0.911765\n"
     ]
    },
    {
     "name": "stdout",
     "output_type": "stream",
     "text": [
      "[200]\tvalid_0's amex_metric: 0.774153\tvalid_0's recall_at4: 0.635235\tvalid_0's norm_gini: 0.913071\n"
     ]
    },
    {
     "name": "stdout",
     "output_type": "stream",
     "text": [
      "[250]\tvalid_0's amex_metric: 0.776718\tvalid_0's recall_at4: 0.638643\tvalid_0's norm_gini: 0.914793\n"
     ]
    },
    {
     "name": "stdout",
     "output_type": "stream",
     "text": [
      "[300]\tvalid_0's amex_metric: 0.779558\tvalid_0's recall_at4: 0.642893\tvalid_0's norm_gini: 0.916223\n"
     ]
    },
    {
     "name": "stdout",
     "output_type": "stream",
     "text": [
      "[350]\tvalid_0's amex_metric: 0.781869\tvalid_0's recall_at4: 0.646512\tvalid_0's norm_gini: 0.917227\n"
     ]
    },
    {
     "name": "stdout",
     "output_type": "stream",
     "text": [
      "[400]\tvalid_0's amex_metric: 0.782402\tvalid_0's recall_at4: 0.646933\tvalid_0's norm_gini: 0.917871\n"
     ]
    },
    {
     "name": "stdout",
     "output_type": "stream",
     "text": [
      "[450]\tvalid_0's amex_metric: 0.784765\tvalid_0's recall_at4: 0.650551\tvalid_0's norm_gini: 0.918979\n"
     ]
    },
    {
     "name": "stdout",
     "output_type": "stream",
     "text": [
      "[500]\tvalid_0's amex_metric: 0.786675\tvalid_0's recall_at4: 0.653286\tvalid_0's norm_gini: 0.920064\n"
     ]
    },
    {
     "name": "stdout",
     "output_type": "stream",
     "text": [
      "[550]\tvalid_0's amex_metric: 0.788128\tvalid_0's recall_at4: 0.655306\tvalid_0's norm_gini: 0.92095\n"
     ]
    },
    {
     "name": "stdout",
     "output_type": "stream",
     "text": [
      "[600]\tvalid_0's amex_metric: 0.789729\tvalid_0's recall_at4: 0.657704\tvalid_0's norm_gini: 0.921754\n"
     ]
    },
    {
     "name": "stdout",
     "output_type": "stream",
     "text": [
      "[650]\tvalid_0's amex_metric: 0.79047\tvalid_0's recall_at4: 0.658882\tvalid_0's norm_gini: 0.922057\n"
     ]
    },
    {
     "name": "stdout",
     "output_type": "stream",
     "text": [
      "[700]\tvalid_0's amex_metric: 0.79157\tvalid_0's recall_at4: 0.660565\tvalid_0's norm_gini: 0.922574\n"
     ]
    },
    {
     "name": "stdout",
     "output_type": "stream",
     "text": [
      "[750]\tvalid_0's amex_metric: 0.792766\tvalid_0's recall_at4: 0.662669\tvalid_0's norm_gini: 0.922862\n"
     ]
    },
    {
     "name": "stdout",
     "output_type": "stream",
     "text": [
      "[800]\tvalid_0's amex_metric: 0.793567\tvalid_0's recall_at4: 0.663974\tvalid_0's norm_gini: 0.923161\n"
     ]
    },
    {
     "name": "stdout",
     "output_type": "stream",
     "text": [
      "[850]\tvalid_0's amex_metric: 0.793898\tvalid_0's recall_at4: 0.664352\tvalid_0's norm_gini: 0.923444\n"
     ]
    },
    {
     "name": "stdout",
     "output_type": "stream",
     "text": [
      "[900]\tvalid_0's amex_metric: 0.793545\tvalid_0's recall_at4: 0.663385\tvalid_0's norm_gini: 0.923706\n"
     ]
    },
    {
     "name": "stdout",
     "output_type": "stream",
     "text": [
      "[950]\tvalid_0's amex_metric: 0.794342\tvalid_0's recall_at4: 0.664689\tvalid_0's norm_gini: 0.923995\n"
     ]
    },
    {
     "name": "stdout",
     "output_type": "stream",
     "text": [
      "[1000]\tvalid_0's amex_metric: 0.794924\tvalid_0's recall_at4: 0.665657\tvalid_0's norm_gini: 0.924192\n"
     ]
    },
    {
     "name": "stdout",
     "output_type": "stream",
     "text": [
      "[1050]\tvalid_0's amex_metric: 0.795249\tvalid_0's recall_at4: 0.665993\tvalid_0's norm_gini: 0.924505\n"
     ]
    },
    {
     "name": "stdout",
     "output_type": "stream",
     "text": [
      "[1100]\tvalid_0's amex_metric: 0.795749\tvalid_0's recall_at4: 0.666751\tvalid_0's norm_gini: 0.924748\n"
     ]
    },
    {
     "name": "stdout",
     "output_type": "stream",
     "text": [
      "[1150]\tvalid_0's amex_metric: 0.795839\tvalid_0's recall_at4: 0.666751\tvalid_0's norm_gini: 0.924927\n"
     ]
    },
    {
     "name": "stdout",
     "output_type": "stream",
     "text": [
      "[1200]\tvalid_0's amex_metric: 0.795739\tvalid_0's recall_at4: 0.666456\tvalid_0's norm_gini: 0.925022\n"
     ]
    },
    {
     "name": "stdout",
     "output_type": "stream",
     "text": [
      "[1250]\tvalid_0's amex_metric: 0.796637\tvalid_0's recall_at4: 0.668139\tvalid_0's norm_gini: 0.925135\n"
     ]
    },
    {
     "name": "stdout",
     "output_type": "stream",
     "text": [
      "[1300]\tvalid_0's amex_metric: 0.79605\tvalid_0's recall_at4: 0.666961\tvalid_0's norm_gini: 0.925138\n"
     ]
    },
    {
     "name": "stdout",
     "output_type": "stream",
     "text": [
      "[1350]\tvalid_0's amex_metric: 0.796204\tvalid_0's recall_at4: 0.667172\tvalid_0's norm_gini: 0.925236\n"
     ]
    },
    {
     "name": "stdout",
     "output_type": "stream",
     "text": [
      "[1400]\tvalid_0's amex_metric: 0.79684\tvalid_0's recall_at4: 0.668308\tvalid_0's norm_gini: 0.925373\n"
     ]
    },
    {
     "name": "stdout",
     "output_type": "stream",
     "text": [
      "[1450]\tvalid_0's amex_metric: 0.797175\tvalid_0's recall_at4: 0.668855\tvalid_0's norm_gini: 0.925495\n"
     ]
    },
    {
     "name": "stdout",
     "output_type": "stream",
     "text": [
      "[1500]\tvalid_0's amex_metric: 0.797265\tvalid_0's recall_at4: 0.668981\tvalid_0's norm_gini: 0.925548\n"
     ]
    },
    {
     "name": "stdout",
     "output_type": "stream",
     "text": [
      "[1550]\tvalid_0's amex_metric: 0.797743\tvalid_0's recall_at4: 0.669822\tvalid_0's norm_gini: 0.925663\n"
     ]
    },
    {
     "name": "stdout",
     "output_type": "stream",
     "text": [
      "[1600]\tvalid_0's amex_metric: 0.797989\tvalid_0's recall_at4: 0.670201\tvalid_0's norm_gini: 0.925776\n"
     ]
    },
    {
     "name": "stdout",
     "output_type": "stream",
     "text": [
      "[1650]\tvalid_0's amex_metric: 0.798122\tvalid_0's recall_at4: 0.670369\tvalid_0's norm_gini: 0.925874\n"
     ]
    },
    {
     "name": "stdout",
     "output_type": "stream",
     "text": [
      "[1700]\tvalid_0's amex_metric: 0.797838\tvalid_0's recall_at4: 0.669738\tvalid_0's norm_gini: 0.925939\n"
     ]
    },
    {
     "name": "stdout",
     "output_type": "stream",
     "text": [
      "[1750]\tvalid_0's amex_metric: 0.797548\tvalid_0's recall_at4: 0.669107\tvalid_0's norm_gini: 0.92599\n"
     ]
    },
    {
     "name": "stdout",
     "output_type": "stream",
     "text": [
      "[1800]\tvalid_0's amex_metric: 0.797658\tvalid_0's recall_at4: 0.669275\tvalid_0's norm_gini: 0.92604\n"
     ]
    },
    {
     "name": "stdout",
     "output_type": "stream",
     "text": [
      "[1850]\tvalid_0's amex_metric: 0.797806\tvalid_0's recall_at4: 0.669486\tvalid_0's norm_gini: 0.926125\n"
     ]
    },
    {
     "name": "stdout",
     "output_type": "stream",
     "text": [
      "[1900]\tvalid_0's amex_metric: 0.79833\tvalid_0's recall_at4: 0.670496\tvalid_0's norm_gini: 0.926164\n"
     ]
    },
    {
     "name": "stdout",
     "output_type": "stream",
     "text": [
      "[1950]\tvalid_0's amex_metric: 0.797872\tvalid_0's recall_at4: 0.66957\tvalid_0's norm_gini: 0.926174\n"
     ]
    },
    {
     "name": "stdout",
     "output_type": "stream",
     "text": [
      "[2000]\tvalid_0's amex_metric: 0.798471\tvalid_0's recall_at4: 0.670706\tvalid_0's norm_gini: 0.926235\n"
     ]
    },
    {
     "name": "stdout",
     "output_type": "stream",
     "text": [
      "[2050]\tvalid_0's amex_metric: 0.798404\tvalid_0's recall_at4: 0.670496\tvalid_0's norm_gini: 0.926313\n"
     ]
    },
    {
     "name": "stdout",
     "output_type": "stream",
     "text": [
      "[2100]\tvalid_0's amex_metric: 0.798724\tvalid_0's recall_at4: 0.671043\tvalid_0's norm_gini: 0.926406\n"
     ]
    },
    {
     "name": "stdout",
     "output_type": "stream",
     "text": [
      "[2150]\tvalid_0's amex_metric: 0.798983\tvalid_0's recall_at4: 0.671506\tvalid_0's norm_gini: 0.926461\n"
     ]
    },
    {
     "name": "stdout",
     "output_type": "stream",
     "text": [
      "[2200]\tvalid_0's amex_metric: 0.79881\tvalid_0's recall_at4: 0.671127\tvalid_0's norm_gini: 0.926492\n"
     ]
    },
    {
     "name": "stdout",
     "output_type": "stream",
     "text": [
      "[2250]\tvalid_0's amex_metric: 0.799371\tvalid_0's recall_at4: 0.672221\tvalid_0's norm_gini: 0.926522\n"
     ]
    },
    {
     "name": "stdout",
     "output_type": "stream",
     "text": [
      "[2300]\tvalid_0's amex_metric: 0.799116\tvalid_0's recall_at4: 0.671716\tvalid_0's norm_gini: 0.926516\n"
     ]
    },
    {
     "name": "stdout",
     "output_type": "stream",
     "text": [
      "[2350]\tvalid_0's amex_metric: 0.798573\tvalid_0's recall_at4: 0.67058\tvalid_0's norm_gini: 0.926566\n"
     ]
    },
    {
     "name": "stdout",
     "output_type": "stream",
     "text": [
      "[2400]\tvalid_0's amex_metric: 0.798635\tvalid_0's recall_at4: 0.670664\tvalid_0's norm_gini: 0.926606\n"
     ]
    },
    {
     "name": "stdout",
     "output_type": "stream",
     "text": [
      "[2450]\tvalid_0's amex_metric: 0.798411\tvalid_0's recall_at4: 0.670201\tvalid_0's norm_gini: 0.92662\n"
     ]
    },
    {
     "name": "stdout",
     "output_type": "stream",
     "text": [
      "[2500]\tvalid_0's amex_metric: 0.798669\tvalid_0's recall_at4: 0.670706\tvalid_0's norm_gini: 0.926631\n"
     ]
    },
    {
     "name": "stdout",
     "output_type": "stream",
     "text": [
      "[2550]\tvalid_0's amex_metric: 0.798521\tvalid_0's recall_at4: 0.670369\tvalid_0's norm_gini: 0.926672\n"
     ]
    },
    {
     "name": "stdout",
     "output_type": "stream",
     "text": [
      "[2600]\tvalid_0's amex_metric: 0.798671\tvalid_0's recall_at4: 0.670664\tvalid_0's norm_gini: 0.926678\n"
     ]
    },
    {
     "name": "stdout",
     "output_type": "stream",
     "text": [
      "[2650]\tvalid_0's amex_metric: 0.798687\tvalid_0's recall_at4: 0.670664\tvalid_0's norm_gini: 0.926711\n"
     ]
    },
    {
     "name": "stdout",
     "output_type": "stream",
     "text": [
      "[2700]\tvalid_0's amex_metric: 0.798227\tvalid_0's recall_at4: 0.669738\tvalid_0's norm_gini: 0.926716\n"
     ]
    },
    {
     "name": "stdout",
     "output_type": "stream",
     "text": [
      "[2750]\tvalid_0's amex_metric: 0.798081\tvalid_0's recall_at4: 0.669444\tvalid_0's norm_gini: 0.926719\n"
     ]
    },
    {
     "name": "stdout",
     "output_type": "stream",
     "text": [
      "[2800]\tvalid_0's amex_metric: 0.798011\tvalid_0's recall_at4: 0.669275\tvalid_0's norm_gini: 0.926746\n"
     ]
    },
    {
     "name": "stdout",
     "output_type": "stream",
     "text": [
      "[2850]\tvalid_0's amex_metric: 0.798225\tvalid_0's recall_at4: 0.669654\tvalid_0's norm_gini: 0.926796\n"
     ]
    },
    {
     "name": "stdout",
     "output_type": "stream",
     "text": [
      "[2900]\tvalid_0's amex_metric: 0.798944\tvalid_0's recall_at4: 0.671085\tvalid_0's norm_gini: 0.926804\n"
     ]
    },
    {
     "name": "stdout",
     "output_type": "stream",
     "text": [
      "[2950]\tvalid_0's amex_metric: 0.799418\tvalid_0's recall_at4: 0.67201\tvalid_0's norm_gini: 0.926826\n"
     ]
    },
    {
     "name": "stdout",
     "output_type": "stream",
     "text": [
      "[3000]\tvalid_0's amex_metric: 0.799914\tvalid_0's recall_at4: 0.672978\tvalid_0's norm_gini: 0.92685\n"
     ]
    },
    {
     "name": "stdout",
     "output_type": "stream",
     "text": [
      "[3050]\tvalid_0's amex_metric: 0.799526\tvalid_0's recall_at4: 0.672179\tvalid_0's norm_gini: 0.926873\n"
     ]
    },
    {
     "name": "stdout",
     "output_type": "stream",
     "text": [
      "[3100]\tvalid_0's amex_metric: 0.799533\tvalid_0's recall_at4: 0.672221\tvalid_0's norm_gini: 0.926846\n"
     ]
    },
    {
     "name": "stdout",
     "output_type": "stream",
     "text": [
      "[3150]\tvalid_0's amex_metric: 0.798965\tvalid_0's recall_at4: 0.671085\tvalid_0's norm_gini: 0.926845\n"
     ]
    },
    {
     "name": "stdout",
     "output_type": "stream",
     "text": [
      "[3200]\tvalid_0's amex_metric: 0.798487\tvalid_0's recall_at4: 0.670117\tvalid_0's norm_gini: 0.926857\n"
     ]
    },
    {
     "name": "stdout",
     "output_type": "stream",
     "text": [
      "[3250]\tvalid_0's amex_metric: 0.799117\tvalid_0's recall_at4: 0.671379\tvalid_0's norm_gini: 0.926854\n"
     ]
    },
    {
     "name": "stdout",
     "output_type": "stream",
     "text": [
      "[3300]\tvalid_0's amex_metric: 0.798674\tvalid_0's recall_at4: 0.670496\tvalid_0's norm_gini: 0.926853\n"
     ]
    },
    {
     "name": "stdout",
     "output_type": "stream",
     "text": [
      "[3350]\tvalid_0's amex_metric: 0.79877\tvalid_0's recall_at4: 0.670706\tvalid_0's norm_gini: 0.926835\n"
     ]
    },
    {
     "name": "stdout",
     "output_type": "stream",
     "text": [
      "[3400]\tvalid_0's amex_metric: 0.798517\tvalid_0's recall_at4: 0.670201\tvalid_0's norm_gini: 0.926834\n"
     ]
    },
    {
     "name": "stdout",
     "output_type": "stream",
     "text": [
      "[3450]\tvalid_0's amex_metric: 0.797917\tvalid_0's recall_at4: 0.668981\tvalid_0's norm_gini: 0.926854\n"
     ]
    },
    {
     "name": "stdout",
     "output_type": "stream",
     "text": [
      "[3500]\tvalid_0's amex_metric: 0.798341\tvalid_0's recall_at4: 0.669822\tvalid_0's norm_gini: 0.92686\n"
     ]
    },
    {
     "name": "stdout",
     "output_type": "stream",
     "text": [
      "[3550]\tvalid_0's amex_metric: 0.798785\tvalid_0's recall_at4: 0.670706\tvalid_0's norm_gini: 0.926863\n"
     ]
    },
    {
     "name": "stdout",
     "output_type": "stream",
     "text": [
      "[3600]\tvalid_0's amex_metric: 0.799079\tvalid_0's recall_at4: 0.671295\tvalid_0's norm_gini: 0.926863\n"
     ]
    },
    {
     "name": "stdout",
     "output_type": "stream",
     "text": [
      "[3650]\tvalid_0's amex_metric: 0.798748\tvalid_0's recall_at4: 0.670664\tvalid_0's norm_gini: 0.926833\n"
     ]
    },
    {
     "name": "stdout",
     "output_type": "stream",
     "text": [
      "[3700]\tvalid_0's amex_metric: 0.798451\tvalid_0's recall_at4: 0.670075\tvalid_0's norm_gini: 0.926827\n"
     ]
    },
    {
     "name": "stdout",
     "output_type": "stream",
     "text": [
      "[3750]\tvalid_0's amex_metric: 0.798725\tvalid_0's recall_at4: 0.670622\tvalid_0's norm_gini: 0.926829\n"
     ]
    },
    {
     "name": "stdout",
     "output_type": "stream",
     "text": [
      "[3800]\tvalid_0's amex_metric: 0.79838\tvalid_0's recall_at4: 0.669949\tvalid_0's norm_gini: 0.926812\n"
     ]
    },
    {
     "name": "stdout",
     "output_type": "stream",
     "text": [
      "[3850]\tvalid_0's amex_metric: 0.798521\tvalid_0's recall_at4: 0.670243\tvalid_0's norm_gini: 0.926798\n"
     ]
    },
    {
     "name": "stdout",
     "output_type": "stream",
     "text": [
      "[3900]\tvalid_0's amex_metric: 0.798321\tvalid_0's recall_at4: 0.669865\tvalid_0's norm_gini: 0.926778\n"
     ]
    },
    {
     "name": "stdout",
     "output_type": "stream",
     "text": [
      "[3950]\tvalid_0's amex_metric: 0.798618\tvalid_0's recall_at4: 0.670454\tvalid_0's norm_gini: 0.926783\n"
     ]
    },
    {
     "name": "stdout",
     "output_type": "stream",
     "text": [
      "[4000]\tvalid_0's amex_metric: 0.798733\tvalid_0's recall_at4: 0.670664\tvalid_0's norm_gini: 0.926802\n"
     ]
    },
    {
     "name": "stdout",
     "output_type": "stream",
     "text": [
      "[4050]\tvalid_0's amex_metric: 0.799072\tvalid_0's recall_at4: 0.671337\tvalid_0's norm_gini: 0.926806\n"
     ]
    },
    {
     "name": "stdout",
     "output_type": "stream",
     "text": [
      "[4100]\tvalid_0's amex_metric: 0.798583\tvalid_0's recall_at4: 0.670369\tvalid_0's norm_gini: 0.926797\n"
     ]
    },
    {
     "name": "stdout",
     "output_type": "stream",
     "text": [
      "[4150]\tvalid_0's amex_metric: 0.799139\tvalid_0's recall_at4: 0.671506\tvalid_0's norm_gini: 0.926773\n"
     ]
    },
    {
     "name": "stdout",
     "output_type": "stream",
     "text": [
      "[4200]\tvalid_0's amex_metric: 0.798881\tvalid_0's recall_at4: 0.671001\tvalid_0's norm_gini: 0.926762\n"
     ]
    },
    {
     "name": "stdout",
     "output_type": "stream",
     "text": [
      "[4250]\tvalid_0's amex_metric: 0.799438\tvalid_0's recall_at4: 0.672137\tvalid_0's norm_gini: 0.92674\n"
     ]
    },
    {
     "name": "stdout",
     "output_type": "stream",
     "text": [
      "[4300]\tvalid_0's amex_metric: 0.799157\tvalid_0's recall_at4: 0.67159\tvalid_0's norm_gini: 0.926724\n"
     ]
    },
    {
     "name": "stdout",
     "output_type": "stream",
     "text": [
      "[4350]\tvalid_0's amex_metric: 0.798764\tvalid_0's recall_at4: 0.670832\tvalid_0's norm_gini: 0.926696\n"
     ]
    },
    {
     "name": "stdout",
     "output_type": "stream",
     "text": [
      "[4400]\tvalid_0's amex_metric: 0.799103\tvalid_0's recall_at4: 0.671506\tvalid_0's norm_gini: 0.9267\n"
     ]
    },
    {
     "name": "stdout",
     "output_type": "stream",
     "text": [
      "[4450]\tvalid_0's amex_metric: 0.799183\tvalid_0's recall_at4: 0.671674\tvalid_0's norm_gini: 0.926691\n"
     ]
    },
    {
     "name": "stdout",
     "output_type": "stream",
     "text": [
      "[4500]\tvalid_0's amex_metric: 0.798812\tvalid_0's recall_at4: 0.670959\tvalid_0's norm_gini: 0.926666\n"
     ]
    },
    {
     "name": "stdout",
     "output_type": "stream",
     "text": [
      "[4550]\tvalid_0's amex_metric: 0.798929\tvalid_0's recall_at4: 0.671211\tvalid_0's norm_gini: 0.926647\n"
     ]
    },
    {
     "name": "stdout",
     "output_type": "stream",
     "text": [
      "[4600]\tvalid_0's amex_metric: 0.798543\tvalid_0's recall_at4: 0.670454\tvalid_0's norm_gini: 0.926632\n"
     ]
    },
    {
     "name": "stdout",
     "output_type": "stream",
     "text": [
      "[4650]\tvalid_0's amex_metric: 0.798663\tvalid_0's recall_at4: 0.670706\tvalid_0's norm_gini: 0.92662\n"
     ]
    },
    {
     "name": "stdout",
     "output_type": "stream",
     "text": [
      "[4700]\tvalid_0's amex_metric: 0.798813\tvalid_0's recall_at4: 0.671043\tvalid_0's norm_gini: 0.926584\n"
     ]
    },
    {
     "name": "stdout",
     "output_type": "stream",
     "text": [
      "[4750]\tvalid_0's amex_metric: 0.799486\tvalid_0's recall_at4: 0.672389\tvalid_0's norm_gini: 0.926582\n"
     ]
    },
    {
     "name": "stdout",
     "output_type": "stream",
     "text": [
      "[4800]\tvalid_0's amex_metric: 0.799173\tvalid_0's recall_at4: 0.6718\tvalid_0's norm_gini: 0.926545\n"
     ]
    },
    {
     "name": "stdout",
     "output_type": "stream",
     "text": [
      "[4850]\tvalid_0's amex_metric: 0.799015\tvalid_0's recall_at4: 0.671506\tvalid_0's norm_gini: 0.926524\n"
     ]
    },
    {
     "name": "stdout",
     "output_type": "stream",
     "text": [
      "[4900]\tvalid_0's amex_metric: 0.799453\tvalid_0's recall_at4: 0.672389\tvalid_0's norm_gini: 0.926517\n"
     ]
    },
    {
     "name": "stdout",
     "output_type": "stream",
     "text": [
      "[4950]\tvalid_0's amex_metric: 0.798878\tvalid_0's recall_at4: 0.671253\tvalid_0's norm_gini: 0.926503\n"
     ]
    },
    {
     "name": "stdout",
     "output_type": "stream",
     "text": [
      "[5000]\tvalid_0's amex_metric: 0.798887\tvalid_0's recall_at4: 0.671295\tvalid_0's norm_gini: 0.926479\n"
     ]
    },
    {
     "data": {
      "image/png": "[encoded data removed]",
      "text/plain": [
       "<Figure size 576x1080 with 1 Axes>"
      ]
     },
     "metadata": {
      "needs_background": "light"
     },
     "output_type": "display_data"
    },
    {
     "data": {
      "image/png": "[encoded data removed]",
      "text/plain": [
       "<Figure size 576x1080 with 1 Axes>"
      ]
     },
     "metadata": {
      "needs_background": "light"
     },
     "output_type": "display_data"
    },
    {
     "name": "stdout",
     "output_type": "stream",
     "text": [
      "######################################## training model 2/5 ########################################\n"
     ]
    },
    {
     "name": "stderr",
     "output_type": "stream",
     "text": [
      "/opt/conda/lib/python3.7/site-packages/lightgbm/basic.py:2065: UserWarning: Using categorical_feature in Dataset.\n",
      "  _log_warning('Using categorical_feature in Dataset.')\n"
     ]
    },
    {
     "name": "stdout",
     "output_type": "stream",
     "text": [
      "[LightGBM] [Warning] Met negative value in categorical features, will convert it to NaN\n",
      "[LightGBM] [Warning] Met negative value in categorical features, will convert it to NaN\n",
      "[LightGBM] [Warning] Met negative value in categorical features, will convert it to NaN\n",
      "[LightGBM] [Warning] Met negative value in categorical features, will convert it to NaN\n",
      "[LightGBM] [Warning] Met negative value in categorical features, will convert it to NaN\n",
      "[LightGBM] [Warning] Met negative value in categorical features, will convert it to NaN\n",
      "[LightGBM] [Warning] Met negative value in categorical features, will convert it to NaN\n",
      "[LightGBM] [Warning] Met negative value in categorical features, will convert it to NaN\n",
      "[LightGBM] [Warning] Met negative value in categorical features, will convert it to NaN\n",
      "[LightGBM] [Warning] Met negative value in categorical features, will convert it to NaN\n",
      "[LightGBM] [Warning] Met negative value in categorical features, will convert it to NaN\n",
      "[LightGBM] [Warning] Met negative value in categorical features, will convert it to NaN\n",
      "[LightGBM] [Warning] Met negative value in categorical features, will convert it to NaN\n",
      "[LightGBM] [Warning] Met negative value in categorical features, will convert it to NaN\n",
      "[LightGBM] [Warning] Met negative value in categorical features, will convert it to NaN\n",
      "[LightGBM] [Warning] Met negative value in categorical features, will convert it to NaN\n",
      "[LightGBM] [Warning] Met negative value in categorical features, will convert it to NaN\n"
     ]
    },
    {
     "name": "stderr",
     "output_type": "stream",
     "text": [
      "/opt/conda/lib/python3.7/site-packages/lightgbm/basic.py:1780: UserWarning: Overriding the parameters from Reference Dataset.\n",
      "  _log_warning('Overriding the parameters from Reference Dataset.')\n"
     ]
    },
    {
     "name": "stderr",
     "output_type": "stream",
     "text": [
      "/opt/conda/lib/python3.7/site-packages/lightgbm/basic.py:1513: UserWarning: categorical_column in param dict is overridden.\n",
      "  _log_warning(f'{cat_alias} in param dict is overridden.')\n"
     ]
    },
    {
     "name": "stdout",
     "output_type": "stream",
     "text": [
      "[50]\tvalid_0's amex_metric: 0.757708\tvalid_0's recall_at4: 0.611462\tvalid_0's norm_gini: 0.903954\n"
     ]
    },
    {
     "name": "stdout",
     "output_type": "stream",
     "text": [
      "[100]\tvalid_0's amex_metric: 0.764011\tvalid_0's recall_at4: 0.619372\tvalid_0's norm_gini: 0.908649\n"
     ]
    },
    {
     "name": "stdout",
     "output_type": "stream",
     "text": [
      "[150]\tvalid_0's amex_metric: 0.768019\tvalid_0's recall_at4: 0.625431\tvalid_0's norm_gini: 0.910606\n"
     ]
    },
    {
     "name": "stdout",
     "output_type": "stream",
     "text": [
      "[200]\tvalid_0's amex_metric: 0.770203\tvalid_0's recall_at4: 0.628377\tvalid_0's norm_gini: 0.912028\n"
     ]
    },
    {
     "name": "stdout",
     "output_type": "stream",
     "text": [
      "[250]\tvalid_0's amex_metric: 0.773949\tvalid_0's recall_at4: 0.63431\tvalid_0's norm_gini: 0.913589\n"
     ]
    },
    {
     "name": "stdout",
     "output_type": "stream",
     "text": [
      "[300]\tvalid_0's amex_metric: 0.775172\tvalid_0's recall_at4: 0.635319\tvalid_0's norm_gini: 0.915025\n"
     ]
    },
    {
     "name": "stdout",
     "output_type": "stream",
     "text": [
      "[350]\tvalid_0's amex_metric: 0.777904\tvalid_0's recall_at4: 0.639948\tvalid_0's norm_gini: 0.915861\n"
     ]
    },
    {
     "name": "stdout",
     "output_type": "stream",
     "text": [
      "[400]\tvalid_0's amex_metric: 0.778723\tvalid_0's recall_at4: 0.640916\tvalid_0's norm_gini: 0.916531\n"
     ]
    },
    {
     "name": "stdout",
     "output_type": "stream",
     "text": [
      "[450]\tvalid_0's amex_metric: 0.78113\tvalid_0's recall_at4: 0.644618\tvalid_0's norm_gini: 0.917641\n"
     ]
    },
    {
     "name": "stdout",
     "output_type": "stream",
     "text": [
      "[500]\tvalid_0's amex_metric: 0.783818\tvalid_0's recall_at4: 0.64891\tvalid_0's norm_gini: 0.918725\n"
     ]
    },
    {
     "name": "stdout",
     "output_type": "stream",
     "text": [
      "[550]\tvalid_0's amex_metric: 0.786953\tvalid_0's recall_at4: 0.654296\tvalid_0's norm_gini: 0.91961\n"
     ]
    },
    {
     "name": "stdout",
     "output_type": "stream",
     "text": [
      "[600]\tvalid_0's amex_metric: 0.788063\tvalid_0's recall_at4: 0.655643\tvalid_0's norm_gini: 0.920483\n"
     ]
    },
    {
     "name": "stdout",
     "output_type": "stream",
     "text": [
      "[650]\tvalid_0's amex_metric: 0.788357\tvalid_0's recall_at4: 0.655895\tvalid_0's norm_gini: 0.920818\n"
     ]
    },
    {
     "name": "stdout",
     "output_type": "stream",
     "text": [
      "[700]\tvalid_0's amex_metric: 0.789832\tvalid_0's recall_at4: 0.658335\tvalid_0's norm_gini: 0.921328\n"
     ]
    },
    {
     "name": "stdout",
     "output_type": "stream",
     "text": [
      "[750]\tvalid_0's amex_metric: 0.790692\tvalid_0's recall_at4: 0.659724\tvalid_0's norm_gini: 0.92166\n"
     ]
    },
    {
     "name": "stdout",
     "output_type": "stream",
     "text": [
      "[800]\tvalid_0's amex_metric: 0.790456\tvalid_0's recall_at4: 0.658967\tvalid_0's norm_gini: 0.921945\n"
     ]
    },
    {
     "name": "stdout",
     "output_type": "stream",
     "text": [
      "[850]\tvalid_0's amex_metric: 0.790984\tvalid_0's recall_at4: 0.659766\tvalid_0's norm_gini: 0.922202\n"
     ]
    },
    {
     "name": "stdout",
     "output_type": "stream",
     "text": [
      "[900]\tvalid_0's amex_metric: 0.791462\tvalid_0's recall_at4: 0.660439\tvalid_0's norm_gini: 0.922484\n"
     ]
    },
    {
     "name": "stdout",
     "output_type": "stream",
     "text": [
      "[950]\tvalid_0's amex_metric: 0.792133\tvalid_0's recall_at4: 0.661491\tvalid_0's norm_gini: 0.922775\n"
     ]
    },
    {
     "name": "stdout",
     "output_type": "stream",
     "text": [
      "[1000]\tvalid_0's amex_metric: 0.792045\tvalid_0's recall_at4: 0.660944\tvalid_0's norm_gini: 0.923147\n"
     ]
    },
    {
     "name": "stdout",
     "output_type": "stream",
     "text": [
      "[1050]\tvalid_0's amex_metric: 0.792712\tvalid_0's recall_at4: 0.661912\tvalid_0's norm_gini: 0.923512\n"
     ]
    },
    {
     "name": "stdout",
     "output_type": "stream",
     "text": [
      "[1100]\tvalid_0's amex_metric: 0.792991\tvalid_0's recall_at4: 0.662249\tvalid_0's norm_gini: 0.923733\n"
     ]
    },
    {
     "name": "stdout",
     "output_type": "stream",
     "text": [
      "[1150]\tvalid_0's amex_metric: 0.793584\tvalid_0's recall_at4: 0.663258\tvalid_0's norm_gini: 0.923909\n"
     ]
    },
    {
     "name": "stdout",
     "output_type": "stream",
     "text": [
      "[1200]\tvalid_0's amex_metric: 0.794128\tvalid_0's recall_at4: 0.664226\tvalid_0's norm_gini: 0.924029\n"
     ]
    },
    {
     "name": "stdout",
     "output_type": "stream",
     "text": [
      "[1250]\tvalid_0's amex_metric: 0.794755\tvalid_0's recall_at4: 0.66532\tvalid_0's norm_gini: 0.92419\n"
     ]
    },
    {
     "name": "stdout",
     "output_type": "stream",
     "text": [
      "[1300]\tvalid_0's amex_metric: 0.79483\tvalid_0's recall_at4: 0.665404\tvalid_0's norm_gini: 0.924255\n"
     ]
    },
    {
     "name": "stdout",
     "output_type": "stream",
     "text": [
      "[1350]\tvalid_0's amex_metric: 0.795297\tvalid_0's recall_at4: 0.666246\tvalid_0's norm_gini: 0.924348\n"
     ]
    },
    {
     "name": "stdout",
     "output_type": "stream",
     "text": [
      "[1400]\tvalid_0's amex_metric: 0.794892\tvalid_0's recall_at4: 0.66532\tvalid_0's norm_gini: 0.924464\n"
     ]
    },
    {
     "name": "stdout",
     "output_type": "stream",
     "text": [
      "[1450]\tvalid_0's amex_metric: 0.795321\tvalid_0's recall_at4: 0.666036\tvalid_0's norm_gini: 0.924606\n"
     ]
    },
    {
     "name": "stdout",
     "output_type": "stream",
     "text": [
      "[1500]\tvalid_0's amex_metric: 0.795859\tvalid_0's recall_at4: 0.667003\tvalid_0's norm_gini: 0.924715\n"
     ]
    },
    {
     "name": "stdout",
     "output_type": "stream",
     "text": [
      "[1550]\tvalid_0's amex_metric: 0.796502\tvalid_0's recall_at4: 0.668139\tvalid_0's norm_gini: 0.924865\n"
     ]
    },
    {
     "name": "stdout",
     "output_type": "stream",
     "text": [
      "[1600]\tvalid_0's amex_metric: 0.796495\tvalid_0's recall_at4: 0.668013\tvalid_0's norm_gini: 0.924977\n"
     ]
    },
    {
     "name": "stdout",
     "output_type": "stream",
     "text": [
      "[1650]\tvalid_0's amex_metric: 0.796904\tvalid_0's recall_at4: 0.66877\tvalid_0's norm_gini: 0.925037\n"
     ]
    },
    {
     "name": "stdout",
     "output_type": "stream",
     "text": [
      "[1700]\tvalid_0's amex_metric: 0.796675\tvalid_0's recall_at4: 0.668266\tvalid_0's norm_gini: 0.925084\n"
     ]
    },
    {
     "name": "stdout",
     "output_type": "stream",
     "text": [
      "[1750]\tvalid_0's amex_metric: 0.796901\tvalid_0's recall_at4: 0.668644\tvalid_0's norm_gini: 0.925158\n"
     ]
    },
    {
     "name": "stdout",
     "output_type": "stream",
     "text": [
      "[1800]\tvalid_0's amex_metric: 0.797187\tvalid_0's recall_at4: 0.669191\tvalid_0's norm_gini: 0.925183\n"
     ]
    },
    {
     "name": "stdout",
     "output_type": "stream",
     "text": [
      "[1850]\tvalid_0's amex_metric: 0.797412\tvalid_0's recall_at4: 0.669528\tvalid_0's norm_gini: 0.925296\n"
     ]
    },
    {
     "name": "stdout",
     "output_type": "stream",
     "text": [
      "[1900]\tvalid_0's amex_metric: 0.798336\tvalid_0's recall_at4: 0.671379\tvalid_0's norm_gini: 0.925293\n"
     ]
    },
    {
     "name": "stdout",
     "output_type": "stream",
     "text": [
      "[1950]\tvalid_0's amex_metric: 0.797778\tvalid_0's recall_at4: 0.670201\tvalid_0's norm_gini: 0.925355\n"
     ]
    },
    {
     "name": "stdout",
     "output_type": "stream",
     "text": [
      "[2000]\tvalid_0's amex_metric: 0.797604\tvalid_0's recall_at4: 0.669696\tvalid_0's norm_gini: 0.925513\n"
     ]
    },
    {
     "name": "stdout",
     "output_type": "stream",
     "text": [
      "[2050]\tvalid_0's amex_metric: 0.797715\tvalid_0's recall_at4: 0.669822\tvalid_0's norm_gini: 0.925608\n"
     ]
    },
    {
     "name": "stdout",
     "output_type": "stream",
     "text": [
      "[2100]\tvalid_0's amex_metric: 0.798591\tvalid_0's recall_at4: 0.671506\tvalid_0's norm_gini: 0.925676\n"
     ]
    },
    {
     "name": "stdout",
     "output_type": "stream",
     "text": [
      "[2150]\tvalid_0's amex_metric: 0.798188\tvalid_0's recall_at4: 0.670664\tvalid_0's norm_gini: 0.925711\n"
     ]
    },
    {
     "name": "stdout",
     "output_type": "stream",
     "text": [
      "[2200]\tvalid_0's amex_metric: 0.798601\tvalid_0's recall_at4: 0.671463\tvalid_0's norm_gini: 0.925739\n"
     ]
    },
    {
     "name": "stdout",
     "output_type": "stream",
     "text": [
      "[2250]\tvalid_0's amex_metric: 0.798662\tvalid_0's recall_at4: 0.67159\tvalid_0's norm_gini: 0.925733\n"
     ]
    },
    {
     "name": "stdout",
     "output_type": "stream",
     "text": [
      "[2300]\tvalid_0's amex_metric: 0.798952\tvalid_0's recall_at4: 0.672137\tvalid_0's norm_gini: 0.925767\n"
     ]
    },
    {
     "name": "stdout",
     "output_type": "stream",
     "text": [
      "[2350]\tvalid_0's amex_metric: 0.799178\tvalid_0's recall_at4: 0.672557\tvalid_0's norm_gini: 0.9258\n"
     ]
    },
    {
     "name": "stdout",
     "output_type": "stream",
     "text": [
      "[2400]\tvalid_0's amex_metric: 0.799077\tvalid_0's recall_at4: 0.672347\tvalid_0's norm_gini: 0.925807\n"
     ]
    },
    {
     "name": "stdout",
     "output_type": "stream",
     "text": [
      "[2450]\tvalid_0's amex_metric: 0.798908\tvalid_0's recall_at4: 0.671968\tvalid_0's norm_gini: 0.925848\n"
     ]
    },
    {
     "name": "stdout",
     "output_type": "stream",
     "text": [
      "[2500]\tvalid_0's amex_metric: 0.79873\tvalid_0's recall_at4: 0.67159\tvalid_0's norm_gini: 0.925871\n"
     ]
    },
    {
     "name": "stdout",
     "output_type": "stream",
     "text": [
      "[2550]\tvalid_0's amex_metric: 0.798198\tvalid_0's recall_at4: 0.670496\tvalid_0's norm_gini: 0.925901\n"
     ]
    },
    {
     "name": "stdout",
     "output_type": "stream",
     "text": [
      "[2600]\tvalid_0's amex_metric: 0.798366\tvalid_0's recall_at4: 0.67079\tvalid_0's norm_gini: 0.925942\n"
     ]
    },
    {
     "name": "stdout",
     "output_type": "stream",
     "text": [
      "[2650]\tvalid_0's amex_metric: 0.798368\tvalid_0's recall_at4: 0.670832\tvalid_0's norm_gini: 0.925904\n"
     ]
    },
    {
     "name": "stdout",
     "output_type": "stream",
     "text": [
      "[2700]\tvalid_0's amex_metric: 0.798435\tvalid_0's recall_at4: 0.671001\tvalid_0's norm_gini: 0.925869\n"
     ]
    },
    {
     "name": "stdout",
     "output_type": "stream",
     "text": [
      "[2750]\tvalid_0's amex_metric: 0.798402\tvalid_0's recall_at4: 0.670916\tvalid_0's norm_gini: 0.925887\n"
     ]
    },
    {
     "name": "stdout",
     "output_type": "stream",
     "text": [
      "[2800]\tvalid_0's amex_metric: 0.798519\tvalid_0's recall_at4: 0.671169\tvalid_0's norm_gini: 0.92587\n"
     ]
    },
    {
     "name": "stdout",
     "output_type": "stream",
     "text": [
      "[2850]\tvalid_0's amex_metric: 0.798677\tvalid_0's recall_at4: 0.671463\tvalid_0's norm_gini: 0.925891\n"
     ]
    },
    {
     "name": "stdout",
     "output_type": "stream",
     "text": [
      "[2900]\tvalid_0's amex_metric: 0.799273\tvalid_0's recall_at4: 0.672642\tvalid_0's norm_gini: 0.925904\n"
     ]
    },
    {
     "name": "stdout",
     "output_type": "stream",
     "text": [
      "[2950]\tvalid_0's amex_metric: 0.798841\tvalid_0's recall_at4: 0.671758\tvalid_0's norm_gini: 0.925924\n"
     ]
    },
    {
     "name": "stdout",
     "output_type": "stream",
     "text": [
      "[3000]\tvalid_0's amex_metric: 0.799031\tvalid_0's recall_at4: 0.672137\tvalid_0's norm_gini: 0.925925\n"
     ]
    },
    {
     "name": "stdout",
     "output_type": "stream",
     "text": [
      "[3050]\tvalid_0's amex_metric: 0.799586\tvalid_0's recall_at4: 0.673189\tvalid_0's norm_gini: 0.925983\n"
     ]
    },
    {
     "name": "stdout",
     "output_type": "stream",
     "text": [
      "[3100]\tvalid_0's amex_metric: 0.799604\tvalid_0's recall_at4: 0.673189\tvalid_0's norm_gini: 0.926019\n"
     ]
    },
    {
     "name": "stdout",
     "output_type": "stream",
     "text": [
      "[3150]\tvalid_0's amex_metric: 0.798759\tvalid_0's recall_at4: 0.671506\tvalid_0's norm_gini: 0.926012\n"
     ]
    },
    {
     "name": "stdout",
     "output_type": "stream",
     "text": [
      "[3200]\tvalid_0's amex_metric: 0.79875\tvalid_0's recall_at4: 0.671463\tvalid_0's norm_gini: 0.926036\n"
     ]
    },
    {
     "name": "stdout",
     "output_type": "stream",
     "text": [
      "[3250]\tvalid_0's amex_metric: 0.798775\tvalid_0's recall_at4: 0.671506\tvalid_0's norm_gini: 0.926044\n"
     ]
    },
    {
     "name": "stdout",
     "output_type": "stream",
     "text": [
      "[3300]\tvalid_0's amex_metric: 0.798522\tvalid_0's recall_at4: 0.671001\tvalid_0's norm_gini: 0.926043\n"
     ]
    },
    {
     "name": "stdout",
     "output_type": "stream",
     "text": [
      "[3350]\tvalid_0's amex_metric: 0.798343\tvalid_0's recall_at4: 0.670664\tvalid_0's norm_gini: 0.926022\n"
     ]
    },
    {
     "name": "stdout",
     "output_type": "stream",
     "text": [
      "[3400]\tvalid_0's amex_metric: 0.798478\tvalid_0's recall_at4: 0.670959\tvalid_0's norm_gini: 0.925998\n"
     ]
    },
    {
     "name": "stdout",
     "output_type": "stream",
     "text": [
      "[3450]\tvalid_0's amex_metric: 0.79877\tvalid_0's recall_at4: 0.671548\tvalid_0's norm_gini: 0.925993\n"
     ]
    },
    {
     "name": "stdout",
     "output_type": "stream",
     "text": [
      "[3500]\tvalid_0's amex_metric: 0.798801\tvalid_0's recall_at4: 0.671632\tvalid_0's norm_gini: 0.925969\n"
     ]
    },
    {
     "name": "stdout",
     "output_type": "stream",
     "text": [
      "[3550]\tvalid_0's amex_metric: 0.798012\tvalid_0's recall_at4: 0.670033\tvalid_0's norm_gini: 0.92599\n"
     ]
    },
    {
     "name": "stdout",
     "output_type": "stream",
     "text": [
      "[3600]\tvalid_0's amex_metric: 0.798956\tvalid_0's recall_at4: 0.671884\tvalid_0's norm_gini: 0.926028\n"
     ]
    },
    {
     "name": "stdout",
     "output_type": "stream",
     "text": [
      "[3650]\tvalid_0's amex_metric: 0.799048\tvalid_0's recall_at4: 0.672053\tvalid_0's norm_gini: 0.926043\n"
     ]
    },
    {
     "name": "stdout",
     "output_type": "stream",
     "text": [
      "[3700]\tvalid_0's amex_metric: 0.798745\tvalid_0's recall_at4: 0.671463\tvalid_0's norm_gini: 0.926027\n"
     ]
    },
    {
     "name": "stdout",
     "output_type": "stream",
     "text": [
      "[3750]\tvalid_0's amex_metric: 0.798638\tvalid_0's recall_at4: 0.671253\tvalid_0's norm_gini: 0.926022\n"
     ]
    },
    {
     "name": "stdout",
     "output_type": "stream",
     "text": [
      "[3800]\tvalid_0's amex_metric: 0.798758\tvalid_0's recall_at4: 0.671463\tvalid_0's norm_gini: 0.926052\n"
     ]
    },
    {
     "name": "stdout",
     "output_type": "stream",
     "text": [
      "[3850]\tvalid_0's amex_metric: 0.799005\tvalid_0's recall_at4: 0.671968\tvalid_0's norm_gini: 0.926042\n"
     ]
    },
    {
     "name": "stdout",
     "output_type": "stream",
     "text": [
      "[3900]\tvalid_0's amex_metric: 0.798473\tvalid_0's recall_at4: 0.670874\tvalid_0's norm_gini: 0.926071\n"
     ]
    },
    {
     "name": "stdout",
     "output_type": "stream",
     "text": [
      "[3950]\tvalid_0's amex_metric: 0.798002\tvalid_0's recall_at4: 0.669949\tvalid_0's norm_gini: 0.926056\n"
     ]
    },
    {
     "name": "stdout",
     "output_type": "stream",
     "text": [
      "[4000]\tvalid_0's amex_metric: 0.797988\tvalid_0's recall_at4: 0.669907\tvalid_0's norm_gini: 0.926069\n"
     ]
    },
    {
     "name": "stdout",
     "output_type": "stream",
     "text": [
      "[4050]\tvalid_0's amex_metric: 0.79838\tvalid_0's recall_at4: 0.670706\tvalid_0's norm_gini: 0.926053\n"
     ]
    },
    {
     "name": "stdout",
     "output_type": "stream",
     "text": [
      "[4100]\tvalid_0's amex_metric: 0.798345\tvalid_0's recall_at4: 0.670664\tvalid_0's norm_gini: 0.926027\n"
     ]
    },
    {
     "name": "stdout",
     "output_type": "stream",
     "text": [
      "[4150]\tvalid_0's amex_metric: 0.797822\tvalid_0's recall_at4: 0.669612\tvalid_0's norm_gini: 0.926033\n"
     ]
    },
    {
     "name": "stdout",
     "output_type": "stream",
     "text": [
      "[4200]\tvalid_0's amex_metric: 0.797923\tvalid_0's recall_at4: 0.669822\tvalid_0's norm_gini: 0.926023\n"
     ]
    },
    {
     "name": "stdout",
     "output_type": "stream",
     "text": [
      "[4250]\tvalid_0's amex_metric: 0.798651\tvalid_0's recall_at4: 0.671253\tvalid_0's norm_gini: 0.926049\n"
     ]
    },
    {
     "name": "stdout",
     "output_type": "stream",
     "text": [
      "[4300]\tvalid_0's amex_metric: 0.798751\tvalid_0's recall_at4: 0.671463\tvalid_0's norm_gini: 0.926039\n"
     ]
    },
    {
     "name": "stdout",
     "output_type": "stream",
     "text": [
      "[4350]\tvalid_0's amex_metric: 0.798581\tvalid_0's recall_at4: 0.671127\tvalid_0's norm_gini: 0.926035\n"
     ]
    },
    {
     "name": "stdout",
     "output_type": "stream",
     "text": [
      "[4400]\tvalid_0's amex_metric: 0.798623\tvalid_0's recall_at4: 0.671211\tvalid_0's norm_gini: 0.926035\n"
     ]
    },
    {
     "name": "stdout",
     "output_type": "stream",
     "text": [
      "[4450]\tvalid_0's amex_metric: 0.798623\tvalid_0's recall_at4: 0.671211\tvalid_0's norm_gini: 0.926036\n"
     ]
    },
    {
     "name": "stdout",
     "output_type": "stream",
     "text": [
      "[4500]\tvalid_0's amex_metric: 0.798738\tvalid_0's recall_at4: 0.671463\tvalid_0's norm_gini: 0.926012\n"
     ]
    },
    {
     "name": "stdout",
     "output_type": "stream",
     "text": [
      "[4550]\tvalid_0's amex_metric: 0.798541\tvalid_0's recall_at4: 0.671085\tvalid_0's norm_gini: 0.925997\n"
     ]
    },
    {
     "name": "stdout",
     "output_type": "stream",
     "text": [
      "[4600]\tvalid_0's amex_metric: 0.79821\tvalid_0's recall_at4: 0.670412\tvalid_0's norm_gini: 0.926009\n"
     ]
    },
    {
     "name": "stdout",
     "output_type": "stream",
     "text": [
      "[4650]\tvalid_0's amex_metric: 0.798063\tvalid_0's recall_at4: 0.670117\tvalid_0's norm_gini: 0.92601\n"
     ]
    },
    {
     "name": "stdout",
     "output_type": "stream",
     "text": [
      "[4700]\tvalid_0's amex_metric: 0.797916\tvalid_0's recall_at4: 0.669822\tvalid_0's norm_gini: 0.92601\n"
     ]
    },
    {
     "name": "stdout",
     "output_type": "stream",
     "text": [
      "[4750]\tvalid_0's amex_metric: 0.798228\tvalid_0's recall_at4: 0.670454\tvalid_0's norm_gini: 0.926003\n"
     ]
    },
    {
     "name": "stdout",
     "output_type": "stream",
     "text": [
      "[4800]\tvalid_0's amex_metric: 0.798024\tvalid_0's recall_at4: 0.670033\tvalid_0's norm_gini: 0.926015\n"
     ]
    },
    {
     "name": "stdout",
     "output_type": "stream",
     "text": [
      "[4850]\tvalid_0's amex_metric: 0.798181\tvalid_0's recall_at4: 0.670369\tvalid_0's norm_gini: 0.925992\n"
     ]
    },
    {
     "name": "stdout",
     "output_type": "stream",
     "text": [
      "[4900]\tvalid_0's amex_metric: 0.798031\tvalid_0's recall_at4: 0.670075\tvalid_0's norm_gini: 0.925988\n"
     ]
    },
    {
     "name": "stdout",
     "output_type": "stream",
     "text": [
      "[4950]\tvalid_0's amex_metric: 0.798638\tvalid_0's recall_at4: 0.671295\tvalid_0's norm_gini: 0.92598\n"
     ]
    },
    {
     "name": "stdout",
     "output_type": "stream",
     "text": [
      "[5000]\tvalid_0's amex_metric: 0.798522\tvalid_0's recall_at4: 0.671085\tvalid_0's norm_gini: 0.925959\n"
     ]
    },
    {
     "data": {
      "image/png": "[encoded data removed]",
      "text/plain": [
       "<Figure size 576x1080 with 1 Axes>"
      ]
     },
     "metadata": {
      "needs_background": "light"
     },
     "output_type": "display_data"
    },
    {
     "data": {
      "image/png": "[encoded data removed]",
      "text/plain": [
       "<Figure size 576x1080 with 1 Axes>"
      ]
     },
     "metadata": {
      "needs_background": "light"
     },
     "output_type": "display_data"
    },
    {
     "name": "stdout",
     "output_type": "stream",
     "text": [
      "######################################## training model 3/5 ########################################\n"
     ]
    },
    {
     "name": "stderr",
     "output_type": "stream",
     "text": [
      "/opt/conda/lib/python3.7/site-packages/lightgbm/basic.py:2065: UserWarning: Using categorical_feature in Dataset.\n",
      "  _log_warning('Using categorical_feature in Dataset.')\n"
     ]
    },
    {
     "name": "stdout",
     "output_type": "stream",
     "text": [
      "[LightGBM] [Warning] Met negative value in categorical features, will convert it to NaN\n",
      "[LightGBM] [Warning] Met negative value in categorical features, will convert it to NaN\n",
      "[LightGBM] [Warning] Met negative value in categorical features, will convert it to NaN\n",
      "[LightGBM] [Warning] Met negative value in categorical features, will convert it to NaN\n",
      "[LightGBM] [Warning] Met negative value in categorical features, will convert it to NaN\n",
      "[LightGBM] [Warning] Met negative value in categorical features, will convert it to NaN\n",
      "[LightGBM] [Warning] Met negative value in categorical features, will convert it to NaN\n",
      "[LightGBM] [Warning] Met negative value in categorical features, will convert it to NaN\n",
      "[LightGBM] [Warning] Met negative value in categorical features, will convert it to NaN\n",
      "[LightGBM] [Warning] Met negative value in categorical features, will convert it to NaN\n",
      "[LightGBM] [Warning] Met negative value in categorical features, will convert it to NaN\n",
      "[LightGBM] [Warning] Met negative value in categorical features, will convert it to NaN\n",
      "[LightGBM] [Warning] Met negative value in categorical features, will convert it to NaN\n",
      "[LightGBM] [Warning] Met negative value in categorical features, will convert it to NaN\n",
      "[LightGBM] [Warning] Met negative value in categorical features, will convert it to NaN\n",
      "[LightGBM] [Warning] Met negative value in categorical features, will convert it to NaN\n",
      "[LightGBM] [Warning] Met negative value in categorical features, will convert it to NaN\n",
      "[LightGBM] [Warning] Met negative value in categorical features, will convert it to NaN\n"
     ]
    },
    {
     "name": "stderr",
     "output_type": "stream",
     "text": [
      "/opt/conda/lib/python3.7/site-packages/lightgbm/basic.py:1780: UserWarning: Overriding the parameters from Reference Dataset.\n",
      "  _log_warning('Overriding the parameters from Reference Dataset.')\n"
     ]
    },
    {
     "name": "stderr",
     "output_type": "stream",
     "text": [
      "/opt/conda/lib/python3.7/site-packages/lightgbm/basic.py:1513: UserWarning: categorical_column in param dict is overridden.\n",
      "  _log_warning(f'{cat_alias} in param dict is overridden.')\n"
     ]
    },
    {
     "name": "stdout",
     "output_type": "stream",
     "text": [
      "[50]\tvalid_0's amex_metric: 0.753922\tvalid_0's recall_at4: 0.60515\tvalid_0's norm_gini: 0.902694\n"
     ]
    },
    {
     "name": "stdout",
     "output_type": "stream",
     "text": [
      "[100]\tvalid_0's amex_metric: 0.759943\tvalid_0's recall_at4: 0.612177\tvalid_0's norm_gini: 0.90771\n"
     ]
    },
    {
     "name": "stdout",
     "output_type": "stream",
     "text": [
      "[150]\tvalid_0's amex_metric: 0.763238\tvalid_0's recall_at4: 0.616637\tvalid_0's norm_gini: 0.909839\n"
     ]
    },
    {
     "name": "stdout",
     "output_type": "stream",
     "text": [
      "[200]\tvalid_0's amex_metric: 0.767045\tvalid_0's recall_at4: 0.622949\tvalid_0's norm_gini: 0.911142\n"
     ]
    },
    {
     "name": "stdout",
     "output_type": "stream",
     "text": [
      "[250]\tvalid_0's amex_metric: 0.770741\tvalid_0's recall_at4: 0.628755\tvalid_0's norm_gini: 0.912726\n"
     ]
    },
    {
     "name": "stdout",
     "output_type": "stream",
     "text": [
      "[300]\tvalid_0's amex_metric: 0.773103\tvalid_0's recall_at4: 0.632248\tvalid_0's norm_gini: 0.913958\n"
     ]
    },
    {
     "name": "stdout",
     "output_type": "stream",
     "text": [
      "[350]\tvalid_0's amex_metric: 0.774356\tvalid_0's recall_at4: 0.633889\tvalid_0's norm_gini: 0.914823\n"
     ]
    },
    {
     "name": "stdout",
     "output_type": "stream",
     "text": [
      "[400]\tvalid_0's amex_metric: 0.775769\tvalid_0's recall_at4: 0.636161\tvalid_0's norm_gini: 0.915377\n"
     ]
    },
    {
     "name": "stdout",
     "output_type": "stream",
     "text": [
      "[450]\tvalid_0's amex_metric: 0.777971\tvalid_0's recall_at4: 0.639485\tvalid_0's norm_gini: 0.916457\n"
     ]
    },
    {
     "name": "stdout",
     "output_type": "stream",
     "text": [
      "[500]\tvalid_0's amex_metric: 0.780209\tvalid_0's recall_at4: 0.642893\tvalid_0's norm_gini: 0.917525\n"
     ]
    },
    {
     "name": "stdout",
     "output_type": "stream",
     "text": [
      "[550]\tvalid_0's amex_metric: 0.781646\tvalid_0's recall_at4: 0.644913\tvalid_0's norm_gini: 0.918379\n"
     ]
    },
    {
     "name": "stdout",
     "output_type": "stream",
     "text": [
      "[600]\tvalid_0's amex_metric: 0.783211\tvalid_0's recall_at4: 0.647185\tvalid_0's norm_gini: 0.919238\n"
     ]
    },
    {
     "name": "stdout",
     "output_type": "stream",
     "text": [
      "[650]\tvalid_0's amex_metric: 0.784069\tvalid_0's recall_at4: 0.648531\tvalid_0's norm_gini: 0.919606\n"
     ]
    },
    {
     "name": "stdout",
     "output_type": "stream",
     "text": [
      "[700]\tvalid_0's amex_metric: 0.784654\tvalid_0's recall_at4: 0.649205\tvalid_0's norm_gini: 0.920104\n"
     ]
    },
    {
     "name": "stdout",
     "output_type": "stream",
     "text": [
      "[750]\tvalid_0's amex_metric: 0.78546\tvalid_0's recall_at4: 0.650509\tvalid_0's norm_gini: 0.920411\n"
     ]
    },
    {
     "name": "stdout",
     "output_type": "stream",
     "text": [
      "[800]\tvalid_0's amex_metric: 0.785845\tvalid_0's recall_at4: 0.651014\tvalid_0's norm_gini: 0.920676\n"
     ]
    },
    {
     "name": "stdout",
     "output_type": "stream",
     "text": [
      "[850]\tvalid_0's amex_metric: 0.787242\tvalid_0's recall_at4: 0.653497\tvalid_0's norm_gini: 0.920987\n"
     ]
    },
    {
     "name": "stdout",
     "output_type": "stream",
     "text": [
      "[900]\tvalid_0's amex_metric: 0.787708\tvalid_0's recall_at4: 0.654212\tvalid_0's norm_gini: 0.921205\n"
     ]
    },
    {
     "name": "stdout",
     "output_type": "stream",
     "text": [
      "[950]\tvalid_0's amex_metric: 0.788066\tvalid_0's recall_at4: 0.654591\tvalid_0's norm_gini: 0.921541\n"
     ]
    },
    {
     "name": "stdout",
     "output_type": "stream",
     "text": [
      "[1000]\tvalid_0's amex_metric: 0.789078\tvalid_0's recall_at4: 0.656358\tvalid_0's norm_gini: 0.921797\n"
     ]
    },
    {
     "name": "stdout",
     "output_type": "stream",
     "text": [
      "[1050]\tvalid_0's amex_metric: 0.789665\tvalid_0's recall_at4: 0.657199\tvalid_0's norm_gini: 0.92213\n"
     ]
    },
    {
     "name": "stdout",
     "output_type": "stream",
     "text": [
      "[1100]\tvalid_0's amex_metric: 0.790263\tvalid_0's recall_at4: 0.658209\tvalid_0's norm_gini: 0.922317\n"
     ]
    },
    {
     "name": "stdout",
     "output_type": "stream",
     "text": [
      "[1150]\tvalid_0's amex_metric: 0.789923\tvalid_0's recall_at4: 0.657368\tvalid_0's norm_gini: 0.922478\n"
     ]
    },
    {
     "name": "stdout",
     "output_type": "stream",
     "text": [
      "[1200]\tvalid_0's amex_metric: 0.790273\tvalid_0's recall_at4: 0.657957\tvalid_0's norm_gini: 0.922589\n"
     ]
    },
    {
     "name": "stdout",
     "output_type": "stream",
     "text": [
      "[1250]\tvalid_0's amex_metric: 0.790417\tvalid_0's recall_at4: 0.658041\tvalid_0's norm_gini: 0.922793\n"
     ]
    },
    {
     "name": "stdout",
     "output_type": "stream",
     "text": [
      "[1300]\tvalid_0's amex_metric: 0.790406\tvalid_0's recall_at4: 0.657957\tvalid_0's norm_gini: 0.922855\n"
     ]
    },
    {
     "name": "stdout",
     "output_type": "stream",
     "text": [
      "[1350]\tvalid_0's amex_metric: 0.790553\tvalid_0's recall_at4: 0.658125\tvalid_0's norm_gini: 0.922981\n"
     ]
    },
    {
     "name": "stdout",
     "output_type": "stream",
     "text": [
      "[1400]\tvalid_0's amex_metric: 0.790372\tvalid_0's recall_at4: 0.657662\tvalid_0's norm_gini: 0.923082\n"
     ]
    },
    {
     "name": "stdout",
     "output_type": "stream",
     "text": [
      "[1450]\tvalid_0's amex_metric: 0.791032\tvalid_0's recall_at4: 0.658882\tvalid_0's norm_gini: 0.923183\n"
     ]
    },
    {
     "name": "stdout",
     "output_type": "stream",
     "text": [
      "[1500]\tvalid_0's amex_metric: 0.791083\tvalid_0's recall_at4: 0.658882\tvalid_0's norm_gini: 0.923284\n"
     ]
    },
    {
     "name": "stdout",
     "output_type": "stream",
     "text": [
      "[1550]\tvalid_0's amex_metric: 0.791134\tvalid_0's recall_at4: 0.658882\tvalid_0's norm_gini: 0.923387\n"
     ]
    },
    {
     "name": "stdout",
     "output_type": "stream",
     "text": [
      "[1600]\tvalid_0's amex_metric: 0.790999\tvalid_0's recall_at4: 0.658504\tvalid_0's norm_gini: 0.923494\n"
     ]
    },
    {
     "name": "stdout",
     "output_type": "stream",
     "text": [
      "[1650]\tvalid_0's amex_metric: 0.791224\tvalid_0's recall_at4: 0.658882\tvalid_0's norm_gini: 0.923565\n"
     ]
    },
    {
     "name": "stdout",
     "output_type": "stream",
     "text": [
      "[1700]\tvalid_0's amex_metric: 0.791062\tvalid_0's recall_at4: 0.658504\tvalid_0's norm_gini: 0.923621\n"
     ]
    },
    {
     "name": "stdout",
     "output_type": "stream",
     "text": [
      "[1750]\tvalid_0's amex_metric: 0.791347\tvalid_0's recall_at4: 0.659009\tvalid_0's norm_gini: 0.923684\n"
     ]
    },
    {
     "name": "stdout",
     "output_type": "stream",
     "text": [
      "[1800]\tvalid_0's amex_metric: 0.790535\tvalid_0's recall_at4: 0.657368\tvalid_0's norm_gini: 0.923702\n"
     ]
    },
    {
     "name": "stdout",
     "output_type": "stream",
     "text": [
      "[1850]\tvalid_0's amex_metric: 0.791028\tvalid_0's recall_at4: 0.658293\tvalid_0's norm_gini: 0.923762\n"
     ]
    },
    {
     "name": "stdout",
     "output_type": "stream",
     "text": [
      "[1900]\tvalid_0's amex_metric: 0.79097\tvalid_0's recall_at4: 0.658167\tvalid_0's norm_gini: 0.923772\n"
     ]
    },
    {
     "name": "stdout",
     "output_type": "stream",
     "text": [
      "[1950]\tvalid_0's amex_metric: 0.791159\tvalid_0's recall_at4: 0.658504\tvalid_0's norm_gini: 0.923815\n"
     ]
    },
    {
     "name": "stdout",
     "output_type": "stream",
     "text": [
      "[2000]\tvalid_0's amex_metric: 0.790853\tvalid_0's recall_at4: 0.657788\tvalid_0's norm_gini: 0.923918\n"
     ]
    },
    {
     "name": "stdout",
     "output_type": "stream",
     "text": [
      "[2050]\tvalid_0's amex_metric: 0.791878\tvalid_0's recall_at4: 0.659766\tvalid_0's norm_gini: 0.92399\n"
     ]
    },
    {
     "name": "stdout",
     "output_type": "stream",
     "text": [
      "[2100]\tvalid_0's amex_metric: 0.791516\tvalid_0's recall_at4: 0.658967\tvalid_0's norm_gini: 0.924066\n"
     ]
    },
    {
     "name": "stdout",
     "output_type": "stream",
     "text": [
      "[2150]\tvalid_0's amex_metric: 0.791719\tvalid_0's recall_at4: 0.659303\tvalid_0's norm_gini: 0.924134\n"
     ]
    },
    {
     "name": "stdout",
     "output_type": "stream",
     "text": [
      "[2200]\tvalid_0's amex_metric: 0.79131\tvalid_0's recall_at4: 0.65842\tvalid_0's norm_gini: 0.9242\n"
     ]
    },
    {
     "name": "stdout",
     "output_type": "stream",
     "text": [
      "[2250]\tvalid_0's amex_metric: 0.791143\tvalid_0's recall_at4: 0.658041\tvalid_0's norm_gini: 0.924245\n"
     ]
    },
    {
     "name": "stdout",
     "output_type": "stream",
     "text": [
      "[2300]\tvalid_0's amex_metric: 0.791649\tvalid_0's recall_at4: 0.659051\tvalid_0's norm_gini: 0.924247\n"
     ]
    },
    {
     "name": "stdout",
     "output_type": "stream",
     "text": [
      "[2350]\tvalid_0's amex_metric: 0.792041\tvalid_0's recall_at4: 0.659808\tvalid_0's norm_gini: 0.924274\n"
     ]
    },
    {
     "name": "stdout",
     "output_type": "stream",
     "text": [
      "[2400]\tvalid_0's amex_metric: 0.791994\tvalid_0's recall_at4: 0.659682\tvalid_0's norm_gini: 0.924306\n"
     ]
    },
    {
     "name": "stdout",
     "output_type": "stream",
     "text": [
      "[2450]\tvalid_0's amex_metric: 0.791988\tvalid_0's recall_at4: 0.659682\tvalid_0's norm_gini: 0.924295\n"
     ]
    },
    {
     "name": "stdout",
     "output_type": "stream",
     "text": [
      "[2500]\tvalid_0's amex_metric: 0.791592\tvalid_0's recall_at4: 0.658882\tvalid_0's norm_gini: 0.924301\n"
     ]
    },
    {
     "name": "stdout",
     "output_type": "stream",
     "text": [
      "[2550]\tvalid_0's amex_metric: 0.791354\tvalid_0's recall_at4: 0.658378\tvalid_0's norm_gini: 0.92433\n"
     ]
    },
    {
     "name": "stdout",
     "output_type": "stream",
     "text": [
      "[2600]\tvalid_0's amex_metric: 0.791885\tvalid_0's recall_at4: 0.659429\tvalid_0's norm_gini: 0.924341\n"
     ]
    },
    {
     "name": "stdout",
     "output_type": "stream",
     "text": [
      "[2650]\tvalid_0's amex_metric: 0.790882\tvalid_0's recall_at4: 0.657452\tvalid_0's norm_gini: 0.924313\n"
     ]
    },
    {
     "name": "stdout",
     "output_type": "stream",
     "text": [
      "[2700]\tvalid_0's amex_metric: 0.791017\tvalid_0's recall_at4: 0.657704\tvalid_0's norm_gini: 0.924329\n"
     ]
    },
    {
     "name": "stdout",
     "output_type": "stream",
     "text": [
      "[2750]\tvalid_0's amex_metric: 0.790896\tvalid_0's recall_at4: 0.657452\tvalid_0's norm_gini: 0.924341\n"
     ]
    },
    {
     "name": "stdout",
     "output_type": "stream",
     "text": [
      "[2800]\tvalid_0's amex_metric: 0.790779\tvalid_0's recall_at4: 0.657199\tvalid_0's norm_gini: 0.924359\n"
     ]
    },
    {
     "name": "stdout",
     "output_type": "stream",
     "text": [
      "[2850]\tvalid_0's amex_metric: 0.791171\tvalid_0's recall_at4: 0.657999\tvalid_0's norm_gini: 0.924343\n"
     ]
    },
    {
     "name": "stdout",
     "output_type": "stream",
     "text": [
      "[2900]\tvalid_0's amex_metric: 0.791456\tvalid_0's recall_at4: 0.658546\tvalid_0's norm_gini: 0.924365\n"
     ]
    },
    {
     "name": "stdout",
     "output_type": "stream",
     "text": [
      "[2950]\tvalid_0's amex_metric: 0.791253\tvalid_0's recall_at4: 0.658167\tvalid_0's norm_gini: 0.924338\n"
     ]
    },
    {
     "name": "stdout",
     "output_type": "stream",
     "text": [
      "[3000]\tvalid_0's amex_metric: 0.792038\tvalid_0's recall_at4: 0.659724\tvalid_0's norm_gini: 0.924352\n"
     ]
    },
    {
     "name": "stdout",
     "output_type": "stream",
     "text": [
      "[3050]\tvalid_0's amex_metric: 0.791871\tvalid_0's recall_at4: 0.659387\tvalid_0's norm_gini: 0.924354\n"
     ]
    },
    {
     "name": "stdout",
     "output_type": "stream",
     "text": [
      "[3100]\tvalid_0's amex_metric: 0.791193\tvalid_0's recall_at4: 0.658041\tvalid_0's norm_gini: 0.924345\n"
     ]
    },
    {
     "name": "stdout",
     "output_type": "stream",
     "text": [
      "[3150]\tvalid_0's amex_metric: 0.792055\tvalid_0's recall_at4: 0.659724\tvalid_0's norm_gini: 0.924387\n"
     ]
    },
    {
     "name": "stdout",
     "output_type": "stream",
     "text": [
      "[3200]\tvalid_0's amex_metric: 0.792165\tvalid_0's recall_at4: 0.659976\tvalid_0's norm_gini: 0.924353\n"
     ]
    },
    {
     "name": "stdout",
     "output_type": "stream",
     "text": [
      "[3250]\tvalid_0's amex_metric: 0.791671\tvalid_0's recall_at4: 0.658967\tvalid_0's norm_gini: 0.924375\n"
     ]
    },
    {
     "name": "stdout",
     "output_type": "stream",
     "text": [
      "[3300]\tvalid_0's amex_metric: 0.791517\tvalid_0's recall_at4: 0.658714\tvalid_0's norm_gini: 0.92432\n"
     ]
    },
    {
     "name": "stdout",
     "output_type": "stream",
     "text": [
      "[3350]\tvalid_0's amex_metric: 0.791572\tvalid_0's recall_at4: 0.658798\tvalid_0's norm_gini: 0.924347\n"
     ]
    },
    {
     "name": "stdout",
     "output_type": "stream",
     "text": [
      "[3400]\tvalid_0's amex_metric: 0.792049\tvalid_0's recall_at4: 0.659766\tvalid_0's norm_gini: 0.924333\n"
     ]
    },
    {
     "name": "stdout",
     "output_type": "stream",
     "text": [
      "[3450]\tvalid_0's amex_metric: 0.791373\tvalid_0's recall_at4: 0.658378\tvalid_0's norm_gini: 0.924369\n"
     ]
    },
    {
     "name": "stdout",
     "output_type": "stream",
     "text": [
      "[3500]\tvalid_0's amex_metric: 0.79224\tvalid_0's recall_at4: 0.660103\tvalid_0's norm_gini: 0.924377\n"
     ]
    },
    {
     "name": "stdout",
     "output_type": "stream",
     "text": [
      "[3550]\tvalid_0's amex_metric: 0.792272\tvalid_0's recall_at4: 0.660187\tvalid_0's norm_gini: 0.924357\n"
     ]
    },
    {
     "name": "stdout",
     "output_type": "stream",
     "text": [
      "[3600]\tvalid_0's amex_metric: 0.792001\tvalid_0's recall_at4: 0.65964\tvalid_0's norm_gini: 0.924362\n"
     ]
    },
    {
     "name": "stdout",
     "output_type": "stream",
     "text": [
      "[3650]\tvalid_0's amex_metric: 0.79249\tvalid_0's recall_at4: 0.660565\tvalid_0's norm_gini: 0.924415\n"
     ]
    },
    {
     "name": "stdout",
     "output_type": "stream",
     "text": [
      "[3700]\tvalid_0's amex_metric: 0.792355\tvalid_0's recall_at4: 0.660313\tvalid_0's norm_gini: 0.924397\n"
     ]
    },
    {
     "name": "stdout",
     "output_type": "stream",
     "text": [
      "[3750]\tvalid_0's amex_metric: 0.792311\tvalid_0's recall_at4: 0.660229\tvalid_0's norm_gini: 0.924394\n"
     ]
    },
    {
     "name": "stdout",
     "output_type": "stream",
     "text": [
      "[3800]\tvalid_0's amex_metric: 0.792492\tvalid_0's recall_at4: 0.660608\tvalid_0's norm_gini: 0.924376\n"
     ]
    },
    {
     "name": "stdout",
     "output_type": "stream",
     "text": [
      "[3850]\tvalid_0's amex_metric: 0.793239\tvalid_0's recall_at4: 0.66208\tvalid_0's norm_gini: 0.924398\n"
     ]
    },
    {
     "name": "stdout",
     "output_type": "stream",
     "text": [
      "[3900]\tvalid_0's amex_metric: 0.792912\tvalid_0's recall_at4: 0.661407\tvalid_0's norm_gini: 0.924416\n"
     ]
    },
    {
     "name": "stdout",
     "output_type": "stream",
     "text": [
      "[3950]\tvalid_0's amex_metric: 0.792603\tvalid_0's recall_at4: 0.660776\tvalid_0's norm_gini: 0.92443\n"
     ]
    },
    {
     "name": "stdout",
     "output_type": "stream",
     "text": [
      "[4000]\tvalid_0's amex_metric: 0.79275\tvalid_0's recall_at4: 0.66107\tvalid_0's norm_gini: 0.92443\n"
     ]
    },
    {
     "name": "stdout",
     "output_type": "stream",
     "text": [
      "[4050]\tvalid_0's amex_metric: 0.792503\tvalid_0's recall_at4: 0.660565\tvalid_0's norm_gini: 0.924441\n"
     ]
    },
    {
     "name": "stdout",
     "output_type": "stream",
     "text": [
      "[4100]\tvalid_0's amex_metric: 0.79222\tvalid_0's recall_at4: 0.660019\tvalid_0's norm_gini: 0.924422\n"
     ]
    },
    {
     "name": "stdout",
     "output_type": "stream",
     "text": [
      "[4150]\tvalid_0's amex_metric: 0.792625\tvalid_0's recall_at4: 0.660818\tvalid_0's norm_gini: 0.924431\n"
     ]
    },
    {
     "name": "stdout",
     "output_type": "stream",
     "text": [
      "[4200]\tvalid_0's amex_metric: 0.792903\tvalid_0's recall_at4: 0.661365\tvalid_0's norm_gini: 0.924442\n"
     ]
    },
    {
     "name": "stdout",
     "output_type": "stream",
     "text": [
      "[4250]\tvalid_0's amex_metric: 0.792732\tvalid_0's recall_at4: 0.661028\tvalid_0's norm_gini: 0.924436\n"
     ]
    },
    {
     "name": "stdout",
     "output_type": "stream",
     "text": [
      "[4300]\tvalid_0's amex_metric: 0.792685\tvalid_0's recall_at4: 0.660944\tvalid_0's norm_gini: 0.924427\n"
     ]
    },
    {
     "name": "stdout",
     "output_type": "stream",
     "text": [
      "[4350]\tvalid_0's amex_metric: 0.792314\tvalid_0's recall_at4: 0.660187\tvalid_0's norm_gini: 0.924441\n"
     ]
    },
    {
     "name": "stdout",
     "output_type": "stream",
     "text": [
      "[4400]\tvalid_0's amex_metric: 0.792201\tvalid_0's recall_at4: 0.659976\tvalid_0's norm_gini: 0.924426\n"
     ]
    },
    {
     "name": "stdout",
     "output_type": "stream",
     "text": [
      "[4450]\tvalid_0's amex_metric: 0.79179\tvalid_0's recall_at4: 0.659135\tvalid_0's norm_gini: 0.924446\n"
     ]
    },
    {
     "name": "stdout",
     "output_type": "stream",
     "text": [
      "[4500]\tvalid_0's amex_metric: 0.792057\tvalid_0's recall_at4: 0.65964\tvalid_0's norm_gini: 0.924474\n"
     ]
    },
    {
     "name": "stdout",
     "output_type": "stream",
     "text": [
      "[4550]\tvalid_0's amex_metric: 0.791669\tvalid_0's recall_at4: 0.658882\tvalid_0's norm_gini: 0.924456\n"
     ]
    },
    {
     "name": "stdout",
     "output_type": "stream",
     "text": [
      "[4600]\tvalid_0's amex_metric: 0.792208\tvalid_0's recall_at4: 0.659976\tvalid_0's norm_gini: 0.924439\n"
     ]
    },
    {
     "name": "stdout",
     "output_type": "stream",
     "text": [
      "[4650]\tvalid_0's amex_metric: 0.792511\tvalid_0's recall_at4: 0.660608\tvalid_0's norm_gini: 0.924415\n"
     ]
    },
    {
     "name": "stdout",
     "output_type": "stream",
     "text": [
      "[4700]\tvalid_0's amex_metric: 0.792473\tvalid_0's recall_at4: 0.660523\tvalid_0's norm_gini: 0.924422\n"
     ]
    },
    {
     "name": "stdout",
     "output_type": "stream",
     "text": [
      "[4750]\tvalid_0's amex_metric: 0.792436\tvalid_0's recall_at4: 0.660439\tvalid_0's norm_gini: 0.924433\n"
     ]
    },
    {
     "name": "stdout",
     "output_type": "stream",
     "text": [
      "[4800]\tvalid_0's amex_metric: 0.792577\tvalid_0's recall_at4: 0.660734\tvalid_0's norm_gini: 0.92442\n"
     ]
    },
    {
     "name": "stdout",
     "output_type": "stream",
     "text": [
      "[4850]\tvalid_0's amex_metric: 0.79239\tvalid_0's recall_at4: 0.660397\tvalid_0's norm_gini: 0.924383\n"
     ]
    },
    {
     "name": "stdout",
     "output_type": "stream",
     "text": [
      "[4900]\tvalid_0's amex_metric: 0.792238\tvalid_0's recall_at4: 0.660103\tvalid_0's norm_gini: 0.924373\n"
     ]
    },
    {
     "name": "stdout",
     "output_type": "stream",
     "text": [
      "[4950]\tvalid_0's amex_metric: 0.791933\tvalid_0's recall_at4: 0.659514\tvalid_0's norm_gini: 0.924352\n"
     ]
    },
    {
     "name": "stdout",
     "output_type": "stream",
     "text": [
      "[5000]\tvalid_0's amex_metric: 0.792099\tvalid_0's recall_at4: 0.659892\tvalid_0's norm_gini: 0.924306\n"
     ]
    },
    {
     "data": {
      "image/png": "[encoded data removed]",
      "text/plain": [
       "<Figure size 576x1080 with 1 Axes>"
      ]
     },
     "metadata": {
      "needs_background": "light"
     },
     "output_type": "display_data"
    },
    {
     "data": {
      "image/png": "[encoded data removed]",
      "text/plain": [
       "<Figure size 576x1080 with 1 Axes>"
      ]
     },
     "metadata": {
      "needs_background": "light"
     },
     "output_type": "display_data"
    },
    {
     "name": "stdout",
     "output_type": "stream",
     "text": [
      "######################################## training model 4/5 ########################################\n"
     ]
    },
    {
     "name": "stderr",
     "output_type": "stream",
     "text": [
      "/opt/conda/lib/python3.7/site-packages/lightgbm/basic.py:2065: UserWarning: Using categorical_feature in Dataset.\n",
      "  _log_warning('Using categorical_feature in Dataset.')\n"
     ]
    },
    {
     "name": "stdout",
     "output_type": "stream",
     "text": [
      "[LightGBM] [Warning] Met negative value in categorical features, will convert it to NaN\n",
      "[LightGBM] [Warning] Met negative value in categorical features, will convert it to NaN\n",
      "[LightGBM] [Warning] Met negative value in categorical features, will convert it to NaN\n",
      "[LightGBM] [Warning] Met negative value in categorical features, will convert it to NaN\n",
      "[LightGBM] [Warning] Met negative value in categorical features, will convert it to NaN\n",
      "[LightGBM] [Warning] Met negative value in categorical features, will convert it to NaN\n",
      "[LightGBM] [Warning] Met negative value in categorical features, will convert it to NaN\n",
      "[LightGBM] [Warning] Met negative value in categorical features, will convert it to NaN\n",
      "[LightGBM] [Warning] Met negative value in categorical features, will convert it to NaN\n",
      "[LightGBM] [Warning] Met negative value in categorical features, will convert it to NaN\n",
      "[LightGBM] [Warning] Met negative value in categorical features, will convert it to NaN\n",
      "[LightGBM] [Warning] Met negative value in categorical features, will convert it to NaN\n",
      "[LightGBM] [Warning] Met negative value in categorical features, will convert it to NaN\n",
      "[LightGBM] [Warning] Met negative value in categorical features, will convert it to NaN\n",
      "[LightGBM] [Warning] Met negative value in categorical features, will convert it to NaN\n",
      "[LightGBM] [Warning] Met negative value in categorical features, will convert it to NaN\n",
      "[LightGBM] [Warning] Met negative value in categorical features, will convert it to NaN\n",
      "[LightGBM] [Warning] Met negative value in categorical features, will convert it to NaN\n"
     ]
    },
    {
     "name": "stderr",
     "output_type": "stream",
     "text": [
      "/opt/conda/lib/python3.7/site-packages/lightgbm/basic.py:1780: UserWarning: Overriding the parameters from Reference Dataset.\n",
      "  _log_warning('Overriding the parameters from Reference Dataset.')\n"
     ]
    },
    {
     "name": "stderr",
     "output_type": "stream",
     "text": [
      "/opt/conda/lib/python3.7/site-packages/lightgbm/basic.py:1513: UserWarning: categorical_column in param dict is overridden.\n",
      "  _log_warning(f'{cat_alias} in param dict is overridden.')\n"
     ]
    },
    {
     "name": "stdout",
     "output_type": "stream",
     "text": [
      "[50]\tvalid_0's amex_metric: 0.75374\tvalid_0's recall_at4: 0.605302\tvalid_0's norm_gini: 0.902179\n"
     ]
    },
    {
     "name": "stdout",
     "output_type": "stream",
     "text": [
      "[100]\tvalid_0's amex_metric: 0.762187\tvalid_0's recall_at4: 0.617084\tvalid_0's norm_gini: 0.907291\n"
     ]
    },
    {
     "name": "stdout",
     "output_type": "stream",
     "text": [
      "[150]\tvalid_0's amex_metric: 0.766382\tvalid_0's recall_at4: 0.623354\tvalid_0's norm_gini: 0.90941\n"
     ]
    },
    {
     "name": "stdout",
     "output_type": "stream",
     "text": [
      "[200]\tvalid_0's amex_metric: 0.76845\tvalid_0's recall_at4: 0.626089\tvalid_0's norm_gini: 0.910812\n"
     ]
    },
    {
     "name": "stdout",
     "output_type": "stream",
     "text": [
      "[250]\tvalid_0's amex_metric: 0.770202\tvalid_0's recall_at4: 0.628109\tvalid_0's norm_gini: 0.912296\n"
     ]
    },
    {
     "name": "stdout",
     "output_type": "stream",
     "text": [
      "[300]\tvalid_0's amex_metric: 0.772897\tvalid_0's recall_at4: 0.632022\tvalid_0's norm_gini: 0.913773\n"
     ]
    },
    {
     "name": "stdout",
     "output_type": "stream",
     "text": [
      "[350]\tvalid_0's amex_metric: 0.77511\tvalid_0's recall_at4: 0.635472\tvalid_0's norm_gini: 0.914748\n"
     ]
    },
    {
     "name": "stdout",
     "output_type": "stream",
     "text": [
      "[400]\tvalid_0's amex_metric: 0.775314\tvalid_0's recall_at4: 0.635178\tvalid_0's norm_gini: 0.91545\n"
     ]
    },
    {
     "name": "stdout",
     "output_type": "stream",
     "text": [
      "[450]\tvalid_0's amex_metric: 0.776807\tvalid_0's recall_at4: 0.637113\tvalid_0's norm_gini: 0.916501\n"
     ]
    },
    {
     "name": "stdout",
     "output_type": "stream",
     "text": [
      "[500]\tvalid_0's amex_metric: 0.778943\tvalid_0's recall_at4: 0.640269\tvalid_0's norm_gini: 0.917617\n"
     ]
    },
    {
     "name": "stdout",
     "output_type": "stream",
     "text": [
      "[550]\tvalid_0's amex_metric: 0.78075\tvalid_0's recall_at4: 0.642962\tvalid_0's norm_gini: 0.918537\n"
     ]
    },
    {
     "name": "stdout",
     "output_type": "stream",
     "text": [
      "[600]\tvalid_0's amex_metric: 0.78303\tvalid_0's recall_at4: 0.646623\tvalid_0's norm_gini: 0.919436\n"
     ]
    },
    {
     "name": "stdout",
     "output_type": "stream",
     "text": [
      "[650]\tvalid_0's amex_metric: 0.783494\tvalid_0's recall_at4: 0.647128\tvalid_0's norm_gini: 0.91986\n"
     ]
    },
    {
     "name": "stdout",
     "output_type": "stream",
     "text": [
      "[700]\tvalid_0's amex_metric: 0.783951\tvalid_0's recall_at4: 0.647549\tvalid_0's norm_gini: 0.920352\n"
     ]
    },
    {
     "name": "stdout",
     "output_type": "stream",
     "text": [
      "[750]\tvalid_0's amex_metric: 0.784026\tvalid_0's recall_at4: 0.647423\tvalid_0's norm_gini: 0.92063\n"
     ]
    },
    {
     "name": "stdout",
     "output_type": "stream",
     "text": [
      "[800]\tvalid_0's amex_metric: 0.785059\tvalid_0's recall_at4: 0.649106\tvalid_0's norm_gini: 0.921012\n"
     ]
    },
    {
     "name": "stdout",
     "output_type": "stream",
     "text": [
      "[850]\tvalid_0's amex_metric: 0.786211\tvalid_0's recall_at4: 0.65121\tvalid_0's norm_gini: 0.921212\n"
     ]
    },
    {
     "name": "stdout",
     "output_type": "stream",
     "text": [
      "[900]\tvalid_0's amex_metric: 0.785872\tvalid_0's recall_at4: 0.650284\tvalid_0's norm_gini: 0.92146\n"
     ]
    },
    {
     "name": "stdout",
     "output_type": "stream",
     "text": [
      "[950]\tvalid_0's amex_metric: 0.786775\tvalid_0's recall_at4: 0.651757\tvalid_0's norm_gini: 0.921793\n"
     ]
    },
    {
     "name": "stdout",
     "output_type": "stream",
     "text": [
      "[1000]\tvalid_0's amex_metric: 0.787427\tvalid_0's recall_at4: 0.652767\tvalid_0's norm_gini: 0.922087\n"
     ]
    },
    {
     "name": "stdout",
     "output_type": "stream",
     "text": [
      "[1050]\tvalid_0's amex_metric: 0.787926\tvalid_0's recall_at4: 0.653482\tvalid_0's norm_gini: 0.922371\n"
     ]
    },
    {
     "name": "stdout",
     "output_type": "stream",
     "text": [
      "[1100]\tvalid_0's amex_metric: 0.788453\tvalid_0's recall_at4: 0.654281\tvalid_0's norm_gini: 0.922624\n"
     ]
    },
    {
     "name": "stdout",
     "output_type": "stream",
     "text": [
      "[1150]\tvalid_0's amex_metric: 0.788086\tvalid_0's recall_at4: 0.653356\tvalid_0's norm_gini: 0.922815\n"
     ]
    },
    {
     "name": "stdout",
     "output_type": "stream",
     "text": [
      "[1200]\tvalid_0's amex_metric: 0.788978\tvalid_0's recall_at4: 0.654997\tvalid_0's norm_gini: 0.922959\n"
     ]
    },
    {
     "name": "stdout",
     "output_type": "stream",
     "text": [
      "[1250]\tvalid_0's amex_metric: 0.788912\tvalid_0's recall_at4: 0.654702\tvalid_0's norm_gini: 0.923122\n"
     ]
    },
    {
     "name": "stdout",
     "output_type": "stream",
     "text": [
      "[1300]\tvalid_0's amex_metric: 0.788519\tvalid_0's recall_at4: 0.653861\tvalid_0's norm_gini: 0.923177\n"
     ]
    },
    {
     "name": "stdout",
     "output_type": "stream",
     "text": [
      "[1350]\tvalid_0's amex_metric: 0.788908\tvalid_0's recall_at4: 0.654534\tvalid_0's norm_gini: 0.923282\n"
     ]
    },
    {
     "name": "stdout",
     "output_type": "stream",
     "text": [
      "[1400]\tvalid_0's amex_metric: 0.789831\tvalid_0's recall_at4: 0.656217\tvalid_0's norm_gini: 0.923444\n"
     ]
    },
    {
     "name": "stdout",
     "output_type": "stream",
     "text": [
      "[1450]\tvalid_0's amex_metric: 0.789814\tvalid_0's recall_at4: 0.656049\tvalid_0's norm_gini: 0.92358\n"
     ]
    },
    {
     "name": "stdout",
     "output_type": "stream",
     "text": [
      "[1500]\tvalid_0's amex_metric: 0.790377\tvalid_0's recall_at4: 0.657059\tvalid_0's norm_gini: 0.923696\n"
     ]
    },
    {
     "name": "stdout",
     "output_type": "stream",
     "text": [
      "[1550]\tvalid_0's amex_metric: 0.790167\tvalid_0's recall_at4: 0.656512\tvalid_0's norm_gini: 0.923823\n"
     ]
    },
    {
     "name": "stdout",
     "output_type": "stream",
     "text": [
      "[1600]\tvalid_0's amex_metric: 0.790472\tvalid_0's recall_at4: 0.657017\tvalid_0's norm_gini: 0.923926\n"
     ]
    },
    {
     "name": "stdout",
     "output_type": "stream",
     "text": [
      "[1650]\tvalid_0's amex_metric: 0.791049\tvalid_0's recall_at4: 0.658069\tvalid_0's norm_gini: 0.924029\n"
     ]
    },
    {
     "name": "stdout",
     "output_type": "stream",
     "text": [
      "[1700]\tvalid_0's amex_metric: 0.790403\tvalid_0's recall_at4: 0.656722\tvalid_0's norm_gini: 0.924084\n"
     ]
    },
    {
     "name": "stdout",
     "output_type": "stream",
     "text": [
      "[1750]\tvalid_0's amex_metric: 0.79124\tvalid_0's recall_at4: 0.658279\tvalid_0's norm_gini: 0.9242\n"
     ]
    },
    {
     "name": "stdout",
     "output_type": "stream",
     "text": [
      "[1800]\tvalid_0's amex_metric: 0.791535\tvalid_0's recall_at4: 0.658826\tvalid_0's norm_gini: 0.924244\n"
     ]
    },
    {
     "name": "stdout",
     "output_type": "stream",
     "text": [
      "[1850]\tvalid_0's amex_metric: 0.791559\tvalid_0's recall_at4: 0.658784\tvalid_0's norm_gini: 0.924335\n"
     ]
    },
    {
     "name": "stdout",
     "output_type": "stream",
     "text": [
      "[1900]\tvalid_0's amex_metric: 0.791568\tvalid_0's recall_at4: 0.658784\tvalid_0's norm_gini: 0.924351\n"
     ]
    },
    {
     "name": "stdout",
     "output_type": "stream",
     "text": [
      "[1950]\tvalid_0's amex_metric: 0.791309\tvalid_0's recall_at4: 0.658237\tvalid_0's norm_gini: 0.924381\n"
     ]
    },
    {
     "name": "stdout",
     "output_type": "stream",
     "text": [
      "[2000]\tvalid_0's amex_metric: 0.791233\tvalid_0's recall_at4: 0.657984\tvalid_0's norm_gini: 0.924481\n"
     ]
    },
    {
     "name": "stdout",
     "output_type": "stream",
     "text": [
      "[2050]\tvalid_0's amex_metric: 0.791289\tvalid_0's recall_at4: 0.658027\tvalid_0's norm_gini: 0.924552\n"
     ]
    },
    {
     "name": "stdout",
     "output_type": "stream",
     "text": [
      "[2100]\tvalid_0's amex_metric: 0.791708\tvalid_0's recall_at4: 0.658784\tvalid_0's norm_gini: 0.924632\n"
     ]
    },
    {
     "name": "stdout",
     "output_type": "stream",
     "text": [
      "[2150]\tvalid_0's amex_metric: 0.791666\tvalid_0's recall_at4: 0.658616\tvalid_0's norm_gini: 0.924716\n"
     ]
    },
    {
     "name": "stdout",
     "output_type": "stream",
     "text": [
      "[2200]\tvalid_0's amex_metric: 0.791105\tvalid_0's recall_at4: 0.657437\tvalid_0's norm_gini: 0.924773\n"
     ]
    },
    {
     "name": "stdout",
     "output_type": "stream",
     "text": [
      "[2250]\tvalid_0's amex_metric: 0.791862\tvalid_0's recall_at4: 0.65891\tvalid_0's norm_gini: 0.924815\n"
     ]
    },
    {
     "name": "stdout",
     "output_type": "stream",
     "text": [
      "[2300]\tvalid_0's amex_metric: 0.791964\tvalid_0's recall_at4: 0.659121\tvalid_0's norm_gini: 0.924807\n"
     ]
    },
    {
     "name": "stdout",
     "output_type": "stream",
     "text": [
      "[2350]\tvalid_0's amex_metric: 0.792304\tvalid_0's recall_at4: 0.659752\tvalid_0's norm_gini: 0.924856\n"
     ]
    },
    {
     "name": "stdout",
     "output_type": "stream",
     "text": [
      "[2400]\tvalid_0's amex_metric: 0.791827\tvalid_0's recall_at4: 0.658742\tvalid_0's norm_gini: 0.924911\n"
     ]
    },
    {
     "name": "stdout",
     "output_type": "stream",
     "text": [
      "[2450]\tvalid_0's amex_metric: 0.791148\tvalid_0's recall_at4: 0.657353\tvalid_0's norm_gini: 0.924943\n"
     ]
    },
    {
     "name": "stdout",
     "output_type": "stream",
     "text": [
      "[2500]\tvalid_0's amex_metric: 0.791513\tvalid_0's recall_at4: 0.658069\tvalid_0's norm_gini: 0.924958\n"
     ]
    },
    {
     "name": "stdout",
     "output_type": "stream",
     "text": [
      "[2550]\tvalid_0's amex_metric: 0.791354\tvalid_0's recall_at4: 0.657732\tvalid_0's norm_gini: 0.924976\n"
     ]
    },
    {
     "name": "stdout",
     "output_type": "stream",
     "text": [
      "[2600]\tvalid_0's amex_metric: 0.791861\tvalid_0's recall_at4: 0.658742\tvalid_0's norm_gini: 0.924981\n"
     ]
    },
    {
     "name": "stdout",
     "output_type": "stream",
     "text": [
      "[2650]\tvalid_0's amex_metric: 0.791793\tvalid_0's recall_at4: 0.658531\tvalid_0's norm_gini: 0.925054\n"
     ]
    },
    {
     "name": "stdout",
     "output_type": "stream",
     "text": [
      "[2700]\tvalid_0's amex_metric: 0.792105\tvalid_0's recall_at4: 0.659121\tvalid_0's norm_gini: 0.925089\n"
     ]
    },
    {
     "name": "stdout",
     "output_type": "stream",
     "text": [
      "[2750]\tvalid_0's amex_metric: 0.792028\tvalid_0's recall_at4: 0.65891\tvalid_0's norm_gini: 0.925145\n"
     ]
    },
    {
     "name": "stdout",
     "output_type": "stream",
     "text": [
      "[2800]\tvalid_0's amex_metric: 0.791928\tvalid_0's recall_at4: 0.6587\tvalid_0's norm_gini: 0.925155\n"
     ]
    },
    {
     "name": "stdout",
     "output_type": "stream",
     "text": [
      "[2850]\tvalid_0's amex_metric: 0.792265\tvalid_0's recall_at4: 0.659373\tvalid_0's norm_gini: 0.925157\n"
     ]
    },
    {
     "name": "stdout",
     "output_type": "stream",
     "text": [
      "[2900]\tvalid_0's amex_metric: 0.791618\tvalid_0's recall_at4: 0.658069\tvalid_0's norm_gini: 0.925167\n"
     ]
    },
    {
     "name": "stdout",
     "output_type": "stream",
     "text": [
      "[2950]\tvalid_0's amex_metric: 0.791892\tvalid_0's recall_at4: 0.658616\tvalid_0's norm_gini: 0.925168\n"
     ]
    },
    {
     "name": "stdout",
     "output_type": "stream",
     "text": [
      "[3000]\tvalid_0's amex_metric: 0.792328\tvalid_0's recall_at4: 0.659457\tvalid_0's norm_gini: 0.925199\n"
     ]
    },
    {
     "name": "stdout",
     "output_type": "stream",
     "text": [
      "[3050]\tvalid_0's amex_metric: 0.792342\tvalid_0's recall_at4: 0.659499\tvalid_0's norm_gini: 0.925186\n"
     ]
    },
    {
     "name": "stdout",
     "output_type": "stream",
     "text": [
      "[3100]\tvalid_0's amex_metric: 0.792037\tvalid_0's recall_at4: 0.65891\tvalid_0's norm_gini: 0.925164\n"
     ]
    },
    {
     "name": "stdout",
     "output_type": "stream",
     "text": [
      "[3150]\tvalid_0's amex_metric: 0.791747\tvalid_0's recall_at4: 0.658321\tvalid_0's norm_gini: 0.925172\n"
     ]
    },
    {
     "name": "stdout",
     "output_type": "stream",
     "text": [
      "[3200]\tvalid_0's amex_metric: 0.791224\tvalid_0's recall_at4: 0.657227\tvalid_0's norm_gini: 0.925221\n"
     ]
    },
    {
     "name": "stdout",
     "output_type": "stream",
     "text": [
      "[3250]\tvalid_0's amex_metric: 0.79121\tvalid_0's recall_at4: 0.657185\tvalid_0's norm_gini: 0.925236\n"
     ]
    },
    {
     "name": "stdout",
     "output_type": "stream",
     "text": [
      "[3300]\tvalid_0's amex_metric: 0.790942\tvalid_0's recall_at4: 0.656638\tvalid_0's norm_gini: 0.925246\n"
     ]
    },
    {
     "name": "stdout",
     "output_type": "stream",
     "text": [
      "[3350]\tvalid_0's amex_metric: 0.791551\tvalid_0's recall_at4: 0.657858\tvalid_0's norm_gini: 0.925244\n"
     ]
    },
    {
     "name": "stdout",
     "output_type": "stream",
     "text": [
      "[3400]\tvalid_0's amex_metric: 0.791481\tvalid_0's recall_at4: 0.657732\tvalid_0's norm_gini: 0.925229\n"
     ]
    },
    {
     "name": "stdout",
     "output_type": "stream",
     "text": [
      "[3450]\tvalid_0's amex_metric: 0.791565\tvalid_0's recall_at4: 0.6579\tvalid_0's norm_gini: 0.925229\n"
     ]
    },
    {
     "name": "stdout",
     "output_type": "stream",
     "text": [
      "[3500]\tvalid_0's amex_metric: 0.792066\tvalid_0's recall_at4: 0.65891\tvalid_0's norm_gini: 0.925222\n"
     ]
    },
    {
     "name": "stdout",
     "output_type": "stream",
     "text": [
      "[3550]\tvalid_0's amex_metric: 0.792012\tvalid_0's recall_at4: 0.658784\tvalid_0's norm_gini: 0.92524\n"
     ]
    },
    {
     "name": "stdout",
     "output_type": "stream",
     "text": [
      "[3600]\tvalid_0's amex_metric: 0.792044\tvalid_0's recall_at4: 0.658868\tvalid_0's norm_gini: 0.92522\n"
     ]
    },
    {
     "name": "stdout",
     "output_type": "stream",
     "text": [
      "[3650]\tvalid_0's amex_metric: 0.791328\tvalid_0's recall_at4: 0.657437\tvalid_0's norm_gini: 0.925219\n"
     ]
    },
    {
     "name": "stdout",
     "output_type": "stream",
     "text": [
      "[3700]\tvalid_0's amex_metric: 0.791098\tvalid_0's recall_at4: 0.656975\tvalid_0's norm_gini: 0.925222\n"
     ]
    },
    {
     "name": "stdout",
     "output_type": "stream",
     "text": [
      "[3750]\tvalid_0's amex_metric: 0.791995\tvalid_0's recall_at4: 0.658784\tvalid_0's norm_gini: 0.925207\n"
     ]
    },
    {
     "name": "stdout",
     "output_type": "stream",
     "text": [
      "[3800]\tvalid_0's amex_metric: 0.792491\tvalid_0's recall_at4: 0.659752\tvalid_0's norm_gini: 0.925231\n"
     ]
    },
    {
     "name": "stdout",
     "output_type": "stream",
     "text": [
      "[3850]\tvalid_0's amex_metric: 0.792502\tvalid_0's recall_at4: 0.659752\tvalid_0's norm_gini: 0.925252\n"
     ]
    },
    {
     "name": "stdout",
     "output_type": "stream",
     "text": [
      "[3900]\tvalid_0's amex_metric: 0.792696\tvalid_0's recall_at4: 0.66013\tvalid_0's norm_gini: 0.925261\n"
     ]
    },
    {
     "name": "stdout",
     "output_type": "stream",
     "text": [
      "[3950]\tvalid_0's amex_metric: 0.792716\tvalid_0's recall_at4: 0.660173\tvalid_0's norm_gini: 0.925259\n"
     ]
    },
    {
     "name": "stdout",
     "output_type": "stream",
     "text": [
      "[4000]\tvalid_0's amex_metric: 0.79256\tvalid_0's recall_at4: 0.659836\tvalid_0's norm_gini: 0.925283\n"
     ]
    },
    {
     "name": "stdout",
     "output_type": "stream",
     "text": [
      "[4050]\tvalid_0's amex_metric: 0.792876\tvalid_0's recall_at4: 0.660467\tvalid_0's norm_gini: 0.925285\n"
     ]
    },
    {
     "name": "stdout",
     "output_type": "stream",
     "text": [
      "[4100]\tvalid_0's amex_metric: 0.792895\tvalid_0's recall_at4: 0.660509\tvalid_0's norm_gini: 0.925281\n"
     ]
    },
    {
     "name": "stdout",
     "output_type": "stream",
     "text": [
      "[4150]\tvalid_0's amex_metric: 0.792875\tvalid_0's recall_at4: 0.660467\tvalid_0's norm_gini: 0.925282\n"
     ]
    },
    {
     "name": "stdout",
     "output_type": "stream",
     "text": [
      "[4200]\tvalid_0's amex_metric: 0.792937\tvalid_0's recall_at4: 0.660593\tvalid_0's norm_gini: 0.92528\n"
     ]
    },
    {
     "name": "stdout",
     "output_type": "stream",
     "text": [
      "[4250]\tvalid_0's amex_metric: 0.792624\tvalid_0's recall_at4: 0.659962\tvalid_0's norm_gini: 0.925285\n"
     ]
    },
    {
     "name": "stdout",
     "output_type": "stream",
     "text": [
      "[4300]\tvalid_0's amex_metric: 0.792405\tvalid_0's recall_at4: 0.659541\tvalid_0's norm_gini: 0.925268\n"
     ]
    },
    {
     "name": "stdout",
     "output_type": "stream",
     "text": [
      "[4350]\tvalid_0's amex_metric: 0.792535\tvalid_0's recall_at4: 0.659794\tvalid_0's norm_gini: 0.925276\n"
     ]
    },
    {
     "name": "stdout",
     "output_type": "stream",
     "text": [
      "[4400]\tvalid_0's amex_metric: 0.79288\tvalid_0's recall_at4: 0.660467\tvalid_0's norm_gini: 0.925293\n"
     ]
    },
    {
     "name": "stdout",
     "output_type": "stream",
     "text": [
      "[4450]\tvalid_0's amex_metric: 0.793025\tvalid_0's recall_at4: 0.660762\tvalid_0's norm_gini: 0.925289\n"
     ]
    },
    {
     "name": "stdout",
     "output_type": "stream",
     "text": [
      "[4500]\tvalid_0's amex_metric: 0.79308\tvalid_0's recall_at4: 0.660888\tvalid_0's norm_gini: 0.925272\n"
     ]
    },
    {
     "name": "stdout",
     "output_type": "stream",
     "text": [
      "[4550]\tvalid_0's amex_metric: 0.792936\tvalid_0's recall_at4: 0.660593\tvalid_0's norm_gini: 0.925279\n"
     ]
    },
    {
     "name": "stdout",
     "output_type": "stream",
     "text": [
      "[4600]\tvalid_0's amex_metric: 0.792764\tvalid_0's recall_at4: 0.660257\tvalid_0's norm_gini: 0.925271\n"
     ]
    },
    {
     "name": "stdout",
     "output_type": "stream",
     "text": [
      "[4650]\tvalid_0's amex_metric: 0.792889\tvalid_0's recall_at4: 0.660509\tvalid_0's norm_gini: 0.925268\n"
     ]
    },
    {
     "name": "stdout",
     "output_type": "stream",
     "text": [
      "[4700]\tvalid_0's amex_metric: 0.792899\tvalid_0's recall_at4: 0.660551\tvalid_0's norm_gini: 0.925246\n"
     ]
    },
    {
     "name": "stdout",
     "output_type": "stream",
     "text": [
      "[4750]\tvalid_0's amex_metric: 0.79266\tvalid_0's recall_at4: 0.660088\tvalid_0's norm_gini: 0.925231\n"
     ]
    },
    {
     "name": "stdout",
     "output_type": "stream",
     "text": [
      "[4800]\tvalid_0's amex_metric: 0.792548\tvalid_0's recall_at4: 0.659878\tvalid_0's norm_gini: 0.925218\n"
     ]
    },
    {
     "name": "stdout",
     "output_type": "stream",
     "text": [
      "[4850]\tvalid_0's amex_metric: 0.792764\tvalid_0's recall_at4: 0.660299\tvalid_0's norm_gini: 0.925229\n"
     ]
    },
    {
     "name": "stdout",
     "output_type": "stream",
     "text": [
      "[4900]\tvalid_0's amex_metric: 0.793133\tvalid_0's recall_at4: 0.661056\tvalid_0's norm_gini: 0.92521\n"
     ]
    },
    {
     "name": "stdout",
     "output_type": "stream",
     "text": [
      "[4950]\tvalid_0's amex_metric: 0.793321\tvalid_0's recall_at4: 0.661435\tvalid_0's norm_gini: 0.925208\n"
     ]
    },
    {
     "name": "stdout",
     "output_type": "stream",
     "text": [
      "[5000]\tvalid_0's amex_metric: 0.793267\tvalid_0's recall_at4: 0.661309\tvalid_0's norm_gini: 0.925224\n"
     ]
    },
    {
     "data": {
      "image/png": "[encoded data removed]",
      "text/plain": [
       "<Figure size 576x1080 with 1 Axes>"
      ]
     },
     "metadata": {
      "needs_background": "light"
     },
     "output_type": "display_data"
    },
    {
     "data": {
      "image/png": "[encoded data removed]",
      "text/plain": [
       "<Figure size 576x1080 with 1 Axes>"
      ]
     },
     "metadata": {
      "needs_background": "light"
     },
     "output_type": "display_data"
    },
    {
     "name": "stdout",
     "output_type": "stream",
     "text": [
      "######################################## training model 5/5 ########################################\n"
     ]
    },
    {
     "name": "stderr",
     "output_type": "stream",
     "text": [
      "/opt/conda/lib/python3.7/site-packages/lightgbm/basic.py:2065: UserWarning: Using categorical_feature in Dataset.\n",
      "  _log_warning('Using categorical_feature in Dataset.')\n"
     ]
    },
    {
     "name": "stdout",
     "output_type": "stream",
     "text": [
      "[LightGBM] [Warning] Met negative value in categorical features, will convert it to NaN\n",
      "[LightGBM] [Warning] Met negative value in categorical features, will convert it to NaN\n",
      "[LightGBM] [Warning] Met negative value in categorical features, will convert it to NaN\n",
      "[LightGBM] [Warning] Met negative value in categorical features, will convert it to NaN\n",
      "[LightGBM] [Warning] Met negative value in categorical features, will convert it to NaN\n",
      "[LightGBM] [Warning] Met negative value in categorical features, will convert it to NaN\n",
      "[LightGBM] [Warning] Met negative value in categorical features, will convert it to NaN\n",
      "[LightGBM] [Warning] Met negative value in categorical features, will convert it to NaN\n",
      "[LightGBM] [Warning] Met negative value in categorical features, will convert it to NaN\n",
      "[LightGBM] [Warning] Met negative value in categorical features, will convert it to NaN\n",
      "[LightGBM] [Warning] Met negative value in categorical features, will convert it to NaN\n",
      "[LightGBM] [Warning] Met negative value in categorical features, will convert it to NaN\n",
      "[LightGBM] [Warning] Met negative value in categorical features, will convert it to NaN\n",
      "[LightGBM] [Warning] Met negative value in categorical features, will convert it to NaN\n",
      "[LightGBM] [Warning] Met negative value in categorical features, will convert it to NaN\n",
      "[LightGBM] [Warning] Met negative value in categorical features, will convert it to NaN\n"
     ]
    },
    {
     "name": "stderr",
     "output_type": "stream",
     "text": [
      "/opt/conda/lib/python3.7/site-packages/lightgbm/basic.py:1780: UserWarning: Overriding the parameters from Reference Dataset.\n",
      "  _log_warning('Overriding the parameters from Reference Dataset.')\n"
     ]
    },
    {
     "name": "stderr",
     "output_type": "stream",
     "text": [
      "/opt/conda/lib/python3.7/site-packages/lightgbm/basic.py:1513: UserWarning: categorical_column in param dict is overridden.\n",
      "  _log_warning(f'{cat_alias} in param dict is overridden.')\n"
     ]
    },
    {
     "name": "stdout",
     "output_type": "stream",
     "text": [
      "[50]\tvalid_0's amex_metric: 0.762109\tvalid_0's recall_at4: 0.617841\tvalid_0's norm_gini: 0.906377\n"
     ]
    },
    {
     "name": "stdout",
     "output_type": "stream",
     "text": [
      "[100]\tvalid_0's amex_metric: 0.770239\tvalid_0's recall_at4: 0.629455\tvalid_0's norm_gini: 0.911022\n"
     ]
    },
    {
     "name": "stdout",
     "output_type": "stream",
     "text": [
      "[150]\tvalid_0's amex_metric: 0.773418\tvalid_0's recall_at4: 0.633663\tvalid_0's norm_gini: 0.913172\n"
     ]
    },
    {
     "name": "stdout",
     "output_type": "stream",
     "text": [
      "[200]\tvalid_0's amex_metric: 0.775571\tvalid_0's recall_at4: 0.636693\tvalid_0's norm_gini: 0.914449\n"
     ]
    },
    {
     "name": "stdout",
     "output_type": "stream",
     "text": [
      "[250]\tvalid_0's amex_metric: 0.778631\tvalid_0's recall_at4: 0.641111\tvalid_0's norm_gini: 0.916152\n"
     ]
    },
    {
     "name": "stdout",
     "output_type": "stream",
     "text": [
      "[300]\tvalid_0's amex_metric: 0.781587\tvalid_0's recall_at4: 0.645697\tvalid_0's norm_gini: 0.917476\n"
     ]
    },
    {
     "name": "stdout",
     "output_type": "stream",
     "text": [
      "[350]\tvalid_0's amex_metric: 0.783955\tvalid_0's recall_at4: 0.649442\tvalid_0's norm_gini: 0.918467\n"
     ]
    },
    {
     "name": "stdout",
     "output_type": "stream",
     "text": [
      "[400]\tvalid_0's amex_metric: 0.784719\tvalid_0's recall_at4: 0.650368\tvalid_0's norm_gini: 0.91907\n"
     ]
    },
    {
     "name": "stdout",
     "output_type": "stream",
     "text": [
      "[450]\tvalid_0's amex_metric: 0.78681\tvalid_0's recall_at4: 0.653566\tvalid_0's norm_gini: 0.920055\n"
     ]
    },
    {
     "name": "stdout",
     "output_type": "stream",
     "text": [
      "[500]\tvalid_0's amex_metric: 0.787886\tvalid_0's recall_at4: 0.654534\tvalid_0's norm_gini: 0.921238\n"
     ]
    },
    {
     "name": "stdout",
     "output_type": "stream",
     "text": [
      "[550]\tvalid_0's amex_metric: 0.790238\tvalid_0's recall_at4: 0.658405\tvalid_0's norm_gini: 0.922071\n"
     ]
    },
    {
     "name": "stdout",
     "output_type": "stream",
     "text": [
      "[600]\tvalid_0's amex_metric: 0.791226\tvalid_0's recall_at4: 0.659541\tvalid_0's norm_gini: 0.92291\n"
     ]
    },
    {
     "name": "stdout",
     "output_type": "stream",
     "text": [
      "[650]\tvalid_0's amex_metric: 0.792149\tvalid_0's recall_at4: 0.661014\tvalid_0's norm_gini: 0.923284\n"
     ]
    },
    {
     "name": "stdout",
     "output_type": "stream",
     "text": [
      "[700]\tvalid_0's amex_metric: 0.79339\tvalid_0's recall_at4: 0.663034\tvalid_0's norm_gini: 0.923746\n"
     ]
    },
    {
     "name": "stdout",
     "output_type": "stream",
     "text": [
      "[750]\tvalid_0's amex_metric: 0.793078\tvalid_0's recall_at4: 0.66215\tvalid_0's norm_gini: 0.924006\n"
     ]
    },
    {
     "name": "stdout",
     "output_type": "stream",
     "text": [
      "[800]\tvalid_0's amex_metric: 0.793926\tvalid_0's recall_at4: 0.663539\tvalid_0's norm_gini: 0.924314\n"
     ]
    },
    {
     "name": "stdout",
     "output_type": "stream",
     "text": [
      "[850]\tvalid_0's amex_metric: 0.794406\tvalid_0's recall_at4: 0.664296\tvalid_0's norm_gini: 0.924515\n"
     ]
    },
    {
     "name": "stdout",
     "output_type": "stream",
     "text": [
      "[900]\tvalid_0's amex_metric: 0.794959\tvalid_0's recall_at4: 0.66518\tvalid_0's norm_gini: 0.924737\n"
     ]
    },
    {
     "name": "stdout",
     "output_type": "stream",
     "text": [
      "[950]\tvalid_0's amex_metric: 0.796344\tvalid_0's recall_at4: 0.667578\tvalid_0's norm_gini: 0.925111\n"
     ]
    },
    {
     "name": "stdout",
     "output_type": "stream",
     "text": [
      "[1000]\tvalid_0's amex_metric: 0.79617\tvalid_0's recall_at4: 0.666947\tvalid_0's norm_gini: 0.925392\n"
     ]
    },
    {
     "name": "stdout",
     "output_type": "stream",
     "text": [
      "[1050]\tvalid_0's amex_metric: 0.796799\tvalid_0's recall_at4: 0.667915\tvalid_0's norm_gini: 0.925683\n"
     ]
    },
    {
     "name": "stdout",
     "output_type": "stream",
     "text": [
      "[1100]\tvalid_0's amex_metric: 0.797129\tvalid_0's recall_at4: 0.668378\tvalid_0's norm_gini: 0.92588\n"
     ]
    },
    {
     "name": "stdout",
     "output_type": "stream",
     "text": [
      "[1150]\tvalid_0's amex_metric: 0.797813\tvalid_0's recall_at4: 0.669598\tvalid_0's norm_gini: 0.926028\n"
     ]
    },
    {
     "name": "stdout",
     "output_type": "stream",
     "text": [
      "[1200]\tvalid_0's amex_metric: 0.798651\tvalid_0's recall_at4: 0.671155\tvalid_0's norm_gini: 0.926147\n"
     ]
    },
    {
     "name": "stdout",
     "output_type": "stream",
     "text": [
      "[1250]\tvalid_0's amex_metric: 0.798669\tvalid_0's recall_at4: 0.671029\tvalid_0's norm_gini: 0.926309\n"
     ]
    },
    {
     "name": "stdout",
     "output_type": "stream",
     "text": [
      "[1300]\tvalid_0's amex_metric: 0.798953\tvalid_0's recall_at4: 0.671576\tvalid_0's norm_gini: 0.92633\n"
     ]
    },
    {
     "name": "stdout",
     "output_type": "stream",
     "text": [
      "[1350]\tvalid_0's amex_metric: 0.798817\tvalid_0's recall_at4: 0.671197\tvalid_0's norm_gini: 0.926436\n"
     ]
    },
    {
     "name": "stdout",
     "output_type": "stream",
     "text": [
      "[1400]\tvalid_0's amex_metric: 0.798962\tvalid_0's recall_at4: 0.671365\tvalid_0's norm_gini: 0.926558\n"
     ]
    },
    {
     "name": "stdout",
     "output_type": "stream",
     "text": [
      "[1450]\tvalid_0's amex_metric: 0.799402\tvalid_0's recall_at4: 0.672123\tvalid_0's norm_gini: 0.926681\n"
     ]
    },
    {
     "name": "stdout",
     "output_type": "stream",
     "text": [
      "[1500]\tvalid_0's amex_metric: 0.799042\tvalid_0's recall_at4: 0.671365\tvalid_0's norm_gini: 0.926718\n"
     ]
    },
    {
     "name": "stdout",
     "output_type": "stream",
     "text": [
      "[1550]\tvalid_0's amex_metric: 0.799316\tvalid_0's recall_at4: 0.671744\tvalid_0's norm_gini: 0.926887\n"
     ]
    },
    {
     "name": "stdout",
     "output_type": "stream",
     "text": [
      "[1600]\tvalid_0's amex_metric: 0.799875\tvalid_0's recall_at4: 0.672712\tvalid_0's norm_gini: 0.927038\n"
     ]
    },
    {
     "name": "stdout",
     "output_type": "stream",
     "text": [
      "[1650]\tvalid_0's amex_metric: 0.801038\tvalid_0's recall_at4: 0.674942\tvalid_0's norm_gini: 0.927134\n"
     ]
    },
    {
     "name": "stdout",
     "output_type": "stream",
     "text": [
      "[1700]\tvalid_0's amex_metric: 0.800598\tvalid_0's recall_at4: 0.674016\tvalid_0's norm_gini: 0.927179\n"
     ]
    },
    {
     "name": "stdout",
     "output_type": "stream",
     "text": [
      "[1750]\tvalid_0's amex_metric: 0.800598\tvalid_0's recall_at4: 0.673974\tvalid_0's norm_gini: 0.927222\n"
     ]
    },
    {
     "name": "stdout",
     "output_type": "stream",
     "text": [
      "[1800]\tvalid_0's amex_metric: 0.800583\tvalid_0's recall_at4: 0.67389\tvalid_0's norm_gini: 0.927277\n"
     ]
    },
    {
     "name": "stdout",
     "output_type": "stream",
     "text": [
      "[1850]\tvalid_0's amex_metric: 0.801203\tvalid_0's recall_at4: 0.67511\tvalid_0's norm_gini: 0.927296\n"
     ]
    },
    {
     "name": "stdout",
     "output_type": "stream",
     "text": [
      "[1900]\tvalid_0's amex_metric: 0.801358\tvalid_0's recall_at4: 0.675405\tvalid_0's norm_gini: 0.927311\n"
     ]
    },
    {
     "name": "stdout",
     "output_type": "stream",
     "text": [
      "[1950]\tvalid_0's amex_metric: 0.801639\tvalid_0's recall_at4: 0.67591\tvalid_0's norm_gini: 0.927368\n"
     ]
    },
    {
     "name": "stdout",
     "output_type": "stream",
     "text": [
      "[2000]\tvalid_0's amex_metric: 0.801789\tvalid_0's recall_at4: 0.67612\tvalid_0's norm_gini: 0.927457\n"
     ]
    },
    {
     "name": "stdout",
     "output_type": "stream",
     "text": [
      "[2050]\tvalid_0's amex_metric: 0.801311\tvalid_0's recall_at4: 0.67511\tvalid_0's norm_gini: 0.927512\n"
     ]
    },
    {
     "name": "stdout",
     "output_type": "stream",
     "text": [
      "[2100]\tvalid_0's amex_metric: 0.801694\tvalid_0's recall_at4: 0.675826\tvalid_0's norm_gini: 0.927562\n"
     ]
    },
    {
     "name": "stdout",
     "output_type": "stream",
     "text": [
      "[2150]\tvalid_0's amex_metric: 0.802314\tvalid_0's recall_at4: 0.677046\tvalid_0's norm_gini: 0.927582\n"
     ]
    },
    {
     "name": "stdout",
     "output_type": "stream",
     "text": [
      "[2200]\tvalid_0's amex_metric: 0.802825\tvalid_0's recall_at4: 0.678014\tvalid_0's norm_gini: 0.927636\n"
     ]
    },
    {
     "name": "stdout",
     "output_type": "stream",
     "text": [
      "[2250]\tvalid_0's amex_metric: 0.802591\tvalid_0's recall_at4: 0.677509\tvalid_0's norm_gini: 0.927672\n"
     ]
    },
    {
     "name": "stdout",
     "output_type": "stream",
     "text": [
      "[2300]\tvalid_0's amex_metric: 0.802864\tvalid_0's recall_at4: 0.678098\tvalid_0's norm_gini: 0.92763\n"
     ]
    },
    {
     "name": "stdout",
     "output_type": "stream",
     "text": [
      "[2350]\tvalid_0's amex_metric: 0.802856\tvalid_0's recall_at4: 0.678056\tvalid_0's norm_gini: 0.927656\n"
     ]
    },
    {
     "name": "stdout",
     "output_type": "stream",
     "text": [
      "[2400]\tvalid_0's amex_metric: 0.802407\tvalid_0's recall_at4: 0.67713\tvalid_0's norm_gini: 0.927683\n"
     ]
    },
    {
     "name": "stdout",
     "output_type": "stream",
     "text": [
      "[2450]\tvalid_0's amex_metric: 0.802315\tvalid_0's recall_at4: 0.67692\tvalid_0's norm_gini: 0.92771\n"
     ]
    },
    {
     "name": "stdout",
     "output_type": "stream",
     "text": [
      "[2500]\tvalid_0's amex_metric: 0.802315\tvalid_0's recall_at4: 0.676878\tvalid_0's norm_gini: 0.927752\n"
     ]
    },
    {
     "name": "stdout",
     "output_type": "stream",
     "text": [
      "[2550]\tvalid_0's amex_metric: 0.802042\tvalid_0's recall_at4: 0.676331\tvalid_0's norm_gini: 0.927753\n"
     ]
    },
    {
     "name": "stdout",
     "output_type": "stream",
     "text": [
      "[2600]\tvalid_0's amex_metric: 0.802612\tvalid_0's recall_at4: 0.677425\tvalid_0's norm_gini: 0.9278\n"
     ]
    },
    {
     "name": "stdout",
     "output_type": "stream",
     "text": [
      "[2650]\tvalid_0's amex_metric: 0.803078\tvalid_0's recall_at4: 0.678351\tvalid_0's norm_gini: 0.927806\n"
     ]
    },
    {
     "name": "stdout",
     "output_type": "stream",
     "text": [
      "[2700]\tvalid_0's amex_metric: 0.802912\tvalid_0's recall_at4: 0.678014\tvalid_0's norm_gini: 0.92781\n"
     ]
    },
    {
     "name": "stdout",
     "output_type": "stream",
     "text": [
      "[2750]\tvalid_0's amex_metric: 0.803115\tvalid_0's recall_at4: 0.678393\tvalid_0's norm_gini: 0.927837\n"
     ]
    },
    {
     "name": "stdout",
     "output_type": "stream",
     "text": [
      "[2800]\tvalid_0's amex_metric: 0.802934\tvalid_0's recall_at4: 0.678056\tvalid_0's norm_gini: 0.927812\n"
     ]
    },
    {
     "name": "stdout",
     "output_type": "stream",
     "text": [
      "[2850]\tvalid_0's amex_metric: 0.802628\tvalid_0's recall_at4: 0.677425\tvalid_0's norm_gini: 0.927831\n"
     ]
    },
    {
     "name": "stdout",
     "output_type": "stream",
     "text": [
      "[2900]\tvalid_0's amex_metric: 0.802812\tvalid_0's recall_at4: 0.677804\tvalid_0's norm_gini: 0.92782\n"
     ]
    },
    {
     "name": "stdout",
     "output_type": "stream",
     "text": [
      "[2950]\tvalid_0's amex_metric: 0.802631\tvalid_0's recall_at4: 0.677467\tvalid_0's norm_gini: 0.927794\n"
     ]
    },
    {
     "name": "stdout",
     "output_type": "stream",
     "text": [
      "[3000]\tvalid_0's amex_metric: 0.802604\tvalid_0's recall_at4: 0.677425\tvalid_0's norm_gini: 0.927782\n"
     ]
    },
    {
     "name": "stdout",
     "output_type": "stream",
     "text": [
      "[3050]\tvalid_0's amex_metric: 0.803115\tvalid_0's recall_at4: 0.678477\tvalid_0's norm_gini: 0.927753\n"
     ]
    },
    {
     "name": "stdout",
     "output_type": "stream",
     "text": [
      "[3100]\tvalid_0's amex_metric: 0.80254\tvalid_0's recall_at4: 0.677299\tvalid_0's norm_gini: 0.927781\n"
     ]
    },
    {
     "name": "stdout",
     "output_type": "stream",
     "text": [
      "[3150]\tvalid_0's amex_metric: 0.802921\tvalid_0's recall_at4: 0.678056\tvalid_0's norm_gini: 0.927786\n"
     ]
    },
    {
     "name": "stdout",
     "output_type": "stream",
     "text": [
      "[3200]\tvalid_0's amex_metric: 0.802687\tvalid_0's recall_at4: 0.677593\tvalid_0's norm_gini: 0.927781\n"
     ]
    },
    {
     "name": "stdout",
     "output_type": "stream",
     "text": [
      "[3250]\tvalid_0's amex_metric: 0.802454\tvalid_0's recall_at4: 0.67713\tvalid_0's norm_gini: 0.927779\n"
     ]
    },
    {
     "name": "stdout",
     "output_type": "stream",
     "text": [
      "[3300]\tvalid_0's amex_metric: 0.802184\tvalid_0's recall_at4: 0.676583\tvalid_0's norm_gini: 0.927785\n"
     ]
    },
    {
     "name": "stdout",
     "output_type": "stream",
     "text": [
      "[3350]\tvalid_0's amex_metric: 0.801396\tvalid_0's recall_at4: 0.675026\tvalid_0's norm_gini: 0.927765\n"
     ]
    },
    {
     "name": "stdout",
     "output_type": "stream",
     "text": [
      "[3400]\tvalid_0's amex_metric: 0.802348\tvalid_0's recall_at4: 0.67692\tvalid_0's norm_gini: 0.927777\n"
     ]
    },
    {
     "name": "stdout",
     "output_type": "stream",
     "text": [
      "[3450]\tvalid_0's amex_metric: 0.802124\tvalid_0's recall_at4: 0.676457\tvalid_0's norm_gini: 0.927791\n"
     ]
    },
    {
     "name": "stdout",
     "output_type": "stream",
     "text": [
      "[3500]\tvalid_0's amex_metric: 0.802087\tvalid_0's recall_at4: 0.676415\tvalid_0's norm_gini: 0.927759\n"
     ]
    },
    {
     "name": "stdout",
     "output_type": "stream",
     "text": [
      "[3550]\tvalid_0's amex_metric: 0.801531\tvalid_0's recall_at4: 0.675321\tvalid_0's norm_gini: 0.927742\n"
     ]
    },
    {
     "name": "stdout",
     "output_type": "stream",
     "text": [
      "[3600]\tvalid_0's amex_metric: 0.802101\tvalid_0's recall_at4: 0.676457\tvalid_0's norm_gini: 0.927744\n"
     ]
    },
    {
     "name": "stdout",
     "output_type": "stream",
     "text": [
      "[3650]\tvalid_0's amex_metric: 0.802174\tvalid_0's recall_at4: 0.676583\tvalid_0's norm_gini: 0.927765\n"
     ]
    },
    {
     "name": "stdout",
     "output_type": "stream",
     "text": [
      "[3700]\tvalid_0's amex_metric: 0.801868\tvalid_0's recall_at4: 0.675994\tvalid_0's norm_gini: 0.927743\n"
     ]
    },
    {
     "name": "stdout",
     "output_type": "stream",
     "text": [
      "[3750]\tvalid_0's amex_metric: 0.802041\tvalid_0's recall_at4: 0.676331\tvalid_0's norm_gini: 0.927752\n"
     ]
    },
    {
     "name": "stdout",
     "output_type": "stream",
     "text": [
      "[3800]\tvalid_0's amex_metric: 0.8016\tvalid_0's recall_at4: 0.675447\tvalid_0's norm_gini: 0.927754\n"
     ]
    },
    {
     "name": "stdout",
     "output_type": "stream",
     "text": [
      "[3850]\tvalid_0's amex_metric: 0.801736\tvalid_0's recall_at4: 0.675742\tvalid_0's norm_gini: 0.927731\n"
     ]
    },
    {
     "name": "stdout",
     "output_type": "stream",
     "text": [
      "[3900]\tvalid_0's amex_metric: 0.80156\tvalid_0's recall_at4: 0.675447\tvalid_0's norm_gini: 0.927673\n"
     ]
    },
    {
     "name": "stdout",
     "output_type": "stream",
     "text": [
      "[3950]\tvalid_0's amex_metric: 0.801273\tvalid_0's recall_at4: 0.674858\tvalid_0's norm_gini: 0.927688\n"
     ]
    },
    {
     "name": "stdout",
     "output_type": "stream",
     "text": [
      "[4000]\tvalid_0's amex_metric: 0.801721\tvalid_0's recall_at4: 0.675742\tvalid_0's norm_gini: 0.927701\n"
     ]
    },
    {
     "name": "stdout",
     "output_type": "stream",
     "text": [
      "[4050]\tvalid_0's amex_metric: 0.801667\tvalid_0's recall_at4: 0.675615\tvalid_0's norm_gini: 0.92772\n"
     ]
    },
    {
     "name": "stdout",
     "output_type": "stream",
     "text": [
      "[4100]\tvalid_0's amex_metric: 0.801313\tvalid_0's recall_at4: 0.6749\tvalid_0's norm_gini: 0.927725\n"
     ]
    },
    {
     "name": "stdout",
     "output_type": "stream",
     "text": [
      "[4150]\tvalid_0's amex_metric: 0.802043\tvalid_0's recall_at4: 0.676373\tvalid_0's norm_gini: 0.927714\n"
     ]
    },
    {
     "name": "stdout",
     "output_type": "stream",
     "text": [
      "[4200]\tvalid_0's amex_metric: 0.80194\tvalid_0's recall_at4: 0.676162\tvalid_0's norm_gini: 0.927718\n"
     ]
    },
    {
     "name": "stdout",
     "output_type": "stream",
     "text": [
      "[4250]\tvalid_0's amex_metric: 0.801897\tvalid_0's recall_at4: 0.676078\tvalid_0's norm_gini: 0.927715\n"
     ]
    },
    {
     "name": "stdout",
     "output_type": "stream",
     "text": [
      "[4300]\tvalid_0's amex_metric: 0.801283\tvalid_0's recall_at4: 0.674858\tvalid_0's norm_gini: 0.927707\n"
     ]
    },
    {
     "name": "stdout",
     "output_type": "stream",
     "text": [
      "[4350]\tvalid_0's amex_metric: 0.801235\tvalid_0's recall_at4: 0.674774\tvalid_0's norm_gini: 0.927697\n"
     ]
    },
    {
     "name": "stdout",
     "output_type": "stream",
     "text": [
      "[4400]\tvalid_0's amex_metric: 0.801546\tvalid_0's recall_at4: 0.675405\tvalid_0's norm_gini: 0.927686\n"
     ]
    },
    {
     "name": "stdout",
     "output_type": "stream",
     "text": [
      "[4450]\tvalid_0's amex_metric: 0.801111\tvalid_0's recall_at4: 0.674563\tvalid_0's norm_gini: 0.927659\n"
     ]
    },
    {
     "name": "stdout",
     "output_type": "stream",
     "text": [
      "[4500]\tvalid_0's amex_metric: 0.801675\tvalid_0's recall_at4: 0.6757\tvalid_0's norm_gini: 0.92765\n"
     ]
    },
    {
     "name": "stdout",
     "output_type": "stream",
     "text": [
      "[4550]\tvalid_0's amex_metric: 0.800928\tvalid_0's recall_at4: 0.674185\tvalid_0's norm_gini: 0.927672\n"
     ]
    },
    {
     "name": "stdout",
     "output_type": "stream",
     "text": [
      "[4600]\tvalid_0's amex_metric: 0.801633\tvalid_0's recall_at4: 0.675615\tvalid_0's norm_gini: 0.92765\n"
     ]
    },
    {
     "name": "stdout",
     "output_type": "stream",
     "text": [
      "[4650]\tvalid_0's amex_metric: 0.801544\tvalid_0's recall_at4: 0.675447\tvalid_0's norm_gini: 0.927641\n"
     ]
    },
    {
     "name": "stdout",
     "output_type": "stream",
     "text": [
      "[4700]\tvalid_0's amex_metric: 0.801696\tvalid_0's recall_at4: 0.675742\tvalid_0's norm_gini: 0.92765\n"
     ]
    },
    {
     "name": "stdout",
     "output_type": "stream",
     "text": [
      "[4750]\tvalid_0's amex_metric: 0.801473\tvalid_0's recall_at4: 0.675321\tvalid_0's norm_gini: 0.927625\n"
     ]
    },
    {
     "name": "stdout",
     "output_type": "stream",
     "text": [
      "[4800]\tvalid_0's amex_metric: 0.802165\tvalid_0's recall_at4: 0.676709\tvalid_0's norm_gini: 0.92762\n"
     ]
    },
    {
     "name": "stdout",
     "output_type": "stream",
     "text": [
      "[4850]\tvalid_0's amex_metric: 0.801658\tvalid_0's recall_at4: 0.6757\tvalid_0's norm_gini: 0.927617\n"
     ]
    },
    {
     "name": "stdout",
     "output_type": "stream",
     "text": [
      "[4900]\tvalid_0's amex_metric: 0.801455\tvalid_0's recall_at4: 0.675279\tvalid_0's norm_gini: 0.927632\n"
     ]
    },
    {
     "name": "stdout",
     "output_type": "stream",
     "text": [
      "[4950]\tvalid_0's amex_metric: 0.80139\tvalid_0's recall_at4: 0.675153\tvalid_0's norm_gini: 0.927627\n"
     ]
    },
    {
     "name": "stdout",
     "output_type": "stream",
     "text": [
      "[5000]\tvalid_0's amex_metric: 0.801871\tvalid_0's recall_at4: 0.676078\tvalid_0's norm_gini: 0.927664\n"
     ]
    },
    {
     "data": {
      "image/png": "[encoded data removed]",
      "text/plain": [
       "<Figure size 576x1080 with 1 Axes>"
      ]
     },
     "metadata": {
      "needs_background": "light"
     },
     "output_type": "display_data"
    },
    {
     "data": {
      "image/png": "[encoded data removed]",
      "text/plain": [
       "<Figure size 576x1080 with 1 Axes>"
      ]
     },
     "metadata": {
      "needs_background": "light"
     },
     "output_type": "display_data"
    },
    {
     "name": "stdout",
     "output_type": "stream",
     "text": [
      "Training time: 160.4176261941592 min.\n",
      "OOF recall_at4: 0.6675699330124213\n",
      "OOF normalized_gini: 0.9254643433458989\n",
      "OOF competition metric: 0.79651713817916\n"
     ]
    },
    {
     "name": "stdout",
     "output_type": "stream",
     "text": [
      "CPU times: user 1d 14h 56min 11s, sys: 1min 24s, total: 1d 14h 57min 35s\n",
      "Wall time: 2h 40min 30s\n"
     ]
    }
   ],
   "source": [
    "%%time \n",
    "\n",
    "all_scalers = list()\n",
    "all_models = list()\n",
    "all_oof_dfs = list()\n",
    "\n",
    "for repetition in range(N_REPEATS):\n",
    "    print(f\" repeated cross-validation step: {repetition+1}/{N_REPEATS} \".center(100, \"#\"))\n",
    "\n",
    "    folds = pd.read_csv(f'../data/processed/cv{repetition}.csv', index_col=\"customer_ID\")\n",
    "    _train = pd.merge(train, folds, how=\"inner\", left_index=True, right_index=True).reset_index(drop=True)\n",
    "    \n",
    "    tic = time.time()\n",
    "    scalers,models,oof = train_models(_train)\n",
    "    tac = time.time()\n",
    "    print(f\"Training time: {(tac-tic)/60} min.\")\n",
    "          \n",
    "    # oof metrics\n",
    "    print(\"OOF recall_at4:\", compute_recall_at4(oof.target.values, oof.pred.values))\n",
    "    print(\"OOF normalized_gini:\", compute_normalized_gini(oof.target.values, oof.pred.values))\n",
    "    print(\"OOF competition metric:\", compute_amex_metric(oof.target.values, oof.pred.values))\n",
    "    \n",
    "    all_scalers.append(scalers)\n",
    "    all_models.append(models)\n",
    "    all_oof_dfs.append(oof)\n",
    "        \n",
    "    oof.to_csv(OOF_PATH/f\"oof-cv{repetition}.csv\", index=False)\n",
    "          \n",
    "    del _train, folds; gc.collect()"
   ]
  },
  {
   "cell_type": "code",
   "execution_count": 13,
   "id": "56687c60",
   "metadata": {
    "execution": {
     "iopub.execute_input": "2022-07-13T22:51:08.432826Z",
     "iopub.status.busy": "2022-07-13T22:51:08.432262Z",
     "iopub.status.idle": "2022-07-13T22:51:08.609299Z",
     "shell.execute_reply": "2022-07-13T22:51:08.609658Z"
    },
    "papermill": {
     "duration": 0.312109,
     "end_time": "2022-07-13T22:51:08.609811",
     "exception": false,
     "start_time": "2022-07-13T22:51:08.297702",
     "status": "completed"
    },
    "tags": []
   },
   "outputs": [
    {
     "data": {
      "text/html": [
       "<div>\n",
       "<style scoped>\n",
       "    .dataframe tbody tr th:only-of-type {\n",
       "        vertical-align: middle;\n",
       "    }\n",
       "\n",
       "    .dataframe tbody tr th {\n",
       "        vertical-align: top;\n",
       "    }\n",
       "\n",
       "    .dataframe thead th {\n",
       "        text-align: right;\n",
       "    }\n",
       "</style>\n",
       "<table border=\"1\" class=\"dataframe\">\n",
       "  <thead>\n",
       "    <tr style=\"text-align: right;\">\n",
       "      <th></th>\n",
       "      <th>recall_at4</th>\n",
       "      <th>gini</th>\n",
       "      <th>metric</th>\n",
       "    </tr>\n",
       "  </thead>\n",
       "  <tbody>\n",
       "    <tr>\n",
       "      <th>0</th>\n",
       "      <td>0.66757</td>\n",
       "      <td>0.925464</td>\n",
       "      <td>0.796517</td>\n",
       "    </tr>\n",
       "  </tbody>\n",
       "</table>\n",
       "</div>"
      ],
      "text/plain": [
       "   recall_at4      gini    metric\n",
       "0     0.66757  0.925464  0.796517"
      ]
     },
     "metadata": {},
     "output_type": "display_data"
    },
    {
     "name": "stdout",
     "output_type": "stream",
     "text": [
      "\n",
      "mean:\n"
     ]
    },
    {
     "data": {
      "text/plain": [
       "recall_at4    0.667570\n",
       "gini          0.925464\n",
       "metric        0.796517\n",
       "dtype: float64"
      ]
     },
     "metadata": {},
     "output_type": "display_data"
    },
    {
     "name": "stdout",
     "output_type": "stream",
     "text": [
      "\n",
      "std:\n"
     ]
    },
    {
     "data": {
      "text/plain": [
       "recall_at4   NaN\n",
       "gini         NaN\n",
       "metric       NaN\n",
       "dtype: float64"
      ]
     },
     "metadata": {},
     "output_type": "display_data"
    }
   ],
   "source": [
    "results = list()\n",
    "\n",
    "for oof in all_oof_dfs:  \n",
    "    r = {\n",
    "        \"recall_at4\": compute_recall_at4(oof.target.values, oof.pred.values),\n",
    "        \"gini\": compute_normalized_gini(oof.target.values, oof.pred.values),\n",
    "        \"metric\": compute_amex_metric(oof.target.values, oof.pred.values),\n",
    "    }\n",
    "    results.append(r)\n",
    "\n",
    "results = pd.DataFrame(results)\n",
    "display(results)\n",
    "\n",
    "print(\"\\nmean:\")\n",
    "display(results.mean(axis=0))\n",
    "\n",
    "print(\"\\nstd:\")\n",
    "display(results.std(axis=0))"
   ]
  },
  {
   "cell_type": "code",
   "execution_count": 14,
   "id": "d4cccf54",
   "metadata": {
    "execution": {
     "iopub.execute_input": "2022-07-13T22:51:09.001929Z",
     "iopub.status.busy": "2022-07-13T22:51:09.001351Z",
     "iopub.status.idle": "2022-07-13T22:51:09.003906Z",
     "shell.execute_reply": "2022-07-13T22:51:09.003402Z"
    },
    "papermill": {
     "duration": 0.270852,
     "end_time": "2022-07-13T22:51:09.004035",
     "exception": false,
     "start_time": "2022-07-13T22:51:08.733183",
     "status": "completed"
    },
    "tags": []
   },
   "outputs": [
    {
     "data": {
      "text/plain": [
       "21"
      ]
     },
     "execution_count": 14,
     "metadata": {},
     "output_type": "execute_result"
    }
   ],
   "source": [
    "del train, all_oof_dfs\n",
    "gc.collect()"
   ]
  },
  {
   "cell_type": "markdown",
   "id": "8ddb73d6",
   "metadata": {
    "papermill": {
     "duration": 0.149177,
     "end_time": "2022-07-13T22:51:09.304202",
     "exception": false,
     "start_time": "2022-07-13T22:51:09.155025",
     "status": "completed"
    },
    "tags": []
   },
   "source": [
    "***\n",
    "## make predictions and submit"
   ]
  },
  {
   "cell_type": "code",
   "execution_count": 15,
   "id": "17ad53a3",
   "metadata": {
    "execution": {
     "iopub.execute_input": "2022-07-13T22:51:09.553611Z",
     "iopub.status.busy": "2022-07-13T22:51:09.553067Z",
     "iopub.status.idle": "2022-07-13T22:51:09.554619Z",
     "shell.execute_reply": "2022-07-13T22:51:09.554977Z"
    },
    "papermill": {
     "duration": 0.128825,
     "end_time": "2022-07-13T22:51:09.555120",
     "exception": false,
     "start_time": "2022-07-13T22:51:09.426295",
     "status": "completed"
    },
    "tags": []
   },
   "outputs": [],
   "source": [
    "def make_predictions(\n",
    "        dataframe:pd.DataFrame, \n",
    "        input_feats:list,\n",
    "        scalers:list,\n",
    "        models:list,\n",
    "    ) -> np.array:\n",
    "    for scaler,model in zip(scalers,models):\n",
    "        _dataframe = dataframe.copy()\n",
    "        _dataframe[numeric_cols] = scaler.transform(_dataframe[numeric_cols])\n",
    "        preds.append( model.predict(_dataframe[input_feats]) )\n",
    "    return np.mean(preds, axis=0)    "
   ]
  },
  {
   "cell_type": "code",
   "execution_count": 16,
   "id": "6ada2c02",
   "metadata": {
    "execution": {
     "iopub.execute_input": "2022-07-13T22:51:09.860472Z",
     "iopub.status.busy": "2022-07-13T22:51:09.859610Z"
    },
    "papermill": {
     "duration": 6.203527,
     "end_time": "2022-07-13T22:51:15.908825",
     "exception": false,
     "start_time": "2022-07-13T22:51:09.705298",
     "status": "completed"
    },
    "tags": []
   },
   "outputs": [],
   "source": [
    "test = pd.read_parquet(\"../data/processed/dsv02/test.parquet\")\n",
    "sub = pd.read_csv(\"../data/raw/sample_submission.csv\")"
   ]
  },
  {
   "cell_type": "code",
   "execution_count": null,
   "id": "77ddc27f",
   "metadata": {
    "papermill": {
     "duration": null,
     "end_time": null,
     "exception": null,
     "start_time": null,
     "status": "completed"
    },
    "tags": []
   },
   "outputs": [],
   "source": [
    "%%time\n",
    "\n",
    "all_preds = list()\n",
    "\n",
    "for repetition in range(N_REPEATS):\n",
    "    if \"prediction\" in sub.columns:\n",
    "        sub.drop(\"prediction\", axis=1, inplace=True)\n",
    "    if \"prediction\" in test.columns:\n",
    "        test.drop(\"prediction\", axis=1, inplace=True)\n",
    "        \n",
    "    scalers = all_scalers[repetition]\n",
    "    models = all_models[repetition]\n",
    "    \n",
    "    preds = make_predictions(test, input_feats, scalers, models)\n",
    "    all_preds.extend(preds)\n",
    "       \n",
    "    test[\"prediction\"] = preds\n",
    "    sub[\"prediction\"] = test.loc[sub.customer_ID.values,\"prediction\"].values\n",
    "    assert sub.prediction.isna().sum() == 0\n",
    "    sub.to_csv(SUB_PATH/f\"submission-cv{repetition}.csv\", index=False)"
   ]
  },
  {
   "cell_type": "code",
   "execution_count": null,
   "id": "75325aad",
   "metadata": {
    "papermill": {
     "duration": null,
     "end_time": null,
     "exception": null,
     "start_time": null,
     "status": "completed"
    },
    "tags": []
   },
   "outputs": [],
   "source": [
    "%%time\n",
    "# predict using all the trained models\n",
    "if \"prediction\" in sub.columns:\n",
    "    sub.drop(\"prediction\", axis=1, inplace=True)\n",
    "if \"prediction\" in test.columns:\n",
    "    test.drop(\"prediction\", axis=1, inplace=True)\n",
    "\n",
    "test[\"prediction\"] = np.mean(all_preds, axis=0)\n",
    "sub[\"prediction\"] = test.loc[sub.customer_ID.values,\"prediction\"].values\n",
    "assert sub.prediction.isna().sum() == 0\n",
    "sub.to_csv(SUB_PATH/f\"submission-all.csv\", index=False)"
   ]
  },
  {
   "cell_type": "markdown",
   "id": "cada9df7",
   "metadata": {
    "papermill": {
     "duration": null,
     "end_time": null,
     "exception": null,
     "start_time": null,
     "status": "completed"
    },
    "tags": []
   },
   "source": [
    "***"
   ]
  }
 ],
 "metadata": {
  "kernelspec": {
   "display_name": "Python 3 (ipykernel)",
   "language": "python",
   "name": "python3"
  },
  "language_info": {
   "codemirror_mode": {
    "name": "ipython",
    "version": 3
   },
   "file_extension": ".py",
   "mimetype": "text/x-python",
   "name": "python",
   "nbconvert_exporter": "python",
   "pygments_lexer": "ipython3",
   "version": "3.7.12"
  },
  "papermill": {
   "default_parameters": {},
   "duration": 9649.911203,
   "end_time": "2022-07-13T22:51:16.115959",
   "environment_variables": {},
   "exception": null,
   "input_path": "train/lgbm-dart-linear-bce-dsv02.ipynb",
   "output_path": "train/outputs/lgbm-dart-linear-bce-dsv02.ipynb",
   "parameters": {},
   "start_time": "2022-07-13T20:10:26.204756",
   "version": "2.3.3"
  }
 },
 "nbformat": 4,
 "nbformat_minor": 5
}