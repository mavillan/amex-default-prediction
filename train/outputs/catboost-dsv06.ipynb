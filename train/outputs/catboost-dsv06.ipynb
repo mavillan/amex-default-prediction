{
 "cells": [
  {
   "cell_type": "code",
   "execution_count": 1,
   "id": "8e37e3ed",
   "metadata": {
    "_cell_guid": "b1076dfc-b9ad-4769-8c92-a6c4dae69d19",
    "_uuid": "8f2839f25d086af736a60e9eeb907d3b93b6e0e5",
    "execution": {
     "iopub.execute_input": "2022-08-10T18:15:50.069854Z",
     "iopub.status.busy": "2022-08-10T18:15:50.069278Z",
     "iopub.status.idle": "2022-08-10T18:15:51.099445Z",
     "shell.execute_reply": "2022-08-10T18:15:51.098716Z"
    },
    "papermill": {
     "duration": 1.053658,
     "end_time": "2022-08-10T18:15:51.099615",
     "exception": false,
     "start_time": "2022-08-10T18:15:50.045957",
     "status": "completed"
    },
    "tags": []
   },
   "outputs": [],
   "source": [
    "import gc\n",
    "from glob import glob\n",
    "import numpy as np\n",
    "import pandas as pd\n",
    "import matplotlib.pyplot as plt\n",
    "from pathlib import Path\n",
    "import time\n",
    "\n",
    "import category_encoders as ce\n",
    "import catboost\n",
    "from sklearn import metrics\n",
    "\n",
    "import sys\n",
    "sys.path.append(\"../utils\")\n",
    "from metrics import compute_recall_at4, compute_normalized_gini, compute_amex_metric\n",
    "#from messaging import send_message\n",
    "\n",
    "pd.set_option('display.max_columns', None)"
   ]
  },
  {
   "cell_type": "code",
   "execution_count": 2,
   "id": "400daa5a",
   "metadata": {
    "execution": {
     "iopub.execute_input": "2022-08-10T18:15:51.132411Z",
     "iopub.status.busy": "2022-08-10T18:15:51.131839Z",
     "iopub.status.idle": "2022-08-10T18:15:51.133531Z",
     "shell.execute_reply": "2022-08-10T18:15:51.133921Z"
    },
    "papermill": {
     "duration": 0.022413,
     "end_time": "2022-08-10T18:15:51.134070",
     "exception": false,
     "start_time": "2022-08-10T18:15:51.111657",
     "status": "completed"
    },
    "tags": []
   },
   "outputs": [],
   "source": [
    "# metrics in catboost format\n",
    "class AmexMetric:\n",
    "    \n",
    "    def is_max_optimal(self):\n",
    "        return True\n",
    "\n",
    "    def evaluate(self, approxes, target, weight):    \n",
    "        assert len(approxes) == 1\n",
    "        assert len(target) == len(approxes[0])\n",
    "        scores = approxes[0]\n",
    "        target = target\n",
    "        return compute_amex_metric(target, scores), 1.\n",
    "\n",
    "    def get_final_error(self, error, weight):\n",
    "        return error\n",
    "\n",
    "class RecallAt4:\n",
    "    \n",
    "    def is_max_optimal(self):\n",
    "        return True\n",
    "\n",
    "    def evaluate(self, approxes, target, weight):\n",
    "        assert len(approxes) == 1\n",
    "        assert len(target) == len(approxes[0])\n",
    "        scores = np.array(approxes[0])\n",
    "        target = np.array(target)                                   \n",
    "        return compute_recall_at4(target, scores), 1.\n",
    "\n",
    "    def get_final_error(self, error, weight):\n",
    "        return error\n",
    "\n",
    "class NormGini:\n",
    "    \n",
    "    def is_max_optimal(self):\n",
    "        return True\n",
    "\n",
    "    def evaluate(self, approxes, target, weight):\n",
    "        assert len(approxes) == 1\n",
    "        assert len(target) == len(approxes[0])\n",
    "        scores = np.array(approxes[0])\n",
    "        target = np.array(target)                   \n",
    "        return compute_normalized_gini(target, scores), 1.\n",
    "\n",
    "    def get_final_error(self, error, weight):\n",
    "        return error"
   ]
  },
  {
   "cell_type": "code",
   "execution_count": 3,
   "id": "dcd9bf95",
   "metadata": {
    "execution": {
     "iopub.execute_input": "2022-08-10T18:15:51.160146Z",
     "iopub.status.busy": "2022-08-10T18:15:51.159630Z",
     "iopub.status.idle": "2022-08-10T18:15:51.161388Z",
     "shell.execute_reply": "2022-08-10T18:15:51.161757Z"
    },
    "papermill": {
     "duration": 0.016793,
     "end_time": "2022-08-10T18:15:51.161909",
     "exception": false,
     "start_time": "2022-08-10T18:15:51.145116",
     "status": "completed"
    },
    "tags": []
   },
   "outputs": [],
   "source": [
    "# CONFIG PARAMS\n",
    "N_REPEATS = 3"
   ]
  },
  {
   "cell_type": "code",
   "execution_count": 4,
   "id": "534cf7a7",
   "metadata": {
    "execution": {
     "iopub.execute_input": "2022-08-10T18:15:51.189096Z",
     "iopub.status.busy": "2022-08-10T18:15:51.188599Z",
     "iopub.status.idle": "2022-08-10T18:15:51.191069Z",
     "shell.execute_reply": "2022-08-10T18:15:51.191436Z"
    },
    "papermill": {
     "duration": 0.018687,
     "end_time": "2022-08-10T18:15:51.191572",
     "exception": false,
     "start_time": "2022-08-10T18:15:51.172885",
     "status": "completed"
    },
    "tags": []
   },
   "outputs": [],
   "source": [
    "OOF_PATH = Path(\"../data/oof/catboost-dsv06\")\n",
    "SUB_PATH = Path(\"../data/subs/catboost-dsv06\")\n",
    "ART_PATH = Path(\"../artifacts/catboost-dsv06\")\n",
    "\n",
    "if not OOF_PATH.exists():\n",
    "    OOF_PATH.mkdir(parents=True, exist_ok=True)\n",
    "if not SUB_PATH.exists():\n",
    "    SUB_PATH.mkdir(parents=True, exist_ok=True)\n",
    "if not ART_PATH.exists():\n",
    "    ART_PATH.mkdir(parents=True, exist_ok=True)"
   ]
  },
  {
   "cell_type": "markdown",
   "id": "0c3f397d",
   "metadata": {
    "papermill": {
     "duration": 0.011324,
     "end_time": "2022-08-10T18:15:51.214130",
     "exception": false,
     "start_time": "2022-08-10T18:15:51.202806",
     "status": "completed"
    },
    "tags": []
   },
   "source": [
    "***\n",
    "## load and prepare data"
   ]
  },
  {
   "cell_type": "code",
   "execution_count": 5,
   "id": "c3f0949e",
   "metadata": {
    "execution": {
     "iopub.execute_input": "2022-08-10T18:15:51.242610Z",
     "iopub.status.busy": "2022-08-10T18:15:51.241999Z",
     "iopub.status.idle": "2022-08-10T18:15:51.362677Z",
     "shell.execute_reply": "2022-08-10T18:15:51.362170Z"
    },
    "papermill": {
     "duration": 0.13705,
     "end_time": "2022-08-10T18:15:51.362809",
     "exception": false,
     "start_time": "2022-08-10T18:15:51.225759",
     "status": "completed"
    },
    "tags": []
   },
   "outputs": [
    {
     "name": "stdout",
     "output_type": "stream",
     "text": [
      "test.parquet  train.parquet\r\n"
     ]
    }
   ],
   "source": [
    "!ls ../data/processed/dsv06"
   ]
  },
  {
   "cell_type": "code",
   "execution_count": 6,
   "id": "d28d65d1",
   "metadata": {
    "execution": {
     "iopub.execute_input": "2022-08-10T18:15:51.393373Z",
     "iopub.status.busy": "2022-08-10T18:15:51.391931Z",
     "iopub.status.idle": "2022-08-10T18:15:54.541362Z",
     "shell.execute_reply": "2022-08-10T18:15:54.540883Z"
    },
    "papermill": {
     "duration": 3.166355,
     "end_time": "2022-08-10T18:15:54.541497",
     "exception": false,
     "start_time": "2022-08-10T18:15:51.375142",
     "status": "completed"
    },
    "tags": []
   },
   "outputs": [],
   "source": [
    "train = pd.read_parquet(\"../data/processed/dsv06/train.parquet\")\n",
    "train_labels = pd.read_csv(\"../data/raw/train_labels.csv\", index_col=\"customer_ID\")"
   ]
  },
  {
   "cell_type": "code",
   "execution_count": 7,
   "id": "6071fe5f",
   "metadata": {
    "execution": {
     "iopub.execute_input": "2022-08-10T18:15:54.571224Z",
     "iopub.status.busy": "2022-08-10T18:15:54.570694Z",
     "iopub.status.idle": "2022-08-10T18:15:54.572902Z",
     "shell.execute_reply": "2022-08-10T18:15:54.573270Z"
    },
    "papermill": {
     "duration": 0.020133,
     "end_time": "2022-08-10T18:15:54.573412",
     "exception": false,
     "start_time": "2022-08-10T18:15:54.553279",
     "status": "completed"
    },
    "tags": []
   },
   "outputs": [
    {
     "data": {
      "text/plain": [
       "1308"
      ]
     },
     "execution_count": 7,
     "metadata": {},
     "output_type": "execute_result"
    }
   ],
   "source": [
    "input_feats = train.columns.tolist()\n",
    "len(input_feats)"
   ]
  },
  {
   "cell_type": "code",
   "execution_count": 8,
   "id": "62ac2198",
   "metadata": {
    "execution": {
     "iopub.execute_input": "2022-08-10T18:15:54.753317Z",
     "iopub.status.busy": "2022-08-10T18:15:54.679929Z",
     "iopub.status.idle": "2022-08-10T18:15:56.740293Z",
     "shell.execute_reply": "2022-08-10T18:15:56.739864Z"
    },
    "papermill": {
     "duration": 2.154324,
     "end_time": "2022-08-10T18:15:56.740427",
     "exception": false,
     "start_time": "2022-08-10T18:15:54.586103",
     "status": "completed"
    },
    "tags": []
   },
   "outputs": [
    {
     "data": {
      "text/plain": [
       "0"
      ]
     },
     "execution_count": 8,
     "metadata": {},
     "output_type": "execute_result"
    }
   ],
   "source": [
    "train = pd.merge(train, train_labels, how=\"inner\", left_index=True, right_index=True)\n",
    "del train_labels\n",
    "gc.collect()"
   ]
  },
  {
   "cell_type": "markdown",
   "id": "082ecdd5",
   "metadata": {
    "papermill": {
     "duration": 0.012127,
     "end_time": "2022-08-10T18:15:56.764837",
     "exception": false,
     "start_time": "2022-08-10T18:15:56.752710",
     "status": "completed"
    },
    "tags": []
   },
   "source": [
    "***\n",
    "## model training\n",
    "\n",
    "train with repeated cross validation"
   ]
  },
  {
   "cell_type": "code",
   "execution_count": 9,
   "id": "392eef46",
   "metadata": {
    "execution": {
     "iopub.execute_input": "2022-08-10T18:15:56.793821Z",
     "iopub.status.busy": "2022-08-10T18:15:56.793324Z",
     "iopub.status.idle": "2022-08-10T18:15:56.795942Z",
     "shell.execute_reply": "2022-08-10T18:15:56.795461Z"
    },
    "papermill": {
     "duration": 0.018811,
     "end_time": "2022-08-10T18:15:56.796043",
     "exception": false,
     "start_time": "2022-08-10T18:15:56.777232",
     "status": "completed"
    },
    "tags": []
   },
   "outputs": [],
   "source": [
    "model_params = {\n",
    "    'eval_metric':AmexMetric(),\n",
    "    'learning_rate': 0.05,\n",
    "    'nan_mode':'Min',\n",
    "    'random_seed': 2112,\n",
    "    'auto_class_weights': None,\n",
    "    'bootstrap_type': 'Bernoulli',\n",
    "    'depth': 6,\n",
    "    'rsm': 0.1,\n",
    "    'iterations': 5000,\n",
    "    'l2_leaf_reg': 37.05327214190692,\n",
    "    'min_data_in_leaf': 600,\n",
    "    'random_strength': 27.64341860474617,\n",
    "    'subsample': 0.9,\n",
    "    # early stopping\n",
    "    'early_stopping_rounds':5000,\n",
    "    'use_best_model': False,\n",
    "}"
   ]
  },
  {
   "cell_type": "code",
   "execution_count": 10,
   "id": "24bc47a4",
   "metadata": {
    "execution": {
     "iopub.execute_input": "2022-08-10T18:15:56.828954Z",
     "iopub.status.busy": "2022-08-10T18:15:56.828408Z",
     "iopub.status.idle": "2022-08-10T18:15:56.830376Z",
     "shell.execute_reply": "2022-08-10T18:15:56.830735Z"
    },
    "papermill": {
     "duration": 0.022498,
     "end_time": "2022-08-10T18:15:56.830876",
     "exception": false,
     "start_time": "2022-08-10T18:15:56.808378",
     "status": "completed"
    },
    "tags": []
   },
   "outputs": [],
   "source": [
    "def train_models(dataframe: pd.DataFrame, n_folds: int = 5,) -> tuple:\n",
    "    \n",
    "    models = list()\n",
    "    \n",
    "    # dataframe to store the oof predictions\n",
    "    oof = dataframe[[\"target\"]].copy()\n",
    "    oof[\"pred\"] = -1\n",
    "\n",
    "    for fold in range(n_folds):\n",
    "        \n",
    "        print(f\" training model {fold+1}/{n_folds} \".center(100, \"#\"))\n",
    "        \n",
    "        train_df = dataframe.query(\"fold != @fold\").copy()\n",
    "        valid_df = dataframe.query(\"fold == @fold\").copy()\n",
    "                \n",
    "        train_dset = catboost.Pool(\n",
    "            data=train_df.loc[:,input_feats],\n",
    "            label=train_df.loc[:,\"target\"].values,\n",
    "        )\n",
    "        valid_dset = catboost.Pool(\n",
    "            data=valid_df.loc[:,input_feats],\n",
    "            label=valid_df.loc[:,\"target\"].values,\n",
    "        )\n",
    "        \n",
    "        model = catboost.CatBoostClassifier(**model_params)\n",
    "        model.fit(\n",
    "            train_dset,\n",
    "            eval_set=valid_dset,\n",
    "            verbose=25,\n",
    "        )\n",
    "        \n",
    "        #lgb.plot_importance(model, figsize=(8,15), importance_type=\"split\", max_num_features=30)\n",
    "        #lgb.plot_importance(model, figsize=(8,15), importance_type=\"gain\", max_num_features=30)\n",
    "        #plt.show()        \n",
    "        \n",
    "        oof.loc[valid_df.index,\"pred\"] = model.predict(valid_dset, prediction_type=\"Probability\")[:,1]\n",
    "        \n",
    "        models.append(model)\n",
    "        del train_df,valid_df,train_dset,valid_dset\n",
    "        gc.collect()\n",
    "    \n",
    "    return models,oof"
   ]
  },
  {
   "cell_type": "code",
   "execution_count": 11,
   "id": "433163ef",
   "metadata": {
    "execution": {
     "iopub.execute_input": "2022-08-10T18:15:56.861486Z",
     "iopub.status.busy": "2022-08-10T18:15:56.860860Z",
     "iopub.status.idle": "2022-08-10T18:15:56.863792Z",
     "shell.execute_reply": "2022-08-10T18:15:56.863369Z"
    },
    "papermill": {
     "duration": 0.020704,
     "end_time": "2022-08-10T18:15:56.863909",
     "exception": false,
     "start_time": "2022-08-10T18:15:56.843205",
     "status": "completed"
    },
    "tags": []
   },
   "outputs": [
    {
     "data": {
      "text/plain": [
       "['../data/processed/cv0.csv',\n",
       " '../data/processed/cv1.csv',\n",
       " '../data/processed/cv2.csv',\n",
       " '../data/processed/cv3.csv',\n",
       " '../data/processed/cv4.csv',\n",
       " '../data/processed/cv5.csv',\n",
       " '../data/processed/cv6.csv',\n",
       " '../data/processed/cv7.csv',\n",
       " '../data/processed/cv8.csv',\n",
       " '../data/processed/cv9.csv']"
      ]
     },
     "execution_count": 11,
     "metadata": {},
     "output_type": "execute_result"
    }
   ],
   "source": [
    "# implement repeated cross validation\n",
    "sorted(glob(\"../data/processed/cv*.csv\"))"
   ]
  },
  {
   "cell_type": "code",
   "execution_count": 12,
   "id": "350f2f5a",
   "metadata": {
    "execution": {
     "iopub.execute_input": "2022-08-10T18:15:56.899619Z",
     "iopub.status.busy": "2022-08-10T18:15:56.898982Z",
     "iopub.status.idle": "2022-08-10T23:43:04.967507Z",
     "shell.execute_reply": "2022-08-10T23:43:04.967063Z"
    },
    "papermill": {
     "duration": 19628.090604,
     "end_time": "2022-08-10T23:43:04.967637",
     "exception": false,
     "start_time": "2022-08-10T18:15:56.877033",
     "status": "completed"
    },
    "tags": []
   },
   "outputs": [
    {
     "name": "stdout",
     "output_type": "stream",
     "text": [
      "############################### repeated cross-validation step: 1/3 ################################\n"
     ]
    },
    {
     "name": "stdout",
     "output_type": "stream",
     "text": [
      "######################################## training model 1/5 ########################################\n"
     ]
    },
    {
     "name": "stdout",
     "output_type": "stream",
     "text": [
      "0:\tlearn: 0.5866766\ttest: 0.5878192\tbest: 0.5878192 (0)\ttotal: 3.09s\tremaining: 4h 17m 50s\n"
     ]
    },
    {
     "name": "stdout",
     "output_type": "stream",
     "text": [
      "25:\tlearn: 0.7234873\ttest: 0.7281298\tbest: 0.7281298 (25)\ttotal: 9.52s\tremaining: 30m 20s\n"
     ]
    },
    {
     "name": "stdout",
     "output_type": "stream",
     "text": [
      "50:\tlearn: 0.7418457\ttest: 0.7481086\tbest: 0.7481086 (50)\ttotal: 16s\tremaining: 25m 51s\n"
     ]
    },
    {
     "name": "stdout",
     "output_type": "stream",
     "text": [
      "75:\tlearn: 0.7497940\ttest: 0.7561100\tbest: 0.7561100 (75)\ttotal: 22.5s\tremaining: 24m 19s\n"
     ]
    },
    {
     "name": "stdout",
     "output_type": "stream",
     "text": [
      "100:\tlearn: 0.7567801\ttest: 0.7626928\tbest: 0.7626928 (100)\ttotal: 29.1s\tremaining: 23m 30s\n"
     ]
    },
    {
     "name": "stdout",
     "output_type": "stream",
     "text": [
      "125:\tlearn: 0.7600687\ttest: 0.7659190\tbest: 0.7659945 (123)\ttotal: 35.5s\tremaining: 22m 55s\n"
     ]
    },
    {
     "name": "stdout",
     "output_type": "stream",
     "text": [
      "150:\tlearn: 0.7630638\ttest: 0.7679616\tbest: 0.7679616 (150)\ttotal: 42.1s\tremaining: 22m 30s\n"
     ]
    },
    {
     "name": "stdout",
     "output_type": "stream",
     "text": [
      "175:\tlearn: 0.7655102\ttest: 0.7697390\tbest: 0.7697762 (174)\ttotal: 48.5s\tremaining: 22m 9s\n"
     ]
    },
    {
     "name": "stdout",
     "output_type": "stream",
     "text": [
      "200:\tlearn: 0.7674164\ttest: 0.7716715\tbest: 0.7716715 (200)\ttotal: 55s\tremaining: 21m 52s\n"
     ]
    },
    {
     "name": "stdout",
     "output_type": "stream",
     "text": [
      "225:\tlearn: 0.7693164\ttest: 0.7737212\tbest: 0.7737212 (225)\ttotal: 1m 1s\tremaining: 21m 38s\n"
     ]
    },
    {
     "name": "stdout",
     "output_type": "stream",
     "text": [
      "250:\tlearn: 0.7713677\ttest: 0.7751963\tbest: 0.7755814 (249)\ttotal: 1m 7s\tremaining: 21m 26s\n"
     ]
    },
    {
     "name": "stdout",
     "output_type": "stream",
     "text": [
      "275:\tlearn: 0.7737396\ttest: 0.7765191\tbest: 0.7765191 (275)\ttotal: 1m 14s\tremaining: 21m 14s\n"
     ]
    },
    {
     "name": "stdout",
     "output_type": "stream",
     "text": [
      "300:\tlearn: 0.7770838\ttest: 0.7793554\tbest: 0.7793554 (300)\ttotal: 1m 20s\tremaining: 21m 3s\n"
     ]
    },
    {
     "name": "stdout",
     "output_type": "stream",
     "text": [
      "325:\tlearn: 0.7801566\ttest: 0.7811365\tbest: 0.7811365 (325)\ttotal: 1m 27s\tremaining: 20m 54s\n"
     ]
    },
    {
     "name": "stdout",
     "output_type": "stream",
     "text": [
      "350:\tlearn: 0.7833424\ttest: 0.7832986\tbest: 0.7834400 (347)\ttotal: 1m 33s\tremaining: 20m 44s\n"
     ]
    },
    {
     "name": "stdout",
     "output_type": "stream",
     "text": [
      "375:\tlearn: 0.7858762\ttest: 0.7851847\tbest: 0.7852502 (374)\ttotal: 1m 40s\tremaining: 20m 36s\n"
     ]
    },
    {
     "name": "stdout",
     "output_type": "stream",
     "text": [
      "400:\tlearn: 0.7876357\ttest: 0.7862140\tbest: 0.7863008 (399)\ttotal: 1m 47s\tremaining: 20m 27s\n"
     ]
    },
    {
     "name": "stdout",
     "output_type": "stream",
     "text": [
      "425:\tlearn: 0.7895102\ttest: 0.7885840\tbest: 0.7885840 (425)\ttotal: 1m 53s\tremaining: 20m 18s\n"
     ]
    },
    {
     "name": "stdout",
     "output_type": "stream",
     "text": [
      "450:\tlearn: 0.7909321\ttest: 0.7891538\tbest: 0.7894278 (447)\ttotal: 2m\tremaining: 20m 10s\n"
     ]
    },
    {
     "name": "stdout",
     "output_type": "stream",
     "text": [
      "475:\tlearn: 0.7922948\ttest: 0.7894517\tbest: 0.7896798 (455)\ttotal: 2m 6s\tremaining: 20m 2s\n"
     ]
    },
    {
     "name": "stdout",
     "output_type": "stream",
     "text": [
      "500:\tlearn: 0.7935860\ttest: 0.7904242\tbest: 0.7905328 (494)\ttotal: 2m 12s\tremaining: 19m 54s\n"
     ]
    },
    {
     "name": "stdout",
     "output_type": "stream",
     "text": [
      "525:\tlearn: 0.7948755\ttest: 0.7911521\tbest: 0.7912050 (516)\ttotal: 2m 19s\tremaining: 19m 46s\n"
     ]
    },
    {
     "name": "stdout",
     "output_type": "stream",
     "text": [
      "550:\tlearn: 0.7956332\ttest: 0.7915981\tbest: 0.7915981 (550)\ttotal: 2m 26s\tremaining: 19m 39s\n"
     ]
    },
    {
     "name": "stdout",
     "output_type": "stream",
     "text": [
      "575:\tlearn: 0.7968550\ttest: 0.7916407\tbest: 0.7919766 (564)\ttotal: 2m 32s\tremaining: 19m 31s\n"
     ]
    },
    {
     "name": "stdout",
     "output_type": "stream",
     "text": [
      "600:\tlearn: 0.7980361\ttest: 0.7920080\tbest: 0.7922407 (593)\ttotal: 2m 39s\tremaining: 19m 24s\n"
     ]
    },
    {
     "name": "stdout",
     "output_type": "stream",
     "text": [
      "625:\tlearn: 0.7992805\ttest: 0.7927364\tbest: 0.7927959 (624)\ttotal: 2m 45s\tremaining: 19m 16s\n"
     ]
    },
    {
     "name": "stdout",
     "output_type": "stream",
     "text": [
      "650:\tlearn: 0.7999915\ttest: 0.7929821\tbest: 0.7933357 (641)\ttotal: 2m 52s\tremaining: 19m 9s\n"
     ]
    },
    {
     "name": "stdout",
     "output_type": "stream",
     "text": [
      "675:\tlearn: 0.8009652\ttest: 0.7934910\tbest: 0.7937820 (673)\ttotal: 2m 58s\tremaining: 19m 1s\n"
     ]
    },
    {
     "name": "stdout",
     "output_type": "stream",
     "text": [
      "700:\tlearn: 0.8021033\ttest: 0.7943842\tbest: 0.7945605 (695)\ttotal: 3m 4s\tremaining: 18m 54s\n"
     ]
    },
    {
     "name": "stdout",
     "output_type": "stream",
     "text": [
      "725:\tlearn: 0.8031074\ttest: 0.7950537\tbest: 0.7951011 (716)\ttotal: 3m 11s\tremaining: 18m 46s\n"
     ]
    },
    {
     "name": "stdout",
     "output_type": "stream",
     "text": [
      "750:\tlearn: 0.8037338\ttest: 0.7951956\tbest: 0.7951956 (750)\ttotal: 3m 17s\tremaining: 18m 39s\n"
     ]
    },
    {
     "name": "stdout",
     "output_type": "stream",
     "text": [
      "775:\tlearn: 0.8047784\ttest: 0.7952717\tbest: 0.7953680 (759)\ttotal: 3m 24s\tremaining: 18m 32s\n"
     ]
    },
    {
     "name": "stdout",
     "output_type": "stream",
     "text": [
      "800:\tlearn: 0.8054945\ttest: 0.7955180\tbest: 0.7955180 (800)\ttotal: 3m 30s\tremaining: 18m 25s\n"
     ]
    },
    {
     "name": "stdout",
     "output_type": "stream",
     "text": [
      "825:\tlearn: 0.8064127\ttest: 0.7958565\tbest: 0.7960762 (817)\ttotal: 3m 37s\tremaining: 18m 18s\n"
     ]
    },
    {
     "name": "stdout",
     "output_type": "stream",
     "text": [
      "850:\tlearn: 0.8073067\ttest: 0.7966170\tbest: 0.7966963 (847)\ttotal: 3m 43s\tremaining: 18m 10s\n"
     ]
    },
    {
     "name": "stdout",
     "output_type": "stream",
     "text": [
      "875:\tlearn: 0.8080065\ttest: 0.7968453\tbest: 0.7969242 (869)\ttotal: 3m 50s\tremaining: 18m 4s\n"
     ]
    },
    {
     "name": "stdout",
     "output_type": "stream",
     "text": [
      "900:\tlearn: 0.8089682\ttest: 0.7970060\tbest: 0.7971298 (897)\ttotal: 3m 56s\tremaining: 17m 57s\n"
     ]
    },
    {
     "name": "stdout",
     "output_type": "stream",
     "text": [
      "925:\tlearn: 0.8094536\ttest: 0.7972956\tbest: 0.7972956 (925)\ttotal: 4m 3s\tremaining: 17m 50s\n"
     ]
    },
    {
     "name": "stdout",
     "output_type": "stream",
     "text": [
      "950:\tlearn: 0.8103112\ttest: 0.7972203\tbest: 0.7974111 (940)\ttotal: 4m 9s\tremaining: 17m 42s\n"
     ]
    },
    {
     "name": "stdout",
     "output_type": "stream",
     "text": [
      "975:\tlearn: 0.8110202\ttest: 0.7975022\tbest: 0.7975351 (969)\ttotal: 4m 16s\tremaining: 17m 35s\n"
     ]
    },
    {
     "name": "stdout",
     "output_type": "stream",
     "text": [
      "1000:\tlearn: 0.8114975\ttest: 0.7971226\tbest: 0.7975456 (976)\ttotal: 4m 22s\tremaining: 17m 28s\n"
     ]
    },
    {
     "name": "stdout",
     "output_type": "stream",
     "text": [
      "1025:\tlearn: 0.8124563\ttest: 0.7971663\tbest: 0.7975456 (976)\ttotal: 4m 29s\tremaining: 17m 21s\n"
     ]
    },
    {
     "name": "stdout",
     "output_type": "stream",
     "text": [
      "1050:\tlearn: 0.8131015\ttest: 0.7973619\tbest: 0.7975456 (976)\ttotal: 4m 35s\tremaining: 17m 14s\n"
     ]
    },
    {
     "name": "stdout",
     "output_type": "stream",
     "text": [
      "1075:\tlearn: 0.8138930\ttest: 0.7971240\tbest: 0.7975456 (976)\ttotal: 4m 41s\tremaining: 17m 8s\n"
     ]
    },
    {
     "name": "stdout",
     "output_type": "stream",
     "text": [
      "1100:\tlearn: 0.8146874\ttest: 0.7973546\tbest: 0.7975456 (976)\ttotal: 4m 48s\tremaining: 17m 1s\n"
     ]
    },
    {
     "name": "stdout",
     "output_type": "stream",
     "text": [
      "1125:\tlearn: 0.8153513\ttest: 0.7976047\tbest: 0.7977067 (1122)\ttotal: 4m 54s\tremaining: 16m 54s\n"
     ]
    },
    {
     "name": "stdout",
     "output_type": "stream",
     "text": [
      "1150:\tlearn: 0.8160391\ttest: 0.7979028\tbest: 0.7979606 (1146)\ttotal: 5m 1s\tremaining: 16m 48s\n"
     ]
    },
    {
     "name": "stdout",
     "output_type": "stream",
     "text": [
      "1175:\tlearn: 0.8168028\ttest: 0.7971781\tbest: 0.7979856 (1152)\ttotal: 5m 7s\tremaining: 16m 41s\n"
     ]
    },
    {
     "name": "stdout",
     "output_type": "stream",
     "text": [
      "1200:\tlearn: 0.8172582\ttest: 0.7973490\tbest: 0.7979856 (1152)\ttotal: 5m 14s\tremaining: 16m 34s\n"
     ]
    },
    {
     "name": "stdout",
     "output_type": "stream",
     "text": [
      "1225:\tlearn: 0.8179814\ttest: 0.7973272\tbest: 0.7979856 (1152)\ttotal: 5m 20s\tremaining: 16m 28s\n"
     ]
    },
    {
     "name": "stdout",
     "output_type": "stream",
     "text": [
      "1250:\tlearn: 0.8185357\ttest: 0.7972165\tbest: 0.7979856 (1152)\ttotal: 5m 27s\tremaining: 16m 21s\n"
     ]
    },
    {
     "name": "stdout",
     "output_type": "stream",
     "text": [
      "1275:\tlearn: 0.8193174\ttest: 0.7975833\tbest: 0.7979856 (1152)\ttotal: 5m 33s\tremaining: 16m 14s\n"
     ]
    },
    {
     "name": "stdout",
     "output_type": "stream",
     "text": [
      "1300:\tlearn: 0.8202575\ttest: 0.7976490\tbest: 0.7979856 (1152)\ttotal: 5m 40s\tremaining: 16m 7s\n"
     ]
    },
    {
     "name": "stdout",
     "output_type": "stream",
     "text": [
      "1325:\tlearn: 0.8207175\ttest: 0.7978140\tbest: 0.7979856 (1152)\ttotal: 5m 46s\tremaining: 16m 1s\n"
     ]
    },
    {
     "name": "stdout",
     "output_type": "stream",
     "text": [
      "1350:\tlearn: 0.8212263\ttest: 0.7977541\tbest: 0.7982318 (1344)\ttotal: 5m 53s\tremaining: 15m 54s\n"
     ]
    },
    {
     "name": "stdout",
     "output_type": "stream",
     "text": [
      "1375:\tlearn: 0.8217861\ttest: 0.7978131\tbest: 0.7982318 (1344)\ttotal: 5m 59s\tremaining: 15m 47s\n"
     ]
    },
    {
     "name": "stdout",
     "output_type": "stream",
     "text": [
      "1400:\tlearn: 0.8224576\ttest: 0.7977249\tbest: 0.7982318 (1344)\ttotal: 6m 6s\tremaining: 15m 41s\n"
     ]
    },
    {
     "name": "stdout",
     "output_type": "stream",
     "text": [
      "1425:\tlearn: 0.8232463\ttest: 0.7977394\tbest: 0.7982318 (1344)\ttotal: 6m 12s\tremaining: 15m 34s\n"
     ]
    },
    {
     "name": "stdout",
     "output_type": "stream",
     "text": [
      "1450:\tlearn: 0.8238471\ttest: 0.7977512\tbest: 0.7982318 (1344)\ttotal: 6m 19s\tremaining: 15m 27s\n"
     ]
    },
    {
     "name": "stdout",
     "output_type": "stream",
     "text": [
      "1475:\tlearn: 0.8245577\ttest: 0.7978438\tbest: 0.7982318 (1344)\ttotal: 6m 25s\tremaining: 15m 21s\n"
     ]
    },
    {
     "name": "stdout",
     "output_type": "stream",
     "text": [
      "1500:\tlearn: 0.8250132\ttest: 0.7977674\tbest: 0.7982318 (1344)\ttotal: 6m 32s\tremaining: 15m 14s\n"
     ]
    },
    {
     "name": "stdout",
     "output_type": "stream",
     "text": [
      "1525:\tlearn: 0.8256959\ttest: 0.7976791\tbest: 0.7982318 (1344)\ttotal: 6m 38s\tremaining: 15m 7s\n"
     ]
    },
    {
     "name": "stdout",
     "output_type": "stream",
     "text": [
      "1550:\tlearn: 0.8263541\ttest: 0.7977332\tbest: 0.7982318 (1344)\ttotal: 6m 45s\tremaining: 15m 1s\n"
     ]
    },
    {
     "name": "stdout",
     "output_type": "stream",
     "text": [
      "1575:\tlearn: 0.8270509\ttest: 0.7977010\tbest: 0.7982318 (1344)\ttotal: 6m 51s\tremaining: 14m 54s\n"
     ]
    },
    {
     "name": "stdout",
     "output_type": "stream",
     "text": [
      "1600:\tlearn: 0.8274571\ttest: 0.7978173\tbest: 0.7982318 (1344)\ttotal: 6m 58s\tremaining: 14m 48s\n"
     ]
    },
    {
     "name": "stdout",
     "output_type": "stream",
     "text": [
      "1625:\tlearn: 0.8280306\ttest: 0.7975322\tbest: 0.7982318 (1344)\ttotal: 7m 4s\tremaining: 14m 41s\n"
     ]
    },
    {
     "name": "stdout",
     "output_type": "stream",
     "text": [
      "1650:\tlearn: 0.8286828\ttest: 0.7974146\tbest: 0.7982318 (1344)\ttotal: 7m 11s\tremaining: 14m 34s\n"
     ]
    },
    {
     "name": "stdout",
     "output_type": "stream",
     "text": [
      "1675:\tlearn: 0.8291368\ttest: 0.7972303\tbest: 0.7982318 (1344)\ttotal: 7m 17s\tremaining: 14m 28s\n"
     ]
    },
    {
     "name": "stdout",
     "output_type": "stream",
     "text": [
      "1700:\tlearn: 0.8295395\ttest: 0.7975336\tbest: 0.7982318 (1344)\ttotal: 7m 24s\tremaining: 14m 21s\n"
     ]
    },
    {
     "name": "stdout",
     "output_type": "stream",
     "text": [
      "1725:\tlearn: 0.8301522\ttest: 0.7978265\tbest: 0.7982318 (1344)\ttotal: 7m 30s\tremaining: 14m 14s\n"
     ]
    },
    {
     "name": "stdout",
     "output_type": "stream",
     "text": [
      "1750:\tlearn: 0.8308349\ttest: 0.7975965\tbest: 0.7982318 (1344)\ttotal: 7m 37s\tremaining: 14m 8s\n"
     ]
    },
    {
     "name": "stdout",
     "output_type": "stream",
     "text": [
      "1775:\tlearn: 0.8313572\ttest: 0.7978429\tbest: 0.7982318 (1344)\ttotal: 7m 43s\tremaining: 14m 1s\n"
     ]
    },
    {
     "name": "stdout",
     "output_type": "stream",
     "text": [
      "1800:\tlearn: 0.8318518\ttest: 0.7978562\tbest: 0.7982318 (1344)\ttotal: 7m 50s\tremaining: 13m 54s\n"
     ]
    },
    {
     "name": "stdout",
     "output_type": "stream",
     "text": [
      "1825:\tlearn: 0.8325400\ttest: 0.7980195\tbest: 0.7982318 (1344)\ttotal: 7m 56s\tremaining: 13m 48s\n"
     ]
    },
    {
     "name": "stdout",
     "output_type": "stream",
     "text": [
      "1850:\tlearn: 0.8328440\ttest: 0.7984450\tbest: 0.7984450 (1850)\ttotal: 8m 3s\tremaining: 13m 41s\n"
     ]
    },
    {
     "name": "stdout",
     "output_type": "stream",
     "text": [
      "1875:\tlearn: 0.8335261\ttest: 0.7983330\tbest: 0.7984450 (1850)\ttotal: 8m 9s\tremaining: 13m 35s\n"
     ]
    },
    {
     "name": "stdout",
     "output_type": "stream",
     "text": [
      "1900:\tlearn: 0.8339899\ttest: 0.7985933\tbest: 0.7985933 (1900)\ttotal: 8m 16s\tremaining: 13m 28s\n"
     ]
    },
    {
     "name": "stdout",
     "output_type": "stream",
     "text": [
      "1925:\tlearn: 0.8346559\ttest: 0.7980933\tbest: 0.7985933 (1900)\ttotal: 8m 22s\tremaining: 13m 21s\n"
     ]
    },
    {
     "name": "stdout",
     "output_type": "stream",
     "text": [
      "1950:\tlearn: 0.8351804\ttest: 0.7980568\tbest: 0.7985933 (1900)\ttotal: 8m 28s\tremaining: 13m 15s\n"
     ]
    },
    {
     "name": "stdout",
     "output_type": "stream",
     "text": [
      "1975:\tlearn: 0.8357152\ttest: 0.7981344\tbest: 0.7985933 (1900)\ttotal: 8m 35s\tremaining: 13m 8s\n"
     ]
    },
    {
     "name": "stdout",
     "output_type": "stream",
     "text": [
      "2000:\tlearn: 0.8363739\ttest: 0.7979494\tbest: 0.7985933 (1900)\ttotal: 8m 41s\tremaining: 13m 2s\n"
     ]
    },
    {
     "name": "stdout",
     "output_type": "stream",
     "text": [
      "2025:\tlearn: 0.8370256\ttest: 0.7982106\tbest: 0.7985933 (1900)\ttotal: 8m 48s\tremaining: 12m 55s\n"
     ]
    },
    {
     "name": "stdout",
     "output_type": "stream",
     "text": [
      "2050:\tlearn: 0.8376197\ttest: 0.7979210\tbest: 0.7985933 (1900)\ttotal: 8m 54s\tremaining: 12m 49s\n"
     ]
    },
    {
     "name": "stdout",
     "output_type": "stream",
     "text": [
      "2075:\tlearn: 0.8380573\ttest: 0.7983643\tbest: 0.7985933 (1900)\ttotal: 9m 1s\tremaining: 12m 42s\n"
     ]
    },
    {
     "name": "stdout",
     "output_type": "stream",
     "text": [
      "2100:\tlearn: 0.8386460\ttest: 0.7983924\tbest: 0.7985933 (1900)\ttotal: 9m 7s\tremaining: 12m 35s\n"
     ]
    },
    {
     "name": "stdout",
     "output_type": "stream",
     "text": [
      "2125:\tlearn: 0.8391401\ttest: 0.7986530\tbest: 0.7986915 (2110)\ttotal: 9m 14s\tremaining: 12m 29s\n"
     ]
    },
    {
     "name": "stdout",
     "output_type": "stream",
     "text": [
      "2150:\tlearn: 0.8397376\ttest: 0.7985103\tbest: 0.7986915 (2110)\ttotal: 9m 20s\tremaining: 12m 22s\n"
     ]
    },
    {
     "name": "stdout",
     "output_type": "stream",
     "text": [
      "2175:\tlearn: 0.8402212\ttest: 0.7985176\tbest: 0.7987038 (2164)\ttotal: 9m 27s\tremaining: 12m 16s\n"
     ]
    },
    {
     "name": "stdout",
     "output_type": "stream",
     "text": [
      "2200:\tlearn: 0.8404992\ttest: 0.7983140\tbest: 0.7987038 (2164)\ttotal: 9m 33s\tremaining: 12m 9s\n"
     ]
    },
    {
     "name": "stdout",
     "output_type": "stream",
     "text": [
      "2225:\tlearn: 0.8411182\ttest: 0.7982560\tbest: 0.7987038 (2164)\ttotal: 9m 40s\tremaining: 12m 3s\n"
     ]
    },
    {
     "name": "stdout",
     "output_type": "stream",
     "text": [
      "2250:\tlearn: 0.8415493\ttest: 0.7982249\tbest: 0.7987038 (2164)\ttotal: 9m 46s\tremaining: 11m 56s\n"
     ]
    },
    {
     "name": "stdout",
     "output_type": "stream",
     "text": [
      "2275:\tlearn: 0.8419392\ttest: 0.7984366\tbest: 0.7987038 (2164)\ttotal: 9m 53s\tremaining: 11m 49s\n"
     ]
    },
    {
     "name": "stdout",
     "output_type": "stream",
     "text": [
      "2300:\tlearn: 0.8424115\ttest: 0.7982008\tbest: 0.7987038 (2164)\ttotal: 9m 59s\tremaining: 11m 43s\n"
     ]
    },
    {
     "name": "stdout",
     "output_type": "stream",
     "text": [
      "2325:\tlearn: 0.8428860\ttest: 0.7985802\tbest: 0.7987689 (2311)\ttotal: 10m 6s\tremaining: 11m 36s\n"
     ]
    },
    {
     "name": "stdout",
     "output_type": "stream",
     "text": [
      "2350:\tlearn: 0.8433192\ttest: 0.7983942\tbest: 0.7987689 (2311)\ttotal: 10m 12s\tremaining: 11m 30s\n"
     ]
    },
    {
     "name": "stdout",
     "output_type": "stream",
     "text": [
      "2375:\tlearn: 0.8439181\ttest: 0.7989096\tbest: 0.7989096 (2375)\ttotal: 10m 19s\tremaining: 11m 23s\n"
     ]
    },
    {
     "name": "stdout",
     "output_type": "stream",
     "text": [
      "2400:\tlearn: 0.8444188\ttest: 0.7987274\tbest: 0.7989327 (2379)\ttotal: 10m 25s\tremaining: 11m 17s\n"
     ]
    },
    {
     "name": "stdout",
     "output_type": "stream",
     "text": [
      "2425:\tlearn: 0.8449655\ttest: 0.7985206\tbest: 0.7989327 (2379)\ttotal: 10m 31s\tremaining: 11m 10s\n"
     ]
    },
    {
     "name": "stdout",
     "output_type": "stream",
     "text": [
      "2450:\tlearn: 0.8454590\ttest: 0.7986745\tbest: 0.7989327 (2379)\ttotal: 10m 38s\tremaining: 11m 4s\n"
     ]
    },
    {
     "name": "stdout",
     "output_type": "stream",
     "text": [
      "2475:\tlearn: 0.8458215\ttest: 0.7984897\tbest: 0.7989327 (2379)\ttotal: 10m 44s\tremaining: 10m 57s\n"
     ]
    },
    {
     "name": "stdout",
     "output_type": "stream",
     "text": [
      "2500:\tlearn: 0.8463290\ttest: 0.7984942\tbest: 0.7989327 (2379)\ttotal: 10m 51s\tremaining: 10m 50s\n"
     ]
    },
    {
     "name": "stdout",
     "output_type": "stream",
     "text": [
      "2525:\tlearn: 0.8467507\ttest: 0.7986600\tbest: 0.7989327 (2379)\ttotal: 10m 57s\tremaining: 10m 44s\n"
     ]
    },
    {
     "name": "stdout",
     "output_type": "stream",
     "text": [
      "2550:\tlearn: 0.8470822\ttest: 0.7986804\tbest: 0.7989327 (2379)\ttotal: 11m 4s\tremaining: 10m 37s\n"
     ]
    },
    {
     "name": "stdout",
     "output_type": "stream",
     "text": [
      "2575:\tlearn: 0.8476091\ttest: 0.7984037\tbest: 0.7989327 (2379)\ttotal: 11m 10s\tremaining: 10m 31s\n"
     ]
    },
    {
     "name": "stdout",
     "output_type": "stream",
     "text": [
      "2600:\tlearn: 0.8482098\ttest: 0.7989960\tbest: 0.7989960 (2599)\ttotal: 11m 17s\tremaining: 10m 24s\n"
     ]
    },
    {
     "name": "stdout",
     "output_type": "stream",
     "text": [
      "2625:\tlearn: 0.8487285\ttest: 0.7988517\tbest: 0.7989960 (2599)\ttotal: 11m 23s\tremaining: 10m 18s\n"
     ]
    },
    {
     "name": "stdout",
     "output_type": "stream",
     "text": [
      "2650:\tlearn: 0.8495324\ttest: 0.7985448\tbest: 0.7989960 (2599)\ttotal: 11m 30s\tremaining: 10m 11s\n"
     ]
    },
    {
     "name": "stdout",
     "output_type": "stream",
     "text": [
      "2675:\tlearn: 0.8500067\ttest: 0.7991716\tbest: 0.7991716 (2675)\ttotal: 11m 36s\tremaining: 10m 5s\n"
     ]
    },
    {
     "name": "stdout",
     "output_type": "stream",
     "text": [
      "2700:\tlearn: 0.8503309\ttest: 0.7992553\tbest: 0.7992979 (2697)\ttotal: 11m 43s\tremaining: 9m 58s\n"
     ]
    },
    {
     "name": "stdout",
     "output_type": "stream",
     "text": [
      "2725:\tlearn: 0.8510931\ttest: 0.7989146\tbest: 0.7993162 (2706)\ttotal: 11m 49s\tremaining: 9m 52s\n"
     ]
    },
    {
     "name": "stdout",
     "output_type": "stream",
     "text": [
      "2750:\tlearn: 0.8514956\ttest: 0.7989157\tbest: 0.7993162 (2706)\ttotal: 11m 56s\tremaining: 9m 45s\n"
     ]
    },
    {
     "name": "stdout",
     "output_type": "stream",
     "text": [
      "2775:\tlearn: 0.8519416\ttest: 0.7989205\tbest: 0.7993162 (2706)\ttotal: 12m 2s\tremaining: 9m 38s\n"
     ]
    },
    {
     "name": "stdout",
     "output_type": "stream",
     "text": [
      "2800:\tlearn: 0.8523973\ttest: 0.7986076\tbest: 0.7993162 (2706)\ttotal: 12m 9s\tremaining: 9m 32s\n"
     ]
    },
    {
     "name": "stdout",
     "output_type": "stream",
     "text": [
      "2825:\tlearn: 0.8527660\ttest: 0.7985884\tbest: 0.7993162 (2706)\ttotal: 12m 15s\tremaining: 9m 25s\n"
     ]
    },
    {
     "name": "stdout",
     "output_type": "stream",
     "text": [
      "2850:\tlearn: 0.8533420\ttest: 0.7984880\tbest: 0.7993162 (2706)\ttotal: 12m 22s\tremaining: 9m 19s\n"
     ]
    },
    {
     "name": "stdout",
     "output_type": "stream",
     "text": [
      "2875:\tlearn: 0.8537551\ttest: 0.7985100\tbest: 0.7993162 (2706)\ttotal: 12m 28s\tremaining: 9m 12s\n"
     ]
    },
    {
     "name": "stdout",
     "output_type": "stream",
     "text": [
      "2900:\tlearn: 0.8543141\ttest: 0.7983650\tbest: 0.7993162 (2706)\ttotal: 12m 35s\tremaining: 9m 6s\n"
     ]
    },
    {
     "name": "stdout",
     "output_type": "stream",
     "text": [
      "2925:\tlearn: 0.8548607\ttest: 0.7979632\tbest: 0.7993162 (2706)\ttotal: 12m 41s\tremaining: 8m 59s\n"
     ]
    },
    {
     "name": "stdout",
     "output_type": "stream",
     "text": [
      "2950:\tlearn: 0.8553167\ttest: 0.7981944\tbest: 0.7993162 (2706)\ttotal: 12m 47s\tremaining: 8m 53s\n"
     ]
    },
    {
     "name": "stdout",
     "output_type": "stream",
     "text": [
      "2975:\tlearn: 0.8558069\ttest: 0.7986420\tbest: 0.7993162 (2706)\ttotal: 12m 54s\tremaining: 8m 46s\n"
     ]
    },
    {
     "name": "stdout",
     "output_type": "stream",
     "text": [
      "3000:\tlearn: 0.8562220\ttest: 0.7985834\tbest: 0.7993162 (2706)\ttotal: 13m\tremaining: 8m 40s\n"
     ]
    },
    {
     "name": "stdout",
     "output_type": "stream",
     "text": [
      "3025:\tlearn: 0.8567643\ttest: 0.7985705\tbest: 0.7993162 (2706)\ttotal: 13m 7s\tremaining: 8m 33s\n"
     ]
    },
    {
     "name": "stdout",
     "output_type": "stream",
     "text": [
      "3050:\tlearn: 0.8574602\ttest: 0.7982544\tbest: 0.7993162 (2706)\ttotal: 13m 13s\tremaining: 8m 27s\n"
     ]
    },
    {
     "name": "stdout",
     "output_type": "stream",
     "text": [
      "3075:\tlearn: 0.8578943\ttest: 0.7984041\tbest: 0.7993162 (2706)\ttotal: 13m 20s\tremaining: 8m 20s\n"
     ]
    },
    {
     "name": "stdout",
     "output_type": "stream",
     "text": [
      "3100:\tlearn: 0.8583160\ttest: 0.7988292\tbest: 0.7993162 (2706)\ttotal: 13m 26s\tremaining: 8m 14s\n"
     ]
    },
    {
     "name": "stdout",
     "output_type": "stream",
     "text": [
      "3125:\tlearn: 0.8588849\ttest: 0.7986156\tbest: 0.7993162 (2706)\ttotal: 13m 33s\tremaining: 8m 7s\n"
     ]
    },
    {
     "name": "stdout",
     "output_type": "stream",
     "text": [
      "3150:\tlearn: 0.8593754\ttest: 0.7987255\tbest: 0.7993162 (2706)\ttotal: 13m 39s\tremaining: 8m\n"
     ]
    },
    {
     "name": "stdout",
     "output_type": "stream",
     "text": [
      "3175:\tlearn: 0.8595652\ttest: 0.7985245\tbest: 0.7993162 (2706)\ttotal: 13m 46s\tremaining: 7m 54s\n"
     ]
    },
    {
     "name": "stdout",
     "output_type": "stream",
     "text": [
      "3200:\tlearn: 0.8599216\ttest: 0.7982689\tbest: 0.7993162 (2706)\ttotal: 13m 52s\tremaining: 7m 47s\n"
     ]
    },
    {
     "name": "stdout",
     "output_type": "stream",
     "text": [
      "3225:\tlearn: 0.8602832\ttest: 0.7985034\tbest: 0.7993162 (2706)\ttotal: 13m 59s\tremaining: 7m 41s\n"
     ]
    },
    {
     "name": "stdout",
     "output_type": "stream",
     "text": [
      "3250:\tlearn: 0.8608740\ttest: 0.7985779\tbest: 0.7993162 (2706)\ttotal: 14m 5s\tremaining: 7m 34s\n"
     ]
    },
    {
     "name": "stdout",
     "output_type": "stream",
     "text": [
      "3275:\tlearn: 0.8612783\ttest: 0.7984772\tbest: 0.7993162 (2706)\ttotal: 14m 12s\tremaining: 7m 28s\n"
     ]
    },
    {
     "name": "stdout",
     "output_type": "stream",
     "text": [
      "3300:\tlearn: 0.8620006\ttest: 0.7983108\tbest: 0.7993162 (2706)\ttotal: 14m 18s\tremaining: 7m 21s\n"
     ]
    },
    {
     "name": "stdout",
     "output_type": "stream",
     "text": [
      "3325:\tlearn: 0.8623745\ttest: 0.7986716\tbest: 0.7993162 (2706)\ttotal: 14m 24s\tremaining: 7m 15s\n"
     ]
    },
    {
     "name": "stdout",
     "output_type": "stream",
     "text": [
      "3350:\tlearn: 0.8628842\ttest: 0.7983030\tbest: 0.7993162 (2706)\ttotal: 14m 31s\tremaining: 7m 8s\n"
     ]
    },
    {
     "name": "stdout",
     "output_type": "stream",
     "text": [
      "3375:\tlearn: 0.8632949\ttest: 0.7985127\tbest: 0.7993162 (2706)\ttotal: 14m 37s\tremaining: 7m 2s\n"
     ]
    },
    {
     "name": "stdout",
     "output_type": "stream",
     "text": [
      "3400:\tlearn: 0.8636249\ttest: 0.7985932\tbest: 0.7993162 (2706)\ttotal: 14m 44s\tremaining: 6m 55s\n"
     ]
    },
    {
     "name": "stdout",
     "output_type": "stream",
     "text": [
      "3425:\tlearn: 0.8640977\ttest: 0.7985691\tbest: 0.7993162 (2706)\ttotal: 14m 50s\tremaining: 6m 49s\n"
     ]
    },
    {
     "name": "stdout",
     "output_type": "stream",
     "text": [
      "3450:\tlearn: 0.8643162\ttest: 0.7985760\tbest: 0.7993162 (2706)\ttotal: 14m 57s\tremaining: 6m 42s\n"
     ]
    },
    {
     "name": "stdout",
     "output_type": "stream",
     "text": [
      "3475:\tlearn: 0.8647692\ttest: 0.7986684\tbest: 0.7993162 (2706)\ttotal: 15m 3s\tremaining: 6m 36s\n"
     ]
    },
    {
     "name": "stdout",
     "output_type": "stream",
     "text": [
      "3500:\tlearn: 0.8652396\ttest: 0.7986102\tbest: 0.7993162 (2706)\ttotal: 15m 10s\tremaining: 6m 29s\n"
     ]
    },
    {
     "name": "stdout",
     "output_type": "stream",
     "text": [
      "3525:\tlearn: 0.8657735\ttest: 0.7990120\tbest: 0.7993162 (2706)\ttotal: 15m 17s\tremaining: 6m 23s\n"
     ]
    },
    {
     "name": "stdout",
     "output_type": "stream",
     "text": [
      "3550:\tlearn: 0.8663145\ttest: 0.7987206\tbest: 0.7993162 (2706)\ttotal: 15m 23s\tremaining: 6m 16s\n"
     ]
    },
    {
     "name": "stdout",
     "output_type": "stream",
     "text": [
      "3575:\tlearn: 0.8665581\ttest: 0.7988197\tbest: 0.7993162 (2706)\ttotal: 15m 30s\tremaining: 6m 10s\n"
     ]
    },
    {
     "name": "stdout",
     "output_type": "stream",
     "text": [
      "3600:\tlearn: 0.8669911\ttest: 0.7981636\tbest: 0.7993162 (2706)\ttotal: 15m 36s\tremaining: 6m 3s\n"
     ]
    },
    {
     "name": "stdout",
     "output_type": "stream",
     "text": [
      "3625:\tlearn: 0.8674527\ttest: 0.7982905\tbest: 0.7993162 (2706)\ttotal: 15m 43s\tremaining: 5m 57s\n"
     ]
    },
    {
     "name": "stdout",
     "output_type": "stream",
     "text": [
      "3650:\tlearn: 0.8678972\ttest: 0.7984435\tbest: 0.7993162 (2706)\ttotal: 15m 49s\tremaining: 5m 50s\n"
     ]
    },
    {
     "name": "stdout",
     "output_type": "stream",
     "text": [
      "3675:\tlearn: 0.8683948\ttest: 0.7982917\tbest: 0.7993162 (2706)\ttotal: 15m 56s\tremaining: 5m 44s\n"
     ]
    },
    {
     "name": "stdout",
     "output_type": "stream",
     "text": [
      "3700:\tlearn: 0.8690557\ttest: 0.7982080\tbest: 0.7993162 (2706)\ttotal: 16m 2s\tremaining: 5m 37s\n"
     ]
    },
    {
     "name": "stdout",
     "output_type": "stream",
     "text": [
      "3725:\tlearn: 0.8695249\ttest: 0.7980818\tbest: 0.7993162 (2706)\ttotal: 16m 9s\tremaining: 5m 31s\n"
     ]
    },
    {
     "name": "stdout",
     "output_type": "stream",
     "text": [
      "3750:\tlearn: 0.8699720\ttest: 0.7982683\tbest: 0.7993162 (2706)\ttotal: 16m 15s\tremaining: 5m 24s\n"
     ]
    },
    {
     "name": "stdout",
     "output_type": "stream",
     "text": [
      "3775:\tlearn: 0.8703892\ttest: 0.7985037\tbest: 0.7993162 (2706)\ttotal: 16m 22s\tremaining: 5m 18s\n"
     ]
    },
    {
     "name": "stdout",
     "output_type": "stream",
     "text": [
      "3800:\tlearn: 0.8707593\ttest: 0.7985852\tbest: 0.7993162 (2706)\ttotal: 16m 28s\tremaining: 5m 11s\n"
     ]
    },
    {
     "name": "stdout",
     "output_type": "stream",
     "text": [
      "3825:\tlearn: 0.8712424\ttest: 0.7984013\tbest: 0.7993162 (2706)\ttotal: 16m 35s\tremaining: 5m 5s\n"
     ]
    },
    {
     "name": "stdout",
     "output_type": "stream",
     "text": [
      "3850:\tlearn: 0.8716014\ttest: 0.7985066\tbest: 0.7993162 (2706)\ttotal: 16m 41s\tremaining: 4m 58s\n"
     ]
    },
    {
     "name": "stdout",
     "output_type": "stream",
     "text": [
      "3875:\tlearn: 0.8720625\ttest: 0.7986767\tbest: 0.7993162 (2706)\ttotal: 16m 48s\tremaining: 4m 52s\n"
     ]
    },
    {
     "name": "stdout",
     "output_type": "stream",
     "text": [
      "3900:\tlearn: 0.8724910\ttest: 0.7992193\tbest: 0.7993162 (2706)\ttotal: 16m 54s\tremaining: 4m 45s\n"
     ]
    },
    {
     "name": "stdout",
     "output_type": "stream",
     "text": [
      "3925:\tlearn: 0.8729400\ttest: 0.7990127\tbest: 0.7993162 (2706)\ttotal: 17m 1s\tremaining: 4m 39s\n"
     ]
    },
    {
     "name": "stdout",
     "output_type": "stream",
     "text": [
      "3950:\tlearn: 0.8733152\ttest: 0.7989669\tbest: 0.7993162 (2706)\ttotal: 17m 7s\tremaining: 4m 32s\n"
     ]
    },
    {
     "name": "stdout",
     "output_type": "stream",
     "text": [
      "3975:\tlearn: 0.8737075\ttest: 0.7985874\tbest: 0.7993162 (2706)\ttotal: 17m 14s\tremaining: 4m 26s\n"
     ]
    },
    {
     "name": "stdout",
     "output_type": "stream",
     "text": [
      "4000:\tlearn: 0.8739655\ttest: 0.7987442\tbest: 0.7993162 (2706)\ttotal: 17m 20s\tremaining: 4m 19s\n"
     ]
    },
    {
     "name": "stdout",
     "output_type": "stream",
     "text": [
      "4025:\tlearn: 0.8743201\ttest: 0.7989515\tbest: 0.7993162 (2706)\ttotal: 17m 27s\tremaining: 4m 13s\n"
     ]
    },
    {
     "name": "stdout",
     "output_type": "stream",
     "text": [
      "4050:\tlearn: 0.8747450\ttest: 0.7988068\tbest: 0.7993162 (2706)\ttotal: 17m 33s\tremaining: 4m 6s\n"
     ]
    },
    {
     "name": "stdout",
     "output_type": "stream",
     "text": [
      "4075:\tlearn: 0.8751742\ttest: 0.7988333\tbest: 0.7993162 (2706)\ttotal: 17m 40s\tremaining: 4m\n"
     ]
    },
    {
     "name": "stdout",
     "output_type": "stream",
     "text": [
      "4100:\tlearn: 0.8755897\ttest: 0.7990238\tbest: 0.7993162 (2706)\ttotal: 17m 46s\tremaining: 3m 53s\n"
     ]
    },
    {
     "name": "stdout",
     "output_type": "stream",
     "text": [
      "4125:\tlearn: 0.8761974\ttest: 0.7990259\tbest: 0.7993162 (2706)\ttotal: 17m 53s\tremaining: 3m 47s\n"
     ]
    },
    {
     "name": "stdout",
     "output_type": "stream",
     "text": [
      "4150:\tlearn: 0.8765159\ttest: 0.7990848\tbest: 0.7993162 (2706)\ttotal: 17m 59s\tremaining: 3m 40s\n"
     ]
    },
    {
     "name": "stdout",
     "output_type": "stream",
     "text": [
      "4175:\tlearn: 0.8770698\ttest: 0.7993563\tbest: 0.7994407 (4171)\ttotal: 18m 6s\tremaining: 3m 34s\n"
     ]
    },
    {
     "name": "stdout",
     "output_type": "stream",
     "text": [
      "4200:\tlearn: 0.8775817\ttest: 0.7990814\tbest: 0.7994407 (4171)\ttotal: 18m 12s\tremaining: 3m 27s\n"
     ]
    },
    {
     "name": "stdout",
     "output_type": "stream",
     "text": [
      "4225:\tlearn: 0.8780935\ttest: 0.7993234\tbest: 0.7994407 (4171)\ttotal: 18m 19s\tremaining: 3m 21s\n"
     ]
    },
    {
     "name": "stdout",
     "output_type": "stream",
     "text": [
      "4250:\tlearn: 0.8785483\ttest: 0.7991155\tbest: 0.7994407 (4171)\ttotal: 18m 25s\tremaining: 3m 14s\n"
     ]
    },
    {
     "name": "stdout",
     "output_type": "stream",
     "text": [
      "4275:\tlearn: 0.8788947\ttest: 0.7991551\tbest: 0.7994407 (4171)\ttotal: 18m 32s\tremaining: 3m 8s\n"
     ]
    },
    {
     "name": "stdout",
     "output_type": "stream",
     "text": [
      "4300:\tlearn: 0.8791381\ttest: 0.7992125\tbest: 0.7994665 (4290)\ttotal: 18m 38s\tremaining: 3m 1s\n"
     ]
    },
    {
     "name": "stdout",
     "output_type": "stream",
     "text": [
      "4325:\tlearn: 0.8795460\ttest: 0.7990461\tbest: 0.7994665 (4290)\ttotal: 18m 45s\tremaining: 2m 55s\n"
     ]
    },
    {
     "name": "stdout",
     "output_type": "stream",
     "text": [
      "4350:\tlearn: 0.8800693\ttest: 0.7990249\tbest: 0.7994665 (4290)\ttotal: 18m 51s\tremaining: 2m 48s\n"
     ]
    },
    {
     "name": "stdout",
     "output_type": "stream",
     "text": [
      "4375:\tlearn: 0.8805103\ttest: 0.7992824\tbest: 0.7994665 (4290)\ttotal: 18m 58s\tremaining: 2m 42s\n"
     ]
    },
    {
     "name": "stdout",
     "output_type": "stream",
     "text": [
      "4400:\tlearn: 0.8809024\ttest: 0.7989701\tbest: 0.7994665 (4290)\ttotal: 19m 4s\tremaining: 2m 35s\n"
     ]
    },
    {
     "name": "stdout",
     "output_type": "stream",
     "text": [
      "4425:\tlearn: 0.8812877\ttest: 0.7988869\tbest: 0.7994665 (4290)\ttotal: 19m 11s\tremaining: 2m 29s\n"
     ]
    },
    {
     "name": "stdout",
     "output_type": "stream",
     "text": [
      "4450:\tlearn: 0.8815247\ttest: 0.7985951\tbest: 0.7994665 (4290)\ttotal: 19m 17s\tremaining: 2m 22s\n"
     ]
    },
    {
     "name": "stdout",
     "output_type": "stream",
     "text": [
      "4475:\tlearn: 0.8818769\ttest: 0.7983222\tbest: 0.7994665 (4290)\ttotal: 19m 24s\tremaining: 2m 16s\n"
     ]
    },
    {
     "name": "stdout",
     "output_type": "stream",
     "text": [
      "4500:\tlearn: 0.8823895\ttest: 0.7982912\tbest: 0.7994665 (4290)\ttotal: 19m 30s\tremaining: 2m 9s\n"
     ]
    },
    {
     "name": "stdout",
     "output_type": "stream",
     "text": [
      "4525:\tlearn: 0.8827442\ttest: 0.7984017\tbest: 0.7994665 (4290)\ttotal: 19m 37s\tremaining: 2m 3s\n"
     ]
    },
    {
     "name": "stdout",
     "output_type": "stream",
     "text": [
      "4550:\tlearn: 0.8830332\ttest: 0.7982358\tbest: 0.7994665 (4290)\ttotal: 19m 43s\tremaining: 1m 56s\n"
     ]
    },
    {
     "name": "stdout",
     "output_type": "stream",
     "text": [
      "4575:\tlearn: 0.8834068\ttest: 0.7982984\tbest: 0.7994665 (4290)\ttotal: 19m 49s\tremaining: 1m 50s\n"
     ]
    },
    {
     "name": "stdout",
     "output_type": "stream",
     "text": [
      "4600:\tlearn: 0.8839425\ttest: 0.7986182\tbest: 0.7994665 (4290)\ttotal: 19m 56s\tremaining: 1m 43s\n"
     ]
    },
    {
     "name": "stdout",
     "output_type": "stream",
     "text": [
      "4625:\tlearn: 0.8842337\ttest: 0.7987253\tbest: 0.7994665 (4290)\ttotal: 20m 2s\tremaining: 1m 37s\n"
     ]
    },
    {
     "name": "stdout",
     "output_type": "stream",
     "text": [
      "4650:\tlearn: 0.8845706\ttest: 0.7984918\tbest: 0.7994665 (4290)\ttotal: 20m 9s\tremaining: 1m 30s\n"
     ]
    },
    {
     "name": "stdout",
     "output_type": "stream",
     "text": [
      "4675:\tlearn: 0.8850394\ttest: 0.7984873\tbest: 0.7994665 (4290)\ttotal: 20m 15s\tremaining: 1m 24s\n"
     ]
    },
    {
     "name": "stdout",
     "output_type": "stream",
     "text": [
      "4700:\tlearn: 0.8852899\ttest: 0.7982719\tbest: 0.7994665 (4290)\ttotal: 20m 22s\tremaining: 1m 17s\n"
     ]
    },
    {
     "name": "stdout",
     "output_type": "stream",
     "text": [
      "4725:\tlearn: 0.8859058\ttest: 0.7982398\tbest: 0.7994665 (4290)\ttotal: 20m 28s\tremaining: 1m 11s\n"
     ]
    },
    {
     "name": "stdout",
     "output_type": "stream",
     "text": [
      "4750:\tlearn: 0.8863128\ttest: 0.7986182\tbest: 0.7994665 (4290)\ttotal: 20m 35s\tremaining: 1m 4s\n"
     ]
    },
    {
     "name": "stdout",
     "output_type": "stream",
     "text": [
      "4775:\tlearn: 0.8867790\ttest: 0.7984231\tbest: 0.7994665 (4290)\ttotal: 20m 41s\tremaining: 58.2s\n"
     ]
    },
    {
     "name": "stdout",
     "output_type": "stream",
     "text": [
      "4800:\tlearn: 0.8870778\ttest: 0.7989541\tbest: 0.7994665 (4290)\ttotal: 20m 48s\tremaining: 51.7s\n"
     ]
    },
    {
     "name": "stdout",
     "output_type": "stream",
     "text": [
      "4825:\tlearn: 0.8874893\ttest: 0.7989187\tbest: 0.7994665 (4290)\ttotal: 20m 54s\tremaining: 45.2s\n"
     ]
    },
    {
     "name": "stdout",
     "output_type": "stream",
     "text": [
      "4850:\tlearn: 0.8877996\ttest: 0.7986235\tbest: 0.7994665 (4290)\ttotal: 21m 1s\tremaining: 38.7s\n"
     ]
    },
    {
     "name": "stdout",
     "output_type": "stream",
     "text": [
      "4875:\tlearn: 0.8883296\ttest: 0.7986868\tbest: 0.7994665 (4290)\ttotal: 21m 7s\tremaining: 32.2s\n"
     ]
    },
    {
     "name": "stdout",
     "output_type": "stream",
     "text": [
      "4900:\tlearn: 0.8887572\ttest: 0.7987714\tbest: 0.7994665 (4290)\ttotal: 21m 14s\tremaining: 25.7s\n"
     ]
    },
    {
     "name": "stdout",
     "output_type": "stream",
     "text": [
      "4925:\tlearn: 0.8891579\ttest: 0.7987068\tbest: 0.7994665 (4290)\ttotal: 21m 20s\tremaining: 19.2s\n"
     ]
    },
    {
     "name": "stdout",
     "output_type": "stream",
     "text": [
      "4950:\tlearn: 0.8894734\ttest: 0.7986215\tbest: 0.7994665 (4290)\ttotal: 21m 27s\tremaining: 12.7s\n"
     ]
    },
    {
     "name": "stdout",
     "output_type": "stream",
     "text": [
      "4975:\tlearn: 0.8898344\ttest: 0.7987465\tbest: 0.7994665 (4290)\ttotal: 21m 33s\tremaining: 6.24s\n"
     ]
    },
    {
     "name": "stdout",
     "output_type": "stream",
     "text": [
      "4999:\tlearn: 0.8902038\ttest: 0.7984574\tbest: 0.7994665 (4290)\ttotal: 21m 39s\tremaining: 0us\n",
      "\n",
      "bestTest = 0.7994664558\n",
      "bestIteration = 4290\n",
      "\n"
     ]
    },
    {
     "name": "stdout",
     "output_type": "stream",
     "text": [
      "######################################## training model 2/5 ########################################\n"
     ]
    },
    {
     "name": "stdout",
     "output_type": "stream",
     "text": [
      "0:\tlearn: 0.5860486\ttest: 0.5899085\tbest: 0.5899085 (0)\ttotal: 581ms\tremaining: 48m 21s\n"
     ]
    },
    {
     "name": "stdout",
     "output_type": "stream",
     "text": [
      "25:\tlearn: 0.7228259\ttest: 0.7232606\tbest: 0.7232606 (25)\ttotal: 7s\tremaining: 22m 18s\n"
     ]
    },
    {
     "name": "stdout",
     "output_type": "stream",
     "text": [
      "50:\tlearn: 0.7424365\ttest: 0.7428876\tbest: 0.7430622 (49)\ttotal: 13.5s\tremaining: 21m 46s\n"
     ]
    },
    {
     "name": "stdout",
     "output_type": "stream",
     "text": [
      "75:\tlearn: 0.7516205\ttest: 0.7512421\tbest: 0.7512421 (75)\ttotal: 20s\tremaining: 21m 34s\n"
     ]
    },
    {
     "name": "stdout",
     "output_type": "stream",
     "text": [
      "100:\tlearn: 0.7578992\ttest: 0.7572779\tbest: 0.7572779 (100)\ttotal: 26.5s\tremaining: 21m 27s\n"
     ]
    },
    {
     "name": "stdout",
     "output_type": "stream",
     "text": [
      "125:\tlearn: 0.7615088\ttest: 0.7602466\tbest: 0.7602466 (125)\ttotal: 33s\tremaining: 21m 17s\n"
     ]
    },
    {
     "name": "stdout",
     "output_type": "stream",
     "text": [
      "150:\tlearn: 0.7641800\ttest: 0.7631998\tbest: 0.7633499 (147)\ttotal: 39.5s\tremaining: 21m 8s\n"
     ]
    },
    {
     "name": "stdout",
     "output_type": "stream",
     "text": [
      "175:\tlearn: 0.7666898\ttest: 0.7655392\tbest: 0.7655392 (175)\ttotal: 45.9s\tremaining: 20m 59s\n"
     ]
    },
    {
     "name": "stdout",
     "output_type": "stream",
     "text": [
      "200:\tlearn: 0.7685933\ttest: 0.7667552\tbest: 0.7668247 (199)\ttotal: 52.4s\tremaining: 20m 51s\n"
     ]
    },
    {
     "name": "stdout",
     "output_type": "stream",
     "text": [
      "225:\tlearn: 0.7706209\ttest: 0.7689031\tbest: 0.7689031 (225)\ttotal: 58.9s\tremaining: 20m 43s\n"
     ]
    },
    {
     "name": "stdout",
     "output_type": "stream",
     "text": [
      "250:\tlearn: 0.7724022\ttest: 0.7704343\tbest: 0.7705007 (248)\ttotal: 1m 5s\tremaining: 20m 37s\n"
     ]
    },
    {
     "name": "stdout",
     "output_type": "stream",
     "text": [
      "275:\tlearn: 0.7745615\ttest: 0.7722822\tbest: 0.7722822 (275)\ttotal: 1m 11s\tremaining: 20m 30s\n"
     ]
    },
    {
     "name": "stdout",
     "output_type": "stream",
     "text": [
      "300:\tlearn: 0.7773740\ttest: 0.7750064\tbest: 0.7750064 (300)\ttotal: 1m 18s\tremaining: 20m 23s\n"
     ]
    },
    {
     "name": "stdout",
     "output_type": "stream",
     "text": [
      "325:\tlearn: 0.7807688\ttest: 0.7792009\tbest: 0.7792489 (324)\ttotal: 1m 24s\tremaining: 20m 16s\n"
     ]
    },
    {
     "name": "stdout",
     "output_type": "stream",
     "text": [
      "350:\tlearn: 0.7836847\ttest: 0.7816915\tbest: 0.7816915 (350)\ttotal: 1m 31s\tremaining: 20m 10s\n"
     ]
    },
    {
     "name": "stdout",
     "output_type": "stream",
     "text": [
      "375:\tlearn: 0.7862047\ttest: 0.7833090\tbest: 0.7833090 (375)\ttotal: 1m 37s\tremaining: 20m 4s\n"
     ]
    },
    {
     "name": "stdout",
     "output_type": "stream",
     "text": [
      "400:\tlearn: 0.7882910\ttest: 0.7851479\tbest: 0.7851479 (400)\ttotal: 1m 44s\tremaining: 19m 57s\n"
     ]
    },
    {
     "name": "stdout",
     "output_type": "stream",
     "text": [
      "425:\tlearn: 0.7901044\ttest: 0.7869437\tbest: 0.7869437 (425)\ttotal: 1m 50s\tremaining: 19m 50s\n"
     ]
    },
    {
     "name": "stdout",
     "output_type": "stream",
     "text": [
      "450:\tlearn: 0.7912840\ttest: 0.7873583\tbest: 0.7875209 (449)\ttotal: 1m 57s\tremaining: 19m 44s\n"
     ]
    },
    {
     "name": "stdout",
     "output_type": "stream",
     "text": [
      "475:\tlearn: 0.7928632\ttest: 0.7885572\tbest: 0.7885572 (475)\ttotal: 2m 3s\tremaining: 19m 37s\n"
     ]
    },
    {
     "name": "stdout",
     "output_type": "stream",
     "text": [
      "500:\tlearn: 0.7941472\ttest: 0.7891674\tbest: 0.7892408 (498)\ttotal: 2m 10s\tremaining: 19m 30s\n"
     ]
    },
    {
     "name": "stdout",
     "output_type": "stream",
     "text": [
      "525:\tlearn: 0.7953119\ttest: 0.7904262\tbest: 0.7904262 (525)\ttotal: 2m 16s\tremaining: 19m 24s\n"
     ]
    },
    {
     "name": "stdout",
     "output_type": "stream",
     "text": [
      "550:\tlearn: 0.7963358\ttest: 0.7908654\tbest: 0.7908654 (550)\ttotal: 2m 23s\tremaining: 19m 18s\n"
     ]
    },
    {
     "name": "stdout",
     "output_type": "stream",
     "text": [
      "575:\tlearn: 0.7972208\ttest: 0.7913728\tbest: 0.7913728 (575)\ttotal: 2m 29s\tremaining: 19m 11s\n"
     ]
    },
    {
     "name": "stdout",
     "output_type": "stream",
     "text": [
      "600:\tlearn: 0.7984297\ttest: 0.7916715\tbest: 0.7917802 (591)\ttotal: 2m 36s\tremaining: 19m 5s\n"
     ]
    },
    {
     "name": "stdout",
     "output_type": "stream",
     "text": [
      "625:\tlearn: 0.7992740\ttest: 0.7924872\tbest: 0.7924872 (625)\ttotal: 2m 43s\tremaining: 18m 59s\n"
     ]
    },
    {
     "name": "stdout",
     "output_type": "stream",
     "text": [
      "650:\tlearn: 0.8002292\ttest: 0.7933179\tbest: 0.7933179 (650)\ttotal: 2m 49s\tremaining: 18m 52s\n"
     ]
    },
    {
     "name": "stdout",
     "output_type": "stream",
     "text": [
      "675:\tlearn: 0.8013207\ttest: 0.7933843\tbest: 0.7934368 (655)\ttotal: 2m 56s\tremaining: 18m 46s\n"
     ]
    },
    {
     "name": "stdout",
     "output_type": "stream",
     "text": [
      "700:\tlearn: 0.8020606\ttest: 0.7930431\tbest: 0.7934368 (655)\ttotal: 3m 2s\tremaining: 18m 39s\n"
     ]
    },
    {
     "name": "stdout",
     "output_type": "stream",
     "text": [
      "725:\tlearn: 0.8031746\ttest: 0.7935142\tbest: 0.7937050 (709)\ttotal: 3m 9s\tremaining: 18m 32s\n"
     ]
    },
    {
     "name": "stdout",
     "output_type": "stream",
     "text": [
      "750:\tlearn: 0.8040474\ttest: 0.7932497\tbest: 0.7937050 (709)\ttotal: 3m 15s\tremaining: 18m 26s\n"
     ]
    },
    {
     "name": "stdout",
     "output_type": "stream",
     "text": [
      "775:\tlearn: 0.8047168\ttest: 0.7935807\tbest: 0.7937403 (754)\ttotal: 3m 22s\tremaining: 18m 19s\n"
     ]
    },
    {
     "name": "stdout",
     "output_type": "stream",
     "text": [
      "800:\tlearn: 0.8057095\ttest: 0.7934023\tbest: 0.7938872 (779)\ttotal: 3m 28s\tremaining: 18m 12s\n"
     ]
    },
    {
     "name": "stdout",
     "output_type": "stream",
     "text": [
      "825:\tlearn: 0.8065098\ttest: 0.7931935\tbest: 0.7938872 (779)\ttotal: 3m 35s\tremaining: 18m 6s\n"
     ]
    },
    {
     "name": "stdout",
     "output_type": "stream",
     "text": [
      "850:\tlearn: 0.8070263\ttest: 0.7936265\tbest: 0.7938872 (779)\ttotal: 3m 41s\tremaining: 17m 59s\n"
     ]
    },
    {
     "name": "stdout",
     "output_type": "stream",
     "text": [
      "875:\tlearn: 0.8080085\ttest: 0.7935514\tbest: 0.7938872 (779)\ttotal: 3m 47s\tremaining: 17m 53s\n"
     ]
    },
    {
     "name": "stdout",
     "output_type": "stream",
     "text": [
      "900:\tlearn: 0.8088191\ttest: 0.7937810\tbest: 0.7938872 (779)\ttotal: 3m 54s\tremaining: 17m 46s\n"
     ]
    },
    {
     "name": "stdout",
     "output_type": "stream",
     "text": [
      "925:\tlearn: 0.8096666\ttest: 0.7939068\tbest: 0.7940582 (902)\ttotal: 4m\tremaining: 17m 40s\n"
     ]
    },
    {
     "name": "stdout",
     "output_type": "stream",
     "text": [
      "950:\tlearn: 0.8105041\ttest: 0.7940921\tbest: 0.7943708 (938)\ttotal: 4m 7s\tremaining: 17m 33s\n"
     ]
    },
    {
     "name": "stdout",
     "output_type": "stream",
     "text": [
      "975:\tlearn: 0.8111969\ttest: 0.7935495\tbest: 0.7943708 (938)\ttotal: 4m 13s\tremaining: 17m 27s\n"
     ]
    },
    {
     "name": "stdout",
     "output_type": "stream",
     "text": [
      "1000:\tlearn: 0.8118283\ttest: 0.7939133\tbest: 0.7943708 (938)\ttotal: 4m 20s\tremaining: 17m 20s\n"
     ]
    },
    {
     "name": "stdout",
     "output_type": "stream",
     "text": [
      "1025:\tlearn: 0.8125937\ttest: 0.7933583\tbest: 0.7943708 (938)\ttotal: 4m 26s\tremaining: 17m 13s\n"
     ]
    },
    {
     "name": "stdout",
     "output_type": "stream",
     "text": [
      "1050:\tlearn: 0.8134352\ttest: 0.7938260\tbest: 0.7943708 (938)\ttotal: 4m 33s\tremaining: 17m 6s\n"
     ]
    },
    {
     "name": "stdout",
     "output_type": "stream",
     "text": [
      "1075:\tlearn: 0.8139566\ttest: 0.7939640\tbest: 0.7943708 (938)\ttotal: 4m 39s\tremaining: 17m\n"
     ]
    },
    {
     "name": "stdout",
     "output_type": "stream",
     "text": [
      "1100:\tlearn: 0.8146462\ttest: 0.7939014\tbest: 0.7943708 (938)\ttotal: 4m 46s\tremaining: 16m 54s\n"
     ]
    },
    {
     "name": "stdout",
     "output_type": "stream",
     "text": [
      "1125:\tlearn: 0.8154531\ttest: 0.7940397\tbest: 0.7943708 (938)\ttotal: 4m 52s\tremaining: 16m 47s\n"
     ]
    },
    {
     "name": "stdout",
     "output_type": "stream",
     "text": [
      "1150:\tlearn: 0.8159921\ttest: 0.7937662\tbest: 0.7943708 (938)\ttotal: 4m 59s\tremaining: 16m 40s\n"
     ]
    },
    {
     "name": "stdout",
     "output_type": "stream",
     "text": [
      "1175:\tlearn: 0.8168985\ttest: 0.7941668\tbest: 0.7943708 (938)\ttotal: 5m 5s\tremaining: 16m 34s\n"
     ]
    },
    {
     "name": "stdout",
     "output_type": "stream",
     "text": [
      "1200:\tlearn: 0.8176579\ttest: 0.7942288\tbest: 0.7943708 (938)\ttotal: 5m 12s\tremaining: 16m 27s\n"
     ]
    },
    {
     "name": "stdout",
     "output_type": "stream",
     "text": [
      "1225:\tlearn: 0.8184308\ttest: 0.7941029\tbest: 0.7943708 (938)\ttotal: 5m 18s\tremaining: 16m 21s\n"
     ]
    },
    {
     "name": "stdout",
     "output_type": "stream",
     "text": [
      "1250:\tlearn: 0.8186740\ttest: 0.7945016\tbest: 0.7945575 (1242)\ttotal: 5m 25s\tremaining: 16m 14s\n"
     ]
    },
    {
     "name": "stdout",
     "output_type": "stream",
     "text": [
      "1275:\tlearn: 0.8193901\ttest: 0.7946457\tbest: 0.7946801 (1259)\ttotal: 5m 31s\tremaining: 16m 8s\n"
     ]
    },
    {
     "name": "stdout",
     "output_type": "stream",
     "text": [
      "1300:\tlearn: 0.8198978\ttest: 0.7947161\tbest: 0.7948362 (1295)\ttotal: 5m 38s\tremaining: 16m 1s\n"
     ]
    },
    {
     "name": "stdout",
     "output_type": "stream",
     "text": [
      "1325:\tlearn: 0.8204541\ttest: 0.7947190\tbest: 0.7948615 (1322)\ttotal: 5m 44s\tremaining: 15m 54s\n"
     ]
    },
    {
     "name": "stdout",
     "output_type": "stream",
     "text": [
      "1350:\tlearn: 0.8211357\ttest: 0.7950119\tbest: 0.7950327 (1347)\ttotal: 5m 51s\tremaining: 15m 48s\n"
     ]
    },
    {
     "name": "stdout",
     "output_type": "stream",
     "text": [
      "1375:\tlearn: 0.8216833\ttest: 0.7949449\tbest: 0.7952134 (1365)\ttotal: 5m 57s\tremaining: 15m 42s\n"
     ]
    },
    {
     "name": "stdout",
     "output_type": "stream",
     "text": [
      "1400:\tlearn: 0.8225314\ttest: 0.7950001\tbest: 0.7952134 (1365)\ttotal: 6m 4s\tremaining: 15m 35s\n"
     ]
    },
    {
     "name": "stdout",
     "output_type": "stream",
     "text": [
      "1425:\tlearn: 0.8233036\ttest: 0.7947833\tbest: 0.7952134 (1365)\ttotal: 6m 10s\tremaining: 15m 29s\n"
     ]
    },
    {
     "name": "stdout",
     "output_type": "stream",
     "text": [
      "1450:\tlearn: 0.8240210\ttest: 0.7952191\tbest: 0.7952191 (1450)\ttotal: 6m 17s\tremaining: 15m 22s\n"
     ]
    },
    {
     "name": "stdout",
     "output_type": "stream",
     "text": [
      "1475:\tlearn: 0.8247014\ttest: 0.7952693\tbest: 0.7952693 (1475)\ttotal: 6m 23s\tremaining: 15m 16s\n"
     ]
    },
    {
     "name": "stdout",
     "output_type": "stream",
     "text": [
      "1500:\tlearn: 0.8252619\ttest: 0.7953507\tbest: 0.7953711 (1499)\ttotal: 6m 30s\tremaining: 15m 9s\n"
     ]
    },
    {
     "name": "stdout",
     "output_type": "stream",
     "text": [
      "1525:\tlearn: 0.8259365\ttest: 0.7953680\tbest: 0.7956945 (1510)\ttotal: 6m 36s\tremaining: 15m 3s\n"
     ]
    },
    {
     "name": "stdout",
     "output_type": "stream",
     "text": [
      "1550:\tlearn: 0.8263475\ttest: 0.7953843\tbest: 0.7956945 (1510)\ttotal: 6m 43s\tremaining: 14m 56s\n"
     ]
    },
    {
     "name": "stdout",
     "output_type": "stream",
     "text": [
      "1575:\tlearn: 0.8269125\ttest: 0.7955033\tbest: 0.7957504 (1569)\ttotal: 6m 49s\tremaining: 14m 50s\n"
     ]
    },
    {
     "name": "stdout",
     "output_type": "stream",
     "text": [
      "1600:\tlearn: 0.8276115\ttest: 0.7953311\tbest: 0.7957504 (1569)\ttotal: 6m 56s\tremaining: 14m 43s\n"
     ]
    },
    {
     "name": "stdout",
     "output_type": "stream",
     "text": [
      "1625:\tlearn: 0.8280549\ttest: 0.7956232\tbest: 0.7957504 (1569)\ttotal: 7m 2s\tremaining: 14m 36s\n"
     ]
    },
    {
     "name": "stdout",
     "output_type": "stream",
     "text": [
      "1650:\tlearn: 0.8285964\ttest: 0.7958688\tbest: 0.7959487 (1648)\ttotal: 7m 9s\tremaining: 14m 30s\n"
     ]
    },
    {
     "name": "stdout",
     "output_type": "stream",
     "text": [
      "1675:\tlearn: 0.8291099\ttest: 0.7960194\tbest: 0.7962301 (1658)\ttotal: 7m 15s\tremaining: 14m 23s\n"
     ]
    },
    {
     "name": "stdout",
     "output_type": "stream",
     "text": [
      "1700:\tlearn: 0.8296851\ttest: 0.7958194\tbest: 0.7962301 (1658)\ttotal: 7m 22s\tremaining: 14m 17s\n"
     ]
    },
    {
     "name": "stdout",
     "output_type": "stream",
     "text": [
      "1725:\tlearn: 0.8304043\ttest: 0.7958100\tbest: 0.7962301 (1658)\ttotal: 7m 28s\tremaining: 14m 11s\n"
     ]
    },
    {
     "name": "stdout",
     "output_type": "stream",
     "text": [
      "1750:\tlearn: 0.8310614\ttest: 0.7958898\tbest: 0.7962301 (1658)\ttotal: 7m 35s\tremaining: 14m 4s\n"
     ]
    },
    {
     "name": "stdout",
     "output_type": "stream",
     "text": [
      "1775:\tlearn: 0.8315182\ttest: 0.7958125\tbest: 0.7962301 (1658)\ttotal: 7m 41s\tremaining: 13m 58s\n"
     ]
    },
    {
     "name": "stdout",
     "output_type": "stream",
     "text": [
      "1800:\tlearn: 0.8323949\ttest: 0.7961215\tbest: 0.7962301 (1658)\ttotal: 7m 48s\tremaining: 13m 51s\n"
     ]
    },
    {
     "name": "stdout",
     "output_type": "stream",
     "text": [
      "1825:\tlearn: 0.8329800\ttest: 0.7956865\tbest: 0.7962301 (1658)\ttotal: 7m 54s\tremaining: 13m 45s\n"
     ]
    },
    {
     "name": "stdout",
     "output_type": "stream",
     "text": [
      "1850:\tlearn: 0.8333321\ttest: 0.7958930\tbest: 0.7962301 (1658)\ttotal: 8m 1s\tremaining: 13m 38s\n"
     ]
    },
    {
     "name": "stdout",
     "output_type": "stream",
     "text": [
      "1875:\tlearn: 0.8339848\ttest: 0.7954953\tbest: 0.7962301 (1658)\ttotal: 8m 7s\tremaining: 13m 32s\n"
     ]
    },
    {
     "name": "stdout",
     "output_type": "stream",
     "text": [
      "1900:\tlearn: 0.8346034\ttest: 0.7955865\tbest: 0.7962301 (1658)\ttotal: 8m 14s\tremaining: 13m 25s\n"
     ]
    },
    {
     "name": "stdout",
     "output_type": "stream",
     "text": [
      "1925:\tlearn: 0.8353337\ttest: 0.7959959\tbest: 0.7962301 (1658)\ttotal: 8m 20s\tremaining: 13m 19s\n"
     ]
    },
    {
     "name": "stdout",
     "output_type": "stream",
     "text": [
      "1950:\tlearn: 0.8359807\ttest: 0.7963014\tbest: 0.7963014 (1950)\ttotal: 8m 27s\tremaining: 13m 12s\n"
     ]
    },
    {
     "name": "stdout",
     "output_type": "stream",
     "text": [
      "1975:\tlearn: 0.8366796\ttest: 0.7963584\tbest: 0.7963999 (1974)\ttotal: 8m 33s\tremaining: 13m 5s\n"
     ]
    },
    {
     "name": "stdout",
     "output_type": "stream",
     "text": [
      "2000:\tlearn: 0.8371840\ttest: 0.7960258\tbest: 0.7963999 (1974)\ttotal: 8m 40s\tremaining: 12m 59s\n"
     ]
    },
    {
     "name": "stdout",
     "output_type": "stream",
     "text": [
      "2025:\tlearn: 0.8378027\ttest: 0.7961809\tbest: 0.7964124 (2023)\ttotal: 8m 46s\tremaining: 12m 52s\n"
     ]
    },
    {
     "name": "stdout",
     "output_type": "stream",
     "text": [
      "2050:\tlearn: 0.8385420\ttest: 0.7963129\tbest: 0.7964124 (2023)\ttotal: 8m 53s\tremaining: 12m 46s\n"
     ]
    },
    {
     "name": "stdout",
     "output_type": "stream",
     "text": [
      "2075:\tlearn: 0.8389137\ttest: 0.7959655\tbest: 0.7964124 (2023)\ttotal: 8m 59s\tremaining: 12m 40s\n"
     ]
    },
    {
     "name": "stdout",
     "output_type": "stream",
     "text": [
      "2100:\tlearn: 0.8393933\ttest: 0.7962714\tbest: 0.7964596 (2095)\ttotal: 9m 6s\tremaining: 12m 33s\n"
     ]
    },
    {
     "name": "stdout",
     "output_type": "stream",
     "text": [
      "2125:\tlearn: 0.8398665\ttest: 0.7963957\tbest: 0.7964596 (2095)\ttotal: 9m 12s\tremaining: 12m 26s\n"
     ]
    },
    {
     "name": "stdout",
     "output_type": "stream",
     "text": [
      "2150:\tlearn: 0.8404336\ttest: 0.7961678\tbest: 0.7965876 (2130)\ttotal: 9m 19s\tremaining: 12m 20s\n"
     ]
    },
    {
     "name": "stdout",
     "output_type": "stream",
     "text": [
      "2175:\tlearn: 0.8409890\ttest: 0.7960362\tbest: 0.7966429 (2164)\ttotal: 9m 25s\tremaining: 12m 13s\n"
     ]
    },
    {
     "name": "stdout",
     "output_type": "stream",
     "text": [
      "2200:\tlearn: 0.8415859\ttest: 0.7965015\tbest: 0.7967124 (2189)\ttotal: 9m 32s\tremaining: 12m 7s\n"
     ]
    },
    {
     "name": "stdout",
     "output_type": "stream",
     "text": [
      "2225:\tlearn: 0.8422927\ttest: 0.7965429\tbest: 0.7967124 (2189)\ttotal: 9m 38s\tremaining: 12m\n"
     ]
    },
    {
     "name": "stdout",
     "output_type": "stream",
     "text": [
      "2250:\tlearn: 0.8429092\ttest: 0.7964934\tbest: 0.7967124 (2189)\ttotal: 9m 44s\tremaining: 11m 54s\n"
     ]
    },
    {
     "name": "stdout",
     "output_type": "stream",
     "text": [
      "2275:\tlearn: 0.8435179\ttest: 0.7964660\tbest: 0.7967124 (2189)\ttotal: 9m 51s\tremaining: 11m 47s\n"
     ]
    },
    {
     "name": "stdout",
     "output_type": "stream",
     "text": [
      "2300:\tlearn: 0.8440505\ttest: 0.7964770\tbest: 0.7967124 (2189)\ttotal: 9m 57s\tremaining: 11m 41s\n"
     ]
    },
    {
     "name": "stdout",
     "output_type": "stream",
     "text": [
      "2325:\tlearn: 0.8445021\ttest: 0.7964383\tbest: 0.7967124 (2189)\ttotal: 10m 4s\tremaining: 11m 34s\n"
     ]
    },
    {
     "name": "stdout",
     "output_type": "stream",
     "text": [
      "2350:\tlearn: 0.8450464\ttest: 0.7965750\tbest: 0.7967124 (2189)\ttotal: 10m 10s\tremaining: 11m 28s\n"
     ]
    },
    {
     "name": "stdout",
     "output_type": "stream",
     "text": [
      "2375:\tlearn: 0.8456040\ttest: 0.7964951\tbest: 0.7968279 (2352)\ttotal: 10m 17s\tremaining: 11m 21s\n"
     ]
    },
    {
     "name": "stdout",
     "output_type": "stream",
     "text": [
      "2400:\tlearn: 0.8461070\ttest: 0.7966497\tbest: 0.7968808 (2396)\ttotal: 10m 23s\tremaining: 11m 15s\n"
     ]
    },
    {
     "name": "stdout",
     "output_type": "stream",
     "text": [
      "2425:\tlearn: 0.8465528\ttest: 0.7965019\tbest: 0.7969255 (2411)\ttotal: 10m 30s\tremaining: 11m 8s\n"
     ]
    },
    {
     "name": "stdout",
     "output_type": "stream",
     "text": [
      "2450:\tlearn: 0.8471459\ttest: 0.7967518\tbest: 0.7969255 (2411)\ttotal: 10m 36s\tremaining: 11m 2s\n"
     ]
    },
    {
     "name": "stdout",
     "output_type": "stream",
     "text": [
      "2475:\tlearn: 0.8475831\ttest: 0.7967157\tbest: 0.7969255 (2411)\ttotal: 10m 43s\tremaining: 10m 55s\n"
     ]
    },
    {
     "name": "stdout",
     "output_type": "stream",
     "text": [
      "2500:\tlearn: 0.8482143\ttest: 0.7960838\tbest: 0.7969255 (2411)\ttotal: 10m 49s\tremaining: 10m 49s\n"
     ]
    },
    {
     "name": "stdout",
     "output_type": "stream",
     "text": [
      "2525:\tlearn: 0.8487701\ttest: 0.7966735\tbest: 0.7969255 (2411)\ttotal: 10m 56s\tremaining: 10m 42s\n"
     ]
    },
    {
     "name": "stdout",
     "output_type": "stream",
     "text": [
      "2550:\tlearn: 0.8492570\ttest: 0.7970810\tbest: 0.7971639 (2547)\ttotal: 11m 2s\tremaining: 10m 36s\n"
     ]
    },
    {
     "name": "stdout",
     "output_type": "stream",
     "text": [
      "2575:\tlearn: 0.8496880\ttest: 0.7973408\tbest: 0.7974869 (2567)\ttotal: 11m 9s\tremaining: 10m 29s\n"
     ]
    },
    {
     "name": "stdout",
     "output_type": "stream",
     "text": [
      "2600:\tlearn: 0.8505293\ttest: 0.7974952\tbest: 0.7975395 (2593)\ttotal: 11m 15s\tremaining: 10m 23s\n"
     ]
    },
    {
     "name": "stdout",
     "output_type": "stream",
     "text": [
      "2625:\tlearn: 0.8508877\ttest: 0.7973164\tbest: 0.7978592 (2616)\ttotal: 11m 22s\tremaining: 10m 16s\n"
     ]
    },
    {
     "name": "stdout",
     "output_type": "stream",
     "text": [
      "2650:\tlearn: 0.8516598\ttest: 0.7969566\tbest: 0.7978592 (2616)\ttotal: 11m 28s\tremaining: 10m 10s\n"
     ]
    },
    {
     "name": "stdout",
     "output_type": "stream",
     "text": [
      "2675:\tlearn: 0.8520772\ttest: 0.7971985\tbest: 0.7978592 (2616)\ttotal: 11m 35s\tremaining: 10m 3s\n"
     ]
    },
    {
     "name": "stdout",
     "output_type": "stream",
     "text": [
      "2700:\tlearn: 0.8525276\ttest: 0.7972065\tbest: 0.7978592 (2616)\ttotal: 11m 41s\tremaining: 9m 57s\n"
     ]
    },
    {
     "name": "stdout",
     "output_type": "stream",
     "text": [
      "2725:\tlearn: 0.8532102\ttest: 0.7976419\tbest: 0.7978592 (2616)\ttotal: 11m 48s\tremaining: 9m 50s\n"
     ]
    },
    {
     "name": "stdout",
     "output_type": "stream",
     "text": [
      "2750:\tlearn: 0.8539117\ttest: 0.7974796\tbest: 0.7979615 (2739)\ttotal: 11m 54s\tremaining: 9m 44s\n"
     ]
    },
    {
     "name": "stdout",
     "output_type": "stream",
     "text": [
      "2775:\tlearn: 0.8543716\ttest: 0.7975647\tbest: 0.7979615 (2739)\ttotal: 12m 1s\tremaining: 9m 37s\n"
     ]
    },
    {
     "name": "stdout",
     "output_type": "stream",
     "text": [
      "2800:\tlearn: 0.8547990\ttest: 0.7973089\tbest: 0.7979615 (2739)\ttotal: 12m 7s\tremaining: 9m 31s\n"
     ]
    },
    {
     "name": "stdout",
     "output_type": "stream",
     "text": [
      "2825:\tlearn: 0.8554483\ttest: 0.7975169\tbest: 0.7979615 (2739)\ttotal: 12m 14s\tremaining: 9m 24s\n"
     ]
    },
    {
     "name": "stdout",
     "output_type": "stream",
     "text": [
      "2850:\tlearn: 0.8558390\ttest: 0.7972098\tbest: 0.7979615 (2739)\ttotal: 12m 20s\tremaining: 9m 18s\n"
     ]
    },
    {
     "name": "stdout",
     "output_type": "stream",
     "text": [
      "2875:\tlearn: 0.8562633\ttest: 0.7976175\tbest: 0.7979615 (2739)\ttotal: 12m 27s\tremaining: 9m 11s\n"
     ]
    },
    {
     "name": "stdout",
     "output_type": "stream",
     "text": [
      "2900:\tlearn: 0.8567612\ttest: 0.7975371\tbest: 0.7979615 (2739)\ttotal: 12m 33s\tremaining: 9m 5s\n"
     ]
    },
    {
     "name": "stdout",
     "output_type": "stream",
     "text": [
      "2925:\tlearn: 0.8573722\ttest: 0.7968857\tbest: 0.7979615 (2739)\ttotal: 12m 40s\tremaining: 8m 58s\n"
     ]
    },
    {
     "name": "stdout",
     "output_type": "stream",
     "text": [
      "2950:\tlearn: 0.8578302\ttest: 0.7973073\tbest: 0.7979615 (2739)\ttotal: 12m 46s\tremaining: 8m 52s\n"
     ]
    },
    {
     "name": "stdout",
     "output_type": "stream",
     "text": [
      "2975:\tlearn: 0.8583129\ttest: 0.7972109\tbest: 0.7979615 (2739)\ttotal: 12m 53s\tremaining: 8m 45s\n"
     ]
    },
    {
     "name": "stdout",
     "output_type": "stream",
     "text": [
      "3000:\tlearn: 0.8589116\ttest: 0.7972779\tbest: 0.7979615 (2739)\ttotal: 12m 59s\tremaining: 8m 39s\n"
     ]
    },
    {
     "name": "stdout",
     "output_type": "stream",
     "text": [
      "3025:\tlearn: 0.8592351\ttest: 0.7972204\tbest: 0.7979615 (2739)\ttotal: 13m 6s\tremaining: 8m 32s\n"
     ]
    },
    {
     "name": "stdout",
     "output_type": "stream",
     "text": [
      "3050:\tlearn: 0.8598063\ttest: 0.7973721\tbest: 0.7979615 (2739)\ttotal: 13m 12s\tremaining: 8m 26s\n"
     ]
    },
    {
     "name": "stdout",
     "output_type": "stream",
     "text": [
      "3075:\tlearn: 0.8603118\ttest: 0.7972770\tbest: 0.7979615 (2739)\ttotal: 13m 19s\tremaining: 8m 19s\n"
     ]
    },
    {
     "name": "stdout",
     "output_type": "stream",
     "text": [
      "3100:\tlearn: 0.8607103\ttest: 0.7973248\tbest: 0.7979615 (2739)\ttotal: 13m 25s\tremaining: 8m 13s\n"
     ]
    },
    {
     "name": "stdout",
     "output_type": "stream",
     "text": [
      "3125:\tlearn: 0.8612802\ttest: 0.7972905\tbest: 0.7979615 (2739)\ttotal: 13m 32s\tremaining: 8m 6s\n"
     ]
    },
    {
     "name": "stdout",
     "output_type": "stream",
     "text": [
      "3150:\tlearn: 0.8619061\ttest: 0.7973935\tbest: 0.7979615 (2739)\ttotal: 13m 38s\tremaining: 8m\n"
     ]
    },
    {
     "name": "stdout",
     "output_type": "stream",
     "text": [
      "3175:\tlearn: 0.8623535\ttest: 0.7975307\tbest: 0.7979615 (2739)\ttotal: 13m 45s\tremaining: 7m 53s\n"
     ]
    },
    {
     "name": "stdout",
     "output_type": "stream",
     "text": [
      "3200:\tlearn: 0.8627366\ttest: 0.7974079\tbest: 0.7979615 (2739)\ttotal: 13m 51s\tremaining: 7m 47s\n"
     ]
    },
    {
     "name": "stdout",
     "output_type": "stream",
     "text": [
      "3225:\tlearn: 0.8631930\ttest: 0.7977104\tbest: 0.7979615 (2739)\ttotal: 13m 58s\tremaining: 7m 40s\n"
     ]
    },
    {
     "name": "stdout",
     "output_type": "stream",
     "text": [
      "3250:\tlearn: 0.8639062\ttest: 0.7976347\tbest: 0.7979678 (3242)\ttotal: 14m 4s\tremaining: 7m 34s\n"
     ]
    },
    {
     "name": "stdout",
     "output_type": "stream",
     "text": [
      "3275:\tlearn: 0.8644121\ttest: 0.7975031\tbest: 0.7979678 (3242)\ttotal: 14m 10s\tremaining: 7m 27s\n"
     ]
    },
    {
     "name": "stdout",
     "output_type": "stream",
     "text": [
      "3300:\tlearn: 0.8647984\ttest: 0.7972565\tbest: 0.7979678 (3242)\ttotal: 14m 17s\tremaining: 7m 21s\n"
     ]
    },
    {
     "name": "stdout",
     "output_type": "stream",
     "text": [
      "3325:\tlearn: 0.8653004\ttest: 0.7969223\tbest: 0.7979678 (3242)\ttotal: 14m 24s\tremaining: 7m 14s\n"
     ]
    },
    {
     "name": "stdout",
     "output_type": "stream",
     "text": [
      "3350:\tlearn: 0.8657170\ttest: 0.7971007\tbest: 0.7979678 (3242)\ttotal: 14m 30s\tremaining: 7m 8s\n"
     ]
    },
    {
     "name": "stdout",
     "output_type": "stream",
     "text": [
      "3375:\tlearn: 0.8663141\ttest: 0.7974029\tbest: 0.7979678 (3242)\ttotal: 14m 37s\tremaining: 7m 1s\n"
     ]
    },
    {
     "name": "stdout",
     "output_type": "stream",
     "text": [
      "3400:\tlearn: 0.8668825\ttest: 0.7977221\tbest: 0.7979678 (3242)\ttotal: 14m 43s\tremaining: 6m 55s\n"
     ]
    },
    {
     "name": "stdout",
     "output_type": "stream",
     "text": [
      "3425:\tlearn: 0.8673637\ttest: 0.7977895\tbest: 0.7979678 (3242)\ttotal: 14m 50s\tremaining: 6m 48s\n"
     ]
    },
    {
     "name": "stdout",
     "output_type": "stream",
     "text": [
      "3450:\tlearn: 0.8679171\ttest: 0.7976440\tbest: 0.7979678 (3242)\ttotal: 14m 56s\tremaining: 6m 42s\n"
     ]
    },
    {
     "name": "stdout",
     "output_type": "stream",
     "text": [
      "3475:\tlearn: 0.8685685\ttest: 0.7977064\tbest: 0.7979678 (3242)\ttotal: 15m 3s\tremaining: 6m 35s\n"
     ]
    },
    {
     "name": "stdout",
     "output_type": "stream",
     "text": [
      "3500:\tlearn: 0.8690279\ttest: 0.7978774\tbest: 0.7979678 (3242)\ttotal: 15m 9s\tremaining: 6m 29s\n"
     ]
    },
    {
     "name": "stdout",
     "output_type": "stream",
     "text": [
      "3525:\tlearn: 0.8692321\ttest: 0.7981564\tbest: 0.7981564 (3525)\ttotal: 15m 16s\tremaining: 6m 22s\n"
     ]
    },
    {
     "name": "stdout",
     "output_type": "stream",
     "text": [
      "3550:\tlearn: 0.8696887\ttest: 0.7979680\tbest: 0.7983476 (3530)\ttotal: 15m 22s\tremaining: 6m 16s\n"
     ]
    },
    {
     "name": "stdout",
     "output_type": "stream",
     "text": [
      "3575:\tlearn: 0.8702654\ttest: 0.7978242\tbest: 0.7983476 (3530)\ttotal: 15m 29s\tremaining: 6m 10s\n"
     ]
    },
    {
     "name": "stdout",
     "output_type": "stream",
     "text": [
      "3600:\tlearn: 0.8708230\ttest: 0.7978276\tbest: 0.7983476 (3530)\ttotal: 15m 35s\tremaining: 6m 3s\n"
     ]
    },
    {
     "name": "stdout",
     "output_type": "stream",
     "text": [
      "3625:\tlearn: 0.8714211\ttest: 0.7977698\tbest: 0.7983476 (3530)\ttotal: 15m 42s\tremaining: 5m 57s\n"
     ]
    },
    {
     "name": "stdout",
     "output_type": "stream",
     "text": [
      "3650:\tlearn: 0.8718086\ttest: 0.7978580\tbest: 0.7983476 (3530)\ttotal: 15m 48s\tremaining: 5m 50s\n"
     ]
    },
    {
     "name": "stdout",
     "output_type": "stream",
     "text": [
      "3675:\tlearn: 0.8722884\ttest: 0.7977098\tbest: 0.7983476 (3530)\ttotal: 15m 55s\tremaining: 5m 44s\n"
     ]
    },
    {
     "name": "stdout",
     "output_type": "stream",
     "text": [
      "3700:\tlearn: 0.8726870\ttest: 0.7977130\tbest: 0.7983476 (3530)\ttotal: 16m 1s\tremaining: 5m 37s\n"
     ]
    },
    {
     "name": "stdout",
     "output_type": "stream",
     "text": [
      "3725:\tlearn: 0.8732265\ttest: 0.7976729\tbest: 0.7983476 (3530)\ttotal: 16m 8s\tremaining: 5m 31s\n"
     ]
    },
    {
     "name": "stdout",
     "output_type": "stream",
     "text": [
      "3750:\tlearn: 0.8736650\ttest: 0.7980317\tbest: 0.7983476 (3530)\ttotal: 16m 14s\tremaining: 5m 24s\n"
     ]
    },
    {
     "name": "stdout",
     "output_type": "stream",
     "text": [
      "3775:\tlearn: 0.8740931\ttest: 0.7979908\tbest: 0.7983476 (3530)\ttotal: 16m 21s\tremaining: 5m 18s\n"
     ]
    },
    {
     "name": "stdout",
     "output_type": "stream",
     "text": [
      "3800:\tlearn: 0.8745692\ttest: 0.7976978\tbest: 0.7983476 (3530)\ttotal: 16m 27s\tremaining: 5m 11s\n"
     ]
    },
    {
     "name": "stdout",
     "output_type": "stream",
     "text": [
      "3825:\tlearn: 0.8750344\ttest: 0.7978889\tbest: 0.7983476 (3530)\ttotal: 16m 34s\tremaining: 5m 5s\n"
     ]
    },
    {
     "name": "stdout",
     "output_type": "stream",
     "text": [
      "3850:\tlearn: 0.8753865\ttest: 0.7977021\tbest: 0.7983476 (3530)\ttotal: 16m 40s\tremaining: 4m 58s\n"
     ]
    },
    {
     "name": "stdout",
     "output_type": "stream",
     "text": [
      "3875:\tlearn: 0.8759690\ttest: 0.7975619\tbest: 0.7983476 (3530)\ttotal: 16m 47s\tremaining: 4m 52s\n"
     ]
    },
    {
     "name": "stdout",
     "output_type": "stream",
     "text": [
      "3900:\tlearn: 0.8764660\ttest: 0.7980745\tbest: 0.7983476 (3530)\ttotal: 16m 53s\tremaining: 4m 45s\n"
     ]
    },
    {
     "name": "stdout",
     "output_type": "stream",
     "text": [
      "3925:\tlearn: 0.8768102\ttest: 0.7979130\tbest: 0.7983476 (3530)\ttotal: 17m\tremaining: 4m 39s\n"
     ]
    },
    {
     "name": "stdout",
     "output_type": "stream",
     "text": [
      "3950:\tlearn: 0.8773050\ttest: 0.7978152\tbest: 0.7983476 (3530)\ttotal: 17m 6s\tremaining: 4m 32s\n"
     ]
    },
    {
     "name": "stdout",
     "output_type": "stream",
     "text": [
      "3975:\tlearn: 0.8778084\ttest: 0.7978086\tbest: 0.7983476 (3530)\ttotal: 17m 13s\tremaining: 4m 26s\n"
     ]
    },
    {
     "name": "stdout",
     "output_type": "stream",
     "text": [
      "4000:\tlearn: 0.8782336\ttest: 0.7977260\tbest: 0.7983476 (3530)\ttotal: 17m 19s\tremaining: 4m 19s\n"
     ]
    },
    {
     "name": "stdout",
     "output_type": "stream",
     "text": [
      "4025:\tlearn: 0.8785663\ttest: 0.7976764\tbest: 0.7983476 (3530)\ttotal: 17m 26s\tremaining: 4m 13s\n"
     ]
    },
    {
     "name": "stdout",
     "output_type": "stream",
     "text": [
      "4050:\tlearn: 0.8791669\ttest: 0.7975261\tbest: 0.7983476 (3530)\ttotal: 17m 32s\tremaining: 4m 6s\n"
     ]
    },
    {
     "name": "stdout",
     "output_type": "stream",
     "text": [
      "4075:\tlearn: 0.8793905\ttest: 0.7975937\tbest: 0.7983476 (3530)\ttotal: 17m 39s\tremaining: 4m\n"
     ]
    },
    {
     "name": "stdout",
     "output_type": "stream",
     "text": [
      "4100:\tlearn: 0.8798029\ttest: 0.7980152\tbest: 0.7983476 (3530)\ttotal: 17m 45s\tremaining: 3m 53s\n"
     ]
    },
    {
     "name": "stdout",
     "output_type": "stream",
     "text": [
      "4125:\tlearn: 0.8801486\ttest: 0.7980196\tbest: 0.7983476 (3530)\ttotal: 17m 52s\tremaining: 3m 47s\n"
     ]
    },
    {
     "name": "stdout",
     "output_type": "stream",
     "text": [
      "4150:\tlearn: 0.8807186\ttest: 0.7982324\tbest: 0.7983476 (3530)\ttotal: 17m 58s\tremaining: 3m 40s\n"
     ]
    },
    {
     "name": "stdout",
     "output_type": "stream",
     "text": [
      "4175:\tlearn: 0.8811134\ttest: 0.7980192\tbest: 0.7984427 (4157)\ttotal: 18m 5s\tremaining: 3m 34s\n"
     ]
    },
    {
     "name": "stdout",
     "output_type": "stream",
     "text": [
      "4200:\tlearn: 0.8816186\ttest: 0.7977458\tbest: 0.7984427 (4157)\ttotal: 18m 11s\tremaining: 3m 27s\n"
     ]
    },
    {
     "name": "stdout",
     "output_type": "stream",
     "text": [
      "4225:\tlearn: 0.8820771\ttest: 0.7978522\tbest: 0.7984427 (4157)\ttotal: 18m 18s\tremaining: 3m 21s\n"
     ]
    },
    {
     "name": "stdout",
     "output_type": "stream",
     "text": [
      "4250:\tlearn: 0.8824421\ttest: 0.7976624\tbest: 0.7984427 (4157)\ttotal: 18m 24s\tremaining: 3m 14s\n"
     ]
    },
    {
     "name": "stdout",
     "output_type": "stream",
     "text": [
      "4275:\tlearn: 0.8829097\ttest: 0.7978332\tbest: 0.7984427 (4157)\ttotal: 18m 31s\tremaining: 3m 8s\n"
     ]
    },
    {
     "name": "stdout",
     "output_type": "stream",
     "text": [
      "4300:\tlearn: 0.8832220\ttest: 0.7980681\tbest: 0.7984427 (4157)\ttotal: 18m 37s\tremaining: 3m 1s\n"
     ]
    },
    {
     "name": "stdout",
     "output_type": "stream",
     "text": [
      "4325:\tlearn: 0.8837379\ttest: 0.7982830\tbest: 0.7984427 (4157)\ttotal: 18m 44s\tremaining: 2m 55s\n"
     ]
    },
    {
     "name": "stdout",
     "output_type": "stream",
     "text": [
      "4350:\tlearn: 0.8843180\ttest: 0.7981170\tbest: 0.7984427 (4157)\ttotal: 18m 50s\tremaining: 2m 48s\n"
     ]
    },
    {
     "name": "stdout",
     "output_type": "stream",
     "text": [
      "4375:\tlearn: 0.8847085\ttest: 0.7981227\tbest: 0.7984427 (4157)\ttotal: 18m 57s\tremaining: 2m 42s\n"
     ]
    },
    {
     "name": "stdout",
     "output_type": "stream",
     "text": [
      "4400:\tlearn: 0.8852309\ttest: 0.7979905\tbest: 0.7984427 (4157)\ttotal: 19m 3s\tremaining: 2m 35s\n"
     ]
    },
    {
     "name": "stdout",
     "output_type": "stream",
     "text": [
      "4425:\tlearn: 0.8853937\ttest: 0.7982493\tbest: 0.7984623 (4418)\ttotal: 19m 10s\tremaining: 2m 29s\n"
     ]
    },
    {
     "name": "stdout",
     "output_type": "stream",
     "text": [
      "4450:\tlearn: 0.8859649\ttest: 0.7984373\tbest: 0.7984762 (4436)\ttotal: 19m 16s\tremaining: 2m 22s\n"
     ]
    },
    {
     "name": "stdout",
     "output_type": "stream",
     "text": [
      "4475:\tlearn: 0.8864417\ttest: 0.7983334\tbest: 0.7985818 (4470)\ttotal: 19m 23s\tremaining: 2m 16s\n"
     ]
    },
    {
     "name": "stdout",
     "output_type": "stream",
     "text": [
      "4500:\tlearn: 0.8867686\ttest: 0.7982726\tbest: 0.7985818 (4470)\ttotal: 19m 29s\tremaining: 2m 9s\n"
     ]
    },
    {
     "name": "stdout",
     "output_type": "stream",
     "text": [
      "4525:\tlearn: 0.8872729\ttest: 0.7980456\tbest: 0.7985818 (4470)\ttotal: 19m 36s\tremaining: 2m 3s\n"
     ]
    },
    {
     "name": "stdout",
     "output_type": "stream",
     "text": [
      "4550:\tlearn: 0.8878192\ttest: 0.7981490\tbest: 0.7985818 (4470)\ttotal: 19m 42s\tremaining: 1m 56s\n"
     ]
    },
    {
     "name": "stdout",
     "output_type": "stream",
     "text": [
      "4575:\tlearn: 0.8879450\ttest: 0.7981291\tbest: 0.7985818 (4470)\ttotal: 19m 49s\tremaining: 1m 50s\n"
     ]
    },
    {
     "name": "stdout",
     "output_type": "stream",
     "text": [
      "4600:\tlearn: 0.8882925\ttest: 0.7982579\tbest: 0.7985818 (4470)\ttotal: 19m 56s\tremaining: 1m 43s\n"
     ]
    },
    {
     "name": "stdout",
     "output_type": "stream",
     "text": [
      "4625:\tlearn: 0.8885882\ttest: 0.7982357\tbest: 0.7985818 (4470)\ttotal: 20m 2s\tremaining: 1m 37s\n"
     ]
    },
    {
     "name": "stdout",
     "output_type": "stream",
     "text": [
      "4650:\tlearn: 0.8889771\ttest: 0.7984655\tbest: 0.7985818 (4470)\ttotal: 20m 9s\tremaining: 1m 30s\n"
     ]
    },
    {
     "name": "stdout",
     "output_type": "stream",
     "text": [
      "4675:\tlearn: 0.8894875\ttest: 0.7983686\tbest: 0.7985956 (4666)\ttotal: 20m 15s\tremaining: 1m 24s\n"
     ]
    },
    {
     "name": "stdout",
     "output_type": "stream",
     "text": [
      "4700:\tlearn: 0.8897979\ttest: 0.7982889\tbest: 0.7987928 (4683)\ttotal: 20m 22s\tremaining: 1m 17s\n"
     ]
    },
    {
     "name": "stdout",
     "output_type": "stream",
     "text": [
      "4725:\tlearn: 0.8904072\ttest: 0.7983059\tbest: 0.7987928 (4683)\ttotal: 20m 28s\tremaining: 1m 11s\n"
     ]
    },
    {
     "name": "stdout",
     "output_type": "stream",
     "text": [
      "4750:\tlearn: 0.8906252\ttest: 0.7980519\tbest: 0.7987928 (4683)\ttotal: 20m 35s\tremaining: 1m 4s\n"
     ]
    },
    {
     "name": "stdout",
     "output_type": "stream",
     "text": [
      "4775:\tlearn: 0.8909480\ttest: 0.7980768\tbest: 0.7987928 (4683)\ttotal: 20m 41s\tremaining: 58.2s\n"
     ]
    },
    {
     "name": "stdout",
     "output_type": "stream",
     "text": [
      "4800:\tlearn: 0.8912767\ttest: 0.7980141\tbest: 0.7987928 (4683)\ttotal: 20m 48s\tremaining: 51.7s\n"
     ]
    },
    {
     "name": "stdout",
     "output_type": "stream",
     "text": [
      "4825:\tlearn: 0.8916242\ttest: 0.7981689\tbest: 0.7987928 (4683)\ttotal: 20m 54s\tremaining: 45.2s\n"
     ]
    },
    {
     "name": "stdout",
     "output_type": "stream",
     "text": [
      "4850:\tlearn: 0.8919348\ttest: 0.7980795\tbest: 0.7987928 (4683)\ttotal: 21m 1s\tremaining: 38.7s\n"
     ]
    },
    {
     "name": "stdout",
     "output_type": "stream",
     "text": [
      "4875:\tlearn: 0.8924628\ttest: 0.7981424\tbest: 0.7987928 (4683)\ttotal: 21m 7s\tremaining: 32.2s\n"
     ]
    },
    {
     "name": "stdout",
     "output_type": "stream",
     "text": [
      "4900:\tlearn: 0.8928094\ttest: 0.7983753\tbest: 0.7987928 (4683)\ttotal: 21m 13s\tremaining: 25.7s\n"
     ]
    },
    {
     "name": "stdout",
     "output_type": "stream",
     "text": [
      "4925:\tlearn: 0.8933412\ttest: 0.7985462\tbest: 0.7988006 (4916)\ttotal: 21m 20s\tremaining: 19.2s\n"
     ]
    },
    {
     "name": "stdout",
     "output_type": "stream",
     "text": [
      "4950:\tlearn: 0.8934936\ttest: 0.7985415\tbest: 0.7989039 (4926)\ttotal: 21m 26s\tremaining: 12.7s\n"
     ]
    },
    {
     "name": "stdout",
     "output_type": "stream",
     "text": [
      "4975:\tlearn: 0.8939489\ttest: 0.7987125\tbest: 0.7989039 (4926)\ttotal: 21m 33s\tremaining: 6.24s\n"
     ]
    },
    {
     "name": "stdout",
     "output_type": "stream",
     "text": [
      "4999:\tlearn: 0.8943679\ttest: 0.7988669\tbest: 0.7989517 (4990)\ttotal: 21m 39s\tremaining: 0us\n",
      "\n",
      "bestTest = 0.7989516826\n",
      "bestIteration = 4990\n",
      "\n"
     ]
    },
    {
     "name": "stdout",
     "output_type": "stream",
     "text": [
      "######################################## training model 3/5 ########################################\n"
     ]
    },
    {
     "name": "stdout",
     "output_type": "stream",
     "text": [
      "0:\tlearn: 0.5875008\ttest: 0.5833661\tbest: 0.5833661 (0)\ttotal: 589ms\tremaining: 49m 3s\n"
     ]
    },
    {
     "name": "stdout",
     "output_type": "stream",
     "text": [
      "25:\tlearn: 0.7249239\ttest: 0.7207092\tbest: 0.7207092 (25)\ttotal: 7.04s\tremaining: 22m 27s\n"
     ]
    },
    {
     "name": "stdout",
     "output_type": "stream",
     "text": [
      "50:\tlearn: 0.7430351\ttest: 0.7391241\tbest: 0.7391241 (50)\ttotal: 13.6s\tremaining: 21m 56s\n"
     ]
    },
    {
     "name": "stdout",
     "output_type": "stream",
     "text": [
      "75:\tlearn: 0.7515257\ttest: 0.7481484\tbest: 0.7481484 (75)\ttotal: 20.1s\tremaining: 21m 40s\n"
     ]
    },
    {
     "name": "stdout",
     "output_type": "stream",
     "text": [
      "100:\tlearn: 0.7569688\ttest: 0.7521830\tbest: 0.7522319 (99)\ttotal: 26.6s\tremaining: 21m 32s\n"
     ]
    },
    {
     "name": "stdout",
     "output_type": "stream",
     "text": [
      "125:\tlearn: 0.7598627\ttest: 0.7550430\tbest: 0.7550430 (125)\ttotal: 33.1s\tremaining: 21m 20s\n"
     ]
    },
    {
     "name": "stdout",
     "output_type": "stream",
     "text": [
      "150:\tlearn: 0.7629400\ttest: 0.7575055\tbest: 0.7575055 (150)\ttotal: 39.7s\tremaining: 21m 13s\n"
     ]
    },
    {
     "name": "stdout",
     "output_type": "stream",
     "text": [
      "175:\tlearn: 0.7653240\ttest: 0.7602279\tbest: 0.7602279 (175)\ttotal: 46.2s\tremaining: 21m 5s\n"
     ]
    },
    {
     "name": "stdout",
     "output_type": "stream",
     "text": [
      "200:\tlearn: 0.7688056\ttest: 0.7622901\tbest: 0.7622901 (200)\ttotal: 52.7s\tremaining: 20m 57s\n"
     ]
    },
    {
     "name": "stdout",
     "output_type": "stream",
     "text": [
      "225:\tlearn: 0.7713609\ttest: 0.7643172\tbest: 0.7644537 (224)\ttotal: 59.2s\tremaining: 20m 50s\n"
     ]
    },
    {
     "name": "stdout",
     "output_type": "stream",
     "text": [
      "250:\tlearn: 0.7731414\ttest: 0.7655766\tbest: 0.7656085 (249)\ttotal: 1m 5s\tremaining: 20m 43s\n"
     ]
    },
    {
     "name": "stdout",
     "output_type": "stream",
     "text": [
      "275:\tlearn: 0.7751667\ttest: 0.7677042\tbest: 0.7677509 (273)\ttotal: 1m 12s\tremaining: 20m 35s\n"
     ]
    },
    {
     "name": "stdout",
     "output_type": "stream",
     "text": [
      "300:\tlearn: 0.7782722\ttest: 0.7701935\tbest: 0.7701935 (300)\ttotal: 1m 18s\tremaining: 20m 28s\n"
     ]
    },
    {
     "name": "stdout",
     "output_type": "stream",
     "text": [
      "325:\tlearn: 0.7816757\ttest: 0.7730654\tbest: 0.7730654 (325)\ttotal: 1m 25s\tremaining: 20m 21s\n"
     ]
    },
    {
     "name": "stdout",
     "output_type": "stream",
     "text": [
      "350:\tlearn: 0.7845475\ttest: 0.7750681\tbest: 0.7751048 (349)\ttotal: 1m 31s\tremaining: 20m 16s\n"
     ]
    },
    {
     "name": "stdout",
     "output_type": "stream",
     "text": [
      "375:\tlearn: 0.7868299\ttest: 0.7772682\tbest: 0.7772682 (375)\ttotal: 1m 38s\tremaining: 20m 9s\n"
     ]
    },
    {
     "name": "stdout",
     "output_type": "stream",
     "text": [
      "400:\tlearn: 0.7887769\ttest: 0.7788828\tbest: 0.7789685 (399)\ttotal: 1m 44s\tremaining: 20m 3s\n"
     ]
    },
    {
     "name": "stdout",
     "output_type": "stream",
     "text": [
      "425:\tlearn: 0.7907284\ttest: 0.7800934\tbest: 0.7802903 (421)\ttotal: 1m 51s\tremaining: 19m 56s\n"
     ]
    },
    {
     "name": "stdout",
     "output_type": "stream",
     "text": [
      "450:\tlearn: 0.7920645\ttest: 0.7807225\tbest: 0.7808200 (449)\ttotal: 1m 57s\tremaining: 19m 50s\n"
     ]
    },
    {
     "name": "stdout",
     "output_type": "stream",
     "text": [
      "475:\tlearn: 0.7933919\ttest: 0.7814110\tbest: 0.7816243 (473)\ttotal: 2m 4s\tremaining: 19m 42s\n"
     ]
    },
    {
     "name": "stdout",
     "output_type": "stream",
     "text": [
      "500:\tlearn: 0.7945709\ttest: 0.7824855\tbest: 0.7825011 (499)\ttotal: 2m 10s\tremaining: 19m 36s\n"
     ]
    },
    {
     "name": "stdout",
     "output_type": "stream",
     "text": [
      "525:\tlearn: 0.7957386\ttest: 0.7828676\tbest: 0.7829899 (520)\ttotal: 2m 17s\tremaining: 19m 29s\n"
     ]
    },
    {
     "name": "stdout",
     "output_type": "stream",
     "text": [
      "550:\tlearn: 0.7972645\ttest: 0.7835136\tbest: 0.7835136 (550)\ttotal: 2m 24s\tremaining: 19m 23s\n"
     ]
    },
    {
     "name": "stdout",
     "output_type": "stream",
     "text": [
      "575:\tlearn: 0.7984709\ttest: 0.7836257\tbest: 0.7839170 (566)\ttotal: 2m 30s\tremaining: 19m 16s\n"
     ]
    },
    {
     "name": "stdout",
     "output_type": "stream",
     "text": [
      "600:\tlearn: 0.7994873\ttest: 0.7841182\tbest: 0.7841821 (593)\ttotal: 2m 37s\tremaining: 19m 9s\n"
     ]
    },
    {
     "name": "stdout",
     "output_type": "stream",
     "text": [
      "625:\tlearn: 0.8005769\ttest: 0.7843509\tbest: 0.7845615 (619)\ttotal: 2m 43s\tremaining: 19m 2s\n"
     ]
    },
    {
     "name": "stdout",
     "output_type": "stream",
     "text": [
      "650:\tlearn: 0.8015336\ttest: 0.7851423\tbest: 0.7852161 (647)\ttotal: 2m 50s\tremaining: 18m 55s\n"
     ]
    },
    {
     "name": "stdout",
     "output_type": "stream",
     "text": [
      "675:\tlearn: 0.8028274\ttest: 0.7853210\tbest: 0.7857845 (664)\ttotal: 2m 56s\tremaining: 18m 49s\n"
     ]
    },
    {
     "name": "stdout",
     "output_type": "stream",
     "text": [
      "700:\tlearn: 0.8036765\ttest: 0.7860383\tbest: 0.7861527 (696)\ttotal: 3m 3s\tremaining: 18m 42s\n"
     ]
    },
    {
     "name": "stdout",
     "output_type": "stream",
     "text": [
      "725:\tlearn: 0.8044942\ttest: 0.7861928\tbest: 0.7862916 (722)\ttotal: 3m 9s\tremaining: 18m 35s\n"
     ]
    },
    {
     "name": "stdout",
     "output_type": "stream",
     "text": [
      "750:\tlearn: 0.8053760\ttest: 0.7867691\tbest: 0.7867691 (750)\ttotal: 3m 15s\tremaining: 18m 28s\n"
     ]
    },
    {
     "name": "stdout",
     "output_type": "stream",
     "text": [
      "775:\tlearn: 0.8063814\ttest: 0.7870319\tbest: 0.7870319 (775)\ttotal: 3m 22s\tremaining: 18m 22s\n"
     ]
    },
    {
     "name": "stdout",
     "output_type": "stream",
     "text": [
      "800:\tlearn: 0.8072384\ttest: 0.7867199\tbest: 0.7871292 (781)\ttotal: 3m 28s\tremaining: 18m 15s\n"
     ]
    },
    {
     "name": "stdout",
     "output_type": "stream",
     "text": [
      "825:\tlearn: 0.8083223\ttest: 0.7874753\tbest: 0.7876072 (816)\ttotal: 3m 35s\tremaining: 18m 8s\n"
     ]
    },
    {
     "name": "stdout",
     "output_type": "stream",
     "text": [
      "850:\tlearn: 0.8091355\ttest: 0.7882412\tbest: 0.7882412 (850)\ttotal: 3m 41s\tremaining: 18m 1s\n"
     ]
    },
    {
     "name": "stdout",
     "output_type": "stream",
     "text": [
      "875:\tlearn: 0.8099218\ttest: 0.7880206\tbest: 0.7883675 (862)\ttotal: 3m 48s\tremaining: 17m 55s\n"
     ]
    },
    {
     "name": "stdout",
     "output_type": "stream",
     "text": [
      "900:\tlearn: 0.8105815\ttest: 0.7881591\tbest: 0.7883675 (862)\ttotal: 3m 54s\tremaining: 17m 48s\n"
     ]
    },
    {
     "name": "stdout",
     "output_type": "stream",
     "text": [
      "925:\tlearn: 0.8112445\ttest: 0.7883705\tbest: 0.7885746 (921)\ttotal: 4m 1s\tremaining: 17m 41s\n"
     ]
    },
    {
     "name": "stdout",
     "output_type": "stream",
     "text": [
      "950:\tlearn: 0.8119784\ttest: 0.7883384\tbest: 0.7886538 (931)\ttotal: 4m 7s\tremaining: 17m 35s\n"
     ]
    },
    {
     "name": "stdout",
     "output_type": "stream",
     "text": [
      "975:\tlearn: 0.8127939\ttest: 0.7888333\tbest: 0.7888333 (975)\ttotal: 4m 14s\tremaining: 17m 28s\n"
     ]
    },
    {
     "name": "stdout",
     "output_type": "stream",
     "text": [
      "1000:\tlearn: 0.8139043\ttest: 0.7881922\tbest: 0.7888333 (975)\ttotal: 4m 20s\tremaining: 17m 21s\n"
     ]
    },
    {
     "name": "stdout",
     "output_type": "stream",
     "text": [
      "1025:\tlearn: 0.8146520\ttest: 0.7882250\tbest: 0.7888333 (975)\ttotal: 4m 27s\tremaining: 17m 15s\n"
     ]
    },
    {
     "name": "stdout",
     "output_type": "stream",
     "text": [
      "1050:\tlearn: 0.8152483\ttest: 0.7884022\tbest: 0.7888333 (975)\ttotal: 4m 33s\tremaining: 17m 8s\n"
     ]
    },
    {
     "name": "stdout",
     "output_type": "stream",
     "text": [
      "1075:\tlearn: 0.8158463\ttest: 0.7883385\tbest: 0.7888333 (975)\ttotal: 4m 40s\tremaining: 17m 1s\n"
     ]
    },
    {
     "name": "stdout",
     "output_type": "stream",
     "text": [
      "1100:\tlearn: 0.8164993\ttest: 0.7882487\tbest: 0.7888333 (975)\ttotal: 4m 46s\tremaining: 16m 55s\n"
     ]
    },
    {
     "name": "stdout",
     "output_type": "stream",
     "text": [
      "1125:\tlearn: 0.8172156\ttest: 0.7885259\tbest: 0.7888333 (975)\ttotal: 4m 53s\tremaining: 16m 48s\n"
     ]
    },
    {
     "name": "stdout",
     "output_type": "stream",
     "text": [
      "1150:\tlearn: 0.8177269\ttest: 0.7885304\tbest: 0.7888333 (975)\ttotal: 4m 59s\tremaining: 16m 42s\n"
     ]
    },
    {
     "name": "stdout",
     "output_type": "stream",
     "text": [
      "1175:\tlearn: 0.8185109\ttest: 0.7887423\tbest: 0.7889741 (1174)\ttotal: 5m 6s\tremaining: 16m 35s\n"
     ]
    },
    {
     "name": "stdout",
     "output_type": "stream",
     "text": [
      "1200:\tlearn: 0.8192401\ttest: 0.7888720\tbest: 0.7889741 (1174)\ttotal: 5m 12s\tremaining: 16m 29s\n"
     ]
    },
    {
     "name": "stdout",
     "output_type": "stream",
     "text": [
      "1225:\tlearn: 0.8200080\ttest: 0.7884245\tbest: 0.7890448 (1203)\ttotal: 5m 19s\tremaining: 16m 22s\n"
     ]
    },
    {
     "name": "stdout",
     "output_type": "stream",
     "text": [
      "1250:\tlearn: 0.8207340\ttest: 0.7890598\tbest: 0.7891602 (1244)\ttotal: 5m 25s\tremaining: 16m 16s\n"
     ]
    },
    {
     "name": "stdout",
     "output_type": "stream",
     "text": [
      "1275:\tlearn: 0.8214621\ttest: 0.7892971\tbest: 0.7892971 (1275)\ttotal: 5m 32s\tremaining: 16m 9s\n"
     ]
    },
    {
     "name": "stdout",
     "output_type": "stream",
     "text": [
      "1300:\tlearn: 0.8219690\ttest: 0.7894014\tbest: 0.7894014 (1300)\ttotal: 5m 38s\tremaining: 16m 2s\n"
     ]
    },
    {
     "name": "stdout",
     "output_type": "stream",
     "text": [
      "1325:\tlearn: 0.8225628\ttest: 0.7890619\tbest: 0.7896176 (1306)\ttotal: 5m 45s\tremaining: 15m 56s\n"
     ]
    },
    {
     "name": "stdout",
     "output_type": "stream",
     "text": [
      "1350:\tlearn: 0.8233410\ttest: 0.7892662\tbest: 0.7896176 (1306)\ttotal: 5m 51s\tremaining: 15m 49s\n"
     ]
    },
    {
     "name": "stdout",
     "output_type": "stream",
     "text": [
      "1375:\tlearn: 0.8239885\ttest: 0.7888275\tbest: 0.7896176 (1306)\ttotal: 5m 58s\tremaining: 15m 43s\n"
     ]
    },
    {
     "name": "stdout",
     "output_type": "stream",
     "text": [
      "1400:\tlearn: 0.8247456\ttest: 0.7889508\tbest: 0.7896176 (1306)\ttotal: 6m 4s\tremaining: 15m 36s\n"
     ]
    },
    {
     "name": "stdout",
     "output_type": "stream",
     "text": [
      "1425:\tlearn: 0.8252872\ttest: 0.7887345\tbest: 0.7896176 (1306)\ttotal: 6m 11s\tremaining: 15m 30s\n"
     ]
    },
    {
     "name": "stdout",
     "output_type": "stream",
     "text": [
      "1450:\tlearn: 0.8257418\ttest: 0.7890655\tbest: 0.7896176 (1306)\ttotal: 6m 17s\tremaining: 15m 23s\n"
     ]
    },
    {
     "name": "stdout",
     "output_type": "stream",
     "text": [
      "1475:\tlearn: 0.8263306\ttest: 0.7888492\tbest: 0.7896176 (1306)\ttotal: 6m 24s\tremaining: 15m 17s\n"
     ]
    },
    {
     "name": "stdout",
     "output_type": "stream",
     "text": [
      "1500:\tlearn: 0.8272065\ttest: 0.7887952\tbest: 0.7896176 (1306)\ttotal: 6m 30s\tremaining: 15m 10s\n"
     ]
    },
    {
     "name": "stdout",
     "output_type": "stream",
     "text": [
      "1525:\tlearn: 0.8278895\ttest: 0.7893314\tbest: 0.7896176 (1306)\ttotal: 6m 37s\tremaining: 15m 3s\n"
     ]
    },
    {
     "name": "stdout",
     "output_type": "stream",
     "text": [
      "1550:\tlearn: 0.8284097\ttest: 0.7889077\tbest: 0.7896176 (1306)\ttotal: 6m 43s\tremaining: 14m 57s\n"
     ]
    },
    {
     "name": "stdout",
     "output_type": "stream",
     "text": [
      "1575:\tlearn: 0.8290715\ttest: 0.7891264\tbest: 0.7896176 (1306)\ttotal: 6m 50s\tremaining: 14m 51s\n"
     ]
    },
    {
     "name": "stdout",
     "output_type": "stream",
     "text": [
      "1600:\tlearn: 0.8295083\ttest: 0.7891474\tbest: 0.7896176 (1306)\ttotal: 6m 56s\tremaining: 14m 44s\n"
     ]
    },
    {
     "name": "stdout",
     "output_type": "stream",
     "text": [
      "1625:\tlearn: 0.8302768\ttest: 0.7893856\tbest: 0.7896176 (1306)\ttotal: 7m 3s\tremaining: 14m 38s\n"
     ]
    },
    {
     "name": "stdout",
     "output_type": "stream",
     "text": [
      "1650:\tlearn: 0.8309929\ttest: 0.7895673\tbest: 0.7896176 (1306)\ttotal: 7m 9s\tremaining: 14m 31s\n"
     ]
    },
    {
     "name": "stdout",
     "output_type": "stream",
     "text": [
      "1675:\tlearn: 0.8315449\ttest: 0.7894374\tbest: 0.7897219 (1657)\ttotal: 7m 16s\tremaining: 14m 25s\n"
     ]
    },
    {
     "name": "stdout",
     "output_type": "stream",
     "text": [
      "1700:\tlearn: 0.8320717\ttest: 0.7896742\tbest: 0.7897979 (1693)\ttotal: 7m 22s\tremaining: 14m 18s\n"
     ]
    },
    {
     "name": "stdout",
     "output_type": "stream",
     "text": [
      "1725:\tlearn: 0.8325908\ttest: 0.7897257\tbest: 0.7898503 (1721)\ttotal: 7m 29s\tremaining: 14m 11s\n"
     ]
    },
    {
     "name": "stdout",
     "output_type": "stream",
     "text": [
      "1750:\tlearn: 0.8330825\ttest: 0.7897740\tbest: 0.7898585 (1748)\ttotal: 7m 35s\tremaining: 14m 5s\n"
     ]
    },
    {
     "name": "stdout",
     "output_type": "stream",
     "text": [
      "1775:\tlearn: 0.8336006\ttest: 0.7900169\tbest: 0.7900169 (1775)\ttotal: 7m 42s\tremaining: 13m 58s\n"
     ]
    },
    {
     "name": "stdout",
     "output_type": "stream",
     "text": [
      "1800:\tlearn: 0.8342036\ttest: 0.7896045\tbest: 0.7900169 (1775)\ttotal: 7m 48s\tremaining: 13m 52s\n"
     ]
    },
    {
     "name": "stdout",
     "output_type": "stream",
     "text": [
      "1825:\tlearn: 0.8347935\ttest: 0.7897860\tbest: 0.7900169 (1775)\ttotal: 7m 55s\tremaining: 13m 45s\n"
     ]
    },
    {
     "name": "stdout",
     "output_type": "stream",
     "text": [
      "1850:\tlearn: 0.8353401\ttest: 0.7896737\tbest: 0.7900169 (1775)\ttotal: 8m 1s\tremaining: 13m 39s\n"
     ]
    },
    {
     "name": "stdout",
     "output_type": "stream",
     "text": [
      "1875:\tlearn: 0.8357918\ttest: 0.7898926\tbest: 0.7900368 (1869)\ttotal: 8m 8s\tremaining: 13m 32s\n"
     ]
    },
    {
     "name": "stdout",
     "output_type": "stream",
     "text": [
      "1900:\tlearn: 0.8364894\ttest: 0.7902192\tbest: 0.7903459 (1898)\ttotal: 8m 14s\tremaining: 13m 26s\n"
     ]
    },
    {
     "name": "stdout",
     "output_type": "stream",
     "text": [
      "1925:\tlearn: 0.8370105\ttest: 0.7903505\tbest: 0.7903513 (1922)\ttotal: 8m 20s\tremaining: 13m 19s\n"
     ]
    },
    {
     "name": "stdout",
     "output_type": "stream",
     "text": [
      "1950:\tlearn: 0.8374771\ttest: 0.7904858\tbest: 0.7906561 (1949)\ttotal: 8m 27s\tremaining: 13m 13s\n"
     ]
    },
    {
     "name": "stdout",
     "output_type": "stream",
     "text": [
      "1975:\tlearn: 0.8378052\ttest: 0.7901175\tbest: 0.7906561 (1949)\ttotal: 8m 33s\tremaining: 13m 6s\n"
     ]
    },
    {
     "name": "stdout",
     "output_type": "stream",
     "text": [
      "2000:\tlearn: 0.8384911\ttest: 0.7901300\tbest: 0.7906561 (1949)\ttotal: 8m 40s\tremaining: 12m 59s\n"
     ]
    },
    {
     "name": "stdout",
     "output_type": "stream",
     "text": [
      "2025:\tlearn: 0.8390083\ttest: 0.7901854\tbest: 0.7906561 (1949)\ttotal: 8m 46s\tremaining: 12m 53s\n"
     ]
    },
    {
     "name": "stdout",
     "output_type": "stream",
     "text": [
      "2050:\tlearn: 0.8394897\ttest: 0.7904903\tbest: 0.7906561 (1949)\ttotal: 8m 53s\tremaining: 12m 46s\n"
     ]
    },
    {
     "name": "stdout",
     "output_type": "stream",
     "text": [
      "2075:\tlearn: 0.8402573\ttest: 0.7908263\tbest: 0.7908263 (2075)\ttotal: 8m 59s\tremaining: 12m 40s\n"
     ]
    },
    {
     "name": "stdout",
     "output_type": "stream",
     "text": [
      "2100:\tlearn: 0.8406589\ttest: 0.7904071\tbest: 0.7908455 (2079)\ttotal: 9m 6s\tremaining: 12m 33s\n"
     ]
    },
    {
     "name": "stdout",
     "output_type": "stream",
     "text": [
      "2125:\tlearn: 0.8413201\ttest: 0.7902025\tbest: 0.7908455 (2079)\ttotal: 9m 12s\tremaining: 12m 27s\n"
     ]
    },
    {
     "name": "stdout",
     "output_type": "stream",
     "text": [
      "2150:\tlearn: 0.8418265\ttest: 0.7904675\tbest: 0.7908455 (2079)\ttotal: 9m 19s\tremaining: 12m 20s\n"
     ]
    },
    {
     "name": "stdout",
     "output_type": "stream",
     "text": [
      "2175:\tlearn: 0.8423847\ttest: 0.7904547\tbest: 0.7908455 (2079)\ttotal: 9m 25s\tremaining: 12m 14s\n"
     ]
    },
    {
     "name": "stdout",
     "output_type": "stream",
     "text": [
      "2200:\tlearn: 0.8431952\ttest: 0.7906651\tbest: 0.7908455 (2079)\ttotal: 9m 32s\tremaining: 12m 7s\n"
     ]
    },
    {
     "name": "stdout",
     "output_type": "stream",
     "text": [
      "2225:\tlearn: 0.8438910\ttest: 0.7907768\tbest: 0.7908455 (2079)\ttotal: 9m 38s\tremaining: 12m 1s\n"
     ]
    },
    {
     "name": "stdout",
     "output_type": "stream",
     "text": [
      "2250:\tlearn: 0.8446499\ttest: 0.7905183\tbest: 0.7908455 (2079)\ttotal: 9m 45s\tremaining: 11m 54s\n"
     ]
    },
    {
     "name": "stdout",
     "output_type": "stream",
     "text": [
      "2275:\tlearn: 0.8452366\ttest: 0.7906344\tbest: 0.7908455 (2079)\ttotal: 9m 51s\tremaining: 11m 48s\n"
     ]
    },
    {
     "name": "stdout",
     "output_type": "stream",
     "text": [
      "2300:\tlearn: 0.8457303\ttest: 0.7908094\tbest: 0.7908711 (2299)\ttotal: 9m 58s\tremaining: 11m 41s\n"
     ]
    },
    {
     "name": "stdout",
     "output_type": "stream",
     "text": [
      "2325:\tlearn: 0.8461476\ttest: 0.7909580\tbest: 0.7909788 (2324)\ttotal: 10m 4s\tremaining: 11m 35s\n"
     ]
    },
    {
     "name": "stdout",
     "output_type": "stream",
     "text": [
      "2350:\tlearn: 0.8466535\ttest: 0.7911968\tbest: 0.7913840 (2348)\ttotal: 10m 11s\tremaining: 11m 28s\n"
     ]
    },
    {
     "name": "stdout",
     "output_type": "stream",
     "text": [
      "2375:\tlearn: 0.8471665\ttest: 0.7915273\tbest: 0.7915273 (2375)\ttotal: 10m 17s\tremaining: 11m 22s\n"
     ]
    },
    {
     "name": "stdout",
     "output_type": "stream",
     "text": [
      "2400:\tlearn: 0.8477488\ttest: 0.7921685\tbest: 0.7922527 (2398)\ttotal: 10m 24s\tremaining: 11m 15s\n"
     ]
    },
    {
     "name": "stdout",
     "output_type": "stream",
     "text": [
      "2425:\tlearn: 0.8482757\ttest: 0.7916028\tbest: 0.7922527 (2398)\ttotal: 10m 30s\tremaining: 11m 9s\n"
     ]
    },
    {
     "name": "stdout",
     "output_type": "stream",
     "text": [
      "2450:\tlearn: 0.8488723\ttest: 0.7915442\tbest: 0.7922527 (2398)\ttotal: 10m 37s\tremaining: 11m 2s\n"
     ]
    },
    {
     "name": "stdout",
     "output_type": "stream",
     "text": [
      "2475:\tlearn: 0.8493682\ttest: 0.7913598\tbest: 0.7922527 (2398)\ttotal: 10m 43s\tremaining: 10m 56s\n"
     ]
    },
    {
     "name": "stdout",
     "output_type": "stream",
     "text": [
      "2500:\tlearn: 0.8498440\ttest: 0.7911808\tbest: 0.7922527 (2398)\ttotal: 10m 50s\tremaining: 10m 49s\n"
     ]
    },
    {
     "name": "stdout",
     "output_type": "stream",
     "text": [
      "2525:\tlearn: 0.8503799\ttest: 0.7912338\tbest: 0.7922527 (2398)\ttotal: 10m 56s\tremaining: 10m 43s\n"
     ]
    },
    {
     "name": "stdout",
     "output_type": "stream",
     "text": [
      "2550:\tlearn: 0.8509806\ttest: 0.7915159\tbest: 0.7922527 (2398)\ttotal: 11m 3s\tremaining: 10m 36s\n"
     ]
    },
    {
     "name": "stdout",
     "output_type": "stream",
     "text": [
      "2575:\tlearn: 0.8514939\ttest: 0.7909708\tbest: 0.7922527 (2398)\ttotal: 11m 9s\tremaining: 10m 30s\n"
     ]
    },
    {
     "name": "stdout",
     "output_type": "stream",
     "text": [
      "2600:\tlearn: 0.8518050\ttest: 0.7913581\tbest: 0.7922527 (2398)\ttotal: 11m 16s\tremaining: 10m 23s\n"
     ]
    },
    {
     "name": "stdout",
     "output_type": "stream",
     "text": [
      "2625:\tlearn: 0.8522557\ttest: 0.7910521\tbest: 0.7922527 (2398)\ttotal: 11m 22s\tremaining: 10m 17s\n"
     ]
    },
    {
     "name": "stdout",
     "output_type": "stream",
     "text": [
      "2650:\tlearn: 0.8527437\ttest: 0.7912292\tbest: 0.7922527 (2398)\ttotal: 11m 29s\tremaining: 10m 10s\n"
     ]
    },
    {
     "name": "stdout",
     "output_type": "stream",
     "text": [
      "2675:\tlearn: 0.8533732\ttest: 0.7914684\tbest: 0.7922527 (2398)\ttotal: 11m 35s\tremaining: 10m 4s\n"
     ]
    },
    {
     "name": "stdout",
     "output_type": "stream",
     "text": [
      "2700:\tlearn: 0.8539685\ttest: 0.7915564\tbest: 0.7922527 (2398)\ttotal: 11m 42s\tremaining: 9m 57s\n"
     ]
    },
    {
     "name": "stdout",
     "output_type": "stream",
     "text": [
      "2725:\tlearn: 0.8543811\ttest: 0.7914146\tbest: 0.7922527 (2398)\ttotal: 11m 48s\tremaining: 9m 51s\n"
     ]
    },
    {
     "name": "stdout",
     "output_type": "stream",
     "text": [
      "2750:\tlearn: 0.8548345\ttest: 0.7917797\tbest: 0.7922527 (2398)\ttotal: 11m 55s\tremaining: 9m 44s\n"
     ]
    },
    {
     "name": "stdout",
     "output_type": "stream",
     "text": [
      "2775:\tlearn: 0.8553416\ttest: 0.7919582\tbest: 0.7922527 (2398)\ttotal: 12m 1s\tremaining: 9m 38s\n"
     ]
    },
    {
     "name": "stdout",
     "output_type": "stream",
     "text": [
      "2800:\tlearn: 0.8558019\ttest: 0.7911998\tbest: 0.7922527 (2398)\ttotal: 12m 8s\tremaining: 9m 31s\n"
     ]
    },
    {
     "name": "stdout",
     "output_type": "stream",
     "text": [
      "2825:\tlearn: 0.8563503\ttest: 0.7913537\tbest: 0.7922527 (2398)\ttotal: 12m 14s\tremaining: 9m 25s\n"
     ]
    },
    {
     "name": "stdout",
     "output_type": "stream",
     "text": [
      "2850:\tlearn: 0.8566512\ttest: 0.7915976\tbest: 0.7922527 (2398)\ttotal: 12m 21s\tremaining: 9m 18s\n"
     ]
    },
    {
     "name": "stdout",
     "output_type": "stream",
     "text": [
      "2875:\tlearn: 0.8573447\ttest: 0.7915605\tbest: 0.7922527 (2398)\ttotal: 12m 27s\tremaining: 9m 12s\n"
     ]
    },
    {
     "name": "stdout",
     "output_type": "stream",
     "text": [
      "2900:\tlearn: 0.8578100\ttest: 0.7914387\tbest: 0.7922527 (2398)\ttotal: 12m 34s\tremaining: 9m 5s\n"
     ]
    },
    {
     "name": "stdout",
     "output_type": "stream",
     "text": [
      "2925:\tlearn: 0.8583802\ttest: 0.7913540\tbest: 0.7922527 (2398)\ttotal: 12m 40s\tremaining: 8m 59s\n"
     ]
    },
    {
     "name": "stdout",
     "output_type": "stream",
     "text": [
      "2950:\tlearn: 0.8589987\ttest: 0.7913163\tbest: 0.7922527 (2398)\ttotal: 12m 47s\tremaining: 8m 52s\n"
     ]
    },
    {
     "name": "stdout",
     "output_type": "stream",
     "text": [
      "2975:\tlearn: 0.8596000\ttest: 0.7913474\tbest: 0.7922527 (2398)\ttotal: 12m 53s\tremaining: 8m 46s\n"
     ]
    },
    {
     "name": "stdout",
     "output_type": "stream",
     "text": [
      "3000:\tlearn: 0.8602704\ttest: 0.7913754\tbest: 0.7922527 (2398)\ttotal: 13m\tremaining: 8m 39s\n"
     ]
    },
    {
     "name": "stdout",
     "output_type": "stream",
     "text": [
      "3025:\tlearn: 0.8605605\ttest: 0.7915684\tbest: 0.7922527 (2398)\ttotal: 13m 6s\tremaining: 8m 33s\n"
     ]
    },
    {
     "name": "stdout",
     "output_type": "stream",
     "text": [
      "3050:\tlearn: 0.8610258\ttest: 0.7915479\tbest: 0.7922527 (2398)\ttotal: 13m 13s\tremaining: 8m 26s\n"
     ]
    },
    {
     "name": "stdout",
     "output_type": "stream",
     "text": [
      "3075:\tlearn: 0.8615096\ttest: 0.7915440\tbest: 0.7922527 (2398)\ttotal: 13m 19s\tremaining: 8m 20s\n"
     ]
    },
    {
     "name": "stdout",
     "output_type": "stream",
     "text": [
      "3100:\tlearn: 0.8618831\ttest: 0.7914837\tbest: 0.7922527 (2398)\ttotal: 13m 26s\tremaining: 8m 13s\n"
     ]
    },
    {
     "name": "stdout",
     "output_type": "stream",
     "text": [
      "3125:\tlearn: 0.8625402\ttest: 0.7915089\tbest: 0.7922527 (2398)\ttotal: 13m 32s\tremaining: 8m 7s\n"
     ]
    },
    {
     "name": "stdout",
     "output_type": "stream",
     "text": [
      "3150:\tlearn: 0.8628908\ttest: 0.7916281\tbest: 0.7922527 (2398)\ttotal: 13m 39s\tremaining: 8m\n"
     ]
    },
    {
     "name": "stdout",
     "output_type": "stream",
     "text": [
      "3175:\tlearn: 0.8632777\ttest: 0.7916747\tbest: 0.7922527 (2398)\ttotal: 13m 45s\tremaining: 7m 54s\n"
     ]
    },
    {
     "name": "stdout",
     "output_type": "stream",
     "text": [
      "3200:\tlearn: 0.8638238\ttest: 0.7916103\tbest: 0.7922527 (2398)\ttotal: 13m 52s\tremaining: 7m 47s\n"
     ]
    },
    {
     "name": "stdout",
     "output_type": "stream",
     "text": [
      "3225:\tlearn: 0.8642156\ttest: 0.7914266\tbest: 0.7922527 (2398)\ttotal: 13m 58s\tremaining: 7m 41s\n"
     ]
    },
    {
     "name": "stdout",
     "output_type": "stream",
     "text": [
      "3250:\tlearn: 0.8647562\ttest: 0.7911582\tbest: 0.7922527 (2398)\ttotal: 14m 5s\tremaining: 7m 34s\n"
     ]
    },
    {
     "name": "stdout",
     "output_type": "stream",
     "text": [
      "3275:\tlearn: 0.8653470\ttest: 0.7914334\tbest: 0.7922527 (2398)\ttotal: 14m 11s\tremaining: 7m 28s\n"
     ]
    },
    {
     "name": "stdout",
     "output_type": "stream",
     "text": [
      "3300:\tlearn: 0.8658070\ttest: 0.7918631\tbest: 0.7922527 (2398)\ttotal: 14m 18s\tremaining: 7m 21s\n"
     ]
    },
    {
     "name": "stdout",
     "output_type": "stream",
     "text": [
      "3325:\tlearn: 0.8662304\ttest: 0.7916369\tbest: 0.7922527 (2398)\ttotal: 14m 24s\tremaining: 7m 15s\n"
     ]
    },
    {
     "name": "stdout",
     "output_type": "stream",
     "text": [
      "3350:\tlearn: 0.8666196\ttest: 0.7916436\tbest: 0.7922527 (2398)\ttotal: 14m 31s\tremaining: 7m 8s\n"
     ]
    },
    {
     "name": "stdout",
     "output_type": "stream",
     "text": [
      "3375:\tlearn: 0.8671041\ttest: 0.7916692\tbest: 0.7922527 (2398)\ttotal: 14m 37s\tremaining: 7m 2s\n"
     ]
    },
    {
     "name": "stdout",
     "output_type": "stream",
     "text": [
      "3400:\tlearn: 0.8674496\ttest: 0.7915593\tbest: 0.7922527 (2398)\ttotal: 14m 44s\tremaining: 6m 55s\n"
     ]
    },
    {
     "name": "stdout",
     "output_type": "stream",
     "text": [
      "3425:\tlearn: 0.8681811\ttest: 0.7917101\tbest: 0.7922527 (2398)\ttotal: 14m 50s\tremaining: 6m 49s\n"
     ]
    },
    {
     "name": "stdout",
     "output_type": "stream",
     "text": [
      "3450:\tlearn: 0.8685771\ttest: 0.7918805\tbest: 0.7922527 (2398)\ttotal: 14m 57s\tremaining: 6m 42s\n"
     ]
    },
    {
     "name": "stdout",
     "output_type": "stream",
     "text": [
      "3475:\tlearn: 0.8689941\ttest: 0.7916112\tbest: 0.7922527 (2398)\ttotal: 15m 3s\tremaining: 6m 36s\n"
     ]
    },
    {
     "name": "stdout",
     "output_type": "stream",
     "text": [
      "3500:\tlearn: 0.8694202\ttest: 0.7919141\tbest: 0.7922527 (2398)\ttotal: 15m 10s\tremaining: 6m 29s\n"
     ]
    },
    {
     "name": "stdout",
     "output_type": "stream",
     "text": [
      "3525:\tlearn: 0.8700393\ttest: 0.7916206\tbest: 0.7922527 (2398)\ttotal: 15m 16s\tremaining: 6m 23s\n"
     ]
    },
    {
     "name": "stdout",
     "output_type": "stream",
     "text": [
      "3550:\tlearn: 0.8704890\ttest: 0.7917452\tbest: 0.7922527 (2398)\ttotal: 15m 23s\tremaining: 6m 16s\n"
     ]
    },
    {
     "name": "stdout",
     "output_type": "stream",
     "text": [
      "3575:\tlearn: 0.8708961\ttest: 0.7917394\tbest: 0.7922527 (2398)\ttotal: 15m 29s\tremaining: 6m 10s\n"
     ]
    },
    {
     "name": "stdout",
     "output_type": "stream",
     "text": [
      "3600:\tlearn: 0.8713487\ttest: 0.7918713\tbest: 0.7922646 (3582)\ttotal: 15m 36s\tremaining: 6m 3s\n"
     ]
    },
    {
     "name": "stdout",
     "output_type": "stream",
     "text": [
      "3625:\tlearn: 0.8718573\ttest: 0.7918508\tbest: 0.7922646 (3582)\ttotal: 15m 42s\tremaining: 5m 57s\n"
     ]
    },
    {
     "name": "stdout",
     "output_type": "stream",
     "text": [
      "3650:\tlearn: 0.8721753\ttest: 0.7918081\tbest: 0.7922646 (3582)\ttotal: 15m 49s\tremaining: 5m 50s\n"
     ]
    },
    {
     "name": "stdout",
     "output_type": "stream",
     "text": [
      "3675:\tlearn: 0.8726495\ttest: 0.7920402\tbest: 0.7922646 (3582)\ttotal: 15m 55s\tremaining: 5m 44s\n"
     ]
    },
    {
     "name": "stdout",
     "output_type": "stream",
     "text": [
      "3700:\tlearn: 0.8731050\ttest: 0.7921506\tbest: 0.7923364 (3692)\ttotal: 16m 2s\tremaining: 5m 37s\n"
     ]
    },
    {
     "name": "stdout",
     "output_type": "stream",
     "text": [
      "3725:\tlearn: 0.8735714\ttest: 0.7922765\tbest: 0.7923370 (3707)\ttotal: 16m 8s\tremaining: 5m 31s\n"
     ]
    },
    {
     "name": "stdout",
     "output_type": "stream",
     "text": [
      "3750:\tlearn: 0.8742646\ttest: 0.7920499\tbest: 0.7924273 (3729)\ttotal: 16m 15s\tremaining: 5m 24s\n"
     ]
    },
    {
     "name": "stdout",
     "output_type": "stream",
     "text": [
      "3775:\tlearn: 0.8748045\ttest: 0.7920758\tbest: 0.7924273 (3729)\ttotal: 16m 21s\tremaining: 5m 18s\n"
     ]
    },
    {
     "name": "stdout",
     "output_type": "stream",
     "text": [
      "3800:\tlearn: 0.8753019\ttest: 0.7922923\tbest: 0.7924273 (3729)\ttotal: 16m 28s\tremaining: 5m 11s\n"
     ]
    },
    {
     "name": "stdout",
     "output_type": "stream",
     "text": [
      "3825:\tlearn: 0.8756294\ttest: 0.7924448\tbest: 0.7926086 (3805)\ttotal: 16m 34s\tremaining: 5m 5s\n"
     ]
    },
    {
     "name": "stdout",
     "output_type": "stream",
     "text": [
      "3850:\tlearn: 0.8760206\ttest: 0.7923206\tbest: 0.7926086 (3805)\ttotal: 16m 41s\tremaining: 4m 58s\n"
     ]
    },
    {
     "name": "stdout",
     "output_type": "stream",
     "text": [
      "3875:\tlearn: 0.8766147\ttest: 0.7920307\tbest: 0.7926086 (3805)\ttotal: 16m 47s\tremaining: 4m 52s\n"
     ]
    },
    {
     "name": "stdout",
     "output_type": "stream",
     "text": [
      "3900:\tlearn: 0.8769430\ttest: 0.7923271\tbest: 0.7926086 (3805)\ttotal: 16m 54s\tremaining: 4m 45s\n"
     ]
    },
    {
     "name": "stdout",
     "output_type": "stream",
     "text": [
      "3925:\tlearn: 0.8772739\ttest: 0.7921182\tbest: 0.7926086 (3805)\ttotal: 17m\tremaining: 4m 39s\n"
     ]
    },
    {
     "name": "stdout",
     "output_type": "stream",
     "text": [
      "3950:\tlearn: 0.8777302\ttest: 0.7920347\tbest: 0.7926086 (3805)\ttotal: 17m 7s\tremaining: 4m 32s\n"
     ]
    },
    {
     "name": "stdout",
     "output_type": "stream",
     "text": [
      "3975:\tlearn: 0.8780374\ttest: 0.7921032\tbest: 0.7926086 (3805)\ttotal: 17m 13s\tremaining: 4m 26s\n"
     ]
    },
    {
     "name": "stdout",
     "output_type": "stream",
     "text": [
      "4000:\tlearn: 0.8785864\ttest: 0.7924140\tbest: 0.7926086 (3805)\ttotal: 17m 20s\tremaining: 4m 19s\n"
     ]
    },
    {
     "name": "stdout",
     "output_type": "stream",
     "text": [
      "4025:\tlearn: 0.8790607\ttest: 0.7923739\tbest: 0.7926086 (3805)\ttotal: 17m 26s\tremaining: 4m 13s\n"
     ]
    },
    {
     "name": "stdout",
     "output_type": "stream",
     "text": [
      "4050:\tlearn: 0.8796657\ttest: 0.7921237\tbest: 0.7926086 (3805)\ttotal: 17m 33s\tremaining: 4m 6s\n"
     ]
    },
    {
     "name": "stdout",
     "output_type": "stream",
     "text": [
      "4075:\tlearn: 0.8802435\ttest: 0.7922280\tbest: 0.7926086 (3805)\ttotal: 17m 39s\tremaining: 4m\n"
     ]
    },
    {
     "name": "stdout",
     "output_type": "stream",
     "text": [
      "4100:\tlearn: 0.8807517\ttest: 0.7922713\tbest: 0.7926086 (3805)\ttotal: 17m 46s\tremaining: 3m 53s\n"
     ]
    },
    {
     "name": "stdout",
     "output_type": "stream",
     "text": [
      "4125:\tlearn: 0.8811305\ttest: 0.7925257\tbest: 0.7926086 (3805)\ttotal: 17m 52s\tremaining: 3m 47s\n"
     ]
    },
    {
     "name": "stdout",
     "output_type": "stream",
     "text": [
      "4150:\tlearn: 0.8814411\ttest: 0.7923618\tbest: 0.7926086 (3805)\ttotal: 17m 59s\tremaining: 3m 40s\n"
     ]
    },
    {
     "name": "stdout",
     "output_type": "stream",
     "text": [
      "4175:\tlearn: 0.8819223\ttest: 0.7924646\tbest: 0.7926747 (4162)\ttotal: 18m 5s\tremaining: 3m 34s\n"
     ]
    },
    {
     "name": "stdout",
     "output_type": "stream",
     "text": [
      "4200:\tlearn: 0.8821486\ttest: 0.7924006\tbest: 0.7926747 (4162)\ttotal: 18m 12s\tremaining: 3m 27s\n"
     ]
    },
    {
     "name": "stdout",
     "output_type": "stream",
     "text": [
      "4225:\tlearn: 0.8828614\ttest: 0.7925860\tbest: 0.7927571 (4215)\ttotal: 18m 18s\tremaining: 3m 21s\n"
     ]
    },
    {
     "name": "stdout",
     "output_type": "stream",
     "text": [
      "4250:\tlearn: 0.8832403\ttest: 0.7928470\tbest: 0.7928659 (4248)\ttotal: 18m 25s\tremaining: 3m 14s\n"
     ]
    },
    {
     "name": "stdout",
     "output_type": "stream",
     "text": [
      "4275:\tlearn: 0.8835747\ttest: 0.7927016\tbest: 0.7928659 (4248)\ttotal: 18m 31s\tremaining: 3m 8s\n"
     ]
    },
    {
     "name": "stdout",
     "output_type": "stream",
     "text": [
      "4300:\tlearn: 0.8841429\ttest: 0.7925150\tbest: 0.7928659 (4248)\ttotal: 18m 38s\tremaining: 3m 1s\n"
     ]
    },
    {
     "name": "stdout",
     "output_type": "stream",
     "text": [
      "4325:\tlearn: 0.8846505\ttest: 0.7926340\tbest: 0.7928659 (4248)\ttotal: 18m 44s\tremaining: 2m 55s\n"
     ]
    },
    {
     "name": "stdout",
     "output_type": "stream",
     "text": [
      "4350:\tlearn: 0.8849569\ttest: 0.7927034\tbest: 0.7928659 (4248)\ttotal: 18m 51s\tremaining: 2m 48s\n"
     ]
    },
    {
     "name": "stdout",
     "output_type": "stream",
     "text": [
      "4375:\tlearn: 0.8853600\ttest: 0.7924956\tbest: 0.7929171 (4368)\ttotal: 18m 57s\tremaining: 2m 42s\n"
     ]
    },
    {
     "name": "stdout",
     "output_type": "stream",
     "text": [
      "4400:\tlearn: 0.8858668\ttest: 0.7927155\tbest: 0.7930233 (4386)\ttotal: 19m 4s\tremaining: 2m 35s\n"
     ]
    },
    {
     "name": "stdout",
     "output_type": "stream",
     "text": [
      "4425:\tlearn: 0.8863583\ttest: 0.7928216\tbest: 0.7930233 (4386)\ttotal: 19m 10s\tremaining: 2m 29s\n"
     ]
    },
    {
     "name": "stdout",
     "output_type": "stream",
     "text": [
      "4450:\tlearn: 0.8865650\ttest: 0.7927596\tbest: 0.7930233 (4386)\ttotal: 19m 17s\tremaining: 2m 22s\n"
     ]
    },
    {
     "name": "stdout",
     "output_type": "stream",
     "text": [
      "4475:\tlearn: 0.8869598\ttest: 0.7929278\tbest: 0.7930233 (4386)\ttotal: 19m 23s\tremaining: 2m 16s\n"
     ]
    },
    {
     "name": "stdout",
     "output_type": "stream",
     "text": [
      "4500:\tlearn: 0.8873745\ttest: 0.7930357\tbest: 0.7930993 (4499)\ttotal: 19m 30s\tremaining: 2m 9s\n"
     ]
    },
    {
     "name": "stdout",
     "output_type": "stream",
     "text": [
      "4525:\tlearn: 0.8878306\ttest: 0.7926937\tbest: 0.7930993 (4499)\ttotal: 19m 36s\tremaining: 2m 3s\n"
     ]
    },
    {
     "name": "stdout",
     "output_type": "stream",
     "text": [
      "4550:\tlearn: 0.8882505\ttest: 0.7925122\tbest: 0.7930993 (4499)\ttotal: 19m 43s\tremaining: 1m 56s\n"
     ]
    },
    {
     "name": "stdout",
     "output_type": "stream",
     "text": [
      "4575:\tlearn: 0.8885972\ttest: 0.7926774\tbest: 0.7930993 (4499)\ttotal: 19m 49s\tremaining: 1m 50s\n"
     ]
    },
    {
     "name": "stdout",
     "output_type": "stream",
     "text": [
      "4600:\tlearn: 0.8889453\ttest: 0.7927581\tbest: 0.7930993 (4499)\ttotal: 19m 56s\tremaining: 1m 43s\n"
     ]
    },
    {
     "name": "stdout",
     "output_type": "stream",
     "text": [
      "4625:\tlearn: 0.8894440\ttest: 0.7929862\tbest: 0.7930993 (4499)\ttotal: 20m 2s\tremaining: 1m 37s\n"
     ]
    },
    {
     "name": "stdout",
     "output_type": "stream",
     "text": [
      "4650:\tlearn: 0.8897304\ttest: 0.7925664\tbest: 0.7931551 (4630)\ttotal: 20m 9s\tremaining: 1m 30s\n"
     ]
    },
    {
     "name": "stdout",
     "output_type": "stream",
     "text": [
      "4675:\tlearn: 0.8900598\ttest: 0.7925062\tbest: 0.7931551 (4630)\ttotal: 20m 15s\tremaining: 1m 24s\n"
     ]
    },
    {
     "name": "stdout",
     "output_type": "stream",
     "text": [
      "4700:\tlearn: 0.8904068\ttest: 0.7927031\tbest: 0.7931551 (4630)\ttotal: 20m 22s\tremaining: 1m 17s\n"
     ]
    },
    {
     "name": "stdout",
     "output_type": "stream",
     "text": [
      "4725:\tlearn: 0.8906872\ttest: 0.7921584\tbest: 0.7931551 (4630)\ttotal: 20m 28s\tremaining: 1m 11s\n"
     ]
    },
    {
     "name": "stdout",
     "output_type": "stream",
     "text": [
      "4750:\tlearn: 0.8910855\ttest: 0.7924920\tbest: 0.7931551 (4630)\ttotal: 20m 35s\tremaining: 1m 4s\n"
     ]
    },
    {
     "name": "stdout",
     "output_type": "stream",
     "text": [
      "4775:\tlearn: 0.8913089\ttest: 0.7928720\tbest: 0.7931551 (4630)\ttotal: 20m 41s\tremaining: 58.2s\n"
     ]
    },
    {
     "name": "stdout",
     "output_type": "stream",
     "text": [
      "4800:\tlearn: 0.8918607\ttest: 0.7929984\tbest: 0.7931551 (4630)\ttotal: 20m 48s\tremaining: 51.7s\n"
     ]
    },
    {
     "name": "stdout",
     "output_type": "stream",
     "text": [
      "4825:\tlearn: 0.8922360\ttest: 0.7926566\tbest: 0.7931551 (4630)\ttotal: 20m 54s\tremaining: 45.2s\n"
     ]
    },
    {
     "name": "stdout",
     "output_type": "stream",
     "text": [
      "4850:\tlearn: 0.8926004\ttest: 0.7927595\tbest: 0.7931551 (4630)\ttotal: 21m\tremaining: 38.7s\n"
     ]
    },
    {
     "name": "stdout",
     "output_type": "stream",
     "text": [
      "4875:\tlearn: 0.8929508\ttest: 0.7924068\tbest: 0.7931551 (4630)\ttotal: 21m 7s\tremaining: 32.2s\n"
     ]
    },
    {
     "name": "stdout",
     "output_type": "stream",
     "text": [
      "4900:\tlearn: 0.8932720\ttest: 0.7925137\tbest: 0.7931551 (4630)\ttotal: 21m 13s\tremaining: 25.7s\n"
     ]
    },
    {
     "name": "stdout",
     "output_type": "stream",
     "text": [
      "4925:\tlearn: 0.8937462\ttest: 0.7923246\tbest: 0.7931551 (4630)\ttotal: 21m 20s\tremaining: 19.2s\n"
     ]
    },
    {
     "name": "stdout",
     "output_type": "stream",
     "text": [
      "4950:\tlearn: 0.8941348\ttest: 0.7923937\tbest: 0.7931551 (4630)\ttotal: 21m 26s\tremaining: 12.7s\n"
     ]
    },
    {
     "name": "stdout",
     "output_type": "stream",
     "text": [
      "4975:\tlearn: 0.8943792\ttest: 0.7923258\tbest: 0.7931551 (4630)\ttotal: 21m 33s\tremaining: 6.24s\n"
     ]
    },
    {
     "name": "stdout",
     "output_type": "stream",
     "text": [
      "4999:\tlearn: 0.8948358\ttest: 0.7924214\tbest: 0.7931551 (4630)\ttotal: 21m 39s\tremaining: 0us\n",
      "\n",
      "bestTest = 0.7931551183\n",
      "bestIteration = 4630\n",
      "\n"
     ]
    },
    {
     "name": "stdout",
     "output_type": "stream",
     "text": [
      "######################################## training model 4/5 ########################################\n"
     ]
    },
    {
     "name": "stdout",
     "output_type": "stream",
     "text": [
      "0:\tlearn: 0.5654452\ttest: 0.5614002\tbest: 0.5614002 (0)\ttotal: 575ms\tremaining: 47m 52s\n"
     ]
    },
    {
     "name": "stdout",
     "output_type": "stream",
     "text": [
      "25:\tlearn: 0.7276048\ttest: 0.7223076\tbest: 0.7223076 (25)\ttotal: 7.02s\tremaining: 22m 22s\n"
     ]
    },
    {
     "name": "stdout",
     "output_type": "stream",
     "text": [
      "50:\tlearn: 0.7437894\ttest: 0.7394384\tbest: 0.7394384 (50)\ttotal: 13.5s\tremaining: 21m 51s\n"
     ]
    },
    {
     "name": "stdout",
     "output_type": "stream",
     "text": [
      "75:\tlearn: 0.7520523\ttest: 0.7472343\tbest: 0.7472343 (75)\ttotal: 20.1s\tremaining: 21m 39s\n"
     ]
    },
    {
     "name": "stdout",
     "output_type": "stream",
     "text": [
      "100:\tlearn: 0.7570467\ttest: 0.7536399\tbest: 0.7536399 (100)\ttotal: 26.6s\tremaining: 21m 28s\n"
     ]
    },
    {
     "name": "stdout",
     "output_type": "stream",
     "text": [
      "125:\tlearn: 0.7613314\ttest: 0.7580405\tbest: 0.7582158 (123)\ttotal: 33s\tremaining: 21m 17s\n"
     ]
    },
    {
     "name": "stdout",
     "output_type": "stream",
     "text": [
      "150:\tlearn: 0.7644805\ttest: 0.7603801\tbest: 0.7603801 (150)\ttotal: 39.5s\tremaining: 21m 9s\n"
     ]
    },
    {
     "name": "stdout",
     "output_type": "stream",
     "text": [
      "175:\tlearn: 0.7666226\ttest: 0.7627568\tbest: 0.7627568 (175)\ttotal: 46s\tremaining: 21m\n"
     ]
    },
    {
     "name": "stdout",
     "output_type": "stream",
     "text": [
      "200:\tlearn: 0.7688970\ttest: 0.7655146\tbest: 0.7655146 (200)\ttotal: 52.5s\tremaining: 20m 53s\n"
     ]
    },
    {
     "name": "stdout",
     "output_type": "stream",
     "text": [
      "225:\tlearn: 0.7706840\ttest: 0.7665076\tbest: 0.7669031 (222)\ttotal: 59s\tremaining: 20m 45s\n"
     ]
    },
    {
     "name": "stdout",
     "output_type": "stream",
     "text": [
      "250:\tlearn: 0.7727178\ttest: 0.7683039\tbest: 0.7683039 (250)\ttotal: 1m 5s\tremaining: 20m 38s\n"
     ]
    },
    {
     "name": "stdout",
     "output_type": "stream",
     "text": [
      "275:\tlearn: 0.7749287\ttest: 0.7706265\tbest: 0.7708604 (270)\ttotal: 1m 11s\tremaining: 20m 32s\n"
     ]
    },
    {
     "name": "stdout",
     "output_type": "stream",
     "text": [
      "300:\tlearn: 0.7780596\ttest: 0.7728858\tbest: 0.7733085 (298)\ttotal: 1m 18s\tremaining: 20m 24s\n"
     ]
    },
    {
     "name": "stdout",
     "output_type": "stream",
     "text": [
      "325:\tlearn: 0.7814196\ttest: 0.7753177\tbest: 0.7753177 (325)\ttotal: 1m 24s\tremaining: 20m 18s\n"
     ]
    },
    {
     "name": "stdout",
     "output_type": "stream",
     "text": [
      "350:\tlearn: 0.7845453\ttest: 0.7767857\tbest: 0.7767873 (346)\ttotal: 1m 31s\tremaining: 20m 12s\n"
     ]
    },
    {
     "name": "stdout",
     "output_type": "stream",
     "text": [
      "375:\tlearn: 0.7868140\ttest: 0.7790628\tbest: 0.7790628 (375)\ttotal: 1m 38s\tremaining: 20m 5s\n"
     ]
    },
    {
     "name": "stdout",
     "output_type": "stream",
     "text": [
      "400:\tlearn: 0.7889864\ttest: 0.7811636\tbest: 0.7812562 (399)\ttotal: 1m 44s\tremaining: 19m 59s\n"
     ]
    },
    {
     "name": "stdout",
     "output_type": "stream",
     "text": [
      "425:\tlearn: 0.7909098\ttest: 0.7819611\tbest: 0.7821403 (424)\ttotal: 1m 51s\tremaining: 19m 52s\n"
     ]
    },
    {
     "name": "stdout",
     "output_type": "stream",
     "text": [
      "450:\tlearn: 0.7924593\ttest: 0.7826360\tbest: 0.7826360 (450)\ttotal: 1m 57s\tremaining: 19m 45s\n"
     ]
    },
    {
     "name": "stdout",
     "output_type": "stream",
     "text": [
      "475:\tlearn: 0.7936203\ttest: 0.7831957\tbest: 0.7831957 (475)\ttotal: 2m 4s\tremaining: 19m 39s\n"
     ]
    },
    {
     "name": "stdout",
     "output_type": "stream",
     "text": [
      "500:\tlearn: 0.7948448\ttest: 0.7841471\tbest: 0.7841471 (500)\ttotal: 2m 10s\tremaining: 19m 32s\n"
     ]
    },
    {
     "name": "stdout",
     "output_type": "stream",
     "text": [
      "525:\tlearn: 0.7961197\ttest: 0.7851505\tbest: 0.7851505 (525)\ttotal: 2m 17s\tremaining: 19m 26s\n"
     ]
    },
    {
     "name": "stdout",
     "output_type": "stream",
     "text": [
      "550:\tlearn: 0.7974632\ttest: 0.7851820\tbest: 0.7852456 (547)\ttotal: 2m 23s\tremaining: 19m 20s\n"
     ]
    },
    {
     "name": "stdout",
     "output_type": "stream",
     "text": [
      "575:\tlearn: 0.7982726\ttest: 0.7855004\tbest: 0.7858178 (566)\ttotal: 2m 30s\tremaining: 19m 13s\n"
     ]
    },
    {
     "name": "stdout",
     "output_type": "stream",
     "text": [
      "600:\tlearn: 0.7996353\ttest: 0.7859786\tbest: 0.7861732 (596)\ttotal: 2m 36s\tremaining: 19m 6s\n"
     ]
    },
    {
     "name": "stdout",
     "output_type": "stream",
     "text": [
      "625:\tlearn: 0.8007086\ttest: 0.7861827\tbest: 0.7863587 (621)\ttotal: 2m 43s\tremaining: 18m 59s\n"
     ]
    },
    {
     "name": "stdout",
     "output_type": "stream",
     "text": [
      "650:\tlearn: 0.8014196\ttest: 0.7862047\tbest: 0.7863782 (630)\ttotal: 2m 49s\tremaining: 18m 53s\n"
     ]
    },
    {
     "name": "stdout",
     "output_type": "stream",
     "text": [
      "675:\tlearn: 0.8026651\ttest: 0.7862812\tbest: 0.7867136 (671)\ttotal: 2m 56s\tremaining: 18m 46s\n"
     ]
    },
    {
     "name": "stdout",
     "output_type": "stream",
     "text": [
      "700:\tlearn: 0.8036532\ttest: 0.7865925\tbest: 0.7867859 (695)\ttotal: 3m 2s\tremaining: 18m 39s\n"
     ]
    },
    {
     "name": "stdout",
     "output_type": "stream",
     "text": [
      "725:\tlearn: 0.8043836\ttest: 0.7871245\tbest: 0.7871351 (722)\ttotal: 3m 9s\tremaining: 18m 32s\n"
     ]
    },
    {
     "name": "stdout",
     "output_type": "stream",
     "text": [
      "750:\tlearn: 0.8052366\ttest: 0.7867644\tbest: 0.7871351 (722)\ttotal: 3m 15s\tremaining: 18m 26s\n"
     ]
    },
    {
     "name": "stdout",
     "output_type": "stream",
     "text": [
      "775:\tlearn: 0.8062899\ttest: 0.7871534\tbest: 0.7873348 (772)\ttotal: 3m 22s\tremaining: 18m 19s\n"
     ]
    },
    {
     "name": "stdout",
     "output_type": "stream",
     "text": [
      "800:\tlearn: 0.8071563\ttest: 0.7872423\tbest: 0.7878052 (798)\ttotal: 3m 28s\tremaining: 18m 13s\n"
     ]
    },
    {
     "name": "stdout",
     "output_type": "stream",
     "text": [
      "825:\tlearn: 0.8079660\ttest: 0.7876626\tbest: 0.7878052 (798)\ttotal: 3m 35s\tremaining: 18m 6s\n"
     ]
    },
    {
     "name": "stdout",
     "output_type": "stream",
     "text": [
      "850:\tlearn: 0.8087397\ttest: 0.7878374\tbest: 0.7879902 (844)\ttotal: 3m 41s\tremaining: 17m 59s\n"
     ]
    },
    {
     "name": "stdout",
     "output_type": "stream",
     "text": [
      "875:\tlearn: 0.8095897\ttest: 0.7883663\tbest: 0.7883663 (875)\ttotal: 3m 47s\tremaining: 17m 53s\n"
     ]
    },
    {
     "name": "stdout",
     "output_type": "stream",
     "text": [
      "900:\tlearn: 0.8103622\ttest: 0.7883291\tbest: 0.7884272 (892)\ttotal: 3m 54s\tremaining: 17m 46s\n"
     ]
    },
    {
     "name": "stdout",
     "output_type": "stream",
     "text": [
      "925:\tlearn: 0.8112279\ttest: 0.7884022\tbest: 0.7886306 (906)\ttotal: 4m\tremaining: 17m 40s\n"
     ]
    },
    {
     "name": "stdout",
     "output_type": "stream",
     "text": [
      "950:\tlearn: 0.8120456\ttest: 0.7884940\tbest: 0.7886518 (935)\ttotal: 4m 7s\tremaining: 17m 33s\n"
     ]
    },
    {
     "name": "stdout",
     "output_type": "stream",
     "text": [
      "975:\tlearn: 0.8128169\ttest: 0.7890181\tbest: 0.7890181 (975)\ttotal: 4m 13s\tremaining: 17m 26s\n"
     ]
    },
    {
     "name": "stdout",
     "output_type": "stream",
     "text": [
      "1000:\tlearn: 0.8134348\ttest: 0.7886919\tbest: 0.7890181 (975)\ttotal: 4m 20s\tremaining: 17m 20s\n"
     ]
    },
    {
     "name": "stdout",
     "output_type": "stream",
     "text": [
      "1025:\tlearn: 0.8141228\ttest: 0.7889788\tbest: 0.7890205 (1024)\ttotal: 4m 26s\tremaining: 17m 13s\n"
     ]
    },
    {
     "name": "stdout",
     "output_type": "stream",
     "text": [
      "1050:\tlearn: 0.8146418\ttest: 0.7889605\tbest: 0.7891470 (1047)\ttotal: 4m 33s\tremaining: 17m 6s\n"
     ]
    },
    {
     "name": "stdout",
     "output_type": "stream",
     "text": [
      "1075:\tlearn: 0.8153039\ttest: 0.7897683\tbest: 0.7898615 (1068)\ttotal: 4m 39s\tremaining: 17m\n"
     ]
    },
    {
     "name": "stdout",
     "output_type": "stream",
     "text": [
      "1100:\tlearn: 0.8160731\ttest: 0.7897494\tbest: 0.7899284 (1083)\ttotal: 4m 46s\tremaining: 16m 53s\n"
     ]
    },
    {
     "name": "stdout",
     "output_type": "stream",
     "text": [
      "1125:\tlearn: 0.8166988\ttest: 0.7897307\tbest: 0.7899284 (1083)\ttotal: 4m 52s\tremaining: 16m 46s\n"
     ]
    },
    {
     "name": "stdout",
     "output_type": "stream",
     "text": [
      "1150:\tlearn: 0.8173276\ttest: 0.7901719\tbest: 0.7902756 (1148)\ttotal: 4m 59s\tremaining: 16m 40s\n"
     ]
    },
    {
     "name": "stdout",
     "output_type": "stream",
     "text": [
      "1175:\tlearn: 0.8183097\ttest: 0.7899620\tbest: 0.7904933 (1155)\ttotal: 5m 5s\tremaining: 16m 33s\n"
     ]
    },
    {
     "name": "stdout",
     "output_type": "stream",
     "text": [
      "1200:\tlearn: 0.8189299\ttest: 0.7905096\tbest: 0.7905096 (1200)\ttotal: 5m 12s\tremaining: 16m 27s\n"
     ]
    },
    {
     "name": "stdout",
     "output_type": "stream",
     "text": [
      "1225:\tlearn: 0.8192726\ttest: 0.7906578\tbest: 0.7906578 (1225)\ttotal: 5m 18s\tremaining: 16m 20s\n"
     ]
    },
    {
     "name": "stdout",
     "output_type": "stream",
     "text": [
      "1250:\tlearn: 0.8198385\ttest: 0.7907041\tbest: 0.7908841 (1242)\ttotal: 5m 25s\tremaining: 16m 14s\n"
     ]
    },
    {
     "name": "stdout",
     "output_type": "stream",
     "text": [
      "1275:\tlearn: 0.8205115\ttest: 0.7910221\tbest: 0.7910584 (1273)\ttotal: 5m 31s\tremaining: 16m 7s\n"
     ]
    },
    {
     "name": "stdout",
     "output_type": "stream",
     "text": [
      "1300:\tlearn: 0.8211418\ttest: 0.7906926\tbest: 0.7913409 (1284)\ttotal: 5m 38s\tremaining: 16m 1s\n"
     ]
    },
    {
     "name": "stdout",
     "output_type": "stream",
     "text": [
      "1325:\tlearn: 0.8221588\ttest: 0.7907070\tbest: 0.7913409 (1284)\ttotal: 5m 44s\tremaining: 15m 54s\n"
     ]
    },
    {
     "name": "stdout",
     "output_type": "stream",
     "text": [
      "1350:\tlearn: 0.8227874\ttest: 0.7910927\tbest: 0.7914056 (1345)\ttotal: 5m 51s\tremaining: 15m 48s\n"
     ]
    },
    {
     "name": "stdout",
     "output_type": "stream",
     "text": [
      "1375:\tlearn: 0.8232250\ttest: 0.7909799\tbest: 0.7914056 (1345)\ttotal: 5m 57s\tremaining: 15m 41s\n"
     ]
    },
    {
     "name": "stdout",
     "output_type": "stream",
     "text": [
      "1400:\tlearn: 0.8240034\ttest: 0.7905470\tbest: 0.7914056 (1345)\ttotal: 6m 4s\tremaining: 15m 35s\n"
     ]
    },
    {
     "name": "stdout",
     "output_type": "stream",
     "text": [
      "1425:\tlearn: 0.8247967\ttest: 0.7907740\tbest: 0.7914056 (1345)\ttotal: 6m 10s\tremaining: 15m 28s\n"
     ]
    },
    {
     "name": "stdout",
     "output_type": "stream",
     "text": [
      "1450:\tlearn: 0.8254516\ttest: 0.7906589\tbest: 0.7914056 (1345)\ttotal: 6m 17s\tremaining: 15m 22s\n"
     ]
    },
    {
     "name": "stdout",
     "output_type": "stream",
     "text": [
      "1475:\tlearn: 0.8257842\ttest: 0.7903317\tbest: 0.7914056 (1345)\ttotal: 6m 23s\tremaining: 15m 15s\n"
     ]
    },
    {
     "name": "stdout",
     "output_type": "stream",
     "text": [
      "1500:\tlearn: 0.8261487\ttest: 0.7905937\tbest: 0.7914056 (1345)\ttotal: 6m 30s\tremaining: 15m 9s\n"
     ]
    },
    {
     "name": "stdout",
     "output_type": "stream",
     "text": [
      "1525:\tlearn: 0.8270708\ttest: 0.7904168\tbest: 0.7914056 (1345)\ttotal: 6m 36s\tremaining: 15m 2s\n"
     ]
    },
    {
     "name": "stdout",
     "output_type": "stream",
     "text": [
      "1550:\tlearn: 0.8274002\ttest: 0.7900289\tbest: 0.7914056 (1345)\ttotal: 6m 42s\tremaining: 14m 56s\n"
     ]
    },
    {
     "name": "stdout",
     "output_type": "stream",
     "text": [
      "1575:\tlearn: 0.8279971\ttest: 0.7904246\tbest: 0.7914056 (1345)\ttotal: 6m 49s\tremaining: 14m 49s\n"
     ]
    },
    {
     "name": "stdout",
     "output_type": "stream",
     "text": [
      "1600:\tlearn: 0.8287366\ttest: 0.7909680\tbest: 0.7914056 (1345)\ttotal: 6m 56s\tremaining: 14m 43s\n"
     ]
    },
    {
     "name": "stdout",
     "output_type": "stream",
     "text": [
      "1625:\tlearn: 0.8292917\ttest: 0.7907258\tbest: 0.7914056 (1345)\ttotal: 7m 2s\tremaining: 14m 36s\n"
     ]
    },
    {
     "name": "stdout",
     "output_type": "stream",
     "text": [
      "1650:\tlearn: 0.8299186\ttest: 0.7906536\tbest: 0.7914056 (1345)\ttotal: 7m 9s\tremaining: 14m 30s\n"
     ]
    },
    {
     "name": "stdout",
     "output_type": "stream",
     "text": [
      "1675:\tlearn: 0.8304253\ttest: 0.7906477\tbest: 0.7914056 (1345)\ttotal: 7m 15s\tremaining: 14m 23s\n"
     ]
    },
    {
     "name": "stdout",
     "output_type": "stream",
     "text": [
      "1700:\tlearn: 0.8311918\ttest: 0.7908043\tbest: 0.7914056 (1345)\ttotal: 7m 22s\tremaining: 14m 17s\n"
     ]
    },
    {
     "name": "stdout",
     "output_type": "stream",
     "text": [
      "1725:\tlearn: 0.8319012\ttest: 0.7909635\tbest: 0.7914056 (1345)\ttotal: 7m 28s\tremaining: 14m 10s\n"
     ]
    },
    {
     "name": "stdout",
     "output_type": "stream",
     "text": [
      "1750:\tlearn: 0.8323768\ttest: 0.7909521\tbest: 0.7914056 (1345)\ttotal: 7m 34s\tremaining: 14m 3s\n"
     ]
    },
    {
     "name": "stdout",
     "output_type": "stream",
     "text": [
      "1775:\tlearn: 0.8329274\ttest: 0.7908933\tbest: 0.7914056 (1345)\ttotal: 7m 41s\tremaining: 13m 57s\n"
     ]
    },
    {
     "name": "stdout",
     "output_type": "stream",
     "text": [
      "1800:\tlearn: 0.8333809\ttest: 0.7907997\tbest: 0.7914056 (1345)\ttotal: 7m 47s\tremaining: 13m 50s\n"
     ]
    },
    {
     "name": "stdout",
     "output_type": "stream",
     "text": [
      "1825:\tlearn: 0.8340494\ttest: 0.7915330\tbest: 0.7915330 (1825)\ttotal: 7m 54s\tremaining: 13m 44s\n"
     ]
    },
    {
     "name": "stdout",
     "output_type": "stream",
     "text": [
      "1850:\tlearn: 0.8347924\ttest: 0.7915050\tbest: 0.7918367 (1841)\ttotal: 8m\tremaining: 13m 37s\n"
     ]
    },
    {
     "name": "stdout",
     "output_type": "stream",
     "text": [
      "1875:\tlearn: 0.8354945\ttest: 0.7913947\tbest: 0.7918367 (1841)\ttotal: 8m 7s\tremaining: 13m 31s\n"
     ]
    },
    {
     "name": "stdout",
     "output_type": "stream",
     "text": [
      "1900:\tlearn: 0.8358987\ttest: 0.7918607\tbest: 0.7919442 (1899)\ttotal: 8m 13s\tremaining: 13m 24s\n"
     ]
    },
    {
     "name": "stdout",
     "output_type": "stream",
     "text": [
      "1925:\tlearn: 0.8363401\ttest: 0.7919751\tbest: 0.7919955 (1922)\ttotal: 8m 20s\tremaining: 13m 18s\n"
     ]
    },
    {
     "name": "stdout",
     "output_type": "stream",
     "text": [
      "1950:\tlearn: 0.8367988\ttest: 0.7920300\tbest: 0.7920915 (1949)\ttotal: 8m 26s\tremaining: 13m 11s\n"
     ]
    },
    {
     "name": "stdout",
     "output_type": "stream",
     "text": [
      "1975:\tlearn: 0.8371381\ttest: 0.7919072\tbest: 0.7923044 (1971)\ttotal: 8m 33s\tremaining: 13m 5s\n"
     ]
    },
    {
     "name": "stdout",
     "output_type": "stream",
     "text": [
      "2000:\tlearn: 0.8378002\ttest: 0.7920964\tbest: 0.7923045 (1988)\ttotal: 8m 39s\tremaining: 12m 58s\n"
     ]
    },
    {
     "name": "stdout",
     "output_type": "stream",
     "text": [
      "2025:\tlearn: 0.8381977\ttest: 0.7917818\tbest: 0.7923045 (1988)\ttotal: 8m 46s\tremaining: 12m 52s\n"
     ]
    },
    {
     "name": "stdout",
     "output_type": "stream",
     "text": [
      "2050:\tlearn: 0.8387626\ttest: 0.7917990\tbest: 0.7923045 (1988)\ttotal: 8m 52s\tremaining: 12m 45s\n"
     ]
    },
    {
     "name": "stdout",
     "output_type": "stream",
     "text": [
      "2075:\tlearn: 0.8394992\ttest: 0.7918367\tbest: 0.7923045 (1988)\ttotal: 8m 59s\tremaining: 12m 39s\n"
     ]
    },
    {
     "name": "stdout",
     "output_type": "stream",
     "text": [
      "2100:\tlearn: 0.8399097\ttest: 0.7920706\tbest: 0.7923045 (1988)\ttotal: 9m 5s\tremaining: 12m 32s\n"
     ]
    },
    {
     "name": "stdout",
     "output_type": "stream",
     "text": [
      "2125:\tlearn: 0.8404400\ttest: 0.7921780\tbest: 0.7923045 (1988)\ttotal: 9m 11s\tremaining: 12m 26s\n"
     ]
    },
    {
     "name": "stdout",
     "output_type": "stream",
     "text": [
      "2150:\tlearn: 0.8408808\ttest: 0.7920002\tbest: 0.7923045 (1988)\ttotal: 9m 18s\tremaining: 12m 19s\n"
     ]
    },
    {
     "name": "stdout",
     "output_type": "stream",
     "text": [
      "2175:\tlearn: 0.8411542\ttest: 0.7917245\tbest: 0.7923045 (1988)\ttotal: 9m 24s\tremaining: 12m 13s\n"
     ]
    },
    {
     "name": "stdout",
     "output_type": "stream",
     "text": [
      "2200:\tlearn: 0.8416120\ttest: 0.7917727\tbest: 0.7923045 (1988)\ttotal: 9m 31s\tremaining: 12m 6s\n"
     ]
    },
    {
     "name": "stdout",
     "output_type": "stream",
     "text": [
      "2225:\tlearn: 0.8420266\ttest: 0.7917742\tbest: 0.7923045 (1988)\ttotal: 9m 37s\tremaining: 12m\n"
     ]
    },
    {
     "name": "stdout",
     "output_type": "stream",
     "text": [
      "2250:\tlearn: 0.8425869\ttest: 0.7915457\tbest: 0.7923045 (1988)\ttotal: 9m 44s\tremaining: 11m 53s\n"
     ]
    },
    {
     "name": "stdout",
     "output_type": "stream",
     "text": [
      "2275:\tlearn: 0.8431043\ttest: 0.7917849\tbest: 0.7923045 (1988)\ttotal: 9m 50s\tremaining: 11m 47s\n"
     ]
    },
    {
     "name": "stdout",
     "output_type": "stream",
     "text": [
      "2300:\tlearn: 0.8436820\ttest: 0.7916699\tbest: 0.7923045 (1988)\ttotal: 9m 57s\tremaining: 11m 40s\n"
     ]
    },
    {
     "name": "stdout",
     "output_type": "stream",
     "text": [
      "2325:\tlearn: 0.8441584\ttest: 0.7919448\tbest: 0.7923045 (1988)\ttotal: 10m 3s\tremaining: 11m 34s\n"
     ]
    },
    {
     "name": "stdout",
     "output_type": "stream",
     "text": [
      "2350:\tlearn: 0.8447907\ttest: 0.7917544\tbest: 0.7923045 (1988)\ttotal: 10m 10s\tremaining: 11m 27s\n"
     ]
    },
    {
     "name": "stdout",
     "output_type": "stream",
     "text": [
      "2375:\tlearn: 0.8453279\ttest: 0.7916838\tbest: 0.7923045 (1988)\ttotal: 10m 16s\tremaining: 11m 21s\n"
     ]
    },
    {
     "name": "stdout",
     "output_type": "stream",
     "text": [
      "2400:\tlearn: 0.8457598\ttest: 0.7920459\tbest: 0.7923045 (1988)\ttotal: 10m 23s\tremaining: 11m 14s\n"
     ]
    },
    {
     "name": "stdout",
     "output_type": "stream",
     "text": [
      "2425:\tlearn: 0.8460235\ttest: 0.7921384\tbest: 0.7923891 (2413)\ttotal: 10m 29s\tremaining: 11m 8s\n"
     ]
    },
    {
     "name": "stdout",
     "output_type": "stream",
     "text": [
      "2450:\tlearn: 0.8465430\ttest: 0.7922899\tbest: 0.7923891 (2413)\ttotal: 10m 36s\tremaining: 11m 1s\n"
     ]
    },
    {
     "name": "stdout",
     "output_type": "stream",
     "text": [
      "2475:\tlearn: 0.8468809\ttest: 0.7925705\tbest: 0.7925705 (2475)\ttotal: 10m 42s\tremaining: 10m 55s\n"
     ]
    },
    {
     "name": "stdout",
     "output_type": "stream",
     "text": [
      "2500:\tlearn: 0.8473812\ttest: 0.7924491\tbest: 0.7926554 (2493)\ttotal: 10m 49s\tremaining: 10m 48s\n"
     ]
    },
    {
     "name": "stdout",
     "output_type": "stream",
     "text": [
      "2525:\tlearn: 0.8480276\ttest: 0.7923501\tbest: 0.7926554 (2493)\ttotal: 10m 55s\tremaining: 10m 42s\n"
     ]
    },
    {
     "name": "stdout",
     "output_type": "stream",
     "text": [
      "2550:\tlearn: 0.8485979\ttest: 0.7921029\tbest: 0.7926554 (2493)\ttotal: 11m 2s\tremaining: 10m 35s\n"
     ]
    },
    {
     "name": "stdout",
     "output_type": "stream",
     "text": [
      "2575:\tlearn: 0.8489672\ttest: 0.7919942\tbest: 0.7926554 (2493)\ttotal: 11m 8s\tremaining: 10m 29s\n"
     ]
    },
    {
     "name": "stdout",
     "output_type": "stream",
     "text": [
      "2600:\tlearn: 0.8496210\ttest: 0.7919304\tbest: 0.7926554 (2493)\ttotal: 11m 15s\tremaining: 10m 22s\n"
     ]
    },
    {
     "name": "stdout",
     "output_type": "stream",
     "text": [
      "2625:\tlearn: 0.8500601\ttest: 0.7919574\tbest: 0.7926554 (2493)\ttotal: 11m 21s\tremaining: 10m 16s\n"
     ]
    },
    {
     "name": "stdout",
     "output_type": "stream",
     "text": [
      "2650:\tlearn: 0.8506911\ttest: 0.7922602\tbest: 0.7926554 (2493)\ttotal: 11m 28s\tremaining: 10m 9s\n"
     ]
    },
    {
     "name": "stdout",
     "output_type": "stream",
     "text": [
      "2675:\tlearn: 0.8511792\ttest: 0.7922876\tbest: 0.7926554 (2493)\ttotal: 11m 34s\tremaining: 10m 3s\n"
     ]
    },
    {
     "name": "stdout",
     "output_type": "stream",
     "text": [
      "2700:\tlearn: 0.8517542\ttest: 0.7920427\tbest: 0.7926554 (2493)\ttotal: 11m 41s\tremaining: 9m 56s\n"
     ]
    },
    {
     "name": "stdout",
     "output_type": "stream",
     "text": [
      "2725:\tlearn: 0.8522843\ttest: 0.7919615\tbest: 0.7926554 (2493)\ttotal: 11m 47s\tremaining: 9m 50s\n"
     ]
    },
    {
     "name": "stdout",
     "output_type": "stream",
     "text": [
      "2750:\tlearn: 0.8526956\ttest: 0.7920248\tbest: 0.7926554 (2493)\ttotal: 11m 54s\tremaining: 9m 43s\n"
     ]
    },
    {
     "name": "stdout",
     "output_type": "stream",
     "text": [
      "2775:\tlearn: 0.8532080\ttest: 0.7919252\tbest: 0.7926554 (2493)\ttotal: 12m\tremaining: 9m 37s\n"
     ]
    },
    {
     "name": "stdout",
     "output_type": "stream",
     "text": [
      "2800:\tlearn: 0.8535775\ttest: 0.7917825\tbest: 0.7926554 (2493)\ttotal: 12m 7s\tremaining: 9m 30s\n"
     ]
    },
    {
     "name": "stdout",
     "output_type": "stream",
     "text": [
      "2825:\tlearn: 0.8542611\ttest: 0.7921864\tbest: 0.7926554 (2493)\ttotal: 12m 13s\tremaining: 9m 24s\n"
     ]
    },
    {
     "name": "stdout",
     "output_type": "stream",
     "text": [
      "2850:\tlearn: 0.8545473\ttest: 0.7924451\tbest: 0.7926554 (2493)\ttotal: 12m 20s\tremaining: 9m 17s\n"
     ]
    },
    {
     "name": "stdout",
     "output_type": "stream",
     "text": [
      "2875:\tlearn: 0.8551508\ttest: 0.7923175\tbest: 0.7926554 (2493)\ttotal: 12m 26s\tremaining: 9m 11s\n"
     ]
    },
    {
     "name": "stdout",
     "output_type": "stream",
     "text": [
      "2900:\tlearn: 0.8556938\ttest: 0.7919240\tbest: 0.7926554 (2493)\ttotal: 12m 33s\tremaining: 9m 4s\n"
     ]
    },
    {
     "name": "stdout",
     "output_type": "stream",
     "text": [
      "2925:\tlearn: 0.8558586\ttest: 0.7921121\tbest: 0.7926554 (2493)\ttotal: 12m 39s\tremaining: 8m 58s\n"
     ]
    },
    {
     "name": "stdout",
     "output_type": "stream",
     "text": [
      "2950:\tlearn: 0.8565105\ttest: 0.7922667\tbest: 0.7926554 (2493)\ttotal: 12m 46s\tremaining: 8m 51s\n"
     ]
    },
    {
     "name": "stdout",
     "output_type": "stream",
     "text": [
      "2975:\tlearn: 0.8571357\ttest: 0.7921217\tbest: 0.7926554 (2493)\ttotal: 12m 52s\tremaining: 8m 45s\n"
     ]
    },
    {
     "name": "stdout",
     "output_type": "stream",
     "text": [
      "3000:\tlearn: 0.8575187\ttest: 0.7926055\tbest: 0.7926554 (2493)\ttotal: 12m 58s\tremaining: 8m 38s\n"
     ]
    },
    {
     "name": "stdout",
     "output_type": "stream",
     "text": [
      "3025:\tlearn: 0.8581999\ttest: 0.7921062\tbest: 0.7926554 (2493)\ttotal: 13m 5s\tremaining: 8m 32s\n"
     ]
    },
    {
     "name": "stdout",
     "output_type": "stream",
     "text": [
      "3050:\tlearn: 0.8585837\ttest: 0.7920471\tbest: 0.7926554 (2493)\ttotal: 13m 11s\tremaining: 8m 25s\n"
     ]
    },
    {
     "name": "stdout",
     "output_type": "stream",
     "text": [
      "3075:\tlearn: 0.8590384\ttest: 0.7918195\tbest: 0.7926554 (2493)\ttotal: 13m 18s\tremaining: 8m 19s\n"
     ]
    },
    {
     "name": "stdout",
     "output_type": "stream",
     "text": [
      "3100:\tlearn: 0.8594574\ttest: 0.7919329\tbest: 0.7926554 (2493)\ttotal: 13m 24s\tremaining: 8m 12s\n"
     ]
    },
    {
     "name": "stdout",
     "output_type": "stream",
     "text": [
      "3125:\tlearn: 0.8597743\ttest: 0.7920656\tbest: 0.7926554 (2493)\ttotal: 13m 31s\tremaining: 8m 6s\n"
     ]
    },
    {
     "name": "stdout",
     "output_type": "stream",
     "text": [
      "3150:\tlearn: 0.8602650\ttest: 0.7916498\tbest: 0.7926554 (2493)\ttotal: 13m 37s\tremaining: 7m 59s\n"
     ]
    },
    {
     "name": "stdout",
     "output_type": "stream",
     "text": [
      "3175:\tlearn: 0.8608501\ttest: 0.7915123\tbest: 0.7926554 (2493)\ttotal: 13m 44s\tremaining: 7m 53s\n"
     ]
    },
    {
     "name": "stdout",
     "output_type": "stream",
     "text": [
      "3200:\tlearn: 0.8611716\ttest: 0.7917646\tbest: 0.7926554 (2493)\ttotal: 13m 50s\tremaining: 7m 46s\n"
     ]
    },
    {
     "name": "stdout",
     "output_type": "stream",
     "text": [
      "3225:\tlearn: 0.8616587\ttest: 0.7918038\tbest: 0.7926554 (2493)\ttotal: 13m 57s\tremaining: 7m 40s\n"
     ]
    },
    {
     "name": "stdout",
     "output_type": "stream",
     "text": [
      "3250:\tlearn: 0.8621200\ttest: 0.7919557\tbest: 0.7926554 (2493)\ttotal: 14m 3s\tremaining: 7m 33s\n"
     ]
    },
    {
     "name": "stdout",
     "output_type": "stream",
     "text": [
      "3275:\tlearn: 0.8627092\ttest: 0.7919624\tbest: 0.7926554 (2493)\ttotal: 14m 10s\tremaining: 7m 27s\n"
     ]
    },
    {
     "name": "stdout",
     "output_type": "stream",
     "text": [
      "3300:\tlearn: 0.8630610\ttest: 0.7917112\tbest: 0.7926554 (2493)\ttotal: 14m 16s\tremaining: 7m 20s\n"
     ]
    },
    {
     "name": "stdout",
     "output_type": "stream",
     "text": [
      "3325:\tlearn: 0.8635657\ttest: 0.7919644\tbest: 0.7926554 (2493)\ttotal: 14m 23s\tremaining: 7m 14s\n"
     ]
    },
    {
     "name": "stdout",
     "output_type": "stream",
     "text": [
      "3350:\tlearn: 0.8640089\ttest: 0.7922606\tbest: 0.7926554 (2493)\ttotal: 14m 29s\tremaining: 7m 7s\n"
     ]
    },
    {
     "name": "stdout",
     "output_type": "stream",
     "text": [
      "3375:\tlearn: 0.8644389\ttest: 0.7922219\tbest: 0.7926554 (2493)\ttotal: 14m 36s\tremaining: 7m 1s\n"
     ]
    },
    {
     "name": "stdout",
     "output_type": "stream",
     "text": [
      "3400:\tlearn: 0.8648314\ttest: 0.7919102\tbest: 0.7926554 (2493)\ttotal: 14m 42s\tremaining: 6m 54s\n"
     ]
    },
    {
     "name": "stdout",
     "output_type": "stream",
     "text": [
      "3425:\tlearn: 0.8654025\ttest: 0.7919720\tbest: 0.7926554 (2493)\ttotal: 14m 49s\tremaining: 6m 48s\n"
     ]
    },
    {
     "name": "stdout",
     "output_type": "stream",
     "text": [
      "3450:\tlearn: 0.8656349\ttest: 0.7922514\tbest: 0.7926554 (2493)\ttotal: 14m 55s\tremaining: 6m 41s\n"
     ]
    },
    {
     "name": "stdout",
     "output_type": "stream",
     "text": [
      "3475:\tlearn: 0.8659148\ttest: 0.7920896\tbest: 0.7926554 (2493)\ttotal: 15m 2s\tremaining: 6m 35s\n"
     ]
    },
    {
     "name": "stdout",
     "output_type": "stream",
     "text": [
      "3500:\tlearn: 0.8664661\ttest: 0.7922239\tbest: 0.7926554 (2493)\ttotal: 15m 8s\tremaining: 6m 28s\n"
     ]
    },
    {
     "name": "stdout",
     "output_type": "stream",
     "text": [
      "3525:\tlearn: 0.8669750\ttest: 0.7923196\tbest: 0.7926554 (2493)\ttotal: 15m 15s\tremaining: 6m 22s\n"
     ]
    },
    {
     "name": "stdout",
     "output_type": "stream",
     "text": [
      "3550:\tlearn: 0.8674954\ttest: 0.7923179\tbest: 0.7926554 (2493)\ttotal: 15m 21s\tremaining: 6m 16s\n"
     ]
    },
    {
     "name": "stdout",
     "output_type": "stream",
     "text": [
      "3575:\tlearn: 0.8679502\ttest: 0.7926515\tbest: 0.7927984 (3569)\ttotal: 15m 28s\tremaining: 6m 9s\n"
     ]
    },
    {
     "name": "stdout",
     "output_type": "stream",
     "text": [
      "3600:\tlearn: 0.8683131\ttest: 0.7926183\tbest: 0.7928832 (3578)\ttotal: 15m 34s\tremaining: 6m 3s\n"
     ]
    },
    {
     "name": "stdout",
     "output_type": "stream",
     "text": [
      "3625:\tlearn: 0.8688040\ttest: 0.7926921\tbest: 0.7928832 (3578)\ttotal: 15m 41s\tremaining: 5m 56s\n"
     ]
    },
    {
     "name": "stdout",
     "output_type": "stream",
     "text": [
      "3650:\tlearn: 0.8691879\ttest: 0.7927373\tbest: 0.7928832 (3578)\ttotal: 15m 47s\tremaining: 5m 50s\n"
     ]
    },
    {
     "name": "stdout",
     "output_type": "stream",
     "text": [
      "3675:\tlearn: 0.8694756\ttest: 0.7926606\tbest: 0.7928832 (3578)\ttotal: 15m 53s\tremaining: 5m 43s\n"
     ]
    },
    {
     "name": "stdout",
     "output_type": "stream",
     "text": [
      "3700:\tlearn: 0.8697388\ttest: 0.7921845\tbest: 0.7928832 (3578)\ttotal: 16m\tremaining: 5m 37s\n"
     ]
    },
    {
     "name": "stdout",
     "output_type": "stream",
     "text": [
      "3725:\tlearn: 0.8704009\ttest: 0.7924653\tbest: 0.7928832 (3578)\ttotal: 16m 6s\tremaining: 5m 30s\n"
     ]
    },
    {
     "name": "stdout",
     "output_type": "stream",
     "text": [
      "3750:\tlearn: 0.8708531\ttest: 0.7921922\tbest: 0.7928832 (3578)\ttotal: 16m 13s\tremaining: 5m 24s\n"
     ]
    },
    {
     "name": "stdout",
     "output_type": "stream",
     "text": [
      "3775:\tlearn: 0.8713205\ttest: 0.7920007\tbest: 0.7928832 (3578)\ttotal: 16m 19s\tremaining: 5m 17s\n"
     ]
    },
    {
     "name": "stdout",
     "output_type": "stream",
     "text": [
      "3800:\tlearn: 0.8719360\ttest: 0.7920662\tbest: 0.7928832 (3578)\ttotal: 16m 26s\tremaining: 5m 11s\n"
     ]
    },
    {
     "name": "stdout",
     "output_type": "stream",
     "text": [
      "3825:\tlearn: 0.8722181\ttest: 0.7919880\tbest: 0.7928832 (3578)\ttotal: 16m 32s\tremaining: 5m 4s\n"
     ]
    },
    {
     "name": "stdout",
     "output_type": "stream",
     "text": [
      "3850:\tlearn: 0.8725661\ttest: 0.7919502\tbest: 0.7928832 (3578)\ttotal: 16m 39s\tremaining: 4m 58s\n"
     ]
    },
    {
     "name": "stdout",
     "output_type": "stream",
     "text": [
      "3875:\tlearn: 0.8729513\ttest: 0.7916533\tbest: 0.7928832 (3578)\ttotal: 16m 45s\tremaining: 4m 51s\n"
     ]
    },
    {
     "name": "stdout",
     "output_type": "stream",
     "text": [
      "3900:\tlearn: 0.8733458\ttest: 0.7919495\tbest: 0.7928832 (3578)\ttotal: 16m 52s\tremaining: 4m 45s\n"
     ]
    },
    {
     "name": "stdout",
     "output_type": "stream",
     "text": [
      "3925:\tlearn: 0.8735930\ttest: 0.7920323\tbest: 0.7928832 (3578)\ttotal: 16m 58s\tremaining: 4m 38s\n"
     ]
    },
    {
     "name": "stdout",
     "output_type": "stream",
     "text": [
      "3950:\tlearn: 0.8742539\ttest: 0.7916548\tbest: 0.7928832 (3578)\ttotal: 17m 5s\tremaining: 4m 32s\n"
     ]
    },
    {
     "name": "stdout",
     "output_type": "stream",
     "text": [
      "3975:\tlearn: 0.8746075\ttest: 0.7922519\tbest: 0.7928832 (3578)\ttotal: 17m 11s\tremaining: 4m 25s\n"
     ]
    },
    {
     "name": "stdout",
     "output_type": "stream",
     "text": [
      "4000:\tlearn: 0.8753062\ttest: 0.7920905\tbest: 0.7928832 (3578)\ttotal: 17m 18s\tremaining: 4m 19s\n"
     ]
    },
    {
     "name": "stdout",
     "output_type": "stream",
     "text": [
      "4025:\tlearn: 0.8757833\ttest: 0.7921989\tbest: 0.7928832 (3578)\ttotal: 17m 24s\tremaining: 4m 12s\n"
     ]
    },
    {
     "name": "stdout",
     "output_type": "stream",
     "text": [
      "4050:\tlearn: 0.8759040\ttest: 0.7921144\tbest: 0.7928832 (3578)\ttotal: 17m 31s\tremaining: 4m 6s\n"
     ]
    },
    {
     "name": "stdout",
     "output_type": "stream",
     "text": [
      "4075:\tlearn: 0.8764350\ttest: 0.7920770\tbest: 0.7928832 (3578)\ttotal: 17m 37s\tremaining: 3m 59s\n"
     ]
    },
    {
     "name": "stdout",
     "output_type": "stream",
     "text": [
      "4100:\tlearn: 0.8767928\ttest: 0.7925026\tbest: 0.7928832 (3578)\ttotal: 17m 44s\tremaining: 3m 53s\n"
     ]
    },
    {
     "name": "stdout",
     "output_type": "stream",
     "text": [
      "4125:\tlearn: 0.8772061\ttest: 0.7922706\tbest: 0.7928832 (3578)\ttotal: 17m 50s\tremaining: 3m 46s\n"
     ]
    },
    {
     "name": "stdout",
     "output_type": "stream",
     "text": [
      "4150:\tlearn: 0.8777096\ttest: 0.7919777\tbest: 0.7928832 (3578)\ttotal: 17m 57s\tremaining: 3m 40s\n"
     ]
    },
    {
     "name": "stdout",
     "output_type": "stream",
     "text": [
      "4175:\tlearn: 0.8781750\ttest: 0.7918127\tbest: 0.7928832 (3578)\ttotal: 18m 3s\tremaining: 3m 33s\n"
     ]
    },
    {
     "name": "stdout",
     "output_type": "stream",
     "text": [
      "4200:\tlearn: 0.8785307\ttest: 0.7923184\tbest: 0.7928832 (3578)\ttotal: 18m 10s\tremaining: 3m 27s\n"
     ]
    },
    {
     "name": "stdout",
     "output_type": "stream",
     "text": [
      "4225:\tlearn: 0.8790754\ttest: 0.7918805\tbest: 0.7928832 (3578)\ttotal: 18m 16s\tremaining: 3m 20s\n"
     ]
    },
    {
     "name": "stdout",
     "output_type": "stream",
     "text": [
      "4250:\tlearn: 0.8793305\ttest: 0.7922628\tbest: 0.7928832 (3578)\ttotal: 18m 23s\tremaining: 3m 14s\n"
     ]
    },
    {
     "name": "stdout",
     "output_type": "stream",
     "text": [
      "4275:\tlearn: 0.8796775\ttest: 0.7922429\tbest: 0.7928832 (3578)\ttotal: 18m 29s\tremaining: 3m 7s\n"
     ]
    },
    {
     "name": "stdout",
     "output_type": "stream",
     "text": [
      "4300:\tlearn: 0.8800238\ttest: 0.7923225\tbest: 0.7928832 (3578)\ttotal: 18m 36s\tremaining: 3m 1s\n"
     ]
    },
    {
     "name": "stdout",
     "output_type": "stream",
     "text": [
      "4325:\tlearn: 0.8805739\ttest: 0.7923824\tbest: 0.7928832 (3578)\ttotal: 18m 42s\tremaining: 2m 54s\n"
     ]
    },
    {
     "name": "stdout",
     "output_type": "stream",
     "text": [
      "4350:\tlearn: 0.8809529\ttest: 0.7916687\tbest: 0.7928832 (3578)\ttotal: 18m 48s\tremaining: 2m 48s\n"
     ]
    },
    {
     "name": "stdout",
     "output_type": "stream",
     "text": [
      "4375:\tlearn: 0.8814146\ttest: 0.7916653\tbest: 0.7928832 (3578)\ttotal: 18m 55s\tremaining: 2m 41s\n"
     ]
    },
    {
     "name": "stdout",
     "output_type": "stream",
     "text": [
      "4400:\tlearn: 0.8818836\ttest: 0.7917664\tbest: 0.7928832 (3578)\ttotal: 19m 2s\tremaining: 2m 35s\n"
     ]
    },
    {
     "name": "stdout",
     "output_type": "stream",
     "text": [
      "4425:\tlearn: 0.8822902\ttest: 0.7918731\tbest: 0.7928832 (3578)\ttotal: 19m 8s\tremaining: 2m 28s\n"
     ]
    },
    {
     "name": "stdout",
     "output_type": "stream",
     "text": [
      "4450:\tlearn: 0.8825783\ttest: 0.7920832\tbest: 0.7928832 (3578)\ttotal: 19m 14s\tremaining: 2m 22s\n"
     ]
    },
    {
     "name": "stdout",
     "output_type": "stream",
     "text": [
      "4475:\tlearn: 0.8828350\ttest: 0.7917932\tbest: 0.7928832 (3578)\ttotal: 19m 21s\tremaining: 2m 15s\n"
     ]
    },
    {
     "name": "stdout",
     "output_type": "stream",
     "text": [
      "4500:\tlearn: 0.8832784\ttest: 0.7917702\tbest: 0.7928832 (3578)\ttotal: 19m 27s\tremaining: 2m 9s\n"
     ]
    },
    {
     "name": "stdout",
     "output_type": "stream",
     "text": [
      "4525:\tlearn: 0.8835202\ttest: 0.7916706\tbest: 0.7928832 (3578)\ttotal: 19m 34s\tremaining: 2m 2s\n"
     ]
    },
    {
     "name": "stdout",
     "output_type": "stream",
     "text": [
      "4550:\tlearn: 0.8839685\ttest: 0.7919943\tbest: 0.7928832 (3578)\ttotal: 19m 40s\tremaining: 1m 56s\n"
     ]
    },
    {
     "name": "stdout",
     "output_type": "stream",
     "text": [
      "4575:\tlearn: 0.8844577\ttest: 0.7921000\tbest: 0.7928832 (3578)\ttotal: 19m 47s\tremaining: 1m 50s\n"
     ]
    },
    {
     "name": "stdout",
     "output_type": "stream",
     "text": [
      "4600:\tlearn: 0.8847150\ttest: 0.7920369\tbest: 0.7928832 (3578)\ttotal: 19m 53s\tremaining: 1m 43s\n"
     ]
    },
    {
     "name": "stdout",
     "output_type": "stream",
     "text": [
      "4625:\tlearn: 0.8851229\ttest: 0.7919088\tbest: 0.7928832 (3578)\ttotal: 20m\tremaining: 1m 37s\n"
     ]
    },
    {
     "name": "stdout",
     "output_type": "stream",
     "text": [
      "4650:\tlearn: 0.8854375\ttest: 0.7917250\tbest: 0.7928832 (3578)\ttotal: 20m 6s\tremaining: 1m 30s\n"
     ]
    },
    {
     "name": "stdout",
     "output_type": "stream",
     "text": [
      "4675:\tlearn: 0.8858778\ttest: 0.7918518\tbest: 0.7928832 (3578)\ttotal: 20m 13s\tremaining: 1m 24s\n"
     ]
    },
    {
     "name": "stdout",
     "output_type": "stream",
     "text": [
      "4700:\tlearn: 0.8862782\ttest: 0.7920640\tbest: 0.7928832 (3578)\ttotal: 20m 19s\tremaining: 1m 17s\n"
     ]
    },
    {
     "name": "stdout",
     "output_type": "stream",
     "text": [
      "4725:\tlearn: 0.8866077\ttest: 0.7918765\tbest: 0.7928832 (3578)\ttotal: 20m 26s\tremaining: 1m 11s\n"
     ]
    },
    {
     "name": "stdout",
     "output_type": "stream",
     "text": [
      "4750:\tlearn: 0.8871252\ttest: 0.7917346\tbest: 0.7928832 (3578)\ttotal: 20m 32s\tremaining: 1m 4s\n"
     ]
    },
    {
     "name": "stdout",
     "output_type": "stream",
     "text": [
      "4775:\tlearn: 0.8875287\ttest: 0.7917690\tbest: 0.7928832 (3578)\ttotal: 20m 39s\tremaining: 58.1s\n"
     ]
    },
    {
     "name": "stdout",
     "output_type": "stream",
     "text": [
      "4800:\tlearn: 0.8879229\ttest: 0.7922190\tbest: 0.7928832 (3578)\ttotal: 20m 45s\tremaining: 51.6s\n"
     ]
    },
    {
     "name": "stdout",
     "output_type": "stream",
     "text": [
      "4825:\tlearn: 0.8882496\ttest: 0.7923081\tbest: 0.7928832 (3578)\ttotal: 20m 52s\tremaining: 45.1s\n"
     ]
    },
    {
     "name": "stdout",
     "output_type": "stream",
     "text": [
      "4850:\tlearn: 0.8885782\ttest: 0.7919493\tbest: 0.7928832 (3578)\ttotal: 20m 58s\tremaining: 38.7s\n"
     ]
    },
    {
     "name": "stdout",
     "output_type": "stream",
     "text": [
      "4875:\tlearn: 0.8888551\ttest: 0.7920781\tbest: 0.7928832 (3578)\ttotal: 21m 5s\tremaining: 32.2s\n"
     ]
    },
    {
     "name": "stdout",
     "output_type": "stream",
     "text": [
      "4900:\tlearn: 0.8892497\ttest: 0.7921177\tbest: 0.7928832 (3578)\ttotal: 21m 11s\tremaining: 25.7s\n"
     ]
    },
    {
     "name": "stdout",
     "output_type": "stream",
     "text": [
      "4925:\tlearn: 0.8896261\ttest: 0.7919090\tbest: 0.7928832 (3578)\ttotal: 21m 18s\tremaining: 19.2s\n"
     ]
    },
    {
     "name": "stdout",
     "output_type": "stream",
     "text": [
      "4950:\tlearn: 0.8900097\ttest: 0.7923951\tbest: 0.7928832 (3578)\ttotal: 21m 24s\tremaining: 12.7s\n"
     ]
    },
    {
     "name": "stdout",
     "output_type": "stream",
     "text": [
      "4975:\tlearn: 0.8904190\ttest: 0.7923136\tbest: 0.7928832 (3578)\ttotal: 21m 31s\tremaining: 6.23s\n"
     ]
    },
    {
     "name": "stdout",
     "output_type": "stream",
     "text": [
      "4999:\tlearn: 0.8906124\ttest: 0.7921626\tbest: 0.7928832 (3578)\ttotal: 21m 37s\tremaining: 0us\n",
      "\n",
      "bestTest = 0.7928832093\n",
      "bestIteration = 3578\n",
      "\n"
     ]
    },
    {
     "name": "stdout",
     "output_type": "stream",
     "text": [
      "######################################## training model 5/5 ########################################\n"
     ]
    },
    {
     "name": "stdout",
     "output_type": "stream",
     "text": [
      "0:\tlearn: 0.5253902\ttest: 0.5308301\tbest: 0.5308301 (0)\ttotal: 584ms\tremaining: 48m 38s\n"
     ]
    },
    {
     "name": "stdout",
     "output_type": "stream",
     "text": [
      "25:\tlearn: 0.7256678\ttest: 0.7339763\tbest: 0.7339763 (25)\ttotal: 7.03s\tremaining: 22m 24s\n"
     ]
    },
    {
     "name": "stdout",
     "output_type": "stream",
     "text": [
      "50:\tlearn: 0.7416884\ttest: 0.7492639\tbest: 0.7492639 (50)\ttotal: 13.5s\tremaining: 21m 52s\n"
     ]
    },
    {
     "name": "stdout",
     "output_type": "stream",
     "text": [
      "75:\tlearn: 0.7491379\ttest: 0.7568152\tbest: 0.7570324 (73)\ttotal: 20.1s\tremaining: 21m 40s\n"
     ]
    },
    {
     "name": "stdout",
     "output_type": "stream",
     "text": [
      "100:\tlearn: 0.7548757\ttest: 0.7629057\tbest: 0.7629057 (100)\ttotal: 26.6s\tremaining: 21m 30s\n"
     ]
    },
    {
     "name": "stdout",
     "output_type": "stream",
     "text": [
      "125:\tlearn: 0.7591503\ttest: 0.7670686\tbest: 0.7670686 (125)\ttotal: 33.1s\tremaining: 21m 20s\n"
     ]
    },
    {
     "name": "stdout",
     "output_type": "stream",
     "text": [
      "150:\tlearn: 0.7620885\ttest: 0.7695322\tbest: 0.7697982 (148)\ttotal: 39.6s\tremaining: 21m 12s\n"
     ]
    },
    {
     "name": "stdout",
     "output_type": "stream",
     "text": [
      "175:\tlearn: 0.7657444\ttest: 0.7726607\tbest: 0.7726607 (175)\ttotal: 46.1s\tremaining: 21m 3s\n"
     ]
    },
    {
     "name": "stdout",
     "output_type": "stream",
     "text": [
      "200:\tlearn: 0.7676247\ttest: 0.7739139\tbest: 0.7739139 (200)\ttotal: 52.6s\tremaining: 20m 55s\n"
     ]
    },
    {
     "name": "stdout",
     "output_type": "stream",
     "text": [
      "225:\tlearn: 0.7697611\ttest: 0.7755495\tbest: 0.7755495 (225)\ttotal: 59s\tremaining: 20m 47s\n"
     ]
    },
    {
     "name": "stdout",
     "output_type": "stream",
     "text": [
      "250:\tlearn: 0.7716340\ttest: 0.7773951\tbest: 0.7773951 (250)\ttotal: 1m 5s\tremaining: 20m 41s\n"
     ]
    },
    {
     "name": "stdout",
     "output_type": "stream",
     "text": [
      "275:\tlearn: 0.7741380\ttest: 0.7795033\tbest: 0.7795651 (274)\ttotal: 1m 12s\tremaining: 20m 34s\n"
     ]
    },
    {
     "name": "stdout",
     "output_type": "stream",
     "text": [
      "300:\tlearn: 0.7769440\ttest: 0.7810013\tbest: 0.7810013 (300)\ttotal: 1m 18s\tremaining: 20m 28s\n"
     ]
    },
    {
     "name": "stdout",
     "output_type": "stream",
     "text": [
      "325:\tlearn: 0.7800900\ttest: 0.7842390\tbest: 0.7842455 (324)\ttotal: 1m 25s\tremaining: 20m 21s\n"
     ]
    },
    {
     "name": "stdout",
     "output_type": "stream",
     "text": [
      "350:\tlearn: 0.7829899\ttest: 0.7854585\tbest: 0.7854699 (332)\ttotal: 1m 31s\tremaining: 20m 15s\n"
     ]
    },
    {
     "name": "stdout",
     "output_type": "stream",
     "text": [
      "375:\tlearn: 0.7851581\ttest: 0.7872896\tbest: 0.7873361 (374)\ttotal: 1m 38s\tremaining: 20m 9s\n"
     ]
    },
    {
     "name": "stdout",
     "output_type": "stream",
     "text": [
      "400:\tlearn: 0.7873262\ttest: 0.7883576\tbest: 0.7883576 (400)\ttotal: 1m 44s\tremaining: 20m 2s\n"
     ]
    },
    {
     "name": "stdout",
     "output_type": "stream",
     "text": [
      "425:\tlearn: 0.7893717\ttest: 0.7899401\tbest: 0.7899940 (424)\ttotal: 1m 51s\tremaining: 19m 56s\n"
     ]
    },
    {
     "name": "stdout",
     "output_type": "stream",
     "text": [
      "450:\tlearn: 0.7906695\ttest: 0.7907438\tbest: 0.7910203 (443)\ttotal: 1m 57s\tremaining: 19m 49s\n"
     ]
    },
    {
     "name": "stdout",
     "output_type": "stream",
     "text": [
      "475:\tlearn: 0.7918147\ttest: 0.7910840\tbest: 0.7914778 (470)\ttotal: 2m 4s\tremaining: 19m 42s\n"
     ]
    },
    {
     "name": "stdout",
     "output_type": "stream",
     "text": [
      "500:\tlearn: 0.7932110\ttest: 0.7917852\tbest: 0.7917852 (500)\ttotal: 2m 10s\tremaining: 19m 35s\n"
     ]
    },
    {
     "name": "stdout",
     "output_type": "stream",
     "text": [
      "525:\tlearn: 0.7944565\ttest: 0.7920704\tbest: 0.7923842 (517)\ttotal: 2m 17s\tremaining: 19m 29s\n"
     ]
    },
    {
     "name": "stdout",
     "output_type": "stream",
     "text": [
      "550:\tlearn: 0.7956490\ttest: 0.7927951\tbest: 0.7927951 (550)\ttotal: 2m 24s\tremaining: 19m 22s\n"
     ]
    },
    {
     "name": "stdout",
     "output_type": "stream",
     "text": [
      "575:\tlearn: 0.7967950\ttest: 0.7925230\tbest: 0.7928357 (559)\ttotal: 2m 30s\tremaining: 19m 16s\n"
     ]
    },
    {
     "name": "stdout",
     "output_type": "stream",
     "text": [
      "600:\tlearn: 0.7981415\ttest: 0.7930862\tbest: 0.7932304 (599)\ttotal: 2m 36s\tremaining: 19m 8s\n"
     ]
    },
    {
     "name": "stdout",
     "output_type": "stream",
     "text": [
      "625:\tlearn: 0.7993300\ttest: 0.7930581\tbest: 0.7932979 (619)\ttotal: 2m 43s\tremaining: 19m 2s\n"
     ]
    },
    {
     "name": "stdout",
     "output_type": "stream",
     "text": [
      "650:\tlearn: 0.8001596\ttest: 0.7934656\tbest: 0.7935643 (648)\ttotal: 2m 49s\tremaining: 18m 55s\n"
     ]
    },
    {
     "name": "stdout",
     "output_type": "stream",
     "text": [
      "675:\tlearn: 0.8008938\ttest: 0.7942498\tbest: 0.7945005 (666)\ttotal: 2m 56s\tremaining: 18m 48s\n"
     ]
    },
    {
     "name": "stdout",
     "output_type": "stream",
     "text": [
      "700:\tlearn: 0.8020002\ttest: 0.7944993\tbest: 0.7945380 (691)\ttotal: 3m 2s\tremaining: 18m 42s\n"
     ]
    },
    {
     "name": "stdout",
     "output_type": "stream",
     "text": [
      "725:\tlearn: 0.8026916\ttest: 0.7948479\tbest: 0.7949258 (710)\ttotal: 3m 9s\tremaining: 18m 35s\n"
     ]
    },
    {
     "name": "stdout",
     "output_type": "stream",
     "text": [
      "750:\tlearn: 0.8036410\ttest: 0.7954284\tbest: 0.7956662 (745)\ttotal: 3m 16s\tremaining: 18m 29s\n"
     ]
    },
    {
     "name": "stdout",
     "output_type": "stream",
     "text": [
      "775:\tlearn: 0.8047008\ttest: 0.7958691\tbest: 0.7960150 (774)\ttotal: 3m 22s\tremaining: 18m 22s\n"
     ]
    },
    {
     "name": "stdout",
     "output_type": "stream",
     "text": [
      "800:\tlearn: 0.8055152\ttest: 0.7960859\tbest: 0.7963368 (786)\ttotal: 3m 29s\tremaining: 18m 16s\n"
     ]
    },
    {
     "name": "stdout",
     "output_type": "stream",
     "text": [
      "825:\tlearn: 0.8063382\ttest: 0.7965466\tbest: 0.7965466 (825)\ttotal: 3m 35s\tremaining: 18m 9s\n"
     ]
    },
    {
     "name": "stdout",
     "output_type": "stream",
     "text": [
      "850:\tlearn: 0.8072372\ttest: 0.7966911\tbest: 0.7970377 (841)\ttotal: 3m 42s\tremaining: 18m 3s\n"
     ]
    },
    {
     "name": "stdout",
     "output_type": "stream",
     "text": [
      "875:\tlearn: 0.8079583\ttest: 0.7965480\tbest: 0.7970377 (841)\ttotal: 3m 48s\tremaining: 17m 56s\n"
     ]
    },
    {
     "name": "stdout",
     "output_type": "stream",
     "text": [
      "900:\tlearn: 0.8086877\ttest: 0.7973204\tbest: 0.7973391 (899)\ttotal: 3m 55s\tremaining: 17m 50s\n"
     ]
    },
    {
     "name": "stdout",
     "output_type": "stream",
     "text": [
      "925:\tlearn: 0.8094753\ttest: 0.7974747\tbest: 0.7977030 (921)\ttotal: 4m 1s\tremaining: 17m 43s\n"
     ]
    },
    {
     "name": "stdout",
     "output_type": "stream",
     "text": [
      "950:\tlearn: 0.8102096\ttest: 0.7976932\tbest: 0.7978183 (948)\ttotal: 4m 8s\tremaining: 17m 36s\n"
     ]
    },
    {
     "name": "stdout",
     "output_type": "stream",
     "text": [
      "975:\tlearn: 0.8109985\ttest: 0.7976941\tbest: 0.7978586 (971)\ttotal: 4m 14s\tremaining: 17m 30s\n"
     ]
    },
    {
     "name": "stdout",
     "output_type": "stream",
     "text": [
      "1000:\tlearn: 0.8116613\ttest: 0.7978889\tbest: 0.7978889 (1000)\ttotal: 4m 21s\tremaining: 17m 23s\n"
     ]
    },
    {
     "name": "stdout",
     "output_type": "stream",
     "text": [
      "1025:\tlearn: 0.8124652\ttest: 0.7981251\tbest: 0.7982790 (1011)\ttotal: 4m 27s\tremaining: 17m 17s\n"
     ]
    },
    {
     "name": "stdout",
     "output_type": "stream",
     "text": [
      "1050:\tlearn: 0.8132483\ttest: 0.7981547\tbest: 0.7982790 (1011)\ttotal: 4m 34s\tremaining: 17m 10s\n"
     ]
    },
    {
     "name": "stdout",
     "output_type": "stream",
     "text": [
      "1075:\tlearn: 0.8141063\ttest: 0.7977224\tbest: 0.7983784 (1063)\ttotal: 4m 40s\tremaining: 17m 3s\n"
     ]
    },
    {
     "name": "stdout",
     "output_type": "stream",
     "text": [
      "1100:\tlearn: 0.8148242\ttest: 0.7975545\tbest: 0.7983784 (1063)\ttotal: 4m 47s\tremaining: 16m 57s\n"
     ]
    },
    {
     "name": "stdout",
     "output_type": "stream",
     "text": [
      "1125:\tlearn: 0.8154810\ttest: 0.7976864\tbest: 0.7983784 (1063)\ttotal: 4m 53s\tremaining: 16m 50s\n"
     ]
    },
    {
     "name": "stdout",
     "output_type": "stream",
     "text": [
      "1150:\tlearn: 0.8162826\ttest: 0.7979814\tbest: 0.7983784 (1063)\ttotal: 5m\tremaining: 16m 44s\n"
     ]
    },
    {
     "name": "stdout",
     "output_type": "stream",
     "text": [
      "1175:\tlearn: 0.8170997\ttest: 0.7981749\tbest: 0.7984798 (1163)\ttotal: 5m 6s\tremaining: 16m 37s\n"
     ]
    },
    {
     "name": "stdout",
     "output_type": "stream",
     "text": [
      "1200:\tlearn: 0.8179623\ttest: 0.7983917\tbest: 0.7984798 (1163)\ttotal: 5m 13s\tremaining: 16m 30s\n"
     ]
    },
    {
     "name": "stdout",
     "output_type": "stream",
     "text": [
      "1225:\tlearn: 0.8186897\ttest: 0.7981791\tbest: 0.7984798 (1163)\ttotal: 5m 19s\tremaining: 16m 24s\n"
     ]
    },
    {
     "name": "stdout",
     "output_type": "stream",
     "text": [
      "1250:\tlearn: 0.8193709\ttest: 0.7982160\tbest: 0.7985190 (1229)\ttotal: 5m 26s\tremaining: 16m 17s\n"
     ]
    },
    {
     "name": "stdout",
     "output_type": "stream",
     "text": [
      "1275:\tlearn: 0.8198653\ttest: 0.7983107\tbest: 0.7987261 (1263)\ttotal: 5m 32s\tremaining: 16m 11s\n"
     ]
    },
    {
     "name": "stdout",
     "output_type": "stream",
     "text": [
      "1300:\tlearn: 0.8205204\ttest: 0.7983773\tbest: 0.7989531 (1292)\ttotal: 5m 39s\tremaining: 16m 4s\n"
     ]
    },
    {
     "name": "stdout",
     "output_type": "stream",
     "text": [
      "1325:\tlearn: 0.8210597\ttest: 0.7986120\tbest: 0.7989531 (1292)\ttotal: 5m 45s\tremaining: 15m 57s\n"
     ]
    },
    {
     "name": "stdout",
     "output_type": "stream",
     "text": [
      "1350:\tlearn: 0.8218864\ttest: 0.7986180\tbest: 0.7989697 (1345)\ttotal: 5m 52s\tremaining: 15m 51s\n"
     ]
    },
    {
     "name": "stdout",
     "output_type": "stream",
     "text": [
      "1375:\tlearn: 0.8222589\ttest: 0.7986399\tbest: 0.7989697 (1345)\ttotal: 5m 58s\tremaining: 15m 44s\n"
     ]
    },
    {
     "name": "stdout",
     "output_type": "stream",
     "text": [
      "1400:\tlearn: 0.8232691\ttest: 0.7989641\tbest: 0.7990672 (1387)\ttotal: 6m 5s\tremaining: 15m 38s\n"
     ]
    },
    {
     "name": "stdout",
     "output_type": "stream",
     "text": [
      "1425:\tlearn: 0.8236827\ttest: 0.7988130\tbest: 0.7991622 (1407)\ttotal: 6m 11s\tremaining: 15m 31s\n"
     ]
    },
    {
     "name": "stdout",
     "output_type": "stream",
     "text": [
      "1450:\tlearn: 0.8242070\ttest: 0.7987785\tbest: 0.7991622 (1407)\ttotal: 6m 18s\tremaining: 15m 24s\n"
     ]
    },
    {
     "name": "stdout",
     "output_type": "stream",
     "text": [
      "1475:\tlearn: 0.8248134\ttest: 0.7989328\tbest: 0.7992261 (1461)\ttotal: 6m 24s\tremaining: 15m 18s\n"
     ]
    },
    {
     "name": "stdout",
     "output_type": "stream",
     "text": [
      "1500:\tlearn: 0.8252722\ttest: 0.7991194\tbest: 0.7993066 (1493)\ttotal: 6m 31s\tremaining: 15m 11s\n"
     ]
    },
    {
     "name": "stdout",
     "output_type": "stream",
     "text": [
      "1525:\tlearn: 0.8259123\ttest: 0.7991550\tbest: 0.7995028 (1509)\ttotal: 6m 37s\tremaining: 15m 5s\n"
     ]
    },
    {
     "name": "stdout",
     "output_type": "stream",
     "text": [
      "1550:\tlearn: 0.8267369\ttest: 0.7991552\tbest: 0.7995829 (1530)\ttotal: 6m 44s\tremaining: 14m 58s\n"
     ]
    },
    {
     "name": "stdout",
     "output_type": "stream",
     "text": [
      "1575:\tlearn: 0.8273123\ttest: 0.7993028\tbest: 0.7995829 (1530)\ttotal: 6m 50s\tremaining: 14m 52s\n"
     ]
    },
    {
     "name": "stdout",
     "output_type": "stream",
     "text": [
      "1600:\tlearn: 0.8279280\ttest: 0.7998402\tbest: 0.7998402 (1600)\ttotal: 6m 57s\tremaining: 14m 45s\n"
     ]
    },
    {
     "name": "stdout",
     "output_type": "stream",
     "text": [
      "1625:\tlearn: 0.8282981\ttest: 0.7996812\tbest: 0.7999036 (1610)\ttotal: 7m 3s\tremaining: 14m 38s\n"
     ]
    },
    {
     "name": "stdout",
     "output_type": "stream",
     "text": [
      "1650:\tlearn: 0.8288334\ttest: 0.7995490\tbest: 0.7999036 (1610)\ttotal: 7m 10s\tremaining: 14m 32s\n"
     ]
    },
    {
     "name": "stdout",
     "output_type": "stream",
     "text": [
      "1675:\tlearn: 0.8292728\ttest: 0.7995859\tbest: 0.7999036 (1610)\ttotal: 7m 16s\tremaining: 14m 25s\n"
     ]
    },
    {
     "name": "stdout",
     "output_type": "stream",
     "text": [
      "1700:\tlearn: 0.8299462\ttest: 0.7997754\tbest: 0.7999036 (1610)\ttotal: 7m 23s\tremaining: 14m 19s\n"
     ]
    },
    {
     "name": "stdout",
     "output_type": "stream",
     "text": [
      "1725:\tlearn: 0.8303384\ttest: 0.7998905\tbest: 0.8000978 (1711)\ttotal: 7m 29s\tremaining: 14m 12s\n"
     ]
    },
    {
     "name": "stdout",
     "output_type": "stream",
     "text": [
      "1750:\tlearn: 0.8308987\ttest: 0.7997615\tbest: 0.8000978 (1711)\ttotal: 7m 35s\tremaining: 14m 6s\n"
     ]
    },
    {
     "name": "stdout",
     "output_type": "stream",
     "text": [
      "1775:\tlearn: 0.8315473\ttest: 0.8001050\tbest: 0.8002448 (1755)\ttotal: 7m 42s\tremaining: 13m 59s\n"
     ]
    },
    {
     "name": "stdout",
     "output_type": "stream",
     "text": [
      "1800:\tlearn: 0.8321786\ttest: 0.7996295\tbest: 0.8002448 (1755)\ttotal: 7m 48s\tremaining: 13m 52s\n"
     ]
    },
    {
     "name": "stdout",
     "output_type": "stream",
     "text": [
      "1825:\tlearn: 0.8327956\ttest: 0.7996171\tbest: 0.8002448 (1755)\ttotal: 7m 55s\tremaining: 13m 46s\n"
     ]
    },
    {
     "name": "stdout",
     "output_type": "stream",
     "text": [
      "1850:\tlearn: 0.8331694\ttest: 0.8001540\tbest: 0.8002448 (1755)\ttotal: 8m 1s\tremaining: 13m 39s\n"
     ]
    },
    {
     "name": "stdout",
     "output_type": "stream",
     "text": [
      "1875:\tlearn: 0.8338619\ttest: 0.8000589\tbest: 0.8003849 (1855)\ttotal: 8m 8s\tremaining: 13m 33s\n"
     ]
    },
    {
     "name": "stdout",
     "output_type": "stream",
     "text": [
      "1900:\tlearn: 0.8342583\ttest: 0.8001905\tbest: 0.8003849 (1855)\ttotal: 8m 14s\tremaining: 13m 26s\n"
     ]
    },
    {
     "name": "stdout",
     "output_type": "stream",
     "text": [
      "1925:\tlearn: 0.8345803\ttest: 0.8004926\tbest: 0.8005328 (1924)\ttotal: 8m 21s\tremaining: 13m 20s\n"
     ]
    },
    {
     "name": "stdout",
     "output_type": "stream",
     "text": [
      "1950:\tlearn: 0.8349534\ttest: 0.8003949\tbest: 0.8005328 (1924)\ttotal: 8m 27s\tremaining: 13m 13s\n"
     ]
    },
    {
     "name": "stdout",
     "output_type": "stream",
     "text": [
      "1975:\tlearn: 0.8356543\ttest: 0.8004692\tbest: 0.8005949 (1964)\ttotal: 8m 34s\tremaining: 13m 7s\n"
     ]
    },
    {
     "name": "stdout",
     "output_type": "stream",
     "text": [
      "2000:\tlearn: 0.8363699\ttest: 0.7999534\tbest: 0.8005949 (1964)\ttotal: 8m 40s\tremaining: 13m\n"
     ]
    },
    {
     "name": "stdout",
     "output_type": "stream",
     "text": [
      "2025:\tlearn: 0.8370107\ttest: 0.8003534\tbest: 0.8005949 (1964)\ttotal: 8m 47s\tremaining: 12m 54s\n"
     ]
    },
    {
     "name": "stdout",
     "output_type": "stream",
     "text": [
      "2050:\tlearn: 0.8376524\ttest: 0.8000903\tbest: 0.8005949 (1964)\ttotal: 8m 53s\tremaining: 12m 47s\n"
     ]
    },
    {
     "name": "stdout",
     "output_type": "stream",
     "text": [
      "2075:\tlearn: 0.8381415\ttest: 0.8000798\tbest: 0.8005949 (1964)\ttotal: 9m\tremaining: 12m 41s\n"
     ]
    },
    {
     "name": "stdout",
     "output_type": "stream",
     "text": [
      "2100:\tlearn: 0.8387554\ttest: 0.8002588\tbest: 0.8005949 (1964)\ttotal: 9m 6s\tremaining: 12m 34s\n"
     ]
    },
    {
     "name": "stdout",
     "output_type": "stream",
     "text": [
      "2125:\tlearn: 0.8393100\ttest: 0.7999891\tbest: 0.8005949 (1964)\ttotal: 9m 13s\tremaining: 12m 27s\n"
     ]
    },
    {
     "name": "stdout",
     "output_type": "stream",
     "text": [
      "2150:\tlearn: 0.8399795\ttest: 0.7997715\tbest: 0.8005949 (1964)\ttotal: 9m 19s\tremaining: 12m 21s\n"
     ]
    },
    {
     "name": "stdout",
     "output_type": "stream",
     "text": [
      "2175:\tlearn: 0.8404081\ttest: 0.7993959\tbest: 0.8005949 (1964)\ttotal: 9m 26s\tremaining: 12m 14s\n"
     ]
    },
    {
     "name": "stdout",
     "output_type": "stream",
     "text": [
      "2200:\tlearn: 0.8410293\ttest: 0.8000748\tbest: 0.8005949 (1964)\ttotal: 9m 32s\tremaining: 12m 8s\n"
     ]
    },
    {
     "name": "stdout",
     "output_type": "stream",
     "text": [
      "2225:\tlearn: 0.8416254\ttest: 0.8001978\tbest: 0.8005949 (1964)\ttotal: 9m 39s\tremaining: 12m 1s\n"
     ]
    },
    {
     "name": "stdout",
     "output_type": "stream",
     "text": [
      "2250:\tlearn: 0.8420624\ttest: 0.7999943\tbest: 0.8005949 (1964)\ttotal: 9m 45s\tremaining: 11m 55s\n"
     ]
    },
    {
     "name": "stdout",
     "output_type": "stream",
     "text": [
      "2275:\tlearn: 0.8425933\ttest: 0.8001481\tbest: 0.8005949 (1964)\ttotal: 9m 52s\tremaining: 11m 48s\n"
     ]
    },
    {
     "name": "stdout",
     "output_type": "stream",
     "text": [
      "2300:\tlearn: 0.8434749\ttest: 0.8005091\tbest: 0.8006125 (2297)\ttotal: 9m 58s\tremaining: 11m 42s\n"
     ]
    },
    {
     "name": "stdout",
     "output_type": "stream",
     "text": [
      "2325:\tlearn: 0.8440930\ttest: 0.8001777\tbest: 0.8006125 (2297)\ttotal: 10m 5s\tremaining: 11m 35s\n"
     ]
    },
    {
     "name": "stdout",
     "output_type": "stream",
     "text": [
      "2350:\tlearn: 0.8446109\ttest: 0.8006910\tbest: 0.8006910 (2350)\ttotal: 10m 11s\tremaining: 11m 29s\n"
     ]
    },
    {
     "name": "stdout",
     "output_type": "stream",
     "text": [
      "2375:\tlearn: 0.8449916\ttest: 0.8001318\tbest: 0.8006910 (2350)\ttotal: 10m 18s\tremaining: 11m 22s\n"
     ]
    },
    {
     "name": "stdout",
     "output_type": "stream",
     "text": [
      "2400:\tlearn: 0.8457056\ttest: 0.8009791\tbest: 0.8009791 (2400)\ttotal: 10m 24s\tremaining: 11m 16s\n"
     ]
    },
    {
     "name": "stdout",
     "output_type": "stream",
     "text": [
      "2425:\tlearn: 0.8461821\ttest: 0.8007105\tbest: 0.8009828 (2421)\ttotal: 10m 31s\tremaining: 11m 9s\n"
     ]
    },
    {
     "name": "stdout",
     "output_type": "stream",
     "text": [
      "2450:\tlearn: 0.8467859\ttest: 0.8006354\tbest: 0.8011340 (2431)\ttotal: 10m 37s\tremaining: 11m 3s\n"
     ]
    },
    {
     "name": "stdout",
     "output_type": "stream",
     "text": [
      "2475:\tlearn: 0.8472130\ttest: 0.8007530\tbest: 0.8011340 (2431)\ttotal: 10m 44s\tremaining: 10m 56s\n"
     ]
    },
    {
     "name": "stdout",
     "output_type": "stream",
     "text": [
      "2500:\tlearn: 0.8478855\ttest: 0.8007155\tbest: 0.8011340 (2431)\ttotal: 10m 50s\tremaining: 10m 50s\n"
     ]
    },
    {
     "name": "stdout",
     "output_type": "stream",
     "text": [
      "2525:\tlearn: 0.8485160\ttest: 0.8011601\tbest: 0.8011601 (2525)\ttotal: 10m 57s\tremaining: 10m 43s\n"
     ]
    },
    {
     "name": "stdout",
     "output_type": "stream",
     "text": [
      "2550:\tlearn: 0.8488307\ttest: 0.8011019\tbest: 0.8011841 (2537)\ttotal: 11m 3s\tremaining: 10m 37s\n"
     ]
    },
    {
     "name": "stdout",
     "output_type": "stream",
     "text": [
      "2575:\tlearn: 0.8493060\ttest: 0.8015954\tbest: 0.8015954 (2575)\ttotal: 11m 10s\tremaining: 10m 30s\n"
     ]
    },
    {
     "name": "stdout",
     "output_type": "stream",
     "text": [
      "2600:\tlearn: 0.8499503\ttest: 0.8018191\tbest: 0.8020256 (2587)\ttotal: 11m 16s\tremaining: 10m 24s\n"
     ]
    },
    {
     "name": "stdout",
     "output_type": "stream",
     "text": [
      "2625:\tlearn: 0.8503503\ttest: 0.8018445\tbest: 0.8020308 (2607)\ttotal: 11m 23s\tremaining: 10m 17s\n"
     ]
    },
    {
     "name": "stdout",
     "output_type": "stream",
     "text": [
      "2650:\tlearn: 0.8507584\ttest: 0.8016133\tbest: 0.8020308 (2607)\ttotal: 11m 29s\tremaining: 10m 11s\n"
     ]
    },
    {
     "name": "stdout",
     "output_type": "stream",
     "text": [
      "2675:\tlearn: 0.8516005\ttest: 0.8014273\tbest: 0.8020308 (2607)\ttotal: 11m 36s\tremaining: 10m 4s\n"
     ]
    },
    {
     "name": "stdout",
     "output_type": "stream",
     "text": [
      "2700:\tlearn: 0.8520879\ttest: 0.8011773\tbest: 0.8020308 (2607)\ttotal: 11m 42s\tremaining: 9m 58s\n"
     ]
    },
    {
     "name": "stdout",
     "output_type": "stream",
     "text": [
      "2725:\tlearn: 0.8527531\ttest: 0.8011558\tbest: 0.8020308 (2607)\ttotal: 11m 49s\tremaining: 9m 51s\n"
     ]
    },
    {
     "name": "stdout",
     "output_type": "stream",
     "text": [
      "2750:\tlearn: 0.8532017\ttest: 0.8010230\tbest: 0.8020308 (2607)\ttotal: 11m 55s\tremaining: 9m 45s\n"
     ]
    },
    {
     "name": "stdout",
     "output_type": "stream",
     "text": [
      "2775:\tlearn: 0.8537263\ttest: 0.8009219\tbest: 0.8020308 (2607)\ttotal: 12m 2s\tremaining: 9m 38s\n"
     ]
    },
    {
     "name": "stdout",
     "output_type": "stream",
     "text": [
      "2800:\tlearn: 0.8540184\ttest: 0.8010781\tbest: 0.8020308 (2607)\ttotal: 12m 8s\tremaining: 9m 32s\n"
     ]
    },
    {
     "name": "stdout",
     "output_type": "stream",
     "text": [
      "2825:\tlearn: 0.8544354\ttest: 0.8008728\tbest: 0.8020308 (2607)\ttotal: 12m 15s\tremaining: 9m 25s\n"
     ]
    },
    {
     "name": "stdout",
     "output_type": "stream",
     "text": [
      "2850:\tlearn: 0.8549730\ttest: 0.8008727\tbest: 0.8020308 (2607)\ttotal: 12m 21s\tremaining: 9m 19s\n"
     ]
    },
    {
     "name": "stdout",
     "output_type": "stream",
     "text": [
      "2875:\tlearn: 0.8554749\ttest: 0.8006281\tbest: 0.8020308 (2607)\ttotal: 12m 28s\tremaining: 9m 12s\n"
     ]
    },
    {
     "name": "stdout",
     "output_type": "stream",
     "text": [
      "2900:\tlearn: 0.8559934\ttest: 0.8004031\tbest: 0.8020308 (2607)\ttotal: 12m 34s\tremaining: 9m 6s\n"
     ]
    },
    {
     "name": "stdout",
     "output_type": "stream",
     "text": [
      "2925:\tlearn: 0.8565875\ttest: 0.8003371\tbest: 0.8020308 (2607)\ttotal: 12m 41s\tremaining: 8m 59s\n"
     ]
    },
    {
     "name": "stdout",
     "output_type": "stream",
     "text": [
      "2950:\tlearn: 0.8571623\ttest: 0.7998873\tbest: 0.8020308 (2607)\ttotal: 12m 47s\tremaining: 8m 53s\n"
     ]
    },
    {
     "name": "stdout",
     "output_type": "stream",
     "text": [
      "2975:\tlearn: 0.8575201\ttest: 0.7997851\tbest: 0.8020308 (2607)\ttotal: 12m 54s\tremaining: 8m 46s\n"
     ]
    },
    {
     "name": "stdout",
     "output_type": "stream",
     "text": [
      "3000:\tlearn: 0.8578795\ttest: 0.7999274\tbest: 0.8020308 (2607)\ttotal: 13m\tremaining: 8m 39s\n"
     ]
    },
    {
     "name": "stdout",
     "output_type": "stream",
     "text": [
      "3025:\tlearn: 0.8584278\ttest: 0.7999916\tbest: 0.8020308 (2607)\ttotal: 13m 7s\tremaining: 8m 33s\n"
     ]
    },
    {
     "name": "stdout",
     "output_type": "stream",
     "text": [
      "3050:\tlearn: 0.8590680\ttest: 0.8000395\tbest: 0.8020308 (2607)\ttotal: 13m 13s\tremaining: 8m 26s\n"
     ]
    },
    {
     "name": "stdout",
     "output_type": "stream",
     "text": [
      "3075:\tlearn: 0.8594983\ttest: 0.8000841\tbest: 0.8020308 (2607)\ttotal: 13m 20s\tremaining: 8m 20s\n"
     ]
    },
    {
     "name": "stdout",
     "output_type": "stream",
     "text": [
      "3100:\tlearn: 0.8597414\ttest: 0.7998796\tbest: 0.8020308 (2607)\ttotal: 13m 26s\tremaining: 8m 13s\n"
     ]
    },
    {
     "name": "stdout",
     "output_type": "stream",
     "text": [
      "3125:\tlearn: 0.8603548\ttest: 0.8000112\tbest: 0.8020308 (2607)\ttotal: 13m 33s\tremaining: 8m 7s\n"
     ]
    },
    {
     "name": "stdout",
     "output_type": "stream",
     "text": [
      "3150:\tlearn: 0.8610630\ttest: 0.7998438\tbest: 0.8020308 (2607)\ttotal: 13m 39s\tremaining: 8m\n"
     ]
    },
    {
     "name": "stdout",
     "output_type": "stream",
     "text": [
      "3175:\tlearn: 0.8614916\ttest: 0.8000103\tbest: 0.8020308 (2607)\ttotal: 13m 46s\tremaining: 7m 54s\n"
     ]
    },
    {
     "name": "stdout",
     "output_type": "stream",
     "text": [
      "3200:\tlearn: 0.8618864\ttest: 0.8000081\tbest: 0.8020308 (2607)\ttotal: 13m 52s\tremaining: 7m 47s\n"
     ]
    },
    {
     "name": "stdout",
     "output_type": "stream",
     "text": [
      "3225:\tlearn: 0.8624005\ttest: 0.8002380\tbest: 0.8020308 (2607)\ttotal: 13m 59s\tremaining: 7m 41s\n"
     ]
    },
    {
     "name": "stdout",
     "output_type": "stream",
     "text": [
      "3250:\tlearn: 0.8629109\ttest: 0.8002812\tbest: 0.8020308 (2607)\ttotal: 14m 5s\tremaining: 7m 34s\n"
     ]
    },
    {
     "name": "stdout",
     "output_type": "stream",
     "text": [
      "3275:\tlearn: 0.8633752\ttest: 0.8001990\tbest: 0.8020308 (2607)\ttotal: 14m 12s\tremaining: 7m 28s\n"
     ]
    },
    {
     "name": "stdout",
     "output_type": "stream",
     "text": [
      "3300:\tlearn: 0.8638204\ttest: 0.8004729\tbest: 0.8020308 (2607)\ttotal: 14m 18s\tremaining: 7m 21s\n"
     ]
    },
    {
     "name": "stdout",
     "output_type": "stream",
     "text": [
      "3325:\tlearn: 0.8644752\ttest: 0.8003069\tbest: 0.8020308 (2607)\ttotal: 14m 25s\tremaining: 7m 15s\n"
     ]
    },
    {
     "name": "stdout",
     "output_type": "stream",
     "text": [
      "3350:\tlearn: 0.8648280\ttest: 0.8001638\tbest: 0.8020308 (2607)\ttotal: 14m 31s\tremaining: 7m 8s\n"
     ]
    },
    {
     "name": "stdout",
     "output_type": "stream",
     "text": [
      "3375:\tlearn: 0.8653276\ttest: 0.8003537\tbest: 0.8020308 (2607)\ttotal: 14m 38s\tremaining: 7m 2s\n"
     ]
    },
    {
     "name": "stdout",
     "output_type": "stream",
     "text": [
      "3400:\tlearn: 0.8658126\ttest: 0.8000811\tbest: 0.8020308 (2607)\ttotal: 14m 44s\tremaining: 6m 55s\n"
     ]
    },
    {
     "name": "stdout",
     "output_type": "stream",
     "text": [
      "3425:\tlearn: 0.8663466\ttest: 0.8000297\tbest: 0.8020308 (2607)\ttotal: 14m 51s\tremaining: 6m 49s\n"
     ]
    },
    {
     "name": "stdout",
     "output_type": "stream",
     "text": [
      "3450:\tlearn: 0.8669581\ttest: 0.7997348\tbest: 0.8020308 (2607)\ttotal: 14m 57s\tremaining: 6m 42s\n"
     ]
    },
    {
     "name": "stdout",
     "output_type": "stream",
     "text": [
      "3475:\tlearn: 0.8671014\ttest: 0.7997165\tbest: 0.8020308 (2607)\ttotal: 15m 4s\tremaining: 6m 36s\n"
     ]
    },
    {
     "name": "stdout",
     "output_type": "stream",
     "text": [
      "3500:\tlearn: 0.8674574\ttest: 0.7998794\tbest: 0.8020308 (2607)\ttotal: 15m 10s\tremaining: 6m 29s\n"
     ]
    },
    {
     "name": "stdout",
     "output_type": "stream",
     "text": [
      "3525:\tlearn: 0.8681599\ttest: 0.7998187\tbest: 0.8020308 (2607)\ttotal: 15m 17s\tremaining: 6m 23s\n"
     ]
    },
    {
     "name": "stdout",
     "output_type": "stream",
     "text": [
      "3550:\tlearn: 0.8687262\ttest: 0.7998230\tbest: 0.8020308 (2607)\ttotal: 15m 23s\tremaining: 6m 16s\n"
     ]
    },
    {
     "name": "stdout",
     "output_type": "stream",
     "text": [
      "3575:\tlearn: 0.8692253\ttest: 0.7996193\tbest: 0.8020308 (2607)\ttotal: 15m 30s\tremaining: 6m 10s\n"
     ]
    },
    {
     "name": "stdout",
     "output_type": "stream",
     "text": [
      "3600:\tlearn: 0.8697139\ttest: 0.7998095\tbest: 0.8020308 (2607)\ttotal: 15m 36s\tremaining: 6m 3s\n"
     ]
    },
    {
     "name": "stdout",
     "output_type": "stream",
     "text": [
      "3625:\tlearn: 0.8700814\ttest: 0.7994316\tbest: 0.8020308 (2607)\ttotal: 15m 43s\tremaining: 5m 57s\n"
     ]
    },
    {
     "name": "stdout",
     "output_type": "stream",
     "text": [
      "3650:\tlearn: 0.8704984\ttest: 0.7992602\tbest: 0.8020308 (2607)\ttotal: 15m 49s\tremaining: 5m 50s\n"
     ]
    },
    {
     "name": "stdout",
     "output_type": "stream",
     "text": [
      "3675:\tlearn: 0.8708508\ttest: 0.7991958\tbest: 0.8020308 (2607)\ttotal: 15m 56s\tremaining: 5m 44s\n"
     ]
    },
    {
     "name": "stdout",
     "output_type": "stream",
     "text": [
      "3700:\tlearn: 0.8712629\ttest: 0.7994645\tbest: 0.8020308 (2607)\ttotal: 16m 2s\tremaining: 5m 37s\n"
     ]
    },
    {
     "name": "stdout",
     "output_type": "stream",
     "text": [
      "3725:\tlearn: 0.8717798\ttest: 0.7998399\tbest: 0.8020308 (2607)\ttotal: 16m 9s\tremaining: 5m 31s\n"
     ]
    },
    {
     "name": "stdout",
     "output_type": "stream",
     "text": [
      "3750:\tlearn: 0.8722257\ttest: 0.7998154\tbest: 0.8020308 (2607)\ttotal: 16m 15s\tremaining: 5m 24s\n"
     ]
    },
    {
     "name": "stdout",
     "output_type": "stream",
     "text": [
      "3775:\tlearn: 0.8727618\ttest: 0.7995705\tbest: 0.8020308 (2607)\ttotal: 16m 22s\tremaining: 5m 18s\n"
     ]
    },
    {
     "name": "stdout",
     "output_type": "stream",
     "text": [
      "3800:\tlearn: 0.8732845\ttest: 0.7997932\tbest: 0.8020308 (2607)\ttotal: 16m 28s\tremaining: 5m 11s\n"
     ]
    },
    {
     "name": "stdout",
     "output_type": "stream",
     "text": [
      "3825:\tlearn: 0.8735590\ttest: 0.7997487\tbest: 0.8020308 (2607)\ttotal: 16m 35s\tremaining: 5m 5s\n"
     ]
    },
    {
     "name": "stdout",
     "output_type": "stream",
     "text": [
      "3850:\tlearn: 0.8740562\ttest: 0.7997467\tbest: 0.8020308 (2607)\ttotal: 16m 41s\tremaining: 4m 58s\n"
     ]
    },
    {
     "name": "stdout",
     "output_type": "stream",
     "text": [
      "3875:\tlearn: 0.8745275\ttest: 0.7997480\tbest: 0.8020308 (2607)\ttotal: 16m 48s\tremaining: 4m 52s\n"
     ]
    },
    {
     "name": "stdout",
     "output_type": "stream",
     "text": [
      "3900:\tlearn: 0.8748811\ttest: 0.7999412\tbest: 0.8020308 (2607)\ttotal: 16m 54s\tremaining: 4m 45s\n"
     ]
    },
    {
     "name": "stdout",
     "output_type": "stream",
     "text": [
      "3925:\tlearn: 0.8753571\ttest: 0.7997765\tbest: 0.8020308 (2607)\ttotal: 17m 1s\tremaining: 4m 39s\n"
     ]
    },
    {
     "name": "stdout",
     "output_type": "stream",
     "text": [
      "3950:\tlearn: 0.8758465\ttest: 0.8000789\tbest: 0.8020308 (2607)\ttotal: 17m 7s\tremaining: 4m 32s\n"
     ]
    },
    {
     "name": "stdout",
     "output_type": "stream",
     "text": [
      "3975:\tlearn: 0.8761481\ttest: 0.7997447\tbest: 0.8020308 (2607)\ttotal: 17m 14s\tremaining: 4m 26s\n"
     ]
    },
    {
     "name": "stdout",
     "output_type": "stream",
     "text": [
      "4000:\tlearn: 0.8766124\ttest: 0.8002099\tbest: 0.8020308 (2607)\ttotal: 17m 20s\tremaining: 4m 19s\n"
     ]
    },
    {
     "name": "stdout",
     "output_type": "stream",
     "text": [
      "4025:\tlearn: 0.8771711\ttest: 0.7999982\tbest: 0.8020308 (2607)\ttotal: 17m 27s\tremaining: 4m 13s\n"
     ]
    },
    {
     "name": "stdout",
     "output_type": "stream",
     "text": [
      "4050:\tlearn: 0.8776103\ttest: 0.7998914\tbest: 0.8020308 (2607)\ttotal: 17m 33s\tremaining: 4m 6s\n"
     ]
    },
    {
     "name": "stdout",
     "output_type": "stream",
     "text": [
      "4075:\tlearn: 0.8780270\ttest: 0.7998271\tbest: 0.8020308 (2607)\ttotal: 17m 40s\tremaining: 4m\n"
     ]
    },
    {
     "name": "stdout",
     "output_type": "stream",
     "text": [
      "4100:\tlearn: 0.8783834\ttest: 0.8001452\tbest: 0.8020308 (2607)\ttotal: 17m 46s\tremaining: 3m 53s\n"
     ]
    },
    {
     "name": "stdout",
     "output_type": "stream",
     "text": [
      "4125:\tlearn: 0.8788734\ttest: 0.8000327\tbest: 0.8020308 (2607)\ttotal: 17m 53s\tremaining: 3m 47s\n"
     ]
    },
    {
     "name": "stdout",
     "output_type": "stream",
     "text": [
      "4150:\tlearn: 0.8793191\ttest: 0.8001999\tbest: 0.8020308 (2607)\ttotal: 17m 59s\tremaining: 3m 40s\n"
     ]
    },
    {
     "name": "stdout",
     "output_type": "stream",
     "text": [
      "4175:\tlearn: 0.8796065\ttest: 0.8002445\tbest: 0.8020308 (2607)\ttotal: 18m 6s\tremaining: 3m 34s\n"
     ]
    },
    {
     "name": "stdout",
     "output_type": "stream",
     "text": [
      "4200:\tlearn: 0.8800102\ttest: 0.7998948\tbest: 0.8020308 (2607)\ttotal: 18m 12s\tremaining: 3m 27s\n"
     ]
    },
    {
     "name": "stdout",
     "output_type": "stream",
     "text": [
      "4225:\tlearn: 0.8803841\ttest: 0.7997275\tbest: 0.8020308 (2607)\ttotal: 18m 19s\tremaining: 3m 21s\n"
     ]
    },
    {
     "name": "stdout",
     "output_type": "stream",
     "text": [
      "4250:\tlearn: 0.8807364\ttest: 0.7996433\tbest: 0.8020308 (2607)\ttotal: 18m 25s\tremaining: 3m 14s\n"
     ]
    },
    {
     "name": "stdout",
     "output_type": "stream",
     "text": [
      "4275:\tlearn: 0.8812866\ttest: 0.7996635\tbest: 0.8020308 (2607)\ttotal: 18m 32s\tremaining: 3m 8s\n"
     ]
    },
    {
     "name": "stdout",
     "output_type": "stream",
     "text": [
      "4300:\tlearn: 0.8814533\ttest: 0.7998341\tbest: 0.8020308 (2607)\ttotal: 18m 38s\tremaining: 3m 1s\n"
     ]
    },
    {
     "name": "stdout",
     "output_type": "stream",
     "text": [
      "4325:\tlearn: 0.8820445\ttest: 0.8001272\tbest: 0.8020308 (2607)\ttotal: 18m 45s\tremaining: 2m 55s\n"
     ]
    },
    {
     "name": "stdout",
     "output_type": "stream",
     "text": [
      "4350:\tlearn: 0.8825600\ttest: 0.8001038\tbest: 0.8020308 (2607)\ttotal: 18m 51s\tremaining: 2m 48s\n"
     ]
    },
    {
     "name": "stdout",
     "output_type": "stream",
     "text": [
      "4375:\tlearn: 0.8829344\ttest: 0.8001470\tbest: 0.8020308 (2607)\ttotal: 18m 58s\tremaining: 2m 42s\n"
     ]
    },
    {
     "name": "stdout",
     "output_type": "stream",
     "text": [
      "4400:\tlearn: 0.8833501\ttest: 0.8001530\tbest: 0.8020308 (2607)\ttotal: 19m 4s\tremaining: 2m 35s\n"
     ]
    },
    {
     "name": "stdout",
     "output_type": "stream",
     "text": [
      "4425:\tlearn: 0.8836896\ttest: 0.7999668\tbest: 0.8020308 (2607)\ttotal: 19m 11s\tremaining: 2m 29s\n"
     ]
    },
    {
     "name": "stdout",
     "output_type": "stream",
     "text": [
      "4450:\tlearn: 0.8841495\ttest: 0.8000064\tbest: 0.8020308 (2607)\ttotal: 19m 17s\tremaining: 2m 22s\n"
     ]
    },
    {
     "name": "stdout",
     "output_type": "stream",
     "text": [
      "4475:\tlearn: 0.8843955\ttest: 0.7999415\tbest: 0.8020308 (2607)\ttotal: 19m 24s\tremaining: 2m 16s\n"
     ]
    },
    {
     "name": "stdout",
     "output_type": "stream",
     "text": [
      "4500:\tlearn: 0.8848257\ttest: 0.8000272\tbest: 0.8020308 (2607)\ttotal: 19m 30s\tremaining: 2m 9s\n"
     ]
    },
    {
     "name": "stdout",
     "output_type": "stream",
     "text": [
      "4525:\tlearn: 0.8852780\ttest: 0.7999922\tbest: 0.8020308 (2607)\ttotal: 19m 37s\tremaining: 2m 3s\n"
     ]
    },
    {
     "name": "stdout",
     "output_type": "stream",
     "text": [
      "4550:\tlearn: 0.8854581\ttest: 0.7998864\tbest: 0.8020308 (2607)\ttotal: 19m 43s\tremaining: 1m 56s\n"
     ]
    },
    {
     "name": "stdout",
     "output_type": "stream",
     "text": [
      "4575:\tlearn: 0.8858853\ttest: 0.8000388\tbest: 0.8020308 (2607)\ttotal: 19m 50s\tremaining: 1m 50s\n"
     ]
    },
    {
     "name": "stdout",
     "output_type": "stream",
     "text": [
      "4600:\tlearn: 0.8863717\ttest: 0.7999554\tbest: 0.8020308 (2607)\ttotal: 19m 56s\tremaining: 1m 43s\n"
     ]
    },
    {
     "name": "stdout",
     "output_type": "stream",
     "text": [
      "4625:\tlearn: 0.8868145\ttest: 0.8000226\tbest: 0.8020308 (2607)\ttotal: 20m 3s\tremaining: 1m 37s\n"
     ]
    },
    {
     "name": "stdout",
     "output_type": "stream",
     "text": [
      "4650:\tlearn: 0.8872059\ttest: 0.8003388\tbest: 0.8020308 (2607)\ttotal: 20m 9s\tremaining: 1m 30s\n"
     ]
    },
    {
     "name": "stdout",
     "output_type": "stream",
     "text": [
      "4675:\tlearn: 0.8877407\ttest: 0.7999647\tbest: 0.8020308 (2607)\ttotal: 20m 16s\tremaining: 1m 24s\n"
     ]
    },
    {
     "name": "stdout",
     "output_type": "stream",
     "text": [
      "4700:\tlearn: 0.8881832\ttest: 0.7996450\tbest: 0.8020308 (2607)\ttotal: 20m 22s\tremaining: 1m 17s\n"
     ]
    },
    {
     "name": "stdout",
     "output_type": "stream",
     "text": [
      "4725:\tlearn: 0.8884255\ttest: 0.8000513\tbest: 0.8020308 (2607)\ttotal: 20m 29s\tremaining: 1m 11s\n"
     ]
    },
    {
     "name": "stdout",
     "output_type": "stream",
     "text": [
      "4750:\tlearn: 0.8889318\ttest: 0.8003427\tbest: 0.8020308 (2607)\ttotal: 20m 36s\tremaining: 1m 4s\n"
     ]
    },
    {
     "name": "stdout",
     "output_type": "stream",
     "text": [
      "4775:\tlearn: 0.8891943\ttest: 0.8003207\tbest: 0.8020308 (2607)\ttotal: 20m 42s\tremaining: 58.3s\n"
     ]
    },
    {
     "name": "stdout",
     "output_type": "stream",
     "text": [
      "4800:\tlearn: 0.8896545\ttest: 0.7998113\tbest: 0.8020308 (2607)\ttotal: 20m 49s\tremaining: 51.8s\n"
     ]
    },
    {
     "name": "stdout",
     "output_type": "stream",
     "text": [
      "4825:\tlearn: 0.8900898\ttest: 0.7997724\tbest: 0.8020308 (2607)\ttotal: 20m 55s\tremaining: 45.3s\n"
     ]
    },
    {
     "name": "stdout",
     "output_type": "stream",
     "text": [
      "4850:\tlearn: 0.8905911\ttest: 0.8000844\tbest: 0.8020308 (2607)\ttotal: 21m 2s\tremaining: 38.8s\n"
     ]
    },
    {
     "name": "stdout",
     "output_type": "stream",
     "text": [
      "4875:\tlearn: 0.8908661\ttest: 0.8002967\tbest: 0.8020308 (2607)\ttotal: 21m 8s\tremaining: 32.3s\n"
     ]
    },
    {
     "name": "stdout",
     "output_type": "stream",
     "text": [
      "4900:\tlearn: 0.8912737\ttest: 0.8006334\tbest: 0.8020308 (2607)\ttotal: 21m 15s\tremaining: 25.8s\n"
     ]
    },
    {
     "name": "stdout",
     "output_type": "stream",
     "text": [
      "4925:\tlearn: 0.8917529\ttest: 0.8006518\tbest: 0.8020308 (2607)\ttotal: 21m 21s\tremaining: 19.3s\n"
     ]
    },
    {
     "name": "stdout",
     "output_type": "stream",
     "text": [
      "4950:\tlearn: 0.8923741\ttest: 0.8006946\tbest: 0.8020308 (2607)\ttotal: 21m 27s\tremaining: 12.7s\n"
     ]
    },
    {
     "name": "stdout",
     "output_type": "stream",
     "text": [
      "4975:\tlearn: 0.8927209\ttest: 0.8006559\tbest: 0.8020308 (2607)\ttotal: 21m 34s\tremaining: 6.24s\n"
     ]
    },
    {
     "name": "stdout",
     "output_type": "stream",
     "text": [
      "4999:\tlearn: 0.8929870\ttest: 0.8004889\tbest: 0.8020308 (2607)\ttotal: 21m 40s\tremaining: 0us\n",
      "\n",
      "bestTest = 0.8020308129\n",
      "bestIteration = 2607\n",
      "\n"
     ]
    },
    {
     "name": "stdout",
     "output_type": "stream",
     "text": [
      "Training time: 109.10861806074779 min.\n"
     ]
    },
    {
     "name": "stdout",
     "output_type": "stream",
     "text": [
      "OOF recall_at4: 0.6684788097081495\n"
     ]
    },
    {
     "name": "stdout",
     "output_type": "stream",
     "text": [
      "OOF normalized_gini: 0.9249124511173312\n"
     ]
    },
    {
     "name": "stdout",
     "output_type": "stream",
     "text": [
      "OOF competition metric: 0.7966956304127404\n"
     ]
    },
    {
     "name": "stdout",
     "output_type": "stream",
     "text": [
      "############################### repeated cross-validation step: 2/3 ################################\n"
     ]
    },
    {
     "name": "stdout",
     "output_type": "stream",
     "text": [
      "######################################## training model 1/5 ########################################\n"
     ]
    },
    {
     "name": "stdout",
     "output_type": "stream",
     "text": [
      "0:\tlearn: 0.5870929\ttest: 0.5841499\tbest: 0.5841499 (0)\ttotal: 581ms\tremaining: 48m 23s\n"
     ]
    },
    {
     "name": "stdout",
     "output_type": "stream",
     "text": [
      "25:\tlearn: 0.7245948\ttest: 0.7261301\tbest: 0.7261301 (25)\ttotal: 7s\tremaining: 22m 19s\n"
     ]
    },
    {
     "name": "stdout",
     "output_type": "stream",
     "text": [
      "50:\tlearn: 0.7416306\ttest: 0.7450591\tbest: 0.7450591 (50)\ttotal: 13.5s\tremaining: 21m 48s\n"
     ]
    },
    {
     "name": "stdout",
     "output_type": "stream",
     "text": [
      "75:\tlearn: 0.7499477\ttest: 0.7528788\tbest: 0.7531751 (74)\ttotal: 20s\tremaining: 21m 38s\n"
     ]
    },
    {
     "name": "stdout",
     "output_type": "stream",
     "text": [
      "100:\tlearn: 0.7570022\ttest: 0.7601104\tbest: 0.7601104 (100)\ttotal: 26.6s\tremaining: 21m 31s\n"
     ]
    },
    {
     "name": "stdout",
     "output_type": "stream",
     "text": [
      "125:\tlearn: 0.7601521\ttest: 0.7634361\tbest: 0.7634361 (125)\ttotal: 33.1s\tremaining: 21m 19s\n"
     ]
    },
    {
     "name": "stdout",
     "output_type": "stream",
     "text": [
      "150:\tlearn: 0.7632059\ttest: 0.7659135\tbest: 0.7659135 (150)\ttotal: 39.6s\tremaining: 21m 11s\n"
     ]
    },
    {
     "name": "stdout",
     "output_type": "stream",
     "text": [
      "175:\tlearn: 0.7660494\ttest: 0.7686542\tbest: 0.7686542 (175)\ttotal: 46.1s\tremaining: 21m 2s\n"
     ]
    },
    {
     "name": "stdout",
     "output_type": "stream",
     "text": [
      "200:\tlearn: 0.7680761\ttest: 0.7703603\tbest: 0.7705984 (199)\ttotal: 52.6s\tremaining: 20m 55s\n"
     ]
    },
    {
     "name": "stdout",
     "output_type": "stream",
     "text": [
      "225:\tlearn: 0.7695138\ttest: 0.7712168\tbest: 0.7712168 (225)\ttotal: 59.1s\tremaining: 20m 47s\n"
     ]
    },
    {
     "name": "stdout",
     "output_type": "stream",
     "text": [
      "250:\tlearn: 0.7711280\ttest: 0.7727832\tbest: 0.7727832 (250)\ttotal: 1m 5s\tremaining: 20m 41s\n"
     ]
    },
    {
     "name": "stdout",
     "output_type": "stream",
     "text": [
      "275:\tlearn: 0.7736313\ttest: 0.7747329\tbest: 0.7747329 (275)\ttotal: 1m 12s\tremaining: 20m 34s\n"
     ]
    },
    {
     "name": "stdout",
     "output_type": "stream",
     "text": [
      "300:\tlearn: 0.7768866\ttest: 0.7777225\tbest: 0.7777225 (300)\ttotal: 1m 18s\tremaining: 20m 27s\n"
     ]
    },
    {
     "name": "stdout",
     "output_type": "stream",
     "text": [
      "325:\tlearn: 0.7802039\ttest: 0.7820175\tbest: 0.7820269 (324)\ttotal: 1m 25s\tremaining: 20m 21s\n"
     ]
    },
    {
     "name": "stdout",
     "output_type": "stream",
     "text": [
      "350:\tlearn: 0.7831410\ttest: 0.7842335\tbest: 0.7842335 (350)\ttotal: 1m 31s\tremaining: 20m 15s\n"
     ]
    },
    {
     "name": "stdout",
     "output_type": "stream",
     "text": [
      "375:\tlearn: 0.7859188\ttest: 0.7864281\tbest: 0.7864281 (375)\ttotal: 1m 38s\tremaining: 20m 9s\n"
     ]
    },
    {
     "name": "stdout",
     "output_type": "stream",
     "text": [
      "400:\tlearn: 0.7878605\ttest: 0.7873616\tbest: 0.7874563 (396)\ttotal: 1m 44s\tremaining: 20m 2s\n"
     ]
    },
    {
     "name": "stdout",
     "output_type": "stream",
     "text": [
      "425:\tlearn: 0.7899453\ttest: 0.7876945\tbest: 0.7877893 (422)\ttotal: 1m 51s\tremaining: 19m 55s\n"
     ]
    },
    {
     "name": "stdout",
     "output_type": "stream",
     "text": [
      "450:\tlearn: 0.7914233\ttest: 0.7881190\tbest: 0.7884884 (446)\ttotal: 1m 57s\tremaining: 19m 48s\n"
     ]
    },
    {
     "name": "stdout",
     "output_type": "stream",
     "text": [
      "475:\tlearn: 0.7928241\ttest: 0.7889530\tbest: 0.7898003 (468)\ttotal: 2m 4s\tremaining: 19m 41s\n"
     ]
    },
    {
     "name": "stdout",
     "output_type": "stream",
     "text": [
      "500:\tlearn: 0.7942345\ttest: 0.7902640\tbest: 0.7902640 (500)\ttotal: 2m 10s\tremaining: 19m 34s\n"
     ]
    },
    {
     "name": "stdout",
     "output_type": "stream",
     "text": [
      "525:\tlearn: 0.7955116\ttest: 0.7906126\tbest: 0.7906126 (525)\ttotal: 2m 17s\tremaining: 19m 28s\n"
     ]
    },
    {
     "name": "stdout",
     "output_type": "stream",
     "text": [
      "550:\tlearn: 0.7967995\ttest: 0.7912328\tbest: 0.7912328 (550)\ttotal: 2m 23s\tremaining: 19m 21s\n"
     ]
    },
    {
     "name": "stdout",
     "output_type": "stream",
     "text": [
      "575:\tlearn: 0.7975248\ttest: 0.7918967\tbest: 0.7918967 (575)\ttotal: 2m 30s\tremaining: 19m 14s\n"
     ]
    },
    {
     "name": "stdout",
     "output_type": "stream",
     "text": [
      "600:\tlearn: 0.7985623\ttest: 0.7923387\tbest: 0.7923859 (596)\ttotal: 2m 36s\tremaining: 19m 7s\n"
     ]
    },
    {
     "name": "stdout",
     "output_type": "stream",
     "text": [
      "625:\tlearn: 0.7995094\ttest: 0.7923658\tbest: 0.7926146 (623)\ttotal: 2m 43s\tremaining: 19m\n"
     ]
    },
    {
     "name": "stdout",
     "output_type": "stream",
     "text": [
      "650:\tlearn: 0.8005019\ttest: 0.7934663\tbest: 0.7934663 (650)\ttotal: 2m 49s\tremaining: 18m 54s\n"
     ]
    },
    {
     "name": "stdout",
     "output_type": "stream",
     "text": [
      "675:\tlearn: 0.8013409\ttest: 0.7938332\tbest: 0.7940277 (669)\ttotal: 2m 56s\tremaining: 18m 47s\n"
     ]
    },
    {
     "name": "stdout",
     "output_type": "stream",
     "text": [
      "700:\tlearn: 0.8023112\ttest: 0.7944359\tbest: 0.7944359 (700)\ttotal: 3m 2s\tremaining: 18m 40s\n"
     ]
    },
    {
     "name": "stdout",
     "output_type": "stream",
     "text": [
      "725:\tlearn: 0.8031701\ttest: 0.7951967\tbest: 0.7952983 (724)\ttotal: 3m 9s\tremaining: 18m 33s\n"
     ]
    },
    {
     "name": "stdout",
     "output_type": "stream",
     "text": [
      "750:\tlearn: 0.8039739\ttest: 0.7949520\tbest: 0.7952983 (724)\ttotal: 3m 15s\tremaining: 18m 26s\n"
     ]
    },
    {
     "name": "stdout",
     "output_type": "stream",
     "text": [
      "775:\tlearn: 0.8050332\ttest: 0.7954174\tbest: 0.7954174 (775)\ttotal: 3m 22s\tremaining: 18m 20s\n"
     ]
    },
    {
     "name": "stdout",
     "output_type": "stream",
     "text": [
      "800:\tlearn: 0.8057373\ttest: 0.7952986\tbest: 0.7954846 (789)\ttotal: 3m 28s\tremaining: 18m 13s\n"
     ]
    },
    {
     "name": "stdout",
     "output_type": "stream",
     "text": [
      "825:\tlearn: 0.8065405\ttest: 0.7959224\tbest: 0.7959224 (825)\ttotal: 3m 35s\tremaining: 18m 7s\n"
     ]
    },
    {
     "name": "stdout",
     "output_type": "stream",
     "text": [
      "850:\tlearn: 0.8076947\ttest: 0.7957902\tbest: 0.7959224 (825)\ttotal: 3m 41s\tremaining: 18m\n"
     ]
    },
    {
     "name": "stdout",
     "output_type": "stream",
     "text": [
      "875:\tlearn: 0.8082978\ttest: 0.7964956\tbest: 0.7965962 (871)\ttotal: 3m 48s\tremaining: 17m 53s\n"
     ]
    },
    {
     "name": "stdout",
     "output_type": "stream",
     "text": [
      "900:\tlearn: 0.8092939\ttest: 0.7962294\tbest: 0.7965962 (871)\ttotal: 3m 54s\tremaining: 17m 46s\n"
     ]
    },
    {
     "name": "stdout",
     "output_type": "stream",
     "text": [
      "925:\tlearn: 0.8099067\ttest: 0.7970558\tbest: 0.7973463 (923)\ttotal: 4m\tremaining: 17m 40s\n"
     ]
    },
    {
     "name": "stdout",
     "output_type": "stream",
     "text": [
      "950:\tlearn: 0.8105471\ttest: 0.7969378\tbest: 0.7973463 (923)\ttotal: 4m 7s\tremaining: 17m 33s\n"
     ]
    },
    {
     "name": "stdout",
     "output_type": "stream",
     "text": [
      "975:\tlearn: 0.8114146\ttest: 0.7969689\tbest: 0.7973463 (923)\ttotal: 4m 13s\tremaining: 17m 27s\n"
     ]
    },
    {
     "name": "stdout",
     "output_type": "stream",
     "text": [
      "1000:\tlearn: 0.8120643\ttest: 0.7974415\tbest: 0.7974415 (1000)\ttotal: 4m 20s\tremaining: 17m 20s\n"
     ]
    },
    {
     "name": "stdout",
     "output_type": "stream",
     "text": [
      "1025:\tlearn: 0.8131015\ttest: 0.7975606\tbest: 0.7975606 (1025)\ttotal: 4m 26s\tremaining: 17m 13s\n"
     ]
    },
    {
     "name": "stdout",
     "output_type": "stream",
     "text": [
      "1050:\tlearn: 0.8135731\ttest: 0.7977657\tbest: 0.7977657 (1050)\ttotal: 4m 33s\tremaining: 17m 6s\n"
     ]
    },
    {
     "name": "stdout",
     "output_type": "stream",
     "text": [
      "1075:\tlearn: 0.8141514\ttest: 0.7978114\tbest: 0.7980256 (1060)\ttotal: 4m 39s\tremaining: 17m\n"
     ]
    },
    {
     "name": "stdout",
     "output_type": "stream",
     "text": [
      "1100:\tlearn: 0.8150977\ttest: 0.7978176\tbest: 0.7981192 (1086)\ttotal: 4m 46s\tremaining: 16m 54s\n"
     ]
    },
    {
     "name": "stdout",
     "output_type": "stream",
     "text": [
      "1125:\tlearn: 0.8158838\ttest: 0.7981246\tbest: 0.7983945 (1116)\ttotal: 4m 52s\tremaining: 16m 47s\n"
     ]
    },
    {
     "name": "stdout",
     "output_type": "stream",
     "text": [
      "1150:\tlearn: 0.8168686\ttest: 0.7982103\tbest: 0.7985438 (1144)\ttotal: 4m 59s\tremaining: 16m 40s\n"
     ]
    },
    {
     "name": "stdout",
     "output_type": "stream",
     "text": [
      "1175:\tlearn: 0.8175319\ttest: 0.7984630\tbest: 0.7987349 (1170)\ttotal: 5m 5s\tremaining: 16m 34s\n"
     ]
    },
    {
     "name": "stdout",
     "output_type": "stream",
     "text": [
      "1200:\tlearn: 0.8181879\ttest: 0.7982460\tbest: 0.7987349 (1170)\ttotal: 5m 12s\tremaining: 16m 27s\n"
     ]
    },
    {
     "name": "stdout",
     "output_type": "stream",
     "text": [
      "1225:\tlearn: 0.8191277\ttest: 0.7986892\tbest: 0.7987349 (1170)\ttotal: 5m 18s\tremaining: 16m 21s\n"
     ]
    },
    {
     "name": "stdout",
     "output_type": "stream",
     "text": [
      "1250:\tlearn: 0.8197457\ttest: 0.7986614\tbest: 0.7987349 (1170)\ttotal: 5m 25s\tremaining: 16m 14s\n"
     ]
    },
    {
     "name": "stdout",
     "output_type": "stream",
     "text": [
      "1275:\tlearn: 0.8206940\ttest: 0.7989624\tbest: 0.7989951 (1263)\ttotal: 5m 31s\tremaining: 16m 8s\n"
     ]
    },
    {
     "name": "stdout",
     "output_type": "stream",
     "text": [
      "1300:\tlearn: 0.8212551\ttest: 0.7992826\tbest: 0.7992826 (1300)\ttotal: 5m 38s\tremaining: 16m 1s\n"
     ]
    },
    {
     "name": "stdout",
     "output_type": "stream",
     "text": [
      "1325:\tlearn: 0.8219267\ttest: 0.7985911\tbest: 0.7992826 (1300)\ttotal: 5m 44s\tremaining: 15m 54s\n"
     ]
    },
    {
     "name": "stdout",
     "output_type": "stream",
     "text": [
      "1350:\tlearn: 0.8225420\ttest: 0.7985988\tbest: 0.7992826 (1300)\ttotal: 5m 51s\tremaining: 15m 48s\n"
     ]
    },
    {
     "name": "stdout",
     "output_type": "stream",
     "text": [
      "1375:\tlearn: 0.8230990\ttest: 0.7987436\tbest: 0.7992826 (1300)\ttotal: 5m 57s\tremaining: 15m 41s\n"
     ]
    },
    {
     "name": "stdout",
     "output_type": "stream",
     "text": [
      "1400:\tlearn: 0.8238567\ttest: 0.7989183\tbest: 0.7992826 (1300)\ttotal: 6m 4s\tremaining: 15m 35s\n"
     ]
    },
    {
     "name": "stdout",
     "output_type": "stream",
     "text": [
      "1425:\tlearn: 0.8245031\ttest: 0.7991273\tbest: 0.7992826 (1300)\ttotal: 6m 10s\tremaining: 15m 28s\n"
     ]
    },
    {
     "name": "stdout",
     "output_type": "stream",
     "text": [
      "1450:\tlearn: 0.8252769\ttest: 0.7987806\tbest: 0.7992826 (1300)\ttotal: 6m 17s\tremaining: 15m 22s\n"
     ]
    },
    {
     "name": "stdout",
     "output_type": "stream",
     "text": [
      "1475:\tlearn: 0.8259173\ttest: 0.7988593\tbest: 0.7992826 (1300)\ttotal: 6m 23s\tremaining: 15m 15s\n"
     ]
    },
    {
     "name": "stdout",
     "output_type": "stream",
     "text": [
      "1500:\tlearn: 0.8266243\ttest: 0.7988732\tbest: 0.7994527 (1485)\ttotal: 6m 30s\tremaining: 15m 9s\n"
     ]
    },
    {
     "name": "stdout",
     "output_type": "stream",
     "text": [
      "1525:\tlearn: 0.8272973\ttest: 0.7988852\tbest: 0.7994527 (1485)\ttotal: 6m 36s\tremaining: 15m 2s\n"
     ]
    },
    {
     "name": "stdout",
     "output_type": "stream",
     "text": [
      "1550:\tlearn: 0.8280485\ttest: 0.7990256\tbest: 0.7994527 (1485)\ttotal: 6m 42s\tremaining: 14m 55s\n"
     ]
    },
    {
     "name": "stdout",
     "output_type": "stream",
     "text": [
      "1575:\tlearn: 0.8287566\ttest: 0.7990182\tbest: 0.7994527 (1485)\ttotal: 6m 49s\tremaining: 14m 49s\n"
     ]
    },
    {
     "name": "stdout",
     "output_type": "stream",
     "text": [
      "1600:\tlearn: 0.8294635\ttest: 0.7987959\tbest: 0.7994527 (1485)\ttotal: 6m 55s\tremaining: 14m 43s\n"
     ]
    },
    {
     "name": "stdout",
     "output_type": "stream",
     "text": [
      "1625:\tlearn: 0.8301219\ttest: 0.7992935\tbest: 0.7994527 (1485)\ttotal: 7m 2s\tremaining: 14m 36s\n"
     ]
    },
    {
     "name": "stdout",
     "output_type": "stream",
     "text": [
      "1650:\tlearn: 0.8307135\ttest: 0.7994109\tbest: 0.7997047 (1643)\ttotal: 7m 8s\tremaining: 14m 29s\n"
     ]
    },
    {
     "name": "stdout",
     "output_type": "stream",
     "text": [
      "1675:\tlearn: 0.8315305\ttest: 0.7996002\tbest: 0.7997404 (1666)\ttotal: 7m 15s\tremaining: 14m 23s\n"
     ]
    },
    {
     "name": "stdout",
     "output_type": "stream",
     "text": [
      "1700:\tlearn: 0.8320009\ttest: 0.7995698\tbest: 0.7997404 (1666)\ttotal: 7m 21s\tremaining: 14m 17s\n"
     ]
    },
    {
     "name": "stdout",
     "output_type": "stream",
     "text": [
      "1725:\tlearn: 0.8325434\ttest: 0.7995836\tbest: 0.7998091 (1712)\ttotal: 7m 28s\tremaining: 14m 10s\n"
     ]
    },
    {
     "name": "stdout",
     "output_type": "stream",
     "text": [
      "1750:\tlearn: 0.8330745\ttest: 0.7997197\tbest: 0.7998664 (1742)\ttotal: 7m 34s\tremaining: 14m 3s\n"
     ]
    },
    {
     "name": "stdout",
     "output_type": "stream",
     "text": [
      "1775:\tlearn: 0.8335952\ttest: 0.7995836\tbest: 0.7998664 (1742)\ttotal: 7m 41s\tremaining: 13m 57s\n"
     ]
    },
    {
     "name": "stdout",
     "output_type": "stream",
     "text": [
      "1800:\tlearn: 0.8340181\ttest: 0.7993169\tbest: 0.7998664 (1742)\ttotal: 7m 47s\tremaining: 13m 50s\n"
     ]
    },
    {
     "name": "stdout",
     "output_type": "stream",
     "text": [
      "1825:\tlearn: 0.8347166\ttest: 0.7994930\tbest: 0.7998664 (1742)\ttotal: 7m 54s\tremaining: 13m 44s\n"
     ]
    },
    {
     "name": "stdout",
     "output_type": "stream",
     "text": [
      "1850:\tlearn: 0.8353145\ttest: 0.7995409\tbest: 0.7998664 (1742)\ttotal: 8m\tremaining: 13m 37s\n"
     ]
    },
    {
     "name": "stdout",
     "output_type": "stream",
     "text": [
      "1875:\tlearn: 0.8357145\ttest: 0.7997552\tbest: 0.7998664 (1742)\ttotal: 8m 7s\tremaining: 13m 31s\n"
     ]
    },
    {
     "name": "stdout",
     "output_type": "stream",
     "text": [
      "1900:\tlearn: 0.8362495\ttest: 0.8001557\tbest: 0.8002592 (1899)\ttotal: 8m 13s\tremaining: 13m 24s\n"
     ]
    },
    {
     "name": "stdout",
     "output_type": "stream",
     "text": [
      "1925:\tlearn: 0.8367184\ttest: 0.7998953\tbest: 0.8002592 (1899)\ttotal: 8m 19s\tremaining: 13m 17s\n"
     ]
    },
    {
     "name": "stdout",
     "output_type": "stream",
     "text": [
      "1950:\tlearn: 0.8373207\ttest: 0.7998792\tbest: 0.8002592 (1899)\ttotal: 8m 26s\tremaining: 13m 11s\n"
     ]
    },
    {
     "name": "stdout",
     "output_type": "stream",
     "text": [
      "1975:\tlearn: 0.8377872\ttest: 0.8001135\tbest: 0.8002592 (1899)\ttotal: 8m 32s\tremaining: 13m 4s\n"
     ]
    },
    {
     "name": "stdout",
     "output_type": "stream",
     "text": [
      "2000:\tlearn: 0.8384888\ttest: 0.8000752\tbest: 0.8002592 (1899)\ttotal: 8m 39s\tremaining: 12m 58s\n"
     ]
    },
    {
     "name": "stdout",
     "output_type": "stream",
     "text": [
      "2025:\tlearn: 0.8390856\ttest: 0.8002319\tbest: 0.8002956 (2024)\ttotal: 8m 45s\tremaining: 12m 51s\n"
     ]
    },
    {
     "name": "stdout",
     "output_type": "stream",
     "text": [
      "2050:\tlearn: 0.8395436\ttest: 0.8001939\tbest: 0.8003381 (2040)\ttotal: 8m 52s\tremaining: 12m 45s\n"
     ]
    },
    {
     "name": "stdout",
     "output_type": "stream",
     "text": [
      "2075:\tlearn: 0.8399994\ttest: 0.8000072\tbest: 0.8003381 (2040)\ttotal: 8m 58s\tremaining: 12m 38s\n"
     ]
    },
    {
     "name": "stdout",
     "output_type": "stream",
     "text": [
      "2100:\tlearn: 0.8407675\ttest: 0.8000760\tbest: 0.8003381 (2040)\ttotal: 9m 5s\tremaining: 12m 32s\n"
     ]
    },
    {
     "name": "stdout",
     "output_type": "stream",
     "text": [
      "2125:\tlearn: 0.8414076\ttest: 0.8001196\tbest: 0.8003381 (2040)\ttotal: 9m 11s\tremaining: 12m 25s\n"
     ]
    },
    {
     "name": "stdout",
     "output_type": "stream",
     "text": [
      "2150:\tlearn: 0.8420350\ttest: 0.7998899\tbest: 0.8003381 (2040)\ttotal: 9m 18s\tremaining: 12m 19s\n"
     ]
    },
    {
     "name": "stdout",
     "output_type": "stream",
     "text": [
      "2175:\tlearn: 0.8425984\ttest: 0.7996027\tbest: 0.8003381 (2040)\ttotal: 9m 24s\tremaining: 12m 12s\n"
     ]
    },
    {
     "name": "stdout",
     "output_type": "stream",
     "text": [
      "2200:\tlearn: 0.8430062\ttest: 0.7999049\tbest: 0.8003381 (2040)\ttotal: 9m 31s\tremaining: 12m 6s\n"
     ]
    },
    {
     "name": "stdout",
     "output_type": "stream",
     "text": [
      "2225:\tlearn: 0.8434396\ttest: 0.8003094\tbest: 0.8003381 (2040)\ttotal: 9m 37s\tremaining: 11m 59s\n"
     ]
    },
    {
     "name": "stdout",
     "output_type": "stream",
     "text": [
      "2250:\tlearn: 0.8438159\ttest: 0.7999097\tbest: 0.8003719 (2233)\ttotal: 9m 44s\tremaining: 11m 53s\n"
     ]
    },
    {
     "name": "stdout",
     "output_type": "stream",
     "text": [
      "2275:\tlearn: 0.8443295\ttest: 0.7998208\tbest: 0.8003719 (2233)\ttotal: 9m 50s\tremaining: 11m 46s\n"
     ]
    },
    {
     "name": "stdout",
     "output_type": "stream",
     "text": [
      "2300:\tlearn: 0.8447842\ttest: 0.7998025\tbest: 0.8003719 (2233)\ttotal: 9m 56s\tremaining: 11m 40s\n"
     ]
    },
    {
     "name": "stdout",
     "output_type": "stream",
     "text": [
      "2325:\tlearn: 0.8451740\ttest: 0.7999266\tbest: 0.8003719 (2233)\ttotal: 10m 3s\tremaining: 11m 33s\n"
     ]
    },
    {
     "name": "stdout",
     "output_type": "stream",
     "text": [
      "2350:\tlearn: 0.8457157\ttest: 0.7997265\tbest: 0.8003719 (2233)\ttotal: 10m 9s\tremaining: 11m 27s\n"
     ]
    },
    {
     "name": "stdout",
     "output_type": "stream",
     "text": [
      "2375:\tlearn: 0.8464051\ttest: 0.7999004\tbest: 0.8003719 (2233)\ttotal: 10m 16s\tremaining: 11m 20s\n"
     ]
    },
    {
     "name": "stdout",
     "output_type": "stream",
     "text": [
      "2400:\tlearn: 0.8468843\ttest: 0.8000062\tbest: 0.8003719 (2233)\ttotal: 10m 22s\tremaining: 11m 14s\n"
     ]
    },
    {
     "name": "stdout",
     "output_type": "stream",
     "text": [
      "2425:\tlearn: 0.8474718\ttest: 0.7999433\tbest: 0.8003719 (2233)\ttotal: 10m 29s\tremaining: 11m 7s\n"
     ]
    },
    {
     "name": "stdout",
     "output_type": "stream",
     "text": [
      "2450:\tlearn: 0.8479299\ttest: 0.7995649\tbest: 0.8003719 (2233)\ttotal: 10m 35s\tremaining: 11m 1s\n"
     ]
    },
    {
     "name": "stdout",
     "output_type": "stream",
     "text": [
      "2475:\tlearn: 0.8485317\ttest: 0.7999514\tbest: 0.8003719 (2233)\ttotal: 10m 42s\tremaining: 10m 54s\n"
     ]
    },
    {
     "name": "stdout",
     "output_type": "stream",
     "text": [
      "2500:\tlearn: 0.8490527\ttest: 0.8001048\tbest: 0.8003719 (2233)\ttotal: 10m 48s\tremaining: 10m 48s\n"
     ]
    },
    {
     "name": "stdout",
     "output_type": "stream",
     "text": [
      "2525:\tlearn: 0.8496648\ttest: 0.8004095\tbest: 0.8004097 (2524)\ttotal: 10m 54s\tremaining: 10m 41s\n"
     ]
    },
    {
     "name": "stdout",
     "output_type": "stream",
     "text": [
      "2550:\tlearn: 0.8501637\ttest: 0.8003333\tbest: 0.8004760 (2538)\ttotal: 11m 1s\tremaining: 10m 34s\n"
     ]
    },
    {
     "name": "stdout",
     "output_type": "stream",
     "text": [
      "2575:\tlearn: 0.8505746\ttest: 0.8000871\tbest: 0.8004760 (2538)\ttotal: 11m 7s\tremaining: 10m 28s\n"
     ]
    },
    {
     "name": "stdout",
     "output_type": "stream",
     "text": [
      "2600:\tlearn: 0.8511844\ttest: 0.7998436\tbest: 0.8004760 (2538)\ttotal: 11m 14s\tremaining: 10m 21s\n"
     ]
    },
    {
     "name": "stdout",
     "output_type": "stream",
     "text": [
      "2625:\tlearn: 0.8517071\ttest: 0.7999031\tbest: 0.8004760 (2538)\ttotal: 11m 20s\tremaining: 10m 15s\n"
     ]
    },
    {
     "name": "stdout",
     "output_type": "stream",
     "text": [
      "2650:\tlearn: 0.8523380\ttest: 0.7998636\tbest: 0.8004760 (2538)\ttotal: 11m 27s\tremaining: 10m 8s\n"
     ]
    },
    {
     "name": "stdout",
     "output_type": "stream",
     "text": [
      "2675:\tlearn: 0.8529579\ttest: 0.8001871\tbest: 0.8004760 (2538)\ttotal: 11m 33s\tremaining: 10m 2s\n"
     ]
    },
    {
     "name": "stdout",
     "output_type": "stream",
     "text": [
      "2700:\tlearn: 0.8536688\ttest: 0.8003525\tbest: 0.8004760 (2538)\ttotal: 11m 40s\tremaining: 9m 56s\n"
     ]
    },
    {
     "name": "stdout",
     "output_type": "stream",
     "text": [
      "2725:\tlearn: 0.8540352\ttest: 0.8002306\tbest: 0.8004760 (2538)\ttotal: 11m 46s\tremaining: 9m 49s\n"
     ]
    },
    {
     "name": "stdout",
     "output_type": "stream",
     "text": [
      "2750:\tlearn: 0.8545583\ttest: 0.8000464\tbest: 0.8004760 (2538)\ttotal: 11m 53s\tremaining: 9m 43s\n"
     ]
    },
    {
     "name": "stdout",
     "output_type": "stream",
     "text": [
      "2775:\tlearn: 0.8551234\ttest: 0.8004052\tbest: 0.8004760 (2538)\ttotal: 11m 59s\tremaining: 9m 36s\n"
     ]
    },
    {
     "name": "stdout",
     "output_type": "stream",
     "text": [
      "2800:\tlearn: 0.8556064\ttest: 0.8000693\tbest: 0.8004760 (2538)\ttotal: 12m 6s\tremaining: 9m 30s\n"
     ]
    },
    {
     "name": "stdout",
     "output_type": "stream",
     "text": [
      "2825:\tlearn: 0.8559965\ttest: 0.8003091\tbest: 0.8004760 (2538)\ttotal: 12m 12s\tremaining: 9m 23s\n"
     ]
    },
    {
     "name": "stdout",
     "output_type": "stream",
     "text": [
      "2850:\tlearn: 0.8566459\ttest: 0.7997252\tbest: 0.8004760 (2538)\ttotal: 12m 19s\tremaining: 9m 17s\n"
     ]
    },
    {
     "name": "stdout",
     "output_type": "stream",
     "text": [
      "2875:\tlearn: 0.8568836\ttest: 0.7996843\tbest: 0.8004760 (2538)\ttotal: 12m 25s\tremaining: 9m 10s\n"
     ]
    },
    {
     "name": "stdout",
     "output_type": "stream",
     "text": [
      "2900:\tlearn: 0.8574530\ttest: 0.7995460\tbest: 0.8004760 (2538)\ttotal: 12m 31s\tremaining: 9m 4s\n"
     ]
    },
    {
     "name": "stdout",
     "output_type": "stream",
     "text": [
      "2925:\tlearn: 0.8579980\ttest: 0.7996765\tbest: 0.8004760 (2538)\ttotal: 12m 38s\tremaining: 8m 57s\n"
     ]
    },
    {
     "name": "stdout",
     "output_type": "stream",
     "text": [
      "2950:\tlearn: 0.8584478\ttest: 0.7998308\tbest: 0.8004760 (2538)\ttotal: 12m 44s\tremaining: 8m 51s\n"
     ]
    },
    {
     "name": "stdout",
     "output_type": "stream",
     "text": [
      "2975:\tlearn: 0.8589425\ttest: 0.7995333\tbest: 0.8004760 (2538)\ttotal: 12m 51s\tremaining: 8m 44s\n"
     ]
    },
    {
     "name": "stdout",
     "output_type": "stream",
     "text": [
      "3000:\tlearn: 0.8594734\ttest: 0.7998284\tbest: 0.8004760 (2538)\ttotal: 12m 57s\tremaining: 8m 38s\n"
     ]
    },
    {
     "name": "stdout",
     "output_type": "stream",
     "text": [
      "3025:\tlearn: 0.8599810\ttest: 0.8001134\tbest: 0.8004760 (2538)\ttotal: 13m 4s\tremaining: 8m 31s\n"
     ]
    },
    {
     "name": "stdout",
     "output_type": "stream",
     "text": [
      "3050:\tlearn: 0.8605905\ttest: 0.7999033\tbest: 0.8004760 (2538)\ttotal: 13m 10s\tremaining: 8m 25s\n"
     ]
    },
    {
     "name": "stdout",
     "output_type": "stream",
     "text": [
      "3075:\tlearn: 0.8610827\ttest: 0.7995630\tbest: 0.8004760 (2538)\ttotal: 13m 17s\tremaining: 8m 18s\n"
     ]
    },
    {
     "name": "stdout",
     "output_type": "stream",
     "text": [
      "3100:\tlearn: 0.8616981\ttest: 0.7995662\tbest: 0.8004760 (2538)\ttotal: 13m 23s\tremaining: 8m 12s\n"
     ]
    },
    {
     "name": "stdout",
     "output_type": "stream",
     "text": [
      "3125:\tlearn: 0.8620027\ttest: 0.7991312\tbest: 0.8004760 (2538)\ttotal: 13m 30s\tremaining: 8m 5s\n"
     ]
    },
    {
     "name": "stdout",
     "output_type": "stream",
     "text": [
      "3150:\tlearn: 0.8624721\ttest: 0.7992358\tbest: 0.8004760 (2538)\ttotal: 13m 36s\tremaining: 7m 59s\n"
     ]
    },
    {
     "name": "stdout",
     "output_type": "stream",
     "text": [
      "3175:\tlearn: 0.8628067\ttest: 0.7992126\tbest: 0.8004760 (2538)\ttotal: 13m 43s\tremaining: 7m 52s\n"
     ]
    },
    {
     "name": "stdout",
     "output_type": "stream",
     "text": [
      "3200:\tlearn: 0.8634326\ttest: 0.7991290\tbest: 0.8004760 (2538)\ttotal: 13m 49s\tremaining: 7m 46s\n"
     ]
    },
    {
     "name": "stdout",
     "output_type": "stream",
     "text": [
      "3225:\tlearn: 0.8638912\ttest: 0.7991801\tbest: 0.8004760 (2538)\ttotal: 13m 56s\tremaining: 7m 39s\n"
     ]
    },
    {
     "name": "stdout",
     "output_type": "stream",
     "text": [
      "3250:\tlearn: 0.8645861\ttest: 0.7990922\tbest: 0.8004760 (2538)\ttotal: 14m 2s\tremaining: 7m 33s\n"
     ]
    },
    {
     "name": "stdout",
     "output_type": "stream",
     "text": [
      "3275:\tlearn: 0.8651383\ttest: 0.7992186\tbest: 0.8004760 (2538)\ttotal: 14m 8s\tremaining: 7m 26s\n"
     ]
    },
    {
     "name": "stdout",
     "output_type": "stream",
     "text": [
      "3300:\tlearn: 0.8653448\ttest: 0.7987912\tbest: 0.8004760 (2538)\ttotal: 14m 15s\tremaining: 7m 20s\n"
     ]
    },
    {
     "name": "stdout",
     "output_type": "stream",
     "text": [
      "3325:\tlearn: 0.8661277\ttest: 0.7992206\tbest: 0.8004760 (2538)\ttotal: 14m 21s\tremaining: 7m 13s\n"
     ]
    },
    {
     "name": "stdout",
     "output_type": "stream",
     "text": [
      "3350:\tlearn: 0.8665267\ttest: 0.7988819\tbest: 0.8004760 (2538)\ttotal: 14m 28s\tremaining: 7m 7s\n"
     ]
    },
    {
     "name": "stdout",
     "output_type": "stream",
     "text": [
      "3375:\tlearn: 0.8669615\ttest: 0.7996188\tbest: 0.8004760 (2538)\ttotal: 14m 34s\tremaining: 7m\n"
     ]
    },
    {
     "name": "stdout",
     "output_type": "stream",
     "text": [
      "3400:\tlearn: 0.8675476\ttest: 0.7993515\tbest: 0.8004760 (2538)\ttotal: 14m 41s\tremaining: 6m 54s\n"
     ]
    },
    {
     "name": "stdout",
     "output_type": "stream",
     "text": [
      "3425:\tlearn: 0.8679911\ttest: 0.7996966\tbest: 0.8004760 (2538)\ttotal: 14m 47s\tremaining: 6m 47s\n"
     ]
    },
    {
     "name": "stdout",
     "output_type": "stream",
     "text": [
      "3450:\tlearn: 0.8683677\ttest: 0.7996599\tbest: 0.8004760 (2538)\ttotal: 14m 54s\tremaining: 6m 41s\n"
     ]
    },
    {
     "name": "stdout",
     "output_type": "stream",
     "text": [
      "3475:\tlearn: 0.8688223\ttest: 0.7996460\tbest: 0.8004760 (2538)\ttotal: 15m\tremaining: 6m 34s\n"
     ]
    },
    {
     "name": "stdout",
     "output_type": "stream",
     "text": [
      "3500:\tlearn: 0.8695057\ttest: 0.7995225\tbest: 0.8004760 (2538)\ttotal: 15m 7s\tremaining: 6m 28s\n"
     ]
    },
    {
     "name": "stdout",
     "output_type": "stream",
     "text": [
      "3525:\tlearn: 0.8699521\ttest: 0.7996960\tbest: 0.8004760 (2538)\ttotal: 15m 13s\tremaining: 6m 21s\n"
     ]
    },
    {
     "name": "stdout",
     "output_type": "stream",
     "text": [
      "3550:\tlearn: 0.8705081\ttest: 0.7996213\tbest: 0.8004760 (2538)\ttotal: 15m 20s\tremaining: 6m 15s\n"
     ]
    },
    {
     "name": "stdout",
     "output_type": "stream",
     "text": [
      "3575:\tlearn: 0.8710100\ttest: 0.7997121\tbest: 0.8004760 (2538)\ttotal: 15m 26s\tremaining: 6m 8s\n"
     ]
    },
    {
     "name": "stdout",
     "output_type": "stream",
     "text": [
      "3600:\tlearn: 0.8714770\ttest: 0.7997627\tbest: 0.8004760 (2538)\ttotal: 15m 33s\tremaining: 6m 2s\n"
     ]
    },
    {
     "name": "stdout",
     "output_type": "stream",
     "text": [
      "3625:\tlearn: 0.8718663\ttest: 0.7999153\tbest: 0.8004760 (2538)\ttotal: 15m 39s\tremaining: 5m 55s\n"
     ]
    },
    {
     "name": "stdout",
     "output_type": "stream",
     "text": [
      "3650:\tlearn: 0.8723647\ttest: 0.7997521\tbest: 0.8004760 (2538)\ttotal: 15m 45s\tremaining: 5m 49s\n"
     ]
    },
    {
     "name": "stdout",
     "output_type": "stream",
     "text": [
      "3675:\tlearn: 0.8728419\ttest: 0.7998774\tbest: 0.8004760 (2538)\ttotal: 15m 52s\tremaining: 5m 43s\n"
     ]
    },
    {
     "name": "stdout",
     "output_type": "stream",
     "text": [
      "3700:\tlearn: 0.8733373\ttest: 0.8004667\tbest: 0.8005958 (3698)\ttotal: 15m 58s\tremaining: 5m 36s\n"
     ]
    },
    {
     "name": "stdout",
     "output_type": "stream",
     "text": [
      "3725:\tlearn: 0.8738073\ttest: 0.8003001\tbest: 0.8005958 (3698)\ttotal: 16m 5s\tremaining: 5m 30s\n"
     ]
    },
    {
     "name": "stdout",
     "output_type": "stream",
     "text": [
      "3750:\tlearn: 0.8742654\ttest: 0.8006434\tbest: 0.8007440 (3737)\ttotal: 16m 11s\tremaining: 5m 23s\n"
     ]
    },
    {
     "name": "stdout",
     "output_type": "stream",
     "text": [
      "3775:\tlearn: 0.8746386\ttest: 0.8006670\tbest: 0.8007440 (3737)\ttotal: 16m 18s\tremaining: 5m 17s\n"
     ]
    },
    {
     "name": "stdout",
     "output_type": "stream",
     "text": [
      "3800:\tlearn: 0.8749159\ttest: 0.8005667\tbest: 0.8007753 (3787)\ttotal: 16m 24s\tremaining: 5m 10s\n"
     ]
    },
    {
     "name": "stdout",
     "output_type": "stream",
     "text": [
      "3825:\tlearn: 0.8754916\ttest: 0.8002732\tbest: 0.8009628 (3808)\ttotal: 16m 31s\tremaining: 5m 4s\n"
     ]
    },
    {
     "name": "stdout",
     "output_type": "stream",
     "text": [
      "3850:\tlearn: 0.8759094\ttest: 0.8003442\tbest: 0.8009628 (3808)\ttotal: 16m 37s\tremaining: 4m 57s\n"
     ]
    },
    {
     "name": "stdout",
     "output_type": "stream",
     "text": [
      "3875:\tlearn: 0.8764543\ttest: 0.8005033\tbest: 0.8009628 (3808)\ttotal: 16m 44s\tremaining: 4m 51s\n"
     ]
    },
    {
     "name": "stdout",
     "output_type": "stream",
     "text": [
      "3900:\tlearn: 0.8767514\ttest: 0.8005273\tbest: 0.8009628 (3808)\ttotal: 16m 50s\tremaining: 4m 44s\n"
     ]
    },
    {
     "name": "stdout",
     "output_type": "stream",
     "text": [
      "3925:\tlearn: 0.8772288\ttest: 0.8003832\tbest: 0.8009628 (3808)\ttotal: 16m 57s\tremaining: 4m 38s\n"
     ]
    },
    {
     "name": "stdout",
     "output_type": "stream",
     "text": [
      "3950:\tlearn: 0.8775519\ttest: 0.8003366\tbest: 0.8009628 (3808)\ttotal: 17m 3s\tremaining: 4m 31s\n"
     ]
    },
    {
     "name": "stdout",
     "output_type": "stream",
     "text": [
      "3975:\tlearn: 0.8779352\ttest: 0.8005979\tbest: 0.8009628 (3808)\ttotal: 17m 10s\tremaining: 4m 25s\n"
     ]
    },
    {
     "name": "stdout",
     "output_type": "stream",
     "text": [
      "4000:\tlearn: 0.8783685\ttest: 0.8005157\tbest: 0.8009628 (3808)\ttotal: 17m 16s\tremaining: 4m 18s\n"
     ]
    },
    {
     "name": "stdout",
     "output_type": "stream",
     "text": [
      "4025:\tlearn: 0.8787749\ttest: 0.8005155\tbest: 0.8009628 (3808)\ttotal: 17m 22s\tremaining: 4m 12s\n"
     ]
    },
    {
     "name": "stdout",
     "output_type": "stream",
     "text": [
      "4050:\tlearn: 0.8793196\ttest: 0.8002893\tbest: 0.8009628 (3808)\ttotal: 17m 29s\tremaining: 4m 5s\n"
     ]
    },
    {
     "name": "stdout",
     "output_type": "stream",
     "text": [
      "4075:\tlearn: 0.8795913\ttest: 0.8001162\tbest: 0.8009628 (3808)\ttotal: 17m 36s\tremaining: 3m 59s\n"
     ]
    },
    {
     "name": "stdout",
     "output_type": "stream",
     "text": [
      "4100:\tlearn: 0.8801355\ttest: 0.8005777\tbest: 0.8009628 (3808)\ttotal: 17m 42s\tremaining: 3m 52s\n"
     ]
    },
    {
     "name": "stdout",
     "output_type": "stream",
     "text": [
      "4125:\tlearn: 0.8806411\ttest: 0.8000338\tbest: 0.8009628 (3808)\ttotal: 17m 48s\tremaining: 3m 46s\n"
     ]
    },
    {
     "name": "stdout",
     "output_type": "stream",
     "text": [
      "4150:\tlearn: 0.8809823\ttest: 0.7999186\tbest: 0.8009628 (3808)\ttotal: 17m 55s\tremaining: 3m 39s\n"
     ]
    },
    {
     "name": "stdout",
     "output_type": "stream",
     "text": [
      "4175:\tlearn: 0.8814241\ttest: 0.7998113\tbest: 0.8009628 (3808)\ttotal: 18m 1s\tremaining: 3m 33s\n"
     ]
    },
    {
     "name": "stdout",
     "output_type": "stream",
     "text": [
      "4200:\tlearn: 0.8818603\ttest: 0.8000631\tbest: 0.8009628 (3808)\ttotal: 18m 8s\tremaining: 3m 27s\n"
     ]
    },
    {
     "name": "stdout",
     "output_type": "stream",
     "text": [
      "4225:\tlearn: 0.8823639\ttest: 0.7998107\tbest: 0.8009628 (3808)\ttotal: 18m 14s\tremaining: 3m 20s\n"
     ]
    },
    {
     "name": "stdout",
     "output_type": "stream",
     "text": [
      "4250:\tlearn: 0.8828167\ttest: 0.7999570\tbest: 0.8009628 (3808)\ttotal: 18m 21s\tremaining: 3m 14s\n"
     ]
    },
    {
     "name": "stdout",
     "output_type": "stream",
     "text": [
      "4275:\tlearn: 0.8831396\ttest: 0.7997501\tbest: 0.8009628 (3808)\ttotal: 18m 27s\tremaining: 3m 7s\n"
     ]
    },
    {
     "name": "stdout",
     "output_type": "stream",
     "text": [
      "4300:\tlearn: 0.8834904\ttest: 0.7999801\tbest: 0.8009628 (3808)\ttotal: 18m 34s\tremaining: 3m 1s\n"
     ]
    },
    {
     "name": "stdout",
     "output_type": "stream",
     "text": [
      "4325:\tlearn: 0.8839608\ttest: 0.8001096\tbest: 0.8009628 (3808)\ttotal: 18m 40s\tremaining: 2m 54s\n"
     ]
    },
    {
     "name": "stdout",
     "output_type": "stream",
     "text": [
      "4350:\tlearn: 0.8842623\ttest: 0.8004849\tbest: 0.8009628 (3808)\ttotal: 18m 47s\tremaining: 2m 48s\n"
     ]
    },
    {
     "name": "stdout",
     "output_type": "stream",
     "text": [
      "4375:\tlearn: 0.8847400\ttest: 0.8003895\tbest: 0.8009628 (3808)\ttotal: 18m 53s\tremaining: 2m 41s\n"
     ]
    },
    {
     "name": "stdout",
     "output_type": "stream",
     "text": [
      "4400:\tlearn: 0.8850794\ttest: 0.8004748\tbest: 0.8009628 (3808)\ttotal: 19m\tremaining: 2m 35s\n"
     ]
    },
    {
     "name": "stdout",
     "output_type": "stream",
     "text": [
      "4425:\tlearn: 0.8855766\ttest: 0.8002893\tbest: 0.8009628 (3808)\ttotal: 19m 6s\tremaining: 2m 28s\n"
     ]
    },
    {
     "name": "stdout",
     "output_type": "stream",
     "text": [
      "4450:\tlearn: 0.8861671\ttest: 0.8002086\tbest: 0.8009628 (3808)\ttotal: 19m 13s\tremaining: 2m 22s\n"
     ]
    },
    {
     "name": "stdout",
     "output_type": "stream",
     "text": [
      "4475:\tlearn: 0.8866359\ttest: 0.8001257\tbest: 0.8009628 (3808)\ttotal: 19m 19s\tremaining: 2m 15s\n"
     ]
    },
    {
     "name": "stdout",
     "output_type": "stream",
     "text": [
      "4500:\tlearn: 0.8870583\ttest: 0.8000004\tbest: 0.8009628 (3808)\ttotal: 19m 26s\tremaining: 2m 9s\n"
     ]
    },
    {
     "name": "stdout",
     "output_type": "stream",
     "text": [
      "4525:\tlearn: 0.8873875\ttest: 0.8001227\tbest: 0.8009628 (3808)\ttotal: 19m 32s\tremaining: 2m 2s\n"
     ]
    },
    {
     "name": "stdout",
     "output_type": "stream",
     "text": [
      "4550:\tlearn: 0.8876942\ttest: 0.7996177\tbest: 0.8009628 (3808)\ttotal: 19m 38s\tremaining: 1m 56s\n"
     ]
    },
    {
     "name": "stdout",
     "output_type": "stream",
     "text": [
      "4575:\tlearn: 0.8880670\ttest: 0.7999135\tbest: 0.8009628 (3808)\ttotal: 19m 45s\tremaining: 1m 49s\n"
     ]
    },
    {
     "name": "stdout",
     "output_type": "stream",
     "text": [
      "4600:\tlearn: 0.8885036\ttest: 0.8000398\tbest: 0.8009628 (3808)\ttotal: 19m 51s\tremaining: 1m 43s\n"
     ]
    },
    {
     "name": "stdout",
     "output_type": "stream",
     "text": [
      "4625:\tlearn: 0.8889396\ttest: 0.8001019\tbest: 0.8009628 (3808)\ttotal: 19m 58s\tremaining: 1m 36s\n"
     ]
    },
    {
     "name": "stdout",
     "output_type": "stream",
     "text": [
      "4650:\tlearn: 0.8892580\ttest: 0.8000386\tbest: 0.8009628 (3808)\ttotal: 20m 4s\tremaining: 1m 30s\n"
     ]
    },
    {
     "name": "stdout",
     "output_type": "stream",
     "text": [
      "4675:\tlearn: 0.8896843\ttest: 0.7997874\tbest: 0.8009628 (3808)\ttotal: 20m 11s\tremaining: 1m 23s\n"
     ]
    },
    {
     "name": "stdout",
     "output_type": "stream",
     "text": [
      "4700:\tlearn: 0.8900135\ttest: 0.7998338\tbest: 0.8009628 (3808)\ttotal: 20m 17s\tremaining: 1m 17s\n"
     ]
    },
    {
     "name": "stdout",
     "output_type": "stream",
     "text": [
      "4725:\tlearn: 0.8904395\ttest: 0.7998786\tbest: 0.8009628 (3808)\ttotal: 20m 24s\tremaining: 1m 10s\n"
     ]
    },
    {
     "name": "stdout",
     "output_type": "stream",
     "text": [
      "4750:\tlearn: 0.8907675\ttest: 0.7999595\tbest: 0.8009628 (3808)\ttotal: 20m 30s\tremaining: 1m 4s\n"
     ]
    },
    {
     "name": "stdout",
     "output_type": "stream",
     "text": [
      "4775:\tlearn: 0.8912964\ttest: 0.7996419\tbest: 0.8009628 (3808)\ttotal: 20m 37s\tremaining: 58s\n"
     ]
    },
    {
     "name": "stdout",
     "output_type": "stream",
     "text": [
      "4800:\tlearn: 0.8916116\ttest: 0.7997895\tbest: 0.8009628 (3808)\ttotal: 20m 43s\tremaining: 51.6s\n"
     ]
    },
    {
     "name": "stdout",
     "output_type": "stream",
     "text": [
      "4825:\tlearn: 0.8920432\ttest: 0.7997703\tbest: 0.8009628 (3808)\ttotal: 20m 50s\tremaining: 45.1s\n"
     ]
    },
    {
     "name": "stdout",
     "output_type": "stream",
     "text": [
      "4850:\tlearn: 0.8923599\ttest: 0.7995836\tbest: 0.8009628 (3808)\ttotal: 20m 56s\tremaining: 38.6s\n"
     ]
    },
    {
     "name": "stdout",
     "output_type": "stream",
     "text": [
      "4875:\tlearn: 0.8927832\ttest: 0.7995056\tbest: 0.8009628 (3808)\ttotal: 21m 3s\tremaining: 32.1s\n"
     ]
    },
    {
     "name": "stdout",
     "output_type": "stream",
     "text": [
      "4900:\tlearn: 0.8931939\ttest: 0.8001398\tbest: 0.8009628 (3808)\ttotal: 21m 9s\tremaining: 25.6s\n"
     ]
    },
    {
     "name": "stdout",
     "output_type": "stream",
     "text": [
      "4925:\tlearn: 0.8935828\ttest: 0.7998263\tbest: 0.8009628 (3808)\ttotal: 21m 15s\tremaining: 19.2s\n"
     ]
    },
    {
     "name": "stdout",
     "output_type": "stream",
     "text": [
      "4950:\tlearn: 0.8938189\ttest: 0.7998291\tbest: 0.8009628 (3808)\ttotal: 21m 22s\tremaining: 12.7s\n"
     ]
    },
    {
     "name": "stdout",
     "output_type": "stream",
     "text": [
      "4975:\tlearn: 0.8943068\ttest: 0.7999536\tbest: 0.8009628 (3808)\ttotal: 21m 28s\tremaining: 6.22s\n"
     ]
    },
    {
     "name": "stdout",
     "output_type": "stream",
     "text": [
      "4999:\tlearn: 0.8944025\ttest: 0.7996809\tbest: 0.8009628 (3808)\ttotal: 21m 35s\tremaining: 0us\n",
      "\n",
      "bestTest = 0.8009628196\n",
      "bestIteration = 3808\n",
      "\n"
     ]
    },
    {
     "name": "stdout",
     "output_type": "stream",
     "text": [
      "######################################## training model 2/5 ########################################\n"
     ]
    },
    {
     "name": "stdout",
     "output_type": "stream",
     "text": [
      "0:\tlearn: 0.5866277\ttest: 0.5870684\tbest: 0.5870684 (0)\ttotal: 590ms\tremaining: 49m 10s\n"
     ]
    },
    {
     "name": "stdout",
     "output_type": "stream",
     "text": [
      "25:\tlearn: 0.7238850\ttest: 0.7234720\tbest: 0.7234720 (25)\ttotal: 7.04s\tremaining: 22m 27s\n"
     ]
    },
    {
     "name": "stdout",
     "output_type": "stream",
     "text": [
      "50:\tlearn: 0.7421135\ttest: 0.7413729\tbest: 0.7413729 (50)\ttotal: 13.5s\tremaining: 21m 54s\n"
     ]
    },
    {
     "name": "stdout",
     "output_type": "stream",
     "text": [
      "75:\tlearn: 0.7506530\ttest: 0.7503585\tbest: 0.7503585 (75)\ttotal: 20.1s\tremaining: 21m 39s\n"
     ]
    },
    {
     "name": "stdout",
     "output_type": "stream",
     "text": [
      "100:\tlearn: 0.7575642\ttest: 0.7560677\tbest: 0.7560677 (100)\ttotal: 26.6s\tremaining: 21m 29s\n"
     ]
    },
    {
     "name": "stdout",
     "output_type": "stream",
     "text": [
      "125:\tlearn: 0.7612531\ttest: 0.7591875\tbest: 0.7594134 (122)\ttotal: 33.1s\tremaining: 21m 18s\n"
     ]
    },
    {
     "name": "stdout",
     "output_type": "stream",
     "text": [
      "150:\tlearn: 0.7635774\ttest: 0.7619008\tbest: 0.7619008 (150)\ttotal: 39.6s\tremaining: 21m 10s\n"
     ]
    },
    {
     "name": "stdout",
     "output_type": "stream",
     "text": [
      "175:\tlearn: 0.7659762\ttest: 0.7650091\tbest: 0.7650091 (175)\ttotal: 46.1s\tremaining: 21m 2s\n"
     ]
    },
    {
     "name": "stdout",
     "output_type": "stream",
     "text": [
      "200:\tlearn: 0.7684993\ttest: 0.7670748\tbest: 0.7671077 (198)\ttotal: 52.6s\tremaining: 20m 55s\n"
     ]
    },
    {
     "name": "stdout",
     "output_type": "stream",
     "text": [
      "225:\tlearn: 0.7703683\ttest: 0.7678405\tbest: 0.7678646 (221)\ttotal: 59s\tremaining: 20m 46s\n"
     ]
    },
    {
     "name": "stdout",
     "output_type": "stream",
     "text": [
      "250:\tlearn: 0.7720099\ttest: 0.7695977\tbest: 0.7695977 (250)\ttotal: 1m 5s\tremaining: 20m 40s\n"
     ]
    },
    {
     "name": "stdout",
     "output_type": "stream",
     "text": [
      "275:\tlearn: 0.7742231\ttest: 0.7716881\tbest: 0.7717392 (273)\ttotal: 1m 12s\tremaining: 20m 33s\n"
     ]
    },
    {
     "name": "stdout",
     "output_type": "stream",
     "text": [
      "300:\tlearn: 0.7774812\ttest: 0.7739535\tbest: 0.7739535 (300)\ttotal: 1m 18s\tremaining: 20m 26s\n"
     ]
    },
    {
     "name": "stdout",
     "output_type": "stream",
     "text": [
      "325:\tlearn: 0.7813353\ttest: 0.7768043\tbest: 0.7768043 (325)\ttotal: 1m 25s\tremaining: 20m 20s\n"
     ]
    },
    {
     "name": "stdout",
     "output_type": "stream",
     "text": [
      "350:\tlearn: 0.7848219\ttest: 0.7801751\tbest: 0.7802309 (348)\ttotal: 1m 31s\tremaining: 20m 14s\n"
     ]
    },
    {
     "name": "stdout",
     "output_type": "stream",
     "text": [
      "375:\tlearn: 0.7870772\ttest: 0.7808022\tbest: 0.7811366 (372)\ttotal: 1m 38s\tremaining: 20m 8s\n"
     ]
    },
    {
     "name": "stdout",
     "output_type": "stream",
     "text": [
      "400:\tlearn: 0.7894284\ttest: 0.7817348\tbest: 0.7820150 (393)\ttotal: 1m 44s\tremaining: 20m 1s\n"
     ]
    },
    {
     "name": "stdout",
     "output_type": "stream",
     "text": [
      "425:\tlearn: 0.7910765\ttest: 0.7827632\tbest: 0.7827632 (425)\ttotal: 1m 51s\tremaining: 19m 54s\n"
     ]
    },
    {
     "name": "stdout",
     "output_type": "stream",
     "text": [
      "450:\tlearn: 0.7928185\ttest: 0.7828109\tbest: 0.7831107 (444)\ttotal: 1m 57s\tremaining: 19m 48s\n"
     ]
    },
    {
     "name": "stdout",
     "output_type": "stream",
     "text": [
      "475:\tlearn: 0.7939517\ttest: 0.7838125\tbest: 0.7839824 (473)\ttotal: 2m 4s\tremaining: 19m 41s\n"
     ]
    },
    {
     "name": "stdout",
     "output_type": "stream",
     "text": [
      "500:\tlearn: 0.7952979\ttest: 0.7844589\tbest: 0.7844589 (500)\ttotal: 2m 10s\tremaining: 19m 34s\n"
     ]
    },
    {
     "name": "stdout",
     "output_type": "stream",
     "text": [
      "525:\tlearn: 0.7968008\ttest: 0.7852976\tbest: 0.7854569 (523)\ttotal: 2m 17s\tremaining: 19m 28s\n"
     ]
    },
    {
     "name": "stdout",
     "output_type": "stream",
     "text": [
      "550:\tlearn: 0.7978918\ttest: 0.7862010\tbest: 0.7863026 (549)\ttotal: 2m 23s\tremaining: 19m 22s\n"
     ]
    },
    {
     "name": "stdout",
     "output_type": "stream",
     "text": [
      "575:\tlearn: 0.7990640\ttest: 0.7864636\tbest: 0.7869525 (566)\ttotal: 2m 30s\tremaining: 19m 15s\n"
     ]
    },
    {
     "name": "stdout",
     "output_type": "stream",
     "text": [
      "600:\tlearn: 0.8000140\ttest: 0.7868789\tbest: 0.7869735 (580)\ttotal: 2m 36s\tremaining: 19m 8s\n"
     ]
    },
    {
     "name": "stdout",
     "output_type": "stream",
     "text": [
      "625:\tlearn: 0.8006758\ttest: 0.7867492\tbest: 0.7873249 (606)\ttotal: 2m 43s\tremaining: 19m 1s\n"
     ]
    },
    {
     "name": "stdout",
     "output_type": "stream",
     "text": [
      "650:\tlearn: 0.8013831\ttest: 0.7870442\tbest: 0.7873249 (606)\ttotal: 2m 49s\tremaining: 18m 55s\n"
     ]
    },
    {
     "name": "stdout",
     "output_type": "stream",
     "text": [
      "675:\tlearn: 0.8025686\ttest: 0.7877554\tbest: 0.7880731 (670)\ttotal: 2m 56s\tremaining: 18m 48s\n"
     ]
    },
    {
     "name": "stdout",
     "output_type": "stream",
     "text": [
      "700:\tlearn: 0.8032320\ttest: 0.7876197\tbest: 0.7881478 (693)\ttotal: 3m 2s\tremaining: 18m 42s\n"
     ]
    },
    {
     "name": "stdout",
     "output_type": "stream",
     "text": [
      "725:\tlearn: 0.8040509\ttest: 0.7877179\tbest: 0.7881478 (693)\ttotal: 3m 9s\tremaining: 18m 35s\n"
     ]
    },
    {
     "name": "stdout",
     "output_type": "stream",
     "text": [
      "750:\tlearn: 0.8048878\ttest: 0.7881562\tbest: 0.7882777 (741)\ttotal: 3m 15s\tremaining: 18m 28s\n"
     ]
    },
    {
     "name": "stdout",
     "output_type": "stream",
     "text": [
      "775:\tlearn: 0.8053228\ttest: 0.7886271\tbest: 0.7886271 (775)\ttotal: 3m 22s\tremaining: 18m 21s\n"
     ]
    },
    {
     "name": "stdout",
     "output_type": "stream",
     "text": [
      "800:\tlearn: 0.8060946\ttest: 0.7891114\tbest: 0.7893676 (791)\ttotal: 3m 28s\tremaining: 18m 15s\n"
     ]
    },
    {
     "name": "stdout",
     "output_type": "stream",
     "text": [
      "825:\tlearn: 0.8069625\ttest: 0.7898393\tbest: 0.7898393 (825)\ttotal: 3m 35s\tremaining: 18m 9s\n"
     ]
    },
    {
     "name": "stdout",
     "output_type": "stream",
     "text": [
      "850:\tlearn: 0.8078863\ttest: 0.7894814\tbest: 0.7900127 (843)\ttotal: 3m 41s\tremaining: 18m 2s\n"
     ]
    },
    {
     "name": "stdout",
     "output_type": "stream",
     "text": [
      "875:\tlearn: 0.8089392\ttest: 0.7895949\tbest: 0.7900127 (843)\ttotal: 3m 48s\tremaining: 17m 55s\n"
     ]
    },
    {
     "name": "stdout",
     "output_type": "stream",
     "text": [
      "900:\tlearn: 0.8098413\ttest: 0.7893087\tbest: 0.7900127 (843)\ttotal: 3m 55s\tremaining: 17m 49s\n"
     ]
    },
    {
     "name": "stdout",
     "output_type": "stream",
     "text": [
      "925:\tlearn: 0.8105890\ttest: 0.7898606\tbest: 0.7900127 (843)\ttotal: 4m 1s\tremaining: 17m 42s\n"
     ]
    },
    {
     "name": "stdout",
     "output_type": "stream",
     "text": [
      "950:\tlearn: 0.8114111\ttest: 0.7902139\tbest: 0.7902139 (950)\ttotal: 4m 8s\tremaining: 17m 36s\n"
     ]
    },
    {
     "name": "stdout",
     "output_type": "stream",
     "text": [
      "975:\tlearn: 0.8120519\ttest: 0.7899586\tbest: 0.7905152 (954)\ttotal: 4m 14s\tremaining: 17m 29s\n"
     ]
    },
    {
     "name": "stdout",
     "output_type": "stream",
     "text": [
      "1000:\tlearn: 0.8129947\ttest: 0.7909453\tbest: 0.7910251 (998)\ttotal: 4m 20s\tremaining: 17m 22s\n"
     ]
    },
    {
     "name": "stdout",
     "output_type": "stream",
     "text": [
      "1025:\tlearn: 0.8135334\ttest: 0.7913108\tbest: 0.7914456 (1013)\ttotal: 4m 27s\tremaining: 17m 15s\n"
     ]
    },
    {
     "name": "stdout",
     "output_type": "stream",
     "text": [
      "1050:\tlearn: 0.8142751\ttest: 0.7914416\tbest: 0.7915840 (1048)\ttotal: 4m 33s\tremaining: 17m 9s\n"
     ]
    },
    {
     "name": "stdout",
     "output_type": "stream",
     "text": [
      "1075:\tlearn: 0.8154303\ttest: 0.7914782\tbest: 0.7917944 (1060)\ttotal: 4m 40s\tremaining: 17m 2s\n"
     ]
    },
    {
     "name": "stdout",
     "output_type": "stream",
     "text": [
      "1100:\tlearn: 0.8159476\ttest: 0.7914016\tbest: 0.7917944 (1060)\ttotal: 4m 46s\tremaining: 16m 56s\n"
     ]
    },
    {
     "name": "stdout",
     "output_type": "stream",
     "text": [
      "1125:\tlearn: 0.8171121\ttest: 0.7908563\tbest: 0.7917944 (1060)\ttotal: 4m 53s\tremaining: 16m 49s\n"
     ]
    },
    {
     "name": "stdout",
     "output_type": "stream",
     "text": [
      "1150:\tlearn: 0.8177463\ttest: 0.7908828\tbest: 0.7917944 (1060)\ttotal: 4m 59s\tremaining: 16m 42s\n"
     ]
    },
    {
     "name": "stdout",
     "output_type": "stream",
     "text": [
      "1175:\tlearn: 0.8181749\ttest: 0.7911287\tbest: 0.7917944 (1060)\ttotal: 5m 6s\tremaining: 16m 36s\n"
     ]
    },
    {
     "name": "stdout",
     "output_type": "stream",
     "text": [
      "1200:\tlearn: 0.8188791\ttest: 0.7913468\tbest: 0.7917944 (1060)\ttotal: 5m 12s\tremaining: 16m 29s\n"
     ]
    },
    {
     "name": "stdout",
     "output_type": "stream",
     "text": [
      "1225:\tlearn: 0.8195286\ttest: 0.7916906\tbest: 0.7917944 (1060)\ttotal: 5m 19s\tremaining: 16m 23s\n"
     ]
    },
    {
     "name": "stdout",
     "output_type": "stream",
     "text": [
      "1250:\tlearn: 0.8203792\ttest: 0.7913444\tbest: 0.7918026 (1233)\ttotal: 5m 25s\tremaining: 16m 16s\n"
     ]
    },
    {
     "name": "stdout",
     "output_type": "stream",
     "text": [
      "1275:\tlearn: 0.8209167\ttest: 0.7918298\tbest: 0.7918298 (1275)\ttotal: 5m 32s\tremaining: 16m 9s\n"
     ]
    },
    {
     "name": "stdout",
     "output_type": "stream",
     "text": [
      "1300:\tlearn: 0.8216533\ttest: 0.7920624\tbest: 0.7922157 (1289)\ttotal: 5m 38s\tremaining: 16m 3s\n"
     ]
    },
    {
     "name": "stdout",
     "output_type": "stream",
     "text": [
      "1325:\tlearn: 0.8222818\ttest: 0.7923704\tbest: 0.7923704 (1325)\ttotal: 5m 45s\tremaining: 15m 56s\n"
     ]
    },
    {
     "name": "stdout",
     "output_type": "stream",
     "text": [
      "1350:\tlearn: 0.8228540\ttest: 0.7921414\tbest: 0.7925828 (1329)\ttotal: 5m 51s\tremaining: 15m 49s\n"
     ]
    },
    {
     "name": "stdout",
     "output_type": "stream",
     "text": [
      "1375:\tlearn: 0.8235698\ttest: 0.7919032\tbest: 0.7925828 (1329)\ttotal: 5m 58s\tremaining: 15m 43s\n"
     ]
    },
    {
     "name": "stdout",
     "output_type": "stream",
     "text": [
      "1400:\tlearn: 0.8242360\ttest: 0.7918352\tbest: 0.7925828 (1329)\ttotal: 6m 4s\tremaining: 15m 36s\n"
     ]
    },
    {
     "name": "stdout",
     "output_type": "stream",
     "text": [
      "1425:\tlearn: 0.8249519\ttest: 0.7922094\tbest: 0.7925828 (1329)\ttotal: 6m 11s\tremaining: 15m 30s\n"
     ]
    },
    {
     "name": "stdout",
     "output_type": "stream",
     "text": [
      "1450:\tlearn: 0.8258389\ttest: 0.7923078\tbest: 0.7925828 (1329)\ttotal: 6m 17s\tremaining: 15m 23s\n"
     ]
    },
    {
     "name": "stdout",
     "output_type": "stream",
     "text": [
      "1475:\tlearn: 0.8265890\ttest: 0.7922582\tbest: 0.7925828 (1329)\ttotal: 6m 24s\tremaining: 15m 17s\n"
     ]
    },
    {
     "name": "stdout",
     "output_type": "stream",
     "text": [
      "1500:\tlearn: 0.8272235\ttest: 0.7921505\tbest: 0.7925828 (1329)\ttotal: 6m 30s\tremaining: 15m 10s\n"
     ]
    },
    {
     "name": "stdout",
     "output_type": "stream",
     "text": [
      "1525:\tlearn: 0.8278230\ttest: 0.7921854\tbest: 0.7925828 (1329)\ttotal: 6m 37s\tremaining: 15m 4s\n"
     ]
    },
    {
     "name": "stdout",
     "output_type": "stream",
     "text": [
      "1550:\tlearn: 0.8286239\ttest: 0.7921289\tbest: 0.7925828 (1329)\ttotal: 6m 43s\tremaining: 14m 57s\n"
     ]
    },
    {
     "name": "stdout",
     "output_type": "stream",
     "text": [
      "1575:\tlearn: 0.8291455\ttest: 0.7920290\tbest: 0.7925828 (1329)\ttotal: 6m 50s\tremaining: 14m 50s\n"
     ]
    },
    {
     "name": "stdout",
     "output_type": "stream",
     "text": [
      "1600:\tlearn: 0.8299212\ttest: 0.7924353\tbest: 0.7925828 (1329)\ttotal: 6m 56s\tremaining: 14m 44s\n"
     ]
    },
    {
     "name": "stdout",
     "output_type": "stream",
     "text": [
      "1625:\tlearn: 0.8306889\ttest: 0.7926776\tbest: 0.7927562 (1612)\ttotal: 7m 3s\tremaining: 14m 37s\n"
     ]
    },
    {
     "name": "stdout",
     "output_type": "stream",
     "text": [
      "1650:\tlearn: 0.8311297\ttest: 0.7926102\tbest: 0.7928758 (1644)\ttotal: 7m 9s\tremaining: 14m 31s\n"
     ]
    },
    {
     "name": "stdout",
     "output_type": "stream",
     "text": [
      "1675:\tlearn: 0.8318080\ttest: 0.7927940\tbest: 0.7928917 (1662)\ttotal: 7m 16s\tremaining: 14m 24s\n"
     ]
    },
    {
     "name": "stdout",
     "output_type": "stream",
     "text": [
      "1700:\tlearn: 0.8322493\ttest: 0.7926423\tbest: 0.7929042 (1684)\ttotal: 7m 22s\tremaining: 14m 18s\n"
     ]
    },
    {
     "name": "stdout",
     "output_type": "stream",
     "text": [
      "1725:\tlearn: 0.8330213\ttest: 0.7926016\tbest: 0.7929042 (1684)\ttotal: 7m 29s\tremaining: 14m 11s\n"
     ]
    },
    {
     "name": "stdout",
     "output_type": "stream",
     "text": [
      "1750:\tlearn: 0.8337387\ttest: 0.7928166\tbest: 0.7930844 (1739)\ttotal: 7m 35s\tremaining: 14m 5s\n"
     ]
    },
    {
     "name": "stdout",
     "output_type": "stream",
     "text": [
      "1775:\tlearn: 0.8344262\ttest: 0.7924441\tbest: 0.7930844 (1739)\ttotal: 7m 42s\tremaining: 13m 58s\n"
     ]
    },
    {
     "name": "stdout",
     "output_type": "stream",
     "text": [
      "1800:\tlearn: 0.8347376\ttest: 0.7925235\tbest: 0.7930844 (1739)\ttotal: 7m 48s\tremaining: 13m 52s\n"
     ]
    },
    {
     "name": "stdout",
     "output_type": "stream",
     "text": [
      "1825:\tlearn: 0.8354648\ttest: 0.7928689\tbest: 0.7930844 (1739)\ttotal: 7m 54s\tremaining: 13m 45s\n"
     ]
    },
    {
     "name": "stdout",
     "output_type": "stream",
     "text": [
      "1850:\tlearn: 0.8361268\ttest: 0.7928388\tbest: 0.7930844 (1739)\ttotal: 8m 1s\tremaining: 13m 39s\n"
     ]
    },
    {
     "name": "stdout",
     "output_type": "stream",
     "text": [
      "1875:\tlearn: 0.8367236\ttest: 0.7925283\tbest: 0.7930844 (1739)\ttotal: 8m 7s\tremaining: 13m 32s\n"
     ]
    },
    {
     "name": "stdout",
     "output_type": "stream",
     "text": [
      "1900:\tlearn: 0.8372942\ttest: 0.7927032\tbest: 0.7930844 (1739)\ttotal: 8m 14s\tremaining: 13m 26s\n"
     ]
    },
    {
     "name": "stdout",
     "output_type": "stream",
     "text": [
      "1925:\tlearn: 0.8378131\ttest: 0.7926765\tbest: 0.7930844 (1739)\ttotal: 8m 20s\tremaining: 13m 19s\n"
     ]
    },
    {
     "name": "stdout",
     "output_type": "stream",
     "text": [
      "1950:\tlearn: 0.8382338\ttest: 0.7928520\tbest: 0.7930844 (1739)\ttotal: 8m 27s\tremaining: 13m 13s\n"
     ]
    },
    {
     "name": "stdout",
     "output_type": "stream",
     "text": [
      "1975:\tlearn: 0.8386331\ttest: 0.7926119\tbest: 0.7930844 (1739)\ttotal: 8m 33s\tremaining: 13m 6s\n"
     ]
    },
    {
     "name": "stdout",
     "output_type": "stream",
     "text": [
      "2000:\tlearn: 0.8392658\ttest: 0.7927706\tbest: 0.7930844 (1739)\ttotal: 8m 40s\tremaining: 13m\n"
     ]
    },
    {
     "name": "stdout",
     "output_type": "stream",
     "text": [
      "2025:\tlearn: 0.8399972\ttest: 0.7928716\tbest: 0.7930844 (1739)\ttotal: 8m 46s\tremaining: 12m 53s\n"
     ]
    },
    {
     "name": "stdout",
     "output_type": "stream",
     "text": [
      "2050:\tlearn: 0.8405152\ttest: 0.7926060\tbest: 0.7930844 (1739)\ttotal: 8m 53s\tremaining: 12m 47s\n"
     ]
    },
    {
     "name": "stdout",
     "output_type": "stream",
     "text": [
      "2075:\tlearn: 0.8408366\ttest: 0.7928944\tbest: 0.7930844 (1739)\ttotal: 9m\tremaining: 12m 40s\n"
     ]
    },
    {
     "name": "stdout",
     "output_type": "stream",
     "text": [
      "2100:\tlearn: 0.8415523\ttest: 0.7930475\tbest: 0.7930844 (1739)\ttotal: 9m 6s\tremaining: 12m 34s\n"
     ]
    },
    {
     "name": "stdout",
     "output_type": "stream",
     "text": [
      "2125:\tlearn: 0.8421771\ttest: 0.7925519\tbest: 0.7930844 (1739)\ttotal: 9m 12s\tremaining: 12m 27s\n"
     ]
    },
    {
     "name": "stdout",
     "output_type": "stream",
     "text": [
      "2150:\tlearn: 0.8425753\ttest: 0.7924998\tbest: 0.7930844 (1739)\ttotal: 9m 19s\tremaining: 12m 20s\n"
     ]
    },
    {
     "name": "stdout",
     "output_type": "stream",
     "text": [
      "2175:\tlearn: 0.8430868\ttest: 0.7925894\tbest: 0.7930844 (1739)\ttotal: 9m 25s\tremaining: 12m 14s\n"
     ]
    },
    {
     "name": "stdout",
     "output_type": "stream",
     "text": [
      "2200:\tlearn: 0.8435135\ttest: 0.7928756\tbest: 0.7930844 (1739)\ttotal: 9m 32s\tremaining: 12m 7s\n"
     ]
    },
    {
     "name": "stdout",
     "output_type": "stream",
     "text": [
      "2225:\tlearn: 0.8441860\ttest: 0.7928210\tbest: 0.7930844 (1739)\ttotal: 9m 38s\tremaining: 12m 1s\n"
     ]
    },
    {
     "name": "stdout",
     "output_type": "stream",
     "text": [
      "2250:\tlearn: 0.8448919\ttest: 0.7931517\tbest: 0.7932135 (2248)\ttotal: 9m 45s\tremaining: 11m 54s\n"
     ]
    },
    {
     "name": "stdout",
     "output_type": "stream",
     "text": [
      "2275:\tlearn: 0.8452696\ttest: 0.7928184\tbest: 0.7932135 (2248)\ttotal: 9m 51s\tremaining: 11m 48s\n"
     ]
    },
    {
     "name": "stdout",
     "output_type": "stream",
     "text": [
      "2300:\tlearn: 0.8457608\ttest: 0.7933023\tbest: 0.7934719 (2299)\ttotal: 9m 58s\tremaining: 11m 41s\n"
     ]
    },
    {
     "name": "stdout",
     "output_type": "stream",
     "text": [
      "2325:\tlearn: 0.8460983\ttest: 0.7931631\tbest: 0.7934719 (2299)\ttotal: 10m 4s\tremaining: 11m 35s\n"
     ]
    },
    {
     "name": "stdout",
     "output_type": "stream",
     "text": [
      "2350:\tlearn: 0.8466797\ttest: 0.7932938\tbest: 0.7934719 (2299)\ttotal: 10m 11s\tremaining: 11m 28s\n"
     ]
    },
    {
     "name": "stdout",
     "output_type": "stream",
     "text": [
      "2375:\tlearn: 0.8472324\ttest: 0.7934016\tbest: 0.7934719 (2299)\ttotal: 10m 17s\tremaining: 11m 22s\n"
     ]
    },
    {
     "name": "stdout",
     "output_type": "stream",
     "text": [
      "2400:\tlearn: 0.8479553\ttest: 0.7934467\tbest: 0.7935989 (2394)\ttotal: 10m 24s\tremaining: 11m 15s\n"
     ]
    },
    {
     "name": "stdout",
     "output_type": "stream",
     "text": [
      "2425:\tlearn: 0.8483633\ttest: 0.7933428\tbest: 0.7935989 (2394)\ttotal: 10m 30s\tremaining: 11m 9s\n"
     ]
    },
    {
     "name": "stdout",
     "output_type": "stream",
     "text": [
      "2450:\tlearn: 0.8489053\ttest: 0.7932519\tbest: 0.7935989 (2394)\ttotal: 10m 37s\tremaining: 11m 2s\n"
     ]
    },
    {
     "name": "stdout",
     "output_type": "stream",
     "text": [
      "2475:\tlearn: 0.8493934\ttest: 0.7936141\tbest: 0.7938452 (2469)\ttotal: 10m 43s\tremaining: 10m 56s\n"
     ]
    },
    {
     "name": "stdout",
     "output_type": "stream",
     "text": [
      "2500:\tlearn: 0.8498481\ttest: 0.7934506\tbest: 0.7938452 (2469)\ttotal: 10m 50s\tremaining: 10m 49s\n"
     ]
    },
    {
     "name": "stdout",
     "output_type": "stream",
     "text": [
      "2525:\tlearn: 0.8502920\ttest: 0.7934632\tbest: 0.7938452 (2469)\ttotal: 10m 56s\tremaining: 10m 43s\n"
     ]
    },
    {
     "name": "stdout",
     "output_type": "stream",
     "text": [
      "2550:\tlearn: 0.8509294\ttest: 0.7934321\tbest: 0.7938452 (2469)\ttotal: 11m 3s\tremaining: 10m 36s\n"
     ]
    },
    {
     "name": "stdout",
     "output_type": "stream",
     "text": [
      "2575:\tlearn: 0.8516524\ttest: 0.7935415\tbest: 0.7938452 (2469)\ttotal: 11m 9s\tremaining: 10m 30s\n"
     ]
    },
    {
     "name": "stdout",
     "output_type": "stream",
     "text": [
      "2600:\tlearn: 0.8520479\ttest: 0.7935481\tbest: 0.7938452 (2469)\ttotal: 11m 16s\tremaining: 10m 23s\n"
     ]
    },
    {
     "name": "stdout",
     "output_type": "stream",
     "text": [
      "2625:\tlearn: 0.8528340\ttest: 0.7936135\tbest: 0.7938452 (2469)\ttotal: 11m 22s\tremaining: 10m 17s\n"
     ]
    },
    {
     "name": "stdout",
     "output_type": "stream",
     "text": [
      "2650:\tlearn: 0.8534952\ttest: 0.7936814\tbest: 0.7938892 (2635)\ttotal: 11m 29s\tremaining: 10m 10s\n"
     ]
    },
    {
     "name": "stdout",
     "output_type": "stream",
     "text": [
      "2675:\tlearn: 0.8539226\ttest: 0.7939377\tbest: 0.7940192 (2669)\ttotal: 11m 35s\tremaining: 10m 4s\n"
     ]
    },
    {
     "name": "stdout",
     "output_type": "stream",
     "text": [
      "2700:\tlearn: 0.8544823\ttest: 0.7939851\tbest: 0.7940853 (2679)\ttotal: 11m 42s\tremaining: 9m 57s\n"
     ]
    },
    {
     "name": "stdout",
     "output_type": "stream",
     "text": [
      "2725:\tlearn: 0.8547358\ttest: 0.7937415\tbest: 0.7940853 (2679)\ttotal: 11m 48s\tremaining: 9m 51s\n"
     ]
    },
    {
     "name": "stdout",
     "output_type": "stream",
     "text": [
      "2750:\tlearn: 0.8552906\ttest: 0.7937904\tbest: 0.7940853 (2679)\ttotal: 11m 55s\tremaining: 9m 44s\n"
     ]
    },
    {
     "name": "stdout",
     "output_type": "stream",
     "text": [
      "2775:\tlearn: 0.8558931\ttest: 0.7938867\tbest: 0.7940914 (2762)\ttotal: 12m 1s\tremaining: 9m 38s\n"
     ]
    },
    {
     "name": "stdout",
     "output_type": "stream",
     "text": [
      "2800:\tlearn: 0.8563486\ttest: 0.7937237\tbest: 0.7940914 (2762)\ttotal: 12m 8s\tremaining: 9m 31s\n"
     ]
    },
    {
     "name": "stdout",
     "output_type": "stream",
     "text": [
      "2825:\tlearn: 0.8566827\ttest: 0.7936448\tbest: 0.7940914 (2762)\ttotal: 12m 14s\tremaining: 9m 25s\n"
     ]
    },
    {
     "name": "stdout",
     "output_type": "stream",
     "text": [
      "2850:\tlearn: 0.8572431\ttest: 0.7935078\tbest: 0.7940914 (2762)\ttotal: 12m 21s\tremaining: 9m 18s\n"
     ]
    },
    {
     "name": "stdout",
     "output_type": "stream",
     "text": [
      "2875:\tlearn: 0.8574823\ttest: 0.7935752\tbest: 0.7940914 (2762)\ttotal: 12m 27s\tremaining: 9m 12s\n"
     ]
    },
    {
     "name": "stdout",
     "output_type": "stream",
     "text": [
      "2900:\tlearn: 0.8579485\ttest: 0.7935760\tbest: 0.7940914 (2762)\ttotal: 12m 34s\tremaining: 9m 5s\n"
     ]
    },
    {
     "name": "stdout",
     "output_type": "stream",
     "text": [
      "2925:\tlearn: 0.8583544\ttest: 0.7935844\tbest: 0.7940914 (2762)\ttotal: 12m 40s\tremaining: 8m 59s\n"
     ]
    },
    {
     "name": "stdout",
     "output_type": "stream",
     "text": [
      "2950:\tlearn: 0.8587378\ttest: 0.7934441\tbest: 0.7940914 (2762)\ttotal: 12m 47s\tremaining: 8m 52s\n"
     ]
    },
    {
     "name": "stdout",
     "output_type": "stream",
     "text": [
      "2975:\tlearn: 0.8591954\ttest: 0.7938871\tbest: 0.7940914 (2762)\ttotal: 12m 53s\tremaining: 8m 46s\n"
     ]
    },
    {
     "name": "stdout",
     "output_type": "stream",
     "text": [
      "3000:\tlearn: 0.8598510\ttest: 0.7939126\tbest: 0.7940914 (2762)\ttotal: 13m\tremaining: 8m 39s\n"
     ]
    },
    {
     "name": "stdout",
     "output_type": "stream",
     "text": [
      "3025:\tlearn: 0.8604953\ttest: 0.7941415\tbest: 0.7941415 (3025)\ttotal: 13m 6s\tremaining: 8m 33s\n"
     ]
    },
    {
     "name": "stdout",
     "output_type": "stream",
     "text": [
      "3050:\tlearn: 0.8612814\ttest: 0.7943968\tbest: 0.7944387 (3049)\ttotal: 13m 13s\tremaining: 8m 26s\n"
     ]
    },
    {
     "name": "stdout",
     "output_type": "stream",
     "text": [
      "3075:\tlearn: 0.8616437\ttest: 0.7945617\tbest: 0.7948375 (3068)\ttotal: 13m 19s\tremaining: 8m 20s\n"
     ]
    },
    {
     "name": "stdout",
     "output_type": "stream",
     "text": [
      "3100:\tlearn: 0.8621518\ttest: 0.7944617\tbest: 0.7948375 (3068)\ttotal: 13m 26s\tremaining: 8m 13s\n"
     ]
    },
    {
     "name": "stdout",
     "output_type": "stream",
     "text": [
      "3125:\tlearn: 0.8626010\ttest: 0.7944658\tbest: 0.7948375 (3068)\ttotal: 13m 32s\tremaining: 8m 7s\n"
     ]
    },
    {
     "name": "stdout",
     "output_type": "stream",
     "text": [
      "3150:\tlearn: 0.8631104\ttest: 0.7938964\tbest: 0.7948375 (3068)\ttotal: 13m 39s\tremaining: 8m\n"
     ]
    },
    {
     "name": "stdout",
     "output_type": "stream",
     "text": [
      "3175:\tlearn: 0.8637840\ttest: 0.7942555\tbest: 0.7948375 (3068)\ttotal: 13m 45s\tremaining: 7m 54s\n"
     ]
    },
    {
     "name": "stdout",
     "output_type": "stream",
     "text": [
      "3200:\tlearn: 0.8642478\ttest: 0.7941255\tbest: 0.7948375 (3068)\ttotal: 13m 52s\tremaining: 7m 47s\n"
     ]
    },
    {
     "name": "stdout",
     "output_type": "stream",
     "text": [
      "3225:\tlearn: 0.8648471\ttest: 0.7939587\tbest: 0.7948375 (3068)\ttotal: 13m 58s\tremaining: 7m 41s\n"
     ]
    },
    {
     "name": "stdout",
     "output_type": "stream",
     "text": [
      "3250:\tlearn: 0.8653235\ttest: 0.7939557\tbest: 0.7948375 (3068)\ttotal: 14m 5s\tremaining: 7m 34s\n"
     ]
    },
    {
     "name": "stdout",
     "output_type": "stream",
     "text": [
      "3275:\tlearn: 0.8658310\ttest: 0.7941739\tbest: 0.7948375 (3068)\ttotal: 14m 11s\tremaining: 7m 28s\n"
     ]
    },
    {
     "name": "stdout",
     "output_type": "stream",
     "text": [
      "3300:\tlearn: 0.8662250\ttest: 0.7943505\tbest: 0.7948375 (3068)\ttotal: 14m 18s\tremaining: 7m 21s\n"
     ]
    },
    {
     "name": "stdout",
     "output_type": "stream",
     "text": [
      "3325:\tlearn: 0.8666248\ttest: 0.7943070\tbest: 0.7948375 (3068)\ttotal: 14m 24s\tremaining: 7m 15s\n"
     ]
    },
    {
     "name": "stdout",
     "output_type": "stream",
     "text": [
      "3350:\tlearn: 0.8671218\ttest: 0.7943109\tbest: 0.7948375 (3068)\ttotal: 14m 31s\tremaining: 7m 8s\n"
     ]
    },
    {
     "name": "stdout",
     "output_type": "stream",
     "text": [
      "3375:\tlearn: 0.8675474\ttest: 0.7943800\tbest: 0.7948375 (3068)\ttotal: 14m 37s\tremaining: 7m 2s\n"
     ]
    },
    {
     "name": "stdout",
     "output_type": "stream",
     "text": [
      "3400:\tlearn: 0.8678215\ttest: 0.7945934\tbest: 0.7948375 (3068)\ttotal: 14m 43s\tremaining: 6m 55s\n"
     ]
    },
    {
     "name": "stdout",
     "output_type": "stream",
     "text": [
      "3425:\tlearn: 0.8683574\ttest: 0.7949526\tbest: 0.7950798 (3422)\ttotal: 14m 50s\tremaining: 6m 49s\n"
     ]
    },
    {
     "name": "stdout",
     "output_type": "stream",
     "text": [
      "3450:\tlearn: 0.8689801\ttest: 0.7949737\tbest: 0.7950798 (3422)\ttotal: 14m 57s\tremaining: 6m 42s\n"
     ]
    },
    {
     "name": "stdout",
     "output_type": "stream",
     "text": [
      "3475:\tlearn: 0.8694633\ttest: 0.7948279\tbest: 0.7952292 (3458)\ttotal: 15m 3s\tremaining: 6m 36s\n"
     ]
    },
    {
     "name": "stdout",
     "output_type": "stream",
     "text": [
      "3500:\tlearn: 0.8698681\ttest: 0.7944688\tbest: 0.7952292 (3458)\ttotal: 15m 9s\tremaining: 6m 29s\n"
     ]
    },
    {
     "name": "stdout",
     "output_type": "stream",
     "text": [
      "3525:\tlearn: 0.8703541\ttest: 0.7945134\tbest: 0.7952292 (3458)\ttotal: 15m 16s\tremaining: 6m 23s\n"
     ]
    },
    {
     "name": "stdout",
     "output_type": "stream",
     "text": [
      "3550:\tlearn: 0.8706131\ttest: 0.7943801\tbest: 0.7952292 (3458)\ttotal: 15m 22s\tremaining: 6m 16s\n"
     ]
    },
    {
     "name": "stdout",
     "output_type": "stream",
     "text": [
      "3575:\tlearn: 0.8710142\ttest: 0.7941983\tbest: 0.7952292 (3458)\ttotal: 15m 29s\tremaining: 6m 10s\n"
     ]
    },
    {
     "name": "stdout",
     "output_type": "stream",
     "text": [
      "3600:\tlearn: 0.8715013\ttest: 0.7938871\tbest: 0.7952292 (3458)\ttotal: 15m 36s\tremaining: 6m 3s\n"
     ]
    },
    {
     "name": "stdout",
     "output_type": "stream",
     "text": [
      "3625:\tlearn: 0.8719556\ttest: 0.7946218\tbest: 0.7952292 (3458)\ttotal: 15m 42s\tremaining: 5m 57s\n"
     ]
    },
    {
     "name": "stdout",
     "output_type": "stream",
     "text": [
      "3650:\tlearn: 0.8724217\ttest: 0.7945999\tbest: 0.7952292 (3458)\ttotal: 15m 49s\tremaining: 5m 50s\n"
     ]
    },
    {
     "name": "stdout",
     "output_type": "stream",
     "text": [
      "3675:\tlearn: 0.8728209\ttest: 0.7945749\tbest: 0.7952292 (3458)\ttotal: 15m 55s\tremaining: 5m 44s\n"
     ]
    },
    {
     "name": "stdout",
     "output_type": "stream",
     "text": [
      "3700:\tlearn: 0.8730754\ttest: 0.7943045\tbest: 0.7952292 (3458)\ttotal: 16m 2s\tremaining: 5m 37s\n"
     ]
    },
    {
     "name": "stdout",
     "output_type": "stream",
     "text": [
      "3725:\tlearn: 0.8735324\ttest: 0.7944283\tbest: 0.7952292 (3458)\ttotal: 16m 8s\tremaining: 5m 31s\n"
     ]
    },
    {
     "name": "stdout",
     "output_type": "stream",
     "text": [
      "3750:\tlearn: 0.8739184\ttest: 0.7944690\tbest: 0.7952292 (3458)\ttotal: 16m 15s\tremaining: 5m 24s\n"
     ]
    },
    {
     "name": "stdout",
     "output_type": "stream",
     "text": [
      "3775:\tlearn: 0.8744531\ttest: 0.7945892\tbest: 0.7952292 (3458)\ttotal: 16m 21s\tremaining: 5m 18s\n"
     ]
    },
    {
     "name": "stdout",
     "output_type": "stream",
     "text": [
      "3800:\tlearn: 0.8748593\ttest: 0.7943397\tbest: 0.7952292 (3458)\ttotal: 16m 28s\tremaining: 5m 11s\n"
     ]
    },
    {
     "name": "stdout",
     "output_type": "stream",
     "text": [
      "3825:\tlearn: 0.8754072\ttest: 0.7943477\tbest: 0.7952292 (3458)\ttotal: 16m 34s\tremaining: 5m 5s\n"
     ]
    },
    {
     "name": "stdout",
     "output_type": "stream",
     "text": [
      "3850:\tlearn: 0.8758469\ttest: 0.7944554\tbest: 0.7952292 (3458)\ttotal: 16m 41s\tremaining: 4m 58s\n"
     ]
    },
    {
     "name": "stdout",
     "output_type": "stream",
     "text": [
      "3875:\tlearn: 0.8762027\ttest: 0.7945415\tbest: 0.7952292 (3458)\ttotal: 16m 47s\tremaining: 4m 52s\n"
     ]
    },
    {
     "name": "stdout",
     "output_type": "stream",
     "text": [
      "3900:\tlearn: 0.8765824\ttest: 0.7947936\tbest: 0.7952292 (3458)\ttotal: 16m 53s\tremaining: 4m 45s\n"
     ]
    },
    {
     "name": "stdout",
     "output_type": "stream",
     "text": [
      "3925:\tlearn: 0.8771345\ttest: 0.7945264\tbest: 0.7952292 (3458)\ttotal: 17m\tremaining: 4m 39s\n"
     ]
    },
    {
     "name": "stdout",
     "output_type": "stream",
     "text": [
      "3950:\tlearn: 0.8775908\ttest: 0.7946150\tbest: 0.7952292 (3458)\ttotal: 17m 7s\tremaining: 4m 32s\n"
     ]
    },
    {
     "name": "stdout",
     "output_type": "stream",
     "text": [
      "3975:\tlearn: 0.8781180\ttest: 0.7942405\tbest: 0.7952292 (3458)\ttotal: 17m 13s\tremaining: 4m 26s\n"
     ]
    },
    {
     "name": "stdout",
     "output_type": "stream",
     "text": [
      "4000:\tlearn: 0.8787270\ttest: 0.7944116\tbest: 0.7952292 (3458)\ttotal: 17m 19s\tremaining: 4m 19s\n"
     ]
    },
    {
     "name": "stdout",
     "output_type": "stream",
     "text": [
      "4025:\tlearn: 0.8791025\ttest: 0.7944186\tbest: 0.7952292 (3458)\ttotal: 17m 26s\tremaining: 4m 13s\n"
     ]
    },
    {
     "name": "stdout",
     "output_type": "stream",
     "text": [
      "4050:\tlearn: 0.8796900\ttest: 0.7946822\tbest: 0.7952292 (3458)\ttotal: 17m 32s\tremaining: 4m 6s\n"
     ]
    },
    {
     "name": "stdout",
     "output_type": "stream",
     "text": [
      "4075:\tlearn: 0.8799785\ttest: 0.7942363\tbest: 0.7952292 (3458)\ttotal: 17m 39s\tremaining: 4m\n"
     ]
    },
    {
     "name": "stdout",
     "output_type": "stream",
     "text": [
      "4100:\tlearn: 0.8804611\ttest: 0.7940769\tbest: 0.7952292 (3458)\ttotal: 17m 45s\tremaining: 3m 53s\n"
     ]
    },
    {
     "name": "stdout",
     "output_type": "stream",
     "text": [
      "4125:\tlearn: 0.8808963\ttest: 0.7941871\tbest: 0.7952292 (3458)\ttotal: 17m 52s\tremaining: 3m 47s\n"
     ]
    },
    {
     "name": "stdout",
     "output_type": "stream",
     "text": [
      "4150:\tlearn: 0.8813255\ttest: 0.7942217\tbest: 0.7952292 (3458)\ttotal: 17m 58s\tremaining: 3m 40s\n"
     ]
    },
    {
     "name": "stdout",
     "output_type": "stream",
     "text": [
      "4175:\tlearn: 0.8816124\ttest: 0.7941785\tbest: 0.7952292 (3458)\ttotal: 18m 5s\tremaining: 3m 34s\n"
     ]
    },
    {
     "name": "stdout",
     "output_type": "stream",
     "text": [
      "4200:\tlearn: 0.8820483\ttest: 0.7945406\tbest: 0.7952292 (3458)\ttotal: 18m 12s\tremaining: 3m 27s\n"
     ]
    },
    {
     "name": "stdout",
     "output_type": "stream",
     "text": [
      "4225:\tlearn: 0.8823684\ttest: 0.7944147\tbest: 0.7952292 (3458)\ttotal: 18m 18s\tremaining: 3m 21s\n"
     ]
    },
    {
     "name": "stdout",
     "output_type": "stream",
     "text": [
      "4250:\tlearn: 0.8826845\ttest: 0.7942852\tbest: 0.7952292 (3458)\ttotal: 18m 24s\tremaining: 3m 14s\n"
     ]
    },
    {
     "name": "stdout",
     "output_type": "stream",
     "text": [
      "4275:\tlearn: 0.8831520\ttest: 0.7945058\tbest: 0.7952292 (3458)\ttotal: 18m 31s\tremaining: 3m 8s\n"
     ]
    },
    {
     "name": "stdout",
     "output_type": "stream",
     "text": [
      "4300:\tlearn: 0.8834235\ttest: 0.7943410\tbest: 0.7952292 (3458)\ttotal: 18m 38s\tremaining: 3m 1s\n"
     ]
    },
    {
     "name": "stdout",
     "output_type": "stream",
     "text": [
      "4325:\tlearn: 0.8839775\ttest: 0.7941508\tbest: 0.7952292 (3458)\ttotal: 18m 44s\tremaining: 2m 55s\n"
     ]
    },
    {
     "name": "stdout",
     "output_type": "stream",
     "text": [
      "4350:\tlearn: 0.8845402\ttest: 0.7944053\tbest: 0.7952292 (3458)\ttotal: 18m 50s\tremaining: 2m 48s\n"
     ]
    },
    {
     "name": "stdout",
     "output_type": "stream",
     "text": [
      "4375:\tlearn: 0.8848229\ttest: 0.7943200\tbest: 0.7952292 (3458)\ttotal: 18m 57s\tremaining: 2m 42s\n"
     ]
    },
    {
     "name": "stdout",
     "output_type": "stream",
     "text": [
      "4400:\tlearn: 0.8851696\ttest: 0.7944921\tbest: 0.7952292 (3458)\ttotal: 19m 3s\tremaining: 2m 35s\n"
     ]
    },
    {
     "name": "stdout",
     "output_type": "stream",
     "text": [
      "4425:\tlearn: 0.8856183\ttest: 0.7948703\tbest: 0.7952292 (3458)\ttotal: 19m 10s\tremaining: 2m 29s\n"
     ]
    },
    {
     "name": "stdout",
     "output_type": "stream",
     "text": [
      "4450:\tlearn: 0.8860287\ttest: 0.7944277\tbest: 0.7952292 (3458)\ttotal: 19m 16s\tremaining: 2m 22s\n"
     ]
    },
    {
     "name": "stdout",
     "output_type": "stream",
     "text": [
      "4475:\tlearn: 0.8863275\ttest: 0.7945800\tbest: 0.7952292 (3458)\ttotal: 19m 23s\tremaining: 2m 16s\n"
     ]
    },
    {
     "name": "stdout",
     "output_type": "stream",
     "text": [
      "4500:\tlearn: 0.8867677\ttest: 0.7945811\tbest: 0.7952292 (3458)\ttotal: 19m 29s\tremaining: 2m 9s\n"
     ]
    },
    {
     "name": "stdout",
     "output_type": "stream",
     "text": [
      "4525:\tlearn: 0.8871352\ttest: 0.7943719\tbest: 0.7952292 (3458)\ttotal: 19m 36s\tremaining: 2m 3s\n"
     ]
    },
    {
     "name": "stdout",
     "output_type": "stream",
     "text": [
      "4550:\tlearn: 0.8875895\ttest: 0.7942655\tbest: 0.7952292 (3458)\ttotal: 19m 43s\tremaining: 1m 56s\n"
     ]
    },
    {
     "name": "stdout",
     "output_type": "stream",
     "text": [
      "4575:\tlearn: 0.8881152\ttest: 0.7944754\tbest: 0.7952292 (3458)\ttotal: 19m 49s\tremaining: 1m 50s\n"
     ]
    },
    {
     "name": "stdout",
     "output_type": "stream",
     "text": [
      "4600:\tlearn: 0.8885407\ttest: 0.7945609\tbest: 0.7952292 (3458)\ttotal: 19m 56s\tremaining: 1m 43s\n"
     ]
    },
    {
     "name": "stdout",
     "output_type": "stream",
     "text": [
      "4625:\tlearn: 0.8887812\ttest: 0.7942838\tbest: 0.7952292 (3458)\ttotal: 20m 2s\tremaining: 1m 37s\n"
     ]
    },
    {
     "name": "stdout",
     "output_type": "stream",
     "text": [
      "4650:\tlearn: 0.8892826\ttest: 0.7943083\tbest: 0.7952292 (3458)\ttotal: 20m 8s\tremaining: 1m 30s\n"
     ]
    },
    {
     "name": "stdout",
     "output_type": "stream",
     "text": [
      "4675:\tlearn: 0.8895683\ttest: 0.7945405\tbest: 0.7952292 (3458)\ttotal: 20m 15s\tremaining: 1m 24s\n"
     ]
    },
    {
     "name": "stdout",
     "output_type": "stream",
     "text": [
      "4700:\tlearn: 0.8900478\ttest: 0.7943693\tbest: 0.7952292 (3458)\ttotal: 20m 22s\tremaining: 1m 17s\n"
     ]
    },
    {
     "name": "stdout",
     "output_type": "stream",
     "text": [
      "4725:\tlearn: 0.8905980\ttest: 0.7945618\tbest: 0.7952292 (3458)\ttotal: 20m 28s\tremaining: 1m 11s\n"
     ]
    },
    {
     "name": "stdout",
     "output_type": "stream",
     "text": [
      "4750:\tlearn: 0.8908828\ttest: 0.7946444\tbest: 0.7952292 (3458)\ttotal: 20m 35s\tremaining: 1m 4s\n"
     ]
    },
    {
     "name": "stdout",
     "output_type": "stream",
     "text": [
      "4775:\tlearn: 0.8914603\ttest: 0.7946859\tbest: 0.7952292 (3458)\ttotal: 20m 41s\tremaining: 58.2s\n"
     ]
    },
    {
     "name": "stdout",
     "output_type": "stream",
     "text": [
      "4800:\tlearn: 0.8918554\ttest: 0.7946870\tbest: 0.7952292 (3458)\ttotal: 20m 48s\tremaining: 51.7s\n"
     ]
    },
    {
     "name": "stdout",
     "output_type": "stream",
     "text": [
      "4825:\tlearn: 0.8921267\ttest: 0.7949878\tbest: 0.7952292 (3458)\ttotal: 20m 54s\tremaining: 45.2s\n"
     ]
    },
    {
     "name": "stdout",
     "output_type": "stream",
     "text": [
      "4850:\tlearn: 0.8926032\ttest: 0.7950303\tbest: 0.7952292 (3458)\ttotal: 21m 1s\tremaining: 38.7s\n"
     ]
    },
    {
     "name": "stdout",
     "output_type": "stream",
     "text": [
      "4875:\tlearn: 0.8929734\ttest: 0.7949030\tbest: 0.7952416 (4856)\ttotal: 21m 7s\tremaining: 32.2s\n"
     ]
    },
    {
     "name": "stdout",
     "output_type": "stream",
     "text": [
      "4900:\tlearn: 0.8934892\ttest: 0.7950514\tbest: 0.7952620 (4890)\ttotal: 21m 14s\tremaining: 25.7s\n"
     ]
    },
    {
     "name": "stdout",
     "output_type": "stream",
     "text": [
      "4925:\tlearn: 0.8938953\ttest: 0.7950311\tbest: 0.7952620 (4890)\ttotal: 21m 20s\tremaining: 19.2s\n"
     ]
    },
    {
     "name": "stdout",
     "output_type": "stream",
     "text": [
      "4950:\tlearn: 0.8943435\ttest: 0.7949275\tbest: 0.7952620 (4890)\ttotal: 21m 27s\tremaining: 12.7s\n"
     ]
    },
    {
     "name": "stdout",
     "output_type": "stream",
     "text": [
      "4975:\tlearn: 0.8946238\ttest: 0.7951015\tbest: 0.7952620 (4890)\ttotal: 21m 33s\tremaining: 6.24s\n"
     ]
    },
    {
     "name": "stdout",
     "output_type": "stream",
     "text": [
      "4999:\tlearn: 0.8951824\ttest: 0.7950187\tbest: 0.7952620 (4890)\ttotal: 21m 39s\tremaining: 0us\n",
      "\n",
      "bestTest = 0.7952619655\n",
      "bestIteration = 4890\n",
      "\n"
     ]
    },
    {
     "name": "stdout",
     "output_type": "stream",
     "text": [
      "######################################## training model 3/5 ########################################\n"
     ]
    },
    {
     "name": "stdout",
     "output_type": "stream",
     "text": [
      "0:\tlearn: 0.5866951\ttest: 0.5872905\tbest: 0.5872905 (0)\ttotal: 580ms\tremaining: 48m 18s\n"
     ]
    },
    {
     "name": "stdout",
     "output_type": "stream",
     "text": [
      "25:\tlearn: 0.7188886\ttest: 0.7158828\tbest: 0.7158828 (25)\ttotal: 7.08s\tremaining: 22m 33s\n"
     ]
    },
    {
     "name": "stdout",
     "output_type": "stream",
     "text": [
      "50:\tlearn: 0.7405789\ttest: 0.7362945\tbest: 0.7363192 (49)\ttotal: 13.6s\tremaining: 21m 55s\n"
     ]
    },
    {
     "name": "stdout",
     "output_type": "stream",
     "text": [
      "75:\tlearn: 0.7502239\ttest: 0.7446192\tbest: 0.7446192 (75)\ttotal: 20.1s\tremaining: 21m 41s\n"
     ]
    },
    {
     "name": "stdout",
     "output_type": "stream",
     "text": [
      "100:\tlearn: 0.7561731\ttest: 0.7500123\tbest: 0.7500123 (100)\ttotal: 26.6s\tremaining: 21m 32s\n"
     ]
    },
    {
     "name": "stdout",
     "output_type": "stream",
     "text": [
      "125:\tlearn: 0.7596833\ttest: 0.7535726\tbest: 0.7535782 (121)\ttotal: 33.1s\tremaining: 21m 20s\n"
     ]
    },
    {
     "name": "stdout",
     "output_type": "stream",
     "text": [
      "150:\tlearn: 0.7631389\ttest: 0.7564305\tbest: 0.7564571 (148)\ttotal: 39.7s\tremaining: 21m 14s\n"
     ]
    },
    {
     "name": "stdout",
     "output_type": "stream",
     "text": [
      "175:\tlearn: 0.7664261\ttest: 0.7591651\tbest: 0.7591651 (175)\ttotal: 46.2s\tremaining: 21m 5s\n"
     ]
    },
    {
     "name": "stdout",
     "output_type": "stream",
     "text": [
      "200:\tlearn: 0.7688845\ttest: 0.7613242\tbest: 0.7613242 (200)\ttotal: 52.7s\tremaining: 20m 57s\n"
     ]
    },
    {
     "name": "stdout",
     "output_type": "stream",
     "text": [
      "225:\tlearn: 0.7713536\ttest: 0.7632792\tbest: 0.7632792 (225)\ttotal: 59.2s\tremaining: 20m 49s\n"
     ]
    },
    {
     "name": "stdout",
     "output_type": "stream",
     "text": [
      "250:\tlearn: 0.7732656\ttest: 0.7647262\tbest: 0.7647262 (250)\ttotal: 1m 5s\tremaining: 20m 43s\n"
     ]
    },
    {
     "name": "stdout",
     "output_type": "stream",
     "text": [
      "275:\tlearn: 0.7754342\ttest: 0.7667405\tbest: 0.7668052 (274)\ttotal: 1m 12s\tremaining: 20m 37s\n"
     ]
    },
    {
     "name": "stdout",
     "output_type": "stream",
     "text": [
      "300:\tlearn: 0.7779782\ttest: 0.7694402\tbest: 0.7694402 (300)\ttotal: 1m 18s\tremaining: 20m 30s\n"
     ]
    },
    {
     "name": "stdout",
     "output_type": "stream",
     "text": [
      "325:\tlearn: 0.7818756\ttest: 0.7728085\tbest: 0.7728085 (325)\ttotal: 1m 25s\tremaining: 20m 23s\n"
     ]
    },
    {
     "name": "stdout",
     "output_type": "stream",
     "text": [
      "350:\tlearn: 0.7852662\ttest: 0.7757260\tbest: 0.7757260 (350)\ttotal: 1m 31s\tremaining: 20m 17s\n"
     ]
    },
    {
     "name": "stdout",
     "output_type": "stream",
     "text": [
      "375:\tlearn: 0.7873632\ttest: 0.7779593\tbest: 0.7780689 (374)\ttotal: 1m 38s\tremaining: 20m 10s\n"
     ]
    },
    {
     "name": "stdout",
     "output_type": "stream",
     "text": [
      "400:\tlearn: 0.7892522\ttest: 0.7794156\tbest: 0.7794156 (400)\ttotal: 1m 45s\tremaining: 20m 4s\n"
     ]
    },
    {
     "name": "stdout",
     "output_type": "stream",
     "text": [
      "425:\tlearn: 0.7910628\ttest: 0.7805276\tbest: 0.7807171 (422)\ttotal: 1m 51s\tremaining: 19m 57s\n"
     ]
    },
    {
     "name": "stdout",
     "output_type": "stream",
     "text": [
      "450:\tlearn: 0.7925731\ttest: 0.7814428\tbest: 0.7815235 (447)\ttotal: 1m 58s\tremaining: 19m 50s\n"
     ]
    },
    {
     "name": "stdout",
     "output_type": "stream",
     "text": [
      "475:\tlearn: 0.7939750\ttest: 0.7832944\tbest: 0.7832944 (475)\ttotal: 2m 4s\tremaining: 19m 43s\n"
     ]
    },
    {
     "name": "stdout",
     "output_type": "stream",
     "text": [
      "500:\tlearn: 0.7953145\ttest: 0.7843143\tbest: 0.7843931 (499)\ttotal: 2m 11s\tremaining: 19m 37s\n"
     ]
    },
    {
     "name": "stdout",
     "output_type": "stream",
     "text": [
      "525:\tlearn: 0.7968668\ttest: 0.7846892\tbest: 0.7849472 (520)\ttotal: 2m 17s\tremaining: 19m 31s\n"
     ]
    },
    {
     "name": "stdout",
     "output_type": "stream",
     "text": [
      "550:\tlearn: 0.7979802\ttest: 0.7858403\tbest: 0.7858541 (549)\ttotal: 2m 24s\tremaining: 19m 25s\n"
     ]
    },
    {
     "name": "stdout",
     "output_type": "stream",
     "text": [
      "575:\tlearn: 0.7989987\ttest: 0.7863051\tbest: 0.7863345 (572)\ttotal: 2m 30s\tremaining: 19m 18s\n"
     ]
    },
    {
     "name": "stdout",
     "output_type": "stream",
     "text": [
      "600:\tlearn: 0.8000107\ttest: 0.7869815\tbest: 0.7869815 (600)\ttotal: 2m 37s\tremaining: 19m 11s\n"
     ]
    },
    {
     "name": "stdout",
     "output_type": "stream",
     "text": [
      "625:\tlearn: 0.8009023\ttest: 0.7881133\tbest: 0.7881660 (622)\ttotal: 2m 43s\tremaining: 19m 4s\n"
     ]
    },
    {
     "name": "stdout",
     "output_type": "stream",
     "text": [
      "650:\tlearn: 0.8019907\ttest: 0.7879815\tbest: 0.7883348 (641)\ttotal: 2m 50s\tremaining: 18m 58s\n"
     ]
    },
    {
     "name": "stdout",
     "output_type": "stream",
     "text": [
      "675:\tlearn: 0.8030078\ttest: 0.7886880\tbest: 0.7890160 (672)\ttotal: 2m 56s\tremaining: 18m 51s\n"
     ]
    },
    {
     "name": "stdout",
     "output_type": "stream",
     "text": [
      "700:\tlearn: 0.8036133\ttest: 0.7886891\tbest: 0.7891329 (684)\ttotal: 3m 3s\tremaining: 18m 44s\n"
     ]
    },
    {
     "name": "stdout",
     "output_type": "stream",
     "text": [
      "725:\tlearn: 0.8044182\ttest: 0.7888679\tbest: 0.7891329 (684)\ttotal: 3m 9s\tremaining: 18m 37s\n"
     ]
    },
    {
     "name": "stdout",
     "output_type": "stream",
     "text": [
      "750:\tlearn: 0.8051579\ttest: 0.7888861\tbest: 0.7891329 (684)\ttotal: 3m 16s\tremaining: 18m 31s\n"
     ]
    },
    {
     "name": "stdout",
     "output_type": "stream",
     "text": [
      "775:\tlearn: 0.8060670\ttest: 0.7886929\tbest: 0.7892973 (764)\ttotal: 3m 22s\tremaining: 18m 24s\n"
     ]
    },
    {
     "name": "stdout",
     "output_type": "stream",
     "text": [
      "800:\tlearn: 0.8070578\ttest: 0.7892715\tbest: 0.7893535 (799)\ttotal: 3m 29s\tremaining: 18m 17s\n"
     ]
    },
    {
     "name": "stdout",
     "output_type": "stream",
     "text": [
      "825:\tlearn: 0.8079432\ttest: 0.7893422\tbest: 0.7897199 (804)\ttotal: 3m 35s\tremaining: 18m 10s\n"
     ]
    },
    {
     "name": "stdout",
     "output_type": "stream",
     "text": [
      "850:\tlearn: 0.8087638\ttest: 0.7894372\tbest: 0.7897199 (804)\ttotal: 3m 42s\tremaining: 18m 3s\n"
     ]
    },
    {
     "name": "stdout",
     "output_type": "stream",
     "text": [
      "875:\tlearn: 0.8096314\ttest: 0.7896330\tbest: 0.7897765 (874)\ttotal: 3m 48s\tremaining: 17m 57s\n"
     ]
    },
    {
     "name": "stdout",
     "output_type": "stream",
     "text": [
      "900:\tlearn: 0.8104242\ttest: 0.7896840\tbest: 0.7898326 (881)\ttotal: 3m 55s\tremaining: 17m 50s\n"
     ]
    },
    {
     "name": "stdout",
     "output_type": "stream",
     "text": [
      "925:\tlearn: 0.8110267\ttest: 0.7900170\tbest: 0.7900678 (914)\ttotal: 4m 1s\tremaining: 17m 44s\n"
     ]
    },
    {
     "name": "stdout",
     "output_type": "stream",
     "text": [
      "950:\tlearn: 0.8116669\ttest: 0.7899612\tbest: 0.7901871 (946)\ttotal: 4m 8s\tremaining: 17m 37s\n"
     ]
    },
    {
     "name": "stdout",
     "output_type": "stream",
     "text": [
      "975:\tlearn: 0.8125260\ttest: 0.7902768\tbest: 0.7904014 (973)\ttotal: 4m 14s\tremaining: 17m 30s\n"
     ]
    },
    {
     "name": "stdout",
     "output_type": "stream",
     "text": [
      "1000:\tlearn: 0.8132254\ttest: 0.7901945\tbest: 0.7904014 (973)\ttotal: 4m 21s\tremaining: 17m 23s\n"
     ]
    },
    {
     "name": "stdout",
     "output_type": "stream",
     "text": [
      "1025:\tlearn: 0.8139793\ttest: 0.7904587\tbest: 0.7905441 (1009)\ttotal: 4m 27s\tremaining: 17m 17s\n"
     ]
    },
    {
     "name": "stdout",
     "output_type": "stream",
     "text": [
      "1050:\tlearn: 0.8146492\ttest: 0.7904822\tbest: 0.7907555 (1047)\ttotal: 4m 34s\tremaining: 17m 10s\n"
     ]
    },
    {
     "name": "stdout",
     "output_type": "stream",
     "text": [
      "1075:\tlearn: 0.8156638\ttest: 0.7907036\tbest: 0.7907555 (1047)\ttotal: 4m 40s\tremaining: 17m 3s\n"
     ]
    },
    {
     "name": "stdout",
     "output_type": "stream",
     "text": [
      "1100:\tlearn: 0.8163173\ttest: 0.7907310\tbest: 0.7908059 (1092)\ttotal: 4m 47s\tremaining: 16m 57s\n"
     ]
    },
    {
     "name": "stdout",
     "output_type": "stream",
     "text": [
      "1125:\tlearn: 0.8170538\ttest: 0.7910106\tbest: 0.7910293 (1124)\ttotal: 4m 53s\tremaining: 16m 50s\n"
     ]
    },
    {
     "name": "stdout",
     "output_type": "stream",
     "text": [
      "1150:\tlearn: 0.8174813\ttest: 0.7911114\tbest: 0.7912155 (1148)\ttotal: 5m\tremaining: 16m 44s\n"
     ]
    },
    {
     "name": "stdout",
     "output_type": "stream",
     "text": [
      "1175:\tlearn: 0.8181327\ttest: 0.7907404\tbest: 0.7912155 (1148)\ttotal: 5m 6s\tremaining: 16m 37s\n"
     ]
    },
    {
     "name": "stdout",
     "output_type": "stream",
     "text": [
      "1200:\tlearn: 0.8188461\ttest: 0.7904072\tbest: 0.7912155 (1148)\ttotal: 5m 13s\tremaining: 16m 31s\n"
     ]
    },
    {
     "name": "stdout",
     "output_type": "stream",
     "text": [
      "1225:\tlearn: 0.8196190\ttest: 0.7904570\tbest: 0.7912155 (1148)\ttotal: 5m 19s\tremaining: 16m 24s\n"
     ]
    },
    {
     "name": "stdout",
     "output_type": "stream",
     "text": [
      "1250:\tlearn: 0.8203469\ttest: 0.7904450\tbest: 0.7912155 (1148)\ttotal: 5m 26s\tremaining: 16m 17s\n"
     ]
    },
    {
     "name": "stdout",
     "output_type": "stream",
     "text": [
      "1275:\tlearn: 0.8209441\ttest: 0.7900426\tbest: 0.7912155 (1148)\ttotal: 5m 32s\tremaining: 16m 11s\n"
     ]
    },
    {
     "name": "stdout",
     "output_type": "stream",
     "text": [
      "1300:\tlearn: 0.8215687\ttest: 0.7904621\tbest: 0.7912155 (1148)\ttotal: 5m 39s\tremaining: 16m 4s\n"
     ]
    },
    {
     "name": "stdout",
     "output_type": "stream",
     "text": [
      "1325:\tlearn: 0.8221541\ttest: 0.7905048\tbest: 0.7912155 (1148)\ttotal: 5m 45s\tremaining: 15m 58s\n"
     ]
    },
    {
     "name": "stdout",
     "output_type": "stream",
     "text": [
      "1350:\tlearn: 0.8225944\ttest: 0.7906019\tbest: 0.7912155 (1148)\ttotal: 5m 52s\tremaining: 15m 51s\n"
     ]
    },
    {
     "name": "stdout",
     "output_type": "stream",
     "text": [
      "1375:\tlearn: 0.8235181\ttest: 0.7907433\tbest: 0.7912155 (1148)\ttotal: 5m 58s\tremaining: 15m 45s\n"
     ]
    },
    {
     "name": "stdout",
     "output_type": "stream",
     "text": [
      "1400:\tlearn: 0.8239769\ttest: 0.7909520\tbest: 0.7912155 (1148)\ttotal: 6m 5s\tremaining: 15m 38s\n"
     ]
    },
    {
     "name": "stdout",
     "output_type": "stream",
     "text": [
      "1425:\tlearn: 0.8246569\ttest: 0.7911353\tbest: 0.7912180 (1421)\ttotal: 6m 11s\tremaining: 15m 31s\n"
     ]
    },
    {
     "name": "stdout",
     "output_type": "stream",
     "text": [
      "1450:\tlearn: 0.8252848\ttest: 0.7912829\tbest: 0.7914228 (1440)\ttotal: 6m 18s\tremaining: 15m 25s\n"
     ]
    },
    {
     "name": "stdout",
     "output_type": "stream",
     "text": [
      "1475:\tlearn: 0.8257906\ttest: 0.7916033\tbest: 0.7917722 (1474)\ttotal: 6m 24s\tremaining: 15m 18s\n"
     ]
    },
    {
     "name": "stdout",
     "output_type": "stream",
     "text": [
      "1500:\tlearn: 0.8261105\ttest: 0.7918916\tbest: 0.7920555 (1491)\ttotal: 6m 31s\tremaining: 15m 12s\n"
     ]
    },
    {
     "name": "stdout",
     "output_type": "stream",
     "text": [
      "1525:\tlearn: 0.8268594\ttest: 0.7914071\tbest: 0.7920555 (1491)\ttotal: 6m 37s\tremaining: 15m 5s\n"
     ]
    },
    {
     "name": "stdout",
     "output_type": "stream",
     "text": [
      "1550:\tlearn: 0.8275219\ttest: 0.7918322\tbest: 0.7920555 (1491)\ttotal: 6m 44s\tremaining: 14m 59s\n"
     ]
    },
    {
     "name": "stdout",
     "output_type": "stream",
     "text": [
      "1575:\tlearn: 0.8281120\ttest: 0.7920969\tbest: 0.7922222 (1571)\ttotal: 6m 50s\tremaining: 14m 52s\n"
     ]
    },
    {
     "name": "stdout",
     "output_type": "stream",
     "text": [
      "1600:\tlearn: 0.8287532\ttest: 0.7922595\tbest: 0.7923647 (1599)\ttotal: 6m 57s\tremaining: 14m 46s\n"
     ]
    },
    {
     "name": "stdout",
     "output_type": "stream",
     "text": [
      "1625:\tlearn: 0.8293812\ttest: 0.7922765\tbest: 0.7925442 (1618)\ttotal: 7m 3s\tremaining: 14m 39s\n"
     ]
    },
    {
     "name": "stdout",
     "output_type": "stream",
     "text": [
      "1650:\tlearn: 0.8299169\ttest: 0.7923135\tbest: 0.7925849 (1645)\ttotal: 7m 10s\tremaining: 14m 33s\n"
     ]
    },
    {
     "name": "stdout",
     "output_type": "stream",
     "text": [
      "1675:\tlearn: 0.8307875\ttest: 0.7923436\tbest: 0.7926716 (1653)\ttotal: 7m 16s\tremaining: 14m 26s\n"
     ]
    },
    {
     "name": "stdout",
     "output_type": "stream",
     "text": [
      "1700:\tlearn: 0.8313446\ttest: 0.7922341\tbest: 0.7926716 (1653)\ttotal: 7m 23s\tremaining: 14m 19s\n"
     ]
    },
    {
     "name": "stdout",
     "output_type": "stream",
     "text": [
      "1725:\tlearn: 0.8318309\ttest: 0.7921071\tbest: 0.7926716 (1653)\ttotal: 7m 29s\tremaining: 14m 13s\n"
     ]
    },
    {
     "name": "stdout",
     "output_type": "stream",
     "text": [
      "1750:\tlearn: 0.8323798\ttest: 0.7919721\tbest: 0.7926716 (1653)\ttotal: 7m 36s\tremaining: 14m 6s\n"
     ]
    },
    {
     "name": "stdout",
     "output_type": "stream",
     "text": [
      "1775:\tlearn: 0.8328622\ttest: 0.7921373\tbest: 0.7926716 (1653)\ttotal: 7m 42s\tremaining: 14m\n"
     ]
    },
    {
     "name": "stdout",
     "output_type": "stream",
     "text": [
      "1800:\tlearn: 0.8336324\ttest: 0.7923370\tbest: 0.7926716 (1653)\ttotal: 7m 49s\tremaining: 13m 53s\n"
     ]
    },
    {
     "name": "stdout",
     "output_type": "stream",
     "text": [
      "1825:\tlearn: 0.8341976\ttest: 0.7923292\tbest: 0.7926716 (1653)\ttotal: 7m 55s\tremaining: 13m 46s\n"
     ]
    },
    {
     "name": "stdout",
     "output_type": "stream",
     "text": [
      "1850:\tlearn: 0.8347023\ttest: 0.7917309\tbest: 0.7926716 (1653)\ttotal: 8m 2s\tremaining: 13m 40s\n"
     ]
    },
    {
     "name": "stdout",
     "output_type": "stream",
     "text": [
      "1875:\tlearn: 0.8351727\ttest: 0.7921284\tbest: 0.7926716 (1653)\ttotal: 8m 8s\tremaining: 13m 33s\n"
     ]
    },
    {
     "name": "stdout",
     "output_type": "stream",
     "text": [
      "1900:\tlearn: 0.8357286\ttest: 0.7921147\tbest: 0.7926716 (1653)\ttotal: 8m 15s\tremaining: 13m 27s\n"
     ]
    },
    {
     "name": "stdout",
     "output_type": "stream",
     "text": [
      "1925:\tlearn: 0.8363622\ttest: 0.7925648\tbest: 0.7926716 (1653)\ttotal: 8m 21s\tremaining: 13m 20s\n"
     ]
    },
    {
     "name": "stdout",
     "output_type": "stream",
     "text": [
      "1950:\tlearn: 0.8368486\ttest: 0.7924828\tbest: 0.7926716 (1653)\ttotal: 8m 28s\tremaining: 13m 14s\n"
     ]
    },
    {
     "name": "stdout",
     "output_type": "stream",
     "text": [
      "1975:\tlearn: 0.8374002\ttest: 0.7921158\tbest: 0.7926828 (1971)\ttotal: 8m 34s\tremaining: 13m 7s\n"
     ]
    },
    {
     "name": "stdout",
     "output_type": "stream",
     "text": [
      "2000:\tlearn: 0.8377955\ttest: 0.7923374\tbest: 0.7926828 (1971)\ttotal: 8m 41s\tremaining: 13m 1s\n"
     ]
    },
    {
     "name": "stdout",
     "output_type": "stream",
     "text": [
      "2025:\tlearn: 0.8381831\ttest: 0.7925669\tbest: 0.7926828 (1971)\ttotal: 8m 47s\tremaining: 12m 54s\n"
     ]
    },
    {
     "name": "stdout",
     "output_type": "stream",
     "text": [
      "2050:\tlearn: 0.8390275\ttest: 0.7928228\tbest: 0.7928228 (2050)\ttotal: 8m 54s\tremaining: 12m 48s\n"
     ]
    },
    {
     "name": "stdout",
     "output_type": "stream",
     "text": [
      "2075:\tlearn: 0.8394558\ttest: 0.7933984\tbest: 0.7933984 (2074)\ttotal: 9m\tremaining: 12m 41s\n"
     ]
    },
    {
     "name": "stdout",
     "output_type": "stream",
     "text": [
      "2100:\tlearn: 0.8397446\ttest: 0.7932730\tbest: 0.7935049 (2079)\ttotal: 9m 7s\tremaining: 12m 35s\n"
     ]
    },
    {
     "name": "stdout",
     "output_type": "stream",
     "text": [
      "2125:\tlearn: 0.8404398\ttest: 0.7928253\tbest: 0.7935049 (2079)\ttotal: 9m 13s\tremaining: 12m 28s\n"
     ]
    },
    {
     "name": "stdout",
     "output_type": "stream",
     "text": [
      "2150:\tlearn: 0.8409086\ttest: 0.7930804\tbest: 0.7935049 (2079)\ttotal: 9m 20s\tremaining: 12m 22s\n"
     ]
    },
    {
     "name": "stdout",
     "output_type": "stream",
     "text": [
      "2175:\tlearn: 0.8414316\ttest: 0.7930747\tbest: 0.7935049 (2079)\ttotal: 9m 26s\tremaining: 12m 15s\n"
     ]
    },
    {
     "name": "stdout",
     "output_type": "stream",
     "text": [
      "2200:\tlearn: 0.8419036\ttest: 0.7933836\tbest: 0.7935049 (2079)\ttotal: 9m 33s\tremaining: 12m 8s\n"
     ]
    },
    {
     "name": "stdout",
     "output_type": "stream",
     "text": [
      "2225:\tlearn: 0.8424015\ttest: 0.7933225\tbest: 0.7935049 (2079)\ttotal: 9m 39s\tremaining: 12m 2s\n"
     ]
    },
    {
     "name": "stdout",
     "output_type": "stream",
     "text": [
      "2250:\tlearn: 0.8429774\ttest: 0.7931850\tbest: 0.7935049 (2079)\ttotal: 9m 46s\tremaining: 11m 55s\n"
     ]
    },
    {
     "name": "stdout",
     "output_type": "stream",
     "text": [
      "2275:\tlearn: 0.8431510\ttest: 0.7931913\tbest: 0.7935049 (2079)\ttotal: 9m 52s\tremaining: 11m 49s\n"
     ]
    },
    {
     "name": "stdout",
     "output_type": "stream",
     "text": [
      "2300:\tlearn: 0.8437858\ttest: 0.7932382\tbest: 0.7935049 (2079)\ttotal: 9m 59s\tremaining: 11m 42s\n"
     ]
    },
    {
     "name": "stdout",
     "output_type": "stream",
     "text": [
      "2325:\tlearn: 0.8444239\ttest: 0.7928887\tbest: 0.7935049 (2079)\ttotal: 10m 5s\tremaining: 11m 36s\n"
     ]
    },
    {
     "name": "stdout",
     "output_type": "stream",
     "text": [
      "2350:\tlearn: 0.8448407\ttest: 0.7931731\tbest: 0.7935049 (2079)\ttotal: 10m 12s\tremaining: 11m 29s\n"
     ]
    },
    {
     "name": "stdout",
     "output_type": "stream",
     "text": [
      "2375:\tlearn: 0.8455687\ttest: 0.7932908\tbest: 0.7935049 (2079)\ttotal: 10m 18s\tremaining: 11m 23s\n"
     ]
    },
    {
     "name": "stdout",
     "output_type": "stream",
     "text": [
      "2400:\tlearn: 0.8459973\ttest: 0.7933195\tbest: 0.7936304 (2391)\ttotal: 10m 25s\tremaining: 11m 16s\n"
     ]
    },
    {
     "name": "stdout",
     "output_type": "stream",
     "text": [
      "2425:\tlearn: 0.8466368\ttest: 0.7931498\tbest: 0.7936304 (2391)\ttotal: 10m 31s\tremaining: 11m 10s\n"
     ]
    },
    {
     "name": "stdout",
     "output_type": "stream",
     "text": [
      "2450:\tlearn: 0.8472446\ttest: 0.7931615\tbest: 0.7936304 (2391)\ttotal: 10m 38s\tremaining: 11m 3s\n"
     ]
    },
    {
     "name": "stdout",
     "output_type": "stream",
     "text": [
      "2475:\tlearn: 0.8477764\ttest: 0.7934390\tbest: 0.7936304 (2391)\ttotal: 10m 44s\tremaining: 10m 57s\n"
     ]
    },
    {
     "name": "stdout",
     "output_type": "stream",
     "text": [
      "2500:\tlearn: 0.8481970\ttest: 0.7933803\tbest: 0.7936304 (2391)\ttotal: 10m 51s\tremaining: 10m 50s\n"
     ]
    },
    {
     "name": "stdout",
     "output_type": "stream",
     "text": [
      "2525:\tlearn: 0.8486411\ttest: 0.7940421\tbest: 0.7940421 (2525)\ttotal: 10m 57s\tremaining: 10m 43s\n"
     ]
    },
    {
     "name": "stdout",
     "output_type": "stream",
     "text": [
      "2550:\tlearn: 0.8492862\ttest: 0.7940791\tbest: 0.7941043 (2533)\ttotal: 11m 3s\tremaining: 10m 37s\n"
     ]
    },
    {
     "name": "stdout",
     "output_type": "stream",
     "text": [
      "2575:\tlearn: 0.8499849\ttest: 0.7935965\tbest: 0.7941043 (2533)\ttotal: 11m 10s\tremaining: 10m 30s\n"
     ]
    },
    {
     "name": "stdout",
     "output_type": "stream",
     "text": [
      "2600:\tlearn: 0.8502171\ttest: 0.7935596\tbest: 0.7941043 (2533)\ttotal: 11m 16s\tremaining: 10m 24s\n"
     ]
    },
    {
     "name": "stdout",
     "output_type": "stream",
     "text": [
      "2625:\tlearn: 0.8509284\ttest: 0.7936093\tbest: 0.7941043 (2533)\ttotal: 11m 23s\tremaining: 10m 17s\n"
     ]
    },
    {
     "name": "stdout",
     "output_type": "stream",
     "text": [
      "2650:\tlearn: 0.8517406\ttest: 0.7940184\tbest: 0.7941043 (2533)\ttotal: 11m 29s\tremaining: 10m 11s\n"
     ]
    },
    {
     "name": "stdout",
     "output_type": "stream",
     "text": [
      "2675:\tlearn: 0.8521758\ttest: 0.7942761\tbest: 0.7942761 (2675)\ttotal: 11m 36s\tremaining: 10m 4s\n"
     ]
    },
    {
     "name": "stdout",
     "output_type": "stream",
     "text": [
      "2700:\tlearn: 0.8525510\ttest: 0.7939378\tbest: 0.7943175 (2677)\ttotal: 11m 42s\tremaining: 9m 58s\n"
     ]
    },
    {
     "name": "stdout",
     "output_type": "stream",
     "text": [
      "2725:\tlearn: 0.8531000\ttest: 0.7942598\tbest: 0.7943175 (2677)\ttotal: 11m 49s\tremaining: 9m 51s\n"
     ]
    },
    {
     "name": "stdout",
     "output_type": "stream",
     "text": [
      "2750:\tlearn: 0.8538277\ttest: 0.7938656\tbest: 0.7943175 (2677)\ttotal: 11m 55s\tremaining: 9m 45s\n"
     ]
    },
    {
     "name": "stdout",
     "output_type": "stream",
     "text": [
      "2775:\tlearn: 0.8542587\ttest: 0.7939879\tbest: 0.7943175 (2677)\ttotal: 12m 2s\tremaining: 9m 38s\n"
     ]
    },
    {
     "name": "stdout",
     "output_type": "stream",
     "text": [
      "2800:\tlearn: 0.8548548\ttest: 0.7936747\tbest: 0.7943175 (2677)\ttotal: 12m 8s\tremaining: 9m 32s\n"
     ]
    },
    {
     "name": "stdout",
     "output_type": "stream",
     "text": [
      "2825:\tlearn: 0.8551877\ttest: 0.7937036\tbest: 0.7943175 (2677)\ttotal: 12m 15s\tremaining: 9m 25s\n"
     ]
    },
    {
     "name": "stdout",
     "output_type": "stream",
     "text": [
      "2850:\tlearn: 0.8554687\ttest: 0.7938921\tbest: 0.7943175 (2677)\ttotal: 12m 21s\tremaining: 9m 18s\n"
     ]
    },
    {
     "name": "stdout",
     "output_type": "stream",
     "text": [
      "2875:\tlearn: 0.8559894\ttest: 0.7936055\tbest: 0.7943175 (2677)\ttotal: 12m 28s\tremaining: 9m 12s\n"
     ]
    },
    {
     "name": "stdout",
     "output_type": "stream",
     "text": [
      "2900:\tlearn: 0.8563871\ttest: 0.7934209\tbest: 0.7943175 (2677)\ttotal: 12m 34s\tremaining: 9m 5s\n"
     ]
    },
    {
     "name": "stdout",
     "output_type": "stream",
     "text": [
      "2925:\tlearn: 0.8567824\ttest: 0.7932783\tbest: 0.7943175 (2677)\ttotal: 12m 41s\tremaining: 8m 59s\n"
     ]
    },
    {
     "name": "stdout",
     "output_type": "stream",
     "text": [
      "2950:\tlearn: 0.8572679\ttest: 0.7935096\tbest: 0.7943175 (2677)\ttotal: 12m 47s\tremaining: 8m 52s\n"
     ]
    },
    {
     "name": "stdout",
     "output_type": "stream",
     "text": [
      "2975:\tlearn: 0.8576741\ttest: 0.7933344\tbest: 0.7943175 (2677)\ttotal: 12m 53s\tremaining: 8m 46s\n"
     ]
    },
    {
     "name": "stdout",
     "output_type": "stream",
     "text": [
      "3000:\tlearn: 0.8582996\ttest: 0.7932127\tbest: 0.7943175 (2677)\ttotal: 13m\tremaining: 8m 39s\n"
     ]
    },
    {
     "name": "stdout",
     "output_type": "stream",
     "text": [
      "3025:\tlearn: 0.8587731\ttest: 0.7931947\tbest: 0.7943175 (2677)\ttotal: 13m 6s\tremaining: 8m 33s\n"
     ]
    },
    {
     "name": "stdout",
     "output_type": "stream",
     "text": [
      "3050:\tlearn: 0.8592747\ttest: 0.7928007\tbest: 0.7943175 (2677)\ttotal: 13m 13s\tremaining: 8m 26s\n"
     ]
    },
    {
     "name": "stdout",
     "output_type": "stream",
     "text": [
      "3075:\tlearn: 0.8596013\ttest: 0.7927579\tbest: 0.7943175 (2677)\ttotal: 13m 19s\tremaining: 8m 20s\n"
     ]
    },
    {
     "name": "stdout",
     "output_type": "stream",
     "text": [
      "3100:\tlearn: 0.8600469\ttest: 0.7925949\tbest: 0.7943175 (2677)\ttotal: 13m 26s\tremaining: 8m 13s\n"
     ]
    },
    {
     "name": "stdout",
     "output_type": "stream",
     "text": [
      "3125:\tlearn: 0.8604610\ttest: 0.7933602\tbest: 0.7943175 (2677)\ttotal: 13m 32s\tremaining: 8m 7s\n"
     ]
    },
    {
     "name": "stdout",
     "output_type": "stream",
     "text": [
      "3150:\tlearn: 0.8610715\ttest: 0.7934936\tbest: 0.7943175 (2677)\ttotal: 13m 39s\tremaining: 8m\n"
     ]
    },
    {
     "name": "stdout",
     "output_type": "stream",
     "text": [
      "3175:\tlearn: 0.8616164\ttest: 0.7933923\tbest: 0.7943175 (2677)\ttotal: 13m 45s\tremaining: 7m 54s\n"
     ]
    },
    {
     "name": "stdout",
     "output_type": "stream",
     "text": [
      "3200:\tlearn: 0.8620412\ttest: 0.7938738\tbest: 0.7943175 (2677)\ttotal: 13m 52s\tremaining: 7m 47s\n"
     ]
    },
    {
     "name": "stdout",
     "output_type": "stream",
     "text": [
      "3225:\tlearn: 0.8623472\ttest: 0.7940242\tbest: 0.7943175 (2677)\ttotal: 13m 58s\tremaining: 7m 41s\n"
     ]
    },
    {
     "name": "stdout",
     "output_type": "stream",
     "text": [
      "3250:\tlearn: 0.8628040\ttest: 0.7937057\tbest: 0.7943175 (2677)\ttotal: 14m 5s\tremaining: 7m 34s\n"
     ]
    },
    {
     "name": "stdout",
     "output_type": "stream",
     "text": [
      "3275:\tlearn: 0.8631849\ttest: 0.7935335\tbest: 0.7943175 (2677)\ttotal: 14m 11s\tremaining: 7m 28s\n"
     ]
    },
    {
     "name": "stdout",
     "output_type": "stream",
     "text": [
      "3300:\tlearn: 0.8638044\ttest: 0.7935123\tbest: 0.7943175 (2677)\ttotal: 14m 18s\tremaining: 7m 21s\n"
     ]
    },
    {
     "name": "stdout",
     "output_type": "stream",
     "text": [
      "3325:\tlearn: 0.8644455\ttest: 0.7935555\tbest: 0.7943175 (2677)\ttotal: 14m 24s\tremaining: 7m 15s\n"
     ]
    },
    {
     "name": "stdout",
     "output_type": "stream",
     "text": [
      "3350:\tlearn: 0.8650270\ttest: 0.7934146\tbest: 0.7943175 (2677)\ttotal: 14m 31s\tremaining: 7m 8s\n"
     ]
    },
    {
     "name": "stdout",
     "output_type": "stream",
     "text": [
      "3375:\tlearn: 0.8654411\ttest: 0.7933302\tbest: 0.7943175 (2677)\ttotal: 14m 37s\tremaining: 7m 2s\n"
     ]
    },
    {
     "name": "stdout",
     "output_type": "stream",
     "text": [
      "3400:\tlearn: 0.8658430\ttest: 0.7933730\tbest: 0.7943175 (2677)\ttotal: 14m 43s\tremaining: 6m 55s\n"
     ]
    },
    {
     "name": "stdout",
     "output_type": "stream",
     "text": [
      "3425:\tlearn: 0.8662040\ttest: 0.7931430\tbest: 0.7943175 (2677)\ttotal: 14m 50s\tremaining: 6m 49s\n"
     ]
    },
    {
     "name": "stdout",
     "output_type": "stream",
     "text": [
      "3450:\tlearn: 0.8666390\ttest: 0.7932671\tbest: 0.7943175 (2677)\ttotal: 14m 56s\tremaining: 6m 42s\n"
     ]
    },
    {
     "name": "stdout",
     "output_type": "stream",
     "text": [
      "3475:\tlearn: 0.8670241\ttest: 0.7932254\tbest: 0.7943175 (2677)\ttotal: 15m 3s\tremaining: 6m 36s\n"
     ]
    },
    {
     "name": "stdout",
     "output_type": "stream",
     "text": [
      "3500:\tlearn: 0.8674859\ttest: 0.7931028\tbest: 0.7943175 (2677)\ttotal: 15m 9s\tremaining: 6m 29s\n"
     ]
    },
    {
     "name": "stdout",
     "output_type": "stream",
     "text": [
      "3525:\tlearn: 0.8679927\ttest: 0.7928526\tbest: 0.7943175 (2677)\ttotal: 15m 16s\tremaining: 6m 23s\n"
     ]
    },
    {
     "name": "stdout",
     "output_type": "stream",
     "text": [
      "3550:\tlearn: 0.8684518\ttest: 0.7927948\tbest: 0.7943175 (2677)\ttotal: 15m 22s\tremaining: 6m 16s\n"
     ]
    },
    {
     "name": "stdout",
     "output_type": "stream",
     "text": [
      "3575:\tlearn: 0.8688243\ttest: 0.7929918\tbest: 0.7943175 (2677)\ttotal: 15m 29s\tremaining: 6m 10s\n"
     ]
    },
    {
     "name": "stdout",
     "output_type": "stream",
     "text": [
      "3600:\tlearn: 0.8692024\ttest: 0.7932241\tbest: 0.7943175 (2677)\ttotal: 15m 35s\tremaining: 6m 3s\n"
     ]
    },
    {
     "name": "stdout",
     "output_type": "stream",
     "text": [
      "3625:\tlearn: 0.8696903\ttest: 0.7933140\tbest: 0.7943175 (2677)\ttotal: 15m 42s\tremaining: 5m 57s\n"
     ]
    },
    {
     "name": "stdout",
     "output_type": "stream",
     "text": [
      "3650:\tlearn: 0.8702294\ttest: 0.7930678\tbest: 0.7943175 (2677)\ttotal: 15m 48s\tremaining: 5m 50s\n"
     ]
    },
    {
     "name": "stdout",
     "output_type": "stream",
     "text": [
      "3675:\tlearn: 0.8705745\ttest: 0.7933392\tbest: 0.7943175 (2677)\ttotal: 15m 55s\tremaining: 5m 44s\n"
     ]
    },
    {
     "name": "stdout",
     "output_type": "stream",
     "text": [
      "3700:\tlearn: 0.8710174\ttest: 0.7930604\tbest: 0.7943175 (2677)\ttotal: 16m 1s\tremaining: 5m 37s\n"
     ]
    },
    {
     "name": "stdout",
     "output_type": "stream",
     "text": [
      "3725:\tlearn: 0.8712772\ttest: 0.7927035\tbest: 0.7943175 (2677)\ttotal: 16m 8s\tremaining: 5m 31s\n"
     ]
    },
    {
     "name": "stdout",
     "output_type": "stream",
     "text": [
      "3750:\tlearn: 0.8719209\ttest: 0.7928979\tbest: 0.7943175 (2677)\ttotal: 16m 14s\tremaining: 5m 24s\n"
     ]
    },
    {
     "name": "stdout",
     "output_type": "stream",
     "text": [
      "3775:\tlearn: 0.8723837\ttest: 0.7930075\tbest: 0.7943175 (2677)\ttotal: 16m 21s\tremaining: 5m 18s\n"
     ]
    },
    {
     "name": "stdout",
     "output_type": "stream",
     "text": [
      "3800:\tlearn: 0.8727261\ttest: 0.7929084\tbest: 0.7943175 (2677)\ttotal: 16m 27s\tremaining: 5m 11s\n"
     ]
    },
    {
     "name": "stdout",
     "output_type": "stream",
     "text": [
      "3825:\tlearn: 0.8730681\ttest: 0.7928937\tbest: 0.7943175 (2677)\ttotal: 16m 34s\tremaining: 5m 5s\n"
     ]
    },
    {
     "name": "stdout",
     "output_type": "stream",
     "text": [
      "3850:\tlearn: 0.8734914\ttest: 0.7928544\tbest: 0.7943175 (2677)\ttotal: 16m 40s\tremaining: 4m 58s\n"
     ]
    },
    {
     "name": "stdout",
     "output_type": "stream",
     "text": [
      "3875:\tlearn: 0.8738034\ttest: 0.7929358\tbest: 0.7943175 (2677)\ttotal: 16m 47s\tremaining: 4m 52s\n"
     ]
    },
    {
     "name": "stdout",
     "output_type": "stream",
     "text": [
      "3900:\tlearn: 0.8745237\ttest: 0.7934882\tbest: 0.7943175 (2677)\ttotal: 16m 53s\tremaining: 4m 45s\n"
     ]
    },
    {
     "name": "stdout",
     "output_type": "stream",
     "text": [
      "3925:\tlearn: 0.8749790\ttest: 0.7930281\tbest: 0.7943175 (2677)\ttotal: 17m\tremaining: 4m 39s\n"
     ]
    },
    {
     "name": "stdout",
     "output_type": "stream",
     "text": [
      "3950:\tlearn: 0.8755208\ttest: 0.7927958\tbest: 0.7943175 (2677)\ttotal: 17m 6s\tremaining: 4m 32s\n"
     ]
    },
    {
     "name": "stdout",
     "output_type": "stream",
     "text": [
      "3975:\tlearn: 0.8759317\ttest: 0.7929181\tbest: 0.7943175 (2677)\ttotal: 17m 13s\tremaining: 4m 26s\n"
     ]
    },
    {
     "name": "stdout",
     "output_type": "stream",
     "text": [
      "4000:\tlearn: 0.8763326\ttest: 0.7929203\tbest: 0.7943175 (2677)\ttotal: 17m 19s\tremaining: 4m 19s\n"
     ]
    },
    {
     "name": "stdout",
     "output_type": "stream",
     "text": [
      "4025:\tlearn: 0.8765662\ttest: 0.7929452\tbest: 0.7943175 (2677)\ttotal: 17m 26s\tremaining: 4m 13s\n"
     ]
    },
    {
     "name": "stdout",
     "output_type": "stream",
     "text": [
      "4050:\tlearn: 0.8770243\ttest: 0.7930093\tbest: 0.7943175 (2677)\ttotal: 17m 32s\tremaining: 4m 6s\n"
     ]
    },
    {
     "name": "stdout",
     "output_type": "stream",
     "text": [
      "4075:\tlearn: 0.8773842\ttest: 0.7931190\tbest: 0.7943175 (2677)\ttotal: 17m 39s\tremaining: 4m\n"
     ]
    },
    {
     "name": "stdout",
     "output_type": "stream",
     "text": [
      "4100:\tlearn: 0.8779500\ttest: 0.7936015\tbest: 0.7943175 (2677)\ttotal: 17m 45s\tremaining: 3m 53s\n"
     ]
    },
    {
     "name": "stdout",
     "output_type": "stream",
     "text": [
      "4125:\tlearn: 0.8782848\ttest: 0.7933047\tbest: 0.7943175 (2677)\ttotal: 17m 52s\tremaining: 3m 47s\n"
     ]
    },
    {
     "name": "stdout",
     "output_type": "stream",
     "text": [
      "4150:\tlearn: 0.8788584\ttest: 0.7933251\tbest: 0.7943175 (2677)\ttotal: 17m 58s\tremaining: 3m 40s\n"
     ]
    },
    {
     "name": "stdout",
     "output_type": "stream",
     "text": [
      "4175:\tlearn: 0.8792894\ttest: 0.7931481\tbest: 0.7943175 (2677)\ttotal: 18m 5s\tremaining: 3m 34s\n"
     ]
    },
    {
     "name": "stdout",
     "output_type": "stream",
     "text": [
      "4200:\tlearn: 0.8796584\ttest: 0.7933751\tbest: 0.7943175 (2677)\ttotal: 18m 11s\tremaining: 3m 27s\n"
     ]
    },
    {
     "name": "stdout",
     "output_type": "stream",
     "text": [
      "4225:\tlearn: 0.8801329\ttest: 0.7934974\tbest: 0.7943175 (2677)\ttotal: 18m 17s\tremaining: 3m 21s\n"
     ]
    },
    {
     "name": "stdout",
     "output_type": "stream",
     "text": [
      "4250:\tlearn: 0.8805090\ttest: 0.7934548\tbest: 0.7943175 (2677)\ttotal: 18m 24s\tremaining: 3m 14s\n"
     ]
    },
    {
     "name": "stdout",
     "output_type": "stream",
     "text": [
      "4275:\tlearn: 0.8809921\ttest: 0.7932222\tbest: 0.7943175 (2677)\ttotal: 18m 31s\tremaining: 3m 8s\n"
     ]
    },
    {
     "name": "stdout",
     "output_type": "stream",
     "text": [
      "4300:\tlearn: 0.8814345\ttest: 0.7934800\tbest: 0.7943175 (2677)\ttotal: 18m 37s\tremaining: 3m 1s\n"
     ]
    },
    {
     "name": "stdout",
     "output_type": "stream",
     "text": [
      "4325:\tlearn: 0.8817143\ttest: 0.7937972\tbest: 0.7943175 (2677)\ttotal: 18m 44s\tremaining: 2m 55s\n"
     ]
    },
    {
     "name": "stdout",
     "output_type": "stream",
     "text": [
      "4350:\tlearn: 0.8822117\ttest: 0.7937970\tbest: 0.7943175 (2677)\ttotal: 18m 50s\tremaining: 2m 48s\n"
     ]
    },
    {
     "name": "stdout",
     "output_type": "stream",
     "text": [
      "4375:\tlearn: 0.8825416\ttest: 0.7932878\tbest: 0.7943175 (2677)\ttotal: 18m 56s\tremaining: 2m 42s\n"
     ]
    },
    {
     "name": "stdout",
     "output_type": "stream",
     "text": [
      "4400:\tlearn: 0.8830022\ttest: 0.7932881\tbest: 0.7943175 (2677)\ttotal: 19m 3s\tremaining: 2m 35s\n"
     ]
    },
    {
     "name": "stdout",
     "output_type": "stream",
     "text": [
      "4425:\tlearn: 0.8833019\ttest: 0.7936760\tbest: 0.7943175 (2677)\ttotal: 19m 9s\tremaining: 2m 29s\n"
     ]
    },
    {
     "name": "stdout",
     "output_type": "stream",
     "text": [
      "4450:\tlearn: 0.8837452\ttest: 0.7934001\tbest: 0.7943175 (2677)\ttotal: 19m 16s\tremaining: 2m 22s\n"
     ]
    },
    {
     "name": "stdout",
     "output_type": "stream",
     "text": [
      "4475:\tlearn: 0.8841191\ttest: 0.7931759\tbest: 0.7943175 (2677)\ttotal: 19m 22s\tremaining: 2m 16s\n"
     ]
    },
    {
     "name": "stdout",
     "output_type": "stream",
     "text": [
      "4500:\tlearn: 0.8844710\ttest: 0.7933025\tbest: 0.7943175 (2677)\ttotal: 19m 29s\tremaining: 2m 9s\n"
     ]
    },
    {
     "name": "stdout",
     "output_type": "stream",
     "text": [
      "4525:\tlearn: 0.8848840\ttest: 0.7938112\tbest: 0.7943175 (2677)\ttotal: 19m 35s\tremaining: 2m 3s\n"
     ]
    },
    {
     "name": "stdout",
     "output_type": "stream",
     "text": [
      "4550:\tlearn: 0.8851919\ttest: 0.7938521\tbest: 0.7943175 (2677)\ttotal: 19m 42s\tremaining: 1m 56s\n"
     ]
    },
    {
     "name": "stdout",
     "output_type": "stream",
     "text": [
      "4575:\tlearn: 0.8854807\ttest: 0.7937497\tbest: 0.7943175 (2677)\ttotal: 19m 48s\tremaining: 1m 50s\n"
     ]
    },
    {
     "name": "stdout",
     "output_type": "stream",
     "text": [
      "4600:\tlearn: 0.8859338\ttest: 0.7941772\tbest: 0.7943175 (2677)\ttotal: 19m 55s\tremaining: 1m 43s\n"
     ]
    },
    {
     "name": "stdout",
     "output_type": "stream",
     "text": [
      "4625:\tlearn: 0.8863471\ttest: 0.7939662\tbest: 0.7943175 (2677)\ttotal: 20m 1s\tremaining: 1m 37s\n"
     ]
    },
    {
     "name": "stdout",
     "output_type": "stream",
     "text": [
      "4650:\tlearn: 0.8867499\ttest: 0.7939283\tbest: 0.7943175 (2677)\ttotal: 20m 8s\tremaining: 1m 30s\n"
     ]
    },
    {
     "name": "stdout",
     "output_type": "stream",
     "text": [
      "4675:\tlearn: 0.8870561\ttest: 0.7937474\tbest: 0.7943175 (2677)\ttotal: 20m 14s\tremaining: 1m 24s\n"
     ]
    },
    {
     "name": "stdout",
     "output_type": "stream",
     "text": [
      "4700:\tlearn: 0.8874828\ttest: 0.7938565\tbest: 0.7943175 (2677)\ttotal: 20m 21s\tremaining: 1m 17s\n"
     ]
    },
    {
     "name": "stdout",
     "output_type": "stream",
     "text": [
      "4725:\tlearn: 0.8880457\ttest: 0.7937983\tbest: 0.7943175 (2677)\ttotal: 20m 27s\tremaining: 1m 11s\n"
     ]
    },
    {
     "name": "stdout",
     "output_type": "stream",
     "text": [
      "4750:\tlearn: 0.8884032\ttest: 0.7934808\tbest: 0.7943175 (2677)\ttotal: 20m 34s\tremaining: 1m 4s\n"
     ]
    },
    {
     "name": "stdout",
     "output_type": "stream",
     "text": [
      "4775:\tlearn: 0.8890126\ttest: 0.7935220\tbest: 0.7943175 (2677)\ttotal: 20m 40s\tremaining: 58.2s\n"
     ]
    },
    {
     "name": "stdout",
     "output_type": "stream",
     "text": [
      "4800:\tlearn: 0.8894388\ttest: 0.7934859\tbest: 0.7943175 (2677)\ttotal: 20m 47s\tremaining: 51.7s\n"
     ]
    },
    {
     "name": "stdout",
     "output_type": "stream",
     "text": [
      "4825:\tlearn: 0.8898855\ttest: 0.7934496\tbest: 0.7943175 (2677)\ttotal: 20m 53s\tremaining: 45.2s\n"
     ]
    },
    {
     "name": "stdout",
     "output_type": "stream",
     "text": [
      "4850:\tlearn: 0.8901079\ttest: 0.7930136\tbest: 0.7943175 (2677)\ttotal: 21m\tremaining: 38.7s\n"
     ]
    },
    {
     "name": "stdout",
     "output_type": "stream",
     "text": [
      "4875:\tlearn: 0.8904823\ttest: 0.7930330\tbest: 0.7943175 (2677)\ttotal: 21m 6s\tremaining: 32.2s\n"
     ]
    },
    {
     "name": "stdout",
     "output_type": "stream",
     "text": [
      "4900:\tlearn: 0.8908055\ttest: 0.7926303\tbest: 0.7943175 (2677)\ttotal: 21m 13s\tremaining: 25.7s\n"
     ]
    },
    {
     "name": "stdout",
     "output_type": "stream",
     "text": [
      "4925:\tlearn: 0.8912121\ttest: 0.7927912\tbest: 0.7943175 (2677)\ttotal: 21m 19s\tremaining: 19.2s\n"
     ]
    },
    {
     "name": "stdout",
     "output_type": "stream",
     "text": [
      "4950:\tlearn: 0.8916321\ttest: 0.7928990\tbest: 0.7943175 (2677)\ttotal: 21m 26s\tremaining: 12.7s\n"
     ]
    },
    {
     "name": "stdout",
     "output_type": "stream",
     "text": [
      "4975:\tlearn: 0.8919137\ttest: 0.7930118\tbest: 0.7943175 (2677)\ttotal: 21m 32s\tremaining: 6.24s\n"
     ]
    },
    {
     "name": "stdout",
     "output_type": "stream",
     "text": [
      "4999:\tlearn: 0.8921921\ttest: 0.7932657\tbest: 0.7943175 (2677)\ttotal: 21m 39s\tremaining: 0us\n",
      "\n",
      "bestTest = 0.7943174832\n",
      "bestIteration = 2677\n",
      "\n"
     ]
    },
    {
     "name": "stdout",
     "output_type": "stream",
     "text": [
      "######################################## training model 4/5 ########################################\n"
     ]
    },
    {
     "name": "stdout",
     "output_type": "stream",
     "text": [
      "0:\tlearn: 0.5122857\ttest: 0.5144311\tbest: 0.5144311 (0)\ttotal: 586ms\tremaining: 48m 51s\n"
     ]
    },
    {
     "name": "stdout",
     "output_type": "stream",
     "text": [
      "25:\tlearn: 0.7264599\ttest: 0.7318719\tbest: 0.7318719 (25)\ttotal: 7.07s\tremaining: 22m 31s\n"
     ]
    },
    {
     "name": "stdout",
     "output_type": "stream",
     "text": [
      "50:\tlearn: 0.7414258\ttest: 0.7460198\tbest: 0.7460198 (50)\ttotal: 13.6s\tremaining: 21m 56s\n"
     ]
    },
    {
     "name": "stdout",
     "output_type": "stream",
     "text": [
      "75:\tlearn: 0.7500832\ttest: 0.7549600\tbest: 0.7549600 (75)\ttotal: 20.1s\tremaining: 21m 40s\n"
     ]
    },
    {
     "name": "stdout",
     "output_type": "stream",
     "text": [
      "100:\tlearn: 0.7556601\ttest: 0.7600717\tbest: 0.7600717 (100)\ttotal: 26.6s\tremaining: 21m 30s\n"
     ]
    },
    {
     "name": "stdout",
     "output_type": "stream",
     "text": [
      "125:\tlearn: 0.7594353\ttest: 0.7635241\tbest: 0.7635241 (125)\ttotal: 33.1s\tremaining: 21m 22s\n"
     ]
    },
    {
     "name": "stdout",
     "output_type": "stream",
     "text": [
      "150:\tlearn: 0.7622070\ttest: 0.7661643\tbest: 0.7661643 (150)\ttotal: 39.7s\tremaining: 21m 13s\n"
     ]
    },
    {
     "name": "stdout",
     "output_type": "stream",
     "text": [
      "175:\tlearn: 0.7645750\ttest: 0.7680880\tbest: 0.7680880 (175)\ttotal: 46.1s\tremaining: 21m 4s\n"
     ]
    },
    {
     "name": "stdout",
     "output_type": "stream",
     "text": [
      "200:\tlearn: 0.7666466\ttest: 0.7700315\tbest: 0.7700850 (199)\ttotal: 52.6s\tremaining: 20m 56s\n"
     ]
    },
    {
     "name": "stdout",
     "output_type": "stream",
     "text": [
      "225:\tlearn: 0.7686390\ttest: 0.7706620\tbest: 0.7712300 (214)\ttotal: 59.1s\tremaining: 20m 48s\n"
     ]
    },
    {
     "name": "stdout",
     "output_type": "stream",
     "text": [
      "250:\tlearn: 0.7708168\ttest: 0.7725864\tbest: 0.7725864 (250)\ttotal: 1m 5s\tremaining: 20m 42s\n"
     ]
    },
    {
     "name": "stdout",
     "output_type": "stream",
     "text": [
      "275:\tlearn: 0.7733233\ttest: 0.7751971\tbest: 0.7751971 (275)\ttotal: 1m 12s\tremaining: 20m 34s\n"
     ]
    },
    {
     "name": "stdout",
     "output_type": "stream",
     "text": [
      "300:\tlearn: 0.7762103\ttest: 0.7779070\tbest: 0.7780508 (297)\ttotal: 1m 18s\tremaining: 20m 27s\n"
     ]
    },
    {
     "name": "stdout",
     "output_type": "stream",
     "text": [
      "325:\tlearn: 0.7799561\ttest: 0.7811949\tbest: 0.7811949 (325)\ttotal: 1m 25s\tremaining: 20m 20s\n"
     ]
    },
    {
     "name": "stdout",
     "output_type": "stream",
     "text": [
      "350:\tlearn: 0.7828186\ttest: 0.7844408\tbest: 0.7846890 (349)\ttotal: 1m 31s\tremaining: 20m 14s\n"
     ]
    },
    {
     "name": "stdout",
     "output_type": "stream",
     "text": [
      "375:\tlearn: 0.7856166\ttest: 0.7854121\tbest: 0.7857146 (371)\ttotal: 1m 38s\tremaining: 20m 8s\n"
     ]
    },
    {
     "name": "stdout",
     "output_type": "stream",
     "text": [
      "400:\tlearn: 0.7872387\ttest: 0.7871427\tbest: 0.7871427 (400)\ttotal: 1m 44s\tremaining: 20m 1s\n"
     ]
    },
    {
     "name": "stdout",
     "output_type": "stream",
     "text": [
      "425:\tlearn: 0.7893337\ttest: 0.7882143\tbest: 0.7884857 (419)\ttotal: 1m 51s\tremaining: 19m 54s\n"
     ]
    },
    {
     "name": "stdout",
     "output_type": "stream",
     "text": [
      "450:\tlearn: 0.7910405\ttest: 0.7883914\tbest: 0.7887669 (444)\ttotal: 1m 57s\tremaining: 19m 47s\n"
     ]
    },
    {
     "name": "stdout",
     "output_type": "stream",
     "text": [
      "475:\tlearn: 0.7927344\ttest: 0.7888532\tbest: 0.7888532 (475)\ttotal: 2m 4s\tremaining: 19m 40s\n"
     ]
    },
    {
     "name": "stdout",
     "output_type": "stream",
     "text": [
      "500:\tlearn: 0.7939212\ttest: 0.7892875\tbest: 0.7895072 (498)\ttotal: 2m 10s\tremaining: 19m 34s\n"
     ]
    },
    {
     "name": "stdout",
     "output_type": "stream",
     "text": [
      "525:\tlearn: 0.7952036\ttest: 0.7900767\tbest: 0.7901228 (517)\ttotal: 2m 17s\tremaining: 19m 27s\n"
     ]
    },
    {
     "name": "stdout",
     "output_type": "stream",
     "text": [
      "550:\tlearn: 0.7966950\ttest: 0.7902979\tbest: 0.7904813 (549)\ttotal: 2m 23s\tremaining: 19m 20s\n"
     ]
    },
    {
     "name": "stdout",
     "output_type": "stream",
     "text": [
      "575:\tlearn: 0.7977614\ttest: 0.7911564\tbest: 0.7914171 (565)\ttotal: 2m 30s\tremaining: 19m 13s\n"
     ]
    },
    {
     "name": "stdout",
     "output_type": "stream",
     "text": [
      "600:\tlearn: 0.7984439\ttest: 0.7919189\tbest: 0.7919189 (600)\ttotal: 2m 36s\tremaining: 19m 6s\n"
     ]
    },
    {
     "name": "stdout",
     "output_type": "stream",
     "text": [
      "625:\tlearn: 0.7994459\ttest: 0.7920830\tbest: 0.7924515 (608)\ttotal: 2m 43s\tremaining: 18m 59s\n"
     ]
    },
    {
     "name": "stdout",
     "output_type": "stream",
     "text": [
      "650:\tlearn: 0.8003832\ttest: 0.7926167\tbest: 0.7926167 (650)\ttotal: 2m 49s\tremaining: 18m 53s\n"
     ]
    },
    {
     "name": "stdout",
     "output_type": "stream",
     "text": [
      "675:\tlearn: 0.8012203\ttest: 0.7923040\tbest: 0.7926407 (651)\ttotal: 2m 56s\tremaining: 18m 46s\n"
     ]
    },
    {
     "name": "stdout",
     "output_type": "stream",
     "text": [
      "700:\tlearn: 0.8022215\ttest: 0.7926083\tbest: 0.7926407 (651)\ttotal: 3m 2s\tremaining: 18m 40s\n"
     ]
    },
    {
     "name": "stdout",
     "output_type": "stream",
     "text": [
      "725:\tlearn: 0.8031801\ttest: 0.7928476\tbest: 0.7928905 (724)\ttotal: 3m 9s\tremaining: 18m 33s\n"
     ]
    },
    {
     "name": "stdout",
     "output_type": "stream",
     "text": [
      "750:\tlearn: 0.8039030\ttest: 0.7932976\tbest: 0.7933144 (747)\ttotal: 3m 15s\tremaining: 18m 27s\n"
     ]
    },
    {
     "name": "stdout",
     "output_type": "stream",
     "text": [
      "775:\tlearn: 0.8050088\ttest: 0.7927228\tbest: 0.7933829 (751)\ttotal: 3m 22s\tremaining: 18m 20s\n"
     ]
    },
    {
     "name": "stdout",
     "output_type": "stream",
     "text": [
      "800:\tlearn: 0.8059228\ttest: 0.7926424\tbest: 0.7933829 (751)\ttotal: 3m 28s\tremaining: 18m 14s\n"
     ]
    },
    {
     "name": "stdout",
     "output_type": "stream",
     "text": [
      "825:\tlearn: 0.8065646\ttest: 0.7930025\tbest: 0.7933829 (751)\ttotal: 3m 35s\tremaining: 18m 7s\n"
     ]
    },
    {
     "name": "stdout",
     "output_type": "stream",
     "text": [
      "850:\tlearn: 0.8070812\ttest: 0.7930724\tbest: 0.7933829 (751)\ttotal: 3m 41s\tremaining: 18m\n"
     ]
    },
    {
     "name": "stdout",
     "output_type": "stream",
     "text": [
      "875:\tlearn: 0.8080573\ttest: 0.7938036\tbest: 0.7938194 (868)\ttotal: 3m 48s\tremaining: 17m 54s\n"
     ]
    },
    {
     "name": "stdout",
     "output_type": "stream",
     "text": [
      "900:\tlearn: 0.8088048\ttest: 0.7937375\tbest: 0.7940869 (882)\ttotal: 3m 54s\tremaining: 17m 47s\n"
     ]
    },
    {
     "name": "stdout",
     "output_type": "stream",
     "text": [
      "925:\tlearn: 0.8097988\ttest: 0.7942094\tbest: 0.7942506 (924)\ttotal: 4m 1s\tremaining: 17m 41s\n"
     ]
    },
    {
     "name": "stdout",
     "output_type": "stream",
     "text": [
      "950:\tlearn: 0.8107218\ttest: 0.7941747\tbest: 0.7944490 (933)\ttotal: 4m 7s\tremaining: 17m 34s\n"
     ]
    },
    {
     "name": "stdout",
     "output_type": "stream",
     "text": [
      "975:\tlearn: 0.8113782\ttest: 0.7944930\tbest: 0.7948088 (971)\ttotal: 4m 14s\tremaining: 17m 27s\n"
     ]
    },
    {
     "name": "stdout",
     "output_type": "stream",
     "text": [
      "1000:\tlearn: 0.8119605\ttest: 0.7948338\tbest: 0.7949318 (995)\ttotal: 4m 20s\tremaining: 17m 21s\n"
     ]
    },
    {
     "name": "stdout",
     "output_type": "stream",
     "text": [
      "1025:\tlearn: 0.8128033\ttest: 0.7949913\tbest: 0.7950640 (1016)\ttotal: 4m 27s\tremaining: 17m 14s\n"
     ]
    },
    {
     "name": "stdout",
     "output_type": "stream",
     "text": [
      "1050:\tlearn: 0.8135914\ttest: 0.7953095\tbest: 0.7954090 (1043)\ttotal: 4m 33s\tremaining: 17m 7s\n"
     ]
    },
    {
     "name": "stdout",
     "output_type": "stream",
     "text": [
      "1075:\tlearn: 0.8143100\ttest: 0.7953305\tbest: 0.7955645 (1054)\ttotal: 4m 40s\tremaining: 17m 1s\n"
     ]
    },
    {
     "name": "stdout",
     "output_type": "stream",
     "text": [
      "1100:\tlearn: 0.8147776\ttest: 0.7951337\tbest: 0.7955645 (1054)\ttotal: 4m 46s\tremaining: 16m 54s\n"
     ]
    },
    {
     "name": "stdout",
     "output_type": "stream",
     "text": [
      "1125:\tlearn: 0.8155256\ttest: 0.7953956\tbest: 0.7955645 (1054)\ttotal: 4m 53s\tremaining: 16m 48s\n"
     ]
    },
    {
     "name": "stdout",
     "output_type": "stream",
     "text": [
      "1150:\tlearn: 0.8163436\ttest: 0.7951512\tbest: 0.7955645 (1054)\ttotal: 4m 59s\tremaining: 16m 41s\n"
     ]
    },
    {
     "name": "stdout",
     "output_type": "stream",
     "text": [
      "1175:\tlearn: 0.8169522\ttest: 0.7950918\tbest: 0.7955645 (1054)\ttotal: 5m 6s\tremaining: 16m 35s\n"
     ]
    },
    {
     "name": "stdout",
     "output_type": "stream",
     "text": [
      "1200:\tlearn: 0.8177741\ttest: 0.7950850\tbest: 0.7955645 (1054)\ttotal: 5m 12s\tremaining: 16m 28s\n"
     ]
    },
    {
     "name": "stdout",
     "output_type": "stream",
     "text": [
      "1225:\tlearn: 0.8185291\ttest: 0.7953997\tbest: 0.7955645 (1054)\ttotal: 5m 18s\tremaining: 16m 21s\n"
     ]
    },
    {
     "name": "stdout",
     "output_type": "stream",
     "text": [
      "1250:\tlearn: 0.8193925\ttest: 0.7956333\tbest: 0.7956333 (1250)\ttotal: 5m 25s\tremaining: 16m 15s\n"
     ]
    },
    {
     "name": "stdout",
     "output_type": "stream",
     "text": [
      "1275:\tlearn: 0.8201016\ttest: 0.7951524\tbest: 0.7957798 (1251)\ttotal: 5m 31s\tremaining: 16m 8s\n"
     ]
    },
    {
     "name": "stdout",
     "output_type": "stream",
     "text": [
      "1300:\tlearn: 0.8208710\ttest: 0.7955263\tbest: 0.7957798 (1251)\ttotal: 5m 38s\tremaining: 16m 2s\n"
     ]
    },
    {
     "name": "stdout",
     "output_type": "stream",
     "text": [
      "1325:\tlearn: 0.8216466\ttest: 0.7954326\tbest: 0.7957798 (1251)\ttotal: 5m 44s\tremaining: 15m 55s\n"
     ]
    },
    {
     "name": "stdout",
     "output_type": "stream",
     "text": [
      "1350:\tlearn: 0.8223124\ttest: 0.7949588\tbest: 0.7957798 (1251)\ttotal: 5m 51s\tremaining: 15m 48s\n"
     ]
    },
    {
     "name": "stdout",
     "output_type": "stream",
     "text": [
      "1375:\tlearn: 0.8229931\ttest: 0.7952125\tbest: 0.7957798 (1251)\ttotal: 5m 57s\tremaining: 15m 42s\n"
     ]
    },
    {
     "name": "stdout",
     "output_type": "stream",
     "text": [
      "1400:\tlearn: 0.8236545\ttest: 0.7958164\tbest: 0.7958164 (1400)\ttotal: 6m 4s\tremaining: 15m 36s\n"
     ]
    },
    {
     "name": "stdout",
     "output_type": "stream",
     "text": [
      "1425:\tlearn: 0.8240345\ttest: 0.7957455\tbest: 0.7958796 (1401)\ttotal: 6m 10s\tremaining: 15m 29s\n"
     ]
    },
    {
     "name": "stdout",
     "output_type": "stream",
     "text": [
      "1450:\tlearn: 0.8246234\ttest: 0.7961180\tbest: 0.7961180 (1450)\ttotal: 6m 17s\tremaining: 15m 22s\n"
     ]
    },
    {
     "name": "stdout",
     "output_type": "stream",
     "text": [
      "1475:\tlearn: 0.8251896\ttest: 0.7959010\tbest: 0.7961180 (1450)\ttotal: 6m 23s\tremaining: 15m 16s\n"
     ]
    },
    {
     "name": "stdout",
     "output_type": "stream",
     "text": [
      "1500:\tlearn: 0.8259102\ttest: 0.7957932\tbest: 0.7961180 (1450)\ttotal: 6m 30s\tremaining: 15m 10s\n"
     ]
    },
    {
     "name": "stdout",
     "output_type": "stream",
     "text": [
      "1525:\tlearn: 0.8263593\ttest: 0.7960757\tbest: 0.7962189 (1520)\ttotal: 6m 36s\tremaining: 15m 3s\n"
     ]
    },
    {
     "name": "stdout",
     "output_type": "stream",
     "text": [
      "1550:\tlearn: 0.8270782\ttest: 0.7957314\tbest: 0.7962189 (1520)\ttotal: 6m 43s\tremaining: 14m 56s\n"
     ]
    },
    {
     "name": "stdout",
     "output_type": "stream",
     "text": [
      "1575:\tlearn: 0.8278122\ttest: 0.7960757\tbest: 0.7962189 (1520)\ttotal: 6m 49s\tremaining: 14m 50s\n"
     ]
    },
    {
     "name": "stdout",
     "output_type": "stream",
     "text": [
      "1600:\tlearn: 0.8282325\ttest: 0.7963005\tbest: 0.7964232 (1595)\ttotal: 6m 56s\tremaining: 14m 43s\n"
     ]
    },
    {
     "name": "stdout",
     "output_type": "stream",
     "text": [
      "1625:\tlearn: 0.8288811\ttest: 0.7964581\tbest: 0.7964581 (1625)\ttotal: 7m 2s\tremaining: 14m 37s\n"
     ]
    },
    {
     "name": "stdout",
     "output_type": "stream",
     "text": [
      "1650:\tlearn: 0.8296011\ttest: 0.7966090\tbest: 0.7966904 (1637)\ttotal: 7m 9s\tremaining: 14m 30s\n"
     ]
    },
    {
     "name": "stdout",
     "output_type": "stream",
     "text": [
      "1675:\tlearn: 0.8298013\ttest: 0.7966845\tbest: 0.7968866 (1664)\ttotal: 7m 15s\tremaining: 14m 24s\n"
     ]
    },
    {
     "name": "stdout",
     "output_type": "stream",
     "text": [
      "1700:\tlearn: 0.8304632\ttest: 0.7965460\tbest: 0.7968866 (1664)\ttotal: 7m 22s\tremaining: 14m 17s\n"
     ]
    },
    {
     "name": "stdout",
     "output_type": "stream",
     "text": [
      "1725:\tlearn: 0.8312290\ttest: 0.7965968\tbest: 0.7969104 (1718)\ttotal: 7m 28s\tremaining: 14m 10s\n"
     ]
    },
    {
     "name": "stdout",
     "output_type": "stream",
     "text": [
      "1750:\tlearn: 0.8320578\ttest: 0.7967416\tbest: 0.7969104 (1718)\ttotal: 7m 35s\tremaining: 14m 4s\n"
     ]
    },
    {
     "name": "stdout",
     "output_type": "stream",
     "text": [
      "1775:\tlearn: 0.8326702\ttest: 0.7966649\tbest: 0.7969104 (1718)\ttotal: 7m 41s\tremaining: 13m 57s\n"
     ]
    },
    {
     "name": "stdout",
     "output_type": "stream",
     "text": [
      "1800:\tlearn: 0.8330321\ttest: 0.7967362\tbest: 0.7969104 (1718)\ttotal: 7m 48s\tremaining: 13m 51s\n"
     ]
    },
    {
     "name": "stdout",
     "output_type": "stream",
     "text": [
      "1825:\tlearn: 0.8334079\ttest: 0.7966590\tbest: 0.7969104 (1718)\ttotal: 7m 54s\tremaining: 13m 44s\n"
     ]
    },
    {
     "name": "stdout",
     "output_type": "stream",
     "text": [
      "1850:\tlearn: 0.8339073\ttest: 0.7967555\tbest: 0.7969378 (1838)\ttotal: 8m\tremaining: 13m 38s\n"
     ]
    },
    {
     "name": "stdout",
     "output_type": "stream",
     "text": [
      "1875:\tlearn: 0.8344226\ttest: 0.7968684\tbest: 0.7970947 (1868)\ttotal: 8m 7s\tremaining: 13m 31s\n"
     ]
    },
    {
     "name": "stdout",
     "output_type": "stream",
     "text": [
      "1900:\tlearn: 0.8348670\ttest: 0.7972738\tbest: 0.7972738 (1900)\ttotal: 8m 13s\tremaining: 13m 25s\n"
     ]
    },
    {
     "name": "stdout",
     "output_type": "stream",
     "text": [
      "1925:\tlearn: 0.8353293\ttest: 0.7974726\tbest: 0.7975093 (1908)\ttotal: 8m 20s\tremaining: 13m 18s\n"
     ]
    },
    {
     "name": "stdout",
     "output_type": "stream",
     "text": [
      "1950:\tlearn: 0.8359850\ttest: 0.7972315\tbest: 0.7976040 (1942)\ttotal: 8m 26s\tremaining: 13m 12s\n"
     ]
    },
    {
     "name": "stdout",
     "output_type": "stream",
     "text": [
      "1975:\tlearn: 0.8364208\ttest: 0.7973271\tbest: 0.7976040 (1942)\ttotal: 8m 33s\tremaining: 13m 5s\n"
     ]
    },
    {
     "name": "stdout",
     "output_type": "stream",
     "text": [
      "2000:\tlearn: 0.8371395\ttest: 0.7971576\tbest: 0.7976040 (1942)\ttotal: 8m 39s\tremaining: 12m 59s\n"
     ]
    },
    {
     "name": "stdout",
     "output_type": "stream",
     "text": [
      "2025:\tlearn: 0.8376305\ttest: 0.7969755\tbest: 0.7976040 (1942)\ttotal: 8m 46s\tremaining: 12m 52s\n"
     ]
    },
    {
     "name": "stdout",
     "output_type": "stream",
     "text": [
      "2050:\tlearn: 0.8380105\ttest: 0.7970866\tbest: 0.7976040 (1942)\ttotal: 8m 52s\tremaining: 12m 46s\n"
     ]
    },
    {
     "name": "stdout",
     "output_type": "stream",
     "text": [
      "2075:\tlearn: 0.8384692\ttest: 0.7970665\tbest: 0.7976040 (1942)\ttotal: 8m 59s\tremaining: 12m 39s\n"
     ]
    },
    {
     "name": "stdout",
     "output_type": "stream",
     "text": [
      "2100:\tlearn: 0.8392992\ttest: 0.7973415\tbest: 0.7976040 (1942)\ttotal: 9m 5s\tremaining: 12m 33s\n"
     ]
    },
    {
     "name": "stdout",
     "output_type": "stream",
     "text": [
      "2125:\tlearn: 0.8396676\ttest: 0.7969306\tbest: 0.7976040 (1942)\ttotal: 9m 12s\tremaining: 12m 26s\n"
     ]
    },
    {
     "name": "stdout",
     "output_type": "stream",
     "text": [
      "2150:\tlearn: 0.8402247\ttest: 0.7973185\tbest: 0.7976040 (1942)\ttotal: 9m 18s\tremaining: 12m 20s\n"
     ]
    },
    {
     "name": "stdout",
     "output_type": "stream",
     "text": [
      "2175:\tlearn: 0.8405863\ttest: 0.7975525\tbest: 0.7976166 (2169)\ttotal: 9m 25s\tremaining: 12m 13s\n"
     ]
    },
    {
     "name": "stdout",
     "output_type": "stream",
     "text": [
      "2200:\tlearn: 0.8410718\ttest: 0.7976569\tbest: 0.7978871 (2186)\ttotal: 9m 31s\tremaining: 12m 7s\n"
     ]
    },
    {
     "name": "stdout",
     "output_type": "stream",
     "text": [
      "2225:\tlearn: 0.8417471\ttest: 0.7975121\tbest: 0.7978871 (2186)\ttotal: 9m 38s\tremaining: 12m\n"
     ]
    },
    {
     "name": "stdout",
     "output_type": "stream",
     "text": [
      "2250:\tlearn: 0.8424776\ttest: 0.7976429\tbest: 0.7978871 (2186)\ttotal: 9m 44s\tremaining: 11m 54s\n"
     ]
    },
    {
     "name": "stdout",
     "output_type": "stream",
     "text": [
      "2275:\tlearn: 0.8428849\ttest: 0.7974619\tbest: 0.7978871 (2186)\ttotal: 9m 51s\tremaining: 11m 47s\n"
     ]
    },
    {
     "name": "stdout",
     "output_type": "stream",
     "text": [
      "2300:\tlearn: 0.8434171\ttest: 0.7972152\tbest: 0.7978871 (2186)\ttotal: 9m 57s\tremaining: 11m 41s\n"
     ]
    },
    {
     "name": "stdout",
     "output_type": "stream",
     "text": [
      "2325:\tlearn: 0.8439224\ttest: 0.7975403\tbest: 0.7978871 (2186)\ttotal: 10m 4s\tremaining: 11m 34s\n"
     ]
    },
    {
     "name": "stdout",
     "output_type": "stream",
     "text": [
      "2350:\tlearn: 0.8445854\ttest: 0.7979187\tbest: 0.7980887 (2347)\ttotal: 10m 10s\tremaining: 11m 27s\n"
     ]
    },
    {
     "name": "stdout",
     "output_type": "stream",
     "text": [
      "2375:\tlearn: 0.8453037\ttest: 0.7978245\tbest: 0.7980887 (2347)\ttotal: 10m 17s\tremaining: 11m 21s\n"
     ]
    },
    {
     "name": "stdout",
     "output_type": "stream",
     "text": [
      "2400:\tlearn: 0.8458477\ttest: 0.7978393\tbest: 0.7981135 (2395)\ttotal: 10m 23s\tremaining: 11m 14s\n"
     ]
    },
    {
     "name": "stdout",
     "output_type": "stream",
     "text": [
      "2425:\tlearn: 0.8465823\ttest: 0.7979930\tbest: 0.7981135 (2395)\ttotal: 10m 30s\tremaining: 11m 8s\n"
     ]
    },
    {
     "name": "stdout",
     "output_type": "stream",
     "text": [
      "2450:\tlearn: 0.8469784\ttest: 0.7977260\tbest: 0.7981135 (2395)\ttotal: 10m 36s\tremaining: 11m 1s\n"
     ]
    },
    {
     "name": "stdout",
     "output_type": "stream",
     "text": [
      "2475:\tlearn: 0.8475087\ttest: 0.7976076\tbest: 0.7981135 (2395)\ttotal: 10m 42s\tremaining: 10m 55s\n"
     ]
    },
    {
     "name": "stdout",
     "output_type": "stream",
     "text": [
      "2500:\tlearn: 0.8479852\ttest: 0.7978200\tbest: 0.7981135 (2395)\ttotal: 10m 49s\tremaining: 10m 48s\n"
     ]
    },
    {
     "name": "stdout",
     "output_type": "stream",
     "text": [
      "2525:\tlearn: 0.8482909\ttest: 0.7980147\tbest: 0.7981188 (2524)\ttotal: 10m 55s\tremaining: 10m 42s\n"
     ]
    },
    {
     "name": "stdout",
     "output_type": "stream",
     "text": [
      "2550:\tlearn: 0.8486174\ttest: 0.7980401\tbest: 0.7981255 (2546)\ttotal: 11m 2s\tremaining: 10m 35s\n"
     ]
    },
    {
     "name": "stdout",
     "output_type": "stream",
     "text": [
      "2575:\tlearn: 0.8492153\ttest: 0.7977067\tbest: 0.7981255 (2546)\ttotal: 11m 8s\tremaining: 10m 29s\n"
     ]
    },
    {
     "name": "stdout",
     "output_type": "stream",
     "text": [
      "2600:\tlearn: 0.8496348\ttest: 0.7978519\tbest: 0.7981255 (2546)\ttotal: 11m 15s\tremaining: 10m 22s\n"
     ]
    },
    {
     "name": "stdout",
     "output_type": "stream",
     "text": [
      "2625:\tlearn: 0.8499629\ttest: 0.7978743\tbest: 0.7981461 (2607)\ttotal: 11m 21s\tremaining: 10m 16s\n"
     ]
    },
    {
     "name": "stdout",
     "output_type": "stream",
     "text": [
      "2650:\tlearn: 0.8505724\ttest: 0.7979405\tbest: 0.7981461 (2607)\ttotal: 11m 28s\tremaining: 10m 10s\n"
     ]
    },
    {
     "name": "stdout",
     "output_type": "stream",
     "text": [
      "2675:\tlearn: 0.8510766\ttest: 0.7977917\tbest: 0.7981461 (2607)\ttotal: 11m 34s\tremaining: 10m 3s\n"
     ]
    },
    {
     "name": "stdout",
     "output_type": "stream",
     "text": [
      "2700:\tlearn: 0.8517852\ttest: 0.7975621\tbest: 0.7981461 (2607)\ttotal: 11m 41s\tremaining: 9m 57s\n"
     ]
    },
    {
     "name": "stdout",
     "output_type": "stream",
     "text": [
      "2725:\tlearn: 0.8522578\ttest: 0.7977206\tbest: 0.7981461 (2607)\ttotal: 11m 47s\tremaining: 9m 50s\n"
     ]
    },
    {
     "name": "stdout",
     "output_type": "stream",
     "text": [
      "2750:\tlearn: 0.8528829\ttest: 0.7982346\tbest: 0.7982346 (2750)\ttotal: 11m 54s\tremaining: 9m 44s\n"
     ]
    },
    {
     "name": "stdout",
     "output_type": "stream",
     "text": [
      "2775:\tlearn: 0.8535470\ttest: 0.7982496\tbest: 0.7983987 (2759)\ttotal: 12m\tremaining: 9m 37s\n"
     ]
    },
    {
     "name": "stdout",
     "output_type": "stream",
     "text": [
      "2800:\tlearn: 0.8542195\ttest: 0.7981211\tbest: 0.7983987 (2759)\ttotal: 12m 7s\tremaining: 9m 31s\n"
     ]
    },
    {
     "name": "stdout",
     "output_type": "stream",
     "text": [
      "2825:\tlearn: 0.8545025\ttest: 0.7980170\tbest: 0.7983987 (2759)\ttotal: 12m 13s\tremaining: 9m 24s\n"
     ]
    },
    {
     "name": "stdout",
     "output_type": "stream",
     "text": [
      "2850:\tlearn: 0.8548893\ttest: 0.7979793\tbest: 0.7984161 (2836)\ttotal: 12m 20s\tremaining: 9m 18s\n"
     ]
    },
    {
     "name": "stdout",
     "output_type": "stream",
     "text": [
      "2875:\tlearn: 0.8552796\ttest: 0.7982307\tbest: 0.7984161 (2836)\ttotal: 12m 26s\tremaining: 9m 11s\n"
     ]
    },
    {
     "name": "stdout",
     "output_type": "stream",
     "text": [
      "2900:\tlearn: 0.8555454\ttest: 0.7984016\tbest: 0.7984161 (2836)\ttotal: 12m 33s\tremaining: 9m 5s\n"
     ]
    },
    {
     "name": "stdout",
     "output_type": "stream",
     "text": [
      "2925:\tlearn: 0.8559814\ttest: 0.7981683\tbest: 0.7984161 (2836)\ttotal: 12m 39s\tremaining: 8m 58s\n"
     ]
    },
    {
     "name": "stdout",
     "output_type": "stream",
     "text": [
      "2950:\tlearn: 0.8563035\ttest: 0.7981127\tbest: 0.7984161 (2836)\ttotal: 12m 46s\tremaining: 8m 52s\n"
     ]
    },
    {
     "name": "stdout",
     "output_type": "stream",
     "text": [
      "2975:\tlearn: 0.8569487\ttest: 0.7980316\tbest: 0.7984161 (2836)\ttotal: 12m 52s\tremaining: 8m 45s\n"
     ]
    },
    {
     "name": "stdout",
     "output_type": "stream",
     "text": [
      "3000:\tlearn: 0.8573179\ttest: 0.7978235\tbest: 0.7984161 (2836)\ttotal: 12m 59s\tremaining: 8m 39s\n"
     ]
    },
    {
     "name": "stdout",
     "output_type": "stream",
     "text": [
      "3025:\tlearn: 0.8577165\ttest: 0.7976556\tbest: 0.7984161 (2836)\ttotal: 13m 5s\tremaining: 8m 32s\n"
     ]
    },
    {
     "name": "stdout",
     "output_type": "stream",
     "text": [
      "3050:\tlearn: 0.8581178\ttest: 0.7976932\tbest: 0.7984161 (2836)\ttotal: 13m 12s\tremaining: 8m 26s\n"
     ]
    },
    {
     "name": "stdout",
     "output_type": "stream",
     "text": [
      "3075:\tlearn: 0.8586343\ttest: 0.7975957\tbest: 0.7984161 (2836)\ttotal: 13m 18s\tremaining: 8m 19s\n"
     ]
    },
    {
     "name": "stdout",
     "output_type": "stream",
     "text": [
      "3100:\tlearn: 0.8590043\ttest: 0.7975566\tbest: 0.7984161 (2836)\ttotal: 13m 25s\tremaining: 8m 13s\n"
     ]
    },
    {
     "name": "stdout",
     "output_type": "stream",
     "text": [
      "3125:\tlearn: 0.8593284\ttest: 0.7979781\tbest: 0.7984161 (2836)\ttotal: 13m 31s\tremaining: 8m 6s\n"
     ]
    },
    {
     "name": "stdout",
     "output_type": "stream",
     "text": [
      "3150:\tlearn: 0.8598873\ttest: 0.7977478\tbest: 0.7984161 (2836)\ttotal: 13m 38s\tremaining: 8m\n"
     ]
    },
    {
     "name": "stdout",
     "output_type": "stream",
     "text": [
      "3175:\tlearn: 0.8604100\ttest: 0.7976189\tbest: 0.7984161 (2836)\ttotal: 13m 44s\tremaining: 7m 53s\n"
     ]
    },
    {
     "name": "stdout",
     "output_type": "stream",
     "text": [
      "3200:\tlearn: 0.8610098\ttest: 0.7974335\tbest: 0.7984161 (2836)\ttotal: 13m 51s\tremaining: 7m 47s\n"
     ]
    },
    {
     "name": "stdout",
     "output_type": "stream",
     "text": [
      "3225:\tlearn: 0.8614281\ttest: 0.7977733\tbest: 0.7984161 (2836)\ttotal: 13m 57s\tremaining: 7m 40s\n"
     ]
    },
    {
     "name": "stdout",
     "output_type": "stream",
     "text": [
      "3250:\tlearn: 0.8618456\ttest: 0.7975432\tbest: 0.7984161 (2836)\ttotal: 14m 4s\tremaining: 7m 34s\n"
     ]
    },
    {
     "name": "stdout",
     "output_type": "stream",
     "text": [
      "3275:\tlearn: 0.8623363\ttest: 0.7973349\tbest: 0.7984161 (2836)\ttotal: 14m 10s\tremaining: 7m 27s\n"
     ]
    },
    {
     "name": "stdout",
     "output_type": "stream",
     "text": [
      "3300:\tlearn: 0.8628162\ttest: 0.7978058\tbest: 0.7984161 (2836)\ttotal: 14m 17s\tremaining: 7m 21s\n"
     ]
    },
    {
     "name": "stdout",
     "output_type": "stream",
     "text": [
      "3325:\tlearn: 0.8632643\ttest: 0.7979324\tbest: 0.7984161 (2836)\ttotal: 14m 23s\tremaining: 7m 14s\n"
     ]
    },
    {
     "name": "stdout",
     "output_type": "stream",
     "text": [
      "3350:\tlearn: 0.8636237\ttest: 0.7978732\tbest: 0.7984161 (2836)\ttotal: 14m 30s\tremaining: 7m 8s\n"
     ]
    },
    {
     "name": "stdout",
     "output_type": "stream",
     "text": [
      "3375:\tlearn: 0.8641357\ttest: 0.7981915\tbest: 0.7984161 (2836)\ttotal: 14m 36s\tremaining: 7m 1s\n"
     ]
    },
    {
     "name": "stdout",
     "output_type": "stream",
     "text": [
      "3400:\tlearn: 0.8647253\ttest: 0.7980018\tbest: 0.7984161 (2836)\ttotal: 14m 43s\tremaining: 6m 55s\n"
     ]
    },
    {
     "name": "stdout",
     "output_type": "stream",
     "text": [
      "3425:\tlearn: 0.8652113\ttest: 0.7980251\tbest: 0.7984161 (2836)\ttotal: 14m 49s\tremaining: 6m 48s\n"
     ]
    },
    {
     "name": "stdout",
     "output_type": "stream",
     "text": [
      "3450:\tlearn: 0.8656988\ttest: 0.7982372\tbest: 0.7984161 (2836)\ttotal: 14m 56s\tremaining: 6m 42s\n"
     ]
    },
    {
     "name": "stdout",
     "output_type": "stream",
     "text": [
      "3475:\tlearn: 0.8662156\ttest: 0.7979899\tbest: 0.7984161 (2836)\ttotal: 15m 2s\tremaining: 6m 35s\n"
     ]
    },
    {
     "name": "stdout",
     "output_type": "stream",
     "text": [
      "3500:\tlearn: 0.8664931\ttest: 0.7978048\tbest: 0.7984161 (2836)\ttotal: 15m 9s\tremaining: 6m 29s\n"
     ]
    },
    {
     "name": "stdout",
     "output_type": "stream",
     "text": [
      "3525:\tlearn: 0.8668811\ttest: 0.7978716\tbest: 0.7984161 (2836)\ttotal: 15m 15s\tremaining: 6m 22s\n"
     ]
    },
    {
     "name": "stdout",
     "output_type": "stream",
     "text": [
      "3550:\tlearn: 0.8671623\ttest: 0.7975981\tbest: 0.7984161 (2836)\ttotal: 15m 22s\tremaining: 6m 16s\n"
     ]
    },
    {
     "name": "stdout",
     "output_type": "stream",
     "text": [
      "3575:\tlearn: 0.8677489\ttest: 0.7976668\tbest: 0.7984161 (2836)\ttotal: 15m 28s\tremaining: 6m 9s\n"
     ]
    },
    {
     "name": "stdout",
     "output_type": "stream",
     "text": [
      "3600:\tlearn: 0.8681666\ttest: 0.7977769\tbest: 0.7984161 (2836)\ttotal: 15m 35s\tremaining: 6m 3s\n"
     ]
    },
    {
     "name": "stdout",
     "output_type": "stream",
     "text": [
      "3625:\tlearn: 0.8684537\ttest: 0.7977077\tbest: 0.7984161 (2836)\ttotal: 15m 41s\tremaining: 5m 56s\n"
     ]
    },
    {
     "name": "stdout",
     "output_type": "stream",
     "text": [
      "3650:\tlearn: 0.8688783\ttest: 0.7977811\tbest: 0.7984161 (2836)\ttotal: 15m 48s\tremaining: 5m 50s\n"
     ]
    },
    {
     "name": "stdout",
     "output_type": "stream",
     "text": [
      "3675:\tlearn: 0.8693079\ttest: 0.7979913\tbest: 0.7984161 (2836)\ttotal: 15m 54s\tremaining: 5m 43s\n"
     ]
    },
    {
     "name": "stdout",
     "output_type": "stream",
     "text": [
      "3700:\tlearn: 0.8696101\ttest: 0.7980381\tbest: 0.7984161 (2836)\ttotal: 16m 1s\tremaining: 5m 37s\n"
     ]
    },
    {
     "name": "stdout",
     "output_type": "stream",
     "text": [
      "3725:\tlearn: 0.8700526\ttest: 0.7980022\tbest: 0.7984161 (2836)\ttotal: 16m 7s\tremaining: 5m 30s\n"
     ]
    },
    {
     "name": "stdout",
     "output_type": "stream",
     "text": [
      "3750:\tlearn: 0.8705631\ttest: 0.7980902\tbest: 0.7984161 (2836)\ttotal: 16m 14s\tremaining: 5m 24s\n"
     ]
    },
    {
     "name": "stdout",
     "output_type": "stream",
     "text": [
      "3775:\tlearn: 0.8709007\ttest: 0.7978759\tbest: 0.7984161 (2836)\ttotal: 16m 20s\tremaining: 5m 17s\n"
     ]
    },
    {
     "name": "stdout",
     "output_type": "stream",
     "text": [
      "3800:\tlearn: 0.8713096\ttest: 0.7979022\tbest: 0.7984161 (2836)\ttotal: 16m 27s\tremaining: 5m 11s\n"
     ]
    },
    {
     "name": "stdout",
     "output_type": "stream",
     "text": [
      "3825:\tlearn: 0.8717533\ttest: 0.7982398\tbest: 0.7984161 (2836)\ttotal: 16m 33s\tremaining: 5m 4s\n"
     ]
    },
    {
     "name": "stdout",
     "output_type": "stream",
     "text": [
      "3850:\tlearn: 0.8722459\ttest: 0.7980921\tbest: 0.7984161 (2836)\ttotal: 16m 39s\tremaining: 4m 58s\n"
     ]
    },
    {
     "name": "stdout",
     "output_type": "stream",
     "text": [
      "3875:\tlearn: 0.8726598\ttest: 0.7984062\tbest: 0.7984161 (2836)\ttotal: 16m 46s\tremaining: 4m 51s\n"
     ]
    },
    {
     "name": "stdout",
     "output_type": "stream",
     "text": [
      "3900:\tlearn: 0.8732493\ttest: 0.7985347\tbest: 0.7986808 (3898)\ttotal: 16m 52s\tremaining: 4m 45s\n"
     ]
    },
    {
     "name": "stdout",
     "output_type": "stream",
     "text": [
      "3925:\tlearn: 0.8736279\ttest: 0.7983615\tbest: 0.7986808 (3898)\ttotal: 16m 59s\tremaining: 4m 38s\n"
     ]
    },
    {
     "name": "stdout",
     "output_type": "stream",
     "text": [
      "3950:\tlearn: 0.8738812\ttest: 0.7982919\tbest: 0.7986808 (3898)\ttotal: 17m 5s\tremaining: 4m 32s\n"
     ]
    },
    {
     "name": "stdout",
     "output_type": "stream",
     "text": [
      "3975:\tlearn: 0.8740993\ttest: 0.7983188\tbest: 0.7986808 (3898)\ttotal: 17m 12s\tremaining: 4m 25s\n"
     ]
    },
    {
     "name": "stdout",
     "output_type": "stream",
     "text": [
      "4000:\tlearn: 0.8746339\ttest: 0.7984090\tbest: 0.7986808 (3898)\ttotal: 17m 18s\tremaining: 4m 19s\n"
     ]
    },
    {
     "name": "stdout",
     "output_type": "stream",
     "text": [
      "4025:\tlearn: 0.8751272\ttest: 0.7980309\tbest: 0.7986808 (3898)\ttotal: 17m 25s\tremaining: 4m 12s\n"
     ]
    },
    {
     "name": "stdout",
     "output_type": "stream",
     "text": [
      "4050:\tlearn: 0.8755519\ttest: 0.7978194\tbest: 0.7986808 (3898)\ttotal: 17m 31s\tremaining: 4m 6s\n"
     ]
    },
    {
     "name": "stdout",
     "output_type": "stream",
     "text": [
      "4075:\tlearn: 0.8759524\ttest: 0.7978236\tbest: 0.7986808 (3898)\ttotal: 17m 38s\tremaining: 3m 59s\n"
     ]
    },
    {
     "name": "stdout",
     "output_type": "stream",
     "text": [
      "4100:\tlearn: 0.8763963\ttest: 0.7978622\tbest: 0.7986808 (3898)\ttotal: 17m 44s\tremaining: 3m 53s\n"
     ]
    },
    {
     "name": "stdout",
     "output_type": "stream",
     "text": [
      "4125:\tlearn: 0.8767195\ttest: 0.7977962\tbest: 0.7986808 (3898)\ttotal: 17m 51s\tremaining: 3m 46s\n"
     ]
    },
    {
     "name": "stdout",
     "output_type": "stream",
     "text": [
      "4150:\tlearn: 0.8771052\ttest: 0.7978429\tbest: 0.7986808 (3898)\ttotal: 17m 57s\tremaining: 3m 40s\n"
     ]
    },
    {
     "name": "stdout",
     "output_type": "stream",
     "text": [
      "4175:\tlearn: 0.8775951\ttest: 0.7980348\tbest: 0.7986808 (3898)\ttotal: 18m 4s\tremaining: 3m 33s\n"
     ]
    },
    {
     "name": "stdout",
     "output_type": "stream",
     "text": [
      "4200:\tlearn: 0.8779106\ttest: 0.7981860\tbest: 0.7986808 (3898)\ttotal: 18m 10s\tremaining: 3m 27s\n"
     ]
    },
    {
     "name": "stdout",
     "output_type": "stream",
     "text": [
      "4225:\tlearn: 0.8781802\ttest: 0.7980573\tbest: 0.7986808 (3898)\ttotal: 18m 17s\tremaining: 3m 20s\n"
     ]
    },
    {
     "name": "stdout",
     "output_type": "stream",
     "text": [
      "4250:\tlearn: 0.8786378\ttest: 0.7978314\tbest: 0.7986808 (3898)\ttotal: 18m 23s\tremaining: 3m 14s\n"
     ]
    },
    {
     "name": "stdout",
     "output_type": "stream",
     "text": [
      "4275:\tlearn: 0.8791200\ttest: 0.7979971\tbest: 0.7986808 (3898)\ttotal: 18m 30s\tremaining: 3m 7s\n"
     ]
    },
    {
     "name": "stdout",
     "output_type": "stream",
     "text": [
      "4300:\tlearn: 0.8797493\ttest: 0.7978666\tbest: 0.7986808 (3898)\ttotal: 18m 36s\tremaining: 3m 1s\n"
     ]
    },
    {
     "name": "stdout",
     "output_type": "stream",
     "text": [
      "4325:\tlearn: 0.8801416\ttest: 0.7977213\tbest: 0.7986808 (3898)\ttotal: 18m 43s\tremaining: 2m 54s\n"
     ]
    },
    {
     "name": "stdout",
     "output_type": "stream",
     "text": [
      "4350:\tlearn: 0.8805287\ttest: 0.7979810\tbest: 0.7986808 (3898)\ttotal: 18m 49s\tremaining: 2m 48s\n"
     ]
    },
    {
     "name": "stdout",
     "output_type": "stream",
     "text": [
      "4375:\tlearn: 0.8812585\ttest: 0.7980043\tbest: 0.7986808 (3898)\ttotal: 18m 56s\tremaining: 2m 42s\n"
     ]
    },
    {
     "name": "stdout",
     "output_type": "stream",
     "text": [
      "4400:\tlearn: 0.8815146\ttest: 0.7979626\tbest: 0.7986808 (3898)\ttotal: 19m 2s\tremaining: 2m 35s\n"
     ]
    },
    {
     "name": "stdout",
     "output_type": "stream",
     "text": [
      "4425:\tlearn: 0.8820655\ttest: 0.7980041\tbest: 0.7986808 (3898)\ttotal: 19m 9s\tremaining: 2m 29s\n"
     ]
    },
    {
     "name": "stdout",
     "output_type": "stream",
     "text": [
      "4450:\tlearn: 0.8822210\ttest: 0.7973551\tbest: 0.7986808 (3898)\ttotal: 19m 15s\tremaining: 2m 22s\n"
     ]
    },
    {
     "name": "stdout",
     "output_type": "stream",
     "text": [
      "4475:\tlearn: 0.8826406\ttest: 0.7975074\tbest: 0.7986808 (3898)\ttotal: 19m 22s\tremaining: 2m 16s\n"
     ]
    },
    {
     "name": "stdout",
     "output_type": "stream",
     "text": [
      "4500:\tlearn: 0.8829409\ttest: 0.7974985\tbest: 0.7986808 (3898)\ttotal: 19m 28s\tremaining: 2m 9s\n"
     ]
    },
    {
     "name": "stdout",
     "output_type": "stream",
     "text": [
      "4525:\tlearn: 0.8832927\ttest: 0.7978340\tbest: 0.7986808 (3898)\ttotal: 19m 35s\tremaining: 2m 3s\n"
     ]
    },
    {
     "name": "stdout",
     "output_type": "stream",
     "text": [
      "4550:\tlearn: 0.8837491\ttest: 0.7975853\tbest: 0.7986808 (3898)\ttotal: 19m 41s\tremaining: 1m 56s\n"
     ]
    },
    {
     "name": "stdout",
     "output_type": "stream",
     "text": [
      "4575:\tlearn: 0.8842598\ttest: 0.7976505\tbest: 0.7986808 (3898)\ttotal: 19m 48s\tremaining: 1m 50s\n"
     ]
    },
    {
     "name": "stdout",
     "output_type": "stream",
     "text": [
      "4600:\tlearn: 0.8846325\ttest: 0.7976316\tbest: 0.7986808 (3898)\ttotal: 19m 54s\tremaining: 1m 43s\n"
     ]
    },
    {
     "name": "stdout",
     "output_type": "stream",
     "text": [
      "4625:\tlearn: 0.8850851\ttest: 0.7972953\tbest: 0.7986808 (3898)\ttotal: 20m 1s\tremaining: 1m 37s\n"
     ]
    },
    {
     "name": "stdout",
     "output_type": "stream",
     "text": [
      "4650:\tlearn: 0.8855229\ttest: 0.7975891\tbest: 0.7986808 (3898)\ttotal: 20m 7s\tremaining: 1m 30s\n"
     ]
    },
    {
     "name": "stdout",
     "output_type": "stream",
     "text": [
      "4675:\tlearn: 0.8861724\ttest: 0.7975116\tbest: 0.7986808 (3898)\ttotal: 20m 14s\tremaining: 1m 24s\n"
     ]
    },
    {
     "name": "stdout",
     "output_type": "stream",
     "text": [
      "4700:\tlearn: 0.8866799\ttest: 0.7976574\tbest: 0.7986808 (3898)\ttotal: 20m 20s\tremaining: 1m 17s\n"
     ]
    },
    {
     "name": "stdout",
     "output_type": "stream",
     "text": [
      "4725:\tlearn: 0.8869692\ttest: 0.7979912\tbest: 0.7986808 (3898)\ttotal: 20m 27s\tremaining: 1m 11s\n"
     ]
    },
    {
     "name": "stdout",
     "output_type": "stream",
     "text": [
      "4750:\tlearn: 0.8874290\ttest: 0.7980679\tbest: 0.7986808 (3898)\ttotal: 20m 33s\tremaining: 1m 4s\n"
     ]
    },
    {
     "name": "stdout",
     "output_type": "stream",
     "text": [
      "4775:\tlearn: 0.8875774\ttest: 0.7980017\tbest: 0.7986808 (3898)\ttotal: 20m 40s\tremaining: 58.2s\n"
     ]
    },
    {
     "name": "stdout",
     "output_type": "stream",
     "text": [
      "4800:\tlearn: 0.8879278\ttest: 0.7978761\tbest: 0.7986808 (3898)\ttotal: 20m 46s\tremaining: 51.7s\n"
     ]
    },
    {
     "name": "stdout",
     "output_type": "stream",
     "text": [
      "4825:\tlearn: 0.8884653\ttest: 0.7981534\tbest: 0.7986808 (3898)\ttotal: 20m 53s\tremaining: 45.2s\n"
     ]
    },
    {
     "name": "stdout",
     "output_type": "stream",
     "text": [
      "4850:\tlearn: 0.8888640\ttest: 0.7977796\tbest: 0.7986808 (3898)\ttotal: 20m 59s\tremaining: 38.7s\n"
     ]
    },
    {
     "name": "stdout",
     "output_type": "stream",
     "text": [
      "4875:\tlearn: 0.8892063\ttest: 0.7976348\tbest: 0.7986808 (3898)\ttotal: 21m 6s\tremaining: 32.2s\n"
     ]
    },
    {
     "name": "stdout",
     "output_type": "stream",
     "text": [
      "4900:\tlearn: 0.8894484\ttest: 0.7976854\tbest: 0.7986808 (3898)\ttotal: 21m 12s\tremaining: 25.7s\n"
     ]
    },
    {
     "name": "stdout",
     "output_type": "stream",
     "text": [
      "4925:\tlearn: 0.8898713\ttest: 0.7979144\tbest: 0.7986808 (3898)\ttotal: 21m 19s\tremaining: 19.2s\n"
     ]
    },
    {
     "name": "stdout",
     "output_type": "stream",
     "text": [
      "4950:\tlearn: 0.8904846\ttest: 0.7980024\tbest: 0.7986808 (3898)\ttotal: 21m 25s\tremaining: 12.7s\n"
     ]
    },
    {
     "name": "stdout",
     "output_type": "stream",
     "text": [
      "4975:\tlearn: 0.8905851\ttest: 0.7980045\tbest: 0.7986808 (3898)\ttotal: 21m 32s\tremaining: 6.23s\n"
     ]
    },
    {
     "name": "stdout",
     "output_type": "stream",
     "text": [
      "4999:\tlearn: 0.8910520\ttest: 0.7974986\tbest: 0.7986808 (3898)\ttotal: 21m 38s\tremaining: 0us\n",
      "\n",
      "bestTest = 0.7986808273\n",
      "bestIteration = 3898\n",
      "\n"
     ]
    },
    {
     "name": "stdout",
     "output_type": "stream",
     "text": [
      "######################################## training model 5/5 ########################################\n"
     ]
    },
    {
     "name": "stdout",
     "output_type": "stream",
     "text": [
      "0:\tlearn: 0.5285513\ttest: 0.5287752\tbest: 0.5287752 (0)\ttotal: 587ms\tremaining: 48m 54s\n"
     ]
    },
    {
     "name": "stdout",
     "output_type": "stream",
     "text": [
      "25:\tlearn: 0.7258488\ttest: 0.7287607\tbest: 0.7287607 (25)\ttotal: 7.04s\tremaining: 22m 26s\n"
     ]
    },
    {
     "name": "stdout",
     "output_type": "stream",
     "text": [
      "50:\tlearn: 0.7410077\ttest: 0.7446544\tbest: 0.7446544 (50)\ttotal: 13.4s\tremaining: 21m 40s\n"
     ]
    },
    {
     "name": "stdout",
     "output_type": "stream",
     "text": [
      "75:\tlearn: 0.7494803\ttest: 0.7520956\tbest: 0.7520956 (75)\ttotal: 19.8s\tremaining: 21m 25s\n"
     ]
    },
    {
     "name": "stdout",
     "output_type": "stream",
     "text": [
      "100:\tlearn: 0.7548146\ttest: 0.7571883\tbest: 0.7571883 (100)\ttotal: 26.4s\tremaining: 21m 21s\n"
     ]
    },
    {
     "name": "stdout",
     "output_type": "stream",
     "text": [
      "125:\tlearn: 0.7582860\ttest: 0.7612127\tbest: 0.7612127 (125)\ttotal: 32.9s\tremaining: 21m 11s\n"
     ]
    },
    {
     "name": "stdout",
     "output_type": "stream",
     "text": [
      "150:\tlearn: 0.7613459\ttest: 0.7643824\tbest: 0.7643824 (150)\ttotal: 39.4s\tremaining: 21m 5s\n"
     ]
    },
    {
     "name": "stdout",
     "output_type": "stream",
     "text": [
      "175:\tlearn: 0.7636752\ttest: 0.7656055\tbest: 0.7658577 (173)\ttotal: 45.8s\tremaining: 20m 56s\n"
     ]
    },
    {
     "name": "stdout",
     "output_type": "stream",
     "text": [
      "200:\tlearn: 0.7666580\ttest: 0.7680252\tbest: 0.7680252 (200)\ttotal: 52.3s\tremaining: 20m 49s\n"
     ]
    },
    {
     "name": "stdout",
     "output_type": "stream",
     "text": [
      "225:\tlearn: 0.7685209\ttest: 0.7695299\tbest: 0.7696316 (224)\ttotal: 58.9s\tremaining: 20m 43s\n"
     ]
    },
    {
     "name": "stdout",
     "output_type": "stream",
     "text": [
      "250:\tlearn: 0.7705354\ttest: 0.7714719\tbest: 0.7714719 (250)\ttotal: 1m 5s\tremaining: 20m 37s\n"
     ]
    },
    {
     "name": "stdout",
     "output_type": "stream",
     "text": [
      "275:\tlearn: 0.7730818\ttest: 0.7730973\tbest: 0.7730973 (275)\ttotal: 1m 11s\tremaining: 20m 30s\n"
     ]
    },
    {
     "name": "stdout",
     "output_type": "stream",
     "text": [
      "300:\tlearn: 0.7762192\ttest: 0.7756435\tbest: 0.7756435 (300)\ttotal: 1m 18s\tremaining: 20m 23s\n"
     ]
    },
    {
     "name": "stdout",
     "output_type": "stream",
     "text": [
      "325:\tlearn: 0.7793845\ttest: 0.7783711\tbest: 0.7783711 (325)\ttotal: 1m 24s\tremaining: 20m 17s\n"
     ]
    },
    {
     "name": "stdout",
     "output_type": "stream",
     "text": [
      "350:\tlearn: 0.7822714\ttest: 0.7815334\tbest: 0.7815334 (350)\ttotal: 1m 31s\tremaining: 20m 11s\n"
     ]
    },
    {
     "name": "stdout",
     "output_type": "stream",
     "text": [
      "375:\tlearn: 0.7851501\ttest: 0.7825262\tbest: 0.7825262 (375)\ttotal: 1m 37s\tremaining: 20m 5s\n"
     ]
    },
    {
     "name": "stdout",
     "output_type": "stream",
     "text": [
      "400:\tlearn: 0.7876870\ttest: 0.7843426\tbest: 0.7844854 (398)\ttotal: 1m 44s\tremaining: 19m 57s\n"
     ]
    },
    {
     "name": "stdout",
     "output_type": "stream",
     "text": [
      "425:\tlearn: 0.7895228\ttest: 0.7858173\tbest: 0.7858173 (425)\ttotal: 1m 50s\tremaining: 19m 51s\n"
     ]
    },
    {
     "name": "stdout",
     "output_type": "stream",
     "text": [
      "450:\tlearn: 0.7913232\ttest: 0.7870699\tbest: 0.7872331 (449)\ttotal: 1m 57s\tremaining: 19m 44s\n"
     ]
    },
    {
     "name": "stdout",
     "output_type": "stream",
     "text": [
      "475:\tlearn: 0.7925652\ttest: 0.7877399\tbest: 0.7879037 (466)\ttotal: 2m 3s\tremaining: 19m 37s\n"
     ]
    },
    {
     "name": "stdout",
     "output_type": "stream",
     "text": [
      "500:\tlearn: 0.7937574\ttest: 0.7884815\tbest: 0.7888389 (497)\ttotal: 2m 10s\tremaining: 19m 31s\n"
     ]
    },
    {
     "name": "stdout",
     "output_type": "stream",
     "text": [
      "525:\tlearn: 0.7951304\ttest: 0.7898220\tbest: 0.7899584 (520)\ttotal: 2m 16s\tremaining: 19m 24s\n"
     ]
    },
    {
     "name": "stdout",
     "output_type": "stream",
     "text": [
      "550:\tlearn: 0.7962028\ttest: 0.7904599\tbest: 0.7906264 (546)\ttotal: 2m 23s\tremaining: 19m 18s\n"
     ]
    },
    {
     "name": "stdout",
     "output_type": "stream",
     "text": [
      "575:\tlearn: 0.7974452\ttest: 0.7906202\tbest: 0.7908502 (574)\ttotal: 2m 29s\tremaining: 19m 11s\n"
     ]
    },
    {
     "name": "stdout",
     "output_type": "stream",
     "text": [
      "600:\tlearn: 0.7986352\ttest: 0.7914362\tbest: 0.7914362 (600)\ttotal: 2m 36s\tremaining: 19m 5s\n"
     ]
    },
    {
     "name": "stdout",
     "output_type": "stream",
     "text": [
      "625:\tlearn: 0.7995055\ttest: 0.7918414\tbest: 0.7918731 (622)\ttotal: 2m 42s\tremaining: 18m 58s\n"
     ]
    },
    {
     "name": "stdout",
     "output_type": "stream",
     "text": [
      "650:\tlearn: 0.8004794\ttest: 0.7922072\tbest: 0.7924145 (648)\ttotal: 2m 49s\tremaining: 18m 52s\n"
     ]
    },
    {
     "name": "stdout",
     "output_type": "stream",
     "text": [
      "675:\tlearn: 0.8015167\ttest: 0.7924801\tbest: 0.7927305 (663)\ttotal: 2m 55s\tremaining: 18m 45s\n"
     ]
    },
    {
     "name": "stdout",
     "output_type": "stream",
     "text": [
      "700:\tlearn: 0.8021514\ttest: 0.7925521\tbest: 0.7927960 (696)\ttotal: 3m 2s\tremaining: 18m 38s\n"
     ]
    },
    {
     "name": "stdout",
     "output_type": "stream",
     "text": [
      "725:\tlearn: 0.8031320\ttest: 0.7929717\tbest: 0.7930874 (721)\ttotal: 3m 8s\tremaining: 18m 32s\n"
     ]
    },
    {
     "name": "stdout",
     "output_type": "stream",
     "text": [
      "750:\tlearn: 0.8039663\ttest: 0.7930541\tbest: 0.7934518 (740)\ttotal: 3m 15s\tremaining: 18m 25s\n"
     ]
    },
    {
     "name": "stdout",
     "output_type": "stream",
     "text": [
      "775:\tlearn: 0.8051203\ttest: 0.7929065\tbest: 0.7934518 (740)\ttotal: 3m 21s\tremaining: 18m 19s\n"
     ]
    },
    {
     "name": "stdout",
     "output_type": "stream",
     "text": [
      "800:\tlearn: 0.8059659\ttest: 0.7936848\tbest: 0.7936848 (800)\ttotal: 3m 28s\tremaining: 18m 12s\n"
     ]
    },
    {
     "name": "stdout",
     "output_type": "stream",
     "text": [
      "825:\tlearn: 0.8067508\ttest: 0.7932046\tbest: 0.7936848 (800)\ttotal: 3m 34s\tremaining: 18m 5s\n"
     ]
    },
    {
     "name": "stdout",
     "output_type": "stream",
     "text": [
      "850:\tlearn: 0.8076193\ttest: 0.7936892\tbest: 0.7939708 (844)\ttotal: 3m 41s\tremaining: 17m 59s\n"
     ]
    },
    {
     "name": "stdout",
     "output_type": "stream",
     "text": [
      "875:\tlearn: 0.8086328\ttest: 0.7938722\tbest: 0.7940527 (861)\ttotal: 3m 47s\tremaining: 17m 52s\n"
     ]
    },
    {
     "name": "stdout",
     "output_type": "stream",
     "text": [
      "900:\tlearn: 0.8094014\ttest: 0.7940423\tbest: 0.7943472 (882)\ttotal: 3m 54s\tremaining: 17m 46s\n"
     ]
    },
    {
     "name": "stdout",
     "output_type": "stream",
     "text": [
      "925:\tlearn: 0.8098155\ttest: 0.7937329\tbest: 0.7943472 (882)\ttotal: 4m\tremaining: 17m 39s\n"
     ]
    },
    {
     "name": "stdout",
     "output_type": "stream",
     "text": [
      "950:\tlearn: 0.8104932\ttest: 0.7943355\tbest: 0.7944896 (941)\ttotal: 4m 7s\tremaining: 17m 32s\n"
     ]
    },
    {
     "name": "stdout",
     "output_type": "stream",
     "text": [
      "975:\tlearn: 0.8111803\ttest: 0.7944577\tbest: 0.7944896 (941)\ttotal: 4m 13s\tremaining: 17m 26s\n"
     ]
    },
    {
     "name": "stdout",
     "output_type": "stream",
     "text": [
      "1000:\tlearn: 0.8118801\ttest: 0.7946378\tbest: 0.7946378 (1000)\ttotal: 4m 20s\tremaining: 17m 19s\n"
     ]
    },
    {
     "name": "stdout",
     "output_type": "stream",
     "text": [
      "1025:\tlearn: 0.8126689\ttest: 0.7942447\tbest: 0.7946378 (1000)\ttotal: 4m 26s\tremaining: 17m 12s\n"
     ]
    },
    {
     "name": "stdout",
     "output_type": "stream",
     "text": [
      "1050:\tlearn: 0.8132117\ttest: 0.7943691\tbest: 0.7946378 (1000)\ttotal: 4m 33s\tremaining: 17m 6s\n"
     ]
    },
    {
     "name": "stdout",
     "output_type": "stream",
     "text": [
      "1075:\tlearn: 0.8138078\ttest: 0.7949424\tbest: 0.7950477 (1071)\ttotal: 4m 39s\tremaining: 16m 59s\n"
     ]
    },
    {
     "name": "stdout",
     "output_type": "stream",
     "text": [
      "1100:\tlearn: 0.8147226\ttest: 0.7948014\tbest: 0.7950839 (1084)\ttotal: 4m 46s\tremaining: 16m 53s\n"
     ]
    },
    {
     "name": "stdout",
     "output_type": "stream",
     "text": [
      "1125:\tlearn: 0.8154254\ttest: 0.7949330\tbest: 0.7952158 (1117)\ttotal: 4m 52s\tremaining: 16m 46s\n"
     ]
    },
    {
     "name": "stdout",
     "output_type": "stream",
     "text": [
      "1150:\tlearn: 0.8159257\ttest: 0.7951506\tbest: 0.7952158 (1117)\ttotal: 4m 59s\tremaining: 16m 40s\n"
     ]
    },
    {
     "name": "stdout",
     "output_type": "stream",
     "text": [
      "1175:\tlearn: 0.8162444\ttest: 0.7952253\tbest: 0.7953489 (1173)\ttotal: 5m 5s\tremaining: 16m 33s\n"
     ]
    },
    {
     "name": "stdout",
     "output_type": "stream",
     "text": [
      "1200:\tlearn: 0.8170761\ttest: 0.7952528\tbest: 0.7953565 (1196)\ttotal: 5m 12s\tremaining: 16m 27s\n"
     ]
    },
    {
     "name": "stdout",
     "output_type": "stream",
     "text": [
      "1225:\tlearn: 0.8176403\ttest: 0.7952531\tbest: 0.7954901 (1209)\ttotal: 5m 18s\tremaining: 16m 20s\n"
     ]
    },
    {
     "name": "stdout",
     "output_type": "stream",
     "text": [
      "1250:\tlearn: 0.8183635\ttest: 0.7956062\tbest: 0.7956062 (1250)\ttotal: 5m 24s\tremaining: 16m 13s\n"
     ]
    },
    {
     "name": "stdout",
     "output_type": "stream",
     "text": [
      "1275:\tlearn: 0.8189824\ttest: 0.7955579\tbest: 0.7956143 (1261)\ttotal: 5m 31s\tremaining: 16m 7s\n"
     ]
    },
    {
     "name": "stdout",
     "output_type": "stream",
     "text": [
      "1300:\tlearn: 0.8196671\ttest: 0.7953128\tbest: 0.7958048 (1289)\ttotal: 5m 37s\tremaining: 16m\n"
     ]
    },
    {
     "name": "stdout",
     "output_type": "stream",
     "text": [
      "1325:\tlearn: 0.8202104\ttest: 0.7956739\tbest: 0.7958048 (1289)\ttotal: 5m 44s\tremaining: 15m 54s\n"
     ]
    },
    {
     "name": "stdout",
     "output_type": "stream",
     "text": [
      "1350:\tlearn: 0.8207708\ttest: 0.7952760\tbest: 0.7958048 (1289)\ttotal: 5m 51s\tremaining: 15m 48s\n"
     ]
    },
    {
     "name": "stdout",
     "output_type": "stream",
     "text": [
      "1375:\tlearn: 0.8214876\ttest: 0.7955868\tbest: 0.7958048 (1289)\ttotal: 5m 57s\tremaining: 15m 41s\n"
     ]
    },
    {
     "name": "stdout",
     "output_type": "stream",
     "text": [
      "1400:\tlearn: 0.8222514\ttest: 0.7956842\tbest: 0.7960383 (1395)\ttotal: 6m 3s\tremaining: 15m 34s\n"
     ]
    },
    {
     "name": "stdout",
     "output_type": "stream",
     "text": [
      "1425:\tlearn: 0.8228506\ttest: 0.7962099\tbest: 0.7962099 (1425)\ttotal: 6m 10s\tremaining: 15m 28s\n"
     ]
    },
    {
     "name": "stdout",
     "output_type": "stream",
     "text": [
      "1450:\tlearn: 0.8233408\ttest: 0.7962833\tbest: 0.7963674 (1442)\ttotal: 6m 16s\tremaining: 15m 21s\n"
     ]
    },
    {
     "name": "stdout",
     "output_type": "stream",
     "text": [
      "1475:\tlearn: 0.8238757\ttest: 0.7960652\tbest: 0.7963674 (1442)\ttotal: 6m 23s\tremaining: 15m 15s\n"
     ]
    },
    {
     "name": "stdout",
     "output_type": "stream",
     "text": [
      "1500:\tlearn: 0.8244086\ttest: 0.7962487\tbest: 0.7963674 (1442)\ttotal: 6m 29s\tremaining: 15m 9s\n"
     ]
    },
    {
     "name": "stdout",
     "output_type": "stream",
     "text": [
      "1525:\tlearn: 0.8249969\ttest: 0.7961998\tbest: 0.7963808 (1512)\ttotal: 6m 36s\tremaining: 15m 2s\n"
     ]
    },
    {
     "name": "stdout",
     "output_type": "stream",
     "text": [
      "1550:\tlearn: 0.8256711\ttest: 0.7963320\tbest: 0.7965027 (1533)\ttotal: 6m 42s\tremaining: 14m 55s\n"
     ]
    },
    {
     "name": "stdout",
     "output_type": "stream",
     "text": [
      "1575:\tlearn: 0.8260820\ttest: 0.7964428\tbest: 0.7966749 (1568)\ttotal: 6m 49s\tremaining: 14m 49s\n"
     ]
    },
    {
     "name": "stdout",
     "output_type": "stream",
     "text": [
      "1600:\tlearn: 0.8266834\ttest: 0.7964313\tbest: 0.7966749 (1568)\ttotal: 6m 55s\tremaining: 14m 42s\n"
     ]
    },
    {
     "name": "stdout",
     "output_type": "stream",
     "text": [
      "1625:\tlearn: 0.8271262\ttest: 0.7964474\tbest: 0.7966991 (1618)\ttotal: 7m 2s\tremaining: 14m 36s\n"
     ]
    },
    {
     "name": "stdout",
     "output_type": "stream",
     "text": [
      "1650:\tlearn: 0.8277436\ttest: 0.7967707\tbest: 0.7967707 (1650)\ttotal: 7m 8s\tremaining: 14m 29s\n"
     ]
    },
    {
     "name": "stdout",
     "output_type": "stream",
     "text": [
      "1675:\tlearn: 0.8285097\ttest: 0.7968254\tbest: 0.7969877 (1667)\ttotal: 7m 15s\tremaining: 14m 23s\n"
     ]
    },
    {
     "name": "stdout",
     "output_type": "stream",
     "text": [
      "1700:\tlearn: 0.8290659\ttest: 0.7969139\tbest: 0.7973159 (1693)\ttotal: 7m 21s\tremaining: 14m 16s\n"
     ]
    },
    {
     "name": "stdout",
     "output_type": "stream",
     "text": [
      "1725:\tlearn: 0.8295655\ttest: 0.7967757\tbest: 0.7973159 (1693)\ttotal: 7m 28s\tremaining: 14m 10s\n"
     ]
    },
    {
     "name": "stdout",
     "output_type": "stream",
     "text": [
      "1750:\tlearn: 0.8298695\ttest: 0.7970142\tbest: 0.7973159 (1693)\ttotal: 7m 34s\tremaining: 14m 3s\n"
     ]
    },
    {
     "name": "stdout",
     "output_type": "stream",
     "text": [
      "1775:\tlearn: 0.8304174\ttest: 0.7972770\tbest: 0.7975249 (1764)\ttotal: 7m 41s\tremaining: 13m 57s\n"
     ]
    },
    {
     "name": "stdout",
     "output_type": "stream",
     "text": [
      "1800:\tlearn: 0.8309261\ttest: 0.7973011\tbest: 0.7975249 (1764)\ttotal: 7m 47s\tremaining: 13m 50s\n"
     ]
    },
    {
     "name": "stdout",
     "output_type": "stream",
     "text": [
      "1825:\tlearn: 0.8317583\ttest: 0.7973707\tbest: 0.7975782 (1815)\ttotal: 7m 54s\tremaining: 13m 44s\n"
     ]
    },
    {
     "name": "stdout",
     "output_type": "stream",
     "text": [
      "1850:\tlearn: 0.8319660\ttest: 0.7966849\tbest: 0.7975782 (1815)\ttotal: 8m\tremaining: 13m 37s\n"
     ]
    },
    {
     "name": "stdout",
     "output_type": "stream",
     "text": [
      "1875:\tlearn: 0.8324199\ttest: 0.7969669\tbest: 0.7975782 (1815)\ttotal: 8m 7s\tremaining: 13m 31s\n"
     ]
    },
    {
     "name": "stdout",
     "output_type": "stream",
     "text": [
      "1900:\tlearn: 0.8331423\ttest: 0.7972464\tbest: 0.7975782 (1815)\ttotal: 8m 13s\tremaining: 13m 24s\n"
     ]
    },
    {
     "name": "stdout",
     "output_type": "stream",
     "text": [
      "1925:\tlearn: 0.8335544\ttest: 0.7969350\tbest: 0.7975782 (1815)\ttotal: 8m 19s\tremaining: 13m 18s\n"
     ]
    },
    {
     "name": "stdout",
     "output_type": "stream",
     "text": [
      "1950:\tlearn: 0.8343873\ttest: 0.7965030\tbest: 0.7975782 (1815)\ttotal: 8m 26s\tremaining: 13m 11s\n"
     ]
    },
    {
     "name": "stdout",
     "output_type": "stream",
     "text": [
      "1975:\tlearn: 0.8348321\ttest: 0.7969323\tbest: 0.7975782 (1815)\ttotal: 8m 32s\tremaining: 13m 5s\n"
     ]
    },
    {
     "name": "stdout",
     "output_type": "stream",
     "text": [
      "2000:\tlearn: 0.8353899\ttest: 0.7968323\tbest: 0.7975782 (1815)\ttotal: 8m 39s\tremaining: 12m 58s\n"
     ]
    },
    {
     "name": "stdout",
     "output_type": "stream",
     "text": [
      "2025:\tlearn: 0.8361141\ttest: 0.7968137\tbest: 0.7975782 (1815)\ttotal: 8m 45s\tremaining: 12m 51s\n"
     ]
    },
    {
     "name": "stdout",
     "output_type": "stream",
     "text": [
      "2050:\tlearn: 0.8364875\ttest: 0.7969230\tbest: 0.7975782 (1815)\ttotal: 8m 52s\tremaining: 12m 45s\n"
     ]
    },
    {
     "name": "stdout",
     "output_type": "stream",
     "text": [
      "2075:\tlearn: 0.8370748\ttest: 0.7966643\tbest: 0.7975782 (1815)\ttotal: 8m 58s\tremaining: 12m 38s\n"
     ]
    },
    {
     "name": "stdout",
     "output_type": "stream",
     "text": [
      "2100:\tlearn: 0.8376283\ttest: 0.7966717\tbest: 0.7975782 (1815)\ttotal: 9m 5s\tremaining: 12m 32s\n"
     ]
    },
    {
     "name": "stdout",
     "output_type": "stream",
     "text": [
      "2125:\tlearn: 0.8380987\ttest: 0.7968009\tbest: 0.7975782 (1815)\ttotal: 9m 11s\tremaining: 12m 25s\n"
     ]
    },
    {
     "name": "stdout",
     "output_type": "stream",
     "text": [
      "2150:\tlearn: 0.8388380\ttest: 0.7967670\tbest: 0.7975782 (1815)\ttotal: 9m 18s\tremaining: 12m 19s\n"
     ]
    },
    {
     "name": "stdout",
     "output_type": "stream",
     "text": [
      "2175:\tlearn: 0.8392975\ttest: 0.7968989\tbest: 0.7975782 (1815)\ttotal: 9m 24s\tremaining: 12m 13s\n"
     ]
    },
    {
     "name": "stdout",
     "output_type": "stream",
     "text": [
      "2200:\tlearn: 0.8398540\ttest: 0.7970932\tbest: 0.7975782 (1815)\ttotal: 9m 31s\tremaining: 12m 6s\n"
     ]
    },
    {
     "name": "stdout",
     "output_type": "stream",
     "text": [
      "2225:\tlearn: 0.8402226\ttest: 0.7971423\tbest: 0.7975782 (1815)\ttotal: 9m 37s\tremaining: 12m\n"
     ]
    },
    {
     "name": "stdout",
     "output_type": "stream",
     "text": [
      "2250:\tlearn: 0.8407639\ttest: 0.7970342\tbest: 0.7975782 (1815)\ttotal: 9m 44s\tremaining: 11m 53s\n"
     ]
    },
    {
     "name": "stdout",
     "output_type": "stream",
     "text": [
      "2275:\tlearn: 0.8416249\ttest: 0.7970179\tbest: 0.7975782 (1815)\ttotal: 9m 50s\tremaining: 11m 47s\n"
     ]
    },
    {
     "name": "stdout",
     "output_type": "stream",
     "text": [
      "2300:\tlearn: 0.8420662\ttest: 0.7971921\tbest: 0.7975782 (1815)\ttotal: 9m 57s\tremaining: 11m 40s\n"
     ]
    },
    {
     "name": "stdout",
     "output_type": "stream",
     "text": [
      "2325:\tlearn: 0.8424317\ttest: 0.7970745\tbest: 0.7975782 (1815)\ttotal: 10m 3s\tremaining: 11m 34s\n"
     ]
    },
    {
     "name": "stdout",
     "output_type": "stream",
     "text": [
      "2350:\tlearn: 0.8428120\ttest: 0.7972181\tbest: 0.7975782 (1815)\ttotal: 10m 10s\tremaining: 11m 27s\n"
     ]
    },
    {
     "name": "stdout",
     "output_type": "stream",
     "text": [
      "2375:\tlearn: 0.8435658\ttest: 0.7972720\tbest: 0.7975782 (1815)\ttotal: 10m 16s\tremaining: 11m 21s\n"
     ]
    },
    {
     "name": "stdout",
     "output_type": "stream",
     "text": [
      "2400:\tlearn: 0.8438625\ttest: 0.7972989\tbest: 0.7975782 (1815)\ttotal: 10m 23s\tremaining: 11m 14s\n"
     ]
    },
    {
     "name": "stdout",
     "output_type": "stream",
     "text": [
      "2425:\tlearn: 0.8445208\ttest: 0.7972043\tbest: 0.7975782 (1815)\ttotal: 10m 29s\tremaining: 11m 8s\n"
     ]
    },
    {
     "name": "stdout",
     "output_type": "stream",
     "text": [
      "2450:\tlearn: 0.8451301\ttest: 0.7972136\tbest: 0.7975782 (1815)\ttotal: 10m 36s\tremaining: 11m 1s\n"
     ]
    },
    {
     "name": "stdout",
     "output_type": "stream",
     "text": [
      "2475:\tlearn: 0.8455434\ttest: 0.7974315\tbest: 0.7975782 (1815)\ttotal: 10m 42s\tremaining: 10m 55s\n"
     ]
    },
    {
     "name": "stdout",
     "output_type": "stream",
     "text": [
      "2500:\tlearn: 0.8459941\ttest: 0.7973943\tbest: 0.7975782 (1815)\ttotal: 10m 49s\tremaining: 10m 48s\n"
     ]
    },
    {
     "name": "stdout",
     "output_type": "stream",
     "text": [
      "2525:\tlearn: 0.8466121\ttest: 0.7970838\tbest: 0.7975782 (1815)\ttotal: 10m 55s\tremaining: 10m 41s\n"
     ]
    },
    {
     "name": "stdout",
     "output_type": "stream",
     "text": [
      "2550:\tlearn: 0.8471930\ttest: 0.7971918\tbest: 0.7975782 (1815)\ttotal: 11m 1s\tremaining: 10m 35s\n"
     ]
    },
    {
     "name": "stdout",
     "output_type": "stream",
     "text": [
      "2575:\tlearn: 0.8477916\ttest: 0.7970714\tbest: 0.7975782 (1815)\ttotal: 11m 8s\tremaining: 10m 28s\n"
     ]
    },
    {
     "name": "stdout",
     "output_type": "stream",
     "text": [
      "2600:\tlearn: 0.8482755\ttest: 0.7968847\tbest: 0.7975782 (1815)\ttotal: 11m 14s\tremaining: 10m 22s\n"
     ]
    },
    {
     "name": "stdout",
     "output_type": "stream",
     "text": [
      "2625:\tlearn: 0.8486690\ttest: 0.7966855\tbest: 0.7975782 (1815)\ttotal: 11m 21s\tremaining: 10m 16s\n"
     ]
    },
    {
     "name": "stdout",
     "output_type": "stream",
     "text": [
      "2650:\tlearn: 0.8491982\ttest: 0.7967727\tbest: 0.7975782 (1815)\ttotal: 11m 27s\tremaining: 10m 9s\n"
     ]
    },
    {
     "name": "stdout",
     "output_type": "stream",
     "text": [
      "2675:\tlearn: 0.8495947\ttest: 0.7968623\tbest: 0.7975782 (1815)\ttotal: 11m 34s\tremaining: 10m 2s\n"
     ]
    },
    {
     "name": "stdout",
     "output_type": "stream",
     "text": [
      "2700:\tlearn: 0.8502849\ttest: 0.7971689\tbest: 0.7975782 (1815)\ttotal: 11m 40s\tremaining: 9m 56s\n"
     ]
    },
    {
     "name": "stdout",
     "output_type": "stream",
     "text": [
      "2725:\tlearn: 0.8506371\ttest: 0.7971727\tbest: 0.7975782 (1815)\ttotal: 11m 47s\tremaining: 9m 49s\n"
     ]
    },
    {
     "name": "stdout",
     "output_type": "stream",
     "text": [
      "2750:\tlearn: 0.8512668\ttest: 0.7969020\tbest: 0.7975782 (1815)\ttotal: 11m 53s\tremaining: 9m 43s\n"
     ]
    },
    {
     "name": "stdout",
     "output_type": "stream",
     "text": [
      "2775:\tlearn: 0.8518909\ttest: 0.7973882\tbest: 0.7975782 (1815)\ttotal: 12m\tremaining: 9m 37s\n"
     ]
    },
    {
     "name": "stdout",
     "output_type": "stream",
     "text": [
      "2800:\tlearn: 0.8522088\ttest: 0.7972914\tbest: 0.7975782 (1815)\ttotal: 12m 6s\tremaining: 9m 30s\n"
     ]
    },
    {
     "name": "stdout",
     "output_type": "stream",
     "text": [
      "2825:\tlearn: 0.8525405\ttest: 0.7974368\tbest: 0.7975782 (1815)\ttotal: 12m 13s\tremaining: 9m 24s\n"
     ]
    },
    {
     "name": "stdout",
     "output_type": "stream",
     "text": [
      "2850:\tlearn: 0.8530624\ttest: 0.7974557\tbest: 0.7975782 (1815)\ttotal: 12m 19s\tremaining: 9m 17s\n"
     ]
    },
    {
     "name": "stdout",
     "output_type": "stream",
     "text": [
      "2875:\tlearn: 0.8532932\ttest: 0.7972666\tbest: 0.7975782 (1815)\ttotal: 12m 26s\tremaining: 9m 11s\n"
     ]
    },
    {
     "name": "stdout",
     "output_type": "stream",
     "text": [
      "2900:\tlearn: 0.8538193\ttest: 0.7971864\tbest: 0.7975782 (1815)\ttotal: 12m 32s\tremaining: 9m 4s\n"
     ]
    },
    {
     "name": "stdout",
     "output_type": "stream",
     "text": [
      "2925:\tlearn: 0.8542678\ttest: 0.7971664\tbest: 0.7975782 (1815)\ttotal: 12m 39s\tremaining: 8m 58s\n"
     ]
    },
    {
     "name": "stdout",
     "output_type": "stream",
     "text": [
      "2950:\tlearn: 0.8547660\ttest: 0.7975013\tbest: 0.7977325 (2944)\ttotal: 12m 45s\tremaining: 8m 51s\n"
     ]
    },
    {
     "name": "stdout",
     "output_type": "stream",
     "text": [
      "2975:\tlearn: 0.8552694\ttest: 0.7975016\tbest: 0.7977325 (2944)\ttotal: 12m 52s\tremaining: 8m 45s\n"
     ]
    },
    {
     "name": "stdout",
     "output_type": "stream",
     "text": [
      "3000:\tlearn: 0.8558755\ttest: 0.7971848\tbest: 0.7977325 (2944)\ttotal: 12m 58s\tremaining: 8m 38s\n"
     ]
    },
    {
     "name": "stdout",
     "output_type": "stream",
     "text": [
      "3025:\tlearn: 0.8565419\ttest: 0.7971074\tbest: 0.7977325 (2944)\ttotal: 13m 4s\tremaining: 8m 32s\n"
     ]
    },
    {
     "name": "stdout",
     "output_type": "stream",
     "text": [
      "3050:\tlearn: 0.8569755\ttest: 0.7971774\tbest: 0.7977325 (2944)\ttotal: 13m 11s\tremaining: 8m 25s\n"
     ]
    },
    {
     "name": "stdout",
     "output_type": "stream",
     "text": [
      "3075:\tlearn: 0.8574830\ttest: 0.7970501\tbest: 0.7977325 (2944)\ttotal: 13m 17s\tremaining: 8m 19s\n"
     ]
    },
    {
     "name": "stdout",
     "output_type": "stream",
     "text": [
      "3100:\tlearn: 0.8579608\ttest: 0.7972241\tbest: 0.7977325 (2944)\ttotal: 13m 24s\tremaining: 8m 12s\n"
     ]
    },
    {
     "name": "stdout",
     "output_type": "stream",
     "text": [
      "3125:\tlearn: 0.8583283\ttest: 0.7968665\tbest: 0.7977325 (2944)\ttotal: 13m 30s\tremaining: 8m 6s\n"
     ]
    },
    {
     "name": "stdout",
     "output_type": "stream",
     "text": [
      "3150:\tlearn: 0.8587707\ttest: 0.7965301\tbest: 0.7977325 (2944)\ttotal: 13m 37s\tremaining: 7m 59s\n"
     ]
    },
    {
     "name": "stdout",
     "output_type": "stream",
     "text": [
      "3175:\tlearn: 0.8592740\ttest: 0.7963633\tbest: 0.7977325 (2944)\ttotal: 13m 43s\tremaining: 7m 53s\n"
     ]
    },
    {
     "name": "stdout",
     "output_type": "stream",
     "text": [
      "3200:\tlearn: 0.8599244\ttest: 0.7963406\tbest: 0.7977325 (2944)\ttotal: 13m 50s\tremaining: 7m 46s\n"
     ]
    },
    {
     "name": "stdout",
     "output_type": "stream",
     "text": [
      "3225:\tlearn: 0.8604223\ttest: 0.7963676\tbest: 0.7977325 (2944)\ttotal: 13m 56s\tremaining: 7m 40s\n"
     ]
    },
    {
     "name": "stdout",
     "output_type": "stream",
     "text": [
      "3250:\tlearn: 0.8609073\ttest: 0.7966927\tbest: 0.7977325 (2944)\ttotal: 14m 3s\tremaining: 7m 33s\n"
     ]
    },
    {
     "name": "stdout",
     "output_type": "stream",
     "text": [
      "3275:\tlearn: 0.8612992\ttest: 0.7970369\tbest: 0.7977325 (2944)\ttotal: 14m 9s\tremaining: 7m 27s\n"
     ]
    },
    {
     "name": "stdout",
     "output_type": "stream",
     "text": [
      "3300:\tlearn: 0.8616011\ttest: 0.7968101\tbest: 0.7977325 (2944)\ttotal: 14m 16s\tremaining: 7m 20s\n"
     ]
    },
    {
     "name": "stdout",
     "output_type": "stream",
     "text": [
      "3325:\tlearn: 0.8620317\ttest: 0.7964134\tbest: 0.7977325 (2944)\ttotal: 14m 22s\tremaining: 7m 14s\n"
     ]
    },
    {
     "name": "stdout",
     "output_type": "stream",
     "text": [
      "3350:\tlearn: 0.8626553\ttest: 0.7965056\tbest: 0.7977325 (2944)\ttotal: 14m 29s\tremaining: 7m 7s\n"
     ]
    },
    {
     "name": "stdout",
     "output_type": "stream",
     "text": [
      "3375:\tlearn: 0.8631389\ttest: 0.7963038\tbest: 0.7977325 (2944)\ttotal: 14m 35s\tremaining: 7m 1s\n"
     ]
    },
    {
     "name": "stdout",
     "output_type": "stream",
     "text": [
      "3400:\tlearn: 0.8636852\ttest: 0.7962857\tbest: 0.7977325 (2944)\ttotal: 14m 42s\tremaining: 6m 54s\n"
     ]
    },
    {
     "name": "stdout",
     "output_type": "stream",
     "text": [
      "3425:\tlearn: 0.8641628\ttest: 0.7966477\tbest: 0.7977325 (2944)\ttotal: 14m 48s\tremaining: 6m 48s\n"
     ]
    },
    {
     "name": "stdout",
     "output_type": "stream",
     "text": [
      "3450:\tlearn: 0.8647068\ttest: 0.7968875\tbest: 0.7977325 (2944)\ttotal: 14m 54s\tremaining: 6m 41s\n"
     ]
    },
    {
     "name": "stdout",
     "output_type": "stream",
     "text": [
      "3475:\tlearn: 0.8650600\ttest: 0.7966831\tbest: 0.7977325 (2944)\ttotal: 15m 1s\tremaining: 6m 35s\n"
     ]
    },
    {
     "name": "stdout",
     "output_type": "stream",
     "text": [
      "3500:\tlearn: 0.8655309\ttest: 0.7970442\tbest: 0.7977325 (2944)\ttotal: 15m 7s\tremaining: 6m 28s\n"
     ]
    },
    {
     "name": "stdout",
     "output_type": "stream",
     "text": [
      "3525:\tlearn: 0.8658103\ttest: 0.7970715\tbest: 0.7977325 (2944)\ttotal: 15m 14s\tremaining: 6m 22s\n"
     ]
    },
    {
     "name": "stdout",
     "output_type": "stream",
     "text": [
      "3550:\tlearn: 0.8663344\ttest: 0.7972820\tbest: 0.7977325 (2944)\ttotal: 15m 20s\tremaining: 6m 15s\n"
     ]
    },
    {
     "name": "stdout",
     "output_type": "stream",
     "text": [
      "3575:\tlearn: 0.8667463\ttest: 0.7970451\tbest: 0.7977325 (2944)\ttotal: 15m 27s\tremaining: 6m 9s\n"
     ]
    },
    {
     "name": "stdout",
     "output_type": "stream",
     "text": [
      "3600:\tlearn: 0.8670864\ttest: 0.7973464\tbest: 0.7977325 (2944)\ttotal: 15m 33s\tremaining: 6m 2s\n"
     ]
    },
    {
     "name": "stdout",
     "output_type": "stream",
     "text": [
      "3625:\tlearn: 0.8676559\ttest: 0.7970312\tbest: 0.7977325 (2944)\ttotal: 15m 40s\tremaining: 5m 56s\n"
     ]
    },
    {
     "name": "stdout",
     "output_type": "stream",
     "text": [
      "3650:\tlearn: 0.8681343\ttest: 0.7970701\tbest: 0.7977325 (2944)\ttotal: 15m 46s\tremaining: 5m 49s\n"
     ]
    },
    {
     "name": "stdout",
     "output_type": "stream",
     "text": [
      "3675:\tlearn: 0.8686030\ttest: 0.7973903\tbest: 0.7977325 (2944)\ttotal: 15m 53s\tremaining: 5m 43s\n"
     ]
    },
    {
     "name": "stdout",
     "output_type": "stream",
     "text": [
      "3700:\tlearn: 0.8691756\ttest: 0.7972443\tbest: 0.7977325 (2944)\ttotal: 15m 59s\tremaining: 5m 36s\n"
     ]
    },
    {
     "name": "stdout",
     "output_type": "stream",
     "text": [
      "3725:\tlearn: 0.8695203\ttest: 0.7968873\tbest: 0.7977325 (2944)\ttotal: 16m 6s\tremaining: 5m 30s\n"
     ]
    },
    {
     "name": "stdout",
     "output_type": "stream",
     "text": [
      "3750:\tlearn: 0.8698612\ttest: 0.7972472\tbest: 0.7977325 (2944)\ttotal: 16m 12s\tremaining: 5m 23s\n"
     ]
    },
    {
     "name": "stdout",
     "output_type": "stream",
     "text": [
      "3775:\tlearn: 0.8703131\ttest: 0.7972298\tbest: 0.7977325 (2944)\ttotal: 16m 19s\tremaining: 5m 17s\n"
     ]
    },
    {
     "name": "stdout",
     "output_type": "stream",
     "text": [
      "3800:\tlearn: 0.8708118\ttest: 0.7971699\tbest: 0.7977325 (2944)\ttotal: 16m 25s\tremaining: 5m 10s\n"
     ]
    },
    {
     "name": "stdout",
     "output_type": "stream",
     "text": [
      "3825:\tlearn: 0.8713455\ttest: 0.7972612\tbest: 0.7977325 (2944)\ttotal: 16m 32s\tremaining: 5m 4s\n"
     ]
    },
    {
     "name": "stdout",
     "output_type": "stream",
     "text": [
      "3850:\tlearn: 0.8718143\ttest: 0.7970902\tbest: 0.7977325 (2944)\ttotal: 16m 38s\tremaining: 4m 57s\n"
     ]
    },
    {
     "name": "stdout",
     "output_type": "stream",
     "text": [
      "3875:\tlearn: 0.8723512\ttest: 0.7975340\tbest: 0.7977325 (2944)\ttotal: 16m 45s\tremaining: 4m 51s\n"
     ]
    },
    {
     "name": "stdout",
     "output_type": "stream",
     "text": [
      "3900:\tlearn: 0.8727787\ttest: 0.7975312\tbest: 0.7977325 (2944)\ttotal: 16m 51s\tremaining: 4m 44s\n"
     ]
    },
    {
     "name": "stdout",
     "output_type": "stream",
     "text": [
      "3925:\tlearn: 0.8730663\ttest: 0.7974044\tbest: 0.7977325 (2944)\ttotal: 16m 58s\tremaining: 4m 38s\n"
     ]
    },
    {
     "name": "stdout",
     "output_type": "stream",
     "text": [
      "3950:\tlearn: 0.8733441\ttest: 0.7973044\tbest: 0.7977325 (2944)\ttotal: 17m 4s\tremaining: 4m 32s\n"
     ]
    },
    {
     "name": "stdout",
     "output_type": "stream",
     "text": [
      "3975:\tlearn: 0.8737699\ttest: 0.7970503\tbest: 0.7977325 (2944)\ttotal: 17m 11s\tremaining: 4m 25s\n"
     ]
    },
    {
     "name": "stdout",
     "output_type": "stream",
     "text": [
      "4000:\tlearn: 0.8742276\ttest: 0.7968249\tbest: 0.7977325 (2944)\ttotal: 17m 17s\tremaining: 4m 19s\n"
     ]
    },
    {
     "name": "stdout",
     "output_type": "stream",
     "text": [
      "4025:\tlearn: 0.8745595\ttest: 0.7971273\tbest: 0.7977325 (2944)\ttotal: 17m 24s\tremaining: 4m 12s\n"
     ]
    },
    {
     "name": "stdout",
     "output_type": "stream",
     "text": [
      "4050:\tlearn: 0.8747397\ttest: 0.7969391\tbest: 0.7977325 (2944)\ttotal: 17m 30s\tremaining: 4m 6s\n"
     ]
    },
    {
     "name": "stdout",
     "output_type": "stream",
     "text": [
      "4075:\tlearn: 0.8752705\ttest: 0.7972344\tbest: 0.7977325 (2944)\ttotal: 17m 37s\tremaining: 3m 59s\n"
     ]
    },
    {
     "name": "stdout",
     "output_type": "stream",
     "text": [
      "4100:\tlearn: 0.8756818\ttest: 0.7973223\tbest: 0.7977325 (2944)\ttotal: 17m 43s\tremaining: 3m 53s\n"
     ]
    },
    {
     "name": "stdout",
     "output_type": "stream",
     "text": [
      "4125:\tlearn: 0.8760572\ttest: 0.7971178\tbest: 0.7977325 (2944)\ttotal: 17m 50s\tremaining: 3m 46s\n"
     ]
    },
    {
     "name": "stdout",
     "output_type": "stream",
     "text": [
      "4150:\tlearn: 0.8764537\ttest: 0.7970707\tbest: 0.7977325 (2944)\ttotal: 17m 56s\tremaining: 3m 40s\n"
     ]
    },
    {
     "name": "stdout",
     "output_type": "stream",
     "text": [
      "4175:\tlearn: 0.8767943\ttest: 0.7974679\tbest: 0.7977325 (2944)\ttotal: 18m 3s\tremaining: 3m 33s\n"
     ]
    },
    {
     "name": "stdout",
     "output_type": "stream",
     "text": [
      "4200:\tlearn: 0.8773116\ttest: 0.7973035\tbest: 0.7977325 (2944)\ttotal: 18m 9s\tremaining: 3m 27s\n"
     ]
    },
    {
     "name": "stdout",
     "output_type": "stream",
     "text": [
      "4225:\tlearn: 0.8778120\ttest: 0.7970710\tbest: 0.7977325 (2944)\ttotal: 18m 16s\tremaining: 3m 20s\n"
     ]
    },
    {
     "name": "stdout",
     "output_type": "stream",
     "text": [
      "4250:\tlearn: 0.8783943\ttest: 0.7968858\tbest: 0.7977325 (2944)\ttotal: 18m 22s\tremaining: 3m 14s\n"
     ]
    },
    {
     "name": "stdout",
     "output_type": "stream",
     "text": [
      "4275:\tlearn: 0.8787772\ttest: 0.7968059\tbest: 0.7977325 (2944)\ttotal: 18m 28s\tremaining: 3m 7s\n"
     ]
    },
    {
     "name": "stdout",
     "output_type": "stream",
     "text": [
      "4300:\tlearn: 0.8792828\ttest: 0.7969107\tbest: 0.7977325 (2944)\ttotal: 18m 35s\tremaining: 3m 1s\n"
     ]
    },
    {
     "name": "stdout",
     "output_type": "stream",
     "text": [
      "4325:\tlearn: 0.8798481\ttest: 0.7968717\tbest: 0.7977325 (2944)\ttotal: 18m 41s\tremaining: 2m 54s\n"
     ]
    },
    {
     "name": "stdout",
     "output_type": "stream",
     "text": [
      "4350:\tlearn: 0.8801946\ttest: 0.7971078\tbest: 0.7977325 (2944)\ttotal: 18m 48s\tremaining: 2m 48s\n"
     ]
    },
    {
     "name": "stdout",
     "output_type": "stream",
     "text": [
      "4375:\tlearn: 0.8806123\ttest: 0.7968789\tbest: 0.7977325 (2944)\ttotal: 18m 54s\tremaining: 2m 41s\n"
     ]
    },
    {
     "name": "stdout",
     "output_type": "stream",
     "text": [
      "4400:\tlearn: 0.8809859\ttest: 0.7969238\tbest: 0.7977325 (2944)\ttotal: 19m 1s\tremaining: 2m 35s\n"
     ]
    },
    {
     "name": "stdout",
     "output_type": "stream",
     "text": [
      "4425:\tlearn: 0.8814498\ttest: 0.7968174\tbest: 0.7977325 (2944)\ttotal: 19m 7s\tremaining: 2m 28s\n"
     ]
    },
    {
     "name": "stdout",
     "output_type": "stream",
     "text": [
      "4450:\tlearn: 0.8819008\ttest: 0.7972429\tbest: 0.7977325 (2944)\ttotal: 19m 14s\tremaining: 2m 22s\n"
     ]
    },
    {
     "name": "stdout",
     "output_type": "stream",
     "text": [
      "4475:\tlearn: 0.8823024\ttest: 0.7973708\tbest: 0.7977325 (2944)\ttotal: 19m 20s\tremaining: 2m 15s\n"
     ]
    },
    {
     "name": "stdout",
     "output_type": "stream",
     "text": [
      "4500:\tlearn: 0.8828057\ttest: 0.7970064\tbest: 0.7977325 (2944)\ttotal: 19m 27s\tremaining: 2m 9s\n"
     ]
    },
    {
     "name": "stdout",
     "output_type": "stream",
     "text": [
      "4525:\tlearn: 0.8832526\ttest: 0.7968853\tbest: 0.7977325 (2944)\ttotal: 19m 33s\tremaining: 2m 2s\n"
     ]
    },
    {
     "name": "stdout",
     "output_type": "stream",
     "text": [
      "4550:\tlearn: 0.8837557\ttest: 0.7968856\tbest: 0.7977325 (2944)\ttotal: 19m 40s\tremaining: 1m 56s\n"
     ]
    },
    {
     "name": "stdout",
     "output_type": "stream",
     "text": [
      "4575:\tlearn: 0.8840679\ttest: 0.7969730\tbest: 0.7977325 (2944)\ttotal: 19m 46s\tremaining: 1m 49s\n"
     ]
    },
    {
     "name": "stdout",
     "output_type": "stream",
     "text": [
      "4600:\tlearn: 0.8844764\ttest: 0.7971019\tbest: 0.7977325 (2944)\ttotal: 19m 53s\tremaining: 1m 43s\n"
     ]
    },
    {
     "name": "stdout",
     "output_type": "stream",
     "text": [
      "4625:\tlearn: 0.8849114\ttest: 0.7970792\tbest: 0.7977325 (2944)\ttotal: 19m 59s\tremaining: 1m 37s\n"
     ]
    },
    {
     "name": "stdout",
     "output_type": "stream",
     "text": [
      "4650:\tlearn: 0.8851195\ttest: 0.7971028\tbest: 0.7977325 (2944)\ttotal: 20m 6s\tremaining: 1m 30s\n"
     ]
    },
    {
     "name": "stdout",
     "output_type": "stream",
     "text": [
      "4675:\tlearn: 0.8854146\ttest: 0.7969320\tbest: 0.7977325 (2944)\ttotal: 20m 12s\tremaining: 1m 24s\n"
     ]
    },
    {
     "name": "stdout",
     "output_type": "stream",
     "text": [
      "4700:\tlearn: 0.8859978\ttest: 0.7970003\tbest: 0.7977325 (2944)\ttotal: 20m 19s\tremaining: 1m 17s\n"
     ]
    },
    {
     "name": "stdout",
     "output_type": "stream",
     "text": [
      "4725:\tlearn: 0.8862792\ttest: 0.7970020\tbest: 0.7977325 (2944)\ttotal: 20m 25s\tremaining: 1m 11s\n"
     ]
    },
    {
     "name": "stdout",
     "output_type": "stream",
     "text": [
      "4750:\tlearn: 0.8867607\ttest: 0.7967506\tbest: 0.7977325 (2944)\ttotal: 20m 32s\tremaining: 1m 4s\n"
     ]
    },
    {
     "name": "stdout",
     "output_type": "stream",
     "text": [
      "4775:\tlearn: 0.8869565\ttest: 0.7972375\tbest: 0.7977325 (2944)\ttotal: 20m 38s\tremaining: 58.1s\n"
     ]
    },
    {
     "name": "stdout",
     "output_type": "stream",
     "text": [
      "4800:\tlearn: 0.8874928\ttest: 0.7968185\tbest: 0.7977325 (2944)\ttotal: 20m 45s\tremaining: 51.6s\n"
     ]
    },
    {
     "name": "stdout",
     "output_type": "stream",
     "text": [
      "4825:\tlearn: 0.8878211\ttest: 0.7970042\tbest: 0.7977325 (2944)\ttotal: 20m 51s\tremaining: 45.1s\n"
     ]
    },
    {
     "name": "stdout",
     "output_type": "stream",
     "text": [
      "4850:\tlearn: 0.8883910\ttest: 0.7969414\tbest: 0.7977325 (2944)\ttotal: 20m 58s\tremaining: 38.7s\n"
     ]
    },
    {
     "name": "stdout",
     "output_type": "stream",
     "text": [
      "4875:\tlearn: 0.8888587\ttest: 0.7972148\tbest: 0.7977325 (2944)\ttotal: 21m 4s\tremaining: 32.2s\n"
     ]
    },
    {
     "name": "stdout",
     "output_type": "stream",
     "text": [
      "4900:\tlearn: 0.8894097\ttest: 0.7973194\tbest: 0.7977325 (2944)\ttotal: 21m 11s\tremaining: 25.7s\n"
     ]
    },
    {
     "name": "stdout",
     "output_type": "stream",
     "text": [
      "4925:\tlearn: 0.8896963\ttest: 0.7976524\tbest: 0.7977325 (2944)\ttotal: 21m 17s\tremaining: 19.2s\n"
     ]
    },
    {
     "name": "stdout",
     "output_type": "stream",
     "text": [
      "4950:\tlearn: 0.8899164\ttest: 0.7973628\tbest: 0.7978014 (4938)\ttotal: 21m 24s\tremaining: 12.7s\n"
     ]
    },
    {
     "name": "stdout",
     "output_type": "stream",
     "text": [
      "4975:\tlearn: 0.8903421\ttest: 0.7972727\tbest: 0.7978014 (4938)\ttotal: 21m 30s\tremaining: 6.23s\n"
     ]
    },
    {
     "name": "stdout",
     "output_type": "stream",
     "text": [
      "4999:\tlearn: 0.8905547\ttest: 0.7976757\tbest: 0.7978014 (4938)\ttotal: 21m 37s\tremaining: 0us\n",
      "\n",
      "bestTest = 0.7978013915\n",
      "bestIteration = 4938\n",
      "\n"
     ]
    },
    {
     "name": "stdout",
     "output_type": "stream",
     "text": [
      "Training time: 108.96345032056173 min.\n",
      "OOF recall_at4: 0.6680580334601273\n",
      "OOF normalized_gini: 0.9249276092247264\n",
      "OOF competition metric: 0.7964928213424268\n"
     ]
    },
    {
     "name": "stdout",
     "output_type": "stream",
     "text": [
      "############################### repeated cross-validation step: 3/3 ################################\n"
     ]
    },
    {
     "name": "stdout",
     "output_type": "stream",
     "text": [
      "######################################## training model 1/5 ########################################\n"
     ]
    },
    {
     "name": "stdout",
     "output_type": "stream",
     "text": [
      "0:\tlearn: 0.5866044\ttest: 0.5869964\tbest: 0.5869964 (0)\ttotal: 602ms\tremaining: 50m 9s\n"
     ]
    },
    {
     "name": "stdout",
     "output_type": "stream",
     "text": [
      "25:\tlearn: 0.7270273\ttest: 0.7242625\tbest: 0.7242625 (25)\ttotal: 7.04s\tremaining: 22m 27s\n"
     ]
    },
    {
     "name": "stdout",
     "output_type": "stream",
     "text": [
      "50:\tlearn: 0.7433771\ttest: 0.7400215\tbest: 0.7400215 (50)\ttotal: 13.6s\tremaining: 21m 58s\n"
     ]
    },
    {
     "name": "stdout",
     "output_type": "stream",
     "text": [
      "75:\tlearn: 0.7511504\ttest: 0.7477067\tbest: 0.7477067 (75)\ttotal: 20.1s\tremaining: 21m 43s\n"
     ]
    },
    {
     "name": "stdout",
     "output_type": "stream",
     "text": [
      "100:\tlearn: 0.7565437\ttest: 0.7532563\tbest: 0.7532819 (99)\ttotal: 26.7s\tremaining: 21m 32s\n"
     ]
    },
    {
     "name": "stdout",
     "output_type": "stream",
     "text": [
      "125:\tlearn: 0.7600825\ttest: 0.7567124\tbest: 0.7567124 (125)\ttotal: 33.1s\tremaining: 21m 20s\n"
     ]
    },
    {
     "name": "stdout",
     "output_type": "stream",
     "text": [
      "150:\tlearn: 0.7631887\ttest: 0.7596420\tbest: 0.7596420 (150)\ttotal: 39.6s\tremaining: 21m 12s\n"
     ]
    },
    {
     "name": "stdout",
     "output_type": "stream",
     "text": [
      "175:\tlearn: 0.7659778\ttest: 0.7623987\tbest: 0.7623987 (175)\ttotal: 46.2s\tremaining: 21m 5s\n"
     ]
    },
    {
     "name": "stdout",
     "output_type": "stream",
     "text": [
      "200:\tlearn: 0.7686129\ttest: 0.7641455\tbest: 0.7641455 (200)\ttotal: 52.7s\tremaining: 20m 57s\n"
     ]
    },
    {
     "name": "stdout",
     "output_type": "stream",
     "text": [
      "225:\tlearn: 0.7709140\ttest: 0.7671221\tbest: 0.7672600 (224)\ttotal: 59.1s\tremaining: 20m 48s\n"
     ]
    },
    {
     "name": "stdout",
     "output_type": "stream",
     "text": [
      "250:\tlearn: 0.7723956\ttest: 0.7681470\tbest: 0.7684087 (248)\ttotal: 1m 5s\tremaining: 20m 42s\n"
     ]
    },
    {
     "name": "stdout",
     "output_type": "stream",
     "text": [
      "275:\tlearn: 0.7745265\ttest: 0.7707842\tbest: 0.7707842 (275)\ttotal: 1m 12s\tremaining: 20m 34s\n"
     ]
    },
    {
     "name": "stdout",
     "output_type": "stream",
     "text": [
      "300:\tlearn: 0.7775274\ttest: 0.7732037\tbest: 0.7734005 (299)\ttotal: 1m 18s\tremaining: 20m 28s\n"
     ]
    },
    {
     "name": "stdout",
     "output_type": "stream",
     "text": [
      "325:\tlearn: 0.7810336\ttest: 0.7752835\tbest: 0.7752835 (325)\ttotal: 1m 25s\tremaining: 20m 21s\n"
     ]
    },
    {
     "name": "stdout",
     "output_type": "stream",
     "text": [
      "350:\tlearn: 0.7839891\ttest: 0.7770246\tbest: 0.7773079 (347)\ttotal: 1m 31s\tremaining: 20m 15s\n"
     ]
    },
    {
     "name": "stdout",
     "output_type": "stream",
     "text": [
      "375:\tlearn: 0.7859445\ttest: 0.7797382\tbest: 0.7797662 (374)\ttotal: 1m 38s\tremaining: 20m 8s\n"
     ]
    },
    {
     "name": "stdout",
     "output_type": "stream",
     "text": [
      "400:\tlearn: 0.7878614\ttest: 0.7817457\tbest: 0.7819137 (398)\ttotal: 1m 44s\tremaining: 20m 1s\n"
     ]
    },
    {
     "name": "stdout",
     "output_type": "stream",
     "text": [
      "425:\tlearn: 0.7896794\ttest: 0.7832126\tbest: 0.7832126 (425)\ttotal: 1m 51s\tremaining: 19m 55s\n"
     ]
    },
    {
     "name": "stdout",
     "output_type": "stream",
     "text": [
      "450:\tlearn: 0.7913739\ttest: 0.7841886\tbest: 0.7843873 (449)\ttotal: 1m 57s\tremaining: 19m 48s\n"
     ]
    },
    {
     "name": "stdout",
     "output_type": "stream",
     "text": [
      "475:\tlearn: 0.7928903\ttest: 0.7848501\tbest: 0.7849601 (470)\ttotal: 2m 4s\tremaining: 19m 41s\n"
     ]
    },
    {
     "name": "stdout",
     "output_type": "stream",
     "text": [
      "500:\tlearn: 0.7942134\ttest: 0.7856027\tbest: 0.7857846 (499)\ttotal: 2m 10s\tremaining: 19m 34s\n"
     ]
    },
    {
     "name": "stdout",
     "output_type": "stream",
     "text": [
      "525:\tlearn: 0.7957488\ttest: 0.7865793\tbest: 0.7865793 (525)\ttotal: 2m 17s\tremaining: 19m 28s\n"
     ]
    },
    {
     "name": "stdout",
     "output_type": "stream",
     "text": [
      "550:\tlearn: 0.7966205\ttest: 0.7872871\tbest: 0.7872871 (550)\ttotal: 2m 23s\tremaining: 19m 22s\n"
     ]
    },
    {
     "name": "stdout",
     "output_type": "stream",
     "text": [
      "575:\tlearn: 0.7977431\ttest: 0.7877484\tbest: 0.7877484 (575)\ttotal: 2m 30s\tremaining: 19m 15s\n"
     ]
    },
    {
     "name": "stdout",
     "output_type": "stream",
     "text": [
      "600:\tlearn: 0.7987849\ttest: 0.7881964\tbest: 0.7882653 (597)\ttotal: 2m 36s\tremaining: 19m 8s\n"
     ]
    },
    {
     "name": "stdout",
     "output_type": "stream",
     "text": [
      "625:\tlearn: 0.7999719\ttest: 0.7890202\tbest: 0.7890729 (622)\ttotal: 2m 43s\tremaining: 19m 1s\n"
     ]
    },
    {
     "name": "stdout",
     "output_type": "stream",
     "text": [
      "650:\tlearn: 0.8008590\ttest: 0.7892229\tbest: 0.7895749 (648)\ttotal: 2m 49s\tremaining: 18m 54s\n"
     ]
    },
    {
     "name": "stdout",
     "output_type": "stream",
     "text": [
      "675:\tlearn: 0.8016778\ttest: 0.7896074\tbest: 0.7900013 (673)\ttotal: 2m 56s\tremaining: 18m 48s\n"
     ]
    },
    {
     "name": "stdout",
     "output_type": "stream",
     "text": [
      "700:\tlearn: 0.8023499\ttest: 0.7901759\tbest: 0.7901759 (700)\ttotal: 3m 2s\tremaining: 18m 41s\n"
     ]
    },
    {
     "name": "stdout",
     "output_type": "stream",
     "text": [
      "725:\tlearn: 0.8035719\ttest: 0.7906140\tbest: 0.7907371 (722)\ttotal: 3m 9s\tremaining: 18m 34s\n"
     ]
    },
    {
     "name": "stdout",
     "output_type": "stream",
     "text": [
      "750:\tlearn: 0.8042767\ttest: 0.7905610\tbest: 0.7907371 (722)\ttotal: 3m 15s\tremaining: 18m 27s\n"
     ]
    },
    {
     "name": "stdout",
     "output_type": "stream",
     "text": [
      "775:\tlearn: 0.8051548\ttest: 0.7905934\tbest: 0.7907597 (774)\ttotal: 3m 22s\tremaining: 18m 20s\n"
     ]
    },
    {
     "name": "stdout",
     "output_type": "stream",
     "text": [
      "800:\tlearn: 0.8060370\ttest: 0.7901983\tbest: 0.7908804 (795)\ttotal: 3m 28s\tremaining: 18m 14s\n"
     ]
    },
    {
     "name": "stdout",
     "output_type": "stream",
     "text": [
      "825:\tlearn: 0.8067639\ttest: 0.7905068\tbest: 0.7908804 (795)\ttotal: 3m 35s\tremaining: 18m 7s\n"
     ]
    },
    {
     "name": "stdout",
     "output_type": "stream",
     "text": [
      "850:\tlearn: 0.8075523\ttest: 0.7905336\tbest: 0.7910594 (841)\ttotal: 3m 41s\tremaining: 18m\n"
     ]
    },
    {
     "name": "stdout",
     "output_type": "stream",
     "text": [
      "875:\tlearn: 0.8085723\ttest: 0.7904832\tbest: 0.7910594 (841)\ttotal: 3m 48s\tremaining: 17m 54s\n"
     ]
    },
    {
     "name": "stdout",
     "output_type": "stream",
     "text": [
      "900:\tlearn: 0.8095183\ttest: 0.7913049\tbest: 0.7913049 (900)\ttotal: 3m 54s\tremaining: 17m 47s\n"
     ]
    },
    {
     "name": "stdout",
     "output_type": "stream",
     "text": [
      "925:\tlearn: 0.8100457\ttest: 0.7918406\tbest: 0.7918406 (925)\ttotal: 4m 1s\tremaining: 17m 41s\n"
     ]
    },
    {
     "name": "stdout",
     "output_type": "stream",
     "text": [
      "950:\tlearn: 0.8109257\ttest: 0.7920488\tbest: 0.7920488 (950)\ttotal: 4m 7s\tremaining: 17m 34s\n"
     ]
    },
    {
     "name": "stdout",
     "output_type": "stream",
     "text": [
      "975:\tlearn: 0.8116714\ttest: 0.7918298\tbest: 0.7921974 (968)\ttotal: 4m 14s\tremaining: 17m 27s\n"
     ]
    },
    {
     "name": "stdout",
     "output_type": "stream",
     "text": [
      "1000:\tlearn: 0.8122515\ttest: 0.7922439\tbest: 0.7924731 (996)\ttotal: 4m 20s\tremaining: 17m 21s\n"
     ]
    },
    {
     "name": "stdout",
     "output_type": "stream",
     "text": [
      "1025:\tlearn: 0.8127970\ttest: 0.7926114\tbest: 0.7926114 (1025)\ttotal: 4m 26s\tremaining: 17m 14s\n"
     ]
    },
    {
     "name": "stdout",
     "output_type": "stream",
     "text": [
      "1050:\tlearn: 0.8136847\ttest: 0.7924415\tbest: 0.7927890 (1030)\ttotal: 4m 33s\tremaining: 17m 7s\n"
     ]
    },
    {
     "name": "stdout",
     "output_type": "stream",
     "text": [
      "1075:\tlearn: 0.8143258\ttest: 0.7923943\tbest: 0.7927890 (1030)\ttotal: 4m 39s\tremaining: 17m 1s\n"
     ]
    },
    {
     "name": "stdout",
     "output_type": "stream",
     "text": [
      "1100:\tlearn: 0.8151071\ttest: 0.7924546\tbest: 0.7927890 (1030)\ttotal: 4m 46s\tremaining: 16m 54s\n"
     ]
    },
    {
     "name": "stdout",
     "output_type": "stream",
     "text": [
      "1125:\tlearn: 0.8159713\ttest: 0.7923724\tbest: 0.7927890 (1030)\ttotal: 4m 52s\tremaining: 16m 47s\n"
     ]
    },
    {
     "name": "stdout",
     "output_type": "stream",
     "text": [
      "1150:\tlearn: 0.8165028\ttest: 0.7924918\tbest: 0.7927890 (1030)\ttotal: 4m 59s\tremaining: 16m 41s\n"
     ]
    },
    {
     "name": "stdout",
     "output_type": "stream",
     "text": [
      "1175:\tlearn: 0.8175248\ttest: 0.7924310\tbest: 0.7927890 (1030)\ttotal: 5m 5s\tremaining: 16m 35s\n"
     ]
    },
    {
     "name": "stdout",
     "output_type": "stream",
     "text": [
      "1200:\tlearn: 0.8181490\ttest: 0.7930016\tbest: 0.7930211 (1199)\ttotal: 5m 12s\tremaining: 16m 28s\n"
     ]
    },
    {
     "name": "stdout",
     "output_type": "stream",
     "text": [
      "1225:\tlearn: 0.8188026\ttest: 0.7933538\tbest: 0.7933947 (1224)\ttotal: 5m 18s\tremaining: 16m 21s\n"
     ]
    },
    {
     "name": "stdout",
     "output_type": "stream",
     "text": [
      "1250:\tlearn: 0.8194101\ttest: 0.7934304\tbest: 0.7935574 (1249)\ttotal: 5m 25s\tremaining: 16m 14s\n"
     ]
    },
    {
     "name": "stdout",
     "output_type": "stream",
     "text": [
      "1275:\tlearn: 0.8203261\ttest: 0.7932830\tbest: 0.7935574 (1249)\ttotal: 5m 31s\tremaining: 16m 8s\n"
     ]
    },
    {
     "name": "stdout",
     "output_type": "stream",
     "text": [
      "1300:\tlearn: 0.8209336\ttest: 0.7934562\tbest: 0.7936002 (1298)\ttotal: 5m 38s\tremaining: 16m 1s\n"
     ]
    },
    {
     "name": "stdout",
     "output_type": "stream",
     "text": [
      "1325:\tlearn: 0.8215073\ttest: 0.7931980\tbest: 0.7936512 (1308)\ttotal: 5m 44s\tremaining: 15m 55s\n"
     ]
    },
    {
     "name": "stdout",
     "output_type": "stream",
     "text": [
      "1350:\tlearn: 0.8222714\ttest: 0.7936346\tbest: 0.7936512 (1308)\ttotal: 5m 51s\tremaining: 15m 48s\n"
     ]
    },
    {
     "name": "stdout",
     "output_type": "stream",
     "text": [
      "1375:\tlearn: 0.8228436\ttest: 0.7937581\tbest: 0.7937964 (1371)\ttotal: 5m 57s\tremaining: 15m 42s\n"
     ]
    },
    {
     "name": "stdout",
     "output_type": "stream",
     "text": [
      "1400:\tlearn: 0.8236101\ttest: 0.7939244\tbest: 0.7939575 (1388)\ttotal: 6m 4s\tremaining: 15m 36s\n"
     ]
    },
    {
     "name": "stdout",
     "output_type": "stream",
     "text": [
      "1425:\tlearn: 0.8240859\ttest: 0.7941878\tbest: 0.7942930 (1420)\ttotal: 6m 10s\tremaining: 15m 29s\n"
     ]
    },
    {
     "name": "stdout",
     "output_type": "stream",
     "text": [
      "1450:\tlearn: 0.8247723\ttest: 0.7939945\tbest: 0.7942969 (1429)\ttotal: 6m 17s\tremaining: 15m 23s\n"
     ]
    },
    {
     "name": "stdout",
     "output_type": "stream",
     "text": [
      "1475:\tlearn: 0.8250948\ttest: 0.7943542\tbest: 0.7944775 (1471)\ttotal: 6m 23s\tremaining: 15m 16s\n"
     ]
    },
    {
     "name": "stdout",
     "output_type": "stream",
     "text": [
      "1500:\tlearn: 0.8257494\ttest: 0.7945143\tbest: 0.7946944 (1488)\ttotal: 6m 30s\tremaining: 15m 10s\n"
     ]
    },
    {
     "name": "stdout",
     "output_type": "stream",
     "text": [
      "1525:\tlearn: 0.8264178\ttest: 0.7946340\tbest: 0.7947326 (1513)\ttotal: 6m 36s\tremaining: 15m 3s\n"
     ]
    },
    {
     "name": "stdout",
     "output_type": "stream",
     "text": [
      "1550:\tlearn: 0.8269189\ttest: 0.7945768\tbest: 0.7947326 (1513)\ttotal: 6m 43s\tremaining: 14m 56s\n"
     ]
    },
    {
     "name": "stdout",
     "output_type": "stream",
     "text": [
      "1575:\tlearn: 0.8273789\ttest: 0.7941416\tbest: 0.7947326 (1513)\ttotal: 6m 49s\tremaining: 14m 50s\n"
     ]
    },
    {
     "name": "stdout",
     "output_type": "stream",
     "text": [
      "1600:\tlearn: 0.8280344\ttest: 0.7941322\tbest: 0.7947326 (1513)\ttotal: 6m 56s\tremaining: 14m 43s\n"
     ]
    },
    {
     "name": "stdout",
     "output_type": "stream",
     "text": [
      "1625:\tlearn: 0.8285017\ttest: 0.7943797\tbest: 0.7947326 (1513)\ttotal: 7m 2s\tremaining: 14m 37s\n"
     ]
    },
    {
     "name": "stdout",
     "output_type": "stream",
     "text": [
      "1650:\tlearn: 0.8291503\ttest: 0.7947932\tbest: 0.7948351 (1647)\ttotal: 7m 9s\tremaining: 14m 31s\n"
     ]
    },
    {
     "name": "stdout",
     "output_type": "stream",
     "text": [
      "1675:\tlearn: 0.8299000\ttest: 0.7945265\tbest: 0.7948401 (1671)\ttotal: 7m 15s\tremaining: 14m 24s\n"
     ]
    },
    {
     "name": "stdout",
     "output_type": "stream",
     "text": [
      "1700:\tlearn: 0.8302436\ttest: 0.7945394\tbest: 0.7948659 (1684)\ttotal: 7m 22s\tremaining: 14m 18s\n"
     ]
    },
    {
     "name": "stdout",
     "output_type": "stream",
     "text": [
      "1725:\tlearn: 0.8309650\ttest: 0.7948244\tbest: 0.7949672 (1718)\ttotal: 7m 28s\tremaining: 14m 11s\n"
     ]
    },
    {
     "name": "stdout",
     "output_type": "stream",
     "text": [
      "1750:\tlearn: 0.8315873\ttest: 0.7947981\tbest: 0.7949672 (1718)\ttotal: 7m 35s\tremaining: 14m 5s\n"
     ]
    },
    {
     "name": "stdout",
     "output_type": "stream",
     "text": [
      "1775:\tlearn: 0.8322144\ttest: 0.7945802\tbest: 0.7950988 (1760)\ttotal: 7m 41s\tremaining: 13m 58s\n"
     ]
    },
    {
     "name": "stdout",
     "output_type": "stream",
     "text": [
      "1800:\tlearn: 0.8328538\ttest: 0.7946149\tbest: 0.7950988 (1760)\ttotal: 7m 48s\tremaining: 13m 52s\n"
     ]
    },
    {
     "name": "stdout",
     "output_type": "stream",
     "text": [
      "1825:\tlearn: 0.8332174\ttest: 0.7950186\tbest: 0.7950988 (1760)\ttotal: 7m 54s\tremaining: 13m 45s\n"
     ]
    },
    {
     "name": "stdout",
     "output_type": "stream",
     "text": [
      "1850:\tlearn: 0.8337085\ttest: 0.7948612\tbest: 0.7950988 (1760)\ttotal: 8m 1s\tremaining: 13m 39s\n"
     ]
    },
    {
     "name": "stdout",
     "output_type": "stream",
     "text": [
      "1875:\tlearn: 0.8343480\ttest: 0.7948316\tbest: 0.7950988 (1760)\ttotal: 8m 8s\tremaining: 13m 32s\n"
     ]
    },
    {
     "name": "stdout",
     "output_type": "stream",
     "text": [
      "1900:\tlearn: 0.8349794\ttest: 0.7948447\tbest: 0.7950988 (1760)\ttotal: 8m 14s\tremaining: 13m 26s\n"
     ]
    },
    {
     "name": "stdout",
     "output_type": "stream",
     "text": [
      "1925:\tlearn: 0.8356011\ttest: 0.7948754\tbest: 0.7951015 (1911)\ttotal: 8m 21s\tremaining: 13m 19s\n"
     ]
    },
    {
     "name": "stdout",
     "output_type": "stream",
     "text": [
      "1950:\tlearn: 0.8362725\ttest: 0.7950815\tbest: 0.7952904 (1949)\ttotal: 8m 27s\tremaining: 13m 13s\n"
     ]
    },
    {
     "name": "stdout",
     "output_type": "stream",
     "text": [
      "1975:\tlearn: 0.8367323\ttest: 0.7949809\tbest: 0.7954187 (1956)\ttotal: 8m 34s\tremaining: 13m 6s\n"
     ]
    },
    {
     "name": "stdout",
     "output_type": "stream",
     "text": [
      "2000:\tlearn: 0.8373751\ttest: 0.7951851\tbest: 0.7954187 (1956)\ttotal: 8m 40s\tremaining: 13m\n"
     ]
    },
    {
     "name": "stdout",
     "output_type": "stream",
     "text": [
      "2025:\tlearn: 0.8378618\ttest: 0.7951046\tbest: 0.7954412 (2009)\ttotal: 8m 47s\tremaining: 12m 53s\n"
     ]
    },
    {
     "name": "stdout",
     "output_type": "stream",
     "text": [
      "2050:\tlearn: 0.8384840\ttest: 0.7951831\tbest: 0.7954412 (2009)\ttotal: 8m 53s\tremaining: 12m 47s\n"
     ]
    },
    {
     "name": "stdout",
     "output_type": "stream",
     "text": [
      "2075:\tlearn: 0.8390398\ttest: 0.7950647\tbest: 0.7954970 (2056)\ttotal: 9m\tremaining: 12m 40s\n"
     ]
    },
    {
     "name": "stdout",
     "output_type": "stream",
     "text": [
      "2100:\tlearn: 0.8397037\ttest: 0.7948464\tbest: 0.7954970 (2056)\ttotal: 9m 6s\tremaining: 12m 34s\n"
     ]
    },
    {
     "name": "stdout",
     "output_type": "stream",
     "text": [
      "2125:\tlearn: 0.8404025\ttest: 0.7949616\tbest: 0.7954970 (2056)\ttotal: 9m 13s\tremaining: 12m 27s\n"
     ]
    },
    {
     "name": "stdout",
     "output_type": "stream",
     "text": [
      "2150:\tlearn: 0.8411252\ttest: 0.7951016\tbest: 0.7954970 (2056)\ttotal: 9m 19s\tremaining: 12m 21s\n"
     ]
    },
    {
     "name": "stdout",
     "output_type": "stream",
     "text": [
      "2175:\tlearn: 0.8417857\ttest: 0.7951898\tbest: 0.7954970 (2056)\ttotal: 9m 26s\tremaining: 12m 14s\n"
     ]
    },
    {
     "name": "stdout",
     "output_type": "stream",
     "text": [
      "2200:\tlearn: 0.8426240\ttest: 0.7950839\tbest: 0.7954970 (2056)\ttotal: 9m 32s\tremaining: 12m 8s\n"
     ]
    },
    {
     "name": "stdout",
     "output_type": "stream",
     "text": [
      "2225:\tlearn: 0.8428980\ttest: 0.7953265\tbest: 0.7954970 (2056)\ttotal: 9m 39s\tremaining: 12m 1s\n"
     ]
    },
    {
     "name": "stdout",
     "output_type": "stream",
     "text": [
      "2250:\tlearn: 0.8434007\ttest: 0.7956452\tbest: 0.7957066 (2240)\ttotal: 9m 45s\tremaining: 11m 55s\n"
     ]
    },
    {
     "name": "stdout",
     "output_type": "stream",
     "text": [
      "2275:\tlearn: 0.8440798\ttest: 0.7954039\tbest: 0.7957076 (2254)\ttotal: 9m 52s\tremaining: 11m 48s\n"
     ]
    },
    {
     "name": "stdout",
     "output_type": "stream",
     "text": [
      "2300:\tlearn: 0.8449186\ttest: 0.7954543\tbest: 0.7957076 (2254)\ttotal: 9m 58s\tremaining: 11m 42s\n"
     ]
    },
    {
     "name": "stdout",
     "output_type": "stream",
     "text": [
      "2325:\tlearn: 0.8453986\ttest: 0.7954166\tbest: 0.7957076 (2254)\ttotal: 10m 5s\tremaining: 11m 35s\n"
     ]
    },
    {
     "name": "stdout",
     "output_type": "stream",
     "text": [
      "2350:\tlearn: 0.8457784\ttest: 0.7953604\tbest: 0.7957076 (2254)\ttotal: 10m 11s\tremaining: 11m 29s\n"
     ]
    },
    {
     "name": "stdout",
     "output_type": "stream",
     "text": [
      "2375:\tlearn: 0.8463645\ttest: 0.7951512\tbest: 0.7957076 (2254)\ttotal: 10m 18s\tremaining: 11m 22s\n"
     ]
    },
    {
     "name": "stdout",
     "output_type": "stream",
     "text": [
      "2400:\tlearn: 0.8469653\ttest: 0.7952646\tbest: 0.7957076 (2254)\ttotal: 10m 24s\tremaining: 11m 15s\n"
     ]
    },
    {
     "name": "stdout",
     "output_type": "stream",
     "text": [
      "2425:\tlearn: 0.8474923\ttest: 0.7946580\tbest: 0.7957076 (2254)\ttotal: 10m 30s\tremaining: 11m 9s\n"
     ]
    },
    {
     "name": "stdout",
     "output_type": "stream",
     "text": [
      "2450:\tlearn: 0.8477845\ttest: 0.7945822\tbest: 0.7957076 (2254)\ttotal: 10m 37s\tremaining: 11m 2s\n"
     ]
    },
    {
     "name": "stdout",
     "output_type": "stream",
     "text": [
      "2475:\tlearn: 0.8484030\ttest: 0.7946342\tbest: 0.7957076 (2254)\ttotal: 10m 43s\tremaining: 10m 56s\n"
     ]
    },
    {
     "name": "stdout",
     "output_type": "stream",
     "text": [
      "2500:\tlearn: 0.8488958\ttest: 0.7947224\tbest: 0.7957076 (2254)\ttotal: 10m 50s\tremaining: 10m 49s\n"
     ]
    },
    {
     "name": "stdout",
     "output_type": "stream",
     "text": [
      "2525:\tlearn: 0.8494342\ttest: 0.7947863\tbest: 0.7957076 (2254)\ttotal: 10m 56s\tremaining: 10m 43s\n"
     ]
    },
    {
     "name": "stdout",
     "output_type": "stream",
     "text": [
      "2550:\tlearn: 0.8499462\ttest: 0.7952489\tbest: 0.7957076 (2254)\ttotal: 11m 3s\tremaining: 10m 36s\n"
     ]
    },
    {
     "name": "stdout",
     "output_type": "stream",
     "text": [
      "2575:\tlearn: 0.8503855\ttest: 0.7950407\tbest: 0.7957076 (2254)\ttotal: 11m 9s\tremaining: 10m 30s\n"
     ]
    },
    {
     "name": "stdout",
     "output_type": "stream",
     "text": [
      "2600:\tlearn: 0.8509172\ttest: 0.7953642\tbest: 0.7957076 (2254)\ttotal: 11m 16s\tremaining: 10m 23s\n"
     ]
    },
    {
     "name": "stdout",
     "output_type": "stream",
     "text": [
      "2625:\tlearn: 0.8516884\ttest: 0.7952457\tbest: 0.7957076 (2254)\ttotal: 11m 22s\tremaining: 10m 17s\n"
     ]
    },
    {
     "name": "stdout",
     "output_type": "stream",
     "text": [
      "2650:\tlearn: 0.8522696\ttest: 0.7951826\tbest: 0.7957076 (2254)\ttotal: 11m 29s\tremaining: 10m 10s\n"
     ]
    },
    {
     "name": "stdout",
     "output_type": "stream",
     "text": [
      "2675:\tlearn: 0.8529207\ttest: 0.7951215\tbest: 0.7957076 (2254)\ttotal: 11m 35s\tremaining: 10m 4s\n"
     ]
    },
    {
     "name": "stdout",
     "output_type": "stream",
     "text": [
      "2700:\tlearn: 0.8532474\ttest: 0.7953117\tbest: 0.7957076 (2254)\ttotal: 11m 42s\tremaining: 9m 57s\n"
     ]
    },
    {
     "name": "stdout",
     "output_type": "stream",
     "text": [
      "2725:\tlearn: 0.8538475\ttest: 0.7951188\tbest: 0.7957076 (2254)\ttotal: 11m 48s\tremaining: 9m 51s\n"
     ]
    },
    {
     "name": "stdout",
     "output_type": "stream",
     "text": [
      "2750:\tlearn: 0.8542402\ttest: 0.7947864\tbest: 0.7957076 (2254)\ttotal: 11m 55s\tremaining: 9m 44s\n"
     ]
    },
    {
     "name": "stdout",
     "output_type": "stream",
     "text": [
      "2775:\tlearn: 0.8547268\ttest: 0.7949975\tbest: 0.7957076 (2254)\ttotal: 12m 1s\tremaining: 9m 38s\n"
     ]
    },
    {
     "name": "stdout",
     "output_type": "stream",
     "text": [
      "2800:\tlearn: 0.8552318\ttest: 0.7951675\tbest: 0.7957076 (2254)\ttotal: 12m 8s\tremaining: 9m 31s\n"
     ]
    },
    {
     "name": "stdout",
     "output_type": "stream",
     "text": [
      "2825:\tlearn: 0.8557169\ttest: 0.7951072\tbest: 0.7957076 (2254)\ttotal: 12m 14s\tremaining: 9m 25s\n"
     ]
    },
    {
     "name": "stdout",
     "output_type": "stream",
     "text": [
      "2850:\tlearn: 0.8561877\ttest: 0.7955836\tbest: 0.7957076 (2254)\ttotal: 12m 21s\tremaining: 9m 18s\n"
     ]
    },
    {
     "name": "stdout",
     "output_type": "stream",
     "text": [
      "2875:\tlearn: 0.8565445\ttest: 0.7956722\tbest: 0.7957312 (2853)\ttotal: 12m 27s\tremaining: 9m 12s\n"
     ]
    },
    {
     "name": "stdout",
     "output_type": "stream",
     "text": [
      "2900:\tlearn: 0.8568572\ttest: 0.7954810\tbest: 0.7957312 (2853)\ttotal: 12m 34s\tremaining: 9m 5s\n"
     ]
    },
    {
     "name": "stdout",
     "output_type": "stream",
     "text": [
      "2925:\tlearn: 0.8573887\ttest: 0.7954842\tbest: 0.7957312 (2853)\ttotal: 12m 40s\tremaining: 8m 59s\n"
     ]
    },
    {
     "name": "stdout",
     "output_type": "stream",
     "text": [
      "2950:\tlearn: 0.8577896\ttest: 0.7951758\tbest: 0.7957312 (2853)\ttotal: 12m 47s\tremaining: 8m 52s\n"
     ]
    },
    {
     "name": "stdout",
     "output_type": "stream",
     "text": [
      "2975:\tlearn: 0.8582834\ttest: 0.7948844\tbest: 0.7957312 (2853)\ttotal: 12m 53s\tremaining: 8m 46s\n"
     ]
    },
    {
     "name": "stdout",
     "output_type": "stream",
     "text": [
      "3000:\tlearn: 0.8589087\ttest: 0.7951842\tbest: 0.7957312 (2853)\ttotal: 12m 59s\tremaining: 8m 39s\n"
     ]
    },
    {
     "name": "stdout",
     "output_type": "stream",
     "text": [
      "3025:\tlearn: 0.8595504\ttest: 0.7951258\tbest: 0.7957312 (2853)\ttotal: 13m 6s\tremaining: 8m 33s\n"
     ]
    },
    {
     "name": "stdout",
     "output_type": "stream",
     "text": [
      "3050:\tlearn: 0.8601452\ttest: 0.7951269\tbest: 0.7957312 (2853)\ttotal: 13m 12s\tremaining: 8m 26s\n"
     ]
    },
    {
     "name": "stdout",
     "output_type": "stream",
     "text": [
      "3075:\tlearn: 0.8606875\ttest: 0.7953844\tbest: 0.7957312 (2853)\ttotal: 13m 19s\tremaining: 8m 20s\n"
     ]
    },
    {
     "name": "stdout",
     "output_type": "stream",
     "text": [
      "3100:\tlearn: 0.8610135\ttest: 0.7953845\tbest: 0.7957312 (2853)\ttotal: 13m 25s\tremaining: 8m 13s\n"
     ]
    },
    {
     "name": "stdout",
     "output_type": "stream",
     "text": [
      "3125:\tlearn: 0.8615670\ttest: 0.7951313\tbest: 0.7957312 (2853)\ttotal: 13m 32s\tremaining: 8m 7s\n"
     ]
    },
    {
     "name": "stdout",
     "output_type": "stream",
     "text": [
      "3150:\tlearn: 0.8620561\ttest: 0.7952848\tbest: 0.7957312 (2853)\ttotal: 13m 38s\tremaining: 8m\n"
     ]
    },
    {
     "name": "stdout",
     "output_type": "stream",
     "text": [
      "3175:\tlearn: 0.8624731\ttest: 0.7953257\tbest: 0.7957312 (2853)\ttotal: 13m 45s\tremaining: 7m 54s\n"
     ]
    },
    {
     "name": "stdout",
     "output_type": "stream",
     "text": [
      "3200:\tlearn: 0.8629679\ttest: 0.7953297\tbest: 0.7957312 (2853)\ttotal: 13m 51s\tremaining: 7m 47s\n"
     ]
    },
    {
     "name": "stdout",
     "output_type": "stream",
     "text": [
      "3225:\tlearn: 0.8635988\ttest: 0.7952872\tbest: 0.7957312 (2853)\ttotal: 13m 58s\tremaining: 7m 41s\n"
     ]
    },
    {
     "name": "stdout",
     "output_type": "stream",
     "text": [
      "3250:\tlearn: 0.8641820\ttest: 0.7951442\tbest: 0.7957312 (2853)\ttotal: 14m 4s\tremaining: 7m 34s\n"
     ]
    },
    {
     "name": "stdout",
     "output_type": "stream",
     "text": [
      "3275:\tlearn: 0.8647048\ttest: 0.7949387\tbest: 0.7957312 (2853)\ttotal: 14m 11s\tremaining: 7m 27s\n"
     ]
    },
    {
     "name": "stdout",
     "output_type": "stream",
     "text": [
      "3300:\tlearn: 0.8652115\ttest: 0.7946615\tbest: 0.7957312 (2853)\ttotal: 14m 17s\tremaining: 7m 21s\n"
     ]
    },
    {
     "name": "stdout",
     "output_type": "stream",
     "text": [
      "3325:\tlearn: 0.8656588\ttest: 0.7947507\tbest: 0.7957312 (2853)\ttotal: 14m 24s\tremaining: 7m 15s\n"
     ]
    },
    {
     "name": "stdout",
     "output_type": "stream",
     "text": [
      "3350:\tlearn: 0.8660579\ttest: 0.7948305\tbest: 0.7957312 (2853)\ttotal: 14m 30s\tremaining: 7m 8s\n"
     ]
    },
    {
     "name": "stdout",
     "output_type": "stream",
     "text": [
      "3375:\tlearn: 0.8664049\ttest: 0.7945575\tbest: 0.7957312 (2853)\ttotal: 14m 37s\tremaining: 7m 1s\n"
     ]
    },
    {
     "name": "stdout",
     "output_type": "stream",
     "text": [
      "3400:\tlearn: 0.8669279\ttest: 0.7946842\tbest: 0.7957312 (2853)\ttotal: 14m 43s\tremaining: 6m 55s\n"
     ]
    },
    {
     "name": "stdout",
     "output_type": "stream",
     "text": [
      "3425:\tlearn: 0.8674881\ttest: 0.7945986\tbest: 0.7957312 (2853)\ttotal: 14m 50s\tremaining: 6m 48s\n"
     ]
    },
    {
     "name": "stdout",
     "output_type": "stream",
     "text": [
      "3450:\tlearn: 0.8679523\ttest: 0.7946278\tbest: 0.7957312 (2853)\ttotal: 14m 56s\tremaining: 6m 42s\n"
     ]
    },
    {
     "name": "stdout",
     "output_type": "stream",
     "text": [
      "3475:\tlearn: 0.8684571\ttest: 0.7946285\tbest: 0.7957312 (2853)\ttotal: 15m 3s\tremaining: 6m 35s\n"
     ]
    },
    {
     "name": "stdout",
     "output_type": "stream",
     "text": [
      "3500:\tlearn: 0.8690623\ttest: 0.7945024\tbest: 0.7957312 (2853)\ttotal: 15m 9s\tremaining: 6m 29s\n"
     ]
    },
    {
     "name": "stdout",
     "output_type": "stream",
     "text": [
      "3525:\tlearn: 0.8694726\ttest: 0.7948892\tbest: 0.7957312 (2853)\ttotal: 15m 16s\tremaining: 6m 22s\n"
     ]
    },
    {
     "name": "stdout",
     "output_type": "stream",
     "text": [
      "3550:\tlearn: 0.8698857\ttest: 0.7947631\tbest: 0.7957312 (2853)\ttotal: 15m 22s\tremaining: 6m 16s\n"
     ]
    },
    {
     "name": "stdout",
     "output_type": "stream",
     "text": [
      "3575:\tlearn: 0.8703587\ttest: 0.7946398\tbest: 0.7957312 (2853)\ttotal: 15m 29s\tremaining: 6m 9s\n"
     ]
    },
    {
     "name": "stdout",
     "output_type": "stream",
     "text": [
      "3600:\tlearn: 0.8708134\ttest: 0.7949110\tbest: 0.7957312 (2853)\ttotal: 15m 35s\tremaining: 6m 3s\n"
     ]
    },
    {
     "name": "stdout",
     "output_type": "stream",
     "text": [
      "3625:\tlearn: 0.8713447\ttest: 0.7948328\tbest: 0.7957312 (2853)\ttotal: 15m 42s\tremaining: 5m 57s\n"
     ]
    },
    {
     "name": "stdout",
     "output_type": "stream",
     "text": [
      "3650:\tlearn: 0.8717724\ttest: 0.7950627\tbest: 0.7957312 (2853)\ttotal: 15m 48s\tremaining: 5m 50s\n"
     ]
    },
    {
     "name": "stdout",
     "output_type": "stream",
     "text": [
      "3675:\tlearn: 0.8722740\ttest: 0.7949415\tbest: 0.7957312 (2853)\ttotal: 15m 55s\tremaining: 5m 44s\n"
     ]
    },
    {
     "name": "stdout",
     "output_type": "stream",
     "text": [
      "3700:\tlearn: 0.8725421\ttest: 0.7947724\tbest: 0.7957312 (2853)\ttotal: 16m 1s\tremaining: 5m 37s\n"
     ]
    },
    {
     "name": "stdout",
     "output_type": "stream",
     "text": [
      "3725:\tlearn: 0.8730324\ttest: 0.7948013\tbest: 0.7957312 (2853)\ttotal: 16m 8s\tremaining: 5m 31s\n"
     ]
    },
    {
     "name": "stdout",
     "output_type": "stream",
     "text": [
      "3750:\tlearn: 0.8734226\ttest: 0.7948280\tbest: 0.7957312 (2853)\ttotal: 16m 14s\tremaining: 5m 24s\n"
     ]
    },
    {
     "name": "stdout",
     "output_type": "stream",
     "text": [
      "3775:\tlearn: 0.8737580\ttest: 0.7947568\tbest: 0.7957312 (2853)\ttotal: 16m 21s\tremaining: 5m 18s\n"
     ]
    },
    {
     "name": "stdout",
     "output_type": "stream",
     "text": [
      "3800:\tlearn: 0.8744076\ttest: 0.7946910\tbest: 0.7957312 (2853)\ttotal: 16m 27s\tremaining: 5m 11s\n"
     ]
    },
    {
     "name": "stdout",
     "output_type": "stream",
     "text": [
      "3825:\tlearn: 0.8746506\ttest: 0.7945173\tbest: 0.7957312 (2853)\ttotal: 16m 34s\tremaining: 5m 5s\n"
     ]
    },
    {
     "name": "stdout",
     "output_type": "stream",
     "text": [
      "3850:\tlearn: 0.8751206\ttest: 0.7944291\tbest: 0.7957312 (2853)\ttotal: 16m 40s\tremaining: 4m 58s\n"
     ]
    },
    {
     "name": "stdout",
     "output_type": "stream",
     "text": [
      "3875:\tlearn: 0.8755871\ttest: 0.7940906\tbest: 0.7957312 (2853)\ttotal: 16m 47s\tremaining: 4m 52s\n"
     ]
    },
    {
     "name": "stdout",
     "output_type": "stream",
     "text": [
      "3900:\tlearn: 0.8760026\ttest: 0.7941545\tbest: 0.7957312 (2853)\ttotal: 16m 53s\tremaining: 4m 45s\n"
     ]
    },
    {
     "name": "stdout",
     "output_type": "stream",
     "text": [
      "3925:\tlearn: 0.8764237\ttest: 0.7942997\tbest: 0.7957312 (2853)\ttotal: 17m\tremaining: 4m 39s\n"
     ]
    },
    {
     "name": "stdout",
     "output_type": "stream",
     "text": [
      "3950:\tlearn: 0.8769014\ttest: 0.7943240\tbest: 0.7957312 (2853)\ttotal: 17m 6s\tremaining: 4m 32s\n"
     ]
    },
    {
     "name": "stdout",
     "output_type": "stream",
     "text": [
      "3975:\tlearn: 0.8773409\ttest: 0.7944747\tbest: 0.7957312 (2853)\ttotal: 17m 13s\tremaining: 4m 26s\n"
     ]
    },
    {
     "name": "stdout",
     "output_type": "stream",
     "text": [
      "4000:\tlearn: 0.8778765\ttest: 0.7944286\tbest: 0.7957312 (2853)\ttotal: 17m 19s\tremaining: 4m 19s\n"
     ]
    },
    {
     "name": "stdout",
     "output_type": "stream",
     "text": [
      "4025:\tlearn: 0.8781682\ttest: 0.7945099\tbest: 0.7957312 (2853)\ttotal: 17m 25s\tremaining: 4m 13s\n"
     ]
    },
    {
     "name": "stdout",
     "output_type": "stream",
     "text": [
      "4050:\tlearn: 0.8786284\ttest: 0.7945517\tbest: 0.7957312 (2853)\ttotal: 17m 32s\tremaining: 4m 6s\n"
     ]
    },
    {
     "name": "stdout",
     "output_type": "stream",
     "text": [
      "4075:\tlearn: 0.8791708\ttest: 0.7945370\tbest: 0.7957312 (2853)\ttotal: 17m 39s\tremaining: 4m\n"
     ]
    },
    {
     "name": "stdout",
     "output_type": "stream",
     "text": [
      "4100:\tlearn: 0.8798019\ttest: 0.7947488\tbest: 0.7957312 (2853)\ttotal: 17m 45s\tremaining: 3m 53s\n"
     ]
    },
    {
     "name": "stdout",
     "output_type": "stream",
     "text": [
      "4125:\tlearn: 0.8800785\ttest: 0.7947957\tbest: 0.7957312 (2853)\ttotal: 17m 51s\tremaining: 3m 47s\n"
     ]
    },
    {
     "name": "stdout",
     "output_type": "stream",
     "text": [
      "4150:\tlearn: 0.8803738\ttest: 0.7948553\tbest: 0.7957312 (2853)\ttotal: 17m 58s\tremaining: 3m 40s\n"
     ]
    },
    {
     "name": "stdout",
     "output_type": "stream",
     "text": [
      "4175:\tlearn: 0.8809297\ttest: 0.7945845\tbest: 0.7957312 (2853)\ttotal: 18m 4s\tremaining: 3m 34s\n"
     ]
    },
    {
     "name": "stdout",
     "output_type": "stream",
     "text": [
      "4200:\tlearn: 0.8813521\ttest: 0.7946495\tbest: 0.7957312 (2853)\ttotal: 18m 11s\tremaining: 3m 27s\n"
     ]
    },
    {
     "name": "stdout",
     "output_type": "stream",
     "text": [
      "4225:\tlearn: 0.8817659\ttest: 0.7942662\tbest: 0.7957312 (2853)\ttotal: 18m 17s\tremaining: 3m 21s\n"
     ]
    },
    {
     "name": "stdout",
     "output_type": "stream",
     "text": [
      "4250:\tlearn: 0.8821419\ttest: 0.7946263\tbest: 0.7957312 (2853)\ttotal: 18m 24s\tremaining: 3m 14s\n"
     ]
    },
    {
     "name": "stdout",
     "output_type": "stream",
     "text": [
      "4275:\tlearn: 0.8825454\ttest: 0.7942987\tbest: 0.7957312 (2853)\ttotal: 18m 30s\tremaining: 3m 8s\n"
     ]
    },
    {
     "name": "stdout",
     "output_type": "stream",
     "text": [
      "4300:\tlearn: 0.8830449\ttest: 0.7947985\tbest: 0.7957312 (2853)\ttotal: 18m 37s\tremaining: 3m 1s\n"
     ]
    },
    {
     "name": "stdout",
     "output_type": "stream",
     "text": [
      "4325:\tlearn: 0.8834362\ttest: 0.7946507\tbest: 0.7957312 (2853)\ttotal: 18m 43s\tremaining: 2m 55s\n"
     ]
    },
    {
     "name": "stdout",
     "output_type": "stream",
     "text": [
      "4350:\tlearn: 0.8838005\ttest: 0.7948034\tbest: 0.7957312 (2853)\ttotal: 18m 50s\tremaining: 2m 48s\n"
     ]
    },
    {
     "name": "stdout",
     "output_type": "stream",
     "text": [
      "4375:\tlearn: 0.8840151\ttest: 0.7944494\tbest: 0.7957312 (2853)\ttotal: 18m 56s\tremaining: 2m 42s\n"
     ]
    },
    {
     "name": "stdout",
     "output_type": "stream",
     "text": [
      "4400:\tlearn: 0.8844335\ttest: 0.7943664\tbest: 0.7957312 (2853)\ttotal: 19m 3s\tremaining: 2m 35s\n"
     ]
    },
    {
     "name": "stdout",
     "output_type": "stream",
     "text": [
      "4425:\tlearn: 0.8848927\ttest: 0.7938594\tbest: 0.7957312 (2853)\ttotal: 19m 9s\tremaining: 2m 29s\n"
     ]
    },
    {
     "name": "stdout",
     "output_type": "stream",
     "text": [
      "4450:\tlearn: 0.8853576\ttest: 0.7940549\tbest: 0.7957312 (2853)\ttotal: 19m 16s\tremaining: 2m 22s\n"
     ]
    },
    {
     "name": "stdout",
     "output_type": "stream",
     "text": [
      "4475:\tlearn: 0.8857295\ttest: 0.7938413\tbest: 0.7957312 (2853)\ttotal: 19m 22s\tremaining: 2m 16s\n"
     ]
    },
    {
     "name": "stdout",
     "output_type": "stream",
     "text": [
      "4500:\tlearn: 0.8860093\ttest: 0.7936955\tbest: 0.7957312 (2853)\ttotal: 19m 29s\tremaining: 2m 9s\n"
     ]
    },
    {
     "name": "stdout",
     "output_type": "stream",
     "text": [
      "4525:\tlearn: 0.8865692\ttest: 0.7940132\tbest: 0.7957312 (2853)\ttotal: 19m 35s\tremaining: 2m 3s\n"
     ]
    },
    {
     "name": "stdout",
     "output_type": "stream",
     "text": [
      "4550:\tlearn: 0.8870590\ttest: 0.7940572\tbest: 0.7957312 (2853)\ttotal: 19m 42s\tremaining: 1m 56s\n"
     ]
    },
    {
     "name": "stdout",
     "output_type": "stream",
     "text": [
      "4575:\tlearn: 0.8873653\ttest: 0.7944297\tbest: 0.7957312 (2853)\ttotal: 19m 48s\tremaining: 1m 50s\n"
     ]
    },
    {
     "name": "stdout",
     "output_type": "stream",
     "text": [
      "4600:\tlearn: 0.8876571\ttest: 0.7937541\tbest: 0.7957312 (2853)\ttotal: 19m 55s\tremaining: 1m 43s\n"
     ]
    },
    {
     "name": "stdout",
     "output_type": "stream",
     "text": [
      "4625:\tlearn: 0.8883288\ttest: 0.7937346\tbest: 0.7957312 (2853)\ttotal: 20m 1s\tremaining: 1m 37s\n"
     ]
    },
    {
     "name": "stdout",
     "output_type": "stream",
     "text": [
      "4650:\tlearn: 0.8888509\ttest: 0.7941936\tbest: 0.7957312 (2853)\ttotal: 20m 8s\tremaining: 1m 30s\n"
     ]
    },
    {
     "name": "stdout",
     "output_type": "stream",
     "text": [
      "4675:\tlearn: 0.8890810\ttest: 0.7941076\tbest: 0.7957312 (2853)\ttotal: 20m 14s\tremaining: 1m 24s\n"
     ]
    },
    {
     "name": "stdout",
     "output_type": "stream",
     "text": [
      "4700:\tlearn: 0.8895411\ttest: 0.7943176\tbest: 0.7957312 (2853)\ttotal: 20m 21s\tremaining: 1m 17s\n"
     ]
    },
    {
     "name": "stdout",
     "output_type": "stream",
     "text": [
      "4725:\tlearn: 0.8898271\ttest: 0.7941226\tbest: 0.7957312 (2853)\ttotal: 20m 27s\tremaining: 1m 11s\n"
     ]
    },
    {
     "name": "stdout",
     "output_type": "stream",
     "text": [
      "4750:\tlearn: 0.8902351\ttest: 0.7939799\tbest: 0.7957312 (2853)\ttotal: 20m 33s\tremaining: 1m 4s\n"
     ]
    },
    {
     "name": "stdout",
     "output_type": "stream",
     "text": [
      "4775:\tlearn: 0.8908271\ttest: 0.7942298\tbest: 0.7957312 (2853)\ttotal: 20m 40s\tremaining: 58.2s\n"
     ]
    },
    {
     "name": "stdout",
     "output_type": "stream",
     "text": [
      "4800:\tlearn: 0.8912764\ttest: 0.7940229\tbest: 0.7957312 (2853)\ttotal: 20m 46s\tremaining: 51.7s\n"
     ]
    },
    {
     "name": "stdout",
     "output_type": "stream",
     "text": [
      "4825:\tlearn: 0.8915747\ttest: 0.7942740\tbest: 0.7957312 (2853)\ttotal: 20m 53s\tremaining: 45.2s\n"
     ]
    },
    {
     "name": "stdout",
     "output_type": "stream",
     "text": [
      "4850:\tlearn: 0.8920213\ttest: 0.7941045\tbest: 0.7957312 (2853)\ttotal: 20m 59s\tremaining: 38.7s\n"
     ]
    },
    {
     "name": "stdout",
     "output_type": "stream",
     "text": [
      "4875:\tlearn: 0.8923730\ttest: 0.7937898\tbest: 0.7957312 (2853)\ttotal: 21m 6s\tremaining: 32.2s\n"
     ]
    },
    {
     "name": "stdout",
     "output_type": "stream",
     "text": [
      "4900:\tlearn: 0.8926926\ttest: 0.7941087\tbest: 0.7957312 (2853)\ttotal: 21m 12s\tremaining: 25.7s\n"
     ]
    },
    {
     "name": "stdout",
     "output_type": "stream",
     "text": [
      "4925:\tlearn: 0.8931492\ttest: 0.7939567\tbest: 0.7957312 (2853)\ttotal: 21m 19s\tremaining: 19.2s\n"
     ]
    },
    {
     "name": "stdout",
     "output_type": "stream",
     "text": [
      "4950:\tlearn: 0.8934727\ttest: 0.7939410\tbest: 0.7957312 (2853)\ttotal: 21m 25s\tremaining: 12.7s\n"
     ]
    },
    {
     "name": "stdout",
     "output_type": "stream",
     "text": [
      "4975:\tlearn: 0.8939245\ttest: 0.7938361\tbest: 0.7957312 (2853)\ttotal: 21m 32s\tremaining: 6.23s\n"
     ]
    },
    {
     "name": "stdout",
     "output_type": "stream",
     "text": [
      "4999:\tlearn: 0.8942421\ttest: 0.7937926\tbest: 0.7957312 (2853)\ttotal: 21m 38s\tremaining: 0us\n",
      "\n",
      "bestTest = 0.7957311684\n",
      "bestIteration = 2853\n",
      "\n"
     ]
    },
    {
     "name": "stdout",
     "output_type": "stream",
     "text": [
      "######################################## training model 2/5 ########################################\n"
     ]
    },
    {
     "name": "stdout",
     "output_type": "stream",
     "text": [
      "0:\tlearn: 0.5985391\ttest: 0.6001926\tbest: 0.6001926 (0)\ttotal: 577ms\tremaining: 48m 4s\n"
     ]
    },
    {
     "name": "stdout",
     "output_type": "stream",
     "text": [
      "25:\tlearn: 0.7236420\ttest: 0.7213110\tbest: 0.7213110 (25)\ttotal: 7.05s\tremaining: 22m 29s\n"
     ]
    },
    {
     "name": "stdout",
     "output_type": "stream",
     "text": [
      "50:\tlearn: 0.7419681\ttest: 0.7395849\tbest: 0.7395849 (50)\ttotal: 13.5s\tremaining: 21m 48s\n"
     ]
    },
    {
     "name": "stdout",
     "output_type": "stream",
     "text": [
      "75:\tlearn: 0.7512062\ttest: 0.7468788\tbest: 0.7468788 (75)\ttotal: 20s\tremaining: 21m 33s\n"
     ]
    },
    {
     "name": "stdout",
     "output_type": "stream",
     "text": [
      "100:\tlearn: 0.7571740\ttest: 0.7528926\tbest: 0.7532801 (99)\ttotal: 26.5s\tremaining: 21m 23s\n"
     ]
    },
    {
     "name": "stdout",
     "output_type": "stream",
     "text": [
      "125:\tlearn: 0.7604067\ttest: 0.7560709\tbest: 0.7562901 (124)\ttotal: 32.9s\tremaining: 21m 12s\n"
     ]
    },
    {
     "name": "stdout",
     "output_type": "stream",
     "text": [
      "150:\tlearn: 0.7632246\ttest: 0.7588810\tbest: 0.7588810 (150)\ttotal: 39.4s\tremaining: 21m 5s\n"
     ]
    },
    {
     "name": "stdout",
     "output_type": "stream",
     "text": [
      "175:\tlearn: 0.7663038\ttest: 0.7616797\tbest: 0.7617880 (174)\ttotal: 45.8s\tremaining: 20m 56s\n"
     ]
    },
    {
     "name": "stdout",
     "output_type": "stream",
     "text": [
      "200:\tlearn: 0.7683245\ttest: 0.7630561\tbest: 0.7630561 (200)\ttotal: 52.3s\tremaining: 20m 48s\n"
     ]
    },
    {
     "name": "stdout",
     "output_type": "stream",
     "text": [
      "225:\tlearn: 0.7705568\ttest: 0.7641145\tbest: 0.7642169 (222)\ttotal: 58.8s\tremaining: 20m 41s\n"
     ]
    },
    {
     "name": "stdout",
     "output_type": "stream",
     "text": [
      "250:\tlearn: 0.7727231\ttest: 0.7672405\tbest: 0.7672405 (250)\ttotal: 1m 5s\tremaining: 20m 35s\n"
     ]
    },
    {
     "name": "stdout",
     "output_type": "stream",
     "text": [
      "275:\tlearn: 0.7753261\ttest: 0.7689293\tbest: 0.7690960 (273)\ttotal: 1m 11s\tremaining: 20m 29s\n"
     ]
    },
    {
     "name": "stdout",
     "output_type": "stream",
     "text": [
      "300:\tlearn: 0.7786452\ttest: 0.7722978\tbest: 0.7722978 (300)\ttotal: 1m 18s\tremaining: 20m 21s\n"
     ]
    },
    {
     "name": "stdout",
     "output_type": "stream",
     "text": [
      "325:\tlearn: 0.7819425\ttest: 0.7744510\tbest: 0.7746940 (324)\ttotal: 1m 24s\tremaining: 20m 14s\n"
     ]
    },
    {
     "name": "stdout",
     "output_type": "stream",
     "text": [
      "350:\tlearn: 0.7843544\ttest: 0.7771913\tbest: 0.7771913 (350)\ttotal: 1m 31s\tremaining: 20m 8s\n"
     ]
    },
    {
     "name": "stdout",
     "output_type": "stream",
     "text": [
      "375:\tlearn: 0.7870260\ttest: 0.7784413\tbest: 0.7785462 (373)\ttotal: 1m 37s\tremaining: 20m 1s\n"
     ]
    },
    {
     "name": "stdout",
     "output_type": "stream",
     "text": [
      "400:\tlearn: 0.7888661\ttest: 0.7800936\tbest: 0.7801425 (399)\ttotal: 1m 44s\tremaining: 19m 56s\n"
     ]
    },
    {
     "name": "stdout",
     "output_type": "stream",
     "text": [
      "425:\tlearn: 0.7904149\ttest: 0.7812937\tbest: 0.7813932 (422)\ttotal: 1m 50s\tremaining: 19m 49s\n"
     ]
    },
    {
     "name": "stdout",
     "output_type": "stream",
     "text": [
      "450:\tlearn: 0.7921062\ttest: 0.7823785\tbest: 0.7824437 (448)\ttotal: 1m 57s\tremaining: 19m 42s\n"
     ]
    },
    {
     "name": "stdout",
     "output_type": "stream",
     "text": [
      "475:\tlearn: 0.7933470\ttest: 0.7824254\tbest: 0.7828240 (469)\ttotal: 2m 3s\tremaining: 19m 35s\n"
     ]
    },
    {
     "name": "stdout",
     "output_type": "stream",
     "text": [
      "500:\tlearn: 0.7945173\ttest: 0.7829373\tbest: 0.7829938 (479)\ttotal: 2m 10s\tremaining: 19m 28s\n"
     ]
    },
    {
     "name": "stdout",
     "output_type": "stream",
     "text": [
      "525:\tlearn: 0.7957507\ttest: 0.7831162\tbest: 0.7835176 (522)\ttotal: 2m 16s\tremaining: 19m 23s\n"
     ]
    },
    {
     "name": "stdout",
     "output_type": "stream",
     "text": [
      "550:\tlearn: 0.7971607\ttest: 0.7838618\tbest: 0.7840802 (547)\ttotal: 2m 23s\tremaining: 19m 16s\n"
     ]
    },
    {
     "name": "stdout",
     "output_type": "stream",
     "text": [
      "575:\tlearn: 0.7983226\ttest: 0.7849759\tbest: 0.7849759 (575)\ttotal: 2m 29s\tremaining: 19m 9s\n"
     ]
    },
    {
     "name": "stdout",
     "output_type": "stream",
     "text": [
      "600:\tlearn: 0.7992056\ttest: 0.7847593\tbest: 0.7849759 (575)\ttotal: 2m 36s\tremaining: 19m 3s\n"
     ]
    },
    {
     "name": "stdout",
     "output_type": "stream",
     "text": [
      "625:\tlearn: 0.8003190\ttest: 0.7851914\tbest: 0.7854841 (620)\ttotal: 2m 42s\tremaining: 18m 56s\n"
     ]
    },
    {
     "name": "stdout",
     "output_type": "stream",
     "text": [
      "650:\tlearn: 0.8013376\ttest: 0.7855742\tbest: 0.7857522 (647)\ttotal: 2m 49s\tremaining: 18m 50s\n"
     ]
    },
    {
     "name": "stdout",
     "output_type": "stream",
     "text": [
      "675:\tlearn: 0.8023731\ttest: 0.7861698\tbest: 0.7864740 (668)\ttotal: 2m 55s\tremaining: 18m 43s\n"
     ]
    },
    {
     "name": "stdout",
     "output_type": "stream",
     "text": [
      "700:\tlearn: 0.8033206\ttest: 0.7869814\tbest: 0.7869814 (700)\ttotal: 3m 2s\tremaining: 18m 36s\n"
     ]
    },
    {
     "name": "stdout",
     "output_type": "stream",
     "text": [
      "725:\tlearn: 0.8042721\ttest: 0.7869051\tbest: 0.7869814 (700)\ttotal: 3m 8s\tremaining: 18m 29s\n"
     ]
    },
    {
     "name": "stdout",
     "output_type": "stream",
     "text": [
      "750:\tlearn: 0.8049876\ttest: 0.7878052\tbest: 0.7878872 (749)\ttotal: 3m 14s\tremaining: 18m 23s\n"
     ]
    },
    {
     "name": "stdout",
     "output_type": "stream",
     "text": [
      "775:\tlearn: 0.8058345\ttest: 0.7870297\tbest: 0.7878992 (754)\ttotal: 3m 21s\tremaining: 18m 16s\n"
     ]
    },
    {
     "name": "stdout",
     "output_type": "stream",
     "text": [
      "800:\tlearn: 0.8067062\ttest: 0.7878431\tbest: 0.7878992 (754)\ttotal: 3m 27s\tremaining: 18m 9s\n"
     ]
    },
    {
     "name": "stdout",
     "output_type": "stream",
     "text": [
      "825:\tlearn: 0.8076704\ttest: 0.7877267\tbest: 0.7878992 (754)\ttotal: 3m 34s\tremaining: 18m 3s\n"
     ]
    },
    {
     "name": "stdout",
     "output_type": "stream",
     "text": [
      "850:\tlearn: 0.8085457\ttest: 0.7875268\tbest: 0.7881639 (844)\ttotal: 3m 40s\tremaining: 17m 56s\n"
     ]
    },
    {
     "name": "stdout",
     "output_type": "stream",
     "text": [
      "875:\tlearn: 0.8094306\ttest: 0.7875208\tbest: 0.7881639 (844)\ttotal: 3m 47s\tremaining: 17m 49s\n"
     ]
    },
    {
     "name": "stdout",
     "output_type": "stream",
     "text": [
      "900:\tlearn: 0.8104373\ttest: 0.7879220\tbest: 0.7881639 (844)\ttotal: 3m 53s\tremaining: 17m 43s\n"
     ]
    },
    {
     "name": "stdout",
     "output_type": "stream",
     "text": [
      "925:\tlearn: 0.8110005\ttest: 0.7875352\tbest: 0.7881639 (844)\ttotal: 4m\tremaining: 17m 36s\n"
     ]
    },
    {
     "name": "stdout",
     "output_type": "stream",
     "text": [
      "950:\tlearn: 0.8116323\ttest: 0.7884370\tbest: 0.7884370 (950)\ttotal: 4m 6s\tremaining: 17m 29s\n"
     ]
    },
    {
     "name": "stdout",
     "output_type": "stream",
     "text": [
      "975:\tlearn: 0.8124597\ttest: 0.7881294\tbest: 0.7884806 (951)\ttotal: 4m 13s\tremaining: 17m 23s\n"
     ]
    },
    {
     "name": "stdout",
     "output_type": "stream",
     "text": [
      "1000:\tlearn: 0.8133785\ttest: 0.7888174\tbest: 0.7890011 (996)\ttotal: 4m 19s\tremaining: 17m 16s\n"
     ]
    },
    {
     "name": "stdout",
     "output_type": "stream",
     "text": [
      "1025:\tlearn: 0.8141132\ttest: 0.7891110\tbest: 0.7891110 (1025)\ttotal: 4m 25s\tremaining: 17m 10s\n"
     ]
    },
    {
     "name": "stdout",
     "output_type": "stream",
     "text": [
      "1050:\tlearn: 0.8148258\ttest: 0.7893634\tbest: 0.7894886 (1048)\ttotal: 4m 32s\tremaining: 17m 3s\n"
     ]
    },
    {
     "name": "stdout",
     "output_type": "stream",
     "text": [
      "1075:\tlearn: 0.8154208\ttest: 0.7894879\tbest: 0.7898075 (1056)\ttotal: 4m 38s\tremaining: 16m 56s\n"
     ]
    },
    {
     "name": "stdout",
     "output_type": "stream",
     "text": [
      "1100:\tlearn: 0.8161200\ttest: 0.7896642\tbest: 0.7898075 (1056)\ttotal: 4m 45s\tremaining: 16m 50s\n"
     ]
    },
    {
     "name": "stdout",
     "output_type": "stream",
     "text": [
      "1125:\tlearn: 0.8171629\ttest: 0.7894830\tbest: 0.7898075 (1056)\ttotal: 4m 51s\tremaining: 16m 43s\n"
     ]
    },
    {
     "name": "stdout",
     "output_type": "stream",
     "text": [
      "1150:\tlearn: 0.8179317\ttest: 0.7895776\tbest: 0.7898075 (1056)\ttotal: 4m 58s\tremaining: 16m 37s\n"
     ]
    },
    {
     "name": "stdout",
     "output_type": "stream",
     "text": [
      "1175:\tlearn: 0.8186258\ttest: 0.7894376\tbest: 0.7898700 (1170)\ttotal: 5m 4s\tremaining: 16m 30s\n"
     ]
    },
    {
     "name": "stdout",
     "output_type": "stream",
     "text": [
      "1200:\tlearn: 0.8192614\ttest: 0.7896225\tbest: 0.7900143 (1197)\ttotal: 5m 11s\tremaining: 16m 24s\n"
     ]
    },
    {
     "name": "stdout",
     "output_type": "stream",
     "text": [
      "1225:\tlearn: 0.8199179\ttest: 0.7903186\tbest: 0.7904238 (1220)\ttotal: 5m 17s\tremaining: 16m 17s\n"
     ]
    },
    {
     "name": "stdout",
     "output_type": "stream",
     "text": [
      "1250:\tlearn: 0.8205746\ttest: 0.7901312\tbest: 0.7904238 (1220)\ttotal: 5m 24s\tremaining: 16m 11s\n"
     ]
    },
    {
     "name": "stdout",
     "output_type": "stream",
     "text": [
      "1275:\tlearn: 0.8211390\ttest: 0.7901111\tbest: 0.7904238 (1220)\ttotal: 5m 30s\tremaining: 16m 4s\n"
     ]
    },
    {
     "name": "stdout",
     "output_type": "stream",
     "text": [
      "1300:\tlearn: 0.8216710\ttest: 0.7902962\tbest: 0.7904238 (1220)\ttotal: 5m 36s\tremaining: 15m 58s\n"
     ]
    },
    {
     "name": "stdout",
     "output_type": "stream",
     "text": [
      "1325:\tlearn: 0.8223037\ttest: 0.7904329\tbest: 0.7906986 (1310)\ttotal: 5m 43s\tremaining: 15m 51s\n"
     ]
    },
    {
     "name": "stdout",
     "output_type": "stream",
     "text": [
      "1350:\tlearn: 0.8229509\ttest: 0.7908265\tbest: 0.7910335 (1342)\ttotal: 5m 49s\tremaining: 15m 45s\n"
     ]
    },
    {
     "name": "stdout",
     "output_type": "stream",
     "text": [
      "1375:\tlearn: 0.8237225\ttest: 0.7909299\tbest: 0.7912220 (1370)\ttotal: 5m 56s\tremaining: 15m 38s\n"
     ]
    },
    {
     "name": "stdout",
     "output_type": "stream",
     "text": [
      "1400:\tlearn: 0.8240942\ttest: 0.7906514\tbest: 0.7912220 (1370)\ttotal: 6m 2s\tremaining: 15m 32s\n"
     ]
    },
    {
     "name": "stdout",
     "output_type": "stream",
     "text": [
      "1425:\tlearn: 0.8247909\ttest: 0.7906575\tbest: 0.7912220 (1370)\ttotal: 6m 9s\tremaining: 15m 25s\n"
     ]
    },
    {
     "name": "stdout",
     "output_type": "stream",
     "text": [
      "1450:\tlearn: 0.8254692\ttest: 0.7910986\tbest: 0.7912250 (1448)\ttotal: 6m 15s\tremaining: 15m 19s\n"
     ]
    },
    {
     "name": "stdout",
     "output_type": "stream",
     "text": [
      "1475:\tlearn: 0.8260605\ttest: 0.7911791\tbest: 0.7913417 (1466)\ttotal: 6m 22s\tremaining: 15m 12s\n"
     ]
    },
    {
     "name": "stdout",
     "output_type": "stream",
     "text": [
      "1500:\tlearn: 0.8267543\ttest: 0.7909475\tbest: 0.7913417 (1466)\ttotal: 6m 28s\tremaining: 15m 6s\n"
     ]
    },
    {
     "name": "stdout",
     "output_type": "stream",
     "text": [
      "1525:\tlearn: 0.8273978\ttest: 0.7907292\tbest: 0.7913417 (1466)\ttotal: 6m 35s\tremaining: 15m\n"
     ]
    },
    {
     "name": "stdout",
     "output_type": "stream",
     "text": [
      "1550:\tlearn: 0.8279389\ttest: 0.7907009\tbest: 0.7913417 (1466)\ttotal: 6m 41s\tremaining: 14m 53s\n"
     ]
    },
    {
     "name": "stdout",
     "output_type": "stream",
     "text": [
      "1575:\tlearn: 0.8285928\ttest: 0.7910216\tbest: 0.7913417 (1466)\ttotal: 6m 48s\tremaining: 14m 46s\n"
     ]
    },
    {
     "name": "stdout",
     "output_type": "stream",
     "text": [
      "1600:\tlearn: 0.8291676\ttest: 0.7911817\tbest: 0.7913417 (1466)\ttotal: 6m 54s\tremaining: 14m 40s\n"
     ]
    },
    {
     "name": "stdout",
     "output_type": "stream",
     "text": [
      "1625:\tlearn: 0.8297932\ttest: 0.7913804\tbest: 0.7915067 (1619)\ttotal: 7m 1s\tremaining: 14m 33s\n"
     ]
    },
    {
     "name": "stdout",
     "output_type": "stream",
     "text": [
      "1650:\tlearn: 0.8304516\ttest: 0.7913353\tbest: 0.7915067 (1619)\ttotal: 7m 7s\tremaining: 14m 27s\n"
     ]
    },
    {
     "name": "stdout",
     "output_type": "stream",
     "text": [
      "1675:\tlearn: 0.8311900\ttest: 0.7914560\tbest: 0.7916344 (1662)\ttotal: 7m 14s\tremaining: 14m 21s\n"
     ]
    },
    {
     "name": "stdout",
     "output_type": "stream",
     "text": [
      "1700:\tlearn: 0.8318714\ttest: 0.7915101\tbest: 0.7916542 (1698)\ttotal: 7m 20s\tremaining: 14m 14s\n"
     ]
    },
    {
     "name": "stdout",
     "output_type": "stream",
     "text": [
      "1725:\tlearn: 0.8325065\ttest: 0.7913974\tbest: 0.7916542 (1698)\ttotal: 7m 26s\tremaining: 14m 7s\n"
     ]
    },
    {
     "name": "stdout",
     "output_type": "stream",
     "text": [
      "1750:\tlearn: 0.8330581\ttest: 0.7913016\tbest: 0.7916542 (1698)\ttotal: 7m 33s\tremaining: 14m 1s\n"
     ]
    },
    {
     "name": "stdout",
     "output_type": "stream",
     "text": [
      "1775:\tlearn: 0.8337455\ttest: 0.7914138\tbest: 0.7916542 (1698)\ttotal: 7m 39s\tremaining: 13m 54s\n"
     ]
    },
    {
     "name": "stdout",
     "output_type": "stream",
     "text": [
      "1800:\tlearn: 0.8343824\ttest: 0.7915789\tbest: 0.7918035 (1792)\ttotal: 7m 46s\tremaining: 13m 48s\n"
     ]
    },
    {
     "name": "stdout",
     "output_type": "stream",
     "text": [
      "1825:\tlearn: 0.8347713\ttest: 0.7915366\tbest: 0.7918035 (1792)\ttotal: 7m 52s\tremaining: 13m 41s\n"
     ]
    },
    {
     "name": "stdout",
     "output_type": "stream",
     "text": [
      "1850:\tlearn: 0.8353165\ttest: 0.7913118\tbest: 0.7918035 (1792)\ttotal: 7m 59s\tremaining: 13m 35s\n"
     ]
    },
    {
     "name": "stdout",
     "output_type": "stream",
     "text": [
      "1875:\tlearn: 0.8359106\ttest: 0.7916897\tbest: 0.7918035 (1792)\ttotal: 8m 5s\tremaining: 13m 28s\n"
     ]
    },
    {
     "name": "stdout",
     "output_type": "stream",
     "text": [
      "1900:\tlearn: 0.8364531\ttest: 0.7916592\tbest: 0.7918035 (1792)\ttotal: 8m 12s\tremaining: 13m 22s\n"
     ]
    },
    {
     "name": "stdout",
     "output_type": "stream",
     "text": [
      "1925:\tlearn: 0.8368891\ttest: 0.7914575\tbest: 0.7918127 (1910)\ttotal: 8m 18s\tremaining: 13m 15s\n"
     ]
    },
    {
     "name": "stdout",
     "output_type": "stream",
     "text": [
      "1950:\tlearn: 0.8375802\ttest: 0.7916127\tbest: 0.7918127 (1910)\ttotal: 8m 24s\tremaining: 13m 9s\n"
     ]
    },
    {
     "name": "stdout",
     "output_type": "stream",
     "text": [
      "1975:\tlearn: 0.8382339\ttest: 0.7918311\tbest: 0.7921675 (1970)\ttotal: 8m 31s\tremaining: 13m 2s\n"
     ]
    },
    {
     "name": "stdout",
     "output_type": "stream",
     "text": [
      "2000:\tlearn: 0.8388611\ttest: 0.7922191\tbest: 0.7924195 (1987)\ttotal: 8m 37s\tremaining: 12m 56s\n"
     ]
    },
    {
     "name": "stdout",
     "output_type": "stream",
     "text": [
      "2025:\tlearn: 0.8392867\ttest: 0.7919167\tbest: 0.7924195 (1987)\ttotal: 8m 44s\tremaining: 12m 49s\n"
     ]
    },
    {
     "name": "stdout",
     "output_type": "stream",
     "text": [
      "2050:\tlearn: 0.8398474\ttest: 0.7919177\tbest: 0.7924195 (1987)\ttotal: 8m 50s\tremaining: 12m 43s\n"
     ]
    },
    {
     "name": "stdout",
     "output_type": "stream",
     "text": [
      "2075:\tlearn: 0.8406532\ttest: 0.7913114\tbest: 0.7924195 (1987)\ttotal: 8m 57s\tremaining: 12m 36s\n"
     ]
    },
    {
     "name": "stdout",
     "output_type": "stream",
     "text": [
      "2100:\tlearn: 0.8411686\ttest: 0.7913555\tbest: 0.7924195 (1987)\ttotal: 9m 3s\tremaining: 12m 30s\n"
     ]
    },
    {
     "name": "stdout",
     "output_type": "stream",
     "text": [
      "2125:\tlearn: 0.8415815\ttest: 0.7916784\tbest: 0.7924195 (1987)\ttotal: 9m 10s\tremaining: 12m 23s\n"
     ]
    },
    {
     "name": "stdout",
     "output_type": "stream",
     "text": [
      "2150:\tlearn: 0.8420690\ttest: 0.7917690\tbest: 0.7924195 (1987)\ttotal: 9m 16s\tremaining: 12m 17s\n"
     ]
    },
    {
     "name": "stdout",
     "output_type": "stream",
     "text": [
      "2175:\tlearn: 0.8427512\ttest: 0.7917986\tbest: 0.7924195 (1987)\ttotal: 9m 23s\tremaining: 12m 10s\n"
     ]
    },
    {
     "name": "stdout",
     "output_type": "stream",
     "text": [
      "2200:\tlearn: 0.8433639\ttest: 0.7915822\tbest: 0.7924195 (1987)\ttotal: 9m 29s\tremaining: 12m 4s\n"
     ]
    },
    {
     "name": "stdout",
     "output_type": "stream",
     "text": [
      "2225:\tlearn: 0.8440427\ttest: 0.7913337\tbest: 0.7924195 (1987)\ttotal: 9m 36s\tremaining: 11m 57s\n"
     ]
    },
    {
     "name": "stdout",
     "output_type": "stream",
     "text": [
      "2250:\tlearn: 0.8447131\ttest: 0.7913651\tbest: 0.7924195 (1987)\ttotal: 9m 42s\tremaining: 11m 51s\n"
     ]
    },
    {
     "name": "stdout",
     "output_type": "stream",
     "text": [
      "2275:\tlearn: 0.8451012\ttest: 0.7911667\tbest: 0.7924195 (1987)\ttotal: 9m 49s\tremaining: 11m 45s\n"
     ]
    },
    {
     "name": "stdout",
     "output_type": "stream",
     "text": [
      "2300:\tlearn: 0.8456019\ttest: 0.7915326\tbest: 0.7924195 (1987)\ttotal: 9m 55s\tremaining: 11m 38s\n"
     ]
    },
    {
     "name": "stdout",
     "output_type": "stream",
     "text": [
      "2325:\tlearn: 0.8461624\ttest: 0.7912683\tbest: 0.7924195 (1987)\ttotal: 10m 1s\tremaining: 11m 32s\n"
     ]
    },
    {
     "name": "stdout",
     "output_type": "stream",
     "text": [
      "2350:\tlearn: 0.8466951\ttest: 0.7915908\tbest: 0.7924195 (1987)\ttotal: 10m 8s\tremaining: 11m 25s\n"
     ]
    },
    {
     "name": "stdout",
     "output_type": "stream",
     "text": [
      "2375:\tlearn: 0.8471721\ttest: 0.7910067\tbest: 0.7924195 (1987)\ttotal: 10m 14s\tremaining: 11m 18s\n"
     ]
    },
    {
     "name": "stdout",
     "output_type": "stream",
     "text": [
      "2400:\tlearn: 0.8475872\ttest: 0.7914093\tbest: 0.7924195 (1987)\ttotal: 10m 21s\tremaining: 11m 12s\n"
     ]
    },
    {
     "name": "stdout",
     "output_type": "stream",
     "text": [
      "2425:\tlearn: 0.8480798\ttest: 0.7912493\tbest: 0.7924195 (1987)\ttotal: 10m 27s\tremaining: 11m 6s\n"
     ]
    },
    {
     "name": "stdout",
     "output_type": "stream",
     "text": [
      "2450:\tlearn: 0.8487349\ttest: 0.7914929\tbest: 0.7924195 (1987)\ttotal: 10m 34s\tremaining: 10m 59s\n"
     ]
    },
    {
     "name": "stdout",
     "output_type": "stream",
     "text": [
      "2475:\tlearn: 0.8493324\ttest: 0.7914799\tbest: 0.7924195 (1987)\ttotal: 10m 40s\tremaining: 10m 53s\n"
     ]
    },
    {
     "name": "stdout",
     "output_type": "stream",
     "text": [
      "2500:\tlearn: 0.8499555\ttest: 0.7913439\tbest: 0.7924195 (1987)\ttotal: 10m 47s\tremaining: 10m 46s\n"
     ]
    },
    {
     "name": "stdout",
     "output_type": "stream",
     "text": [
      "2525:\tlearn: 0.8504654\ttest: 0.7917081\tbest: 0.7924195 (1987)\ttotal: 10m 53s\tremaining: 10m 40s\n"
     ]
    },
    {
     "name": "stdout",
     "output_type": "stream",
     "text": [
      "2550:\tlearn: 0.8510872\ttest: 0.7915261\tbest: 0.7924195 (1987)\ttotal: 11m\tremaining: 10m 33s\n"
     ]
    },
    {
     "name": "stdout",
     "output_type": "stream",
     "text": [
      "2575:\tlearn: 0.8518281\ttest: 0.7919994\tbest: 0.7924195 (1987)\ttotal: 11m 6s\tremaining: 10m 27s\n"
     ]
    },
    {
     "name": "stdout",
     "output_type": "stream",
     "text": [
      "2600:\tlearn: 0.8523097\ttest: 0.7916884\tbest: 0.7924195 (1987)\ttotal: 11m 12s\tremaining: 10m 20s\n"
     ]
    },
    {
     "name": "stdout",
     "output_type": "stream",
     "text": [
      "2625:\tlearn: 0.8528231\ttest: 0.7918287\tbest: 0.7924195 (1987)\ttotal: 11m 19s\tremaining: 10m 14s\n"
     ]
    },
    {
     "name": "stdout",
     "output_type": "stream",
     "text": [
      "2650:\tlearn: 0.8533225\ttest: 0.7921693\tbest: 0.7924195 (1987)\ttotal: 11m 25s\tremaining: 10m 7s\n"
     ]
    },
    {
     "name": "stdout",
     "output_type": "stream",
     "text": [
      "2675:\tlearn: 0.8539682\ttest: 0.7920933\tbest: 0.7924195 (1987)\ttotal: 11m 32s\tremaining: 10m 1s\n"
     ]
    },
    {
     "name": "stdout",
     "output_type": "stream",
     "text": [
      "2700:\tlearn: 0.8544125\ttest: 0.7921804\tbest: 0.7924304 (2694)\ttotal: 11m 38s\tremaining: 9m 54s\n"
     ]
    },
    {
     "name": "stdout",
     "output_type": "stream",
     "text": [
      "2725:\tlearn: 0.8551424\ttest: 0.7925616\tbest: 0.7926042 (2724)\ttotal: 11m 45s\tremaining: 9m 48s\n"
     ]
    },
    {
     "name": "stdout",
     "output_type": "stream",
     "text": [
      "2750:\tlearn: 0.8554490\ttest: 0.7928813\tbest: 0.7928813 (2750)\ttotal: 11m 51s\tremaining: 9m 41s\n"
     ]
    },
    {
     "name": "stdout",
     "output_type": "stream",
     "text": [
      "2775:\tlearn: 0.8560671\ttest: 0.7925705\tbest: 0.7929052 (2761)\ttotal: 11m 58s\tremaining: 9m 35s\n"
     ]
    },
    {
     "name": "stdout",
     "output_type": "stream",
     "text": [
      "2800:\tlearn: 0.8564345\ttest: 0.7929751\tbest: 0.7930382 (2796)\ttotal: 12m 4s\tremaining: 9m 29s\n"
     ]
    },
    {
     "name": "stdout",
     "output_type": "stream",
     "text": [
      "2825:\tlearn: 0.8569930\ttest: 0.7930266\tbest: 0.7930382 (2796)\ttotal: 12m 11s\tremaining: 9m 22s\n"
     ]
    },
    {
     "name": "stdout",
     "output_type": "stream",
     "text": [
      "2850:\tlearn: 0.8576181\ttest: 0.7928035\tbest: 0.7931563 (2832)\ttotal: 12m 17s\tremaining: 9m 16s\n"
     ]
    },
    {
     "name": "stdout",
     "output_type": "stream",
     "text": [
      "2875:\tlearn: 0.8579846\ttest: 0.7929128\tbest: 0.7931563 (2832)\ttotal: 12m 24s\tremaining: 9m 9s\n"
     ]
    },
    {
     "name": "stdout",
     "output_type": "stream",
     "text": [
      "2900:\tlearn: 0.8584207\ttest: 0.7928139\tbest: 0.7931563 (2832)\ttotal: 12m 30s\tremaining: 9m 3s\n"
     ]
    },
    {
     "name": "stdout",
     "output_type": "stream",
     "text": [
      "2925:\tlearn: 0.8589815\ttest: 0.7926738\tbest: 0.7931563 (2832)\ttotal: 12m 37s\tremaining: 8m 56s\n"
     ]
    },
    {
     "name": "stdout",
     "output_type": "stream",
     "text": [
      "2950:\tlearn: 0.8594166\ttest: 0.7925880\tbest: 0.7931563 (2832)\ttotal: 12m 43s\tremaining: 8m 50s\n"
     ]
    },
    {
     "name": "stdout",
     "output_type": "stream",
     "text": [
      "2975:\tlearn: 0.8598276\ttest: 0.7926585\tbest: 0.7931563 (2832)\ttotal: 12m 50s\tremaining: 8m 43s\n"
     ]
    },
    {
     "name": "stdout",
     "output_type": "stream",
     "text": [
      "3000:\tlearn: 0.8602669\ttest: 0.7924125\tbest: 0.7931563 (2832)\ttotal: 12m 56s\tremaining: 8m 37s\n"
     ]
    },
    {
     "name": "stdout",
     "output_type": "stream",
     "text": [
      "3025:\tlearn: 0.8606519\ttest: 0.7925415\tbest: 0.7931563 (2832)\ttotal: 13m 2s\tremaining: 8m 30s\n"
     ]
    },
    {
     "name": "stdout",
     "output_type": "stream",
     "text": [
      "3050:\tlearn: 0.8611499\ttest: 0.7924430\tbest: 0.7931563 (2832)\ttotal: 13m 9s\tremaining: 8m 24s\n"
     ]
    },
    {
     "name": "stdout",
     "output_type": "stream",
     "text": [
      "3075:\tlearn: 0.8616145\ttest: 0.7921610\tbest: 0.7931563 (2832)\ttotal: 13m 15s\tremaining: 8m 17s\n"
     ]
    },
    {
     "name": "stdout",
     "output_type": "stream",
     "text": [
      "3100:\tlearn: 0.8619252\ttest: 0.7923120\tbest: 0.7931563 (2832)\ttotal: 13m 22s\tremaining: 8m 11s\n"
     ]
    },
    {
     "name": "stdout",
     "output_type": "stream",
     "text": [
      "3125:\tlearn: 0.8624991\ttest: 0.7927400\tbest: 0.7931563 (2832)\ttotal: 13m 28s\tremaining: 8m 4s\n"
     ]
    },
    {
     "name": "stdout",
     "output_type": "stream",
     "text": [
      "3150:\tlearn: 0.8629082\ttest: 0.7928519\tbest: 0.7931563 (2832)\ttotal: 13m 35s\tremaining: 7m 58s\n"
     ]
    },
    {
     "name": "stdout",
     "output_type": "stream",
     "text": [
      "3175:\tlearn: 0.8636623\ttest: 0.7926016\tbest: 0.7931563 (2832)\ttotal: 13m 41s\tremaining: 7m 51s\n"
     ]
    },
    {
     "name": "stdout",
     "output_type": "stream",
     "text": [
      "3200:\tlearn: 0.8640257\ttest: 0.7929471\tbest: 0.7931563 (2832)\ttotal: 13m 48s\tremaining: 7m 45s\n"
     ]
    },
    {
     "name": "stdout",
     "output_type": "stream",
     "text": [
      "3225:\tlearn: 0.8644827\ttest: 0.7929273\tbest: 0.7932447 (3214)\ttotal: 13m 54s\tremaining: 7m 38s\n"
     ]
    },
    {
     "name": "stdout",
     "output_type": "stream",
     "text": [
      "3250:\tlearn: 0.8651580\ttest: 0.7928919\tbest: 0.7933071 (3232)\ttotal: 14m 1s\tremaining: 7m 32s\n"
     ]
    },
    {
     "name": "stdout",
     "output_type": "stream",
     "text": [
      "3275:\tlearn: 0.8656595\ttest: 0.7929835\tbest: 0.7933071 (3232)\ttotal: 14m 7s\tremaining: 7m 26s\n"
     ]
    },
    {
     "name": "stdout",
     "output_type": "stream",
     "text": [
      "3300:\tlearn: 0.8659548\ttest: 0.7928358\tbest: 0.7933071 (3232)\ttotal: 14m 14s\tremaining: 7m 19s\n"
     ]
    },
    {
     "name": "stdout",
     "output_type": "stream",
     "text": [
      "3325:\tlearn: 0.8664732\ttest: 0.7926559\tbest: 0.7933071 (3232)\ttotal: 14m 20s\tremaining: 7m 13s\n"
     ]
    },
    {
     "name": "stdout",
     "output_type": "stream",
     "text": [
      "3350:\tlearn: 0.8670682\ttest: 0.7924612\tbest: 0.7933071 (3232)\ttotal: 14m 26s\tremaining: 7m 6s\n"
     ]
    },
    {
     "name": "stdout",
     "output_type": "stream",
     "text": [
      "3375:\tlearn: 0.8673651\ttest: 0.7926570\tbest: 0.7933071 (3232)\ttotal: 14m 33s\tremaining: 7m\n"
     ]
    },
    {
     "name": "stdout",
     "output_type": "stream",
     "text": [
      "3400:\tlearn: 0.8679725\ttest: 0.7928737\tbest: 0.7933071 (3232)\ttotal: 14m 39s\tremaining: 6m 53s\n"
     ]
    },
    {
     "name": "stdout",
     "output_type": "stream",
     "text": [
      "3425:\tlearn: 0.8684702\ttest: 0.7930823\tbest: 0.7933071 (3232)\ttotal: 14m 46s\tremaining: 6m 47s\n"
     ]
    },
    {
     "name": "stdout",
     "output_type": "stream",
     "text": [
      "3450:\tlearn: 0.8689922\ttest: 0.7930002\tbest: 0.7933071 (3232)\ttotal: 14m 52s\tremaining: 6m 40s\n"
     ]
    },
    {
     "name": "stdout",
     "output_type": "stream",
     "text": [
      "3475:\tlearn: 0.8695604\ttest: 0.7929624\tbest: 0.7933071 (3232)\ttotal: 14m 59s\tremaining: 6m 34s\n"
     ]
    },
    {
     "name": "stdout",
     "output_type": "stream",
     "text": [
      "3500:\tlearn: 0.8698762\ttest: 0.7928989\tbest: 0.7933071 (3232)\ttotal: 15m 5s\tremaining: 6m 27s\n"
     ]
    },
    {
     "name": "stdout",
     "output_type": "stream",
     "text": [
      "3525:\tlearn: 0.8701658\ttest: 0.7928570\tbest: 0.7933071 (3232)\ttotal: 15m 12s\tremaining: 6m 21s\n"
     ]
    },
    {
     "name": "stdout",
     "output_type": "stream",
     "text": [
      "3550:\tlearn: 0.8707410\ttest: 0.7926267\tbest: 0.7933071 (3232)\ttotal: 15m 18s\tremaining: 6m 14s\n"
     ]
    },
    {
     "name": "stdout",
     "output_type": "stream",
     "text": [
      "3575:\tlearn: 0.8714016\ttest: 0.7925376\tbest: 0.7933071 (3232)\ttotal: 15m 25s\tremaining: 6m 8s\n"
     ]
    },
    {
     "name": "stdout",
     "output_type": "stream",
     "text": [
      "3600:\tlearn: 0.8717177\ttest: 0.7927918\tbest: 0.7933071 (3232)\ttotal: 15m 31s\tremaining: 6m 1s\n"
     ]
    },
    {
     "name": "stdout",
     "output_type": "stream",
     "text": [
      "3625:\tlearn: 0.8721617\ttest: 0.7928186\tbest: 0.7933071 (3232)\ttotal: 15m 38s\tremaining: 5m 55s\n"
     ]
    },
    {
     "name": "stdout",
     "output_type": "stream",
     "text": [
      "3650:\tlearn: 0.8725626\ttest: 0.7925040\tbest: 0.7933071 (3232)\ttotal: 15m 44s\tremaining: 5m 49s\n"
     ]
    },
    {
     "name": "stdout",
     "output_type": "stream",
     "text": [
      "3675:\tlearn: 0.8731592\ttest: 0.7929076\tbest: 0.7933071 (3232)\ttotal: 15m 51s\tremaining: 5m 42s\n"
     ]
    },
    {
     "name": "stdout",
     "output_type": "stream",
     "text": [
      "3700:\tlearn: 0.8734583\ttest: 0.7929518\tbest: 0.7933071 (3232)\ttotal: 15m 57s\tremaining: 5m 36s\n"
     ]
    },
    {
     "name": "stdout",
     "output_type": "stream",
     "text": [
      "3725:\tlearn: 0.8740558\ttest: 0.7927262\tbest: 0.7933071 (3232)\ttotal: 16m 4s\tremaining: 5m 29s\n"
     ]
    },
    {
     "name": "stdout",
     "output_type": "stream",
     "text": [
      "3750:\tlearn: 0.8744355\ttest: 0.7924328\tbest: 0.7933071 (3232)\ttotal: 16m 10s\tremaining: 5m 23s\n"
     ]
    },
    {
     "name": "stdout",
     "output_type": "stream",
     "text": [
      "3775:\tlearn: 0.8749776\ttest: 0.7925197\tbest: 0.7933071 (3232)\ttotal: 16m 17s\tremaining: 5m 16s\n"
     ]
    },
    {
     "name": "stdout",
     "output_type": "stream",
     "text": [
      "3800:\tlearn: 0.8754221\ttest: 0.7925821\tbest: 0.7933071 (3232)\ttotal: 16m 23s\tremaining: 5m 10s\n"
     ]
    },
    {
     "name": "stdout",
     "output_type": "stream",
     "text": [
      "3825:\tlearn: 0.8759059\ttest: 0.7925377\tbest: 0.7933071 (3232)\ttotal: 16m 30s\tremaining: 5m 3s\n"
     ]
    },
    {
     "name": "stdout",
     "output_type": "stream",
     "text": [
      "3850:\tlearn: 0.8763983\ttest: 0.7926269\tbest: 0.7933071 (3232)\ttotal: 16m 36s\tremaining: 4m 57s\n"
     ]
    },
    {
     "name": "stdout",
     "output_type": "stream",
     "text": [
      "3875:\tlearn: 0.8766713\ttest: 0.7929060\tbest: 0.7933071 (3232)\ttotal: 16m 43s\tremaining: 4m 50s\n"
     ]
    },
    {
     "name": "stdout",
     "output_type": "stream",
     "text": [
      "3900:\tlearn: 0.8772142\ttest: 0.7928742\tbest: 0.7933071 (3232)\ttotal: 16m 49s\tremaining: 4m 44s\n"
     ]
    },
    {
     "name": "stdout",
     "output_type": "stream",
     "text": [
      "3925:\tlearn: 0.8775297\ttest: 0.7927684\tbest: 0.7933071 (3232)\ttotal: 16m 56s\tremaining: 4m 37s\n"
     ]
    },
    {
     "name": "stdout",
     "output_type": "stream",
     "text": [
      "3950:\tlearn: 0.8779864\ttest: 0.7925993\tbest: 0.7933071 (3232)\ttotal: 17m 2s\tremaining: 4m 31s\n"
     ]
    },
    {
     "name": "stdout",
     "output_type": "stream",
     "text": [
      "3975:\tlearn: 0.8783145\ttest: 0.7927018\tbest: 0.7933071 (3232)\ttotal: 17m 8s\tremaining: 4m 24s\n"
     ]
    },
    {
     "name": "stdout",
     "output_type": "stream",
     "text": [
      "4000:\tlearn: 0.8788914\ttest: 0.7924548\tbest: 0.7933071 (3232)\ttotal: 17m 15s\tremaining: 4m 18s\n"
     ]
    },
    {
     "name": "stdout",
     "output_type": "stream",
     "text": [
      "4025:\tlearn: 0.8793137\ttest: 0.7927476\tbest: 0.7933071 (3232)\ttotal: 17m 21s\tremaining: 4m 12s\n"
     ]
    },
    {
     "name": "stdout",
     "output_type": "stream",
     "text": [
      "4050:\tlearn: 0.8796384\ttest: 0.7923092\tbest: 0.7933071 (3232)\ttotal: 17m 28s\tremaining: 4m 5s\n"
     ]
    },
    {
     "name": "stdout",
     "output_type": "stream",
     "text": [
      "4075:\tlearn: 0.8800344\ttest: 0.7921141\tbest: 0.7933071 (3232)\ttotal: 17m 34s\tremaining: 3m 59s\n"
     ]
    },
    {
     "name": "stdout",
     "output_type": "stream",
     "text": [
      "4100:\tlearn: 0.8805140\ttest: 0.7920675\tbest: 0.7933071 (3232)\ttotal: 17m 41s\tremaining: 3m 52s\n"
     ]
    },
    {
     "name": "stdout",
     "output_type": "stream",
     "text": [
      "4125:\tlearn: 0.8807663\ttest: 0.7921333\tbest: 0.7933071 (3232)\ttotal: 17m 47s\tremaining: 3m 46s\n"
     ]
    },
    {
     "name": "stdout",
     "output_type": "stream",
     "text": [
      "4150:\tlearn: 0.8812850\ttest: 0.7918140\tbest: 0.7933071 (3232)\ttotal: 17m 54s\tremaining: 3m 39s\n"
     ]
    },
    {
     "name": "stdout",
     "output_type": "stream",
     "text": [
      "4175:\tlearn: 0.8817868\ttest: 0.7920318\tbest: 0.7933071 (3232)\ttotal: 18m\tremaining: 3m 33s\n"
     ]
    },
    {
     "name": "stdout",
     "output_type": "stream",
     "text": [
      "4200:\tlearn: 0.8821723\ttest: 0.7917191\tbest: 0.7933071 (3232)\ttotal: 18m 7s\tremaining: 3m 26s\n"
     ]
    },
    {
     "name": "stdout",
     "output_type": "stream",
     "text": [
      "4225:\tlearn: 0.8825623\ttest: 0.7918690\tbest: 0.7933071 (3232)\ttotal: 18m 13s\tremaining: 3m 20s\n"
     ]
    },
    {
     "name": "stdout",
     "output_type": "stream",
     "text": [
      "4250:\tlearn: 0.8830114\ttest: 0.7918325\tbest: 0.7933071 (3232)\ttotal: 18m 20s\tremaining: 3m 13s\n"
     ]
    },
    {
     "name": "stdout",
     "output_type": "stream",
     "text": [
      "4275:\tlearn: 0.8835723\ttest: 0.7921564\tbest: 0.7933071 (3232)\ttotal: 18m 26s\tremaining: 3m 7s\n"
     ]
    },
    {
     "name": "stdout",
     "output_type": "stream",
     "text": [
      "4300:\tlearn: 0.8838511\ttest: 0.7918715\tbest: 0.7933071 (3232)\ttotal: 18m 33s\tremaining: 3m\n"
     ]
    },
    {
     "name": "stdout",
     "output_type": "stream",
     "text": [
      "4325:\tlearn: 0.8842333\ttest: 0.7918922\tbest: 0.7933071 (3232)\ttotal: 18m 39s\tremaining: 2m 54s\n"
     ]
    },
    {
     "name": "stdout",
     "output_type": "stream",
     "text": [
      "4350:\tlearn: 0.8847576\ttest: 0.7919763\tbest: 0.7933071 (3232)\ttotal: 18m 45s\tremaining: 2m 47s\n"
     ]
    },
    {
     "name": "stdout",
     "output_type": "stream",
     "text": [
      "4375:\tlearn: 0.8851491\ttest: 0.7925738\tbest: 0.7933071 (3232)\ttotal: 18m 52s\tremaining: 2m 41s\n"
     ]
    },
    {
     "name": "stdout",
     "output_type": "stream",
     "text": [
      "4400:\tlearn: 0.8856588\ttest: 0.7921256\tbest: 0.7933071 (3232)\ttotal: 18m 58s\tremaining: 2m 35s\n"
     ]
    },
    {
     "name": "stdout",
     "output_type": "stream",
     "text": [
      "4425:\tlearn: 0.8860197\ttest: 0.7922099\tbest: 0.7933071 (3232)\ttotal: 19m 5s\tremaining: 2m 28s\n"
     ]
    },
    {
     "name": "stdout",
     "output_type": "stream",
     "text": [
      "4450:\tlearn: 0.8863683\ttest: 0.7923007\tbest: 0.7933071 (3232)\ttotal: 19m 11s\tremaining: 2m 22s\n"
     ]
    },
    {
     "name": "stdout",
     "output_type": "stream",
     "text": [
      "4475:\tlearn: 0.8867041\ttest: 0.7921799\tbest: 0.7933071 (3232)\ttotal: 19m 18s\tremaining: 2m 15s\n"
     ]
    },
    {
     "name": "stdout",
     "output_type": "stream",
     "text": [
      "4500:\tlearn: 0.8870486\ttest: 0.7917601\tbest: 0.7933071 (3232)\ttotal: 19m 24s\tremaining: 2m 9s\n"
     ]
    },
    {
     "name": "stdout",
     "output_type": "stream",
     "text": [
      "4525:\tlearn: 0.8876023\ttest: 0.7921769\tbest: 0.7933071 (3232)\ttotal: 19m 31s\tremaining: 2m 2s\n"
     ]
    },
    {
     "name": "stdout",
     "output_type": "stream",
     "text": [
      "4550:\tlearn: 0.8880495\ttest: 0.7920557\tbest: 0.7933071 (3232)\ttotal: 19m 37s\tremaining: 1m 56s\n"
     ]
    },
    {
     "name": "stdout",
     "output_type": "stream",
     "text": [
      "4575:\tlearn: 0.8883922\ttest: 0.7923111\tbest: 0.7933071 (3232)\ttotal: 19m 44s\tremaining: 1m 49s\n"
     ]
    },
    {
     "name": "stdout",
     "output_type": "stream",
     "text": [
      "4600:\tlearn: 0.8888771\ttest: 0.7921539\tbest: 0.7933071 (3232)\ttotal: 19m 50s\tremaining: 1m 43s\n"
     ]
    },
    {
     "name": "stdout",
     "output_type": "stream",
     "text": [
      "4625:\tlearn: 0.8893596\ttest: 0.7923223\tbest: 0.7933071 (3232)\ttotal: 19m 57s\tremaining: 1m 36s\n"
     ]
    },
    {
     "name": "stdout",
     "output_type": "stream",
     "text": [
      "4650:\tlearn: 0.8896625\ttest: 0.7922576\tbest: 0.7933071 (3232)\ttotal: 20m 3s\tremaining: 1m 30s\n"
     ]
    },
    {
     "name": "stdout",
     "output_type": "stream",
     "text": [
      "4675:\tlearn: 0.8900217\ttest: 0.7921803\tbest: 0.7933071 (3232)\ttotal: 20m 10s\tremaining: 1m 23s\n"
     ]
    },
    {
     "name": "stdout",
     "output_type": "stream",
     "text": [
      "4700:\tlearn: 0.8904888\ttest: 0.7921809\tbest: 0.7933071 (3232)\ttotal: 20m 16s\tremaining: 1m 17s\n"
     ]
    },
    {
     "name": "stdout",
     "output_type": "stream",
     "text": [
      "4725:\tlearn: 0.8909269\ttest: 0.7926698\tbest: 0.7933071 (3232)\ttotal: 20m 22s\tremaining: 1m 10s\n"
     ]
    },
    {
     "name": "stdout",
     "output_type": "stream",
     "text": [
      "4750:\tlearn: 0.8913475\ttest: 0.7925466\tbest: 0.7933071 (3232)\ttotal: 20m 29s\tremaining: 1m 4s\n"
     ]
    },
    {
     "name": "stdout",
     "output_type": "stream",
     "text": [
      "4775:\tlearn: 0.8917237\ttest: 0.7926118\tbest: 0.7933071 (3232)\ttotal: 20m 35s\tremaining: 58s\n"
     ]
    },
    {
     "name": "stdout",
     "output_type": "stream",
     "text": [
      "4800:\tlearn: 0.8921176\ttest: 0.7921272\tbest: 0.7933071 (3232)\ttotal: 20m 42s\tremaining: 51.5s\n"
     ]
    },
    {
     "name": "stdout",
     "output_type": "stream",
     "text": [
      "4825:\tlearn: 0.8925479\ttest: 0.7924210\tbest: 0.7933071 (3232)\ttotal: 20m 48s\tremaining: 45s\n"
     ]
    },
    {
     "name": "stdout",
     "output_type": "stream",
     "text": [
      "4850:\tlearn: 0.8928953\ttest: 0.7920237\tbest: 0.7933071 (3232)\ttotal: 20m 55s\tremaining: 38.6s\n"
     ]
    },
    {
     "name": "stdout",
     "output_type": "stream",
     "text": [
      "4875:\tlearn: 0.8933297\ttest: 0.7921962\tbest: 0.7933071 (3232)\ttotal: 21m 1s\tremaining: 32.1s\n"
     ]
    },
    {
     "name": "stdout",
     "output_type": "stream",
     "text": [
      "4900:\tlearn: 0.8935987\ttest: 0.7923012\tbest: 0.7933071 (3232)\ttotal: 21m 7s\tremaining: 25.6s\n"
     ]
    },
    {
     "name": "stdout",
     "output_type": "stream",
     "text": [
      "4925:\tlearn: 0.8938255\ttest: 0.7925132\tbest: 0.7933071 (3232)\ttotal: 21m 14s\tremaining: 19.1s\n"
     ]
    },
    {
     "name": "stdout",
     "output_type": "stream",
     "text": [
      "4950:\tlearn: 0.8942400\ttest: 0.7927708\tbest: 0.7933071 (3232)\ttotal: 21m 20s\tremaining: 12.7s\n"
     ]
    },
    {
     "name": "stdout",
     "output_type": "stream",
     "text": [
      "4975:\tlearn: 0.8947418\ttest: 0.7926890\tbest: 0.7933071 (3232)\ttotal: 21m 27s\tremaining: 6.21s\n"
     ]
    },
    {
     "name": "stdout",
     "output_type": "stream",
     "text": [
      "4999:\tlearn: 0.8951312\ttest: 0.7927535\tbest: 0.7933071 (3232)\ttotal: 21m 33s\tremaining: 0us\n",
      "\n",
      "bestTest = 0.7933070547\n",
      "bestIteration = 3232\n",
      "\n"
     ]
    },
    {
     "name": "stdout",
     "output_type": "stream",
     "text": [
      "######################################## training model 3/5 ########################################\n"
     ]
    },
    {
     "name": "stdout",
     "output_type": "stream",
     "text": [
      "0:\tlearn: 0.5865359\ttest: 0.5876408\tbest: 0.5876408 (0)\ttotal: 574ms\tremaining: 47m 49s\n"
     ]
    },
    {
     "name": "stdout",
     "output_type": "stream",
     "text": [
      "25:\tlearn: 0.7244538\ttest: 0.7261367\tbest: 0.7261367 (25)\ttotal: 6.97s\tremaining: 22m 14s\n"
     ]
    },
    {
     "name": "stdout",
     "output_type": "stream",
     "text": [
      "50:\tlearn: 0.7414816\ttest: 0.7421692\tbest: 0.7423815 (49)\ttotal: 13.4s\tremaining: 21m 42s\n"
     ]
    },
    {
     "name": "stdout",
     "output_type": "stream",
     "text": [
      "75:\tlearn: 0.7517173\ttest: 0.7521913\tbest: 0.7522617 (74)\ttotal: 19.9s\tremaining: 21m 31s\n"
     ]
    },
    {
     "name": "stdout",
     "output_type": "stream",
     "text": [
      "100:\tlearn: 0.7565899\ttest: 0.7559596\tbest: 0.7559823 (99)\ttotal: 26.4s\tremaining: 21m 22s\n"
     ]
    },
    {
     "name": "stdout",
     "output_type": "stream",
     "text": [
      "125:\tlearn: 0.7595562\ttest: 0.7593918\tbest: 0.7593918 (125)\ttotal: 32.9s\tremaining: 21m 14s\n"
     ]
    },
    {
     "name": "stdout",
     "output_type": "stream",
     "text": [
      "150:\tlearn: 0.7624602\ttest: 0.7623797\tbest: 0.7623797 (150)\ttotal: 39.4s\tremaining: 21m 6s\n"
     ]
    },
    {
     "name": "stdout",
     "output_type": "stream",
     "text": [
      "175:\tlearn: 0.7650923\ttest: 0.7647359\tbest: 0.7647359 (175)\ttotal: 45.9s\tremaining: 20m 57s\n"
     ]
    },
    {
     "name": "stdout",
     "output_type": "stream",
     "text": [
      "200:\tlearn: 0.7677652\ttest: 0.7673396\tbest: 0.7673950 (198)\ttotal: 52.4s\tremaining: 20m 50s\n"
     ]
    },
    {
     "name": "stdout",
     "output_type": "stream",
     "text": [
      "225:\tlearn: 0.7697579\ttest: 0.7688826\tbest: 0.7690440 (222)\ttotal: 58.8s\tremaining: 20m 42s\n"
     ]
    },
    {
     "name": "stdout",
     "output_type": "stream",
     "text": [
      "250:\tlearn: 0.7714379\ttest: 0.7704577\tbest: 0.7704577 (250)\ttotal: 1m 5s\tremaining: 20m 37s\n"
     ]
    },
    {
     "name": "stdout",
     "output_type": "stream",
     "text": [
      "275:\tlearn: 0.7737759\ttest: 0.7722939\tbest: 0.7723609 (274)\ttotal: 1m 11s\tremaining: 20m 29s\n"
     ]
    },
    {
     "name": "stdout",
     "output_type": "stream",
     "text": [
      "300:\tlearn: 0.7765883\ttest: 0.7757475\tbest: 0.7757475 (300)\ttotal: 1m 18s\tremaining: 20m 22s\n"
     ]
    },
    {
     "name": "stdout",
     "output_type": "stream",
     "text": [
      "325:\tlearn: 0.7805588\ttest: 0.7794087\tbest: 0.7794087 (325)\ttotal: 1m 24s\tremaining: 20m 15s\n"
     ]
    },
    {
     "name": "stdout",
     "output_type": "stream",
     "text": [
      "350:\tlearn: 0.7839048\ttest: 0.7815001\tbest: 0.7817884 (347)\ttotal: 1m 31s\tremaining: 20m 9s\n"
     ]
    },
    {
     "name": "stdout",
     "output_type": "stream",
     "text": [
      "375:\tlearn: 0.7860722\ttest: 0.7845144\tbest: 0.7845144 (375)\ttotal: 1m 37s\tremaining: 20m 4s\n"
     ]
    },
    {
     "name": "stdout",
     "output_type": "stream",
     "text": [
      "400:\tlearn: 0.7878914\ttest: 0.7862330\tbest: 0.7862330 (400)\ttotal: 1m 44s\tremaining: 19m 57s\n"
     ]
    },
    {
     "name": "stdout",
     "output_type": "stream",
     "text": [
      "425:\tlearn: 0.7896057\ttest: 0.7869216\tbest: 0.7872237 (420)\ttotal: 1m 50s\tremaining: 19m 50s\n"
     ]
    },
    {
     "name": "stdout",
     "output_type": "stream",
     "text": [
      "450:\tlearn: 0.7907366\ttest: 0.7877126\tbest: 0.7877126 (450)\ttotal: 1m 57s\tremaining: 19m 43s\n"
     ]
    },
    {
     "name": "stdout",
     "output_type": "stream",
     "text": [
      "475:\tlearn: 0.7918760\ttest: 0.7890583\tbest: 0.7890642 (473)\ttotal: 2m 3s\tremaining: 19m 36s\n"
     ]
    },
    {
     "name": "stdout",
     "output_type": "stream",
     "text": [
      "500:\tlearn: 0.7935655\ttest: 0.7896954\tbest: 0.7897114 (499)\ttotal: 2m 10s\tremaining: 19m 30s\n"
     ]
    },
    {
     "name": "stdout",
     "output_type": "stream",
     "text": [
      "525:\tlearn: 0.7947893\ttest: 0.7900202\tbest: 0.7900798 (516)\ttotal: 2m 16s\tremaining: 19m 24s\n"
     ]
    },
    {
     "name": "stdout",
     "output_type": "stream",
     "text": [
      "550:\tlearn: 0.7959397\ttest: 0.7900918\tbest: 0.7902144 (537)\ttotal: 2m 23s\tremaining: 19m 17s\n"
     ]
    },
    {
     "name": "stdout",
     "output_type": "stream",
     "text": [
      "575:\tlearn: 0.7971930\ttest: 0.7907334\tbest: 0.7907334 (575)\ttotal: 2m 29s\tremaining: 19m 10s\n"
     ]
    },
    {
     "name": "stdout",
     "output_type": "stream",
     "text": [
      "600:\tlearn: 0.7987147\ttest: 0.7915734\tbest: 0.7915734 (600)\ttotal: 2m 36s\tremaining: 19m 4s\n"
     ]
    },
    {
     "name": "stdout",
     "output_type": "stream",
     "text": [
      "625:\tlearn: 0.7996086\ttest: 0.7910982\tbest: 0.7915734 (600)\ttotal: 2m 42s\tremaining: 18m 57s\n"
     ]
    },
    {
     "name": "stdout",
     "output_type": "stream",
     "text": [
      "650:\tlearn: 0.8005860\ttest: 0.7915292\tbest: 0.7916109 (649)\ttotal: 2m 49s\tremaining: 18m 50s\n"
     ]
    },
    {
     "name": "stdout",
     "output_type": "stream",
     "text": [
      "675:\tlearn: 0.8015654\ttest: 0.7920425\tbest: 0.7921212 (674)\ttotal: 2m 55s\tremaining: 18m 43s\n"
     ]
    },
    {
     "name": "stdout",
     "output_type": "stream",
     "text": [
      "700:\tlearn: 0.8025443\ttest: 0.7923195\tbest: 0.7926291 (690)\ttotal: 3m 2s\tremaining: 18m 37s\n"
     ]
    },
    {
     "name": "stdout",
     "output_type": "stream",
     "text": [
      "725:\tlearn: 0.8033880\ttest: 0.7923888\tbest: 0.7926291 (690)\ttotal: 3m 8s\tremaining: 18m 30s\n"
     ]
    },
    {
     "name": "stdout",
     "output_type": "stream",
     "text": [
      "750:\tlearn: 0.8043305\ttest: 0.7924098\tbest: 0.7926291 (690)\ttotal: 3m 15s\tremaining: 18m 23s\n"
     ]
    },
    {
     "name": "stdout",
     "output_type": "stream",
     "text": [
      "775:\tlearn: 0.8050924\ttest: 0.7931078\tbest: 0.7931285 (774)\ttotal: 3m 21s\tremaining: 18m 17s\n"
     ]
    },
    {
     "name": "stdout",
     "output_type": "stream",
     "text": [
      "800:\tlearn: 0.8056899\ttest: 0.7932722\tbest: 0.7935401 (798)\ttotal: 3m 27s\tremaining: 18m 10s\n"
     ]
    },
    {
     "name": "stdout",
     "output_type": "stream",
     "text": [
      "825:\tlearn: 0.8064700\ttest: 0.7934897\tbest: 0.7937533 (821)\ttotal: 3m 34s\tremaining: 18m 3s\n"
     ]
    },
    {
     "name": "stdout",
     "output_type": "stream",
     "text": [
      "850:\tlearn: 0.8072112\ttest: 0.7935492\tbest: 0.7937533 (821)\ttotal: 3m 40s\tremaining: 17m 57s\n"
     ]
    },
    {
     "name": "stdout",
     "output_type": "stream",
     "text": [
      "875:\tlearn: 0.8079756\ttest: 0.7934260\tbest: 0.7938626 (860)\ttotal: 3m 47s\tremaining: 17m 50s\n"
     ]
    },
    {
     "name": "stdout",
     "output_type": "stream",
     "text": [
      "900:\tlearn: 0.8088537\ttest: 0.7937131\tbest: 0.7939207 (897)\ttotal: 3m 53s\tremaining: 17m 44s\n"
     ]
    },
    {
     "name": "stdout",
     "output_type": "stream",
     "text": [
      "925:\tlearn: 0.8095708\ttest: 0.7938465\tbest: 0.7941435 (904)\ttotal: 4m\tremaining: 17m 37s\n"
     ]
    },
    {
     "name": "stdout",
     "output_type": "stream",
     "text": [
      "950:\tlearn: 0.8103752\ttest: 0.7942266\tbest: 0.7944777 (937)\ttotal: 4m 6s\tremaining: 17m 30s\n"
     ]
    },
    {
     "name": "stdout",
     "output_type": "stream",
     "text": [
      "975:\tlearn: 0.8111257\ttest: 0.7951879\tbest: 0.7951879 (975)\ttotal: 4m 13s\tremaining: 17m 24s\n"
     ]
    },
    {
     "name": "stdout",
     "output_type": "stream",
     "text": [
      "1000:\tlearn: 0.8118204\ttest: 0.7949477\tbest: 0.7953264 (982)\ttotal: 4m 19s\tremaining: 17m 17s\n"
     ]
    },
    {
     "name": "stdout",
     "output_type": "stream",
     "text": [
      "1025:\tlearn: 0.8125877\ttest: 0.7947334\tbest: 0.7953264 (982)\ttotal: 4m 26s\tremaining: 17m 11s\n"
     ]
    },
    {
     "name": "stdout",
     "output_type": "stream",
     "text": [
      "1050:\tlearn: 0.8134920\ttest: 0.7953094\tbest: 0.7953264 (982)\ttotal: 4m 32s\tremaining: 17m 4s\n"
     ]
    },
    {
     "name": "stdout",
     "output_type": "stream",
     "text": [
      "1075:\tlearn: 0.8141746\ttest: 0.7955237\tbest: 0.7957745 (1074)\ttotal: 4m 39s\tremaining: 16m 57s\n"
     ]
    },
    {
     "name": "stdout",
     "output_type": "stream",
     "text": [
      "1100:\tlearn: 0.8148747\ttest: 0.7956272\tbest: 0.7957745 (1074)\ttotal: 4m 45s\tremaining: 16m 51s\n"
     ]
    },
    {
     "name": "stdout",
     "output_type": "stream",
     "text": [
      "1125:\tlearn: 0.8153064\ttest: 0.7954629\tbest: 0.7957745 (1074)\ttotal: 4m 52s\tremaining: 16m 44s\n"
     ]
    },
    {
     "name": "stdout",
     "output_type": "stream",
     "text": [
      "1150:\tlearn: 0.8160347\ttest: 0.7954400\tbest: 0.7957745 (1074)\ttotal: 4m 58s\tremaining: 16m 38s\n"
     ]
    },
    {
     "name": "stdout",
     "output_type": "stream",
     "text": [
      "1175:\tlearn: 0.8168086\ttest: 0.7955730\tbest: 0.7957745 (1074)\ttotal: 5m 4s\tremaining: 16m 31s\n"
     ]
    },
    {
     "name": "stdout",
     "output_type": "stream",
     "text": [
      "1200:\tlearn: 0.8171599\ttest: 0.7955548\tbest: 0.7960452 (1187)\ttotal: 5m 11s\tremaining: 16m 25s\n"
     ]
    },
    {
     "name": "stdout",
     "output_type": "stream",
     "text": [
      "1225:\tlearn: 0.8179259\ttest: 0.7960152\tbest: 0.7960452 (1187)\ttotal: 5m 17s\tremaining: 16m 18s\n"
     ]
    },
    {
     "name": "stdout",
     "output_type": "stream",
     "text": [
      "1250:\tlearn: 0.8185893\ttest: 0.7958621\tbest: 0.7963265 (1248)\ttotal: 5m 24s\tremaining: 16m 12s\n"
     ]
    },
    {
     "name": "stdout",
     "output_type": "stream",
     "text": [
      "1275:\tlearn: 0.8192199\ttest: 0.7961210\tbest: 0.7963265 (1248)\ttotal: 5m 30s\tremaining: 16m 5s\n"
     ]
    },
    {
     "name": "stdout",
     "output_type": "stream",
     "text": [
      "1300:\tlearn: 0.8200747\ttest: 0.7963145\tbest: 0.7963551 (1299)\ttotal: 5m 37s\tremaining: 15m 58s\n"
     ]
    },
    {
     "name": "stdout",
     "output_type": "stream",
     "text": [
      "1325:\tlearn: 0.8207637\ttest: 0.7966032\tbest: 0.7966592 (1316)\ttotal: 5m 43s\tremaining: 15m 52s\n"
     ]
    },
    {
     "name": "stdout",
     "output_type": "stream",
     "text": [
      "1350:\tlearn: 0.8213118\ttest: 0.7968694\tbest: 0.7970596 (1348)\ttotal: 5m 50s\tremaining: 15m 45s\n"
     ]
    },
    {
     "name": "stdout",
     "output_type": "stream",
     "text": [
      "1375:\tlearn: 0.8221097\ttest: 0.7965908\tbest: 0.7970596 (1348)\ttotal: 5m 56s\tremaining: 15m 39s\n"
     ]
    },
    {
     "name": "stdout",
     "output_type": "stream",
     "text": [
      "1400:\tlearn: 0.8226900\ttest: 0.7960179\tbest: 0.7970596 (1348)\ttotal: 6m 3s\tremaining: 15m 33s\n"
     ]
    },
    {
     "name": "stdout",
     "output_type": "stream",
     "text": [
      "1425:\tlearn: 0.8231923\ttest: 0.7965416\tbest: 0.7970596 (1348)\ttotal: 6m 9s\tremaining: 15m 26s\n"
     ]
    },
    {
     "name": "stdout",
     "output_type": "stream",
     "text": [
      "1450:\tlearn: 0.8237184\ttest: 0.7970708\tbest: 0.7971732 (1448)\ttotal: 6m 16s\tremaining: 15m 19s\n"
     ]
    },
    {
     "name": "stdout",
     "output_type": "stream",
     "text": [
      "1475:\tlearn: 0.8242601\ttest: 0.7968382\tbest: 0.7972518 (1467)\ttotal: 6m 22s\tremaining: 15m 13s\n"
     ]
    },
    {
     "name": "stdout",
     "output_type": "stream",
     "text": [
      "1500:\tlearn: 0.8250669\ttest: 0.7969970\tbest: 0.7972518 (1467)\ttotal: 6m 29s\tremaining: 15m 7s\n"
     ]
    },
    {
     "name": "stdout",
     "output_type": "stream",
     "text": [
      "1525:\tlearn: 0.8254420\ttest: 0.7967592\tbest: 0.7972518 (1467)\ttotal: 6m 35s\tremaining: 15m\n"
     ]
    },
    {
     "name": "stdout",
     "output_type": "stream",
     "text": [
      "1550:\tlearn: 0.8261614\ttest: 0.7970438\tbest: 0.7972518 (1467)\ttotal: 6m 41s\tremaining: 14m 53s\n"
     ]
    },
    {
     "name": "stdout",
     "output_type": "stream",
     "text": [
      "1575:\tlearn: 0.8269363\ttest: 0.7972179\tbest: 0.7973177 (1555)\ttotal: 6m 48s\tremaining: 14m 47s\n"
     ]
    },
    {
     "name": "stdout",
     "output_type": "stream",
     "text": [
      "1600:\tlearn: 0.8274680\ttest: 0.7972326\tbest: 0.7974953 (1584)\ttotal: 6m 54s\tremaining: 14m 40s\n"
     ]
    },
    {
     "name": "stdout",
     "output_type": "stream",
     "text": [
      "1625:\tlearn: 0.8280946\ttest: 0.7974034\tbest: 0.7974953 (1584)\ttotal: 7m 1s\tremaining: 14m 34s\n"
     ]
    },
    {
     "name": "stdout",
     "output_type": "stream",
     "text": [
      "1650:\tlearn: 0.8286784\ttest: 0.7971212\tbest: 0.7974953 (1584)\ttotal: 7m 7s\tremaining: 14m 27s\n"
     ]
    },
    {
     "name": "stdout",
     "output_type": "stream",
     "text": [
      "1675:\tlearn: 0.8290775\ttest: 0.7973654\tbest: 0.7975118 (1672)\ttotal: 7m 14s\tremaining: 14m 21s\n"
     ]
    },
    {
     "name": "stdout",
     "output_type": "stream",
     "text": [
      "1700:\tlearn: 0.8296781\ttest: 0.7969095\tbest: 0.7975573 (1690)\ttotal: 7m 20s\tremaining: 14m 14s\n"
     ]
    },
    {
     "name": "stdout",
     "output_type": "stream",
     "text": [
      "1725:\tlearn: 0.8302655\ttest: 0.7974493\tbest: 0.7975661 (1710)\ttotal: 7m 27s\tremaining: 14m 8s\n"
     ]
    },
    {
     "name": "stdout",
     "output_type": "stream",
     "text": [
      "1750:\tlearn: 0.8308852\ttest: 0.7977767\tbest: 0.7978597 (1748)\ttotal: 7m 33s\tremaining: 14m 1s\n"
     ]
    },
    {
     "name": "stdout",
     "output_type": "stream",
     "text": [
      "1775:\tlearn: 0.8315797\ttest: 0.7975308\tbest: 0.7978657 (1758)\ttotal: 7m 40s\tremaining: 13m 55s\n"
     ]
    },
    {
     "name": "stdout",
     "output_type": "stream",
     "text": [
      "1800:\tlearn: 0.8320227\ttest: 0.7976862\tbest: 0.7978677 (1777)\ttotal: 7m 46s\tremaining: 13m 48s\n"
     ]
    },
    {
     "name": "stdout",
     "output_type": "stream",
     "text": [
      "1825:\tlearn: 0.8324904\ttest: 0.7975843\tbest: 0.7978677 (1777)\ttotal: 7m 52s\tremaining: 13m 42s\n"
     ]
    },
    {
     "name": "stdout",
     "output_type": "stream",
     "text": [
      "1850:\tlearn: 0.8331691\ttest: 0.7976724\tbest: 0.7978677 (1777)\ttotal: 7m 59s\tremaining: 13m 35s\n"
     ]
    },
    {
     "name": "stdout",
     "output_type": "stream",
     "text": [
      "1875:\tlearn: 0.8340710\ttest: 0.7976038\tbest: 0.7978677 (1777)\ttotal: 8m 5s\tremaining: 13m 29s\n"
     ]
    },
    {
     "name": "stdout",
     "output_type": "stream",
     "text": [
      "1900:\tlearn: 0.8345121\ttest: 0.7975673\tbest: 0.7978677 (1777)\ttotal: 8m 12s\tremaining: 13m 22s\n"
     ]
    },
    {
     "name": "stdout",
     "output_type": "stream",
     "text": [
      "1925:\tlearn: 0.8349803\ttest: 0.7976106\tbest: 0.7978677 (1777)\ttotal: 8m 18s\tremaining: 13m 16s\n"
     ]
    },
    {
     "name": "stdout",
     "output_type": "stream",
     "text": [
      "1950:\tlearn: 0.8353353\ttest: 0.7977313\tbest: 0.7978677 (1777)\ttotal: 8m 25s\tremaining: 13m 9s\n"
     ]
    },
    {
     "name": "stdout",
     "output_type": "stream",
     "text": [
      "1975:\tlearn: 0.8359316\ttest: 0.7970818\tbest: 0.7978677 (1777)\ttotal: 8m 31s\tremaining: 13m 2s\n"
     ]
    },
    {
     "name": "stdout",
     "output_type": "stream",
     "text": [
      "2000:\tlearn: 0.8364503\ttest: 0.7973770\tbest: 0.7978677 (1777)\ttotal: 8m 38s\tremaining: 12m 56s\n"
     ]
    },
    {
     "name": "stdout",
     "output_type": "stream",
     "text": [
      "2025:\tlearn: 0.8368376\ttest: 0.7975930\tbest: 0.7978677 (1777)\ttotal: 8m 44s\tremaining: 12m 50s\n"
     ]
    },
    {
     "name": "stdout",
     "output_type": "stream",
     "text": [
      "2050:\tlearn: 0.8375408\ttest: 0.7972717\tbest: 0.7978677 (1777)\ttotal: 8m 51s\tremaining: 12m 43s\n"
     ]
    },
    {
     "name": "stdout",
     "output_type": "stream",
     "text": [
      "2075:\tlearn: 0.8379086\ttest: 0.7972166\tbest: 0.7978677 (1777)\ttotal: 8m 57s\tremaining: 12m 37s\n"
     ]
    },
    {
     "name": "stdout",
     "output_type": "stream",
     "text": [
      "2100:\tlearn: 0.8384002\ttest: 0.7972249\tbest: 0.7978677 (1777)\ttotal: 9m 3s\tremaining: 12m 30s\n"
     ]
    },
    {
     "name": "stdout",
     "output_type": "stream",
     "text": [
      "2125:\tlearn: 0.8390129\ttest: 0.7971710\tbest: 0.7978677 (1777)\ttotal: 9m 10s\tremaining: 12m 24s\n"
     ]
    },
    {
     "name": "stdout",
     "output_type": "stream",
     "text": [
      "2150:\tlearn: 0.8396190\ttest: 0.7976080\tbest: 0.7978677 (1777)\ttotal: 9m 16s\tremaining: 12m 17s\n"
     ]
    },
    {
     "name": "stdout",
     "output_type": "stream",
     "text": [
      "2175:\tlearn: 0.8400789\ttest: 0.7975354\tbest: 0.7978677 (1777)\ttotal: 9m 23s\tremaining: 12m 11s\n"
     ]
    },
    {
     "name": "stdout",
     "output_type": "stream",
     "text": [
      "2200:\tlearn: 0.8405243\ttest: 0.7976686\tbest: 0.7978739 (2185)\ttotal: 9m 29s\tremaining: 12m 4s\n"
     ]
    },
    {
     "name": "stdout",
     "output_type": "stream",
     "text": [
      "2225:\tlearn: 0.8408942\ttest: 0.7977048\tbest: 0.7979309 (2215)\ttotal: 9m 36s\tremaining: 11m 58s\n"
     ]
    },
    {
     "name": "stdout",
     "output_type": "stream",
     "text": [
      "2250:\tlearn: 0.8415162\ttest: 0.7978978\tbest: 0.7979309 (2215)\ttotal: 9m 42s\tremaining: 11m 51s\n"
     ]
    },
    {
     "name": "stdout",
     "output_type": "stream",
     "text": [
      "2275:\tlearn: 0.8419876\ttest: 0.7981386\tbest: 0.7981787 (2274)\ttotal: 9m 49s\tremaining: 11m 45s\n"
     ]
    },
    {
     "name": "stdout",
     "output_type": "stream",
     "text": [
      "2300:\tlearn: 0.8423166\ttest: 0.7981410\tbest: 0.7985362 (2288)\ttotal: 9m 55s\tremaining: 11m 38s\n"
     ]
    },
    {
     "name": "stdout",
     "output_type": "stream",
     "text": [
      "2325:\tlearn: 0.8430039\ttest: 0.7980258\tbest: 0.7985362 (2288)\ttotal: 10m 2s\tremaining: 11m 32s\n"
     ]
    },
    {
     "name": "stdout",
     "output_type": "stream",
     "text": [
      "2350:\tlearn: 0.8435735\ttest: 0.7979000\tbest: 0.7985362 (2288)\ttotal: 10m 8s\tremaining: 11m 25s\n"
     ]
    },
    {
     "name": "stdout",
     "output_type": "stream",
     "text": [
      "2375:\tlearn: 0.8439153\ttest: 0.7979837\tbest: 0.7985362 (2288)\ttotal: 10m 15s\tremaining: 11m 19s\n"
     ]
    },
    {
     "name": "stdout",
     "output_type": "stream",
     "text": [
      "2400:\tlearn: 0.8442416\ttest: 0.7979636\tbest: 0.7985362 (2288)\ttotal: 10m 21s\tremaining: 11m 12s\n"
     ]
    },
    {
     "name": "stdout",
     "output_type": "stream",
     "text": [
      "2425:\tlearn: 0.8448449\ttest: 0.7977116\tbest: 0.7985362 (2288)\ttotal: 10m 27s\tremaining: 11m 6s\n"
     ]
    },
    {
     "name": "stdout",
     "output_type": "stream",
     "text": [
      "2450:\tlearn: 0.8453024\ttest: 0.7977371\tbest: 0.7985362 (2288)\ttotal: 10m 34s\tremaining: 10m 59s\n"
     ]
    },
    {
     "name": "stdout",
     "output_type": "stream",
     "text": [
      "2475:\tlearn: 0.8457514\ttest: 0.7972464\tbest: 0.7985362 (2288)\ttotal: 10m 40s\tremaining: 10m 53s\n"
     ]
    },
    {
     "name": "stdout",
     "output_type": "stream",
     "text": [
      "2500:\tlearn: 0.8461198\ttest: 0.7975427\tbest: 0.7985362 (2288)\ttotal: 10m 47s\tremaining: 10m 46s\n"
     ]
    },
    {
     "name": "stdout",
     "output_type": "stream",
     "text": [
      "2525:\tlearn: 0.8466827\ttest: 0.7979487\tbest: 0.7985362 (2288)\ttotal: 10m 53s\tremaining: 10m 40s\n"
     ]
    },
    {
     "name": "stdout",
     "output_type": "stream",
     "text": [
      "2550:\tlearn: 0.8472060\ttest: 0.7980821\tbest: 0.7985362 (2288)\ttotal: 11m\tremaining: 10m 33s\n"
     ]
    },
    {
     "name": "stdout",
     "output_type": "stream",
     "text": [
      "2575:\tlearn: 0.8478302\ttest: 0.7977501\tbest: 0.7985362 (2288)\ttotal: 11m 6s\tremaining: 10m 27s\n"
     ]
    },
    {
     "name": "stdout",
     "output_type": "stream",
     "text": [
      "2600:\tlearn: 0.8483121\ttest: 0.7975536\tbest: 0.7985362 (2288)\ttotal: 11m 13s\tremaining: 10m 20s\n"
     ]
    },
    {
     "name": "stdout",
     "output_type": "stream",
     "text": [
      "2625:\tlearn: 0.8489013\ttest: 0.7977261\tbest: 0.7985362 (2288)\ttotal: 11m 19s\tremaining: 10m 14s\n"
     ]
    },
    {
     "name": "stdout",
     "output_type": "stream",
     "text": [
      "2650:\tlearn: 0.8495903\ttest: 0.7976884\tbest: 0.7985362 (2288)\ttotal: 11m 26s\tremaining: 10m 8s\n"
     ]
    },
    {
     "name": "stdout",
     "output_type": "stream",
     "text": [
      "2675:\tlearn: 0.8500340\ttest: 0.7978146\tbest: 0.7985362 (2288)\ttotal: 11m 32s\tremaining: 10m 1s\n"
     ]
    },
    {
     "name": "stdout",
     "output_type": "stream",
     "text": [
      "2700:\tlearn: 0.8505581\ttest: 0.7977231\tbest: 0.7985362 (2288)\ttotal: 11m 39s\tremaining: 9m 55s\n"
     ]
    },
    {
     "name": "stdout",
     "output_type": "stream",
     "text": [
      "2725:\tlearn: 0.8510945\ttest: 0.7977612\tbest: 0.7985362 (2288)\ttotal: 11m 45s\tremaining: 9m 48s\n"
     ]
    },
    {
     "name": "stdout",
     "output_type": "stream",
     "text": [
      "2750:\tlearn: 0.8514622\ttest: 0.7982369\tbest: 0.7985362 (2288)\ttotal: 11m 52s\tremaining: 9m 42s\n"
     ]
    },
    {
     "name": "stdout",
     "output_type": "stream",
     "text": [
      "2775:\tlearn: 0.8516766\ttest: 0.7981374\tbest: 0.7985362 (2288)\ttotal: 11m 58s\tremaining: 9m 35s\n"
     ]
    },
    {
     "name": "stdout",
     "output_type": "stream",
     "text": [
      "2800:\tlearn: 0.8522059\ttest: 0.7979072\tbest: 0.7985362 (2288)\ttotal: 12m 5s\tremaining: 9m 29s\n"
     ]
    },
    {
     "name": "stdout",
     "output_type": "stream",
     "text": [
      "2825:\tlearn: 0.8528984\ttest: 0.7974335\tbest: 0.7985362 (2288)\ttotal: 12m 11s\tremaining: 9m 22s\n"
     ]
    },
    {
     "name": "stdout",
     "output_type": "stream",
     "text": [
      "2850:\tlearn: 0.8531815\ttest: 0.7978147\tbest: 0.7985362 (2288)\ttotal: 12m 18s\tremaining: 9m 16s\n"
     ]
    },
    {
     "name": "stdout",
     "output_type": "stream",
     "text": [
      "2875:\tlearn: 0.8535914\ttest: 0.7980979\tbest: 0.7985362 (2288)\ttotal: 12m 24s\tremaining: 9m 9s\n"
     ]
    },
    {
     "name": "stdout",
     "output_type": "stream",
     "text": [
      "2900:\tlearn: 0.8538979\ttest: 0.7983342\tbest: 0.7985362 (2288)\ttotal: 12m 31s\tremaining: 9m 3s\n"
     ]
    },
    {
     "name": "stdout",
     "output_type": "stream",
     "text": [
      "2925:\tlearn: 0.8543468\ttest: 0.7986964\tbest: 0.7986964 (2925)\ttotal: 12m 37s\tremaining: 8m 56s\n"
     ]
    },
    {
     "name": "stdout",
     "output_type": "stream",
     "text": [
      "2950:\tlearn: 0.8548329\ttest: 0.7983629\tbest: 0.7987008 (2930)\ttotal: 12m 43s\tremaining: 8m 50s\n"
     ]
    },
    {
     "name": "stdout",
     "output_type": "stream",
     "text": [
      "2975:\tlearn: 0.8552759\ttest: 0.7987277\tbest: 0.7988763 (2974)\ttotal: 12m 50s\tremaining: 8m 43s\n"
     ]
    },
    {
     "name": "stdout",
     "output_type": "stream",
     "text": [
      "3000:\tlearn: 0.8556167\ttest: 0.7984556\tbest: 0.7988763 (2974)\ttotal: 12m 56s\tremaining: 8m 37s\n"
     ]
    },
    {
     "name": "stdout",
     "output_type": "stream",
     "text": [
      "3025:\tlearn: 0.8560872\ttest: 0.7981140\tbest: 0.7988763 (2974)\ttotal: 13m 3s\tremaining: 8m 30s\n"
     ]
    },
    {
     "name": "stdout",
     "output_type": "stream",
     "text": [
      "3050:\tlearn: 0.8564694\ttest: 0.7981427\tbest: 0.7988763 (2974)\ttotal: 13m 9s\tremaining: 8m 24s\n"
     ]
    },
    {
     "name": "stdout",
     "output_type": "stream",
     "text": [
      "3075:\tlearn: 0.8572567\ttest: 0.7978765\tbest: 0.7988763 (2974)\ttotal: 13m 16s\tremaining: 8m 18s\n"
     ]
    },
    {
     "name": "stdout",
     "output_type": "stream",
     "text": [
      "3100:\tlearn: 0.8575455\ttest: 0.7979807\tbest: 0.7988763 (2974)\ttotal: 13m 22s\tremaining: 8m 11s\n"
     ]
    },
    {
     "name": "stdout",
     "output_type": "stream",
     "text": [
      "3125:\tlearn: 0.8579539\ttest: 0.7978802\tbest: 0.7988763 (2974)\ttotal: 13m 29s\tremaining: 8m 5s\n"
     ]
    },
    {
     "name": "stdout",
     "output_type": "stream",
     "text": [
      "3150:\tlearn: 0.8583801\ttest: 0.7978856\tbest: 0.7988763 (2974)\ttotal: 13m 35s\tremaining: 7m 58s\n"
     ]
    },
    {
     "name": "stdout",
     "output_type": "stream",
     "text": [
      "3175:\tlearn: 0.8587604\ttest: 0.7981627\tbest: 0.7988763 (2974)\ttotal: 13m 42s\tremaining: 7m 52s\n"
     ]
    },
    {
     "name": "stdout",
     "output_type": "stream",
     "text": [
      "3200:\tlearn: 0.8592555\ttest: 0.7980540\tbest: 0.7988763 (2974)\ttotal: 13m 48s\tremaining: 7m 45s\n"
     ]
    },
    {
     "name": "stdout",
     "output_type": "stream",
     "text": [
      "3225:\tlearn: 0.8595763\ttest: 0.7979272\tbest: 0.7988763 (2974)\ttotal: 13m 54s\tremaining: 7m 39s\n"
     ]
    },
    {
     "name": "stdout",
     "output_type": "stream",
     "text": [
      "3250:\tlearn: 0.8601031\ttest: 0.7978643\tbest: 0.7988763 (2974)\ttotal: 14m 1s\tremaining: 7m 32s\n"
     ]
    },
    {
     "name": "stdout",
     "output_type": "stream",
     "text": [
      "3275:\tlearn: 0.8605809\ttest: 0.7982451\tbest: 0.7988763 (2974)\ttotal: 14m 7s\tremaining: 7m 26s\n"
     ]
    },
    {
     "name": "stdout",
     "output_type": "stream",
     "text": [
      "3300:\tlearn: 0.8612403\ttest: 0.7983789\tbest: 0.7988763 (2974)\ttotal: 14m 14s\tremaining: 7m 19s\n"
     ]
    },
    {
     "name": "stdout",
     "output_type": "stream",
     "text": [
      "3325:\tlearn: 0.8616637\ttest: 0.7982971\tbest: 0.7988763 (2974)\ttotal: 14m 20s\tremaining: 7m 13s\n"
     ]
    },
    {
     "name": "stdout",
     "output_type": "stream",
     "text": [
      "3350:\tlearn: 0.8621649\ttest: 0.7983682\tbest: 0.7988763 (2974)\ttotal: 14m 27s\tremaining: 7m 6s\n"
     ]
    },
    {
     "name": "stdout",
     "output_type": "stream",
     "text": [
      "3375:\tlearn: 0.8625818\ttest: 0.7982867\tbest: 0.7988763 (2974)\ttotal: 14m 33s\tremaining: 7m\n"
     ]
    },
    {
     "name": "stdout",
     "output_type": "stream",
     "text": [
      "3400:\tlearn: 0.8631801\ttest: 0.7982941\tbest: 0.7988763 (2974)\ttotal: 14m 40s\tremaining: 6m 53s\n"
     ]
    },
    {
     "name": "stdout",
     "output_type": "stream",
     "text": [
      "3425:\tlearn: 0.8635628\ttest: 0.7980454\tbest: 0.7988763 (2974)\ttotal: 14m 46s\tremaining: 6m 47s\n"
     ]
    },
    {
     "name": "stdout",
     "output_type": "stream",
     "text": [
      "3450:\tlearn: 0.8640381\ttest: 0.7978166\tbest: 0.7988763 (2974)\ttotal: 14m 53s\tremaining: 6m 40s\n"
     ]
    },
    {
     "name": "stdout",
     "output_type": "stream",
     "text": [
      "3475:\tlearn: 0.8645357\ttest: 0.7977964\tbest: 0.7988763 (2974)\ttotal: 14m 59s\tremaining: 6m 34s\n"
     ]
    },
    {
     "name": "stdout",
     "output_type": "stream",
     "text": [
      "3500:\tlearn: 0.8649971\ttest: 0.7977754\tbest: 0.7988763 (2974)\ttotal: 15m 6s\tremaining: 6m 28s\n"
     ]
    },
    {
     "name": "stdout",
     "output_type": "stream",
     "text": [
      "3525:\tlearn: 0.8655707\ttest: 0.7981077\tbest: 0.7988763 (2974)\ttotal: 15m 12s\tremaining: 6m 21s\n"
     ]
    },
    {
     "name": "stdout",
     "output_type": "stream",
     "text": [
      "3550:\tlearn: 0.8661312\ttest: 0.7979669\tbest: 0.7988763 (2974)\ttotal: 15m 19s\tremaining: 6m 15s\n"
     ]
    },
    {
     "name": "stdout",
     "output_type": "stream",
     "text": [
      "3575:\tlearn: 0.8666107\ttest: 0.7972773\tbest: 0.7988763 (2974)\ttotal: 15m 25s\tremaining: 6m 8s\n"
     ]
    },
    {
     "name": "stdout",
     "output_type": "stream",
     "text": [
      "3600:\tlearn: 0.8669844\ttest: 0.7978167\tbest: 0.7988763 (2974)\ttotal: 15m 32s\tremaining: 6m 2s\n"
     ]
    },
    {
     "name": "stdout",
     "output_type": "stream",
     "text": [
      "3625:\tlearn: 0.8673729\ttest: 0.7977290\tbest: 0.7988763 (2974)\ttotal: 15m 38s\tremaining: 5m 55s\n"
     ]
    },
    {
     "name": "stdout",
     "output_type": "stream",
     "text": [
      "3650:\tlearn: 0.8679939\ttest: 0.7977921\tbest: 0.7988763 (2974)\ttotal: 15m 45s\tremaining: 5m 49s\n"
     ]
    },
    {
     "name": "stdout",
     "output_type": "stream",
     "text": [
      "3675:\tlearn: 0.8682527\ttest: 0.7981762\tbest: 0.7988763 (2974)\ttotal: 15m 51s\tremaining: 5m 42s\n"
     ]
    },
    {
     "name": "stdout",
     "output_type": "stream",
     "text": [
      "3700:\tlearn: 0.8686621\ttest: 0.7982417\tbest: 0.7988763 (2974)\ttotal: 15m 58s\tremaining: 5m 36s\n"
     ]
    },
    {
     "name": "stdout",
     "output_type": "stream",
     "text": [
      "3725:\tlearn: 0.8692461\ttest: 0.7983307\tbest: 0.7988763 (2974)\ttotal: 16m 4s\tremaining: 5m 29s\n"
     ]
    },
    {
     "name": "stdout",
     "output_type": "stream",
     "text": [
      "3750:\tlearn: 0.8695713\ttest: 0.7981429\tbest: 0.7988763 (2974)\ttotal: 16m 11s\tremaining: 5m 23s\n"
     ]
    },
    {
     "name": "stdout",
     "output_type": "stream",
     "text": [
      "3775:\tlearn: 0.8700926\ttest: 0.7981278\tbest: 0.7988763 (2974)\ttotal: 16m 17s\tremaining: 5m 16s\n"
     ]
    },
    {
     "name": "stdout",
     "output_type": "stream",
     "text": [
      "3800:\tlearn: 0.8706126\ttest: 0.7983850\tbest: 0.7988763 (2974)\ttotal: 16m 24s\tremaining: 5m 10s\n"
     ]
    },
    {
     "name": "stdout",
     "output_type": "stream",
     "text": [
      "3825:\tlearn: 0.8710841\ttest: 0.7980913\tbest: 0.7988763 (2974)\ttotal: 16m 30s\tremaining: 5m 3s\n"
     ]
    },
    {
     "name": "stdout",
     "output_type": "stream",
     "text": [
      "3850:\tlearn: 0.8714971\ttest: 0.7981950\tbest: 0.7988763 (2974)\ttotal: 16m 36s\tremaining: 4m 57s\n"
     ]
    },
    {
     "name": "stdout",
     "output_type": "stream",
     "text": [
      "3875:\tlearn: 0.8719499\ttest: 0.7981364\tbest: 0.7988763 (2974)\ttotal: 16m 43s\tremaining: 4m 51s\n"
     ]
    },
    {
     "name": "stdout",
     "output_type": "stream",
     "text": [
      "3900:\tlearn: 0.8723120\ttest: 0.7984056\tbest: 0.7988763 (2974)\ttotal: 16m 49s\tremaining: 4m 44s\n"
     ]
    },
    {
     "name": "stdout",
     "output_type": "stream",
     "text": [
      "3925:\tlearn: 0.8728613\ttest: 0.7984262\tbest: 0.7988763 (2974)\ttotal: 16m 56s\tremaining: 4m 38s\n"
     ]
    },
    {
     "name": "stdout",
     "output_type": "stream",
     "text": [
      "3950:\tlearn: 0.8734106\ttest: 0.7987635\tbest: 0.7988763 (2974)\ttotal: 17m 2s\tremaining: 4m 31s\n"
     ]
    },
    {
     "name": "stdout",
     "output_type": "stream",
     "text": [
      "3975:\tlearn: 0.8737962\ttest: 0.7987448\tbest: 0.7988763 (2974)\ttotal: 17m 9s\tremaining: 4m 25s\n"
     ]
    },
    {
     "name": "stdout",
     "output_type": "stream",
     "text": [
      "4000:\tlearn: 0.8743966\ttest: 0.7983905\tbest: 0.7988763 (2974)\ttotal: 17m 15s\tremaining: 4m 18s\n"
     ]
    },
    {
     "name": "stdout",
     "output_type": "stream",
     "text": [
      "4025:\tlearn: 0.8748925\ttest: 0.7985361\tbest: 0.7988763 (2974)\ttotal: 17m 22s\tremaining: 4m 12s\n"
     ]
    },
    {
     "name": "stdout",
     "output_type": "stream",
     "text": [
      "4050:\tlearn: 0.8753144\ttest: 0.7986606\tbest: 0.7988763 (2974)\ttotal: 17m 28s\tremaining: 4m 5s\n"
     ]
    },
    {
     "name": "stdout",
     "output_type": "stream",
     "text": [
      "4075:\tlearn: 0.8758146\ttest: 0.7984312\tbest: 0.7988763 (2974)\ttotal: 17m 35s\tremaining: 3m 59s\n"
     ]
    },
    {
     "name": "stdout",
     "output_type": "stream",
     "text": [
      "4100:\tlearn: 0.8761085\ttest: 0.7984892\tbest: 0.7988763 (2974)\ttotal: 17m 41s\tremaining: 3m 52s\n"
     ]
    },
    {
     "name": "stdout",
     "output_type": "stream",
     "text": [
      "4125:\tlearn: 0.8766198\ttest: 0.7985533\tbest: 0.7988763 (2974)\ttotal: 17m 48s\tremaining: 3m 46s\n"
     ]
    },
    {
     "name": "stdout",
     "output_type": "stream",
     "text": [
      "4150:\tlearn: 0.8770400\ttest: 0.7985534\tbest: 0.7988763 (2974)\ttotal: 17m 54s\tremaining: 3m 39s\n"
     ]
    },
    {
     "name": "stdout",
     "output_type": "stream",
     "text": [
      "4175:\tlearn: 0.8775935\ttest: 0.7981699\tbest: 0.7988763 (2974)\ttotal: 18m 1s\tremaining: 3m 33s\n"
     ]
    },
    {
     "name": "stdout",
     "output_type": "stream",
     "text": [
      "4200:\tlearn: 0.8780686\ttest: 0.7981511\tbest: 0.7988763 (2974)\ttotal: 18m 7s\tremaining: 3m 26s\n"
     ]
    },
    {
     "name": "stdout",
     "output_type": "stream",
     "text": [
      "4225:\tlearn: 0.8783887\ttest: 0.7981296\tbest: 0.7988763 (2974)\ttotal: 18m 14s\tremaining: 3m 20s\n"
     ]
    },
    {
     "name": "stdout",
     "output_type": "stream",
     "text": [
      "4250:\tlearn: 0.8787068\ttest: 0.7981107\tbest: 0.7988763 (2974)\ttotal: 18m 20s\tremaining: 3m 13s\n"
     ]
    },
    {
     "name": "stdout",
     "output_type": "stream",
     "text": [
      "4275:\tlearn: 0.8791202\ttest: 0.7976250\tbest: 0.7988763 (2974)\ttotal: 18m 27s\tremaining: 3m 7s\n"
     ]
    },
    {
     "name": "stdout",
     "output_type": "stream",
     "text": [
      "4300:\tlearn: 0.8794129\ttest: 0.7979636\tbest: 0.7988763 (2974)\ttotal: 18m 33s\tremaining: 3m\n"
     ]
    },
    {
     "name": "stdout",
     "output_type": "stream",
     "text": [
      "4325:\tlearn: 0.8800566\ttest: 0.7980944\tbest: 0.7988763 (2974)\ttotal: 18m 40s\tremaining: 2m 54s\n"
     ]
    },
    {
     "name": "stdout",
     "output_type": "stream",
     "text": [
      "4350:\tlearn: 0.8805827\ttest: 0.7980557\tbest: 0.7988763 (2974)\ttotal: 18m 46s\tremaining: 2m 48s\n"
     ]
    },
    {
     "name": "stdout",
     "output_type": "stream",
     "text": [
      "4375:\tlearn: 0.8809020\ttest: 0.7978647\tbest: 0.7988763 (2974)\ttotal: 18m 53s\tremaining: 2m 41s\n"
     ]
    },
    {
     "name": "stdout",
     "output_type": "stream",
     "text": [
      "4400:\tlearn: 0.8814387\ttest: 0.7983271\tbest: 0.7988763 (2974)\ttotal: 18m 59s\tremaining: 2m 35s\n"
     ]
    },
    {
     "name": "stdout",
     "output_type": "stream",
     "text": [
      "4425:\tlearn: 0.8818187\ttest: 0.7985427\tbest: 0.7988763 (2974)\ttotal: 19m 6s\tremaining: 2m 28s\n"
     ]
    },
    {
     "name": "stdout",
     "output_type": "stream",
     "text": [
      "4450:\tlearn: 0.8823536\ttest: 0.7981882\tbest: 0.7988763 (2974)\ttotal: 19m 12s\tremaining: 2m 22s\n"
     ]
    },
    {
     "name": "stdout",
     "output_type": "stream",
     "text": [
      "4475:\tlearn: 0.8827184\ttest: 0.7981500\tbest: 0.7988763 (2974)\ttotal: 19m 19s\tremaining: 2m 15s\n"
     ]
    },
    {
     "name": "stdout",
     "output_type": "stream",
     "text": [
      "4500:\tlearn: 0.8831362\ttest: 0.7979914\tbest: 0.7988763 (2974)\ttotal: 19m 25s\tremaining: 2m 9s\n"
     ]
    },
    {
     "name": "stdout",
     "output_type": "stream",
     "text": [
      "4525:\tlearn: 0.8835038\ttest: 0.7979882\tbest: 0.7988763 (2974)\ttotal: 19m 31s\tremaining: 2m 2s\n"
     ]
    },
    {
     "name": "stdout",
     "output_type": "stream",
     "text": [
      "4550:\tlearn: 0.8838367\ttest: 0.7980051\tbest: 0.7988763 (2974)\ttotal: 19m 38s\tremaining: 1m 56s\n"
     ]
    },
    {
     "name": "stdout",
     "output_type": "stream",
     "text": [
      "4575:\tlearn: 0.8841678\ttest: 0.7981081\tbest: 0.7988763 (2974)\ttotal: 19m 44s\tremaining: 1m 49s\n"
     ]
    },
    {
     "name": "stdout",
     "output_type": "stream",
     "text": [
      "4600:\tlearn: 0.8845179\ttest: 0.7977718\tbest: 0.7988763 (2974)\ttotal: 19m 51s\tremaining: 1m 43s\n"
     ]
    },
    {
     "name": "stdout",
     "output_type": "stream",
     "text": [
      "4625:\tlearn: 0.8848099\ttest: 0.7984034\tbest: 0.7988763 (2974)\ttotal: 19m 57s\tremaining: 1m 36s\n"
     ]
    },
    {
     "name": "stdout",
     "output_type": "stream",
     "text": [
      "4650:\tlearn: 0.8851357\ttest: 0.7984075\tbest: 0.7988763 (2974)\ttotal: 20m 4s\tremaining: 1m 30s\n"
     ]
    },
    {
     "name": "stdout",
     "output_type": "stream",
     "text": [
      "4675:\tlearn: 0.8856520\ttest: 0.7982147\tbest: 0.7988763 (2974)\ttotal: 20m 10s\tremaining: 1m 23s\n"
     ]
    },
    {
     "name": "stdout",
     "output_type": "stream",
     "text": [
      "4700:\tlearn: 0.8859581\ttest: 0.7980074\tbest: 0.7988763 (2974)\ttotal: 20m 17s\tremaining: 1m 17s\n"
     ]
    },
    {
     "name": "stdout",
     "output_type": "stream",
     "text": [
      "4725:\tlearn: 0.8863854\ttest: 0.7981937\tbest: 0.7988763 (2974)\ttotal: 20m 23s\tremaining: 1m 10s\n"
     ]
    },
    {
     "name": "stdout",
     "output_type": "stream",
     "text": [
      "4750:\tlearn: 0.8867904\ttest: 0.7984642\tbest: 0.7988763 (2974)\ttotal: 20m 30s\tremaining: 1m 4s\n"
     ]
    },
    {
     "name": "stdout",
     "output_type": "stream",
     "text": [
      "4775:\tlearn: 0.8871959\ttest: 0.7980689\tbest: 0.7988763 (2974)\ttotal: 20m 36s\tremaining: 58s\n"
     ]
    },
    {
     "name": "stdout",
     "output_type": "stream",
     "text": [
      "4800:\tlearn: 0.8875607\ttest: 0.7979269\tbest: 0.7988763 (2974)\ttotal: 20m 43s\tremaining: 51.5s\n"
     ]
    },
    {
     "name": "stdout",
     "output_type": "stream",
     "text": [
      "4825:\tlearn: 0.8879448\ttest: 0.7977146\tbest: 0.7988763 (2974)\ttotal: 20m 49s\tremaining: 45.1s\n"
     ]
    },
    {
     "name": "stdout",
     "output_type": "stream",
     "text": [
      "4850:\tlearn: 0.8882825\ttest: 0.7977802\tbest: 0.7988763 (2974)\ttotal: 20m 56s\tremaining: 38.6s\n"
     ]
    },
    {
     "name": "stdout",
     "output_type": "stream",
     "text": [
      "4875:\tlearn: 0.8885628\ttest: 0.7979661\tbest: 0.7988763 (2974)\ttotal: 21m 2s\tremaining: 32.1s\n"
     ]
    },
    {
     "name": "stdout",
     "output_type": "stream",
     "text": [
      "4900:\tlearn: 0.8888998\ttest: 0.7979439\tbest: 0.7988763 (2974)\ttotal: 21m 9s\tremaining: 25.6s\n"
     ]
    },
    {
     "name": "stdout",
     "output_type": "stream",
     "text": [
      "4925:\tlearn: 0.8892755\ttest: 0.7977757\tbest: 0.7988763 (2974)\ttotal: 21m 15s\tremaining: 19.2s\n"
     ]
    },
    {
     "name": "stdout",
     "output_type": "stream",
     "text": [
      "4950:\tlearn: 0.8897350\ttest: 0.7978466\tbest: 0.7988763 (2974)\ttotal: 21m 22s\tremaining: 12.7s\n"
     ]
    },
    {
     "name": "stdout",
     "output_type": "stream",
     "text": [
      "4975:\tlearn: 0.8901683\ttest: 0.7978883\tbest: 0.7988763 (2974)\ttotal: 21m 28s\tremaining: 6.21s\n"
     ]
    },
    {
     "name": "stdout",
     "output_type": "stream",
     "text": [
      "4999:\tlearn: 0.8905506\ttest: 0.7978022\tbest: 0.7988763 (2974)\ttotal: 21m 35s\tremaining: 0us\n",
      "\n",
      "bestTest = 0.7988763069\n",
      "bestIteration = 2974\n",
      "\n"
     ]
    },
    {
     "name": "stdout",
     "output_type": "stream",
     "text": [
      "######################################## training model 4/5 ########################################\n"
     ]
    },
    {
     "name": "stdout",
     "output_type": "stream",
     "text": [
      "0:\tlearn: 0.5641076\ttest: 0.5655136\tbest: 0.5655136 (0)\ttotal: 579ms\tremaining: 48m 14s\n"
     ]
    },
    {
     "name": "stdout",
     "output_type": "stream",
     "text": [
      "25:\tlearn: 0.7260755\ttest: 0.7346393\tbest: 0.7346393 (25)\ttotal: 6.99s\tremaining: 22m 16s\n"
     ]
    },
    {
     "name": "stdout",
     "output_type": "stream",
     "text": [
      "50:\tlearn: 0.7417198\ttest: 0.7503675\tbest: 0.7503675 (50)\ttotal: 13.5s\tremaining: 21m 47s\n"
     ]
    },
    {
     "name": "stdout",
     "output_type": "stream",
     "text": [
      "75:\tlearn: 0.7496836\ttest: 0.7581565\tbest: 0.7581565 (75)\ttotal: 20s\tremaining: 21m 35s\n"
     ]
    },
    {
     "name": "stdout",
     "output_type": "stream",
     "text": [
      "100:\tlearn: 0.7555119\ttest: 0.7623219\tbest: 0.7623219 (100)\ttotal: 26.6s\tremaining: 21m 30s\n"
     ]
    },
    {
     "name": "stdout",
     "output_type": "stream",
     "text": [
      "125:\tlearn: 0.7599452\ttest: 0.7662888\tbest: 0.7662888 (125)\ttotal: 33.1s\tremaining: 21m 19s\n"
     ]
    },
    {
     "name": "stdout",
     "output_type": "stream",
     "text": [
      "150:\tlearn: 0.7623301\ttest: 0.7689436\tbest: 0.7692737 (146)\ttotal: 39.6s\tremaining: 21m 11s\n"
     ]
    },
    {
     "name": "stdout",
     "output_type": "stream",
     "text": [
      "175:\tlearn: 0.7652791\ttest: 0.7720387\tbest: 0.7724047 (172)\ttotal: 46s\tremaining: 21m 1s\n"
     ]
    },
    {
     "name": "stdout",
     "output_type": "stream",
     "text": [
      "200:\tlearn: 0.7675921\ttest: 0.7741928\tbest: 0.7743468 (198)\ttotal: 52.5s\tremaining: 20m 53s\n"
     ]
    },
    {
     "name": "stdout",
     "output_type": "stream",
     "text": [
      "225:\tlearn: 0.7695159\ttest: 0.7760867\tbest: 0.7760867 (225)\ttotal: 59s\tremaining: 20m 46s\n"
     ]
    },
    {
     "name": "stdout",
     "output_type": "stream",
     "text": [
      "250:\tlearn: 0.7718052\ttest: 0.7771726\tbest: 0.7772301 (249)\ttotal: 1m 5s\tremaining: 20m 40s\n"
     ]
    },
    {
     "name": "stdout",
     "output_type": "stream",
     "text": [
      "275:\tlearn: 0.7738602\ttest: 0.7798055\tbest: 0.7798055 (275)\ttotal: 1m 12s\tremaining: 20m 32s\n"
     ]
    },
    {
     "name": "stdout",
     "output_type": "stream",
     "text": [
      "300:\tlearn: 0.7769370\ttest: 0.7826436\tbest: 0.7827061 (299)\ttotal: 1m 18s\tremaining: 20m 26s\n"
     ]
    },
    {
     "name": "stdout",
     "output_type": "stream",
     "text": [
      "325:\tlearn: 0.7799738\ttest: 0.7859506\tbest: 0.7859948 (324)\ttotal: 1m 25s\tremaining: 20m 19s\n"
     ]
    },
    {
     "name": "stdout",
     "output_type": "stream",
     "text": [
      "350:\tlearn: 0.7825277\ttest: 0.7872584\tbest: 0.7873451 (348)\ttotal: 1m 31s\tremaining: 20m 13s\n"
     ]
    },
    {
     "name": "stdout",
     "output_type": "stream",
     "text": [
      "375:\tlearn: 0.7844727\ttest: 0.7887375\tbest: 0.7890957 (371)\ttotal: 1m 38s\tremaining: 20m 7s\n"
     ]
    },
    {
     "name": "stdout",
     "output_type": "stream",
     "text": [
      "400:\tlearn: 0.7866497\ttest: 0.7908209\tbest: 0.7908209 (400)\ttotal: 1m 44s\tremaining: 20m\n"
     ]
    },
    {
     "name": "stdout",
     "output_type": "stream",
     "text": [
      "425:\tlearn: 0.7884124\ttest: 0.7920014\tbest: 0.7920014 (425)\ttotal: 1m 51s\tremaining: 19m 53s\n"
     ]
    },
    {
     "name": "stdout",
     "output_type": "stream",
     "text": [
      "450:\tlearn: 0.7898615\ttest: 0.7930523\tbest: 0.7931172 (448)\ttotal: 1m 57s\tremaining: 19m 46s\n"
     ]
    },
    {
     "name": "stdout",
     "output_type": "stream",
     "text": [
      "475:\tlearn: 0.7914631\ttest: 0.7938981\tbest: 0.7940368 (470)\ttotal: 2m 4s\tremaining: 19m 40s\n"
     ]
    },
    {
     "name": "stdout",
     "output_type": "stream",
     "text": [
      "500:\tlearn: 0.7926142\ttest: 0.7942551\tbest: 0.7945253 (495)\ttotal: 2m 10s\tremaining: 19m 33s\n"
     ]
    },
    {
     "name": "stdout",
     "output_type": "stream",
     "text": [
      "525:\tlearn: 0.7938148\ttest: 0.7948623\tbest: 0.7950831 (522)\ttotal: 2m 17s\tremaining: 19m 27s\n"
     ]
    },
    {
     "name": "stdout",
     "output_type": "stream",
     "text": [
      "550:\tlearn: 0.7949227\ttest: 0.7954271\tbest: 0.7954271 (550)\ttotal: 2m 23s\tremaining: 19m 20s\n"
     ]
    },
    {
     "name": "stdout",
     "output_type": "stream",
     "text": [
      "575:\tlearn: 0.7961354\ttest: 0.7956754\tbest: 0.7958210 (570)\ttotal: 2m 30s\tremaining: 19m 13s\n"
     ]
    },
    {
     "name": "stdout",
     "output_type": "stream",
     "text": [
      "600:\tlearn: 0.7974133\ttest: 0.7969208\tbest: 0.7969591 (599)\ttotal: 2m 36s\tremaining: 19m 7s\n"
     ]
    },
    {
     "name": "stdout",
     "output_type": "stream",
     "text": [
      "625:\tlearn: 0.7987075\ttest: 0.7973560\tbest: 0.7976242 (619)\ttotal: 2m 43s\tremaining: 19m\n"
     ]
    },
    {
     "name": "stdout",
     "output_type": "stream",
     "text": [
      "650:\tlearn: 0.7997651\ttest: 0.7975610\tbest: 0.7976608 (649)\ttotal: 2m 49s\tremaining: 18m 53s\n"
     ]
    },
    {
     "name": "stdout",
     "output_type": "stream",
     "text": [
      "675:\tlearn: 0.8009135\ttest: 0.7979207\tbest: 0.7979207 (675)\ttotal: 2m 56s\tremaining: 18m 46s\n"
     ]
    },
    {
     "name": "stdout",
     "output_type": "stream",
     "text": [
      "700:\tlearn: 0.8017304\ttest: 0.7981871\tbest: 0.7986657 (693)\ttotal: 3m 2s\tremaining: 18m 39s\n"
     ]
    },
    {
     "name": "stdout",
     "output_type": "stream",
     "text": [
      "725:\tlearn: 0.8026885\ttest: 0.7985774\tbest: 0.7989882 (719)\ttotal: 3m 9s\tremaining: 18m 33s\n"
     ]
    },
    {
     "name": "stdout",
     "output_type": "stream",
     "text": [
      "750:\tlearn: 0.8039518\ttest: 0.7988309\tbest: 0.7989882 (719)\ttotal: 3m 15s\tremaining: 18m 27s\n"
     ]
    },
    {
     "name": "stdout",
     "output_type": "stream",
     "text": [
      "775:\tlearn: 0.8047311\ttest: 0.7991623\tbest: 0.7994520 (771)\ttotal: 3m 22s\tremaining: 18m 20s\n"
     ]
    },
    {
     "name": "stdout",
     "output_type": "stream",
     "text": [
      "800:\tlearn: 0.8056394\ttest: 0.7997559\tbest: 0.8001082 (792)\ttotal: 3m 28s\tremaining: 18m 14s\n"
     ]
    },
    {
     "name": "stdout",
     "output_type": "stream",
     "text": [
      "825:\tlearn: 0.8064773\ttest: 0.7990890\tbest: 0.8001082 (792)\ttotal: 3m 35s\tremaining: 18m 7s\n"
     ]
    },
    {
     "name": "stdout",
     "output_type": "stream",
     "text": [
      "850:\tlearn: 0.8070422\ttest: 0.7995537\tbest: 0.8001082 (792)\ttotal: 3m 41s\tremaining: 18m 1s\n"
     ]
    },
    {
     "name": "stdout",
     "output_type": "stream",
     "text": [
      "875:\tlearn: 0.8077776\ttest: 0.8001362\tbest: 0.8001368 (874)\ttotal: 3m 48s\tremaining: 17m 54s\n"
     ]
    },
    {
     "name": "stdout",
     "output_type": "stream",
     "text": [
      "900:\tlearn: 0.8086324\ttest: 0.8003848\tbest: 0.8004644 (898)\ttotal: 3m 54s\tremaining: 17m 47s\n"
     ]
    },
    {
     "name": "stdout",
     "output_type": "stream",
     "text": [
      "925:\tlearn: 0.8094073\ttest: 0.8003568\tbest: 0.8007106 (923)\ttotal: 4m 1s\tremaining: 17m 41s\n"
     ]
    },
    {
     "name": "stdout",
     "output_type": "stream",
     "text": [
      "950:\tlearn: 0.8100213\ttest: 0.8011502\tbest: 0.8011502 (950)\ttotal: 4m 7s\tremaining: 17m 34s\n"
     ]
    },
    {
     "name": "stdout",
     "output_type": "stream",
     "text": [
      "975:\tlearn: 0.8102633\ttest: 0.8010413\tbest: 0.8011915 (951)\ttotal: 4m 14s\tremaining: 17m 27s\n"
     ]
    },
    {
     "name": "stdout",
     "output_type": "stream",
     "text": [
      "1000:\tlearn: 0.8110340\ttest: 0.8009325\tbest: 0.8012213 (996)\ttotal: 4m 20s\tremaining: 17m 21s\n"
     ]
    },
    {
     "name": "stdout",
     "output_type": "stream",
     "text": [
      "1025:\tlearn: 0.8118414\ttest: 0.8011394\tbest: 0.8014644 (1016)\ttotal: 4m 27s\tremaining: 17m 14s\n"
     ]
    },
    {
     "name": "stdout",
     "output_type": "stream",
     "text": [
      "1050:\tlearn: 0.8128105\ttest: 0.8017731\tbest: 0.8018134 (1049)\ttotal: 4m 33s\tremaining: 17m 7s\n"
     ]
    },
    {
     "name": "stdout",
     "output_type": "stream",
     "text": [
      "1075:\tlearn: 0.8134107\ttest: 0.8014234\tbest: 0.8020636 (1062)\ttotal: 4m 39s\tremaining: 17m 1s\n"
     ]
    },
    {
     "name": "stdout",
     "output_type": "stream",
     "text": [
      "1100:\tlearn: 0.8141750\ttest: 0.8015601\tbest: 0.8020636 (1062)\ttotal: 4m 46s\tremaining: 16m 54s\n"
     ]
    },
    {
     "name": "stdout",
     "output_type": "stream",
     "text": [
      "1125:\tlearn: 0.8148965\ttest: 0.8014770\tbest: 0.8020636 (1062)\ttotal: 4m 53s\tremaining: 16m 48s\n"
     ]
    },
    {
     "name": "stdout",
     "output_type": "stream",
     "text": [
      "1150:\tlearn: 0.8153773\ttest: 0.8016177\tbest: 0.8020636 (1062)\ttotal: 4m 59s\tremaining: 16m 41s\n"
     ]
    },
    {
     "name": "stdout",
     "output_type": "stream",
     "text": [
      "1175:\tlearn: 0.8159959\ttest: 0.8014724\tbest: 0.8020636 (1062)\ttotal: 5m 5s\tremaining: 16m 34s\n"
     ]
    },
    {
     "name": "stdout",
     "output_type": "stream",
     "text": [
      "1200:\tlearn: 0.8165794\ttest: 0.8015533\tbest: 0.8020636 (1062)\ttotal: 5m 12s\tremaining: 16m 28s\n"
     ]
    },
    {
     "name": "stdout",
     "output_type": "stream",
     "text": [
      "1225:\tlearn: 0.8172832\ttest: 0.8021899\tbest: 0.8022311 (1224)\ttotal: 5m 18s\tremaining: 16m 21s\n"
     ]
    },
    {
     "name": "stdout",
     "output_type": "stream",
     "text": [
      "1250:\tlearn: 0.8177725\ttest: 0.8019299\tbest: 0.8023838 (1234)\ttotal: 5m 25s\tremaining: 16m 15s\n"
     ]
    },
    {
     "name": "stdout",
     "output_type": "stream",
     "text": [
      "1275:\tlearn: 0.8185095\ttest: 0.8018194\tbest: 0.8023838 (1234)\ttotal: 5m 31s\tremaining: 16m 8s\n"
     ]
    },
    {
     "name": "stdout",
     "output_type": "stream",
     "text": [
      "1300:\tlearn: 0.8190047\ttest: 0.8023220\tbest: 0.8023838 (1234)\ttotal: 5m 38s\tremaining: 16m 1s\n"
     ]
    },
    {
     "name": "stdout",
     "output_type": "stream",
     "text": [
      "1325:\tlearn: 0.8196894\ttest: 0.8022821\tbest: 0.8023838 (1234)\ttotal: 5m 44s\tremaining: 15m 55s\n"
     ]
    },
    {
     "name": "stdout",
     "output_type": "stream",
     "text": [
      "1350:\tlearn: 0.8206433\ttest: 0.8019381\tbest: 0.8023838 (1234)\ttotal: 5m 51s\tremaining: 15m 48s\n"
     ]
    },
    {
     "name": "stdout",
     "output_type": "stream",
     "text": [
      "1375:\tlearn: 0.8209151\ttest: 0.8015299\tbest: 0.8023838 (1234)\ttotal: 5m 57s\tremaining: 15m 42s\n"
     ]
    },
    {
     "name": "stdout",
     "output_type": "stream",
     "text": [
      "1400:\tlearn: 0.8214242\ttest: 0.8018206\tbest: 0.8023838 (1234)\ttotal: 6m 4s\tremaining: 15m 35s\n"
     ]
    },
    {
     "name": "stdout",
     "output_type": "stream",
     "text": [
      "1425:\tlearn: 0.8220531\ttest: 0.8017755\tbest: 0.8023838 (1234)\ttotal: 6m 10s\tremaining: 15m 29s\n"
     ]
    },
    {
     "name": "stdout",
     "output_type": "stream",
     "text": [
      "1450:\tlearn: 0.8227984\ttest: 0.8019425\tbest: 0.8023838 (1234)\ttotal: 6m 17s\tremaining: 15m 22s\n"
     ]
    },
    {
     "name": "stdout",
     "output_type": "stream",
     "text": [
      "1475:\tlearn: 0.8233771\ttest: 0.8018712\tbest: 0.8023838 (1234)\ttotal: 6m 23s\tremaining: 15m 16s\n"
     ]
    },
    {
     "name": "stdout",
     "output_type": "stream",
     "text": [
      "1500:\tlearn: 0.8240938\ttest: 0.8021002\tbest: 0.8023838 (1234)\ttotal: 6m 30s\tremaining: 15m 9s\n"
     ]
    },
    {
     "name": "stdout",
     "output_type": "stream",
     "text": [
      "1525:\tlearn: 0.8246053\ttest: 0.8021500\tbest: 0.8023838 (1234)\ttotal: 6m 36s\tremaining: 15m 3s\n"
     ]
    },
    {
     "name": "stdout",
     "output_type": "stream",
     "text": [
      "1550:\tlearn: 0.8252872\ttest: 0.8015072\tbest: 0.8023838 (1234)\ttotal: 6m 43s\tremaining: 14m 56s\n"
     ]
    },
    {
     "name": "stdout",
     "output_type": "stream",
     "text": [
      "1575:\tlearn: 0.8259631\ttest: 0.8014598\tbest: 0.8023838 (1234)\ttotal: 6m 49s\tremaining: 14m 49s\n"
     ]
    },
    {
     "name": "stdout",
     "output_type": "stream",
     "text": [
      "1600:\tlearn: 0.8265173\ttest: 0.8016863\tbest: 0.8023838 (1234)\ttotal: 6m 56s\tremaining: 14m 43s\n"
     ]
    },
    {
     "name": "stdout",
     "output_type": "stream",
     "text": [
      "1625:\tlearn: 0.8270622\ttest: 0.8014366\tbest: 0.8023838 (1234)\ttotal: 7m 2s\tremaining: 14m 36s\n"
     ]
    },
    {
     "name": "stdout",
     "output_type": "stream",
     "text": [
      "1650:\tlearn: 0.8273872\ttest: 0.8017112\tbest: 0.8023838 (1234)\ttotal: 7m 9s\tremaining: 14m 30s\n"
     ]
    },
    {
     "name": "stdout",
     "output_type": "stream",
     "text": [
      "1675:\tlearn: 0.8281148\ttest: 0.8015324\tbest: 0.8023838 (1234)\ttotal: 7m 15s\tremaining: 14m 23s\n"
     ]
    },
    {
     "name": "stdout",
     "output_type": "stream",
     "text": [
      "1700:\tlearn: 0.8287327\ttest: 0.8018675\tbest: 0.8023838 (1234)\ttotal: 7m 21s\tremaining: 14m 17s\n"
     ]
    },
    {
     "name": "stdout",
     "output_type": "stream",
     "text": [
      "1725:\tlearn: 0.8293475\ttest: 0.8015588\tbest: 0.8023838 (1234)\ttotal: 7m 28s\tremaining: 14m 10s\n"
     ]
    },
    {
     "name": "stdout",
     "output_type": "stream",
     "text": [
      "1750:\tlearn: 0.8299568\ttest: 0.8019447\tbest: 0.8023838 (1234)\ttotal: 7m 34s\tremaining: 14m 3s\n"
     ]
    },
    {
     "name": "stdout",
     "output_type": "stream",
     "text": [
      "1775:\tlearn: 0.8304480\ttest: 0.8024156\tbest: 0.8024156 (1775)\ttotal: 7m 41s\tremaining: 13m 57s\n"
     ]
    },
    {
     "name": "stdout",
     "output_type": "stream",
     "text": [
      "1800:\tlearn: 0.8308384\ttest: 0.8019035\tbest: 0.8024156 (1775)\ttotal: 7m 47s\tremaining: 13m 50s\n"
     ]
    },
    {
     "name": "stdout",
     "output_type": "stream",
     "text": [
      "1825:\tlearn: 0.8315035\ttest: 0.8021653\tbest: 0.8024156 (1775)\ttotal: 7m 54s\tremaining: 13m 44s\n"
     ]
    },
    {
     "name": "stdout",
     "output_type": "stream",
     "text": [
      "1850:\tlearn: 0.8324365\ttest: 0.8024265\tbest: 0.8025332 (1849)\ttotal: 8m\tremaining: 13m 37s\n"
     ]
    },
    {
     "name": "stdout",
     "output_type": "stream",
     "text": [
      "1875:\tlearn: 0.8330713\ttest: 0.8021637\tbest: 0.8026015 (1856)\ttotal: 8m 7s\tremaining: 13m 31s\n"
     ]
    },
    {
     "name": "stdout",
     "output_type": "stream",
     "text": [
      "1900:\tlearn: 0.8335424\ttest: 0.8020643\tbest: 0.8026015 (1856)\ttotal: 8m 13s\tremaining: 13m 24s\n"
     ]
    },
    {
     "name": "stdout",
     "output_type": "stream",
     "text": [
      "1925:\tlearn: 0.8337988\ttest: 0.8020941\tbest: 0.8026015 (1856)\ttotal: 8m 20s\tremaining: 13m 18s\n"
     ]
    },
    {
     "name": "stdout",
     "output_type": "stream",
     "text": [
      "1950:\tlearn: 0.8341039\ttest: 0.8020559\tbest: 0.8026015 (1856)\ttotal: 8m 26s\tremaining: 13m 11s\n"
     ]
    },
    {
     "name": "stdout",
     "output_type": "stream",
     "text": [
      "1975:\tlearn: 0.8348683\ttest: 0.8023644\tbest: 0.8026015 (1856)\ttotal: 8m 33s\tremaining: 13m 5s\n"
     ]
    },
    {
     "name": "stdout",
     "output_type": "stream",
     "text": [
      "2000:\tlearn: 0.8356284\ttest: 0.8022895\tbest: 0.8026015 (1856)\ttotal: 8m 39s\tremaining: 12m 58s\n"
     ]
    },
    {
     "name": "stdout",
     "output_type": "stream",
     "text": [
      "2025:\tlearn: 0.8361576\ttest: 0.8021053\tbest: 0.8026015 (1856)\ttotal: 8m 45s\tremaining: 12m 52s\n"
     ]
    },
    {
     "name": "stdout",
     "output_type": "stream",
     "text": [
      "2050:\tlearn: 0.8367248\ttest: 0.8020962\tbest: 0.8026015 (1856)\ttotal: 8m 52s\tremaining: 12m 45s\n"
     ]
    },
    {
     "name": "stdout",
     "output_type": "stream",
     "text": [
      "2075:\tlearn: 0.8375404\ttest: 0.8024154\tbest: 0.8026015 (1856)\ttotal: 8m 58s\tremaining: 12m 39s\n"
     ]
    },
    {
     "name": "stdout",
     "output_type": "stream",
     "text": [
      "2100:\tlearn: 0.8380713\ttest: 0.8024640\tbest: 0.8026015 (1856)\ttotal: 9m 5s\tremaining: 12m 32s\n"
     ]
    },
    {
     "name": "stdout",
     "output_type": "stream",
     "text": [
      "2125:\tlearn: 0.8386474\ttest: 0.8022043\tbest: 0.8026015 (1856)\ttotal: 9m 11s\tremaining: 12m 26s\n"
     ]
    },
    {
     "name": "stdout",
     "output_type": "stream",
     "text": [
      "2150:\tlearn: 0.8391386\ttest: 0.8025660\tbest: 0.8026286 (2145)\ttotal: 9m 18s\tremaining: 12m 19s\n"
     ]
    },
    {
     "name": "stdout",
     "output_type": "stream",
     "text": [
      "2175:\tlearn: 0.8395272\ttest: 0.8025503\tbest: 0.8028036 (2169)\ttotal: 9m 24s\tremaining: 12m 12s\n"
     ]
    },
    {
     "name": "stdout",
     "output_type": "stream",
     "text": [
      "2200:\tlearn: 0.8400023\ttest: 0.8026048\tbest: 0.8030018 (2193)\ttotal: 9m 31s\tremaining: 12m 6s\n"
     ]
    },
    {
     "name": "stdout",
     "output_type": "stream",
     "text": [
      "2225:\tlearn: 0.8404780\ttest: 0.8025222\tbest: 0.8030018 (2193)\ttotal: 9m 37s\tremaining: 11m 59s\n"
     ]
    },
    {
     "name": "stdout",
     "output_type": "stream",
     "text": [
      "2250:\tlearn: 0.8409519\ttest: 0.8021935\tbest: 0.8030018 (2193)\ttotal: 9m 44s\tremaining: 11m 53s\n"
     ]
    },
    {
     "name": "stdout",
     "output_type": "stream",
     "text": [
      "2275:\tlearn: 0.8414135\ttest: 0.8027303\tbest: 0.8030018 (2193)\ttotal: 9m 50s\tremaining: 11m 46s\n"
     ]
    },
    {
     "name": "stdout",
     "output_type": "stream",
     "text": [
      "2300:\tlearn: 0.8420642\ttest: 0.8026327\tbest: 0.8030018 (2193)\ttotal: 9m 57s\tremaining: 11m 40s\n"
     ]
    },
    {
     "name": "stdout",
     "output_type": "stream",
     "text": [
      "2325:\tlearn: 0.8426148\ttest: 0.8026251\tbest: 0.8030018 (2193)\ttotal: 10m 3s\tremaining: 11m 33s\n"
     ]
    },
    {
     "name": "stdout",
     "output_type": "stream",
     "text": [
      "2350:\tlearn: 0.8432058\ttest: 0.8025717\tbest: 0.8030018 (2193)\ttotal: 10m 10s\tremaining: 11m 27s\n"
     ]
    },
    {
     "name": "stdout",
     "output_type": "stream",
     "text": [
      "2375:\tlearn: 0.8434131\ttest: 0.8026986\tbest: 0.8030018 (2193)\ttotal: 10m 16s\tremaining: 11m 20s\n"
     ]
    },
    {
     "name": "stdout",
     "output_type": "stream",
     "text": [
      "2400:\tlearn: 0.8439900\ttest: 0.8025808\tbest: 0.8030018 (2193)\ttotal: 10m 23s\tremaining: 11m 14s\n"
     ]
    },
    {
     "name": "stdout",
     "output_type": "stream",
     "text": [
      "2425:\tlearn: 0.8444595\ttest: 0.8026742\tbest: 0.8030018 (2193)\ttotal: 10m 29s\tremaining: 11m 7s\n"
     ]
    },
    {
     "name": "stdout",
     "output_type": "stream",
     "text": [
      "2450:\tlearn: 0.8451137\ttest: 0.8028481\tbest: 0.8030018 (2193)\ttotal: 10m 36s\tremaining: 11m 1s\n"
     ]
    },
    {
     "name": "stdout",
     "output_type": "stream",
     "text": [
      "2475:\tlearn: 0.8453717\ttest: 0.8026877\tbest: 0.8030018 (2193)\ttotal: 10m 42s\tremaining: 10m 54s\n"
     ]
    },
    {
     "name": "stdout",
     "output_type": "stream",
     "text": [
      "2500:\tlearn: 0.8458103\ttest: 0.8027157\tbest: 0.8030018 (2193)\ttotal: 10m 48s\tremaining: 10m 48s\n"
     ]
    },
    {
     "name": "stdout",
     "output_type": "stream",
     "text": [
      "2525:\tlearn: 0.8462943\ttest: 0.8025503\tbest: 0.8030018 (2193)\ttotal: 10m 55s\tremaining: 10m 41s\n"
     ]
    },
    {
     "name": "stdout",
     "output_type": "stream",
     "text": [
      "2550:\tlearn: 0.8468629\ttest: 0.8023694\tbest: 0.8030018 (2193)\ttotal: 11m 1s\tremaining: 10m 35s\n"
     ]
    },
    {
     "name": "stdout",
     "output_type": "stream",
     "text": [
      "2575:\tlearn: 0.8475006\ttest: 0.8025263\tbest: 0.8030018 (2193)\ttotal: 11m 8s\tremaining: 10m 28s\n"
     ]
    },
    {
     "name": "stdout",
     "output_type": "stream",
     "text": [
      "2600:\tlearn: 0.8480493\ttest: 0.8027242\tbest: 0.8030018 (2193)\ttotal: 11m 14s\tremaining: 10m 22s\n"
     ]
    },
    {
     "name": "stdout",
     "output_type": "stream",
     "text": [
      "2625:\tlearn: 0.8485126\ttest: 0.8025172\tbest: 0.8030018 (2193)\ttotal: 11m 21s\tremaining: 10m 16s\n"
     ]
    },
    {
     "name": "stdout",
     "output_type": "stream",
     "text": [
      "2650:\tlearn: 0.8491533\ttest: 0.8023367\tbest: 0.8030018 (2193)\ttotal: 11m 27s\tremaining: 10m 9s\n"
     ]
    },
    {
     "name": "stdout",
     "output_type": "stream",
     "text": [
      "2675:\tlearn: 0.8496542\ttest: 0.8023328\tbest: 0.8030018 (2193)\ttotal: 11m 34s\tremaining: 10m 3s\n"
     ]
    },
    {
     "name": "stdout",
     "output_type": "stream",
     "text": [
      "2700:\tlearn: 0.8501665\ttest: 0.8020212\tbest: 0.8030018 (2193)\ttotal: 11m 40s\tremaining: 9m 56s\n"
     ]
    },
    {
     "name": "stdout",
     "output_type": "stream",
     "text": [
      "2725:\tlearn: 0.8506806\ttest: 0.8027017\tbest: 0.8030018 (2193)\ttotal: 11m 47s\tremaining: 9m 50s\n"
     ]
    },
    {
     "name": "stdout",
     "output_type": "stream",
     "text": [
      "2750:\tlearn: 0.8512517\ttest: 0.8026456\tbest: 0.8030018 (2193)\ttotal: 11m 53s\tremaining: 9m 43s\n"
     ]
    },
    {
     "name": "stdout",
     "output_type": "stream",
     "text": [
      "2775:\tlearn: 0.8513704\ttest: 0.8029240\tbest: 0.8031291 (2755)\ttotal: 12m\tremaining: 9m 37s\n"
     ]
    },
    {
     "name": "stdout",
     "output_type": "stream",
     "text": [
      "2800:\tlearn: 0.8519240\ttest: 0.8029140\tbest: 0.8031291 (2755)\ttotal: 12m 6s\tremaining: 9m 30s\n"
     ]
    },
    {
     "name": "stdout",
     "output_type": "stream",
     "text": [
      "2825:\tlearn: 0.8526053\ttest: 0.8031923\tbest: 0.8032321 (2814)\ttotal: 12m 13s\tremaining: 9m 24s\n"
     ]
    },
    {
     "name": "stdout",
     "output_type": "stream",
     "text": [
      "2850:\tlearn: 0.8533782\ttest: 0.8032152\tbest: 0.8035321 (2846)\ttotal: 12m 19s\tremaining: 9m 17s\n"
     ]
    },
    {
     "name": "stdout",
     "output_type": "stream",
     "text": [
      "2875:\tlearn: 0.8539730\ttest: 0.8029787\tbest: 0.8035321 (2846)\ttotal: 12m 26s\tremaining: 9m 11s\n"
     ]
    },
    {
     "name": "stdout",
     "output_type": "stream",
     "text": [
      "2900:\tlearn: 0.8544530\ttest: 0.8035080\tbest: 0.8035491 (2895)\ttotal: 12m 32s\tremaining: 9m 4s\n"
     ]
    },
    {
     "name": "stdout",
     "output_type": "stream",
     "text": [
      "2925:\tlearn: 0.8550686\ttest: 0.8033034\tbest: 0.8036792 (2903)\ttotal: 12m 39s\tremaining: 8m 58s\n"
     ]
    },
    {
     "name": "stdout",
     "output_type": "stream",
     "text": [
      "2950:\tlearn: 0.8555260\ttest: 0.8031832\tbest: 0.8036792 (2903)\ttotal: 12m 45s\tremaining: 8m 51s\n"
     ]
    },
    {
     "name": "stdout",
     "output_type": "stream",
     "text": [
      "2975:\tlearn: 0.8559934\ttest: 0.8033771\tbest: 0.8038406 (2971)\ttotal: 12m 52s\tremaining: 8m 45s\n"
     ]
    },
    {
     "name": "stdout",
     "output_type": "stream",
     "text": [
      "3000:\tlearn: 0.8565441\ttest: 0.8035114\tbest: 0.8038406 (2971)\ttotal: 12m 58s\tremaining: 8m 38s\n"
     ]
    },
    {
     "name": "stdout",
     "output_type": "stream",
     "text": [
      "3025:\tlearn: 0.8568853\ttest: 0.8034164\tbest: 0.8038406 (2971)\ttotal: 13m 5s\tremaining: 8m 32s\n"
     ]
    },
    {
     "name": "stdout",
     "output_type": "stream",
     "text": [
      "3050:\tlearn: 0.8572131\ttest: 0.8038246\tbest: 0.8038406 (2971)\ttotal: 13m 11s\tremaining: 8m 25s\n"
     ]
    },
    {
     "name": "stdout",
     "output_type": "stream",
     "text": [
      "3075:\tlearn: 0.8576394\ttest: 0.8040412\tbest: 0.8040412 (3075)\ttotal: 13m 17s\tremaining: 8m 19s\n"
     ]
    },
    {
     "name": "stdout",
     "output_type": "stream",
     "text": [
      "3100:\tlearn: 0.8579663\ttest: 0.8038215\tbest: 0.8040429 (3081)\ttotal: 13m 24s\tremaining: 8m 12s\n"
     ]
    },
    {
     "name": "stdout",
     "output_type": "stream",
     "text": [
      "3125:\tlearn: 0.8585875\ttest: 0.8037649\tbest: 0.8041228 (3115)\ttotal: 13m 30s\tremaining: 8m 6s\n"
     ]
    },
    {
     "name": "stdout",
     "output_type": "stream",
     "text": [
      "3150:\tlearn: 0.8590872\ttest: 0.8035964\tbest: 0.8041228 (3115)\ttotal: 13m 37s\tremaining: 7m 59s\n"
     ]
    },
    {
     "name": "stdout",
     "output_type": "stream",
     "text": [
      "3175:\tlearn: 0.8597170\ttest: 0.8038364\tbest: 0.8041270 (3156)\ttotal: 13m 43s\tremaining: 7m 53s\n"
     ]
    },
    {
     "name": "stdout",
     "output_type": "stream",
     "text": [
      "3200:\tlearn: 0.8601419\ttest: 0.8037133\tbest: 0.8041270 (3156)\ttotal: 13m 50s\tremaining: 7m 46s\n"
     ]
    },
    {
     "name": "stdout",
     "output_type": "stream",
     "text": [
      "3225:\tlearn: 0.8606275\ttest: 0.8039491\tbest: 0.8041270 (3156)\ttotal: 13m 56s\tremaining: 7m 40s\n"
     ]
    },
    {
     "name": "stdout",
     "output_type": "stream",
     "text": [
      "3250:\tlearn: 0.8610829\ttest: 0.8040544\tbest: 0.8041555 (3238)\ttotal: 14m 3s\tremaining: 7m 33s\n"
     ]
    },
    {
     "name": "stdout",
     "output_type": "stream",
     "text": [
      "3275:\tlearn: 0.8615912\ttest: 0.8040572\tbest: 0.8042256 (3264)\ttotal: 14m 9s\tremaining: 7m 27s\n"
     ]
    },
    {
     "name": "stdout",
     "output_type": "stream",
     "text": [
      "3300:\tlearn: 0.8619113\ttest: 0.8041472\tbest: 0.8042256 (3264)\ttotal: 14m 16s\tremaining: 7m 20s\n"
     ]
    },
    {
     "name": "stdout",
     "output_type": "stream",
     "text": [
      "3325:\tlearn: 0.8625274\ttest: 0.8038835\tbest: 0.8042256 (3264)\ttotal: 14m 22s\tremaining: 7m 14s\n"
     ]
    },
    {
     "name": "stdout",
     "output_type": "stream",
     "text": [
      "3350:\tlearn: 0.8628125\ttest: 0.8038851\tbest: 0.8042256 (3264)\ttotal: 14m 29s\tremaining: 7m 7s\n"
     ]
    },
    {
     "name": "stdout",
     "output_type": "stream",
     "text": [
      "3375:\tlearn: 0.8633631\ttest: 0.8037934\tbest: 0.8042256 (3264)\ttotal: 14m 35s\tremaining: 7m 1s\n"
     ]
    },
    {
     "name": "stdout",
     "output_type": "stream",
     "text": [
      "3400:\tlearn: 0.8639209\ttest: 0.8037797\tbest: 0.8042256 (3264)\ttotal: 14m 42s\tremaining: 6m 54s\n"
     ]
    },
    {
     "name": "stdout",
     "output_type": "stream",
     "text": [
      "3425:\tlearn: 0.8642655\ttest: 0.8040114\tbest: 0.8042256 (3264)\ttotal: 14m 48s\tremaining: 6m 48s\n"
     ]
    },
    {
     "name": "stdout",
     "output_type": "stream",
     "text": [
      "3450:\tlearn: 0.8647753\ttest: 0.8042270\tbest: 0.8043065 (3442)\ttotal: 14m 55s\tremaining: 6m 41s\n"
     ]
    },
    {
     "name": "stdout",
     "output_type": "stream",
     "text": [
      "3475:\tlearn: 0.8651892\ttest: 0.8045474\tbest: 0.8045474 (3475)\ttotal: 15m 1s\tremaining: 6m 35s\n"
     ]
    },
    {
     "name": "stdout",
     "output_type": "stream",
     "text": [
      "3500:\tlearn: 0.8656024\ttest: 0.8043336\tbest: 0.8045883 (3477)\ttotal: 15m 8s\tremaining: 6m 28s\n"
     ]
    },
    {
     "name": "stdout",
     "output_type": "stream",
     "text": [
      "3525:\tlearn: 0.8660375\ttest: 0.8042549\tbest: 0.8045883 (3477)\ttotal: 15m 14s\tremaining: 6m 22s\n"
     ]
    },
    {
     "name": "stdout",
     "output_type": "stream",
     "text": [
      "3550:\tlearn: 0.8663477\ttest: 0.8041553\tbest: 0.8045883 (3477)\ttotal: 15m 21s\tremaining: 6m 15s\n"
     ]
    },
    {
     "name": "stdout",
     "output_type": "stream",
     "text": [
      "3575:\tlearn: 0.8668141\ttest: 0.8037548\tbest: 0.8045883 (3477)\ttotal: 15m 27s\tremaining: 6m 9s\n"
     ]
    },
    {
     "name": "stdout",
     "output_type": "stream",
     "text": [
      "3600:\tlearn: 0.8671494\ttest: 0.8038882\tbest: 0.8045883 (3477)\ttotal: 15m 34s\tremaining: 6m 2s\n"
     ]
    },
    {
     "name": "stdout",
     "output_type": "stream",
     "text": [
      "3625:\tlearn: 0.8679224\ttest: 0.8040340\tbest: 0.8045883 (3477)\ttotal: 15m 40s\tremaining: 5m 56s\n"
     ]
    },
    {
     "name": "stdout",
     "output_type": "stream",
     "text": [
      "3650:\tlearn: 0.8682522\ttest: 0.8042732\tbest: 0.8045883 (3477)\ttotal: 15m 47s\tremaining: 5m 49s\n"
     ]
    },
    {
     "name": "stdout",
     "output_type": "stream",
     "text": [
      "3675:\tlearn: 0.8686775\ttest: 0.8037065\tbest: 0.8045883 (3477)\ttotal: 15m 53s\tremaining: 5m 43s\n"
     ]
    },
    {
     "name": "stdout",
     "output_type": "stream",
     "text": [
      "3700:\tlearn: 0.8692592\ttest: 0.8038784\tbest: 0.8045883 (3477)\ttotal: 16m\tremaining: 5m 36s\n"
     ]
    },
    {
     "name": "stdout",
     "output_type": "stream",
     "text": [
      "3725:\tlearn: 0.8697254\ttest: 0.8041577\tbest: 0.8045883 (3477)\ttotal: 16m 6s\tremaining: 5m 30s\n"
     ]
    },
    {
     "name": "stdout",
     "output_type": "stream",
     "text": [
      "3750:\tlearn: 0.8701158\ttest: 0.8037635\tbest: 0.8045883 (3477)\ttotal: 16m 13s\tremaining: 5m 24s\n"
     ]
    },
    {
     "name": "stdout",
     "output_type": "stream",
     "text": [
      "3775:\tlearn: 0.8707250\ttest: 0.8034077\tbest: 0.8045883 (3477)\ttotal: 16m 19s\tremaining: 5m 17s\n"
     ]
    },
    {
     "name": "stdout",
     "output_type": "stream",
     "text": [
      "3800:\tlearn: 0.8710711\ttest: 0.8033686\tbest: 0.8045883 (3477)\ttotal: 16m 26s\tremaining: 5m 11s\n"
     ]
    },
    {
     "name": "stdout",
     "output_type": "stream",
     "text": [
      "3825:\tlearn: 0.8715711\ttest: 0.8032898\tbest: 0.8045883 (3477)\ttotal: 16m 32s\tremaining: 5m 4s\n"
     ]
    },
    {
     "name": "stdout",
     "output_type": "stream",
     "text": [
      "3850:\tlearn: 0.8718137\ttest: 0.8034366\tbest: 0.8045883 (3477)\ttotal: 16m 38s\tremaining: 4m 58s\n"
     ]
    },
    {
     "name": "stdout",
     "output_type": "stream",
     "text": [
      "3875:\tlearn: 0.8725633\ttest: 0.8033797\tbest: 0.8045883 (3477)\ttotal: 16m 45s\tremaining: 4m 51s\n"
     ]
    },
    {
     "name": "stdout",
     "output_type": "stream",
     "text": [
      "3900:\tlearn: 0.8729686\ttest: 0.8035057\tbest: 0.8045883 (3477)\ttotal: 16m 51s\tremaining: 4m 45s\n"
     ]
    },
    {
     "name": "stdout",
     "output_type": "stream",
     "text": [
      "3925:\tlearn: 0.8734809\ttest: 0.8035754\tbest: 0.8045883 (3477)\ttotal: 16m 58s\tremaining: 4m 38s\n"
     ]
    },
    {
     "name": "stdout",
     "output_type": "stream",
     "text": [
      "3950:\tlearn: 0.8738590\ttest: 0.8033893\tbest: 0.8045883 (3477)\ttotal: 17m 4s\tremaining: 4m 32s\n"
     ]
    },
    {
     "name": "stdout",
     "output_type": "stream",
     "text": [
      "3975:\tlearn: 0.8742700\ttest: 0.8033253\tbest: 0.8045883 (3477)\ttotal: 17m 11s\tremaining: 4m 25s\n"
     ]
    },
    {
     "name": "stdout",
     "output_type": "stream",
     "text": [
      "4000:\tlearn: 0.8749022\ttest: 0.8033830\tbest: 0.8045883 (3477)\ttotal: 17m 17s\tremaining: 4m 19s\n"
     ]
    },
    {
     "name": "stdout",
     "output_type": "stream",
     "text": [
      "4025:\tlearn: 0.8755055\ttest: 0.8029633\tbest: 0.8045883 (3477)\ttotal: 17m 24s\tremaining: 4m 12s\n"
     ]
    },
    {
     "name": "stdout",
     "output_type": "stream",
     "text": [
      "4050:\tlearn: 0.8758283\ttest: 0.8030543\tbest: 0.8045883 (3477)\ttotal: 17m 30s\tremaining: 4m 6s\n"
     ]
    },
    {
     "name": "stdout",
     "output_type": "stream",
     "text": [
      "4075:\tlearn: 0.8761567\ttest: 0.8031838\tbest: 0.8045883 (3477)\ttotal: 17m 37s\tremaining: 3m 59s\n"
     ]
    },
    {
     "name": "stdout",
     "output_type": "stream",
     "text": [
      "4100:\tlearn: 0.8766188\ttest: 0.8033914\tbest: 0.8045883 (3477)\ttotal: 17m 43s\tremaining: 3m 53s\n"
     ]
    },
    {
     "name": "stdout",
     "output_type": "stream",
     "text": [
      "4125:\tlearn: 0.8769940\ttest: 0.8032219\tbest: 0.8045883 (3477)\ttotal: 17m 50s\tremaining: 3m 46s\n"
     ]
    },
    {
     "name": "stdout",
     "output_type": "stream",
     "text": [
      "4150:\tlearn: 0.8774528\ttest: 0.8033091\tbest: 0.8045883 (3477)\ttotal: 17m 56s\tremaining: 3m 40s\n"
     ]
    },
    {
     "name": "stdout",
     "output_type": "stream",
     "text": [
      "4175:\tlearn: 0.8779905\ttest: 0.8033197\tbest: 0.8045883 (3477)\ttotal: 18m 3s\tremaining: 3m 33s\n"
     ]
    },
    {
     "name": "stdout",
     "output_type": "stream",
     "text": [
      "4200:\tlearn: 0.8783911\ttest: 0.8034111\tbest: 0.8045883 (3477)\ttotal: 18m 9s\tremaining: 3m 27s\n"
     ]
    },
    {
     "name": "stdout",
     "output_type": "stream",
     "text": [
      "4225:\tlearn: 0.8787597\ttest: 0.8038420\tbest: 0.8045883 (3477)\ttotal: 18m 16s\tremaining: 3m 20s\n"
     ]
    },
    {
     "name": "stdout",
     "output_type": "stream",
     "text": [
      "4250:\tlearn: 0.8792413\ttest: 0.8035918\tbest: 0.8045883 (3477)\ttotal: 18m 22s\tremaining: 3m 14s\n"
     ]
    },
    {
     "name": "stdout",
     "output_type": "stream",
     "text": [
      "4275:\tlearn: 0.8798461\ttest: 0.8031621\tbest: 0.8045883 (3477)\ttotal: 18m 29s\tremaining: 3m 7s\n"
     ]
    },
    {
     "name": "stdout",
     "output_type": "stream",
     "text": [
      "4300:\tlearn: 0.8803641\ttest: 0.8039256\tbest: 0.8045883 (3477)\ttotal: 18m 35s\tremaining: 3m 1s\n"
     ]
    },
    {
     "name": "stdout",
     "output_type": "stream",
     "text": [
      "4325:\tlearn: 0.8808202\ttest: 0.8042585\tbest: 0.8045883 (3477)\ttotal: 18m 42s\tremaining: 2m 54s\n"
     ]
    },
    {
     "name": "stdout",
     "output_type": "stream",
     "text": [
      "4350:\tlearn: 0.8811230\ttest: 0.8042598\tbest: 0.8045883 (3477)\ttotal: 18m 48s\tremaining: 2m 48s\n"
     ]
    },
    {
     "name": "stdout",
     "output_type": "stream",
     "text": [
      "4375:\tlearn: 0.8817770\ttest: 0.8036750\tbest: 0.8045883 (3477)\ttotal: 18m 55s\tremaining: 2m 41s\n"
     ]
    },
    {
     "name": "stdout",
     "output_type": "stream",
     "text": [
      "4400:\tlearn: 0.8819973\ttest: 0.8036131\tbest: 0.8045883 (3477)\ttotal: 19m 1s\tremaining: 2m 35s\n"
     ]
    },
    {
     "name": "stdout",
     "output_type": "stream",
     "text": [
      "4425:\tlearn: 0.8823566\ttest: 0.8032635\tbest: 0.8045883 (3477)\ttotal: 19m 8s\tremaining: 2m 28s\n"
     ]
    },
    {
     "name": "stdout",
     "output_type": "stream",
     "text": [
      "4450:\tlearn: 0.8826672\ttest: 0.8032860\tbest: 0.8045883 (3477)\ttotal: 19m 14s\tremaining: 2m 22s\n"
     ]
    },
    {
     "name": "stdout",
     "output_type": "stream",
     "text": [
      "4475:\tlearn: 0.8831990\ttest: 0.8036466\tbest: 0.8045883 (3477)\ttotal: 19m 21s\tremaining: 2m 15s\n"
     ]
    },
    {
     "name": "stdout",
     "output_type": "stream",
     "text": [
      "4500:\tlearn: 0.8834109\ttest: 0.8033571\tbest: 0.8045883 (3477)\ttotal: 19m 27s\tremaining: 2m 9s\n"
     ]
    },
    {
     "name": "stdout",
     "output_type": "stream",
     "text": [
      "4525:\tlearn: 0.8838131\ttest: 0.8032920\tbest: 0.8045883 (3477)\ttotal: 19m 34s\tremaining: 2m 2s\n"
     ]
    },
    {
     "name": "stdout",
     "output_type": "stream",
     "text": [
      "4550:\tlearn: 0.8842038\ttest: 0.8034837\tbest: 0.8045883 (3477)\ttotal: 19m 40s\tremaining: 1m 56s\n"
     ]
    },
    {
     "name": "stdout",
     "output_type": "stream",
     "text": [
      "4575:\tlearn: 0.8845536\ttest: 0.8036429\tbest: 0.8045883 (3477)\ttotal: 19m 46s\tremaining: 1m 49s\n"
     ]
    },
    {
     "name": "stdout",
     "output_type": "stream",
     "text": [
      "4600:\tlearn: 0.8849754\ttest: 0.8030104\tbest: 0.8045883 (3477)\ttotal: 19m 53s\tremaining: 1m 43s\n"
     ]
    },
    {
     "name": "stdout",
     "output_type": "stream",
     "text": [
      "4625:\tlearn: 0.8855012\ttest: 0.8030942\tbest: 0.8045883 (3477)\ttotal: 19m 59s\tremaining: 1m 37s\n"
     ]
    },
    {
     "name": "stdout",
     "output_type": "stream",
     "text": [
      "4650:\tlearn: 0.8860905\ttest: 0.8035238\tbest: 0.8045883 (3477)\ttotal: 20m 6s\tremaining: 1m 30s\n"
     ]
    },
    {
     "name": "stdout",
     "output_type": "stream",
     "text": [
      "4675:\tlearn: 0.8863491\ttest: 0.8033549\tbest: 0.8045883 (3477)\ttotal: 20m 12s\tremaining: 1m 24s\n"
     ]
    },
    {
     "name": "stdout",
     "output_type": "stream",
     "text": [
      "4700:\tlearn: 0.8867726\ttest: 0.8030888\tbest: 0.8045883 (3477)\ttotal: 20m 19s\tremaining: 1m 17s\n"
     ]
    },
    {
     "name": "stdout",
     "output_type": "stream",
     "text": [
      "4725:\tlearn: 0.8870699\ttest: 0.8032731\tbest: 0.8045883 (3477)\ttotal: 20m 25s\tremaining: 1m 11s\n"
     ]
    },
    {
     "name": "stdout",
     "output_type": "stream",
     "text": [
      "4750:\tlearn: 0.8875875\ttest: 0.8033625\tbest: 0.8045883 (3477)\ttotal: 20m 32s\tremaining: 1m 4s\n"
     ]
    },
    {
     "name": "stdout",
     "output_type": "stream",
     "text": [
      "4775:\tlearn: 0.8880942\ttest: 0.8036006\tbest: 0.8045883 (3477)\ttotal: 20m 38s\tremaining: 58.1s\n"
     ]
    },
    {
     "name": "stdout",
     "output_type": "stream",
     "text": [
      "4800:\tlearn: 0.8886260\ttest: 0.8034734\tbest: 0.8045883 (3477)\ttotal: 20m 45s\tremaining: 51.6s\n"
     ]
    },
    {
     "name": "stdout",
     "output_type": "stream",
     "text": [
      "4825:\tlearn: 0.8889963\ttest: 0.8035580\tbest: 0.8045883 (3477)\ttotal: 20m 51s\tremaining: 45.1s\n"
     ]
    },
    {
     "name": "stdout",
     "output_type": "stream",
     "text": [
      "4850:\tlearn: 0.8892197\ttest: 0.8033877\tbest: 0.8045883 (3477)\ttotal: 20m 58s\tremaining: 38.6s\n"
     ]
    },
    {
     "name": "stdout",
     "output_type": "stream",
     "text": [
      "4875:\tlearn: 0.8895531\ttest: 0.8034523\tbest: 0.8045883 (3477)\ttotal: 21m 4s\tremaining: 32.2s\n"
     ]
    },
    {
     "name": "stdout",
     "output_type": "stream",
     "text": [
      "4900:\tlearn: 0.8898711\ttest: 0.8039367\tbest: 0.8045883 (3477)\ttotal: 21m 11s\tremaining: 25.7s\n"
     ]
    },
    {
     "name": "stdout",
     "output_type": "stream",
     "text": [
      "4925:\tlearn: 0.8902946\ttest: 0.8039174\tbest: 0.8045883 (3477)\ttotal: 21m 17s\tremaining: 19.2s\n"
     ]
    },
    {
     "name": "stdout",
     "output_type": "stream",
     "text": [
      "4950:\tlearn: 0.8908346\ttest: 0.8038605\tbest: 0.8045883 (3477)\ttotal: 21m 23s\tremaining: 12.7s\n"
     ]
    },
    {
     "name": "stdout",
     "output_type": "stream",
     "text": [
      "4975:\tlearn: 0.8912041\ttest: 0.8037692\tbest: 0.8045883 (3477)\ttotal: 21m 30s\tremaining: 6.22s\n"
     ]
    },
    {
     "name": "stdout",
     "output_type": "stream",
     "text": [
      "4999:\tlearn: 0.8916339\ttest: 0.8036026\tbest: 0.8045883 (3477)\ttotal: 21m 36s\tremaining: 0us\n",
      "\n",
      "bestTest = 0.8045882961\n",
      "bestIteration = 3477\n",
      "\n"
     ]
    },
    {
     "name": "stdout",
     "output_type": "stream",
     "text": [
      "######################################## training model 5/5 ########################################\n"
     ]
    },
    {
     "name": "stdout",
     "output_type": "stream",
     "text": [
      "0:\tlearn: 0.5327246\ttest: 0.5322846\tbest: 0.5322846 (0)\ttotal: 588ms\tremaining: 48m 57s\n"
     ]
    },
    {
     "name": "stdout",
     "output_type": "stream",
     "text": [
      "25:\tlearn: 0.7271894\ttest: 0.7269210\tbest: 0.7269210 (25)\ttotal: 7.03s\tremaining: 22m 25s\n"
     ]
    },
    {
     "name": "stdout",
     "output_type": "stream",
     "text": [
      "50:\tlearn: 0.7421122\ttest: 0.7421688\tbest: 0.7421688 (50)\ttotal: 13.5s\tremaining: 21m 51s\n"
     ]
    },
    {
     "name": "stdout",
     "output_type": "stream",
     "text": [
      "75:\tlearn: 0.7497417\ttest: 0.7492205\tbest: 0.7492205 (75)\ttotal: 20.1s\tremaining: 21m 44s\n"
     ]
    },
    {
     "name": "stdout",
     "output_type": "stream",
     "text": [
      "100:\tlearn: 0.7555300\ttest: 0.7552789\tbest: 0.7553177 (99)\ttotal: 26.7s\tremaining: 21m 33s\n"
     ]
    },
    {
     "name": "stdout",
     "output_type": "stream",
     "text": [
      "125:\tlearn: 0.7594547\ttest: 0.7587468\tbest: 0.7587468 (125)\ttotal: 33.1s\tremaining: 21m 20s\n"
     ]
    },
    {
     "name": "stdout",
     "output_type": "stream",
     "text": [
      "150:\tlearn: 0.7625468\ttest: 0.7620597\tbest: 0.7620597 (150)\ttotal: 39.6s\tremaining: 21m 11s\n"
     ]
    },
    {
     "name": "stdout",
     "output_type": "stream",
     "text": [
      "175:\tlearn: 0.7652131\ttest: 0.7648477\tbest: 0.7650446 (173)\ttotal: 46s\tremaining: 21m 1s\n"
     ]
    },
    {
     "name": "stdout",
     "output_type": "stream",
     "text": [
      "200:\tlearn: 0.7673136\ttest: 0.7678437\tbest: 0.7678437 (200)\ttotal: 52.6s\tremaining: 20m 56s\n"
     ]
    },
    {
     "name": "stdout",
     "output_type": "stream",
     "text": [
      "225:\tlearn: 0.7692788\ttest: 0.7692856\tbest: 0.7692856 (225)\ttotal: 59.1s\tremaining: 20m 48s\n"
     ]
    },
    {
     "name": "stdout",
     "output_type": "stream",
     "text": [
      "250:\tlearn: 0.7711890\ttest: 0.7708893\tbest: 0.7708893 (250)\ttotal: 1m 5s\tremaining: 20m 42s\n"
     ]
    },
    {
     "name": "stdout",
     "output_type": "stream",
     "text": [
      "275:\tlearn: 0.7735587\ttest: 0.7727297\tbest: 0.7729674 (273)\ttotal: 1m 12s\tremaining: 20m 34s\n"
     ]
    },
    {
     "name": "stdout",
     "output_type": "stream",
     "text": [
      "300:\tlearn: 0.7769688\ttest: 0.7751437\tbest: 0.7751437 (300)\ttotal: 1m 18s\tremaining: 20m 26s\n"
     ]
    },
    {
     "name": "stdout",
     "output_type": "stream",
     "text": [
      "325:\tlearn: 0.7810386\ttest: 0.7778376\tbest: 0.7778914 (323)\ttotal: 1m 25s\tremaining: 20m 21s\n"
     ]
    },
    {
     "name": "stdout",
     "output_type": "stream",
     "text": [
      "350:\tlearn: 0.7841991\ttest: 0.7804308\tbest: 0.7808670 (349)\ttotal: 1m 31s\tremaining: 20m 14s\n"
     ]
    },
    {
     "name": "stdout",
     "output_type": "stream",
     "text": [
      "375:\tlearn: 0.7868158\ttest: 0.7828453\tbest: 0.7828453 (375)\ttotal: 1m 38s\tremaining: 20m 7s\n"
     ]
    },
    {
     "name": "stdout",
     "output_type": "stream",
     "text": [
      "400:\tlearn: 0.7887313\ttest: 0.7843063\tbest: 0.7843063 (400)\ttotal: 1m 44s\tremaining: 20m\n"
     ]
    },
    {
     "name": "stdout",
     "output_type": "stream",
     "text": [
      "425:\tlearn: 0.7907417\ttest: 0.7851249\tbest: 0.7851395 (422)\ttotal: 1m 51s\tremaining: 19m 54s\n"
     ]
    },
    {
     "name": "stdout",
     "output_type": "stream",
     "text": [
      "450:\tlearn: 0.7921929\ttest: 0.7859988\tbest: 0.7862369 (446)\ttotal: 1m 57s\tremaining: 19m 48s\n"
     ]
    },
    {
     "name": "stdout",
     "output_type": "stream",
     "text": [
      "475:\tlearn: 0.7936210\ttest: 0.7863961\tbest: 0.7864735 (466)\ttotal: 2m 4s\tremaining: 19m 41s\n"
     ]
    },
    {
     "name": "stdout",
     "output_type": "stream",
     "text": [
      "500:\tlearn: 0.7948865\ttest: 0.7866400\tbest: 0.7869359 (496)\ttotal: 2m 10s\tremaining: 19m 34s\n"
     ]
    },
    {
     "name": "stdout",
     "output_type": "stream",
     "text": [
      "525:\tlearn: 0.7962690\ttest: 0.7878079\tbest: 0.7878452 (524)\ttotal: 2m 17s\tremaining: 19m 27s\n"
     ]
    },
    {
     "name": "stdout",
     "output_type": "stream",
     "text": [
      "550:\tlearn: 0.7974194\ttest: 0.7881645\tbest: 0.7882491 (545)\ttotal: 2m 23s\tremaining: 19m 21s\n"
     ]
    },
    {
     "name": "stdout",
     "output_type": "stream",
     "text": [
      "575:\tlearn: 0.7985933\ttest: 0.7886436\tbest: 0.7890446 (561)\ttotal: 2m 30s\tremaining: 19m 15s\n"
     ]
    },
    {
     "name": "stdout",
     "output_type": "stream",
     "text": [
      "600:\tlearn: 0.7994787\ttest: 0.7882079\tbest: 0.7890446 (561)\ttotal: 2m 36s\tremaining: 19m 8s\n"
     ]
    },
    {
     "name": "stdout",
     "output_type": "stream",
     "text": [
      "625:\tlearn: 0.8005881\ttest: 0.7886669\tbest: 0.7890446 (561)\ttotal: 2m 43s\tremaining: 19m 1s\n"
     ]
    },
    {
     "name": "stdout",
     "output_type": "stream",
     "text": [
      "650:\tlearn: 0.8014449\ttest: 0.7886896\tbest: 0.7890446 (561)\ttotal: 2m 49s\tremaining: 18m 55s\n"
     ]
    },
    {
     "name": "stdout",
     "output_type": "stream",
     "text": [
      "675:\tlearn: 0.8024234\ttest: 0.7884199\tbest: 0.7890446 (561)\ttotal: 2m 56s\tremaining: 18m 48s\n"
     ]
    },
    {
     "name": "stdout",
     "output_type": "stream",
     "text": [
      "700:\tlearn: 0.8031429\ttest: 0.7887943\tbest: 0.7890446 (561)\ttotal: 3m 2s\tremaining: 18m 42s\n"
     ]
    },
    {
     "name": "stdout",
     "output_type": "stream",
     "text": [
      "725:\tlearn: 0.8040403\ttest: 0.7880112\tbest: 0.7890446 (561)\ttotal: 3m 9s\tremaining: 18m 35s\n"
     ]
    },
    {
     "name": "stdout",
     "output_type": "stream",
     "text": [
      "750:\tlearn: 0.8052090\ttest: 0.7883462\tbest: 0.7890446 (561)\ttotal: 3m 15s\tremaining: 18m 28s\n"
     ]
    },
    {
     "name": "stdout",
     "output_type": "stream",
     "text": [
      "775:\tlearn: 0.8059802\ttest: 0.7886830\tbest: 0.7890446 (561)\ttotal: 3m 22s\tremaining: 18m 21s\n"
     ]
    },
    {
     "name": "stdout",
     "output_type": "stream",
     "text": [
      "800:\tlearn: 0.8068029\ttest: 0.7889109\tbest: 0.7891791 (793)\ttotal: 3m 28s\tremaining: 18m 15s\n"
     ]
    },
    {
     "name": "stdout",
     "output_type": "stream",
     "text": [
      "825:\tlearn: 0.8077709\ttest: 0.7894600\tbest: 0.7894600 (825)\ttotal: 3m 35s\tremaining: 18m 9s\n"
     ]
    },
    {
     "name": "stdout",
     "output_type": "stream",
     "text": [
      "850:\tlearn: 0.8081576\ttest: 0.7895247\tbest: 0.7895247 (850)\ttotal: 3m 41s\tremaining: 18m 2s\n"
     ]
    },
    {
     "name": "stdout",
     "output_type": "stream",
     "text": [
      "875:\tlearn: 0.8091592\ttest: 0.7899794\tbest: 0.7899794 (875)\ttotal: 3m 48s\tremaining: 17m 55s\n"
     ]
    },
    {
     "name": "stdout",
     "output_type": "stream",
     "text": [
      "900:\tlearn: 0.8099752\ttest: 0.7899494\tbest: 0.7902243 (885)\ttotal: 3m 55s\tremaining: 17m 49s\n"
     ]
    },
    {
     "name": "stdout",
     "output_type": "stream",
     "text": [
      "925:\tlearn: 0.8108913\ttest: 0.7900097\tbest: 0.7902243 (885)\ttotal: 4m 1s\tremaining: 17m 42s\n"
     ]
    },
    {
     "name": "stdout",
     "output_type": "stream",
     "text": [
      "950:\tlearn: 0.8114324\ttest: 0.7902038\tbest: 0.7902362 (941)\ttotal: 4m 8s\tremaining: 17m 36s\n"
     ]
    },
    {
     "name": "stdout",
     "output_type": "stream",
     "text": [
      "975:\tlearn: 0.8122234\ttest: 0.7903796\tbest: 0.7904962 (969)\ttotal: 4m 14s\tremaining: 17m 29s\n"
     ]
    },
    {
     "name": "stdout",
     "output_type": "stream",
     "text": [
      "1000:\tlearn: 0.8131018\ttest: 0.7904370\tbest: 0.7905808 (988)\ttotal: 4m 20s\tremaining: 17m 22s\n"
     ]
    },
    {
     "name": "stdout",
     "output_type": "stream",
     "text": [
      "1025:\tlearn: 0.8137925\ttest: 0.7909166\tbest: 0.7909166 (1025)\ttotal: 4m 27s\tremaining: 17m 15s\n"
     ]
    },
    {
     "name": "stdout",
     "output_type": "stream",
     "text": [
      "1050:\tlearn: 0.8146753\ttest: 0.7910893\tbest: 0.7911496 (1048)\ttotal: 4m 33s\tremaining: 17m 9s\n"
     ]
    },
    {
     "name": "stdout",
     "output_type": "stream",
     "text": [
      "1075:\tlearn: 0.8152868\ttest: 0.7910904\tbest: 0.7912458 (1063)\ttotal: 4m 40s\tremaining: 17m 2s\n"
     ]
    },
    {
     "name": "stdout",
     "output_type": "stream",
     "text": [
      "1100:\tlearn: 0.8160453\ttest: 0.7910774\tbest: 0.7912458 (1063)\ttotal: 4m 46s\tremaining: 16m 55s\n"
     ]
    },
    {
     "name": "stdout",
     "output_type": "stream",
     "text": [
      "1125:\tlearn: 0.8168054\ttest: 0.7909412\tbest: 0.7912458 (1063)\ttotal: 4m 53s\tremaining: 16m 49s\n"
     ]
    },
    {
     "name": "stdout",
     "output_type": "stream",
     "text": [
      "1150:\tlearn: 0.8175186\ttest: 0.7905614\tbest: 0.7912458 (1063)\ttotal: 4m 59s\tremaining: 16m 42s\n"
     ]
    },
    {
     "name": "stdout",
     "output_type": "stream",
     "text": [
      "1175:\tlearn: 0.8180391\ttest: 0.7907303\tbest: 0.7912458 (1063)\ttotal: 5m 6s\tremaining: 16m 35s\n"
     ]
    },
    {
     "name": "stdout",
     "output_type": "stream",
     "text": [
      "1200:\tlearn: 0.8189284\ttest: 0.7907529\tbest: 0.7912458 (1063)\ttotal: 5m 12s\tremaining: 16m 29s\n"
     ]
    },
    {
     "name": "stdout",
     "output_type": "stream",
     "text": [
      "1225:\tlearn: 0.8195009\ttest: 0.7907338\tbest: 0.7912458 (1063)\ttotal: 5m 19s\tremaining: 16m 22s\n"
     ]
    },
    {
     "name": "stdout",
     "output_type": "stream",
     "text": [
      "1250:\tlearn: 0.8202019\ttest: 0.7907438\tbest: 0.7912458 (1063)\ttotal: 5m 25s\tremaining: 16m 15s\n"
     ]
    },
    {
     "name": "stdout",
     "output_type": "stream",
     "text": [
      "1275:\tlearn: 0.8209368\ttest: 0.7908473\tbest: 0.7913368 (1256)\ttotal: 5m 32s\tremaining: 16m 9s\n"
     ]
    },
    {
     "name": "stdout",
     "output_type": "stream",
     "text": [
      "1300:\tlearn: 0.8216024\ttest: 0.7905759\tbest: 0.7913368 (1256)\ttotal: 5m 38s\tremaining: 16m 2s\n"
     ]
    },
    {
     "name": "stdout",
     "output_type": "stream",
     "text": [
      "1325:\tlearn: 0.8223258\ttest: 0.7909619\tbest: 0.7913368 (1256)\ttotal: 5m 45s\tremaining: 15m 56s\n"
     ]
    },
    {
     "name": "stdout",
     "output_type": "stream",
     "text": [
      "1350:\tlearn: 0.8228226\ttest: 0.7906630\tbest: 0.7913368 (1256)\ttotal: 5m 51s\tremaining: 15m 49s\n"
     ]
    },
    {
     "name": "stdout",
     "output_type": "stream",
     "text": [
      "1375:\tlearn: 0.8236523\ttest: 0.7908401\tbest: 0.7913368 (1256)\ttotal: 5m 58s\tremaining: 15m 43s\n"
     ]
    },
    {
     "name": "stdout",
     "output_type": "stream",
     "text": [
      "1400:\tlearn: 0.8244545\ttest: 0.7908737\tbest: 0.7913368 (1256)\ttotal: 6m 4s\tremaining: 15m 36s\n"
     ]
    },
    {
     "name": "stdout",
     "output_type": "stream",
     "text": [
      "1425:\tlearn: 0.8251570\ttest: 0.7907187\tbest: 0.7913368 (1256)\ttotal: 6m 10s\tremaining: 15m 29s\n"
     ]
    },
    {
     "name": "stdout",
     "output_type": "stream",
     "text": [
      "1450:\tlearn: 0.8255511\ttest: 0.7911928\tbest: 0.7913368 (1256)\ttotal: 6m 17s\tremaining: 15m 23s\n"
     ]
    },
    {
     "name": "stdout",
     "output_type": "stream",
     "text": [
      "1475:\tlearn: 0.8261239\ttest: 0.7913680\tbest: 0.7913680 (1475)\ttotal: 6m 23s\tremaining: 15m 16s\n"
     ]
    },
    {
     "name": "stdout",
     "output_type": "stream",
     "text": [
      "1500:\tlearn: 0.8269651\ttest: 0.7915922\tbest: 0.7915922 (1500)\ttotal: 6m 30s\tremaining: 15m 10s\n"
     ]
    },
    {
     "name": "stdout",
     "output_type": "stream",
     "text": [
      "1525:\tlearn: 0.8275013\ttest: 0.7913061\tbest: 0.7916146 (1501)\ttotal: 6m 36s\tremaining: 15m 3s\n"
     ]
    },
    {
     "name": "stdout",
     "output_type": "stream",
     "text": [
      "1550:\tlearn: 0.8281448\ttest: 0.7916949\tbest: 0.7917131 (1547)\ttotal: 6m 43s\tremaining: 14m 56s\n"
     ]
    },
    {
     "name": "stdout",
     "output_type": "stream",
     "text": [
      "1575:\tlearn: 0.8288748\ttest: 0.7913412\tbest: 0.7918263 (1558)\ttotal: 6m 49s\tremaining: 14m 50s\n"
     ]
    },
    {
     "name": "stdout",
     "output_type": "stream",
     "text": [
      "1600:\tlearn: 0.8297118\ttest: 0.7921125\tbest: 0.7921125 (1600)\ttotal: 6m 56s\tremaining: 14m 43s\n"
     ]
    },
    {
     "name": "stdout",
     "output_type": "stream",
     "text": [
      "1625:\tlearn: 0.8301020\ttest: 0.7916175\tbest: 0.7921771 (1602)\ttotal: 7m 2s\tremaining: 14m 37s\n"
     ]
    },
    {
     "name": "stdout",
     "output_type": "stream",
     "text": [
      "1650:\tlearn: 0.8305412\ttest: 0.7919544\tbest: 0.7921771 (1602)\ttotal: 7m 9s\tremaining: 14m 30s\n"
     ]
    },
    {
     "name": "stdout",
     "output_type": "stream",
     "text": [
      "1675:\tlearn: 0.8311404\ttest: 0.7924074\tbest: 0.7924074 (1675)\ttotal: 7m 15s\tremaining: 14m 24s\n"
     ]
    },
    {
     "name": "stdout",
     "output_type": "stream",
     "text": [
      "1700:\tlearn: 0.8320690\ttest: 0.7923179\tbest: 0.7924074 (1675)\ttotal: 7m 22s\tremaining: 14m 17s\n"
     ]
    },
    {
     "name": "stdout",
     "output_type": "stream",
     "text": [
      "1725:\tlearn: 0.8326040\ttest: 0.7922421\tbest: 0.7925350 (1716)\ttotal: 7m 28s\tremaining: 14m 11s\n"
     ]
    },
    {
     "name": "stdout",
     "output_type": "stream",
     "text": [
      "1750:\tlearn: 0.8329691\ttest: 0.7922092\tbest: 0.7925350 (1716)\ttotal: 7m 35s\tremaining: 14m 4s\n"
     ]
    },
    {
     "name": "stdout",
     "output_type": "stream",
     "text": [
      "1775:\tlearn: 0.8337167\ttest: 0.7920287\tbest: 0.7925350 (1716)\ttotal: 7m 41s\tremaining: 13m 57s\n"
     ]
    },
    {
     "name": "stdout",
     "output_type": "stream",
     "text": [
      "1800:\tlearn: 0.8344303\ttest: 0.7919092\tbest: 0.7925350 (1716)\ttotal: 7m 47s\tremaining: 13m 51s\n"
     ]
    },
    {
     "name": "stdout",
     "output_type": "stream",
     "text": [
      "1825:\tlearn: 0.8349366\ttest: 0.7922799\tbest: 0.7925350 (1716)\ttotal: 7m 54s\tremaining: 13m 44s\n"
     ]
    },
    {
     "name": "stdout",
     "output_type": "stream",
     "text": [
      "1850:\tlearn: 0.8355596\ttest: 0.7927429\tbest: 0.7927429 (1850)\ttotal: 8m\tremaining: 13m 38s\n"
     ]
    },
    {
     "name": "stdout",
     "output_type": "stream",
     "text": [
      "1875:\tlearn: 0.8360907\ttest: 0.7923720\tbest: 0.7927877 (1853)\ttotal: 8m 7s\tremaining: 13m 31s\n"
     ]
    },
    {
     "name": "stdout",
     "output_type": "stream",
     "text": [
      "1900:\tlearn: 0.8365424\ttest: 0.7923873\tbest: 0.7927877 (1853)\ttotal: 8m 13s\tremaining: 13m 25s\n"
     ]
    },
    {
     "name": "stdout",
     "output_type": "stream",
     "text": [
      "1925:\tlearn: 0.8373340\ttest: 0.7923128\tbest: 0.7927877 (1853)\ttotal: 8m 20s\tremaining: 13m 18s\n"
     ]
    },
    {
     "name": "stdout",
     "output_type": "stream",
     "text": [
      "1950:\tlearn: 0.8377359\ttest: 0.7925101\tbest: 0.7927877 (1853)\ttotal: 8m 26s\tremaining: 13m 11s\n"
     ]
    },
    {
     "name": "stdout",
     "output_type": "stream",
     "text": [
      "1975:\tlearn: 0.8384526\ttest: 0.7925121\tbest: 0.7930817 (1966)\ttotal: 8m 33s\tremaining: 13m 5s\n"
     ]
    },
    {
     "name": "stdout",
     "output_type": "stream",
     "text": [
      "2000:\tlearn: 0.8388985\ttest: 0.7930792\tbest: 0.7930817 (1966)\ttotal: 8m 39s\tremaining: 12m 58s\n"
     ]
    },
    {
     "name": "stdout",
     "output_type": "stream",
     "text": [
      "2025:\tlearn: 0.8393666\ttest: 0.7926268\tbest: 0.7932491 (2005)\ttotal: 8m 46s\tremaining: 12m 52s\n"
     ]
    },
    {
     "name": "stdout",
     "output_type": "stream",
     "text": [
      "2050:\tlearn: 0.8398634\ttest: 0.7930418\tbest: 0.7932491 (2005)\ttotal: 8m 52s\tremaining: 12m 45s\n"
     ]
    },
    {
     "name": "stdout",
     "output_type": "stream",
     "text": [
      "2075:\tlearn: 0.8404448\ttest: 0.7929169\tbest: 0.7932516 (2069)\ttotal: 8m 59s\tremaining: 12m 39s\n"
     ]
    },
    {
     "name": "stdout",
     "output_type": "stream",
     "text": [
      "2100:\tlearn: 0.8410015\ttest: 0.7927369\tbest: 0.7932777 (2088)\ttotal: 9m 5s\tremaining: 12m 32s\n"
     ]
    },
    {
     "name": "stdout",
     "output_type": "stream",
     "text": [
      "2125:\tlearn: 0.8414078\ttest: 0.7931407\tbest: 0.7933072 (2119)\ttotal: 9m 12s\tremaining: 12m 26s\n"
     ]
    },
    {
     "name": "stdout",
     "output_type": "stream",
     "text": [
      "2150:\tlearn: 0.8418762\ttest: 0.7930212\tbest: 0.7934406 (2135)\ttotal: 9m 18s\tremaining: 12m 19s\n"
     ]
    },
    {
     "name": "stdout",
     "output_type": "stream",
     "text": [
      "2175:\tlearn: 0.8422413\ttest: 0.7935050\tbest: 0.7935050 (2175)\ttotal: 9m 24s\tremaining: 12m 13s\n"
     ]
    },
    {
     "name": "stdout",
     "output_type": "stream",
     "text": [
      "2200:\tlearn: 0.8428121\ttest: 0.7933183\tbest: 0.7935267 (2195)\ttotal: 9m 31s\tremaining: 12m 6s\n"
     ]
    },
    {
     "name": "stdout",
     "output_type": "stream",
     "text": [
      "2225:\tlearn: 0.8430939\ttest: 0.7934506\tbest: 0.7935267 (2195)\ttotal: 9m 37s\tremaining: 12m\n"
     ]
    },
    {
     "name": "stdout",
     "output_type": "stream",
     "text": [
      "2250:\tlearn: 0.8436267\ttest: 0.7933368\tbest: 0.7935267 (2195)\ttotal: 9m 44s\tremaining: 11m 53s\n"
     ]
    },
    {
     "name": "stdout",
     "output_type": "stream",
     "text": [
      "2275:\tlearn: 0.8442069\ttest: 0.7933635\tbest: 0.7935713 (2259)\ttotal: 9m 50s\tremaining: 11m 47s\n"
     ]
    },
    {
     "name": "stdout",
     "output_type": "stream",
     "text": [
      "2300:\tlearn: 0.8446873\ttest: 0.7929848\tbest: 0.7935941 (2284)\ttotal: 9m 57s\tremaining: 11m 40s\n"
     ]
    },
    {
     "name": "stdout",
     "output_type": "stream",
     "text": [
      "2325:\tlearn: 0.8452679\ttest: 0.7932438\tbest: 0.7935941 (2284)\ttotal: 10m 3s\tremaining: 11m 34s\n"
     ]
    },
    {
     "name": "stdout",
     "output_type": "stream",
     "text": [
      "2350:\tlearn: 0.8459810\ttest: 0.7930574\tbest: 0.7935941 (2284)\ttotal: 10m 10s\tremaining: 11m 27s\n"
     ]
    },
    {
     "name": "stdout",
     "output_type": "stream",
     "text": [
      "2375:\tlearn: 0.8464535\ttest: 0.7931070\tbest: 0.7935941 (2284)\ttotal: 10m 16s\tremaining: 11m 21s\n"
     ]
    },
    {
     "name": "stdout",
     "output_type": "stream",
     "text": [
      "2400:\tlearn: 0.8468902\ttest: 0.7930326\tbest: 0.7935941 (2284)\ttotal: 10m 23s\tremaining: 11m 14s\n"
     ]
    },
    {
     "name": "stdout",
     "output_type": "stream",
     "text": [
      "2425:\tlearn: 0.8472855\ttest: 0.7931631\tbest: 0.7935941 (2284)\ttotal: 10m 29s\tremaining: 11m 7s\n"
     ]
    },
    {
     "name": "stdout",
     "output_type": "stream",
     "text": [
      "2450:\tlearn: 0.8479548\ttest: 0.7930445\tbest: 0.7935941 (2284)\ttotal: 10m 36s\tremaining: 11m 1s\n"
     ]
    },
    {
     "name": "stdout",
     "output_type": "stream",
     "text": [
      "2475:\tlearn: 0.8484225\ttest: 0.7931220\tbest: 0.7935941 (2284)\ttotal: 10m 42s\tremaining: 10m 55s\n"
     ]
    },
    {
     "name": "stdout",
     "output_type": "stream",
     "text": [
      "2500:\tlearn: 0.8489306\ttest: 0.7928620\tbest: 0.7935941 (2284)\ttotal: 10m 49s\tremaining: 10m 48s\n"
     ]
    },
    {
     "name": "stdout",
     "output_type": "stream",
     "text": [
      "2525:\tlearn: 0.8493982\ttest: 0.7934032\tbest: 0.7935941 (2284)\ttotal: 10m 55s\tremaining: 10m 41s\n"
     ]
    },
    {
     "name": "stdout",
     "output_type": "stream",
     "text": [
      "2550:\tlearn: 0.8500419\ttest: 0.7935117\tbest: 0.7937018 (2547)\ttotal: 11m 1s\tremaining: 10m 35s\n"
     ]
    },
    {
     "name": "stdout",
     "output_type": "stream",
     "text": [
      "2575:\tlearn: 0.8503300\ttest: 0.7933104\tbest: 0.7937048 (2554)\ttotal: 11m 8s\tremaining: 10m 29s\n"
     ]
    },
    {
     "name": "stdout",
     "output_type": "stream",
     "text": [
      "2600:\tlearn: 0.8511016\ttest: 0.7935022\tbest: 0.7937048 (2554)\ttotal: 11m 14s\tremaining: 10m 22s\n"
     ]
    },
    {
     "name": "stdout",
     "output_type": "stream",
     "text": [
      "2625:\tlearn: 0.8514759\ttest: 0.7935496\tbest: 0.7937048 (2554)\ttotal: 11m 21s\tremaining: 10m 16s\n"
     ]
    },
    {
     "name": "stdout",
     "output_type": "stream",
     "text": [
      "2650:\tlearn: 0.8520641\ttest: 0.7938541\tbest: 0.7938541 (2649)\ttotal: 11m 27s\tremaining: 10m 9s\n"
     ]
    },
    {
     "name": "stdout",
     "output_type": "stream",
     "text": [
      "2675:\tlearn: 0.8524648\ttest: 0.7939979\tbest: 0.7940814 (2673)\ttotal: 11m 34s\tremaining: 10m 3s\n"
     ]
    },
    {
     "name": "stdout",
     "output_type": "stream",
     "text": [
      "2700:\tlearn: 0.8529376\ttest: 0.7937070\tbest: 0.7941068 (2695)\ttotal: 11m 40s\tremaining: 9m 56s\n"
     ]
    },
    {
     "name": "stdout",
     "output_type": "stream",
     "text": [
      "2725:\tlearn: 0.8535505\ttest: 0.7935599\tbest: 0.7941068 (2695)\ttotal: 11m 47s\tremaining: 9m 50s\n"
     ]
    },
    {
     "name": "stdout",
     "output_type": "stream",
     "text": [
      "2750:\tlearn: 0.8539058\ttest: 0.7934333\tbest: 0.7941068 (2695)\ttotal: 11m 53s\tremaining: 9m 43s\n"
     ]
    },
    {
     "name": "stdout",
     "output_type": "stream",
     "text": [
      "2775:\tlearn: 0.8543552\ttest: 0.7935406\tbest: 0.7941068 (2695)\ttotal: 12m\tremaining: 9m 37s\n"
     ]
    },
    {
     "name": "stdout",
     "output_type": "stream",
     "text": [
      "2800:\tlearn: 0.8546784\ttest: 0.7932842\tbest: 0.7941068 (2695)\ttotal: 12m 6s\tremaining: 9m 30s\n"
     ]
    },
    {
     "name": "stdout",
     "output_type": "stream",
     "text": [
      "2825:\tlearn: 0.8549319\ttest: 0.7931991\tbest: 0.7941068 (2695)\ttotal: 12m 13s\tremaining: 9m 24s\n"
     ]
    },
    {
     "name": "stdout",
     "output_type": "stream",
     "text": [
      "2850:\tlearn: 0.8555415\ttest: 0.7933883\tbest: 0.7941068 (2695)\ttotal: 12m 19s\tremaining: 9m 17s\n"
     ]
    },
    {
     "name": "stdout",
     "output_type": "stream",
     "text": [
      "2875:\tlearn: 0.8560346\ttest: 0.7934892\tbest: 0.7941068 (2695)\ttotal: 12m 26s\tremaining: 9m 11s\n"
     ]
    },
    {
     "name": "stdout",
     "output_type": "stream",
     "text": [
      "2900:\tlearn: 0.8564658\ttest: 0.7934259\tbest: 0.7941068 (2695)\ttotal: 12m 32s\tremaining: 9m 4s\n"
     ]
    },
    {
     "name": "stdout",
     "output_type": "stream",
     "text": [
      "2925:\tlearn: 0.8570820\ttest: 0.7934877\tbest: 0.7941068 (2695)\ttotal: 12m 39s\tremaining: 8m 58s\n"
     ]
    },
    {
     "name": "stdout",
     "output_type": "stream",
     "text": [
      "2950:\tlearn: 0.8572576\ttest: 0.7933877\tbest: 0.7941068 (2695)\ttotal: 12m 45s\tremaining: 8m 51s\n"
     ]
    },
    {
     "name": "stdout",
     "output_type": "stream",
     "text": [
      "2975:\tlearn: 0.8577428\ttest: 0.7933860\tbest: 0.7941068 (2695)\ttotal: 12m 52s\tremaining: 8m 45s\n"
     ]
    },
    {
     "name": "stdout",
     "output_type": "stream",
     "text": [
      "3000:\tlearn: 0.8581952\ttest: 0.7934330\tbest: 0.7941068 (2695)\ttotal: 12m 58s\tremaining: 8m 38s\n"
     ]
    },
    {
     "name": "stdout",
     "output_type": "stream",
     "text": [
      "3025:\tlearn: 0.8587158\ttest: 0.7939871\tbest: 0.7942174 (3021)\ttotal: 13m 4s\tremaining: 8m 32s\n"
     ]
    },
    {
     "name": "stdout",
     "output_type": "stream",
     "text": [
      "3050:\tlearn: 0.8591224\ttest: 0.7940745\tbest: 0.7942174 (3021)\ttotal: 13m 11s\tremaining: 8m 25s\n"
     ]
    },
    {
     "name": "stdout",
     "output_type": "stream",
     "text": [
      "3075:\tlearn: 0.8596701\ttest: 0.7938064\tbest: 0.7942174 (3021)\ttotal: 13m 17s\tremaining: 8m 19s\n"
     ]
    },
    {
     "name": "stdout",
     "output_type": "stream",
     "text": [
      "3100:\tlearn: 0.8601329\ttest: 0.7940639\tbest: 0.7942174 (3021)\ttotal: 13m 24s\tremaining: 8m 12s\n"
     ]
    },
    {
     "name": "stdout",
     "output_type": "stream",
     "text": [
      "3125:\tlearn: 0.8604170\ttest: 0.7936219\tbest: 0.7942174 (3021)\ttotal: 13m 30s\tremaining: 8m 6s\n"
     ]
    },
    {
     "name": "stdout",
     "output_type": "stream",
     "text": [
      "3150:\tlearn: 0.8610098\ttest: 0.7938761\tbest: 0.7942174 (3021)\ttotal: 13m 37s\tremaining: 7m 59s\n"
     ]
    },
    {
     "name": "stdout",
     "output_type": "stream",
     "text": [
      "3175:\tlearn: 0.8614304\ttest: 0.7938772\tbest: 0.7942174 (3021)\ttotal: 13m 43s\tremaining: 7m 53s\n"
     ]
    },
    {
     "name": "stdout",
     "output_type": "stream",
     "text": [
      "3200:\tlearn: 0.8619026\ttest: 0.7938746\tbest: 0.7942174 (3021)\ttotal: 13m 50s\tremaining: 7m 46s\n"
     ]
    },
    {
     "name": "stdout",
     "output_type": "stream",
     "text": [
      "3225:\tlearn: 0.8625544\ttest: 0.7937677\tbest: 0.7942174 (3021)\ttotal: 13m 56s\tremaining: 7m 40s\n"
     ]
    },
    {
     "name": "stdout",
     "output_type": "stream",
     "text": [
      "3250:\tlearn: 0.8632474\ttest: 0.7941785\tbest: 0.7943028 (3249)\ttotal: 14m 3s\tremaining: 7m 33s\n"
     ]
    },
    {
     "name": "stdout",
     "output_type": "stream",
     "text": [
      "3275:\tlearn: 0.8635723\ttest: 0.7945833\tbest: 0.7947329 (3260)\ttotal: 14m 9s\tremaining: 7m 27s\n"
     ]
    },
    {
     "name": "stdout",
     "output_type": "stream",
     "text": [
      "3300:\tlearn: 0.8641597\ttest: 0.7943785\tbest: 0.7947329 (3260)\ttotal: 14m 16s\tremaining: 7m 20s\n"
     ]
    },
    {
     "name": "stdout",
     "output_type": "stream",
     "text": [
      "3325:\tlearn: 0.8644855\ttest: 0.7945519\tbest: 0.7947329 (3260)\ttotal: 14m 22s\tremaining: 7m 14s\n"
     ]
    },
    {
     "name": "stdout",
     "output_type": "stream",
     "text": [
      "3350:\tlearn: 0.8649014\ttest: 0.7946342\tbest: 0.7947379 (3343)\ttotal: 14m 29s\tremaining: 7m 7s\n"
     ]
    },
    {
     "name": "stdout",
     "output_type": "stream",
     "text": [
      "3375:\tlearn: 0.8652675\ttest: 0.7947216\tbest: 0.7948061 (3356)\ttotal: 14m 35s\tremaining: 7m 1s\n"
     ]
    },
    {
     "name": "stdout",
     "output_type": "stream",
     "text": [
      "3400:\tlearn: 0.8658230\ttest: 0.7945756\tbest: 0.7948061 (3356)\ttotal: 14m 42s\tremaining: 6m 54s\n"
     ]
    },
    {
     "name": "stdout",
     "output_type": "stream",
     "text": [
      "3425:\tlearn: 0.8663195\ttest: 0.7946807\tbest: 0.7948061 (3356)\ttotal: 14m 48s\tremaining: 6m 48s\n"
     ]
    },
    {
     "name": "stdout",
     "output_type": "stream",
     "text": [
      "3450:\tlearn: 0.8666929\ttest: 0.7948933\tbest: 0.7949764 (3449)\ttotal: 14m 55s\tremaining: 6m 41s\n"
     ]
    },
    {
     "name": "stdout",
     "output_type": "stream",
     "text": [
      "3475:\tlearn: 0.8669586\ttest: 0.7951036\tbest: 0.7951629 (3457)\ttotal: 15m 1s\tremaining: 6m 35s\n"
     ]
    },
    {
     "name": "stdout",
     "output_type": "stream",
     "text": [
      "3500:\tlearn: 0.8673914\ttest: 0.7949143\tbest: 0.7952524 (3477)\ttotal: 15m 8s\tremaining: 6m 28s\n"
     ]
    },
    {
     "name": "stdout",
     "output_type": "stream",
     "text": [
      "3525:\tlearn: 0.8677422\ttest: 0.7950027\tbest: 0.7952524 (3477)\ttotal: 15m 14s\tremaining: 6m 22s\n"
     ]
    },
    {
     "name": "stdout",
     "output_type": "stream",
     "text": [
      "3550:\tlearn: 0.8681140\ttest: 0.7949007\tbest: 0.7952524 (3477)\ttotal: 15m 21s\tremaining: 6m 15s\n"
     ]
    },
    {
     "name": "stdout",
     "output_type": "stream",
     "text": [
      "3575:\tlearn: 0.8684763\ttest: 0.7949456\tbest: 0.7952524 (3477)\ttotal: 15m 27s\tremaining: 6m 9s\n"
     ]
    },
    {
     "name": "stdout",
     "output_type": "stream",
     "text": [
      "3600:\tlearn: 0.8688716\ttest: 0.7952275\tbest: 0.7952524 (3477)\ttotal: 15m 34s\tremaining: 6m 2s\n"
     ]
    },
    {
     "name": "stdout",
     "output_type": "stream",
     "text": [
      "3625:\tlearn: 0.8693265\ttest: 0.7951013\tbest: 0.7952687 (3612)\ttotal: 15m 40s\tremaining: 5m 56s\n"
     ]
    },
    {
     "name": "stdout",
     "output_type": "stream",
     "text": [
      "3650:\tlearn: 0.8696134\ttest: 0.7949752\tbest: 0.7952687 (3612)\ttotal: 15m 47s\tremaining: 5m 49s\n"
     ]
    },
    {
     "name": "stdout",
     "output_type": "stream",
     "text": [
      "3675:\tlearn: 0.8702048\ttest: 0.7947695\tbest: 0.7952687 (3612)\ttotal: 15m 53s\tremaining: 5m 43s\n"
     ]
    },
    {
     "name": "stdout",
     "output_type": "stream",
     "text": [
      "3700:\tlearn: 0.8707174\ttest: 0.7949808\tbest: 0.7952687 (3612)\ttotal: 16m\tremaining: 5m 37s\n"
     ]
    },
    {
     "name": "stdout",
     "output_type": "stream",
     "text": [
      "3725:\tlearn: 0.8710387\ttest: 0.7948388\tbest: 0.7952687 (3612)\ttotal: 16m 6s\tremaining: 5m 30s\n"
     ]
    },
    {
     "name": "stdout",
     "output_type": "stream",
     "text": [
      "3750:\tlearn: 0.8714642\ttest: 0.7948000\tbest: 0.7952687 (3612)\ttotal: 16m 13s\tremaining: 5m 24s\n"
     ]
    },
    {
     "name": "stdout",
     "output_type": "stream",
     "text": [
      "3775:\tlearn: 0.8718039\ttest: 0.7947581\tbest: 0.7952687 (3612)\ttotal: 16m 19s\tremaining: 5m 17s\n"
     ]
    },
    {
     "name": "stdout",
     "output_type": "stream",
     "text": [
      "3800:\tlearn: 0.8722514\ttest: 0.7945851\tbest: 0.7952687 (3612)\ttotal: 16m 26s\tremaining: 5m 11s\n"
     ]
    },
    {
     "name": "stdout",
     "output_type": "stream",
     "text": [
      "3825:\tlearn: 0.8726763\ttest: 0.7949055\tbest: 0.7952687 (3612)\ttotal: 16m 32s\tremaining: 5m 4s\n"
     ]
    },
    {
     "name": "stdout",
     "output_type": "stream",
     "text": [
      "3850:\tlearn: 0.8731414\ttest: 0.7950131\tbest: 0.7952687 (3612)\ttotal: 16m 39s\tremaining: 4m 58s\n"
     ]
    },
    {
     "name": "stdout",
     "output_type": "stream",
     "text": [
      "3875:\tlearn: 0.8734786\ttest: 0.7945503\tbest: 0.7952687 (3612)\ttotal: 16m 45s\tremaining: 4m 51s\n"
     ]
    },
    {
     "name": "stdout",
     "output_type": "stream",
     "text": [
      "3900:\tlearn: 0.8739615\ttest: 0.7947400\tbest: 0.7952687 (3612)\ttotal: 16m 51s\tremaining: 4m 45s\n"
     ]
    },
    {
     "name": "stdout",
     "output_type": "stream",
     "text": [
      "3925:\tlearn: 0.8743705\ttest: 0.7950569\tbest: 0.7952687 (3612)\ttotal: 16m 58s\tremaining: 4m 38s\n"
     ]
    },
    {
     "name": "stdout",
     "output_type": "stream",
     "text": [
      "3950:\tlearn: 0.8749681\ttest: 0.7951013\tbest: 0.7952687 (3612)\ttotal: 17m 5s\tremaining: 4m 32s\n"
     ]
    },
    {
     "name": "stdout",
     "output_type": "stream",
     "text": [
      "3975:\tlearn: 0.8753868\ttest: 0.7951232\tbest: 0.7953334 (3957)\ttotal: 17m 11s\tremaining: 4m 25s\n"
     ]
    },
    {
     "name": "stdout",
     "output_type": "stream",
     "text": [
      "4000:\tlearn: 0.8757971\ttest: 0.7951414\tbest: 0.7953334 (3957)\ttotal: 17m 17s\tremaining: 4m 19s\n"
     ]
    },
    {
     "name": "stdout",
     "output_type": "stream",
     "text": [
      "4025:\tlearn: 0.8763957\ttest: 0.7952911\tbest: 0.7954170 (4021)\ttotal: 17m 24s\tremaining: 4m 12s\n"
     ]
    },
    {
     "name": "stdout",
     "output_type": "stream",
     "text": [
      "4050:\tlearn: 0.8767267\ttest: 0.7952536\tbest: 0.7954853 (4047)\ttotal: 17m 30s\tremaining: 4m 6s\n"
     ]
    },
    {
     "name": "stdout",
     "output_type": "stream",
     "text": [
      "4075:\tlearn: 0.8772158\ttest: 0.7954472\tbest: 0.7955922 (4067)\ttotal: 17m 37s\tremaining: 3m 59s\n"
     ]
    },
    {
     "name": "stdout",
     "output_type": "stream",
     "text": [
      "4100:\tlearn: 0.8776232\ttest: 0.7955381\tbest: 0.7956420 (4092)\ttotal: 17m 43s\tremaining: 3m 53s\n"
     ]
    },
    {
     "name": "stdout",
     "output_type": "stream",
     "text": [
      "4125:\tlearn: 0.8778646\ttest: 0.7955127\tbest: 0.7956420 (4092)\ttotal: 17m 50s\tremaining: 3m 46s\n"
     ]
    },
    {
     "name": "stdout",
     "output_type": "stream",
     "text": [
      "4150:\tlearn: 0.8780934\ttest: 0.7951459\tbest: 0.7956420 (4092)\ttotal: 17m 56s\tremaining: 3m 40s\n"
     ]
    },
    {
     "name": "stdout",
     "output_type": "stream",
     "text": [
      "4175:\tlearn: 0.8784190\ttest: 0.7954587\tbest: 0.7956420 (4092)\ttotal: 18m 3s\tremaining: 3m 33s\n"
     ]
    },
    {
     "name": "stdout",
     "output_type": "stream",
     "text": [
      "4200:\tlearn: 0.8788550\ttest: 0.7954147\tbest: 0.7956420 (4092)\ttotal: 18m 9s\tremaining: 3m 27s\n"
     ]
    },
    {
     "name": "stdout",
     "output_type": "stream",
     "text": [
      "4225:\tlearn: 0.8792826\ttest: 0.7953682\tbest: 0.7956420 (4092)\ttotal: 18m 16s\tremaining: 3m 20s\n"
     ]
    },
    {
     "name": "stdout",
     "output_type": "stream",
     "text": [
      "4250:\tlearn: 0.8796995\ttest: 0.7953756\tbest: 0.7956420 (4092)\ttotal: 18m 22s\tremaining: 3m 14s\n"
     ]
    },
    {
     "name": "stdout",
     "output_type": "stream",
     "text": [
      "4275:\tlearn: 0.8801275\ttest: 0.7952479\tbest: 0.7956420 (4092)\ttotal: 18m 29s\tremaining: 3m 7s\n"
     ]
    },
    {
     "name": "stdout",
     "output_type": "stream",
     "text": [
      "4300:\tlearn: 0.8805380\ttest: 0.7951875\tbest: 0.7956420 (4092)\ttotal: 18m 35s\tremaining: 3m 1s\n"
     ]
    },
    {
     "name": "stdout",
     "output_type": "stream",
     "text": [
      "4325:\tlearn: 0.8809995\ttest: 0.7948795\tbest: 0.7956420 (4092)\ttotal: 18m 42s\tremaining: 2m 54s\n"
     ]
    },
    {
     "name": "stdout",
     "output_type": "stream",
     "text": [
      "4350:\tlearn: 0.8812068\ttest: 0.7950679\tbest: 0.7956420 (4092)\ttotal: 18m 48s\tremaining: 2m 48s\n"
     ]
    },
    {
     "name": "stdout",
     "output_type": "stream",
     "text": [
      "4375:\tlearn: 0.8816129\ttest: 0.7952162\tbest: 0.7956420 (4092)\ttotal: 18m 55s\tremaining: 2m 41s\n"
     ]
    },
    {
     "name": "stdout",
     "output_type": "stream",
     "text": [
      "4400:\tlearn: 0.8823493\ttest: 0.7952567\tbest: 0.7956420 (4092)\ttotal: 19m 1s\tremaining: 2m 35s\n"
     ]
    },
    {
     "name": "stdout",
     "output_type": "stream",
     "text": [
      "4425:\tlearn: 0.8826108\ttest: 0.7951960\tbest: 0.7956420 (4092)\ttotal: 19m 7s\tremaining: 2m 28s\n"
     ]
    },
    {
     "name": "stdout",
     "output_type": "stream",
     "text": [
      "4450:\tlearn: 0.8831222\ttest: 0.7951956\tbest: 0.7956420 (4092)\ttotal: 19m 14s\tremaining: 2m 22s\n"
     ]
    },
    {
     "name": "stdout",
     "output_type": "stream",
     "text": [
      "4475:\tlearn: 0.8834053\ttest: 0.7950678\tbest: 0.7956420 (4092)\ttotal: 19m 21s\tremaining: 2m 15s\n"
     ]
    },
    {
     "name": "stdout",
     "output_type": "stream",
     "text": [
      "4500:\tlearn: 0.8840705\ttest: 0.7953854\tbest: 0.7956420 (4092)\ttotal: 19m 27s\tremaining: 2m 9s\n"
     ]
    },
    {
     "name": "stdout",
     "output_type": "stream",
     "text": [
      "4525:\tlearn: 0.8843842\ttest: 0.7952989\tbest: 0.7956420 (4092)\ttotal: 19m 33s\tremaining: 2m 2s\n"
     ]
    },
    {
     "name": "stdout",
     "output_type": "stream",
     "text": [
      "4550:\tlearn: 0.8844946\ttest: 0.7949837\tbest: 0.7956420 (4092)\ttotal: 19m 40s\tremaining: 1m 56s\n"
     ]
    },
    {
     "name": "stdout",
     "output_type": "stream",
     "text": [
      "4575:\tlearn: 0.8849080\ttest: 0.7950643\tbest: 0.7956420 (4092)\ttotal: 19m 46s\tremaining: 1m 49s\n"
     ]
    },
    {
     "name": "stdout",
     "output_type": "stream",
     "text": [
      "4600:\tlearn: 0.8854579\ttest: 0.7953442\tbest: 0.7956420 (4092)\ttotal: 19m 53s\tremaining: 1m 43s\n"
     ]
    },
    {
     "name": "stdout",
     "output_type": "stream",
     "text": [
      "4625:\tlearn: 0.8857289\ttest: 0.7951722\tbest: 0.7956420 (4092)\ttotal: 19m 59s\tremaining: 1m 37s\n"
     ]
    },
    {
     "name": "stdout",
     "output_type": "stream",
     "text": [
      "4650:\tlearn: 0.8859579\ttest: 0.7950942\tbest: 0.7956420 (4092)\ttotal: 20m 6s\tremaining: 1m 30s\n"
     ]
    },
    {
     "name": "stdout",
     "output_type": "stream",
     "text": [
      "4675:\tlearn: 0.8861913\ttest: 0.7953059\tbest: 0.7956420 (4092)\ttotal: 20m 12s\tremaining: 1m 24s\n"
     ]
    },
    {
     "name": "stdout",
     "output_type": "stream",
     "text": [
      "4700:\tlearn: 0.8865408\ttest: 0.7953086\tbest: 0.7956420 (4092)\ttotal: 20m 19s\tremaining: 1m 17s\n"
     ]
    },
    {
     "name": "stdout",
     "output_type": "stream",
     "text": [
      "4725:\tlearn: 0.8869309\ttest: 0.7955889\tbest: 0.7956420 (4092)\ttotal: 20m 25s\tremaining: 1m 11s\n"
     ]
    },
    {
     "name": "stdout",
     "output_type": "stream",
     "text": [
      "4750:\tlearn: 0.8874555\ttest: 0.7954404\tbest: 0.7956923 (4744)\ttotal: 20m 32s\tremaining: 1m 4s\n"
     ]
    },
    {
     "name": "stdout",
     "output_type": "stream",
     "text": [
      "4775:\tlearn: 0.8879674\ttest: 0.7954837\tbest: 0.7956923 (4744)\ttotal: 20m 38s\tremaining: 58.1s\n"
     ]
    },
    {
     "name": "stdout",
     "output_type": "stream",
     "text": [
      "4800:\tlearn: 0.8882078\ttest: 0.7956798\tbest: 0.7957851 (4798)\ttotal: 20m 45s\tremaining: 51.6s\n"
     ]
    },
    {
     "name": "stdout",
     "output_type": "stream",
     "text": [
      "4825:\tlearn: 0.8888013\ttest: 0.7954332\tbest: 0.7957851 (4798)\ttotal: 20m 51s\tremaining: 45.1s\n"
     ]
    },
    {
     "name": "stdout",
     "output_type": "stream",
     "text": [
      "4850:\tlearn: 0.8891334\ttest: 0.7955390\tbest: 0.7958566 (4841)\ttotal: 20m 58s\tremaining: 38.6s\n"
     ]
    },
    {
     "name": "stdout",
     "output_type": "stream",
     "text": [
      "4875:\tlearn: 0.8897816\ttest: 0.7957262\tbest: 0.7958735 (4865)\ttotal: 21m 4s\tremaining: 32.2s\n"
     ]
    },
    {
     "name": "stdout",
     "output_type": "stream",
     "text": [
      "4900:\tlearn: 0.8902618\ttest: 0.7956655\tbest: 0.7958735 (4865)\ttotal: 21m 11s\tremaining: 25.7s\n"
     ]
    },
    {
     "name": "stdout",
     "output_type": "stream",
     "text": [
      "4925:\tlearn: 0.8905377\ttest: 0.7955194\tbest: 0.7958735 (4865)\ttotal: 21m 17s\tremaining: 19.2s\n"
     ]
    },
    {
     "name": "stdout",
     "output_type": "stream",
     "text": [
      "4950:\tlearn: 0.8907844\ttest: 0.7955398\tbest: 0.7958735 (4865)\ttotal: 21m 23s\tremaining: 12.7s\n"
     ]
    },
    {
     "name": "stdout",
     "output_type": "stream",
     "text": [
      "4975:\tlearn: 0.8910984\ttest: 0.7956704\tbest: 0.7958735 (4865)\ttotal: 21m 30s\tremaining: 6.22s\n"
     ]
    },
    {
     "name": "stdout",
     "output_type": "stream",
     "text": [
      "4999:\tlearn: 0.8914557\ttest: 0.7956718\tbest: 0.7958735 (4865)\ttotal: 21m 36s\tremaining: 0us\n",
      "\n",
      "bestTest = 0.7958734644\n",
      "bestIteration = 4865\n",
      "\n"
     ]
    },
    {
     "name": "stdout",
     "output_type": "stream",
     "text": [
      "Training time: 108.80539236068725 min.\n",
      "OOF recall_at4: 0.6685797960076749\n",
      "OOF normalized_gini: 0.9250443910541197\n",
      "OOF competition metric: 0.7968120935308973\n"
     ]
    },
    {
     "name": "stdout",
     "output_type": "stream",
     "text": [
      "CPU times: user 1d 7h 32min 53s, sys: 54min 26s, total: 1d 8h 27min 20s\n",
      "Wall time: 5h 27min 8s\n"
     ]
    }
   ],
   "source": [
    "%%time \n",
    "\n",
    "all_models = list()\n",
    "all_oof_dfs = list()\n",
    "\n",
    "for repetition in range(N_REPEATS):\n",
    "    print(f\" repeated cross-validation step: {repetition+1}/{N_REPEATS} \".center(100, \"#\"))\n",
    "\n",
    "    folds = pd.read_csv(f'../data/processed/cv{repetition}.csv', index_col=\"customer_ID\")\n",
    "    _train = pd.merge(train, folds, how=\"inner\", left_index=True, right_index=True).reset_index(drop=True)\n",
    "    \n",
    "    tic = time.time()\n",
    "    models,oof = train_models(_train)\n",
    "    tac = time.time()\n",
    "    print(f\"Training time: {(tac-tic)/60} min.\")\n",
    "          \n",
    "    # oof metrics\n",
    "    print(\"OOF recall_at4:\", compute_recall_at4(oof.target.values, oof.pred.values))\n",
    "    print(\"OOF normalized_gini:\", compute_normalized_gini(oof.target.values, oof.pred.values))\n",
    "    print(\"OOF competition metric:\", compute_amex_metric(oof.target.values, oof.pred.values))\n",
    "    \n",
    "    all_models.append(models)\n",
    "    all_oof_dfs.append(oof)\n",
    "    \n",
    "    # save oof predictions\n",
    "    oof.to_csv(OOF_PATH/f\"oof-cv{repetition}.csv\", index=False)\n",
    "    # save models\n",
    "    for fold,_model in enumerate(models):\n",
    "        _model.save_model(ART_PATH/f\"/model-cv{repetition}-fold{fold}.cbm\", format=\"cbm\")\n",
    "          \n",
    "    del _train, folds; gc.collect()"
   ]
  },
  {
   "cell_type": "code",
   "execution_count": 13,
   "id": "21bc151c",
   "metadata": {
    "execution": {
     "iopub.execute_input": "2022-08-10T23:43:06.873535Z",
     "iopub.status.busy": "2022-08-10T23:43:06.749901Z",
     "iopub.status.idle": "2022-08-10T23:43:06.958816Z",
     "shell.execute_reply": "2022-08-10T23:43:06.958403Z"
    },
    "papermill": {
     "duration": 1.290282,
     "end_time": "2022-08-10T23:43:06.958938",
     "exception": false,
     "start_time": "2022-08-10T23:43:05.668656",
     "status": "completed"
    },
    "tags": []
   },
   "outputs": [
    {
     "data": {
      "text/html": [
       "<div>\n",
       "<style scoped>\n",
       "    .dataframe tbody tr th:only-of-type {\n",
       "        vertical-align: middle;\n",
       "    }\n",
       "\n",
       "    .dataframe tbody tr th {\n",
       "        vertical-align: top;\n",
       "    }\n",
       "\n",
       "    .dataframe thead th {\n",
       "        text-align: right;\n",
       "    }\n",
       "</style>\n",
       "<table border=\"1\" class=\"dataframe\">\n",
       "  <thead>\n",
       "    <tr style=\"text-align: right;\">\n",
       "      <th></th>\n",
       "      <th>recall_at4</th>\n",
       "      <th>gini</th>\n",
       "      <th>metric</th>\n",
       "    </tr>\n",
       "  </thead>\n",
       "  <tbody>\n",
       "    <tr>\n",
       "      <th>0</th>\n",
       "      <td>0.668479</td>\n",
       "      <td>0.924912</td>\n",
       "      <td>0.796696</td>\n",
       "    </tr>\n",
       "    <tr>\n",
       "      <th>1</th>\n",
       "      <td>0.668058</td>\n",
       "      <td>0.924928</td>\n",
       "      <td>0.796493</td>\n",
       "    </tr>\n",
       "    <tr>\n",
       "      <th>2</th>\n",
       "      <td>0.668580</td>\n",
       "      <td>0.925044</td>\n",
       "      <td>0.796812</td>\n",
       "    </tr>\n",
       "  </tbody>\n",
       "</table>\n",
       "</div>"
      ],
      "text/plain": [
       "   recall_at4      gini    metric\n",
       "0    0.668479  0.924912  0.796696\n",
       "1    0.668058  0.924928  0.796493\n",
       "2    0.668580  0.925044  0.796812"
      ]
     },
     "metadata": {},
     "output_type": "display_data"
    },
    {
     "name": "stdout",
     "output_type": "stream",
     "text": [
      "\n",
      "mean:\n"
     ]
    },
    {
     "data": {
      "text/plain": [
       "recall_at4    0.668372\n",
       "gini          0.924961\n",
       "metric        0.796667\n",
       "dtype: float64"
      ]
     },
     "metadata": {},
     "output_type": "display_data"
    },
    {
     "name": "stdout",
     "output_type": "stream",
     "text": [
      "\n",
      "std:\n"
     ]
    },
    {
     "data": {
      "text/plain": [
       "recall_at4    0.000277\n",
       "gini          0.000072\n",
       "metric        0.000162\n",
       "dtype: float64"
      ]
     },
     "metadata": {},
     "output_type": "display_data"
    }
   ],
   "source": [
    "results = list()\n",
    "\n",
    "for oof in all_oof_dfs:  \n",
    "    r = {\n",
    "        \"recall_at4\": compute_recall_at4(oof.target.values, oof.pred.values),\n",
    "        \"gini\": compute_normalized_gini(oof.target.values, oof.pred.values),\n",
    "        \"metric\": compute_amex_metric(oof.target.values, oof.pred.values),\n",
    "    }\n",
    "    results.append(r)\n",
    "\n",
    "results = pd.DataFrame(results)\n",
    "display(results)\n",
    "\n",
    "print(\"\\nmean:\")\n",
    "display(results.mean(axis=0))\n",
    "\n",
    "print(\"\\nstd:\")\n",
    "display(results.std(axis=0))"
   ]
  },
  {
   "cell_type": "code",
   "execution_count": 14,
   "id": "7b334749",
   "metadata": {
    "execution": {
     "iopub.execute_input": "2022-08-10T23:43:08.504601Z",
     "iopub.status.busy": "2022-08-10T23:43:08.503902Z",
     "iopub.status.idle": "2022-08-10T23:43:08.506874Z",
     "shell.execute_reply": "2022-08-10T23:43:08.506473Z"
    },
    "papermill": {
     "duration": 0.84879,
     "end_time": "2022-08-10T23:43:08.506994",
     "exception": false,
     "start_time": "2022-08-10T23:43:07.658204",
     "status": "completed"
    },
    "tags": []
   },
   "outputs": [
    {
     "data": {
      "text/plain": [
       "21"
      ]
     },
     "execution_count": 14,
     "metadata": {},
     "output_type": "execute_result"
    }
   ],
   "source": [
    "del train\n",
    "gc.collect()"
   ]
  },
  {
   "cell_type": "markdown",
   "id": "9d9e15d8",
   "metadata": {
    "papermill": {
     "duration": 0.69981,
     "end_time": "2022-08-10T23:43:09.909743",
     "exception": false,
     "start_time": "2022-08-10T23:43:09.209933",
     "status": "completed"
    },
    "tags": []
   },
   "source": [
    "***\n",
    "## make predictions and submit"
   ]
  },
  {
   "cell_type": "code",
   "execution_count": 15,
   "id": "01ebe284",
   "metadata": {
    "execution": {
     "iopub.execute_input": "2022-08-10T23:43:11.317209Z",
     "iopub.status.busy": "2022-08-10T23:43:11.316694Z",
     "iopub.status.idle": "2022-08-10T23:43:11.318947Z",
     "shell.execute_reply": "2022-08-10T23:43:11.318549Z"
    },
    "papermill": {
     "duration": 0.707237,
     "end_time": "2022-08-10T23:43:11.319061",
     "exception": false,
     "start_time": "2022-08-10T23:43:10.611824",
     "status": "completed"
    },
    "tags": []
   },
   "outputs": [],
   "source": [
    "def make_predictions(dataframe:pd.DataFrame, input_feats:list, models:list) -> np.array:\n",
    "    preds = [\n",
    "        model.predict(dataframe[input_feats], prediction_type=\"Probability\")[:,1] \n",
    "        for model in models\n",
    "    ]\n",
    "    return np.mean(preds, axis=0)    "
   ]
  },
  {
   "cell_type": "code",
   "execution_count": 16,
   "id": "62c2bdf4",
   "metadata": {
    "execution": {
     "iopub.execute_input": "2022-08-10T23:43:12.710672Z",
     "iopub.status.busy": "2022-08-10T23:43:12.709785Z",
     "iopub.status.idle": "2022-08-10T23:43:25.550114Z",
     "shell.execute_reply": "2022-08-10T23:43:25.549655Z"
    },
    "papermill": {
     "duration": 13.537985,
     "end_time": "2022-08-10T23:43:25.550265",
     "exception": false,
     "start_time": "2022-08-10T23:43:12.012280",
     "status": "completed"
    },
    "tags": []
   },
   "outputs": [],
   "source": [
    "test = pd.read_parquet(\"../data/processed/dsv06/test.parquet\")\n",
    "sub = pd.read_csv(\"../data/raw/sample_submission.csv\")"
   ]
  },
  {
   "cell_type": "code",
   "execution_count": 17,
   "id": "dac83480",
   "metadata": {
    "execution": {
     "iopub.execute_input": "2022-08-10T23:43:26.951067Z",
     "iopub.status.busy": "2022-08-10T23:43:26.950510Z",
     "iopub.status.idle": "2022-08-10T23:44:54.825098Z",
     "shell.execute_reply": "2022-08-10T23:44:54.825859Z"
    },
    "papermill": {
     "duration": 88.580963,
     "end_time": "2022-08-10T23:44:54.826047",
     "exception": false,
     "start_time": "2022-08-10T23:43:26.245084",
     "status": "completed"
    },
    "tags": []
   },
   "outputs": [
    {
     "name": "stdout",
     "output_type": "stream",
     "text": [
      "CPU times: user 7min 28s, sys: 13.4 s, total: 7min 42s\n",
      "Wall time: 1min 27s\n"
     ]
    }
   ],
   "source": [
    "%%time\n",
    "\n",
    "all_preds = list()\n",
    "\n",
    "for repetition in range(N_REPEATS):\n",
    "    if \"prediction\" in sub.columns:\n",
    "        sub.drop(\"prediction\", axis=1, inplace=True)\n",
    "    if \"prediction\" in test.columns:\n",
    "        test.drop(\"prediction\", axis=1, inplace=True)\n",
    "        \n",
    "    models = all_models[repetition]\n",
    "    preds = make_predictions(test, input_feats, models)\n",
    "    all_preds.append(preds)\n",
    "       \n",
    "    test[\"prediction\"] = preds\n",
    "    sub[\"prediction\"] = test.loc[sub.customer_ID.values,\"prediction\"].values\n",
    "    assert sub.prediction.isna().sum() == 0\n",
    "    sub.to_csv(SUB_PATH/f\"submission-cv{repetition}.csv\", index=False)"
   ]
  },
  {
   "cell_type": "code",
   "execution_count": 18,
   "id": "a9840c9f",
   "metadata": {
    "execution": {
     "iopub.execute_input": "2022-08-10T23:44:56.225045Z",
     "iopub.status.busy": "2022-08-10T23:44:56.224185Z",
     "iopub.status.idle": "2022-08-10T23:45:00.629555Z",
     "shell.execute_reply": "2022-08-10T23:45:00.629053Z"
    },
    "papermill": {
     "duration": 5.105408,
     "end_time": "2022-08-10T23:45:00.629687",
     "exception": false,
     "start_time": "2022-08-10T23:44:55.524279",
     "status": "completed"
    },
    "tags": []
   },
   "outputs": [
    {
     "name": "stdout",
     "output_type": "stream",
     "text": [
      "CPU times: user 3.6 s, sys: 810 ms, total: 4.41 s\n",
      "Wall time: 4.4 s\n"
     ]
    }
   ],
   "source": [
    "%%time\n",
    "# predict using all the trained models\n",
    "if \"prediction\" in sub.columns:\n",
    "    sub.drop(\"prediction\", axis=1, inplace=True)\n",
    "if \"prediction\" in test.columns:\n",
    "    test.drop(\"prediction\", axis=1, inplace=True)\n",
    "\n",
    "test[\"prediction\"] = np.mean(all_preds, axis=0)\n",
    "sub[\"prediction\"] = test.loc[sub.customer_ID.values,\"prediction\"].values\n",
    "assert sub.prediction.isna().sum() == 0\n",
    "sub.to_csv(SUB_PATH/f\"submission-all.csv\", index=False)"
   ]
  },
  {
   "cell_type": "markdown",
   "id": "bc289dda",
   "metadata": {
    "papermill": {
     "duration": 0.700398,
     "end_time": "2022-08-10T23:45:02.023018",
     "exception": false,
     "start_time": "2022-08-10T23:45:01.322620",
     "status": "completed"
    },
    "tags": []
   },
   "source": [
    "***"
   ]
  }
 ],
 "metadata": {
  "kernelspec": {
   "display_name": "Python 3 (ipykernel)",
   "language": "python",
   "name": "python3"
  },
  "language_info": {
   "codemirror_mode": {
    "name": "ipython",
    "version": 3
   },
   "file_extension": ".py",
   "mimetype": "text/x-python",
   "name": "python",
   "nbconvert_exporter": "python",
   "pygments_lexer": "ipython3",
   "version": "3.7.12"
  },
  "papermill": {
   "default_parameters": {},
   "duration": 19759.632885,
   "end_time": "2022-08-10T23:45:03.853646",
   "environment_variables": {},
   "exception": null,
   "input_path": "train/catboost-dsv06.ipynb",
   "output_path": "train/outputs/catboost-dsv06.ipynb",
   "parameters": {},
   "start_time": "2022-08-10T18:15:44.220761",
   "version": "2.3.3"
  }
 },
 "nbformat": 4,
 "nbformat_minor": 5
}