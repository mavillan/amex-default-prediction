{
 "cells": [
  {
   "cell_type": "code",
   "execution_count": 1,
   "id": "465d3a2c",
   "metadata": {
    "_cell_guid": "b1076dfc-b9ad-4769-8c92-a6c4dae69d19",
    "_uuid": "8f2839f25d086af736a60e9eeb907d3b93b6e0e5",
    "execution": {
     "iopub.execute_input": "2022-08-23T22:15:37.317539Z",
     "iopub.status.busy": "2022-08-23T22:15:37.316986Z",
     "iopub.status.idle": "2022-08-23T22:15:39.069413Z",
     "shell.execute_reply": "2022-08-23T22:15:39.069860Z"
    },
    "papermill": {
     "duration": 2.590218,
     "end_time": "2022-08-23T22:15:39.070194",
     "exception": false,
     "start_time": "2022-08-23T22:15:36.479976",
     "status": "completed"
    },
    "tags": []
   },
   "outputs": [],
   "source": [
    "import gc\n",
    "from glob import glob\n",
    "import numpy as np\n",
    "import pandas as pd\n",
    "import matplotlib.pyplot as plt\n",
    "from pathlib import Path\n",
    "import time\n",
    "\n",
    "import category_encoders as ce\n",
    "import catboost\n",
    "from sklearn import metrics\n",
    "\n",
    "import sys\n",
    "sys.path.append(\"../utils\")\n",
    "from metrics import compute_recall_at4, compute_normalized_gini, compute_amex_metric\n",
    "#from messaging import send_message\n",
    "\n",
    "pd.set_option('display.max_columns', None)"
   ]
  },
  {
   "cell_type": "code",
   "execution_count": 2,
   "id": "35d9cb35",
   "metadata": {
    "execution": {
     "iopub.execute_input": "2022-08-23T22:15:40.301853Z",
     "iopub.status.busy": "2022-08-23T22:15:40.301276Z",
     "iopub.status.idle": "2022-08-23T22:15:40.302559Z",
     "shell.execute_reply": "2022-08-23T22:15:40.302922Z"
    },
    "papermill": {
     "duration": 0.859713,
     "end_time": "2022-08-23T22:15:40.303110",
     "exception": false,
     "start_time": "2022-08-23T22:15:39.443397",
     "status": "completed"
    },
    "tags": []
   },
   "outputs": [],
   "source": [
    "# metrics in catboost format\n",
    "class AmexMetric:\n",
    "    \n",
    "    def is_max_optimal(self):\n",
    "        return True\n",
    "\n",
    "    def evaluate(self, approxes, target, weight):    \n",
    "        assert len(approxes) == 1\n",
    "        assert len(target) == len(approxes[0])\n",
    "        scores = approxes[0]\n",
    "        target = target\n",
    "        return compute_amex_metric(target, scores), 1.\n",
    "\n",
    "    def get_final_error(self, error, weight):\n",
    "        return error\n",
    "\n",
    "class RecallAt4:\n",
    "    \n",
    "    def is_max_optimal(self):\n",
    "        return True\n",
    "\n",
    "    def evaluate(self, approxes, target, weight):\n",
    "        assert len(approxes) == 1\n",
    "        assert len(target) == len(approxes[0])\n",
    "        scores = np.array(approxes[0])\n",
    "        target = np.array(target)                                   \n",
    "        return compute_recall_at4(target, scores), 1.\n",
    "\n",
    "    def get_final_error(self, error, weight):\n",
    "        return error\n",
    "\n",
    "class NormGini:\n",
    "    \n",
    "    def is_max_optimal(self):\n",
    "        return True\n",
    "\n",
    "    def evaluate(self, approxes, target, weight):\n",
    "        assert len(approxes) == 1\n",
    "        assert len(target) == len(approxes[0])\n",
    "        scores = np.array(approxes[0])\n",
    "        target = np.array(target)                   \n",
    "        return compute_normalized_gini(target, scores), 1.\n",
    "\n",
    "    def get_final_error(self, error, weight):\n",
    "        return error"
   ]
  },
  {
   "cell_type": "code",
   "execution_count": 3,
   "id": "8e432859",
   "metadata": {
    "execution": {
     "iopub.execute_input": "2022-08-23T22:15:41.959318Z",
     "iopub.status.busy": "2022-08-23T22:15:41.958748Z",
     "iopub.status.idle": "2022-08-23T22:15:41.960990Z",
     "shell.execute_reply": "2022-08-23T22:15:41.960563Z"
    },
    "papermill": {
     "duration": 0.819564,
     "end_time": "2022-08-23T22:15:41.961124",
     "exception": false,
     "start_time": "2022-08-23T22:15:41.141560",
     "status": "completed"
    },
    "tags": []
   },
   "outputs": [],
   "source": [
    "# CONFIG PARAMS\n",
    "N_REPEATS = 5\n",
    "DATASET_VERSION = \"06\""
   ]
  },
  {
   "cell_type": "code",
   "execution_count": 4,
   "id": "1a577f45",
   "metadata": {
    "execution": {
     "iopub.execute_input": "2022-08-23T22:15:43.658923Z",
     "iopub.status.busy": "2022-08-23T22:15:43.658350Z",
     "iopub.status.idle": "2022-08-23T22:15:43.660709Z",
     "shell.execute_reply": "2022-08-23T22:15:43.660283Z"
    },
    "papermill": {
     "duration": 0.857141,
     "end_time": "2022-08-23T22:15:43.660855",
     "exception": false,
     "start_time": "2022-08-23T22:15:42.803714",
     "status": "completed"
    },
    "tags": []
   },
   "outputs": [],
   "source": [
    "OOF_PATH = Path(f\"../data/oof/catboost-dsv{DATASET_VERSION}\")\n",
    "SUB_PATH = Path(f\"../data/subs/catboost-dsv{DATASET_VERSION}\")\n",
    "ART_PATH = Path(f\"../artifacts/catboost-dsv{DATASET_VERSION}\")\n",
    "\n",
    "if not OOF_PATH.exists():\n",
    "    OOF_PATH.mkdir(parents=True, exist_ok=True)\n",
    "if not SUB_PATH.exists():\n",
    "    SUB_PATH.mkdir(parents=True, exist_ok=True)\n",
    "if not ART_PATH.exists():\n",
    "    ART_PATH.mkdir(parents=True, exist_ok=True)"
   ]
  },
  {
   "cell_type": "markdown",
   "id": "04ec10a6",
   "metadata": {
    "papermill": {
     "duration": 0.848392,
     "end_time": "2022-08-23T22:15:45.350322",
     "exception": false,
     "start_time": "2022-08-23T22:15:44.501930",
     "status": "completed"
    },
    "tags": []
   },
   "source": [
    "***\n",
    "## load and prepare data"
   ]
  },
  {
   "cell_type": "code",
   "execution_count": 5,
   "id": "2ad93109",
   "metadata": {
    "execution": {
     "iopub.execute_input": "2022-08-23T22:15:47.044759Z",
     "iopub.status.busy": "2022-08-23T22:15:47.044236Z",
     "iopub.status.idle": "2022-08-23T22:15:49.331642Z",
     "shell.execute_reply": "2022-08-23T22:15:49.331126Z"
    },
    "papermill": {
     "duration": 3.139943,
     "end_time": "2022-08-23T22:15:49.331786",
     "exception": false,
     "start_time": "2022-08-23T22:15:46.191843",
     "status": "completed"
    },
    "tags": []
   },
   "outputs": [],
   "source": [
    "train = pd.read_parquet(f\"../data/processed/dsv{DATASET_VERSION}/train.parquet\")\n",
    "train_labels = pd.read_csv(\"../data/raw/train_labels.csv\", index_col=\"customer_ID\")"
   ]
  },
  {
   "cell_type": "code",
   "execution_count": 6,
   "id": "47b5ef2f",
   "metadata": {
    "execution": {
     "iopub.execute_input": "2022-08-23T22:15:50.878458Z",
     "iopub.status.busy": "2022-08-23T22:15:50.877832Z",
     "iopub.status.idle": "2022-08-23T22:15:50.880471Z",
     "shell.execute_reply": "2022-08-23T22:15:50.880854Z"
    },
    "papermill": {
     "duration": 0.858123,
     "end_time": "2022-08-23T22:15:50.881037",
     "exception": false,
     "start_time": "2022-08-23T22:15:50.022914",
     "status": "completed"
    },
    "tags": []
   },
   "outputs": [
    {
     "data": {
      "text/plain": [
       "1308"
      ]
     },
     "execution_count": 6,
     "metadata": {},
     "output_type": "execute_result"
    }
   ],
   "source": [
    "input_feats = train.columns.tolist()\n",
    "len(input_feats)"
   ]
  },
  {
   "cell_type": "code",
   "execution_count": 7,
   "id": "733fe049",
   "metadata": {
    "execution": {
     "iopub.execute_input": "2022-08-23T22:15:52.784510Z",
     "iopub.status.busy": "2022-08-23T22:15:52.751332Z",
     "iopub.status.idle": "2022-08-23T22:15:54.812238Z",
     "shell.execute_reply": "2022-08-23T22:15:54.812647Z"
    },
    "papermill": {
     "duration": 3.091663,
     "end_time": "2022-08-23T22:15:54.812832",
     "exception": false,
     "start_time": "2022-08-23T22:15:51.721169",
     "status": "completed"
    },
    "tags": []
   },
   "outputs": [
    {
     "data": {
      "text/plain": [
       "0"
      ]
     },
     "execution_count": 7,
     "metadata": {},
     "output_type": "execute_result"
    }
   ],
   "source": [
    "train = pd.merge(train, train_labels, how=\"inner\", left_index=True, right_index=True)\n",
    "del train_labels\n",
    "gc.collect()"
   ]
  },
  {
   "cell_type": "markdown",
   "id": "8faff49f",
   "metadata": {
    "papermill": {
     "duration": 0.848883,
     "end_time": "2022-08-23T22:15:55.982062",
     "exception": false,
     "start_time": "2022-08-23T22:15:55.133179",
     "status": "completed"
    },
    "tags": []
   },
   "source": [
    "***\n",
    "## model training\n",
    "\n",
    "train with repeated cross validation"
   ]
  },
  {
   "cell_type": "code",
   "execution_count": 8,
   "id": "bc7e4cf1",
   "metadata": {
    "execution": {
     "iopub.execute_input": "2022-08-23T22:15:57.685659Z",
     "iopub.status.busy": "2022-08-23T22:15:57.685075Z",
     "iopub.status.idle": "2022-08-23T22:15:57.686751Z",
     "shell.execute_reply": "2022-08-23T22:15:57.687162Z"
    },
    "papermill": {
     "duration": 0.856152,
     "end_time": "2022-08-23T22:15:57.687358",
     "exception": false,
     "start_time": "2022-08-23T22:15:56.831206",
     "status": "completed"
    },
    "tags": []
   },
   "outputs": [],
   "source": [
    "model_params = {\n",
    "    'eval_metric':AmexMetric(),\n",
    "    'learning_rate': 0.05,\n",
    "    'nan_mode':'Min',\n",
    "    'random_seed': 2112,\n",
    "    'auto_class_weights': None,\n",
    "    'bootstrap_type': 'Bernoulli',\n",
    "    'depth': 6,\n",
    "    'rsm': 0.1,\n",
    "    'iterations': 5000,\n",
    "    'l2_leaf_reg': 37.05327214190692,\n",
    "    'min_data_in_leaf': 600,\n",
    "    'random_strength': 27.64341860474617,\n",
    "    'subsample': 0.9,\n",
    "    # early stopping\n",
    "    'early_stopping_rounds':5000,\n",
    "    'use_best_model': False,\n",
    "}"
   ]
  },
  {
   "cell_type": "code",
   "execution_count": 9,
   "id": "67f2f134",
   "metadata": {
    "execution": {
     "iopub.execute_input": "2022-08-23T22:15:59.386580Z",
     "iopub.status.busy": "2022-08-23T22:15:59.385998Z",
     "iopub.status.idle": "2022-08-23T22:15:59.387418Z",
     "shell.execute_reply": "2022-08-23T22:15:59.387792Z"
    },
    "papermill": {
     "duration": 0.859828,
     "end_time": "2022-08-23T22:15:59.387983",
     "exception": false,
     "start_time": "2022-08-23T22:15:58.528155",
     "status": "completed"
    },
    "tags": []
   },
   "outputs": [],
   "source": [
    "def train_models(dataframe: pd.DataFrame, n_folds: int = 5,) -> tuple:\n",
    "    \n",
    "    models = list()\n",
    "    \n",
    "    # dataframe to store the oof predictions\n",
    "    oof = dataframe[[\"target\"]].copy()\n",
    "    oof[\"pred\"] = -1\n",
    "\n",
    "    for fold in range(n_folds):\n",
    "        \n",
    "        seed = repetition*5 + fold\n",
    "        _model_params = dict(model_params)\n",
    "        _model_params[\"random_seed\"] = seed\n",
    "        \n",
    "        print(f\" training model {fold+1}/{n_folds} \".center(100, \"#\"))\n",
    "        print(\"seed:\", seed)\n",
    "        \n",
    "        train_df = dataframe.query(\"fold != @fold\").copy()\n",
    "        valid_df = dataframe.query(\"fold == @fold\").copy()\n",
    "                \n",
    "        train_dset = catboost.Pool(\n",
    "            data=train_df.loc[:,input_feats],\n",
    "            label=train_df.loc[:,\"target\"].values,\n",
    "        )\n",
    "        valid_dset = catboost.Pool(\n",
    "            data=valid_df.loc[:,input_feats],\n",
    "            label=valid_df.loc[:,\"target\"].values,\n",
    "        )\n",
    "        \n",
    "        model = catboost.CatBoostClassifier(**_model_params)\n",
    "        model.fit(\n",
    "            train_dset,\n",
    "            eval_set=valid_dset,\n",
    "            verbose=50,\n",
    "        )     \n",
    "        \n",
    "        oof.loc[valid_df.index,\"pred\"] = model.predict(valid_dset, prediction_type=\"Probability\")[:,1]\n",
    "        \n",
    "        models.append(model)\n",
    "        del train_df,valid_df,train_dset,valid_dset\n",
    "        gc.collect()\n",
    "    \n",
    "    return models,oof"
   ]
  },
  {
   "cell_type": "code",
   "execution_count": 10,
   "id": "e44ae074",
   "metadata": {
    "execution": {
     "iopub.execute_input": "2022-08-23T22:16:01.233678Z",
     "iopub.status.busy": "2022-08-23T22:16:01.233180Z",
     "iopub.status.idle": "2022-08-23T22:16:01.236509Z",
     "shell.execute_reply": "2022-08-23T22:16:01.236873Z"
    },
    "papermill": {
     "duration": 0.868929,
     "end_time": "2022-08-23T22:16:01.237052",
     "exception": false,
     "start_time": "2022-08-23T22:16:00.368123",
     "status": "completed"
    },
    "tags": []
   },
   "outputs": [
    {
     "data": {
      "text/plain": [
       "['../data/processed/cv0.csv',\n",
       " '../data/processed/cv1.csv',\n",
       " '../data/processed/cv2.csv',\n",
       " '../data/processed/cv3.csv',\n",
       " '../data/processed/cv4.csv',\n",
       " '../data/processed/cv5.csv',\n",
       " '../data/processed/cv6.csv',\n",
       " '../data/processed/cv7.csv',\n",
       " '../data/processed/cv8.csv',\n",
       " '../data/processed/cv9.csv']"
      ]
     },
     "execution_count": 10,
     "metadata": {},
     "output_type": "execute_result"
    }
   ],
   "source": [
    "# implement repeated cross validation\n",
    "sorted(glob(\"../data/processed/cv*.csv\"))"
   ]
  },
  {
   "cell_type": "code",
   "execution_count": 11,
   "id": "19f8af10",
   "metadata": {
    "execution": {
     "iopub.execute_input": "2022-08-23T22:16:02.926184Z",
     "iopub.status.busy": "2022-08-23T22:16:02.925612Z",
     "iopub.status.idle": "2022-08-24T02:52:20.048233Z",
     "shell.execute_reply": "2022-08-24T02:52:20.047788Z"
    },
    "papermill": {
     "duration": 16577.978943,
     "end_time": "2022-08-24T02:52:20.048367",
     "exception": false,
     "start_time": "2022-08-23T22:16:02.069424",
     "status": "completed"
    },
    "tags": []
   },
   "outputs": [
    {
     "name": "stdout",
     "output_type": "stream",
     "text": [
      "############################### repeated cross-validation step: 1/5 ################################\n"
     ]
    },
    {
     "name": "stdout",
     "output_type": "stream",
     "text": [
      "######################################## training model 1/5 ########################################\n",
      "seed: 0\n"
     ]
    },
    {
     "name": "stdout",
     "output_type": "stream",
     "text": [
      "0:\tlearn: 0.5888193\ttest: 0.5921461\tbest: 0.5921461 (0)\ttotal: 3.19s\tremaining: 4h 25m 48s\n"
     ]
    },
    {
     "name": "stdout",
     "output_type": "stream",
     "text": [
      "50:\tlearn: 0.7393041\ttest: 0.7438272\tbest: 0.7438272 (50)\ttotal: 9.72s\tremaining: 15m 43s\n"
     ]
    },
    {
     "name": "stdout",
     "output_type": "stream",
     "text": [
      "100:\tlearn: 0.7543890\ttest: 0.7588012\tbest: 0.7588012 (100)\ttotal: 16.4s\tremaining: 13m 17s\n"
     ]
    },
    {
     "name": "stdout",
     "output_type": "stream",
     "text": [
      "150:\tlearn: 0.7610634\ttest: 0.7655453\tbest: 0.7655453 (150)\ttotal: 23.1s\tremaining: 12m 21s\n"
     ]
    },
    {
     "name": "stdout",
     "output_type": "stream",
     "text": [
      "200:\tlearn: 0.7666797\ttest: 0.7704739\tbest: 0.7705914 (199)\ttotal: 29.8s\tremaining: 11m 50s\n"
     ]
    },
    {
     "name": "stdout",
     "output_type": "stream",
     "text": [
      "250:\tlearn: 0.7707041\ttest: 0.7731180\tbest: 0.7731180 (250)\ttotal: 36.4s\tremaining: 11m 28s\n"
     ]
    },
    {
     "name": "stdout",
     "output_type": "stream",
     "text": [
      "300:\tlearn: 0.7760780\ttest: 0.7783082\tbest: 0.7783082 (300)\ttotal: 43.1s\tremaining: 11m 13s\n"
     ]
    },
    {
     "name": "stdout",
     "output_type": "stream",
     "text": [
      "350:\tlearn: 0.7829339\ttest: 0.7830857\tbest: 0.7830857 (350)\ttotal: 49.9s\tremaining: 11m\n"
     ]
    },
    {
     "name": "stdout",
     "output_type": "stream",
     "text": [
      "400:\tlearn: 0.7882106\ttest: 0.7870976\tbest: 0.7870976 (400)\ttotal: 56.5s\tremaining: 10m 48s\n"
     ]
    },
    {
     "name": "stdout",
     "output_type": "stream",
     "text": [
      "450:\tlearn: 0.7910879\ttest: 0.7884509\tbest: 0.7886127 (447)\ttotal: 1m 3s\tremaining: 10m 38s\n"
     ]
    },
    {
     "name": "stdout",
     "output_type": "stream",
     "text": [
      "500:\tlearn: 0.7940708\ttest: 0.7901219\tbest: 0.7901490 (494)\ttotal: 1m 9s\tremaining: 10m 28s\n"
     ]
    },
    {
     "name": "stdout",
     "output_type": "stream",
     "text": [
      "550:\tlearn: 0.7964946\ttest: 0.7915168\tbest: 0.7919799 (540)\ttotal: 1m 16s\tremaining: 10m 19s\n"
     ]
    },
    {
     "name": "stdout",
     "output_type": "stream",
     "text": [
      "600:\tlearn: 0.7985591\ttest: 0.7924068\tbest: 0.7925896 (598)\ttotal: 1m 23s\tremaining: 10m 10s\n"
     ]
    },
    {
     "name": "stdout",
     "output_type": "stream",
     "text": [
      "650:\tlearn: 0.8006768\ttest: 0.7935411\tbest: 0.7936168 (647)\ttotal: 1m 30s\tremaining: 10m 2s\n"
     ]
    },
    {
     "name": "stdout",
     "output_type": "stream",
     "text": [
      "700:\tlearn: 0.8025712\ttest: 0.7939606\tbest: 0.7940954 (696)\ttotal: 1m 36s\tremaining: 9m 54s\n"
     ]
    },
    {
     "name": "stdout",
     "output_type": "stream",
     "text": [
      "750:\tlearn: 0.8047764\ttest: 0.7947264\tbest: 0.7948886 (729)\ttotal: 1m 43s\tremaining: 9m 46s\n"
     ]
    },
    {
     "name": "stdout",
     "output_type": "stream",
     "text": [
      "800:\tlearn: 0.8065548\ttest: 0.7952049\tbest: 0.7954738 (779)\ttotal: 1m 50s\tremaining: 9m 38s\n"
     ]
    },
    {
     "name": "stdout",
     "output_type": "stream",
     "text": [
      "850:\tlearn: 0.8083117\ttest: 0.7957023\tbest: 0.7957023 (850)\ttotal: 1m 57s\tremaining: 9m 30s\n"
     ]
    },
    {
     "name": "stdout",
     "output_type": "stream",
     "text": [
      "900:\tlearn: 0.8096100\ttest: 0.7958671\tbest: 0.7960684 (892)\ttotal: 2m 3s\tremaining: 9m 22s\n"
     ]
    },
    {
     "name": "stdout",
     "output_type": "stream",
     "text": [
      "950:\tlearn: 0.8115347\ttest: 0.7962948\tbest: 0.7963110 (948)\ttotal: 2m 10s\tremaining: 9m 15s\n"
     ]
    },
    {
     "name": "stdout",
     "output_type": "stream",
     "text": [
      "1000:\tlearn: 0.8126388\ttest: 0.7962105\tbest: 0.7966124 (987)\ttotal: 2m 17s\tremaining: 9m 7s\n"
     ]
    },
    {
     "name": "stdout",
     "output_type": "stream",
     "text": [
      "1050:\tlearn: 0.8142557\ttest: 0.7960463\tbest: 0.7966124 (987)\ttotal: 2m 23s\tremaining: 9m\n"
     ]
    },
    {
     "name": "stdout",
     "output_type": "stream",
     "text": [
      "1100:\tlearn: 0.8156672\ttest: 0.7962987\tbest: 0.7966124 (987)\ttotal: 2m 30s\tremaining: 8m 52s\n"
     ]
    },
    {
     "name": "stdout",
     "output_type": "stream",
     "text": [
      "1150:\tlearn: 0.8168419\ttest: 0.7963966\tbest: 0.7966124 (987)\ttotal: 2m 37s\tremaining: 8m 45s\n"
     ]
    },
    {
     "name": "stdout",
     "output_type": "stream",
     "text": [
      "1200:\tlearn: 0.8182406\ttest: 0.7970150\tbest: 0.7970150 (1200)\ttotal: 2m 43s\tremaining: 8m 38s\n"
     ]
    },
    {
     "name": "stdout",
     "output_type": "stream",
     "text": [
      "1250:\tlearn: 0.8194066\ttest: 0.7970788\tbest: 0.7970788 (1250)\ttotal: 2m 50s\tremaining: 8m 31s\n"
     ]
    },
    {
     "name": "stdout",
     "output_type": "stream",
     "text": [
      "1300:\tlearn: 0.8208025\ttest: 0.7971574\tbest: 0.7974840 (1282)\ttotal: 2m 57s\tremaining: 8m 24s\n"
     ]
    },
    {
     "name": "stdout",
     "output_type": "stream",
     "text": [
      "1350:\tlearn: 0.8222550\ttest: 0.7966464\tbest: 0.7974840 (1282)\ttotal: 3m 4s\tremaining: 8m 17s\n"
     ]
    },
    {
     "name": "stdout",
     "output_type": "stream",
     "text": [
      "1400:\tlearn: 0.8235057\ttest: 0.7969654\tbest: 0.7974840 (1282)\ttotal: 3m 10s\tremaining: 8m 10s\n"
     ]
    },
    {
     "name": "stdout",
     "output_type": "stream",
     "text": [
      "1450:\tlearn: 0.8245738\ttest: 0.7972868\tbest: 0.7976160 (1440)\ttotal: 3m 17s\tremaining: 8m 3s\n"
     ]
    },
    {
     "name": "stdout",
     "output_type": "stream",
     "text": [
      "1500:\tlearn: 0.8257431\ttest: 0.7977493\tbest: 0.7978479 (1485)\ttotal: 3m 24s\tremaining: 7m 56s\n"
     ]
    },
    {
     "name": "stdout",
     "output_type": "stream",
     "text": [
      "1550:\tlearn: 0.8271535\ttest: 0.7977833\tbest: 0.7980531 (1545)\ttotal: 3m 31s\tremaining: 7m 49s\n"
     ]
    },
    {
     "name": "stdout",
     "output_type": "stream",
     "text": [
      "1600:\tlearn: 0.8280728\ttest: 0.7979276\tbest: 0.7984029 (1579)\ttotal: 3m 37s\tremaining: 7m 42s\n"
     ]
    },
    {
     "name": "stdout",
     "output_type": "stream",
     "text": [
      "1650:\tlearn: 0.8293784\ttest: 0.7977200\tbest: 0.7984029 (1579)\ttotal: 3m 44s\tremaining: 7m 35s\n"
     ]
    },
    {
     "name": "stdout",
     "output_type": "stream",
     "text": [
      "1700:\tlearn: 0.8304622\ttest: 0.7978901\tbest: 0.7984029 (1579)\ttotal: 3m 51s\tremaining: 7m 28s\n"
     ]
    },
    {
     "name": "stdout",
     "output_type": "stream",
     "text": [
      "1750:\tlearn: 0.8316380\ttest: 0.7980242\tbest: 0.7984029 (1579)\ttotal: 3m 57s\tremaining: 7m 21s\n"
     ]
    },
    {
     "name": "stdout",
     "output_type": "stream",
     "text": [
      "1800:\tlearn: 0.8327842\ttest: 0.7974687\tbest: 0.7984029 (1579)\ttotal: 4m 4s\tremaining: 7m 14s\n"
     ]
    },
    {
     "name": "stdout",
     "output_type": "stream",
     "text": [
      "1850:\tlearn: 0.8341491\ttest: 0.7978192\tbest: 0.7984029 (1579)\ttotal: 4m 11s\tremaining: 7m 7s\n"
     ]
    },
    {
     "name": "stdout",
     "output_type": "stream",
     "text": [
      "1900:\tlearn: 0.8353635\ttest: 0.7980924\tbest: 0.7984029 (1579)\ttotal: 4m 17s\tremaining: 7m\n"
     ]
    },
    {
     "name": "stdout",
     "output_type": "stream",
     "text": [
      "1950:\tlearn: 0.8363998\ttest: 0.7977993\tbest: 0.7984029 (1579)\ttotal: 4m 24s\tremaining: 6m 53s\n"
     ]
    },
    {
     "name": "stdout",
     "output_type": "stream",
     "text": [
      "2000:\tlearn: 0.8375460\ttest: 0.7978819\tbest: 0.7984029 (1579)\ttotal: 4m 31s\tremaining: 6m 46s\n"
     ]
    },
    {
     "name": "stdout",
     "output_type": "stream",
     "text": [
      "2050:\tlearn: 0.8385691\ttest: 0.7984415\tbest: 0.7985882 (2044)\ttotal: 4m 37s\tremaining: 6m 39s\n"
     ]
    },
    {
     "name": "stdout",
     "output_type": "stream",
     "text": [
      "2100:\tlearn: 0.8396902\ttest: 0.7982829\tbest: 0.7985882 (2044)\ttotal: 4m 44s\tremaining: 6m 32s\n"
     ]
    },
    {
     "name": "stdout",
     "output_type": "stream",
     "text": [
      "2150:\tlearn: 0.8407310\ttest: 0.7983351\tbest: 0.7985882 (2044)\ttotal: 4m 50s\tremaining: 6m 25s\n"
     ]
    },
    {
     "name": "stdout",
     "output_type": "stream",
     "text": [
      "2200:\tlearn: 0.8418530\ttest: 0.7983777\tbest: 0.7985882 (2044)\ttotal: 4m 57s\tremaining: 6m 18s\n"
     ]
    },
    {
     "name": "stdout",
     "output_type": "stream",
     "text": [
      "2250:\tlearn: 0.8428586\ttest: 0.7984501\tbest: 0.7988698 (2233)\ttotal: 5m 3s\tremaining: 6m 10s\n"
     ]
    },
    {
     "name": "stdout",
     "output_type": "stream",
     "text": [
      "2300:\tlearn: 0.8437279\ttest: 0.7986889\tbest: 0.7988698 (2233)\ttotal: 5m 10s\tremaining: 6m 3s\n"
     ]
    },
    {
     "name": "stdout",
     "output_type": "stream",
     "text": [
      "2350:\tlearn: 0.8448961\ttest: 0.7985344\tbest: 0.7988698 (2233)\ttotal: 5m 16s\tremaining: 5m 57s\n"
     ]
    },
    {
     "name": "stdout",
     "output_type": "stream",
     "text": [
      "2400:\tlearn: 0.8458385\ttest: 0.7987242\tbest: 0.7989707 (2388)\ttotal: 5m 23s\tremaining: 5m 50s\n"
     ]
    },
    {
     "name": "stdout",
     "output_type": "stream",
     "text": [
      "2450:\tlearn: 0.8471537\ttest: 0.7986074\tbest: 0.7991043 (2415)\ttotal: 5m 29s\tremaining: 5m 43s\n"
     ]
    },
    {
     "name": "stdout",
     "output_type": "stream",
     "text": [
      "2500:\tlearn: 0.8479982\ttest: 0.7983000\tbest: 0.7991043 (2415)\ttotal: 5m 36s\tremaining: 5m 36s\n"
     ]
    },
    {
     "name": "stdout",
     "output_type": "stream",
     "text": [
      "2550:\tlearn: 0.8490371\ttest: 0.7983986\tbest: 0.7991043 (2415)\ttotal: 5m 42s\tremaining: 5m 29s\n"
     ]
    },
    {
     "name": "stdout",
     "output_type": "stream",
     "text": [
      "2600:\tlearn: 0.8502604\ttest: 0.7981372\tbest: 0.7991043 (2415)\ttotal: 5m 49s\tremaining: 5m 22s\n"
     ]
    },
    {
     "name": "stdout",
     "output_type": "stream",
     "text": [
      "2650:\tlearn: 0.8509465\ttest: 0.7976772\tbest: 0.7991043 (2415)\ttotal: 5m 56s\tremaining: 5m 15s\n"
     ]
    },
    {
     "name": "stdout",
     "output_type": "stream",
     "text": [
      "2700:\tlearn: 0.8521349\ttest: 0.7977118\tbest: 0.7991043 (2415)\ttotal: 6m 2s\tremaining: 5m 8s\n"
     ]
    },
    {
     "name": "stdout",
     "output_type": "stream",
     "text": [
      "2750:\tlearn: 0.8528704\ttest: 0.7980401\tbest: 0.7991043 (2415)\ttotal: 6m 9s\tremaining: 5m 1s\n"
     ]
    },
    {
     "name": "stdout",
     "output_type": "stream",
     "text": [
      "2800:\tlearn: 0.8540200\ttest: 0.7978924\tbest: 0.7991043 (2415)\ttotal: 6m 15s\tremaining: 4m 54s\n"
     ]
    },
    {
     "name": "stdout",
     "output_type": "stream",
     "text": [
      "2850:\tlearn: 0.8551664\ttest: 0.7980502\tbest: 0.7991043 (2415)\ttotal: 6m 22s\tremaining: 4m 48s\n"
     ]
    },
    {
     "name": "stdout",
     "output_type": "stream",
     "text": [
      "2900:\tlearn: 0.8562735\ttest: 0.7979692\tbest: 0.7991043 (2415)\ttotal: 6m 28s\tremaining: 4m 41s\n"
     ]
    },
    {
     "name": "stdout",
     "output_type": "stream",
     "text": [
      "2950:\tlearn: 0.8572375\ttest: 0.7978893\tbest: 0.7991043 (2415)\ttotal: 6m 35s\tremaining: 4m 34s\n"
     ]
    },
    {
     "name": "stdout",
     "output_type": "stream",
     "text": [
      "3000:\tlearn: 0.8582790\ttest: 0.7976920\tbest: 0.7991043 (2415)\ttotal: 6m 42s\tremaining: 4m 27s\n"
     ]
    },
    {
     "name": "stdout",
     "output_type": "stream",
     "text": [
      "3050:\tlearn: 0.8593981\ttest: 0.7975887\tbest: 0.7991043 (2415)\ttotal: 6m 48s\tremaining: 4m 21s\n"
     ]
    },
    {
     "name": "stdout",
     "output_type": "stream",
     "text": [
      "3100:\tlearn: 0.8601356\ttest: 0.7972198\tbest: 0.7991043 (2415)\ttotal: 6m 55s\tremaining: 4m 14s\n"
     ]
    },
    {
     "name": "stdout",
     "output_type": "stream",
     "text": [
      "3150:\tlearn: 0.8611978\ttest: 0.7976488\tbest: 0.7991043 (2415)\ttotal: 7m 1s\tremaining: 4m 7s\n"
     ]
    },
    {
     "name": "stdout",
     "output_type": "stream",
     "text": [
      "3200:\tlearn: 0.8620987\ttest: 0.7977627\tbest: 0.7991043 (2415)\ttotal: 7m 8s\tremaining: 4m\n"
     ]
    },
    {
     "name": "stdout",
     "output_type": "stream",
     "text": [
      "3250:\tlearn: 0.8632526\ttest: 0.7975157\tbest: 0.7991043 (2415)\ttotal: 7m 14s\tremaining: 3m 54s\n"
     ]
    },
    {
     "name": "stdout",
     "output_type": "stream",
     "text": [
      "3300:\tlearn: 0.8639364\ttest: 0.7979114\tbest: 0.7991043 (2415)\ttotal: 7m 21s\tremaining: 3m 47s\n"
     ]
    },
    {
     "name": "stdout",
     "output_type": "stream",
     "text": [
      "3350:\tlearn: 0.8648749\ttest: 0.7977752\tbest: 0.7991043 (2415)\ttotal: 7m 28s\tremaining: 3m 40s\n"
     ]
    },
    {
     "name": "stdout",
     "output_type": "stream",
     "text": [
      "3400:\tlearn: 0.8657684\ttest: 0.7976762\tbest: 0.7991043 (2415)\ttotal: 7m 34s\tremaining: 3m 33s\n"
     ]
    },
    {
     "name": "stdout",
     "output_type": "stream",
     "text": [
      "3450:\tlearn: 0.8667221\ttest: 0.7974488\tbest: 0.7991043 (2415)\ttotal: 7m 41s\tremaining: 3m 27s\n"
     ]
    },
    {
     "name": "stdout",
     "output_type": "stream",
     "text": [
      "3500:\tlearn: 0.8678188\ttest: 0.7974626\tbest: 0.7991043 (2415)\ttotal: 7m 47s\tremaining: 3m 20s\n"
     ]
    },
    {
     "name": "stdout",
     "output_type": "stream",
     "text": [
      "3550:\tlearn: 0.8684477\ttest: 0.7973615\tbest: 0.7991043 (2415)\ttotal: 7m 54s\tremaining: 3m 13s\n"
     ]
    },
    {
     "name": "stdout",
     "output_type": "stream",
     "text": [
      "3600:\tlearn: 0.8693784\ttest: 0.7974655\tbest: 0.7991043 (2415)\ttotal: 8m 1s\tremaining: 3m 6s\n"
     ]
    },
    {
     "name": "stdout",
     "output_type": "stream",
     "text": [
      "3650:\tlearn: 0.8701777\ttest: 0.7972825\tbest: 0.7991043 (2415)\ttotal: 8m 7s\tremaining: 3m\n"
     ]
    },
    {
     "name": "stdout",
     "output_type": "stream",
     "text": [
      "3700:\tlearn: 0.8710183\ttest: 0.7974740\tbest: 0.7991043 (2415)\ttotal: 8m 14s\tremaining: 2m 53s\n"
     ]
    },
    {
     "name": "stdout",
     "output_type": "stream",
     "text": [
      "3750:\tlearn: 0.8719673\ttest: 0.7970702\tbest: 0.7991043 (2415)\ttotal: 8m 20s\tremaining: 2m 46s\n"
     ]
    },
    {
     "name": "stdout",
     "output_type": "stream",
     "text": [
      "3800:\tlearn: 0.8729904\ttest: 0.7969646\tbest: 0.7991043 (2415)\ttotal: 8m 27s\tremaining: 2m 40s\n"
     ]
    },
    {
     "name": "stdout",
     "output_type": "stream",
     "text": [
      "3850:\tlearn: 0.8740765\ttest: 0.7967020\tbest: 0.7991043 (2415)\ttotal: 8m 34s\tremaining: 2m 33s\n"
     ]
    },
    {
     "name": "stdout",
     "output_type": "stream",
     "text": [
      "3900:\tlearn: 0.8747229\ttest: 0.7965364\tbest: 0.7991043 (2415)\ttotal: 8m 40s\tremaining: 2m 26s\n"
     ]
    },
    {
     "name": "stdout",
     "output_type": "stream",
     "text": [
      "3950:\tlearn: 0.8751993\ttest: 0.7968785\tbest: 0.7991043 (2415)\ttotal: 8m 47s\tremaining: 2m 20s\n"
     ]
    },
    {
     "name": "stdout",
     "output_type": "stream",
     "text": [
      "4000:\tlearn: 0.8760138\ttest: 0.7969426\tbest: 0.7991043 (2415)\ttotal: 8m 53s\tremaining: 2m 13s\n"
     ]
    },
    {
     "name": "stdout",
     "output_type": "stream",
     "text": [
      "4050:\tlearn: 0.8769440\ttest: 0.7970199\tbest: 0.7991043 (2415)\ttotal: 9m\tremaining: 2m 6s\n"
     ]
    },
    {
     "name": "stdout",
     "output_type": "stream",
     "text": [
      "4100:\tlearn: 0.8777241\ttest: 0.7970440\tbest: 0.7991043 (2415)\ttotal: 9m 6s\tremaining: 1m 59s\n"
     ]
    },
    {
     "name": "stdout",
     "output_type": "stream",
     "text": [
      "4150:\tlearn: 0.8785656\ttest: 0.7972516\tbest: 0.7991043 (2415)\ttotal: 9m 13s\tremaining: 1m 53s\n"
     ]
    },
    {
     "name": "stdout",
     "output_type": "stream",
     "text": [
      "4200:\tlearn: 0.8790973\ttest: 0.7969397\tbest: 0.7991043 (2415)\ttotal: 9m 20s\tremaining: 1m 46s\n"
     ]
    },
    {
     "name": "stdout",
     "output_type": "stream",
     "text": [
      "4250:\tlearn: 0.8800726\ttest: 0.7972546\tbest: 0.7991043 (2415)\ttotal: 9m 26s\tremaining: 1m 39s\n"
     ]
    },
    {
     "name": "stdout",
     "output_type": "stream",
     "text": [
      "4300:\tlearn: 0.8808412\ttest: 0.7975805\tbest: 0.7991043 (2415)\ttotal: 9m 33s\tremaining: 1m 33s\n"
     ]
    },
    {
     "name": "stdout",
     "output_type": "stream",
     "text": [
      "4350:\tlearn: 0.8816069\ttest: 0.7973443\tbest: 0.7991043 (2415)\ttotal: 9m 39s\tremaining: 1m 26s\n"
     ]
    },
    {
     "name": "stdout",
     "output_type": "stream",
     "text": [
      "4400:\tlearn: 0.8825593\ttest: 0.7969237\tbest: 0.7991043 (2415)\ttotal: 9m 46s\tremaining: 1m 19s\n"
     ]
    },
    {
     "name": "stdout",
     "output_type": "stream",
     "text": [
      "4450:\tlearn: 0.8832642\ttest: 0.7969488\tbest: 0.7991043 (2415)\ttotal: 9m 52s\tremaining: 1m 13s\n"
     ]
    },
    {
     "name": "stdout",
     "output_type": "stream",
     "text": [
      "4500:\tlearn: 0.8838746\ttest: 0.7972142\tbest: 0.7991043 (2415)\ttotal: 9m 59s\tremaining: 1m 6s\n"
     ]
    },
    {
     "name": "stdout",
     "output_type": "stream",
     "text": [
      "4550:\tlearn: 0.8846454\ttest: 0.7972390\tbest: 0.7991043 (2415)\ttotal: 10m 5s\tremaining: 59.8s\n"
     ]
    },
    {
     "name": "stdout",
     "output_type": "stream",
     "text": [
      "4600:\tlearn: 0.8854379\ttest: 0.7971002\tbest: 0.7991043 (2415)\ttotal: 10m 12s\tremaining: 53.1s\n"
     ]
    },
    {
     "name": "stdout",
     "output_type": "stream",
     "text": [
      "4650:\tlearn: 0.8862004\ttest: 0.7970120\tbest: 0.7991043 (2415)\ttotal: 10m 18s\tremaining: 46.4s\n"
     ]
    },
    {
     "name": "stdout",
     "output_type": "stream",
     "text": [
      "4700:\tlearn: 0.8871735\ttest: 0.7969714\tbest: 0.7991043 (2415)\ttotal: 10m 25s\tremaining: 39.8s\n"
     ]
    },
    {
     "name": "stdout",
     "output_type": "stream",
     "text": [
      "4750:\tlearn: 0.8877523\ttest: 0.7972641\tbest: 0.7991043 (2415)\ttotal: 10m 31s\tremaining: 33.1s\n"
     ]
    },
    {
     "name": "stdout",
     "output_type": "stream",
     "text": [
      "4800:\tlearn: 0.8885554\ttest: 0.7973080\tbest: 0.7991043 (2415)\ttotal: 10m 38s\tremaining: 26.5s\n"
     ]
    },
    {
     "name": "stdout",
     "output_type": "stream",
     "text": [
      "4850:\tlearn: 0.8893317\ttest: 0.7970308\tbest: 0.7991043 (2415)\ttotal: 10m 45s\tremaining: 19.8s\n"
     ]
    },
    {
     "name": "stdout",
     "output_type": "stream",
     "text": [
      "4900:\tlearn: 0.8901913\ttest: 0.7970100\tbest: 0.7991043 (2415)\ttotal: 10m 51s\tremaining: 13.2s\n"
     ]
    },
    {
     "name": "stdout",
     "output_type": "stream",
     "text": [
      "4950:\tlearn: 0.8908677\ttest: 0.7973135\tbest: 0.7991043 (2415)\ttotal: 10m 58s\tremaining: 6.51s\n"
     ]
    },
    {
     "name": "stdout",
     "output_type": "stream",
     "text": [
      "4999:\tlearn: 0.8915739\ttest: 0.7971663\tbest: 0.7991043 (2415)\ttotal: 11m 4s\tremaining: 0us\n",
      "\n",
      "bestTest = 0.7991042994\n",
      "bestIteration = 2415\n",
      "\n"
     ]
    },
    {
     "name": "stdout",
     "output_type": "stream",
     "text": [
      "######################################## training model 2/5 ########################################\n",
      "seed: 1\n"
     ]
    },
    {
     "name": "stdout",
     "output_type": "stream",
     "text": [
      "0:\tlearn: 0.5091181\ttest: 0.5057869\tbest: 0.5057869 (0)\ttotal: 478ms\tremaining: 39m 47s\n"
     ]
    },
    {
     "name": "stdout",
     "output_type": "stream",
     "text": [
      "50:\tlearn: 0.7427527\ttest: 0.7428963\tbest: 0.7428963 (50)\ttotal: 7.1s\tremaining: 11m 28s\n"
     ]
    },
    {
     "name": "stdout",
     "output_type": "stream",
     "text": [
      "100:\tlearn: 0.7566688\ttest: 0.7551862\tbest: 0.7551862 (100)\ttotal: 13.6s\tremaining: 11m 1s\n"
     ]
    },
    {
     "name": "stdout",
     "output_type": "stream",
     "text": [
      "150:\tlearn: 0.7633012\ttest: 0.7620118\tbest: 0.7620118 (150)\ttotal: 20.2s\tremaining: 10m 47s\n"
     ]
    },
    {
     "name": "stdout",
     "output_type": "stream",
     "text": [
      "200:\tlearn: 0.7673064\ttest: 0.7653792\tbest: 0.7653792 (200)\ttotal: 26.7s\tremaining: 10m 37s\n"
     ]
    },
    {
     "name": "stdout",
     "output_type": "stream",
     "text": [
      "250:\tlearn: 0.7709184\ttest: 0.7688456\tbest: 0.7689837 (249)\ttotal: 33.3s\tremaining: 10m 30s\n"
     ]
    },
    {
     "name": "stdout",
     "output_type": "stream",
     "text": [
      "300:\tlearn: 0.7761370\ttest: 0.7738747\tbest: 0.7738747 (300)\ttotal: 39.8s\tremaining: 10m 21s\n"
     ]
    },
    {
     "name": "stdout",
     "output_type": "stream",
     "text": [
      "350:\tlearn: 0.7823316\ttest: 0.7805305\tbest: 0.7805305 (350)\ttotal: 46.4s\tremaining: 10m 15s\n"
     ]
    },
    {
     "name": "stdout",
     "output_type": "stream",
     "text": [
      "400:\tlearn: 0.7873002\ttest: 0.7835215\tbest: 0.7835215 (400)\ttotal: 53s\tremaining: 10m 7s\n"
     ]
    },
    {
     "name": "stdout",
     "output_type": "stream",
     "text": [
      "450:\tlearn: 0.7909331\ttest: 0.7857064\tbest: 0.7858846 (442)\ttotal: 59.5s\tremaining: 10m\n"
     ]
    },
    {
     "name": "stdout",
     "output_type": "stream",
     "text": [
      "500:\tlearn: 0.7935977\ttest: 0.7876820\tbest: 0.7876972 (499)\ttotal: 1m 6s\tremaining: 9m 54s\n"
     ]
    },
    {
     "name": "stdout",
     "output_type": "stream",
     "text": [
      "550:\tlearn: 0.7957218\ttest: 0.7889166\tbest: 0.7890380 (549)\ttotal: 1m 12s\tremaining: 9m 47s\n"
     ]
    },
    {
     "name": "stdout",
     "output_type": "stream",
     "text": [
      "600:\tlearn: 0.7979301\ttest: 0.7896461\tbest: 0.7896461 (600)\ttotal: 1m 19s\tremaining: 9m 40s\n"
     ]
    },
    {
     "name": "stdout",
     "output_type": "stream",
     "text": [
      "650:\tlearn: 0.7994667\ttest: 0.7905599\tbest: 0.7905599 (650)\ttotal: 1m 25s\tremaining: 9m 33s\n"
     ]
    },
    {
     "name": "stdout",
     "output_type": "stream",
     "text": [
      "700:\tlearn: 0.8016309\ttest: 0.7908707\tbest: 0.7912456 (684)\ttotal: 1m 32s\tremaining: 9m 27s\n"
     ]
    },
    {
     "name": "stdout",
     "output_type": "stream",
     "text": [
      "750:\tlearn: 0.8033116\ttest: 0.7913117\tbest: 0.7916859 (736)\ttotal: 1m 39s\tremaining: 9m 20s\n"
     ]
    },
    {
     "name": "stdout",
     "output_type": "stream",
     "text": [
      "800:\tlearn: 0.8049682\ttest: 0.7917724\tbest: 0.7917724 (800)\ttotal: 1m 45s\tremaining: 9m 14s\n"
     ]
    },
    {
     "name": "stdout",
     "output_type": "stream",
     "text": [
      "850:\tlearn: 0.8066922\ttest: 0.7913936\tbest: 0.7917724 (800)\ttotal: 1m 52s\tremaining: 9m 7s\n"
     ]
    },
    {
     "name": "stdout",
     "output_type": "stream",
     "text": [
      "900:\tlearn: 0.8084290\ttest: 0.7919605\tbest: 0.7920864 (899)\ttotal: 1m 58s\tremaining: 9m\n"
     ]
    },
    {
     "name": "stdout",
     "output_type": "stream",
     "text": [
      "950:\tlearn: 0.8101313\ttest: 0.7919421\tbest: 0.7921349 (937)\ttotal: 2m 5s\tremaining: 8m 54s\n"
     ]
    },
    {
     "name": "stdout",
     "output_type": "stream",
     "text": [
      "1000:\tlearn: 0.8117032\ttest: 0.7923523\tbest: 0.7924573 (985)\ttotal: 2m 12s\tremaining: 8m 47s\n"
     ]
    },
    {
     "name": "stdout",
     "output_type": "stream",
     "text": [
      "1050:\tlearn: 0.8128702\ttest: 0.7924802\tbest: 0.7926590 (1009)\ttotal: 2m 18s\tremaining: 8m 40s\n"
     ]
    },
    {
     "name": "stdout",
     "output_type": "stream",
     "text": [
      "1100:\tlearn: 0.8144323\ttest: 0.7927408\tbest: 0.7930490 (1094)\ttotal: 2m 25s\tremaining: 8m 34s\n"
     ]
    },
    {
     "name": "stdout",
     "output_type": "stream",
     "text": [
      "1150:\tlearn: 0.8161151\ttest: 0.7929734\tbest: 0.7930490 (1094)\ttotal: 2m 31s\tremaining: 8m 27s\n"
     ]
    },
    {
     "name": "stdout",
     "output_type": "stream",
     "text": [
      "1200:\tlearn: 0.8173998\ttest: 0.7927115\tbest: 0.7930490 (1094)\ttotal: 2m 38s\tremaining: 8m 20s\n"
     ]
    },
    {
     "name": "stdout",
     "output_type": "stream",
     "text": [
      "1250:\tlearn: 0.8187077\ttest: 0.7932276\tbest: 0.7933360 (1234)\ttotal: 2m 44s\tremaining: 8m 14s\n"
     ]
    },
    {
     "name": "stdout",
     "output_type": "stream",
     "text": [
      "1300:\tlearn: 0.8197771\ttest: 0.7931004\tbest: 0.7934147 (1290)\ttotal: 2m 51s\tremaining: 8m 7s\n"
     ]
    },
    {
     "name": "stdout",
     "output_type": "stream",
     "text": [
      "1350:\tlearn: 0.8215005\ttest: 0.7934423\tbest: 0.7935349 (1341)\ttotal: 2m 57s\tremaining: 8m\n"
     ]
    },
    {
     "name": "stdout",
     "output_type": "stream",
     "text": [
      "1400:\tlearn: 0.8225857\ttest: 0.7942159\tbest: 0.7942161 (1399)\ttotal: 3m 4s\tremaining: 7m 53s\n"
     ]
    },
    {
     "name": "stdout",
     "output_type": "stream",
     "text": [
      "1450:\tlearn: 0.8236014\ttest: 0.7941424\tbest: 0.7945361 (1443)\ttotal: 3m 11s\tremaining: 7m 47s\n"
     ]
    },
    {
     "name": "stdout",
     "output_type": "stream",
     "text": [
      "1500:\tlearn: 0.8250703\ttest: 0.7940383\tbest: 0.7945361 (1443)\ttotal: 3m 17s\tremaining: 7m 40s\n"
     ]
    },
    {
     "name": "stdout",
     "output_type": "stream",
     "text": [
      "1550:\tlearn: 0.8262848\ttest: 0.7949394\tbest: 0.7949394 (1550)\ttotal: 3m 23s\tremaining: 7m 33s\n"
     ]
    },
    {
     "name": "stdout",
     "output_type": "stream",
     "text": [
      "1600:\tlearn: 0.8277014\ttest: 0.7956115\tbest: 0.7956115 (1600)\ttotal: 3m 30s\tremaining: 7m 26s\n"
     ]
    },
    {
     "name": "stdout",
     "output_type": "stream",
     "text": [
      "1650:\tlearn: 0.8287453\ttest: 0.7952607\tbest: 0.7957103 (1614)\ttotal: 3m 37s\tremaining: 7m 20s\n"
     ]
    },
    {
     "name": "stdout",
     "output_type": "stream",
     "text": [
      "1700:\tlearn: 0.8301484\ttest: 0.7954640\tbest: 0.7957103 (1614)\ttotal: 3m 43s\tremaining: 7m 13s\n"
     ]
    },
    {
     "name": "stdout",
     "output_type": "stream",
     "text": [
      "1750:\tlearn: 0.8312795\ttest: 0.7949362\tbest: 0.7957103 (1614)\ttotal: 3m 50s\tremaining: 7m 6s\n"
     ]
    },
    {
     "name": "stdout",
     "output_type": "stream",
     "text": [
      "1800:\tlearn: 0.8323275\ttest: 0.7953675\tbest: 0.7957103 (1614)\ttotal: 3m 56s\tremaining: 7m\n"
     ]
    },
    {
     "name": "stdout",
     "output_type": "stream",
     "text": [
      "1850:\tlearn: 0.8334405\ttest: 0.7952158\tbest: 0.7957103 (1614)\ttotal: 4m 3s\tremaining: 6m 53s\n"
     ]
    },
    {
     "name": "stdout",
     "output_type": "stream",
     "text": [
      "1900:\tlearn: 0.8347768\ttest: 0.7960327\tbest: 0.7960327 (1900)\ttotal: 4m 9s\tremaining: 6m 46s\n"
     ]
    },
    {
     "name": "stdout",
     "output_type": "stream",
     "text": [
      "1950:\tlearn: 0.8359344\ttest: 0.7956276\tbest: 0.7960534 (1901)\ttotal: 4m 16s\tremaining: 6m 40s\n"
     ]
    },
    {
     "name": "stdout",
     "output_type": "stream",
     "text": [
      "2000:\tlearn: 0.8370853\ttest: 0.7955557\tbest: 0.7960534 (1901)\ttotal: 4m 22s\tremaining: 6m 33s\n"
     ]
    },
    {
     "name": "stdout",
     "output_type": "stream",
     "text": [
      "2050:\tlearn: 0.8381665\ttest: 0.7955896\tbest: 0.7960534 (1901)\ttotal: 4m 29s\tremaining: 6m 26s\n"
     ]
    },
    {
     "name": "stdout",
     "output_type": "stream",
     "text": [
      "2100:\tlearn: 0.8393615\ttest: 0.7952996\tbest: 0.7960534 (1901)\ttotal: 4m 35s\tremaining: 6m 20s\n"
     ]
    },
    {
     "name": "stdout",
     "output_type": "stream",
     "text": [
      "2150:\tlearn: 0.8405106\ttest: 0.7957759\tbest: 0.7960534 (1901)\ttotal: 4m 42s\tremaining: 6m 13s\n"
     ]
    },
    {
     "name": "stdout",
     "output_type": "stream",
     "text": [
      "2200:\tlearn: 0.8418047\ttest: 0.7958013\tbest: 0.7960534 (1901)\ttotal: 4m 48s\tremaining: 6m 7s\n"
     ]
    },
    {
     "name": "stdout",
     "output_type": "stream",
     "text": [
      "2250:\tlearn: 0.8427906\ttest: 0.7960033\tbest: 0.7963611 (2246)\ttotal: 4m 55s\tremaining: 6m\n"
     ]
    },
    {
     "name": "stdout",
     "output_type": "stream",
     "text": [
      "2300:\tlearn: 0.8439466\ttest: 0.7956483\tbest: 0.7963611 (2246)\ttotal: 5m 2s\tremaining: 5m 54s\n"
     ]
    },
    {
     "name": "stdout",
     "output_type": "stream",
     "text": [
      "2350:\tlearn: 0.8449048\ttest: 0.7954077\tbest: 0.7963611 (2246)\ttotal: 5m 8s\tremaining: 5m 47s\n"
     ]
    },
    {
     "name": "stdout",
     "output_type": "stream",
     "text": [
      "2400:\tlearn: 0.8458004\ttest: 0.7955963\tbest: 0.7963611 (2246)\ttotal: 5m 15s\tremaining: 5m 41s\n"
     ]
    },
    {
     "name": "stdout",
     "output_type": "stream",
     "text": [
      "2450:\tlearn: 0.8468781\ttest: 0.7950387\tbest: 0.7963611 (2246)\ttotal: 5m 21s\tremaining: 5m 34s\n"
     ]
    },
    {
     "name": "stdout",
     "output_type": "stream",
     "text": [
      "2500:\tlearn: 0.8480323\ttest: 0.7952809\tbest: 0.7963611 (2246)\ttotal: 5m 28s\tremaining: 5m 28s\n"
     ]
    },
    {
     "name": "stdout",
     "output_type": "stream",
     "text": [
      "2550:\tlearn: 0.8489575\ttest: 0.7951773\tbest: 0.7963611 (2246)\ttotal: 5m 35s\tremaining: 5m 21s\n"
     ]
    },
    {
     "name": "stdout",
     "output_type": "stream",
     "text": [
      "2600:\tlearn: 0.8500022\ttest: 0.7955150\tbest: 0.7963611 (2246)\ttotal: 5m 41s\tremaining: 5m 15s\n"
     ]
    },
    {
     "name": "stdout",
     "output_type": "stream",
     "text": [
      "2650:\tlearn: 0.8512878\ttest: 0.7953751\tbest: 0.7963611 (2246)\ttotal: 5m 48s\tremaining: 5m 8s\n"
     ]
    },
    {
     "name": "stdout",
     "output_type": "stream",
     "text": [
      "2700:\tlearn: 0.8521421\ttest: 0.7954380\tbest: 0.7963611 (2246)\ttotal: 5m 54s\tremaining: 5m 2s\n"
     ]
    },
    {
     "name": "stdout",
     "output_type": "stream",
     "text": [
      "2750:\tlearn: 0.8532304\ttest: 0.7959271\tbest: 0.7963611 (2246)\ttotal: 6m 1s\tremaining: 4m 55s\n"
     ]
    },
    {
     "name": "stdout",
     "output_type": "stream",
     "text": [
      "2800:\tlearn: 0.8540697\ttest: 0.7956798\tbest: 0.7963611 (2246)\ttotal: 6m 8s\tremaining: 4m 48s\n"
     ]
    },
    {
     "name": "stdout",
     "output_type": "stream",
     "text": [
      "2850:\tlearn: 0.8549597\ttest: 0.7959772\tbest: 0.7963611 (2246)\ttotal: 6m 14s\tremaining: 4m 42s\n"
     ]
    },
    {
     "name": "stdout",
     "output_type": "stream",
     "text": [
      "2900:\tlearn: 0.8559627\ttest: 0.7960511\tbest: 0.7964925 (2890)\ttotal: 6m 21s\tremaining: 4m 35s\n"
     ]
    },
    {
     "name": "stdout",
     "output_type": "stream",
     "text": [
      "2950:\tlearn: 0.8569140\ttest: 0.7959510\tbest: 0.7964925 (2890)\ttotal: 6m 27s\tremaining: 4m 29s\n"
     ]
    },
    {
     "name": "stdout",
     "output_type": "stream",
     "text": [
      "3000:\tlearn: 0.8580782\ttest: 0.7959958\tbest: 0.7964925 (2890)\ttotal: 6m 34s\tremaining: 4m 22s\n"
     ]
    },
    {
     "name": "stdout",
     "output_type": "stream",
     "text": [
      "3050:\tlearn: 0.8591726\ttest: 0.7961998\tbest: 0.7964925 (2890)\ttotal: 6m 40s\tremaining: 4m 16s\n"
     ]
    },
    {
     "name": "stdout",
     "output_type": "stream",
     "text": [
      "3100:\tlearn: 0.8600669\ttest: 0.7960882\tbest: 0.7964925 (2890)\ttotal: 6m 47s\tremaining: 4m 9s\n"
     ]
    },
    {
     "name": "stdout",
     "output_type": "stream",
     "text": [
      "3150:\tlearn: 0.8611526\ttest: 0.7961996\tbest: 0.7965156 (3127)\ttotal: 6m 53s\tremaining: 4m 2s\n"
     ]
    },
    {
     "name": "stdout",
     "output_type": "stream",
     "text": [
      "3200:\tlearn: 0.8617478\ttest: 0.7963957\tbest: 0.7965156 (3127)\ttotal: 7m\tremaining: 3m 56s\n"
     ]
    },
    {
     "name": "stdout",
     "output_type": "stream",
     "text": [
      "3250:\tlearn: 0.8626781\ttest: 0.7961849\tbest: 0.7966689 (3226)\ttotal: 7m 7s\tremaining: 3m 49s\n"
     ]
    },
    {
     "name": "stdout",
     "output_type": "stream",
     "text": [
      "3300:\tlearn: 0.8635243\ttest: 0.7969416\tbest: 0.7970464 (3284)\ttotal: 7m 13s\tremaining: 3m 43s\n"
     ]
    },
    {
     "name": "stdout",
     "output_type": "stream",
     "text": [
      "3350:\tlearn: 0.8646258\ttest: 0.7961170\tbest: 0.7970464 (3284)\ttotal: 7m 20s\tremaining: 3m 36s\n"
     ]
    },
    {
     "name": "stdout",
     "output_type": "stream",
     "text": [
      "3400:\tlearn: 0.8657387\ttest: 0.7965097\tbest: 0.7970464 (3284)\ttotal: 7m 26s\tremaining: 3m 30s\n"
     ]
    },
    {
     "name": "stdout",
     "output_type": "stream",
     "text": [
      "3450:\tlearn: 0.8665285\ttest: 0.7963014\tbest: 0.7970464 (3284)\ttotal: 7m 33s\tremaining: 3m 23s\n"
     ]
    },
    {
     "name": "stdout",
     "output_type": "stream",
     "text": [
      "3500:\tlearn: 0.8675401\ttest: 0.7962714\tbest: 0.7970464 (3284)\ttotal: 7m 39s\tremaining: 3m 16s\n"
     ]
    },
    {
     "name": "stdout",
     "output_type": "stream",
     "text": [
      "3550:\tlearn: 0.8684625\ttest: 0.7963605\tbest: 0.7970464 (3284)\ttotal: 7m 46s\tremaining: 3m 10s\n"
     ]
    },
    {
     "name": "stdout",
     "output_type": "stream",
     "text": [
      "3600:\tlearn: 0.8692226\ttest: 0.7963019\tbest: 0.7970464 (3284)\ttotal: 7m 52s\tremaining: 3m 3s\n"
     ]
    },
    {
     "name": "stdout",
     "output_type": "stream",
     "text": [
      "3650:\tlearn: 0.8701172\ttest: 0.7965203\tbest: 0.7970464 (3284)\ttotal: 7m 59s\tremaining: 2m 57s\n"
     ]
    },
    {
     "name": "stdout",
     "output_type": "stream",
     "text": [
      "3700:\tlearn: 0.8709344\ttest: 0.7964259\tbest: 0.7970464 (3284)\ttotal: 8m 6s\tremaining: 2m 50s\n"
     ]
    },
    {
     "name": "stdout",
     "output_type": "stream",
     "text": [
      "3750:\tlearn: 0.8719998\ttest: 0.7966041\tbest: 0.7970464 (3284)\ttotal: 8m 12s\tremaining: 2m 44s\n"
     ]
    },
    {
     "name": "stdout",
     "output_type": "stream",
     "text": [
      "3800:\tlearn: 0.8726575\ttest: 0.7969315\tbest: 0.7970464 (3284)\ttotal: 8m 19s\tremaining: 2m 37s\n"
     ]
    },
    {
     "name": "stdout",
     "output_type": "stream",
     "text": [
      "3850:\tlearn: 0.8738419\ttest: 0.7969552\tbest: 0.7970464 (3284)\ttotal: 8m 25s\tremaining: 2m 30s\n"
     ]
    },
    {
     "name": "stdout",
     "output_type": "stream",
     "text": [
      "3900:\tlearn: 0.8745515\ttest: 0.7972551\tbest: 0.7974850 (3882)\ttotal: 8m 32s\tremaining: 2m 24s\n"
     ]
    },
    {
     "name": "stdout",
     "output_type": "stream",
     "text": [
      "3950:\tlearn: 0.8752221\ttest: 0.7972332\tbest: 0.7974850 (3882)\ttotal: 8m 38s\tremaining: 2m 17s\n"
     ]
    },
    {
     "name": "stdout",
     "output_type": "stream",
     "text": [
      "4000:\tlearn: 0.8763959\ttest: 0.7974729\tbest: 0.7976443 (3971)\ttotal: 8m 45s\tremaining: 2m 11s\n"
     ]
    },
    {
     "name": "stdout",
     "output_type": "stream",
     "text": [
      "4050:\tlearn: 0.8772505\ttest: 0.7972211\tbest: 0.7976857 (4032)\ttotal: 8m 52s\tremaining: 2m 4s\n"
     ]
    },
    {
     "name": "stdout",
     "output_type": "stream",
     "text": [
      "4100:\tlearn: 0.8780422\ttest: 0.7972314\tbest: 0.7976857 (4032)\ttotal: 8m 58s\tremaining: 1m 58s\n"
     ]
    },
    {
     "name": "stdout",
     "output_type": "stream",
     "text": [
      "4150:\tlearn: 0.8789356\ttest: 0.7973279\tbest: 0.7976857 (4032)\ttotal: 9m 5s\tremaining: 1m 51s\n"
     ]
    },
    {
     "name": "stdout",
     "output_type": "stream",
     "text": [
      "4200:\tlearn: 0.8796600\ttest: 0.7971403\tbest: 0.7976857 (4032)\ttotal: 9m 11s\tremaining: 1m 44s\n"
     ]
    },
    {
     "name": "stdout",
     "output_type": "stream",
     "text": [
      "4250:\tlearn: 0.8807127\ttest: 0.7967665\tbest: 0.7976857 (4032)\ttotal: 9m 18s\tremaining: 1m 38s\n"
     ]
    },
    {
     "name": "stdout",
     "output_type": "stream",
     "text": [
      "4300:\tlearn: 0.8815229\ttest: 0.7969561\tbest: 0.7976857 (4032)\ttotal: 9m 24s\tremaining: 1m 31s\n"
     ]
    },
    {
     "name": "stdout",
     "output_type": "stream",
     "text": [
      "4350:\tlearn: 0.8823545\ttest: 0.7967939\tbest: 0.7976857 (4032)\ttotal: 9m 31s\tremaining: 1m 25s\n"
     ]
    },
    {
     "name": "stdout",
     "output_type": "stream",
     "text": [
      "4400:\tlearn: 0.8832244\ttest: 0.7970871\tbest: 0.7976857 (4032)\ttotal: 9m 37s\tremaining: 1m 18s\n"
     ]
    },
    {
     "name": "stdout",
     "output_type": "stream",
     "text": [
      "4450:\tlearn: 0.8840298\ttest: 0.7970309\tbest: 0.7976857 (4032)\ttotal: 9m 44s\tremaining: 1m 12s\n"
     ]
    },
    {
     "name": "stdout",
     "output_type": "stream",
     "text": [
      "4500:\tlearn: 0.8850731\ttest: 0.7968088\tbest: 0.7976857 (4032)\ttotal: 9m 50s\tremaining: 1m 5s\n"
     ]
    },
    {
     "name": "stdout",
     "output_type": "stream",
     "text": [
      "4550:\tlearn: 0.8858469\ttest: 0.7967636\tbest: 0.7976857 (4032)\ttotal: 9m 57s\tremaining: 58.9s\n"
     ]
    },
    {
     "name": "stdout",
     "output_type": "stream",
     "text": [
      "4600:\tlearn: 0.8867574\ttest: 0.7966875\tbest: 0.7976857 (4032)\ttotal: 10m 3s\tremaining: 52.4s\n"
     ]
    },
    {
     "name": "stdout",
     "output_type": "stream",
     "text": [
      "4650:\tlearn: 0.8876678\ttest: 0.7958545\tbest: 0.7976857 (4032)\ttotal: 10m 10s\tremaining: 45.8s\n"
     ]
    },
    {
     "name": "stdout",
     "output_type": "stream",
     "text": [
      "4700:\tlearn: 0.8884435\ttest: 0.7960454\tbest: 0.7976857 (4032)\ttotal: 10m 17s\tremaining: 39.2s\n"
     ]
    },
    {
     "name": "stdout",
     "output_type": "stream",
     "text": [
      "4750:\tlearn: 0.8894062\ttest: 0.7962543\tbest: 0.7976857 (4032)\ttotal: 10m 23s\tremaining: 32.7s\n"
     ]
    },
    {
     "name": "stdout",
     "output_type": "stream",
     "text": [
      "4800:\tlearn: 0.8902280\ttest: 0.7967813\tbest: 0.7976857 (4032)\ttotal: 10m 30s\tremaining: 26.1s\n"
     ]
    },
    {
     "name": "stdout",
     "output_type": "stream",
     "text": [
      "4850:\tlearn: 0.8908113\ttest: 0.7963650\tbest: 0.7976857 (4032)\ttotal: 10m 36s\tremaining: 19.6s\n"
     ]
    },
    {
     "name": "stdout",
     "output_type": "stream",
     "text": [
      "4900:\tlearn: 0.8917800\ttest: 0.7971473\tbest: 0.7976857 (4032)\ttotal: 10m 43s\tremaining: 13s\n"
     ]
    },
    {
     "name": "stdout",
     "output_type": "stream",
     "text": [
      "4950:\tlearn: 0.8927026\ttest: 0.7971270\tbest: 0.7976857 (4032)\ttotal: 10m 49s\tremaining: 6.43s\n"
     ]
    },
    {
     "name": "stdout",
     "output_type": "stream",
     "text": [
      "4999:\tlearn: 0.8934421\ttest: 0.7969649\tbest: 0.7976857 (4032)\ttotal: 10m 56s\tremaining: 0us\n",
      "\n",
      "bestTest = 0.797685721\n",
      "bestIteration = 4032\n",
      "\n"
     ]
    },
    {
     "name": "stdout",
     "output_type": "stream",
     "text": [
      "######################################## training model 3/5 ########################################\n",
      "seed: 2\n"
     ]
    },
    {
     "name": "stdout",
     "output_type": "stream",
     "text": [
      "0:\tlearn: 0.5555993\ttest: 0.5547856\tbest: 0.5547856 (0)\ttotal: 475ms\tremaining: 39m 34s\n"
     ]
    },
    {
     "name": "stdout",
     "output_type": "stream",
     "text": [
      "50:\tlearn: 0.7399601\ttest: 0.7375453\tbest: 0.7377161 (49)\ttotal: 7.04s\tremaining: 11m 23s\n"
     ]
    },
    {
     "name": "stdout",
     "output_type": "stream",
     "text": [
      "100:\tlearn: 0.7561708\ttest: 0.7512565\tbest: 0.7512893 (98)\ttotal: 13.7s\tremaining: 11m 2s\n"
     ]
    },
    {
     "name": "stdout",
     "output_type": "stream",
     "text": [
      "150:\tlearn: 0.7624019\ttest: 0.7567252\tbest: 0.7567642 (149)\ttotal: 20.2s\tremaining: 10m 49s\n"
     ]
    },
    {
     "name": "stdout",
     "output_type": "stream",
     "text": [
      "200:\tlearn: 0.7677837\ttest: 0.7620307\tbest: 0.7620307 (200)\ttotal: 26.8s\tremaining: 10m 39s\n"
     ]
    },
    {
     "name": "stdout",
     "output_type": "stream",
     "text": [
      "250:\tlearn: 0.7713590\ttest: 0.7652893\tbest: 0.7652893 (250)\ttotal: 33.4s\tremaining: 10m 32s\n"
     ]
    },
    {
     "name": "stdout",
     "output_type": "stream",
     "text": [
      "300:\tlearn: 0.7774700\ttest: 0.7702465\tbest: 0.7702465 (300)\ttotal: 40.1s\tremaining: 10m 25s\n"
     ]
    },
    {
     "name": "stdout",
     "output_type": "stream",
     "text": [
      "350:\tlearn: 0.7841253\ttest: 0.7758589\tbest: 0.7761305 (349)\ttotal: 46.7s\tremaining: 10m 18s\n"
     ]
    },
    {
     "name": "stdout",
     "output_type": "stream",
     "text": [
      "400:\tlearn: 0.7889292\ttest: 0.7794044\tbest: 0.7794523 (399)\ttotal: 53.4s\tremaining: 10m 12s\n"
     ]
    },
    {
     "name": "stdout",
     "output_type": "stream",
     "text": [
      "450:\tlearn: 0.7924989\ttest: 0.7812955\tbest: 0.7815932 (448)\ttotal: 60s\tremaining: 10m 5s\n"
     ]
    },
    {
     "name": "stdout",
     "output_type": "stream",
     "text": [
      "500:\tlearn: 0.7953715\ttest: 0.7827856\tbest: 0.7829448 (490)\ttotal: 1m 6s\tremaining: 9m 58s\n"
     ]
    },
    {
     "name": "stdout",
     "output_type": "stream",
     "text": [
      "550:\tlearn: 0.7972845\ttest: 0.7838919\tbest: 0.7839295 (537)\ttotal: 1m 13s\tremaining: 9m 52s\n"
     ]
    },
    {
     "name": "stdout",
     "output_type": "stream",
     "text": [
      "600:\tlearn: 0.7996401\ttest: 0.7850363\tbest: 0.7850363 (600)\ttotal: 1m 19s\tremaining: 9m 45s\n"
     ]
    },
    {
     "name": "stdout",
     "output_type": "stream",
     "text": [
      "650:\tlearn: 0.8018187\ttest: 0.7856062\tbest: 0.7856369 (635)\ttotal: 1m 26s\tremaining: 9m 38s\n"
     ]
    },
    {
     "name": "stdout",
     "output_type": "stream",
     "text": [
      "700:\tlearn: 0.8034082\ttest: 0.7858668\tbest: 0.7860811 (666)\ttotal: 1m 33s\tremaining: 9m 31s\n"
     ]
    },
    {
     "name": "stdout",
     "output_type": "stream",
     "text": [
      "750:\tlearn: 0.8054669\ttest: 0.7860083\tbest: 0.7862501 (740)\ttotal: 1m 39s\tremaining: 9m 24s\n"
     ]
    },
    {
     "name": "stdout",
     "output_type": "stream",
     "text": [
      "800:\tlearn: 0.8068698\ttest: 0.7865382\tbest: 0.7866903 (791)\ttotal: 1m 46s\tremaining: 9m 17s\n"
     ]
    },
    {
     "name": "stdout",
     "output_type": "stream",
     "text": [
      "850:\tlearn: 0.8085817\ttest: 0.7868415\tbest: 0.7870624 (844)\ttotal: 1m 52s\tremaining: 9m 10s\n"
     ]
    },
    {
     "name": "stdout",
     "output_type": "stream",
     "text": [
      "900:\tlearn: 0.8101744\ttest: 0.7871213\tbest: 0.7871213 (900)\ttotal: 1m 59s\tremaining: 9m 3s\n"
     ]
    },
    {
     "name": "stdout",
     "output_type": "stream",
     "text": [
      "950:\tlearn: 0.8116976\ttest: 0.7877398\tbest: 0.7877398 (950)\ttotal: 2m 6s\tremaining: 8m 56s\n"
     ]
    },
    {
     "name": "stdout",
     "output_type": "stream",
     "text": [
      "1000:\tlearn: 0.8135002\ttest: 0.7877453\tbest: 0.7879836 (969)\ttotal: 2m 12s\tremaining: 8m 49s\n"
     ]
    },
    {
     "name": "stdout",
     "output_type": "stream",
     "text": [
      "1050:\tlearn: 0.8151705\ttest: 0.7886085\tbest: 0.7888184 (1038)\ttotal: 2m 19s\tremaining: 8m 42s\n"
     ]
    },
    {
     "name": "stdout",
     "output_type": "stream",
     "text": [
      "1100:\tlearn: 0.8164340\ttest: 0.7884899\tbest: 0.7888184 (1038)\ttotal: 2m 25s\tremaining: 8m 35s\n"
     ]
    },
    {
     "name": "stdout",
     "output_type": "stream",
     "text": [
      "1150:\tlearn: 0.8177052\ttest: 0.7885249\tbest: 0.7888184 (1038)\ttotal: 2m 32s\tremaining: 8m 29s\n"
     ]
    },
    {
     "name": "stdout",
     "output_type": "stream",
     "text": [
      "1200:\tlearn: 0.8193410\ttest: 0.7883213\tbest: 0.7888184 (1038)\ttotal: 2m 38s\tremaining: 8m 22s\n"
     ]
    },
    {
     "name": "stdout",
     "output_type": "stream",
     "text": [
      "1250:\tlearn: 0.8208876\ttest: 0.7887594\tbest: 0.7888184 (1038)\ttotal: 2m 45s\tremaining: 8m 15s\n"
     ]
    },
    {
     "name": "stdout",
     "output_type": "stream",
     "text": [
      "1300:\tlearn: 0.8224029\ttest: 0.7890917\tbest: 0.7892540 (1294)\ttotal: 2m 51s\tremaining: 8m 9s\n"
     ]
    },
    {
     "name": "stdout",
     "output_type": "stream",
     "text": [
      "1350:\tlearn: 0.8235911\ttest: 0.7886929\tbest: 0.7892724 (1307)\ttotal: 2m 58s\tremaining: 8m 2s\n"
     ]
    },
    {
     "name": "stdout",
     "output_type": "stream",
     "text": [
      "1400:\tlearn: 0.8251125\ttest: 0.7891910\tbest: 0.7892724 (1307)\ttotal: 3m 5s\tremaining: 7m 55s\n"
     ]
    },
    {
     "name": "stdout",
     "output_type": "stream",
     "text": [
      "1450:\tlearn: 0.8261418\ttest: 0.7893867\tbest: 0.7896135 (1445)\ttotal: 3m 11s\tremaining: 7m 49s\n"
     ]
    },
    {
     "name": "stdout",
     "output_type": "stream",
     "text": [
      "1500:\tlearn: 0.8274870\ttest: 0.7895933\tbest: 0.7897506 (1466)\ttotal: 3m 18s\tremaining: 7m 42s\n"
     ]
    },
    {
     "name": "stdout",
     "output_type": "stream",
     "text": [
      "1550:\tlearn: 0.8286452\ttest: 0.7894921\tbest: 0.7897648 (1508)\ttotal: 3m 24s\tremaining: 7m 35s\n"
     ]
    },
    {
     "name": "stdout",
     "output_type": "stream",
     "text": [
      "1600:\tlearn: 0.8299656\ttest: 0.7895067\tbest: 0.7898613 (1588)\ttotal: 3m 31s\tremaining: 7m 29s\n"
     ]
    },
    {
     "name": "stdout",
     "output_type": "stream",
     "text": [
      "1650:\tlearn: 0.8310113\ttest: 0.7893301\tbest: 0.7898613 (1588)\ttotal: 3m 38s\tremaining: 7m 22s\n"
     ]
    },
    {
     "name": "stdout",
     "output_type": "stream",
     "text": [
      "1700:\tlearn: 0.8322261\ttest: 0.7898205\tbest: 0.7899252 (1697)\ttotal: 3m 44s\tremaining: 7m 15s\n"
     ]
    },
    {
     "name": "stdout",
     "output_type": "stream",
     "text": [
      "1750:\tlearn: 0.8334821\ttest: 0.7894105\tbest: 0.7901503 (1713)\ttotal: 3m 51s\tremaining: 7m 9s\n"
     ]
    },
    {
     "name": "stdout",
     "output_type": "stream",
     "text": [
      "1800:\tlearn: 0.8346748\ttest: 0.7898286\tbest: 0.7901503 (1713)\ttotal: 3m 57s\tremaining: 7m 2s\n"
     ]
    },
    {
     "name": "stdout",
     "output_type": "stream",
     "text": [
      "1850:\tlearn: 0.8356999\ttest: 0.7901775\tbest: 0.7904073 (1846)\ttotal: 4m 4s\tremaining: 6m 56s\n"
     ]
    },
    {
     "name": "stdout",
     "output_type": "stream",
     "text": [
      "1900:\tlearn: 0.8369617\ttest: 0.7903057\tbest: 0.7904073 (1846)\ttotal: 4m 11s\tremaining: 6m 49s\n"
     ]
    },
    {
     "name": "stdout",
     "output_type": "stream",
     "text": [
      "1950:\tlearn: 0.8382289\ttest: 0.7908616\tbest: 0.7910074 (1948)\ttotal: 4m 17s\tremaining: 6m 42s\n"
     ]
    },
    {
     "name": "stdout",
     "output_type": "stream",
     "text": [
      "2000:\tlearn: 0.8391008\ttest: 0.7908621\tbest: 0.7910720 (1951)\ttotal: 4m 24s\tremaining: 6m 36s\n"
     ]
    },
    {
     "name": "stdout",
     "output_type": "stream",
     "text": [
      "2050:\tlearn: 0.8400865\ttest: 0.7904641\tbest: 0.7910720 (1951)\ttotal: 4m 30s\tremaining: 6m 29s\n"
     ]
    },
    {
     "name": "stdout",
     "output_type": "stream",
     "text": [
      "2100:\tlearn: 0.8411022\ttest: 0.7912345\tbest: 0.7912345 (2100)\ttotal: 4m 37s\tremaining: 6m 23s\n"
     ]
    },
    {
     "name": "stdout",
     "output_type": "stream",
     "text": [
      "2150:\tlearn: 0.8421505\ttest: 0.7910071\tbest: 0.7912345 (2100)\ttotal: 4m 44s\tremaining: 6m 16s\n"
     ]
    },
    {
     "name": "stdout",
     "output_type": "stream",
     "text": [
      "2200:\tlearn: 0.8431965\ttest: 0.7911817\tbest: 0.7913521 (2192)\ttotal: 4m 50s\tremaining: 6m 9s\n"
     ]
    },
    {
     "name": "stdout",
     "output_type": "stream",
     "text": [
      "2250:\tlearn: 0.8444702\ttest: 0.7912728\tbest: 0.7915631 (2225)\ttotal: 4m 57s\tremaining: 6m 3s\n"
     ]
    },
    {
     "name": "stdout",
     "output_type": "stream",
     "text": [
      "2300:\tlearn: 0.8452792\ttest: 0.7909853\tbest: 0.7915631 (2225)\ttotal: 5m 3s\tremaining: 5m 56s\n"
     ]
    },
    {
     "name": "stdout",
     "output_type": "stream",
     "text": [
      "2350:\tlearn: 0.8462787\ttest: 0.7909796\tbest: 0.7915631 (2225)\ttotal: 5m 10s\tremaining: 5m 49s\n"
     ]
    },
    {
     "name": "stdout",
     "output_type": "stream",
     "text": [
      "2400:\tlearn: 0.8472887\ttest: 0.7904242\tbest: 0.7915631 (2225)\ttotal: 5m 17s\tremaining: 5m 43s\n"
     ]
    },
    {
     "name": "stdout",
     "output_type": "stream",
     "text": [
      "2450:\tlearn: 0.8483920\ttest: 0.7909846\tbest: 0.7915631 (2225)\ttotal: 5m 23s\tremaining: 5m 36s\n"
     ]
    },
    {
     "name": "stdout",
     "output_type": "stream",
     "text": [
      "2500:\tlearn: 0.8496745\ttest: 0.7909934\tbest: 0.7915631 (2225)\ttotal: 5m 30s\tremaining: 5m 29s\n"
     ]
    },
    {
     "name": "stdout",
     "output_type": "stream",
     "text": [
      "2550:\tlearn: 0.8505898\ttest: 0.7910048\tbest: 0.7916581 (2529)\ttotal: 5m 36s\tremaining: 5m 23s\n"
     ]
    },
    {
     "name": "stdout",
     "output_type": "stream",
     "text": [
      "2600:\tlearn: 0.8514962\ttest: 0.7914600\tbest: 0.7916581 (2529)\ttotal: 5m 43s\tremaining: 5m 16s\n"
     ]
    },
    {
     "name": "stdout",
     "output_type": "stream",
     "text": [
      "2650:\tlearn: 0.8525767\ttest: 0.7910251\tbest: 0.7916581 (2529)\ttotal: 5m 50s\tremaining: 5m 10s\n"
     ]
    },
    {
     "name": "stdout",
     "output_type": "stream",
     "text": [
      "2700:\tlearn: 0.8537453\ttest: 0.7907601\tbest: 0.7916581 (2529)\ttotal: 5m 56s\tremaining: 5m 3s\n"
     ]
    },
    {
     "name": "stdout",
     "output_type": "stream",
     "text": [
      "2750:\tlearn: 0.8547739\ttest: 0.7911026\tbest: 0.7916581 (2529)\ttotal: 6m 3s\tremaining: 4m 56s\n"
     ]
    },
    {
     "name": "stdout",
     "output_type": "stream",
     "text": [
      "2800:\tlearn: 0.8556812\ttest: 0.7909055\tbest: 0.7916581 (2529)\ttotal: 6m 9s\tremaining: 4m 50s\n"
     ]
    },
    {
     "name": "stdout",
     "output_type": "stream",
     "text": [
      "2850:\tlearn: 0.8567736\ttest: 0.7911481\tbest: 0.7916581 (2529)\ttotal: 6m 16s\tremaining: 4m 43s\n"
     ]
    },
    {
     "name": "stdout",
     "output_type": "stream",
     "text": [
      "2900:\tlearn: 0.8578065\ttest: 0.7907611\tbest: 0.7916581 (2529)\ttotal: 6m 23s\tremaining: 4m 37s\n"
     ]
    },
    {
     "name": "stdout",
     "output_type": "stream",
     "text": [
      "2950:\tlearn: 0.8587946\ttest: 0.7908755\tbest: 0.7916581 (2529)\ttotal: 6m 29s\tremaining: 4m 30s\n"
     ]
    },
    {
     "name": "stdout",
     "output_type": "stream",
     "text": [
      "3000:\tlearn: 0.8598332\ttest: 0.7912409\tbest: 0.7916581 (2529)\ttotal: 6m 36s\tremaining: 4m 23s\n"
     ]
    },
    {
     "name": "stdout",
     "output_type": "stream",
     "text": [
      "3050:\tlearn: 0.8607564\ttest: 0.7914183\tbest: 0.7916581 (2529)\ttotal: 6m 42s\tremaining: 4m 17s\n"
     ]
    },
    {
     "name": "stdout",
     "output_type": "stream",
     "text": [
      "3100:\tlearn: 0.8615278\ttest: 0.7912540\tbest: 0.7916581 (2529)\ttotal: 6m 49s\tremaining: 4m 10s\n"
     ]
    },
    {
     "name": "stdout",
     "output_type": "stream",
     "text": [
      "3150:\tlearn: 0.8624628\ttest: 0.7916611\tbest: 0.7916612 (3148)\ttotal: 6m 55s\tremaining: 4m 4s\n"
     ]
    },
    {
     "name": "stdout",
     "output_type": "stream",
     "text": [
      "3200:\tlearn: 0.8634700\ttest: 0.7919354\tbest: 0.7920807 (3167)\ttotal: 7m 2s\tremaining: 3m 57s\n"
     ]
    },
    {
     "name": "stdout",
     "output_type": "stream",
     "text": [
      "3250:\tlearn: 0.8644440\ttest: 0.7920194\tbest: 0.7921706 (3236)\ttotal: 7m 9s\tremaining: 3m 50s\n"
     ]
    },
    {
     "name": "stdout",
     "output_type": "stream",
     "text": [
      "3300:\tlearn: 0.8652789\ttest: 0.7918584\tbest: 0.7923204 (3274)\ttotal: 7m 15s\tremaining: 3m 44s\n"
     ]
    },
    {
     "name": "stdout",
     "output_type": "stream",
     "text": [
      "3350:\tlearn: 0.8662092\ttest: 0.7919658\tbest: 0.7923204 (3274)\ttotal: 7m 22s\tremaining: 3m 37s\n"
     ]
    },
    {
     "name": "stdout",
     "output_type": "stream",
     "text": [
      "3400:\tlearn: 0.8671624\ttest: 0.7917234\tbest: 0.7923204 (3274)\ttotal: 7m 28s\tremaining: 3m 30s\n"
     ]
    },
    {
     "name": "stdout",
     "output_type": "stream",
     "text": [
      "3450:\tlearn: 0.8684311\ttest: 0.7919943\tbest: 0.7923204 (3274)\ttotal: 7m 35s\tremaining: 3m 24s\n"
     ]
    },
    {
     "name": "stdout",
     "output_type": "stream",
     "text": [
      "3500:\tlearn: 0.8692512\ttest: 0.7919233\tbest: 0.7923204 (3274)\ttotal: 7m 41s\tremaining: 3m 17s\n"
     ]
    },
    {
     "name": "stdout",
     "output_type": "stream",
     "text": [
      "3550:\tlearn: 0.8700809\ttest: 0.7920736\tbest: 0.7923204 (3274)\ttotal: 7m 48s\tremaining: 3m 11s\n"
     ]
    },
    {
     "name": "stdout",
     "output_type": "stream",
     "text": [
      "3600:\tlearn: 0.8709911\ttest: 0.7923065\tbest: 0.7924928 (3566)\ttotal: 7m 54s\tremaining: 3m 4s\n"
     ]
    },
    {
     "name": "stdout",
     "output_type": "stream",
     "text": [
      "3650:\tlearn: 0.8718284\ttest: 0.7923364\tbest: 0.7927113 (3619)\ttotal: 8m 1s\tremaining: 2m 57s\n"
     ]
    },
    {
     "name": "stdout",
     "output_type": "stream",
     "text": [
      "3700:\tlearn: 0.8727824\ttest: 0.7923610\tbest: 0.7927113 (3619)\ttotal: 8m 7s\tremaining: 2m 51s\n"
     ]
    },
    {
     "name": "stdout",
     "output_type": "stream",
     "text": [
      "3750:\tlearn: 0.8738130\ttest: 0.7924547\tbest: 0.7927113 (3619)\ttotal: 8m 14s\tremaining: 2m 44s\n"
     ]
    },
    {
     "name": "stdout",
     "output_type": "stream",
     "text": [
      "3800:\tlearn: 0.8745595\ttest: 0.7920726\tbest: 0.7927113 (3619)\ttotal: 8m 21s\tremaining: 2m 38s\n"
     ]
    },
    {
     "name": "stdout",
     "output_type": "stream",
     "text": [
      "3850:\tlearn: 0.8755143\ttest: 0.7922251\tbest: 0.7928587 (3833)\ttotal: 8m 27s\tremaining: 2m 31s\n"
     ]
    },
    {
     "name": "stdout",
     "output_type": "stream",
     "text": [
      "3900:\tlearn: 0.8764032\ttest: 0.7924395\tbest: 0.7928587 (3833)\ttotal: 8m 34s\tremaining: 2m 24s\n"
     ]
    },
    {
     "name": "stdout",
     "output_type": "stream",
     "text": [
      "3950:\tlearn: 0.8773931\ttest: 0.7924420\tbest: 0.7928587 (3833)\ttotal: 8m 40s\tremaining: 2m 18s\n"
     ]
    },
    {
     "name": "stdout",
     "output_type": "stream",
     "text": [
      "4000:\tlearn: 0.8781924\ttest: 0.7927556\tbest: 0.7928849 (3991)\ttotal: 8m 47s\tremaining: 2m 11s\n"
     ]
    },
    {
     "name": "stdout",
     "output_type": "stream",
     "text": [
      "4050:\tlearn: 0.8790748\ttest: 0.7924467\tbest: 0.7929461 (4017)\ttotal: 8m 54s\tremaining: 2m 5s\n"
     ]
    },
    {
     "name": "stdout",
     "output_type": "stream",
     "text": [
      "4100:\tlearn: 0.8797613\ttest: 0.7926435\tbest: 0.7929461 (4017)\ttotal: 9m\tremaining: 1m 58s\n"
     ]
    },
    {
     "name": "stdout",
     "output_type": "stream",
     "text": [
      "4150:\tlearn: 0.8807238\ttest: 0.7928228\tbest: 0.7929461 (4017)\ttotal: 9m 7s\tremaining: 1m 51s\n"
     ]
    },
    {
     "name": "stdout",
     "output_type": "stream",
     "text": [
      "4200:\tlearn: 0.8815352\ttest: 0.7921393\tbest: 0.7929461 (4017)\ttotal: 9m 13s\tremaining: 1m 45s\n"
     ]
    },
    {
     "name": "stdout",
     "output_type": "stream",
     "text": [
      "4250:\tlearn: 0.8827098\ttest: 0.7926690\tbest: 0.7929461 (4017)\ttotal: 9m 20s\tremaining: 1m 38s\n"
     ]
    },
    {
     "name": "stdout",
     "output_type": "stream",
     "text": [
      "4300:\tlearn: 0.8832826\ttest: 0.7924617\tbest: 0.7929461 (4017)\ttotal: 9m 27s\tremaining: 1m 32s\n"
     ]
    },
    {
     "name": "stdout",
     "output_type": "stream",
     "text": [
      "4350:\tlearn: 0.8841217\ttest: 0.7923000\tbest: 0.7929461 (4017)\ttotal: 9m 33s\tremaining: 1m 25s\n"
     ]
    },
    {
     "name": "stdout",
     "output_type": "stream",
     "text": [
      "4400:\tlearn: 0.8849055\ttest: 0.7924439\tbest: 0.7929461 (4017)\ttotal: 9m 40s\tremaining: 1m 18s\n"
     ]
    },
    {
     "name": "stdout",
     "output_type": "stream",
     "text": [
      "4450:\tlearn: 0.8858809\ttest: 0.7925714\tbest: 0.7929461 (4017)\ttotal: 9m 46s\tremaining: 1m 12s\n"
     ]
    },
    {
     "name": "stdout",
     "output_type": "stream",
     "text": [
      "4500:\tlearn: 0.8865586\ttest: 0.7922529\tbest: 0.7929461 (4017)\ttotal: 9m 53s\tremaining: 1m 5s\n"
     ]
    },
    {
     "name": "stdout",
     "output_type": "stream",
     "text": [
      "4550:\tlearn: 0.8877912\ttest: 0.7923310\tbest: 0.7929461 (4017)\ttotal: 10m\tremaining: 59.2s\n"
     ]
    },
    {
     "name": "stdout",
     "output_type": "stream",
     "text": [
      "4600:\tlearn: 0.8884373\ttest: 0.7922890\tbest: 0.7929461 (4017)\ttotal: 10m 6s\tremaining: 52.6s\n"
     ]
    },
    {
     "name": "stdout",
     "output_type": "stream",
     "text": [
      "4650:\tlearn: 0.8892971\ttest: 0.7920964\tbest: 0.7929461 (4017)\ttotal: 10m 13s\tremaining: 46s\n"
     ]
    },
    {
     "name": "stdout",
     "output_type": "stream",
     "text": [
      "4700:\tlearn: 0.8899771\ttest: 0.7918891\tbest: 0.7929461 (4017)\ttotal: 10m 19s\tremaining: 39.4s\n"
     ]
    },
    {
     "name": "stdout",
     "output_type": "stream",
     "text": [
      "4750:\tlearn: 0.8909728\ttest: 0.7921421\tbest: 0.7929461 (4017)\ttotal: 10m 26s\tremaining: 32.8s\n"
     ]
    },
    {
     "name": "stdout",
     "output_type": "stream",
     "text": [
      "4800:\tlearn: 0.8915463\ttest: 0.7918260\tbest: 0.7929461 (4017)\ttotal: 10m 32s\tremaining: 26.2s\n"
     ]
    },
    {
     "name": "stdout",
     "output_type": "stream",
     "text": [
      "4850:\tlearn: 0.8925505\ttest: 0.7921271\tbest: 0.7929461 (4017)\ttotal: 10m 39s\tremaining: 19.6s\n"
     ]
    },
    {
     "name": "stdout",
     "output_type": "stream",
     "text": [
      "4900:\tlearn: 0.8932436\ttest: 0.7924662\tbest: 0.7929461 (4017)\ttotal: 10m 46s\tremaining: 13.1s\n"
     ]
    },
    {
     "name": "stdout",
     "output_type": "stream",
     "text": [
      "4950:\tlearn: 0.8940969\ttest: 0.7928911\tbest: 0.7930134 (4923)\ttotal: 10m 52s\tremaining: 6.46s\n"
     ]
    },
    {
     "name": "stdout",
     "output_type": "stream",
     "text": [
      "4999:\tlearn: 0.8948100\ttest: 0.7923208\tbest: 0.7930134 (4923)\ttotal: 10m 59s\tremaining: 0us\n",
      "\n",
      "bestTest = 0.7930134458\n",
      "bestIteration = 4923\n",
      "\n"
     ]
    },
    {
     "name": "stdout",
     "output_type": "stream",
     "text": [
      "######################################## training model 4/5 ########################################\n",
      "seed: 3\n"
     ]
    },
    {
     "name": "stdout",
     "output_type": "stream",
     "text": [
      "0:\tlearn: 0.5401837\ttest: 0.5364264\tbest: 0.5364264 (0)\ttotal: 467ms\tremaining: 38m 54s\n"
     ]
    },
    {
     "name": "stdout",
     "output_type": "stream",
     "text": [
      "50:\tlearn: 0.7425690\ttest: 0.7384401\tbest: 0.7384401 (50)\ttotal: 7.01s\tremaining: 11m 20s\n"
     ]
    },
    {
     "name": "stdout",
     "output_type": "stream",
     "text": [
      "100:\tlearn: 0.7552924\ttest: 0.7528782\tbest: 0.7528782 (100)\ttotal: 13.7s\tremaining: 11m 5s\n"
     ]
    },
    {
     "name": "stdout",
     "output_type": "stream",
     "text": [
      "150:\tlearn: 0.7633462\ttest: 0.7602141\tbest: 0.7602141 (150)\ttotal: 20.4s\tremaining: 10m 53s\n"
     ]
    },
    {
     "name": "stdout",
     "output_type": "stream",
     "text": [
      "200:\tlearn: 0.7677225\ttest: 0.7647728\tbest: 0.7647728 (200)\ttotal: 27s\tremaining: 10m 44s\n"
     ]
    },
    {
     "name": "stdout",
     "output_type": "stream",
     "text": [
      "250:\tlearn: 0.7714009\ttest: 0.7677444\tbest: 0.7680831 (247)\ttotal: 33.6s\tremaining: 10m 36s\n"
     ]
    },
    {
     "name": "stdout",
     "output_type": "stream",
     "text": [
      "300:\tlearn: 0.7767035\ttest: 0.7720044\tbest: 0.7720044 (300)\ttotal: 40.3s\tremaining: 10m 28s\n"
     ]
    },
    {
     "name": "stdout",
     "output_type": "stream",
     "text": [
      "350:\tlearn: 0.7839054\ttest: 0.7778146\tbest: 0.7778146 (350)\ttotal: 46.9s\tremaining: 10m 20s\n"
     ]
    },
    {
     "name": "stdout",
     "output_type": "stream",
     "text": [
      "400:\tlearn: 0.7883057\ttest: 0.7803816\tbest: 0.7806326 (386)\ttotal: 53.5s\tremaining: 10m 13s\n"
     ]
    },
    {
     "name": "stdout",
     "output_type": "stream",
     "text": [
      "450:\tlearn: 0.7923996\ttest: 0.7825555\tbest: 0.7830029 (448)\ttotal: 1m\tremaining: 10m 5s\n"
     ]
    },
    {
     "name": "stdout",
     "output_type": "stream",
     "text": [
      "500:\tlearn: 0.7948465\ttest: 0.7843175\tbest: 0.7843944 (499)\ttotal: 1m 6s\tremaining: 9m 58s\n"
     ]
    },
    {
     "name": "stdout",
     "output_type": "stream",
     "text": [
      "550:\tlearn: 0.7975098\ttest: 0.7853107\tbest: 0.7854782 (542)\ttotal: 1m 13s\tremaining: 9m 51s\n"
     ]
    },
    {
     "name": "stdout",
     "output_type": "stream",
     "text": [
      "600:\tlearn: 0.7995059\ttest: 0.7860305\tbest: 0.7863186 (594)\ttotal: 1m 19s\tremaining: 9m 43s\n"
     ]
    },
    {
     "name": "stdout",
     "output_type": "stream",
     "text": [
      "650:\tlearn: 0.8016514\ttest: 0.7870170\tbest: 0.7871328 (648)\ttotal: 1m 26s\tremaining: 9m 36s\n"
     ]
    },
    {
     "name": "stdout",
     "output_type": "stream",
     "text": [
      "700:\tlearn: 0.8032993\ttest: 0.7876082\tbest: 0.7879199 (688)\ttotal: 1m 32s\tremaining: 9m 29s\n"
     ]
    },
    {
     "name": "stdout",
     "output_type": "stream",
     "text": [
      "750:\tlearn: 0.8052775\ttest: 0.7881845\tbest: 0.7882852 (749)\ttotal: 1m 39s\tremaining: 9m 22s\n"
     ]
    },
    {
     "name": "stdout",
     "output_type": "stream",
     "text": [
      "800:\tlearn: 0.8067894\ttest: 0.7883280\tbest: 0.7885251 (795)\ttotal: 1m 46s\tremaining: 9m 15s\n"
     ]
    },
    {
     "name": "stdout",
     "output_type": "stream",
     "text": [
      "850:\tlearn: 0.8086000\ttest: 0.7879711\tbest: 0.7885251 (795)\ttotal: 1m 52s\tremaining: 9m 8s\n"
     ]
    },
    {
     "name": "stdout",
     "output_type": "stream",
     "text": [
      "900:\tlearn: 0.8101116\ttest: 0.7883564\tbest: 0.7885806 (897)\ttotal: 1m 59s\tremaining: 9m 2s\n"
     ]
    },
    {
     "name": "stdout",
     "output_type": "stream",
     "text": [
      "950:\tlearn: 0.8116780\ttest: 0.7881195\tbest: 0.7885806 (897)\ttotal: 2m 5s\tremaining: 8m 55s\n"
     ]
    },
    {
     "name": "stdout",
     "output_type": "stream",
     "text": [
      "1000:\tlearn: 0.8132587\ttest: 0.7886208\tbest: 0.7887641 (996)\ttotal: 2m 12s\tremaining: 8m 48s\n"
     ]
    },
    {
     "name": "stdout",
     "output_type": "stream",
     "text": [
      "1050:\tlearn: 0.8146962\ttest: 0.7889589\tbest: 0.7892432 (1028)\ttotal: 2m 18s\tremaining: 8m 41s\n"
     ]
    },
    {
     "name": "stdout",
     "output_type": "stream",
     "text": [
      "1100:\tlearn: 0.8163835\ttest: 0.7891899\tbest: 0.7893911 (1087)\ttotal: 2m 25s\tremaining: 8m 35s\n"
     ]
    },
    {
     "name": "stdout",
     "output_type": "stream",
     "text": [
      "1150:\tlearn: 0.8176281\ttest: 0.7896869\tbest: 0.7899112 (1140)\ttotal: 2m 32s\tremaining: 8m 28s\n"
     ]
    },
    {
     "name": "stdout",
     "output_type": "stream",
     "text": [
      "1200:\tlearn: 0.8191977\ttest: 0.7892047\tbest: 0.7899112 (1140)\ttotal: 2m 38s\tremaining: 8m 22s\n"
     ]
    },
    {
     "name": "stdout",
     "output_type": "stream",
     "text": [
      "1250:\tlearn: 0.8204587\ttest: 0.7895811\tbest: 0.7899112 (1140)\ttotal: 2m 45s\tremaining: 8m 15s\n"
     ]
    },
    {
     "name": "stdout",
     "output_type": "stream",
     "text": [
      "1300:\tlearn: 0.8213906\ttest: 0.7894689\tbest: 0.7899112 (1140)\ttotal: 2m 51s\tremaining: 8m 8s\n"
     ]
    },
    {
     "name": "stdout",
     "output_type": "stream",
     "text": [
      "1350:\tlearn: 0.8227508\ttest: 0.7896443\tbest: 0.7899112 (1140)\ttotal: 2m 58s\tremaining: 8m 1s\n"
     ]
    },
    {
     "name": "stdout",
     "output_type": "stream",
     "text": [
      "1400:\tlearn: 0.8240330\ttest: 0.7902884\tbest: 0.7906977 (1382)\ttotal: 3m 5s\tremaining: 7m 55s\n"
     ]
    },
    {
     "name": "stdout",
     "output_type": "stream",
     "text": [
      "1450:\tlearn: 0.8255014\ttest: 0.7904397\tbest: 0.7906977 (1382)\ttotal: 3m 11s\tremaining: 7m 48s\n"
     ]
    },
    {
     "name": "stdout",
     "output_type": "stream",
     "text": [
      "1500:\tlearn: 0.8268276\ttest: 0.7904048\tbest: 0.7907679 (1468)\ttotal: 3m 18s\tremaining: 7m 41s\n"
     ]
    },
    {
     "name": "stdout",
     "output_type": "stream",
     "text": [
      "1550:\tlearn: 0.8282002\ttest: 0.7906545\tbest: 0.7908787 (1536)\ttotal: 3m 24s\tremaining: 7m 35s\n"
     ]
    },
    {
     "name": "stdout",
     "output_type": "stream",
     "text": [
      "1600:\tlearn: 0.8293466\ttest: 0.7904573\tbest: 0.7908787 (1536)\ttotal: 3m 31s\tremaining: 7m 28s\n"
     ]
    },
    {
     "name": "stdout",
     "output_type": "stream",
     "text": [
      "1650:\tlearn: 0.8306204\ttest: 0.7909859\tbest: 0.7912394 (1641)\ttotal: 3m 37s\tremaining: 7m 21s\n"
     ]
    },
    {
     "name": "stdout",
     "output_type": "stream",
     "text": [
      "1700:\tlearn: 0.8317547\ttest: 0.7908297\tbest: 0.7912394 (1641)\ttotal: 3m 44s\tremaining: 7m 15s\n"
     ]
    },
    {
     "name": "stdout",
     "output_type": "stream",
     "text": [
      "1750:\tlearn: 0.8327212\ttest: 0.7914524\tbest: 0.7916382 (1744)\ttotal: 3m 50s\tremaining: 7m 8s\n"
     ]
    },
    {
     "name": "stdout",
     "output_type": "stream",
     "text": [
      "1800:\tlearn: 0.8337172\ttest: 0.7909526\tbest: 0.7916382 (1744)\ttotal: 3m 57s\tremaining: 7m 1s\n"
     ]
    },
    {
     "name": "stdout",
     "output_type": "stream",
     "text": [
      "1850:\tlearn: 0.8348412\ttest: 0.7913909\tbest: 0.7916382 (1744)\ttotal: 4m 4s\tremaining: 6m 55s\n"
     ]
    },
    {
     "name": "stdout",
     "output_type": "stream",
     "text": [
      "1900:\tlearn: 0.8360997\ttest: 0.7912122\tbest: 0.7916758 (1880)\ttotal: 4m 10s\tremaining: 6m 48s\n"
     ]
    },
    {
     "name": "stdout",
     "output_type": "stream",
     "text": [
      "1950:\tlearn: 0.8369040\ttest: 0.7906375\tbest: 0.7916758 (1880)\ttotal: 4m 17s\tremaining: 6m 41s\n"
     ]
    },
    {
     "name": "stdout",
     "output_type": "stream",
     "text": [
      "2000:\tlearn: 0.8383462\ttest: 0.7908710\tbest: 0.7916758 (1880)\ttotal: 4m 23s\tremaining: 6m 35s\n"
     ]
    },
    {
     "name": "stdout",
     "output_type": "stream",
     "text": [
      "2050:\tlearn: 0.8393968\ttest: 0.7909477\tbest: 0.7916758 (1880)\ttotal: 4m 30s\tremaining: 6m 28s\n"
     ]
    },
    {
     "name": "stdout",
     "output_type": "stream",
     "text": [
      "2100:\tlearn: 0.8407680\ttest: 0.7908964\tbest: 0.7916758 (1880)\ttotal: 4m 36s\tremaining: 6m 22s\n"
     ]
    },
    {
     "name": "stdout",
     "output_type": "stream",
     "text": [
      "2150:\tlearn: 0.8418668\ttest: 0.7909605\tbest: 0.7916758 (1880)\ttotal: 4m 43s\tremaining: 6m 15s\n"
     ]
    },
    {
     "name": "stdout",
     "output_type": "stream",
     "text": [
      "2200:\tlearn: 0.8429819\ttest: 0.7907462\tbest: 0.7916758 (1880)\ttotal: 4m 50s\tremaining: 6m 8s\n"
     ]
    },
    {
     "name": "stdout",
     "output_type": "stream",
     "text": [
      "2250:\tlearn: 0.8438229\ttest: 0.7911050\tbest: 0.7916758 (1880)\ttotal: 4m 56s\tremaining: 6m 2s\n"
     ]
    },
    {
     "name": "stdout",
     "output_type": "stream",
     "text": [
      "2300:\tlearn: 0.8447657\ttest: 0.7915213\tbest: 0.7916758 (1880)\ttotal: 5m 3s\tremaining: 5m 55s\n"
     ]
    },
    {
     "name": "stdout",
     "output_type": "stream",
     "text": [
      "2350:\tlearn: 0.8457445\ttest: 0.7911779\tbest: 0.7916758 (1880)\ttotal: 5m 9s\tremaining: 5m 49s\n"
     ]
    },
    {
     "name": "stdout",
     "output_type": "stream",
     "text": [
      "2400:\tlearn: 0.8467784\ttest: 0.7909825\tbest: 0.7916758 (1880)\ttotal: 5m 16s\tremaining: 5m 42s\n"
     ]
    },
    {
     "name": "stdout",
     "output_type": "stream",
     "text": [
      "2450:\tlearn: 0.8476800\ttest: 0.7910094\tbest: 0.7916758 (1880)\ttotal: 5m 22s\tremaining: 5m 35s\n"
     ]
    },
    {
     "name": "stdout",
     "output_type": "stream",
     "text": [
      "2500:\tlearn: 0.8488512\ttest: 0.7915895\tbest: 0.7916758 (1880)\ttotal: 5m 29s\tremaining: 5m 29s\n"
     ]
    },
    {
     "name": "stdout",
     "output_type": "stream",
     "text": [
      "2550:\tlearn: 0.8498675\ttest: 0.7913206\tbest: 0.7919750 (2532)\ttotal: 5m 36s\tremaining: 5m 22s\n"
     ]
    },
    {
     "name": "stdout",
     "output_type": "stream",
     "text": [
      "2600:\tlearn: 0.8509217\ttest: 0.7911443\tbest: 0.7919750 (2532)\ttotal: 5m 42s\tremaining: 5m 16s\n"
     ]
    },
    {
     "name": "stdout",
     "output_type": "stream",
     "text": [
      "2650:\tlearn: 0.8520371\ttest: 0.7915182\tbest: 0.7919750 (2532)\ttotal: 5m 49s\tremaining: 5m 9s\n"
     ]
    },
    {
     "name": "stdout",
     "output_type": "stream",
     "text": [
      "2700:\tlearn: 0.8534571\ttest: 0.7918234\tbest: 0.7921575 (2696)\ttotal: 5m 55s\tremaining: 5m 2s\n"
     ]
    },
    {
     "name": "stdout",
     "output_type": "stream",
     "text": [
      "2750:\tlearn: 0.8542229\ttest: 0.7916486\tbest: 0.7921575 (2696)\ttotal: 6m 2s\tremaining: 4m 56s\n"
     ]
    },
    {
     "name": "stdout",
     "output_type": "stream",
     "text": [
      "2800:\tlearn: 0.8551095\ttest: 0.7914834\tbest: 0.7921575 (2696)\ttotal: 6m 8s\tremaining: 4m 49s\n"
     ]
    },
    {
     "name": "stdout",
     "output_type": "stream",
     "text": [
      "2850:\tlearn: 0.8561674\ttest: 0.7914293\tbest: 0.7921575 (2696)\ttotal: 6m 15s\tremaining: 4m 42s\n"
     ]
    },
    {
     "name": "stdout",
     "output_type": "stream",
     "text": [
      "2900:\tlearn: 0.8570638\ttest: 0.7916692\tbest: 0.7921575 (2696)\ttotal: 6m 21s\tremaining: 4m 36s\n"
     ]
    },
    {
     "name": "stdout",
     "output_type": "stream",
     "text": [
      "2950:\tlearn: 0.8578983\ttest: 0.7917169\tbest: 0.7921575 (2696)\ttotal: 6m 28s\tremaining: 4m 29s\n"
     ]
    },
    {
     "name": "stdout",
     "output_type": "stream",
     "text": [
      "3000:\tlearn: 0.8588340\ttest: 0.7915932\tbest: 0.7921575 (2696)\ttotal: 6m 34s\tremaining: 4m 23s\n"
     ]
    },
    {
     "name": "stdout",
     "output_type": "stream",
     "text": [
      "3050:\tlearn: 0.8598201\ttest: 0.7916330\tbest: 0.7921575 (2696)\ttotal: 6m 41s\tremaining: 4m 16s\n"
     ]
    },
    {
     "name": "stdout",
     "output_type": "stream",
     "text": [
      "3100:\tlearn: 0.8609359\ttest: 0.7919691\tbest: 0.7921575 (2696)\ttotal: 6m 48s\tremaining: 4m 9s\n"
     ]
    },
    {
     "name": "stdout",
     "output_type": "stream",
     "text": [
      "3150:\tlearn: 0.8618007\ttest: 0.7922639\tbest: 0.7922841 (3148)\ttotal: 6m 54s\tremaining: 4m 3s\n"
     ]
    },
    {
     "name": "stdout",
     "output_type": "stream",
     "text": [
      "3200:\tlearn: 0.8627569\ttest: 0.7921071\tbest: 0.7923797 (3191)\ttotal: 7m 1s\tremaining: 3m 56s\n"
     ]
    },
    {
     "name": "stdout",
     "output_type": "stream",
     "text": [
      "3250:\tlearn: 0.8636123\ttest: 0.7920050\tbest: 0.7923797 (3191)\ttotal: 7m 7s\tremaining: 3m 50s\n"
     ]
    },
    {
     "name": "stdout",
     "output_type": "stream",
     "text": [
      "3300:\tlearn: 0.8644736\ttest: 0.7919681\tbest: 0.7924075 (3255)\ttotal: 7m 14s\tremaining: 3m 43s\n"
     ]
    },
    {
     "name": "stdout",
     "output_type": "stream",
     "text": [
      "3350:\tlearn: 0.8654115\ttest: 0.7920782\tbest: 0.7924517 (3323)\ttotal: 7m 20s\tremaining: 3m 36s\n"
     ]
    },
    {
     "name": "stdout",
     "output_type": "stream",
     "text": [
      "3400:\tlearn: 0.8662872\ttest: 0.7919556\tbest: 0.7924517 (3323)\ttotal: 7m 27s\tremaining: 3m 30s\n"
     ]
    },
    {
     "name": "stdout",
     "output_type": "stream",
     "text": [
      "3450:\tlearn: 0.8671241\ttest: 0.7917058\tbest: 0.7924517 (3323)\ttotal: 7m 33s\tremaining: 3m 23s\n"
     ]
    },
    {
     "name": "stdout",
     "output_type": "stream",
     "text": [
      "3500:\tlearn: 0.8679690\ttest: 0.7915574\tbest: 0.7924517 (3323)\ttotal: 7m 40s\tremaining: 3m 17s\n"
     ]
    },
    {
     "name": "stdout",
     "output_type": "stream",
     "text": [
      "3550:\tlearn: 0.8689144\ttest: 0.7915790\tbest: 0.7924517 (3323)\ttotal: 7m 46s\tremaining: 3m 10s\n"
     ]
    },
    {
     "name": "stdout",
     "output_type": "stream",
     "text": [
      "3600:\tlearn: 0.8696556\ttest: 0.7913763\tbest: 0.7924517 (3323)\ttotal: 7m 53s\tremaining: 3m 3s\n"
     ]
    },
    {
     "name": "stdout",
     "output_type": "stream",
     "text": [
      "3650:\tlearn: 0.8704199\ttest: 0.7916381\tbest: 0.7924517 (3323)\ttotal: 7m 59s\tremaining: 2m 57s\n"
     ]
    },
    {
     "name": "stdout",
     "output_type": "stream",
     "text": [
      "3700:\tlearn: 0.8713113\ttest: 0.7920680\tbest: 0.7924517 (3323)\ttotal: 8m 6s\tremaining: 2m 50s\n"
     ]
    },
    {
     "name": "stdout",
     "output_type": "stream",
     "text": [
      "3750:\tlearn: 0.8722111\ttest: 0.7924593\tbest: 0.7924779 (3748)\ttotal: 8m 12s\tremaining: 2m 44s\n"
     ]
    },
    {
     "name": "stdout",
     "output_type": "stream",
     "text": [
      "3800:\tlearn: 0.8732283\ttest: 0.7923426\tbest: 0.7926079 (3778)\ttotal: 8m 19s\tremaining: 2m 37s\n"
     ]
    },
    {
     "name": "stdout",
     "output_type": "stream",
     "text": [
      "3850:\tlearn: 0.8740746\ttest: 0.7922822\tbest: 0.7926079 (3778)\ttotal: 8m 25s\tremaining: 2m 30s\n"
     ]
    },
    {
     "name": "stdout",
     "output_type": "stream",
     "text": [
      "3900:\tlearn: 0.8749428\ttest: 0.7916229\tbest: 0.7926079 (3778)\ttotal: 8m 32s\tremaining: 2m 24s\n"
     ]
    },
    {
     "name": "stdout",
     "output_type": "stream",
     "text": [
      "3950:\tlearn: 0.8755025\ttest: 0.7918596\tbest: 0.7926079 (3778)\ttotal: 8m 38s\tremaining: 2m 17s\n"
     ]
    },
    {
     "name": "stdout",
     "output_type": "stream",
     "text": [
      "4000:\tlearn: 0.8763311\ttest: 0.7919248\tbest: 0.7926079 (3778)\ttotal: 8m 45s\tremaining: 2m 11s\n"
     ]
    },
    {
     "name": "stdout",
     "output_type": "stream",
     "text": [
      "4050:\tlearn: 0.8769904\ttest: 0.7918219\tbest: 0.7926079 (3778)\ttotal: 8m 51s\tremaining: 2m 4s\n"
     ]
    },
    {
     "name": "stdout",
     "output_type": "stream",
     "text": [
      "4100:\tlearn: 0.8778136\ttest: 0.7918483\tbest: 0.7926079 (3778)\ttotal: 8m 58s\tremaining: 1m 58s\n"
     ]
    },
    {
     "name": "stdout",
     "output_type": "stream",
     "text": [
      "4150:\tlearn: 0.8785692\ttest: 0.7915932\tbest: 0.7926079 (3778)\ttotal: 9m 4s\tremaining: 1m 51s\n"
     ]
    },
    {
     "name": "stdout",
     "output_type": "stream",
     "text": [
      "4200:\tlearn: 0.8794826\ttest: 0.7917388\tbest: 0.7926079 (3778)\ttotal: 9m 11s\tremaining: 1m 44s\n"
     ]
    },
    {
     "name": "stdout",
     "output_type": "stream",
     "text": [
      "4250:\tlearn: 0.8800747\ttest: 0.7916410\tbest: 0.7926079 (3778)\ttotal: 9m 17s\tremaining: 1m 38s\n"
     ]
    },
    {
     "name": "stdout",
     "output_type": "stream",
     "text": [
      "4300:\tlearn: 0.8808768\ttest: 0.7918786\tbest: 0.7926079 (3778)\ttotal: 9m 24s\tremaining: 1m 31s\n"
     ]
    },
    {
     "name": "stdout",
     "output_type": "stream",
     "text": [
      "4350:\tlearn: 0.8816587\ttest: 0.7914183\tbest: 0.7926079 (3778)\ttotal: 9m 30s\tremaining: 1m 25s\n"
     ]
    },
    {
     "name": "stdout",
     "output_type": "stream",
     "text": [
      "4400:\tlearn: 0.8827088\ttest: 0.7916514\tbest: 0.7926079 (3778)\ttotal: 9m 37s\tremaining: 1m 18s\n"
     ]
    },
    {
     "name": "stdout",
     "output_type": "stream",
     "text": [
      "4450:\tlearn: 0.8834391\ttest: 0.7919493\tbest: 0.7926079 (3778)\ttotal: 9m 44s\tremaining: 1m 12s\n"
     ]
    },
    {
     "name": "stdout",
     "output_type": "stream",
     "text": [
      "4500:\tlearn: 0.8841693\ttest: 0.7916704\tbest: 0.7926079 (3778)\ttotal: 9m 50s\tremaining: 1m 5s\n"
     ]
    },
    {
     "name": "stdout",
     "output_type": "stream",
     "text": [
      "4550:\tlearn: 0.8848482\ttest: 0.7916490\tbest: 0.7926079 (3778)\ttotal: 9m 57s\tremaining: 58.9s\n"
     ]
    },
    {
     "name": "stdout",
     "output_type": "stream",
     "text": [
      "4600:\tlearn: 0.8855456\ttest: 0.7916604\tbest: 0.7926079 (3778)\ttotal: 10m 3s\tremaining: 52.3s\n"
     ]
    },
    {
     "name": "stdout",
     "output_type": "stream",
     "text": [
      "4650:\tlearn: 0.8866321\ttest: 0.7916723\tbest: 0.7926079 (3778)\ttotal: 10m 10s\tremaining: 45.8s\n"
     ]
    },
    {
     "name": "stdout",
     "output_type": "stream",
     "text": [
      "4700:\tlearn: 0.8872682\ttest: 0.7917570\tbest: 0.7926079 (3778)\ttotal: 10m 16s\tremaining: 39.2s\n"
     ]
    },
    {
     "name": "stdout",
     "output_type": "stream",
     "text": [
      "4750:\tlearn: 0.8880816\ttest: 0.7918627\tbest: 0.7926079 (3778)\ttotal: 10m 23s\tremaining: 32.7s\n"
     ]
    },
    {
     "name": "stdout",
     "output_type": "stream",
     "text": [
      "4800:\tlearn: 0.8888420\ttest: 0.7916366\tbest: 0.7926079 (3778)\ttotal: 10m 29s\tremaining: 26.1s\n"
     ]
    },
    {
     "name": "stdout",
     "output_type": "stream",
     "text": [
      "4850:\tlearn: 0.8894135\ttest: 0.7914458\tbest: 0.7926079 (3778)\ttotal: 10m 36s\tremaining: 19.5s\n"
     ]
    },
    {
     "name": "stdout",
     "output_type": "stream",
     "text": [
      "4900:\tlearn: 0.8901095\ttest: 0.7912533\tbest: 0.7926079 (3778)\ttotal: 10m 42s\tremaining: 13s\n"
     ]
    },
    {
     "name": "stdout",
     "output_type": "stream",
     "text": [
      "4950:\tlearn: 0.8907832\ttest: 0.7915556\tbest: 0.7926079 (3778)\ttotal: 10m 49s\tremaining: 6.43s\n"
     ]
    },
    {
     "name": "stdout",
     "output_type": "stream",
     "text": [
      "4999:\tlearn: 0.8915921\ttest: 0.7916752\tbest: 0.7926079 (3778)\ttotal: 10m 55s\tremaining: 0us\n",
      "\n",
      "bestTest = 0.7926078685\n",
      "bestIteration = 3778\n",
      "\n"
     ]
    },
    {
     "name": "stdout",
     "output_type": "stream",
     "text": [
      "######################################## training model 5/5 ########################################\n",
      "seed: 4\n"
     ]
    },
    {
     "name": "stdout",
     "output_type": "stream",
     "text": [
      "0:\tlearn: 0.5276011\ttest: 0.5267683\tbest: 0.5267683 (0)\ttotal: 469ms\tremaining: 39m 4s\n"
     ]
    },
    {
     "name": "stdout",
     "output_type": "stream",
     "text": [
      "50:\tlearn: 0.7440901\ttest: 0.7510336\tbest: 0.7510336 (50)\ttotal: 6.93s\tremaining: 11m 13s\n"
     ]
    },
    {
     "name": "stdout",
     "output_type": "stream",
     "text": [
      "100:\tlearn: 0.7562102\ttest: 0.7632840\tbest: 0.7632885 (96)\ttotal: 13.5s\tremaining: 10m 54s\n"
     ]
    },
    {
     "name": "stdout",
     "output_type": "stream",
     "text": [
      "150:\tlearn: 0.7622711\ttest: 0.7685921\tbest: 0.7685921 (150)\ttotal: 20.1s\tremaining: 10m 43s\n"
     ]
    },
    {
     "name": "stdout",
     "output_type": "stream",
     "text": [
      "200:\tlearn: 0.7671263\ttest: 0.7729307\tbest: 0.7729307 (200)\ttotal: 26.6s\tremaining: 10m 35s\n"
     ]
    },
    {
     "name": "stdout",
     "output_type": "stream",
     "text": [
      "250:\tlearn: 0.7705697\ttest: 0.7762947\tbest: 0.7763396 (249)\ttotal: 33.2s\tremaining: 10m 29s\n"
     ]
    },
    {
     "name": "stdout",
     "output_type": "stream",
     "text": [
      "300:\tlearn: 0.7759885\ttest: 0.7806290\tbest: 0.7807682 (299)\ttotal: 39.8s\tremaining: 10m 21s\n"
     ]
    },
    {
     "name": "stdout",
     "output_type": "stream",
     "text": [
      "350:\tlearn: 0.7822265\ttest: 0.7866816\tbest: 0.7866816 (350)\ttotal: 46.4s\tremaining: 10m 14s\n"
     ]
    },
    {
     "name": "stdout",
     "output_type": "stream",
     "text": [
      "400:\tlearn: 0.7866237\ttest: 0.7895350\tbest: 0.7895350 (400)\ttotal: 52.9s\tremaining: 10m 7s\n"
     ]
    },
    {
     "name": "stdout",
     "output_type": "stream",
     "text": [
      "450:\tlearn: 0.7899533\ttest: 0.7910897\tbest: 0.7911277 (447)\ttotal: 59.5s\tremaining: 10m\n"
     ]
    },
    {
     "name": "stdout",
     "output_type": "stream",
     "text": [
      "500:\tlearn: 0.7930004\ttest: 0.7924124\tbest: 0.7925821 (490)\ttotal: 1m 6s\tremaining: 9m 54s\n"
     ]
    },
    {
     "name": "stdout",
     "output_type": "stream",
     "text": [
      "550:\tlearn: 0.7957949\ttest: 0.7941022\tbest: 0.7943468 (545)\ttotal: 1m 12s\tremaining: 9m 47s\n"
     ]
    },
    {
     "name": "stdout",
     "output_type": "stream",
     "text": [
      "600:\tlearn: 0.7979349\ttest: 0.7946458\tbest: 0.7950880 (590)\ttotal: 1m 19s\tremaining: 9m 40s\n"
     ]
    },
    {
     "name": "stdout",
     "output_type": "stream",
     "text": [
      "650:\tlearn: 0.7997451\ttest: 0.7956686\tbest: 0.7957410 (639)\ttotal: 1m 25s\tremaining: 9m 34s\n"
     ]
    },
    {
     "name": "stdout",
     "output_type": "stream",
     "text": [
      "700:\tlearn: 0.8018898\ttest: 0.7956544\tbest: 0.7959628 (660)\ttotal: 1m 32s\tremaining: 9m 27s\n"
     ]
    },
    {
     "name": "stdout",
     "output_type": "stream",
     "text": [
      "750:\tlearn: 0.8038563\ttest: 0.7956764\tbest: 0.7959628 (660)\ttotal: 1m 39s\tremaining: 9m 21s\n"
     ]
    },
    {
     "name": "stdout",
     "output_type": "stream",
     "text": [
      "800:\tlearn: 0.8052243\ttest: 0.7961916\tbest: 0.7963700 (796)\ttotal: 1m 45s\tremaining: 9m 14s\n"
     ]
    },
    {
     "name": "stdout",
     "output_type": "stream",
     "text": [
      "850:\tlearn: 0.8068188\ttest: 0.7971413\tbest: 0.7971413 (850)\ttotal: 1m 52s\tremaining: 9m 8s\n"
     ]
    },
    {
     "name": "stdout",
     "output_type": "stream",
     "text": [
      "900:\tlearn: 0.8083898\ttest: 0.7972611\tbest: 0.7975312 (894)\ttotal: 1m 59s\tremaining: 9m 1s\n"
     ]
    },
    {
     "name": "stdout",
     "output_type": "stream",
     "text": [
      "950:\tlearn: 0.8101197\ttest: 0.7975414\tbest: 0.7976810 (945)\ttotal: 2m 5s\tremaining: 8m 55s\n"
     ]
    },
    {
     "name": "stdout",
     "output_type": "stream",
     "text": [
      "1000:\tlearn: 0.8114328\ttest: 0.7980980\tbest: 0.7982440 (997)\ttotal: 2m 12s\tremaining: 8m 48s\n"
     ]
    },
    {
     "name": "stdout",
     "output_type": "stream",
     "text": [
      "1050:\tlearn: 0.8128667\ttest: 0.7984623\tbest: 0.7984773 (1046)\ttotal: 2m 18s\tremaining: 8m 41s\n"
     ]
    },
    {
     "name": "stdout",
     "output_type": "stream",
     "text": [
      "1100:\tlearn: 0.8146729\ttest: 0.7985977\tbest: 0.7988544 (1067)\ttotal: 2m 25s\tremaining: 8m 35s\n"
     ]
    },
    {
     "name": "stdout",
     "output_type": "stream",
     "text": [
      "1150:\tlearn: 0.8161542\ttest: 0.7988940\tbest: 0.7993218 (1132)\ttotal: 2m 32s\tremaining: 8m 28s\n"
     ]
    },
    {
     "name": "stdout",
     "output_type": "stream",
     "text": [
      "1200:\tlearn: 0.8173932\ttest: 0.7985392\tbest: 0.7993218 (1132)\ttotal: 2m 38s\tremaining: 8m 22s\n"
     ]
    },
    {
     "name": "stdout",
     "output_type": "stream",
     "text": [
      "1250:\tlearn: 0.8187215\ttest: 0.7995101\tbest: 0.7995322 (1249)\ttotal: 2m 45s\tremaining: 8m 15s\n"
     ]
    },
    {
     "name": "stdout",
     "output_type": "stream",
     "text": [
      "1300:\tlearn: 0.8201070\ttest: 0.7999124\tbest: 0.7999124 (1300)\ttotal: 2m 51s\tremaining: 8m 8s\n"
     ]
    },
    {
     "name": "stdout",
     "output_type": "stream",
     "text": [
      "1350:\tlearn: 0.8214414\ttest: 0.7999263\tbest: 0.8000057 (1345)\ttotal: 2m 58s\tremaining: 8m 2s\n"
     ]
    },
    {
     "name": "stdout",
     "output_type": "stream",
     "text": [
      "1400:\tlearn: 0.8224619\ttest: 0.7998645\tbest: 0.8003296 (1358)\ttotal: 3m 5s\tremaining: 7m 55s\n"
     ]
    },
    {
     "name": "stdout",
     "output_type": "stream",
     "text": [
      "1450:\tlearn: 0.8235593\ttest: 0.7994591\tbest: 0.8003296 (1358)\ttotal: 3m 11s\tremaining: 7m 48s\n"
     ]
    },
    {
     "name": "stdout",
     "output_type": "stream",
     "text": [
      "1500:\tlearn: 0.8247267\ttest: 0.7993553\tbest: 0.8003296 (1358)\ttotal: 3m 18s\tremaining: 7m 42s\n"
     ]
    },
    {
     "name": "stdout",
     "output_type": "stream",
     "text": [
      "1550:\tlearn: 0.8260780\ttest: 0.7995488\tbest: 0.8003296 (1358)\ttotal: 3m 24s\tremaining: 7m 35s\n"
     ]
    },
    {
     "name": "stdout",
     "output_type": "stream",
     "text": [
      "1600:\tlearn: 0.8272019\ttest: 0.8001417\tbest: 0.8003296 (1358)\ttotal: 3m 31s\tremaining: 7m 29s\n"
     ]
    },
    {
     "name": "stdout",
     "output_type": "stream",
     "text": [
      "1650:\tlearn: 0.8283949\ttest: 0.8004813\tbest: 0.8006667 (1637)\ttotal: 3m 38s\tremaining: 7m 22s\n"
     ]
    },
    {
     "name": "stdout",
     "output_type": "stream",
     "text": [
      "1700:\tlearn: 0.8296747\ttest: 0.8001013\tbest: 0.8006667 (1637)\ttotal: 3m 44s\tremaining: 7m 16s\n"
     ]
    },
    {
     "name": "stdout",
     "output_type": "stream",
     "text": [
      "1750:\tlearn: 0.8309546\ttest: 0.7999543\tbest: 0.8006667 (1637)\ttotal: 3m 51s\tremaining: 7m 9s\n"
     ]
    },
    {
     "name": "stdout",
     "output_type": "stream",
     "text": [
      "1800:\tlearn: 0.8320785\ttest: 0.8004626\tbest: 0.8006667 (1637)\ttotal: 3m 58s\tremaining: 7m 2s\n"
     ]
    },
    {
     "name": "stdout",
     "output_type": "stream",
     "text": [
      "1850:\tlearn: 0.8332805\ttest: 0.7999499\tbest: 0.8006667 (1637)\ttotal: 4m 4s\tremaining: 6m 56s\n"
     ]
    },
    {
     "name": "stdout",
     "output_type": "stream",
     "text": [
      "1900:\tlearn: 0.8346910\ttest: 0.7998632\tbest: 0.8006667 (1637)\ttotal: 4m 11s\tremaining: 6m 49s\n"
     ]
    },
    {
     "name": "stdout",
     "output_type": "stream",
     "text": [
      "1950:\tlearn: 0.8359785\ttest: 0.7999010\tbest: 0.8006667 (1637)\ttotal: 4m 18s\tremaining: 6m 43s\n"
     ]
    },
    {
     "name": "stdout",
     "output_type": "stream",
     "text": [
      "2000:\tlearn: 0.8367194\ttest: 0.8002216\tbest: 0.8006667 (1637)\ttotal: 4m 24s\tremaining: 6m 36s\n"
     ]
    },
    {
     "name": "stdout",
     "output_type": "stream",
     "text": [
      "2050:\tlearn: 0.8378166\ttest: 0.8002392\tbest: 0.8006667 (1637)\ttotal: 4m 31s\tremaining: 6m 30s\n"
     ]
    },
    {
     "name": "stdout",
     "output_type": "stream",
     "text": [
      "2100:\tlearn: 0.8388067\ttest: 0.8003506\tbest: 0.8006687 (2086)\ttotal: 4m 37s\tremaining: 6m 23s\n"
     ]
    },
    {
     "name": "stdout",
     "output_type": "stream",
     "text": [
      "2150:\tlearn: 0.8399243\ttest: 0.8007773\tbest: 0.8007896 (2126)\ttotal: 4m 44s\tremaining: 6m 16s\n"
     ]
    },
    {
     "name": "stdout",
     "output_type": "stream",
     "text": [
      "2200:\tlearn: 0.8409120\ttest: 0.8003581\tbest: 0.8007896 (2126)\ttotal: 4m 51s\tremaining: 6m 10s\n"
     ]
    },
    {
     "name": "stdout",
     "output_type": "stream",
     "text": [
      "2250:\tlearn: 0.8418777\ttest: 0.8004801\tbest: 0.8007896 (2126)\ttotal: 4m 57s\tremaining: 6m 3s\n"
     ]
    },
    {
     "name": "stdout",
     "output_type": "stream",
     "text": [
      "2300:\tlearn: 0.8430524\ttest: 0.8003993\tbest: 0.8008421 (2282)\ttotal: 5m 4s\tremaining: 5m 56s\n"
     ]
    },
    {
     "name": "stdout",
     "output_type": "stream",
     "text": [
      "2350:\tlearn: 0.8438537\ttest: 0.8004960\tbest: 0.8008421 (2282)\ttotal: 5m 10s\tremaining: 5m 50s\n"
     ]
    },
    {
     "name": "stdout",
     "output_type": "stream",
     "text": [
      "2400:\tlearn: 0.8447728\ttest: 0.8008920\tbest: 0.8009749 (2391)\ttotal: 5m 17s\tremaining: 5m 43s\n"
     ]
    },
    {
     "name": "stdout",
     "output_type": "stream",
     "text": [
      "2450:\tlearn: 0.8457101\ttest: 0.8008664\tbest: 0.8011820 (2445)\ttotal: 5m 23s\tremaining: 5m 36s\n"
     ]
    },
    {
     "name": "stdout",
     "output_type": "stream",
     "text": [
      "2500:\tlearn: 0.8466771\ttest: 0.8007097\tbest: 0.8011820 (2445)\ttotal: 5m 30s\tremaining: 5m 30s\n"
     ]
    },
    {
     "name": "stdout",
     "output_type": "stream",
     "text": [
      "2550:\tlearn: 0.8479720\ttest: 0.8007192\tbest: 0.8011820 (2445)\ttotal: 5m 37s\tremaining: 5m 23s\n"
     ]
    },
    {
     "name": "stdout",
     "output_type": "stream",
     "text": [
      "2600:\tlearn: 0.8489867\ttest: 0.8010610\tbest: 0.8012257 (2591)\ttotal: 5m 43s\tremaining: 5m 17s\n"
     ]
    },
    {
     "name": "stdout",
     "output_type": "stream",
     "text": [
      "2650:\tlearn: 0.8500334\ttest: 0.8007690\tbest: 0.8012257 (2591)\ttotal: 5m 50s\tremaining: 5m 10s\n"
     ]
    },
    {
     "name": "stdout",
     "output_type": "stream",
     "text": [
      "2700:\tlearn: 0.8510100\ttest: 0.8010105\tbest: 0.8012257 (2591)\ttotal: 5m 56s\tremaining: 5m 3s\n"
     ]
    },
    {
     "name": "stdout",
     "output_type": "stream",
     "text": [
      "2750:\tlearn: 0.8519485\ttest: 0.8010010\tbest: 0.8012721 (2745)\ttotal: 6m 3s\tremaining: 4m 57s\n"
     ]
    },
    {
     "name": "stdout",
     "output_type": "stream",
     "text": [
      "2800:\tlearn: 0.8528912\ttest: 0.8011634\tbest: 0.8012721 (2745)\ttotal: 6m 10s\tremaining: 4m 50s\n"
     ]
    },
    {
     "name": "stdout",
     "output_type": "stream",
     "text": [
      "2850:\tlearn: 0.8537720\ttest: 0.8008200\tbest: 0.8012721 (2745)\ttotal: 6m 16s\tremaining: 4m 43s\n"
     ]
    },
    {
     "name": "stdout",
     "output_type": "stream",
     "text": [
      "2900:\tlearn: 0.8547619\ttest: 0.8010817\tbest: 0.8012721 (2745)\ttotal: 6m 23s\tremaining: 4m 37s\n"
     ]
    },
    {
     "name": "stdout",
     "output_type": "stream",
     "text": [
      "2950:\tlearn: 0.8556338\ttest: 0.8015708\tbest: 0.8017188 (2942)\ttotal: 6m 29s\tremaining: 4m 30s\n"
     ]
    },
    {
     "name": "stdout",
     "output_type": "stream",
     "text": [
      "3000:\tlearn: 0.8564147\ttest: 0.8012838\tbest: 0.8017188 (2942)\ttotal: 6m 36s\tremaining: 4m 24s\n"
     ]
    },
    {
     "name": "stdout",
     "output_type": "stream",
     "text": [
      "3050:\tlearn: 0.8574054\ttest: 0.8011565\tbest: 0.8017188 (2942)\ttotal: 6m 42s\tremaining: 4m 17s\n"
     ]
    },
    {
     "name": "stdout",
     "output_type": "stream",
     "text": [
      "3100:\tlearn: 0.8583225\ttest: 0.8009998\tbest: 0.8017188 (2942)\ttotal: 6m 49s\tremaining: 4m 10s\n"
     ]
    },
    {
     "name": "stdout",
     "output_type": "stream",
     "text": [
      "3150:\tlearn: 0.8592661\ttest: 0.8010424\tbest: 0.8017188 (2942)\ttotal: 6m 55s\tremaining: 4m 4s\n"
     ]
    },
    {
     "name": "stdout",
     "output_type": "stream",
     "text": [
      "3200:\tlearn: 0.8602870\ttest: 0.8009875\tbest: 0.8017188 (2942)\ttotal: 7m 2s\tremaining: 3m 57s\n"
     ]
    },
    {
     "name": "stdout",
     "output_type": "stream",
     "text": [
      "3250:\tlearn: 0.8614123\ttest: 0.8017100\tbest: 0.8018774 (3244)\ttotal: 7m 9s\tremaining: 3m 50s\n"
     ]
    },
    {
     "name": "stdout",
     "output_type": "stream",
     "text": [
      "3300:\tlearn: 0.8622765\ttest: 0.8013335\tbest: 0.8018774 (3244)\ttotal: 7m 15s\tremaining: 3m 44s\n"
     ]
    },
    {
     "name": "stdout",
     "output_type": "stream",
     "text": [
      "3350:\tlearn: 0.8632372\ttest: 0.8015727\tbest: 0.8018774 (3244)\ttotal: 7m 22s\tremaining: 3m 37s\n"
     ]
    },
    {
     "name": "stdout",
     "output_type": "stream",
     "text": [
      "3400:\tlearn: 0.8641569\ttest: 0.8014136\tbest: 0.8019119 (3364)\ttotal: 7m 28s\tremaining: 3m 30s\n"
     ]
    },
    {
     "name": "stdout",
     "output_type": "stream",
     "text": [
      "3450:\tlearn: 0.8649978\ttest: 0.8013296\tbest: 0.8019119 (3364)\ttotal: 7m 35s\tremaining: 3m 24s\n"
     ]
    },
    {
     "name": "stdout",
     "output_type": "stream",
     "text": [
      "3500:\tlearn: 0.8659304\ttest: 0.8010961\tbest: 0.8019119 (3364)\ttotal: 7m 41s\tremaining: 3m 17s\n"
     ]
    },
    {
     "name": "stdout",
     "output_type": "stream",
     "text": [
      "3550:\tlearn: 0.8668125\ttest: 0.8012520\tbest: 0.8019119 (3364)\ttotal: 7m 48s\tremaining: 3m 11s\n"
     ]
    },
    {
     "name": "stdout",
     "output_type": "stream",
     "text": [
      "3600:\tlearn: 0.8678067\ttest: 0.8010629\tbest: 0.8019119 (3364)\ttotal: 7m 54s\tremaining: 3m 4s\n"
     ]
    },
    {
     "name": "stdout",
     "output_type": "stream",
     "text": [
      "3650:\tlearn: 0.8686281\ttest: 0.8015270\tbest: 0.8019119 (3364)\ttotal: 8m 1s\tremaining: 2m 57s\n"
     ]
    },
    {
     "name": "stdout",
     "output_type": "stream",
     "text": [
      "3700:\tlearn: 0.8696414\ttest: 0.8013047\tbest: 0.8019119 (3364)\ttotal: 8m 7s\tremaining: 2m 51s\n"
     ]
    },
    {
     "name": "stdout",
     "output_type": "stream",
     "text": [
      "3750:\tlearn: 0.8705070\ttest: 0.8008523\tbest: 0.8019119 (3364)\ttotal: 8m 14s\tremaining: 2m 44s\n"
     ]
    },
    {
     "name": "stdout",
     "output_type": "stream",
     "text": [
      "3800:\tlearn: 0.8714559\ttest: 0.8009084\tbest: 0.8019119 (3364)\ttotal: 8m 20s\tremaining: 2m 38s\n"
     ]
    },
    {
     "name": "stdout",
     "output_type": "stream",
     "text": [
      "3850:\tlearn: 0.8722677\ttest: 0.8011797\tbest: 0.8019119 (3364)\ttotal: 8m 27s\tremaining: 2m 31s\n"
     ]
    },
    {
     "name": "stdout",
     "output_type": "stream",
     "text": [
      "3900:\tlearn: 0.8727514\ttest: 0.8006936\tbest: 0.8019119 (3364)\ttotal: 8m 34s\tremaining: 2m 24s\n"
     ]
    },
    {
     "name": "stdout",
     "output_type": "stream",
     "text": [
      "3950:\tlearn: 0.8735671\ttest: 0.8007633\tbest: 0.8019119 (3364)\ttotal: 8m 40s\tremaining: 2m 18s\n"
     ]
    },
    {
     "name": "stdout",
     "output_type": "stream",
     "text": [
      "4000:\tlearn: 0.8745673\ttest: 0.8011431\tbest: 0.8019119 (3364)\ttotal: 8m 47s\tremaining: 2m 11s\n"
     ]
    },
    {
     "name": "stdout",
     "output_type": "stream",
     "text": [
      "4050:\tlearn: 0.8754051\ttest: 0.8008522\tbest: 0.8019119 (3364)\ttotal: 8m 53s\tremaining: 2m 5s\n"
     ]
    },
    {
     "name": "stdout",
     "output_type": "stream",
     "text": [
      "4100:\tlearn: 0.8762215\ttest: 0.8008782\tbest: 0.8019119 (3364)\ttotal: 9m\tremaining: 1m 58s\n"
     ]
    },
    {
     "name": "stdout",
     "output_type": "stream",
     "text": [
      "4150:\tlearn: 0.8769380\ttest: 0.8014071\tbest: 0.8019119 (3364)\ttotal: 9m 6s\tremaining: 1m 51s\n"
     ]
    },
    {
     "name": "stdout",
     "output_type": "stream",
     "text": [
      "4200:\tlearn: 0.8775762\ttest: 0.8017468\tbest: 0.8019119 (3364)\ttotal: 9m 13s\tremaining: 1m 45s\n"
     ]
    },
    {
     "name": "stdout",
     "output_type": "stream",
     "text": [
      "4250:\tlearn: 0.8783883\ttest: 0.8014320\tbest: 0.8019119 (3364)\ttotal: 9m 19s\tremaining: 1m 38s\n"
     ]
    },
    {
     "name": "stdout",
     "output_type": "stream",
     "text": [
      "4300:\tlearn: 0.8794685\ttest: 0.8017161\tbest: 0.8019119 (3364)\ttotal: 9m 26s\tremaining: 1m 32s\n"
     ]
    },
    {
     "name": "stdout",
     "output_type": "stream",
     "text": [
      "4350:\tlearn: 0.8803395\ttest: 0.8019706\tbest: 0.8022616 (4344)\ttotal: 9m 33s\tremaining: 1m 25s\n"
     ]
    },
    {
     "name": "stdout",
     "output_type": "stream",
     "text": [
      "4400:\tlearn: 0.8810285\ttest: 0.8016137\tbest: 0.8022616 (4344)\ttotal: 9m 39s\tremaining: 1m 18s\n"
     ]
    },
    {
     "name": "stdout",
     "output_type": "stream",
     "text": [
      "4450:\tlearn: 0.8819631\ttest: 0.8014925\tbest: 0.8022616 (4344)\ttotal: 9m 46s\tremaining: 1m 12s\n"
     ]
    },
    {
     "name": "stdout",
     "output_type": "stream",
     "text": [
      "4500:\tlearn: 0.8826578\ttest: 0.8012236\tbest: 0.8022616 (4344)\ttotal: 9m 52s\tremaining: 1m 5s\n"
     ]
    },
    {
     "name": "stdout",
     "output_type": "stream",
     "text": [
      "4550:\tlearn: 0.8834605\ttest: 0.8012415\tbest: 0.8022616 (4344)\ttotal: 9m 59s\tremaining: 59.1s\n"
     ]
    },
    {
     "name": "stdout",
     "output_type": "stream",
     "text": [
      "4600:\tlearn: 0.8843941\ttest: 0.8014109\tbest: 0.8022616 (4344)\ttotal: 10m 5s\tremaining: 52.5s\n"
     ]
    },
    {
     "name": "stdout",
     "output_type": "stream",
     "text": [
      "4650:\tlearn: 0.8850372\ttest: 0.8015419\tbest: 0.8022616 (4344)\ttotal: 10m 12s\tremaining: 45.9s\n"
     ]
    },
    {
     "name": "stdout",
     "output_type": "stream",
     "text": [
      "4700:\tlearn: 0.8861044\ttest: 0.8019868\tbest: 0.8022616 (4344)\ttotal: 10m 18s\tremaining: 39.4s\n"
     ]
    },
    {
     "name": "stdout",
     "output_type": "stream",
     "text": [
      "4750:\tlearn: 0.8868563\ttest: 0.8018195\tbest: 0.8022616 (4344)\ttotal: 10m 25s\tremaining: 32.8s\n"
     ]
    },
    {
     "name": "stdout",
     "output_type": "stream",
     "text": [
      "4800:\tlearn: 0.8878525\ttest: 0.8018809\tbest: 0.8023457 (4792)\ttotal: 10m 31s\tremaining: 26.2s\n"
     ]
    },
    {
     "name": "stdout",
     "output_type": "stream",
     "text": [
      "4850:\tlearn: 0.8886019\ttest: 0.8013144\tbest: 0.8023457 (4792)\ttotal: 10m 38s\tremaining: 19.6s\n"
     ]
    },
    {
     "name": "stdout",
     "output_type": "stream",
     "text": [
      "4900:\tlearn: 0.8895793\ttest: 0.8017358\tbest: 0.8023457 (4792)\ttotal: 10m 44s\tremaining: 13s\n"
     ]
    },
    {
     "name": "stdout",
     "output_type": "stream",
     "text": [
      "4950:\tlearn: 0.8904167\ttest: 0.8020082\tbest: 0.8023457 (4792)\ttotal: 10m 51s\tremaining: 6.45s\n"
     ]
    },
    {
     "name": "stdout",
     "output_type": "stream",
     "text": [
      "4999:\tlearn: 0.8912403\ttest: 0.8021959\tbest: 0.8024287 (4991)\ttotal: 10m 57s\tremaining: 0us\n",
      "\n",
      "bestTest = 0.8024287216\n",
      "bestIteration = 4991\n",
      "\n"
     ]
    },
    {
     "name": "stdout",
     "output_type": "stream",
     "text": [
      "Training time: 55.47159897883733 min.\n"
     ]
    },
    {
     "name": "stdout",
     "output_type": "stream",
     "text": [
      "OOF recall_at4: 0.6672080654391221\n"
     ]
    },
    {
     "name": "stdout",
     "output_type": "stream",
     "text": [
      "OOF normalized_gini: 0.9248987363611272\n"
     ]
    },
    {
     "name": "stdout",
     "output_type": "stream",
     "text": [
      "OOF competition metric: 0.7960534009001247\n"
     ]
    },
    {
     "name": "stdout",
     "output_type": "stream",
     "text": [
      "############################### repeated cross-validation step: 2/5 ################################\n"
     ]
    },
    {
     "name": "stdout",
     "output_type": "stream",
     "text": [
      "######################################## training model 1/5 ########################################\n",
      "seed: 5\n"
     ]
    },
    {
     "name": "stdout",
     "output_type": "stream",
     "text": [
      "0:\tlearn: 0.6049349\ttest: 0.6057969\tbest: 0.6057969 (0)\ttotal: 465ms\tremaining: 38m 44s\n"
     ]
    },
    {
     "name": "stdout",
     "output_type": "stream",
     "text": [
      "50:\tlearn: 0.7392741\ttest: 0.7396710\tbest: 0.7396710 (50)\ttotal: 6.88s\tremaining: 11m 7s\n"
     ]
    },
    {
     "name": "stdout",
     "output_type": "stream",
     "text": [
      "100:\tlearn: 0.7545441\ttest: 0.7557529\tbest: 0.7557529 (100)\ttotal: 13.4s\tremaining: 10m 50s\n"
     ]
    },
    {
     "name": "stdout",
     "output_type": "stream",
     "text": [
      "150:\tlearn: 0.7614925\ttest: 0.7635625\tbest: 0.7636134 (149)\ttotal: 19.9s\tremaining: 10m 38s\n"
     ]
    },
    {
     "name": "stdout",
     "output_type": "stream",
     "text": [
      "200:\tlearn: 0.7663821\ttest: 0.7677772\tbest: 0.7677772 (200)\ttotal: 26.4s\tremaining: 10m 31s\n"
     ]
    },
    {
     "name": "stdout",
     "output_type": "stream",
     "text": [
      "250:\tlearn: 0.7700611\ttest: 0.7711935\tbest: 0.7711935 (250)\ttotal: 33s\tremaining: 10m 24s\n"
     ]
    },
    {
     "name": "stdout",
     "output_type": "stream",
     "text": [
      "300:\tlearn: 0.7756464\ttest: 0.7761324\tbest: 0.7761324 (300)\ttotal: 39.5s\tremaining: 10m 17s\n"
     ]
    },
    {
     "name": "stdout",
     "output_type": "stream",
     "text": [
      "350:\tlearn: 0.7829539\ttest: 0.7825605\tbest: 0.7825605 (350)\ttotal: 46.1s\tremaining: 10m 10s\n"
     ]
    },
    {
     "name": "stdout",
     "output_type": "stream",
     "text": [
      "400:\tlearn: 0.7876886\ttest: 0.7859147\tbest: 0.7859186 (396)\ttotal: 52.7s\tremaining: 10m 4s\n"
     ]
    },
    {
     "name": "stdout",
     "output_type": "stream",
     "text": [
      "450:\tlearn: 0.7906349\ttest: 0.7890312\tbest: 0.7890312 (450)\ttotal: 59.3s\tremaining: 9m 58s\n"
     ]
    },
    {
     "name": "stdout",
     "output_type": "stream",
     "text": [
      "500:\tlearn: 0.7939895\ttest: 0.7900429\tbest: 0.7900706 (498)\ttotal: 1m 5s\tremaining: 9m 52s\n"
     ]
    },
    {
     "name": "stdout",
     "output_type": "stream",
     "text": [
      "550:\tlearn: 0.7961330\ttest: 0.7909856\tbest: 0.7912348 (549)\ttotal: 1m 12s\tremaining: 9m 45s\n"
     ]
    },
    {
     "name": "stdout",
     "output_type": "stream",
     "text": [
      "600:\tlearn: 0.7983417\ttest: 0.7919436\tbest: 0.7919718 (595)\ttotal: 1m 19s\tremaining: 9m 38s\n"
     ]
    },
    {
     "name": "stdout",
     "output_type": "stream",
     "text": [
      "650:\tlearn: 0.8002936\ttest: 0.7930614\tbest: 0.7930614 (650)\ttotal: 1m 25s\tremaining: 9m 32s\n"
     ]
    },
    {
     "name": "stdout",
     "output_type": "stream",
     "text": [
      "700:\tlearn: 0.8021084\ttest: 0.7932527\tbest: 0.7934736 (695)\ttotal: 1m 32s\tremaining: 9m 26s\n"
     ]
    },
    {
     "name": "stdout",
     "output_type": "stream",
     "text": [
      "750:\tlearn: 0.8039126\ttest: 0.7941586\tbest: 0.7943775 (743)\ttotal: 1m 38s\tremaining: 9m 19s\n"
     ]
    },
    {
     "name": "stdout",
     "output_type": "stream",
     "text": [
      "800:\tlearn: 0.8056789\ttest: 0.7945715\tbest: 0.7946199 (791)\ttotal: 1m 45s\tremaining: 9m 12s\n"
     ]
    },
    {
     "name": "stdout",
     "output_type": "stream",
     "text": [
      "850:\tlearn: 0.8071152\ttest: 0.7943313\tbest: 0.7946542 (809)\ttotal: 1m 51s\tremaining: 9m 5s\n"
     ]
    },
    {
     "name": "stdout",
     "output_type": "stream",
     "text": [
      "900:\tlearn: 0.8087894\ttest: 0.7949271\tbest: 0.7949470 (899)\ttotal: 1m 58s\tremaining: 8m 59s\n"
     ]
    },
    {
     "name": "stdout",
     "output_type": "stream",
     "text": [
      "950:\tlearn: 0.8101820\ttest: 0.7952586\tbest: 0.7952790 (910)\ttotal: 2m 5s\tremaining: 8m 52s\n"
     ]
    },
    {
     "name": "stdout",
     "output_type": "stream",
     "text": [
      "1000:\tlearn: 0.8116737\ttest: 0.7956222\tbest: 0.7957599 (985)\ttotal: 2m 11s\tremaining: 8m 46s\n"
     ]
    },
    {
     "name": "stdout",
     "output_type": "stream",
     "text": [
      "1050:\tlearn: 0.8131907\ttest: 0.7958207\tbest: 0.7961062 (1013)\ttotal: 2m 18s\tremaining: 8m 39s\n"
     ]
    },
    {
     "name": "stdout",
     "output_type": "stream",
     "text": [
      "1100:\tlearn: 0.8144896\ttest: 0.7966121\tbest: 0.7967348 (1098)\ttotal: 2m 24s\tremaining: 8m 33s\n"
     ]
    },
    {
     "name": "stdout",
     "output_type": "stream",
     "text": [
      "1150:\tlearn: 0.8157892\ttest: 0.7963416\tbest: 0.7967491 (1132)\ttotal: 2m 31s\tremaining: 8m 26s\n"
     ]
    },
    {
     "name": "stdout",
     "output_type": "stream",
     "text": [
      "1200:\tlearn: 0.8176251\ttest: 0.7972125\tbest: 0.7974430 (1197)\ttotal: 2m 38s\tremaining: 8m 19s\n"
     ]
    },
    {
     "name": "stdout",
     "output_type": "stream",
     "text": [
      "1250:\tlearn: 0.8189365\ttest: 0.7974626\tbest: 0.7974626 (1250)\ttotal: 2m 44s\tremaining: 8m 13s\n"
     ]
    },
    {
     "name": "stdout",
     "output_type": "stream",
     "text": [
      "1300:\tlearn: 0.8204404\ttest: 0.7973207\tbest: 0.7976997 (1293)\ttotal: 2m 51s\tremaining: 8m 6s\n"
     ]
    },
    {
     "name": "stdout",
     "output_type": "stream",
     "text": [
      "1350:\tlearn: 0.8218654\ttest: 0.7973224\tbest: 0.7976997 (1293)\ttotal: 2m 57s\tremaining: 8m\n"
     ]
    },
    {
     "name": "stdout",
     "output_type": "stream",
     "text": [
      "1400:\tlearn: 0.8229866\ttest: 0.7971053\tbest: 0.7976997 (1293)\ttotal: 3m 4s\tremaining: 7m 53s\n"
     ]
    },
    {
     "name": "stdout",
     "output_type": "stream",
     "text": [
      "1450:\tlearn: 0.8245301\ttest: 0.7975546\tbest: 0.7978139 (1414)\ttotal: 3m 11s\tremaining: 7m 47s\n"
     ]
    },
    {
     "name": "stdout",
     "output_type": "stream",
     "text": [
      "1500:\tlearn: 0.8259202\ttest: 0.7973781\tbest: 0.7978139 (1414)\ttotal: 3m 17s\tremaining: 7m 40s\n"
     ]
    },
    {
     "name": "stdout",
     "output_type": "stream",
     "text": [
      "1550:\tlearn: 0.8270689\ttest: 0.7973519\tbest: 0.7978139 (1414)\ttotal: 3m 24s\tremaining: 7m 34s\n"
     ]
    },
    {
     "name": "stdout",
     "output_type": "stream",
     "text": [
      "1600:\tlearn: 0.8281280\ttest: 0.7978097\tbest: 0.7980885 (1576)\ttotal: 3m 30s\tremaining: 7m 27s\n"
     ]
    },
    {
     "name": "stdout",
     "output_type": "stream",
     "text": [
      "1650:\tlearn: 0.8293885\ttest: 0.7976182\tbest: 0.7980885 (1576)\ttotal: 3m 37s\tremaining: 7m 20s\n"
     ]
    },
    {
     "name": "stdout",
     "output_type": "stream",
     "text": [
      "1700:\tlearn: 0.8304419\ttest: 0.7978305\tbest: 0.7980885 (1576)\ttotal: 3m 43s\tremaining: 7m 13s\n"
     ]
    },
    {
     "name": "stdout",
     "output_type": "stream",
     "text": [
      "1750:\tlearn: 0.8315386\ttest: 0.7983851\tbest: 0.7985713 (1746)\ttotal: 3m 50s\tremaining: 7m 6s\n"
     ]
    },
    {
     "name": "stdout",
     "output_type": "stream",
     "text": [
      "1800:\tlearn: 0.8328509\ttest: 0.7983500\tbest: 0.7985713 (1746)\ttotal: 3m 56s\tremaining: 7m\n"
     ]
    },
    {
     "name": "stdout",
     "output_type": "stream",
     "text": [
      "1850:\tlearn: 0.8339091\ttest: 0.7986307\tbest: 0.7988794 (1844)\ttotal: 4m 3s\tremaining: 6m 53s\n"
     ]
    },
    {
     "name": "stdout",
     "output_type": "stream",
     "text": [
      "1900:\tlearn: 0.8348364\ttest: 0.7986895\tbest: 0.7988794 (1844)\ttotal: 4m 9s\tremaining: 6m 47s\n"
     ]
    },
    {
     "name": "stdout",
     "output_type": "stream",
     "text": [
      "1950:\tlearn: 0.8363024\ttest: 0.7983397\tbest: 0.7988794 (1844)\ttotal: 4m 16s\tremaining: 6m 40s\n"
     ]
    },
    {
     "name": "stdout",
     "output_type": "stream",
     "text": [
      "2000:\tlearn: 0.8374247\ttest: 0.7982676\tbest: 0.7988794 (1844)\ttotal: 4m 22s\tremaining: 6m 33s\n"
     ]
    },
    {
     "name": "stdout",
     "output_type": "stream",
     "text": [
      "2050:\tlearn: 0.8385155\ttest: 0.7984943\tbest: 0.7988794 (1844)\ttotal: 4m 29s\tremaining: 6m 27s\n"
     ]
    },
    {
     "name": "stdout",
     "output_type": "stream",
     "text": [
      "2100:\tlearn: 0.8397430\ttest: 0.7986623\tbest: 0.7988934 (2098)\ttotal: 4m 35s\tremaining: 6m 20s\n"
     ]
    },
    {
     "name": "stdout",
     "output_type": "stream",
     "text": [
      "2150:\tlearn: 0.8409915\ttest: 0.7987007\tbest: 0.7990687 (2113)\ttotal: 4m 42s\tremaining: 6m 13s\n"
     ]
    },
    {
     "name": "stdout",
     "output_type": "stream",
     "text": [
      "2200:\tlearn: 0.8419606\ttest: 0.7986966\tbest: 0.7990687 (2113)\ttotal: 4m 48s\tremaining: 6m 7s\n"
     ]
    },
    {
     "name": "stdout",
     "output_type": "stream",
     "text": [
      "2250:\tlearn: 0.8434016\ttest: 0.7991163\tbest: 0.7992829 (2243)\ttotal: 4m 55s\tremaining: 6m\n"
     ]
    },
    {
     "name": "stdout",
     "output_type": "stream",
     "text": [
      "2300:\tlearn: 0.8445490\ttest: 0.7991470\tbest: 0.7992840 (2252)\ttotal: 5m 1s\tremaining: 5m 53s\n"
     ]
    },
    {
     "name": "stdout",
     "output_type": "stream",
     "text": [
      "2350:\tlearn: 0.8454329\ttest: 0.7990355\tbest: 0.7994716 (2340)\ttotal: 5m 8s\tremaining: 5m 47s\n"
     ]
    },
    {
     "name": "stdout",
     "output_type": "stream",
     "text": [
      "2400:\tlearn: 0.8464743\ttest: 0.7988599\tbest: 0.7994716 (2340)\ttotal: 5m 14s\tremaining: 5m 40s\n"
     ]
    },
    {
     "name": "stdout",
     "output_type": "stream",
     "text": [
      "2450:\tlearn: 0.8477656\ttest: 0.7993600\tbest: 0.7994716 (2340)\ttotal: 5m 21s\tremaining: 5m 33s\n"
     ]
    },
    {
     "name": "stdout",
     "output_type": "stream",
     "text": [
      "2500:\tlearn: 0.8489327\ttest: 0.7991859\tbest: 0.7995423 (2487)\ttotal: 5m 27s\tremaining: 5m 27s\n"
     ]
    },
    {
     "name": "stdout",
     "output_type": "stream",
     "text": [
      "2550:\tlearn: 0.8499268\ttest: 0.7990309\tbest: 0.7995423 (2487)\ttotal: 5m 34s\tremaining: 5m 20s\n"
     ]
    },
    {
     "name": "stdout",
     "output_type": "stream",
     "text": [
      "2600:\tlearn: 0.8510512\ttest: 0.7996695\tbest: 0.7998128 (2593)\ttotal: 5m 40s\tremaining: 5m 14s\n"
     ]
    },
    {
     "name": "stdout",
     "output_type": "stream",
     "text": [
      "2650:\tlearn: 0.8520866\ttest: 0.8000170\tbest: 0.8001865 (2642)\ttotal: 5m 47s\tremaining: 5m 7s\n"
     ]
    },
    {
     "name": "stdout",
     "output_type": "stream",
     "text": [
      "2700:\tlearn: 0.8530598\ttest: 0.8002393\tbest: 0.8002609 (2698)\ttotal: 5m 53s\tremaining: 5m 1s\n"
     ]
    },
    {
     "name": "stdout",
     "output_type": "stream",
     "text": [
      "2750:\tlearn: 0.8539932\ttest: 0.8000680\tbest: 0.8002609 (2698)\ttotal: 6m\tremaining: 4m 54s\n"
     ]
    },
    {
     "name": "stdout",
     "output_type": "stream",
     "text": [
      "2800:\tlearn: 0.8551287\ttest: 0.7997584\tbest: 0.8002609 (2698)\ttotal: 6m 6s\tremaining: 4m 47s\n"
     ]
    },
    {
     "name": "stdout",
     "output_type": "stream",
     "text": [
      "2850:\tlearn: 0.8561433\ttest: 0.8005415\tbest: 0.8007324 (2846)\ttotal: 6m 13s\tremaining: 4m 41s\n"
     ]
    },
    {
     "name": "stdout",
     "output_type": "stream",
     "text": [
      "2900:\tlearn: 0.8571228\ttest: 0.8007871\tbest: 0.8010142 (2891)\ttotal: 6m 19s\tremaining: 4m 34s\n"
     ]
    },
    {
     "name": "stdout",
     "output_type": "stream",
     "text": [
      "2950:\tlearn: 0.8583405\ttest: 0.8008156\tbest: 0.8010142 (2891)\ttotal: 6m 26s\tremaining: 4m 28s\n"
     ]
    },
    {
     "name": "stdout",
     "output_type": "stream",
     "text": [
      "3000:\tlearn: 0.8593486\ttest: 0.8009435\tbest: 0.8011636 (2968)\ttotal: 6m 32s\tremaining: 4m 21s\n"
     ]
    },
    {
     "name": "stdout",
     "output_type": "stream",
     "text": [
      "3050:\tlearn: 0.8604057\ttest: 0.8003291\tbest: 0.8011636 (2968)\ttotal: 6m 39s\tremaining: 4m 15s\n"
     ]
    },
    {
     "name": "stdout",
     "output_type": "stream",
     "text": [
      "3100:\tlearn: 0.8611714\ttest: 0.8006712\tbest: 0.8011636 (2968)\ttotal: 6m 46s\tremaining: 4m 8s\n"
     ]
    },
    {
     "name": "stdout",
     "output_type": "stream",
     "text": [
      "3150:\tlearn: 0.8620003\ttest: 0.8000517\tbest: 0.8011636 (2968)\ttotal: 6m 52s\tremaining: 4m 2s\n"
     ]
    },
    {
     "name": "stdout",
     "output_type": "stream",
     "text": [
      "3200:\tlearn: 0.8631795\ttest: 0.8001076\tbest: 0.8011636 (2968)\ttotal: 6m 59s\tremaining: 3m 55s\n"
     ]
    },
    {
     "name": "stdout",
     "output_type": "stream",
     "text": [
      "3250:\tlearn: 0.8642917\ttest: 0.8000874\tbest: 0.8011636 (2968)\ttotal: 7m 5s\tremaining: 3m 49s\n"
     ]
    },
    {
     "name": "stdout",
     "output_type": "stream",
     "text": [
      "3300:\tlearn: 0.8654338\ttest: 0.8002759\tbest: 0.8011636 (2968)\ttotal: 7m 12s\tremaining: 3m 42s\n"
     ]
    },
    {
     "name": "stdout",
     "output_type": "stream",
     "text": [
      "3350:\tlearn: 0.8664232\ttest: 0.8006518\tbest: 0.8011636 (2968)\ttotal: 7m 18s\tremaining: 3m 36s\n"
     ]
    },
    {
     "name": "stdout",
     "output_type": "stream",
     "text": [
      "3400:\tlearn: 0.8671571\ttest: 0.8011020\tbest: 0.8011636 (2968)\ttotal: 7m 25s\tremaining: 3m 29s\n"
     ]
    },
    {
     "name": "stdout",
     "output_type": "stream",
     "text": [
      "3450:\tlearn: 0.8679787\ttest: 0.8004406\tbest: 0.8011636 (2968)\ttotal: 7m 32s\tremaining: 3m 23s\n"
     ]
    },
    {
     "name": "stdout",
     "output_type": "stream",
     "text": [
      "3500:\tlearn: 0.8688124\ttest: 0.8005070\tbest: 0.8011636 (2968)\ttotal: 7m 38s\tremaining: 3m 16s\n"
     ]
    },
    {
     "name": "stdout",
     "output_type": "stream",
     "text": [
      "3550:\tlearn: 0.8698401\ttest: 0.8004682\tbest: 0.8011636 (2968)\ttotal: 7m 45s\tremaining: 3m 9s\n"
     ]
    },
    {
     "name": "stdout",
     "output_type": "stream",
     "text": [
      "3600:\tlearn: 0.8708844\ttest: 0.8002152\tbest: 0.8011636 (2968)\ttotal: 7m 52s\tremaining: 3m 3s\n"
     ]
    },
    {
     "name": "stdout",
     "output_type": "stream",
     "text": [
      "3650:\tlearn: 0.8718629\ttest: 0.8009840\tbest: 0.8011636 (2968)\ttotal: 7m 58s\tremaining: 2m 56s\n"
     ]
    },
    {
     "name": "stdout",
     "output_type": "stream",
     "text": [
      "3700:\tlearn: 0.8729563\ttest: 0.8009593\tbest: 0.8011636 (2968)\ttotal: 8m 5s\tremaining: 2m 50s\n"
     ]
    },
    {
     "name": "stdout",
     "output_type": "stream",
     "text": [
      "3750:\tlearn: 0.8737657\ttest: 0.8005609\tbest: 0.8011636 (2968)\ttotal: 8m 11s\tremaining: 2m 43s\n"
     ]
    },
    {
     "name": "stdout",
     "output_type": "stream",
     "text": [
      "3800:\tlearn: 0.8745563\ttest: 0.8007282\tbest: 0.8011636 (2968)\ttotal: 8m 18s\tremaining: 2m 37s\n"
     ]
    },
    {
     "name": "stdout",
     "output_type": "stream",
     "text": [
      "3850:\tlearn: 0.8755668\ttest: 0.8008958\tbest: 0.8011636 (2968)\ttotal: 8m 25s\tremaining: 2m 30s\n"
     ]
    },
    {
     "name": "stdout",
     "output_type": "stream",
     "text": [
      "3900:\tlearn: 0.8765869\ttest: 0.8011379\tbest: 0.8013266 (3894)\ttotal: 8m 31s\tremaining: 2m 24s\n"
     ]
    },
    {
     "name": "stdout",
     "output_type": "stream",
     "text": [
      "3950:\tlearn: 0.8774993\ttest: 0.8006614\tbest: 0.8013266 (3894)\ttotal: 8m 38s\tremaining: 2m 17s\n"
     ]
    },
    {
     "name": "stdout",
     "output_type": "stream",
     "text": [
      "4000:\tlearn: 0.8782472\ttest: 0.8007420\tbest: 0.8013266 (3894)\ttotal: 8m 44s\tremaining: 2m 11s\n"
     ]
    },
    {
     "name": "stdout",
     "output_type": "stream",
     "text": [
      "4050:\tlearn: 0.8792477\ttest: 0.8010115\tbest: 0.8013266 (3894)\ttotal: 8m 51s\tremaining: 2m 4s\n"
     ]
    },
    {
     "name": "stdout",
     "output_type": "stream",
     "text": [
      "4100:\tlearn: 0.8800548\ttest: 0.8008315\tbest: 0.8013266 (3894)\ttotal: 8m 57s\tremaining: 1m 57s\n"
     ]
    },
    {
     "name": "stdout",
     "output_type": "stream",
     "text": [
      "4150:\tlearn: 0.8809049\ttest: 0.8007005\tbest: 0.8013266 (3894)\ttotal: 9m 4s\tremaining: 1m 51s\n"
     ]
    },
    {
     "name": "stdout",
     "output_type": "stream",
     "text": [
      "4200:\tlearn: 0.8818459\ttest: 0.8005554\tbest: 0.8013266 (3894)\ttotal: 9m 11s\tremaining: 1m 44s\n"
     ]
    },
    {
     "name": "stdout",
     "output_type": "stream",
     "text": [
      "4250:\tlearn: 0.8826396\ttest: 0.8008332\tbest: 0.8013266 (3894)\ttotal: 9m 17s\tremaining: 1m 38s\n"
     ]
    },
    {
     "name": "stdout",
     "output_type": "stream",
     "text": [
      "4300:\tlearn: 0.8832163\ttest: 0.8003904\tbest: 0.8013266 (3894)\ttotal: 9m 24s\tremaining: 1m 31s\n"
     ]
    },
    {
     "name": "stdout",
     "output_type": "stream",
     "text": [
      "4350:\tlearn: 0.8843005\ttest: 0.8003782\tbest: 0.8013266 (3894)\ttotal: 9m 30s\tremaining: 1m 25s\n"
     ]
    },
    {
     "name": "stdout",
     "output_type": "stream",
     "text": [
      "4400:\tlearn: 0.8852086\ttest: 0.8002539\tbest: 0.8013266 (3894)\ttotal: 9m 37s\tremaining: 1m 18s\n"
     ]
    },
    {
     "name": "stdout",
     "output_type": "stream",
     "text": [
      "4450:\tlearn: 0.8858075\ttest: 0.8000427\tbest: 0.8013266 (3894)\ttotal: 9m 43s\tremaining: 1m 12s\n"
     ]
    },
    {
     "name": "stdout",
     "output_type": "stream",
     "text": [
      "4500:\tlearn: 0.8866104\ttest: 0.8002790\tbest: 0.8013266 (3894)\ttotal: 9m 50s\tremaining: 1m 5s\n"
     ]
    },
    {
     "name": "stdout",
     "output_type": "stream",
     "text": [
      "4550:\tlearn: 0.8873124\ttest: 0.8003935\tbest: 0.8013266 (3894)\ttotal: 9m 56s\tremaining: 58.9s\n"
     ]
    },
    {
     "name": "stdout",
     "output_type": "stream",
     "text": [
      "4600:\tlearn: 0.8880267\ttest: 0.8001868\tbest: 0.8013266 (3894)\ttotal: 10m 3s\tremaining: 52.3s\n"
     ]
    },
    {
     "name": "stdout",
     "output_type": "stream",
     "text": [
      "4650:\tlearn: 0.8888800\ttest: 0.8004800\tbest: 0.8013266 (3894)\ttotal: 10m 9s\tremaining: 45.8s\n"
     ]
    },
    {
     "name": "stdout",
     "output_type": "stream",
     "text": [
      "4700:\tlearn: 0.8896496\ttest: 0.8001615\tbest: 0.8013266 (3894)\ttotal: 10m 16s\tremaining: 39.2s\n"
     ]
    },
    {
     "name": "stdout",
     "output_type": "stream",
     "text": [
      "4750:\tlearn: 0.8906189\ttest: 0.8003463\tbest: 0.8013266 (3894)\ttotal: 10m 23s\tremaining: 32.7s\n"
     ]
    },
    {
     "name": "stdout",
     "output_type": "stream",
     "text": [
      "4800:\tlearn: 0.8914671\ttest: 0.8002577\tbest: 0.8013266 (3894)\ttotal: 10m 29s\tremaining: 26.1s\n"
     ]
    },
    {
     "name": "stdout",
     "output_type": "stream",
     "text": [
      "4850:\tlearn: 0.8922026\ttest: 0.8003843\tbest: 0.8013266 (3894)\ttotal: 10m 36s\tremaining: 19.5s\n"
     ]
    },
    {
     "name": "stdout",
     "output_type": "stream",
     "text": [
      "4900:\tlearn: 0.8928598\ttest: 0.8000259\tbest: 0.8013266 (3894)\ttotal: 10m 42s\tremaining: 13s\n"
     ]
    },
    {
     "name": "stdout",
     "output_type": "stream",
     "text": [
      "4950:\tlearn: 0.8936615\ttest: 0.8003421\tbest: 0.8013266 (3894)\ttotal: 10m 49s\tremaining: 6.42s\n"
     ]
    },
    {
     "name": "stdout",
     "output_type": "stream",
     "text": [
      "4999:\tlearn: 0.8946008\ttest: 0.8000652\tbest: 0.8013266 (3894)\ttotal: 10m 55s\tremaining: 0us\n",
      "\n",
      "bestTest = 0.8013265678\n",
      "bestIteration = 3894\n",
      "\n"
     ]
    },
    {
     "name": "stdout",
     "output_type": "stream",
     "text": [
      "######################################## training model 2/5 ########################################\n",
      "seed: 6\n"
     ]
    },
    {
     "name": "stdout",
     "output_type": "stream",
     "text": [
      "0:\tlearn: 0.5164024\ttest: 0.5131298\tbest: 0.5131298 (0)\ttotal: 446ms\tremaining: 37m 10s\n"
     ]
    },
    {
     "name": "stdout",
     "output_type": "stream",
     "text": [
      "50:\tlearn: 0.7426928\ttest: 0.7418625\tbest: 0.7424017 (47)\ttotal: 6.87s\tremaining: 11m 6s\n"
     ]
    },
    {
     "name": "stdout",
     "output_type": "stream",
     "text": [
      "100:\tlearn: 0.7571375\ttest: 0.7550178\tbest: 0.7550178 (100)\ttotal: 13.4s\tremaining: 10m 50s\n"
     ]
    },
    {
     "name": "stdout",
     "output_type": "stream",
     "text": [
      "150:\tlearn: 0.7631301\ttest: 0.7604832\tbest: 0.7604832 (150)\ttotal: 19.9s\tremaining: 10m 40s\n"
     ]
    },
    {
     "name": "stdout",
     "output_type": "stream",
     "text": [
      "200:\tlearn: 0.7677960\ttest: 0.7655247\tbest: 0.7655247 (200)\ttotal: 26.5s\tremaining: 10m 33s\n"
     ]
    },
    {
     "name": "stdout",
     "output_type": "stream",
     "text": [
      "250:\tlearn: 0.7722726\ttest: 0.7683140\tbest: 0.7685151 (249)\ttotal: 33.1s\tremaining: 10m 25s\n"
     ]
    },
    {
     "name": "stdout",
     "output_type": "stream",
     "text": [
      "300:\tlearn: 0.7775864\ttest: 0.7733705\tbest: 0.7734125 (299)\ttotal: 39.6s\tremaining: 10m 17s\n"
     ]
    },
    {
     "name": "stdout",
     "output_type": "stream",
     "text": [
      "350:\tlearn: 0.7842647\ttest: 0.7783866\tbest: 0.7784259 (349)\ttotal: 46.1s\tremaining: 10m 10s\n"
     ]
    },
    {
     "name": "stdout",
     "output_type": "stream",
     "text": [
      "400:\tlearn: 0.7892760\ttest: 0.7808927\tbest: 0.7811328 (391)\ttotal: 52.6s\tremaining: 10m 3s\n"
     ]
    },
    {
     "name": "stdout",
     "output_type": "stream",
     "text": [
      "450:\tlearn: 0.7925523\ttest: 0.7830209\tbest: 0.7831287 (447)\ttotal: 59.2s\tremaining: 9m 56s\n"
     ]
    },
    {
     "name": "stdout",
     "output_type": "stream",
     "text": [
      "500:\tlearn: 0.7952926\ttest: 0.7838342\tbest: 0.7840272 (497)\ttotal: 1m 5s\tremaining: 9m 49s\n"
     ]
    },
    {
     "name": "stdout",
     "output_type": "stream",
     "text": [
      "550:\tlearn: 0.7974867\ttest: 0.7850474\tbest: 0.7850793 (543)\ttotal: 1m 12s\tremaining: 9m 43s\n"
     ]
    },
    {
     "name": "stdout",
     "output_type": "stream",
     "text": [
      "600:\tlearn: 0.7996416\ttest: 0.7860322\tbest: 0.7860684 (599)\ttotal: 1m 18s\tremaining: 9m 36s\n"
     ]
    },
    {
     "name": "stdout",
     "output_type": "stream",
     "text": [
      "650:\tlearn: 0.8014904\ttest: 0.7867151\tbest: 0.7867151 (650)\ttotal: 1m 25s\tremaining: 9m 30s\n"
     ]
    },
    {
     "name": "stdout",
     "output_type": "stream",
     "text": [
      "700:\tlearn: 0.8035964\ttest: 0.7871346\tbest: 0.7874108 (689)\ttotal: 1m 31s\tremaining: 9m 24s\n"
     ]
    },
    {
     "name": "stdout",
     "output_type": "stream",
     "text": [
      "750:\tlearn: 0.8054062\ttest: 0.7880877\tbest: 0.7882514 (748)\ttotal: 1m 38s\tremaining: 9m 18s\n"
     ]
    },
    {
     "name": "stdout",
     "output_type": "stream",
     "text": [
      "800:\tlearn: 0.8070112\ttest: 0.7890854\tbest: 0.7890854 (800)\ttotal: 1m 45s\tremaining: 9m 11s\n"
     ]
    },
    {
     "name": "stdout",
     "output_type": "stream",
     "text": [
      "850:\tlearn: 0.8085258\ttest: 0.7898311\tbest: 0.7898311 (850)\ttotal: 1m 51s\tremaining: 9m 5s\n"
     ]
    },
    {
     "name": "stdout",
     "output_type": "stream",
     "text": [
      "900:\tlearn: 0.8101565\ttest: 0.7900497\tbest: 0.7901693 (895)\ttotal: 1m 58s\tremaining: 8m 59s\n"
     ]
    },
    {
     "name": "stdout",
     "output_type": "stream",
     "text": [
      "950:\tlearn: 0.8116140\ttest: 0.7896893\tbest: 0.7902867 (903)\ttotal: 2m 5s\tremaining: 8m 52s\n"
     ]
    },
    {
     "name": "stdout",
     "output_type": "stream",
     "text": [
      "1000:\tlearn: 0.8130561\ttest: 0.7896819\tbest: 0.7902867 (903)\ttotal: 2m 11s\tremaining: 8m 46s\n"
     ]
    },
    {
     "name": "stdout",
     "output_type": "stream",
     "text": [
      "1050:\tlearn: 0.8146441\ttest: 0.7900269\tbest: 0.7902867 (903)\ttotal: 2m 18s\tremaining: 8m 39s\n"
     ]
    },
    {
     "name": "stdout",
     "output_type": "stream",
     "text": [
      "1100:\tlearn: 0.8162221\ttest: 0.7904829\tbest: 0.7904829 (1100)\ttotal: 2m 25s\tremaining: 8m 33s\n"
     ]
    },
    {
     "name": "stdout",
     "output_type": "stream",
     "text": [
      "1150:\tlearn: 0.8177908\ttest: 0.7904773\tbest: 0.7905587 (1149)\ttotal: 2m 31s\tremaining: 8m 26s\n"
     ]
    },
    {
     "name": "stdout",
     "output_type": "stream",
     "text": [
      "1200:\tlearn: 0.8192541\ttest: 0.7907008\tbest: 0.7909438 (1187)\ttotal: 2m 38s\tremaining: 8m 20s\n"
     ]
    },
    {
     "name": "stdout",
     "output_type": "stream",
     "text": [
      "1250:\tlearn: 0.8206328\ttest: 0.7910077\tbest: 0.7911488 (1246)\ttotal: 2m 44s\tremaining: 8m 13s\n"
     ]
    },
    {
     "name": "stdout",
     "output_type": "stream",
     "text": [
      "1300:\tlearn: 0.8223006\ttest: 0.7909555\tbest: 0.7911770 (1252)\ttotal: 2m 51s\tremaining: 8m 7s\n"
     ]
    },
    {
     "name": "stdout",
     "output_type": "stream",
     "text": [
      "1350:\tlearn: 0.8235475\ttest: 0.7911701\tbest: 0.7914743 (1330)\ttotal: 2m 57s\tremaining: 8m\n"
     ]
    },
    {
     "name": "stdout",
     "output_type": "stream",
     "text": [
      "1400:\tlearn: 0.8248355\ttest: 0.7907882\tbest: 0.7914743 (1330)\ttotal: 3m 4s\tremaining: 7m 53s\n"
     ]
    },
    {
     "name": "stdout",
     "output_type": "stream",
     "text": [
      "1450:\tlearn: 0.8262229\ttest: 0.7912295\tbest: 0.7914743 (1330)\ttotal: 3m 11s\tremaining: 7m 47s\n"
     ]
    },
    {
     "name": "stdout",
     "output_type": "stream",
     "text": [
      "1500:\tlearn: 0.8273950\ttest: 0.7916289\tbest: 0.7917648 (1461)\ttotal: 3m 17s\tremaining: 7m 40s\n"
     ]
    },
    {
     "name": "stdout",
     "output_type": "stream",
     "text": [
      "1550:\tlearn: 0.8285083\ttest: 0.7919091\tbest: 0.7920645 (1522)\ttotal: 3m 24s\tremaining: 7m 34s\n"
     ]
    },
    {
     "name": "stdout",
     "output_type": "stream",
     "text": [
      "1600:\tlearn: 0.8295463\ttest: 0.7920180\tbest: 0.7922993 (1579)\ttotal: 3m 30s\tremaining: 7m 27s\n"
     ]
    },
    {
     "name": "stdout",
     "output_type": "stream",
     "text": [
      "1650:\tlearn: 0.8308078\ttest: 0.7918122\tbest: 0.7922993 (1579)\ttotal: 3m 37s\tremaining: 7m 21s\n"
     ]
    },
    {
     "name": "stdout",
     "output_type": "stream",
     "text": [
      "1700:\tlearn: 0.8319693\ttest: 0.7921930\tbest: 0.7922993 (1579)\ttotal: 3m 43s\tremaining: 7m 14s\n"
     ]
    },
    {
     "name": "stdout",
     "output_type": "stream",
     "text": [
      "1750:\tlearn: 0.8327925\ttest: 0.7922746\tbest: 0.7924536 (1728)\ttotal: 3m 50s\tremaining: 7m 7s\n"
     ]
    },
    {
     "name": "stdout",
     "output_type": "stream",
     "text": [
      "1800:\tlearn: 0.8343156\ttest: 0.7922973\tbest: 0.7927522 (1785)\ttotal: 3m 57s\tremaining: 7m 1s\n"
     ]
    },
    {
     "name": "stdout",
     "output_type": "stream",
     "text": [
      "1850:\tlearn: 0.8353493\ttest: 0.7923195\tbest: 0.7927522 (1785)\ttotal: 4m 3s\tremaining: 6m 54s\n"
     ]
    },
    {
     "name": "stdout",
     "output_type": "stream",
     "text": [
      "1900:\tlearn: 0.8361039\ttest: 0.7928495\tbest: 0.7929948 (1897)\ttotal: 4m 10s\tremaining: 6m 47s\n"
     ]
    },
    {
     "name": "stdout",
     "output_type": "stream",
     "text": [
      "1950:\tlearn: 0.8372190\ttest: 0.7928999\tbest: 0.7931277 (1943)\ttotal: 4m 16s\tremaining: 6m 41s\n"
     ]
    },
    {
     "name": "stdout",
     "output_type": "stream",
     "text": [
      "2000:\tlearn: 0.8383257\ttest: 0.7933943\tbest: 0.7934787 (1985)\ttotal: 4m 23s\tremaining: 6m 34s\n"
     ]
    },
    {
     "name": "stdout",
     "output_type": "stream",
     "text": [
      "2050:\tlearn: 0.8391045\ttest: 0.7931614\tbest: 0.7934787 (1985)\ttotal: 4m 29s\tremaining: 6m 28s\n"
     ]
    },
    {
     "name": "stdout",
     "output_type": "stream",
     "text": [
      "2100:\tlearn: 0.8399291\ttest: 0.7931462\tbest: 0.7934787 (1985)\ttotal: 4m 36s\tremaining: 6m 21s\n"
     ]
    },
    {
     "name": "stdout",
     "output_type": "stream",
     "text": [
      "2150:\tlearn: 0.8409797\ttest: 0.7934119\tbest: 0.7934787 (1985)\ttotal: 4m 43s\tremaining: 6m 14s\n"
     ]
    },
    {
     "name": "stdout",
     "output_type": "stream",
     "text": [
      "2200:\tlearn: 0.8419535\ttest: 0.7928729\tbest: 0.7934787 (1985)\ttotal: 4m 49s\tremaining: 6m 8s\n"
     ]
    },
    {
     "name": "stdout",
     "output_type": "stream",
     "text": [
      "2250:\tlearn: 0.8431803\ttest: 0.7932226\tbest: 0.7934787 (1985)\ttotal: 4m 56s\tremaining: 6m 1s\n"
     ]
    },
    {
     "name": "stdout",
     "output_type": "stream",
     "text": [
      "2300:\tlearn: 0.8442744\ttest: 0.7934885\tbest: 0.7935087 (2296)\ttotal: 5m 2s\tremaining: 5m 55s\n"
     ]
    },
    {
     "name": "stdout",
     "output_type": "stream",
     "text": [
      "2350:\tlearn: 0.8451806\ttest: 0.7935925\tbest: 0.7936733 (2336)\ttotal: 5m 9s\tremaining: 5m 48s\n"
     ]
    },
    {
     "name": "stdout",
     "output_type": "stream",
     "text": [
      "2400:\tlearn: 0.8460762\ttest: 0.7939872\tbest: 0.7941119 (2398)\ttotal: 5m 16s\tremaining: 5m 42s\n"
     ]
    },
    {
     "name": "stdout",
     "output_type": "stream",
     "text": [
      "2450:\tlearn: 0.8471818\ttest: 0.7939166\tbest: 0.7941119 (2398)\ttotal: 5m 22s\tremaining: 5m 35s\n"
     ]
    },
    {
     "name": "stdout",
     "output_type": "stream",
     "text": [
      "2500:\tlearn: 0.8481160\ttest: 0.7938891\tbest: 0.7942617 (2473)\ttotal: 5m 29s\tremaining: 5m 29s\n"
     ]
    },
    {
     "name": "stdout",
     "output_type": "stream",
     "text": [
      "2550:\tlearn: 0.8493364\ttest: 0.7940653\tbest: 0.7943127 (2520)\ttotal: 5m 36s\tremaining: 5m 22s\n"
     ]
    },
    {
     "name": "stdout",
     "output_type": "stream",
     "text": [
      "2600:\tlearn: 0.8503129\ttest: 0.7941639\tbest: 0.7943941 (2586)\ttotal: 5m 42s\tremaining: 5m 15s\n"
     ]
    },
    {
     "name": "stdout",
     "output_type": "stream",
     "text": [
      "2650:\tlearn: 0.8514509\ttest: 0.7944748\tbest: 0.7945785 (2647)\ttotal: 5m 49s\tremaining: 5m 9s\n"
     ]
    },
    {
     "name": "stdout",
     "output_type": "stream",
     "text": [
      "2700:\tlearn: 0.8524099\ttest: 0.7945966\tbest: 0.7946972 (2690)\ttotal: 5m 55s\tremaining: 5m 2s\n"
     ]
    },
    {
     "name": "stdout",
     "output_type": "stream",
     "text": [
      "2750:\tlearn: 0.8532803\ttest: 0.7942510\tbest: 0.7946972 (2690)\ttotal: 6m 2s\tremaining: 4m 56s\n"
     ]
    },
    {
     "name": "stdout",
     "output_type": "stream",
     "text": [
      "2800:\tlearn: 0.8544731\ttest: 0.7944479\tbest: 0.7946980 (2779)\ttotal: 6m 9s\tremaining: 4m 49s\n"
     ]
    },
    {
     "name": "stdout",
     "output_type": "stream",
     "text": [
      "2850:\tlearn: 0.8551149\ttest: 0.7946670\tbest: 0.7949809 (2836)\ttotal: 6m 15s\tremaining: 4m 43s\n"
     ]
    },
    {
     "name": "stdout",
     "output_type": "stream",
     "text": [
      "2900:\tlearn: 0.8562580\ttest: 0.7951349\tbest: 0.7951349 (2900)\ttotal: 6m 22s\tremaining: 4m 36s\n"
     ]
    },
    {
     "name": "stdout",
     "output_type": "stream",
     "text": [
      "2950:\tlearn: 0.8570381\ttest: 0.7947925\tbest: 0.7951459 (2935)\ttotal: 6m 28s\tremaining: 4m 29s\n"
     ]
    },
    {
     "name": "stdout",
     "output_type": "stream",
     "text": [
      "3000:\tlearn: 0.8578369\ttest: 0.7949092\tbest: 0.7951459 (2935)\ttotal: 6m 35s\tremaining: 4m 23s\n"
     ]
    },
    {
     "name": "stdout",
     "output_type": "stream",
     "text": [
      "3050:\tlearn: 0.8587227\ttest: 0.7949391\tbest: 0.7951459 (2935)\ttotal: 6m 42s\tremaining: 4m 16s\n"
     ]
    },
    {
     "name": "stdout",
     "output_type": "stream",
     "text": [
      "3100:\tlearn: 0.8597557\ttest: 0.7951230\tbest: 0.7952674 (3096)\ttotal: 6m 48s\tremaining: 4m 10s\n"
     ]
    },
    {
     "name": "stdout",
     "output_type": "stream",
     "text": [
      "3150:\tlearn: 0.8605119\ttest: 0.7951234\tbest: 0.7954179 (3115)\ttotal: 6m 55s\tremaining: 4m 3s\n"
     ]
    },
    {
     "name": "stdout",
     "output_type": "stream",
     "text": [
      "3200:\tlearn: 0.8616263\ttest: 0.7951277\tbest: 0.7954618 (3189)\ttotal: 7m 1s\tremaining: 3m 57s\n"
     ]
    },
    {
     "name": "stdout",
     "output_type": "stream",
     "text": [
      "3250:\tlearn: 0.8622577\ttest: 0.7951466\tbest: 0.7955472 (3207)\ttotal: 7m 8s\tremaining: 3m 50s\n"
     ]
    },
    {
     "name": "stdout",
     "output_type": "stream",
     "text": [
      "3300:\tlearn: 0.8633498\ttest: 0.7951772\tbest: 0.7955557 (3278)\ttotal: 7m 15s\tremaining: 3m 43s\n"
     ]
    },
    {
     "name": "stdout",
     "output_type": "stream",
     "text": [
      "3350:\tlearn: 0.8642184\ttest: 0.7955073\tbest: 0.7955693 (3348)\ttotal: 7m 21s\tremaining: 3m 37s\n"
     ]
    },
    {
     "name": "stdout",
     "output_type": "stream",
     "text": [
      "3400:\tlearn: 0.8649385\ttest: 0.7954316\tbest: 0.7955807 (3396)\ttotal: 7m 28s\tremaining: 3m 30s\n"
     ]
    },
    {
     "name": "stdout",
     "output_type": "stream",
     "text": [
      "3450:\tlearn: 0.8658472\ttest: 0.7951346\tbest: 0.7957580 (3431)\ttotal: 7m 35s\tremaining: 3m 24s\n"
     ]
    },
    {
     "name": "stdout",
     "output_type": "stream",
     "text": [
      "3500:\tlearn: 0.8667131\ttest: 0.7949473\tbest: 0.7957580 (3431)\ttotal: 7m 41s\tremaining: 3m 17s\n"
     ]
    },
    {
     "name": "stdout",
     "output_type": "stream",
     "text": [
      "3550:\tlearn: 0.8675331\ttest: 0.7949467\tbest: 0.7957580 (3431)\ttotal: 7m 48s\tremaining: 3m 10s\n"
     ]
    },
    {
     "name": "stdout",
     "output_type": "stream",
     "text": [
      "3600:\tlearn: 0.8683533\ttest: 0.7948623\tbest: 0.7957580 (3431)\ttotal: 7m 54s\tremaining: 3m 4s\n"
     ]
    },
    {
     "name": "stdout",
     "output_type": "stream",
     "text": [
      "3650:\tlearn: 0.8694861\ttest: 0.7945718\tbest: 0.7957580 (3431)\ttotal: 8m 1s\tremaining: 2m 57s\n"
     ]
    },
    {
     "name": "stdout",
     "output_type": "stream",
     "text": [
      "3700:\tlearn: 0.8703255\ttest: 0.7946011\tbest: 0.7957580 (3431)\ttotal: 8m 7s\tremaining: 2m 51s\n"
     ]
    },
    {
     "name": "stdout",
     "output_type": "stream",
     "text": [
      "3750:\tlearn: 0.8709334\ttest: 0.7943533\tbest: 0.7957580 (3431)\ttotal: 8m 13s\tremaining: 2m 44s\n"
     ]
    },
    {
     "name": "stdout",
     "output_type": "stream",
     "text": [
      "3800:\tlearn: 0.8719815\ttest: 0.7947729\tbest: 0.7957580 (3431)\ttotal: 8m 20s\tremaining: 2m 37s\n"
     ]
    },
    {
     "name": "stdout",
     "output_type": "stream",
     "text": [
      "3850:\tlearn: 0.8727996\ttest: 0.7948814\tbest: 0.7957580 (3431)\ttotal: 8m 26s\tremaining: 2m 31s\n"
     ]
    },
    {
     "name": "stdout",
     "output_type": "stream",
     "text": [
      "3900:\tlearn: 0.8735461\ttest: 0.7946413\tbest: 0.7957580 (3431)\ttotal: 8m 33s\tremaining: 2m 24s\n"
     ]
    },
    {
     "name": "stdout",
     "output_type": "stream",
     "text": [
      "3950:\tlearn: 0.8744366\ttest: 0.7944959\tbest: 0.7957580 (3431)\ttotal: 8m 39s\tremaining: 2m 18s\n"
     ]
    },
    {
     "name": "stdout",
     "output_type": "stream",
     "text": [
      "4000:\tlearn: 0.8754030\ttest: 0.7945116\tbest: 0.7957580 (3431)\ttotal: 8m 46s\tremaining: 2m 11s\n"
     ]
    },
    {
     "name": "stdout",
     "output_type": "stream",
     "text": [
      "4050:\tlearn: 0.8762294\ttest: 0.7951699\tbest: 0.7957580 (3431)\ttotal: 8m 52s\tremaining: 2m 4s\n"
     ]
    },
    {
     "name": "stdout",
     "output_type": "stream",
     "text": [
      "4100:\tlearn: 0.8769449\ttest: 0.7943471\tbest: 0.7957580 (3431)\ttotal: 8m 59s\tremaining: 1m 58s\n"
     ]
    },
    {
     "name": "stdout",
     "output_type": "stream",
     "text": [
      "4150:\tlearn: 0.8777486\ttest: 0.7943484\tbest: 0.7957580 (3431)\ttotal: 9m 5s\tremaining: 1m 51s\n"
     ]
    },
    {
     "name": "stdout",
     "output_type": "stream",
     "text": [
      "4200:\tlearn: 0.8786856\ttest: 0.7946636\tbest: 0.7957580 (3431)\ttotal: 9m 12s\tremaining: 1m 45s\n"
     ]
    },
    {
     "name": "stdout",
     "output_type": "stream",
     "text": [
      "4250:\tlearn: 0.8796999\ttest: 0.7948178\tbest: 0.7957580 (3431)\ttotal: 9m 19s\tremaining: 1m 38s\n"
     ]
    },
    {
     "name": "stdout",
     "output_type": "stream",
     "text": [
      "4300:\tlearn: 0.8803703\ttest: 0.7945945\tbest: 0.7957580 (3431)\ttotal: 9m 25s\tremaining: 1m 31s\n"
     ]
    },
    {
     "name": "stdout",
     "output_type": "stream",
     "text": [
      "4350:\tlearn: 0.8810192\ttest: 0.7947428\tbest: 0.7957580 (3431)\ttotal: 9m 32s\tremaining: 1m 25s\n"
     ]
    },
    {
     "name": "stdout",
     "output_type": "stream",
     "text": [
      "4400:\tlearn: 0.8816776\ttest: 0.7945716\tbest: 0.7957580 (3431)\ttotal: 9m 38s\tremaining: 1m 18s\n"
     ]
    },
    {
     "name": "stdout",
     "output_type": "stream",
     "text": [
      "4450:\tlearn: 0.8823744\ttest: 0.7947840\tbest: 0.7957580 (3431)\ttotal: 9m 45s\tremaining: 1m 12s\n"
     ]
    },
    {
     "name": "stdout",
     "output_type": "stream",
     "text": [
      "4500:\tlearn: 0.8832467\ttest: 0.7942686\tbest: 0.7957580 (3431)\ttotal: 9m 51s\tremaining: 1m 5s\n"
     ]
    },
    {
     "name": "stdout",
     "output_type": "stream",
     "text": [
      "4550:\tlearn: 0.8839353\ttest: 0.7943341\tbest: 0.7957580 (3431)\ttotal: 9m 58s\tremaining: 59.1s\n"
     ]
    },
    {
     "name": "stdout",
     "output_type": "stream",
     "text": [
      "4600:\tlearn: 0.8849837\ttest: 0.7946239\tbest: 0.7957580 (3431)\ttotal: 10m 5s\tremaining: 52.5s\n"
     ]
    },
    {
     "name": "stdout",
     "output_type": "stream",
     "text": [
      "4650:\tlearn: 0.8856421\ttest: 0.7945404\tbest: 0.7957580 (3431)\ttotal: 10m 11s\tremaining: 45.9s\n"
     ]
    },
    {
     "name": "stdout",
     "output_type": "stream",
     "text": [
      "4700:\tlearn: 0.8864418\ttest: 0.7945458\tbest: 0.7957580 (3431)\ttotal: 10m 18s\tremaining: 39.3s\n"
     ]
    },
    {
     "name": "stdout",
     "output_type": "stream",
     "text": [
      "4750:\tlearn: 0.8870779\ttest: 0.7949853\tbest: 0.7957580 (3431)\ttotal: 10m 24s\tremaining: 32.8s\n"
     ]
    },
    {
     "name": "stdout",
     "output_type": "stream",
     "text": [
      "4800:\tlearn: 0.8878011\ttest: 0.7949412\tbest: 0.7957580 (3431)\ttotal: 10m 31s\tremaining: 26.2s\n"
     ]
    },
    {
     "name": "stdout",
     "output_type": "stream",
     "text": [
      "4850:\tlearn: 0.8884669\ttest: 0.7947112\tbest: 0.7957580 (3431)\ttotal: 10m 38s\tremaining: 19.6s\n"
     ]
    },
    {
     "name": "stdout",
     "output_type": "stream",
     "text": [
      "4900:\tlearn: 0.8892356\ttest: 0.7944851\tbest: 0.7957580 (3431)\ttotal: 10m 44s\tremaining: 13s\n"
     ]
    },
    {
     "name": "stdout",
     "output_type": "stream",
     "text": [
      "4950:\tlearn: 0.8899846\ttest: 0.7947127\tbest: 0.7957580 (3431)\ttotal: 10m 51s\tremaining: 6.45s\n"
     ]
    },
    {
     "name": "stdout",
     "output_type": "stream",
     "text": [
      "4999:\tlearn: 0.8907492\ttest: 0.7943510\tbest: 0.7957580 (3431)\ttotal: 10m 57s\tremaining: 0us\n",
      "\n",
      "bestTest = 0.7957579995\n",
      "bestIteration = 3431\n",
      "\n"
     ]
    },
    {
     "name": "stdout",
     "output_type": "stream",
     "text": [
      "######################################## training model 3/5 ########################################\n",
      "seed: 7\n"
     ]
    },
    {
     "name": "stdout",
     "output_type": "stream",
     "text": [
      "0:\tlearn: 0.5564010\ttest: 0.5522403\tbest: 0.5522403 (0)\ttotal: 447ms\tremaining: 37m 16s\n"
     ]
    },
    {
     "name": "stdout",
     "output_type": "stream",
     "text": [
      "50:\tlearn: 0.7426243\ttest: 0.7369638\tbest: 0.7371657 (49)\ttotal: 6.92s\tremaining: 11m 11s\n"
     ]
    },
    {
     "name": "stdout",
     "output_type": "stream",
     "text": [
      "100:\tlearn: 0.7574326\ttest: 0.7506609\tbest: 0.7506609 (100)\ttotal: 13.4s\tremaining: 10m 51s\n"
     ]
    },
    {
     "name": "stdout",
     "output_type": "stream",
     "text": [
      "150:\tlearn: 0.7646531\ttest: 0.7580624\tbest: 0.7580624 (150)\ttotal: 20s\tremaining: 10m 41s\n"
     ]
    },
    {
     "name": "stdout",
     "output_type": "stream",
     "text": [
      "200:\tlearn: 0.7681615\ttest: 0.7620301\tbest: 0.7620301 (200)\ttotal: 26.5s\tremaining: 10m 33s\n"
     ]
    },
    {
     "name": "stdout",
     "output_type": "stream",
     "text": [
      "250:\tlearn: 0.7723413\ttest: 0.7665107\tbest: 0.7665107 (250)\ttotal: 33.1s\tremaining: 10m 25s\n"
     ]
    },
    {
     "name": "stdout",
     "output_type": "stream",
     "text": [
      "300:\tlearn: 0.7774950\ttest: 0.7709422\tbest: 0.7709422 (300)\ttotal: 39.7s\tremaining: 10m 20s\n"
     ]
    },
    {
     "name": "stdout",
     "output_type": "stream",
     "text": [
      "350:\tlearn: 0.7838527\ttest: 0.7761574\tbest: 0.7763447 (349)\ttotal: 46.4s\tremaining: 10m 14s\n"
     ]
    },
    {
     "name": "stdout",
     "output_type": "stream",
     "text": [
      "400:\tlearn: 0.7887150\ttest: 0.7799045\tbest: 0.7799752 (399)\ttotal: 53.1s\tremaining: 10m 8s\n"
     ]
    },
    {
     "name": "stdout",
     "output_type": "stream",
     "text": [
      "450:\tlearn: 0.7923323\ttest: 0.7821790\tbest: 0.7821790 (450)\ttotal: 59.8s\tremaining: 10m 2s\n"
     ]
    },
    {
     "name": "stdout",
     "output_type": "stream",
     "text": [
      "500:\tlearn: 0.7949128\ttest: 0.7830649\tbest: 0.7830649 (500)\ttotal: 1m 6s\tremaining: 9m 56s\n"
     ]
    },
    {
     "name": "stdout",
     "output_type": "stream",
     "text": [
      "550:\tlearn: 0.7974107\ttest: 0.7841680\tbest: 0.7843609 (533)\ttotal: 1m 13s\tremaining: 9m 49s\n"
     ]
    },
    {
     "name": "stdout",
     "output_type": "stream",
     "text": [
      "600:\tlearn: 0.7996598\ttest: 0.7851505\tbest: 0.7852133 (589)\ttotal: 1m 19s\tremaining: 9m 42s\n"
     ]
    },
    {
     "name": "stdout",
     "output_type": "stream",
     "text": [
      "650:\tlearn: 0.8018962\ttest: 0.7856909\tbest: 0.7858831 (640)\ttotal: 1m 26s\tremaining: 9m 36s\n"
     ]
    },
    {
     "name": "stdout",
     "output_type": "stream",
     "text": [
      "700:\tlearn: 0.8036091\ttest: 0.7863719\tbest: 0.7865140 (698)\ttotal: 1m 32s\tremaining: 9m 29s\n"
     ]
    },
    {
     "name": "stdout",
     "output_type": "stream",
     "text": [
      "750:\tlearn: 0.8054380\ttest: 0.7871371\tbest: 0.7873012 (748)\ttotal: 1m 39s\tremaining: 9m 22s\n"
     ]
    },
    {
     "name": "stdout",
     "output_type": "stream",
     "text": [
      "800:\tlearn: 0.8072775\ttest: 0.7875243\tbest: 0.7877121 (786)\ttotal: 1m 46s\tremaining: 9m 15s\n"
     ]
    },
    {
     "name": "stdout",
     "output_type": "stream",
     "text": [
      "850:\tlearn: 0.8090098\ttest: 0.7879512\tbest: 0.7880732 (847)\ttotal: 1m 52s\tremaining: 9m 9s\n"
     ]
    },
    {
     "name": "stdout",
     "output_type": "stream",
     "text": [
      "900:\tlearn: 0.8108046\ttest: 0.7884985\tbest: 0.7884985 (900)\ttotal: 1m 59s\tremaining: 9m 2s\n"
     ]
    },
    {
     "name": "stdout",
     "output_type": "stream",
     "text": [
      "950:\tlearn: 0.8125192\ttest: 0.7887099\tbest: 0.7891077 (913)\ttotal: 2m 5s\tremaining: 8m 55s\n"
     ]
    },
    {
     "name": "stdout",
     "output_type": "stream",
     "text": [
      "1000:\tlearn: 0.8139075\ttest: 0.7895168\tbest: 0.7895242 (964)\ttotal: 2m 12s\tremaining: 8m 48s\n"
     ]
    },
    {
     "name": "stdout",
     "output_type": "stream",
     "text": [
      "1050:\tlearn: 0.8154505\ttest: 0.7896537\tbest: 0.7896957 (1049)\ttotal: 2m 18s\tremaining: 8m 42s\n"
     ]
    },
    {
     "name": "stdout",
     "output_type": "stream",
     "text": [
      "1100:\tlearn: 0.8170579\ttest: 0.7897944\tbest: 0.7899846 (1099)\ttotal: 2m 25s\tremaining: 8m 35s\n"
     ]
    },
    {
     "name": "stdout",
     "output_type": "stream",
     "text": [
      "1150:\tlearn: 0.8182863\ttest: 0.7895953\tbest: 0.7900018 (1115)\ttotal: 2m 32s\tremaining: 8m 28s\n"
     ]
    },
    {
     "name": "stdout",
     "output_type": "stream",
     "text": [
      "1200:\tlearn: 0.8198281\ttest: 0.7894540\tbest: 0.7900018 (1115)\ttotal: 2m 38s\tremaining: 8m 21s\n"
     ]
    },
    {
     "name": "stdout",
     "output_type": "stream",
     "text": [
      "1250:\tlearn: 0.8212127\ttest: 0.7901951\tbest: 0.7901951 (1250)\ttotal: 2m 45s\tremaining: 8m 14s\n"
     ]
    },
    {
     "name": "stdout",
     "output_type": "stream",
     "text": [
      "1300:\tlearn: 0.8225238\ttest: 0.7899253\tbest: 0.7903416 (1289)\ttotal: 2m 51s\tremaining: 8m 7s\n"
     ]
    },
    {
     "name": "stdout",
     "output_type": "stream",
     "text": [
      "1350:\tlearn: 0.8238184\ttest: 0.7904335\tbest: 0.7904335 (1350)\ttotal: 2m 58s\tremaining: 8m\n"
     ]
    },
    {
     "name": "stdout",
     "output_type": "stream",
     "text": [
      "1400:\tlearn: 0.8254083\ttest: 0.7909094\tbest: 0.7909094 (1400)\ttotal: 3m 4s\tremaining: 7m 53s\n"
     ]
    },
    {
     "name": "stdout",
     "output_type": "stream",
     "text": [
      "1450:\tlearn: 0.8266689\ttest: 0.7906282\tbest: 0.7910601 (1436)\ttotal: 3m 10s\tremaining: 7m 47s\n"
     ]
    },
    {
     "name": "stdout",
     "output_type": "stream",
     "text": [
      "1500:\tlearn: 0.8278436\ttest: 0.7908417\tbest: 0.7912941 (1472)\ttotal: 3m 17s\tremaining: 7m 40s\n"
     ]
    },
    {
     "name": "stdout",
     "output_type": "stream",
     "text": [
      "1550:\tlearn: 0.8292576\ttest: 0.7906945\tbest: 0.7912941 (1472)\ttotal: 3m 23s\tremaining: 7m 33s\n"
     ]
    },
    {
     "name": "stdout",
     "output_type": "stream",
     "text": [
      "1600:\tlearn: 0.8303304\ttest: 0.7907470\tbest: 0.7912941 (1472)\ttotal: 3m 30s\tremaining: 7m 26s\n"
     ]
    },
    {
     "name": "stdout",
     "output_type": "stream",
     "text": [
      "1650:\tlearn: 0.8312551\ttest: 0.7908077\tbest: 0.7912941 (1472)\ttotal: 3m 36s\tremaining: 7m 20s\n"
     ]
    },
    {
     "name": "stdout",
     "output_type": "stream",
     "text": [
      "1700:\tlearn: 0.8322417\ttest: 0.7907097\tbest: 0.7912941 (1472)\ttotal: 3m 43s\tremaining: 7m 13s\n"
     ]
    },
    {
     "name": "stdout",
     "output_type": "stream",
     "text": [
      "1750:\tlearn: 0.8333732\ttest: 0.7904948\tbest: 0.7912941 (1472)\ttotal: 3m 49s\tremaining: 7m 6s\n"
     ]
    },
    {
     "name": "stdout",
     "output_type": "stream",
     "text": [
      "1800:\tlearn: 0.8343889\ttest: 0.7909244\tbest: 0.7912941 (1472)\ttotal: 3m 56s\tremaining: 7m\n"
     ]
    },
    {
     "name": "stdout",
     "output_type": "stream",
     "text": [
      "1850:\tlearn: 0.8356039\ttest: 0.7909376\tbest: 0.7912941 (1472)\ttotal: 4m 2s\tremaining: 6m 53s\n"
     ]
    },
    {
     "name": "stdout",
     "output_type": "stream",
     "text": [
      "1900:\tlearn: 0.8367096\ttest: 0.7908938\tbest: 0.7912941 (1472)\ttotal: 4m 9s\tremaining: 6m 46s\n"
     ]
    },
    {
     "name": "stdout",
     "output_type": "stream",
     "text": [
      "1950:\tlearn: 0.8377879\ttest: 0.7909238\tbest: 0.7912941 (1472)\ttotal: 4m 16s\tremaining: 6m 40s\n"
     ]
    },
    {
     "name": "stdout",
     "output_type": "stream",
     "text": [
      "2000:\tlearn: 0.8388667\ttest: 0.7908578\tbest: 0.7912941 (1472)\ttotal: 4m 22s\tremaining: 6m 33s\n"
     ]
    },
    {
     "name": "stdout",
     "output_type": "stream",
     "text": [
      "2050:\tlearn: 0.8401974\ttest: 0.7908059\tbest: 0.7913376 (2042)\ttotal: 4m 29s\tremaining: 6m 27s\n"
     ]
    },
    {
     "name": "stdout",
     "output_type": "stream",
     "text": [
      "2100:\tlearn: 0.8413846\ttest: 0.7908551\tbest: 0.7913376 (2042)\ttotal: 4m 35s\tremaining: 6m 20s\n"
     ]
    },
    {
     "name": "stdout",
     "output_type": "stream",
     "text": [
      "2150:\tlearn: 0.8423336\ttest: 0.7905985\tbest: 0.7913376 (2042)\ttotal: 4m 42s\tremaining: 6m 13s\n"
     ]
    },
    {
     "name": "stdout",
     "output_type": "stream",
     "text": [
      "2200:\tlearn: 0.8431474\ttest: 0.7907763\tbest: 0.7913376 (2042)\ttotal: 4m 48s\tremaining: 6m 7s\n"
     ]
    },
    {
     "name": "stdout",
     "output_type": "stream",
     "text": [
      "2250:\tlearn: 0.8442720\ttest: 0.7906807\tbest: 0.7913376 (2042)\ttotal: 4m 55s\tremaining: 6m\n"
     ]
    },
    {
     "name": "stdout",
     "output_type": "stream",
     "text": [
      "2300:\tlearn: 0.8451726\ttest: 0.7907601\tbest: 0.7913376 (2042)\ttotal: 5m 1s\tremaining: 5m 53s\n"
     ]
    },
    {
     "name": "stdout",
     "output_type": "stream",
     "text": [
      "2350:\tlearn: 0.8463485\ttest: 0.7910091\tbest: 0.7913376 (2042)\ttotal: 5m 8s\tremaining: 5m 47s\n"
     ]
    },
    {
     "name": "stdout",
     "output_type": "stream",
     "text": [
      "2400:\tlearn: 0.8475712\ttest: 0.7907319\tbest: 0.7916246 (2368)\ttotal: 5m 14s\tremaining: 5m 40s\n"
     ]
    },
    {
     "name": "stdout",
     "output_type": "stream",
     "text": [
      "2450:\tlearn: 0.8484618\ttest: 0.7915633\tbest: 0.7917316 (2448)\ttotal: 5m 21s\tremaining: 5m 34s\n"
     ]
    },
    {
     "name": "stdout",
     "output_type": "stream",
     "text": [
      "2500:\tlearn: 0.8494079\ttest: 0.7918132\tbest: 0.7921110 (2468)\ttotal: 5m 27s\tremaining: 5m 27s\n"
     ]
    },
    {
     "name": "stdout",
     "output_type": "stream",
     "text": [
      "2550:\tlearn: 0.8504496\ttest: 0.7916769\tbest: 0.7921958 (2518)\ttotal: 5m 34s\tremaining: 5m 20s\n"
     ]
    },
    {
     "name": "stdout",
     "output_type": "stream",
     "text": [
      "2600:\tlearn: 0.8516557\ttest: 0.7917693\tbest: 0.7921958 (2518)\ttotal: 5m 40s\tremaining: 5m 14s\n"
     ]
    },
    {
     "name": "stdout",
     "output_type": "stream",
     "text": [
      "2650:\tlearn: 0.8528813\ttest: 0.7926628\tbest: 0.7927052 (2642)\ttotal: 5m 47s\tremaining: 5m 7s\n"
     ]
    },
    {
     "name": "stdout",
     "output_type": "stream",
     "text": [
      "2700:\tlearn: 0.8538169\ttest: 0.7926316\tbest: 0.7930130 (2690)\ttotal: 5m 53s\tremaining: 5m 1s\n"
     ]
    },
    {
     "name": "stdout",
     "output_type": "stream",
     "text": [
      "2750:\tlearn: 0.8548348\ttest: 0.7925649\tbest: 0.7930130 (2690)\ttotal: 6m\tremaining: 4m 54s\n"
     ]
    },
    {
     "name": "stdout",
     "output_type": "stream",
     "text": [
      "2800:\tlearn: 0.8556690\ttest: 0.7926079\tbest: 0.7930130 (2690)\ttotal: 6m 6s\tremaining: 4m 48s\n"
     ]
    },
    {
     "name": "stdout",
     "output_type": "stream",
     "text": [
      "2850:\tlearn: 0.8565698\ttest: 0.7922673\tbest: 0.7930130 (2690)\ttotal: 6m 13s\tremaining: 4m 41s\n"
     ]
    },
    {
     "name": "stdout",
     "output_type": "stream",
     "text": [
      "2900:\tlearn: 0.8574726\ttest: 0.7922334\tbest: 0.7930130 (2690)\ttotal: 6m 19s\tremaining: 4m 34s\n"
     ]
    },
    {
     "name": "stdout",
     "output_type": "stream",
     "text": [
      "2950:\tlearn: 0.8585123\ttest: 0.7925639\tbest: 0.7930130 (2690)\ttotal: 6m 26s\tremaining: 4m 28s\n"
     ]
    },
    {
     "name": "stdout",
     "output_type": "stream",
     "text": [
      "3000:\tlearn: 0.8594750\ttest: 0.7921543\tbest: 0.7930130 (2690)\ttotal: 6m 32s\tremaining: 4m 21s\n"
     ]
    },
    {
     "name": "stdout",
     "output_type": "stream",
     "text": [
      "3050:\tlearn: 0.8603456\ttest: 0.7921869\tbest: 0.7930130 (2690)\ttotal: 6m 39s\tremaining: 4m 15s\n"
     ]
    },
    {
     "name": "stdout",
     "output_type": "stream",
     "text": [
      "3100:\tlearn: 0.8613171\ttest: 0.7915724\tbest: 0.7930130 (2690)\ttotal: 6m 46s\tremaining: 4m 8s\n"
     ]
    },
    {
     "name": "stdout",
     "output_type": "stream",
     "text": [
      "3150:\tlearn: 0.8621774\ttest: 0.7918497\tbest: 0.7930130 (2690)\ttotal: 6m 52s\tremaining: 4m 2s\n"
     ]
    },
    {
     "name": "stdout",
     "output_type": "stream",
     "text": [
      "3200:\tlearn: 0.8631629\ttest: 0.7915306\tbest: 0.7930130 (2690)\ttotal: 6m 59s\tremaining: 3m 55s\n"
     ]
    },
    {
     "name": "stdout",
     "output_type": "stream",
     "text": [
      "3250:\tlearn: 0.8640521\ttest: 0.7918102\tbest: 0.7930130 (2690)\ttotal: 7m 5s\tremaining: 3m 49s\n"
     ]
    },
    {
     "name": "stdout",
     "output_type": "stream",
     "text": [
      "3300:\tlearn: 0.8650798\ttest: 0.7917516\tbest: 0.7930130 (2690)\ttotal: 7m 12s\tremaining: 3m 42s\n"
     ]
    },
    {
     "name": "stdout",
     "output_type": "stream",
     "text": [
      "3350:\tlearn: 0.8657900\ttest: 0.7917341\tbest: 0.7930130 (2690)\ttotal: 7m 18s\tremaining: 3m 35s\n"
     ]
    },
    {
     "name": "stdout",
     "output_type": "stream",
     "text": [
      "3400:\tlearn: 0.8667219\ttest: 0.7918965\tbest: 0.7930130 (2690)\ttotal: 7m 25s\tremaining: 3m 29s\n"
     ]
    },
    {
     "name": "stdout",
     "output_type": "stream",
     "text": [
      "3450:\tlearn: 0.8676113\ttest: 0.7919680\tbest: 0.7930130 (2690)\ttotal: 7m 32s\tremaining: 3m 22s\n"
     ]
    },
    {
     "name": "stdout",
     "output_type": "stream",
     "text": [
      "3500:\tlearn: 0.8684774\ttest: 0.7920594\tbest: 0.7930130 (2690)\ttotal: 7m 38s\tremaining: 3m 16s\n"
     ]
    },
    {
     "name": "stdout",
     "output_type": "stream",
     "text": [
      "3550:\tlearn: 0.8691241\ttest: 0.7922348\tbest: 0.7930130 (2690)\ttotal: 7m 45s\tremaining: 3m 9s\n"
     ]
    },
    {
     "name": "stdout",
     "output_type": "stream",
     "text": [
      "3600:\tlearn: 0.8701440\ttest: 0.7920257\tbest: 0.7930130 (2690)\ttotal: 7m 51s\tremaining: 3m 3s\n"
     ]
    },
    {
     "name": "stdout",
     "output_type": "stream",
     "text": [
      "3650:\tlearn: 0.8711023\ttest: 0.7922433\tbest: 0.7930130 (2690)\ttotal: 7m 58s\tremaining: 2m 56s\n"
     ]
    },
    {
     "name": "stdout",
     "output_type": "stream",
     "text": [
      "3700:\tlearn: 0.8720050\ttest: 0.7917485\tbest: 0.7930130 (2690)\ttotal: 8m 4s\tremaining: 2m 50s\n"
     ]
    },
    {
     "name": "stdout",
     "output_type": "stream",
     "text": [
      "3750:\tlearn: 0.8726965\ttest: 0.7919861\tbest: 0.7930130 (2690)\ttotal: 8m 11s\tremaining: 2m 43s\n"
     ]
    },
    {
     "name": "stdout",
     "output_type": "stream",
     "text": [
      "3800:\tlearn: 0.8735906\ttest: 0.7921225\tbest: 0.7930130 (2690)\ttotal: 8m 17s\tremaining: 2m 37s\n"
     ]
    },
    {
     "name": "stdout",
     "output_type": "stream",
     "text": [
      "3850:\tlearn: 0.8744093\ttest: 0.7921950\tbest: 0.7930130 (2690)\ttotal: 8m 24s\tremaining: 2m 30s\n"
     ]
    },
    {
     "name": "stdout",
     "output_type": "stream",
     "text": [
      "3900:\tlearn: 0.8751656\ttest: 0.7922792\tbest: 0.7930130 (2690)\ttotal: 8m 30s\tremaining: 2m 23s\n"
     ]
    },
    {
     "name": "stdout",
     "output_type": "stream",
     "text": [
      "3950:\tlearn: 0.8760706\ttest: 0.7923969\tbest: 0.7930130 (2690)\ttotal: 8m 37s\tremaining: 2m 17s\n"
     ]
    },
    {
     "name": "stdout",
     "output_type": "stream",
     "text": [
      "4000:\tlearn: 0.8769489\ttest: 0.7924767\tbest: 0.7930130 (2690)\ttotal: 8m 43s\tremaining: 2m 10s\n"
     ]
    },
    {
     "name": "stdout",
     "output_type": "stream",
     "text": [
      "4050:\tlearn: 0.8779202\ttest: 0.7921834\tbest: 0.7930130 (2690)\ttotal: 8m 50s\tremaining: 2m 4s\n"
     ]
    },
    {
     "name": "stdout",
     "output_type": "stream",
     "text": [
      "4100:\tlearn: 0.8787136\ttest: 0.7923521\tbest: 0.7930130 (2690)\ttotal: 8m 56s\tremaining: 1m 57s\n"
     ]
    },
    {
     "name": "stdout",
     "output_type": "stream",
     "text": [
      "4150:\tlearn: 0.8794446\ttest: 0.7922886\tbest: 0.7930130 (2690)\ttotal: 9m 3s\tremaining: 1m 51s\n"
     ]
    },
    {
     "name": "stdout",
     "output_type": "stream",
     "text": [
      "4200:\tlearn: 0.8803909\ttest: 0.7925950\tbest: 0.7930130 (2690)\ttotal: 9m 9s\tremaining: 1m 44s\n"
     ]
    },
    {
     "name": "stdout",
     "output_type": "stream",
     "text": [
      "4250:\tlearn: 0.8812610\ttest: 0.7925915\tbest: 0.7930130 (2690)\ttotal: 9m 16s\tremaining: 1m 38s\n"
     ]
    },
    {
     "name": "stdout",
     "output_type": "stream",
     "text": [
      "4300:\tlearn: 0.8818363\ttest: 0.7924847\tbest: 0.7930130 (2690)\ttotal: 9m 22s\tremaining: 1m 31s\n"
     ]
    },
    {
     "name": "stdout",
     "output_type": "stream",
     "text": [
      "4350:\tlearn: 0.8826079\ttest: 0.7929058\tbest: 0.7931394 (4332)\ttotal: 9m 29s\tremaining: 1m 24s\n"
     ]
    },
    {
     "name": "stdout",
     "output_type": "stream",
     "text": [
      "4400:\tlearn: 0.8834479\ttest: 0.7926998\tbest: 0.7931394 (4332)\ttotal: 9m 35s\tremaining: 1m 18s\n"
     ]
    },
    {
     "name": "stdout",
     "output_type": "stream",
     "text": [
      "4450:\tlearn: 0.8842951\ttest: 0.7929115\tbest: 0.7931394 (4332)\ttotal: 9m 42s\tremaining: 1m 11s\n"
     ]
    },
    {
     "name": "stdout",
     "output_type": "stream",
     "text": [
      "4500:\tlearn: 0.8850662\ttest: 0.7925415\tbest: 0.7931394 (4332)\ttotal: 9m 48s\tremaining: 1m 5s\n"
     ]
    },
    {
     "name": "stdout",
     "output_type": "stream",
     "text": [
      "4550:\tlearn: 0.8859151\ttest: 0.7925274\tbest: 0.7931394 (4332)\ttotal: 9m 55s\tremaining: 58.7s\n"
     ]
    },
    {
     "name": "stdout",
     "output_type": "stream",
     "text": [
      "4600:\tlearn: 0.8866503\ttest: 0.7920220\tbest: 0.7931394 (4332)\ttotal: 10m 1s\tremaining: 52.2s\n"
     ]
    },
    {
     "name": "stdout",
     "output_type": "stream",
     "text": [
      "4650:\tlearn: 0.8874697\ttest: 0.7925545\tbest: 0.7931394 (4332)\ttotal: 10m 8s\tremaining: 45.6s\n"
     ]
    },
    {
     "name": "stdout",
     "output_type": "stream",
     "text": [
      "4700:\tlearn: 0.8881284\ttest: 0.7922528\tbest: 0.7931394 (4332)\ttotal: 10m 14s\tremaining: 39.1s\n"
     ]
    },
    {
     "name": "stdout",
     "output_type": "stream",
     "text": [
      "4750:\tlearn: 0.8887397\ttest: 0.7923181\tbest: 0.7931394 (4332)\ttotal: 10m 21s\tremaining: 32.6s\n"
     ]
    },
    {
     "name": "stdout",
     "output_type": "stream",
     "text": [
      "4800:\tlearn: 0.8894482\ttest: 0.7924497\tbest: 0.7931394 (4332)\ttotal: 10m 27s\tremaining: 26s\n"
     ]
    },
    {
     "name": "stdout",
     "output_type": "stream",
     "text": [
      "4850:\tlearn: 0.8901769\ttest: 0.7927211\tbest: 0.7931394 (4332)\ttotal: 10m 34s\tremaining: 19.5s\n"
     ]
    },
    {
     "name": "stdout",
     "output_type": "stream",
     "text": [
      "4900:\tlearn: 0.8911785\ttest: 0.7924324\tbest: 0.7931394 (4332)\ttotal: 10m 41s\tremaining: 12.9s\n"
     ]
    },
    {
     "name": "stdout",
     "output_type": "stream",
     "text": [
      "4950:\tlearn: 0.8919177\ttest: 0.7923337\tbest: 0.7931394 (4332)\ttotal: 10m 47s\tremaining: 6.41s\n"
     ]
    },
    {
     "name": "stdout",
     "output_type": "stream",
     "text": [
      "4999:\tlearn: 0.8925873\ttest: 0.7923706\tbest: 0.7931394 (4332)\ttotal: 10m 53s\tremaining: 0us\n",
      "\n",
      "bestTest = 0.7931394483\n",
      "bestIteration = 4332\n",
      "\n"
     ]
    },
    {
     "name": "stdout",
     "output_type": "stream",
     "text": [
      "######################################## training model 4/5 ########################################\n",
      "seed: 8\n"
     ]
    },
    {
     "name": "stdout",
     "output_type": "stream",
     "text": [
      "0:\tlearn: 0.6255868\ttest: 0.6281321\tbest: 0.6281321 (0)\ttotal: 473ms\tremaining: 39m 22s\n"
     ]
    },
    {
     "name": "stdout",
     "output_type": "stream",
     "text": [
      "50:\tlearn: 0.7415524\ttest: 0.7450377\tbest: 0.7451511 (49)\ttotal: 7.04s\tremaining: 11m 23s\n"
     ]
    },
    {
     "name": "stdout",
     "output_type": "stream",
     "text": [
      "100:\tlearn: 0.7561336\ttest: 0.7567586\tbest: 0.7567586 (100)\ttotal: 13.7s\tremaining: 11m 2s\n"
     ]
    },
    {
     "name": "stdout",
     "output_type": "stream",
     "text": [
      "150:\tlearn: 0.7629861\ttest: 0.7626228\tbest: 0.7628100 (149)\ttotal: 20.2s\tremaining: 10m 49s\n"
     ]
    },
    {
     "name": "stdout",
     "output_type": "stream",
     "text": [
      "200:\tlearn: 0.7685356\ttest: 0.7682054\tbest: 0.7682054 (200)\ttotal: 26.8s\tremaining: 10m 41s\n"
     ]
    },
    {
     "name": "stdout",
     "output_type": "stream",
     "text": [
      "250:\tlearn: 0.7722505\ttest: 0.7710961\tbest: 0.7710961 (250)\ttotal: 33.4s\tremaining: 10m 32s\n"
     ]
    },
    {
     "name": "stdout",
     "output_type": "stream",
     "text": [
      "300:\tlearn: 0.7770871\ttest: 0.7749962\tbest: 0.7752420 (299)\ttotal: 40s\tremaining: 10m 23s\n"
     ]
    },
    {
     "name": "stdout",
     "output_type": "stream",
     "text": [
      "350:\tlearn: 0.7833362\ttest: 0.7815155\tbest: 0.7816437 (349)\ttotal: 46.6s\tremaining: 10m 16s\n"
     ]
    },
    {
     "name": "stdout",
     "output_type": "stream",
     "text": [
      "400:\tlearn: 0.7882437\ttest: 0.7858642\tbest: 0.7858739 (399)\ttotal: 53.1s\tremaining: 10m 9s\n"
     ]
    },
    {
     "name": "stdout",
     "output_type": "stream",
     "text": [
      "450:\tlearn: 0.7917215\ttest: 0.7867824\tbest: 0.7869093 (444)\ttotal: 59.8s\tremaining: 10m 2s\n"
     ]
    },
    {
     "name": "stdout",
     "output_type": "stream",
     "text": [
      "500:\tlearn: 0.7944650\ttest: 0.7885453\tbest: 0.7885575 (490)\ttotal: 1m 6s\tremaining: 9m 55s\n"
     ]
    },
    {
     "name": "stdout",
     "output_type": "stream",
     "text": [
      "550:\tlearn: 0.7972055\ttest: 0.7894779\tbest: 0.7897088 (536)\ttotal: 1m 12s\tremaining: 9m 48s\n"
     ]
    },
    {
     "name": "stdout",
     "output_type": "stream",
     "text": [
      "600:\tlearn: 0.7991812\ttest: 0.7903887\tbest: 0.7906484 (590)\ttotal: 1m 19s\tremaining: 9m 41s\n"
     ]
    },
    {
     "name": "stdout",
     "output_type": "stream",
     "text": [
      "650:\tlearn: 0.8017131\ttest: 0.7919201\tbest: 0.7919201 (650)\ttotal: 1m 26s\tremaining: 9m 35s\n"
     ]
    },
    {
     "name": "stdout",
     "output_type": "stream",
     "text": [
      "700:\tlearn: 0.8033296\ttest: 0.7919704\tbest: 0.7924640 (684)\ttotal: 1m 32s\tremaining: 9m 27s\n"
     ]
    },
    {
     "name": "stdout",
     "output_type": "stream",
     "text": [
      "750:\tlearn: 0.8050659\ttest: 0.7930645\tbest: 0.7930906 (743)\ttotal: 1m 39s\tremaining: 9m 20s\n"
     ]
    },
    {
     "name": "stdout",
     "output_type": "stream",
     "text": [
      "800:\tlearn: 0.8070108\ttest: 0.7932991\tbest: 0.7934808 (794)\ttotal: 1m 45s\tremaining: 9m 13s\n"
     ]
    },
    {
     "name": "stdout",
     "output_type": "stream",
     "text": [
      "850:\tlearn: 0.8086593\ttest: 0.7937736\tbest: 0.7938079 (832)\ttotal: 1m 52s\tremaining: 9m 6s\n"
     ]
    },
    {
     "name": "stdout",
     "output_type": "stream",
     "text": [
      "900:\tlearn: 0.8100651\ttest: 0.7934415\tbest: 0.7940373 (891)\ttotal: 1m 58s\tremaining: 9m\n"
     ]
    },
    {
     "name": "stdout",
     "output_type": "stream",
     "text": [
      "950:\tlearn: 0.8114990\ttest: 0.7940890\tbest: 0.7940890 (950)\ttotal: 2m 5s\tremaining: 8m 54s\n"
     ]
    },
    {
     "name": "stdout",
     "output_type": "stream",
     "text": [
      "1000:\tlearn: 0.8130016\ttest: 0.7942574\tbest: 0.7943207 (998)\ttotal: 2m 11s\tremaining: 8m 47s\n"
     ]
    },
    {
     "name": "stdout",
     "output_type": "stream",
     "text": [
      "1050:\tlearn: 0.8145179\ttest: 0.7949071\tbest: 0.7951171 (1049)\ttotal: 2m 18s\tremaining: 8m 40s\n"
     ]
    },
    {
     "name": "stdout",
     "output_type": "stream",
     "text": [
      "1100:\tlearn: 0.8159947\ttest: 0.7948888\tbest: 0.7953632 (1080)\ttotal: 2m 25s\tremaining: 8m 33s\n"
     ]
    },
    {
     "name": "stdout",
     "output_type": "stream",
     "text": [
      "1150:\tlearn: 0.8171867\ttest: 0.7951317\tbest: 0.7956950 (1129)\ttotal: 2m 31s\tremaining: 8m 27s\n"
     ]
    },
    {
     "name": "stdout",
     "output_type": "stream",
     "text": [
      "1200:\tlearn: 0.8181295\ttest: 0.7953155\tbest: 0.7956950 (1129)\ttotal: 2m 38s\tremaining: 8m 20s\n"
     ]
    },
    {
     "name": "stdout",
     "output_type": "stream",
     "text": [
      "1250:\tlearn: 0.8199369\ttest: 0.7952853\tbest: 0.7956950 (1129)\ttotal: 2m 44s\tremaining: 8m 14s\n"
     ]
    },
    {
     "name": "stdout",
     "output_type": "stream",
     "text": [
      "1300:\tlearn: 0.8213147\ttest: 0.7956670\tbest: 0.7958216 (1262)\ttotal: 2m 51s\tremaining: 8m 7s\n"
     ]
    },
    {
     "name": "stdout",
     "output_type": "stream",
     "text": [
      "1350:\tlearn: 0.8227012\ttest: 0.7954439\tbest: 0.7958216 (1262)\ttotal: 2m 58s\tremaining: 8m 1s\n"
     ]
    },
    {
     "name": "stdout",
     "output_type": "stream",
     "text": [
      "1400:\tlearn: 0.8237563\ttest: 0.7954359\tbest: 0.7958216 (1262)\ttotal: 3m 4s\tremaining: 7m 54s\n"
     ]
    },
    {
     "name": "stdout",
     "output_type": "stream",
     "text": [
      "1450:\tlearn: 0.8249717\ttest: 0.7961619\tbest: 0.7962231 (1448)\ttotal: 3m 11s\tremaining: 7m 47s\n"
     ]
    },
    {
     "name": "stdout",
     "output_type": "stream",
     "text": [
      "1500:\tlearn: 0.8262157\ttest: 0.7961038\tbest: 0.7962231 (1448)\ttotal: 3m 17s\tremaining: 7m 41s\n"
     ]
    },
    {
     "name": "stdout",
     "output_type": "stream",
     "text": [
      "1550:\tlearn: 0.8275446\ttest: 0.7963390\tbest: 0.7964820 (1543)\ttotal: 3m 24s\tremaining: 7m 34s\n"
     ]
    },
    {
     "name": "stdout",
     "output_type": "stream",
     "text": [
      "1600:\tlearn: 0.8287900\ttest: 0.7965400\tbest: 0.7965400 (1600)\ttotal: 3m 31s\tremaining: 7m 28s\n"
     ]
    },
    {
     "name": "stdout",
     "output_type": "stream",
     "text": [
      "1650:\tlearn: 0.8301442\ttest: 0.7963745\tbest: 0.7968411 (1610)\ttotal: 3m 37s\tremaining: 7m 21s\n"
     ]
    },
    {
     "name": "stdout",
     "output_type": "stream",
     "text": [
      "1700:\tlearn: 0.8311197\ttest: 0.7970184\tbest: 0.7970599 (1699)\ttotal: 3m 44s\tremaining: 7m 14s\n"
     ]
    },
    {
     "name": "stdout",
     "output_type": "stream",
     "text": [
      "1750:\tlearn: 0.8326480\ttest: 0.7972746\tbest: 0.7972746 (1750)\ttotal: 3m 50s\tremaining: 7m 8s\n"
     ]
    },
    {
     "name": "stdout",
     "output_type": "stream",
     "text": [
      "1800:\tlearn: 0.8336617\ttest: 0.7968812\tbest: 0.7973804 (1752)\ttotal: 3m 57s\tremaining: 7m 1s\n"
     ]
    },
    {
     "name": "stdout",
     "output_type": "stream",
     "text": [
      "1850:\tlearn: 0.8346944\ttest: 0.7967282\tbest: 0.7973804 (1752)\ttotal: 4m 4s\tremaining: 6m 55s\n"
     ]
    },
    {
     "name": "stdout",
     "output_type": "stream",
     "text": [
      "1900:\tlearn: 0.8361719\ttest: 0.7968256\tbest: 0.7973804 (1752)\ttotal: 4m 10s\tremaining: 6m 48s\n"
     ]
    },
    {
     "name": "stdout",
     "output_type": "stream",
     "text": [
      "1950:\tlearn: 0.8371974\ttest: 0.7974935\tbest: 0.7974935 (1950)\ttotal: 4m 17s\tremaining: 6m 42s\n"
     ]
    },
    {
     "name": "stdout",
     "output_type": "stream",
     "text": [
      "2000:\tlearn: 0.8381421\ttest: 0.7975596\tbest: 0.7976639 (1993)\ttotal: 4m 23s\tremaining: 6m 35s\n"
     ]
    },
    {
     "name": "stdout",
     "output_type": "stream",
     "text": [
      "2050:\tlearn: 0.8393094\ttest: 0.7976938\tbest: 0.7979047 (2043)\ttotal: 4m 30s\tremaining: 6m 29s\n"
     ]
    },
    {
     "name": "stdout",
     "output_type": "stream",
     "text": [
      "2100:\tlearn: 0.8409264\ttest: 0.7977867\tbest: 0.7979097 (2059)\ttotal: 4m 37s\tremaining: 6m 22s\n"
     ]
    },
    {
     "name": "stdout",
     "output_type": "stream",
     "text": [
      "2150:\tlearn: 0.8418196\ttest: 0.7976949\tbest: 0.7979097 (2059)\ttotal: 4m 43s\tremaining: 6m 16s\n"
     ]
    },
    {
     "name": "stdout",
     "output_type": "stream",
     "text": [
      "2200:\tlearn: 0.8429533\ttest: 0.7976338\tbest: 0.7979284 (2152)\ttotal: 4m 50s\tremaining: 6m 9s\n"
     ]
    },
    {
     "name": "stdout",
     "output_type": "stream",
     "text": [
      "2250:\tlearn: 0.8440649\ttest: 0.7974896\tbest: 0.7979904 (2235)\ttotal: 4m 57s\tremaining: 6m 2s\n"
     ]
    },
    {
     "name": "stdout",
     "output_type": "stream",
     "text": [
      "2300:\tlearn: 0.8448633\ttest: 0.7974815\tbest: 0.7979904 (2235)\ttotal: 5m 3s\tremaining: 5m 56s\n"
     ]
    },
    {
     "name": "stdout",
     "output_type": "stream",
     "text": [
      "2350:\tlearn: 0.8460399\ttest: 0.7975419\tbest: 0.7979904 (2235)\ttotal: 5m 10s\tremaining: 5m 49s\n"
     ]
    },
    {
     "name": "stdout",
     "output_type": "stream",
     "text": [
      "2400:\tlearn: 0.8469729\ttest: 0.7973923\tbest: 0.7979904 (2235)\ttotal: 5m 17s\tremaining: 5m 43s\n"
     ]
    },
    {
     "name": "stdout",
     "output_type": "stream",
     "text": [
      "2450:\tlearn: 0.8480913\ttest: 0.7976815\tbest: 0.7979904 (2235)\ttotal: 5m 23s\tremaining: 5m 36s\n"
     ]
    },
    {
     "name": "stdout",
     "output_type": "stream",
     "text": [
      "2500:\tlearn: 0.8492318\ttest: 0.7975909\tbest: 0.7979904 (2235)\ttotal: 5m 30s\tremaining: 5m 30s\n"
     ]
    },
    {
     "name": "stdout",
     "output_type": "stream",
     "text": [
      "2550:\tlearn: 0.8499602\ttest: 0.7969301\tbest: 0.7979904 (2235)\ttotal: 5m 36s\tremaining: 5m 23s\n"
     ]
    },
    {
     "name": "stdout",
     "output_type": "stream",
     "text": [
      "2600:\tlearn: 0.8510701\ttest: 0.7971441\tbest: 0.7979904 (2235)\ttotal: 5m 43s\tremaining: 5m 16s\n"
     ]
    },
    {
     "name": "stdout",
     "output_type": "stream",
     "text": [
      "2650:\tlearn: 0.8522293\ttest: 0.7971799\tbest: 0.7979904 (2235)\ttotal: 5m 50s\tremaining: 5m 10s\n"
     ]
    },
    {
     "name": "stdout",
     "output_type": "stream",
     "text": [
      "2700:\tlearn: 0.8529081\ttest: 0.7971416\tbest: 0.7979904 (2235)\ttotal: 5m 56s\tremaining: 5m 3s\n"
     ]
    },
    {
     "name": "stdout",
     "output_type": "stream",
     "text": [
      "2750:\tlearn: 0.8539772\ttest: 0.7969844\tbest: 0.7979904 (2235)\ttotal: 6m 3s\tremaining: 4m 56s\n"
     ]
    },
    {
     "name": "stdout",
     "output_type": "stream",
     "text": [
      "2800:\tlearn: 0.8546619\ttest: 0.7974625\tbest: 0.7979904 (2235)\ttotal: 6m 9s\tremaining: 4m 50s\n"
     ]
    },
    {
     "name": "stdout",
     "output_type": "stream",
     "text": [
      "2850:\tlearn: 0.8557726\ttest: 0.7977127\tbest: 0.7979904 (2235)\ttotal: 6m 16s\tremaining: 4m 43s\n"
     ]
    },
    {
     "name": "stdout",
     "output_type": "stream",
     "text": [
      "2900:\tlearn: 0.8569440\ttest: 0.7981885\tbest: 0.7982603 (2855)\ttotal: 6m 22s\tremaining: 4m 37s\n"
     ]
    },
    {
     "name": "stdout",
     "output_type": "stream",
     "text": [
      "2950:\tlearn: 0.8578505\ttest: 0.7978363\tbest: 0.7985306 (2912)\ttotal: 6m 29s\tremaining: 4m 30s\n"
     ]
    },
    {
     "name": "stdout",
     "output_type": "stream",
     "text": [
      "3000:\tlearn: 0.8588141\ttest: 0.7981809\tbest: 0.7985306 (2912)\ttotal: 6m 36s\tremaining: 4m 23s\n"
     ]
    },
    {
     "name": "stdout",
     "output_type": "stream",
     "text": [
      "3050:\tlearn: 0.8599476\ttest: 0.7973611\tbest: 0.7985306 (2912)\ttotal: 6m 42s\tremaining: 4m 17s\n"
     ]
    },
    {
     "name": "stdout",
     "output_type": "stream",
     "text": [
      "3100:\tlearn: 0.8609561\ttest: 0.7974877\tbest: 0.7985306 (2912)\ttotal: 6m 49s\tremaining: 4m 10s\n"
     ]
    },
    {
     "name": "stdout",
     "output_type": "stream",
     "text": [
      "3150:\tlearn: 0.8618186\ttest: 0.7973740\tbest: 0.7985306 (2912)\ttotal: 6m 55s\tremaining: 4m 3s\n"
     ]
    },
    {
     "name": "stdout",
     "output_type": "stream",
     "text": [
      "3200:\tlearn: 0.8627038\ttest: 0.7977001\tbest: 0.7985306 (2912)\ttotal: 7m 2s\tremaining: 3m 57s\n"
     ]
    },
    {
     "name": "stdout",
     "output_type": "stream",
     "text": [
      "3250:\tlearn: 0.8637915\ttest: 0.7976119\tbest: 0.7985306 (2912)\ttotal: 7m 8s\tremaining: 3m 50s\n"
     ]
    },
    {
     "name": "stdout",
     "output_type": "stream",
     "text": [
      "3300:\tlearn: 0.8646821\ttest: 0.7970864\tbest: 0.7985306 (2912)\ttotal: 7m 15s\tremaining: 3m 44s\n"
     ]
    },
    {
     "name": "stdout",
     "output_type": "stream",
     "text": [
      "3350:\tlearn: 0.8655978\ttest: 0.7978072\tbest: 0.7985306 (2912)\ttotal: 7m 21s\tremaining: 3m 37s\n"
     ]
    },
    {
     "name": "stdout",
     "output_type": "stream",
     "text": [
      "3400:\tlearn: 0.8664374\ttest: 0.7980256\tbest: 0.7985306 (2912)\ttotal: 7m 28s\tremaining: 3m 30s\n"
     ]
    },
    {
     "name": "stdout",
     "output_type": "stream",
     "text": [
      "3450:\tlearn: 0.8673520\ttest: 0.7975605\tbest: 0.7985306 (2912)\ttotal: 7m 35s\tremaining: 3m 24s\n"
     ]
    },
    {
     "name": "stdout",
     "output_type": "stream",
     "text": [
      "3500:\tlearn: 0.8681673\ttest: 0.7974487\tbest: 0.7985306 (2912)\ttotal: 7m 41s\tremaining: 3m 17s\n"
     ]
    },
    {
     "name": "stdout",
     "output_type": "stream",
     "text": [
      "3550:\tlearn: 0.8691526\ttest: 0.7974901\tbest: 0.7985306 (2912)\ttotal: 7m 48s\tremaining: 3m 11s\n"
     ]
    },
    {
     "name": "stdout",
     "output_type": "stream",
     "text": [
      "3600:\tlearn: 0.8700295\ttest: 0.7977732\tbest: 0.7985306 (2912)\ttotal: 7m 55s\tremaining: 3m 4s\n"
     ]
    },
    {
     "name": "stdout",
     "output_type": "stream",
     "text": [
      "3650:\tlearn: 0.8707713\ttest: 0.7980797\tbest: 0.7985306 (2912)\ttotal: 8m 1s\tremaining: 2m 57s\n"
     ]
    },
    {
     "name": "stdout",
     "output_type": "stream",
     "text": [
      "3700:\tlearn: 0.8717194\ttest: 0.7982277\tbest: 0.7985306 (2912)\ttotal: 8m 8s\tremaining: 2m 51s\n"
     ]
    },
    {
     "name": "stdout",
     "output_type": "stream",
     "text": [
      "3750:\tlearn: 0.8723809\ttest: 0.7977906\tbest: 0.7985306 (2912)\ttotal: 8m 14s\tremaining: 2m 44s\n"
     ]
    },
    {
     "name": "stdout",
     "output_type": "stream",
     "text": [
      "3800:\tlearn: 0.8734597\ttest: 0.7980239\tbest: 0.7985306 (2912)\ttotal: 8m 21s\tremaining: 2m 38s\n"
     ]
    },
    {
     "name": "stdout",
     "output_type": "stream",
     "text": [
      "3850:\tlearn: 0.8744077\ttest: 0.7980874\tbest: 0.7985306 (2912)\ttotal: 8m 27s\tremaining: 2m 31s\n"
     ]
    },
    {
     "name": "stdout",
     "output_type": "stream",
     "text": [
      "3900:\tlearn: 0.8750171\ttest: 0.7978087\tbest: 0.7985306 (2912)\ttotal: 8m 34s\tremaining: 2m 24s\n"
     ]
    },
    {
     "name": "stdout",
     "output_type": "stream",
     "text": [
      "3950:\tlearn: 0.8757905\ttest: 0.7980094\tbest: 0.7985306 (2912)\ttotal: 8m 41s\tremaining: 2m 18s\n"
     ]
    },
    {
     "name": "stdout",
     "output_type": "stream",
     "text": [
      "4000:\tlearn: 0.8766036\ttest: 0.7977003\tbest: 0.7985306 (2912)\ttotal: 8m 47s\tremaining: 2m 11s\n"
     ]
    },
    {
     "name": "stdout",
     "output_type": "stream",
     "text": [
      "4050:\tlearn: 0.8775996\ttest: 0.7973430\tbest: 0.7985306 (2912)\ttotal: 8m 54s\tremaining: 2m 5s\n"
     ]
    },
    {
     "name": "stdout",
     "output_type": "stream",
     "text": [
      "4100:\tlearn: 0.8784423\ttest: 0.7975538\tbest: 0.7985306 (2912)\ttotal: 9m\tremaining: 1m 58s\n"
     ]
    },
    {
     "name": "stdout",
     "output_type": "stream",
     "text": [
      "4150:\tlearn: 0.8791780\ttest: 0.7978124\tbest: 0.7985306 (2912)\ttotal: 9m 7s\tremaining: 1m 51s\n"
     ]
    },
    {
     "name": "stdout",
     "output_type": "stream",
     "text": [
      "4200:\tlearn: 0.8801989\ttest: 0.7974093\tbest: 0.7985306 (2912)\ttotal: 9m 14s\tremaining: 1m 45s\n"
     ]
    },
    {
     "name": "stdout",
     "output_type": "stream",
     "text": [
      "4250:\tlearn: 0.8807433\ttest: 0.7974908\tbest: 0.7985306 (2912)\ttotal: 9m 20s\tremaining: 1m 38s\n"
     ]
    },
    {
     "name": "stdout",
     "output_type": "stream",
     "text": [
      "4300:\tlearn: 0.8815833\ttest: 0.7973434\tbest: 0.7985306 (2912)\ttotal: 9m 27s\tremaining: 1m 32s\n"
     ]
    },
    {
     "name": "stdout",
     "output_type": "stream",
     "text": [
      "4350:\tlearn: 0.8824871\ttest: 0.7978088\tbest: 0.7985306 (2912)\ttotal: 9m 33s\tremaining: 1m 25s\n"
     ]
    },
    {
     "name": "stdout",
     "output_type": "stream",
     "text": [
      "4400:\tlearn: 0.8833459\ttest: 0.7971774\tbest: 0.7985306 (2912)\ttotal: 9m 40s\tremaining: 1m 19s\n"
     ]
    },
    {
     "name": "stdout",
     "output_type": "stream",
     "text": [
      "4450:\tlearn: 0.8841002\ttest: 0.7973950\tbest: 0.7985306 (2912)\ttotal: 9m 47s\tremaining: 1m 12s\n"
     ]
    },
    {
     "name": "stdout",
     "output_type": "stream",
     "text": [
      "4500:\tlearn: 0.8850345\ttest: 0.7973457\tbest: 0.7985306 (2912)\ttotal: 9m 53s\tremaining: 1m 5s\n"
     ]
    },
    {
     "name": "stdout",
     "output_type": "stream",
     "text": [
      "4550:\tlearn: 0.8858126\ttest: 0.7973674\tbest: 0.7985306 (2912)\ttotal: 10m\tremaining: 59.2s\n"
     ]
    },
    {
     "name": "stdout",
     "output_type": "stream",
     "text": [
      "4600:\tlearn: 0.8865149\ttest: 0.7969065\tbest: 0.7985306 (2912)\ttotal: 10m 7s\tremaining: 52.6s\n"
     ]
    },
    {
     "name": "stdout",
     "output_type": "stream",
     "text": [
      "4650:\tlearn: 0.8873017\ttest: 0.7971229\tbest: 0.7985306 (2912)\ttotal: 10m 13s\tremaining: 46s\n"
     ]
    },
    {
     "name": "stdout",
     "output_type": "stream",
     "text": [
      "4700:\tlearn: 0.8881483\ttest: 0.7974191\tbest: 0.7985306 (2912)\ttotal: 10m 20s\tremaining: 39.4s\n"
     ]
    },
    {
     "name": "stdout",
     "output_type": "stream",
     "text": [
      "4750:\tlearn: 0.8890374\ttest: 0.7975370\tbest: 0.7985306 (2912)\ttotal: 10m 26s\tremaining: 32.9s\n"
     ]
    },
    {
     "name": "stdout",
     "output_type": "stream",
     "text": [
      "4800:\tlearn: 0.8898911\ttest: 0.7975997\tbest: 0.7985306 (2912)\ttotal: 10m 33s\tremaining: 26.3s\n"
     ]
    },
    {
     "name": "stdout",
     "output_type": "stream",
     "text": [
      "4850:\tlearn: 0.8906642\ttest: 0.7977672\tbest: 0.7985306 (2912)\ttotal: 10m 40s\tremaining: 19.7s\n"
     ]
    },
    {
     "name": "stdout",
     "output_type": "stream",
     "text": [
      "4900:\tlearn: 0.8912891\ttest: 0.7971756\tbest: 0.7985306 (2912)\ttotal: 10m 46s\tremaining: 13.1s\n"
     ]
    },
    {
     "name": "stdout",
     "output_type": "stream",
     "text": [
      "4950:\tlearn: 0.8920357\ttest: 0.7974083\tbest: 0.7985306 (2912)\ttotal: 10m 53s\tremaining: 6.46s\n"
     ]
    },
    {
     "name": "stdout",
     "output_type": "stream",
     "text": [
      "4999:\tlearn: 0.8927374\ttest: 0.7973646\tbest: 0.7985306 (2912)\ttotal: 10m 59s\tremaining: 0us\n",
      "\n",
      "bestTest = 0.7985306303\n",
      "bestIteration = 2912\n",
      "\n"
     ]
    },
    {
     "name": "stdout",
     "output_type": "stream",
     "text": [
      "######################################## training model 5/5 ########################################\n",
      "seed: 9\n"
     ]
    },
    {
     "name": "stdout",
     "output_type": "stream",
     "text": [
      "0:\tlearn: 0.5022297\ttest: 0.5013216\tbest: 0.5013216 (0)\ttotal: 456ms\tremaining: 37m 59s\n"
     ]
    },
    {
     "name": "stdout",
     "output_type": "stream",
     "text": [
      "50:\tlearn: 0.7391662\ttest: 0.7407411\tbest: 0.7407411 (50)\ttotal: 6.89s\tremaining: 11m 8s\n"
     ]
    },
    {
     "name": "stdout",
     "output_type": "stream",
     "text": [
      "100:\tlearn: 0.7537139\ttest: 0.7547097\tbest: 0.7547097 (100)\ttotal: 13.4s\tremaining: 10m 49s\n"
     ]
    },
    {
     "name": "stdout",
     "output_type": "stream",
     "text": [
      "150:\tlearn: 0.7612286\ttest: 0.7627475\tbest: 0.7627475 (150)\ttotal: 19.9s\tremaining: 10m 39s\n"
     ]
    },
    {
     "name": "stdout",
     "output_type": "stream",
     "text": [
      "200:\tlearn: 0.7662810\ttest: 0.7672297\tbest: 0.7676234 (194)\ttotal: 26.5s\tremaining: 10m 32s\n"
     ]
    },
    {
     "name": "stdout",
     "output_type": "stream",
     "text": [
      "250:\tlearn: 0.7705226\ttest: 0.7710797\tbest: 0.7711737 (249)\ttotal: 33s\tremaining: 10m 25s\n"
     ]
    },
    {
     "name": "stdout",
     "output_type": "stream",
     "text": [
      "300:\tlearn: 0.7760953\ttest: 0.7751132\tbest: 0.7751132 (300)\ttotal: 39.6s\tremaining: 10m 17s\n"
     ]
    },
    {
     "name": "stdout",
     "output_type": "stream",
     "text": [
      "350:\tlearn: 0.7832301\ttest: 0.7809656\tbest: 0.7811337 (348)\ttotal: 46.1s\tremaining: 10m 10s\n"
     ]
    },
    {
     "name": "stdout",
     "output_type": "stream",
     "text": [
      "400:\tlearn: 0.7880760\ttest: 0.7852076\tbest: 0.7853581 (399)\ttotal: 52.7s\tremaining: 10m 4s\n"
     ]
    },
    {
     "name": "stdout",
     "output_type": "stream",
     "text": [
      "450:\tlearn: 0.7915424\ttest: 0.7867182\tbest: 0.7867276 (449)\ttotal: 59.3s\tremaining: 9m 57s\n"
     ]
    },
    {
     "name": "stdout",
     "output_type": "stream",
     "text": [
      "500:\tlearn: 0.7942043\ttest: 0.7879239\tbest: 0.7879239 (500)\ttotal: 1m 5s\tremaining: 9m 51s\n"
     ]
    },
    {
     "name": "stdout",
     "output_type": "stream",
     "text": [
      "550:\tlearn: 0.7962869\ttest: 0.7889163\tbest: 0.7890763 (548)\ttotal: 1m 12s\tremaining: 9m 44s\n"
     ]
    },
    {
     "name": "stdout",
     "output_type": "stream",
     "text": [
      "600:\tlearn: 0.7985785\ttest: 0.7897988\tbest: 0.7899021 (599)\ttotal: 1m 18s\tremaining: 9m 37s\n"
     ]
    },
    {
     "name": "stdout",
     "output_type": "stream",
     "text": [
      "650:\tlearn: 0.8007950\ttest: 0.7902336\tbest: 0.7904516 (647)\ttotal: 1m 25s\tremaining: 9m 31s\n"
     ]
    },
    {
     "name": "stdout",
     "output_type": "stream",
     "text": [
      "700:\tlearn: 0.8024697\ttest: 0.7913740\tbest: 0.7914928 (696)\ttotal: 1m 32s\tremaining: 9m 24s\n"
     ]
    },
    {
     "name": "stdout",
     "output_type": "stream",
     "text": [
      "750:\tlearn: 0.8043304\ttest: 0.7912817\tbest: 0.7918306 (708)\ttotal: 1m 38s\tremaining: 9m 17s\n"
     ]
    },
    {
     "name": "stdout",
     "output_type": "stream",
     "text": [
      "800:\tlearn: 0.8062028\ttest: 0.7926155\tbest: 0.7926155 (800)\ttotal: 1m 45s\tremaining: 9m 10s\n"
     ]
    },
    {
     "name": "stdout",
     "output_type": "stream",
     "text": [
      "850:\tlearn: 0.8080841\ttest: 0.7922138\tbest: 0.7929601 (805)\ttotal: 1m 51s\tremaining: 9m 4s\n"
     ]
    },
    {
     "name": "stdout",
     "output_type": "stream",
     "text": [
      "900:\tlearn: 0.8094367\ttest: 0.7930901\tbest: 0.7931524 (899)\ttotal: 1m 58s\tremaining: 8m 57s\n"
     ]
    },
    {
     "name": "stdout",
     "output_type": "stream",
     "text": [
      "950:\tlearn: 0.8110845\ttest: 0.7927206\tbest: 0.7935175 (923)\ttotal: 2m 4s\tremaining: 8m 51s\n"
     ]
    },
    {
     "name": "stdout",
     "output_type": "stream",
     "text": [
      "1000:\tlearn: 0.8125836\ttest: 0.7931408\tbest: 0.7935175 (923)\ttotal: 2m 11s\tremaining: 8m 44s\n"
     ]
    },
    {
     "name": "stdout",
     "output_type": "stream",
     "text": [
      "1050:\tlearn: 0.8139546\ttest: 0.7934725\tbest: 0.7935175 (923)\ttotal: 2m 17s\tremaining: 8m 38s\n"
     ]
    },
    {
     "name": "stdout",
     "output_type": "stream",
     "text": [
      "1100:\tlearn: 0.8154124\ttest: 0.7935426\tbest: 0.7936932 (1086)\ttotal: 2m 24s\tremaining: 8m 31s\n"
     ]
    },
    {
     "name": "stdout",
     "output_type": "stream",
     "text": [
      "1150:\tlearn: 0.8167294\ttest: 0.7937584\tbest: 0.7939955 (1135)\ttotal: 2m 31s\tremaining: 8m 25s\n"
     ]
    },
    {
     "name": "stdout",
     "output_type": "stream",
     "text": [
      "1200:\tlearn: 0.8182345\ttest: 0.7939655\tbest: 0.7943515 (1190)\ttotal: 2m 37s\tremaining: 8m 18s\n"
     ]
    },
    {
     "name": "stdout",
     "output_type": "stream",
     "text": [
      "1250:\tlearn: 0.8197071\ttest: 0.7945938\tbest: 0.7949239 (1244)\ttotal: 2m 44s\tremaining: 8m 12s\n"
     ]
    },
    {
     "name": "stdout",
     "output_type": "stream",
     "text": [
      "1300:\tlearn: 0.8209038\ttest: 0.7944855\tbest: 0.7949239 (1244)\ttotal: 2m 50s\tremaining: 8m 5s\n"
     ]
    },
    {
     "name": "stdout",
     "output_type": "stream",
     "text": [
      "1350:\tlearn: 0.8219811\ttest: 0.7944710\tbest: 0.7949239 (1244)\ttotal: 2m 57s\tremaining: 7m 59s\n"
     ]
    },
    {
     "name": "stdout",
     "output_type": "stream",
     "text": [
      "1400:\tlearn: 0.8233869\ttest: 0.7940233\tbest: 0.7949239 (1244)\ttotal: 3m 3s\tremaining: 7m 52s\n"
     ]
    },
    {
     "name": "stdout",
     "output_type": "stream",
     "text": [
      "1450:\tlearn: 0.8245633\ttest: 0.7949580\tbest: 0.7951180 (1433)\ttotal: 3m 10s\tremaining: 7m 46s\n"
     ]
    },
    {
     "name": "stdout",
     "output_type": "stream",
     "text": [
      "1500:\tlearn: 0.8256652\ttest: 0.7949889\tbest: 0.7951180 (1433)\ttotal: 3m 17s\tremaining: 7m 39s\n"
     ]
    },
    {
     "name": "stdout",
     "output_type": "stream",
     "text": [
      "1550:\tlearn: 0.8270817\ttest: 0.7951556\tbest: 0.7953700 (1526)\ttotal: 3m 23s\tremaining: 7m 32s\n"
     ]
    },
    {
     "name": "stdout",
     "output_type": "stream",
     "text": [
      "1600:\tlearn: 0.8283574\ttest: 0.7951779\tbest: 0.7955159 (1553)\ttotal: 3m 30s\tremaining: 7m 26s\n"
     ]
    },
    {
     "name": "stdout",
     "output_type": "stream",
     "text": [
      "1650:\tlearn: 0.8292023\ttest: 0.7948590\tbest: 0.7955159 (1553)\ttotal: 3m 36s\tremaining: 7m 19s\n"
     ]
    },
    {
     "name": "stdout",
     "output_type": "stream",
     "text": [
      "1700:\tlearn: 0.8305416\ttest: 0.7946512\tbest: 0.7955159 (1553)\ttotal: 3m 43s\tremaining: 7m 13s\n"
     ]
    },
    {
     "name": "stdout",
     "output_type": "stream",
     "text": [
      "1750:\tlearn: 0.8314396\ttest: 0.7947607\tbest: 0.7955159 (1553)\ttotal: 3m 49s\tremaining: 7m 6s\n"
     ]
    },
    {
     "name": "stdout",
     "output_type": "stream",
     "text": [
      "1800:\tlearn: 0.8322665\ttest: 0.7951946\tbest: 0.7955159 (1553)\ttotal: 3m 56s\tremaining: 7m\n"
     ]
    },
    {
     "name": "stdout",
     "output_type": "stream",
     "text": [
      "1850:\tlearn: 0.8335750\ttest: 0.7952002\tbest: 0.7955159 (1553)\ttotal: 4m 3s\tremaining: 6m 53s\n"
     ]
    },
    {
     "name": "stdout",
     "output_type": "stream",
     "text": [
      "1900:\tlearn: 0.8347699\ttest: 0.7949750\tbest: 0.7956213 (1883)\ttotal: 4m 9s\tremaining: 6m 47s\n"
     ]
    },
    {
     "name": "stdout",
     "output_type": "stream",
     "text": [
      "1950:\tlearn: 0.8358006\ttest: 0.7952434\tbest: 0.7956213 (1883)\ttotal: 4m 16s\tremaining: 6m 40s\n"
     ]
    },
    {
     "name": "stdout",
     "output_type": "stream",
     "text": [
      "2000:\tlearn: 0.8369347\ttest: 0.7953506\tbest: 0.7957489 (1995)\ttotal: 4m 22s\tremaining: 6m 33s\n"
     ]
    },
    {
     "name": "stdout",
     "output_type": "stream",
     "text": [
      "2050:\tlearn: 0.8383437\ttest: 0.7950794\tbest: 0.7957489 (1995)\ttotal: 4m 29s\tremaining: 6m 27s\n"
     ]
    },
    {
     "name": "stdout",
     "output_type": "stream",
     "text": [
      "2100:\tlearn: 0.8394348\ttest: 0.7952966\tbest: 0.7957489 (1995)\ttotal: 4m 35s\tremaining: 6m 20s\n"
     ]
    },
    {
     "name": "stdout",
     "output_type": "stream",
     "text": [
      "2150:\tlearn: 0.8403907\ttest: 0.7953023\tbest: 0.7957489 (1995)\ttotal: 4m 42s\tremaining: 6m 14s\n"
     ]
    },
    {
     "name": "stdout",
     "output_type": "stream",
     "text": [
      "2200:\tlearn: 0.8415996\ttest: 0.7953321\tbest: 0.7957489 (1995)\ttotal: 4m 48s\tremaining: 6m 7s\n"
     ]
    },
    {
     "name": "stdout",
     "output_type": "stream",
     "text": [
      "2250:\tlearn: 0.8425248\ttest: 0.7957677\tbest: 0.7958074 (2244)\ttotal: 4m 55s\tremaining: 6m\n"
     ]
    },
    {
     "name": "stdout",
     "output_type": "stream",
     "text": [
      "2300:\tlearn: 0.8435242\ttest: 0.7956957\tbest: 0.7958314 (2253)\ttotal: 5m 1s\tremaining: 5m 54s\n"
     ]
    },
    {
     "name": "stdout",
     "output_type": "stream",
     "text": [
      "2350:\tlearn: 0.8446155\ttest: 0.7956784\tbest: 0.7958314 (2253)\ttotal: 5m 8s\tremaining: 5m 47s\n"
     ]
    },
    {
     "name": "stdout",
     "output_type": "stream",
     "text": [
      "2400:\tlearn: 0.8457738\ttest: 0.7958797\tbest: 0.7959205 (2392)\ttotal: 5m 14s\tremaining: 5m 40s\n"
     ]
    },
    {
     "name": "stdout",
     "output_type": "stream",
     "text": [
      "2450:\tlearn: 0.8467228\ttest: 0.7957362\tbest: 0.7960271 (2422)\ttotal: 5m 21s\tremaining: 5m 34s\n"
     ]
    },
    {
     "name": "stdout",
     "output_type": "stream",
     "text": [
      "2500:\tlearn: 0.8478572\ttest: 0.7962045\tbest: 0.7963531 (2491)\ttotal: 5m 27s\tremaining: 5m 27s\n"
     ]
    },
    {
     "name": "stdout",
     "output_type": "stream",
     "text": [
      "2550:\tlearn: 0.8487591\ttest: 0.7956683\tbest: 0.7963531 (2491)\ttotal: 5m 34s\tremaining: 5m 20s\n"
     ]
    },
    {
     "name": "stdout",
     "output_type": "stream",
     "text": [
      "2600:\tlearn: 0.8499379\ttest: 0.7958535\tbest: 0.7963531 (2491)\ttotal: 5m 40s\tremaining: 5m 14s\n"
     ]
    },
    {
     "name": "stdout",
     "output_type": "stream",
     "text": [
      "2650:\tlearn: 0.8509942\ttest: 0.7959894\tbest: 0.7963531 (2491)\ttotal: 5m 47s\tremaining: 5m 7s\n"
     ]
    },
    {
     "name": "stdout",
     "output_type": "stream",
     "text": [
      "2700:\tlearn: 0.8521146\ttest: 0.7963087\tbest: 0.7963531 (2491)\ttotal: 5m 53s\tremaining: 5m 1s\n"
     ]
    },
    {
     "name": "stdout",
     "output_type": "stream",
     "text": [
      "2750:\tlearn: 0.8530257\ttest: 0.7962157\tbest: 0.7965266 (2726)\ttotal: 6m\tremaining: 4m 54s\n"
     ]
    },
    {
     "name": "stdout",
     "output_type": "stream",
     "text": [
      "2800:\tlearn: 0.8537980\ttest: 0.7968134\tbest: 0.7969977 (2790)\ttotal: 6m 6s\tremaining: 4m 47s\n"
     ]
    },
    {
     "name": "stdout",
     "output_type": "stream",
     "text": [
      "2850:\tlearn: 0.8546977\ttest: 0.7966509\tbest: 0.7969977 (2790)\ttotal: 6m 12s\tremaining: 4m 41s\n"
     ]
    },
    {
     "name": "stdout",
     "output_type": "stream",
     "text": [
      "2900:\tlearn: 0.8554560\ttest: 0.7969704\tbest: 0.7971765 (2888)\ttotal: 6m 19s\tremaining: 4m 34s\n"
     ]
    },
    {
     "name": "stdout",
     "output_type": "stream",
     "text": [
      "2950:\tlearn: 0.8566392\ttest: 0.7968216\tbest: 0.7971765 (2888)\ttotal: 6m 26s\tremaining: 4m 28s\n"
     ]
    },
    {
     "name": "stdout",
     "output_type": "stream",
     "text": [
      "3000:\tlearn: 0.8576409\ttest: 0.7970070\tbest: 0.7973141 (2978)\ttotal: 6m 32s\tremaining: 4m 21s\n"
     ]
    },
    {
     "name": "stdout",
     "output_type": "stream",
     "text": [
      "3050:\tlearn: 0.8583328\ttest: 0.7972071\tbest: 0.7973141 (2978)\ttotal: 6m 39s\tremaining: 4m 14s\n"
     ]
    },
    {
     "name": "stdout",
     "output_type": "stream",
     "text": [
      "3100:\tlearn: 0.8591292\ttest: 0.7972190\tbest: 0.7974250 (3087)\ttotal: 6m 45s\tremaining: 4m 8s\n"
     ]
    },
    {
     "name": "stdout",
     "output_type": "stream",
     "text": [
      "3150:\tlearn: 0.8602302\ttest: 0.7971898\tbest: 0.7974250 (3087)\ttotal: 6m 52s\tremaining: 4m 1s\n"
     ]
    },
    {
     "name": "stdout",
     "output_type": "stream",
     "text": [
      "3200:\tlearn: 0.8613902\ttest: 0.7975648\tbest: 0.7976588 (3186)\ttotal: 6m 58s\tremaining: 3m 55s\n"
     ]
    },
    {
     "name": "stdout",
     "output_type": "stream",
     "text": [
      "3250:\tlearn: 0.8623009\ttest: 0.7974050\tbest: 0.7976588 (3186)\ttotal: 7m 5s\tremaining: 3m 48s\n"
     ]
    },
    {
     "name": "stdout",
     "output_type": "stream",
     "text": [
      "3300:\tlearn: 0.8631458\ttest: 0.7974434\tbest: 0.7976588 (3186)\ttotal: 7m 11s\tremaining: 3m 42s\n"
     ]
    },
    {
     "name": "stdout",
     "output_type": "stream",
     "text": [
      "3350:\tlearn: 0.8640817\ttest: 0.7974733\tbest: 0.7976588 (3186)\ttotal: 7m 18s\tremaining: 3m 35s\n"
     ]
    },
    {
     "name": "stdout",
     "output_type": "stream",
     "text": [
      "3400:\tlearn: 0.8648621\ttest: 0.7975603\tbest: 0.7977226 (3360)\ttotal: 7m 24s\tremaining: 3m 29s\n"
     ]
    },
    {
     "name": "stdout",
     "output_type": "stream",
     "text": [
      "3450:\tlearn: 0.8657272\ttest: 0.7972674\tbest: 0.7977226 (3360)\ttotal: 7m 31s\tremaining: 3m 22s\n"
     ]
    },
    {
     "name": "stdout",
     "output_type": "stream",
     "text": [
      "3500:\tlearn: 0.8664367\ttest: 0.7970052\tbest: 0.7977226 (3360)\ttotal: 7m 37s\tremaining: 3m 15s\n"
     ]
    },
    {
     "name": "stdout",
     "output_type": "stream",
     "text": [
      "3550:\tlearn: 0.8675127\ttest: 0.7969099\tbest: 0.7977226 (3360)\ttotal: 7m 43s\tremaining: 3m 9s\n"
     ]
    },
    {
     "name": "stdout",
     "output_type": "stream",
     "text": [
      "3600:\tlearn: 0.8682391\ttest: 0.7975888\tbest: 0.7977226 (3360)\ttotal: 7m 50s\tremaining: 3m 2s\n"
     ]
    },
    {
     "name": "stdout",
     "output_type": "stream",
     "text": [
      "3650:\tlearn: 0.8691660\ttest: 0.7979517\tbest: 0.7981837 (3632)\ttotal: 7m 57s\tremaining: 2m 56s\n"
     ]
    },
    {
     "name": "stdout",
     "output_type": "stream",
     "text": [
      "3700:\tlearn: 0.8698512\ttest: 0.7973958\tbest: 0.7981837 (3632)\ttotal: 8m 3s\tremaining: 2m 49s\n"
     ]
    },
    {
     "name": "stdout",
     "output_type": "stream",
     "text": [
      "3750:\tlearn: 0.8708233\ttest: 0.7975578\tbest: 0.7981837 (3632)\ttotal: 8m 10s\tremaining: 2m 43s\n"
     ]
    },
    {
     "name": "stdout",
     "output_type": "stream",
     "text": [
      "3800:\tlearn: 0.8716251\ttest: 0.7975291\tbest: 0.7981837 (3632)\ttotal: 8m 16s\tremaining: 2m 36s\n"
     ]
    },
    {
     "name": "stdout",
     "output_type": "stream",
     "text": [
      "3850:\tlearn: 0.8723728\ttest: 0.7974249\tbest: 0.7981837 (3632)\ttotal: 8m 23s\tremaining: 2m 30s\n"
     ]
    },
    {
     "name": "stdout",
     "output_type": "stream",
     "text": [
      "3900:\tlearn: 0.8732092\ttest: 0.7972750\tbest: 0.7981837 (3632)\ttotal: 8m 29s\tremaining: 2m 23s\n"
     ]
    },
    {
     "name": "stdout",
     "output_type": "stream",
     "text": [
      "3950:\tlearn: 0.8738347\ttest: 0.7972575\tbest: 0.7981837 (3632)\ttotal: 8m 36s\tremaining: 2m 17s\n"
     ]
    },
    {
     "name": "stdout",
     "output_type": "stream",
     "text": [
      "4000:\tlearn: 0.8746544\ttest: 0.7975222\tbest: 0.7981837 (3632)\ttotal: 8m 42s\tremaining: 2m 10s\n"
     ]
    },
    {
     "name": "stdout",
     "output_type": "stream",
     "text": [
      "4050:\tlearn: 0.8756579\ttest: 0.7976506\tbest: 0.7981837 (3632)\ttotal: 8m 49s\tremaining: 2m 3s\n"
     ]
    },
    {
     "name": "stdout",
     "output_type": "stream",
     "text": [
      "4100:\tlearn: 0.8765675\ttest: 0.7979731\tbest: 0.7981837 (3632)\ttotal: 8m 55s\tremaining: 1m 57s\n"
     ]
    },
    {
     "name": "stdout",
     "output_type": "stream",
     "text": [
      "4150:\tlearn: 0.8774445\ttest: 0.7978927\tbest: 0.7982083 (4108)\ttotal: 9m 2s\tremaining: 1m 50s\n"
     ]
    },
    {
     "name": "stdout",
     "output_type": "stream",
     "text": [
      "4200:\tlearn: 0.8783470\ttest: 0.7977481\tbest: 0.7982559 (4174)\ttotal: 9m 8s\tremaining: 1m 44s\n"
     ]
    },
    {
     "name": "stdout",
     "output_type": "stream",
     "text": [
      "4250:\tlearn: 0.8790188\ttest: 0.7976255\tbest: 0.7982559 (4174)\ttotal: 9m 15s\tremaining: 1m 37s\n"
     ]
    },
    {
     "name": "stdout",
     "output_type": "stream",
     "text": [
      "4300:\tlearn: 0.8799298\ttest: 0.7980133\tbest: 0.7982559 (4174)\ttotal: 9m 22s\tremaining: 1m 31s\n"
     ]
    },
    {
     "name": "stdout",
     "output_type": "stream",
     "text": [
      "4350:\tlearn: 0.8807077\ttest: 0.7984018\tbest: 0.7984660 (4346)\ttotal: 9m 28s\tremaining: 1m 24s\n"
     ]
    },
    {
     "name": "stdout",
     "output_type": "stream",
     "text": [
      "4400:\tlearn: 0.8814748\ttest: 0.7982142\tbest: 0.7984660 (4346)\ttotal: 9m 35s\tremaining: 1m 18s\n"
     ]
    },
    {
     "name": "stdout",
     "output_type": "stream",
     "text": [
      "4450:\tlearn: 0.8821685\ttest: 0.7980354\tbest: 0.7984660 (4346)\ttotal: 9m 41s\tremaining: 1m 11s\n"
     ]
    },
    {
     "name": "stdout",
     "output_type": "stream",
     "text": [
      "4500:\tlearn: 0.8830508\ttest: 0.7983186\tbest: 0.7984660 (4346)\ttotal: 9m 48s\tremaining: 1m 5s\n"
     ]
    },
    {
     "name": "stdout",
     "output_type": "stream",
     "text": [
      "4550:\tlearn: 0.8839408\ttest: 0.7980952\tbest: 0.7984660 (4346)\ttotal: 9m 54s\tremaining: 58.7s\n"
     ]
    },
    {
     "name": "stdout",
     "output_type": "stream",
     "text": [
      "4600:\tlearn: 0.8847718\ttest: 0.7980156\tbest: 0.7984660 (4346)\ttotal: 10m 1s\tremaining: 52.1s\n"
     ]
    },
    {
     "name": "stdout",
     "output_type": "stream",
     "text": [
      "4650:\tlearn: 0.8856097\ttest: 0.7978649\tbest: 0.7984660 (4346)\ttotal: 10m 7s\tremaining: 45.6s\n"
     ]
    },
    {
     "name": "stdout",
     "output_type": "stream",
     "text": [
      "4700:\tlearn: 0.8863631\ttest: 0.7977994\tbest: 0.7984660 (4346)\ttotal: 10m 13s\tremaining: 39s\n"
     ]
    },
    {
     "name": "stdout",
     "output_type": "stream",
     "text": [
      "4750:\tlearn: 0.8869755\ttest: 0.7976289\tbest: 0.7984660 (4346)\ttotal: 10m 20s\tremaining: 32.5s\n"
     ]
    },
    {
     "name": "stdout",
     "output_type": "stream",
     "text": [
      "4800:\tlearn: 0.8877804\ttest: 0.7977926\tbest: 0.7984660 (4346)\ttotal: 10m 26s\tremaining: 26s\n"
     ]
    },
    {
     "name": "stdout",
     "output_type": "stream",
     "text": [
      "4850:\tlearn: 0.8886579\ttest: 0.7978242\tbest: 0.7984660 (4346)\ttotal: 10m 33s\tremaining: 19.5s\n"
     ]
    },
    {
     "name": "stdout",
     "output_type": "stream",
     "text": [
      "4900:\tlearn: 0.8893394\ttest: 0.7978466\tbest: 0.7984660 (4346)\ttotal: 10m 39s\tremaining: 12.9s\n"
     ]
    },
    {
     "name": "stdout",
     "output_type": "stream",
     "text": [
      "4950:\tlearn: 0.8901807\ttest: 0.7980346\tbest: 0.7984660 (4346)\ttotal: 10m 46s\tremaining: 6.4s\n"
     ]
    },
    {
     "name": "stdout",
     "output_type": "stream",
     "text": [
      "4999:\tlearn: 0.8910009\ttest: 0.7980531\tbest: 0.7984660 (4346)\ttotal: 10m 52s\tremaining: 0us\n",
      "\n",
      "bestTest = 0.7984659611\n",
      "bestIteration = 4346\n",
      "\n"
     ]
    },
    {
     "name": "stdout",
     "output_type": "stream",
     "text": [
      "Training time: 55.143404471874234 min.\n",
      "OOF recall_at4: 0.6680580334601273\n",
      "OOF normalized_gini: 0.9248349486423197\n",
      "OOF competition metric: 0.7964464910512234\n"
     ]
    },
    {
     "name": "stdout",
     "output_type": "stream",
     "text": [
      "############################### repeated cross-validation step: 3/5 ################################\n"
     ]
    },
    {
     "name": "stdout",
     "output_type": "stream",
     "text": [
      "######################################## training model 1/5 ########################################\n",
      "seed: 10\n"
     ]
    },
    {
     "name": "stdout",
     "output_type": "stream",
     "text": [
      "0:\tlearn: 0.5416059\ttest: 0.5375871\tbest: 0.5375871 (0)\ttotal: 446ms\tremaining: 37m 11s\n"
     ]
    },
    {
     "name": "stdout",
     "output_type": "stream",
     "text": [
      "50:\tlearn: 0.7390505\ttest: 0.7355983\tbest: 0.7356839 (49)\ttotal: 6.83s\tremaining: 11m 2s\n"
     ]
    },
    {
     "name": "stdout",
     "output_type": "stream",
     "text": [
      "100:\tlearn: 0.7558187\ttest: 0.7529130\tbest: 0.7529130 (100)\ttotal: 13.3s\tremaining: 10m 47s\n"
     ]
    },
    {
     "name": "stdout",
     "output_type": "stream",
     "text": [
      "150:\tlearn: 0.7630398\ttest: 0.7597126\tbest: 0.7598197 (148)\ttotal: 19.9s\tremaining: 10m 37s\n"
     ]
    },
    {
     "name": "stdout",
     "output_type": "stream",
     "text": [
      "200:\tlearn: 0.7676057\ttest: 0.7638177\tbest: 0.7638583 (199)\ttotal: 26.4s\tremaining: 10m 31s\n"
     ]
    },
    {
     "name": "stdout",
     "output_type": "stream",
     "text": [
      "250:\tlearn: 0.7713278\ttest: 0.7671824\tbest: 0.7671994 (249)\ttotal: 33s\tremaining: 10m 24s\n"
     ]
    },
    {
     "name": "stdout",
     "output_type": "stream",
     "text": [
      "300:\tlearn: 0.7771645\ttest: 0.7722331\tbest: 0.7722331 (300)\ttotal: 39.6s\tremaining: 10m 17s\n"
     ]
    },
    {
     "name": "stdout",
     "output_type": "stream",
     "text": [
      "350:\tlearn: 0.7840258\ttest: 0.7790125\tbest: 0.7790125 (350)\ttotal: 46.1s\tremaining: 10m 10s\n"
     ]
    },
    {
     "name": "stdout",
     "output_type": "stream",
     "text": [
      "400:\tlearn: 0.7894158\ttest: 0.7821454\tbest: 0.7823052 (398)\ttotal: 52.7s\tremaining: 10m 4s\n"
     ]
    },
    {
     "name": "stdout",
     "output_type": "stream",
     "text": [
      "450:\tlearn: 0.7924358\ttest: 0.7840061\tbest: 0.7840061 (450)\ttotal: 59.3s\tremaining: 9m 57s\n"
     ]
    },
    {
     "name": "stdout",
     "output_type": "stream",
     "text": [
      "500:\tlearn: 0.7951613\ttest: 0.7859854\tbest: 0.7860123 (498)\ttotal: 1m 5s\tremaining: 9m 50s\n"
     ]
    },
    {
     "name": "stdout",
     "output_type": "stream",
     "text": [
      "550:\tlearn: 0.7972504\ttest: 0.7864979\tbest: 0.7865334 (543)\ttotal: 1m 12s\tremaining: 9m 44s\n"
     ]
    },
    {
     "name": "stdout",
     "output_type": "stream",
     "text": [
      "600:\tlearn: 0.7994647\ttest: 0.7877951\tbest: 0.7881341 (594)\ttotal: 1m 18s\tremaining: 9m 37s\n"
     ]
    },
    {
     "name": "stdout",
     "output_type": "stream",
     "text": [
      "650:\tlearn: 0.8016224\ttest: 0.7886620\tbest: 0.7888959 (639)\ttotal: 1m 25s\tremaining: 9m 30s\n"
     ]
    },
    {
     "name": "stdout",
     "output_type": "stream",
     "text": [
      "700:\tlearn: 0.8032783\ttest: 0.7887343\tbest: 0.7893210 (689)\ttotal: 1m 32s\tremaining: 9m 24s\n"
     ]
    },
    {
     "name": "stdout",
     "output_type": "stream",
     "text": [
      "750:\tlearn: 0.8052708\ttest: 0.7892653\tbest: 0.7894056 (748)\ttotal: 1m 38s\tremaining: 9m 17s\n"
     ]
    },
    {
     "name": "stdout",
     "output_type": "stream",
     "text": [
      "800:\tlearn: 0.8069816\ttest: 0.7898259\tbest: 0.7899662 (797)\ttotal: 1m 45s\tremaining: 9m 10s\n"
     ]
    },
    {
     "name": "stdout",
     "output_type": "stream",
     "text": [
      "850:\tlearn: 0.8085863\ttest: 0.7905985\tbest: 0.7905985 (850)\ttotal: 1m 51s\tremaining: 9m 3s\n"
     ]
    },
    {
     "name": "stdout",
     "output_type": "stream",
     "text": [
      "900:\tlearn: 0.8100732\ttest: 0.7901739\tbest: 0.7906702 (880)\ttotal: 1m 58s\tremaining: 8m 57s\n"
     ]
    },
    {
     "name": "stdout",
     "output_type": "stream",
     "text": [
      "950:\tlearn: 0.8114633\ttest: 0.7906041\tbest: 0.7908140 (948)\ttotal: 2m 4s\tremaining: 8m 50s\n"
     ]
    },
    {
     "name": "stdout",
     "output_type": "stream",
     "text": [
      "1000:\tlearn: 0.8131446\ttest: 0.7909752\tbest: 0.7910879 (990)\ttotal: 2m 11s\tremaining: 8m 44s\n"
     ]
    },
    {
     "name": "stdout",
     "output_type": "stream",
     "text": [
      "1050:\tlearn: 0.8145738\ttest: 0.7914901\tbest: 0.7916493 (1042)\ttotal: 2m 17s\tremaining: 8m 37s\n"
     ]
    },
    {
     "name": "stdout",
     "output_type": "stream",
     "text": [
      "1100:\tlearn: 0.8160009\ttest: 0.7908076\tbest: 0.7917474 (1069)\ttotal: 2m 24s\tremaining: 8m 31s\n"
     ]
    },
    {
     "name": "stdout",
     "output_type": "stream",
     "text": [
      "1150:\tlearn: 0.8173469\ttest: 0.7909004\tbest: 0.7917474 (1069)\ttotal: 2m 30s\tremaining: 8m 24s\n"
     ]
    },
    {
     "name": "stdout",
     "output_type": "stream",
     "text": [
      "1200:\tlearn: 0.8185816\ttest: 0.7908920\tbest: 0.7917474 (1069)\ttotal: 2m 37s\tremaining: 8m 17s\n"
     ]
    },
    {
     "name": "stdout",
     "output_type": "stream",
     "text": [
      "1250:\tlearn: 0.8198882\ttest: 0.7912933\tbest: 0.7917474 (1069)\ttotal: 2m 43s\tremaining: 8m 11s\n"
     ]
    },
    {
     "name": "stdout",
     "output_type": "stream",
     "text": [
      "1300:\tlearn: 0.8210962\ttest: 0.7913506\tbest: 0.7917474 (1069)\ttotal: 2m 50s\tremaining: 8m 4s\n"
     ]
    },
    {
     "name": "stdout",
     "output_type": "stream",
     "text": [
      "1350:\tlearn: 0.8228223\ttest: 0.7913240\tbest: 0.7917474 (1069)\ttotal: 2m 56s\tremaining: 7m 57s\n"
     ]
    },
    {
     "name": "stdout",
     "output_type": "stream",
     "text": [
      "1400:\tlearn: 0.8236146\ttest: 0.7917589\tbest: 0.7920633 (1375)\ttotal: 3m 3s\tremaining: 7m 51s\n"
     ]
    },
    {
     "name": "stdout",
     "output_type": "stream",
     "text": [
      "1450:\tlearn: 0.8250231\ttest: 0.7916447\tbest: 0.7920633 (1375)\ttotal: 3m 10s\tremaining: 7m 44s\n"
     ]
    },
    {
     "name": "stdout",
     "output_type": "stream",
     "text": [
      "1500:\tlearn: 0.8263025\ttest: 0.7918118\tbest: 0.7921240 (1484)\ttotal: 3m 16s\tremaining: 7m 38s\n"
     ]
    },
    {
     "name": "stdout",
     "output_type": "stream",
     "text": [
      "1550:\tlearn: 0.8274373\ttest: 0.7918690\tbest: 0.7923493 (1529)\ttotal: 3m 23s\tremaining: 7m 31s\n"
     ]
    },
    {
     "name": "stdout",
     "output_type": "stream",
     "text": [
      "1600:\tlearn: 0.8286494\ttest: 0.7922262\tbest: 0.7923493 (1529)\ttotal: 3m 29s\tremaining: 7m 24s\n"
     ]
    },
    {
     "name": "stdout",
     "output_type": "stream",
     "text": [
      "1650:\tlearn: 0.8297749\ttest: 0.7920730\tbest: 0.7927664 (1629)\ttotal: 3m 36s\tremaining: 7m 18s\n"
     ]
    },
    {
     "name": "stdout",
     "output_type": "stream",
     "text": [
      "1700:\tlearn: 0.8311043\ttest: 0.7920336\tbest: 0.7927664 (1629)\ttotal: 3m 42s\tremaining: 7m 11s\n"
     ]
    },
    {
     "name": "stdout",
     "output_type": "stream",
     "text": [
      "1750:\tlearn: 0.8323320\ttest: 0.7922005\tbest: 0.7927664 (1629)\ttotal: 3m 49s\tremaining: 7m 5s\n"
     ]
    },
    {
     "name": "stdout",
     "output_type": "stream",
     "text": [
      "1800:\tlearn: 0.8335249\ttest: 0.7927802\tbest: 0.7927802 (1799)\ttotal: 3m 55s\tremaining: 6m 58s\n"
     ]
    },
    {
     "name": "stdout",
     "output_type": "stream",
     "text": [
      "1850:\tlearn: 0.8343640\ttest: 0.7929499\tbest: 0.7930769 (1841)\ttotal: 4m 2s\tremaining: 6m 51s\n"
     ]
    },
    {
     "name": "stdout",
     "output_type": "stream",
     "text": [
      "1900:\tlearn: 0.8356061\ttest: 0.7927727\tbest: 0.7931648 (1860)\ttotal: 4m 8s\tremaining: 6m 45s\n"
     ]
    },
    {
     "name": "stdout",
     "output_type": "stream",
     "text": [
      "1950:\tlearn: 0.8367731\ttest: 0.7930035\tbest: 0.7931648 (1860)\ttotal: 4m 15s\tremaining: 6m 38s\n"
     ]
    },
    {
     "name": "stdout",
     "output_type": "stream",
     "text": [
      "2000:\tlearn: 0.8379595\ttest: 0.7925598\tbest: 0.7931648 (1860)\ttotal: 4m 21s\tremaining: 6m 32s\n"
     ]
    },
    {
     "name": "stdout",
     "output_type": "stream",
     "text": [
      "2050:\tlearn: 0.8388434\ttest: 0.7927461\tbest: 0.7931648 (1860)\ttotal: 4m 28s\tremaining: 6m 25s\n"
     ]
    },
    {
     "name": "stdout",
     "output_type": "stream",
     "text": [
      "2100:\tlearn: 0.8398714\ttest: 0.7929968\tbest: 0.7933884 (2079)\ttotal: 4m 34s\tremaining: 6m 18s\n"
     ]
    },
    {
     "name": "stdout",
     "output_type": "stream",
     "text": [
      "2150:\tlearn: 0.8411550\ttest: 0.7928387\tbest: 0.7933884 (2079)\ttotal: 4m 41s\tremaining: 6m 12s\n"
     ]
    },
    {
     "name": "stdout",
     "output_type": "stream",
     "text": [
      "2200:\tlearn: 0.8419703\ttest: 0.7929650\tbest: 0.7933884 (2079)\ttotal: 4m 47s\tremaining: 6m 5s\n"
     ]
    },
    {
     "name": "stdout",
     "output_type": "stream",
     "text": [
      "2250:\tlearn: 0.8432411\ttest: 0.7929545\tbest: 0.7933884 (2079)\ttotal: 4m 54s\tremaining: 5m 59s\n"
     ]
    },
    {
     "name": "stdout",
     "output_type": "stream",
     "text": [
      "2300:\tlearn: 0.8440886\ttest: 0.7931360\tbest: 0.7935115 (2280)\ttotal: 5m\tremaining: 5m 52s\n"
     ]
    },
    {
     "name": "stdout",
     "output_type": "stream",
     "text": [
      "2350:\tlearn: 0.8450101\ttest: 0.7933312\tbest: 0.7935115 (2280)\ttotal: 5m 7s\tremaining: 5m 45s\n"
     ]
    },
    {
     "name": "stdout",
     "output_type": "stream",
     "text": [
      "2400:\tlearn: 0.8462992\ttest: 0.7932910\tbest: 0.7935115 (2280)\ttotal: 5m 13s\tremaining: 5m 39s\n"
     ]
    },
    {
     "name": "stdout",
     "output_type": "stream",
     "text": [
      "2450:\tlearn: 0.8473251\ttest: 0.7933477\tbest: 0.7935377 (2446)\ttotal: 5m 20s\tremaining: 5m 32s\n"
     ]
    },
    {
     "name": "stdout",
     "output_type": "stream",
     "text": [
      "2500:\tlearn: 0.8482215\ttest: 0.7934603\tbest: 0.7937858 (2462)\ttotal: 5m 26s\tremaining: 5m 26s\n"
     ]
    },
    {
     "name": "stdout",
     "output_type": "stream",
     "text": [
      "2550:\tlearn: 0.8492033\ttest: 0.7934851\tbest: 0.7937858 (2462)\ttotal: 5m 33s\tremaining: 5m 19s\n"
     ]
    },
    {
     "name": "stdout",
     "output_type": "stream",
     "text": [
      "2600:\tlearn: 0.8502037\ttest: 0.7936681\tbest: 0.7939173 (2592)\ttotal: 5m 39s\tremaining: 5m 13s\n"
     ]
    },
    {
     "name": "stdout",
     "output_type": "stream",
     "text": [
      "2650:\tlearn: 0.8513445\ttest: 0.7932411\tbest: 0.7941136 (2608)\ttotal: 5m 46s\tremaining: 5m 6s\n"
     ]
    },
    {
     "name": "stdout",
     "output_type": "stream",
     "text": [
      "2700:\tlearn: 0.8520954\ttest: 0.7940549\tbest: 0.7941136 (2608)\ttotal: 5m 52s\tremaining: 5m\n"
     ]
    },
    {
     "name": "stdout",
     "output_type": "stream",
     "text": [
      "2750:\tlearn: 0.8532714\ttest: 0.7937241\tbest: 0.7941136 (2608)\ttotal: 5m 59s\tremaining: 4m 53s\n"
     ]
    },
    {
     "name": "stdout",
     "output_type": "stream",
     "text": [
      "2800:\tlearn: 0.8543542\ttest: 0.7935450\tbest: 0.7941136 (2608)\ttotal: 6m 5s\tremaining: 4m 47s\n"
     ]
    },
    {
     "name": "stdout",
     "output_type": "stream",
     "text": [
      "2850:\tlearn: 0.8553090\ttest: 0.7930250\tbest: 0.7941136 (2608)\ttotal: 6m 12s\tremaining: 4m 40s\n"
     ]
    },
    {
     "name": "stdout",
     "output_type": "stream",
     "text": [
      "2900:\tlearn: 0.8564903\ttest: 0.7931122\tbest: 0.7941136 (2608)\ttotal: 6m 18s\tremaining: 4m 34s\n"
     ]
    },
    {
     "name": "stdout",
     "output_type": "stream",
     "text": [
      "2950:\tlearn: 0.8575162\ttest: 0.7933738\tbest: 0.7941136 (2608)\ttotal: 6m 25s\tremaining: 4m 27s\n"
     ]
    },
    {
     "name": "stdout",
     "output_type": "stream",
     "text": [
      "3000:\tlearn: 0.8583387\ttest: 0.7932185\tbest: 0.7941136 (2608)\ttotal: 6m 31s\tremaining: 4m 20s\n"
     ]
    },
    {
     "name": "stdout",
     "output_type": "stream",
     "text": [
      "3050:\tlearn: 0.8591276\ttest: 0.7935815\tbest: 0.7941136 (2608)\ttotal: 6m 38s\tremaining: 4m 14s\n"
     ]
    },
    {
     "name": "stdout",
     "output_type": "stream",
     "text": [
      "3100:\tlearn: 0.8601643\ttest: 0.7941033\tbest: 0.7942312 (3096)\ttotal: 6m 44s\tremaining: 4m 7s\n"
     ]
    },
    {
     "name": "stdout",
     "output_type": "stream",
     "text": [
      "3150:\tlearn: 0.8608340\ttest: 0.7938365\tbest: 0.7942312 (3096)\ttotal: 6m 51s\tremaining: 4m 1s\n"
     ]
    },
    {
     "name": "stdout",
     "output_type": "stream",
     "text": [
      "3200:\tlearn: 0.8619143\ttest: 0.7939551\tbest: 0.7944536 (3175)\ttotal: 6m 57s\tremaining: 3m 54s\n"
     ]
    },
    {
     "name": "stdout",
     "output_type": "stream",
     "text": [
      "3250:\tlearn: 0.8629804\ttest: 0.7936683\tbest: 0.7944536 (3175)\ttotal: 7m 4s\tremaining: 3m 48s\n"
     ]
    },
    {
     "name": "stdout",
     "output_type": "stream",
     "text": [
      "3300:\tlearn: 0.8641504\ttest: 0.7940586\tbest: 0.7944536 (3175)\ttotal: 7m 10s\tremaining: 3m 41s\n"
     ]
    },
    {
     "name": "stdout",
     "output_type": "stream",
     "text": [
      "3350:\tlearn: 0.8650170\ttest: 0.7938813\tbest: 0.7944536 (3175)\ttotal: 7m 17s\tremaining: 3m 35s\n"
     ]
    },
    {
     "name": "stdout",
     "output_type": "stream",
     "text": [
      "3400:\tlearn: 0.8661077\ttest: 0.7936384\tbest: 0.7944536 (3175)\ttotal: 7m 23s\tremaining: 3m 28s\n"
     ]
    },
    {
     "name": "stdout",
     "output_type": "stream",
     "text": [
      "3450:\tlearn: 0.8671548\ttest: 0.7938359\tbest: 0.7944536 (3175)\ttotal: 7m 30s\tremaining: 3m 22s\n"
     ]
    },
    {
     "name": "stdout",
     "output_type": "stream",
     "text": [
      "3500:\tlearn: 0.8681341\ttest: 0.7937568\tbest: 0.7944536 (3175)\ttotal: 7m 36s\tremaining: 3m 15s\n"
     ]
    },
    {
     "name": "stdout",
     "output_type": "stream",
     "text": [
      "3550:\tlearn: 0.8691693\ttest: 0.7939926\tbest: 0.7944536 (3175)\ttotal: 7m 43s\tremaining: 3m 9s\n"
     ]
    },
    {
     "name": "stdout",
     "output_type": "stream",
     "text": [
      "3600:\tlearn: 0.8700772\ttest: 0.7936189\tbest: 0.7944536 (3175)\ttotal: 7m 50s\tremaining: 3m 2s\n"
     ]
    },
    {
     "name": "stdout",
     "output_type": "stream",
     "text": [
      "3650:\tlearn: 0.8708820\ttest: 0.7936812\tbest: 0.7944536 (3175)\ttotal: 7m 56s\tremaining: 2m 56s\n"
     ]
    },
    {
     "name": "stdout",
     "output_type": "stream",
     "text": [
      "3700:\tlearn: 0.8716186\ttest: 0.7936134\tbest: 0.7944536 (3175)\ttotal: 8m 3s\tremaining: 2m 49s\n"
     ]
    },
    {
     "name": "stdout",
     "output_type": "stream",
     "text": [
      "3750:\tlearn: 0.8728392\ttest: 0.7939970\tbest: 0.7944536 (3175)\ttotal: 8m 9s\tremaining: 2m 43s\n"
     ]
    },
    {
     "name": "stdout",
     "output_type": "stream",
     "text": [
      "3800:\tlearn: 0.8735940\ttest: 0.7938530\tbest: 0.7944536 (3175)\ttotal: 8m 16s\tremaining: 2m 36s\n"
     ]
    },
    {
     "name": "stdout",
     "output_type": "stream",
     "text": [
      "3850:\tlearn: 0.8743866\ttest: 0.7937333\tbest: 0.7944536 (3175)\ttotal: 8m 22s\tremaining: 2m 29s\n"
     ]
    },
    {
     "name": "stdout",
     "output_type": "stream",
     "text": [
      "3900:\tlearn: 0.8752679\ttest: 0.7942188\tbest: 0.7945112 (3886)\ttotal: 8m 29s\tremaining: 2m 23s\n"
     ]
    },
    {
     "name": "stdout",
     "output_type": "stream",
     "text": [
      "3950:\tlearn: 0.8761714\ttest: 0.7947130\tbest: 0.7949852 (3926)\ttotal: 8m 35s\tremaining: 2m 16s\n"
     ]
    },
    {
     "name": "stdout",
     "output_type": "stream",
     "text": [
      "4000:\tlearn: 0.8770897\ttest: 0.7945780\tbest: 0.7949852 (3926)\ttotal: 8m 42s\tremaining: 2m 10s\n"
     ]
    },
    {
     "name": "stdout",
     "output_type": "stream",
     "text": [
      "4050:\tlearn: 0.8779053\ttest: 0.7947188\tbest: 0.7949852 (3926)\ttotal: 8m 48s\tremaining: 2m 3s\n"
     ]
    },
    {
     "name": "stdout",
     "output_type": "stream",
     "text": [
      "4100:\tlearn: 0.8789561\ttest: 0.7949215\tbest: 0.7950159 (4076)\ttotal: 8m 55s\tremaining: 1m 57s\n"
     ]
    },
    {
     "name": "stdout",
     "output_type": "stream",
     "text": [
      "4150:\tlearn: 0.8796693\ttest: 0.7942456\tbest: 0.7950159 (4076)\ttotal: 9m 1s\tremaining: 1m 50s\n"
     ]
    },
    {
     "name": "stdout",
     "output_type": "stream",
     "text": [
      "4200:\tlearn: 0.8803784\ttest: 0.7940772\tbest: 0.7950159 (4076)\ttotal: 9m 8s\tremaining: 1m 44s\n"
     ]
    },
    {
     "name": "stdout",
     "output_type": "stream",
     "text": [
      "4250:\tlearn: 0.8813317\ttest: 0.7941380\tbest: 0.7950159 (4076)\ttotal: 9m 14s\tremaining: 1m 37s\n"
     ]
    },
    {
     "name": "stdout",
     "output_type": "stream",
     "text": [
      "4300:\tlearn: 0.8822332\ttest: 0.7944322\tbest: 0.7950159 (4076)\ttotal: 9m 21s\tremaining: 1m 31s\n"
     ]
    },
    {
     "name": "stdout",
     "output_type": "stream",
     "text": [
      "4350:\tlearn: 0.8830295\ttest: 0.7941146\tbest: 0.7950159 (4076)\ttotal: 9m 27s\tremaining: 1m 24s\n"
     ]
    },
    {
     "name": "stdout",
     "output_type": "stream",
     "text": [
      "4400:\tlearn: 0.8837109\ttest: 0.7946610\tbest: 0.7950159 (4076)\ttotal: 9m 34s\tremaining: 1m 18s\n"
     ]
    },
    {
     "name": "stdout",
     "output_type": "stream",
     "text": [
      "4450:\tlearn: 0.8845731\ttest: 0.7948578\tbest: 0.7950674 (4442)\ttotal: 9m 40s\tremaining: 1m 11s\n"
     ]
    },
    {
     "name": "stdout",
     "output_type": "stream",
     "text": [
      "4500:\tlearn: 0.8854915\ttest: 0.7941609\tbest: 0.7950674 (4442)\ttotal: 9m 47s\tremaining: 1m 5s\n"
     ]
    },
    {
     "name": "stdout",
     "output_type": "stream",
     "text": [
      "4550:\tlearn: 0.8862893\ttest: 0.7943537\tbest: 0.7950674 (4442)\ttotal: 9m 53s\tremaining: 58.6s\n"
     ]
    },
    {
     "name": "stdout",
     "output_type": "stream",
     "text": [
      "4600:\tlearn: 0.8874829\ttest: 0.7947190\tbest: 0.7950674 (4442)\ttotal: 10m\tremaining: 52s\n"
     ]
    },
    {
     "name": "stdout",
     "output_type": "stream",
     "text": [
      "4650:\tlearn: 0.8882573\ttest: 0.7945766\tbest: 0.7950674 (4442)\ttotal: 10m 6s\tremaining: 45.5s\n"
     ]
    },
    {
     "name": "stdout",
     "output_type": "stream",
     "text": [
      "4700:\tlearn: 0.8890021\ttest: 0.7944289\tbest: 0.7950674 (4442)\ttotal: 10m 13s\tremaining: 39s\n"
     ]
    },
    {
     "name": "stdout",
     "output_type": "stream",
     "text": [
      "4750:\tlearn: 0.8898028\ttest: 0.7944474\tbest: 0.7950674 (4442)\ttotal: 10m 19s\tremaining: 32.5s\n"
     ]
    },
    {
     "name": "stdout",
     "output_type": "stream",
     "text": [
      "4800:\tlearn: 0.8908061\ttest: 0.7941606\tbest: 0.7950674 (4442)\ttotal: 10m 26s\tremaining: 26s\n"
     ]
    },
    {
     "name": "stdout",
     "output_type": "stream",
     "text": [
      "4850:\tlearn: 0.8915803\ttest: 0.7944362\tbest: 0.7950674 (4442)\ttotal: 10m 32s\tremaining: 19.4s\n"
     ]
    },
    {
     "name": "stdout",
     "output_type": "stream",
     "text": [
      "4900:\tlearn: 0.8923900\ttest: 0.7945331\tbest: 0.7950674 (4442)\ttotal: 10m 39s\tremaining: 12.9s\n"
     ]
    },
    {
     "name": "stdout",
     "output_type": "stream",
     "text": [
      "4950:\tlearn: 0.8932702\ttest: 0.7941091\tbest: 0.7950674 (4442)\ttotal: 10m 45s\tremaining: 6.39s\n"
     ]
    },
    {
     "name": "stdout",
     "output_type": "stream",
     "text": [
      "4999:\tlearn: 0.8939259\ttest: 0.7945749\tbest: 0.7950674 (4442)\ttotal: 10m 52s\tremaining: 0us\n",
      "\n",
      "bestTest = 0.7950674473\n",
      "bestIteration = 4442\n",
      "\n"
     ]
    },
    {
     "name": "stdout",
     "output_type": "stream",
     "text": [
      "######################################## training model 2/5 ########################################\n",
      "seed: 11\n"
     ]
    },
    {
     "name": "stdout",
     "output_type": "stream",
     "text": [
      "0:\tlearn: 0.5868346\ttest: 0.5879853\tbest: 0.5879853 (0)\ttotal: 466ms\tremaining: 38m 51s\n"
     ]
    },
    {
     "name": "stdout",
     "output_type": "stream",
     "text": [
      "50:\tlearn: 0.7428472\ttest: 0.7397582\tbest: 0.7397582 (50)\ttotal: 6.96s\tremaining: 11m 15s\n"
     ]
    },
    {
     "name": "stdout",
     "output_type": "stream",
     "text": [
      "100:\tlearn: 0.7575682\ttest: 0.7521199\tbest: 0.7521199 (100)\ttotal: 13.5s\tremaining: 10m 54s\n"
     ]
    },
    {
     "name": "stdout",
     "output_type": "stream",
     "text": [
      "150:\tlearn: 0.7639980\ttest: 0.7580040\tbest: 0.7580859 (147)\ttotal: 20s\tremaining: 10m 43s\n"
     ]
    },
    {
     "name": "stdout",
     "output_type": "stream",
     "text": [
      "200:\tlearn: 0.7689550\ttest: 0.7629405\tbest: 0.7629405 (200)\ttotal: 26.6s\tremaining: 10m 35s\n"
     ]
    },
    {
     "name": "stdout",
     "output_type": "stream",
     "text": [
      "250:\tlearn: 0.7730846\ttest: 0.7663150\tbest: 0.7663150 (250)\ttotal: 33.2s\tremaining: 10m 27s\n"
     ]
    },
    {
     "name": "stdout",
     "output_type": "stream",
     "text": [
      "300:\tlearn: 0.7781010\ttest: 0.7718694\tbest: 0.7718694 (300)\ttotal: 39.8s\tremaining: 10m 20s\n"
     ]
    },
    {
     "name": "stdout",
     "output_type": "stream",
     "text": [
      "350:\tlearn: 0.7848963\ttest: 0.7766915\tbest: 0.7766915 (350)\ttotal: 46.3s\tremaining: 10m 13s\n"
     ]
    },
    {
     "name": "stdout",
     "output_type": "stream",
     "text": [
      "400:\tlearn: 0.7899684\ttest: 0.7803441\tbest: 0.7805541 (397)\ttotal: 52.9s\tremaining: 10m 6s\n"
     ]
    },
    {
     "name": "stdout",
     "output_type": "stream",
     "text": [
      "450:\tlearn: 0.7928790\ttest: 0.7823511\tbest: 0.7824237 (449)\ttotal: 59.5s\tremaining: 10m\n"
     ]
    },
    {
     "name": "stdout",
     "output_type": "stream",
     "text": [
      "500:\tlearn: 0.7951714\ttest: 0.7838101\tbest: 0.7838101 (500)\ttotal: 1m 6s\tremaining: 9m 53s\n"
     ]
    },
    {
     "name": "stdout",
     "output_type": "stream",
     "text": [
      "550:\tlearn: 0.7978710\ttest: 0.7845855\tbest: 0.7851973 (540)\ttotal: 1m 12s\tremaining: 9m 47s\n"
     ]
    },
    {
     "name": "stdout",
     "output_type": "stream",
     "text": [
      "600:\tlearn: 0.7998653\ttest: 0.7857981\tbest: 0.7857981 (600)\ttotal: 1m 19s\tremaining: 9m 40s\n"
     ]
    },
    {
     "name": "stdout",
     "output_type": "stream",
     "text": [
      "650:\tlearn: 0.8017744\ttest: 0.7858291\tbest: 0.7863978 (623)\ttotal: 1m 25s\tremaining: 9m 34s\n"
     ]
    },
    {
     "name": "stdout",
     "output_type": "stream",
     "text": [
      "700:\tlearn: 0.8037522\ttest: 0.7869222\tbest: 0.7870446 (698)\ttotal: 1m 32s\tremaining: 9m 27s\n"
     ]
    },
    {
     "name": "stdout",
     "output_type": "stream",
     "text": [
      "750:\tlearn: 0.8056218\ttest: 0.7877482\tbest: 0.7879627 (740)\ttotal: 1m 39s\tremaining: 9m 20s\n"
     ]
    },
    {
     "name": "stdout",
     "output_type": "stream",
     "text": [
      "800:\tlearn: 0.8073439\ttest: 0.7881589\tbest: 0.7882725 (787)\ttotal: 1m 45s\tremaining: 9m 14s\n"
     ]
    },
    {
     "name": "stdout",
     "output_type": "stream",
     "text": [
      "850:\tlearn: 0.8092882\ttest: 0.7884665\tbest: 0.7884665 (850)\ttotal: 1m 52s\tremaining: 9m 7s\n"
     ]
    },
    {
     "name": "stdout",
     "output_type": "stream",
     "text": [
      "900:\tlearn: 0.8109729\ttest: 0.7895607\tbest: 0.7895607 (900)\ttotal: 1m 58s\tremaining: 9m 1s\n"
     ]
    },
    {
     "name": "stdout",
     "output_type": "stream",
     "text": [
      "950:\tlearn: 0.8121061\ttest: 0.7897635\tbest: 0.7897847 (946)\ttotal: 2m 5s\tremaining: 8m 54s\n"
     ]
    },
    {
     "name": "stdout",
     "output_type": "stream",
     "text": [
      "1000:\tlearn: 0.8135373\ttest: 0.7898731\tbest: 0.7901667 (978)\ttotal: 2m 12s\tremaining: 8m 47s\n"
     ]
    },
    {
     "name": "stdout",
     "output_type": "stream",
     "text": [
      "1050:\tlearn: 0.8147577\ttest: 0.7902834\tbest: 0.7903368 (1038)\ttotal: 2m 18s\tremaining: 8m 40s\n"
     ]
    },
    {
     "name": "stdout",
     "output_type": "stream",
     "text": [
      "1100:\tlearn: 0.8163992\ttest: 0.7901711\tbest: 0.7903915 (1089)\ttotal: 2m 25s\tremaining: 8m 33s\n"
     ]
    },
    {
     "name": "stdout",
     "output_type": "stream",
     "text": [
      "1150:\tlearn: 0.8177494\ttest: 0.7907793\tbest: 0.7908558 (1143)\ttotal: 2m 31s\tremaining: 8m 26s\n"
     ]
    },
    {
     "name": "stdout",
     "output_type": "stream",
     "text": [
      "1200:\tlearn: 0.8190535\ttest: 0.7909717\tbest: 0.7912379 (1166)\ttotal: 2m 38s\tremaining: 8m 20s\n"
     ]
    },
    {
     "name": "stdout",
     "output_type": "stream",
     "text": [
      "1250:\tlearn: 0.8201417\ttest: 0.7901772\tbest: 0.7912379 (1166)\ttotal: 2m 44s\tremaining: 8m 13s\n"
     ]
    },
    {
     "name": "stdout",
     "output_type": "stream",
     "text": [
      "1300:\tlearn: 0.8214935\ttest: 0.7908040\tbest: 0.7912379 (1166)\ttotal: 2m 51s\tremaining: 8m 6s\n"
     ]
    },
    {
     "name": "stdout",
     "output_type": "stream",
     "text": [
      "1350:\tlearn: 0.8227608\ttest: 0.7902797\tbest: 0.7912379 (1166)\ttotal: 2m 57s\tremaining: 7m 59s\n"
     ]
    },
    {
     "name": "stdout",
     "output_type": "stream",
     "text": [
      "1400:\tlearn: 0.8239785\ttest: 0.7908752\tbest: 0.7912379 (1166)\ttotal: 3m 4s\tremaining: 7m 53s\n"
     ]
    },
    {
     "name": "stdout",
     "output_type": "stream",
     "text": [
      "1450:\tlearn: 0.8252601\ttest: 0.7912208\tbest: 0.7912831 (1447)\ttotal: 3m 10s\tremaining: 7m 46s\n"
     ]
    },
    {
     "name": "stdout",
     "output_type": "stream",
     "text": [
      "1500:\tlearn: 0.8266940\ttest: 0.7914278\tbest: 0.7916586 (1491)\ttotal: 3m 17s\tremaining: 7m 39s\n"
     ]
    },
    {
     "name": "stdout",
     "output_type": "stream",
     "text": [
      "1550:\tlearn: 0.8278477\ttest: 0.7908711\tbest: 0.7916586 (1491)\ttotal: 3m 23s\tremaining: 7m 33s\n"
     ]
    },
    {
     "name": "stdout",
     "output_type": "stream",
     "text": [
      "1600:\tlearn: 0.8292097\ttest: 0.7911059\tbest: 0.7916586 (1491)\ttotal: 3m 30s\tremaining: 7m 26s\n"
     ]
    },
    {
     "name": "stdout",
     "output_type": "stream",
     "text": [
      "1650:\tlearn: 0.8302474\ttest: 0.7913525\tbest: 0.7916586 (1491)\ttotal: 3m 36s\tremaining: 7m 19s\n"
     ]
    },
    {
     "name": "stdout",
     "output_type": "stream",
     "text": [
      "1700:\tlearn: 0.8314689\ttest: 0.7911926\tbest: 0.7916586 (1491)\ttotal: 3m 43s\tremaining: 7m 12s\n"
     ]
    },
    {
     "name": "stdout",
     "output_type": "stream",
     "text": [
      "1750:\tlearn: 0.8328020\ttest: 0.7914755\tbest: 0.7916586 (1491)\ttotal: 3m 49s\tremaining: 7m 6s\n"
     ]
    },
    {
     "name": "stdout",
     "output_type": "stream",
     "text": [
      "1800:\tlearn: 0.8338953\ttest: 0.7915169\tbest: 0.7919028 (1762)\ttotal: 3m 56s\tremaining: 6m 59s\n"
     ]
    },
    {
     "name": "stdout",
     "output_type": "stream",
     "text": [
      "1850:\tlearn: 0.8351378\ttest: 0.7911041\tbest: 0.7919028 (1762)\ttotal: 4m 2s\tremaining: 6m 53s\n"
     ]
    },
    {
     "name": "stdout",
     "output_type": "stream",
     "text": [
      "1900:\tlearn: 0.8364186\ttest: 0.7913114\tbest: 0.7919028 (1762)\ttotal: 4m 9s\tremaining: 6m 46s\n"
     ]
    },
    {
     "name": "stdout",
     "output_type": "stream",
     "text": [
      "1950:\tlearn: 0.8375378\ttest: 0.7915309\tbest: 0.7919028 (1762)\ttotal: 4m 16s\tremaining: 6m 40s\n"
     ]
    },
    {
     "name": "stdout",
     "output_type": "stream",
     "text": [
      "2000:\tlearn: 0.8386272\ttest: 0.7914807\tbest: 0.7919095 (1956)\ttotal: 4m 22s\tremaining: 6m 33s\n"
     ]
    },
    {
     "name": "stdout",
     "output_type": "stream",
     "text": [
      "2050:\tlearn: 0.8395198\ttest: 0.7914350\tbest: 0.7919123 (2024)\ttotal: 4m 29s\tremaining: 6m 27s\n"
     ]
    },
    {
     "name": "stdout",
     "output_type": "stream",
     "text": [
      "2100:\tlearn: 0.8405796\ttest: 0.7916742\tbest: 0.7919123 (2024)\ttotal: 4m 35s\tremaining: 6m 20s\n"
     ]
    },
    {
     "name": "stdout",
     "output_type": "stream",
     "text": [
      "2150:\tlearn: 0.8418472\ttest: 0.7918336\tbest: 0.7922487 (2121)\ttotal: 4m 42s\tremaining: 6m 13s\n"
     ]
    },
    {
     "name": "stdout",
     "output_type": "stream",
     "text": [
      "2200:\tlearn: 0.8428226\ttest: 0.7918386\tbest: 0.7922487 (2121)\ttotal: 4m 48s\tremaining: 6m 7s\n"
     ]
    },
    {
     "name": "stdout",
     "output_type": "stream",
     "text": [
      "2250:\tlearn: 0.8440216\ttest: 0.7915216\tbest: 0.7922487 (2121)\ttotal: 4m 55s\tremaining: 6m\n"
     ]
    },
    {
     "name": "stdout",
     "output_type": "stream",
     "text": [
      "2300:\tlearn: 0.8450597\ttest: 0.7914456\tbest: 0.7922487 (2121)\ttotal: 5m 1s\tremaining: 5m 54s\n"
     ]
    },
    {
     "name": "stdout",
     "output_type": "stream",
     "text": [
      "2350:\tlearn: 0.8459744\ttest: 0.7918545\tbest: 0.7922487 (2121)\ttotal: 5m 8s\tremaining: 5m 47s\n"
     ]
    },
    {
     "name": "stdout",
     "output_type": "stream",
     "text": [
      "2400:\tlearn: 0.8469293\ttest: 0.7916545\tbest: 0.7922487 (2121)\ttotal: 5m 15s\tremaining: 5m 40s\n"
     ]
    },
    {
     "name": "stdout",
     "output_type": "stream",
     "text": [
      "2450:\tlearn: 0.8480968\ttest: 0.7918791\tbest: 0.7922487 (2121)\ttotal: 5m 21s\tremaining: 5m 34s\n"
     ]
    },
    {
     "name": "stdout",
     "output_type": "stream",
     "text": [
      "2500:\tlearn: 0.8492430\ttest: 0.7917042\tbest: 0.7922487 (2121)\ttotal: 5m 28s\tremaining: 5m 27s\n"
     ]
    },
    {
     "name": "stdout",
     "output_type": "stream",
     "text": [
      "2550:\tlearn: 0.8500501\ttest: 0.7920548\tbest: 0.7922487 (2121)\ttotal: 5m 34s\tremaining: 5m 21s\n"
     ]
    },
    {
     "name": "stdout",
     "output_type": "stream",
     "text": [
      "2600:\tlearn: 0.8513435\ttest: 0.7922065\tbest: 0.7922487 (2121)\ttotal: 5m 41s\tremaining: 5m 14s\n"
     ]
    },
    {
     "name": "stdout",
     "output_type": "stream",
     "text": [
      "2650:\tlearn: 0.8522751\ttest: 0.7920475\tbest: 0.7923114 (2609)\ttotal: 5m 47s\tremaining: 5m 7s\n"
     ]
    },
    {
     "name": "stdout",
     "output_type": "stream",
     "text": [
      "2700:\tlearn: 0.8531262\ttest: 0.7917479\tbest: 0.7923114 (2609)\ttotal: 5m 54s\tremaining: 5m 1s\n"
     ]
    },
    {
     "name": "stdout",
     "output_type": "stream",
     "text": [
      "2750:\tlearn: 0.8543482\ttest: 0.7919221\tbest: 0.7923114 (2609)\ttotal: 6m\tremaining: 4m 54s\n"
     ]
    },
    {
     "name": "stdout",
     "output_type": "stream",
     "text": [
      "2800:\tlearn: 0.8553155\ttest: 0.7917621\tbest: 0.7923114 (2609)\ttotal: 6m 7s\tremaining: 4m 48s\n"
     ]
    },
    {
     "name": "stdout",
     "output_type": "stream",
     "text": [
      "2850:\tlearn: 0.8562616\ttest: 0.7919264\tbest: 0.7923114 (2609)\ttotal: 6m 13s\tremaining: 4m 41s\n"
     ]
    },
    {
     "name": "stdout",
     "output_type": "stream",
     "text": [
      "2900:\tlearn: 0.8573008\ttest: 0.7917646\tbest: 0.7923114 (2609)\ttotal: 6m 20s\tremaining: 4m 35s\n"
     ]
    },
    {
     "name": "stdout",
     "output_type": "stream",
     "text": [
      "2950:\tlearn: 0.8582549\ttest: 0.7920001\tbest: 0.7923114 (2609)\ttotal: 6m 26s\tremaining: 4m 28s\n"
     ]
    },
    {
     "name": "stdout",
     "output_type": "stream",
     "text": [
      "3000:\tlearn: 0.8592582\ttest: 0.7926168\tbest: 0.7926799 (2999)\ttotal: 6m 33s\tremaining: 4m 21s\n"
     ]
    },
    {
     "name": "stdout",
     "output_type": "stream",
     "text": [
      "3050:\tlearn: 0.8602028\ttest: 0.7918638\tbest: 0.7927827 (3008)\ttotal: 6m 39s\tremaining: 4m 15s\n"
     ]
    },
    {
     "name": "stdout",
     "output_type": "stream",
     "text": [
      "3100:\tlearn: 0.8611398\ttest: 0.7920200\tbest: 0.7927827 (3008)\ttotal: 6m 46s\tremaining: 4m 8s\n"
     ]
    },
    {
     "name": "stdout",
     "output_type": "stream",
     "text": [
      "3150:\tlearn: 0.8621681\ttest: 0.7922151\tbest: 0.7927827 (3008)\ttotal: 6m 52s\tremaining: 4m 2s\n"
     ]
    },
    {
     "name": "stdout",
     "output_type": "stream",
     "text": [
      "3200:\tlearn: 0.8628908\ttest: 0.7923007\tbest: 0.7927827 (3008)\ttotal: 6m 59s\tremaining: 3m 55s\n"
     ]
    },
    {
     "name": "stdout",
     "output_type": "stream",
     "text": [
      "3250:\tlearn: 0.8638636\ttest: 0.7923775\tbest: 0.7927827 (3008)\ttotal: 7m 5s\tremaining: 3m 49s\n"
     ]
    },
    {
     "name": "stdout",
     "output_type": "stream",
     "text": [
      "3300:\tlearn: 0.8645749\ttest: 0.7921974\tbest: 0.7927827 (3008)\ttotal: 7m 12s\tremaining: 3m 42s\n"
     ]
    },
    {
     "name": "stdout",
     "output_type": "stream",
     "text": [
      "3350:\tlearn: 0.8654971\ttest: 0.7921164\tbest: 0.7927827 (3008)\ttotal: 7m 18s\tremaining: 3m 35s\n"
     ]
    },
    {
     "name": "stdout",
     "output_type": "stream",
     "text": [
      "3400:\tlearn: 0.8665149\ttest: 0.7921028\tbest: 0.7927827 (3008)\ttotal: 7m 25s\tremaining: 3m 29s\n"
     ]
    },
    {
     "name": "stdout",
     "output_type": "stream",
     "text": [
      "3450:\tlearn: 0.8674486\ttest: 0.7918550\tbest: 0.7927827 (3008)\ttotal: 7m 31s\tremaining: 3m 22s\n"
     ]
    },
    {
     "name": "stdout",
     "output_type": "stream",
     "text": [
      "3500:\tlearn: 0.8684851\ttest: 0.7914361\tbest: 0.7927827 (3008)\ttotal: 7m 38s\tremaining: 3m 16s\n"
     ]
    },
    {
     "name": "stdout",
     "output_type": "stream",
     "text": [
      "3550:\tlearn: 0.8693652\ttest: 0.7911587\tbest: 0.7927827 (3008)\ttotal: 7m 44s\tremaining: 3m 9s\n"
     ]
    },
    {
     "name": "stdout",
     "output_type": "stream",
     "text": [
      "3600:\tlearn: 0.8702207\ttest: 0.7909391\tbest: 0.7927827 (3008)\ttotal: 7m 51s\tremaining: 3m 3s\n"
     ]
    },
    {
     "name": "stdout",
     "output_type": "stream",
     "text": [
      "3650:\tlearn: 0.8711811\ttest: 0.7915494\tbest: 0.7927827 (3008)\ttotal: 7m 57s\tremaining: 2m 56s\n"
     ]
    },
    {
     "name": "stdout",
     "output_type": "stream",
     "text": [
      "3700:\tlearn: 0.8722098\ttest: 0.7915183\tbest: 0.7927827 (3008)\ttotal: 8m 4s\tremaining: 2m 49s\n"
     ]
    },
    {
     "name": "stdout",
     "output_type": "stream",
     "text": [
      "3750:\tlearn: 0.8731177\ttest: 0.7913981\tbest: 0.7927827 (3008)\ttotal: 8m 10s\tremaining: 2m 43s\n"
     ]
    },
    {
     "name": "stdout",
     "output_type": "stream",
     "text": [
      "3800:\tlearn: 0.8738801\ttest: 0.7915084\tbest: 0.7927827 (3008)\ttotal: 8m 17s\tremaining: 2m 36s\n"
     ]
    },
    {
     "name": "stdout",
     "output_type": "stream",
     "text": [
      "3850:\tlearn: 0.8748520\ttest: 0.7917489\tbest: 0.7927827 (3008)\ttotal: 8m 23s\tremaining: 2m 30s\n"
     ]
    },
    {
     "name": "stdout",
     "output_type": "stream",
     "text": [
      "3900:\tlearn: 0.8753119\ttest: 0.7916853\tbest: 0.7927827 (3008)\ttotal: 8m 30s\tremaining: 2m 23s\n"
     ]
    },
    {
     "name": "stdout",
     "output_type": "stream",
     "text": [
      "3950:\tlearn: 0.8763967\ttest: 0.7920791\tbest: 0.7927827 (3008)\ttotal: 8m 36s\tremaining: 2m 17s\n"
     ]
    },
    {
     "name": "stdout",
     "output_type": "stream",
     "text": [
      "4000:\tlearn: 0.8771880\ttest: 0.7918452\tbest: 0.7927827 (3008)\ttotal: 8m 43s\tremaining: 2m 10s\n"
     ]
    },
    {
     "name": "stdout",
     "output_type": "stream",
     "text": [
      "4050:\tlearn: 0.8780939\ttest: 0.7921397\tbest: 0.7927827 (3008)\ttotal: 8m 49s\tremaining: 2m 4s\n"
     ]
    },
    {
     "name": "stdout",
     "output_type": "stream",
     "text": [
      "4100:\tlearn: 0.8790587\ttest: 0.7916195\tbest: 0.7927827 (3008)\ttotal: 8m 56s\tremaining: 1m 57s\n"
     ]
    },
    {
     "name": "stdout",
     "output_type": "stream",
     "text": [
      "4150:\tlearn: 0.8798842\ttest: 0.7918325\tbest: 0.7927827 (3008)\ttotal: 9m 2s\tremaining: 1m 50s\n"
     ]
    },
    {
     "name": "stdout",
     "output_type": "stream",
     "text": [
      "4200:\tlearn: 0.8807886\ttest: 0.7917975\tbest: 0.7927827 (3008)\ttotal: 9m 9s\tremaining: 1m 44s\n"
     ]
    },
    {
     "name": "stdout",
     "output_type": "stream",
     "text": [
      "4250:\tlearn: 0.8815802\ttest: 0.7919073\tbest: 0.7927827 (3008)\ttotal: 9m 15s\tremaining: 1m 37s\n"
     ]
    },
    {
     "name": "stdout",
     "output_type": "stream",
     "text": [
      "4300:\tlearn: 0.8822432\ttest: 0.7919342\tbest: 0.7927827 (3008)\ttotal: 9m 22s\tremaining: 1m 31s\n"
     ]
    },
    {
     "name": "stdout",
     "output_type": "stream",
     "text": [
      "4350:\tlearn: 0.8831744\ttest: 0.7916616\tbest: 0.7927827 (3008)\ttotal: 9m 28s\tremaining: 1m 24s\n"
     ]
    },
    {
     "name": "stdout",
     "output_type": "stream",
     "text": [
      "4400:\tlearn: 0.8839091\ttest: 0.7917660\tbest: 0.7927827 (3008)\ttotal: 9m 35s\tremaining: 1m 18s\n"
     ]
    },
    {
     "name": "stdout",
     "output_type": "stream",
     "text": [
      "4450:\tlearn: 0.8849264\ttest: 0.7915140\tbest: 0.7927827 (3008)\ttotal: 9m 41s\tremaining: 1m 11s\n"
     ]
    },
    {
     "name": "stdout",
     "output_type": "stream",
     "text": [
      "4500:\tlearn: 0.8858572\ttest: 0.7917832\tbest: 0.7927827 (3008)\ttotal: 9m 48s\tremaining: 1m 5s\n"
     ]
    },
    {
     "name": "stdout",
     "output_type": "stream",
     "text": [
      "4550:\tlearn: 0.8867328\ttest: 0.7919097\tbest: 0.7927827 (3008)\ttotal: 9m 54s\tremaining: 58.7s\n"
     ]
    },
    {
     "name": "stdout",
     "output_type": "stream",
     "text": [
      "4600:\tlearn: 0.8876008\ttest: 0.7916752\tbest: 0.7927827 (3008)\ttotal: 10m 1s\tremaining: 52.1s\n"
     ]
    },
    {
     "name": "stdout",
     "output_type": "stream",
     "text": [
      "4650:\tlearn: 0.8883377\ttest: 0.7917617\tbest: 0.7927827 (3008)\ttotal: 10m 7s\tremaining: 45.6s\n"
     ]
    },
    {
     "name": "stdout",
     "output_type": "stream",
     "text": [
      "4700:\tlearn: 0.8889165\ttest: 0.7915312\tbest: 0.7927827 (3008)\ttotal: 10m 14s\tremaining: 39.1s\n"
     ]
    },
    {
     "name": "stdout",
     "output_type": "stream",
     "text": [
      "4750:\tlearn: 0.8899348\ttest: 0.7915188\tbest: 0.7927827 (3008)\ttotal: 10m 20s\tremaining: 32.5s\n"
     ]
    },
    {
     "name": "stdout",
     "output_type": "stream",
     "text": [
      "4800:\tlearn: 0.8907887\ttest: 0.7916000\tbest: 0.7927827 (3008)\ttotal: 10m 27s\tremaining: 26s\n"
     ]
    },
    {
     "name": "stdout",
     "output_type": "stream",
     "text": [
      "4850:\tlearn: 0.8915584\ttest: 0.7912850\tbest: 0.7927827 (3008)\ttotal: 10m 33s\tremaining: 19.5s\n"
     ]
    },
    {
     "name": "stdout",
     "output_type": "stream",
     "text": [
      "4900:\tlearn: 0.8923659\ttest: 0.7910694\tbest: 0.7927827 (3008)\ttotal: 10m 40s\tremaining: 12.9s\n"
     ]
    },
    {
     "name": "stdout",
     "output_type": "stream",
     "text": [
      "4950:\tlearn: 0.8929401\ttest: 0.7910709\tbest: 0.7927827 (3008)\ttotal: 10m 46s\tremaining: 6.4s\n"
     ]
    },
    {
     "name": "stdout",
     "output_type": "stream",
     "text": [
      "4999:\tlearn: 0.8939774\ttest: 0.7912609\tbest: 0.7927827 (3008)\ttotal: 10m 53s\tremaining: 0us\n",
      "\n",
      "bestTest = 0.7927826958\n",
      "bestIteration = 3008\n",
      "\n"
     ]
    },
    {
     "name": "stdout",
     "output_type": "stream",
     "text": [
      "######################################## training model 3/5 ########################################\n",
      "seed: 12\n"
     ]
    },
    {
     "name": "stdout",
     "output_type": "stream",
     "text": [
      "0:\tlearn: 0.5770643\ttest: 0.5761201\tbest: 0.5761201 (0)\ttotal: 474ms\tremaining: 39m 31s\n"
     ]
    },
    {
     "name": "stdout",
     "output_type": "stream",
     "text": [
      "50:\tlearn: 0.7419416\ttest: 0.7447127\tbest: 0.7447127 (50)\ttotal: 6.94s\tremaining: 11m 13s\n"
     ]
    },
    {
     "name": "stdout",
     "output_type": "stream",
     "text": [
      "100:\tlearn: 0.7558646\ttest: 0.7581208\tbest: 0.7582305 (99)\ttotal: 13.5s\tremaining: 10m 55s\n"
     ]
    },
    {
     "name": "stdout",
     "output_type": "stream",
     "text": [
      "150:\tlearn: 0.7629666\ttest: 0.7645042\tbest: 0.7645042 (150)\ttotal: 20.1s\tremaining: 10m 45s\n"
     ]
    },
    {
     "name": "stdout",
     "output_type": "stream",
     "text": [
      "200:\tlearn: 0.7675312\ttest: 0.7687765\tbest: 0.7687881 (196)\ttotal: 26.7s\tremaining: 10m 37s\n"
     ]
    },
    {
     "name": "stdout",
     "output_type": "stream",
     "text": [
      "250:\tlearn: 0.7718343\ttest: 0.7719045\tbest: 0.7719045 (250)\ttotal: 33.3s\tremaining: 10m 30s\n"
     ]
    },
    {
     "name": "stdout",
     "output_type": "stream",
     "text": [
      "300:\tlearn: 0.7770458\ttest: 0.7761961\tbest: 0.7762868 (299)\ttotal: 39.9s\tremaining: 10m 22s\n"
     ]
    },
    {
     "name": "stdout",
     "output_type": "stream",
     "text": [
      "350:\tlearn: 0.7835754\ttest: 0.7833016\tbest: 0.7833194 (349)\ttotal: 46.5s\tremaining: 10m 15s\n"
     ]
    },
    {
     "name": "stdout",
     "output_type": "stream",
     "text": [
      "400:\tlearn: 0.7881362\ttest: 0.7868562\tbest: 0.7868562 (400)\ttotal: 53s\tremaining: 10m 8s\n"
     ]
    },
    {
     "name": "stdout",
     "output_type": "stream",
     "text": [
      "450:\tlearn: 0.7911090\ttest: 0.7889457\tbest: 0.7893081 (448)\ttotal: 59.6s\tremaining: 10m\n"
     ]
    },
    {
     "name": "stdout",
     "output_type": "stream",
     "text": [
      "500:\tlearn: 0.7939392\ttest: 0.7900637\tbest: 0.7902418 (495)\ttotal: 1m 6s\tremaining: 9m 53s\n"
     ]
    },
    {
     "name": "stdout",
     "output_type": "stream",
     "text": [
      "550:\tlearn: 0.7960818\ttest: 0.7909644\tbest: 0.7912873 (544)\ttotal: 1m 12s\tremaining: 9m 46s\n"
     ]
    },
    {
     "name": "stdout",
     "output_type": "stream",
     "text": [
      "600:\tlearn: 0.7985597\ttest: 0.7925526\tbest: 0.7925534 (589)\ttotal: 1m 19s\tremaining: 9m 39s\n"
     ]
    },
    {
     "name": "stdout",
     "output_type": "stream",
     "text": [
      "650:\tlearn: 0.8002960\ttest: 0.7935160\tbest: 0.7938842 (643)\ttotal: 1m 25s\tremaining: 9m 32s\n"
     ]
    },
    {
     "name": "stdout",
     "output_type": "stream",
     "text": [
      "700:\tlearn: 0.8022661\ttest: 0.7939368\tbest: 0.7942414 (660)\ttotal: 1m 32s\tremaining: 9m 26s\n"
     ]
    },
    {
     "name": "stdout",
     "output_type": "stream",
     "text": [
      "750:\tlearn: 0.8041045\ttest: 0.7947925\tbest: 0.7947925 (750)\ttotal: 1m 38s\tremaining: 9m 19s\n"
     ]
    },
    {
     "name": "stdout",
     "output_type": "stream",
     "text": [
      "800:\tlearn: 0.8058218\ttest: 0.7944015\tbest: 0.7948762 (778)\ttotal: 1m 45s\tremaining: 9m 12s\n"
     ]
    },
    {
     "name": "stdout",
     "output_type": "stream",
     "text": [
      "850:\tlearn: 0.8072292\ttest: 0.7945342\tbest: 0.7949092 (847)\ttotal: 1m 51s\tremaining: 9m 5s\n"
     ]
    },
    {
     "name": "stdout",
     "output_type": "stream",
     "text": [
      "900:\tlearn: 0.8091536\ttest: 0.7953933\tbest: 0.7957624 (892)\ttotal: 1m 58s\tremaining: 8m 59s\n"
     ]
    },
    {
     "name": "stdout",
     "output_type": "stream",
     "text": [
      "950:\tlearn: 0.8107388\ttest: 0.7954609\tbest: 0.7957837 (923)\ttotal: 2m 5s\tremaining: 8m 52s\n"
     ]
    },
    {
     "name": "stdout",
     "output_type": "stream",
     "text": [
      "1000:\tlearn: 0.8122042\ttest: 0.7956159\tbest: 0.7957837 (923)\ttotal: 2m 11s\tremaining: 8m 45s\n"
     ]
    },
    {
     "name": "stdout",
     "output_type": "stream",
     "text": [
      "1050:\tlearn: 0.8139095\ttest: 0.7958077\tbest: 0.7961548 (1041)\ttotal: 2m 18s\tremaining: 8m 39s\n"
     ]
    },
    {
     "name": "stdout",
     "output_type": "stream",
     "text": [
      "1100:\tlearn: 0.8154512\ttest: 0.7963534\tbest: 0.7965144 (1093)\ttotal: 2m 24s\tremaining: 8m 32s\n"
     ]
    },
    {
     "name": "stdout",
     "output_type": "stream",
     "text": [
      "1150:\tlearn: 0.8168220\ttest: 0.7962474\tbest: 0.7966546 (1139)\ttotal: 2m 31s\tremaining: 8m 26s\n"
     ]
    },
    {
     "name": "stdout",
     "output_type": "stream",
     "text": [
      "1200:\tlearn: 0.8182012\ttest: 0.7965979\tbest: 0.7966546 (1139)\ttotal: 2m 37s\tremaining: 8m 19s\n"
     ]
    },
    {
     "name": "stdout",
     "output_type": "stream",
     "text": [
      "1250:\tlearn: 0.8196087\ttest: 0.7964100\tbest: 0.7968812 (1210)\ttotal: 2m 44s\tremaining: 8m 12s\n"
     ]
    },
    {
     "name": "stdout",
     "output_type": "stream",
     "text": [
      "1300:\tlearn: 0.8209206\ttest: 0.7966234\tbest: 0.7968812 (1210)\ttotal: 2m 50s\tremaining: 8m 6s\n"
     ]
    },
    {
     "name": "stdout",
     "output_type": "stream",
     "text": [
      "1350:\tlearn: 0.8223307\ttest: 0.7969430\tbest: 0.7969430 (1350)\ttotal: 2m 57s\tremaining: 7m 59s\n"
     ]
    },
    {
     "name": "stdout",
     "output_type": "stream",
     "text": [
      "1400:\tlearn: 0.8237265\ttest: 0.7977227\tbest: 0.7977227 (1400)\ttotal: 3m 4s\tremaining: 7m 52s\n"
     ]
    },
    {
     "name": "stdout",
     "output_type": "stream",
     "text": [
      "1450:\tlearn: 0.8250575\ttest: 0.7976394\tbest: 0.7977227 (1400)\ttotal: 3m 10s\tremaining: 7m 46s\n"
     ]
    },
    {
     "name": "stdout",
     "output_type": "stream",
     "text": [
      "1500:\tlearn: 0.8259826\ttest: 0.7974334\tbest: 0.7978723 (1483)\ttotal: 3m 17s\tremaining: 7m 39s\n"
     ]
    },
    {
     "name": "stdout",
     "output_type": "stream",
     "text": [
      "1550:\tlearn: 0.8273740\ttest: 0.7974711\tbest: 0.7978723 (1483)\ttotal: 3m 23s\tremaining: 7m 33s\n"
     ]
    },
    {
     "name": "stdout",
     "output_type": "stream",
     "text": [
      "1600:\tlearn: 0.8285222\ttest: 0.7970566\tbest: 0.7978723 (1483)\ttotal: 3m 30s\tremaining: 7m 26s\n"
     ]
    },
    {
     "name": "stdout",
     "output_type": "stream",
     "text": [
      "1650:\tlearn: 0.8296355\ttest: 0.7969790\tbest: 0.7978723 (1483)\ttotal: 3m 37s\tremaining: 7m 20s\n"
     ]
    },
    {
     "name": "stdout",
     "output_type": "stream",
     "text": [
      "1700:\tlearn: 0.8309615\ttest: 0.7971717\tbest: 0.7978723 (1483)\ttotal: 3m 43s\tremaining: 7m 13s\n"
     ]
    },
    {
     "name": "stdout",
     "output_type": "stream",
     "text": [
      "1750:\tlearn: 0.8319105\ttest: 0.7971774\tbest: 0.7978723 (1483)\ttotal: 3m 50s\tremaining: 7m 7s\n"
     ]
    },
    {
     "name": "stdout",
     "output_type": "stream",
     "text": [
      "1800:\tlearn: 0.8332223\ttest: 0.7976638\tbest: 0.7978723 (1483)\ttotal: 3m 56s\tremaining: 7m\n"
     ]
    },
    {
     "name": "stdout",
     "output_type": "stream",
     "text": [
      "1850:\tlearn: 0.8344839\ttest: 0.7977637\tbest: 0.7980678 (1808)\ttotal: 4m 3s\tremaining: 6m 54s\n"
     ]
    },
    {
     "name": "stdout",
     "output_type": "stream",
     "text": [
      "1900:\tlearn: 0.8358784\ttest: 0.7974371\tbest: 0.7981087 (1866)\ttotal: 4m 9s\tremaining: 6m 47s\n"
     ]
    },
    {
     "name": "stdout",
     "output_type": "stream",
     "text": [
      "1950:\tlearn: 0.8367934\ttest: 0.7975286\tbest: 0.7981087 (1866)\ttotal: 4m 16s\tremaining: 6m 40s\n"
     ]
    },
    {
     "name": "stdout",
     "output_type": "stream",
     "text": [
      "2000:\tlearn: 0.8379594\ttest: 0.7973398\tbest: 0.7981087 (1866)\ttotal: 4m 23s\tremaining: 6m 34s\n"
     ]
    },
    {
     "name": "stdout",
     "output_type": "stream",
     "text": [
      "2050:\tlearn: 0.8390736\ttest: 0.7970810\tbest: 0.7981087 (1866)\ttotal: 4m 29s\tremaining: 6m 27s\n"
     ]
    },
    {
     "name": "stdout",
     "output_type": "stream",
     "text": [
      "2100:\tlearn: 0.8400895\ttest: 0.7970580\tbest: 0.7981087 (1866)\ttotal: 4m 36s\tremaining: 6m 21s\n"
     ]
    },
    {
     "name": "stdout",
     "output_type": "stream",
     "text": [
      "2150:\tlearn: 0.8411526\ttest: 0.7966932\tbest: 0.7981087 (1866)\ttotal: 4m 42s\tremaining: 6m 14s\n"
     ]
    },
    {
     "name": "stdout",
     "output_type": "stream",
     "text": [
      "2200:\tlearn: 0.8420892\ttest: 0.7971339\tbest: 0.7981087 (1866)\ttotal: 4m 49s\tremaining: 6m 7s\n"
     ]
    },
    {
     "name": "stdout",
     "output_type": "stream",
     "text": [
      "2250:\tlearn: 0.8433339\ttest: 0.7968994\tbest: 0.7981087 (1866)\ttotal: 4m 55s\tremaining: 6m 1s\n"
     ]
    },
    {
     "name": "stdout",
     "output_type": "stream",
     "text": [
      "2300:\tlearn: 0.8443215\ttest: 0.7973087\tbest: 0.7981087 (1866)\ttotal: 5m 2s\tremaining: 5m 54s\n"
     ]
    },
    {
     "name": "stdout",
     "output_type": "stream",
     "text": [
      "2350:\tlearn: 0.8453300\ttest: 0.7969401\tbest: 0.7981087 (1866)\ttotal: 5m 9s\tremaining: 5m 48s\n"
     ]
    },
    {
     "name": "stdout",
     "output_type": "stream",
     "text": [
      "2400:\tlearn: 0.8467749\ttest: 0.7965835\tbest: 0.7981087 (1866)\ttotal: 5m 15s\tremaining: 5m 41s\n"
     ]
    },
    {
     "name": "stdout",
     "output_type": "stream",
     "text": [
      "2450:\tlearn: 0.8475405\ttest: 0.7966557\tbest: 0.7981087 (1866)\ttotal: 5m 22s\tremaining: 5m 35s\n"
     ]
    },
    {
     "name": "stdout",
     "output_type": "stream",
     "text": [
      "2500:\tlearn: 0.8487863\ttest: 0.7972043\tbest: 0.7981087 (1866)\ttotal: 5m 28s\tremaining: 5m 28s\n"
     ]
    },
    {
     "name": "stdout",
     "output_type": "stream",
     "text": [
      "2550:\tlearn: 0.8499961\ttest: 0.7968484\tbest: 0.7981087 (1866)\ttotal: 5m 35s\tremaining: 5m 22s\n"
     ]
    },
    {
     "name": "stdout",
     "output_type": "stream",
     "text": [
      "2600:\tlearn: 0.8507059\ttest: 0.7970913\tbest: 0.7981087 (1866)\ttotal: 5m 42s\tremaining: 5m 15s\n"
     ]
    },
    {
     "name": "stdout",
     "output_type": "stream",
     "text": [
      "2650:\tlearn: 0.8518686\ttest: 0.7969621\tbest: 0.7981087 (1866)\ttotal: 5m 48s\tremaining: 5m 8s\n"
     ]
    },
    {
     "name": "stdout",
     "output_type": "stream",
     "text": [
      "2700:\tlearn: 0.8527939\ttest: 0.7971692\tbest: 0.7981087 (1866)\ttotal: 5m 55s\tremaining: 5m 2s\n"
     ]
    },
    {
     "name": "stdout",
     "output_type": "stream",
     "text": [
      "2750:\tlearn: 0.8536948\ttest: 0.7972814\tbest: 0.7981087 (1866)\ttotal: 6m 1s\tremaining: 4m 55s\n"
     ]
    },
    {
     "name": "stdout",
     "output_type": "stream",
     "text": [
      "2800:\tlearn: 0.8549218\ttest: 0.7972244\tbest: 0.7981087 (1866)\ttotal: 6m 8s\tremaining: 4m 49s\n"
     ]
    },
    {
     "name": "stdout",
     "output_type": "stream",
     "text": [
      "2850:\tlearn: 0.8558693\ttest: 0.7969009\tbest: 0.7981087 (1866)\ttotal: 6m 14s\tremaining: 4m 42s\n"
     ]
    },
    {
     "name": "stdout",
     "output_type": "stream",
     "text": [
      "2900:\tlearn: 0.8570168\ttest: 0.7968171\tbest: 0.7981087 (1866)\ttotal: 6m 21s\tremaining: 4m 36s\n"
     ]
    },
    {
     "name": "stdout",
     "output_type": "stream",
     "text": [
      "2950:\tlearn: 0.8578341\ttest: 0.7970160\tbest: 0.7981087 (1866)\ttotal: 6m 28s\tremaining: 4m 29s\n"
     ]
    },
    {
     "name": "stdout",
     "output_type": "stream",
     "text": [
      "3000:\tlearn: 0.8586592\ttest: 0.7971118\tbest: 0.7981087 (1866)\ttotal: 6m 34s\tremaining: 4m 22s\n"
     ]
    },
    {
     "name": "stdout",
     "output_type": "stream",
     "text": [
      "3050:\tlearn: 0.8594955\ttest: 0.7967918\tbest: 0.7981087 (1866)\ttotal: 6m 41s\tremaining: 4m 16s\n"
     ]
    },
    {
     "name": "stdout",
     "output_type": "stream",
     "text": [
      "3100:\tlearn: 0.8601906\ttest: 0.7974080\tbest: 0.7981087 (1866)\ttotal: 6m 47s\tremaining: 4m 9s\n"
     ]
    },
    {
     "name": "stdout",
     "output_type": "stream",
     "text": [
      "3150:\tlearn: 0.8610721\ttest: 0.7970290\tbest: 0.7981087 (1866)\ttotal: 6m 54s\tremaining: 4m 3s\n"
     ]
    },
    {
     "name": "stdout",
     "output_type": "stream",
     "text": [
      "3200:\tlearn: 0.8620109\ttest: 0.7966440\tbest: 0.7981087 (1866)\ttotal: 7m\tremaining: 3m 56s\n"
     ]
    },
    {
     "name": "stdout",
     "output_type": "stream",
     "text": [
      "3250:\tlearn: 0.8630067\ttest: 0.7970472\tbest: 0.7981087 (1866)\ttotal: 7m 7s\tremaining: 3m 49s\n"
     ]
    },
    {
     "name": "stdout",
     "output_type": "stream",
     "text": [
      "3300:\tlearn: 0.8640959\ttest: 0.7971806\tbest: 0.7981087 (1866)\ttotal: 7m 13s\tremaining: 3m 43s\n"
     ]
    },
    {
     "name": "stdout",
     "output_type": "stream",
     "text": [
      "3350:\tlearn: 0.8650295\ttest: 0.7969961\tbest: 0.7981087 (1866)\ttotal: 7m 20s\tremaining: 3m 36s\n"
     ]
    },
    {
     "name": "stdout",
     "output_type": "stream",
     "text": [
      "3400:\tlearn: 0.8656905\ttest: 0.7970208\tbest: 0.7981087 (1866)\ttotal: 7m 26s\tremaining: 3m 30s\n"
     ]
    },
    {
     "name": "stdout",
     "output_type": "stream",
     "text": [
      "3450:\tlearn: 0.8668236\ttest: 0.7972990\tbest: 0.7981087 (1866)\ttotal: 7m 33s\tremaining: 3m 23s\n"
     ]
    },
    {
     "name": "stdout",
     "output_type": "stream",
     "text": [
      "3500:\tlearn: 0.8676962\ttest: 0.7972615\tbest: 0.7981087 (1866)\ttotal: 7m 39s\tremaining: 3m 16s\n"
     ]
    },
    {
     "name": "stdout",
     "output_type": "stream",
     "text": [
      "3550:\tlearn: 0.8688639\ttest: 0.7974835\tbest: 0.7981087 (1866)\ttotal: 7m 46s\tremaining: 3m 10s\n"
     ]
    },
    {
     "name": "stdout",
     "output_type": "stream",
     "text": [
      "3600:\tlearn: 0.8696611\ttest: 0.7974630\tbest: 0.7981087 (1866)\ttotal: 7m 52s\tremaining: 3m 3s\n"
     ]
    },
    {
     "name": "stdout",
     "output_type": "stream",
     "text": [
      "3650:\tlearn: 0.8706582\ttest: 0.7969182\tbest: 0.7981087 (1866)\ttotal: 7m 59s\tremaining: 2m 57s\n"
     ]
    },
    {
     "name": "stdout",
     "output_type": "stream",
     "text": [
      "3700:\tlearn: 0.8714192\ttest: 0.7964611\tbest: 0.7981087 (1866)\ttotal: 8m 6s\tremaining: 2m 50s\n"
     ]
    },
    {
     "name": "stdout",
     "output_type": "stream",
     "text": [
      "3750:\tlearn: 0.8724797\ttest: 0.7970167\tbest: 0.7981087 (1866)\ttotal: 8m 12s\tremaining: 2m 44s\n"
     ]
    },
    {
     "name": "stdout",
     "output_type": "stream",
     "text": [
      "3800:\tlearn: 0.8734152\ttest: 0.7966925\tbest: 0.7981087 (1866)\ttotal: 8m 19s\tremaining: 2m 37s\n"
     ]
    },
    {
     "name": "stdout",
     "output_type": "stream",
     "text": [
      "3850:\tlearn: 0.8742678\ttest: 0.7968819\tbest: 0.7981087 (1866)\ttotal: 8m 25s\tremaining: 2m 30s\n"
     ]
    },
    {
     "name": "stdout",
     "output_type": "stream",
     "text": [
      "3900:\tlearn: 0.8752574\ttest: 0.7970190\tbest: 0.7981087 (1866)\ttotal: 8m 32s\tremaining: 2m 24s\n"
     ]
    },
    {
     "name": "stdout",
     "output_type": "stream",
     "text": [
      "3950:\tlearn: 0.8760445\ttest: 0.7970448\tbest: 0.7981087 (1866)\ttotal: 8m 38s\tremaining: 2m 17s\n"
     ]
    },
    {
     "name": "stdout",
     "output_type": "stream",
     "text": [
      "4000:\tlearn: 0.8768562\ttest: 0.7967248\tbest: 0.7981087 (1866)\ttotal: 8m 45s\tremaining: 2m 11s\n"
     ]
    },
    {
     "name": "stdout",
     "output_type": "stream",
     "text": [
      "4050:\tlearn: 0.8777067\ttest: 0.7967090\tbest: 0.7981087 (1866)\ttotal: 8m 51s\tremaining: 2m 4s\n"
     ]
    },
    {
     "name": "stdout",
     "output_type": "stream",
     "text": [
      "4100:\tlearn: 0.8786097\ttest: 0.7965762\tbest: 0.7981087 (1866)\ttotal: 8m 58s\tremaining: 1m 58s\n"
     ]
    },
    {
     "name": "stdout",
     "output_type": "stream",
     "text": [
      "4150:\tlearn: 0.8795969\ttest: 0.7972711\tbest: 0.7981087 (1866)\ttotal: 9m 5s\tremaining: 1m 51s\n"
     ]
    },
    {
     "name": "stdout",
     "output_type": "stream",
     "text": [
      "4200:\tlearn: 0.8803876\ttest: 0.7972176\tbest: 0.7981087 (1866)\ttotal: 9m 11s\tremaining: 1m 44s\n"
     ]
    },
    {
     "name": "stdout",
     "output_type": "stream",
     "text": [
      "4250:\tlearn: 0.8814333\ttest: 0.7974496\tbest: 0.7981087 (1866)\ttotal: 9m 18s\tremaining: 1m 38s\n"
     ]
    },
    {
     "name": "stdout",
     "output_type": "stream",
     "text": [
      "4300:\tlearn: 0.8822712\ttest: 0.7971776\tbest: 0.7981087 (1866)\ttotal: 9m 24s\tremaining: 1m 31s\n"
     ]
    },
    {
     "name": "stdout",
     "output_type": "stream",
     "text": [
      "4350:\tlearn: 0.8830134\ttest: 0.7971421\tbest: 0.7981087 (1866)\ttotal: 9m 31s\tremaining: 1m 25s\n"
     ]
    },
    {
     "name": "stdout",
     "output_type": "stream",
     "text": [
      "4400:\tlearn: 0.8839431\ttest: 0.7972307\tbest: 0.7981087 (1866)\ttotal: 9m 38s\tremaining: 1m 18s\n"
     ]
    },
    {
     "name": "stdout",
     "output_type": "stream",
     "text": [
      "4450:\tlearn: 0.8845130\ttest: 0.7974091\tbest: 0.7981087 (1866)\ttotal: 9m 44s\tremaining: 1m 12s\n"
     ]
    },
    {
     "name": "stdout",
     "output_type": "stream",
     "text": [
      "4500:\tlearn: 0.8853447\ttest: 0.7972844\tbest: 0.7981087 (1866)\ttotal: 9m 51s\tremaining: 1m 5s\n"
     ]
    },
    {
     "name": "stdout",
     "output_type": "stream",
     "text": [
      "4550:\tlearn: 0.8862505\ttest: 0.7972498\tbest: 0.7981087 (1866)\ttotal: 9m 57s\tremaining: 59s\n"
     ]
    },
    {
     "name": "stdout",
     "output_type": "stream",
     "text": [
      "4600:\tlearn: 0.8870479\ttest: 0.7968507\tbest: 0.7981087 (1866)\ttotal: 10m 4s\tremaining: 52.4s\n"
     ]
    },
    {
     "name": "stdout",
     "output_type": "stream",
     "text": [
      "4650:\tlearn: 0.8880305\ttest: 0.7964501\tbest: 0.7981087 (1866)\ttotal: 10m 11s\tremaining: 45.8s\n"
     ]
    },
    {
     "name": "stdout",
     "output_type": "stream",
     "text": [
      "4700:\tlearn: 0.8886711\ttest: 0.7967757\tbest: 0.7981087 (1866)\ttotal: 10m 17s\tremaining: 39.3s\n"
     ]
    },
    {
     "name": "stdout",
     "output_type": "stream",
     "text": [
      "4750:\tlearn: 0.8892931\ttest: 0.7965038\tbest: 0.7981087 (1866)\ttotal: 10m 24s\tremaining: 32.7s\n"
     ]
    },
    {
     "name": "stdout",
     "output_type": "stream",
     "text": [
      "4800:\tlearn: 0.8902978\ttest: 0.7969130\tbest: 0.7981087 (1866)\ttotal: 10m 30s\tremaining: 26.1s\n"
     ]
    },
    {
     "name": "stdout",
     "output_type": "stream",
     "text": [
      "4850:\tlearn: 0.8909421\ttest: 0.7975410\tbest: 0.7981087 (1866)\ttotal: 10m 37s\tremaining: 19.6s\n"
     ]
    },
    {
     "name": "stdout",
     "output_type": "stream",
     "text": [
      "4900:\tlearn: 0.8917817\ttest: 0.7972681\tbest: 0.7981087 (1866)\ttotal: 10m 44s\tremaining: 13s\n"
     ]
    },
    {
     "name": "stdout",
     "output_type": "stream",
     "text": [
      "4950:\tlearn: 0.8924131\ttest: 0.7971956\tbest: 0.7981087 (1866)\ttotal: 10m 50s\tremaining: 6.44s\n"
     ]
    },
    {
     "name": "stdout",
     "output_type": "stream",
     "text": [
      "4999:\tlearn: 0.8933178\ttest: 0.7974500\tbest: 0.7981087 (1866)\ttotal: 10m 56s\tremaining: 0us\n",
      "\n",
      "bestTest = 0.7981086888\n",
      "bestIteration = 1866\n",
      "\n"
     ]
    },
    {
     "name": "stdout",
     "output_type": "stream",
     "text": [
      "######################################## training model 4/5 ########################################\n",
      "seed: 13\n"
     ]
    },
    {
     "name": "stdout",
     "output_type": "stream",
     "text": [
      "0:\tlearn: 0.5260637\ttest: 0.5328851\tbest: 0.5328851 (0)\ttotal: 444ms\tremaining: 37m 1s\n"
     ]
    },
    {
     "name": "stdout",
     "output_type": "stream",
     "text": [
      "50:\tlearn: 0.7409767\ttest: 0.7464195\tbest: 0.7464195 (50)\ttotal: 6.85s\tremaining: 11m 4s\n"
     ]
    },
    {
     "name": "stdout",
     "output_type": "stream",
     "text": [
      "100:\tlearn: 0.7555688\ttest: 0.7592169\tbest: 0.7592169 (100)\ttotal: 13.3s\tremaining: 10m 45s\n"
     ]
    },
    {
     "name": "stdout",
     "output_type": "stream",
     "text": [
      "150:\tlearn: 0.7614834\ttest: 0.7647401\tbest: 0.7647519 (148)\ttotal: 19.8s\tremaining: 10m 35s\n"
     ]
    },
    {
     "name": "stdout",
     "output_type": "stream",
     "text": [
      "200:\tlearn: 0.7668222\ttest: 0.7711763\tbest: 0.7712456 (199)\ttotal: 26.3s\tremaining: 10m 27s\n"
     ]
    },
    {
     "name": "stdout",
     "output_type": "stream",
     "text": [
      "250:\tlearn: 0.7704875\ttest: 0.7750725\tbest: 0.7750725 (250)\ttotal: 32.8s\tremaining: 10m 20s\n"
     ]
    },
    {
     "name": "stdout",
     "output_type": "stream",
     "text": [
      "300:\tlearn: 0.7754446\ttest: 0.7805821\tbest: 0.7805821 (300)\ttotal: 39.2s\tremaining: 10m 12s\n"
     ]
    },
    {
     "name": "stdout",
     "output_type": "stream",
     "text": [
      "350:\tlearn: 0.7818148\ttest: 0.7861405\tbest: 0.7862006 (349)\ttotal: 45.7s\tremaining: 10m 5s\n"
     ]
    },
    {
     "name": "stdout",
     "output_type": "stream",
     "text": [
      "400:\tlearn: 0.7864750\ttest: 0.7893327\tbest: 0.7893327 (400)\ttotal: 52.2s\tremaining: 9m 59s\n"
     ]
    },
    {
     "name": "stdout",
     "output_type": "stream",
     "text": [
      "450:\tlearn: 0.7898935\ttest: 0.7909088\tbest: 0.7909088 (450)\ttotal: 58.8s\tremaining: 9m 52s\n"
     ]
    },
    {
     "name": "stdout",
     "output_type": "stream",
     "text": [
      "500:\tlearn: 0.7924638\ttest: 0.7926575\tbest: 0.7928051 (497)\ttotal: 1m 5s\tremaining: 9m 45s\n"
     ]
    },
    {
     "name": "stdout",
     "output_type": "stream",
     "text": [
      "550:\tlearn: 0.7949305\ttest: 0.7937796\tbest: 0.7937796 (550)\ttotal: 1m 11s\tremaining: 9m 39s\n"
     ]
    },
    {
     "name": "stdout",
     "output_type": "stream",
     "text": [
      "600:\tlearn: 0.7970644\ttest: 0.7945805\tbest: 0.7946739 (593)\ttotal: 1m 18s\tremaining: 9m 33s\n"
     ]
    },
    {
     "name": "stdout",
     "output_type": "stream",
     "text": [
      "650:\tlearn: 0.7987566\ttest: 0.7949376\tbest: 0.7950561 (647)\ttotal: 1m 24s\tremaining: 9m 26s\n"
     ]
    },
    {
     "name": "stdout",
     "output_type": "stream",
     "text": [
      "700:\tlearn: 0.8006925\ttest: 0.7955458\tbest: 0.7959928 (696)\ttotal: 1m 31s\tremaining: 9m 21s\n"
     ]
    },
    {
     "name": "stdout",
     "output_type": "stream",
     "text": [
      "750:\tlearn: 0.8026921\ttest: 0.7967483\tbest: 0.7967483 (750)\ttotal: 1m 38s\tremaining: 9m 14s\n"
     ]
    },
    {
     "name": "stdout",
     "output_type": "stream",
     "text": [
      "800:\tlearn: 0.8041370\ttest: 0.7967535\tbest: 0.7967925 (799)\ttotal: 1m 44s\tremaining: 9m 8s\n"
     ]
    },
    {
     "name": "stdout",
     "output_type": "stream",
     "text": [
      "850:\tlearn: 0.8057401\ttest: 0.7968207\tbest: 0.7971051 (845)\ttotal: 1m 51s\tremaining: 9m 2s\n"
     ]
    },
    {
     "name": "stdout",
     "output_type": "stream",
     "text": [
      "900:\tlearn: 0.8076179\ttest: 0.7974151\tbest: 0.7977310 (878)\ttotal: 1m 57s\tremaining: 8m 55s\n"
     ]
    },
    {
     "name": "stdout",
     "output_type": "stream",
     "text": [
      "950:\tlearn: 0.8089409\ttest: 0.7985007\tbest: 0.7985122 (944)\ttotal: 2m 4s\tremaining: 8m 49s\n"
     ]
    },
    {
     "name": "stdout",
     "output_type": "stream",
     "text": [
      "1000:\tlearn: 0.8104625\ttest: 0.7992972\tbest: 0.7992972 (1000)\ttotal: 2m 10s\tremaining: 8m 43s\n"
     ]
    },
    {
     "name": "stdout",
     "output_type": "stream",
     "text": [
      "1050:\tlearn: 0.8119135\ttest: 0.7993305\tbest: 0.7996438 (1044)\ttotal: 2m 17s\tremaining: 8m 36s\n"
     ]
    },
    {
     "name": "stdout",
     "output_type": "stream",
     "text": [
      "1100:\tlearn: 0.8136160\ttest: 0.7989599\tbest: 0.7996438 (1044)\ttotal: 2m 24s\tremaining: 8m 30s\n"
     ]
    },
    {
     "name": "stdout",
     "output_type": "stream",
     "text": [
      "1150:\tlearn: 0.8150598\ttest: 0.7991505\tbest: 0.7996438 (1044)\ttotal: 2m 30s\tremaining: 8m 23s\n"
     ]
    },
    {
     "name": "stdout",
     "output_type": "stream",
     "text": [
      "1200:\tlearn: 0.8164039\ttest: 0.7996646\tbest: 0.7999074 (1190)\ttotal: 2m 37s\tremaining: 8m 17s\n"
     ]
    },
    {
     "name": "stdout",
     "output_type": "stream",
     "text": [
      "1250:\tlearn: 0.8176821\ttest: 0.7995495\tbest: 0.7999344 (1215)\ttotal: 2m 43s\tremaining: 8m 10s\n"
     ]
    },
    {
     "name": "stdout",
     "output_type": "stream",
     "text": [
      "1300:\tlearn: 0.8189302\ttest: 0.7998019\tbest: 0.8001143 (1294)\ttotal: 2m 50s\tremaining: 8m 4s\n"
     ]
    },
    {
     "name": "stdout",
     "output_type": "stream",
     "text": [
      "1350:\tlearn: 0.8200022\ttest: 0.7996758\tbest: 0.8001143 (1294)\ttotal: 2m 56s\tremaining: 7m 57s\n"
     ]
    },
    {
     "name": "stdout",
     "output_type": "stream",
     "text": [
      "1400:\tlearn: 0.8213715\ttest: 0.7996912\tbest: 0.8001143 (1294)\ttotal: 3m 3s\tremaining: 7m 51s\n"
     ]
    },
    {
     "name": "stdout",
     "output_type": "stream",
     "text": [
      "1450:\tlearn: 0.8225896\ttest: 0.7996423\tbest: 0.8001143 (1294)\ttotal: 3m 10s\tremaining: 7m 44s\n"
     ]
    },
    {
     "name": "stdout",
     "output_type": "stream",
     "text": [
      "1500:\tlearn: 0.8239009\ttest: 0.7996951\tbest: 0.8001143 (1294)\ttotal: 3m 16s\tremaining: 7m 38s\n"
     ]
    },
    {
     "name": "stdout",
     "output_type": "stream",
     "text": [
      "1550:\tlearn: 0.8248997\ttest: 0.8001377\tbest: 0.8001377 (1550)\ttotal: 3m 23s\tremaining: 7m 31s\n"
     ]
    },
    {
     "name": "stdout",
     "output_type": "stream",
     "text": [
      "1600:\tlearn: 0.8264728\ttest: 0.8007810\tbest: 0.8010192 (1574)\ttotal: 3m 29s\tremaining: 7m 25s\n"
     ]
    },
    {
     "name": "stdout",
     "output_type": "stream",
     "text": [
      "1650:\tlearn: 0.8274775\ttest: 0.8005270\tbest: 0.8010192 (1574)\ttotal: 3m 36s\tremaining: 7m 19s\n"
     ]
    },
    {
     "name": "stdout",
     "output_type": "stream",
     "text": [
      "1700:\tlearn: 0.8285300\ttest: 0.8007054\tbest: 0.8010192 (1574)\ttotal: 3m 43s\tremaining: 7m 12s\n"
     ]
    },
    {
     "name": "stdout",
     "output_type": "stream",
     "text": [
      "1750:\tlearn: 0.8299497\ttest: 0.8004659\tbest: 0.8011677 (1704)\ttotal: 3m 49s\tremaining: 7m 6s\n"
     ]
    },
    {
     "name": "stdout",
     "output_type": "stream",
     "text": [
      "1800:\tlearn: 0.8309199\ttest: 0.8009920\tbest: 0.8011677 (1704)\ttotal: 3m 56s\tremaining: 6m 59s\n"
     ]
    },
    {
     "name": "stdout",
     "output_type": "stream",
     "text": [
      "1850:\tlearn: 0.8319228\ttest: 0.8010214\tbest: 0.8011875 (1819)\ttotal: 4m 2s\tremaining: 6m 53s\n"
     ]
    },
    {
     "name": "stdout",
     "output_type": "stream",
     "text": [
      "1900:\tlearn: 0.8331326\ttest: 0.8010674\tbest: 0.8011875 (1819)\ttotal: 4m 9s\tremaining: 6m 46s\n"
     ]
    },
    {
     "name": "stdout",
     "output_type": "stream",
     "text": [
      "1950:\tlearn: 0.8344258\ttest: 0.8014652\tbest: 0.8015886 (1944)\ttotal: 4m 16s\tremaining: 6m 40s\n"
     ]
    },
    {
     "name": "stdout",
     "output_type": "stream",
     "text": [
      "2000:\tlearn: 0.8356651\ttest: 0.8016694\tbest: 0.8018961 (1990)\ttotal: 4m 22s\tremaining: 6m 33s\n"
     ]
    },
    {
     "name": "stdout",
     "output_type": "stream",
     "text": [
      "2050:\tlearn: 0.8368392\ttest: 0.8018259\tbest: 0.8020356 (2041)\ttotal: 4m 29s\tremaining: 6m 27s\n"
     ]
    },
    {
     "name": "stdout",
     "output_type": "stream",
     "text": [
      "2100:\tlearn: 0.8382295\ttest: 0.8016116\tbest: 0.8020356 (2041)\ttotal: 4m 35s\tremaining: 6m 20s\n"
     ]
    },
    {
     "name": "stdout",
     "output_type": "stream",
     "text": [
      "2150:\tlearn: 0.8392919\ttest: 0.8015933\tbest: 0.8021346 (2127)\ttotal: 4m 42s\tremaining: 6m 14s\n"
     ]
    },
    {
     "name": "stdout",
     "output_type": "stream",
     "text": [
      "2200:\tlearn: 0.8404757\ttest: 0.8011785\tbest: 0.8021346 (2127)\ttotal: 4m 49s\tremaining: 6m 7s\n"
     ]
    },
    {
     "name": "stdout",
     "output_type": "stream",
     "text": [
      "2250:\tlearn: 0.8416006\ttest: 0.8012520\tbest: 0.8021346 (2127)\ttotal: 4m 55s\tremaining: 6m 1s\n"
     ]
    },
    {
     "name": "stdout",
     "output_type": "stream",
     "text": [
      "2300:\tlearn: 0.8429104\ttest: 0.8016843\tbest: 0.8021346 (2127)\ttotal: 5m 2s\tremaining: 5m 54s\n"
     ]
    },
    {
     "name": "stdout",
     "output_type": "stream",
     "text": [
      "2350:\tlearn: 0.8438655\ttest: 0.8014835\tbest: 0.8021346 (2127)\ttotal: 5m 8s\tremaining: 5m 48s\n"
     ]
    },
    {
     "name": "stdout",
     "output_type": "stream",
     "text": [
      "2400:\tlearn: 0.8450754\ttest: 0.8013697\tbest: 0.8021346 (2127)\ttotal: 5m 15s\tremaining: 5m 41s\n"
     ]
    },
    {
     "name": "stdout",
     "output_type": "stream",
     "text": [
      "2450:\tlearn: 0.8461086\ttest: 0.8017186\tbest: 0.8021346 (2127)\ttotal: 5m 22s\tremaining: 5m 34s\n"
     ]
    },
    {
     "name": "stdout",
     "output_type": "stream",
     "text": [
      "2500:\tlearn: 0.8469813\ttest: 0.8017049\tbest: 0.8021346 (2127)\ttotal: 5m 28s\tremaining: 5m 28s\n"
     ]
    },
    {
     "name": "stdout",
     "output_type": "stream",
     "text": [
      "2550:\tlearn: 0.8481139\ttest: 0.8021184\tbest: 0.8022872 (2548)\ttotal: 5m 35s\tremaining: 5m 21s\n"
     ]
    },
    {
     "name": "stdout",
     "output_type": "stream",
     "text": [
      "2600:\tlearn: 0.8491434\ttest: 0.8019817\tbest: 0.8025863 (2568)\ttotal: 5m 41s\tremaining: 5m 15s\n"
     ]
    },
    {
     "name": "stdout",
     "output_type": "stream",
     "text": [
      "2650:\tlearn: 0.8503452\ttest: 0.8019066\tbest: 0.8025863 (2568)\ttotal: 5m 48s\tremaining: 5m 8s\n"
     ]
    },
    {
     "name": "stdout",
     "output_type": "stream",
     "text": [
      "2700:\tlearn: 0.8514520\ttest: 0.8028499\tbest: 0.8029969 (2699)\ttotal: 5m 54s\tremaining: 5m 1s\n"
     ]
    },
    {
     "name": "stdout",
     "output_type": "stream",
     "text": [
      "2750:\tlearn: 0.8524128\ttest: 0.8024022\tbest: 0.8029969 (2699)\ttotal: 6m 1s\tremaining: 4m 55s\n"
     ]
    },
    {
     "name": "stdout",
     "output_type": "stream",
     "text": [
      "2800:\tlearn: 0.8533630\ttest: 0.8021023\tbest: 0.8029969 (2699)\ttotal: 6m 7s\tremaining: 4m 48s\n"
     ]
    },
    {
     "name": "stdout",
     "output_type": "stream",
     "text": [
      "2850:\tlearn: 0.8542178\ttest: 0.8025193\tbest: 0.8029969 (2699)\ttotal: 6m 13s\tremaining: 4m 41s\n"
     ]
    },
    {
     "name": "stdout",
     "output_type": "stream",
     "text": [
      "2900:\tlearn: 0.8552464\ttest: 0.8025005\tbest: 0.8029969 (2699)\ttotal: 6m 20s\tremaining: 4m 35s\n"
     ]
    },
    {
     "name": "stdout",
     "output_type": "stream",
     "text": [
      "2950:\tlearn: 0.8558923\ttest: 0.8021946\tbest: 0.8029969 (2699)\ttotal: 6m 26s\tremaining: 4m 28s\n"
     ]
    },
    {
     "name": "stdout",
     "output_type": "stream",
     "text": [
      "3000:\tlearn: 0.8570097\ttest: 0.8023041\tbest: 0.8029969 (2699)\ttotal: 6m 33s\tremaining: 4m 21s\n"
     ]
    },
    {
     "name": "stdout",
     "output_type": "stream",
     "text": [
      "3050:\tlearn: 0.8580443\ttest: 0.8023756\tbest: 0.8029969 (2699)\ttotal: 6m 39s\tremaining: 4m 15s\n"
     ]
    },
    {
     "name": "stdout",
     "output_type": "stream",
     "text": [
      "3100:\tlearn: 0.8589239\ttest: 0.8024491\tbest: 0.8029969 (2699)\ttotal: 6m 46s\tremaining: 4m 8s\n"
     ]
    },
    {
     "name": "stdout",
     "output_type": "stream",
     "text": [
      "3150:\tlearn: 0.8600181\ttest: 0.8027003\tbest: 0.8029969 (2699)\ttotal: 6m 52s\tremaining: 4m 2s\n"
     ]
    },
    {
     "name": "stdout",
     "output_type": "stream",
     "text": [
      "3200:\tlearn: 0.8610191\ttest: 0.8028348\tbest: 0.8031290 (3197)\ttotal: 6m 59s\tremaining: 3m 55s\n"
     ]
    },
    {
     "name": "stdout",
     "output_type": "stream",
     "text": [
      "3250:\tlearn: 0.8619143\ttest: 0.8028657\tbest: 0.8031290 (3197)\ttotal: 7m 5s\tremaining: 3m 49s\n"
     ]
    },
    {
     "name": "stdout",
     "output_type": "stream",
     "text": [
      "3300:\tlearn: 0.8629556\ttest: 0.8026572\tbest: 0.8031290 (3197)\ttotal: 7m 12s\tremaining: 3m 42s\n"
     ]
    },
    {
     "name": "stdout",
     "output_type": "stream",
     "text": [
      "3350:\tlearn: 0.8637967\ttest: 0.8025768\tbest: 0.8031290 (3197)\ttotal: 7m 19s\tremaining: 3m 36s\n"
     ]
    },
    {
     "name": "stdout",
     "output_type": "stream",
     "text": [
      "3400:\tlearn: 0.8647145\ttest: 0.8026899\tbest: 0.8031290 (3197)\ttotal: 7m 25s\tremaining: 3m 29s\n"
     ]
    },
    {
     "name": "stdout",
     "output_type": "stream",
     "text": [
      "3450:\tlearn: 0.8655163\ttest: 0.8031546\tbest: 0.8033412 (3446)\ttotal: 7m 32s\tremaining: 3m 23s\n"
     ]
    },
    {
     "name": "stdout",
     "output_type": "stream",
     "text": [
      "3500:\tlearn: 0.8663928\ttest: 0.8030795\tbest: 0.8033412 (3446)\ttotal: 7m 38s\tremaining: 3m 16s\n"
     ]
    },
    {
     "name": "stdout",
     "output_type": "stream",
     "text": [
      "3550:\tlearn: 0.8676524\ttest: 0.8029924\tbest: 0.8033412 (3446)\ttotal: 7m 45s\tremaining: 3m 9s\n"
     ]
    },
    {
     "name": "stdout",
     "output_type": "stream",
     "text": [
      "3600:\tlearn: 0.8684216\ttest: 0.8027867\tbest: 0.8033921 (3554)\ttotal: 7m 52s\tremaining: 3m 3s\n"
     ]
    },
    {
     "name": "stdout",
     "output_type": "stream",
     "text": [
      "3650:\tlearn: 0.8691187\ttest: 0.8029701\tbest: 0.8033921 (3554)\ttotal: 7m 58s\tremaining: 2m 56s\n"
     ]
    },
    {
     "name": "stdout",
     "output_type": "stream",
     "text": [
      "3700:\tlearn: 0.8701931\ttest: 0.8033947\tbest: 0.8036054 (3698)\ttotal: 8m 5s\tremaining: 2m 50s\n"
     ]
    },
    {
     "name": "stdout",
     "output_type": "stream",
     "text": [
      "3750:\tlearn: 0.8710628\ttest: 0.8036121\tbest: 0.8036757 (3747)\ttotal: 8m 11s\tremaining: 2m 43s\n"
     ]
    },
    {
     "name": "stdout",
     "output_type": "stream",
     "text": [
      "3800:\tlearn: 0.8719906\ttest: 0.8033950\tbest: 0.8036988 (3775)\ttotal: 8m 18s\tremaining: 2m 37s\n"
     ]
    },
    {
     "name": "stdout",
     "output_type": "stream",
     "text": [
      "3850:\tlearn: 0.8729136\ttest: 0.8032138\tbest: 0.8036988 (3775)\ttotal: 8m 25s\tremaining: 2m 30s\n"
     ]
    },
    {
     "name": "stdout",
     "output_type": "stream",
     "text": [
      "3900:\tlearn: 0.8736187\ttest: 0.8032064\tbest: 0.8036988 (3775)\ttotal: 8m 31s\tremaining: 2m 24s\n"
     ]
    },
    {
     "name": "stdout",
     "output_type": "stream",
     "text": [
      "3950:\tlearn: 0.8745722\ttest: 0.8031533\tbest: 0.8036988 (3775)\ttotal: 8m 38s\tremaining: 2m 17s\n"
     ]
    },
    {
     "name": "stdout",
     "output_type": "stream",
     "text": [
      "4000:\tlearn: 0.8754685\ttest: 0.8029253\tbest: 0.8036988 (3775)\ttotal: 8m 44s\tremaining: 2m 11s\n"
     ]
    },
    {
     "name": "stdout",
     "output_type": "stream",
     "text": [
      "4050:\tlearn: 0.8763179\ttest: 0.8031770\tbest: 0.8036988 (3775)\ttotal: 8m 51s\tremaining: 2m 4s\n"
     ]
    },
    {
     "name": "stdout",
     "output_type": "stream",
     "text": [
      "4100:\tlearn: 0.8772352\ttest: 0.8033511\tbest: 0.8036988 (3775)\ttotal: 8m 57s\tremaining: 1m 57s\n"
     ]
    },
    {
     "name": "stdout",
     "output_type": "stream",
     "text": [
      "4150:\tlearn: 0.8783225\ttest: 0.8034616\tbest: 0.8036988 (3775)\ttotal: 9m 4s\tremaining: 1m 51s\n"
     ]
    },
    {
     "name": "stdout",
     "output_type": "stream",
     "text": [
      "4200:\tlearn: 0.8792355\ttest: 0.8035966\tbest: 0.8036988 (3775)\ttotal: 9m 11s\tremaining: 1m 44s\n"
     ]
    },
    {
     "name": "stdout",
     "output_type": "stream",
     "text": [
      "4250:\tlearn: 0.8799741\ttest: 0.8030267\tbest: 0.8036988 (3775)\ttotal: 9m 17s\tremaining: 1m 38s\n"
     ]
    },
    {
     "name": "stdout",
     "output_type": "stream",
     "text": [
      "4300:\tlearn: 0.8806578\ttest: 0.8031285\tbest: 0.8036988 (3775)\ttotal: 9m 24s\tremaining: 1m 31s\n"
     ]
    },
    {
     "name": "stdout",
     "output_type": "stream",
     "text": [
      "4350:\tlearn: 0.8815444\ttest: 0.8031078\tbest: 0.8036988 (3775)\ttotal: 9m 31s\tremaining: 1m 25s\n"
     ]
    },
    {
     "name": "stdout",
     "output_type": "stream",
     "text": [
      "4400:\tlearn: 0.8821901\ttest: 0.8036262\tbest: 0.8036988 (3775)\ttotal: 9m 37s\tremaining: 1m 18s\n"
     ]
    },
    {
     "name": "stdout",
     "output_type": "stream",
     "text": [
      "4450:\tlearn: 0.8830830\ttest: 0.8033846\tbest: 0.8036988 (3775)\ttotal: 9m 44s\tremaining: 1m 12s\n"
     ]
    },
    {
     "name": "stdout",
     "output_type": "stream",
     "text": [
      "4500:\tlearn: 0.8838382\ttest: 0.8035265\tbest: 0.8036988 (3775)\ttotal: 9m 50s\tremaining: 1m 5s\n"
     ]
    },
    {
     "name": "stdout",
     "output_type": "stream",
     "text": [
      "4550:\tlearn: 0.8846441\ttest: 0.8037976\tbest: 0.8039504 (4525)\ttotal: 9m 57s\tremaining: 58.9s\n"
     ]
    },
    {
     "name": "stdout",
     "output_type": "stream",
     "text": [
      "4600:\tlearn: 0.8854637\ttest: 0.8036209\tbest: 0.8042915 (4588)\ttotal: 10m 3s\tremaining: 52.4s\n"
     ]
    },
    {
     "name": "stdout",
     "output_type": "stream",
     "text": [
      "4650:\tlearn: 0.8863219\ttest: 0.8037490\tbest: 0.8042915 (4588)\ttotal: 10m 10s\tremaining: 45.8s\n"
     ]
    },
    {
     "name": "stdout",
     "output_type": "stream",
     "text": [
      "4700:\tlearn: 0.8871560\ttest: 0.8036289\tbest: 0.8042915 (4588)\ttotal: 10m 17s\tremaining: 39.2s\n"
     ]
    },
    {
     "name": "stdout",
     "output_type": "stream",
     "text": [
      "4750:\tlearn: 0.8879429\ttest: 0.8041578\tbest: 0.8042915 (4588)\ttotal: 10m 23s\tremaining: 32.7s\n"
     ]
    },
    {
     "name": "stdout",
     "output_type": "stream",
     "text": [
      "4800:\tlearn: 0.8888480\ttest: 0.8042012\tbest: 0.8044322 (4759)\ttotal: 10m 30s\tremaining: 26.1s\n"
     ]
    },
    {
     "name": "stdout",
     "output_type": "stream",
     "text": [
      "4850:\tlearn: 0.8897924\ttest: 0.8041666\tbest: 0.8044817 (4845)\ttotal: 10m 36s\tremaining: 19.6s\n"
     ]
    },
    {
     "name": "stdout",
     "output_type": "stream",
     "text": [
      "4900:\tlearn: 0.8904717\ttest: 0.8043617\tbest: 0.8046121 (4886)\ttotal: 10m 43s\tremaining: 13s\n"
     ]
    },
    {
     "name": "stdout",
     "output_type": "stream",
     "text": [
      "4950:\tlearn: 0.8912776\ttest: 0.8042764\tbest: 0.8046121 (4886)\ttotal: 10m 49s\tremaining: 6.43s\n"
     ]
    },
    {
     "name": "stdout",
     "output_type": "stream",
     "text": [
      "4999:\tlearn: 0.8917254\ttest: 0.8041780\tbest: 0.8046121 (4886)\ttotal: 10m 56s\tremaining: 0us\n",
      "\n",
      "bestTest = 0.8046121494\n",
      "bestIteration = 4886\n",
      "\n"
     ]
    },
    {
     "name": "stdout",
     "output_type": "stream",
     "text": [
      "######################################## training model 5/5 ########################################\n",
      "seed: 14\n"
     ]
    },
    {
     "name": "stdout",
     "output_type": "stream",
     "text": [
      "0:\tlearn: 0.6081418\ttest: 0.6085764\tbest: 0.6085764 (0)\ttotal: 443ms\tremaining: 36m 54s\n"
     ]
    },
    {
     "name": "stdout",
     "output_type": "stream",
     "text": [
      "50:\tlearn: 0.7400656\ttest: 0.7406161\tbest: 0.7406161 (50)\ttotal: 6.84s\tremaining: 11m 3s\n"
     ]
    },
    {
     "name": "stdout",
     "output_type": "stream",
     "text": [
      "100:\tlearn: 0.7539372\ttest: 0.7563747\tbest: 0.7563747 (100)\ttotal: 13.3s\tremaining: 10m 44s\n"
     ]
    },
    {
     "name": "stdout",
     "output_type": "stream",
     "text": [
      "150:\tlearn: 0.7617567\ttest: 0.7624228\tbest: 0.7626720 (148)\ttotal: 19.8s\tremaining: 10m 34s\n"
     ]
    },
    {
     "name": "stdout",
     "output_type": "stream",
     "text": [
      "200:\tlearn: 0.7680222\ttest: 0.7678672\tbest: 0.7679866 (199)\ttotal: 26.3s\tremaining: 10m 28s\n"
     ]
    },
    {
     "name": "stdout",
     "output_type": "stream",
     "text": [
      "250:\tlearn: 0.7717153\ttest: 0.7717990\tbest: 0.7717990 (250)\ttotal: 32.9s\tremaining: 10m 22s\n"
     ]
    },
    {
     "name": "stdout",
     "output_type": "stream",
     "text": [
      "300:\tlearn: 0.7773107\ttest: 0.7764919\tbest: 0.7764919 (300)\ttotal: 39.5s\tremaining: 10m 16s\n"
     ]
    },
    {
     "name": "stdout",
     "output_type": "stream",
     "text": [
      "350:\tlearn: 0.7837991\ttest: 0.7810073\tbest: 0.7810073 (350)\ttotal: 46s\tremaining: 10m 9s\n"
     ]
    },
    {
     "name": "stdout",
     "output_type": "stream",
     "text": [
      "400:\tlearn: 0.7886989\ttest: 0.7844646\tbest: 0.7844646 (400)\ttotal: 52.6s\tremaining: 10m 2s\n"
     ]
    },
    {
     "name": "stdout",
     "output_type": "stream",
     "text": [
      "450:\tlearn: 0.7919907\ttest: 0.7860345\tbest: 0.7864008 (446)\ttotal: 59.2s\tremaining: 9m 57s\n"
     ]
    },
    {
     "name": "stdout",
     "output_type": "stream",
     "text": [
      "500:\tlearn: 0.7949940\ttest: 0.7870204\tbest: 0.7871228 (495)\ttotal: 1m 5s\tremaining: 9m 51s\n"
     ]
    },
    {
     "name": "stdout",
     "output_type": "stream",
     "text": [
      "550:\tlearn: 0.7971859\ttest: 0.7873660\tbest: 0.7877967 (543)\ttotal: 1m 12s\tremaining: 9m 45s\n"
     ]
    },
    {
     "name": "stdout",
     "output_type": "stream",
     "text": [
      "600:\tlearn: 0.7989421\ttest: 0.7881983\tbest: 0.7881983 (600)\ttotal: 1m 19s\tremaining: 9m 38s\n"
     ]
    },
    {
     "name": "stdout",
     "output_type": "stream",
     "text": [
      "650:\tlearn: 0.8009713\ttest: 0.7886393\tbest: 0.7889729 (649)\ttotal: 1m 25s\tremaining: 9m 32s\n"
     ]
    },
    {
     "name": "stdout",
     "output_type": "stream",
     "text": [
      "700:\tlearn: 0.8024370\ttest: 0.7888519\tbest: 0.7889729 (649)\ttotal: 1m 32s\tremaining: 9m 26s\n"
     ]
    },
    {
     "name": "stdout",
     "output_type": "stream",
     "text": [
      "750:\tlearn: 0.8044272\ttest: 0.7893866\tbest: 0.7896749 (743)\ttotal: 1m 38s\tremaining: 9m 20s\n"
     ]
    },
    {
     "name": "stdout",
     "output_type": "stream",
     "text": [
      "800:\tlearn: 0.8061823\ttest: 0.7894544\tbest: 0.7898415 (785)\ttotal: 1m 45s\tremaining: 9m 13s\n"
     ]
    },
    {
     "name": "stdout",
     "output_type": "stream",
     "text": [
      "850:\tlearn: 0.8079015\ttest: 0.7896060\tbest: 0.7899906 (842)\ttotal: 1m 52s\tremaining: 9m 6s\n"
     ]
    },
    {
     "name": "stdout",
     "output_type": "stream",
     "text": [
      "900:\tlearn: 0.8096054\ttest: 0.7901148\tbest: 0.7903418 (894)\ttotal: 1m 58s\tremaining: 9m\n"
     ]
    },
    {
     "name": "stdout",
     "output_type": "stream",
     "text": [
      "950:\tlearn: 0.8109369\ttest: 0.7905262\tbest: 0.7906750 (948)\ttotal: 2m 5s\tremaining: 8m 53s\n"
     ]
    },
    {
     "name": "stdout",
     "output_type": "stream",
     "text": [
      "1000:\tlearn: 0.8125904\ttest: 0.7906570\tbest: 0.7909678 (980)\ttotal: 2m 11s\tremaining: 8m 47s\n"
     ]
    },
    {
     "name": "stdout",
     "output_type": "stream",
     "text": [
      "1050:\tlearn: 0.8142121\ttest: 0.7906877\tbest: 0.7910172 (1028)\ttotal: 2m 18s\tremaining: 8m 40s\n"
     ]
    },
    {
     "name": "stdout",
     "output_type": "stream",
     "text": [
      "1100:\tlearn: 0.8157465\ttest: 0.7902460\tbest: 0.7910920 (1058)\ttotal: 2m 25s\tremaining: 8m 33s\n"
     ]
    },
    {
     "name": "stdout",
     "output_type": "stream",
     "text": [
      "1150:\tlearn: 0.8172105\ttest: 0.7904356\tbest: 0.7910920 (1058)\ttotal: 2m 31s\tremaining: 8m 27s\n"
     ]
    },
    {
     "name": "stdout",
     "output_type": "stream",
     "text": [
      "1200:\tlearn: 0.8186724\ttest: 0.7906659\tbest: 0.7910920 (1058)\ttotal: 2m 38s\tremaining: 8m 21s\n"
     ]
    },
    {
     "name": "stdout",
     "output_type": "stream",
     "text": [
      "1250:\tlearn: 0.8203423\ttest: 0.7905392\tbest: 0.7910920 (1058)\ttotal: 2m 44s\tremaining: 8m 14s\n"
     ]
    },
    {
     "name": "stdout",
     "output_type": "stream",
     "text": [
      "1300:\tlearn: 0.8217359\ttest: 0.7906988\tbest: 0.7910920 (1058)\ttotal: 2m 51s\tremaining: 8m 7s\n"
     ]
    },
    {
     "name": "stdout",
     "output_type": "stream",
     "text": [
      "1350:\tlearn: 0.8230389\ttest: 0.7904374\tbest: 0.7910920 (1058)\ttotal: 2m 58s\tremaining: 8m 1s\n"
     ]
    },
    {
     "name": "stdout",
     "output_type": "stream",
     "text": [
      "1400:\tlearn: 0.8247282\ttest: 0.7907803\tbest: 0.7910920 (1058)\ttotal: 3m 4s\tremaining: 7m 54s\n"
     ]
    },
    {
     "name": "stdout",
     "output_type": "stream",
     "text": [
      "1450:\tlearn: 0.8256395\ttest: 0.7908435\tbest: 0.7911061 (1425)\ttotal: 3m 11s\tremaining: 7m 48s\n"
     ]
    },
    {
     "name": "stdout",
     "output_type": "stream",
     "text": [
      "1500:\tlearn: 0.8272114\ttest: 0.7911391\tbest: 0.7912968 (1480)\ttotal: 3m 18s\tremaining: 7m 41s\n"
     ]
    },
    {
     "name": "stdout",
     "output_type": "stream",
     "text": [
      "1550:\tlearn: 0.8284017\ttest: 0.7908853\tbest: 0.7914648 (1522)\ttotal: 3m 24s\tremaining: 7m 35s\n"
     ]
    },
    {
     "name": "stdout",
     "output_type": "stream",
     "text": [
      "1600:\tlearn: 0.8295187\ttest: 0.7908981\tbest: 0.7914648 (1522)\ttotal: 3m 31s\tremaining: 7m 28s\n"
     ]
    },
    {
     "name": "stdout",
     "output_type": "stream",
     "text": [
      "1650:\tlearn: 0.8307635\ttest: 0.7916965\tbest: 0.7916965 (1650)\ttotal: 3m 37s\tremaining: 7m 22s\n"
     ]
    },
    {
     "name": "stdout",
     "output_type": "stream",
     "text": [
      "1700:\tlearn: 0.8319138\ttest: 0.7920347\tbest: 0.7920510 (1679)\ttotal: 3m 44s\tremaining: 7m 15s\n"
     ]
    },
    {
     "name": "stdout",
     "output_type": "stream",
     "text": [
      "1750:\tlearn: 0.8332399\ttest: 0.7920849\tbest: 0.7920849 (1750)\ttotal: 3m 51s\tremaining: 7m 8s\n"
     ]
    },
    {
     "name": "stdout",
     "output_type": "stream",
     "text": [
      "1800:\tlearn: 0.8345494\ttest: 0.7915563\tbest: 0.7920849 (1750)\ttotal: 3m 57s\tremaining: 7m 2s\n"
     ]
    },
    {
     "name": "stdout",
     "output_type": "stream",
     "text": [
      "1850:\tlearn: 0.8356197\ttest: 0.7914410\tbest: 0.7920849 (1750)\ttotal: 4m 4s\tremaining: 6m 55s\n"
     ]
    },
    {
     "name": "stdout",
     "output_type": "stream",
     "text": [
      "1900:\tlearn: 0.8368463\ttest: 0.7914065\tbest: 0.7920849 (1750)\ttotal: 4m 10s\tremaining: 6m 49s\n"
     ]
    },
    {
     "name": "stdout",
     "output_type": "stream",
     "text": [
      "1950:\tlearn: 0.8378116\ttest: 0.7916094\tbest: 0.7920849 (1750)\ttotal: 4m 17s\tremaining: 6m 42s\n"
     ]
    },
    {
     "name": "stdout",
     "output_type": "stream",
     "text": [
      "2000:\tlearn: 0.8391231\ttest: 0.7911729\tbest: 0.7920849 (1750)\ttotal: 4m 24s\tremaining: 6m 35s\n"
     ]
    },
    {
     "name": "stdout",
     "output_type": "stream",
     "text": [
      "2050:\tlearn: 0.8400953\ttest: 0.7911468\tbest: 0.7920849 (1750)\ttotal: 4m 30s\tremaining: 6m 29s\n"
     ]
    },
    {
     "name": "stdout",
     "output_type": "stream",
     "text": [
      "2100:\tlearn: 0.8413391\ttest: 0.7910867\tbest: 0.7920849 (1750)\ttotal: 4m 37s\tremaining: 6m 22s\n"
     ]
    },
    {
     "name": "stdout",
     "output_type": "stream",
     "text": [
      "2150:\tlearn: 0.8423528\ttest: 0.7913533\tbest: 0.7920849 (1750)\ttotal: 4m 43s\tremaining: 6m 15s\n"
     ]
    },
    {
     "name": "stdout",
     "output_type": "stream",
     "text": [
      "2200:\tlearn: 0.8434367\ttest: 0.7909988\tbest: 0.7920849 (1750)\ttotal: 4m 50s\tremaining: 6m 9s\n"
     ]
    },
    {
     "name": "stdout",
     "output_type": "stream",
     "text": [
      "2250:\tlearn: 0.8446593\ttest: 0.7911135\tbest: 0.7920849 (1750)\ttotal: 4m 56s\tremaining: 6m 2s\n"
     ]
    },
    {
     "name": "stdout",
     "output_type": "stream",
     "text": [
      "2300:\tlearn: 0.8459328\ttest: 0.7913246\tbest: 0.7920849 (1750)\ttotal: 5m 3s\tremaining: 5m 55s\n"
     ]
    },
    {
     "name": "stdout",
     "output_type": "stream",
     "text": [
      "2350:\tlearn: 0.8468364\ttest: 0.7910381\tbest: 0.7920849 (1750)\ttotal: 5m 9s\tremaining: 5m 48s\n"
     ]
    },
    {
     "name": "stdout",
     "output_type": "stream",
     "text": [
      "2400:\tlearn: 0.8477491\ttest: 0.7911357\tbest: 0.7920849 (1750)\ttotal: 5m 16s\tremaining: 5m 42s\n"
     ]
    },
    {
     "name": "stdout",
     "output_type": "stream",
     "text": [
      "2450:\tlearn: 0.8489699\ttest: 0.7912793\tbest: 0.7920849 (1750)\ttotal: 5m 22s\tremaining: 5m 35s\n"
     ]
    },
    {
     "name": "stdout",
     "output_type": "stream",
     "text": [
      "2500:\tlearn: 0.8500563\ttest: 0.7913933\tbest: 0.7920849 (1750)\ttotal: 5m 29s\tremaining: 5m 29s\n"
     ]
    },
    {
     "name": "stdout",
     "output_type": "stream",
     "text": [
      "2550:\tlearn: 0.8509873\ttest: 0.7914229\tbest: 0.7920849 (1750)\ttotal: 5m 35s\tremaining: 5m 22s\n"
     ]
    },
    {
     "name": "stdout",
     "output_type": "stream",
     "text": [
      "2600:\tlearn: 0.8521365\ttest: 0.7919903\tbest: 0.7921752 (2589)\ttotal: 5m 42s\tremaining: 5m 15s\n"
     ]
    },
    {
     "name": "stdout",
     "output_type": "stream",
     "text": [
      "2650:\tlearn: 0.8533032\ttest: 0.7920231\tbest: 0.7921752 (2589)\ttotal: 5m 49s\tremaining: 5m 9s\n"
     ]
    },
    {
     "name": "stdout",
     "output_type": "stream",
     "text": [
      "2700:\tlearn: 0.8544829\ttest: 0.7920707\tbest: 0.7921752 (2589)\ttotal: 5m 55s\tremaining: 5m 2s\n"
     ]
    },
    {
     "name": "stdout",
     "output_type": "stream",
     "text": [
      "2750:\tlearn: 0.8554059\ttest: 0.7920342\tbest: 0.7922400 (2709)\ttotal: 6m 2s\tremaining: 4m 56s\n"
     ]
    },
    {
     "name": "stdout",
     "output_type": "stream",
     "text": [
      "2800:\tlearn: 0.8562420\ttest: 0.7918907\tbest: 0.7922400 (2709)\ttotal: 6m 8s\tremaining: 4m 49s\n"
     ]
    },
    {
     "name": "stdout",
     "output_type": "stream",
     "text": [
      "2850:\tlearn: 0.8573796\ttest: 0.7919297\tbest: 0.7922400 (2709)\ttotal: 6m 15s\tremaining: 4m 43s\n"
     ]
    },
    {
     "name": "stdout",
     "output_type": "stream",
     "text": [
      "2900:\tlearn: 0.8583334\ttest: 0.7922899\tbest: 0.7924819 (2895)\ttotal: 6m 22s\tremaining: 4m 36s\n"
     ]
    },
    {
     "name": "stdout",
     "output_type": "stream",
     "text": [
      "2950:\tlearn: 0.8595276\ttest: 0.7920683\tbest: 0.7925963 (2930)\ttotal: 6m 28s\tremaining: 4m 29s\n"
     ]
    },
    {
     "name": "stdout",
     "output_type": "stream",
     "text": [
      "3000:\tlearn: 0.8603837\ttest: 0.7924704\tbest: 0.7925963 (2930)\ttotal: 6m 35s\tremaining: 4m 23s\n"
     ]
    },
    {
     "name": "stdout",
     "output_type": "stream",
     "text": [
      "3050:\tlearn: 0.8615598\ttest: 0.7922043\tbest: 0.7925963 (2930)\ttotal: 6m 41s\tremaining: 4m 16s\n"
     ]
    },
    {
     "name": "stdout",
     "output_type": "stream",
     "text": [
      "3100:\tlearn: 0.8626159\ttest: 0.7922987\tbest: 0.7925963 (2930)\ttotal: 6m 48s\tremaining: 4m 10s\n"
     ]
    },
    {
     "name": "stdout",
     "output_type": "stream",
     "text": [
      "3150:\tlearn: 0.8633688\ttest: 0.7928728\tbest: 0.7928939 (3149)\ttotal: 6m 55s\tremaining: 4m 3s\n"
     ]
    },
    {
     "name": "stdout",
     "output_type": "stream",
     "text": [
      "3200:\tlearn: 0.8643099\ttest: 0.7929366\tbest: 0.7931006 (3189)\ttotal: 7m 1s\tremaining: 3m 56s\n"
     ]
    },
    {
     "name": "stdout",
     "output_type": "stream",
     "text": [
      "3250:\tlearn: 0.8651582\ttest: 0.7930760\tbest: 0.7933034 (3226)\ttotal: 7m 8s\tremaining: 3m 50s\n"
     ]
    },
    {
     "name": "stdout",
     "output_type": "stream",
     "text": [
      "3300:\tlearn: 0.8662989\ttest: 0.7928918\tbest: 0.7933034 (3226)\ttotal: 7m 14s\tremaining: 3m 43s\n"
     ]
    },
    {
     "name": "stdout",
     "output_type": "stream",
     "text": [
      "3350:\tlearn: 0.8671233\ttest: 0.7929637\tbest: 0.7933034 (3226)\ttotal: 7m 21s\tremaining: 3m 37s\n"
     ]
    },
    {
     "name": "stdout",
     "output_type": "stream",
     "text": [
      "3400:\tlearn: 0.8680311\ttest: 0.7933844\tbest: 0.7936612 (3397)\ttotal: 7m 28s\tremaining: 3m 30s\n"
     ]
    },
    {
     "name": "stdout",
     "output_type": "stream",
     "text": [
      "3450:\tlearn: 0.8687966\ttest: 0.7936010\tbest: 0.7937285 (3448)\ttotal: 7m 34s\tremaining: 3m 24s\n"
     ]
    },
    {
     "name": "stdout",
     "output_type": "stream",
     "text": [
      "3500:\tlearn: 0.8697105\ttest: 0.7936486\tbest: 0.7937285 (3448)\ttotal: 7m 41s\tremaining: 3m 17s\n"
     ]
    },
    {
     "name": "stdout",
     "output_type": "stream",
     "text": [
      "3550:\tlearn: 0.8706513\ttest: 0.7933336\tbest: 0.7937393 (3525)\ttotal: 7m 47s\tremaining: 3m 10s\n"
     ]
    },
    {
     "name": "stdout",
     "output_type": "stream",
     "text": [
      "3600:\tlearn: 0.8717251\ttest: 0.7934043\tbest: 0.7937393 (3525)\ttotal: 7m 54s\tremaining: 3m 4s\n"
     ]
    },
    {
     "name": "stdout",
     "output_type": "stream",
     "text": [
      "3650:\tlearn: 0.8725135\ttest: 0.7933980\tbest: 0.7937393 (3525)\ttotal: 8m 1s\tremaining: 2m 57s\n"
     ]
    },
    {
     "name": "stdout",
     "output_type": "stream",
     "text": [
      "3700:\tlearn: 0.8732950\ttest: 0.7935864\tbest: 0.7938342 (3681)\ttotal: 8m 7s\tremaining: 2m 51s\n"
     ]
    },
    {
     "name": "stdout",
     "output_type": "stream",
     "text": [
      "3750:\tlearn: 0.8741771\ttest: 0.7933118\tbest: 0.7938342 (3681)\ttotal: 8m 14s\tremaining: 2m 44s\n"
     ]
    },
    {
     "name": "stdout",
     "output_type": "stream",
     "text": [
      "3800:\tlearn: 0.8749013\ttest: 0.7930139\tbest: 0.7938342 (3681)\ttotal: 8m 21s\tremaining: 2m 38s\n"
     ]
    },
    {
     "name": "stdout",
     "output_type": "stream",
     "text": [
      "3850:\tlearn: 0.8759199\ttest: 0.7931257\tbest: 0.7938342 (3681)\ttotal: 8m 27s\tremaining: 2m 31s\n"
     ]
    },
    {
     "name": "stdout",
     "output_type": "stream",
     "text": [
      "3900:\tlearn: 0.8768084\ttest: 0.7928934\tbest: 0.7938342 (3681)\ttotal: 8m 34s\tremaining: 2m 24s\n"
     ]
    },
    {
     "name": "stdout",
     "output_type": "stream",
     "text": [
      "3950:\tlearn: 0.8776055\ttest: 0.7926739\tbest: 0.7938342 (3681)\ttotal: 8m 41s\tremaining: 2m 18s\n"
     ]
    },
    {
     "name": "stdout",
     "output_type": "stream",
     "text": [
      "4000:\tlearn: 0.8784891\ttest: 0.7926406\tbest: 0.7938342 (3681)\ttotal: 8m 47s\tremaining: 2m 11s\n"
     ]
    },
    {
     "name": "stdout",
     "output_type": "stream",
     "text": [
      "4050:\tlearn: 0.8792244\ttest: 0.7923904\tbest: 0.7938342 (3681)\ttotal: 8m 54s\tremaining: 2m 5s\n"
     ]
    },
    {
     "name": "stdout",
     "output_type": "stream",
     "text": [
      "4100:\tlearn: 0.8802120\ttest: 0.7922711\tbest: 0.7938342 (3681)\ttotal: 9m\tremaining: 1m 58s\n"
     ]
    },
    {
     "name": "stdout",
     "output_type": "stream",
     "text": [
      "4150:\tlearn: 0.8810166\ttest: 0.7927490\tbest: 0.7938342 (3681)\ttotal: 9m 7s\tremaining: 1m 51s\n"
     ]
    },
    {
     "name": "stdout",
     "output_type": "stream",
     "text": [
      "4200:\tlearn: 0.8817345\ttest: 0.7927581\tbest: 0.7938342 (3681)\ttotal: 9m 14s\tremaining: 1m 45s\n"
     ]
    },
    {
     "name": "stdout",
     "output_type": "stream",
     "text": [
      "4250:\tlearn: 0.8826420\ttest: 0.7926140\tbest: 0.7938342 (3681)\ttotal: 9m 20s\tremaining: 1m 38s\n"
     ]
    },
    {
     "name": "stdout",
     "output_type": "stream",
     "text": [
      "4300:\tlearn: 0.8832732\ttest: 0.7926200\tbest: 0.7938342 (3681)\ttotal: 9m 27s\tremaining: 1m 32s\n"
     ]
    },
    {
     "name": "stdout",
     "output_type": "stream",
     "text": [
      "4350:\tlearn: 0.8841475\ttest: 0.7926205\tbest: 0.7938342 (3681)\ttotal: 9m 33s\tremaining: 1m 25s\n"
     ]
    },
    {
     "name": "stdout",
     "output_type": "stream",
     "text": [
      "4400:\tlearn: 0.8850172\ttest: 0.7926106\tbest: 0.7938342 (3681)\ttotal: 9m 40s\tremaining: 1m 19s\n"
     ]
    },
    {
     "name": "stdout",
     "output_type": "stream",
     "text": [
      "4450:\tlearn: 0.8860183\ttest: 0.7926527\tbest: 0.7938342 (3681)\ttotal: 9m 47s\tremaining: 1m 12s\n"
     ]
    },
    {
     "name": "stdout",
     "output_type": "stream",
     "text": [
      "4500:\tlearn: 0.8868585\ttest: 0.7926549\tbest: 0.7938342 (3681)\ttotal: 9m 53s\tremaining: 1m 5s\n"
     ]
    },
    {
     "name": "stdout",
     "output_type": "stream",
     "text": [
      "4550:\tlearn: 0.8875893\ttest: 0.7927887\tbest: 0.7938342 (3681)\ttotal: 10m\tremaining: 59.2s\n"
     ]
    },
    {
     "name": "stdout",
     "output_type": "stream",
     "text": [
      "4600:\tlearn: 0.8885236\ttest: 0.7926418\tbest: 0.7938342 (3681)\ttotal: 10m 6s\tremaining: 52.6s\n"
     ]
    },
    {
     "name": "stdout",
     "output_type": "stream",
     "text": [
      "4650:\tlearn: 0.8892633\ttest: 0.7926618\tbest: 0.7938342 (3681)\ttotal: 10m 13s\tremaining: 46s\n"
     ]
    },
    {
     "name": "stdout",
     "output_type": "stream",
     "text": [
      "4700:\tlearn: 0.8899637\ttest: 0.7929710\tbest: 0.7938342 (3681)\ttotal: 10m 19s\tremaining: 39.4s\n"
     ]
    },
    {
     "name": "stdout",
     "output_type": "stream",
     "text": [
      "4750:\tlearn: 0.8908165\ttest: 0.7925952\tbest: 0.7938342 (3681)\ttotal: 10m 26s\tremaining: 32.8s\n"
     ]
    },
    {
     "name": "stdout",
     "output_type": "stream",
     "text": [
      "4800:\tlearn: 0.8915736\ttest: 0.7927191\tbest: 0.7938342 (3681)\ttotal: 10m 33s\tremaining: 26.2s\n"
     ]
    },
    {
     "name": "stdout",
     "output_type": "stream",
     "text": [
      "4850:\tlearn: 0.8921956\ttest: 0.7928097\tbest: 0.7938342 (3681)\ttotal: 10m 39s\tremaining: 19.6s\n"
     ]
    },
    {
     "name": "stdout",
     "output_type": "stream",
     "text": [
      "4900:\tlearn: 0.8929723\ttest: 0.7924111\tbest: 0.7938342 (3681)\ttotal: 10m 46s\tremaining: 13.1s\n"
     ]
    },
    {
     "name": "stdout",
     "output_type": "stream",
     "text": [
      "4950:\tlearn: 0.8937446\ttest: 0.7927979\tbest: 0.7938342 (3681)\ttotal: 10m 52s\tremaining: 6.46s\n"
     ]
    },
    {
     "name": "stdout",
     "output_type": "stream",
     "text": [
      "4999:\tlearn: 0.8945069\ttest: 0.7930723\tbest: 0.7938342 (3681)\ttotal: 10m 59s\tremaining: 0us\n",
      "\n",
      "bestTest = 0.7938341517\n",
      "bestIteration = 3681\n",
      "\n"
     ]
    },
    {
     "name": "stdout",
     "output_type": "stream",
     "text": [
      "Training time: 55.114082753658295 min.\n",
      "OOF recall_at4: 0.6670060928400714\n",
      "OOF normalized_gini: 0.9248853295864771\n",
      "OOF competition metric: 0.7959457112132742\n"
     ]
    },
    {
     "name": "stdout",
     "output_type": "stream",
     "text": [
      "############################### repeated cross-validation step: 4/5 ################################\n"
     ]
    },
    {
     "name": "stdout",
     "output_type": "stream",
     "text": [
      "######################################## training model 1/5 ########################################\n",
      "seed: 15\n"
     ]
    },
    {
     "name": "stdout",
     "output_type": "stream",
     "text": [
      "0:\tlearn: 0.4726007\ttest: 0.4675329\tbest: 0.4675329 (0)\ttotal: 454ms\tremaining: 37m 49s\n"
     ]
    },
    {
     "name": "stdout",
     "output_type": "stream",
     "text": [
      "50:\tlearn: 0.7397097\ttest: 0.7392135\tbest: 0.7393705 (49)\ttotal: 6.91s\tremaining: 11m 10s\n"
     ]
    },
    {
     "name": "stdout",
     "output_type": "stream",
     "text": [
      "100:\tlearn: 0.7562655\ttest: 0.7535743\tbest: 0.7535743 (100)\ttotal: 13.5s\tremaining: 10m 56s\n"
     ]
    },
    {
     "name": "stdout",
     "output_type": "stream",
     "text": [
      "150:\tlearn: 0.7631213\ttest: 0.7607794\tbest: 0.7610919 (148)\ttotal: 20.1s\tremaining: 10m 45s\n"
     ]
    },
    {
     "name": "stdout",
     "output_type": "stream",
     "text": [
      "200:\tlearn: 0.7687288\ttest: 0.7656942\tbest: 0.7656942 (200)\ttotal: 26.7s\tremaining: 10m 37s\n"
     ]
    },
    {
     "name": "stdout",
     "output_type": "stream",
     "text": [
      "250:\tlearn: 0.7723012\ttest: 0.7690751\tbest: 0.7694118 (246)\ttotal: 33.2s\tremaining: 10m 28s\n"
     ]
    },
    {
     "name": "stdout",
     "output_type": "stream",
     "text": [
      "300:\tlearn: 0.7766918\ttest: 0.7734077\tbest: 0.7736057 (299)\ttotal: 39.8s\tremaining: 10m 20s\n"
     ]
    },
    {
     "name": "stdout",
     "output_type": "stream",
     "text": [
      "350:\tlearn: 0.7841139\ttest: 0.7784641\tbest: 0.7788220 (349)\ttotal: 46.3s\tremaining: 10m 13s\n"
     ]
    },
    {
     "name": "stdout",
     "output_type": "stream",
     "text": [
      "400:\tlearn: 0.7888822\ttest: 0.7815997\tbest: 0.7815997 (400)\ttotal: 52.9s\tremaining: 10m 6s\n"
     ]
    },
    {
     "name": "stdout",
     "output_type": "stream",
     "text": [
      "450:\tlearn: 0.7927590\ttest: 0.7823972\tbest: 0.7828138 (436)\ttotal: 59.5s\tremaining: 9m 59s\n"
     ]
    },
    {
     "name": "stdout",
     "output_type": "stream",
     "text": [
      "500:\tlearn: 0.7954495\ttest: 0.7834048\tbest: 0.7835247 (494)\ttotal: 1m 6s\tremaining: 9m 53s\n"
     ]
    },
    {
     "name": "stdout",
     "output_type": "stream",
     "text": [
      "550:\tlearn: 0.7978066\ttest: 0.7836496\tbest: 0.7841423 (538)\ttotal: 1m 12s\tremaining: 9m 46s\n"
     ]
    },
    {
     "name": "stdout",
     "output_type": "stream",
     "text": [
      "600:\tlearn: 0.7997599\ttest: 0.7848156\tbest: 0.7851185 (588)\ttotal: 1m 19s\tremaining: 9m 39s\n"
     ]
    },
    {
     "name": "stdout",
     "output_type": "stream",
     "text": [
      "650:\tlearn: 0.8016770\ttest: 0.7857272\tbest: 0.7857272 (650)\ttotal: 1m 25s\tremaining: 9m 33s\n"
     ]
    },
    {
     "name": "stdout",
     "output_type": "stream",
     "text": [
      "700:\tlearn: 0.8037796\ttest: 0.7861985\tbest: 0.7864979 (680)\ttotal: 1m 32s\tremaining: 9m 27s\n"
     ]
    },
    {
     "name": "stdout",
     "output_type": "stream",
     "text": [
      "750:\tlearn: 0.8058065\ttest: 0.7863424\tbest: 0.7864979 (680)\ttotal: 1m 39s\tremaining: 9m 20s\n"
     ]
    },
    {
     "name": "stdout",
     "output_type": "stream",
     "text": [
      "800:\tlearn: 0.8071290\ttest: 0.7870994\tbest: 0.7871745 (797)\ttotal: 1m 45s\tremaining: 9m 13s\n"
     ]
    },
    {
     "name": "stdout",
     "output_type": "stream",
     "text": [
      "850:\tlearn: 0.8086926\ttest: 0.7872935\tbest: 0.7876769 (831)\ttotal: 1m 52s\tremaining: 9m 7s\n"
     ]
    },
    {
     "name": "stdout",
     "output_type": "stream",
     "text": [
      "900:\tlearn: 0.8103288\ttest: 0.7874872\tbest: 0.7876769 (831)\ttotal: 1m 58s\tremaining: 9m 1s\n"
     ]
    },
    {
     "name": "stdout",
     "output_type": "stream",
     "text": [
      "950:\tlearn: 0.8117924\ttest: 0.7876585\tbest: 0.7877894 (909)\ttotal: 2m 5s\tremaining: 8m 54s\n"
     ]
    },
    {
     "name": "stdout",
     "output_type": "stream",
     "text": [
      "1000:\tlearn: 0.8133967\ttest: 0.7889969\tbest: 0.7890774 (997)\ttotal: 2m 12s\tremaining: 8m 48s\n"
     ]
    },
    {
     "name": "stdout",
     "output_type": "stream",
     "text": [
      "1050:\tlearn: 0.8148180\ttest: 0.7893627\tbest: 0.7895900 (1047)\ttotal: 2m 18s\tremaining: 8m 41s\n"
     ]
    },
    {
     "name": "stdout",
     "output_type": "stream",
     "text": [
      "1100:\tlearn: 0.8162511\ttest: 0.7893583\tbest: 0.7896301 (1073)\ttotal: 2m 25s\tremaining: 8m 35s\n"
     ]
    },
    {
     "name": "stdout",
     "output_type": "stream",
     "text": [
      "1150:\tlearn: 0.8178410\ttest: 0.7899174\tbest: 0.7899174 (1150)\ttotal: 2m 32s\tremaining: 8m 28s\n"
     ]
    },
    {
     "name": "stdout",
     "output_type": "stream",
     "text": [
      "1200:\tlearn: 0.8190729\ttest: 0.7902225\tbest: 0.7903532 (1184)\ttotal: 2m 38s\tremaining: 8m 22s\n"
     ]
    },
    {
     "name": "stdout",
     "output_type": "stream",
     "text": [
      "1250:\tlearn: 0.8202949\ttest: 0.7906198\tbest: 0.7907414 (1242)\ttotal: 2m 45s\tremaining: 8m 15s\n"
     ]
    },
    {
     "name": "stdout",
     "output_type": "stream",
     "text": [
      "1300:\tlearn: 0.8213308\ttest: 0.7904548\tbest: 0.7907772 (1284)\ttotal: 2m 52s\tremaining: 8m 9s\n"
     ]
    },
    {
     "name": "stdout",
     "output_type": "stream",
     "text": [
      "1350:\tlearn: 0.8226880\ttest: 0.7905037\tbest: 0.7910266 (1341)\ttotal: 2m 58s\tremaining: 8m 2s\n"
     ]
    },
    {
     "name": "stdout",
     "output_type": "stream",
     "text": [
      "1400:\tlearn: 0.8239048\ttest: 0.7909699\tbest: 0.7913003 (1376)\ttotal: 3m 5s\tremaining: 7m 55s\n"
     ]
    },
    {
     "name": "stdout",
     "output_type": "stream",
     "text": [
      "1450:\tlearn: 0.8252238\ttest: 0.7910594\tbest: 0.7913003 (1376)\ttotal: 3m 11s\tremaining: 7m 49s\n"
     ]
    },
    {
     "name": "stdout",
     "output_type": "stream",
     "text": [
      "1500:\tlearn: 0.8264740\ttest: 0.7907950\tbest: 0.7913003 (1376)\ttotal: 3m 18s\tremaining: 7m 42s\n"
     ]
    },
    {
     "name": "stdout",
     "output_type": "stream",
     "text": [
      "1550:\tlearn: 0.8277960\ttest: 0.7904575\tbest: 0.7913003 (1376)\ttotal: 3m 24s\tremaining: 7m 35s\n"
     ]
    },
    {
     "name": "stdout",
     "output_type": "stream",
     "text": [
      "1600:\tlearn: 0.8285796\ttest: 0.7906903\tbest: 0.7913003 (1376)\ttotal: 3m 31s\tremaining: 7m 29s\n"
     ]
    },
    {
     "name": "stdout",
     "output_type": "stream",
     "text": [
      "1650:\tlearn: 0.8302140\ttest: 0.7908341\tbest: 0.7913003 (1376)\ttotal: 3m 38s\tremaining: 7m 22s\n"
     ]
    },
    {
     "name": "stdout",
     "output_type": "stream",
     "text": [
      "1700:\tlearn: 0.8314608\ttest: 0.7912737\tbest: 0.7914430 (1699)\ttotal: 3m 44s\tremaining: 7m 15s\n"
     ]
    },
    {
     "name": "stdout",
     "output_type": "stream",
     "text": [
      "1750:\tlearn: 0.8326112\ttest: 0.7910487\tbest: 0.7914430 (1699)\ttotal: 3m 51s\tremaining: 7m 8s\n"
     ]
    },
    {
     "name": "stdout",
     "output_type": "stream",
     "text": [
      "1800:\tlearn: 0.8337388\ttest: 0.7909883\tbest: 0.7914430 (1699)\ttotal: 3m 57s\tremaining: 7m 2s\n"
     ]
    },
    {
     "name": "stdout",
     "output_type": "stream",
     "text": [
      "1850:\tlearn: 0.8347855\ttest: 0.7911719\tbest: 0.7914430 (1699)\ttotal: 4m 4s\tremaining: 6m 55s\n"
     ]
    },
    {
     "name": "stdout",
     "output_type": "stream",
     "text": [
      "1900:\tlearn: 0.8357033\ttest: 0.7912920\tbest: 0.7914430 (1699)\ttotal: 4m 10s\tremaining: 6m 48s\n"
     ]
    },
    {
     "name": "stdout",
     "output_type": "stream",
     "text": [
      "1950:\tlearn: 0.8368851\ttest: 0.7913975\tbest: 0.7914430 (1699)\ttotal: 4m 17s\tremaining: 6m 42s\n"
     ]
    },
    {
     "name": "stdout",
     "output_type": "stream",
     "text": [
      "2000:\tlearn: 0.8377640\ttest: 0.7911708\tbest: 0.7915465 (1953)\ttotal: 4m 23s\tremaining: 6m 35s\n"
     ]
    },
    {
     "name": "stdout",
     "output_type": "stream",
     "text": [
      "2050:\tlearn: 0.8389377\ttest: 0.7912565\tbest: 0.7915465 (1953)\ttotal: 4m 30s\tremaining: 6m 28s\n"
     ]
    },
    {
     "name": "stdout",
     "output_type": "stream",
     "text": [
      "2100:\tlearn: 0.8400502\ttest: 0.7913909\tbest: 0.7915465 (1953)\ttotal: 4m 36s\tremaining: 6m 22s\n"
     ]
    },
    {
     "name": "stdout",
     "output_type": "stream",
     "text": [
      "2150:\tlearn: 0.8410387\ttest: 0.7912967\tbest: 0.7915465 (1953)\ttotal: 4m 43s\tremaining: 6m 15s\n"
     ]
    },
    {
     "name": "stdout",
     "output_type": "stream",
     "text": [
      "2200:\tlearn: 0.8419813\ttest: 0.7910270\tbest: 0.7915465 (1953)\ttotal: 4m 49s\tremaining: 6m 8s\n"
     ]
    },
    {
     "name": "stdout",
     "output_type": "stream",
     "text": [
      "2250:\tlearn: 0.8430286\ttest: 0.7913927\tbest: 0.7915465 (1953)\ttotal: 4m 56s\tremaining: 6m 2s\n"
     ]
    },
    {
     "name": "stdout",
     "output_type": "stream",
     "text": [
      "2300:\tlearn: 0.8440403\ttest: 0.7918505\tbest: 0.7919125 (2297)\ttotal: 5m 2s\tremaining: 5m 55s\n"
     ]
    },
    {
     "name": "stdout",
     "output_type": "stream",
     "text": [
      "2350:\tlearn: 0.8448587\ttest: 0.7921268\tbest: 0.7922305 (2341)\ttotal: 5m 9s\tremaining: 5m 48s\n"
     ]
    },
    {
     "name": "stdout",
     "output_type": "stream",
     "text": [
      "2400:\tlearn: 0.8461656\ttest: 0.7921354\tbest: 0.7924217 (2356)\ttotal: 5m 15s\tremaining: 5m 41s\n"
     ]
    },
    {
     "name": "stdout",
     "output_type": "stream",
     "text": [
      "2450:\tlearn: 0.8472462\ttest: 0.7918455\tbest: 0.7924217 (2356)\ttotal: 5m 22s\tremaining: 5m 35s\n"
     ]
    },
    {
     "name": "stdout",
     "output_type": "stream",
     "text": [
      "2500:\tlearn: 0.8482790\ttest: 0.7918035\tbest: 0.7924217 (2356)\ttotal: 5m 28s\tremaining: 5m 28s\n"
     ]
    },
    {
     "name": "stdout",
     "output_type": "stream",
     "text": [
      "2550:\tlearn: 0.8491099\ttest: 0.7925998\tbest: 0.7927647 (2540)\ttotal: 5m 35s\tremaining: 5m 22s\n"
     ]
    },
    {
     "name": "stdout",
     "output_type": "stream",
     "text": [
      "2600:\tlearn: 0.8500958\ttest: 0.7922900\tbest: 0.7927647 (2540)\ttotal: 5m 41s\tremaining: 5m 15s\n"
     ]
    },
    {
     "name": "stdout",
     "output_type": "stream",
     "text": [
      "2650:\tlearn: 0.8508963\ttest: 0.7926075\tbest: 0.7927647 (2540)\ttotal: 5m 48s\tremaining: 5m 8s\n"
     ]
    },
    {
     "name": "stdout",
     "output_type": "stream",
     "text": [
      "2700:\tlearn: 0.8518262\ttest: 0.7931054\tbest: 0.7932953 (2692)\ttotal: 5m 54s\tremaining: 5m 2s\n"
     ]
    },
    {
     "name": "stdout",
     "output_type": "stream",
     "text": [
      "2750:\tlearn: 0.8526709\ttest: 0.7931215\tbest: 0.7932953 (2692)\ttotal: 6m 1s\tremaining: 4m 55s\n"
     ]
    },
    {
     "name": "stdout",
     "output_type": "stream",
     "text": [
      "2800:\tlearn: 0.8536315\ttest: 0.7930222\tbest: 0.7932953 (2692)\ttotal: 6m 7s\tremaining: 4m 48s\n"
     ]
    },
    {
     "name": "stdout",
     "output_type": "stream",
     "text": [
      "2850:\tlearn: 0.8546949\ttest: 0.7929201\tbest: 0.7932953 (2692)\ttotal: 6m 14s\tremaining: 4m 42s\n"
     ]
    },
    {
     "name": "stdout",
     "output_type": "stream",
     "text": [
      "2900:\tlearn: 0.8558465\ttest: 0.7929684\tbest: 0.7932953 (2692)\ttotal: 6m 20s\tremaining: 4m 35s\n"
     ]
    },
    {
     "name": "stdout",
     "output_type": "stream",
     "text": [
      "2950:\tlearn: 0.8565964\ttest: 0.7936468\tbest: 0.7936873 (2938)\ttotal: 6m 27s\tremaining: 4m 28s\n"
     ]
    },
    {
     "name": "stdout",
     "output_type": "stream",
     "text": [
      "3000:\tlearn: 0.8578116\ttest: 0.7933935\tbest: 0.7936873 (2938)\ttotal: 6m 33s\tremaining: 4m 22s\n"
     ]
    },
    {
     "name": "stdout",
     "output_type": "stream",
     "text": [
      "3050:\tlearn: 0.8583450\ttest: 0.7935615\tbest: 0.7937320 (3016)\ttotal: 6m 40s\tremaining: 4m 15s\n"
     ]
    },
    {
     "name": "stdout",
     "output_type": "stream",
     "text": [
      "3100:\tlearn: 0.8594661\ttest: 0.7935839\tbest: 0.7937320 (3016)\ttotal: 6m 46s\tremaining: 4m 9s\n"
     ]
    },
    {
     "name": "stdout",
     "output_type": "stream",
     "text": [
      "3150:\tlearn: 0.8603025\ttest: 0.7938027\tbest: 0.7941553 (3131)\ttotal: 6m 53s\tremaining: 4m 2s\n"
     ]
    },
    {
     "name": "stdout",
     "output_type": "stream",
     "text": [
      "3200:\tlearn: 0.8613012\ttest: 0.7935467\tbest: 0.7941553 (3131)\ttotal: 6m 59s\tremaining: 3m 56s\n"
     ]
    },
    {
     "name": "stdout",
     "output_type": "stream",
     "text": [
      "3250:\tlearn: 0.8622131\ttest: 0.7929231\tbest: 0.7941553 (3131)\ttotal: 7m 6s\tremaining: 3m 49s\n"
     ]
    },
    {
     "name": "stdout",
     "output_type": "stream",
     "text": [
      "3300:\tlearn: 0.8630850\ttest: 0.7934885\tbest: 0.7941553 (3131)\ttotal: 7m 12s\tremaining: 3m 42s\n"
     ]
    },
    {
     "name": "stdout",
     "output_type": "stream",
     "text": [
      "3350:\tlearn: 0.8641641\ttest: 0.7930919\tbest: 0.7941553 (3131)\ttotal: 7m 19s\tremaining: 3m 36s\n"
     ]
    },
    {
     "name": "stdout",
     "output_type": "stream",
     "text": [
      "3400:\tlearn: 0.8648549\ttest: 0.7934285\tbest: 0.7941553 (3131)\ttotal: 7m 26s\tremaining: 3m 29s\n"
     ]
    },
    {
     "name": "stdout",
     "output_type": "stream",
     "text": [
      "3450:\tlearn: 0.8658486\ttest: 0.7933762\tbest: 0.7941553 (3131)\ttotal: 7m 32s\tremaining: 3m 23s\n"
     ]
    },
    {
     "name": "stdout",
     "output_type": "stream",
     "text": [
      "3500:\tlearn: 0.8669611\ttest: 0.7936258\tbest: 0.7941553 (3131)\ttotal: 7m 39s\tremaining: 3m 16s\n"
     ]
    },
    {
     "name": "stdout",
     "output_type": "stream",
     "text": [
      "3550:\tlearn: 0.8677486\ttest: 0.7938214\tbest: 0.7943704 (3539)\ttotal: 7m 45s\tremaining: 3m 10s\n"
     ]
    },
    {
     "name": "stdout",
     "output_type": "stream",
     "text": [
      "3600:\tlearn: 0.8683860\ttest: 0.7938881\tbest: 0.7943704 (3539)\ttotal: 7m 52s\tremaining: 3m 3s\n"
     ]
    },
    {
     "name": "stdout",
     "output_type": "stream",
     "text": [
      "3650:\tlearn: 0.8693932\ttest: 0.7936156\tbest: 0.7943704 (3539)\ttotal: 7m 58s\tremaining: 2m 56s\n"
     ]
    },
    {
     "name": "stdout",
     "output_type": "stream",
     "text": [
      "3700:\tlearn: 0.8704043\ttest: 0.7934878\tbest: 0.7943704 (3539)\ttotal: 8m 5s\tremaining: 2m 50s\n"
     ]
    },
    {
     "name": "stdout",
     "output_type": "stream",
     "text": [
      "3750:\tlearn: 0.8709678\ttest: 0.7939321\tbest: 0.7943704 (3539)\ttotal: 8m 11s\tremaining: 2m 43s\n"
     ]
    },
    {
     "name": "stdout",
     "output_type": "stream",
     "text": [
      "3800:\tlearn: 0.8718787\ttest: 0.7937551\tbest: 0.7943704 (3539)\ttotal: 8m 18s\tremaining: 2m 37s\n"
     ]
    },
    {
     "name": "stdout",
     "output_type": "stream",
     "text": [
      "3850:\tlearn: 0.8726364\ttest: 0.7933771\tbest: 0.7943704 (3539)\ttotal: 8m 24s\tremaining: 2m 30s\n"
     ]
    },
    {
     "name": "stdout",
     "output_type": "stream",
     "text": [
      "3900:\tlearn: 0.8734319\ttest: 0.7938496\tbest: 0.7943704 (3539)\ttotal: 8m 31s\tremaining: 2m 24s\n"
     ]
    },
    {
     "name": "stdout",
     "output_type": "stream",
     "text": [
      "3950:\tlearn: 0.8743433\ttest: 0.7936070\tbest: 0.7943704 (3539)\ttotal: 8m 37s\tremaining: 2m 17s\n"
     ]
    },
    {
     "name": "stdout",
     "output_type": "stream",
     "text": [
      "4000:\tlearn: 0.8750989\ttest: 0.7938261\tbest: 0.7943704 (3539)\ttotal: 8m 44s\tremaining: 2m 10s\n"
     ]
    },
    {
     "name": "stdout",
     "output_type": "stream",
     "text": [
      "4050:\tlearn: 0.8759325\ttest: 0.7940001\tbest: 0.7943704 (3539)\ttotal: 8m 50s\tremaining: 2m 4s\n"
     ]
    },
    {
     "name": "stdout",
     "output_type": "stream",
     "text": [
      "4100:\tlearn: 0.8766863\ttest: 0.7935013\tbest: 0.7943704 (3539)\ttotal: 8m 57s\tremaining: 1m 57s\n"
     ]
    },
    {
     "name": "stdout",
     "output_type": "stream",
     "text": [
      "4150:\tlearn: 0.8775433\ttest: 0.7932237\tbest: 0.7943704 (3539)\ttotal: 9m 4s\tremaining: 1m 51s\n"
     ]
    },
    {
     "name": "stdout",
     "output_type": "stream",
     "text": [
      "4200:\tlearn: 0.8780422\ttest: 0.7935246\tbest: 0.7943704 (3539)\ttotal: 9m 10s\tremaining: 1m 44s\n"
     ]
    },
    {
     "name": "stdout",
     "output_type": "stream",
     "text": [
      "4250:\tlearn: 0.8786777\ttest: 0.7934682\tbest: 0.7943704 (3539)\ttotal: 9m 17s\tremaining: 1m 38s\n"
     ]
    },
    {
     "name": "stdout",
     "output_type": "stream",
     "text": [
      "4300:\tlearn: 0.8796119\ttest: 0.7937241\tbest: 0.7943704 (3539)\ttotal: 9m 23s\tremaining: 1m 31s\n"
     ]
    },
    {
     "name": "stdout",
     "output_type": "stream",
     "text": [
      "4350:\tlearn: 0.8805516\ttest: 0.7936900\tbest: 0.7943704 (3539)\ttotal: 9m 30s\tremaining: 1m 25s\n"
     ]
    },
    {
     "name": "stdout",
     "output_type": "stream",
     "text": [
      "4400:\tlearn: 0.8815756\ttest: 0.7938529\tbest: 0.7943704 (3539)\ttotal: 9m 36s\tremaining: 1m 18s\n"
     ]
    },
    {
     "name": "stdout",
     "output_type": "stream",
     "text": [
      "4450:\tlearn: 0.8822478\ttest: 0.7939837\tbest: 0.7943704 (3539)\ttotal: 9m 43s\tremaining: 1m 11s\n"
     ]
    },
    {
     "name": "stdout",
     "output_type": "stream",
     "text": [
      "4500:\tlearn: 0.8831602\ttest: 0.7942605\tbest: 0.7944499 (4495)\ttotal: 9m 49s\tremaining: 1m 5s\n"
     ]
    },
    {
     "name": "stdout",
     "output_type": "stream",
     "text": [
      "4550:\tlearn: 0.8840212\ttest: 0.7943031\tbest: 0.7944929 (4513)\ttotal: 9m 56s\tremaining: 58.8s\n"
     ]
    },
    {
     "name": "stdout",
     "output_type": "stream",
     "text": [
      "4600:\tlearn: 0.8848181\ttest: 0.7939827\tbest: 0.7944929 (4513)\ttotal: 10m 2s\tremaining: 52.3s\n"
     ]
    },
    {
     "name": "stdout",
     "output_type": "stream",
     "text": [
      "4650:\tlearn: 0.8856020\ttest: 0.7937958\tbest: 0.7944929 (4513)\ttotal: 10m 9s\tremaining: 45.7s\n"
     ]
    },
    {
     "name": "stdout",
     "output_type": "stream",
     "text": [
      "4700:\tlearn: 0.8865000\ttest: 0.7937224\tbest: 0.7944929 (4513)\ttotal: 10m 16s\tremaining: 39.2s\n"
     ]
    },
    {
     "name": "stdout",
     "output_type": "stream",
     "text": [
      "4750:\tlearn: 0.8872573\ttest: 0.7937993\tbest: 0.7944929 (4513)\ttotal: 10m 22s\tremaining: 32.6s\n"
     ]
    },
    {
     "name": "stdout",
     "output_type": "stream",
     "text": [
      "4800:\tlearn: 0.8883370\ttest: 0.7941194\tbest: 0.7944929 (4513)\ttotal: 10m 29s\tremaining: 26.1s\n"
     ]
    },
    {
     "name": "stdout",
     "output_type": "stream",
     "text": [
      "4850:\tlearn: 0.8889590\ttest: 0.7943743\tbest: 0.7944929 (4513)\ttotal: 10m 35s\tremaining: 19.5s\n"
     ]
    },
    {
     "name": "stdout",
     "output_type": "stream",
     "text": [
      "4900:\tlearn: 0.8897608\ttest: 0.7942057\tbest: 0.7945011 (4884)\ttotal: 10m 42s\tremaining: 13s\n"
     ]
    },
    {
     "name": "stdout",
     "output_type": "stream",
     "text": [
      "4950:\tlearn: 0.8903791\ttest: 0.7938443\tbest: 0.7945011 (4884)\ttotal: 10m 48s\tremaining: 6.42s\n"
     ]
    },
    {
     "name": "stdout",
     "output_type": "stream",
     "text": [
      "4999:\tlearn: 0.8912364\ttest: 0.7939058\tbest: 0.7945011 (4884)\ttotal: 10m 55s\tremaining: 0us\n",
      "\n",
      "bestTest = 0.7945011121\n",
      "bestIteration = 4884\n",
      "\n"
     ]
    },
    {
     "name": "stdout",
     "output_type": "stream",
     "text": [
      "######################################## training model 2/5 ########################################\n",
      "seed: 16\n"
     ]
    },
    {
     "name": "stdout",
     "output_type": "stream",
     "text": [
      "0:\tlearn: 0.5623409\ttest: 0.5703741\tbest: 0.5703741 (0)\ttotal: 447ms\tremaining: 37m 13s\n"
     ]
    },
    {
     "name": "stdout",
     "output_type": "stream",
     "text": [
      "50:\tlearn: 0.7419787\ttest: 0.7463548\tbest: 0.7463548 (50)\ttotal: 6.9s\tremaining: 11m 9s\n"
     ]
    },
    {
     "name": "stdout",
     "output_type": "stream",
     "text": [
      "100:\tlearn: 0.7555827\ttest: 0.7586119\tbest: 0.7586119 (100)\ttotal: 13.4s\tremaining: 10m 50s\n"
     ]
    },
    {
     "name": "stdout",
     "output_type": "stream",
     "text": [
      "150:\tlearn: 0.7641286\ttest: 0.7660718\tbest: 0.7662616 (144)\ttotal: 19.9s\tremaining: 10m 38s\n"
     ]
    },
    {
     "name": "stdout",
     "output_type": "stream",
     "text": [
      "200:\tlearn: 0.7682163\ttest: 0.7695071\tbest: 0.7699480 (192)\ttotal: 26.4s\tremaining: 10m 30s\n"
     ]
    },
    {
     "name": "stdout",
     "output_type": "stream",
     "text": [
      "250:\tlearn: 0.7719277\ttest: 0.7739435\tbest: 0.7739435 (250)\ttotal: 32.9s\tremaining: 10m 23s\n"
     ]
    },
    {
     "name": "stdout",
     "output_type": "stream",
     "text": [
      "300:\tlearn: 0.7773112\ttest: 0.7776112\tbest: 0.7778424 (298)\ttotal: 39.5s\tremaining: 10m 16s\n"
     ]
    },
    {
     "name": "stdout",
     "output_type": "stream",
     "text": [
      "350:\tlearn: 0.7836149\ttest: 0.7832005\tbest: 0.7834907 (349)\ttotal: 46.1s\tremaining: 10m 10s\n"
     ]
    },
    {
     "name": "stdout",
     "output_type": "stream",
     "text": [
      "400:\tlearn: 0.7880214\ttest: 0.7868214\tbest: 0.7868666 (398)\ttotal: 52.6s\tremaining: 10m 3s\n"
     ]
    },
    {
     "name": "stdout",
     "output_type": "stream",
     "text": [
      "450:\tlearn: 0.7912754\ttest: 0.7885434\tbest: 0.7888420 (448)\ttotal: 59.2s\tremaining: 9m 56s\n"
     ]
    },
    {
     "name": "stdout",
     "output_type": "stream",
     "text": [
      "500:\tlearn: 0.7938377\ttest: 0.7892388\tbest: 0.7892832 (487)\ttotal: 1m 5s\tremaining: 9m 50s\n"
     ]
    },
    {
     "name": "stdout",
     "output_type": "stream",
     "text": [
      "550:\tlearn: 0.7959870\ttest: 0.7908402\tbest: 0.7909059 (547)\ttotal: 1m 12s\tremaining: 9m 43s\n"
     ]
    },
    {
     "name": "stdout",
     "output_type": "stream",
     "text": [
      "600:\tlearn: 0.7985376\ttest: 0.7914345\tbest: 0.7915859 (570)\ttotal: 1m 18s\tremaining: 9m 36s\n"
     ]
    },
    {
     "name": "stdout",
     "output_type": "stream",
     "text": [
      "650:\tlearn: 0.8004964\ttest: 0.7919446\tbest: 0.7923435 (628)\ttotal: 1m 25s\tremaining: 9m 30s\n"
     ]
    },
    {
     "name": "stdout",
     "output_type": "stream",
     "text": [
      "700:\tlearn: 0.8021972\ttest: 0.7925744\tbest: 0.7927766 (696)\ttotal: 1m 31s\tremaining: 9m 24s\n"
     ]
    },
    {
     "name": "stdout",
     "output_type": "stream",
     "text": [
      "750:\tlearn: 0.8038209\ttest: 0.7931494\tbest: 0.7931494 (750)\ttotal: 1m 38s\tremaining: 9m 17s\n"
     ]
    },
    {
     "name": "stdout",
     "output_type": "stream",
     "text": [
      "800:\tlearn: 0.8056945\ttest: 0.7928095\tbest: 0.7934043 (771)\ttotal: 1m 45s\tremaining: 9m 11s\n"
     ]
    },
    {
     "name": "stdout",
     "output_type": "stream",
     "text": [
      "850:\tlearn: 0.8073461\ttest: 0.7932483\tbest: 0.7934043 (771)\ttotal: 1m 51s\tremaining: 9m 4s\n"
     ]
    },
    {
     "name": "stdout",
     "output_type": "stream",
     "text": [
      "900:\tlearn: 0.8087847\ttest: 0.7937612\tbest: 0.7938581 (896)\ttotal: 1m 58s\tremaining: 8m 57s\n"
     ]
    },
    {
     "name": "stdout",
     "output_type": "stream",
     "text": [
      "950:\tlearn: 0.8104993\ttest: 0.7934331\tbest: 0.7941155 (924)\ttotal: 2m 4s\tremaining: 8m 51s\n"
     ]
    },
    {
     "name": "stdout",
     "output_type": "stream",
     "text": [
      "1000:\tlearn: 0.8116955\ttest: 0.7939311\tbest: 0.7941155 (924)\ttotal: 2m 11s\tremaining: 8m 44s\n"
     ]
    },
    {
     "name": "stdout",
     "output_type": "stream",
     "text": [
      "1050:\tlearn: 0.8132772\ttest: 0.7943697\tbest: 0.7946746 (1038)\ttotal: 2m 17s\tremaining: 8m 37s\n"
     ]
    },
    {
     "name": "stdout",
     "output_type": "stream",
     "text": [
      "1100:\tlearn: 0.8150020\ttest: 0.7942982\tbest: 0.7946746 (1038)\ttotal: 2m 24s\tremaining: 8m 30s\n"
     ]
    },
    {
     "name": "stdout",
     "output_type": "stream",
     "text": [
      "1150:\tlearn: 0.8163828\ttest: 0.7942369\tbest: 0.7946746 (1038)\ttotal: 2m 30s\tremaining: 8m 23s\n"
     ]
    },
    {
     "name": "stdout",
     "output_type": "stream",
     "text": [
      "1200:\tlearn: 0.8179891\ttest: 0.7945861\tbest: 0.7946746 (1038)\ttotal: 2m 37s\tremaining: 8m 17s\n"
     ]
    },
    {
     "name": "stdout",
     "output_type": "stream",
     "text": [
      "1250:\tlearn: 0.8193662\ttest: 0.7949234\tbest: 0.7951830 (1233)\ttotal: 2m 43s\tremaining: 8m 10s\n"
     ]
    },
    {
     "name": "stdout",
     "output_type": "stream",
     "text": [
      "1300:\tlearn: 0.8207834\ttest: 0.7947046\tbest: 0.7951830 (1233)\ttotal: 2m 50s\tremaining: 8m 3s\n"
     ]
    },
    {
     "name": "stdout",
     "output_type": "stream",
     "text": [
      "1350:\tlearn: 0.8221506\ttest: 0.7950815\tbest: 0.7951830 (1233)\ttotal: 2m 56s\tremaining: 7m 57s\n"
     ]
    },
    {
     "name": "stdout",
     "output_type": "stream",
     "text": [
      "1400:\tlearn: 0.8235459\ttest: 0.7949544\tbest: 0.7951830 (1233)\ttotal: 3m 3s\tremaining: 7m 50s\n"
     ]
    },
    {
     "name": "stdout",
     "output_type": "stream",
     "text": [
      "1450:\tlearn: 0.8251485\ttest: 0.7948162\tbest: 0.7951830 (1233)\ttotal: 3m 9s\tremaining: 7m 43s\n"
     ]
    },
    {
     "name": "stdout",
     "output_type": "stream",
     "text": [
      "1500:\tlearn: 0.8260226\ttest: 0.7949484\tbest: 0.7952165 (1480)\ttotal: 3m 16s\tremaining: 7m 37s\n"
     ]
    },
    {
     "name": "stdout",
     "output_type": "stream",
     "text": [
      "1550:\tlearn: 0.8272258\ttest: 0.7951298\tbest: 0.7956546 (1530)\ttotal: 3m 22s\tremaining: 7m 30s\n"
     ]
    },
    {
     "name": "stdout",
     "output_type": "stream",
     "text": [
      "1600:\tlearn: 0.8283039\ttest: 0.7949753\tbest: 0.7958317 (1561)\ttotal: 3m 29s\tremaining: 7m 24s\n"
     ]
    },
    {
     "name": "stdout",
     "output_type": "stream",
     "text": [
      "1650:\tlearn: 0.8293058\ttest: 0.7952095\tbest: 0.7958317 (1561)\ttotal: 3m 35s\tremaining: 7m 17s\n"
     ]
    },
    {
     "name": "stdout",
     "output_type": "stream",
     "text": [
      "1700:\tlearn: 0.8303879\ttest: 0.7949537\tbest: 0.7958317 (1561)\ttotal: 3m 42s\tremaining: 7m 10s\n"
     ]
    },
    {
     "name": "stdout",
     "output_type": "stream",
     "text": [
      "1750:\tlearn: 0.8318275\ttest: 0.7953070\tbest: 0.7958317 (1561)\ttotal: 3m 48s\tremaining: 7m 4s\n"
     ]
    },
    {
     "name": "stdout",
     "output_type": "stream",
     "text": [
      "1800:\tlearn: 0.8329779\ttest: 0.7953151\tbest: 0.7958317 (1561)\ttotal: 3m 55s\tremaining: 6m 57s\n"
     ]
    },
    {
     "name": "stdout",
     "output_type": "stream",
     "text": [
      "1850:\tlearn: 0.8341731\ttest: 0.7955753\tbest: 0.7958317 (1561)\ttotal: 4m 1s\tremaining: 6m 51s\n"
     ]
    },
    {
     "name": "stdout",
     "output_type": "stream",
     "text": [
      "1900:\tlearn: 0.8351118\ttest: 0.7957035\tbest: 0.7959817 (1867)\ttotal: 4m 8s\tremaining: 6m 44s\n"
     ]
    },
    {
     "name": "stdout",
     "output_type": "stream",
     "text": [
      "1950:\tlearn: 0.8360768\ttest: 0.7955841\tbest: 0.7959817 (1867)\ttotal: 4m 14s\tremaining: 6m 38s\n"
     ]
    },
    {
     "name": "stdout",
     "output_type": "stream",
     "text": [
      "2000:\tlearn: 0.8373014\ttest: 0.7953578\tbest: 0.7959817 (1867)\ttotal: 4m 21s\tremaining: 6m 31s\n"
     ]
    },
    {
     "name": "stdout",
     "output_type": "stream",
     "text": [
      "2050:\tlearn: 0.8382969\ttest: 0.7958246\tbest: 0.7959817 (1867)\ttotal: 4m 27s\tremaining: 6m 25s\n"
     ]
    },
    {
     "name": "stdout",
     "output_type": "stream",
     "text": [
      "2100:\tlearn: 0.8396002\ttest: 0.7959389\tbest: 0.7960417 (2095)\ttotal: 4m 34s\tremaining: 6m 18s\n"
     ]
    },
    {
     "name": "stdout",
     "output_type": "stream",
     "text": [
      "2150:\tlearn: 0.8408453\ttest: 0.7959950\tbest: 0.7961958 (2107)\ttotal: 4m 40s\tremaining: 6m 12s\n"
     ]
    },
    {
     "name": "stdout",
     "output_type": "stream",
     "text": [
      "2200:\tlearn: 0.8418674\ttest: 0.7963495\tbest: 0.7963495 (2200)\ttotal: 4m 47s\tremaining: 6m 5s\n"
     ]
    },
    {
     "name": "stdout",
     "output_type": "stream",
     "text": [
      "2250:\tlearn: 0.8427117\ttest: 0.7959830\tbest: 0.7966423 (2203)\ttotal: 4m 53s\tremaining: 5m 58s\n"
     ]
    },
    {
     "name": "stdout",
     "output_type": "stream",
     "text": [
      "2300:\tlearn: 0.8437993\ttest: 0.7965321\tbest: 0.7967516 (2275)\ttotal: 5m\tremaining: 5m 52s\n"
     ]
    },
    {
     "name": "stdout",
     "output_type": "stream",
     "text": [
      "2350:\tlearn: 0.8449797\ttest: 0.7971520\tbest: 0.7972567 (2346)\ttotal: 5m 6s\tremaining: 5m 45s\n"
     ]
    },
    {
     "name": "stdout",
     "output_type": "stream",
     "text": [
      "2400:\tlearn: 0.8458196\ttest: 0.7969324\tbest: 0.7974300 (2371)\ttotal: 5m 13s\tremaining: 5m 39s\n"
     ]
    },
    {
     "name": "stdout",
     "output_type": "stream",
     "text": [
      "2450:\tlearn: 0.8466192\ttest: 0.7967301\tbest: 0.7974300 (2371)\ttotal: 5m 19s\tremaining: 5m 32s\n"
     ]
    },
    {
     "name": "stdout",
     "output_type": "stream",
     "text": [
      "2500:\tlearn: 0.8479456\ttest: 0.7967318\tbest: 0.7974300 (2371)\ttotal: 5m 26s\tremaining: 5m 26s\n"
     ]
    },
    {
     "name": "stdout",
     "output_type": "stream",
     "text": [
      "2550:\tlearn: 0.8488732\ttest: 0.7967344\tbest: 0.7974300 (2371)\ttotal: 5m 32s\tremaining: 5m 19s\n"
     ]
    },
    {
     "name": "stdout",
     "output_type": "stream",
     "text": [
      "2600:\tlearn: 0.8500453\ttest: 0.7965465\tbest: 0.7974300 (2371)\ttotal: 5m 39s\tremaining: 5m 13s\n"
     ]
    },
    {
     "name": "stdout",
     "output_type": "stream",
     "text": [
      "2650:\tlearn: 0.8509938\ttest: 0.7963308\tbest: 0.7974300 (2371)\ttotal: 5m 45s\tremaining: 5m 6s\n"
     ]
    },
    {
     "name": "stdout",
     "output_type": "stream",
     "text": [
      "2700:\tlearn: 0.8518098\ttest: 0.7964706\tbest: 0.7974300 (2371)\ttotal: 5m 52s\tremaining: 5m\n"
     ]
    },
    {
     "name": "stdout",
     "output_type": "stream",
     "text": [
      "2750:\tlearn: 0.8529413\ttest: 0.7965874\tbest: 0.7974300 (2371)\ttotal: 5m 59s\tremaining: 4m 53s\n"
     ]
    },
    {
     "name": "stdout",
     "output_type": "stream",
     "text": [
      "2800:\tlearn: 0.8538214\ttest: 0.7971914\tbest: 0.7974300 (2371)\ttotal: 6m 5s\tremaining: 4m 46s\n"
     ]
    },
    {
     "name": "stdout",
     "output_type": "stream",
     "text": [
      "2850:\tlearn: 0.8547710\ttest: 0.7968083\tbest: 0.7974300 (2371)\ttotal: 6m 12s\tremaining: 4m 40s\n"
     ]
    },
    {
     "name": "stdout",
     "output_type": "stream",
     "text": [
      "2900:\tlearn: 0.8556198\ttest: 0.7971962\tbest: 0.7974300 (2371)\ttotal: 6m 18s\tremaining: 4m 33s\n"
     ]
    },
    {
     "name": "stdout",
     "output_type": "stream",
     "text": [
      "2950:\tlearn: 0.8565148\ttest: 0.7972981\tbest: 0.7976982 (2945)\ttotal: 6m 25s\tremaining: 4m 27s\n"
     ]
    },
    {
     "name": "stdout",
     "output_type": "stream",
     "text": [
      "3000:\tlearn: 0.8575012\ttest: 0.7970298\tbest: 0.7976982 (2945)\ttotal: 6m 31s\tremaining: 4m 20s\n"
     ]
    },
    {
     "name": "stdout",
     "output_type": "stream",
     "text": [
      "3050:\tlearn: 0.8585124\ttest: 0.7973888\tbest: 0.7976982 (2945)\ttotal: 6m 38s\tremaining: 4m 14s\n"
     ]
    },
    {
     "name": "stdout",
     "output_type": "stream",
     "text": [
      "3100:\tlearn: 0.8596667\ttest: 0.7973984\tbest: 0.7976982 (2945)\ttotal: 6m 44s\tremaining: 4m 7s\n"
     ]
    },
    {
     "name": "stdout",
     "output_type": "stream",
     "text": [
      "3150:\tlearn: 0.8606998\ttest: 0.7970724\tbest: 0.7976982 (2945)\ttotal: 6m 51s\tremaining: 4m 1s\n"
     ]
    },
    {
     "name": "stdout",
     "output_type": "stream",
     "text": [
      "3200:\tlearn: 0.8616188\ttest: 0.7971798\tbest: 0.7976982 (2945)\ttotal: 6m 57s\tremaining: 3m 54s\n"
     ]
    },
    {
     "name": "stdout",
     "output_type": "stream",
     "text": [
      "3250:\tlearn: 0.8622367\ttest: 0.7974046\tbest: 0.7976982 (2945)\ttotal: 7m 4s\tremaining: 3m 48s\n"
     ]
    },
    {
     "name": "stdout",
     "output_type": "stream",
     "text": [
      "3300:\tlearn: 0.8629383\ttest: 0.7976212\tbest: 0.7979558 (3281)\ttotal: 7m 10s\tremaining: 3m 41s\n"
     ]
    },
    {
     "name": "stdout",
     "output_type": "stream",
     "text": [
      "3350:\tlearn: 0.8638391\ttest: 0.7978515\tbest: 0.7979558 (3281)\ttotal: 7m 17s\tremaining: 3m 35s\n"
     ]
    },
    {
     "name": "stdout",
     "output_type": "stream",
     "text": [
      "3400:\tlearn: 0.8647811\ttest: 0.7976745\tbest: 0.7979558 (3281)\ttotal: 7m 23s\tremaining: 3m 28s\n"
     ]
    },
    {
     "name": "stdout",
     "output_type": "stream",
     "text": [
      "3450:\tlearn: 0.8657097\ttest: 0.7977146\tbest: 0.7979558 (3281)\ttotal: 7m 30s\tremaining: 3m 22s\n"
     ]
    },
    {
     "name": "stdout",
     "output_type": "stream",
     "text": [
      "3500:\tlearn: 0.8665360\ttest: 0.7978257\tbest: 0.7979711 (3494)\ttotal: 7m 36s\tremaining: 3m 15s\n"
     ]
    },
    {
     "name": "stdout",
     "output_type": "stream",
     "text": [
      "3550:\tlearn: 0.8673643\ttest: 0.7981474\tbest: 0.7983548 (3535)\ttotal: 7m 43s\tremaining: 3m 9s\n"
     ]
    },
    {
     "name": "stdout",
     "output_type": "stream",
     "text": [
      "3600:\tlearn: 0.8682767\ttest: 0.7982492\tbest: 0.7986434 (3579)\ttotal: 7m 49s\tremaining: 3m 2s\n"
     ]
    },
    {
     "name": "stdout",
     "output_type": "stream",
     "text": [
      "3650:\tlearn: 0.8692546\ttest: 0.7987127\tbest: 0.7987127 (3650)\ttotal: 7m 56s\tremaining: 2m 55s\n"
     ]
    },
    {
     "name": "stdout",
     "output_type": "stream",
     "text": [
      "3700:\tlearn: 0.8700926\ttest: 0.7982875\tbest: 0.7987127 (3650)\ttotal: 8m 2s\tremaining: 2m 49s\n"
     ]
    },
    {
     "name": "stdout",
     "output_type": "stream",
     "text": [
      "3750:\tlearn: 0.8709127\ttest: 0.7982326\tbest: 0.7987127 (3650)\ttotal: 8m 9s\tremaining: 2m 42s\n"
     ]
    },
    {
     "name": "stdout",
     "output_type": "stream",
     "text": [
      "3800:\tlearn: 0.8717651\ttest: 0.7982928\tbest: 0.7987127 (3650)\ttotal: 8m 15s\tremaining: 2m 36s\n"
     ]
    },
    {
     "name": "stdout",
     "output_type": "stream",
     "text": [
      "3850:\tlearn: 0.8726176\ttest: 0.7982057\tbest: 0.7987127 (3650)\ttotal: 8m 22s\tremaining: 2m 29s\n"
     ]
    },
    {
     "name": "stdout",
     "output_type": "stream",
     "text": [
      "3900:\tlearn: 0.8734224\ttest: 0.7984878\tbest: 0.7987127 (3650)\ttotal: 8m 28s\tremaining: 2m 23s\n"
     ]
    },
    {
     "name": "stdout",
     "output_type": "stream",
     "text": [
      "3950:\tlearn: 0.8744273\ttest: 0.7987063\tbest: 0.7989961 (3908)\ttotal: 8m 35s\tremaining: 2m 16s\n"
     ]
    },
    {
     "name": "stdout",
     "output_type": "stream",
     "text": [
      "4000:\tlearn: 0.8752454\ttest: 0.7985973\tbest: 0.7989961 (3908)\ttotal: 8m 41s\tremaining: 2m 10s\n"
     ]
    },
    {
     "name": "stdout",
     "output_type": "stream",
     "text": [
      "4050:\tlearn: 0.8762097\ttest: 0.7982152\tbest: 0.7989961 (3908)\ttotal: 8m 48s\tremaining: 2m 3s\n"
     ]
    },
    {
     "name": "stdout",
     "output_type": "stream",
     "text": [
      "4100:\tlearn: 0.8770065\ttest: 0.7981471\tbest: 0.7989961 (3908)\ttotal: 8m 54s\tremaining: 1m 57s\n"
     ]
    },
    {
     "name": "stdout",
     "output_type": "stream",
     "text": [
      "4150:\tlearn: 0.8779553\ttest: 0.7983213\tbest: 0.7989961 (3908)\ttotal: 9m 1s\tremaining: 1m 50s\n"
     ]
    },
    {
     "name": "stdout",
     "output_type": "stream",
     "text": [
      "4200:\tlearn: 0.8789659\ttest: 0.7981334\tbest: 0.7989961 (3908)\ttotal: 9m 7s\tremaining: 1m 44s\n"
     ]
    },
    {
     "name": "stdout",
     "output_type": "stream",
     "text": [
      "4250:\tlearn: 0.8800450\ttest: 0.7979460\tbest: 0.7989961 (3908)\ttotal: 9m 14s\tremaining: 1m 37s\n"
     ]
    },
    {
     "name": "stdout",
     "output_type": "stream",
     "text": [
      "4300:\tlearn: 0.8805193\ttest: 0.7981159\tbest: 0.7989961 (3908)\ttotal: 9m 20s\tremaining: 1m 31s\n"
     ]
    },
    {
     "name": "stdout",
     "output_type": "stream",
     "text": [
      "4350:\tlearn: 0.8815491\ttest: 0.7977689\tbest: 0.7989961 (3908)\ttotal: 9m 27s\tremaining: 1m 24s\n"
     ]
    },
    {
     "name": "stdout",
     "output_type": "stream",
     "text": [
      "4400:\tlearn: 0.8822436\ttest: 0.7978718\tbest: 0.7989961 (3908)\ttotal: 9m 33s\tremaining: 1m 18s\n"
     ]
    },
    {
     "name": "stdout",
     "output_type": "stream",
     "text": [
      "4450:\tlearn: 0.8830515\ttest: 0.7974805\tbest: 0.7989961 (3908)\ttotal: 9m 40s\tremaining: 1m 11s\n"
     ]
    },
    {
     "name": "stdout",
     "output_type": "stream",
     "text": [
      "4500:\tlearn: 0.8837286\ttest: 0.7980262\tbest: 0.7989961 (3908)\ttotal: 9m 46s\tremaining: 1m 5s\n"
     ]
    },
    {
     "name": "stdout",
     "output_type": "stream",
     "text": [
      "4550:\tlearn: 0.8845570\ttest: 0.7981221\tbest: 0.7989961 (3908)\ttotal: 9m 53s\tremaining: 58.6s\n"
     ]
    },
    {
     "name": "stdout",
     "output_type": "stream",
     "text": [
      "4600:\tlearn: 0.8855123\ttest: 0.7979143\tbest: 0.7989961 (3908)\ttotal: 10m\tremaining: 52s\n"
     ]
    },
    {
     "name": "stdout",
     "output_type": "stream",
     "text": [
      "4650:\tlearn: 0.8862156\ttest: 0.7979997\tbest: 0.7989961 (3908)\ttotal: 10m 6s\tremaining: 45.5s\n"
     ]
    },
    {
     "name": "stdout",
     "output_type": "stream",
     "text": [
      "4700:\tlearn: 0.8869811\ttest: 0.7977328\tbest: 0.7989961 (3908)\ttotal: 10m 13s\tremaining: 39s\n"
     ]
    },
    {
     "name": "stdout",
     "output_type": "stream",
     "text": [
      "4750:\tlearn: 0.8875211\ttest: 0.7979040\tbest: 0.7989961 (3908)\ttotal: 10m 19s\tremaining: 32.5s\n"
     ]
    },
    {
     "name": "stdout",
     "output_type": "stream",
     "text": [
      "4800:\tlearn: 0.8883801\ttest: 0.7970883\tbest: 0.7989961 (3908)\ttotal: 10m 26s\tremaining: 26s\n"
     ]
    },
    {
     "name": "stdout",
     "output_type": "stream",
     "text": [
      "4850:\tlearn: 0.8891953\ttest: 0.7974818\tbest: 0.7989961 (3908)\ttotal: 10m 32s\tremaining: 19.4s\n"
     ]
    },
    {
     "name": "stdout",
     "output_type": "stream",
     "text": [
      "4900:\tlearn: 0.8900613\ttest: 0.7975222\tbest: 0.7989961 (3908)\ttotal: 10m 39s\tremaining: 12.9s\n"
     ]
    },
    {
     "name": "stdout",
     "output_type": "stream",
     "text": [
      "4950:\tlearn: 0.8910449\ttest: 0.7973378\tbest: 0.7989961 (3908)\ttotal: 10m 45s\tremaining: 6.39s\n"
     ]
    },
    {
     "name": "stdout",
     "output_type": "stream",
     "text": [
      "4999:\tlearn: 0.8916902\ttest: 0.7974095\tbest: 0.7989961 (3908)\ttotal: 10m 52s\tremaining: 0us\n",
      "\n",
      "bestTest = 0.7989960774\n",
      "bestIteration = 3908\n",
      "\n"
     ]
    },
    {
     "name": "stdout",
     "output_type": "stream",
     "text": [
      "######################################## training model 3/5 ########################################\n",
      "seed: 17\n"
     ]
    },
    {
     "name": "stdout",
     "output_type": "stream",
     "text": [
      "0:\tlearn: 0.6108839\ttest: 0.6129137\tbest: 0.6129137 (0)\ttotal: 459ms\tremaining: 38m 12s\n"
     ]
    },
    {
     "name": "stdout",
     "output_type": "stream",
     "text": [
      "50:\tlearn: 0.7432651\ttest: 0.7450664\tbest: 0.7450664 (50)\ttotal: 7.01s\tremaining: 11m 20s\n"
     ]
    },
    {
     "name": "stdout",
     "output_type": "stream",
     "text": [
      "100:\tlearn: 0.7550481\ttest: 0.7590093\tbest: 0.7590093 (100)\ttotal: 13.6s\tremaining: 10m 58s\n"
     ]
    },
    {
     "name": "stdout",
     "output_type": "stream",
     "text": [
      "150:\tlearn: 0.7620609\ttest: 0.7660778\tbest: 0.7660778 (150)\ttotal: 20.2s\tremaining: 10m 48s\n"
     ]
    },
    {
     "name": "stdout",
     "output_type": "stream",
     "text": [
      "200:\tlearn: 0.7668103\ttest: 0.7703186\tbest: 0.7705328 (198)\ttotal: 26.8s\tremaining: 10m 39s\n"
     ]
    },
    {
     "name": "stdout",
     "output_type": "stream",
     "text": [
      "250:\tlearn: 0.7708399\ttest: 0.7736074\tbest: 0.7736074 (250)\ttotal: 33.3s\tremaining: 10m 30s\n"
     ]
    },
    {
     "name": "stdout",
     "output_type": "stream",
     "text": [
      "300:\tlearn: 0.7761993\ttest: 0.7781909\tbest: 0.7782139 (299)\ttotal: 40s\tremaining: 10m 23s\n"
     ]
    },
    {
     "name": "stdout",
     "output_type": "stream",
     "text": [
      "350:\tlearn: 0.7828858\ttest: 0.7847244\tbest: 0.7848299 (349)\ttotal: 46.5s\tremaining: 10m 16s\n"
     ]
    },
    {
     "name": "stdout",
     "output_type": "stream",
     "text": [
      "400:\tlearn: 0.7872762\ttest: 0.7882784\tbest: 0.7882784 (400)\ttotal: 53.1s\tremaining: 10m 9s\n"
     ]
    },
    {
     "name": "stdout",
     "output_type": "stream",
     "text": [
      "450:\tlearn: 0.7908606\ttest: 0.7902867\tbest: 0.7902867 (450)\ttotal: 59.8s\tremaining: 10m 3s\n"
     ]
    },
    {
     "name": "stdout",
     "output_type": "stream",
     "text": [
      "500:\tlearn: 0.7933236\ttest: 0.7916874\tbest: 0.7916874 (500)\ttotal: 1m 6s\tremaining: 9m 56s\n"
     ]
    },
    {
     "name": "stdout",
     "output_type": "stream",
     "text": [
      "550:\tlearn: 0.7958112\ttest: 0.7932254\tbest: 0.7935504 (525)\ttotal: 1m 13s\tremaining: 9m 49s\n"
     ]
    },
    {
     "name": "stdout",
     "output_type": "stream",
     "text": [
      "600:\tlearn: 0.7982620\ttest: 0.7937873\tbest: 0.7940118 (597)\ttotal: 1m 19s\tremaining: 9m 42s\n"
     ]
    },
    {
     "name": "stdout",
     "output_type": "stream",
     "text": [
      "650:\tlearn: 0.8001742\ttest: 0.7949704\tbest: 0.7949704 (650)\ttotal: 1m 26s\tremaining: 9m 36s\n"
     ]
    },
    {
     "name": "stdout",
     "output_type": "stream",
     "text": [
      "700:\tlearn: 0.8017559\ttest: 0.7952629\tbest: 0.7953338 (672)\ttotal: 1m 32s\tremaining: 9m 29s\n"
     ]
    },
    {
     "name": "stdout",
     "output_type": "stream",
     "text": [
      "750:\tlearn: 0.8034951\ttest: 0.7959221\tbest: 0.7960687 (747)\ttotal: 1m 39s\tremaining: 9m 22s\n"
     ]
    },
    {
     "name": "stdout",
     "output_type": "stream",
     "text": [
      "800:\tlearn: 0.8049961\ttest: 0.7968388\tbest: 0.7969210 (798)\ttotal: 1m 45s\tremaining: 9m 15s\n"
     ]
    },
    {
     "name": "stdout",
     "output_type": "stream",
     "text": [
      "850:\tlearn: 0.8067407\ttest: 0.7973322\tbest: 0.7973461 (836)\ttotal: 1m 52s\tremaining: 9m 8s\n"
     ]
    },
    {
     "name": "stdout",
     "output_type": "stream",
     "text": [
      "900:\tlearn: 0.8085531\ttest: 0.7972507\tbest: 0.7974185 (851)\ttotal: 1m 59s\tremaining: 9m 1s\n"
     ]
    },
    {
     "name": "stdout",
     "output_type": "stream",
     "text": [
      "950:\tlearn: 0.8105024\ttest: 0.7975008\tbest: 0.7977129 (941)\ttotal: 2m 5s\tremaining: 8m 54s\n"
     ]
    },
    {
     "name": "stdout",
     "output_type": "stream",
     "text": [
      "1000:\tlearn: 0.8120163\ttest: 0.7971620\tbest: 0.7977129 (941)\ttotal: 2m 12s\tremaining: 8m 47s\n"
     ]
    },
    {
     "name": "stdout",
     "output_type": "stream",
     "text": [
      "1050:\tlearn: 0.8135806\ttest: 0.7974974\tbest: 0.7977528 (1036)\ttotal: 2m 18s\tremaining: 8m 41s\n"
     ]
    },
    {
     "name": "stdout",
     "output_type": "stream",
     "text": [
      "1100:\tlearn: 0.8149522\ttest: 0.7976555\tbest: 0.7979244 (1094)\ttotal: 2m 25s\tremaining: 8m 34s\n"
     ]
    },
    {
     "name": "stdout",
     "output_type": "stream",
     "text": [
      "1150:\tlearn: 0.8163573\ttest: 0.7978593\tbest: 0.7981496 (1142)\ttotal: 2m 31s\tremaining: 8m 27s\n"
     ]
    },
    {
     "name": "stdout",
     "output_type": "stream",
     "text": [
      "1200:\tlearn: 0.8178903\ttest: 0.7982467\tbest: 0.7985153 (1188)\ttotal: 2m 38s\tremaining: 8m 21s\n"
     ]
    },
    {
     "name": "stdout",
     "output_type": "stream",
     "text": [
      "1250:\tlearn: 0.8191101\ttest: 0.7983142\tbest: 0.7987622 (1208)\ttotal: 2m 44s\tremaining: 8m 14s\n"
     ]
    },
    {
     "name": "stdout",
     "output_type": "stream",
     "text": [
      "1300:\tlearn: 0.8206337\ttest: 0.7987062\tbest: 0.7989922 (1282)\ttotal: 2m 51s\tremaining: 8m 7s\n"
     ]
    },
    {
     "name": "stdout",
     "output_type": "stream",
     "text": [
      "1350:\tlearn: 0.8220282\ttest: 0.7992851\tbest: 0.7993865 (1348)\ttotal: 2m 58s\tremaining: 8m 1s\n"
     ]
    },
    {
     "name": "stdout",
     "output_type": "stream",
     "text": [
      "1400:\tlearn: 0.8234328\ttest: 0.7995008\tbest: 0.7998124 (1387)\ttotal: 3m 4s\tremaining: 7m 54s\n"
     ]
    },
    {
     "name": "stdout",
     "output_type": "stream",
     "text": [
      "1450:\tlearn: 0.8242218\ttest: 0.7993593\tbest: 0.7998630 (1406)\ttotal: 3m 11s\tremaining: 7m 47s\n"
     ]
    },
    {
     "name": "stdout",
     "output_type": "stream",
     "text": [
      "1500:\tlearn: 0.8254109\ttest: 0.7995092\tbest: 0.7999799 (1464)\ttotal: 3m 17s\tremaining: 7m 41s\n"
     ]
    },
    {
     "name": "stdout",
     "output_type": "stream",
     "text": [
      "1550:\tlearn: 0.8264634\ttest: 0.7999096\tbest: 0.7999799 (1464)\ttotal: 3m 24s\tremaining: 7m 34s\n"
     ]
    },
    {
     "name": "stdout",
     "output_type": "stream",
     "text": [
      "1600:\tlearn: 0.8278524\ttest: 0.7999953\tbest: 0.8002747 (1564)\ttotal: 3m 30s\tremaining: 7m 27s\n"
     ]
    },
    {
     "name": "stdout",
     "output_type": "stream",
     "text": [
      "1650:\tlearn: 0.8289933\ttest: 0.7995967\tbest: 0.8002747 (1564)\ttotal: 3m 37s\tremaining: 7m 21s\n"
     ]
    },
    {
     "name": "stdout",
     "output_type": "stream",
     "text": [
      "1700:\tlearn: 0.8301363\ttest: 0.7999732\tbest: 0.8002747 (1564)\ttotal: 3m 43s\tremaining: 7m 14s\n"
     ]
    },
    {
     "name": "stdout",
     "output_type": "stream",
     "text": [
      "1750:\tlearn: 0.8314154\ttest: 0.8002072\tbest: 0.8003930 (1744)\ttotal: 3m 50s\tremaining: 7m 7s\n"
     ]
    },
    {
     "name": "stdout",
     "output_type": "stream",
     "text": [
      "1800:\tlearn: 0.8325371\ttest: 0.8002886\tbest: 0.8003930 (1744)\ttotal: 3m 57s\tremaining: 7m 1s\n"
     ]
    },
    {
     "name": "stdout",
     "output_type": "stream",
     "text": [
      "1850:\tlearn: 0.8337921\ttest: 0.8003690\tbest: 0.8004126 (1848)\ttotal: 4m 3s\tremaining: 6m 54s\n"
     ]
    },
    {
     "name": "stdout",
     "output_type": "stream",
     "text": [
      "1900:\tlearn: 0.8351603\ttest: 0.8006555\tbest: 0.8006555 (1900)\ttotal: 4m 10s\tremaining: 6m 47s\n"
     ]
    },
    {
     "name": "stdout",
     "output_type": "stream",
     "text": [
      "1950:\tlearn: 0.8360628\ttest: 0.8003834\tbest: 0.8007629 (1904)\ttotal: 4m 16s\tremaining: 6m 41s\n"
     ]
    },
    {
     "name": "stdout",
     "output_type": "stream",
     "text": [
      "2000:\tlearn: 0.8366764\ttest: 0.8002139\tbest: 0.8007629 (1904)\ttotal: 4m 23s\tremaining: 6m 34s\n"
     ]
    },
    {
     "name": "stdout",
     "output_type": "stream",
     "text": [
      "2050:\tlearn: 0.8380621\ttest: 0.8002280\tbest: 0.8007629 (1904)\ttotal: 4m 30s\tremaining: 6m 28s\n"
     ]
    },
    {
     "name": "stdout",
     "output_type": "stream",
     "text": [
      "2100:\tlearn: 0.8391866\ttest: 0.8003022\tbest: 0.8007629 (1904)\ttotal: 4m 36s\tremaining: 6m 21s\n"
     ]
    },
    {
     "name": "stdout",
     "output_type": "stream",
     "text": [
      "2150:\tlearn: 0.8403662\ttest: 0.8002835\tbest: 0.8007629 (1904)\ttotal: 4m 43s\tremaining: 6m 15s\n"
     ]
    },
    {
     "name": "stdout",
     "output_type": "stream",
     "text": [
      "2200:\tlearn: 0.8414253\ttest: 0.7999439\tbest: 0.8007629 (1904)\ttotal: 4m 49s\tremaining: 6m 8s\n"
     ]
    },
    {
     "name": "stdout",
     "output_type": "stream",
     "text": [
      "2250:\tlearn: 0.8424251\ttest: 0.7997802\tbest: 0.8007629 (1904)\ttotal: 4m 56s\tremaining: 6m 1s\n"
     ]
    },
    {
     "name": "stdout",
     "output_type": "stream",
     "text": [
      "2300:\tlearn: 0.8434781\ttest: 0.7997939\tbest: 0.8007629 (1904)\ttotal: 5m 3s\tremaining: 5m 55s\n"
     ]
    },
    {
     "name": "stdout",
     "output_type": "stream",
     "text": [
      "2350:\tlearn: 0.8444523\ttest: 0.7996606\tbest: 0.8007629 (1904)\ttotal: 5m 9s\tremaining: 5m 48s\n"
     ]
    },
    {
     "name": "stdout",
     "output_type": "stream",
     "text": [
      "2400:\tlearn: 0.8454092\ttest: 0.7993530\tbest: 0.8007629 (1904)\ttotal: 5m 16s\tremaining: 5m 42s\n"
     ]
    },
    {
     "name": "stdout",
     "output_type": "stream",
     "text": [
      "2450:\tlearn: 0.8467252\ttest: 0.7995768\tbest: 0.8007629 (1904)\ttotal: 5m 22s\tremaining: 5m 35s\n"
     ]
    },
    {
     "name": "stdout",
     "output_type": "stream",
     "text": [
      "2500:\tlearn: 0.8477523\ttest: 0.7998009\tbest: 0.8007629 (1904)\ttotal: 5m 29s\tremaining: 5m 29s\n"
     ]
    },
    {
     "name": "stdout",
     "output_type": "stream",
     "text": [
      "2550:\tlearn: 0.8490963\ttest: 0.8001574\tbest: 0.8007629 (1904)\ttotal: 5m 36s\tremaining: 5m 22s\n"
     ]
    },
    {
     "name": "stdout",
     "output_type": "stream",
     "text": [
      "2600:\tlearn: 0.8501646\ttest: 0.8001961\tbest: 0.8007629 (1904)\ttotal: 5m 42s\tremaining: 5m 16s\n"
     ]
    },
    {
     "name": "stdout",
     "output_type": "stream",
     "text": [
      "2650:\tlearn: 0.8512411\ttest: 0.7995638\tbest: 0.8007629 (1904)\ttotal: 5m 49s\tremaining: 5m 9s\n"
     ]
    },
    {
     "name": "stdout",
     "output_type": "stream",
     "text": [
      "2700:\tlearn: 0.8523076\ttest: 0.7997642\tbest: 0.8007629 (1904)\ttotal: 5m 55s\tremaining: 5m 2s\n"
     ]
    },
    {
     "name": "stdout",
     "output_type": "stream",
     "text": [
      "2750:\tlearn: 0.8531880\ttest: 0.7996027\tbest: 0.8007629 (1904)\ttotal: 6m 2s\tremaining: 4m 56s\n"
     ]
    },
    {
     "name": "stdout",
     "output_type": "stream",
     "text": [
      "2800:\tlearn: 0.8544437\ttest: 0.8000936\tbest: 0.8007629 (1904)\ttotal: 6m 9s\tremaining: 4m 49s\n"
     ]
    },
    {
     "name": "stdout",
     "output_type": "stream",
     "text": [
      "2850:\tlearn: 0.8552308\ttest: 0.8003042\tbest: 0.8007629 (1904)\ttotal: 6m 15s\tremaining: 4m 43s\n"
     ]
    },
    {
     "name": "stdout",
     "output_type": "stream",
     "text": [
      "2900:\tlearn: 0.8562978\ttest: 0.7998283\tbest: 0.8007629 (1904)\ttotal: 6m 22s\tremaining: 4m 36s\n"
     ]
    },
    {
     "name": "stdout",
     "output_type": "stream",
     "text": [
      "2950:\tlearn: 0.8573347\ttest: 0.7998335\tbest: 0.8007629 (1904)\ttotal: 6m 28s\tremaining: 4m 29s\n"
     ]
    },
    {
     "name": "stdout",
     "output_type": "stream",
     "text": [
      "3000:\tlearn: 0.8581940\ttest: 0.7998440\tbest: 0.8007629 (1904)\ttotal: 6m 35s\tremaining: 4m 23s\n"
     ]
    },
    {
     "name": "stdout",
     "output_type": "stream",
     "text": [
      "3050:\tlearn: 0.8590291\ttest: 0.7996378\tbest: 0.8007629 (1904)\ttotal: 6m 41s\tremaining: 4m 16s\n"
     ]
    },
    {
     "name": "stdout",
     "output_type": "stream",
     "text": [
      "3100:\tlearn: 0.8598494\ttest: 0.7991829\tbest: 0.8007629 (1904)\ttotal: 6m 48s\tremaining: 4m 10s\n"
     ]
    },
    {
     "name": "stdout",
     "output_type": "stream",
     "text": [
      "3150:\tlearn: 0.8608841\ttest: 0.7995111\tbest: 0.8007629 (1904)\ttotal: 6m 54s\tremaining: 4m 3s\n"
     ]
    },
    {
     "name": "stdout",
     "output_type": "stream",
     "text": [
      "3200:\tlearn: 0.8617134\ttest: 0.7994699\tbest: 0.8007629 (1904)\ttotal: 7m 1s\tremaining: 3m 56s\n"
     ]
    },
    {
     "name": "stdout",
     "output_type": "stream",
     "text": [
      "3250:\tlearn: 0.8628277\ttest: 0.7994193\tbest: 0.8007629 (1904)\ttotal: 7m 7s\tremaining: 3m 50s\n"
     ]
    },
    {
     "name": "stdout",
     "output_type": "stream",
     "text": [
      "3300:\tlearn: 0.8638369\ttest: 0.8000355\tbest: 0.8007629 (1904)\ttotal: 7m 14s\tremaining: 3m 43s\n"
     ]
    },
    {
     "name": "stdout",
     "output_type": "stream",
     "text": [
      "3350:\tlearn: 0.8646307\ttest: 0.8003648\tbest: 0.8007629 (1904)\ttotal: 7m 21s\tremaining: 3m 37s\n"
     ]
    },
    {
     "name": "stdout",
     "output_type": "stream",
     "text": [
      "3400:\tlearn: 0.8657894\ttest: 0.8003438\tbest: 0.8007629 (1904)\ttotal: 7m 27s\tremaining: 3m 30s\n"
     ]
    },
    {
     "name": "stdout",
     "output_type": "stream",
     "text": [
      "3450:\tlearn: 0.8666100\ttest: 0.7998204\tbest: 0.8007629 (1904)\ttotal: 7m 34s\tremaining: 3m 23s\n"
     ]
    },
    {
     "name": "stdout",
     "output_type": "stream",
     "text": [
      "3500:\tlearn: 0.8675017\ttest: 0.8000428\tbest: 0.8007629 (1904)\ttotal: 7m 40s\tremaining: 3m 17s\n"
     ]
    },
    {
     "name": "stdout",
     "output_type": "stream",
     "text": [
      "3550:\tlearn: 0.8683830\ttest: 0.7999572\tbest: 0.8007629 (1904)\ttotal: 7m 47s\tremaining: 3m 10s\n"
     ]
    },
    {
     "name": "stdout",
     "output_type": "stream",
     "text": [
      "3600:\tlearn: 0.8695943\ttest: 0.7999689\tbest: 0.8007629 (1904)\ttotal: 7m 53s\tremaining: 3m 4s\n"
     ]
    },
    {
     "name": "stdout",
     "output_type": "stream",
     "text": [
      "3650:\tlearn: 0.8706370\ttest: 0.8001167\tbest: 0.8007629 (1904)\ttotal: 8m\tremaining: 2m 57s\n"
     ]
    },
    {
     "name": "stdout",
     "output_type": "stream",
     "text": [
      "3700:\tlearn: 0.8716954\ttest: 0.7998084\tbest: 0.8007629 (1904)\ttotal: 8m 7s\tremaining: 2m 50s\n"
     ]
    },
    {
     "name": "stdout",
     "output_type": "stream",
     "text": [
      "3750:\tlearn: 0.8725688\ttest: 0.7998267\tbest: 0.8007629 (1904)\ttotal: 8m 13s\tremaining: 2m 44s\n"
     ]
    },
    {
     "name": "stdout",
     "output_type": "stream",
     "text": [
      "3800:\tlearn: 0.8734414\ttest: 0.7998994\tbest: 0.8007629 (1904)\ttotal: 8m 20s\tremaining: 2m 37s\n"
     ]
    },
    {
     "name": "stdout",
     "output_type": "stream",
     "text": [
      "3850:\tlearn: 0.8742505\ttest: 0.7999858\tbest: 0.8007629 (1904)\ttotal: 8m 26s\tremaining: 2m 31s\n"
     ]
    },
    {
     "name": "stdout",
     "output_type": "stream",
     "text": [
      "3900:\tlearn: 0.8751146\ttest: 0.7998828\tbest: 0.8007629 (1904)\ttotal: 8m 33s\tremaining: 2m 24s\n"
     ]
    },
    {
     "name": "stdout",
     "output_type": "stream",
     "text": [
      "3950:\tlearn: 0.8761234\ttest: 0.7996243\tbest: 0.8007629 (1904)\ttotal: 8m 40s\tremaining: 2m 18s\n"
     ]
    },
    {
     "name": "stdout",
     "output_type": "stream",
     "text": [
      "4000:\tlearn: 0.8770074\ttest: 0.7994615\tbest: 0.8007629 (1904)\ttotal: 8m 46s\tremaining: 2m 11s\n"
     ]
    },
    {
     "name": "stdout",
     "output_type": "stream",
     "text": [
      "4050:\tlearn: 0.8778498\ttest: 0.7999461\tbest: 0.8007629 (1904)\ttotal: 8m 53s\tremaining: 2m 4s\n"
     ]
    },
    {
     "name": "stdout",
     "output_type": "stream",
     "text": [
      "4100:\tlearn: 0.8790408\ttest: 0.7999892\tbest: 0.8007629 (1904)\ttotal: 8m 59s\tremaining: 1m 58s\n"
     ]
    },
    {
     "name": "stdout",
     "output_type": "stream",
     "text": [
      "4150:\tlearn: 0.8799326\ttest: 0.7999518\tbest: 0.8007629 (1904)\ttotal: 9m 6s\tremaining: 1m 51s\n"
     ]
    },
    {
     "name": "stdout",
     "output_type": "stream",
     "text": [
      "4200:\tlearn: 0.8808750\ttest: 0.8001408\tbest: 0.8007629 (1904)\ttotal: 9m 12s\tremaining: 1m 45s\n"
     ]
    },
    {
     "name": "stdout",
     "output_type": "stream",
     "text": [
      "4250:\tlearn: 0.8818035\ttest: 0.8000336\tbest: 0.8007629 (1904)\ttotal: 9m 19s\tremaining: 1m 38s\n"
     ]
    },
    {
     "name": "stdout",
     "output_type": "stream",
     "text": [
      "4300:\tlearn: 0.8824827\ttest: 0.8007669\tbest: 0.8008285 (4298)\ttotal: 9m 26s\tremaining: 1m 31s\n"
     ]
    },
    {
     "name": "stdout",
     "output_type": "stream",
     "text": [
      "4350:\tlearn: 0.8831527\ttest: 0.8005330\tbest: 0.8008285 (4298)\ttotal: 9m 32s\tremaining: 1m 25s\n"
     ]
    },
    {
     "name": "stdout",
     "output_type": "stream",
     "text": [
      "4400:\tlearn: 0.8839225\ttest: 0.8005193\tbest: 0.8008285 (4298)\ttotal: 9m 39s\tremaining: 1m 18s\n"
     ]
    },
    {
     "name": "stdout",
     "output_type": "stream",
     "text": [
      "4450:\tlearn: 0.8847483\ttest: 0.8007760\tbest: 0.8008285 (4298)\ttotal: 9m 45s\tremaining: 1m 12s\n"
     ]
    },
    {
     "name": "stdout",
     "output_type": "stream",
     "text": [
      "4500:\tlearn: 0.8855981\ttest: 0.8008010\tbest: 0.8009276 (4468)\ttotal: 9m 52s\tremaining: 1m 5s\n"
     ]
    },
    {
     "name": "stdout",
     "output_type": "stream",
     "text": [
      "4550:\tlearn: 0.8861435\ttest: 0.8009275\tbest: 0.8011210 (4544)\ttotal: 9m 59s\tremaining: 59.1s\n"
     ]
    },
    {
     "name": "stdout",
     "output_type": "stream",
     "text": [
      "4600:\tlearn: 0.8871393\ttest: 0.8010003\tbest: 0.8011881 (4590)\ttotal: 10m 5s\tremaining: 52.5s\n"
     ]
    },
    {
     "name": "stdout",
     "output_type": "stream",
     "text": [
      "4650:\tlearn: 0.8880661\ttest: 0.8005154\tbest: 0.8011881 (4590)\ttotal: 10m 12s\tremaining: 45.9s\n"
     ]
    },
    {
     "name": "stdout",
     "output_type": "stream",
     "text": [
      "4700:\tlearn: 0.8890785\ttest: 0.8000746\tbest: 0.8011881 (4590)\ttotal: 10m 18s\tremaining: 39.4s\n"
     ]
    },
    {
     "name": "stdout",
     "output_type": "stream",
     "text": [
      "4750:\tlearn: 0.8897911\ttest: 0.8002305\tbest: 0.8011881 (4590)\ttotal: 10m 25s\tremaining: 32.8s\n"
     ]
    },
    {
     "name": "stdout",
     "output_type": "stream",
     "text": [
      "4800:\tlearn: 0.8906832\ttest: 0.8007044\tbest: 0.8011881 (4590)\ttotal: 10m 31s\tremaining: 26.2s\n"
     ]
    },
    {
     "name": "stdout",
     "output_type": "stream",
     "text": [
      "4850:\tlearn: 0.8912854\ttest: 0.8005012\tbest: 0.8011881 (4590)\ttotal: 10m 38s\tremaining: 19.6s\n"
     ]
    },
    {
     "name": "stdout",
     "output_type": "stream",
     "text": [
      "4900:\tlearn: 0.8921325\ttest: 0.8007998\tbest: 0.8011881 (4590)\ttotal: 10m 44s\tremaining: 13s\n"
     ]
    },
    {
     "name": "stdout",
     "output_type": "stream",
     "text": [
      "4950:\tlearn: 0.8927494\ttest: 0.8006601\tbest: 0.8011881 (4590)\ttotal: 10m 51s\tremaining: 6.45s\n"
     ]
    },
    {
     "name": "stdout",
     "output_type": "stream",
     "text": [
      "4999:\tlearn: 0.8936352\ttest: 0.8004484\tbest: 0.8011881 (4590)\ttotal: 10m 57s\tremaining: 0us\n",
      "\n",
      "bestTest = 0.8011881417\n",
      "bestIteration = 4590\n",
      "\n"
     ]
    },
    {
     "name": "stdout",
     "output_type": "stream",
     "text": [
      "######################################## training model 4/5 ########################################\n",
      "seed: 18\n"
     ]
    },
    {
     "name": "stdout",
     "output_type": "stream",
     "text": [
      "0:\tlearn: 0.5978210\ttest: 0.5996960\tbest: 0.5996960 (0)\ttotal: 465ms\tremaining: 38m 44s\n"
     ]
    },
    {
     "name": "stdout",
     "output_type": "stream",
     "text": [
      "50:\tlearn: 0.7411676\ttest: 0.7442247\tbest: 0.7442247 (50)\ttotal: 6.96s\tremaining: 11m 15s\n"
     ]
    },
    {
     "name": "stdout",
     "output_type": "stream",
     "text": [
      "100:\tlearn: 0.7566442\ttest: 0.7562561\tbest: 0.7564970 (96)\ttotal: 13.5s\tremaining: 10m 56s\n"
     ]
    },
    {
     "name": "stdout",
     "output_type": "stream",
     "text": [
      "150:\tlearn: 0.7628640\ttest: 0.7613167\tbest: 0.7615334 (149)\ttotal: 20.1s\tremaining: 10m 44s\n"
     ]
    },
    {
     "name": "stdout",
     "output_type": "stream",
     "text": [
      "200:\tlearn: 0.7672080\ttest: 0.7657345\tbest: 0.7658850 (198)\ttotal: 26.7s\tremaining: 10m 36s\n"
     ]
    },
    {
     "name": "stdout",
     "output_type": "stream",
     "text": [
      "250:\tlearn: 0.7711618\ttest: 0.7691868\tbest: 0.7691868 (250)\ttotal: 33.2s\tremaining: 10m 28s\n"
     ]
    },
    {
     "name": "stdout",
     "output_type": "stream",
     "text": [
      "300:\tlearn: 0.7763274\ttest: 0.7741393\tbest: 0.7741393 (300)\ttotal: 39.7s\tremaining: 10m 20s\n"
     ]
    },
    {
     "name": "stdout",
     "output_type": "stream",
     "text": [
      "350:\tlearn: 0.7825983\ttest: 0.7788594\tbest: 0.7788594 (350)\ttotal: 46.2s\tremaining: 10m 12s\n"
     ]
    },
    {
     "name": "stdout",
     "output_type": "stream",
     "text": [
      "400:\tlearn: 0.7876136\ttest: 0.7832171\tbest: 0.7834520 (397)\ttotal: 52.7s\tremaining: 10m 4s\n"
     ]
    },
    {
     "name": "stdout",
     "output_type": "stream",
     "text": [
      "450:\tlearn: 0.7911877\ttest: 0.7858714\tbest: 0.7859637 (449)\ttotal: 59.3s\tremaining: 9m 58s\n"
     ]
    },
    {
     "name": "stdout",
     "output_type": "stream",
     "text": [
      "500:\tlearn: 0.7943127\ttest: 0.7868653\tbest: 0.7873260 (488)\ttotal: 1m 5s\tremaining: 9m 50s\n"
     ]
    },
    {
     "name": "stdout",
     "output_type": "stream",
     "text": [
      "550:\tlearn: 0.7964472\ttest: 0.7879087\tbest: 0.7879364 (544)\ttotal: 1m 12s\tremaining: 9m 44s\n"
     ]
    },
    {
     "name": "stdout",
     "output_type": "stream",
     "text": [
      "600:\tlearn: 0.7988477\ttest: 0.7884119\tbest: 0.7886398 (593)\ttotal: 1m 18s\tremaining: 9m 37s\n"
     ]
    },
    {
     "name": "stdout",
     "output_type": "stream",
     "text": [
      "650:\tlearn: 0.8006008\ttest: 0.7895133\tbest: 0.7896308 (647)\ttotal: 1m 25s\tremaining: 9m 30s\n"
     ]
    },
    {
     "name": "stdout",
     "output_type": "stream",
     "text": [
      "700:\tlearn: 0.8025089\ttest: 0.7905331\tbest: 0.7905519 (699)\ttotal: 1m 31s\tremaining: 9m 23s\n"
     ]
    },
    {
     "name": "stdout",
     "output_type": "stream",
     "text": [
      "750:\tlearn: 0.8045491\ttest: 0.7908767\tbest: 0.7909825 (742)\ttotal: 1m 38s\tremaining: 9m 16s\n"
     ]
    },
    {
     "name": "stdout",
     "output_type": "stream",
     "text": [
      "800:\tlearn: 0.8061450\ttest: 0.7913540\tbest: 0.7915008 (790)\ttotal: 1m 44s\tremaining: 9m 9s\n"
     ]
    },
    {
     "name": "stdout",
     "output_type": "stream",
     "text": [
      "850:\tlearn: 0.8076194\ttest: 0.7915698\tbest: 0.7916614 (816)\ttotal: 1m 51s\tremaining: 9m 2s\n"
     ]
    },
    {
     "name": "stdout",
     "output_type": "stream",
     "text": [
      "900:\tlearn: 0.8092797\ttest: 0.7917588\tbest: 0.7922529 (872)\ttotal: 1m 57s\tremaining: 8m 56s\n"
     ]
    },
    {
     "name": "stdout",
     "output_type": "stream",
     "text": [
      "950:\tlearn: 0.8107035\ttest: 0.7914242\tbest: 0.7922529 (872)\ttotal: 2m 4s\tremaining: 8m 49s\n"
     ]
    },
    {
     "name": "stdout",
     "output_type": "stream",
     "text": [
      "1000:\tlearn: 0.8121371\ttest: 0.7921805\tbest: 0.7923499 (977)\ttotal: 2m 10s\tremaining: 8m 42s\n"
     ]
    },
    {
     "name": "stdout",
     "output_type": "stream",
     "text": [
      "1050:\tlearn: 0.8136887\ttest: 0.7924330\tbest: 0.7926019 (1027)\ttotal: 2m 17s\tremaining: 8m 36s\n"
     ]
    },
    {
     "name": "stdout",
     "output_type": "stream",
     "text": [
      "1100:\tlearn: 0.8148502\ttest: 0.7922687\tbest: 0.7928308 (1075)\ttotal: 2m 23s\tremaining: 8m 29s\n"
     ]
    },
    {
     "name": "stdout",
     "output_type": "stream",
     "text": [
      "1150:\tlearn: 0.8161078\ttest: 0.7929363\tbest: 0.7929363 (1150)\ttotal: 2m 30s\tremaining: 8m 23s\n"
     ]
    },
    {
     "name": "stdout",
     "output_type": "stream",
     "text": [
      "1200:\tlearn: 0.8174734\ttest: 0.7933479\tbest: 0.7933665 (1199)\ttotal: 2m 36s\tremaining: 8m 16s\n"
     ]
    },
    {
     "name": "stdout",
     "output_type": "stream",
     "text": [
      "1250:\tlearn: 0.8190260\ttest: 0.7934316\tbest: 0.7935550 (1247)\ttotal: 2m 43s\tremaining: 8m 10s\n"
     ]
    },
    {
     "name": "stdout",
     "output_type": "stream",
     "text": [
      "1300:\tlearn: 0.8205829\ttest: 0.7932957\tbest: 0.7936943 (1271)\ttotal: 2m 50s\tremaining: 8m 3s\n"
     ]
    },
    {
     "name": "stdout",
     "output_type": "stream",
     "text": [
      "1350:\tlearn: 0.8217072\ttest: 0.7938556\tbest: 0.7938556 (1350)\ttotal: 2m 56s\tremaining: 7m 57s\n"
     ]
    },
    {
     "name": "stdout",
     "output_type": "stream",
     "text": [
      "1400:\tlearn: 0.8229281\ttest: 0.7934447\tbest: 0.7938556 (1350)\ttotal: 3m 3s\tremaining: 7m 50s\n"
     ]
    },
    {
     "name": "stdout",
     "output_type": "stream",
     "text": [
      "1450:\tlearn: 0.8238940\ttest: 0.7936048\tbest: 0.7938556 (1350)\ttotal: 3m 9s\tremaining: 7m 43s\n"
     ]
    },
    {
     "name": "stdout",
     "output_type": "stream",
     "text": [
      "1500:\tlearn: 0.8252003\ttest: 0.7938964\tbest: 0.7940157 (1494)\ttotal: 3m 16s\tremaining: 7m 37s\n"
     ]
    },
    {
     "name": "stdout",
     "output_type": "stream",
     "text": [
      "1550:\tlearn: 0.8265915\ttest: 0.7941787\tbest: 0.7943019 (1545)\ttotal: 3m 22s\tremaining: 7m 30s\n"
     ]
    },
    {
     "name": "stdout",
     "output_type": "stream",
     "text": [
      "1600:\tlearn: 0.8279324\ttest: 0.7940763\tbest: 0.7943019 (1545)\ttotal: 3m 29s\tremaining: 7m 24s\n"
     ]
    },
    {
     "name": "stdout",
     "output_type": "stream",
     "text": [
      "1650:\tlearn: 0.8291636\ttest: 0.7938903\tbest: 0.7943019 (1545)\ttotal: 3m 35s\tremaining: 7m 17s\n"
     ]
    },
    {
     "name": "stdout",
     "output_type": "stream",
     "text": [
      "1700:\tlearn: 0.8301720\ttest: 0.7945957\tbest: 0.7948696 (1696)\ttotal: 3m 42s\tremaining: 7m 10s\n"
     ]
    },
    {
     "name": "stdout",
     "output_type": "stream",
     "text": [
      "1750:\tlearn: 0.8312080\ttest: 0.7941713\tbest: 0.7949774 (1709)\ttotal: 3m 48s\tremaining: 7m 4s\n"
     ]
    },
    {
     "name": "stdout",
     "output_type": "stream",
     "text": [
      "1800:\tlearn: 0.8322414\ttest: 0.7940671\tbest: 0.7949774 (1709)\ttotal: 3m 55s\tremaining: 6m 57s\n"
     ]
    },
    {
     "name": "stdout",
     "output_type": "stream",
     "text": [
      "1850:\tlearn: 0.8333965\ttest: 0.7951825\tbest: 0.7951825 (1850)\ttotal: 4m 1s\tremaining: 6m 51s\n"
     ]
    },
    {
     "name": "stdout",
     "output_type": "stream",
     "text": [
      "1900:\tlearn: 0.8343866\ttest: 0.7954500\tbest: 0.7957038 (1899)\ttotal: 4m 8s\tremaining: 6m 44s\n"
     ]
    },
    {
     "name": "stdout",
     "output_type": "stream",
     "text": [
      "1950:\tlearn: 0.8354335\ttest: 0.7954183\tbest: 0.7958072 (1913)\ttotal: 4m 14s\tremaining: 6m 38s\n"
     ]
    },
    {
     "name": "stdout",
     "output_type": "stream",
     "text": [
      "2000:\tlearn: 0.8365136\ttest: 0.7956881\tbest: 0.7958652 (1964)\ttotal: 4m 21s\tremaining: 6m 31s\n"
     ]
    },
    {
     "name": "stdout",
     "output_type": "stream",
     "text": [
      "2050:\tlearn: 0.8375254\ttest: 0.7953812\tbest: 0.7958652 (1964)\ttotal: 4m 27s\tremaining: 6m 25s\n"
     ]
    },
    {
     "name": "stdout",
     "output_type": "stream",
     "text": [
      "2100:\tlearn: 0.8384679\ttest: 0.7956258\tbest: 0.7960661 (2070)\ttotal: 4m 34s\tremaining: 6m 18s\n"
     ]
    },
    {
     "name": "stdout",
     "output_type": "stream",
     "text": [
      "2150:\tlearn: 0.8394832\ttest: 0.7956670\tbest: 0.7961745 (2113)\ttotal: 4m 40s\tremaining: 6m 11s\n"
     ]
    },
    {
     "name": "stdout",
     "output_type": "stream",
     "text": [
      "2200:\tlearn: 0.8405893\ttest: 0.7961732\tbest: 0.7961745 (2113)\ttotal: 4m 47s\tremaining: 6m 5s\n"
     ]
    },
    {
     "name": "stdout",
     "output_type": "stream",
     "text": [
      "2250:\tlearn: 0.8416423\ttest: 0.7958744\tbest: 0.7962399 (2208)\ttotal: 4m 53s\tremaining: 5m 58s\n"
     ]
    },
    {
     "name": "stdout",
     "output_type": "stream",
     "text": [
      "2300:\tlearn: 0.8425583\ttest: 0.7959567\tbest: 0.7962399 (2208)\ttotal: 5m\tremaining: 5m 52s\n"
     ]
    },
    {
     "name": "stdout",
     "output_type": "stream",
     "text": [
      "2350:\tlearn: 0.8435170\ttest: 0.7954849\tbest: 0.7962399 (2208)\ttotal: 5m 6s\tremaining: 5m 45s\n"
     ]
    },
    {
     "name": "stdout",
     "output_type": "stream",
     "text": [
      "2400:\tlearn: 0.8446737\ttest: 0.7951645\tbest: 0.7962399 (2208)\ttotal: 5m 13s\tremaining: 5m 39s\n"
     ]
    },
    {
     "name": "stdout",
     "output_type": "stream",
     "text": [
      "2450:\tlearn: 0.8454639\ttest: 0.7950121\tbest: 0.7962399 (2208)\ttotal: 5m 19s\tremaining: 5m 32s\n"
     ]
    },
    {
     "name": "stdout",
     "output_type": "stream",
     "text": [
      "2500:\tlearn: 0.8467155\ttest: 0.7957655\tbest: 0.7962399 (2208)\ttotal: 5m 26s\tremaining: 5m 26s\n"
     ]
    },
    {
     "name": "stdout",
     "output_type": "stream",
     "text": [
      "2550:\tlearn: 0.8477302\ttest: 0.7954434\tbest: 0.7962399 (2208)\ttotal: 5m 33s\tremaining: 5m 19s\n"
     ]
    },
    {
     "name": "stdout",
     "output_type": "stream",
     "text": [
      "2600:\tlearn: 0.8488033\ttest: 0.7953354\tbest: 0.7962399 (2208)\ttotal: 5m 39s\tremaining: 5m 13s\n"
     ]
    },
    {
     "name": "stdout",
     "output_type": "stream",
     "text": [
      "2650:\tlearn: 0.8498595\ttest: 0.7952699\tbest: 0.7962399 (2208)\ttotal: 5m 45s\tremaining: 5m 6s\n"
     ]
    },
    {
     "name": "stdout",
     "output_type": "stream",
     "text": [
      "2700:\tlearn: 0.8507484\ttest: 0.7956630\tbest: 0.7962399 (2208)\ttotal: 5m 52s\tremaining: 4m 59s\n"
     ]
    },
    {
     "name": "stdout",
     "output_type": "stream",
     "text": [
      "2750:\tlearn: 0.8517762\ttest: 0.7957392\tbest: 0.7962399 (2208)\ttotal: 5m 59s\tremaining: 4m 53s\n"
     ]
    },
    {
     "name": "stdout",
     "output_type": "stream",
     "text": [
      "2800:\tlearn: 0.8524412\ttest: 0.7957557\tbest: 0.7962757 (2778)\ttotal: 6m 5s\tremaining: 4m 46s\n"
     ]
    },
    {
     "name": "stdout",
     "output_type": "stream",
     "text": [
      "2850:\tlearn: 0.8534623\ttest: 0.7954707\tbest: 0.7962757 (2778)\ttotal: 6m 11s\tremaining: 4m 40s\n"
     ]
    },
    {
     "name": "stdout",
     "output_type": "stream",
     "text": [
      "2900:\tlearn: 0.8544655\ttest: 0.7958140\tbest: 0.7962757 (2778)\ttotal: 6m 18s\tremaining: 4m 33s\n"
     ]
    },
    {
     "name": "stdout",
     "output_type": "stream",
     "text": [
      "2950:\tlearn: 0.8553013\ttest: 0.7956743\tbest: 0.7962757 (2778)\ttotal: 6m 24s\tremaining: 4m 27s\n"
     ]
    },
    {
     "name": "stdout",
     "output_type": "stream",
     "text": [
      "3000:\tlearn: 0.8563310\ttest: 0.7952525\tbest: 0.7962757 (2778)\ttotal: 6m 31s\tremaining: 4m 20s\n"
     ]
    },
    {
     "name": "stdout",
     "output_type": "stream",
     "text": [
      "3050:\tlearn: 0.8570900\ttest: 0.7956554\tbest: 0.7962757 (2778)\ttotal: 6m 37s\tremaining: 4m 14s\n"
     ]
    },
    {
     "name": "stdout",
     "output_type": "stream",
     "text": [
      "3100:\tlearn: 0.8581726\ttest: 0.7956138\tbest: 0.7962757 (2778)\ttotal: 6m 44s\tremaining: 4m 7s\n"
     ]
    },
    {
     "name": "stdout",
     "output_type": "stream",
     "text": [
      "3150:\tlearn: 0.8588883\ttest: 0.7958517\tbest: 0.7962757 (2778)\ttotal: 6m 50s\tremaining: 4m 1s\n"
     ]
    },
    {
     "name": "stdout",
     "output_type": "stream",
     "text": [
      "3200:\tlearn: 0.8598275\ttest: 0.7956617\tbest: 0.7962757 (2778)\ttotal: 6m 57s\tremaining: 3m 54s\n"
     ]
    },
    {
     "name": "stdout",
     "output_type": "stream",
     "text": [
      "3250:\tlearn: 0.8606921\ttest: 0.7960895\tbest: 0.7962757 (2778)\ttotal: 7m 3s\tremaining: 3m 48s\n"
     ]
    },
    {
     "name": "stdout",
     "output_type": "stream",
     "text": [
      "3300:\tlearn: 0.8616995\ttest: 0.7962368\tbest: 0.7963368 (3274)\ttotal: 7m 10s\tremaining: 3m 41s\n"
     ]
    },
    {
     "name": "stdout",
     "output_type": "stream",
     "text": [
      "3350:\tlearn: 0.8624844\ttest: 0.7963335\tbest: 0.7964579 (3338)\ttotal: 7m 16s\tremaining: 3m 35s\n"
     ]
    },
    {
     "name": "stdout",
     "output_type": "stream",
     "text": [
      "3400:\tlearn: 0.8634221\ttest: 0.7963849\tbest: 0.7964884 (3399)\ttotal: 7m 23s\tremaining: 3m 28s\n"
     ]
    },
    {
     "name": "stdout",
     "output_type": "stream",
     "text": [
      "3450:\tlearn: 0.8642987\ttest: 0.7965206\tbest: 0.7968772 (3422)\ttotal: 7m 30s\tremaining: 3m 22s\n"
     ]
    },
    {
     "name": "stdout",
     "output_type": "stream",
     "text": [
      "3500:\tlearn: 0.8652507\ttest: 0.7967763\tbest: 0.7970691 (3489)\ttotal: 7m 36s\tremaining: 3m 15s\n"
     ]
    },
    {
     "name": "stdout",
     "output_type": "stream",
     "text": [
      "3550:\tlearn: 0.8662238\ttest: 0.7961099\tbest: 0.7970691 (3489)\ttotal: 7m 43s\tremaining: 3m 9s\n"
     ]
    },
    {
     "name": "stdout",
     "output_type": "stream",
     "text": [
      "3600:\tlearn: 0.8672347\ttest: 0.7961141\tbest: 0.7970691 (3489)\ttotal: 7m 49s\tremaining: 3m 2s\n"
     ]
    },
    {
     "name": "stdout",
     "output_type": "stream",
     "text": [
      "3650:\tlearn: 0.8680096\ttest: 0.7961799\tbest: 0.7970691 (3489)\ttotal: 7m 56s\tremaining: 2m 56s\n"
     ]
    },
    {
     "name": "stdout",
     "output_type": "stream",
     "text": [
      "3700:\tlearn: 0.8688671\ttest: 0.7962695\tbest: 0.7970691 (3489)\ttotal: 8m 2s\tremaining: 2m 49s\n"
     ]
    },
    {
     "name": "stdout",
     "output_type": "stream",
     "text": [
      "3750:\tlearn: 0.8699137\ttest: 0.7963561\tbest: 0.7970691 (3489)\ttotal: 8m 9s\tremaining: 2m 42s\n"
     ]
    },
    {
     "name": "stdout",
     "output_type": "stream",
     "text": [
      "3800:\tlearn: 0.8705799\ttest: 0.7964861\tbest: 0.7970691 (3489)\ttotal: 8m 16s\tremaining: 2m 36s\n"
     ]
    },
    {
     "name": "stdout",
     "output_type": "stream",
     "text": [
      "3850:\tlearn: 0.8715653\ttest: 0.7969342\tbest: 0.7971862 (3837)\ttotal: 8m 22s\tremaining: 2m 29s\n"
     ]
    },
    {
     "name": "stdout",
     "output_type": "stream",
     "text": [
      "3900:\tlearn: 0.8725769\ttest: 0.7965899\tbest: 0.7971862 (3837)\ttotal: 8m 29s\tremaining: 2m 23s\n"
     ]
    },
    {
     "name": "stdout",
     "output_type": "stream",
     "text": [
      "3950:\tlearn: 0.8734137\ttest: 0.7964101\tbest: 0.7971862 (3837)\ttotal: 8m 35s\tremaining: 2m 16s\n"
     ]
    },
    {
     "name": "stdout",
     "output_type": "stream",
     "text": [
      "4000:\tlearn: 0.8741680\ttest: 0.7966568\tbest: 0.7971862 (3837)\ttotal: 8m 42s\tremaining: 2m 10s\n"
     ]
    },
    {
     "name": "stdout",
     "output_type": "stream",
     "text": [
      "4050:\tlearn: 0.8749597\ttest: 0.7965156\tbest: 0.7971862 (3837)\ttotal: 8m 48s\tremaining: 2m 3s\n"
     ]
    },
    {
     "name": "stdout",
     "output_type": "stream",
     "text": [
      "4100:\tlearn: 0.8757519\ttest: 0.7966893\tbest: 0.7971862 (3837)\ttotal: 8m 55s\tremaining: 1m 57s\n"
     ]
    },
    {
     "name": "stdout",
     "output_type": "stream",
     "text": [
      "4150:\tlearn: 0.8766194\ttest: 0.7967650\tbest: 0.7971862 (3837)\ttotal: 9m 2s\tremaining: 1m 50s\n"
     ]
    },
    {
     "name": "stdout",
     "output_type": "stream",
     "text": [
      "4200:\tlearn: 0.8774371\ttest: 0.7968748\tbest: 0.7971862 (3837)\ttotal: 9m 8s\tremaining: 1m 44s\n"
     ]
    },
    {
     "name": "stdout",
     "output_type": "stream",
     "text": [
      "4250:\tlearn: 0.8782686\ttest: 0.7963720\tbest: 0.7971862 (3837)\ttotal: 9m 15s\tremaining: 1m 37s\n"
     ]
    },
    {
     "name": "stdout",
     "output_type": "stream",
     "text": [
      "4300:\tlearn: 0.8792758\ttest: 0.7963509\tbest: 0.7971862 (3837)\ttotal: 9m 21s\tremaining: 1m 31s\n"
     ]
    },
    {
     "name": "stdout",
     "output_type": "stream",
     "text": [
      "4350:\tlearn: 0.8801350\ttest: 0.7964641\tbest: 0.7971862 (3837)\ttotal: 9m 28s\tremaining: 1m 24s\n"
     ]
    },
    {
     "name": "stdout",
     "output_type": "stream",
     "text": [
      "4400:\tlearn: 0.8808358\ttest: 0.7964791\tbest: 0.7971862 (3837)\ttotal: 9m 35s\tremaining: 1m 18s\n"
     ]
    },
    {
     "name": "stdout",
     "output_type": "stream",
     "text": [
      "4450:\tlearn: 0.8816532\ttest: 0.7965178\tbest: 0.7971862 (3837)\ttotal: 9m 41s\tremaining: 1m 11s\n"
     ]
    },
    {
     "name": "stdout",
     "output_type": "stream",
     "text": [
      "4500:\tlearn: 0.8825830\ttest: 0.7965287\tbest: 0.7971862 (3837)\ttotal: 9m 48s\tremaining: 1m 5s\n"
     ]
    },
    {
     "name": "stdout",
     "output_type": "stream",
     "text": [
      "4550:\tlearn: 0.8833784\ttest: 0.7968237\tbest: 0.7971862 (3837)\ttotal: 9m 54s\tremaining: 58.7s\n"
     ]
    },
    {
     "name": "stdout",
     "output_type": "stream",
     "text": [
      "4600:\tlearn: 0.8845364\ttest: 0.7967440\tbest: 0.7971862 (3837)\ttotal: 10m 1s\tremaining: 52.2s\n"
     ]
    },
    {
     "name": "stdout",
     "output_type": "stream",
     "text": [
      "4650:\tlearn: 0.8852424\ttest: 0.7962614\tbest: 0.7971862 (3837)\ttotal: 10m 7s\tremaining: 45.6s\n"
     ]
    },
    {
     "name": "stdout",
     "output_type": "stream",
     "text": [
      "4700:\tlearn: 0.8861231\ttest: 0.7962881\tbest: 0.7971862 (3837)\ttotal: 10m 14s\tremaining: 39.1s\n"
     ]
    },
    {
     "name": "stdout",
     "output_type": "stream",
     "text": [
      "4750:\tlearn: 0.8869010\ttest: 0.7966341\tbest: 0.7971862 (3837)\ttotal: 10m 21s\tremaining: 32.5s\n"
     ]
    },
    {
     "name": "stdout",
     "output_type": "stream",
     "text": [
      "4800:\tlearn: 0.8876502\ttest: 0.7970809\tbest: 0.7971862 (3837)\ttotal: 10m 27s\tremaining: 26s\n"
     ]
    },
    {
     "name": "stdout",
     "output_type": "stream",
     "text": [
      "4850:\tlearn: 0.8886159\ttest: 0.7969326\tbest: 0.7971862 (3837)\ttotal: 10m 34s\tremaining: 19.5s\n"
     ]
    },
    {
     "name": "stdout",
     "output_type": "stream",
     "text": [
      "4900:\tlearn: 0.8894457\ttest: 0.7969553\tbest: 0.7972064 (4855)\ttotal: 10m 40s\tremaining: 12.9s\n"
     ]
    },
    {
     "name": "stdout",
     "output_type": "stream",
     "text": [
      "4950:\tlearn: 0.8902548\ttest: 0.7970235\tbest: 0.7973393 (4934)\ttotal: 10m 47s\tremaining: 6.41s\n"
     ]
    },
    {
     "name": "stdout",
     "output_type": "stream",
     "text": [
      "4999:\tlearn: 0.8911901\ttest: 0.7966847\tbest: 0.7973393 (4934)\ttotal: 10m 53s\tremaining: 0us\n",
      "\n",
      "bestTest = 0.7973393482\n",
      "bestIteration = 4934\n",
      "\n"
     ]
    },
    {
     "name": "stdout",
     "output_type": "stream",
     "text": [
      "######################################## training model 5/5 ########################################\n",
      "seed: 19\n"
     ]
    },
    {
     "name": "stdout",
     "output_type": "stream",
     "text": [
      "0:\tlearn: 0.5670647\ttest: 0.5675281\tbest: 0.5675281 (0)\ttotal: 440ms\tremaining: 36m 41s\n"
     ]
    },
    {
     "name": "stdout",
     "output_type": "stream",
     "text": [
      "50:\tlearn: 0.7413200\ttest: 0.7374473\tbest: 0.7374473 (50)\ttotal: 6.84s\tremaining: 11m 3s\n"
     ]
    },
    {
     "name": "stdout",
     "output_type": "stream",
     "text": [
      "100:\tlearn: 0.7560748\ttest: 0.7519430\tbest: 0.7520601 (97)\ttotal: 13.3s\tremaining: 10m 45s\n"
     ]
    },
    {
     "name": "stdout",
     "output_type": "stream",
     "text": [
      "150:\tlearn: 0.7627436\ttest: 0.7584655\tbest: 0.7586077 (149)\ttotal: 19.8s\tremaining: 10m 34s\n"
     ]
    },
    {
     "name": "stdout",
     "output_type": "stream",
     "text": [
      "200:\tlearn: 0.7675957\ttest: 0.7628439\tbest: 0.7628439 (200)\ttotal: 26.2s\tremaining: 10m 26s\n"
     ]
    },
    {
     "name": "stdout",
     "output_type": "stream",
     "text": [
      "250:\tlearn: 0.7713388\ttest: 0.7666221\tbest: 0.7666609 (240)\ttotal: 32.8s\tremaining: 10m 20s\n"
     ]
    },
    {
     "name": "stdout",
     "output_type": "stream",
     "text": [
      "300:\tlearn: 0.7770173\ttest: 0.7711930\tbest: 0.7714431 (295)\ttotal: 39.3s\tremaining: 10m 13s\n"
     ]
    },
    {
     "name": "stdout",
     "output_type": "stream",
     "text": [
      "350:\tlearn: 0.7839330\ttest: 0.7780380\tbest: 0.7780380 (350)\ttotal: 45.9s\tremaining: 10m 7s\n"
     ]
    },
    {
     "name": "stdout",
     "output_type": "stream",
     "text": [
      "400:\tlearn: 0.7884844\ttest: 0.7817705\tbest: 0.7821211 (399)\ttotal: 52.5s\tremaining: 10m 1s\n"
     ]
    },
    {
     "name": "stdout",
     "output_type": "stream",
     "text": [
      "450:\tlearn: 0.7920142\ttest: 0.7844648\tbest: 0.7844785 (447)\ttotal: 59.1s\tremaining: 9m 56s\n"
     ]
    },
    {
     "name": "stdout",
     "output_type": "stream",
     "text": [
      "500:\tlearn: 0.7946699\ttest: 0.7850296\tbest: 0.7850585 (498)\ttotal: 1m 5s\tremaining: 9m 50s\n"
     ]
    },
    {
     "name": "stdout",
     "output_type": "stream",
     "text": [
      "550:\tlearn: 0.7968852\ttest: 0.7862827\tbest: 0.7863839 (549)\ttotal: 1m 12s\tremaining: 9m 43s\n"
     ]
    },
    {
     "name": "stdout",
     "output_type": "stream",
     "text": [
      "600:\tlearn: 0.7989260\ttest: 0.7873263\tbest: 0.7873263 (600)\ttotal: 1m 18s\tremaining: 9m 37s\n"
     ]
    },
    {
     "name": "stdout",
     "output_type": "stream",
     "text": [
      "650:\tlearn: 0.8013461\ttest: 0.7882718\tbest: 0.7883193 (646)\ttotal: 1m 25s\tremaining: 9m 31s\n"
     ]
    },
    {
     "name": "stdout",
     "output_type": "stream",
     "text": [
      "700:\tlearn: 0.8033897\ttest: 0.7884200\tbest: 0.7888504 (684)\ttotal: 1m 32s\tremaining: 9m 25s\n"
     ]
    },
    {
     "name": "stdout",
     "output_type": "stream",
     "text": [
      "750:\tlearn: 0.8051630\ttest: 0.7886355\tbest: 0.7890265 (746)\ttotal: 1m 38s\tremaining: 9m 18s\n"
     ]
    },
    {
     "name": "stdout",
     "output_type": "stream",
     "text": [
      "800:\tlearn: 0.8070174\ttest: 0.7888459\tbest: 0.7891620 (790)\ttotal: 1m 45s\tremaining: 9m 12s\n"
     ]
    },
    {
     "name": "stdout",
     "output_type": "stream",
     "text": [
      "850:\tlearn: 0.8090284\ttest: 0.7890243\tbest: 0.7893902 (843)\ttotal: 1m 51s\tremaining: 9m 5s\n"
     ]
    },
    {
     "name": "stdout",
     "output_type": "stream",
     "text": [
      "900:\tlearn: 0.8107962\ttest: 0.7896829\tbest: 0.7897864 (899)\ttotal: 1m 58s\tremaining: 8m 59s\n"
     ]
    },
    {
     "name": "stdout",
     "output_type": "stream",
     "text": [
      "950:\tlearn: 0.8121651\ttest: 0.7898280\tbest: 0.7901187 (920)\ttotal: 2m 5s\tremaining: 8m 52s\n"
     ]
    },
    {
     "name": "stdout",
     "output_type": "stream",
     "text": [
      "1000:\tlearn: 0.8136137\ttest: 0.7902080\tbest: 0.7902080 (1000)\ttotal: 2m 11s\tremaining: 8m 45s\n"
     ]
    },
    {
     "name": "stdout",
     "output_type": "stream",
     "text": [
      "1050:\tlearn: 0.8149512\ttest: 0.7899987\tbest: 0.7904483 (1004)\ttotal: 2m 18s\tremaining: 8m 39s\n"
     ]
    },
    {
     "name": "stdout",
     "output_type": "stream",
     "text": [
      "1100:\tlearn: 0.8163023\ttest: 0.7902514\tbest: 0.7904483 (1004)\ttotal: 2m 24s\tremaining: 8m 32s\n"
     ]
    },
    {
     "name": "stdout",
     "output_type": "stream",
     "text": [
      "1150:\tlearn: 0.8176545\ttest: 0.7898082\tbest: 0.7904483 (1004)\ttotal: 2m 31s\tremaining: 8m 26s\n"
     ]
    },
    {
     "name": "stdout",
     "output_type": "stream",
     "text": [
      "1200:\tlearn: 0.8189729\ttest: 0.7901628\tbest: 0.7904483 (1004)\ttotal: 2m 38s\tremaining: 8m 19s\n"
     ]
    },
    {
     "name": "stdout",
     "output_type": "stream",
     "text": [
      "1250:\tlearn: 0.8206619\ttest: 0.7901274\tbest: 0.7904483 (1004)\ttotal: 2m 44s\tremaining: 8m 13s\n"
     ]
    },
    {
     "name": "stdout",
     "output_type": "stream",
     "text": [
      "1300:\tlearn: 0.8220519\ttest: 0.7898573\tbest: 0.7905526 (1256)\ttotal: 2m 51s\tremaining: 8m 6s\n"
     ]
    },
    {
     "name": "stdout",
     "output_type": "stream",
     "text": [
      "1350:\tlearn: 0.8232751\ttest: 0.7904111\tbest: 0.7905559 (1346)\ttotal: 2m 57s\tremaining: 8m\n"
     ]
    },
    {
     "name": "stdout",
     "output_type": "stream",
     "text": [
      "1400:\tlearn: 0.8245654\ttest: 0.7902064\tbest: 0.7905584 (1390)\ttotal: 3m 4s\tremaining: 7m 53s\n"
     ]
    },
    {
     "name": "stdout",
     "output_type": "stream",
     "text": [
      "1450:\tlearn: 0.8259418\ttest: 0.7908673\tbest: 0.7908673 (1450)\ttotal: 3m 10s\tremaining: 7m 47s\n"
     ]
    },
    {
     "name": "stdout",
     "output_type": "stream",
     "text": [
      "1500:\tlearn: 0.8269035\ttest: 0.7907548\tbest: 0.7908879 (1451)\ttotal: 3m 17s\tremaining: 7m 40s\n"
     ]
    },
    {
     "name": "stdout",
     "output_type": "stream",
     "text": [
      "1550:\tlearn: 0.8282576\ttest: 0.7906121\tbest: 0.7909201 (1530)\ttotal: 3m 24s\tremaining: 7m 33s\n"
     ]
    },
    {
     "name": "stdout",
     "output_type": "stream",
     "text": [
      "1600:\tlearn: 0.8297605\ttest: 0.7905237\tbest: 0.7909201 (1530)\ttotal: 3m 30s\tremaining: 7m 27s\n"
     ]
    },
    {
     "name": "stdout",
     "output_type": "stream",
     "text": [
      "1650:\tlearn: 0.8311655\ttest: 0.7909630\tbest: 0.7910863 (1646)\ttotal: 3m 37s\tremaining: 7m 20s\n"
     ]
    },
    {
     "name": "stdout",
     "output_type": "stream",
     "text": [
      "1700:\tlearn: 0.8321987\ttest: 0.7908350\tbest: 0.7910863 (1646)\ttotal: 3m 43s\tremaining: 7m 14s\n"
     ]
    },
    {
     "name": "stdout",
     "output_type": "stream",
     "text": [
      "1750:\tlearn: 0.8334013\ttest: 0.7907501\tbest: 0.7911995 (1726)\ttotal: 3m 50s\tremaining: 7m 7s\n"
     ]
    },
    {
     "name": "stdout",
     "output_type": "stream",
     "text": [
      "1800:\tlearn: 0.8346238\ttest: 0.7910939\tbest: 0.7912593 (1787)\ttotal: 3m 57s\tremaining: 7m 1s\n"
     ]
    },
    {
     "name": "stdout",
     "output_type": "stream",
     "text": [
      "1850:\tlearn: 0.8358151\ttest: 0.7911506\tbest: 0.7912593 (1787)\ttotal: 4m 3s\tremaining: 6m 54s\n"
     ]
    },
    {
     "name": "stdout",
     "output_type": "stream",
     "text": [
      "1900:\tlearn: 0.8369450\ttest: 0.7906180\tbest: 0.7912593 (1787)\ttotal: 4m 10s\tremaining: 6m 48s\n"
     ]
    },
    {
     "name": "stdout",
     "output_type": "stream",
     "text": [
      "1950:\tlearn: 0.8379715\ttest: 0.7916895\tbest: 0.7918137 (1944)\ttotal: 4m 16s\tremaining: 6m 41s\n"
     ]
    },
    {
     "name": "stdout",
     "output_type": "stream",
     "text": [
      "2000:\tlearn: 0.8388280\ttest: 0.7917499\tbest: 0.7920507 (1958)\ttotal: 4m 23s\tremaining: 6m 34s\n"
     ]
    },
    {
     "name": "stdout",
     "output_type": "stream",
     "text": [
      "2050:\tlearn: 0.8400792\ttest: 0.7921479\tbest: 0.7922342 (2046)\ttotal: 4m 30s\tremaining: 6m 28s\n"
     ]
    },
    {
     "name": "stdout",
     "output_type": "stream",
     "text": [
      "2100:\tlearn: 0.8410325\ttest: 0.7920393\tbest: 0.7923033 (2072)\ttotal: 4m 36s\tremaining: 6m 21s\n"
     ]
    },
    {
     "name": "stdout",
     "output_type": "stream",
     "text": [
      "2150:\tlearn: 0.8421150\ttest: 0.7920920\tbest: 0.7923033 (2072)\ttotal: 4m 43s\tremaining: 6m 14s\n"
     ]
    },
    {
     "name": "stdout",
     "output_type": "stream",
     "text": [
      "2200:\tlearn: 0.8429941\ttest: 0.7922328\tbest: 0.7924852 (2195)\ttotal: 4m 49s\tremaining: 6m 8s\n"
     ]
    },
    {
     "name": "stdout",
     "output_type": "stream",
     "text": [
      "2250:\tlearn: 0.8439726\ttest: 0.7917211\tbest: 0.7924852 (2195)\ttotal: 4m 56s\tremaining: 6m 1s\n"
     ]
    },
    {
     "name": "stdout",
     "output_type": "stream",
     "text": [
      "2300:\tlearn: 0.8450435\ttest: 0.7924928\tbest: 0.7925716 (2283)\ttotal: 5m 2s\tremaining: 5m 55s\n"
     ]
    },
    {
     "name": "stdout",
     "output_type": "stream",
     "text": [
      "2350:\tlearn: 0.8463635\ttest: 0.7920163\tbest: 0.7926190 (2304)\ttotal: 5m 9s\tremaining: 5m 48s\n"
     ]
    },
    {
     "name": "stdout",
     "output_type": "stream",
     "text": [
      "2400:\tlearn: 0.8474603\ttest: 0.7923516\tbest: 0.7926674 (2394)\ttotal: 5m 15s\tremaining: 5m 41s\n"
     ]
    },
    {
     "name": "stdout",
     "output_type": "stream",
     "text": [
      "2450:\tlearn: 0.8482997\ttest: 0.7922271\tbest: 0.7926674 (2394)\ttotal: 5m 22s\tremaining: 5m 35s\n"
     ]
    },
    {
     "name": "stdout",
     "output_type": "stream",
     "text": [
      "2500:\tlearn: 0.8494437\ttest: 0.7922537\tbest: 0.7927165 (2488)\ttotal: 5m 28s\tremaining: 5m 28s\n"
     ]
    },
    {
     "name": "stdout",
     "output_type": "stream",
     "text": [
      "2550:\tlearn: 0.8503472\ttest: 0.7924705\tbest: 0.7927165 (2488)\ttotal: 5m 35s\tremaining: 5m 22s\n"
     ]
    },
    {
     "name": "stdout",
     "output_type": "stream",
     "text": [
      "2600:\tlearn: 0.8515276\ttest: 0.7920004\tbest: 0.7927276 (2564)\ttotal: 5m 41s\tremaining: 5m 15s\n"
     ]
    },
    {
     "name": "stdout",
     "output_type": "stream",
     "text": [
      "2650:\tlearn: 0.8523074\ttest: 0.7923274\tbest: 0.7927276 (2564)\ttotal: 5m 48s\tremaining: 5m 8s\n"
     ]
    },
    {
     "name": "stdout",
     "output_type": "stream",
     "text": [
      "2700:\tlearn: 0.8536371\ttest: 0.7925942\tbest: 0.7927276 (2564)\ttotal: 5m 54s\tremaining: 5m 2s\n"
     ]
    },
    {
     "name": "stdout",
     "output_type": "stream",
     "text": [
      "2750:\tlearn: 0.8546585\ttest: 0.7927354\tbest: 0.7928732 (2717)\ttotal: 6m 1s\tremaining: 4m 55s\n"
     ]
    },
    {
     "name": "stdout",
     "output_type": "stream",
     "text": [
      "2800:\tlearn: 0.8554997\ttest: 0.7926562\tbest: 0.7930958 (2777)\ttotal: 6m 8s\tremaining: 4m 49s\n"
     ]
    },
    {
     "name": "stdout",
     "output_type": "stream",
     "text": [
      "2850:\tlearn: 0.8564493\ttest: 0.7925504\tbest: 0.7930958 (2777)\ttotal: 6m 14s\tremaining: 4m 42s\n"
     ]
    },
    {
     "name": "stdout",
     "output_type": "stream",
     "text": [
      "2900:\tlearn: 0.8575836\ttest: 0.7929311\tbest: 0.7930958 (2777)\ttotal: 6m 21s\tremaining: 4m 35s\n"
     ]
    },
    {
     "name": "stdout",
     "output_type": "stream",
     "text": [
      "2950:\tlearn: 0.8583436\ttest: 0.7928380\tbest: 0.7931480 (2913)\ttotal: 6m 27s\tremaining: 4m 29s\n"
     ]
    },
    {
     "name": "stdout",
     "output_type": "stream",
     "text": [
      "3000:\tlearn: 0.8594599\ttest: 0.7928799\tbest: 0.7931508 (2957)\ttotal: 6m 34s\tremaining: 4m 22s\n"
     ]
    },
    {
     "name": "stdout",
     "output_type": "stream",
     "text": [
      "3050:\tlearn: 0.8605722\ttest: 0.7927275\tbest: 0.7931508 (2957)\ttotal: 6m 41s\tremaining: 4m 16s\n"
     ]
    },
    {
     "name": "stdout",
     "output_type": "stream",
     "text": [
      "3100:\tlearn: 0.8615909\ttest: 0.7931162\tbest: 0.7931508 (2957)\ttotal: 6m 47s\tremaining: 4m 9s\n"
     ]
    },
    {
     "name": "stdout",
     "output_type": "stream",
     "text": [
      "3150:\tlearn: 0.8625062\ttest: 0.7927366\tbest: 0.7931611 (3105)\ttotal: 6m 54s\tremaining: 4m 3s\n"
     ]
    },
    {
     "name": "stdout",
     "output_type": "stream",
     "text": [
      "3200:\tlearn: 0.8634229\ttest: 0.7924856\tbest: 0.7931611 (3105)\ttotal: 7m\tremaining: 3m 56s\n"
     ]
    },
    {
     "name": "stdout",
     "output_type": "stream",
     "text": [
      "3250:\tlearn: 0.8642336\ttest: 0.7926483\tbest: 0.7931611 (3105)\ttotal: 7m 7s\tremaining: 3m 49s\n"
     ]
    },
    {
     "name": "stdout",
     "output_type": "stream",
     "text": [
      "3300:\tlearn: 0.8650534\ttest: 0.7928265\tbest: 0.7931611 (3105)\ttotal: 7m 13s\tremaining: 3m 43s\n"
     ]
    },
    {
     "name": "stdout",
     "output_type": "stream",
     "text": [
      "3350:\tlearn: 0.8661461\ttest: 0.7932315\tbest: 0.7932701 (3344)\ttotal: 7m 20s\tremaining: 3m 36s\n"
     ]
    },
    {
     "name": "stdout",
     "output_type": "stream",
     "text": [
      "3400:\tlearn: 0.8668353\ttest: 0.7933348\tbest: 0.7933797 (3388)\ttotal: 7m 26s\tremaining: 3m 30s\n"
     ]
    },
    {
     "name": "stdout",
     "output_type": "stream",
     "text": [
      "3450:\tlearn: 0.8675637\ttest: 0.7931796\tbest: 0.7934819 (3401)\ttotal: 7m 33s\tremaining: 3m 23s\n"
     ]
    },
    {
     "name": "stdout",
     "output_type": "stream",
     "text": [
      "3500:\tlearn: 0.8686771\ttest: 0.7928011\tbest: 0.7934819 (3401)\ttotal: 7m 40s\tremaining: 3m 17s\n"
     ]
    },
    {
     "name": "stdout",
     "output_type": "stream",
     "text": [
      "3550:\tlearn: 0.8695021\ttest: 0.7936023\tbest: 0.7936226 (3546)\ttotal: 7m 46s\tremaining: 3m 10s\n"
     ]
    },
    {
     "name": "stdout",
     "output_type": "stream",
     "text": [
      "3600:\tlearn: 0.8703954\ttest: 0.7932117\tbest: 0.7936226 (3546)\ttotal: 7m 53s\tremaining: 3m 3s\n"
     ]
    },
    {
     "name": "stdout",
     "output_type": "stream",
     "text": [
      "3650:\tlearn: 0.8711651\ttest: 0.7932113\tbest: 0.7936226 (3546)\ttotal: 7m 59s\tremaining: 2m 57s\n"
     ]
    },
    {
     "name": "stdout",
     "output_type": "stream",
     "text": [
      "3700:\tlearn: 0.8718113\ttest: 0.7931971\tbest: 0.7936226 (3546)\ttotal: 8m 6s\tremaining: 2m 50s\n"
     ]
    },
    {
     "name": "stdout",
     "output_type": "stream",
     "text": [
      "3750:\tlearn: 0.8728844\ttest: 0.7932419\tbest: 0.7936226 (3546)\ttotal: 8m 12s\tremaining: 2m 44s\n"
     ]
    },
    {
     "name": "stdout",
     "output_type": "stream",
     "text": [
      "3800:\tlearn: 0.8736770\ttest: 0.7931862\tbest: 0.7936226 (3546)\ttotal: 8m 19s\tremaining: 2m 37s\n"
     ]
    },
    {
     "name": "stdout",
     "output_type": "stream",
     "text": [
      "3850:\tlearn: 0.8744488\ttest: 0.7933143\tbest: 0.7936226 (3546)\ttotal: 8m 26s\tremaining: 2m 31s\n"
     ]
    },
    {
     "name": "stdout",
     "output_type": "stream",
     "text": [
      "3900:\tlearn: 0.8754222\ttest: 0.7937344\tbest: 0.7937773 (3899)\ttotal: 8m 32s\tremaining: 2m 24s\n"
     ]
    },
    {
     "name": "stdout",
     "output_type": "stream",
     "text": [
      "3950:\tlearn: 0.8761920\ttest: 0.7937958\tbest: 0.7939644 (3931)\ttotal: 8m 39s\tremaining: 2m 17s\n"
     ]
    },
    {
     "name": "stdout",
     "output_type": "stream",
     "text": [
      "4000:\tlearn: 0.8771739\ttest: 0.7936725\tbest: 0.7940283 (3954)\ttotal: 8m 45s\tremaining: 2m 11s\n"
     ]
    },
    {
     "name": "stdout",
     "output_type": "stream",
     "text": [
      "4050:\tlearn: 0.8779569\ttest: 0.7932283\tbest: 0.7940283 (3954)\ttotal: 8m 52s\tremaining: 2m 4s\n"
     ]
    },
    {
     "name": "stdout",
     "output_type": "stream",
     "text": [
      "4100:\tlearn: 0.8788311\ttest: 0.7935077\tbest: 0.7940283 (3954)\ttotal: 8m 58s\tremaining: 1m 58s\n"
     ]
    },
    {
     "name": "stdout",
     "output_type": "stream",
     "text": [
      "4150:\tlearn: 0.8794465\ttest: 0.7935716\tbest: 0.7940283 (3954)\ttotal: 9m 5s\tremaining: 1m 51s\n"
     ]
    },
    {
     "name": "stdout",
     "output_type": "stream",
     "text": [
      "4200:\tlearn: 0.8802190\ttest: 0.7934868\tbest: 0.7940283 (3954)\ttotal: 9m 12s\tremaining: 1m 45s\n"
     ]
    },
    {
     "name": "stdout",
     "output_type": "stream",
     "text": [
      "4250:\tlearn: 0.8808439\ttest: 0.7931564\tbest: 0.7940283 (3954)\ttotal: 9m 18s\tremaining: 1m 38s\n"
     ]
    },
    {
     "name": "stdout",
     "output_type": "stream",
     "text": [
      "4300:\tlearn: 0.8817823\ttest: 0.7934444\tbest: 0.7940283 (3954)\ttotal: 9m 25s\tremaining: 1m 31s\n"
     ]
    },
    {
     "name": "stdout",
     "output_type": "stream",
     "text": [
      "4350:\tlearn: 0.8827705\ttest: 0.7934067\tbest: 0.7940283 (3954)\ttotal: 9m 31s\tremaining: 1m 25s\n"
     ]
    },
    {
     "name": "stdout",
     "output_type": "stream",
     "text": [
      "4400:\tlearn: 0.8833841\ttest: 0.7934317\tbest: 0.7940283 (3954)\ttotal: 9m 38s\tremaining: 1m 18s\n"
     ]
    },
    {
     "name": "stdout",
     "output_type": "stream",
     "text": [
      "4450:\tlearn: 0.8843265\ttest: 0.7932418\tbest: 0.7940283 (3954)\ttotal: 9m 44s\tremaining: 1m 12s\n"
     ]
    },
    {
     "name": "stdout",
     "output_type": "stream",
     "text": [
      "4500:\tlearn: 0.8850526\ttest: 0.7932433\tbest: 0.7940283 (3954)\ttotal: 9m 51s\tremaining: 1m 5s\n"
     ]
    },
    {
     "name": "stdout",
     "output_type": "stream",
     "text": [
      "4550:\tlearn: 0.8857731\ttest: 0.7927623\tbest: 0.7940283 (3954)\ttotal: 9m 57s\tremaining: 59s\n"
     ]
    },
    {
     "name": "stdout",
     "output_type": "stream",
     "text": [
      "4600:\tlearn: 0.8864399\ttest: 0.7930581\tbest: 0.7940283 (3954)\ttotal: 10m 4s\tremaining: 52.4s\n"
     ]
    },
    {
     "name": "stdout",
     "output_type": "stream",
     "text": [
      "4650:\tlearn: 0.8871741\ttest: 0.7931712\tbest: 0.7940283 (3954)\ttotal: 10m 11s\tremaining: 45.9s\n"
     ]
    },
    {
     "name": "stdout",
     "output_type": "stream",
     "text": [
      "4700:\tlearn: 0.8879099\ttest: 0.7932874\tbest: 0.7940283 (3954)\ttotal: 10m 17s\tremaining: 39.3s\n"
     ]
    },
    {
     "name": "stdout",
     "output_type": "stream",
     "text": [
      "4750:\tlearn: 0.8885551\ttest: 0.7931631\tbest: 0.7940283 (3954)\ttotal: 10m 24s\tremaining: 32.7s\n"
     ]
    },
    {
     "name": "stdout",
     "output_type": "stream",
     "text": [
      "4800:\tlearn: 0.8893910\ttest: 0.7932682\tbest: 0.7940283 (3954)\ttotal: 10m 30s\tremaining: 26.1s\n"
     ]
    },
    {
     "name": "stdout",
     "output_type": "stream",
     "text": [
      "4850:\tlearn: 0.8900969\ttest: 0.7934555\tbest: 0.7940283 (3954)\ttotal: 10m 37s\tremaining: 19.6s\n"
     ]
    },
    {
     "name": "stdout",
     "output_type": "stream",
     "text": [
      "4900:\tlearn: 0.8906974\ttest: 0.7927990\tbest: 0.7940283 (3954)\ttotal: 10m 43s\tremaining: 13s\n"
     ]
    },
    {
     "name": "stdout",
     "output_type": "stream",
     "text": [
      "4950:\tlearn: 0.8915173\ttest: 0.7930541\tbest: 0.7940283 (3954)\ttotal: 10m 50s\tremaining: 6.44s\n"
     ]
    },
    {
     "name": "stdout",
     "output_type": "stream",
     "text": [
      "4999:\tlearn: 0.8923541\ttest: 0.7925597\tbest: 0.7940283 (3954)\ttotal: 10m 56s\tremaining: 0us\n",
      "\n",
      "bestTest = 0.7940283237\n",
      "bestIteration = 3954\n",
      "\n"
     ]
    },
    {
     "name": "stdout",
     "output_type": "stream",
     "text": [
      "Training time: 55.08272227843602 min.\n",
      "OOF recall_at4: 0.6677887366613929\n",
      "OOF normalized_gini: 0.9247151279261857\n",
      "OOF competition metric: 0.7962519322937893\n"
     ]
    },
    {
     "name": "stdout",
     "output_type": "stream",
     "text": [
      "############################### repeated cross-validation step: 5/5 ################################\n"
     ]
    },
    {
     "name": "stdout",
     "output_type": "stream",
     "text": [
      "######################################## training model 1/5 ########################################\n",
      "seed: 20\n"
     ]
    },
    {
     "name": "stdout",
     "output_type": "stream",
     "text": [
      "0:\tlearn: 0.4678597\ttest: 0.4685722\tbest: 0.4685722 (0)\ttotal: 453ms\tremaining: 37m 44s\n"
     ]
    },
    {
     "name": "stdout",
     "output_type": "stream",
     "text": [
      "50:\tlearn: 0.7402397\ttest: 0.7389887\tbest: 0.7389887 (50)\ttotal: 6.93s\tremaining: 11m 12s\n"
     ]
    },
    {
     "name": "stdout",
     "output_type": "stream",
     "text": [
      "100:\tlearn: 0.7545579\ttest: 0.7529068\tbest: 0.7529068 (100)\ttotal: 13.5s\tremaining: 10m 54s\n"
     ]
    },
    {
     "name": "stdout",
     "output_type": "stream",
     "text": [
      "150:\tlearn: 0.7620165\ttest: 0.7614612\tbest: 0.7614612 (150)\ttotal: 20.1s\tremaining: 10m 43s\n"
     ]
    },
    {
     "name": "stdout",
     "output_type": "stream",
     "text": [
      "200:\tlearn: 0.7667358\ttest: 0.7666305\tbest: 0.7667362 (196)\ttotal: 26.7s\tremaining: 10m 37s\n"
     ]
    },
    {
     "name": "stdout",
     "output_type": "stream",
     "text": [
      "250:\tlearn: 0.7709574\ttest: 0.7716305\tbest: 0.7716305 (250)\ttotal: 33.3s\tremaining: 10m 30s\n"
     ]
    },
    {
     "name": "stdout",
     "output_type": "stream",
     "text": [
      "300:\tlearn: 0.7762767\ttest: 0.7764767\tbest: 0.7766962 (299)\ttotal: 39.9s\tremaining: 10m 23s\n"
     ]
    },
    {
     "name": "stdout",
     "output_type": "stream",
     "text": [
      "350:\tlearn: 0.7831114\ttest: 0.7824796\tbest: 0.7826065 (349)\ttotal: 46.5s\tremaining: 10m 16s\n"
     ]
    },
    {
     "name": "stdout",
     "output_type": "stream",
     "text": [
      "400:\tlearn: 0.7875036\ttest: 0.7855560\tbest: 0.7855894 (396)\ttotal: 53.2s\tremaining: 10m 9s\n"
     ]
    },
    {
     "name": "stdout",
     "output_type": "stream",
     "text": [
      "450:\tlearn: 0.7908425\ttest: 0.7882878\tbest: 0.7882885 (447)\ttotal: 59.7s\tremaining: 10m 2s\n"
     ]
    },
    {
     "name": "stdout",
     "output_type": "stream",
     "text": [
      "500:\tlearn: 0.7935235\ttest: 0.7900218\tbest: 0.7900218 (500)\ttotal: 1m 6s\tremaining: 9m 55s\n"
     ]
    },
    {
     "name": "stdout",
     "output_type": "stream",
     "text": [
      "550:\tlearn: 0.7958542\ttest: 0.7914467\tbest: 0.7914467 (550)\ttotal: 1m 12s\tremaining: 9m 48s\n"
     ]
    },
    {
     "name": "stdout",
     "output_type": "stream",
     "text": [
      "600:\tlearn: 0.7979987\ttest: 0.7918941\tbest: 0.7920587 (599)\ttotal: 1m 19s\tremaining: 9m 41s\n"
     ]
    },
    {
     "name": "stdout",
     "output_type": "stream",
     "text": [
      "650:\tlearn: 0.8000550\ttest: 0.7923296\tbest: 0.7924704 (647)\ttotal: 1m 26s\tremaining: 9m 35s\n"
     ]
    },
    {
     "name": "stdout",
     "output_type": "stream",
     "text": [
      "700:\tlearn: 0.8022710\ttest: 0.7926029\tbest: 0.7930195 (660)\ttotal: 1m 32s\tremaining: 9m 29s\n"
     ]
    },
    {
     "name": "stdout",
     "output_type": "stream",
     "text": [
      "750:\tlearn: 0.8037549\ttest: 0.7929479\tbest: 0.7933638 (717)\ttotal: 1m 39s\tremaining: 9m 22s\n"
     ]
    },
    {
     "name": "stdout",
     "output_type": "stream",
     "text": [
      "800:\tlearn: 0.8054261\ttest: 0.7934645\tbest: 0.7935207 (798)\ttotal: 1m 46s\tremaining: 9m 15s\n"
     ]
    },
    {
     "name": "stdout",
     "output_type": "stream",
     "text": [
      "850:\tlearn: 0.8074789\ttest: 0.7937185\tbest: 0.7940549 (837)\ttotal: 1m 52s\tremaining: 9m 9s\n"
     ]
    },
    {
     "name": "stdout",
     "output_type": "stream",
     "text": [
      "900:\tlearn: 0.8089104\ttest: 0.7936372\tbest: 0.7940549 (837)\ttotal: 1m 59s\tremaining: 9m 2s\n"
     ]
    },
    {
     "name": "stdout",
     "output_type": "stream",
     "text": [
      "950:\tlearn: 0.8103945\ttest: 0.7942647\tbest: 0.7944491 (946)\ttotal: 2m 5s\tremaining: 8m 55s\n"
     ]
    },
    {
     "name": "stdout",
     "output_type": "stream",
     "text": [
      "1000:\tlearn: 0.8119169\ttest: 0.7945995\tbest: 0.7947483 (988)\ttotal: 2m 12s\tremaining: 8m 49s\n"
     ]
    },
    {
     "name": "stdout",
     "output_type": "stream",
     "text": [
      "1050:\tlearn: 0.8133609\ttest: 0.7946898\tbest: 0.7949493 (1011)\ttotal: 2m 19s\tremaining: 8m 42s\n"
     ]
    },
    {
     "name": "stdout",
     "output_type": "stream",
     "text": [
      "1100:\tlearn: 0.8145930\ttest: 0.7948630\tbest: 0.7952621 (1076)\ttotal: 2m 25s\tremaining: 8m 36s\n"
     ]
    },
    {
     "name": "stdout",
     "output_type": "stream",
     "text": [
      "1150:\tlearn: 0.8159670\ttest: 0.7948495\tbest: 0.7952621 (1076)\ttotal: 2m 32s\tremaining: 8m 29s\n"
     ]
    },
    {
     "name": "stdout",
     "output_type": "stream",
     "text": [
      "1200:\tlearn: 0.8172713\ttest: 0.7956683\tbest: 0.7956683 (1200)\ttotal: 2m 38s\tremaining: 8m 22s\n"
     ]
    },
    {
     "name": "stdout",
     "output_type": "stream",
     "text": [
      "1250:\tlearn: 0.8182176\ttest: 0.7952005\tbest: 0.7956769 (1206)\ttotal: 2m 45s\tremaining: 8m 16s\n"
     ]
    },
    {
     "name": "stdout",
     "output_type": "stream",
     "text": [
      "1300:\tlearn: 0.8194277\ttest: 0.7952184\tbest: 0.7956769 (1206)\ttotal: 2m 52s\tremaining: 8m 9s\n"
     ]
    },
    {
     "name": "stdout",
     "output_type": "stream",
     "text": [
      "1350:\tlearn: 0.8208615\ttest: 0.7954047\tbest: 0.7957815 (1326)\ttotal: 2m 58s\tremaining: 8m 2s\n"
     ]
    },
    {
     "name": "stdout",
     "output_type": "stream",
     "text": [
      "1400:\tlearn: 0.8227197\ttest: 0.7950184\tbest: 0.7957815 (1326)\ttotal: 3m 5s\tremaining: 7m 55s\n"
     ]
    },
    {
     "name": "stdout",
     "output_type": "stream",
     "text": [
      "1450:\tlearn: 0.8240165\ttest: 0.7954664\tbest: 0.7957815 (1326)\ttotal: 3m 11s\tremaining: 7m 49s\n"
     ]
    },
    {
     "name": "stdout",
     "output_type": "stream",
     "text": [
      "1500:\tlearn: 0.8253042\ttest: 0.7957936\tbest: 0.7959757 (1492)\ttotal: 3m 18s\tremaining: 7m 42s\n"
     ]
    },
    {
     "name": "stdout",
     "output_type": "stream",
     "text": [
      "1550:\tlearn: 0.8265136\ttest: 0.7957340\tbest: 0.7963366 (1523)\ttotal: 3m 24s\tremaining: 7m 35s\n"
     ]
    },
    {
     "name": "stdout",
     "output_type": "stream",
     "text": [
      "1600:\tlearn: 0.8278892\ttest: 0.7956557\tbest: 0.7963366 (1523)\ttotal: 3m 31s\tremaining: 7m 29s\n"
     ]
    },
    {
     "name": "stdout",
     "output_type": "stream",
     "text": [
      "1650:\tlearn: 0.8291620\ttest: 0.7958288\tbest: 0.7963366 (1523)\ttotal: 3m 38s\tremaining: 7m 22s\n"
     ]
    },
    {
     "name": "stdout",
     "output_type": "stream",
     "text": [
      "1700:\tlearn: 0.8303518\ttest: 0.7964173\tbest: 0.7964594 (1697)\ttotal: 3m 44s\tremaining: 7m 15s\n"
     ]
    },
    {
     "name": "stdout",
     "output_type": "stream",
     "text": [
      "1750:\tlearn: 0.8315039\ttest: 0.7961394\tbest: 0.7965439 (1701)\ttotal: 3m 50s\tremaining: 7m 8s\n"
     ]
    },
    {
     "name": "stdout",
     "output_type": "stream",
     "text": [
      "1800:\tlearn: 0.8325289\ttest: 0.7965315\tbest: 0.7965439 (1701)\ttotal: 3m 57s\tremaining: 7m 1s\n"
     ]
    },
    {
     "name": "stdout",
     "output_type": "stream",
     "text": [
      "1850:\tlearn: 0.8338351\ttest: 0.7967987\tbest: 0.7967999 (1849)\ttotal: 4m 4s\tremaining: 6m 55s\n"
     ]
    },
    {
     "name": "stdout",
     "output_type": "stream",
     "text": [
      "1900:\tlearn: 0.8347008\ttest: 0.7967936\tbest: 0.7970997 (1881)\ttotal: 4m 10s\tremaining: 6m 48s\n"
     ]
    },
    {
     "name": "stdout",
     "output_type": "stream",
     "text": [
      "1950:\tlearn: 0.8361392\ttest: 0.7963021\tbest: 0.7970997 (1881)\ttotal: 4m 17s\tremaining: 6m 41s\n"
     ]
    },
    {
     "name": "stdout",
     "output_type": "stream",
     "text": [
      "2000:\tlearn: 0.8371146\ttest: 0.7965455\tbest: 0.7970997 (1881)\ttotal: 4m 23s\tremaining: 6m 35s\n"
     ]
    },
    {
     "name": "stdout",
     "output_type": "stream",
     "text": [
      "2050:\tlearn: 0.8384267\ttest: 0.7967547\tbest: 0.7970997 (1881)\ttotal: 4m 30s\tremaining: 6m 28s\n"
     ]
    },
    {
     "name": "stdout",
     "output_type": "stream",
     "text": [
      "2100:\tlearn: 0.8399968\ttest: 0.7966350\tbest: 0.7970997 (1881)\ttotal: 4m 36s\tremaining: 6m 21s\n"
     ]
    },
    {
     "name": "stdout",
     "output_type": "stream",
     "text": [
      "2150:\tlearn: 0.8407332\ttest: 0.7970111\tbest: 0.7974276 (2143)\ttotal: 4m 43s\tremaining: 6m 14s\n"
     ]
    },
    {
     "name": "stdout",
     "output_type": "stream",
     "text": [
      "2200:\tlearn: 0.8419030\ttest: 0.7972261\tbest: 0.7974411 (2162)\ttotal: 4m 49s\tremaining: 6m 8s\n"
     ]
    },
    {
     "name": "stdout",
     "output_type": "stream",
     "text": [
      "2250:\tlearn: 0.8427440\ttest: 0.7967645\tbest: 0.7974411 (2162)\ttotal: 4m 56s\tremaining: 6m 1s\n"
     ]
    },
    {
     "name": "stdout",
     "output_type": "stream",
     "text": [
      "2300:\tlearn: 0.8439084\ttest: 0.7974692\tbest: 0.7974692 (2300)\ttotal: 5m 2s\tremaining: 5m 54s\n"
     ]
    },
    {
     "name": "stdout",
     "output_type": "stream",
     "text": [
      "2350:\tlearn: 0.8446821\ttest: 0.7977169\tbest: 0.7977998 (2339)\ttotal: 5m 9s\tremaining: 5m 48s\n"
     ]
    },
    {
     "name": "stdout",
     "output_type": "stream",
     "text": [
      "2400:\tlearn: 0.8457240\ttest: 0.7974432\tbest: 0.7980236 (2369)\ttotal: 5m 15s\tremaining: 5m 41s\n"
     ]
    },
    {
     "name": "stdout",
     "output_type": "stream",
     "text": [
      "2450:\tlearn: 0.8466839\ttest: 0.7968695\tbest: 0.7980236 (2369)\ttotal: 5m 22s\tremaining: 5m 35s\n"
     ]
    },
    {
     "name": "stdout",
     "output_type": "stream",
     "text": [
      "2500:\tlearn: 0.8478370\ttest: 0.7972018\tbest: 0.7980236 (2369)\ttotal: 5m 28s\tremaining: 5m 28s\n"
     ]
    },
    {
     "name": "stdout",
     "output_type": "stream",
     "text": [
      "2550:\tlearn: 0.8488904\ttest: 0.7975407\tbest: 0.7980236 (2369)\ttotal: 5m 35s\tremaining: 5m 21s\n"
     ]
    },
    {
     "name": "stdout",
     "output_type": "stream",
     "text": [
      "2600:\tlearn: 0.8498254\ttest: 0.7975430\tbest: 0.7980236 (2369)\ttotal: 5m 41s\tremaining: 5m 15s\n"
     ]
    },
    {
     "name": "stdout",
     "output_type": "stream",
     "text": [
      "2650:\tlearn: 0.8512985\ttest: 0.7969392\tbest: 0.7980236 (2369)\ttotal: 5m 48s\tremaining: 5m 8s\n"
     ]
    },
    {
     "name": "stdout",
     "output_type": "stream",
     "text": [
      "2700:\tlearn: 0.8520250\ttest: 0.7965678\tbest: 0.7980236 (2369)\ttotal: 5m 54s\tremaining: 5m 1s\n"
     ]
    },
    {
     "name": "stdout",
     "output_type": "stream",
     "text": [
      "2750:\tlearn: 0.8531132\ttest: 0.7966818\tbest: 0.7980236 (2369)\ttotal: 6m 1s\tremaining: 4m 55s\n"
     ]
    },
    {
     "name": "stdout",
     "output_type": "stream",
     "text": [
      "2800:\tlearn: 0.8541661\ttest: 0.7966682\tbest: 0.7980236 (2369)\ttotal: 6m 7s\tremaining: 4m 48s\n"
     ]
    },
    {
     "name": "stdout",
     "output_type": "stream",
     "text": [
      "2850:\tlearn: 0.8553743\ttest: 0.7966344\tbest: 0.7980236 (2369)\ttotal: 6m 14s\tremaining: 4m 42s\n"
     ]
    },
    {
     "name": "stdout",
     "output_type": "stream",
     "text": [
      "2900:\tlearn: 0.8563783\ttest: 0.7968325\tbest: 0.7980236 (2369)\ttotal: 6m 20s\tremaining: 4m 35s\n"
     ]
    },
    {
     "name": "stdout",
     "output_type": "stream",
     "text": [
      "2950:\tlearn: 0.8575307\ttest: 0.7968171\tbest: 0.7980236 (2369)\ttotal: 6m 27s\tremaining: 4m 28s\n"
     ]
    },
    {
     "name": "stdout",
     "output_type": "stream",
     "text": [
      "3000:\tlearn: 0.8588505\ttest: 0.7966285\tbest: 0.7980236 (2369)\ttotal: 6m 33s\tremaining: 4m 22s\n"
     ]
    },
    {
     "name": "stdout",
     "output_type": "stream",
     "text": [
      "3050:\tlearn: 0.8599291\ttest: 0.7962547\tbest: 0.7980236 (2369)\ttotal: 6m 40s\tremaining: 4m 15s\n"
     ]
    },
    {
     "name": "stdout",
     "output_type": "stream",
     "text": [
      "3100:\tlearn: 0.8607058\ttest: 0.7962615\tbest: 0.7980236 (2369)\ttotal: 6m 46s\tremaining: 4m 9s\n"
     ]
    },
    {
     "name": "stdout",
     "output_type": "stream",
     "text": [
      "3150:\tlearn: 0.8617305\ttest: 0.7965304\tbest: 0.7980236 (2369)\ttotal: 6m 53s\tremaining: 4m 2s\n"
     ]
    },
    {
     "name": "stdout",
     "output_type": "stream",
     "text": [
      "3200:\tlearn: 0.8627786\ttest: 0.7964301\tbest: 0.7980236 (2369)\ttotal: 6m 59s\tremaining: 3m 56s\n"
     ]
    },
    {
     "name": "stdout",
     "output_type": "stream",
     "text": [
      "3250:\tlearn: 0.8638837\ttest: 0.7967847\tbest: 0.7980236 (2369)\ttotal: 7m 6s\tremaining: 3m 49s\n"
     ]
    },
    {
     "name": "stdout",
     "output_type": "stream",
     "text": [
      "3300:\tlearn: 0.8649003\ttest: 0.7968515\tbest: 0.7980236 (2369)\ttotal: 7m 12s\tremaining: 3m 42s\n"
     ]
    },
    {
     "name": "stdout",
     "output_type": "stream",
     "text": [
      "3350:\tlearn: 0.8659327\ttest: 0.7967549\tbest: 0.7980236 (2369)\ttotal: 7m 19s\tremaining: 3m 36s\n"
     ]
    },
    {
     "name": "stdout",
     "output_type": "stream",
     "text": [
      "3400:\tlearn: 0.8669949\ttest: 0.7972210\tbest: 0.7980236 (2369)\ttotal: 7m 26s\tremaining: 3m 29s\n"
     ]
    },
    {
     "name": "stdout",
     "output_type": "stream",
     "text": [
      "3450:\tlearn: 0.8679830\ttest: 0.7972034\tbest: 0.7980236 (2369)\ttotal: 7m 32s\tremaining: 3m 23s\n"
     ]
    },
    {
     "name": "stdout",
     "output_type": "stream",
     "text": [
      "3500:\tlearn: 0.8690142\ttest: 0.7972197\tbest: 0.7980236 (2369)\ttotal: 7m 39s\tremaining: 3m 16s\n"
     ]
    },
    {
     "name": "stdout",
     "output_type": "stream",
     "text": [
      "3550:\tlearn: 0.8699095\ttest: 0.7975185\tbest: 0.7980236 (2369)\ttotal: 7m 45s\tremaining: 3m 9s\n"
     ]
    },
    {
     "name": "stdout",
     "output_type": "stream",
     "text": [
      "3600:\tlearn: 0.8707754\ttest: 0.7977903\tbest: 0.7980236 (2369)\ttotal: 7m 52s\tremaining: 3m 3s\n"
     ]
    },
    {
     "name": "stdout",
     "output_type": "stream",
     "text": [
      "3650:\tlearn: 0.8718694\ttest: 0.7979609\tbest: 0.7980236 (2369)\ttotal: 7m 58s\tremaining: 2m 56s\n"
     ]
    },
    {
     "name": "stdout",
     "output_type": "stream",
     "text": [
      "3700:\tlearn: 0.8727189\ttest: 0.7976973\tbest: 0.7980236 (2369)\ttotal: 8m 5s\tremaining: 2m 50s\n"
     ]
    },
    {
     "name": "stdout",
     "output_type": "stream",
     "text": [
      "3750:\tlearn: 0.8736739\ttest: 0.7980441\tbest: 0.7981691 (3745)\ttotal: 8m 11s\tremaining: 2m 43s\n"
     ]
    },
    {
     "name": "stdout",
     "output_type": "stream",
     "text": [
      "3800:\tlearn: 0.8744722\ttest: 0.7981106\tbest: 0.7981888 (3776)\ttotal: 8m 18s\tremaining: 2m 37s\n"
     ]
    },
    {
     "name": "stdout",
     "output_type": "stream",
     "text": [
      "3850:\tlearn: 0.8754577\ttest: 0.7982591\tbest: 0.7985961 (3825)\ttotal: 8m 24s\tremaining: 2m 30s\n"
     ]
    },
    {
     "name": "stdout",
     "output_type": "stream",
     "text": [
      "3900:\tlearn: 0.8762331\ttest: 0.7982653\tbest: 0.7985961 (3825)\ttotal: 8m 31s\tremaining: 2m 24s\n"
     ]
    },
    {
     "name": "stdout",
     "output_type": "stream",
     "text": [
      "3950:\tlearn: 0.8773073\ttest: 0.7984283\tbest: 0.7986063 (3922)\ttotal: 8m 37s\tremaining: 2m 17s\n"
     ]
    },
    {
     "name": "stdout",
     "output_type": "stream",
     "text": [
      "4000:\tlearn: 0.8782479\ttest: 0.7983049\tbest: 0.7986063 (3922)\ttotal: 8m 44s\tremaining: 2m 10s\n"
     ]
    },
    {
     "name": "stdout",
     "output_type": "stream",
     "text": [
      "4050:\tlearn: 0.8789461\ttest: 0.7984957\tbest: 0.7986063 (3922)\ttotal: 8m 50s\tremaining: 2m 4s\n"
     ]
    },
    {
     "name": "stdout",
     "output_type": "stream",
     "text": [
      "4100:\tlearn: 0.8798651\ttest: 0.7985431\tbest: 0.7986063 (3922)\ttotal: 8m 57s\tremaining: 1m 57s\n"
     ]
    },
    {
     "name": "stdout",
     "output_type": "stream",
     "text": [
      "4150:\tlearn: 0.8807121\ttest: 0.7986006\tbest: 0.7989629 (4125)\ttotal: 9m 3s\tremaining: 1m 51s\n"
     ]
    },
    {
     "name": "stdout",
     "output_type": "stream",
     "text": [
      "4200:\tlearn: 0.8815315\ttest: 0.7983104\tbest: 0.7989629 (4125)\ttotal: 9m 10s\tremaining: 1m 44s\n"
     ]
    },
    {
     "name": "stdout",
     "output_type": "stream",
     "text": [
      "4250:\tlearn: 0.8823126\ttest: 0.7987540\tbest: 0.7989833 (4245)\ttotal: 9m 16s\tremaining: 1m 38s\n"
     ]
    },
    {
     "name": "stdout",
     "output_type": "stream",
     "text": [
      "4300:\tlearn: 0.8831540\ttest: 0.7988581\tbest: 0.7989875 (4268)\ttotal: 9m 23s\tremaining: 1m 31s\n"
     ]
    },
    {
     "name": "stdout",
     "output_type": "stream",
     "text": [
      "4350:\tlearn: 0.8839816\ttest: 0.7987715\tbest: 0.7991325 (4326)\ttotal: 9m 29s\tremaining: 1m 24s\n"
     ]
    },
    {
     "name": "stdout",
     "output_type": "stream",
     "text": [
      "4400:\tlearn: 0.8847530\ttest: 0.7984420\tbest: 0.7991325 (4326)\ttotal: 9m 36s\tremaining: 1m 18s\n"
     ]
    },
    {
     "name": "stdout",
     "output_type": "stream",
     "text": [
      "4450:\tlearn: 0.8854498\ttest: 0.7986146\tbest: 0.7991325 (4326)\ttotal: 9m 42s\tremaining: 1m 11s\n"
     ]
    },
    {
     "name": "stdout",
     "output_type": "stream",
     "text": [
      "4500:\tlearn: 0.8865269\ttest: 0.7984266\tbest: 0.7991325 (4326)\ttotal: 9m 49s\tremaining: 1m 5s\n"
     ]
    },
    {
     "name": "stdout",
     "output_type": "stream",
     "text": [
      "4550:\tlearn: 0.8872364\ttest: 0.7983624\tbest: 0.7991325 (4326)\ttotal: 9m 55s\tremaining: 58.8s\n"
     ]
    },
    {
     "name": "stdout",
     "output_type": "stream",
     "text": [
      "4600:\tlearn: 0.8881043\ttest: 0.7984512\tbest: 0.7991325 (4326)\ttotal: 10m 2s\tremaining: 52.2s\n"
     ]
    },
    {
     "name": "stdout",
     "output_type": "stream",
     "text": [
      "4650:\tlearn: 0.8889542\ttest: 0.7986691\tbest: 0.7991325 (4326)\ttotal: 10m 8s\tremaining: 45.7s\n"
     ]
    },
    {
     "name": "stdout",
     "output_type": "stream",
     "text": [
      "4700:\tlearn: 0.8898719\ttest: 0.7987082\tbest: 0.7991325 (4326)\ttotal: 10m 15s\tremaining: 39.1s\n"
     ]
    },
    {
     "name": "stdout",
     "output_type": "stream",
     "text": [
      "4750:\tlearn: 0.8905357\ttest: 0.7989875\tbest: 0.7992829 (4724)\ttotal: 10m 21s\tremaining: 32.6s\n"
     ]
    },
    {
     "name": "stdout",
     "output_type": "stream",
     "text": [
      "4800:\tlearn: 0.8912833\ttest: 0.7983541\tbest: 0.7992829 (4724)\ttotal: 10m 28s\tremaining: 26s\n"
     ]
    },
    {
     "name": "stdout",
     "output_type": "stream",
     "text": [
      "4850:\tlearn: 0.8920433\ttest: 0.7986274\tbest: 0.7992829 (4724)\ttotal: 10m 34s\tremaining: 19.5s\n"
     ]
    },
    {
     "name": "stdout",
     "output_type": "stream",
     "text": [
      "4900:\tlearn: 0.8928411\ttest: 0.7986186\tbest: 0.7992829 (4724)\ttotal: 10m 41s\tremaining: 13s\n"
     ]
    },
    {
     "name": "stdout",
     "output_type": "stream",
     "text": [
      "4950:\tlearn: 0.8933602\ttest: 0.7984033\tbest: 0.7992829 (4724)\ttotal: 10m 48s\tremaining: 6.41s\n"
     ]
    },
    {
     "name": "stdout",
     "output_type": "stream",
     "text": [
      "4999:\tlearn: 0.8943754\ttest: 0.7986965\tbest: 0.7992829 (4724)\ttotal: 10m 54s\tremaining: 0us\n",
      "\n",
      "bestTest = 0.7992829085\n",
      "bestIteration = 4724\n",
      "\n"
     ]
    },
    {
     "name": "stdout",
     "output_type": "stream",
     "text": [
      "######################################## training model 2/5 ########################################\n",
      "seed: 21\n"
     ]
    },
    {
     "name": "stdout",
     "output_type": "stream",
     "text": [
      "0:\tlearn: 0.6301229\ttest: 0.6342726\tbest: 0.6342726 (0)\ttotal: 454ms\tremaining: 37m 47s\n"
     ]
    },
    {
     "name": "stdout",
     "output_type": "stream",
     "text": [
      "50:\tlearn: 0.7432180\ttest: 0.7480377\tbest: 0.7480377 (50)\ttotal: 6.91s\tremaining: 11m 10s\n"
     ]
    },
    {
     "name": "stdout",
     "output_type": "stream",
     "text": [
      "100:\tlearn: 0.7553599\ttest: 0.7608883\tbest: 0.7608883 (100)\ttotal: 13.4s\tremaining: 10m 51s\n"
     ]
    },
    {
     "name": "stdout",
     "output_type": "stream",
     "text": [
      "150:\tlearn: 0.7613836\ttest: 0.7667202\tbest: 0.7667202 (150)\ttotal: 19.9s\tremaining: 10m 40s\n"
     ]
    },
    {
     "name": "stdout",
     "output_type": "stream",
     "text": [
      "200:\tlearn: 0.7654743\ttest: 0.7700603\tbest: 0.7702329 (199)\ttotal: 26.5s\tremaining: 10m 33s\n"
     ]
    },
    {
     "name": "stdout",
     "output_type": "stream",
     "text": [
      "250:\tlearn: 0.7703839\ttest: 0.7734472\tbest: 0.7740401 (247)\ttotal: 33.1s\tremaining: 10m 25s\n"
     ]
    },
    {
     "name": "stdout",
     "output_type": "stream",
     "text": [
      "300:\tlearn: 0.7762356\ttest: 0.7780685\tbest: 0.7781355 (298)\ttotal: 39.6s\tremaining: 10m 18s\n"
     ]
    },
    {
     "name": "stdout",
     "output_type": "stream",
     "text": [
      "350:\tlearn: 0.7826023\ttest: 0.7844936\tbest: 0.7847772 (347)\ttotal: 46.2s\tremaining: 10m 11s\n"
     ]
    },
    {
     "name": "stdout",
     "output_type": "stream",
     "text": [
      "400:\tlearn: 0.7877135\ttest: 0.7884709\tbest: 0.7886680 (399)\ttotal: 52.7s\tremaining: 10m 4s\n"
     ]
    },
    {
     "name": "stdout",
     "output_type": "stream",
     "text": [
      "450:\tlearn: 0.7911198\ttest: 0.7888950\tbest: 0.7892004 (427)\ttotal: 59.3s\tremaining: 9m 58s\n"
     ]
    },
    {
     "name": "stdout",
     "output_type": "stream",
     "text": [
      "500:\tlearn: 0.7937696\ttest: 0.7900730\tbest: 0.7901937 (491)\ttotal: 1m 5s\tremaining: 9m 51s\n"
     ]
    },
    {
     "name": "stdout",
     "output_type": "stream",
     "text": [
      "550:\tlearn: 0.7964323\ttest: 0.7915378\tbest: 0.7916631 (545)\ttotal: 1m 12s\tremaining: 9m 45s\n"
     ]
    },
    {
     "name": "stdout",
     "output_type": "stream",
     "text": [
      "600:\tlearn: 0.7983931\ttest: 0.7920922\tbest: 0.7922832 (579)\ttotal: 1m 19s\tremaining: 9m 38s\n"
     ]
    },
    {
     "name": "stdout",
     "output_type": "stream",
     "text": [
      "650:\tlearn: 0.8003230\ttest: 0.7919933\tbest: 0.7924228 (604)\ttotal: 1m 25s\tremaining: 9m 31s\n"
     ]
    },
    {
     "name": "stdout",
     "output_type": "stream",
     "text": [
      "700:\tlearn: 0.8020754\ttest: 0.7921330\tbest: 0.7926104 (681)\ttotal: 1m 32s\tremaining: 9m 25s\n"
     ]
    },
    {
     "name": "stdout",
     "output_type": "stream",
     "text": [
      "750:\tlearn: 0.8041548\ttest: 0.7925312\tbest: 0.7926534 (736)\ttotal: 1m 38s\tremaining: 9m 18s\n"
     ]
    },
    {
     "name": "stdout",
     "output_type": "stream",
     "text": [
      "800:\tlearn: 0.8054942\ttest: 0.7930331\tbest: 0.7932528 (795)\ttotal: 1m 45s\tremaining: 9m 11s\n"
     ]
    },
    {
     "name": "stdout",
     "output_type": "stream",
     "text": [
      "850:\tlearn: 0.8070292\ttest: 0.7934118\tbest: 0.7937363 (828)\ttotal: 1m 51s\tremaining: 9m 4s\n"
     ]
    },
    {
     "name": "stdout",
     "output_type": "stream",
     "text": [
      "900:\tlearn: 0.8089227\ttest: 0.7941677\tbest: 0.7941677 (900)\ttotal: 1m 58s\tremaining: 8m 58s\n"
     ]
    },
    {
     "name": "stdout",
     "output_type": "stream",
     "text": [
      "950:\tlearn: 0.8107713\ttest: 0.7940355\tbest: 0.7941677 (900)\ttotal: 2m 4s\tremaining: 8m 51s\n"
     ]
    },
    {
     "name": "stdout",
     "output_type": "stream",
     "text": [
      "1000:\tlearn: 0.8122161\ttest: 0.7940183\tbest: 0.7943252 (963)\ttotal: 2m 11s\tremaining: 8m 44s\n"
     ]
    },
    {
     "name": "stdout",
     "output_type": "stream",
     "text": [
      "1050:\tlearn: 0.8134370\ttest: 0.7943555\tbest: 0.7948736 (1043)\ttotal: 2m 17s\tremaining: 8m 38s\n"
     ]
    },
    {
     "name": "stdout",
     "output_type": "stream",
     "text": [
      "1100:\tlearn: 0.8147396\ttest: 0.7943121\tbest: 0.7948736 (1043)\ttotal: 2m 24s\tremaining: 8m 31s\n"
     ]
    },
    {
     "name": "stdout",
     "output_type": "stream",
     "text": [
      "1150:\tlearn: 0.8162064\ttest: 0.7941187\tbest: 0.7948736 (1043)\ttotal: 2m 30s\tremaining: 8m 24s\n"
     ]
    },
    {
     "name": "stdout",
     "output_type": "stream",
     "text": [
      "1200:\tlearn: 0.8177464\ttest: 0.7943545\tbest: 0.7948736 (1043)\ttotal: 2m 37s\tremaining: 8m 17s\n"
     ]
    },
    {
     "name": "stdout",
     "output_type": "stream",
     "text": [
      "1250:\tlearn: 0.8190088\ttest: 0.7944789\tbest: 0.7948736 (1043)\ttotal: 2m 43s\tremaining: 8m 11s\n"
     ]
    },
    {
     "name": "stdout",
     "output_type": "stream",
     "text": [
      "1300:\tlearn: 0.8202321\ttest: 0.7951271\tbest: 0.7952674 (1263)\ttotal: 2m 50s\tremaining: 8m 4s\n"
     ]
    },
    {
     "name": "stdout",
     "output_type": "stream",
     "text": [
      "1350:\tlearn: 0.8217737\ttest: 0.7952397\tbest: 0.7953549 (1332)\ttotal: 2m 56s\tremaining: 7m 57s\n"
     ]
    },
    {
     "name": "stdout",
     "output_type": "stream",
     "text": [
      "1400:\tlearn: 0.8230352\ttest: 0.7956014\tbest: 0.7956196 (1398)\ttotal: 3m 3s\tremaining: 7m 51s\n"
     ]
    },
    {
     "name": "stdout",
     "output_type": "stream",
     "text": [
      "1450:\tlearn: 0.8242300\ttest: 0.7957554\tbest: 0.7960025 (1442)\ttotal: 3m 9s\tremaining: 7m 44s\n"
     ]
    },
    {
     "name": "stdout",
     "output_type": "stream",
     "text": [
      "1500:\tlearn: 0.8254866\ttest: 0.7955932\tbest: 0.7960025 (1442)\ttotal: 3m 16s\tremaining: 7m 38s\n"
     ]
    },
    {
     "name": "stdout",
     "output_type": "stream",
     "text": [
      "1550:\tlearn: 0.8264670\ttest: 0.7954262\tbest: 0.7960434 (1517)\ttotal: 3m 22s\tremaining: 7m 31s\n"
     ]
    },
    {
     "name": "stdout",
     "output_type": "stream",
     "text": [
      "1600:\tlearn: 0.8275521\ttest: 0.7953787\tbest: 0.7960434 (1517)\ttotal: 3m 29s\tremaining: 7m 24s\n"
     ]
    },
    {
     "name": "stdout",
     "output_type": "stream",
     "text": [
      "1650:\tlearn: 0.8287494\ttest: 0.7957486\tbest: 0.7960434 (1517)\ttotal: 3m 36s\tremaining: 7m 18s\n"
     ]
    },
    {
     "name": "stdout",
     "output_type": "stream",
     "text": [
      "1700:\tlearn: 0.8297972\ttest: 0.7962389\tbest: 0.7964899 (1696)\ttotal: 3m 42s\tremaining: 7m 11s\n"
     ]
    },
    {
     "name": "stdout",
     "output_type": "stream",
     "text": [
      "1750:\tlearn: 0.8311213\ttest: 0.7961800\tbest: 0.7965543 (1735)\ttotal: 3m 49s\tremaining: 7m 5s\n"
     ]
    },
    {
     "name": "stdout",
     "output_type": "stream",
     "text": [
      "1800:\tlearn: 0.8321351\ttest: 0.7968040\tbest: 0.7970991 (1792)\ttotal: 3m 55s\tremaining: 6m 58s\n"
     ]
    },
    {
     "name": "stdout",
     "output_type": "stream",
     "text": [
      "1850:\tlearn: 0.8330188\ttest: 0.7966169\tbest: 0.7970991 (1792)\ttotal: 4m 2s\tremaining: 6m 51s\n"
     ]
    },
    {
     "name": "stdout",
     "output_type": "stream",
     "text": [
      "1900:\tlearn: 0.8341768\ttest: 0.7968097\tbest: 0.7971136 (1879)\ttotal: 4m 8s\tremaining: 6m 45s\n"
     ]
    },
    {
     "name": "stdout",
     "output_type": "stream",
     "text": [
      "1950:\tlearn: 0.8351009\ttest: 0.7971794\tbest: 0.7973019 (1923)\ttotal: 4m 15s\tremaining: 6m 38s\n"
     ]
    },
    {
     "name": "stdout",
     "output_type": "stream",
     "text": [
      "2000:\tlearn: 0.8362913\ttest: 0.7972563\tbest: 0.7974027 (1996)\ttotal: 4m 21s\tremaining: 6m 32s\n"
     ]
    },
    {
     "name": "stdout",
     "output_type": "stream",
     "text": [
      "2050:\tlearn: 0.8373237\ttest: 0.7976034\tbest: 0.7977055 (2043)\ttotal: 4m 28s\tremaining: 6m 25s\n"
     ]
    },
    {
     "name": "stdout",
     "output_type": "stream",
     "text": [
      "2100:\tlearn: 0.8384970\ttest: 0.7972213\tbest: 0.7977055 (2043)\ttotal: 4m 34s\tremaining: 6m 19s\n"
     ]
    },
    {
     "name": "stdout",
     "output_type": "stream",
     "text": [
      "2150:\tlearn: 0.8393801\ttest: 0.7972586\tbest: 0.7977055 (2043)\ttotal: 4m 41s\tremaining: 6m 12s\n"
     ]
    },
    {
     "name": "stdout",
     "output_type": "stream",
     "text": [
      "2200:\tlearn: 0.8405045\ttest: 0.7974120\tbest: 0.7977055 (2043)\ttotal: 4m 47s\tremaining: 6m 5s\n"
     ]
    },
    {
     "name": "stdout",
     "output_type": "stream",
     "text": [
      "2250:\tlearn: 0.8416129\ttest: 0.7972926\tbest: 0.7977967 (2219)\ttotal: 4m 54s\tremaining: 5m 59s\n"
     ]
    },
    {
     "name": "stdout",
     "output_type": "stream",
     "text": [
      "2300:\tlearn: 0.8426280\ttest: 0.7971338\tbest: 0.7977967 (2219)\ttotal: 5m\tremaining: 5m 52s\n"
     ]
    },
    {
     "name": "stdout",
     "output_type": "stream",
     "text": [
      "2350:\tlearn: 0.8435506\ttest: 0.7967140\tbest: 0.7977967 (2219)\ttotal: 5m 7s\tremaining: 5m 46s\n"
     ]
    },
    {
     "name": "stdout",
     "output_type": "stream",
     "text": [
      "2400:\tlearn: 0.8444313\ttest: 0.7966562\tbest: 0.7977967 (2219)\ttotal: 5m 13s\tremaining: 5m 39s\n"
     ]
    },
    {
     "name": "stdout",
     "output_type": "stream",
     "text": [
      "2450:\tlearn: 0.8452416\ttest: 0.7971790\tbest: 0.7977967 (2219)\ttotal: 5m 20s\tremaining: 5m 33s\n"
     ]
    },
    {
     "name": "stdout",
     "output_type": "stream",
     "text": [
      "2500:\tlearn: 0.8462879\ttest: 0.7972627\tbest: 0.7977967 (2219)\ttotal: 5m 26s\tremaining: 5m 26s\n"
     ]
    },
    {
     "name": "stdout",
     "output_type": "stream",
     "text": [
      "2550:\tlearn: 0.8472068\ttest: 0.7970757\tbest: 0.7977967 (2219)\ttotal: 5m 33s\tremaining: 5m 19s\n"
     ]
    },
    {
     "name": "stdout",
     "output_type": "stream",
     "text": [
      "2600:\tlearn: 0.8482789\ttest: 0.7968106\tbest: 0.7977967 (2219)\ttotal: 5m 39s\tremaining: 5m 13s\n"
     ]
    },
    {
     "name": "stdout",
     "output_type": "stream",
     "text": [
      "2650:\tlearn: 0.8491786\ttest: 0.7967793\tbest: 0.7977967 (2219)\ttotal: 5m 46s\tremaining: 5m 6s\n"
     ]
    },
    {
     "name": "stdout",
     "output_type": "stream",
     "text": [
      "2700:\tlearn: 0.8500389\ttest: 0.7971170\tbest: 0.7977967 (2219)\ttotal: 5m 52s\tremaining: 5m\n"
     ]
    },
    {
     "name": "stdout",
     "output_type": "stream",
     "text": [
      "2750:\tlearn: 0.8510156\ttest: 0.7967842\tbest: 0.7977967 (2219)\ttotal: 5m 59s\tremaining: 4m 53s\n"
     ]
    },
    {
     "name": "stdout",
     "output_type": "stream",
     "text": [
      "2800:\tlearn: 0.8520276\ttest: 0.7970484\tbest: 0.7977967 (2219)\ttotal: 6m 5s\tremaining: 4m 47s\n"
     ]
    },
    {
     "name": "stdout",
     "output_type": "stream",
     "text": [
      "2850:\tlearn: 0.8530293\ttest: 0.7967359\tbest: 0.7977967 (2219)\ttotal: 6m 12s\tremaining: 4m 40s\n"
     ]
    },
    {
     "name": "stdout",
     "output_type": "stream",
     "text": [
      "2900:\tlearn: 0.8540599\ttest: 0.7970942\tbest: 0.7977967 (2219)\ttotal: 6m 19s\tremaining: 4m 34s\n"
     ]
    },
    {
     "name": "stdout",
     "output_type": "stream",
     "text": [
      "2950:\tlearn: 0.8550019\ttest: 0.7968933\tbest: 0.7977967 (2219)\ttotal: 6m 25s\tremaining: 4m 27s\n"
     ]
    },
    {
     "name": "stdout",
     "output_type": "stream",
     "text": [
      "3000:\tlearn: 0.8559284\ttest: 0.7971902\tbest: 0.7977967 (2219)\ttotal: 6m 32s\tremaining: 4m 21s\n"
     ]
    },
    {
     "name": "stdout",
     "output_type": "stream",
     "text": [
      "3050:\tlearn: 0.8568014\ttest: 0.7967759\tbest: 0.7977967 (2219)\ttotal: 6m 38s\tremaining: 4m 14s\n"
     ]
    },
    {
     "name": "stdout",
     "output_type": "stream",
     "text": [
      "3100:\tlearn: 0.8578349\ttest: 0.7968448\tbest: 0.7977967 (2219)\ttotal: 6m 45s\tremaining: 4m 8s\n"
     ]
    },
    {
     "name": "stdout",
     "output_type": "stream",
     "text": [
      "3150:\tlearn: 0.8585889\ttest: 0.7968463\tbest: 0.7977967 (2219)\ttotal: 6m 51s\tremaining: 4m 1s\n"
     ]
    },
    {
     "name": "stdout",
     "output_type": "stream",
     "text": [
      "3200:\tlearn: 0.8595715\ttest: 0.7968901\tbest: 0.7977967 (2219)\ttotal: 6m 58s\tremaining: 3m 55s\n"
     ]
    },
    {
     "name": "stdout",
     "output_type": "stream",
     "text": [
      "3250:\tlearn: 0.8604408\ttest: 0.7969046\tbest: 0.7977967 (2219)\ttotal: 7m 5s\tremaining: 3m 48s\n"
     ]
    },
    {
     "name": "stdout",
     "output_type": "stream",
     "text": [
      "3300:\tlearn: 0.8614157\ttest: 0.7963997\tbest: 0.7977967 (2219)\ttotal: 7m 11s\tremaining: 3m 42s\n"
     ]
    },
    {
     "name": "stdout",
     "output_type": "stream",
     "text": [
      "3350:\tlearn: 0.8621989\ttest: 0.7965140\tbest: 0.7977967 (2219)\ttotal: 7m 18s\tremaining: 3m 35s\n"
     ]
    },
    {
     "name": "stdout",
     "output_type": "stream",
     "text": [
      "3400:\tlearn: 0.8631461\ttest: 0.7967402\tbest: 0.7977967 (2219)\ttotal: 7m 24s\tremaining: 3m 29s\n"
     ]
    },
    {
     "name": "stdout",
     "output_type": "stream",
     "text": [
      "3450:\tlearn: 0.8644661\ttest: 0.7967909\tbest: 0.7977967 (2219)\ttotal: 7m 31s\tremaining: 3m 22s\n"
     ]
    },
    {
     "name": "stdout",
     "output_type": "stream",
     "text": [
      "3500:\tlearn: 0.8654268\ttest: 0.7965983\tbest: 0.7977967 (2219)\ttotal: 7m 37s\tremaining: 3m 15s\n"
     ]
    },
    {
     "name": "stdout",
     "output_type": "stream",
     "text": [
      "3550:\tlearn: 0.8660926\ttest: 0.7963721\tbest: 0.7977967 (2219)\ttotal: 7m 44s\tremaining: 3m 9s\n"
     ]
    },
    {
     "name": "stdout",
     "output_type": "stream",
     "text": [
      "3600:\tlearn: 0.8670180\ttest: 0.7963355\tbest: 0.7977967 (2219)\ttotal: 7m 50s\tremaining: 3m 2s\n"
     ]
    },
    {
     "name": "stdout",
     "output_type": "stream",
     "text": [
      "3650:\tlearn: 0.8679254\ttest: 0.7963954\tbest: 0.7977967 (2219)\ttotal: 7m 57s\tremaining: 2m 56s\n"
     ]
    },
    {
     "name": "stdout",
     "output_type": "stream",
     "text": [
      "3700:\tlearn: 0.8688340\ttest: 0.7964130\tbest: 0.7977967 (2219)\ttotal: 8m 3s\tremaining: 2m 49s\n"
     ]
    },
    {
     "name": "stdout",
     "output_type": "stream",
     "text": [
      "3750:\tlearn: 0.8697899\ttest: 0.7967263\tbest: 0.7977967 (2219)\ttotal: 8m 10s\tremaining: 2m 43s\n"
     ]
    },
    {
     "name": "stdout",
     "output_type": "stream",
     "text": [
      "3800:\tlearn: 0.8706124\ttest: 0.7970270\tbest: 0.7977967 (2219)\ttotal: 8m 16s\tremaining: 2m 36s\n"
     ]
    },
    {
     "name": "stdout",
     "output_type": "stream",
     "text": [
      "3850:\tlearn: 0.8715313\ttest: 0.7968604\tbest: 0.7977967 (2219)\ttotal: 8m 23s\tremaining: 2m 30s\n"
     ]
    },
    {
     "name": "stdout",
     "output_type": "stream",
     "text": [
      "3900:\tlearn: 0.8723868\ttest: 0.7969298\tbest: 0.7977967 (2219)\ttotal: 8m 30s\tremaining: 2m 23s\n"
     ]
    },
    {
     "name": "stdout",
     "output_type": "stream",
     "text": [
      "3950:\tlearn: 0.8733507\ttest: 0.7966949\tbest: 0.7977967 (2219)\ttotal: 8m 36s\tremaining: 2m 17s\n"
     ]
    },
    {
     "name": "stdout",
     "output_type": "stream",
     "text": [
      "4000:\tlearn: 0.8741237\ttest: 0.7970499\tbest: 0.7977967 (2219)\ttotal: 8m 43s\tremaining: 2m 10s\n"
     ]
    },
    {
     "name": "stdout",
     "output_type": "stream",
     "text": [
      "4050:\tlearn: 0.8750119\ttest: 0.7966968\tbest: 0.7977967 (2219)\ttotal: 8m 49s\tremaining: 2m 4s\n"
     ]
    },
    {
     "name": "stdout",
     "output_type": "stream",
     "text": [
      "4100:\tlearn: 0.8755531\ttest: 0.7971421\tbest: 0.7977967 (2219)\ttotal: 8m 56s\tremaining: 1m 57s\n"
     ]
    },
    {
     "name": "stdout",
     "output_type": "stream",
     "text": [
      "4150:\tlearn: 0.8763285\ttest: 0.7973369\tbest: 0.7977967 (2219)\ttotal: 9m 2s\tremaining: 1m 51s\n"
     ]
    },
    {
     "name": "stdout",
     "output_type": "stream",
     "text": [
      "4200:\tlearn: 0.8771783\ttest: 0.7973211\tbest: 0.7977967 (2219)\ttotal: 9m 9s\tremaining: 1m 44s\n"
     ]
    },
    {
     "name": "stdout",
     "output_type": "stream",
     "text": [
      "4250:\tlearn: 0.8779445\ttest: 0.7973725\tbest: 0.7977967 (2219)\ttotal: 9m 16s\tremaining: 1m 37s\n"
     ]
    },
    {
     "name": "stdout",
     "output_type": "stream",
     "text": [
      "4300:\tlearn: 0.8789355\ttest: 0.7974228\tbest: 0.7977967 (2219)\ttotal: 9m 22s\tremaining: 1m 31s\n"
     ]
    },
    {
     "name": "stdout",
     "output_type": "stream",
     "text": [
      "4350:\tlearn: 0.8795984\ttest: 0.7972743\tbest: 0.7977967 (2219)\ttotal: 9m 29s\tremaining: 1m 24s\n"
     ]
    },
    {
     "name": "stdout",
     "output_type": "stream",
     "text": [
      "4400:\tlearn: 0.8804033\ttest: 0.7967866\tbest: 0.7977967 (2219)\ttotal: 9m 35s\tremaining: 1m 18s\n"
     ]
    },
    {
     "name": "stdout",
     "output_type": "stream",
     "text": [
      "4450:\tlearn: 0.8811950\ttest: 0.7967518\tbest: 0.7977967 (2219)\ttotal: 9m 42s\tremaining: 1m 11s\n"
     ]
    },
    {
     "name": "stdout",
     "output_type": "stream",
     "text": [
      "4500:\tlearn: 0.8819483\ttest: 0.7969047\tbest: 0.7977967 (2219)\ttotal: 9m 48s\tremaining: 1m 5s\n"
     ]
    },
    {
     "name": "stdout",
     "output_type": "stream",
     "text": [
      "4550:\tlearn: 0.8826390\ttest: 0.7970161\tbest: 0.7977967 (2219)\ttotal: 9m 55s\tremaining: 58.8s\n"
     ]
    },
    {
     "name": "stdout",
     "output_type": "stream",
     "text": [
      "4600:\tlearn: 0.8833912\ttest: 0.7970381\tbest: 0.7977967 (2219)\ttotal: 10m 2s\tremaining: 52.2s\n"
     ]
    },
    {
     "name": "stdout",
     "output_type": "stream",
     "text": [
      "4650:\tlearn: 0.8842548\ttest: 0.7971412\tbest: 0.7977967 (2219)\ttotal: 10m 8s\tremaining: 45.7s\n"
     ]
    },
    {
     "name": "stdout",
     "output_type": "stream",
     "text": [
      "4700:\tlearn: 0.8849763\ttest: 0.7972329\tbest: 0.7977967 (2219)\ttotal: 10m 15s\tremaining: 39.1s\n"
     ]
    },
    {
     "name": "stdout",
     "output_type": "stream",
     "text": [
      "4750:\tlearn: 0.8858218\ttest: 0.7974462\tbest: 0.7977967 (2219)\ttotal: 10m 21s\tremaining: 32.6s\n"
     ]
    },
    {
     "name": "stdout",
     "output_type": "stream",
     "text": [
      "4800:\tlearn: 0.8865330\ttest: 0.7977213\tbest: 0.7977967 (2219)\ttotal: 10m 28s\tremaining: 26s\n"
     ]
    },
    {
     "name": "stdout",
     "output_type": "stream",
     "text": [
      "4850:\tlearn: 0.8875131\ttest: 0.7975307\tbest: 0.7979555 (4806)\ttotal: 10m 35s\tremaining: 19.5s\n"
     ]
    },
    {
     "name": "stdout",
     "output_type": "stream",
     "text": [
      "4900:\tlearn: 0.8883980\ttest: 0.7978307\tbest: 0.7979555 (4806)\ttotal: 10m 41s\tremaining: 13s\n"
     ]
    },
    {
     "name": "stdout",
     "output_type": "stream",
     "text": [
      "4950:\tlearn: 0.8892093\ttest: 0.7979341\tbest: 0.7980399 (4944)\ttotal: 10m 48s\tremaining: 6.42s\n"
     ]
    },
    {
     "name": "stdout",
     "output_type": "stream",
     "text": [
      "4999:\tlearn: 0.8897312\ttest: 0.7982049\tbest: 0.7982090 (4959)\ttotal: 10m 54s\tremaining: 0us\n",
      "\n",
      "bestTest = 0.7982090435\n",
      "bestIteration = 4959\n",
      "\n"
     ]
    },
    {
     "name": "stdout",
     "output_type": "stream",
     "text": [
      "######################################## training model 3/5 ########################################\n",
      "seed: 22\n"
     ]
    },
    {
     "name": "stdout",
     "output_type": "stream",
     "text": [
      "0:\tlearn: 0.5974984\ttest: 0.6002043\tbest: 0.6002043 (0)\ttotal: 440ms\tremaining: 36m 39s\n"
     ]
    },
    {
     "name": "stdout",
     "output_type": "stream",
     "text": [
      "50:\tlearn: 0.7443863\ttest: 0.7453711\tbest: 0.7453711 (50)\ttotal: 6.84s\tremaining: 11m 3s\n"
     ]
    },
    {
     "name": "stdout",
     "output_type": "stream",
     "text": [
      "100:\tlearn: 0.7569177\ttest: 0.7553778\tbest: 0.7553778 (100)\ttotal: 13.4s\tremaining: 10m 49s\n"
     ]
    },
    {
     "name": "stdout",
     "output_type": "stream",
     "text": [
      "150:\tlearn: 0.7639438\ttest: 0.7613592\tbest: 0.7613592 (150)\ttotal: 19.9s\tremaining: 10m 39s\n"
     ]
    },
    {
     "name": "stdout",
     "output_type": "stream",
     "text": [
      "200:\tlearn: 0.7681623\ttest: 0.7645928\tbest: 0.7646582 (196)\ttotal: 26.4s\tremaining: 10m 30s\n"
     ]
    },
    {
     "name": "stdout",
     "output_type": "stream",
     "text": [
      "250:\tlearn: 0.7727917\ttest: 0.7687764\tbest: 0.7690342 (247)\ttotal: 33s\tremaining: 10m 23s\n"
     ]
    },
    {
     "name": "stdout",
     "output_type": "stream",
     "text": [
      "300:\tlearn: 0.7771088\ttest: 0.7730312\tbest: 0.7730312 (300)\ttotal: 39.5s\tremaining: 10m 17s\n"
     ]
    },
    {
     "name": "stdout",
     "output_type": "stream",
     "text": [
      "350:\tlearn: 0.7838754\ttest: 0.7786152\tbest: 0.7786152 (350)\ttotal: 46.1s\tremaining: 10m 10s\n"
     ]
    },
    {
     "name": "stdout",
     "output_type": "stream",
     "text": [
      "400:\tlearn: 0.7883757\ttest: 0.7822233\tbest: 0.7828219 (399)\ttotal: 52.6s\tremaining: 10m 2s\n"
     ]
    },
    {
     "name": "stdout",
     "output_type": "stream",
     "text": [
      "450:\tlearn: 0.7921323\ttest: 0.7852745\tbest: 0.7856131 (434)\ttotal: 59.2s\tremaining: 9m 57s\n"
     ]
    },
    {
     "name": "stdout",
     "output_type": "stream",
     "text": [
      "500:\tlearn: 0.7950286\ttest: 0.7868472\tbest: 0.7868472 (500)\ttotal: 1m 5s\tremaining: 9m 51s\n"
     ]
    },
    {
     "name": "stdout",
     "output_type": "stream",
     "text": [
      "550:\tlearn: 0.7976714\ttest: 0.7878200\tbest: 0.7879814 (545)\ttotal: 1m 12s\tremaining: 9m 44s\n"
     ]
    },
    {
     "name": "stdout",
     "output_type": "stream",
     "text": [
      "600:\tlearn: 0.7998098\ttest: 0.7886386\tbest: 0.7886386 (600)\ttotal: 1m 18s\tremaining: 9m 38s\n"
     ]
    },
    {
     "name": "stdout",
     "output_type": "stream",
     "text": [
      "650:\tlearn: 0.8014837\ttest: 0.7900392\tbest: 0.7902349 (646)\ttotal: 1m 25s\tremaining: 9m 31s\n"
     ]
    },
    {
     "name": "stdout",
     "output_type": "stream",
     "text": [
      "700:\tlearn: 0.8033565\ttest: 0.7905890\tbest: 0.7910213 (678)\ttotal: 1m 32s\tremaining: 9m 24s\n"
     ]
    },
    {
     "name": "stdout",
     "output_type": "stream",
     "text": [
      "750:\tlearn: 0.8051348\ttest: 0.7915092\tbest: 0.7915456 (746)\ttotal: 1m 38s\tremaining: 9m 18s\n"
     ]
    },
    {
     "name": "stdout",
     "output_type": "stream",
     "text": [
      "800:\tlearn: 0.8070194\ttest: 0.7920192\tbest: 0.7921818 (796)\ttotal: 1m 45s\tremaining: 9m 11s\n"
     ]
    },
    {
     "name": "stdout",
     "output_type": "stream",
     "text": [
      "850:\tlearn: 0.8090735\ttest: 0.7915543\tbest: 0.7921900 (829)\ttotal: 1m 51s\tremaining: 9m 4s\n"
     ]
    },
    {
     "name": "stdout",
     "output_type": "stream",
     "text": [
      "900:\tlearn: 0.8103800\ttest: 0.7921145\tbest: 0.7921900 (829)\ttotal: 1m 58s\tremaining: 8m 58s\n"
     ]
    },
    {
     "name": "stdout",
     "output_type": "stream",
     "text": [
      "950:\tlearn: 0.8122351\ttest: 0.7920819\tbest: 0.7924600 (914)\ttotal: 2m 4s\tremaining: 8m 51s\n"
     ]
    },
    {
     "name": "stdout",
     "output_type": "stream",
     "text": [
      "1000:\tlearn: 0.8136584\ttest: 0.7920726\tbest: 0.7924600 (914)\ttotal: 2m 11s\tremaining: 8m 45s\n"
     ]
    },
    {
     "name": "stdout",
     "output_type": "stream",
     "text": [
      "1050:\tlearn: 0.8151026\ttest: 0.7917614\tbest: 0.7924600 (914)\ttotal: 2m 18s\tremaining: 8m 38s\n"
     ]
    },
    {
     "name": "stdout",
     "output_type": "stream",
     "text": [
      "1100:\tlearn: 0.8167076\ttest: 0.7923792\tbest: 0.7924600 (914)\ttotal: 2m 24s\tremaining: 8m 31s\n"
     ]
    },
    {
     "name": "stdout",
     "output_type": "stream",
     "text": [
      "1150:\tlearn: 0.8178902\ttest: 0.7921671\tbest: 0.7925103 (1109)\ttotal: 2m 31s\tremaining: 8m 25s\n"
     ]
    },
    {
     "name": "stdout",
     "output_type": "stream",
     "text": [
      "1200:\tlearn: 0.8193136\ttest: 0.7927642\tbest: 0.7928049 (1198)\ttotal: 2m 37s\tremaining: 8m 18s\n"
     ]
    },
    {
     "name": "stdout",
     "output_type": "stream",
     "text": [
      "1250:\tlearn: 0.8206326\ttest: 0.7927609\tbest: 0.7928511 (1201)\ttotal: 2m 44s\tremaining: 8m 12s\n"
     ]
    },
    {
     "name": "stdout",
     "output_type": "stream",
     "text": [
      "1300:\tlearn: 0.8219531\ttest: 0.7925717\tbest: 0.7928859 (1282)\ttotal: 2m 50s\tremaining: 8m 5s\n"
     ]
    },
    {
     "name": "stdout",
     "output_type": "stream",
     "text": [
      "1350:\tlearn: 0.8229482\ttest: 0.7917999\tbest: 0.7929374 (1311)\ttotal: 2m 57s\tremaining: 7m 59s\n"
     ]
    },
    {
     "name": "stdout",
     "output_type": "stream",
     "text": [
      "1400:\tlearn: 0.8241539\ttest: 0.7924019\tbest: 0.7929374 (1311)\ttotal: 3m 3s\tremaining: 7m 52s\n"
     ]
    },
    {
     "name": "stdout",
     "output_type": "stream",
     "text": [
      "1450:\tlearn: 0.8249754\ttest: 0.7924192\tbest: 0.7929374 (1311)\ttotal: 3m 10s\tremaining: 7m 45s\n"
     ]
    },
    {
     "name": "stdout",
     "output_type": "stream",
     "text": [
      "1500:\tlearn: 0.8266852\ttest: 0.7929841\tbest: 0.7930475 (1498)\ttotal: 3m 17s\tremaining: 7m 39s\n"
     ]
    },
    {
     "name": "stdout",
     "output_type": "stream",
     "text": [
      "1550:\tlearn: 0.8280602\ttest: 0.7933685\tbest: 0.7935092 (1538)\ttotal: 3m 23s\tremaining: 7m 32s\n"
     ]
    },
    {
     "name": "stdout",
     "output_type": "stream",
     "text": [
      "1600:\tlearn: 0.8292129\ttest: 0.7932697\tbest: 0.7936002 (1584)\ttotal: 3m 30s\tremaining: 7m 26s\n"
     ]
    },
    {
     "name": "stdout",
     "output_type": "stream",
     "text": [
      "1650:\tlearn: 0.8305398\ttest: 0.7928024\tbest: 0.7936002 (1584)\ttotal: 3m 36s\tremaining: 7m 19s\n"
     ]
    },
    {
     "name": "stdout",
     "output_type": "stream",
     "text": [
      "1700:\tlearn: 0.8316149\ttest: 0.7932927\tbest: 0.7936002 (1584)\ttotal: 3m 43s\tremaining: 7m 13s\n"
     ]
    },
    {
     "name": "stdout",
     "output_type": "stream",
     "text": [
      "1750:\tlearn: 0.8329813\ttest: 0.7929170\tbest: 0.7939002 (1713)\ttotal: 3m 49s\tremaining: 7m 6s\n"
     ]
    },
    {
     "name": "stdout",
     "output_type": "stream",
     "text": [
      "1800:\tlearn: 0.8341678\ttest: 0.7931279\tbest: 0.7939002 (1713)\ttotal: 3m 56s\tremaining: 7m\n"
     ]
    },
    {
     "name": "stdout",
     "output_type": "stream",
     "text": [
      "1850:\tlearn: 0.8354279\ttest: 0.7926824\tbest: 0.7939002 (1713)\ttotal: 4m 3s\tremaining: 6m 53s\n"
     ]
    },
    {
     "name": "stdout",
     "output_type": "stream",
     "text": [
      "1900:\tlearn: 0.8362760\ttest: 0.7927829\tbest: 0.7939002 (1713)\ttotal: 4m 9s\tremaining: 6m 47s\n"
     ]
    },
    {
     "name": "stdout",
     "output_type": "stream",
     "text": [
      "1950:\tlearn: 0.8371815\ttest: 0.7934126\tbest: 0.7939002 (1713)\ttotal: 4m 16s\tremaining: 6m 40s\n"
     ]
    },
    {
     "name": "stdout",
     "output_type": "stream",
     "text": [
      "2000:\tlearn: 0.8385436\ttest: 0.7936908\tbest: 0.7939002 (1713)\ttotal: 4m 22s\tremaining: 6m 33s\n"
     ]
    },
    {
     "name": "stdout",
     "output_type": "stream",
     "text": [
      "2050:\tlearn: 0.8395970\ttest: 0.7936393\tbest: 0.7939533 (2040)\ttotal: 4m 29s\tremaining: 6m 27s\n"
     ]
    },
    {
     "name": "stdout",
     "output_type": "stream",
     "text": [
      "2100:\tlearn: 0.8407090\ttest: 0.7942248\tbest: 0.7942435 (2099)\ttotal: 4m 36s\tremaining: 6m 20s\n"
     ]
    },
    {
     "name": "stdout",
     "output_type": "stream",
     "text": [
      "2150:\tlearn: 0.8418432\ttest: 0.7946196\tbest: 0.7946777 (2144)\ttotal: 4m 42s\tremaining: 6m 14s\n"
     ]
    },
    {
     "name": "stdout",
     "output_type": "stream",
     "text": [
      "2200:\tlearn: 0.8426917\ttest: 0.7945542\tbest: 0.7948468 (2194)\ttotal: 4m 49s\tremaining: 6m 7s\n"
     ]
    },
    {
     "name": "stdout",
     "output_type": "stream",
     "text": [
      "2250:\tlearn: 0.8439992\ttest: 0.7945168\tbest: 0.7948468 (2194)\ttotal: 4m 55s\tremaining: 6m 1s\n"
     ]
    },
    {
     "name": "stdout",
     "output_type": "stream",
     "text": [
      "2300:\tlearn: 0.8452474\ttest: 0.7948373\tbest: 0.7949854 (2299)\ttotal: 5m 2s\tremaining: 5m 54s\n"
     ]
    },
    {
     "name": "stdout",
     "output_type": "stream",
     "text": [
      "2350:\tlearn: 0.8462838\ttest: 0.7944438\tbest: 0.7949854 (2299)\ttotal: 5m 8s\tremaining: 5m 48s\n"
     ]
    },
    {
     "name": "stdout",
     "output_type": "stream",
     "text": [
      "2400:\tlearn: 0.8475380\ttest: 0.7947549\tbest: 0.7949854 (2299)\ttotal: 5m 15s\tremaining: 5m 41s\n"
     ]
    },
    {
     "name": "stdout",
     "output_type": "stream",
     "text": [
      "2450:\tlearn: 0.8487276\ttest: 0.7948793\tbest: 0.7952730 (2439)\ttotal: 5m 22s\tremaining: 5m 34s\n"
     ]
    },
    {
     "name": "stdout",
     "output_type": "stream",
     "text": [
      "2500:\tlearn: 0.8496619\ttest: 0.7946747\tbest: 0.7952730 (2439)\ttotal: 5m 28s\tremaining: 5m 28s\n"
     ]
    },
    {
     "name": "stdout",
     "output_type": "stream",
     "text": [
      "2550:\tlearn: 0.8504776\ttest: 0.7943083\tbest: 0.7952730 (2439)\ttotal: 5m 35s\tremaining: 5m 21s\n"
     ]
    },
    {
     "name": "stdout",
     "output_type": "stream",
     "text": [
      "2600:\tlearn: 0.8515604\ttest: 0.7939716\tbest: 0.7952730 (2439)\ttotal: 5m 41s\tremaining: 5m 15s\n"
     ]
    },
    {
     "name": "stdout",
     "output_type": "stream",
     "text": [
      "2650:\tlearn: 0.8527808\ttest: 0.7945315\tbest: 0.7952730 (2439)\ttotal: 5m 48s\tremaining: 5m 8s\n"
     ]
    },
    {
     "name": "stdout",
     "output_type": "stream",
     "text": [
      "2700:\tlearn: 0.8538854\ttest: 0.7945690\tbest: 0.7952730 (2439)\ttotal: 5m 54s\tremaining: 5m 2s\n"
     ]
    },
    {
     "name": "stdout",
     "output_type": "stream",
     "text": [
      "2750:\tlearn: 0.8547088\ttest: 0.7942463\tbest: 0.7952730 (2439)\ttotal: 6m 1s\tremaining: 4m 55s\n"
     ]
    },
    {
     "name": "stdout",
     "output_type": "stream",
     "text": [
      "2800:\tlearn: 0.8556231\ttest: 0.7940839\tbest: 0.7952730 (2439)\ttotal: 6m 7s\tremaining: 4m 48s\n"
     ]
    },
    {
     "name": "stdout",
     "output_type": "stream",
     "text": [
      "2850:\tlearn: 0.8565461\ttest: 0.7941460\tbest: 0.7952730 (2439)\ttotal: 6m 14s\tremaining: 4m 42s\n"
     ]
    },
    {
     "name": "stdout",
     "output_type": "stream",
     "text": [
      "2900:\tlearn: 0.8575761\ttest: 0.7940551\tbest: 0.7952730 (2439)\ttotal: 6m 21s\tremaining: 4m 35s\n"
     ]
    },
    {
     "name": "stdout",
     "output_type": "stream",
     "text": [
      "2950:\tlearn: 0.8586415\ttest: 0.7939401\tbest: 0.7952730 (2439)\ttotal: 6m 27s\tremaining: 4m 29s\n"
     ]
    },
    {
     "name": "stdout",
     "output_type": "stream",
     "text": [
      "3000:\tlearn: 0.8596581\ttest: 0.7939914\tbest: 0.7952730 (2439)\ttotal: 6m 34s\tremaining: 4m 22s\n"
     ]
    },
    {
     "name": "stdout",
     "output_type": "stream",
     "text": [
      "3050:\tlearn: 0.8605851\ttest: 0.7935481\tbest: 0.7952730 (2439)\ttotal: 6m 40s\tremaining: 4m 15s\n"
     ]
    },
    {
     "name": "stdout",
     "output_type": "stream",
     "text": [
      "3100:\tlearn: 0.8614848\ttest: 0.7937397\tbest: 0.7952730 (2439)\ttotal: 6m 47s\tremaining: 4m 9s\n"
     ]
    },
    {
     "name": "stdout",
     "output_type": "stream",
     "text": [
      "3150:\tlearn: 0.8625549\ttest: 0.7936304\tbest: 0.7952730 (2439)\ttotal: 6m 53s\tremaining: 4m 2s\n"
     ]
    },
    {
     "name": "stdout",
     "output_type": "stream",
     "text": [
      "3200:\tlearn: 0.8634769\ttest: 0.7942558\tbest: 0.7952730 (2439)\ttotal: 7m\tremaining: 3m 56s\n"
     ]
    },
    {
     "name": "stdout",
     "output_type": "stream",
     "text": [
      "3250:\tlearn: 0.8645432\ttest: 0.7943644\tbest: 0.7952730 (2439)\ttotal: 7m 6s\tremaining: 3m 49s\n"
     ]
    },
    {
     "name": "stdout",
     "output_type": "stream",
     "text": [
      "3300:\tlearn: 0.8654224\ttest: 0.7946196\tbest: 0.7952730 (2439)\ttotal: 7m 13s\tremaining: 3m 43s\n"
     ]
    },
    {
     "name": "stdout",
     "output_type": "stream",
     "text": [
      "3350:\tlearn: 0.8660898\ttest: 0.7948685\tbest: 0.7952730 (2439)\ttotal: 7m 19s\tremaining: 3m 36s\n"
     ]
    },
    {
     "name": "stdout",
     "output_type": "stream",
     "text": [
      "3400:\tlearn: 0.8669946\ttest: 0.7945382\tbest: 0.7952730 (2439)\ttotal: 7m 26s\tremaining: 3m 29s\n"
     ]
    },
    {
     "name": "stdout",
     "output_type": "stream",
     "text": [
      "3450:\tlearn: 0.8680030\ttest: 0.7947307\tbest: 0.7952730 (2439)\ttotal: 7m 32s\tremaining: 3m 23s\n"
     ]
    },
    {
     "name": "stdout",
     "output_type": "stream",
     "text": [
      "3500:\tlearn: 0.8689693\ttest: 0.7945078\tbest: 0.7952730 (2439)\ttotal: 7m 39s\tremaining: 3m 16s\n"
     ]
    },
    {
     "name": "stdout",
     "output_type": "stream",
     "text": [
      "3550:\tlearn: 0.8700027\ttest: 0.7944544\tbest: 0.7952730 (2439)\ttotal: 7m 45s\tremaining: 3m 10s\n"
     ]
    },
    {
     "name": "stdout",
     "output_type": "stream",
     "text": [
      "3600:\tlearn: 0.8709378\ttest: 0.7941184\tbest: 0.7952730 (2439)\ttotal: 7m 52s\tremaining: 3m 3s\n"
     ]
    },
    {
     "name": "stdout",
     "output_type": "stream",
     "text": [
      "3650:\tlearn: 0.8718872\ttest: 0.7945499\tbest: 0.7952730 (2439)\ttotal: 7m 58s\tremaining: 2m 56s\n"
     ]
    },
    {
     "name": "stdout",
     "output_type": "stream",
     "text": [
      "3700:\tlearn: 0.8728852\ttest: 0.7941120\tbest: 0.7952730 (2439)\ttotal: 8m 5s\tremaining: 2m 50s\n"
     ]
    },
    {
     "name": "stdout",
     "output_type": "stream",
     "text": [
      "3750:\tlearn: 0.8737985\ttest: 0.7945540\tbest: 0.7952730 (2439)\ttotal: 8m 11s\tremaining: 2m 43s\n"
     ]
    },
    {
     "name": "stdout",
     "output_type": "stream",
     "text": [
      "3800:\tlearn: 0.8746482\ttest: 0.7948114\tbest: 0.7952730 (2439)\ttotal: 8m 18s\tremaining: 2m 37s\n"
     ]
    },
    {
     "name": "stdout",
     "output_type": "stream",
     "text": [
      "3850:\tlearn: 0.8753046\ttest: 0.7945656\tbest: 0.7952730 (2439)\ttotal: 8m 24s\tremaining: 2m 30s\n"
     ]
    },
    {
     "name": "stdout",
     "output_type": "stream",
     "text": [
      "3900:\tlearn: 0.8762482\ttest: 0.7943966\tbest: 0.7952730 (2439)\ttotal: 8m 31s\tremaining: 2m 24s\n"
     ]
    },
    {
     "name": "stdout",
     "output_type": "stream",
     "text": [
      "3950:\tlearn: 0.8771863\ttest: 0.7940390\tbest: 0.7952730 (2439)\ttotal: 8m 37s\tremaining: 2m 17s\n"
     ]
    },
    {
     "name": "stdout",
     "output_type": "stream",
     "text": [
      "4000:\tlearn: 0.8779357\ttest: 0.7945877\tbest: 0.7952730 (2439)\ttotal: 8m 44s\tremaining: 2m 10s\n"
     ]
    },
    {
     "name": "stdout",
     "output_type": "stream",
     "text": [
      "4050:\tlearn: 0.8789000\ttest: 0.7949038\tbest: 0.7952730 (2439)\ttotal: 8m 50s\tremaining: 2m 4s\n"
     ]
    },
    {
     "name": "stdout",
     "output_type": "stream",
     "text": [
      "4100:\tlearn: 0.8796381\ttest: 0.7951524\tbest: 0.7952730 (2439)\ttotal: 8m 57s\tremaining: 1m 57s\n"
     ]
    },
    {
     "name": "stdout",
     "output_type": "stream",
     "text": [
      "4150:\tlearn: 0.8804378\ttest: 0.7945219\tbest: 0.7952730 (2439)\ttotal: 9m 3s\tremaining: 1m 51s\n"
     ]
    },
    {
     "name": "stdout",
     "output_type": "stream",
     "text": [
      "4200:\tlearn: 0.8814080\ttest: 0.7944552\tbest: 0.7952730 (2439)\ttotal: 9m 10s\tremaining: 1m 44s\n"
     ]
    },
    {
     "name": "stdout",
     "output_type": "stream",
     "text": [
      "4250:\tlearn: 0.8822316\ttest: 0.7945601\tbest: 0.7952730 (2439)\ttotal: 9m 16s\tremaining: 1m 38s\n"
     ]
    },
    {
     "name": "stdout",
     "output_type": "stream",
     "text": [
      "4300:\tlearn: 0.8832201\ttest: 0.7942739\tbest: 0.7952730 (2439)\ttotal: 9m 23s\tremaining: 1m 31s\n"
     ]
    },
    {
     "name": "stdout",
     "output_type": "stream",
     "text": [
      "4350:\tlearn: 0.8838939\ttest: 0.7942338\tbest: 0.7952730 (2439)\ttotal: 9m 29s\tremaining: 1m 25s\n"
     ]
    },
    {
     "name": "stdout",
     "output_type": "stream",
     "text": [
      "4400:\tlearn: 0.8846616\ttest: 0.7942935\tbest: 0.7952730 (2439)\ttotal: 9m 36s\tremaining: 1m 18s\n"
     ]
    },
    {
     "name": "stdout",
     "output_type": "stream",
     "text": [
      "4450:\tlearn: 0.8853227\ttest: 0.7943792\tbest: 0.7952730 (2439)\ttotal: 9m 43s\tremaining: 1m 11s\n"
     ]
    },
    {
     "name": "stdout",
     "output_type": "stream",
     "text": [
      "4500:\tlearn: 0.8862661\ttest: 0.7944479\tbest: 0.7952730 (2439)\ttotal: 9m 49s\tremaining: 1m 5s\n"
     ]
    },
    {
     "name": "stdout",
     "output_type": "stream",
     "text": [
      "4550:\tlearn: 0.8870076\ttest: 0.7941106\tbest: 0.7952730 (2439)\ttotal: 9m 56s\tremaining: 58.8s\n"
     ]
    },
    {
     "name": "stdout",
     "output_type": "stream",
     "text": [
      "4600:\tlearn: 0.8878174\ttest: 0.7946710\tbest: 0.7952730 (2439)\ttotal: 10m 2s\tremaining: 52.3s\n"
     ]
    },
    {
     "name": "stdout",
     "output_type": "stream",
     "text": [
      "4650:\tlearn: 0.8886861\ttest: 0.7946763\tbest: 0.7952730 (2439)\ttotal: 10m 9s\tremaining: 45.7s\n"
     ]
    },
    {
     "name": "stdout",
     "output_type": "stream",
     "text": [
      "4700:\tlearn: 0.8895650\ttest: 0.7948339\tbest: 0.7952730 (2439)\ttotal: 10m 15s\tremaining: 39.2s\n"
     ]
    },
    {
     "name": "stdout",
     "output_type": "stream",
     "text": [
      "4750:\tlearn: 0.8903027\ttest: 0.7942315\tbest: 0.7952730 (2439)\ttotal: 10m 22s\tremaining: 32.6s\n"
     ]
    },
    {
     "name": "stdout",
     "output_type": "stream",
     "text": [
      "4800:\tlearn: 0.8911347\ttest: 0.7943931\tbest: 0.7952730 (2439)\ttotal: 10m 28s\tremaining: 26.1s\n"
     ]
    },
    {
     "name": "stdout",
     "output_type": "stream",
     "text": [
      "4850:\tlearn: 0.8920189\ttest: 0.7946618\tbest: 0.7952730 (2439)\ttotal: 10m 35s\tremaining: 19.5s\n"
     ]
    },
    {
     "name": "stdout",
     "output_type": "stream",
     "text": [
      "4900:\tlearn: 0.8924034\ttest: 0.7945790\tbest: 0.7952730 (2439)\ttotal: 10m 41s\tremaining: 13s\n"
     ]
    },
    {
     "name": "stdout",
     "output_type": "stream",
     "text": [
      "4950:\tlearn: 0.8933767\ttest: 0.7946651\tbest: 0.7952730 (2439)\ttotal: 10m 48s\tremaining: 6.42s\n"
     ]
    },
    {
     "name": "stdout",
     "output_type": "stream",
     "text": [
      "4999:\tlearn: 0.8940969\ttest: 0.7942427\tbest: 0.7952730 (2439)\ttotal: 10m 54s\tremaining: 0us\n",
      "\n",
      "bestTest = 0.7952729945\n",
      "bestIteration = 2439\n",
      "\n"
     ]
    },
    {
     "name": "stdout",
     "output_type": "stream",
     "text": [
      "######################################## training model 4/5 ########################################\n",
      "seed: 23\n"
     ]
    },
    {
     "name": "stdout",
     "output_type": "stream",
     "text": [
      "0:\tlearn: 0.5039257\ttest: 0.5073291\tbest: 0.5073291 (0)\ttotal: 446ms\tremaining: 37m 9s\n"
     ]
    },
    {
     "name": "stdout",
     "output_type": "stream",
     "text": [
      "50:\tlearn: 0.7402013\ttest: 0.7403889\tbest: 0.7403889 (50)\ttotal: 6.87s\tremaining: 11m 6s\n"
     ]
    },
    {
     "name": "stdout",
     "output_type": "stream",
     "text": [
      "100:\tlearn: 0.7561913\ttest: 0.7559065\tbest: 0.7562881 (99)\ttotal: 13.3s\tremaining: 10m 46s\n"
     ]
    },
    {
     "name": "stdout",
     "output_type": "stream",
     "text": [
      "150:\tlearn: 0.7626548\ttest: 0.7624810\tbest: 0.7626745 (149)\ttotal: 19.8s\tremaining: 10m 35s\n"
     ]
    },
    {
     "name": "stdout",
     "output_type": "stream",
     "text": [
      "200:\tlearn: 0.7677533\ttest: 0.7665817\tbest: 0.7666907 (199)\ttotal: 26.3s\tremaining: 10m 26s\n"
     ]
    },
    {
     "name": "stdout",
     "output_type": "stream",
     "text": [
      "250:\tlearn: 0.7715871\ttest: 0.7694342\tbest: 0.7694434 (242)\ttotal: 32.8s\tremaining: 10m 20s\n"
     ]
    },
    {
     "name": "stdout",
     "output_type": "stream",
     "text": [
      "300:\tlearn: 0.7764421\ttest: 0.7751344\tbest: 0.7751344 (300)\ttotal: 39.3s\tremaining: 10m 13s\n"
     ]
    },
    {
     "name": "stdout",
     "output_type": "stream",
     "text": [
      "350:\tlearn: 0.7831589\ttest: 0.7799633\tbest: 0.7799633 (350)\ttotal: 45.8s\tremaining: 10m 6s\n"
     ]
    },
    {
     "name": "stdout",
     "output_type": "stream",
     "text": [
      "400:\tlearn: 0.7880830\ttest: 0.7832283\tbest: 0.7837493 (395)\ttotal: 52.3s\tremaining: 9m 59s\n"
     ]
    },
    {
     "name": "stdout",
     "output_type": "stream",
     "text": [
      "450:\tlearn: 0.7919009\ttest: 0.7858365\tbest: 0.7858365 (450)\ttotal: 58.8s\tremaining: 9m 53s\n"
     ]
    },
    {
     "name": "stdout",
     "output_type": "stream",
     "text": [
      "500:\tlearn: 0.7945018\ttest: 0.7870559\tbest: 0.7873497 (497)\ttotal: 1m 5s\tremaining: 9m 46s\n"
     ]
    },
    {
     "name": "stdout",
     "output_type": "stream",
     "text": [
      "550:\tlearn: 0.7965982\ttest: 0.7886276\tbest: 0.7887476 (545)\ttotal: 1m 11s\tremaining: 9m 39s\n"
     ]
    },
    {
     "name": "stdout",
     "output_type": "stream",
     "text": [
      "600:\tlearn: 0.7988890\ttest: 0.7898167\tbest: 0.7898265 (598)\ttotal: 1m 18s\tremaining: 9m 33s\n"
     ]
    },
    {
     "name": "stdout",
     "output_type": "stream",
     "text": [
      "650:\tlearn: 0.8009967\ttest: 0.7898597\tbest: 0.7900154 (608)\ttotal: 1m 24s\tremaining: 9m 26s\n"
     ]
    },
    {
     "name": "stdout",
     "output_type": "stream",
     "text": [
      "700:\tlearn: 0.8030844\ttest: 0.7909142\tbest: 0.7909142 (700)\ttotal: 1m 31s\tremaining: 9m 20s\n"
     ]
    },
    {
     "name": "stdout",
     "output_type": "stream",
     "text": [
      "750:\tlearn: 0.8049926\ttest: 0.7910072\tbest: 0.7916328 (726)\ttotal: 1m 37s\tremaining: 9m 13s\n"
     ]
    },
    {
     "name": "stdout",
     "output_type": "stream",
     "text": [
      "800:\tlearn: 0.8064275\ttest: 0.7912045\tbest: 0.7916328 (726)\ttotal: 1m 44s\tremaining: 9m 7s\n"
     ]
    },
    {
     "name": "stdout",
     "output_type": "stream",
     "text": [
      "850:\tlearn: 0.8079591\ttest: 0.7920986\tbest: 0.7922168 (847)\ttotal: 1m 50s\tremaining: 9m\n"
     ]
    },
    {
     "name": "stdout",
     "output_type": "stream",
     "text": [
      "900:\tlearn: 0.8093654\ttest: 0.7930636\tbest: 0.7933316 (897)\ttotal: 1m 57s\tremaining: 8m 54s\n"
     ]
    },
    {
     "name": "stdout",
     "output_type": "stream",
     "text": [
      "950:\tlearn: 0.8109120\ttest: 0.7931508\tbest: 0.7933316 (897)\ttotal: 2m 4s\tremaining: 8m 48s\n"
     ]
    },
    {
     "name": "stdout",
     "output_type": "stream",
     "text": [
      "1000:\tlearn: 0.8123339\ttest: 0.7929316\tbest: 0.7933316 (897)\ttotal: 2m 10s\tremaining: 8m 41s\n"
     ]
    },
    {
     "name": "stdout",
     "output_type": "stream",
     "text": [
      "1050:\tlearn: 0.8136535\ttest: 0.7926148\tbest: 0.7933316 (897)\ttotal: 2m 17s\tremaining: 8m 35s\n"
     ]
    },
    {
     "name": "stdout",
     "output_type": "stream",
     "text": [
      "1100:\tlearn: 0.8150236\ttest: 0.7932721\tbest: 0.7933751 (1098)\ttotal: 2m 23s\tremaining: 8m 28s\n"
     ]
    },
    {
     "name": "stdout",
     "output_type": "stream",
     "text": [
      "1150:\tlearn: 0.8167836\ttest: 0.7934921\tbest: 0.7935852 (1136)\ttotal: 2m 30s\tremaining: 8m 22s\n"
     ]
    },
    {
     "name": "stdout",
     "output_type": "stream",
     "text": [
      "1200:\tlearn: 0.8185368\ttest: 0.7937125\tbest: 0.7937125 (1200)\ttotal: 2m 36s\tremaining: 8m 15s\n"
     ]
    },
    {
     "name": "stdout",
     "output_type": "stream",
     "text": [
      "1250:\tlearn: 0.8195483\ttest: 0.7938470\tbest: 0.7940639 (1218)\ttotal: 2m 43s\tremaining: 8m 9s\n"
     ]
    },
    {
     "name": "stdout",
     "output_type": "stream",
     "text": [
      "1300:\tlearn: 0.8205193\ttest: 0.7934345\tbest: 0.7940639 (1218)\ttotal: 2m 49s\tremaining: 8m 2s\n"
     ]
    },
    {
     "name": "stdout",
     "output_type": "stream",
     "text": [
      "1350:\tlearn: 0.8217800\ttest: 0.7940671\tbest: 0.7942451 (1340)\ttotal: 2m 56s\tremaining: 7m 56s\n"
     ]
    },
    {
     "name": "stdout",
     "output_type": "stream",
     "text": [
      "1400:\tlearn: 0.8229294\ttest: 0.7943981\tbest: 0.7945315 (1378)\ttotal: 3m 2s\tremaining: 7m 49s\n"
     ]
    },
    {
     "name": "stdout",
     "output_type": "stream",
     "text": [
      "1450:\tlearn: 0.8238838\ttest: 0.7947007\tbest: 0.7947007 (1450)\ttotal: 3m 9s\tremaining: 7m 43s\n"
     ]
    },
    {
     "name": "stdout",
     "output_type": "stream",
     "text": [
      "1500:\tlearn: 0.8252825\ttest: 0.7942358\tbest: 0.7950039 (1465)\ttotal: 3m 15s\tremaining: 7m 36s\n"
     ]
    },
    {
     "name": "stdout",
     "output_type": "stream",
     "text": [
      "1550:\tlearn: 0.8267004\ttest: 0.7946254\tbest: 0.7950039 (1465)\ttotal: 3m 22s\tremaining: 7m 29s\n"
     ]
    },
    {
     "name": "stdout",
     "output_type": "stream",
     "text": [
      "1600:\tlearn: 0.8279382\ttest: 0.7946294\tbest: 0.7950039 (1465)\ttotal: 3m 28s\tremaining: 7m 23s\n"
     ]
    },
    {
     "name": "stdout",
     "output_type": "stream",
     "text": [
      "1650:\tlearn: 0.8290354\ttest: 0.7946942\tbest: 0.7950039 (1465)\ttotal: 3m 35s\tremaining: 7m 16s\n"
     ]
    },
    {
     "name": "stdout",
     "output_type": "stream",
     "text": [
      "1700:\tlearn: 0.8301549\ttest: 0.7942920\tbest: 0.7950039 (1465)\ttotal: 3m 41s\tremaining: 7m 10s\n"
     ]
    },
    {
     "name": "stdout",
     "output_type": "stream",
     "text": [
      "1750:\tlearn: 0.8312325\ttest: 0.7947245\tbest: 0.7950039 (1465)\ttotal: 3m 48s\tremaining: 7m 3s\n"
     ]
    },
    {
     "name": "stdout",
     "output_type": "stream",
     "text": [
      "1800:\tlearn: 0.8323645\ttest: 0.7950376\tbest: 0.7952367 (1785)\ttotal: 3m 54s\tremaining: 6m 57s\n"
     ]
    },
    {
     "name": "stdout",
     "output_type": "stream",
     "text": [
      "1850:\tlearn: 0.8332980\ttest: 0.7944579\tbest: 0.7952367 (1785)\ttotal: 4m 1s\tremaining: 6m 50s\n"
     ]
    },
    {
     "name": "stdout",
     "output_type": "stream",
     "text": [
      "1900:\tlearn: 0.8343750\ttest: 0.7943810\tbest: 0.7952367 (1785)\ttotal: 4m 8s\tremaining: 6m 44s\n"
     ]
    },
    {
     "name": "stdout",
     "output_type": "stream",
     "text": [
      "1950:\tlearn: 0.8355139\ttest: 0.7951226\tbest: 0.7952519 (1946)\ttotal: 4m 14s\tremaining: 6m 37s\n"
     ]
    },
    {
     "name": "stdout",
     "output_type": "stream",
     "text": [
      "2000:\tlearn: 0.8367414\ttest: 0.7946527\tbest: 0.7952519 (1946)\ttotal: 4m 21s\tremaining: 6m 31s\n"
     ]
    },
    {
     "name": "stdout",
     "output_type": "stream",
     "text": [
      "2050:\tlearn: 0.8377477\ttest: 0.7951123\tbest: 0.7952519 (1946)\ttotal: 4m 27s\tremaining: 6m 24s\n"
     ]
    },
    {
     "name": "stdout",
     "output_type": "stream",
     "text": [
      "2100:\tlearn: 0.8386570\ttest: 0.7952709\tbest: 0.7952905 (2094)\ttotal: 4m 34s\tremaining: 6m 18s\n"
     ]
    },
    {
     "name": "stdout",
     "output_type": "stream",
     "text": [
      "2150:\tlearn: 0.8396459\ttest: 0.7950334\tbest: 0.7954435 (2111)\ttotal: 4m 40s\tremaining: 6m 11s\n"
     ]
    },
    {
     "name": "stdout",
     "output_type": "stream",
     "text": [
      "2200:\tlearn: 0.8406589\ttest: 0.7954038\tbest: 0.7956301 (2184)\ttotal: 4m 47s\tremaining: 6m 5s\n"
     ]
    },
    {
     "name": "stdout",
     "output_type": "stream",
     "text": [
      "2250:\tlearn: 0.8415768\ttest: 0.7954921\tbest: 0.7957463 (2246)\ttotal: 4m 53s\tremaining: 5m 58s\n"
     ]
    },
    {
     "name": "stdout",
     "output_type": "stream",
     "text": [
      "2300:\tlearn: 0.8425616\ttest: 0.7957727\tbest: 0.7958574 (2297)\ttotal: 5m\tremaining: 5m 52s\n"
     ]
    },
    {
     "name": "stdout",
     "output_type": "stream",
     "text": [
      "2350:\tlearn: 0.8435974\ttest: 0.7955349\tbest: 0.7959950 (2333)\ttotal: 5m 7s\tremaining: 5m 45s\n"
     ]
    },
    {
     "name": "stdout",
     "output_type": "stream",
     "text": [
      "2400:\tlearn: 0.8445228\ttest: 0.7955740\tbest: 0.7959950 (2333)\ttotal: 5m 13s\tremaining: 5m 39s\n"
     ]
    },
    {
     "name": "stdout",
     "output_type": "stream",
     "text": [
      "2450:\tlearn: 0.8454646\ttest: 0.7949951\tbest: 0.7959950 (2333)\ttotal: 5m 20s\tremaining: 5m 32s\n"
     ]
    },
    {
     "name": "stdout",
     "output_type": "stream",
     "text": [
      "2500:\tlearn: 0.8464609\ttest: 0.7954197\tbest: 0.7959950 (2333)\ttotal: 5m 26s\tremaining: 5m 26s\n"
     ]
    },
    {
     "name": "stdout",
     "output_type": "stream",
     "text": [
      "2550:\tlearn: 0.8474343\ttest: 0.7956561\tbest: 0.7959950 (2333)\ttotal: 5m 33s\tremaining: 5m 19s\n"
     ]
    },
    {
     "name": "stdout",
     "output_type": "stream",
     "text": [
      "2600:\tlearn: 0.8483958\ttest: 0.7963132\tbest: 0.7967170 (2583)\ttotal: 5m 39s\tremaining: 5m 13s\n"
     ]
    },
    {
     "name": "stdout",
     "output_type": "stream",
     "text": [
      "2650:\tlearn: 0.8492863\ttest: 0.7962356\tbest: 0.7967170 (2583)\ttotal: 5m 46s\tremaining: 5m 6s\n"
     ]
    },
    {
     "name": "stdout",
     "output_type": "stream",
     "text": [
      "2700:\tlearn: 0.8504249\ttest: 0.7958665\tbest: 0.7967170 (2583)\ttotal: 5m 52s\tremaining: 5m\n"
     ]
    },
    {
     "name": "stdout",
     "output_type": "stream",
     "text": [
      "2750:\tlearn: 0.8515420\ttest: 0.7962800\tbest: 0.7967170 (2583)\ttotal: 5m 59s\tremaining: 4m 53s\n"
     ]
    },
    {
     "name": "stdout",
     "output_type": "stream",
     "text": [
      "2800:\tlearn: 0.8525394\ttest: 0.7961898\tbest: 0.7967170 (2583)\ttotal: 6m 5s\tremaining: 4m 47s\n"
     ]
    },
    {
     "name": "stdout",
     "output_type": "stream",
     "text": [
      "2850:\tlearn: 0.8535181\ttest: 0.7960730\tbest: 0.7967170 (2583)\ttotal: 6m 12s\tremaining: 4m 40s\n"
     ]
    },
    {
     "name": "stdout",
     "output_type": "stream",
     "text": [
      "2900:\tlearn: 0.8545127\ttest: 0.7966700\tbest: 0.7968552 (2891)\ttotal: 6m 18s\tremaining: 4m 34s\n"
     ]
    },
    {
     "name": "stdout",
     "output_type": "stream",
     "text": [
      "2950:\tlearn: 0.8554356\ttest: 0.7965069\tbest: 0.7968552 (2891)\ttotal: 6m 25s\tremaining: 4m 27s\n"
     ]
    },
    {
     "name": "stdout",
     "output_type": "stream",
     "text": [
      "3000:\tlearn: 0.8565970\ttest: 0.7967058\tbest: 0.7968552 (2891)\ttotal: 6m 32s\tremaining: 4m 21s\n"
     ]
    },
    {
     "name": "stdout",
     "output_type": "stream",
     "text": [
      "3050:\tlearn: 0.8576826\ttest: 0.7964937\tbest: 0.7968552 (2891)\ttotal: 6m 38s\tremaining: 4m 14s\n"
     ]
    },
    {
     "name": "stdout",
     "output_type": "stream",
     "text": [
      "3100:\tlearn: 0.8585499\ttest: 0.7967822\tbest: 0.7968552 (2891)\ttotal: 6m 45s\tremaining: 4m 8s\n"
     ]
    },
    {
     "name": "stdout",
     "output_type": "stream",
     "text": [
      "3150:\tlearn: 0.8595989\ttest: 0.7966676\tbest: 0.7970963 (3120)\ttotal: 6m 51s\tremaining: 4m 1s\n"
     ]
    },
    {
     "name": "stdout",
     "output_type": "stream",
     "text": [
      "3200:\tlearn: 0.8605223\ttest: 0.7968705\tbest: 0.7970963 (3120)\ttotal: 6m 58s\tremaining: 3m 55s\n"
     ]
    },
    {
     "name": "stdout",
     "output_type": "stream",
     "text": [
      "3250:\tlearn: 0.8615901\ttest: 0.7968351\tbest: 0.7971509 (3226)\ttotal: 7m 4s\tremaining: 3m 48s\n"
     ]
    },
    {
     "name": "stdout",
     "output_type": "stream",
     "text": [
      "3300:\tlearn: 0.8623699\ttest: 0.7969318\tbest: 0.7971509 (3226)\ttotal: 7m 11s\tremaining: 3m 42s\n"
     ]
    },
    {
     "name": "stdout",
     "output_type": "stream",
     "text": [
      "3350:\tlearn: 0.8634854\ttest: 0.7968625\tbest: 0.7972604 (3324)\ttotal: 7m 18s\tremaining: 3m 35s\n"
     ]
    },
    {
     "name": "stdout",
     "output_type": "stream",
     "text": [
      "3400:\tlearn: 0.8646322\ttest: 0.7974128\tbest: 0.7974131 (3399)\ttotal: 7m 24s\tremaining: 3m 29s\n"
     ]
    },
    {
     "name": "stdout",
     "output_type": "stream",
     "text": [
      "3450:\tlearn: 0.8656567\ttest: 0.7975097\tbest: 0.7979176 (3412)\ttotal: 7m 31s\tremaining: 3m 22s\n"
     ]
    },
    {
     "name": "stdout",
     "output_type": "stream",
     "text": [
      "3500:\tlearn: 0.8667929\ttest: 0.7973696\tbest: 0.7979176 (3412)\ttotal: 7m 37s\tremaining: 3m 16s\n"
     ]
    },
    {
     "name": "stdout",
     "output_type": "stream",
     "text": [
      "3550:\tlearn: 0.8676996\ttest: 0.7971648\tbest: 0.7979176 (3412)\ttotal: 7m 44s\tremaining: 3m 9s\n"
     ]
    },
    {
     "name": "stdout",
     "output_type": "stream",
     "text": [
      "3600:\tlearn: 0.8684899\ttest: 0.7974613\tbest: 0.7979176 (3412)\ttotal: 7m 51s\tremaining: 3m 3s\n"
     ]
    },
    {
     "name": "stdout",
     "output_type": "stream",
     "text": [
      "3650:\tlearn: 0.8694096\ttest: 0.7971061\tbest: 0.7979176 (3412)\ttotal: 7m 57s\tremaining: 2m 56s\n"
     ]
    },
    {
     "name": "stdout",
     "output_type": "stream",
     "text": [
      "3700:\tlearn: 0.8701090\ttest: 0.7971096\tbest: 0.7979176 (3412)\ttotal: 8m 4s\tremaining: 2m 49s\n"
     ]
    },
    {
     "name": "stdout",
     "output_type": "stream",
     "text": [
      "3750:\tlearn: 0.8709990\ttest: 0.7973097\tbest: 0.7979176 (3412)\ttotal: 8m 10s\tremaining: 2m 43s\n"
     ]
    },
    {
     "name": "stdout",
     "output_type": "stream",
     "text": [
      "3800:\tlearn: 0.8719665\ttest: 0.7967209\tbest: 0.7979176 (3412)\ttotal: 8m 17s\tremaining: 2m 36s\n"
     ]
    },
    {
     "name": "stdout",
     "output_type": "stream",
     "text": [
      "3850:\tlearn: 0.8728207\ttest: 0.7967101\tbest: 0.7979176 (3412)\ttotal: 8m 23s\tremaining: 2m 30s\n"
     ]
    },
    {
     "name": "stdout",
     "output_type": "stream",
     "text": [
      "3900:\tlearn: 0.8736639\ttest: 0.7965078\tbest: 0.7979176 (3412)\ttotal: 8m 30s\tremaining: 2m 23s\n"
     ]
    },
    {
     "name": "stdout",
     "output_type": "stream",
     "text": [
      "3950:\tlearn: 0.8745192\ttest: 0.7968930\tbest: 0.7979176 (3412)\ttotal: 8m 37s\tremaining: 2m 17s\n"
     ]
    },
    {
     "name": "stdout",
     "output_type": "stream",
     "text": [
      "4000:\tlearn: 0.8752746\ttest: 0.7967885\tbest: 0.7979176 (3412)\ttotal: 8m 43s\tremaining: 2m 10s\n"
     ]
    },
    {
     "name": "stdout",
     "output_type": "stream",
     "text": [
      "4050:\tlearn: 0.8762520\ttest: 0.7967576\tbest: 0.7979176 (3412)\ttotal: 8m 50s\tremaining: 2m 4s\n"
     ]
    },
    {
     "name": "stdout",
     "output_type": "stream",
     "text": [
      "4100:\tlearn: 0.8772167\ttest: 0.7972474\tbest: 0.7979176 (3412)\ttotal: 8m 56s\tremaining: 1m 57s\n"
     ]
    },
    {
     "name": "stdout",
     "output_type": "stream",
     "text": [
      "4150:\tlearn: 0.8779121\ttest: 0.7970293\tbest: 0.7979176 (3412)\ttotal: 9m 3s\tremaining: 1m 51s\n"
     ]
    },
    {
     "name": "stdout",
     "output_type": "stream",
     "text": [
      "4200:\tlearn: 0.8786215\ttest: 0.7974891\tbest: 0.7979469 (4179)\ttotal: 9m 10s\tremaining: 1m 44s\n"
     ]
    },
    {
     "name": "stdout",
     "output_type": "stream",
     "text": [
      "4250:\tlearn: 0.8794191\ttest: 0.7974919\tbest: 0.7979469 (4179)\ttotal: 9m 16s\tremaining: 1m 38s\n"
     ]
    },
    {
     "name": "stdout",
     "output_type": "stream",
     "text": [
      "4300:\tlearn: 0.8803472\ttest: 0.7973905\tbest: 0.7979469 (4179)\ttotal: 9m 23s\tremaining: 1m 31s\n"
     ]
    },
    {
     "name": "stdout",
     "output_type": "stream",
     "text": [
      "4350:\tlearn: 0.8811008\ttest: 0.7975929\tbest: 0.7979469 (4179)\ttotal: 9m 30s\tremaining: 1m 25s\n"
     ]
    },
    {
     "name": "stdout",
     "output_type": "stream",
     "text": [
      "4400:\tlearn: 0.8818463\ttest: 0.7973689\tbest: 0.7979469 (4179)\ttotal: 9m 36s\tremaining: 1m 18s\n"
     ]
    },
    {
     "name": "stdout",
     "output_type": "stream",
     "text": [
      "4450:\tlearn: 0.8827211\ttest: 0.7973518\tbest: 0.7979469 (4179)\ttotal: 9m 43s\tremaining: 1m 11s\n"
     ]
    },
    {
     "name": "stdout",
     "output_type": "stream",
     "text": [
      "4500:\tlearn: 0.8835795\ttest: 0.7971176\tbest: 0.7979469 (4179)\ttotal: 9m 49s\tremaining: 1m 5s\n"
     ]
    },
    {
     "name": "stdout",
     "output_type": "stream",
     "text": [
      "4550:\tlearn: 0.8844328\ttest: 0.7970746\tbest: 0.7979469 (4179)\ttotal: 9m 56s\tremaining: 58.9s\n"
     ]
    },
    {
     "name": "stdout",
     "output_type": "stream",
     "text": [
      "4600:\tlearn: 0.8851042\ttest: 0.7973305\tbest: 0.7979469 (4179)\ttotal: 10m 3s\tremaining: 52.3s\n"
     ]
    },
    {
     "name": "stdout",
     "output_type": "stream",
     "text": [
      "4650:\tlearn: 0.8860352\ttest: 0.7969341\tbest: 0.7979469 (4179)\ttotal: 10m 9s\tremaining: 45.8s\n"
     ]
    },
    {
     "name": "stdout",
     "output_type": "stream",
     "text": [
      "4700:\tlearn: 0.8868237\ttest: 0.7972461\tbest: 0.7979469 (4179)\ttotal: 10m 16s\tremaining: 39.2s\n"
     ]
    },
    {
     "name": "stdout",
     "output_type": "stream",
     "text": [
      "4750:\tlearn: 0.8875308\ttest: 0.7973485\tbest: 0.7979469 (4179)\ttotal: 10m 22s\tremaining: 32.6s\n"
     ]
    },
    {
     "name": "stdout",
     "output_type": "stream",
     "text": [
      "4800:\tlearn: 0.8884543\ttest: 0.7970399\tbest: 0.7979469 (4179)\ttotal: 10m 29s\tremaining: 26.1s\n"
     ]
    },
    {
     "name": "stdout",
     "output_type": "stream",
     "text": [
      "4850:\tlearn: 0.8893664\ttest: 0.7966659\tbest: 0.7979469 (4179)\ttotal: 10m 35s\tremaining: 19.5s\n"
     ]
    },
    {
     "name": "stdout",
     "output_type": "stream",
     "text": [
      "4900:\tlearn: 0.8900036\ttest: 0.7970387\tbest: 0.7979469 (4179)\ttotal: 10m 42s\tremaining: 13s\n"
     ]
    },
    {
     "name": "stdout",
     "output_type": "stream",
     "text": [
      "4950:\tlearn: 0.8906420\ttest: 0.7972179\tbest: 0.7979469 (4179)\ttotal: 10m 48s\tremaining: 6.42s\n"
     ]
    },
    {
     "name": "stdout",
     "output_type": "stream",
     "text": [
      "4999:\tlearn: 0.8913249\ttest: 0.7970466\tbest: 0.7979469 (4179)\ttotal: 10m 55s\tremaining: 0us\n",
      "\n",
      "bestTest = 0.7979468518\n",
      "bestIteration = 4179\n",
      "\n"
     ]
    },
    {
     "name": "stdout",
     "output_type": "stream",
     "text": [
      "######################################## training model 5/5 ########################################\n",
      "seed: 24\n"
     ]
    },
    {
     "name": "stdout",
     "output_type": "stream",
     "text": [
      "0:\tlearn: 0.6075927\ttest: 0.6022034\tbest: 0.6022034 (0)\ttotal: 477ms\tremaining: 39m 44s\n"
     ]
    },
    {
     "name": "stdout",
     "output_type": "stream",
     "text": [
      "50:\tlearn: 0.7446359\ttest: 0.7431272\tbest: 0.7431272 (50)\ttotal: 6.93s\tremaining: 11m 12s\n"
     ]
    },
    {
     "name": "stdout",
     "output_type": "stream",
     "text": [
      "100:\tlearn: 0.7582565\ttest: 0.7554056\tbest: 0.7554056 (100)\ttotal: 13.5s\tremaining: 10m 52s\n"
     ]
    },
    {
     "name": "stdout",
     "output_type": "stream",
     "text": [
      "150:\tlearn: 0.7647072\ttest: 0.7601592\tbest: 0.7602804 (147)\ttotal: 20s\tremaining: 10m 41s\n"
     ]
    },
    {
     "name": "stdout",
     "output_type": "stream",
     "text": [
      "200:\tlearn: 0.7690477\ttest: 0.7643883\tbest: 0.7643883 (200)\ttotal: 26.5s\tremaining: 10m 32s\n"
     ]
    },
    {
     "name": "stdout",
     "output_type": "stream",
     "text": [
      "250:\tlearn: 0.7726215\ttest: 0.7667817\tbest: 0.7668228 (249)\ttotal: 33.1s\tremaining: 10m 25s\n"
     ]
    },
    {
     "name": "stdout",
     "output_type": "stream",
     "text": [
      "300:\tlearn: 0.7769956\ttest: 0.7713435\tbest: 0.7713435 (300)\ttotal: 39.6s\tremaining: 10m 18s\n"
     ]
    },
    {
     "name": "stdout",
     "output_type": "stream",
     "text": [
      "350:\tlearn: 0.7839889\ttest: 0.7773356\tbest: 0.7773358 (349)\ttotal: 46.1s\tremaining: 10m 10s\n"
     ]
    },
    {
     "name": "stdout",
     "output_type": "stream",
     "text": [
      "400:\tlearn: 0.7885130\ttest: 0.7816086\tbest: 0.7816607 (399)\ttotal: 52.6s\tremaining: 10m 3s\n"
     ]
    },
    {
     "name": "stdout",
     "output_type": "stream",
     "text": [
      "450:\tlearn: 0.7917796\ttest: 0.7830022\tbest: 0.7831544 (448)\ttotal: 59.2s\tremaining: 9m 57s\n"
     ]
    },
    {
     "name": "stdout",
     "output_type": "stream",
     "text": [
      "500:\tlearn: 0.7944675\ttest: 0.7841514\tbest: 0.7843274 (494)\ttotal: 1m 5s\tremaining: 9m 50s\n"
     ]
    },
    {
     "name": "stdout",
     "output_type": "stream",
     "text": [
      "550:\tlearn: 0.7967873\ttest: 0.7849856\tbest: 0.7849856 (550)\ttotal: 1m 12s\tremaining: 9m 44s\n"
     ]
    },
    {
     "name": "stdout",
     "output_type": "stream",
     "text": [
      "600:\tlearn: 0.7987168\ttest: 0.7852344\tbest: 0.7855700 (587)\ttotal: 1m 18s\tremaining: 9m 37s\n"
     ]
    },
    {
     "name": "stdout",
     "output_type": "stream",
     "text": [
      "650:\tlearn: 0.8007112\ttest: 0.7865099\tbest: 0.7866956 (644)\ttotal: 1m 25s\tremaining: 9m 30s\n"
     ]
    },
    {
     "name": "stdout",
     "output_type": "stream",
     "text": [
      "700:\tlearn: 0.8025391\ttest: 0.7875016\tbest: 0.7876040 (697)\ttotal: 1m 32s\tremaining: 9m 24s\n"
     ]
    },
    {
     "name": "stdout",
     "output_type": "stream",
     "text": [
      "750:\tlearn: 0.8044687\ttest: 0.7877592\tbest: 0.7879864 (741)\ttotal: 1m 38s\tremaining: 9m 17s\n"
     ]
    },
    {
     "name": "stdout",
     "output_type": "stream",
     "text": [
      "800:\tlearn: 0.8058916\ttest: 0.7879189\tbest: 0.7881785 (784)\ttotal: 1m 45s\tremaining: 9m 11s\n"
     ]
    },
    {
     "name": "stdout",
     "output_type": "stream",
     "text": [
      "850:\tlearn: 0.8081589\ttest: 0.7881647\tbest: 0.7884521 (822)\ttotal: 1m 51s\tremaining: 9m 4s\n"
     ]
    },
    {
     "name": "stdout",
     "output_type": "stream",
     "text": [
      "900:\tlearn: 0.8094766\ttest: 0.7883667\tbest: 0.7884835 (876)\ttotal: 1m 58s\tremaining: 8m 57s\n"
     ]
    },
    {
     "name": "stdout",
     "output_type": "stream",
     "text": [
      "950:\tlearn: 0.8110528\ttest: 0.7889673\tbest: 0.7893397 (931)\ttotal: 2m 4s\tremaining: 8m 51s\n"
     ]
    },
    {
     "name": "stdout",
     "output_type": "stream",
     "text": [
      "1000:\tlearn: 0.8124271\ttest: 0.7890410\tbest: 0.7893397 (931)\ttotal: 2m 11s\tremaining: 8m 44s\n"
     ]
    },
    {
     "name": "stdout",
     "output_type": "stream",
     "text": [
      "1050:\tlearn: 0.8141283\ttest: 0.7890815\tbest: 0.7893397 (931)\ttotal: 2m 17s\tremaining: 8m 37s\n"
     ]
    },
    {
     "name": "stdout",
     "output_type": "stream",
     "text": [
      "1100:\tlearn: 0.8154417\ttest: 0.7891790\tbest: 0.7895435 (1088)\ttotal: 2m 24s\tremaining: 8m 31s\n"
     ]
    },
    {
     "name": "stdout",
     "output_type": "stream",
     "text": [
      "1150:\tlearn: 0.8166799\ttest: 0.7891030\tbest: 0.7895435 (1088)\ttotal: 2m 30s\tremaining: 8m 24s\n"
     ]
    },
    {
     "name": "stdout",
     "output_type": "stream",
     "text": [
      "1200:\tlearn: 0.8181220\ttest: 0.7894418\tbest: 0.7895826 (1195)\ttotal: 2m 37s\tremaining: 8m 18s\n"
     ]
    },
    {
     "name": "stdout",
     "output_type": "stream",
     "text": [
      "1250:\tlearn: 0.8196988\ttest: 0.7901392\tbest: 0.7901392 (1250)\ttotal: 2m 44s\tremaining: 8m 11s\n"
     ]
    },
    {
     "name": "stdout",
     "output_type": "stream",
     "text": [
      "1300:\tlearn: 0.8207554\ttest: 0.7906559\tbest: 0.7907591 (1299)\ttotal: 2m 50s\tremaining: 8m 5s\n"
     ]
    },
    {
     "name": "stdout",
     "output_type": "stream",
     "text": [
      "1350:\tlearn: 0.8218499\ttest: 0.7904306\tbest: 0.7907615 (1302)\ttotal: 2m 57s\tremaining: 7m 58s\n"
     ]
    },
    {
     "name": "stdout",
     "output_type": "stream",
     "text": [
      "1400:\tlearn: 0.8231802\ttest: 0.7910948\tbest: 0.7911336 (1395)\ttotal: 3m 3s\tremaining: 7m 51s\n"
     ]
    },
    {
     "name": "stdout",
     "output_type": "stream",
     "text": [
      "1450:\tlearn: 0.8242749\ttest: 0.7912955\tbest: 0.7914068 (1425)\ttotal: 3m 10s\tremaining: 7m 45s\n"
     ]
    },
    {
     "name": "stdout",
     "output_type": "stream",
     "text": [
      "1500:\tlearn: 0.8253603\ttest: 0.7914188\tbest: 0.7915855 (1493)\ttotal: 3m 16s\tremaining: 7m 38s\n"
     ]
    },
    {
     "name": "stdout",
     "output_type": "stream",
     "text": [
      "1550:\tlearn: 0.8268069\ttest: 0.7914204\tbest: 0.7915896 (1504)\ttotal: 3m 23s\tremaining: 7m 32s\n"
     ]
    },
    {
     "name": "stdout",
     "output_type": "stream",
     "text": [
      "1600:\tlearn: 0.8279374\ttest: 0.7913414\tbest: 0.7916320 (1559)\ttotal: 3m 29s\tremaining: 7m 25s\n"
     ]
    },
    {
     "name": "stdout",
     "output_type": "stream",
     "text": [
      "1650:\tlearn: 0.8291342\ttest: 0.7914101\tbest: 0.7916320 (1559)\ttotal: 3m 36s\tremaining: 7m 18s\n"
     ]
    },
    {
     "name": "stdout",
     "output_type": "stream",
     "text": [
      "1700:\tlearn: 0.8302527\ttest: 0.7919839\tbest: 0.7920031 (1683)\ttotal: 3m 42s\tremaining: 7m 12s\n"
     ]
    },
    {
     "name": "stdout",
     "output_type": "stream",
     "text": [
      "1750:\tlearn: 0.8316584\ttest: 0.7918140\tbest: 0.7920837 (1736)\ttotal: 3m 49s\tremaining: 7m 5s\n"
     ]
    },
    {
     "name": "stdout",
     "output_type": "stream",
     "text": [
      "1800:\tlearn: 0.8330456\ttest: 0.7920728\tbest: 0.7924467 (1789)\ttotal: 3m 56s\tremaining: 6m 59s\n"
     ]
    },
    {
     "name": "stdout",
     "output_type": "stream",
     "text": [
      "1850:\tlearn: 0.8338845\ttest: 0.7921916\tbest: 0.7924467 (1789)\ttotal: 4m 2s\tremaining: 6m 52s\n"
     ]
    },
    {
     "name": "stdout",
     "output_type": "stream",
     "text": [
      "1900:\tlearn: 0.8349930\ttest: 0.7917706\tbest: 0.7925497 (1853)\ttotal: 4m 9s\tremaining: 6m 45s\n"
     ]
    },
    {
     "name": "stdout",
     "output_type": "stream",
     "text": [
      "1950:\tlearn: 0.8360251\ttest: 0.7918585\tbest: 0.7925497 (1853)\ttotal: 4m 15s\tremaining: 6m 39s\n"
     ]
    },
    {
     "name": "stdout",
     "output_type": "stream",
     "text": [
      "2000:\tlearn: 0.8373817\ttest: 0.7920511\tbest: 0.7925497 (1853)\ttotal: 4m 21s\tremaining: 6m 32s\n"
     ]
    },
    {
     "name": "stdout",
     "output_type": "stream",
     "text": [
      "2050:\tlearn: 0.8384956\ttest: 0.7918436\tbest: 0.7925497 (1853)\ttotal: 4m 28s\tremaining: 6m 25s\n"
     ]
    },
    {
     "name": "stdout",
     "output_type": "stream",
     "text": [
      "2100:\tlearn: 0.8398062\ttest: 0.7915175\tbest: 0.7925497 (1853)\ttotal: 4m 34s\tremaining: 6m 19s\n"
     ]
    },
    {
     "name": "stdout",
     "output_type": "stream",
     "text": [
      "2150:\tlearn: 0.8410359\ttest: 0.7916170\tbest: 0.7925497 (1853)\ttotal: 4m 41s\tremaining: 6m 12s\n"
     ]
    },
    {
     "name": "stdout",
     "output_type": "stream",
     "text": [
      "2200:\tlearn: 0.8418609\ttest: 0.7917964\tbest: 0.7925497 (1853)\ttotal: 4m 47s\tremaining: 6m 6s\n"
     ]
    },
    {
     "name": "stdout",
     "output_type": "stream",
     "text": [
      "2250:\tlearn: 0.8427875\ttest: 0.7919121\tbest: 0.7925497 (1853)\ttotal: 4m 54s\tremaining: 5m 59s\n"
     ]
    },
    {
     "name": "stdout",
     "output_type": "stream",
     "text": [
      "2300:\tlearn: 0.8436949\ttest: 0.7920292\tbest: 0.7925497 (1853)\ttotal: 5m\tremaining: 5m 53s\n"
     ]
    },
    {
     "name": "stdout",
     "output_type": "stream",
     "text": [
      "2350:\tlearn: 0.8447005\ttest: 0.7920674\tbest: 0.7925497 (1853)\ttotal: 5m 7s\tremaining: 5m 46s\n"
     ]
    },
    {
     "name": "stdout",
     "output_type": "stream",
     "text": [
      "2400:\tlearn: 0.8457049\ttest: 0.7923547\tbest: 0.7925497 (1853)\ttotal: 5m 13s\tremaining: 5m 39s\n"
     ]
    },
    {
     "name": "stdout",
     "output_type": "stream",
     "text": [
      "2450:\tlearn: 0.8468983\ttest: 0.7929189\tbest: 0.7930855 (2449)\ttotal: 5m 20s\tremaining: 5m 33s\n"
     ]
    },
    {
     "name": "stdout",
     "output_type": "stream",
     "text": [
      "2500:\tlearn: 0.8480250\ttest: 0.7928063\tbest: 0.7930855 (2449)\ttotal: 5m 26s\tremaining: 5m 26s\n"
     ]
    },
    {
     "name": "stdout",
     "output_type": "stream",
     "text": [
      "2550:\tlearn: 0.8491033\ttest: 0.7928444\tbest: 0.7930855 (2449)\ttotal: 5m 33s\tremaining: 5m 20s\n"
     ]
    },
    {
     "name": "stdout",
     "output_type": "stream",
     "text": [
      "2600:\tlearn: 0.8501355\ttest: 0.7928525\tbest: 0.7930855 (2449)\ttotal: 5m 39s\tremaining: 5m 13s\n"
     ]
    },
    {
     "name": "stdout",
     "output_type": "stream",
     "text": [
      "2650:\tlearn: 0.8512184\ttest: 0.7929430\tbest: 0.7932793 (2646)\ttotal: 5m 46s\tremaining: 5m 6s\n"
     ]
    },
    {
     "name": "stdout",
     "output_type": "stream",
     "text": [
      "2700:\tlearn: 0.8520324\ttest: 0.7923657\tbest: 0.7932793 (2646)\ttotal: 5m 52s\tremaining: 5m\n"
     ]
    },
    {
     "name": "stdout",
     "output_type": "stream",
     "text": [
      "2750:\tlearn: 0.8529577\ttest: 0.7923748\tbest: 0.7932793 (2646)\ttotal: 5m 59s\tremaining: 4m 53s\n"
     ]
    },
    {
     "name": "stdout",
     "output_type": "stream",
     "text": [
      "2800:\tlearn: 0.8540817\ttest: 0.7922185\tbest: 0.7932793 (2646)\ttotal: 6m 5s\tremaining: 4m 47s\n"
     ]
    },
    {
     "name": "stdout",
     "output_type": "stream",
     "text": [
      "2850:\tlearn: 0.8551107\ttest: 0.7924789\tbest: 0.7932793 (2646)\ttotal: 6m 12s\tremaining: 4m 40s\n"
     ]
    },
    {
     "name": "stdout",
     "output_type": "stream",
     "text": [
      "2900:\tlearn: 0.8560490\ttest: 0.7922322\tbest: 0.7932793 (2646)\ttotal: 6m 19s\tremaining: 4m 34s\n"
     ]
    },
    {
     "name": "stdout",
     "output_type": "stream",
     "text": [
      "2950:\tlearn: 0.8568005\ttest: 0.7924962\tbest: 0.7932793 (2646)\ttotal: 6m 25s\tremaining: 4m 27s\n"
     ]
    },
    {
     "name": "stdout",
     "output_type": "stream",
     "text": [
      "3000:\tlearn: 0.8578647\ttest: 0.7924064\tbest: 0.7932793 (2646)\ttotal: 6m 32s\tremaining: 4m 21s\n"
     ]
    },
    {
     "name": "stdout",
     "output_type": "stream",
     "text": [
      "3050:\tlearn: 0.8589226\ttest: 0.7930469\tbest: 0.7932793 (2646)\ttotal: 6m 38s\tremaining: 4m 14s\n"
     ]
    },
    {
     "name": "stdout",
     "output_type": "stream",
     "text": [
      "3100:\tlearn: 0.8597737\ttest: 0.7927894\tbest: 0.7932793 (2646)\ttotal: 6m 45s\tremaining: 4m 8s\n"
     ]
    },
    {
     "name": "stdout",
     "output_type": "stream",
     "text": [
      "3150:\tlearn: 0.8604041\ttest: 0.7934429\tbest: 0.7936765 (3137)\ttotal: 6m 51s\tremaining: 4m 1s\n"
     ]
    },
    {
     "name": "stdout",
     "output_type": "stream",
     "text": [
      "3200:\tlearn: 0.8614464\ttest: 0.7935789\tbest: 0.7937608 (3160)\ttotal: 6m 58s\tremaining: 3m 55s\n"
     ]
    },
    {
     "name": "stdout",
     "output_type": "stream",
     "text": [
      "3250:\tlearn: 0.8622196\ttest: 0.7938159\tbest: 0.7939171 (3225)\ttotal: 7m 4s\tremaining: 3m 48s\n"
     ]
    },
    {
     "name": "stdout",
     "output_type": "stream",
     "text": [
      "3300:\tlearn: 0.8631884\ttest: 0.7936987\tbest: 0.7939171 (3225)\ttotal: 7m 11s\tremaining: 3m 42s\n"
     ]
    },
    {
     "name": "stdout",
     "output_type": "stream",
     "text": [
      "3350:\tlearn: 0.8643026\ttest: 0.7935442\tbest: 0.7939783 (3335)\ttotal: 7m 17s\tremaining: 3m 35s\n"
     ]
    },
    {
     "name": "stdout",
     "output_type": "stream",
     "text": [
      "3400:\tlearn: 0.8653452\ttest: 0.7939887\tbest: 0.7940100 (3399)\ttotal: 7m 24s\tremaining: 3m 28s\n"
     ]
    },
    {
     "name": "stdout",
     "output_type": "stream",
     "text": [
      "3450:\tlearn: 0.8660318\ttest: 0.7934921\tbest: 0.7940304 (3402)\ttotal: 7m 31s\tremaining: 3m 22s\n"
     ]
    },
    {
     "name": "stdout",
     "output_type": "stream",
     "text": [
      "3500:\tlearn: 0.8669259\ttest: 0.7934281\tbest: 0.7940304 (3402)\ttotal: 7m 37s\tremaining: 3m 15s\n"
     ]
    },
    {
     "name": "stdout",
     "output_type": "stream",
     "text": [
      "3550:\tlearn: 0.8676993\ttest: 0.7934333\tbest: 0.7940304 (3402)\ttotal: 7m 44s\tremaining: 3m 9s\n"
     ]
    },
    {
     "name": "stdout",
     "output_type": "stream",
     "text": [
      "3600:\tlearn: 0.8686709\ttest: 0.7932063\tbest: 0.7940304 (3402)\ttotal: 7m 50s\tremaining: 3m 2s\n"
     ]
    },
    {
     "name": "stdout",
     "output_type": "stream",
     "text": [
      "3650:\tlearn: 0.8694905\ttest: 0.7935282\tbest: 0.7940304 (3402)\ttotal: 7m 57s\tremaining: 2m 56s\n"
     ]
    },
    {
     "name": "stdout",
     "output_type": "stream",
     "text": [
      "3700:\tlearn: 0.8701841\ttest: 0.7935559\tbest: 0.7940304 (3402)\ttotal: 8m 3s\tremaining: 2m 49s\n"
     ]
    },
    {
     "name": "stdout",
     "output_type": "stream",
     "text": [
      "3750:\tlearn: 0.8712469\ttest: 0.7938742\tbest: 0.7940304 (3402)\ttotal: 8m 10s\tremaining: 2m 43s\n"
     ]
    },
    {
     "name": "stdout",
     "output_type": "stream",
     "text": [
      "3800:\tlearn: 0.8719994\ttest: 0.7934841\tbest: 0.7940304 (3402)\ttotal: 8m 17s\tremaining: 2m 36s\n"
     ]
    },
    {
     "name": "stdout",
     "output_type": "stream",
     "text": [
      "3850:\tlearn: 0.8728255\ttest: 0.7935812\tbest: 0.7940304 (3402)\ttotal: 8m 23s\tremaining: 2m 30s\n"
     ]
    },
    {
     "name": "stdout",
     "output_type": "stream",
     "text": [
      "3900:\tlearn: 0.8737007\ttest: 0.7937081\tbest: 0.7940304 (3402)\ttotal: 8m 30s\tremaining: 2m 23s\n"
     ]
    },
    {
     "name": "stdout",
     "output_type": "stream",
     "text": [
      "3950:\tlearn: 0.8744371\ttest: 0.7943180\tbest: 0.7943180 (3950)\ttotal: 8m 36s\tremaining: 2m 17s\n"
     ]
    },
    {
     "name": "stdout",
     "output_type": "stream",
     "text": [
      "4000:\tlearn: 0.8753520\ttest: 0.7941293\tbest: 0.7943180 (3950)\ttotal: 8m 43s\tremaining: 2m 10s\n"
     ]
    },
    {
     "name": "stdout",
     "output_type": "stream",
     "text": [
      "4050:\tlearn: 0.8764381\ttest: 0.7935922\tbest: 0.7943180 (3950)\ttotal: 8m 49s\tremaining: 2m 4s\n"
     ]
    },
    {
     "name": "stdout",
     "output_type": "stream",
     "text": [
      "4100:\tlearn: 0.8770545\ttest: 0.7940562\tbest: 0.7943180 (3950)\ttotal: 8m 56s\tremaining: 1m 57s\n"
     ]
    },
    {
     "name": "stdout",
     "output_type": "stream",
     "text": [
      "4150:\tlearn: 0.8781758\ttest: 0.7939146\tbest: 0.7943180 (3950)\ttotal: 9m 3s\tremaining: 1m 51s\n"
     ]
    },
    {
     "name": "stdout",
     "output_type": "stream",
     "text": [
      "4200:\tlearn: 0.8788831\ttest: 0.7939156\tbest: 0.7943565 (4187)\ttotal: 9m 9s\tremaining: 1m 44s\n"
     ]
    },
    {
     "name": "stdout",
     "output_type": "stream",
     "text": [
      "4250:\tlearn: 0.8797805\ttest: 0.7936717\tbest: 0.7943565 (4187)\ttotal: 9m 16s\tremaining: 1m 37s\n"
     ]
    },
    {
     "name": "stdout",
     "output_type": "stream",
     "text": [
      "4300:\tlearn: 0.8804307\ttest: 0.7940727\tbest: 0.7943565 (4187)\ttotal: 9m 22s\tremaining: 1m 31s\n"
     ]
    },
    {
     "name": "stdout",
     "output_type": "stream",
     "text": [
      "4350:\tlearn: 0.8813289\ttest: 0.7943734\tbest: 0.7944347 (4339)\ttotal: 9m 29s\tremaining: 1m 24s\n"
     ]
    },
    {
     "name": "stdout",
     "output_type": "stream",
     "text": [
      "4400:\tlearn: 0.8821881\ttest: 0.7944217\tbest: 0.7945697 (4389)\ttotal: 9m 35s\tremaining: 1m 18s\n"
     ]
    },
    {
     "name": "stdout",
     "output_type": "stream",
     "text": [
      "4450:\tlearn: 0.8830957\ttest: 0.7942797\tbest: 0.7945943 (4407)\ttotal: 9m 42s\tremaining: 1m 11s\n"
     ]
    },
    {
     "name": "stdout",
     "output_type": "stream",
     "text": [
      "4500:\tlearn: 0.8839341\ttest: 0.7939050\tbest: 0.7945943 (4407)\ttotal: 9m 48s\tremaining: 1m 5s\n"
     ]
    },
    {
     "name": "stdout",
     "output_type": "stream",
     "text": [
      "4550:\tlearn: 0.8847341\ttest: 0.7943629\tbest: 0.7945943 (4407)\ttotal: 9m 55s\tremaining: 58.7s\n"
     ]
    },
    {
     "name": "stdout",
     "output_type": "stream",
     "text": [
      "4600:\tlearn: 0.8854936\ttest: 0.7944478\tbest: 0.7946144 (4576)\ttotal: 10m 1s\tremaining: 52.2s\n"
     ]
    },
    {
     "name": "stdout",
     "output_type": "stream",
     "text": [
      "4650:\tlearn: 0.8861598\ttest: 0.7943593\tbest: 0.7946144 (4576)\ttotal: 10m 8s\tremaining: 45.7s\n"
     ]
    },
    {
     "name": "stdout",
     "output_type": "stream",
     "text": [
      "4700:\tlearn: 0.8868894\ttest: 0.7942629\tbest: 0.7946144 (4576)\ttotal: 10m 15s\tremaining: 39.1s\n"
     ]
    },
    {
     "name": "stdout",
     "output_type": "stream",
     "text": [
      "4750:\tlearn: 0.8877566\ttest: 0.7943771\tbest: 0.7946484 (4735)\ttotal: 10m 21s\tremaining: 32.6s\n"
     ]
    },
    {
     "name": "stdout",
     "output_type": "stream",
     "text": [
      "4800:\tlearn: 0.8886817\ttest: 0.7943216\tbest: 0.7946484 (4735)\ttotal: 10m 28s\tremaining: 26s\n"
     ]
    },
    {
     "name": "stdout",
     "output_type": "stream",
     "text": [
      "4850:\tlearn: 0.8893821\ttest: 0.7942232\tbest: 0.7946484 (4735)\ttotal: 10m 34s\tremaining: 19.5s\n"
     ]
    },
    {
     "name": "stdout",
     "output_type": "stream",
     "text": [
      "4900:\tlearn: 0.8902889\ttest: 0.7944288\tbest: 0.7946484 (4735)\ttotal: 10m 41s\tremaining: 13s\n"
     ]
    },
    {
     "name": "stdout",
     "output_type": "stream",
     "text": [
      "4950:\tlearn: 0.8909387\ttest: 0.7942083\tbest: 0.7946484 (4735)\ttotal: 10m 47s\tremaining: 6.41s\n"
     ]
    },
    {
     "name": "stdout",
     "output_type": "stream",
     "text": [
      "4999:\tlearn: 0.8916653\ttest: 0.7944006\tbest: 0.7946484 (4735)\ttotal: 10m 54s\tremaining: 0us\n",
      "\n",
      "bestTest = 0.7946483905\n",
      "bestIteration = 4735\n",
      "\n"
     ]
    },
    {
     "name": "stdout",
     "output_type": "stream",
     "text": [
      "Training time: 55.03729618787766 min.\n",
      "OOF recall_at4: 0.6679318005857205\n",
      "OOF normalized_gini: 0.9249553559240239\n",
      "OOF competition metric: 0.7964435782548722\n"
     ]
    },
    {
     "name": "stdout",
     "output_type": "stream",
     "text": [
      "CPU times: user 2d 11h 54min 43s, sys: 3h 1min 9s, total: 2d 14h 55min 52s\n",
      "Wall time: 4h 36min 17s\n"
     ]
    }
   ],
   "source": [
    "%%time \n",
    "\n",
    "all_models = list()\n",
    "all_oof_dfs = list()\n",
    "\n",
    "for repetition in range(N_REPEATS):\n",
    "    print(f\" repeated cross-validation step: {repetition+1}/{N_REPEATS} \".center(100, \"#\"))\n",
    "\n",
    "    folds = pd.read_csv(f'../data/processed/cv{repetition}.csv', index_col=\"customer_ID\")\n",
    "    _train = pd.merge(train, folds, how=\"inner\", left_index=True, right_index=True).reset_index(drop=True)\n",
    "    \n",
    "    tic = time.time()\n",
    "    models,oof = train_models(_train)\n",
    "    tac = time.time()\n",
    "    print(f\"Training time: {(tac-tic)/60} min.\")\n",
    "          \n",
    "    # oof metrics\n",
    "    print(\"OOF recall_at4:\", compute_recall_at4(oof.target.values, oof.pred.values))\n",
    "    print(\"OOF normalized_gini:\", compute_normalized_gini(oof.target.values, oof.pred.values))\n",
    "    print(\"OOF competition metric:\", compute_amex_metric(oof.target.values, oof.pred.values))\n",
    "    \n",
    "    all_models.append(models)\n",
    "    all_oof_dfs.append(oof)\n",
    "    \n",
    "    # save oof predictions\n",
    "    oof.to_csv(OOF_PATH/f\"oof-cv{repetition}.csv\", index=False)\n",
    "    # save models\n",
    "    for fold,_model in enumerate(models):\n",
    "        _model.save_model(ART_PATH/f\"/model-cv{repetition}-fold{fold}.cbm\", format=\"cbm\")\n",
    "          \n",
    "    del _train, folds; gc.collect()"
   ]
  },
  {
   "cell_type": "code",
   "execution_count": 12,
   "id": "5cccf980",
   "metadata": {
    "execution": {
     "iopub.execute_input": "2022-08-24T02:52:21.608686Z",
     "iopub.status.busy": "2022-08-24T02:52:21.419449Z",
     "iopub.status.idle": "2022-08-24T02:52:22.253893Z",
     "shell.execute_reply": "2022-08-24T02:52:22.253487Z"
    },
    "papermill": {
     "duration": 1.623664,
     "end_time": "2022-08-24T02:52:22.254031",
     "exception": false,
     "start_time": "2022-08-24T02:52:20.630367",
     "status": "completed"
    },
    "tags": []
   },
   "outputs": [
    {
     "data": {
      "text/html": [
       "<div>\n",
       "<style scoped>\n",
       "    .dataframe tbody tr th:only-of-type {\n",
       "        vertical-align: middle;\n",
       "    }\n",
       "\n",
       "    .dataframe tbody tr th {\n",
       "        vertical-align: top;\n",
       "    }\n",
       "\n",
       "    .dataframe thead th {\n",
       "        text-align: right;\n",
       "    }\n",
       "</style>\n",
       "<table border=\"1\" class=\"dataframe\">\n",
       "  <thead>\n",
       "    <tr style=\"text-align: right;\">\n",
       "      <th></th>\n",
       "      <th>recall_at4</th>\n",
       "      <th>gini</th>\n",
       "      <th>metric</th>\n",
       "    </tr>\n",
       "  </thead>\n",
       "  <tbody>\n",
       "    <tr>\n",
       "      <th>0</th>\n",
       "      <td>0.667208</td>\n",
       "      <td>0.924899</td>\n",
       "      <td>0.796053</td>\n",
       "    </tr>\n",
       "    <tr>\n",
       "      <th>1</th>\n",
       "      <td>0.668058</td>\n",
       "      <td>0.924835</td>\n",
       "      <td>0.796446</td>\n",
       "    </tr>\n",
       "    <tr>\n",
       "      <th>2</th>\n",
       "      <td>0.667006</td>\n",
       "      <td>0.924885</td>\n",
       "      <td>0.795946</td>\n",
       "    </tr>\n",
       "    <tr>\n",
       "      <th>3</th>\n",
       "      <td>0.667789</td>\n",
       "      <td>0.924715</td>\n",
       "      <td>0.796252</td>\n",
       "    </tr>\n",
       "    <tr>\n",
       "      <th>4</th>\n",
       "      <td>0.667932</td>\n",
       "      <td>0.924955</td>\n",
       "      <td>0.796444</td>\n",
       "    </tr>\n",
       "  </tbody>\n",
       "</table>\n",
       "</div>"
      ],
      "text/plain": [
       "   recall_at4      gini    metric\n",
       "0    0.667208  0.924899  0.796053\n",
       "1    0.668058  0.924835  0.796446\n",
       "2    0.667006  0.924885  0.795946\n",
       "3    0.667789  0.924715  0.796252\n",
       "4    0.667932  0.924955  0.796444"
      ]
     },
     "metadata": {},
     "output_type": "display_data"
    },
    {
     "name": "stdout",
     "output_type": "stream",
     "text": [
      "\n",
      "mean:\n"
     ]
    },
    {
     "data": {
      "text/plain": [
       "recall_at4    0.667599\n",
       "gini          0.924858\n",
       "metric        0.796228\n",
       "dtype: float64"
      ]
     },
     "metadata": {},
     "output_type": "display_data"
    },
    {
     "name": "stdout",
     "output_type": "stream",
     "text": [
      "\n",
      "std:\n"
     ]
    },
    {
     "data": {
      "text/plain": [
       "recall_at4    0.000464\n",
       "gini          0.000091\n",
       "metric        0.000226\n",
       "dtype: float64"
      ]
     },
     "metadata": {},
     "output_type": "display_data"
    }
   ],
   "source": [
    "results = list()\n",
    "\n",
    "for oof in all_oof_dfs:  \n",
    "    r = {\n",
    "        \"recall_at4\": compute_recall_at4(oof.target.values, oof.pred.values),\n",
    "        \"gini\": compute_normalized_gini(oof.target.values, oof.pred.values),\n",
    "        \"metric\": compute_amex_metric(oof.target.values, oof.pred.values),\n",
    "    }\n",
    "    results.append(r)\n",
    "\n",
    "results = pd.DataFrame(results)\n",
    "display(results)\n",
    "\n",
    "print(\"\\nmean:\")\n",
    "display(results.mean(axis=0))\n",
    "\n",
    "print(\"\\nstd:\")\n",
    "display(results.std(axis=0))"
   ]
  },
  {
   "cell_type": "code",
   "execution_count": 13,
   "id": "0cff7a57",
   "metadata": {
    "execution": {
     "iopub.execute_input": "2022-08-24T02:52:23.643700Z",
     "iopub.status.busy": "2022-08-24T02:52:23.643172Z",
     "iopub.status.idle": "2022-08-24T02:52:23.645817Z",
     "shell.execute_reply": "2022-08-24T02:52:23.645330Z"
    },
    "papermill": {
     "duration": 0.797832,
     "end_time": "2022-08-24T02:52:23.645937",
     "exception": false,
     "start_time": "2022-08-24T02:52:22.848105",
     "status": "completed"
    },
    "tags": []
   },
   "outputs": [
    {
     "data": {
      "text/plain": [
       "21"
      ]
     },
     "execution_count": 13,
     "metadata": {},
     "output_type": "execute_result"
    }
   ],
   "source": [
    "del train\n",
    "gc.collect()"
   ]
  },
  {
   "cell_type": "markdown",
   "id": "7b9fe6f5",
   "metadata": {
    "papermill": {
     "duration": 0.592227,
     "end_time": "2022-08-24T02:52:24.829045",
     "exception": false,
     "start_time": "2022-08-24T02:52:24.236818",
     "status": "completed"
    },
    "tags": []
   },
   "source": [
    "***\n",
    "## make predictions and submit"
   ]
  },
  {
   "cell_type": "code",
   "execution_count": 14,
   "id": "1ae485df",
   "metadata": {
    "execution": {
     "iopub.execute_input": "2022-08-24T02:52:26.032004Z",
     "iopub.status.busy": "2022-08-24T02:52:26.031467Z",
     "iopub.status.idle": "2022-08-24T02:52:26.033600Z",
     "shell.execute_reply": "2022-08-24T02:52:26.033112Z"
    },
    "papermill": {
     "duration": 0.602491,
     "end_time": "2022-08-24T02:52:26.033714",
     "exception": false,
     "start_time": "2022-08-24T02:52:25.431223",
     "status": "completed"
    },
    "tags": []
   },
   "outputs": [],
   "source": [
    "def make_predictions(dataframe:pd.DataFrame, input_feats:list, models:list) -> np.array:\n",
    "    preds = [\n",
    "        model.predict(dataframe[input_feats], prediction_type=\"Probability\")[:,1] \n",
    "        for model in models\n",
    "    ]\n",
    "    return np.mean(preds, axis=0)    "
   ]
  },
  {
   "cell_type": "code",
   "execution_count": 15,
   "id": "ebebac63",
   "metadata": {
    "execution": {
     "iopub.execute_input": "2022-08-24T02:52:27.222995Z",
     "iopub.status.busy": "2022-08-24T02:52:27.222458Z",
     "iopub.status.idle": "2022-08-24T02:52:30.525412Z",
     "shell.execute_reply": "2022-08-24T02:52:30.525815Z"
    },
    "papermill": {
     "duration": 3.905218,
     "end_time": "2022-08-24T02:52:30.525992",
     "exception": false,
     "start_time": "2022-08-24T02:52:26.620774",
     "status": "completed"
    },
    "tags": []
   },
   "outputs": [],
   "source": [
    "test = pd.read_parquet(f\"../data/processed/dsv{DATASET_VERSION}/test.parquet\")\n",
    "sub = pd.read_csv(\"../data/raw/sample_submission.csv\")"
   ]
  },
  {
   "cell_type": "code",
   "execution_count": 16,
   "id": "dae4bd84",
   "metadata": {
    "execution": {
     "iopub.execute_input": "2022-08-24T02:52:31.714234Z",
     "iopub.status.busy": "2022-08-24T02:52:31.710223Z",
     "iopub.status.idle": "2022-08-24T02:54:00.339653Z",
     "shell.execute_reply": "2022-08-24T02:54:00.340097Z"
    },
    "papermill": {
     "duration": 89.224265,
     "end_time": "2022-08-24T02:54:00.340263",
     "exception": false,
     "start_time": "2022-08-24T02:52:31.115998",
     "status": "completed"
    },
    "tags": []
   },
   "outputs": [
    {
     "name": "stdout",
     "output_type": "stream",
     "text": [
      "CPU times: user 12min 13s, sys: 27.5 s, total: 12min 41s\n",
      "Wall time: 1min 28s\n"
     ]
    }
   ],
   "source": [
    "%%time\n",
    "\n",
    "all_preds = list()\n",
    "\n",
    "for repetition in range(N_REPEATS):\n",
    "    if \"prediction\" in sub.columns:\n",
    "        sub.drop(\"prediction\", axis=1, inplace=True)\n",
    "    if \"prediction\" in test.columns:\n",
    "        test.drop(\"prediction\", axis=1, inplace=True)\n",
    "        \n",
    "    models = all_models[repetition]\n",
    "    preds = make_predictions(test, input_feats, models)\n",
    "    all_preds.append(preds)\n",
    "       \n",
    "    test[\"prediction\"] = preds\n",
    "    sub[\"prediction\"] = test.loc[sub.customer_ID.values,\"prediction\"].values\n",
    "    assert sub.prediction.isna().sum() == 0\n",
    "    sub.to_csv(SUB_PATH/f\"submission-cv{repetition}.csv\", index=False)"
   ]
  },
  {
   "cell_type": "code",
   "execution_count": 17,
   "id": "3a985895",
   "metadata": {
    "execution": {
     "iopub.execute_input": "2022-08-24T02:54:01.530778Z",
     "iopub.status.busy": "2022-08-24T02:54:01.529798Z",
     "iopub.status.idle": "2022-08-24T02:54:06.621908Z",
     "shell.execute_reply": "2022-08-24T02:54:06.622351Z"
    },
    "papermill": {
     "duration": 5.686507,
     "end_time": "2022-08-24T02:54:06.622554",
     "exception": false,
     "start_time": "2022-08-24T02:54:00.936047",
     "status": "completed"
    },
    "tags": []
   },
   "outputs": [
    {
     "name": "stdout",
     "output_type": "stream",
     "text": [
      "CPU times: user 3.95 s, sys: 839 ms, total: 4.79 s\n",
      "Wall time: 5.09 s\n"
     ]
    }
   ],
   "source": [
    "%%time\n",
    "# predict using all the trained models\n",
    "if \"prediction\" in sub.columns:\n",
    "    sub.drop(\"prediction\", axis=1, inplace=True)\n",
    "if \"prediction\" in test.columns:\n",
    "    test.drop(\"prediction\", axis=1, inplace=True)\n",
    "\n",
    "test[\"prediction\"] = np.mean(all_preds, axis=0)\n",
    "sub[\"prediction\"] = test.loc[sub.customer_ID.values,\"prediction\"].values\n",
    "assert sub.prediction.isna().sum() == 0\n",
    "sub.to_csv(SUB_PATH/f\"submission-all.csv\", index=False)"
   ]
  },
  {
   "cell_type": "markdown",
   "id": "fbeece0f",
   "metadata": {
    "papermill": {
     "duration": 0.59705,
     "end_time": "2022-08-24T02:54:07.809238",
     "exception": false,
     "start_time": "2022-08-24T02:54:07.212188",
     "status": "completed"
    },
    "tags": []
   },
   "source": [
    "***"
   ]
  }
 ],
 "metadata": {
  "kernelspec": {
   "display_name": "Python 3 (ipykernel)",
   "language": "python",
   "name": "python3"
  },
  "language_info": {
   "codemirror_mode": {
    "name": "ipython",
    "version": 3
   },
   "file_extension": ".py",
   "mimetype": "text/x-python",
   "name": "python",
   "nbconvert_exporter": "python",
   "pygments_lexer": "ipython3",
   "version": "3.7.12"
  },
  "papermill": {
   "default_parameters": {},
   "duration": 16721.003074,
   "end_time": "2022-08-24T02:54:10.773909",
   "environment_variables": {},
   "exception": null,
   "input_path": "train/catboost-dsv06.ipynb",
   "output_path": "train/outputs/catboost-dsv06.ipynb",
   "parameters": {},
   "start_time": "2022-08-23T22:15:29.770835",
   "version": "2.3.3"
  }
 },
 "nbformat": 4,
 "nbformat_minor": 5
}