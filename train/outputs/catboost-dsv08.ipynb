{
 "cells": [
  {
   "cell_type": "code",
   "execution_count": 1,
   "id": "a023f744",
   "metadata": {
    "_cell_guid": "b1076dfc-b9ad-4769-8c92-a6c4dae69d19",
    "_uuid": "8f2839f25d086af736a60e9eeb907d3b93b6e0e5",
    "execution": {
     "iopub.execute_input": "2022-08-24T02:54:20.495273Z",
     "iopub.status.busy": "2022-08-24T02:54:20.494748Z",
     "iopub.status.idle": "2022-08-24T02:54:21.122866Z",
     "shell.execute_reply": "2022-08-24T02:54:21.122274Z"
    },
    "papermill": {
     "duration": 0.64973,
     "end_time": "2022-08-24T02:54:21.123034",
     "exception": false,
     "start_time": "2022-08-24T02:54:20.473304",
     "status": "completed"
    },
    "tags": []
   },
   "outputs": [],
   "source": [
    "import gc\n",
    "from glob import glob\n",
    "import numpy as np\n",
    "import pandas as pd\n",
    "import matplotlib.pyplot as plt\n",
    "from pathlib import Path\n",
    "import time\n",
    "\n",
    "import category_encoders as ce\n",
    "import catboost\n",
    "from sklearn import metrics\n",
    "\n",
    "import sys\n",
    "sys.path.append(\"../utils\")\n",
    "from metrics import compute_recall_at4, compute_normalized_gini, compute_amex_metric\n",
    "#from messaging import send_message\n",
    "\n",
    "pd.set_option('display.max_columns', None)"
   ]
  },
  {
   "cell_type": "code",
   "execution_count": 2,
   "id": "a90f85ec",
   "metadata": {
    "execution": {
     "iopub.execute_input": "2022-08-24T02:54:21.152916Z",
     "iopub.status.busy": "2022-08-24T02:54:21.152364Z",
     "iopub.status.idle": "2022-08-24T02:54:21.154676Z",
     "shell.execute_reply": "2022-08-24T02:54:21.154159Z"
    },
    "papermill": {
     "duration": 0.020653,
     "end_time": "2022-08-24T02:54:21.154797",
     "exception": false,
     "start_time": "2022-08-24T02:54:21.134144",
     "status": "completed"
    },
    "tags": []
   },
   "outputs": [],
   "source": [
    "# metrics in catboost format\n",
    "class AmexMetric:\n",
    "    \n",
    "    def is_max_optimal(self):\n",
    "        return True\n",
    "\n",
    "    def evaluate(self, approxes, target, weight):    \n",
    "        assert len(approxes) == 1\n",
    "        assert len(target) == len(approxes[0])\n",
    "        scores = approxes[0]\n",
    "        target = target\n",
    "        return compute_amex_metric(target, scores), 1.\n",
    "\n",
    "    def get_final_error(self, error, weight):\n",
    "        return error\n",
    "\n",
    "class RecallAt4:\n",
    "    \n",
    "    def is_max_optimal(self):\n",
    "        return True\n",
    "\n",
    "    def evaluate(self, approxes, target, weight):\n",
    "        assert len(approxes) == 1\n",
    "        assert len(target) == len(approxes[0])\n",
    "        scores = np.array(approxes[0])\n",
    "        target = np.array(target)                                   \n",
    "        return compute_recall_at4(target, scores), 1.\n",
    "\n",
    "    def get_final_error(self, error, weight):\n",
    "        return error\n",
    "\n",
    "class NormGini:\n",
    "    \n",
    "    def is_max_optimal(self):\n",
    "        return True\n",
    "\n",
    "    def evaluate(self, approxes, target, weight):\n",
    "        assert len(approxes) == 1\n",
    "        assert len(target) == len(approxes[0])\n",
    "        scores = np.array(approxes[0])\n",
    "        target = np.array(target)                   \n",
    "        return compute_normalized_gini(target, scores), 1.\n",
    "\n",
    "    def get_final_error(self, error, weight):\n",
    "        return error"
   ]
  },
  {
   "cell_type": "code",
   "execution_count": 3,
   "id": "452d82dc",
   "metadata": {
    "execution": {
     "iopub.execute_input": "2022-08-24T02:54:21.179079Z",
     "iopub.status.busy": "2022-08-24T02:54:21.178569Z",
     "iopub.status.idle": "2022-08-24T02:54:21.180741Z",
     "shell.execute_reply": "2022-08-24T02:54:21.180239Z"
    },
    "papermill": {
     "duration": 0.015685,
     "end_time": "2022-08-24T02:54:21.180855",
     "exception": false,
     "start_time": "2022-08-24T02:54:21.165170",
     "status": "completed"
    },
    "tags": []
   },
   "outputs": [],
   "source": [
    "# CONFIG PARAMS\n",
    "N_REPEATS = 5\n",
    "DATASET_VERSION = \"08\""
   ]
  },
  {
   "cell_type": "code",
   "execution_count": 4,
   "id": "e1b4bdc3",
   "metadata": {
    "execution": {
     "iopub.execute_input": "2022-08-24T02:54:21.205977Z",
     "iopub.status.busy": "2022-08-24T02:54:21.205344Z",
     "iopub.status.idle": "2022-08-24T02:54:21.208042Z",
     "shell.execute_reply": "2022-08-24T02:54:21.207573Z"
    },
    "papermill": {
     "duration": 0.01697,
     "end_time": "2022-08-24T02:54:21.208155",
     "exception": false,
     "start_time": "2022-08-24T02:54:21.191185",
     "status": "completed"
    },
    "tags": []
   },
   "outputs": [],
   "source": [
    "OOF_PATH = Path(f\"../data/oof/catboost-dsv{DATASET_VERSION}\")\n",
    "SUB_PATH = Path(f\"../data/subs/catboost-dsv{DATASET_VERSION}\")\n",
    "ART_PATH = Path(f\"../artifacts/catboost-dsv{DATASET_VERSION}\")\n",
    "\n",
    "if not OOF_PATH.exists():\n",
    "    OOF_PATH.mkdir(parents=True, exist_ok=True)\n",
    "if not SUB_PATH.exists():\n",
    "    SUB_PATH.mkdir(parents=True, exist_ok=True)\n",
    "if not ART_PATH.exists():\n",
    "    ART_PATH.mkdir(parents=True, exist_ok=True)"
   ]
  },
  {
   "cell_type": "markdown",
   "id": "f00a2c3e",
   "metadata": {
    "papermill": {
     "duration": 0.010383,
     "end_time": "2022-08-24T02:54:21.228940",
     "exception": false,
     "start_time": "2022-08-24T02:54:21.218557",
     "status": "completed"
    },
    "tags": []
   },
   "source": [
    "***\n",
    "## load and prepare data"
   ]
  },
  {
   "cell_type": "code",
   "execution_count": 5,
   "id": "59010561",
   "metadata": {
    "execution": {
     "iopub.execute_input": "2022-08-24T02:54:21.253557Z",
     "iopub.status.busy": "2022-08-24T02:54:21.253066Z",
     "iopub.status.idle": "2022-08-24T02:54:23.038059Z",
     "shell.execute_reply": "2022-08-24T02:54:23.037535Z"
    },
    "papermill": {
     "duration": 1.798688,
     "end_time": "2022-08-24T02:54:23.038210",
     "exception": false,
     "start_time": "2022-08-24T02:54:21.239522",
     "status": "completed"
    },
    "tags": []
   },
   "outputs": [],
   "source": [
    "train = pd.read_parquet(f\"../data/processed/dsv{DATASET_VERSION}/train.parquet\")\n",
    "train_labels = pd.read_csv(\"../data/raw/train_labels.csv\", index_col=\"customer_ID\")"
   ]
  },
  {
   "cell_type": "code",
   "execution_count": 6,
   "id": "37f22fb8",
   "metadata": {
    "execution": {
     "iopub.execute_input": "2022-08-24T02:54:23.066216Z",
     "iopub.status.busy": "2022-08-24T02:54:23.065695Z",
     "iopub.status.idle": "2022-08-24T02:54:23.068300Z",
     "shell.execute_reply": "2022-08-24T02:54:23.068664Z"
    },
    "papermill": {
     "duration": 0.019589,
     "end_time": "2022-08-24T02:54:23.068819",
     "exception": false,
     "start_time": "2022-08-24T02:54:23.049230",
     "status": "completed"
    },
    "tags": []
   },
   "outputs": [
    {
     "data": {
      "text/plain": [
       "1149"
      ]
     },
     "execution_count": 6,
     "metadata": {},
     "output_type": "execute_result"
    }
   ],
   "source": [
    "input_feats = train.columns.tolist()\n",
    "len(input_feats)"
   ]
  },
  {
   "cell_type": "code",
   "execution_count": 7,
   "id": "23328a3f",
   "metadata": {
    "execution": {
     "iopub.execute_input": "2022-08-24T02:54:23.310326Z",
     "iopub.status.busy": "2022-08-24T02:54:23.265468Z",
     "iopub.status.idle": "2022-08-24T02:54:25.074685Z",
     "shell.execute_reply": "2022-08-24T02:54:25.074164Z"
    },
    "papermill": {
     "duration": 1.994649,
     "end_time": "2022-08-24T02:54:25.074821",
     "exception": false,
     "start_time": "2022-08-24T02:54:23.080172",
     "status": "completed"
    },
    "tags": []
   },
   "outputs": [
    {
     "data": {
      "text/plain": [
       "0"
      ]
     },
     "execution_count": 7,
     "metadata": {},
     "output_type": "execute_result"
    }
   ],
   "source": [
    "train = pd.merge(train, train_labels, how=\"inner\", left_index=True, right_index=True)\n",
    "del train_labels\n",
    "gc.collect()"
   ]
  },
  {
   "cell_type": "markdown",
   "id": "5f5b08ed",
   "metadata": {
    "papermill": {
     "duration": 0.011711,
     "end_time": "2022-08-24T02:54:25.098626",
     "exception": false,
     "start_time": "2022-08-24T02:54:25.086915",
     "status": "completed"
    },
    "tags": []
   },
   "source": [
    "***\n",
    "## model training\n",
    "\n",
    "train with repeated cross validation"
   ]
  },
  {
   "cell_type": "code",
   "execution_count": 8,
   "id": "18cfbebb",
   "metadata": {
    "execution": {
     "iopub.execute_input": "2022-08-24T02:54:25.127141Z",
     "iopub.status.busy": "2022-08-24T02:54:25.126581Z",
     "iopub.status.idle": "2022-08-24T02:54:25.128504Z",
     "shell.execute_reply": "2022-08-24T02:54:25.128100Z"
    },
    "papermill": {
     "duration": 0.018413,
     "end_time": "2022-08-24T02:54:25.128633",
     "exception": false,
     "start_time": "2022-08-24T02:54:25.110220",
     "status": "completed"
    },
    "tags": []
   },
   "outputs": [],
   "source": [
    "model_params = {\n",
    "    'eval_metric':AmexMetric(),\n",
    "    'learning_rate': 0.05,\n",
    "    'nan_mode':'Min',\n",
    "    'random_seed': 2112,\n",
    "    'auto_class_weights': None,\n",
    "    'bootstrap_type': 'Bernoulli',\n",
    "    'depth': 6,\n",
    "    'rsm': 0.1,\n",
    "    'iterations': 5000,\n",
    "    'l2_leaf_reg': 37.05327214190692,\n",
    "    'min_data_in_leaf': 600,\n",
    "    'random_strength': 27.64341860474617,\n",
    "    'subsample': 0.9,\n",
    "    # early stopping\n",
    "    'early_stopping_rounds':5000,\n",
    "    'use_best_model': False,\n",
    "}"
   ]
  },
  {
   "cell_type": "code",
   "execution_count": 9,
   "id": "f75f1b0b",
   "metadata": {
    "execution": {
     "iopub.execute_input": "2022-08-24T02:54:25.161307Z",
     "iopub.status.busy": "2022-08-24T02:54:25.160691Z",
     "iopub.status.idle": "2022-08-24T02:54:25.162749Z",
     "shell.execute_reply": "2022-08-24T02:54:25.162255Z"
    },
    "papermill": {
     "duration": 0.022382,
     "end_time": "2022-08-24T02:54:25.162876",
     "exception": false,
     "start_time": "2022-08-24T02:54:25.140494",
     "status": "completed"
    },
    "tags": []
   },
   "outputs": [],
   "source": [
    "def train_models(dataframe: pd.DataFrame, n_folds: int = 5,) -> tuple:\n",
    "    \n",
    "    models = list()\n",
    "    \n",
    "    # dataframe to store the oof predictions\n",
    "    oof = dataframe[[\"target\"]].copy()\n",
    "    oof[\"pred\"] = -1\n",
    "\n",
    "    for fold in range(n_folds):\n",
    "        \n",
    "        seed = repetition*5 + fold\n",
    "        _model_params = dict(model_params)\n",
    "        _model_params[\"random_seed\"] = seed\n",
    "        \n",
    "        print(f\" training model {fold+1}/{n_folds} \".center(100, \"#\"))\n",
    "        print(\"seed:\", seed)\n",
    "        \n",
    "        train_df = dataframe.query(\"fold != @fold\").copy()\n",
    "        valid_df = dataframe.query(\"fold == @fold\").copy()\n",
    "                \n",
    "        train_dset = catboost.Pool(\n",
    "            data=train_df.loc[:,input_feats],\n",
    "            label=train_df.loc[:,\"target\"].values,\n",
    "        )\n",
    "        valid_dset = catboost.Pool(\n",
    "            data=valid_df.loc[:,input_feats],\n",
    "            label=valid_df.loc[:,\"target\"].values,\n",
    "        )\n",
    "        \n",
    "        model = catboost.CatBoostClassifier(**_model_params)\n",
    "        model.fit(\n",
    "            train_dset,\n",
    "            eval_set=valid_dset,\n",
    "            verbose=50,\n",
    "        )     \n",
    "        \n",
    "        oof.loc[valid_df.index,\"pred\"] = model.predict(valid_dset, prediction_type=\"Probability\")[:,1]\n",
    "        \n",
    "        models.append(model)\n",
    "        del train_df,valid_df,train_dset,valid_dset\n",
    "        gc.collect()\n",
    "    \n",
    "    return models,oof"
   ]
  },
  {
   "cell_type": "code",
   "execution_count": 10,
   "id": "768db2c6",
   "metadata": {
    "execution": {
     "iopub.execute_input": "2022-08-24T02:54:25.190591Z",
     "iopub.status.busy": "2022-08-24T02:54:25.190077Z",
     "iopub.status.idle": "2022-08-24T02:54:25.193340Z",
     "shell.execute_reply": "2022-08-24T02:54:25.193691Z"
    },
    "papermill": {
     "duration": 0.019134,
     "end_time": "2022-08-24T02:54:25.193855",
     "exception": false,
     "start_time": "2022-08-24T02:54:25.174721",
     "status": "completed"
    },
    "tags": []
   },
   "outputs": [
    {
     "data": {
      "text/plain": [
       "['../data/processed/cv0.csv',\n",
       " '../data/processed/cv1.csv',\n",
       " '../data/processed/cv2.csv',\n",
       " '../data/processed/cv3.csv',\n",
       " '../data/processed/cv4.csv',\n",
       " '../data/processed/cv5.csv',\n",
       " '../data/processed/cv6.csv',\n",
       " '../data/processed/cv7.csv',\n",
       " '../data/processed/cv8.csv',\n",
       " '../data/processed/cv9.csv']"
      ]
     },
     "execution_count": 10,
     "metadata": {},
     "output_type": "execute_result"
    }
   ],
   "source": [
    "# implement repeated cross validation\n",
    "sorted(glob(\"../data/processed/cv*.csv\"))"
   ]
  },
  {
   "cell_type": "code",
   "execution_count": 11,
   "id": "cc2094aa",
   "metadata": {
    "execution": {
     "iopub.execute_input": "2022-08-24T02:54:25.225826Z",
     "iopub.status.busy": "2022-08-24T02:54:25.225240Z",
     "iopub.status.idle": "2022-08-24T07:19:11.817925Z",
     "shell.execute_reply": "2022-08-24T07:19:11.817494Z"
    },
    "papermill": {
     "duration": 15886.611682,
     "end_time": "2022-08-24T07:19:11.818076",
     "exception": false,
     "start_time": "2022-08-24T02:54:25.206394",
     "status": "completed"
    },
    "tags": []
   },
   "outputs": [
    {
     "name": "stdout",
     "output_type": "stream",
     "text": [
      "############################### repeated cross-validation step: 1/5 ################################\n"
     ]
    },
    {
     "name": "stdout",
     "output_type": "stream",
     "text": [
      "######################################## training model 1/5 ########################################\n",
      "seed: 0\n"
     ]
    },
    {
     "name": "stdout",
     "output_type": "stream",
     "text": [
      "0:\tlearn: 0.4684901\ttest: 0.4679450\tbest: 0.4679450 (0)\ttotal: 2.8s\tremaining: 3h 53m 8s\n"
     ]
    },
    {
     "name": "stdout",
     "output_type": "stream",
     "text": [
      "50:\tlearn: 0.7404698\ttest: 0.7451579\tbest: 0.7451579 (50)\ttotal: 8.93s\tremaining: 14m 26s\n"
     ]
    },
    {
     "name": "stdout",
     "output_type": "stream",
     "text": [
      "100:\tlearn: 0.7538769\ttest: 0.7578206\tbest: 0.7578206 (100)\ttotal: 15.1s\tremaining: 12m 14s\n"
     ]
    },
    {
     "name": "stdout",
     "output_type": "stream",
     "text": [
      "150:\tlearn: 0.7614101\ttest: 0.7649372\tbest: 0.7652630 (149)\ttotal: 21.4s\tremaining: 11m 25s\n"
     ]
    },
    {
     "name": "stdout",
     "output_type": "stream",
     "text": [
      "200:\tlearn: 0.7660940\ttest: 0.7691521\tbest: 0.7691921 (194)\ttotal: 27.6s\tremaining: 10m 58s\n"
     ]
    },
    {
     "name": "stdout",
     "output_type": "stream",
     "text": [
      "250:\tlearn: 0.7699420\ttest: 0.7723779\tbest: 0.7727075 (244)\ttotal: 33.8s\tremaining: 10m 38s\n"
     ]
    },
    {
     "name": "stdout",
     "output_type": "stream",
     "text": [
      "300:\tlearn: 0.7752529\ttest: 0.7772309\tbest: 0.7772309 (300)\ttotal: 40s\tremaining: 10m 24s\n"
     ]
    },
    {
     "name": "stdout",
     "output_type": "stream",
     "text": [
      "350:\tlearn: 0.7827401\ttest: 0.7830628\tbest: 0.7830628 (350)\ttotal: 46.2s\tremaining: 10m 12s\n"
     ]
    },
    {
     "name": "stdout",
     "output_type": "stream",
     "text": [
      "400:\tlearn: 0.7867067\ttest: 0.7860158\tbest: 0.7860159 (398)\ttotal: 52.4s\tremaining: 10m 1s\n"
     ]
    },
    {
     "name": "stdout",
     "output_type": "stream",
     "text": [
      "450:\tlearn: 0.7899684\ttest: 0.7876791\tbest: 0.7883295 (444)\ttotal: 58.7s\tremaining: 9m 51s\n"
     ]
    },
    {
     "name": "stdout",
     "output_type": "stream",
     "text": [
      "500:\tlearn: 0.7920658\ttest: 0.7897500\tbest: 0.7897500 (500)\ttotal: 1m 4s\tremaining: 9m 42s\n"
     ]
    },
    {
     "name": "stdout",
     "output_type": "stream",
     "text": [
      "550:\tlearn: 0.7944764\ttest: 0.7903354\tbest: 0.7905326 (547)\ttotal: 1m 11s\tremaining: 9m 33s\n"
     ]
    },
    {
     "name": "stdout",
     "output_type": "stream",
     "text": [
      "600:\tlearn: 0.7967520\ttest: 0.7909219\tbest: 0.7913526 (575)\ttotal: 1m 17s\tremaining: 9m 25s\n"
     ]
    },
    {
     "name": "stdout",
     "output_type": "stream",
     "text": [
      "650:\tlearn: 0.7992341\ttest: 0.7919864\tbest: 0.7920922 (640)\ttotal: 1m 23s\tremaining: 9m 17s\n"
     ]
    },
    {
     "name": "stdout",
     "output_type": "stream",
     "text": [
      "700:\tlearn: 0.8007670\ttest: 0.7923090\tbest: 0.7924359 (661)\ttotal: 1m 29s\tremaining: 9m 10s\n"
     ]
    },
    {
     "name": "stdout",
     "output_type": "stream",
     "text": [
      "750:\tlearn: 0.8027291\ttest: 0.7930783\tbest: 0.7930783 (750)\ttotal: 1m 35s\tremaining: 9m 2s\n"
     ]
    },
    {
     "name": "stdout",
     "output_type": "stream",
     "text": [
      "800:\tlearn: 0.8041997\ttest: 0.7934669\tbest: 0.7936705 (785)\ttotal: 1m 42s\tremaining: 8m 55s\n"
     ]
    },
    {
     "name": "stdout",
     "output_type": "stream",
     "text": [
      "850:\tlearn: 0.8058151\ttest: 0.7934025\tbest: 0.7938458 (813)\ttotal: 1m 48s\tremaining: 8m 48s\n"
     ]
    },
    {
     "name": "stdout",
     "output_type": "stream",
     "text": [
      "900:\tlearn: 0.8074944\ttest: 0.7938662\tbest: 0.7939048 (899)\ttotal: 1m 54s\tremaining: 8m 41s\n"
     ]
    },
    {
     "name": "stdout",
     "output_type": "stream",
     "text": [
      "950:\tlearn: 0.8088890\ttest: 0.7940949\tbest: 0.7943608 (942)\ttotal: 2m\tremaining: 8m 34s\n"
     ]
    },
    {
     "name": "stdout",
     "output_type": "stream",
     "text": [
      "1000:\tlearn: 0.8105387\ttest: 0.7948115\tbest: 0.7948451 (995)\ttotal: 2m 7s\tremaining: 8m 27s\n"
     ]
    },
    {
     "name": "stdout",
     "output_type": "stream",
     "text": [
      "1050:\tlearn: 0.8120161\ttest: 0.7950688\tbest: 0.7952484 (1034)\ttotal: 2m 13s\tremaining: 8m 20s\n"
     ]
    },
    {
     "name": "stdout",
     "output_type": "stream",
     "text": [
      "1100:\tlearn: 0.8137583\ttest: 0.7949668\tbest: 0.7954559 (1076)\ttotal: 2m 19s\tremaining: 8m 13s\n"
     ]
    },
    {
     "name": "stdout",
     "output_type": "stream",
     "text": [
      "1150:\tlearn: 0.8148588\ttest: 0.7954216\tbest: 0.7954559 (1076)\ttotal: 2m 25s\tremaining: 8m 7s\n"
     ]
    },
    {
     "name": "stdout",
     "output_type": "stream",
     "text": [
      "1200:\tlearn: 0.8161961\ttest: 0.7951647\tbest: 0.7956897 (1161)\ttotal: 2m 31s\tremaining: 8m\n"
     ]
    },
    {
     "name": "stdout",
     "output_type": "stream",
     "text": [
      "1250:\tlearn: 0.8174667\ttest: 0.7956538\tbest: 0.7957103 (1247)\ttotal: 2m 38s\tremaining: 7m 53s\n"
     ]
    },
    {
     "name": "stdout",
     "output_type": "stream",
     "text": [
      "1300:\tlearn: 0.8189290\ttest: 0.7954347\tbest: 0.7957103 (1247)\ttotal: 2m 44s\tremaining: 7m 47s\n"
     ]
    },
    {
     "name": "stdout",
     "output_type": "stream",
     "text": [
      "1350:\tlearn: 0.8206232\ttest: 0.7960076\tbest: 0.7960076 (1350)\ttotal: 2m 50s\tremaining: 7m 40s\n"
     ]
    },
    {
     "name": "stdout",
     "output_type": "stream",
     "text": [
      "1400:\tlearn: 0.8220282\ttest: 0.7961038\tbest: 0.7964064 (1382)\ttotal: 2m 56s\tremaining: 7m 34s\n"
     ]
    },
    {
     "name": "stdout",
     "output_type": "stream",
     "text": [
      "1450:\tlearn: 0.8233999\ttest: 0.7960429\tbest: 0.7965399 (1430)\ttotal: 3m 3s\tremaining: 7m 27s\n"
     ]
    },
    {
     "name": "stdout",
     "output_type": "stream",
     "text": [
      "1500:\tlearn: 0.8244247\ttest: 0.7962344\tbest: 0.7965399 (1430)\ttotal: 3m 9s\tremaining: 7m 21s\n"
     ]
    },
    {
     "name": "stdout",
     "output_type": "stream",
     "text": [
      "1550:\tlearn: 0.8255656\ttest: 0.7962200\tbest: 0.7965399 (1430)\ttotal: 3m 15s\tremaining: 7m 14s\n"
     ]
    },
    {
     "name": "stdout",
     "output_type": "stream",
     "text": [
      "1600:\tlearn: 0.8266593\ttest: 0.7960083\tbest: 0.7965399 (1430)\ttotal: 3m 21s\tremaining: 7m 7s\n"
     ]
    },
    {
     "name": "stdout",
     "output_type": "stream",
     "text": [
      "1650:\tlearn: 0.8276851\ttest: 0.7959492\tbest: 0.7965399 (1430)\ttotal: 3m 27s\tremaining: 7m 1s\n"
     ]
    },
    {
     "name": "stdout",
     "output_type": "stream",
     "text": [
      "1700:\tlearn: 0.8289023\ttest: 0.7958052\tbest: 0.7965399 (1430)\ttotal: 3m 34s\tremaining: 6m 55s\n"
     ]
    },
    {
     "name": "stdout",
     "output_type": "stream",
     "text": [
      "1750:\tlearn: 0.8299091\ttest: 0.7960717\tbest: 0.7965399 (1430)\ttotal: 3m 40s\tremaining: 6m 48s\n"
     ]
    },
    {
     "name": "stdout",
     "output_type": "stream",
     "text": [
      "1800:\tlearn: 0.8311154\ttest: 0.7957757\tbest: 0.7965399 (1430)\ttotal: 3m 46s\tremaining: 6m 42s\n"
     ]
    },
    {
     "name": "stdout",
     "output_type": "stream",
     "text": [
      "1850:\tlearn: 0.8325186\ttest: 0.7957665\tbest: 0.7965399 (1430)\ttotal: 3m 52s\tremaining: 6m 35s\n"
     ]
    },
    {
     "name": "stdout",
     "output_type": "stream",
     "text": [
      "1900:\tlearn: 0.8335050\ttest: 0.7956865\tbest: 0.7965399 (1430)\ttotal: 3m 58s\tremaining: 6m 29s\n"
     ]
    },
    {
     "name": "stdout",
     "output_type": "stream",
     "text": [
      "1950:\tlearn: 0.8348356\ttest: 0.7963342\tbest: 0.7965399 (1430)\ttotal: 4m 5s\tremaining: 6m 23s\n"
     ]
    },
    {
     "name": "stdout",
     "output_type": "stream",
     "text": [
      "2000:\tlearn: 0.8359876\ttest: 0.7969161\tbest: 0.7969994 (1997)\ttotal: 4m 11s\tremaining: 6m 16s\n"
     ]
    },
    {
     "name": "stdout",
     "output_type": "stream",
     "text": [
      "2050:\tlearn: 0.8368899\ttest: 0.7969514\tbest: 0.7969994 (1997)\ttotal: 4m 17s\tremaining: 6m 10s\n"
     ]
    },
    {
     "name": "stdout",
     "output_type": "stream",
     "text": [
      "2100:\tlearn: 0.8379182\ttest: 0.7969742\tbest: 0.7973110 (2069)\ttotal: 4m 23s\tremaining: 6m 3s\n"
     ]
    },
    {
     "name": "stdout",
     "output_type": "stream",
     "text": [
      "2150:\tlearn: 0.8389310\ttest: 0.7971241\tbest: 0.7973717 (2139)\ttotal: 4m 29s\tremaining: 5m 57s\n"
     ]
    },
    {
     "name": "stdout",
     "output_type": "stream",
     "text": [
      "2200:\tlearn: 0.8400404\ttest: 0.7970323\tbest: 0.7973717 (2139)\ttotal: 4m 36s\tremaining: 5m 51s\n"
     ]
    },
    {
     "name": "stdout",
     "output_type": "stream",
     "text": [
      "2250:\tlearn: 0.8412896\ttest: 0.7966887\tbest: 0.7973717 (2139)\ttotal: 4m 42s\tremaining: 5m 44s\n"
     ]
    },
    {
     "name": "stdout",
     "output_type": "stream",
     "text": [
      "2300:\tlearn: 0.8421884\ttest: 0.7967687\tbest: 0.7973717 (2139)\ttotal: 4m 48s\tremaining: 5m 38s\n"
     ]
    },
    {
     "name": "stdout",
     "output_type": "stream",
     "text": [
      "2350:\tlearn: 0.8432090\ttest: 0.7970727\tbest: 0.7973717 (2139)\ttotal: 4m 54s\tremaining: 5m 32s\n"
     ]
    },
    {
     "name": "stdout",
     "output_type": "stream",
     "text": [
      "2400:\tlearn: 0.8444293\ttest: 0.7970784\tbest: 0.7973717 (2139)\ttotal: 5m 1s\tremaining: 5m 25s\n"
     ]
    },
    {
     "name": "stdout",
     "output_type": "stream",
     "text": [
      "2450:\tlearn: 0.8455255\ttest: 0.7971356\tbest: 0.7973717 (2139)\ttotal: 5m 7s\tremaining: 5m 19s\n"
     ]
    },
    {
     "name": "stdout",
     "output_type": "stream",
     "text": [
      "2500:\tlearn: 0.8464544\ttest: 0.7972038\tbest: 0.7974948 (2456)\ttotal: 5m 13s\tremaining: 5m 13s\n"
     ]
    },
    {
     "name": "stdout",
     "output_type": "stream",
     "text": [
      "2550:\tlearn: 0.8474174\ttest: 0.7972486\tbest: 0.7974948 (2456)\ttotal: 5m 20s\tremaining: 5m 7s\n"
     ]
    },
    {
     "name": "stdout",
     "output_type": "stream",
     "text": [
      "2600:\tlearn: 0.8486637\ttest: 0.7967312\tbest: 0.7974948 (2456)\ttotal: 5m 26s\tremaining: 5m 1s\n"
     ]
    },
    {
     "name": "stdout",
     "output_type": "stream",
     "text": [
      "2650:\tlearn: 0.8497458\ttest: 0.7965435\tbest: 0.7974948 (2456)\ttotal: 5m 32s\tremaining: 4m 54s\n"
     ]
    },
    {
     "name": "stdout",
     "output_type": "stream",
     "text": [
      "2700:\tlearn: 0.8510477\ttest: 0.7964612\tbest: 0.7974948 (2456)\ttotal: 5m 39s\tremaining: 4m 48s\n"
     ]
    },
    {
     "name": "stdout",
     "output_type": "stream",
     "text": [
      "2750:\tlearn: 0.8518297\ttest: 0.7965659\tbest: 0.7974948 (2456)\ttotal: 5m 45s\tremaining: 4m 42s\n"
     ]
    },
    {
     "name": "stdout",
     "output_type": "stream",
     "text": [
      "2800:\tlearn: 0.8526656\ttest: 0.7971591\tbest: 0.7974948 (2456)\ttotal: 5m 51s\tremaining: 4m 36s\n"
     ]
    },
    {
     "name": "stdout",
     "output_type": "stream",
     "text": [
      "2850:\tlearn: 0.8537906\ttest: 0.7977261\tbest: 0.7977411 (2835)\ttotal: 5m 57s\tremaining: 4m 29s\n"
     ]
    },
    {
     "name": "stdout",
     "output_type": "stream",
     "text": [
      "2900:\tlearn: 0.8549167\ttest: 0.7974028\tbest: 0.7979181 (2862)\ttotal: 6m 4s\tremaining: 4m 23s\n"
     ]
    },
    {
     "name": "stdout",
     "output_type": "stream",
     "text": [
      "2950:\tlearn: 0.8557283\ttest: 0.7974715\tbest: 0.7979181 (2862)\ttotal: 6m 10s\tremaining: 4m 17s\n"
     ]
    },
    {
     "name": "stdout",
     "output_type": "stream",
     "text": [
      "3000:\tlearn: 0.8566870\ttest: 0.7969413\tbest: 0.7979181 (2862)\ttotal: 6m 16s\tremaining: 4m 10s\n"
     ]
    },
    {
     "name": "stdout",
     "output_type": "stream",
     "text": [
      "3050:\tlearn: 0.8577796\ttest: 0.7975049\tbest: 0.7979181 (2862)\ttotal: 6m 23s\tremaining: 4m 4s\n"
     ]
    },
    {
     "name": "stdout",
     "output_type": "stream",
     "text": [
      "3100:\tlearn: 0.8587824\ttest: 0.7972363\tbest: 0.7979181 (2862)\ttotal: 6m 29s\tremaining: 3m 58s\n"
     ]
    },
    {
     "name": "stdout",
     "output_type": "stream",
     "text": [
      "3150:\tlearn: 0.8595032\ttest: 0.7973122\tbest: 0.7979181 (2862)\ttotal: 6m 35s\tremaining: 3m 52s\n"
     ]
    },
    {
     "name": "stdout",
     "output_type": "stream",
     "text": [
      "3200:\tlearn: 0.8605560\ttest: 0.7970036\tbest: 0.7979181 (2862)\ttotal: 6m 41s\tremaining: 3m 45s\n"
     ]
    },
    {
     "name": "stdout",
     "output_type": "stream",
     "text": [
      "3250:\tlearn: 0.8615082\ttest: 0.7971345\tbest: 0.7979181 (2862)\ttotal: 6m 48s\tremaining: 3m 39s\n"
     ]
    },
    {
     "name": "stdout",
     "output_type": "stream",
     "text": [
      "3300:\tlearn: 0.8622619\ttest: 0.7969279\tbest: 0.7979181 (2862)\ttotal: 6m 54s\tremaining: 3m 33s\n"
     ]
    },
    {
     "name": "stdout",
     "output_type": "stream",
     "text": [
      "3350:\tlearn: 0.8629771\ttest: 0.7970019\tbest: 0.7979181 (2862)\ttotal: 7m\tremaining: 3m 27s\n"
     ]
    },
    {
     "name": "stdout",
     "output_type": "stream",
     "text": [
      "3400:\tlearn: 0.8640313\ttest: 0.7975374\tbest: 0.7979181 (2862)\ttotal: 7m 7s\tremaining: 3m 20s\n"
     ]
    },
    {
     "name": "stdout",
     "output_type": "stream",
     "text": [
      "3450:\tlearn: 0.8649633\ttest: 0.7973078\tbest: 0.7979181 (2862)\ttotal: 7m 13s\tremaining: 3m 14s\n"
     ]
    },
    {
     "name": "stdout",
     "output_type": "stream",
     "text": [
      "3500:\tlearn: 0.8658810\ttest: 0.7976579\tbest: 0.7979181 (2862)\ttotal: 7m 19s\tremaining: 3m 8s\n"
     ]
    },
    {
     "name": "stdout",
     "output_type": "stream",
     "text": [
      "3550:\tlearn: 0.8667866\ttest: 0.7970999\tbest: 0.7979181 (2862)\ttotal: 7m 25s\tremaining: 3m 1s\n"
     ]
    },
    {
     "name": "stdout",
     "output_type": "stream",
     "text": [
      "3600:\tlearn: 0.8676463\ttest: 0.7971021\tbest: 0.7979181 (2862)\ttotal: 7m 32s\tremaining: 2m 55s\n"
     ]
    },
    {
     "name": "stdout",
     "output_type": "stream",
     "text": [
      "3650:\tlearn: 0.8685368\ttest: 0.7973309\tbest: 0.7979181 (2862)\ttotal: 7m 38s\tremaining: 2m 49s\n"
     ]
    },
    {
     "name": "stdout",
     "output_type": "stream",
     "text": [
      "3700:\tlearn: 0.8695078\ttest: 0.7974543\tbest: 0.7979181 (2862)\ttotal: 7m 44s\tremaining: 2m 43s\n"
     ]
    },
    {
     "name": "stdout",
     "output_type": "stream",
     "text": [
      "3750:\tlearn: 0.8703119\ttest: 0.7976905\tbest: 0.7980441 (3715)\ttotal: 7m 51s\tremaining: 2m 36s\n"
     ]
    },
    {
     "name": "stdout",
     "output_type": "stream",
     "text": [
      "3800:\tlearn: 0.8711123\ttest: 0.7976651\tbest: 0.7980441 (3715)\ttotal: 7m 57s\tremaining: 2m 30s\n"
     ]
    },
    {
     "name": "stdout",
     "output_type": "stream",
     "text": [
      "3850:\tlearn: 0.8720924\ttest: 0.7975513\tbest: 0.7980441 (3715)\ttotal: 8m 3s\tremaining: 2m 24s\n"
     ]
    },
    {
     "name": "stdout",
     "output_type": "stream",
     "text": [
      "3900:\tlearn: 0.8728429\ttest: 0.7970835\tbest: 0.7980441 (3715)\ttotal: 8m 10s\tremaining: 2m 18s\n"
     ]
    },
    {
     "name": "stdout",
     "output_type": "stream",
     "text": [
      "3950:\tlearn: 0.8736070\ttest: 0.7972374\tbest: 0.7980441 (3715)\ttotal: 8m 16s\tremaining: 2m 11s\n"
     ]
    },
    {
     "name": "stdout",
     "output_type": "stream",
     "text": [
      "4000:\tlearn: 0.8744817\ttest: 0.7970050\tbest: 0.7980441 (3715)\ttotal: 8m 22s\tremaining: 2m 5s\n"
     ]
    },
    {
     "name": "stdout",
     "output_type": "stream",
     "text": [
      "4050:\tlearn: 0.8754565\ttest: 0.7974760\tbest: 0.7980441 (3715)\ttotal: 8m 29s\tremaining: 1m 59s\n"
     ]
    },
    {
     "name": "stdout",
     "output_type": "stream",
     "text": [
      "4100:\tlearn: 0.8764433\ttest: 0.7969240\tbest: 0.7980441 (3715)\ttotal: 8m 35s\tremaining: 1m 53s\n"
     ]
    },
    {
     "name": "stdout",
     "output_type": "stream",
     "text": [
      "4150:\tlearn: 0.8772854\ttest: 0.7969110\tbest: 0.7980441 (3715)\ttotal: 8m 41s\tremaining: 1m 46s\n"
     ]
    },
    {
     "name": "stdout",
     "output_type": "stream",
     "text": [
      "4200:\tlearn: 0.8782657\ttest: 0.7968222\tbest: 0.7980441 (3715)\ttotal: 8m 48s\tremaining: 1m 40s\n"
     ]
    },
    {
     "name": "stdout",
     "output_type": "stream",
     "text": [
      "4250:\tlearn: 0.8791404\ttest: 0.7971455\tbest: 0.7980441 (3715)\ttotal: 8m 54s\tremaining: 1m 34s\n"
     ]
    },
    {
     "name": "stdout",
     "output_type": "stream",
     "text": [
      "4300:\tlearn: 0.8798163\ttest: 0.7968458\tbest: 0.7980441 (3715)\ttotal: 9m\tremaining: 1m 27s\n"
     ]
    },
    {
     "name": "stdout",
     "output_type": "stream",
     "text": [
      "4350:\tlearn: 0.8807917\ttest: 0.7968149\tbest: 0.7980441 (3715)\ttotal: 9m 7s\tremaining: 1m 21s\n"
     ]
    },
    {
     "name": "stdout",
     "output_type": "stream",
     "text": [
      "4400:\tlearn: 0.8816335\ttest: 0.7967744\tbest: 0.7980441 (3715)\ttotal: 9m 13s\tremaining: 1m 15s\n"
     ]
    },
    {
     "name": "stdout",
     "output_type": "stream",
     "text": [
      "4450:\tlearn: 0.8825609\ttest: 0.7964912\tbest: 0.7980441 (3715)\ttotal: 9m 19s\tremaining: 1m 9s\n"
     ]
    },
    {
     "name": "stdout",
     "output_type": "stream",
     "text": [
      "4500:\tlearn: 0.8834344\ttest: 0.7964927\tbest: 0.7980441 (3715)\ttotal: 9m 26s\tremaining: 1m 2s\n"
     ]
    },
    {
     "name": "stdout",
     "output_type": "stream",
     "text": [
      "4550:\tlearn: 0.8842265\ttest: 0.7963424\tbest: 0.7980441 (3715)\ttotal: 9m 32s\tremaining: 56.5s\n"
     ]
    },
    {
     "name": "stdout",
     "output_type": "stream",
     "text": [
      "4600:\tlearn: 0.8849698\ttest: 0.7960018\tbest: 0.7980441 (3715)\ttotal: 9m 38s\tremaining: 50.2s\n"
     ]
    },
    {
     "name": "stdout",
     "output_type": "stream",
     "text": [
      "4650:\tlearn: 0.8857209\ttest: 0.7961122\tbest: 0.7980441 (3715)\ttotal: 9m 45s\tremaining: 43.9s\n"
     ]
    },
    {
     "name": "stdout",
     "output_type": "stream",
     "text": [
      "4700:\tlearn: 0.8866824\ttest: 0.7963631\tbest: 0.7980441 (3715)\ttotal: 9m 51s\tremaining: 37.6s\n"
     ]
    },
    {
     "name": "stdout",
     "output_type": "stream",
     "text": [
      "4750:\tlearn: 0.8872459\ttest: 0.7964504\tbest: 0.7980441 (3715)\ttotal: 9m 57s\tremaining: 31.3s\n"
     ]
    },
    {
     "name": "stdout",
     "output_type": "stream",
     "text": [
      "4800:\tlearn: 0.8878747\ttest: 0.7963675\tbest: 0.7980441 (3715)\ttotal: 10m 4s\tremaining: 25s\n"
     ]
    },
    {
     "name": "stdout",
     "output_type": "stream",
     "text": [
      "4850:\tlearn: 0.8887437\ttest: 0.7963249\tbest: 0.7980441 (3715)\ttotal: 10m 10s\tremaining: 18.8s\n"
     ]
    },
    {
     "name": "stdout",
     "output_type": "stream",
     "text": [
      "4900:\tlearn: 0.8894160\ttest: 0.7964349\tbest: 0.7980441 (3715)\ttotal: 10m 16s\tremaining: 12.5s\n"
     ]
    },
    {
     "name": "stdout",
     "output_type": "stream",
     "text": [
      "4950:\tlearn: 0.8904429\ttest: 0.7966610\tbest: 0.7980441 (3715)\ttotal: 10m 23s\tremaining: 6.17s\n"
     ]
    },
    {
     "name": "stdout",
     "output_type": "stream",
     "text": [
      "4999:\tlearn: 0.8912917\ttest: 0.7970805\tbest: 0.7980441 (3715)\ttotal: 10m 29s\tremaining: 0us\n",
      "\n",
      "bestTest = 0.7980441185\n",
      "bestIteration = 3715\n",
      "\n"
     ]
    },
    {
     "name": "stdout",
     "output_type": "stream",
     "text": [
      "######################################## training model 2/5 ########################################\n",
      "seed: 1\n"
     ]
    },
    {
     "name": "stdout",
     "output_type": "stream",
     "text": [
      "0:\tlearn: 0.5733064\ttest: 0.5768270\tbest: 0.5768270 (0)\ttotal: 440ms\tremaining: 36m 40s\n"
     ]
    },
    {
     "name": "stdout",
     "output_type": "stream",
     "text": [
      "50:\tlearn: 0.7406213\ttest: 0.7413972\tbest: 0.7413972 (50)\ttotal: 6.52s\tremaining: 10m 32s\n"
     ]
    },
    {
     "name": "stdout",
     "output_type": "stream",
     "text": [
      "100:\tlearn: 0.7546223\ttest: 0.7546739\tbest: 0.7546739 (100)\ttotal: 12.8s\tremaining: 10m 18s\n"
     ]
    },
    {
     "name": "stdout",
     "output_type": "stream",
     "text": [
      "150:\tlearn: 0.7624469\ttest: 0.7614726\tbest: 0.7614726 (150)\ttotal: 19s\tremaining: 10m 9s\n"
     ]
    },
    {
     "name": "stdout",
     "output_type": "stream",
     "text": [
      "200:\tlearn: 0.7679519\ttest: 0.7663055\tbest: 0.7663971 (199)\ttotal: 25.3s\tremaining: 10m 3s\n"
     ]
    },
    {
     "name": "stdout",
     "output_type": "stream",
     "text": [
      "250:\tlearn: 0.7710595\ttest: 0.7697796\tbest: 0.7697796 (250)\ttotal: 31.5s\tremaining: 9m 55s\n"
     ]
    },
    {
     "name": "stdout",
     "output_type": "stream",
     "text": [
      "300:\tlearn: 0.7758957\ttest: 0.7738533\tbest: 0.7738533 (300)\ttotal: 37.7s\tremaining: 9m 48s\n"
     ]
    },
    {
     "name": "stdout",
     "output_type": "stream",
     "text": [
      "350:\tlearn: 0.7824646\ttest: 0.7801543\tbest: 0.7802443 (349)\ttotal: 43.9s\tremaining: 9m 42s\n"
     ]
    },
    {
     "name": "stdout",
     "output_type": "stream",
     "text": [
      "400:\tlearn: 0.7865292\ttest: 0.7824542\tbest: 0.7827914 (392)\ttotal: 50.2s\tremaining: 9m 35s\n"
     ]
    },
    {
     "name": "stdout",
     "output_type": "stream",
     "text": [
      "450:\tlearn: 0.7896188\ttest: 0.7840805\tbest: 0.7840805 (450)\ttotal: 56.5s\tremaining: 9m 29s\n"
     ]
    },
    {
     "name": "stdout",
     "output_type": "stream",
     "text": [
      "500:\tlearn: 0.7924620\ttest: 0.7855826\tbest: 0.7856980 (498)\ttotal: 1m 2s\tremaining: 9m 23s\n"
     ]
    },
    {
     "name": "stdout",
     "output_type": "stream",
     "text": [
      "550:\tlearn: 0.7946581\ttest: 0.7867479\tbest: 0.7868562 (547)\ttotal: 1m 8s\tremaining: 9m 16s\n"
     ]
    },
    {
     "name": "stdout",
     "output_type": "stream",
     "text": [
      "600:\tlearn: 0.7968003\ttest: 0.7872247\tbest: 0.7873974 (596)\ttotal: 1m 15s\tremaining: 9m 9s\n"
     ]
    },
    {
     "name": "stdout",
     "output_type": "stream",
     "text": [
      "650:\tlearn: 0.7990372\ttest: 0.7884246\tbest: 0.7884246 (650)\ttotal: 1m 21s\tremaining: 9m 3s\n"
     ]
    },
    {
     "name": "stdout",
     "output_type": "stream",
     "text": [
      "700:\tlearn: 0.8009335\ttest: 0.7884579\tbest: 0.7887476 (683)\ttotal: 1m 27s\tremaining: 8m 57s\n"
     ]
    },
    {
     "name": "stdout",
     "output_type": "stream",
     "text": [
      "750:\tlearn: 0.8026115\ttest: 0.7887599\tbest: 0.7890062 (734)\ttotal: 1m 33s\tremaining: 8m 50s\n"
     ]
    },
    {
     "name": "stdout",
     "output_type": "stream",
     "text": [
      "800:\tlearn: 0.8043123\ttest: 0.7896038\tbest: 0.7899654 (784)\ttotal: 1m 40s\tremaining: 8m 44s\n"
     ]
    },
    {
     "name": "stdout",
     "output_type": "stream",
     "text": [
      "850:\tlearn: 0.8060670\ttest: 0.7903574\tbest: 0.7903574 (850)\ttotal: 1m 46s\tremaining: 8m 37s\n"
     ]
    },
    {
     "name": "stdout",
     "output_type": "stream",
     "text": [
      "900:\tlearn: 0.8076983\ttest: 0.7902307\tbest: 0.7906491 (861)\ttotal: 1m 52s\tremaining: 8m 31s\n"
     ]
    },
    {
     "name": "stdout",
     "output_type": "stream",
     "text": [
      "950:\tlearn: 0.8092622\ttest: 0.7904187\tbest: 0.7907505 (929)\ttotal: 1m 58s\tremaining: 8m 25s\n"
     ]
    },
    {
     "name": "stdout",
     "output_type": "stream",
     "text": [
      "1000:\tlearn: 0.8106068\ttest: 0.7909291\tbest: 0.7909291 (1000)\ttotal: 2m 4s\tremaining: 8m 19s\n"
     ]
    },
    {
     "name": "stdout",
     "output_type": "stream",
     "text": [
      "1050:\tlearn: 0.8125064\ttest: 0.7910759\tbest: 0.7913557 (1039)\ttotal: 2m 11s\tremaining: 8m 12s\n"
     ]
    },
    {
     "name": "stdout",
     "output_type": "stream",
     "text": [
      "1100:\tlearn: 0.8138034\ttest: 0.7918937\tbest: 0.7919046 (1094)\ttotal: 2m 17s\tremaining: 8m 6s\n"
     ]
    },
    {
     "name": "stdout",
     "output_type": "stream",
     "text": [
      "1150:\tlearn: 0.8151033\ttest: 0.7917462\tbest: 0.7922149 (1126)\ttotal: 2m 23s\tremaining: 8m\n"
     ]
    },
    {
     "name": "stdout",
     "output_type": "stream",
     "text": [
      "1200:\tlearn: 0.8164496\ttest: 0.7921957\tbest: 0.7922149 (1126)\ttotal: 2m 29s\tremaining: 7m 54s\n"
     ]
    },
    {
     "name": "stdout",
     "output_type": "stream",
     "text": [
      "1250:\tlearn: 0.8177247\ttest: 0.7922448\tbest: 0.7922448 (1250)\ttotal: 2m 36s\tremaining: 7m 47s\n"
     ]
    },
    {
     "name": "stdout",
     "output_type": "stream",
     "text": [
      "1300:\tlearn: 0.8189878\ttest: 0.7931293\tbest: 0.7931293 (1300)\ttotal: 2m 42s\tremaining: 7m 41s\n"
     ]
    },
    {
     "name": "stdout",
     "output_type": "stream",
     "text": [
      "1350:\tlearn: 0.8201339\ttest: 0.7928423\tbest: 0.7931293 (1300)\ttotal: 2m 48s\tremaining: 7m 35s\n"
     ]
    },
    {
     "name": "stdout",
     "output_type": "stream",
     "text": [
      "1400:\tlearn: 0.8214302\ttest: 0.7930521\tbest: 0.7931293 (1300)\ttotal: 2m 54s\tremaining: 7m 29s\n"
     ]
    },
    {
     "name": "stdout",
     "output_type": "stream",
     "text": [
      "1450:\tlearn: 0.8229493\ttest: 0.7928891\tbest: 0.7931293 (1300)\ttotal: 3m 1s\tremaining: 7m 22s\n"
     ]
    },
    {
     "name": "stdout",
     "output_type": "stream",
     "text": [
      "1500:\tlearn: 0.8241707\ttest: 0.7929551\tbest: 0.7932090 (1460)\ttotal: 3m 7s\tremaining: 7m 16s\n"
     ]
    },
    {
     "name": "stdout",
     "output_type": "stream",
     "text": [
      "1550:\tlearn: 0.8255388\ttest: 0.7927515\tbest: 0.7933910 (1528)\ttotal: 3m 13s\tremaining: 7m 10s\n"
     ]
    },
    {
     "name": "stdout",
     "output_type": "stream",
     "text": [
      "1600:\tlearn: 0.8266434\ttest: 0.7928736\tbest: 0.7933910 (1528)\ttotal: 3m 19s\tremaining: 7m 4s\n"
     ]
    },
    {
     "name": "stdout",
     "output_type": "stream",
     "text": [
      "1650:\tlearn: 0.8279318\ttest: 0.7925515\tbest: 0.7933910 (1528)\ttotal: 3m 26s\tremaining: 6m 58s\n"
     ]
    },
    {
     "name": "stdout",
     "output_type": "stream",
     "text": [
      "1700:\tlearn: 0.8290192\ttest: 0.7927097\tbest: 0.7933910 (1528)\ttotal: 3m 32s\tremaining: 6m 51s\n"
     ]
    },
    {
     "name": "stdout",
     "output_type": "stream",
     "text": [
      "1750:\tlearn: 0.8302479\ttest: 0.7925745\tbest: 0.7933910 (1528)\ttotal: 3m 38s\tremaining: 6m 45s\n"
     ]
    },
    {
     "name": "stdout",
     "output_type": "stream",
     "text": [
      "1800:\tlearn: 0.8317462\ttest: 0.7926639\tbest: 0.7933910 (1528)\ttotal: 3m 44s\tremaining: 6m 39s\n"
     ]
    },
    {
     "name": "stdout",
     "output_type": "stream",
     "text": [
      "1850:\tlearn: 0.8324795\ttest: 0.7928100\tbest: 0.7933910 (1528)\ttotal: 3m 51s\tremaining: 6m 33s\n"
     ]
    },
    {
     "name": "stdout",
     "output_type": "stream",
     "text": [
      "1900:\tlearn: 0.8341315\ttest: 0.7928971\tbest: 0.7933910 (1528)\ttotal: 3m 57s\tremaining: 6m 26s\n"
     ]
    },
    {
     "name": "stdout",
     "output_type": "stream",
     "text": [
      "1950:\tlearn: 0.8352699\ttest: 0.7927179\tbest: 0.7933910 (1528)\ttotal: 4m 3s\tremaining: 6m 20s\n"
     ]
    },
    {
     "name": "stdout",
     "output_type": "stream",
     "text": [
      "2000:\tlearn: 0.8367835\ttest: 0.7931201\tbest: 0.7933910 (1528)\ttotal: 4m 9s\tremaining: 6m 14s\n"
     ]
    },
    {
     "name": "stdout",
     "output_type": "stream",
     "text": [
      "2050:\tlearn: 0.8379426\ttest: 0.7934706\tbest: 0.7934706 (2050)\ttotal: 4m 16s\tremaining: 6m 8s\n"
     ]
    },
    {
     "name": "stdout",
     "output_type": "stream",
     "text": [
      "2100:\tlearn: 0.8390182\ttest: 0.7931070\tbest: 0.7934706 (2050)\ttotal: 4m 22s\tremaining: 6m 1s\n"
     ]
    },
    {
     "name": "stdout",
     "output_type": "stream",
     "text": [
      "2150:\tlearn: 0.8402208\ttest: 0.7932642\tbest: 0.7934706 (2050)\ttotal: 4m 28s\tremaining: 5m 55s\n"
     ]
    },
    {
     "name": "stdout",
     "output_type": "stream",
     "text": [
      "2200:\tlearn: 0.8412099\ttest: 0.7933554\tbest: 0.7936025 (2169)\ttotal: 4m 34s\tremaining: 5m 49s\n"
     ]
    },
    {
     "name": "stdout",
     "output_type": "stream",
     "text": [
      "2250:\tlearn: 0.8424388\ttest: 0.7935332\tbest: 0.7936733 (2207)\ttotal: 4m 41s\tremaining: 5m 43s\n"
     ]
    },
    {
     "name": "stdout",
     "output_type": "stream",
     "text": [
      "2300:\tlearn: 0.8435551\ttest: 0.7937065\tbest: 0.7937065 (2300)\ttotal: 4m 47s\tremaining: 5m 36s\n"
     ]
    },
    {
     "name": "stdout",
     "output_type": "stream",
     "text": [
      "2350:\tlearn: 0.8444642\ttest: 0.7932794\tbest: 0.7937728 (2303)\ttotal: 4m 53s\tremaining: 5m 30s\n"
     ]
    },
    {
     "name": "stdout",
     "output_type": "stream",
     "text": [
      "2400:\tlearn: 0.8454824\ttest: 0.7933853\tbest: 0.7937728 (2303)\ttotal: 4m 59s\tremaining: 5m 24s\n"
     ]
    },
    {
     "name": "stdout",
     "output_type": "stream",
     "text": [
      "2450:\tlearn: 0.8467453\ttest: 0.7929223\tbest: 0.7937728 (2303)\ttotal: 5m 6s\tremaining: 5m 18s\n"
     ]
    },
    {
     "name": "stdout",
     "output_type": "stream",
     "text": [
      "2500:\tlearn: 0.8476020\ttest: 0.7934121\tbest: 0.7937728 (2303)\ttotal: 5m 12s\tremaining: 5m 11s\n"
     ]
    },
    {
     "name": "stdout",
     "output_type": "stream",
     "text": [
      "2550:\tlearn: 0.8483845\ttest: 0.7933196\tbest: 0.7937728 (2303)\ttotal: 5m 18s\tremaining: 5m 5s\n"
     ]
    },
    {
     "name": "stdout",
     "output_type": "stream",
     "text": [
      "2600:\tlearn: 0.8497333\ttest: 0.7931650\tbest: 0.7937728 (2303)\ttotal: 5m 24s\tremaining: 4m 59s\n"
     ]
    },
    {
     "name": "stdout",
     "output_type": "stream",
     "text": [
      "2650:\tlearn: 0.8507790\ttest: 0.7930560\tbest: 0.7937728 (2303)\ttotal: 5m 30s\tremaining: 4m 53s\n"
     ]
    },
    {
     "name": "stdout",
     "output_type": "stream",
     "text": [
      "2700:\tlearn: 0.8515418\ttest: 0.7936373\tbest: 0.7937728 (2303)\ttotal: 5m 37s\tremaining: 4m 46s\n"
     ]
    },
    {
     "name": "stdout",
     "output_type": "stream",
     "text": [
      "2750:\tlearn: 0.8527435\ttest: 0.7935041\tbest: 0.7937728 (2303)\ttotal: 5m 43s\tremaining: 4m 40s\n"
     ]
    },
    {
     "name": "stdout",
     "output_type": "stream",
     "text": [
      "2800:\tlearn: 0.8538286\ttest: 0.7937090\tbest: 0.7938548 (2786)\ttotal: 5m 49s\tremaining: 4m 34s\n"
     ]
    },
    {
     "name": "stdout",
     "output_type": "stream",
     "text": [
      "2850:\tlearn: 0.8547136\ttest: 0.7926852\tbest: 0.7938548 (2786)\ttotal: 5m 55s\tremaining: 4m 28s\n"
     ]
    },
    {
     "name": "stdout",
     "output_type": "stream",
     "text": [
      "2900:\tlearn: 0.8557924\ttest: 0.7933545\tbest: 0.7938548 (2786)\ttotal: 6m 1s\tremaining: 4m 21s\n"
     ]
    },
    {
     "name": "stdout",
     "output_type": "stream",
     "text": [
      "2950:\tlearn: 0.8568576\ttest: 0.7935675\tbest: 0.7938548 (2786)\ttotal: 6m 8s\tremaining: 4m 15s\n"
     ]
    },
    {
     "name": "stdout",
     "output_type": "stream",
     "text": [
      "3000:\tlearn: 0.8578998\ttest: 0.7936644\tbest: 0.7939323 (2963)\ttotal: 6m 14s\tremaining: 4m 9s\n"
     ]
    },
    {
     "name": "stdout",
     "output_type": "stream",
     "text": [
      "3050:\tlearn: 0.8589848\ttest: 0.7933501\tbest: 0.7939323 (2963)\ttotal: 6m 20s\tremaining: 4m 3s\n"
     ]
    },
    {
     "name": "stdout",
     "output_type": "stream",
     "text": [
      "3100:\tlearn: 0.8598846\ttest: 0.7933737\tbest: 0.7939323 (2963)\ttotal: 6m 27s\tremaining: 3m 57s\n"
     ]
    },
    {
     "name": "stdout",
     "output_type": "stream",
     "text": [
      "3150:\tlearn: 0.8610573\ttest: 0.7932989\tbest: 0.7940532 (3122)\ttotal: 6m 33s\tremaining: 3m 50s\n"
     ]
    },
    {
     "name": "stdout",
     "output_type": "stream",
     "text": [
      "3200:\tlearn: 0.8617222\ttest: 0.7931784\tbest: 0.7940532 (3122)\ttotal: 6m 39s\tremaining: 3m 44s\n"
     ]
    },
    {
     "name": "stdout",
     "output_type": "stream",
     "text": [
      "3250:\tlearn: 0.8625405\ttest: 0.7930994\tbest: 0.7940532 (3122)\ttotal: 6m 45s\tremaining: 3m 38s\n"
     ]
    },
    {
     "name": "stdout",
     "output_type": "stream",
     "text": [
      "3300:\tlearn: 0.8636094\ttest: 0.7931113\tbest: 0.7940532 (3122)\ttotal: 6m 52s\tremaining: 3m 32s\n"
     ]
    },
    {
     "name": "stdout",
     "output_type": "stream",
     "text": [
      "3350:\tlearn: 0.8647749\ttest: 0.7930540\tbest: 0.7940532 (3122)\ttotal: 6m 58s\tremaining: 3m 25s\n"
     ]
    },
    {
     "name": "stdout",
     "output_type": "stream",
     "text": [
      "3400:\tlearn: 0.8657146\ttest: 0.7933785\tbest: 0.7940532 (3122)\ttotal: 7m 4s\tremaining: 3m 19s\n"
     ]
    },
    {
     "name": "stdout",
     "output_type": "stream",
     "text": [
      "3450:\tlearn: 0.8666214\ttest: 0.7933867\tbest: 0.7940532 (3122)\ttotal: 7m 10s\tremaining: 3m 13s\n"
     ]
    },
    {
     "name": "stdout",
     "output_type": "stream",
     "text": [
      "3500:\tlearn: 0.8676461\ttest: 0.7936202\tbest: 0.7940532 (3122)\ttotal: 7m 17s\tremaining: 3m 7s\n"
     ]
    },
    {
     "name": "stdout",
     "output_type": "stream",
     "text": [
      "3550:\tlearn: 0.8685963\ttest: 0.7940142\tbest: 0.7940532 (3122)\ttotal: 7m 23s\tremaining: 3m\n"
     ]
    },
    {
     "name": "stdout",
     "output_type": "stream",
     "text": [
      "3600:\tlearn: 0.8695119\ttest: 0.7935950\tbest: 0.7940565 (3575)\ttotal: 7m 29s\tremaining: 2m 54s\n"
     ]
    },
    {
     "name": "stdout",
     "output_type": "stream",
     "text": [
      "3650:\tlearn: 0.8703866\ttest: 0.7937885\tbest: 0.7940567 (3639)\ttotal: 7m 35s\tremaining: 2m 48s\n"
     ]
    },
    {
     "name": "stdout",
     "output_type": "stream",
     "text": [
      "3700:\tlearn: 0.8712097\ttest: 0.7940443\tbest: 0.7941724 (3677)\ttotal: 7m 41s\tremaining: 2m 42s\n"
     ]
    },
    {
     "name": "stdout",
     "output_type": "stream",
     "text": [
      "3750:\tlearn: 0.8719129\ttest: 0.7941047\tbest: 0.7943176 (3710)\ttotal: 7m 48s\tremaining: 2m 35s\n"
     ]
    },
    {
     "name": "stdout",
     "output_type": "stream",
     "text": [
      "3800:\tlearn: 0.8732352\ttest: 0.7944445\tbest: 0.7946311 (3789)\ttotal: 7m 54s\tremaining: 2m 29s\n"
     ]
    },
    {
     "name": "stdout",
     "output_type": "stream",
     "text": [
      "3850:\tlearn: 0.8741684\ttest: 0.7941446\tbest: 0.7946311 (3789)\ttotal: 8m\tremaining: 2m 23s\n"
     ]
    },
    {
     "name": "stdout",
     "output_type": "stream",
     "text": [
      "3900:\tlearn: 0.8750960\ttest: 0.7941506\tbest: 0.7946311 (3789)\ttotal: 8m 6s\tremaining: 2m 17s\n"
     ]
    },
    {
     "name": "stdout",
     "output_type": "stream",
     "text": [
      "3950:\tlearn: 0.8761022\ttest: 0.7939423\tbest: 0.7946311 (3789)\ttotal: 8m 13s\tremaining: 2m 10s\n"
     ]
    },
    {
     "name": "stdout",
     "output_type": "stream",
     "text": [
      "4000:\tlearn: 0.8770407\ttest: 0.7939063\tbest: 0.7946311 (3789)\ttotal: 8m 19s\tremaining: 2m 4s\n"
     ]
    },
    {
     "name": "stdout",
     "output_type": "stream",
     "text": [
      "4050:\tlearn: 0.8778763\ttest: 0.7942040\tbest: 0.7946311 (3789)\ttotal: 8m 25s\tremaining: 1m 58s\n"
     ]
    },
    {
     "name": "stdout",
     "output_type": "stream",
     "text": [
      "4100:\tlearn: 0.8786926\ttest: 0.7941600\tbest: 0.7946311 (3789)\ttotal: 8m 31s\tremaining: 1m 52s\n"
     ]
    },
    {
     "name": "stdout",
     "output_type": "stream",
     "text": [
      "4150:\tlearn: 0.8796686\ttest: 0.7937651\tbest: 0.7946311 (3789)\ttotal: 8m 38s\tremaining: 1m 45s\n"
     ]
    },
    {
     "name": "stdout",
     "output_type": "stream",
     "text": [
      "4200:\tlearn: 0.8805027\ttest: 0.7937905\tbest: 0.7946311 (3789)\ttotal: 8m 44s\tremaining: 1m 39s\n"
     ]
    },
    {
     "name": "stdout",
     "output_type": "stream",
     "text": [
      "4250:\tlearn: 0.8813387\ttest: 0.7941396\tbest: 0.7946311 (3789)\ttotal: 8m 50s\tremaining: 1m 33s\n"
     ]
    },
    {
     "name": "stdout",
     "output_type": "stream",
     "text": [
      "4300:\tlearn: 0.8823156\ttest: 0.7946938\tbest: 0.7947486 (4263)\ttotal: 8m 56s\tremaining: 1m 27s\n"
     ]
    },
    {
     "name": "stdout",
     "output_type": "stream",
     "text": [
      "4350:\tlearn: 0.8833952\ttest: 0.7948343\tbest: 0.7948343 (4350)\ttotal: 9m 3s\tremaining: 1m 21s\n"
     ]
    },
    {
     "name": "stdout",
     "output_type": "stream",
     "text": [
      "4400:\tlearn: 0.8844322\ttest: 0.7947514\tbest: 0.7951115 (4374)\ttotal: 9m 9s\tremaining: 1m 14s\n"
     ]
    },
    {
     "name": "stdout",
     "output_type": "stream",
     "text": [
      "4450:\tlearn: 0.8853349\ttest: 0.7946687\tbest: 0.7951115 (4374)\ttotal: 9m 15s\tremaining: 1m 8s\n"
     ]
    },
    {
     "name": "stdout",
     "output_type": "stream",
     "text": [
      "4500:\tlearn: 0.8859589\ttest: 0.7949012\tbest: 0.7951115 (4374)\ttotal: 9m 21s\tremaining: 1m 2s\n"
     ]
    },
    {
     "name": "stdout",
     "output_type": "stream",
     "text": [
      "4550:\tlearn: 0.8867596\ttest: 0.7946683\tbest: 0.7951115 (4374)\ttotal: 9m 28s\tremaining: 56.1s\n"
     ]
    },
    {
     "name": "stdout",
     "output_type": "stream",
     "text": [
      "4600:\tlearn: 0.8875375\ttest: 0.7944165\tbest: 0.7951115 (4374)\ttotal: 9m 34s\tremaining: 49.8s\n"
     ]
    },
    {
     "name": "stdout",
     "output_type": "stream",
     "text": [
      "4650:\tlearn: 0.8883178\ttest: 0.7941844\tbest: 0.7951115 (4374)\ttotal: 9m 40s\tremaining: 43.6s\n"
     ]
    },
    {
     "name": "stdout",
     "output_type": "stream",
     "text": [
      "4700:\tlearn: 0.8890189\ttest: 0.7943264\tbest: 0.7951115 (4374)\ttotal: 9m 46s\tremaining: 37.3s\n"
     ]
    },
    {
     "name": "stdout",
     "output_type": "stream",
     "text": [
      "4750:\tlearn: 0.8899711\ttest: 0.7941099\tbest: 0.7951115 (4374)\ttotal: 9m 53s\tremaining: 31.1s\n"
     ]
    },
    {
     "name": "stdout",
     "output_type": "stream",
     "text": [
      "4800:\tlearn: 0.8907846\ttest: 0.7943915\tbest: 0.7951115 (4374)\ttotal: 9m 59s\tremaining: 24.8s\n"
     ]
    },
    {
     "name": "stdout",
     "output_type": "stream",
     "text": [
      "4850:\tlearn: 0.8915350\ttest: 0.7942379\tbest: 0.7951115 (4374)\ttotal: 10m 5s\tremaining: 18.6s\n"
     ]
    },
    {
     "name": "stdout",
     "output_type": "stream",
     "text": [
      "4900:\tlearn: 0.8925280\ttest: 0.7942851\tbest: 0.7951115 (4374)\ttotal: 10m 11s\tremaining: 12.4s\n"
     ]
    },
    {
     "name": "stdout",
     "output_type": "stream",
     "text": [
      "4950:\tlearn: 0.8933832\ttest: 0.7940123\tbest: 0.7951115 (4374)\ttotal: 10m 18s\tremaining: 6.12s\n"
     ]
    },
    {
     "name": "stdout",
     "output_type": "stream",
     "text": [
      "4999:\tlearn: 0.8940777\ttest: 0.7941657\tbest: 0.7951115 (4374)\ttotal: 10m 24s\tremaining: 0us\n",
      "\n",
      "bestTest = 0.7951114621\n",
      "bestIteration = 4374\n",
      "\n"
     ]
    },
    {
     "name": "stdout",
     "output_type": "stream",
     "text": [
      "######################################## training model 3/5 ########################################\n",
      "seed: 2\n"
     ]
    },
    {
     "name": "stdout",
     "output_type": "stream",
     "text": [
      "0:\tlearn: 0.5298833\ttest: 0.5282564\tbest: 0.5282564 (0)\ttotal: 459ms\tremaining: 38m 14s\n"
     ]
    },
    {
     "name": "stdout",
     "output_type": "stream",
     "text": [
      "50:\tlearn: 0.7412681\ttest: 0.7349924\tbest: 0.7349924 (50)\ttotal: 6.66s\tremaining: 10m 45s\n"
     ]
    },
    {
     "name": "stdout",
     "output_type": "stream",
     "text": [
      "100:\tlearn: 0.7554807\ttest: 0.7483026\tbest: 0.7484613 (99)\ttotal: 12.9s\tremaining: 10m 26s\n"
     ]
    },
    {
     "name": "stdout",
     "output_type": "stream",
     "text": [
      "150:\tlearn: 0.7628780\ttest: 0.7558585\tbest: 0.7559135 (148)\ttotal: 19.1s\tremaining: 10m 14s\n"
     ]
    },
    {
     "name": "stdout",
     "output_type": "stream",
     "text": [
      "200:\tlearn: 0.7673931\ttest: 0.7603781\tbest: 0.7605267 (191)\ttotal: 25.5s\tremaining: 10m 9s\n"
     ]
    },
    {
     "name": "stdout",
     "output_type": "stream",
     "text": [
      "250:\tlearn: 0.7712257\ttest: 0.7641558\tbest: 0.7641558 (250)\ttotal: 31.8s\tremaining: 10m 1s\n"
     ]
    },
    {
     "name": "stdout",
     "output_type": "stream",
     "text": [
      "300:\tlearn: 0.7770568\ttest: 0.7689957\tbest: 0.7690883 (295)\ttotal: 38.1s\tremaining: 9m 54s\n"
     ]
    },
    {
     "name": "stdout",
     "output_type": "stream",
     "text": [
      "350:\tlearn: 0.7832833\ttest: 0.7742372\tbest: 0.7742586 (344)\ttotal: 44.4s\tremaining: 9m 47s\n"
     ]
    },
    {
     "name": "stdout",
     "output_type": "stream",
     "text": [
      "400:\tlearn: 0.7876888\ttest: 0.7772352\tbest: 0.7774690 (399)\ttotal: 50.7s\tremaining: 9m 41s\n"
     ]
    },
    {
     "name": "stdout",
     "output_type": "stream",
     "text": [
      "450:\tlearn: 0.7912152\ttest: 0.7791517\tbest: 0.7791915 (447)\ttotal: 57s\tremaining: 9m 35s\n"
     ]
    },
    {
     "name": "stdout",
     "output_type": "stream",
     "text": [
      "500:\tlearn: 0.7940639\ttest: 0.7808145\tbest: 0.7809968 (499)\ttotal: 1m 3s\tremaining: 9m 28s\n"
     ]
    },
    {
     "name": "stdout",
     "output_type": "stream",
     "text": [
      "550:\tlearn: 0.7959656\ttest: 0.7821237\tbest: 0.7821907 (542)\ttotal: 1m 9s\tremaining: 9m 22s\n"
     ]
    },
    {
     "name": "stdout",
     "output_type": "stream",
     "text": [
      "600:\tlearn: 0.7981247\ttest: 0.7832474\tbest: 0.7833877 (593)\ttotal: 1m 15s\tremaining: 9m 15s\n"
     ]
    },
    {
     "name": "stdout",
     "output_type": "stream",
     "text": [
      "650:\tlearn: 0.8001659\ttest: 0.7843691\tbest: 0.7844441 (638)\ttotal: 1m 22s\tremaining: 9m 9s\n"
     ]
    },
    {
     "name": "stdout",
     "output_type": "stream",
     "text": [
      "700:\tlearn: 0.8020115\ttest: 0.7849434\tbest: 0.7849434 (700)\ttotal: 1m 28s\tremaining: 9m 3s\n"
     ]
    },
    {
     "name": "stdout",
     "output_type": "stream",
     "text": [
      "750:\tlearn: 0.8038842\ttest: 0.7855711\tbest: 0.7856428 (746)\ttotal: 1m 34s\tremaining: 8m 57s\n"
     ]
    },
    {
     "name": "stdout",
     "output_type": "stream",
     "text": [
      "800:\tlearn: 0.8054193\ttest: 0.7860455\tbest: 0.7860628 (799)\ttotal: 1m 41s\tremaining: 8m 50s\n"
     ]
    },
    {
     "name": "stdout",
     "output_type": "stream",
     "text": [
      "850:\tlearn: 0.8073161\ttest: 0.7865662\tbest: 0.7865859 (849)\ttotal: 1m 47s\tremaining: 8m 44s\n"
     ]
    },
    {
     "name": "stdout",
     "output_type": "stream",
     "text": [
      "900:\tlearn: 0.8085931\ttest: 0.7862733\tbest: 0.7869987 (856)\ttotal: 1m 53s\tremaining: 8m 38s\n"
     ]
    },
    {
     "name": "stdout",
     "output_type": "stream",
     "text": [
      "950:\tlearn: 0.8099715\ttest: 0.7867893\tbest: 0.7871900 (936)\ttotal: 2m\tremaining: 8m 32s\n"
     ]
    },
    {
     "name": "stdout",
     "output_type": "stream",
     "text": [
      "1000:\tlearn: 0.8116609\ttest: 0.7871458\tbest: 0.7875913 (962)\ttotal: 2m 6s\tremaining: 8m 25s\n"
     ]
    },
    {
     "name": "stdout",
     "output_type": "stream",
     "text": [
      "1050:\tlearn: 0.8132551\ttest: 0.7872892\tbest: 0.7877168 (1020)\ttotal: 2m 12s\tremaining: 8m 19s\n"
     ]
    },
    {
     "name": "stdout",
     "output_type": "stream",
     "text": [
      "1100:\tlearn: 0.8148103\ttest: 0.7875094\tbest: 0.7877168 (1020)\ttotal: 2m 19s\tremaining: 8m 13s\n"
     ]
    },
    {
     "name": "stdout",
     "output_type": "stream",
     "text": [
      "1150:\tlearn: 0.8162200\ttest: 0.7876932\tbest: 0.7878194 (1148)\ttotal: 2m 25s\tremaining: 8m 6s\n"
     ]
    },
    {
     "name": "stdout",
     "output_type": "stream",
     "text": [
      "1200:\tlearn: 0.8177690\ttest: 0.7878615\tbest: 0.7881617 (1164)\ttotal: 2m 31s\tremaining: 8m\n"
     ]
    },
    {
     "name": "stdout",
     "output_type": "stream",
     "text": [
      "1250:\tlearn: 0.8190283\ttest: 0.7879439\tbest: 0.7882108 (1216)\ttotal: 2m 38s\tremaining: 7m 54s\n"
     ]
    },
    {
     "name": "stdout",
     "output_type": "stream",
     "text": [
      "1300:\tlearn: 0.8203991\ttest: 0.7882672\tbest: 0.7884301 (1278)\ttotal: 2m 44s\tremaining: 7m 47s\n"
     ]
    },
    {
     "name": "stdout",
     "output_type": "stream",
     "text": [
      "1350:\tlearn: 0.8218518\ttest: 0.7880585\tbest: 0.7885772 (1321)\ttotal: 2m 50s\tremaining: 7m 41s\n"
     ]
    },
    {
     "name": "stdout",
     "output_type": "stream",
     "text": [
      "1400:\tlearn: 0.8230302\ttest: 0.7885191\tbest: 0.7887276 (1367)\ttotal: 2m 57s\tremaining: 7m 34s\n"
     ]
    },
    {
     "name": "stdout",
     "output_type": "stream",
     "text": [
      "1450:\tlearn: 0.8241338\ttest: 0.7883977\tbest: 0.7889276 (1414)\ttotal: 3m 3s\tremaining: 7m 28s\n"
     ]
    },
    {
     "name": "stdout",
     "output_type": "stream",
     "text": [
      "1500:\tlearn: 0.8254019\ttest: 0.7886784\tbest: 0.7889917 (1490)\ttotal: 3m 9s\tremaining: 7m 22s\n"
     ]
    },
    {
     "name": "stdout",
     "output_type": "stream",
     "text": [
      "1550:\tlearn: 0.8270193\ttest: 0.7891072\tbest: 0.7892879 (1540)\ttotal: 3m 16s\tremaining: 7m 15s\n"
     ]
    },
    {
     "name": "stdout",
     "output_type": "stream",
     "text": [
      "1600:\tlearn: 0.8280260\ttest: 0.7890110\tbest: 0.7894825 (1570)\ttotal: 3m 22s\tremaining: 7m 9s\n"
     ]
    },
    {
     "name": "stdout",
     "output_type": "stream",
     "text": [
      "1650:\tlearn: 0.8290569\ttest: 0.7888701\tbest: 0.7894825 (1570)\ttotal: 3m 28s\tremaining: 7m 3s\n"
     ]
    },
    {
     "name": "stdout",
     "output_type": "stream",
     "text": [
      "1700:\tlearn: 0.8303819\ttest: 0.7895262\tbest: 0.7895672 (1694)\ttotal: 3m 35s\tremaining: 6m 57s\n"
     ]
    },
    {
     "name": "stdout",
     "output_type": "stream",
     "text": [
      "1750:\tlearn: 0.8314668\ttest: 0.7897169\tbest: 0.7898829 (1742)\ttotal: 3m 41s\tremaining: 6m 50s\n"
     ]
    },
    {
     "name": "stdout",
     "output_type": "stream",
     "text": [
      "1800:\tlearn: 0.8329193\ttest: 0.7897473\tbest: 0.7902428 (1777)\ttotal: 3m 47s\tremaining: 6m 44s\n"
     ]
    },
    {
     "name": "stdout",
     "output_type": "stream",
     "text": [
      "1850:\tlearn: 0.8339676\ttest: 0.7901869\tbest: 0.7904325 (1840)\ttotal: 3m 53s\tremaining: 6m 38s\n"
     ]
    },
    {
     "name": "stdout",
     "output_type": "stream",
     "text": [
      "1900:\tlearn: 0.8348740\ttest: 0.7906703\tbest: 0.7906703 (1900)\ttotal: 4m\tremaining: 6m 31s\n"
     ]
    },
    {
     "name": "stdout",
     "output_type": "stream",
     "text": [
      "1950:\tlearn: 0.8363768\ttest: 0.7908892\tbest: 0.7910058 (1937)\ttotal: 4m 6s\tremaining: 6m 25s\n"
     ]
    },
    {
     "name": "stdout",
     "output_type": "stream",
     "text": [
      "2000:\tlearn: 0.8374539\ttest: 0.7910816\tbest: 0.7911551 (1986)\ttotal: 4m 12s\tremaining: 6m 19s\n"
     ]
    },
    {
     "name": "stdout",
     "output_type": "stream",
     "text": [
      "2050:\tlearn: 0.8386679\ttest: 0.7909173\tbest: 0.7911892 (2005)\ttotal: 4m 19s\tremaining: 6m 12s\n"
     ]
    },
    {
     "name": "stdout",
     "output_type": "stream",
     "text": [
      "2100:\tlearn: 0.8398283\ttest: 0.7903423\tbest: 0.7912589 (2067)\ttotal: 4m 25s\tremaining: 6m 6s\n"
     ]
    },
    {
     "name": "stdout",
     "output_type": "stream",
     "text": [
      "2150:\tlearn: 0.8409817\ttest: 0.7903643\tbest: 0.7912589 (2067)\ttotal: 4m 32s\tremaining: 6m\n"
     ]
    },
    {
     "name": "stdout",
     "output_type": "stream",
     "text": [
      "2200:\tlearn: 0.8421737\ttest: 0.7905511\tbest: 0.7912589 (2067)\ttotal: 4m 38s\tremaining: 5m 54s\n"
     ]
    },
    {
     "name": "stdout",
     "output_type": "stream",
     "text": [
      "2250:\tlearn: 0.8433999\ttest: 0.7905863\tbest: 0.7912589 (2067)\ttotal: 4m 44s\tremaining: 5m 47s\n"
     ]
    },
    {
     "name": "stdout",
     "output_type": "stream",
     "text": [
      "2300:\tlearn: 0.8444407\ttest: 0.7904061\tbest: 0.7912589 (2067)\ttotal: 4m 50s\tremaining: 5m 41s\n"
     ]
    },
    {
     "name": "stdout",
     "output_type": "stream",
     "text": [
      "2350:\tlearn: 0.8456391\ttest: 0.7909791\tbest: 0.7912589 (2067)\ttotal: 4m 57s\tremaining: 5m 34s\n"
     ]
    },
    {
     "name": "stdout",
     "output_type": "stream",
     "text": [
      "2400:\tlearn: 0.8467202\ttest: 0.7905006\tbest: 0.7912589 (2067)\ttotal: 5m 3s\tremaining: 5m 28s\n"
     ]
    },
    {
     "name": "stdout",
     "output_type": "stream",
     "text": [
      "2450:\tlearn: 0.8477148\ttest: 0.7902187\tbest: 0.7912589 (2067)\ttotal: 5m 9s\tremaining: 5m 22s\n"
     ]
    },
    {
     "name": "stdout",
     "output_type": "stream",
     "text": [
      "2500:\tlearn: 0.8486453\ttest: 0.7900341\tbest: 0.7912589 (2067)\ttotal: 5m 16s\tremaining: 5m 15s\n"
     ]
    },
    {
     "name": "stdout",
     "output_type": "stream",
     "text": [
      "2550:\tlearn: 0.8498170\ttest: 0.7902857\tbest: 0.7912589 (2067)\ttotal: 5m 22s\tremaining: 5m 9s\n"
     ]
    },
    {
     "name": "stdout",
     "output_type": "stream",
     "text": [
      "2600:\tlearn: 0.8508326\ttest: 0.7905706\tbest: 0.7912589 (2067)\ttotal: 5m 28s\tremaining: 5m 3s\n"
     ]
    },
    {
     "name": "stdout",
     "output_type": "stream",
     "text": [
      "2650:\tlearn: 0.8518350\ttest: 0.7907046\tbest: 0.7912589 (2067)\ttotal: 5m 35s\tremaining: 4m 56s\n"
     ]
    },
    {
     "name": "stdout",
     "output_type": "stream",
     "text": [
      "2700:\tlearn: 0.8527706\ttest: 0.7907057\tbest: 0.7912589 (2067)\ttotal: 5m 41s\tremaining: 4m 50s\n"
     ]
    },
    {
     "name": "stdout",
     "output_type": "stream",
     "text": [
      "2750:\tlearn: 0.8537153\ttest: 0.7908465\tbest: 0.7912589 (2067)\ttotal: 5m 47s\tremaining: 4m 44s\n"
     ]
    },
    {
     "name": "stdout",
     "output_type": "stream",
     "text": [
      "2800:\tlearn: 0.8544321\ttest: 0.7909185\tbest: 0.7912716 (2782)\ttotal: 5m 53s\tremaining: 4m 37s\n"
     ]
    },
    {
     "name": "stdout",
     "output_type": "stream",
     "text": [
      "2850:\tlearn: 0.8555642\ttest: 0.7911366\tbest: 0.7913260 (2836)\ttotal: 6m\tremaining: 4m 31s\n"
     ]
    },
    {
     "name": "stdout",
     "output_type": "stream",
     "text": [
      "2900:\tlearn: 0.8568258\ttest: 0.7914178\tbest: 0.7914178 (2900)\ttotal: 6m 6s\tremaining: 4m 25s\n"
     ]
    },
    {
     "name": "stdout",
     "output_type": "stream",
     "text": [
      "2950:\tlearn: 0.8577314\ttest: 0.7909679\tbest: 0.7914178 (2900)\ttotal: 6m 12s\tremaining: 4m 18s\n"
     ]
    },
    {
     "name": "stdout",
     "output_type": "stream",
     "text": [
      "3000:\tlearn: 0.8586673\ttest: 0.7908700\tbest: 0.7914178 (2900)\ttotal: 6m 18s\tremaining: 4m 12s\n"
     ]
    },
    {
     "name": "stdout",
     "output_type": "stream",
     "text": [
      "3050:\tlearn: 0.8594101\ttest: 0.7912793\tbest: 0.7914241 (3047)\ttotal: 6m 25s\tremaining: 4m 6s\n"
     ]
    },
    {
     "name": "stdout",
     "output_type": "stream",
     "text": [
      "3100:\tlearn: 0.8603271\ttest: 0.7915119\tbest: 0.7916808 (3099)\ttotal: 6m 31s\tremaining: 3m 59s\n"
     ]
    },
    {
     "name": "stdout",
     "output_type": "stream",
     "text": [
      "3150:\tlearn: 0.8613198\ttest: 0.7912647\tbest: 0.7919349 (3121)\ttotal: 6m 37s\tremaining: 3m 53s\n"
     ]
    },
    {
     "name": "stdout",
     "output_type": "stream",
     "text": [
      "3200:\tlearn: 0.8623328\ttest: 0.7913771\tbest: 0.7919349 (3121)\ttotal: 6m 44s\tremaining: 3m 47s\n"
     ]
    },
    {
     "name": "stdout",
     "output_type": "stream",
     "text": [
      "3250:\tlearn: 0.8636179\ttest: 0.7918900\tbest: 0.7919349 (3121)\ttotal: 6m 50s\tremaining: 3m 40s\n"
     ]
    },
    {
     "name": "stdout",
     "output_type": "stream",
     "text": [
      "3300:\tlearn: 0.8645591\ttest: 0.7919358\tbest: 0.7921467 (3275)\ttotal: 6m 56s\tremaining: 3m 34s\n"
     ]
    },
    {
     "name": "stdout",
     "output_type": "stream",
     "text": [
      "3350:\tlearn: 0.8654548\ttest: 0.7921708\tbest: 0.7923152 (3318)\ttotal: 7m 3s\tremaining: 3m 28s\n"
     ]
    },
    {
     "name": "stdout",
     "output_type": "stream",
     "text": [
      "3400:\tlearn: 0.8666148\ttest: 0.7917366\tbest: 0.7923408 (3354)\ttotal: 7m 9s\tremaining: 3m 21s\n"
     ]
    },
    {
     "name": "stdout",
     "output_type": "stream",
     "text": [
      "3450:\tlearn: 0.8676750\ttest: 0.7920566\tbest: 0.7923408 (3354)\ttotal: 7m 15s\tremaining: 3m 15s\n"
     ]
    },
    {
     "name": "stdout",
     "output_type": "stream",
     "text": [
      "3500:\tlearn: 0.8685113\ttest: 0.7921234\tbest: 0.7923408 (3354)\ttotal: 7m 21s\tremaining: 3m 9s\n"
     ]
    },
    {
     "name": "stdout",
     "output_type": "stream",
     "text": [
      "3550:\tlearn: 0.8694768\ttest: 0.7924254\tbest: 0.7924254 (3550)\ttotal: 7m 28s\tremaining: 3m 2s\n"
     ]
    },
    {
     "name": "stdout",
     "output_type": "stream",
     "text": [
      "3600:\tlearn: 0.8702273\ttest: 0.7921774\tbest: 0.7924887 (3554)\ttotal: 7m 34s\tremaining: 2m 56s\n"
     ]
    },
    {
     "name": "stdout",
     "output_type": "stream",
     "text": [
      "3650:\tlearn: 0.8711858\ttest: 0.7920673\tbest: 0.7924887 (3554)\ttotal: 7m 40s\tremaining: 2m 50s\n"
     ]
    },
    {
     "name": "stdout",
     "output_type": "stream",
     "text": [
      "3700:\tlearn: 0.8720855\ttest: 0.7917789\tbest: 0.7924887 (3554)\ttotal: 7m 46s\tremaining: 2m 43s\n"
     ]
    },
    {
     "name": "stdout",
     "output_type": "stream",
     "text": [
      "3750:\tlearn: 0.8731963\ttest: 0.7921701\tbest: 0.7924887 (3554)\ttotal: 7m 53s\tremaining: 2m 37s\n"
     ]
    },
    {
     "name": "stdout",
     "output_type": "stream",
     "text": [
      "3800:\tlearn: 0.8740231\ttest: 0.7915999\tbest: 0.7924887 (3554)\ttotal: 7m 59s\tremaining: 2m 31s\n"
     ]
    },
    {
     "name": "stdout",
     "output_type": "stream",
     "text": [
      "3850:\tlearn: 0.8751139\ttest: 0.7916179\tbest: 0.7924887 (3554)\ttotal: 8m 5s\tremaining: 2m 24s\n"
     ]
    },
    {
     "name": "stdout",
     "output_type": "stream",
     "text": [
      "3900:\tlearn: 0.8760152\ttest: 0.7918010\tbest: 0.7924887 (3554)\ttotal: 8m 11s\tremaining: 2m 18s\n"
     ]
    },
    {
     "name": "stdout",
     "output_type": "stream",
     "text": [
      "3950:\tlearn: 0.8770109\ttest: 0.7920875\tbest: 0.7924887 (3554)\ttotal: 8m 18s\tremaining: 2m 12s\n"
     ]
    },
    {
     "name": "stdout",
     "output_type": "stream",
     "text": [
      "4000:\tlearn: 0.8779949\ttest: 0.7920110\tbest: 0.7924887 (3554)\ttotal: 8m 24s\tremaining: 2m 5s\n"
     ]
    },
    {
     "name": "stdout",
     "output_type": "stream",
     "text": [
      "4050:\tlearn: 0.8789701\ttest: 0.7916323\tbest: 0.7924887 (3554)\ttotal: 8m 30s\tremaining: 1m 59s\n"
     ]
    },
    {
     "name": "stdout",
     "output_type": "stream",
     "text": [
      "4100:\tlearn: 0.8797818\ttest: 0.7915279\tbest: 0.7924887 (3554)\ttotal: 8m 37s\tremaining: 1m 53s\n"
     ]
    },
    {
     "name": "stdout",
     "output_type": "stream",
     "text": [
      "4150:\tlearn: 0.8806599\ttest: 0.7915702\tbest: 0.7924887 (3554)\ttotal: 8m 43s\tremaining: 1m 47s\n"
     ]
    },
    {
     "name": "stdout",
     "output_type": "stream",
     "text": [
      "4200:\tlearn: 0.8814683\ttest: 0.7919743\tbest: 0.7924887 (3554)\ttotal: 8m 49s\tremaining: 1m 40s\n"
     ]
    },
    {
     "name": "stdout",
     "output_type": "stream",
     "text": [
      "4250:\tlearn: 0.8823358\ttest: 0.7920176\tbest: 0.7924887 (3554)\ttotal: 8m 55s\tremaining: 1m 34s\n"
     ]
    },
    {
     "name": "stdout",
     "output_type": "stream",
     "text": [
      "4300:\tlearn: 0.8833066\ttest: 0.7921557\tbest: 0.7924887 (3554)\ttotal: 9m 2s\tremaining: 1m 28s\n"
     ]
    },
    {
     "name": "stdout",
     "output_type": "stream",
     "text": [
      "4350:\tlearn: 0.8840824\ttest: 0.7921304\tbest: 0.7924887 (3554)\ttotal: 9m 8s\tremaining: 1m 21s\n"
     ]
    },
    {
     "name": "stdout",
     "output_type": "stream",
     "text": [
      "4400:\tlearn: 0.8850466\ttest: 0.7920259\tbest: 0.7924887 (3554)\ttotal: 9m 14s\tremaining: 1m 15s\n"
     ]
    },
    {
     "name": "stdout",
     "output_type": "stream",
     "text": [
      "4450:\tlearn: 0.8858952\ttest: 0.7917917\tbest: 0.7924887 (3554)\ttotal: 9m 20s\tremaining: 1m 9s\n"
     ]
    },
    {
     "name": "stdout",
     "output_type": "stream",
     "text": [
      "4500:\tlearn: 0.8869379\ttest: 0.7914321\tbest: 0.7924887 (3554)\ttotal: 9m 27s\tremaining: 1m 2s\n"
     ]
    },
    {
     "name": "stdout",
     "output_type": "stream",
     "text": [
      "4550:\tlearn: 0.8877308\ttest: 0.7914082\tbest: 0.7924887 (3554)\ttotal: 9m 33s\tremaining: 56.6s\n"
     ]
    },
    {
     "name": "stdout",
     "output_type": "stream",
     "text": [
      "4600:\tlearn: 0.8885238\ttest: 0.7917200\tbest: 0.7924887 (3554)\ttotal: 9m 39s\tremaining: 50.3s\n"
     ]
    },
    {
     "name": "stdout",
     "output_type": "stream",
     "text": [
      "4650:\tlearn: 0.8893656\ttest: 0.7916174\tbest: 0.7924887 (3554)\ttotal: 9m 45s\tremaining: 44s\n"
     ]
    },
    {
     "name": "stdout",
     "output_type": "stream",
     "text": [
      "4700:\tlearn: 0.8902051\ttest: 0.7918506\tbest: 0.7924887 (3554)\ttotal: 9m 52s\tremaining: 37.7s\n"
     ]
    },
    {
     "name": "stdout",
     "output_type": "stream",
     "text": [
      "4750:\tlearn: 0.8910764\ttest: 0.7915923\tbest: 0.7924887 (3554)\ttotal: 9m 58s\tremaining: 31.4s\n"
     ]
    },
    {
     "name": "stdout",
     "output_type": "stream",
     "text": [
      "4800:\tlearn: 0.8919065\ttest: 0.7916507\tbest: 0.7924887 (3554)\ttotal: 10m 4s\tremaining: 25.1s\n"
     ]
    },
    {
     "name": "stdout",
     "output_type": "stream",
     "text": [
      "4850:\tlearn: 0.8927486\ttest: 0.7920726\tbest: 0.7924887 (3554)\ttotal: 10m 10s\tremaining: 18.8s\n"
     ]
    },
    {
     "name": "stdout",
     "output_type": "stream",
     "text": [
      "4900:\tlearn: 0.8935932\ttest: 0.7917521\tbest: 0.7924887 (3554)\ttotal: 10m 17s\tremaining: 12.5s\n"
     ]
    },
    {
     "name": "stdout",
     "output_type": "stream",
     "text": [
      "4950:\tlearn: 0.8943902\ttest: 0.7915070\tbest: 0.7924887 (3554)\ttotal: 10m 23s\tremaining: 6.17s\n"
     ]
    },
    {
     "name": "stdout",
     "output_type": "stream",
     "text": [
      "4999:\tlearn: 0.8950458\ttest: 0.7916137\tbest: 0.7924887 (3554)\ttotal: 10m 29s\tremaining: 0us\n",
      "\n",
      "bestTest = 0.7924886502\n",
      "bestIteration = 3554\n",
      "\n"
     ]
    },
    {
     "name": "stdout",
     "output_type": "stream",
     "text": [
      "######################################## training model 4/5 ########################################\n",
      "seed: 3\n"
     ]
    },
    {
     "name": "stdout",
     "output_type": "stream",
     "text": [
      "0:\tlearn: 0.6045619\ttest: 0.5995838\tbest: 0.5995838 (0)\ttotal: 447ms\tremaining: 37m 16s\n"
     ]
    },
    {
     "name": "stdout",
     "output_type": "stream",
     "text": [
      "50:\tlearn: 0.7406176\ttest: 0.7382708\tbest: 0.7382708 (50)\ttotal: 6.57s\tremaining: 10m 37s\n"
     ]
    },
    {
     "name": "stdout",
     "output_type": "stream",
     "text": [
      "100:\tlearn: 0.7565828\ttest: 0.7556620\tbest: 0.7556620 (100)\ttotal: 12.8s\tremaining: 10m 21s\n"
     ]
    },
    {
     "name": "stdout",
     "output_type": "stream",
     "text": [
      "150:\tlearn: 0.7630755\ttest: 0.7609637\tbest: 0.7609637 (150)\ttotal: 19.1s\tremaining: 10m 12s\n"
     ]
    },
    {
     "name": "stdout",
     "output_type": "stream",
     "text": [
      "200:\tlearn: 0.7683187\ttest: 0.7644316\tbest: 0.7646223 (198)\ttotal: 25.4s\tremaining: 10m 6s\n"
     ]
    },
    {
     "name": "stdout",
     "output_type": "stream",
     "text": [
      "250:\tlearn: 0.7718725\ttest: 0.7671926\tbest: 0.7671926 (250)\ttotal: 31.7s\tremaining: 9m 59s\n"
     ]
    },
    {
     "name": "stdout",
     "output_type": "stream",
     "text": [
      "300:\tlearn: 0.7770209\ttest: 0.7710965\tbest: 0.7710965 (300)\ttotal: 37.9s\tremaining: 9m 51s\n"
     ]
    },
    {
     "name": "stdout",
     "output_type": "stream",
     "text": [
      "350:\tlearn: 0.7831813\ttest: 0.7758555\tbest: 0.7761017 (345)\ttotal: 44.2s\tremaining: 9m 45s\n"
     ]
    },
    {
     "name": "stdout",
     "output_type": "stream",
     "text": [
      "400:\tlearn: 0.7877552\ttest: 0.7778192\tbest: 0.7779836 (391)\ttotal: 50.5s\tremaining: 9m 39s\n"
     ]
    },
    {
     "name": "stdout",
     "output_type": "stream",
     "text": [
      "450:\tlearn: 0.7909028\ttest: 0.7801582\tbest: 0.7801582 (450)\ttotal: 56.8s\tremaining: 9m 33s\n"
     ]
    },
    {
     "name": "stdout",
     "output_type": "stream",
     "text": [
      "500:\tlearn: 0.7934566\ttest: 0.7814616\tbest: 0.7819157 (494)\ttotal: 1m 3s\tremaining: 9m 27s\n"
     ]
    },
    {
     "name": "stdout",
     "output_type": "stream",
     "text": [
      "550:\tlearn: 0.7956272\ttest: 0.7821610\tbest: 0.7822212 (549)\ttotal: 1m 9s\tremaining: 9m 20s\n"
     ]
    },
    {
     "name": "stdout",
     "output_type": "stream",
     "text": [
      "600:\tlearn: 0.7976152\ttest: 0.7834298\tbest: 0.7835934 (599)\ttotal: 1m 15s\tremaining: 9m 14s\n"
     ]
    },
    {
     "name": "stdout",
     "output_type": "stream",
     "text": [
      "650:\tlearn: 0.7996119\ttest: 0.7834595\tbest: 0.7836734 (603)\ttotal: 1m 22s\tremaining: 9m 7s\n"
     ]
    },
    {
     "name": "stdout",
     "output_type": "stream",
     "text": [
      "700:\tlearn: 0.8014522\ttest: 0.7838895\tbest: 0.7840855 (695)\ttotal: 1m 28s\tremaining: 9m 1s\n"
     ]
    },
    {
     "name": "stdout",
     "output_type": "stream",
     "text": [
      "750:\tlearn: 0.8034201\ttest: 0.7842985\tbest: 0.7846365 (741)\ttotal: 1m 34s\tremaining: 8m 55s\n"
     ]
    },
    {
     "name": "stdout",
     "output_type": "stream",
     "text": [
      "800:\tlearn: 0.8051785\ttest: 0.7848331\tbest: 0.7849295 (795)\ttotal: 1m 40s\tremaining: 8m 48s\n"
     ]
    },
    {
     "name": "stdout",
     "output_type": "stream",
     "text": [
      "850:\tlearn: 0.8066199\ttest: 0.7857110\tbest: 0.7857705 (848)\ttotal: 1m 47s\tremaining: 8m 42s\n"
     ]
    },
    {
     "name": "stdout",
     "output_type": "stream",
     "text": [
      "900:\tlearn: 0.8079661\ttest: 0.7859667\tbest: 0.7860030 (884)\ttotal: 1m 53s\tremaining: 8m 36s\n"
     ]
    },
    {
     "name": "stdout",
     "output_type": "stream",
     "text": [
      "950:\tlearn: 0.8093457\ttest: 0.7855242\tbest: 0.7861449 (904)\ttotal: 1m 59s\tremaining: 8m 29s\n"
     ]
    },
    {
     "name": "stdout",
     "output_type": "stream",
     "text": [
      "1000:\tlearn: 0.8110052\ttest: 0.7859479\tbest: 0.7861449 (904)\ttotal: 2m 6s\tremaining: 8m 23s\n"
     ]
    },
    {
     "name": "stdout",
     "output_type": "stream",
     "text": [
      "1050:\tlearn: 0.8121444\ttest: 0.7867510\tbest: 0.7867510 (1050)\ttotal: 2m 12s\tremaining: 8m 17s\n"
     ]
    },
    {
     "name": "stdout",
     "output_type": "stream",
     "text": [
      "1100:\tlearn: 0.8137835\ttest: 0.7871311\tbest: 0.7873176 (1095)\ttotal: 2m 18s\tremaining: 8m 11s\n"
     ]
    },
    {
     "name": "stdout",
     "output_type": "stream",
     "text": [
      "1150:\tlearn: 0.8151204\ttest: 0.7875236\tbest: 0.7876297 (1113)\ttotal: 2m 25s\tremaining: 8m 4s\n"
     ]
    },
    {
     "name": "stdout",
     "output_type": "stream",
     "text": [
      "1200:\tlearn: 0.8165468\ttest: 0.7874679\tbest: 0.7876297 (1113)\ttotal: 2m 31s\tremaining: 7m 58s\n"
     ]
    },
    {
     "name": "stdout",
     "output_type": "stream",
     "text": [
      "1250:\tlearn: 0.8178424\ttest: 0.7875523\tbest: 0.7879817 (1241)\ttotal: 2m 37s\tremaining: 7m 52s\n"
     ]
    },
    {
     "name": "stdout",
     "output_type": "stream",
     "text": [
      "1300:\tlearn: 0.8192196\ttest: 0.7877845\tbest: 0.7879926 (1298)\ttotal: 2m 43s\tremaining: 7m 46s\n"
     ]
    },
    {
     "name": "stdout",
     "output_type": "stream",
     "text": [
      "1350:\tlearn: 0.8205414\ttest: 0.7876961\tbest: 0.7883582 (1310)\ttotal: 2m 50s\tremaining: 7m 39s\n"
     ]
    },
    {
     "name": "stdout",
     "output_type": "stream",
     "text": [
      "1400:\tlearn: 0.8219620\ttest: 0.7882030\tbest: 0.7883582 (1310)\ttotal: 2m 56s\tremaining: 7m 33s\n"
     ]
    },
    {
     "name": "stdout",
     "output_type": "stream",
     "text": [
      "1450:\tlearn: 0.8231018\ttest: 0.7882787\tbest: 0.7887021 (1435)\ttotal: 3m 2s\tremaining: 7m 27s\n"
     ]
    },
    {
     "name": "stdout",
     "output_type": "stream",
     "text": [
      "1500:\tlearn: 0.8245364\ttest: 0.7888068\tbest: 0.7888702 (1499)\ttotal: 3m 9s\tremaining: 7m 21s\n"
     ]
    },
    {
     "name": "stdout",
     "output_type": "stream",
     "text": [
      "1550:\tlearn: 0.8256264\ttest: 0.7887594\tbest: 0.7890270 (1540)\ttotal: 3m 15s\tremaining: 7m 14s\n"
     ]
    },
    {
     "name": "stdout",
     "output_type": "stream",
     "text": [
      "1600:\tlearn: 0.8270815\ttest: 0.7889415\tbest: 0.7890876 (1599)\ttotal: 3m 21s\tremaining: 7m 8s\n"
     ]
    },
    {
     "name": "stdout",
     "output_type": "stream",
     "text": [
      "1650:\tlearn: 0.8283200\ttest: 0.7890937\tbest: 0.7893948 (1621)\ttotal: 3m 28s\tremaining: 7m 2s\n"
     ]
    },
    {
     "name": "stdout",
     "output_type": "stream",
     "text": [
      "1700:\tlearn: 0.8293558\ttest: 0.7887846\tbest: 0.7893948 (1621)\ttotal: 3m 34s\tremaining: 6m 56s\n"
     ]
    },
    {
     "name": "stdout",
     "output_type": "stream",
     "text": [
      "1750:\tlearn: 0.8307411\ttest: 0.7886111\tbest: 0.7893948 (1621)\ttotal: 3m 40s\tremaining: 6m 49s\n"
     ]
    },
    {
     "name": "stdout",
     "output_type": "stream",
     "text": [
      "1800:\tlearn: 0.8319127\ttest: 0.7887330\tbest: 0.7893948 (1621)\ttotal: 3m 47s\tremaining: 6m 43s\n"
     ]
    },
    {
     "name": "stdout",
     "output_type": "stream",
     "text": [
      "1850:\tlearn: 0.8329797\ttest: 0.7891825\tbest: 0.7893948 (1621)\ttotal: 3m 53s\tremaining: 6m 37s\n"
     ]
    },
    {
     "name": "stdout",
     "output_type": "stream",
     "text": [
      "1900:\tlearn: 0.8339672\ttest: 0.7889116\tbest: 0.7893948 (1621)\ttotal: 3m 59s\tremaining: 6m 30s\n"
     ]
    },
    {
     "name": "stdout",
     "output_type": "stream",
     "text": [
      "1950:\tlearn: 0.8354351\ttest: 0.7888618\tbest: 0.7893948 (1621)\ttotal: 4m 6s\tremaining: 6m 24s\n"
     ]
    },
    {
     "name": "stdout",
     "output_type": "stream",
     "text": [
      "2000:\tlearn: 0.8365331\ttest: 0.7896737\tbest: 0.7897899 (1986)\ttotal: 4m 12s\tremaining: 6m 18s\n"
     ]
    },
    {
     "name": "stdout",
     "output_type": "stream",
     "text": [
      "2050:\tlearn: 0.8375078\ttest: 0.7897775\tbest: 0.7901010 (2017)\ttotal: 4m 18s\tremaining: 6m 11s\n"
     ]
    },
    {
     "name": "stdout",
     "output_type": "stream",
     "text": [
      "2100:\tlearn: 0.8387692\ttest: 0.7895848\tbest: 0.7901010 (2017)\ttotal: 4m 24s\tremaining: 6m 5s\n"
     ]
    },
    {
     "name": "stdout",
     "output_type": "stream",
     "text": [
      "2150:\tlearn: 0.8396528\ttest: 0.7897217\tbest: 0.7901010 (2017)\ttotal: 4m 31s\tremaining: 5m 59s\n"
     ]
    },
    {
     "name": "stdout",
     "output_type": "stream",
     "text": [
      "2200:\tlearn: 0.8409515\ttest: 0.7899075\tbest: 0.7902078 (2166)\ttotal: 4m 37s\tremaining: 5m 52s\n"
     ]
    },
    {
     "name": "stdout",
     "output_type": "stream",
     "text": [
      "2250:\tlearn: 0.8419835\ttest: 0.7900089\tbest: 0.7902078 (2166)\ttotal: 4m 43s\tremaining: 5m 46s\n"
     ]
    },
    {
     "name": "stdout",
     "output_type": "stream",
     "text": [
      "2300:\tlearn: 0.8431143\ttest: 0.7901126\tbest: 0.7902078 (2166)\ttotal: 4m 49s\tremaining: 5m 40s\n"
     ]
    },
    {
     "name": "stdout",
     "output_type": "stream",
     "text": [
      "2350:\tlearn: 0.8443395\ttest: 0.7901681\tbest: 0.7902620 (2314)\ttotal: 4m 56s\tremaining: 5m 33s\n"
     ]
    },
    {
     "name": "stdout",
     "output_type": "stream",
     "text": [
      "2400:\tlearn: 0.8451787\ttest: 0.7898842\tbest: 0.7904006 (2352)\ttotal: 5m 2s\tremaining: 5m 27s\n"
     ]
    },
    {
     "name": "stdout",
     "output_type": "stream",
     "text": [
      "2450:\tlearn: 0.8463707\ttest: 0.7895136\tbest: 0.7904006 (2352)\ttotal: 5m 8s\tremaining: 5m 21s\n"
     ]
    },
    {
     "name": "stdout",
     "output_type": "stream",
     "text": [
      "2500:\tlearn: 0.8472947\ttest: 0.7901063\tbest: 0.7904006 (2352)\ttotal: 5m 15s\tremaining: 5m 14s\n"
     ]
    },
    {
     "name": "stdout",
     "output_type": "stream",
     "text": [
      "2550:\tlearn: 0.8481984\ttest: 0.7899795\tbest: 0.7904006 (2352)\ttotal: 5m 21s\tremaining: 5m 8s\n"
     ]
    },
    {
     "name": "stdout",
     "output_type": "stream",
     "text": [
      "2600:\tlearn: 0.8493836\ttest: 0.7902520\tbest: 0.7904006 (2352)\ttotal: 5m 27s\tremaining: 5m 2s\n"
     ]
    },
    {
     "name": "stdout",
     "output_type": "stream",
     "text": [
      "2650:\tlearn: 0.8503751\ttest: 0.7900381\tbest: 0.7904006 (2352)\ttotal: 5m 33s\tremaining: 4m 55s\n"
     ]
    },
    {
     "name": "stdout",
     "output_type": "stream",
     "text": [
      "2700:\tlearn: 0.8513384\ttest: 0.7905962\tbest: 0.7907039 (2698)\ttotal: 5m 40s\tremaining: 4m 49s\n"
     ]
    },
    {
     "name": "stdout",
     "output_type": "stream",
     "text": [
      "2750:\tlearn: 0.8521881\ttest: 0.7901903\tbest: 0.7907039 (2698)\ttotal: 5m 46s\tremaining: 4m 43s\n"
     ]
    },
    {
     "name": "stdout",
     "output_type": "stream",
     "text": [
      "2800:\tlearn: 0.8530548\ttest: 0.7907418\tbest: 0.7908049 (2799)\ttotal: 5m 52s\tremaining: 4m 36s\n"
     ]
    },
    {
     "name": "stdout",
     "output_type": "stream",
     "text": [
      "2850:\tlearn: 0.8540037\ttest: 0.7904340\tbest: 0.7910235 (2814)\ttotal: 5m 58s\tremaining: 4m 30s\n"
     ]
    },
    {
     "name": "stdout",
     "output_type": "stream",
     "text": [
      "2900:\tlearn: 0.8549754\ttest: 0.7904024\tbest: 0.7910235 (2814)\ttotal: 6m 5s\tremaining: 4m 24s\n"
     ]
    },
    {
     "name": "stdout",
     "output_type": "stream",
     "text": [
      "2950:\tlearn: 0.8561975\ttest: 0.7904843\tbest: 0.7910235 (2814)\ttotal: 6m 11s\tremaining: 4m 17s\n"
     ]
    },
    {
     "name": "stdout",
     "output_type": "stream",
     "text": [
      "3000:\tlearn: 0.8571645\ttest: 0.7900579\tbest: 0.7910235 (2814)\ttotal: 6m 17s\tremaining: 4m 11s\n"
     ]
    },
    {
     "name": "stdout",
     "output_type": "stream",
     "text": [
      "3050:\tlearn: 0.8581118\ttest: 0.7899235\tbest: 0.7910235 (2814)\ttotal: 6m 23s\tremaining: 4m 5s\n"
     ]
    },
    {
     "name": "stdout",
     "output_type": "stream",
     "text": [
      "3100:\tlearn: 0.8591866\ttest: 0.7898483\tbest: 0.7910235 (2814)\ttotal: 6m 30s\tremaining: 3m 58s\n"
     ]
    },
    {
     "name": "stdout",
     "output_type": "stream",
     "text": [
      "3150:\tlearn: 0.8604571\ttest: 0.7903399\tbest: 0.7910235 (2814)\ttotal: 6m 36s\tremaining: 3m 52s\n"
     ]
    },
    {
     "name": "stdout",
     "output_type": "stream",
     "text": [
      "3200:\tlearn: 0.8613220\ttest: 0.7903800\tbest: 0.7910235 (2814)\ttotal: 6m 42s\tremaining: 3m 46s\n"
     ]
    },
    {
     "name": "stdout",
     "output_type": "stream",
     "text": [
      "3250:\tlearn: 0.8622682\ttest: 0.7899486\tbest: 0.7910235 (2814)\ttotal: 6m 48s\tremaining: 3m 39s\n"
     ]
    },
    {
     "name": "stdout",
     "output_type": "stream",
     "text": [
      "3300:\tlearn: 0.8631561\ttest: 0.7899332\tbest: 0.7910235 (2814)\ttotal: 6m 55s\tremaining: 3m 33s\n"
     ]
    },
    {
     "name": "stdout",
     "output_type": "stream",
     "text": [
      "3350:\tlearn: 0.8643779\ttest: 0.7897040\tbest: 0.7910235 (2814)\ttotal: 7m 1s\tremaining: 3m 27s\n"
     ]
    },
    {
     "name": "stdout",
     "output_type": "stream",
     "text": [
      "3400:\tlearn: 0.8650834\ttest: 0.7896755\tbest: 0.7910235 (2814)\ttotal: 7m 7s\tremaining: 3m 21s\n"
     ]
    },
    {
     "name": "stdout",
     "output_type": "stream",
     "text": [
      "3450:\tlearn: 0.8661588\ttest: 0.7898264\tbest: 0.7910235 (2814)\ttotal: 7m 13s\tremaining: 3m 14s\n"
     ]
    },
    {
     "name": "stdout",
     "output_type": "stream",
     "text": [
      "3500:\tlearn: 0.8671198\ttest: 0.7898932\tbest: 0.7910235 (2814)\ttotal: 7m 20s\tremaining: 3m 8s\n"
     ]
    },
    {
     "name": "stdout",
     "output_type": "stream",
     "text": [
      "3550:\tlearn: 0.8679964\ttest: 0.7902130\tbest: 0.7910235 (2814)\ttotal: 7m 26s\tremaining: 3m 2s\n"
     ]
    },
    {
     "name": "stdout",
     "output_type": "stream",
     "text": [
      "3600:\tlearn: 0.8689549\ttest: 0.7900982\tbest: 0.7910235 (2814)\ttotal: 7m 32s\tremaining: 2m 55s\n"
     ]
    },
    {
     "name": "stdout",
     "output_type": "stream",
     "text": [
      "3650:\tlearn: 0.8697890\ttest: 0.7896727\tbest: 0.7910235 (2814)\ttotal: 7m 38s\tremaining: 2m 49s\n"
     ]
    },
    {
     "name": "stdout",
     "output_type": "stream",
     "text": [
      "3700:\tlearn: 0.8706418\ttest: 0.7894729\tbest: 0.7910235 (2814)\ttotal: 7m 45s\tremaining: 2m 43s\n"
     ]
    },
    {
     "name": "stdout",
     "output_type": "stream",
     "text": [
      "3750:\tlearn: 0.8713352\ttest: 0.7895574\tbest: 0.7910235 (2814)\ttotal: 7m 51s\tremaining: 2m 36s\n"
     ]
    },
    {
     "name": "stdout",
     "output_type": "stream",
     "text": [
      "3800:\tlearn: 0.8724821\ttest: 0.7899604\tbest: 0.7910235 (2814)\ttotal: 7m 57s\tremaining: 2m 30s\n"
     ]
    },
    {
     "name": "stdout",
     "output_type": "stream",
     "text": [
      "3850:\tlearn: 0.8730691\ttest: 0.7904756\tbest: 0.7910235 (2814)\ttotal: 8m 4s\tremaining: 2m 24s\n"
     ]
    },
    {
     "name": "stdout",
     "output_type": "stream",
     "text": [
      "3900:\tlearn: 0.8739665\ttest: 0.7905392\tbest: 0.7910235 (2814)\ttotal: 8m 10s\tremaining: 2m 18s\n"
     ]
    },
    {
     "name": "stdout",
     "output_type": "stream",
     "text": [
      "3950:\tlearn: 0.8750632\ttest: 0.7908744\tbest: 0.7910235 (2814)\ttotal: 8m 16s\tremaining: 2m 11s\n"
     ]
    },
    {
     "name": "stdout",
     "output_type": "stream",
     "text": [
      "4000:\tlearn: 0.8758812\ttest: 0.7911231\tbest: 0.7912623 (3975)\ttotal: 8m 23s\tremaining: 2m 5s\n"
     ]
    },
    {
     "name": "stdout",
     "output_type": "stream",
     "text": [
      "4050:\tlearn: 0.8767943\ttest: 0.7905988\tbest: 0.7912623 (3975)\ttotal: 8m 29s\tremaining: 1m 59s\n"
     ]
    },
    {
     "name": "stdout",
     "output_type": "stream",
     "text": [
      "4100:\tlearn: 0.8775829\ttest: 0.7904077\tbest: 0.7912623 (3975)\ttotal: 8m 35s\tremaining: 1m 53s\n"
     ]
    },
    {
     "name": "stdout",
     "output_type": "stream",
     "text": [
      "4150:\tlearn: 0.8787303\ttest: 0.7903902\tbest: 0.7912623 (3975)\ttotal: 8m 41s\tremaining: 1m 46s\n"
     ]
    },
    {
     "name": "stdout",
     "output_type": "stream",
     "text": [
      "4200:\tlearn: 0.8796104\ttest: 0.7901788\tbest: 0.7912623 (3975)\ttotal: 8m 48s\tremaining: 1m 40s\n"
     ]
    },
    {
     "name": "stdout",
     "output_type": "stream",
     "text": [
      "4250:\tlearn: 0.8803457\ttest: 0.7902029\tbest: 0.7912623 (3975)\ttotal: 8m 54s\tremaining: 1m 34s\n"
     ]
    },
    {
     "name": "stdout",
     "output_type": "stream",
     "text": [
      "4300:\tlearn: 0.8811182\ttest: 0.7906424\tbest: 0.7912623 (3975)\ttotal: 9m\tremaining: 1m 27s\n"
     ]
    },
    {
     "name": "stdout",
     "output_type": "stream",
     "text": [
      "4350:\tlearn: 0.8819434\ttest: 0.7903532\tbest: 0.7912623 (3975)\ttotal: 9m 6s\tremaining: 1m 21s\n"
     ]
    },
    {
     "name": "stdout",
     "output_type": "stream",
     "text": [
      "4400:\tlearn: 0.8828354\ttest: 0.7901424\tbest: 0.7912623 (3975)\ttotal: 9m 13s\tremaining: 1m 15s\n"
     ]
    },
    {
     "name": "stdout",
     "output_type": "stream",
     "text": [
      "4450:\tlearn: 0.8838293\ttest: 0.7904404\tbest: 0.7912623 (3975)\ttotal: 9m 19s\tremaining: 1m 9s\n"
     ]
    },
    {
     "name": "stdout",
     "output_type": "stream",
     "text": [
      "4500:\tlearn: 0.8844497\ttest: 0.7904454\tbest: 0.7912623 (3975)\ttotal: 9m 25s\tremaining: 1m 2s\n"
     ]
    },
    {
     "name": "stdout",
     "output_type": "stream",
     "text": [
      "4550:\tlearn: 0.8853668\ttest: 0.7902772\tbest: 0.7912623 (3975)\ttotal: 9m 31s\tremaining: 56.4s\n"
     ]
    },
    {
     "name": "stdout",
     "output_type": "stream",
     "text": [
      "4600:\tlearn: 0.8860109\ttest: 0.7904050\tbest: 0.7912623 (3975)\ttotal: 9m 38s\tremaining: 50.1s\n"
     ]
    },
    {
     "name": "stdout",
     "output_type": "stream",
     "text": [
      "4650:\tlearn: 0.8868266\ttest: 0.7904075\tbest: 0.7912623 (3975)\ttotal: 9m 44s\tremaining: 43.9s\n"
     ]
    },
    {
     "name": "stdout",
     "output_type": "stream",
     "text": [
      "4700:\tlearn: 0.8875944\ttest: 0.7904935\tbest: 0.7912623 (3975)\ttotal: 9m 50s\tremaining: 37.6s\n"
     ]
    },
    {
     "name": "stdout",
     "output_type": "stream",
     "text": [
      "4750:\tlearn: 0.8884343\ttest: 0.7903412\tbest: 0.7912623 (3975)\ttotal: 9m 56s\tremaining: 31.3s\n"
     ]
    },
    {
     "name": "stdout",
     "output_type": "stream",
     "text": [
      "4800:\tlearn: 0.8891647\ttest: 0.7901792\tbest: 0.7912623 (3975)\ttotal: 10m 3s\tremaining: 25s\n"
     ]
    },
    {
     "name": "stdout",
     "output_type": "stream",
     "text": [
      "4850:\tlearn: 0.8899287\ttest: 0.7900798\tbest: 0.7912623 (3975)\ttotal: 10m 9s\tremaining: 18.7s\n"
     ]
    },
    {
     "name": "stdout",
     "output_type": "stream",
     "text": [
      "4900:\tlearn: 0.8907409\ttest: 0.7900360\tbest: 0.7912623 (3975)\ttotal: 10m 15s\tremaining: 12.4s\n"
     ]
    },
    {
     "name": "stdout",
     "output_type": "stream",
     "text": [
      "4950:\tlearn: 0.8914895\ttest: 0.7901857\tbest: 0.7912623 (3975)\ttotal: 10m 21s\tremaining: 6.16s\n"
     ]
    },
    {
     "name": "stdout",
     "output_type": "stream",
     "text": [
      "4999:\tlearn: 0.8923159\ttest: 0.7902667\tbest: 0.7912623 (3975)\ttotal: 10m 28s\tremaining: 0us\n",
      "\n",
      "bestTest = 0.7912623263\n",
      "bestIteration = 3975\n",
      "\n"
     ]
    },
    {
     "name": "stdout",
     "output_type": "stream",
     "text": [
      "######################################## training model 5/5 ########################################\n",
      "seed: 4\n"
     ]
    },
    {
     "name": "stdout",
     "output_type": "stream",
     "text": [
      "0:\tlearn: 0.5310205\ttest: 0.5351382\tbest: 0.5351382 (0)\ttotal: 432ms\tremaining: 35m 59s\n"
     ]
    },
    {
     "name": "stdout",
     "output_type": "stream",
     "text": [
      "50:\tlearn: 0.7398370\ttest: 0.7473040\tbest: 0.7473040 (50)\ttotal: 6.61s\tremaining: 10m 41s\n"
     ]
    },
    {
     "name": "stdout",
     "output_type": "stream",
     "text": [
      "100:\tlearn: 0.7539166\ttest: 0.7610335\tbest: 0.7610335 (100)\ttotal: 12.9s\tremaining: 10m 24s\n"
     ]
    },
    {
     "name": "stdout",
     "output_type": "stream",
     "text": [
      "150:\tlearn: 0.7611954\ttest: 0.7682384\tbest: 0.7682384 (150)\ttotal: 19.2s\tremaining: 10m 15s\n"
     ]
    },
    {
     "name": "stdout",
     "output_type": "stream",
     "text": [
      "200:\tlearn: 0.7662606\ttest: 0.7726477\tbest: 0.7726620 (199)\ttotal: 25.5s\tremaining: 10m 7s\n"
     ]
    },
    {
     "name": "stdout",
     "output_type": "stream",
     "text": [
      "250:\tlearn: 0.7703027\ttest: 0.7756680\tbest: 0.7756680 (250)\ttotal: 31.8s\tremaining: 10m\n"
     ]
    },
    {
     "name": "stdout",
     "output_type": "stream",
     "text": [
      "300:\tlearn: 0.7746581\ttest: 0.7813996\tbest: 0.7813996 (300)\ttotal: 38s\tremaining: 9m 53s\n"
     ]
    },
    {
     "name": "stdout",
     "output_type": "stream",
     "text": [
      "350:\tlearn: 0.7806045\ttest: 0.7871734\tbest: 0.7871734 (350)\ttotal: 44.3s\tremaining: 9m 47s\n"
     ]
    },
    {
     "name": "stdout",
     "output_type": "stream",
     "text": [
      "400:\tlearn: 0.7850417\ttest: 0.7898723\tbest: 0.7898723 (400)\ttotal: 50.6s\tremaining: 9m 40s\n"
     ]
    },
    {
     "name": "stdout",
     "output_type": "stream",
     "text": [
      "450:\tlearn: 0.7880138\ttest: 0.7926473\tbest: 0.7926473 (450)\ttotal: 57s\tremaining: 9m 34s\n"
     ]
    },
    {
     "name": "stdout",
     "output_type": "stream",
     "text": [
      "500:\tlearn: 0.7910009\ttest: 0.7923080\tbest: 0.7928303 (458)\ttotal: 1m 3s\tremaining: 9m 28s\n"
     ]
    },
    {
     "name": "stdout",
     "output_type": "stream",
     "text": [
      "550:\tlearn: 0.7935611\ttest: 0.7933960\tbest: 0.7934566 (545)\ttotal: 1m 9s\tremaining: 9m 21s\n"
     ]
    },
    {
     "name": "stdout",
     "output_type": "stream",
     "text": [
      "600:\tlearn: 0.7958813\ttest: 0.7938129\tbest: 0.7938129 (600)\ttotal: 1m 15s\tremaining: 9m 15s\n"
     ]
    },
    {
     "name": "stdout",
     "output_type": "stream",
     "text": [
      "650:\tlearn: 0.7980747\ttest: 0.7944459\tbest: 0.7944608 (641)\ttotal: 1m 22s\tremaining: 9m 9s\n"
     ]
    },
    {
     "name": "stdout",
     "output_type": "stream",
     "text": [
      "700:\tlearn: 0.7997343\ttest: 0.7946130\tbest: 0.7946130 (700)\ttotal: 1m 28s\tremaining: 9m 2s\n"
     ]
    },
    {
     "name": "stdout",
     "output_type": "stream",
     "text": [
      "750:\tlearn: 0.8014275\ttest: 0.7953402\tbest: 0.7956579 (739)\ttotal: 1m 34s\tremaining: 8m 56s\n"
     ]
    },
    {
     "name": "stdout",
     "output_type": "stream",
     "text": [
      "800:\tlearn: 0.8034823\ttest: 0.7954321\tbest: 0.7956579 (739)\ttotal: 1m 41s\tremaining: 8m 49s\n"
     ]
    },
    {
     "name": "stdout",
     "output_type": "stream",
     "text": [
      "850:\tlearn: 0.8046764\ttest: 0.7955819\tbest: 0.7956813 (847)\ttotal: 1m 47s\tremaining: 8m 43s\n"
     ]
    },
    {
     "name": "stdout",
     "output_type": "stream",
     "text": [
      "900:\tlearn: 0.8063837\ttest: 0.7956457\tbest: 0.7959392 (863)\ttotal: 1m 53s\tremaining: 8m 37s\n"
     ]
    },
    {
     "name": "stdout",
     "output_type": "stream",
     "text": [
      "950:\tlearn: 0.8078392\ttest: 0.7964227\tbest: 0.7966086 (946)\ttotal: 1m 59s\tremaining: 8m 30s\n"
     ]
    },
    {
     "name": "stdout",
     "output_type": "stream",
     "text": [
      "1000:\tlearn: 0.8092990\ttest: 0.7961026\tbest: 0.7966086 (946)\ttotal: 2m 6s\tremaining: 8m 24s\n"
     ]
    },
    {
     "name": "stdout",
     "output_type": "stream",
     "text": [
      "1050:\tlearn: 0.8105079\ttest: 0.7965302\tbest: 0.7968173 (1040)\ttotal: 2m 12s\tremaining: 8m 17s\n"
     ]
    },
    {
     "name": "stdout",
     "output_type": "stream",
     "text": [
      "1100:\tlearn: 0.8116965\ttest: 0.7966083\tbest: 0.7969884 (1065)\ttotal: 2m 18s\tremaining: 8m 11s\n"
     ]
    },
    {
     "name": "stdout",
     "output_type": "stream",
     "text": [
      "1150:\tlearn: 0.8132281\ttest: 0.7969818\tbest: 0.7970463 (1136)\ttotal: 2m 25s\tremaining: 8m 5s\n"
     ]
    },
    {
     "name": "stdout",
     "output_type": "stream",
     "text": [
      "1200:\tlearn: 0.8147064\ttest: 0.7970716\tbest: 0.7971620 (1159)\ttotal: 2m 31s\tremaining: 7m 58s\n"
     ]
    },
    {
     "name": "stdout",
     "output_type": "stream",
     "text": [
      "1250:\tlearn: 0.8159364\ttest: 0.7970455\tbest: 0.7974846 (1219)\ttotal: 2m 37s\tremaining: 7m 52s\n"
     ]
    },
    {
     "name": "stdout",
     "output_type": "stream",
     "text": [
      "1300:\tlearn: 0.8169206\ttest: 0.7976080\tbest: 0.7976872 (1296)\ttotal: 2m 43s\tremaining: 7m 46s\n"
     ]
    },
    {
     "name": "stdout",
     "output_type": "stream",
     "text": [
      "1350:\tlearn: 0.8184480\ttest: 0.7977473\tbest: 0.7980708 (1328)\ttotal: 2m 50s\tremaining: 7m 39s\n"
     ]
    },
    {
     "name": "stdout",
     "output_type": "stream",
     "text": [
      "1400:\tlearn: 0.8197363\ttest: 0.7978324\tbest: 0.7980708 (1328)\ttotal: 2m 56s\tremaining: 7m 33s\n"
     ]
    },
    {
     "name": "stdout",
     "output_type": "stream",
     "text": [
      "1450:\tlearn: 0.8210064\ttest: 0.7979711\tbest: 0.7982243 (1419)\ttotal: 3m 2s\tremaining: 7m 27s\n"
     ]
    },
    {
     "name": "stdout",
     "output_type": "stream",
     "text": [
      "1500:\tlearn: 0.8220664\ttest: 0.7976251\tbest: 0.7982243 (1419)\ttotal: 3m 9s\tremaining: 7m 20s\n"
     ]
    },
    {
     "name": "stdout",
     "output_type": "stream",
     "text": [
      "1550:\tlearn: 0.8235891\ttest: 0.7981376\tbest: 0.7983997 (1534)\ttotal: 3m 15s\tremaining: 7m 14s\n"
     ]
    },
    {
     "name": "stdout",
     "output_type": "stream",
     "text": [
      "1600:\tlearn: 0.8249258\ttest: 0.7973715\tbest: 0.7984113 (1560)\ttotal: 3m 21s\tremaining: 7m 8s\n"
     ]
    },
    {
     "name": "stdout",
     "output_type": "stream",
     "text": [
      "1650:\tlearn: 0.8260996\ttest: 0.7976822\tbest: 0.7984113 (1560)\ttotal: 3m 27s\tremaining: 7m 1s\n"
     ]
    },
    {
     "name": "stdout",
     "output_type": "stream",
     "text": [
      "1700:\tlearn: 0.8270114\ttest: 0.7970034\tbest: 0.7984113 (1560)\ttotal: 3m 34s\tremaining: 6m 55s\n"
     ]
    },
    {
     "name": "stdout",
     "output_type": "stream",
     "text": [
      "1750:\tlearn: 0.8284281\ttest: 0.7972878\tbest: 0.7984113 (1560)\ttotal: 3m 40s\tremaining: 6m 49s\n"
     ]
    },
    {
     "name": "stdout",
     "output_type": "stream",
     "text": [
      "1800:\tlearn: 0.8294258\ttest: 0.7978495\tbest: 0.7984113 (1560)\ttotal: 3m 46s\tremaining: 6m 42s\n"
     ]
    },
    {
     "name": "stdout",
     "output_type": "stream",
     "text": [
      "1850:\tlearn: 0.8304417\ttest: 0.7973045\tbest: 0.7984113 (1560)\ttotal: 3m 53s\tremaining: 6m 36s\n"
     ]
    },
    {
     "name": "stdout",
     "output_type": "stream",
     "text": [
      "1900:\tlearn: 0.8317294\ttest: 0.7975747\tbest: 0.7984113 (1560)\ttotal: 3m 59s\tremaining: 6m 30s\n"
     ]
    },
    {
     "name": "stdout",
     "output_type": "stream",
     "text": [
      "1950:\tlearn: 0.8328582\ttest: 0.7978171\tbest: 0.7984113 (1560)\ttotal: 4m 5s\tremaining: 6m 23s\n"
     ]
    },
    {
     "name": "stdout",
     "output_type": "stream",
     "text": [
      "2000:\tlearn: 0.8341499\ttest: 0.7979464\tbest: 0.7984113 (1560)\ttotal: 4m 11s\tremaining: 6m 17s\n"
     ]
    },
    {
     "name": "stdout",
     "output_type": "stream",
     "text": [
      "2050:\tlearn: 0.8351124\ttest: 0.7980873\tbest: 0.7984209 (2035)\ttotal: 4m 17s\tremaining: 6m 10s\n"
     ]
    },
    {
     "name": "stdout",
     "output_type": "stream",
     "text": [
      "2100:\tlearn: 0.8362765\ttest: 0.7979526\tbest: 0.7984209 (2035)\ttotal: 4m 24s\tremaining: 6m 4s\n"
     ]
    },
    {
     "name": "stdout",
     "output_type": "stream",
     "text": [
      "2150:\tlearn: 0.8372506\ttest: 0.7980871\tbest: 0.7984209 (2035)\ttotal: 4m 30s\tremaining: 5m 58s\n"
     ]
    },
    {
     "name": "stdout",
     "output_type": "stream",
     "text": [
      "2200:\tlearn: 0.8384554\ttest: 0.7982981\tbest: 0.7985514 (2197)\ttotal: 4m 36s\tremaining: 5m 51s\n"
     ]
    },
    {
     "name": "stdout",
     "output_type": "stream",
     "text": [
      "2250:\tlearn: 0.8393822\ttest: 0.7978293\tbest: 0.7985514 (2197)\ttotal: 4m 42s\tremaining: 5m 45s\n"
     ]
    },
    {
     "name": "stdout",
     "output_type": "stream",
     "text": [
      "2300:\tlearn: 0.8403918\ttest: 0.7984060\tbest: 0.7985514 (2197)\ttotal: 4m 49s\tremaining: 5m 39s\n"
     ]
    },
    {
     "name": "stdout",
     "output_type": "stream",
     "text": [
      "2350:\tlearn: 0.8417178\ttest: 0.7984608\tbest: 0.7985514 (2197)\ttotal: 4m 55s\tremaining: 5m 32s\n"
     ]
    },
    {
     "name": "stdout",
     "output_type": "stream",
     "text": [
      "2400:\tlearn: 0.8426948\ttest: 0.7986600\tbest: 0.7989503 (2395)\ttotal: 5m 1s\tremaining: 5m 26s\n"
     ]
    },
    {
     "name": "stdout",
     "output_type": "stream",
     "text": [
      "2450:\tlearn: 0.8440089\ttest: 0.7987991\tbest: 0.7990311 (2441)\ttotal: 5m 8s\tremaining: 5m 20s\n"
     ]
    },
    {
     "name": "stdout",
     "output_type": "stream",
     "text": [
      "2500:\tlearn: 0.8448422\ttest: 0.7988253\tbest: 0.7990311 (2441)\ttotal: 5m 14s\tremaining: 5m 14s\n"
     ]
    },
    {
     "name": "stdout",
     "output_type": "stream",
     "text": [
      "2550:\tlearn: 0.8461085\ttest: 0.7988818\tbest: 0.7990311 (2441)\ttotal: 5m 20s\tremaining: 5m 7s\n"
     ]
    },
    {
     "name": "stdout",
     "output_type": "stream",
     "text": [
      "2600:\tlearn: 0.8471622\ttest: 0.7985683\tbest: 0.7990716 (2554)\ttotal: 5m 26s\tremaining: 5m 1s\n"
     ]
    },
    {
     "name": "stdout",
     "output_type": "stream",
     "text": [
      "2650:\tlearn: 0.8481419\ttest: 0.7991061\tbest: 0.7991272 (2649)\ttotal: 5m 33s\tremaining: 4m 55s\n"
     ]
    },
    {
     "name": "stdout",
     "output_type": "stream",
     "text": [
      "2700:\tlearn: 0.8493824\ttest: 0.7993206\tbest: 0.7994260 (2696)\ttotal: 5m 39s\tremaining: 4m 48s\n"
     ]
    },
    {
     "name": "stdout",
     "output_type": "stream",
     "text": [
      "2750:\tlearn: 0.8504703\ttest: 0.7991624\tbest: 0.7994260 (2696)\ttotal: 5m 45s\tremaining: 4m 42s\n"
     ]
    },
    {
     "name": "stdout",
     "output_type": "stream",
     "text": [
      "2800:\tlearn: 0.8516726\ttest: 0.7990421\tbest: 0.7994260 (2696)\ttotal: 5m 51s\tremaining: 4m 36s\n"
     ]
    },
    {
     "name": "stdout",
     "output_type": "stream",
     "text": [
      "2850:\tlearn: 0.8527883\ttest: 0.7993834\tbest: 0.7995516 (2845)\ttotal: 5m 58s\tremaining: 4m 29s\n"
     ]
    },
    {
     "name": "stdout",
     "output_type": "stream",
     "text": [
      "2900:\tlearn: 0.8535845\ttest: 0.7988423\tbest: 0.7995516 (2845)\ttotal: 6m 4s\tremaining: 4m 23s\n"
     ]
    },
    {
     "name": "stdout",
     "output_type": "stream",
     "text": [
      "2950:\tlearn: 0.8547931\ttest: 0.7997888\tbest: 0.7997888 (2950)\ttotal: 6m 10s\tremaining: 4m 17s\n"
     ]
    },
    {
     "name": "stdout",
     "output_type": "stream",
     "text": [
      "3000:\tlearn: 0.8556940\ttest: 0.7995855\tbest: 0.7998525 (2953)\ttotal: 6m 16s\tremaining: 4m 11s\n"
     ]
    },
    {
     "name": "stdout",
     "output_type": "stream",
     "text": [
      "3050:\tlearn: 0.8567431\ttest: 0.7999151\tbest: 0.8002233 (3019)\ttotal: 6m 23s\tremaining: 4m 4s\n"
     ]
    },
    {
     "name": "stdout",
     "output_type": "stream",
     "text": [
      "3100:\tlearn: 0.8578901\ttest: 0.8000038\tbest: 0.8002233 (3019)\ttotal: 6m 29s\tremaining: 3m 58s\n"
     ]
    },
    {
     "name": "stdout",
     "output_type": "stream",
     "text": [
      "3150:\tlearn: 0.8589820\ttest: 0.8001671\tbest: 0.8002501 (3147)\ttotal: 6m 35s\tremaining: 3m 52s\n"
     ]
    },
    {
     "name": "stdout",
     "output_type": "stream",
     "text": [
      "3200:\tlearn: 0.8599620\ttest: 0.7999115\tbest: 0.8002714 (3163)\ttotal: 6m 42s\tremaining: 3m 45s\n"
     ]
    },
    {
     "name": "stdout",
     "output_type": "stream",
     "text": [
      "3250:\tlearn: 0.8608121\ttest: 0.8000412\tbest: 0.8003303 (3221)\ttotal: 6m 48s\tremaining: 3m 39s\n"
     ]
    },
    {
     "name": "stdout",
     "output_type": "stream",
     "text": [
      "3300:\tlearn: 0.8617092\ttest: 0.7995485\tbest: 0.8003303 (3221)\ttotal: 6m 54s\tremaining: 3m 33s\n"
     ]
    },
    {
     "name": "stdout",
     "output_type": "stream",
     "text": [
      "3350:\tlearn: 0.8626940\ttest: 0.7998509\tbest: 0.8003303 (3221)\ttotal: 7m\tremaining: 3m 27s\n"
     ]
    },
    {
     "name": "stdout",
     "output_type": "stream",
     "text": [
      "3400:\tlearn: 0.8636636\ttest: 0.7997179\tbest: 0.8003303 (3221)\ttotal: 7m 7s\tremaining: 3m 20s\n"
     ]
    },
    {
     "name": "stdout",
     "output_type": "stream",
     "text": [
      "3450:\tlearn: 0.8647653\ttest: 0.8000740\tbest: 0.8003303 (3221)\ttotal: 7m 13s\tremaining: 3m 14s\n"
     ]
    },
    {
     "name": "stdout",
     "output_type": "stream",
     "text": [
      "3500:\tlearn: 0.8655825\ttest: 0.8000172\tbest: 0.8003303 (3221)\ttotal: 7m 19s\tremaining: 3m 8s\n"
     ]
    },
    {
     "name": "stdout",
     "output_type": "stream",
     "text": [
      "3550:\tlearn: 0.8662989\ttest: 0.8001485\tbest: 0.8004212 (3519)\ttotal: 7m 26s\tremaining: 3m 2s\n"
     ]
    },
    {
     "name": "stdout",
     "output_type": "stream",
     "text": [
      "3600:\tlearn: 0.8673857\ttest: 0.8003794\tbest: 0.8005081 (3576)\ttotal: 7m 32s\tremaining: 2m 55s\n"
     ]
    },
    {
     "name": "stdout",
     "output_type": "stream",
     "text": [
      "3650:\tlearn: 0.8682756\ttest: 0.8001338\tbest: 0.8005301 (3644)\ttotal: 7m 38s\tremaining: 2m 49s\n"
     ]
    },
    {
     "name": "stdout",
     "output_type": "stream",
     "text": [
      "3700:\tlearn: 0.8690466\ttest: 0.8002649\tbest: 0.8005301 (3644)\ttotal: 7m 44s\tremaining: 2m 43s\n"
     ]
    },
    {
     "name": "stdout",
     "output_type": "stream",
     "text": [
      "3750:\tlearn: 0.8700981\ttest: 0.8004187\tbest: 0.8005301 (3644)\ttotal: 7m 51s\tremaining: 2m 36s\n"
     ]
    },
    {
     "name": "stdout",
     "output_type": "stream",
     "text": [
      "3800:\tlearn: 0.8709797\ttest: 0.8005270\tbest: 0.8007350 (3759)\ttotal: 7m 57s\tremaining: 2m 30s\n"
     ]
    },
    {
     "name": "stdout",
     "output_type": "stream",
     "text": [
      "3850:\tlearn: 0.8718002\ttest: 0.8001396\tbest: 0.8008237 (3807)\ttotal: 8m 3s\tremaining: 2m 24s\n"
     ]
    },
    {
     "name": "stdout",
     "output_type": "stream",
     "text": [
      "3900:\tlearn: 0.8727243\ttest: 0.8002862\tbest: 0.8008237 (3807)\ttotal: 8m 10s\tremaining: 2m 18s\n"
     ]
    },
    {
     "name": "stdout",
     "output_type": "stream",
     "text": [
      "3950:\tlearn: 0.8736072\ttest: 0.8006458\tbest: 0.8009388 (3936)\ttotal: 8m 16s\tremaining: 2m 11s\n"
     ]
    },
    {
     "name": "stdout",
     "output_type": "stream",
     "text": [
      "4000:\tlearn: 0.8747073\ttest: 0.8001301\tbest: 0.8009388 (3936)\ttotal: 8m 23s\tremaining: 2m 5s\n"
     ]
    },
    {
     "name": "stdout",
     "output_type": "stream",
     "text": [
      "4050:\tlearn: 0.8755963\ttest: 0.8003190\tbest: 0.8009388 (3936)\ttotal: 8m 29s\tremaining: 1m 59s\n"
     ]
    },
    {
     "name": "stdout",
     "output_type": "stream",
     "text": [
      "4100:\tlearn: 0.8763674\ttest: 0.8004640\tbest: 0.8009388 (3936)\ttotal: 8m 35s\tremaining: 1m 53s\n"
     ]
    },
    {
     "name": "stdout",
     "output_type": "stream",
     "text": [
      "4150:\tlearn: 0.8771855\ttest: 0.8006324\tbest: 0.8011560 (4121)\ttotal: 8m 42s\tremaining: 1m 46s\n"
     ]
    },
    {
     "name": "stdout",
     "output_type": "stream",
     "text": [
      "4200:\tlearn: 0.8780473\ttest: 0.8011034\tbest: 0.8011646 (4198)\ttotal: 8m 48s\tremaining: 1m 40s\n"
     ]
    },
    {
     "name": "stdout",
     "output_type": "stream",
     "text": [
      "4250:\tlearn: 0.8789241\ttest: 0.8010503\tbest: 0.8012492 (4208)\ttotal: 8m 54s\tremaining: 1m 34s\n"
     ]
    },
    {
     "name": "stdout",
     "output_type": "stream",
     "text": [
      "4300:\tlearn: 0.8796802\ttest: 0.8007885\tbest: 0.8012492 (4208)\ttotal: 9m 1s\tremaining: 1m 27s\n"
     ]
    },
    {
     "name": "stdout",
     "output_type": "stream",
     "text": [
      "4350:\tlearn: 0.8804226\ttest: 0.8010163\tbest: 0.8014168 (4318)\ttotal: 9m 7s\tremaining: 1m 21s\n"
     ]
    },
    {
     "name": "stdout",
     "output_type": "stream",
     "text": [
      "4400:\tlearn: 0.8813579\ttest: 0.8011404\tbest: 0.8014168 (4318)\ttotal: 9m 13s\tremaining: 1m 15s\n"
     ]
    },
    {
     "name": "stdout",
     "output_type": "stream",
     "text": [
      "4450:\tlearn: 0.8818855\ttest: 0.8012028\tbest: 0.8015400 (4439)\ttotal: 9m 19s\tremaining: 1m 9s\n"
     ]
    },
    {
     "name": "stdout",
     "output_type": "stream",
     "text": [
      "4500:\tlearn: 0.8831078\ttest: 0.8011871\tbest: 0.8015467 (4484)\ttotal: 9m 26s\tremaining: 1m 2s\n"
     ]
    },
    {
     "name": "stdout",
     "output_type": "stream",
     "text": [
      "4550:\tlearn: 0.8838102\ttest: 0.8012310\tbest: 0.8015467 (4484)\ttotal: 9m 32s\tremaining: 56.5s\n"
     ]
    },
    {
     "name": "stdout",
     "output_type": "stream",
     "text": [
      "4600:\tlearn: 0.8844153\ttest: 0.8012066\tbest: 0.8015895 (4573)\ttotal: 9m 38s\tremaining: 50.2s\n"
     ]
    },
    {
     "name": "stdout",
     "output_type": "stream",
     "text": [
      "4650:\tlearn: 0.8851867\ttest: 0.8013591\tbest: 0.8015895 (4573)\ttotal: 9m 45s\tremaining: 43.9s\n"
     ]
    },
    {
     "name": "stdout",
     "output_type": "stream",
     "text": [
      "4700:\tlearn: 0.8862438\ttest: 0.8014796\tbest: 0.8015895 (4573)\ttotal: 9m 51s\tremaining: 37.6s\n"
     ]
    },
    {
     "name": "stdout",
     "output_type": "stream",
     "text": [
      "4750:\tlearn: 0.8868154\ttest: 0.8011421\tbest: 0.8016069 (4703)\ttotal: 9m 57s\tremaining: 31.3s\n"
     ]
    },
    {
     "name": "stdout",
     "output_type": "stream",
     "text": [
      "4800:\tlearn: 0.8874765\ttest: 0.8004917\tbest: 0.8016069 (4703)\ttotal: 10m 4s\tremaining: 25s\n"
     ]
    },
    {
     "name": "stdout",
     "output_type": "stream",
     "text": [
      "4850:\tlearn: 0.8884588\ttest: 0.8010837\tbest: 0.8016069 (4703)\ttotal: 10m 10s\tremaining: 18.8s\n"
     ]
    },
    {
     "name": "stdout",
     "output_type": "stream",
     "text": [
      "4900:\tlearn: 0.8893791\ttest: 0.8008530\tbest: 0.8016069 (4703)\ttotal: 10m 16s\tremaining: 12.5s\n"
     ]
    },
    {
     "name": "stdout",
     "output_type": "stream",
     "text": [
      "4950:\tlearn: 0.8900336\ttest: 0.8008532\tbest: 0.8016069 (4703)\ttotal: 10m 23s\tremaining: 6.17s\n"
     ]
    },
    {
     "name": "stdout",
     "output_type": "stream",
     "text": [
      "4999:\tlearn: 0.8907875\ttest: 0.8012298\tbest: 0.8016069 (4703)\ttotal: 10m 29s\tremaining: 0us\n",
      "\n",
      "bestTest = 0.8016069444\n",
      "bestIteration = 4703\n",
      "\n"
     ]
    },
    {
     "name": "stdout",
     "output_type": "stream",
     "text": [
      "Training time: 52.783301802476245 min.\n"
     ]
    },
    {
     "name": "stdout",
     "output_type": "stream",
     "text": [
      "OOF recall_at4: 0.6650031978994849\n"
     ]
    },
    {
     "name": "stdout",
     "output_type": "stream",
     "text": [
      "OOF normalized_gini: 0.9241350429372844\n"
     ]
    },
    {
     "name": "stdout",
     "output_type": "stream",
     "text": [
      "OOF competition metric: 0.7945691204183847\n"
     ]
    },
    {
     "name": "stdout",
     "output_type": "stream",
     "text": [
      "############################### repeated cross-validation step: 2/5 ################################\n"
     ]
    },
    {
     "name": "stdout",
     "output_type": "stream",
     "text": [
      "######################################## training model 1/5 ########################################\n",
      "seed: 5\n"
     ]
    },
    {
     "name": "stdout",
     "output_type": "stream",
     "text": [
      "0:\tlearn: 0.5519644\ttest: 0.5508016\tbest: 0.5508016 (0)\ttotal: 464ms\tremaining: 38m 40s\n"
     ]
    },
    {
     "name": "stdout",
     "output_type": "stream",
     "text": [
      "50:\tlearn: 0.7420698\ttest: 0.7409130\tbest: 0.7409130 (50)\ttotal: 6.61s\tremaining: 10m 41s\n"
     ]
    },
    {
     "name": "stdout",
     "output_type": "stream",
     "text": [
      "100:\tlearn: 0.7538470\ttest: 0.7564909\tbest: 0.7564909 (100)\ttotal: 12.9s\tremaining: 10m 26s\n"
     ]
    },
    {
     "name": "stdout",
     "output_type": "stream",
     "text": [
      "150:\tlearn: 0.7622864\ttest: 0.7641165\tbest: 0.7641165 (150)\ttotal: 19.2s\tremaining: 10m 16s\n"
     ]
    },
    {
     "name": "stdout",
     "output_type": "stream",
     "text": [
      "200:\tlearn: 0.7670278\ttest: 0.7682936\tbest: 0.7685314 (199)\ttotal: 25.5s\tremaining: 10m 8s\n"
     ]
    },
    {
     "name": "stdout",
     "output_type": "stream",
     "text": [
      "250:\tlearn: 0.7707107\ttest: 0.7715385\tbest: 0.7715385 (250)\ttotal: 31.8s\tremaining: 10m\n"
     ]
    },
    {
     "name": "stdout",
     "output_type": "stream",
     "text": [
      "300:\tlearn: 0.7763507\ttest: 0.7763895\tbest: 0.7763895 (300)\ttotal: 38s\tremaining: 9m 53s\n"
     ]
    },
    {
     "name": "stdout",
     "output_type": "stream",
     "text": [
      "350:\tlearn: 0.7829289\ttest: 0.7821560\tbest: 0.7821560 (350)\ttotal: 44.3s\tremaining: 9m 46s\n"
     ]
    },
    {
     "name": "stdout",
     "output_type": "stream",
     "text": [
      "400:\tlearn: 0.7869628\ttest: 0.7859899\tbest: 0.7859899 (400)\ttotal: 50.6s\tremaining: 9m 39s\n"
     ]
    },
    {
     "name": "stdout",
     "output_type": "stream",
     "text": [
      "450:\tlearn: 0.7897810\ttest: 0.7873523\tbest: 0.7875109 (445)\ttotal: 56.8s\tremaining: 9m 33s\n"
     ]
    },
    {
     "name": "stdout",
     "output_type": "stream",
     "text": [
      "500:\tlearn: 0.7924411\ttest: 0.7886139\tbest: 0.7891857 (490)\ttotal: 1m 3s\tremaining: 9m 26s\n"
     ]
    },
    {
     "name": "stdout",
     "output_type": "stream",
     "text": [
      "550:\tlearn: 0.7944669\ttest: 0.7901634\tbest: 0.7904397 (539)\ttotal: 1m 9s\tremaining: 9m 20s\n"
     ]
    },
    {
     "name": "stdout",
     "output_type": "stream",
     "text": [
      "600:\tlearn: 0.7966780\ttest: 0.7905749\tbest: 0.7908867 (577)\ttotal: 1m 15s\tremaining: 9m 13s\n"
     ]
    },
    {
     "name": "stdout",
     "output_type": "stream",
     "text": [
      "650:\tlearn: 0.7986397\ttest: 0.7917573\tbest: 0.7920686 (641)\ttotal: 1m 21s\tremaining: 9m 7s\n"
     ]
    },
    {
     "name": "stdout",
     "output_type": "stream",
     "text": [
      "700:\tlearn: 0.8003608\ttest: 0.7922092\tbest: 0.7923887 (667)\ttotal: 1m 28s\tremaining: 9m 1s\n"
     ]
    },
    {
     "name": "stdout",
     "output_type": "stream",
     "text": [
      "750:\tlearn: 0.8017766\ttest: 0.7935034\tbest: 0.7935603 (748)\ttotal: 1m 34s\tremaining: 8m 54s\n"
     ]
    },
    {
     "name": "stdout",
     "output_type": "stream",
     "text": [
      "800:\tlearn: 0.8036299\ttest: 0.7948155\tbest: 0.7948155 (800)\ttotal: 1m 40s\tremaining: 8m 48s\n"
     ]
    },
    {
     "name": "stdout",
     "output_type": "stream",
     "text": [
      "850:\tlearn: 0.8054858\ttest: 0.7942605\tbest: 0.7948992 (822)\ttotal: 1m 47s\tremaining: 8m 42s\n"
     ]
    },
    {
     "name": "stdout",
     "output_type": "stream",
     "text": [
      "900:\tlearn: 0.8071268\ttest: 0.7947502\tbest: 0.7950183 (898)\ttotal: 1m 53s\tremaining: 8m 36s\n"
     ]
    },
    {
     "name": "stdout",
     "output_type": "stream",
     "text": [
      "950:\tlearn: 0.8083494\ttest: 0.7954925\tbest: 0.7955217 (940)\ttotal: 1m 59s\tremaining: 8m 29s\n"
     ]
    },
    {
     "name": "stdout",
     "output_type": "stream",
     "text": [
      "1000:\tlearn: 0.8099334\ttest: 0.7956784\tbest: 0.7960034 (989)\ttotal: 2m 6s\tremaining: 8m 23s\n"
     ]
    },
    {
     "name": "stdout",
     "output_type": "stream",
     "text": [
      "1050:\tlearn: 0.8114076\ttest: 0.7956716\tbest: 0.7961317 (1004)\ttotal: 2m 12s\tremaining: 8m 17s\n"
     ]
    },
    {
     "name": "stdout",
     "output_type": "stream",
     "text": [
      "1100:\tlearn: 0.8129051\ttest: 0.7963553\tbest: 0.7966655 (1093)\ttotal: 2m 18s\tremaining: 8m 11s\n"
     ]
    },
    {
     "name": "stdout",
     "output_type": "stream",
     "text": [
      "1150:\tlearn: 0.8142047\ttest: 0.7960669\tbest: 0.7966655 (1093)\ttotal: 2m 24s\tremaining: 8m 4s\n"
     ]
    },
    {
     "name": "stdout",
     "output_type": "stream",
     "text": [
      "1200:\tlearn: 0.8159799\ttest: 0.7963377\tbest: 0.7966655 (1093)\ttotal: 2m 31s\tremaining: 7m 58s\n"
     ]
    },
    {
     "name": "stdout",
     "output_type": "stream",
     "text": [
      "1250:\tlearn: 0.8171854\ttest: 0.7964920\tbest: 0.7968540 (1227)\ttotal: 2m 37s\tremaining: 7m 52s\n"
     ]
    },
    {
     "name": "stdout",
     "output_type": "stream",
     "text": [
      "1300:\tlearn: 0.8188323\ttest: 0.7969442\tbest: 0.7970909 (1292)\ttotal: 2m 43s\tremaining: 7m 45s\n"
     ]
    },
    {
     "name": "stdout",
     "output_type": "stream",
     "text": [
      "1350:\tlearn: 0.8202040\ttest: 0.7969291\tbest: 0.7973372 (1335)\ttotal: 2m 50s\tremaining: 7m 39s\n"
     ]
    },
    {
     "name": "stdout",
     "output_type": "stream",
     "text": [
      "1400:\tlearn: 0.8214694\ttest: 0.7969431\tbest: 0.7973372 (1335)\ttotal: 2m 56s\tremaining: 7m 33s\n"
     ]
    },
    {
     "name": "stdout",
     "output_type": "stream",
     "text": [
      "1450:\tlearn: 0.8229226\ttest: 0.7968600\tbest: 0.7977314 (1426)\ttotal: 3m 2s\tremaining: 7m 27s\n"
     ]
    },
    {
     "name": "stdout",
     "output_type": "stream",
     "text": [
      "1500:\tlearn: 0.8244112\ttest: 0.7972008\tbest: 0.7977314 (1426)\ttotal: 3m 9s\tremaining: 7m 20s\n"
     ]
    },
    {
     "name": "stdout",
     "output_type": "stream",
     "text": [
      "1550:\tlearn: 0.8257442\ttest: 0.7973479\tbest: 0.7977314 (1426)\ttotal: 3m 15s\tremaining: 7m 14s\n"
     ]
    },
    {
     "name": "stdout",
     "output_type": "stream",
     "text": [
      "1600:\tlearn: 0.8272522\ttest: 0.7972712\tbest: 0.7977314 (1426)\ttotal: 3m 21s\tremaining: 7m 8s\n"
     ]
    },
    {
     "name": "stdout",
     "output_type": "stream",
     "text": [
      "1650:\tlearn: 0.8283239\ttest: 0.7974639\tbest: 0.7977538 (1643)\ttotal: 3m 28s\tremaining: 7m 2s\n"
     ]
    },
    {
     "name": "stdout",
     "output_type": "stream",
     "text": [
      "1700:\tlearn: 0.8297226\ttest: 0.7975670\tbest: 0.7979275 (1692)\ttotal: 3m 34s\tremaining: 6m 55s\n"
     ]
    },
    {
     "name": "stdout",
     "output_type": "stream",
     "text": [
      "1750:\tlearn: 0.8307868\ttest: 0.7978636\tbest: 0.7982231 (1735)\ttotal: 3m 40s\tremaining: 6m 49s\n"
     ]
    },
    {
     "name": "stdout",
     "output_type": "stream",
     "text": [
      "1800:\tlearn: 0.8322441\ttest: 0.7975660\tbest: 0.7982231 (1735)\ttotal: 3m 46s\tremaining: 6m 43s\n"
     ]
    },
    {
     "name": "stdout",
     "output_type": "stream",
     "text": [
      "1850:\tlearn: 0.8333321\ttest: 0.7972100\tbest: 0.7982231 (1735)\ttotal: 3m 53s\tremaining: 6m 36s\n"
     ]
    },
    {
     "name": "stdout",
     "output_type": "stream",
     "text": [
      "1900:\tlearn: 0.8345197\ttest: 0.7977420\tbest: 0.7982231 (1735)\ttotal: 3m 59s\tremaining: 6m 30s\n"
     ]
    },
    {
     "name": "stdout",
     "output_type": "stream",
     "text": [
      "1950:\tlearn: 0.8357539\ttest: 0.7973452\tbest: 0.7982231 (1735)\ttotal: 4m 5s\tremaining: 6m 23s\n"
     ]
    },
    {
     "name": "stdout",
     "output_type": "stream",
     "text": [
      "2000:\tlearn: 0.8368699\ttest: 0.7976807\tbest: 0.7982231 (1735)\ttotal: 4m 11s\tremaining: 6m 17s\n"
     ]
    },
    {
     "name": "stdout",
     "output_type": "stream",
     "text": [
      "2050:\tlearn: 0.8382461\ttest: 0.7981221\tbest: 0.7982484 (2049)\ttotal: 4m 18s\tremaining: 6m 11s\n"
     ]
    },
    {
     "name": "stdout",
     "output_type": "stream",
     "text": [
      "2100:\tlearn: 0.8392257\ttest: 0.7985891\tbest: 0.7986756 (2087)\ttotal: 4m 24s\tremaining: 6m 4s\n"
     ]
    },
    {
     "name": "stdout",
     "output_type": "stream",
     "text": [
      "2150:\tlearn: 0.8402924\ttest: 0.7979655\tbest: 0.7986756 (2087)\ttotal: 4m 30s\tremaining: 5m 58s\n"
     ]
    },
    {
     "name": "stdout",
     "output_type": "stream",
     "text": [
      "2200:\tlearn: 0.8416585\ttest: 0.7977084\tbest: 0.7986756 (2087)\ttotal: 4m 36s\tremaining: 5m 51s\n"
     ]
    },
    {
     "name": "stdout",
     "output_type": "stream",
     "text": [
      "2250:\tlearn: 0.8426923\ttest: 0.7979511\tbest: 0.7986756 (2087)\ttotal: 4m 42s\tremaining: 5m 45s\n"
     ]
    },
    {
     "name": "stdout",
     "output_type": "stream",
     "text": [
      "2300:\tlearn: 0.8438881\ttest: 0.7981002\tbest: 0.7986756 (2087)\ttotal: 4m 49s\tremaining: 5m 39s\n"
     ]
    },
    {
     "name": "stdout",
     "output_type": "stream",
     "text": [
      "2350:\tlearn: 0.8447367\ttest: 0.7978717\tbest: 0.7986756 (2087)\ttotal: 4m 55s\tremaining: 5m 32s\n"
     ]
    },
    {
     "name": "stdout",
     "output_type": "stream",
     "text": [
      "2400:\tlearn: 0.8457853\ttest: 0.7976840\tbest: 0.7986756 (2087)\ttotal: 5m 1s\tremaining: 5m 26s\n"
     ]
    },
    {
     "name": "stdout",
     "output_type": "stream",
     "text": [
      "2450:\tlearn: 0.8470259\ttest: 0.7979437\tbest: 0.7986756 (2087)\ttotal: 5m 7s\tremaining: 5m 20s\n"
     ]
    },
    {
     "name": "stdout",
     "output_type": "stream",
     "text": [
      "2500:\tlearn: 0.8481490\ttest: 0.7980103\tbest: 0.7986756 (2087)\ttotal: 5m 14s\tremaining: 5m 13s\n"
     ]
    },
    {
     "name": "stdout",
     "output_type": "stream",
     "text": [
      "2550:\tlearn: 0.8492545\ttest: 0.7978648\tbest: 0.7986756 (2087)\ttotal: 5m 20s\tremaining: 5m 7s\n"
     ]
    },
    {
     "name": "stdout",
     "output_type": "stream",
     "text": [
      "2600:\tlearn: 0.8504589\ttest: 0.7979352\tbest: 0.7986756 (2087)\ttotal: 5m 26s\tremaining: 5m 1s\n"
     ]
    },
    {
     "name": "stdout",
     "output_type": "stream",
     "text": [
      "2650:\tlearn: 0.8516078\ttest: 0.7975166\tbest: 0.7986756 (2087)\ttotal: 5m 33s\tremaining: 4m 55s\n"
     ]
    },
    {
     "name": "stdout",
     "output_type": "stream",
     "text": [
      "2700:\tlearn: 0.8527967\ttest: 0.7976756\tbest: 0.7986756 (2087)\ttotal: 5m 39s\tremaining: 4m 48s\n"
     ]
    },
    {
     "name": "stdout",
     "output_type": "stream",
     "text": [
      "2750:\tlearn: 0.8538634\ttest: 0.7977027\tbest: 0.7986756 (2087)\ttotal: 5m 45s\tremaining: 4m 42s\n"
     ]
    },
    {
     "name": "stdout",
     "output_type": "stream",
     "text": [
      "2800:\tlearn: 0.8548663\ttest: 0.7977693\tbest: 0.7986756 (2087)\ttotal: 5m 51s\tremaining: 4m 36s\n"
     ]
    },
    {
     "name": "stdout",
     "output_type": "stream",
     "text": [
      "2850:\tlearn: 0.8558435\ttest: 0.7973874\tbest: 0.7986756 (2087)\ttotal: 5m 58s\tremaining: 4m 29s\n"
     ]
    },
    {
     "name": "stdout",
     "output_type": "stream",
     "text": [
      "2900:\tlearn: 0.8567805\ttest: 0.7978771\tbest: 0.7986756 (2087)\ttotal: 6m 4s\tremaining: 4m 23s\n"
     ]
    },
    {
     "name": "stdout",
     "output_type": "stream",
     "text": [
      "2950:\tlearn: 0.8579365\ttest: 0.7975870\tbest: 0.7986756 (2087)\ttotal: 6m 10s\tremaining: 4m 17s\n"
     ]
    },
    {
     "name": "stdout",
     "output_type": "stream",
     "text": [
      "3000:\tlearn: 0.8589636\ttest: 0.7978133\tbest: 0.7986756 (2087)\ttotal: 6m 16s\tremaining: 4m 11s\n"
     ]
    },
    {
     "name": "stdout",
     "output_type": "stream",
     "text": [
      "3050:\tlearn: 0.8600741\ttest: 0.7980372\tbest: 0.7986756 (2087)\ttotal: 6m 23s\tremaining: 4m 4s\n"
     ]
    },
    {
     "name": "stdout",
     "output_type": "stream",
     "text": [
      "3100:\tlearn: 0.8609262\ttest: 0.7980908\tbest: 0.7986756 (2087)\ttotal: 6m 29s\tremaining: 3m 58s\n"
     ]
    },
    {
     "name": "stdout",
     "output_type": "stream",
     "text": [
      "3150:\tlearn: 0.8617378\ttest: 0.7980148\tbest: 0.7986756 (2087)\ttotal: 6m 35s\tremaining: 3m 52s\n"
     ]
    },
    {
     "name": "stdout",
     "output_type": "stream",
     "text": [
      "3200:\tlearn: 0.8627926\ttest: 0.7979451\tbest: 0.7986756 (2087)\ttotal: 6m 41s\tremaining: 3m 45s\n"
     ]
    },
    {
     "name": "stdout",
     "output_type": "stream",
     "text": [
      "3250:\tlearn: 0.8638636\ttest: 0.7976719\tbest: 0.7986756 (2087)\ttotal: 6m 48s\tremaining: 3m 39s\n"
     ]
    },
    {
     "name": "stdout",
     "output_type": "stream",
     "text": [
      "3300:\tlearn: 0.8651381\ttest: 0.7973525\tbest: 0.7986756 (2087)\ttotal: 6m 54s\tremaining: 3m 33s\n"
     ]
    },
    {
     "name": "stdout",
     "output_type": "stream",
     "text": [
      "3350:\tlearn: 0.8659794\ttest: 0.7975047\tbest: 0.7986756 (2087)\ttotal: 7m\tremaining: 3m 26s\n"
     ]
    },
    {
     "name": "stdout",
     "output_type": "stream",
     "text": [
      "3400:\tlearn: 0.8668332\ttest: 0.7974756\tbest: 0.7986756 (2087)\ttotal: 7m 6s\tremaining: 3m 20s\n"
     ]
    },
    {
     "name": "stdout",
     "output_type": "stream",
     "text": [
      "3450:\tlearn: 0.8679001\ttest: 0.7975075\tbest: 0.7986756 (2087)\ttotal: 7m 13s\tremaining: 3m 14s\n"
     ]
    },
    {
     "name": "stdout",
     "output_type": "stream",
     "text": [
      "3500:\tlearn: 0.8686008\ttest: 0.7976785\tbest: 0.7986756 (2087)\ttotal: 7m 19s\tremaining: 3m 8s\n"
     ]
    },
    {
     "name": "stdout",
     "output_type": "stream",
     "text": [
      "3550:\tlearn: 0.8695407\ttest: 0.7972603\tbest: 0.7986756 (2087)\ttotal: 7m 25s\tremaining: 3m 1s\n"
     ]
    },
    {
     "name": "stdout",
     "output_type": "stream",
     "text": [
      "3600:\tlearn: 0.8703376\ttest: 0.7977053\tbest: 0.7986756 (2087)\ttotal: 7m 31s\tremaining: 2m 55s\n"
     ]
    },
    {
     "name": "stdout",
     "output_type": "stream",
     "text": [
      "3650:\tlearn: 0.8712540\ttest: 0.7974244\tbest: 0.7986756 (2087)\ttotal: 7m 38s\tremaining: 2m 49s\n"
     ]
    },
    {
     "name": "stdout",
     "output_type": "stream",
     "text": [
      "3700:\tlearn: 0.8720577\ttest: 0.7973906\tbest: 0.7986756 (2087)\ttotal: 7m 44s\tremaining: 2m 43s\n"
     ]
    },
    {
     "name": "stdout",
     "output_type": "stream",
     "text": [
      "3750:\tlearn: 0.8732663\ttest: 0.7973551\tbest: 0.7986756 (2087)\ttotal: 7m 50s\tremaining: 2m 36s\n"
     ]
    },
    {
     "name": "stdout",
     "output_type": "stream",
     "text": [
      "3800:\tlearn: 0.8740247\ttest: 0.7972713\tbest: 0.7986756 (2087)\ttotal: 7m 57s\tremaining: 2m 30s\n"
     ]
    },
    {
     "name": "stdout",
     "output_type": "stream",
     "text": [
      "3850:\tlearn: 0.8748266\ttest: 0.7968269\tbest: 0.7986756 (2087)\ttotal: 8m 3s\tremaining: 2m 24s\n"
     ]
    },
    {
     "name": "stdout",
     "output_type": "stream",
     "text": [
      "3900:\tlearn: 0.8757724\ttest: 0.7974637\tbest: 0.7986756 (2087)\ttotal: 8m 9s\tremaining: 2m 17s\n"
     ]
    },
    {
     "name": "stdout",
     "output_type": "stream",
     "text": [
      "3950:\tlearn: 0.8767134\ttest: 0.7973562\tbest: 0.7986756 (2087)\ttotal: 8m 15s\tremaining: 2m 11s\n"
     ]
    },
    {
     "name": "stdout",
     "output_type": "stream",
     "text": [
      "4000:\tlearn: 0.8776624\ttest: 0.7980145\tbest: 0.7986756 (2087)\ttotal: 8m 22s\tremaining: 2m 5s\n"
     ]
    },
    {
     "name": "stdout",
     "output_type": "stream",
     "text": [
      "4050:\tlearn: 0.8784379\ttest: 0.7977003\tbest: 0.7986756 (2087)\ttotal: 8m 28s\tremaining: 1m 59s\n"
     ]
    },
    {
     "name": "stdout",
     "output_type": "stream",
     "text": [
      "4100:\tlearn: 0.8795735\ttest: 0.7977526\tbest: 0.7986756 (2087)\ttotal: 8m 34s\tremaining: 1m 52s\n"
     ]
    },
    {
     "name": "stdout",
     "output_type": "stream",
     "text": [
      "4150:\tlearn: 0.8805577\ttest: 0.7979254\tbest: 0.7986756 (2087)\ttotal: 8m 40s\tremaining: 1m 46s\n"
     ]
    },
    {
     "name": "stdout",
     "output_type": "stream",
     "text": [
      "4200:\tlearn: 0.8811670\ttest: 0.7977701\tbest: 0.7986756 (2087)\ttotal: 8m 47s\tremaining: 1m 40s\n"
     ]
    },
    {
     "name": "stdout",
     "output_type": "stream",
     "text": [
      "4250:\tlearn: 0.8821006\ttest: 0.7976996\tbest: 0.7986756 (2087)\ttotal: 8m 53s\tremaining: 1m 33s\n"
     ]
    },
    {
     "name": "stdout",
     "output_type": "stream",
     "text": [
      "4300:\tlearn: 0.8831396\ttest: 0.7977119\tbest: 0.7986756 (2087)\ttotal: 8m 59s\tremaining: 1m 27s\n"
     ]
    },
    {
     "name": "stdout",
     "output_type": "stream",
     "text": [
      "4350:\tlearn: 0.8837578\ttest: 0.7977052\tbest: 0.7986756 (2087)\ttotal: 9m 5s\tremaining: 1m 21s\n"
     ]
    },
    {
     "name": "stdout",
     "output_type": "stream",
     "text": [
      "4400:\tlearn: 0.8846392\ttest: 0.7968679\tbest: 0.7986756 (2087)\ttotal: 9m 12s\tremaining: 1m 15s\n"
     ]
    },
    {
     "name": "stdout",
     "output_type": "stream",
     "text": [
      "4450:\tlearn: 0.8857260\ttest: 0.7972412\tbest: 0.7986756 (2087)\ttotal: 9m 18s\tremaining: 1m 8s\n"
     ]
    },
    {
     "name": "stdout",
     "output_type": "stream",
     "text": [
      "4500:\tlearn: 0.8865185\ttest: 0.7973603\tbest: 0.7986756 (2087)\ttotal: 9m 24s\tremaining: 1m 2s\n"
     ]
    },
    {
     "name": "stdout",
     "output_type": "stream",
     "text": [
      "4550:\tlearn: 0.8873386\ttest: 0.7977465\tbest: 0.7986756 (2087)\ttotal: 9m 30s\tremaining: 56.3s\n"
     ]
    },
    {
     "name": "stdout",
     "output_type": "stream",
     "text": [
      "4600:\tlearn: 0.8882114\ttest: 0.7981351\tbest: 0.7986756 (2087)\ttotal: 9m 37s\tremaining: 50.1s\n"
     ]
    },
    {
     "name": "stdout",
     "output_type": "stream",
     "text": [
      "4650:\tlearn: 0.8890001\ttest: 0.7978630\tbest: 0.7986756 (2087)\ttotal: 9m 43s\tremaining: 43.8s\n"
     ]
    },
    {
     "name": "stdout",
     "output_type": "stream",
     "text": [
      "4700:\tlearn: 0.8899250\ttest: 0.7972514\tbest: 0.7986756 (2087)\ttotal: 9m 49s\tremaining: 37.5s\n"
     ]
    },
    {
     "name": "stdout",
     "output_type": "stream",
     "text": [
      "4750:\tlearn: 0.8906827\ttest: 0.7975828\tbest: 0.7986756 (2087)\ttotal: 9m 56s\tremaining: 31.2s\n"
     ]
    },
    {
     "name": "stdout",
     "output_type": "stream",
     "text": [
      "4800:\tlearn: 0.8914984\ttest: 0.7972738\tbest: 0.7986756 (2087)\ttotal: 10m 2s\tremaining: 25s\n"
     ]
    },
    {
     "name": "stdout",
     "output_type": "stream",
     "text": [
      "4850:\tlearn: 0.8923262\ttest: 0.7974085\tbest: 0.7986756 (2087)\ttotal: 10m 8s\tremaining: 18.7s\n"
     ]
    },
    {
     "name": "stdout",
     "output_type": "stream",
     "text": [
      "4900:\tlearn: 0.8932808\ttest: 0.7973118\tbest: 0.7986756 (2087)\ttotal: 10m 14s\tremaining: 12.4s\n"
     ]
    },
    {
     "name": "stdout",
     "output_type": "stream",
     "text": [
      "4950:\tlearn: 0.8940883\ttest: 0.7971642\tbest: 0.7986756 (2087)\ttotal: 10m 21s\tremaining: 6.15s\n"
     ]
    },
    {
     "name": "stdout",
     "output_type": "stream",
     "text": [
      "4999:\tlearn: 0.8947014\ttest: 0.7974356\tbest: 0.7986756 (2087)\ttotal: 10m 27s\tremaining: 0us\n",
      "\n",
      "bestTest = 0.7986755746\n",
      "bestIteration = 2087\n",
      "\n"
     ]
    },
    {
     "name": "stdout",
     "output_type": "stream",
     "text": [
      "######################################## training model 2/5 ########################################\n",
      "seed: 6\n"
     ]
    },
    {
     "name": "stdout",
     "output_type": "stream",
     "text": [
      "0:\tlearn: 0.4808633\ttest: 0.4774936\tbest: 0.4774936 (0)\ttotal: 439ms\tremaining: 36m 36s\n"
     ]
    },
    {
     "name": "stdout",
     "output_type": "stream",
     "text": [
      "50:\tlearn: 0.7414143\ttest: 0.7419768\tbest: 0.7419768 (50)\ttotal: 6.58s\tremaining: 10m 38s\n"
     ]
    },
    {
     "name": "stdout",
     "output_type": "stream",
     "text": [
      "100:\tlearn: 0.7543961\ttest: 0.7534365\tbest: 0.7534365 (100)\ttotal: 12.8s\tremaining: 10m 23s\n"
     ]
    },
    {
     "name": "stdout",
     "output_type": "stream",
     "text": [
      "150:\tlearn: 0.7618387\ttest: 0.7607038\tbest: 0.7607038 (150)\ttotal: 19.1s\tremaining: 10m 13s\n"
     ]
    },
    {
     "name": "stdout",
     "output_type": "stream",
     "text": [
      "200:\tlearn: 0.7665889\ttest: 0.7651449\tbest: 0.7651449 (200)\ttotal: 25.3s\tremaining: 10m 5s\n"
     ]
    },
    {
     "name": "stdout",
     "output_type": "stream",
     "text": [
      "250:\tlearn: 0.7707078\ttest: 0.7679867\tbest: 0.7679867 (250)\ttotal: 31.6s\tremaining: 9m 57s\n"
     ]
    },
    {
     "name": "stdout",
     "output_type": "stream",
     "text": [
      "300:\tlearn: 0.7760497\ttest: 0.7728950\tbest: 0.7728950 (300)\ttotal: 37.8s\tremaining: 9m 50s\n"
     ]
    },
    {
     "name": "stdout",
     "output_type": "stream",
     "text": [
      "350:\tlearn: 0.7829917\ttest: 0.7781688\tbest: 0.7781688 (350)\ttotal: 44.2s\tremaining: 9m 44s\n"
     ]
    },
    {
     "name": "stdout",
     "output_type": "stream",
     "text": [
      "400:\tlearn: 0.7876943\ttest: 0.7812292\tbest: 0.7812292 (400)\ttotal: 50.5s\tremaining: 9m 38s\n"
     ]
    },
    {
     "name": "stdout",
     "output_type": "stream",
     "text": [
      "450:\tlearn: 0.7909218\ttest: 0.7823948\tbest: 0.7825339 (442)\ttotal: 56.8s\tremaining: 9m 32s\n"
     ]
    },
    {
     "name": "stdout",
     "output_type": "stream",
     "text": [
      "500:\tlearn: 0.7936422\ttest: 0.7832010\tbest: 0.7833791 (491)\ttotal: 1m 3s\tremaining: 9m 26s\n"
     ]
    },
    {
     "name": "stdout",
     "output_type": "stream",
     "text": [
      "550:\tlearn: 0.7956468\ttest: 0.7845257\tbest: 0.7845257 (550)\ttotal: 1m 9s\tremaining: 9m 19s\n"
     ]
    },
    {
     "name": "stdout",
     "output_type": "stream",
     "text": [
      "600:\tlearn: 0.7979301\ttest: 0.7854792\tbest: 0.7855705 (596)\ttotal: 1m 15s\tremaining: 9m 13s\n"
     ]
    },
    {
     "name": "stdout",
     "output_type": "stream",
     "text": [
      "650:\tlearn: 0.8000120\ttest: 0.7857226\tbest: 0.7859377 (645)\ttotal: 1m 21s\tremaining: 9m 7s\n"
     ]
    },
    {
     "name": "stdout",
     "output_type": "stream",
     "text": [
      "700:\tlearn: 0.8021626\ttest: 0.7863046\tbest: 0.7863186 (674)\ttotal: 1m 28s\tremaining: 9m 1s\n"
     ]
    },
    {
     "name": "stdout",
     "output_type": "stream",
     "text": [
      "750:\tlearn: 0.8036931\ttest: 0.7865504\tbest: 0.7870736 (739)\ttotal: 1m 34s\tremaining: 8m 54s\n"
     ]
    },
    {
     "name": "stdout",
     "output_type": "stream",
     "text": [
      "800:\tlearn: 0.8052656\ttest: 0.7874391\tbest: 0.7874568 (799)\ttotal: 1m 40s\tremaining: 8m 48s\n"
     ]
    },
    {
     "name": "stdout",
     "output_type": "stream",
     "text": [
      "850:\tlearn: 0.8068011\ttest: 0.7879484\tbest: 0.7880677 (847)\ttotal: 1m 47s\tremaining: 8m 42s\n"
     ]
    },
    {
     "name": "stdout",
     "output_type": "stream",
     "text": [
      "900:\tlearn: 0.8082180\ttest: 0.7889150\tbest: 0.7889150 (900)\ttotal: 1m 53s\tremaining: 8m 35s\n"
     ]
    },
    {
     "name": "stdout",
     "output_type": "stream",
     "text": [
      "950:\tlearn: 0.8099239\ttest: 0.7891698\tbest: 0.7892029 (943)\ttotal: 1m 59s\tremaining: 8m 29s\n"
     ]
    },
    {
     "name": "stdout",
     "output_type": "stream",
     "text": [
      "1000:\tlearn: 0.8111269\ttest: 0.7896763\tbest: 0.7896954 (997)\ttotal: 2m 5s\tremaining: 8m 23s\n"
     ]
    },
    {
     "name": "stdout",
     "output_type": "stream",
     "text": [
      "1050:\tlearn: 0.8129767\ttest: 0.7900304\tbest: 0.7901657 (1032)\ttotal: 2m 12s\tremaining: 8m 17s\n"
     ]
    },
    {
     "name": "stdout",
     "output_type": "stream",
     "text": [
      "1100:\tlearn: 0.8145805\ttest: 0.7904937\tbest: 0.7907998 (1094)\ttotal: 2m 18s\tremaining: 8m 10s\n"
     ]
    },
    {
     "name": "stdout",
     "output_type": "stream",
     "text": [
      "1150:\tlearn: 0.8160700\ttest: 0.7912348\tbest: 0.7913113 (1145)\ttotal: 2m 24s\tremaining: 8m 4s\n"
     ]
    },
    {
     "name": "stdout",
     "output_type": "stream",
     "text": [
      "1200:\tlearn: 0.8174530\ttest: 0.7913331\tbest: 0.7914094 (1172)\ttotal: 2m 31s\tremaining: 7m 57s\n"
     ]
    },
    {
     "name": "stdout",
     "output_type": "stream",
     "text": [
      "1250:\tlearn: 0.8188519\ttest: 0.7908977\tbest: 0.7915498 (1205)\ttotal: 2m 37s\tremaining: 7m 51s\n"
     ]
    },
    {
     "name": "stdout",
     "output_type": "stream",
     "text": [
      "1300:\tlearn: 0.8198869\ttest: 0.7916463\tbest: 0.7917874 (1293)\ttotal: 2m 43s\tremaining: 7m 44s\n"
     ]
    },
    {
     "name": "stdout",
     "output_type": "stream",
     "text": [
      "1350:\tlearn: 0.8210513\ttest: 0.7916729\tbest: 0.7917924 (1331)\ttotal: 2m 49s\tremaining: 7m 38s\n"
     ]
    },
    {
     "name": "stdout",
     "output_type": "stream",
     "text": [
      "1400:\tlearn: 0.8220145\ttest: 0.7915736\tbest: 0.7917924 (1331)\ttotal: 2m 55s\tremaining: 7m 31s\n"
     ]
    },
    {
     "name": "stdout",
     "output_type": "stream",
     "text": [
      "1450:\tlearn: 0.8239273\ttest: 0.7917440\tbest: 0.7921339 (1441)\ttotal: 3m 2s\tremaining: 7m 25s\n"
     ]
    },
    {
     "name": "stdout",
     "output_type": "stream",
     "text": [
      "1500:\tlearn: 0.8248551\ttest: 0.7916419\tbest: 0.7921339 (1441)\ttotal: 3m 8s\tremaining: 7m 19s\n"
     ]
    },
    {
     "name": "stdout",
     "output_type": "stream",
     "text": [
      "1550:\tlearn: 0.8261945\ttest: 0.7918759\tbest: 0.7921339 (1441)\ttotal: 3m 14s\tremaining: 7m 12s\n"
     ]
    },
    {
     "name": "stdout",
     "output_type": "stream",
     "text": [
      "1600:\tlearn: 0.8273463\ttest: 0.7919803\tbest: 0.7922021 (1562)\ttotal: 3m 20s\tremaining: 7m 6s\n"
     ]
    },
    {
     "name": "stdout",
     "output_type": "stream",
     "text": [
      "1650:\tlearn: 0.8284794\ttest: 0.7922901\tbest: 0.7922901 (1650)\ttotal: 3m 27s\tremaining: 7m\n"
     ]
    },
    {
     "name": "stdout",
     "output_type": "stream",
     "text": [
      "1700:\tlearn: 0.8297183\ttest: 0.7921716\tbest: 0.7922901 (1651)\ttotal: 3m 33s\tremaining: 6m 53s\n"
     ]
    },
    {
     "name": "stdout",
     "output_type": "stream",
     "text": [
      "1750:\tlearn: 0.8307655\ttest: 0.7922329\tbest: 0.7924378 (1738)\ttotal: 3m 39s\tremaining: 6m 47s\n"
     ]
    },
    {
     "name": "stdout",
     "output_type": "stream",
     "text": [
      "1800:\tlearn: 0.8318939\ttest: 0.7918548\tbest: 0.7924378 (1738)\ttotal: 3m 45s\tremaining: 6m 41s\n"
     ]
    },
    {
     "name": "stdout",
     "output_type": "stream",
     "text": [
      "1850:\tlearn: 0.8327637\ttest: 0.7921620\tbest: 0.7924378 (1738)\ttotal: 3m 52s\tremaining: 6m 34s\n"
     ]
    },
    {
     "name": "stdout",
     "output_type": "stream",
     "text": [
      "1900:\tlearn: 0.8334808\ttest: 0.7918624\tbest: 0.7924378 (1738)\ttotal: 3m 58s\tremaining: 6m 28s\n"
     ]
    },
    {
     "name": "stdout",
     "output_type": "stream",
     "text": [
      "1950:\tlearn: 0.8348628\ttest: 0.7919787\tbest: 0.7924378 (1738)\ttotal: 4m 4s\tremaining: 6m 22s\n"
     ]
    },
    {
     "name": "stdout",
     "output_type": "stream",
     "text": [
      "2000:\tlearn: 0.8357910\ttest: 0.7923752\tbest: 0.7925236 (1998)\ttotal: 4m 10s\tremaining: 6m 15s\n"
     ]
    },
    {
     "name": "stdout",
     "output_type": "stream",
     "text": [
      "2050:\tlearn: 0.8369525\ttest: 0.7922519\tbest: 0.7926499 (2046)\ttotal: 4m 17s\tremaining: 6m 9s\n"
     ]
    },
    {
     "name": "stdout",
     "output_type": "stream",
     "text": [
      "2100:\tlearn: 0.8382536\ttest: 0.7925739\tbest: 0.7928236 (2092)\ttotal: 4m 23s\tremaining: 6m 3s\n"
     ]
    },
    {
     "name": "stdout",
     "output_type": "stream",
     "text": [
      "2150:\tlearn: 0.8390400\ttest: 0.7923865\tbest: 0.7928273 (2109)\ttotal: 4m 29s\tremaining: 5m 57s\n"
     ]
    },
    {
     "name": "stdout",
     "output_type": "stream",
     "text": [
      "2200:\tlearn: 0.8402411\ttest: 0.7920617\tbest: 0.7928273 (2109)\ttotal: 4m 35s\tremaining: 5m 50s\n"
     ]
    },
    {
     "name": "stdout",
     "output_type": "stream",
     "text": [
      "2250:\tlearn: 0.8414175\ttest: 0.7918753\tbest: 0.7928273 (2109)\ttotal: 4m 42s\tremaining: 5m 44s\n"
     ]
    },
    {
     "name": "stdout",
     "output_type": "stream",
     "text": [
      "2300:\tlearn: 0.8425580\ttest: 0.7922197\tbest: 0.7928273 (2109)\ttotal: 4m 48s\tremaining: 5m 38s\n"
     ]
    },
    {
     "name": "stdout",
     "output_type": "stream",
     "text": [
      "2350:\tlearn: 0.8437272\ttest: 0.7923690\tbest: 0.7928273 (2109)\ttotal: 4m 54s\tremaining: 5m 32s\n"
     ]
    },
    {
     "name": "stdout",
     "output_type": "stream",
     "text": [
      "2400:\tlearn: 0.8444880\ttest: 0.7925463\tbest: 0.7928273 (2109)\ttotal: 5m\tremaining: 5m 25s\n"
     ]
    },
    {
     "name": "stdout",
     "output_type": "stream",
     "text": [
      "2450:\tlearn: 0.8455004\ttest: 0.7928700\tbest: 0.7929900 (2417)\ttotal: 5m 7s\tremaining: 5m 19s\n"
     ]
    },
    {
     "name": "stdout",
     "output_type": "stream",
     "text": [
      "2500:\tlearn: 0.8461328\ttest: 0.7926005\tbest: 0.7929900 (2417)\ttotal: 5m 13s\tremaining: 5m 13s\n"
     ]
    },
    {
     "name": "stdout",
     "output_type": "stream",
     "text": [
      "2550:\tlearn: 0.8472051\ttest: 0.7925742\tbest: 0.7930732 (2518)\ttotal: 5m 19s\tremaining: 5m 6s\n"
     ]
    },
    {
     "name": "stdout",
     "output_type": "stream",
     "text": [
      "2600:\tlearn: 0.8480946\ttest: 0.7928196\tbest: 0.7930732 (2518)\ttotal: 5m 25s\tremaining: 5m\n"
     ]
    },
    {
     "name": "stdout",
     "output_type": "stream",
     "text": [
      "2650:\tlearn: 0.8491058\ttest: 0.7929961\tbest: 0.7932027 (2632)\ttotal: 5m 32s\tremaining: 4m 54s\n"
     ]
    },
    {
     "name": "stdout",
     "output_type": "stream",
     "text": [
      "2700:\tlearn: 0.8501020\ttest: 0.7932313\tbest: 0.7934030 (2674)\ttotal: 5m 38s\tremaining: 4m 47s\n"
     ]
    },
    {
     "name": "stdout",
     "output_type": "stream",
     "text": [
      "2750:\tlearn: 0.8511489\ttest: 0.7928062\tbest: 0.7934030 (2674)\ttotal: 5m 44s\tremaining: 4m 41s\n"
     ]
    },
    {
     "name": "stdout",
     "output_type": "stream",
     "text": [
      "2800:\tlearn: 0.8524114\ttest: 0.7930838\tbest: 0.7934030 (2674)\ttotal: 5m 50s\tremaining: 4m 35s\n"
     ]
    },
    {
     "name": "stdout",
     "output_type": "stream",
     "text": [
      "2850:\tlearn: 0.8532073\ttest: 0.7932175\tbest: 0.7934030 (2674)\ttotal: 5m 57s\tremaining: 4m 29s\n"
     ]
    },
    {
     "name": "stdout",
     "output_type": "stream",
     "text": [
      "2900:\tlearn: 0.8540707\ttest: 0.7934562\tbest: 0.7936210 (2886)\ttotal: 6m 3s\tremaining: 4m 22s\n"
     ]
    },
    {
     "name": "stdout",
     "output_type": "stream",
     "text": [
      "2950:\tlearn: 0.8550767\ttest: 0.7938186\tbest: 0.7938602 (2948)\ttotal: 6m 9s\tremaining: 4m 16s\n"
     ]
    },
    {
     "name": "stdout",
     "output_type": "stream",
     "text": [
      "3000:\tlearn: 0.8557623\ttest: 0.7938206\tbest: 0.7941142 (2956)\ttotal: 6m 15s\tremaining: 4m 10s\n"
     ]
    },
    {
     "name": "stdout",
     "output_type": "stream",
     "text": [
      "3050:\tlearn: 0.8567577\ttest: 0.7935872\tbest: 0.7941142 (2956)\ttotal: 6m 22s\tremaining: 4m 4s\n"
     ]
    },
    {
     "name": "stdout",
     "output_type": "stream",
     "text": [
      "3100:\tlearn: 0.8579518\ttest: 0.7940855\tbest: 0.7941142 (2956)\ttotal: 6m 28s\tremaining: 3m 57s\n"
     ]
    },
    {
     "name": "stdout",
     "output_type": "stream",
     "text": [
      "3150:\tlearn: 0.8589212\ttest: 0.7938118\tbest: 0.7941142 (2956)\ttotal: 6m 34s\tremaining: 3m 51s\n"
     ]
    },
    {
     "name": "stdout",
     "output_type": "stream",
     "text": [
      "3200:\tlearn: 0.8600617\ttest: 0.7944346\tbest: 0.7944346 (3200)\ttotal: 6m 41s\tremaining: 3m 45s\n"
     ]
    },
    {
     "name": "stdout",
     "output_type": "stream",
     "text": [
      "3250:\tlearn: 0.8606126\ttest: 0.7940989\tbest: 0.7945670 (3207)\ttotal: 6m 47s\tremaining: 3m 39s\n"
     ]
    },
    {
     "name": "stdout",
     "output_type": "stream",
     "text": [
      "3300:\tlearn: 0.8616061\ttest: 0.7939183\tbest: 0.7945670 (3207)\ttotal: 6m 53s\tremaining: 3m 32s\n"
     ]
    },
    {
     "name": "stdout",
     "output_type": "stream",
     "text": [
      "3350:\tlearn: 0.8626289\ttest: 0.7937364\tbest: 0.7945670 (3207)\ttotal: 6m 59s\tremaining: 3m 26s\n"
     ]
    },
    {
     "name": "stdout",
     "output_type": "stream",
     "text": [
      "3400:\tlearn: 0.8635432\ttest: 0.7936105\tbest: 0.7945670 (3207)\ttotal: 7m 6s\tremaining: 3m 20s\n"
     ]
    },
    {
     "name": "stdout",
     "output_type": "stream",
     "text": [
      "3450:\tlearn: 0.8643268\ttest: 0.7937387\tbest: 0.7945670 (3207)\ttotal: 7m 12s\tremaining: 3m 14s\n"
     ]
    },
    {
     "name": "stdout",
     "output_type": "stream",
     "text": [
      "3500:\tlearn: 0.8651993\ttest: 0.7932947\tbest: 0.7945670 (3207)\ttotal: 7m 18s\tremaining: 3m 7s\n"
     ]
    },
    {
     "name": "stdout",
     "output_type": "stream",
     "text": [
      "3550:\tlearn: 0.8663640\ttest: 0.7929796\tbest: 0.7945670 (3207)\ttotal: 7m 24s\tremaining: 3m 1s\n"
     ]
    },
    {
     "name": "stdout",
     "output_type": "stream",
     "text": [
      "3600:\tlearn: 0.8674041\ttest: 0.7933477\tbest: 0.7945670 (3207)\ttotal: 7m 31s\tremaining: 2m 55s\n"
     ]
    },
    {
     "name": "stdout",
     "output_type": "stream",
     "text": [
      "3650:\tlearn: 0.8684306\ttest: 0.7930990\tbest: 0.7945670 (3207)\ttotal: 7m 37s\tremaining: 2m 48s\n"
     ]
    },
    {
     "name": "stdout",
     "output_type": "stream",
     "text": [
      "3700:\tlearn: 0.8691624\ttest: 0.7931261\tbest: 0.7945670 (3207)\ttotal: 7m 43s\tremaining: 2m 42s\n"
     ]
    },
    {
     "name": "stdout",
     "output_type": "stream",
     "text": [
      "3750:\tlearn: 0.8699575\ttest: 0.7928886\tbest: 0.7945670 (3207)\ttotal: 7m 49s\tremaining: 2m 36s\n"
     ]
    },
    {
     "name": "stdout",
     "output_type": "stream",
     "text": [
      "3800:\tlearn: 0.8708882\ttest: 0.7930386\tbest: 0.7945670 (3207)\ttotal: 7m 55s\tremaining: 2m 30s\n"
     ]
    },
    {
     "name": "stdout",
     "output_type": "stream",
     "text": [
      "3850:\tlearn: 0.8717962\ttest: 0.7926244\tbest: 0.7945670 (3207)\ttotal: 8m 2s\tremaining: 2m 23s\n"
     ]
    },
    {
     "name": "stdout",
     "output_type": "stream",
     "text": [
      "3900:\tlearn: 0.8726588\ttest: 0.7921448\tbest: 0.7945670 (3207)\ttotal: 8m 8s\tremaining: 2m 17s\n"
     ]
    },
    {
     "name": "stdout",
     "output_type": "stream",
     "text": [
      "3950:\tlearn: 0.8734564\ttest: 0.7922512\tbest: 0.7945670 (3207)\ttotal: 8m 14s\tremaining: 2m 11s\n"
     ]
    },
    {
     "name": "stdout",
     "output_type": "stream",
     "text": [
      "4000:\tlearn: 0.8742831\ttest: 0.7924201\tbest: 0.7945670 (3207)\ttotal: 8m 20s\tremaining: 2m 5s\n"
     ]
    },
    {
     "name": "stdout",
     "output_type": "stream",
     "text": [
      "4050:\tlearn: 0.8751083\ttest: 0.7926923\tbest: 0.7945670 (3207)\ttotal: 8m 27s\tremaining: 1m 58s\n"
     ]
    },
    {
     "name": "stdout",
     "output_type": "stream",
     "text": [
      "4100:\tlearn: 0.8758404\ttest: 0.7924047\tbest: 0.7945670 (3207)\ttotal: 8m 33s\tremaining: 1m 52s\n"
     ]
    },
    {
     "name": "stdout",
     "output_type": "stream",
     "text": [
      "4150:\tlearn: 0.8766048\ttest: 0.7922507\tbest: 0.7945670 (3207)\ttotal: 8m 39s\tremaining: 1m 46s\n"
     ]
    },
    {
     "name": "stdout",
     "output_type": "stream",
     "text": [
      "4200:\tlearn: 0.8775709\ttest: 0.7926505\tbest: 0.7945670 (3207)\ttotal: 8m 46s\tremaining: 1m 40s\n"
     ]
    },
    {
     "name": "stdout",
     "output_type": "stream",
     "text": [
      "4250:\tlearn: 0.8783057\ttest: 0.7926590\tbest: 0.7945670 (3207)\ttotal: 8m 52s\tremaining: 1m 33s\n"
     ]
    },
    {
     "name": "stdout",
     "output_type": "stream",
     "text": [
      "4300:\tlearn: 0.8792188\ttest: 0.7929143\tbest: 0.7945670 (3207)\ttotal: 8m 58s\tremaining: 1m 27s\n"
     ]
    },
    {
     "name": "stdout",
     "output_type": "stream",
     "text": [
      "4350:\tlearn: 0.8799471\ttest: 0.7926999\tbest: 0.7945670 (3207)\ttotal: 9m 5s\tremaining: 1m 21s\n"
     ]
    },
    {
     "name": "stdout",
     "output_type": "stream",
     "text": [
      "4400:\tlearn: 0.8807472\ttest: 0.7926362\tbest: 0.7945670 (3207)\ttotal: 9m 11s\tremaining: 1m 15s\n"
     ]
    },
    {
     "name": "stdout",
     "output_type": "stream",
     "text": [
      "4450:\tlearn: 0.8816209\ttest: 0.7927091\tbest: 0.7945670 (3207)\ttotal: 9m 17s\tremaining: 1m 8s\n"
     ]
    },
    {
     "name": "stdout",
     "output_type": "stream",
     "text": [
      "4500:\tlearn: 0.8823831\ttest: 0.7925072\tbest: 0.7945670 (3207)\ttotal: 9m 23s\tremaining: 1m 2s\n"
     ]
    },
    {
     "name": "stdout",
     "output_type": "stream",
     "text": [
      "4550:\tlearn: 0.8831229\ttest: 0.7929778\tbest: 0.7945670 (3207)\ttotal: 9m 30s\tremaining: 56.2s\n"
     ]
    },
    {
     "name": "stdout",
     "output_type": "stream",
     "text": [
      "4600:\tlearn: 0.8838529\ttest: 0.7924243\tbest: 0.7945670 (3207)\ttotal: 9m 36s\tremaining: 50s\n"
     ]
    },
    {
     "name": "stdout",
     "output_type": "stream",
     "text": [
      "4650:\tlearn: 0.8844762\ttest: 0.7927824\tbest: 0.7945670 (3207)\ttotal: 9m 42s\tremaining: 43.7s\n"
     ]
    },
    {
     "name": "stdout",
     "output_type": "stream",
     "text": [
      "4700:\tlearn: 0.8854273\ttest: 0.7928851\tbest: 0.7945670 (3207)\ttotal: 9m 49s\tremaining: 37.5s\n"
     ]
    },
    {
     "name": "stdout",
     "output_type": "stream",
     "text": [
      "4750:\tlearn: 0.8862405\ttest: 0.7928059\tbest: 0.7945670 (3207)\ttotal: 9m 55s\tremaining: 31.2s\n"
     ]
    },
    {
     "name": "stdout",
     "output_type": "stream",
     "text": [
      "4800:\tlearn: 0.8871266\ttest: 0.7931424\tbest: 0.7945670 (3207)\ttotal: 10m 1s\tremaining: 24.9s\n"
     ]
    },
    {
     "name": "stdout",
     "output_type": "stream",
     "text": [
      "4850:\tlearn: 0.8879551\ttest: 0.7930030\tbest: 0.7945670 (3207)\ttotal: 10m 8s\tremaining: 18.7s\n"
     ]
    },
    {
     "name": "stdout",
     "output_type": "stream",
     "text": [
      "4900:\tlearn: 0.8887995\ttest: 0.7928619\tbest: 0.7945670 (3207)\ttotal: 10m 14s\tremaining: 12.4s\n"
     ]
    },
    {
     "name": "stdout",
     "output_type": "stream",
     "text": [
      "4950:\tlearn: 0.8894330\ttest: 0.7927354\tbest: 0.7945670 (3207)\ttotal: 10m 20s\tremaining: 6.14s\n"
     ]
    },
    {
     "name": "stdout",
     "output_type": "stream",
     "text": [
      "4999:\tlearn: 0.8902122\ttest: 0.7925346\tbest: 0.7945670 (3207)\ttotal: 10m 26s\tremaining: 0us\n",
      "\n",
      "bestTest = 0.794566958\n",
      "bestIteration = 3207\n",
      "\n"
     ]
    },
    {
     "name": "stdout",
     "output_type": "stream",
     "text": [
      "######################################## training model 3/5 ########################################\n",
      "seed: 7\n"
     ]
    },
    {
     "name": "stdout",
     "output_type": "stream",
     "text": [
      "0:\tlearn: 0.5725912\ttest: 0.5709203\tbest: 0.5709203 (0)\ttotal: 426ms\tremaining: 35m 29s\n"
     ]
    },
    {
     "name": "stdout",
     "output_type": "stream",
     "text": [
      "50:\tlearn: 0.7410480\ttest: 0.7356170\tbest: 0.7356170 (50)\ttotal: 6.56s\tremaining: 10m 36s\n"
     ]
    },
    {
     "name": "stdout",
     "output_type": "stream",
     "text": [
      "100:\tlearn: 0.7547593\ttest: 0.7490856\tbest: 0.7490949 (99)\ttotal: 12.9s\tremaining: 10m 25s\n"
     ]
    },
    {
     "name": "stdout",
     "output_type": "stream",
     "text": [
      "150:\tlearn: 0.7632619\ttest: 0.7573577\tbest: 0.7573577 (150)\ttotal: 19.2s\tremaining: 10m 16s\n"
     ]
    },
    {
     "name": "stdout",
     "output_type": "stream",
     "text": [
      "200:\tlearn: 0.7673327\ttest: 0.7624929\tbest: 0.7624929 (200)\ttotal: 25.5s\tremaining: 10m 8s\n"
     ]
    },
    {
     "name": "stdout",
     "output_type": "stream",
     "text": [
      "250:\tlearn: 0.7712795\ttest: 0.7654569\tbest: 0.7654956 (249)\ttotal: 31.7s\tremaining: 10m\n"
     ]
    },
    {
     "name": "stdout",
     "output_type": "stream",
     "text": [
      "300:\tlearn: 0.7772259\ttest: 0.7713344\tbest: 0.7713344 (300)\ttotal: 38s\tremaining: 9m 52s\n"
     ]
    },
    {
     "name": "stdout",
     "output_type": "stream",
     "text": [
      "350:\tlearn: 0.7835729\ttest: 0.7763559\tbest: 0.7763559 (350)\ttotal: 44.3s\tremaining: 9m 46s\n"
     ]
    },
    {
     "name": "stdout",
     "output_type": "stream",
     "text": [
      "400:\tlearn: 0.7880620\ttest: 0.7804025\tbest: 0.7806518 (398)\ttotal: 50.6s\tremaining: 9m 40s\n"
     ]
    },
    {
     "name": "stdout",
     "output_type": "stream",
     "text": [
      "450:\tlearn: 0.7912794\ttest: 0.7826515\tbest: 0.7826515 (450)\ttotal: 56.9s\tremaining: 9m 34s\n"
     ]
    },
    {
     "name": "stdout",
     "output_type": "stream",
     "text": [
      "500:\tlearn: 0.7938681\ttest: 0.7833437\tbest: 0.7838660 (488)\ttotal: 1m 3s\tremaining: 9m 27s\n"
     ]
    },
    {
     "name": "stdout",
     "output_type": "stream",
     "text": [
      "550:\tlearn: 0.7961715\ttest: 0.7847353\tbest: 0.7847353 (550)\ttotal: 1m 9s\tremaining: 9m 21s\n"
     ]
    },
    {
     "name": "stdout",
     "output_type": "stream",
     "text": [
      "600:\tlearn: 0.7981336\ttest: 0.7854426\tbest: 0.7854426 (600)\ttotal: 1m 15s\tremaining: 9m 15s\n"
     ]
    },
    {
     "name": "stdout",
     "output_type": "stream",
     "text": [
      "650:\tlearn: 0.8001179\ttest: 0.7853603\tbest: 0.7857928 (609)\ttotal: 1m 22s\tremaining: 9m 8s\n"
     ]
    },
    {
     "name": "stdout",
     "output_type": "stream",
     "text": [
      "700:\tlearn: 0.8021360\ttest: 0.7855609\tbest: 0.7857928 (609)\ttotal: 1m 28s\tremaining: 9m 2s\n"
     ]
    },
    {
     "name": "stdout",
     "output_type": "stream",
     "text": [
      "750:\tlearn: 0.8038475\ttest: 0.7857568\tbest: 0.7857928 (609)\ttotal: 1m 34s\tremaining: 8m 55s\n"
     ]
    },
    {
     "name": "stdout",
     "output_type": "stream",
     "text": [
      "800:\tlearn: 0.8057188\ttest: 0.7863316\tbest: 0.7865394 (798)\ttotal: 1m 40s\tremaining: 8m 49s\n"
     ]
    },
    {
     "name": "stdout",
     "output_type": "stream",
     "text": [
      "850:\tlearn: 0.8072316\ttest: 0.7865789\tbest: 0.7868721 (815)\ttotal: 1m 47s\tremaining: 8m 42s\n"
     ]
    },
    {
     "name": "stdout",
     "output_type": "stream",
     "text": [
      "900:\tlearn: 0.8085791\ttest: 0.7871509\tbest: 0.7871890 (899)\ttotal: 1m 53s\tremaining: 8m 36s\n"
     ]
    },
    {
     "name": "stdout",
     "output_type": "stream",
     "text": [
      "950:\tlearn: 0.8101460\ttest: 0.7873027\tbest: 0.7875266 (937)\ttotal: 1m 59s\tremaining: 8m 29s\n"
     ]
    },
    {
     "name": "stdout",
     "output_type": "stream",
     "text": [
      "1000:\tlearn: 0.8117237\ttest: 0.7868822\tbest: 0.7875266 (937)\ttotal: 2m 5s\tremaining: 8m 23s\n"
     ]
    },
    {
     "name": "stdout",
     "output_type": "stream",
     "text": [
      "1050:\tlearn: 0.8130272\ttest: 0.7874337\tbest: 0.7875266 (937)\ttotal: 2m 12s\tremaining: 8m 17s\n"
     ]
    },
    {
     "name": "stdout",
     "output_type": "stream",
     "text": [
      "1100:\tlearn: 0.8145774\ttest: 0.7874850\tbest: 0.7876879 (1087)\ttotal: 2m 18s\tremaining: 8m 10s\n"
     ]
    },
    {
     "name": "stdout",
     "output_type": "stream",
     "text": [
      "1150:\tlearn: 0.8156844\ttest: 0.7874309\tbest: 0.7877968 (1113)\ttotal: 2m 24s\tremaining: 8m 3s\n"
     ]
    },
    {
     "name": "stdout",
     "output_type": "stream",
     "text": [
      "1200:\tlearn: 0.8173445\ttest: 0.7874362\tbest: 0.7877968 (1113)\ttotal: 2m 30s\tremaining: 7m 57s\n"
     ]
    },
    {
     "name": "stdout",
     "output_type": "stream",
     "text": [
      "1250:\tlearn: 0.8186952\ttest: 0.7875694\tbest: 0.7879172 (1236)\ttotal: 2m 37s\tremaining: 7m 51s\n"
     ]
    },
    {
     "name": "stdout",
     "output_type": "stream",
     "text": [
      "1300:\tlearn: 0.8200907\ttest: 0.7878794\tbest: 0.7879932 (1284)\ttotal: 2m 43s\tremaining: 7m 44s\n"
     ]
    },
    {
     "name": "stdout",
     "output_type": "stream",
     "text": [
      "1350:\tlearn: 0.8216124\ttest: 0.7878003\tbest: 0.7883402 (1330)\ttotal: 2m 49s\tremaining: 7m 38s\n"
     ]
    },
    {
     "name": "stdout",
     "output_type": "stream",
     "text": [
      "1400:\tlearn: 0.8232268\ttest: 0.7881480\tbest: 0.7884728 (1385)\ttotal: 2m 55s\tremaining: 7m 31s\n"
     ]
    },
    {
     "name": "stdout",
     "output_type": "stream",
     "text": [
      "1450:\tlearn: 0.8243622\ttest: 0.7887896\tbest: 0.7888943 (1447)\ttotal: 3m 2s\tremaining: 7m 25s\n"
     ]
    },
    {
     "name": "stdout",
     "output_type": "stream",
     "text": [
      "1500:\tlearn: 0.8254599\ttest: 0.7885641\tbest: 0.7889564 (1473)\ttotal: 3m 8s\tremaining: 7m 19s\n"
     ]
    },
    {
     "name": "stdout",
     "output_type": "stream",
     "text": [
      "1550:\tlearn: 0.8265869\ttest: 0.7888737\tbest: 0.7891753 (1525)\ttotal: 3m 14s\tremaining: 7m 12s\n"
     ]
    },
    {
     "name": "stdout",
     "output_type": "stream",
     "text": [
      "1600:\tlearn: 0.8277692\ttest: 0.7889510\tbest: 0.7893214 (1587)\ttotal: 3m 20s\tremaining: 7m 6s\n"
     ]
    },
    {
     "name": "stdout",
     "output_type": "stream",
     "text": [
      "1650:\tlearn: 0.8288245\ttest: 0.7891724\tbest: 0.7893214 (1587)\ttotal: 3m 27s\tremaining: 7m\n"
     ]
    },
    {
     "name": "stdout",
     "output_type": "stream",
     "text": [
      "1700:\tlearn: 0.8303113\ttest: 0.7885749\tbest: 0.7893214 (1587)\ttotal: 3m 33s\tremaining: 6m 53s\n"
     ]
    },
    {
     "name": "stdout",
     "output_type": "stream",
     "text": [
      "1750:\tlearn: 0.8314497\ttest: 0.7889630\tbest: 0.7893214 (1587)\ttotal: 3m 39s\tremaining: 6m 47s\n"
     ]
    },
    {
     "name": "stdout",
     "output_type": "stream",
     "text": [
      "1800:\tlearn: 0.8325166\ttest: 0.7887986\tbest: 0.7893214 (1587)\ttotal: 3m 45s\tremaining: 6m 41s\n"
     ]
    },
    {
     "name": "stdout",
     "output_type": "stream",
     "text": [
      "1850:\tlearn: 0.8336177\ttest: 0.7891488\tbest: 0.7893214 (1587)\ttotal: 3m 52s\tremaining: 6m 34s\n"
     ]
    },
    {
     "name": "stdout",
     "output_type": "stream",
     "text": [
      "1900:\tlearn: 0.8346793\ttest: 0.7888284\tbest: 0.7893214 (1587)\ttotal: 3m 58s\tremaining: 6m 28s\n"
     ]
    },
    {
     "name": "stdout",
     "output_type": "stream",
     "text": [
      "1950:\tlearn: 0.8355276\ttest: 0.7889297\tbest: 0.7893214 (1587)\ttotal: 4m 4s\tremaining: 6m 22s\n"
     ]
    },
    {
     "name": "stdout",
     "output_type": "stream",
     "text": [
      "2000:\tlearn: 0.8367044\ttest: 0.7886094\tbest: 0.7893214 (1587)\ttotal: 4m 10s\tremaining: 6m 15s\n"
     ]
    },
    {
     "name": "stdout",
     "output_type": "stream",
     "text": [
      "2050:\tlearn: 0.8380123\ttest: 0.7887539\tbest: 0.7893214 (1587)\ttotal: 4m 17s\tremaining: 6m 9s\n"
     ]
    },
    {
     "name": "stdout",
     "output_type": "stream",
     "text": [
      "2100:\tlearn: 0.8387600\ttest: 0.7889764\tbest: 0.7893214 (1587)\ttotal: 4m 23s\tremaining: 6m 3s\n"
     ]
    },
    {
     "name": "stdout",
     "output_type": "stream",
     "text": [
      "2150:\tlearn: 0.8397390\ttest: 0.7890975\tbest: 0.7893214 (1587)\ttotal: 4m 29s\tremaining: 5m 56s\n"
     ]
    },
    {
     "name": "stdout",
     "output_type": "stream",
     "text": [
      "2200:\tlearn: 0.8408655\ttest: 0.7892360\tbest: 0.7894242 (2181)\ttotal: 4m 35s\tremaining: 5m 50s\n"
     ]
    },
    {
     "name": "stdout",
     "output_type": "stream",
     "text": [
      "2250:\tlearn: 0.8422199\ttest: 0.7889418\tbest: 0.7894242 (2181)\ttotal: 4m 41s\tremaining: 5m 44s\n"
     ]
    },
    {
     "name": "stdout",
     "output_type": "stream",
     "text": [
      "2300:\tlearn: 0.8433812\ttest: 0.7887154\tbest: 0.7894242 (2181)\ttotal: 4m 48s\tremaining: 5m 38s\n"
     ]
    },
    {
     "name": "stdout",
     "output_type": "stream",
     "text": [
      "2350:\tlearn: 0.8442565\ttest: 0.7886620\tbest: 0.7894242 (2181)\ttotal: 4m 54s\tremaining: 5m 31s\n"
     ]
    },
    {
     "name": "stdout",
     "output_type": "stream",
     "text": [
      "2400:\tlearn: 0.8453579\ttest: 0.7887370\tbest: 0.7894242 (2181)\ttotal: 5m\tremaining: 5m 25s\n"
     ]
    },
    {
     "name": "stdout",
     "output_type": "stream",
     "text": [
      "2450:\tlearn: 0.8464087\ttest: 0.7887534\tbest: 0.7894242 (2181)\ttotal: 5m 6s\tremaining: 5m 19s\n"
     ]
    },
    {
     "name": "stdout",
     "output_type": "stream",
     "text": [
      "2500:\tlearn: 0.8473647\ttest: 0.7884229\tbest: 0.7894242 (2181)\ttotal: 5m 13s\tremaining: 5m 12s\n"
     ]
    },
    {
     "name": "stdout",
     "output_type": "stream",
     "text": [
      "2550:\tlearn: 0.8482632\ttest: 0.7889370\tbest: 0.7894242 (2181)\ttotal: 5m 19s\tremaining: 5m 6s\n"
     ]
    },
    {
     "name": "stdout",
     "output_type": "stream",
     "text": [
      "2600:\tlearn: 0.8490894\ttest: 0.7888255\tbest: 0.7894242 (2181)\ttotal: 5m 25s\tremaining: 5m\n"
     ]
    },
    {
     "name": "stdout",
     "output_type": "stream",
     "text": [
      "2650:\tlearn: 0.8502295\ttest: 0.7887105\tbest: 0.7894242 (2181)\ttotal: 5m 31s\tremaining: 4m 54s\n"
     ]
    },
    {
     "name": "stdout",
     "output_type": "stream",
     "text": [
      "2700:\tlearn: 0.8514491\ttest: 0.7892603\tbest: 0.7894242 (2181)\ttotal: 5m 38s\tremaining: 4m 47s\n"
     ]
    },
    {
     "name": "stdout",
     "output_type": "stream",
     "text": [
      "2750:\tlearn: 0.8521882\ttest: 0.7894840\tbest: 0.7897242 (2713)\ttotal: 5m 44s\tremaining: 4m 41s\n"
     ]
    },
    {
     "name": "stdout",
     "output_type": "stream",
     "text": [
      "2800:\tlearn: 0.8533911\ttest: 0.7893610\tbest: 0.7897242 (2713)\ttotal: 5m 50s\tremaining: 4m 35s\n"
     ]
    },
    {
     "name": "stdout",
     "output_type": "stream",
     "text": [
      "2850:\tlearn: 0.8542416\ttest: 0.7899583\tbest: 0.7900217 (2849)\ttotal: 5m 56s\tremaining: 4m 29s\n"
     ]
    },
    {
     "name": "stdout",
     "output_type": "stream",
     "text": [
      "2900:\tlearn: 0.8553451\ttest: 0.7901005\tbest: 0.7901653 (2898)\ttotal: 6m 3s\tremaining: 4m 22s\n"
     ]
    },
    {
     "name": "stdout",
     "output_type": "stream",
     "text": [
      "2950:\tlearn: 0.8565437\ttest: 0.7899091\tbest: 0.7901657 (2915)\ttotal: 6m 9s\tremaining: 4m 16s\n"
     ]
    },
    {
     "name": "stdout",
     "output_type": "stream",
     "text": [
      "3000:\tlearn: 0.8575433\ttest: 0.7901047\tbest: 0.7901657 (2915)\ttotal: 6m 15s\tremaining: 4m 10s\n"
     ]
    },
    {
     "name": "stdout",
     "output_type": "stream",
     "text": [
      "3050:\tlearn: 0.8587244\ttest: 0.7894416\tbest: 0.7902787 (3031)\ttotal: 6m 22s\tremaining: 4m 4s\n"
     ]
    },
    {
     "name": "stdout",
     "output_type": "stream",
     "text": [
      "3100:\tlearn: 0.8596256\ttest: 0.7892147\tbest: 0.7902787 (3031)\ttotal: 6m 28s\tremaining: 3m 57s\n"
     ]
    },
    {
     "name": "stdout",
     "output_type": "stream",
     "text": [
      "3150:\tlearn: 0.8607422\ttest: 0.7896201\tbest: 0.7902787 (3031)\ttotal: 6m 34s\tremaining: 3m 51s\n"
     ]
    },
    {
     "name": "stdout",
     "output_type": "stream",
     "text": [
      "3200:\tlearn: 0.8618752\ttest: 0.7894557\tbest: 0.7902787 (3031)\ttotal: 6m 40s\tremaining: 3m 45s\n"
     ]
    },
    {
     "name": "stdout",
     "output_type": "stream",
     "text": [
      "3250:\tlearn: 0.8629071\ttest: 0.7897856\tbest: 0.7902787 (3031)\ttotal: 6m 47s\tremaining: 3m 38s\n"
     ]
    },
    {
     "name": "stdout",
     "output_type": "stream",
     "text": [
      "3300:\tlearn: 0.8637236\ttest: 0.7898081\tbest: 0.7902787 (3031)\ttotal: 6m 53s\tremaining: 3m 32s\n"
     ]
    },
    {
     "name": "stdout",
     "output_type": "stream",
     "text": [
      "3350:\tlearn: 0.8646949\ttest: 0.7899138\tbest: 0.7902787 (3031)\ttotal: 6m 59s\tremaining: 3m 26s\n"
     ]
    },
    {
     "name": "stdout",
     "output_type": "stream",
     "text": [
      "3400:\tlearn: 0.8656745\ttest: 0.7900486\tbest: 0.7902787 (3031)\ttotal: 7m 5s\tremaining: 3m 20s\n"
     ]
    },
    {
     "name": "stdout",
     "output_type": "stream",
     "text": [
      "3450:\tlearn: 0.8665911\ttest: 0.7893695\tbest: 0.7902787 (3031)\ttotal: 7m 11s\tremaining: 3m 13s\n"
     ]
    },
    {
     "name": "stdout",
     "output_type": "stream",
     "text": [
      "3500:\tlearn: 0.8675304\ttest: 0.7894729\tbest: 0.7902787 (3031)\ttotal: 7m 18s\tremaining: 3m 7s\n"
     ]
    },
    {
     "name": "stdout",
     "output_type": "stream",
     "text": [
      "3550:\tlearn: 0.8684628\ttest: 0.7894415\tbest: 0.7902787 (3031)\ttotal: 7m 24s\tremaining: 3m 1s\n"
     ]
    },
    {
     "name": "stdout",
     "output_type": "stream",
     "text": [
      "3600:\tlearn: 0.8693200\ttest: 0.7894822\tbest: 0.7902787 (3031)\ttotal: 7m 30s\tremaining: 2m 55s\n"
     ]
    },
    {
     "name": "stdout",
     "output_type": "stream",
     "text": [
      "3650:\tlearn: 0.8703749\ttest: 0.7895369\tbest: 0.7902787 (3031)\ttotal: 7m 36s\tremaining: 2m 48s\n"
     ]
    },
    {
     "name": "stdout",
     "output_type": "stream",
     "text": [
      "3700:\tlearn: 0.8711730\ttest: 0.7896626\tbest: 0.7902787 (3031)\ttotal: 7m 43s\tremaining: 2m 42s\n"
     ]
    },
    {
     "name": "stdout",
     "output_type": "stream",
     "text": [
      "3750:\tlearn: 0.8719620\ttest: 0.7889925\tbest: 0.7902787 (3031)\ttotal: 7m 49s\tremaining: 2m 36s\n"
     ]
    },
    {
     "name": "stdout",
     "output_type": "stream",
     "text": [
      "3800:\tlearn: 0.8731227\ttest: 0.7890811\tbest: 0.7902787 (3031)\ttotal: 7m 55s\tremaining: 2m 29s\n"
     ]
    },
    {
     "name": "stdout",
     "output_type": "stream",
     "text": [
      "3850:\tlearn: 0.8738456\ttest: 0.7891930\tbest: 0.7902787 (3031)\ttotal: 8m 1s\tremaining: 2m 23s\n"
     ]
    },
    {
     "name": "stdout",
     "output_type": "stream",
     "text": [
      "3900:\tlearn: 0.8747925\ttest: 0.7892846\tbest: 0.7902787 (3031)\ttotal: 8m 7s\tremaining: 2m 17s\n"
     ]
    },
    {
     "name": "stdout",
     "output_type": "stream",
     "text": [
      "3950:\tlearn: 0.8756903\ttest: 0.7896698\tbest: 0.7902787 (3031)\ttotal: 8m 14s\tremaining: 2m 11s\n"
     ]
    },
    {
     "name": "stdout",
     "output_type": "stream",
     "text": [
      "4000:\tlearn: 0.8765628\ttest: 0.7898183\tbest: 0.7902787 (3031)\ttotal: 8m 20s\tremaining: 2m 4s\n"
     ]
    },
    {
     "name": "stdout",
     "output_type": "stream",
     "text": [
      "4050:\tlearn: 0.8774008\ttest: 0.7898134\tbest: 0.7902787 (3031)\ttotal: 8m 26s\tremaining: 1m 58s\n"
     ]
    },
    {
     "name": "stdout",
     "output_type": "stream",
     "text": [
      "4100:\tlearn: 0.8784439\ttest: 0.7903254\tbest: 0.7903256 (4099)\ttotal: 8m 32s\tremaining: 1m 52s\n"
     ]
    },
    {
     "name": "stdout",
     "output_type": "stream",
     "text": [
      "4150:\tlearn: 0.8792359\ttest: 0.7900766\tbest: 0.7903256 (4099)\ttotal: 8m 39s\tremaining: 1m 46s\n"
     ]
    },
    {
     "name": "stdout",
     "output_type": "stream",
     "text": [
      "4200:\tlearn: 0.8801690\ttest: 0.7898643\tbest: 0.7903256 (4099)\ttotal: 8m 45s\tremaining: 1m 39s\n"
     ]
    },
    {
     "name": "stdout",
     "output_type": "stream",
     "text": [
      "4250:\tlearn: 0.8810775\ttest: 0.7897879\tbest: 0.7903256 (4099)\ttotal: 8m 51s\tremaining: 1m 33s\n"
     ]
    },
    {
     "name": "stdout",
     "output_type": "stream",
     "text": [
      "4300:\tlearn: 0.8818339\ttest: 0.7903050\tbest: 0.7903256 (4099)\ttotal: 8m 57s\tremaining: 1m 27s\n"
     ]
    },
    {
     "name": "stdout",
     "output_type": "stream",
     "text": [
      "4350:\tlearn: 0.8826480\ttest: 0.7899502\tbest: 0.7907268 (4312)\ttotal: 9m 4s\tremaining: 1m 21s\n"
     ]
    },
    {
     "name": "stdout",
     "output_type": "stream",
     "text": [
      "4400:\tlearn: 0.8833694\ttest: 0.7895898\tbest: 0.7907268 (4312)\ttotal: 9m 10s\tremaining: 1m 14s\n"
     ]
    },
    {
     "name": "stdout",
     "output_type": "stream",
     "text": [
      "4450:\tlearn: 0.8842662\ttest: 0.7898389\tbest: 0.7907268 (4312)\ttotal: 9m 16s\tremaining: 1m 8s\n"
     ]
    },
    {
     "name": "stdout",
     "output_type": "stream",
     "text": [
      "4500:\tlearn: 0.8850318\ttest: 0.7894896\tbest: 0.7907268 (4312)\ttotal: 9m 22s\tremaining: 1m 2s\n"
     ]
    },
    {
     "name": "stdout",
     "output_type": "stream",
     "text": [
      "4550:\tlearn: 0.8859906\ttest: 0.7897324\tbest: 0.7907268 (4312)\ttotal: 9m 29s\tremaining: 56.1s\n"
     ]
    },
    {
     "name": "stdout",
     "output_type": "stream",
     "text": [
      "4600:\tlearn: 0.8866605\ttest: 0.7896733\tbest: 0.7907268 (4312)\ttotal: 9m 35s\tremaining: 49.9s\n"
     ]
    },
    {
     "name": "stdout",
     "output_type": "stream",
     "text": [
      "4650:\tlearn: 0.8875174\ttest: 0.7898805\tbest: 0.7907268 (4312)\ttotal: 9m 41s\tremaining: 43.6s\n"
     ]
    },
    {
     "name": "stdout",
     "output_type": "stream",
     "text": [
      "4700:\tlearn: 0.8880544\ttest: 0.7902138\tbest: 0.7907268 (4312)\ttotal: 9m 47s\tremaining: 37.4s\n"
     ]
    },
    {
     "name": "stdout",
     "output_type": "stream",
     "text": [
      "4750:\tlearn: 0.8889659\ttest: 0.7896982\tbest: 0.7907268 (4312)\ttotal: 9m 53s\tremaining: 31.1s\n"
     ]
    },
    {
     "name": "stdout",
     "output_type": "stream",
     "text": [
      "4800:\tlearn: 0.8894821\ttest: 0.7896095\tbest: 0.7907268 (4312)\ttotal: 10m\tremaining: 24.9s\n"
     ]
    },
    {
     "name": "stdout",
     "output_type": "stream",
     "text": [
      "4850:\tlearn: 0.8903732\ttest: 0.7895351\tbest: 0.7907268 (4312)\ttotal: 10m 6s\tremaining: 18.6s\n"
     ]
    },
    {
     "name": "stdout",
     "output_type": "stream",
     "text": [
      "4900:\tlearn: 0.8912713\ttest: 0.7897049\tbest: 0.7907268 (4312)\ttotal: 10m 12s\tremaining: 12.4s\n"
     ]
    },
    {
     "name": "stdout",
     "output_type": "stream",
     "text": [
      "4950:\tlearn: 0.8920879\ttest: 0.7898963\tbest: 0.7907268 (4312)\ttotal: 10m 18s\tremaining: 6.13s\n"
     ]
    },
    {
     "name": "stdout",
     "output_type": "stream",
     "text": [
      "4999:\tlearn: 0.8929234\ttest: 0.7898710\tbest: 0.7907268 (4312)\ttotal: 10m 25s\tremaining: 0us\n",
      "\n",
      "bestTest = 0.7907267954\n",
      "bestIteration = 4312\n",
      "\n"
     ]
    },
    {
     "name": "stdout",
     "output_type": "stream",
     "text": [
      "######################################## training model 4/5 ########################################\n",
      "seed: 8\n"
     ]
    },
    {
     "name": "stdout",
     "output_type": "stream",
     "text": [
      "0:\tlearn: 0.6171235\ttest: 0.6208171\tbest: 0.6208171 (0)\ttotal: 460ms\tremaining: 38m 19s\n"
     ]
    },
    {
     "name": "stdout",
     "output_type": "stream",
     "text": [
      "50:\tlearn: 0.7391914\ttest: 0.7411616\tbest: 0.7411616 (50)\ttotal: 6.63s\tremaining: 10m 43s\n"
     ]
    },
    {
     "name": "stdout",
     "output_type": "stream",
     "text": [
      "100:\tlearn: 0.7543672\ttest: 0.7550090\tbest: 0.7550090 (100)\ttotal: 13s\tremaining: 10m 28s\n"
     ]
    },
    {
     "name": "stdout",
     "output_type": "stream",
     "text": [
      "150:\tlearn: 0.7622544\ttest: 0.7616785\tbest: 0.7616785 (150)\ttotal: 19.3s\tremaining: 10m 19s\n"
     ]
    },
    {
     "name": "stdout",
     "output_type": "stream",
     "text": [
      "200:\tlearn: 0.7673541\ttest: 0.7668275\tbest: 0.7669478 (197)\ttotal: 25.6s\tremaining: 10m 10s\n"
     ]
    },
    {
     "name": "stdout",
     "output_type": "stream",
     "text": [
      "250:\tlearn: 0.7706846\ttest: 0.7696029\tbest: 0.7697833 (247)\ttotal: 31.9s\tremaining: 10m 2s\n"
     ]
    },
    {
     "name": "stdout",
     "output_type": "stream",
     "text": [
      "300:\tlearn: 0.7755688\ttest: 0.7750902\tbest: 0.7750902 (300)\ttotal: 38.2s\tremaining: 9m 55s\n"
     ]
    },
    {
     "name": "stdout",
     "output_type": "stream",
     "text": [
      "350:\tlearn: 0.7820728\ttest: 0.7812560\tbest: 0.7814031 (349)\ttotal: 44.5s\tremaining: 9m 49s\n"
     ]
    },
    {
     "name": "stdout",
     "output_type": "stream",
     "text": [
      "400:\tlearn: 0.7866920\ttest: 0.7840825\tbest: 0.7840825 (400)\ttotal: 50.8s\tremaining: 9m 42s\n"
     ]
    },
    {
     "name": "stdout",
     "output_type": "stream",
     "text": [
      "450:\tlearn: 0.7905946\ttest: 0.7864170\tbest: 0.7864170 (450)\ttotal: 57.1s\tremaining: 9m 36s\n"
     ]
    },
    {
     "name": "stdout",
     "output_type": "stream",
     "text": [
      "500:\tlearn: 0.7932487\ttest: 0.7882271\tbest: 0.7882530 (496)\ttotal: 1m 3s\tremaining: 9m 29s\n"
     ]
    },
    {
     "name": "stdout",
     "output_type": "stream",
     "text": [
      "550:\tlearn: 0.7952723\ttest: 0.7902144\tbest: 0.7902144 (550)\ttotal: 1m 9s\tremaining: 9m 22s\n"
     ]
    },
    {
     "name": "stdout",
     "output_type": "stream",
     "text": [
      "600:\tlearn: 0.7974999\ttest: 0.7904995\tbest: 0.7909134 (571)\ttotal: 1m 16s\tremaining: 9m 16s\n"
     ]
    },
    {
     "name": "stdout",
     "output_type": "stream",
     "text": [
      "650:\tlearn: 0.7993746\ttest: 0.7912257\tbest: 0.7913297 (649)\ttotal: 1m 22s\tremaining: 9m 10s\n"
     ]
    },
    {
     "name": "stdout",
     "output_type": "stream",
     "text": [
      "700:\tlearn: 0.8010407\ttest: 0.7921723\tbest: 0.7921734 (689)\ttotal: 1m 28s\tremaining: 9m 3s\n"
     ]
    },
    {
     "name": "stdout",
     "output_type": "stream",
     "text": [
      "750:\tlearn: 0.8026088\ttest: 0.7928074\tbest: 0.7931580 (747)\ttotal: 1m 34s\tremaining: 8m 56s\n"
     ]
    },
    {
     "name": "stdout",
     "output_type": "stream",
     "text": [
      "800:\tlearn: 0.8044731\ttest: 0.7930718\tbest: 0.7933755 (780)\ttotal: 1m 41s\tremaining: 8m 49s\n"
     ]
    },
    {
     "name": "stdout",
     "output_type": "stream",
     "text": [
      "850:\tlearn: 0.8056747\ttest: 0.7933735\tbest: 0.7935281 (841)\ttotal: 1m 47s\tremaining: 8m 43s\n"
     ]
    },
    {
     "name": "stdout",
     "output_type": "stream",
     "text": [
      "900:\tlearn: 0.8073314\ttest: 0.7931262\tbest: 0.7935281 (841)\ttotal: 1m 53s\tremaining: 8m 37s\n"
     ]
    },
    {
     "name": "stdout",
     "output_type": "stream",
     "text": [
      "950:\tlearn: 0.8090731\ttest: 0.7939429\tbest: 0.7942083 (936)\ttotal: 1m 59s\tremaining: 8m 30s\n"
     ]
    },
    {
     "name": "stdout",
     "output_type": "stream",
     "text": [
      "1000:\tlearn: 0.8106498\ttest: 0.7946402\tbest: 0.7946402 (1000)\ttotal: 2m 6s\tremaining: 8m 23s\n"
     ]
    },
    {
     "name": "stdout",
     "output_type": "stream",
     "text": [
      "1050:\tlearn: 0.8121487\ttest: 0.7945929\tbest: 0.7947865 (1026)\ttotal: 2m 12s\tremaining: 8m 17s\n"
     ]
    },
    {
     "name": "stdout",
     "output_type": "stream",
     "text": [
      "1100:\tlearn: 0.8133624\ttest: 0.7942988\tbest: 0.7947865 (1026)\ttotal: 2m 18s\tremaining: 8m 11s\n"
     ]
    },
    {
     "name": "stdout",
     "output_type": "stream",
     "text": [
      "1150:\tlearn: 0.8147932\ttest: 0.7944525\tbest: 0.7949237 (1137)\ttotal: 2m 24s\tremaining: 8m 4s\n"
     ]
    },
    {
     "name": "stdout",
     "output_type": "stream",
     "text": [
      "1200:\tlearn: 0.8161298\ttest: 0.7942873\tbest: 0.7949237 (1137)\ttotal: 2m 31s\tremaining: 7m 58s\n"
     ]
    },
    {
     "name": "stdout",
     "output_type": "stream",
     "text": [
      "1250:\tlearn: 0.8177046\ttest: 0.7944550\tbest: 0.7949237 (1137)\ttotal: 2m 37s\tremaining: 7m 51s\n"
     ]
    },
    {
     "name": "stdout",
     "output_type": "stream",
     "text": [
      "1300:\tlearn: 0.8191204\ttest: 0.7943738\tbest: 0.7949598 (1264)\ttotal: 2m 43s\tremaining: 7m 45s\n"
     ]
    },
    {
     "name": "stdout",
     "output_type": "stream",
     "text": [
      "1350:\tlearn: 0.8205565\ttest: 0.7945799\tbest: 0.7949598 (1264)\ttotal: 2m 50s\tremaining: 7m 39s\n"
     ]
    },
    {
     "name": "stdout",
     "output_type": "stream",
     "text": [
      "1400:\tlearn: 0.8217056\ttest: 0.7946683\tbest: 0.7949966 (1370)\ttotal: 2m 56s\tremaining: 7m 32s\n"
     ]
    },
    {
     "name": "stdout",
     "output_type": "stream",
     "text": [
      "1450:\tlearn: 0.8229323\ttest: 0.7949204\tbest: 0.7952465 (1427)\ttotal: 3m 2s\tremaining: 7m 26s\n"
     ]
    },
    {
     "name": "stdout",
     "output_type": "stream",
     "text": [
      "1500:\tlearn: 0.8242716\ttest: 0.7953123\tbest: 0.7954995 (1495)\ttotal: 3m 8s\tremaining: 7m 20s\n"
     ]
    },
    {
     "name": "stdout",
     "output_type": "stream",
     "text": [
      "1550:\tlearn: 0.8257413\ttest: 0.7952790\tbest: 0.7954995 (1495)\ttotal: 3m 15s\tremaining: 7m 13s\n"
     ]
    },
    {
     "name": "stdout",
     "output_type": "stream",
     "text": [
      "1600:\tlearn: 0.8269254\ttest: 0.7949622\tbest: 0.7955805 (1557)\ttotal: 3m 21s\tremaining: 7m 7s\n"
     ]
    },
    {
     "name": "stdout",
     "output_type": "stream",
     "text": [
      "1650:\tlearn: 0.8280121\ttest: 0.7951520\tbest: 0.7955805 (1557)\ttotal: 3m 27s\tremaining: 7m 1s\n"
     ]
    },
    {
     "name": "stdout",
     "output_type": "stream",
     "text": [
      "1700:\tlearn: 0.8290660\ttest: 0.7948440\tbest: 0.7955805 (1557)\ttotal: 3m 33s\tremaining: 6m 54s\n"
     ]
    },
    {
     "name": "stdout",
     "output_type": "stream",
     "text": [
      "1750:\tlearn: 0.8301842\ttest: 0.7950066\tbest: 0.7955805 (1557)\ttotal: 3m 40s\tremaining: 6m 48s\n"
     ]
    },
    {
     "name": "stdout",
     "output_type": "stream",
     "text": [
      "1800:\tlearn: 0.8316419\ttest: 0.7953293\tbest: 0.7955805 (1557)\ttotal: 3m 46s\tremaining: 6m 42s\n"
     ]
    },
    {
     "name": "stdout",
     "output_type": "stream",
     "text": [
      "1850:\tlearn: 0.8327821\ttest: 0.7953695\tbest: 0.7955805 (1557)\ttotal: 3m 52s\tremaining: 6m 35s\n"
     ]
    },
    {
     "name": "stdout",
     "output_type": "stream",
     "text": [
      "1900:\tlearn: 0.8339712\ttest: 0.7955696\tbest: 0.7958123 (1871)\ttotal: 3m 58s\tremaining: 6m 29s\n"
     ]
    },
    {
     "name": "stdout",
     "output_type": "stream",
     "text": [
      "1950:\tlearn: 0.8349742\ttest: 0.7958627\tbest: 0.7958627 (1950)\ttotal: 4m 5s\tremaining: 6m 23s\n"
     ]
    },
    {
     "name": "stdout",
     "output_type": "stream",
     "text": [
      "2000:\tlearn: 0.8360819\ttest: 0.7967445\tbest: 0.7967445 (2000)\ttotal: 4m 11s\tremaining: 6m 16s\n"
     ]
    },
    {
     "name": "stdout",
     "output_type": "stream",
     "text": [
      "2050:\tlearn: 0.8370834\ttest: 0.7969158\tbest: 0.7969159 (2049)\ttotal: 4m 17s\tremaining: 6m 10s\n"
     ]
    },
    {
     "name": "stdout",
     "output_type": "stream",
     "text": [
      "2100:\tlearn: 0.8381749\ttest: 0.7967355\tbest: 0.7971123 (2056)\ttotal: 4m 23s\tremaining: 6m 3s\n"
     ]
    },
    {
     "name": "stdout",
     "output_type": "stream",
     "text": [
      "2150:\tlearn: 0.8392236\ttest: 0.7964057\tbest: 0.7971123 (2056)\ttotal: 4m 29s\tremaining: 5m 57s\n"
     ]
    },
    {
     "name": "stdout",
     "output_type": "stream",
     "text": [
      "2200:\tlearn: 0.8402498\ttest: 0.7968421\tbest: 0.7971123 (2056)\ttotal: 4m 36s\tremaining: 5m 51s\n"
     ]
    },
    {
     "name": "stdout",
     "output_type": "stream",
     "text": [
      "2250:\tlearn: 0.8412901\ttest: 0.7967953\tbest: 0.7971123 (2056)\ttotal: 4m 42s\tremaining: 5m 44s\n"
     ]
    },
    {
     "name": "stdout",
     "output_type": "stream",
     "text": [
      "2300:\tlearn: 0.8421561\ttest: 0.7968316\tbest: 0.7971605 (2264)\ttotal: 4m 48s\tremaining: 5m 38s\n"
     ]
    },
    {
     "name": "stdout",
     "output_type": "stream",
     "text": [
      "2350:\tlearn: 0.8435934\ttest: 0.7968193\tbest: 0.7971605 (2264)\ttotal: 4m 54s\tremaining: 5m 32s\n"
     ]
    },
    {
     "name": "stdout",
     "output_type": "stream",
     "text": [
      "2400:\tlearn: 0.8449319\ttest: 0.7969584\tbest: 0.7971605 (2264)\ttotal: 5m 1s\tremaining: 5m 26s\n"
     ]
    },
    {
     "name": "stdout",
     "output_type": "stream",
     "text": [
      "2450:\tlearn: 0.8458969\ttest: 0.7970389\tbest: 0.7971605 (2264)\ttotal: 5m 7s\tremaining: 5m 19s\n"
     ]
    },
    {
     "name": "stdout",
     "output_type": "stream",
     "text": [
      "2500:\tlearn: 0.8468418\ttest: 0.7970644\tbest: 0.7972952 (2469)\ttotal: 5m 13s\tremaining: 5m 13s\n"
     ]
    },
    {
     "name": "stdout",
     "output_type": "stream",
     "text": [
      "2550:\tlearn: 0.8480238\ttest: 0.7972728\tbest: 0.7974174 (2541)\ttotal: 5m 20s\tremaining: 5m 7s\n"
     ]
    },
    {
     "name": "stdout",
     "output_type": "stream",
     "text": [
      "2600:\tlearn: 0.8491588\ttest: 0.7974311\tbest: 0.7974882 (2573)\ttotal: 5m 26s\tremaining: 5m 1s\n"
     ]
    },
    {
     "name": "stdout",
     "output_type": "stream",
     "text": [
      "2650:\tlearn: 0.8500847\ttest: 0.7978202\tbest: 0.7978618 (2649)\ttotal: 5m 32s\tremaining: 4m 54s\n"
     ]
    },
    {
     "name": "stdout",
     "output_type": "stream",
     "text": [
      "2700:\tlearn: 0.8510454\ttest: 0.7977577\tbest: 0.7979453 (2660)\ttotal: 5m 39s\tremaining: 4m 48s\n"
     ]
    },
    {
     "name": "stdout",
     "output_type": "stream",
     "text": [
      "2750:\tlearn: 0.8523329\ttest: 0.7979039\tbest: 0.7981146 (2723)\ttotal: 5m 45s\tremaining: 4m 42s\n"
     ]
    },
    {
     "name": "stdout",
     "output_type": "stream",
     "text": [
      "2800:\tlearn: 0.8531822\ttest: 0.7974108\tbest: 0.7981146 (2723)\ttotal: 5m 51s\tremaining: 4m 36s\n"
     ]
    },
    {
     "name": "stdout",
     "output_type": "stream",
     "text": [
      "2850:\tlearn: 0.8542700\ttest: 0.7974599\tbest: 0.7981146 (2723)\ttotal: 5m 57s\tremaining: 4m 29s\n"
     ]
    },
    {
     "name": "stdout",
     "output_type": "stream",
     "text": [
      "2900:\tlearn: 0.8552161\ttest: 0.7972391\tbest: 0.7981146 (2723)\ttotal: 6m 4s\tremaining: 4m 23s\n"
     ]
    },
    {
     "name": "stdout",
     "output_type": "stream",
     "text": [
      "2950:\tlearn: 0.8562433\ttest: 0.7974780\tbest: 0.7981146 (2723)\ttotal: 6m 10s\tremaining: 4m 17s\n"
     ]
    },
    {
     "name": "stdout",
     "output_type": "stream",
     "text": [
      "3000:\tlearn: 0.8570202\ttest: 0.7974951\tbest: 0.7981146 (2723)\ttotal: 6m 16s\tremaining: 4m 10s\n"
     ]
    },
    {
     "name": "stdout",
     "output_type": "stream",
     "text": [
      "3050:\tlearn: 0.8579548\ttest: 0.7977336\tbest: 0.7981146 (2723)\ttotal: 6m 22s\tremaining: 4m 4s\n"
     ]
    },
    {
     "name": "stdout",
     "output_type": "stream",
     "text": [
      "3100:\tlearn: 0.8588264\ttest: 0.7973468\tbest: 0.7981146 (2723)\ttotal: 6m 28s\tremaining: 3m 58s\n"
     ]
    },
    {
     "name": "stdout",
     "output_type": "stream",
     "text": [
      "3150:\tlearn: 0.8597922\ttest: 0.7975109\tbest: 0.7981146 (2723)\ttotal: 6m 35s\tremaining: 3m 51s\n"
     ]
    },
    {
     "name": "stdout",
     "output_type": "stream",
     "text": [
      "3200:\tlearn: 0.8609950\ttest: 0.7974885\tbest: 0.7981146 (2723)\ttotal: 6m 41s\tremaining: 3m 45s\n"
     ]
    },
    {
     "name": "stdout",
     "output_type": "stream",
     "text": [
      "3250:\tlearn: 0.8620579\ttest: 0.7976073\tbest: 0.7981146 (2723)\ttotal: 6m 47s\tremaining: 3m 39s\n"
     ]
    },
    {
     "name": "stdout",
     "output_type": "stream",
     "text": [
      "3300:\tlearn: 0.8628665\ttest: 0.7979029\tbest: 0.7981146 (2723)\ttotal: 6m 54s\tremaining: 3m 33s\n"
     ]
    },
    {
     "name": "stdout",
     "output_type": "stream",
     "text": [
      "3350:\tlearn: 0.8638084\ttest: 0.7977080\tbest: 0.7981146 (2723)\ttotal: 7m\tremaining: 3m 26s\n"
     ]
    },
    {
     "name": "stdout",
     "output_type": "stream",
     "text": [
      "3400:\tlearn: 0.8646383\ttest: 0.7975828\tbest: 0.7981146 (2723)\ttotal: 7m 6s\tremaining: 3m 20s\n"
     ]
    },
    {
     "name": "stdout",
     "output_type": "stream",
     "text": [
      "3450:\tlearn: 0.8653604\ttest: 0.7971431\tbest: 0.7981146 (2723)\ttotal: 7m 12s\tremaining: 3m 14s\n"
     ]
    },
    {
     "name": "stdout",
     "output_type": "stream",
     "text": [
      "3500:\tlearn: 0.8663061\ttest: 0.7976402\tbest: 0.7981146 (2723)\ttotal: 7m 19s\tremaining: 3m 8s\n"
     ]
    },
    {
     "name": "stdout",
     "output_type": "stream",
     "text": [
      "3550:\tlearn: 0.8673422\ttest: 0.7977912\tbest: 0.7981146 (2723)\ttotal: 7m 25s\tremaining: 3m 1s\n"
     ]
    },
    {
     "name": "stdout",
     "output_type": "stream",
     "text": [
      "3600:\tlearn: 0.8682260\ttest: 0.7974442\tbest: 0.7981146 (2723)\ttotal: 7m 31s\tremaining: 2m 55s\n"
     ]
    },
    {
     "name": "stdout",
     "output_type": "stream",
     "text": [
      "3650:\tlearn: 0.8691904\ttest: 0.7971641\tbest: 0.7981146 (2723)\ttotal: 7m 37s\tremaining: 2m 49s\n"
     ]
    },
    {
     "name": "stdout",
     "output_type": "stream",
     "text": [
      "3700:\tlearn: 0.8701926\ttest: 0.7974400\tbest: 0.7981146 (2723)\ttotal: 7m 44s\tremaining: 2m 42s\n"
     ]
    },
    {
     "name": "stdout",
     "output_type": "stream",
     "text": [
      "3750:\tlearn: 0.8711365\ttest: 0.7972935\tbest: 0.7981146 (2723)\ttotal: 7m 50s\tremaining: 2m 36s\n"
     ]
    },
    {
     "name": "stdout",
     "output_type": "stream",
     "text": [
      "3800:\tlearn: 0.8720470\ttest: 0.7972555\tbest: 0.7981146 (2723)\ttotal: 7m 56s\tremaining: 2m 30s\n"
     ]
    },
    {
     "name": "stdout",
     "output_type": "stream",
     "text": [
      "3850:\tlearn: 0.8731540\ttest: 0.7971866\tbest: 0.7981146 (2723)\ttotal: 8m 2s\tremaining: 2m 24s\n"
     ]
    },
    {
     "name": "stdout",
     "output_type": "stream",
     "text": [
      "3900:\tlearn: 0.8741554\ttest: 0.7971725\tbest: 0.7981146 (2723)\ttotal: 8m 9s\tremaining: 2m 17s\n"
     ]
    },
    {
     "name": "stdout",
     "output_type": "stream",
     "text": [
      "3950:\tlearn: 0.8748923\ttest: 0.7970929\tbest: 0.7981146 (2723)\ttotal: 8m 15s\tremaining: 2m 11s\n"
     ]
    },
    {
     "name": "stdout",
     "output_type": "stream",
     "text": [
      "4000:\tlearn: 0.8757039\ttest: 0.7968546\tbest: 0.7981146 (2723)\ttotal: 8m 21s\tremaining: 2m 5s\n"
     ]
    },
    {
     "name": "stdout",
     "output_type": "stream",
     "text": [
      "4050:\tlearn: 0.8767645\ttest: 0.7973853\tbest: 0.7981146 (2723)\ttotal: 8m 27s\tremaining: 1m 58s\n"
     ]
    },
    {
     "name": "stdout",
     "output_type": "stream",
     "text": [
      "4100:\tlearn: 0.8777267\ttest: 0.7971543\tbest: 0.7981146 (2723)\ttotal: 8m 34s\tremaining: 1m 52s\n"
     ]
    },
    {
     "name": "stdout",
     "output_type": "stream",
     "text": [
      "4150:\tlearn: 0.8784580\ttest: 0.7975375\tbest: 0.7981146 (2723)\ttotal: 8m 40s\tremaining: 1m 46s\n"
     ]
    },
    {
     "name": "stdout",
     "output_type": "stream",
     "text": [
      "4200:\tlearn: 0.8792632\ttest: 0.7976446\tbest: 0.7981146 (2723)\ttotal: 8m 46s\tremaining: 1m 40s\n"
     ]
    },
    {
     "name": "stdout",
     "output_type": "stream",
     "text": [
      "4250:\tlearn: 0.8800066\ttest: 0.7972877\tbest: 0.7981146 (2723)\ttotal: 8m 53s\tremaining: 1m 33s\n"
     ]
    },
    {
     "name": "stdout",
     "output_type": "stream",
     "text": [
      "4300:\tlearn: 0.8807600\ttest: 0.7976124\tbest: 0.7981146 (2723)\ttotal: 8m 59s\tremaining: 1m 27s\n"
     ]
    },
    {
     "name": "stdout",
     "output_type": "stream",
     "text": [
      "4350:\tlearn: 0.8818219\ttest: 0.7979912\tbest: 0.7981146 (2723)\ttotal: 9m 5s\tremaining: 1m 21s\n"
     ]
    },
    {
     "name": "stdout",
     "output_type": "stream",
     "text": [
      "4400:\tlearn: 0.8828601\ttest: 0.7977555\tbest: 0.7981146 (2723)\ttotal: 9m 11s\tremaining: 1m 15s\n"
     ]
    },
    {
     "name": "stdout",
     "output_type": "stream",
     "text": [
      "4450:\tlearn: 0.8835438\ttest: 0.7979909\tbest: 0.7981146 (2723)\ttotal: 9m 18s\tremaining: 1m 8s\n"
     ]
    },
    {
     "name": "stdout",
     "output_type": "stream",
     "text": [
      "4500:\tlearn: 0.8843934\ttest: 0.7980437\tbest: 0.7981720 (4469)\ttotal: 9m 24s\tremaining: 1m 2s\n"
     ]
    },
    {
     "name": "stdout",
     "output_type": "stream",
     "text": [
      "4550:\tlearn: 0.8852614\ttest: 0.7979401\tbest: 0.7981720 (4469)\ttotal: 9m 30s\tremaining: 56.3s\n"
     ]
    },
    {
     "name": "stdout",
     "output_type": "stream",
     "text": [
      "4600:\tlearn: 0.8862294\ttest: 0.7978791\tbest: 0.7981720 (4469)\ttotal: 9m 36s\tremaining: 50s\n"
     ]
    },
    {
     "name": "stdout",
     "output_type": "stream",
     "text": [
      "4650:\tlearn: 0.8872424\ttest: 0.7978174\tbest: 0.7983226 (4617)\ttotal: 9m 43s\tremaining: 43.8s\n"
     ]
    },
    {
     "name": "stdout",
     "output_type": "stream",
     "text": [
      "4700:\tlearn: 0.8880852\ttest: 0.7979911\tbest: 0.7983226 (4617)\ttotal: 9m 49s\tremaining: 37.5s\n"
     ]
    },
    {
     "name": "stdout",
     "output_type": "stream",
     "text": [
      "4750:\tlearn: 0.8889195\ttest: 0.7979831\tbest: 0.7983226 (4617)\ttotal: 9m 55s\tremaining: 31.2s\n"
     ]
    },
    {
     "name": "stdout",
     "output_type": "stream",
     "text": [
      "4800:\tlearn: 0.8896727\ttest: 0.7979738\tbest: 0.7983964 (4782)\ttotal: 10m 2s\tremaining: 25s\n"
     ]
    },
    {
     "name": "stdout",
     "output_type": "stream",
     "text": [
      "4850:\tlearn: 0.8903068\ttest: 0.7979542\tbest: 0.7983964 (4782)\ttotal: 10m 8s\tremaining: 18.7s\n"
     ]
    },
    {
     "name": "stdout",
     "output_type": "stream",
     "text": [
      "4900:\tlearn: 0.8911248\ttest: 0.7973862\tbest: 0.7983964 (4782)\ttotal: 10m 14s\tremaining: 12.4s\n"
     ]
    },
    {
     "name": "stdout",
     "output_type": "stream",
     "text": [
      "4950:\tlearn: 0.8918678\ttest: 0.7972428\tbest: 0.7983964 (4782)\ttotal: 10m 20s\tremaining: 6.14s\n"
     ]
    },
    {
     "name": "stdout",
     "output_type": "stream",
     "text": [
      "4999:\tlearn: 0.8926927\ttest: 0.7974502\tbest: 0.7983964 (4782)\ttotal: 10m 27s\tremaining: 0us\n",
      "\n",
      "bestTest = 0.7983963671\n",
      "bestIteration = 4782\n",
      "\n"
     ]
    },
    {
     "name": "stdout",
     "output_type": "stream",
     "text": [
      "######################################## training model 5/5 ########################################\n",
      "seed: 9\n"
     ]
    },
    {
     "name": "stdout",
     "output_type": "stream",
     "text": [
      "0:\tlearn: 0.5957967\ttest: 0.5968245\tbest: 0.5968245 (0)\ttotal: 447ms\tremaining: 37m 12s\n"
     ]
    },
    {
     "name": "stdout",
     "output_type": "stream",
     "text": [
      "50:\tlearn: 0.7398552\ttest: 0.7417329\tbest: 0.7417329 (50)\ttotal: 6.64s\tremaining: 10m 44s\n"
     ]
    },
    {
     "name": "stdout",
     "output_type": "stream",
     "text": [
      "100:\tlearn: 0.7530506\ttest: 0.7566638\tbest: 0.7566638 (100)\ttotal: 12.9s\tremaining: 10m 28s\n"
     ]
    },
    {
     "name": "stdout",
     "output_type": "stream",
     "text": [
      "150:\tlearn: 0.7610466\ttest: 0.7639987\tbest: 0.7641400 (149)\ttotal: 19.4s\tremaining: 10m 21s\n"
     ]
    },
    {
     "name": "stdout",
     "output_type": "stream",
     "text": [
      "200:\tlearn: 0.7655623\ttest: 0.7693912\tbest: 0.7693912 (200)\ttotal: 25.7s\tremaining: 10m 12s\n"
     ]
    },
    {
     "name": "stdout",
     "output_type": "stream",
     "text": [
      "250:\tlearn: 0.7699686\ttest: 0.7724082\tbest: 0.7726061 (247)\ttotal: 32s\tremaining: 10m 4s\n"
     ]
    },
    {
     "name": "stdout",
     "output_type": "stream",
     "text": [
      "300:\tlearn: 0.7758559\ttest: 0.7770384\tbest: 0.7770595 (296)\ttotal: 38.2s\tremaining: 9m 56s\n"
     ]
    },
    {
     "name": "stdout",
     "output_type": "stream",
     "text": [
      "350:\tlearn: 0.7823358\ttest: 0.7812912\tbest: 0.7814826 (340)\ttotal: 44.6s\tremaining: 9m 50s\n"
     ]
    },
    {
     "name": "stdout",
     "output_type": "stream",
     "text": [
      "400:\tlearn: 0.7864611\ttest: 0.7833745\tbest: 0.7833745 (400)\ttotal: 50.8s\tremaining: 9m 43s\n"
     ]
    },
    {
     "name": "stdout",
     "output_type": "stream",
     "text": [
      "450:\tlearn: 0.7895404\ttest: 0.7851527\tbest: 0.7852228 (449)\ttotal: 57.1s\tremaining: 9m 36s\n"
     ]
    },
    {
     "name": "stdout",
     "output_type": "stream",
     "text": [
      "500:\tlearn: 0.7923527\ttest: 0.7874385\tbest: 0.7876028 (499)\ttotal: 1m 3s\tremaining: 9m 28s\n"
     ]
    },
    {
     "name": "stdout",
     "output_type": "stream",
     "text": [
      "550:\tlearn: 0.7947569\ttest: 0.7884787\tbest: 0.7886828 (549)\ttotal: 1m 9s\tremaining: 9m 21s\n"
     ]
    },
    {
     "name": "stdout",
     "output_type": "stream",
     "text": [
      "600:\tlearn: 0.7969172\ttest: 0.7890662\tbest: 0.7895017 (593)\ttotal: 1m 15s\tremaining: 9m 15s\n"
     ]
    },
    {
     "name": "stdout",
     "output_type": "stream",
     "text": [
      "650:\tlearn: 0.7990105\ttest: 0.7899965\tbest: 0.7899965 (650)\ttotal: 1m 22s\tremaining: 9m 8s\n"
     ]
    },
    {
     "name": "stdout",
     "output_type": "stream",
     "text": [
      "700:\tlearn: 0.8007300\ttest: 0.7904886\tbest: 0.7906554 (699)\ttotal: 1m 28s\tremaining: 9m 1s\n"
     ]
    },
    {
     "name": "stdout",
     "output_type": "stream",
     "text": [
      "750:\tlearn: 0.8024301\ttest: 0.7910695\tbest: 0.7910884 (749)\ttotal: 1m 34s\tremaining: 8m 55s\n"
     ]
    },
    {
     "name": "stdout",
     "output_type": "stream",
     "text": [
      "800:\tlearn: 0.8042308\ttest: 0.7905102\tbest: 0.7913519 (754)\ttotal: 1m 40s\tremaining: 8m 48s\n"
     ]
    },
    {
     "name": "stdout",
     "output_type": "stream",
     "text": [
      "850:\tlearn: 0.8061022\ttest: 0.7904214\tbest: 0.7913519 (754)\ttotal: 1m 47s\tremaining: 8m 42s\n"
     ]
    },
    {
     "name": "stdout",
     "output_type": "stream",
     "text": [
      "900:\tlearn: 0.8074713\ttest: 0.7908283\tbest: 0.7913519 (754)\ttotal: 1m 53s\tremaining: 8m 35s\n"
     ]
    },
    {
     "name": "stdout",
     "output_type": "stream",
     "text": [
      "950:\tlearn: 0.8089912\ttest: 0.7914109\tbest: 0.7914503 (949)\ttotal: 1m 59s\tremaining: 8m 29s\n"
     ]
    },
    {
     "name": "stdout",
     "output_type": "stream",
     "text": [
      "1000:\tlearn: 0.8105569\ttest: 0.7920322\tbest: 0.7920322 (1000)\ttotal: 2m 5s\tremaining: 8m 22s\n"
     ]
    },
    {
     "name": "stdout",
     "output_type": "stream",
     "text": [
      "1050:\tlearn: 0.8119246\ttest: 0.7920340\tbest: 0.7921840 (1038)\ttotal: 2m 12s\tremaining: 8m 16s\n"
     ]
    },
    {
     "name": "stdout",
     "output_type": "stream",
     "text": [
      "1100:\tlearn: 0.8133131\ttest: 0.7924365\tbest: 0.7924369 (1099)\ttotal: 2m 18s\tremaining: 8m 9s\n"
     ]
    },
    {
     "name": "stdout",
     "output_type": "stream",
     "text": [
      "1150:\tlearn: 0.8143639\ttest: 0.7924356\tbest: 0.7924482 (1106)\ttotal: 2m 24s\tremaining: 8m 3s\n"
     ]
    },
    {
     "name": "stdout",
     "output_type": "stream",
     "text": [
      "1200:\tlearn: 0.8157650\ttest: 0.7923695\tbest: 0.7924482 (1106)\ttotal: 2m 30s\tremaining: 7m 57s\n"
     ]
    },
    {
     "name": "stdout",
     "output_type": "stream",
     "text": [
      "1250:\tlearn: 0.8168608\ttest: 0.7925621\tbest: 0.7925621 (1250)\ttotal: 2m 37s\tremaining: 7m 50s\n"
     ]
    },
    {
     "name": "stdout",
     "output_type": "stream",
     "text": [
      "1300:\tlearn: 0.8181505\ttest: 0.7922990\tbest: 0.7925621 (1250)\ttotal: 2m 43s\tremaining: 7m 44s\n"
     ]
    },
    {
     "name": "stdout",
     "output_type": "stream",
     "text": [
      "1350:\tlearn: 0.8198405\ttest: 0.7927747\tbest: 0.7929991 (1336)\ttotal: 2m 49s\tremaining: 7m 38s\n"
     ]
    },
    {
     "name": "stdout",
     "output_type": "stream",
     "text": [
      "1400:\tlearn: 0.8211877\ttest: 0.7926596\tbest: 0.7929991 (1336)\ttotal: 2m 55s\tremaining: 7m 31s\n"
     ]
    },
    {
     "name": "stdout",
     "output_type": "stream",
     "text": [
      "1450:\tlearn: 0.8225017\ttest: 0.7933775\tbest: 0.7933775 (1450)\ttotal: 3m 2s\tremaining: 7m 25s\n"
     ]
    },
    {
     "name": "stdout",
     "output_type": "stream",
     "text": [
      "1500:\tlearn: 0.8235664\ttest: 0.7929010\tbest: 0.7934448 (1456)\ttotal: 3m 8s\tremaining: 7m 19s\n"
     ]
    },
    {
     "name": "stdout",
     "output_type": "stream",
     "text": [
      "1550:\tlearn: 0.8250377\ttest: 0.7932901\tbest: 0.7935361 (1540)\ttotal: 3m 14s\tremaining: 7m 13s\n"
     ]
    },
    {
     "name": "stdout",
     "output_type": "stream",
     "text": [
      "1600:\tlearn: 0.8261093\ttest: 0.7932789\tbest: 0.7935361 (1540)\ttotal: 3m 20s\tremaining: 7m 6s\n"
     ]
    },
    {
     "name": "stdout",
     "output_type": "stream",
     "text": [
      "1650:\tlearn: 0.8271041\ttest: 0.7938484\tbest: 0.7938664 (1641)\ttotal: 3m 27s\tremaining: 7m\n"
     ]
    },
    {
     "name": "stdout",
     "output_type": "stream",
     "text": [
      "1700:\tlearn: 0.8284672\ttest: 0.7935278\tbest: 0.7939160 (1660)\ttotal: 3m 33s\tremaining: 6m 54s\n"
     ]
    },
    {
     "name": "stdout",
     "output_type": "stream",
     "text": [
      "1750:\tlearn: 0.8296247\ttest: 0.7938174\tbest: 0.7942181 (1739)\ttotal: 3m 39s\tremaining: 6m 47s\n"
     ]
    },
    {
     "name": "stdout",
     "output_type": "stream",
     "text": [
      "1800:\tlearn: 0.8305569\ttest: 0.7942722\tbest: 0.7943563 (1799)\ttotal: 3m 45s\tremaining: 6m 41s\n"
     ]
    },
    {
     "name": "stdout",
     "output_type": "stream",
     "text": [
      "1850:\tlearn: 0.8318850\ttest: 0.7944128\tbest: 0.7944845 (1806)\ttotal: 3m 52s\tremaining: 6m 35s\n"
     ]
    },
    {
     "name": "stdout",
     "output_type": "stream",
     "text": [
      "1900:\tlearn: 0.8328873\ttest: 0.7943469\tbest: 0.7944989 (1852)\ttotal: 3m 58s\tremaining: 6m 28s\n"
     ]
    },
    {
     "name": "stdout",
     "output_type": "stream",
     "text": [
      "1950:\tlearn: 0.8340468\ttest: 0.7945696\tbest: 0.7946117 (1944)\ttotal: 4m 4s\tremaining: 6m 22s\n"
     ]
    },
    {
     "name": "stdout",
     "output_type": "stream",
     "text": [
      "2000:\tlearn: 0.8351162\ttest: 0.7941542\tbest: 0.7946772 (1956)\ttotal: 4m 10s\tremaining: 6m 15s\n"
     ]
    },
    {
     "name": "stdout",
     "output_type": "stream",
     "text": [
      "2050:\tlearn: 0.8360600\ttest: 0.7938273\tbest: 0.7946772 (1956)\ttotal: 4m 17s\tremaining: 6m 9s\n"
     ]
    },
    {
     "name": "stdout",
     "output_type": "stream",
     "text": [
      "2100:\tlearn: 0.8370816\ttest: 0.7943320\tbest: 0.7946772 (1956)\ttotal: 4m 23s\tremaining: 6m 3s\n"
     ]
    },
    {
     "name": "stdout",
     "output_type": "stream",
     "text": [
      "2150:\tlearn: 0.8381745\ttest: 0.7944107\tbest: 0.7946772 (1956)\ttotal: 4m 29s\tremaining: 5m 57s\n"
     ]
    },
    {
     "name": "stdout",
     "output_type": "stream",
     "text": [
      "2200:\tlearn: 0.8393869\ttest: 0.7948678\tbest: 0.7950356 (2198)\ttotal: 4m 36s\tremaining: 5m 51s\n"
     ]
    },
    {
     "name": "stdout",
     "output_type": "stream",
     "text": [
      "2250:\tlearn: 0.8408028\ttest: 0.7946519\tbest: 0.7950356 (2198)\ttotal: 4m 42s\tremaining: 5m 44s\n"
     ]
    },
    {
     "name": "stdout",
     "output_type": "stream",
     "text": [
      "2300:\tlearn: 0.8417177\ttest: 0.7947081\tbest: 0.7950356 (2198)\ttotal: 4m 48s\tremaining: 5m 38s\n"
     ]
    },
    {
     "name": "stdout",
     "output_type": "stream",
     "text": [
      "2350:\tlearn: 0.8429242\ttest: 0.7949718\tbest: 0.7950356 (2198)\ttotal: 4m 55s\tremaining: 5m 32s\n"
     ]
    },
    {
     "name": "stdout",
     "output_type": "stream",
     "text": [
      "2400:\tlearn: 0.8439134\ttest: 0.7952162\tbest: 0.7953184 (2378)\ttotal: 5m 1s\tremaining: 5m 26s\n"
     ]
    },
    {
     "name": "stdout",
     "output_type": "stream",
     "text": [
      "2450:\tlearn: 0.8449016\ttest: 0.7952689\tbest: 0.7955397 (2446)\ttotal: 5m 7s\tremaining: 5m 20s\n"
     ]
    },
    {
     "name": "stdout",
     "output_type": "stream",
     "text": [
      "2500:\tlearn: 0.8459831\ttest: 0.7956435\tbest: 0.7958173 (2467)\ttotal: 5m 14s\tremaining: 5m 13s\n"
     ]
    },
    {
     "name": "stdout",
     "output_type": "stream",
     "text": [
      "2550:\tlearn: 0.8472317\ttest: 0.7955348\tbest: 0.7958173 (2467)\ttotal: 5m 20s\tremaining: 5m 7s\n"
     ]
    },
    {
     "name": "stdout",
     "output_type": "stream",
     "text": [
      "2600:\tlearn: 0.8485985\ttest: 0.7954423\tbest: 0.7958173 (2467)\ttotal: 5m 26s\tremaining: 5m 1s\n"
     ]
    },
    {
     "name": "stdout",
     "output_type": "stream",
     "text": [
      "2650:\tlearn: 0.8496199\ttest: 0.7955838\tbest: 0.7958173 (2467)\ttotal: 5m 33s\tremaining: 4m 55s\n"
     ]
    },
    {
     "name": "stdout",
     "output_type": "stream",
     "text": [
      "2700:\tlearn: 0.8504760\ttest: 0.7953638\tbest: 0.7958482 (2682)\ttotal: 5m 39s\tremaining: 4m 48s\n"
     ]
    },
    {
     "name": "stdout",
     "output_type": "stream",
     "text": [
      "2750:\tlearn: 0.8515300\ttest: 0.7956003\tbest: 0.7958482 (2682)\ttotal: 5m 45s\tremaining: 4m 42s\n"
     ]
    },
    {
     "name": "stdout",
     "output_type": "stream",
     "text": [
      "2800:\tlearn: 0.8526878\ttest: 0.7951886\tbest: 0.7958482 (2682)\ttotal: 5m 51s\tremaining: 4m 36s\n"
     ]
    },
    {
     "name": "stdout",
     "output_type": "stream",
     "text": [
      "2850:\tlearn: 0.8535119\ttest: 0.7951781\tbest: 0.7958482 (2682)\ttotal: 5m 58s\tremaining: 4m 30s\n"
     ]
    },
    {
     "name": "stdout",
     "output_type": "stream",
     "text": [
      "2900:\tlearn: 0.8544480\ttest: 0.7953162\tbest: 0.7958482 (2682)\ttotal: 6m 4s\tremaining: 4m 23s\n"
     ]
    },
    {
     "name": "stdout",
     "output_type": "stream",
     "text": [
      "2950:\tlearn: 0.8557000\ttest: 0.7951565\tbest: 0.7958482 (2682)\ttotal: 6m 10s\tremaining: 4m 17s\n"
     ]
    },
    {
     "name": "stdout",
     "output_type": "stream",
     "text": [
      "3000:\tlearn: 0.8566116\ttest: 0.7955842\tbest: 0.7958482 (2682)\ttotal: 6m 17s\tremaining: 4m 11s\n"
     ]
    },
    {
     "name": "stdout",
     "output_type": "stream",
     "text": [
      "3050:\tlearn: 0.8573395\ttest: 0.7959648\tbest: 0.7959648 (3050)\ttotal: 6m 23s\tremaining: 4m 4s\n"
     ]
    },
    {
     "name": "stdout",
     "output_type": "stream",
     "text": [
      "3100:\tlearn: 0.8582242\ttest: 0.7958210\tbest: 0.7959648 (3050)\ttotal: 6m 29s\tremaining: 3m 58s\n"
     ]
    },
    {
     "name": "stdout",
     "output_type": "stream",
     "text": [
      "3150:\tlearn: 0.8592372\ttest: 0.7961642\tbest: 0.7962066 (3145)\ttotal: 6m 35s\tremaining: 3m 52s\n"
     ]
    },
    {
     "name": "stdout",
     "output_type": "stream",
     "text": [
      "3200:\tlearn: 0.8603236\ttest: 0.7959361\tbest: 0.7962066 (3145)\ttotal: 6m 42s\tremaining: 3m 45s\n"
     ]
    },
    {
     "name": "stdout",
     "output_type": "stream",
     "text": [
      "3250:\tlearn: 0.8611791\ttest: 0.7962365\tbest: 0.7962778 (3249)\ttotal: 6m 48s\tremaining: 3m 39s\n"
     ]
    },
    {
     "name": "stdout",
     "output_type": "stream",
     "text": [
      "3300:\tlearn: 0.8622287\ttest: 0.7960043\tbest: 0.7963195 (3253)\ttotal: 6m 54s\tremaining: 3m 33s\n"
     ]
    },
    {
     "name": "stdout",
     "output_type": "stream",
     "text": [
      "3350:\tlearn: 0.8631148\ttest: 0.7961746\tbest: 0.7964060 (3341)\ttotal: 7m 1s\tremaining: 3m 27s\n"
     ]
    },
    {
     "name": "stdout",
     "output_type": "stream",
     "text": [
      "3400:\tlearn: 0.8640452\ttest: 0.7961337\tbest: 0.7965572 (3391)\ttotal: 7m 7s\tremaining: 3m 20s\n"
     ]
    },
    {
     "name": "stdout",
     "output_type": "stream",
     "text": [
      "3450:\tlearn: 0.8650967\ttest: 0.7961180\tbest: 0.7966791 (3418)\ttotal: 7m 13s\tremaining: 3m 14s\n"
     ]
    },
    {
     "name": "stdout",
     "output_type": "stream",
     "text": [
      "3500:\tlearn: 0.8659561\ttest: 0.7962429\tbest: 0.7966791 (3418)\ttotal: 7m 19s\tremaining: 3m 8s\n"
     ]
    },
    {
     "name": "stdout",
     "output_type": "stream",
     "text": [
      "3550:\tlearn: 0.8669723\ttest: 0.7960970\tbest: 0.7966791 (3418)\ttotal: 7m 26s\tremaining: 3m 2s\n"
     ]
    },
    {
     "name": "stdout",
     "output_type": "stream",
     "text": [
      "3600:\tlearn: 0.8676239\ttest: 0.7965155\tbest: 0.7966791 (3418)\ttotal: 7m 32s\tremaining: 2m 55s\n"
     ]
    },
    {
     "name": "stdout",
     "output_type": "stream",
     "text": [
      "3650:\tlearn: 0.8683477\ttest: 0.7966464\tbest: 0.7967948 (3643)\ttotal: 7m 38s\tremaining: 2m 49s\n"
     ]
    },
    {
     "name": "stdout",
     "output_type": "stream",
     "text": [
      "3700:\tlearn: 0.8691663\ttest: 0.7966960\tbest: 0.7969495 (3696)\ttotal: 7m 45s\tremaining: 2m 43s\n"
     ]
    },
    {
     "name": "stdout",
     "output_type": "stream",
     "text": [
      "3750:\tlearn: 0.8700770\ttest: 0.7964871\tbest: 0.7969495 (3696)\ttotal: 7m 51s\tremaining: 2m 36s\n"
     ]
    },
    {
     "name": "stdout",
     "output_type": "stream",
     "text": [
      "3800:\tlearn: 0.8708015\ttest: 0.7962702\tbest: 0.7969495 (3696)\ttotal: 7m 57s\tremaining: 2m 30s\n"
     ]
    },
    {
     "name": "stdout",
     "output_type": "stream",
     "text": [
      "3850:\tlearn: 0.8716767\ttest: 0.7957211\tbest: 0.7969495 (3696)\ttotal: 8m 3s\tremaining: 2m 24s\n"
     ]
    },
    {
     "name": "stdout",
     "output_type": "stream",
     "text": [
      "3900:\tlearn: 0.8723450\ttest: 0.7964152\tbest: 0.7969495 (3696)\ttotal: 8m 9s\tremaining: 2m 18s\n"
     ]
    },
    {
     "name": "stdout",
     "output_type": "stream",
     "text": [
      "3950:\tlearn: 0.8735516\ttest: 0.7964411\tbest: 0.7969495 (3696)\ttotal: 8m 16s\tremaining: 2m 11s\n"
     ]
    },
    {
     "name": "stdout",
     "output_type": "stream",
     "text": [
      "4000:\tlearn: 0.8745780\ttest: 0.7959589\tbest: 0.7969495 (3696)\ttotal: 8m 22s\tremaining: 2m 5s\n"
     ]
    },
    {
     "name": "stdout",
     "output_type": "stream",
     "text": [
      "4050:\tlearn: 0.8753924\ttest: 0.7957755\tbest: 0.7969495 (3696)\ttotal: 8m 28s\tremaining: 1m 59s\n"
     ]
    },
    {
     "name": "stdout",
     "output_type": "stream",
     "text": [
      "4100:\tlearn: 0.8765263\ttest: 0.7959899\tbest: 0.7969495 (3696)\ttotal: 8m 34s\tremaining: 1m 52s\n"
     ]
    },
    {
     "name": "stdout",
     "output_type": "stream",
     "text": [
      "4150:\tlearn: 0.8772657\ttest: 0.7958034\tbest: 0.7969495 (3696)\ttotal: 8m 41s\tremaining: 1m 46s\n"
     ]
    },
    {
     "name": "stdout",
     "output_type": "stream",
     "text": [
      "4200:\tlearn: 0.8781123\ttest: 0.7955741\tbest: 0.7969495 (3696)\ttotal: 8m 47s\tremaining: 1m 40s\n"
     ]
    },
    {
     "name": "stdout",
     "output_type": "stream",
     "text": [
      "4250:\tlearn: 0.8789346\ttest: 0.7959143\tbest: 0.7969495 (3696)\ttotal: 8m 53s\tremaining: 1m 34s\n"
     ]
    },
    {
     "name": "stdout",
     "output_type": "stream",
     "text": [
      "4300:\tlearn: 0.8797480\ttest: 0.7957458\tbest: 0.7969495 (3696)\ttotal: 8m 59s\tremaining: 1m 27s\n"
     ]
    },
    {
     "name": "stdout",
     "output_type": "stream",
     "text": [
      "4350:\tlearn: 0.8808788\ttest: 0.7954091\tbest: 0.7969495 (3696)\ttotal: 9m 6s\tremaining: 1m 21s\n"
     ]
    },
    {
     "name": "stdout",
     "output_type": "stream",
     "text": [
      "4400:\tlearn: 0.8815448\ttest: 0.7958177\tbest: 0.7969495 (3696)\ttotal: 9m 12s\tremaining: 1m 15s\n"
     ]
    },
    {
     "name": "stdout",
     "output_type": "stream",
     "text": [
      "4450:\tlearn: 0.8823126\ttest: 0.7953168\tbest: 0.7969495 (3696)\ttotal: 9m 18s\tremaining: 1m 8s\n"
     ]
    },
    {
     "name": "stdout",
     "output_type": "stream",
     "text": [
      "4500:\tlearn: 0.8832046\ttest: 0.7953206\tbest: 0.7969495 (3696)\ttotal: 9m 24s\tremaining: 1m 2s\n"
     ]
    },
    {
     "name": "stdout",
     "output_type": "stream",
     "text": [
      "4550:\tlearn: 0.8839690\ttest: 0.7954954\tbest: 0.7969495 (3696)\ttotal: 9m 31s\tremaining: 56.3s\n"
     ]
    },
    {
     "name": "stdout",
     "output_type": "stream",
     "text": [
      "4600:\tlearn: 0.8847721\ttest: 0.7959155\tbest: 0.7969495 (3696)\ttotal: 9m 37s\tremaining: 50.1s\n"
     ]
    },
    {
     "name": "stdout",
     "output_type": "stream",
     "text": [
      "4650:\tlearn: 0.8854982\ttest: 0.7956254\tbest: 0.7969495 (3696)\ttotal: 9m 43s\tremaining: 43.8s\n"
     ]
    },
    {
     "name": "stdout",
     "output_type": "stream",
     "text": [
      "4700:\tlearn: 0.8864632\ttest: 0.7956907\tbest: 0.7969495 (3696)\ttotal: 9m 49s\tremaining: 37.5s\n"
     ]
    },
    {
     "name": "stdout",
     "output_type": "stream",
     "text": [
      "4750:\tlearn: 0.8872557\ttest: 0.7959649\tbest: 0.7969495 (3696)\ttotal: 9m 55s\tremaining: 31.2s\n"
     ]
    },
    {
     "name": "stdout",
     "output_type": "stream",
     "text": [
      "4800:\tlearn: 0.8880616\ttest: 0.7960706\tbest: 0.7969495 (3696)\ttotal: 10m 2s\tremaining: 25s\n"
     ]
    },
    {
     "name": "stdout",
     "output_type": "stream",
     "text": [
      "4850:\tlearn: 0.8888383\ttest: 0.7961574\tbest: 0.7969495 (3696)\ttotal: 10m 8s\tremaining: 18.7s\n"
     ]
    },
    {
     "name": "stdout",
     "output_type": "stream",
     "text": [
      "4900:\tlearn: 0.8896994\ttest: 0.7962612\tbest: 0.7969495 (3696)\ttotal: 10m 14s\tremaining: 12.4s\n"
     ]
    },
    {
     "name": "stdout",
     "output_type": "stream",
     "text": [
      "4950:\tlearn: 0.8905549\ttest: 0.7967182\tbest: 0.7969495 (3696)\ttotal: 10m 20s\tremaining: 6.14s\n"
     ]
    },
    {
     "name": "stdout",
     "output_type": "stream",
     "text": [
      "4999:\tlearn: 0.8912563\ttest: 0.7962889\tbest: 0.7969495 (3696)\ttotal: 10m 27s\tremaining: 0us\n",
      "\n",
      "bestTest = 0.7969494668\n",
      "bestIteration = 3696\n",
      "\n"
     ]
    },
    {
     "name": "stdout",
     "output_type": "stream",
     "text": [
      "Training time: 52.66115738550822 min.\n",
      "OOF recall_at4: 0.6650031978994849\n",
      "OOF normalized_gini: 0.9241509745866965\n",
      "OOF competition metric: 0.7945770862430908\n"
     ]
    },
    {
     "name": "stdout",
     "output_type": "stream",
     "text": [
      "############################### repeated cross-validation step: 3/5 ################################\n"
     ]
    },
    {
     "name": "stdout",
     "output_type": "stream",
     "text": [
      "######################################## training model 1/5 ########################################\n",
      "seed: 10\n"
     ]
    },
    {
     "name": "stdout",
     "output_type": "stream",
     "text": [
      "0:\tlearn: 0.5400873\ttest: 0.5384130\tbest: 0.5384130 (0)\ttotal: 450ms\tremaining: 37m 30s\n"
     ]
    },
    {
     "name": "stdout",
     "output_type": "stream",
     "text": [
      "50:\tlearn: 0.7397186\ttest: 0.7355684\tbest: 0.7355684 (50)\ttotal: 6.62s\tremaining: 10m 42s\n"
     ]
    },
    {
     "name": "stdout",
     "output_type": "stream",
     "text": [
      "100:\tlearn: 0.7546216\ttest: 0.7507254\tbest: 0.7507254 (100)\ttotal: 12.9s\tremaining: 10m 27s\n"
     ]
    },
    {
     "name": "stdout",
     "output_type": "stream",
     "text": [
      "150:\tlearn: 0.7616551\ttest: 0.7580075\tbest: 0.7580075 (150)\ttotal: 19.2s\tremaining: 10m 16s\n"
     ]
    },
    {
     "name": "stdout",
     "output_type": "stream",
     "text": [
      "200:\tlearn: 0.7671625\ttest: 0.7630207\tbest: 0.7632414 (199)\ttotal: 25.4s\tremaining: 10m 7s\n"
     ]
    },
    {
     "name": "stdout",
     "output_type": "stream",
     "text": [
      "250:\tlearn: 0.7715196\ttest: 0.7669079\tbest: 0.7669570 (249)\ttotal: 31.7s\tremaining: 9m 59s\n"
     ]
    },
    {
     "name": "stdout",
     "output_type": "stream",
     "text": [
      "300:\tlearn: 0.7772999\ttest: 0.7722188\tbest: 0.7722188 (300)\ttotal: 38s\tremaining: 9m 53s\n"
     ]
    },
    {
     "name": "stdout",
     "output_type": "stream",
     "text": [
      "350:\tlearn: 0.7833858\ttest: 0.7778937\tbest: 0.7780151 (349)\ttotal: 44.3s\tremaining: 9m 46s\n"
     ]
    },
    {
     "name": "stdout",
     "output_type": "stream",
     "text": [
      "400:\tlearn: 0.7877273\ttest: 0.7807964\tbest: 0.7810024 (398)\ttotal: 50.6s\tremaining: 9m 40s\n"
     ]
    },
    {
     "name": "stdout",
     "output_type": "stream",
     "text": [
      "450:\tlearn: 0.7911002\ttest: 0.7828441\tbest: 0.7828441 (450)\ttotal: 56.9s\tremaining: 9m 33s\n"
     ]
    },
    {
     "name": "stdout",
     "output_type": "stream",
     "text": [
      "500:\tlearn: 0.7933641\ttest: 0.7842034\tbest: 0.7843511 (486)\ttotal: 1m 3s\tremaining: 9m 26s\n"
     ]
    },
    {
     "name": "stdout",
     "output_type": "stream",
     "text": [
      "550:\tlearn: 0.7956228\ttest: 0.7854688\tbest: 0.7856053 (543)\ttotal: 1m 9s\tremaining: 9m 20s\n"
     ]
    },
    {
     "name": "stdout",
     "output_type": "stream",
     "text": [
      "600:\tlearn: 0.7975930\ttest: 0.7866650\tbest: 0.7866792 (597)\ttotal: 1m 15s\tremaining: 9m 14s\n"
     ]
    },
    {
     "name": "stdout",
     "output_type": "stream",
     "text": [
      "650:\tlearn: 0.7995816\ttest: 0.7872587\tbest: 0.7876492 (640)\ttotal: 1m 22s\tremaining: 9m 7s\n"
     ]
    },
    {
     "name": "stdout",
     "output_type": "stream",
     "text": [
      "700:\tlearn: 0.8015160\ttest: 0.7881463\tbest: 0.7881463 (700)\ttotal: 1m 28s\tremaining: 9m 1s\n"
     ]
    },
    {
     "name": "stdout",
     "output_type": "stream",
     "text": [
      "750:\tlearn: 0.8034648\ttest: 0.7883137\tbest: 0.7884818 (741)\ttotal: 1m 34s\tremaining: 8m 54s\n"
     ]
    },
    {
     "name": "stdout",
     "output_type": "stream",
     "text": [
      "800:\tlearn: 0.8049477\ttest: 0.7886477\tbest: 0.7887685 (796)\ttotal: 1m 40s\tremaining: 8m 49s\n"
     ]
    },
    {
     "name": "stdout",
     "output_type": "stream",
     "text": [
      "850:\tlearn: 0.8064288\ttest: 0.7890780\tbest: 0.7895367 (835)\ttotal: 1m 47s\tremaining: 8m 42s\n"
     ]
    },
    {
     "name": "stdout",
     "output_type": "stream",
     "text": [
      "900:\tlearn: 0.8083124\ttest: 0.7895385\tbest: 0.7897604 (896)\ttotal: 1m 53s\tremaining: 8m 36s\n"
     ]
    },
    {
     "name": "stdout",
     "output_type": "stream",
     "text": [
      "950:\tlearn: 0.8098310\ttest: 0.7892042\tbest: 0.7897604 (896)\ttotal: 1m 59s\tremaining: 8m 29s\n"
     ]
    },
    {
     "name": "stdout",
     "output_type": "stream",
     "text": [
      "1000:\tlearn: 0.8113874\ttest: 0.7896569\tbest: 0.7898399 (994)\ttotal: 2m 5s\tremaining: 8m 23s\n"
     ]
    },
    {
     "name": "stdout",
     "output_type": "stream",
     "text": [
      "1050:\tlearn: 0.8130234\ttest: 0.7898225\tbest: 0.7900398 (1027)\ttotal: 2m 12s\tremaining: 8m 16s\n"
     ]
    },
    {
     "name": "stdout",
     "output_type": "stream",
     "text": [
      "1100:\tlearn: 0.8143533\ttest: 0.7903139\tbest: 0.7904067 (1082)\ttotal: 2m 18s\tremaining: 8m 10s\n"
     ]
    },
    {
     "name": "stdout",
     "output_type": "stream",
     "text": [
      "1150:\tlearn: 0.8158061\ttest: 0.7912208\tbest: 0.7912208 (1150)\ttotal: 2m 24s\tremaining: 8m 4s\n"
     ]
    },
    {
     "name": "stdout",
     "output_type": "stream",
     "text": [
      "1200:\tlearn: 0.8170897\ttest: 0.7917893\tbest: 0.7918933 (1197)\ttotal: 2m 31s\tremaining: 7m 57s\n"
     ]
    },
    {
     "name": "stdout",
     "output_type": "stream",
     "text": [
      "1250:\tlearn: 0.8183117\ttest: 0.7919546\tbest: 0.7921320 (1227)\ttotal: 2m 37s\tremaining: 7m 51s\n"
     ]
    },
    {
     "name": "stdout",
     "output_type": "stream",
     "text": [
      "1300:\tlearn: 0.8197152\ttest: 0.7919943\tbest: 0.7922568 (1260)\ttotal: 2m 43s\tremaining: 7m 45s\n"
     ]
    },
    {
     "name": "stdout",
     "output_type": "stream",
     "text": [
      "1350:\tlearn: 0.8209649\ttest: 0.7916792\tbest: 0.7922671 (1311)\ttotal: 2m 50s\tremaining: 7m 39s\n"
     ]
    },
    {
     "name": "stdout",
     "output_type": "stream",
     "text": [
      "1400:\tlearn: 0.8218528\ttest: 0.7913639\tbest: 0.7922671 (1311)\ttotal: 2m 56s\tremaining: 7m 32s\n"
     ]
    },
    {
     "name": "stdout",
     "output_type": "stream",
     "text": [
      "1450:\tlearn: 0.8232992\ttest: 0.7912413\tbest: 0.7922671 (1311)\ttotal: 3m 2s\tremaining: 7m 26s\n"
     ]
    },
    {
     "name": "stdout",
     "output_type": "stream",
     "text": [
      "1500:\tlearn: 0.8243539\ttest: 0.7915991\tbest: 0.7922671 (1311)\ttotal: 3m 8s\tremaining: 7m 20s\n"
     ]
    },
    {
     "name": "stdout",
     "output_type": "stream",
     "text": [
      "1550:\tlearn: 0.8259011\ttest: 0.7924860\tbest: 0.7925724 (1546)\ttotal: 3m 15s\tremaining: 7m 14s\n"
     ]
    },
    {
     "name": "stdout",
     "output_type": "stream",
     "text": [
      "1600:\tlearn: 0.8268995\ttest: 0.7923551\tbest: 0.7929305 (1558)\ttotal: 3m 21s\tremaining: 7m 7s\n"
     ]
    },
    {
     "name": "stdout",
     "output_type": "stream",
     "text": [
      "1650:\tlearn: 0.8281444\ttest: 0.7921856\tbest: 0.7929305 (1558)\ttotal: 3m 27s\tremaining: 7m 1s\n"
     ]
    },
    {
     "name": "stdout",
     "output_type": "stream",
     "text": [
      "1700:\tlearn: 0.8294112\ttest: 0.7919615\tbest: 0.7929305 (1558)\ttotal: 3m 33s\tremaining: 6m 55s\n"
     ]
    },
    {
     "name": "stdout",
     "output_type": "stream",
     "text": [
      "1750:\tlearn: 0.8304321\ttest: 0.7922348\tbest: 0.7929305 (1558)\ttotal: 3m 40s\tremaining: 6m 48s\n"
     ]
    },
    {
     "name": "stdout",
     "output_type": "stream",
     "text": [
      "1800:\tlearn: 0.8313648\ttest: 0.7927089\tbest: 0.7929305 (1558)\ttotal: 3m 46s\tremaining: 6m 42s\n"
     ]
    },
    {
     "name": "stdout",
     "output_type": "stream",
     "text": [
      "1850:\tlearn: 0.8327157\ttest: 0.7925905\tbest: 0.7929305 (1558)\ttotal: 3m 52s\tremaining: 6m 36s\n"
     ]
    },
    {
     "name": "stdout",
     "output_type": "stream",
     "text": [
      "1900:\tlearn: 0.8341021\ttest: 0.7923321\tbest: 0.7929305 (1558)\ttotal: 3m 59s\tremaining: 6m 30s\n"
     ]
    },
    {
     "name": "stdout",
     "output_type": "stream",
     "text": [
      "1950:\tlearn: 0.8351165\ttest: 0.7921954\tbest: 0.7929305 (1558)\ttotal: 4m 5s\tremaining: 6m 23s\n"
     ]
    },
    {
     "name": "stdout",
     "output_type": "stream",
     "text": [
      "2000:\tlearn: 0.8366151\ttest: 0.7922225\tbest: 0.7929305 (1558)\ttotal: 4m 11s\tremaining: 6m 17s\n"
     ]
    },
    {
     "name": "stdout",
     "output_type": "stream",
     "text": [
      "2050:\tlearn: 0.8379041\ttest: 0.7918292\tbest: 0.7929305 (1558)\ttotal: 4m 18s\tremaining: 6m 11s\n"
     ]
    },
    {
     "name": "stdout",
     "output_type": "stream",
     "text": [
      "2100:\tlearn: 0.8389219\ttest: 0.7924168\tbest: 0.7929305 (1558)\ttotal: 4m 24s\tremaining: 6m 4s\n"
     ]
    },
    {
     "name": "stdout",
     "output_type": "stream",
     "text": [
      "2150:\tlearn: 0.8399218\ttest: 0.7925998\tbest: 0.7929305 (1558)\ttotal: 4m 30s\tremaining: 5m 58s\n"
     ]
    },
    {
     "name": "stdout",
     "output_type": "stream",
     "text": [
      "2200:\tlearn: 0.8409622\ttest: 0.7925551\tbest: 0.7929305 (1558)\ttotal: 4m 37s\tremaining: 5m 52s\n"
     ]
    },
    {
     "name": "stdout",
     "output_type": "stream",
     "text": [
      "2250:\tlearn: 0.8422212\ttest: 0.7925430\tbest: 0.7929625 (2239)\ttotal: 4m 43s\tremaining: 5m 46s\n"
     ]
    },
    {
     "name": "stdout",
     "output_type": "stream",
     "text": [
      "2300:\tlearn: 0.8431151\ttest: 0.7926426\tbest: 0.7929625 (2239)\ttotal: 4m 49s\tremaining: 5m 39s\n"
     ]
    },
    {
     "name": "stdout",
     "output_type": "stream",
     "text": [
      "2350:\tlearn: 0.8440829\ttest: 0.7924037\tbest: 0.7929625 (2239)\ttotal: 4m 55s\tremaining: 5m 33s\n"
     ]
    },
    {
     "name": "stdout",
     "output_type": "stream",
     "text": [
      "2400:\tlearn: 0.8451719\ttest: 0.7924812\tbest: 0.7929625 (2239)\ttotal: 5m 2s\tremaining: 5m 27s\n"
     ]
    },
    {
     "name": "stdout",
     "output_type": "stream",
     "text": [
      "2450:\tlearn: 0.8459100\ttest: 0.7923010\tbest: 0.7929625 (2239)\ttotal: 5m 8s\tremaining: 5m 20s\n"
     ]
    },
    {
     "name": "stdout",
     "output_type": "stream",
     "text": [
      "2500:\tlearn: 0.8471930\ttest: 0.7919960\tbest: 0.7929625 (2239)\ttotal: 5m 14s\tremaining: 5m 14s\n"
     ]
    },
    {
     "name": "stdout",
     "output_type": "stream",
     "text": [
      "2550:\tlearn: 0.8481748\ttest: 0.7927166\tbest: 0.7929625 (2239)\ttotal: 5m 21s\tremaining: 5m 8s\n"
     ]
    },
    {
     "name": "stdout",
     "output_type": "stream",
     "text": [
      "2600:\tlearn: 0.8491644\ttest: 0.7923653\tbest: 0.7929625 (2239)\ttotal: 5m 27s\tremaining: 5m 1s\n"
     ]
    },
    {
     "name": "stdout",
     "output_type": "stream",
     "text": [
      "2650:\tlearn: 0.8502131\ttest: 0.7921125\tbest: 0.7929625 (2239)\ttotal: 5m 33s\tremaining: 4m 55s\n"
     ]
    },
    {
     "name": "stdout",
     "output_type": "stream",
     "text": [
      "2700:\tlearn: 0.8509859\ttest: 0.7924662\tbest: 0.7929625 (2239)\ttotal: 5m 39s\tremaining: 4m 49s\n"
     ]
    },
    {
     "name": "stdout",
     "output_type": "stream",
     "text": [
      "2750:\tlearn: 0.8519999\ttest: 0.7919863\tbest: 0.7929625 (2239)\ttotal: 5m 46s\tremaining: 4m 42s\n"
     ]
    },
    {
     "name": "stdout",
     "output_type": "stream",
     "text": [
      "2800:\tlearn: 0.8532242\ttest: 0.7927979\tbest: 0.7929625 (2239)\ttotal: 5m 52s\tremaining: 4m 36s\n"
     ]
    },
    {
     "name": "stdout",
     "output_type": "stream",
     "text": [
      "2850:\tlearn: 0.8544779\ttest: 0.7926129\tbest: 0.7929625 (2239)\ttotal: 5m 58s\tremaining: 4m 30s\n"
     ]
    },
    {
     "name": "stdout",
     "output_type": "stream",
     "text": [
      "2900:\tlearn: 0.8555746\ttest: 0.7924461\tbest: 0.7929625 (2239)\ttotal: 6m 4s\tremaining: 4m 23s\n"
     ]
    },
    {
     "name": "stdout",
     "output_type": "stream",
     "text": [
      "2950:\tlearn: 0.8563619\ttest: 0.7924504\tbest: 0.7929625 (2239)\ttotal: 6m 10s\tremaining: 4m 17s\n"
     ]
    },
    {
     "name": "stdout",
     "output_type": "stream",
     "text": [
      "3000:\tlearn: 0.8570886\ttest: 0.7921318\tbest: 0.7929625 (2239)\ttotal: 6m 17s\tremaining: 4m 11s\n"
     ]
    },
    {
     "name": "stdout",
     "output_type": "stream",
     "text": [
      "3050:\tlearn: 0.8581445\ttest: 0.7920361\tbest: 0.7929625 (2239)\ttotal: 6m 23s\tremaining: 4m 4s\n"
     ]
    },
    {
     "name": "stdout",
     "output_type": "stream",
     "text": [
      "3100:\tlearn: 0.8590748\ttest: 0.7922950\tbest: 0.7929625 (2239)\ttotal: 6m 29s\tremaining: 3m 58s\n"
     ]
    },
    {
     "name": "stdout",
     "output_type": "stream",
     "text": [
      "3150:\tlearn: 0.8600232\ttest: 0.7925006\tbest: 0.7929625 (2239)\ttotal: 6m 35s\tremaining: 3m 52s\n"
     ]
    },
    {
     "name": "stdout",
     "output_type": "stream",
     "text": [
      "3200:\tlearn: 0.8612213\ttest: 0.7921386\tbest: 0.7929625 (2239)\ttotal: 6m 42s\tremaining: 3m 45s\n"
     ]
    },
    {
     "name": "stdout",
     "output_type": "stream",
     "text": [
      "3250:\tlearn: 0.8621026\ttest: 0.7925676\tbest: 0.7929625 (2239)\ttotal: 6m 48s\tremaining: 3m 39s\n"
     ]
    },
    {
     "name": "stdout",
     "output_type": "stream",
     "text": [
      "3300:\tlearn: 0.8628673\ttest: 0.7923637\tbest: 0.7929625 (2239)\ttotal: 6m 54s\tremaining: 3m 33s\n"
     ]
    },
    {
     "name": "stdout",
     "output_type": "stream",
     "text": [
      "3350:\tlearn: 0.8638437\ttest: 0.7919512\tbest: 0.7929625 (2239)\ttotal: 7m\tremaining: 3m 27s\n"
     ]
    },
    {
     "name": "stdout",
     "output_type": "stream",
     "text": [
      "3400:\tlearn: 0.8648683\ttest: 0.7918748\tbest: 0.7929625 (2239)\ttotal: 7m 6s\tremaining: 3m 20s\n"
     ]
    },
    {
     "name": "stdout",
     "output_type": "stream",
     "text": [
      "3450:\tlearn: 0.8657441\ttest: 0.7920301\tbest: 0.7929625 (2239)\ttotal: 7m 13s\tremaining: 3m 14s\n"
     ]
    },
    {
     "name": "stdout",
     "output_type": "stream",
     "text": [
      "3500:\tlearn: 0.8667656\ttest: 0.7927341\tbest: 0.7929625 (2239)\ttotal: 7m 19s\tremaining: 3m 8s\n"
     ]
    },
    {
     "name": "stdout",
     "output_type": "stream",
     "text": [
      "3550:\tlearn: 0.8675793\ttest: 0.7928427\tbest: 0.7929625 (2239)\ttotal: 7m 25s\tremaining: 3m 1s\n"
     ]
    },
    {
     "name": "stdout",
     "output_type": "stream",
     "text": [
      "3600:\tlearn: 0.8684390\ttest: 0.7926584\tbest: 0.7929722 (3568)\ttotal: 7m 31s\tremaining: 2m 55s\n"
     ]
    },
    {
     "name": "stdout",
     "output_type": "stream",
     "text": [
      "3650:\tlearn: 0.8695075\ttest: 0.7932140\tbest: 0.7932140 (3650)\ttotal: 7m 38s\tremaining: 2m 49s\n"
     ]
    },
    {
     "name": "stdout",
     "output_type": "stream",
     "text": [
      "3700:\tlearn: 0.8705628\ttest: 0.7929725\tbest: 0.7933840 (3662)\ttotal: 7m 44s\tremaining: 2m 43s\n"
     ]
    },
    {
     "name": "stdout",
     "output_type": "stream",
     "text": [
      "3750:\tlearn: 0.8716219\ttest: 0.7924421\tbest: 0.7933840 (3662)\ttotal: 7m 50s\tremaining: 2m 36s\n"
     ]
    },
    {
     "name": "stdout",
     "output_type": "stream",
     "text": [
      "3800:\tlearn: 0.8724750\ttest: 0.7927185\tbest: 0.7933840 (3662)\ttotal: 7m 56s\tremaining: 2m 30s\n"
     ]
    },
    {
     "name": "stdout",
     "output_type": "stream",
     "text": [
      "3850:\tlearn: 0.8732851\ttest: 0.7927803\tbest: 0.7933840 (3662)\ttotal: 8m 3s\tremaining: 2m 24s\n"
     ]
    },
    {
     "name": "stdout",
     "output_type": "stream",
     "text": [
      "3900:\tlearn: 0.8740636\ttest: 0.7935931\tbest: 0.7935931 (3900)\ttotal: 8m 9s\tremaining: 2m 17s\n"
     ]
    },
    {
     "name": "stdout",
     "output_type": "stream",
     "text": [
      "3950:\tlearn: 0.8751624\ttest: 0.7928256\tbest: 0.7935931 (3900)\ttotal: 8m 15s\tremaining: 2m 11s\n"
     ]
    },
    {
     "name": "stdout",
     "output_type": "stream",
     "text": [
      "4000:\tlearn: 0.8760653\ttest: 0.7927943\tbest: 0.7935931 (3900)\ttotal: 8m 21s\tremaining: 2m 5s\n"
     ]
    },
    {
     "name": "stdout",
     "output_type": "stream",
     "text": [
      "4050:\tlearn: 0.8768593\ttest: 0.7929435\tbest: 0.7935931 (3900)\ttotal: 8m 28s\tremaining: 1m 59s\n"
     ]
    },
    {
     "name": "stdout",
     "output_type": "stream",
     "text": [
      "4100:\tlearn: 0.8778412\ttest: 0.7931397\tbest: 0.7935931 (3900)\ttotal: 8m 34s\tremaining: 1m 52s\n"
     ]
    },
    {
     "name": "stdout",
     "output_type": "stream",
     "text": [
      "4150:\tlearn: 0.8785891\ttest: 0.7931623\tbest: 0.7935931 (3900)\ttotal: 8m 40s\tremaining: 1m 46s\n"
     ]
    },
    {
     "name": "stdout",
     "output_type": "stream",
     "text": [
      "4200:\tlearn: 0.8795582\ttest: 0.7932070\tbest: 0.7935931 (3900)\ttotal: 8m 46s\tremaining: 1m 40s\n"
     ]
    },
    {
     "name": "stdout",
     "output_type": "stream",
     "text": [
      "4250:\tlearn: 0.8803817\ttest: 0.7931091\tbest: 0.7935931 (3900)\ttotal: 8m 53s\tremaining: 1m 33s\n"
     ]
    },
    {
     "name": "stdout",
     "output_type": "stream",
     "text": [
      "4300:\tlearn: 0.8813120\ttest: 0.7932373\tbest: 0.7935931 (3900)\ttotal: 8m 59s\tremaining: 1m 27s\n"
     ]
    },
    {
     "name": "stdout",
     "output_type": "stream",
     "text": [
      "4350:\tlearn: 0.8824313\ttest: 0.7933247\tbest: 0.7935931 (3900)\ttotal: 9m 5s\tremaining: 1m 21s\n"
     ]
    },
    {
     "name": "stdout",
     "output_type": "stream",
     "text": [
      "4400:\tlearn: 0.8830298\ttest: 0.7931759\tbest: 0.7935931 (3900)\ttotal: 9m 11s\tremaining: 1m 15s\n"
     ]
    },
    {
     "name": "stdout",
     "output_type": "stream",
     "text": [
      "4450:\tlearn: 0.8838101\ttest: 0.7927576\tbest: 0.7935931 (3900)\ttotal: 9m 18s\tremaining: 1m 8s\n"
     ]
    },
    {
     "name": "stdout",
     "output_type": "stream",
     "text": [
      "4500:\tlearn: 0.8848745\ttest: 0.7933434\tbest: 0.7935943 (4498)\ttotal: 9m 24s\tremaining: 1m 2s\n"
     ]
    },
    {
     "name": "stdout",
     "output_type": "stream",
     "text": [
      "4550:\tlearn: 0.8858305\ttest: 0.7933513\tbest: 0.7935943 (4498)\ttotal: 9m 30s\tremaining: 56.3s\n"
     ]
    },
    {
     "name": "stdout",
     "output_type": "stream",
     "text": [
      "4600:\tlearn: 0.8866151\ttest: 0.7933511\tbest: 0.7935943 (4498)\ttotal: 9m 36s\tremaining: 50s\n"
     ]
    },
    {
     "name": "stdout",
     "output_type": "stream",
     "text": [
      "4650:\tlearn: 0.8872949\ttest: 0.7933965\tbest: 0.7936268 (4607)\ttotal: 9m 43s\tremaining: 43.8s\n"
     ]
    },
    {
     "name": "stdout",
     "output_type": "stream",
     "text": [
      "4700:\tlearn: 0.8881375\ttest: 0.7932074\tbest: 0.7937169 (4671)\ttotal: 9m 49s\tremaining: 37.5s\n"
     ]
    },
    {
     "name": "stdout",
     "output_type": "stream",
     "text": [
      "4750:\tlearn: 0.8891939\ttest: 0.7934726\tbest: 0.7937169 (4671)\ttotal: 9m 55s\tremaining: 31.2s\n"
     ]
    },
    {
     "name": "stdout",
     "output_type": "stream",
     "text": [
      "4800:\tlearn: 0.8901036\ttest: 0.7938673\tbest: 0.7940345 (4797)\ttotal: 10m 1s\tremaining: 25s\n"
     ]
    },
    {
     "name": "stdout",
     "output_type": "stream",
     "text": [
      "4850:\tlearn: 0.8910177\ttest: 0.7939103\tbest: 0.7941817 (4836)\ttotal: 10m 8s\tremaining: 18.7s\n"
     ]
    },
    {
     "name": "stdout",
     "output_type": "stream",
     "text": [
      "4900:\tlearn: 0.8917583\ttest: 0.7938872\tbest: 0.7941817 (4836)\ttotal: 10m 14s\tremaining: 12.4s\n"
     ]
    },
    {
     "name": "stdout",
     "output_type": "stream",
     "text": [
      "4950:\tlearn: 0.8925398\ttest: 0.7939071\tbest: 0.7941817 (4836)\ttotal: 10m 20s\tremaining: 6.14s\n"
     ]
    },
    {
     "name": "stdout",
     "output_type": "stream",
     "text": [
      "4999:\tlearn: 0.8932221\ttest: 0.7937775\tbest: 0.7941817 (4836)\ttotal: 10m 27s\tremaining: 0us\n",
      "\n",
      "bestTest = 0.7941817351\n",
      "bestIteration = 4836\n",
      "\n"
     ]
    },
    {
     "name": "stdout",
     "output_type": "stream",
     "text": [
      "######################################## training model 2/5 ########################################\n",
      "seed: 11\n"
     ]
    },
    {
     "name": "stdout",
     "output_type": "stream",
     "text": [
      "0:\tlearn: 0.5743013\ttest: 0.5725698\tbest: 0.5725698 (0)\ttotal: 462ms\tremaining: 38m 28s\n"
     ]
    },
    {
     "name": "stdout",
     "output_type": "stream",
     "text": [
      "50:\tlearn: 0.7448877\ttest: 0.7443981\tbest: 0.7443981 (50)\ttotal: 6.69s\tremaining: 10m 49s\n"
     ]
    },
    {
     "name": "stdout",
     "output_type": "stream",
     "text": [
      "100:\tlearn: 0.7576352\ttest: 0.7541050\tbest: 0.7541050 (100)\ttotal: 13s\tremaining: 10m 32s\n"
     ]
    },
    {
     "name": "stdout",
     "output_type": "stream",
     "text": [
      "150:\tlearn: 0.7643270\ttest: 0.7612899\tbest: 0.7612899 (150)\ttotal: 19.3s\tremaining: 10m 20s\n"
     ]
    },
    {
     "name": "stdout",
     "output_type": "stream",
     "text": [
      "200:\tlearn: 0.7681324\ttest: 0.7645223\tbest: 0.7649061 (198)\ttotal: 25.6s\tremaining: 10m 11s\n"
     ]
    },
    {
     "name": "stdout",
     "output_type": "stream",
     "text": [
      "250:\tlearn: 0.7719347\ttest: 0.7673594\tbest: 0.7673594 (250)\ttotal: 31.9s\tremaining: 10m 3s\n"
     ]
    },
    {
     "name": "stdout",
     "output_type": "stream",
     "text": [
      "300:\tlearn: 0.7771541\ttest: 0.7713593\tbest: 0.7713593 (300)\ttotal: 38.3s\tremaining: 9m 57s\n"
     ]
    },
    {
     "name": "stdout",
     "output_type": "stream",
     "text": [
      "350:\tlearn: 0.7839886\ttest: 0.7756721\tbest: 0.7756721 (350)\ttotal: 44.6s\tremaining: 9m 50s\n"
     ]
    },
    {
     "name": "stdout",
     "output_type": "stream",
     "text": [
      "400:\tlearn: 0.7876878\ttest: 0.7800719\tbest: 0.7800719 (400)\ttotal: 50.9s\tremaining: 9m 44s\n"
     ]
    },
    {
     "name": "stdout",
     "output_type": "stream",
     "text": [
      "450:\tlearn: 0.7912665\ttest: 0.7811514\tbest: 0.7813757 (449)\ttotal: 57.3s\tremaining: 9m 37s\n"
     ]
    },
    {
     "name": "stdout",
     "output_type": "stream",
     "text": [
      "500:\tlearn: 0.7939950\ttest: 0.7820781\tbest: 0.7822052 (491)\ttotal: 1m 3s\tremaining: 9m 31s\n"
     ]
    },
    {
     "name": "stdout",
     "output_type": "stream",
     "text": [
      "550:\tlearn: 0.7964708\ttest: 0.7827340\tbest: 0.7827723 (549)\ttotal: 1m 9s\tremaining: 9m 25s\n"
     ]
    },
    {
     "name": "stdout",
     "output_type": "stream",
     "text": [
      "600:\tlearn: 0.7986867\ttest: 0.7835556\tbest: 0.7836926 (598)\ttotal: 1m 16s\tremaining: 9m 18s\n"
     ]
    },
    {
     "name": "stdout",
     "output_type": "stream",
     "text": [
      "650:\tlearn: 0.8004788\ttest: 0.7845061\tbest: 0.7845618 (644)\ttotal: 1m 22s\tremaining: 9m 12s\n"
     ]
    },
    {
     "name": "stdout",
     "output_type": "stream",
     "text": [
      "700:\tlearn: 0.8020583\ttest: 0.7853411\tbest: 0.7853411 (700)\ttotal: 1m 28s\tremaining: 9m 5s\n"
     ]
    },
    {
     "name": "stdout",
     "output_type": "stream",
     "text": [
      "750:\tlearn: 0.8038329\ttest: 0.7853318\tbest: 0.7854597 (708)\ttotal: 1m 35s\tremaining: 8m 58s\n"
     ]
    },
    {
     "name": "stdout",
     "output_type": "stream",
     "text": [
      "800:\tlearn: 0.8059167\ttest: 0.7854389\tbest: 0.7859810 (788)\ttotal: 1m 41s\tremaining: 8m 53s\n"
     ]
    },
    {
     "name": "stdout",
     "output_type": "stream",
     "text": [
      "850:\tlearn: 0.8076526\ttest: 0.7855161\tbest: 0.7859810 (788)\ttotal: 1m 48s\tremaining: 8m 46s\n"
     ]
    },
    {
     "name": "stdout",
     "output_type": "stream",
     "text": [
      "900:\tlearn: 0.8095607\ttest: 0.7860539\tbest: 0.7864422 (878)\ttotal: 1m 54s\tremaining: 8m 40s\n"
     ]
    },
    {
     "name": "stdout",
     "output_type": "stream",
     "text": [
      "950:\tlearn: 0.8108152\ttest: 0.7869636\tbest: 0.7873728 (942)\ttotal: 2m\tremaining: 8m 34s\n"
     ]
    },
    {
     "name": "stdout",
     "output_type": "stream",
     "text": [
      "1000:\tlearn: 0.8119060\ttest: 0.7875285\tbest: 0.7881979 (992)\ttotal: 2m 7s\tremaining: 8m 27s\n"
     ]
    },
    {
     "name": "stdout",
     "output_type": "stream",
     "text": [
      "1050:\tlearn: 0.8133138\ttest: 0.7880531\tbest: 0.7883071 (1013)\ttotal: 2m 13s\tremaining: 8m 21s\n"
     ]
    },
    {
     "name": "stdout",
     "output_type": "stream",
     "text": [
      "1100:\tlearn: 0.8150454\ttest: 0.7880442\tbest: 0.7884405 (1056)\ttotal: 2m 19s\tremaining: 8m 15s\n"
     ]
    },
    {
     "name": "stdout",
     "output_type": "stream",
     "text": [
      "1150:\tlearn: 0.8160980\ttest: 0.7882014\tbest: 0.7886923 (1114)\ttotal: 2m 26s\tremaining: 8m 8s\n"
     ]
    },
    {
     "name": "stdout",
     "output_type": "stream",
     "text": [
      "1200:\tlearn: 0.8174703\ttest: 0.7884627\tbest: 0.7886923 (1114)\ttotal: 2m 32s\tremaining: 8m 2s\n"
     ]
    },
    {
     "name": "stdout",
     "output_type": "stream",
     "text": [
      "1250:\tlearn: 0.8189188\ttest: 0.7889392\tbest: 0.7889804 (1249)\ttotal: 2m 38s\tremaining: 7m 56s\n"
     ]
    },
    {
     "name": "stdout",
     "output_type": "stream",
     "text": [
      "1300:\tlearn: 0.8205276\ttest: 0.7887375\tbest: 0.7890702 (1255)\ttotal: 2m 45s\tremaining: 7m 50s\n"
     ]
    },
    {
     "name": "stdout",
     "output_type": "stream",
     "text": [
      "1350:\tlearn: 0.8216885\ttest: 0.7894109\tbest: 0.7894109 (1350)\ttotal: 2m 51s\tremaining: 7m 43s\n"
     ]
    },
    {
     "name": "stdout",
     "output_type": "stream",
     "text": [
      "1400:\tlearn: 0.8232185\ttest: 0.7890650\tbest: 0.7894973 (1353)\ttotal: 2m 58s\tremaining: 7m 37s\n"
     ]
    },
    {
     "name": "stdout",
     "output_type": "stream",
     "text": [
      "1450:\tlearn: 0.8241238\ttest: 0.7889758\tbest: 0.7895194 (1437)\ttotal: 3m 4s\tremaining: 7m 30s\n"
     ]
    },
    {
     "name": "stdout",
     "output_type": "stream",
     "text": [
      "1500:\tlearn: 0.8255151\ttest: 0.7889394\tbest: 0.7895194 (1437)\ttotal: 3m 10s\tremaining: 7m 24s\n"
     ]
    },
    {
     "name": "stdout",
     "output_type": "stream",
     "text": [
      "1550:\tlearn: 0.8267264\ttest: 0.7890796\tbest: 0.7895368 (1535)\ttotal: 3m 17s\tremaining: 7m 18s\n"
     ]
    },
    {
     "name": "stdout",
     "output_type": "stream",
     "text": [
      "1600:\tlearn: 0.8278707\ttest: 0.7891539\tbest: 0.7896097 (1586)\ttotal: 3m 23s\tremaining: 7m 11s\n"
     ]
    },
    {
     "name": "stdout",
     "output_type": "stream",
     "text": [
      "1650:\tlearn: 0.8291350\ttest: 0.7898832\tbest: 0.7898994 (1647)\ttotal: 3m 29s\tremaining: 7m 5s\n"
     ]
    },
    {
     "name": "stdout",
     "output_type": "stream",
     "text": [
      "1700:\tlearn: 0.8301880\ttest: 0.7899567\tbest: 0.7900832 (1699)\ttotal: 3m 35s\tremaining: 6m 58s\n"
     ]
    },
    {
     "name": "stdout",
     "output_type": "stream",
     "text": [
      "1750:\tlearn: 0.8317499\ttest: 0.7898334\tbest: 0.7900832 (1699)\ttotal: 3m 42s\tremaining: 6m 52s\n"
     ]
    },
    {
     "name": "stdout",
     "output_type": "stream",
     "text": [
      "1800:\tlearn: 0.8329801\ttest: 0.7899024\tbest: 0.7902774 (1787)\ttotal: 3m 48s\tremaining: 6m 45s\n"
     ]
    },
    {
     "name": "stdout",
     "output_type": "stream",
     "text": [
      "1850:\tlearn: 0.8338157\ttest: 0.7905623\tbest: 0.7907868 (1824)\ttotal: 3m 54s\tremaining: 6m 39s\n"
     ]
    },
    {
     "name": "stdout",
     "output_type": "stream",
     "text": [
      "1900:\tlearn: 0.8351538\ttest: 0.7906496\tbest: 0.7907991 (1860)\ttotal: 4m 1s\tremaining: 6m 33s\n"
     ]
    },
    {
     "name": "stdout",
     "output_type": "stream",
     "text": [
      "1950:\tlearn: 0.8360273\ttest: 0.7904536\tbest: 0.7910274 (1905)\ttotal: 4m 7s\tremaining: 6m 26s\n"
     ]
    },
    {
     "name": "stdout",
     "output_type": "stream",
     "text": [
      "2000:\tlearn: 0.8374214\ttest: 0.7905899\tbest: 0.7910274 (1905)\ttotal: 4m 13s\tremaining: 6m 20s\n"
     ]
    },
    {
     "name": "stdout",
     "output_type": "stream",
     "text": [
      "2050:\tlearn: 0.8385915\ttest: 0.7899583\tbest: 0.7910274 (1905)\ttotal: 4m 20s\tremaining: 6m 13s\n"
     ]
    },
    {
     "name": "stdout",
     "output_type": "stream",
     "text": [
      "2100:\tlearn: 0.8396298\ttest: 0.7902262\tbest: 0.7910274 (1905)\ttotal: 4m 26s\tremaining: 6m 7s\n"
     ]
    },
    {
     "name": "stdout",
     "output_type": "stream",
     "text": [
      "2150:\tlearn: 0.8409681\ttest: 0.7902897\tbest: 0.7910274 (1905)\ttotal: 4m 32s\tremaining: 6m\n"
     ]
    },
    {
     "name": "stdout",
     "output_type": "stream",
     "text": [
      "2200:\tlearn: 0.8420387\ttest: 0.7904368\tbest: 0.7910274 (1905)\ttotal: 4m 38s\tremaining: 5m 54s\n"
     ]
    },
    {
     "name": "stdout",
     "output_type": "stream",
     "text": [
      "2250:\tlearn: 0.8433907\ttest: 0.7905875\tbest: 0.7910274 (1905)\ttotal: 4m 45s\tremaining: 5m 48s\n"
     ]
    },
    {
     "name": "stdout",
     "output_type": "stream",
     "text": [
      "2300:\tlearn: 0.8446363\ttest: 0.7903843\tbest: 0.7910274 (1905)\ttotal: 4m 51s\tremaining: 5m 41s\n"
     ]
    },
    {
     "name": "stdout",
     "output_type": "stream",
     "text": [
      "2350:\tlearn: 0.8456251\ttest: 0.7909193\tbest: 0.7910274 (1905)\ttotal: 4m 57s\tremaining: 5m 35s\n"
     ]
    },
    {
     "name": "stdout",
     "output_type": "stream",
     "text": [
      "2400:\tlearn: 0.8465668\ttest: 0.7904641\tbest: 0.7910274 (1905)\ttotal: 5m 3s\tremaining: 5m 28s\n"
     ]
    },
    {
     "name": "stdout",
     "output_type": "stream",
     "text": [
      "2450:\tlearn: 0.8473706\ttest: 0.7908031\tbest: 0.7910274 (1905)\ttotal: 5m 9s\tremaining: 5m 22s\n"
     ]
    },
    {
     "name": "stdout",
     "output_type": "stream",
     "text": [
      "2500:\tlearn: 0.8484527\ttest: 0.7909663\tbest: 0.7910274 (1905)\ttotal: 5m 16s\tremaining: 5m 15s\n"
     ]
    },
    {
     "name": "stdout",
     "output_type": "stream",
     "text": [
      "2550:\tlearn: 0.8493850\ttest: 0.7907693\tbest: 0.7910435 (2545)\ttotal: 5m 22s\tremaining: 5m 9s\n"
     ]
    },
    {
     "name": "stdout",
     "output_type": "stream",
     "text": [
      "2600:\tlearn: 0.8503864\ttest: 0.7907788\tbest: 0.7915323 (2570)\ttotal: 5m 28s\tremaining: 5m 3s\n"
     ]
    },
    {
     "name": "stdout",
     "output_type": "stream",
     "text": [
      "2650:\tlearn: 0.8515910\ttest: 0.7908639\tbest: 0.7915323 (2570)\ttotal: 5m 34s\tremaining: 4m 56s\n"
     ]
    },
    {
     "name": "stdout",
     "output_type": "stream",
     "text": [
      "2700:\tlearn: 0.8524956\ttest: 0.7906847\tbest: 0.7915323 (2570)\ttotal: 5m 41s\tremaining: 4m 50s\n"
     ]
    },
    {
     "name": "stdout",
     "output_type": "stream",
     "text": [
      "2750:\tlearn: 0.8536964\ttest: 0.7906912\tbest: 0.7915323 (2570)\ttotal: 5m 47s\tremaining: 4m 43s\n"
     ]
    },
    {
     "name": "stdout",
     "output_type": "stream",
     "text": [
      "2800:\tlearn: 0.8545276\ttest: 0.7909926\tbest: 0.7915323 (2570)\ttotal: 5m 53s\tremaining: 4m 37s\n"
     ]
    },
    {
     "name": "stdout",
     "output_type": "stream",
     "text": [
      "2850:\tlearn: 0.8555941\ttest: 0.7908023\tbest: 0.7915323 (2570)\ttotal: 5m 59s\tremaining: 4m 31s\n"
     ]
    },
    {
     "name": "stdout",
     "output_type": "stream",
     "text": [
      "2900:\tlearn: 0.8566297\ttest: 0.7909869\tbest: 0.7915323 (2570)\ttotal: 6m 6s\tremaining: 4m 24s\n"
     ]
    },
    {
     "name": "stdout",
     "output_type": "stream",
     "text": [
      "2950:\tlearn: 0.8573336\ttest: 0.7907239\tbest: 0.7915323 (2570)\ttotal: 6m 12s\tremaining: 4m 18s\n"
     ]
    },
    {
     "name": "stdout",
     "output_type": "stream",
     "text": [
      "3000:\tlearn: 0.8584832\ttest: 0.7904532\tbest: 0.7915323 (2570)\ttotal: 6m 18s\tremaining: 4m 12s\n"
     ]
    },
    {
     "name": "stdout",
     "output_type": "stream",
     "text": [
      "3050:\tlearn: 0.8593831\ttest: 0.7908399\tbest: 0.7915323 (2570)\ttotal: 6m 24s\tremaining: 4m 5s\n"
     ]
    },
    {
     "name": "stdout",
     "output_type": "stream",
     "text": [
      "3100:\tlearn: 0.8604446\ttest: 0.7905571\tbest: 0.7915323 (2570)\ttotal: 6m 31s\tremaining: 3m 59s\n"
     ]
    },
    {
     "name": "stdout",
     "output_type": "stream",
     "text": [
      "3150:\tlearn: 0.8614365\ttest: 0.7907439\tbest: 0.7915323 (2570)\ttotal: 6m 37s\tremaining: 3m 53s\n"
     ]
    },
    {
     "name": "stdout",
     "output_type": "stream",
     "text": [
      "3200:\tlearn: 0.8625284\ttest: 0.7911957\tbest: 0.7915323 (2570)\ttotal: 6m 43s\tremaining: 3m 46s\n"
     ]
    },
    {
     "name": "stdout",
     "output_type": "stream",
     "text": [
      "3250:\tlearn: 0.8636006\ttest: 0.7909295\tbest: 0.7915323 (2570)\ttotal: 6m 49s\tremaining: 3m 40s\n"
     ]
    },
    {
     "name": "stdout",
     "output_type": "stream",
     "text": [
      "3300:\tlearn: 0.8644735\ttest: 0.7909295\tbest: 0.7915323 (2570)\ttotal: 6m 56s\tremaining: 3m 34s\n"
     ]
    },
    {
     "name": "stdout",
     "output_type": "stream",
     "text": [
      "3350:\tlearn: 0.8652320\ttest: 0.7912541\tbest: 0.7915323 (2570)\ttotal: 7m 2s\tremaining: 3m 27s\n"
     ]
    },
    {
     "name": "stdout",
     "output_type": "stream",
     "text": [
      "3400:\tlearn: 0.8661348\ttest: 0.7909227\tbest: 0.7915323 (2570)\ttotal: 7m 8s\tremaining: 3m 21s\n"
     ]
    },
    {
     "name": "stdout",
     "output_type": "stream",
     "text": [
      "3450:\tlearn: 0.8671266\ttest: 0.7911208\tbest: 0.7915323 (2570)\ttotal: 7m 14s\tremaining: 3m 15s\n"
     ]
    },
    {
     "name": "stdout",
     "output_type": "stream",
     "text": [
      "3500:\tlearn: 0.8683529\ttest: 0.7908457\tbest: 0.7915323 (2570)\ttotal: 7m 21s\tremaining: 3m 8s\n"
     ]
    },
    {
     "name": "stdout",
     "output_type": "stream",
     "text": [
      "3550:\tlearn: 0.8694061\ttest: 0.7910134\tbest: 0.7915323 (2570)\ttotal: 7m 27s\tremaining: 3m 2s\n"
     ]
    },
    {
     "name": "stdout",
     "output_type": "stream",
     "text": [
      "3600:\tlearn: 0.8703676\ttest: 0.7907041\tbest: 0.7915323 (2570)\ttotal: 7m 34s\tremaining: 2m 56s\n"
     ]
    },
    {
     "name": "stdout",
     "output_type": "stream",
     "text": [
      "3650:\tlearn: 0.8712940\ttest: 0.7909388\tbest: 0.7915323 (2570)\ttotal: 7m 40s\tremaining: 2m 50s\n"
     ]
    },
    {
     "name": "stdout",
     "output_type": "stream",
     "text": [
      "3700:\tlearn: 0.8724453\ttest: 0.7909407\tbest: 0.7915323 (2570)\ttotal: 7m 46s\tremaining: 2m 43s\n"
     ]
    },
    {
     "name": "stdout",
     "output_type": "stream",
     "text": [
      "3750:\tlearn: 0.8735826\ttest: 0.7907979\tbest: 0.7915323 (2570)\ttotal: 7m 53s\tremaining: 2m 37s\n"
     ]
    },
    {
     "name": "stdout",
     "output_type": "stream",
     "text": [
      "3800:\tlearn: 0.8745917\ttest: 0.7907353\tbest: 0.7915323 (2570)\ttotal: 7m 59s\tremaining: 2m 31s\n"
     ]
    },
    {
     "name": "stdout",
     "output_type": "stream",
     "text": [
      "3850:\tlearn: 0.8755968\ttest: 0.7912626\tbest: 0.7915323 (2570)\ttotal: 8m 5s\tremaining: 2m 24s\n"
     ]
    },
    {
     "name": "stdout",
     "output_type": "stream",
     "text": [
      "3900:\tlearn: 0.8764553\ttest: 0.7911217\tbest: 0.7915323 (2570)\ttotal: 8m 12s\tremaining: 2m 18s\n"
     ]
    },
    {
     "name": "stdout",
     "output_type": "stream",
     "text": [
      "3950:\tlearn: 0.8773404\ttest: 0.7908633\tbest: 0.7915323 (2570)\ttotal: 8m 18s\tremaining: 2m 12s\n"
     ]
    },
    {
     "name": "stdout",
     "output_type": "stream",
     "text": [
      "4000:\tlearn: 0.8782298\ttest: 0.7908923\tbest: 0.7915323 (2570)\ttotal: 8m 24s\tremaining: 2m 6s\n"
     ]
    },
    {
     "name": "stdout",
     "output_type": "stream",
     "text": [
      "4050:\tlearn: 0.8792734\ttest: 0.7913777\tbest: 0.7915323 (2570)\ttotal: 8m 31s\tremaining: 1m 59s\n"
     ]
    },
    {
     "name": "stdout",
     "output_type": "stream",
     "text": [
      "4100:\tlearn: 0.8800445\ttest: 0.7913797\tbest: 0.7918185 (4073)\ttotal: 8m 37s\tremaining: 1m 53s\n"
     ]
    },
    {
     "name": "stdout",
     "output_type": "stream",
     "text": [
      "4150:\tlearn: 0.8808017\ttest: 0.7914860\tbest: 0.7918185 (4073)\ttotal: 8m 44s\tremaining: 1m 47s\n"
     ]
    },
    {
     "name": "stdout",
     "output_type": "stream",
     "text": [
      "4200:\tlearn: 0.8817298\ttest: 0.7912728\tbest: 0.7918185 (4073)\ttotal: 8m 50s\tremaining: 1m 40s\n"
     ]
    },
    {
     "name": "stdout",
     "output_type": "stream",
     "text": [
      "4250:\tlearn: 0.8826750\ttest: 0.7915285\tbest: 0.7918230 (4231)\ttotal: 8m 56s\tremaining: 1m 34s\n"
     ]
    },
    {
     "name": "stdout",
     "output_type": "stream",
     "text": [
      "4300:\tlearn: 0.8836788\ttest: 0.7913620\tbest: 0.7918230 (4231)\ttotal: 9m 3s\tremaining: 1m 28s\n"
     ]
    },
    {
     "name": "stdout",
     "output_type": "stream",
     "text": [
      "4350:\tlearn: 0.8845390\ttest: 0.7913559\tbest: 0.7918230 (4231)\ttotal: 9m 9s\tremaining: 1m 22s\n"
     ]
    },
    {
     "name": "stdout",
     "output_type": "stream",
     "text": [
      "4400:\tlearn: 0.8852978\ttest: 0.7917415\tbest: 0.7918840 (4396)\ttotal: 9m 16s\tremaining: 1m 15s\n"
     ]
    },
    {
     "name": "stdout",
     "output_type": "stream",
     "text": [
      "4450:\tlearn: 0.8861834\ttest: 0.7912609\tbest: 0.7918840 (4396)\ttotal: 9m 22s\tremaining: 1m 9s\n"
     ]
    },
    {
     "name": "stdout",
     "output_type": "stream",
     "text": [
      "4500:\tlearn: 0.8869833\ttest: 0.7914611\tbest: 0.7918840 (4396)\ttotal: 9m 28s\tremaining: 1m 3s\n"
     ]
    },
    {
     "name": "stdout",
     "output_type": "stream",
     "text": [
      "4550:\tlearn: 0.8879655\ttest: 0.7916122\tbest: 0.7919437 (4523)\ttotal: 9m 35s\tremaining: 56.8s\n"
     ]
    },
    {
     "name": "stdout",
     "output_type": "stream",
     "text": [
      "4600:\tlearn: 0.8887698\ttest: 0.7914328\tbest: 0.7919437 (4523)\ttotal: 9m 41s\tremaining: 50.4s\n"
     ]
    },
    {
     "name": "stdout",
     "output_type": "stream",
     "text": [
      "4650:\tlearn: 0.8894461\ttest: 0.7914295\tbest: 0.7919437 (4523)\ttotal: 9m 47s\tremaining: 44.1s\n"
     ]
    },
    {
     "name": "stdout",
     "output_type": "stream",
     "text": [
      "4700:\tlearn: 0.8902271\ttest: 0.7913392\tbest: 0.7919437 (4523)\ttotal: 9m 54s\tremaining: 37.8s\n"
     ]
    },
    {
     "name": "stdout",
     "output_type": "stream",
     "text": [
      "4750:\tlearn: 0.8910033\ttest: 0.7918391\tbest: 0.7919437 (4523)\ttotal: 10m\tremaining: 31.5s\n"
     ]
    },
    {
     "name": "stdout",
     "output_type": "stream",
     "text": [
      "4800:\tlearn: 0.8917900\ttest: 0.7915779\tbest: 0.7919653 (4753)\ttotal: 10m 6s\tremaining: 25.1s\n"
     ]
    },
    {
     "name": "stdout",
     "output_type": "stream",
     "text": [
      "4850:\tlearn: 0.8925971\ttest: 0.7914103\tbest: 0.7919653 (4753)\ttotal: 10m 12s\tremaining: 18.8s\n"
     ]
    },
    {
     "name": "stdout",
     "output_type": "stream",
     "text": [
      "4900:\tlearn: 0.8933974\ttest: 0.7914131\tbest: 0.7919653 (4753)\ttotal: 10m 19s\tremaining: 12.5s\n"
     ]
    },
    {
     "name": "stdout",
     "output_type": "stream",
     "text": [
      "4950:\tlearn: 0.8941720\ttest: 0.7911184\tbest: 0.7919653 (4753)\ttotal: 10m 25s\tremaining: 6.19s\n"
     ]
    },
    {
     "name": "stdout",
     "output_type": "stream",
     "text": [
      "4999:\tlearn: 0.8949533\ttest: 0.7913950\tbest: 0.7919653 (4753)\ttotal: 10m 31s\tremaining: 0us\n",
      "\n",
      "bestTest = 0.7919652681\n",
      "bestIteration = 4753\n",
      "\n"
     ]
    },
    {
     "name": "stdout",
     "output_type": "stream",
     "text": [
      "######################################## training model 3/5 ########################################\n",
      "seed: 12\n"
     ]
    },
    {
     "name": "stdout",
     "output_type": "stream",
     "text": [
      "0:\tlearn: 0.6204389\ttest: 0.6228557\tbest: 0.6228557 (0)\ttotal: 447ms\tremaining: 37m 13s\n"
     ]
    },
    {
     "name": "stdout",
     "output_type": "stream",
     "text": [
      "50:\tlearn: 0.7413923\ttest: 0.7410870\tbest: 0.7410870 (50)\ttotal: 6.71s\tremaining: 10m 51s\n"
     ]
    },
    {
     "name": "stdout",
     "output_type": "stream",
     "text": [
      "100:\tlearn: 0.7571300\ttest: 0.7581182\tbest: 0.7581182 (100)\ttotal: 13s\tremaining: 10m 29s\n"
     ]
    },
    {
     "name": "stdout",
     "output_type": "stream",
     "text": [
      "150:\tlearn: 0.7637105\ttest: 0.7641981\tbest: 0.7641981 (150)\ttotal: 19.3s\tremaining: 10m 18s\n"
     ]
    },
    {
     "name": "stdout",
     "output_type": "stream",
     "text": [
      "200:\tlearn: 0.7673578\ttest: 0.7668937\tbest: 0.7668937 (200)\ttotal: 25.5s\tremaining: 10m 9s\n"
     ]
    },
    {
     "name": "stdout",
     "output_type": "stream",
     "text": [
      "250:\tlearn: 0.7709593\ttest: 0.7699123\tbest: 0.7699123 (250)\ttotal: 31.8s\tremaining: 10m 2s\n"
     ]
    },
    {
     "name": "stdout",
     "output_type": "stream",
     "text": [
      "300:\tlearn: 0.7754700\ttest: 0.7726299\tbest: 0.7726299 (300)\ttotal: 38.2s\tremaining: 9m 55s\n"
     ]
    },
    {
     "name": "stdout",
     "output_type": "stream",
     "text": [
      "350:\tlearn: 0.7817371\ttest: 0.7793449\tbest: 0.7793449 (350)\ttotal: 44.5s\tremaining: 9m 49s\n"
     ]
    },
    {
     "name": "stdout",
     "output_type": "stream",
     "text": [
      "400:\tlearn: 0.7859109\ttest: 0.7831303\tbest: 0.7833560 (396)\ttotal: 50.8s\tremaining: 9m 43s\n"
     ]
    },
    {
     "name": "stdout",
     "output_type": "stream",
     "text": [
      "450:\tlearn: 0.7887494\ttest: 0.7850396\tbest: 0.7852089 (448)\ttotal: 57.1s\tremaining: 9m 36s\n"
     ]
    },
    {
     "name": "stdout",
     "output_type": "stream",
     "text": [
      "500:\tlearn: 0.7918928\ttest: 0.7867589\tbest: 0.7869599 (499)\ttotal: 1m 3s\tremaining: 9m 30s\n"
     ]
    },
    {
     "name": "stdout",
     "output_type": "stream",
     "text": [
      "550:\tlearn: 0.7941869\ttest: 0.7888330\tbest: 0.7888330 (550)\ttotal: 1m 9s\tremaining: 9m 24s\n"
     ]
    },
    {
     "name": "stdout",
     "output_type": "stream",
     "text": [
      "600:\tlearn: 0.7965636\ttest: 0.7901497\tbest: 0.7904146 (598)\ttotal: 1m 16s\tremaining: 9m 18s\n"
     ]
    },
    {
     "name": "stdout",
     "output_type": "stream",
     "text": [
      "650:\tlearn: 0.7982938\ttest: 0.7915395\tbest: 0.7917314 (645)\ttotal: 1m 22s\tremaining: 9m 11s\n"
     ]
    },
    {
     "name": "stdout",
     "output_type": "stream",
     "text": [
      "700:\tlearn: 0.8001974\ttest: 0.7914819\tbest: 0.7918045 (681)\ttotal: 1m 28s\tremaining: 9m 5s\n"
     ]
    },
    {
     "name": "stdout",
     "output_type": "stream",
     "text": [
      "750:\tlearn: 0.8024451\ttest: 0.7920189\tbest: 0.7925236 (723)\ttotal: 1m 35s\tremaining: 8m 58s\n"
     ]
    },
    {
     "name": "stdout",
     "output_type": "stream",
     "text": [
      "800:\tlearn: 0.8039149\ttest: 0.7925504\tbest: 0.7925504 (800)\ttotal: 1m 41s\tremaining: 8m 52s\n"
     ]
    },
    {
     "name": "stdout",
     "output_type": "stream",
     "text": [
      "850:\tlearn: 0.8053601\ttest: 0.7930569\tbest: 0.7930707 (848)\ttotal: 1m 47s\tremaining: 8m 46s\n"
     ]
    },
    {
     "name": "stdout",
     "output_type": "stream",
     "text": [
      "900:\tlearn: 0.8069900\ttest: 0.7935891\tbest: 0.7936730 (898)\ttotal: 1m 54s\tremaining: 8m 39s\n"
     ]
    },
    {
     "name": "stdout",
     "output_type": "stream",
     "text": [
      "950:\tlearn: 0.8088020\ttest: 0.7936457\tbest: 0.7936775 (945)\ttotal: 2m\tremaining: 8m 32s\n"
     ]
    },
    {
     "name": "stdout",
     "output_type": "stream",
     "text": [
      "1000:\tlearn: 0.8101468\ttest: 0.7942354\tbest: 0.7942354 (1000)\ttotal: 2m 6s\tremaining: 8m 26s\n"
     ]
    },
    {
     "name": "stdout",
     "output_type": "stream",
     "text": [
      "1050:\tlearn: 0.8116698\ttest: 0.7941402\tbest: 0.7944626 (1042)\ttotal: 2m 13s\tremaining: 8m 20s\n"
     ]
    },
    {
     "name": "stdout",
     "output_type": "stream",
     "text": [
      "1100:\tlearn: 0.8134133\ttest: 0.7946872\tbest: 0.7948751 (1099)\ttotal: 2m 19s\tremaining: 8m 13s\n"
     ]
    },
    {
     "name": "stdout",
     "output_type": "stream",
     "text": [
      "1150:\tlearn: 0.8146977\ttest: 0.7947965\tbest: 0.7949984 (1145)\ttotal: 2m 25s\tremaining: 8m 7s\n"
     ]
    },
    {
     "name": "stdout",
     "output_type": "stream",
     "text": [
      "1200:\tlearn: 0.8161969\ttest: 0.7951095\tbest: 0.7951930 (1166)\ttotal: 2m 32s\tremaining: 8m 1s\n"
     ]
    },
    {
     "name": "stdout",
     "output_type": "stream",
     "text": [
      "1250:\tlearn: 0.8174857\ttest: 0.7952297\tbest: 0.7955539 (1220)\ttotal: 2m 38s\tremaining: 7m 55s\n"
     ]
    },
    {
     "name": "stdout",
     "output_type": "stream",
     "text": [
      "1300:\tlearn: 0.8189716\ttest: 0.7947542\tbest: 0.7955539 (1220)\ttotal: 2m 44s\tremaining: 7m 48s\n"
     ]
    },
    {
     "name": "stdout",
     "output_type": "stream",
     "text": [
      "1350:\tlearn: 0.8204042\ttest: 0.7952268\tbest: 0.7955539 (1220)\ttotal: 2m 51s\tremaining: 7m 42s\n"
     ]
    },
    {
     "name": "stdout",
     "output_type": "stream",
     "text": [
      "1400:\tlearn: 0.8216093\ttest: 0.7952034\tbest: 0.7956709 (1371)\ttotal: 2m 57s\tremaining: 7m 36s\n"
     ]
    },
    {
     "name": "stdout",
     "output_type": "stream",
     "text": [
      "1450:\tlearn: 0.8228636\ttest: 0.7957908\tbest: 0.7958744 (1448)\ttotal: 3m 3s\tremaining: 7m 29s\n"
     ]
    },
    {
     "name": "stdout",
     "output_type": "stream",
     "text": [
      "1500:\tlearn: 0.8239770\ttest: 0.7961366\tbest: 0.7963414 (1486)\ttotal: 3m 10s\tremaining: 7m 23s\n"
     ]
    },
    {
     "name": "stdout",
     "output_type": "stream",
     "text": [
      "1550:\tlearn: 0.8251798\ttest: 0.7960204\tbest: 0.7963414 (1486)\ttotal: 3m 16s\tremaining: 7m 17s\n"
     ]
    },
    {
     "name": "stdout",
     "output_type": "stream",
     "text": [
      "1600:\tlearn: 0.8261663\ttest: 0.7955867\tbest: 0.7963414 (1486)\ttotal: 3m 22s\tremaining: 7m 10s\n"
     ]
    },
    {
     "name": "stdout",
     "output_type": "stream",
     "text": [
      "1650:\tlearn: 0.8274999\ttest: 0.7962311\tbest: 0.7963414 (1486)\ttotal: 3m 29s\tremaining: 7m 4s\n"
     ]
    },
    {
     "name": "stdout",
     "output_type": "stream",
     "text": [
      "1700:\tlearn: 0.8289766\ttest: 0.7956161\tbest: 0.7963414 (1486)\ttotal: 3m 35s\tremaining: 6m 58s\n"
     ]
    },
    {
     "name": "stdout",
     "output_type": "stream",
     "text": [
      "1750:\tlearn: 0.8299721\ttest: 0.7960369\tbest: 0.7963414 (1486)\ttotal: 3m 41s\tremaining: 6m 51s\n"
     ]
    },
    {
     "name": "stdout",
     "output_type": "stream",
     "text": [
      "1800:\tlearn: 0.8311641\ttest: 0.7960634\tbest: 0.7963414 (1486)\ttotal: 3m 48s\tremaining: 6m 45s\n"
     ]
    },
    {
     "name": "stdout",
     "output_type": "stream",
     "text": [
      "1850:\tlearn: 0.8323325\ttest: 0.7962894\tbest: 0.7965547 (1817)\ttotal: 3m 54s\tremaining: 6m 38s\n"
     ]
    },
    {
     "name": "stdout",
     "output_type": "stream",
     "text": [
      "1900:\tlearn: 0.8331105\ttest: 0.7956397\tbest: 0.7965547 (1817)\ttotal: 4m\tremaining: 6m 32s\n"
     ]
    },
    {
     "name": "stdout",
     "output_type": "stream",
     "text": [
      "1950:\tlearn: 0.8342285\ttest: 0.7958559\tbest: 0.7965547 (1817)\ttotal: 4m 7s\tremaining: 6m 26s\n"
     ]
    },
    {
     "name": "stdout",
     "output_type": "stream",
     "text": [
      "2000:\tlearn: 0.8353188\ttest: 0.7955396\tbest: 0.7965547 (1817)\ttotal: 4m 13s\tremaining: 6m 19s\n"
     ]
    },
    {
     "name": "stdout",
     "output_type": "stream",
     "text": [
      "2050:\tlearn: 0.8363320\ttest: 0.7958449\tbest: 0.7965547 (1817)\ttotal: 4m 19s\tremaining: 6m 13s\n"
     ]
    },
    {
     "name": "stdout",
     "output_type": "stream",
     "text": [
      "2100:\tlearn: 0.8376760\ttest: 0.7956992\tbest: 0.7965547 (1817)\ttotal: 4m 25s\tremaining: 6m 6s\n"
     ]
    },
    {
     "name": "stdout",
     "output_type": "stream",
     "text": [
      "2150:\tlearn: 0.8388833\ttest: 0.7956613\tbest: 0.7965547 (1817)\ttotal: 4m 31s\tremaining: 6m\n"
     ]
    },
    {
     "name": "stdout",
     "output_type": "stream",
     "text": [
      "2200:\tlearn: 0.8397699\ttest: 0.7955178\tbest: 0.7965547 (1817)\ttotal: 4m 38s\tremaining: 5m 53s\n"
     ]
    },
    {
     "name": "stdout",
     "output_type": "stream",
     "text": [
      "2250:\tlearn: 0.8410742\ttest: 0.7953500\tbest: 0.7965547 (1817)\ttotal: 4m 44s\tremaining: 5m 47s\n"
     ]
    },
    {
     "name": "stdout",
     "output_type": "stream",
     "text": [
      "2300:\tlearn: 0.8421754\ttest: 0.7954477\tbest: 0.7965547 (1817)\ttotal: 4m 50s\tremaining: 5m 41s\n"
     ]
    },
    {
     "name": "stdout",
     "output_type": "stream",
     "text": [
      "2350:\tlearn: 0.8430459\ttest: 0.7956466\tbest: 0.7965547 (1817)\ttotal: 4m 56s\tremaining: 5m 34s\n"
     ]
    },
    {
     "name": "stdout",
     "output_type": "stream",
     "text": [
      "2400:\tlearn: 0.8441951\ttest: 0.7957389\tbest: 0.7965547 (1817)\ttotal: 5m 3s\tremaining: 5m 28s\n"
     ]
    },
    {
     "name": "stdout",
     "output_type": "stream",
     "text": [
      "2450:\tlearn: 0.8454801\ttest: 0.7962639\tbest: 0.7965547 (1817)\ttotal: 5m 9s\tremaining: 5m 21s\n"
     ]
    },
    {
     "name": "stdout",
     "output_type": "stream",
     "text": [
      "2500:\tlearn: 0.8465229\ttest: 0.7958136\tbest: 0.7965547 (1817)\ttotal: 5m 15s\tremaining: 5m 15s\n"
     ]
    },
    {
     "name": "stdout",
     "output_type": "stream",
     "text": [
      "2550:\tlearn: 0.8474425\ttest: 0.7954618\tbest: 0.7965547 (1817)\ttotal: 5m 21s\tremaining: 5m 9s\n"
     ]
    },
    {
     "name": "stdout",
     "output_type": "stream",
     "text": [
      "2600:\tlearn: 0.8485456\ttest: 0.7954250\tbest: 0.7965547 (1817)\ttotal: 5m 28s\tremaining: 5m 2s\n"
     ]
    },
    {
     "name": "stdout",
     "output_type": "stream",
     "text": [
      "2650:\tlearn: 0.8495871\ttest: 0.7957452\tbest: 0.7965547 (1817)\ttotal: 5m 34s\tremaining: 4m 56s\n"
     ]
    },
    {
     "name": "stdout",
     "output_type": "stream",
     "text": [
      "2700:\tlearn: 0.8505568\ttest: 0.7958022\tbest: 0.7965547 (1817)\ttotal: 5m 40s\tremaining: 4m 49s\n"
     ]
    },
    {
     "name": "stdout",
     "output_type": "stream",
     "text": [
      "2750:\tlearn: 0.8517338\ttest: 0.7959522\tbest: 0.7965547 (1817)\ttotal: 5m 46s\tremaining: 4m 43s\n"
     ]
    },
    {
     "name": "stdout",
     "output_type": "stream",
     "text": [
      "2800:\tlearn: 0.8527043\ttest: 0.7963165\tbest: 0.7965547 (1817)\ttotal: 5m 53s\tremaining: 4m 37s\n"
     ]
    },
    {
     "name": "stdout",
     "output_type": "stream",
     "text": [
      "2850:\tlearn: 0.8535509\ttest: 0.7964092\tbest: 0.7965757 (2834)\ttotal: 5m 59s\tremaining: 4m 30s\n"
     ]
    },
    {
     "name": "stdout",
     "output_type": "stream",
     "text": [
      "2900:\tlearn: 0.8546613\ttest: 0.7965827\tbest: 0.7968781 (2898)\ttotal: 6m 5s\tremaining: 4m 24s\n"
     ]
    },
    {
     "name": "stdout",
     "output_type": "stream",
     "text": [
      "2950:\tlearn: 0.8557435\ttest: 0.7963605\tbest: 0.7968781 (2898)\ttotal: 6m 11s\tremaining: 4m 18s\n"
     ]
    },
    {
     "name": "stdout",
     "output_type": "stream",
     "text": [
      "3000:\tlearn: 0.8568873\ttest: 0.7962144\tbest: 0.7968781 (2898)\ttotal: 6m 18s\tremaining: 4m 11s\n"
     ]
    },
    {
     "name": "stdout",
     "output_type": "stream",
     "text": [
      "3050:\tlearn: 0.8578575\ttest: 0.7967502\tbest: 0.7970170 (3033)\ttotal: 6m 24s\tremaining: 4m 5s\n"
     ]
    },
    {
     "name": "stdout",
     "output_type": "stream",
     "text": [
      "3100:\tlearn: 0.8586492\ttest: 0.7961315\tbest: 0.7970170 (3033)\ttotal: 6m 30s\tremaining: 3m 59s\n"
     ]
    },
    {
     "name": "stdout",
     "output_type": "stream",
     "text": [
      "3150:\tlearn: 0.8595159\ttest: 0.7962708\tbest: 0.7970170 (3033)\ttotal: 6m 36s\tremaining: 3m 52s\n"
     ]
    },
    {
     "name": "stdout",
     "output_type": "stream",
     "text": [
      "3200:\tlearn: 0.8606213\ttest: 0.7966882\tbest: 0.7970170 (3033)\ttotal: 6m 43s\tremaining: 3m 46s\n"
     ]
    },
    {
     "name": "stdout",
     "output_type": "stream",
     "text": [
      "3250:\tlearn: 0.8618745\ttest: 0.7964852\tbest: 0.7970170 (3033)\ttotal: 6m 49s\tremaining: 3m 40s\n"
     ]
    },
    {
     "name": "stdout",
     "output_type": "stream",
     "text": [
      "3300:\tlearn: 0.8629075\ttest: 0.7961663\tbest: 0.7970170 (3033)\ttotal: 6m 55s\tremaining: 3m 34s\n"
     ]
    },
    {
     "name": "stdout",
     "output_type": "stream",
     "text": [
      "3350:\tlearn: 0.8638932\ttest: 0.7960911\tbest: 0.7970170 (3033)\ttotal: 7m 2s\tremaining: 3m 27s\n"
     ]
    },
    {
     "name": "stdout",
     "output_type": "stream",
     "text": [
      "3400:\tlearn: 0.8646471\ttest: 0.7958566\tbest: 0.7970170 (3033)\ttotal: 7m 8s\tremaining: 3m 21s\n"
     ]
    },
    {
     "name": "stdout",
     "output_type": "stream",
     "text": [
      "3450:\tlearn: 0.8654514\ttest: 0.7961951\tbest: 0.7970170 (3033)\ttotal: 7m 14s\tremaining: 3m 15s\n"
     ]
    },
    {
     "name": "stdout",
     "output_type": "stream",
     "text": [
      "3500:\tlearn: 0.8663052\ttest: 0.7964255\tbest: 0.7970170 (3033)\ttotal: 7m 20s\tremaining: 3m 8s\n"
     ]
    },
    {
     "name": "stdout",
     "output_type": "stream",
     "text": [
      "3550:\tlearn: 0.8671336\ttest: 0.7966605\tbest: 0.7970170 (3033)\ttotal: 7m 27s\tremaining: 3m 2s\n"
     ]
    },
    {
     "name": "stdout",
     "output_type": "stream",
     "text": [
      "3600:\tlearn: 0.8680843\ttest: 0.7965398\tbest: 0.7970170 (3033)\ttotal: 7m 33s\tremaining: 2m 56s\n"
     ]
    },
    {
     "name": "stdout",
     "output_type": "stream",
     "text": [
      "3650:\tlearn: 0.8690746\ttest: 0.7967456\tbest: 0.7970170 (3033)\ttotal: 7m 39s\tremaining: 2m 49s\n"
     ]
    },
    {
     "name": "stdout",
     "output_type": "stream",
     "text": [
      "3700:\tlearn: 0.8701881\ttest: 0.7964069\tbest: 0.7970170 (3033)\ttotal: 7m 45s\tremaining: 2m 43s\n"
     ]
    },
    {
     "name": "stdout",
     "output_type": "stream",
     "text": [
      "3750:\tlearn: 0.8712172\ttest: 0.7965083\tbest: 0.7970170 (3033)\ttotal: 7m 52s\tremaining: 2m 37s\n"
     ]
    },
    {
     "name": "stdout",
     "output_type": "stream",
     "text": [
      "3800:\tlearn: 0.8721901\ttest: 0.7961717\tbest: 0.7970170 (3033)\ttotal: 7m 58s\tremaining: 2m 30s\n"
     ]
    },
    {
     "name": "stdout",
     "output_type": "stream",
     "text": [
      "3850:\tlearn: 0.8730027\ttest: 0.7969795\tbest: 0.7970170 (3033)\ttotal: 8m 4s\tremaining: 2m 24s\n"
     ]
    },
    {
     "name": "stdout",
     "output_type": "stream",
     "text": [
      "3900:\tlearn: 0.8742659\ttest: 0.7970623\tbest: 0.7971661 (3858)\ttotal: 8m 11s\tremaining: 2m 18s\n"
     ]
    },
    {
     "name": "stdout",
     "output_type": "stream",
     "text": [
      "3950:\tlearn: 0.8749030\ttest: 0.7969960\tbest: 0.7974839 (3931)\ttotal: 8m 17s\tremaining: 2m 12s\n"
     ]
    },
    {
     "name": "stdout",
     "output_type": "stream",
     "text": [
      "4000:\tlearn: 0.8760892\ttest: 0.7969331\tbest: 0.7974839 (3931)\ttotal: 8m 23s\tremaining: 2m 5s\n"
     ]
    },
    {
     "name": "stdout",
     "output_type": "stream",
     "text": [
      "4050:\tlearn: 0.8768919\ttest: 0.7971241\tbest: 0.7974839 (3931)\ttotal: 8m 29s\tremaining: 1m 59s\n"
     ]
    },
    {
     "name": "stdout",
     "output_type": "stream",
     "text": [
      "4100:\tlearn: 0.8777365\ttest: 0.7969678\tbest: 0.7974839 (3931)\ttotal: 8m 36s\tremaining: 1m 53s\n"
     ]
    },
    {
     "name": "stdout",
     "output_type": "stream",
     "text": [
      "4150:\tlearn: 0.8785718\ttest: 0.7968983\tbest: 0.7974839 (3931)\ttotal: 8m 42s\tremaining: 1m 46s\n"
     ]
    },
    {
     "name": "stdout",
     "output_type": "stream",
     "text": [
      "4200:\tlearn: 0.8793638\ttest: 0.7968114\tbest: 0.7974839 (3931)\ttotal: 8m 48s\tremaining: 1m 40s\n"
     ]
    },
    {
     "name": "stdout",
     "output_type": "stream",
     "text": [
      "4250:\tlearn: 0.8801429\ttest: 0.7964496\tbest: 0.7974839 (3931)\ttotal: 8m 55s\tremaining: 1m 34s\n"
     ]
    },
    {
     "name": "stdout",
     "output_type": "stream",
     "text": [
      "4300:\tlearn: 0.8812009\ttest: 0.7967027\tbest: 0.7974839 (3931)\ttotal: 9m 1s\tremaining: 1m 27s\n"
     ]
    },
    {
     "name": "stdout",
     "output_type": "stream",
     "text": [
      "4350:\tlearn: 0.8819857\ttest: 0.7963709\tbest: 0.7974839 (3931)\ttotal: 9m 7s\tremaining: 1m 21s\n"
     ]
    },
    {
     "name": "stdout",
     "output_type": "stream",
     "text": [
      "4400:\tlearn: 0.8828064\ttest: 0.7966216\tbest: 0.7974839 (3931)\ttotal: 9m 13s\tremaining: 1m 15s\n"
     ]
    },
    {
     "name": "stdout",
     "output_type": "stream",
     "text": [
      "4450:\tlearn: 0.8837041\ttest: 0.7964215\tbest: 0.7974839 (3931)\ttotal: 9m 20s\tremaining: 1m 9s\n"
     ]
    },
    {
     "name": "stdout",
     "output_type": "stream",
     "text": [
      "4500:\tlearn: 0.8844639\ttest: 0.7962353\tbest: 0.7974839 (3931)\ttotal: 9m 26s\tremaining: 1m 2s\n"
     ]
    },
    {
     "name": "stdout",
     "output_type": "stream",
     "text": [
      "4550:\tlearn: 0.8851078\ttest: 0.7959587\tbest: 0.7974839 (3931)\ttotal: 9m 32s\tremaining: 56.5s\n"
     ]
    },
    {
     "name": "stdout",
     "output_type": "stream",
     "text": [
      "4600:\tlearn: 0.8859372\ttest: 0.7960904\tbest: 0.7974839 (3931)\ttotal: 9m 38s\tremaining: 50.2s\n"
     ]
    },
    {
     "name": "stdout",
     "output_type": "stream",
     "text": [
      "4650:\tlearn: 0.8866331\ttest: 0.7963390\tbest: 0.7974839 (3931)\ttotal: 9m 45s\tremaining: 43.9s\n"
     ]
    },
    {
     "name": "stdout",
     "output_type": "stream",
     "text": [
      "4700:\tlearn: 0.8873820\ttest: 0.7964446\tbest: 0.7974839 (3931)\ttotal: 9m 51s\tremaining: 37.6s\n"
     ]
    },
    {
     "name": "stdout",
     "output_type": "stream",
     "text": [
      "4750:\tlearn: 0.8882785\ttest: 0.7968498\tbest: 0.7974839 (3931)\ttotal: 9m 57s\tremaining: 31.3s\n"
     ]
    },
    {
     "name": "stdout",
     "output_type": "stream",
     "text": [
      "4800:\tlearn: 0.8889631\ttest: 0.7965901\tbest: 0.7974839 (3931)\ttotal: 10m 3s\tremaining: 25s\n"
     ]
    },
    {
     "name": "stdout",
     "output_type": "stream",
     "text": [
      "4850:\tlearn: 0.8898504\ttest: 0.7967182\tbest: 0.7974839 (3931)\ttotal: 10m 10s\tremaining: 18.7s\n"
     ]
    },
    {
     "name": "stdout",
     "output_type": "stream",
     "text": [
      "4900:\tlearn: 0.8907486\ttest: 0.7971389\tbest: 0.7974839 (3931)\ttotal: 10m 16s\tremaining: 12.4s\n"
     ]
    },
    {
     "name": "stdout",
     "output_type": "stream",
     "text": [
      "4950:\tlearn: 0.8914888\ttest: 0.7968854\tbest: 0.7974839 (3931)\ttotal: 10m 22s\tremaining: 6.16s\n"
     ]
    },
    {
     "name": "stdout",
     "output_type": "stream",
     "text": [
      "4999:\tlearn: 0.8920760\ttest: 0.7966155\tbest: 0.7974839 (3931)\ttotal: 10m 28s\tremaining: 0us\n",
      "\n",
      "bestTest = 0.7974838709\n",
      "bestIteration = 3931\n",
      "\n"
     ]
    },
    {
     "name": "stdout",
     "output_type": "stream",
     "text": [
      "######################################## training model 4/5 ########################################\n",
      "seed: 13\n"
     ]
    },
    {
     "name": "stdout",
     "output_type": "stream",
     "text": [
      "0:\tlearn: 0.5519772\ttest: 0.5582814\tbest: 0.5582814 (0)\ttotal: 444ms\tremaining: 36m 59s\n"
     ]
    },
    {
     "name": "stdout",
     "output_type": "stream",
     "text": [
      "50:\tlearn: 0.7410830\ttest: 0.7455126\tbest: 0.7455126 (50)\ttotal: 6.59s\tremaining: 10m 39s\n"
     ]
    },
    {
     "name": "stdout",
     "output_type": "stream",
     "text": [
      "100:\tlearn: 0.7545295\ttest: 0.7595884\tbest: 0.7595884 (100)\ttotal: 12.8s\tremaining: 10m 22s\n"
     ]
    },
    {
     "name": "stdout",
     "output_type": "stream",
     "text": [
      "150:\tlearn: 0.7617674\ttest: 0.7664716\tbest: 0.7664716 (150)\ttotal: 19s\tremaining: 10m 10s\n"
     ]
    },
    {
     "name": "stdout",
     "output_type": "stream",
     "text": [
      "200:\tlearn: 0.7661581\ttest: 0.7707127\tbest: 0.7707127 (200)\ttotal: 25.3s\tremaining: 10m 3s\n"
     ]
    },
    {
     "name": "stdout",
     "output_type": "stream",
     "text": [
      "250:\tlearn: 0.7707829\ttest: 0.7757732\tbest: 0.7758944 (248)\ttotal: 31.5s\tremaining: 9m 56s\n"
     ]
    },
    {
     "name": "stdout",
     "output_type": "stream",
     "text": [
      "300:\tlearn: 0.7757717\ttest: 0.7812645\tbest: 0.7813796 (299)\ttotal: 37.8s\tremaining: 9m 50s\n"
     ]
    },
    {
     "name": "stdout",
     "output_type": "stream",
     "text": [
      "350:\tlearn: 0.7817067\ttest: 0.7860457\tbest: 0.7863228 (348)\ttotal: 44.1s\tremaining: 9m 44s\n"
     ]
    },
    {
     "name": "stdout",
     "output_type": "stream",
     "text": [
      "400:\tlearn: 0.7859084\ttest: 0.7887634\tbest: 0.7891146 (397)\ttotal: 50.4s\tremaining: 9m 37s\n"
     ]
    },
    {
     "name": "stdout",
     "output_type": "stream",
     "text": [
      "450:\tlearn: 0.7893048\ttest: 0.7904611\tbest: 0.7905688 (448)\ttotal: 56.7s\tremaining: 9m 31s\n"
     ]
    },
    {
     "name": "stdout",
     "output_type": "stream",
     "text": [
      "500:\tlearn: 0.7920933\ttest: 0.7917084\tbest: 0.7917084 (500)\ttotal: 1m 2s\tremaining: 9m 25s\n"
     ]
    },
    {
     "name": "stdout",
     "output_type": "stream",
     "text": [
      "550:\tlearn: 0.7942992\ttest: 0.7925242\tbest: 0.7925242 (550)\ttotal: 1m 9s\tremaining: 9m 19s\n"
     ]
    },
    {
     "name": "stdout",
     "output_type": "stream",
     "text": [
      "600:\tlearn: 0.7964699\ttest: 0.7933603\tbest: 0.7935981 (596)\ttotal: 1m 15s\tremaining: 9m 12s\n"
     ]
    },
    {
     "name": "stdout",
     "output_type": "stream",
     "text": [
      "650:\tlearn: 0.7985311\ttest: 0.7937923\tbest: 0.7938311 (649)\ttotal: 1m 21s\tremaining: 9m 6s\n"
     ]
    },
    {
     "name": "stdout",
     "output_type": "stream",
     "text": [
      "700:\tlearn: 0.8002507\ttest: 0.7944475\tbest: 0.7946582 (675)\ttotal: 1m 28s\tremaining: 8m 59s\n"
     ]
    },
    {
     "name": "stdout",
     "output_type": "stream",
     "text": [
      "750:\tlearn: 0.8017063\ttest: 0.7958652\tbest: 0.7960002 (744)\ttotal: 1m 34s\tremaining: 8m 53s\n"
     ]
    },
    {
     "name": "stdout",
     "output_type": "stream",
     "text": [
      "800:\tlearn: 0.8034662\ttest: 0.7956501\tbest: 0.7960395 (772)\ttotal: 1m 40s\tremaining: 8m 47s\n"
     ]
    },
    {
     "name": "stdout",
     "output_type": "stream",
     "text": [
      "850:\tlearn: 0.8050264\ttest: 0.7963571\tbest: 0.7965404 (846)\ttotal: 1m 46s\tremaining: 8m 40s\n"
     ]
    },
    {
     "name": "stdout",
     "output_type": "stream",
     "text": [
      "900:\tlearn: 0.8067382\ttest: 0.7966739\tbest: 0.7967362 (898)\ttotal: 1m 53s\tremaining: 8m 34s\n"
     ]
    },
    {
     "name": "stdout",
     "output_type": "stream",
     "text": [
      "950:\tlearn: 0.8081452\ttest: 0.7972729\tbest: 0.7972734 (949)\ttotal: 1m 59s\tremaining: 8m 28s\n"
     ]
    },
    {
     "name": "stdout",
     "output_type": "stream",
     "text": [
      "1000:\tlearn: 0.8093286\ttest: 0.7970081\tbest: 0.7973034 (976)\ttotal: 2m 5s\tremaining: 8m 22s\n"
     ]
    },
    {
     "name": "stdout",
     "output_type": "stream",
     "text": [
      "1050:\tlearn: 0.8107086\ttest: 0.7973889\tbest: 0.7973889 (1050)\ttotal: 2m 12s\tremaining: 8m 16s\n"
     ]
    },
    {
     "name": "stdout",
     "output_type": "stream",
     "text": [
      "1100:\tlearn: 0.8118568\ttest: 0.7977401\tbest: 0.7977932 (1053)\ttotal: 2m 18s\tremaining: 8m 10s\n"
     ]
    },
    {
     "name": "stdout",
     "output_type": "stream",
     "text": [
      "1150:\tlearn: 0.8133165\ttest: 0.7976091\tbest: 0.7979192 (1110)\ttotal: 2m 24s\tremaining: 8m 4s\n"
     ]
    },
    {
     "name": "stdout",
     "output_type": "stream",
     "text": [
      "1200:\tlearn: 0.8144192\ttest: 0.7973781\tbest: 0.7979830 (1168)\ttotal: 2m 31s\tremaining: 7m 58s\n"
     ]
    },
    {
     "name": "stdout",
     "output_type": "stream",
     "text": [
      "1250:\tlearn: 0.8156196\ttest: 0.7975263\tbest: 0.7979830 (1168)\ttotal: 2m 37s\tremaining: 7m 51s\n"
     ]
    },
    {
     "name": "stdout",
     "output_type": "stream",
     "text": [
      "1300:\tlearn: 0.8167119\ttest: 0.7977679\tbest: 0.7979830 (1168)\ttotal: 2m 43s\tremaining: 7m 45s\n"
     ]
    },
    {
     "name": "stdout",
     "output_type": "stream",
     "text": [
      "1350:\tlearn: 0.8177345\ttest: 0.7978792\tbest: 0.7979936 (1337)\ttotal: 2m 50s\tremaining: 7m 39s\n"
     ]
    },
    {
     "name": "stdout",
     "output_type": "stream",
     "text": [
      "1400:\tlearn: 0.8192271\ttest: 0.7979255\tbest: 0.7981685 (1375)\ttotal: 2m 56s\tremaining: 7m 33s\n"
     ]
    },
    {
     "name": "stdout",
     "output_type": "stream",
     "text": [
      "1450:\tlearn: 0.8203791\ttest: 0.7981620\tbest: 0.7984312 (1447)\ttotal: 3m 2s\tremaining: 7m 27s\n"
     ]
    },
    {
     "name": "stdout",
     "output_type": "stream",
     "text": [
      "1500:\tlearn: 0.8217528\ttest: 0.7982964\tbest: 0.7987191 (1464)\ttotal: 3m 9s\tremaining: 7m 21s\n"
     ]
    },
    {
     "name": "stdout",
     "output_type": "stream",
     "text": [
      "1550:\tlearn: 0.8227294\ttest: 0.7983542\tbest: 0.7987191 (1464)\ttotal: 3m 15s\tremaining: 7m 15s\n"
     ]
    },
    {
     "name": "stdout",
     "output_type": "stream",
     "text": [
      "1600:\tlearn: 0.8239948\ttest: 0.7986159\tbest: 0.7987993 (1585)\ttotal: 3m 21s\tremaining: 7m 8s\n"
     ]
    },
    {
     "name": "stdout",
     "output_type": "stream",
     "text": [
      "1650:\tlearn: 0.8251133\ttest: 0.7987118\tbest: 0.7990614 (1643)\ttotal: 3m 28s\tremaining: 7m 2s\n"
     ]
    },
    {
     "name": "stdout",
     "output_type": "stream",
     "text": [
      "1700:\tlearn: 0.8262858\ttest: 0.7988551\tbest: 0.7990967 (1660)\ttotal: 3m 34s\tremaining: 6m 56s\n"
     ]
    },
    {
     "name": "stdout",
     "output_type": "stream",
     "text": [
      "1750:\tlearn: 0.8274548\ttest: 0.7988914\tbest: 0.7991387 (1743)\ttotal: 3m 40s\tremaining: 6m 49s\n"
     ]
    },
    {
     "name": "stdout",
     "output_type": "stream",
     "text": [
      "1800:\tlearn: 0.8288404\ttest: 0.7990321\tbest: 0.7991387 (1743)\ttotal: 3m 47s\tremaining: 6m 43s\n"
     ]
    },
    {
     "name": "stdout",
     "output_type": "stream",
     "text": [
      "1850:\tlearn: 0.8300519\ttest: 0.7989938\tbest: 0.7991807 (1847)\ttotal: 3m 53s\tremaining: 6m 37s\n"
     ]
    },
    {
     "name": "stdout",
     "output_type": "stream",
     "text": [
      "1900:\tlearn: 0.8311830\ttest: 0.7996817\tbest: 0.7996820 (1898)\ttotal: 3m 59s\tremaining: 6m 30s\n"
     ]
    },
    {
     "name": "stdout",
     "output_type": "stream",
     "text": [
      "1950:\tlearn: 0.8325654\ttest: 0.7996791\tbest: 0.7999241 (1925)\ttotal: 4m 6s\tremaining: 6m 24s\n"
     ]
    },
    {
     "name": "stdout",
     "output_type": "stream",
     "text": [
      "2000:\tlearn: 0.8338205\ttest: 0.7994242\tbest: 0.7999241 (1925)\ttotal: 4m 12s\tremaining: 6m 18s\n"
     ]
    },
    {
     "name": "stdout",
     "output_type": "stream",
     "text": [
      "2050:\tlearn: 0.8346766\ttest: 0.7993120\tbest: 0.7999241 (1925)\ttotal: 4m 18s\tremaining: 6m 12s\n"
     ]
    },
    {
     "name": "stdout",
     "output_type": "stream",
     "text": [
      "2100:\tlearn: 0.8359237\ttest: 0.7997946\tbest: 0.8000652 (2095)\ttotal: 4m 25s\tremaining: 6m 5s\n"
     ]
    },
    {
     "name": "stdout",
     "output_type": "stream",
     "text": [
      "2150:\tlearn: 0.8367404\ttest: 0.7994691\tbest: 0.8000652 (2095)\ttotal: 4m 31s\tremaining: 5m 59s\n"
     ]
    },
    {
     "name": "stdout",
     "output_type": "stream",
     "text": [
      "2200:\tlearn: 0.8378544\ttest: 0.7995762\tbest: 0.8000652 (2095)\ttotal: 4m 37s\tremaining: 5m 53s\n"
     ]
    },
    {
     "name": "stdout",
     "output_type": "stream",
     "text": [
      "2250:\tlearn: 0.8392578\ttest: 0.7999246\tbest: 0.8000652 (2095)\ttotal: 4m 43s\tremaining: 5m 46s\n"
     ]
    },
    {
     "name": "stdout",
     "output_type": "stream",
     "text": [
      "2300:\tlearn: 0.8402542\ttest: 0.7991590\tbest: 0.8000652 (2095)\ttotal: 4m 50s\tremaining: 5m 40s\n"
     ]
    },
    {
     "name": "stdout",
     "output_type": "stream",
     "text": [
      "2350:\tlearn: 0.8413480\ttest: 0.7989715\tbest: 0.8000652 (2095)\ttotal: 4m 56s\tremaining: 5m 34s\n"
     ]
    },
    {
     "name": "stdout",
     "output_type": "stream",
     "text": [
      "2400:\tlearn: 0.8425989\ttest: 0.7997044\tbest: 0.8000652 (2095)\ttotal: 5m 2s\tremaining: 5m 27s\n"
     ]
    },
    {
     "name": "stdout",
     "output_type": "stream",
     "text": [
      "2450:\tlearn: 0.8435419\ttest: 0.7995550\tbest: 0.8000799 (2425)\ttotal: 5m 9s\tremaining: 5m 21s\n"
     ]
    },
    {
     "name": "stdout",
     "output_type": "stream",
     "text": [
      "2500:\tlearn: 0.8446830\ttest: 0.7994407\tbest: 0.8000799 (2425)\ttotal: 5m 15s\tremaining: 5m 15s\n"
     ]
    },
    {
     "name": "stdout",
     "output_type": "stream",
     "text": [
      "2550:\tlearn: 0.8460547\ttest: 0.7993895\tbest: 0.8000799 (2425)\ttotal: 5m 21s\tremaining: 5m 8s\n"
     ]
    },
    {
     "name": "stdout",
     "output_type": "stream",
     "text": [
      "2600:\tlearn: 0.8471184\ttest: 0.7994835\tbest: 0.8000799 (2425)\ttotal: 5m 28s\tremaining: 5m 2s\n"
     ]
    },
    {
     "name": "stdout",
     "output_type": "stream",
     "text": [
      "2650:\tlearn: 0.8479834\ttest: 0.7991191\tbest: 0.8000799 (2425)\ttotal: 5m 34s\tremaining: 4m 56s\n"
     ]
    },
    {
     "name": "stdout",
     "output_type": "stream",
     "text": [
      "2700:\tlearn: 0.8489017\ttest: 0.7994033\tbest: 0.8000799 (2425)\ttotal: 5m 40s\tremaining: 4m 50s\n"
     ]
    },
    {
     "name": "stdout",
     "output_type": "stream",
     "text": [
      "2750:\tlearn: 0.8501254\ttest: 0.7996465\tbest: 0.8000799 (2425)\ttotal: 5m 47s\tremaining: 4m 43s\n"
     ]
    },
    {
     "name": "stdout",
     "output_type": "stream",
     "text": [
      "2800:\tlearn: 0.8509064\ttest: 0.7996179\tbest: 0.8000799 (2425)\ttotal: 5m 53s\tremaining: 4m 37s\n"
     ]
    },
    {
     "name": "stdout",
     "output_type": "stream",
     "text": [
      "2850:\tlearn: 0.8519701\ttest: 0.7998144\tbest: 0.8000799 (2425)\ttotal: 5m 59s\tremaining: 4m 31s\n"
     ]
    },
    {
     "name": "stdout",
     "output_type": "stream",
     "text": [
      "2900:\tlearn: 0.8528256\ttest: 0.7998885\tbest: 0.8001554 (2895)\ttotal: 6m 6s\tremaining: 4m 25s\n"
     ]
    },
    {
     "name": "stdout",
     "output_type": "stream",
     "text": [
      "2950:\tlearn: 0.8541858\ttest: 0.8000392\tbest: 0.8002480 (2904)\ttotal: 6m 12s\tremaining: 4m 18s\n"
     ]
    },
    {
     "name": "stdout",
     "output_type": "stream",
     "text": [
      "3000:\tlearn: 0.8549601\ttest: 0.7997853\tbest: 0.8002480 (2904)\ttotal: 6m 19s\tremaining: 4m 12s\n"
     ]
    },
    {
     "name": "stdout",
     "output_type": "stream",
     "text": [
      "3050:\tlearn: 0.8559547\ttest: 0.7994491\tbest: 0.8002480 (2904)\ttotal: 6m 25s\tremaining: 4m 6s\n"
     ]
    },
    {
     "name": "stdout",
     "output_type": "stream",
     "text": [
      "3100:\tlearn: 0.8568731\ttest: 0.7992137\tbest: 0.8002480 (2904)\ttotal: 6m 31s\tremaining: 3m 59s\n"
     ]
    },
    {
     "name": "stdout",
     "output_type": "stream",
     "text": [
      "3150:\tlearn: 0.8578494\ttest: 0.7997811\tbest: 0.8002480 (2904)\ttotal: 6m 38s\tremaining: 3m 53s\n"
     ]
    },
    {
     "name": "stdout",
     "output_type": "stream",
     "text": [
      "3200:\tlearn: 0.8589472\ttest: 0.7998697\tbest: 0.8002480 (2904)\ttotal: 6m 44s\tremaining: 3m 47s\n"
     ]
    },
    {
     "name": "stdout",
     "output_type": "stream",
     "text": [
      "3250:\tlearn: 0.8599318\ttest: 0.7995532\tbest: 0.8002480 (2904)\ttotal: 6m 50s\tremaining: 3m 40s\n"
     ]
    },
    {
     "name": "stdout",
     "output_type": "stream",
     "text": [
      "3300:\tlearn: 0.8609465\ttest: 0.7997089\tbest: 0.8002480 (2904)\ttotal: 6m 56s\tremaining: 3m 34s\n"
     ]
    },
    {
     "name": "stdout",
     "output_type": "stream",
     "text": [
      "3350:\tlearn: 0.8620628\ttest: 0.8001675\tbest: 0.8002480 (2904)\ttotal: 7m 3s\tremaining: 3m 28s\n"
     ]
    },
    {
     "name": "stdout",
     "output_type": "stream",
     "text": [
      "3400:\tlearn: 0.8627857\ttest: 0.8000509\tbest: 0.8002521 (3352)\ttotal: 7m 9s\tremaining: 3m 21s\n"
     ]
    },
    {
     "name": "stdout",
     "output_type": "stream",
     "text": [
      "3450:\tlearn: 0.8636423\ttest: 0.8003195\tbest: 0.8003195 (3450)\ttotal: 7m 15s\tremaining: 3m 15s\n"
     ]
    },
    {
     "name": "stdout",
     "output_type": "stream",
     "text": [
      "3500:\tlearn: 0.8645313\ttest: 0.8003599\tbest: 0.8005900 (3480)\ttotal: 7m 21s\tremaining: 3m 9s\n"
     ]
    },
    {
     "name": "stdout",
     "output_type": "stream",
     "text": [
      "3550:\tlearn: 0.8654255\ttest: 0.8003632\tbest: 0.8005900 (3480)\ttotal: 7m 28s\tremaining: 3m 2s\n"
     ]
    },
    {
     "name": "stdout",
     "output_type": "stream",
     "text": [
      "3600:\tlearn: 0.8663254\ttest: 0.8000280\tbest: 0.8005900 (3480)\ttotal: 7m 34s\tremaining: 2m 56s\n"
     ]
    },
    {
     "name": "stdout",
     "output_type": "stream",
     "text": [
      "3650:\tlearn: 0.8673524\ttest: 0.7997930\tbest: 0.8005900 (3480)\ttotal: 7m 40s\tremaining: 2m 50s\n"
     ]
    },
    {
     "name": "stdout",
     "output_type": "stream",
     "text": [
      "3700:\tlearn: 0.8683668\ttest: 0.7998568\tbest: 0.8005900 (3480)\ttotal: 7m 47s\tremaining: 2m 43s\n"
     ]
    },
    {
     "name": "stdout",
     "output_type": "stream",
     "text": [
      "3750:\tlearn: 0.8691611\ttest: 0.7998542\tbest: 0.8005900 (3480)\ttotal: 7m 53s\tremaining: 2m 37s\n"
     ]
    },
    {
     "name": "stdout",
     "output_type": "stream",
     "text": [
      "3800:\tlearn: 0.8702872\ttest: 0.8002023\tbest: 0.8005900 (3480)\ttotal: 7m 59s\tremaining: 2m 31s\n"
     ]
    },
    {
     "name": "stdout",
     "output_type": "stream",
     "text": [
      "3850:\tlearn: 0.8714953\ttest: 0.8009300\tbest: 0.8011831 (3849)\ttotal: 8m 5s\tremaining: 2m 24s\n"
     ]
    },
    {
     "name": "stdout",
     "output_type": "stream",
     "text": [
      "3900:\tlearn: 0.8726590\ttest: 0.8008099\tbest: 0.8011831 (3849)\ttotal: 8m 12s\tremaining: 2m 18s\n"
     ]
    },
    {
     "name": "stdout",
     "output_type": "stream",
     "text": [
      "3950:\tlearn: 0.8734922\ttest: 0.8010670\tbest: 0.8012541 (3929)\ttotal: 8m 18s\tremaining: 2m 12s\n"
     ]
    },
    {
     "name": "stdout",
     "output_type": "stream",
     "text": [
      "4000:\tlearn: 0.8746018\ttest: 0.8009840\tbest: 0.8012791 (3969)\ttotal: 8m 24s\tremaining: 2m 6s\n"
     ]
    },
    {
     "name": "stdout",
     "output_type": "stream",
     "text": [
      "4050:\tlearn: 0.8752754\ttest: 0.8009569\tbest: 0.8012791 (3969)\ttotal: 8m 30s\tremaining: 1m 59s\n"
     ]
    },
    {
     "name": "stdout",
     "output_type": "stream",
     "text": [
      "4100:\tlearn: 0.8760760\ttest: 0.8008063\tbest: 0.8013140 (4076)\ttotal: 8m 37s\tremaining: 1m 53s\n"
     ]
    },
    {
     "name": "stdout",
     "output_type": "stream",
     "text": [
      "4150:\tlearn: 0.8768055\ttest: 0.8008874\tbest: 0.8013140 (4076)\ttotal: 8m 43s\tremaining: 1m 47s\n"
     ]
    },
    {
     "name": "stdout",
     "output_type": "stream",
     "text": [
      "4200:\tlearn: 0.8777267\ttest: 0.8008023\tbest: 0.8013140 (4076)\ttotal: 8m 49s\tremaining: 1m 40s\n"
     ]
    },
    {
     "name": "stdout",
     "output_type": "stream",
     "text": [
      "4250:\tlearn: 0.8786872\ttest: 0.8010340\tbest: 0.8013140 (4076)\ttotal: 8m 55s\tremaining: 1m 34s\n"
     ]
    },
    {
     "name": "stdout",
     "output_type": "stream",
     "text": [
      "4300:\tlearn: 0.8794686\ttest: 0.8009326\tbest: 0.8013140 (4076)\ttotal: 9m 2s\tremaining: 1m 28s\n"
     ]
    },
    {
     "name": "stdout",
     "output_type": "stream",
     "text": [
      "4350:\tlearn: 0.8802179\ttest: 0.8012540\tbest: 0.8013140 (4076)\ttotal: 9m 8s\tremaining: 1m 21s\n"
     ]
    },
    {
     "name": "stdout",
     "output_type": "stream",
     "text": [
      "4400:\tlearn: 0.8810597\ttest: 0.8011829\tbest: 0.8013140 (4076)\ttotal: 9m 14s\tremaining: 1m 15s\n"
     ]
    },
    {
     "name": "stdout",
     "output_type": "stream",
     "text": [
      "4450:\tlearn: 0.8818511\ttest: 0.8013537\tbest: 0.8014382 (4448)\ttotal: 9m 20s\tremaining: 1m 9s\n"
     ]
    },
    {
     "name": "stdout",
     "output_type": "stream",
     "text": [
      "4500:\tlearn: 0.8826626\ttest: 0.8012097\tbest: 0.8014382 (4448)\ttotal: 9m 27s\tremaining: 1m 2s\n"
     ]
    },
    {
     "name": "stdout",
     "output_type": "stream",
     "text": [
      "4550:\tlearn: 0.8837437\ttest: 0.8011879\tbest: 0.8014382 (4448)\ttotal: 9m 33s\tremaining: 56.6s\n"
     ]
    },
    {
     "name": "stdout",
     "output_type": "stream",
     "text": [
      "4600:\tlearn: 0.8845731\ttest: 0.8012730\tbest: 0.8016318 (4593)\ttotal: 9m 39s\tremaining: 50.3s\n"
     ]
    },
    {
     "name": "stdout",
     "output_type": "stream",
     "text": [
      "4650:\tlearn: 0.8854505\ttest: 0.8007459\tbest: 0.8016318 (4593)\ttotal: 9m 45s\tremaining: 44s\n"
     ]
    },
    {
     "name": "stdout",
     "output_type": "stream",
     "text": [
      "4700:\tlearn: 0.8864132\ttest: 0.8010269\tbest: 0.8016318 (4593)\ttotal: 9m 51s\tremaining: 37.6s\n"
     ]
    },
    {
     "name": "stdout",
     "output_type": "stream",
     "text": [
      "4750:\tlearn: 0.8872572\ttest: 0.8014740\tbest: 0.8016318 (4593)\ttotal: 9m 58s\tremaining: 31.3s\n"
     ]
    },
    {
     "name": "stdout",
     "output_type": "stream",
     "text": [
      "4800:\tlearn: 0.8881045\ttest: 0.8014242\tbest: 0.8016318 (4593)\ttotal: 10m 4s\tremaining: 25.1s\n"
     ]
    },
    {
     "name": "stdout",
     "output_type": "stream",
     "text": [
      "4850:\tlearn: 0.8890133\ttest: 0.8012835\tbest: 0.8017035 (4813)\ttotal: 10m 10s\tremaining: 18.8s\n"
     ]
    },
    {
     "name": "stdout",
     "output_type": "stream",
     "text": [
      "4900:\tlearn: 0.8896554\ttest: 0.8014751\tbest: 0.8019436 (4892)\ttotal: 10m 16s\tremaining: 12.5s\n"
     ]
    },
    {
     "name": "stdout",
     "output_type": "stream",
     "text": [
      "4950:\tlearn: 0.8905893\ttest: 0.8016979\tbest: 0.8019734 (4946)\ttotal: 10m 23s\tremaining: 6.17s\n"
     ]
    },
    {
     "name": "stdout",
     "output_type": "stream",
     "text": [
      "4999:\tlearn: 0.8914496\ttest: 0.8017557\tbest: 0.8020711 (4992)\ttotal: 10m 29s\tremaining: 0us\n",
      "\n",
      "bestTest = 0.8020710698\n",
      "bestIteration = 4992\n",
      "\n"
     ]
    },
    {
     "name": "stdout",
     "output_type": "stream",
     "text": [
      "######################################## training model 5/5 ########################################\n",
      "seed: 14\n"
     ]
    },
    {
     "name": "stdout",
     "output_type": "stream",
     "text": [
      "0:\tlearn: 0.4832438\ttest: 0.4781912\tbest: 0.4781912 (0)\ttotal: 460ms\tremaining: 38m 21s\n"
     ]
    },
    {
     "name": "stdout",
     "output_type": "stream",
     "text": [
      "50:\tlearn: 0.7414970\ttest: 0.7421335\tbest: 0.7421335 (50)\ttotal: 6.65s\tremaining: 10m 45s\n"
     ]
    },
    {
     "name": "stdout",
     "output_type": "stream",
     "text": [
      "100:\tlearn: 0.7538641\ttest: 0.7540170\tbest: 0.7540170 (100)\ttotal: 13s\tremaining: 10m 28s\n"
     ]
    },
    {
     "name": "stdout",
     "output_type": "stream",
     "text": [
      "150:\tlearn: 0.7611168\ttest: 0.7613700\tbest: 0.7613700 (150)\ttotal: 19.3s\tremaining: 10m 19s\n"
     ]
    },
    {
     "name": "stdout",
     "output_type": "stream",
     "text": [
      "200:\tlearn: 0.7655260\ttest: 0.7661169\tbest: 0.7662876 (196)\ttotal: 25.6s\tremaining: 10m 11s\n"
     ]
    },
    {
     "name": "stdout",
     "output_type": "stream",
     "text": [
      "250:\tlearn: 0.7696706\ttest: 0.7696901\tbest: 0.7698718 (245)\ttotal: 32s\tremaining: 10m 6s\n"
     ]
    },
    {
     "name": "stdout",
     "output_type": "stream",
     "text": [
      "300:\tlearn: 0.7759119\ttest: 0.7755016\tbest: 0.7755016 (300)\ttotal: 38.4s\tremaining: 9m 59s\n"
     ]
    },
    {
     "name": "stdout",
     "output_type": "stream",
     "text": [
      "350:\tlearn: 0.7829344\ttest: 0.7807009\tbest: 0.7809679 (349)\ttotal: 44.7s\tremaining: 9m 52s\n"
     ]
    },
    {
     "name": "stdout",
     "output_type": "stream",
     "text": [
      "400:\tlearn: 0.7865345\ttest: 0.7827203\tbest: 0.7828514 (397)\ttotal: 51.1s\tremaining: 9m 46s\n"
     ]
    },
    {
     "name": "stdout",
     "output_type": "stream",
     "text": [
      "450:\tlearn: 0.7902145\ttest: 0.7844785\tbest: 0.7844785 (450)\ttotal: 57.5s\tremaining: 9m 39s\n"
     ]
    },
    {
     "name": "stdout",
     "output_type": "stream",
     "text": [
      "500:\tlearn: 0.7929746\ttest: 0.7851591\tbest: 0.7856792 (488)\ttotal: 1m 3s\tremaining: 9m 33s\n"
     ]
    },
    {
     "name": "stdout",
     "output_type": "stream",
     "text": [
      "550:\tlearn: 0.7956915\ttest: 0.7858415\tbest: 0.7860654 (545)\ttotal: 1m 10s\tremaining: 9m 26s\n"
     ]
    },
    {
     "name": "stdout",
     "output_type": "stream",
     "text": [
      "600:\tlearn: 0.7978367\ttest: 0.7865282\tbest: 0.7868898 (592)\ttotal: 1m 16s\tremaining: 9m 19s\n"
     ]
    },
    {
     "name": "stdout",
     "output_type": "stream",
     "text": [
      "650:\tlearn: 0.7997075\ttest: 0.7868471\tbest: 0.7868898 (592)\ttotal: 1m 22s\tremaining: 9m 13s\n"
     ]
    },
    {
     "name": "stdout",
     "output_type": "stream",
     "text": [
      "700:\tlearn: 0.8022530\ttest: 0.7874359\tbest: 0.7877147 (696)\ttotal: 1m 29s\tremaining: 9m 6s\n"
     ]
    },
    {
     "name": "stdout",
     "output_type": "stream",
     "text": [
      "750:\tlearn: 0.8039513\ttest: 0.7877900\tbest: 0.7879845 (708)\ttotal: 1m 35s\tremaining: 9m\n"
     ]
    },
    {
     "name": "stdout",
     "output_type": "stream",
     "text": [
      "800:\tlearn: 0.8058197\ttest: 0.7887350\tbest: 0.7887754 (797)\ttotal: 1m 41s\tremaining: 8m 54s\n"
     ]
    },
    {
     "name": "stdout",
     "output_type": "stream",
     "text": [
      "850:\tlearn: 0.8074577\ttest: 0.7890271\tbest: 0.7895036 (831)\ttotal: 1m 48s\tremaining: 8m 47s\n"
     ]
    },
    {
     "name": "stdout",
     "output_type": "stream",
     "text": [
      "900:\tlearn: 0.8092177\ttest: 0.7893228\tbest: 0.7895036 (831)\ttotal: 1m 54s\tremaining: 8m 41s\n"
     ]
    },
    {
     "name": "stdout",
     "output_type": "stream",
     "text": [
      "950:\tlearn: 0.8105164\ttest: 0.7895095\tbest: 0.7899742 (929)\ttotal: 2m\tremaining: 8m 34s\n"
     ]
    },
    {
     "name": "stdout",
     "output_type": "stream",
     "text": [
      "1000:\tlearn: 0.8121449\ttest: 0.7896527\tbest: 0.7900928 (960)\ttotal: 2m 7s\tremaining: 8m 28s\n"
     ]
    },
    {
     "name": "stdout",
     "output_type": "stream",
     "text": [
      "1050:\tlearn: 0.8138536\ttest: 0.7895522\tbest: 0.7900928 (960)\ttotal: 2m 13s\tremaining: 8m 22s\n"
     ]
    },
    {
     "name": "stdout",
     "output_type": "stream",
     "text": [
      "1100:\tlearn: 0.8150548\ttest: 0.7897163\tbest: 0.7900928 (960)\ttotal: 2m 20s\tremaining: 8m 15s\n"
     ]
    },
    {
     "name": "stdout",
     "output_type": "stream",
     "text": [
      "1150:\tlearn: 0.8164829\ttest: 0.7900863\tbest: 0.7903417 (1136)\ttotal: 2m 26s\tremaining: 8m 9s\n"
     ]
    },
    {
     "name": "stdout",
     "output_type": "stream",
     "text": [
      "1200:\tlearn: 0.8179007\ttest: 0.7902577\tbest: 0.7905237 (1169)\ttotal: 2m 32s\tremaining: 8m 3s\n"
     ]
    },
    {
     "name": "stdout",
     "output_type": "stream",
     "text": [
      "1250:\tlearn: 0.8191089\ttest: 0.7900862\tbest: 0.7905237 (1169)\ttotal: 2m 39s\tremaining: 7m 56s\n"
     ]
    },
    {
     "name": "stdout",
     "output_type": "stream",
     "text": [
      "1300:\tlearn: 0.8206965\ttest: 0.7901267\tbest: 0.7905436 (1265)\ttotal: 2m 45s\tremaining: 7m 50s\n"
     ]
    },
    {
     "name": "stdout",
     "output_type": "stream",
     "text": [
      "1350:\tlearn: 0.8217679\ttest: 0.7901593\tbest: 0.7905882 (1327)\ttotal: 2m 51s\tremaining: 7m 43s\n"
     ]
    },
    {
     "name": "stdout",
     "output_type": "stream",
     "text": [
      "1400:\tlearn: 0.8233438\ttest: 0.7908218\tbest: 0.7910536 (1393)\ttotal: 2m 58s\tremaining: 7m 37s\n"
     ]
    },
    {
     "name": "stdout",
     "output_type": "stream",
     "text": [
      "1450:\tlearn: 0.8246047\ttest: 0.7910236\tbest: 0.7912072 (1444)\ttotal: 3m 4s\tremaining: 7m 30s\n"
     ]
    },
    {
     "name": "stdout",
     "output_type": "stream",
     "text": [
      "1500:\tlearn: 0.8259690\ttest: 0.7903899\tbest: 0.7912072 (1444)\ttotal: 3m 10s\tremaining: 7m 24s\n"
     ]
    },
    {
     "name": "stdout",
     "output_type": "stream",
     "text": [
      "1550:\tlearn: 0.8269309\ttest: 0.7904452\tbest: 0.7912072 (1444)\ttotal: 3m 16s\tremaining: 7m 17s\n"
     ]
    },
    {
     "name": "stdout",
     "output_type": "stream",
     "text": [
      "1600:\tlearn: 0.8282939\ttest: 0.7904729\tbest: 0.7912072 (1444)\ttotal: 3m 23s\tremaining: 7m 11s\n"
     ]
    },
    {
     "name": "stdout",
     "output_type": "stream",
     "text": [
      "1650:\tlearn: 0.8294706\ttest: 0.7907940\tbest: 0.7912072 (1444)\ttotal: 3m 29s\tremaining: 7m 5s\n"
     ]
    },
    {
     "name": "stdout",
     "output_type": "stream",
     "text": [
      "1700:\tlearn: 0.8304626\ttest: 0.7912005\tbest: 0.7913670 (1694)\ttotal: 3m 35s\tremaining: 6m 58s\n"
     ]
    },
    {
     "name": "stdout",
     "output_type": "stream",
     "text": [
      "1750:\tlearn: 0.8318597\ttest: 0.7913973\tbest: 0.7915493 (1726)\ttotal: 3m 42s\tremaining: 6m 52s\n"
     ]
    },
    {
     "name": "stdout",
     "output_type": "stream",
     "text": [
      "1800:\tlearn: 0.8331139\ttest: 0.7914306\tbest: 0.7917795 (1777)\ttotal: 3m 48s\tremaining: 6m 45s\n"
     ]
    },
    {
     "name": "stdout",
     "output_type": "stream",
     "text": [
      "1850:\tlearn: 0.8343125\ttest: 0.7919165\tbest: 0.7920631 (1844)\ttotal: 3m 54s\tremaining: 6m 39s\n"
     ]
    },
    {
     "name": "stdout",
     "output_type": "stream",
     "text": [
      "1900:\tlearn: 0.8353473\ttest: 0.7915114\tbest: 0.7920981 (1885)\ttotal: 4m 1s\tremaining: 6m 33s\n"
     ]
    },
    {
     "name": "stdout",
     "output_type": "stream",
     "text": [
      "1950:\tlearn: 0.8363061\ttest: 0.7925830\tbest: 0.7925830 (1950)\ttotal: 4m 7s\tremaining: 6m 26s\n"
     ]
    },
    {
     "name": "stdout",
     "output_type": "stream",
     "text": [
      "2000:\tlearn: 0.8375745\ttest: 0.7917514\tbest: 0.7925830 (1950)\ttotal: 4m 13s\tremaining: 6m 20s\n"
     ]
    },
    {
     "name": "stdout",
     "output_type": "stream",
     "text": [
      "2050:\tlearn: 0.8386906\ttest: 0.7917520\tbest: 0.7925830 (1950)\ttotal: 4m 20s\tremaining: 6m 13s\n"
     ]
    },
    {
     "name": "stdout",
     "output_type": "stream",
     "text": [
      "2100:\tlearn: 0.8396717\ttest: 0.7918506\tbest: 0.7925830 (1950)\ttotal: 4m 26s\tremaining: 6m 7s\n"
     ]
    },
    {
     "name": "stdout",
     "output_type": "stream",
     "text": [
      "2150:\tlearn: 0.8408731\ttest: 0.7917288\tbest: 0.7925830 (1950)\ttotal: 4m 32s\tremaining: 6m 1s\n"
     ]
    },
    {
     "name": "stdout",
     "output_type": "stream",
     "text": [
      "2200:\tlearn: 0.8418664\ttest: 0.7916064\tbest: 0.7925830 (1950)\ttotal: 4m 39s\tremaining: 5m 54s\n"
     ]
    },
    {
     "name": "stdout",
     "output_type": "stream",
     "text": [
      "2250:\tlearn: 0.8432972\ttest: 0.7912794\tbest: 0.7925830 (1950)\ttotal: 4m 45s\tremaining: 5m 48s\n"
     ]
    },
    {
     "name": "stdout",
     "output_type": "stream",
     "text": [
      "2300:\tlearn: 0.8442910\ttest: 0.7913869\tbest: 0.7925830 (1950)\ttotal: 4m 51s\tremaining: 5m 42s\n"
     ]
    },
    {
     "name": "stdout",
     "output_type": "stream",
     "text": [
      "2350:\tlearn: 0.8452599\ttest: 0.7913982\tbest: 0.7925830 (1950)\ttotal: 4m 57s\tremaining: 5m 35s\n"
     ]
    },
    {
     "name": "stdout",
     "output_type": "stream",
     "text": [
      "2400:\tlearn: 0.8461465\ttest: 0.7919861\tbest: 0.7925830 (1950)\ttotal: 5m 4s\tremaining: 5m 29s\n"
     ]
    },
    {
     "name": "stdout",
     "output_type": "stream",
     "text": [
      "2450:\tlearn: 0.8471699\ttest: 0.7914443\tbest: 0.7925830 (1950)\ttotal: 5m 10s\tremaining: 5m 23s\n"
     ]
    },
    {
     "name": "stdout",
     "output_type": "stream",
     "text": [
      "2500:\tlearn: 0.8485135\ttest: 0.7911877\tbest: 0.7925830 (1950)\ttotal: 5m 16s\tremaining: 5m 16s\n"
     ]
    },
    {
     "name": "stdout",
     "output_type": "stream",
     "text": [
      "2550:\tlearn: 0.8494486\ttest: 0.7914030\tbest: 0.7925830 (1950)\ttotal: 5m 23s\tremaining: 5m 10s\n"
     ]
    },
    {
     "name": "stdout",
     "output_type": "stream",
     "text": [
      "2600:\tlearn: 0.8502992\ttest: 0.7911591\tbest: 0.7925830 (1950)\ttotal: 5m 29s\tremaining: 5m 3s\n"
     ]
    },
    {
     "name": "stdout",
     "output_type": "stream",
     "text": [
      "2650:\tlearn: 0.8514705\ttest: 0.7912237\tbest: 0.7925830 (1950)\ttotal: 5m 35s\tremaining: 4m 57s\n"
     ]
    },
    {
     "name": "stdout",
     "output_type": "stream",
     "text": [
      "2700:\tlearn: 0.8523865\ttest: 0.7910400\tbest: 0.7925830 (1950)\ttotal: 5m 42s\tremaining: 4m 51s\n"
     ]
    },
    {
     "name": "stdout",
     "output_type": "stream",
     "text": [
      "2750:\tlearn: 0.8536031\ttest: 0.7910403\tbest: 0.7925830 (1950)\ttotal: 5m 48s\tremaining: 4m 44s\n"
     ]
    },
    {
     "name": "stdout",
     "output_type": "stream",
     "text": [
      "2800:\tlearn: 0.8547044\ttest: 0.7912088\tbest: 0.7925830 (1950)\ttotal: 5m 54s\tremaining: 4m 38s\n"
     ]
    },
    {
     "name": "stdout",
     "output_type": "stream",
     "text": [
      "2850:\tlearn: 0.8559121\ttest: 0.7909826\tbest: 0.7925830 (1950)\ttotal: 6m 1s\tremaining: 4m 32s\n"
     ]
    },
    {
     "name": "stdout",
     "output_type": "stream",
     "text": [
      "2900:\tlearn: 0.8568139\ttest: 0.7913230\tbest: 0.7925830 (1950)\ttotal: 6m 7s\tremaining: 4m 25s\n"
     ]
    },
    {
     "name": "stdout",
     "output_type": "stream",
     "text": [
      "2950:\tlearn: 0.8576735\ttest: 0.7913489\tbest: 0.7925830 (1950)\ttotal: 6m 13s\tremaining: 4m 19s\n"
     ]
    },
    {
     "name": "stdout",
     "output_type": "stream",
     "text": [
      "3000:\tlearn: 0.8588401\ttest: 0.7910862\tbest: 0.7925830 (1950)\ttotal: 6m 19s\tremaining: 4m 12s\n"
     ]
    },
    {
     "name": "stdout",
     "output_type": "stream",
     "text": [
      "3050:\tlearn: 0.8598307\ttest: 0.7912483\tbest: 0.7925830 (1950)\ttotal: 6m 26s\tremaining: 4m 6s\n"
     ]
    },
    {
     "name": "stdout",
     "output_type": "stream",
     "text": [
      "3100:\tlearn: 0.8605732\ttest: 0.7911301\tbest: 0.7925830 (1950)\ttotal: 6m 32s\tremaining: 4m\n"
     ]
    },
    {
     "name": "stdout",
     "output_type": "stream",
     "text": [
      "3150:\tlearn: 0.8616013\ttest: 0.7912197\tbest: 0.7925830 (1950)\ttotal: 6m 38s\tremaining: 3m 53s\n"
     ]
    },
    {
     "name": "stdout",
     "output_type": "stream",
     "text": [
      "3200:\tlearn: 0.8623792\ttest: 0.7911915\tbest: 0.7925830 (1950)\ttotal: 6m 44s\tremaining: 3m 47s\n"
     ]
    },
    {
     "name": "stdout",
     "output_type": "stream",
     "text": [
      "3250:\tlearn: 0.8633423\ttest: 0.7916157\tbest: 0.7925830 (1950)\ttotal: 6m 51s\tremaining: 3m 41s\n"
     ]
    },
    {
     "name": "stdout",
     "output_type": "stream",
     "text": [
      "3300:\tlearn: 0.8644894\ttest: 0.7914711\tbest: 0.7925830 (1950)\ttotal: 6m 57s\tremaining: 3m 34s\n"
     ]
    },
    {
     "name": "stdout",
     "output_type": "stream",
     "text": [
      "3350:\tlearn: 0.8654514\ttest: 0.7914853\tbest: 0.7925830 (1950)\ttotal: 7m 3s\tremaining: 3m 28s\n"
     ]
    },
    {
     "name": "stdout",
     "output_type": "stream",
     "text": [
      "3400:\tlearn: 0.8662004\ttest: 0.7912436\tbest: 0.7925830 (1950)\ttotal: 7m 10s\tremaining: 3m 22s\n"
     ]
    },
    {
     "name": "stdout",
     "output_type": "stream",
     "text": [
      "3450:\tlearn: 0.8673934\ttest: 0.7917918\tbest: 0.7925830 (1950)\ttotal: 7m 16s\tremaining: 3m 15s\n"
     ]
    },
    {
     "name": "stdout",
     "output_type": "stream",
     "text": [
      "3500:\tlearn: 0.8682714\ttest: 0.7918654\tbest: 0.7925830 (1950)\ttotal: 7m 22s\tremaining: 3m 9s\n"
     ]
    },
    {
     "name": "stdout",
     "output_type": "stream",
     "text": [
      "3550:\tlearn: 0.8693216\ttest: 0.7912914\tbest: 0.7925830 (1950)\ttotal: 7m 28s\tremaining: 3m 3s\n"
     ]
    },
    {
     "name": "stdout",
     "output_type": "stream",
     "text": [
      "3600:\tlearn: 0.8702743\ttest: 0.7916062\tbest: 0.7925830 (1950)\ttotal: 7m 35s\tremaining: 2m 56s\n"
     ]
    },
    {
     "name": "stdout",
     "output_type": "stream",
     "text": [
      "3650:\tlearn: 0.8711572\ttest: 0.7917957\tbest: 0.7925830 (1950)\ttotal: 7m 41s\tremaining: 2m 50s\n"
     ]
    },
    {
     "name": "stdout",
     "output_type": "stream",
     "text": [
      "3700:\tlearn: 0.8721824\ttest: 0.7915760\tbest: 0.7925830 (1950)\ttotal: 7m 47s\tremaining: 2m 44s\n"
     ]
    },
    {
     "name": "stdout",
     "output_type": "stream",
     "text": [
      "3750:\tlearn: 0.8729666\ttest: 0.7921307\tbest: 0.7925830 (1950)\ttotal: 7m 54s\tremaining: 2m 37s\n"
     ]
    },
    {
     "name": "stdout",
     "output_type": "stream",
     "text": [
      "3800:\tlearn: 0.8740953\ttest: 0.7920860\tbest: 0.7925830 (1950)\ttotal: 8m\tremaining: 2m 31s\n"
     ]
    },
    {
     "name": "stdout",
     "output_type": "stream",
     "text": [
      "3850:\tlearn: 0.8750603\ttest: 0.7918297\tbest: 0.7925830 (1950)\ttotal: 8m 6s\tremaining: 2m 25s\n"
     ]
    },
    {
     "name": "stdout",
     "output_type": "stream",
     "text": [
      "3900:\tlearn: 0.8757806\ttest: 0.7915787\tbest: 0.7925830 (1950)\ttotal: 8m 12s\tremaining: 2m 18s\n"
     ]
    },
    {
     "name": "stdout",
     "output_type": "stream",
     "text": [
      "3950:\tlearn: 0.8767846\ttest: 0.7918721\tbest: 0.7925830 (1950)\ttotal: 8m 19s\tremaining: 2m 12s\n"
     ]
    },
    {
     "name": "stdout",
     "output_type": "stream",
     "text": [
      "4000:\tlearn: 0.8774834\ttest: 0.7917922\tbest: 0.7925830 (1950)\ttotal: 8m 25s\tremaining: 2m 6s\n"
     ]
    },
    {
     "name": "stdout",
     "output_type": "stream",
     "text": [
      "4050:\tlearn: 0.8784613\ttest: 0.7919721\tbest: 0.7925830 (1950)\ttotal: 8m 31s\tremaining: 1m 59s\n"
     ]
    },
    {
     "name": "stdout",
     "output_type": "stream",
     "text": [
      "4100:\tlearn: 0.8792428\ttest: 0.7919962\tbest: 0.7925830 (1950)\ttotal: 8m 37s\tremaining: 1m 53s\n"
     ]
    },
    {
     "name": "stdout",
     "output_type": "stream",
     "text": [
      "4150:\tlearn: 0.8801536\ttest: 0.7914727\tbest: 0.7925830 (1950)\ttotal: 8m 44s\tremaining: 1m 47s\n"
     ]
    },
    {
     "name": "stdout",
     "output_type": "stream",
     "text": [
      "4200:\tlearn: 0.8809285\ttest: 0.7911583\tbest: 0.7925830 (1950)\ttotal: 8m 50s\tremaining: 1m 40s\n"
     ]
    },
    {
     "name": "stdout",
     "output_type": "stream",
     "text": [
      "4250:\tlearn: 0.8820234\ttest: 0.7915151\tbest: 0.7925830 (1950)\ttotal: 8m 56s\tremaining: 1m 34s\n"
     ]
    },
    {
     "name": "stdout",
     "output_type": "stream",
     "text": [
      "4300:\tlearn: 0.8827057\ttest: 0.7911558\tbest: 0.7925830 (1950)\ttotal: 9m 2s\tremaining: 1m 28s\n"
     ]
    },
    {
     "name": "stdout",
     "output_type": "stream",
     "text": [
      "4350:\tlearn: 0.8836057\ttest: 0.7912525\tbest: 0.7925830 (1950)\ttotal: 9m 9s\tremaining: 1m 21s\n"
     ]
    },
    {
     "name": "stdout",
     "output_type": "stream",
     "text": [
      "4400:\tlearn: 0.8844245\ttest: 0.7915050\tbest: 0.7925830 (1950)\ttotal: 9m 15s\tremaining: 1m 15s\n"
     ]
    },
    {
     "name": "stdout",
     "output_type": "stream",
     "text": [
      "4450:\tlearn: 0.8852862\ttest: 0.7919308\tbest: 0.7925830 (1950)\ttotal: 9m 21s\tremaining: 1m 9s\n"
     ]
    },
    {
     "name": "stdout",
     "output_type": "stream",
     "text": [
      "4500:\tlearn: 0.8861057\ttest: 0.7915637\tbest: 0.7925830 (1950)\ttotal: 9m 27s\tremaining: 1m 2s\n"
     ]
    },
    {
     "name": "stdout",
     "output_type": "stream",
     "text": [
      "4550:\tlearn: 0.8870871\ttest: 0.7914413\tbest: 0.7925830 (1950)\ttotal: 9m 34s\tremaining: 56.6s\n"
     ]
    },
    {
     "name": "stdout",
     "output_type": "stream",
     "text": [
      "4600:\tlearn: 0.8877994\ttest: 0.7915186\tbest: 0.7925830 (1950)\ttotal: 9m 40s\tremaining: 50.3s\n"
     ]
    },
    {
     "name": "stdout",
     "output_type": "stream",
     "text": [
      "4650:\tlearn: 0.8887763\ttest: 0.7912863\tbest: 0.7925830 (1950)\ttotal: 9m 46s\tremaining: 44s\n"
     ]
    },
    {
     "name": "stdout",
     "output_type": "stream",
     "text": [
      "4700:\tlearn: 0.8893413\ttest: 0.7913546\tbest: 0.7925830 (1950)\ttotal: 9m 52s\tremaining: 37.7s\n"
     ]
    },
    {
     "name": "stdout",
     "output_type": "stream",
     "text": [
      "4750:\tlearn: 0.8900497\ttest: 0.7911163\tbest: 0.7925830 (1950)\ttotal: 9m 59s\tremaining: 31.4s\n"
     ]
    },
    {
     "name": "stdout",
     "output_type": "stream",
     "text": [
      "4800:\tlearn: 0.8909945\ttest: 0.7911249\tbest: 0.7925830 (1950)\ttotal: 10m 5s\tremaining: 25.1s\n"
     ]
    },
    {
     "name": "stdout",
     "output_type": "stream",
     "text": [
      "4850:\tlearn: 0.8916799\ttest: 0.7916443\tbest: 0.7925830 (1950)\ttotal: 10m 11s\tremaining: 18.8s\n"
     ]
    },
    {
     "name": "stdout",
     "output_type": "stream",
     "text": [
      "4900:\tlearn: 0.8924014\ttest: 0.7913039\tbest: 0.7925830 (1950)\ttotal: 10m 18s\tremaining: 12.5s\n"
     ]
    },
    {
     "name": "stdout",
     "output_type": "stream",
     "text": [
      "4950:\tlearn: 0.8930797\ttest: 0.7910315\tbest: 0.7925830 (1950)\ttotal: 10m 24s\tremaining: 6.18s\n"
     ]
    },
    {
     "name": "stdout",
     "output_type": "stream",
     "text": [
      "4999:\tlearn: 0.8940093\ttest: 0.7909364\tbest: 0.7925830 (1950)\ttotal: 10m 30s\tremaining: 0us\n",
      "\n",
      "bestTest = 0.7925829595\n",
      "bestIteration = 1950\n",
      "\n"
     ]
    },
    {
     "name": "stdout",
     "output_type": "stream",
     "text": [
      "Training time: 52.89814083576202 min.\n",
      "OOF recall_at4: 0.6653650654727842\n",
      "OOF normalized_gini: 0.9242691292428021\n",
      "OOF competition metric: 0.7948170973577932\n"
     ]
    },
    {
     "name": "stdout",
     "output_type": "stream",
     "text": [
      "############################### repeated cross-validation step: 4/5 ################################\n"
     ]
    },
    {
     "name": "stdout",
     "output_type": "stream",
     "text": [
      "######################################## training model 1/5 ########################################\n",
      "seed: 15\n"
     ]
    },
    {
     "name": "stdout",
     "output_type": "stream",
     "text": [
      "0:\tlearn: 0.5738050\ttest: 0.5744743\tbest: 0.5744743 (0)\ttotal: 479ms\tremaining: 39m 56s\n"
     ]
    },
    {
     "name": "stdout",
     "output_type": "stream",
     "text": [
      "50:\tlearn: 0.7433270\ttest: 0.7409728\tbest: 0.7409728 (50)\ttotal: 6.71s\tremaining: 10m 51s\n"
     ]
    },
    {
     "name": "stdout",
     "output_type": "stream",
     "text": [
      "100:\tlearn: 0.7557855\ttest: 0.7526668\tbest: 0.7527101 (99)\ttotal: 13.1s\tremaining: 10m 33s\n"
     ]
    },
    {
     "name": "stdout",
     "output_type": "stream",
     "text": [
      "150:\tlearn: 0.7624603\ttest: 0.7599870\tbest: 0.7599870 (150)\ttotal: 19.4s\tremaining: 10m 22s\n"
     ]
    },
    {
     "name": "stdout",
     "output_type": "stream",
     "text": [
      "200:\tlearn: 0.7671007\ttest: 0.7643749\tbest: 0.7643749 (200)\ttotal: 25.7s\tremaining: 10m 14s\n"
     ]
    },
    {
     "name": "stdout",
     "output_type": "stream",
     "text": [
      "250:\tlearn: 0.7710352\ttest: 0.7680244\tbest: 0.7680486 (249)\ttotal: 32.1s\tremaining: 10m 6s\n"
     ]
    },
    {
     "name": "stdout",
     "output_type": "stream",
     "text": [
      "300:\tlearn: 0.7763464\ttest: 0.7725439\tbest: 0.7729474 (299)\ttotal: 38.4s\tremaining: 9m 59s\n"
     ]
    },
    {
     "name": "stdout",
     "output_type": "stream",
     "text": [
      "350:\tlearn: 0.7829385\ttest: 0.7768663\tbest: 0.7768670 (349)\ttotal: 44.7s\tremaining: 9m 52s\n"
     ]
    },
    {
     "name": "stdout",
     "output_type": "stream",
     "text": [
      "400:\tlearn: 0.7876767\ttest: 0.7803326\tbest: 0.7803859 (399)\ttotal: 51.1s\tremaining: 9m 45s\n"
     ]
    },
    {
     "name": "stdout",
     "output_type": "stream",
     "text": [
      "450:\tlearn: 0.7909940\ttest: 0.7821283\tbest: 0.7821283 (450)\ttotal: 57.4s\tremaining: 9m 39s\n"
     ]
    },
    {
     "name": "stdout",
     "output_type": "stream",
     "text": [
      "500:\tlearn: 0.7938065\ttest: 0.7831057\tbest: 0.7831472 (497)\ttotal: 1m 3s\tremaining: 9m 32s\n"
     ]
    },
    {
     "name": "stdout",
     "output_type": "stream",
     "text": [
      "550:\tlearn: 0.7960094\ttest: 0.7839487\tbest: 0.7842197 (530)\ttotal: 1m 10s\tremaining: 9m 26s\n"
     ]
    },
    {
     "name": "stdout",
     "output_type": "stream",
     "text": [
      "600:\tlearn: 0.7984757\ttest: 0.7842254\tbest: 0.7844311 (569)\ttotal: 1m 16s\tremaining: 9m 19s\n"
     ]
    },
    {
     "name": "stdout",
     "output_type": "stream",
     "text": [
      "650:\tlearn: 0.8006316\ttest: 0.7843347\tbest: 0.7846404 (627)\ttotal: 1m 22s\tremaining: 9m 13s\n"
     ]
    },
    {
     "name": "stdout",
     "output_type": "stream",
     "text": [
      "700:\tlearn: 0.8024858\ttest: 0.7850616\tbest: 0.7851402 (696)\ttotal: 1m 29s\tremaining: 9m 7s\n"
     ]
    },
    {
     "name": "stdout",
     "output_type": "stream",
     "text": [
      "750:\tlearn: 0.8041899\ttest: 0.7857615\tbest: 0.7858424 (714)\ttotal: 1m 35s\tremaining: 9m\n"
     ]
    },
    {
     "name": "stdout",
     "output_type": "stream",
     "text": [
      "800:\tlearn: 0.8060224\ttest: 0.7865390\tbest: 0.7868852 (790)\ttotal: 1m 41s\tremaining: 8m 54s\n"
     ]
    },
    {
     "name": "stdout",
     "output_type": "stream",
     "text": [
      "850:\tlearn: 0.8076696\ttest: 0.7870859\tbest: 0.7871655 (848)\ttotal: 1m 48s\tremaining: 8m 47s\n"
     ]
    },
    {
     "name": "stdout",
     "output_type": "stream",
     "text": [
      "900:\tlearn: 0.8089224\ttest: 0.7869095\tbest: 0.7873703 (856)\ttotal: 1m 54s\tremaining: 8m 41s\n"
     ]
    },
    {
     "name": "stdout",
     "output_type": "stream",
     "text": [
      "950:\tlearn: 0.8101421\ttest: 0.7881610\tbest: 0.7882162 (942)\ttotal: 2m\tremaining: 8m 35s\n"
     ]
    },
    {
     "name": "stdout",
     "output_type": "stream",
     "text": [
      "1000:\tlearn: 0.8115104\ttest: 0.7882228\tbest: 0.7885615 (981)\ttotal: 2m 7s\tremaining: 8m 28s\n"
     ]
    },
    {
     "name": "stdout",
     "output_type": "stream",
     "text": [
      "1050:\tlearn: 0.8132020\ttest: 0.7887187\tbest: 0.7887187 (1050)\ttotal: 2m 13s\tremaining: 8m 22s\n"
     ]
    },
    {
     "name": "stdout",
     "output_type": "stream",
     "text": [
      "1100:\tlearn: 0.8145768\ttest: 0.7879414\tbest: 0.7887187 (1050)\ttotal: 2m 19s\tremaining: 8m 15s\n"
     ]
    },
    {
     "name": "stdout",
     "output_type": "stream",
     "text": [
      "1150:\tlearn: 0.8159820\ttest: 0.7885001\tbest: 0.7887187 (1050)\ttotal: 2m 26s\tremaining: 8m 9s\n"
     ]
    },
    {
     "name": "stdout",
     "output_type": "stream",
     "text": [
      "1200:\tlearn: 0.8172969\ttest: 0.7889262\tbest: 0.7892888 (1184)\ttotal: 2m 32s\tremaining: 8m 2s\n"
     ]
    },
    {
     "name": "stdout",
     "output_type": "stream",
     "text": [
      "1250:\tlearn: 0.8188596\ttest: 0.7891859\tbest: 0.7897583 (1229)\ttotal: 2m 38s\tremaining: 7m 56s\n"
     ]
    },
    {
     "name": "stdout",
     "output_type": "stream",
     "text": [
      "1300:\tlearn: 0.8199543\ttest: 0.7897118\tbest: 0.7898148 (1297)\ttotal: 2m 45s\tremaining: 7m 49s\n"
     ]
    },
    {
     "name": "stdout",
     "output_type": "stream",
     "text": [
      "1350:\tlearn: 0.8211723\ttest: 0.7893970\tbest: 0.7898148 (1297)\ttotal: 2m 51s\tremaining: 7m 43s\n"
     ]
    },
    {
     "name": "stdout",
     "output_type": "stream",
     "text": [
      "1400:\tlearn: 0.8223979\ttest: 0.7895981\tbest: 0.7898148 (1297)\ttotal: 2m 57s\tremaining: 7m 36s\n"
     ]
    },
    {
     "name": "stdout",
     "output_type": "stream",
     "text": [
      "1450:\tlearn: 0.8235818\ttest: 0.7892189\tbest: 0.7898148 (1297)\ttotal: 3m 4s\tremaining: 7m 30s\n"
     ]
    },
    {
     "name": "stdout",
     "output_type": "stream",
     "text": [
      "1500:\tlearn: 0.8246032\ttest: 0.7890578\tbest: 0.7899112 (1467)\ttotal: 3m 10s\tremaining: 7m 23s\n"
     ]
    },
    {
     "name": "stdout",
     "output_type": "stream",
     "text": [
      "1550:\tlearn: 0.8254331\ttest: 0.7892892\tbest: 0.7899112 (1467)\ttotal: 3m 16s\tremaining: 7m 17s\n"
     ]
    },
    {
     "name": "stdout",
     "output_type": "stream",
     "text": [
      "1600:\tlearn: 0.8267348\ttest: 0.7894527\tbest: 0.7899112 (1467)\ttotal: 3m 22s\tremaining: 7m 10s\n"
     ]
    },
    {
     "name": "stdout",
     "output_type": "stream",
     "text": [
      "1650:\tlearn: 0.8279745\ttest: 0.7887372\tbest: 0.7899112 (1467)\ttotal: 3m 29s\tremaining: 7m 4s\n"
     ]
    },
    {
     "name": "stdout",
     "output_type": "stream",
     "text": [
      "1700:\tlearn: 0.8290022\ttest: 0.7890129\tbest: 0.7899112 (1467)\ttotal: 3m 35s\tremaining: 6m 58s\n"
     ]
    },
    {
     "name": "stdout",
     "output_type": "stream",
     "text": [
      "1750:\tlearn: 0.8299775\ttest: 0.7891373\tbest: 0.7899112 (1467)\ttotal: 3m 41s\tremaining: 6m 51s\n"
     ]
    },
    {
     "name": "stdout",
     "output_type": "stream",
     "text": [
      "1800:\tlearn: 0.8311677\ttest: 0.7888091\tbest: 0.7899112 (1467)\ttotal: 3m 48s\tremaining: 6m 45s\n"
     ]
    },
    {
     "name": "stdout",
     "output_type": "stream",
     "text": [
      "1850:\tlearn: 0.8324359\ttest: 0.7888147\tbest: 0.7899112 (1467)\ttotal: 3m 54s\tremaining: 6m 38s\n"
     ]
    },
    {
     "name": "stdout",
     "output_type": "stream",
     "text": [
      "1900:\tlearn: 0.8332449\ttest: 0.7889184\tbest: 0.7899112 (1467)\ttotal: 4m\tremaining: 6m 32s\n"
     ]
    },
    {
     "name": "stdout",
     "output_type": "stream",
     "text": [
      "1950:\tlearn: 0.8345968\ttest: 0.7895397\tbest: 0.7899112 (1467)\ttotal: 4m 6s\tremaining: 6m 25s\n"
     ]
    },
    {
     "name": "stdout",
     "output_type": "stream",
     "text": [
      "2000:\tlearn: 0.8357670\ttest: 0.7896880\tbest: 0.7899785 (1994)\ttotal: 4m 12s\tremaining: 6m 19s\n"
     ]
    },
    {
     "name": "stdout",
     "output_type": "stream",
     "text": [
      "2050:\tlearn: 0.8368663\ttest: 0.7898966\tbest: 0.7900436 (2048)\ttotal: 4m 19s\tremaining: 6m 12s\n"
     ]
    },
    {
     "name": "stdout",
     "output_type": "stream",
     "text": [
      "2100:\tlearn: 0.8379940\ttest: 0.7899238\tbest: 0.7902639 (2064)\ttotal: 4m 25s\tremaining: 6m 6s\n"
     ]
    },
    {
     "name": "stdout",
     "output_type": "stream",
     "text": [
      "2150:\tlearn: 0.8391125\ttest: 0.7903009\tbest: 0.7903648 (2132)\ttotal: 4m 31s\tremaining: 5m 59s\n"
     ]
    },
    {
     "name": "stdout",
     "output_type": "stream",
     "text": [
      "2200:\tlearn: 0.8399783\ttest: 0.7902705\tbest: 0.7903876 (2151)\ttotal: 4m 37s\tremaining: 5m 53s\n"
     ]
    },
    {
     "name": "stdout",
     "output_type": "stream",
     "text": [
      "2250:\tlearn: 0.8409249\ttest: 0.7899096\tbest: 0.7903876 (2151)\ttotal: 4m 44s\tremaining: 5m 47s\n"
     ]
    },
    {
     "name": "stdout",
     "output_type": "stream",
     "text": [
      "2300:\tlearn: 0.8418303\ttest: 0.7902096\tbest: 0.7903876 (2151)\ttotal: 4m 50s\tremaining: 5m 40s\n"
     ]
    },
    {
     "name": "stdout",
     "output_type": "stream",
     "text": [
      "2350:\tlearn: 0.8430688\ttest: 0.7906873\tbest: 0.7907703 (2346)\ttotal: 4m 56s\tremaining: 5m 34s\n"
     ]
    },
    {
     "name": "stdout",
     "output_type": "stream",
     "text": [
      "2400:\tlearn: 0.8437474\ttest: 0.7910009\tbest: 0.7910123 (2371)\ttotal: 5m 3s\tremaining: 5m 28s\n"
     ]
    },
    {
     "name": "stdout",
     "output_type": "stream",
     "text": [
      "2450:\tlearn: 0.8447023\ttest: 0.7906988\tbest: 0.7910123 (2371)\ttotal: 5m 9s\tremaining: 5m 21s\n"
     ]
    },
    {
     "name": "stdout",
     "output_type": "stream",
     "text": [
      "2500:\tlearn: 0.8457541\ttest: 0.7907005\tbest: 0.7911275 (2475)\ttotal: 5m 15s\tremaining: 5m 15s\n"
     ]
    },
    {
     "name": "stdout",
     "output_type": "stream",
     "text": [
      "2550:\tlearn: 0.8468985\ttest: 0.7908080\tbest: 0.7911275 (2475)\ttotal: 5m 21s\tremaining: 5m 9s\n"
     ]
    },
    {
     "name": "stdout",
     "output_type": "stream",
     "text": [
      "2600:\tlearn: 0.8479072\ttest: 0.7908067\tbest: 0.7911275 (2475)\ttotal: 5m 28s\tremaining: 5m 2s\n"
     ]
    },
    {
     "name": "stdout",
     "output_type": "stream",
     "text": [
      "2650:\tlearn: 0.8487031\ttest: 0.7912378\tbest: 0.7914704 (2648)\ttotal: 5m 34s\tremaining: 4m 56s\n"
     ]
    },
    {
     "name": "stdout",
     "output_type": "stream",
     "text": [
      "2700:\tlearn: 0.8499658\ttest: 0.7911660\tbest: 0.7917867 (2662)\ttotal: 5m 40s\tremaining: 4m 50s\n"
     ]
    },
    {
     "name": "stdout",
     "output_type": "stream",
     "text": [
      "2750:\tlearn: 0.8508789\ttest: 0.7916437\tbest: 0.7918289 (2735)\ttotal: 5m 47s\tremaining: 4m 43s\n"
     ]
    },
    {
     "name": "stdout",
     "output_type": "stream",
     "text": [
      "2800:\tlearn: 0.8517715\ttest: 0.7916154\tbest: 0.7919233 (2780)\ttotal: 5m 53s\tremaining: 4m 37s\n"
     ]
    },
    {
     "name": "stdout",
     "output_type": "stream",
     "text": [
      "2850:\tlearn: 0.8530274\ttest: 0.7919865\tbest: 0.7919865 (2850)\ttotal: 5m 59s\tremaining: 4m 31s\n"
     ]
    },
    {
     "name": "stdout",
     "output_type": "stream",
     "text": [
      "2900:\tlearn: 0.8539604\ttest: 0.7910549\tbest: 0.7920337 (2860)\ttotal: 6m 6s\tremaining: 4m 24s\n"
     ]
    },
    {
     "name": "stdout",
     "output_type": "stream",
     "text": [
      "2950:\tlearn: 0.8551364\ttest: 0.7912029\tbest: 0.7920337 (2860)\ttotal: 6m 12s\tremaining: 4m 18s\n"
     ]
    },
    {
     "name": "stdout",
     "output_type": "stream",
     "text": [
      "3000:\tlearn: 0.8561819\ttest: 0.7911090\tbest: 0.7920337 (2860)\ttotal: 6m 18s\tremaining: 4m 12s\n"
     ]
    },
    {
     "name": "stdout",
     "output_type": "stream",
     "text": [
      "3050:\tlearn: 0.8567767\ttest: 0.7907091\tbest: 0.7920337 (2860)\ttotal: 6m 24s\tremaining: 4m 5s\n"
     ]
    },
    {
     "name": "stdout",
     "output_type": "stream",
     "text": [
      "3100:\tlearn: 0.8581861\ttest: 0.7909230\tbest: 0.7920337 (2860)\ttotal: 6m 31s\tremaining: 3m 59s\n"
     ]
    },
    {
     "name": "stdout",
     "output_type": "stream",
     "text": [
      "3150:\tlearn: 0.8589578\ttest: 0.7910117\tbest: 0.7920337 (2860)\ttotal: 6m 37s\tremaining: 3m 53s\n"
     ]
    },
    {
     "name": "stdout",
     "output_type": "stream",
     "text": [
      "3200:\tlearn: 0.8599596\ttest: 0.7912118\tbest: 0.7920337 (2860)\ttotal: 6m 43s\tremaining: 3m 46s\n"
     ]
    },
    {
     "name": "stdout",
     "output_type": "stream",
     "text": [
      "3250:\tlearn: 0.8609766\ttest: 0.7912387\tbest: 0.7920337 (2860)\ttotal: 6m 50s\tremaining: 3m 40s\n"
     ]
    },
    {
     "name": "stdout",
     "output_type": "stream",
     "text": [
      "3300:\tlearn: 0.8620024\ttest: 0.7914001\tbest: 0.7920337 (2860)\ttotal: 6m 56s\tremaining: 3m 34s\n"
     ]
    },
    {
     "name": "stdout",
     "output_type": "stream",
     "text": [
      "3350:\tlearn: 0.8628060\ttest: 0.7912441\tbest: 0.7920337 (2860)\ttotal: 7m 2s\tremaining: 3m 28s\n"
     ]
    },
    {
     "name": "stdout",
     "output_type": "stream",
     "text": [
      "3400:\tlearn: 0.8636214\ttest: 0.7916713\tbest: 0.7920337 (2860)\ttotal: 7m 9s\tremaining: 3m 21s\n"
     ]
    },
    {
     "name": "stdout",
     "output_type": "stream",
     "text": [
      "3450:\tlearn: 0.8644948\ttest: 0.7913583\tbest: 0.7920337 (2860)\ttotal: 7m 15s\tremaining: 3m 15s\n"
     ]
    },
    {
     "name": "stdout",
     "output_type": "stream",
     "text": [
      "3500:\tlearn: 0.8654445\ttest: 0.7915134\tbest: 0.7920337 (2860)\ttotal: 7m 21s\tremaining: 3m 9s\n"
     ]
    },
    {
     "name": "stdout",
     "output_type": "stream",
     "text": [
      "3550:\tlearn: 0.8662887\ttest: 0.7917259\tbest: 0.7920337 (2860)\ttotal: 7m 27s\tremaining: 3m 2s\n"
     ]
    },
    {
     "name": "stdout",
     "output_type": "stream",
     "text": [
      "3600:\tlearn: 0.8671278\ttest: 0.7918153\tbest: 0.7920337 (2860)\ttotal: 7m 34s\tremaining: 2m 56s\n"
     ]
    },
    {
     "name": "stdout",
     "output_type": "stream",
     "text": [
      "3650:\tlearn: 0.8678652\ttest: 0.7916941\tbest: 0.7920767 (3640)\ttotal: 7m 40s\tremaining: 2m 50s\n"
     ]
    },
    {
     "name": "stdout",
     "output_type": "stream",
     "text": [
      "3700:\tlearn: 0.8688099\ttest: 0.7918080\tbest: 0.7920767 (3640)\ttotal: 7m 46s\tremaining: 2m 43s\n"
     ]
    },
    {
     "name": "stdout",
     "output_type": "stream",
     "text": [
      "3750:\tlearn: 0.8694891\ttest: 0.7920673\tbest: 0.7920880 (3749)\ttotal: 7m 52s\tremaining: 2m 37s\n"
     ]
    },
    {
     "name": "stdout",
     "output_type": "stream",
     "text": [
      "3800:\tlearn: 0.8704002\ttest: 0.7922810\tbest: 0.7923029 (3791)\ttotal: 7m 59s\tremaining: 2m 31s\n"
     ]
    },
    {
     "name": "stdout",
     "output_type": "stream",
     "text": [
      "3850:\tlearn: 0.8712570\ttest: 0.7920326\tbest: 0.7923029 (3791)\ttotal: 8m 5s\tremaining: 2m 24s\n"
     ]
    },
    {
     "name": "stdout",
     "output_type": "stream",
     "text": [
      "3900:\tlearn: 0.8720845\ttest: 0.7921022\tbest: 0.7923029 (3791)\ttotal: 8m 11s\tremaining: 2m 18s\n"
     ]
    },
    {
     "name": "stdout",
     "output_type": "stream",
     "text": [
      "3950:\tlearn: 0.8728336\ttest: 0.7921433\tbest: 0.7923744 (3917)\ttotal: 8m 17s\tremaining: 2m 12s\n"
     ]
    },
    {
     "name": "stdout",
     "output_type": "stream",
     "text": [
      "4000:\tlearn: 0.8736190\ttest: 0.7921280\tbest: 0.7923744 (3917)\ttotal: 8m 24s\tremaining: 2m 5s\n"
     ]
    },
    {
     "name": "stdout",
     "output_type": "stream",
     "text": [
      "4050:\tlearn: 0.8744399\ttest: 0.7920957\tbest: 0.7923744 (3917)\ttotal: 8m 30s\tremaining: 1m 59s\n"
     ]
    },
    {
     "name": "stdout",
     "output_type": "stream",
     "text": [
      "4100:\tlearn: 0.8752910\ttest: 0.7918334\tbest: 0.7923744 (3917)\ttotal: 8m 36s\tremaining: 1m 53s\n"
     ]
    },
    {
     "name": "stdout",
     "output_type": "stream",
     "text": [
      "4150:\tlearn: 0.8761392\ttest: 0.7918986\tbest: 0.7923744 (3917)\ttotal: 8m 43s\tremaining: 1m 47s\n"
     ]
    },
    {
     "name": "stdout",
     "output_type": "stream",
     "text": [
      "4200:\tlearn: 0.8770910\ttest: 0.7922091\tbest: 0.7923744 (3917)\ttotal: 8m 49s\tremaining: 1m 40s\n"
     ]
    },
    {
     "name": "stdout",
     "output_type": "stream",
     "text": [
      "4250:\tlearn: 0.8777377\ttest: 0.7917895\tbest: 0.7923744 (3917)\ttotal: 8m 55s\tremaining: 1m 34s\n"
     ]
    },
    {
     "name": "stdout",
     "output_type": "stream",
     "text": [
      "4300:\tlearn: 0.8785599\ttest: 0.7918333\tbest: 0.7923744 (3917)\ttotal: 9m 2s\tremaining: 1m 28s\n"
     ]
    },
    {
     "name": "stdout",
     "output_type": "stream",
     "text": [
      "4350:\tlearn: 0.8796313\ttest: 0.7918997\tbest: 0.7923744 (3917)\ttotal: 9m 8s\tremaining: 1m 21s\n"
     ]
    },
    {
     "name": "stdout",
     "output_type": "stream",
     "text": [
      "4400:\tlearn: 0.8803663\ttest: 0.7918399\tbest: 0.7923744 (3917)\ttotal: 9m 14s\tremaining: 1m 15s\n"
     ]
    },
    {
     "name": "stdout",
     "output_type": "stream",
     "text": [
      "4450:\tlearn: 0.8813067\ttest: 0.7922136\tbest: 0.7923744 (3917)\ttotal: 9m 20s\tremaining: 1m 9s\n"
     ]
    },
    {
     "name": "stdout",
     "output_type": "stream",
     "text": [
      "4500:\tlearn: 0.8821224\ttest: 0.7923628\tbest: 0.7925515 (4460)\ttotal: 9m 27s\tremaining: 1m 2s\n"
     ]
    },
    {
     "name": "stdout",
     "output_type": "stream",
     "text": [
      "4550:\tlearn: 0.8829516\ttest: 0.7923428\tbest: 0.7926156 (4525)\ttotal: 9m 33s\tremaining: 56.6s\n"
     ]
    },
    {
     "name": "stdout",
     "output_type": "stream",
     "text": [
      "4600:\tlearn: 0.8839087\ttest: 0.7922143\tbest: 0.7926156 (4525)\ttotal: 9m 39s\tremaining: 50.3s\n"
     ]
    },
    {
     "name": "stdout",
     "output_type": "stream",
     "text": [
      "4650:\tlearn: 0.8846186\ttest: 0.7928568\tbest: 0.7930038 (4648)\ttotal: 9m 46s\tremaining: 44s\n"
     ]
    },
    {
     "name": "stdout",
     "output_type": "stream",
     "text": [
      "4700:\tlearn: 0.8852251\ttest: 0.7924621\tbest: 0.7930038 (4648)\ttotal: 9m 52s\tremaining: 37.7s\n"
     ]
    },
    {
     "name": "stdout",
     "output_type": "stream",
     "text": [
      "4750:\tlearn: 0.8861503\ttest: 0.7925755\tbest: 0.7930038 (4648)\ttotal: 9m 58s\tremaining: 31.4s\n"
     ]
    },
    {
     "name": "stdout",
     "output_type": "stream",
     "text": [
      "4800:\tlearn: 0.8868958\ttest: 0.7926427\tbest: 0.7930038 (4648)\ttotal: 10m 5s\tremaining: 25.1s\n"
     ]
    },
    {
     "name": "stdout",
     "output_type": "stream",
     "text": [
      "4850:\tlearn: 0.8876715\ttest: 0.7921295\tbest: 0.7930038 (4648)\ttotal: 10m 11s\tremaining: 18.8s\n"
     ]
    },
    {
     "name": "stdout",
     "output_type": "stream",
     "text": [
      "4900:\tlearn: 0.8883200\ttest: 0.7921035\tbest: 0.7930038 (4648)\ttotal: 10m 17s\tremaining: 12.5s\n"
     ]
    },
    {
     "name": "stdout",
     "output_type": "stream",
     "text": [
      "4950:\tlearn: 0.8890443\ttest: 0.7918512\tbest: 0.7930038 (4648)\ttotal: 10m 24s\tremaining: 6.18s\n"
     ]
    },
    {
     "name": "stdout",
     "output_type": "stream",
     "text": [
      "4999:\tlearn: 0.8898463\ttest: 0.7917481\tbest: 0.7930038 (4648)\ttotal: 10m 30s\tremaining: 0us\n",
      "\n",
      "bestTest = 0.7930038438\n",
      "bestIteration = 4648\n",
      "\n"
     ]
    },
    {
     "name": "stdout",
     "output_type": "stream",
     "text": [
      "######################################## training model 2/5 ########################################\n",
      "seed: 16\n"
     ]
    },
    {
     "name": "stdout",
     "output_type": "stream",
     "text": [
      "0:\tlearn: 0.5377844\ttest: 0.5431629\tbest: 0.5431629 (0)\ttotal: 447ms\tremaining: 37m 14s\n"
     ]
    },
    {
     "name": "stdout",
     "output_type": "stream",
     "text": [
      "50:\tlearn: 0.7388182\ttest: 0.7437040\tbest: 0.7437040 (50)\ttotal: 6.65s\tremaining: 10m 45s\n"
     ]
    },
    {
     "name": "stdout",
     "output_type": "stream",
     "text": [
      "100:\tlearn: 0.7540470\ttest: 0.7586777\tbest: 0.7586777 (100)\ttotal: 12.9s\tremaining: 10m 27s\n"
     ]
    },
    {
     "name": "stdout",
     "output_type": "stream",
     "text": [
      "150:\tlearn: 0.7616217\ttest: 0.7641401\tbest: 0.7641401 (150)\ttotal: 19.3s\tremaining: 10m 21s\n"
     ]
    },
    {
     "name": "stdout",
     "output_type": "stream",
     "text": [
      "200:\tlearn: 0.7664764\ttest: 0.7689774\tbest: 0.7690295 (199)\ttotal: 25.7s\tremaining: 10m 13s\n"
     ]
    },
    {
     "name": "stdout",
     "output_type": "stream",
     "text": [
      "250:\tlearn: 0.7702635\ttest: 0.7724018\tbest: 0.7726259 (248)\ttotal: 32s\tremaining: 10m 5s\n"
     ]
    },
    {
     "name": "stdout",
     "output_type": "stream",
     "text": [
      "300:\tlearn: 0.7749970\ttest: 0.7773112\tbest: 0.7773112 (300)\ttotal: 38.4s\tremaining: 9m 59s\n"
     ]
    },
    {
     "name": "stdout",
     "output_type": "stream",
     "text": [
      "350:\tlearn: 0.7824199\ttest: 0.7837795\tbest: 0.7837795 (350)\ttotal: 44.7s\tremaining: 9m 52s\n"
     ]
    },
    {
     "name": "stdout",
     "output_type": "stream",
     "text": [
      "400:\tlearn: 0.7869864\ttest: 0.7858909\tbest: 0.7860252 (399)\ttotal: 51.1s\tremaining: 9m 45s\n"
     ]
    },
    {
     "name": "stdout",
     "output_type": "stream",
     "text": [
      "450:\tlearn: 0.7903586\ttest: 0.7884584\tbest: 0.7888262 (449)\ttotal: 57.4s\tremaining: 9m 39s\n"
     ]
    },
    {
     "name": "stdout",
     "output_type": "stream",
     "text": [
      "500:\tlearn: 0.7930953\ttest: 0.7896984\tbest: 0.7900067 (499)\ttotal: 1m 3s\tremaining: 9m 32s\n"
     ]
    },
    {
     "name": "stdout",
     "output_type": "stream",
     "text": [
      "550:\tlearn: 0.7954648\ttest: 0.7901647\tbest: 0.7906527 (541)\ttotal: 1m 10s\tremaining: 9m 26s\n"
     ]
    },
    {
     "name": "stdout",
     "output_type": "stream",
     "text": [
      "600:\tlearn: 0.7975371\ttest: 0.7908784\tbest: 0.7908982 (589)\ttotal: 1m 16s\tremaining: 9m 20s\n"
     ]
    },
    {
     "name": "stdout",
     "output_type": "stream",
     "text": [
      "650:\tlearn: 0.7994246\ttest: 0.7915233\tbest: 0.7917551 (644)\ttotal: 1m 22s\tremaining: 9m 13s\n"
     ]
    },
    {
     "name": "stdout",
     "output_type": "stream",
     "text": [
      "700:\tlearn: 0.8011873\ttest: 0.7913901\tbest: 0.7917652 (653)\ttotal: 1m 29s\tremaining: 9m 7s\n"
     ]
    },
    {
     "name": "stdout",
     "output_type": "stream",
     "text": [
      "750:\tlearn: 0.8031583\ttest: 0.7918922\tbest: 0.7918922 (750)\ttotal: 1m 35s\tremaining: 9m\n"
     ]
    },
    {
     "name": "stdout",
     "output_type": "stream",
     "text": [
      "800:\tlearn: 0.8048493\ttest: 0.7918179\tbest: 0.7921691 (795)\ttotal: 1m 41s\tremaining: 8m 53s\n"
     ]
    },
    {
     "name": "stdout",
     "output_type": "stream",
     "text": [
      "850:\tlearn: 0.8062880\ttest: 0.7921682\tbest: 0.7922500 (849)\ttotal: 1m 48s\tremaining: 8m 47s\n"
     ]
    },
    {
     "name": "stdout",
     "output_type": "stream",
     "text": [
      "900:\tlearn: 0.8076331\ttest: 0.7930226\tbest: 0.7930226 (900)\ttotal: 1m 54s\tremaining: 8m 40s\n"
     ]
    },
    {
     "name": "stdout",
     "output_type": "stream",
     "text": [
      "950:\tlearn: 0.8090724\ttest: 0.7928315\tbest: 0.7932412 (942)\ttotal: 2m\tremaining: 8m 34s\n"
     ]
    },
    {
     "name": "stdout",
     "output_type": "stream",
     "text": [
      "1000:\tlearn: 0.8104983\ttest: 0.7932819\tbest: 0.7935984 (970)\ttotal: 2m 6s\tremaining: 8m 27s\n"
     ]
    },
    {
     "name": "stdout",
     "output_type": "stream",
     "text": [
      "1050:\tlearn: 0.8119274\ttest: 0.7937555\tbest: 0.7941212 (1030)\ttotal: 2m 13s\tremaining: 8m 20s\n"
     ]
    },
    {
     "name": "stdout",
     "output_type": "stream",
     "text": [
      "1100:\tlearn: 0.8135041\ttest: 0.7941988\tbest: 0.7943640 (1098)\ttotal: 2m 19s\tremaining: 8m 14s\n"
     ]
    },
    {
     "name": "stdout",
     "output_type": "stream",
     "text": [
      "1150:\tlearn: 0.8149092\ttest: 0.7942426\tbest: 0.7943640 (1098)\ttotal: 2m 26s\tremaining: 8m 8s\n"
     ]
    },
    {
     "name": "stdout",
     "output_type": "stream",
     "text": [
      "1200:\tlearn: 0.8164865\ttest: 0.7942911\tbest: 0.7945195 (1199)\ttotal: 2m 32s\tremaining: 8m 1s\n"
     ]
    },
    {
     "name": "stdout",
     "output_type": "stream",
     "text": [
      "1250:\tlearn: 0.8176803\ttest: 0.7939123\tbest: 0.7945195 (1199)\ttotal: 2m 38s\tremaining: 7m 55s\n"
     ]
    },
    {
     "name": "stdout",
     "output_type": "stream",
     "text": [
      "1300:\tlearn: 0.8190629\ttest: 0.7946382\tbest: 0.7946382 (1300)\ttotal: 2m 45s\tremaining: 7m 49s\n"
     ]
    },
    {
     "name": "stdout",
     "output_type": "stream",
     "text": [
      "1350:\tlearn: 0.8204474\ttest: 0.7942594\tbest: 0.7946461 (1307)\ttotal: 2m 51s\tremaining: 7m 43s\n"
     ]
    },
    {
     "name": "stdout",
     "output_type": "stream",
     "text": [
      "1400:\tlearn: 0.8218250\ttest: 0.7942078\tbest: 0.7946461 (1307)\ttotal: 2m 57s\tremaining: 7m 36s\n"
     ]
    },
    {
     "name": "stdout",
     "output_type": "stream",
     "text": [
      "1450:\tlearn: 0.8233312\ttest: 0.7940660\tbest: 0.7946461 (1307)\ttotal: 3m 4s\tremaining: 7m 30s\n"
     ]
    },
    {
     "name": "stdout",
     "output_type": "stream",
     "text": [
      "1500:\tlearn: 0.8245364\ttest: 0.7940849\tbest: 0.7946461 (1307)\ttotal: 3m 10s\tremaining: 7m 23s\n"
     ]
    },
    {
     "name": "stdout",
     "output_type": "stream",
     "text": [
      "1550:\tlearn: 0.8260202\ttest: 0.7943494\tbest: 0.7946461 (1307)\ttotal: 3m 16s\tremaining: 7m 17s\n"
     ]
    },
    {
     "name": "stdout",
     "output_type": "stream",
     "text": [
      "1600:\tlearn: 0.8266890\ttest: 0.7949964\tbest: 0.7950782 (1598)\ttotal: 3m 23s\tremaining: 7m 11s\n"
     ]
    },
    {
     "name": "stdout",
     "output_type": "stream",
     "text": [
      "1650:\tlearn: 0.8277586\ttest: 0.7952598\tbest: 0.7955422 (1632)\ttotal: 3m 29s\tremaining: 7m 5s\n"
     ]
    },
    {
     "name": "stdout",
     "output_type": "stream",
     "text": [
      "1700:\tlearn: 0.8288832\ttest: 0.7952236\tbest: 0.7955422 (1632)\ttotal: 3m 35s\tremaining: 6m 58s\n"
     ]
    },
    {
     "name": "stdout",
     "output_type": "stream",
     "text": [
      "1750:\tlearn: 0.8296441\ttest: 0.7953959\tbest: 0.7955422 (1632)\ttotal: 3m 42s\tremaining: 6m 52s\n"
     ]
    },
    {
     "name": "stdout",
     "output_type": "stream",
     "text": [
      "1800:\tlearn: 0.8308983\ttest: 0.7956382\tbest: 0.7958409 (1791)\ttotal: 3m 48s\tremaining: 6m 46s\n"
     ]
    },
    {
     "name": "stdout",
     "output_type": "stream",
     "text": [
      "1850:\tlearn: 0.8321962\ttest: 0.7957838\tbest: 0.7959655 (1827)\ttotal: 3m 55s\tremaining: 6m 39s\n"
     ]
    },
    {
     "name": "stdout",
     "output_type": "stream",
     "text": [
      "1900:\tlearn: 0.8333732\ttest: 0.7961136\tbest: 0.7962158 (1894)\ttotal: 4m 1s\tremaining: 6m 33s\n"
     ]
    },
    {
     "name": "stdout",
     "output_type": "stream",
     "text": [
      "1950:\tlearn: 0.8344939\ttest: 0.7956625\tbest: 0.7963319 (1924)\ttotal: 4m 7s\tremaining: 6m 27s\n"
     ]
    },
    {
     "name": "stdout",
     "output_type": "stream",
     "text": [
      "2000:\tlearn: 0.8354781\ttest: 0.7959541\tbest: 0.7963319 (1924)\ttotal: 4m 14s\tremaining: 6m 20s\n"
     ]
    },
    {
     "name": "stdout",
     "output_type": "stream",
     "text": [
      "2050:\tlearn: 0.8366883\ttest: 0.7958581\tbest: 0.7963319 (1924)\ttotal: 4m 20s\tremaining: 6m 14s\n"
     ]
    },
    {
     "name": "stdout",
     "output_type": "stream",
     "text": [
      "2100:\tlearn: 0.8378982\ttest: 0.7955506\tbest: 0.7963319 (1924)\ttotal: 4m 27s\tremaining: 6m 8s\n"
     ]
    },
    {
     "name": "stdout",
     "output_type": "stream",
     "text": [
      "2150:\tlearn: 0.8387864\ttest: 0.7958213\tbest: 0.7963319 (1924)\ttotal: 4m 33s\tremaining: 6m 2s\n"
     ]
    },
    {
     "name": "stdout",
     "output_type": "stream",
     "text": [
      "2200:\tlearn: 0.8397924\ttest: 0.7957244\tbest: 0.7963319 (1924)\ttotal: 4m 39s\tremaining: 5m 55s\n"
     ]
    },
    {
     "name": "stdout",
     "output_type": "stream",
     "text": [
      "2250:\tlearn: 0.8408344\ttest: 0.7954801\tbest: 0.7963319 (1924)\ttotal: 4m 46s\tremaining: 5m 49s\n"
     ]
    },
    {
     "name": "stdout",
     "output_type": "stream",
     "text": [
      "2300:\tlearn: 0.8418534\ttest: 0.7960430\tbest: 0.7963319 (1924)\ttotal: 4m 52s\tremaining: 5m 43s\n"
     ]
    },
    {
     "name": "stdout",
     "output_type": "stream",
     "text": [
      "2350:\tlearn: 0.8428942\ttest: 0.7960832\tbest: 0.7963319 (1924)\ttotal: 4m 58s\tremaining: 5m 36s\n"
     ]
    },
    {
     "name": "stdout",
     "output_type": "stream",
     "text": [
      "2400:\tlearn: 0.8437635\ttest: 0.7961366\tbest: 0.7963319 (1924)\ttotal: 5m 5s\tremaining: 5m 30s\n"
     ]
    },
    {
     "name": "stdout",
     "output_type": "stream",
     "text": [
      "2450:\tlearn: 0.8450605\ttest: 0.7961134\tbest: 0.7963319 (1924)\ttotal: 5m 11s\tremaining: 5m 24s\n"
     ]
    },
    {
     "name": "stdout",
     "output_type": "stream",
     "text": [
      "2500:\tlearn: 0.8461351\ttest: 0.7962756\tbest: 0.7966106 (2489)\ttotal: 5m 18s\tremaining: 5m 17s\n"
     ]
    },
    {
     "name": "stdout",
     "output_type": "stream",
     "text": [
      "2550:\tlearn: 0.8470319\ttest: 0.7966447\tbest: 0.7966447 (2550)\ttotal: 5m 24s\tremaining: 5m 11s\n"
     ]
    },
    {
     "name": "stdout",
     "output_type": "stream",
     "text": [
      "2600:\tlearn: 0.8480896\ttest: 0.7968221\tbest: 0.7973474 (2576)\ttotal: 5m 30s\tremaining: 5m 5s\n"
     ]
    },
    {
     "name": "stdout",
     "output_type": "stream",
     "text": [
      "2650:\tlearn: 0.8488843\ttest: 0.7969765\tbest: 0.7973474 (2576)\ttotal: 5m 37s\tremaining: 4m 58s\n"
     ]
    },
    {
     "name": "stdout",
     "output_type": "stream",
     "text": [
      "2700:\tlearn: 0.8499272\ttest: 0.7968475\tbest: 0.7973474 (2576)\ttotal: 5m 43s\tremaining: 4m 52s\n"
     ]
    },
    {
     "name": "stdout",
     "output_type": "stream",
     "text": [
      "2750:\tlearn: 0.8508928\ttest: 0.7970471\tbest: 0.7973474 (2576)\ttotal: 5m 50s\tremaining: 4m 46s\n"
     ]
    },
    {
     "name": "stdout",
     "output_type": "stream",
     "text": [
      "2800:\tlearn: 0.8517258\ttest: 0.7969669\tbest: 0.7973474 (2576)\ttotal: 5m 56s\tremaining: 4m 39s\n"
     ]
    },
    {
     "name": "stdout",
     "output_type": "stream",
     "text": [
      "2850:\tlearn: 0.8526387\ttest: 0.7968828\tbest: 0.7973474 (2576)\ttotal: 6m 2s\tremaining: 4m 33s\n"
     ]
    },
    {
     "name": "stdout",
     "output_type": "stream",
     "text": [
      "2900:\tlearn: 0.8537096\ttest: 0.7968310\tbest: 0.7974344 (2875)\ttotal: 6m 9s\tremaining: 4m 27s\n"
     ]
    },
    {
     "name": "stdout",
     "output_type": "stream",
     "text": [
      "2950:\tlearn: 0.8547877\ttest: 0.7974210\tbest: 0.7974632 (2944)\ttotal: 6m 15s\tremaining: 4m 20s\n"
     ]
    },
    {
     "name": "stdout",
     "output_type": "stream",
     "text": [
      "3000:\tlearn: 0.8556512\ttest: 0.7971488\tbest: 0.7975681 (2980)\ttotal: 6m 22s\tremaining: 4m 14s\n"
     ]
    },
    {
     "name": "stdout",
     "output_type": "stream",
     "text": [
      "3050:\tlearn: 0.8567137\ttest: 0.7967775\tbest: 0.7975681 (2980)\ttotal: 6m 28s\tremaining: 4m 8s\n"
     ]
    },
    {
     "name": "stdout",
     "output_type": "stream",
     "text": [
      "3100:\tlearn: 0.8576689\ttest: 0.7970603\tbest: 0.7975681 (2980)\ttotal: 6m 34s\tremaining: 4m 1s\n"
     ]
    },
    {
     "name": "stdout",
     "output_type": "stream",
     "text": [
      "3150:\tlearn: 0.8587551\ttest: 0.7966646\tbest: 0.7975681 (2980)\ttotal: 6m 41s\tremaining: 3m 55s\n"
     ]
    },
    {
     "name": "stdout",
     "output_type": "stream",
     "text": [
      "3200:\tlearn: 0.8598625\ttest: 0.7967557\tbest: 0.7975681 (2980)\ttotal: 6m 47s\tremaining: 3m 49s\n"
     ]
    },
    {
     "name": "stdout",
     "output_type": "stream",
     "text": [
      "3250:\tlearn: 0.8606672\ttest: 0.7972600\tbest: 0.7975681 (2980)\ttotal: 6m 53s\tremaining: 3m 42s\n"
     ]
    },
    {
     "name": "stdout",
     "output_type": "stream",
     "text": [
      "3300:\tlearn: 0.8617840\ttest: 0.7969931\tbest: 0.7975681 (2980)\ttotal: 7m\tremaining: 3m 36s\n"
     ]
    },
    {
     "name": "stdout",
     "output_type": "stream",
     "text": [
      "3350:\tlearn: 0.8626923\ttest: 0.7972070\tbest: 0.7975681 (2980)\ttotal: 7m 6s\tremaining: 3m 29s\n"
     ]
    },
    {
     "name": "stdout",
     "output_type": "stream",
     "text": [
      "3400:\tlearn: 0.8635016\ttest: 0.7972986\tbest: 0.7975681 (2980)\ttotal: 7m 12s\tremaining: 3m 23s\n"
     ]
    },
    {
     "name": "stdout",
     "output_type": "stream",
     "text": [
      "3450:\tlearn: 0.8642937\ttest: 0.7970645\tbest: 0.7975681 (2980)\ttotal: 7m 19s\tremaining: 3m 17s\n"
     ]
    },
    {
     "name": "stdout",
     "output_type": "stream",
     "text": [
      "3500:\tlearn: 0.8651290\ttest: 0.7971267\tbest: 0.7975681 (2980)\ttotal: 7m 25s\tremaining: 3m 10s\n"
     ]
    },
    {
     "name": "stdout",
     "output_type": "stream",
     "text": [
      "3550:\tlearn: 0.8662077\ttest: 0.7973526\tbest: 0.7975681 (2980)\ttotal: 7m 31s\tremaining: 3m 4s\n"
     ]
    },
    {
     "name": "stdout",
     "output_type": "stream",
     "text": [
      "3600:\tlearn: 0.8671220\ttest: 0.7978476\tbest: 0.7979531 (3595)\ttotal: 7m 38s\tremaining: 2m 58s\n"
     ]
    },
    {
     "name": "stdout",
     "output_type": "stream",
     "text": [
      "3650:\tlearn: 0.8678602\ttest: 0.7975009\tbest: 0.7979531 (3595)\ttotal: 7m 44s\tremaining: 2m 51s\n"
     ]
    },
    {
     "name": "stdout",
     "output_type": "stream",
     "text": [
      "3700:\tlearn: 0.8687777\ttest: 0.7975800\tbest: 0.7979531 (3595)\ttotal: 7m 51s\tremaining: 2m 45s\n"
     ]
    },
    {
     "name": "stdout",
     "output_type": "stream",
     "text": [
      "3750:\tlearn: 0.8697701\ttest: 0.7974748\tbest: 0.7979531 (3595)\ttotal: 7m 57s\tremaining: 2m 39s\n"
     ]
    },
    {
     "name": "stdout",
     "output_type": "stream",
     "text": [
      "3800:\tlearn: 0.8704776\ttest: 0.7976686\tbest: 0.7979531 (3595)\ttotal: 8m 3s\tremaining: 2m 32s\n"
     ]
    },
    {
     "name": "stdout",
     "output_type": "stream",
     "text": [
      "3850:\tlearn: 0.8713915\ttest: 0.7977159\tbest: 0.7979531 (3595)\ttotal: 8m 10s\tremaining: 2m 26s\n"
     ]
    },
    {
     "name": "stdout",
     "output_type": "stream",
     "text": [
      "3900:\tlearn: 0.8723638\ttest: 0.7976559\tbest: 0.7980523 (3871)\ttotal: 8m 16s\tremaining: 2m 19s\n"
     ]
    },
    {
     "name": "stdout",
     "output_type": "stream",
     "text": [
      "3950:\tlearn: 0.8732539\ttest: 0.7977651\tbest: 0.7980523 (3871)\ttotal: 8m 23s\tremaining: 2m 13s\n"
     ]
    },
    {
     "name": "stdout",
     "output_type": "stream",
     "text": [
      "4000:\tlearn: 0.8740305\ttest: 0.7975061\tbest: 0.7981401 (3960)\ttotal: 8m 29s\tremaining: 2m 7s\n"
     ]
    },
    {
     "name": "stdout",
     "output_type": "stream",
     "text": [
      "4050:\tlearn: 0.8749822\ttest: 0.7977457\tbest: 0.7981401 (3960)\ttotal: 8m 35s\tremaining: 2m\n"
     ]
    },
    {
     "name": "stdout",
     "output_type": "stream",
     "text": [
      "4100:\tlearn: 0.8759170\ttest: 0.7974375\tbest: 0.7981401 (3960)\ttotal: 8m 42s\tremaining: 1m 54s\n"
     ]
    },
    {
     "name": "stdout",
     "output_type": "stream",
     "text": [
      "4150:\tlearn: 0.8766976\ttest: 0.7974411\tbest: 0.7981401 (3960)\ttotal: 8m 48s\tremaining: 1m 48s\n"
     ]
    },
    {
     "name": "stdout",
     "output_type": "stream",
     "text": [
      "4200:\tlearn: 0.8775756\ttest: 0.7976758\tbest: 0.7981401 (3960)\ttotal: 8m 54s\tremaining: 1m 41s\n"
     ]
    },
    {
     "name": "stdout",
     "output_type": "stream",
     "text": [
      "4250:\tlearn: 0.8784599\ttest: 0.7979681\tbest: 0.7981577 (4248)\ttotal: 9m 1s\tremaining: 1m 35s\n"
     ]
    },
    {
     "name": "stdout",
     "output_type": "stream",
     "text": [
      "4300:\tlearn: 0.8793082\ttest: 0.7976370\tbest: 0.7981577 (4248)\ttotal: 9m 7s\tremaining: 1m 28s\n"
     ]
    },
    {
     "name": "stdout",
     "output_type": "stream",
     "text": [
      "4350:\tlearn: 0.8804216\ttest: 0.7978872\tbest: 0.7981577 (4248)\ttotal: 9m 13s\tremaining: 1m 22s\n"
     ]
    },
    {
     "name": "stdout",
     "output_type": "stream",
     "text": [
      "4400:\tlearn: 0.8814622\ttest: 0.7978478\tbest: 0.7981577 (4248)\ttotal: 9m 19s\tremaining: 1m 16s\n"
     ]
    },
    {
     "name": "stdout",
     "output_type": "stream",
     "text": [
      "4450:\tlearn: 0.8822727\ttest: 0.7981544\tbest: 0.7981946 (4446)\ttotal: 9m 26s\tremaining: 1m 9s\n"
     ]
    },
    {
     "name": "stdout",
     "output_type": "stream",
     "text": [
      "4500:\tlearn: 0.8829321\ttest: 0.7980489\tbest: 0.7983243 (4458)\ttotal: 9m 32s\tremaining: 1m 3s\n"
     ]
    },
    {
     "name": "stdout",
     "output_type": "stream",
     "text": [
      "4550:\tlearn: 0.8839220\ttest: 0.7975662\tbest: 0.7983243 (4458)\ttotal: 9m 38s\tremaining: 57.1s\n"
     ]
    },
    {
     "name": "stdout",
     "output_type": "stream",
     "text": [
      "4600:\tlearn: 0.8845945\ttest: 0.7976305\tbest: 0.7983243 (4458)\ttotal: 9m 45s\tremaining: 50.7s\n"
     ]
    },
    {
     "name": "stdout",
     "output_type": "stream",
     "text": [
      "4650:\tlearn: 0.8853511\ttest: 0.7977332\tbest: 0.7983243 (4458)\ttotal: 9m 51s\tremaining: 44.4s\n"
     ]
    },
    {
     "name": "stdout",
     "output_type": "stream",
     "text": [
      "4700:\tlearn: 0.8861082\ttest: 0.7980352\tbest: 0.7983243 (4458)\ttotal: 9m 57s\tremaining: 38s\n"
     ]
    },
    {
     "name": "stdout",
     "output_type": "stream",
     "text": [
      "4750:\tlearn: 0.8871348\ttest: 0.7974904\tbest: 0.7983243 (4458)\ttotal: 10m 3s\tremaining: 31.7s\n"
     ]
    },
    {
     "name": "stdout",
     "output_type": "stream",
     "text": [
      "4800:\tlearn: 0.8880162\ttest: 0.7977847\tbest: 0.7983243 (4458)\ttotal: 10m 10s\tremaining: 25.3s\n"
     ]
    },
    {
     "name": "stdout",
     "output_type": "stream",
     "text": [
      "4850:\tlearn: 0.8888175\ttest: 0.7976706\tbest: 0.7983243 (4458)\ttotal: 10m 16s\tremaining: 18.9s\n"
     ]
    },
    {
     "name": "stdout",
     "output_type": "stream",
     "text": [
      "4900:\tlearn: 0.8896924\ttest: 0.7972985\tbest: 0.7983243 (4458)\ttotal: 10m 22s\tremaining: 12.6s\n"
     ]
    },
    {
     "name": "stdout",
     "output_type": "stream",
     "text": [
      "4950:\tlearn: 0.8903405\ttest: 0.7977157\tbest: 0.7983243 (4458)\ttotal: 10m 29s\tremaining: 6.23s\n"
     ]
    },
    {
     "name": "stdout",
     "output_type": "stream",
     "text": [
      "4999:\tlearn: 0.8911029\ttest: 0.7980219\tbest: 0.7983243 (4458)\ttotal: 10m 35s\tremaining: 0us\n",
      "\n",
      "bestTest = 0.798324317\n",
      "bestIteration = 4458\n",
      "\n"
     ]
    },
    {
     "name": "stdout",
     "output_type": "stream",
     "text": [
      "######################################## training model 3/5 ########################################\n",
      "seed: 17\n"
     ]
    },
    {
     "name": "stdout",
     "output_type": "stream",
     "text": [
      "0:\tlearn: 0.5556691\ttest: 0.5543521\tbest: 0.5543521 (0)\ttotal: 430ms\tremaining: 35m 48s\n"
     ]
    },
    {
     "name": "stdout",
     "output_type": "stream",
     "text": [
      "50:\tlearn: 0.7413158\ttest: 0.7433421\tbest: 0.7433421 (50)\ttotal: 6.61s\tremaining: 10m 41s\n"
     ]
    },
    {
     "name": "stdout",
     "output_type": "stream",
     "text": [
      "100:\tlearn: 0.7535249\ttest: 0.7567858\tbest: 0.7567858 (100)\ttotal: 13s\tremaining: 10m 28s\n"
     ]
    },
    {
     "name": "stdout",
     "output_type": "stream",
     "text": [
      "150:\tlearn: 0.7603638\ttest: 0.7627946\tbest: 0.7629646 (149)\ttotal: 19.2s\tremaining: 10m 17s\n"
     ]
    },
    {
     "name": "stdout",
     "output_type": "stream",
     "text": [
      "200:\tlearn: 0.7654116\ttest: 0.7686849\tbest: 0.7686849 (200)\ttotal: 25.5s\tremaining: 10m 9s\n"
     ]
    },
    {
     "name": "stdout",
     "output_type": "stream",
     "text": [
      "250:\tlearn: 0.7695487\ttest: 0.7720219\tbest: 0.7720272 (248)\ttotal: 31.8s\tremaining: 10m 1s\n"
     ]
    },
    {
     "name": "stdout",
     "output_type": "stream",
     "text": [
      "300:\tlearn: 0.7746354\ttest: 0.7772933\tbest: 0.7772933 (300)\ttotal: 38.1s\tremaining: 9m 54s\n"
     ]
    },
    {
     "name": "stdout",
     "output_type": "stream",
     "text": [
      "350:\tlearn: 0.7810248\ttest: 0.7834154\tbest: 0.7834429 (346)\ttotal: 44.4s\tremaining: 9m 48s\n"
     ]
    },
    {
     "name": "stdout",
     "output_type": "stream",
     "text": [
      "400:\tlearn: 0.7854431\ttest: 0.7865576\tbest: 0.7865576 (400)\ttotal: 50.7s\tremaining: 9m 41s\n"
     ]
    },
    {
     "name": "stdout",
     "output_type": "stream",
     "text": [
      "450:\tlearn: 0.7890946\ttest: 0.7887682\tbest: 0.7889463 (447)\ttotal: 57s\tremaining: 9m 34s\n"
     ]
    },
    {
     "name": "stdout",
     "output_type": "stream",
     "text": [
      "500:\tlearn: 0.7921094\ttest: 0.7909571\tbest: 0.7913031 (498)\ttotal: 1m 3s\tremaining: 9m 28s\n"
     ]
    },
    {
     "name": "stdout",
     "output_type": "stream",
     "text": [
      "550:\tlearn: 0.7942490\ttest: 0.7918825\tbest: 0.7919657 (546)\ttotal: 1m 9s\tremaining: 9m 21s\n"
     ]
    },
    {
     "name": "stdout",
     "output_type": "stream",
     "text": [
      "600:\tlearn: 0.7965258\ttest: 0.7931553\tbest: 0.7933790 (595)\ttotal: 1m 15s\tremaining: 9m 15s\n"
     ]
    },
    {
     "name": "stdout",
     "output_type": "stream",
     "text": [
      "650:\tlearn: 0.7986245\ttest: 0.7934467\tbest: 0.7935691 (639)\ttotal: 1m 22s\tremaining: 9m 8s\n"
     ]
    },
    {
     "name": "stdout",
     "output_type": "stream",
     "text": [
      "700:\tlearn: 0.8002753\ttest: 0.7937293\tbest: 0.7940644 (671)\ttotal: 1m 28s\tremaining: 9m 2s\n"
     ]
    },
    {
     "name": "stdout",
     "output_type": "stream",
     "text": [
      "750:\tlearn: 0.8022751\ttest: 0.7944237\tbest: 0.7945345 (745)\ttotal: 1m 34s\tremaining: 8m 55s\n"
     ]
    },
    {
     "name": "stdout",
     "output_type": "stream",
     "text": [
      "800:\tlearn: 0.8039742\ttest: 0.7944336\tbest: 0.7951063 (790)\ttotal: 1m 40s\tremaining: 8m 49s\n"
     ]
    },
    {
     "name": "stdout",
     "output_type": "stream",
     "text": [
      "850:\tlearn: 0.8058535\ttest: 0.7954246\tbest: 0.7954246 (850)\ttotal: 1m 47s\tremaining: 8m 42s\n"
     ]
    },
    {
     "name": "stdout",
     "output_type": "stream",
     "text": [
      "900:\tlearn: 0.8071133\ttest: 0.7955962\tbest: 0.7957012 (899)\ttotal: 1m 53s\tremaining: 8m 36s\n"
     ]
    },
    {
     "name": "stdout",
     "output_type": "stream",
     "text": [
      "950:\tlearn: 0.8086702\ttest: 0.7957353\tbest: 0.7957353 (950)\ttotal: 1m 59s\tremaining: 8m 29s\n"
     ]
    },
    {
     "name": "stdout",
     "output_type": "stream",
     "text": [
      "1000:\tlearn: 0.8104195\ttest: 0.7957766\tbest: 0.7960537 (954)\ttotal: 2m 5s\tremaining: 8m 23s\n"
     ]
    },
    {
     "name": "stdout",
     "output_type": "stream",
     "text": [
      "1050:\tlearn: 0.8119949\ttest: 0.7961131\tbest: 0.7961311 (1048)\ttotal: 2m 12s\tremaining: 8m 16s\n"
     ]
    },
    {
     "name": "stdout",
     "output_type": "stream",
     "text": [
      "1100:\tlearn: 0.8132293\ttest: 0.7964107\tbest: 0.7964430 (1086)\ttotal: 2m 18s\tremaining: 8m 10s\n"
     ]
    },
    {
     "name": "stdout",
     "output_type": "stream",
     "text": [
      "1150:\tlearn: 0.8147554\ttest: 0.7962116\tbest: 0.7964430 (1086)\ttotal: 2m 24s\tremaining: 8m 4s\n"
     ]
    },
    {
     "name": "stdout",
     "output_type": "stream",
     "text": [
      "1200:\tlearn: 0.8160646\ttest: 0.7966419\tbest: 0.7967457 (1197)\ttotal: 2m 31s\tremaining: 7m 57s\n"
     ]
    },
    {
     "name": "stdout",
     "output_type": "stream",
     "text": [
      "1250:\tlearn: 0.8176414\ttest: 0.7963476\tbest: 0.7968883 (1220)\ttotal: 2m 37s\tremaining: 7m 51s\n"
     ]
    },
    {
     "name": "stdout",
     "output_type": "stream",
     "text": [
      "1300:\tlearn: 0.8190738\ttest: 0.7970882\tbest: 0.7970882 (1300)\ttotal: 2m 43s\tremaining: 7m 45s\n"
     ]
    },
    {
     "name": "stdout",
     "output_type": "stream",
     "text": [
      "1350:\tlearn: 0.8200189\ttest: 0.7973123\tbest: 0.7974100 (1328)\ttotal: 2m 49s\tremaining: 7m 39s\n"
     ]
    },
    {
     "name": "stdout",
     "output_type": "stream",
     "text": [
      "1400:\tlearn: 0.8213423\ttest: 0.7975869\tbest: 0.7978727 (1385)\ttotal: 2m 56s\tremaining: 7m 32s\n"
     ]
    },
    {
     "name": "stdout",
     "output_type": "stream",
     "text": [
      "1450:\tlearn: 0.8224909\ttest: 0.7971978\tbest: 0.7978727 (1385)\ttotal: 3m 2s\tremaining: 7m 26s\n"
     ]
    },
    {
     "name": "stdout",
     "output_type": "stream",
     "text": [
      "1500:\tlearn: 0.8235669\ttest: 0.7968693\tbest: 0.7978727 (1385)\ttotal: 3m 8s\tremaining: 7m 20s\n"
     ]
    },
    {
     "name": "stdout",
     "output_type": "stream",
     "text": [
      "1550:\tlearn: 0.8250631\ttest: 0.7967777\tbest: 0.7978727 (1385)\ttotal: 3m 15s\tremaining: 7m 13s\n"
     ]
    },
    {
     "name": "stdout",
     "output_type": "stream",
     "text": [
      "1600:\tlearn: 0.8262141\ttest: 0.7972604\tbest: 0.7978727 (1385)\ttotal: 3m 21s\tremaining: 7m 7s\n"
     ]
    },
    {
     "name": "stdout",
     "output_type": "stream",
     "text": [
      "1650:\tlearn: 0.8276210\ttest: 0.7968633\tbest: 0.7978727 (1385)\ttotal: 3m 27s\tremaining: 7m 1s\n"
     ]
    },
    {
     "name": "stdout",
     "output_type": "stream",
     "text": [
      "1700:\tlearn: 0.8287264\ttest: 0.7970767\tbest: 0.7978727 (1385)\ttotal: 3m 33s\tremaining: 6m 54s\n"
     ]
    },
    {
     "name": "stdout",
     "output_type": "stream",
     "text": [
      "1750:\tlearn: 0.8299953\ttest: 0.7973892\tbest: 0.7978727 (1385)\ttotal: 3m 40s\tremaining: 6m 48s\n"
     ]
    },
    {
     "name": "stdout",
     "output_type": "stream",
     "text": [
      "1800:\tlearn: 0.8313070\ttest: 0.7976490\tbest: 0.7978727 (1385)\ttotal: 3m 46s\tremaining: 6m 42s\n"
     ]
    },
    {
     "name": "stdout",
     "output_type": "stream",
     "text": [
      "1850:\tlearn: 0.8323740\ttest: 0.7974591\tbest: 0.7978733 (1818)\ttotal: 3m 52s\tremaining: 6m 36s\n"
     ]
    },
    {
     "name": "stdout",
     "output_type": "stream",
     "text": [
      "1900:\tlearn: 0.8336541\ttest: 0.7975362\tbest: 0.7978733 (1818)\ttotal: 3m 59s\tremaining: 6m 29s\n"
     ]
    },
    {
     "name": "stdout",
     "output_type": "stream",
     "text": [
      "1950:\tlearn: 0.8347071\ttest: 0.7976994\tbest: 0.7978733 (1818)\ttotal: 4m 5s\tremaining: 6m 23s\n"
     ]
    },
    {
     "name": "stdout",
     "output_type": "stream",
     "text": [
      "2000:\tlearn: 0.8357826\ttest: 0.7983062\tbest: 0.7984522 (1991)\ttotal: 4m 11s\tremaining: 6m 17s\n"
     ]
    },
    {
     "name": "stdout",
     "output_type": "stream",
     "text": [
      "2050:\tlearn: 0.8369189\ttest: 0.7979672\tbest: 0.7984522 (1991)\ttotal: 4m 18s\tremaining: 6m 10s\n"
     ]
    },
    {
     "name": "stdout",
     "output_type": "stream",
     "text": [
      "2100:\tlearn: 0.8380988\ttest: 0.7978857\tbest: 0.7984522 (1991)\ttotal: 4m 24s\tremaining: 6m 4s\n"
     ]
    },
    {
     "name": "stdout",
     "output_type": "stream",
     "text": [
      "2150:\tlearn: 0.8393623\ttest: 0.7979127\tbest: 0.7984522 (1991)\ttotal: 4m 30s\tremaining: 5m 58s\n"
     ]
    },
    {
     "name": "stdout",
     "output_type": "stream",
     "text": [
      "2200:\tlearn: 0.8402617\ttest: 0.7984557\tbest: 0.7984557 (2200)\ttotal: 4m 36s\tremaining: 5m 52s\n"
     ]
    },
    {
     "name": "stdout",
     "output_type": "stream",
     "text": [
      "2250:\tlearn: 0.8415763\ttest: 0.7982619\tbest: 0.7987180 (2228)\ttotal: 4m 43s\tremaining: 5m 45s\n"
     ]
    },
    {
     "name": "stdout",
     "output_type": "stream",
     "text": [
      "2300:\tlearn: 0.8424448\ttest: 0.7988631\tbest: 0.7989674 (2295)\ttotal: 4m 49s\tremaining: 5m 39s\n"
     ]
    },
    {
     "name": "stdout",
     "output_type": "stream",
     "text": [
      "2350:\tlearn: 0.8432942\ttest: 0.7986862\tbest: 0.7990555 (2322)\ttotal: 4m 55s\tremaining: 5m 33s\n"
     ]
    },
    {
     "name": "stdout",
     "output_type": "stream",
     "text": [
      "2400:\tlearn: 0.8445556\ttest: 0.7987191\tbest: 0.7990951 (2382)\ttotal: 5m 2s\tremaining: 5m 27s\n"
     ]
    },
    {
     "name": "stdout",
     "output_type": "stream",
     "text": [
      "2450:\tlearn: 0.8457887\ttest: 0.7984296\tbest: 0.7990951 (2382)\ttotal: 5m 8s\tremaining: 5m 20s\n"
     ]
    },
    {
     "name": "stdout",
     "output_type": "stream",
     "text": [
      "2500:\tlearn: 0.8467745\ttest: 0.7980474\tbest: 0.7990951 (2382)\ttotal: 5m 14s\tremaining: 5m 14s\n"
     ]
    },
    {
     "name": "stdout",
     "output_type": "stream",
     "text": [
      "2550:\tlearn: 0.8481195\ttest: 0.7983027\tbest: 0.7990951 (2382)\ttotal: 5m 21s\tremaining: 5m 8s\n"
     ]
    },
    {
     "name": "stdout",
     "output_type": "stream",
     "text": [
      "2600:\tlearn: 0.8491662\ttest: 0.7984624\tbest: 0.7990951 (2382)\ttotal: 5m 27s\tremaining: 5m 2s\n"
     ]
    },
    {
     "name": "stdout",
     "output_type": "stream",
     "text": [
      "2650:\tlearn: 0.8501791\ttest: 0.7987505\tbest: 0.7990951 (2382)\ttotal: 5m 33s\tremaining: 4m 55s\n"
     ]
    },
    {
     "name": "stdout",
     "output_type": "stream",
     "text": [
      "2700:\tlearn: 0.8514337\ttest: 0.7988714\tbest: 0.7990951 (2382)\ttotal: 5m 40s\tremaining: 4m 49s\n"
     ]
    },
    {
     "name": "stdout",
     "output_type": "stream",
     "text": [
      "2750:\tlearn: 0.8519776\ttest: 0.7993081\tbest: 0.7997179 (2724)\ttotal: 5m 46s\tremaining: 4m 43s\n"
     ]
    },
    {
     "name": "stdout",
     "output_type": "stream",
     "text": [
      "2800:\tlearn: 0.8531162\ttest: 0.7989834\tbest: 0.7997179 (2724)\ttotal: 5m 52s\tremaining: 4m 37s\n"
     ]
    },
    {
     "name": "stdout",
     "output_type": "stream",
     "text": [
      "2850:\tlearn: 0.8538994\ttest: 0.7989938\tbest: 0.7997179 (2724)\ttotal: 5m 59s\tremaining: 4m 30s\n"
     ]
    },
    {
     "name": "stdout",
     "output_type": "stream",
     "text": [
      "2900:\tlearn: 0.8550274\ttest: 0.7992871\tbest: 0.7997179 (2724)\ttotal: 6m 5s\tremaining: 4m 24s\n"
     ]
    },
    {
     "name": "stdout",
     "output_type": "stream",
     "text": [
      "2950:\tlearn: 0.8558547\ttest: 0.7989936\tbest: 0.7997179 (2724)\ttotal: 6m 11s\tremaining: 4m 18s\n"
     ]
    },
    {
     "name": "stdout",
     "output_type": "stream",
     "text": [
      "3000:\tlearn: 0.8570406\ttest: 0.7986858\tbest: 0.7997179 (2724)\ttotal: 6m 17s\tremaining: 4m 11s\n"
     ]
    },
    {
     "name": "stdout",
     "output_type": "stream",
     "text": [
      "3050:\tlearn: 0.8581326\ttest: 0.7992792\tbest: 0.7997179 (2724)\ttotal: 6m 24s\tremaining: 4m 5s\n"
     ]
    },
    {
     "name": "stdout",
     "output_type": "stream",
     "text": [
      "3100:\tlearn: 0.8591238\ttest: 0.7994321\tbest: 0.7997179 (2724)\ttotal: 6m 30s\tremaining: 3m 59s\n"
     ]
    },
    {
     "name": "stdout",
     "output_type": "stream",
     "text": [
      "3150:\tlearn: 0.8600775\ttest: 0.7996092\tbest: 0.7997179 (2724)\ttotal: 6m 36s\tremaining: 3m 52s\n"
     ]
    },
    {
     "name": "stdout",
     "output_type": "stream",
     "text": [
      "3200:\tlearn: 0.8610715\ttest: 0.7993078\tbest: 0.7997179 (2724)\ttotal: 6m 42s\tremaining: 3m 46s\n"
     ]
    },
    {
     "name": "stdout",
     "output_type": "stream",
     "text": [
      "3250:\tlearn: 0.8622800\ttest: 0.7994633\tbest: 0.7997179 (2724)\ttotal: 6m 49s\tremaining: 3m 40s\n"
     ]
    },
    {
     "name": "stdout",
     "output_type": "stream",
     "text": [
      "3300:\tlearn: 0.8633090\ttest: 0.7997481\tbest: 0.7997483 (3298)\ttotal: 6m 55s\tremaining: 3m 33s\n"
     ]
    },
    {
     "name": "stdout",
     "output_type": "stream",
     "text": [
      "3350:\tlearn: 0.8641991\ttest: 0.7993428\tbest: 0.7998322 (3306)\ttotal: 7m 1s\tremaining: 3m 27s\n"
     ]
    },
    {
     "name": "stdout",
     "output_type": "stream",
     "text": [
      "3400:\tlearn: 0.8650215\ttest: 0.7993353\tbest: 0.7998322 (3306)\ttotal: 7m 7s\tremaining: 3m 21s\n"
     ]
    },
    {
     "name": "stdout",
     "output_type": "stream",
     "text": [
      "3450:\tlearn: 0.8660237\ttest: 0.7993835\tbest: 0.7998322 (3306)\ttotal: 7m 14s\tremaining: 3m 14s\n"
     ]
    },
    {
     "name": "stdout",
     "output_type": "stream",
     "text": [
      "3500:\tlearn: 0.8668885\ttest: 0.7993660\tbest: 0.7998322 (3306)\ttotal: 7m 20s\tremaining: 3m 8s\n"
     ]
    },
    {
     "name": "stdout",
     "output_type": "stream",
     "text": [
      "3550:\tlearn: 0.8677082\ttest: 0.7996912\tbest: 0.7998322 (3306)\ttotal: 7m 26s\tremaining: 3m 2s\n"
     ]
    },
    {
     "name": "stdout",
     "output_type": "stream",
     "text": [
      "3600:\tlearn: 0.8688955\ttest: 0.7998367\tbest: 0.8000051 (3598)\ttotal: 7m 33s\tremaining: 2m 56s\n"
     ]
    },
    {
     "name": "stdout",
     "output_type": "stream",
     "text": [
      "3650:\tlearn: 0.8696769\ttest: 0.7992070\tbest: 0.8000258 (3604)\ttotal: 7m 39s\tremaining: 2m 49s\n"
     ]
    },
    {
     "name": "stdout",
     "output_type": "stream",
     "text": [
      "3700:\tlearn: 0.8704555\ttest: 0.7994174\tbest: 0.8000258 (3604)\ttotal: 7m 45s\tremaining: 2m 43s\n"
     ]
    },
    {
     "name": "stdout",
     "output_type": "stream",
     "text": [
      "3750:\tlearn: 0.8714554\ttest: 0.7993825\tbest: 0.8000258 (3604)\ttotal: 7m 51s\tremaining: 2m 37s\n"
     ]
    },
    {
     "name": "stdout",
     "output_type": "stream",
     "text": [
      "3800:\tlearn: 0.8725301\ttest: 0.7999674\tbest: 0.8001804 (3796)\ttotal: 7m 58s\tremaining: 2m 30s\n"
     ]
    },
    {
     "name": "stdout",
     "output_type": "stream",
     "text": [
      "3850:\tlearn: 0.8735969\ttest: 0.7996354\tbest: 0.8002654 (3809)\ttotal: 8m 4s\tremaining: 2m 24s\n"
     ]
    },
    {
     "name": "stdout",
     "output_type": "stream",
     "text": [
      "3900:\tlearn: 0.8745567\ttest: 0.7998575\tbest: 0.8002654 (3809)\ttotal: 8m 10s\tremaining: 2m 18s\n"
     ]
    },
    {
     "name": "stdout",
     "output_type": "stream",
     "text": [
      "3950:\tlearn: 0.8756198\ttest: 0.7991832\tbest: 0.8002654 (3809)\ttotal: 8m 17s\tremaining: 2m 11s\n"
     ]
    },
    {
     "name": "stdout",
     "output_type": "stream",
     "text": [
      "4000:\tlearn: 0.8764697\ttest: 0.7993526\tbest: 0.8002654 (3809)\ttotal: 8m 23s\tremaining: 2m 5s\n"
     ]
    },
    {
     "name": "stdout",
     "output_type": "stream",
     "text": [
      "4050:\tlearn: 0.8771480\ttest: 0.7991339\tbest: 0.8002654 (3809)\ttotal: 8m 29s\tremaining: 1m 59s\n"
     ]
    },
    {
     "name": "stdout",
     "output_type": "stream",
     "text": [
      "4100:\tlearn: 0.8780361\ttest: 0.7993815\tbest: 0.8002654 (3809)\ttotal: 8m 35s\tremaining: 1m 53s\n"
     ]
    },
    {
     "name": "stdout",
     "output_type": "stream",
     "text": [
      "4150:\tlearn: 0.8786217\ttest: 0.7991933\tbest: 0.8002654 (3809)\ttotal: 8m 42s\tremaining: 1m 46s\n"
     ]
    },
    {
     "name": "stdout",
     "output_type": "stream",
     "text": [
      "4200:\tlearn: 0.8796144\ttest: 0.7994926\tbest: 0.8002654 (3809)\ttotal: 8m 48s\tremaining: 1m 40s\n"
     ]
    },
    {
     "name": "stdout",
     "output_type": "stream",
     "text": [
      "4250:\tlearn: 0.8806585\ttest: 0.7997605\tbest: 0.8002654 (3809)\ttotal: 8m 54s\tremaining: 1m 34s\n"
     ]
    },
    {
     "name": "stdout",
     "output_type": "stream",
     "text": [
      "4300:\tlearn: 0.8814659\ttest: 0.7990295\tbest: 0.8002654 (3809)\ttotal: 9m 1s\tremaining: 1m 27s\n"
     ]
    },
    {
     "name": "stdout",
     "output_type": "stream",
     "text": [
      "4350:\tlearn: 0.8824520\ttest: 0.7991648\tbest: 0.8002654 (3809)\ttotal: 9m 7s\tremaining: 1m 21s\n"
     ]
    },
    {
     "name": "stdout",
     "output_type": "stream",
     "text": [
      "4400:\tlearn: 0.8832016\ttest: 0.7993543\tbest: 0.8002654 (3809)\ttotal: 9m 13s\tremaining: 1m 15s\n"
     ]
    },
    {
     "name": "stdout",
     "output_type": "stream",
     "text": [
      "4450:\tlearn: 0.8839979\ttest: 0.7992109\tbest: 0.8002654 (3809)\ttotal: 9m 19s\tremaining: 1m 9s\n"
     ]
    },
    {
     "name": "stdout",
     "output_type": "stream",
     "text": [
      "4500:\tlearn: 0.8848539\ttest: 0.7996700\tbest: 0.8002654 (3809)\ttotal: 9m 26s\tremaining: 1m 2s\n"
     ]
    },
    {
     "name": "stdout",
     "output_type": "stream",
     "text": [
      "4550:\tlearn: 0.8857066\ttest: 0.7994129\tbest: 0.8002654 (3809)\ttotal: 9m 32s\tremaining: 56.5s\n"
     ]
    },
    {
     "name": "stdout",
     "output_type": "stream",
     "text": [
      "4600:\tlearn: 0.8863713\ttest: 0.7994333\tbest: 0.8002654 (3809)\ttotal: 9m 38s\tremaining: 50.2s\n"
     ]
    },
    {
     "name": "stdout",
     "output_type": "stream",
     "text": [
      "4650:\tlearn: 0.8871920\ttest: 0.7990523\tbest: 0.8002654 (3809)\ttotal: 9m 45s\tremaining: 43.9s\n"
     ]
    },
    {
     "name": "stdout",
     "output_type": "stream",
     "text": [
      "4700:\tlearn: 0.8880994\ttest: 0.7993247\tbest: 0.8002654 (3809)\ttotal: 9m 51s\tremaining: 37.6s\n"
     ]
    },
    {
     "name": "stdout",
     "output_type": "stream",
     "text": [
      "4750:\tlearn: 0.8891519\ttest: 0.7994211\tbest: 0.8002654 (3809)\ttotal: 9m 57s\tremaining: 31.3s\n"
     ]
    },
    {
     "name": "stdout",
     "output_type": "stream",
     "text": [
      "4800:\tlearn: 0.8898518\ttest: 0.7996280\tbest: 0.8002654 (3809)\ttotal: 10m 4s\tremaining: 25s\n"
     ]
    },
    {
     "name": "stdout",
     "output_type": "stream",
     "text": [
      "4850:\tlearn: 0.8905744\ttest: 0.7991533\tbest: 0.8002654 (3809)\ttotal: 10m 10s\tremaining: 18.7s\n"
     ]
    },
    {
     "name": "stdout",
     "output_type": "stream",
     "text": [
      "4900:\tlearn: 0.8914249\ttest: 0.7994332\tbest: 0.8002654 (3809)\ttotal: 10m 16s\tremaining: 12.5s\n"
     ]
    },
    {
     "name": "stdout",
     "output_type": "stream",
     "text": [
      "4950:\tlearn: 0.8921595\ttest: 0.7992590\tbest: 0.8002654 (3809)\ttotal: 10m 23s\tremaining: 6.17s\n"
     ]
    },
    {
     "name": "stdout",
     "output_type": "stream",
     "text": [
      "4999:\tlearn: 0.8928359\ttest: 0.7989905\tbest: 0.8002654 (3809)\ttotal: 10m 29s\tremaining: 0us\n",
      "\n",
      "bestTest = 0.800265383\n",
      "bestIteration = 3809\n",
      "\n"
     ]
    },
    {
     "name": "stdout",
     "output_type": "stream",
     "text": [
      "######################################## training model 4/5 ########################################\n",
      "seed: 18\n"
     ]
    },
    {
     "name": "stdout",
     "output_type": "stream",
     "text": [
      "0:\tlearn: 0.5924704\ttest: 0.5928456\tbest: 0.5928456 (0)\ttotal: 526ms\tremaining: 43m 50s\n"
     ]
    },
    {
     "name": "stdout",
     "output_type": "stream",
     "text": [
      "50:\tlearn: 0.7402063\ttest: 0.7435435\tbest: 0.7435435 (50)\ttotal: 7.35s\tremaining: 11m 53s\n"
     ]
    },
    {
     "name": "stdout",
     "output_type": "stream",
     "text": [
      "100:\tlearn: 0.7561416\ttest: 0.7567538\tbest: 0.7567538 (100)\ttotal: 13.8s\tremaining: 11m 9s\n"
     ]
    },
    {
     "name": "stdout",
     "output_type": "stream",
     "text": [
      "150:\tlearn: 0.7631473\ttest: 0.7618197\tbest: 0.7618456 (144)\ttotal: 20.1s\tremaining: 10m 44s\n"
     ]
    },
    {
     "name": "stdout",
     "output_type": "stream",
     "text": [
      "200:\tlearn: 0.7680430\ttest: 0.7661120\tbest: 0.7663092 (198)\ttotal: 26.4s\tremaining: 10m 31s\n"
     ]
    },
    {
     "name": "stdout",
     "output_type": "stream",
     "text": [
      "250:\tlearn: 0.7711847\ttest: 0.7690750\tbest: 0.7692978 (248)\ttotal: 32.7s\tremaining: 10m 18s\n"
     ]
    },
    {
     "name": "stdout",
     "output_type": "stream",
     "text": [
      "300:\tlearn: 0.7754344\ttest: 0.7728405\tbest: 0.7728405 (300)\ttotal: 39.3s\tremaining: 10m 12s\n"
     ]
    },
    {
     "name": "stdout",
     "output_type": "stream",
     "text": [
      "350:\tlearn: 0.7815303\ttest: 0.7801003\tbest: 0.7802076 (349)\ttotal: 46s\tremaining: 10m 9s\n"
     ]
    },
    {
     "name": "stdout",
     "output_type": "stream",
     "text": [
      "400:\tlearn: 0.7864390\ttest: 0.7822238\tbest: 0.7822836 (388)\ttotal: 52.7s\tremaining: 10m 4s\n"
     ]
    },
    {
     "name": "stdout",
     "output_type": "stream",
     "text": [
      "450:\tlearn: 0.7895674\ttest: 0.7843453\tbest: 0.7845618 (448)\ttotal: 59.2s\tremaining: 9m 57s\n"
     ]
    },
    {
     "name": "stdout",
     "output_type": "stream",
     "text": [
      "500:\tlearn: 0.7924514\ttest: 0.7855073\tbest: 0.7855291 (495)\ttotal: 1m 5s\tremaining: 9m 49s\n"
     ]
    },
    {
     "name": "stdout",
     "output_type": "stream",
     "text": [
      "550:\tlearn: 0.7950457\ttest: 0.7865251\tbest: 0.7865251 (550)\ttotal: 1m 11s\tremaining: 9m 41s\n"
     ]
    },
    {
     "name": "stdout",
     "output_type": "stream",
     "text": [
      "600:\tlearn: 0.7972101\ttest: 0.7869910\tbest: 0.7871849 (583)\ttotal: 1m 18s\tremaining: 9m 33s\n"
     ]
    },
    {
     "name": "stdout",
     "output_type": "stream",
     "text": [
      "650:\tlearn: 0.7994897\ttest: 0.7884937\tbest: 0.7885192 (644)\ttotal: 1m 24s\tremaining: 9m 25s\n"
     ]
    },
    {
     "name": "stdout",
     "output_type": "stream",
     "text": [
      "700:\tlearn: 0.8012698\ttest: 0.7891637\tbest: 0.7893260 (691)\ttotal: 1m 30s\tremaining: 9m 17s\n"
     ]
    },
    {
     "name": "stdout",
     "output_type": "stream",
     "text": [
      "750:\tlearn: 0.8028925\ttest: 0.7894862\tbest: 0.7896176 (733)\ttotal: 1m 37s\tremaining: 9m 9s\n"
     ]
    },
    {
     "name": "stdout",
     "output_type": "stream",
     "text": [
      "800:\tlearn: 0.8045489\ttest: 0.7902637\tbest: 0.7904260 (796)\ttotal: 1m 43s\tremaining: 9m 2s\n"
     ]
    },
    {
     "name": "stdout",
     "output_type": "stream",
     "text": [
      "850:\tlearn: 0.8061310\ttest: 0.7905125\tbest: 0.7906293 (846)\ttotal: 1m 49s\tremaining: 8m 54s\n"
     ]
    },
    {
     "name": "stdout",
     "output_type": "stream",
     "text": [
      "900:\tlearn: 0.8073734\ttest: 0.7907744\tbest: 0.7908969 (898)\ttotal: 1m 55s\tremaining: 8m 47s\n"
     ]
    },
    {
     "name": "stdout",
     "output_type": "stream",
     "text": [
      "950:\tlearn: 0.8089696\ttest: 0.7912219\tbest: 0.7915539 (948)\ttotal: 2m 2s\tremaining: 8m 40s\n"
     ]
    },
    {
     "name": "stdout",
     "output_type": "stream",
     "text": [
      "1000:\tlearn: 0.8102986\ttest: 0.7917367\tbest: 0.7917412 (963)\ttotal: 2m 8s\tremaining: 8m 33s\n"
     ]
    },
    {
     "name": "stdout",
     "output_type": "stream",
     "text": [
      "1050:\tlearn: 0.8118328\ttest: 0.7913583\tbest: 0.7917412 (963)\ttotal: 2m 14s\tremaining: 8m 26s\n"
     ]
    },
    {
     "name": "stdout",
     "output_type": "stream",
     "text": [
      "1100:\tlearn: 0.8132135\ttest: 0.7913043\tbest: 0.7917412 (963)\ttotal: 2m 21s\tremaining: 8m 19s\n"
     ]
    },
    {
     "name": "stdout",
     "output_type": "stream",
     "text": [
      "1150:\tlearn: 0.8145963\ttest: 0.7915665\tbest: 0.7918782 (1146)\ttotal: 2m 27s\tremaining: 8m 12s\n"
     ]
    },
    {
     "name": "stdout",
     "output_type": "stream",
     "text": [
      "1200:\tlearn: 0.8158193\ttest: 0.7921172\tbest: 0.7922422 (1183)\ttotal: 2m 33s\tremaining: 8m 6s\n"
     ]
    },
    {
     "name": "stdout",
     "output_type": "stream",
     "text": [
      "1250:\tlearn: 0.8171922\ttest: 0.7924157\tbest: 0.7926197 (1245)\ttotal: 2m 39s\tremaining: 7m 59s\n"
     ]
    },
    {
     "name": "stdout",
     "output_type": "stream",
     "text": [
      "1300:\tlearn: 0.8184386\ttest: 0.7920880\tbest: 0.7926197 (1245)\ttotal: 2m 46s\tremaining: 7m 52s\n"
     ]
    },
    {
     "name": "stdout",
     "output_type": "stream",
     "text": [
      "1350:\tlearn: 0.8193513\ttest: 0.7924961\tbest: 0.7926197 (1245)\ttotal: 2m 52s\tremaining: 7m 46s\n"
     ]
    },
    {
     "name": "stdout",
     "output_type": "stream",
     "text": [
      "1400:\tlearn: 0.8205867\ttest: 0.7923953\tbest: 0.7927285 (1397)\ttotal: 2m 58s\tremaining: 7m 39s\n"
     ]
    },
    {
     "name": "stdout",
     "output_type": "stream",
     "text": [
      "1450:\tlearn: 0.8215374\ttest: 0.7918702\tbest: 0.7927333 (1404)\ttotal: 3m 5s\tremaining: 7m 32s\n"
     ]
    },
    {
     "name": "stdout",
     "output_type": "stream",
     "text": [
      "1500:\tlearn: 0.8228143\ttest: 0.7917313\tbest: 0.7927333 (1404)\ttotal: 3m 11s\tremaining: 7m 26s\n"
     ]
    },
    {
     "name": "stdout",
     "output_type": "stream",
     "text": [
      "1550:\tlearn: 0.8241660\ttest: 0.7923311\tbest: 0.7927333 (1404)\ttotal: 3m 17s\tremaining: 7m 19s\n"
     ]
    },
    {
     "name": "stdout",
     "output_type": "stream",
     "text": [
      "1600:\tlearn: 0.8254777\ttest: 0.7921597\tbest: 0.7927333 (1404)\ttotal: 3m 23s\tremaining: 7m 12s\n"
     ]
    },
    {
     "name": "stdout",
     "output_type": "stream",
     "text": [
      "1650:\tlearn: 0.8263671\ttest: 0.7923765\tbest: 0.7927333 (1404)\ttotal: 3m 30s\tremaining: 7m 6s\n"
     ]
    },
    {
     "name": "stdout",
     "output_type": "stream",
     "text": [
      "1700:\tlearn: 0.8276345\ttest: 0.7921039\tbest: 0.7927333 (1404)\ttotal: 3m 36s\tremaining: 6m 59s\n"
     ]
    },
    {
     "name": "stdout",
     "output_type": "stream",
     "text": [
      "1750:\tlearn: 0.8287645\ttest: 0.7924569\tbest: 0.7927333 (1404)\ttotal: 3m 42s\tremaining: 6m 53s\n"
     ]
    },
    {
     "name": "stdout",
     "output_type": "stream",
     "text": [
      "1800:\tlearn: 0.8297679\ttest: 0.7922092\tbest: 0.7927333 (1404)\ttotal: 3m 48s\tremaining: 6m 46s\n"
     ]
    },
    {
     "name": "stdout",
     "output_type": "stream",
     "text": [
      "1850:\tlearn: 0.8305803\ttest: 0.7923464\tbest: 0.7927333 (1404)\ttotal: 3m 55s\tremaining: 6m 40s\n"
     ]
    },
    {
     "name": "stdout",
     "output_type": "stream",
     "text": [
      "1900:\tlearn: 0.8316412\ttest: 0.7920643\tbest: 0.7927333 (1404)\ttotal: 4m 1s\tremaining: 6m 33s\n"
     ]
    },
    {
     "name": "stdout",
     "output_type": "stream",
     "text": [
      "1950:\tlearn: 0.8327722\ttest: 0.7919074\tbest: 0.7927333 (1404)\ttotal: 4m 7s\tremaining: 6m 27s\n"
     ]
    },
    {
     "name": "stdout",
     "output_type": "stream",
     "text": [
      "2000:\tlearn: 0.8335605\ttest: 0.7921131\tbest: 0.7927333 (1404)\ttotal: 4m 14s\tremaining: 6m 20s\n"
     ]
    },
    {
     "name": "stdout",
     "output_type": "stream",
     "text": [
      "2050:\tlearn: 0.8346983\ttest: 0.7925448\tbest: 0.7927333 (1404)\ttotal: 4m 20s\tremaining: 6m 14s\n"
     ]
    },
    {
     "name": "stdout",
     "output_type": "stream",
     "text": [
      "2100:\tlearn: 0.8359359\ttest: 0.7923955\tbest: 0.7928220 (2066)\ttotal: 4m 26s\tremaining: 6m 7s\n"
     ]
    },
    {
     "name": "stdout",
     "output_type": "stream",
     "text": [
      "2150:\tlearn: 0.8371183\ttest: 0.7929806\tbest: 0.7929806 (2150)\ttotal: 4m 32s\tremaining: 6m 1s\n"
     ]
    },
    {
     "name": "stdout",
     "output_type": "stream",
     "text": [
      "2200:\tlearn: 0.8379929\ttest: 0.7931419\tbest: 0.7932049 (2196)\ttotal: 4m 39s\tremaining: 5m 55s\n"
     ]
    },
    {
     "name": "stdout",
     "output_type": "stream",
     "text": [
      "2250:\tlearn: 0.8390100\ttest: 0.7934681\tbest: 0.7935918 (2245)\ttotal: 4m 45s\tremaining: 5m 48s\n"
     ]
    },
    {
     "name": "stdout",
     "output_type": "stream",
     "text": [
      "2300:\tlearn: 0.8398897\ttest: 0.7930155\tbest: 0.7935959 (2251)\ttotal: 4m 51s\tremaining: 5m 42s\n"
     ]
    },
    {
     "name": "stdout",
     "output_type": "stream",
     "text": [
      "2350:\tlearn: 0.8410128\ttest: 0.7931020\tbest: 0.7935959 (2251)\ttotal: 4m 58s\tremaining: 5m 35s\n"
     ]
    },
    {
     "name": "stdout",
     "output_type": "stream",
     "text": [
      "2400:\tlearn: 0.8420253\ttest: 0.7930697\tbest: 0.7935959 (2251)\ttotal: 5m 4s\tremaining: 5m 29s\n"
     ]
    },
    {
     "name": "stdout",
     "output_type": "stream",
     "text": [
      "2450:\tlearn: 0.8431536\ttest: 0.7932505\tbest: 0.7936500 (2445)\ttotal: 5m 10s\tremaining: 5m 22s\n"
     ]
    },
    {
     "name": "stdout",
     "output_type": "stream",
     "text": [
      "2500:\tlearn: 0.8442138\ttest: 0.7936635\tbest: 0.7936960 (2471)\ttotal: 5m 16s\tremaining: 5m 16s\n"
     ]
    },
    {
     "name": "stdout",
     "output_type": "stream",
     "text": [
      "2550:\tlearn: 0.8448533\ttest: 0.7933332\tbest: 0.7937892 (2503)\ttotal: 5m 23s\tremaining: 5m 10s\n"
     ]
    },
    {
     "name": "stdout",
     "output_type": "stream",
     "text": [
      "2600:\tlearn: 0.8459685\ttest: 0.7936101\tbest: 0.7937996 (2599)\ttotal: 5m 29s\tremaining: 5m 3s\n"
     ]
    },
    {
     "name": "stdout",
     "output_type": "stream",
     "text": [
      "2650:\tlearn: 0.8468290\ttest: 0.7934066\tbest: 0.7940715 (2614)\ttotal: 5m 35s\tremaining: 4m 57s\n"
     ]
    },
    {
     "name": "stdout",
     "output_type": "stream",
     "text": [
      "2700:\tlearn: 0.8479068\ttest: 0.7939422\tbest: 0.7940715 (2614)\ttotal: 5m 41s\tremaining: 4m 50s\n"
     ]
    },
    {
     "name": "stdout",
     "output_type": "stream",
     "text": [
      "2750:\tlearn: 0.8488402\ttest: 0.7939706\tbest: 0.7940715 (2614)\ttotal: 5m 48s\tremaining: 4m 44s\n"
     ]
    },
    {
     "name": "stdout",
     "output_type": "stream",
     "text": [
      "2800:\tlearn: 0.8500520\ttest: 0.7940734\tbest: 0.7942419 (2787)\ttotal: 5m 54s\tremaining: 4m 38s\n"
     ]
    },
    {
     "name": "stdout",
     "output_type": "stream",
     "text": [
      "2850:\tlearn: 0.8509932\ttest: 0.7938417\tbest: 0.7942419 (2787)\ttotal: 6m\tremaining: 4m 31s\n"
     ]
    },
    {
     "name": "stdout",
     "output_type": "stream",
     "text": [
      "2900:\tlearn: 0.8521183\ttest: 0.7942479\tbest: 0.7942479 (2900)\ttotal: 6m 6s\tremaining: 4m 25s\n"
     ]
    },
    {
     "name": "stdout",
     "output_type": "stream",
     "text": [
      "2950:\tlearn: 0.8531619\ttest: 0.7940123\tbest: 0.7943326 (2901)\ttotal: 6m 13s\tremaining: 4m 19s\n"
     ]
    },
    {
     "name": "stdout",
     "output_type": "stream",
     "text": [
      "3000:\tlearn: 0.8540795\ttest: 0.7938829\tbest: 0.7943326 (2901)\ttotal: 6m 19s\tremaining: 4m 12s\n"
     ]
    },
    {
     "name": "stdout",
     "output_type": "stream",
     "text": [
      "3050:\tlearn: 0.8548100\ttest: 0.7940190\tbest: 0.7945210 (3029)\ttotal: 6m 25s\tremaining: 4m 6s\n"
     ]
    },
    {
     "name": "stdout",
     "output_type": "stream",
     "text": [
      "3100:\tlearn: 0.8557743\ttest: 0.7940257\tbest: 0.7945210 (3029)\ttotal: 6m 31s\tremaining: 3m 59s\n"
     ]
    },
    {
     "name": "stdout",
     "output_type": "stream",
     "text": [
      "3150:\tlearn: 0.8570100\ttest: 0.7941388\tbest: 0.7945210 (3029)\ttotal: 6m 38s\tremaining: 3m 53s\n"
     ]
    },
    {
     "name": "stdout",
     "output_type": "stream",
     "text": [
      "3200:\tlearn: 0.8580325\ttest: 0.7938224\tbest: 0.7945210 (3029)\ttotal: 6m 44s\tremaining: 3m 47s\n"
     ]
    },
    {
     "name": "stdout",
     "output_type": "stream",
     "text": [
      "3250:\tlearn: 0.8586664\ttest: 0.7940179\tbest: 0.7945210 (3029)\ttotal: 6m 50s\tremaining: 3m 40s\n"
     ]
    },
    {
     "name": "stdout",
     "output_type": "stream",
     "text": [
      "3300:\tlearn: 0.8596357\ttest: 0.7945144\tbest: 0.7947695 (3275)\ttotal: 6m 56s\tremaining: 3m 34s\n"
     ]
    },
    {
     "name": "stdout",
     "output_type": "stream",
     "text": [
      "3350:\tlearn: 0.8605192\ttest: 0.7945893\tbest: 0.7948580 (3317)\ttotal: 7m 2s\tremaining: 3m 28s\n"
     ]
    },
    {
     "name": "stdout",
     "output_type": "stream",
     "text": [
      "3400:\tlearn: 0.8613019\ttest: 0.7945263\tbest: 0.7948580 (3317)\ttotal: 7m 9s\tremaining: 3m 21s\n"
     ]
    },
    {
     "name": "stdout",
     "output_type": "stream",
     "text": [
      "3450:\tlearn: 0.8622933\ttest: 0.7945741\tbest: 0.7948580 (3317)\ttotal: 7m 15s\tremaining: 3m 15s\n"
     ]
    },
    {
     "name": "stdout",
     "output_type": "stream",
     "text": [
      "3500:\tlearn: 0.8631874\ttest: 0.7948534\tbest: 0.7948746 (3497)\ttotal: 7m 21s\tremaining: 3m 9s\n"
     ]
    },
    {
     "name": "stdout",
     "output_type": "stream",
     "text": [
      "3550:\tlearn: 0.8640327\ttest: 0.7947583\tbest: 0.7948992 (3516)\ttotal: 7m 27s\tremaining: 3m 2s\n"
     ]
    },
    {
     "name": "stdout",
     "output_type": "stream",
     "text": [
      "3600:\tlearn: 0.8651499\ttest: 0.7943201\tbest: 0.7948992 (3516)\ttotal: 7m 34s\tremaining: 2m 56s\n"
     ]
    },
    {
     "name": "stdout",
     "output_type": "stream",
     "text": [
      "3650:\tlearn: 0.8660470\ttest: 0.7944948\tbest: 0.7949131 (3641)\ttotal: 7m 40s\tremaining: 2m 50s\n"
     ]
    },
    {
     "name": "stdout",
     "output_type": "stream",
     "text": [
      "3700:\tlearn: 0.8670477\ttest: 0.7948235\tbest: 0.7950636 (3674)\ttotal: 7m 46s\tremaining: 2m 43s\n"
     ]
    },
    {
     "name": "stdout",
     "output_type": "stream",
     "text": [
      "3750:\tlearn: 0.8679938\ttest: 0.7948884\tbest: 0.7950636 (3674)\ttotal: 7m 52s\tremaining: 2m 37s\n"
     ]
    },
    {
     "name": "stdout",
     "output_type": "stream",
     "text": [
      "3800:\tlearn: 0.8687260\ttest: 0.7950443\tbest: 0.7950878 (3798)\ttotal: 7m 59s\tremaining: 2m 31s\n"
     ]
    },
    {
     "name": "stdout",
     "output_type": "stream",
     "text": [
      "3850:\tlearn: 0.8698558\ttest: 0.7952306\tbest: 0.7952765 (3835)\ttotal: 8m 5s\tremaining: 2m 24s\n"
     ]
    },
    {
     "name": "stdout",
     "output_type": "stream",
     "text": [
      "3900:\tlearn: 0.8706496\ttest: 0.7952341\tbest: 0.7954447 (3869)\ttotal: 8m 11s\tremaining: 2m 18s\n"
     ]
    },
    {
     "name": "stdout",
     "output_type": "stream",
     "text": [
      "3950:\tlearn: 0.8715476\ttest: 0.7953479\tbest: 0.7955542 (3943)\ttotal: 8m 17s\tremaining: 2m 12s\n"
     ]
    },
    {
     "name": "stdout",
     "output_type": "stream",
     "text": [
      "4000:\tlearn: 0.8723429\ttest: 0.7953961\tbest: 0.7955542 (3943)\ttotal: 8m 24s\tremaining: 2m 5s\n"
     ]
    },
    {
     "name": "stdout",
     "output_type": "stream",
     "text": [
      "4050:\tlearn: 0.8732974\ttest: 0.7954206\tbest: 0.7955542 (3943)\ttotal: 8m 30s\tremaining: 1m 59s\n"
     ]
    },
    {
     "name": "stdout",
     "output_type": "stream",
     "text": [
      "4100:\tlearn: 0.8741690\ttest: 0.7952145\tbest: 0.7955542 (3943)\ttotal: 8m 36s\tremaining: 1m 53s\n"
     ]
    },
    {
     "name": "stdout",
     "output_type": "stream",
     "text": [
      "4150:\tlearn: 0.8749701\ttest: 0.7949939\tbest: 0.7955542 (3943)\ttotal: 8m 42s\tremaining: 1m 46s\n"
     ]
    },
    {
     "name": "stdout",
     "output_type": "stream",
     "text": [
      "4200:\tlearn: 0.8759531\ttest: 0.7950032\tbest: 0.7955542 (3943)\ttotal: 8m 49s\tremaining: 1m 40s\n"
     ]
    },
    {
     "name": "stdout",
     "output_type": "stream",
     "text": [
      "4250:\tlearn: 0.8767940\ttest: 0.7949010\tbest: 0.7955542 (3943)\ttotal: 8m 55s\tremaining: 1m 34s\n"
     ]
    },
    {
     "name": "stdout",
     "output_type": "stream",
     "text": [
      "4300:\tlearn: 0.8775503\ttest: 0.7945714\tbest: 0.7955542 (3943)\ttotal: 9m 1s\tremaining: 1m 28s\n"
     ]
    },
    {
     "name": "stdout",
     "output_type": "stream",
     "text": [
      "4350:\tlearn: 0.8786870\ttest: 0.7950189\tbest: 0.7955542 (3943)\ttotal: 9m 8s\tremaining: 1m 21s\n"
     ]
    },
    {
     "name": "stdout",
     "output_type": "stream",
     "text": [
      "4400:\tlearn: 0.8793558\ttest: 0.7948979\tbest: 0.7955542 (3943)\ttotal: 9m 14s\tremaining: 1m 15s\n"
     ]
    },
    {
     "name": "stdout",
     "output_type": "stream",
     "text": [
      "4450:\tlearn: 0.8802741\ttest: 0.7945993\tbest: 0.7955542 (3943)\ttotal: 9m 20s\tremaining: 1m 9s\n"
     ]
    },
    {
     "name": "stdout",
     "output_type": "stream",
     "text": [
      "4500:\tlearn: 0.8809577\ttest: 0.7951524\tbest: 0.7955542 (3943)\ttotal: 9m 26s\tremaining: 1m 2s\n"
     ]
    },
    {
     "name": "stdout",
     "output_type": "stream",
     "text": [
      "4550:\tlearn: 0.8819460\ttest: 0.7953196\tbest: 0.7955542 (3943)\ttotal: 9m 33s\tremaining: 56.6s\n"
     ]
    },
    {
     "name": "stdout",
     "output_type": "stream",
     "text": [
      "4600:\tlearn: 0.8826652\ttest: 0.7948590\tbest: 0.7955542 (3943)\ttotal: 9m 39s\tremaining: 50.3s\n"
     ]
    },
    {
     "name": "stdout",
     "output_type": "stream",
     "text": [
      "4650:\tlearn: 0.8837048\ttest: 0.7946342\tbest: 0.7955542 (3943)\ttotal: 9m 45s\tremaining: 44s\n"
     ]
    },
    {
     "name": "stdout",
     "output_type": "stream",
     "text": [
      "4700:\tlearn: 0.8842835\ttest: 0.7944769\tbest: 0.7955542 (3943)\ttotal: 9m 52s\tremaining: 37.7s\n"
     ]
    },
    {
     "name": "stdout",
     "output_type": "stream",
     "text": [
      "4750:\tlearn: 0.8851052\ttest: 0.7944612\tbest: 0.7955542 (3943)\ttotal: 9m 58s\tremaining: 31.4s\n"
     ]
    },
    {
     "name": "stdout",
     "output_type": "stream",
     "text": [
      "4800:\tlearn: 0.8856470\ttest: 0.7940609\tbest: 0.7955542 (3943)\ttotal: 10m 4s\tremaining: 25.1s\n"
     ]
    },
    {
     "name": "stdout",
     "output_type": "stream",
     "text": [
      "4850:\tlearn: 0.8864035\ttest: 0.7940851\tbest: 0.7955542 (3943)\ttotal: 10m 11s\tremaining: 18.8s\n"
     ]
    },
    {
     "name": "stdout",
     "output_type": "stream",
     "text": [
      "4900:\tlearn: 0.8872211\ttest: 0.7942370\tbest: 0.7955542 (3943)\ttotal: 10m 17s\tremaining: 12.5s\n"
     ]
    },
    {
     "name": "stdout",
     "output_type": "stream",
     "text": [
      "4950:\tlearn: 0.8883402\ttest: 0.7941082\tbest: 0.7955542 (3943)\ttotal: 10m 23s\tremaining: 6.17s\n"
     ]
    },
    {
     "name": "stdout",
     "output_type": "stream",
     "text": [
      "4999:\tlearn: 0.8891065\ttest: 0.7942324\tbest: 0.7955542 (3943)\ttotal: 10m 29s\tremaining: 0us\n",
      "\n",
      "bestTest = 0.7955541712\n",
      "bestIteration = 3943\n",
      "\n"
     ]
    },
    {
     "name": "stdout",
     "output_type": "stream",
     "text": [
      "######################################## training model 5/5 ########################################\n",
      "seed: 19\n"
     ]
    },
    {
     "name": "stdout",
     "output_type": "stream",
     "text": [
      "0:\tlearn: 0.6141393\ttest: 0.6085740\tbest: 0.6085740 (0)\ttotal: 448ms\tremaining: 37m 18s\n"
     ]
    },
    {
     "name": "stdout",
     "output_type": "stream",
     "text": [
      "50:\tlearn: 0.7422557\ttest: 0.7376017\tbest: 0.7376017 (50)\ttotal: 6.64s\tremaining: 10m 44s\n"
     ]
    },
    {
     "name": "stdout",
     "output_type": "stream",
     "text": [
      "100:\tlearn: 0.7558348\ttest: 0.7512389\tbest: 0.7512389 (100)\ttotal: 12.9s\tremaining: 10m 25s\n"
     ]
    },
    {
     "name": "stdout",
     "output_type": "stream",
     "text": [
      "150:\tlearn: 0.7621497\ttest: 0.7570869\tbest: 0.7570869 (150)\ttotal: 19.1s\tremaining: 10m 14s\n"
     ]
    },
    {
     "name": "stdout",
     "output_type": "stream",
     "text": [
      "200:\tlearn: 0.7665794\ttest: 0.7612949\tbest: 0.7613623 (198)\ttotal: 25.4s\tremaining: 10m 5s\n"
     ]
    },
    {
     "name": "stdout",
     "output_type": "stream",
     "text": [
      "250:\tlearn: 0.7704176\ttest: 0.7645212\tbest: 0.7645212 (250)\ttotal: 31.6s\tremaining: 9m 58s\n"
     ]
    },
    {
     "name": "stdout",
     "output_type": "stream",
     "text": [
      "300:\tlearn: 0.7757749\ttest: 0.7699270\tbest: 0.7701280 (299)\ttotal: 37.9s\tremaining: 9m 51s\n"
     ]
    },
    {
     "name": "stdout",
     "output_type": "stream",
     "text": [
      "350:\tlearn: 0.7830881\ttest: 0.7758685\tbest: 0.7758685 (350)\ttotal: 44.2s\tremaining: 9m 44s\n"
     ]
    },
    {
     "name": "stdout",
     "output_type": "stream",
     "text": [
      "400:\tlearn: 0.7873453\ttest: 0.7803895\tbest: 0.7804208 (399)\ttotal: 50.4s\tremaining: 9m 38s\n"
     ]
    },
    {
     "name": "stdout",
     "output_type": "stream",
     "text": [
      "450:\tlearn: 0.7907738\ttest: 0.7823642\tbest: 0.7823795 (445)\ttotal: 56.7s\tremaining: 9m 31s\n"
     ]
    },
    {
     "name": "stdout",
     "output_type": "stream",
     "text": [
      "500:\tlearn: 0.7940387\ttest: 0.7833476\tbest: 0.7834510 (494)\ttotal: 1m 2s\tremaining: 9m 25s\n"
     ]
    },
    {
     "name": "stdout",
     "output_type": "stream",
     "text": [
      "550:\tlearn: 0.7964997\ttest: 0.7844394\tbest: 0.7845931 (543)\ttotal: 1m 9s\tremaining: 9m 19s\n"
     ]
    },
    {
     "name": "stdout",
     "output_type": "stream",
     "text": [
      "600:\tlearn: 0.7985641\ttest: 0.7846203\tbest: 0.7849533 (593)\ttotal: 1m 15s\tremaining: 9m 13s\n"
     ]
    },
    {
     "name": "stdout",
     "output_type": "stream",
     "text": [
      "650:\tlearn: 0.8006502\ttest: 0.7855487\tbest: 0.7855487 (650)\ttotal: 1m 21s\tremaining: 9m 6s\n"
     ]
    },
    {
     "name": "stdout",
     "output_type": "stream",
     "text": [
      "700:\tlearn: 0.8022699\ttest: 0.7866775\tbest: 0.7869832 (696)\ttotal: 1m 28s\tremaining: 9m\n"
     ]
    },
    {
     "name": "stdout",
     "output_type": "stream",
     "text": [
      "750:\tlearn: 0.8038899\ttest: 0.7872259\tbest: 0.7875398 (749)\ttotal: 1m 34s\tremaining: 8m 54s\n"
     ]
    },
    {
     "name": "stdout",
     "output_type": "stream",
     "text": [
      "800:\tlearn: 0.8053735\ttest: 0.7871369\tbest: 0.7878227 (754)\ttotal: 1m 40s\tremaining: 8m 48s\n"
     ]
    },
    {
     "name": "stdout",
     "output_type": "stream",
     "text": [
      "850:\tlearn: 0.8068865\ttest: 0.7877453\tbest: 0.7878681 (847)\ttotal: 1m 47s\tremaining: 8m 42s\n"
     ]
    },
    {
     "name": "stdout",
     "output_type": "stream",
     "text": [
      "900:\tlearn: 0.8082179\ttest: 0.7875361\tbest: 0.7881722 (878)\ttotal: 1m 53s\tremaining: 8m 36s\n"
     ]
    },
    {
     "name": "stdout",
     "output_type": "stream",
     "text": [
      "950:\tlearn: 0.8098642\ttest: 0.7883014\tbest: 0.7884250 (949)\ttotal: 1m 59s\tremaining: 8m 29s\n"
     ]
    },
    {
     "name": "stdout",
     "output_type": "stream",
     "text": [
      "1000:\tlearn: 0.8116255\ttest: 0.7888236\tbest: 0.7890310 (983)\ttotal: 2m 6s\tremaining: 8m 24s\n"
     ]
    },
    {
     "name": "stdout",
     "output_type": "stream",
     "text": [
      "1050:\tlearn: 0.8132453\ttest: 0.7883314\tbest: 0.7890310 (983)\ttotal: 2m 12s\tremaining: 8m 17s\n"
     ]
    },
    {
     "name": "stdout",
     "output_type": "stream",
     "text": [
      "1100:\tlearn: 0.8146365\ttest: 0.7886254\tbest: 0.7890874 (1072)\ttotal: 2m 18s\tremaining: 8m 11s\n"
     ]
    },
    {
     "name": "stdout",
     "output_type": "stream",
     "text": [
      "1150:\tlearn: 0.8160498\ttest: 0.7889190\tbest: 0.7892698 (1143)\ttotal: 2m 25s\tremaining: 8m 5s\n"
     ]
    },
    {
     "name": "stdout",
     "output_type": "stream",
     "text": [
      "1200:\tlearn: 0.8171363\ttest: 0.7891920\tbest: 0.7893806 (1167)\ttotal: 2m 31s\tremaining: 7m 59s\n"
     ]
    },
    {
     "name": "stdout",
     "output_type": "stream",
     "text": [
      "1250:\tlearn: 0.8187223\ttest: 0.7888964\tbest: 0.7894857 (1226)\ttotal: 2m 37s\tremaining: 7m 52s\n"
     ]
    },
    {
     "name": "stdout",
     "output_type": "stream",
     "text": [
      "1300:\tlearn: 0.8203959\ttest: 0.7895320\tbest: 0.7897165 (1292)\ttotal: 2m 44s\tremaining: 7m 46s\n"
     ]
    },
    {
     "name": "stdout",
     "output_type": "stream",
     "text": [
      "1350:\tlearn: 0.8215640\ttest: 0.7897913\tbest: 0.7900862 (1319)\ttotal: 2m 50s\tremaining: 7m 40s\n"
     ]
    },
    {
     "name": "stdout",
     "output_type": "stream",
     "text": [
      "1400:\tlearn: 0.8228951\ttest: 0.7895756\tbest: 0.7900862 (1319)\ttotal: 2m 56s\tremaining: 7m 33s\n"
     ]
    },
    {
     "name": "stdout",
     "output_type": "stream",
     "text": [
      "1450:\tlearn: 0.8240923\ttest: 0.7902331\tbest: 0.7902968 (1449)\ttotal: 3m 3s\tremaining: 7m 27s\n"
     ]
    },
    {
     "name": "stdout",
     "output_type": "stream",
     "text": [
      "1500:\tlearn: 0.8251015\ttest: 0.7903248\tbest: 0.7905559 (1455)\ttotal: 3m 9s\tremaining: 7m 21s\n"
     ]
    },
    {
     "name": "stdout",
     "output_type": "stream",
     "text": [
      "1550:\tlearn: 0.8262254\ttest: 0.7903819\tbest: 0.7905559 (1455)\ttotal: 3m 15s\tremaining: 7m 15s\n"
     ]
    },
    {
     "name": "stdout",
     "output_type": "stream",
     "text": [
      "1600:\tlearn: 0.8275469\ttest: 0.7896233\tbest: 0.7905559 (1455)\ttotal: 3m 21s\tremaining: 7m 8s\n"
     ]
    },
    {
     "name": "stdout",
     "output_type": "stream",
     "text": [
      "1650:\tlearn: 0.8286041\ttest: 0.7904282\tbest: 0.7905559 (1455)\ttotal: 3m 28s\tremaining: 7m 2s\n"
     ]
    },
    {
     "name": "stdout",
     "output_type": "stream",
     "text": [
      "1700:\tlearn: 0.8297497\ttest: 0.7906011\tbest: 0.7909631 (1666)\ttotal: 3m 34s\tremaining: 6m 56s\n"
     ]
    },
    {
     "name": "stdout",
     "output_type": "stream",
     "text": [
      "1750:\tlearn: 0.8305974\ttest: 0.7907823\tbest: 0.7909631 (1666)\ttotal: 3m 40s\tremaining: 6m 49s\n"
     ]
    },
    {
     "name": "stdout",
     "output_type": "stream",
     "text": [
      "1800:\tlearn: 0.8321784\ttest: 0.7904471\tbest: 0.7909631 (1666)\ttotal: 3m 47s\tremaining: 6m 43s\n"
     ]
    },
    {
     "name": "stdout",
     "output_type": "stream",
     "text": [
      "1850:\tlearn: 0.8333052\ttest: 0.7903335\tbest: 0.7909631 (1666)\ttotal: 3m 53s\tremaining: 6m 37s\n"
     ]
    },
    {
     "name": "stdout",
     "output_type": "stream",
     "text": [
      "1900:\tlearn: 0.8344595\ttest: 0.7905600\tbest: 0.7909631 (1666)\ttotal: 3m 59s\tremaining: 6m 30s\n"
     ]
    },
    {
     "name": "stdout",
     "output_type": "stream",
     "text": [
      "1950:\tlearn: 0.8354652\ttest: 0.7907015\tbest: 0.7909631 (1666)\ttotal: 4m 6s\tremaining: 6m 24s\n"
     ]
    },
    {
     "name": "stdout",
     "output_type": "stream",
     "text": [
      "2000:\tlearn: 0.8367365\ttest: 0.7903489\tbest: 0.7909631 (1666)\ttotal: 4m 12s\tremaining: 6m 18s\n"
     ]
    },
    {
     "name": "stdout",
     "output_type": "stream",
     "text": [
      "2050:\tlearn: 0.8376704\ttest: 0.7902950\tbest: 0.7909631 (1666)\ttotal: 4m 18s\tremaining: 6m 12s\n"
     ]
    },
    {
     "name": "stdout",
     "output_type": "stream",
     "text": [
      "2100:\tlearn: 0.8389855\ttest: 0.7902636\tbest: 0.7909631 (1666)\ttotal: 4m 25s\tremaining: 6m 5s\n"
     ]
    },
    {
     "name": "stdout",
     "output_type": "stream",
     "text": [
      "2150:\tlearn: 0.8397205\ttest: 0.7899858\tbest: 0.7909631 (1666)\ttotal: 4m 31s\tremaining: 5m 59s\n"
     ]
    },
    {
     "name": "stdout",
     "output_type": "stream",
     "text": [
      "2200:\tlearn: 0.8409396\ttest: 0.7893312\tbest: 0.7909631 (1666)\ttotal: 4m 37s\tremaining: 5m 53s\n"
     ]
    },
    {
     "name": "stdout",
     "output_type": "stream",
     "text": [
      "2250:\tlearn: 0.8420405\ttest: 0.7895067\tbest: 0.7909631 (1666)\ttotal: 4m 44s\tremaining: 5m 47s\n"
     ]
    },
    {
     "name": "stdout",
     "output_type": "stream",
     "text": [
      "2300:\tlearn: 0.8430608\ttest: 0.7896922\tbest: 0.7909631 (1666)\ttotal: 4m 50s\tremaining: 5m 40s\n"
     ]
    },
    {
     "name": "stdout",
     "output_type": "stream",
     "text": [
      "2350:\tlearn: 0.8441822\ttest: 0.7904443\tbest: 0.7909631 (1666)\ttotal: 4m 56s\tremaining: 5m 34s\n"
     ]
    },
    {
     "name": "stdout",
     "output_type": "stream",
     "text": [
      "2400:\tlearn: 0.8452673\ttest: 0.7898614\tbest: 0.7909631 (1666)\ttotal: 5m 2s\tremaining: 5m 27s\n"
     ]
    },
    {
     "name": "stdout",
     "output_type": "stream",
     "text": [
      "2450:\tlearn: 0.8462207\ttest: 0.7900192\tbest: 0.7909631 (1666)\ttotal: 5m 9s\tremaining: 5m 21s\n"
     ]
    },
    {
     "name": "stdout",
     "output_type": "stream",
     "text": [
      "2500:\tlearn: 0.8473988\ttest: 0.7899158\tbest: 0.7909631 (1666)\ttotal: 5m 15s\tremaining: 5m 15s\n"
     ]
    },
    {
     "name": "stdout",
     "output_type": "stream",
     "text": [
      "2550:\tlearn: 0.8483151\ttest: 0.7895397\tbest: 0.7909631 (1666)\ttotal: 5m 21s\tremaining: 5m 8s\n"
     ]
    },
    {
     "name": "stdout",
     "output_type": "stream",
     "text": [
      "2600:\tlearn: 0.8492660\ttest: 0.7899480\tbest: 0.7909631 (1666)\ttotal: 5m 28s\tremaining: 5m 2s\n"
     ]
    },
    {
     "name": "stdout",
     "output_type": "stream",
     "text": [
      "2650:\tlearn: 0.8502700\ttest: 0.7903554\tbest: 0.7909631 (1666)\ttotal: 5m 34s\tremaining: 4m 56s\n"
     ]
    },
    {
     "name": "stdout",
     "output_type": "stream",
     "text": [
      "2700:\tlearn: 0.8512914\ttest: 0.7903951\tbest: 0.7909631 (1666)\ttotal: 5m 40s\tremaining: 4m 49s\n"
     ]
    },
    {
     "name": "stdout",
     "output_type": "stream",
     "text": [
      "2750:\tlearn: 0.8520551\ttest: 0.7902320\tbest: 0.7909631 (1666)\ttotal: 5m 46s\tremaining: 4m 43s\n"
     ]
    },
    {
     "name": "stdout",
     "output_type": "stream",
     "text": [
      "2800:\tlearn: 0.8528472\ttest: 0.7900229\tbest: 0.7909631 (1666)\ttotal: 5m 53s\tremaining: 4m 37s\n"
     ]
    },
    {
     "name": "stdout",
     "output_type": "stream",
     "text": [
      "2850:\tlearn: 0.8539784\ttest: 0.7896576\tbest: 0.7909631 (1666)\ttotal: 5m 59s\tremaining: 4m 30s\n"
     ]
    },
    {
     "name": "stdout",
     "output_type": "stream",
     "text": [
      "2900:\tlearn: 0.8550133\ttest: 0.7899834\tbest: 0.7909631 (1666)\ttotal: 6m 5s\tremaining: 4m 24s\n"
     ]
    },
    {
     "name": "stdout",
     "output_type": "stream",
     "text": [
      "2950:\tlearn: 0.8560865\ttest: 0.7898628\tbest: 0.7909631 (1666)\ttotal: 6m 11s\tremaining: 4m 18s\n"
     ]
    },
    {
     "name": "stdout",
     "output_type": "stream",
     "text": [
      "3000:\tlearn: 0.8569925\ttest: 0.7897176\tbest: 0.7909631 (1666)\ttotal: 6m 18s\tremaining: 4m 11s\n"
     ]
    },
    {
     "name": "stdout",
     "output_type": "stream",
     "text": [
      "3050:\tlearn: 0.8579280\ttest: 0.7903726\tbest: 0.7909631 (1666)\ttotal: 6m 24s\tremaining: 4m 5s\n"
     ]
    },
    {
     "name": "stdout",
     "output_type": "stream",
     "text": [
      "3100:\tlearn: 0.8591621\ttest: 0.7905581\tbest: 0.7909631 (1666)\ttotal: 6m 30s\tremaining: 3m 59s\n"
     ]
    },
    {
     "name": "stdout",
     "output_type": "stream",
     "text": [
      "3150:\tlearn: 0.8600070\ttest: 0.7904982\tbest: 0.7909631 (1666)\ttotal: 6m 36s\tremaining: 3m 52s\n"
     ]
    },
    {
     "name": "stdout",
     "output_type": "stream",
     "text": [
      "3200:\tlearn: 0.8609655\ttest: 0.7909406\tbest: 0.7910869 (3195)\ttotal: 6m 43s\tremaining: 3m 46s\n"
     ]
    },
    {
     "name": "stdout",
     "output_type": "stream",
     "text": [
      "3250:\tlearn: 0.8621488\ttest: 0.7905032\tbest: 0.7912167 (3219)\ttotal: 6m 49s\tremaining: 3m 40s\n"
     ]
    },
    {
     "name": "stdout",
     "output_type": "stream",
     "text": [
      "3300:\tlearn: 0.8633217\ttest: 0.7906518\tbest: 0.7912167 (3219)\ttotal: 6m 55s\tremaining: 3m 33s\n"
     ]
    },
    {
     "name": "stdout",
     "output_type": "stream",
     "text": [
      "3350:\tlearn: 0.8643714\ttest: 0.7911320\tbest: 0.7913862 (3336)\ttotal: 7m 1s\tremaining: 3m 27s\n"
     ]
    },
    {
     "name": "stdout",
     "output_type": "stream",
     "text": [
      "3400:\tlearn: 0.8652061\ttest: 0.7903954\tbest: 0.7913862 (3336)\ttotal: 7m 8s\tremaining: 3m 21s\n"
     ]
    },
    {
     "name": "stdout",
     "output_type": "stream",
     "text": [
      "3450:\tlearn: 0.8662085\ttest: 0.7905338\tbest: 0.7913862 (3336)\ttotal: 7m 14s\tremaining: 3m 15s\n"
     ]
    },
    {
     "name": "stdout",
     "output_type": "stream",
     "text": [
      "3500:\tlearn: 0.8672528\ttest: 0.7905098\tbest: 0.7913862 (3336)\ttotal: 7m 20s\tremaining: 3m 8s\n"
     ]
    },
    {
     "name": "stdout",
     "output_type": "stream",
     "text": [
      "3550:\tlearn: 0.8681039\ttest: 0.7907004\tbest: 0.7913862 (3336)\ttotal: 7m 27s\tremaining: 3m 2s\n"
     ]
    },
    {
     "name": "stdout",
     "output_type": "stream",
     "text": [
      "3600:\tlearn: 0.8687680\ttest: 0.7911195\tbest: 0.7913862 (3336)\ttotal: 7m 33s\tremaining: 2m 56s\n"
     ]
    },
    {
     "name": "stdout",
     "output_type": "stream",
     "text": [
      "3650:\tlearn: 0.8695907\ttest: 0.7906532\tbest: 0.7913862 (3336)\ttotal: 7m 39s\tremaining: 2m 49s\n"
     ]
    },
    {
     "name": "stdout",
     "output_type": "stream",
     "text": [
      "3700:\tlearn: 0.8706419\ttest: 0.7908000\tbest: 0.7913862 (3336)\ttotal: 7m 45s\tremaining: 2m 43s\n"
     ]
    },
    {
     "name": "stdout",
     "output_type": "stream",
     "text": [
      "3750:\tlearn: 0.8713314\ttest: 0.7904882\tbest: 0.7913862 (3336)\ttotal: 7m 52s\tremaining: 2m 37s\n"
     ]
    },
    {
     "name": "stdout",
     "output_type": "stream",
     "text": [
      "3800:\tlearn: 0.8724566\ttest: 0.7905278\tbest: 0.7913862 (3336)\ttotal: 7m 58s\tremaining: 2m 30s\n"
     ]
    },
    {
     "name": "stdout",
     "output_type": "stream",
     "text": [
      "3850:\tlearn: 0.8733710\ttest: 0.7904149\tbest: 0.7913862 (3336)\ttotal: 8m 4s\tremaining: 2m 24s\n"
     ]
    },
    {
     "name": "stdout",
     "output_type": "stream",
     "text": [
      "3900:\tlearn: 0.8742919\ttest: 0.7899547\tbest: 0.7913862 (3336)\ttotal: 8m 10s\tremaining: 2m 18s\n"
     ]
    },
    {
     "name": "stdout",
     "output_type": "stream",
     "text": [
      "3950:\tlearn: 0.8753811\ttest: 0.7895530\tbest: 0.7913862 (3336)\ttotal: 8m 17s\tremaining: 2m 11s\n"
     ]
    },
    {
     "name": "stdout",
     "output_type": "stream",
     "text": [
      "4000:\tlearn: 0.8763658\ttest: 0.7897528\tbest: 0.7913862 (3336)\ttotal: 8m 23s\tremaining: 2m 5s\n"
     ]
    },
    {
     "name": "stdout",
     "output_type": "stream",
     "text": [
      "4050:\tlearn: 0.8772866\ttest: 0.7899719\tbest: 0.7913862 (3336)\ttotal: 8m 29s\tremaining: 1m 59s\n"
     ]
    },
    {
     "name": "stdout",
     "output_type": "stream",
     "text": [
      "4100:\tlearn: 0.8781382\ttest: 0.7901727\tbest: 0.7913862 (3336)\ttotal: 8m 35s\tremaining: 1m 53s\n"
     ]
    },
    {
     "name": "stdout",
     "output_type": "stream",
     "text": [
      "4150:\tlearn: 0.8788466\ttest: 0.7903711\tbest: 0.7913862 (3336)\ttotal: 8m 42s\tremaining: 1m 46s\n"
     ]
    },
    {
     "name": "stdout",
     "output_type": "stream",
     "text": [
      "4200:\tlearn: 0.8798108\ttest: 0.7901944\tbest: 0.7913862 (3336)\ttotal: 8m 48s\tremaining: 1m 40s\n"
     ]
    },
    {
     "name": "stdout",
     "output_type": "stream",
     "text": [
      "4250:\tlearn: 0.8805178\ttest: 0.7902435\tbest: 0.7913862 (3336)\ttotal: 8m 54s\tremaining: 1m 34s\n"
     ]
    },
    {
     "name": "stdout",
     "output_type": "stream",
     "text": [
      "4300:\tlearn: 0.8814693\ttest: 0.7904168\tbest: 0.7913862 (3336)\ttotal: 9m 1s\tremaining: 1m 27s\n"
     ]
    },
    {
     "name": "stdout",
     "output_type": "stream",
     "text": [
      "4350:\tlearn: 0.8822693\ttest: 0.7902240\tbest: 0.7913862 (3336)\ttotal: 9m 7s\tremaining: 1m 21s\n"
     ]
    },
    {
     "name": "stdout",
     "output_type": "stream",
     "text": [
      "4400:\tlearn: 0.8830642\ttest: 0.7899592\tbest: 0.7913862 (3336)\ttotal: 9m 13s\tremaining: 1m 15s\n"
     ]
    },
    {
     "name": "stdout",
     "output_type": "stream",
     "text": [
      "4450:\tlearn: 0.8840721\ttest: 0.7903031\tbest: 0.7913862 (3336)\ttotal: 9m 19s\tremaining: 1m 9s\n"
     ]
    },
    {
     "name": "stdout",
     "output_type": "stream",
     "text": [
      "4500:\tlearn: 0.8847976\ttest: 0.7898003\tbest: 0.7913862 (3336)\ttotal: 9m 26s\tremaining: 1m 2s\n"
     ]
    },
    {
     "name": "stdout",
     "output_type": "stream",
     "text": [
      "4550:\tlearn: 0.8857128\ttest: 0.7897185\tbest: 0.7913862 (3336)\ttotal: 9m 32s\tremaining: 56.5s\n"
     ]
    },
    {
     "name": "stdout",
     "output_type": "stream",
     "text": [
      "4600:\tlearn: 0.8864030\ttest: 0.7900681\tbest: 0.7913862 (3336)\ttotal: 9m 38s\tremaining: 50.2s\n"
     ]
    },
    {
     "name": "stdout",
     "output_type": "stream",
     "text": [
      "4650:\tlearn: 0.8871121\ttest: 0.7901559\tbest: 0.7913862 (3336)\ttotal: 9m 44s\tremaining: 43.9s\n"
     ]
    },
    {
     "name": "stdout",
     "output_type": "stream",
     "text": [
      "4700:\tlearn: 0.8879630\ttest: 0.7901116\tbest: 0.7913862 (3336)\ttotal: 9m 51s\tremaining: 37.6s\n"
     ]
    },
    {
     "name": "stdout",
     "output_type": "stream",
     "text": [
      "4750:\tlearn: 0.8888398\ttest: 0.7901922\tbest: 0.7913862 (3336)\ttotal: 9m 57s\tremaining: 31.3s\n"
     ]
    },
    {
     "name": "stdout",
     "output_type": "stream",
     "text": [
      "4800:\tlearn: 0.8895233\ttest: 0.7900772\tbest: 0.7913862 (3336)\ttotal: 10m 3s\tremaining: 25s\n"
     ]
    },
    {
     "name": "stdout",
     "output_type": "stream",
     "text": [
      "4850:\tlearn: 0.8904463\ttest: 0.7906690\tbest: 0.7913862 (3336)\ttotal: 10m 9s\tremaining: 18.7s\n"
     ]
    },
    {
     "name": "stdout",
     "output_type": "stream",
     "text": [
      "4900:\tlearn: 0.8911303\ttest: 0.7902322\tbest: 0.7913862 (3336)\ttotal: 10m 16s\tremaining: 12.4s\n"
     ]
    },
    {
     "name": "stdout",
     "output_type": "stream",
     "text": [
      "4950:\tlearn: 0.8920256\ttest: 0.7902243\tbest: 0.7913862 (3336)\ttotal: 10m 22s\tremaining: 6.16s\n"
     ]
    },
    {
     "name": "stdout",
     "output_type": "stream",
     "text": [
      "4999:\tlearn: 0.8924829\ttest: 0.7902369\tbest: 0.7913862 (3336)\ttotal: 10m 28s\tremaining: 0us\n",
      "\n",
      "bestTest = 0.7913861666\n",
      "bestIteration = 3336\n",
      "\n"
     ]
    },
    {
     "name": "stdout",
     "output_type": "stream",
     "text": [
      "Training time: 52.999328672885895 min.\n",
      "OOF recall_at4: 0.6649527047497222\n",
      "OOF normalized_gini: 0.9242303948816813\n",
      "OOF competition metric: 0.7945915498157018\n"
     ]
    },
    {
     "name": "stdout",
     "output_type": "stream",
     "text": [
      "############################### repeated cross-validation step: 5/5 ################################\n"
     ]
    },
    {
     "name": "stdout",
     "output_type": "stream",
     "text": [
      "######################################## training model 1/5 ########################################\n",
      "seed: 20\n"
     ]
    },
    {
     "name": "stdout",
     "output_type": "stream",
     "text": [
      "0:\tlearn: 0.6264367\ttest: 0.6304910\tbest: 0.6304910 (0)\ttotal: 447ms\tremaining: 37m 15s\n"
     ]
    },
    {
     "name": "stdout",
     "output_type": "stream",
     "text": [
      "50:\tlearn: 0.7392484\ttest: 0.7395332\tbest: 0.7395332 (50)\ttotal: 6.63s\tremaining: 10m 43s\n"
     ]
    },
    {
     "name": "stdout",
     "output_type": "stream",
     "text": [
      "100:\tlearn: 0.7543696\ttest: 0.7571415\tbest: 0.7573662 (99)\ttotal: 12.9s\tremaining: 10m 24s\n"
     ]
    },
    {
     "name": "stdout",
     "output_type": "stream",
     "text": [
      "150:\tlearn: 0.7609399\ttest: 0.7644405\tbest: 0.7645238 (149)\ttotal: 19.1s\tremaining: 10m 13s\n"
     ]
    },
    {
     "name": "stdout",
     "output_type": "stream",
     "text": [
      "200:\tlearn: 0.7660808\ttest: 0.7683076\tbest: 0.7683076 (200)\ttotal: 25.3s\tremaining: 10m 5s\n"
     ]
    },
    {
     "name": "stdout",
     "output_type": "stream",
     "text": [
      "250:\tlearn: 0.7704365\ttest: 0.7724749\tbest: 0.7725904 (248)\ttotal: 31.7s\tremaining: 9m 59s\n"
     ]
    },
    {
     "name": "stdout",
     "output_type": "stream",
     "text": [
      "300:\tlearn: 0.7757961\ttest: 0.7773012\tbest: 0.7773647 (299)\ttotal: 38s\tremaining: 9m 52s\n"
     ]
    },
    {
     "name": "stdout",
     "output_type": "stream",
     "text": [
      "350:\tlearn: 0.7823555\ttest: 0.7822166\tbest: 0.7822166 (350)\ttotal: 44.2s\tremaining: 9m 45s\n"
     ]
    },
    {
     "name": "stdout",
     "output_type": "stream",
     "text": [
      "400:\tlearn: 0.7859868\ttest: 0.7864121\tbest: 0.7864121 (400)\ttotal: 50.5s\tremaining: 9m 39s\n"
     ]
    },
    {
     "name": "stdout",
     "output_type": "stream",
     "text": [
      "450:\tlearn: 0.7891641\ttest: 0.7882024\tbest: 0.7884775 (447)\ttotal: 56.9s\tremaining: 9m 33s\n"
     ]
    },
    {
     "name": "stdout",
     "output_type": "stream",
     "text": [
      "500:\tlearn: 0.7914939\ttest: 0.7898745\tbest: 0.7899093 (487)\ttotal: 1m 3s\tremaining: 9m 27s\n"
     ]
    },
    {
     "name": "stdout",
     "output_type": "stream",
     "text": [
      "550:\tlearn: 0.7939223\ttest: 0.7905194\tbest: 0.7906868 (542)\ttotal: 1m 9s\tremaining: 9m 21s\n"
     ]
    },
    {
     "name": "stdout",
     "output_type": "stream",
     "text": [
      "600:\tlearn: 0.7959085\ttest: 0.7913272\tbest: 0.7915961 (589)\ttotal: 1m 15s\tremaining: 9m 14s\n"
     ]
    },
    {
     "name": "stdout",
     "output_type": "stream",
     "text": [
      "650:\tlearn: 0.7980332\ttest: 0.7926536\tbest: 0.7926536 (650)\ttotal: 1m 22s\tremaining: 9m 7s\n"
     ]
    },
    {
     "name": "stdout",
     "output_type": "stream",
     "text": [
      "700:\tlearn: 0.7999710\ttest: 0.7931788\tbest: 0.7934184 (686)\ttotal: 1m 28s\tremaining: 9m 1s\n"
     ]
    },
    {
     "name": "stdout",
     "output_type": "stream",
     "text": [
      "750:\tlearn: 0.8018763\ttest: 0.7942213\tbest: 0.7943026 (749)\ttotal: 1m 34s\tremaining: 8m 55s\n"
     ]
    },
    {
     "name": "stdout",
     "output_type": "stream",
     "text": [
      "800:\tlearn: 0.8036588\ttest: 0.7944513\tbest: 0.7946145 (796)\ttotal: 1m 40s\tremaining: 8m 49s\n"
     ]
    },
    {
     "name": "stdout",
     "output_type": "stream",
     "text": [
      "850:\tlearn: 0.8051654\ttest: 0.7945988\tbest: 0.7950880 (836)\ttotal: 1m 47s\tremaining: 8m 42s\n"
     ]
    },
    {
     "name": "stdout",
     "output_type": "stream",
     "text": [
      "900:\tlearn: 0.8067307\ttest: 0.7945849\tbest: 0.7950880 (836)\ttotal: 1m 53s\tremaining: 8m 36s\n"
     ]
    },
    {
     "name": "stdout",
     "output_type": "stream",
     "text": [
      "950:\tlearn: 0.8082286\ttest: 0.7946480\tbest: 0.7950880 (836)\ttotal: 1m 59s\tremaining: 8m 30s\n"
     ]
    },
    {
     "name": "stdout",
     "output_type": "stream",
     "text": [
      "1000:\tlearn: 0.8098000\ttest: 0.7947717\tbest: 0.7950880 (836)\ttotal: 2m 6s\tremaining: 8m 23s\n"
     ]
    },
    {
     "name": "stdout",
     "output_type": "stream",
     "text": [
      "1050:\tlearn: 0.8114228\ttest: 0.7953953\tbest: 0.7955009 (1010)\ttotal: 2m 12s\tremaining: 8m 17s\n"
     ]
    },
    {
     "name": "stdout",
     "output_type": "stream",
     "text": [
      "1100:\tlearn: 0.8127672\ttest: 0.7953847\tbest: 0.7957612 (1075)\ttotal: 2m 18s\tremaining: 8m 11s\n"
     ]
    },
    {
     "name": "stdout",
     "output_type": "stream",
     "text": [
      "1150:\tlearn: 0.8142826\ttest: 0.7954348\tbest: 0.7957653 (1146)\ttotal: 2m 24s\tremaining: 8m 4s\n"
     ]
    },
    {
     "name": "stdout",
     "output_type": "stream",
     "text": [
      "1200:\tlearn: 0.8157941\ttest: 0.7954685\tbest: 0.7957705 (1184)\ttotal: 2m 31s\tremaining: 7m 58s\n"
     ]
    },
    {
     "name": "stdout",
     "output_type": "stream",
     "text": [
      "1250:\tlearn: 0.8172808\ttest: 0.7956096\tbest: 0.7959760 (1235)\ttotal: 2m 37s\tremaining: 7m 52s\n"
     ]
    },
    {
     "name": "stdout",
     "output_type": "stream",
     "text": [
      "1300:\tlearn: 0.8189052\ttest: 0.7958038\tbest: 0.7960118 (1299)\ttotal: 2m 43s\tremaining: 7m 45s\n"
     ]
    },
    {
     "name": "stdout",
     "output_type": "stream",
     "text": [
      "1350:\tlearn: 0.8200217\ttest: 0.7954439\tbest: 0.7961678 (1313)\ttotal: 2m 50s\tremaining: 7m 39s\n"
     ]
    },
    {
     "name": "stdout",
     "output_type": "stream",
     "text": [
      "1400:\tlearn: 0.8212011\ttest: 0.7956561\tbest: 0.7961678 (1313)\ttotal: 2m 56s\tremaining: 7m 33s\n"
     ]
    },
    {
     "name": "stdout",
     "output_type": "stream",
     "text": [
      "1450:\tlearn: 0.8223335\ttest: 0.7961159\tbest: 0.7961678 (1313)\ttotal: 3m 2s\tremaining: 7m 27s\n"
     ]
    },
    {
     "name": "stdout",
     "output_type": "stream",
     "text": [
      "1500:\tlearn: 0.8238304\ttest: 0.7959404\tbest: 0.7962566 (1461)\ttotal: 3m 9s\tremaining: 7m 20s\n"
     ]
    },
    {
     "name": "stdout",
     "output_type": "stream",
     "text": [
      "1550:\tlearn: 0.8248357\ttest: 0.7963914\tbest: 0.7964545 (1548)\ttotal: 3m 15s\tremaining: 7m 14s\n"
     ]
    },
    {
     "name": "stdout",
     "output_type": "stream",
     "text": [
      "1600:\tlearn: 0.8265450\ttest: 0.7962110\tbest: 0.7965565 (1573)\ttotal: 3m 21s\tremaining: 7m 8s\n"
     ]
    },
    {
     "name": "stdout",
     "output_type": "stream",
     "text": [
      "1650:\tlearn: 0.8276393\ttest: 0.7961602\tbest: 0.7966330 (1607)\ttotal: 3m 28s\tremaining: 7m 2s\n"
     ]
    },
    {
     "name": "stdout",
     "output_type": "stream",
     "text": [
      "1700:\tlearn: 0.8290862\ttest: 0.7964773\tbest: 0.7966330 (1607)\ttotal: 3m 34s\tremaining: 6m 55s\n"
     ]
    },
    {
     "name": "stdout",
     "output_type": "stream",
     "text": [
      "1750:\tlearn: 0.8302926\ttest: 0.7965623\tbest: 0.7966607 (1716)\ttotal: 3m 40s\tremaining: 6m 49s\n"
     ]
    },
    {
     "name": "stdout",
     "output_type": "stream",
     "text": [
      "1800:\tlearn: 0.8312565\ttest: 0.7965510\tbest: 0.7969097 (1767)\ttotal: 3m 46s\tremaining: 6m 43s\n"
     ]
    },
    {
     "name": "stdout",
     "output_type": "stream",
     "text": [
      "1850:\tlearn: 0.8323138\ttest: 0.7970656\tbest: 0.7972607 (1822)\ttotal: 3m 53s\tremaining: 6m 36s\n"
     ]
    },
    {
     "name": "stdout",
     "output_type": "stream",
     "text": [
      "1900:\tlearn: 0.8335580\ttest: 0.7971260\tbest: 0.7976039 (1890)\ttotal: 3m 59s\tremaining: 6m 30s\n"
     ]
    },
    {
     "name": "stdout",
     "output_type": "stream",
     "text": [
      "1950:\tlearn: 0.8346519\ttest: 0.7968859\tbest: 0.7976039 (1890)\ttotal: 4m 5s\tremaining: 6m 24s\n"
     ]
    },
    {
     "name": "stdout",
     "output_type": "stream",
     "text": [
      "2000:\tlearn: 0.8362191\ttest: 0.7965078\tbest: 0.7976039 (1890)\ttotal: 4m 12s\tremaining: 6m 17s\n"
     ]
    },
    {
     "name": "stdout",
     "output_type": "stream",
     "text": [
      "2050:\tlearn: 0.8373944\ttest: 0.7963245\tbest: 0.7976039 (1890)\ttotal: 4m 18s\tremaining: 6m 11s\n"
     ]
    },
    {
     "name": "stdout",
     "output_type": "stream",
     "text": [
      "2100:\tlearn: 0.8386122\ttest: 0.7968247\tbest: 0.7976039 (1890)\ttotal: 4m 24s\tremaining: 6m 5s\n"
     ]
    },
    {
     "name": "stdout",
     "output_type": "stream",
     "text": [
      "2150:\tlearn: 0.8397653\ttest: 0.7964039\tbest: 0.7976039 (1890)\ttotal: 4m 30s\tremaining: 5m 58s\n"
     ]
    },
    {
     "name": "stdout",
     "output_type": "stream",
     "text": [
      "2200:\tlearn: 0.8408770\ttest: 0.7962112\tbest: 0.7976039 (1890)\ttotal: 4m 37s\tremaining: 5m 52s\n"
     ]
    },
    {
     "name": "stdout",
     "output_type": "stream",
     "text": [
      "2250:\tlearn: 0.8421606\ttest: 0.7967587\tbest: 0.7976039 (1890)\ttotal: 4m 43s\tremaining: 5m 46s\n"
     ]
    },
    {
     "name": "stdout",
     "output_type": "stream",
     "text": [
      "2300:\tlearn: 0.8433638\ttest: 0.7960151\tbest: 0.7976039 (1890)\ttotal: 4m 49s\tremaining: 5m 39s\n"
     ]
    },
    {
     "name": "stdout",
     "output_type": "stream",
     "text": [
      "2350:\tlearn: 0.8443130\ttest: 0.7964528\tbest: 0.7976039 (1890)\ttotal: 4m 55s\tremaining: 5m 33s\n"
     ]
    },
    {
     "name": "stdout",
     "output_type": "stream",
     "text": [
      "2400:\tlearn: 0.8455229\ttest: 0.7964184\tbest: 0.7976039 (1890)\ttotal: 5m 2s\tremaining: 5m 26s\n"
     ]
    },
    {
     "name": "stdout",
     "output_type": "stream",
     "text": [
      "2450:\tlearn: 0.8467217\ttest: 0.7965975\tbest: 0.7976039 (1890)\ttotal: 5m 8s\tremaining: 5m 20s\n"
     ]
    },
    {
     "name": "stdout",
     "output_type": "stream",
     "text": [
      "2500:\tlearn: 0.8478070\ttest: 0.7965722\tbest: 0.7976039 (1890)\ttotal: 5m 14s\tremaining: 5m 14s\n"
     ]
    },
    {
     "name": "stdout",
     "output_type": "stream",
     "text": [
      "2550:\tlearn: 0.8488411\ttest: 0.7972146\tbest: 0.7976039 (1890)\ttotal: 5m 20s\tremaining: 5m 7s\n"
     ]
    },
    {
     "name": "stdout",
     "output_type": "stream",
     "text": [
      "2600:\tlearn: 0.8498578\ttest: 0.7975782\tbest: 0.7976039 (1890)\ttotal: 5m 27s\tremaining: 5m 1s\n"
     ]
    },
    {
     "name": "stdout",
     "output_type": "stream",
     "text": [
      "2650:\tlearn: 0.8508582\ttest: 0.7976134\tbest: 0.7976494 (2639)\ttotal: 5m 33s\tremaining: 4m 55s\n"
     ]
    },
    {
     "name": "stdout",
     "output_type": "stream",
     "text": [
      "2700:\tlearn: 0.8521490\ttest: 0.7975783\tbest: 0.7978259 (2675)\ttotal: 5m 39s\tremaining: 4m 49s\n"
     ]
    },
    {
     "name": "stdout",
     "output_type": "stream",
     "text": [
      "2750:\tlearn: 0.8530840\ttest: 0.7977587\tbest: 0.7979488 (2747)\ttotal: 5m 45s\tremaining: 4m 42s\n"
     ]
    },
    {
     "name": "stdout",
     "output_type": "stream",
     "text": [
      "2800:\tlearn: 0.8544085\ttest: 0.7981263\tbest: 0.7981673 (2781)\ttotal: 5m 52s\tremaining: 4m 36s\n"
     ]
    },
    {
     "name": "stdout",
     "output_type": "stream",
     "text": [
      "2850:\tlearn: 0.8556863\ttest: 0.7982746\tbest: 0.7984265 (2837)\ttotal: 5m 58s\tremaining: 4m 30s\n"
     ]
    },
    {
     "name": "stdout",
     "output_type": "stream",
     "text": [
      "2900:\tlearn: 0.8567476\ttest: 0.7980691\tbest: 0.7984265 (2837)\ttotal: 6m 4s\tremaining: 4m 23s\n"
     ]
    },
    {
     "name": "stdout",
     "output_type": "stream",
     "text": [
      "2950:\tlearn: 0.8580099\ttest: 0.7978053\tbest: 0.7984265 (2837)\ttotal: 6m 10s\tremaining: 4m 17s\n"
     ]
    },
    {
     "name": "stdout",
     "output_type": "stream",
     "text": [
      "3000:\tlearn: 0.8589071\ttest: 0.7979155\tbest: 0.7984265 (2837)\ttotal: 6m 17s\tremaining: 4m 11s\n"
     ]
    },
    {
     "name": "stdout",
     "output_type": "stream",
     "text": [
      "3050:\tlearn: 0.8599335\ttest: 0.7980449\tbest: 0.7984265 (2837)\ttotal: 6m 23s\tremaining: 4m 4s\n"
     ]
    },
    {
     "name": "stdout",
     "output_type": "stream",
     "text": [
      "3100:\tlearn: 0.8608581\ttest: 0.7983583\tbest: 0.7986104 (3097)\ttotal: 6m 29s\tremaining: 3m 58s\n"
     ]
    },
    {
     "name": "stdout",
     "output_type": "stream",
     "text": [
      "3150:\tlearn: 0.8618400\ttest: 0.7984882\tbest: 0.7986104 (3097)\ttotal: 6m 35s\tremaining: 3m 52s\n"
     ]
    },
    {
     "name": "stdout",
     "output_type": "stream",
     "text": [
      "3200:\tlearn: 0.8628642\ttest: 0.7978609\tbest: 0.7986104 (3097)\ttotal: 6m 42s\tremaining: 3m 46s\n"
     ]
    },
    {
     "name": "stdout",
     "output_type": "stream",
     "text": [
      "3250:\tlearn: 0.8638139\ttest: 0.7978231\tbest: 0.7986104 (3097)\ttotal: 6m 48s\tremaining: 3m 39s\n"
     ]
    },
    {
     "name": "stdout",
     "output_type": "stream",
     "text": [
      "3300:\tlearn: 0.8648587\ttest: 0.7982081\tbest: 0.7986104 (3097)\ttotal: 6m 54s\tremaining: 3m 33s\n"
     ]
    },
    {
     "name": "stdout",
     "output_type": "stream",
     "text": [
      "3350:\tlearn: 0.8658578\ttest: 0.7982501\tbest: 0.7986733 (3324)\ttotal: 7m 1s\tremaining: 3m 27s\n"
     ]
    },
    {
     "name": "stdout",
     "output_type": "stream",
     "text": [
      "3400:\tlearn: 0.8669874\ttest: 0.7983022\tbest: 0.7986733 (3324)\ttotal: 7m 7s\tremaining: 3m 20s\n"
     ]
    },
    {
     "name": "stdout",
     "output_type": "stream",
     "text": [
      "3450:\tlearn: 0.8679852\ttest: 0.7982169\tbest: 0.7986733 (3324)\ttotal: 7m 13s\tremaining: 3m 14s\n"
     ]
    },
    {
     "name": "stdout",
     "output_type": "stream",
     "text": [
      "3500:\tlearn: 0.8687709\ttest: 0.7980797\tbest: 0.7986733 (3324)\ttotal: 7m 19s\tremaining: 3m 8s\n"
     ]
    },
    {
     "name": "stdout",
     "output_type": "stream",
     "text": [
      "3550:\tlearn: 0.8698893\ttest: 0.7984909\tbest: 0.7986733 (3324)\ttotal: 7m 26s\tremaining: 3m 2s\n"
     ]
    },
    {
     "name": "stdout",
     "output_type": "stream",
     "text": [
      "3600:\tlearn: 0.8709330\ttest: 0.7982379\tbest: 0.7987837 (3570)\ttotal: 7m 32s\tremaining: 2m 55s\n"
     ]
    },
    {
     "name": "stdout",
     "output_type": "stream",
     "text": [
      "3650:\tlearn: 0.8717186\ttest: 0.7988346\tbest: 0.7988559 (3645)\ttotal: 7m 38s\tremaining: 2m 49s\n"
     ]
    },
    {
     "name": "stdout",
     "output_type": "stream",
     "text": [
      "3700:\tlearn: 0.8728655\ttest: 0.7992808\tbest: 0.7994067 (3699)\ttotal: 7m 44s\tremaining: 2m 43s\n"
     ]
    },
    {
     "name": "stdout",
     "output_type": "stream",
     "text": [
      "3750:\tlearn: 0.8737432\ttest: 0.7992376\tbest: 0.7995356 (3712)\ttotal: 7m 51s\tremaining: 2m 36s\n"
     ]
    },
    {
     "name": "stdout",
     "output_type": "stream",
     "text": [
      "3800:\tlearn: 0.8747571\ttest: 0.7993225\tbest: 0.7995741 (3762)\ttotal: 7m 57s\tremaining: 2m 30s\n"
     ]
    },
    {
     "name": "stdout",
     "output_type": "stream",
     "text": [
      "3850:\tlearn: 0.8756909\ttest: 0.7993498\tbest: 0.7996653 (3846)\ttotal: 8m 3s\tremaining: 2m 24s\n"
     ]
    },
    {
     "name": "stdout",
     "output_type": "stream",
     "text": [
      "3900:\tlearn: 0.8765821\ttest: 0.7992404\tbest: 0.7996653 (3846)\ttotal: 8m 10s\tremaining: 2m 18s\n"
     ]
    },
    {
     "name": "stdout",
     "output_type": "stream",
     "text": [
      "3950:\tlearn: 0.8773932\ttest: 0.7986232\tbest: 0.7996653 (3846)\ttotal: 8m 16s\tremaining: 2m 11s\n"
     ]
    },
    {
     "name": "stdout",
     "output_type": "stream",
     "text": [
      "4000:\tlearn: 0.8783776\ttest: 0.7985624\tbest: 0.7996653 (3846)\ttotal: 8m 22s\tremaining: 2m 5s\n"
     ]
    },
    {
     "name": "stdout",
     "output_type": "stream",
     "text": [
      "4050:\tlearn: 0.8791242\ttest: 0.7986432\tbest: 0.7996653 (3846)\ttotal: 8m 29s\tremaining: 1m 59s\n"
     ]
    },
    {
     "name": "stdout",
     "output_type": "stream",
     "text": [
      "4100:\tlearn: 0.8802108\ttest: 0.7985120\tbest: 0.7996653 (3846)\ttotal: 8m 35s\tremaining: 1m 52s\n"
     ]
    },
    {
     "name": "stdout",
     "output_type": "stream",
     "text": [
      "4150:\tlearn: 0.8808688\ttest: 0.7986151\tbest: 0.7996653 (3846)\ttotal: 8m 41s\tremaining: 1m 46s\n"
     ]
    },
    {
     "name": "stdout",
     "output_type": "stream",
     "text": [
      "4200:\tlearn: 0.8817863\ttest: 0.7983831\tbest: 0.7996653 (3846)\ttotal: 8m 47s\tremaining: 1m 40s\n"
     ]
    },
    {
     "name": "stdout",
     "output_type": "stream",
     "text": [
      "4250:\tlearn: 0.8824481\ttest: 0.7984877\tbest: 0.7996653 (3846)\ttotal: 8m 54s\tremaining: 1m 34s\n"
     ]
    },
    {
     "name": "stdout",
     "output_type": "stream",
     "text": [
      "4300:\tlearn: 0.8835103\ttest: 0.7988064\tbest: 0.7996653 (3846)\ttotal: 9m\tremaining: 1m 27s\n"
     ]
    },
    {
     "name": "stdout",
     "output_type": "stream",
     "text": [
      "4350:\tlearn: 0.8844516\ttest: 0.7985439\tbest: 0.7996653 (3846)\ttotal: 9m 6s\tremaining: 1m 21s\n"
     ]
    },
    {
     "name": "stdout",
     "output_type": "stream",
     "text": [
      "4400:\tlearn: 0.8852660\ttest: 0.7984005\tbest: 0.7996653 (3846)\ttotal: 9m 12s\tremaining: 1m 15s\n"
     ]
    },
    {
     "name": "stdout",
     "output_type": "stream",
     "text": [
      "4450:\tlearn: 0.8860952\ttest: 0.7984019\tbest: 0.7996653 (3846)\ttotal: 9m 19s\tremaining: 1m 8s\n"
     ]
    },
    {
     "name": "stdout",
     "output_type": "stream",
     "text": [
      "4500:\tlearn: 0.8869552\ttest: 0.7986072\tbest: 0.7996653 (3846)\ttotal: 9m 25s\tremaining: 1m 2s\n"
     ]
    },
    {
     "name": "stdout",
     "output_type": "stream",
     "text": [
      "4550:\tlearn: 0.8877592\ttest: 0.7983470\tbest: 0.7996653 (3846)\ttotal: 9m 31s\tremaining: 56.4s\n"
     ]
    },
    {
     "name": "stdout",
     "output_type": "stream",
     "text": [
      "4600:\tlearn: 0.8885395\ttest: 0.7980420\tbest: 0.7996653 (3846)\ttotal: 9m 37s\tremaining: 50.1s\n"
     ]
    },
    {
     "name": "stdout",
     "output_type": "stream",
     "text": [
      "4650:\tlearn: 0.8894958\ttest: 0.7981871\tbest: 0.7996653 (3846)\ttotal: 9m 44s\tremaining: 43.8s\n"
     ]
    },
    {
     "name": "stdout",
     "output_type": "stream",
     "text": [
      "4700:\tlearn: 0.8901945\ttest: 0.7979332\tbest: 0.7996653 (3846)\ttotal: 9m 50s\tremaining: 37.6s\n"
     ]
    },
    {
     "name": "stdout",
     "output_type": "stream",
     "text": [
      "4750:\tlearn: 0.8912583\ttest: 0.7980814\tbest: 0.7996653 (3846)\ttotal: 9m 56s\tremaining: 31.3s\n"
     ]
    },
    {
     "name": "stdout",
     "output_type": "stream",
     "text": [
      "4800:\tlearn: 0.8918576\ttest: 0.7982125\tbest: 0.7996653 (3846)\ttotal: 10m 2s\tremaining: 25s\n"
     ]
    },
    {
     "name": "stdout",
     "output_type": "stream",
     "text": [
      "4850:\tlearn: 0.8927858\ttest: 0.7982082\tbest: 0.7996653 (3846)\ttotal: 10m 9s\tremaining: 18.7s\n"
     ]
    },
    {
     "name": "stdout",
     "output_type": "stream",
     "text": [
      "4900:\tlearn: 0.8938975\ttest: 0.7983230\tbest: 0.7996653 (3846)\ttotal: 10m 15s\tremaining: 12.4s\n"
     ]
    },
    {
     "name": "stdout",
     "output_type": "stream",
     "text": [
      "4950:\tlearn: 0.8945190\ttest: 0.7983267\tbest: 0.7996653 (3846)\ttotal: 10m 21s\tremaining: 6.15s\n"
     ]
    },
    {
     "name": "stdout",
     "output_type": "stream",
     "text": [
      "4999:\tlearn: 0.8956025\ttest: 0.7982812\tbest: 0.7996653 (3846)\ttotal: 10m 27s\tremaining: 0us\n",
      "\n",
      "bestTest = 0.7996653047\n",
      "bestIteration = 3846\n",
      "\n"
     ]
    },
    {
     "name": "stdout",
     "output_type": "stream",
     "text": [
      "######################################## training model 2/5 ########################################\n",
      "seed: 21\n"
     ]
    },
    {
     "name": "stdout",
     "output_type": "stream",
     "text": [
      "0:\tlearn: 0.5110780\ttest: 0.5139064\tbest: 0.5139064 (0)\ttotal: 447ms\tremaining: 37m 16s\n"
     ]
    },
    {
     "name": "stdout",
     "output_type": "stream",
     "text": [
      "50:\tlearn: 0.7354110\ttest: 0.7391205\tbest: 0.7391205 (50)\ttotal: 6.6s\tremaining: 10m 40s\n"
     ]
    },
    {
     "name": "stdout",
     "output_type": "stream",
     "text": [
      "100:\tlearn: 0.7505189\ttest: 0.7549245\tbest: 0.7549245 (100)\ttotal: 12.8s\tremaining: 10m 21s\n"
     ]
    },
    {
     "name": "stdout",
     "output_type": "stream",
     "text": [
      "150:\tlearn: 0.7584534\ttest: 0.7629394\tbest: 0.7629394 (150)\ttotal: 19s\tremaining: 10m 11s\n"
     ]
    },
    {
     "name": "stdout",
     "output_type": "stream",
     "text": [
      "200:\tlearn: 0.7646802\ttest: 0.7671102\tbest: 0.7673546 (199)\ttotal: 25.3s\tremaining: 10m 3s\n"
     ]
    },
    {
     "name": "stdout",
     "output_type": "stream",
     "text": [
      "250:\tlearn: 0.7688561\ttest: 0.7711496\tbest: 0.7711776 (244)\ttotal: 31.6s\tremaining: 9m 57s\n"
     ]
    },
    {
     "name": "stdout",
     "output_type": "stream",
     "text": [
      "300:\tlearn: 0.7744277\ttest: 0.7778205\tbest: 0.7778205 (300)\ttotal: 37.9s\tremaining: 9m 51s\n"
     ]
    },
    {
     "name": "stdout",
     "output_type": "stream",
     "text": [
      "350:\tlearn: 0.7810412\ttest: 0.7839639\tbest: 0.7842276 (346)\ttotal: 44.1s\tremaining: 9m 44s\n"
     ]
    },
    {
     "name": "stdout",
     "output_type": "stream",
     "text": [
      "400:\tlearn: 0.7856084\ttest: 0.7863410\tbest: 0.7864306 (395)\ttotal: 50.4s\tremaining: 9m 38s\n"
     ]
    },
    {
     "name": "stdout",
     "output_type": "stream",
     "text": [
      "450:\tlearn: 0.7892250\ttest: 0.7875354\tbest: 0.7875354 (450)\ttotal: 56.7s\tremaining: 9m 32s\n"
     ]
    },
    {
     "name": "stdout",
     "output_type": "stream",
     "text": [
      "500:\tlearn: 0.7920894\ttest: 0.7893585\tbest: 0.7893585 (500)\ttotal: 1m 3s\tremaining: 9m 26s\n"
     ]
    },
    {
     "name": "stdout",
     "output_type": "stream",
     "text": [
      "550:\tlearn: 0.7948802\ttest: 0.7901490\tbest: 0.7907859 (529)\ttotal: 1m 9s\tremaining: 9m 19s\n"
     ]
    },
    {
     "name": "stdout",
     "output_type": "stream",
     "text": [
      "600:\tlearn: 0.7970526\ttest: 0.7915766\tbest: 0.7918730 (586)\ttotal: 1m 15s\tremaining: 9m 13s\n"
     ]
    },
    {
     "name": "stdout",
     "output_type": "stream",
     "text": [
      "650:\tlearn: 0.7989418\ttest: 0.7920060\tbest: 0.7920963 (646)\ttotal: 1m 21s\tremaining: 9m 7s\n"
     ]
    },
    {
     "name": "stdout",
     "output_type": "stream",
     "text": [
      "700:\tlearn: 0.8004176\ttest: 0.7932816\tbest: 0.7932816 (700)\ttotal: 1m 28s\tremaining: 9m 1s\n"
     ]
    },
    {
     "name": "stdout",
     "output_type": "stream",
     "text": [
      "750:\tlearn: 0.8018442\ttest: 0.7936255\tbest: 0.7941135 (721)\ttotal: 1m 34s\tremaining: 8m 54s\n"
     ]
    },
    {
     "name": "stdout",
     "output_type": "stream",
     "text": [
      "800:\tlearn: 0.8039128\ttest: 0.7938991\tbest: 0.7941135 (721)\ttotal: 1m 40s\tremaining: 8m 48s\n"
     ]
    },
    {
     "name": "stdout",
     "output_type": "stream",
     "text": [
      "850:\tlearn: 0.8056806\ttest: 0.7945563\tbest: 0.7945563 (850)\ttotal: 1m 47s\tremaining: 8m 41s\n"
     ]
    },
    {
     "name": "stdout",
     "output_type": "stream",
     "text": [
      "900:\tlearn: 0.8071494\ttest: 0.7944309\tbest: 0.7946465 (854)\ttotal: 1m 53s\tremaining: 8m 35s\n"
     ]
    },
    {
     "name": "stdout",
     "output_type": "stream",
     "text": [
      "950:\tlearn: 0.8087366\ttest: 0.7941960\tbest: 0.7948202 (924)\ttotal: 1m 59s\tremaining: 8m 29s\n"
     ]
    },
    {
     "name": "stdout",
     "output_type": "stream",
     "text": [
      "1000:\tlearn: 0.8102873\ttest: 0.7944783\tbest: 0.7948202 (924)\ttotal: 2m 5s\tremaining: 8m 23s\n"
     ]
    },
    {
     "name": "stdout",
     "output_type": "stream",
     "text": [
      "1050:\tlearn: 0.8116875\ttest: 0.7944857\tbest: 0.7948202 (924)\ttotal: 2m 12s\tremaining: 8m 16s\n"
     ]
    },
    {
     "name": "stdout",
     "output_type": "stream",
     "text": [
      "1100:\tlearn: 0.8129842\ttest: 0.7946993\tbest: 0.7948229 (1099)\ttotal: 2m 18s\tremaining: 8m 10s\n"
     ]
    },
    {
     "name": "stdout",
     "output_type": "stream",
     "text": [
      "1150:\tlearn: 0.8145338\ttest: 0.7952138\tbest: 0.7952709 (1124)\ttotal: 2m 24s\tremaining: 8m 4s\n"
     ]
    },
    {
     "name": "stdout",
     "output_type": "stream",
     "text": [
      "1200:\tlearn: 0.8158245\ttest: 0.7950740\tbest: 0.7955119 (1172)\ttotal: 2m 31s\tremaining: 7m 57s\n"
     ]
    },
    {
     "name": "stdout",
     "output_type": "stream",
     "text": [
      "1250:\tlearn: 0.8173384\ttest: 0.7950393\tbest: 0.7955119 (1172)\ttotal: 2m 37s\tremaining: 7m 51s\n"
     ]
    },
    {
     "name": "stdout",
     "output_type": "stream",
     "text": [
      "1300:\tlearn: 0.8184011\ttest: 0.7958541\tbest: 0.7958541 (1300)\ttotal: 2m 43s\tremaining: 7m 45s\n"
     ]
    },
    {
     "name": "stdout",
     "output_type": "stream",
     "text": [
      "1350:\tlearn: 0.8198457\ttest: 0.7955773\tbest: 0.7958541 (1300)\ttotal: 2m 49s\tremaining: 7m 39s\n"
     ]
    },
    {
     "name": "stdout",
     "output_type": "stream",
     "text": [
      "1400:\tlearn: 0.8212566\ttest: 0.7955819\tbest: 0.7958541 (1300)\ttotal: 2m 56s\tremaining: 7m 32s\n"
     ]
    },
    {
     "name": "stdout",
     "output_type": "stream",
     "text": [
      "1450:\tlearn: 0.8225724\ttest: 0.7960341\tbest: 0.7961185 (1448)\ttotal: 3m 2s\tremaining: 7m 26s\n"
     ]
    },
    {
     "name": "stdout",
     "output_type": "stream",
     "text": [
      "1500:\tlearn: 0.8238500\ttest: 0.7962488\tbest: 0.7963768 (1497)\ttotal: 3m 8s\tremaining: 7m 20s\n"
     ]
    },
    {
     "name": "stdout",
     "output_type": "stream",
     "text": [
      "1550:\tlearn: 0.8250269\ttest: 0.7961519\tbest: 0.7965780 (1526)\ttotal: 3m 15s\tremaining: 7m 13s\n"
     ]
    },
    {
     "name": "stdout",
     "output_type": "stream",
     "text": [
      "1600:\tlearn: 0.8263492\ttest: 0.7965978\tbest: 0.7966562 (1598)\ttotal: 3m 21s\tremaining: 7m 7s\n"
     ]
    },
    {
     "name": "stdout",
     "output_type": "stream",
     "text": [
      "1650:\tlearn: 0.8274415\ttest: 0.7968724\tbest: 0.7969528 (1645)\ttotal: 3m 27s\tremaining: 7m 1s\n"
     ]
    },
    {
     "name": "stdout",
     "output_type": "stream",
     "text": [
      "1700:\tlearn: 0.8287527\ttest: 0.7969492\tbest: 0.7971676 (1655)\ttotal: 3m 33s\tremaining: 6m 54s\n"
     ]
    },
    {
     "name": "stdout",
     "output_type": "stream",
     "text": [
      "1750:\tlearn: 0.8299126\ttest: 0.7963205\tbest: 0.7971676 (1655)\ttotal: 3m 40s\tremaining: 6m 48s\n"
     ]
    },
    {
     "name": "stdout",
     "output_type": "stream",
     "text": [
      "1800:\tlearn: 0.8309722\ttest: 0.7967789\tbest: 0.7971676 (1655)\ttotal: 3m 46s\tremaining: 6m 42s\n"
     ]
    },
    {
     "name": "stdout",
     "output_type": "stream",
     "text": [
      "1850:\tlearn: 0.8321034\ttest: 0.7969458\tbest: 0.7971676 (1655)\ttotal: 3m 52s\tremaining: 6m 35s\n"
     ]
    },
    {
     "name": "stdout",
     "output_type": "stream",
     "text": [
      "1900:\tlearn: 0.8333675\ttest: 0.7964589\tbest: 0.7971676 (1655)\ttotal: 3m 59s\tremaining: 6m 29s\n"
     ]
    },
    {
     "name": "stdout",
     "output_type": "stream",
     "text": [
      "1950:\tlearn: 0.8344043\ttest: 0.7968578\tbest: 0.7971676 (1655)\ttotal: 4m 5s\tremaining: 6m 23s\n"
     ]
    },
    {
     "name": "stdout",
     "output_type": "stream",
     "text": [
      "2000:\tlearn: 0.8355382\ttest: 0.7972770\tbest: 0.7973432 (1988)\ttotal: 4m 11s\tremaining: 6m 16s\n"
     ]
    },
    {
     "name": "stdout",
     "output_type": "stream",
     "text": [
      "2050:\tlearn: 0.8366309\ttest: 0.7972163\tbest: 0.7975081 (2040)\ttotal: 4m 17s\tremaining: 6m 10s\n"
     ]
    },
    {
     "name": "stdout",
     "output_type": "stream",
     "text": [
      "2100:\tlearn: 0.8375260\ttest: 0.7970659\tbest: 0.7975081 (2040)\ttotal: 4m 23s\tremaining: 6m 4s\n"
     ]
    },
    {
     "name": "stdout",
     "output_type": "stream",
     "text": [
      "2150:\tlearn: 0.8387218\ttest: 0.7967403\tbest: 0.7975081 (2040)\ttotal: 4m 30s\tremaining: 5m 57s\n"
     ]
    },
    {
     "name": "stdout",
     "output_type": "stream",
     "text": [
      "2200:\tlearn: 0.8400646\ttest: 0.7968195\tbest: 0.7975081 (2040)\ttotal: 4m 36s\tremaining: 5m 51s\n"
     ]
    },
    {
     "name": "stdout",
     "output_type": "stream",
     "text": [
      "2250:\tlearn: 0.8412428\ttest: 0.7969407\tbest: 0.7975081 (2040)\ttotal: 4m 42s\tremaining: 5m 45s\n"
     ]
    },
    {
     "name": "stdout",
     "output_type": "stream",
     "text": [
      "2300:\tlearn: 0.8419467\ttest: 0.7967330\tbest: 0.7975081 (2040)\ttotal: 4m 48s\tremaining: 5m 38s\n"
     ]
    },
    {
     "name": "stdout",
     "output_type": "stream",
     "text": [
      "2350:\tlearn: 0.8427982\ttest: 0.7968416\tbest: 0.7975081 (2040)\ttotal: 4m 55s\tremaining: 5m 32s\n"
     ]
    },
    {
     "name": "stdout",
     "output_type": "stream",
     "text": [
      "2400:\tlearn: 0.8440287\ttest: 0.7969158\tbest: 0.7975081 (2040)\ttotal: 5m 1s\tremaining: 5m 26s\n"
     ]
    },
    {
     "name": "stdout",
     "output_type": "stream",
     "text": [
      "2450:\tlearn: 0.8451757\ttest: 0.7969290\tbest: 0.7975081 (2040)\ttotal: 5m 7s\tremaining: 5m 20s\n"
     ]
    },
    {
     "name": "stdout",
     "output_type": "stream",
     "text": [
      "2500:\tlearn: 0.8460358\ttest: 0.7969064\tbest: 0.7975081 (2040)\ttotal: 5m 13s\tremaining: 5m 13s\n"
     ]
    },
    {
     "name": "stdout",
     "output_type": "stream",
     "text": [
      "2550:\tlearn: 0.8471721\ttest: 0.7969113\tbest: 0.7975081 (2040)\ttotal: 5m 20s\tremaining: 5m 7s\n"
     ]
    },
    {
     "name": "stdout",
     "output_type": "stream",
     "text": [
      "2600:\tlearn: 0.8481019\ttest: 0.7968767\tbest: 0.7975081 (2040)\ttotal: 5m 26s\tremaining: 5m 1s\n"
     ]
    },
    {
     "name": "stdout",
     "output_type": "stream",
     "text": [
      "2650:\tlearn: 0.8490843\ttest: 0.7964873\tbest: 0.7975081 (2040)\ttotal: 5m 32s\tremaining: 4m 54s\n"
     ]
    },
    {
     "name": "stdout",
     "output_type": "stream",
     "text": [
      "2700:\tlearn: 0.8498436\ttest: 0.7962200\tbest: 0.7975081 (2040)\ttotal: 5m 38s\tremaining: 4m 48s\n"
     ]
    },
    {
     "name": "stdout",
     "output_type": "stream",
     "text": [
      "2750:\tlearn: 0.8510706\ttest: 0.7967533\tbest: 0.7975081 (2040)\ttotal: 5m 45s\tremaining: 4m 42s\n"
     ]
    },
    {
     "name": "stdout",
     "output_type": "stream",
     "text": [
      "2800:\tlearn: 0.8520187\ttest: 0.7969439\tbest: 0.7975081 (2040)\ttotal: 5m 51s\tremaining: 4m 35s\n"
     ]
    },
    {
     "name": "stdout",
     "output_type": "stream",
     "text": [
      "2850:\tlearn: 0.8526348\ttest: 0.7969190\tbest: 0.7975081 (2040)\ttotal: 5m 57s\tremaining: 4m 29s\n"
     ]
    },
    {
     "name": "stdout",
     "output_type": "stream",
     "text": [
      "2900:\tlearn: 0.8537146\ttest: 0.7967917\tbest: 0.7975081 (2040)\ttotal: 6m 4s\tremaining: 4m 23s\n"
     ]
    },
    {
     "name": "stdout",
     "output_type": "stream",
     "text": [
      "2950:\tlearn: 0.8547241\ttest: 0.7964287\tbest: 0.7975081 (2040)\ttotal: 6m 10s\tremaining: 4m 17s\n"
     ]
    },
    {
     "name": "stdout",
     "output_type": "stream",
     "text": [
      "3000:\tlearn: 0.8556726\ttest: 0.7968568\tbest: 0.7975081 (2040)\ttotal: 6m 16s\tremaining: 4m 10s\n"
     ]
    },
    {
     "name": "stdout",
     "output_type": "stream",
     "text": [
      "3050:\tlearn: 0.8567468\ttest: 0.7965885\tbest: 0.7975081 (2040)\ttotal: 6m 22s\tremaining: 4m 4s\n"
     ]
    },
    {
     "name": "stdout",
     "output_type": "stream",
     "text": [
      "3100:\tlearn: 0.8576844\ttest: 0.7968111\tbest: 0.7975081 (2040)\ttotal: 6m 29s\tremaining: 3m 58s\n"
     ]
    },
    {
     "name": "stdout",
     "output_type": "stream",
     "text": [
      "3150:\tlearn: 0.8588949\ttest: 0.7971604\tbest: 0.7975081 (2040)\ttotal: 6m 35s\tremaining: 3m 52s\n"
     ]
    },
    {
     "name": "stdout",
     "output_type": "stream",
     "text": [
      "3200:\tlearn: 0.8597835\ttest: 0.7973742\tbest: 0.7975081 (2040)\ttotal: 6m 41s\tremaining: 3m 45s\n"
     ]
    },
    {
     "name": "stdout",
     "output_type": "stream",
     "text": [
      "3250:\tlearn: 0.8605273\ttest: 0.7974863\tbest: 0.7975081 (2040)\ttotal: 6m 47s\tremaining: 3m 39s\n"
     ]
    },
    {
     "name": "stdout",
     "output_type": "stream",
     "text": [
      "3300:\tlearn: 0.8612860\ttest: 0.7971888\tbest: 0.7975911 (3255)\ttotal: 6m 54s\tremaining: 3m 33s\n"
     ]
    },
    {
     "name": "stdout",
     "output_type": "stream",
     "text": [
      "3350:\tlearn: 0.8619493\ttest: 0.7974770\tbest: 0.7978420 (3333)\ttotal: 7m\tremaining: 3m 26s\n"
     ]
    },
    {
     "name": "stdout",
     "output_type": "stream",
     "text": [
      "3400:\tlearn: 0.8628784\ttest: 0.7973354\tbest: 0.7978420 (3333)\ttotal: 7m 6s\tremaining: 3m 20s\n"
     ]
    },
    {
     "name": "stdout",
     "output_type": "stream",
     "text": [
      "3450:\tlearn: 0.8638923\ttest: 0.7977875\tbest: 0.7979525 (3446)\ttotal: 7m 13s\tremaining: 3m 14s\n"
     ]
    },
    {
     "name": "stdout",
     "output_type": "stream",
     "text": [
      "3500:\tlearn: 0.8648210\ttest: 0.7970087\tbest: 0.7980216 (3479)\ttotal: 7m 19s\tremaining: 3m 8s\n"
     ]
    },
    {
     "name": "stdout",
     "output_type": "stream",
     "text": [
      "3550:\tlearn: 0.8656908\ttest: 0.7973661\tbest: 0.7980216 (3479)\ttotal: 7m 25s\tremaining: 3m 1s\n"
     ]
    },
    {
     "name": "stdout",
     "output_type": "stream",
     "text": [
      "3600:\tlearn: 0.8664950\ttest: 0.7974291\tbest: 0.7980216 (3479)\ttotal: 7m 31s\tremaining: 2m 55s\n"
     ]
    },
    {
     "name": "stdout",
     "output_type": "stream",
     "text": [
      "3650:\tlearn: 0.8673651\ttest: 0.7974456\tbest: 0.7980216 (3479)\ttotal: 7m 38s\tremaining: 2m 49s\n"
     ]
    },
    {
     "name": "stdout",
     "output_type": "stream",
     "text": [
      "3700:\tlearn: 0.8685240\ttest: 0.7975780\tbest: 0.7980216 (3479)\ttotal: 7m 44s\tremaining: 2m 43s\n"
     ]
    },
    {
     "name": "stdout",
     "output_type": "stream",
     "text": [
      "3750:\tlearn: 0.8694185\ttest: 0.7972020\tbest: 0.7980216 (3479)\ttotal: 7m 50s\tremaining: 2m 36s\n"
     ]
    },
    {
     "name": "stdout",
     "output_type": "stream",
     "text": [
      "3800:\tlearn: 0.8701105\ttest: 0.7971212\tbest: 0.7980216 (3479)\ttotal: 7m 57s\tremaining: 2m 30s\n"
     ]
    },
    {
     "name": "stdout",
     "output_type": "stream",
     "text": [
      "3850:\tlearn: 0.8710621\ttest: 0.7975518\tbest: 0.7980216 (3479)\ttotal: 8m 3s\tremaining: 2m 24s\n"
     ]
    },
    {
     "name": "stdout",
     "output_type": "stream",
     "text": [
      "3900:\tlearn: 0.8719078\ttest: 0.7977597\tbest: 0.7980216 (3479)\ttotal: 8m 9s\tremaining: 2m 17s\n"
     ]
    },
    {
     "name": "stdout",
     "output_type": "stream",
     "text": [
      "3950:\tlearn: 0.8728972\ttest: 0.7977636\tbest: 0.7980216 (3479)\ttotal: 8m 16s\tremaining: 2m 11s\n"
     ]
    },
    {
     "name": "stdout",
     "output_type": "stream",
     "text": [
      "4000:\tlearn: 0.8738526\ttest: 0.7975203\tbest: 0.7980216 (3479)\ttotal: 8m 22s\tremaining: 2m 5s\n"
     ]
    },
    {
     "name": "stdout",
     "output_type": "stream",
     "text": [
      "4050:\tlearn: 0.8747694\ttest: 0.7973196\tbest: 0.7980216 (3479)\ttotal: 8m 28s\tremaining: 1m 59s\n"
     ]
    },
    {
     "name": "stdout",
     "output_type": "stream",
     "text": [
      "4100:\tlearn: 0.8755197\ttest: 0.7976340\tbest: 0.7980216 (3479)\ttotal: 8m 34s\tremaining: 1m 52s\n"
     ]
    },
    {
     "name": "stdout",
     "output_type": "stream",
     "text": [
      "4150:\tlearn: 0.8765782\ttest: 0.7973231\tbest: 0.7980216 (3479)\ttotal: 8m 41s\tremaining: 1m 46s\n"
     ]
    },
    {
     "name": "stdout",
     "output_type": "stream",
     "text": [
      "4200:\tlearn: 0.8773454\ttest: 0.7972169\tbest: 0.7980216 (3479)\ttotal: 8m 47s\tremaining: 1m 40s\n"
     ]
    },
    {
     "name": "stdout",
     "output_type": "stream",
     "text": [
      "4250:\tlearn: 0.8779693\ttest: 0.7976344\tbest: 0.7980216 (3479)\ttotal: 8m 53s\tremaining: 1m 34s\n"
     ]
    },
    {
     "name": "stdout",
     "output_type": "stream",
     "text": [
      "4300:\tlearn: 0.8790171\ttest: 0.7973181\tbest: 0.7980216 (3479)\ttotal: 8m 59s\tremaining: 1m 27s\n"
     ]
    },
    {
     "name": "stdout",
     "output_type": "stream",
     "text": [
      "4350:\tlearn: 0.8796067\ttest: 0.7973627\tbest: 0.7980216 (3479)\ttotal: 9m 6s\tremaining: 1m 21s\n"
     ]
    },
    {
     "name": "stdout",
     "output_type": "stream",
     "text": [
      "4400:\tlearn: 0.8805868\ttest: 0.7972402\tbest: 0.7980216 (3479)\ttotal: 9m 12s\tremaining: 1m 15s\n"
     ]
    },
    {
     "name": "stdout",
     "output_type": "stream",
     "text": [
      "4450:\tlearn: 0.8812567\ttest: 0.7971081\tbest: 0.7980216 (3479)\ttotal: 9m 18s\tremaining: 1m 8s\n"
     ]
    },
    {
     "name": "stdout",
     "output_type": "stream",
     "text": [
      "4500:\tlearn: 0.8820048\ttest: 0.7972558\tbest: 0.7980216 (3479)\ttotal: 9m 24s\tremaining: 1m 2s\n"
     ]
    },
    {
     "name": "stdout",
     "output_type": "stream",
     "text": [
      "4550:\tlearn: 0.8827675\ttest: 0.7971316\tbest: 0.7980216 (3479)\ttotal: 9m 31s\tremaining: 56.3s\n"
     ]
    },
    {
     "name": "stdout",
     "output_type": "stream",
     "text": [
      "4600:\tlearn: 0.8834585\ttest: 0.7974662\tbest: 0.7980216 (3479)\ttotal: 9m 37s\tremaining: 50.1s\n"
     ]
    },
    {
     "name": "stdout",
     "output_type": "stream",
     "text": [
      "4650:\tlearn: 0.8843190\ttest: 0.7975463\tbest: 0.7980216 (3479)\ttotal: 9m 43s\tremaining: 43.8s\n"
     ]
    },
    {
     "name": "stdout",
     "output_type": "stream",
     "text": [
      "4700:\tlearn: 0.8851218\ttest: 0.7972743\tbest: 0.7980216 (3479)\ttotal: 9m 49s\tremaining: 37.5s\n"
     ]
    },
    {
     "name": "stdout",
     "output_type": "stream",
     "text": [
      "4750:\tlearn: 0.8859939\ttest: 0.7972664\tbest: 0.7980216 (3479)\ttotal: 9m 56s\tremaining: 31.2s\n"
     ]
    },
    {
     "name": "stdout",
     "output_type": "stream",
     "text": [
      "4800:\tlearn: 0.8869122\ttest: 0.7974293\tbest: 0.7980216 (3479)\ttotal: 10m 2s\tremaining: 25s\n"
     ]
    },
    {
     "name": "stdout",
     "output_type": "stream",
     "text": [
      "4850:\tlearn: 0.8876688\ttest: 0.7974303\tbest: 0.7980216 (3479)\ttotal: 10m 8s\tremaining: 18.7s\n"
     ]
    },
    {
     "name": "stdout",
     "output_type": "stream",
     "text": [
      "4900:\tlearn: 0.8884908\ttest: 0.7972646\tbest: 0.7980216 (3479)\ttotal: 10m 14s\tremaining: 12.4s\n"
     ]
    },
    {
     "name": "stdout",
     "output_type": "stream",
     "text": [
      "4950:\tlearn: 0.8894312\ttest: 0.7974536\tbest: 0.7980216 (3479)\ttotal: 10m 21s\tremaining: 6.15s\n"
     ]
    },
    {
     "name": "stdout",
     "output_type": "stream",
     "text": [
      "4999:\tlearn: 0.8900763\ttest: 0.7973121\tbest: 0.7980216 (3479)\ttotal: 10m 27s\tremaining: 0us\n",
      "\n",
      "bestTest = 0.7980216359\n",
      "bestIteration = 3479\n",
      "\n"
     ]
    },
    {
     "name": "stdout",
     "output_type": "stream",
     "text": [
      "######################################## training model 3/5 ########################################\n",
      "seed: 22\n"
     ]
    },
    {
     "name": "stdout",
     "output_type": "stream",
     "text": [
      "0:\tlearn: 0.5430757\ttest: 0.5443706\tbest: 0.5443706 (0)\ttotal: 444ms\tremaining: 36m 59s\n"
     ]
    },
    {
     "name": "stdout",
     "output_type": "stream",
     "text": [
      "50:\tlearn: 0.7444432\ttest: 0.7449902\tbest: 0.7449902 (50)\ttotal: 6.6s\tremaining: 10m 40s\n"
     ]
    },
    {
     "name": "stdout",
     "output_type": "stream",
     "text": [
      "100:\tlearn: 0.7561955\ttest: 0.7558552\tbest: 0.7558552 (100)\ttotal: 12.9s\tremaining: 10m 24s\n"
     ]
    },
    {
     "name": "stdout",
     "output_type": "stream",
     "text": [
      "150:\tlearn: 0.7625214\ttest: 0.7615576\tbest: 0.7617204 (149)\ttotal: 19.2s\tremaining: 10m 15s\n"
     ]
    },
    {
     "name": "stdout",
     "output_type": "stream",
     "text": [
      "200:\tlearn: 0.7669701\ttest: 0.7656878\tbest: 0.7659002 (197)\ttotal: 25.5s\tremaining: 10m 8s\n"
     ]
    },
    {
     "name": "stdout",
     "output_type": "stream",
     "text": [
      "250:\tlearn: 0.7707370\ttest: 0.7684956\tbest: 0.7684956 (250)\ttotal: 31.8s\tremaining: 10m 2s\n"
     ]
    },
    {
     "name": "stdout",
     "output_type": "stream",
     "text": [
      "300:\tlearn: 0.7753805\ttest: 0.7728082\tbest: 0.7728082 (300)\ttotal: 38.2s\tremaining: 9m 55s\n"
     ]
    },
    {
     "name": "stdout",
     "output_type": "stream",
     "text": [
      "350:\tlearn: 0.7819467\ttest: 0.7772896\tbest: 0.7773331 (349)\ttotal: 44.5s\tremaining: 9m 49s\n"
     ]
    },
    {
     "name": "stdout",
     "output_type": "stream",
     "text": [
      "400:\tlearn: 0.7865235\ttest: 0.7813533\tbest: 0.7813533 (400)\ttotal: 50.8s\tremaining: 9m 42s\n"
     ]
    },
    {
     "name": "stdout",
     "output_type": "stream",
     "text": [
      "450:\tlearn: 0.7895352\ttest: 0.7836488\tbest: 0.7838157 (448)\ttotal: 57.1s\tremaining: 9m 35s\n"
     ]
    },
    {
     "name": "stdout",
     "output_type": "stream",
     "text": [
      "500:\tlearn: 0.7924244\ttest: 0.7859792\tbest: 0.7860911 (498)\ttotal: 1m 3s\tremaining: 9m 29s\n"
     ]
    },
    {
     "name": "stdout",
     "output_type": "stream",
     "text": [
      "550:\tlearn: 0.7950457\ttest: 0.7873603\tbest: 0.7874200 (544)\ttotal: 1m 9s\tremaining: 9m 22s\n"
     ]
    },
    {
     "name": "stdout",
     "output_type": "stream",
     "text": [
      "600:\tlearn: 0.7970446\ttest: 0.7880595\tbest: 0.7883107 (583)\ttotal: 1m 15s\tremaining: 9m 15s\n"
     ]
    },
    {
     "name": "stdout",
     "output_type": "stream",
     "text": [
      "650:\tlearn: 0.7991126\ttest: 0.7883649\tbest: 0.7886216 (646)\ttotal: 1m 22s\tremaining: 9m 8s\n"
     ]
    },
    {
     "name": "stdout",
     "output_type": "stream",
     "text": [
      "700:\tlearn: 0.8013467\ttest: 0.7881688\tbest: 0.7886602 (665)\ttotal: 1m 28s\tremaining: 9m 2s\n"
     ]
    },
    {
     "name": "stdout",
     "output_type": "stream",
     "text": [
      "750:\tlearn: 0.8031844\ttest: 0.7888365\tbest: 0.7889425 (738)\ttotal: 1m 34s\tremaining: 8m 56s\n"
     ]
    },
    {
     "name": "stdout",
     "output_type": "stream",
     "text": [
      "800:\tlearn: 0.8051115\ttest: 0.7893908\tbest: 0.7895386 (791)\ttotal: 1m 41s\tremaining: 8m 50s\n"
     ]
    },
    {
     "name": "stdout",
     "output_type": "stream",
     "text": [
      "850:\tlearn: 0.8068640\ttest: 0.7898945\tbest: 0.7898945 (850)\ttotal: 1m 47s\tremaining: 8m 43s\n"
     ]
    },
    {
     "name": "stdout",
     "output_type": "stream",
     "text": [
      "900:\tlearn: 0.8088340\ttest: 0.7902331\tbest: 0.7905321 (863)\ttotal: 1m 53s\tremaining: 8m 37s\n"
     ]
    },
    {
     "name": "stdout",
     "output_type": "stream",
     "text": [
      "950:\tlearn: 0.8103036\ttest: 0.7904525\tbest: 0.7906693 (923)\ttotal: 2m\tremaining: 8m 30s\n"
     ]
    },
    {
     "name": "stdout",
     "output_type": "stream",
     "text": [
      "1000:\tlearn: 0.8118593\ttest: 0.7903966\tbest: 0.7908428 (959)\ttotal: 2m 6s\tremaining: 8m 24s\n"
     ]
    },
    {
     "name": "stdout",
     "output_type": "stream",
     "text": [
      "1050:\tlearn: 0.8133530\ttest: 0.7903974\tbest: 0.7908428 (959)\ttotal: 2m 12s\tremaining: 8m 18s\n"
     ]
    },
    {
     "name": "stdout",
     "output_type": "stream",
     "text": [
      "1100:\tlearn: 0.8147339\ttest: 0.7909868\tbest: 0.7910912 (1097)\ttotal: 2m 18s\tremaining: 8m 11s\n"
     ]
    },
    {
     "name": "stdout",
     "output_type": "stream",
     "text": [
      "1150:\tlearn: 0.8159166\ttest: 0.7906979\tbest: 0.7913996 (1120)\ttotal: 2m 25s\tremaining: 8m 5s\n"
     ]
    },
    {
     "name": "stdout",
     "output_type": "stream",
     "text": [
      "1200:\tlearn: 0.8173697\ttest: 0.7911355\tbest: 0.7914131 (1187)\ttotal: 2m 31s\tremaining: 7m 59s\n"
     ]
    },
    {
     "name": "stdout",
     "output_type": "stream",
     "text": [
      "1250:\tlearn: 0.8185019\ttest: 0.7908045\tbest: 0.7914131 (1187)\ttotal: 2m 37s\tremaining: 7m 53s\n"
     ]
    },
    {
     "name": "stdout",
     "output_type": "stream",
     "text": [
      "1300:\tlearn: 0.8197878\ttest: 0.7906681\tbest: 0.7914131 (1187)\ttotal: 2m 44s\tremaining: 7m 46s\n"
     ]
    },
    {
     "name": "stdout",
     "output_type": "stream",
     "text": [
      "1350:\tlearn: 0.8211590\ttest: 0.7908070\tbest: 0.7914131 (1187)\ttotal: 2m 50s\tremaining: 7m 40s\n"
     ]
    },
    {
     "name": "stdout",
     "output_type": "stream",
     "text": [
      "1400:\tlearn: 0.8226972\ttest: 0.7910522\tbest: 0.7914131 (1187)\ttotal: 2m 56s\tremaining: 7m 34s\n"
     ]
    },
    {
     "name": "stdout",
     "output_type": "stream",
     "text": [
      "1450:\tlearn: 0.8241139\ttest: 0.7913694\tbest: 0.7916950 (1420)\ttotal: 3m 3s\tremaining: 7m 27s\n"
     ]
    },
    {
     "name": "stdout",
     "output_type": "stream",
     "text": [
      "1500:\tlearn: 0.8252818\ttest: 0.7914412\tbest: 0.7916950 (1420)\ttotal: 3m 9s\tremaining: 7m 21s\n"
     ]
    },
    {
     "name": "stdout",
     "output_type": "stream",
     "text": [
      "1550:\tlearn: 0.8267599\ttest: 0.7913540\tbest: 0.7918067 (1512)\ttotal: 3m 15s\tremaining: 7m 14s\n"
     ]
    },
    {
     "name": "stdout",
     "output_type": "stream",
     "text": [
      "1600:\tlearn: 0.8277880\ttest: 0.7917667\tbest: 0.7918067 (1512)\ttotal: 3m 21s\tremaining: 7m 8s\n"
     ]
    },
    {
     "name": "stdout",
     "output_type": "stream",
     "text": [
      "1650:\tlearn: 0.8290518\ttest: 0.7919253\tbest: 0.7919765 (1627)\ttotal: 3m 28s\tremaining: 7m 2s\n"
     ]
    },
    {
     "name": "stdout",
     "output_type": "stream",
     "text": [
      "1700:\tlearn: 0.8300848\ttest: 0.7918772\tbest: 0.7921439 (1686)\ttotal: 3m 34s\tremaining: 6m 55s\n"
     ]
    },
    {
     "name": "stdout",
     "output_type": "stream",
     "text": [
      "1750:\tlearn: 0.8311915\ttest: 0.7918293\tbest: 0.7921657 (1749)\ttotal: 3m 40s\tremaining: 6m 49s\n"
     ]
    },
    {
     "name": "stdout",
     "output_type": "stream",
     "text": [
      "1800:\tlearn: 0.8321603\ttest: 0.7922068\tbest: 0.7923539 (1799)\ttotal: 3m 46s\tremaining: 6m 43s\n"
     ]
    },
    {
     "name": "stdout",
     "output_type": "stream",
     "text": [
      "1850:\tlearn: 0.8330908\ttest: 0.7922550\tbest: 0.7926280 (1842)\ttotal: 3m 53s\tremaining: 6m 36s\n"
     ]
    },
    {
     "name": "stdout",
     "output_type": "stream",
     "text": [
      "1900:\tlearn: 0.8341948\ttest: 0.7926458\tbest: 0.7926637 (1892)\ttotal: 3m 59s\tremaining: 6m 30s\n"
     ]
    },
    {
     "name": "stdout",
     "output_type": "stream",
     "text": [
      "1950:\tlearn: 0.8355031\ttest: 0.7922804\tbest: 0.7928028 (1935)\ttotal: 4m 5s\tremaining: 6m 23s\n"
     ]
    },
    {
     "name": "stdout",
     "output_type": "stream",
     "text": [
      "2000:\tlearn: 0.8366588\ttest: 0.7920607\tbest: 0.7928028 (1935)\ttotal: 4m 11s\tremaining: 6m 17s\n"
     ]
    },
    {
     "name": "stdout",
     "output_type": "stream",
     "text": [
      "2050:\tlearn: 0.8377665\ttest: 0.7925173\tbest: 0.7928028 (1935)\ttotal: 4m 18s\tremaining: 6m 11s\n"
     ]
    },
    {
     "name": "stdout",
     "output_type": "stream",
     "text": [
      "2100:\tlearn: 0.8387765\ttest: 0.7919665\tbest: 0.7928028 (1935)\ttotal: 4m 24s\tremaining: 6m 4s\n"
     ]
    },
    {
     "name": "stdout",
     "output_type": "stream",
     "text": [
      "2150:\tlearn: 0.8396689\ttest: 0.7918942\tbest: 0.7928028 (1935)\ttotal: 4m 30s\tremaining: 5m 58s\n"
     ]
    },
    {
     "name": "stdout",
     "output_type": "stream",
     "text": [
      "2200:\tlearn: 0.8407655\ttest: 0.7921146\tbest: 0.7928028 (1935)\ttotal: 4m 36s\tremaining: 5m 52s\n"
     ]
    },
    {
     "name": "stdout",
     "output_type": "stream",
     "text": [
      "2250:\tlearn: 0.8418932\ttest: 0.7920441\tbest: 0.7928028 (1935)\ttotal: 4m 43s\tremaining: 5m 45s\n"
     ]
    },
    {
     "name": "stdout",
     "output_type": "stream",
     "text": [
      "2300:\tlearn: 0.8429949\ttest: 0.7924010\tbest: 0.7928028 (1935)\ttotal: 4m 49s\tremaining: 5m 39s\n"
     ]
    },
    {
     "name": "stdout",
     "output_type": "stream",
     "text": [
      "2350:\tlearn: 0.8444432\ttest: 0.7927516\tbest: 0.7930266 (2340)\ttotal: 4m 55s\tremaining: 5m 33s\n"
     ]
    },
    {
     "name": "stdout",
     "output_type": "stream",
     "text": [
      "2400:\tlearn: 0.8455299\ttest: 0.7927608\tbest: 0.7930266 (2340)\ttotal: 5m 2s\tremaining: 5m 26s\n"
     ]
    },
    {
     "name": "stdout",
     "output_type": "stream",
     "text": [
      "2450:\tlearn: 0.8464756\ttest: 0.7929184\tbest: 0.7933293 (2425)\ttotal: 5m 8s\tremaining: 5m 20s\n"
     ]
    },
    {
     "name": "stdout",
     "output_type": "stream",
     "text": [
      "2500:\tlearn: 0.8473054\ttest: 0.7930650\tbest: 0.7933293 (2425)\ttotal: 5m 14s\tremaining: 5m 14s\n"
     ]
    },
    {
     "name": "stdout",
     "output_type": "stream",
     "text": [
      "2550:\tlearn: 0.8482642\ttest: 0.7935811\tbest: 0.7935811 (2550)\ttotal: 5m 20s\tremaining: 5m 7s\n"
     ]
    },
    {
     "name": "stdout",
     "output_type": "stream",
     "text": [
      "2600:\tlearn: 0.8493927\ttest: 0.7927969\tbest: 0.7935811 (2550)\ttotal: 5m 27s\tremaining: 5m 1s\n"
     ]
    },
    {
     "name": "stdout",
     "output_type": "stream",
     "text": [
      "2650:\tlearn: 0.8504158\ttest: 0.7928003\tbest: 0.7935811 (2550)\ttotal: 5m 33s\tremaining: 4m 55s\n"
     ]
    },
    {
     "name": "stdout",
     "output_type": "stream",
     "text": [
      "2700:\tlearn: 0.8515110\ttest: 0.7929625\tbest: 0.7935811 (2550)\ttotal: 5m 39s\tremaining: 4m 49s\n"
     ]
    },
    {
     "name": "stdout",
     "output_type": "stream",
     "text": [
      "2750:\tlearn: 0.8524627\ttest: 0.7925609\tbest: 0.7935811 (2550)\ttotal: 5m 45s\tremaining: 4m 42s\n"
     ]
    },
    {
     "name": "stdout",
     "output_type": "stream",
     "text": [
      "2800:\tlearn: 0.8537641\ttest: 0.7927779\tbest: 0.7935811 (2550)\ttotal: 5m 52s\tremaining: 4m 36s\n"
     ]
    },
    {
     "name": "stdout",
     "output_type": "stream",
     "text": [
      "2850:\tlearn: 0.8547956\ttest: 0.7930875\tbest: 0.7935811 (2550)\ttotal: 5m 58s\tremaining: 4m 30s\n"
     ]
    },
    {
     "name": "stdout",
     "output_type": "stream",
     "text": [
      "2900:\tlearn: 0.8560463\ttest: 0.7929406\tbest: 0.7935811 (2550)\ttotal: 6m 4s\tremaining: 4m 23s\n"
     ]
    },
    {
     "name": "stdout",
     "output_type": "stream",
     "text": [
      "2950:\tlearn: 0.8569765\ttest: 0.7932568\tbest: 0.7935811 (2550)\ttotal: 6m 11s\tremaining: 4m 17s\n"
     ]
    },
    {
     "name": "stdout",
     "output_type": "stream",
     "text": [
      "3000:\tlearn: 0.8580502\ttest: 0.7932452\tbest: 0.7935811 (2550)\ttotal: 6m 17s\tremaining: 4m 11s\n"
     ]
    },
    {
     "name": "stdout",
     "output_type": "stream",
     "text": [
      "3050:\tlearn: 0.8588096\ttest: 0.7932466\tbest: 0.7935811 (2550)\ttotal: 6m 23s\tremaining: 4m 5s\n"
     ]
    },
    {
     "name": "stdout",
     "output_type": "stream",
     "text": [
      "3100:\tlearn: 0.8599005\ttest: 0.7933607\tbest: 0.7935811 (2550)\ttotal: 6m 29s\tremaining: 3m 58s\n"
     ]
    },
    {
     "name": "stdout",
     "output_type": "stream",
     "text": [
      "3150:\tlearn: 0.8606304\ttest: 0.7928290\tbest: 0.7935811 (2550)\ttotal: 6m 36s\tremaining: 3m 52s\n"
     ]
    },
    {
     "name": "stdout",
     "output_type": "stream",
     "text": [
      "3200:\tlearn: 0.8615932\ttest: 0.7928177\tbest: 0.7935811 (2550)\ttotal: 6m 42s\tremaining: 3m 46s\n"
     ]
    },
    {
     "name": "stdout",
     "output_type": "stream",
     "text": [
      "3250:\tlearn: 0.8623936\ttest: 0.7929472\tbest: 0.7935811 (2550)\ttotal: 6m 48s\tremaining: 3m 39s\n"
     ]
    },
    {
     "name": "stdout",
     "output_type": "stream",
     "text": [
      "3300:\tlearn: 0.8636316\ttest: 0.7929607\tbest: 0.7935811 (2550)\ttotal: 6m 54s\tremaining: 3m 33s\n"
     ]
    },
    {
     "name": "stdout",
     "output_type": "stream",
     "text": [
      "3350:\tlearn: 0.8643575\ttest: 0.7928659\tbest: 0.7935811 (2550)\ttotal: 7m 1s\tremaining: 3m 27s\n"
     ]
    },
    {
     "name": "stdout",
     "output_type": "stream",
     "text": [
      "3400:\tlearn: 0.8654079\ttest: 0.7927196\tbest: 0.7935811 (2550)\ttotal: 7m 7s\tremaining: 3m 21s\n"
     ]
    },
    {
     "name": "stdout",
     "output_type": "stream",
     "text": [
      "3450:\tlearn: 0.8665889\ttest: 0.7925139\tbest: 0.7935811 (2550)\ttotal: 7m 13s\tremaining: 3m 14s\n"
     ]
    },
    {
     "name": "stdout",
     "output_type": "stream",
     "text": [
      "3500:\tlearn: 0.8674869\ttest: 0.7924970\tbest: 0.7935811 (2550)\ttotal: 7m 20s\tremaining: 3m 8s\n"
     ]
    },
    {
     "name": "stdout",
     "output_type": "stream",
     "text": [
      "3550:\tlearn: 0.8683223\ttest: 0.7928820\tbest: 0.7935811 (2550)\ttotal: 7m 26s\tremaining: 3m 2s\n"
     ]
    },
    {
     "name": "stdout",
     "output_type": "stream",
     "text": [
      "3600:\tlearn: 0.8693028\ttest: 0.7924415\tbest: 0.7935811 (2550)\ttotal: 7m 32s\tremaining: 2m 55s\n"
     ]
    },
    {
     "name": "stdout",
     "output_type": "stream",
     "text": [
      "3650:\tlearn: 0.8700975\ttest: 0.7927076\tbest: 0.7935811 (2550)\ttotal: 7m 39s\tremaining: 2m 49s\n"
     ]
    },
    {
     "name": "stdout",
     "output_type": "stream",
     "text": [
      "3700:\tlearn: 0.8710956\ttest: 0.7928293\tbest: 0.7935811 (2550)\ttotal: 7m 45s\tremaining: 2m 43s\n"
     ]
    },
    {
     "name": "stdout",
     "output_type": "stream",
     "text": [
      "3750:\tlearn: 0.8718554\ttest: 0.7931446\tbest: 0.7935811 (2550)\ttotal: 7m 51s\tremaining: 2m 37s\n"
     ]
    },
    {
     "name": "stdout",
     "output_type": "stream",
     "text": [
      "3800:\tlearn: 0.8728429\ttest: 0.7930403\tbest: 0.7935811 (2550)\ttotal: 7m 57s\tremaining: 2m 30s\n"
     ]
    },
    {
     "name": "stdout",
     "output_type": "stream",
     "text": [
      "3850:\tlearn: 0.8738716\ttest: 0.7925721\tbest: 0.7935811 (2550)\ttotal: 8m 4s\tremaining: 2m 24s\n"
     ]
    },
    {
     "name": "stdout",
     "output_type": "stream",
     "text": [
      "3900:\tlearn: 0.8744613\ttest: 0.7926791\tbest: 0.7935811 (2550)\ttotal: 8m 10s\tremaining: 2m 18s\n"
     ]
    },
    {
     "name": "stdout",
     "output_type": "stream",
     "text": [
      "3950:\tlearn: 0.8754966\ttest: 0.7924079\tbest: 0.7935811 (2550)\ttotal: 8m 16s\tremaining: 2m 11s\n"
     ]
    },
    {
     "name": "stdout",
     "output_type": "stream",
     "text": [
      "4000:\tlearn: 0.8766064\ttest: 0.7925603\tbest: 0.7935811 (2550)\ttotal: 8m 22s\tremaining: 2m 5s\n"
     ]
    },
    {
     "name": "stdout",
     "output_type": "stream",
     "text": [
      "4050:\tlearn: 0.8774578\ttest: 0.7931717\tbest: 0.7935811 (2550)\ttotal: 8m 29s\tremaining: 1m 59s\n"
     ]
    },
    {
     "name": "stdout",
     "output_type": "stream",
     "text": [
      "4100:\tlearn: 0.8781744\ttest: 0.7929590\tbest: 0.7935811 (2550)\ttotal: 8m 35s\tremaining: 1m 53s\n"
     ]
    },
    {
     "name": "stdout",
     "output_type": "stream",
     "text": [
      "4150:\tlearn: 0.8789131\ttest: 0.7924987\tbest: 0.7935811 (2550)\ttotal: 8m 41s\tremaining: 1m 46s\n"
     ]
    },
    {
     "name": "stdout",
     "output_type": "stream",
     "text": [
      "4200:\tlearn: 0.8798203\ttest: 0.7923476\tbest: 0.7935811 (2550)\ttotal: 8m 48s\tremaining: 1m 40s\n"
     ]
    },
    {
     "name": "stdout",
     "output_type": "stream",
     "text": [
      "4250:\tlearn: 0.8806614\ttest: 0.7923701\tbest: 0.7935811 (2550)\ttotal: 8m 54s\tremaining: 1m 34s\n"
     ]
    },
    {
     "name": "stdout",
     "output_type": "stream",
     "text": [
      "4300:\tlearn: 0.8816810\ttest: 0.7925802\tbest: 0.7935811 (2550)\ttotal: 9m\tremaining: 1m 27s\n"
     ]
    },
    {
     "name": "stdout",
     "output_type": "stream",
     "text": [
      "4350:\tlearn: 0.8828010\ttest: 0.7928786\tbest: 0.7935811 (2550)\ttotal: 9m 6s\tremaining: 1m 21s\n"
     ]
    },
    {
     "name": "stdout",
     "output_type": "stream",
     "text": [
      "4400:\tlearn: 0.8835691\ttest: 0.7924804\tbest: 0.7935811 (2550)\ttotal: 9m 13s\tremaining: 1m 15s\n"
     ]
    },
    {
     "name": "stdout",
     "output_type": "stream",
     "text": [
      "4450:\tlearn: 0.8844572\ttest: 0.7929409\tbest: 0.7935811 (2550)\ttotal: 9m 19s\tremaining: 1m 9s\n"
     ]
    },
    {
     "name": "stdout",
     "output_type": "stream",
     "text": [
      "4500:\tlearn: 0.8852219\ttest: 0.7932008\tbest: 0.7935811 (2550)\ttotal: 9m 25s\tremaining: 1m 2s\n"
     ]
    },
    {
     "name": "stdout",
     "output_type": "stream",
     "text": [
      "4550:\tlearn: 0.8860516\ttest: 0.7931776\tbest: 0.7935811 (2550)\ttotal: 9m 32s\tremaining: 56.4s\n"
     ]
    },
    {
     "name": "stdout",
     "output_type": "stream",
     "text": [
      "4600:\tlearn: 0.8869323\ttest: 0.7930308\tbest: 0.7935811 (2550)\ttotal: 9m 38s\tremaining: 50.2s\n"
     ]
    },
    {
     "name": "stdout",
     "output_type": "stream",
     "text": [
      "4650:\tlearn: 0.8876016\ttest: 0.7936217\tbest: 0.7936217 (4650)\ttotal: 9m 44s\tremaining: 43.9s\n"
     ]
    },
    {
     "name": "stdout",
     "output_type": "stream",
     "text": [
      "4700:\tlearn: 0.8882880\ttest: 0.7931602\tbest: 0.7936438 (4665)\ttotal: 9m 50s\tremaining: 37.6s\n"
     ]
    },
    {
     "name": "stdout",
     "output_type": "stream",
     "text": [
      "4750:\tlearn: 0.8892123\ttest: 0.7933243\tbest: 0.7936438 (4665)\ttotal: 9m 57s\tremaining: 31.3s\n"
     ]
    },
    {
     "name": "stdout",
     "output_type": "stream",
     "text": [
      "4800:\tlearn: 0.8900420\ttest: 0.7937170\tbest: 0.7937393 (4793)\ttotal: 10m 3s\tremaining: 25s\n"
     ]
    },
    {
     "name": "stdout",
     "output_type": "stream",
     "text": [
      "4850:\tlearn: 0.8908506\ttest: 0.7932394\tbest: 0.7938880 (4802)\ttotal: 10m 9s\tremaining: 18.7s\n"
     ]
    },
    {
     "name": "stdout",
     "output_type": "stream",
     "text": [
      "4900:\tlearn: 0.8917729\ttest: 0.7930814\tbest: 0.7938880 (4802)\ttotal: 10m 15s\tremaining: 12.4s\n"
     ]
    },
    {
     "name": "stdout",
     "output_type": "stream",
     "text": [
      "4950:\tlearn: 0.8924610\ttest: 0.7931944\tbest: 0.7938880 (4802)\ttotal: 10m 22s\tremaining: 6.16s\n"
     ]
    },
    {
     "name": "stdout",
     "output_type": "stream",
     "text": [
      "4999:\tlearn: 0.8931354\ttest: 0.7932983\tbest: 0.7938880 (4802)\ttotal: 10m 28s\tremaining: 0us\n",
      "\n",
      "bestTest = 0.7938879733\n",
      "bestIteration = 4802\n",
      "\n"
     ]
    },
    {
     "name": "stdout",
     "output_type": "stream",
     "text": [
      "######################################## training model 4/5 ########################################\n",
      "seed: 23\n"
     ]
    },
    {
     "name": "stdout",
     "output_type": "stream",
     "text": [
      "0:\tlearn: 0.4628010\ttest: 0.4632418\tbest: 0.4632418 (0)\ttotal: 446ms\tremaining: 37m 7s\n"
     ]
    },
    {
     "name": "stdout",
     "output_type": "stream",
     "text": [
      "50:\tlearn: 0.7397143\ttest: 0.7398575\tbest: 0.7398575 (50)\ttotal: 6.65s\tremaining: 10m 45s\n"
     ]
    },
    {
     "name": "stdout",
     "output_type": "stream",
     "text": [
      "100:\tlearn: 0.7552563\ttest: 0.7543054\tbest: 0.7543054 (100)\ttotal: 13s\tremaining: 10m 28s\n"
     ]
    },
    {
     "name": "stdout",
     "output_type": "stream",
     "text": [
      "150:\tlearn: 0.7637971\ttest: 0.7618752\tbest: 0.7618752 (150)\ttotal: 19.3s\tremaining: 10m 18s\n"
     ]
    },
    {
     "name": "stdout",
     "output_type": "stream",
     "text": [
      "200:\tlearn: 0.7674444\ttest: 0.7654357\tbest: 0.7654357 (200)\ttotal: 25.6s\tremaining: 10m 11s\n"
     ]
    },
    {
     "name": "stdout",
     "output_type": "stream",
     "text": [
      "250:\tlearn: 0.7718787\ttest: 0.7685065\tbest: 0.7686961 (249)\ttotal: 31.9s\tremaining: 10m 4s\n"
     ]
    },
    {
     "name": "stdout",
     "output_type": "stream",
     "text": [
      "300:\tlearn: 0.7765068\ttest: 0.7718083\tbest: 0.7718778 (299)\ttotal: 38.2s\tremaining: 9m 56s\n"
     ]
    },
    {
     "name": "stdout",
     "output_type": "stream",
     "text": [
      "350:\tlearn: 0.7831352\ttest: 0.7784376\tbest: 0.7784376 (350)\ttotal: 44.5s\tremaining: 9m 49s\n"
     ]
    },
    {
     "name": "stdout",
     "output_type": "stream",
     "text": [
      "400:\tlearn: 0.7875044\ttest: 0.7814044\tbest: 0.7816431 (396)\ttotal: 50.8s\tremaining: 9m 43s\n"
     ]
    },
    {
     "name": "stdout",
     "output_type": "stream",
     "text": [
      "450:\tlearn: 0.7904361\ttest: 0.7832974\tbest: 0.7832974 (450)\ttotal: 57.2s\tremaining: 9m 37s\n"
     ]
    },
    {
     "name": "stdout",
     "output_type": "stream",
     "text": [
      "500:\tlearn: 0.7931717\ttest: 0.7844826\tbest: 0.7845857 (499)\ttotal: 1m 3s\tremaining: 9m 30s\n"
     ]
    },
    {
     "name": "stdout",
     "output_type": "stream",
     "text": [
      "550:\tlearn: 0.7953408\ttest: 0.7851996\tbest: 0.7853204 (549)\ttotal: 1m 9s\tremaining: 9m 24s\n"
     ]
    },
    {
     "name": "stdout",
     "output_type": "stream",
     "text": [
      "600:\tlearn: 0.7976620\ttest: 0.7864776\tbest: 0.7864776 (600)\ttotal: 1m 16s\tremaining: 9m 18s\n"
     ]
    },
    {
     "name": "stdout",
     "output_type": "stream",
     "text": [
      "650:\tlearn: 0.7996080\ttest: 0.7864372\tbest: 0.7865978 (625)\ttotal: 1m 22s\tremaining: 9m 11s\n"
     ]
    },
    {
     "name": "stdout",
     "output_type": "stream",
     "text": [
      "700:\tlearn: 0.8015951\ttest: 0.7874617\tbest: 0.7877730 (698)\ttotal: 1m 29s\tremaining: 9m 5s\n"
     ]
    },
    {
     "name": "stdout",
     "output_type": "stream",
     "text": [
      "750:\tlearn: 0.8029712\ttest: 0.7879684\tbest: 0.7881444 (719)\ttotal: 1m 35s\tremaining: 8m 59s\n"
     ]
    },
    {
     "name": "stdout",
     "output_type": "stream",
     "text": [
      "800:\tlearn: 0.8047514\ttest: 0.7889743\tbest: 0.7892627 (796)\ttotal: 1m 41s\tremaining: 8m 53s\n"
     ]
    },
    {
     "name": "stdout",
     "output_type": "stream",
     "text": [
      "850:\tlearn: 0.8067562\ttest: 0.7893813\tbest: 0.7895372 (840)\ttotal: 1m 48s\tremaining: 8m 47s\n"
     ]
    },
    {
     "name": "stdout",
     "output_type": "stream",
     "text": [
      "900:\tlearn: 0.8082598\ttest: 0.7898087\tbest: 0.7898258 (883)\ttotal: 1m 54s\tremaining: 8m 41s\n"
     ]
    },
    {
     "name": "stdout",
     "output_type": "stream",
     "text": [
      "950:\tlearn: 0.8099349\ttest: 0.7894135\tbest: 0.7899382 (902)\ttotal: 2m 1s\tremaining: 8m 35s\n"
     ]
    },
    {
     "name": "stdout",
     "output_type": "stream",
     "text": [
      "1000:\tlearn: 0.8117973\ttest: 0.7898972\tbest: 0.7899382 (902)\ttotal: 2m 7s\tremaining: 8m 28s\n"
     ]
    },
    {
     "name": "stdout",
     "output_type": "stream",
     "text": [
      "1050:\tlearn: 0.8133035\ttest: 0.7899787\tbest: 0.7904942 (1040)\ttotal: 2m 13s\tremaining: 8m 22s\n"
     ]
    },
    {
     "name": "stdout",
     "output_type": "stream",
     "text": [
      "1100:\tlearn: 0.8143067\ttest: 0.7898876\tbest: 0.7904942 (1040)\ttotal: 2m 20s\tremaining: 8m 16s\n"
     ]
    },
    {
     "name": "stdout",
     "output_type": "stream",
     "text": [
      "1150:\tlearn: 0.8158843\ttest: 0.7904555\tbest: 0.7905674 (1132)\ttotal: 2m 26s\tremaining: 8m 9s\n"
     ]
    },
    {
     "name": "stdout",
     "output_type": "stream",
     "text": [
      "1200:\tlearn: 0.8170391\ttest: 0.7904386\tbest: 0.7906065 (1151)\ttotal: 2m 32s\tremaining: 8m 3s\n"
     ]
    },
    {
     "name": "stdout",
     "output_type": "stream",
     "text": [
      "1250:\tlearn: 0.8185229\ttest: 0.7903159\tbest: 0.7908738 (1214)\ttotal: 2m 39s\tremaining: 7m 56s\n"
     ]
    },
    {
     "name": "stdout",
     "output_type": "stream",
     "text": [
      "1300:\tlearn: 0.8200550\ttest: 0.7906232\tbest: 0.7909922 (1289)\ttotal: 2m 45s\tremaining: 7m 49s\n"
     ]
    },
    {
     "name": "stdout",
     "output_type": "stream",
     "text": [
      "1350:\tlearn: 0.8212343\ttest: 0.7910739\tbest: 0.7912180 (1347)\ttotal: 2m 51s\tremaining: 7m 43s\n"
     ]
    },
    {
     "name": "stdout",
     "output_type": "stream",
     "text": [
      "1400:\tlearn: 0.8224419\ttest: 0.7906870\tbest: 0.7912222 (1351)\ttotal: 2m 57s\tremaining: 7m 37s\n"
     ]
    },
    {
     "name": "stdout",
     "output_type": "stream",
     "text": [
      "1450:\tlearn: 0.8235589\ttest: 0.7913552\tbest: 0.7913947 (1441)\ttotal: 3m 4s\tremaining: 7m 30s\n"
     ]
    },
    {
     "name": "stdout",
     "output_type": "stream",
     "text": [
      "1500:\tlearn: 0.8247600\ttest: 0.7910789\tbest: 0.7916147 (1459)\ttotal: 3m 10s\tremaining: 7m 23s\n"
     ]
    },
    {
     "name": "stdout",
     "output_type": "stream",
     "text": [
      "1550:\tlearn: 0.8258233\ttest: 0.7914685\tbest: 0.7916147 (1459)\ttotal: 3m 16s\tremaining: 7m 17s\n"
     ]
    },
    {
     "name": "stdout",
     "output_type": "stream",
     "text": [
      "1600:\tlearn: 0.8272143\ttest: 0.7917617\tbest: 0.7919063 (1586)\ttotal: 3m 23s\tremaining: 7m 11s\n"
     ]
    },
    {
     "name": "stdout",
     "output_type": "stream",
     "text": [
      "1650:\tlearn: 0.8283206\ttest: 0.7913848\tbest: 0.7919891 (1626)\ttotal: 3m 29s\tremaining: 7m 4s\n"
     ]
    },
    {
     "name": "stdout",
     "output_type": "stream",
     "text": [
      "1700:\tlearn: 0.8294219\ttest: 0.7917291\tbest: 0.7920008 (1662)\ttotal: 3m 35s\tremaining: 6m 58s\n"
     ]
    },
    {
     "name": "stdout",
     "output_type": "stream",
     "text": [
      "1750:\tlearn: 0.8305164\ttest: 0.7919833\tbest: 0.7920008 (1662)\ttotal: 3m 42s\tremaining: 6m 52s\n"
     ]
    },
    {
     "name": "stdout",
     "output_type": "stream",
     "text": [
      "1800:\tlearn: 0.8314730\ttest: 0.7917303\tbest: 0.7920008 (1662)\ttotal: 3m 48s\tremaining: 6m 45s\n"
     ]
    },
    {
     "name": "stdout",
     "output_type": "stream",
     "text": [
      "1850:\tlearn: 0.8324750\ttest: 0.7915662\tbest: 0.7920008 (1662)\ttotal: 3m 54s\tremaining: 6m 39s\n"
     ]
    },
    {
     "name": "stdout",
     "output_type": "stream",
     "text": [
      "1900:\tlearn: 0.8336866\ttest: 0.7921039\tbest: 0.7923140 (1892)\ttotal: 4m 1s\tremaining: 6m 33s\n"
     ]
    },
    {
     "name": "stdout",
     "output_type": "stream",
     "text": [
      "1950:\tlearn: 0.8348976\ttest: 0.7915436\tbest: 0.7923140 (1892)\ttotal: 4m 7s\tremaining: 6m 26s\n"
     ]
    },
    {
     "name": "stdout",
     "output_type": "stream",
     "text": [
      "2000:\tlearn: 0.8358666\ttest: 0.7917571\tbest: 0.7923140 (1892)\ttotal: 4m 13s\tremaining: 6m 20s\n"
     ]
    },
    {
     "name": "stdout",
     "output_type": "stream",
     "text": [
      "2050:\tlearn: 0.8369144\ttest: 0.7915220\tbest: 0.7923140 (1892)\ttotal: 4m 20s\tremaining: 6m 14s\n"
     ]
    },
    {
     "name": "stdout",
     "output_type": "stream",
     "text": [
      "2100:\tlearn: 0.8378490\ttest: 0.7911743\tbest: 0.7923140 (1892)\ttotal: 4m 26s\tremaining: 6m 8s\n"
     ]
    },
    {
     "name": "stdout",
     "output_type": "stream",
     "text": [
      "2150:\tlearn: 0.8392176\ttest: 0.7909487\tbest: 0.7923140 (1892)\ttotal: 4m 33s\tremaining: 6m 1s\n"
     ]
    },
    {
     "name": "stdout",
     "output_type": "stream",
     "text": [
      "2200:\tlearn: 0.8405525\ttest: 0.7911854\tbest: 0.7923140 (1892)\ttotal: 4m 39s\tremaining: 5m 55s\n"
     ]
    },
    {
     "name": "stdout",
     "output_type": "stream",
     "text": [
      "2250:\tlearn: 0.8416106\ttest: 0.7911911\tbest: 0.7923140 (1892)\ttotal: 4m 45s\tremaining: 5m 49s\n"
     ]
    },
    {
     "name": "stdout",
     "output_type": "stream",
     "text": [
      "2300:\tlearn: 0.8424716\ttest: 0.7907974\tbest: 0.7923140 (1892)\ttotal: 4m 52s\tremaining: 5m 42s\n"
     ]
    },
    {
     "name": "stdout",
     "output_type": "stream",
     "text": [
      "2350:\tlearn: 0.8438299\ttest: 0.7911682\tbest: 0.7923140 (1892)\ttotal: 4m 58s\tremaining: 5m 36s\n"
     ]
    },
    {
     "name": "stdout",
     "output_type": "stream",
     "text": [
      "2400:\tlearn: 0.8449127\ttest: 0.7917505\tbest: 0.7923140 (1892)\ttotal: 5m 5s\tremaining: 5m 30s\n"
     ]
    },
    {
     "name": "stdout",
     "output_type": "stream",
     "text": [
      "2450:\tlearn: 0.8457957\ttest: 0.7914684\tbest: 0.7923140 (1892)\ttotal: 5m 11s\tremaining: 5m 24s\n"
     ]
    },
    {
     "name": "stdout",
     "output_type": "stream",
     "text": [
      "2500:\tlearn: 0.8467256\ttest: 0.7913741\tbest: 0.7923140 (1892)\ttotal: 5m 18s\tremaining: 5m 17s\n"
     ]
    },
    {
     "name": "stdout",
     "output_type": "stream",
     "text": [
      "2550:\tlearn: 0.8476175\ttest: 0.7911285\tbest: 0.7923140 (1892)\ttotal: 5m 24s\tremaining: 5m 11s\n"
     ]
    },
    {
     "name": "stdout",
     "output_type": "stream",
     "text": [
      "2600:\tlearn: 0.8488951\ttest: 0.7914571\tbest: 0.7923140 (1892)\ttotal: 5m 31s\tremaining: 5m 5s\n"
     ]
    },
    {
     "name": "stdout",
     "output_type": "stream",
     "text": [
      "2650:\tlearn: 0.8499299\ttest: 0.7912754\tbest: 0.7923140 (1892)\ttotal: 5m 37s\tremaining: 4m 59s\n"
     ]
    },
    {
     "name": "stdout",
     "output_type": "stream",
     "text": [
      "2700:\tlearn: 0.8507017\ttest: 0.7912012\tbest: 0.7923140 (1892)\ttotal: 5m 44s\tremaining: 4m 52s\n"
     ]
    },
    {
     "name": "stdout",
     "output_type": "stream",
     "text": [
      "2750:\tlearn: 0.8515775\ttest: 0.7913244\tbest: 0.7923140 (1892)\ttotal: 5m 50s\tremaining: 4m 46s\n"
     ]
    },
    {
     "name": "stdout",
     "output_type": "stream",
     "text": [
      "2800:\tlearn: 0.8529159\ttest: 0.7915528\tbest: 0.7923140 (1892)\ttotal: 5m 57s\tremaining: 4m 40s\n"
     ]
    },
    {
     "name": "stdout",
     "output_type": "stream",
     "text": [
      "2850:\tlearn: 0.8538202\ttest: 0.7913589\tbest: 0.7923140 (1892)\ttotal: 6m 3s\tremaining: 4m 34s\n"
     ]
    },
    {
     "name": "stdout",
     "output_type": "stream",
     "text": [
      "2900:\tlearn: 0.8548617\ttest: 0.7914937\tbest: 0.7923140 (1892)\ttotal: 6m 10s\tremaining: 4m 27s\n"
     ]
    },
    {
     "name": "stdout",
     "output_type": "stream",
     "text": [
      "2950:\tlearn: 0.8560640\ttest: 0.7915888\tbest: 0.7923140 (1892)\ttotal: 6m 16s\tremaining: 4m 21s\n"
     ]
    },
    {
     "name": "stdout",
     "output_type": "stream",
     "text": [
      "3000:\tlearn: 0.8572865\ttest: 0.7922749\tbest: 0.7923171 (2997)\ttotal: 6m 23s\tremaining: 4m 15s\n"
     ]
    },
    {
     "name": "stdout",
     "output_type": "stream",
     "text": [
      "3050:\tlearn: 0.8580586\ttest: 0.7924515\tbest: 0.7925282 (3015)\ttotal: 6m 29s\tremaining: 4m 8s\n"
     ]
    },
    {
     "name": "stdout",
     "output_type": "stream",
     "text": [
      "3100:\tlearn: 0.8591050\ttest: 0.7920577\tbest: 0.7928169 (3081)\ttotal: 6m 36s\tremaining: 4m 2s\n"
     ]
    },
    {
     "name": "stdout",
     "output_type": "stream",
     "text": [
      "3150:\tlearn: 0.8600379\ttest: 0.7919836\tbest: 0.7928169 (3081)\ttotal: 6m 42s\tremaining: 3m 56s\n"
     ]
    },
    {
     "name": "stdout",
     "output_type": "stream",
     "text": [
      "3200:\tlearn: 0.8610473\ttest: 0.7918243\tbest: 0.7928169 (3081)\ttotal: 6m 49s\tremaining: 3m 50s\n"
     ]
    },
    {
     "name": "stdout",
     "output_type": "stream",
     "text": [
      "3250:\tlearn: 0.8618894\ttest: 0.7920449\tbest: 0.7928169 (3081)\ttotal: 6m 55s\tremaining: 3m 43s\n"
     ]
    },
    {
     "name": "stdout",
     "output_type": "stream",
     "text": [
      "3300:\tlearn: 0.8629390\ttest: 0.7919418\tbest: 0.7928169 (3081)\ttotal: 7m 2s\tremaining: 3m 37s\n"
     ]
    },
    {
     "name": "stdout",
     "output_type": "stream",
     "text": [
      "3350:\tlearn: 0.8639746\ttest: 0.7918831\tbest: 0.7928169 (3081)\ttotal: 7m 8s\tremaining: 3m 31s\n"
     ]
    },
    {
     "name": "stdout",
     "output_type": "stream",
     "text": [
      "3400:\tlearn: 0.8647902\ttest: 0.7923686\tbest: 0.7928169 (3081)\ttotal: 7m 15s\tremaining: 3m 24s\n"
     ]
    },
    {
     "name": "stdout",
     "output_type": "stream",
     "text": [
      "3450:\tlearn: 0.8654600\ttest: 0.7922487\tbest: 0.7928169 (3081)\ttotal: 7m 21s\tremaining: 3m 18s\n"
     ]
    },
    {
     "name": "stdout",
     "output_type": "stream",
     "text": [
      "3500:\tlearn: 0.8664663\ttest: 0.7924228\tbest: 0.7928169 (3081)\ttotal: 7m 28s\tremaining: 3m 11s\n"
     ]
    },
    {
     "name": "stdout",
     "output_type": "stream",
     "text": [
      "3550:\tlearn: 0.8673272\ttest: 0.7920480\tbest: 0.7928169 (3081)\ttotal: 7m 34s\tremaining: 3m 5s\n"
     ]
    },
    {
     "name": "stdout",
     "output_type": "stream",
     "text": [
      "3600:\tlearn: 0.8682064\ttest: 0.7927315\tbest: 0.7928169 (3081)\ttotal: 7m 40s\tremaining: 2m 59s\n"
     ]
    },
    {
     "name": "stdout",
     "output_type": "stream",
     "text": [
      "3650:\tlearn: 0.8692282\ttest: 0.7922765\tbest: 0.7928169 (3081)\ttotal: 7m 47s\tremaining: 2m 52s\n"
     ]
    },
    {
     "name": "stdout",
     "output_type": "stream",
     "text": [
      "3700:\tlearn: 0.8699452\ttest: 0.7922807\tbest: 0.7928169 (3081)\ttotal: 7m 53s\tremaining: 2m 46s\n"
     ]
    },
    {
     "name": "stdout",
     "output_type": "stream",
     "text": [
      "3750:\tlearn: 0.8709324\ttest: 0.7924145\tbest: 0.7928169 (3081)\ttotal: 8m\tremaining: 2m 39s\n"
     ]
    },
    {
     "name": "stdout",
     "output_type": "stream",
     "text": [
      "3800:\tlearn: 0.8717792\ttest: 0.7927231\tbest: 0.7930142 (3788)\ttotal: 8m 6s\tremaining: 2m 33s\n"
     ]
    },
    {
     "name": "stdout",
     "output_type": "stream",
     "text": [
      "3850:\tlearn: 0.8728188\ttest: 0.7927108\tbest: 0.7931296 (3840)\ttotal: 8m 12s\tremaining: 2m 27s\n"
     ]
    },
    {
     "name": "stdout",
     "output_type": "stream",
     "text": [
      "3900:\tlearn: 0.8736822\ttest: 0.7927798\tbest: 0.7931296 (3840)\ttotal: 8m 19s\tremaining: 2m 20s\n"
     ]
    },
    {
     "name": "stdout",
     "output_type": "stream",
     "text": [
      "3950:\tlearn: 0.8744130\ttest: 0.7924710\tbest: 0.7931296 (3840)\ttotal: 8m 25s\tremaining: 2m 14s\n"
     ]
    },
    {
     "name": "stdout",
     "output_type": "stream",
     "text": [
      "4000:\tlearn: 0.8751278\ttest: 0.7925239\tbest: 0.7931296 (3840)\ttotal: 8m 32s\tremaining: 2m 7s\n"
     ]
    },
    {
     "name": "stdout",
     "output_type": "stream",
     "text": [
      "4050:\tlearn: 0.8762807\ttest: 0.7926887\tbest: 0.7931296 (3840)\ttotal: 8m 38s\tremaining: 2m 1s\n"
     ]
    },
    {
     "name": "stdout",
     "output_type": "stream",
     "text": [
      "4100:\tlearn: 0.8771638\ttest: 0.7925594\tbest: 0.7931296 (3840)\ttotal: 8m 44s\tremaining: 1m 55s\n"
     ]
    },
    {
     "name": "stdout",
     "output_type": "stream",
     "text": [
      "4150:\tlearn: 0.8779784\ttest: 0.7923338\tbest: 0.7931296 (3840)\ttotal: 8m 51s\tremaining: 1m 48s\n"
     ]
    },
    {
     "name": "stdout",
     "output_type": "stream",
     "text": [
      "4200:\tlearn: 0.8790568\ttest: 0.7927393\tbest: 0.7931296 (3840)\ttotal: 8m 57s\tremaining: 1m 42s\n"
     ]
    },
    {
     "name": "stdout",
     "output_type": "stream",
     "text": [
      "4250:\tlearn: 0.8797449\ttest: 0.7931852\tbest: 0.7931866 (4243)\ttotal: 9m 4s\tremaining: 1m 35s\n"
     ]
    },
    {
     "name": "stdout",
     "output_type": "stream",
     "text": [
      "4300:\tlearn: 0.8807111\ttest: 0.7931899\tbest: 0.7933566 (4259)\ttotal: 9m 10s\tremaining: 1m 29s\n"
     ]
    },
    {
     "name": "stdout",
     "output_type": "stream",
     "text": [
      "4350:\tlearn: 0.8816444\ttest: 0.7929199\tbest: 0.7933566 (4259)\ttotal: 9m 16s\tremaining: 1m 23s\n"
     ]
    },
    {
     "name": "stdout",
     "output_type": "stream",
     "text": [
      "4400:\tlearn: 0.8827046\ttest: 0.7932444\tbest: 0.7933566 (4259)\ttotal: 9m 23s\tremaining: 1m 16s\n"
     ]
    },
    {
     "name": "stdout",
     "output_type": "stream",
     "text": [
      "4450:\tlearn: 0.8834867\ttest: 0.7932046\tbest: 0.7933566 (4259)\ttotal: 9m 29s\tremaining: 1m 10s\n"
     ]
    },
    {
     "name": "stdout",
     "output_type": "stream",
     "text": [
      "4500:\tlearn: 0.8842379\ttest: 0.7933136\tbest: 0.7934349 (4478)\ttotal: 9m 35s\tremaining: 1m 3s\n"
     ]
    },
    {
     "name": "stdout",
     "output_type": "stream",
     "text": [
      "4550:\tlearn: 0.8851208\ttest: 0.7934901\tbest: 0.7936362 (4546)\ttotal: 9m 42s\tremaining: 57.5s\n"
     ]
    },
    {
     "name": "stdout",
     "output_type": "stream",
     "text": [
      "4600:\tlearn: 0.8858740\ttest: 0.7933023\tbest: 0.7936991 (4574)\ttotal: 9m 48s\tremaining: 51.1s\n"
     ]
    },
    {
     "name": "stdout",
     "output_type": "stream",
     "text": [
      "4650:\tlearn: 0.8866818\ttest: 0.7934309\tbest: 0.7936991 (4574)\ttotal: 9m 55s\tremaining: 44.7s\n"
     ]
    },
    {
     "name": "stdout",
     "output_type": "stream",
     "text": [
      "4700:\tlearn: 0.8877358\ttest: 0.7932279\tbest: 0.7936991 (4574)\ttotal: 10m 2s\tremaining: 38.3s\n"
     ]
    },
    {
     "name": "stdout",
     "output_type": "stream",
     "text": [
      "4750:\tlearn: 0.8885026\ttest: 0.7930221\tbest: 0.7936991 (4574)\ttotal: 10m 8s\tremaining: 31.9s\n"
     ]
    },
    {
     "name": "stdout",
     "output_type": "stream",
     "text": [
      "4800:\tlearn: 0.8892955\ttest: 0.7933270\tbest: 0.7936991 (4574)\ttotal: 10m 14s\tremaining: 25.5s\n"
     ]
    },
    {
     "name": "stdout",
     "output_type": "stream",
     "text": [
      "4850:\tlearn: 0.8900253\ttest: 0.7933047\tbest: 0.7936991 (4574)\ttotal: 10m 21s\tremaining: 19.1s\n"
     ]
    },
    {
     "name": "stdout",
     "output_type": "stream",
     "text": [
      "4900:\tlearn: 0.8909432\ttest: 0.7934964\tbest: 0.7936991 (4574)\ttotal: 10m 27s\tremaining: 12.7s\n"
     ]
    },
    {
     "name": "stdout",
     "output_type": "stream",
     "text": [
      "4950:\tlearn: 0.8915654\ttest: 0.7934038\tbest: 0.7936991 (4574)\ttotal: 10m 34s\tremaining: 6.28s\n"
     ]
    },
    {
     "name": "stdout",
     "output_type": "stream",
     "text": [
      "4999:\tlearn: 0.8922957\ttest: 0.7931769\tbest: 0.7936991 (4574)\ttotal: 10m 40s\tremaining: 0us\n",
      "\n",
      "bestTest = 0.7936991173\n",
      "bestIteration = 4574\n",
      "\n"
     ]
    },
    {
     "name": "stdout",
     "output_type": "stream",
     "text": [
      "######################################## training model 5/5 ########################################\n",
      "seed: 24\n"
     ]
    },
    {
     "name": "stdout",
     "output_type": "stream",
     "text": [
      "0:\tlearn: 0.4968695\ttest: 0.4970554\tbest: 0.4970554 (0)\ttotal: 437ms\tremaining: 36m 25s\n"
     ]
    },
    {
     "name": "stdout",
     "output_type": "stream",
     "text": [
      "50:\tlearn: 0.7397655\ttest: 0.7377859\tbest: 0.7377859 (50)\ttotal: 6.67s\tremaining: 10m 46s\n"
     ]
    },
    {
     "name": "stdout",
     "output_type": "stream",
     "text": [
      "100:\tlearn: 0.7539883\ttest: 0.7504203\tbest: 0.7504203 (100)\ttotal: 13.1s\tremaining: 10m 34s\n"
     ]
    },
    {
     "name": "stdout",
     "output_type": "stream",
     "text": [
      "150:\tlearn: 0.7620648\ttest: 0.7573405\tbest: 0.7573405 (150)\ttotal: 19.5s\tremaining: 10m 25s\n"
     ]
    },
    {
     "name": "stdout",
     "output_type": "stream",
     "text": [
      "200:\tlearn: 0.7670560\ttest: 0.7619975\tbest: 0.7620389 (198)\ttotal: 25.8s\tremaining: 10m 16s\n"
     ]
    },
    {
     "name": "stdout",
     "output_type": "stream",
     "text": [
      "250:\tlearn: 0.7706301\ttest: 0.7656607\tbest: 0.7657099 (247)\ttotal: 32.2s\tremaining: 10m 9s\n"
     ]
    },
    {
     "name": "stdout",
     "output_type": "stream",
     "text": [
      "300:\tlearn: 0.7758168\ttest: 0.7697925\tbest: 0.7697925 (300)\ttotal: 38.5s\tremaining: 10m 1s\n"
     ]
    },
    {
     "name": "stdout",
     "output_type": "stream",
     "text": [
      "350:\tlearn: 0.7822510\ttest: 0.7755618\tbest: 0.7755618 (350)\ttotal: 45s\tremaining: 9m 55s\n"
     ]
    },
    {
     "name": "stdout",
     "output_type": "stream",
     "text": [
      "400:\tlearn: 0.7869751\ttest: 0.7781684\tbest: 0.7781720 (397)\ttotal: 51.4s\tremaining: 9m 49s\n"
     ]
    },
    {
     "name": "stdout",
     "output_type": "stream",
     "text": [
      "450:\tlearn: 0.7904656\ttest: 0.7801797\tbest: 0.7801797 (450)\ttotal: 58s\tremaining: 9m 44s\n"
     ]
    },
    {
     "name": "stdout",
     "output_type": "stream",
     "text": [
      "500:\tlearn: 0.7934248\ttest: 0.7813389\tbest: 0.7814846 (496)\ttotal: 1m 4s\tremaining: 9m 39s\n"
     ]
    },
    {
     "name": "stdout",
     "output_type": "stream",
     "text": [
      "550:\tlearn: 0.7957467\ttest: 0.7824764\tbest: 0.7826937 (548)\ttotal: 1m 11s\tremaining: 9m 34s\n"
     ]
    },
    {
     "name": "stdout",
     "output_type": "stream",
     "text": [
      "600:\tlearn: 0.7979220\ttest: 0.7832541\tbest: 0.7832541 (600)\ttotal: 1m 17s\tremaining: 9m 28s\n"
     ]
    },
    {
     "name": "stdout",
     "output_type": "stream",
     "text": [
      "650:\tlearn: 0.7994184\ttest: 0.7840111\tbest: 0.7840111 (650)\ttotal: 1m 24s\tremaining: 9m 22s\n"
     ]
    },
    {
     "name": "stdout",
     "output_type": "stream",
     "text": [
      "700:\tlearn: 0.8013600\ttest: 0.7844334\tbest: 0.7847202 (668)\ttotal: 1m 30s\tremaining: 9m 15s\n"
     ]
    },
    {
     "name": "stdout",
     "output_type": "stream",
     "text": [
      "750:\tlearn: 0.8030959\ttest: 0.7854900\tbest: 0.7854900 (749)\ttotal: 1m 37s\tremaining: 9m 8s\n"
     ]
    },
    {
     "name": "stdout",
     "output_type": "stream",
     "text": [
      "800:\tlearn: 0.8049189\ttest: 0.7860366\tbest: 0.7862047 (789)\ttotal: 1m 43s\tremaining: 9m 3s\n"
     ]
    },
    {
     "name": "stdout",
     "output_type": "stream",
     "text": [
      "850:\tlearn: 0.8066529\ttest: 0.7863962\tbest: 0.7869311 (817)\ttotal: 1m 50s\tremaining: 8m 56s\n"
     ]
    },
    {
     "name": "stdout",
     "output_type": "stream",
     "text": [
      "900:\tlearn: 0.8081378\ttest: 0.7871287\tbest: 0.7871287 (900)\ttotal: 1m 56s\tremaining: 8m 50s\n"
     ]
    },
    {
     "name": "stdout",
     "output_type": "stream",
     "text": [
      "950:\tlearn: 0.8094438\ttest: 0.7873811\tbest: 0.7873811 (950)\ttotal: 2m 2s\tremaining: 8m 43s\n"
     ]
    },
    {
     "name": "stdout",
     "output_type": "stream",
     "text": [
      "1000:\tlearn: 0.8110342\ttest: 0.7870271\tbest: 0.7874183 (972)\ttotal: 2m 9s\tremaining: 8m 36s\n"
     ]
    },
    {
     "name": "stdout",
     "output_type": "stream",
     "text": [
      "1050:\tlearn: 0.8123166\ttest: 0.7868147\tbest: 0.7876749 (1015)\ttotal: 2m 15s\tremaining: 8m 29s\n"
     ]
    },
    {
     "name": "stdout",
     "output_type": "stream",
     "text": [
      "1100:\tlearn: 0.8141904\ttest: 0.7871035\tbest: 0.7877308 (1093)\ttotal: 2m 21s\tremaining: 8m 22s\n"
     ]
    },
    {
     "name": "stdout",
     "output_type": "stream",
     "text": [
      "1150:\tlearn: 0.8155454\ttest: 0.7878302\tbest: 0.7878773 (1124)\ttotal: 2m 28s\tremaining: 8m 15s\n"
     ]
    },
    {
     "name": "stdout",
     "output_type": "stream",
     "text": [
      "1200:\tlearn: 0.8167590\ttest: 0.7881400\tbest: 0.7882173 (1196)\ttotal: 2m 34s\tremaining: 8m 8s\n"
     ]
    },
    {
     "name": "stdout",
     "output_type": "stream",
     "text": [
      "1250:\tlearn: 0.8179311\ttest: 0.7885210\tbest: 0.7887682 (1246)\ttotal: 2m 40s\tremaining: 8m 1s\n"
     ]
    },
    {
     "name": "stdout",
     "output_type": "stream",
     "text": [
      "1300:\tlearn: 0.8192201\ttest: 0.7883444\tbest: 0.7887682 (1246)\ttotal: 2m 47s\tremaining: 7m 54s\n"
     ]
    },
    {
     "name": "stdout",
     "output_type": "stream",
     "text": [
      "1350:\tlearn: 0.8206795\ttest: 0.7886861\tbest: 0.7889488 (1314)\ttotal: 2m 53s\tremaining: 7m 47s\n"
     ]
    },
    {
     "name": "stdout",
     "output_type": "stream",
     "text": [
      "1400:\tlearn: 0.8224319\ttest: 0.7888841\tbest: 0.7890335 (1365)\ttotal: 2m 59s\tremaining: 7m 41s\n"
     ]
    },
    {
     "name": "stdout",
     "output_type": "stream",
     "text": [
      "1450:\tlearn: 0.8232976\ttest: 0.7887657\tbest: 0.7890335 (1365)\ttotal: 3m 5s\tremaining: 7m 34s\n"
     ]
    },
    {
     "name": "stdout",
     "output_type": "stream",
     "text": [
      "1500:\tlearn: 0.8244013\ttest: 0.7890053\tbest: 0.7891454 (1493)\ttotal: 3m 12s\tremaining: 7m 27s\n"
     ]
    },
    {
     "name": "stdout",
     "output_type": "stream",
     "text": [
      "1550:\tlearn: 0.8256590\ttest: 0.7892986\tbest: 0.7895850 (1537)\ttotal: 3m 18s\tremaining: 7m 21s\n"
     ]
    },
    {
     "name": "stdout",
     "output_type": "stream",
     "text": [
      "1600:\tlearn: 0.8266575\ttest: 0.7893002\tbest: 0.7895850 (1537)\ttotal: 3m 24s\tremaining: 7m 14s\n"
     ]
    },
    {
     "name": "stdout",
     "output_type": "stream",
     "text": [
      "1650:\tlearn: 0.8280549\ttest: 0.7890595\tbest: 0.7895850 (1537)\ttotal: 3m 30s\tremaining: 7m 7s\n"
     ]
    },
    {
     "name": "stdout",
     "output_type": "stream",
     "text": [
      "1700:\tlearn: 0.8292585\ttest: 0.7887779\tbest: 0.7895850 (1537)\ttotal: 3m 37s\tremaining: 7m 1s\n"
     ]
    },
    {
     "name": "stdout",
     "output_type": "stream",
     "text": [
      "1750:\tlearn: 0.8304780\ttest: 0.7886127\tbest: 0.7895850 (1537)\ttotal: 3m 43s\tremaining: 6m 54s\n"
     ]
    },
    {
     "name": "stdout",
     "output_type": "stream",
     "text": [
      "1800:\tlearn: 0.8315078\ttest: 0.7884926\tbest: 0.7895850 (1537)\ttotal: 3m 49s\tremaining: 6m 48s\n"
     ]
    },
    {
     "name": "stdout",
     "output_type": "stream",
     "text": [
      "1850:\tlearn: 0.8327356\ttest: 0.7889434\tbest: 0.7895850 (1537)\ttotal: 3m 55s\tremaining: 6m 41s\n"
     ]
    },
    {
     "name": "stdout",
     "output_type": "stream",
     "text": [
      "1900:\tlearn: 0.8339272\ttest: 0.7889210\tbest: 0.7895850 (1537)\ttotal: 4m 2s\tremaining: 6m 34s\n"
     ]
    },
    {
     "name": "stdout",
     "output_type": "stream",
     "text": [
      "1950:\tlearn: 0.8351394\ttest: 0.7888990\tbest: 0.7895850 (1537)\ttotal: 4m 8s\tremaining: 6m 28s\n"
     ]
    },
    {
     "name": "stdout",
     "output_type": "stream",
     "text": [
      "2000:\tlearn: 0.8361317\ttest: 0.7893174\tbest: 0.7895850 (1537)\ttotal: 4m 14s\tremaining: 6m 21s\n"
     ]
    },
    {
     "name": "stdout",
     "output_type": "stream",
     "text": [
      "2050:\tlearn: 0.8372415\ttest: 0.7893565\tbest: 0.7895850 (1537)\ttotal: 4m 21s\tremaining: 6m 15s\n"
     ]
    },
    {
     "name": "stdout",
     "output_type": "stream",
     "text": [
      "2100:\tlearn: 0.8384145\ttest: 0.7892820\tbest: 0.7895850 (1537)\ttotal: 4m 27s\tremaining: 6m 8s\n"
     ]
    },
    {
     "name": "stdout",
     "output_type": "stream",
     "text": [
      "2150:\tlearn: 0.8393909\ttest: 0.7891213\tbest: 0.7895850 (1537)\ttotal: 4m 33s\tremaining: 6m 2s\n"
     ]
    },
    {
     "name": "stdout",
     "output_type": "stream",
     "text": [
      "2200:\tlearn: 0.8404832\ttest: 0.7893345\tbest: 0.7895929 (2166)\ttotal: 4m 39s\tremaining: 5m 55s\n"
     ]
    },
    {
     "name": "stdout",
     "output_type": "stream",
     "text": [
      "2250:\tlearn: 0.8413621\ttest: 0.7898285\tbest: 0.7899493 (2233)\ttotal: 4m 46s\tremaining: 5m 49s\n"
     ]
    },
    {
     "name": "stdout",
     "output_type": "stream",
     "text": [
      "2300:\tlearn: 0.8427475\ttest: 0.7898447\tbest: 0.7899493 (2233)\ttotal: 4m 52s\tremaining: 5m 43s\n"
     ]
    },
    {
     "name": "stdout",
     "output_type": "stream",
     "text": [
      "2350:\tlearn: 0.8436111\ttest: 0.7901048\tbest: 0.7901477 (2348)\ttotal: 4m 58s\tremaining: 5m 36s\n"
     ]
    },
    {
     "name": "stdout",
     "output_type": "stream",
     "text": [
      "2400:\tlearn: 0.8448528\ttest: 0.7901128\tbest: 0.7902792 (2396)\ttotal: 5m 4s\tremaining: 5m 30s\n"
     ]
    },
    {
     "name": "stdout",
     "output_type": "stream",
     "text": [
      "2450:\tlearn: 0.8458944\ttest: 0.7899290\tbest: 0.7902792 (2396)\ttotal: 5m 11s\tremaining: 5m 23s\n"
     ]
    },
    {
     "name": "stdout",
     "output_type": "stream",
     "text": [
      "2500:\tlearn: 0.8471116\ttest: 0.7901504\tbest: 0.7902792 (2396)\ttotal: 5m 17s\tremaining: 5m 17s\n"
     ]
    },
    {
     "name": "stdout",
     "output_type": "stream",
     "text": [
      "2550:\tlearn: 0.8479285\ttest: 0.7898758\tbest: 0.7902792 (2396)\ttotal: 5m 23s\tremaining: 5m 10s\n"
     ]
    },
    {
     "name": "stdout",
     "output_type": "stream",
     "text": [
      "2600:\tlearn: 0.8489570\ttest: 0.7901687\tbest: 0.7903379 (2595)\ttotal: 5m 30s\tremaining: 5m 4s\n"
     ]
    },
    {
     "name": "stdout",
     "output_type": "stream",
     "text": [
      "2650:\tlearn: 0.8497495\ttest: 0.7899522\tbest: 0.7903379 (2595)\ttotal: 5m 36s\tremaining: 4m 58s\n"
     ]
    },
    {
     "name": "stdout",
     "output_type": "stream",
     "text": [
      "2700:\tlearn: 0.8506345\ttest: 0.7900878\tbest: 0.7903379 (2595)\ttotal: 5m 42s\tremaining: 4m 51s\n"
     ]
    },
    {
     "name": "stdout",
     "output_type": "stream",
     "text": [
      "2750:\tlearn: 0.8514881\ttest: 0.7900417\tbest: 0.7903379 (2595)\ttotal: 5m 49s\tremaining: 4m 45s\n"
     ]
    },
    {
     "name": "stdout",
     "output_type": "stream",
     "text": [
      "2800:\tlearn: 0.8523722\ttest: 0.7897235\tbest: 0.7903379 (2595)\ttotal: 5m 55s\tremaining: 4m 38s\n"
     ]
    },
    {
     "name": "stdout",
     "output_type": "stream",
     "text": [
      "2850:\tlearn: 0.8533400\ttest: 0.7902427\tbest: 0.7903419 (2836)\ttotal: 6m 1s\tremaining: 4m 32s\n"
     ]
    },
    {
     "name": "stdout",
     "output_type": "stream",
     "text": [
      "2900:\tlearn: 0.8542673\ttest: 0.7907567\tbest: 0.7907776 (2898)\ttotal: 6m 7s\tremaining: 4m 26s\n"
     ]
    },
    {
     "name": "stdout",
     "output_type": "stream",
     "text": [
      "2950:\tlearn: 0.8552631\ttest: 0.7905309\tbest: 0.7908628 (2937)\ttotal: 6m 14s\tremaining: 4m 19s\n"
     ]
    },
    {
     "name": "stdout",
     "output_type": "stream",
     "text": [
      "3000:\tlearn: 0.8564103\ttest: 0.7899643\tbest: 0.7908628 (2937)\ttotal: 6m 20s\tremaining: 4m 13s\n"
     ]
    },
    {
     "name": "stdout",
     "output_type": "stream",
     "text": [
      "3050:\tlearn: 0.8572489\ttest: 0.7905627\tbest: 0.7908628 (2937)\ttotal: 6m 26s\tremaining: 4m 7s\n"
     ]
    },
    {
     "name": "stdout",
     "output_type": "stream",
     "text": [
      "3100:\tlearn: 0.8581872\ttest: 0.7904903\tbest: 0.7908635 (3059)\ttotal: 6m 33s\tremaining: 4m\n"
     ]
    },
    {
     "name": "stdout",
     "output_type": "stream",
     "text": [
      "3150:\tlearn: 0.8591763\ttest: 0.7903279\tbest: 0.7908635 (3059)\ttotal: 6m 39s\tremaining: 3m 54s\n"
     ]
    },
    {
     "name": "stdout",
     "output_type": "stream",
     "text": [
      "3200:\tlearn: 0.8600064\ttest: 0.7904365\tbest: 0.7908635 (3059)\ttotal: 6m 45s\tremaining: 3m 47s\n"
     ]
    },
    {
     "name": "stdout",
     "output_type": "stream",
     "text": [
      "3250:\tlearn: 0.8607100\ttest: 0.7905794\tbest: 0.7908635 (3059)\ttotal: 6m 51s\tremaining: 3m 41s\n"
     ]
    },
    {
     "name": "stdout",
     "output_type": "stream",
     "text": [
      "3300:\tlearn: 0.8616441\ttest: 0.7909438\tbest: 0.7910699 (3293)\ttotal: 6m 58s\tremaining: 3m 35s\n"
     ]
    },
    {
     "name": "stdout",
     "output_type": "stream",
     "text": [
      "3350:\tlearn: 0.8625916\ttest: 0.7907901\tbest: 0.7910699 (3293)\ttotal: 7m 4s\tremaining: 3m 28s\n"
     ]
    },
    {
     "name": "stdout",
     "output_type": "stream",
     "text": [
      "3400:\tlearn: 0.8635498\ttest: 0.7907697\tbest: 0.7910699 (3293)\ttotal: 7m 10s\tremaining: 3m 22s\n"
     ]
    },
    {
     "name": "stdout",
     "output_type": "stream",
     "text": [
      "3450:\tlearn: 0.8644336\ttest: 0.7904202\tbest: 0.7910699 (3293)\ttotal: 7m 16s\tremaining: 3m 16s\n"
     ]
    },
    {
     "name": "stdout",
     "output_type": "stream",
     "text": [
      "3500:\tlearn: 0.8655346\ttest: 0.7904516\tbest: 0.7910699 (3293)\ttotal: 7m 23s\tremaining: 3m 9s\n"
     ]
    },
    {
     "name": "stdout",
     "output_type": "stream",
     "text": [
      "3550:\tlearn: 0.8664403\ttest: 0.7904791\tbest: 0.7910699 (3293)\ttotal: 7m 29s\tremaining: 3m 3s\n"
     ]
    },
    {
     "name": "stdout",
     "output_type": "stream",
     "text": [
      "3600:\tlearn: 0.8673162\ttest: 0.7901836\tbest: 0.7910699 (3293)\ttotal: 7m 35s\tremaining: 2m 57s\n"
     ]
    },
    {
     "name": "stdout",
     "output_type": "stream",
     "text": [
      "3650:\tlearn: 0.8683166\ttest: 0.7906236\tbest: 0.7910699 (3293)\ttotal: 7m 42s\tremaining: 2m 50s\n"
     ]
    },
    {
     "name": "stdout",
     "output_type": "stream",
     "text": [
      "3700:\tlearn: 0.8689454\ttest: 0.7904058\tbest: 0.7910699 (3293)\ttotal: 7m 48s\tremaining: 2m 44s\n"
     ]
    },
    {
     "name": "stdout",
     "output_type": "stream",
     "text": [
      "3750:\tlearn: 0.8699582\ttest: 0.7904496\tbest: 0.7910699 (3293)\ttotal: 7m 54s\tremaining: 2m 38s\n"
     ]
    },
    {
     "name": "stdout",
     "output_type": "stream",
     "text": [
      "3800:\tlearn: 0.8708573\ttest: 0.7905157\tbest: 0.7910699 (3293)\ttotal: 8m\tremaining: 2m 31s\n"
     ]
    },
    {
     "name": "stdout",
     "output_type": "stream",
     "text": [
      "3850:\tlearn: 0.8717256\ttest: 0.7908588\tbest: 0.7910699 (3293)\ttotal: 8m 7s\tremaining: 2m 25s\n"
     ]
    },
    {
     "name": "stdout",
     "output_type": "stream",
     "text": [
      "3900:\tlearn: 0.8725708\ttest: 0.7906075\tbest: 0.7910699 (3293)\ttotal: 8m 13s\tremaining: 2m 19s\n"
     ]
    },
    {
     "name": "stdout",
     "output_type": "stream",
     "text": [
      "3950:\tlearn: 0.8736108\ttest: 0.7908872\tbest: 0.7910699 (3293)\ttotal: 8m 19s\tremaining: 2m 12s\n"
     ]
    },
    {
     "name": "stdout",
     "output_type": "stream",
     "text": [
      "4000:\tlearn: 0.8743242\ttest: 0.7909761\tbest: 0.7911236 (3991)\ttotal: 8m 26s\tremaining: 2m 6s\n"
     ]
    },
    {
     "name": "stdout",
     "output_type": "stream",
     "text": [
      "4050:\tlearn: 0.8753192\ttest: 0.7910225\tbest: 0.7912951 (4024)\ttotal: 8m 32s\tremaining: 2m\n"
     ]
    },
    {
     "name": "stdout",
     "output_type": "stream",
     "text": [
      "4100:\tlearn: 0.8763529\ttest: 0.7910799\tbest: 0.7912951 (4024)\ttotal: 8m 38s\tremaining: 1m 53s\n"
     ]
    },
    {
     "name": "stdout",
     "output_type": "stream",
     "text": [
      "4150:\tlearn: 0.8772481\ttest: 0.7915948\tbest: 0.7916739 (4130)\ttotal: 8m 44s\tremaining: 1m 47s\n"
     ]
    },
    {
     "name": "stdout",
     "output_type": "stream",
     "text": [
      "4200:\tlearn: 0.8780888\ttest: 0.7918160\tbest: 0.7919595 (4180)\ttotal: 8m 51s\tremaining: 1m 41s\n"
     ]
    },
    {
     "name": "stdout",
     "output_type": "stream",
     "text": [
      "4250:\tlearn: 0.8789695\ttest: 0.7919033\tbest: 0.7921728 (4231)\ttotal: 8m 57s\tremaining: 1m 34s\n"
     ]
    },
    {
     "name": "stdout",
     "output_type": "stream",
     "text": [
      "4300:\tlearn: 0.8799581\ttest: 0.7921935\tbest: 0.7924011 (4288)\ttotal: 9m 3s\tremaining: 1m 28s\n"
     ]
    },
    {
     "name": "stdout",
     "output_type": "stream",
     "text": [
      "4350:\tlearn: 0.8807174\ttest: 0.7924090\tbest: 0.7925739 (4327)\ttotal: 9m 10s\tremaining: 1m 22s\n"
     ]
    },
    {
     "name": "stdout",
     "output_type": "stream",
     "text": [
      "4400:\tlearn: 0.8816641\ttest: 0.7918027\tbest: 0.7925739 (4327)\ttotal: 9m 16s\tremaining: 1m 15s\n"
     ]
    },
    {
     "name": "stdout",
     "output_type": "stream",
     "text": [
      "4450:\tlearn: 0.8823157\ttest: 0.7916633\tbest: 0.7925739 (4327)\ttotal: 9m 22s\tremaining: 1m 9s\n"
     ]
    },
    {
     "name": "stdout",
     "output_type": "stream",
     "text": [
      "4500:\tlearn: 0.8831018\ttest: 0.7913889\tbest: 0.7925739 (4327)\ttotal: 9m 29s\tremaining: 1m 3s\n"
     ]
    },
    {
     "name": "stdout",
     "output_type": "stream",
     "text": [
      "4550:\tlearn: 0.8840028\ttest: 0.7914874\tbest: 0.7925739 (4327)\ttotal: 9m 35s\tremaining: 56.8s\n"
     ]
    },
    {
     "name": "stdout",
     "output_type": "stream",
     "text": [
      "4600:\tlearn: 0.8846649\ttest: 0.7916706\tbest: 0.7925739 (4327)\ttotal: 9m 41s\tremaining: 50.4s\n"
     ]
    },
    {
     "name": "stdout",
     "output_type": "stream",
     "text": [
      "4650:\tlearn: 0.8855041\ttest: 0.7916527\tbest: 0.7925739 (4327)\ttotal: 9m 47s\tremaining: 44.1s\n"
     ]
    },
    {
     "name": "stdout",
     "output_type": "stream",
     "text": [
      "4700:\tlearn: 0.8864513\ttest: 0.7919858\tbest: 0.7925739 (4327)\ttotal: 9m 54s\tremaining: 37.8s\n"
     ]
    },
    {
     "name": "stdout",
     "output_type": "stream",
     "text": [
      "4750:\tlearn: 0.8874260\ttest: 0.7923876\tbest: 0.7925739 (4327)\ttotal: 10m\tremaining: 31.5s\n"
     ]
    },
    {
     "name": "stdout",
     "output_type": "stream",
     "text": [
      "4800:\tlearn: 0.8883460\ttest: 0.7919559\tbest: 0.7925739 (4327)\ttotal: 10m 6s\tremaining: 25.1s\n"
     ]
    },
    {
     "name": "stdout",
     "output_type": "stream",
     "text": [
      "4850:\tlearn: 0.8893187\ttest: 0.7918114\tbest: 0.7925739 (4327)\ttotal: 10m 13s\tremaining: 18.8s\n"
     ]
    },
    {
     "name": "stdout",
     "output_type": "stream",
     "text": [
      "4900:\tlearn: 0.8899311\ttest: 0.7918097\tbest: 0.7925739 (4327)\ttotal: 10m 19s\tremaining: 12.5s\n"
     ]
    },
    {
     "name": "stdout",
     "output_type": "stream",
     "text": [
      "4950:\tlearn: 0.8905408\ttest: 0.7915649\tbest: 0.7925739 (4327)\ttotal: 10m 25s\tremaining: 6.19s\n"
     ]
    },
    {
     "name": "stdout",
     "output_type": "stream",
     "text": [
      "4999:\tlearn: 0.8911514\ttest: 0.7915528\tbest: 0.7925739 (4327)\ttotal: 10m 31s\tremaining: 0us\n",
      "\n",
      "bestTest = 0.7925739473\n",
      "bestIteration = 4327\n",
      "\n"
     ]
    },
    {
     "name": "stdout",
     "output_type": "stream",
     "text": [
      "Training time: 53.038133068879446 min.\n",
      "OOF recall_at4: 0.6651967549735752\n",
      "OOF normalized_gini: 0.9242181302074143\n",
      "OOF competition metric: 0.7947074425904948\n"
     ]
    },
    {
     "name": "stdout",
     "output_type": "stream",
     "text": [
      "CPU times: user 2d 6h 26min 1s, sys: 2h 58min 57s, total: 2d 9h 24min 58s\n",
      "Wall time: 4h 24min 46s\n"
     ]
    }
   ],
   "source": [
    "%%time \n",
    "\n",
    "all_models = list()\n",
    "all_oof_dfs = list()\n",
    "\n",
    "for repetition in range(N_REPEATS):\n",
    "    print(f\" repeated cross-validation step: {repetition+1}/{N_REPEATS} \".center(100, \"#\"))\n",
    "\n",
    "    folds = pd.read_csv(f'../data/processed/cv{repetition}.csv', index_col=\"customer_ID\")\n",
    "    _train = pd.merge(train, folds, how=\"inner\", left_index=True, right_index=True).reset_index(drop=True)\n",
    "    \n",
    "    tic = time.time()\n",
    "    models,oof = train_models(_train)\n",
    "    tac = time.time()\n",
    "    print(f\"Training time: {(tac-tic)/60} min.\")\n",
    "          \n",
    "    # oof metrics\n",
    "    print(\"OOF recall_at4:\", compute_recall_at4(oof.target.values, oof.pred.values))\n",
    "    print(\"OOF normalized_gini:\", compute_normalized_gini(oof.target.values, oof.pred.values))\n",
    "    print(\"OOF competition metric:\", compute_amex_metric(oof.target.values, oof.pred.values))\n",
    "    \n",
    "    all_models.append(models)\n",
    "    all_oof_dfs.append(oof)\n",
    "    \n",
    "    # save oof predictions\n",
    "    oof.to_csv(OOF_PATH/f\"oof-cv{repetition}.csv\", index=False)\n",
    "    # save models\n",
    "    for fold,_model in enumerate(models):\n",
    "        _model.save_model(ART_PATH/f\"/model-cv{repetition}-fold{fold}.cbm\", format=\"cbm\")\n",
    "          \n",
    "    del _train, folds; gc.collect()"
   ]
  },
  {
   "cell_type": "code",
   "execution_count": 12,
   "id": "065d3483",
   "metadata": {
    "execution": {
     "iopub.execute_input": "2022-08-24T07:19:13.110405Z",
     "iopub.status.busy": "2022-08-24T07:19:13.045807Z",
     "iopub.status.idle": "2022-08-24T07:19:13.944044Z",
     "shell.execute_reply": "2022-08-24T07:19:13.943616Z"
    },
    "papermill": {
     "duration": 1.547032,
     "end_time": "2022-08-24T07:19:13.944177",
     "exception": false,
     "start_time": "2022-08-24T07:19:12.397145",
     "status": "completed"
    },
    "tags": []
   },
   "outputs": [
    {
     "data": {
      "text/html": [
       "<div>\n",
       "<style scoped>\n",
       "    .dataframe tbody tr th:only-of-type {\n",
       "        vertical-align: middle;\n",
       "    }\n",
       "\n",
       "    .dataframe tbody tr th {\n",
       "        vertical-align: top;\n",
       "    }\n",
       "\n",
       "    .dataframe thead th {\n",
       "        text-align: right;\n",
       "    }\n",
       "</style>\n",
       "<table border=\"1\" class=\"dataframe\">\n",
       "  <thead>\n",
       "    <tr style=\"text-align: right;\">\n",
       "      <th></th>\n",
       "      <th>recall_at4</th>\n",
       "      <th>gini</th>\n",
       "      <th>metric</th>\n",
       "    </tr>\n",
       "  </thead>\n",
       "  <tbody>\n",
       "    <tr>\n",
       "      <th>0</th>\n",
       "      <td>0.665003</td>\n",
       "      <td>0.924135</td>\n",
       "      <td>0.794569</td>\n",
       "    </tr>\n",
       "    <tr>\n",
       "      <th>1</th>\n",
       "      <td>0.665003</td>\n",
       "      <td>0.924151</td>\n",
       "      <td>0.794577</td>\n",
       "    </tr>\n",
       "    <tr>\n",
       "      <th>2</th>\n",
       "      <td>0.665365</td>\n",
       "      <td>0.924269</td>\n",
       "      <td>0.794817</td>\n",
       "    </tr>\n",
       "    <tr>\n",
       "      <th>3</th>\n",
       "      <td>0.664953</td>\n",
       "      <td>0.924230</td>\n",
       "      <td>0.794592</td>\n",
       "    </tr>\n",
       "    <tr>\n",
       "      <th>4</th>\n",
       "      <td>0.665197</td>\n",
       "      <td>0.924218</td>\n",
       "      <td>0.794707</td>\n",
       "    </tr>\n",
       "  </tbody>\n",
       "</table>\n",
       "</div>"
      ],
      "text/plain": [
       "   recall_at4      gini    metric\n",
       "0    0.665003  0.924135  0.794569\n",
       "1    0.665003  0.924151  0.794577\n",
       "2    0.665365  0.924269  0.794817\n",
       "3    0.664953  0.924230  0.794592\n",
       "4    0.665197  0.924218  0.794707"
      ]
     },
     "metadata": {},
     "output_type": "display_data"
    },
    {
     "name": "stdout",
     "output_type": "stream",
     "text": [
      "\n",
      "mean:\n"
     ]
    },
    {
     "data": {
      "text/plain": [
       "recall_at4    0.665104\n",
       "gini          0.924201\n",
       "metric        0.794652\n",
       "dtype: float64"
      ]
     },
     "metadata": {},
     "output_type": "display_data"
    },
    {
     "name": "stdout",
     "output_type": "stream",
     "text": [
      "\n",
      "std:\n"
     ]
    },
    {
     "data": {
      "text/plain": [
       "recall_at4    0.000173\n",
       "gini          0.000056\n",
       "metric        0.000108\n",
       "dtype: float64"
      ]
     },
     "metadata": {},
     "output_type": "display_data"
    }
   ],
   "source": [
    "results = list()\n",
    "\n",
    "for oof in all_oof_dfs:  \n",
    "    r = {\n",
    "        \"recall_at4\": compute_recall_at4(oof.target.values, oof.pred.values),\n",
    "        \"gini\": compute_normalized_gini(oof.target.values, oof.pred.values),\n",
    "        \"metric\": compute_amex_metric(oof.target.values, oof.pred.values),\n",
    "    }\n",
    "    results.append(r)\n",
    "\n",
    "results = pd.DataFrame(results)\n",
    "display(results)\n",
    "\n",
    "print(\"\\nmean:\")\n",
    "display(results.mean(axis=0))\n",
    "\n",
    "print(\"\\nstd:\")\n",
    "display(results.std(axis=0))"
   ]
  },
  {
   "cell_type": "code",
   "execution_count": 13,
   "id": "0fe5b7f1",
   "metadata": {
    "execution": {
     "iopub.execute_input": "2022-08-24T07:19:15.242497Z",
     "iopub.status.busy": "2022-08-24T07:19:15.122571Z",
     "iopub.status.idle": "2022-08-24T07:19:15.245911Z",
     "shell.execute_reply": "2022-08-24T07:19:15.245497Z"
    },
    "papermill": {
     "duration": 0.721161,
     "end_time": "2022-08-24T07:19:15.246060",
     "exception": false,
     "start_time": "2022-08-24T07:19:14.524899",
     "status": "completed"
    },
    "tags": []
   },
   "outputs": [
    {
     "data": {
      "text/plain": [
       "21"
      ]
     },
     "execution_count": 13,
     "metadata": {},
     "output_type": "execute_result"
    }
   ],
   "source": [
    "del train\n",
    "gc.collect()"
   ]
  },
  {
   "cell_type": "markdown",
   "id": "a96c9b43",
   "metadata": {
    "papermill": {
     "duration": 0.579186,
     "end_time": "2022-08-24T07:19:16.406724",
     "exception": false,
     "start_time": "2022-08-24T07:19:15.827538",
     "status": "completed"
    },
    "tags": []
   },
   "source": [
    "***\n",
    "## make predictions and submit"
   ]
  },
  {
   "cell_type": "code",
   "execution_count": 14,
   "id": "1381a4c8",
   "metadata": {
    "execution": {
     "iopub.execute_input": "2022-08-24T07:19:17.578513Z",
     "iopub.status.busy": "2022-08-24T07:19:17.577886Z",
     "iopub.status.idle": "2022-08-24T07:19:17.579389Z",
     "shell.execute_reply": "2022-08-24T07:19:17.579742Z"
    },
    "papermill": {
     "duration": 0.589767,
     "end_time": "2022-08-24T07:19:17.579927",
     "exception": false,
     "start_time": "2022-08-24T07:19:16.990160",
     "status": "completed"
    },
    "tags": []
   },
   "outputs": [],
   "source": [
    "def make_predictions(dataframe:pd.DataFrame, input_feats:list, models:list) -> np.array:\n",
    "    preds = [\n",
    "        model.predict(dataframe[input_feats], prediction_type=\"Probability\")[:,1] \n",
    "        for model in models\n",
    "    ]\n",
    "    return np.mean(preds, axis=0)    "
   ]
  },
  {
   "cell_type": "code",
   "execution_count": 15,
   "id": "a1c6dbac",
   "metadata": {
    "execution": {
     "iopub.execute_input": "2022-08-24T07:19:18.753100Z",
     "iopub.status.busy": "2022-08-24T07:19:18.752540Z",
     "iopub.status.idle": "2022-08-24T07:19:21.765146Z",
     "shell.execute_reply": "2022-08-24T07:19:21.764619Z"
    },
    "papermill": {
     "duration": 3.601873,
     "end_time": "2022-08-24T07:19:21.765302",
     "exception": false,
     "start_time": "2022-08-24T07:19:18.163429",
     "status": "completed"
    },
    "tags": []
   },
   "outputs": [],
   "source": [
    "test = pd.read_parquet(f\"../data/processed/dsv{DATASET_VERSION}/test.parquet\")\n",
    "sub = pd.read_csv(\"../data/raw/sample_submission.csv\")"
   ]
  },
  {
   "cell_type": "code",
   "execution_count": 16,
   "id": "a324aefb",
   "metadata": {
    "execution": {
     "iopub.execute_input": "2022-08-24T07:19:22.941605Z",
     "iopub.status.busy": "2022-08-24T07:19:22.941051Z",
     "iopub.status.idle": "2022-08-24T07:20:42.034891Z",
     "shell.execute_reply": "2022-08-24T07:20:42.035367Z"
    },
    "papermill": {
     "duration": 79.688542,
     "end_time": "2022-08-24T07:20:42.035616",
     "exception": false,
     "start_time": "2022-08-24T07:19:22.347074",
     "status": "completed"
    },
    "tags": []
   },
   "outputs": [
    {
     "name": "stdout",
     "output_type": "stream",
     "text": [
      "CPU times: user 11min 12s, sys: 22.8 s, total: 11min 35s\n",
      "Wall time: 1min 18s\n"
     ]
    }
   ],
   "source": [
    "%%time\n",
    "\n",
    "all_preds = list()\n",
    "\n",
    "for repetition in range(N_REPEATS):\n",
    "    if \"prediction\" in sub.columns:\n",
    "        sub.drop(\"prediction\", axis=1, inplace=True)\n",
    "    if \"prediction\" in test.columns:\n",
    "        test.drop(\"prediction\", axis=1, inplace=True)\n",
    "        \n",
    "    models = all_models[repetition]\n",
    "    preds = make_predictions(test, input_feats, models)\n",
    "    all_preds.append(preds)\n",
    "       \n",
    "    test[\"prediction\"] = preds\n",
    "    sub[\"prediction\"] = test.loc[sub.customer_ID.values,\"prediction\"].values\n",
    "    assert sub.prediction.isna().sum() == 0\n",
    "    sub.to_csv(SUB_PATH/f\"submission-cv{repetition}.csv\", index=False)"
   ]
  },
  {
   "cell_type": "code",
   "execution_count": 17,
   "id": "7ea189f5",
   "metadata": {
    "execution": {
     "iopub.execute_input": "2022-08-24T07:20:43.210195Z",
     "iopub.status.busy": "2022-08-24T07:20:43.209576Z",
     "iopub.status.idle": "2022-08-24T07:20:47.807438Z",
     "shell.execute_reply": "2022-08-24T07:20:47.806967Z"
    },
    "papermill": {
     "duration": 5.188023,
     "end_time": "2022-08-24T07:20:47.807581",
     "exception": false,
     "start_time": "2022-08-24T07:20:42.619558",
     "status": "completed"
    },
    "tags": []
   },
   "outputs": [
    {
     "name": "stdout",
     "output_type": "stream",
     "text": [
      "CPU times: user 3.9 s, sys: 696 ms, total: 4.6 s\n",
      "Wall time: 4.59 s\n"
     ]
    }
   ],
   "source": [
    "%%time\n",
    "# predict using all the trained models\n",
    "if \"prediction\" in sub.columns:\n",
    "    sub.drop(\"prediction\", axis=1, inplace=True)\n",
    "if \"prediction\" in test.columns:\n",
    "    test.drop(\"prediction\", axis=1, inplace=True)\n",
    "\n",
    "test[\"prediction\"] = np.mean(all_preds, axis=0)\n",
    "sub[\"prediction\"] = test.loc[sub.customer_ID.values,\"prediction\"].values\n",
    "assert sub.prediction.isna().sum() == 0\n",
    "sub.to_csv(SUB_PATH/f\"submission-all.csv\", index=False)"
   ]
  },
  {
   "cell_type": "markdown",
   "id": "fb24ca67",
   "metadata": {
    "papermill": {
     "duration": 0.589482,
     "end_time": "2022-08-24T07:20:48.985668",
     "exception": false,
     "start_time": "2022-08-24T07:20:48.396186",
     "status": "completed"
    },
    "tags": []
   },
   "source": [
    "***"
   ]
  }
 ],
 "metadata": {
  "kernelspec": {
   "display_name": "Python 3 (ipykernel)",
   "language": "python",
   "name": "python3"
  },
  "language_info": {
   "codemirror_mode": {
    "name": "ipython",
    "version": 3
   },
   "file_extension": ".py",
   "mimetype": "text/x-python",
   "name": "python",
   "nbconvert_exporter": "python",
   "pygments_lexer": "ipython3",
   "version": "3.7.12"
  },
  "papermill": {
   "default_parameters": {},
   "duration": 15996.5974,
   "end_time": "2022-08-24T07:20:51.306041",
   "environment_variables": {},
   "exception": null,
   "input_path": "train/catboost-dsv08.ipynb",
   "output_path": "train/outputs/catboost-dsv08.ipynb",
   "parameters": {},
   "start_time": "2022-08-24T02:54:14.708641",
   "version": "2.3.3"
  }
 },
 "nbformat": 4,
 "nbformat_minor": 5
}