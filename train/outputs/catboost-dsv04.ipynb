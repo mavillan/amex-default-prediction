{
 "cells": [
  {
   "cell_type": "code",
   "execution_count": 1,
   "id": "bc7d2acf",
   "metadata": {
    "_cell_guid": "b1076dfc-b9ad-4769-8c92-a6c4dae69d19",
    "_uuid": "8f2839f25d086af736a60e9eeb907d3b93b6e0e5",
    "execution": {
     "iopub.execute_input": "2022-08-08T15:27:30.452570Z",
     "iopub.status.busy": "2022-08-08T15:27:30.452061Z",
     "iopub.status.idle": "2022-08-08T15:27:31.066967Z",
     "shell.execute_reply": "2022-08-08T15:27:31.066403Z"
    },
    "papermill": {
     "duration": 0.63703,
     "end_time": "2022-08-08T15:27:31.067107",
     "exception": false,
     "start_time": "2022-08-08T15:27:30.430077",
     "status": "completed"
    },
    "tags": []
   },
   "outputs": [],
   "source": [
    "import gc\n",
    "from glob import glob\n",
    "import numpy as np\n",
    "import pandas as pd\n",
    "import matplotlib.pyplot as plt\n",
    "from pathlib import Path\n",
    "import time\n",
    "\n",
    "import category_encoders as ce\n",
    "import catboost\n",
    "from sklearn import metrics\n",
    "\n",
    "import sys\n",
    "sys.path.append(\"../utils\")\n",
    "from metrics import compute_recall_at4, compute_normalized_gini, compute_amex_metric\n",
    "#from messaging import send_message\n",
    "\n",
    "pd.set_option('display.max_columns', None)"
   ]
  },
  {
   "cell_type": "code",
   "execution_count": 2,
   "id": "a458038d",
   "metadata": {
    "execution": {
     "iopub.execute_input": "2022-08-08T15:27:31.098075Z",
     "iopub.status.busy": "2022-08-08T15:27:31.097573Z",
     "iopub.status.idle": "2022-08-08T15:27:31.099166Z",
     "shell.execute_reply": "2022-08-08T15:27:31.099538Z"
    },
    "papermill": {
     "duration": 0.02098,
     "end_time": "2022-08-08T15:27:31.099678",
     "exception": false,
     "start_time": "2022-08-08T15:27:31.078698",
     "status": "completed"
    },
    "tags": []
   },
   "outputs": [],
   "source": [
    "# metrics in catboost format\n",
    "class AmexMetric:\n",
    "    \n",
    "    def is_max_optimal(self):\n",
    "        return True\n",
    "\n",
    "    def evaluate(self, approxes, target, weight):    \n",
    "        assert len(approxes) == 1\n",
    "        assert len(target) == len(approxes[0])\n",
    "        scores = approxes[0]\n",
    "        target = target\n",
    "        return compute_amex_metric(target, scores), 1.\n",
    "\n",
    "    def get_final_error(self, error, weight):\n",
    "        return error\n",
    "\n",
    "class RecallAt4:\n",
    "    \n",
    "    def is_max_optimal(self):\n",
    "        return True\n",
    "\n",
    "    def evaluate(self, approxes, target, weight):\n",
    "        assert len(approxes) == 1\n",
    "        assert len(target) == len(approxes[0])\n",
    "        scores = np.array(approxes[0])\n",
    "        target = np.array(target)                                   \n",
    "        return compute_recall_at4(target, scores), 1.\n",
    "\n",
    "    def get_final_error(self, error, weight):\n",
    "        return error\n",
    "\n",
    "class NormGini:\n",
    "    \n",
    "    def is_max_optimal(self):\n",
    "        return True\n",
    "\n",
    "    def evaluate(self, approxes, target, weight):\n",
    "        assert len(approxes) == 1\n",
    "        assert len(target) == len(approxes[0])\n",
    "        scores = np.array(approxes[0])\n",
    "        target = np.array(target)                   \n",
    "        return compute_normalized_gini(target, scores), 1.\n",
    "\n",
    "    def get_final_error(self, error, weight):\n",
    "        return error"
   ]
  },
  {
   "cell_type": "code",
   "execution_count": 3,
   "id": "246513c0",
   "metadata": {
    "execution": {
     "iopub.execute_input": "2022-08-08T15:27:31.125030Z",
     "iopub.status.busy": "2022-08-08T15:27:31.124545Z",
     "iopub.status.idle": "2022-08-08T15:27:31.126173Z",
     "shell.execute_reply": "2022-08-08T15:27:31.126547Z"
    },
    "papermill": {
     "duration": 0.016145,
     "end_time": "2022-08-08T15:27:31.126682",
     "exception": false,
     "start_time": "2022-08-08T15:27:31.110537",
     "status": "completed"
    },
    "tags": []
   },
   "outputs": [],
   "source": [
    "# CONFIG PARAMS\n",
    "N_REPEATS = 3"
   ]
  },
  {
   "cell_type": "code",
   "execution_count": 4,
   "id": "200cb6ae",
   "metadata": {
    "execution": {
     "iopub.execute_input": "2022-08-08T15:27:31.153143Z",
     "iopub.status.busy": "2022-08-08T15:27:31.152661Z",
     "iopub.status.idle": "2022-08-08T15:27:31.154595Z",
     "shell.execute_reply": "2022-08-08T15:27:31.154940Z"
    },
    "papermill": {
     "duration": 0.017468,
     "end_time": "2022-08-08T15:27:31.155068",
     "exception": false,
     "start_time": "2022-08-08T15:27:31.137600",
     "status": "completed"
    },
    "tags": []
   },
   "outputs": [],
   "source": [
    "OOF_PATH = Path(\"../data/oof/catboost-dsv04\")\n",
    "SUB_PATH = Path(\"../data/subs/catboost-dsv04\")\n",
    "ART_PATH = Path(\"../artifacts/catboost-dsv04\")\n",
    "\n",
    "if not OOF_PATH.exists():\n",
    "    OOF_PATH.mkdir(parents=True, exist_ok=True)\n",
    "if not SUB_PATH.exists():\n",
    "    SUB_PATH.mkdir(parents=True, exist_ok=True)\n",
    "if not ART_PATH.exists():\n",
    "    ART_PATH.mkdir(parents=True, exist_ok=True)"
   ]
  },
  {
   "cell_type": "markdown",
   "id": "ba71324d",
   "metadata": {
    "papermill": {
     "duration": 0.010991,
     "end_time": "2022-08-08T15:27:31.177054",
     "exception": false,
     "start_time": "2022-08-08T15:27:31.166063",
     "status": "completed"
    },
    "tags": []
   },
   "source": [
    "***\n",
    "## load and prepare data"
   ]
  },
  {
   "cell_type": "code",
   "execution_count": 5,
   "id": "82fc9909",
   "metadata": {
    "execution": {
     "iopub.execute_input": "2022-08-08T15:27:31.203228Z",
     "iopub.status.busy": "2022-08-08T15:27:31.202706Z",
     "iopub.status.idle": "2022-08-08T15:27:31.323366Z",
     "shell.execute_reply": "2022-08-08T15:27:31.323755Z"
    },
    "papermill": {
     "duration": 0.135578,
     "end_time": "2022-08-08T15:27:31.323911",
     "exception": false,
     "start_time": "2022-08-08T15:27:31.188333",
     "status": "completed"
    },
    "tags": []
   },
   "outputs": [
    {
     "name": "stdout",
     "output_type": "stream",
     "text": [
      "test.parquet  train.parquet\r\n"
     ]
    }
   ],
   "source": [
    "!ls ../data/processed/dsv04"
   ]
  },
  {
   "cell_type": "code",
   "execution_count": 6,
   "id": "1527a81e",
   "metadata": {
    "execution": {
     "iopub.execute_input": "2022-08-08T15:27:31.351996Z",
     "iopub.status.busy": "2022-08-08T15:27:31.351500Z",
     "iopub.status.idle": "2022-08-08T15:27:33.598336Z",
     "shell.execute_reply": "2022-08-08T15:27:33.598753Z"
    },
    "papermill": {
     "duration": 2.263164,
     "end_time": "2022-08-08T15:27:33.598914",
     "exception": false,
     "start_time": "2022-08-08T15:27:31.335750",
     "status": "completed"
    },
    "tags": []
   },
   "outputs": [],
   "source": [
    "train = pd.read_parquet(\"../data/processed/dsv04/train.parquet\")\n",
    "train_labels = pd.read_csv(\"../data/raw/train_labels.csv\", index_col=\"customer_ID\")"
   ]
  },
  {
   "cell_type": "code",
   "execution_count": 7,
   "id": "39cca9ac",
   "metadata": {
    "execution": {
     "iopub.execute_input": "2022-08-08T15:27:33.629500Z",
     "iopub.status.busy": "2022-08-08T15:27:33.628978Z",
     "iopub.status.idle": "2022-08-08T15:27:33.631973Z",
     "shell.execute_reply": "2022-08-08T15:27:33.631574Z"
    },
    "papermill": {
     "duration": 0.02128,
     "end_time": "2022-08-08T15:27:33.632088",
     "exception": false,
     "start_time": "2022-08-08T15:27:33.610808",
     "status": "completed"
    },
    "tags": []
   },
   "outputs": [
    {
     "data": {
      "text/plain": [
       "1639"
      ]
     },
     "execution_count": 7,
     "metadata": {},
     "output_type": "execute_result"
    }
   ],
   "source": [
    "input_feats = train.columns.tolist()\n",
    "len(input_feats)"
   ]
  },
  {
   "cell_type": "code",
   "execution_count": 8,
   "id": "a8f060d6",
   "metadata": {
    "execution": {
     "iopub.execute_input": "2022-08-08T15:27:33.814599Z",
     "iopub.status.busy": "2022-08-08T15:27:33.798765Z",
     "iopub.status.idle": "2022-08-08T15:27:36.098189Z",
     "shell.execute_reply": "2022-08-08T15:27:36.097772Z"
    },
    "papermill": {
     "duration": 2.453729,
     "end_time": "2022-08-08T15:27:36.098322",
     "exception": false,
     "start_time": "2022-08-08T15:27:33.644593",
     "status": "completed"
    },
    "tags": []
   },
   "outputs": [
    {
     "data": {
      "text/plain": [
       "0"
      ]
     },
     "execution_count": 8,
     "metadata": {},
     "output_type": "execute_result"
    }
   ],
   "source": [
    "train = pd.merge(train, train_labels, how=\"inner\", left_index=True, right_index=True)\n",
    "del train_labels\n",
    "gc.collect()"
   ]
  },
  {
   "cell_type": "markdown",
   "id": "4ac2d4a2",
   "metadata": {
    "papermill": {
     "duration": 0.012515,
     "end_time": "2022-08-08T15:27:36.123323",
     "exception": false,
     "start_time": "2022-08-08T15:27:36.110808",
     "status": "completed"
    },
    "tags": []
   },
   "source": [
    "***\n",
    "## model training\n",
    "\n",
    "train with repeated cross validation"
   ]
  },
  {
   "cell_type": "code",
   "execution_count": 9,
   "id": "e01c6732",
   "metadata": {
    "execution": {
     "iopub.execute_input": "2022-08-08T15:27:36.153802Z",
     "iopub.status.busy": "2022-08-08T15:27:36.153259Z",
     "iopub.status.idle": "2022-08-08T15:27:36.154995Z",
     "shell.execute_reply": "2022-08-08T15:27:36.155379Z"
    },
    "papermill": {
     "duration": 0.019463,
     "end_time": "2022-08-08T15:27:36.155536",
     "exception": false,
     "start_time": "2022-08-08T15:27:36.136073",
     "status": "completed"
    },
    "tags": []
   },
   "outputs": [],
   "source": [
    "model_params = {\n",
    "    'eval_metric':AmexMetric(),\n",
    "    'learning_rate': 0.05,\n",
    "    'nan_mode':'Min',\n",
    "    'random_seed': 2112,\n",
    "    'auto_class_weights': None,\n",
    "    'bootstrap_type': 'Bernoulli',\n",
    "    'depth': 6,\n",
    "    'rsm': 0.1,\n",
    "    'iterations': 5000,\n",
    "    'l2_leaf_reg': 37.05327214190692,\n",
    "    'min_data_in_leaf': 600,\n",
    "    'random_strength': 27.64341860474617,\n",
    "    'subsample': 0.9,\n",
    "    # early stopping\n",
    "    'early_stopping_rounds':5000,\n",
    "    'use_best_model': False,\n",
    "}"
   ]
  },
  {
   "cell_type": "code",
   "execution_count": 10,
   "id": "13d5a27e",
   "metadata": {
    "execution": {
     "iopub.execute_input": "2022-08-08T15:27:36.188792Z",
     "iopub.status.busy": "2022-08-08T15:27:36.188226Z",
     "iopub.status.idle": "2022-08-08T15:27:36.189878Z",
     "shell.execute_reply": "2022-08-08T15:27:36.190227Z"
    },
    "papermill": {
     "duration": 0.022393,
     "end_time": "2022-08-08T15:27:36.190385",
     "exception": false,
     "start_time": "2022-08-08T15:27:36.167992",
     "status": "completed"
    },
    "tags": []
   },
   "outputs": [],
   "source": [
    "def train_models(dataframe: pd.DataFrame, n_folds: int = 5,) -> tuple:\n",
    "    \n",
    "    models = list()\n",
    "    \n",
    "    # dataframe to store the oof predictions\n",
    "    oof = dataframe[[\"target\"]].copy()\n",
    "    oof[\"pred\"] = -1\n",
    "\n",
    "    for fold in range(n_folds):\n",
    "        \n",
    "        print(f\" training model {fold+1}/{n_folds} \".center(100, \"#\"))\n",
    "        \n",
    "        train_df = dataframe.query(\"fold != @fold\").copy()\n",
    "        valid_df = dataframe.query(\"fold == @fold\").copy()\n",
    "                \n",
    "        train_dset = catboost.Pool(\n",
    "            data=train_df.loc[:,input_feats],\n",
    "            label=train_df.loc[:,\"target\"].values,\n",
    "        )\n",
    "        valid_dset = catboost.Pool(\n",
    "            data=valid_df.loc[:,input_feats],\n",
    "            label=valid_df.loc[:,\"target\"].values,\n",
    "        )\n",
    "        \n",
    "        model = catboost.CatBoostClassifier(**model_params)\n",
    "        model.fit(\n",
    "            train_dset,\n",
    "            eval_set=valid_dset,\n",
    "            verbose=25,\n",
    "        )\n",
    "        \n",
    "        #lgb.plot_importance(model, figsize=(8,15), importance_type=\"split\", max_num_features=30)\n",
    "        #lgb.plot_importance(model, figsize=(8,15), importance_type=\"gain\", max_num_features=30)\n",
    "        #plt.show()        \n",
    "        \n",
    "        oof.loc[valid_df.index,\"pred\"] = model.predict(valid_dset, prediction_type=\"Probability\")[:,1]\n",
    "        \n",
    "        models.append(model)\n",
    "        del train_df,valid_df,train_dset,valid_dset\n",
    "        gc.collect()\n",
    "    \n",
    "    return models,oof"
   ]
  },
  {
   "cell_type": "code",
   "execution_count": 11,
   "id": "43603f79",
   "metadata": {
    "execution": {
     "iopub.execute_input": "2022-08-08T15:27:36.219785Z",
     "iopub.status.busy": "2022-08-08T15:27:36.219260Z",
     "iopub.status.idle": "2022-08-08T15:27:36.223217Z",
     "shell.execute_reply": "2022-08-08T15:27:36.222734Z"
    },
    "papermill": {
     "duration": 0.02028,
     "end_time": "2022-08-08T15:27:36.223344",
     "exception": false,
     "start_time": "2022-08-08T15:27:36.203064",
     "status": "completed"
    },
    "tags": []
   },
   "outputs": [
    {
     "data": {
      "text/plain": [
       "['../data/processed/cv0.csv',\n",
       " '../data/processed/cv1.csv',\n",
       " '../data/processed/cv2.csv',\n",
       " '../data/processed/cv3.csv',\n",
       " '../data/processed/cv4.csv',\n",
       " '../data/processed/cv5.csv',\n",
       " '../data/processed/cv6.csv',\n",
       " '../data/processed/cv7.csv',\n",
       " '../data/processed/cv8.csv',\n",
       " '../data/processed/cv9.csv']"
      ]
     },
     "execution_count": 11,
     "metadata": {},
     "output_type": "execute_result"
    }
   ],
   "source": [
    "# implement repeated cross validation\n",
    "sorted(glob(\"../data/processed/cv*.csv\"))"
   ]
  },
  {
   "cell_type": "code",
   "execution_count": 12,
   "id": "3bf82992",
   "metadata": {
    "execution": {
     "iopub.execute_input": "2022-08-08T15:27:36.256776Z",
     "iopub.status.busy": "2022-08-08T15:27:36.256206Z",
     "iopub.status.idle": "2022-08-08T19:24:18.495514Z",
     "shell.execute_reply": "2022-08-08T19:24:18.495900Z"
    },
    "papermill": {
     "duration": 14202.259442,
     "end_time": "2022-08-08T19:24:18.496052",
     "exception": false,
     "start_time": "2022-08-08T15:27:36.236610",
     "status": "completed"
    },
    "tags": []
   },
   "outputs": [
    {
     "name": "stdout",
     "output_type": "stream",
     "text": [
      "############################### repeated cross-validation step: 1/3 ################################\n"
     ]
    },
    {
     "name": "stdout",
     "output_type": "stream",
     "text": [
      "######################################## training model 1/5 ########################################\n"
     ]
    },
    {
     "name": "stdout",
     "output_type": "stream",
     "text": [
      "0:\tlearn: 0.5559174\ttest: 0.5631208\tbest: 0.5631208 (0)\ttotal: 2.91s\tremaining: 4h 2m 9s\n"
     ]
    },
    {
     "name": "stdout",
     "output_type": "stream",
     "text": [
      "25:\tlearn: 0.7205289\ttest: 0.7246715\tbest: 0.7246715 (25)\ttotal: 7.5s\tremaining: 23m 54s\n"
     ]
    },
    {
     "name": "stdout",
     "output_type": "stream",
     "text": [
      "50:\tlearn: 0.7376136\ttest: 0.7416757\tbest: 0.7416757 (50)\ttotal: 12.2s\tremaining: 19m 45s\n"
     ]
    },
    {
     "name": "stdout",
     "output_type": "stream",
     "text": [
      "75:\tlearn: 0.7448877\ttest: 0.7488466\tbest: 0.7488466 (75)\ttotal: 16.9s\tremaining: 18m 14s\n"
     ]
    },
    {
     "name": "stdout",
     "output_type": "stream",
     "text": [
      "100:\tlearn: 0.7504780\ttest: 0.7544010\tbest: 0.7544010 (100)\ttotal: 21.6s\tremaining: 17m 25s\n"
     ]
    },
    {
     "name": "stdout",
     "output_type": "stream",
     "text": [
      "125:\tlearn: 0.7555517\ttest: 0.7598366\tbest: 0.7598366 (125)\ttotal: 26.2s\tremaining: 16m 54s\n"
     ]
    },
    {
     "name": "stdout",
     "output_type": "stream",
     "text": [
      "150:\tlearn: 0.7585493\ttest: 0.7628135\tbest: 0.7630085 (149)\ttotal: 30.9s\tremaining: 16m 32s\n"
     ]
    },
    {
     "name": "stdout",
     "output_type": "stream",
     "text": [
      "175:\tlearn: 0.7604158\ttest: 0.7648278\tbest: 0.7648278 (175)\ttotal: 35.6s\tremaining: 16m 15s\n"
     ]
    },
    {
     "name": "stdout",
     "output_type": "stream",
     "text": [
      "200:\tlearn: 0.7622376\ttest: 0.7660060\tbest: 0.7660060 (200)\ttotal: 40.2s\tremaining: 16m\n"
     ]
    },
    {
     "name": "stdout",
     "output_type": "stream",
     "text": [
      "225:\tlearn: 0.7632261\ttest: 0.7673723\tbest: 0.7675037 (220)\ttotal: 44.9s\tremaining: 15m 48s\n"
     ]
    },
    {
     "name": "stdout",
     "output_type": "stream",
     "text": [
      "250:\tlearn: 0.7647788\ttest: 0.7684881\tbest: 0.7687887 (249)\ttotal: 49.6s\tremaining: 15m 38s\n"
     ]
    },
    {
     "name": "stdout",
     "output_type": "stream",
     "text": [
      "275:\tlearn: 0.7674047\ttest: 0.7703484\tbest: 0.7703484 (275)\ttotal: 54.3s\tremaining: 15m 29s\n"
     ]
    },
    {
     "name": "stdout",
     "output_type": "stream",
     "text": [
      "300:\tlearn: 0.7705350\ttest: 0.7735661\tbest: 0.7735661 (300)\ttotal: 59s\tremaining: 15m 21s\n"
     ]
    },
    {
     "name": "stdout",
     "output_type": "stream",
     "text": [
      "325:\tlearn: 0.7755308\ttest: 0.7770699\tbest: 0.7770904 (324)\ttotal: 1m 3s\tremaining: 15m 13s\n"
     ]
    },
    {
     "name": "stdout",
     "output_type": "stream",
     "text": [
      "350:\tlearn: 0.7790300\ttest: 0.7802921\tbest: 0.7802921 (350)\ttotal: 1m 8s\tremaining: 15m 6s\n"
     ]
    },
    {
     "name": "stdout",
     "output_type": "stream",
     "text": [
      "375:\tlearn: 0.7822869\ttest: 0.7823817\tbest: 0.7825470 (371)\ttotal: 1m 13s\tremaining: 15m\n"
     ]
    },
    {
     "name": "stdout",
     "output_type": "stream",
     "text": [
      "400:\tlearn: 0.7840293\ttest: 0.7842502\tbest: 0.7842502 (400)\ttotal: 1m 17s\tremaining: 14m 53s\n"
     ]
    },
    {
     "name": "stdout",
     "output_type": "stream",
     "text": [
      "425:\tlearn: 0.7862707\ttest: 0.7867447\tbest: 0.7867448 (423)\ttotal: 1m 22s\tremaining: 14m 47s\n"
     ]
    },
    {
     "name": "stdout",
     "output_type": "stream",
     "text": [
      "450:\tlearn: 0.7879981\ttest: 0.7873729\tbest: 0.7875365 (438)\ttotal: 1m 27s\tremaining: 14m 41s\n"
     ]
    },
    {
     "name": "stdout",
     "output_type": "stream",
     "text": [
      "475:\tlearn: 0.7894023\ttest: 0.7886960\tbest: 0.7886960 (475)\ttotal: 1m 32s\tremaining: 14m 35s\n"
     ]
    },
    {
     "name": "stdout",
     "output_type": "stream",
     "text": [
      "500:\tlearn: 0.7908074\ttest: 0.7894046\tbest: 0.7901537 (494)\ttotal: 1m 36s\tremaining: 14m 30s\n"
     ]
    },
    {
     "name": "stdout",
     "output_type": "stream",
     "text": [
      "525:\tlearn: 0.7920060\ttest: 0.7906220\tbest: 0.7907448 (524)\ttotal: 1m 41s\tremaining: 14m 23s\n"
     ]
    },
    {
     "name": "stdout",
     "output_type": "stream",
     "text": [
      "550:\tlearn: 0.7930328\ttest: 0.7908176\tbest: 0.7908176 (550)\ttotal: 1m 46s\tremaining: 14m 17s\n"
     ]
    },
    {
     "name": "stdout",
     "output_type": "stream",
     "text": [
      "575:\tlearn: 0.7942621\ttest: 0.7914096\tbest: 0.7916525 (573)\ttotal: 1m 50s\tremaining: 14m 12s\n"
     ]
    },
    {
     "name": "stdout",
     "output_type": "stream",
     "text": [
      "600:\tlearn: 0.7954668\ttest: 0.7919069\tbest: 0.7921913 (596)\ttotal: 1m 55s\tremaining: 14m 6s\n"
     ]
    },
    {
     "name": "stdout",
     "output_type": "stream",
     "text": [
      "625:\tlearn: 0.7962643\ttest: 0.7920305\tbest: 0.7921913 (596)\ttotal: 2m\tremaining: 14m 1s\n"
     ]
    },
    {
     "name": "stdout",
     "output_type": "stream",
     "text": [
      "650:\tlearn: 0.7971903\ttest: 0.7926662\tbest: 0.7926863 (649)\ttotal: 2m 5s\tremaining: 13m 56s\n"
     ]
    },
    {
     "name": "stdout",
     "output_type": "stream",
     "text": [
      "675:\tlearn: 0.7980541\ttest: 0.7926484\tbest: 0.7927327 (651)\ttotal: 2m 9s\tremaining: 13m 50s\n"
     ]
    },
    {
     "name": "stdout",
     "output_type": "stream",
     "text": [
      "700:\tlearn: 0.7990599\ttest: 0.7933130\tbest: 0.7934794 (691)\ttotal: 2m 14s\tremaining: 13m 44s\n"
     ]
    },
    {
     "name": "stdout",
     "output_type": "stream",
     "text": [
      "725:\tlearn: 0.7997537\ttest: 0.7934484\tbest: 0.7936528 (723)\ttotal: 2m 19s\tremaining: 13m 39s\n"
     ]
    },
    {
     "name": "stdout",
     "output_type": "stream",
     "text": [
      "750:\tlearn: 0.8004408\ttest: 0.7935255\tbest: 0.7937030 (746)\ttotal: 2m 23s\tremaining: 13m 34s\n"
     ]
    },
    {
     "name": "stdout",
     "output_type": "stream",
     "text": [
      "775:\tlearn: 0.8012814\ttest: 0.7939587\tbest: 0.7941786 (771)\ttotal: 2m 28s\tremaining: 13m 28s\n"
     ]
    },
    {
     "name": "stdout",
     "output_type": "stream",
     "text": [
      "800:\tlearn: 0.8023220\ttest: 0.7942643\tbest: 0.7945448 (794)\ttotal: 2m 33s\tremaining: 13m 23s\n"
     ]
    },
    {
     "name": "stdout",
     "output_type": "stream",
     "text": [
      "825:\tlearn: 0.8030850\ttest: 0.7943234\tbest: 0.7946851 (811)\ttotal: 2m 38s\tremaining: 13m 18s\n"
     ]
    },
    {
     "name": "stdout",
     "output_type": "stream",
     "text": [
      "850:\tlearn: 0.8037527\ttest: 0.7945130\tbest: 0.7947367 (846)\ttotal: 2m 42s\tremaining: 13m 13s\n"
     ]
    },
    {
     "name": "stdout",
     "output_type": "stream",
     "text": [
      "875:\tlearn: 0.8044446\ttest: 0.7949488\tbest: 0.7950477 (865)\ttotal: 2m 47s\tremaining: 13m 8s\n"
     ]
    },
    {
     "name": "stdout",
     "output_type": "stream",
     "text": [
      "900:\tlearn: 0.8056305\ttest: 0.7951366\tbest: 0.7952960 (892)\ttotal: 2m 52s\tremaining: 13m 3s\n"
     ]
    },
    {
     "name": "stdout",
     "output_type": "stream",
     "text": [
      "925:\tlearn: 0.8061398\ttest: 0.7956824\tbest: 0.7957844 (924)\ttotal: 2m 56s\tremaining: 12m 58s\n"
     ]
    },
    {
     "name": "stdout",
     "output_type": "stream",
     "text": [
      "950:\tlearn: 0.8069955\ttest: 0.7956111\tbest: 0.7959246 (938)\ttotal: 3m 1s\tremaining: 12m 53s\n"
     ]
    },
    {
     "name": "stdout",
     "output_type": "stream",
     "text": [
      "975:\tlearn: 0.8075895\ttest: 0.7958692\tbest: 0.7960966 (968)\ttotal: 3m 6s\tremaining: 12m 48s\n"
     ]
    },
    {
     "name": "stdout",
     "output_type": "stream",
     "text": [
      "1000:\tlearn: 0.8084242\ttest: 0.7956187\tbest: 0.7960966 (968)\ttotal: 3m 11s\tremaining: 12m 43s\n"
     ]
    },
    {
     "name": "stdout",
     "output_type": "stream",
     "text": [
      "1025:\tlearn: 0.8091007\ttest: 0.7964214\tbest: 0.7966285 (1019)\ttotal: 3m 15s\tremaining: 12m 38s\n"
     ]
    },
    {
     "name": "stdout",
     "output_type": "stream",
     "text": [
      "1050:\tlearn: 0.8097645\ttest: 0.7965377\tbest: 0.7968726 (1042)\ttotal: 3m 20s\tremaining: 12m 33s\n"
     ]
    },
    {
     "name": "stdout",
     "output_type": "stream",
     "text": [
      "1075:\tlearn: 0.8106901\ttest: 0.7965824\tbest: 0.7968726 (1042)\ttotal: 3m 25s\tremaining: 12m 28s\n"
     ]
    },
    {
     "name": "stdout",
     "output_type": "stream",
     "text": [
      "1100:\tlearn: 0.8111966\ttest: 0.7968262\tbest: 0.7971320 (1096)\ttotal: 3m 29s\tremaining: 12m 23s\n"
     ]
    },
    {
     "name": "stdout",
     "output_type": "stream",
     "text": [
      "1125:\tlearn: 0.8118264\ttest: 0.7968304\tbest: 0.7971320 (1096)\ttotal: 3m 34s\tremaining: 12m 18s\n"
     ]
    },
    {
     "name": "stdout",
     "output_type": "stream",
     "text": [
      "1150:\tlearn: 0.8124301\ttest: 0.7963221\tbest: 0.7971320 (1096)\ttotal: 3m 39s\tremaining: 12m 13s\n"
     ]
    },
    {
     "name": "stdout",
     "output_type": "stream",
     "text": [
      "1175:\tlearn: 0.8131677\ttest: 0.7968250\tbest: 0.7971320 (1096)\ttotal: 3m 44s\tremaining: 12m 8s\n"
     ]
    },
    {
     "name": "stdout",
     "output_type": "stream",
     "text": [
      "1200:\tlearn: 0.8138468\ttest: 0.7969753\tbest: 0.7971320 (1096)\ttotal: 3m 48s\tremaining: 12m 3s\n"
     ]
    },
    {
     "name": "stdout",
     "output_type": "stream",
     "text": [
      "1225:\tlearn: 0.8139701\ttest: 0.7973805\tbest: 0.7973805 (1225)\ttotal: 3m 53s\tremaining: 11m 58s\n"
     ]
    },
    {
     "name": "stdout",
     "output_type": "stream",
     "text": [
      "1250:\tlearn: 0.8146680\ttest: 0.7971631\tbest: 0.7974456 (1234)\ttotal: 3m 58s\tremaining: 11m 53s\n"
     ]
    },
    {
     "name": "stdout",
     "output_type": "stream",
     "text": [
      "1275:\tlearn: 0.8154007\ttest: 0.7975325\tbest: 0.7975325 (1275)\ttotal: 4m 2s\tremaining: 11m 48s\n"
     ]
    },
    {
     "name": "stdout",
     "output_type": "stream",
     "text": [
      "1300:\tlearn: 0.8158356\ttest: 0.7972381\tbest: 0.7975452 (1285)\ttotal: 4m 7s\tremaining: 11m 43s\n"
     ]
    },
    {
     "name": "stdout",
     "output_type": "stream",
     "text": [
      "1325:\tlearn: 0.8166392\ttest: 0.7974084\tbest: 0.7975452 (1285)\ttotal: 4m 12s\tremaining: 11m 38s\n"
     ]
    },
    {
     "name": "stdout",
     "output_type": "stream",
     "text": [
      "1350:\tlearn: 0.8171948\ttest: 0.7976965\tbest: 0.7977477 (1330)\ttotal: 4m 16s\tremaining: 11m 33s\n"
     ]
    },
    {
     "name": "stdout",
     "output_type": "stream",
     "text": [
      "1375:\tlearn: 0.8177163\ttest: 0.7977131\tbest: 0.7978725 (1355)\ttotal: 4m 21s\tremaining: 11m 29s\n"
     ]
    },
    {
     "name": "stdout",
     "output_type": "stream",
     "text": [
      "1400:\tlearn: 0.8181722\ttest: 0.7978342\tbest: 0.7979757 (1390)\ttotal: 4m 26s\tremaining: 11m 24s\n"
     ]
    },
    {
     "name": "stdout",
     "output_type": "stream",
     "text": [
      "1425:\tlearn: 0.8187907\ttest: 0.7978649\tbest: 0.7981095 (1403)\ttotal: 4m 31s\tremaining: 11m 19s\n"
     ]
    },
    {
     "name": "stdout",
     "output_type": "stream",
     "text": [
      "1450:\tlearn: 0.8194695\ttest: 0.7979910\tbest: 0.7981095 (1403)\ttotal: 4m 35s\tremaining: 11m 14s\n"
     ]
    },
    {
     "name": "stdout",
     "output_type": "stream",
     "text": [
      "1475:\tlearn: 0.8200016\ttest: 0.7977275\tbest: 0.7981095 (1403)\ttotal: 4m 40s\tremaining: 11m 9s\n"
     ]
    },
    {
     "name": "stdout",
     "output_type": "stream",
     "text": [
      "1500:\tlearn: 0.8206125\ttest: 0.7979498\tbest: 0.7982819 (1487)\ttotal: 4m 45s\tremaining: 11m 4s\n"
     ]
    },
    {
     "name": "stdout",
     "output_type": "stream",
     "text": [
      "1525:\tlearn: 0.8212530\ttest: 0.7975130\tbest: 0.7982819 (1487)\ttotal: 4m 49s\tremaining: 10m 59s\n"
     ]
    },
    {
     "name": "stdout",
     "output_type": "stream",
     "text": [
      "1550:\tlearn: 0.8218421\ttest: 0.7975673\tbest: 0.7982819 (1487)\ttotal: 4m 54s\tremaining: 10m 54s\n"
     ]
    },
    {
     "name": "stdout",
     "output_type": "stream",
     "text": [
      "1575:\tlearn: 0.8222802\ttest: 0.7978122\tbest: 0.7982819 (1487)\ttotal: 4m 59s\tremaining: 10m 50s\n"
     ]
    },
    {
     "name": "stdout",
     "output_type": "stream",
     "text": [
      "1600:\tlearn: 0.8228409\ttest: 0.7975955\tbest: 0.7982819 (1487)\ttotal: 5m 3s\tremaining: 10m 45s\n"
     ]
    },
    {
     "name": "stdout",
     "output_type": "stream",
     "text": [
      "1625:\tlearn: 0.8233345\ttest: 0.7975291\tbest: 0.7982819 (1487)\ttotal: 5m 8s\tremaining: 10m 40s\n"
     ]
    },
    {
     "name": "stdout",
     "output_type": "stream",
     "text": [
      "1650:\tlearn: 0.8239427\ttest: 0.7975257\tbest: 0.7982819 (1487)\ttotal: 5m 13s\tremaining: 10m 35s\n"
     ]
    },
    {
     "name": "stdout",
     "output_type": "stream",
     "text": [
      "1675:\tlearn: 0.8245115\ttest: 0.7975177\tbest: 0.7982819 (1487)\ttotal: 5m 17s\tremaining: 10m 30s\n"
     ]
    },
    {
     "name": "stdout",
     "output_type": "stream",
     "text": [
      "1700:\tlearn: 0.8249791\ttest: 0.7973955\tbest: 0.7982819 (1487)\ttotal: 5m 22s\tremaining: 10m 25s\n"
     ]
    },
    {
     "name": "stdout",
     "output_type": "stream",
     "text": [
      "1725:\tlearn: 0.8253618\ttest: 0.7976791\tbest: 0.7982819 (1487)\ttotal: 5m 27s\tremaining: 10m 20s\n"
     ]
    },
    {
     "name": "stdout",
     "output_type": "stream",
     "text": [
      "1750:\tlearn: 0.8261176\ttest: 0.7980654\tbest: 0.7982819 (1487)\ttotal: 5m 32s\tremaining: 10m 16s\n"
     ]
    },
    {
     "name": "stdout",
     "output_type": "stream",
     "text": [
      "1775:\tlearn: 0.8266889\ttest: 0.7980098\tbest: 0.7983025 (1771)\ttotal: 5m 36s\tremaining: 10m 11s\n"
     ]
    },
    {
     "name": "stdout",
     "output_type": "stream",
     "text": [
      "1800:\tlearn: 0.8269397\ttest: 0.7981612\tbest: 0.7983025 (1771)\ttotal: 5m 41s\tremaining: 10m 6s\n"
     ]
    },
    {
     "name": "stdout",
     "output_type": "stream",
     "text": [
      "1825:\tlearn: 0.8274021\ttest: 0.7979809\tbest: 0.7983025 (1771)\ttotal: 5m 46s\tremaining: 10m 1s\n"
     ]
    },
    {
     "name": "stdout",
     "output_type": "stream",
     "text": [
      "1850:\tlearn: 0.8279606\ttest: 0.7977810\tbest: 0.7983025 (1771)\ttotal: 5m 50s\tremaining: 9m 56s\n"
     ]
    },
    {
     "name": "stdout",
     "output_type": "stream",
     "text": [
      "1875:\tlearn: 0.8283494\ttest: 0.7980380\tbest: 0.7983025 (1771)\ttotal: 5m 55s\tremaining: 9m 52s\n"
     ]
    },
    {
     "name": "stdout",
     "output_type": "stream",
     "text": [
      "1900:\tlearn: 0.8287619\ttest: 0.7981302\tbest: 0.7984611 (1892)\ttotal: 6m\tremaining: 9m 47s\n"
     ]
    },
    {
     "name": "stdout",
     "output_type": "stream",
     "text": [
      "1925:\tlearn: 0.8294669\ttest: 0.7978000\tbest: 0.7984611 (1892)\ttotal: 6m 4s\tremaining: 9m 42s\n"
     ]
    },
    {
     "name": "stdout",
     "output_type": "stream",
     "text": [
      "1950:\tlearn: 0.8298773\ttest: 0.7981509\tbest: 0.7985011 (1939)\ttotal: 6m 9s\tremaining: 9m 37s\n"
     ]
    },
    {
     "name": "stdout",
     "output_type": "stream",
     "text": [
      "1975:\tlearn: 0.8304359\ttest: 0.7987978\tbest: 0.7987978 (1975)\ttotal: 6m 14s\tremaining: 9m 32s\n"
     ]
    },
    {
     "name": "stdout",
     "output_type": "stream",
     "text": [
      "2000:\tlearn: 0.8309111\ttest: 0.7990669\tbest: 0.7991028 (1989)\ttotal: 6m 18s\tremaining: 9m 27s\n"
     ]
    },
    {
     "name": "stdout",
     "output_type": "stream",
     "text": [
      "2025:\tlearn: 0.8314872\ttest: 0.7988188\tbest: 0.7991028 (1989)\ttotal: 6m 23s\tremaining: 9m 23s\n"
     ]
    },
    {
     "name": "stdout",
     "output_type": "stream",
     "text": [
      "2050:\tlearn: 0.8319667\ttest: 0.7984676\tbest: 0.7991028 (1989)\ttotal: 6m 28s\tremaining: 9m 18s\n"
     ]
    },
    {
     "name": "stdout",
     "output_type": "stream",
     "text": [
      "2075:\tlearn: 0.8324985\ttest: 0.7984343\tbest: 0.7991028 (1989)\ttotal: 6m 33s\tremaining: 9m 13s\n"
     ]
    },
    {
     "name": "stdout",
     "output_type": "stream",
     "text": [
      "2100:\tlearn: 0.8328582\ttest: 0.7983765\tbest: 0.7991028 (1989)\ttotal: 6m 37s\tremaining: 9m 8s\n"
     ]
    },
    {
     "name": "stdout",
     "output_type": "stream",
     "text": [
      "2125:\tlearn: 0.8334713\ttest: 0.7981466\tbest: 0.7991028 (1989)\ttotal: 6m 42s\tremaining: 9m 4s\n"
     ]
    },
    {
     "name": "stdout",
     "output_type": "stream",
     "text": [
      "2150:\tlearn: 0.8338574\ttest: 0.7978736\tbest: 0.7991028 (1989)\ttotal: 6m 47s\tremaining: 8m 59s\n"
     ]
    },
    {
     "name": "stdout",
     "output_type": "stream",
     "text": [
      "2175:\tlearn: 0.8343319\ttest: 0.7982387\tbest: 0.7991028 (1989)\ttotal: 6m 51s\tremaining: 8m 54s\n"
     ]
    },
    {
     "name": "stdout",
     "output_type": "stream",
     "text": [
      "2200:\tlearn: 0.8349046\ttest: 0.7982238\tbest: 0.7991028 (1989)\ttotal: 6m 56s\tremaining: 8m 49s\n"
     ]
    },
    {
     "name": "stdout",
     "output_type": "stream",
     "text": [
      "2225:\tlearn: 0.8352687\ttest: 0.7978927\tbest: 0.7991028 (1989)\ttotal: 7m 1s\tremaining: 8m 44s\n"
     ]
    },
    {
     "name": "stdout",
     "output_type": "stream",
     "text": [
      "2250:\tlearn: 0.8356873\ttest: 0.7977487\tbest: 0.7991028 (1989)\ttotal: 7m 5s\tremaining: 8m 40s\n"
     ]
    },
    {
     "name": "stdout",
     "output_type": "stream",
     "text": [
      "2275:\tlearn: 0.8363157\ttest: 0.7977486\tbest: 0.7991028 (1989)\ttotal: 7m 10s\tremaining: 8m 35s\n"
     ]
    },
    {
     "name": "stdout",
     "output_type": "stream",
     "text": [
      "2300:\tlearn: 0.8369042\ttest: 0.7976678\tbest: 0.7991028 (1989)\ttotal: 7m 15s\tremaining: 8m 30s\n"
     ]
    },
    {
     "name": "stdout",
     "output_type": "stream",
     "text": [
      "2325:\tlearn: 0.8373309\ttest: 0.7974446\tbest: 0.7991028 (1989)\ttotal: 7m 19s\tremaining: 8m 25s\n"
     ]
    },
    {
     "name": "stdout",
     "output_type": "stream",
     "text": [
      "2350:\tlearn: 0.8377731\ttest: 0.7977996\tbest: 0.7991028 (1989)\ttotal: 7m 24s\tremaining: 8m 21s\n"
     ]
    },
    {
     "name": "stdout",
     "output_type": "stream",
     "text": [
      "2375:\tlearn: 0.8382971\ttest: 0.7976786\tbest: 0.7991028 (1989)\ttotal: 7m 29s\tremaining: 8m 16s\n"
     ]
    },
    {
     "name": "stdout",
     "output_type": "stream",
     "text": [
      "2400:\tlearn: 0.8386627\ttest: 0.7974989\tbest: 0.7991028 (1989)\ttotal: 7m 34s\tremaining: 8m 11s\n"
     ]
    },
    {
     "name": "stdout",
     "output_type": "stream",
     "text": [
      "2425:\tlearn: 0.8391904\ttest: 0.7982191\tbest: 0.7991028 (1989)\ttotal: 7m 38s\tremaining: 8m 6s\n"
     ]
    },
    {
     "name": "stdout",
     "output_type": "stream",
     "text": [
      "2450:\tlearn: 0.8397718\ttest: 0.7978614\tbest: 0.7991028 (1989)\ttotal: 7m 43s\tremaining: 8m 1s\n"
     ]
    },
    {
     "name": "stdout",
     "output_type": "stream",
     "text": [
      "2475:\tlearn: 0.8402811\ttest: 0.7977394\tbest: 0.7991028 (1989)\ttotal: 7m 48s\tremaining: 7m 57s\n"
     ]
    },
    {
     "name": "stdout",
     "output_type": "stream",
     "text": [
      "2500:\tlearn: 0.8407485\ttest: 0.7979576\tbest: 0.7991028 (1989)\ttotal: 7m 52s\tremaining: 7m 52s\n"
     ]
    },
    {
     "name": "stdout",
     "output_type": "stream",
     "text": [
      "2525:\tlearn: 0.8412469\ttest: 0.7978741\tbest: 0.7991028 (1989)\ttotal: 7m 57s\tremaining: 7m 47s\n"
     ]
    },
    {
     "name": "stdout",
     "output_type": "stream",
     "text": [
      "2550:\tlearn: 0.8416565\ttest: 0.7979869\tbest: 0.7991028 (1989)\ttotal: 8m 2s\tremaining: 7m 42s\n"
     ]
    },
    {
     "name": "stdout",
     "output_type": "stream",
     "text": [
      "2575:\tlearn: 0.8421527\ttest: 0.7981189\tbest: 0.7991028 (1989)\ttotal: 8m 6s\tremaining: 7m 38s\n"
     ]
    },
    {
     "name": "stdout",
     "output_type": "stream",
     "text": [
      "2600:\tlearn: 0.8425945\ttest: 0.7982927\tbest: 0.7991028 (1989)\ttotal: 8m 11s\tremaining: 7m 33s\n"
     ]
    },
    {
     "name": "stdout",
     "output_type": "stream",
     "text": [
      "2625:\tlearn: 0.8431858\ttest: 0.7985451\tbest: 0.7991028 (1989)\ttotal: 8m 16s\tremaining: 7m 28s\n"
     ]
    },
    {
     "name": "stdout",
     "output_type": "stream",
     "text": [
      "2650:\tlearn: 0.8438120\ttest: 0.7988661\tbest: 0.7991028 (1989)\ttotal: 8m 21s\tremaining: 7m 23s\n"
     ]
    },
    {
     "name": "stdout",
     "output_type": "stream",
     "text": [
      "2675:\tlearn: 0.8441097\ttest: 0.7986737\tbest: 0.7991028 (1989)\ttotal: 8m 25s\tremaining: 7m 19s\n"
     ]
    },
    {
     "name": "stdout",
     "output_type": "stream",
     "text": [
      "2700:\tlearn: 0.8446408\ttest: 0.7985140\tbest: 0.7991028 (1989)\ttotal: 8m 30s\tremaining: 7m 14s\n"
     ]
    },
    {
     "name": "stdout",
     "output_type": "stream",
     "text": [
      "2725:\tlearn: 0.8451164\ttest: 0.7987522\tbest: 0.7991028 (1989)\ttotal: 8m 35s\tremaining: 7m 9s\n"
     ]
    },
    {
     "name": "stdout",
     "output_type": "stream",
     "text": [
      "2750:\tlearn: 0.8454076\ttest: 0.7987791\tbest: 0.7991028 (1989)\ttotal: 8m 39s\tremaining: 7m 4s\n"
     ]
    },
    {
     "name": "stdout",
     "output_type": "stream",
     "text": [
      "2775:\tlearn: 0.8460274\ttest: 0.7985153\tbest: 0.7991028 (1989)\ttotal: 8m 44s\tremaining: 7m\n"
     ]
    },
    {
     "name": "stdout",
     "output_type": "stream",
     "text": [
      "2800:\tlearn: 0.8463777\ttest: 0.7988605\tbest: 0.7991028 (1989)\ttotal: 8m 49s\tremaining: 6m 55s\n"
     ]
    },
    {
     "name": "stdout",
     "output_type": "stream",
     "text": [
      "2825:\tlearn: 0.8468635\ttest: 0.7991145\tbest: 0.7991988 (2823)\ttotal: 8m 53s\tremaining: 6m 50s\n"
     ]
    },
    {
     "name": "stdout",
     "output_type": "stream",
     "text": [
      "2850:\tlearn: 0.8473273\ttest: 0.7988772\tbest: 0.7991988 (2823)\ttotal: 8m 58s\tremaining: 6m 45s\n"
     ]
    },
    {
     "name": "stdout",
     "output_type": "stream",
     "text": [
      "2875:\tlearn: 0.8477458\ttest: 0.7984188\tbest: 0.7991988 (2823)\ttotal: 9m 3s\tremaining: 6m 41s\n"
     ]
    },
    {
     "name": "stdout",
     "output_type": "stream",
     "text": [
      "2900:\tlearn: 0.8482835\ttest: 0.7984672\tbest: 0.7991988 (2823)\ttotal: 9m 7s\tremaining: 6m 36s\n"
     ]
    },
    {
     "name": "stdout",
     "output_type": "stream",
     "text": [
      "2925:\tlearn: 0.8487585\ttest: 0.7987945\tbest: 0.7991988 (2823)\ttotal: 9m 12s\tremaining: 6m 31s\n"
     ]
    },
    {
     "name": "stdout",
     "output_type": "stream",
     "text": [
      "2950:\tlearn: 0.8492197\ttest: 0.7991970\tbest: 0.7991988 (2823)\ttotal: 9m 17s\tremaining: 6m 26s\n"
     ]
    },
    {
     "name": "stdout",
     "output_type": "stream",
     "text": [
      "2975:\tlearn: 0.8495401\ttest: 0.7990067\tbest: 0.7993452 (2962)\ttotal: 9m 21s\tremaining: 6m 22s\n"
     ]
    },
    {
     "name": "stdout",
     "output_type": "stream",
     "text": [
      "3000:\tlearn: 0.8498886\ttest: 0.7991594\tbest: 0.7993452 (2962)\ttotal: 9m 26s\tremaining: 6m 17s\n"
     ]
    },
    {
     "name": "stdout",
     "output_type": "stream",
     "text": [
      "3025:\tlearn: 0.8503193\ttest: 0.7989049\tbest: 0.7993452 (2962)\ttotal: 9m 31s\tremaining: 6m 12s\n"
     ]
    },
    {
     "name": "stdout",
     "output_type": "stream",
     "text": [
      "3050:\tlearn: 0.8506944\ttest: 0.7990572\tbest: 0.7993452 (2962)\ttotal: 9m 35s\tremaining: 6m 7s\n"
     ]
    },
    {
     "name": "stdout",
     "output_type": "stream",
     "text": [
      "3075:\tlearn: 0.8510510\ttest: 0.7989305\tbest: 0.7993452 (2962)\ttotal: 9m 40s\tremaining: 6m 3s\n"
     ]
    },
    {
     "name": "stdout",
     "output_type": "stream",
     "text": [
      "3100:\tlearn: 0.8515674\ttest: 0.7988666\tbest: 0.7993452 (2962)\ttotal: 9m 45s\tremaining: 5m 58s\n"
     ]
    },
    {
     "name": "stdout",
     "output_type": "stream",
     "text": [
      "3125:\tlearn: 0.8519309\ttest: 0.7988300\tbest: 0.7993452 (2962)\ttotal: 9m 50s\tremaining: 5m 53s\n"
     ]
    },
    {
     "name": "stdout",
     "output_type": "stream",
     "text": [
      "3150:\tlearn: 0.8522902\ttest: 0.7987292\tbest: 0.7993452 (2962)\ttotal: 9m 54s\tremaining: 5m 48s\n"
     ]
    },
    {
     "name": "stdout",
     "output_type": "stream",
     "text": [
      "3175:\tlearn: 0.8527385\ttest: 0.7988175\tbest: 0.7993452 (2962)\ttotal: 9m 59s\tremaining: 5m 44s\n"
     ]
    },
    {
     "name": "stdout",
     "output_type": "stream",
     "text": [
      "3200:\tlearn: 0.8531220\ttest: 0.7990062\tbest: 0.7993452 (2962)\ttotal: 10m 4s\tremaining: 5m 39s\n"
     ]
    },
    {
     "name": "stdout",
     "output_type": "stream",
     "text": [
      "3225:\tlearn: 0.8535662\ttest: 0.7991148\tbest: 0.7993452 (2962)\ttotal: 10m 8s\tremaining: 5m 34s\n"
     ]
    },
    {
     "name": "stdout",
     "output_type": "stream",
     "text": [
      "3250:\tlearn: 0.8542042\ttest: 0.7992422\tbest: 0.7993714 (3240)\ttotal: 10m 13s\tremaining: 5m 30s\n"
     ]
    },
    {
     "name": "stdout",
     "output_type": "stream",
     "text": [
      "3275:\tlearn: 0.8544154\ttest: 0.7992480\tbest: 0.7993714 (3240)\ttotal: 10m 18s\tremaining: 5m 25s\n"
     ]
    },
    {
     "name": "stdout",
     "output_type": "stream",
     "text": [
      "3300:\tlearn: 0.8550085\ttest: 0.7993553\tbest: 0.7995012 (3290)\ttotal: 10m 22s\tremaining: 5m 20s\n"
     ]
    },
    {
     "name": "stdout",
     "output_type": "stream",
     "text": [
      "3325:\tlearn: 0.8551958\ttest: 0.7989740\tbest: 0.7995012 (3290)\ttotal: 10m 27s\tremaining: 5m 15s\n"
     ]
    },
    {
     "name": "stdout",
     "output_type": "stream",
     "text": [
      "3350:\tlearn: 0.8557776\ttest: 0.7988314\tbest: 0.7995012 (3290)\ttotal: 10m 32s\tremaining: 5m 11s\n"
     ]
    },
    {
     "name": "stdout",
     "output_type": "stream",
     "text": [
      "3375:\tlearn: 0.8561591\ttest: 0.7987652\tbest: 0.7995012 (3290)\ttotal: 10m 36s\tremaining: 5m 6s\n"
     ]
    },
    {
     "name": "stdout",
     "output_type": "stream",
     "text": [
      "3400:\tlearn: 0.8565141\ttest: 0.7986844\tbest: 0.7995012 (3290)\ttotal: 10m 41s\tremaining: 5m 1s\n"
     ]
    },
    {
     "name": "stdout",
     "output_type": "stream",
     "text": [
      "3425:\tlearn: 0.8571710\ttest: 0.7988339\tbest: 0.7995012 (3290)\ttotal: 10m 46s\tremaining: 4m 56s\n"
     ]
    },
    {
     "name": "stdout",
     "output_type": "stream",
     "text": [
      "3450:\tlearn: 0.8575546\ttest: 0.7988359\tbest: 0.7995012 (3290)\ttotal: 10m 50s\tremaining: 4m 52s\n"
     ]
    },
    {
     "name": "stdout",
     "output_type": "stream",
     "text": [
      "3475:\tlearn: 0.8580451\ttest: 0.7992519\tbest: 0.7995012 (3290)\ttotal: 10m 55s\tremaining: 4m 47s\n"
     ]
    },
    {
     "name": "stdout",
     "output_type": "stream",
     "text": [
      "3500:\tlearn: 0.8584010\ttest: 0.7989148\tbest: 0.7995012 (3290)\ttotal: 11m\tremaining: 4m 42s\n"
     ]
    },
    {
     "name": "stdout",
     "output_type": "stream",
     "text": [
      "3525:\tlearn: 0.8587238\ttest: 0.7991017\tbest: 0.7995012 (3290)\ttotal: 11m 4s\tremaining: 4m 37s\n"
     ]
    },
    {
     "name": "stdout",
     "output_type": "stream",
     "text": [
      "3550:\tlearn: 0.8591516\ttest: 0.7992062\tbest: 0.7995012 (3290)\ttotal: 11m 9s\tremaining: 4m 33s\n"
     ]
    },
    {
     "name": "stdout",
     "output_type": "stream",
     "text": [
      "3575:\tlearn: 0.8596095\ttest: 0.7992535\tbest: 0.7995012 (3290)\ttotal: 11m 14s\tremaining: 4m 28s\n"
     ]
    },
    {
     "name": "stdout",
     "output_type": "stream",
     "text": [
      "3600:\tlearn: 0.8600315\ttest: 0.7990414\tbest: 0.7995012 (3290)\ttotal: 11m 18s\tremaining: 4m 23s\n"
     ]
    },
    {
     "name": "stdout",
     "output_type": "stream",
     "text": [
      "3625:\tlearn: 0.8605802\ttest: 0.7990402\tbest: 0.7995012 (3290)\ttotal: 11m 23s\tremaining: 4m 19s\n"
     ]
    },
    {
     "name": "stdout",
     "output_type": "stream",
     "text": [
      "3650:\tlearn: 0.8610388\ttest: 0.7990236\tbest: 0.7995012 (3290)\ttotal: 11m 28s\tremaining: 4m 14s\n"
     ]
    },
    {
     "name": "stdout",
     "output_type": "stream",
     "text": [
      "3675:\tlearn: 0.8614339\ttest: 0.7990456\tbest: 0.7995012 (3290)\ttotal: 11m 33s\tremaining: 4m 9s\n"
     ]
    },
    {
     "name": "stdout",
     "output_type": "stream",
     "text": [
      "3700:\tlearn: 0.8618612\ttest: 0.7991141\tbest: 0.7995012 (3290)\ttotal: 11m 37s\tremaining: 4m 4s\n"
     ]
    },
    {
     "name": "stdout",
     "output_type": "stream",
     "text": [
      "3725:\tlearn: 0.8621862\ttest: 0.7994301\tbest: 0.7995012 (3290)\ttotal: 11m 42s\tremaining: 4m\n"
     ]
    },
    {
     "name": "stdout",
     "output_type": "stream",
     "text": [
      "3750:\tlearn: 0.8625021\ttest: 0.7991200\tbest: 0.7995012 (3290)\ttotal: 11m 47s\tremaining: 3m 55s\n"
     ]
    },
    {
     "name": "stdout",
     "output_type": "stream",
     "text": [
      "3775:\tlearn: 0.8629275\ttest: 0.7991836\tbest: 0.7995012 (3290)\ttotal: 11m 51s\tremaining: 3m 50s\n"
     ]
    },
    {
     "name": "stdout",
     "output_type": "stream",
     "text": [
      "3800:\tlearn: 0.8633708\ttest: 0.7997479\tbest: 0.7997479 (3800)\ttotal: 11m 56s\tremaining: 3m 46s\n"
     ]
    },
    {
     "name": "stdout",
     "output_type": "stream",
     "text": [
      "3825:\tlearn: 0.8635811\ttest: 0.8000471\tbest: 0.8001496 (3819)\ttotal: 12m 1s\tremaining: 3m 41s\n"
     ]
    },
    {
     "name": "stdout",
     "output_type": "stream",
     "text": [
      "3850:\tlearn: 0.8640737\ttest: 0.7998973\tbest: 0.8001496 (3819)\ttotal: 12m 5s\tremaining: 3m 36s\n"
     ]
    },
    {
     "name": "stdout",
     "output_type": "stream",
     "text": [
      "3875:\tlearn: 0.8648358\ttest: 0.8003169\tbest: 0.8003376 (3874)\ttotal: 12m 10s\tremaining: 3m 31s\n"
     ]
    },
    {
     "name": "stdout",
     "output_type": "stream",
     "text": [
      "3900:\tlearn: 0.8651174\ttest: 0.7998158\tbest: 0.8003376 (3874)\ttotal: 12m 15s\tremaining: 3m 27s\n"
     ]
    },
    {
     "name": "stdout",
     "output_type": "stream",
     "text": [
      "3925:\tlearn: 0.8653948\ttest: 0.7996236\tbest: 0.8003376 (3874)\ttotal: 12m 19s\tremaining: 3m 22s\n"
     ]
    },
    {
     "name": "stdout",
     "output_type": "stream",
     "text": [
      "3950:\tlearn: 0.8657252\ttest: 0.7994523\tbest: 0.8003376 (3874)\ttotal: 12m 24s\tremaining: 3m 17s\n"
     ]
    },
    {
     "name": "stdout",
     "output_type": "stream",
     "text": [
      "3975:\tlearn: 0.8660454\ttest: 0.7997058\tbest: 0.8003376 (3874)\ttotal: 12m 29s\tremaining: 3m 12s\n"
     ]
    },
    {
     "name": "stdout",
     "output_type": "stream",
     "text": [
      "4000:\tlearn: 0.8663194\ttest: 0.7995591\tbest: 0.8003376 (3874)\ttotal: 12m 34s\tremaining: 3m 8s\n"
     ]
    },
    {
     "name": "stdout",
     "output_type": "stream",
     "text": [
      "4025:\tlearn: 0.8666720\ttest: 0.7995218\tbest: 0.8003376 (3874)\ttotal: 12m 38s\tremaining: 3m 3s\n"
     ]
    },
    {
     "name": "stdout",
     "output_type": "stream",
     "text": [
      "4050:\tlearn: 0.8670198\ttest: 0.7993929\tbest: 0.8003376 (3874)\ttotal: 12m 43s\tremaining: 2m 58s\n"
     ]
    },
    {
     "name": "stdout",
     "output_type": "stream",
     "text": [
      "4075:\tlearn: 0.8675018\ttest: 0.7994583\tbest: 0.8003376 (3874)\ttotal: 12m 48s\tremaining: 2m 54s\n"
     ]
    },
    {
     "name": "stdout",
     "output_type": "stream",
     "text": [
      "4100:\tlearn: 0.8680391\ttest: 0.7992103\tbest: 0.8003376 (3874)\ttotal: 12m 52s\tremaining: 2m 49s\n"
     ]
    },
    {
     "name": "stdout",
     "output_type": "stream",
     "text": [
      "4125:\tlearn: 0.8685025\ttest: 0.7991651\tbest: 0.8003376 (3874)\ttotal: 12m 57s\tremaining: 2m 44s\n"
     ]
    },
    {
     "name": "stdout",
     "output_type": "stream",
     "text": [
      "4150:\tlearn: 0.8686931\ttest: 0.7991258\tbest: 0.8003376 (3874)\ttotal: 13m 2s\tremaining: 2m 39s\n"
     ]
    },
    {
     "name": "stdout",
     "output_type": "stream",
     "text": [
      "4175:\tlearn: 0.8690868\ttest: 0.7992762\tbest: 0.8003376 (3874)\ttotal: 13m 6s\tremaining: 2m 35s\n"
     ]
    },
    {
     "name": "stdout",
     "output_type": "stream",
     "text": [
      "4200:\tlearn: 0.8695281\ttest: 0.7991512\tbest: 0.8003376 (3874)\ttotal: 13m 11s\tremaining: 2m 30s\n"
     ]
    },
    {
     "name": "stdout",
     "output_type": "stream",
     "text": [
      "4225:\tlearn: 0.8699778\ttest: 0.7993662\tbest: 0.8003376 (3874)\ttotal: 13m 16s\tremaining: 2m 25s\n"
     ]
    },
    {
     "name": "stdout",
     "output_type": "stream",
     "text": [
      "4250:\tlearn: 0.8701787\ttest: 0.7992010\tbest: 0.8003376 (3874)\ttotal: 13m 20s\tremaining: 2m 21s\n"
     ]
    },
    {
     "name": "stdout",
     "output_type": "stream",
     "text": [
      "4275:\tlearn: 0.8704951\ttest: 0.7993286\tbest: 0.8003376 (3874)\ttotal: 13m 25s\tremaining: 2m 16s\n"
     ]
    },
    {
     "name": "stdout",
     "output_type": "stream",
     "text": [
      "4300:\tlearn: 0.8708777\ttest: 0.7989881\tbest: 0.8003376 (3874)\ttotal: 13m 30s\tremaining: 2m 11s\n"
     ]
    },
    {
     "name": "stdout",
     "output_type": "stream",
     "text": [
      "4325:\tlearn: 0.8712742\ttest: 0.7986300\tbest: 0.8003376 (3874)\ttotal: 13m 35s\tremaining: 2m 6s\n"
     ]
    },
    {
     "name": "stdout",
     "output_type": "stream",
     "text": [
      "4350:\tlearn: 0.8717866\ttest: 0.7984423\tbest: 0.8003376 (3874)\ttotal: 13m 39s\tremaining: 2m 2s\n"
     ]
    },
    {
     "name": "stdout",
     "output_type": "stream",
     "text": [
      "4375:\tlearn: 0.8721053\ttest: 0.7986972\tbest: 0.8003376 (3874)\ttotal: 13m 44s\tremaining: 1m 57s\n"
     ]
    },
    {
     "name": "stdout",
     "output_type": "stream",
     "text": [
      "4400:\tlearn: 0.8721966\ttest: 0.7984714\tbest: 0.8003376 (3874)\ttotal: 13m 49s\tremaining: 1m 52s\n"
     ]
    },
    {
     "name": "stdout",
     "output_type": "stream",
     "text": [
      "4425:\tlearn: 0.8725408\ttest: 0.7985367\tbest: 0.8003376 (3874)\ttotal: 13m 53s\tremaining: 1m 48s\n"
     ]
    },
    {
     "name": "stdout",
     "output_type": "stream",
     "text": [
      "4450:\tlearn: 0.8730624\ttest: 0.7988294\tbest: 0.8003376 (3874)\ttotal: 13m 58s\tremaining: 1m 43s\n"
     ]
    },
    {
     "name": "stdout",
     "output_type": "stream",
     "text": [
      "4475:\tlearn: 0.8735111\ttest: 0.7983096\tbest: 0.8003376 (3874)\ttotal: 14m 3s\tremaining: 1m 38s\n"
     ]
    },
    {
     "name": "stdout",
     "output_type": "stream",
     "text": [
      "4500:\tlearn: 0.8737863\ttest: 0.7984593\tbest: 0.8003376 (3874)\ttotal: 14m 7s\tremaining: 1m 33s\n"
     ]
    },
    {
     "name": "stdout",
     "output_type": "stream",
     "text": [
      "4525:\tlearn: 0.8741415\ttest: 0.7982782\tbest: 0.8003376 (3874)\ttotal: 14m 12s\tremaining: 1m 29s\n"
     ]
    },
    {
     "name": "stdout",
     "output_type": "stream",
     "text": [
      "4550:\tlearn: 0.8742986\ttest: 0.7985147\tbest: 0.8003376 (3874)\ttotal: 14m 17s\tremaining: 1m 24s\n"
     ]
    },
    {
     "name": "stdout",
     "output_type": "stream",
     "text": [
      "4575:\tlearn: 0.8746478\ttest: 0.7984735\tbest: 0.8003376 (3874)\ttotal: 14m 21s\tremaining: 1m 19s\n"
     ]
    },
    {
     "name": "stdout",
     "output_type": "stream",
     "text": [
      "4600:\tlearn: 0.8751170\ttest: 0.7984721\tbest: 0.8003376 (3874)\ttotal: 14m 26s\tremaining: 1m 15s\n"
     ]
    },
    {
     "name": "stdout",
     "output_type": "stream",
     "text": [
      "4625:\tlearn: 0.8753935\ttest: 0.7986805\tbest: 0.8003376 (3874)\ttotal: 14m 31s\tremaining: 1m 10s\n"
     ]
    },
    {
     "name": "stdout",
     "output_type": "stream",
     "text": [
      "4650:\tlearn: 0.8757632\ttest: 0.7984703\tbest: 0.8003376 (3874)\ttotal: 14m 35s\tremaining: 1m 5s\n"
     ]
    },
    {
     "name": "stdout",
     "output_type": "stream",
     "text": [
      "4675:\tlearn: 0.8759782\ttest: 0.7989376\tbest: 0.8003376 (3874)\ttotal: 14m 40s\tremaining: 1m 1s\n"
     ]
    },
    {
     "name": "stdout",
     "output_type": "stream",
     "text": [
      "4700:\tlearn: 0.8763848\ttest: 0.7988734\tbest: 0.8003376 (3874)\ttotal: 14m 45s\tremaining: 56.3s\n"
     ]
    },
    {
     "name": "stdout",
     "output_type": "stream",
     "text": [
      "4725:\tlearn: 0.8767529\ttest: 0.7985579\tbest: 0.8003376 (3874)\ttotal: 14m 49s\tremaining: 51.6s\n"
     ]
    },
    {
     "name": "stdout",
     "output_type": "stream",
     "text": [
      "4750:\tlearn: 0.8770153\ttest: 0.7990871\tbest: 0.8003376 (3874)\ttotal: 14m 54s\tremaining: 46.9s\n"
     ]
    },
    {
     "name": "stdout",
     "output_type": "stream",
     "text": [
      "4775:\tlearn: 0.8774877\ttest: 0.7991111\tbest: 0.8003376 (3874)\ttotal: 14m 59s\tremaining: 42.2s\n"
     ]
    },
    {
     "name": "stdout",
     "output_type": "stream",
     "text": [
      "4800:\tlearn: 0.8779162\ttest: 0.7988371\tbest: 0.8003376 (3874)\ttotal: 15m 3s\tremaining: 37.5s\n"
     ]
    },
    {
     "name": "stdout",
     "output_type": "stream",
     "text": [
      "4825:\tlearn: 0.8781857\ttest: 0.7988251\tbest: 0.8003376 (3874)\ttotal: 15m 8s\tremaining: 32.8s\n"
     ]
    },
    {
     "name": "stdout",
     "output_type": "stream",
     "text": [
      "4850:\tlearn: 0.8786610\ttest: 0.7989101\tbest: 0.8003376 (3874)\ttotal: 15m 13s\tremaining: 28s\n"
     ]
    },
    {
     "name": "stdout",
     "output_type": "stream",
     "text": [
      "4875:\tlearn: 0.8789462\ttest: 0.7992245\tbest: 0.8003376 (3874)\ttotal: 15m 17s\tremaining: 23.3s\n"
     ]
    },
    {
     "name": "stdout",
     "output_type": "stream",
     "text": [
      "4900:\tlearn: 0.8794632\ttest: 0.7990206\tbest: 0.8003376 (3874)\ttotal: 15m 22s\tremaining: 18.6s\n"
     ]
    },
    {
     "name": "stdout",
     "output_type": "stream",
     "text": [
      "4925:\tlearn: 0.8797095\ttest: 0.7991520\tbest: 0.8003376 (3874)\ttotal: 15m 27s\tremaining: 13.9s\n"
     ]
    },
    {
     "name": "stdout",
     "output_type": "stream",
     "text": [
      "4950:\tlearn: 0.8800605\ttest: 0.7988193\tbest: 0.8003376 (3874)\ttotal: 15m 31s\tremaining: 9.22s\n"
     ]
    },
    {
     "name": "stdout",
     "output_type": "stream",
     "text": [
      "4975:\tlearn: 0.8804069\ttest: 0.7989667\tbest: 0.8003376 (3874)\ttotal: 15m 36s\tremaining: 4.52s\n"
     ]
    },
    {
     "name": "stdout",
     "output_type": "stream",
     "text": [
      "4999:\tlearn: 0.8806834\ttest: 0.7991789\tbest: 0.8003376 (3874)\ttotal: 15m 41s\tremaining: 0us\n",
      "\n",
      "bestTest = 0.8003375507\n",
      "bestIteration = 3874\n",
      "\n"
     ]
    },
    {
     "name": "stdout",
     "output_type": "stream",
     "text": [
      "######################################## training model 2/5 ########################################\n"
     ]
    },
    {
     "name": "stdout",
     "output_type": "stream",
     "text": [
      "0:\tlearn: 0.5320477\ttest: 0.5392506\tbest: 0.5392506 (0)\ttotal: 493ms\tremaining: 41m 3s\n"
     ]
    },
    {
     "name": "stdout",
     "output_type": "stream",
     "text": [
      "25:\tlearn: 0.7214247\ttest: 0.7245052\tbest: 0.7245052 (25)\ttotal: 5.07s\tremaining: 16m 10s\n"
     ]
    },
    {
     "name": "stdout",
     "output_type": "stream",
     "text": [
      "50:\tlearn: 0.7345961\ttest: 0.7358945\tbest: 0.7358945 (50)\ttotal: 9.78s\tremaining: 15m 48s\n"
     ]
    },
    {
     "name": "stdout",
     "output_type": "stream",
     "text": [
      "75:\tlearn: 0.7446630\ttest: 0.7447021\tbest: 0.7447021 (75)\ttotal: 14.4s\tremaining: 15m 35s\n"
     ]
    },
    {
     "name": "stdout",
     "output_type": "stream",
     "text": [
      "100:\tlearn: 0.7502723\ttest: 0.7502165\tbest: 0.7502165 (100)\ttotal: 19.1s\tremaining: 15m 25s\n"
     ]
    },
    {
     "name": "stdout",
     "output_type": "stream",
     "text": [
      "125:\tlearn: 0.7542993\ttest: 0.7546983\tbest: 0.7546983 (125)\ttotal: 23.7s\tremaining: 15m 17s\n"
     ]
    },
    {
     "name": "stdout",
     "output_type": "stream",
     "text": [
      "150:\tlearn: 0.7572686\ttest: 0.7577443\tbest: 0.7577443 (150)\ttotal: 28.4s\tremaining: 15m 11s\n"
     ]
    },
    {
     "name": "stdout",
     "output_type": "stream",
     "text": [
      "175:\tlearn: 0.7596058\ttest: 0.7592755\tbest: 0.7594839 (174)\ttotal: 33s\tremaining: 15m 5s\n"
     ]
    },
    {
     "name": "stdout",
     "output_type": "stream",
     "text": [
      "200:\tlearn: 0.7620018\ttest: 0.7611552\tbest: 0.7611552 (200)\ttotal: 37.7s\tremaining: 15m\n"
     ]
    },
    {
     "name": "stdout",
     "output_type": "stream",
     "text": [
      "225:\tlearn: 0.7634149\ttest: 0.7627488\tbest: 0.7627488 (225)\ttotal: 42.4s\tremaining: 14m 55s\n"
     ]
    },
    {
     "name": "stdout",
     "output_type": "stream",
     "text": [
      "250:\tlearn: 0.7655039\ttest: 0.7640560\tbest: 0.7640560 (250)\ttotal: 47s\tremaining: 14m 50s\n"
     ]
    },
    {
     "name": "stdout",
     "output_type": "stream",
     "text": [
      "275:\tlearn: 0.7676972\ttest: 0.7659918\tbest: 0.7660613 (271)\ttotal: 51.8s\tremaining: 14m 45s\n"
     ]
    },
    {
     "name": "stdout",
     "output_type": "stream",
     "text": [
      "300:\tlearn: 0.7715519\ttest: 0.7686772\tbest: 0.7686772 (300)\ttotal: 56.4s\tremaining: 14m 41s\n"
     ]
    },
    {
     "name": "stdout",
     "output_type": "stream",
     "text": [
      "325:\tlearn: 0.7758702\ttest: 0.7732710\tbest: 0.7732710 (325)\ttotal: 1m 1s\tremaining: 14m 36s\n"
     ]
    },
    {
     "name": "stdout",
     "output_type": "stream",
     "text": [
      "350:\tlearn: 0.7798349\ttest: 0.7760644\tbest: 0.7760644 (350)\ttotal: 1m 5s\tremaining: 14m 32s\n"
     ]
    },
    {
     "name": "stdout",
     "output_type": "stream",
     "text": [
      "375:\tlearn: 0.7826422\ttest: 0.7780579\tbest: 0.7780796 (374)\ttotal: 1m 10s\tremaining: 14m 28s\n"
     ]
    },
    {
     "name": "stdout",
     "output_type": "stream",
     "text": [
      "400:\tlearn: 0.7846629\ttest: 0.7795391\tbest: 0.7798233 (399)\ttotal: 1m 15s\tremaining: 14m 23s\n"
     ]
    },
    {
     "name": "stdout",
     "output_type": "stream",
     "text": [
      "425:\tlearn: 0.7863972\ttest: 0.7817587\tbest: 0.7817587 (425)\ttotal: 1m 20s\tremaining: 14m 19s\n"
     ]
    },
    {
     "name": "stdout",
     "output_type": "stream",
     "text": [
      "450:\tlearn: 0.7879727\ttest: 0.7838888\tbest: 0.7838888 (450)\ttotal: 1m 24s\tremaining: 14m 15s\n"
     ]
    },
    {
     "name": "stdout",
     "output_type": "stream",
     "text": [
      "475:\tlearn: 0.7893563\ttest: 0.7851885\tbest: 0.7852654 (474)\ttotal: 1m 29s\tremaining: 14m 10s\n"
     ]
    },
    {
     "name": "stdout",
     "output_type": "stream",
     "text": [
      "500:\tlearn: 0.7903933\ttest: 0.7857813\tbest: 0.7859647 (499)\ttotal: 1m 34s\tremaining: 14m 6s\n"
     ]
    },
    {
     "name": "stdout",
     "output_type": "stream",
     "text": [
      "525:\tlearn: 0.7917525\ttest: 0.7866892\tbest: 0.7869684 (523)\ttotal: 1m 38s\tremaining: 14m 1s\n"
     ]
    },
    {
     "name": "stdout",
     "output_type": "stream",
     "text": [
      "550:\tlearn: 0.7931035\ttest: 0.7871275\tbest: 0.7873817 (543)\ttotal: 1m 43s\tremaining: 13m 56s\n"
     ]
    },
    {
     "name": "stdout",
     "output_type": "stream",
     "text": [
      "575:\tlearn: 0.7943921\ttest: 0.7881024\tbest: 0.7881424 (564)\ttotal: 1m 48s\tremaining: 13m 52s\n"
     ]
    },
    {
     "name": "stdout",
     "output_type": "stream",
     "text": [
      "600:\tlearn: 0.7956834\ttest: 0.7887717\tbest: 0.7888691 (598)\ttotal: 1m 53s\tremaining: 13m 47s\n"
     ]
    },
    {
     "name": "stdout",
     "output_type": "stream",
     "text": [
      "625:\tlearn: 0.7964317\ttest: 0.7892567\tbest: 0.7892567 (625)\ttotal: 1m 57s\tremaining: 13m 42s\n"
     ]
    },
    {
     "name": "stdout",
     "output_type": "stream",
     "text": [
      "650:\tlearn: 0.7975584\ttest: 0.7898679\tbest: 0.7899693 (649)\ttotal: 2m 2s\tremaining: 13m 38s\n"
     ]
    },
    {
     "name": "stdout",
     "output_type": "stream",
     "text": [
      "675:\tlearn: 0.7983532\ttest: 0.7903301\tbest: 0.7904647 (671)\ttotal: 2m 7s\tremaining: 13m 33s\n"
     ]
    },
    {
     "name": "stdout",
     "output_type": "stream",
     "text": [
      "700:\tlearn: 0.7991540\ttest: 0.7901820\tbest: 0.7905771 (689)\ttotal: 2m 11s\tremaining: 13m 28s\n"
     ]
    },
    {
     "name": "stdout",
     "output_type": "stream",
     "text": [
      "725:\tlearn: 0.8001396\ttest: 0.7902452\tbest: 0.7905771 (689)\ttotal: 2m 16s\tremaining: 13m 24s\n"
     ]
    },
    {
     "name": "stdout",
     "output_type": "stream",
     "text": [
      "750:\tlearn: 0.8011879\ttest: 0.7906886\tbest: 0.7908738 (748)\ttotal: 2m 21s\tremaining: 13m 19s\n"
     ]
    },
    {
     "name": "stdout",
     "output_type": "stream",
     "text": [
      "775:\tlearn: 0.8022204\ttest: 0.7907151\tbest: 0.7909785 (755)\ttotal: 2m 25s\tremaining: 13m 14s\n"
     ]
    },
    {
     "name": "stdout",
     "output_type": "stream",
     "text": [
      "800:\tlearn: 0.8028959\ttest: 0.7913247\tbest: 0.7913247 (800)\ttotal: 2m 30s\tremaining: 13m 10s\n"
     ]
    },
    {
     "name": "stdout",
     "output_type": "stream",
     "text": [
      "825:\tlearn: 0.8035970\ttest: 0.7915820\tbest: 0.7918087 (823)\ttotal: 2m 35s\tremaining: 13m 5s\n"
     ]
    },
    {
     "name": "stdout",
     "output_type": "stream",
     "text": [
      "850:\tlearn: 0.8043484\ttest: 0.7917737\tbest: 0.7920036 (849)\ttotal: 2m 40s\tremaining: 13m\n"
     ]
    },
    {
     "name": "stdout",
     "output_type": "stream",
     "text": [
      "875:\tlearn: 0.8049758\ttest: 0.7918825\tbest: 0.7920036 (849)\ttotal: 2m 44s\tremaining: 12m 55s\n"
     ]
    },
    {
     "name": "stdout",
     "output_type": "stream",
     "text": [
      "900:\tlearn: 0.8056881\ttest: 0.7923868\tbest: 0.7923868 (900)\ttotal: 2m 49s\tremaining: 12m 51s\n"
     ]
    },
    {
     "name": "stdout",
     "output_type": "stream",
     "text": [
      "925:\tlearn: 0.8066829\ttest: 0.7929010\tbest: 0.7929010 (925)\ttotal: 2m 54s\tremaining: 12m 46s\n"
     ]
    },
    {
     "name": "stdout",
     "output_type": "stream",
     "text": [
      "950:\tlearn: 0.8073193\ttest: 0.7928363\tbest: 0.7929010 (925)\ttotal: 2m 58s\tremaining: 12m 41s\n"
     ]
    },
    {
     "name": "stdout",
     "output_type": "stream",
     "text": [
      "975:\tlearn: 0.8079577\ttest: 0.7929676\tbest: 0.7930478 (973)\ttotal: 3m 3s\tremaining: 12m 36s\n"
     ]
    },
    {
     "name": "stdout",
     "output_type": "stream",
     "text": [
      "1000:\tlearn: 0.8087294\ttest: 0.7928508\tbest: 0.7931444 (980)\ttotal: 3m 8s\tremaining: 12m 31s\n"
     ]
    },
    {
     "name": "stdout",
     "output_type": "stream",
     "text": [
      "1025:\tlearn: 0.8093458\ttest: 0.7929261\tbest: 0.7931444 (980)\ttotal: 3m 12s\tremaining: 12m 27s\n"
     ]
    },
    {
     "name": "stdout",
     "output_type": "stream",
     "text": [
      "1050:\tlearn: 0.8097915\ttest: 0.7928665\tbest: 0.7931444 (980)\ttotal: 3m 17s\tremaining: 12m 22s\n"
     ]
    },
    {
     "name": "stdout",
     "output_type": "stream",
     "text": [
      "1075:\tlearn: 0.8103507\ttest: 0.7937147\tbest: 0.7937147 (1075)\ttotal: 3m 22s\tremaining: 12m 18s\n"
     ]
    },
    {
     "name": "stdout",
     "output_type": "stream",
     "text": [
      "1100:\tlearn: 0.8109276\ttest: 0.7934484\tbest: 0.7937606 (1079)\ttotal: 3m 27s\tremaining: 12m 13s\n"
     ]
    },
    {
     "name": "stdout",
     "output_type": "stream",
     "text": [
      "1125:\tlearn: 0.8116988\ttest: 0.7932668\tbest: 0.7937606 (1079)\ttotal: 3m 31s\tremaining: 12m 8s\n"
     ]
    },
    {
     "name": "stdout",
     "output_type": "stream",
     "text": [
      "1150:\tlearn: 0.8122903\ttest: 0.7937941\tbest: 0.7938551 (1148)\ttotal: 3m 36s\tremaining: 12m 3s\n"
     ]
    },
    {
     "name": "stdout",
     "output_type": "stream",
     "text": [
      "1175:\tlearn: 0.8129328\ttest: 0.7939788\tbest: 0.7942283 (1169)\ttotal: 3m 41s\tremaining: 11m 59s\n"
     ]
    },
    {
     "name": "stdout",
     "output_type": "stream",
     "text": [
      "1200:\tlearn: 0.8136292\ttest: 0.7936559\tbest: 0.7942283 (1169)\ttotal: 3m 45s\tremaining: 11m 54s\n"
     ]
    },
    {
     "name": "stdout",
     "output_type": "stream",
     "text": [
      "1225:\tlearn: 0.8141818\ttest: 0.7939187\tbest: 0.7942283 (1169)\ttotal: 3m 50s\tremaining: 11m 49s\n"
     ]
    },
    {
     "name": "stdout",
     "output_type": "stream",
     "text": [
      "1250:\tlearn: 0.8149596\ttest: 0.7942340\tbest: 0.7942340 (1250)\ttotal: 3m 55s\tremaining: 11m 44s\n"
     ]
    },
    {
     "name": "stdout",
     "output_type": "stream",
     "text": [
      "1275:\tlearn: 0.8153990\ttest: 0.7946009\tbest: 0.7947829 (1267)\ttotal: 3m 59s\tremaining: 11m 40s\n"
     ]
    },
    {
     "name": "stdout",
     "output_type": "stream",
     "text": [
      "1300:\tlearn: 0.8160415\ttest: 0.7951427\tbest: 0.7951427 (1300)\ttotal: 4m 4s\tremaining: 11m 35s\n"
     ]
    },
    {
     "name": "stdout",
     "output_type": "stream",
     "text": [
      "1325:\tlearn: 0.8166194\ttest: 0.7949744\tbest: 0.7951960 (1310)\ttotal: 4m 9s\tremaining: 11m 30s\n"
     ]
    },
    {
     "name": "stdout",
     "output_type": "stream",
     "text": [
      "1350:\tlearn: 0.8172589\ttest: 0.7953054\tbest: 0.7953054 (1350)\ttotal: 4m 13s\tremaining: 11m 25s\n"
     ]
    },
    {
     "name": "stdout",
     "output_type": "stream",
     "text": [
      "1375:\tlearn: 0.8180869\ttest: 0.7953394\tbest: 0.7954771 (1352)\ttotal: 4m 18s\tremaining: 11m 21s\n"
     ]
    },
    {
     "name": "stdout",
     "output_type": "stream",
     "text": [
      "1400:\tlearn: 0.8185555\ttest: 0.7948325\tbest: 0.7954771 (1352)\ttotal: 4m 23s\tremaining: 11m 16s\n"
     ]
    },
    {
     "name": "stdout",
     "output_type": "stream",
     "text": [
      "1425:\tlearn: 0.8191110\ttest: 0.7949529\tbest: 0.7954771 (1352)\ttotal: 4m 27s\tremaining: 11m 11s\n"
     ]
    },
    {
     "name": "stdout",
     "output_type": "stream",
     "text": [
      "1450:\tlearn: 0.8197213\ttest: 0.7947761\tbest: 0.7954771 (1352)\ttotal: 4m 32s\tremaining: 11m 6s\n"
     ]
    },
    {
     "name": "stdout",
     "output_type": "stream",
     "text": [
      "1475:\tlearn: 0.8204661\ttest: 0.7944746\tbest: 0.7954771 (1352)\ttotal: 4m 37s\tremaining: 11m 2s\n"
     ]
    },
    {
     "name": "stdout",
     "output_type": "stream",
     "text": [
      "1500:\tlearn: 0.8210587\ttest: 0.7941892\tbest: 0.7954771 (1352)\ttotal: 4m 42s\tremaining: 10m 57s\n"
     ]
    },
    {
     "name": "stdout",
     "output_type": "stream",
     "text": [
      "1525:\tlearn: 0.8214102\ttest: 0.7944345\tbest: 0.7954771 (1352)\ttotal: 4m 46s\tremaining: 10m 52s\n"
     ]
    },
    {
     "name": "stdout",
     "output_type": "stream",
     "text": [
      "1550:\tlearn: 0.8220329\ttest: 0.7943645\tbest: 0.7954771 (1352)\ttotal: 4m 51s\tremaining: 10m 48s\n"
     ]
    },
    {
     "name": "stdout",
     "output_type": "stream",
     "text": [
      "1575:\tlearn: 0.8225262\ttest: 0.7943316\tbest: 0.7954771 (1352)\ttotal: 4m 56s\tremaining: 10m 43s\n"
     ]
    },
    {
     "name": "stdout",
     "output_type": "stream",
     "text": [
      "1600:\tlearn: 0.8229138\ttest: 0.7945393\tbest: 0.7954771 (1352)\ttotal: 5m\tremaining: 10m 38s\n"
     ]
    },
    {
     "name": "stdout",
     "output_type": "stream",
     "text": [
      "1625:\tlearn: 0.8237530\ttest: 0.7947610\tbest: 0.7954771 (1352)\ttotal: 5m 5s\tremaining: 10m 33s\n"
     ]
    },
    {
     "name": "stdout",
     "output_type": "stream",
     "text": [
      "1650:\tlearn: 0.8245064\ttest: 0.7945809\tbest: 0.7954771 (1352)\ttotal: 5m 10s\tremaining: 10m 29s\n"
     ]
    },
    {
     "name": "stdout",
     "output_type": "stream",
     "text": [
      "1675:\tlearn: 0.8250569\ttest: 0.7945891\tbest: 0.7954771 (1352)\ttotal: 5m 14s\tremaining: 10m 24s\n"
     ]
    },
    {
     "name": "stdout",
     "output_type": "stream",
     "text": [
      "1700:\tlearn: 0.8256566\ttest: 0.7947270\tbest: 0.7954771 (1352)\ttotal: 5m 19s\tremaining: 10m 19s\n"
     ]
    },
    {
     "name": "stdout",
     "output_type": "stream",
     "text": [
      "1725:\tlearn: 0.8261417\ttest: 0.7946721\tbest: 0.7954771 (1352)\ttotal: 5m 24s\tremaining: 10m 15s\n"
     ]
    },
    {
     "name": "stdout",
     "output_type": "stream",
     "text": [
      "1750:\tlearn: 0.8266788\ttest: 0.7946831\tbest: 0.7954771 (1352)\ttotal: 5m 28s\tremaining: 10m 10s\n"
     ]
    },
    {
     "name": "stdout",
     "output_type": "stream",
     "text": [
      "1775:\tlearn: 0.8271121\ttest: 0.7946092\tbest: 0.7954771 (1352)\ttotal: 5m 33s\tremaining: 10m 5s\n"
     ]
    },
    {
     "name": "stdout",
     "output_type": "stream",
     "text": [
      "1800:\tlearn: 0.8275171\ttest: 0.7949158\tbest: 0.7954771 (1352)\ttotal: 5m 38s\tremaining: 10m\n"
     ]
    },
    {
     "name": "stdout",
     "output_type": "stream",
     "text": [
      "1825:\tlearn: 0.8283599\ttest: 0.7947114\tbest: 0.7954771 (1352)\ttotal: 5m 43s\tremaining: 9m 56s\n"
     ]
    },
    {
     "name": "stdout",
     "output_type": "stream",
     "text": [
      "1850:\tlearn: 0.8288950\ttest: 0.7947909\tbest: 0.7954771 (1352)\ttotal: 5m 47s\tremaining: 9m 51s\n"
     ]
    },
    {
     "name": "stdout",
     "output_type": "stream",
     "text": [
      "1875:\tlearn: 0.8295099\ttest: 0.7945337\tbest: 0.7954771 (1352)\ttotal: 5m 52s\tremaining: 9m 46s\n"
     ]
    },
    {
     "name": "stdout",
     "output_type": "stream",
     "text": [
      "1900:\tlearn: 0.8299880\ttest: 0.7946616\tbest: 0.7954771 (1352)\ttotal: 5m 57s\tremaining: 9m 42s\n"
     ]
    },
    {
     "name": "stdout",
     "output_type": "stream",
     "text": [
      "1925:\tlearn: 0.8307377\ttest: 0.7948014\tbest: 0.7954771 (1352)\ttotal: 6m 1s\tremaining: 9m 37s\n"
     ]
    },
    {
     "name": "stdout",
     "output_type": "stream",
     "text": [
      "1950:\tlearn: 0.8311271\ttest: 0.7946809\tbest: 0.7954771 (1352)\ttotal: 6m 6s\tremaining: 9m 32s\n"
     ]
    },
    {
     "name": "stdout",
     "output_type": "stream",
     "text": [
      "1975:\tlearn: 0.8316861\ttest: 0.7947531\tbest: 0.7954771 (1352)\ttotal: 6m 11s\tremaining: 9m 27s\n"
     ]
    },
    {
     "name": "stdout",
     "output_type": "stream",
     "text": [
      "2000:\tlearn: 0.8322256\ttest: 0.7949596\tbest: 0.7954771 (1352)\ttotal: 6m 15s\tremaining: 9m 23s\n"
     ]
    },
    {
     "name": "stdout",
     "output_type": "stream",
     "text": [
      "2025:\tlearn: 0.8327580\ttest: 0.7948010\tbest: 0.7954771 (1352)\ttotal: 6m 20s\tremaining: 9m 18s\n"
     ]
    },
    {
     "name": "stdout",
     "output_type": "stream",
     "text": [
      "2050:\tlearn: 0.8332205\ttest: 0.7946699\tbest: 0.7954771 (1352)\ttotal: 6m 25s\tremaining: 9m 13s\n"
     ]
    },
    {
     "name": "stdout",
     "output_type": "stream",
     "text": [
      "2075:\tlearn: 0.8337441\ttest: 0.7950764\tbest: 0.7954771 (1352)\ttotal: 6m 29s\tremaining: 9m 9s\n"
     ]
    },
    {
     "name": "stdout",
     "output_type": "stream",
     "text": [
      "2100:\tlearn: 0.8340722\ttest: 0.7952945\tbest: 0.7954771 (1352)\ttotal: 6m 34s\tremaining: 9m 4s\n"
     ]
    },
    {
     "name": "stdout",
     "output_type": "stream",
     "text": [
      "2125:\tlearn: 0.8347245\ttest: 0.7947999\tbest: 0.7954771 (1352)\ttotal: 6m 39s\tremaining: 8m 59s\n"
     ]
    },
    {
     "name": "stdout",
     "output_type": "stream",
     "text": [
      "2150:\tlearn: 0.8352309\ttest: 0.7952045\tbest: 0.7954771 (1352)\ttotal: 6m 43s\tremaining: 8m 55s\n"
     ]
    },
    {
     "name": "stdout",
     "output_type": "stream",
     "text": [
      "2175:\tlearn: 0.8358272\ttest: 0.7949897\tbest: 0.7954771 (1352)\ttotal: 6m 48s\tremaining: 8m 50s\n"
     ]
    },
    {
     "name": "stdout",
     "output_type": "stream",
     "text": [
      "2200:\tlearn: 0.8364114\ttest: 0.7950358\tbest: 0.7954771 (1352)\ttotal: 6m 53s\tremaining: 8m 45s\n"
     ]
    },
    {
     "name": "stdout",
     "output_type": "stream",
     "text": [
      "2225:\tlearn: 0.8370711\ttest: 0.7954451\tbest: 0.7955083 (2224)\ttotal: 6m 57s\tremaining: 8m 40s\n"
     ]
    },
    {
     "name": "stdout",
     "output_type": "stream",
     "text": [
      "2250:\tlearn: 0.8373274\ttest: 0.7951091\tbest: 0.7955083 (2224)\ttotal: 7m 2s\tremaining: 8m 36s\n"
     ]
    },
    {
     "name": "stdout",
     "output_type": "stream",
     "text": [
      "2275:\tlearn: 0.8379048\ttest: 0.7950733\tbest: 0.7955083 (2224)\ttotal: 7m 7s\tremaining: 8m 31s\n"
     ]
    },
    {
     "name": "stdout",
     "output_type": "stream",
     "text": [
      "2300:\tlearn: 0.8385194\ttest: 0.7953299\tbest: 0.7955083 (2224)\ttotal: 7m 12s\tremaining: 8m 26s\n"
     ]
    },
    {
     "name": "stdout",
     "output_type": "stream",
     "text": [
      "2325:\tlearn: 0.8389616\ttest: 0.7951660\tbest: 0.7955083 (2224)\ttotal: 7m 16s\tremaining: 8m 22s\n"
     ]
    },
    {
     "name": "stdout",
     "output_type": "stream",
     "text": [
      "2350:\tlearn: 0.8393382\ttest: 0.7954246\tbest: 0.7955290 (2348)\ttotal: 7m 21s\tremaining: 8m 17s\n"
     ]
    },
    {
     "name": "stdout",
     "output_type": "stream",
     "text": [
      "2375:\tlearn: 0.8397348\ttest: 0.7951330\tbest: 0.7955290 (2348)\ttotal: 7m 26s\tremaining: 8m 12s\n"
     ]
    },
    {
     "name": "stdout",
     "output_type": "stream",
     "text": [
      "2400:\tlearn: 0.8403585\ttest: 0.7951810\tbest: 0.7955290 (2348)\ttotal: 7m 30s\tremaining: 8m 7s\n"
     ]
    },
    {
     "name": "stdout",
     "output_type": "stream",
     "text": [
      "2425:\tlearn: 0.8406738\ttest: 0.7951421\tbest: 0.7955290 (2348)\ttotal: 7m 35s\tremaining: 8m 3s\n"
     ]
    },
    {
     "name": "stdout",
     "output_type": "stream",
     "text": [
      "2450:\tlearn: 0.8412788\ttest: 0.7950075\tbest: 0.7955290 (2348)\ttotal: 7m 40s\tremaining: 7m 58s\n"
     ]
    },
    {
     "name": "stdout",
     "output_type": "stream",
     "text": [
      "2475:\tlearn: 0.8417318\ttest: 0.7950961\tbest: 0.7955290 (2348)\ttotal: 7m 44s\tremaining: 7m 53s\n"
     ]
    },
    {
     "name": "stdout",
     "output_type": "stream",
     "text": [
      "2500:\tlearn: 0.8421621\ttest: 0.7953309\tbest: 0.7955290 (2348)\ttotal: 7m 49s\tremaining: 7m 49s\n"
     ]
    },
    {
     "name": "stdout",
     "output_type": "stream",
     "text": [
      "2525:\tlearn: 0.8428443\ttest: 0.7953374\tbest: 0.7957595 (2517)\ttotal: 7m 54s\tremaining: 7m 44s\n"
     ]
    },
    {
     "name": "stdout",
     "output_type": "stream",
     "text": [
      "2550:\tlearn: 0.8432809\ttest: 0.7954480\tbest: 0.7957595 (2517)\ttotal: 7m 59s\tremaining: 7m 39s\n"
     ]
    },
    {
     "name": "stdout",
     "output_type": "stream",
     "text": [
      "2575:\tlearn: 0.8437462\ttest: 0.7953862\tbest: 0.7957595 (2517)\ttotal: 8m 3s\tremaining: 7m 35s\n"
     ]
    },
    {
     "name": "stdout",
     "output_type": "stream",
     "text": [
      "2600:\tlearn: 0.8441788\ttest: 0.7956359\tbest: 0.7957595 (2517)\ttotal: 8m 8s\tremaining: 7m 30s\n"
     ]
    },
    {
     "name": "stdout",
     "output_type": "stream",
     "text": [
      "2625:\tlearn: 0.8446829\ttest: 0.7954979\tbest: 0.7957595 (2517)\ttotal: 8m 13s\tremaining: 7m 25s\n"
     ]
    },
    {
     "name": "stdout",
     "output_type": "stream",
     "text": [
      "2650:\tlearn: 0.8451897\ttest: 0.7957573\tbest: 0.7957766 (2648)\ttotal: 8m 17s\tremaining: 7m 21s\n"
     ]
    },
    {
     "name": "stdout",
     "output_type": "stream",
     "text": [
      "2675:\tlearn: 0.8457789\ttest: 0.7958882\tbest: 0.7959953 (2674)\ttotal: 8m 22s\tremaining: 7m 16s\n"
     ]
    },
    {
     "name": "stdout",
     "output_type": "stream",
     "text": [
      "2700:\tlearn: 0.8463436\ttest: 0.7962282\tbest: 0.7962282 (2700)\ttotal: 8m 27s\tremaining: 7m 11s\n"
     ]
    },
    {
     "name": "stdout",
     "output_type": "stream",
     "text": [
      "2725:\tlearn: 0.8467090\ttest: 0.7963176\tbest: 0.7963176 (2725)\ttotal: 8m 31s\tremaining: 7m 6s\n"
     ]
    },
    {
     "name": "stdout",
     "output_type": "stream",
     "text": [
      "2750:\tlearn: 0.8471222\ttest: 0.7962183\tbest: 0.7964069 (2734)\ttotal: 8m 36s\tremaining: 7m 2s\n"
     ]
    },
    {
     "name": "stdout",
     "output_type": "stream",
     "text": [
      "2775:\tlearn: 0.8476389\ttest: 0.7961547\tbest: 0.7964069 (2734)\ttotal: 8m 41s\tremaining: 6m 57s\n"
     ]
    },
    {
     "name": "stdout",
     "output_type": "stream",
     "text": [
      "2800:\tlearn: 0.8483222\ttest: 0.7959022\tbest: 0.7964069 (2734)\ttotal: 8m 45s\tremaining: 6m 52s\n"
     ]
    },
    {
     "name": "stdout",
     "output_type": "stream",
     "text": [
      "2825:\tlearn: 0.8487677\ttest: 0.7959865\tbest: 0.7964069 (2734)\ttotal: 8m 50s\tremaining: 6m 48s\n"
     ]
    },
    {
     "name": "stdout",
     "output_type": "stream",
     "text": [
      "2850:\tlearn: 0.8492054\ttest: 0.7964165\tbest: 0.7964374 (2849)\ttotal: 8m 55s\tremaining: 6m 43s\n"
     ]
    },
    {
     "name": "stdout",
     "output_type": "stream",
     "text": [
      "2875:\tlearn: 0.8495964\ttest: 0.7959587\tbest: 0.7964374 (2849)\ttotal: 8m 59s\tremaining: 6m 38s\n"
     ]
    },
    {
     "name": "stdout",
     "output_type": "stream",
     "text": [
      "2900:\tlearn: 0.8500897\ttest: 0.7958812\tbest: 0.7964374 (2849)\ttotal: 9m 4s\tremaining: 6m 34s\n"
     ]
    },
    {
     "name": "stdout",
     "output_type": "stream",
     "text": [
      "2925:\tlearn: 0.8504648\ttest: 0.7958260\tbest: 0.7964374 (2849)\ttotal: 9m 9s\tremaining: 6m 29s\n"
     ]
    },
    {
     "name": "stdout",
     "output_type": "stream",
     "text": [
      "2950:\tlearn: 0.8509946\ttest: 0.7955542\tbest: 0.7964374 (2849)\ttotal: 9m 13s\tremaining: 6m 24s\n"
     ]
    },
    {
     "name": "stdout",
     "output_type": "stream",
     "text": [
      "2975:\tlearn: 0.8517112\ttest: 0.7957946\tbest: 0.7964374 (2849)\ttotal: 9m 18s\tremaining: 6m 19s\n"
     ]
    },
    {
     "name": "stdout",
     "output_type": "stream",
     "text": [
      "3000:\tlearn: 0.8521599\ttest: 0.7959725\tbest: 0.7964374 (2849)\ttotal: 9m 23s\tremaining: 6m 15s\n"
     ]
    },
    {
     "name": "stdout",
     "output_type": "stream",
     "text": [
      "3025:\tlearn: 0.8527694\ttest: 0.7958422\tbest: 0.7964374 (2849)\ttotal: 9m 27s\tremaining: 6m 10s\n"
     ]
    },
    {
     "name": "stdout",
     "output_type": "stream",
     "text": [
      "3050:\tlearn: 0.8531865\ttest: 0.7959303\tbest: 0.7964374 (2849)\ttotal: 9m 32s\tremaining: 6m 5s\n"
     ]
    },
    {
     "name": "stdout",
     "output_type": "stream",
     "text": [
      "3075:\tlearn: 0.8535176\ttest: 0.7962234\tbest: 0.7964374 (2849)\ttotal: 9m 37s\tremaining: 6m 1s\n"
     ]
    },
    {
     "name": "stdout",
     "output_type": "stream",
     "text": [
      "3100:\tlearn: 0.8539994\ttest: 0.7962555\tbest: 0.7964374 (2849)\ttotal: 9m 42s\tremaining: 5m 56s\n"
     ]
    },
    {
     "name": "stdout",
     "output_type": "stream",
     "text": [
      "3125:\tlearn: 0.8545080\ttest: 0.7964050\tbest: 0.7965718 (3110)\ttotal: 9m 46s\tremaining: 5m 51s\n"
     ]
    },
    {
     "name": "stdout",
     "output_type": "stream",
     "text": [
      "3150:\tlearn: 0.8546501\ttest: 0.7966344\tbest: 0.7968869 (3148)\ttotal: 9m 51s\tremaining: 5m 47s\n"
     ]
    },
    {
     "name": "stdout",
     "output_type": "stream",
     "text": [
      "3175:\tlearn: 0.8551048\ttest: 0.7963457\tbest: 0.7968869 (3148)\ttotal: 9m 56s\tremaining: 5m 42s\n"
     ]
    },
    {
     "name": "stdout",
     "output_type": "stream",
     "text": [
      "3200:\tlearn: 0.8556334\ttest: 0.7962901\tbest: 0.7968869 (3148)\ttotal: 10m\tremaining: 5m 37s\n"
     ]
    },
    {
     "name": "stdout",
     "output_type": "stream",
     "text": [
      "3225:\tlearn: 0.8559618\ttest: 0.7966915\tbest: 0.7968869 (3148)\ttotal: 10m 5s\tremaining: 5m 32s\n"
     ]
    },
    {
     "name": "stdout",
     "output_type": "stream",
     "text": [
      "3250:\tlearn: 0.8562721\ttest: 0.7967398\tbest: 0.7968869 (3148)\ttotal: 10m 10s\tremaining: 5m 28s\n"
     ]
    },
    {
     "name": "stdout",
     "output_type": "stream",
     "text": [
      "3275:\tlearn: 0.8567408\ttest: 0.7971435\tbest: 0.7972689 (3272)\ttotal: 10m 14s\tremaining: 5m 23s\n"
     ]
    },
    {
     "name": "stdout",
     "output_type": "stream",
     "text": [
      "3300:\tlearn: 0.8571987\ttest: 0.7972099\tbest: 0.7972727 (3299)\ttotal: 10m 19s\tremaining: 5m 18s\n"
     ]
    },
    {
     "name": "stdout",
     "output_type": "stream",
     "text": [
      "3325:\tlearn: 0.8575127\ttest: 0.7971044\tbest: 0.7972727 (3299)\ttotal: 10m 24s\tremaining: 5m 14s\n"
     ]
    },
    {
     "name": "stdout",
     "output_type": "stream",
     "text": [
      "3350:\tlearn: 0.8579664\ttest: 0.7971264\tbest: 0.7972727 (3299)\ttotal: 10m 28s\tremaining: 5m 9s\n"
     ]
    },
    {
     "name": "stdout",
     "output_type": "stream",
     "text": [
      "3375:\tlearn: 0.8583176\ttest: 0.7969064\tbest: 0.7972727 (3299)\ttotal: 10m 33s\tremaining: 5m 4s\n"
     ]
    },
    {
     "name": "stdout",
     "output_type": "stream",
     "text": [
      "3400:\tlearn: 0.8588318\ttest: 0.7966946\tbest: 0.7972727 (3299)\ttotal: 10m 38s\tremaining: 5m\n"
     ]
    },
    {
     "name": "stdout",
     "output_type": "stream",
     "text": [
      "3425:\tlearn: 0.8592836\ttest: 0.7966321\tbest: 0.7972727 (3299)\ttotal: 10m 43s\tremaining: 4m 55s\n"
     ]
    },
    {
     "name": "stdout",
     "output_type": "stream",
     "text": [
      "3450:\tlearn: 0.8598889\ttest: 0.7969336\tbest: 0.7972727 (3299)\ttotal: 10m 47s\tremaining: 4m 50s\n"
     ]
    },
    {
     "name": "stdout",
     "output_type": "stream",
     "text": [
      "3475:\tlearn: 0.8603683\ttest: 0.7970651\tbest: 0.7972727 (3299)\ttotal: 10m 52s\tremaining: 4m 46s\n"
     ]
    },
    {
     "name": "stdout",
     "output_type": "stream",
     "text": [
      "3500:\tlearn: 0.8609493\ttest: 0.7969587\tbest: 0.7972727 (3299)\ttotal: 10m 57s\tremaining: 4m 41s\n"
     ]
    },
    {
     "name": "stdout",
     "output_type": "stream",
     "text": [
      "3525:\tlearn: 0.8613121\ttest: 0.7969790\tbest: 0.7972727 (3299)\ttotal: 11m 1s\tremaining: 4m 36s\n"
     ]
    },
    {
     "name": "stdout",
     "output_type": "stream",
     "text": [
      "3550:\tlearn: 0.8617818\ttest: 0.7972307\tbest: 0.7972727 (3299)\ttotal: 11m 6s\tremaining: 4m 31s\n"
     ]
    },
    {
     "name": "stdout",
     "output_type": "stream",
     "text": [
      "3575:\tlearn: 0.8623321\ttest: 0.7968586\tbest: 0.7972727 (3299)\ttotal: 11m 11s\tremaining: 4m 27s\n"
     ]
    },
    {
     "name": "stdout",
     "output_type": "stream",
     "text": [
      "3600:\tlearn: 0.8627393\ttest: 0.7967505\tbest: 0.7972727 (3299)\ttotal: 11m 15s\tremaining: 4m 22s\n"
     ]
    },
    {
     "name": "stdout",
     "output_type": "stream",
     "text": [
      "3625:\tlearn: 0.8630951\ttest: 0.7971087\tbest: 0.7972727 (3299)\ttotal: 11m 20s\tremaining: 4m 17s\n"
     ]
    },
    {
     "name": "stdout",
     "output_type": "stream",
     "text": [
      "3650:\tlearn: 0.8634907\ttest: 0.7970927\tbest: 0.7972727 (3299)\ttotal: 11m 25s\tremaining: 4m 13s\n"
     ]
    },
    {
     "name": "stdout",
     "output_type": "stream",
     "text": [
      "3675:\tlearn: 0.8639259\ttest: 0.7968193\tbest: 0.7972727 (3299)\ttotal: 11m 29s\tremaining: 4m 8s\n"
     ]
    },
    {
     "name": "stdout",
     "output_type": "stream",
     "text": [
      "3700:\tlearn: 0.8643582\ttest: 0.7968242\tbest: 0.7972727 (3299)\ttotal: 11m 34s\tremaining: 4m 3s\n"
     ]
    },
    {
     "name": "stdout",
     "output_type": "stream",
     "text": [
      "3725:\tlearn: 0.8649007\ttest: 0.7967631\tbest: 0.7972727 (3299)\ttotal: 11m 39s\tremaining: 3m 59s\n"
     ]
    },
    {
     "name": "stdout",
     "output_type": "stream",
     "text": [
      "3750:\tlearn: 0.8653701\ttest: 0.7971415\tbest: 0.7972727 (3299)\ttotal: 11m 44s\tremaining: 3m 54s\n"
     ]
    },
    {
     "name": "stdout",
     "output_type": "stream",
     "text": [
      "3775:\tlearn: 0.8657710\ttest: 0.7969770\tbest: 0.7974157 (3757)\ttotal: 11m 48s\tremaining: 3m 49s\n"
     ]
    },
    {
     "name": "stdout",
     "output_type": "stream",
     "text": [
      "3800:\tlearn: 0.8661039\ttest: 0.7969356\tbest: 0.7974157 (3757)\ttotal: 11m 53s\tremaining: 3m 45s\n"
     ]
    },
    {
     "name": "stdout",
     "output_type": "stream",
     "text": [
      "3825:\tlearn: 0.8664868\ttest: 0.7970421\tbest: 0.7974157 (3757)\ttotal: 11m 58s\tremaining: 3m 40s\n"
     ]
    },
    {
     "name": "stdout",
     "output_type": "stream",
     "text": [
      "3850:\tlearn: 0.8669179\ttest: 0.7973985\tbest: 0.7974157 (3757)\ttotal: 12m 2s\tremaining: 3m 35s\n"
     ]
    },
    {
     "name": "stdout",
     "output_type": "stream",
     "text": [
      "3875:\tlearn: 0.8672621\ttest: 0.7970281\tbest: 0.7974157 (3757)\ttotal: 12m 7s\tremaining: 3m 30s\n"
     ]
    },
    {
     "name": "stdout",
     "output_type": "stream",
     "text": [
      "3900:\tlearn: 0.8677108\ttest: 0.7970687\tbest: 0.7974157 (3757)\ttotal: 12m 12s\tremaining: 3m 26s\n"
     ]
    },
    {
     "name": "stdout",
     "output_type": "stream",
     "text": [
      "3925:\tlearn: 0.8679849\ttest: 0.7973494\tbest: 0.7974506 (3918)\ttotal: 12m 16s\tremaining: 3m 21s\n"
     ]
    },
    {
     "name": "stdout",
     "output_type": "stream",
     "text": [
      "3950:\tlearn: 0.8685338\ttest: 0.7973292\tbest: 0.7976879 (3931)\ttotal: 12m 21s\tremaining: 3m 16s\n"
     ]
    },
    {
     "name": "stdout",
     "output_type": "stream",
     "text": [
      "3975:\tlearn: 0.8689325\ttest: 0.7973491\tbest: 0.7976879 (3931)\ttotal: 12m 26s\tremaining: 3m 12s\n"
     ]
    },
    {
     "name": "stdout",
     "output_type": "stream",
     "text": [
      "4000:\tlearn: 0.8694410\ttest: 0.7970618\tbest: 0.7976879 (3931)\ttotal: 12m 30s\tremaining: 3m 7s\n"
     ]
    },
    {
     "name": "stdout",
     "output_type": "stream",
     "text": [
      "4025:\tlearn: 0.8698063\ttest: 0.7972561\tbest: 0.7976879 (3931)\ttotal: 12m 35s\tremaining: 3m 2s\n"
     ]
    },
    {
     "name": "stdout",
     "output_type": "stream",
     "text": [
      "4050:\tlearn: 0.8700817\ttest: 0.7975681\tbest: 0.7976879 (3931)\ttotal: 12m 40s\tremaining: 2m 58s\n"
     ]
    },
    {
     "name": "stdout",
     "output_type": "stream",
     "text": [
      "4075:\tlearn: 0.8704906\ttest: 0.7974661\tbest: 0.7976879 (3931)\ttotal: 12m 45s\tremaining: 2m 53s\n"
     ]
    },
    {
     "name": "stdout",
     "output_type": "stream",
     "text": [
      "4100:\tlearn: 0.8708775\ttest: 0.7976552\tbest: 0.7976879 (3931)\ttotal: 12m 49s\tremaining: 2m 48s\n"
     ]
    },
    {
     "name": "stdout",
     "output_type": "stream",
     "text": [
      "4125:\tlearn: 0.8714071\ttest: 0.7974615\tbest: 0.7976879 (3931)\ttotal: 12m 54s\tremaining: 2m 44s\n"
     ]
    },
    {
     "name": "stdout",
     "output_type": "stream",
     "text": [
      "4150:\tlearn: 0.8718346\ttest: 0.7974472\tbest: 0.7976879 (3931)\ttotal: 12m 59s\tremaining: 2m 39s\n"
     ]
    },
    {
     "name": "stdout",
     "output_type": "stream",
     "text": [
      "4175:\tlearn: 0.8721849\ttest: 0.7970273\tbest: 0.7976879 (3931)\ttotal: 13m 3s\tremaining: 2m 34s\n"
     ]
    },
    {
     "name": "stdout",
     "output_type": "stream",
     "text": [
      "4200:\tlearn: 0.8727483\ttest: 0.7971931\tbest: 0.7976879 (3931)\ttotal: 13m 8s\tremaining: 2m 29s\n"
     ]
    },
    {
     "name": "stdout",
     "output_type": "stream",
     "text": [
      "4225:\tlearn: 0.8729396\ttest: 0.7970079\tbest: 0.7976879 (3931)\ttotal: 13m 13s\tremaining: 2m 25s\n"
     ]
    },
    {
     "name": "stdout",
     "output_type": "stream",
     "text": [
      "4250:\tlearn: 0.8733287\ttest: 0.7970944\tbest: 0.7976879 (3931)\ttotal: 13m 17s\tremaining: 2m 20s\n"
     ]
    },
    {
     "name": "stdout",
     "output_type": "stream",
     "text": [
      "4275:\tlearn: 0.8737600\ttest: 0.7968817\tbest: 0.7976879 (3931)\ttotal: 13m 22s\tremaining: 2m 15s\n"
     ]
    },
    {
     "name": "stdout",
     "output_type": "stream",
     "text": [
      "4300:\tlearn: 0.8742453\ttest: 0.7972647\tbest: 0.7976879 (3931)\ttotal: 13m 27s\tremaining: 2m 11s\n"
     ]
    },
    {
     "name": "stdout",
     "output_type": "stream",
     "text": [
      "4325:\tlearn: 0.8746843\ttest: 0.7971239\tbest: 0.7976879 (3931)\ttotal: 13m 31s\tremaining: 2m 6s\n"
     ]
    },
    {
     "name": "stdout",
     "output_type": "stream",
     "text": [
      "4350:\tlearn: 0.8750679\ttest: 0.7968084\tbest: 0.7976879 (3931)\ttotal: 13m 36s\tremaining: 2m 1s\n"
     ]
    },
    {
     "name": "stdout",
     "output_type": "stream",
     "text": [
      "4375:\tlearn: 0.8755640\ttest: 0.7967679\tbest: 0.7976879 (3931)\ttotal: 13m 41s\tremaining: 1m 57s\n"
     ]
    },
    {
     "name": "stdout",
     "output_type": "stream",
     "text": [
      "4400:\tlearn: 0.8759118\ttest: 0.7972971\tbest: 0.7976879 (3931)\ttotal: 13m 46s\tremaining: 1m 52s\n"
     ]
    },
    {
     "name": "stdout",
     "output_type": "stream",
     "text": [
      "4425:\tlearn: 0.8763458\ttest: 0.7972988\tbest: 0.7976879 (3931)\ttotal: 13m 50s\tremaining: 1m 47s\n"
     ]
    },
    {
     "name": "stdout",
     "output_type": "stream",
     "text": [
      "4450:\tlearn: 0.8766751\ttest: 0.7970671\tbest: 0.7976879 (3931)\ttotal: 13m 55s\tremaining: 1m 43s\n"
     ]
    },
    {
     "name": "stdout",
     "output_type": "stream",
     "text": [
      "4475:\tlearn: 0.8768681\ttest: 0.7970262\tbest: 0.7976879 (3931)\ttotal: 14m\tremaining: 1m 38s\n"
     ]
    },
    {
     "name": "stdout",
     "output_type": "stream",
     "text": [
      "4500:\tlearn: 0.8772129\ttest: 0.7968836\tbest: 0.7976879 (3931)\ttotal: 14m 4s\tremaining: 1m 33s\n"
     ]
    },
    {
     "name": "stdout",
     "output_type": "stream",
     "text": [
      "4525:\tlearn: 0.8776251\ttest: 0.7972495\tbest: 0.7976879 (3931)\ttotal: 14m 9s\tremaining: 1m 28s\n"
     ]
    },
    {
     "name": "stdout",
     "output_type": "stream",
     "text": [
      "4550:\tlearn: 0.8780297\ttest: 0.7972502\tbest: 0.7976879 (3931)\ttotal: 14m 14s\tremaining: 1m 24s\n"
     ]
    },
    {
     "name": "stdout",
     "output_type": "stream",
     "text": [
      "4575:\tlearn: 0.8785143\ttest: 0.7968584\tbest: 0.7976879 (3931)\ttotal: 14m 18s\tremaining: 1m 19s\n"
     ]
    },
    {
     "name": "stdout",
     "output_type": "stream",
     "text": [
      "4600:\tlearn: 0.8790004\ttest: 0.7969193\tbest: 0.7976879 (3931)\ttotal: 14m 23s\tremaining: 1m 14s\n"
     ]
    },
    {
     "name": "stdout",
     "output_type": "stream",
     "text": [
      "4625:\tlearn: 0.8792502\ttest: 0.7968707\tbest: 0.7976879 (3931)\ttotal: 14m 28s\tremaining: 1m 10s\n"
     ]
    },
    {
     "name": "stdout",
     "output_type": "stream",
     "text": [
      "4650:\tlearn: 0.8796501\ttest: 0.7969935\tbest: 0.7976879 (3931)\ttotal: 14m 32s\tremaining: 1m 5s\n"
     ]
    },
    {
     "name": "stdout",
     "output_type": "stream",
     "text": [
      "4675:\tlearn: 0.8800588\ttest: 0.7972862\tbest: 0.7976879 (3931)\ttotal: 14m 37s\tremaining: 1m\n"
     ]
    },
    {
     "name": "stdout",
     "output_type": "stream",
     "text": [
      "4700:\tlearn: 0.8803813\ttest: 0.7970377\tbest: 0.7976879 (3931)\ttotal: 14m 42s\tremaining: 56.1s\n"
     ]
    },
    {
     "name": "stdout",
     "output_type": "stream",
     "text": [
      "4725:\tlearn: 0.8807468\ttest: 0.7969576\tbest: 0.7976879 (3931)\ttotal: 14m 46s\tremaining: 51.4s\n"
     ]
    },
    {
     "name": "stdout",
     "output_type": "stream",
     "text": [
      "4750:\tlearn: 0.8811531\ttest: 0.7971501\tbest: 0.7976879 (3931)\ttotal: 14m 51s\tremaining: 46.7s\n"
     ]
    },
    {
     "name": "stdout",
     "output_type": "stream",
     "text": [
      "4775:\tlearn: 0.8816425\ttest: 0.7968975\tbest: 0.7976879 (3931)\ttotal: 14m 56s\tremaining: 42s\n"
     ]
    },
    {
     "name": "stdout",
     "output_type": "stream",
     "text": [
      "4800:\tlearn: 0.8820191\ttest: 0.7971893\tbest: 0.7976879 (3931)\ttotal: 15m\tremaining: 37.3s\n"
     ]
    },
    {
     "name": "stdout",
     "output_type": "stream",
     "text": [
      "4825:\tlearn: 0.8823823\ttest: 0.7973327\tbest: 0.7976879 (3931)\ttotal: 15m 5s\tremaining: 32.7s\n"
     ]
    },
    {
     "name": "stdout",
     "output_type": "stream",
     "text": [
      "4850:\tlearn: 0.8827801\ttest: 0.7974146\tbest: 0.7976879 (3931)\ttotal: 15m 10s\tremaining: 28s\n"
     ]
    },
    {
     "name": "stdout",
     "output_type": "stream",
     "text": [
      "4875:\tlearn: 0.8832067\ttest: 0.7971028\tbest: 0.7976879 (3931)\ttotal: 15m 15s\tremaining: 23.3s\n"
     ]
    },
    {
     "name": "stdout",
     "output_type": "stream",
     "text": [
      "4900:\tlearn: 0.8835346\ttest: 0.7971860\tbest: 0.7976879 (3931)\ttotal: 15m 19s\tremaining: 18.6s\n"
     ]
    },
    {
     "name": "stdout",
     "output_type": "stream",
     "text": [
      "4925:\tlearn: 0.8839139\ttest: 0.7972073\tbest: 0.7976879 (3931)\ttotal: 15m 24s\tremaining: 13.9s\n"
     ]
    },
    {
     "name": "stdout",
     "output_type": "stream",
     "text": [
      "4950:\tlearn: 0.8843505\ttest: 0.7971291\tbest: 0.7976879 (3931)\ttotal: 15m 29s\tremaining: 9.2s\n"
     ]
    },
    {
     "name": "stdout",
     "output_type": "stream",
     "text": [
      "4975:\tlearn: 0.8845437\ttest: 0.7973572\tbest: 0.7976879 (3931)\ttotal: 15m 33s\tremaining: 4.5s\n"
     ]
    },
    {
     "name": "stdout",
     "output_type": "stream",
     "text": [
      "4999:\tlearn: 0.8848769\ttest: 0.7974041\tbest: 0.7976879 (3931)\ttotal: 15m 38s\tremaining: 0us\n",
      "\n",
      "bestTest = 0.7976878948\n",
      "bestIteration = 3931\n",
      "\n"
     ]
    },
    {
     "name": "stdout",
     "output_type": "stream",
     "text": [
      "######################################## training model 3/5 ########################################\n"
     ]
    },
    {
     "name": "stdout",
     "output_type": "stream",
     "text": [
      "0:\tlearn: 0.5205667\ttest: 0.5183515\tbest: 0.5183515 (0)\ttotal: 505ms\tremaining: 42m 5s\n"
     ]
    },
    {
     "name": "stdout",
     "output_type": "stream",
     "text": [
      "25:\tlearn: 0.7136490\ttest: 0.7114128\tbest: 0.7114128 (25)\ttotal: 5.14s\tremaining: 16m 24s\n"
     ]
    },
    {
     "name": "stdout",
     "output_type": "stream",
     "text": [
      "50:\tlearn: 0.7341455\ttest: 0.7316709\tbest: 0.7316709 (50)\ttotal: 9.84s\tremaining: 15m 54s\n"
     ]
    },
    {
     "name": "stdout",
     "output_type": "stream",
     "text": [
      "75:\tlearn: 0.7469839\ttest: 0.7425378\tbest: 0.7425378 (75)\ttotal: 14.5s\tremaining: 15m 38s\n"
     ]
    },
    {
     "name": "stdout",
     "output_type": "stream",
     "text": [
      "100:\tlearn: 0.7525627\ttest: 0.7492835\tbest: 0.7492835 (100)\ttotal: 19.2s\tremaining: 15m 29s\n"
     ]
    },
    {
     "name": "stdout",
     "output_type": "stream",
     "text": [
      "125:\tlearn: 0.7556663\ttest: 0.7518115\tbest: 0.7521073 (122)\ttotal: 23.9s\tremaining: 15m 23s\n"
     ]
    },
    {
     "name": "stdout",
     "output_type": "stream",
     "text": [
      "150:\tlearn: 0.7595414\ttest: 0.7550386\tbest: 0.7550386 (150)\ttotal: 28.5s\tremaining: 15m 16s\n"
     ]
    },
    {
     "name": "stdout",
     "output_type": "stream",
     "text": [
      "175:\tlearn: 0.7622150\ttest: 0.7567191\tbest: 0.7567191 (175)\ttotal: 33.2s\tremaining: 15m 10s\n"
     ]
    },
    {
     "name": "stdout",
     "output_type": "stream",
     "text": [
      "200:\tlearn: 0.7641356\ttest: 0.7579430\tbest: 0.7579655 (187)\ttotal: 37.9s\tremaining: 15m 3s\n"
     ]
    },
    {
     "name": "stdout",
     "output_type": "stream",
     "text": [
      "225:\tlearn: 0.7661886\ttest: 0.7600188\tbest: 0.7600188 (225)\ttotal: 42.5s\tremaining: 14m 58s\n"
     ]
    },
    {
     "name": "stdout",
     "output_type": "stream",
     "text": [
      "250:\tlearn: 0.7676082\ttest: 0.7612137\tbest: 0.7613922 (247)\ttotal: 47.2s\tremaining: 14m 53s\n"
     ]
    },
    {
     "name": "stdout",
     "output_type": "stream",
     "text": [
      "275:\tlearn: 0.7693617\ttest: 0.7635290\tbest: 0.7635290 (275)\ttotal: 51.9s\tremaining: 14m 48s\n"
     ]
    },
    {
     "name": "stdout",
     "output_type": "stream",
     "text": [
      "300:\tlearn: 0.7724561\ttest: 0.7673241\tbest: 0.7673959 (298)\ttotal: 56.6s\tremaining: 14m 43s\n"
     ]
    },
    {
     "name": "stdout",
     "output_type": "stream",
     "text": [
      "325:\tlearn: 0.7772336\ttest: 0.7715478\tbest: 0.7715478 (325)\ttotal: 1m 1s\tremaining: 14m 39s\n"
     ]
    },
    {
     "name": "stdout",
     "output_type": "stream",
     "text": [
      "350:\tlearn: 0.7805132\ttest: 0.7738552\tbest: 0.7738552 (350)\ttotal: 1m 6s\tremaining: 14m 35s\n"
     ]
    },
    {
     "name": "stdout",
     "output_type": "stream",
     "text": [
      "375:\tlearn: 0.7837046\ttest: 0.7765574\tbest: 0.7765574 (375)\ttotal: 1m 10s\tremaining: 14m 30s\n"
     ]
    },
    {
     "name": "stdout",
     "output_type": "stream",
     "text": [
      "400:\tlearn: 0.7859855\ttest: 0.7777666\tbest: 0.7777970 (397)\ttotal: 1m 15s\tremaining: 14m 25s\n"
     ]
    },
    {
     "name": "stdout",
     "output_type": "stream",
     "text": [
      "425:\tlearn: 0.7880182\ttest: 0.7786051\tbest: 0.7786281 (424)\ttotal: 1m 20s\tremaining: 14m 21s\n"
     ]
    },
    {
     "name": "stdout",
     "output_type": "stream",
     "text": [
      "450:\tlearn: 0.7898832\ttest: 0.7801585\tbest: 0.7801585 (450)\ttotal: 1m 24s\tremaining: 14m 17s\n"
     ]
    },
    {
     "name": "stdout",
     "output_type": "stream",
     "text": [
      "475:\tlearn: 0.7915301\ttest: 0.7808380\tbest: 0.7808794 (473)\ttotal: 1m 29s\tremaining: 14m 12s\n"
     ]
    },
    {
     "name": "stdout",
     "output_type": "stream",
     "text": [
      "500:\tlearn: 0.7924795\ttest: 0.7811556\tbest: 0.7814502 (494)\ttotal: 1m 34s\tremaining: 14m 7s\n"
     ]
    },
    {
     "name": "stdout",
     "output_type": "stream",
     "text": [
      "525:\tlearn: 0.7937126\ttest: 0.7823613\tbest: 0.7824949 (523)\ttotal: 1m 39s\tremaining: 14m 2s\n"
     ]
    },
    {
     "name": "stdout",
     "output_type": "stream",
     "text": [
      "550:\tlearn: 0.7951846\ttest: 0.7829899\tbest: 0.7831857 (544)\ttotal: 1m 43s\tremaining: 13m 58s\n"
     ]
    },
    {
     "name": "stdout",
     "output_type": "stream",
     "text": [
      "575:\tlearn: 0.7965082\ttest: 0.7835749\tbest: 0.7836096 (574)\ttotal: 1m 48s\tremaining: 13m 53s\n"
     ]
    },
    {
     "name": "stdout",
     "output_type": "stream",
     "text": [
      "600:\tlearn: 0.7975091\ttest: 0.7834488\tbest: 0.7839477 (590)\ttotal: 1m 53s\tremaining: 13m 49s\n"
     ]
    },
    {
     "name": "stdout",
     "output_type": "stream",
     "text": [
      "625:\tlearn: 0.7985909\ttest: 0.7834001\tbest: 0.7839477 (590)\ttotal: 1m 57s\tremaining: 13m 44s\n"
     ]
    },
    {
     "name": "stdout",
     "output_type": "stream",
     "text": [
      "650:\tlearn: 0.7992206\ttest: 0.7841099\tbest: 0.7841496 (648)\ttotal: 2m 2s\tremaining: 13m 39s\n"
     ]
    },
    {
     "name": "stdout",
     "output_type": "stream",
     "text": [
      "675:\tlearn: 0.8005251\ttest: 0.7847638\tbest: 0.7848275 (670)\ttotal: 2m 7s\tremaining: 13m 34s\n"
     ]
    },
    {
     "name": "stdout",
     "output_type": "stream",
     "text": [
      "700:\tlearn: 0.8011345\ttest: 0.7851183\tbest: 0.7851577 (699)\ttotal: 2m 12s\tremaining: 13m 30s\n"
     ]
    },
    {
     "name": "stdout",
     "output_type": "stream",
     "text": [
      "725:\tlearn: 0.8017762\ttest: 0.7855510\tbest: 0.7858317 (720)\ttotal: 2m 16s\tremaining: 13m 25s\n"
     ]
    },
    {
     "name": "stdout",
     "output_type": "stream",
     "text": [
      "750:\tlearn: 0.8026773\ttest: 0.7856923\tbest: 0.7858724 (731)\ttotal: 2m 21s\tremaining: 13m 21s\n"
     ]
    },
    {
     "name": "stdout",
     "output_type": "stream",
     "text": [
      "775:\tlearn: 0.8034950\ttest: 0.7860142\tbest: 0.7862237 (761)\ttotal: 2m 26s\tremaining: 13m 16s\n"
     ]
    },
    {
     "name": "stdout",
     "output_type": "stream",
     "text": [
      "800:\tlearn: 0.8043254\ttest: 0.7866119\tbest: 0.7867788 (799)\ttotal: 2m 30s\tremaining: 13m 11s\n"
     ]
    },
    {
     "name": "stdout",
     "output_type": "stream",
     "text": [
      "825:\tlearn: 0.8052103\ttest: 0.7870515\tbest: 0.7871697 (819)\ttotal: 2m 35s\tremaining: 13m 6s\n"
     ]
    },
    {
     "name": "stdout",
     "output_type": "stream",
     "text": [
      "850:\tlearn: 0.8060121\ttest: 0.7869205\tbest: 0.7871861 (827)\ttotal: 2m 40s\tremaining: 13m 1s\n"
     ]
    },
    {
     "name": "stdout",
     "output_type": "stream",
     "text": [
      "875:\tlearn: 0.8066293\ttest: 0.7872084\tbest: 0.7872532 (860)\ttotal: 2m 45s\tremaining: 12m 57s\n"
     ]
    },
    {
     "name": "stdout",
     "output_type": "stream",
     "text": [
      "900:\tlearn: 0.8075663\ttest: 0.7868659\tbest: 0.7872734 (877)\ttotal: 2m 49s\tremaining: 12m 52s\n"
     ]
    },
    {
     "name": "stdout",
     "output_type": "stream",
     "text": [
      "925:\tlearn: 0.8084770\ttest: 0.7872181\tbest: 0.7874102 (916)\ttotal: 2m 54s\tremaining: 12m 47s\n"
     ]
    },
    {
     "name": "stdout",
     "output_type": "stream",
     "text": [
      "950:\tlearn: 0.8089353\ttest: 0.7870861\tbest: 0.7874102 (916)\ttotal: 2m 59s\tremaining: 12m 42s\n"
     ]
    },
    {
     "name": "stdout",
     "output_type": "stream",
     "text": [
      "975:\tlearn: 0.8096501\ttest: 0.7873113\tbest: 0.7875115 (954)\ttotal: 3m 3s\tremaining: 12m 37s\n"
     ]
    },
    {
     "name": "stdout",
     "output_type": "stream",
     "text": [
      "1000:\tlearn: 0.8105395\ttest: 0.7869922\tbest: 0.7875115 (954)\ttotal: 3m 8s\tremaining: 12m 33s\n"
     ]
    },
    {
     "name": "stdout",
     "output_type": "stream",
     "text": [
      "1025:\tlearn: 0.8113663\ttest: 0.7875434\tbest: 0.7875434 (1024)\ttotal: 3m 13s\tremaining: 12m 28s\n"
     ]
    },
    {
     "name": "stdout",
     "output_type": "stream",
     "text": [
      "1050:\tlearn: 0.8121814\ttest: 0.7870500\tbest: 0.7875434 (1024)\ttotal: 3m 17s\tremaining: 12m 23s\n"
     ]
    },
    {
     "name": "stdout",
     "output_type": "stream",
     "text": [
      "1075:\tlearn: 0.8127582\ttest: 0.7870012\tbest: 0.7875434 (1024)\ttotal: 3m 22s\tremaining: 12m 19s\n"
     ]
    },
    {
     "name": "stdout",
     "output_type": "stream",
     "text": [
      "1100:\tlearn: 0.8135269\ttest: 0.7867980\tbest: 0.7875434 (1024)\ttotal: 3m 27s\tremaining: 12m 14s\n"
     ]
    },
    {
     "name": "stdout",
     "output_type": "stream",
     "text": [
      "1125:\tlearn: 0.8141012\ttest: 0.7868264\tbest: 0.7875434 (1024)\ttotal: 3m 32s\tremaining: 12m 9s\n"
     ]
    },
    {
     "name": "stdout",
     "output_type": "stream",
     "text": [
      "1150:\tlearn: 0.8147151\ttest: 0.7868277\tbest: 0.7875434 (1024)\ttotal: 3m 36s\tremaining: 12m 4s\n"
     ]
    },
    {
     "name": "stdout",
     "output_type": "stream",
     "text": [
      "1175:\tlearn: 0.8153029\ttest: 0.7871300\tbest: 0.7875434 (1024)\ttotal: 3m 41s\tremaining: 12m\n"
     ]
    },
    {
     "name": "stdout",
     "output_type": "stream",
     "text": [
      "1200:\tlearn: 0.8159362\ttest: 0.7870476\tbest: 0.7875434 (1024)\ttotal: 3m 46s\tremaining: 11m 55s\n"
     ]
    },
    {
     "name": "stdout",
     "output_type": "stream",
     "text": [
      "1225:\tlearn: 0.8165173\ttest: 0.7869022\tbest: 0.7875434 (1024)\ttotal: 3m 50s\tremaining: 11m 50s\n"
     ]
    },
    {
     "name": "stdout",
     "output_type": "stream",
     "text": [
      "1250:\tlearn: 0.8171400\ttest: 0.7869019\tbest: 0.7875434 (1024)\ttotal: 3m 55s\tremaining: 11m 45s\n"
     ]
    },
    {
     "name": "stdout",
     "output_type": "stream",
     "text": [
      "1275:\tlearn: 0.8177969\ttest: 0.7867354\tbest: 0.7875434 (1024)\ttotal: 4m\tremaining: 11m 41s\n"
     ]
    },
    {
     "name": "stdout",
     "output_type": "stream",
     "text": [
      "1300:\tlearn: 0.8184736\ttest: 0.7872208\tbest: 0.7875434 (1024)\ttotal: 4m 4s\tremaining: 11m 36s\n"
     ]
    },
    {
     "name": "stdout",
     "output_type": "stream",
     "text": [
      "1325:\tlearn: 0.8194288\ttest: 0.7871065\tbest: 0.7875434 (1024)\ttotal: 4m 9s\tremaining: 11m 31s\n"
     ]
    },
    {
     "name": "stdout",
     "output_type": "stream",
     "text": [
      "1350:\tlearn: 0.8197912\ttest: 0.7872922\tbest: 0.7875434 (1024)\ttotal: 4m 14s\tremaining: 11m 26s\n"
     ]
    },
    {
     "name": "stdout",
     "output_type": "stream",
     "text": [
      "1375:\tlearn: 0.8204461\ttest: 0.7873679\tbest: 0.7875479 (1365)\ttotal: 4m 18s\tremaining: 11m 21s\n"
     ]
    },
    {
     "name": "stdout",
     "output_type": "stream",
     "text": [
      "1400:\tlearn: 0.8210328\ttest: 0.7870299\tbest: 0.7875699 (1389)\ttotal: 4m 23s\tremaining: 11m 17s\n"
     ]
    },
    {
     "name": "stdout",
     "output_type": "stream",
     "text": [
      "1425:\tlearn: 0.8214945\ttest: 0.7877782\tbest: 0.7878399 (1420)\ttotal: 4m 28s\tremaining: 11m 12s\n"
     ]
    },
    {
     "name": "stdout",
     "output_type": "stream",
     "text": [
      "1450:\tlearn: 0.8221331\ttest: 0.7881832\tbest: 0.7883394 (1442)\ttotal: 4m 33s\tremaining: 11m 7s\n"
     ]
    },
    {
     "name": "stdout",
     "output_type": "stream",
     "text": [
      "1475:\tlearn: 0.8228000\ttest: 0.7880515\tbest: 0.7884035 (1465)\ttotal: 4m 37s\tremaining: 11m 2s\n"
     ]
    },
    {
     "name": "stdout",
     "output_type": "stream",
     "text": [
      "1500:\tlearn: 0.8234347\ttest: 0.7884370\tbest: 0.7884947 (1491)\ttotal: 4m 42s\tremaining: 10m 58s\n"
     ]
    },
    {
     "name": "stdout",
     "output_type": "stream",
     "text": [
      "1525:\tlearn: 0.8239839\ttest: 0.7882612\tbest: 0.7884947 (1491)\ttotal: 4m 47s\tremaining: 10m 53s\n"
     ]
    },
    {
     "name": "stdout",
     "output_type": "stream",
     "text": [
      "1550:\tlearn: 0.8245669\ttest: 0.7880740\tbest: 0.7884947 (1491)\ttotal: 4m 51s\tremaining: 10m 48s\n"
     ]
    },
    {
     "name": "stdout",
     "output_type": "stream",
     "text": [
      "1575:\tlearn: 0.8250915\ttest: 0.7880019\tbest: 0.7884947 (1491)\ttotal: 4m 56s\tremaining: 10m 44s\n"
     ]
    },
    {
     "name": "stdout",
     "output_type": "stream",
     "text": [
      "1600:\tlearn: 0.8257645\ttest: 0.7883340\tbest: 0.7885014 (1591)\ttotal: 5m 1s\tremaining: 10m 39s\n"
     ]
    },
    {
     "name": "stdout",
     "output_type": "stream",
     "text": [
      "1625:\tlearn: 0.8264244\ttest: 0.7882966\tbest: 0.7886107 (1606)\ttotal: 5m 5s\tremaining: 10m 34s\n"
     ]
    },
    {
     "name": "stdout",
     "output_type": "stream",
     "text": [
      "1650:\tlearn: 0.8271163\ttest: 0.7881332\tbest: 0.7886107 (1606)\ttotal: 5m 10s\tremaining: 10m 29s\n"
     ]
    },
    {
     "name": "stdout",
     "output_type": "stream",
     "text": [
      "1675:\tlearn: 0.8274198\ttest: 0.7881474\tbest: 0.7886107 (1606)\ttotal: 5m 15s\tremaining: 10m 25s\n"
     ]
    },
    {
     "name": "stdout",
     "output_type": "stream",
     "text": [
      "1700:\tlearn: 0.8280207\ttest: 0.7882661\tbest: 0.7886107 (1606)\ttotal: 5m 19s\tremaining: 10m 20s\n"
     ]
    },
    {
     "name": "stdout",
     "output_type": "stream",
     "text": [
      "1725:\tlearn: 0.8286162\ttest: 0.7883445\tbest: 0.7886107 (1606)\ttotal: 5m 24s\tremaining: 10m 15s\n"
     ]
    },
    {
     "name": "stdout",
     "output_type": "stream",
     "text": [
      "1750:\tlearn: 0.8292601\ttest: 0.7884406\tbest: 0.7886107 (1606)\ttotal: 5m 29s\tremaining: 10m 10s\n"
     ]
    },
    {
     "name": "stdout",
     "output_type": "stream",
     "text": [
      "1775:\tlearn: 0.8298354\ttest: 0.7883721\tbest: 0.7886107 (1606)\ttotal: 5m 33s\tremaining: 10m 6s\n"
     ]
    },
    {
     "name": "stdout",
     "output_type": "stream",
     "text": [
      "1800:\tlearn: 0.8303142\ttest: 0.7880214\tbest: 0.7886107 (1606)\ttotal: 5m 38s\tremaining: 10m 1s\n"
     ]
    },
    {
     "name": "stdout",
     "output_type": "stream",
     "text": [
      "1825:\tlearn: 0.8308370\ttest: 0.7880371\tbest: 0.7886107 (1606)\ttotal: 5m 43s\tremaining: 9m 56s\n"
     ]
    },
    {
     "name": "stdout",
     "output_type": "stream",
     "text": [
      "1850:\tlearn: 0.8313484\ttest: 0.7880725\tbest: 0.7886107 (1606)\ttotal: 5m 48s\tremaining: 9m 52s\n"
     ]
    },
    {
     "name": "stdout",
     "output_type": "stream",
     "text": [
      "1875:\tlearn: 0.8319110\ttest: 0.7880541\tbest: 0.7886107 (1606)\ttotal: 5m 52s\tremaining: 9m 47s\n"
     ]
    },
    {
     "name": "stdout",
     "output_type": "stream",
     "text": [
      "1900:\tlearn: 0.8324168\ttest: 0.7877693\tbest: 0.7886107 (1606)\ttotal: 5m 57s\tremaining: 9m 42s\n"
     ]
    },
    {
     "name": "stdout",
     "output_type": "stream",
     "text": [
      "1925:\tlearn: 0.8329616\ttest: 0.7878586\tbest: 0.7886107 (1606)\ttotal: 6m 2s\tremaining: 9m 37s\n"
     ]
    },
    {
     "name": "stdout",
     "output_type": "stream",
     "text": [
      "1950:\tlearn: 0.8334119\ttest: 0.7879308\tbest: 0.7886107 (1606)\ttotal: 6m 6s\tremaining: 9m 33s\n"
     ]
    },
    {
     "name": "stdout",
     "output_type": "stream",
     "text": [
      "1975:\tlearn: 0.8340343\ttest: 0.7880118\tbest: 0.7886107 (1606)\ttotal: 6m 11s\tremaining: 9m 28s\n"
     ]
    },
    {
     "name": "stdout",
     "output_type": "stream",
     "text": [
      "2000:\tlearn: 0.8344358\ttest: 0.7885085\tbest: 0.7886107 (1606)\ttotal: 6m 16s\tremaining: 9m 23s\n"
     ]
    },
    {
     "name": "stdout",
     "output_type": "stream",
     "text": [
      "2025:\tlearn: 0.8348332\ttest: 0.7887274\tbest: 0.7887274 (2025)\ttotal: 6m 20s\tremaining: 9m 19s\n"
     ]
    },
    {
     "name": "stdout",
     "output_type": "stream",
     "text": [
      "2050:\tlearn: 0.8355490\ttest: 0.7882292\tbest: 0.7887274 (2025)\ttotal: 6m 25s\tremaining: 9m 14s\n"
     ]
    },
    {
     "name": "stdout",
     "output_type": "stream",
     "text": [
      "2075:\tlearn: 0.8359072\ttest: 0.7881885\tbest: 0.7887274 (2025)\ttotal: 6m 30s\tremaining: 9m 9s\n"
     ]
    },
    {
     "name": "stdout",
     "output_type": "stream",
     "text": [
      "2100:\tlearn: 0.8362738\ttest: 0.7884275\tbest: 0.7887274 (2025)\ttotal: 6m 34s\tremaining: 9m 4s\n"
     ]
    },
    {
     "name": "stdout",
     "output_type": "stream",
     "text": [
      "2125:\tlearn: 0.8368988\ttest: 0.7884131\tbest: 0.7887711 (2118)\ttotal: 6m 39s\tremaining: 9m\n"
     ]
    },
    {
     "name": "stdout",
     "output_type": "stream",
     "text": [
      "2150:\tlearn: 0.8375182\ttest: 0.7882962\tbest: 0.7887711 (2118)\ttotal: 6m 44s\tremaining: 8m 55s\n"
     ]
    },
    {
     "name": "stdout",
     "output_type": "stream",
     "text": [
      "2175:\tlearn: 0.8379640\ttest: 0.7884736\tbest: 0.7887711 (2118)\ttotal: 6m 48s\tremaining: 8m 50s\n"
     ]
    },
    {
     "name": "stdout",
     "output_type": "stream",
     "text": [
      "2200:\tlearn: 0.8386286\ttest: 0.7885047\tbest: 0.7887711 (2118)\ttotal: 6m 53s\tremaining: 8m 45s\n"
     ]
    },
    {
     "name": "stdout",
     "output_type": "stream",
     "text": [
      "2225:\tlearn: 0.8390648\ttest: 0.7888472\tbest: 0.7888472 (2225)\ttotal: 6m 58s\tremaining: 8m 41s\n"
     ]
    },
    {
     "name": "stdout",
     "output_type": "stream",
     "text": [
      "2250:\tlearn: 0.8395404\ttest: 0.7889362\tbest: 0.7890200 (2249)\ttotal: 7m 2s\tremaining: 8m 36s\n"
     ]
    },
    {
     "name": "stdout",
     "output_type": "stream",
     "text": [
      "2275:\tlearn: 0.8400744\ttest: 0.7892442\tbest: 0.7892442 (2275)\ttotal: 7m 7s\tremaining: 8m 31s\n"
     ]
    },
    {
     "name": "stdout",
     "output_type": "stream",
     "text": [
      "2300:\tlearn: 0.8404077\ttest: 0.7894603\tbest: 0.7894820 (2298)\ttotal: 7m 12s\tremaining: 8m 27s\n"
     ]
    },
    {
     "name": "stdout",
     "output_type": "stream",
     "text": [
      "2325:\tlearn: 0.8408523\ttest: 0.7892349\tbest: 0.7894820 (2298)\ttotal: 7m 17s\tremaining: 8m 22s\n"
     ]
    },
    {
     "name": "stdout",
     "output_type": "stream",
     "text": [
      "2350:\tlearn: 0.8413033\ttest: 0.7892665\tbest: 0.7894820 (2298)\ttotal: 7m 21s\tremaining: 8m 17s\n"
     ]
    },
    {
     "name": "stdout",
     "output_type": "stream",
     "text": [
      "2375:\tlearn: 0.8416393\ttest: 0.7889983\tbest: 0.7894820 (2298)\ttotal: 7m 26s\tremaining: 8m 13s\n"
     ]
    },
    {
     "name": "stdout",
     "output_type": "stream",
     "text": [
      "2400:\tlearn: 0.8422712\ttest: 0.7889622\tbest: 0.7894820 (2298)\ttotal: 7m 31s\tremaining: 8m 8s\n"
     ]
    },
    {
     "name": "stdout",
     "output_type": "stream",
     "text": [
      "2425:\tlearn: 0.8427620\ttest: 0.7891215\tbest: 0.7894820 (2298)\ttotal: 7m 35s\tremaining: 8m 3s\n"
     ]
    },
    {
     "name": "stdout",
     "output_type": "stream",
     "text": [
      "2450:\tlearn: 0.8432359\ttest: 0.7890834\tbest: 0.7894820 (2298)\ttotal: 7m 40s\tremaining: 7m 58s\n"
     ]
    },
    {
     "name": "stdout",
     "output_type": "stream",
     "text": [
      "2475:\tlearn: 0.8437014\ttest: 0.7894852\tbest: 0.7895052 (2468)\ttotal: 7m 45s\tremaining: 7m 54s\n"
     ]
    },
    {
     "name": "stdout",
     "output_type": "stream",
     "text": [
      "2500:\tlearn: 0.8442133\ttest: 0.7890698\tbest: 0.7895473 (2476)\ttotal: 7m 49s\tremaining: 7m 49s\n"
     ]
    },
    {
     "name": "stdout",
     "output_type": "stream",
     "text": [
      "2525:\tlearn: 0.8445714\ttest: 0.7890965\tbest: 0.7895473 (2476)\ttotal: 7m 54s\tremaining: 7m 44s\n"
     ]
    },
    {
     "name": "stdout",
     "output_type": "stream",
     "text": [
      "2550:\tlearn: 0.8450264\ttest: 0.7890762\tbest: 0.7895473 (2476)\ttotal: 7m 59s\tremaining: 7m 40s\n"
     ]
    },
    {
     "name": "stdout",
     "output_type": "stream",
     "text": [
      "2575:\tlearn: 0.8455697\ttest: 0.7893853\tbest: 0.7895473 (2476)\ttotal: 8m 3s\tremaining: 7m 35s\n"
     ]
    },
    {
     "name": "stdout",
     "output_type": "stream",
     "text": [
      "2600:\tlearn: 0.8461919\ttest: 0.7896238\tbest: 0.7896454 (2598)\ttotal: 8m 8s\tremaining: 7m 30s\n"
     ]
    },
    {
     "name": "stdout",
     "output_type": "stream",
     "text": [
      "2625:\tlearn: 0.8464609\ttest: 0.7899104\tbest: 0.7899720 (2624)\ttotal: 8m 13s\tremaining: 7m 26s\n"
     ]
    },
    {
     "name": "stdout",
     "output_type": "stream",
     "text": [
      "2650:\tlearn: 0.8468814\ttest: 0.7900428\tbest: 0.7903980 (2643)\ttotal: 8m 18s\tremaining: 7m 21s\n"
     ]
    },
    {
     "name": "stdout",
     "output_type": "stream",
     "text": [
      "2675:\tlearn: 0.8474424\ttest: 0.7902559\tbest: 0.7906136 (2667)\ttotal: 8m 22s\tremaining: 7m 16s\n"
     ]
    },
    {
     "name": "stdout",
     "output_type": "stream",
     "text": [
      "2700:\tlearn: 0.8479579\ttest: 0.7902596\tbest: 0.7906136 (2667)\ttotal: 8m 27s\tremaining: 7m 11s\n"
     ]
    },
    {
     "name": "stdout",
     "output_type": "stream",
     "text": [
      "2725:\tlearn: 0.8481465\ttest: 0.7902185\tbest: 0.7906136 (2667)\ttotal: 8m 32s\tremaining: 7m 7s\n"
     ]
    },
    {
     "name": "stdout",
     "output_type": "stream",
     "text": [
      "2750:\tlearn: 0.8487515\ttest: 0.7903025\tbest: 0.7906136 (2667)\ttotal: 8m 36s\tremaining: 7m 2s\n"
     ]
    },
    {
     "name": "stdout",
     "output_type": "stream",
     "text": [
      "2775:\tlearn: 0.8491963\ttest: 0.7900737\tbest: 0.7906136 (2667)\ttotal: 8m 41s\tremaining: 6m 57s\n"
     ]
    },
    {
     "name": "stdout",
     "output_type": "stream",
     "text": [
      "2800:\tlearn: 0.8497084\ttest: 0.7900806\tbest: 0.7906136 (2667)\ttotal: 8m 46s\tremaining: 6m 52s\n"
     ]
    },
    {
     "name": "stdout",
     "output_type": "stream",
     "text": [
      "2825:\tlearn: 0.8501150\ttest: 0.7900645\tbest: 0.7906136 (2667)\ttotal: 8m 50s\tremaining: 6m 48s\n"
     ]
    },
    {
     "name": "stdout",
     "output_type": "stream",
     "text": [
      "2850:\tlearn: 0.8505566\ttest: 0.7900012\tbest: 0.7906136 (2667)\ttotal: 8m 55s\tremaining: 6m 43s\n"
     ]
    },
    {
     "name": "stdout",
     "output_type": "stream",
     "text": [
      "2875:\tlearn: 0.8511200\ttest: 0.7897988\tbest: 0.7906136 (2667)\ttotal: 9m\tremaining: 6m 38s\n"
     ]
    },
    {
     "name": "stdout",
     "output_type": "stream",
     "text": [
      "2900:\tlearn: 0.8517351\ttest: 0.7901783\tbest: 0.7906136 (2667)\ttotal: 9m 4s\tremaining: 6m 34s\n"
     ]
    },
    {
     "name": "stdout",
     "output_type": "stream",
     "text": [
      "2925:\tlearn: 0.8523757\ttest: 0.7899926\tbest: 0.7906136 (2667)\ttotal: 9m 9s\tremaining: 6m 29s\n"
     ]
    },
    {
     "name": "stdout",
     "output_type": "stream",
     "text": [
      "2950:\tlearn: 0.8524284\ttest: 0.7901236\tbest: 0.7906136 (2667)\ttotal: 9m 14s\tremaining: 6m 24s\n"
     ]
    },
    {
     "name": "stdout",
     "output_type": "stream",
     "text": [
      "2975:\tlearn: 0.8530217\ttest: 0.7905456\tbest: 0.7906136 (2667)\ttotal: 9m 18s\tremaining: 6m 20s\n"
     ]
    },
    {
     "name": "stdout",
     "output_type": "stream",
     "text": [
      "3000:\tlearn: 0.8535908\ttest: 0.7906362\tbest: 0.7906964 (2985)\ttotal: 9m 23s\tremaining: 6m 15s\n"
     ]
    },
    {
     "name": "stdout",
     "output_type": "stream",
     "text": [
      "3025:\tlearn: 0.8539375\ttest: 0.7904457\tbest: 0.7908043 (3023)\ttotal: 9m 28s\tremaining: 6m 10s\n"
     ]
    },
    {
     "name": "stdout",
     "output_type": "stream",
     "text": [
      "3050:\tlearn: 0.8544835\ttest: 0.7908927\tbest: 0.7910353 (3026)\ttotal: 9m 32s\tremaining: 6m 6s\n"
     ]
    },
    {
     "name": "stdout",
     "output_type": "stream",
     "text": [
      "3075:\tlearn: 0.8547800\ttest: 0.7901240\tbest: 0.7910353 (3026)\ttotal: 9m 37s\tremaining: 6m 1s\n"
     ]
    },
    {
     "name": "stdout",
     "output_type": "stream",
     "text": [
      "3100:\tlearn: 0.8552691\ttest: 0.7904832\tbest: 0.7910353 (3026)\ttotal: 9m 42s\tremaining: 5m 56s\n"
     ]
    },
    {
     "name": "stdout",
     "output_type": "stream",
     "text": [
      "3125:\tlearn: 0.8557929\ttest: 0.7904614\tbest: 0.7910353 (3026)\ttotal: 9m 46s\tremaining: 5m 51s\n"
     ]
    },
    {
     "name": "stdout",
     "output_type": "stream",
     "text": [
      "3150:\tlearn: 0.8560948\ttest: 0.7904675\tbest: 0.7910353 (3026)\ttotal: 9m 51s\tremaining: 5m 47s\n"
     ]
    },
    {
     "name": "stdout",
     "output_type": "stream",
     "text": [
      "3175:\tlearn: 0.8566174\ttest: 0.7904731\tbest: 0.7910353 (3026)\ttotal: 9m 56s\tremaining: 5m 42s\n"
     ]
    },
    {
     "name": "stdout",
     "output_type": "stream",
     "text": [
      "3200:\tlearn: 0.8571839\ttest: 0.7904723\tbest: 0.7910353 (3026)\ttotal: 10m\tremaining: 5m 37s\n"
     ]
    },
    {
     "name": "stdout",
     "output_type": "stream",
     "text": [
      "3225:\tlearn: 0.8576051\ttest: 0.7907688\tbest: 0.7910353 (3026)\ttotal: 10m 5s\tremaining: 5m 33s\n"
     ]
    },
    {
     "name": "stdout",
     "output_type": "stream",
     "text": [
      "3250:\tlearn: 0.8578534\ttest: 0.7905244\tbest: 0.7910353 (3026)\ttotal: 10m 10s\tremaining: 5m 28s\n"
     ]
    },
    {
     "name": "stdout",
     "output_type": "stream",
     "text": [
      "3275:\tlearn: 0.8580786\ttest: 0.7902330\tbest: 0.7910353 (3026)\ttotal: 10m 14s\tremaining: 5m 23s\n"
     ]
    },
    {
     "name": "stdout",
     "output_type": "stream",
     "text": [
      "3300:\tlearn: 0.8585052\ttest: 0.7902251\tbest: 0.7910353 (3026)\ttotal: 10m 19s\tremaining: 5m 18s\n"
     ]
    },
    {
     "name": "stdout",
     "output_type": "stream",
     "text": [
      "3325:\tlearn: 0.8587765\ttest: 0.7904771\tbest: 0.7910353 (3026)\ttotal: 10m 24s\tremaining: 5m 14s\n"
     ]
    },
    {
     "name": "stdout",
     "output_type": "stream",
     "text": [
      "3350:\tlearn: 0.8591602\ttest: 0.7908945\tbest: 0.7910353 (3026)\ttotal: 10m 29s\tremaining: 5m 9s\n"
     ]
    },
    {
     "name": "stdout",
     "output_type": "stream",
     "text": [
      "3375:\tlearn: 0.8595266\ttest: 0.7907093\tbest: 0.7910353 (3026)\ttotal: 10m 33s\tremaining: 5m 4s\n"
     ]
    },
    {
     "name": "stdout",
     "output_type": "stream",
     "text": [
      "3400:\tlearn: 0.8598708\ttest: 0.7907336\tbest: 0.7910353 (3026)\ttotal: 10m 38s\tremaining: 5m\n"
     ]
    },
    {
     "name": "stdout",
     "output_type": "stream",
     "text": [
      "3425:\tlearn: 0.8602754\ttest: 0.7908184\tbest: 0.7910353 (3026)\ttotal: 10m 43s\tremaining: 4m 55s\n"
     ]
    },
    {
     "name": "stdout",
     "output_type": "stream",
     "text": [
      "3450:\tlearn: 0.8607157\ttest: 0.7910297\tbest: 0.7910353 (3026)\ttotal: 10m 47s\tremaining: 4m 50s\n"
     ]
    },
    {
     "name": "stdout",
     "output_type": "stream",
     "text": [
      "3475:\tlearn: 0.8611150\ttest: 0.7909095\tbest: 0.7911397 (3458)\ttotal: 10m 52s\tremaining: 4m 46s\n"
     ]
    },
    {
     "name": "stdout",
     "output_type": "stream",
     "text": [
      "3500:\tlearn: 0.8616006\ttest: 0.7909529\tbest: 0.7911397 (3458)\ttotal: 10m 57s\tremaining: 4m 41s\n"
     ]
    },
    {
     "name": "stdout",
     "output_type": "stream",
     "text": [
      "3525:\tlearn: 0.8621933\ttest: 0.7913388\tbest: 0.7913388 (3525)\ttotal: 11m 1s\tremaining: 4m 36s\n"
     ]
    },
    {
     "name": "stdout",
     "output_type": "stream",
     "text": [
      "3550:\tlearn: 0.8628198\ttest: 0.7907599\tbest: 0.7913388 (3525)\ttotal: 11m 6s\tremaining: 4m 31s\n"
     ]
    },
    {
     "name": "stdout",
     "output_type": "stream",
     "text": [
      "3575:\tlearn: 0.8632684\ttest: 0.7903867\tbest: 0.7913388 (3525)\ttotal: 11m 11s\tremaining: 4m 27s\n"
     ]
    },
    {
     "name": "stdout",
     "output_type": "stream",
     "text": [
      "3600:\tlearn: 0.8636996\ttest: 0.7907200\tbest: 0.7913388 (3525)\ttotal: 11m 15s\tremaining: 4m 22s\n"
     ]
    },
    {
     "name": "stdout",
     "output_type": "stream",
     "text": [
      "3625:\tlearn: 0.8640433\ttest: 0.7904361\tbest: 0.7913388 (3525)\ttotal: 11m 20s\tremaining: 4m 17s\n"
     ]
    },
    {
     "name": "stdout",
     "output_type": "stream",
     "text": [
      "3650:\tlearn: 0.8644746\ttest: 0.7907515\tbest: 0.7913388 (3525)\ttotal: 11m 25s\tremaining: 4m 13s\n"
     ]
    },
    {
     "name": "stdout",
     "output_type": "stream",
     "text": [
      "3675:\tlearn: 0.8650627\ttest: 0.7908627\tbest: 0.7913388 (3525)\ttotal: 11m 29s\tremaining: 4m 8s\n"
     ]
    },
    {
     "name": "stdout",
     "output_type": "stream",
     "text": [
      "3700:\tlearn: 0.8654092\ttest: 0.7906724\tbest: 0.7913388 (3525)\ttotal: 11m 34s\tremaining: 4m 3s\n"
     ]
    },
    {
     "name": "stdout",
     "output_type": "stream",
     "text": [
      "3725:\tlearn: 0.8659307\ttest: 0.7902997\tbest: 0.7913388 (3525)\ttotal: 11m 39s\tremaining: 3m 59s\n"
     ]
    },
    {
     "name": "stdout",
     "output_type": "stream",
     "text": [
      "3750:\tlearn: 0.8664106\ttest: 0.7900659\tbest: 0.7913388 (3525)\ttotal: 11m 44s\tremaining: 3m 54s\n"
     ]
    },
    {
     "name": "stdout",
     "output_type": "stream",
     "text": [
      "3775:\tlearn: 0.8666941\ttest: 0.7903225\tbest: 0.7913388 (3525)\ttotal: 11m 48s\tremaining: 3m 49s\n"
     ]
    },
    {
     "name": "stdout",
     "output_type": "stream",
     "text": [
      "3800:\tlearn: 0.8672182\ttest: 0.7905553\tbest: 0.7913388 (3525)\ttotal: 11m 53s\tremaining: 3m 45s\n"
     ]
    },
    {
     "name": "stdout",
     "output_type": "stream",
     "text": [
      "3825:\tlearn: 0.8675201\ttest: 0.7903013\tbest: 0.7913388 (3525)\ttotal: 11m 58s\tremaining: 3m 40s\n"
     ]
    },
    {
     "name": "stdout",
     "output_type": "stream",
     "text": [
      "3850:\tlearn: 0.8678091\ttest: 0.7902844\tbest: 0.7913388 (3525)\ttotal: 12m 2s\tremaining: 3m 35s\n"
     ]
    },
    {
     "name": "stdout",
     "output_type": "stream",
     "text": [
      "3875:\tlearn: 0.8684062\ttest: 0.7904320\tbest: 0.7913388 (3525)\ttotal: 12m 7s\tremaining: 3m 30s\n"
     ]
    },
    {
     "name": "stdout",
     "output_type": "stream",
     "text": [
      "3900:\tlearn: 0.8689488\ttest: 0.7900769\tbest: 0.7913388 (3525)\ttotal: 12m 12s\tremaining: 3m 26s\n"
     ]
    },
    {
     "name": "stdout",
     "output_type": "stream",
     "text": [
      "3925:\tlearn: 0.8694327\ttest: 0.7905374\tbest: 0.7913388 (3525)\ttotal: 12m 16s\tremaining: 3m 21s\n"
     ]
    },
    {
     "name": "stdout",
     "output_type": "stream",
     "text": [
      "3950:\tlearn: 0.8697428\ttest: 0.7903694\tbest: 0.7913388 (3525)\ttotal: 12m 21s\tremaining: 3m 16s\n"
     ]
    },
    {
     "name": "stdout",
     "output_type": "stream",
     "text": [
      "3975:\tlearn: 0.8700698\ttest: 0.7907330\tbest: 0.7913388 (3525)\ttotal: 12m 26s\tremaining: 3m 12s\n"
     ]
    },
    {
     "name": "stdout",
     "output_type": "stream",
     "text": [
      "4000:\tlearn: 0.8703576\ttest: 0.7905502\tbest: 0.7913388 (3525)\ttotal: 12m 30s\tremaining: 3m 7s\n"
     ]
    },
    {
     "name": "stdout",
     "output_type": "stream",
     "text": [
      "4025:\tlearn: 0.8708461\ttest: 0.7903820\tbest: 0.7913388 (3525)\ttotal: 12m 35s\tremaining: 3m 2s\n"
     ]
    },
    {
     "name": "stdout",
     "output_type": "stream",
     "text": [
      "4050:\tlearn: 0.8712977\ttest: 0.7903797\tbest: 0.7913388 (3525)\ttotal: 12m 40s\tremaining: 2m 58s\n"
     ]
    },
    {
     "name": "stdout",
     "output_type": "stream",
     "text": [
      "4075:\tlearn: 0.8716568\ttest: 0.7907191\tbest: 0.7913388 (3525)\ttotal: 12m 44s\tremaining: 2m 53s\n"
     ]
    },
    {
     "name": "stdout",
     "output_type": "stream",
     "text": [
      "4100:\tlearn: 0.8719779\ttest: 0.7904459\tbest: 0.7913388 (3525)\ttotal: 12m 49s\tremaining: 2m 48s\n"
     ]
    },
    {
     "name": "stdout",
     "output_type": "stream",
     "text": [
      "4125:\tlearn: 0.8723581\ttest: 0.7907821\tbest: 0.7913388 (3525)\ttotal: 12m 54s\tremaining: 2m 44s\n"
     ]
    },
    {
     "name": "stdout",
     "output_type": "stream",
     "text": [
      "4150:\tlearn: 0.8729631\ttest: 0.7902513\tbest: 0.7913388 (3525)\ttotal: 12m 59s\tremaining: 2m 39s\n"
     ]
    },
    {
     "name": "stdout",
     "output_type": "stream",
     "text": [
      "4175:\tlearn: 0.8733396\ttest: 0.7902736\tbest: 0.7913388 (3525)\ttotal: 13m 3s\tremaining: 2m 34s\n"
     ]
    },
    {
     "name": "stdout",
     "output_type": "stream",
     "text": [
      "4200:\tlearn: 0.8737758\ttest: 0.7902532\tbest: 0.7913388 (3525)\ttotal: 13m 8s\tremaining: 2m 29s\n"
     ]
    },
    {
     "name": "stdout",
     "output_type": "stream",
     "text": [
      "4225:\tlearn: 0.8743167\ttest: 0.7905110\tbest: 0.7913388 (3525)\ttotal: 13m 13s\tremaining: 2m 25s\n"
     ]
    },
    {
     "name": "stdout",
     "output_type": "stream",
     "text": [
      "4250:\tlearn: 0.8747392\ttest: 0.7903228\tbest: 0.7913388 (3525)\ttotal: 13m 17s\tremaining: 2m 20s\n"
     ]
    },
    {
     "name": "stdout",
     "output_type": "stream",
     "text": [
      "4275:\tlearn: 0.8749330\ttest: 0.7905162\tbest: 0.7913388 (3525)\ttotal: 13m 22s\tremaining: 2m 15s\n"
     ]
    },
    {
     "name": "stdout",
     "output_type": "stream",
     "text": [
      "4300:\tlearn: 0.8752243\ttest: 0.7905605\tbest: 0.7913388 (3525)\ttotal: 13m 27s\tremaining: 2m 11s\n"
     ]
    },
    {
     "name": "stdout",
     "output_type": "stream",
     "text": [
      "4325:\tlearn: 0.8756428\ttest: 0.7907899\tbest: 0.7913388 (3525)\ttotal: 13m 31s\tremaining: 2m 6s\n"
     ]
    },
    {
     "name": "stdout",
     "output_type": "stream",
     "text": [
      "4350:\tlearn: 0.8759954\ttest: 0.7905806\tbest: 0.7913388 (3525)\ttotal: 13m 36s\tremaining: 2m 1s\n"
     ]
    },
    {
     "name": "stdout",
     "output_type": "stream",
     "text": [
      "4375:\tlearn: 0.8764103\ttest: 0.7904133\tbest: 0.7913388 (3525)\ttotal: 13m 41s\tremaining: 1m 57s\n"
     ]
    },
    {
     "name": "stdout",
     "output_type": "stream",
     "text": [
      "4400:\tlearn: 0.8769773\ttest: 0.7906927\tbest: 0.7913388 (3525)\ttotal: 13m 45s\tremaining: 1m 52s\n"
     ]
    },
    {
     "name": "stdout",
     "output_type": "stream",
     "text": [
      "4425:\tlearn: 0.8775358\ttest: 0.7905073\tbest: 0.7913388 (3525)\ttotal: 13m 50s\tremaining: 1m 47s\n"
     ]
    },
    {
     "name": "stdout",
     "output_type": "stream",
     "text": [
      "4450:\tlearn: 0.8777671\ttest: 0.7907656\tbest: 0.7913388 (3525)\ttotal: 13m 55s\tremaining: 1m 43s\n"
     ]
    },
    {
     "name": "stdout",
     "output_type": "stream",
     "text": [
      "4475:\tlearn: 0.8781080\ttest: 0.7906424\tbest: 0.7913388 (3525)\ttotal: 13m 59s\tremaining: 1m 38s\n"
     ]
    },
    {
     "name": "stdout",
     "output_type": "stream",
     "text": [
      "4500:\tlearn: 0.8783716\ttest: 0.7904712\tbest: 0.7913388 (3525)\ttotal: 14m 4s\tremaining: 1m 33s\n"
     ]
    },
    {
     "name": "stdout",
     "output_type": "stream",
     "text": [
      "4525:\tlearn: 0.8787495\ttest: 0.7906221\tbest: 0.7913388 (3525)\ttotal: 14m 9s\tremaining: 1m 28s\n"
     ]
    },
    {
     "name": "stdout",
     "output_type": "stream",
     "text": [
      "4550:\tlearn: 0.8793615\ttest: 0.7908165\tbest: 0.7913388 (3525)\ttotal: 14m 13s\tremaining: 1m 24s\n"
     ]
    },
    {
     "name": "stdout",
     "output_type": "stream",
     "text": [
      "4575:\tlearn: 0.8797662\ttest: 0.7908154\tbest: 0.7913388 (3525)\ttotal: 14m 18s\tremaining: 1m 19s\n"
     ]
    },
    {
     "name": "stdout",
     "output_type": "stream",
     "text": [
      "4600:\tlearn: 0.8799975\ttest: 0.7905849\tbest: 0.7913388 (3525)\ttotal: 14m 23s\tremaining: 1m 14s\n"
     ]
    },
    {
     "name": "stdout",
     "output_type": "stream",
     "text": [
      "4625:\tlearn: 0.8803978\ttest: 0.7909201\tbest: 0.7913388 (3525)\ttotal: 14m 27s\tremaining: 1m 10s\n"
     ]
    },
    {
     "name": "stdout",
     "output_type": "stream",
     "text": [
      "4650:\tlearn: 0.8809134\ttest: 0.7908562\tbest: 0.7913388 (3525)\ttotal: 14m 32s\tremaining: 1m 5s\n"
     ]
    },
    {
     "name": "stdout",
     "output_type": "stream",
     "text": [
      "4675:\tlearn: 0.8812850\ttest: 0.7908100\tbest: 0.7913388 (3525)\ttotal: 14m 37s\tremaining: 1m\n"
     ]
    },
    {
     "name": "stdout",
     "output_type": "stream",
     "text": [
      "4700:\tlearn: 0.8816882\ttest: 0.7911223\tbest: 0.7913388 (3525)\ttotal: 14m 41s\tremaining: 56.1s\n"
     ]
    },
    {
     "name": "stdout",
     "output_type": "stream",
     "text": [
      "4725:\tlearn: 0.8821312\ttest: 0.7910418\tbest: 0.7913388 (3525)\ttotal: 14m 46s\tremaining: 51.4s\n"
     ]
    },
    {
     "name": "stdout",
     "output_type": "stream",
     "text": [
      "4750:\tlearn: 0.8823216\ttest: 0.7905771\tbest: 0.7913388 (3525)\ttotal: 14m 51s\tremaining: 46.7s\n"
     ]
    },
    {
     "name": "stdout",
     "output_type": "stream",
     "text": [
      "4775:\tlearn: 0.8827611\ttest: 0.7907006\tbest: 0.7913388 (3525)\ttotal: 14m 56s\tremaining: 42s\n"
     ]
    },
    {
     "name": "stdout",
     "output_type": "stream",
     "text": [
      "4800:\tlearn: 0.8831139\ttest: 0.7905758\tbest: 0.7913388 (3525)\ttotal: 15m\tremaining: 37.3s\n"
     ]
    },
    {
     "name": "stdout",
     "output_type": "stream",
     "text": [
      "4825:\tlearn: 0.8835504\ttest: 0.7905119\tbest: 0.7913388 (3525)\ttotal: 15m 5s\tremaining: 32.6s\n"
     ]
    },
    {
     "name": "stdout",
     "output_type": "stream",
     "text": [
      "4850:\tlearn: 0.8838982\ttest: 0.7904527\tbest: 0.7913388 (3525)\ttotal: 15m 10s\tremaining: 28s\n"
     ]
    },
    {
     "name": "stdout",
     "output_type": "stream",
     "text": [
      "4875:\tlearn: 0.8843591\ttest: 0.7906996\tbest: 0.7913388 (3525)\ttotal: 15m 14s\tremaining: 23.3s\n"
     ]
    },
    {
     "name": "stdout",
     "output_type": "stream",
     "text": [
      "4900:\tlearn: 0.8845975\ttest: 0.7907488\tbest: 0.7913388 (3525)\ttotal: 15m 19s\tremaining: 18.6s\n"
     ]
    },
    {
     "name": "stdout",
     "output_type": "stream",
     "text": [
      "4925:\tlearn: 0.8849271\ttest: 0.7905418\tbest: 0.7913388 (3525)\ttotal: 15m 24s\tremaining: 13.9s\n"
     ]
    },
    {
     "name": "stdout",
     "output_type": "stream",
     "text": [
      "4950:\tlearn: 0.8852188\ttest: 0.7903538\tbest: 0.7913388 (3525)\ttotal: 15m 28s\tremaining: 9.19s\n"
     ]
    },
    {
     "name": "stdout",
     "output_type": "stream",
     "text": [
      "4975:\tlearn: 0.8854092\ttest: 0.7903942\tbest: 0.7913388 (3525)\ttotal: 15m 33s\tremaining: 4.5s\n"
     ]
    },
    {
     "name": "stdout",
     "output_type": "stream",
     "text": [
      "4999:\tlearn: 0.8857754\ttest: 0.7903305\tbest: 0.7913388 (3525)\ttotal: 15m 37s\tremaining: 0us\n",
      "\n",
      "bestTest = 0.7913388253\n",
      "bestIteration = 3525\n",
      "\n"
     ]
    },
    {
     "name": "stdout",
     "output_type": "stream",
     "text": [
      "######################################## training model 4/5 ########################################\n"
     ]
    },
    {
     "name": "stdout",
     "output_type": "stream",
     "text": [
      "0:\tlearn: 0.5189663\ttest: 0.5114906\tbest: 0.5114906 (0)\ttotal: 502ms\tremaining: 41m 48s\n"
     ]
    },
    {
     "name": "stdout",
     "output_type": "stream",
     "text": [
      "25:\tlearn: 0.7191467\ttest: 0.7126345\tbest: 0.7126345 (25)\ttotal: 5.04s\tremaining: 16m 3s\n"
     ]
    },
    {
     "name": "stdout",
     "output_type": "stream",
     "text": [
      "50:\tlearn: 0.7400431\ttest: 0.7344259\tbest: 0.7344259 (50)\ttotal: 9.73s\tremaining: 15m 44s\n"
     ]
    },
    {
     "name": "stdout",
     "output_type": "stream",
     "text": [
      "75:\tlearn: 0.7477817\ttest: 0.7421695\tbest: 0.7421695 (75)\ttotal: 14.4s\tremaining: 15m 33s\n"
     ]
    },
    {
     "name": "stdout",
     "output_type": "stream",
     "text": [
      "100:\tlearn: 0.7521145\ttest: 0.7479754\tbest: 0.7479754 (100)\ttotal: 19.1s\tremaining: 15m 26s\n"
     ]
    },
    {
     "name": "stdout",
     "output_type": "stream",
     "text": [
      "125:\tlearn: 0.7557241\ttest: 0.7517104\tbest: 0.7517104 (125)\ttotal: 23.8s\tremaining: 15m 20s\n"
     ]
    },
    {
     "name": "stdout",
     "output_type": "stream",
     "text": [
      "150:\tlearn: 0.7592858\ttest: 0.7559834\tbest: 0.7559834 (150)\ttotal: 28.4s\tremaining: 15m 12s\n"
     ]
    },
    {
     "name": "stdout",
     "output_type": "stream",
     "text": [
      "175:\tlearn: 0.7613696\ttest: 0.7578196\tbest: 0.7579925 (174)\ttotal: 33.1s\tremaining: 15m 7s\n"
     ]
    },
    {
     "name": "stdout",
     "output_type": "stream",
     "text": [
      "200:\tlearn: 0.7633698\ttest: 0.7591984\tbest: 0.7593434 (199)\ttotal: 37.8s\tremaining: 15m 2s\n"
     ]
    },
    {
     "name": "stdout",
     "output_type": "stream",
     "text": [
      "225:\tlearn: 0.7649299\ttest: 0.7599090\tbest: 0.7599090 (225)\ttotal: 42.5s\tremaining: 14m 57s\n"
     ]
    },
    {
     "name": "stdout",
     "output_type": "stream",
     "text": [
      "250:\tlearn: 0.7664157\ttest: 0.7619418\tbest: 0.7619418 (250)\ttotal: 47.2s\tremaining: 14m 52s\n"
     ]
    },
    {
     "name": "stdout",
     "output_type": "stream",
     "text": [
      "275:\tlearn: 0.7692302\ttest: 0.7645964\tbest: 0.7647163 (274)\ttotal: 51.9s\tremaining: 14m 47s\n"
     ]
    },
    {
     "name": "stdout",
     "output_type": "stream",
     "text": [
      "300:\tlearn: 0.7728464\ttest: 0.7679156\tbest: 0.7679156 (300)\ttotal: 56.6s\tremaining: 14m 42s\n"
     ]
    },
    {
     "name": "stdout",
     "output_type": "stream",
     "text": [
      "325:\tlearn: 0.7771390\ttest: 0.7717993\tbest: 0.7719553 (324)\ttotal: 1m 1s\tremaining: 14m 38s\n"
     ]
    },
    {
     "name": "stdout",
     "output_type": "stream",
     "text": [
      "350:\tlearn: 0.7808616\ttest: 0.7747845\tbest: 0.7748852 (349)\ttotal: 1m 6s\tremaining: 14m 34s\n"
     ]
    },
    {
     "name": "stdout",
     "output_type": "stream",
     "text": [
      "375:\tlearn: 0.7837866\ttest: 0.7769156\tbest: 0.7771110 (374)\ttotal: 1m 10s\tremaining: 14m 29s\n"
     ]
    },
    {
     "name": "stdout",
     "output_type": "stream",
     "text": [
      "400:\tlearn: 0.7857912\ttest: 0.7779825\tbest: 0.7780132 (391)\ttotal: 1m 15s\tremaining: 14m 25s\n"
     ]
    },
    {
     "name": "stdout",
     "output_type": "stream",
     "text": [
      "425:\tlearn: 0.7879194\ttest: 0.7788685\tbest: 0.7791747 (422)\ttotal: 1m 20s\tremaining: 14m 20s\n"
     ]
    },
    {
     "name": "stdout",
     "output_type": "stream",
     "text": [
      "450:\tlearn: 0.7896201\ttest: 0.7803990\tbest: 0.7803990 (450)\ttotal: 1m 24s\tremaining: 14m 15s\n"
     ]
    },
    {
     "name": "stdout",
     "output_type": "stream",
     "text": [
      "475:\tlearn: 0.7907772\ttest: 0.7805880\tbest: 0.7813730 (467)\ttotal: 1m 29s\tremaining: 14m 11s\n"
     ]
    },
    {
     "name": "stdout",
     "output_type": "stream",
     "text": [
      "500:\tlearn: 0.7919815\ttest: 0.7812439\tbest: 0.7814622 (499)\ttotal: 1m 34s\tremaining: 14m 6s\n"
     ]
    },
    {
     "name": "stdout",
     "output_type": "stream",
     "text": [
      "525:\tlearn: 0.7933249\ttest: 0.7819771\tbest: 0.7821426 (518)\ttotal: 1m 38s\tremaining: 14m 1s\n"
     ]
    },
    {
     "name": "stdout",
     "output_type": "stream",
     "text": [
      "550:\tlearn: 0.7945096\ttest: 0.7827369\tbest: 0.7828906 (547)\ttotal: 1m 43s\tremaining: 13m 57s\n"
     ]
    },
    {
     "name": "stdout",
     "output_type": "stream",
     "text": [
      "575:\tlearn: 0.7959055\ttest: 0.7827145\tbest: 0.7829750 (559)\ttotal: 1m 48s\tremaining: 13m 52s\n"
     ]
    },
    {
     "name": "stdout",
     "output_type": "stream",
     "text": [
      "600:\tlearn: 0.7968315\ttest: 0.7830765\tbest: 0.7830765 (600)\ttotal: 1m 53s\tremaining: 13m 47s\n"
     ]
    },
    {
     "name": "stdout",
     "output_type": "stream",
     "text": [
      "625:\tlearn: 0.7978080\ttest: 0.7839089\tbest: 0.7839232 (622)\ttotal: 1m 57s\tremaining: 13m 42s\n"
     ]
    },
    {
     "name": "stdout",
     "output_type": "stream",
     "text": [
      "650:\tlearn: 0.7987992\ttest: 0.7836105\tbest: 0.7842138 (628)\ttotal: 2m 2s\tremaining: 13m 38s\n"
     ]
    },
    {
     "name": "stdout",
     "output_type": "stream",
     "text": [
      "675:\tlearn: 0.7996822\ttest: 0.7838075\tbest: 0.7842138 (628)\ttotal: 2m 7s\tremaining: 13m 33s\n"
     ]
    },
    {
     "name": "stdout",
     "output_type": "stream",
     "text": [
      "700:\tlearn: 0.8005510\ttest: 0.7833238\tbest: 0.7842138 (628)\ttotal: 2m 11s\tremaining: 13m 28s\n"
     ]
    },
    {
     "name": "stdout",
     "output_type": "stream",
     "text": [
      "725:\tlearn: 0.8014086\ttest: 0.7838198\tbest: 0.7842138 (628)\ttotal: 2m 16s\tremaining: 13m 24s\n"
     ]
    },
    {
     "name": "stdout",
     "output_type": "stream",
     "text": [
      "750:\tlearn: 0.8021705\ttest: 0.7840878\tbest: 0.7842138 (628)\ttotal: 2m 21s\tremaining: 13m 19s\n"
     ]
    },
    {
     "name": "stdout",
     "output_type": "stream",
     "text": [
      "775:\tlearn: 0.8031024\ttest: 0.7843418\tbest: 0.7843586 (766)\ttotal: 2m 26s\tremaining: 13m 14s\n"
     ]
    },
    {
     "name": "stdout",
     "output_type": "stream",
     "text": [
      "800:\tlearn: 0.8039672\ttest: 0.7852972\tbest: 0.7853367 (799)\ttotal: 2m 30s\tremaining: 13m 9s\n"
     ]
    },
    {
     "name": "stdout",
     "output_type": "stream",
     "text": [
      "825:\tlearn: 0.8046979\ttest: 0.7856491\tbest: 0.7857084 (813)\ttotal: 2m 35s\tremaining: 13m 5s\n"
     ]
    },
    {
     "name": "stdout",
     "output_type": "stream",
     "text": [
      "850:\tlearn: 0.8055895\ttest: 0.7853973\tbest: 0.7857084 (813)\ttotal: 2m 40s\tremaining: 13m\n"
     ]
    },
    {
     "name": "stdout",
     "output_type": "stream",
     "text": [
      "875:\tlearn: 0.8064664\ttest: 0.7854946\tbest: 0.7858128 (867)\ttotal: 2m 44s\tremaining: 12m 55s\n"
     ]
    },
    {
     "name": "stdout",
     "output_type": "stream",
     "text": [
      "900:\tlearn: 0.8071397\ttest: 0.7860693\tbest: 0.7864908 (889)\ttotal: 2m 49s\tremaining: 12m 50s\n"
     ]
    },
    {
     "name": "stdout",
     "output_type": "stream",
     "text": [
      "925:\tlearn: 0.8079195\ttest: 0.7865775\tbest: 0.7868056 (923)\ttotal: 2m 54s\tremaining: 12m 46s\n"
     ]
    },
    {
     "name": "stdout",
     "output_type": "stream",
     "text": [
      "950:\tlearn: 0.8085525\ttest: 0.7866421\tbest: 0.7868056 (923)\ttotal: 2m 58s\tremaining: 12m 41s\n"
     ]
    },
    {
     "name": "stdout",
     "output_type": "stream",
     "text": [
      "975:\tlearn: 0.8093660\ttest: 0.7868780\tbest: 0.7871831 (970)\ttotal: 3m 3s\tremaining: 12m 36s\n"
     ]
    },
    {
     "name": "stdout",
     "output_type": "stream",
     "text": [
      "1000:\tlearn: 0.8100738\ttest: 0.7872676\tbest: 0.7872676 (1000)\ttotal: 3m 8s\tremaining: 12m 31s\n"
     ]
    },
    {
     "name": "stdout",
     "output_type": "stream",
     "text": [
      "1025:\tlearn: 0.8108393\ttest: 0.7873060\tbest: 0.7873060 (1025)\ttotal: 3m 12s\tremaining: 12m 27s\n"
     ]
    },
    {
     "name": "stdout",
     "output_type": "stream",
     "text": [
      "1050:\tlearn: 0.8116817\ttest: 0.7876120\tbest: 0.7876120 (1050)\ttotal: 3m 17s\tremaining: 12m 22s\n"
     ]
    },
    {
     "name": "stdout",
     "output_type": "stream",
     "text": [
      "1075:\tlearn: 0.8121379\ttest: 0.7874353\tbest: 0.7876629 (1058)\ttotal: 3m 22s\tremaining: 12m 17s\n"
     ]
    },
    {
     "name": "stdout",
     "output_type": "stream",
     "text": [
      "1100:\tlearn: 0.8129503\ttest: 0.7872402\tbest: 0.7876629 (1058)\ttotal: 3m 27s\tremaining: 12m 13s\n"
     ]
    },
    {
     "name": "stdout",
     "output_type": "stream",
     "text": [
      "1125:\tlearn: 0.8134667\ttest: 0.7870536\tbest: 0.7876629 (1058)\ttotal: 3m 31s\tremaining: 12m 8s\n"
     ]
    },
    {
     "name": "stdout",
     "output_type": "stream",
     "text": [
      "1150:\tlearn: 0.8141328\ttest: 0.7873761\tbest: 0.7876629 (1058)\ttotal: 3m 36s\tremaining: 12m 3s\n"
     ]
    },
    {
     "name": "stdout",
     "output_type": "stream",
     "text": [
      "1175:\tlearn: 0.8147868\ttest: 0.7875572\tbest: 0.7878051 (1174)\ttotal: 3m 41s\tremaining: 11m 58s\n"
     ]
    },
    {
     "name": "stdout",
     "output_type": "stream",
     "text": [
      "1200:\tlearn: 0.8152640\ttest: 0.7876184\tbest: 0.7879707 (1190)\ttotal: 3m 45s\tremaining: 11m 54s\n"
     ]
    },
    {
     "name": "stdout",
     "output_type": "stream",
     "text": [
      "1225:\tlearn: 0.8157496\ttest: 0.7877870\tbest: 0.7880137 (1215)\ttotal: 3m 50s\tremaining: 11m 49s\n"
     ]
    },
    {
     "name": "stdout",
     "output_type": "stream",
     "text": [
      "1250:\tlearn: 0.8164205\ttest: 0.7876740\tbest: 0.7880137 (1215)\ttotal: 3m 55s\tremaining: 11m 44s\n"
     ]
    },
    {
     "name": "stdout",
     "output_type": "stream",
     "text": [
      "1275:\tlearn: 0.8168391\ttest: 0.7879021\tbest: 0.7880255 (1268)\ttotal: 3m 59s\tremaining: 11m 39s\n"
     ]
    },
    {
     "name": "stdout",
     "output_type": "stream",
     "text": [
      "1300:\tlearn: 0.8174611\ttest: 0.7879635\tbest: 0.7880868 (1298)\ttotal: 4m 4s\tremaining: 11m 35s\n"
     ]
    },
    {
     "name": "stdout",
     "output_type": "stream",
     "text": [
      "1325:\tlearn: 0.8180804\ttest: 0.7875274\tbest: 0.7880868 (1298)\ttotal: 4m 9s\tremaining: 11m 30s\n"
     ]
    },
    {
     "name": "stdout",
     "output_type": "stream",
     "text": [
      "1350:\tlearn: 0.8188813\ttest: 0.7874419\tbest: 0.7880868 (1298)\ttotal: 4m 13s\tremaining: 11m 25s\n"
     ]
    },
    {
     "name": "stdout",
     "output_type": "stream",
     "text": [
      "1375:\tlearn: 0.8196461\ttest: 0.7874809\tbest: 0.7880868 (1298)\ttotal: 4m 18s\tremaining: 11m 20s\n"
     ]
    },
    {
     "name": "stdout",
     "output_type": "stream",
     "text": [
      "1400:\tlearn: 0.8201587\ttest: 0.7880430\tbest: 0.7880868 (1298)\ttotal: 4m 23s\tremaining: 11m 16s\n"
     ]
    },
    {
     "name": "stdout",
     "output_type": "stream",
     "text": [
      "1425:\tlearn: 0.8205713\ttest: 0.7875190\tbest: 0.7880868 (1298)\ttotal: 4m 27s\tremaining: 11m 11s\n"
     ]
    },
    {
     "name": "stdout",
     "output_type": "stream",
     "text": [
      "1450:\tlearn: 0.8210454\ttest: 0.7873099\tbest: 0.7880868 (1298)\ttotal: 4m 32s\tremaining: 11m 6s\n"
     ]
    },
    {
     "name": "stdout",
     "output_type": "stream",
     "text": [
      "1475:\tlearn: 0.8213857\ttest: 0.7873356\tbest: 0.7880868 (1298)\ttotal: 4m 37s\tremaining: 11m 1s\n"
     ]
    },
    {
     "name": "stdout",
     "output_type": "stream",
     "text": [
      "1500:\tlearn: 0.8220695\ttest: 0.7878659\tbest: 0.7880868 (1298)\ttotal: 4m 41s\tremaining: 10m 57s\n"
     ]
    },
    {
     "name": "stdout",
     "output_type": "stream",
     "text": [
      "1525:\tlearn: 0.8226895\ttest: 0.7878291\tbest: 0.7880868 (1298)\ttotal: 4m 46s\tremaining: 10m 52s\n"
     ]
    },
    {
     "name": "stdout",
     "output_type": "stream",
     "text": [
      "1550:\tlearn: 0.8230736\ttest: 0.7878437\tbest: 0.7880868 (1298)\ttotal: 4m 51s\tremaining: 10m 47s\n"
     ]
    },
    {
     "name": "stdout",
     "output_type": "stream",
     "text": [
      "1575:\tlearn: 0.8235700\ttest: 0.7878386\tbest: 0.7881544 (1573)\ttotal: 4m 55s\tremaining: 10m 43s\n"
     ]
    },
    {
     "name": "stdout",
     "output_type": "stream",
     "text": [
      "1600:\tlearn: 0.8241012\ttest: 0.7879073\tbest: 0.7882019 (1587)\ttotal: 5m\tremaining: 10m 38s\n"
     ]
    },
    {
     "name": "stdout",
     "output_type": "stream",
     "text": [
      "1625:\tlearn: 0.8248399\ttest: 0.7880274\tbest: 0.7882019 (1587)\ttotal: 5m 5s\tremaining: 10m 33s\n"
     ]
    },
    {
     "name": "stdout",
     "output_type": "stream",
     "text": [
      "1650:\tlearn: 0.8254009\ttest: 0.7880201\tbest: 0.7882858 (1630)\ttotal: 5m 10s\tremaining: 10m 28s\n"
     ]
    },
    {
     "name": "stdout",
     "output_type": "stream",
     "text": [
      "1675:\tlearn: 0.8258643\ttest: 0.7882880\tbest: 0.7883668 (1669)\ttotal: 5m 14s\tremaining: 10m 24s\n"
     ]
    },
    {
     "name": "stdout",
     "output_type": "stream",
     "text": [
      "1700:\tlearn: 0.8264531\ttest: 0.7884293\tbest: 0.7886190 (1690)\ttotal: 5m 19s\tremaining: 10m 19s\n"
     ]
    },
    {
     "name": "stdout",
     "output_type": "stream",
     "text": [
      "1725:\tlearn: 0.8271751\ttest: 0.7883013\tbest: 0.7886190 (1690)\ttotal: 5m 24s\tremaining: 10m 14s\n"
     ]
    },
    {
     "name": "stdout",
     "output_type": "stream",
     "text": [
      "1750:\tlearn: 0.8276124\ttest: 0.7887000\tbest: 0.7887000 (1750)\ttotal: 5m 28s\tremaining: 10m 10s\n"
     ]
    },
    {
     "name": "stdout",
     "output_type": "stream",
     "text": [
      "1775:\tlearn: 0.8279882\ttest: 0.7887428\tbest: 0.7889711 (1767)\ttotal: 5m 33s\tremaining: 10m 5s\n"
     ]
    },
    {
     "name": "stdout",
     "output_type": "stream",
     "text": [
      "1800:\tlearn: 0.8285786\ttest: 0.7887990\tbest: 0.7889711 (1767)\ttotal: 5m 38s\tremaining: 10m\n"
     ]
    },
    {
     "name": "stdout",
     "output_type": "stream",
     "text": [
      "1825:\tlearn: 0.8290943\ttest: 0.7888923\tbest: 0.7889711 (1767)\ttotal: 5m 42s\tremaining: 9m 55s\n"
     ]
    },
    {
     "name": "stdout",
     "output_type": "stream",
     "text": [
      "1850:\tlearn: 0.8295197\ttest: 0.7887050\tbest: 0.7889760 (1826)\ttotal: 5m 47s\tremaining: 9m 51s\n"
     ]
    },
    {
     "name": "stdout",
     "output_type": "stream",
     "text": [
      "1875:\tlearn: 0.8301492\ttest: 0.7887745\tbest: 0.7889803 (1857)\ttotal: 5m 52s\tremaining: 9m 46s\n"
     ]
    },
    {
     "name": "stdout",
     "output_type": "stream",
     "text": [
      "1900:\tlearn: 0.8305354\ttest: 0.7888238\tbest: 0.7889803 (1857)\ttotal: 5m 56s\tremaining: 9m 41s\n"
     ]
    },
    {
     "name": "stdout",
     "output_type": "stream",
     "text": [
      "1925:\tlearn: 0.8312214\ttest: 0.7885635\tbest: 0.7889803 (1857)\ttotal: 6m 1s\tremaining: 9m 37s\n"
     ]
    },
    {
     "name": "stdout",
     "output_type": "stream",
     "text": [
      "1950:\tlearn: 0.8315814\ttest: 0.7891053\tbest: 0.7891053 (1950)\ttotal: 6m 6s\tremaining: 9m 32s\n"
     ]
    },
    {
     "name": "stdout",
     "output_type": "stream",
     "text": [
      "1975:\tlearn: 0.8320742\ttest: 0.7886258\tbest: 0.7891920 (1966)\ttotal: 6m 10s\tremaining: 9m 27s\n"
     ]
    },
    {
     "name": "stdout",
     "output_type": "stream",
     "text": [
      "2000:\tlearn: 0.8324567\ttest: 0.7884701\tbest: 0.7891920 (1966)\ttotal: 6m 15s\tremaining: 9m 22s\n"
     ]
    },
    {
     "name": "stdout",
     "output_type": "stream",
     "text": [
      "2025:\tlearn: 0.8330880\ttest: 0.7887547\tbest: 0.7891920 (1966)\ttotal: 6m 20s\tremaining: 9m 18s\n"
     ]
    },
    {
     "name": "stdout",
     "output_type": "stream",
     "text": [
      "2050:\tlearn: 0.8336372\ttest: 0.7888827\tbest: 0.7891920 (1966)\ttotal: 6m 24s\tremaining: 9m 13s\n"
     ]
    },
    {
     "name": "stdout",
     "output_type": "stream",
     "text": [
      "2075:\tlearn: 0.8340455\ttest: 0.7888811\tbest: 0.7891920 (1966)\ttotal: 6m 29s\tremaining: 9m 8s\n"
     ]
    },
    {
     "name": "stdout",
     "output_type": "stream",
     "text": [
      "2100:\tlearn: 0.8345428\ttest: 0.7886966\tbest: 0.7891920 (1966)\ttotal: 6m 34s\tremaining: 9m 3s\n"
     ]
    },
    {
     "name": "stdout",
     "output_type": "stream",
     "text": [
      "2125:\tlearn: 0.8350549\ttest: 0.7891491\tbest: 0.7891920 (1966)\ttotal: 6m 38s\tremaining: 8m 59s\n"
     ]
    },
    {
     "name": "stdout",
     "output_type": "stream",
     "text": [
      "2150:\tlearn: 0.8355754\ttest: 0.7892427\tbest: 0.7893647 (2136)\ttotal: 6m 43s\tremaining: 8m 54s\n"
     ]
    },
    {
     "name": "stdout",
     "output_type": "stream",
     "text": [
      "2175:\tlearn: 0.8360784\ttest: 0.7890229\tbest: 0.7893647 (2136)\ttotal: 6m 48s\tremaining: 8m 49s\n"
     ]
    },
    {
     "name": "stdout",
     "output_type": "stream",
     "text": [
      "2200:\tlearn: 0.8364526\ttest: 0.7890335\tbest: 0.7893647 (2136)\ttotal: 6m 52s\tremaining: 8m 45s\n"
     ]
    },
    {
     "name": "stdout",
     "output_type": "stream",
     "text": [
      "2225:\tlearn: 0.8369019\ttest: 0.7890474\tbest: 0.7893647 (2136)\ttotal: 6m 57s\tremaining: 8m 40s\n"
     ]
    },
    {
     "name": "stdout",
     "output_type": "stream",
     "text": [
      "2250:\tlearn: 0.8373148\ttest: 0.7887428\tbest: 0.7893647 (2136)\ttotal: 7m 2s\tremaining: 8m 35s\n"
     ]
    },
    {
     "name": "stdout",
     "output_type": "stream",
     "text": [
      "2275:\tlearn: 0.8378014\ttest: 0.7883735\tbest: 0.7893647 (2136)\ttotal: 7m 6s\tremaining: 8m 31s\n"
     ]
    },
    {
     "name": "stdout",
     "output_type": "stream",
     "text": [
      "2300:\tlearn: 0.8381470\ttest: 0.7885029\tbest: 0.7893647 (2136)\ttotal: 7m 11s\tremaining: 8m 26s\n"
     ]
    },
    {
     "name": "stdout",
     "output_type": "stream",
     "text": [
      "2325:\tlearn: 0.8385066\ttest: 0.7884265\tbest: 0.7893647 (2136)\ttotal: 7m 16s\tremaining: 8m 21s\n"
     ]
    },
    {
     "name": "stdout",
     "output_type": "stream",
     "text": [
      "2350:\tlearn: 0.8389794\ttest: 0.7886030\tbest: 0.7893647 (2136)\ttotal: 7m 21s\tremaining: 8m 17s\n"
     ]
    },
    {
     "name": "stdout",
     "output_type": "stream",
     "text": [
      "2375:\tlearn: 0.8392841\ttest: 0.7889848\tbest: 0.7893647 (2136)\ttotal: 7m 25s\tremaining: 8m 12s\n"
     ]
    },
    {
     "name": "stdout",
     "output_type": "stream",
     "text": [
      "2400:\tlearn: 0.8397028\ttest: 0.7884395\tbest: 0.7893647 (2136)\ttotal: 7m 30s\tremaining: 8m 7s\n"
     ]
    },
    {
     "name": "stdout",
     "output_type": "stream",
     "text": [
      "2425:\tlearn: 0.8400311\ttest: 0.7885742\tbest: 0.7893647 (2136)\ttotal: 7m 35s\tremaining: 8m 2s\n"
     ]
    },
    {
     "name": "stdout",
     "output_type": "stream",
     "text": [
      "2450:\tlearn: 0.8404893\ttest: 0.7885759\tbest: 0.7893647 (2136)\ttotal: 7m 39s\tremaining: 7m 58s\n"
     ]
    },
    {
     "name": "stdout",
     "output_type": "stream",
     "text": [
      "2475:\tlearn: 0.8410600\ttest: 0.7888560\tbest: 0.7893647 (2136)\ttotal: 7m 44s\tremaining: 7m 53s\n"
     ]
    },
    {
     "name": "stdout",
     "output_type": "stream",
     "text": [
      "2500:\tlearn: 0.8414655\ttest: 0.7889516\tbest: 0.7893647 (2136)\ttotal: 7m 49s\tremaining: 7m 48s\n"
     ]
    },
    {
     "name": "stdout",
     "output_type": "stream",
     "text": [
      "2525:\tlearn: 0.8415855\ttest: 0.7886815\tbest: 0.7893647 (2136)\ttotal: 7m 53s\tremaining: 7m 44s\n"
     ]
    },
    {
     "name": "stdout",
     "output_type": "stream",
     "text": [
      "2550:\tlearn: 0.8421428\ttest: 0.7886593\tbest: 0.7893647 (2136)\ttotal: 7m 58s\tremaining: 7m 39s\n"
     ]
    },
    {
     "name": "stdout",
     "output_type": "stream",
     "text": [
      "2575:\tlearn: 0.8426967\ttest: 0.7884341\tbest: 0.7893647 (2136)\ttotal: 8m 3s\tremaining: 7m 34s\n"
     ]
    },
    {
     "name": "stdout",
     "output_type": "stream",
     "text": [
      "2600:\tlearn: 0.8430498\ttest: 0.7883963\tbest: 0.7893647 (2136)\ttotal: 8m 7s\tremaining: 7m 30s\n"
     ]
    },
    {
     "name": "stdout",
     "output_type": "stream",
     "text": [
      "2625:\tlearn: 0.8436987\ttest: 0.7888672\tbest: 0.7893647 (2136)\ttotal: 8m 12s\tremaining: 7m 25s\n"
     ]
    },
    {
     "name": "stdout",
     "output_type": "stream",
     "text": [
      "2650:\tlearn: 0.8440153\ttest: 0.7880923\tbest: 0.7893647 (2136)\ttotal: 8m 17s\tremaining: 7m 20s\n"
     ]
    },
    {
     "name": "stdout",
     "output_type": "stream",
     "text": [
      "2675:\tlearn: 0.8444082\ttest: 0.7883317\tbest: 0.7893647 (2136)\ttotal: 8m 21s\tremaining: 7m 15s\n"
     ]
    },
    {
     "name": "stdout",
     "output_type": "stream",
     "text": [
      "2700:\tlearn: 0.8448639\ttest: 0.7883566\tbest: 0.7893647 (2136)\ttotal: 8m 26s\tremaining: 7m 11s\n"
     ]
    },
    {
     "name": "stdout",
     "output_type": "stream",
     "text": [
      "2725:\tlearn: 0.8454015\ttest: 0.7884849\tbest: 0.7893647 (2136)\ttotal: 8m 31s\tremaining: 7m 6s\n"
     ]
    },
    {
     "name": "stdout",
     "output_type": "stream",
     "text": [
      "2750:\tlearn: 0.8458541\ttest: 0.7880072\tbest: 0.7893647 (2136)\ttotal: 8m 35s\tremaining: 7m 1s\n"
     ]
    },
    {
     "name": "stdout",
     "output_type": "stream",
     "text": [
      "2775:\tlearn: 0.8461952\ttest: 0.7883494\tbest: 0.7893647 (2136)\ttotal: 8m 40s\tremaining: 6m 57s\n"
     ]
    },
    {
     "name": "stdout",
     "output_type": "stream",
     "text": [
      "2800:\tlearn: 0.8467485\ttest: 0.7881600\tbest: 0.7893647 (2136)\ttotal: 8m 45s\tremaining: 6m 52s\n"
     ]
    },
    {
     "name": "stdout",
     "output_type": "stream",
     "text": [
      "2825:\tlearn: 0.8471927\ttest: 0.7881223\tbest: 0.7893647 (2136)\ttotal: 8m 49s\tremaining: 6m 47s\n"
     ]
    },
    {
     "name": "stdout",
     "output_type": "stream",
     "text": [
      "2850:\tlearn: 0.8475041\ttest: 0.7884214\tbest: 0.7893647 (2136)\ttotal: 8m 54s\tremaining: 6m 43s\n"
     ]
    },
    {
     "name": "stdout",
     "output_type": "stream",
     "text": [
      "2875:\tlearn: 0.8480300\ttest: 0.7879405\tbest: 0.7893647 (2136)\ttotal: 8m 59s\tremaining: 6m 38s\n"
     ]
    },
    {
     "name": "stdout",
     "output_type": "stream",
     "text": [
      "2900:\tlearn: 0.8485492\ttest: 0.7879008\tbest: 0.7893647 (2136)\ttotal: 9m 4s\tremaining: 6m 33s\n"
     ]
    },
    {
     "name": "stdout",
     "output_type": "stream",
     "text": [
      "2925:\tlearn: 0.8491208\ttest: 0.7878369\tbest: 0.7893647 (2136)\ttotal: 9m 8s\tremaining: 6m 28s\n"
     ]
    },
    {
     "name": "stdout",
     "output_type": "stream",
     "text": [
      "2950:\tlearn: 0.8497009\ttest: 0.7883295\tbest: 0.7893647 (2136)\ttotal: 9m 13s\tremaining: 6m 24s\n"
     ]
    },
    {
     "name": "stdout",
     "output_type": "stream",
     "text": [
      "2975:\tlearn: 0.8499169\ttest: 0.7883528\tbest: 0.7893647 (2136)\ttotal: 9m 18s\tremaining: 6m 19s\n"
     ]
    },
    {
     "name": "stdout",
     "output_type": "stream",
     "text": [
      "3000:\tlearn: 0.8503106\ttest: 0.7882613\tbest: 0.7893647 (2136)\ttotal: 9m 22s\tremaining: 6m 14s\n"
     ]
    },
    {
     "name": "stdout",
     "output_type": "stream",
     "text": [
      "3025:\tlearn: 0.8508002\ttest: 0.7884742\tbest: 0.7893647 (2136)\ttotal: 9m 27s\tremaining: 6m 10s\n"
     ]
    },
    {
     "name": "stdout",
     "output_type": "stream",
     "text": [
      "3050:\tlearn: 0.8510444\ttest: 0.7883307\tbest: 0.7893647 (2136)\ttotal: 9m 32s\tremaining: 6m 5s\n"
     ]
    },
    {
     "name": "stdout",
     "output_type": "stream",
     "text": [
      "3075:\tlearn: 0.8514996\ttest: 0.7882140\tbest: 0.7893647 (2136)\ttotal: 9m 36s\tremaining: 6m\n"
     ]
    },
    {
     "name": "stdout",
     "output_type": "stream",
     "text": [
      "3100:\tlearn: 0.8519050\ttest: 0.7887060\tbest: 0.7893647 (2136)\ttotal: 9m 41s\tremaining: 5m 56s\n"
     ]
    },
    {
     "name": "stdout",
     "output_type": "stream",
     "text": [
      "3125:\tlearn: 0.8520127\ttest: 0.7890244\tbest: 0.7893647 (2136)\ttotal: 9m 46s\tremaining: 5m 51s\n"
     ]
    },
    {
     "name": "stdout",
     "output_type": "stream",
     "text": [
      "3150:\tlearn: 0.8524235\ttest: 0.7882860\tbest: 0.7893647 (2136)\ttotal: 9m 50s\tremaining: 5m 46s\n"
     ]
    },
    {
     "name": "stdout",
     "output_type": "stream",
     "text": [
      "3175:\tlearn: 0.8529339\ttest: 0.7885383\tbest: 0.7893647 (2136)\ttotal: 9m 55s\tremaining: 5m 41s\n"
     ]
    },
    {
     "name": "stdout",
     "output_type": "stream",
     "text": [
      "3200:\tlearn: 0.8533478\ttest: 0.7885831\tbest: 0.7893647 (2136)\ttotal: 10m\tremaining: 5m 37s\n"
     ]
    },
    {
     "name": "stdout",
     "output_type": "stream",
     "text": [
      "3225:\tlearn: 0.8538759\ttest: 0.7886286\tbest: 0.7893647 (2136)\ttotal: 10m 4s\tremaining: 5m 32s\n"
     ]
    },
    {
     "name": "stdout",
     "output_type": "stream",
     "text": [
      "3250:\tlearn: 0.8541037\ttest: 0.7887331\tbest: 0.7893647 (2136)\ttotal: 10m 9s\tremaining: 5m 27s\n"
     ]
    },
    {
     "name": "stdout",
     "output_type": "stream",
     "text": [
      "3275:\tlearn: 0.8544683\ttest: 0.7887203\tbest: 0.7893647 (2136)\ttotal: 10m 14s\tremaining: 5m 23s\n"
     ]
    },
    {
     "name": "stdout",
     "output_type": "stream",
     "text": [
      "3300:\tlearn: 0.8548506\ttest: 0.7884666\tbest: 0.7893647 (2136)\ttotal: 10m 18s\tremaining: 5m 18s\n"
     ]
    },
    {
     "name": "stdout",
     "output_type": "stream",
     "text": [
      "3325:\tlearn: 0.8553885\ttest: 0.7886628\tbest: 0.7893647 (2136)\ttotal: 10m 23s\tremaining: 5m 13s\n"
     ]
    },
    {
     "name": "stdout",
     "output_type": "stream",
     "text": [
      "3350:\tlearn: 0.8558005\ttest: 0.7886810\tbest: 0.7893647 (2136)\ttotal: 10m 28s\tremaining: 5m 9s\n"
     ]
    },
    {
     "name": "stdout",
     "output_type": "stream",
     "text": [
      "3375:\tlearn: 0.8561221\ttest: 0.7884326\tbest: 0.7893647 (2136)\ttotal: 10m 32s\tremaining: 5m 4s\n"
     ]
    },
    {
     "name": "stdout",
     "output_type": "stream",
     "text": [
      "3400:\tlearn: 0.8565455\ttest: 0.7883126\tbest: 0.7893647 (2136)\ttotal: 10m 37s\tremaining: 4m 59s\n"
     ]
    },
    {
     "name": "stdout",
     "output_type": "stream",
     "text": [
      "3425:\tlearn: 0.8570669\ttest: 0.7887385\tbest: 0.7893647 (2136)\ttotal: 10m 42s\tremaining: 4m 54s\n"
     ]
    },
    {
     "name": "stdout",
     "output_type": "stream",
     "text": [
      "3450:\tlearn: 0.8573414\ttest: 0.7883821\tbest: 0.7893647 (2136)\ttotal: 10m 46s\tremaining: 4m 50s\n"
     ]
    },
    {
     "name": "stdout",
     "output_type": "stream",
     "text": [
      "3475:\tlearn: 0.8578638\ttest: 0.7887245\tbest: 0.7893647 (2136)\ttotal: 10m 51s\tremaining: 4m 45s\n"
     ]
    },
    {
     "name": "stdout",
     "output_type": "stream",
     "text": [
      "3500:\tlearn: 0.8582886\ttest: 0.7887720\tbest: 0.7893647 (2136)\ttotal: 10m 56s\tremaining: 4m 40s\n"
     ]
    },
    {
     "name": "stdout",
     "output_type": "stream",
     "text": [
      "3525:\tlearn: 0.8589137\ttest: 0.7886495\tbest: 0.7893647 (2136)\ttotal: 11m\tremaining: 4m 36s\n"
     ]
    },
    {
     "name": "stdout",
     "output_type": "stream",
     "text": [
      "3550:\tlearn: 0.8590452\ttest: 0.7889716\tbest: 0.7893647 (2136)\ttotal: 11m 5s\tremaining: 4m 31s\n"
     ]
    },
    {
     "name": "stdout",
     "output_type": "stream",
     "text": [
      "3575:\tlearn: 0.8596299\ttest: 0.7885353\tbest: 0.7893647 (2136)\ttotal: 11m 10s\tremaining: 4m 26s\n"
     ]
    },
    {
     "name": "stdout",
     "output_type": "stream",
     "text": [
      "3600:\tlearn: 0.8600777\ttest: 0.7887685\tbest: 0.7893647 (2136)\ttotal: 11m 14s\tremaining: 4m 22s\n"
     ]
    },
    {
     "name": "stdout",
     "output_type": "stream",
     "text": [
      "3625:\tlearn: 0.8603297\ttest: 0.7889823\tbest: 0.7893647 (2136)\ttotal: 11m 19s\tremaining: 4m 17s\n"
     ]
    },
    {
     "name": "stdout",
     "output_type": "stream",
     "text": [
      "3650:\tlearn: 0.8608246\ttest: 0.7891555\tbest: 0.7893647 (2136)\ttotal: 11m 24s\tremaining: 4m 12s\n"
     ]
    },
    {
     "name": "stdout",
     "output_type": "stream",
     "text": [
      "3675:\tlearn: 0.8612862\ttest: 0.7887989\tbest: 0.7893647 (2136)\ttotal: 11m 28s\tremaining: 4m 8s\n"
     ]
    },
    {
     "name": "stdout",
     "output_type": "stream",
     "text": [
      "3700:\tlearn: 0.8616038\ttest: 0.7887791\tbest: 0.7893647 (2136)\ttotal: 11m 33s\tremaining: 4m 3s\n"
     ]
    },
    {
     "name": "stdout",
     "output_type": "stream",
     "text": [
      "3725:\tlearn: 0.8620669\ttest: 0.7890179\tbest: 0.7893647 (2136)\ttotal: 11m 38s\tremaining: 3m 58s\n"
     ]
    },
    {
     "name": "stdout",
     "output_type": "stream",
     "text": [
      "3750:\tlearn: 0.8623830\ttest: 0.7889371\tbest: 0.7893647 (2136)\ttotal: 11m 42s\tremaining: 3m 54s\n"
     ]
    },
    {
     "name": "stdout",
     "output_type": "stream",
     "text": [
      "3775:\tlearn: 0.8628590\ttest: 0.7887310\tbest: 0.7893647 (2136)\ttotal: 11m 47s\tremaining: 3m 49s\n"
     ]
    },
    {
     "name": "stdout",
     "output_type": "stream",
     "text": [
      "3800:\tlearn: 0.8632362\ttest: 0.7885193\tbest: 0.7893647 (2136)\ttotal: 11m 52s\tremaining: 3m 44s\n"
     ]
    },
    {
     "name": "stdout",
     "output_type": "stream",
     "text": [
      "3825:\tlearn: 0.8635404\ttest: 0.7888214\tbest: 0.7893647 (2136)\ttotal: 11m 56s\tremaining: 3m 39s\n"
     ]
    },
    {
     "name": "stdout",
     "output_type": "stream",
     "text": [
      "3850:\tlearn: 0.8639590\ttest: 0.7888127\tbest: 0.7893647 (2136)\ttotal: 12m 1s\tremaining: 3m 35s\n"
     ]
    },
    {
     "name": "stdout",
     "output_type": "stream",
     "text": [
      "3875:\tlearn: 0.8644402\ttest: 0.7886073\tbest: 0.7893647 (2136)\ttotal: 12m 6s\tremaining: 3m 30s\n"
     ]
    },
    {
     "name": "stdout",
     "output_type": "stream",
     "text": [
      "3900:\tlearn: 0.8648584\ttest: 0.7888205\tbest: 0.7893647 (2136)\ttotal: 12m 10s\tremaining: 3m 25s\n"
     ]
    },
    {
     "name": "stdout",
     "output_type": "stream",
     "text": [
      "3925:\tlearn: 0.8652200\ttest: 0.7887868\tbest: 0.7893647 (2136)\ttotal: 12m 15s\tremaining: 3m 21s\n"
     ]
    },
    {
     "name": "stdout",
     "output_type": "stream",
     "text": [
      "3950:\tlearn: 0.8656969\ttest: 0.7885154\tbest: 0.7893647 (2136)\ttotal: 12m 20s\tremaining: 3m 16s\n"
     ]
    },
    {
     "name": "stdout",
     "output_type": "stream",
     "text": [
      "3975:\tlearn: 0.8660662\ttest: 0.7888976\tbest: 0.7893647 (2136)\ttotal: 12m 24s\tremaining: 3m 11s\n"
     ]
    },
    {
     "name": "stdout",
     "output_type": "stream",
     "text": [
      "4000:\tlearn: 0.8666011\ttest: 0.7886871\tbest: 0.7893647 (2136)\ttotal: 12m 29s\tremaining: 3m 7s\n"
     ]
    },
    {
     "name": "stdout",
     "output_type": "stream",
     "text": [
      "4025:\tlearn: 0.8670059\ttest: 0.7889039\tbest: 0.7893647 (2136)\ttotal: 12m 34s\tremaining: 3m 2s\n"
     ]
    },
    {
     "name": "stdout",
     "output_type": "stream",
     "text": [
      "4050:\tlearn: 0.8674075\ttest: 0.7888390\tbest: 0.7893647 (2136)\ttotal: 12m 38s\tremaining: 2m 57s\n"
     ]
    },
    {
     "name": "stdout",
     "output_type": "stream",
     "text": [
      "4075:\tlearn: 0.8678868\ttest: 0.7887159\tbest: 0.7893647 (2136)\ttotal: 12m 43s\tremaining: 2m 53s\n"
     ]
    },
    {
     "name": "stdout",
     "output_type": "stream",
     "text": [
      "4100:\tlearn: 0.8682746\ttest: 0.7887000\tbest: 0.7893647 (2136)\ttotal: 12m 48s\tremaining: 2m 48s\n"
     ]
    },
    {
     "name": "stdout",
     "output_type": "stream",
     "text": [
      "4125:\tlearn: 0.8687450\ttest: 0.7889055\tbest: 0.7893647 (2136)\ttotal: 12m 52s\tremaining: 2m 43s\n"
     ]
    },
    {
     "name": "stdout",
     "output_type": "stream",
     "text": [
      "4150:\tlearn: 0.8690245\ttest: 0.7888720\tbest: 0.7893647 (2136)\ttotal: 12m 57s\tremaining: 2m 39s\n"
     ]
    },
    {
     "name": "stdout",
     "output_type": "stream",
     "text": [
      "4175:\tlearn: 0.8693729\ttest: 0.7888727\tbest: 0.7893647 (2136)\ttotal: 13m 2s\tremaining: 2m 34s\n"
     ]
    },
    {
     "name": "stdout",
     "output_type": "stream",
     "text": [
      "4200:\tlearn: 0.8697809\ttest: 0.7895064\tbest: 0.7896928 (4196)\ttotal: 13m 6s\tremaining: 2m 29s\n"
     ]
    },
    {
     "name": "stdout",
     "output_type": "stream",
     "text": [
      "4225:\tlearn: 0.8701294\ttest: 0.7895529\tbest: 0.7896928 (4196)\ttotal: 13m 11s\tremaining: 2m 24s\n"
     ]
    },
    {
     "name": "stdout",
     "output_type": "stream",
     "text": [
      "4250:\tlearn: 0.8705394\ttest: 0.7891527\tbest: 0.7896928 (4196)\ttotal: 13m 16s\tremaining: 2m 20s\n"
     ]
    },
    {
     "name": "stdout",
     "output_type": "stream",
     "text": [
      "4275:\tlearn: 0.8709486\ttest: 0.7892370\tbest: 0.7896928 (4196)\ttotal: 13m 21s\tremaining: 2m 15s\n"
     ]
    },
    {
     "name": "stdout",
     "output_type": "stream",
     "text": [
      "4300:\tlearn: 0.8713016\ttest: 0.7892847\tbest: 0.7896928 (4196)\ttotal: 13m 25s\tremaining: 2m 10s\n"
     ]
    },
    {
     "name": "stdout",
     "output_type": "stream",
     "text": [
      "4325:\tlearn: 0.8718325\ttest: 0.7890785\tbest: 0.7896928 (4196)\ttotal: 13m 30s\tremaining: 2m 6s\n"
     ]
    },
    {
     "name": "stdout",
     "output_type": "stream",
     "text": [
      "4350:\tlearn: 0.8722571\ttest: 0.7890396\tbest: 0.7896928 (4196)\ttotal: 13m 35s\tremaining: 2m 1s\n"
     ]
    },
    {
     "name": "stdout",
     "output_type": "stream",
     "text": [
      "4375:\tlearn: 0.8725530\ttest: 0.7891464\tbest: 0.7896928 (4196)\ttotal: 13m 39s\tremaining: 1m 56s\n"
     ]
    },
    {
     "name": "stdout",
     "output_type": "stream",
     "text": [
      "4400:\tlearn: 0.8728290\ttest: 0.7890819\tbest: 0.7896928 (4196)\ttotal: 13m 44s\tremaining: 1m 52s\n"
     ]
    },
    {
     "name": "stdout",
     "output_type": "stream",
     "text": [
      "4425:\tlearn: 0.8732407\ttest: 0.7891692\tbest: 0.7896928 (4196)\ttotal: 13m 49s\tremaining: 1m 47s\n"
     ]
    },
    {
     "name": "stdout",
     "output_type": "stream",
     "text": [
      "4450:\tlearn: 0.8734738\ttest: 0.7892946\tbest: 0.7896928 (4196)\ttotal: 13m 53s\tremaining: 1m 42s\n"
     ]
    },
    {
     "name": "stdout",
     "output_type": "stream",
     "text": [
      "4475:\tlearn: 0.8738615\ttest: 0.7892915\tbest: 0.7896928 (4196)\ttotal: 13m 58s\tremaining: 1m 38s\n"
     ]
    },
    {
     "name": "stdout",
     "output_type": "stream",
     "text": [
      "4500:\tlearn: 0.8744309\ttest: 0.7890826\tbest: 0.7896928 (4196)\ttotal: 14m 3s\tremaining: 1m 33s\n"
     ]
    },
    {
     "name": "stdout",
     "output_type": "stream",
     "text": [
      "4525:\tlearn: 0.8748894\ttest: 0.7891263\tbest: 0.7896928 (4196)\ttotal: 14m 7s\tremaining: 1m 28s\n"
     ]
    },
    {
     "name": "stdout",
     "output_type": "stream",
     "text": [
      "4550:\tlearn: 0.8751666\ttest: 0.7888768\tbest: 0.7896928 (4196)\ttotal: 14m 12s\tremaining: 1m 24s\n"
     ]
    },
    {
     "name": "stdout",
     "output_type": "stream",
     "text": [
      "4575:\tlearn: 0.8753910\ttest: 0.7892200\tbest: 0.7896928 (4196)\ttotal: 14m 17s\tremaining: 1m 19s\n"
     ]
    },
    {
     "name": "stdout",
     "output_type": "stream",
     "text": [
      "4600:\tlearn: 0.8757657\ttest: 0.7890870\tbest: 0.7896928 (4196)\ttotal: 14m 21s\tremaining: 1m 14s\n"
     ]
    },
    {
     "name": "stdout",
     "output_type": "stream",
     "text": [
      "4625:\tlearn: 0.8761491\ttest: 0.7892224\tbest: 0.7896928 (4196)\ttotal: 14m 26s\tremaining: 1m 10s\n"
     ]
    },
    {
     "name": "stdout",
     "output_type": "stream",
     "text": [
      "4650:\tlearn: 0.8764685\ttest: 0.7893477\tbest: 0.7896928 (4196)\ttotal: 14m 31s\tremaining: 1m 5s\n"
     ]
    },
    {
     "name": "stdout",
     "output_type": "stream",
     "text": [
      "4675:\tlearn: 0.8768561\ttest: 0.7897721\tbest: 0.7897721 (4675)\ttotal: 14m 35s\tremaining: 1m\n"
     ]
    },
    {
     "name": "stdout",
     "output_type": "stream",
     "text": [
      "4700:\tlearn: 0.8770510\ttest: 0.7894394\tbest: 0.7898147 (4679)\ttotal: 14m 40s\tremaining: 56s\n"
     ]
    },
    {
     "name": "stdout",
     "output_type": "stream",
     "text": [
      "4725:\tlearn: 0.8775913\ttest: 0.7897750\tbest: 0.7899414 (4715)\ttotal: 14m 45s\tremaining: 51.3s\n"
     ]
    },
    {
     "name": "stdout",
     "output_type": "stream",
     "text": [
      "4750:\tlearn: 0.8780984\ttest: 0.7897740\tbest: 0.7899849 (4740)\ttotal: 14m 49s\tremaining: 46.6s\n"
     ]
    },
    {
     "name": "stdout",
     "output_type": "stream",
     "text": [
      "4775:\tlearn: 0.8785614\ttest: 0.7897368\tbest: 0.7899899 (4760)\ttotal: 14m 54s\tremaining: 42s\n"
     ]
    },
    {
     "name": "stdout",
     "output_type": "stream",
     "text": [
      "4800:\tlearn: 0.8788499\ttest: 0.7895515\tbest: 0.7899899 (4760)\ttotal: 14m 59s\tremaining: 37.3s\n"
     ]
    },
    {
     "name": "stdout",
     "output_type": "stream",
     "text": [
      "4825:\tlearn: 0.8793775\ttest: 0.7898248\tbest: 0.7899899 (4760)\ttotal: 15m 3s\tremaining: 32.6s\n"
     ]
    },
    {
     "name": "stdout",
     "output_type": "stream",
     "text": [
      "4850:\tlearn: 0.8797842\ttest: 0.7894887\tbest: 0.7899899 (4760)\ttotal: 15m 8s\tremaining: 27.9s\n"
     ]
    },
    {
     "name": "stdout",
     "output_type": "stream",
     "text": [
      "4875:\tlearn: 0.8799946\ttest: 0.7896364\tbest: 0.7899899 (4760)\ttotal: 15m 13s\tremaining: 23.2s\n"
     ]
    },
    {
     "name": "stdout",
     "output_type": "stream",
     "text": [
      "4900:\tlearn: 0.8804007\ttest: 0.7894287\tbest: 0.7899899 (4760)\ttotal: 15m 17s\tremaining: 18.5s\n"
     ]
    },
    {
     "name": "stdout",
     "output_type": "stream",
     "text": [
      "4925:\tlearn: 0.8807495\ttest: 0.7893295\tbest: 0.7899899 (4760)\ttotal: 15m 22s\tremaining: 13.9s\n"
     ]
    },
    {
     "name": "stdout",
     "output_type": "stream",
     "text": [
      "4950:\tlearn: 0.8811260\ttest: 0.7888880\tbest: 0.7899899 (4760)\ttotal: 15m 27s\tremaining: 9.18s\n"
     ]
    },
    {
     "name": "stdout",
     "output_type": "stream",
     "text": [
      "4975:\tlearn: 0.8815625\ttest: 0.7892043\tbest: 0.7899899 (4760)\ttotal: 15m 31s\tremaining: 4.5s\n"
     ]
    },
    {
     "name": "stdout",
     "output_type": "stream",
     "text": [
      "4999:\tlearn: 0.8818217\ttest: 0.7892900\tbest: 0.7899899 (4760)\ttotal: 15m 36s\tremaining: 0us\n",
      "\n",
      "bestTest = 0.7899899312\n",
      "bestIteration = 4760\n",
      "\n"
     ]
    },
    {
     "name": "stdout",
     "output_type": "stream",
     "text": [
      "######################################## training model 5/5 ########################################\n"
     ]
    },
    {
     "name": "stdout",
     "output_type": "stream",
     "text": [
      "0:\tlearn: 0.4898458\ttest: 0.4956677\tbest: 0.4956677 (0)\ttotal: 495ms\tremaining: 41m 13s\n"
     ]
    },
    {
     "name": "stdout",
     "output_type": "stream",
     "text": [
      "25:\tlearn: 0.7191884\ttest: 0.7245027\tbest: 0.7245027 (25)\ttotal: 5.12s\tremaining: 16m 19s\n"
     ]
    },
    {
     "name": "stdout",
     "output_type": "stream",
     "text": [
      "50:\tlearn: 0.7394604\ttest: 0.7455075\tbest: 0.7455075 (50)\ttotal: 9.82s\tremaining: 15m 53s\n"
     ]
    },
    {
     "name": "stdout",
     "output_type": "stream",
     "text": [
      "75:\tlearn: 0.7472037\ttest: 0.7533161\tbest: 0.7533440 (73)\ttotal: 14.5s\tremaining: 15m 38s\n"
     ]
    },
    {
     "name": "stdout",
     "output_type": "stream",
     "text": [
      "100:\tlearn: 0.7513329\ttest: 0.7575628\tbest: 0.7575999 (99)\ttotal: 19.2s\tremaining: 15m 29s\n"
     ]
    },
    {
     "name": "stdout",
     "output_type": "stream",
     "text": [
      "125:\tlearn: 0.7548737\ttest: 0.7612636\tbest: 0.7612636 (125)\ttotal: 23.9s\tremaining: 15m 23s\n"
     ]
    },
    {
     "name": "stdout",
     "output_type": "stream",
     "text": [
      "150:\tlearn: 0.7577458\ttest: 0.7637002\tbest: 0.7639011 (149)\ttotal: 28.6s\tremaining: 15m 16s\n"
     ]
    },
    {
     "name": "stdout",
     "output_type": "stream",
     "text": [
      "175:\tlearn: 0.7599217\ttest: 0.7655752\tbest: 0.7657900 (172)\ttotal: 33.2s\tremaining: 15m 10s\n"
     ]
    },
    {
     "name": "stdout",
     "output_type": "stream",
     "text": [
      "200:\tlearn: 0.7614849\ttest: 0.7678968\tbest: 0.7680574 (198)\ttotal: 37.8s\tremaining: 15m 3s\n"
     ]
    },
    {
     "name": "stdout",
     "output_type": "stream",
     "text": [
      "225:\tlearn: 0.7631399\ttest: 0.7693051\tbest: 0.7693051 (225)\ttotal: 42.5s\tremaining: 14m 57s\n"
     ]
    },
    {
     "name": "stdout",
     "output_type": "stream",
     "text": [
      "250:\tlearn: 0.7650309\ttest: 0.7712145\tbest: 0.7714840 (249)\ttotal: 47.2s\tremaining: 14m 52s\n"
     ]
    },
    {
     "name": "stdout",
     "output_type": "stream",
     "text": [
      "275:\tlearn: 0.7672026\ttest: 0.7733917\tbest: 0.7738662 (273)\ttotal: 51.9s\tremaining: 14m 48s\n"
     ]
    },
    {
     "name": "stdout",
     "output_type": "stream",
     "text": [
      "300:\tlearn: 0.7712514\ttest: 0.7772240\tbest: 0.7772240 (300)\ttotal: 56.6s\tremaining: 14m 44s\n"
     ]
    },
    {
     "name": "stdout",
     "output_type": "stream",
     "text": [
      "325:\tlearn: 0.7750593\ttest: 0.7814399\tbest: 0.7814399 (325)\ttotal: 1m 1s\tremaining: 14m 39s\n"
     ]
    },
    {
     "name": "stdout",
     "output_type": "stream",
     "text": [
      "350:\tlearn: 0.7789264\ttest: 0.7852242\tbest: 0.7852473 (349)\ttotal: 1m 6s\tremaining: 14m 35s\n"
     ]
    },
    {
     "name": "stdout",
     "output_type": "stream",
     "text": [
      "375:\tlearn: 0.7819841\ttest: 0.7872717\tbest: 0.7875749 (373)\ttotal: 1m 10s\tremaining: 14m 30s\n"
     ]
    },
    {
     "name": "stdout",
     "output_type": "stream",
     "text": [
      "400:\tlearn: 0.7842601\ttest: 0.7887068\tbest: 0.7887068 (400)\ttotal: 1m 15s\tremaining: 14m 25s\n"
     ]
    },
    {
     "name": "stdout",
     "output_type": "stream",
     "text": [
      "425:\tlearn: 0.7858193\ttest: 0.7895563\tbest: 0.7895922 (424)\ttotal: 1m 20s\tremaining: 14m 21s\n"
     ]
    },
    {
     "name": "stdout",
     "output_type": "stream",
     "text": [
      "450:\tlearn: 0.7873519\ttest: 0.7905340\tbest: 0.7905944 (449)\ttotal: 1m 24s\tremaining: 14m 16s\n"
     ]
    },
    {
     "name": "stdout",
     "output_type": "stream",
     "text": [
      "475:\tlearn: 0.7886203\ttest: 0.7911328\tbest: 0.7912966 (474)\ttotal: 1m 29s\tremaining: 14m 12s\n"
     ]
    },
    {
     "name": "stdout",
     "output_type": "stream",
     "text": [
      "500:\tlearn: 0.7903314\ttest: 0.7918378\tbest: 0.7920408 (496)\ttotal: 1m 34s\tremaining: 14m 7s\n"
     ]
    },
    {
     "name": "stdout",
     "output_type": "stream",
     "text": [
      "525:\tlearn: 0.7917519\ttest: 0.7925880\tbest: 0.7925978 (523)\ttotal: 1m 39s\tremaining: 14m 2s\n"
     ]
    },
    {
     "name": "stdout",
     "output_type": "stream",
     "text": [
      "550:\tlearn: 0.7930184\ttest: 0.7930067\tbest: 0.7930067 (550)\ttotal: 1m 43s\tremaining: 13m 57s\n"
     ]
    },
    {
     "name": "stdout",
     "output_type": "stream",
     "text": [
      "575:\tlearn: 0.7940268\ttest: 0.7928519\tbest: 0.7931918 (563)\ttotal: 1m 48s\tremaining: 13m 53s\n"
     ]
    },
    {
     "name": "stdout",
     "output_type": "stream",
     "text": [
      "600:\tlearn: 0.7953003\ttest: 0.7932747\tbest: 0.7934333 (592)\ttotal: 1m 53s\tremaining: 13m 48s\n"
     ]
    },
    {
     "name": "stdout",
     "output_type": "stream",
     "text": [
      "625:\tlearn: 0.7960520\ttest: 0.7936375\tbest: 0.7936375 (625)\ttotal: 1m 57s\tremaining: 13m 44s\n"
     ]
    },
    {
     "name": "stdout",
     "output_type": "stream",
     "text": [
      "650:\tlearn: 0.7970984\ttest: 0.7933505\tbest: 0.7936375 (625)\ttotal: 2m 2s\tremaining: 13m 39s\n"
     ]
    },
    {
     "name": "stdout",
     "output_type": "stream",
     "text": [
      "675:\tlearn: 0.7980146\ttest: 0.7940186\tbest: 0.7940186 (675)\ttotal: 2m 7s\tremaining: 13m 34s\n"
     ]
    },
    {
     "name": "stdout",
     "output_type": "stream",
     "text": [
      "700:\tlearn: 0.7987448\ttest: 0.7940971\tbest: 0.7942813 (695)\ttotal: 2m 12s\tremaining: 13m 29s\n"
     ]
    },
    {
     "name": "stdout",
     "output_type": "stream",
     "text": [
      "725:\tlearn: 0.7998259\ttest: 0.7944784\tbest: 0.7944808 (719)\ttotal: 2m 16s\tremaining: 13m 25s\n"
     ]
    },
    {
     "name": "stdout",
     "output_type": "stream",
     "text": [
      "750:\tlearn: 0.8003305\ttest: 0.7946896\tbest: 0.7949536 (737)\ttotal: 2m 21s\tremaining: 13m 20s\n"
     ]
    },
    {
     "name": "stdout",
     "output_type": "stream",
     "text": [
      "775:\tlearn: 0.8010944\ttest: 0.7952713\tbest: 0.7952713 (775)\ttotal: 2m 26s\tremaining: 13m 15s\n"
     ]
    },
    {
     "name": "stdout",
     "output_type": "stream",
     "text": [
      "800:\tlearn: 0.8018723\ttest: 0.7955009\tbest: 0.7955009 (800)\ttotal: 2m 30s\tremaining: 13m 10s\n"
     ]
    },
    {
     "name": "stdout",
     "output_type": "stream",
     "text": [
      "825:\tlearn: 0.8027551\ttest: 0.7958821\tbest: 0.7958821 (825)\ttotal: 2m 35s\tremaining: 13m 6s\n"
     ]
    },
    {
     "name": "stdout",
     "output_type": "stream",
     "text": [
      "850:\tlearn: 0.8036029\ttest: 0.7954725\tbest: 0.7959903 (841)\ttotal: 2m 40s\tremaining: 13m 1s\n"
     ]
    },
    {
     "name": "stdout",
     "output_type": "stream",
     "text": [
      "875:\tlearn: 0.8042335\ttest: 0.7954611\tbest: 0.7959903 (841)\ttotal: 2m 45s\tremaining: 12m 56s\n"
     ]
    },
    {
     "name": "stdout",
     "output_type": "stream",
     "text": [
      "900:\tlearn: 0.8051223\ttest: 0.7955025\tbest: 0.7959903 (841)\ttotal: 2m 49s\tremaining: 12m 52s\n"
     ]
    },
    {
     "name": "stdout",
     "output_type": "stream",
     "text": [
      "925:\tlearn: 0.8058889\ttest: 0.7955120\tbest: 0.7959903 (841)\ttotal: 2m 54s\tremaining: 12m 47s\n"
     ]
    },
    {
     "name": "stdout",
     "output_type": "stream",
     "text": [
      "950:\tlearn: 0.8066721\ttest: 0.7959882\tbest: 0.7959903 (841)\ttotal: 2m 59s\tremaining: 12m 42s\n"
     ]
    },
    {
     "name": "stdout",
     "output_type": "stream",
     "text": [
      "975:\tlearn: 0.8072238\ttest: 0.7963056\tbest: 0.7963672 (974)\ttotal: 3m 3s\tremaining: 12m 38s\n"
     ]
    },
    {
     "name": "stdout",
     "output_type": "stream",
     "text": [
      "1000:\tlearn: 0.8080248\ttest: 0.7967771\tbest: 0.7969111 (990)\ttotal: 3m 8s\tremaining: 12m 33s\n"
     ]
    },
    {
     "name": "stdout",
     "output_type": "stream",
     "text": [
      "1025:\tlearn: 0.8087889\ttest: 0.7966205\tbest: 0.7970789 (1004)\ttotal: 3m 13s\tremaining: 12m 28s\n"
     ]
    },
    {
     "name": "stdout",
     "output_type": "stream",
     "text": [
      "1050:\tlearn: 0.8092727\ttest: 0.7968764\tbest: 0.7973095 (1035)\ttotal: 3m 17s\tremaining: 12m 23s\n"
     ]
    },
    {
     "name": "stdout",
     "output_type": "stream",
     "text": [
      "1075:\tlearn: 0.8101822\ttest: 0.7968930\tbest: 0.7973095 (1035)\ttotal: 3m 22s\tremaining: 12m 19s\n"
     ]
    },
    {
     "name": "stdout",
     "output_type": "stream",
     "text": [
      "1100:\tlearn: 0.8107466\ttest: 0.7968317\tbest: 0.7973095 (1035)\ttotal: 3m 27s\tremaining: 12m 14s\n"
     ]
    },
    {
     "name": "stdout",
     "output_type": "stream",
     "text": [
      "1125:\tlearn: 0.8114936\ttest: 0.7971117\tbest: 0.7973095 (1035)\ttotal: 3m 32s\tremaining: 12m 9s\n"
     ]
    },
    {
     "name": "stdout",
     "output_type": "stream",
     "text": [
      "1150:\tlearn: 0.8121266\ttest: 0.7971723\tbest: 0.7973095 (1035)\ttotal: 3m 36s\tremaining: 12m 4s\n"
     ]
    },
    {
     "name": "stdout",
     "output_type": "stream",
     "text": [
      "1175:\tlearn: 0.8130265\ttest: 0.7974920\tbest: 0.7974920 (1175)\ttotal: 3m 41s\tremaining: 12m\n"
     ]
    },
    {
     "name": "stdout",
     "output_type": "stream",
     "text": [
      "1200:\tlearn: 0.8136155\ttest: 0.7975704\tbest: 0.7977067 (1185)\ttotal: 3m 46s\tremaining: 11m 55s\n"
     ]
    },
    {
     "name": "stdout",
     "output_type": "stream",
     "text": [
      "1225:\tlearn: 0.8140730\ttest: 0.7978861\tbest: 0.7979063 (1222)\ttotal: 3m 50s\tremaining: 11m 50s\n"
     ]
    },
    {
     "name": "stdout",
     "output_type": "stream",
     "text": [
      "1250:\tlearn: 0.8149181\ttest: 0.7978075\tbest: 0.7983656 (1242)\ttotal: 3m 55s\tremaining: 11m 46s\n"
     ]
    },
    {
     "name": "stdout",
     "output_type": "stream",
     "text": [
      "1275:\tlearn: 0.8157391\ttest: 0.7980947\tbest: 0.7983656 (1242)\ttotal: 4m\tremaining: 11m 41s\n"
     ]
    },
    {
     "name": "stdout",
     "output_type": "stream",
     "text": [
      "1300:\tlearn: 0.8161899\ttest: 0.7980064\tbest: 0.7983656 (1242)\ttotal: 4m 4s\tremaining: 11m 36s\n"
     ]
    },
    {
     "name": "stdout",
     "output_type": "stream",
     "text": [
      "1325:\tlearn: 0.8165808\ttest: 0.7984034\tbest: 0.7984034 (1325)\ttotal: 4m 9s\tremaining: 11m 31s\n"
     ]
    },
    {
     "name": "stdout",
     "output_type": "stream",
     "text": [
      "1350:\tlearn: 0.8171802\ttest: 0.7981832\tbest: 0.7984034 (1325)\ttotal: 4m 14s\tremaining: 11m 26s\n"
     ]
    },
    {
     "name": "stdout",
     "output_type": "stream",
     "text": [
      "1375:\tlearn: 0.8177833\ttest: 0.7981586\tbest: 0.7984370 (1351)\ttotal: 4m 19s\tremaining: 11m 22s\n"
     ]
    },
    {
     "name": "stdout",
     "output_type": "stream",
     "text": [
      "1400:\tlearn: 0.8183009\ttest: 0.7987446\tbest: 0.7987447 (1399)\ttotal: 4m 23s\tremaining: 11m 17s\n"
     ]
    },
    {
     "name": "stdout",
     "output_type": "stream",
     "text": [
      "1425:\tlearn: 0.8187992\ttest: 0.7987597\tbest: 0.7989060 (1423)\ttotal: 4m 28s\tremaining: 11m 12s\n"
     ]
    },
    {
     "name": "stdout",
     "output_type": "stream",
     "text": [
      "1450:\tlearn: 0.8194579\ttest: 0.7986477\tbest: 0.7989592 (1439)\ttotal: 4m 33s\tremaining: 11m 8s\n"
     ]
    },
    {
     "name": "stdout",
     "output_type": "stream",
     "text": [
      "1475:\tlearn: 0.8198884\ttest: 0.7991323\tbest: 0.7991945 (1474)\ttotal: 4m 37s\tremaining: 11m 3s\n"
     ]
    },
    {
     "name": "stdout",
     "output_type": "stream",
     "text": [
      "1500:\tlearn: 0.8204444\ttest: 0.7996751\tbest: 0.7996751 (1500)\ttotal: 4m 42s\tremaining: 10m 58s\n"
     ]
    },
    {
     "name": "stdout",
     "output_type": "stream",
     "text": [
      "1525:\tlearn: 0.8212468\ttest: 0.7995781\tbest: 0.7998026 (1503)\ttotal: 4m 47s\tremaining: 10m 53s\n"
     ]
    },
    {
     "name": "stdout",
     "output_type": "stream",
     "text": [
      "1550:\tlearn: 0.8221633\ttest: 0.7993797\tbest: 0.7998026 (1503)\ttotal: 4m 51s\tremaining: 10m 49s\n"
     ]
    },
    {
     "name": "stdout",
     "output_type": "stream",
     "text": [
      "1575:\tlearn: 0.8226048\ttest: 0.7992714\tbest: 0.7998026 (1503)\ttotal: 4m 56s\tremaining: 10m 44s\n"
     ]
    },
    {
     "name": "stdout",
     "output_type": "stream",
     "text": [
      "1600:\tlearn: 0.8231269\ttest: 0.7996811\tbest: 0.7999708 (1592)\ttotal: 5m 1s\tremaining: 10m 39s\n"
     ]
    },
    {
     "name": "stdout",
     "output_type": "stream",
     "text": [
      "1625:\tlearn: 0.8236685\ttest: 0.7994651\tbest: 0.7999708 (1592)\ttotal: 5m 6s\tremaining: 10m 35s\n"
     ]
    },
    {
     "name": "stdout",
     "output_type": "stream",
     "text": [
      "1650:\tlearn: 0.8243414\ttest: 0.7994820\tbest: 0.7999708 (1592)\ttotal: 5m 10s\tremaining: 10m 30s\n"
     ]
    },
    {
     "name": "stdout",
     "output_type": "stream",
     "text": [
      "1675:\tlearn: 0.8248040\ttest: 0.7995238\tbest: 0.7999708 (1592)\ttotal: 5m 15s\tremaining: 10m 25s\n"
     ]
    },
    {
     "name": "stdout",
     "output_type": "stream",
     "text": [
      "1700:\tlearn: 0.8253803\ttest: 0.7994714\tbest: 0.7999708 (1592)\ttotal: 5m 20s\tremaining: 10m 20s\n"
     ]
    },
    {
     "name": "stdout",
     "output_type": "stream",
     "text": [
      "1725:\tlearn: 0.8257525\ttest: 0.7997095\tbest: 0.7999708 (1592)\ttotal: 5m 24s\tremaining: 10m 16s\n"
     ]
    },
    {
     "name": "stdout",
     "output_type": "stream",
     "text": [
      "1750:\tlearn: 0.8263685\ttest: 0.7998001\tbest: 0.7999708 (1592)\ttotal: 5m 29s\tremaining: 10m 11s\n"
     ]
    },
    {
     "name": "stdout",
     "output_type": "stream",
     "text": [
      "1775:\tlearn: 0.8268613\ttest: 0.7994704\tbest: 0.7999708 (1592)\ttotal: 5m 34s\tremaining: 10m 6s\n"
     ]
    },
    {
     "name": "stdout",
     "output_type": "stream",
     "text": [
      "1800:\tlearn: 0.8275083\ttest: 0.7996080\tbest: 0.7999708 (1592)\ttotal: 5m 38s\tremaining: 10m 2s\n"
     ]
    },
    {
     "name": "stdout",
     "output_type": "stream",
     "text": [
      "1825:\tlearn: 0.8279941\ttest: 0.7995819\tbest: 0.7999708 (1592)\ttotal: 5m 43s\tremaining: 9m 57s\n"
     ]
    },
    {
     "name": "stdout",
     "output_type": "stream",
     "text": [
      "1850:\tlearn: 0.8284138\ttest: 0.7994431\tbest: 0.7999708 (1592)\ttotal: 5m 48s\tremaining: 9m 52s\n"
     ]
    },
    {
     "name": "stdout",
     "output_type": "stream",
     "text": [
      "1875:\tlearn: 0.8287666\ttest: 0.7996159\tbest: 0.7999708 (1592)\ttotal: 5m 53s\tremaining: 9m 47s\n"
     ]
    },
    {
     "name": "stdout",
     "output_type": "stream",
     "text": [
      "1900:\tlearn: 0.8293432\ttest: 0.7996576\tbest: 0.7999708 (1592)\ttotal: 5m 57s\tremaining: 9m 43s\n"
     ]
    },
    {
     "name": "stdout",
     "output_type": "stream",
     "text": [
      "1925:\tlearn: 0.8298847\ttest: 0.7990501\tbest: 0.7999708 (1592)\ttotal: 6m 2s\tremaining: 9m 38s\n"
     ]
    },
    {
     "name": "stdout",
     "output_type": "stream",
     "text": [
      "1950:\tlearn: 0.8305198\ttest: 0.7989505\tbest: 0.7999708 (1592)\ttotal: 6m 7s\tremaining: 9m 33s\n"
     ]
    },
    {
     "name": "stdout",
     "output_type": "stream",
     "text": [
      "1975:\tlearn: 0.8310410\ttest: 0.7991260\tbest: 0.7999708 (1592)\ttotal: 6m 11s\tremaining: 9m 28s\n"
     ]
    },
    {
     "name": "stdout",
     "output_type": "stream",
     "text": [
      "2000:\tlearn: 0.8314376\ttest: 0.7991334\tbest: 0.7999708 (1592)\ttotal: 6m 16s\tremaining: 9m 24s\n"
     ]
    },
    {
     "name": "stdout",
     "output_type": "stream",
     "text": [
      "2025:\tlearn: 0.8318935\ttest: 0.7995510\tbest: 0.7999708 (1592)\ttotal: 6m 21s\tremaining: 9m 19s\n"
     ]
    },
    {
     "name": "stdout",
     "output_type": "stream",
     "text": [
      "2050:\tlearn: 0.8324341\ttest: 0.7994164\tbest: 0.7999708 (1592)\ttotal: 6m 25s\tremaining: 9m 14s\n"
     ]
    },
    {
     "name": "stdout",
     "output_type": "stream",
     "text": [
      "2075:\tlearn: 0.8330075\ttest: 0.7991330\tbest: 0.7999708 (1592)\ttotal: 6m 30s\tremaining: 9m 9s\n"
     ]
    },
    {
     "name": "stdout",
     "output_type": "stream",
     "text": [
      "2100:\tlearn: 0.8336316\ttest: 0.7998571\tbest: 0.7999708 (1592)\ttotal: 6m 35s\tremaining: 9m 5s\n"
     ]
    },
    {
     "name": "stdout",
     "output_type": "stream",
     "text": [
      "2125:\tlearn: 0.8341890\ttest: 0.7995092\tbest: 0.7999708 (1592)\ttotal: 6m 39s\tremaining: 9m\n"
     ]
    },
    {
     "name": "stdout",
     "output_type": "stream",
     "text": [
      "2150:\tlearn: 0.8345098\ttest: 0.7994529\tbest: 0.7999708 (1592)\ttotal: 6m 44s\tremaining: 8m 55s\n"
     ]
    },
    {
     "name": "stdout",
     "output_type": "stream",
     "text": [
      "2175:\tlearn: 0.8350945\ttest: 0.7993115\tbest: 0.7999708 (1592)\ttotal: 6m 49s\tremaining: 8m 51s\n"
     ]
    },
    {
     "name": "stdout",
     "output_type": "stream",
     "text": [
      "2200:\tlearn: 0.8357035\ttest: 0.7992978\tbest: 0.7999708 (1592)\ttotal: 6m 53s\tremaining: 8m 46s\n"
     ]
    },
    {
     "name": "stdout",
     "output_type": "stream",
     "text": [
      "2225:\tlearn: 0.8362100\ttest: 0.7992264\tbest: 0.7999708 (1592)\ttotal: 6m 58s\tremaining: 8m 41s\n"
     ]
    },
    {
     "name": "stdout",
     "output_type": "stream",
     "text": [
      "2250:\tlearn: 0.8367713\ttest: 0.7992136\tbest: 0.7999708 (1592)\ttotal: 7m 3s\tremaining: 8m 36s\n"
     ]
    },
    {
     "name": "stdout",
     "output_type": "stream",
     "text": [
      "2275:\tlearn: 0.8373346\ttest: 0.7995546\tbest: 0.7999708 (1592)\ttotal: 7m 7s\tremaining: 8m 32s\n"
     ]
    },
    {
     "name": "stdout",
     "output_type": "stream",
     "text": [
      "2300:\tlearn: 0.8378071\ttest: 0.7997580\tbest: 0.7999708 (1592)\ttotal: 7m 12s\tremaining: 8m 27s\n"
     ]
    },
    {
     "name": "stdout",
     "output_type": "stream",
     "text": [
      "2325:\tlearn: 0.8384797\ttest: 0.8002536\tbest: 0.8002536 (2325)\ttotal: 7m 17s\tremaining: 8m 22s\n"
     ]
    },
    {
     "name": "stdout",
     "output_type": "stream",
     "text": [
      "2350:\tlearn: 0.8388516\ttest: 0.8002402\tbest: 0.8002968 (2329)\ttotal: 7m 22s\tremaining: 8m 18s\n"
     ]
    },
    {
     "name": "stdout",
     "output_type": "stream",
     "text": [
      "2375:\tlearn: 0.8393343\ttest: 0.8000272\tbest: 0.8003891 (2351)\ttotal: 7m 26s\tremaining: 8m 13s\n"
     ]
    },
    {
     "name": "stdout",
     "output_type": "stream",
     "text": [
      "2400:\tlearn: 0.8397256\ttest: 0.8000979\tbest: 0.8003891 (2351)\ttotal: 7m 31s\tremaining: 8m 8s\n"
     ]
    },
    {
     "name": "stdout",
     "output_type": "stream",
     "text": [
      "2425:\tlearn: 0.8400659\ttest: 0.8003088\tbest: 0.8004572 (2423)\ttotal: 7m 36s\tremaining: 8m 3s\n"
     ]
    },
    {
     "name": "stdout",
     "output_type": "stream",
     "text": [
      "2450:\tlearn: 0.8407247\ttest: 0.8004866\tbest: 0.8005258 (2445)\ttotal: 7m 40s\tremaining: 7m 59s\n"
     ]
    },
    {
     "name": "stdout",
     "output_type": "stream",
     "text": [
      "2475:\tlearn: 0.8412974\ttest: 0.8002595\tbest: 0.8005925 (2461)\ttotal: 7m 45s\tremaining: 7m 54s\n"
     ]
    },
    {
     "name": "stdout",
     "output_type": "stream",
     "text": [
      "2500:\tlearn: 0.8416465\ttest: 0.8001772\tbest: 0.8005925 (2461)\ttotal: 7m 50s\tremaining: 7m 49s\n"
     ]
    },
    {
     "name": "stdout",
     "output_type": "stream",
     "text": [
      "2525:\tlearn: 0.8421923\ttest: 0.8004155\tbest: 0.8005925 (2461)\ttotal: 7m 54s\tremaining: 7m 45s\n"
     ]
    },
    {
     "name": "stdout",
     "output_type": "stream",
     "text": [
      "2550:\tlearn: 0.8427195\ttest: 0.8003531\tbest: 0.8006474 (2535)\ttotal: 7m 59s\tremaining: 7m 40s\n"
     ]
    },
    {
     "name": "stdout",
     "output_type": "stream",
     "text": [
      "2575:\tlearn: 0.8432964\ttest: 0.8000469\tbest: 0.8006474 (2535)\ttotal: 8m 4s\tremaining: 7m 35s\n"
     ]
    },
    {
     "name": "stdout",
     "output_type": "stream",
     "text": [
      "2600:\tlearn: 0.8436722\ttest: 0.7999418\tbest: 0.8006474 (2535)\ttotal: 8m 8s\tremaining: 7m 30s\n"
     ]
    },
    {
     "name": "stdout",
     "output_type": "stream",
     "text": [
      "2625:\tlearn: 0.8439910\ttest: 0.8001512\tbest: 0.8006474 (2535)\ttotal: 8m 13s\tremaining: 7m 26s\n"
     ]
    },
    {
     "name": "stdout",
     "output_type": "stream",
     "text": [
      "2650:\tlearn: 0.8446472\ttest: 0.8001357\tbest: 0.8006474 (2535)\ttotal: 8m 18s\tremaining: 7m 21s\n"
     ]
    },
    {
     "name": "stdout",
     "output_type": "stream",
     "text": [
      "2675:\tlearn: 0.8450850\ttest: 0.8003927\tbest: 0.8006474 (2535)\ttotal: 8m 23s\tremaining: 7m 16s\n"
     ]
    },
    {
     "name": "stdout",
     "output_type": "stream",
     "text": [
      "2700:\tlearn: 0.8454185\ttest: 0.8001672\tbest: 0.8006474 (2535)\ttotal: 8m 27s\tremaining: 7m 12s\n"
     ]
    },
    {
     "name": "stdout",
     "output_type": "stream",
     "text": [
      "2725:\tlearn: 0.8460286\ttest: 0.8001988\tbest: 0.8006474 (2535)\ttotal: 8m 32s\tremaining: 7m 7s\n"
     ]
    },
    {
     "name": "stdout",
     "output_type": "stream",
     "text": [
      "2750:\tlearn: 0.8466470\ttest: 0.8006071\tbest: 0.8007116 (2749)\ttotal: 8m 37s\tremaining: 7m 2s\n"
     ]
    },
    {
     "name": "stdout",
     "output_type": "stream",
     "text": [
      "2775:\tlearn: 0.8469892\ttest: 0.8003402\tbest: 0.8007758 (2751)\ttotal: 8m 41s\tremaining: 6m 58s\n"
     ]
    },
    {
     "name": "stdout",
     "output_type": "stream",
     "text": [
      "2800:\tlearn: 0.8475220\ttest: 0.8000652\tbest: 0.8007758 (2751)\ttotal: 8m 46s\tremaining: 6m 53s\n"
     ]
    },
    {
     "name": "stdout",
     "output_type": "stream",
     "text": [
      "2825:\tlearn: 0.8479013\ttest: 0.7999402\tbest: 0.8007758 (2751)\ttotal: 8m 51s\tremaining: 6m 48s\n"
     ]
    },
    {
     "name": "stdout",
     "output_type": "stream",
     "text": [
      "2850:\tlearn: 0.8482556\ttest: 0.8001294\tbest: 0.8007758 (2751)\ttotal: 8m 55s\tremaining: 6m 43s\n"
     ]
    },
    {
     "name": "stdout",
     "output_type": "stream",
     "text": [
      "2875:\tlearn: 0.8487131\ttest: 0.7998547\tbest: 0.8007758 (2751)\ttotal: 9m\tremaining: 6m 39s\n"
     ]
    },
    {
     "name": "stdout",
     "output_type": "stream",
     "text": [
      "2900:\tlearn: 0.8492843\ttest: 0.7999462\tbest: 0.8007758 (2751)\ttotal: 9m 5s\tremaining: 6m 34s\n"
     ]
    },
    {
     "name": "stdout",
     "output_type": "stream",
     "text": [
      "2925:\tlearn: 0.8496964\ttest: 0.7997580\tbest: 0.8007758 (2751)\ttotal: 9m 10s\tremaining: 6m 29s\n"
     ]
    },
    {
     "name": "stdout",
     "output_type": "stream",
     "text": [
      "2950:\tlearn: 0.8501031\ttest: 0.7999926\tbest: 0.8007758 (2751)\ttotal: 9m 14s\tremaining: 6m 25s\n"
     ]
    },
    {
     "name": "stdout",
     "output_type": "stream",
     "text": [
      "2975:\tlearn: 0.8503290\ttest: 0.8001194\tbest: 0.8007758 (2751)\ttotal: 9m 19s\tremaining: 6m 20s\n"
     ]
    },
    {
     "name": "stdout",
     "output_type": "stream",
     "text": [
      "3000:\tlearn: 0.8510782\ttest: 0.8003512\tbest: 0.8007758 (2751)\ttotal: 9m 24s\tremaining: 6m 15s\n"
     ]
    },
    {
     "name": "stdout",
     "output_type": "stream",
     "text": [
      "3025:\tlearn: 0.8514842\ttest: 0.8006106\tbest: 0.8007758 (2751)\ttotal: 9m 28s\tremaining: 6m 11s\n"
     ]
    },
    {
     "name": "stdout",
     "output_type": "stream",
     "text": [
      "3050:\tlearn: 0.8520885\ttest: 0.8006745\tbest: 0.8008644 (3048)\ttotal: 9m 33s\tremaining: 6m 6s\n"
     ]
    },
    {
     "name": "stdout",
     "output_type": "stream",
     "text": [
      "3075:\tlearn: 0.8526677\ttest: 0.8009984\tbest: 0.8010828 (3074)\ttotal: 9m 38s\tremaining: 6m 1s\n"
     ]
    },
    {
     "name": "stdout",
     "output_type": "stream",
     "text": [
      "3100:\tlearn: 0.8530684\ttest: 0.8005796\tbest: 0.8010828 (3074)\ttotal: 9m 42s\tremaining: 5m 56s\n"
     ]
    },
    {
     "name": "stdout",
     "output_type": "stream",
     "text": [
      "3125:\tlearn: 0.8533999\ttest: 0.8009651\tbest: 0.8010828 (3074)\ttotal: 9m 47s\tremaining: 5m 52s\n"
     ]
    },
    {
     "name": "stdout",
     "output_type": "stream",
     "text": [
      "3150:\tlearn: 0.8537542\ttest: 0.8008039\tbest: 0.8010828 (3074)\ttotal: 9m 52s\tremaining: 5m 47s\n"
     ]
    },
    {
     "name": "stdout",
     "output_type": "stream",
     "text": [
      "3175:\tlearn: 0.8541367\ttest: 0.8003403\tbest: 0.8010828 (3074)\ttotal: 9m 56s\tremaining: 5m 42s\n"
     ]
    },
    {
     "name": "stdout",
     "output_type": "stream",
     "text": [
      "3200:\tlearn: 0.8543986\ttest: 0.8003414\tbest: 0.8010828 (3074)\ttotal: 10m 1s\tremaining: 5m 38s\n"
     ]
    },
    {
     "name": "stdout",
     "output_type": "stream",
     "text": [
      "3225:\tlearn: 0.8550527\ttest: 0.8006407\tbest: 0.8010828 (3074)\ttotal: 10m 6s\tremaining: 5m 33s\n"
     ]
    },
    {
     "name": "stdout",
     "output_type": "stream",
     "text": [
      "3250:\tlearn: 0.8554461\ttest: 0.8001449\tbest: 0.8010828 (3074)\ttotal: 10m 11s\tremaining: 5m 28s\n"
     ]
    },
    {
     "name": "stdout",
     "output_type": "stream",
     "text": [
      "3275:\tlearn: 0.8557711\ttest: 0.8003552\tbest: 0.8010828 (3074)\ttotal: 10m 15s\tremaining: 5m 24s\n"
     ]
    },
    {
     "name": "stdout",
     "output_type": "stream",
     "text": [
      "3300:\tlearn: 0.8561886\ttest: 0.8003124\tbest: 0.8010828 (3074)\ttotal: 10m 20s\tremaining: 5m 19s\n"
     ]
    },
    {
     "name": "stdout",
     "output_type": "stream",
     "text": [
      "3325:\tlearn: 0.8563694\ttest: 0.8003104\tbest: 0.8010828 (3074)\ttotal: 10m 25s\tremaining: 5m 14s\n"
     ]
    },
    {
     "name": "stdout",
     "output_type": "stream",
     "text": [
      "3350:\tlearn: 0.8568768\ttest: 0.8005250\tbest: 0.8010828 (3074)\ttotal: 10m 29s\tremaining: 5m 9s\n"
     ]
    },
    {
     "name": "stdout",
     "output_type": "stream",
     "text": [
      "3375:\tlearn: 0.8572497\ttest: 0.8004852\tbest: 0.8010828 (3074)\ttotal: 10m 34s\tremaining: 5m 5s\n"
     ]
    },
    {
     "name": "stdout",
     "output_type": "stream",
     "text": [
      "3400:\tlearn: 0.8577721\ttest: 0.8003359\tbest: 0.8010828 (3074)\ttotal: 10m 39s\tremaining: 5m\n"
     ]
    },
    {
     "name": "stdout",
     "output_type": "stream",
     "text": [
      "3425:\tlearn: 0.8581525\ttest: 0.8007604\tbest: 0.8010828 (3074)\ttotal: 10m 43s\tremaining: 4m 55s\n"
     ]
    },
    {
     "name": "stdout",
     "output_type": "stream",
     "text": [
      "3450:\tlearn: 0.8585822\ttest: 0.8006585\tbest: 0.8010828 (3074)\ttotal: 10m 48s\tremaining: 4m 51s\n"
     ]
    },
    {
     "name": "stdout",
     "output_type": "stream",
     "text": [
      "3475:\tlearn: 0.8590703\ttest: 0.8006185\tbest: 0.8010828 (3074)\ttotal: 10m 53s\tremaining: 4m 46s\n"
     ]
    },
    {
     "name": "stdout",
     "output_type": "stream",
     "text": [
      "3500:\tlearn: 0.8594893\ttest: 0.8005366\tbest: 0.8010828 (3074)\ttotal: 10m 57s\tremaining: 4m 41s\n"
     ]
    },
    {
     "name": "stdout",
     "output_type": "stream",
     "text": [
      "3525:\tlearn: 0.8600319\ttest: 0.8006206\tbest: 0.8010828 (3074)\ttotal: 11m 2s\tremaining: 4m 37s\n"
     ]
    },
    {
     "name": "stdout",
     "output_type": "stream",
     "text": [
      "3550:\tlearn: 0.8603575\ttest: 0.8005581\tbest: 0.8010828 (3074)\ttotal: 11m 7s\tremaining: 4m 32s\n"
     ]
    },
    {
     "name": "stdout",
     "output_type": "stream",
     "text": [
      "3575:\tlearn: 0.8606505\ttest: 0.8010914\tbest: 0.8010914 (3575)\ttotal: 11m 11s\tremaining: 4m 27s\n"
     ]
    },
    {
     "name": "stdout",
     "output_type": "stream",
     "text": [
      "3600:\tlearn: 0.8611137\ttest: 0.8008999\tbest: 0.8010915 (3576)\ttotal: 11m 16s\tremaining: 4m 22s\n"
     ]
    },
    {
     "name": "stdout",
     "output_type": "stream",
     "text": [
      "3625:\tlearn: 0.8615519\ttest: 0.8009003\tbest: 0.8010915 (3576)\ttotal: 11m 21s\tremaining: 4m 18s\n"
     ]
    },
    {
     "name": "stdout",
     "output_type": "stream",
     "text": [
      "3650:\tlearn: 0.8619346\ttest: 0.8004836\tbest: 0.8010915 (3576)\ttotal: 11m 26s\tremaining: 4m 13s\n"
     ]
    },
    {
     "name": "stdout",
     "output_type": "stream",
     "text": [
      "3675:\tlearn: 0.8625402\ttest: 0.8006781\tbest: 0.8010915 (3576)\ttotal: 11m 30s\tremaining: 4m 8s\n"
     ]
    },
    {
     "name": "stdout",
     "output_type": "stream",
     "text": [
      "3700:\tlearn: 0.8628838\ttest: 0.8010934\tbest: 0.8011153 (3698)\ttotal: 11m 35s\tremaining: 4m 4s\n"
     ]
    },
    {
     "name": "stdout",
     "output_type": "stream",
     "text": [
      "3725:\tlearn: 0.8632112\ttest: 0.8011364\tbest: 0.8011794 (3724)\ttotal: 11m 40s\tremaining: 3m 59s\n"
     ]
    },
    {
     "name": "stdout",
     "output_type": "stream",
     "text": [
      "3750:\tlearn: 0.8635244\ttest: 0.8012414\tbest: 0.8013885 (3739)\ttotal: 11m 44s\tremaining: 3m 54s\n"
     ]
    },
    {
     "name": "stdout",
     "output_type": "stream",
     "text": [
      "3775:\tlearn: 0.8639258\ttest: 0.8011390\tbest: 0.8014139 (3762)\ttotal: 11m 49s\tremaining: 3m 50s\n"
     ]
    },
    {
     "name": "stdout",
     "output_type": "stream",
     "text": [
      "3800:\tlearn: 0.8642255\ttest: 0.8010970\tbest: 0.8014139 (3762)\ttotal: 11m 54s\tremaining: 3m 45s\n"
     ]
    },
    {
     "name": "stdout",
     "output_type": "stream",
     "text": [
      "3825:\tlearn: 0.8646511\ttest: 0.8010350\tbest: 0.8014139 (3762)\ttotal: 11m 58s\tremaining: 3m 40s\n"
     ]
    },
    {
     "name": "stdout",
     "output_type": "stream",
     "text": [
      "3850:\tlearn: 0.8649752\ttest: 0.8009064\tbest: 0.8014139 (3762)\ttotal: 12m 3s\tremaining: 3m 35s\n"
     ]
    },
    {
     "name": "stdout",
     "output_type": "stream",
     "text": [
      "3875:\tlearn: 0.8654780\ttest: 0.8011822\tbest: 0.8014139 (3762)\ttotal: 12m 8s\tremaining: 3m 31s\n"
     ]
    },
    {
     "name": "stdout",
     "output_type": "stream",
     "text": [
      "3900:\tlearn: 0.8658088\ttest: 0.8010951\tbest: 0.8014139 (3762)\ttotal: 12m 12s\tremaining: 3m 26s\n"
     ]
    },
    {
     "name": "stdout",
     "output_type": "stream",
     "text": [
      "3925:\tlearn: 0.8665638\ttest: 0.8005689\tbest: 0.8014139 (3762)\ttotal: 12m 17s\tremaining: 3m 21s\n"
     ]
    },
    {
     "name": "stdout",
     "output_type": "stream",
     "text": [
      "3950:\tlearn: 0.8670522\ttest: 0.8004156\tbest: 0.8014139 (3762)\ttotal: 12m 22s\tremaining: 3m 17s\n"
     ]
    },
    {
     "name": "stdout",
     "output_type": "stream",
     "text": [
      "3975:\tlearn: 0.8676382\ttest: 0.8005247\tbest: 0.8014139 (3762)\ttotal: 12m 27s\tremaining: 3m 12s\n"
     ]
    },
    {
     "name": "stdout",
     "output_type": "stream",
     "text": [
      "4000:\tlearn: 0.8679186\ttest: 0.8003105\tbest: 0.8014139 (3762)\ttotal: 12m 31s\tremaining: 3m 7s\n"
     ]
    },
    {
     "name": "stdout",
     "output_type": "stream",
     "text": [
      "4025:\tlearn: 0.8683502\ttest: 0.8004182\tbest: 0.8014139 (3762)\ttotal: 12m 36s\tremaining: 3m 3s\n"
     ]
    },
    {
     "name": "stdout",
     "output_type": "stream",
     "text": [
      "4050:\tlearn: 0.8686527\ttest: 0.8003791\tbest: 0.8014139 (3762)\ttotal: 12m 41s\tremaining: 2m 58s\n"
     ]
    },
    {
     "name": "stdout",
     "output_type": "stream",
     "text": [
      "4075:\tlearn: 0.8689918\ttest: 0.8002118\tbest: 0.8014139 (3762)\ttotal: 12m 45s\tremaining: 2m 53s\n"
     ]
    },
    {
     "name": "stdout",
     "output_type": "stream",
     "text": [
      "4100:\tlearn: 0.8693996\ttest: 0.8004029\tbest: 0.8014139 (3762)\ttotal: 12m 50s\tremaining: 2m 48s\n"
     ]
    },
    {
     "name": "stdout",
     "output_type": "stream",
     "text": [
      "4125:\tlearn: 0.8698941\ttest: 0.8004455\tbest: 0.8014139 (3762)\ttotal: 12m 55s\tremaining: 2m 44s\n"
     ]
    },
    {
     "name": "stdout",
     "output_type": "stream",
     "text": [
      "4150:\tlearn: 0.8702280\ttest: 0.8010743\tbest: 0.8014139 (3762)\ttotal: 12m 59s\tremaining: 2m 39s\n"
     ]
    },
    {
     "name": "stdout",
     "output_type": "stream",
     "text": [
      "4175:\tlearn: 0.8706566\ttest: 0.8012852\tbest: 0.8014139 (3762)\ttotal: 13m 4s\tremaining: 2m 34s\n"
     ]
    },
    {
     "name": "stdout",
     "output_type": "stream",
     "text": [
      "4200:\tlearn: 0.8710973\ttest: 0.8009705\tbest: 0.8014960 (4188)\ttotal: 13m 9s\tremaining: 2m 30s\n"
     ]
    },
    {
     "name": "stdout",
     "output_type": "stream",
     "text": [
      "4225:\tlearn: 0.8714750\ttest: 0.8002813\tbest: 0.8014960 (4188)\ttotal: 13m 14s\tremaining: 2m 25s\n"
     ]
    },
    {
     "name": "stdout",
     "output_type": "stream",
     "text": [
      "4250:\tlearn: 0.8717153\ttest: 0.8005967\tbest: 0.8014960 (4188)\ttotal: 13m 18s\tremaining: 2m 20s\n"
     ]
    },
    {
     "name": "stdout",
     "output_type": "stream",
     "text": [
      "4275:\tlearn: 0.8722465\ttest: 0.8007033\tbest: 0.8014960 (4188)\ttotal: 13m 23s\tremaining: 2m 16s\n"
     ]
    },
    {
     "name": "stdout",
     "output_type": "stream",
     "text": [
      "4300:\tlearn: 0.8725483\ttest: 0.8007455\tbest: 0.8014960 (4188)\ttotal: 13m 28s\tremaining: 2m 11s\n"
     ]
    },
    {
     "name": "stdout",
     "output_type": "stream",
     "text": [
      "4325:\tlearn: 0.8730307\ttest: 0.8008968\tbest: 0.8014960 (4188)\ttotal: 13m 32s\tremaining: 2m 6s\n"
     ]
    },
    {
     "name": "stdout",
     "output_type": "stream",
     "text": [
      "4350:\tlearn: 0.8732988\ttest: 0.8008115\tbest: 0.8014960 (4188)\ttotal: 13m 37s\tremaining: 2m 1s\n"
     ]
    },
    {
     "name": "stdout",
     "output_type": "stream",
     "text": [
      "4375:\tlearn: 0.8735670\ttest: 0.8006825\tbest: 0.8014960 (4188)\ttotal: 13m 42s\tremaining: 1m 57s\n"
     ]
    },
    {
     "name": "stdout",
     "output_type": "stream",
     "text": [
      "4400:\tlearn: 0.8738674\ttest: 0.8006968\tbest: 0.8014960 (4188)\ttotal: 13m 46s\tremaining: 1m 52s\n"
     ]
    },
    {
     "name": "stdout",
     "output_type": "stream",
     "text": [
      "4425:\tlearn: 0.8742841\ttest: 0.8003964\tbest: 0.8014960 (4188)\ttotal: 13m 51s\tremaining: 1m 47s\n"
     ]
    },
    {
     "name": "stdout",
     "output_type": "stream",
     "text": [
      "4450:\tlearn: 0.8746231\ttest: 0.8003627\tbest: 0.8014960 (4188)\ttotal: 13m 56s\tremaining: 1m 43s\n"
     ]
    },
    {
     "name": "stdout",
     "output_type": "stream",
     "text": [
      "4475:\tlearn: 0.8751138\ttest: 0.8004423\tbest: 0.8014960 (4188)\ttotal: 14m 1s\tremaining: 1m 38s\n"
     ]
    },
    {
     "name": "stdout",
     "output_type": "stream",
     "text": [
      "4500:\tlearn: 0.8754967\ttest: 0.8006495\tbest: 0.8014960 (4188)\ttotal: 14m 5s\tremaining: 1m 33s\n"
     ]
    },
    {
     "name": "stdout",
     "output_type": "stream",
     "text": [
      "4525:\tlearn: 0.8759563\ttest: 0.8007131\tbest: 0.8014960 (4188)\ttotal: 14m 10s\tremaining: 1m 29s\n"
     ]
    },
    {
     "name": "stdout",
     "output_type": "stream",
     "text": [
      "4550:\tlearn: 0.8763065\ttest: 0.8006768\tbest: 0.8014960 (4188)\ttotal: 14m 15s\tremaining: 1m 24s\n"
     ]
    },
    {
     "name": "stdout",
     "output_type": "stream",
     "text": [
      "4575:\tlearn: 0.8766870\ttest: 0.8007734\tbest: 0.8014960 (4188)\ttotal: 14m 19s\tremaining: 1m 19s\n"
     ]
    },
    {
     "name": "stdout",
     "output_type": "stream",
     "text": [
      "4600:\tlearn: 0.8771568\ttest: 0.8009598\tbest: 0.8014960 (4188)\ttotal: 14m 24s\tremaining: 1m 14s\n"
     ]
    },
    {
     "name": "stdout",
     "output_type": "stream",
     "text": [
      "4625:\tlearn: 0.8775246\ttest: 0.8006850\tbest: 0.8014960 (4188)\ttotal: 14m 29s\tremaining: 1m 10s\n"
     ]
    },
    {
     "name": "stdout",
     "output_type": "stream",
     "text": [
      "4650:\tlearn: 0.8779447\ttest: 0.8008394\tbest: 0.8014960 (4188)\ttotal: 14m 33s\tremaining: 1m 5s\n"
     ]
    },
    {
     "name": "stdout",
     "output_type": "stream",
     "text": [
      "4675:\tlearn: 0.8784160\ttest: 0.8011179\tbest: 0.8014960 (4188)\ttotal: 14m 38s\tremaining: 1m\n"
     ]
    },
    {
     "name": "stdout",
     "output_type": "stream",
     "text": [
      "4700:\tlearn: 0.8786649\ttest: 0.8011151\tbest: 0.8014960 (4188)\ttotal: 14m 43s\tremaining: 56.2s\n"
     ]
    },
    {
     "name": "stdout",
     "output_type": "stream",
     "text": [
      "4725:\tlearn: 0.8791833\ttest: 0.8011616\tbest: 0.8014960 (4188)\ttotal: 14m 47s\tremaining: 51.5s\n"
     ]
    },
    {
     "name": "stdout",
     "output_type": "stream",
     "text": [
      "4750:\tlearn: 0.8794150\ttest: 0.8009513\tbest: 0.8014960 (4188)\ttotal: 14m 52s\tremaining: 46.8s\n"
     ]
    },
    {
     "name": "stdout",
     "output_type": "stream",
     "text": [
      "4775:\tlearn: 0.8798432\ttest: 0.8011512\tbest: 0.8014960 (4188)\ttotal: 14m 57s\tremaining: 42.1s\n"
     ]
    },
    {
     "name": "stdout",
     "output_type": "stream",
     "text": [
      "4800:\tlearn: 0.8801223\ttest: 0.8012176\tbest: 0.8014960 (4188)\ttotal: 15m 2s\tremaining: 37.4s\n"
     ]
    },
    {
     "name": "stdout",
     "output_type": "stream",
     "text": [
      "4825:\tlearn: 0.8804296\ttest: 0.8011548\tbest: 0.8015131 (4815)\ttotal: 15m 6s\tremaining: 32.7s\n"
     ]
    },
    {
     "name": "stdout",
     "output_type": "stream",
     "text": [
      "4850:\tlearn: 0.8808485\ttest: 0.8013660\tbest: 0.8015131 (4815)\ttotal: 15m 11s\tremaining: 28s\n"
     ]
    },
    {
     "name": "stdout",
     "output_type": "stream",
     "text": [
      "4875:\tlearn: 0.8812609\ttest: 0.8015561\tbest: 0.8015585 (4864)\ttotal: 15m 16s\tremaining: 23.3s\n"
     ]
    },
    {
     "name": "stdout",
     "output_type": "stream",
     "text": [
      "4900:\tlearn: 0.8816629\ttest: 0.8014414\tbest: 0.8015585 (4864)\ttotal: 15m 20s\tremaining: 18.6s\n"
     ]
    },
    {
     "name": "stdout",
     "output_type": "stream",
     "text": [
      "4925:\tlearn: 0.8821416\ttest: 0.8014440\tbest: 0.8015585 (4864)\ttotal: 15m 25s\tremaining: 13.9s\n"
     ]
    },
    {
     "name": "stdout",
     "output_type": "stream",
     "text": [
      "4950:\tlearn: 0.8823740\ttest: 0.8013199\tbest: 0.8015585 (4864)\ttotal: 15m 30s\tremaining: 9.21s\n"
     ]
    },
    {
     "name": "stdout",
     "output_type": "stream",
     "text": [
      "4975:\tlearn: 0.8828542\ttest: 0.8011899\tbest: 0.8015585 (4864)\ttotal: 15m 35s\tremaining: 4.51s\n"
     ]
    },
    {
     "name": "stdout",
     "output_type": "stream",
     "text": [
      "4999:\tlearn: 0.8831796\ttest: 0.8012529\tbest: 0.8015585 (4864)\ttotal: 15m 39s\tremaining: 0us\n",
      "\n",
      "bestTest = 0.8015584823\n",
      "bestIteration = 4864\n",
      "\n"
     ]
    },
    {
     "name": "stdout",
     "output_type": "stream",
     "text": [
      "Training time: 78.85058797597885 min.\n"
     ]
    },
    {
     "name": "stdout",
     "output_type": "stream",
     "text": [
      "OOF recall_at4: 0.6668461978658229\n"
     ]
    },
    {
     "name": "stdout",
     "output_type": "stream",
     "text": [
      "OOF normalized_gini: 0.9244191136924114\n"
     ]
    },
    {
     "name": "stdout",
     "output_type": "stream",
     "text": [
      "OOF competition metric: 0.7956326557791171\n"
     ]
    },
    {
     "name": "stdout",
     "output_type": "stream",
     "text": [
      "############################### repeated cross-validation step: 2/3 ################################\n"
     ]
    },
    {
     "name": "stdout",
     "output_type": "stream",
     "text": [
      "######################################## training model 1/5 ########################################\n"
     ]
    },
    {
     "name": "stdout",
     "output_type": "stream",
     "text": [
      "0:\tlearn: 0.5161773\ttest: 0.5165376\tbest: 0.5165376 (0)\ttotal: 496ms\tremaining: 41m 18s\n"
     ]
    },
    {
     "name": "stdout",
     "output_type": "stream",
     "text": [
      "25:\tlearn: 0.7251543\ttest: 0.7260759\tbest: 0.7260759 (25)\ttotal: 5.06s\tremaining: 16m 8s\n"
     ]
    },
    {
     "name": "stdout",
     "output_type": "stream",
     "text": [
      "50:\tlearn: 0.7389060\ttest: 0.7384135\tbest: 0.7384135 (50)\ttotal: 9.76s\tremaining: 15m 47s\n"
     ]
    },
    {
     "name": "stdout",
     "output_type": "stream",
     "text": [
      "75:\tlearn: 0.7462004\ttest: 0.7458496\tbest: 0.7458496 (75)\ttotal: 14.4s\tremaining: 15m 34s\n"
     ]
    },
    {
     "name": "stdout",
     "output_type": "stream",
     "text": [
      "100:\tlearn: 0.7508881\ttest: 0.7521727\tbest: 0.7521727 (100)\ttotal: 19.1s\tremaining: 15m 24s\n"
     ]
    },
    {
     "name": "stdout",
     "output_type": "stream",
     "text": [
      "125:\tlearn: 0.7545243\ttest: 0.7556898\tbest: 0.7556898 (125)\ttotal: 23.7s\tremaining: 15m 17s\n"
     ]
    },
    {
     "name": "stdout",
     "output_type": "stream",
     "text": [
      "150:\tlearn: 0.7573785\ttest: 0.7590851\tbest: 0.7592888 (148)\ttotal: 28.4s\tremaining: 15m 11s\n"
     ]
    },
    {
     "name": "stdout",
     "output_type": "stream",
     "text": [
      "175:\tlearn: 0.7594707\ttest: 0.7621674\tbest: 0.7622157 (174)\ttotal: 33.1s\tremaining: 15m 6s\n"
     ]
    },
    {
     "name": "stdout",
     "output_type": "stream",
     "text": [
      "200:\tlearn: 0.7614974\ttest: 0.7638157\tbest: 0.7640227 (199)\ttotal: 37.7s\tremaining: 15m 1s\n"
     ]
    },
    {
     "name": "stdout",
     "output_type": "stream",
     "text": [
      "225:\tlearn: 0.7633911\ttest: 0.7656913\tbest: 0.7657897 (224)\ttotal: 42.4s\tremaining: 14m 56s\n"
     ]
    },
    {
     "name": "stdout",
     "output_type": "stream",
     "text": [
      "250:\tlearn: 0.7653133\ttest: 0.7674372\tbest: 0.7674372 (250)\ttotal: 47.1s\tremaining: 14m 52s\n"
     ]
    },
    {
     "name": "stdout",
     "output_type": "stream",
     "text": [
      "275:\tlearn: 0.7680443\ttest: 0.7703704\tbest: 0.7703704 (275)\ttotal: 51.9s\tremaining: 14m 47s\n"
     ]
    },
    {
     "name": "stdout",
     "output_type": "stream",
     "text": [
      "300:\tlearn: 0.7719787\ttest: 0.7744071\tbest: 0.7744071 (300)\ttotal: 56.6s\tremaining: 14m 43s\n"
     ]
    },
    {
     "name": "stdout",
     "output_type": "stream",
     "text": [
      "325:\tlearn: 0.7760877\ttest: 0.7785396\tbest: 0.7785607 (324)\ttotal: 1m 1s\tremaining: 14m 38s\n"
     ]
    },
    {
     "name": "stdout",
     "output_type": "stream",
     "text": [
      "350:\tlearn: 0.7789094\ttest: 0.7823394\tbest: 0.7823394 (350)\ttotal: 1m 6s\tremaining: 14m 34s\n"
     ]
    },
    {
     "name": "stdout",
     "output_type": "stream",
     "text": [
      "375:\tlearn: 0.7817880\ttest: 0.7837861\tbest: 0.7840803 (369)\ttotal: 1m 10s\tremaining: 14m 29s\n"
     ]
    },
    {
     "name": "stdout",
     "output_type": "stream",
     "text": [
      "400:\tlearn: 0.7840440\ttest: 0.7855595\tbest: 0.7856676 (392)\ttotal: 1m 15s\tremaining: 14m 24s\n"
     ]
    },
    {
     "name": "stdout",
     "output_type": "stream",
     "text": [
      "425:\tlearn: 0.7861396\ttest: 0.7870409\tbest: 0.7870409 (425)\ttotal: 1m 20s\tremaining: 14m 20s\n"
     ]
    },
    {
     "name": "stdout",
     "output_type": "stream",
     "text": [
      "450:\tlearn: 0.7876946\ttest: 0.7884819\tbest: 0.7884819 (450)\ttotal: 1m 24s\tremaining: 14m 16s\n"
     ]
    },
    {
     "name": "stdout",
     "output_type": "stream",
     "text": [
      "475:\tlearn: 0.7890628\ttest: 0.7899888\tbest: 0.7899888 (475)\ttotal: 1m 29s\tremaining: 14m 11s\n"
     ]
    },
    {
     "name": "stdout",
     "output_type": "stream",
     "text": [
      "500:\tlearn: 0.7906373\ttest: 0.7904818\tbest: 0.7910851 (494)\ttotal: 1m 34s\tremaining: 14m 7s\n"
     ]
    },
    {
     "name": "stdout",
     "output_type": "stream",
     "text": [
      "525:\tlearn: 0.7917967\ttest: 0.7907634\tbest: 0.7910851 (494)\ttotal: 1m 39s\tremaining: 14m 2s\n"
     ]
    },
    {
     "name": "stdout",
     "output_type": "stream",
     "text": [
      "550:\tlearn: 0.7929432\ttest: 0.7914986\tbest: 0.7917115 (535)\ttotal: 1m 43s\tremaining: 13m 57s\n"
     ]
    },
    {
     "name": "stdout",
     "output_type": "stream",
     "text": [
      "575:\tlearn: 0.7940968\ttest: 0.7924027\tbest: 0.7925969 (567)\ttotal: 1m 48s\tremaining: 13m 52s\n"
     ]
    },
    {
     "name": "stdout",
     "output_type": "stream",
     "text": [
      "600:\tlearn: 0.7950459\ttest: 0.7929307\tbest: 0.7929307 (600)\ttotal: 1m 53s\tremaining: 13m 47s\n"
     ]
    },
    {
     "name": "stdout",
     "output_type": "stream",
     "text": [
      "625:\tlearn: 0.7960090\ttest: 0.7932367\tbest: 0.7936245 (620)\ttotal: 1m 57s\tremaining: 13m 43s\n"
     ]
    },
    {
     "name": "stdout",
     "output_type": "stream",
     "text": [
      "650:\tlearn: 0.7970698\ttest: 0.7937691\tbest: 0.7943198 (636)\ttotal: 2m 2s\tremaining: 13m 38s\n"
     ]
    },
    {
     "name": "stdout",
     "output_type": "stream",
     "text": [
      "675:\tlearn: 0.7978693\ttest: 0.7941090\tbest: 0.7944411 (666)\ttotal: 2m 7s\tremaining: 13m 33s\n"
     ]
    },
    {
     "name": "stdout",
     "output_type": "stream",
     "text": [
      "700:\tlearn: 0.7987672\ttest: 0.7943462\tbest: 0.7944411 (666)\ttotal: 2m 11s\tremaining: 13m 28s\n"
     ]
    },
    {
     "name": "stdout",
     "output_type": "stream",
     "text": [
      "725:\tlearn: 0.7995065\ttest: 0.7950276\tbest: 0.7950276 (725)\ttotal: 2m 16s\tremaining: 13m 23s\n"
     ]
    },
    {
     "name": "stdout",
     "output_type": "stream",
     "text": [
      "750:\tlearn: 0.8000397\ttest: 0.7952484\tbest: 0.7953859 (746)\ttotal: 2m 21s\tremaining: 13m 19s\n"
     ]
    },
    {
     "name": "stdout",
     "output_type": "stream",
     "text": [
      "775:\tlearn: 0.8009917\ttest: 0.7952627\tbest: 0.7953859 (746)\ttotal: 2m 25s\tremaining: 13m 14s\n"
     ]
    },
    {
     "name": "stdout",
     "output_type": "stream",
     "text": [
      "800:\tlearn: 0.8018541\ttest: 0.7948757\tbest: 0.7953859 (746)\ttotal: 2m 30s\tremaining: 13m 9s\n"
     ]
    },
    {
     "name": "stdout",
     "output_type": "stream",
     "text": [
      "825:\tlearn: 0.8027345\ttest: 0.7946841\tbest: 0.7953859 (746)\ttotal: 2m 35s\tremaining: 13m 4s\n"
     ]
    },
    {
     "name": "stdout",
     "output_type": "stream",
     "text": [
      "850:\tlearn: 0.8035285\ttest: 0.7949472\tbest: 0.7953859 (746)\ttotal: 2m 39s\tremaining: 13m\n"
     ]
    },
    {
     "name": "stdout",
     "output_type": "stream",
     "text": [
      "875:\tlearn: 0.8040899\ttest: 0.7952699\tbest: 0.7953859 (746)\ttotal: 2m 44s\tremaining: 12m 55s\n"
     ]
    },
    {
     "name": "stdout",
     "output_type": "stream",
     "text": [
      "900:\tlearn: 0.8050201\ttest: 0.7953163\tbest: 0.7954633 (877)\ttotal: 2m 49s\tremaining: 12m 50s\n"
     ]
    },
    {
     "name": "stdout",
     "output_type": "stream",
     "text": [
      "925:\tlearn: 0.8057176\ttest: 0.7953159\tbest: 0.7956004 (918)\ttotal: 2m 54s\tremaining: 12m 45s\n"
     ]
    },
    {
     "name": "stdout",
     "output_type": "stream",
     "text": [
      "950:\tlearn: 0.8064939\ttest: 0.7953030\tbest: 0.7956004 (918)\ttotal: 2m 58s\tremaining: 12m 41s\n"
     ]
    },
    {
     "name": "stdout",
     "output_type": "stream",
     "text": [
      "975:\tlearn: 0.8071862\ttest: 0.7951009\tbest: 0.7956004 (918)\ttotal: 3m 3s\tremaining: 12m 36s\n"
     ]
    },
    {
     "name": "stdout",
     "output_type": "stream",
     "text": [
      "1000:\tlearn: 0.8079610\ttest: 0.7953609\tbest: 0.7956004 (918)\ttotal: 3m 8s\tremaining: 12m 31s\n"
     ]
    },
    {
     "name": "stdout",
     "output_type": "stream",
     "text": [
      "1025:\tlearn: 0.8087696\ttest: 0.7955337\tbest: 0.7956335 (1019)\ttotal: 3m 12s\tremaining: 12m 26s\n"
     ]
    },
    {
     "name": "stdout",
     "output_type": "stream",
     "text": [
      "1050:\tlearn: 0.8094736\ttest: 0.7956951\tbest: 0.7962296 (1039)\ttotal: 3m 17s\tremaining: 12m 22s\n"
     ]
    },
    {
     "name": "stdout",
     "output_type": "stream",
     "text": [
      "1075:\tlearn: 0.8101026\ttest: 0.7955952\tbest: 0.7962296 (1039)\ttotal: 3m 22s\tremaining: 12m 17s\n"
     ]
    },
    {
     "name": "stdout",
     "output_type": "stream",
     "text": [
      "1100:\tlearn: 0.8110413\ttest: 0.7957385\tbest: 0.7962296 (1039)\ttotal: 3m 26s\tremaining: 12m 12s\n"
     ]
    },
    {
     "name": "stdout",
     "output_type": "stream",
     "text": [
      "1125:\tlearn: 0.8116396\ttest: 0.7957607\tbest: 0.7962296 (1039)\ttotal: 3m 31s\tremaining: 12m 7s\n"
     ]
    },
    {
     "name": "stdout",
     "output_type": "stream",
     "text": [
      "1150:\tlearn: 0.8120933\ttest: 0.7958012\tbest: 0.7962296 (1039)\ttotal: 3m 36s\tremaining: 12m 3s\n"
     ]
    },
    {
     "name": "stdout",
     "output_type": "stream",
     "text": [
      "1175:\tlearn: 0.8126789\ttest: 0.7958696\tbest: 0.7962296 (1039)\ttotal: 3m 40s\tremaining: 11m 58s\n"
     ]
    },
    {
     "name": "stdout",
     "output_type": "stream",
     "text": [
      "1200:\tlearn: 0.8135025\ttest: 0.7960142\tbest: 0.7962296 (1039)\ttotal: 3m 45s\tremaining: 11m 53s\n"
     ]
    },
    {
     "name": "stdout",
     "output_type": "stream",
     "text": [
      "1225:\tlearn: 0.8141153\ttest: 0.7961079\tbest: 0.7962945 (1212)\ttotal: 3m 50s\tremaining: 11m 48s\n"
     ]
    },
    {
     "name": "stdout",
     "output_type": "stream",
     "text": [
      "1250:\tlearn: 0.8145881\ttest: 0.7959726\tbest: 0.7962997 (1237)\ttotal: 3m 54s\tremaining: 11m 44s\n"
     ]
    },
    {
     "name": "stdout",
     "output_type": "stream",
     "text": [
      "1275:\tlearn: 0.8150677\ttest: 0.7961477\tbest: 0.7962997 (1237)\ttotal: 3m 59s\tremaining: 11m 39s\n"
     ]
    },
    {
     "name": "stdout",
     "output_type": "stream",
     "text": [
      "1300:\tlearn: 0.8157080\ttest: 0.7962094\tbest: 0.7964179 (1298)\ttotal: 4m 4s\tremaining: 11m 34s\n"
     ]
    },
    {
     "name": "stdout",
     "output_type": "stream",
     "text": [
      "1325:\tlearn: 0.8162163\ttest: 0.7961360\tbest: 0.7965913 (1307)\ttotal: 4m 9s\tremaining: 11m 30s\n"
     ]
    },
    {
     "name": "stdout",
     "output_type": "stream",
     "text": [
      "1350:\tlearn: 0.8169869\ttest: 0.7963383\tbest: 0.7965913 (1307)\ttotal: 4m 13s\tremaining: 11m 25s\n"
     ]
    },
    {
     "name": "stdout",
     "output_type": "stream",
     "text": [
      "1375:\tlearn: 0.8175058\ttest: 0.7961565\tbest: 0.7966558 (1355)\ttotal: 4m 18s\tremaining: 11m 20s\n"
     ]
    },
    {
     "name": "stdout",
     "output_type": "stream",
     "text": [
      "1400:\tlearn: 0.8182522\ttest: 0.7960386\tbest: 0.7966558 (1355)\ttotal: 4m 23s\tremaining: 11m 15s\n"
     ]
    },
    {
     "name": "stdout",
     "output_type": "stream",
     "text": [
      "1425:\tlearn: 0.8189841\ttest: 0.7959397\tbest: 0.7966558 (1355)\ttotal: 4m 27s\tremaining: 11m 11s\n"
     ]
    },
    {
     "name": "stdout",
     "output_type": "stream",
     "text": [
      "1450:\tlearn: 0.8192755\ttest: 0.7963342\tbest: 0.7966558 (1355)\ttotal: 4m 32s\tremaining: 11m 6s\n"
     ]
    },
    {
     "name": "stdout",
     "output_type": "stream",
     "text": [
      "1475:\tlearn: 0.8200386\ttest: 0.7962251\tbest: 0.7966558 (1355)\ttotal: 4m 37s\tremaining: 11m 1s\n"
     ]
    },
    {
     "name": "stdout",
     "output_type": "stream",
     "text": [
      "1500:\tlearn: 0.8205420\ttest: 0.7962782\tbest: 0.7966558 (1355)\ttotal: 4m 41s\tremaining: 10m 57s\n"
     ]
    },
    {
     "name": "stdout",
     "output_type": "stream",
     "text": [
      "1525:\tlearn: 0.8209884\ttest: 0.7965261\tbest: 0.7967059 (1512)\ttotal: 4m 46s\tremaining: 10m 52s\n"
     ]
    },
    {
     "name": "stdout",
     "output_type": "stream",
     "text": [
      "1550:\tlearn: 0.8215488\ttest: 0.7963385\tbest: 0.7968956 (1535)\ttotal: 4m 51s\tremaining: 10m 47s\n"
     ]
    },
    {
     "name": "stdout",
     "output_type": "stream",
     "text": [
      "1575:\tlearn: 0.8221113\ttest: 0.7965379\tbest: 0.7968956 (1535)\ttotal: 4m 55s\tremaining: 10m 42s\n"
     ]
    },
    {
     "name": "stdout",
     "output_type": "stream",
     "text": [
      "1600:\tlearn: 0.8228323\ttest: 0.7961925\tbest: 0.7968956 (1535)\ttotal: 5m\tremaining: 10m 38s\n"
     ]
    },
    {
     "name": "stdout",
     "output_type": "stream",
     "text": [
      "1625:\tlearn: 0.8233907\ttest: 0.7965065\tbest: 0.7968956 (1535)\ttotal: 5m 5s\tremaining: 10m 33s\n"
     ]
    },
    {
     "name": "stdout",
     "output_type": "stream",
     "text": [
      "1650:\tlearn: 0.8239673\ttest: 0.7968197\tbest: 0.7969973 (1635)\ttotal: 5m 9s\tremaining: 10m 28s\n"
     ]
    },
    {
     "name": "stdout",
     "output_type": "stream",
     "text": [
      "1675:\tlearn: 0.8245637\ttest: 0.7972754\tbest: 0.7974788 (1662)\ttotal: 5m 14s\tremaining: 10m 23s\n"
     ]
    },
    {
     "name": "stdout",
     "output_type": "stream",
     "text": [
      "1700:\tlearn: 0.8252204\ttest: 0.7973521\tbest: 0.7977602 (1680)\ttotal: 5m 19s\tremaining: 10m 19s\n"
     ]
    },
    {
     "name": "stdout",
     "output_type": "stream",
     "text": [
      "1725:\tlearn: 0.8256663\ttest: 0.7973159\tbest: 0.7977602 (1680)\ttotal: 5m 23s\tremaining: 10m 14s\n"
     ]
    },
    {
     "name": "stdout",
     "output_type": "stream",
     "text": [
      "1750:\tlearn: 0.8260942\ttest: 0.7974740\tbest: 0.7977602 (1680)\ttotal: 5m 28s\tremaining: 10m 9s\n"
     ]
    },
    {
     "name": "stdout",
     "output_type": "stream",
     "text": [
      "1775:\tlearn: 0.8265338\ttest: 0.7975538\tbest: 0.7977602 (1680)\ttotal: 5m 33s\tremaining: 10m 5s\n"
     ]
    },
    {
     "name": "stdout",
     "output_type": "stream",
     "text": [
      "1800:\tlearn: 0.8270378\ttest: 0.7972664\tbest: 0.7977602 (1680)\ttotal: 5m 37s\tremaining: 10m\n"
     ]
    },
    {
     "name": "stdout",
     "output_type": "stream",
     "text": [
      "1825:\tlearn: 0.8275451\ttest: 0.7972059\tbest: 0.7977602 (1680)\ttotal: 5m 42s\tremaining: 9m 55s\n"
     ]
    },
    {
     "name": "stdout",
     "output_type": "stream",
     "text": [
      "1850:\tlearn: 0.8282364\ttest: 0.7973450\tbest: 0.7977602 (1680)\ttotal: 5m 47s\tremaining: 9m 50s\n"
     ]
    },
    {
     "name": "stdout",
     "output_type": "stream",
     "text": [
      "1875:\tlearn: 0.8287088\ttest: 0.7973279\tbest: 0.7977602 (1680)\ttotal: 5m 52s\tremaining: 9m 46s\n"
     ]
    },
    {
     "name": "stdout",
     "output_type": "stream",
     "text": [
      "1900:\tlearn: 0.8294376\ttest: 0.7979705\tbest: 0.7979705 (1900)\ttotal: 5m 56s\tremaining: 9m 41s\n"
     ]
    },
    {
     "name": "stdout",
     "output_type": "stream",
     "text": [
      "1925:\tlearn: 0.8299041\ttest: 0.7973490\tbest: 0.7979705 (1900)\ttotal: 6m 1s\tremaining: 9m 36s\n"
     ]
    },
    {
     "name": "stdout",
     "output_type": "stream",
     "text": [
      "1950:\tlearn: 0.8301957\ttest: 0.7974038\tbest: 0.7979705 (1900)\ttotal: 6m 6s\tremaining: 9m 32s\n"
     ]
    },
    {
     "name": "stdout",
     "output_type": "stream",
     "text": [
      "1975:\tlearn: 0.8309117\ttest: 0.7974481\tbest: 0.7979705 (1900)\ttotal: 6m 10s\tremaining: 9m 27s\n"
     ]
    },
    {
     "name": "stdout",
     "output_type": "stream",
     "text": [
      "2000:\tlearn: 0.8316722\ttest: 0.7974403\tbest: 0.7979705 (1900)\ttotal: 6m 15s\tremaining: 9m 22s\n"
     ]
    },
    {
     "name": "stdout",
     "output_type": "stream",
     "text": [
      "2025:\tlearn: 0.8323183\ttest: 0.7967200\tbest: 0.7979705 (1900)\ttotal: 6m 20s\tremaining: 9m 17s\n"
     ]
    },
    {
     "name": "stdout",
     "output_type": "stream",
     "text": [
      "2050:\tlearn: 0.8327535\ttest: 0.7969769\tbest: 0.7979705 (1900)\ttotal: 6m 24s\tremaining: 9m 13s\n"
     ]
    },
    {
     "name": "stdout",
     "output_type": "stream",
     "text": [
      "2075:\tlearn: 0.8333720\ttest: 0.7972957\tbest: 0.7979705 (1900)\ttotal: 6m 29s\tremaining: 9m 8s\n"
     ]
    },
    {
     "name": "stdout",
     "output_type": "stream",
     "text": [
      "2100:\tlearn: 0.8338221\ttest: 0.7971575\tbest: 0.7979705 (1900)\ttotal: 6m 34s\tremaining: 9m 3s\n"
     ]
    },
    {
     "name": "stdout",
     "output_type": "stream",
     "text": [
      "2125:\tlearn: 0.8345035\ttest: 0.7972306\tbest: 0.7979705 (1900)\ttotal: 6m 38s\tremaining: 8m 59s\n"
     ]
    },
    {
     "name": "stdout",
     "output_type": "stream",
     "text": [
      "2150:\tlearn: 0.8352502\ttest: 0.7975610\tbest: 0.7979705 (1900)\ttotal: 6m 43s\tremaining: 8m 54s\n"
     ]
    },
    {
     "name": "stdout",
     "output_type": "stream",
     "text": [
      "2175:\tlearn: 0.8355511\ttest: 0.7974628\tbest: 0.7979705 (1900)\ttotal: 6m 48s\tremaining: 8m 49s\n"
     ]
    },
    {
     "name": "stdout",
     "output_type": "stream",
     "text": [
      "2200:\tlearn: 0.8359320\ttest: 0.7976116\tbest: 0.7979705 (1900)\ttotal: 6m 52s\tremaining: 8m 45s\n"
     ]
    },
    {
     "name": "stdout",
     "output_type": "stream",
     "text": [
      "2225:\tlearn: 0.8363981\ttest: 0.7976591\tbest: 0.7979705 (1900)\ttotal: 6m 57s\tremaining: 8m 40s\n"
     ]
    },
    {
     "name": "stdout",
     "output_type": "stream",
     "text": [
      "2250:\tlearn: 0.8367918\ttest: 0.7978148\tbest: 0.7979705 (1900)\ttotal: 7m 2s\tremaining: 8m 35s\n"
     ]
    },
    {
     "name": "stdout",
     "output_type": "stream",
     "text": [
      "2275:\tlearn: 0.8375441\ttest: 0.7977359\tbest: 0.7979705 (1900)\ttotal: 7m 7s\tremaining: 8m 31s\n"
     ]
    },
    {
     "name": "stdout",
     "output_type": "stream",
     "text": [
      "2300:\tlearn: 0.8379039\ttest: 0.7969823\tbest: 0.7979705 (1900)\ttotal: 7m 11s\tremaining: 8m 26s\n"
     ]
    },
    {
     "name": "stdout",
     "output_type": "stream",
     "text": [
      "2325:\tlearn: 0.8383757\ttest: 0.7969223\tbest: 0.7979705 (1900)\ttotal: 7m 16s\tremaining: 8m 21s\n"
     ]
    },
    {
     "name": "stdout",
     "output_type": "stream",
     "text": [
      "2350:\tlearn: 0.8388763\ttest: 0.7973065\tbest: 0.7979705 (1900)\ttotal: 7m 21s\tremaining: 8m 16s\n"
     ]
    },
    {
     "name": "stdout",
     "output_type": "stream",
     "text": [
      "2375:\tlearn: 0.8392911\ttest: 0.7972780\tbest: 0.7979705 (1900)\ttotal: 7m 25s\tremaining: 8m 12s\n"
     ]
    },
    {
     "name": "stdout",
     "output_type": "stream",
     "text": [
      "2400:\tlearn: 0.8396493\ttest: 0.7972390\tbest: 0.7979705 (1900)\ttotal: 7m 30s\tremaining: 8m 7s\n"
     ]
    },
    {
     "name": "stdout",
     "output_type": "stream",
     "text": [
      "2425:\tlearn: 0.8402347\ttest: 0.7973501\tbest: 0.7979705 (1900)\ttotal: 7m 35s\tremaining: 8m 2s\n"
     ]
    },
    {
     "name": "stdout",
     "output_type": "stream",
     "text": [
      "2450:\tlearn: 0.8407536\ttest: 0.7972271\tbest: 0.7979705 (1900)\ttotal: 7m 39s\tremaining: 7m 58s\n"
     ]
    },
    {
     "name": "stdout",
     "output_type": "stream",
     "text": [
      "2475:\tlearn: 0.8412498\ttest: 0.7975476\tbest: 0.7979705 (1900)\ttotal: 7m 44s\tremaining: 7m 53s\n"
     ]
    },
    {
     "name": "stdout",
     "output_type": "stream",
     "text": [
      "2500:\tlearn: 0.8418136\ttest: 0.7970872\tbest: 0.7979705 (1900)\ttotal: 7m 49s\tremaining: 7m 48s\n"
     ]
    },
    {
     "name": "stdout",
     "output_type": "stream",
     "text": [
      "2525:\tlearn: 0.8423825\ttest: 0.7970962\tbest: 0.7979705 (1900)\ttotal: 7m 53s\tremaining: 7m 44s\n"
     ]
    },
    {
     "name": "stdout",
     "output_type": "stream",
     "text": [
      "2550:\tlearn: 0.8428635\ttest: 0.7974198\tbest: 0.7979705 (1900)\ttotal: 7m 58s\tremaining: 7m 39s\n"
     ]
    },
    {
     "name": "stdout",
     "output_type": "stream",
     "text": [
      "2575:\tlearn: 0.8434026\ttest: 0.7973675\tbest: 0.7979705 (1900)\ttotal: 8m 3s\tremaining: 7m 34s\n"
     ]
    },
    {
     "name": "stdout",
     "output_type": "stream",
     "text": [
      "2600:\tlearn: 0.8439032\ttest: 0.7974350\tbest: 0.7979705 (1900)\ttotal: 8m 7s\tremaining: 7m 29s\n"
     ]
    },
    {
     "name": "stdout",
     "output_type": "stream",
     "text": [
      "2625:\tlearn: 0.8442296\ttest: 0.7975812\tbest: 0.7979705 (1900)\ttotal: 8m 12s\tremaining: 7m 25s\n"
     ]
    },
    {
     "name": "stdout",
     "output_type": "stream",
     "text": [
      "2650:\tlearn: 0.8448141\ttest: 0.7977975\tbest: 0.7979705 (1900)\ttotal: 8m 17s\tremaining: 7m 20s\n"
     ]
    },
    {
     "name": "stdout",
     "output_type": "stream",
     "text": [
      "2675:\tlearn: 0.8451237\ttest: 0.7978624\tbest: 0.7979705 (1900)\ttotal: 8m 21s\tremaining: 7m 15s\n"
     ]
    },
    {
     "name": "stdout",
     "output_type": "stream",
     "text": [
      "2700:\tlearn: 0.8455643\ttest: 0.7980825\tbest: 0.7980825 (2700)\ttotal: 8m 26s\tremaining: 7m 11s\n"
     ]
    },
    {
     "name": "stdout",
     "output_type": "stream",
     "text": [
      "2725:\tlearn: 0.8462133\ttest: 0.7977883\tbest: 0.7984000 (2708)\ttotal: 8m 31s\tremaining: 7m 6s\n"
     ]
    },
    {
     "name": "stdout",
     "output_type": "stream",
     "text": [
      "2750:\tlearn: 0.8466731\ttest: 0.7979171\tbest: 0.7984000 (2708)\ttotal: 8m 35s\tremaining: 7m 1s\n"
     ]
    },
    {
     "name": "stdout",
     "output_type": "stream",
     "text": [
      "2775:\tlearn: 0.8470947\ttest: 0.7980702\tbest: 0.7984000 (2708)\ttotal: 8m 40s\tremaining: 6m 57s\n"
     ]
    },
    {
     "name": "stdout",
     "output_type": "stream",
     "text": [
      "2800:\tlearn: 0.8477167\ttest: 0.7981455\tbest: 0.7984000 (2708)\ttotal: 8m 45s\tremaining: 6m 52s\n"
     ]
    },
    {
     "name": "stdout",
     "output_type": "stream",
     "text": [
      "2825:\tlearn: 0.8480338\ttest: 0.7983208\tbest: 0.7984000 (2708)\ttotal: 8m 49s\tremaining: 6m 47s\n"
     ]
    },
    {
     "name": "stdout",
     "output_type": "stream",
     "text": [
      "2850:\tlearn: 0.8485446\ttest: 0.7984354\tbest: 0.7984358 (2849)\ttotal: 8m 54s\tremaining: 6m 43s\n"
     ]
    },
    {
     "name": "stdout",
     "output_type": "stream",
     "text": [
      "2875:\tlearn: 0.8489573\ttest: 0.7980954\tbest: 0.7984999 (2851)\ttotal: 8m 59s\tremaining: 6m 38s\n"
     ]
    },
    {
     "name": "stdout",
     "output_type": "stream",
     "text": [
      "2900:\tlearn: 0.8492705\ttest: 0.7979907\tbest: 0.7984999 (2851)\ttotal: 9m 4s\tremaining: 6m 33s\n"
     ]
    },
    {
     "name": "stdout",
     "output_type": "stream",
     "text": [
      "2925:\tlearn: 0.8497082\ttest: 0.7980135\tbest: 0.7984999 (2851)\ttotal: 9m 8s\tremaining: 6m 28s\n"
     ]
    },
    {
     "name": "stdout",
     "output_type": "stream",
     "text": [
      "2950:\tlearn: 0.8501846\ttest: 0.7982936\tbest: 0.7984999 (2851)\ttotal: 9m 13s\tremaining: 6m 24s\n"
     ]
    },
    {
     "name": "stdout",
     "output_type": "stream",
     "text": [
      "2975:\tlearn: 0.8506751\ttest: 0.7978047\tbest: 0.7984999 (2851)\ttotal: 9m 18s\tremaining: 6m 19s\n"
     ]
    },
    {
     "name": "stdout",
     "output_type": "stream",
     "text": [
      "3000:\tlearn: 0.8510013\ttest: 0.7978726\tbest: 0.7984999 (2851)\ttotal: 9m 22s\tremaining: 6m 14s\n"
     ]
    },
    {
     "name": "stdout",
     "output_type": "stream",
     "text": [
      "3025:\tlearn: 0.8515890\ttest: 0.7978607\tbest: 0.7984999 (2851)\ttotal: 9m 27s\tremaining: 6m 10s\n"
     ]
    },
    {
     "name": "stdout",
     "output_type": "stream",
     "text": [
      "3050:\tlearn: 0.8522532\ttest: 0.7979892\tbest: 0.7984999 (2851)\ttotal: 9m 32s\tremaining: 6m 5s\n"
     ]
    },
    {
     "name": "stdout",
     "output_type": "stream",
     "text": [
      "3075:\tlearn: 0.8527716\ttest: 0.7978365\tbest: 0.7984999 (2851)\ttotal: 9m 36s\tremaining: 6m\n"
     ]
    },
    {
     "name": "stdout",
     "output_type": "stream",
     "text": [
      "3100:\tlearn: 0.8532313\ttest: 0.7980295\tbest: 0.7984999 (2851)\ttotal: 9m 41s\tremaining: 5m 56s\n"
     ]
    },
    {
     "name": "stdout",
     "output_type": "stream",
     "text": [
      "3125:\tlearn: 0.8535966\ttest: 0.7977606\tbest: 0.7984999 (2851)\ttotal: 9m 46s\tremaining: 5m 51s\n"
     ]
    },
    {
     "name": "stdout",
     "output_type": "stream",
     "text": [
      "3150:\tlearn: 0.8540483\ttest: 0.7981451\tbest: 0.7984999 (2851)\ttotal: 9m 50s\tremaining: 5m 46s\n"
     ]
    },
    {
     "name": "stdout",
     "output_type": "stream",
     "text": [
      "3175:\tlearn: 0.8544940\ttest: 0.7981686\tbest: 0.7984999 (2851)\ttotal: 9m 55s\tremaining: 5m 41s\n"
     ]
    },
    {
     "name": "stdout",
     "output_type": "stream",
     "text": [
      "3200:\tlearn: 0.8548313\ttest: 0.7982950\tbest: 0.7984999 (2851)\ttotal: 10m\tremaining: 5m 37s\n"
     ]
    },
    {
     "name": "stdout",
     "output_type": "stream",
     "text": [
      "3225:\tlearn: 0.8553206\ttest: 0.7985688\tbest: 0.7986707 (3211)\ttotal: 10m 4s\tremaining: 5m 32s\n"
     ]
    },
    {
     "name": "stdout",
     "output_type": "stream",
     "text": [
      "3250:\tlearn: 0.8555400\ttest: 0.7984448\tbest: 0.7986707 (3211)\ttotal: 10m 9s\tremaining: 5m 27s\n"
     ]
    },
    {
     "name": "stdout",
     "output_type": "stream",
     "text": [
      "3275:\tlearn: 0.8560362\ttest: 0.7984926\tbest: 0.7987034 (3269)\ttotal: 10m 14s\tremaining: 5m 23s\n"
     ]
    },
    {
     "name": "stdout",
     "output_type": "stream",
     "text": [
      "3300:\tlearn: 0.8566017\ttest: 0.7980910\tbest: 0.7987034 (3269)\ttotal: 10m 18s\tremaining: 5m 18s\n"
     ]
    },
    {
     "name": "stdout",
     "output_type": "stream",
     "text": [
      "3325:\tlearn: 0.8569669\ttest: 0.7980723\tbest: 0.7987034 (3269)\ttotal: 10m 23s\tremaining: 5m 13s\n"
     ]
    },
    {
     "name": "stdout",
     "output_type": "stream",
     "text": [
      "3350:\tlearn: 0.8576259\ttest: 0.7981770\tbest: 0.7987034 (3269)\ttotal: 10m 28s\tremaining: 5m 9s\n"
     ]
    },
    {
     "name": "stdout",
     "output_type": "stream",
     "text": [
      "3375:\tlearn: 0.8581173\ttest: 0.7980527\tbest: 0.7987034 (3269)\ttotal: 10m 32s\tremaining: 5m 4s\n"
     ]
    },
    {
     "name": "stdout",
     "output_type": "stream",
     "text": [
      "3400:\tlearn: 0.8584880\ttest: 0.7982216\tbest: 0.7987034 (3269)\ttotal: 10m 37s\tremaining: 4m 59s\n"
     ]
    },
    {
     "name": "stdout",
     "output_type": "stream",
     "text": [
      "3425:\tlearn: 0.8591742\ttest: 0.7984010\tbest: 0.7987034 (3269)\ttotal: 10m 42s\tremaining: 4m 55s\n"
     ]
    },
    {
     "name": "stdout",
     "output_type": "stream",
     "text": [
      "3450:\tlearn: 0.8594459\ttest: 0.7984837\tbest: 0.7987034 (3269)\ttotal: 10m 46s\tremaining: 4m 50s\n"
     ]
    },
    {
     "name": "stdout",
     "output_type": "stream",
     "text": [
      "3475:\tlearn: 0.8598765\ttest: 0.7984850\tbest: 0.7987034 (3269)\ttotal: 10m 51s\tremaining: 4m 45s\n"
     ]
    },
    {
     "name": "stdout",
     "output_type": "stream",
     "text": [
      "3500:\tlearn: 0.8603085\ttest: 0.7978736\tbest: 0.7987034 (3269)\ttotal: 10m 56s\tremaining: 4m 41s\n"
     ]
    },
    {
     "name": "stdout",
     "output_type": "stream",
     "text": [
      "3525:\tlearn: 0.8608520\ttest: 0.7978864\tbest: 0.7987034 (3269)\ttotal: 11m\tremaining: 4m 36s\n"
     ]
    },
    {
     "name": "stdout",
     "output_type": "stream",
     "text": [
      "3550:\tlearn: 0.8612762\ttest: 0.7980616\tbest: 0.7987034 (3269)\ttotal: 11m 5s\tremaining: 4m 31s\n"
     ]
    },
    {
     "name": "stdout",
     "output_type": "stream",
     "text": [
      "3575:\tlearn: 0.8617963\ttest: 0.7980639\tbest: 0.7987034 (3269)\ttotal: 11m 10s\tremaining: 4m 26s\n"
     ]
    },
    {
     "name": "stdout",
     "output_type": "stream",
     "text": [
      "3600:\tlearn: 0.8620391\ttest: 0.7979808\tbest: 0.7987034 (3269)\ttotal: 11m 15s\tremaining: 4m 22s\n"
     ]
    },
    {
     "name": "stdout",
     "output_type": "stream",
     "text": [
      "3625:\tlearn: 0.8625715\ttest: 0.7979654\tbest: 0.7987034 (3269)\ttotal: 11m 19s\tremaining: 4m 17s\n"
     ]
    },
    {
     "name": "stdout",
     "output_type": "stream",
     "text": [
      "3650:\tlearn: 0.8629971\ttest: 0.7980701\tbest: 0.7987034 (3269)\ttotal: 11m 24s\tremaining: 4m 12s\n"
     ]
    },
    {
     "name": "stdout",
     "output_type": "stream",
     "text": [
      "3675:\tlearn: 0.8632559\ttest: 0.7980722\tbest: 0.7987034 (3269)\ttotal: 11m 29s\tremaining: 4m 8s\n"
     ]
    },
    {
     "name": "stdout",
     "output_type": "stream",
     "text": [
      "3700:\tlearn: 0.8636861\ttest: 0.7981534\tbest: 0.7987034 (3269)\ttotal: 11m 33s\tremaining: 4m 3s\n"
     ]
    },
    {
     "name": "stdout",
     "output_type": "stream",
     "text": [
      "3725:\tlearn: 0.8641840\ttest: 0.7980046\tbest: 0.7987034 (3269)\ttotal: 11m 38s\tremaining: 3m 58s\n"
     ]
    },
    {
     "name": "stdout",
     "output_type": "stream",
     "text": [
      "3750:\tlearn: 0.8645093\ttest: 0.7978593\tbest: 0.7987034 (3269)\ttotal: 11m 43s\tremaining: 3m 54s\n"
     ]
    },
    {
     "name": "stdout",
     "output_type": "stream",
     "text": [
      "3775:\tlearn: 0.8649524\ttest: 0.7982111\tbest: 0.7987034 (3269)\ttotal: 11m 47s\tremaining: 3m 49s\n"
     ]
    },
    {
     "name": "stdout",
     "output_type": "stream",
     "text": [
      "3800:\tlearn: 0.8652692\ttest: 0.7975650\tbest: 0.7987034 (3269)\ttotal: 11m 52s\tremaining: 3m 44s\n"
     ]
    },
    {
     "name": "stdout",
     "output_type": "stream",
     "text": [
      "3825:\tlearn: 0.8657195\ttest: 0.7979292\tbest: 0.7987034 (3269)\ttotal: 11m 57s\tremaining: 3m 40s\n"
     ]
    },
    {
     "name": "stdout",
     "output_type": "stream",
     "text": [
      "3850:\tlearn: 0.8659452\ttest: 0.7981236\tbest: 0.7987034 (3269)\ttotal: 12m 1s\tremaining: 3m 35s\n"
     ]
    },
    {
     "name": "stdout",
     "output_type": "stream",
     "text": [
      "3875:\tlearn: 0.8663025\ttest: 0.7978919\tbest: 0.7987034 (3269)\ttotal: 12m 6s\tremaining: 3m 30s\n"
     ]
    },
    {
     "name": "stdout",
     "output_type": "stream",
     "text": [
      "3900:\tlearn: 0.8667449\ttest: 0.7980413\tbest: 0.7987034 (3269)\ttotal: 12m 11s\tremaining: 3m 25s\n"
     ]
    },
    {
     "name": "stdout",
     "output_type": "stream",
     "text": [
      "3925:\tlearn: 0.8673465\ttest: 0.7981440\tbest: 0.7987034 (3269)\ttotal: 12m 15s\tremaining: 3m 21s\n"
     ]
    },
    {
     "name": "stdout",
     "output_type": "stream",
     "text": [
      "3950:\tlearn: 0.8678846\ttest: 0.7980386\tbest: 0.7987034 (3269)\ttotal: 12m 20s\tremaining: 3m 16s\n"
     ]
    },
    {
     "name": "stdout",
     "output_type": "stream",
     "text": [
      "3975:\tlearn: 0.8683523\ttest: 0.7976407\tbest: 0.7987034 (3269)\ttotal: 12m 25s\tremaining: 3m 11s\n"
     ]
    },
    {
     "name": "stdout",
     "output_type": "stream",
     "text": [
      "4000:\tlearn: 0.8686701\ttest: 0.7976629\tbest: 0.7987034 (3269)\ttotal: 12m 29s\tremaining: 3m 7s\n"
     ]
    },
    {
     "name": "stdout",
     "output_type": "stream",
     "text": [
      "4025:\tlearn: 0.8691911\ttest: 0.7976703\tbest: 0.7987034 (3269)\ttotal: 12m 34s\tremaining: 3m 2s\n"
     ]
    },
    {
     "name": "stdout",
     "output_type": "stream",
     "text": [
      "4050:\tlearn: 0.8695932\ttest: 0.7978401\tbest: 0.7987034 (3269)\ttotal: 12m 39s\tremaining: 2m 57s\n"
     ]
    },
    {
     "name": "stdout",
     "output_type": "stream",
     "text": [
      "4075:\tlearn: 0.8699208\ttest: 0.7976500\tbest: 0.7987034 (3269)\ttotal: 12m 43s\tremaining: 2m 53s\n"
     ]
    },
    {
     "name": "stdout",
     "output_type": "stream",
     "text": [
      "4100:\tlearn: 0.8705523\ttest: 0.7977805\tbest: 0.7987034 (3269)\ttotal: 12m 48s\tremaining: 2m 48s\n"
     ]
    },
    {
     "name": "stdout",
     "output_type": "stream",
     "text": [
      "4125:\tlearn: 0.8708641\ttest: 0.7982076\tbest: 0.7987034 (3269)\ttotal: 12m 53s\tremaining: 2m 43s\n"
     ]
    },
    {
     "name": "stdout",
     "output_type": "stream",
     "text": [
      "4150:\tlearn: 0.8713584\ttest: 0.7981305\tbest: 0.7987034 (3269)\ttotal: 12m 57s\tremaining: 2m 39s\n"
     ]
    },
    {
     "name": "stdout",
     "output_type": "stream",
     "text": [
      "4175:\tlearn: 0.8717338\ttest: 0.7983435\tbest: 0.7987034 (3269)\ttotal: 13m 2s\tremaining: 2m 34s\n"
     ]
    },
    {
     "name": "stdout",
     "output_type": "stream",
     "text": [
      "4200:\tlearn: 0.8722728\ttest: 0.7983014\tbest: 0.7987034 (3269)\ttotal: 13m 7s\tremaining: 2m 29s\n"
     ]
    },
    {
     "name": "stdout",
     "output_type": "stream",
     "text": [
      "4225:\tlearn: 0.8726962\ttest: 0.7978875\tbest: 0.7987034 (3269)\ttotal: 13m 12s\tremaining: 2m 25s\n"
     ]
    },
    {
     "name": "stdout",
     "output_type": "stream",
     "text": [
      "4250:\tlearn: 0.8726832\ttest: 0.7978433\tbest: 0.7987034 (3269)\ttotal: 13m 16s\tremaining: 2m 20s\n"
     ]
    },
    {
     "name": "stdout",
     "output_type": "stream",
     "text": [
      "4275:\tlearn: 0.8732661\ttest: 0.7979316\tbest: 0.7987034 (3269)\ttotal: 13m 21s\tremaining: 2m 15s\n"
     ]
    },
    {
     "name": "stdout",
     "output_type": "stream",
     "text": [
      "4300:\tlearn: 0.8734385\ttest: 0.7977635\tbest: 0.7987034 (3269)\ttotal: 13m 26s\tremaining: 2m 11s\n"
     ]
    },
    {
     "name": "stdout",
     "output_type": "stream",
     "text": [
      "4325:\tlearn: 0.8739102\ttest: 0.7979341\tbest: 0.7987034 (3269)\ttotal: 13m 30s\tremaining: 2m 6s\n"
     ]
    },
    {
     "name": "stdout",
     "output_type": "stream",
     "text": [
      "4350:\tlearn: 0.8745937\ttest: 0.7981184\tbest: 0.7987034 (3269)\ttotal: 13m 35s\tremaining: 2m 1s\n"
     ]
    },
    {
     "name": "stdout",
     "output_type": "stream",
     "text": [
      "4375:\tlearn: 0.8748830\ttest: 0.7981143\tbest: 0.7987034 (3269)\ttotal: 13m 40s\tremaining: 1m 56s\n"
     ]
    },
    {
     "name": "stdout",
     "output_type": "stream",
     "text": [
      "4400:\tlearn: 0.8751517\ttest: 0.7976762\tbest: 0.7987034 (3269)\ttotal: 13m 44s\tremaining: 1m 52s\n"
     ]
    },
    {
     "name": "stdout",
     "output_type": "stream",
     "text": [
      "4425:\tlearn: 0.8756790\ttest: 0.7972369\tbest: 0.7987034 (3269)\ttotal: 13m 49s\tremaining: 1m 47s\n"
     ]
    },
    {
     "name": "stdout",
     "output_type": "stream",
     "text": [
      "4450:\tlearn: 0.8759749\ttest: 0.7972778\tbest: 0.7987034 (3269)\ttotal: 13m 54s\tremaining: 1m 42s\n"
     ]
    },
    {
     "name": "stdout",
     "output_type": "stream",
     "text": [
      "4475:\tlearn: 0.8765668\ttest: 0.7973820\tbest: 0.7987034 (3269)\ttotal: 13m 58s\tremaining: 1m 38s\n"
     ]
    },
    {
     "name": "stdout",
     "output_type": "stream",
     "text": [
      "4500:\tlearn: 0.8766655\ttest: 0.7977169\tbest: 0.7987034 (3269)\ttotal: 14m 3s\tremaining: 1m 33s\n"
     ]
    },
    {
     "name": "stdout",
     "output_type": "stream",
     "text": [
      "4525:\tlearn: 0.8771135\ttest: 0.7975465\tbest: 0.7987034 (3269)\ttotal: 14m 8s\tremaining: 1m 28s\n"
     ]
    },
    {
     "name": "stdout",
     "output_type": "stream",
     "text": [
      "4550:\tlearn: 0.8775355\ttest: 0.7980032\tbest: 0.7987034 (3269)\ttotal: 14m 12s\tremaining: 1m 24s\n"
     ]
    },
    {
     "name": "stdout",
     "output_type": "stream",
     "text": [
      "4575:\tlearn: 0.8779370\ttest: 0.7978770\tbest: 0.7987034 (3269)\ttotal: 14m 17s\tremaining: 1m 19s\n"
     ]
    },
    {
     "name": "stdout",
     "output_type": "stream",
     "text": [
      "4600:\tlearn: 0.8781586\ttest: 0.7978498\tbest: 0.7987034 (3269)\ttotal: 14m 22s\tremaining: 1m 14s\n"
     ]
    },
    {
     "name": "stdout",
     "output_type": "stream",
     "text": [
      "4625:\tlearn: 0.8786776\ttest: 0.7976794\tbest: 0.7987034 (3269)\ttotal: 14m 27s\tremaining: 1m 10s\n"
     ]
    },
    {
     "name": "stdout",
     "output_type": "stream",
     "text": [
      "4650:\tlearn: 0.8790887\ttest: 0.7980623\tbest: 0.7987034 (3269)\ttotal: 14m 31s\tremaining: 1m 5s\n"
     ]
    },
    {
     "name": "stdout",
     "output_type": "stream",
     "text": [
      "4675:\tlearn: 0.8792488\ttest: 0.7981090\tbest: 0.7987034 (3269)\ttotal: 14m 36s\tremaining: 1m\n"
     ]
    },
    {
     "name": "stdout",
     "output_type": "stream",
     "text": [
      "4700:\tlearn: 0.8798305\ttest: 0.7980833\tbest: 0.7987034 (3269)\ttotal: 14m 41s\tremaining: 56s\n"
     ]
    },
    {
     "name": "stdout",
     "output_type": "stream",
     "text": [
      "4725:\tlearn: 0.8801836\ttest: 0.7979829\tbest: 0.7987034 (3269)\ttotal: 14m 45s\tremaining: 51.4s\n"
     ]
    },
    {
     "name": "stdout",
     "output_type": "stream",
     "text": [
      "4750:\tlearn: 0.8805909\ttest: 0.7982772\tbest: 0.7987034 (3269)\ttotal: 14m 50s\tremaining: 46.7s\n"
     ]
    },
    {
     "name": "stdout",
     "output_type": "stream",
     "text": [
      "4775:\tlearn: 0.8809570\ttest: 0.7981099\tbest: 0.7987034 (3269)\ttotal: 14m 55s\tremaining: 42s\n"
     ]
    },
    {
     "name": "stdout",
     "output_type": "stream",
     "text": [
      "4800:\tlearn: 0.8812778\ttest: 0.7983024\tbest: 0.7987034 (3269)\ttotal: 14m 59s\tremaining: 37.3s\n"
     ]
    },
    {
     "name": "stdout",
     "output_type": "stream",
     "text": [
      "4825:\tlearn: 0.8816341\ttest: 0.7982621\tbest: 0.7987034 (3269)\ttotal: 15m 4s\tremaining: 32.6s\n"
     ]
    },
    {
     "name": "stdout",
     "output_type": "stream",
     "text": [
      "4850:\tlearn: 0.8820478\ttest: 0.7985212\tbest: 0.7987034 (3269)\ttotal: 15m 9s\tremaining: 27.9s\n"
     ]
    },
    {
     "name": "stdout",
     "output_type": "stream",
     "text": [
      "4875:\tlearn: 0.8823869\ttest: 0.7982481\tbest: 0.7987034 (3269)\ttotal: 15m 13s\tremaining: 23.2s\n"
     ]
    },
    {
     "name": "stdout",
     "output_type": "stream",
     "text": [
      "4900:\tlearn: 0.8827051\ttest: 0.7981017\tbest: 0.7987034 (3269)\ttotal: 15m 18s\tremaining: 18.6s\n"
     ]
    },
    {
     "name": "stdout",
     "output_type": "stream",
     "text": [
      "4925:\tlearn: 0.8830799\ttest: 0.7981530\tbest: 0.7987034 (3269)\ttotal: 15m 23s\tremaining: 13.9s\n"
     ]
    },
    {
     "name": "stdout",
     "output_type": "stream",
     "text": [
      "4950:\tlearn: 0.8834517\ttest: 0.7982832\tbest: 0.7987034 (3269)\ttotal: 15m 27s\tremaining: 9.18s\n"
     ]
    },
    {
     "name": "stdout",
     "output_type": "stream",
     "text": [
      "4975:\tlearn: 0.8839817\ttest: 0.7985530\tbest: 0.7987034 (3269)\ttotal: 15m 32s\tremaining: 4.5s\n"
     ]
    },
    {
     "name": "stdout",
     "output_type": "stream",
     "text": [
      "4999:\tlearn: 0.8844320\ttest: 0.7983206\tbest: 0.7987034 (3269)\ttotal: 15m 37s\tremaining: 0us\n",
      "\n",
      "bestTest = 0.7987033846\n",
      "bestIteration = 3269\n",
      "\n"
     ]
    },
    {
     "name": "stdout",
     "output_type": "stream",
     "text": [
      "######################################## training model 2/5 ########################################\n"
     ]
    },
    {
     "name": "stdout",
     "output_type": "stream",
     "text": [
      "0:\tlearn: 0.5670736\ttest: 0.5655242\tbest: 0.5655242 (0)\ttotal: 510ms\tremaining: 42m 28s\n"
     ]
    },
    {
     "name": "stdout",
     "output_type": "stream",
     "text": [
      "25:\tlearn: 0.7156269\ttest: 0.7172119\tbest: 0.7172119 (25)\ttotal: 5.07s\tremaining: 16m 10s\n"
     ]
    },
    {
     "name": "stdout",
     "output_type": "stream",
     "text": [
      "50:\tlearn: 0.7351197\ttest: 0.7348520\tbest: 0.7348520 (50)\ttotal: 9.79s\tremaining: 15m 49s\n"
     ]
    },
    {
     "name": "stdout",
     "output_type": "stream",
     "text": [
      "75:\tlearn: 0.7457840\ttest: 0.7461966\tbest: 0.7461966 (75)\ttotal: 14.5s\tremaining: 15m 37s\n"
     ]
    },
    {
     "name": "stdout",
     "output_type": "stream",
     "text": [
      "100:\tlearn: 0.7512750\ttest: 0.7509428\tbest: 0.7513032 (99)\ttotal: 19.1s\tremaining: 15m 28s\n"
     ]
    },
    {
     "name": "stdout",
     "output_type": "stream",
     "text": [
      "125:\tlearn: 0.7550291\ttest: 0.7539723\tbest: 0.7540848 (123)\ttotal: 23.8s\tremaining: 15m 21s\n"
     ]
    },
    {
     "name": "stdout",
     "output_type": "stream",
     "text": [
      "150:\tlearn: 0.7578245\ttest: 0.7571298\tbest: 0.7571298 (150)\ttotal: 28.5s\tremaining: 15m 14s\n"
     ]
    },
    {
     "name": "stdout",
     "output_type": "stream",
     "text": [
      "175:\tlearn: 0.7600092\ttest: 0.7585985\tbest: 0.7586524 (174)\ttotal: 33.1s\tremaining: 15m 7s\n"
     ]
    },
    {
     "name": "stdout",
     "output_type": "stream",
     "text": [
      "200:\tlearn: 0.7617087\ttest: 0.7610623\tbest: 0.7610623 (200)\ttotal: 37.8s\tremaining: 15m 2s\n"
     ]
    },
    {
     "name": "stdout",
     "output_type": "stream",
     "text": [
      "225:\tlearn: 0.7635502\ttest: 0.7622051\tbest: 0.7622051 (225)\ttotal: 42.5s\tremaining: 14m 57s\n"
     ]
    },
    {
     "name": "stdout",
     "output_type": "stream",
     "text": [
      "250:\tlearn: 0.7658740\ttest: 0.7648508\tbest: 0.7650989 (248)\ttotal: 47.1s\tremaining: 14m 52s\n"
     ]
    },
    {
     "name": "stdout",
     "output_type": "stream",
     "text": [
      "275:\tlearn: 0.7688260\ttest: 0.7667642\tbest: 0.7667642 (275)\ttotal: 51.9s\tremaining: 14m 47s\n"
     ]
    },
    {
     "name": "stdout",
     "output_type": "stream",
     "text": [
      "300:\tlearn: 0.7721922\ttest: 0.7696537\tbest: 0.7696537 (300)\ttotal: 56.6s\tremaining: 14m 43s\n"
     ]
    },
    {
     "name": "stdout",
     "output_type": "stream",
     "text": [
      "325:\tlearn: 0.7768757\ttest: 0.7735061\tbest: 0.7735061 (325)\ttotal: 1m 1s\tremaining: 14m 39s\n"
     ]
    },
    {
     "name": "stdout",
     "output_type": "stream",
     "text": [
      "350:\tlearn: 0.7805867\ttest: 0.7752754\tbest: 0.7753172 (349)\ttotal: 1m 6s\tremaining: 14m 34s\n"
     ]
    },
    {
     "name": "stdout",
     "output_type": "stream",
     "text": [
      "375:\tlearn: 0.7834920\ttest: 0.7769747\tbest: 0.7769747 (375)\ttotal: 1m 10s\tremaining: 14m 30s\n"
     ]
    },
    {
     "name": "stdout",
     "output_type": "stream",
     "text": [
      "400:\tlearn: 0.7854719\ttest: 0.7791338\tbest: 0.7793110 (397)\ttotal: 1m 15s\tremaining: 14m 25s\n"
     ]
    },
    {
     "name": "stdout",
     "output_type": "stream",
     "text": [
      "425:\tlearn: 0.7870432\ttest: 0.7809419\tbest: 0.7809419 (425)\ttotal: 1m 20s\tremaining: 14m 21s\n"
     ]
    },
    {
     "name": "stdout",
     "output_type": "stream",
     "text": [
      "450:\tlearn: 0.7890373\ttest: 0.7820723\tbest: 0.7820723 (450)\ttotal: 1m 24s\tremaining: 14m 16s\n"
     ]
    },
    {
     "name": "stdout",
     "output_type": "stream",
     "text": [
      "475:\tlearn: 0.7906687\ttest: 0.7831953\tbest: 0.7832298 (474)\ttotal: 1m 29s\tremaining: 14m 12s\n"
     ]
    },
    {
     "name": "stdout",
     "output_type": "stream",
     "text": [
      "500:\tlearn: 0.7920002\ttest: 0.7831554\tbest: 0.7835635 (482)\ttotal: 1m 34s\tremaining: 14m 7s\n"
     ]
    },
    {
     "name": "stdout",
     "output_type": "stream",
     "text": [
      "525:\tlearn: 0.7931866\ttest: 0.7832866\tbest: 0.7835635 (482)\ttotal: 1m 39s\tremaining: 14m 2s\n"
     ]
    },
    {
     "name": "stdout",
     "output_type": "stream",
     "text": [
      "550:\tlearn: 0.7945832\ttest: 0.7837448\tbest: 0.7840311 (543)\ttotal: 1m 43s\tremaining: 13m 57s\n"
     ]
    },
    {
     "name": "stdout",
     "output_type": "stream",
     "text": [
      "575:\tlearn: 0.7953999\ttest: 0.7844163\tbest: 0.7844163 (575)\ttotal: 1m 48s\tremaining: 13m 53s\n"
     ]
    },
    {
     "name": "stdout",
     "output_type": "stream",
     "text": [
      "600:\tlearn: 0.7967763\ttest: 0.7844905\tbest: 0.7845498 (599)\ttotal: 1m 53s\tremaining: 13m 48s\n"
     ]
    },
    {
     "name": "stdout",
     "output_type": "stream",
     "text": [
      "625:\tlearn: 0.7979730\ttest: 0.7848760\tbest: 0.7850331 (621)\ttotal: 1m 57s\tremaining: 13m 43s\n"
     ]
    },
    {
     "name": "stdout",
     "output_type": "stream",
     "text": [
      "650:\tlearn: 0.7985527\ttest: 0.7853727\tbest: 0.7856311 (647)\ttotal: 2m 2s\tremaining: 13m 39s\n"
     ]
    },
    {
     "name": "stdout",
     "output_type": "stream",
     "text": [
      "675:\tlearn: 0.7998090\ttest: 0.7857918\tbest: 0.7857918 (675)\ttotal: 2m 7s\tremaining: 13m 34s\n"
     ]
    },
    {
     "name": "stdout",
     "output_type": "stream",
     "text": [
      "700:\tlearn: 0.8004896\ttest: 0.7856125\tbest: 0.7860096 (685)\ttotal: 2m 12s\tremaining: 13m 29s\n"
     ]
    },
    {
     "name": "stdout",
     "output_type": "stream",
     "text": [
      "725:\tlearn: 0.8012107\ttest: 0.7861476\tbest: 0.7862901 (723)\ttotal: 2m 16s\tremaining: 13m 25s\n"
     ]
    },
    {
     "name": "stdout",
     "output_type": "stream",
     "text": [
      "750:\tlearn: 0.8019897\ttest: 0.7861872\tbest: 0.7862901 (723)\ttotal: 2m 21s\tremaining: 13m 20s\n"
     ]
    },
    {
     "name": "stdout",
     "output_type": "stream",
     "text": [
      "775:\tlearn: 0.8028329\ttest: 0.7864777\tbest: 0.7864777 (775)\ttotal: 2m 26s\tremaining: 13m 15s\n"
     ]
    },
    {
     "name": "stdout",
     "output_type": "stream",
     "text": [
      "800:\tlearn: 0.8038789\ttest: 0.7868440\tbest: 0.7870207 (793)\ttotal: 2m 30s\tremaining: 13m 10s\n"
     ]
    },
    {
     "name": "stdout",
     "output_type": "stream",
     "text": [
      "825:\tlearn: 0.8046637\ttest: 0.7868578\tbest: 0.7870207 (793)\ttotal: 2m 35s\tremaining: 13m 5s\n"
     ]
    },
    {
     "name": "stdout",
     "output_type": "stream",
     "text": [
      "850:\tlearn: 0.8051772\ttest: 0.7868033\tbest: 0.7873552 (837)\ttotal: 2m 40s\tremaining: 13m 1s\n"
     ]
    },
    {
     "name": "stdout",
     "output_type": "stream",
     "text": [
      "875:\tlearn: 0.8060416\ttest: 0.7871614\tbest: 0.7873697 (874)\ttotal: 2m 44s\tremaining: 12m 56s\n"
     ]
    },
    {
     "name": "stdout",
     "output_type": "stream",
     "text": [
      "900:\tlearn: 0.8067484\ttest: 0.7876924\tbest: 0.7877101 (899)\ttotal: 2m 49s\tremaining: 12m 51s\n"
     ]
    },
    {
     "name": "stdout",
     "output_type": "stream",
     "text": [
      "925:\tlearn: 0.8073128\ttest: 0.7876038\tbest: 0.7880699 (913)\ttotal: 2m 54s\tremaining: 12m 46s\n"
     ]
    },
    {
     "name": "stdout",
     "output_type": "stream",
     "text": [
      "950:\tlearn: 0.8079414\ttest: 0.7878738\tbest: 0.7880699 (913)\ttotal: 2m 59s\tremaining: 12m 42s\n"
     ]
    },
    {
     "name": "stdout",
     "output_type": "stream",
     "text": [
      "975:\tlearn: 0.8087723\ttest: 0.7883461\tbest: 0.7885499 (970)\ttotal: 3m 3s\tremaining: 12m 37s\n"
     ]
    },
    {
     "name": "stdout",
     "output_type": "stream",
     "text": [
      "1000:\tlearn: 0.8094211\ttest: 0.7883190\tbest: 0.7885499 (970)\ttotal: 3m 8s\tremaining: 12m 32s\n"
     ]
    },
    {
     "name": "stdout",
     "output_type": "stream",
     "text": [
      "1025:\tlearn: 0.8102311\ttest: 0.7890016\tbest: 0.7890123 (1016)\ttotal: 3m 13s\tremaining: 12m 28s\n"
     ]
    },
    {
     "name": "stdout",
     "output_type": "stream",
     "text": [
      "1050:\tlearn: 0.8109569\ttest: 0.7894279\tbest: 0.7895292 (1047)\ttotal: 3m 17s\tremaining: 12m 23s\n"
     ]
    },
    {
     "name": "stdout",
     "output_type": "stream",
     "text": [
      "1075:\tlearn: 0.8114325\ttest: 0.7895223\tbest: 0.7897530 (1073)\ttotal: 3m 22s\tremaining: 12m 18s\n"
     ]
    },
    {
     "name": "stdout",
     "output_type": "stream",
     "text": [
      "1100:\tlearn: 0.8122669\ttest: 0.7895331\tbest: 0.7898015 (1096)\ttotal: 3m 27s\tremaining: 12m 13s\n"
     ]
    },
    {
     "name": "stdout",
     "output_type": "stream",
     "text": [
      "1125:\tlearn: 0.8128426\ttest: 0.7894544\tbest: 0.7898015 (1096)\ttotal: 3m 31s\tremaining: 12m 9s\n"
     ]
    },
    {
     "name": "stdout",
     "output_type": "stream",
     "text": [
      "1150:\tlearn: 0.8132064\ttest: 0.7899387\tbest: 0.7899717 (1139)\ttotal: 3m 36s\tremaining: 12m 4s\n"
     ]
    },
    {
     "name": "stdout",
     "output_type": "stream",
     "text": [
      "1175:\tlearn: 0.8139560\ttest: 0.7897724\tbest: 0.7899957 (1161)\ttotal: 3m 41s\tremaining: 11m 59s\n"
     ]
    },
    {
     "name": "stdout",
     "output_type": "stream",
     "text": [
      "1200:\tlearn: 0.8142788\ttest: 0.7906731\tbest: 0.7907544 (1198)\ttotal: 3m 46s\tremaining: 11m 55s\n"
     ]
    },
    {
     "name": "stdout",
     "output_type": "stream",
     "text": [
      "1225:\tlearn: 0.8149273\ttest: 0.7906600\tbest: 0.7908142 (1208)\ttotal: 3m 50s\tremaining: 11m 50s\n"
     ]
    },
    {
     "name": "stdout",
     "output_type": "stream",
     "text": [
      "1250:\tlearn: 0.8156228\ttest: 0.7906444\tbest: 0.7908559 (1228)\ttotal: 3m 55s\tremaining: 11m 45s\n"
     ]
    },
    {
     "name": "stdout",
     "output_type": "stream",
     "text": [
      "1275:\tlearn: 0.8163057\ttest: 0.7906915\tbest: 0.7908559 (1228)\ttotal: 4m\tremaining: 11m 40s\n"
     ]
    },
    {
     "name": "stdout",
     "output_type": "stream",
     "text": [
      "1300:\tlearn: 0.8169652\ttest: 0.7909051\tbest: 0.7909594 (1292)\ttotal: 4m 4s\tremaining: 11m 35s\n"
     ]
    },
    {
     "name": "stdout",
     "output_type": "stream",
     "text": [
      "1325:\tlearn: 0.8177384\ttest: 0.7912843\tbest: 0.7912843 (1325)\ttotal: 4m 9s\tremaining: 11m 31s\n"
     ]
    },
    {
     "name": "stdout",
     "output_type": "stream",
     "text": [
      "1350:\tlearn: 0.8182160\ttest: 0.7908242\tbest: 0.7915653 (1333)\ttotal: 4m 14s\tremaining: 11m 26s\n"
     ]
    },
    {
     "name": "stdout",
     "output_type": "stream",
     "text": [
      "1375:\tlearn: 0.8188494\ttest: 0.7907776\tbest: 0.7915653 (1333)\ttotal: 4m 18s\tremaining: 11m 21s\n"
     ]
    },
    {
     "name": "stdout",
     "output_type": "stream",
     "text": [
      "1400:\tlearn: 0.8195766\ttest: 0.7909665\tbest: 0.7915653 (1333)\ttotal: 4m 23s\tremaining: 11m 16s\n"
     ]
    },
    {
     "name": "stdout",
     "output_type": "stream",
     "text": [
      "1425:\tlearn: 0.8203540\ttest: 0.7909675\tbest: 0.7915653 (1333)\ttotal: 4m 28s\tremaining: 11m 12s\n"
     ]
    },
    {
     "name": "stdout",
     "output_type": "stream",
     "text": [
      "1450:\tlearn: 0.8208348\ttest: 0.7911077\tbest: 0.7915653 (1333)\ttotal: 4m 32s\tremaining: 11m 7s\n"
     ]
    },
    {
     "name": "stdout",
     "output_type": "stream",
     "text": [
      "1475:\tlearn: 0.8212959\ttest: 0.7910466\tbest: 0.7915653 (1333)\ttotal: 4m 37s\tremaining: 11m 2s\n"
     ]
    },
    {
     "name": "stdout",
     "output_type": "stream",
     "text": [
      "1500:\tlearn: 0.8219156\ttest: 0.7913308\tbest: 0.7916240 (1490)\ttotal: 4m 42s\tremaining: 10m 57s\n"
     ]
    },
    {
     "name": "stdout",
     "output_type": "stream",
     "text": [
      "1525:\tlearn: 0.8223351\ttest: 0.7914053\tbest: 0.7916240 (1490)\ttotal: 4m 46s\tremaining: 10m 53s\n"
     ]
    },
    {
     "name": "stdout",
     "output_type": "stream",
     "text": [
      "1550:\tlearn: 0.8230332\ttest: 0.7913982\tbest: 0.7916240 (1490)\ttotal: 4m 51s\tremaining: 10m 48s\n"
     ]
    },
    {
     "name": "stdout",
     "output_type": "stream",
     "text": [
      "1575:\tlearn: 0.8235405\ttest: 0.7916357\tbest: 0.7916765 (1565)\ttotal: 4m 56s\tremaining: 10m 43s\n"
     ]
    },
    {
     "name": "stdout",
     "output_type": "stream",
     "text": [
      "1600:\tlearn: 0.8242129\ttest: 0.7914768\tbest: 0.7918747 (1591)\ttotal: 5m 1s\tremaining: 10m 39s\n"
     ]
    },
    {
     "name": "stdout",
     "output_type": "stream",
     "text": [
      "1625:\tlearn: 0.8246301\ttest: 0.7916980\tbest: 0.7918809 (1614)\ttotal: 5m 5s\tremaining: 10m 34s\n"
     ]
    },
    {
     "name": "stdout",
     "output_type": "stream",
     "text": [
      "1650:\tlearn: 0.8253879\ttest: 0.7917883\tbest: 0.7919110 (1628)\ttotal: 5m 10s\tremaining: 10m 29s\n"
     ]
    },
    {
     "name": "stdout",
     "output_type": "stream",
     "text": [
      "1675:\tlearn: 0.8258583\ttest: 0.7917844\tbest: 0.7919240 (1666)\ttotal: 5m 15s\tremaining: 10m 24s\n"
     ]
    },
    {
     "name": "stdout",
     "output_type": "stream",
     "text": [
      "1700:\tlearn: 0.8262863\ttest: 0.7917319\tbest: 0.7919240 (1666)\ttotal: 5m 19s\tremaining: 10m 20s\n"
     ]
    },
    {
     "name": "stdout",
     "output_type": "stream",
     "text": [
      "1725:\tlearn: 0.8267750\ttest: 0.7916127\tbest: 0.7919240 (1666)\ttotal: 5m 24s\tremaining: 10m 15s\n"
     ]
    },
    {
     "name": "stdout",
     "output_type": "stream",
     "text": [
      "1750:\tlearn: 0.8272983\ttest: 0.7919190\tbest: 0.7920226 (1745)\ttotal: 5m 29s\tremaining: 10m 10s\n"
     ]
    },
    {
     "name": "stdout",
     "output_type": "stream",
     "text": [
      "1775:\tlearn: 0.8278102\ttest: 0.7919713\tbest: 0.7920226 (1745)\ttotal: 5m 33s\tremaining: 10m 5s\n"
     ]
    },
    {
     "name": "stdout",
     "output_type": "stream",
     "text": [
      "1800:\tlearn: 0.8284413\ttest: 0.7919714\tbest: 0.7920226 (1745)\ttotal: 5m 38s\tremaining: 10m 1s\n"
     ]
    },
    {
     "name": "stdout",
     "output_type": "stream",
     "text": [
      "1825:\tlearn: 0.8291465\ttest: 0.7920019\tbest: 0.7920226 (1745)\ttotal: 5m 43s\tremaining: 9m 56s\n"
     ]
    },
    {
     "name": "stdout",
     "output_type": "stream",
     "text": [
      "1850:\tlearn: 0.8296307\ttest: 0.7918027\tbest: 0.7920859 (1830)\ttotal: 5m 47s\tremaining: 9m 51s\n"
     ]
    },
    {
     "name": "stdout",
     "output_type": "stream",
     "text": [
      "1875:\tlearn: 0.8300816\ttest: 0.7919163\tbest: 0.7920859 (1830)\ttotal: 5m 52s\tremaining: 9m 47s\n"
     ]
    },
    {
     "name": "stdout",
     "output_type": "stream",
     "text": [
      "1900:\tlearn: 0.8304145\ttest: 0.7918414\tbest: 0.7921036 (1878)\ttotal: 5m 57s\tremaining: 9m 42s\n"
     ]
    },
    {
     "name": "stdout",
     "output_type": "stream",
     "text": [
      "1925:\tlearn: 0.8308898\ttest: 0.7918476\tbest: 0.7921036 (1878)\ttotal: 6m 1s\tremaining: 9m 37s\n"
     ]
    },
    {
     "name": "stdout",
     "output_type": "stream",
     "text": [
      "1950:\tlearn: 0.8316239\ttest: 0.7911197\tbest: 0.7921036 (1878)\ttotal: 6m 6s\tremaining: 9m 32s\n"
     ]
    },
    {
     "name": "stdout",
     "output_type": "stream",
     "text": [
      "1975:\tlearn: 0.8322762\ttest: 0.7913573\tbest: 0.7921036 (1878)\ttotal: 6m 11s\tremaining: 9m 28s\n"
     ]
    },
    {
     "name": "stdout",
     "output_type": "stream",
     "text": [
      "2000:\tlearn: 0.8330229\ttest: 0.7922139\tbest: 0.7922139 (2000)\ttotal: 6m 15s\tremaining: 9m 23s\n"
     ]
    },
    {
     "name": "stdout",
     "output_type": "stream",
     "text": [
      "2025:\tlearn: 0.8334682\ttest: 0.7923687\tbest: 0.7924518 (2024)\ttotal: 6m 20s\tremaining: 9m 18s\n"
     ]
    },
    {
     "name": "stdout",
     "output_type": "stream",
     "text": [
      "2050:\tlearn: 0.8339851\ttest: 0.7923998\tbest: 0.7925062 (2047)\ttotal: 6m 25s\tremaining: 9m 13s\n"
     ]
    },
    {
     "name": "stdout",
     "output_type": "stream",
     "text": [
      "2075:\tlearn: 0.8342405\ttest: 0.7924485\tbest: 0.7926943 (2057)\ttotal: 6m 29s\tremaining: 9m 9s\n"
     ]
    },
    {
     "name": "stdout",
     "output_type": "stream",
     "text": [
      "2100:\tlearn: 0.8348079\ttest: 0.7929120\tbest: 0.7929323 (2099)\ttotal: 6m 34s\tremaining: 9m 4s\n"
     ]
    },
    {
     "name": "stdout",
     "output_type": "stream",
     "text": [
      "2125:\tlearn: 0.8353370\ttest: 0.7923111\tbest: 0.7929323 (2099)\ttotal: 6m 39s\tremaining: 8m 59s\n"
     ]
    },
    {
     "name": "stdout",
     "output_type": "stream",
     "text": [
      "2150:\tlearn: 0.8360238\ttest: 0.7923123\tbest: 0.7929323 (2099)\ttotal: 6m 44s\tremaining: 8m 55s\n"
     ]
    },
    {
     "name": "stdout",
     "output_type": "stream",
     "text": [
      "2175:\tlearn: 0.8362961\ttest: 0.7921929\tbest: 0.7929323 (2099)\ttotal: 6m 48s\tremaining: 8m 50s\n"
     ]
    },
    {
     "name": "stdout",
     "output_type": "stream",
     "text": [
      "2200:\tlearn: 0.8365678\ttest: 0.7920052\tbest: 0.7929323 (2099)\ttotal: 6m 53s\tremaining: 8m 45s\n"
     ]
    },
    {
     "name": "stdout",
     "output_type": "stream",
     "text": [
      "2225:\tlearn: 0.8371755\ttest: 0.7921568\tbest: 0.7929323 (2099)\ttotal: 6m 58s\tremaining: 8m 40s\n"
     ]
    },
    {
     "name": "stdout",
     "output_type": "stream",
     "text": [
      "2250:\tlearn: 0.8377384\ttest: 0.7922030\tbest: 0.7929323 (2099)\ttotal: 7m 2s\tremaining: 8m 36s\n"
     ]
    },
    {
     "name": "stdout",
     "output_type": "stream",
     "text": [
      "2275:\tlearn: 0.8381570\ttest: 0.7921235\tbest: 0.7929323 (2099)\ttotal: 7m 7s\tremaining: 8m 31s\n"
     ]
    },
    {
     "name": "stdout",
     "output_type": "stream",
     "text": [
      "2300:\tlearn: 0.8386807\ttest: 0.7921502\tbest: 0.7929323 (2099)\ttotal: 7m 12s\tremaining: 8m 26s\n"
     ]
    },
    {
     "name": "stdout",
     "output_type": "stream",
     "text": [
      "2325:\tlearn: 0.8392929\ttest: 0.7921378\tbest: 0.7929323 (2099)\ttotal: 7m 16s\tremaining: 8m 22s\n"
     ]
    },
    {
     "name": "stdout",
     "output_type": "stream",
     "text": [
      "2350:\tlearn: 0.8399625\ttest: 0.7921705\tbest: 0.7929323 (2099)\ttotal: 7m 21s\tremaining: 8m 17s\n"
     ]
    },
    {
     "name": "stdout",
     "output_type": "stream",
     "text": [
      "2375:\tlearn: 0.8404262\ttest: 0.7919921\tbest: 0.7929323 (2099)\ttotal: 7m 26s\tremaining: 8m 12s\n"
     ]
    },
    {
     "name": "stdout",
     "output_type": "stream",
     "text": [
      "2400:\tlearn: 0.8408695\ttest: 0.7925321\tbest: 0.7929323 (2099)\ttotal: 7m 30s\tremaining: 8m 8s\n"
     ]
    },
    {
     "name": "stdout",
     "output_type": "stream",
     "text": [
      "2425:\tlearn: 0.8413110\ttest: 0.7924717\tbest: 0.7929323 (2099)\ttotal: 7m 35s\tremaining: 8m 3s\n"
     ]
    },
    {
     "name": "stdout",
     "output_type": "stream",
     "text": [
      "2450:\tlearn: 0.8418006\ttest: 0.7924588\tbest: 0.7929323 (2099)\ttotal: 7m 40s\tremaining: 7m 58s\n"
     ]
    },
    {
     "name": "stdout",
     "output_type": "stream",
     "text": [
      "2475:\tlearn: 0.8422027\ttest: 0.7923783\tbest: 0.7929323 (2099)\ttotal: 7m 44s\tremaining: 7m 53s\n"
     ]
    },
    {
     "name": "stdout",
     "output_type": "stream",
     "text": [
      "2500:\tlearn: 0.8425311\ttest: 0.7927039\tbest: 0.7929323 (2099)\ttotal: 7m 49s\tremaining: 7m 49s\n"
     ]
    },
    {
     "name": "stdout",
     "output_type": "stream",
     "text": [
      "2525:\tlearn: 0.8430765\ttest: 0.7926045\tbest: 0.7929323 (2099)\ttotal: 7m 54s\tremaining: 7m 44s\n"
     ]
    },
    {
     "name": "stdout",
     "output_type": "stream",
     "text": [
      "2550:\tlearn: 0.8436933\ttest: 0.7926504\tbest: 0.7929323 (2099)\ttotal: 7m 59s\tremaining: 7m 39s\n"
     ]
    },
    {
     "name": "stdout",
     "output_type": "stream",
     "text": [
      "2575:\tlearn: 0.8439948\ttest: 0.7928490\tbest: 0.7929323 (2099)\ttotal: 8m 3s\tremaining: 7m 35s\n"
     ]
    },
    {
     "name": "stdout",
     "output_type": "stream",
     "text": [
      "2600:\tlearn: 0.8444407\ttest: 0.7929036\tbest: 0.7930065 (2596)\ttotal: 8m 8s\tremaining: 7m 30s\n"
     ]
    },
    {
     "name": "stdout",
     "output_type": "stream",
     "text": [
      "2625:\tlearn: 0.8448824\ttest: 0.7930754\tbest: 0.7930754 (2625)\ttotal: 8m 13s\tremaining: 7m 25s\n"
     ]
    },
    {
     "name": "stdout",
     "output_type": "stream",
     "text": [
      "2650:\tlearn: 0.8451910\ttest: 0.7930389\tbest: 0.7930800 (2648)\ttotal: 8m 17s\tremaining: 7m 21s\n"
     ]
    },
    {
     "name": "stdout",
     "output_type": "stream",
     "text": [
      "2675:\tlearn: 0.8456147\ttest: 0.7928776\tbest: 0.7932948 (2660)\ttotal: 8m 22s\tremaining: 7m 16s\n"
     ]
    },
    {
     "name": "stdout",
     "output_type": "stream",
     "text": [
      "2700:\tlearn: 0.8461417\ttest: 0.7928108\tbest: 0.7932948 (2660)\ttotal: 8m 27s\tremaining: 7m 11s\n"
     ]
    },
    {
     "name": "stdout",
     "output_type": "stream",
     "text": [
      "2725:\tlearn: 0.8466613\ttest: 0.7925638\tbest: 0.7932948 (2660)\ttotal: 8m 31s\tremaining: 7m 6s\n"
     ]
    },
    {
     "name": "stdout",
     "output_type": "stream",
     "text": [
      "2750:\tlearn: 0.8471315\ttest: 0.7922058\tbest: 0.7932948 (2660)\ttotal: 8m 36s\tremaining: 7m 2s\n"
     ]
    },
    {
     "name": "stdout",
     "output_type": "stream",
     "text": [
      "2775:\tlearn: 0.8475634\ttest: 0.7926120\tbest: 0.7932948 (2660)\ttotal: 8m 41s\tremaining: 6m 57s\n"
     ]
    },
    {
     "name": "stdout",
     "output_type": "stream",
     "text": [
      "2800:\tlearn: 0.8480151\ttest: 0.7927009\tbest: 0.7932948 (2660)\ttotal: 8m 45s\tremaining: 6m 52s\n"
     ]
    },
    {
     "name": "stdout",
     "output_type": "stream",
     "text": [
      "2825:\tlearn: 0.8483931\ttest: 0.7928386\tbest: 0.7932948 (2660)\ttotal: 8m 50s\tremaining: 6m 48s\n"
     ]
    },
    {
     "name": "stdout",
     "output_type": "stream",
     "text": [
      "2850:\tlearn: 0.8488167\ttest: 0.7928645\tbest: 0.7932948 (2660)\ttotal: 8m 55s\tremaining: 6m 43s\n"
     ]
    },
    {
     "name": "stdout",
     "output_type": "stream",
     "text": [
      "2875:\tlearn: 0.8494571\ttest: 0.7928549\tbest: 0.7932948 (2660)\ttotal: 8m 59s\tremaining: 6m 38s\n"
     ]
    },
    {
     "name": "stdout",
     "output_type": "stream",
     "text": [
      "2900:\tlearn: 0.8498158\ttest: 0.7932218\tbest: 0.7934071 (2896)\ttotal: 9m 4s\tremaining: 6m 34s\n"
     ]
    },
    {
     "name": "stdout",
     "output_type": "stream",
     "text": [
      "2925:\tlearn: 0.8502617\ttest: 0.7932260\tbest: 0.7936239 (2910)\ttotal: 9m 9s\tremaining: 6m 29s\n"
     ]
    },
    {
     "name": "stdout",
     "output_type": "stream",
     "text": [
      "2950:\tlearn: 0.8509816\ttest: 0.7927049\tbest: 0.7936239 (2910)\ttotal: 9m 14s\tremaining: 6m 24s\n"
     ]
    },
    {
     "name": "stdout",
     "output_type": "stream",
     "text": [
      "2975:\tlearn: 0.8513701\ttest: 0.7924531\tbest: 0.7936239 (2910)\ttotal: 9m 18s\tremaining: 6m 20s\n"
     ]
    },
    {
     "name": "stdout",
     "output_type": "stream",
     "text": [
      "3000:\tlearn: 0.8518495\ttest: 0.7924591\tbest: 0.7936239 (2910)\ttotal: 9m 23s\tremaining: 6m 15s\n"
     ]
    },
    {
     "name": "stdout",
     "output_type": "stream",
     "text": [
      "3025:\tlearn: 0.8522720\ttest: 0.7923816\tbest: 0.7936239 (2910)\ttotal: 9m 28s\tremaining: 6m 10s\n"
     ]
    },
    {
     "name": "stdout",
     "output_type": "stream",
     "text": [
      "3050:\tlearn: 0.8526080\ttest: 0.7931824\tbest: 0.7936239 (2910)\ttotal: 9m 32s\tremaining: 6m 5s\n"
     ]
    },
    {
     "name": "stdout",
     "output_type": "stream",
     "text": [
      "3075:\tlearn: 0.8533437\ttest: 0.7926173\tbest: 0.7936239 (2910)\ttotal: 9m 37s\tremaining: 6m 1s\n"
     ]
    },
    {
     "name": "stdout",
     "output_type": "stream",
     "text": [
      "3100:\tlearn: 0.8536706\ttest: 0.7929839\tbest: 0.7936239 (2910)\ttotal: 9m 42s\tremaining: 5m 56s\n"
     ]
    },
    {
     "name": "stdout",
     "output_type": "stream",
     "text": [
      "3125:\tlearn: 0.8539804\ttest: 0.7933026\tbest: 0.7936239 (2910)\ttotal: 9m 46s\tremaining: 5m 51s\n"
     ]
    },
    {
     "name": "stdout",
     "output_type": "stream",
     "text": [
      "3150:\tlearn: 0.8546733\ttest: 0.7933915\tbest: 0.7936239 (2910)\ttotal: 9m 51s\tremaining: 5m 47s\n"
     ]
    },
    {
     "name": "stdout",
     "output_type": "stream",
     "text": [
      "3175:\tlearn: 0.8550036\ttest: 0.7930562\tbest: 0.7936239 (2910)\ttotal: 9m 56s\tremaining: 5m 42s\n"
     ]
    },
    {
     "name": "stdout",
     "output_type": "stream",
     "text": [
      "3200:\tlearn: 0.8554258\ttest: 0.7932260\tbest: 0.7936239 (2910)\ttotal: 10m\tremaining: 5m 37s\n"
     ]
    },
    {
     "name": "stdout",
     "output_type": "stream",
     "text": [
      "3225:\tlearn: 0.8559413\ttest: 0.7933580\tbest: 0.7936239 (2910)\ttotal: 10m 5s\tremaining: 5m 33s\n"
     ]
    },
    {
     "name": "stdout",
     "output_type": "stream",
     "text": [
      "3250:\tlearn: 0.8564290\ttest: 0.7936377\tbest: 0.7936377 (3250)\ttotal: 10m 10s\tremaining: 5m 28s\n"
     ]
    },
    {
     "name": "stdout",
     "output_type": "stream",
     "text": [
      "3275:\tlearn: 0.8569969\ttest: 0.7935575\tbest: 0.7936384 (3255)\ttotal: 10m 15s\tremaining: 5m 23s\n"
     ]
    },
    {
     "name": "stdout",
     "output_type": "stream",
     "text": [
      "3300:\tlearn: 0.8574039\ttest: 0.7938600\tbest: 0.7939006 (3295)\ttotal: 10m 19s\tremaining: 5m 18s\n"
     ]
    },
    {
     "name": "stdout",
     "output_type": "stream",
     "text": [
      "3325:\tlearn: 0.8579501\ttest: 0.7941129\tbest: 0.7941129 (3325)\ttotal: 10m 24s\tremaining: 5m 14s\n"
     ]
    },
    {
     "name": "stdout",
     "output_type": "stream",
     "text": [
      "3350:\tlearn: 0.8583623\ttest: 0.7940118\tbest: 0.7942827 (3329)\ttotal: 10m 29s\tremaining: 5m 9s\n"
     ]
    },
    {
     "name": "stdout",
     "output_type": "stream",
     "text": [
      "3375:\tlearn: 0.8586033\ttest: 0.7939851\tbest: 0.7942827 (3329)\ttotal: 10m 33s\tremaining: 5m 4s\n"
     ]
    },
    {
     "name": "stdout",
     "output_type": "stream",
     "text": [
      "3400:\tlearn: 0.8590838\ttest: 0.7938460\tbest: 0.7942827 (3329)\ttotal: 10m 38s\tremaining: 5m\n"
     ]
    },
    {
     "name": "stdout",
     "output_type": "stream",
     "text": [
      "3425:\tlearn: 0.8594854\ttest: 0.7936573\tbest: 0.7942827 (3329)\ttotal: 10m 43s\tremaining: 4m 55s\n"
     ]
    },
    {
     "name": "stdout",
     "output_type": "stream",
     "text": [
      "3450:\tlearn: 0.8598744\ttest: 0.7937066\tbest: 0.7942827 (3329)\ttotal: 10m 47s\tremaining: 4m 50s\n"
     ]
    },
    {
     "name": "stdout",
     "output_type": "stream",
     "text": [
      "3475:\tlearn: 0.8601974\ttest: 0.7938126\tbest: 0.7942827 (3329)\ttotal: 10m 52s\tremaining: 4m 46s\n"
     ]
    },
    {
     "name": "stdout",
     "output_type": "stream",
     "text": [
      "3500:\tlearn: 0.8608097\ttest: 0.7939588\tbest: 0.7942827 (3329)\ttotal: 10m 57s\tremaining: 4m 41s\n"
     ]
    },
    {
     "name": "stdout",
     "output_type": "stream",
     "text": [
      "3525:\tlearn: 0.8612263\ttest: 0.7937117\tbest: 0.7942827 (3329)\ttotal: 11m 1s\tremaining: 4m 36s\n"
     ]
    },
    {
     "name": "stdout",
     "output_type": "stream",
     "text": [
      "3550:\tlearn: 0.8617213\ttest: 0.7939709\tbest: 0.7942827 (3329)\ttotal: 11m 6s\tremaining: 4m 32s\n"
     ]
    },
    {
     "name": "stdout",
     "output_type": "stream",
     "text": [
      "3575:\tlearn: 0.8620427\ttest: 0.7939098\tbest: 0.7942827 (3329)\ttotal: 11m 11s\tremaining: 4m 27s\n"
     ]
    },
    {
     "name": "stdout",
     "output_type": "stream",
     "text": [
      "3600:\tlearn: 0.8626707\ttest: 0.7939338\tbest: 0.7942827 (3329)\ttotal: 11m 15s\tremaining: 4m 22s\n"
     ]
    },
    {
     "name": "stdout",
     "output_type": "stream",
     "text": [
      "3625:\tlearn: 0.8633562\ttest: 0.7938126\tbest: 0.7942827 (3329)\ttotal: 11m 20s\tremaining: 4m 17s\n"
     ]
    },
    {
     "name": "stdout",
     "output_type": "stream",
     "text": [
      "3650:\tlearn: 0.8636379\ttest: 0.7940693\tbest: 0.7942827 (3329)\ttotal: 11m 25s\tremaining: 4m 13s\n"
     ]
    },
    {
     "name": "stdout",
     "output_type": "stream",
     "text": [
      "3675:\tlearn: 0.8641775\ttest: 0.7937410\tbest: 0.7942827 (3329)\ttotal: 11m 30s\tremaining: 4m 8s\n"
     ]
    },
    {
     "name": "stdout",
     "output_type": "stream",
     "text": [
      "3700:\tlearn: 0.8646267\ttest: 0.7939145\tbest: 0.7942827 (3329)\ttotal: 11m 34s\tremaining: 4m 3s\n"
     ]
    },
    {
     "name": "stdout",
     "output_type": "stream",
     "text": [
      "3725:\tlearn: 0.8650419\ttest: 0.7936469\tbest: 0.7942827 (3329)\ttotal: 11m 39s\tremaining: 3m 59s\n"
     ]
    },
    {
     "name": "stdout",
     "output_type": "stream",
     "text": [
      "3750:\tlearn: 0.8656604\ttest: 0.7939276\tbest: 0.7942827 (3329)\ttotal: 11m 44s\tremaining: 3m 54s\n"
     ]
    },
    {
     "name": "stdout",
     "output_type": "stream",
     "text": [
      "3775:\tlearn: 0.8660208\ttest: 0.7941149\tbest: 0.7942827 (3329)\ttotal: 11m 48s\tremaining: 3m 49s\n"
     ]
    },
    {
     "name": "stdout",
     "output_type": "stream",
     "text": [
      "3800:\tlearn: 0.8664972\ttest: 0.7939080\tbest: 0.7942827 (3329)\ttotal: 11m 53s\tremaining: 3m 45s\n"
     ]
    },
    {
     "name": "stdout",
     "output_type": "stream",
     "text": [
      "3825:\tlearn: 0.8668534\ttest: 0.7938043\tbest: 0.7942827 (3329)\ttotal: 11m 58s\tremaining: 3m 40s\n"
     ]
    },
    {
     "name": "stdout",
     "output_type": "stream",
     "text": [
      "3850:\tlearn: 0.8672525\ttest: 0.7937219\tbest: 0.7942827 (3329)\ttotal: 12m 3s\tremaining: 3m 35s\n"
     ]
    },
    {
     "name": "stdout",
     "output_type": "stream",
     "text": [
      "3875:\tlearn: 0.8676605\ttest: 0.7939568\tbest: 0.7942827 (3329)\ttotal: 12m 7s\tremaining: 3m 31s\n"
     ]
    },
    {
     "name": "stdout",
     "output_type": "stream",
     "text": [
      "3900:\tlearn: 0.8680167\ttest: 0.7937648\tbest: 0.7942827 (3329)\ttotal: 12m 12s\tremaining: 3m 26s\n"
     ]
    },
    {
     "name": "stdout",
     "output_type": "stream",
     "text": [
      "3925:\tlearn: 0.8686320\ttest: 0.7936187\tbest: 0.7942827 (3329)\ttotal: 12m 17s\tremaining: 3m 21s\n"
     ]
    },
    {
     "name": "stdout",
     "output_type": "stream",
     "text": [
      "3950:\tlearn: 0.8690892\ttest: 0.7936805\tbest: 0.7942827 (3329)\ttotal: 12m 21s\tremaining: 3m 16s\n"
     ]
    },
    {
     "name": "stdout",
     "output_type": "stream",
     "text": [
      "3975:\tlearn: 0.8694549\ttest: 0.7938886\tbest: 0.7942827 (3329)\ttotal: 12m 26s\tremaining: 3m 12s\n"
     ]
    },
    {
     "name": "stdout",
     "output_type": "stream",
     "text": [
      "4000:\tlearn: 0.8697147\ttest: 0.7937578\tbest: 0.7942827 (3329)\ttotal: 12m 31s\tremaining: 3m 7s\n"
     ]
    },
    {
     "name": "stdout",
     "output_type": "stream",
     "text": [
      "4025:\tlearn: 0.8701137\ttest: 0.7937638\tbest: 0.7942827 (3329)\ttotal: 12m 35s\tremaining: 3m 2s\n"
     ]
    },
    {
     "name": "stdout",
     "output_type": "stream",
     "text": [
      "4050:\tlearn: 0.8704656\ttest: 0.7941872\tbest: 0.7942827 (3329)\ttotal: 12m 40s\tremaining: 2m 58s\n"
     ]
    },
    {
     "name": "stdout",
     "output_type": "stream",
     "text": [
      "4075:\tlearn: 0.8708925\ttest: 0.7941462\tbest: 0.7942827 (3329)\ttotal: 12m 45s\tremaining: 2m 53s\n"
     ]
    },
    {
     "name": "stdout",
     "output_type": "stream",
     "text": [
      "4100:\tlearn: 0.8712218\ttest: 0.7941543\tbest: 0.7943388 (4092)\ttotal: 12m 49s\tremaining: 2m 48s\n"
     ]
    },
    {
     "name": "stdout",
     "output_type": "stream",
     "text": [
      "4125:\tlearn: 0.8715600\ttest: 0.7940651\tbest: 0.7943388 (4092)\ttotal: 12m 54s\tremaining: 2m 44s\n"
     ]
    },
    {
     "name": "stdout",
     "output_type": "stream",
     "text": [
      "4150:\tlearn: 0.8719531\ttest: 0.7938352\tbest: 0.7943388 (4092)\ttotal: 12m 59s\tremaining: 2m 39s\n"
     ]
    },
    {
     "name": "stdout",
     "output_type": "stream",
     "text": [
      "4175:\tlearn: 0.8721636\ttest: 0.7941518\tbest: 0.7943388 (4092)\ttotal: 13m 4s\tremaining: 2m 34s\n"
     ]
    },
    {
     "name": "stdout",
     "output_type": "stream",
     "text": [
      "4200:\tlearn: 0.8726029\ttest: 0.7938977\tbest: 0.7943388 (4092)\ttotal: 13m 8s\tremaining: 2m 30s\n"
     ]
    },
    {
     "name": "stdout",
     "output_type": "stream",
     "text": [
      "4225:\tlearn: 0.8731148\ttest: 0.7941508\tbest: 0.7943388 (4092)\ttotal: 13m 13s\tremaining: 2m 25s\n"
     ]
    },
    {
     "name": "stdout",
     "output_type": "stream",
     "text": [
      "4250:\tlearn: 0.8735196\ttest: 0.7942195\tbest: 0.7943388 (4092)\ttotal: 13m 18s\tremaining: 2m 20s\n"
     ]
    },
    {
     "name": "stdout",
     "output_type": "stream",
     "text": [
      "4275:\tlearn: 0.8737327\ttest: 0.7940695\tbest: 0.7943388 (4092)\ttotal: 13m 22s\tremaining: 2m 15s\n"
     ]
    },
    {
     "name": "stdout",
     "output_type": "stream",
     "text": [
      "4300:\tlearn: 0.8741206\ttest: 0.7939408\tbest: 0.7943388 (4092)\ttotal: 13m 27s\tremaining: 2m 11s\n"
     ]
    },
    {
     "name": "stdout",
     "output_type": "stream",
     "text": [
      "4325:\tlearn: 0.8745543\ttest: 0.7941580\tbest: 0.7943388 (4092)\ttotal: 13m 32s\tremaining: 2m 6s\n"
     ]
    },
    {
     "name": "stdout",
     "output_type": "stream",
     "text": [
      "4350:\tlearn: 0.8749280\ttest: 0.7938231\tbest: 0.7943388 (4092)\ttotal: 13m 36s\tremaining: 2m 1s\n"
     ]
    },
    {
     "name": "stdout",
     "output_type": "stream",
     "text": [
      "4375:\tlearn: 0.8753392\ttest: 0.7939110\tbest: 0.7943388 (4092)\ttotal: 13m 41s\tremaining: 1m 57s\n"
     ]
    },
    {
     "name": "stdout",
     "output_type": "stream",
     "text": [
      "4400:\tlearn: 0.8759387\ttest: 0.7938045\tbest: 0.7943388 (4092)\ttotal: 13m 46s\tremaining: 1m 52s\n"
     ]
    },
    {
     "name": "stdout",
     "output_type": "stream",
     "text": [
      "4425:\tlearn: 0.8763350\ttest: 0.7939996\tbest: 0.7943388 (4092)\ttotal: 13m 50s\tremaining: 1m 47s\n"
     ]
    },
    {
     "name": "stdout",
     "output_type": "stream",
     "text": [
      "4450:\tlearn: 0.8767850\ttest: 0.7938523\tbest: 0.7943388 (4092)\ttotal: 13m 55s\tremaining: 1m 43s\n"
     ]
    },
    {
     "name": "stdout",
     "output_type": "stream",
     "text": [
      "4475:\tlearn: 0.8772215\ttest: 0.7939984\tbest: 0.7943388 (4092)\ttotal: 14m\tremaining: 1m 38s\n"
     ]
    },
    {
     "name": "stdout",
     "output_type": "stream",
     "text": [
      "4500:\tlearn: 0.8776451\ttest: 0.7940211\tbest: 0.7943388 (4092)\ttotal: 14m 4s\tremaining: 1m 33s\n"
     ]
    },
    {
     "name": "stdout",
     "output_type": "stream",
     "text": [
      "4525:\tlearn: 0.8778882\ttest: 0.7937509\tbest: 0.7943388 (4092)\ttotal: 14m 9s\tremaining: 1m 28s\n"
     ]
    },
    {
     "name": "stdout",
     "output_type": "stream",
     "text": [
      "4550:\tlearn: 0.8783013\ttest: 0.7940262\tbest: 0.7943388 (4092)\ttotal: 14m 14s\tremaining: 1m 24s\n"
     ]
    },
    {
     "name": "stdout",
     "output_type": "stream",
     "text": [
      "4575:\tlearn: 0.8785740\ttest: 0.7941173\tbest: 0.7943388 (4092)\ttotal: 14m 18s\tremaining: 1m 19s\n"
     ]
    },
    {
     "name": "stdout",
     "output_type": "stream",
     "text": [
      "4600:\tlearn: 0.8788402\ttest: 0.7942214\tbest: 0.7943388 (4092)\ttotal: 14m 23s\tremaining: 1m 14s\n"
     ]
    },
    {
     "name": "stdout",
     "output_type": "stream",
     "text": [
      "4625:\tlearn: 0.8793964\ttest: 0.7941390\tbest: 0.7944112 (4605)\ttotal: 14m 28s\tremaining: 1m 10s\n"
     ]
    },
    {
     "name": "stdout",
     "output_type": "stream",
     "text": [
      "4650:\tlearn: 0.8796371\ttest: 0.7938888\tbest: 0.7944112 (4605)\ttotal: 14m 33s\tremaining: 1m 5s\n"
     ]
    },
    {
     "name": "stdout",
     "output_type": "stream",
     "text": [
      "4675:\tlearn: 0.8799329\ttest: 0.7937910\tbest: 0.7944112 (4605)\ttotal: 14m 37s\tremaining: 1m\n"
     ]
    },
    {
     "name": "stdout",
     "output_type": "stream",
     "text": [
      "4700:\tlearn: 0.8803894\ttest: 0.7938079\tbest: 0.7944112 (4605)\ttotal: 14m 42s\tremaining: 56.1s\n"
     ]
    },
    {
     "name": "stdout",
     "output_type": "stream",
     "text": [
      "4725:\tlearn: 0.8807459\ttest: 0.7940255\tbest: 0.7944112 (4605)\ttotal: 14m 47s\tremaining: 51.4s\n"
     ]
    },
    {
     "name": "stdout",
     "output_type": "stream",
     "text": [
      "4750:\tlearn: 0.8810758\ttest: 0.7942562\tbest: 0.7944112 (4605)\ttotal: 14m 51s\tremaining: 46.7s\n"
     ]
    },
    {
     "name": "stdout",
     "output_type": "stream",
     "text": [
      "4775:\tlearn: 0.8813298\ttest: 0.7942501\tbest: 0.7944204 (4772)\ttotal: 14m 56s\tremaining: 42s\n"
     ]
    },
    {
     "name": "stdout",
     "output_type": "stream",
     "text": [
      "4800:\tlearn: 0.8815979\ttest: 0.7946067\tbest: 0.7946067 (4800)\ttotal: 15m 1s\tremaining: 37.4s\n"
     ]
    },
    {
     "name": "stdout",
     "output_type": "stream",
     "text": [
      "4825:\tlearn: 0.8820024\ttest: 0.7944809\tbest: 0.7947543 (4821)\ttotal: 15m 5s\tremaining: 32.7s\n"
     ]
    },
    {
     "name": "stdout",
     "output_type": "stream",
     "text": [
      "4850:\tlearn: 0.8822388\ttest: 0.7943758\tbest: 0.7947543 (4821)\ttotal: 15m 10s\tremaining: 28s\n"
     ]
    },
    {
     "name": "stdout",
     "output_type": "stream",
     "text": [
      "4875:\tlearn: 0.8827946\ttest: 0.7943795\tbest: 0.7947543 (4821)\ttotal: 15m 15s\tremaining: 23.3s\n"
     ]
    },
    {
     "name": "stdout",
     "output_type": "stream",
     "text": [
      "4900:\tlearn: 0.8830727\ttest: 0.7946135\tbest: 0.7947543 (4821)\ttotal: 15m 19s\tremaining: 18.6s\n"
     ]
    },
    {
     "name": "stdout",
     "output_type": "stream",
     "text": [
      "4925:\tlearn: 0.8834055\ttest: 0.7945285\tbest: 0.7947543 (4821)\ttotal: 15m 24s\tremaining: 13.9s\n"
     ]
    },
    {
     "name": "stdout",
     "output_type": "stream",
     "text": [
      "4950:\tlearn: 0.8837513\ttest: 0.7945082\tbest: 0.7947543 (4821)\ttotal: 15m 29s\tremaining: 9.2s\n"
     ]
    },
    {
     "name": "stdout",
     "output_type": "stream",
     "text": [
      "4975:\tlearn: 0.8839924\ttest: 0.7945075\tbest: 0.7947543 (4821)\ttotal: 15m 33s\tremaining: 4.5s\n"
     ]
    },
    {
     "name": "stdout",
     "output_type": "stream",
     "text": [
      "4999:\tlearn: 0.8845548\ttest: 0.7945518\tbest: 0.7947543 (4821)\ttotal: 15m 38s\tremaining: 0us\n",
      "\n",
      "bestTest = 0.79475428\n",
      "bestIteration = 4821\n",
      "\n"
     ]
    },
    {
     "name": "stdout",
     "output_type": "stream",
     "text": [
      "######################################## training model 3/5 ########################################\n"
     ]
    },
    {
     "name": "stdout",
     "output_type": "stream",
     "text": [
      "0:\tlearn: 0.4883402\ttest: 0.4866429\tbest: 0.4866429 (0)\ttotal: 500ms\tremaining: 41m 38s\n"
     ]
    },
    {
     "name": "stdout",
     "output_type": "stream",
     "text": [
      "25:\tlearn: 0.7175730\ttest: 0.7126819\tbest: 0.7126819 (25)\ttotal: 5.05s\tremaining: 16m 6s\n"
     ]
    },
    {
     "name": "stdout",
     "output_type": "stream",
     "text": [
      "50:\tlearn: 0.7372131\ttest: 0.7323625\tbest: 0.7323625 (50)\ttotal: 9.75s\tremaining: 15m 46s\n"
     ]
    },
    {
     "name": "stdout",
     "output_type": "stream",
     "text": [
      "75:\tlearn: 0.7470210\ttest: 0.7415759\tbest: 0.7415759 (75)\ttotal: 14.4s\tremaining: 15m 34s\n"
     ]
    },
    {
     "name": "stdout",
     "output_type": "stream",
     "text": [
      "100:\tlearn: 0.7526726\ttest: 0.7462084\tbest: 0.7465758 (97)\ttotal: 19.1s\tremaining: 15m 26s\n"
     ]
    },
    {
     "name": "stdout",
     "output_type": "stream",
     "text": [
      "125:\tlearn: 0.7566587\ttest: 0.7509049\tbest: 0.7509049 (125)\ttotal: 23.8s\tremaining: 15m 19s\n"
     ]
    },
    {
     "name": "stdout",
     "output_type": "stream",
     "text": [
      "150:\tlearn: 0.7596011\ttest: 0.7527032\tbest: 0.7527712 (149)\ttotal: 28.4s\tremaining: 15m 12s\n"
     ]
    },
    {
     "name": "stdout",
     "output_type": "stream",
     "text": [
      "175:\tlearn: 0.7620120\ttest: 0.7546245\tbest: 0.7547314 (171)\ttotal: 33.1s\tremaining: 15m 6s\n"
     ]
    },
    {
     "name": "stdout",
     "output_type": "stream",
     "text": [
      "200:\tlearn: 0.7636405\ttest: 0.7564137\tbest: 0.7564137 (200)\ttotal: 37.7s\tremaining: 15m 1s\n"
     ]
    },
    {
     "name": "stdout",
     "output_type": "stream",
     "text": [
      "225:\tlearn: 0.7655074\ttest: 0.7580412\tbest: 0.7580880 (218)\ttotal: 42.4s\tremaining: 14m 55s\n"
     ]
    },
    {
     "name": "stdout",
     "output_type": "stream",
     "text": [
      "250:\tlearn: 0.7677169\ttest: 0.7602555\tbest: 0.7604642 (249)\ttotal: 47.1s\tremaining: 14m 50s\n"
     ]
    },
    {
     "name": "stdout",
     "output_type": "stream",
     "text": [
      "275:\tlearn: 0.7698087\ttest: 0.7626795\tbest: 0.7626795 (275)\ttotal: 51.8s\tremaining: 14m 46s\n"
     ]
    },
    {
     "name": "stdout",
     "output_type": "stream",
     "text": [
      "300:\tlearn: 0.7731990\ttest: 0.7654238\tbest: 0.7654238 (300)\ttotal: 56.5s\tremaining: 14m 41s\n"
     ]
    },
    {
     "name": "stdout",
     "output_type": "stream",
     "text": [
      "325:\tlearn: 0.7781676\ttest: 0.7700668\tbest: 0.7701064 (324)\ttotal: 1m 1s\tremaining: 14m 38s\n"
     ]
    },
    {
     "name": "stdout",
     "output_type": "stream",
     "text": [
      "350:\tlearn: 0.7813937\ttest: 0.7736099\tbest: 0.7736099 (350)\ttotal: 1m 5s\tremaining: 14m 33s\n"
     ]
    },
    {
     "name": "stdout",
     "output_type": "stream",
     "text": [
      "375:\tlearn: 0.7845395\ttest: 0.7759023\tbest: 0.7759023 (375)\ttotal: 1m 10s\tremaining: 14m 29s\n"
     ]
    },
    {
     "name": "stdout",
     "output_type": "stream",
     "text": [
      "400:\tlearn: 0.7866746\ttest: 0.7779129\tbest: 0.7779129 (400)\ttotal: 1m 15s\tremaining: 14m 24s\n"
     ]
    },
    {
     "name": "stdout",
     "output_type": "stream",
     "text": [
      "425:\tlearn: 0.7885320\ttest: 0.7791540\tbest: 0.7793415 (419)\ttotal: 1m 20s\tremaining: 14m 19s\n"
     ]
    },
    {
     "name": "stdout",
     "output_type": "stream",
     "text": [
      "450:\tlearn: 0.7898742\ttest: 0.7803579\tbest: 0.7803579 (450)\ttotal: 1m 24s\tremaining: 14m 15s\n"
     ]
    },
    {
     "name": "stdout",
     "output_type": "stream",
     "text": [
      "475:\tlearn: 0.7914048\ttest: 0.7817962\tbest: 0.7817962 (475)\ttotal: 1m 29s\tremaining: 14m 10s\n"
     ]
    },
    {
     "name": "stdout",
     "output_type": "stream",
     "text": [
      "500:\tlearn: 0.7927275\ttest: 0.7829055\tbest: 0.7829055 (500)\ttotal: 1m 34s\tremaining: 14m 6s\n"
     ]
    },
    {
     "name": "stdout",
     "output_type": "stream",
     "text": [
      "525:\tlearn: 0.7942581\ttest: 0.7835806\tbest: 0.7839099 (524)\ttotal: 1m 38s\tremaining: 14m 1s\n"
     ]
    },
    {
     "name": "stdout",
     "output_type": "stream",
     "text": [
      "550:\tlearn: 0.7953129\ttest: 0.7841978\tbest: 0.7842631 (543)\ttotal: 1m 43s\tremaining: 13m 56s\n"
     ]
    },
    {
     "name": "stdout",
     "output_type": "stream",
     "text": [
      "575:\tlearn: 0.7962245\ttest: 0.7845198\tbest: 0.7847815 (569)\ttotal: 1m 48s\tremaining: 13m 52s\n"
     ]
    },
    {
     "name": "stdout",
     "output_type": "stream",
     "text": [
      "600:\tlearn: 0.7973987\ttest: 0.7849667\tbest: 0.7852050 (598)\ttotal: 1m 53s\tremaining: 13m 47s\n"
     ]
    },
    {
     "name": "stdout",
     "output_type": "stream",
     "text": [
      "625:\tlearn: 0.7983017\ttest: 0.7850440\tbest: 0.7853629 (616)\ttotal: 1m 57s\tremaining: 13m 42s\n"
     ]
    },
    {
     "name": "stdout",
     "output_type": "stream",
     "text": [
      "650:\tlearn: 0.7990870\ttest: 0.7860929\tbest: 0.7860929 (650)\ttotal: 2m 2s\tremaining: 13m 38s\n"
     ]
    },
    {
     "name": "stdout",
     "output_type": "stream",
     "text": [
      "675:\tlearn: 0.7998858\ttest: 0.7860418\tbest: 0.7861660 (660)\ttotal: 2m 7s\tremaining: 13m 33s\n"
     ]
    },
    {
     "name": "stdout",
     "output_type": "stream",
     "text": [
      "700:\tlearn: 0.8006780\ttest: 0.7868038\tbest: 0.7868038 (700)\ttotal: 2m 11s\tremaining: 13m 29s\n"
     ]
    },
    {
     "name": "stdout",
     "output_type": "stream",
     "text": [
      "725:\tlearn: 0.8018726\ttest: 0.7870488\tbest: 0.7870488 (725)\ttotal: 2m 16s\tremaining: 13m 24s\n"
     ]
    },
    {
     "name": "stdout",
     "output_type": "stream",
     "text": [
      "750:\tlearn: 0.8025446\ttest: 0.7870512\tbest: 0.7872921 (745)\ttotal: 2m 21s\tremaining: 13m 19s\n"
     ]
    },
    {
     "name": "stdout",
     "output_type": "stream",
     "text": [
      "775:\tlearn: 0.8032894\ttest: 0.7872559\tbest: 0.7872921 (745)\ttotal: 2m 25s\tremaining: 13m 14s\n"
     ]
    },
    {
     "name": "stdout",
     "output_type": "stream",
     "text": [
      "800:\tlearn: 0.8039945\ttest: 0.7874658\tbest: 0.7876324 (799)\ttotal: 2m 30s\tremaining: 13m 9s\n"
     ]
    },
    {
     "name": "stdout",
     "output_type": "stream",
     "text": [
      "825:\tlearn: 0.8048311\ttest: 0.7870867\tbest: 0.7876324 (799)\ttotal: 2m 35s\tremaining: 13m 5s\n"
     ]
    },
    {
     "name": "stdout",
     "output_type": "stream",
     "text": [
      "850:\tlearn: 0.8058018\ttest: 0.7872824\tbest: 0.7876324 (799)\ttotal: 2m 40s\tremaining: 13m\n"
     ]
    },
    {
     "name": "stdout",
     "output_type": "stream",
     "text": [
      "875:\tlearn: 0.8067127\ttest: 0.7875137\tbest: 0.7876483 (856)\ttotal: 2m 44s\tremaining: 12m 55s\n"
     ]
    },
    {
     "name": "stdout",
     "output_type": "stream",
     "text": [
      "900:\tlearn: 0.8073610\ttest: 0.7877231\tbest: 0.7880119 (897)\ttotal: 2m 49s\tremaining: 12m 50s\n"
     ]
    },
    {
     "name": "stdout",
     "output_type": "stream",
     "text": [
      "925:\tlearn: 0.8080451\ttest: 0.7876958\tbest: 0.7880119 (897)\ttotal: 2m 54s\tremaining: 12m 46s\n"
     ]
    },
    {
     "name": "stdout",
     "output_type": "stream",
     "text": [
      "950:\tlearn: 0.8087433\ttest: 0.7874022\tbest: 0.7880119 (897)\ttotal: 2m 58s\tremaining: 12m 41s\n"
     ]
    },
    {
     "name": "stdout",
     "output_type": "stream",
     "text": [
      "975:\tlearn: 0.8093144\ttest: 0.7878964\tbest: 0.7880194 (973)\ttotal: 3m 3s\tremaining: 12m 36s\n"
     ]
    },
    {
     "name": "stdout",
     "output_type": "stream",
     "text": [
      "1000:\tlearn: 0.8101686\ttest: 0.7880830\tbest: 0.7883572 (986)\ttotal: 3m 8s\tremaining: 12m 32s\n"
     ]
    },
    {
     "name": "stdout",
     "output_type": "stream",
     "text": [
      "1025:\tlearn: 0.8106726\ttest: 0.7884539\tbest: 0.7884539 (1025)\ttotal: 3m 12s\tremaining: 12m 27s\n"
     ]
    },
    {
     "name": "stdout",
     "output_type": "stream",
     "text": [
      "1050:\tlearn: 0.8111776\ttest: 0.7882754\tbest: 0.7886305 (1032)\ttotal: 3m 17s\tremaining: 12m 22s\n"
     ]
    },
    {
     "name": "stdout",
     "output_type": "stream",
     "text": [
      "1075:\tlearn: 0.8118480\ttest: 0.7883064\tbest: 0.7886305 (1032)\ttotal: 3m 22s\tremaining: 12m 18s\n"
     ]
    },
    {
     "name": "stdout",
     "output_type": "stream",
     "text": [
      "1100:\tlearn: 0.8124498\ttest: 0.7877293\tbest: 0.7886305 (1032)\ttotal: 3m 27s\tremaining: 12m 13s\n"
     ]
    },
    {
     "name": "stdout",
     "output_type": "stream",
     "text": [
      "1125:\tlearn: 0.8128948\ttest: 0.7883725\tbest: 0.7886305 (1032)\ttotal: 3m 31s\tremaining: 12m 8s\n"
     ]
    },
    {
     "name": "stdout",
     "output_type": "stream",
     "text": [
      "1150:\tlearn: 0.8137393\ttest: 0.7882023\tbest: 0.7886305 (1032)\ttotal: 3m 36s\tremaining: 12m 3s\n"
     ]
    },
    {
     "name": "stdout",
     "output_type": "stream",
     "text": [
      "1175:\tlearn: 0.8143849\ttest: 0.7880367\tbest: 0.7886305 (1032)\ttotal: 3m 41s\tremaining: 11m 59s\n"
     ]
    },
    {
     "name": "stdout",
     "output_type": "stream",
     "text": [
      "1200:\tlearn: 0.8152035\ttest: 0.7882562\tbest: 0.7886305 (1032)\ttotal: 3m 45s\tremaining: 11m 54s\n"
     ]
    },
    {
     "name": "stdout",
     "output_type": "stream",
     "text": [
      "1225:\tlearn: 0.8158968\ttest: 0.7884309\tbest: 0.7886305 (1032)\ttotal: 3m 50s\tremaining: 11m 49s\n"
     ]
    },
    {
     "name": "stdout",
     "output_type": "stream",
     "text": [
      "1250:\tlearn: 0.8165324\ttest: 0.7884793\tbest: 0.7886305 (1032)\ttotal: 3m 55s\tremaining: 11m 44s\n"
     ]
    },
    {
     "name": "stdout",
     "output_type": "stream",
     "text": [
      "1275:\tlearn: 0.8170402\ttest: 0.7883450\tbest: 0.7886521 (1259)\ttotal: 3m 59s\tremaining: 11m 40s\n"
     ]
    },
    {
     "name": "stdout",
     "output_type": "stream",
     "text": [
      "1300:\tlearn: 0.8176845\ttest: 0.7887702\tbest: 0.7887702 (1300)\ttotal: 4m 4s\tremaining: 11m 35s\n"
     ]
    },
    {
     "name": "stdout",
     "output_type": "stream",
     "text": [
      "1325:\tlearn: 0.8182166\ttest: 0.7889622\tbest: 0.7891171 (1313)\ttotal: 4m 9s\tremaining: 11m 30s\n"
     ]
    },
    {
     "name": "stdout",
     "output_type": "stream",
     "text": [
      "1350:\tlearn: 0.8188734\ttest: 0.7892669\tbest: 0.7892669 (1350)\ttotal: 4m 13s\tremaining: 11m 25s\n"
     ]
    },
    {
     "name": "stdout",
     "output_type": "stream",
     "text": [
      "1375:\tlearn: 0.8194930\ttest: 0.7887825\tbest: 0.7893973 (1358)\ttotal: 4m 18s\tremaining: 11m 21s\n"
     ]
    },
    {
     "name": "stdout",
     "output_type": "stream",
     "text": [
      "1400:\tlearn: 0.8200179\ttest: 0.7893272\tbest: 0.7893973 (1358)\ttotal: 4m 23s\tremaining: 11m 16s\n"
     ]
    },
    {
     "name": "stdout",
     "output_type": "stream",
     "text": [
      "1425:\tlearn: 0.8205922\ttest: 0.7896358\tbest: 0.7897816 (1415)\ttotal: 4m 28s\tremaining: 11m 11s\n"
     ]
    },
    {
     "name": "stdout",
     "output_type": "stream",
     "text": [
      "1450:\tlearn: 0.8213870\ttest: 0.7894590\tbest: 0.7897816 (1415)\ttotal: 4m 32s\tremaining: 11m 6s\n"
     ]
    },
    {
     "name": "stdout",
     "output_type": "stream",
     "text": [
      "1475:\tlearn: 0.8218519\ttest: 0.7895748\tbest: 0.7897816 (1415)\ttotal: 4m 37s\tremaining: 11m 2s\n"
     ]
    },
    {
     "name": "stdout",
     "output_type": "stream",
     "text": [
      "1500:\tlearn: 0.8225463\ttest: 0.7894483\tbest: 0.7897816 (1415)\ttotal: 4m 42s\tremaining: 10m 57s\n"
     ]
    },
    {
     "name": "stdout",
     "output_type": "stream",
     "text": [
      "1525:\tlearn: 0.8228994\ttest: 0.7892503\tbest: 0.7897816 (1415)\ttotal: 4m 46s\tremaining: 10m 52s\n"
     ]
    },
    {
     "name": "stdout",
     "output_type": "stream",
     "text": [
      "1550:\tlearn: 0.8234457\ttest: 0.7895047\tbest: 0.7897816 (1415)\ttotal: 4m 51s\tremaining: 10m 48s\n"
     ]
    },
    {
     "name": "stdout",
     "output_type": "stream",
     "text": [
      "1575:\tlearn: 0.8239559\ttest: 0.7901437\tbest: 0.7902252 (1574)\ttotal: 4m 56s\tremaining: 10m 43s\n"
     ]
    },
    {
     "name": "stdout",
     "output_type": "stream",
     "text": [
      "1600:\tlearn: 0.8244703\ttest: 0.7897352\tbest: 0.7902252 (1574)\ttotal: 5m\tremaining: 10m 38s\n"
     ]
    },
    {
     "name": "stdout",
     "output_type": "stream",
     "text": [
      "1625:\tlearn: 0.8253239\ttest: 0.7895521\tbest: 0.7902252 (1574)\ttotal: 5m 5s\tremaining: 10m 33s\n"
     ]
    },
    {
     "name": "stdout",
     "output_type": "stream",
     "text": [
      "1650:\tlearn: 0.8257982\ttest: 0.7896806\tbest: 0.7902252 (1574)\ttotal: 5m 10s\tremaining: 10m 29s\n"
     ]
    },
    {
     "name": "stdout",
     "output_type": "stream",
     "text": [
      "1675:\tlearn: 0.8262619\ttest: 0.7898599\tbest: 0.7902252 (1574)\ttotal: 5m 14s\tremaining: 10m 24s\n"
     ]
    },
    {
     "name": "stdout",
     "output_type": "stream",
     "text": [
      "1700:\tlearn: 0.8268492\ttest: 0.7896372\tbest: 0.7902252 (1574)\ttotal: 5m 19s\tremaining: 10m 19s\n"
     ]
    },
    {
     "name": "stdout",
     "output_type": "stream",
     "text": [
      "1725:\tlearn: 0.8273236\ttest: 0.7897909\tbest: 0.7902252 (1574)\ttotal: 5m 24s\tremaining: 10m 15s\n"
     ]
    },
    {
     "name": "stdout",
     "output_type": "stream",
     "text": [
      "1750:\tlearn: 0.8278875\ttest: 0.7898695\tbest: 0.7902252 (1574)\ttotal: 5m 28s\tremaining: 10m 10s\n"
     ]
    },
    {
     "name": "stdout",
     "output_type": "stream",
     "text": [
      "1775:\tlearn: 0.8282938\ttest: 0.7899060\tbest: 0.7902252 (1574)\ttotal: 5m 33s\tremaining: 10m 5s\n"
     ]
    },
    {
     "name": "stdout",
     "output_type": "stream",
     "text": [
      "1800:\tlearn: 0.8287542\ttest: 0.7903944\tbest: 0.7903944 (1800)\ttotal: 5m 38s\tremaining: 10m\n"
     ]
    },
    {
     "name": "stdout",
     "output_type": "stream",
     "text": [
      "1825:\tlearn: 0.8291062\ttest: 0.7906407\tbest: 0.7906577 (1822)\ttotal: 5m 42s\tremaining: 9m 56s\n"
     ]
    },
    {
     "name": "stdout",
     "output_type": "stream",
     "text": [
      "1850:\tlearn: 0.8296671\ttest: 0.7904779\tbest: 0.7906864 (1830)\ttotal: 5m 47s\tremaining: 9m 51s\n"
     ]
    },
    {
     "name": "stdout",
     "output_type": "stream",
     "text": [
      "1875:\tlearn: 0.8302931\ttest: 0.7904680\tbest: 0.7907825 (1871)\ttotal: 5m 52s\tremaining: 9m 46s\n"
     ]
    },
    {
     "name": "stdout",
     "output_type": "stream",
     "text": [
      "1900:\tlearn: 0.8308394\ttest: 0.7907100\tbest: 0.7907924 (1898)\ttotal: 5m 56s\tremaining: 9m 41s\n"
     ]
    },
    {
     "name": "stdout",
     "output_type": "stream",
     "text": [
      "1925:\tlearn: 0.8312918\ttest: 0.7904077\tbest: 0.7907954 (1903)\ttotal: 6m 1s\tremaining: 9m 37s\n"
     ]
    },
    {
     "name": "stdout",
     "output_type": "stream",
     "text": [
      "1950:\tlearn: 0.8317791\ttest: 0.7906739\tbest: 0.7908214 (1946)\ttotal: 6m 6s\tremaining: 9m 32s\n"
     ]
    },
    {
     "name": "stdout",
     "output_type": "stream",
     "text": [
      "1975:\tlearn: 0.8322869\ttest: 0.7909967\tbest: 0.7910394 (1966)\ttotal: 6m 11s\tremaining: 9m 27s\n"
     ]
    },
    {
     "name": "stdout",
     "output_type": "stream",
     "text": [
      "2000:\tlearn: 0.8328981\ttest: 0.7910707\tbest: 0.7910707 (2000)\ttotal: 6m 15s\tremaining: 9m 23s\n"
     ]
    },
    {
     "name": "stdout",
     "output_type": "stream",
     "text": [
      "2025:\tlearn: 0.8334447\ttest: 0.7911833\tbest: 0.7912422 (2022)\ttotal: 6m 20s\tremaining: 9m 18s\n"
     ]
    },
    {
     "name": "stdout",
     "output_type": "stream",
     "text": [
      "2050:\tlearn: 0.8339666\ttest: 0.7909641\tbest: 0.7912460 (2026)\ttotal: 6m 25s\tremaining: 9m 13s\n"
     ]
    },
    {
     "name": "stdout",
     "output_type": "stream",
     "text": [
      "2075:\tlearn: 0.8342869\ttest: 0.7907809\tbest: 0.7912460 (2026)\ttotal: 6m 29s\tremaining: 9m 8s\n"
     ]
    },
    {
     "name": "stdout",
     "output_type": "stream",
     "text": [
      "2100:\tlearn: 0.8349508\ttest: 0.7909426\tbest: 0.7912460 (2026)\ttotal: 6m 34s\tremaining: 9m 4s\n"
     ]
    },
    {
     "name": "stdout",
     "output_type": "stream",
     "text": [
      "2125:\tlearn: 0.8352534\ttest: 0.7908718\tbest: 0.7912460 (2026)\ttotal: 6m 39s\tremaining: 8m 59s\n"
     ]
    },
    {
     "name": "stdout",
     "output_type": "stream",
     "text": [
      "2150:\tlearn: 0.8356712\ttest: 0.7907521\tbest: 0.7912460 (2026)\ttotal: 6m 43s\tremaining: 8m 54s\n"
     ]
    },
    {
     "name": "stdout",
     "output_type": "stream",
     "text": [
      "2175:\tlearn: 0.8361923\ttest: 0.7914135\tbest: 0.7915359 (2168)\ttotal: 6m 48s\tremaining: 8m 50s\n"
     ]
    },
    {
     "name": "stdout",
     "output_type": "stream",
     "text": [
      "2200:\tlearn: 0.8366964\ttest: 0.7911953\tbest: 0.7915432 (2179)\ttotal: 6m 53s\tremaining: 8m 45s\n"
     ]
    },
    {
     "name": "stdout",
     "output_type": "stream",
     "text": [
      "2225:\tlearn: 0.8369742\ttest: 0.7912851\tbest: 0.7915432 (2179)\ttotal: 6m 57s\tremaining: 8m 40s\n"
     ]
    },
    {
     "name": "stdout",
     "output_type": "stream",
     "text": [
      "2250:\tlearn: 0.8376310\ttest: 0.7915888\tbest: 0.7915890 (2248)\ttotal: 7m 2s\tremaining: 8m 35s\n"
     ]
    },
    {
     "name": "stdout",
     "output_type": "stream",
     "text": [
      "2275:\tlearn: 0.8382504\ttest: 0.7915163\tbest: 0.7915913 (2255)\ttotal: 7m 7s\tremaining: 8m 31s\n"
     ]
    },
    {
     "name": "stdout",
     "output_type": "stream",
     "text": [
      "2300:\tlearn: 0.8386103\ttest: 0.7916039\tbest: 0.7917888 (2286)\ttotal: 7m 11s\tremaining: 8m 26s\n"
     ]
    },
    {
     "name": "stdout",
     "output_type": "stream",
     "text": [
      "2325:\tlearn: 0.8390350\ttest: 0.7913636\tbest: 0.7917888 (2286)\ttotal: 7m 16s\tremaining: 8m 21s\n"
     ]
    },
    {
     "name": "stdout",
     "output_type": "stream",
     "text": [
      "2350:\tlearn: 0.8395219\ttest: 0.7913441\tbest: 0.7917888 (2286)\ttotal: 7m 21s\tremaining: 8m 17s\n"
     ]
    },
    {
     "name": "stdout",
     "output_type": "stream",
     "text": [
      "2375:\tlearn: 0.8399359\ttest: 0.7912633\tbest: 0.7917888 (2286)\ttotal: 7m 25s\tremaining: 8m 12s\n"
     ]
    },
    {
     "name": "stdout",
     "output_type": "stream",
     "text": [
      "2400:\tlearn: 0.8403608\ttest: 0.7912263\tbest: 0.7917888 (2286)\ttotal: 7m 30s\tremaining: 8m 7s\n"
     ]
    },
    {
     "name": "stdout",
     "output_type": "stream",
     "text": [
      "2425:\tlearn: 0.8409030\ttest: 0.7918417\tbest: 0.7918422 (2424)\ttotal: 7m 35s\tremaining: 8m 3s\n"
     ]
    },
    {
     "name": "stdout",
     "output_type": "stream",
     "text": [
      "2450:\tlearn: 0.8412684\ttest: 0.7916407\tbest: 0.7918480 (2436)\ttotal: 7m 39s\tremaining: 7m 58s\n"
     ]
    },
    {
     "name": "stdout",
     "output_type": "stream",
     "text": [
      "2475:\tlearn: 0.8418373\ttest: 0.7914942\tbest: 0.7918480 (2436)\ttotal: 7m 44s\tremaining: 7m 53s\n"
     ]
    },
    {
     "name": "stdout",
     "output_type": "stream",
     "text": [
      "2500:\tlearn: 0.8421183\ttest: 0.7916506\tbest: 0.7918480 (2436)\ttotal: 7m 49s\tremaining: 7m 48s\n"
     ]
    },
    {
     "name": "stdout",
     "output_type": "stream",
     "text": [
      "2525:\tlearn: 0.8425192\ttest: 0.7913361\tbest: 0.7918480 (2436)\ttotal: 7m 54s\tremaining: 7m 44s\n"
     ]
    },
    {
     "name": "stdout",
     "output_type": "stream",
     "text": [
      "2550:\tlearn: 0.8427841\ttest: 0.7911875\tbest: 0.7918480 (2436)\ttotal: 7m 58s\tremaining: 7m 39s\n"
     ]
    },
    {
     "name": "stdout",
     "output_type": "stream",
     "text": [
      "2575:\tlearn: 0.8432090\ttest: 0.7910084\tbest: 0.7918480 (2436)\ttotal: 8m 3s\tremaining: 7m 34s\n"
     ]
    },
    {
     "name": "stdout",
     "output_type": "stream",
     "text": [
      "2600:\tlearn: 0.8436761\ttest: 0.7911601\tbest: 0.7918480 (2436)\ttotal: 8m 8s\tremaining: 7m 30s\n"
     ]
    },
    {
     "name": "stdout",
     "output_type": "stream",
     "text": [
      "2625:\tlearn: 0.8442018\ttest: 0.7911250\tbest: 0.7918480 (2436)\ttotal: 8m 12s\tremaining: 7m 25s\n"
     ]
    },
    {
     "name": "stdout",
     "output_type": "stream",
     "text": [
      "2650:\tlearn: 0.8445766\ttest: 0.7911485\tbest: 0.7918480 (2436)\ttotal: 8m 17s\tremaining: 7m 20s\n"
     ]
    },
    {
     "name": "stdout",
     "output_type": "stream",
     "text": [
      "2675:\tlearn: 0.8451856\ttest: 0.7911808\tbest: 0.7918480 (2436)\ttotal: 8m 22s\tremaining: 7m 16s\n"
     ]
    },
    {
     "name": "stdout",
     "output_type": "stream",
     "text": [
      "2700:\tlearn: 0.8457660\ttest: 0.7909545\tbest: 0.7918480 (2436)\ttotal: 8m 26s\tremaining: 7m 11s\n"
     ]
    },
    {
     "name": "stdout",
     "output_type": "stream",
     "text": [
      "2725:\tlearn: 0.8462164\ttest: 0.7911959\tbest: 0.7918480 (2436)\ttotal: 8m 31s\tremaining: 7m 6s\n"
     ]
    },
    {
     "name": "stdout",
     "output_type": "stream",
     "text": [
      "2750:\tlearn: 0.8467755\ttest: 0.7911944\tbest: 0.7918480 (2436)\ttotal: 8m 36s\tremaining: 7m 1s\n"
     ]
    },
    {
     "name": "stdout",
     "output_type": "stream",
     "text": [
      "2775:\tlearn: 0.8472143\ttest: 0.7910119\tbest: 0.7918480 (2436)\ttotal: 8m 40s\tremaining: 6m 57s\n"
     ]
    },
    {
     "name": "stdout",
     "output_type": "stream",
     "text": [
      "2800:\tlearn: 0.8474913\ttest: 0.7908061\tbest: 0.7918480 (2436)\ttotal: 8m 45s\tremaining: 6m 52s\n"
     ]
    },
    {
     "name": "stdout",
     "output_type": "stream",
     "text": [
      "2825:\tlearn: 0.8477234\ttest: 0.7907828\tbest: 0.7918480 (2436)\ttotal: 8m 50s\tremaining: 6m 47s\n"
     ]
    },
    {
     "name": "stdout",
     "output_type": "stream",
     "text": [
      "2850:\tlearn: 0.8482630\ttest: 0.7912025\tbest: 0.7918480 (2436)\ttotal: 8m 54s\tremaining: 6m 43s\n"
     ]
    },
    {
     "name": "stdout",
     "output_type": "stream",
     "text": [
      "2875:\tlearn: 0.8488739\ttest: 0.7911196\tbest: 0.7918480 (2436)\ttotal: 8m 59s\tremaining: 6m 38s\n"
     ]
    },
    {
     "name": "stdout",
     "output_type": "stream",
     "text": [
      "2900:\tlearn: 0.8494555\ttest: 0.7914628\tbest: 0.7918480 (2436)\ttotal: 9m 4s\tremaining: 6m 33s\n"
     ]
    },
    {
     "name": "stdout",
     "output_type": "stream",
     "text": [
      "2925:\tlearn: 0.8498311\ttest: 0.7914126\tbest: 0.7918480 (2436)\ttotal: 9m 8s\tremaining: 6m 29s\n"
     ]
    },
    {
     "name": "stdout",
     "output_type": "stream",
     "text": [
      "2950:\tlearn: 0.8501742\ttest: 0.7912268\tbest: 0.7918480 (2436)\ttotal: 9m 13s\tremaining: 6m 24s\n"
     ]
    },
    {
     "name": "stdout",
     "output_type": "stream",
     "text": [
      "2975:\tlearn: 0.8505144\ttest: 0.7912274\tbest: 0.7918480 (2436)\ttotal: 9m 18s\tremaining: 6m 19s\n"
     ]
    },
    {
     "name": "stdout",
     "output_type": "stream",
     "text": [
      "3000:\tlearn: 0.8509615\ttest: 0.7906521\tbest: 0.7918480 (2436)\ttotal: 9m 22s\tremaining: 6m 14s\n"
     ]
    },
    {
     "name": "stdout",
     "output_type": "stream",
     "text": [
      "3025:\tlearn: 0.8514215\ttest: 0.7907684\tbest: 0.7918480 (2436)\ttotal: 9m 27s\tremaining: 6m 10s\n"
     ]
    },
    {
     "name": "stdout",
     "output_type": "stream",
     "text": [
      "3050:\tlearn: 0.8518773\ttest: 0.7908926\tbest: 0.7918480 (2436)\ttotal: 9m 32s\tremaining: 6m 5s\n"
     ]
    },
    {
     "name": "stdout",
     "output_type": "stream",
     "text": [
      "3075:\tlearn: 0.8522589\ttest: 0.7910446\tbest: 0.7918480 (2436)\ttotal: 9m 36s\tremaining: 6m\n"
     ]
    },
    {
     "name": "stdout",
     "output_type": "stream",
     "text": [
      "3100:\tlearn: 0.8528559\ttest: 0.7908766\tbest: 0.7918480 (2436)\ttotal: 9m 41s\tremaining: 5m 56s\n"
     ]
    },
    {
     "name": "stdout",
     "output_type": "stream",
     "text": [
      "3125:\tlearn: 0.8532383\ttest: 0.7908847\tbest: 0.7918480 (2436)\ttotal: 9m 46s\tremaining: 5m 51s\n"
     ]
    },
    {
     "name": "stdout",
     "output_type": "stream",
     "text": [
      "3150:\tlearn: 0.8536395\ttest: 0.7908839\tbest: 0.7918480 (2436)\ttotal: 9m 50s\tremaining: 5m 46s\n"
     ]
    },
    {
     "name": "stdout",
     "output_type": "stream",
     "text": [
      "3175:\tlearn: 0.8540110\ttest: 0.7906805\tbest: 0.7918480 (2436)\ttotal: 9m 55s\tremaining: 5m 42s\n"
     ]
    },
    {
     "name": "stdout",
     "output_type": "stream",
     "text": [
      "3200:\tlearn: 0.8543435\ttest: 0.7906589\tbest: 0.7918480 (2436)\ttotal: 10m\tremaining: 5m 37s\n"
     ]
    },
    {
     "name": "stdout",
     "output_type": "stream",
     "text": [
      "3225:\tlearn: 0.8547819\ttest: 0.7906212\tbest: 0.7918480 (2436)\ttotal: 10m 4s\tremaining: 5m 32s\n"
     ]
    },
    {
     "name": "stdout",
     "output_type": "stream",
     "text": [
      "3250:\tlearn: 0.8551338\ttest: 0.7908347\tbest: 0.7918480 (2436)\ttotal: 10m 9s\tremaining: 5m 27s\n"
     ]
    },
    {
     "name": "stdout",
     "output_type": "stream",
     "text": [
      "3275:\tlearn: 0.8554368\ttest: 0.7911962\tbest: 0.7918480 (2436)\ttotal: 10m 14s\tremaining: 5m 23s\n"
     ]
    },
    {
     "name": "stdout",
     "output_type": "stream",
     "text": [
      "3300:\tlearn: 0.8558625\ttest: 0.7908626\tbest: 0.7918480 (2436)\ttotal: 10m 18s\tremaining: 5m 18s\n"
     ]
    },
    {
     "name": "stdout",
     "output_type": "stream",
     "text": [
      "3325:\tlearn: 0.8566567\ttest: 0.7906315\tbest: 0.7918480 (2436)\ttotal: 10m 23s\tremaining: 5m 13s\n"
     ]
    },
    {
     "name": "stdout",
     "output_type": "stream",
     "text": [
      "3350:\tlearn: 0.8569527\ttest: 0.7908464\tbest: 0.7918480 (2436)\ttotal: 10m 28s\tremaining: 5m 9s\n"
     ]
    },
    {
     "name": "stdout",
     "output_type": "stream",
     "text": [
      "3375:\tlearn: 0.8573541\ttest: 0.7907513\tbest: 0.7918480 (2436)\ttotal: 10m 33s\tremaining: 5m 4s\n"
     ]
    },
    {
     "name": "stdout",
     "output_type": "stream",
     "text": [
      "3400:\tlearn: 0.8577563\ttest: 0.7906880\tbest: 0.7918480 (2436)\ttotal: 10m 37s\tremaining: 4m 59s\n"
     ]
    },
    {
     "name": "stdout",
     "output_type": "stream",
     "text": [
      "3425:\tlearn: 0.8582456\ttest: 0.7909452\tbest: 0.7918480 (2436)\ttotal: 10m 42s\tremaining: 4m 55s\n"
     ]
    },
    {
     "name": "stdout",
     "output_type": "stream",
     "text": [
      "3450:\tlearn: 0.8585547\ttest: 0.7908695\tbest: 0.7918480 (2436)\ttotal: 10m 47s\tremaining: 4m 50s\n"
     ]
    },
    {
     "name": "stdout",
     "output_type": "stream",
     "text": [
      "3475:\tlearn: 0.8588784\ttest: 0.7909790\tbest: 0.7918480 (2436)\ttotal: 10m 51s\tremaining: 4m 45s\n"
     ]
    },
    {
     "name": "stdout",
     "output_type": "stream",
     "text": [
      "3500:\tlearn: 0.8593616\ttest: 0.7910854\tbest: 0.7918480 (2436)\ttotal: 10m 56s\tremaining: 4m 41s\n"
     ]
    },
    {
     "name": "stdout",
     "output_type": "stream",
     "text": [
      "3525:\tlearn: 0.8598101\ttest: 0.7912965\tbest: 0.7918480 (2436)\ttotal: 11m 1s\tremaining: 4m 36s\n"
     ]
    },
    {
     "name": "stdout",
     "output_type": "stream",
     "text": [
      "3550:\tlearn: 0.8600454\ttest: 0.7908527\tbest: 0.7918480 (2436)\ttotal: 11m 5s\tremaining: 4m 31s\n"
     ]
    },
    {
     "name": "stdout",
     "output_type": "stream",
     "text": [
      "3575:\tlearn: 0.8604304\ttest: 0.7907685\tbest: 0.7918480 (2436)\ttotal: 11m 10s\tremaining: 4m 26s\n"
     ]
    },
    {
     "name": "stdout",
     "output_type": "stream",
     "text": [
      "3600:\tlearn: 0.8607470\ttest: 0.7908748\tbest: 0.7918480 (2436)\ttotal: 11m 15s\tremaining: 4m 22s\n"
     ]
    },
    {
     "name": "stdout",
     "output_type": "stream",
     "text": [
      "3625:\tlearn: 0.8612314\ttest: 0.7912613\tbest: 0.7918480 (2436)\ttotal: 11m 19s\tremaining: 4m 17s\n"
     ]
    },
    {
     "name": "stdout",
     "output_type": "stream",
     "text": [
      "3650:\tlearn: 0.8615733\ttest: 0.7910945\tbest: 0.7918480 (2436)\ttotal: 11m 24s\tremaining: 4m 12s\n"
     ]
    },
    {
     "name": "stdout",
     "output_type": "stream",
     "text": [
      "3675:\tlearn: 0.8619481\ttest: 0.7910316\tbest: 0.7918480 (2436)\ttotal: 11m 29s\tremaining: 4m 8s\n"
     ]
    },
    {
     "name": "stdout",
     "output_type": "stream",
     "text": [
      "3700:\tlearn: 0.8623983\ttest: 0.7912235\tbest: 0.7918480 (2436)\ttotal: 11m 33s\tremaining: 4m 3s\n"
     ]
    },
    {
     "name": "stdout",
     "output_type": "stream",
     "text": [
      "3725:\tlearn: 0.8629850\ttest: 0.7915914\tbest: 0.7918480 (2436)\ttotal: 11m 38s\tremaining: 3m 58s\n"
     ]
    },
    {
     "name": "stdout",
     "output_type": "stream",
     "text": [
      "3750:\tlearn: 0.8632364\ttest: 0.7914872\tbest: 0.7918480 (2436)\ttotal: 11m 43s\tremaining: 3m 54s\n"
     ]
    },
    {
     "name": "stdout",
     "output_type": "stream",
     "text": [
      "3775:\tlearn: 0.8636687\ttest: 0.7913195\tbest: 0.7918480 (2436)\ttotal: 11m 47s\tremaining: 3m 49s\n"
     ]
    },
    {
     "name": "stdout",
     "output_type": "stream",
     "text": [
      "3800:\tlearn: 0.8641167\ttest: 0.7910860\tbest: 0.7918480 (2436)\ttotal: 11m 52s\tremaining: 3m 44s\n"
     ]
    },
    {
     "name": "stdout",
     "output_type": "stream",
     "text": [
      "3825:\tlearn: 0.8644217\ttest: 0.7915056\tbest: 0.7918480 (2436)\ttotal: 11m 57s\tremaining: 3m 40s\n"
     ]
    },
    {
     "name": "stdout",
     "output_type": "stream",
     "text": [
      "3850:\tlearn: 0.8648440\ttest: 0.7914242\tbest: 0.7918480 (2436)\ttotal: 12m 1s\tremaining: 3m 35s\n"
     ]
    },
    {
     "name": "stdout",
     "output_type": "stream",
     "text": [
      "3875:\tlearn: 0.8651661\ttest: 0.7914891\tbest: 0.7918480 (2436)\ttotal: 12m 6s\tremaining: 3m 30s\n"
     ]
    },
    {
     "name": "stdout",
     "output_type": "stream",
     "text": [
      "3900:\tlearn: 0.8656119\ttest: 0.7913179\tbest: 0.7918480 (2436)\ttotal: 12m 11s\tremaining: 3m 26s\n"
     ]
    },
    {
     "name": "stdout",
     "output_type": "stream",
     "text": [
      "3925:\tlearn: 0.8659934\ttest: 0.7914630\tbest: 0.7918480 (2436)\ttotal: 12m 15s\tremaining: 3m 21s\n"
     ]
    },
    {
     "name": "stdout",
     "output_type": "stream",
     "text": [
      "3950:\tlearn: 0.8664875\ttest: 0.7915120\tbest: 0.7918480 (2436)\ttotal: 12m 20s\tremaining: 3m 16s\n"
     ]
    },
    {
     "name": "stdout",
     "output_type": "stream",
     "text": [
      "3975:\tlearn: 0.8668943\ttest: 0.7919635\tbest: 0.7921950 (3974)\ttotal: 12m 25s\tremaining: 3m 11s\n"
     ]
    },
    {
     "name": "stdout",
     "output_type": "stream",
     "text": [
      "4000:\tlearn: 0.8672854\ttest: 0.7919877\tbest: 0.7921950 (3974)\ttotal: 12m 29s\tremaining: 3m 7s\n"
     ]
    },
    {
     "name": "stdout",
     "output_type": "stream",
     "text": [
      "4025:\tlearn: 0.8678399\ttest: 0.7920337\tbest: 0.7922241 (4024)\ttotal: 12m 34s\tremaining: 3m 2s\n"
     ]
    },
    {
     "name": "stdout",
     "output_type": "stream",
     "text": [
      "4050:\tlearn: 0.8681279\ttest: 0.7918322\tbest: 0.7922241 (4024)\ttotal: 12m 39s\tremaining: 2m 57s\n"
     ]
    },
    {
     "name": "stdout",
     "output_type": "stream",
     "text": [
      "4075:\tlearn: 0.8684161\ttest: 0.7914128\tbest: 0.7922241 (4024)\ttotal: 12m 43s\tremaining: 2m 53s\n"
     ]
    },
    {
     "name": "stdout",
     "output_type": "stream",
     "text": [
      "4100:\tlearn: 0.8688514\ttest: 0.7916682\tbest: 0.7922241 (4024)\ttotal: 12m 48s\tremaining: 2m 48s\n"
     ]
    },
    {
     "name": "stdout",
     "output_type": "stream",
     "text": [
      "4125:\tlearn: 0.8691614\ttest: 0.7920310\tbest: 0.7922241 (4024)\ttotal: 12m 53s\tremaining: 2m 43s\n"
     ]
    },
    {
     "name": "stdout",
     "output_type": "stream",
     "text": [
      "4150:\tlearn: 0.8694858\ttest: 0.7917825\tbest: 0.7922241 (4024)\ttotal: 12m 58s\tremaining: 2m 39s\n"
     ]
    },
    {
     "name": "stdout",
     "output_type": "stream",
     "text": [
      "4175:\tlearn: 0.8699398\ttest: 0.7917619\tbest: 0.7922241 (4024)\ttotal: 13m 2s\tremaining: 2m 34s\n"
     ]
    },
    {
     "name": "stdout",
     "output_type": "stream",
     "text": [
      "4200:\tlearn: 0.8703616\ttest: 0.7920048\tbest: 0.7922241 (4024)\ttotal: 13m 7s\tremaining: 2m 29s\n"
     ]
    },
    {
     "name": "stdout",
     "output_type": "stream",
     "text": [
      "4225:\tlearn: 0.8707693\ttest: 0.7920065\tbest: 0.7922241 (4024)\ttotal: 13m 12s\tremaining: 2m 25s\n"
     ]
    },
    {
     "name": "stdout",
     "output_type": "stream",
     "text": [
      "4250:\tlearn: 0.8710430\ttest: 0.7921949\tbest: 0.7922241 (4024)\ttotal: 13m 16s\tremaining: 2m 20s\n"
     ]
    },
    {
     "name": "stdout",
     "output_type": "stream",
     "text": [
      "4275:\tlearn: 0.8713081\ttest: 0.7917966\tbest: 0.7922241 (4024)\ttotal: 13m 21s\tremaining: 2m 15s\n"
     ]
    },
    {
     "name": "stdout",
     "output_type": "stream",
     "text": [
      "4300:\tlearn: 0.8716068\ttest: 0.7919024\tbest: 0.7922241 (4024)\ttotal: 13m 26s\tremaining: 2m 11s\n"
     ]
    },
    {
     "name": "stdout",
     "output_type": "stream",
     "text": [
      "4325:\tlearn: 0.8719890\ttest: 0.7919926\tbest: 0.7922241 (4024)\ttotal: 13m 30s\tremaining: 2m 6s\n"
     ]
    },
    {
     "name": "stdout",
     "output_type": "stream",
     "text": [
      "4350:\tlearn: 0.8723863\ttest: 0.7921169\tbest: 0.7922247 (4343)\ttotal: 13m 35s\tremaining: 2m 1s\n"
     ]
    },
    {
     "name": "stdout",
     "output_type": "stream",
     "text": [
      "4375:\tlearn: 0.8727102\ttest: 0.7919441\tbest: 0.7922247 (4343)\ttotal: 13m 40s\tremaining: 1m 56s\n"
     ]
    },
    {
     "name": "stdout",
     "output_type": "stream",
     "text": [
      "4400:\tlearn: 0.8731409\ttest: 0.7922168\tbest: 0.7923235 (4381)\ttotal: 13m 44s\tremaining: 1m 52s\n"
     ]
    },
    {
     "name": "stdout",
     "output_type": "stream",
     "text": [
      "4425:\tlearn: 0.8733931\ttest: 0.7924058\tbest: 0.7924277 (4419)\ttotal: 13m 49s\tremaining: 1m 47s\n"
     ]
    },
    {
     "name": "stdout",
     "output_type": "stream",
     "text": [
      "4450:\tlearn: 0.8739293\ttest: 0.7925591\tbest: 0.7929758 (4440)\ttotal: 13m 54s\tremaining: 1m 42s\n"
     ]
    },
    {
     "name": "stdout",
     "output_type": "stream",
     "text": [
      "4475:\tlearn: 0.8742489\ttest: 0.7925645\tbest: 0.7929758 (4440)\ttotal: 13m 58s\tremaining: 1m 38s\n"
     ]
    },
    {
     "name": "stdout",
     "output_type": "stream",
     "text": [
      "4500:\tlearn: 0.8747150\ttest: 0.7926825\tbest: 0.7929758 (4440)\ttotal: 14m 3s\tremaining: 1m 33s\n"
     ]
    },
    {
     "name": "stdout",
     "output_type": "stream",
     "text": [
      "4525:\tlearn: 0.8751136\ttest: 0.7924752\tbest: 0.7929758 (4440)\ttotal: 14m 8s\tremaining: 1m 28s\n"
     ]
    },
    {
     "name": "stdout",
     "output_type": "stream",
     "text": [
      "4550:\tlearn: 0.8754745\ttest: 0.7922504\tbest: 0.7929758 (4440)\ttotal: 14m 13s\tremaining: 1m 24s\n"
     ]
    },
    {
     "name": "stdout",
     "output_type": "stream",
     "text": [
      "4575:\tlearn: 0.8760783\ttest: 0.7925371\tbest: 0.7929758 (4440)\ttotal: 14m 17s\tremaining: 1m 19s\n"
     ]
    },
    {
     "name": "stdout",
     "output_type": "stream",
     "text": [
      "4600:\tlearn: 0.8763666\ttest: 0.7926028\tbest: 0.7929758 (4440)\ttotal: 14m 22s\tremaining: 1m 14s\n"
     ]
    },
    {
     "name": "stdout",
     "output_type": "stream",
     "text": [
      "4625:\tlearn: 0.8766759\ttest: 0.7923064\tbest: 0.7929758 (4440)\ttotal: 14m 27s\tremaining: 1m 10s\n"
     ]
    },
    {
     "name": "stdout",
     "output_type": "stream",
     "text": [
      "4650:\tlearn: 0.8772116\ttest: 0.7922476\tbest: 0.7929758 (4440)\ttotal: 14m 31s\tremaining: 1m 5s\n"
     ]
    },
    {
     "name": "stdout",
     "output_type": "stream",
     "text": [
      "4675:\tlearn: 0.8775129\ttest: 0.7921899\tbest: 0.7929758 (4440)\ttotal: 14m 36s\tremaining: 1m\n"
     ]
    },
    {
     "name": "stdout",
     "output_type": "stream",
     "text": [
      "4700:\tlearn: 0.8778799\ttest: 0.7925475\tbest: 0.7929758 (4440)\ttotal: 14m 41s\tremaining: 56s\n"
     ]
    },
    {
     "name": "stdout",
     "output_type": "stream",
     "text": [
      "4725:\tlearn: 0.8781117\ttest: 0.7922982\tbest: 0.7929758 (4440)\ttotal: 14m 45s\tremaining: 51.4s\n"
     ]
    },
    {
     "name": "stdout",
     "output_type": "stream",
     "text": [
      "4750:\tlearn: 0.8784111\ttest: 0.7922719\tbest: 0.7929758 (4440)\ttotal: 14m 50s\tremaining: 46.7s\n"
     ]
    },
    {
     "name": "stdout",
     "output_type": "stream",
     "text": [
      "4775:\tlearn: 0.8786304\ttest: 0.7921853\tbest: 0.7929758 (4440)\ttotal: 14m 55s\tremaining: 42s\n"
     ]
    },
    {
     "name": "stdout",
     "output_type": "stream",
     "text": [
      "4800:\tlearn: 0.8791872\ttest: 0.7922981\tbest: 0.7929758 (4440)\ttotal: 14m 59s\tremaining: 37.3s\n"
     ]
    },
    {
     "name": "stdout",
     "output_type": "stream",
     "text": [
      "4825:\tlearn: 0.8795742\ttest: 0.7924242\tbest: 0.7929758 (4440)\ttotal: 15m 4s\tremaining: 32.6s\n"
     ]
    },
    {
     "name": "stdout",
     "output_type": "stream",
     "text": [
      "4850:\tlearn: 0.8798182\ttest: 0.7922762\tbest: 0.7929758 (4440)\ttotal: 15m 9s\tremaining: 27.9s\n"
     ]
    },
    {
     "name": "stdout",
     "output_type": "stream",
     "text": [
      "4875:\tlearn: 0.8802396\ttest: 0.7922585\tbest: 0.7929758 (4440)\ttotal: 15m 13s\tremaining: 23.2s\n"
     ]
    },
    {
     "name": "stdout",
     "output_type": "stream",
     "text": [
      "4900:\tlearn: 0.8806835\ttest: 0.7924266\tbest: 0.7929758 (4440)\ttotal: 15m 18s\tremaining: 18.6s\n"
     ]
    },
    {
     "name": "stdout",
     "output_type": "stream",
     "text": [
      "4925:\tlearn: 0.8810002\ttest: 0.7924057\tbest: 0.7929758 (4440)\ttotal: 15m 23s\tremaining: 13.9s\n"
     ]
    },
    {
     "name": "stdout",
     "output_type": "stream",
     "text": [
      "4950:\tlearn: 0.8812642\ttest: 0.7924268\tbest: 0.7929758 (4440)\ttotal: 15m 27s\tremaining: 9.18s\n"
     ]
    },
    {
     "name": "stdout",
     "output_type": "stream",
     "text": [
      "4975:\tlearn: 0.8814752\ttest: 0.7921809\tbest: 0.7929758 (4440)\ttotal: 15m 32s\tremaining: 4.5s\n"
     ]
    },
    {
     "name": "stdout",
     "output_type": "stream",
     "text": [
      "4999:\tlearn: 0.8817859\ttest: 0.7924530\tbest: 0.7929758 (4440)\ttotal: 15m 37s\tremaining: 0us\n",
      "\n",
      "bestTest = 0.792975778\n",
      "bestIteration = 4440\n",
      "\n"
     ]
    },
    {
     "name": "stdout",
     "output_type": "stream",
     "text": [
      "######################################## training model 4/5 ########################################\n"
     ]
    },
    {
     "name": "stdout",
     "output_type": "stream",
     "text": [
      "0:\tlearn: 0.5369111\ttest: 0.5359773\tbest: 0.5359773 (0)\ttotal: 495ms\tremaining: 41m 15s\n"
     ]
    },
    {
     "name": "stdout",
     "output_type": "stream",
     "text": [
      "25:\tlearn: 0.7185524\ttest: 0.7221666\tbest: 0.7225496 (24)\ttotal: 5.1s\tremaining: 16m 16s\n"
     ]
    },
    {
     "name": "stdout",
     "output_type": "stream",
     "text": [
      "50:\tlearn: 0.7340378\ttest: 0.7372131\tbest: 0.7372131 (50)\ttotal: 9.82s\tremaining: 15m 52s\n"
     ]
    },
    {
     "name": "stdout",
     "output_type": "stream",
     "text": [
      "75:\tlearn: 0.7429180\ttest: 0.7471307\tbest: 0.7471307 (75)\ttotal: 14.5s\tremaining: 15m 38s\n"
     ]
    },
    {
     "name": "stdout",
     "output_type": "stream",
     "text": [
      "100:\tlearn: 0.7488912\ttest: 0.7527548\tbest: 0.7527548 (100)\ttotal: 19.1s\tremaining: 15m 28s\n"
     ]
    },
    {
     "name": "stdout",
     "output_type": "stream",
     "text": [
      "125:\tlearn: 0.7531965\ttest: 0.7566720\tbest: 0.7566720 (125)\ttotal: 23.8s\tremaining: 15m 22s\n"
     ]
    },
    {
     "name": "stdout",
     "output_type": "stream",
     "text": [
      "150:\tlearn: 0.7561433\ttest: 0.7589951\tbest: 0.7590392 (148)\ttotal: 28.5s\tremaining: 15m 14s\n"
     ]
    },
    {
     "name": "stdout",
     "output_type": "stream",
     "text": [
      "175:\tlearn: 0.7590499\ttest: 0.7615243\tbest: 0.7615243 (175)\ttotal: 33.2s\tremaining: 15m 8s\n"
     ]
    },
    {
     "name": "stdout",
     "output_type": "stream",
     "text": [
      "200:\tlearn: 0.7613690\ttest: 0.7641830\tbest: 0.7641830 (200)\ttotal: 37.9s\tremaining: 15m 3s\n"
     ]
    },
    {
     "name": "stdout",
     "output_type": "stream",
     "text": [
      "225:\tlearn: 0.7627675\ttest: 0.7656773\tbest: 0.7656773 (225)\ttotal: 42.5s\tremaining: 14m 58s\n"
     ]
    },
    {
     "name": "stdout",
     "output_type": "stream",
     "text": [
      "250:\tlearn: 0.7641562\ttest: 0.7667750\tbest: 0.7668549 (248)\ttotal: 47.2s\tremaining: 14m 53s\n"
     ]
    },
    {
     "name": "stdout",
     "output_type": "stream",
     "text": [
      "275:\tlearn: 0.7668226\ttest: 0.7692665\tbest: 0.7692665 (275)\ttotal: 51.9s\tremaining: 14m 48s\n"
     ]
    },
    {
     "name": "stdout",
     "output_type": "stream",
     "text": [
      "300:\tlearn: 0.7705802\ttest: 0.7738986\tbest: 0.7738986 (300)\ttotal: 56.7s\tremaining: 14m 44s\n"
     ]
    },
    {
     "name": "stdout",
     "output_type": "stream",
     "text": [
      "325:\tlearn: 0.7753789\ttest: 0.7776514\tbest: 0.7776514 (325)\ttotal: 1m 1s\tremaining: 14m 40s\n"
     ]
    },
    {
     "name": "stdout",
     "output_type": "stream",
     "text": [
      "350:\tlearn: 0.7791226\ttest: 0.7806753\tbest: 0.7808348 (349)\ttotal: 1m 6s\tremaining: 14m 35s\n"
     ]
    },
    {
     "name": "stdout",
     "output_type": "stream",
     "text": [
      "375:\tlearn: 0.7822479\ttest: 0.7835115\tbest: 0.7835115 (375)\ttotal: 1m 10s\tremaining: 14m 30s\n"
     ]
    },
    {
     "name": "stdout",
     "output_type": "stream",
     "text": [
      "400:\tlearn: 0.7845653\ttest: 0.7848795\tbest: 0.7849506 (399)\ttotal: 1m 15s\tremaining: 14m 26s\n"
     ]
    },
    {
     "name": "stdout",
     "output_type": "stream",
     "text": [
      "425:\tlearn: 0.7862087\ttest: 0.7872165\tbest: 0.7872165 (425)\ttotal: 1m 20s\tremaining: 14m 22s\n"
     ]
    },
    {
     "name": "stdout",
     "output_type": "stream",
     "text": [
      "450:\tlearn: 0.7880780\ttest: 0.7874339\tbest: 0.7879402 (444)\ttotal: 1m 24s\tremaining: 14m 17s\n"
     ]
    },
    {
     "name": "stdout",
     "output_type": "stream",
     "text": [
      "475:\tlearn: 0.7894580\ttest: 0.7882918\tbest: 0.7883682 (474)\ttotal: 1m 29s\tremaining: 14m 12s\n"
     ]
    },
    {
     "name": "stdout",
     "output_type": "stream",
     "text": [
      "500:\tlearn: 0.7910491\ttest: 0.7888074\tbest: 0.7888600 (496)\ttotal: 1m 34s\tremaining: 14m 7s\n"
     ]
    },
    {
     "name": "stdout",
     "output_type": "stream",
     "text": [
      "525:\tlearn: 0.7920840\ttest: 0.7894476\tbest: 0.7894476 (525)\ttotal: 1m 39s\tremaining: 14m 2s\n"
     ]
    },
    {
     "name": "stdout",
     "output_type": "stream",
     "text": [
      "550:\tlearn: 0.7933860\ttest: 0.7899575\tbest: 0.7901594 (548)\ttotal: 1m 43s\tremaining: 13m 57s\n"
     ]
    },
    {
     "name": "stdout",
     "output_type": "stream",
     "text": [
      "575:\tlearn: 0.7943169\ttest: 0.7902913\tbest: 0.7902943 (564)\ttotal: 1m 48s\tremaining: 13m 52s\n"
     ]
    },
    {
     "name": "stdout",
     "output_type": "stream",
     "text": [
      "600:\tlearn: 0.7954624\ttest: 0.7910306\tbest: 0.7911304 (593)\ttotal: 1m 53s\tremaining: 13m 48s\n"
     ]
    },
    {
     "name": "stdout",
     "output_type": "stream",
     "text": [
      "625:\tlearn: 0.7965293\ttest: 0.7910306\tbest: 0.7912289 (601)\ttotal: 1m 57s\tremaining: 13m 43s\n"
     ]
    },
    {
     "name": "stdout",
     "output_type": "stream",
     "text": [
      "650:\tlearn: 0.7974089\ttest: 0.7912180\tbest: 0.7914856 (635)\ttotal: 2m 2s\tremaining: 13m 38s\n"
     ]
    },
    {
     "name": "stdout",
     "output_type": "stream",
     "text": [
      "675:\tlearn: 0.7982969\ttest: 0.7912255\tbest: 0.7915869 (668)\ttotal: 2m 7s\tremaining: 13m 34s\n"
     ]
    },
    {
     "name": "stdout",
     "output_type": "stream",
     "text": [
      "700:\tlearn: 0.7992121\ttest: 0.7914023\tbest: 0.7917035 (686)\ttotal: 2m 11s\tremaining: 13m 29s\n"
     ]
    },
    {
     "name": "stdout",
     "output_type": "stream",
     "text": [
      "725:\tlearn: 0.8000926\ttest: 0.7922253\tbest: 0.7922253 (725)\ttotal: 2m 16s\tremaining: 13m 24s\n"
     ]
    },
    {
     "name": "stdout",
     "output_type": "stream",
     "text": [
      "750:\tlearn: 0.8012416\ttest: 0.7921326\tbest: 0.7926965 (738)\ttotal: 2m 21s\tremaining: 13m 19s\n"
     ]
    },
    {
     "name": "stdout",
     "output_type": "stream",
     "text": [
      "775:\tlearn: 0.8021208\ttest: 0.7923103\tbest: 0.7927300 (773)\ttotal: 2m 26s\tremaining: 13m 14s\n"
     ]
    },
    {
     "name": "stdout",
     "output_type": "stream",
     "text": [
      "800:\tlearn: 0.8030977\ttest: 0.7924869\tbest: 0.7927300 (773)\ttotal: 2m 30s\tremaining: 13m 10s\n"
     ]
    },
    {
     "name": "stdout",
     "output_type": "stream",
     "text": [
      "825:\tlearn: 0.8039085\ttest: 0.7932009\tbest: 0.7932009 (825)\ttotal: 2m 35s\tremaining: 13m 5s\n"
     ]
    },
    {
     "name": "stdout",
     "output_type": "stream",
     "text": [
      "850:\tlearn: 0.8047072\ttest: 0.7934827\tbest: 0.7935023 (849)\ttotal: 2m 40s\tremaining: 13m\n"
     ]
    },
    {
     "name": "stdout",
     "output_type": "stream",
     "text": [
      "875:\tlearn: 0.8055363\ttest: 0.7937892\tbest: 0.7938064 (874)\ttotal: 2m 44s\tremaining: 12m 55s\n"
     ]
    },
    {
     "name": "stdout",
     "output_type": "stream",
     "text": [
      "900:\tlearn: 0.8061594\ttest: 0.7941844\tbest: 0.7942261 (898)\ttotal: 2m 49s\tremaining: 12m 50s\n"
     ]
    },
    {
     "name": "stdout",
     "output_type": "stream",
     "text": [
      "925:\tlearn: 0.8067153\ttest: 0.7939677\tbest: 0.7942785 (921)\ttotal: 2m 54s\tremaining: 12m 46s\n"
     ]
    },
    {
     "name": "stdout",
     "output_type": "stream",
     "text": [
      "950:\tlearn: 0.8073635\ttest: 0.7941897\tbest: 0.7945648 (947)\ttotal: 2m 58s\tremaining: 12m 41s\n"
     ]
    },
    {
     "name": "stdout",
     "output_type": "stream",
     "text": [
      "975:\tlearn: 0.8082123\ttest: 0.7943183\tbest: 0.7945648 (947)\ttotal: 3m 3s\tremaining: 12m 36s\n"
     ]
    },
    {
     "name": "stdout",
     "output_type": "stream",
     "text": [
      "1000:\tlearn: 0.8092503\ttest: 0.7947126\tbest: 0.7947126 (1000)\ttotal: 3m 8s\tremaining: 12m 31s\n"
     ]
    },
    {
     "name": "stdout",
     "output_type": "stream",
     "text": [
      "1025:\tlearn: 0.8097489\ttest: 0.7947399\tbest: 0.7948158 (1015)\ttotal: 3m 12s\tremaining: 12m 27s\n"
     ]
    },
    {
     "name": "stdout",
     "output_type": "stream",
     "text": [
      "1050:\tlearn: 0.8102349\ttest: 0.7949085\tbest: 0.7950542 (1048)\ttotal: 3m 17s\tremaining: 12m 22s\n"
     ]
    },
    {
     "name": "stdout",
     "output_type": "stream",
     "text": [
      "1075:\tlearn: 0.8109759\ttest: 0.7948507\tbest: 0.7951432 (1054)\ttotal: 3m 22s\tremaining: 12m 17s\n"
     ]
    },
    {
     "name": "stdout",
     "output_type": "stream",
     "text": [
      "1100:\tlearn: 0.8114474\ttest: 0.7951927\tbest: 0.7955212 (1092)\ttotal: 3m 27s\tremaining: 12m 13s\n"
     ]
    },
    {
     "name": "stdout",
     "output_type": "stream",
     "text": [
      "1125:\tlearn: 0.8121122\ttest: 0.7951200\tbest: 0.7955212 (1092)\ttotal: 3m 31s\tremaining: 12m 8s\n"
     ]
    },
    {
     "name": "stdout",
     "output_type": "stream",
     "text": [
      "1150:\tlearn: 0.8129955\ttest: 0.7952012\tbest: 0.7955212 (1092)\ttotal: 3m 36s\tremaining: 12m 3s\n"
     ]
    },
    {
     "name": "stdout",
     "output_type": "stream",
     "text": [
      "1175:\tlearn: 0.8137465\ttest: 0.7952722\tbest: 0.7955212 (1092)\ttotal: 3m 41s\tremaining: 11m 59s\n"
     ]
    },
    {
     "name": "stdout",
     "output_type": "stream",
     "text": [
      "1200:\tlearn: 0.8140961\ttest: 0.7954574\tbest: 0.7955212 (1092)\ttotal: 3m 45s\tremaining: 11m 54s\n"
     ]
    },
    {
     "name": "stdout",
     "output_type": "stream",
     "text": [
      "1225:\tlearn: 0.8146135\ttest: 0.7951500\tbest: 0.7955664 (1215)\ttotal: 3m 50s\tremaining: 11m 49s\n"
     ]
    },
    {
     "name": "stdout",
     "output_type": "stream",
     "text": [
      "1250:\tlearn: 0.8152546\ttest: 0.7953962\tbest: 0.7956416 (1239)\ttotal: 3m 55s\tremaining: 11m 44s\n"
     ]
    },
    {
     "name": "stdout",
     "output_type": "stream",
     "text": [
      "1275:\tlearn: 0.8159234\ttest: 0.7952529\tbest: 0.7956416 (1239)\ttotal: 3m 59s\tremaining: 11m 39s\n"
     ]
    },
    {
     "name": "stdout",
     "output_type": "stream",
     "text": [
      "1300:\tlearn: 0.8163207\ttest: 0.7949351\tbest: 0.7956416 (1239)\ttotal: 4m 4s\tremaining: 11m 35s\n"
     ]
    },
    {
     "name": "stdout",
     "output_type": "stream",
     "text": [
      "1325:\tlearn: 0.8169878\ttest: 0.7947831\tbest: 0.7956416 (1239)\ttotal: 4m 9s\tremaining: 11m 30s\n"
     ]
    },
    {
     "name": "stdout",
     "output_type": "stream",
     "text": [
      "1350:\tlearn: 0.8174650\ttest: 0.7947048\tbest: 0.7956416 (1239)\ttotal: 4m 13s\tremaining: 11m 25s\n"
     ]
    },
    {
     "name": "stdout",
     "output_type": "stream",
     "text": [
      "1375:\tlearn: 0.8179986\ttest: 0.7949119\tbest: 0.7956416 (1239)\ttotal: 4m 18s\tremaining: 11m 20s\n"
     ]
    },
    {
     "name": "stdout",
     "output_type": "stream",
     "text": [
      "1400:\tlearn: 0.8186444\ttest: 0.7950911\tbest: 0.7956416 (1239)\ttotal: 4m 23s\tremaining: 11m 16s\n"
     ]
    },
    {
     "name": "stdout",
     "output_type": "stream",
     "text": [
      "1425:\tlearn: 0.8192307\ttest: 0.7949321\tbest: 0.7956416 (1239)\ttotal: 4m 27s\tremaining: 11m 11s\n"
     ]
    },
    {
     "name": "stdout",
     "output_type": "stream",
     "text": [
      "1450:\tlearn: 0.8201555\ttest: 0.7954075\tbest: 0.7956416 (1239)\ttotal: 4m 32s\tremaining: 11m 6s\n"
     ]
    },
    {
     "name": "stdout",
     "output_type": "stream",
     "text": [
      "1475:\tlearn: 0.8206334\ttest: 0.7954817\tbest: 0.7956416 (1239)\ttotal: 4m 37s\tremaining: 11m 1s\n"
     ]
    },
    {
     "name": "stdout",
     "output_type": "stream",
     "text": [
      "1500:\tlearn: 0.8213234\ttest: 0.7955820\tbest: 0.7957234 (1496)\ttotal: 4m 41s\tremaining: 10m 57s\n"
     ]
    },
    {
     "name": "stdout",
     "output_type": "stream",
     "text": [
      "1525:\tlearn: 0.8218175\ttest: 0.7955730\tbest: 0.7957349 (1511)\ttotal: 4m 46s\tremaining: 10m 52s\n"
     ]
    },
    {
     "name": "stdout",
     "output_type": "stream",
     "text": [
      "1550:\tlearn: 0.8223412\ttest: 0.7960333\tbest: 0.7960333 (1550)\ttotal: 4m 51s\tremaining: 10m 47s\n"
     ]
    },
    {
     "name": "stdout",
     "output_type": "stream",
     "text": [
      "1575:\tlearn: 0.8227916\ttest: 0.7961731\tbest: 0.7961731 (1575)\ttotal: 4m 56s\tremaining: 10m 43s\n"
     ]
    },
    {
     "name": "stdout",
     "output_type": "stream",
     "text": [
      "1600:\tlearn: 0.8232164\ttest: 0.7962830\tbest: 0.7963042 (1598)\ttotal: 5m\tremaining: 10m 38s\n"
     ]
    },
    {
     "name": "stdout",
     "output_type": "stream",
     "text": [
      "1625:\tlearn: 0.8237590\ttest: 0.7960200\tbest: 0.7963042 (1598)\ttotal: 5m 5s\tremaining: 10m 33s\n"
     ]
    },
    {
     "name": "stdout",
     "output_type": "stream",
     "text": [
      "1650:\tlearn: 0.8242040\ttest: 0.7956048\tbest: 0.7963042 (1598)\ttotal: 5m 10s\tremaining: 10m 29s\n"
     ]
    },
    {
     "name": "stdout",
     "output_type": "stream",
     "text": [
      "1675:\tlearn: 0.8248830\ttest: 0.7962868\tbest: 0.7963042 (1598)\ttotal: 5m 14s\tremaining: 10m 24s\n"
     ]
    },
    {
     "name": "stdout",
     "output_type": "stream",
     "text": [
      "1700:\tlearn: 0.8251741\ttest: 0.7957619\tbest: 0.7963042 (1598)\ttotal: 5m 19s\tremaining: 10m 19s\n"
     ]
    },
    {
     "name": "stdout",
     "output_type": "stream",
     "text": [
      "1725:\tlearn: 0.8256885\ttest: 0.7956249\tbest: 0.7963042 (1598)\ttotal: 5m 24s\tremaining: 10m 14s\n"
     ]
    },
    {
     "name": "stdout",
     "output_type": "stream",
     "text": [
      "1750:\tlearn: 0.8263612\ttest: 0.7954663\tbest: 0.7963042 (1598)\ttotal: 5m 28s\tremaining: 10m 10s\n"
     ]
    },
    {
     "name": "stdout",
     "output_type": "stream",
     "text": [
      "1775:\tlearn: 0.8269308\ttest: 0.7952239\tbest: 0.7963042 (1598)\ttotal: 5m 33s\tremaining: 10m 5s\n"
     ]
    },
    {
     "name": "stdout",
     "output_type": "stream",
     "text": [
      "1800:\tlearn: 0.8274336\ttest: 0.7949825\tbest: 0.7963042 (1598)\ttotal: 5m 38s\tremaining: 10m\n"
     ]
    },
    {
     "name": "stdout",
     "output_type": "stream",
     "text": [
      "1825:\tlearn: 0.8279448\ttest: 0.7947250\tbest: 0.7963042 (1598)\ttotal: 5m 42s\tremaining: 9m 55s\n"
     ]
    },
    {
     "name": "stdout",
     "output_type": "stream",
     "text": [
      "1850:\tlearn: 0.8284641\ttest: 0.7952856\tbest: 0.7963042 (1598)\ttotal: 5m 47s\tremaining: 9m 51s\n"
     ]
    },
    {
     "name": "stdout",
     "output_type": "stream",
     "text": [
      "1875:\tlearn: 0.8288768\ttest: 0.7949601\tbest: 0.7963042 (1598)\ttotal: 5m 52s\tremaining: 9m 46s\n"
     ]
    },
    {
     "name": "stdout",
     "output_type": "stream",
     "text": [
      "1900:\tlearn: 0.8293330\ttest: 0.7950921\tbest: 0.7963042 (1598)\ttotal: 5m 56s\tremaining: 9m 41s\n"
     ]
    },
    {
     "name": "stdout",
     "output_type": "stream",
     "text": [
      "1925:\tlearn: 0.8296747\ttest: 0.7950961\tbest: 0.7963042 (1598)\ttotal: 6m 1s\tremaining: 9m 37s\n"
     ]
    },
    {
     "name": "stdout",
     "output_type": "stream",
     "text": [
      "1950:\tlearn: 0.8303597\ttest: 0.7948156\tbest: 0.7963042 (1598)\ttotal: 6m 6s\tremaining: 9m 32s\n"
     ]
    },
    {
     "name": "stdout",
     "output_type": "stream",
     "text": [
      "1975:\tlearn: 0.8306017\ttest: 0.7945449\tbest: 0.7963042 (1598)\ttotal: 6m 10s\tremaining: 9m 27s\n"
     ]
    },
    {
     "name": "stdout",
     "output_type": "stream",
     "text": [
      "2000:\tlearn: 0.8312234\ttest: 0.7949096\tbest: 0.7963042 (1598)\ttotal: 6m 15s\tremaining: 9m 23s\n"
     ]
    },
    {
     "name": "stdout",
     "output_type": "stream",
     "text": [
      "2025:\tlearn: 0.8315280\ttest: 0.7943616\tbest: 0.7963042 (1598)\ttotal: 6m 20s\tremaining: 9m 18s\n"
     ]
    },
    {
     "name": "stdout",
     "output_type": "stream",
     "text": [
      "2050:\tlearn: 0.8318820\ttest: 0.7950448\tbest: 0.7963042 (1598)\ttotal: 6m 25s\tremaining: 9m 13s\n"
     ]
    },
    {
     "name": "stdout",
     "output_type": "stream",
     "text": [
      "2075:\tlearn: 0.8326170\ttest: 0.7948887\tbest: 0.7963042 (1598)\ttotal: 6m 29s\tremaining: 9m 8s\n"
     ]
    },
    {
     "name": "stdout",
     "output_type": "stream",
     "text": [
      "2100:\tlearn: 0.8330879\ttest: 0.7948064\tbest: 0.7963042 (1598)\ttotal: 6m 34s\tremaining: 9m 4s\n"
     ]
    },
    {
     "name": "stdout",
     "output_type": "stream",
     "text": [
      "2125:\tlearn: 0.8338358\ttest: 0.7946694\tbest: 0.7963042 (1598)\ttotal: 6m 39s\tremaining: 8m 59s\n"
     ]
    },
    {
     "name": "stdout",
     "output_type": "stream",
     "text": [
      "2150:\tlearn: 0.8343386\ttest: 0.7944269\tbest: 0.7963042 (1598)\ttotal: 6m 43s\tremaining: 8m 54s\n"
     ]
    },
    {
     "name": "stdout",
     "output_type": "stream",
     "text": [
      "2175:\tlearn: 0.8349027\ttest: 0.7949215\tbest: 0.7963042 (1598)\ttotal: 6m 48s\tremaining: 8m 50s\n"
     ]
    },
    {
     "name": "stdout",
     "output_type": "stream",
     "text": [
      "2200:\tlearn: 0.8352499\ttest: 0.7947174\tbest: 0.7963042 (1598)\ttotal: 6m 53s\tremaining: 8m 45s\n"
     ]
    },
    {
     "name": "stdout",
     "output_type": "stream",
     "text": [
      "2225:\tlearn: 0.8359513\ttest: 0.7944522\tbest: 0.7963042 (1598)\ttotal: 6m 57s\tremaining: 8m 40s\n"
     ]
    },
    {
     "name": "stdout",
     "output_type": "stream",
     "text": [
      "2250:\tlearn: 0.8366944\ttest: 0.7945442\tbest: 0.7963042 (1598)\ttotal: 7m 2s\tremaining: 8m 35s\n"
     ]
    },
    {
     "name": "stdout",
     "output_type": "stream",
     "text": [
      "2275:\tlearn: 0.8372404\ttest: 0.7945346\tbest: 0.7963042 (1598)\ttotal: 7m 7s\tremaining: 8m 31s\n"
     ]
    },
    {
     "name": "stdout",
     "output_type": "stream",
     "text": [
      "2300:\tlearn: 0.8377207\ttest: 0.7946458\tbest: 0.7963042 (1598)\ttotal: 7m 11s\tremaining: 8m 26s\n"
     ]
    },
    {
     "name": "stdout",
     "output_type": "stream",
     "text": [
      "2325:\tlearn: 0.8380904\ttest: 0.7945658\tbest: 0.7963042 (1598)\ttotal: 7m 16s\tremaining: 8m 21s\n"
     ]
    },
    {
     "name": "stdout",
     "output_type": "stream",
     "text": [
      "2350:\tlearn: 0.8387689\ttest: 0.7946390\tbest: 0.7963042 (1598)\ttotal: 7m 21s\tremaining: 8m 17s\n"
     ]
    },
    {
     "name": "stdout",
     "output_type": "stream",
     "text": [
      "2375:\tlearn: 0.8392014\ttest: 0.7948013\tbest: 0.7963042 (1598)\ttotal: 7m 25s\tremaining: 8m 12s\n"
     ]
    },
    {
     "name": "stdout",
     "output_type": "stream",
     "text": [
      "2400:\tlearn: 0.8397078\ttest: 0.7951065\tbest: 0.7963042 (1598)\ttotal: 7m 30s\tremaining: 8m 7s\n"
     ]
    },
    {
     "name": "stdout",
     "output_type": "stream",
     "text": [
      "2425:\tlearn: 0.8401705\ttest: 0.7947712\tbest: 0.7963042 (1598)\ttotal: 7m 35s\tremaining: 8m 3s\n"
     ]
    },
    {
     "name": "stdout",
     "output_type": "stream",
     "text": [
      "2450:\tlearn: 0.8404877\ttest: 0.7949002\tbest: 0.7963042 (1598)\ttotal: 7m 40s\tremaining: 7m 58s\n"
     ]
    },
    {
     "name": "stdout",
     "output_type": "stream",
     "text": [
      "2475:\tlearn: 0.8408937\ttest: 0.7949934\tbest: 0.7963042 (1598)\ttotal: 7m 44s\tremaining: 7m 53s\n"
     ]
    },
    {
     "name": "stdout",
     "output_type": "stream",
     "text": [
      "2500:\tlearn: 0.8415424\ttest: 0.7951161\tbest: 0.7963042 (1598)\ttotal: 7m 49s\tremaining: 7m 49s\n"
     ]
    },
    {
     "name": "stdout",
     "output_type": "stream",
     "text": [
      "2525:\tlearn: 0.8420536\ttest: 0.7951023\tbest: 0.7963042 (1598)\ttotal: 7m 54s\tremaining: 7m 44s\n"
     ]
    },
    {
     "name": "stdout",
     "output_type": "stream",
     "text": [
      "2550:\tlearn: 0.8424451\ttest: 0.7950468\tbest: 0.7963042 (1598)\ttotal: 7m 58s\tremaining: 7m 39s\n"
     ]
    },
    {
     "name": "stdout",
     "output_type": "stream",
     "text": [
      "2575:\tlearn: 0.8428607\ttest: 0.7951723\tbest: 0.7963042 (1598)\ttotal: 8m 3s\tremaining: 7m 34s\n"
     ]
    },
    {
     "name": "stdout",
     "output_type": "stream",
     "text": [
      "2600:\tlearn: 0.8434962\ttest: 0.7946730\tbest: 0.7963042 (1598)\ttotal: 8m 8s\tremaining: 7m 30s\n"
     ]
    },
    {
     "name": "stdout",
     "output_type": "stream",
     "text": [
      "2625:\tlearn: 0.8438146\ttest: 0.7952248\tbest: 0.7963042 (1598)\ttotal: 8m 12s\tremaining: 7m 25s\n"
     ]
    },
    {
     "name": "stdout",
     "output_type": "stream",
     "text": [
      "2650:\tlearn: 0.8443624\ttest: 0.7954996\tbest: 0.7963042 (1598)\ttotal: 8m 17s\tremaining: 7m 20s\n"
     ]
    },
    {
     "name": "stdout",
     "output_type": "stream",
     "text": [
      "2675:\tlearn: 0.8448572\ttest: 0.7952667\tbest: 0.7963042 (1598)\ttotal: 8m 22s\tremaining: 7m 16s\n"
     ]
    },
    {
     "name": "stdout",
     "output_type": "stream",
     "text": [
      "2700:\tlearn: 0.8452857\ttest: 0.7950187\tbest: 0.7963042 (1598)\ttotal: 8m 26s\tremaining: 7m 11s\n"
     ]
    },
    {
     "name": "stdout",
     "output_type": "stream",
     "text": [
      "2725:\tlearn: 0.8457264\ttest: 0.7954525\tbest: 0.7963042 (1598)\ttotal: 8m 31s\tremaining: 7m 6s\n"
     ]
    },
    {
     "name": "stdout",
     "output_type": "stream",
     "text": [
      "2750:\tlearn: 0.8462324\ttest: 0.7952913\tbest: 0.7963042 (1598)\ttotal: 8m 36s\tremaining: 7m 2s\n"
     ]
    },
    {
     "name": "stdout",
     "output_type": "stream",
     "text": [
      "2775:\tlearn: 0.8467167\ttest: 0.7953807\tbest: 0.7963042 (1598)\ttotal: 8m 40s\tremaining: 6m 57s\n"
     ]
    },
    {
     "name": "stdout",
     "output_type": "stream",
     "text": [
      "2800:\tlearn: 0.8470947\ttest: 0.7952172\tbest: 0.7963042 (1598)\ttotal: 8m 45s\tremaining: 6m 52s\n"
     ]
    },
    {
     "name": "stdout",
     "output_type": "stream",
     "text": [
      "2825:\tlearn: 0.8473679\ttest: 0.7950049\tbest: 0.7963042 (1598)\ttotal: 8m 50s\tremaining: 6m 47s\n"
     ]
    },
    {
     "name": "stdout",
     "output_type": "stream",
     "text": [
      "2850:\tlearn: 0.8478993\ttest: 0.7954356\tbest: 0.7963042 (1598)\ttotal: 8m 54s\tremaining: 6m 43s\n"
     ]
    },
    {
     "name": "stdout",
     "output_type": "stream",
     "text": [
      "2875:\tlearn: 0.8485725\ttest: 0.7956137\tbest: 0.7963042 (1598)\ttotal: 8m 59s\tremaining: 6m 38s\n"
     ]
    },
    {
     "name": "stdout",
     "output_type": "stream",
     "text": [
      "2900:\tlearn: 0.8488938\ttest: 0.7956599\tbest: 0.7963042 (1598)\ttotal: 9m 4s\tremaining: 6m 33s\n"
     ]
    },
    {
     "name": "stdout",
     "output_type": "stream",
     "text": [
      "2925:\tlearn: 0.8495080\ttest: 0.7958545\tbest: 0.7963042 (1598)\ttotal: 9m 9s\tremaining: 6m 29s\n"
     ]
    },
    {
     "name": "stdout",
     "output_type": "stream",
     "text": [
      "2950:\tlearn: 0.8497726\ttest: 0.7962174\tbest: 0.7963042 (1598)\ttotal: 9m 13s\tremaining: 6m 24s\n"
     ]
    },
    {
     "name": "stdout",
     "output_type": "stream",
     "text": [
      "2975:\tlearn: 0.8501844\ttest: 0.7962038\tbest: 0.7964541 (2968)\ttotal: 9m 18s\tremaining: 6m 19s\n"
     ]
    },
    {
     "name": "stdout",
     "output_type": "stream",
     "text": [
      "3000:\tlearn: 0.8505349\ttest: 0.7963948\tbest: 0.7964541 (2968)\ttotal: 9m 23s\tremaining: 6m 15s\n"
     ]
    },
    {
     "name": "stdout",
     "output_type": "stream",
     "text": [
      "3025:\tlearn: 0.8511941\ttest: 0.7964860\tbest: 0.7964860 (3025)\ttotal: 9m 27s\tremaining: 6m 10s\n"
     ]
    },
    {
     "name": "stdout",
     "output_type": "stream",
     "text": [
      "3050:\tlearn: 0.8515101\ttest: 0.7963429\tbest: 0.7964860 (3025)\ttotal: 9m 32s\tremaining: 6m 5s\n"
     ]
    },
    {
     "name": "stdout",
     "output_type": "stream",
     "text": [
      "3075:\tlearn: 0.8518313\ttest: 0.7962387\tbest: 0.7965323 (3056)\ttotal: 9m 37s\tremaining: 6m 1s\n"
     ]
    },
    {
     "name": "stdout",
     "output_type": "stream",
     "text": [
      "3100:\tlearn: 0.8523464\ttest: 0.7966008\tbest: 0.7966375 (3088)\ttotal: 9m 41s\tremaining: 5m 56s\n"
     ]
    },
    {
     "name": "stdout",
     "output_type": "stream",
     "text": [
      "3125:\tlearn: 0.8528828\ttest: 0.7962901\tbest: 0.7966375 (3088)\ttotal: 9m 46s\tremaining: 5m 51s\n"
     ]
    },
    {
     "name": "stdout",
     "output_type": "stream",
     "text": [
      "3150:\tlearn: 0.8533422\ttest: 0.7965246\tbest: 0.7966375 (3088)\ttotal: 9m 51s\tremaining: 5m 46s\n"
     ]
    },
    {
     "name": "stdout",
     "output_type": "stream",
     "text": [
      "3175:\tlearn: 0.8537581\ttest: 0.7963830\tbest: 0.7967577 (3152)\ttotal: 9m 55s\tremaining: 5m 42s\n"
     ]
    },
    {
     "name": "stdout",
     "output_type": "stream",
     "text": [
      "3200:\tlearn: 0.8541938\ttest: 0.7964275\tbest: 0.7967577 (3152)\ttotal: 10m\tremaining: 5m 37s\n"
     ]
    },
    {
     "name": "stdout",
     "output_type": "stream",
     "text": [
      "3225:\tlearn: 0.8546403\ttest: 0.7964321\tbest: 0.7967577 (3152)\ttotal: 10m 5s\tremaining: 5m 32s\n"
     ]
    },
    {
     "name": "stdout",
     "output_type": "stream",
     "text": [
      "3250:\tlearn: 0.8550215\ttest: 0.7964565\tbest: 0.7967577 (3152)\ttotal: 10m 9s\tremaining: 5m 28s\n"
     ]
    },
    {
     "name": "stdout",
     "output_type": "stream",
     "text": [
      "3275:\tlearn: 0.8554053\ttest: 0.7964755\tbest: 0.7967577 (3152)\ttotal: 10m 14s\tremaining: 5m 23s\n"
     ]
    },
    {
     "name": "stdout",
     "output_type": "stream",
     "text": [
      "3300:\tlearn: 0.8556215\ttest: 0.7961775\tbest: 0.7967577 (3152)\ttotal: 10m 19s\tremaining: 5m 18s\n"
     ]
    },
    {
     "name": "stdout",
     "output_type": "stream",
     "text": [
      "3325:\tlearn: 0.8562456\ttest: 0.7964324\tbest: 0.7967577 (3152)\ttotal: 10m 24s\tremaining: 5m 14s\n"
     ]
    },
    {
     "name": "stdout",
     "output_type": "stream",
     "text": [
      "3350:\tlearn: 0.8564299\ttest: 0.7963360\tbest: 0.7967577 (3152)\ttotal: 10m 28s\tremaining: 5m 9s\n"
     ]
    },
    {
     "name": "stdout",
     "output_type": "stream",
     "text": [
      "3375:\tlearn: 0.8568809\ttest: 0.7965231\tbest: 0.7968352 (3364)\ttotal: 10m 33s\tremaining: 5m 4s\n"
     ]
    },
    {
     "name": "stdout",
     "output_type": "stream",
     "text": [
      "3400:\tlearn: 0.8572257\ttest: 0.7964421\tbest: 0.7968352 (3364)\ttotal: 10m 38s\tremaining: 5m\n"
     ]
    },
    {
     "name": "stdout",
     "output_type": "stream",
     "text": [
      "3425:\tlearn: 0.8575895\ttest: 0.7963162\tbest: 0.7968352 (3364)\ttotal: 10m 42s\tremaining: 4m 55s\n"
     ]
    },
    {
     "name": "stdout",
     "output_type": "stream",
     "text": [
      "3450:\tlearn: 0.8580134\ttest: 0.7964316\tbest: 0.7968352 (3364)\ttotal: 10m 47s\tremaining: 4m 50s\n"
     ]
    },
    {
     "name": "stdout",
     "output_type": "stream",
     "text": [
      "3475:\tlearn: 0.8582707\ttest: 0.7966630\tbest: 0.7968527 (3462)\ttotal: 10m 52s\tremaining: 4m 45s\n"
     ]
    },
    {
     "name": "stdout",
     "output_type": "stream",
     "text": [
      "3500:\tlearn: 0.8586995\ttest: 0.7969390\tbest: 0.7969390 (3500)\ttotal: 10m 56s\tremaining: 4m 41s\n"
     ]
    },
    {
     "name": "stdout",
     "output_type": "stream",
     "text": [
      "3525:\tlearn: 0.8590526\ttest: 0.7969253\tbest: 0.7969814 (3502)\ttotal: 11m 1s\tremaining: 4m 36s\n"
     ]
    },
    {
     "name": "stdout",
     "output_type": "stream",
     "text": [
      "3550:\tlearn: 0.8594530\ttest: 0.7964657\tbest: 0.7969814 (3502)\ttotal: 11m 6s\tremaining: 4m 31s\n"
     ]
    },
    {
     "name": "stdout",
     "output_type": "stream",
     "text": [
      "3575:\tlearn: 0.8600320\ttest: 0.7964075\tbest: 0.7969814 (3502)\ttotal: 11m 10s\tremaining: 4m 27s\n"
     ]
    },
    {
     "name": "stdout",
     "output_type": "stream",
     "text": [
      "3600:\tlearn: 0.8601266\ttest: 0.7968355\tbest: 0.7969814 (3502)\ttotal: 11m 15s\tremaining: 4m 22s\n"
     ]
    },
    {
     "name": "stdout",
     "output_type": "stream",
     "text": [
      "3625:\tlearn: 0.8605172\ttest: 0.7966473\tbest: 0.7969814 (3502)\ttotal: 11m 20s\tremaining: 4m 17s\n"
     ]
    },
    {
     "name": "stdout",
     "output_type": "stream",
     "text": [
      "3650:\tlearn: 0.8608572\ttest: 0.7966504\tbest: 0.7969814 (3502)\ttotal: 11m 24s\tremaining: 4m 13s\n"
     ]
    },
    {
     "name": "stdout",
     "output_type": "stream",
     "text": [
      "3675:\tlearn: 0.8612258\ttest: 0.7965231\tbest: 0.7969814 (3502)\ttotal: 11m 29s\tremaining: 4m 8s\n"
     ]
    },
    {
     "name": "stdout",
     "output_type": "stream",
     "text": [
      "3700:\tlearn: 0.8616416\ttest: 0.7968190\tbest: 0.7969814 (3502)\ttotal: 11m 34s\tremaining: 4m 3s\n"
     ]
    },
    {
     "name": "stdout",
     "output_type": "stream",
     "text": [
      "3725:\tlearn: 0.8620060\ttest: 0.7966629\tbest: 0.7969814 (3502)\ttotal: 11m 39s\tremaining: 3m 59s\n"
     ]
    },
    {
     "name": "stdout",
     "output_type": "stream",
     "text": [
      "3750:\tlearn: 0.8623894\ttest: 0.7971318\tbest: 0.7971749 (3749)\ttotal: 11m 43s\tremaining: 3m 54s\n"
     ]
    },
    {
     "name": "stdout",
     "output_type": "stream",
     "text": [
      "3775:\tlearn: 0.8629163\ttest: 0.7969862\tbest: 0.7971749 (3749)\ttotal: 11m 48s\tremaining: 3m 49s\n"
     ]
    },
    {
     "name": "stdout",
     "output_type": "stream",
     "text": [
      "3800:\tlearn: 0.8631943\ttest: 0.7969012\tbest: 0.7971749 (3749)\ttotal: 11m 53s\tremaining: 3m 44s\n"
     ]
    },
    {
     "name": "stdout",
     "output_type": "stream",
     "text": [
      "3825:\tlearn: 0.8636109\ttest: 0.7966500\tbest: 0.7971749 (3749)\ttotal: 11m 57s\tremaining: 3m 40s\n"
     ]
    },
    {
     "name": "stdout",
     "output_type": "stream",
     "text": [
      "3850:\tlearn: 0.8641827\ttest: 0.7965028\tbest: 0.7971749 (3749)\ttotal: 12m 2s\tremaining: 3m 35s\n"
     ]
    },
    {
     "name": "stdout",
     "output_type": "stream",
     "text": [
      "3875:\tlearn: 0.8645575\ttest: 0.7967956\tbest: 0.7971749 (3749)\ttotal: 12m 7s\tremaining: 3m 30s\n"
     ]
    },
    {
     "name": "stdout",
     "output_type": "stream",
     "text": [
      "3900:\tlearn: 0.8649143\ttest: 0.7968607\tbest: 0.7971749 (3749)\ttotal: 12m 11s\tremaining: 3m 26s\n"
     ]
    },
    {
     "name": "stdout",
     "output_type": "stream",
     "text": [
      "3925:\tlearn: 0.8653305\ttest: 0.7967159\tbest: 0.7971749 (3749)\ttotal: 12m 16s\tremaining: 3m 21s\n"
     ]
    },
    {
     "name": "stdout",
     "output_type": "stream",
     "text": [
      "3950:\tlearn: 0.8656864\ttest: 0.7964218\tbest: 0.7971749 (3749)\ttotal: 12m 21s\tremaining: 3m 16s\n"
     ]
    },
    {
     "name": "stdout",
     "output_type": "stream",
     "text": [
      "3975:\tlearn: 0.8660187\ttest: 0.7965068\tbest: 0.7971749 (3749)\ttotal: 12m 25s\tremaining: 3m 12s\n"
     ]
    },
    {
     "name": "stdout",
     "output_type": "stream",
     "text": [
      "4000:\tlearn: 0.8664658\ttest: 0.7965313\tbest: 0.7971749 (3749)\ttotal: 12m 30s\tremaining: 3m 7s\n"
     ]
    },
    {
     "name": "stdout",
     "output_type": "stream",
     "text": [
      "4025:\tlearn: 0.8669730\ttest: 0.7967038\tbest: 0.7971749 (3749)\ttotal: 12m 35s\tremaining: 3m 2s\n"
     ]
    },
    {
     "name": "stdout",
     "output_type": "stream",
     "text": [
      "4050:\tlearn: 0.8673077\ttest: 0.7969365\tbest: 0.7971749 (3749)\ttotal: 12m 39s\tremaining: 2m 58s\n"
     ]
    },
    {
     "name": "stdout",
     "output_type": "stream",
     "text": [
      "4075:\tlearn: 0.8676995\ttest: 0.7963501\tbest: 0.7971749 (3749)\ttotal: 12m 44s\tremaining: 2m 53s\n"
     ]
    },
    {
     "name": "stdout",
     "output_type": "stream",
     "text": [
      "4100:\tlearn: 0.8681429\ttest: 0.7966233\tbest: 0.7971749 (3749)\ttotal: 12m 49s\tremaining: 2m 48s\n"
     ]
    },
    {
     "name": "stdout",
     "output_type": "stream",
     "text": [
      "4125:\tlearn: 0.8687582\ttest: 0.7967082\tbest: 0.7971749 (3749)\ttotal: 12m 53s\tremaining: 2m 43s\n"
     ]
    },
    {
     "name": "stdout",
     "output_type": "stream",
     "text": [
      "4150:\tlearn: 0.8690167\ttest: 0.7967704\tbest: 0.7971749 (3749)\ttotal: 12m 58s\tremaining: 2m 39s\n"
     ]
    },
    {
     "name": "stdout",
     "output_type": "stream",
     "text": [
      "4175:\tlearn: 0.8693571\ttest: 0.7965778\tbest: 0.7971749 (3749)\ttotal: 13m 3s\tremaining: 2m 34s\n"
     ]
    },
    {
     "name": "stdout",
     "output_type": "stream",
     "text": [
      "4200:\tlearn: 0.8697692\ttest: 0.7965212\tbest: 0.7971749 (3749)\ttotal: 13m 7s\tremaining: 2m 29s\n"
     ]
    },
    {
     "name": "stdout",
     "output_type": "stream",
     "text": [
      "4225:\tlearn: 0.8700691\ttest: 0.7970076\tbest: 0.7971749 (3749)\ttotal: 13m 12s\tremaining: 2m 25s\n"
     ]
    },
    {
     "name": "stdout",
     "output_type": "stream",
     "text": [
      "4250:\tlearn: 0.8704928\ttest: 0.7969426\tbest: 0.7972167 (4235)\ttotal: 13m 17s\tremaining: 2m 20s\n"
     ]
    },
    {
     "name": "stdout",
     "output_type": "stream",
     "text": [
      "4275:\tlearn: 0.8708137\ttest: 0.7972347\tbest: 0.7973395 (4256)\ttotal: 13m 22s\tremaining: 2m 15s\n"
     ]
    },
    {
     "name": "stdout",
     "output_type": "stream",
     "text": [
      "4300:\tlearn: 0.8712044\ttest: 0.7975460\tbest: 0.7977839 (4289)\ttotal: 13m 26s\tremaining: 2m 11s\n"
     ]
    },
    {
     "name": "stdout",
     "output_type": "stream",
     "text": [
      "4325:\tlearn: 0.8715702\ttest: 0.7972563\tbest: 0.7977839 (4289)\ttotal: 13m 31s\tremaining: 2m 6s\n"
     ]
    },
    {
     "name": "stdout",
     "output_type": "stream",
     "text": [
      "4350:\tlearn: 0.8719022\ttest: 0.7970491\tbest: 0.7977839 (4289)\ttotal: 13m 36s\tremaining: 2m 1s\n"
     ]
    },
    {
     "name": "stdout",
     "output_type": "stream",
     "text": [
      "4375:\tlearn: 0.8723710\ttest: 0.7970941\tbest: 0.7977839 (4289)\ttotal: 13m 40s\tremaining: 1m 57s\n"
     ]
    },
    {
     "name": "stdout",
     "output_type": "stream",
     "text": [
      "4400:\tlearn: 0.8726534\ttest: 0.7974340\tbest: 0.7977839 (4289)\ttotal: 13m 45s\tremaining: 1m 52s\n"
     ]
    },
    {
     "name": "stdout",
     "output_type": "stream",
     "text": [
      "4425:\tlearn: 0.8733115\ttest: 0.7975420\tbest: 0.7977839 (4289)\ttotal: 13m 50s\tremaining: 1m 47s\n"
     ]
    },
    {
     "name": "stdout",
     "output_type": "stream",
     "text": [
      "4450:\tlearn: 0.8735903\ttest: 0.7972298\tbest: 0.7977839 (4289)\ttotal: 13m 54s\tremaining: 1m 42s\n"
     ]
    },
    {
     "name": "stdout",
     "output_type": "stream",
     "text": [
      "4475:\tlearn: 0.8741685\ttest: 0.7972486\tbest: 0.7977839 (4289)\ttotal: 13m 59s\tremaining: 1m 38s\n"
     ]
    },
    {
     "name": "stdout",
     "output_type": "stream",
     "text": [
      "4500:\tlearn: 0.8743747\ttest: 0.7968718\tbest: 0.7977839 (4289)\ttotal: 14m 4s\tremaining: 1m 33s\n"
     ]
    },
    {
     "name": "stdout",
     "output_type": "stream",
     "text": [
      "4525:\tlearn: 0.8746718\ttest: 0.7971683\tbest: 0.7977839 (4289)\ttotal: 14m 8s\tremaining: 1m 28s\n"
     ]
    },
    {
     "name": "stdout",
     "output_type": "stream",
     "text": [
      "4550:\tlearn: 0.8749823\ttest: 0.7968675\tbest: 0.7977839 (4289)\ttotal: 14m 13s\tremaining: 1m 24s\n"
     ]
    },
    {
     "name": "stdout",
     "output_type": "stream",
     "text": [
      "4575:\tlearn: 0.8752321\ttest: 0.7970994\tbest: 0.7977839 (4289)\ttotal: 14m 18s\tremaining: 1m 19s\n"
     ]
    },
    {
     "name": "stdout",
     "output_type": "stream",
     "text": [
      "4600:\tlearn: 0.8756584\ttest: 0.7972943\tbest: 0.7977839 (4289)\ttotal: 14m 22s\tremaining: 1m 14s\n"
     ]
    },
    {
     "name": "stdout",
     "output_type": "stream",
     "text": [
      "4625:\tlearn: 0.8760933\ttest: 0.7969567\tbest: 0.7977839 (4289)\ttotal: 14m 27s\tremaining: 1m 10s\n"
     ]
    },
    {
     "name": "stdout",
     "output_type": "stream",
     "text": [
      "4650:\tlearn: 0.8764697\ttest: 0.7969796\tbest: 0.7977839 (4289)\ttotal: 14m 32s\tremaining: 1m 5s\n"
     ]
    },
    {
     "name": "stdout",
     "output_type": "stream",
     "text": [
      "4675:\tlearn: 0.8770758\ttest: 0.7970994\tbest: 0.7977839 (4289)\ttotal: 14m 36s\tremaining: 1m\n"
     ]
    },
    {
     "name": "stdout",
     "output_type": "stream",
     "text": [
      "4700:\tlearn: 0.8774168\ttest: 0.7969729\tbest: 0.7977839 (4289)\ttotal: 14m 41s\tremaining: 56.1s\n"
     ]
    },
    {
     "name": "stdout",
     "output_type": "stream",
     "text": [
      "4725:\tlearn: 0.8778564\ttest: 0.7969585\tbest: 0.7977839 (4289)\ttotal: 14m 46s\tremaining: 51.4s\n"
     ]
    },
    {
     "name": "stdout",
     "output_type": "stream",
     "text": [
      "4750:\tlearn: 0.8782210\ttest: 0.7968312\tbest: 0.7977839 (4289)\ttotal: 14m 51s\tremaining: 46.7s\n"
     ]
    },
    {
     "name": "stdout",
     "output_type": "stream",
     "text": [
      "4775:\tlearn: 0.8787145\ttest: 0.7968973\tbest: 0.7977839 (4289)\ttotal: 14m 55s\tremaining: 42s\n"
     ]
    },
    {
     "name": "stdout",
     "output_type": "stream",
     "text": [
      "4800:\tlearn: 0.8791195\ttest: 0.7968592\tbest: 0.7977839 (4289)\ttotal: 15m\tremaining: 37.3s\n"
     ]
    },
    {
     "name": "stdout",
     "output_type": "stream",
     "text": [
      "4825:\tlearn: 0.8794860\ttest: 0.7973246\tbest: 0.7977839 (4289)\ttotal: 15m 5s\tremaining: 32.6s\n"
     ]
    },
    {
     "name": "stdout",
     "output_type": "stream",
     "text": [
      "4850:\tlearn: 0.8798931\ttest: 0.7965930\tbest: 0.7977839 (4289)\ttotal: 15m 9s\tremaining: 27.9s\n"
     ]
    },
    {
     "name": "stdout",
     "output_type": "stream",
     "text": [
      "4875:\tlearn: 0.8801804\ttest: 0.7967605\tbest: 0.7977839 (4289)\ttotal: 15m 14s\tremaining: 23.3s\n"
     ]
    },
    {
     "name": "stdout",
     "output_type": "stream",
     "text": [
      "4900:\tlearn: 0.8806717\ttest: 0.7968287\tbest: 0.7977839 (4289)\ttotal: 15m 19s\tremaining: 18.6s\n"
     ]
    },
    {
     "name": "stdout",
     "output_type": "stream",
     "text": [
      "4925:\tlearn: 0.8809722\ttest: 0.7965575\tbest: 0.7977839 (4289)\ttotal: 15m 23s\tremaining: 13.9s\n"
     ]
    },
    {
     "name": "stdout",
     "output_type": "stream",
     "text": [
      "4950:\tlearn: 0.8814648\ttest: 0.7965554\tbest: 0.7977839 (4289)\ttotal: 15m 28s\tremaining: 9.19s\n"
     ]
    },
    {
     "name": "stdout",
     "output_type": "stream",
     "text": [
      "4975:\tlearn: 0.8817828\ttest: 0.7966414\tbest: 0.7977839 (4289)\ttotal: 15m 33s\tremaining: 4.5s\n"
     ]
    },
    {
     "name": "stdout",
     "output_type": "stream",
     "text": [
      "4999:\tlearn: 0.8818900\ttest: 0.7963667\tbest: 0.7977839 (4289)\ttotal: 15m 37s\tremaining: 0us\n",
      "\n",
      "bestTest = 0.7977838842\n",
      "bestIteration = 4289\n",
      "\n"
     ]
    },
    {
     "name": "stdout",
     "output_type": "stream",
     "text": [
      "######################################## training model 5/5 ########################################\n"
     ]
    },
    {
     "name": "stdout",
     "output_type": "stream",
     "text": [
      "0:\tlearn: 0.4417623\ttest: 0.4430928\tbest: 0.4430928 (0)\ttotal: 497ms\tremaining: 41m 26s\n"
     ]
    },
    {
     "name": "stdout",
     "output_type": "stream",
     "text": [
      "25:\tlearn: 0.7219277\ttest: 0.7243849\tbest: 0.7243849 (25)\ttotal: 5.08s\tremaining: 16m 11s\n"
     ]
    },
    {
     "name": "stdout",
     "output_type": "stream",
     "text": [
      "50:\tlearn: 0.7335219\ttest: 0.7367566\tbest: 0.7367566 (50)\ttotal: 9.78s\tremaining: 15m 49s\n"
     ]
    },
    {
     "name": "stdout",
     "output_type": "stream",
     "text": [
      "75:\tlearn: 0.7437200\ttest: 0.7461601\tbest: 0.7461601 (75)\ttotal: 14.5s\tremaining: 15m 38s\n"
     ]
    },
    {
     "name": "stdout",
     "output_type": "stream",
     "text": [
      "100:\tlearn: 0.7489679\ttest: 0.7508967\tbest: 0.7510681 (99)\ttotal: 19.2s\tremaining: 15m 30s\n"
     ]
    },
    {
     "name": "stdout",
     "output_type": "stream",
     "text": [
      "125:\tlearn: 0.7519585\ttest: 0.7545328\tbest: 0.7548180 (121)\ttotal: 23.9s\tremaining: 15m 22s\n"
     ]
    },
    {
     "name": "stdout",
     "output_type": "stream",
     "text": [
      "150:\tlearn: 0.7549523\ttest: 0.7570750\tbest: 0.7573474 (148)\ttotal: 28.5s\tremaining: 15m 16s\n"
     ]
    },
    {
     "name": "stdout",
     "output_type": "stream",
     "text": [
      "175:\tlearn: 0.7576709\ttest: 0.7595343\tbest: 0.7595343 (175)\ttotal: 33.2s\tremaining: 15m 9s\n"
     ]
    },
    {
     "name": "stdout",
     "output_type": "stream",
     "text": [
      "200:\tlearn: 0.7600581\ttest: 0.7614238\tbest: 0.7615899 (199)\ttotal: 37.9s\tremaining: 15m 4s\n"
     ]
    },
    {
     "name": "stdout",
     "output_type": "stream",
     "text": [
      "225:\tlearn: 0.7626285\ttest: 0.7629500\tbest: 0.7632315 (221)\ttotal: 42.6s\tremaining: 14m 59s\n"
     ]
    },
    {
     "name": "stdout",
     "output_type": "stream",
     "text": [
      "250:\tlearn: 0.7641447\ttest: 0.7642873\tbest: 0.7643750 (249)\ttotal: 47.3s\tremaining: 14m 54s\n"
     ]
    },
    {
     "name": "stdout",
     "output_type": "stream",
     "text": [
      "275:\tlearn: 0.7663248\ttest: 0.7656689\tbest: 0.7657133 (273)\ttotal: 52s\tremaining: 14m 49s\n"
     ]
    },
    {
     "name": "stdout",
     "output_type": "stream",
     "text": [
      "300:\tlearn: 0.7701489\ttest: 0.7696008\tbest: 0.7696008 (300)\ttotal: 56.7s\tremaining: 14m 44s\n"
     ]
    },
    {
     "name": "stdout",
     "output_type": "stream",
     "text": [
      "325:\tlearn: 0.7749253\ttest: 0.7738270\tbest: 0.7738270 (325)\ttotal: 1m 1s\tremaining: 14m 40s\n"
     ]
    },
    {
     "name": "stdout",
     "output_type": "stream",
     "text": [
      "350:\tlearn: 0.7790626\ttest: 0.7770633\tbest: 0.7770633 (350)\ttotal: 1m 6s\tremaining: 14m 35s\n"
     ]
    },
    {
     "name": "stdout",
     "output_type": "stream",
     "text": [
      "375:\tlearn: 0.7819430\ttest: 0.7797120\tbest: 0.7797120 (375)\ttotal: 1m 10s\tremaining: 14m 31s\n"
     ]
    },
    {
     "name": "stdout",
     "output_type": "stream",
     "text": [
      "400:\tlearn: 0.7845020\ttest: 0.7817800\tbest: 0.7820432 (399)\ttotal: 1m 15s\tremaining: 14m 26s\n"
     ]
    },
    {
     "name": "stdout",
     "output_type": "stream",
     "text": [
      "425:\tlearn: 0.7864575\ttest: 0.7833612\tbest: 0.7834745 (424)\ttotal: 1m 20s\tremaining: 14m 22s\n"
     ]
    },
    {
     "name": "stdout",
     "output_type": "stream",
     "text": [
      "450:\tlearn: 0.7886350\ttest: 0.7845089\tbest: 0.7845784 (445)\ttotal: 1m 25s\tremaining: 14m 17s\n"
     ]
    },
    {
     "name": "stdout",
     "output_type": "stream",
     "text": [
      "475:\tlearn: 0.7898365\ttest: 0.7852742\tbest: 0.7854773 (473)\ttotal: 1m 29s\tremaining: 14m 13s\n"
     ]
    },
    {
     "name": "stdout",
     "output_type": "stream",
     "text": [
      "500:\tlearn: 0.7911113\ttest: 0.7853654\tbest: 0.7855228 (496)\ttotal: 1m 34s\tremaining: 14m 8s\n"
     ]
    },
    {
     "name": "stdout",
     "output_type": "stream",
     "text": [
      "525:\tlearn: 0.7925292\ttest: 0.7862150\tbest: 0.7863634 (522)\ttotal: 1m 39s\tremaining: 14m 3s\n"
     ]
    },
    {
     "name": "stdout",
     "output_type": "stream",
     "text": [
      "550:\tlearn: 0.7937329\ttest: 0.7866418\tbest: 0.7868009 (539)\ttotal: 1m 43s\tremaining: 13m 58s\n"
     ]
    },
    {
     "name": "stdout",
     "output_type": "stream",
     "text": [
      "575:\tlearn: 0.7945850\ttest: 0.7873087\tbest: 0.7874653 (565)\ttotal: 1m 48s\tremaining: 13m 53s\n"
     ]
    },
    {
     "name": "stdout",
     "output_type": "stream",
     "text": [
      "600:\tlearn: 0.7957163\ttest: 0.7872754\tbest: 0.7876792 (596)\ttotal: 1m 53s\tremaining: 13m 48s\n"
     ]
    },
    {
     "name": "stdout",
     "output_type": "stream",
     "text": [
      "625:\tlearn: 0.7968832\ttest: 0.7881703\tbest: 0.7881879 (624)\ttotal: 1m 57s\tremaining: 13m 43s\n"
     ]
    },
    {
     "name": "stdout",
     "output_type": "stream",
     "text": [
      "650:\tlearn: 0.7979617\ttest: 0.7891190\tbest: 0.7891190 (650)\ttotal: 2m 2s\tremaining: 13m 39s\n"
     ]
    },
    {
     "name": "stdout",
     "output_type": "stream",
     "text": [
      "675:\tlearn: 0.7987763\ttest: 0.7893846\tbest: 0.7898515 (662)\ttotal: 2m 7s\tremaining: 13m 34s\n"
     ]
    },
    {
     "name": "stdout",
     "output_type": "stream",
     "text": [
      "700:\tlearn: 0.7996960\ttest: 0.7894813\tbest: 0.7898696 (695)\ttotal: 2m 12s\tremaining: 13m 29s\n"
     ]
    },
    {
     "name": "stdout",
     "output_type": "stream",
     "text": [
      "725:\tlearn: 0.8005836\ttest: 0.7899455\tbest: 0.7901319 (723)\ttotal: 2m 16s\tremaining: 13m 24s\n"
     ]
    },
    {
     "name": "stdout",
     "output_type": "stream",
     "text": [
      "750:\tlearn: 0.8015655\ttest: 0.7907733\tbest: 0.7908085 (748)\ttotal: 2m 21s\tremaining: 13m 20s\n"
     ]
    },
    {
     "name": "stdout",
     "output_type": "stream",
     "text": [
      "775:\tlearn: 0.8025047\ttest: 0.7912710\tbest: 0.7912896 (773)\ttotal: 2m 26s\tremaining: 13m 15s\n"
     ]
    },
    {
     "name": "stdout",
     "output_type": "stream",
     "text": [
      "800:\tlearn: 0.8033837\ttest: 0.7919594\tbest: 0.7919594 (800)\ttotal: 2m 30s\tremaining: 13m 10s\n"
     ]
    },
    {
     "name": "stdout",
     "output_type": "stream",
     "text": [
      "825:\tlearn: 0.8040320\ttest: 0.7921694\tbest: 0.7921694 (825)\ttotal: 2m 35s\tremaining: 13m 5s\n"
     ]
    },
    {
     "name": "stdout",
     "output_type": "stream",
     "text": [
      "850:\tlearn: 0.8048718\ttest: 0.7925287\tbest: 0.7925287 (850)\ttotal: 2m 40s\tremaining: 13m\n"
     ]
    },
    {
     "name": "stdout",
     "output_type": "stream",
     "text": [
      "875:\tlearn: 0.8056195\ttest: 0.7926782\tbest: 0.7929258 (871)\ttotal: 2m 44s\tremaining: 12m 56s\n"
     ]
    },
    {
     "name": "stdout",
     "output_type": "stream",
     "text": [
      "900:\tlearn: 0.8064392\ttest: 0.7924967\tbest: 0.7930221 (890)\ttotal: 2m 49s\tremaining: 12m 51s\n"
     ]
    },
    {
     "name": "stdout",
     "output_type": "stream",
     "text": [
      "925:\tlearn: 0.8070131\ttest: 0.7929231\tbest: 0.7930221 (890)\ttotal: 2m 54s\tremaining: 12m 46s\n"
     ]
    },
    {
     "name": "stdout",
     "output_type": "stream",
     "text": [
      "950:\tlearn: 0.8075828\ttest: 0.7929257\tbest: 0.7930221 (890)\ttotal: 2m 58s\tremaining: 12m 41s\n"
     ]
    },
    {
     "name": "stdout",
     "output_type": "stream",
     "text": [
      "975:\tlearn: 0.8083043\ttest: 0.7933114\tbest: 0.7933114 (975)\ttotal: 3m 3s\tremaining: 12m 37s\n"
     ]
    },
    {
     "name": "stdout",
     "output_type": "stream",
     "text": [
      "1000:\tlearn: 0.8091132\ttest: 0.7930800\tbest: 0.7935435 (976)\ttotal: 3m 8s\tremaining: 12m 32s\n"
     ]
    },
    {
     "name": "stdout",
     "output_type": "stream",
     "text": [
      "1025:\tlearn: 0.8097051\ttest: 0.7932537\tbest: 0.7935435 (976)\ttotal: 3m 13s\tremaining: 12m 27s\n"
     ]
    },
    {
     "name": "stdout",
     "output_type": "stream",
     "text": [
      "1050:\tlearn: 0.8100864\ttest: 0.7932058\tbest: 0.7935435 (976)\ttotal: 3m 17s\tremaining: 12m 22s\n"
     ]
    },
    {
     "name": "stdout",
     "output_type": "stream",
     "text": [
      "1075:\tlearn: 0.8106059\ttest: 0.7935867\tbest: 0.7935867 (1075)\ttotal: 3m 22s\tremaining: 12m 18s\n"
     ]
    },
    {
     "name": "stdout",
     "output_type": "stream",
     "text": [
      "1100:\tlearn: 0.8113628\ttest: 0.7937447\tbest: 0.7940971 (1096)\ttotal: 3m 27s\tremaining: 12m 13s\n"
     ]
    },
    {
     "name": "stdout",
     "output_type": "stream",
     "text": [
      "1125:\tlearn: 0.8119432\ttest: 0.7941309\tbest: 0.7942054 (1120)\ttotal: 3m 31s\tremaining: 12m 8s\n"
     ]
    },
    {
     "name": "stdout",
     "output_type": "stream",
     "text": [
      "1150:\tlearn: 0.8125576\ttest: 0.7944559\tbest: 0.7946373 (1144)\ttotal: 3m 36s\tremaining: 12m 4s\n"
     ]
    },
    {
     "name": "stdout",
     "output_type": "stream",
     "text": [
      "1175:\tlearn: 0.8132144\ttest: 0.7946388\tbest: 0.7948026 (1172)\ttotal: 3m 41s\tremaining: 11m 59s\n"
     ]
    },
    {
     "name": "stdout",
     "output_type": "stream",
     "text": [
      "1200:\tlearn: 0.8138485\ttest: 0.7944878\tbest: 0.7948026 (1172)\ttotal: 3m 45s\tremaining: 11m 54s\n"
     ]
    },
    {
     "name": "stdout",
     "output_type": "stream",
     "text": [
      "1225:\tlearn: 0.8141910\ttest: 0.7946707\tbest: 0.7949071 (1219)\ttotal: 3m 50s\tremaining: 11m 49s\n"
     ]
    },
    {
     "name": "stdout",
     "output_type": "stream",
     "text": [
      "1250:\tlearn: 0.8150931\ttest: 0.7943523\tbest: 0.7949071 (1219)\ttotal: 3m 55s\tremaining: 11m 44s\n"
     ]
    },
    {
     "name": "stdout",
     "output_type": "stream",
     "text": [
      "1275:\tlearn: 0.8157595\ttest: 0.7946981\tbest: 0.7949071 (1219)\ttotal: 3m 59s\tremaining: 11m 40s\n"
     ]
    },
    {
     "name": "stdout",
     "output_type": "stream",
     "text": [
      "1300:\tlearn: 0.8163272\ttest: 0.7944287\tbest: 0.7949071 (1219)\ttotal: 4m 4s\tremaining: 11m 35s\n"
     ]
    },
    {
     "name": "stdout",
     "output_type": "stream",
     "text": [
      "1325:\tlearn: 0.8170415\ttest: 0.7943838\tbest: 0.7949071 (1219)\ttotal: 4m 9s\tremaining: 11m 30s\n"
     ]
    },
    {
     "name": "stdout",
     "output_type": "stream",
     "text": [
      "1350:\tlearn: 0.8175276\ttest: 0.7947343\tbest: 0.7949071 (1219)\ttotal: 4m 13s\tremaining: 11m 25s\n"
     ]
    },
    {
     "name": "stdout",
     "output_type": "stream",
     "text": [
      "1375:\tlearn: 0.8181338\ttest: 0.7943429\tbest: 0.7949071 (1219)\ttotal: 4m 18s\tremaining: 11m 21s\n"
     ]
    },
    {
     "name": "stdout",
     "output_type": "stream",
     "text": [
      "1400:\tlearn: 0.8187571\ttest: 0.7943116\tbest: 0.7949071 (1219)\ttotal: 4m 23s\tremaining: 11m 16s\n"
     ]
    },
    {
     "name": "stdout",
     "output_type": "stream",
     "text": [
      "1425:\tlearn: 0.8193662\ttest: 0.7945679\tbest: 0.7949071 (1219)\ttotal: 4m 28s\tremaining: 11m 11s\n"
     ]
    },
    {
     "name": "stdout",
     "output_type": "stream",
     "text": [
      "1450:\tlearn: 0.8198918\ttest: 0.7949839\tbest: 0.7950256 (1449)\ttotal: 4m 32s\tremaining: 11m 6s\n"
     ]
    },
    {
     "name": "stdout",
     "output_type": "stream",
     "text": [
      "1475:\tlearn: 0.8205538\ttest: 0.7948974\tbest: 0.7951886 (1468)\ttotal: 4m 37s\tremaining: 11m 2s\n"
     ]
    },
    {
     "name": "stdout",
     "output_type": "stream",
     "text": [
      "1500:\tlearn: 0.8210670\ttest: 0.7950341\tbest: 0.7951886 (1468)\ttotal: 4m 42s\tremaining: 10m 57s\n"
     ]
    },
    {
     "name": "stdout",
     "output_type": "stream",
     "text": [
      "1525:\tlearn: 0.8215941\ttest: 0.7946587\tbest: 0.7951886 (1468)\ttotal: 4m 46s\tremaining: 10m 52s\n"
     ]
    },
    {
     "name": "stdout",
     "output_type": "stream",
     "text": [
      "1550:\tlearn: 0.8222246\ttest: 0.7944331\tbest: 0.7951886 (1468)\ttotal: 4m 51s\tremaining: 10m 47s\n"
     ]
    },
    {
     "name": "stdout",
     "output_type": "stream",
     "text": [
      "1575:\tlearn: 0.8227356\ttest: 0.7946334\tbest: 0.7951886 (1468)\ttotal: 4m 56s\tremaining: 10m 43s\n"
     ]
    },
    {
     "name": "stdout",
     "output_type": "stream",
     "text": [
      "1600:\tlearn: 0.8232328\ttest: 0.7946675\tbest: 0.7951886 (1468)\ttotal: 5m\tremaining: 10m 38s\n"
     ]
    },
    {
     "name": "stdout",
     "output_type": "stream",
     "text": [
      "1625:\tlearn: 0.8237190\ttest: 0.7950334\tbest: 0.7951886 (1468)\ttotal: 5m 5s\tremaining: 10m 33s\n"
     ]
    },
    {
     "name": "stdout",
     "output_type": "stream",
     "text": [
      "1650:\tlearn: 0.8242533\ttest: 0.7952019\tbest: 0.7953070 (1649)\ttotal: 5m 10s\tremaining: 10m 29s\n"
     ]
    },
    {
     "name": "stdout",
     "output_type": "stream",
     "text": [
      "1675:\tlearn: 0.8249017\ttest: 0.7954313\tbest: 0.7954513 (1674)\ttotal: 5m 14s\tremaining: 10m 24s\n"
     ]
    },
    {
     "name": "stdout",
     "output_type": "stream",
     "text": [
      "1700:\tlearn: 0.8254573\ttest: 0.7954532\tbest: 0.7957475 (1683)\ttotal: 5m 19s\tremaining: 10m 19s\n"
     ]
    },
    {
     "name": "stdout",
     "output_type": "stream",
     "text": [
      "1725:\tlearn: 0.8258771\ttest: 0.7957151\tbest: 0.7957580 (1724)\ttotal: 5m 24s\tremaining: 10m 14s\n"
     ]
    },
    {
     "name": "stdout",
     "output_type": "stream",
     "text": [
      "1750:\tlearn: 0.8263126\ttest: 0.7954285\tbest: 0.7957580 (1724)\ttotal: 5m 28s\tremaining: 10m 10s\n"
     ]
    },
    {
     "name": "stdout",
     "output_type": "stream",
     "text": [
      "1775:\tlearn: 0.8268722\ttest: 0.7954082\tbest: 0.7957580 (1724)\ttotal: 5m 33s\tremaining: 10m 5s\n"
     ]
    },
    {
     "name": "stdout",
     "output_type": "stream",
     "text": [
      "1800:\tlearn: 0.8273637\ttest: 0.7954029\tbest: 0.7958353 (1782)\ttotal: 5m 38s\tremaining: 10m\n"
     ]
    },
    {
     "name": "stdout",
     "output_type": "stream",
     "text": [
      "1825:\tlearn: 0.8280062\ttest: 0.7951541\tbest: 0.7958353 (1782)\ttotal: 5m 42s\tremaining: 9m 56s\n"
     ]
    },
    {
     "name": "stdout",
     "output_type": "stream",
     "text": [
      "1850:\tlearn: 0.8285254\ttest: 0.7952479\tbest: 0.7958353 (1782)\ttotal: 5m 47s\tremaining: 9m 51s\n"
     ]
    },
    {
     "name": "stdout",
     "output_type": "stream",
     "text": [
      "1875:\tlearn: 0.8289887\ttest: 0.7952429\tbest: 0.7958353 (1782)\ttotal: 5m 52s\tremaining: 9m 46s\n"
     ]
    },
    {
     "name": "stdout",
     "output_type": "stream",
     "text": [
      "1900:\tlearn: 0.8296143\ttest: 0.7954349\tbest: 0.7958353 (1782)\ttotal: 5m 57s\tremaining: 9m 42s\n"
     ]
    },
    {
     "name": "stdout",
     "output_type": "stream",
     "text": [
      "1925:\tlearn: 0.8301265\ttest: 0.7952288\tbest: 0.7958353 (1782)\ttotal: 6m 1s\tremaining: 9m 37s\n"
     ]
    },
    {
     "name": "stdout",
     "output_type": "stream",
     "text": [
      "1950:\tlearn: 0.8307055\ttest: 0.7951365\tbest: 0.7958353 (1782)\ttotal: 6m 6s\tremaining: 9m 32s\n"
     ]
    },
    {
     "name": "stdout",
     "output_type": "stream",
     "text": [
      "1975:\tlearn: 0.8311266\ttest: 0.7951835\tbest: 0.7958353 (1782)\ttotal: 6m 11s\tremaining: 9m 27s\n"
     ]
    },
    {
     "name": "stdout",
     "output_type": "stream",
     "text": [
      "2000:\tlearn: 0.8315099\ttest: 0.7949619\tbest: 0.7958353 (1782)\ttotal: 6m 15s\tremaining: 9m 23s\n"
     ]
    },
    {
     "name": "stdout",
     "output_type": "stream",
     "text": [
      "2025:\tlearn: 0.8321380\ttest: 0.7952063\tbest: 0.7958353 (1782)\ttotal: 6m 20s\tremaining: 9m 18s\n"
     ]
    },
    {
     "name": "stdout",
     "output_type": "stream",
     "text": [
      "2050:\tlearn: 0.8328236\ttest: 0.7954904\tbest: 0.7958353 (1782)\ttotal: 6m 25s\tremaining: 9m 13s\n"
     ]
    },
    {
     "name": "stdout",
     "output_type": "stream",
     "text": [
      "2075:\tlearn: 0.8333129\ttest: 0.7954673\tbest: 0.7958697 (2064)\ttotal: 6m 29s\tremaining: 9m 9s\n"
     ]
    },
    {
     "name": "stdout",
     "output_type": "stream",
     "text": [
      "2100:\tlearn: 0.8337444\ttest: 0.7953693\tbest: 0.7958697 (2064)\ttotal: 6m 34s\tremaining: 9m 4s\n"
     ]
    },
    {
     "name": "stdout",
     "output_type": "stream",
     "text": [
      "2125:\tlearn: 0.8344558\ttest: 0.7951538\tbest: 0.7958697 (2064)\ttotal: 6m 39s\tremaining: 8m 59s\n"
     ]
    },
    {
     "name": "stdout",
     "output_type": "stream",
     "text": [
      "2150:\tlearn: 0.8349180\ttest: 0.7954820\tbest: 0.7958697 (2064)\ttotal: 6m 43s\tremaining: 8m 54s\n"
     ]
    },
    {
     "name": "stdout",
     "output_type": "stream",
     "text": [
      "2175:\tlearn: 0.8355063\ttest: 0.7955748\tbest: 0.7958697 (2064)\ttotal: 6m 48s\tremaining: 8m 50s\n"
     ]
    },
    {
     "name": "stdout",
     "output_type": "stream",
     "text": [
      "2200:\tlearn: 0.8360567\ttest: 0.7956478\tbest: 0.7958697 (2064)\ttotal: 6m 53s\tremaining: 8m 45s\n"
     ]
    },
    {
     "name": "stdout",
     "output_type": "stream",
     "text": [
      "2225:\tlearn: 0.8366667\ttest: 0.7957246\tbest: 0.7958697 (2064)\ttotal: 6m 57s\tremaining: 8m 40s\n"
     ]
    },
    {
     "name": "stdout",
     "output_type": "stream",
     "text": [
      "2250:\tlearn: 0.8370048\ttest: 0.7955705\tbest: 0.7958697 (2064)\ttotal: 7m 2s\tremaining: 8m 36s\n"
     ]
    },
    {
     "name": "stdout",
     "output_type": "stream",
     "text": [
      "2275:\tlearn: 0.8372808\ttest: 0.7955845\tbest: 0.7958697 (2064)\ttotal: 7m 7s\tremaining: 8m 31s\n"
     ]
    },
    {
     "name": "stdout",
     "output_type": "stream",
     "text": [
      "2300:\tlearn: 0.8379261\ttest: 0.7955075\tbest: 0.7959034 (2289)\ttotal: 7m 12s\tremaining: 8m 26s\n"
     ]
    },
    {
     "name": "stdout",
     "output_type": "stream",
     "text": [
      "2325:\tlearn: 0.8385166\ttest: 0.7956970\tbest: 0.7959034 (2289)\ttotal: 7m 16s\tremaining: 8m 22s\n"
     ]
    },
    {
     "name": "stdout",
     "output_type": "stream",
     "text": [
      "2350:\tlearn: 0.8391129\ttest: 0.7957706\tbest: 0.7959123 (2344)\ttotal: 7m 21s\tremaining: 8m 17s\n"
     ]
    },
    {
     "name": "stdout",
     "output_type": "stream",
     "text": [
      "2375:\tlearn: 0.8394944\ttest: 0.7960222\tbest: 0.7961485 (2373)\ttotal: 7m 26s\tremaining: 8m 12s\n"
     ]
    },
    {
     "name": "stdout",
     "output_type": "stream",
     "text": [
      "2400:\tlearn: 0.8399299\ttest: 0.7959666\tbest: 0.7961485 (2373)\ttotal: 7m 30s\tremaining: 8m 7s\n"
     ]
    },
    {
     "name": "stdout",
     "output_type": "stream",
     "text": [
      "2425:\tlearn: 0.8404470\ttest: 0.7955320\tbest: 0.7962023 (2406)\ttotal: 7m 35s\tremaining: 8m 3s\n"
     ]
    },
    {
     "name": "stdout",
     "output_type": "stream",
     "text": [
      "2450:\tlearn: 0.8410021\ttest: 0.7956219\tbest: 0.7962023 (2406)\ttotal: 7m 40s\tremaining: 7m 58s\n"
     ]
    },
    {
     "name": "stdout",
     "output_type": "stream",
     "text": [
      "2475:\tlearn: 0.8415564\ttest: 0.7959255\tbest: 0.7962023 (2406)\ttotal: 7m 44s\tremaining: 7m 53s\n"
     ]
    },
    {
     "name": "stdout",
     "output_type": "stream",
     "text": [
      "2500:\tlearn: 0.8417908\ttest: 0.7957502\tbest: 0.7962023 (2406)\ttotal: 7m 49s\tremaining: 7m 49s\n"
     ]
    },
    {
     "name": "stdout",
     "output_type": "stream",
     "text": [
      "2525:\tlearn: 0.8421829\ttest: 0.7960150\tbest: 0.7962023 (2406)\ttotal: 7m 54s\tremaining: 7m 44s\n"
     ]
    },
    {
     "name": "stdout",
     "output_type": "stream",
     "text": [
      "2550:\tlearn: 0.8428700\ttest: 0.7960853\tbest: 0.7962313 (2549)\ttotal: 7m 58s\tremaining: 7m 39s\n"
     ]
    },
    {
     "name": "stdout",
     "output_type": "stream",
     "text": [
      "2575:\tlearn: 0.8431368\ttest: 0.7960920\tbest: 0.7966379 (2559)\ttotal: 8m 3s\tremaining: 7m 35s\n"
     ]
    },
    {
     "name": "stdout",
     "output_type": "stream",
     "text": [
      "2600:\tlearn: 0.8435868\ttest: 0.7965408\tbest: 0.7966379 (2559)\ttotal: 8m 8s\tremaining: 7m 30s\n"
     ]
    },
    {
     "name": "stdout",
     "output_type": "stream",
     "text": [
      "2625:\tlearn: 0.8441300\ttest: 0.7967776\tbest: 0.7968146 (2620)\ttotal: 8m 12s\tremaining: 7m 25s\n"
     ]
    },
    {
     "name": "stdout",
     "output_type": "stream",
     "text": [
      "2650:\tlearn: 0.8444027\ttest: 0.7965031\tbest: 0.7969459 (2629)\ttotal: 8m 17s\tremaining: 7m 20s\n"
     ]
    },
    {
     "name": "stdout",
     "output_type": "stream",
     "text": [
      "2675:\tlearn: 0.8451523\ttest: 0.7963822\tbest: 0.7969459 (2629)\ttotal: 8m 22s\tremaining: 7m 16s\n"
     ]
    },
    {
     "name": "stdout",
     "output_type": "stream",
     "text": [
      "2700:\tlearn: 0.8456848\ttest: 0.7967458\tbest: 0.7969459 (2629)\ttotal: 8m 26s\tremaining: 7m 11s\n"
     ]
    },
    {
     "name": "stdout",
     "output_type": "stream",
     "text": [
      "2725:\tlearn: 0.8459013\ttest: 0.7963099\tbest: 0.7969459 (2629)\ttotal: 8m 31s\tremaining: 7m 6s\n"
     ]
    },
    {
     "name": "stdout",
     "output_type": "stream",
     "text": [
      "2750:\tlearn: 0.8463603\ttest: 0.7963953\tbest: 0.7969459 (2629)\ttotal: 8m 36s\tremaining: 7m 2s\n"
     ]
    },
    {
     "name": "stdout",
     "output_type": "stream",
     "text": [
      "2775:\tlearn: 0.8467634\ttest: 0.7961503\tbest: 0.7969459 (2629)\ttotal: 8m 41s\tremaining: 6m 57s\n"
     ]
    },
    {
     "name": "stdout",
     "output_type": "stream",
     "text": [
      "2800:\tlearn: 0.8470609\ttest: 0.7962152\tbest: 0.7969459 (2629)\ttotal: 8m 45s\tremaining: 6m 52s\n"
     ]
    },
    {
     "name": "stdout",
     "output_type": "stream",
     "text": [
      "2825:\tlearn: 0.8474759\ttest: 0.7963084\tbest: 0.7969459 (2629)\ttotal: 8m 50s\tremaining: 6m 48s\n"
     ]
    },
    {
     "name": "stdout",
     "output_type": "stream",
     "text": [
      "2850:\tlearn: 0.8478159\ttest: 0.7962307\tbest: 0.7969459 (2629)\ttotal: 8m 55s\tremaining: 6m 43s\n"
     ]
    },
    {
     "name": "stdout",
     "output_type": "stream",
     "text": [
      "2875:\tlearn: 0.8484226\ttest: 0.7960459\tbest: 0.7969459 (2629)\ttotal: 8m 59s\tremaining: 6m 38s\n"
     ]
    },
    {
     "name": "stdout",
     "output_type": "stream",
     "text": [
      "2900:\tlearn: 0.8488086\ttest: 0.7960693\tbest: 0.7969459 (2629)\ttotal: 9m 4s\tremaining: 6m 33s\n"
     ]
    },
    {
     "name": "stdout",
     "output_type": "stream",
     "text": [
      "2925:\tlearn: 0.8493563\ttest: 0.7963964\tbest: 0.7969459 (2629)\ttotal: 9m 9s\tremaining: 6m 29s\n"
     ]
    },
    {
     "name": "stdout",
     "output_type": "stream",
     "text": [
      "2950:\tlearn: 0.8497724\ttest: 0.7959343\tbest: 0.7969459 (2629)\ttotal: 9m 13s\tremaining: 6m 24s\n"
     ]
    },
    {
     "name": "stdout",
     "output_type": "stream",
     "text": [
      "2975:\tlearn: 0.8500715\ttest: 0.7961432\tbest: 0.7969459 (2629)\ttotal: 9m 18s\tremaining: 6m 19s\n"
     ]
    },
    {
     "name": "stdout",
     "output_type": "stream",
     "text": [
      "3000:\tlearn: 0.8503904\ttest: 0.7959819\tbest: 0.7969459 (2629)\ttotal: 9m 23s\tremaining: 6m 15s\n"
     ]
    },
    {
     "name": "stdout",
     "output_type": "stream",
     "text": [
      "3025:\tlearn: 0.8507728\ttest: 0.7960102\tbest: 0.7969459 (2629)\ttotal: 9m 27s\tremaining: 6m 10s\n"
     ]
    },
    {
     "name": "stdout",
     "output_type": "stream",
     "text": [
      "3050:\tlearn: 0.8513155\ttest: 0.7963336\tbest: 0.7969459 (2629)\ttotal: 9m 32s\tremaining: 6m 5s\n"
     ]
    },
    {
     "name": "stdout",
     "output_type": "stream",
     "text": [
      "3075:\tlearn: 0.8519063\ttest: 0.7958511\tbest: 0.7969459 (2629)\ttotal: 9m 37s\tremaining: 6m 1s\n"
     ]
    },
    {
     "name": "stdout",
     "output_type": "stream",
     "text": [
      "3100:\tlearn: 0.8521778\ttest: 0.7956826\tbest: 0.7969459 (2629)\ttotal: 9m 41s\tremaining: 5m 56s\n"
     ]
    },
    {
     "name": "stdout",
     "output_type": "stream",
     "text": [
      "3125:\tlearn: 0.8527880\ttest: 0.7955540\tbest: 0.7969459 (2629)\ttotal: 9m 46s\tremaining: 5m 51s\n"
     ]
    },
    {
     "name": "stdout",
     "output_type": "stream",
     "text": [
      "3150:\tlearn: 0.8530572\ttest: 0.7956055\tbest: 0.7969459 (2629)\ttotal: 9m 51s\tremaining: 5m 46s\n"
     ]
    },
    {
     "name": "stdout",
     "output_type": "stream",
     "text": [
      "3175:\tlearn: 0.8536334\ttest: 0.7953934\tbest: 0.7969459 (2629)\ttotal: 9m 55s\tremaining: 5m 42s\n"
     ]
    },
    {
     "name": "stdout",
     "output_type": "stream",
     "text": [
      "3200:\tlearn: 0.8541120\ttest: 0.7955868\tbest: 0.7969459 (2629)\ttotal: 10m\tremaining: 5m 37s\n"
     ]
    },
    {
     "name": "stdout",
     "output_type": "stream",
     "text": [
      "3225:\tlearn: 0.8546747\ttest: 0.7960292\tbest: 0.7969459 (2629)\ttotal: 10m 5s\tremaining: 5m 32s\n"
     ]
    },
    {
     "name": "stdout",
     "output_type": "stream",
     "text": [
      "3250:\tlearn: 0.8549161\ttest: 0.7959641\tbest: 0.7969459 (2629)\ttotal: 10m 10s\tremaining: 5m 28s\n"
     ]
    },
    {
     "name": "stdout",
     "output_type": "stream",
     "text": [
      "3275:\tlearn: 0.8552960\ttest: 0.7962192\tbest: 0.7969459 (2629)\ttotal: 10m 14s\tremaining: 5m 23s\n"
     ]
    },
    {
     "name": "stdout",
     "output_type": "stream",
     "text": [
      "3300:\tlearn: 0.8558445\ttest: 0.7959660\tbest: 0.7969459 (2629)\ttotal: 10m 19s\tremaining: 5m 18s\n"
     ]
    },
    {
     "name": "stdout",
     "output_type": "stream",
     "text": [
      "3325:\tlearn: 0.8563001\ttest: 0.7958459\tbest: 0.7969459 (2629)\ttotal: 10m 24s\tremaining: 5m 14s\n"
     ]
    },
    {
     "name": "stdout",
     "output_type": "stream",
     "text": [
      "3350:\tlearn: 0.8566777\ttest: 0.7956483\tbest: 0.7969459 (2629)\ttotal: 10m 28s\tremaining: 5m 9s\n"
     ]
    },
    {
     "name": "stdout",
     "output_type": "stream",
     "text": [
      "3375:\tlearn: 0.8571342\ttest: 0.7961283\tbest: 0.7969459 (2629)\ttotal: 10m 33s\tremaining: 5m 4s\n"
     ]
    },
    {
     "name": "stdout",
     "output_type": "stream",
     "text": [
      "3400:\tlearn: 0.8575498\ttest: 0.7955832\tbest: 0.7969459 (2629)\ttotal: 10m 38s\tremaining: 5m\n"
     ]
    },
    {
     "name": "stdout",
     "output_type": "stream",
     "text": [
      "3425:\tlearn: 0.8579767\ttest: 0.7955869\tbest: 0.7969459 (2629)\ttotal: 10m 42s\tremaining: 4m 55s\n"
     ]
    },
    {
     "name": "stdout",
     "output_type": "stream",
     "text": [
      "3450:\tlearn: 0.8583432\ttest: 0.7961128\tbest: 0.7969459 (2629)\ttotal: 10m 47s\tremaining: 4m 50s\n"
     ]
    },
    {
     "name": "stdout",
     "output_type": "stream",
     "text": [
      "3475:\tlearn: 0.8590137\ttest: 0.7963516\tbest: 0.7969459 (2629)\ttotal: 10m 52s\tremaining: 4m 45s\n"
     ]
    },
    {
     "name": "stdout",
     "output_type": "stream",
     "text": [
      "3500:\tlearn: 0.8592916\ttest: 0.7965413\tbest: 0.7969459 (2629)\ttotal: 10m 56s\tremaining: 4m 41s\n"
     ]
    },
    {
     "name": "stdout",
     "output_type": "stream",
     "text": [
      "3525:\tlearn: 0.8598483\ttest: 0.7963937\tbest: 0.7969459 (2629)\ttotal: 11m 1s\tremaining: 4m 36s\n"
     ]
    },
    {
     "name": "stdout",
     "output_type": "stream",
     "text": [
      "3550:\tlearn: 0.8602674\ttest: 0.7966969\tbest: 0.7969459 (2629)\ttotal: 11m 6s\tremaining: 4m 31s\n"
     ]
    },
    {
     "name": "stdout",
     "output_type": "stream",
     "text": [
      "3575:\tlearn: 0.8606282\ttest: 0.7965918\tbest: 0.7969459 (2629)\ttotal: 11m 11s\tremaining: 4m 27s\n"
     ]
    },
    {
     "name": "stdout",
     "output_type": "stream",
     "text": [
      "3600:\tlearn: 0.8612041\ttest: 0.7966211\tbest: 0.7969459 (2629)\ttotal: 11m 15s\tremaining: 4m 22s\n"
     ]
    },
    {
     "name": "stdout",
     "output_type": "stream",
     "text": [
      "3625:\tlearn: 0.8614996\ttest: 0.7965573\tbest: 0.7969459 (2629)\ttotal: 11m 20s\tremaining: 4m 17s\n"
     ]
    },
    {
     "name": "stdout",
     "output_type": "stream",
     "text": [
      "3650:\tlearn: 0.8618007\ttest: 0.7966608\tbest: 0.7969459 (2629)\ttotal: 11m 25s\tremaining: 4m 13s\n"
     ]
    },
    {
     "name": "stdout",
     "output_type": "stream",
     "text": [
      "3675:\tlearn: 0.8621181\ttest: 0.7966034\tbest: 0.7969459 (2629)\ttotal: 11m 29s\tremaining: 4m 8s\n"
     ]
    },
    {
     "name": "stdout",
     "output_type": "stream",
     "text": [
      "3700:\tlearn: 0.8626765\ttest: 0.7964233\tbest: 0.7969459 (2629)\ttotal: 11m 34s\tremaining: 4m 3s\n"
     ]
    },
    {
     "name": "stdout",
     "output_type": "stream",
     "text": [
      "3725:\tlearn: 0.8629811\ttest: 0.7965318\tbest: 0.7969459 (2629)\ttotal: 11m 39s\tremaining: 3m 59s\n"
     ]
    },
    {
     "name": "stdout",
     "output_type": "stream",
     "text": [
      "3750:\tlearn: 0.8634270\ttest: 0.7962546\tbest: 0.7969459 (2629)\ttotal: 11m 43s\tremaining: 3m 54s\n"
     ]
    },
    {
     "name": "stdout",
     "output_type": "stream",
     "text": [
      "3775:\tlearn: 0.8637430\ttest: 0.7962388\tbest: 0.7969459 (2629)\ttotal: 11m 48s\tremaining: 3m 49s\n"
     ]
    },
    {
     "name": "stdout",
     "output_type": "stream",
     "text": [
      "3800:\tlearn: 0.8641220\ttest: 0.7962437\tbest: 0.7969459 (2629)\ttotal: 11m 53s\tremaining: 3m 44s\n"
     ]
    },
    {
     "name": "stdout",
     "output_type": "stream",
     "text": [
      "3825:\tlearn: 0.8647079\ttest: 0.7963138\tbest: 0.7969459 (2629)\ttotal: 11m 57s\tremaining: 3m 40s\n"
     ]
    },
    {
     "name": "stdout",
     "output_type": "stream",
     "text": [
      "3850:\tlearn: 0.8652125\ttest: 0.7961692\tbest: 0.7969459 (2629)\ttotal: 12m 2s\tremaining: 3m 35s\n"
     ]
    },
    {
     "name": "stdout",
     "output_type": "stream",
     "text": [
      "3875:\tlearn: 0.8657056\ttest: 0.7964219\tbest: 0.7969459 (2629)\ttotal: 12m 7s\tremaining: 3m 30s\n"
     ]
    },
    {
     "name": "stdout",
     "output_type": "stream",
     "text": [
      "3900:\tlearn: 0.8661881\ttest: 0.7966961\tbest: 0.7969459 (2629)\ttotal: 12m 12s\tremaining: 3m 26s\n"
     ]
    },
    {
     "name": "stdout",
     "output_type": "stream",
     "text": [
      "3925:\tlearn: 0.8665034\ttest: 0.7966322\tbest: 0.7970754 (3912)\ttotal: 12m 16s\tremaining: 3m 21s\n"
     ]
    },
    {
     "name": "stdout",
     "output_type": "stream",
     "text": [
      "3950:\tlearn: 0.8668896\ttest: 0.7966387\tbest: 0.7970754 (3912)\ttotal: 12m 21s\tremaining: 3m 16s\n"
     ]
    },
    {
     "name": "stdout",
     "output_type": "stream",
     "text": [
      "3975:\tlearn: 0.8673931\ttest: 0.7971291\tbest: 0.7971291 (3975)\ttotal: 12m 26s\tremaining: 3m 12s\n"
     ]
    },
    {
     "name": "stdout",
     "output_type": "stream",
     "text": [
      "4000:\tlearn: 0.8675663\ttest: 0.7969616\tbest: 0.7971316 (3981)\ttotal: 12m 30s\tremaining: 3m 7s\n"
     ]
    },
    {
     "name": "stdout",
     "output_type": "stream",
     "text": [
      "4025:\tlearn: 0.8681596\ttest: 0.7968361\tbest: 0.7971316 (3981)\ttotal: 12m 35s\tremaining: 3m 2s\n"
     ]
    },
    {
     "name": "stdout",
     "output_type": "stream",
     "text": [
      "4050:\tlearn: 0.8684502\ttest: 0.7968989\tbest: 0.7971316 (3981)\ttotal: 12m 40s\tremaining: 2m 58s\n"
     ]
    },
    {
     "name": "stdout",
     "output_type": "stream",
     "text": [
      "4075:\tlearn: 0.8688162\ttest: 0.7967770\tbest: 0.7971316 (3981)\ttotal: 12m 44s\tremaining: 2m 53s\n"
     ]
    },
    {
     "name": "stdout",
     "output_type": "stream",
     "text": [
      "4100:\tlearn: 0.8693571\ttest: 0.7967163\tbest: 0.7971316 (3981)\ttotal: 12m 49s\tremaining: 2m 48s\n"
     ]
    },
    {
     "name": "stdout",
     "output_type": "stream",
     "text": [
      "4125:\tlearn: 0.8698113\ttest: 0.7967778\tbest: 0.7971316 (3981)\ttotal: 12m 54s\tremaining: 2m 44s\n"
     ]
    },
    {
     "name": "stdout",
     "output_type": "stream",
     "text": [
      "4150:\tlearn: 0.8700551\ttest: 0.7969621\tbest: 0.7971316 (3981)\ttotal: 12m 58s\tremaining: 2m 39s\n"
     ]
    },
    {
     "name": "stdout",
     "output_type": "stream",
     "text": [
      "4175:\tlearn: 0.8702691\ttest: 0.7968379\tbest: 0.7971316 (3981)\ttotal: 13m 3s\tremaining: 2m 34s\n"
     ]
    },
    {
     "name": "stdout",
     "output_type": "stream",
     "text": [
      "4200:\tlearn: 0.8707397\ttest: 0.7968630\tbest: 0.7971339 (4188)\ttotal: 13m 8s\tremaining: 2m 29s\n"
     ]
    },
    {
     "name": "stdout",
     "output_type": "stream",
     "text": [
      "4225:\tlearn: 0.8712606\ttest: 0.7967136\tbest: 0.7971339 (4188)\ttotal: 13m 12s\tremaining: 2m 25s\n"
     ]
    },
    {
     "name": "stdout",
     "output_type": "stream",
     "text": [
      "4250:\tlearn: 0.8715960\ttest: 0.7966913\tbest: 0.7971339 (4188)\ttotal: 13m 17s\tremaining: 2m 20s\n"
     ]
    },
    {
     "name": "stdout",
     "output_type": "stream",
     "text": [
      "4275:\tlearn: 0.8719907\ttest: 0.7968829\tbest: 0.7971339 (4188)\ttotal: 13m 22s\tremaining: 2m 15s\n"
     ]
    },
    {
     "name": "stdout",
     "output_type": "stream",
     "text": [
      "4300:\tlearn: 0.8723683\ttest: 0.7965661\tbest: 0.7971339 (4188)\ttotal: 13m 26s\tremaining: 2m 11s\n"
     ]
    },
    {
     "name": "stdout",
     "output_type": "stream",
     "text": [
      "4325:\tlearn: 0.8727808\ttest: 0.7967586\tbest: 0.7971339 (4188)\ttotal: 13m 31s\tremaining: 2m 6s\n"
     ]
    },
    {
     "name": "stdout",
     "output_type": "stream",
     "text": [
      "4350:\tlearn: 0.8733041\ttest: 0.7966894\tbest: 0.7971339 (4188)\ttotal: 13m 36s\tremaining: 2m 1s\n"
     ]
    },
    {
     "name": "stdout",
     "output_type": "stream",
     "text": [
      "4375:\tlearn: 0.8736736\ttest: 0.7966703\tbest: 0.7971339 (4188)\ttotal: 13m 41s\tremaining: 1m 57s\n"
     ]
    },
    {
     "name": "stdout",
     "output_type": "stream",
     "text": [
      "4400:\tlearn: 0.8739523\ttest: 0.7966291\tbest: 0.7971339 (4188)\ttotal: 13m 45s\tremaining: 1m 52s\n"
     ]
    },
    {
     "name": "stdout",
     "output_type": "stream",
     "text": [
      "4425:\tlearn: 0.8743163\ttest: 0.7965451\tbest: 0.7971339 (4188)\ttotal: 13m 50s\tremaining: 1m 47s\n"
     ]
    },
    {
     "name": "stdout",
     "output_type": "stream",
     "text": [
      "4450:\tlearn: 0.8747634\ttest: 0.7967210\tbest: 0.7971339 (4188)\ttotal: 13m 55s\tremaining: 1m 43s\n"
     ]
    },
    {
     "name": "stdout",
     "output_type": "stream",
     "text": [
      "4475:\tlearn: 0.8752737\ttest: 0.7966330\tbest: 0.7971339 (4188)\ttotal: 13m 59s\tremaining: 1m 38s\n"
     ]
    },
    {
     "name": "stdout",
     "output_type": "stream",
     "text": [
      "4500:\tlearn: 0.8756608\ttest: 0.7961691\tbest: 0.7971339 (4188)\ttotal: 14m 4s\tremaining: 1m 33s\n"
     ]
    },
    {
     "name": "stdout",
     "output_type": "stream",
     "text": [
      "4525:\tlearn: 0.8760621\ttest: 0.7964293\tbest: 0.7971339 (4188)\ttotal: 14m 9s\tremaining: 1m 28s\n"
     ]
    },
    {
     "name": "stdout",
     "output_type": "stream",
     "text": [
      "4550:\tlearn: 0.8763979\ttest: 0.7967123\tbest: 0.7971339 (4188)\ttotal: 14m 13s\tremaining: 1m 24s\n"
     ]
    },
    {
     "name": "stdout",
     "output_type": "stream",
     "text": [
      "4575:\tlearn: 0.8766290\ttest: 0.7970471\tbest: 0.7971515 (4574)\ttotal: 14m 18s\tremaining: 1m 19s\n"
     ]
    },
    {
     "name": "stdout",
     "output_type": "stream",
     "text": [
      "4600:\tlearn: 0.8771927\ttest: 0.7965002\tbest: 0.7971515 (4574)\ttotal: 14m 23s\tremaining: 1m 14s\n"
     ]
    },
    {
     "name": "stdout",
     "output_type": "stream",
     "text": [
      "4625:\tlearn: 0.8774669\ttest: 0.7963088\tbest: 0.7971515 (4574)\ttotal: 14m 27s\tremaining: 1m 10s\n"
     ]
    },
    {
     "name": "stdout",
     "output_type": "stream",
     "text": [
      "4650:\tlearn: 0.8779803\ttest: 0.7966287\tbest: 0.7971515 (4574)\ttotal: 14m 32s\tremaining: 1m 5s\n"
     ]
    },
    {
     "name": "stdout",
     "output_type": "stream",
     "text": [
      "4675:\tlearn: 0.8782591\ttest: 0.7964802\tbest: 0.7971515 (4574)\ttotal: 14m 37s\tremaining: 1m\n"
     ]
    },
    {
     "name": "stdout",
     "output_type": "stream",
     "text": [
      "4700:\tlearn: 0.8785316\ttest: 0.7962300\tbest: 0.7971515 (4574)\ttotal: 14m 41s\tremaining: 56.1s\n"
     ]
    },
    {
     "name": "stdout",
     "output_type": "stream",
     "text": [
      "4725:\tlearn: 0.8790244\ttest: 0.7963124\tbest: 0.7971515 (4574)\ttotal: 14m 46s\tremaining: 51.4s\n"
     ]
    },
    {
     "name": "stdout",
     "output_type": "stream",
     "text": [
      "4750:\tlearn: 0.8795216\ttest: 0.7959323\tbest: 0.7971515 (4574)\ttotal: 14m 51s\tremaining: 46.7s\n"
     ]
    },
    {
     "name": "stdout",
     "output_type": "stream",
     "text": [
      "4775:\tlearn: 0.8797075\ttest: 0.7961668\tbest: 0.7971515 (4574)\ttotal: 14m 56s\tremaining: 42s\n"
     ]
    },
    {
     "name": "stdout",
     "output_type": "stream",
     "text": [
      "4800:\tlearn: 0.8800752\ttest: 0.7963396\tbest: 0.7971515 (4574)\ttotal: 15m\tremaining: 37.3s\n"
     ]
    },
    {
     "name": "stdout",
     "output_type": "stream",
     "text": [
      "4825:\tlearn: 0.8804830\ttest: 0.7961838\tbest: 0.7971515 (4574)\ttotal: 15m 5s\tremaining: 32.6s\n"
     ]
    },
    {
     "name": "stdout",
     "output_type": "stream",
     "text": [
      "4850:\tlearn: 0.8808302\ttest: 0.7962557\tbest: 0.7971515 (4574)\ttotal: 15m 10s\tremaining: 28s\n"
     ]
    },
    {
     "name": "stdout",
     "output_type": "stream",
     "text": [
      "4875:\tlearn: 0.8812141\ttest: 0.7960639\tbest: 0.7971515 (4574)\ttotal: 15m 14s\tremaining: 23.3s\n"
     ]
    },
    {
     "name": "stdout",
     "output_type": "stream",
     "text": [
      "4900:\tlearn: 0.8814239\ttest: 0.7961945\tbest: 0.7971515 (4574)\ttotal: 15m 19s\tremaining: 18.6s\n"
     ]
    },
    {
     "name": "stdout",
     "output_type": "stream",
     "text": [
      "4925:\tlearn: 0.8818090\ttest: 0.7961347\tbest: 0.7971515 (4574)\ttotal: 15m 24s\tremaining: 13.9s\n"
     ]
    },
    {
     "name": "stdout",
     "output_type": "stream",
     "text": [
      "4950:\tlearn: 0.8821499\ttest: 0.7962427\tbest: 0.7971515 (4574)\ttotal: 15m 28s\tremaining: 9.19s\n"
     ]
    },
    {
     "name": "stdout",
     "output_type": "stream",
     "text": [
      "4975:\tlearn: 0.8825700\ttest: 0.7963462\tbest: 0.7971515 (4574)\ttotal: 15m 33s\tremaining: 4.5s\n"
     ]
    },
    {
     "name": "stdout",
     "output_type": "stream",
     "text": [
      "4999:\tlearn: 0.8829249\ttest: 0.7966621\tbest: 0.7971515 (4574)\ttotal: 15m 38s\tremaining: 0us\n",
      "\n",
      "bestTest = 0.7971514775\n",
      "bestIteration = 4574\n",
      "\n"
     ]
    },
    {
     "name": "stdout",
     "output_type": "stream",
     "text": [
      "Training time: 78.75027875900268 min.\n",
      "OOF recall_at4: 0.6666189786918908\n",
      "OOF normalized_gini: 0.9245317206715699\n",
      "OOF competition metric: 0.7955753496817304\n"
     ]
    },
    {
     "name": "stdout",
     "output_type": "stream",
     "text": [
      "############################### repeated cross-validation step: 3/3 ################################\n"
     ]
    },
    {
     "name": "stdout",
     "output_type": "stream",
     "text": [
      "######################################## training model 1/5 ########################################\n"
     ]
    },
    {
     "name": "stdout",
     "output_type": "stream",
     "text": [
      "0:\tlearn: 0.5718234\ttest: 0.5683902\tbest: 0.5683902 (0)\ttotal: 502ms\tremaining: 41m 48s\n"
     ]
    },
    {
     "name": "stdout",
     "output_type": "stream",
     "text": [
      "25:\tlearn: 0.7144796\ttest: 0.7124326\tbest: 0.7124326 (25)\ttotal: 5.09s\tremaining: 16m 14s\n"
     ]
    },
    {
     "name": "stdout",
     "output_type": "stream",
     "text": [
      "50:\tlearn: 0.7356460\ttest: 0.7335703\tbest: 0.7337435 (49)\ttotal: 9.79s\tremaining: 15m 50s\n"
     ]
    },
    {
     "name": "stdout",
     "output_type": "stream",
     "text": [
      "75:\tlearn: 0.7447609\ttest: 0.7419219\tbest: 0.7419219 (75)\ttotal: 14.5s\tremaining: 15m 38s\n"
     ]
    },
    {
     "name": "stdout",
     "output_type": "stream",
     "text": [
      "100:\tlearn: 0.7508988\ttest: 0.7485956\tbest: 0.7485956 (100)\ttotal: 19.2s\tremaining: 15m 32s\n"
     ]
    },
    {
     "name": "stdout",
     "output_type": "stream",
     "text": [
      "125:\tlearn: 0.7545548\ttest: 0.7518251\tbest: 0.7518251 (125)\ttotal: 23.9s\tremaining: 15m 24s\n"
     ]
    },
    {
     "name": "stdout",
     "output_type": "stream",
     "text": [
      "150:\tlearn: 0.7575060\ttest: 0.7549551\tbest: 0.7549551 (150)\ttotal: 28.5s\tremaining: 15m 15s\n"
     ]
    },
    {
     "name": "stdout",
     "output_type": "stream",
     "text": [
      "175:\tlearn: 0.7598965\ttest: 0.7563413\tbest: 0.7563413 (175)\ttotal: 33.2s\tremaining: 15m 9s\n"
     ]
    },
    {
     "name": "stdout",
     "output_type": "stream",
     "text": [
      "200:\tlearn: 0.7622757\ttest: 0.7580094\tbest: 0.7589056 (196)\ttotal: 37.8s\tremaining: 15m 2s\n"
     ]
    },
    {
     "name": "stdout",
     "output_type": "stream",
     "text": [
      "225:\tlearn: 0.7647034\ttest: 0.7607805\tbest: 0.7609232 (224)\ttotal: 42.5s\tremaining: 14m 58s\n"
     ]
    },
    {
     "name": "stdout",
     "output_type": "stream",
     "text": [
      "250:\tlearn: 0.7669479\ttest: 0.7631872\tbest: 0.7631872 (250)\ttotal: 47.2s\tremaining: 14m 52s\n"
     ]
    },
    {
     "name": "stdout",
     "output_type": "stream",
     "text": [
      "275:\tlearn: 0.7692133\ttest: 0.7655921\tbest: 0.7655921 (275)\ttotal: 51.9s\tremaining: 14m 48s\n"
     ]
    },
    {
     "name": "stdout",
     "output_type": "stream",
     "text": [
      "300:\tlearn: 0.7725174\ttest: 0.7686710\tbest: 0.7687236 (299)\ttotal: 56.6s\tremaining: 14m 43s\n"
     ]
    },
    {
     "name": "stdout",
     "output_type": "stream",
     "text": [
      "325:\tlearn: 0.7767748\ttest: 0.7729888\tbest: 0.7729888 (325)\ttotal: 1m 1s\tremaining: 14m 39s\n"
     ]
    },
    {
     "name": "stdout",
     "output_type": "stream",
     "text": [
      "350:\tlearn: 0.7805602\ttest: 0.7766876\tbest: 0.7766876 (350)\ttotal: 1m 6s\tremaining: 14m 34s\n"
     ]
    },
    {
     "name": "stdout",
     "output_type": "stream",
     "text": [
      "375:\tlearn: 0.7835647\ttest: 0.7796255\tbest: 0.7796255 (375)\ttotal: 1m 10s\tremaining: 14m 30s\n"
     ]
    },
    {
     "name": "stdout",
     "output_type": "stream",
     "text": [
      "400:\tlearn: 0.7851267\ttest: 0.7813567\tbest: 0.7814275 (399)\ttotal: 1m 15s\tremaining: 14m 25s\n"
     ]
    },
    {
     "name": "stdout",
     "output_type": "stream",
     "text": [
      "425:\tlearn: 0.7872734\ttest: 0.7828494\tbest: 0.7828592 (424)\ttotal: 1m 20s\tremaining: 14m 21s\n"
     ]
    },
    {
     "name": "stdout",
     "output_type": "stream",
     "text": [
      "450:\tlearn: 0.7891245\ttest: 0.7833362\tbest: 0.7833850 (448)\ttotal: 1m 24s\tremaining: 14m 17s\n"
     ]
    },
    {
     "name": "stdout",
     "output_type": "stream",
     "text": [
      "475:\tlearn: 0.7906405\ttest: 0.7845296\tbest: 0.7845296 (475)\ttotal: 1m 29s\tremaining: 14m 12s\n"
     ]
    },
    {
     "name": "stdout",
     "output_type": "stream",
     "text": [
      "500:\tlearn: 0.7918613\ttest: 0.7853889\tbest: 0.7855171 (496)\ttotal: 1m 34s\tremaining: 14m 7s\n"
     ]
    },
    {
     "name": "stdout",
     "output_type": "stream",
     "text": [
      "525:\tlearn: 0.7931617\ttest: 0.7855523\tbest: 0.7855928 (521)\ttotal: 1m 39s\tremaining: 14m 2s\n"
     ]
    },
    {
     "name": "stdout",
     "output_type": "stream",
     "text": [
      "550:\tlearn: 0.7945274\ttest: 0.7863340\tbest: 0.7863340 (550)\ttotal: 1m 43s\tremaining: 13m 58s\n"
     ]
    },
    {
     "name": "stdout",
     "output_type": "stream",
     "text": [
      "575:\tlearn: 0.7956280\ttest: 0.7867902\tbest: 0.7869112 (574)\ttotal: 1m 48s\tremaining: 13m 53s\n"
     ]
    },
    {
     "name": "stdout",
     "output_type": "stream",
     "text": [
      "600:\tlearn: 0.7965749\ttest: 0.7863423\tbest: 0.7869112 (574)\ttotal: 1m 53s\tremaining: 13m 48s\n"
     ]
    },
    {
     "name": "stdout",
     "output_type": "stream",
     "text": [
      "625:\tlearn: 0.7976419\ttest: 0.7869383\tbest: 0.7869383 (625)\ttotal: 1m 57s\tremaining: 13m 44s\n"
     ]
    },
    {
     "name": "stdout",
     "output_type": "stream",
     "text": [
      "650:\tlearn: 0.7982630\ttest: 0.7873421\tbest: 0.7873999 (648)\ttotal: 2m 2s\tremaining: 13m 39s\n"
     ]
    },
    {
     "name": "stdout",
     "output_type": "stream",
     "text": [
      "675:\tlearn: 0.7993014\ttest: 0.7875350\tbest: 0.7875481 (656)\ttotal: 2m 7s\tremaining: 13m 34s\n"
     ]
    },
    {
     "name": "stdout",
     "output_type": "stream",
     "text": [
      "700:\tlearn: 0.8001188\ttest: 0.7873257\tbest: 0.7876814 (692)\ttotal: 2m 12s\tremaining: 13m 29s\n"
     ]
    },
    {
     "name": "stdout",
     "output_type": "stream",
     "text": [
      "725:\tlearn: 0.8010831\ttest: 0.7876062\tbest: 0.7876814 (692)\ttotal: 2m 16s\tremaining: 13m 25s\n"
     ]
    },
    {
     "name": "stdout",
     "output_type": "stream",
     "text": [
      "750:\tlearn: 0.8022801\ttest: 0.7877550\tbest: 0.7880056 (738)\ttotal: 2m 21s\tremaining: 13m 20s\n"
     ]
    },
    {
     "name": "stdout",
     "output_type": "stream",
     "text": [
      "775:\tlearn: 0.8030592\ttest: 0.7881325\tbest: 0.7883198 (773)\ttotal: 2m 26s\tremaining: 13m 15s\n"
     ]
    },
    {
     "name": "stdout",
     "output_type": "stream",
     "text": [
      "800:\tlearn: 0.8039986\ttest: 0.7886001\tbest: 0.7886067 (793)\ttotal: 2m 30s\tremaining: 13m 10s\n"
     ]
    },
    {
     "name": "stdout",
     "output_type": "stream",
     "text": [
      "825:\tlearn: 0.8046779\ttest: 0.7889134\tbest: 0.7889134 (825)\ttotal: 2m 35s\tremaining: 13m 5s\n"
     ]
    },
    {
     "name": "stdout",
     "output_type": "stream",
     "text": [
      "850:\tlearn: 0.8054110\ttest: 0.7889115\tbest: 0.7890932 (831)\ttotal: 2m 40s\tremaining: 13m 1s\n"
     ]
    },
    {
     "name": "stdout",
     "output_type": "stream",
     "text": [
      "875:\tlearn: 0.8063472\ttest: 0.7887100\tbest: 0.7890932 (831)\ttotal: 2m 44s\tremaining: 12m 56s\n"
     ]
    },
    {
     "name": "stdout",
     "output_type": "stream",
     "text": [
      "900:\tlearn: 0.8069837\ttest: 0.7892368\tbest: 0.7892856 (893)\ttotal: 2m 49s\tremaining: 12m 51s\n"
     ]
    },
    {
     "name": "stdout",
     "output_type": "stream",
     "text": [
      "925:\tlearn: 0.8076128\ttest: 0.7891676\tbest: 0.7894530 (918)\ttotal: 2m 54s\tremaining: 12m 46s\n"
     ]
    },
    {
     "name": "stdout",
     "output_type": "stream",
     "text": [
      "950:\tlearn: 0.8083927\ttest: 0.7891125\tbest: 0.7894848 (929)\ttotal: 2m 58s\tremaining: 12m 41s\n"
     ]
    },
    {
     "name": "stdout",
     "output_type": "stream",
     "text": [
      "975:\tlearn: 0.8093729\ttest: 0.7892885\tbest: 0.7894848 (929)\ttotal: 3m 3s\tremaining: 12m 37s\n"
     ]
    },
    {
     "name": "stdout",
     "output_type": "stream",
     "text": [
      "1000:\tlearn: 0.8099730\ttest: 0.7896381\tbest: 0.7898540 (988)\ttotal: 3m 8s\tremaining: 12m 32s\n"
     ]
    },
    {
     "name": "stdout",
     "output_type": "stream",
     "text": [
      "1025:\tlearn: 0.8106511\ttest: 0.7895499\tbest: 0.7898540 (988)\ttotal: 3m 13s\tremaining: 12m 27s\n"
     ]
    },
    {
     "name": "stdout",
     "output_type": "stream",
     "text": [
      "1050:\tlearn: 0.8111555\ttest: 0.7900430\tbest: 0.7900430 (1050)\ttotal: 3m 17s\tremaining: 12m 22s\n"
     ]
    },
    {
     "name": "stdout",
     "output_type": "stream",
     "text": [
      "1075:\tlearn: 0.8120309\ttest: 0.7897459\tbest: 0.7900430 (1050)\ttotal: 3m 22s\tremaining: 12m 18s\n"
     ]
    },
    {
     "name": "stdout",
     "output_type": "stream",
     "text": [
      "1100:\tlearn: 0.8127369\ttest: 0.7906657\tbest: 0.7906657 (1100)\ttotal: 3m 27s\tremaining: 12m 13s\n"
     ]
    },
    {
     "name": "stdout",
     "output_type": "stream",
     "text": [
      "1125:\tlearn: 0.8133145\ttest: 0.7906230\tbest: 0.7907094 (1119)\ttotal: 3m 31s\tremaining: 12m 8s\n"
     ]
    },
    {
     "name": "stdout",
     "output_type": "stream",
     "text": [
      "1150:\tlearn: 0.8142337\ttest: 0.7906018\tbest: 0.7908892 (1133)\ttotal: 3m 36s\tremaining: 12m 4s\n"
     ]
    },
    {
     "name": "stdout",
     "output_type": "stream",
     "text": [
      "1175:\tlearn: 0.8147322\ttest: 0.7903192\tbest: 0.7908892 (1133)\ttotal: 3m 41s\tremaining: 11m 59s\n"
     ]
    },
    {
     "name": "stdout",
     "output_type": "stream",
     "text": [
      "1200:\tlearn: 0.8155279\ttest: 0.7906353\tbest: 0.7908892 (1133)\ttotal: 3m 45s\tremaining: 11m 54s\n"
     ]
    },
    {
     "name": "stdout",
     "output_type": "stream",
     "text": [
      "1225:\tlearn: 0.8162390\ttest: 0.7907177\tbest: 0.7908892 (1133)\ttotal: 3m 50s\tremaining: 11m 49s\n"
     ]
    },
    {
     "name": "stdout",
     "output_type": "stream",
     "text": [
      "1250:\tlearn: 0.8168926\ttest: 0.7906227\tbest: 0.7908925 (1241)\ttotal: 3m 55s\tremaining: 11m 44s\n"
     ]
    },
    {
     "name": "stdout",
     "output_type": "stream",
     "text": [
      "1275:\tlearn: 0.8177024\ttest: 0.7908465\tbest: 0.7908925 (1241)\ttotal: 3m 59s\tremaining: 11m 40s\n"
     ]
    },
    {
     "name": "stdout",
     "output_type": "stream",
     "text": [
      "1300:\tlearn: 0.8183514\ttest: 0.7909859\tbest: 0.7911498 (1288)\ttotal: 4m 4s\tremaining: 11m 35s\n"
     ]
    },
    {
     "name": "stdout",
     "output_type": "stream",
     "text": [
      "1325:\tlearn: 0.8188908\ttest: 0.7914462\tbest: 0.7916235 (1308)\ttotal: 4m 9s\tremaining: 11m 30s\n"
     ]
    },
    {
     "name": "stdout",
     "output_type": "stream",
     "text": [
      "1350:\tlearn: 0.8196920\ttest: 0.7916458\tbest: 0.7916882 (1341)\ttotal: 4m 13s\tremaining: 11m 25s\n"
     ]
    },
    {
     "name": "stdout",
     "output_type": "stream",
     "text": [
      "1375:\tlearn: 0.8203159\ttest: 0.7918538\tbest: 0.7918538 (1375)\ttotal: 4m 18s\tremaining: 11m 21s\n"
     ]
    },
    {
     "name": "stdout",
     "output_type": "stream",
     "text": [
      "1400:\tlearn: 0.8206696\ttest: 0.7922313\tbest: 0.7923357 (1397)\ttotal: 4m 23s\tremaining: 11m 16s\n"
     ]
    },
    {
     "name": "stdout",
     "output_type": "stream",
     "text": [
      "1425:\tlearn: 0.8210501\ttest: 0.7919852\tbest: 0.7925313 (1417)\ttotal: 4m 28s\tremaining: 11m 11s\n"
     ]
    },
    {
     "name": "stdout",
     "output_type": "stream",
     "text": [
      "1450:\tlearn: 0.8217125\ttest: 0.7924200\tbest: 0.7925313 (1417)\ttotal: 4m 32s\tremaining: 11m 7s\n"
     ]
    },
    {
     "name": "stdout",
     "output_type": "stream",
     "text": [
      "1475:\tlearn: 0.8224133\ttest: 0.7921333\tbest: 0.7925313 (1417)\ttotal: 4m 37s\tremaining: 11m 2s\n"
     ]
    },
    {
     "name": "stdout",
     "output_type": "stream",
     "text": [
      "1500:\tlearn: 0.8228585\ttest: 0.7920177\tbest: 0.7925313 (1417)\ttotal: 4m 42s\tremaining: 10m 57s\n"
     ]
    },
    {
     "name": "stdout",
     "output_type": "stream",
     "text": [
      "1525:\tlearn: 0.8235469\ttest: 0.7919122\tbest: 0.7925313 (1417)\ttotal: 4m 46s\tremaining: 10m 52s\n"
     ]
    },
    {
     "name": "stdout",
     "output_type": "stream",
     "text": [
      "1550:\tlearn: 0.8240291\ttest: 0.7921801\tbest: 0.7925313 (1417)\ttotal: 4m 51s\tremaining: 10m 48s\n"
     ]
    },
    {
     "name": "stdout",
     "output_type": "stream",
     "text": [
      "1575:\tlearn: 0.8245193\ttest: 0.7918781\tbest: 0.7925313 (1417)\ttotal: 4m 56s\tremaining: 10m 43s\n"
     ]
    },
    {
     "name": "stdout",
     "output_type": "stream",
     "text": [
      "1600:\tlearn: 0.8249041\ttest: 0.7914510\tbest: 0.7925313 (1417)\ttotal: 5m\tremaining: 10m 38s\n"
     ]
    },
    {
     "name": "stdout",
     "output_type": "stream",
     "text": [
      "1625:\tlearn: 0.8254692\ttest: 0.7916782\tbest: 0.7925313 (1417)\ttotal: 5m 5s\tremaining: 10m 34s\n"
     ]
    },
    {
     "name": "stdout",
     "output_type": "stream",
     "text": [
      "1650:\tlearn: 0.8260961\ttest: 0.7914274\tbest: 0.7925313 (1417)\ttotal: 5m 10s\tremaining: 10m 29s\n"
     ]
    },
    {
     "name": "stdout",
     "output_type": "stream",
     "text": [
      "1675:\tlearn: 0.8265977\ttest: 0.7914458\tbest: 0.7925313 (1417)\ttotal: 5m 14s\tremaining: 10m 24s\n"
     ]
    },
    {
     "name": "stdout",
     "output_type": "stream",
     "text": [
      "1700:\tlearn: 0.8270977\ttest: 0.7914090\tbest: 0.7925313 (1417)\ttotal: 5m 19s\tremaining: 10m 19s\n"
     ]
    },
    {
     "name": "stdout",
     "output_type": "stream",
     "text": [
      "1725:\tlearn: 0.8276544\ttest: 0.7916304\tbest: 0.7925313 (1417)\ttotal: 5m 24s\tremaining: 10m 15s\n"
     ]
    },
    {
     "name": "stdout",
     "output_type": "stream",
     "text": [
      "1750:\tlearn: 0.8280455\ttest: 0.7917303\tbest: 0.7925313 (1417)\ttotal: 5m 28s\tremaining: 10m 10s\n"
     ]
    },
    {
     "name": "stdout",
     "output_type": "stream",
     "text": [
      "1775:\tlearn: 0.8286874\ttest: 0.7915121\tbest: 0.7925313 (1417)\ttotal: 5m 33s\tremaining: 10m 5s\n"
     ]
    },
    {
     "name": "stdout",
     "output_type": "stream",
     "text": [
      "1800:\tlearn: 0.8293531\ttest: 0.7913086\tbest: 0.7925313 (1417)\ttotal: 5m 38s\tremaining: 10m\n"
     ]
    },
    {
     "name": "stdout",
     "output_type": "stream",
     "text": [
      "1825:\tlearn: 0.8301186\ttest: 0.7908710\tbest: 0.7925313 (1417)\ttotal: 5m 42s\tremaining: 9m 56s\n"
     ]
    },
    {
     "name": "stdout",
     "output_type": "stream",
     "text": [
      "1850:\tlearn: 0.8306819\ttest: 0.7911698\tbest: 0.7925313 (1417)\ttotal: 5m 47s\tremaining: 9m 51s\n"
     ]
    },
    {
     "name": "stdout",
     "output_type": "stream",
     "text": [
      "1875:\tlearn: 0.8310522\ttest: 0.7915135\tbest: 0.7925313 (1417)\ttotal: 5m 52s\tremaining: 9m 46s\n"
     ]
    },
    {
     "name": "stdout",
     "output_type": "stream",
     "text": [
      "1900:\tlearn: 0.8315431\ttest: 0.7919458\tbest: 0.7925313 (1417)\ttotal: 5m 57s\tremaining: 9m 42s\n"
     ]
    },
    {
     "name": "stdout",
     "output_type": "stream",
     "text": [
      "1925:\tlearn: 0.8320655\ttest: 0.7919559\tbest: 0.7925313 (1417)\ttotal: 6m 1s\tremaining: 9m 37s\n"
     ]
    },
    {
     "name": "stdout",
     "output_type": "stream",
     "text": [
      "1950:\tlearn: 0.8327198\ttest: 0.7920792\tbest: 0.7925313 (1417)\ttotal: 6m 6s\tremaining: 9m 32s\n"
     ]
    },
    {
     "name": "stdout",
     "output_type": "stream",
     "text": [
      "1975:\tlearn: 0.8330974\ttest: 0.7919805\tbest: 0.7925313 (1417)\ttotal: 6m 11s\tremaining: 9m 27s\n"
     ]
    },
    {
     "name": "stdout",
     "output_type": "stream",
     "text": [
      "2000:\tlearn: 0.8335583\ttest: 0.7916953\tbest: 0.7925313 (1417)\ttotal: 6m 15s\tremaining: 9m 23s\n"
     ]
    },
    {
     "name": "stdout",
     "output_type": "stream",
     "text": [
      "2025:\tlearn: 0.8341952\ttest: 0.7921645\tbest: 0.7925313 (1417)\ttotal: 6m 20s\tremaining: 9m 18s\n"
     ]
    },
    {
     "name": "stdout",
     "output_type": "stream",
     "text": [
      "2050:\tlearn: 0.8348282\ttest: 0.7920066\tbest: 0.7925313 (1417)\ttotal: 6m 25s\tremaining: 9m 13s\n"
     ]
    },
    {
     "name": "stdout",
     "output_type": "stream",
     "text": [
      "2075:\tlearn: 0.8353288\ttest: 0.7918733\tbest: 0.7925313 (1417)\ttotal: 6m 29s\tremaining: 9m 8s\n"
     ]
    },
    {
     "name": "stdout",
     "output_type": "stream",
     "text": [
      "2100:\tlearn: 0.8356548\ttest: 0.7921355\tbest: 0.7925313 (1417)\ttotal: 6m 34s\tremaining: 9m 4s\n"
     ]
    },
    {
     "name": "stdout",
     "output_type": "stream",
     "text": [
      "2125:\tlearn: 0.8361600\ttest: 0.7924594\tbest: 0.7925313 (1417)\ttotal: 6m 39s\tremaining: 8m 59s\n"
     ]
    },
    {
     "name": "stdout",
     "output_type": "stream",
     "text": [
      "2150:\tlearn: 0.8367065\ttest: 0.7926543\tbest: 0.7928845 (2133)\ttotal: 6m 43s\tremaining: 8m 54s\n"
     ]
    },
    {
     "name": "stdout",
     "output_type": "stream",
     "text": [
      "2175:\tlearn: 0.8372870\ttest: 0.7927840\tbest: 0.7928845 (2133)\ttotal: 6m 48s\tremaining: 8m 50s\n"
     ]
    },
    {
     "name": "stdout",
     "output_type": "stream",
     "text": [
      "2200:\tlearn: 0.8376367\ttest: 0.7925180\tbest: 0.7928845 (2133)\ttotal: 6m 53s\tremaining: 8m 45s\n"
     ]
    },
    {
     "name": "stdout",
     "output_type": "stream",
     "text": [
      "2225:\tlearn: 0.8382198\ttest: 0.7924401\tbest: 0.7928845 (2133)\ttotal: 6m 57s\tremaining: 8m 40s\n"
     ]
    },
    {
     "name": "stdout",
     "output_type": "stream",
     "text": [
      "2250:\tlearn: 0.8387988\ttest: 0.7923247\tbest: 0.7928845 (2133)\ttotal: 7m 2s\tremaining: 8m 36s\n"
     ]
    },
    {
     "name": "stdout",
     "output_type": "stream",
     "text": [
      "2275:\tlearn: 0.8391981\ttest: 0.7925387\tbest: 0.7928845 (2133)\ttotal: 7m 7s\tremaining: 8m 31s\n"
     ]
    },
    {
     "name": "stdout",
     "output_type": "stream",
     "text": [
      "2300:\tlearn: 0.8395413\ttest: 0.7924384\tbest: 0.7928845 (2133)\ttotal: 7m 11s\tremaining: 8m 26s\n"
     ]
    },
    {
     "name": "stdout",
     "output_type": "stream",
     "text": [
      "2325:\tlearn: 0.8401626\ttest: 0.7924935\tbest: 0.7928845 (2133)\ttotal: 7m 16s\tremaining: 8m 21s\n"
     ]
    },
    {
     "name": "stdout",
     "output_type": "stream",
     "text": [
      "2350:\tlearn: 0.8408431\ttest: 0.7922498\tbest: 0.7928845 (2133)\ttotal: 7m 21s\tremaining: 8m 17s\n"
     ]
    },
    {
     "name": "stdout",
     "output_type": "stream",
     "text": [
      "2375:\tlearn: 0.8412798\ttest: 0.7921542\tbest: 0.7928845 (2133)\ttotal: 7m 25s\tremaining: 8m 12s\n"
     ]
    },
    {
     "name": "stdout",
     "output_type": "stream",
     "text": [
      "2400:\tlearn: 0.8416973\ttest: 0.7919710\tbest: 0.7928845 (2133)\ttotal: 7m 30s\tremaining: 8m 7s\n"
     ]
    },
    {
     "name": "stdout",
     "output_type": "stream",
     "text": [
      "2425:\tlearn: 0.8421462\ttest: 0.7924650\tbest: 0.7928845 (2133)\ttotal: 7m 35s\tremaining: 8m 3s\n"
     ]
    },
    {
     "name": "stdout",
     "output_type": "stream",
     "text": [
      "2450:\tlearn: 0.8424572\ttest: 0.7925585\tbest: 0.7928845 (2133)\ttotal: 7m 40s\tremaining: 7m 58s\n"
     ]
    },
    {
     "name": "stdout",
     "output_type": "stream",
     "text": [
      "2475:\tlearn: 0.8429561\ttest: 0.7924337\tbest: 0.7928845 (2133)\ttotal: 7m 44s\tremaining: 7m 53s\n"
     ]
    },
    {
     "name": "stdout",
     "output_type": "stream",
     "text": [
      "2500:\tlearn: 0.8435457\ttest: 0.7926924\tbest: 0.7929851 (2497)\ttotal: 7m 49s\tremaining: 7m 49s\n"
     ]
    },
    {
     "name": "stdout",
     "output_type": "stream",
     "text": [
      "2525:\tlearn: 0.8439146\ttest: 0.7926707\tbest: 0.7929851 (2497)\ttotal: 7m 54s\tremaining: 7m 44s\n"
     ]
    },
    {
     "name": "stdout",
     "output_type": "stream",
     "text": [
      "2550:\tlearn: 0.8444683\ttest: 0.7927992\tbest: 0.7929851 (2497)\ttotal: 7m 58s\tremaining: 7m 39s\n"
     ]
    },
    {
     "name": "stdout",
     "output_type": "stream",
     "text": [
      "2575:\tlearn: 0.8450639\ttest: 0.7925728\tbest: 0.7930365 (2568)\ttotal: 8m 3s\tremaining: 7m 34s\n"
     ]
    },
    {
     "name": "stdout",
     "output_type": "stream",
     "text": [
      "2600:\tlearn: 0.8457571\ttest: 0.7927266\tbest: 0.7931031 (2588)\ttotal: 8m 8s\tremaining: 7m 30s\n"
     ]
    },
    {
     "name": "stdout",
     "output_type": "stream",
     "text": [
      "2625:\tlearn: 0.8461558\ttest: 0.7930013\tbest: 0.7931031 (2588)\ttotal: 8m 12s\tremaining: 7m 25s\n"
     ]
    },
    {
     "name": "stdout",
     "output_type": "stream",
     "text": [
      "2650:\tlearn: 0.8466600\ttest: 0.7928825\tbest: 0.7931031 (2588)\ttotal: 8m 17s\tremaining: 7m 20s\n"
     ]
    },
    {
     "name": "stdout",
     "output_type": "stream",
     "text": [
      "2675:\tlearn: 0.8469256\ttest: 0.7928397\tbest: 0.7932603 (2661)\ttotal: 8m 22s\tremaining: 7m 16s\n"
     ]
    },
    {
     "name": "stdout",
     "output_type": "stream",
     "text": [
      "2700:\tlearn: 0.8474908\ttest: 0.7926129\tbest: 0.7932603 (2661)\ttotal: 8m 26s\tremaining: 7m 11s\n"
     ]
    },
    {
     "name": "stdout",
     "output_type": "stream",
     "text": [
      "2725:\tlearn: 0.8478826\ttest: 0.7926362\tbest: 0.7932603 (2661)\ttotal: 8m 31s\tremaining: 7m 6s\n"
     ]
    },
    {
     "name": "stdout",
     "output_type": "stream",
     "text": [
      "2750:\tlearn: 0.8484429\ttest: 0.7927207\tbest: 0.7932603 (2661)\ttotal: 8m 36s\tremaining: 7m 2s\n"
     ]
    },
    {
     "name": "stdout",
     "output_type": "stream",
     "text": [
      "2775:\tlearn: 0.8490870\ttest: 0.7925982\tbest: 0.7932603 (2661)\ttotal: 8m 40s\tremaining: 6m 57s\n"
     ]
    },
    {
     "name": "stdout",
     "output_type": "stream",
     "text": [
      "2800:\tlearn: 0.8495429\ttest: 0.7927136\tbest: 0.7932603 (2661)\ttotal: 8m 45s\tremaining: 6m 52s\n"
     ]
    },
    {
     "name": "stdout",
     "output_type": "stream",
     "text": [
      "2825:\tlearn: 0.8501167\ttest: 0.7925063\tbest: 0.7932603 (2661)\ttotal: 8m 50s\tremaining: 6m 47s\n"
     ]
    },
    {
     "name": "stdout",
     "output_type": "stream",
     "text": [
      "2850:\tlearn: 0.8506945\ttest: 0.7924501\tbest: 0.7932603 (2661)\ttotal: 8m 55s\tremaining: 6m 43s\n"
     ]
    },
    {
     "name": "stdout",
     "output_type": "stream",
     "text": [
      "2875:\tlearn: 0.8510623\ttest: 0.7928035\tbest: 0.7932603 (2661)\ttotal: 8m 59s\tremaining: 6m 38s\n"
     ]
    },
    {
     "name": "stdout",
     "output_type": "stream",
     "text": [
      "2900:\tlearn: 0.8513340\ttest: 0.7928527\tbest: 0.7932603 (2661)\ttotal: 9m 4s\tremaining: 6m 33s\n"
     ]
    },
    {
     "name": "stdout",
     "output_type": "stream",
     "text": [
      "2925:\tlearn: 0.8519557\ttest: 0.7930066\tbest: 0.7932603 (2661)\ttotal: 9m 9s\tremaining: 6m 29s\n"
     ]
    },
    {
     "name": "stdout",
     "output_type": "stream",
     "text": [
      "2950:\tlearn: 0.8524779\ttest: 0.7934752\tbest: 0.7934766 (2949)\ttotal: 9m 13s\tremaining: 6m 24s\n"
     ]
    },
    {
     "name": "stdout",
     "output_type": "stream",
     "text": [
      "2975:\tlearn: 0.8528351\ttest: 0.7935524\tbest: 0.7936755 (2965)\ttotal: 9m 18s\tremaining: 6m 19s\n"
     ]
    },
    {
     "name": "stdout",
     "output_type": "stream",
     "text": [
      "3000:\tlearn: 0.8532183\ttest: 0.7936201\tbest: 0.7937890 (2997)\ttotal: 9m 23s\tremaining: 6m 15s\n"
     ]
    },
    {
     "name": "stdout",
     "output_type": "stream",
     "text": [
      "3025:\tlearn: 0.8537894\ttest: 0.7934613\tbest: 0.7937890 (2997)\ttotal: 9m 27s\tremaining: 6m 10s\n"
     ]
    },
    {
     "name": "stdout",
     "output_type": "stream",
     "text": [
      "3050:\tlearn: 0.8541385\ttest: 0.7936937\tbest: 0.7937890 (2997)\ttotal: 9m 32s\tremaining: 6m 5s\n"
     ]
    },
    {
     "name": "stdout",
     "output_type": "stream",
     "text": [
      "3075:\tlearn: 0.8547174\ttest: 0.7935059\tbest: 0.7938239 (3069)\ttotal: 9m 37s\tremaining: 6m 1s\n"
     ]
    },
    {
     "name": "stdout",
     "output_type": "stream",
     "text": [
      "3100:\tlearn: 0.8553175\ttest: 0.7932955\tbest: 0.7938239 (3069)\ttotal: 9m 41s\tremaining: 5m 56s\n"
     ]
    },
    {
     "name": "stdout",
     "output_type": "stream",
     "text": [
      "3125:\tlearn: 0.8557075\ttest: 0.7932591\tbest: 0.7938239 (3069)\ttotal: 9m 46s\tremaining: 5m 51s\n"
     ]
    },
    {
     "name": "stdout",
     "output_type": "stream",
     "text": [
      "3150:\tlearn: 0.8561502\ttest: 0.7930920\tbest: 0.7938239 (3069)\ttotal: 9m 51s\tremaining: 5m 46s\n"
     ]
    },
    {
     "name": "stdout",
     "output_type": "stream",
     "text": [
      "3175:\tlearn: 0.8566133\ttest: 0.7931812\tbest: 0.7938239 (3069)\ttotal: 9m 55s\tremaining: 5m 42s\n"
     ]
    },
    {
     "name": "stdout",
     "output_type": "stream",
     "text": [
      "3200:\tlearn: 0.8570407\ttest: 0.7932403\tbest: 0.7938239 (3069)\ttotal: 10m\tremaining: 5m 37s\n"
     ]
    },
    {
     "name": "stdout",
     "output_type": "stream",
     "text": [
      "3225:\tlearn: 0.8576508\ttest: 0.7929911\tbest: 0.7938239 (3069)\ttotal: 10m 5s\tremaining: 5m 32s\n"
     ]
    },
    {
     "name": "stdout",
     "output_type": "stream",
     "text": [
      "3250:\tlearn: 0.8579879\ttest: 0.7928665\tbest: 0.7938239 (3069)\ttotal: 10m 10s\tremaining: 5m 28s\n"
     ]
    },
    {
     "name": "stdout",
     "output_type": "stream",
     "text": [
      "3275:\tlearn: 0.8583288\ttest: 0.7928674\tbest: 0.7938239 (3069)\ttotal: 10m 14s\tremaining: 5m 23s\n"
     ]
    },
    {
     "name": "stdout",
     "output_type": "stream",
     "text": [
      "3300:\tlearn: 0.8589571\ttest: 0.7930606\tbest: 0.7938239 (3069)\ttotal: 10m 19s\tremaining: 5m 18s\n"
     ]
    },
    {
     "name": "stdout",
     "output_type": "stream",
     "text": [
      "3325:\tlearn: 0.8593039\ttest: 0.7931877\tbest: 0.7938239 (3069)\ttotal: 10m 24s\tremaining: 5m 14s\n"
     ]
    },
    {
     "name": "stdout",
     "output_type": "stream",
     "text": [
      "3350:\tlearn: 0.8596135\ttest: 0.7931953\tbest: 0.7938239 (3069)\ttotal: 10m 28s\tremaining: 5m 9s\n"
     ]
    },
    {
     "name": "stdout",
     "output_type": "stream",
     "text": [
      "3375:\tlearn: 0.8600864\ttest: 0.7930698\tbest: 0.7938239 (3069)\ttotal: 10m 33s\tremaining: 5m 4s\n"
     ]
    },
    {
     "name": "stdout",
     "output_type": "stream",
     "text": [
      "3400:\tlearn: 0.8604502\ttest: 0.7934169\tbest: 0.7938239 (3069)\ttotal: 10m 38s\tremaining: 5m\n"
     ]
    },
    {
     "name": "stdout",
     "output_type": "stream",
     "text": [
      "3425:\tlearn: 0.8608883\ttest: 0.7938209\tbest: 0.7939279 (3423)\ttotal: 10m 42s\tremaining: 4m 55s\n"
     ]
    },
    {
     "name": "stdout",
     "output_type": "stream",
     "text": [
      "3450:\tlearn: 0.8613702\ttest: 0.7938663\tbest: 0.7939279 (3423)\ttotal: 10m 47s\tremaining: 4m 50s\n"
     ]
    },
    {
     "name": "stdout",
     "output_type": "stream",
     "text": [
      "3475:\tlearn: 0.8617450\ttest: 0.7937067\tbest: 0.7939279 (3423)\ttotal: 10m 52s\tremaining: 4m 45s\n"
     ]
    },
    {
     "name": "stdout",
     "output_type": "stream",
     "text": [
      "3500:\tlearn: 0.8620639\ttest: 0.7939568\tbest: 0.7941084 (3489)\ttotal: 10m 56s\tremaining: 4m 41s\n"
     ]
    },
    {
     "name": "stdout",
     "output_type": "stream",
     "text": [
      "3525:\tlearn: 0.8624661\ttest: 0.7935631\tbest: 0.7941084 (3489)\ttotal: 11m 1s\tremaining: 4m 36s\n"
     ]
    },
    {
     "name": "stdout",
     "output_type": "stream",
     "text": [
      "3550:\tlearn: 0.8630299\ttest: 0.7937767\tbest: 0.7941084 (3489)\ttotal: 11m 6s\tremaining: 4m 31s\n"
     ]
    },
    {
     "name": "stdout",
     "output_type": "stream",
     "text": [
      "3575:\tlearn: 0.8633631\ttest: 0.7934525\tbest: 0.7941084 (3489)\ttotal: 11m 10s\tremaining: 4m 27s\n"
     ]
    },
    {
     "name": "stdout",
     "output_type": "stream",
     "text": [
      "3600:\tlearn: 0.8637961\ttest: 0.7933631\tbest: 0.7941084 (3489)\ttotal: 11m 15s\tremaining: 4m 22s\n"
     ]
    },
    {
     "name": "stdout",
     "output_type": "stream",
     "text": [
      "3625:\tlearn: 0.8641638\ttest: 0.7935569\tbest: 0.7941084 (3489)\ttotal: 11m 20s\tremaining: 4m 17s\n"
     ]
    },
    {
     "name": "stdout",
     "output_type": "stream",
     "text": [
      "3650:\tlearn: 0.8644984\ttest: 0.7934511\tbest: 0.7941084 (3489)\ttotal: 11m 25s\tremaining: 4m 13s\n"
     ]
    },
    {
     "name": "stdout",
     "output_type": "stream",
     "text": [
      "3675:\tlearn: 0.8649714\ttest: 0.7935366\tbest: 0.7941084 (3489)\ttotal: 11m 29s\tremaining: 4m 8s\n"
     ]
    },
    {
     "name": "stdout",
     "output_type": "stream",
     "text": [
      "3700:\tlearn: 0.8654838\ttest: 0.7933320\tbest: 0.7941084 (3489)\ttotal: 11m 34s\tremaining: 4m 3s\n"
     ]
    },
    {
     "name": "stdout",
     "output_type": "stream",
     "text": [
      "3725:\tlearn: 0.8659351\ttest: 0.7932036\tbest: 0.7941084 (3489)\ttotal: 11m 39s\tremaining: 3m 59s\n"
     ]
    },
    {
     "name": "stdout",
     "output_type": "stream",
     "text": [
      "3750:\tlearn: 0.8663533\ttest: 0.7932329\tbest: 0.7941084 (3489)\ttotal: 11m 43s\tremaining: 3m 54s\n"
     ]
    },
    {
     "name": "stdout",
     "output_type": "stream",
     "text": [
      "3775:\tlearn: 0.8666626\ttest: 0.7930031\tbest: 0.7941084 (3489)\ttotal: 11m 48s\tremaining: 3m 49s\n"
     ]
    },
    {
     "name": "stdout",
     "output_type": "stream",
     "text": [
      "3800:\tlearn: 0.8671226\ttest: 0.7930904\tbest: 0.7941084 (3489)\ttotal: 11m 53s\tremaining: 3m 44s\n"
     ]
    },
    {
     "name": "stdout",
     "output_type": "stream",
     "text": [
      "3825:\tlearn: 0.8675877\ttest: 0.7932440\tbest: 0.7941084 (3489)\ttotal: 11m 57s\tremaining: 3m 40s\n"
     ]
    },
    {
     "name": "stdout",
     "output_type": "stream",
     "text": [
      "3850:\tlearn: 0.8678902\ttest: 0.7932912\tbest: 0.7941084 (3489)\ttotal: 12m 2s\tremaining: 3m 35s\n"
     ]
    },
    {
     "name": "stdout",
     "output_type": "stream",
     "text": [
      "3875:\tlearn: 0.8683650\ttest: 0.7928989\tbest: 0.7941084 (3489)\ttotal: 12m 7s\tremaining: 3m 30s\n"
     ]
    },
    {
     "name": "stdout",
     "output_type": "stream",
     "text": [
      "3900:\tlearn: 0.8689045\ttest: 0.7927987\tbest: 0.7941084 (3489)\ttotal: 12m 11s\tremaining: 3m 26s\n"
     ]
    },
    {
     "name": "stdout",
     "output_type": "stream",
     "text": [
      "3925:\tlearn: 0.8692770\ttest: 0.7929261\tbest: 0.7941084 (3489)\ttotal: 12m 16s\tremaining: 3m 21s\n"
     ]
    },
    {
     "name": "stdout",
     "output_type": "stream",
     "text": [
      "3950:\tlearn: 0.8694899\ttest: 0.7929690\tbest: 0.7941084 (3489)\ttotal: 12m 21s\tremaining: 3m 16s\n"
     ]
    },
    {
     "name": "stdout",
     "output_type": "stream",
     "text": [
      "3975:\tlearn: 0.8696716\ttest: 0.7926938\tbest: 0.7941084 (3489)\ttotal: 12m 25s\tremaining: 3m 12s\n"
     ]
    },
    {
     "name": "stdout",
     "output_type": "stream",
     "text": [
      "4000:\tlearn: 0.8702985\ttest: 0.7927999\tbest: 0.7941084 (3489)\ttotal: 12m 30s\tremaining: 3m 7s\n"
     ]
    },
    {
     "name": "stdout",
     "output_type": "stream",
     "text": [
      "4025:\tlearn: 0.8705005\ttest: 0.7929025\tbest: 0.7941084 (3489)\ttotal: 12m 35s\tremaining: 3m 2s\n"
     ]
    },
    {
     "name": "stdout",
     "output_type": "stream",
     "text": [
      "4050:\tlearn: 0.8710474\ttest: 0.7927108\tbest: 0.7941084 (3489)\ttotal: 12m 39s\tremaining: 2m 58s\n"
     ]
    },
    {
     "name": "stdout",
     "output_type": "stream",
     "text": [
      "4075:\tlearn: 0.8714114\ttest: 0.7929403\tbest: 0.7941084 (3489)\ttotal: 12m 44s\tremaining: 2m 53s\n"
     ]
    },
    {
     "name": "stdout",
     "output_type": "stream",
     "text": [
      "4100:\tlearn: 0.8718520\ttest: 0.7931501\tbest: 0.7941084 (3489)\ttotal: 12m 49s\tremaining: 2m 48s\n"
     ]
    },
    {
     "name": "stdout",
     "output_type": "stream",
     "text": [
      "4125:\tlearn: 0.8722178\ttest: 0.7932613\tbest: 0.7941084 (3489)\ttotal: 12m 54s\tremaining: 2m 43s\n"
     ]
    },
    {
     "name": "stdout",
     "output_type": "stream",
     "text": [
      "4150:\tlearn: 0.8727890\ttest: 0.7935207\tbest: 0.7941084 (3489)\ttotal: 12m 58s\tremaining: 2m 39s\n"
     ]
    },
    {
     "name": "stdout",
     "output_type": "stream",
     "text": [
      "4175:\tlearn: 0.8730234\ttest: 0.7936295\tbest: 0.7941084 (3489)\ttotal: 13m 3s\tremaining: 2m 34s\n"
     ]
    },
    {
     "name": "stdout",
     "output_type": "stream",
     "text": [
      "4200:\tlearn: 0.8734115\ttest: 0.7933986\tbest: 0.7941084 (3489)\ttotal: 13m 8s\tremaining: 2m 29s\n"
     ]
    },
    {
     "name": "stdout",
     "output_type": "stream",
     "text": [
      "4225:\tlearn: 0.8737819\ttest: 0.7932368\tbest: 0.7941084 (3489)\ttotal: 13m 12s\tremaining: 2m 25s\n"
     ]
    },
    {
     "name": "stdout",
     "output_type": "stream",
     "text": [
      "4250:\tlearn: 0.8743946\ttest: 0.7934043\tbest: 0.7941084 (3489)\ttotal: 13m 17s\tremaining: 2m 20s\n"
     ]
    },
    {
     "name": "stdout",
     "output_type": "stream",
     "text": [
      "4275:\tlearn: 0.8748168\ttest: 0.7929822\tbest: 0.7941084 (3489)\ttotal: 13m 21s\tremaining: 2m 15s\n"
     ]
    },
    {
     "name": "stdout",
     "output_type": "stream",
     "text": [
      "4300:\tlearn: 0.8750561\ttest: 0.7936171\tbest: 0.7941084 (3489)\ttotal: 13m 26s\tremaining: 2m 11s\n"
     ]
    },
    {
     "name": "stdout",
     "output_type": "stream",
     "text": [
      "4325:\tlearn: 0.8754813\ttest: 0.7937479\tbest: 0.7941084 (3489)\ttotal: 13m 31s\tremaining: 2m 6s\n"
     ]
    },
    {
     "name": "stdout",
     "output_type": "stream",
     "text": [
      "4350:\tlearn: 0.8759206\ttest: 0.7936040\tbest: 0.7941084 (3489)\ttotal: 13m 36s\tremaining: 2m 1s\n"
     ]
    },
    {
     "name": "stdout",
     "output_type": "stream",
     "text": [
      "4375:\tlearn: 0.8762415\ttest: 0.7936693\tbest: 0.7941084 (3489)\ttotal: 13m 40s\tremaining: 1m 57s\n"
     ]
    },
    {
     "name": "stdout",
     "output_type": "stream",
     "text": [
      "4400:\tlearn: 0.8766423\ttest: 0.7938641\tbest: 0.7941084 (3489)\ttotal: 13m 45s\tremaining: 1m 52s\n"
     ]
    },
    {
     "name": "stdout",
     "output_type": "stream",
     "text": [
      "4425:\tlearn: 0.8768994\ttest: 0.7938878\tbest: 0.7941084 (3489)\ttotal: 13m 50s\tremaining: 1m 47s\n"
     ]
    },
    {
     "name": "stdout",
     "output_type": "stream",
     "text": [
      "4450:\tlearn: 0.8772431\ttest: 0.7936114\tbest: 0.7941084 (3489)\ttotal: 13m 54s\tremaining: 1m 42s\n"
     ]
    },
    {
     "name": "stdout",
     "output_type": "stream",
     "text": [
      "4475:\tlearn: 0.8776181\ttest: 0.7940560\tbest: 0.7941084 (3489)\ttotal: 13m 59s\tremaining: 1m 38s\n"
     ]
    },
    {
     "name": "stdout",
     "output_type": "stream",
     "text": [
      "4500:\tlearn: 0.8780000\ttest: 0.7941807\tbest: 0.7943320 (4483)\ttotal: 14m 4s\tremaining: 1m 33s\n"
     ]
    },
    {
     "name": "stdout",
     "output_type": "stream",
     "text": [
      "4525:\tlearn: 0.8784199\ttest: 0.7940574\tbest: 0.7943320 (4483)\ttotal: 14m 8s\tremaining: 1m 28s\n"
     ]
    },
    {
     "name": "stdout",
     "output_type": "stream",
     "text": [
      "4550:\tlearn: 0.8786742\ttest: 0.7942487\tbest: 0.7943320 (4483)\ttotal: 14m 13s\tremaining: 1m 24s\n"
     ]
    },
    {
     "name": "stdout",
     "output_type": "stream",
     "text": [
      "4575:\tlearn: 0.8791845\ttest: 0.7940740\tbest: 0.7944116 (4568)\ttotal: 14m 18s\tremaining: 1m 19s\n"
     ]
    },
    {
     "name": "stdout",
     "output_type": "stream",
     "text": [
      "4600:\tlearn: 0.8795262\ttest: 0.7940553\tbest: 0.7944116 (4568)\ttotal: 14m 22s\tremaining: 1m 14s\n"
     ]
    },
    {
     "name": "stdout",
     "output_type": "stream",
     "text": [
      "4625:\tlearn: 0.8799561\ttest: 0.7939275\tbest: 0.7944116 (4568)\ttotal: 14m 27s\tremaining: 1m 10s\n"
     ]
    },
    {
     "name": "stdout",
     "output_type": "stream",
     "text": [
      "4650:\tlearn: 0.8803592\ttest: 0.7939106\tbest: 0.7944116 (4568)\ttotal: 14m 32s\tremaining: 1m 5s\n"
     ]
    },
    {
     "name": "stdout",
     "output_type": "stream",
     "text": [
      "4675:\tlearn: 0.8806709\ttest: 0.7936326\tbest: 0.7944116 (4568)\ttotal: 14m 36s\tremaining: 1m\n"
     ]
    },
    {
     "name": "stdout",
     "output_type": "stream",
     "text": [
      "4700:\tlearn: 0.8810846\ttest: 0.7936167\tbest: 0.7944116 (4568)\ttotal: 14m 41s\tremaining: 56.1s\n"
     ]
    },
    {
     "name": "stdout",
     "output_type": "stream",
     "text": [
      "4725:\tlearn: 0.8816189\ttest: 0.7935538\tbest: 0.7944116 (4568)\ttotal: 14m 46s\tremaining: 51.4s\n"
     ]
    },
    {
     "name": "stdout",
     "output_type": "stream",
     "text": [
      "4750:\tlearn: 0.8819001\ttest: 0.7933050\tbest: 0.7944116 (4568)\ttotal: 14m 51s\tremaining: 46.7s\n"
     ]
    },
    {
     "name": "stdout",
     "output_type": "stream",
     "text": [
      "4775:\tlearn: 0.8822709\ttest: 0.7931244\tbest: 0.7944116 (4568)\ttotal: 14m 55s\tremaining: 42s\n"
     ]
    },
    {
     "name": "stdout",
     "output_type": "stream",
     "text": [
      "4800:\tlearn: 0.8827154\ttest: 0.7932521\tbest: 0.7944116 (4568)\ttotal: 15m\tremaining: 37.3s\n"
     ]
    },
    {
     "name": "stdout",
     "output_type": "stream",
     "text": [
      "4825:\tlearn: 0.8829716\ttest: 0.7933129\tbest: 0.7944116 (4568)\ttotal: 15m 5s\tremaining: 32.6s\n"
     ]
    },
    {
     "name": "stdout",
     "output_type": "stream",
     "text": [
      "4850:\tlearn: 0.8832972\ttest: 0.7933086\tbest: 0.7944116 (4568)\ttotal: 15m 9s\tremaining: 27.9s\n"
     ]
    },
    {
     "name": "stdout",
     "output_type": "stream",
     "text": [
      "4875:\tlearn: 0.8836044\ttest: 0.7926717\tbest: 0.7944116 (4568)\ttotal: 15m 14s\tremaining: 23.3s\n"
     ]
    },
    {
     "name": "stdout",
     "output_type": "stream",
     "text": [
      "4900:\tlearn: 0.8839671\ttest: 0.7928022\tbest: 0.7944116 (4568)\ttotal: 15m 19s\tremaining: 18.6s\n"
     ]
    },
    {
     "name": "stdout",
     "output_type": "stream",
     "text": [
      "4925:\tlearn: 0.8844114\ttest: 0.7929541\tbest: 0.7944116 (4568)\ttotal: 15m 23s\tremaining: 13.9s\n"
     ]
    },
    {
     "name": "stdout",
     "output_type": "stream",
     "text": [
      "4950:\tlearn: 0.8848086\ttest: 0.7927432\tbest: 0.7944116 (4568)\ttotal: 15m 28s\tremaining: 9.19s\n"
     ]
    },
    {
     "name": "stdout",
     "output_type": "stream",
     "text": [
      "4975:\tlearn: 0.8852584\ttest: 0.7926960\tbest: 0.7944116 (4568)\ttotal: 15m 33s\tremaining: 4.5s\n"
     ]
    },
    {
     "name": "stdout",
     "output_type": "stream",
     "text": [
      "4999:\tlearn: 0.8856400\ttest: 0.7927969\tbest: 0.7944116 (4568)\ttotal: 15m 37s\tremaining: 0us\n",
      "\n",
      "bestTest = 0.7944116446\n",
      "bestIteration = 4568\n",
      "\n"
     ]
    },
    {
     "name": "stdout",
     "output_type": "stream",
     "text": [
      "######################################## training model 2/5 ########################################\n"
     ]
    },
    {
     "name": "stdout",
     "output_type": "stream",
     "text": [
      "0:\tlearn: 0.5727982\ttest: 0.5799351\tbest: 0.5799351 (0)\ttotal: 507ms\tremaining: 42m 15s\n"
     ]
    },
    {
     "name": "stdout",
     "output_type": "stream",
     "text": [
      "25:\tlearn: 0.7279152\ttest: 0.7266238\tbest: 0.7266238 (25)\ttotal: 5.08s\tremaining: 16m 11s\n"
     ]
    },
    {
     "name": "stdout",
     "output_type": "stream",
     "text": [
      "50:\tlearn: 0.7440499\ttest: 0.7418737\tbest: 0.7418737 (50)\ttotal: 9.78s\tremaining: 15m 49s\n"
     ]
    },
    {
     "name": "stdout",
     "output_type": "stream",
     "text": [
      "75:\tlearn: 0.7524099\ttest: 0.7479559\tbest: 0.7479559 (75)\ttotal: 14.5s\tremaining: 15m 36s\n"
     ]
    },
    {
     "name": "stdout",
     "output_type": "stream",
     "text": [
      "100:\tlearn: 0.7558254\ttest: 0.7525576\tbest: 0.7525576 (100)\ttotal: 19.2s\tremaining: 15m 29s\n"
     ]
    },
    {
     "name": "stdout",
     "output_type": "stream",
     "text": [
      "125:\tlearn: 0.7594230\ttest: 0.7553361\tbest: 0.7553662 (119)\ttotal: 23.9s\tremaining: 15m 22s\n"
     ]
    },
    {
     "name": "stdout",
     "output_type": "stream",
     "text": [
      "150:\tlearn: 0.7611040\ttest: 0.7567110\tbest: 0.7569397 (147)\ttotal: 28.6s\tremaining: 15m 17s\n"
     ]
    },
    {
     "name": "stdout",
     "output_type": "stream",
     "text": [
      "175:\tlearn: 0.7634184\ttest: 0.7585781\tbest: 0.7587112 (172)\ttotal: 33.2s\tremaining: 15m 10s\n"
     ]
    },
    {
     "name": "stdout",
     "output_type": "stream",
     "text": [
      "200:\tlearn: 0.7652146\ttest: 0.7602089\tbest: 0.7603186 (198)\ttotal: 37.9s\tremaining: 15m 4s\n"
     ]
    },
    {
     "name": "stdout",
     "output_type": "stream",
     "text": [
      "225:\tlearn: 0.7666902\ttest: 0.7618585\tbest: 0.7619641 (223)\ttotal: 42.5s\tremaining: 14m 58s\n"
     ]
    },
    {
     "name": "stdout",
     "output_type": "stream",
     "text": [
      "250:\tlearn: 0.7681268\ttest: 0.7631799\tbest: 0.7631799 (250)\ttotal: 47.3s\tremaining: 14m 54s\n"
     ]
    },
    {
     "name": "stdout",
     "output_type": "stream",
     "text": [
      "275:\tlearn: 0.7701038\ttest: 0.7645784\tbest: 0.7645784 (275)\ttotal: 52s\tremaining: 14m 49s\n"
     ]
    },
    {
     "name": "stdout",
     "output_type": "stream",
     "text": [
      "300:\tlearn: 0.7731882\ttest: 0.7667325\tbest: 0.7672317 (298)\ttotal: 56.7s\tremaining: 14m 44s\n"
     ]
    },
    {
     "name": "stdout",
     "output_type": "stream",
     "text": [
      "325:\tlearn: 0.7778842\ttest: 0.7702787\tbest: 0.7703333 (320)\ttotal: 1m 1s\tremaining: 14m 40s\n"
     ]
    },
    {
     "name": "stdout",
     "output_type": "stream",
     "text": [
      "350:\tlearn: 0.7819403\ttest: 0.7745780\tbest: 0.7745780 (350)\ttotal: 1m 6s\tremaining: 14m 36s\n"
     ]
    },
    {
     "name": "stdout",
     "output_type": "stream",
     "text": [
      "375:\tlearn: 0.7840275\ttest: 0.7758679\tbest: 0.7763277 (368)\ttotal: 1m 10s\tremaining: 14m 31s\n"
     ]
    },
    {
     "name": "stdout",
     "output_type": "stream",
     "text": [
      "400:\tlearn: 0.7867222\ttest: 0.7775611\tbest: 0.7775611 (400)\ttotal: 1m 15s\tremaining: 14m 26s\n"
     ]
    },
    {
     "name": "stdout",
     "output_type": "stream",
     "text": [
      "425:\tlearn: 0.7886467\ttest: 0.7792121\tbest: 0.7792121 (425)\ttotal: 1m 20s\tremaining: 14m 21s\n"
     ]
    },
    {
     "name": "stdout",
     "output_type": "stream",
     "text": [
      "450:\tlearn: 0.7902673\ttest: 0.7807357\tbest: 0.7807357 (450)\ttotal: 1m 24s\tremaining: 14m 17s\n"
     ]
    },
    {
     "name": "stdout",
     "output_type": "stream",
     "text": [
      "475:\tlearn: 0.7915340\ttest: 0.7811999\tbest: 0.7811999 (475)\ttotal: 1m 29s\tremaining: 14m 12s\n"
     ]
    },
    {
     "name": "stdout",
     "output_type": "stream",
     "text": [
      "500:\tlearn: 0.7928910\ttest: 0.7819588\tbest: 0.7820603 (499)\ttotal: 1m 34s\tremaining: 14m 7s\n"
     ]
    },
    {
     "name": "stdout",
     "output_type": "stream",
     "text": [
      "525:\tlearn: 0.7942444\ttest: 0.7825412\tbest: 0.7825412 (525)\ttotal: 1m 39s\tremaining: 14m 2s\n"
     ]
    },
    {
     "name": "stdout",
     "output_type": "stream",
     "text": [
      "550:\tlearn: 0.7953985\ttest: 0.7830309\tbest: 0.7833836 (549)\ttotal: 1m 43s\tremaining: 13m 58s\n"
     ]
    },
    {
     "name": "stdout",
     "output_type": "stream",
     "text": [
      "575:\tlearn: 0.7962617\ttest: 0.7830640\tbest: 0.7836093 (560)\ttotal: 1m 48s\tremaining: 13m 53s\n"
     ]
    },
    {
     "name": "stdout",
     "output_type": "stream",
     "text": [
      "600:\tlearn: 0.7973761\ttest: 0.7827960\tbest: 0.7836093 (560)\ttotal: 1m 53s\tremaining: 13m 48s\n"
     ]
    },
    {
     "name": "stdout",
     "output_type": "stream",
     "text": [
      "625:\tlearn: 0.7983242\ttest: 0.7835447\tbest: 0.7837065 (623)\ttotal: 1m 57s\tremaining: 13m 43s\n"
     ]
    },
    {
     "name": "stdout",
     "output_type": "stream",
     "text": [
      "650:\tlearn: 0.7989582\ttest: 0.7833525\tbest: 0.7837065 (623)\ttotal: 2m 2s\tremaining: 13m 39s\n"
     ]
    },
    {
     "name": "stdout",
     "output_type": "stream",
     "text": [
      "675:\tlearn: 0.8000065\ttest: 0.7839689\tbest: 0.7841238 (671)\ttotal: 2m 7s\tremaining: 13m 34s\n"
     ]
    },
    {
     "name": "stdout",
     "output_type": "stream",
     "text": [
      "700:\tlearn: 0.8007592\ttest: 0.7837918\tbest: 0.7844506 (685)\ttotal: 2m 12s\tremaining: 13m 30s\n"
     ]
    },
    {
     "name": "stdout",
     "output_type": "stream",
     "text": [
      "725:\tlearn: 0.8014568\ttest: 0.7844290\tbest: 0.7844659 (723)\ttotal: 2m 16s\tremaining: 13m 25s\n"
     ]
    },
    {
     "name": "stdout",
     "output_type": "stream",
     "text": [
      "750:\tlearn: 0.8026348\ttest: 0.7845449\tbest: 0.7847848 (732)\ttotal: 2m 21s\tremaining: 13m 20s\n"
     ]
    },
    {
     "name": "stdout",
     "output_type": "stream",
     "text": [
      "775:\tlearn: 0.8034182\ttest: 0.7839360\tbest: 0.7847848 (732)\ttotal: 2m 26s\tremaining: 13m 15s\n"
     ]
    },
    {
     "name": "stdout",
     "output_type": "stream",
     "text": [
      "800:\tlearn: 0.8043292\ttest: 0.7843752\tbest: 0.7847848 (732)\ttotal: 2m 30s\tremaining: 13m 10s\n"
     ]
    },
    {
     "name": "stdout",
     "output_type": "stream",
     "text": [
      "825:\tlearn: 0.8050802\ttest: 0.7841885\tbest: 0.7847848 (732)\ttotal: 2m 35s\tremaining: 13m 5s\n"
     ]
    },
    {
     "name": "stdout",
     "output_type": "stream",
     "text": [
      "850:\tlearn: 0.8057016\ttest: 0.7845916\tbest: 0.7847848 (732)\ttotal: 2m 40s\tremaining: 13m 1s\n"
     ]
    },
    {
     "name": "stdout",
     "output_type": "stream",
     "text": [
      "875:\tlearn: 0.8067987\ttest: 0.7851778\tbest: 0.7851778 (875)\ttotal: 2m 44s\tremaining: 12m 56s\n"
     ]
    },
    {
     "name": "stdout",
     "output_type": "stream",
     "text": [
      "900:\tlearn: 0.8072822\ttest: 0.7855335\tbest: 0.7855335 (900)\ttotal: 2m 49s\tremaining: 12m 51s\n"
     ]
    },
    {
     "name": "stdout",
     "output_type": "stream",
     "text": [
      "925:\tlearn: 0.8083102\ttest: 0.7854787\tbest: 0.7858073 (910)\ttotal: 2m 54s\tremaining: 12m 47s\n"
     ]
    },
    {
     "name": "stdout",
     "output_type": "stream",
     "text": [
      "950:\tlearn: 0.8089598\ttest: 0.7855598\tbest: 0.7858073 (910)\ttotal: 2m 59s\tremaining: 12m 42s\n"
     ]
    },
    {
     "name": "stdout",
     "output_type": "stream",
     "text": [
      "975:\tlearn: 0.8096844\ttest: 0.7857968\tbest: 0.7859969 (968)\ttotal: 3m 3s\tremaining: 12m 37s\n"
     ]
    },
    {
     "name": "stdout",
     "output_type": "stream",
     "text": [
      "1000:\tlearn: 0.8101300\ttest: 0.7862080\tbest: 0.7863798 (983)\ttotal: 3m 8s\tremaining: 12m 32s\n"
     ]
    },
    {
     "name": "stdout",
     "output_type": "stream",
     "text": [
      "1025:\tlearn: 0.8109736\ttest: 0.7862580\tbest: 0.7863798 (983)\ttotal: 3m 13s\tremaining: 12m 28s\n"
     ]
    },
    {
     "name": "stdout",
     "output_type": "stream",
     "text": [
      "1050:\tlearn: 0.8116927\ttest: 0.7862902\tbest: 0.7863798 (983)\ttotal: 3m 17s\tremaining: 12m 23s\n"
     ]
    },
    {
     "name": "stdout",
     "output_type": "stream",
     "text": [
      "1075:\tlearn: 0.8122958\ttest: 0.7866905\tbest: 0.7870647 (1066)\ttotal: 3m 22s\tremaining: 12m 18s\n"
     ]
    },
    {
     "name": "stdout",
     "output_type": "stream",
     "text": [
      "1100:\tlearn: 0.8128813\ttest: 0.7868396\tbest: 0.7870647 (1066)\ttotal: 3m 27s\tremaining: 12m 13s\n"
     ]
    },
    {
     "name": "stdout",
     "output_type": "stream",
     "text": [
      "1125:\tlearn: 0.8136381\ttest: 0.7869552\tbest: 0.7870809 (1122)\ttotal: 3m 31s\tremaining: 12m 9s\n"
     ]
    },
    {
     "name": "stdout",
     "output_type": "stream",
     "text": [
      "1150:\tlearn: 0.8142741\ttest: 0.7870852\tbest: 0.7872297 (1148)\ttotal: 3m 36s\tremaining: 12m 4s\n"
     ]
    },
    {
     "name": "stdout",
     "output_type": "stream",
     "text": [
      "1175:\tlearn: 0.8150693\ttest: 0.7869895\tbest: 0.7872297 (1148)\ttotal: 3m 41s\tremaining: 11m 59s\n"
     ]
    },
    {
     "name": "stdout",
     "output_type": "stream",
     "text": [
      "1200:\tlearn: 0.8155557\ttest: 0.7871182\tbest: 0.7872653 (1197)\ttotal: 3m 46s\tremaining: 11m 55s\n"
     ]
    },
    {
     "name": "stdout",
     "output_type": "stream",
     "text": [
      "1225:\tlearn: 0.8162763\ttest: 0.7870679\tbest: 0.7873392 (1220)\ttotal: 3m 50s\tremaining: 11m 50s\n"
     ]
    },
    {
     "name": "stdout",
     "output_type": "stream",
     "text": [
      "1250:\tlearn: 0.8170801\ttest: 0.7871472\tbest: 0.7873392 (1220)\ttotal: 3m 55s\tremaining: 11m 45s\n"
     ]
    },
    {
     "name": "stdout",
     "output_type": "stream",
     "text": [
      "1275:\tlearn: 0.8175913\ttest: 0.7871911\tbest: 0.7873780 (1272)\ttotal: 4m\tremaining: 11m 40s\n"
     ]
    },
    {
     "name": "stdout",
     "output_type": "stream",
     "text": [
      "1300:\tlearn: 0.8182033\ttest: 0.7874099\tbest: 0.7875519 (1298)\ttotal: 4m 4s\tremaining: 11m 35s\n"
     ]
    },
    {
     "name": "stdout",
     "output_type": "stream",
     "text": [
      "1325:\tlearn: 0.8186747\ttest: 0.7880571\tbest: 0.7881559 (1320)\ttotal: 4m 9s\tremaining: 11m 31s\n"
     ]
    },
    {
     "name": "stdout",
     "output_type": "stream",
     "text": [
      "1350:\tlearn: 0.8192712\ttest: 0.7879321\tbest: 0.7882276 (1331)\ttotal: 4m 14s\tremaining: 11m 26s\n"
     ]
    },
    {
     "name": "stdout",
     "output_type": "stream",
     "text": [
      "1375:\tlearn: 0.8200198\ttest: 0.7878924\tbest: 0.7882276 (1331)\ttotal: 4m 18s\tremaining: 11m 21s\n"
     ]
    },
    {
     "name": "stdout",
     "output_type": "stream",
     "text": [
      "1400:\tlearn: 0.8206112\ttest: 0.7880557\tbest: 0.7882276 (1331)\ttotal: 4m 23s\tremaining: 11m 17s\n"
     ]
    },
    {
     "name": "stdout",
     "output_type": "stream",
     "text": [
      "1425:\tlearn: 0.8211320\ttest: 0.7884856\tbest: 0.7885893 (1422)\ttotal: 4m 28s\tremaining: 11m 12s\n"
     ]
    },
    {
     "name": "stdout",
     "output_type": "stream",
     "text": [
      "1450:\tlearn: 0.8218423\ttest: 0.7886121\tbest: 0.7886616 (1434)\ttotal: 4m 32s\tremaining: 11m 7s\n"
     ]
    },
    {
     "name": "stdout",
     "output_type": "stream",
     "text": [
      "1475:\tlearn: 0.8222608\ttest: 0.7886903\tbest: 0.7889169 (1464)\ttotal: 4m 37s\tremaining: 11m 2s\n"
     ]
    },
    {
     "name": "stdout",
     "output_type": "stream",
     "text": [
      "1500:\tlearn: 0.8227909\ttest: 0.7887957\tbest: 0.7889169 (1464)\ttotal: 4m 42s\tremaining: 10m 58s\n"
     ]
    },
    {
     "name": "stdout",
     "output_type": "stream",
     "text": [
      "1525:\tlearn: 0.8232799\ttest: 0.7887042\tbest: 0.7889169 (1464)\ttotal: 4m 47s\tremaining: 10m 53s\n"
     ]
    },
    {
     "name": "stdout",
     "output_type": "stream",
     "text": [
      "1550:\tlearn: 0.8236435\ttest: 0.7887366\tbest: 0.7889169 (1464)\ttotal: 4m 51s\tremaining: 10m 48s\n"
     ]
    },
    {
     "name": "stdout",
     "output_type": "stream",
     "text": [
      "1575:\tlearn: 0.8242593\ttest: 0.7891787\tbest: 0.7891787 (1575)\ttotal: 4m 56s\tremaining: 10m 44s\n"
     ]
    },
    {
     "name": "stdout",
     "output_type": "stream",
     "text": [
      "1600:\tlearn: 0.8249910\ttest: 0.7890481\tbest: 0.7891787 (1575)\ttotal: 5m 1s\tremaining: 10m 39s\n"
     ]
    },
    {
     "name": "stdout",
     "output_type": "stream",
     "text": [
      "1625:\tlearn: 0.8252217\ttest: 0.7892285\tbest: 0.7893326 (1624)\ttotal: 5m 5s\tremaining: 10m 34s\n"
     ]
    },
    {
     "name": "stdout",
     "output_type": "stream",
     "text": [
      "1650:\tlearn: 0.8260098\ttest: 0.7892250\tbest: 0.7893336 (1626)\ttotal: 5m 10s\tremaining: 10m 29s\n"
     ]
    },
    {
     "name": "stdout",
     "output_type": "stream",
     "text": [
      "1675:\tlearn: 0.8265396\ttest: 0.7888110\tbest: 0.7893336 (1626)\ttotal: 5m 15s\tremaining: 10m 25s\n"
     ]
    },
    {
     "name": "stdout",
     "output_type": "stream",
     "text": [
      "1700:\tlearn: 0.8268466\ttest: 0.7892368\tbest: 0.7893336 (1626)\ttotal: 5m 19s\tremaining: 10m 20s\n"
     ]
    },
    {
     "name": "stdout",
     "output_type": "stream",
     "text": [
      "1725:\tlearn: 0.8274970\ttest: 0.7888917\tbest: 0.7894757 (1705)\ttotal: 5m 24s\tremaining: 10m 15s\n"
     ]
    },
    {
     "name": "stdout",
     "output_type": "stream",
     "text": [
      "1750:\tlearn: 0.8280136\ttest: 0.7888742\tbest: 0.7894757 (1705)\ttotal: 5m 29s\tremaining: 10m 11s\n"
     ]
    },
    {
     "name": "stdout",
     "output_type": "stream",
     "text": [
      "1775:\tlearn: 0.8284665\ttest: 0.7888127\tbest: 0.7894757 (1705)\ttotal: 5m 34s\tremaining: 10m 6s\n"
     ]
    },
    {
     "name": "stdout",
     "output_type": "stream",
     "text": [
      "1800:\tlearn: 0.8290811\ttest: 0.7885488\tbest: 0.7894757 (1705)\ttotal: 5m 38s\tremaining: 10m 1s\n"
     ]
    },
    {
     "name": "stdout",
     "output_type": "stream",
     "text": [
      "1825:\tlearn: 0.8297025\ttest: 0.7887056\tbest: 0.7894757 (1705)\ttotal: 5m 43s\tremaining: 9m 56s\n"
     ]
    },
    {
     "name": "stdout",
     "output_type": "stream",
     "text": [
      "1850:\tlearn: 0.8301379\ttest: 0.7886971\tbest: 0.7894757 (1705)\ttotal: 5m 48s\tremaining: 9m 52s\n"
     ]
    },
    {
     "name": "stdout",
     "output_type": "stream",
     "text": [
      "1875:\tlearn: 0.8306942\ttest: 0.7891707\tbest: 0.7894757 (1705)\ttotal: 5m 52s\tremaining: 9m 47s\n"
     ]
    },
    {
     "name": "stdout",
     "output_type": "stream",
     "text": [
      "1900:\tlearn: 0.8311270\ttest: 0.7890347\tbest: 0.7894757 (1705)\ttotal: 5m 57s\tremaining: 9m 42s\n"
     ]
    },
    {
     "name": "stdout",
     "output_type": "stream",
     "text": [
      "1925:\tlearn: 0.8317107\ttest: 0.7893212\tbest: 0.7894757 (1705)\ttotal: 6m 2s\tremaining: 9m 38s\n"
     ]
    },
    {
     "name": "stdout",
     "output_type": "stream",
     "text": [
      "1950:\tlearn: 0.8320218\ttest: 0.7894084\tbest: 0.7897025 (1942)\ttotal: 6m 6s\tremaining: 9m 33s\n"
     ]
    },
    {
     "name": "stdout",
     "output_type": "stream",
     "text": [
      "1975:\tlearn: 0.8325050\ttest: 0.7894143\tbest: 0.7897025 (1942)\ttotal: 6m 11s\tremaining: 9m 28s\n"
     ]
    },
    {
     "name": "stdout",
     "output_type": "stream",
     "text": [
      "2000:\tlearn: 0.8330564\ttest: 0.7893841\tbest: 0.7897025 (1942)\ttotal: 6m 16s\tremaining: 9m 23s\n"
     ]
    },
    {
     "name": "stdout",
     "output_type": "stream",
     "text": [
      "2025:\tlearn: 0.8334836\ttest: 0.7895748\tbest: 0.7897447 (2005)\ttotal: 6m 20s\tremaining: 9m 19s\n"
     ]
    },
    {
     "name": "stdout",
     "output_type": "stream",
     "text": [
      "2050:\tlearn: 0.8340582\ttest: 0.7895589\tbest: 0.7897447 (2005)\ttotal: 6m 25s\tremaining: 9m 14s\n"
     ]
    },
    {
     "name": "stdout",
     "output_type": "stream",
     "text": [
      "2075:\tlearn: 0.8346192\ttest: 0.7893824\tbest: 0.7897447 (2005)\ttotal: 6m 30s\tremaining: 9m 9s\n"
     ]
    },
    {
     "name": "stdout",
     "output_type": "stream",
     "text": [
      "2100:\tlearn: 0.8351547\ttest: 0.7890491\tbest: 0.7897447 (2005)\ttotal: 6m 34s\tremaining: 9m 4s\n"
     ]
    },
    {
     "name": "stdout",
     "output_type": "stream",
     "text": [
      "2125:\tlearn: 0.8356583\ttest: 0.7894401\tbest: 0.7897447 (2005)\ttotal: 6m 39s\tremaining: 9m\n"
     ]
    },
    {
     "name": "stdout",
     "output_type": "stream",
     "text": [
      "2150:\tlearn: 0.8361925\ttest: 0.7896948\tbest: 0.7897447 (2005)\ttotal: 6m 44s\tremaining: 8m 55s\n"
     ]
    },
    {
     "name": "stdout",
     "output_type": "stream",
     "text": [
      "2175:\tlearn: 0.8367858\ttest: 0.7895549\tbest: 0.7897792 (2151)\ttotal: 6m 49s\tremaining: 8m 50s\n"
     ]
    },
    {
     "name": "stdout",
     "output_type": "stream",
     "text": [
      "2200:\tlearn: 0.8371923\ttest: 0.7896412\tbest: 0.7898114 (2197)\ttotal: 6m 53s\tremaining: 8m 46s\n"
     ]
    },
    {
     "name": "stdout",
     "output_type": "stream",
     "text": [
      "2225:\tlearn: 0.8378433\ttest: 0.7898587\tbest: 0.7900451 (2215)\ttotal: 6m 58s\tremaining: 8m 41s\n"
     ]
    },
    {
     "name": "stdout",
     "output_type": "stream",
     "text": [
      "2250:\tlearn: 0.8383230\ttest: 0.7894151\tbest: 0.7900451 (2215)\ttotal: 7m 3s\tremaining: 8m 36s\n"
     ]
    },
    {
     "name": "stdout",
     "output_type": "stream",
     "text": [
      "2275:\tlearn: 0.8387036\ttest: 0.7900351\tbest: 0.7900559 (2274)\ttotal: 7m 7s\tremaining: 8m 31s\n"
     ]
    },
    {
     "name": "stdout",
     "output_type": "stream",
     "text": [
      "2300:\tlearn: 0.8390604\ttest: 0.7899300\tbest: 0.7900559 (2274)\ttotal: 7m 12s\tremaining: 8m 27s\n"
     ]
    },
    {
     "name": "stdout",
     "output_type": "stream",
     "text": [
      "2325:\tlearn: 0.8394226\ttest: 0.7901030\tbest: 0.7901405 (2310)\ttotal: 7m 17s\tremaining: 8m 22s\n"
     ]
    },
    {
     "name": "stdout",
     "output_type": "stream",
     "text": [
      "2350:\tlearn: 0.8399677\ttest: 0.7901291\tbest: 0.7902330 (2346)\ttotal: 7m 21s\tremaining: 8m 17s\n"
     ]
    },
    {
     "name": "stdout",
     "output_type": "stream",
     "text": [
      "2375:\tlearn: 0.8404816\ttest: 0.7899484\tbest: 0.7903606 (2355)\ttotal: 7m 26s\tremaining: 8m 13s\n"
     ]
    },
    {
     "name": "stdout",
     "output_type": "stream",
     "text": [
      "2400:\tlearn: 0.8408096\ttest: 0.7902656\tbest: 0.7903606 (2355)\ttotal: 7m 31s\tremaining: 8m 8s\n"
     ]
    },
    {
     "name": "stdout",
     "output_type": "stream",
     "text": [
      "2425:\tlearn: 0.8414212\ttest: 0.7903157\tbest: 0.7905858 (2418)\ttotal: 7m 35s\tremaining: 8m 3s\n"
     ]
    },
    {
     "name": "stdout",
     "output_type": "stream",
     "text": [
      "2450:\tlearn: 0.8418422\ttest: 0.7903602\tbest: 0.7906308 (2444)\ttotal: 7m 40s\tremaining: 7m 59s\n"
     ]
    },
    {
     "name": "stdout",
     "output_type": "stream",
     "text": [
      "2475:\tlearn: 0.8421618\ttest: 0.7904318\tbest: 0.7906308 (2444)\ttotal: 7m 45s\tremaining: 7m 54s\n"
     ]
    },
    {
     "name": "stdout",
     "output_type": "stream",
     "text": [
      "2500:\tlearn: 0.8429256\ttest: 0.7907197\tbest: 0.7908884 (2493)\ttotal: 7m 49s\tremaining: 7m 49s\n"
     ]
    },
    {
     "name": "stdout",
     "output_type": "stream",
     "text": [
      "2525:\tlearn: 0.8432488\ttest: 0.7908747\tbest: 0.7911459 (2515)\ttotal: 7m 54s\tremaining: 7m 44s\n"
     ]
    },
    {
     "name": "stdout",
     "output_type": "stream",
     "text": [
      "2550:\tlearn: 0.8437677\ttest: 0.7908988\tbest: 0.7911459 (2515)\ttotal: 7m 59s\tremaining: 7m 40s\n"
     ]
    },
    {
     "name": "stdout",
     "output_type": "stream",
     "text": [
      "2575:\tlearn: 0.8444162\ttest: 0.7912486\tbest: 0.7912486 (2575)\ttotal: 8m 4s\tremaining: 7m 35s\n"
     ]
    },
    {
     "name": "stdout",
     "output_type": "stream",
     "text": [
      "2600:\tlearn: 0.8447811\ttest: 0.7909837\tbest: 0.7914874 (2592)\ttotal: 8m 8s\tremaining: 7m 30s\n"
     ]
    },
    {
     "name": "stdout",
     "output_type": "stream",
     "text": [
      "2625:\tlearn: 0.8454127\ttest: 0.7909667\tbest: 0.7914874 (2592)\ttotal: 8m 13s\tremaining: 7m 26s\n"
     ]
    },
    {
     "name": "stdout",
     "output_type": "stream",
     "text": [
      "2650:\tlearn: 0.8457510\ttest: 0.7907629\tbest: 0.7914874 (2592)\ttotal: 8m 18s\tremaining: 7m 21s\n"
     ]
    },
    {
     "name": "stdout",
     "output_type": "stream",
     "text": [
      "2675:\tlearn: 0.8464198\ttest: 0.7906796\tbest: 0.7914874 (2592)\ttotal: 8m 22s\tremaining: 7m 16s\n"
     ]
    },
    {
     "name": "stdout",
     "output_type": "stream",
     "text": [
      "2700:\tlearn: 0.8468847\ttest: 0.7906686\tbest: 0.7914874 (2592)\ttotal: 8m 27s\tremaining: 7m 12s\n"
     ]
    },
    {
     "name": "stdout",
     "output_type": "stream",
     "text": [
      "2725:\tlearn: 0.8475454\ttest: 0.7906097\tbest: 0.7914874 (2592)\ttotal: 8m 32s\tremaining: 7m 7s\n"
     ]
    },
    {
     "name": "stdout",
     "output_type": "stream",
     "text": [
      "2750:\tlearn: 0.8477252\ttest: 0.7906303\tbest: 0.7914874 (2592)\ttotal: 8m 36s\tremaining: 7m 2s\n"
     ]
    },
    {
     "name": "stdout",
     "output_type": "stream",
     "text": [
      "2775:\tlearn: 0.8480283\ttest: 0.7903666\tbest: 0.7914874 (2592)\ttotal: 8m 41s\tremaining: 6m 57s\n"
     ]
    },
    {
     "name": "stdout",
     "output_type": "stream",
     "text": [
      "2800:\tlearn: 0.8487517\ttest: 0.7907864\tbest: 0.7914874 (2592)\ttotal: 8m 46s\tremaining: 6m 53s\n"
     ]
    },
    {
     "name": "stdout",
     "output_type": "stream",
     "text": [
      "2825:\tlearn: 0.8492092\ttest: 0.7906903\tbest: 0.7914874 (2592)\ttotal: 8m 50s\tremaining: 6m 48s\n"
     ]
    },
    {
     "name": "stdout",
     "output_type": "stream",
     "text": [
      "2850:\tlearn: 0.8497497\ttest: 0.7905885\tbest: 0.7914874 (2592)\ttotal: 8m 55s\tremaining: 6m 43s\n"
     ]
    },
    {
     "name": "stdout",
     "output_type": "stream",
     "text": [
      "2875:\tlearn: 0.8503533\ttest: 0.7903796\tbest: 0.7914874 (2592)\ttotal: 9m\tremaining: 6m 39s\n"
     ]
    },
    {
     "name": "stdout",
     "output_type": "stream",
     "text": [
      "2900:\tlearn: 0.8506338\ttest: 0.7903777\tbest: 0.7914874 (2592)\ttotal: 9m 5s\tremaining: 6m 34s\n"
     ]
    },
    {
     "name": "stdout",
     "output_type": "stream",
     "text": [
      "2925:\tlearn: 0.8512510\ttest: 0.7903640\tbest: 0.7914874 (2592)\ttotal: 9m 9s\tremaining: 6m 29s\n"
     ]
    },
    {
     "name": "stdout",
     "output_type": "stream",
     "text": [
      "2950:\tlearn: 0.8517073\ttest: 0.7902824\tbest: 0.7914874 (2592)\ttotal: 9m 14s\tremaining: 6m 24s\n"
     ]
    },
    {
     "name": "stdout",
     "output_type": "stream",
     "text": [
      "2975:\tlearn: 0.8521127\ttest: 0.7902233\tbest: 0.7914874 (2592)\ttotal: 9m 19s\tremaining: 6m 20s\n"
     ]
    },
    {
     "name": "stdout",
     "output_type": "stream",
     "text": [
      "3000:\tlearn: 0.8526782\ttest: 0.7903328\tbest: 0.7914874 (2592)\ttotal: 9m 23s\tremaining: 6m 15s\n"
     ]
    },
    {
     "name": "stdout",
     "output_type": "stream",
     "text": [
      "3025:\tlearn: 0.8528703\ttest: 0.7900183\tbest: 0.7914874 (2592)\ttotal: 9m 28s\tremaining: 6m 10s\n"
     ]
    },
    {
     "name": "stdout",
     "output_type": "stream",
     "text": [
      "3050:\tlearn: 0.8536560\ttest: 0.7903592\tbest: 0.7914874 (2592)\ttotal: 9m 33s\tremaining: 6m 6s\n"
     ]
    },
    {
     "name": "stdout",
     "output_type": "stream",
     "text": [
      "3075:\tlearn: 0.8541876\ttest: 0.7901868\tbest: 0.7914874 (2592)\ttotal: 9m 37s\tremaining: 6m 1s\n"
     ]
    },
    {
     "name": "stdout",
     "output_type": "stream",
     "text": [
      "3100:\tlearn: 0.8544892\ttest: 0.7901255\tbest: 0.7914874 (2592)\ttotal: 9m 42s\tremaining: 5m 56s\n"
     ]
    },
    {
     "name": "stdout",
     "output_type": "stream",
     "text": [
      "3125:\tlearn: 0.8549118\ttest: 0.7899178\tbest: 0.7914874 (2592)\ttotal: 9m 47s\tremaining: 5m 52s\n"
     ]
    },
    {
     "name": "stdout",
     "output_type": "stream",
     "text": [
      "3150:\tlearn: 0.8552271\ttest: 0.7903041\tbest: 0.7914874 (2592)\ttotal: 9m 51s\tremaining: 5m 47s\n"
     ]
    },
    {
     "name": "stdout",
     "output_type": "stream",
     "text": [
      "3175:\tlearn: 0.8557456\ttest: 0.7901349\tbest: 0.7914874 (2592)\ttotal: 9m 56s\tremaining: 5m 42s\n"
     ]
    },
    {
     "name": "stdout",
     "output_type": "stream",
     "text": [
      "3200:\tlearn: 0.8561083\ttest: 0.7900331\tbest: 0.7914874 (2592)\ttotal: 10m 1s\tremaining: 5m 37s\n"
     ]
    },
    {
     "name": "stdout",
     "output_type": "stream",
     "text": [
      "3225:\tlearn: 0.8564682\ttest: 0.7902692\tbest: 0.7914874 (2592)\ttotal: 10m 5s\tremaining: 5m 33s\n"
     ]
    },
    {
     "name": "stdout",
     "output_type": "stream",
     "text": [
      "3250:\tlearn: 0.8568946\ttest: 0.7905220\tbest: 0.7914874 (2592)\ttotal: 10m 10s\tremaining: 5m 28s\n"
     ]
    },
    {
     "name": "stdout",
     "output_type": "stream",
     "text": [
      "3275:\tlearn: 0.8570996\ttest: 0.7904193\tbest: 0.7914874 (2592)\ttotal: 10m 15s\tremaining: 5m 23s\n"
     ]
    },
    {
     "name": "stdout",
     "output_type": "stream",
     "text": [
      "3300:\tlearn: 0.8575966\ttest: 0.7904384\tbest: 0.7914874 (2592)\ttotal: 10m 19s\tremaining: 5m 19s\n"
     ]
    },
    {
     "name": "stdout",
     "output_type": "stream",
     "text": [
      "3325:\tlearn: 0.8579282\ttest: 0.7907726\tbest: 0.7914874 (2592)\ttotal: 10m 24s\tremaining: 5m 14s\n"
     ]
    },
    {
     "name": "stdout",
     "output_type": "stream",
     "text": [
      "3350:\tlearn: 0.8583187\ttest: 0.7906980\tbest: 0.7914874 (2592)\ttotal: 10m 29s\tremaining: 5m 9s\n"
     ]
    },
    {
     "name": "stdout",
     "output_type": "stream",
     "text": [
      "3375:\tlearn: 0.8585550\ttest: 0.7902894\tbest: 0.7914874 (2592)\ttotal: 10m 34s\tremaining: 5m 5s\n"
     ]
    },
    {
     "name": "stdout",
     "output_type": "stream",
     "text": [
      "3400:\tlearn: 0.8589785\ttest: 0.7898051\tbest: 0.7914874 (2592)\ttotal: 10m 38s\tremaining: 5m\n"
     ]
    },
    {
     "name": "stdout",
     "output_type": "stream",
     "text": [
      "3425:\tlearn: 0.8595571\ttest: 0.7900070\tbest: 0.7914874 (2592)\ttotal: 10m 43s\tremaining: 4m 55s\n"
     ]
    },
    {
     "name": "stdout",
     "output_type": "stream",
     "text": [
      "3450:\tlearn: 0.8600234\ttest: 0.7896709\tbest: 0.7914874 (2592)\ttotal: 10m 48s\tremaining: 4m 50s\n"
     ]
    },
    {
     "name": "stdout",
     "output_type": "stream",
     "text": [
      "3475:\tlearn: 0.8606699\ttest: 0.7896211\tbest: 0.7914874 (2592)\ttotal: 10m 52s\tremaining: 4m 46s\n"
     ]
    },
    {
     "name": "stdout",
     "output_type": "stream",
     "text": [
      "3500:\tlearn: 0.8610604\ttest: 0.7895911\tbest: 0.7914874 (2592)\ttotal: 10m 57s\tremaining: 4m 41s\n"
     ]
    },
    {
     "name": "stdout",
     "output_type": "stream",
     "text": [
      "3525:\tlearn: 0.8614167\ttest: 0.7895679\tbest: 0.7914874 (2592)\ttotal: 11m 2s\tremaining: 4m 36s\n"
     ]
    },
    {
     "name": "stdout",
     "output_type": "stream",
     "text": [
      "3550:\tlearn: 0.8617462\ttest: 0.7894262\tbest: 0.7914874 (2592)\ttotal: 11m 6s\tremaining: 4m 32s\n"
     ]
    },
    {
     "name": "stdout",
     "output_type": "stream",
     "text": [
      "3575:\tlearn: 0.8623156\ttest: 0.7899792\tbest: 0.7914874 (2592)\ttotal: 11m 11s\tremaining: 4m 27s\n"
     ]
    },
    {
     "name": "stdout",
     "output_type": "stream",
     "text": [
      "3600:\tlearn: 0.8627135\ttest: 0.7897906\tbest: 0.7914874 (2592)\ttotal: 11m 16s\tremaining: 4m 22s\n"
     ]
    },
    {
     "name": "stdout",
     "output_type": "stream",
     "text": [
      "3625:\tlearn: 0.8631322\ttest: 0.7896284\tbest: 0.7914874 (2592)\ttotal: 11m 20s\tremaining: 4m 18s\n"
     ]
    },
    {
     "name": "stdout",
     "output_type": "stream",
     "text": [
      "3650:\tlearn: 0.8635018\ttest: 0.7898855\tbest: 0.7914874 (2592)\ttotal: 11m 25s\tremaining: 4m 13s\n"
     ]
    },
    {
     "name": "stdout",
     "output_type": "stream",
     "text": [
      "3675:\tlearn: 0.8636957\ttest: 0.7898487\tbest: 0.7914874 (2592)\ttotal: 11m 30s\tremaining: 4m 8s\n"
     ]
    },
    {
     "name": "stdout",
     "output_type": "stream",
     "text": [
      "3700:\tlearn: 0.8640288\ttest: 0.7901033\tbest: 0.7914874 (2592)\ttotal: 11m 34s\tremaining: 4m 3s\n"
     ]
    },
    {
     "name": "stdout",
     "output_type": "stream",
     "text": [
      "3725:\tlearn: 0.8645273\ttest: 0.7900513\tbest: 0.7914874 (2592)\ttotal: 11m 39s\tremaining: 3m 59s\n"
     ]
    },
    {
     "name": "stdout",
     "output_type": "stream",
     "text": [
      "3750:\tlearn: 0.8648733\ttest: 0.7901193\tbest: 0.7914874 (2592)\ttotal: 11m 44s\tremaining: 3m 54s\n"
     ]
    },
    {
     "name": "stdout",
     "output_type": "stream",
     "text": [
      "3775:\tlearn: 0.8653870\ttest: 0.7900569\tbest: 0.7914874 (2592)\ttotal: 11m 49s\tremaining: 3m 49s\n"
     ]
    },
    {
     "name": "stdout",
     "output_type": "stream",
     "text": [
      "3800:\tlearn: 0.8659730\ttest: 0.7905644\tbest: 0.7914874 (2592)\ttotal: 11m 53s\tremaining: 3m 45s\n"
     ]
    },
    {
     "name": "stdout",
     "output_type": "stream",
     "text": [
      "3825:\tlearn: 0.8662686\ttest: 0.7907205\tbest: 0.7914874 (2592)\ttotal: 11m 58s\tremaining: 3m 40s\n"
     ]
    },
    {
     "name": "stdout",
     "output_type": "stream",
     "text": [
      "3850:\tlearn: 0.8664555\ttest: 0.7906659\tbest: 0.7914874 (2592)\ttotal: 12m 3s\tremaining: 3m 35s\n"
     ]
    },
    {
     "name": "stdout",
     "output_type": "stream",
     "text": [
      "3875:\tlearn: 0.8668621\ttest: 0.7904378\tbest: 0.7914874 (2592)\ttotal: 12m 7s\tremaining: 3m 31s\n"
     ]
    },
    {
     "name": "stdout",
     "output_type": "stream",
     "text": [
      "3900:\tlearn: 0.8673609\ttest: 0.7905045\tbest: 0.7914874 (2592)\ttotal: 12m 12s\tremaining: 3m 26s\n"
     ]
    },
    {
     "name": "stdout",
     "output_type": "stream",
     "text": [
      "3925:\tlearn: 0.8679362\ttest: 0.7904413\tbest: 0.7914874 (2592)\ttotal: 12m 17s\tremaining: 3m 21s\n"
     ]
    },
    {
     "name": "stdout",
     "output_type": "stream",
     "text": [
      "3950:\tlearn: 0.8683701\ttest: 0.7905052\tbest: 0.7914874 (2592)\ttotal: 12m 21s\tremaining: 3m 16s\n"
     ]
    },
    {
     "name": "stdout",
     "output_type": "stream",
     "text": [
      "3975:\tlearn: 0.8687338\ttest: 0.7905053\tbest: 0.7914874 (2592)\ttotal: 12m 26s\tremaining: 3m 12s\n"
     ]
    },
    {
     "name": "stdout",
     "output_type": "stream",
     "text": [
      "4000:\tlearn: 0.8689770\ttest: 0.7905078\tbest: 0.7914874 (2592)\ttotal: 12m 31s\tremaining: 3m 7s\n"
     ]
    },
    {
     "name": "stdout",
     "output_type": "stream",
     "text": [
      "4025:\tlearn: 0.8694713\ttest: 0.7906794\tbest: 0.7914874 (2592)\ttotal: 12m 35s\tremaining: 3m 2s\n"
     ]
    },
    {
     "name": "stdout",
     "output_type": "stream",
     "text": [
      "4050:\tlearn: 0.8698005\ttest: 0.7909332\tbest: 0.7914874 (2592)\ttotal: 12m 40s\tremaining: 2m 58s\n"
     ]
    },
    {
     "name": "stdout",
     "output_type": "stream",
     "text": [
      "4075:\tlearn: 0.8700540\ttest: 0.7904339\tbest: 0.7914874 (2592)\ttotal: 12m 45s\tremaining: 2m 53s\n"
     ]
    },
    {
     "name": "stdout",
     "output_type": "stream",
     "text": [
      "4100:\tlearn: 0.8704892\ttest: 0.7904408\tbest: 0.7914874 (2592)\ttotal: 12m 49s\tremaining: 2m 48s\n"
     ]
    },
    {
     "name": "stdout",
     "output_type": "stream",
     "text": [
      "4125:\tlearn: 0.8708795\ttest: 0.7902694\tbest: 0.7914874 (2592)\ttotal: 12m 54s\tremaining: 2m 44s\n"
     ]
    },
    {
     "name": "stdout",
     "output_type": "stream",
     "text": [
      "4150:\tlearn: 0.8713436\ttest: 0.7901063\tbest: 0.7914874 (2592)\ttotal: 12m 59s\tremaining: 2m 39s\n"
     ]
    },
    {
     "name": "stdout",
     "output_type": "stream",
     "text": [
      "4175:\tlearn: 0.8717532\ttest: 0.7899812\tbest: 0.7914874 (2592)\ttotal: 13m 4s\tremaining: 2m 34s\n"
     ]
    },
    {
     "name": "stdout",
     "output_type": "stream",
     "text": [
      "4200:\tlearn: 0.8721641\ttest: 0.7902788\tbest: 0.7914874 (2592)\ttotal: 13m 8s\tremaining: 2m 30s\n"
     ]
    },
    {
     "name": "stdout",
     "output_type": "stream",
     "text": [
      "4225:\tlearn: 0.8726572\ttest: 0.7904473\tbest: 0.7914874 (2592)\ttotal: 13m 13s\tremaining: 2m 25s\n"
     ]
    },
    {
     "name": "stdout",
     "output_type": "stream",
     "text": [
      "4250:\tlearn: 0.8729775\ttest: 0.7907913\tbest: 0.7914874 (2592)\ttotal: 13m 18s\tremaining: 2m 20s\n"
     ]
    },
    {
     "name": "stdout",
     "output_type": "stream",
     "text": [
      "4275:\tlearn: 0.8732872\ttest: 0.7906282\tbest: 0.7914874 (2592)\ttotal: 13m 22s\tremaining: 2m 15s\n"
     ]
    },
    {
     "name": "stdout",
     "output_type": "stream",
     "text": [
      "4300:\tlearn: 0.8735864\ttest: 0.7906517\tbest: 0.7914874 (2592)\ttotal: 13m 27s\tremaining: 2m 11s\n"
     ]
    },
    {
     "name": "stdout",
     "output_type": "stream",
     "text": [
      "4325:\tlearn: 0.8742073\ttest: 0.7905709\tbest: 0.7914874 (2592)\ttotal: 13m 32s\tremaining: 2m 6s\n"
     ]
    },
    {
     "name": "stdout",
     "output_type": "stream",
     "text": [
      "4350:\tlearn: 0.8745694\ttest: 0.7906545\tbest: 0.7914874 (2592)\ttotal: 13m 36s\tremaining: 2m 1s\n"
     ]
    },
    {
     "name": "stdout",
     "output_type": "stream",
     "text": [
      "4375:\tlearn: 0.8751559\ttest: 0.7907147\tbest: 0.7914874 (2592)\ttotal: 13m 41s\tremaining: 1m 57s\n"
     ]
    },
    {
     "name": "stdout",
     "output_type": "stream",
     "text": [
      "4400:\tlearn: 0.8753532\ttest: 0.7902891\tbest: 0.7914874 (2592)\ttotal: 13m 46s\tremaining: 1m 52s\n"
     ]
    },
    {
     "name": "stdout",
     "output_type": "stream",
     "text": [
      "4425:\tlearn: 0.8758033\ttest: 0.7904971\tbest: 0.7914874 (2592)\ttotal: 13m 50s\tremaining: 1m 47s\n"
     ]
    },
    {
     "name": "stdout",
     "output_type": "stream",
     "text": [
      "4450:\tlearn: 0.8759455\ttest: 0.7903918\tbest: 0.7914874 (2592)\ttotal: 13m 55s\tremaining: 1m 43s\n"
     ]
    },
    {
     "name": "stdout",
     "output_type": "stream",
     "text": [
      "4475:\tlearn: 0.8764098\ttest: 0.7907277\tbest: 0.7914874 (2592)\ttotal: 14m\tremaining: 1m 38s\n"
     ]
    },
    {
     "name": "stdout",
     "output_type": "stream",
     "text": [
      "4500:\tlearn: 0.8767667\ttest: 0.7903639\tbest: 0.7914874 (2592)\ttotal: 14m 5s\tremaining: 1m 33s\n"
     ]
    },
    {
     "name": "stdout",
     "output_type": "stream",
     "text": [
      "4525:\tlearn: 0.8771619\ttest: 0.7903789\tbest: 0.7914874 (2592)\ttotal: 14m 9s\tremaining: 1m 28s\n"
     ]
    },
    {
     "name": "stdout",
     "output_type": "stream",
     "text": [
      "4550:\tlearn: 0.8773599\ttest: 0.7901476\tbest: 0.7914874 (2592)\ttotal: 14m 14s\tremaining: 1m 24s\n"
     ]
    },
    {
     "name": "stdout",
     "output_type": "stream",
     "text": [
      "4575:\tlearn: 0.8777519\ttest: 0.7902071\tbest: 0.7914874 (2592)\ttotal: 14m 19s\tremaining: 1m 19s\n"
     ]
    },
    {
     "name": "stdout",
     "output_type": "stream",
     "text": [
      "4600:\tlearn: 0.8782147\ttest: 0.7905241\tbest: 0.7914874 (2592)\ttotal: 14m 23s\tremaining: 1m 14s\n"
     ]
    },
    {
     "name": "stdout",
     "output_type": "stream",
     "text": [
      "4625:\tlearn: 0.8786232\ttest: 0.7901400\tbest: 0.7914874 (2592)\ttotal: 14m 28s\tremaining: 1m 10s\n"
     ]
    },
    {
     "name": "stdout",
     "output_type": "stream",
     "text": [
      "4650:\tlearn: 0.8789307\ttest: 0.7905171\tbest: 0.7914874 (2592)\ttotal: 14m 33s\tremaining: 1m 5s\n"
     ]
    },
    {
     "name": "stdout",
     "output_type": "stream",
     "text": [
      "4675:\tlearn: 0.8793792\ttest: 0.7902020\tbest: 0.7914874 (2592)\ttotal: 14m 37s\tremaining: 1m\n"
     ]
    },
    {
     "name": "stdout",
     "output_type": "stream",
     "text": [
      "4700:\tlearn: 0.8798416\ttest: 0.7903295\tbest: 0.7914874 (2592)\ttotal: 14m 42s\tremaining: 56.1s\n"
     ]
    },
    {
     "name": "stdout",
     "output_type": "stream",
     "text": [
      "4725:\tlearn: 0.8801748\ttest: 0.7907904\tbest: 0.7914874 (2592)\ttotal: 14m 47s\tremaining: 51.4s\n"
     ]
    },
    {
     "name": "stdout",
     "output_type": "stream",
     "text": [
      "4750:\tlearn: 0.8806912\ttest: 0.7900951\tbest: 0.7914874 (2592)\ttotal: 14m 51s\tremaining: 46.7s\n"
     ]
    },
    {
     "name": "stdout",
     "output_type": "stream",
     "text": [
      "4775:\tlearn: 0.8809990\ttest: 0.7900493\tbest: 0.7914874 (2592)\ttotal: 14m 56s\tremaining: 42.1s\n"
     ]
    },
    {
     "name": "stdout",
     "output_type": "stream",
     "text": [
      "4800:\tlearn: 0.8814363\ttest: 0.7902816\tbest: 0.7914874 (2592)\ttotal: 15m 1s\tremaining: 37.4s\n"
     ]
    },
    {
     "name": "stdout",
     "output_type": "stream",
     "text": [
      "4825:\tlearn: 0.8817291\ttest: 0.7901851\tbest: 0.7914874 (2592)\ttotal: 15m 5s\tremaining: 32.7s\n"
     ]
    },
    {
     "name": "stdout",
     "output_type": "stream",
     "text": [
      "4850:\tlearn: 0.8821306\ttest: 0.7901359\tbest: 0.7914874 (2592)\ttotal: 15m 10s\tremaining: 28s\n"
     ]
    },
    {
     "name": "stdout",
     "output_type": "stream",
     "text": [
      "4875:\tlearn: 0.8824474\ttest: 0.7901144\tbest: 0.7914874 (2592)\ttotal: 15m 15s\tremaining: 23.3s\n"
     ]
    },
    {
     "name": "stdout",
     "output_type": "stream",
     "text": [
      "4900:\tlearn: 0.8827406\ttest: 0.7898811\tbest: 0.7914874 (2592)\ttotal: 15m 20s\tremaining: 18.6s\n"
     ]
    },
    {
     "name": "stdout",
     "output_type": "stream",
     "text": [
      "4925:\tlearn: 0.8831248\ttest: 0.7900868\tbest: 0.7914874 (2592)\ttotal: 15m 24s\tremaining: 13.9s\n"
     ]
    },
    {
     "name": "stdout",
     "output_type": "stream",
     "text": [
      "4950:\tlearn: 0.8835739\ttest: 0.7901122\tbest: 0.7914874 (2592)\ttotal: 15m 29s\tremaining: 9.2s\n"
     ]
    },
    {
     "name": "stdout",
     "output_type": "stream",
     "text": [
      "4975:\tlearn: 0.8839972\ttest: 0.7902570\tbest: 0.7914874 (2592)\ttotal: 15m 34s\tremaining: 4.5s\n"
     ]
    },
    {
     "name": "stdout",
     "output_type": "stream",
     "text": [
      "4999:\tlearn: 0.8843676\ttest: 0.7904110\tbest: 0.7914874 (2592)\ttotal: 15m 38s\tremaining: 0us\n",
      "\n",
      "bestTest = 0.7914873947\n",
      "bestIteration = 2592\n",
      "\n"
     ]
    },
    {
     "name": "stdout",
     "output_type": "stream",
     "text": [
      "######################################## training model 3/5 ########################################\n"
     ]
    },
    {
     "name": "stdout",
     "output_type": "stream",
     "text": [
      "0:\tlearn: 0.5882671\ttest: 0.5833807\tbest: 0.5833807 (0)\ttotal: 497ms\tremaining: 41m 25s\n"
     ]
    },
    {
     "name": "stdout",
     "output_type": "stream",
     "text": [
      "25:\tlearn: 0.7176591\ttest: 0.7190250\tbest: 0.7190250 (25)\ttotal: 5.13s\tremaining: 16m 21s\n"
     ]
    },
    {
     "name": "stdout",
     "output_type": "stream",
     "text": [
      "50:\tlearn: 0.7347381\ttest: 0.7349441\tbest: 0.7349441 (50)\ttotal: 9.83s\tremaining: 15m 53s\n"
     ]
    },
    {
     "name": "stdout",
     "output_type": "stream",
     "text": [
      "75:\tlearn: 0.7449578\ttest: 0.7448315\tbest: 0.7449711 (72)\ttotal: 14.5s\tremaining: 15m 40s\n"
     ]
    },
    {
     "name": "stdout",
     "output_type": "stream",
     "text": [
      "100:\tlearn: 0.7500515\ttest: 0.7514937\tbest: 0.7514937 (100)\ttotal: 19.2s\tremaining: 15m 31s\n"
     ]
    },
    {
     "name": "stdout",
     "output_type": "stream",
     "text": [
      "125:\tlearn: 0.7534717\ttest: 0.7557621\tbest: 0.7557621 (125)\ttotal: 23.9s\tremaining: 15m 24s\n"
     ]
    },
    {
     "name": "stdout",
     "output_type": "stream",
     "text": [
      "150:\tlearn: 0.7567061\ttest: 0.7586969\tbest: 0.7588272 (148)\ttotal: 28.5s\tremaining: 15m 16s\n"
     ]
    },
    {
     "name": "stdout",
     "output_type": "stream",
     "text": [
      "175:\tlearn: 0.7590829\ttest: 0.7608067\tbest: 0.7608345 (172)\ttotal: 33.2s\tremaining: 15m 10s\n"
     ]
    },
    {
     "name": "stdout",
     "output_type": "stream",
     "text": [
      "200:\tlearn: 0.7612381\ttest: 0.7627097\tbest: 0.7627097 (200)\ttotal: 37.9s\tremaining: 15m 5s\n"
     ]
    },
    {
     "name": "stdout",
     "output_type": "stream",
     "text": [
      "225:\tlearn: 0.7628237\ttest: 0.7645037\tbest: 0.7645037 (225)\ttotal: 42.6s\tremaining: 15m\n"
     ]
    },
    {
     "name": "stdout",
     "output_type": "stream",
     "text": [
      "250:\tlearn: 0.7646128\ttest: 0.7664554\tbest: 0.7664554 (250)\ttotal: 47.4s\tremaining: 14m 55s\n"
     ]
    },
    {
     "name": "stdout",
     "output_type": "stream",
     "text": [
      "275:\tlearn: 0.7673645\ttest: 0.7687582\tbest: 0.7687582 (275)\ttotal: 52.1s\tremaining: 14m 51s\n"
     ]
    },
    {
     "name": "stdout",
     "output_type": "stream",
     "text": [
      "300:\tlearn: 0.7710173\ttest: 0.7721415\tbest: 0.7721415 (300)\ttotal: 56.8s\tremaining: 14m 46s\n"
     ]
    },
    {
     "name": "stdout",
     "output_type": "stream",
     "text": [
      "325:\tlearn: 0.7754907\ttest: 0.7755824\tbest: 0.7755824 (325)\ttotal: 1m 1s\tremaining: 14m 41s\n"
     ]
    },
    {
     "name": "stdout",
     "output_type": "stream",
     "text": [
      "350:\tlearn: 0.7793772\ttest: 0.7784329\tbest: 0.7785234 (346)\ttotal: 1m 6s\tremaining: 14m 37s\n"
     ]
    },
    {
     "name": "stdout",
     "output_type": "stream",
     "text": [
      "375:\tlearn: 0.7827848\ttest: 0.7800751\tbest: 0.7804841 (372)\ttotal: 1m 10s\tremaining: 14m 33s\n"
     ]
    },
    {
     "name": "stdout",
     "output_type": "stream",
     "text": [
      "400:\tlearn: 0.7852961\ttest: 0.7819271\tbest: 0.7819271 (400)\ttotal: 1m 15s\tremaining: 14m 28s\n"
     ]
    },
    {
     "name": "stdout",
     "output_type": "stream",
     "text": [
      "425:\tlearn: 0.7872845\ttest: 0.7834725\tbest: 0.7834725 (425)\ttotal: 1m 20s\tremaining: 14m 23s\n"
     ]
    },
    {
     "name": "stdout",
     "output_type": "stream",
     "text": [
      "450:\tlearn: 0.7885129\ttest: 0.7842023\tbest: 0.7842088 (449)\ttotal: 1m 25s\tremaining: 14m 18s\n"
     ]
    },
    {
     "name": "stdout",
     "output_type": "stream",
     "text": [
      "475:\tlearn: 0.7899819\ttest: 0.7855198\tbest: 0.7855198 (475)\ttotal: 1m 29s\tremaining: 14m 14s\n"
     ]
    },
    {
     "name": "stdout",
     "output_type": "stream",
     "text": [
      "500:\tlearn: 0.7914709\ttest: 0.7867118\tbest: 0.7867880 (499)\ttotal: 1m 34s\tremaining: 14m 9s\n"
     ]
    },
    {
     "name": "stdout",
     "output_type": "stream",
     "text": [
      "525:\tlearn: 0.7923717\ttest: 0.7881958\tbest: 0.7881958 (525)\ttotal: 1m 39s\tremaining: 14m 4s\n"
     ]
    },
    {
     "name": "stdout",
     "output_type": "stream",
     "text": [
      "550:\tlearn: 0.7935558\ttest: 0.7888970\tbest: 0.7891933 (547)\ttotal: 1m 44s\tremaining: 13m 59s\n"
     ]
    },
    {
     "name": "stdout",
     "output_type": "stream",
     "text": [
      "575:\tlearn: 0.7947792\ttest: 0.7900714\tbest: 0.7900714 (575)\ttotal: 1m 48s\tremaining: 13m 55s\n"
     ]
    },
    {
     "name": "stdout",
     "output_type": "stream",
     "text": [
      "600:\tlearn: 0.7955294\ttest: 0.7906167\tbest: 0.7906309 (599)\ttotal: 1m 53s\tremaining: 13m 50s\n"
     ]
    },
    {
     "name": "stdout",
     "output_type": "stream",
     "text": [
      "625:\tlearn: 0.7965317\ttest: 0.7908065\tbest: 0.7908447 (624)\ttotal: 1m 58s\tremaining: 13m 45s\n"
     ]
    },
    {
     "name": "stdout",
     "output_type": "stream",
     "text": [
      "650:\tlearn: 0.7974868\ttest: 0.7904803\tbest: 0.7909377 (626)\ttotal: 2m 2s\tremaining: 13m 40s\n"
     ]
    },
    {
     "name": "stdout",
     "output_type": "stream",
     "text": [
      "675:\tlearn: 0.7983732\ttest: 0.7905887\tbest: 0.7911420 (664)\ttotal: 2m 7s\tremaining: 13m 35s\n"
     ]
    },
    {
     "name": "stdout",
     "output_type": "stream",
     "text": [
      "700:\tlearn: 0.7993355\ttest: 0.7904967\tbest: 0.7911420 (664)\ttotal: 2m 12s\tremaining: 13m 31s\n"
     ]
    },
    {
     "name": "stdout",
     "output_type": "stream",
     "text": [
      "725:\tlearn: 0.8000993\ttest: 0.7908817\tbest: 0.7911420 (664)\ttotal: 2m 17s\tremaining: 13m 26s\n"
     ]
    },
    {
     "name": "stdout",
     "output_type": "stream",
     "text": [
      "750:\tlearn: 0.8009836\ttest: 0.7912064\tbest: 0.7912064 (750)\ttotal: 2m 21s\tremaining: 13m 21s\n"
     ]
    },
    {
     "name": "stdout",
     "output_type": "stream",
     "text": [
      "775:\tlearn: 0.8019563\ttest: 0.7914360\tbest: 0.7915976 (772)\ttotal: 2m 26s\tremaining: 13m 17s\n"
     ]
    },
    {
     "name": "stdout",
     "output_type": "stream",
     "text": [
      "800:\tlearn: 0.8026656\ttest: 0.7914746\tbest: 0.7915976 (772)\ttotal: 2m 31s\tremaining: 13m 12s\n"
     ]
    },
    {
     "name": "stdout",
     "output_type": "stream",
     "text": [
      "825:\tlearn: 0.8032913\ttest: 0.7910262\tbest: 0.7915976 (772)\ttotal: 2m 35s\tremaining: 13m 7s\n"
     ]
    },
    {
     "name": "stdout",
     "output_type": "stream",
     "text": [
      "850:\tlearn: 0.8042449\ttest: 0.7914466\tbest: 0.7916759 (849)\ttotal: 2m 40s\tremaining: 13m 2s\n"
     ]
    },
    {
     "name": "stdout",
     "output_type": "stream",
     "text": [
      "875:\tlearn: 0.8050877\ttest: 0.7916383\tbest: 0.7919045 (868)\ttotal: 2m 45s\tremaining: 12m 57s\n"
     ]
    },
    {
     "name": "stdout",
     "output_type": "stream",
     "text": [
      "900:\tlearn: 0.8057823\ttest: 0.7925276\tbest: 0.7925276 (900)\ttotal: 2m 49s\tremaining: 12m 53s\n"
     ]
    },
    {
     "name": "stdout",
     "output_type": "stream",
     "text": [
      "925:\tlearn: 0.8066023\ttest: 0.7928430\tbest: 0.7928430 (925)\ttotal: 2m 54s\tremaining: 12m 48s\n"
     ]
    },
    {
     "name": "stdout",
     "output_type": "stream",
     "text": [
      "950:\tlearn: 0.8071921\ttest: 0.7929292\tbest: 0.7930553 (949)\ttotal: 2m 59s\tremaining: 12m 43s\n"
     ]
    },
    {
     "name": "stdout",
     "output_type": "stream",
     "text": [
      "975:\tlearn: 0.8077712\ttest: 0.7927574\tbest: 0.7930553 (949)\ttotal: 3m 4s\tremaining: 12m 38s\n"
     ]
    },
    {
     "name": "stdout",
     "output_type": "stream",
     "text": [
      "1000:\tlearn: 0.8086105\ttest: 0.7929819\tbest: 0.7932710 (997)\ttotal: 3m 8s\tremaining: 12m 34s\n"
     ]
    },
    {
     "name": "stdout",
     "output_type": "stream",
     "text": [
      "1025:\tlearn: 0.8092872\ttest: 0.7930328\tbest: 0.7934781 (1012)\ttotal: 3m 13s\tremaining: 12m 29s\n"
     ]
    },
    {
     "name": "stdout",
     "output_type": "stream",
     "text": [
      "1050:\tlearn: 0.8098571\ttest: 0.7929557\tbest: 0.7934781 (1012)\ttotal: 3m 18s\tremaining: 12m 24s\n"
     ]
    },
    {
     "name": "stdout",
     "output_type": "stream",
     "text": [
      "1075:\tlearn: 0.8105797\ttest: 0.7938905\tbest: 0.7938905 (1075)\ttotal: 3m 22s\tremaining: 12m 20s\n"
     ]
    },
    {
     "name": "stdout",
     "output_type": "stream",
     "text": [
      "1100:\tlearn: 0.8115022\ttest: 0.7940243\tbest: 0.7941705 (1099)\ttotal: 3m 27s\tremaining: 12m 15s\n"
     ]
    },
    {
     "name": "stdout",
     "output_type": "stream",
     "text": [
      "1125:\tlearn: 0.8121330\ttest: 0.7939288\tbest: 0.7941781 (1121)\ttotal: 3m 32s\tremaining: 12m 10s\n"
     ]
    },
    {
     "name": "stdout",
     "output_type": "stream",
     "text": [
      "1150:\tlearn: 0.8127176\ttest: 0.7938353\tbest: 0.7941781 (1121)\ttotal: 3m 37s\tremaining: 12m 5s\n"
     ]
    },
    {
     "name": "stdout",
     "output_type": "stream",
     "text": [
      "1175:\tlearn: 0.8134171\ttest: 0.7939053\tbest: 0.7941781 (1121)\ttotal: 3m 41s\tremaining: 12m 1s\n"
     ]
    },
    {
     "name": "stdout",
     "output_type": "stream",
     "text": [
      "1200:\tlearn: 0.8140948\ttest: 0.7938389\tbest: 0.7941781 (1121)\ttotal: 3m 46s\tremaining: 11m 56s\n"
     ]
    },
    {
     "name": "stdout",
     "output_type": "stream",
     "text": [
      "1225:\tlearn: 0.8146766\ttest: 0.7940495\tbest: 0.7941781 (1121)\ttotal: 3m 51s\tremaining: 11m 51s\n"
     ]
    },
    {
     "name": "stdout",
     "output_type": "stream",
     "text": [
      "1250:\tlearn: 0.8151523\ttest: 0.7939355\tbest: 0.7941781 (1121)\ttotal: 3m 55s\tremaining: 11m 46s\n"
     ]
    },
    {
     "name": "stdout",
     "output_type": "stream",
     "text": [
      "1275:\tlearn: 0.8158934\ttest: 0.7937871\tbest: 0.7941781 (1121)\ttotal: 4m\tremaining: 11m 42s\n"
     ]
    },
    {
     "name": "stdout",
     "output_type": "stream",
     "text": [
      "1300:\tlearn: 0.8166532\ttest: 0.7941221\tbest: 0.7942469 (1297)\ttotal: 4m 5s\tremaining: 11m 37s\n"
     ]
    },
    {
     "name": "stdout",
     "output_type": "stream",
     "text": [
      "1325:\tlearn: 0.8172717\ttest: 0.7941146\tbest: 0.7945261 (1309)\ttotal: 4m 9s\tremaining: 11m 32s\n"
     ]
    },
    {
     "name": "stdout",
     "output_type": "stream",
     "text": [
      "1350:\tlearn: 0.8178978\ttest: 0.7940046\tbest: 0.7945261 (1309)\ttotal: 4m 14s\tremaining: 11m 27s\n"
     ]
    },
    {
     "name": "stdout",
     "output_type": "stream",
     "text": [
      "1375:\tlearn: 0.8184712\ttest: 0.7941519\tbest: 0.7945261 (1309)\ttotal: 4m 19s\tremaining: 11m 23s\n"
     ]
    },
    {
     "name": "stdout",
     "output_type": "stream",
     "text": [
      "1400:\tlearn: 0.8187467\ttest: 0.7940841\tbest: 0.7945261 (1309)\ttotal: 4m 24s\tremaining: 11m 18s\n"
     ]
    },
    {
     "name": "stdout",
     "output_type": "stream",
     "text": [
      "1425:\tlearn: 0.8194274\ttest: 0.7943310\tbest: 0.7945261 (1309)\ttotal: 4m 28s\tremaining: 11m 13s\n"
     ]
    },
    {
     "name": "stdout",
     "output_type": "stream",
     "text": [
      "1450:\tlearn: 0.8199216\ttest: 0.7944865\tbest: 0.7945289 (1447)\ttotal: 4m 33s\tremaining: 11m 8s\n"
     ]
    },
    {
     "name": "stdout",
     "output_type": "stream",
     "text": [
      "1475:\tlearn: 0.8208176\ttest: 0.7944682\tbest: 0.7946703 (1462)\ttotal: 4m 38s\tremaining: 11m 4s\n"
     ]
    },
    {
     "name": "stdout",
     "output_type": "stream",
     "text": [
      "1500:\tlearn: 0.8212307\ttest: 0.7942964\tbest: 0.7946703 (1462)\ttotal: 4m 42s\tremaining: 10m 59s\n"
     ]
    },
    {
     "name": "stdout",
     "output_type": "stream",
     "text": [
      "1525:\tlearn: 0.8219268\ttest: 0.7943697\tbest: 0.7946703 (1462)\ttotal: 4m 47s\tremaining: 10m 54s\n"
     ]
    },
    {
     "name": "stdout",
     "output_type": "stream",
     "text": [
      "1550:\tlearn: 0.8223064\ttest: 0.7944879\tbest: 0.7946703 (1462)\ttotal: 4m 52s\tremaining: 10m 49s\n"
     ]
    },
    {
     "name": "stdout",
     "output_type": "stream",
     "text": [
      "1575:\tlearn: 0.8229141\ttest: 0.7945901\tbest: 0.7947370 (1574)\ttotal: 4m 56s\tremaining: 10m 45s\n"
     ]
    },
    {
     "name": "stdout",
     "output_type": "stream",
     "text": [
      "1600:\tlearn: 0.8234095\ttest: 0.7944311\tbest: 0.7947370 (1574)\ttotal: 5m 1s\tremaining: 10m 40s\n"
     ]
    },
    {
     "name": "stdout",
     "output_type": "stream",
     "text": [
      "1625:\tlearn: 0.8240538\ttest: 0.7947113\tbest: 0.7950670 (1624)\ttotal: 5m 6s\tremaining: 10m 35s\n"
     ]
    },
    {
     "name": "stdout",
     "output_type": "stream",
     "text": [
      "1650:\tlearn: 0.8246813\ttest: 0.7947878\tbest: 0.7950670 (1624)\ttotal: 5m 11s\tremaining: 10m 31s\n"
     ]
    },
    {
     "name": "stdout",
     "output_type": "stream",
     "text": [
      "1675:\tlearn: 0.8251602\ttest: 0.7953635\tbest: 0.7953635 (1675)\ttotal: 5m 15s\tremaining: 10m 26s\n"
     ]
    },
    {
     "name": "stdout",
     "output_type": "stream",
     "text": [
      "1700:\tlearn: 0.8254620\ttest: 0.7955154\tbest: 0.7955743 (1677)\ttotal: 5m 20s\tremaining: 10m 21s\n"
     ]
    },
    {
     "name": "stdout",
     "output_type": "stream",
     "text": [
      "1725:\tlearn: 0.8259388\ttest: 0.7957710\tbest: 0.7958792 (1709)\ttotal: 5m 25s\tremaining: 10m 16s\n"
     ]
    },
    {
     "name": "stdout",
     "output_type": "stream",
     "text": [
      "1750:\tlearn: 0.8264218\ttest: 0.7955523\tbest: 0.7959032 (1735)\ttotal: 5m 29s\tremaining: 10m 12s\n"
     ]
    },
    {
     "name": "stdout",
     "output_type": "stream",
     "text": [
      "1775:\tlearn: 0.8271318\ttest: 0.7956737\tbest: 0.7959032 (1735)\ttotal: 5m 34s\tremaining: 10m 7s\n"
     ]
    },
    {
     "name": "stdout",
     "output_type": "stream",
     "text": [
      "1800:\tlearn: 0.8276849\ttest: 0.7951415\tbest: 0.7959032 (1735)\ttotal: 5m 39s\tremaining: 10m 2s\n"
     ]
    },
    {
     "name": "stdout",
     "output_type": "stream",
     "text": [
      "1825:\tlearn: 0.8284300\ttest: 0.7952177\tbest: 0.7959032 (1735)\ttotal: 5m 44s\tremaining: 9m 58s\n"
     ]
    },
    {
     "name": "stdout",
     "output_type": "stream",
     "text": [
      "1850:\tlearn: 0.8287441\ttest: 0.7954249\tbest: 0.7959032 (1735)\ttotal: 5m 48s\tremaining: 9m 53s\n"
     ]
    },
    {
     "name": "stdout",
     "output_type": "stream",
     "text": [
      "1875:\tlearn: 0.8293018\ttest: 0.7956490\tbest: 0.7959032 (1735)\ttotal: 5m 53s\tremaining: 9m 48s\n"
     ]
    },
    {
     "name": "stdout",
     "output_type": "stream",
     "text": [
      "1900:\tlearn: 0.8296732\ttest: 0.7953216\tbest: 0.7959032 (1735)\ttotal: 5m 58s\tremaining: 9m 43s\n"
     ]
    },
    {
     "name": "stdout",
     "output_type": "stream",
     "text": [
      "1925:\tlearn: 0.8301869\ttest: 0.7955473\tbest: 0.7959032 (1735)\ttotal: 6m 2s\tremaining: 9m 39s\n"
     ]
    },
    {
     "name": "stdout",
     "output_type": "stream",
     "text": [
      "1950:\tlearn: 0.8307091\ttest: 0.7953902\tbest: 0.7959032 (1735)\ttotal: 6m 7s\tremaining: 9m 34s\n"
     ]
    },
    {
     "name": "stdout",
     "output_type": "stream",
     "text": [
      "1975:\tlearn: 0.8310458\ttest: 0.7954587\tbest: 0.7959032 (1735)\ttotal: 6m 12s\tremaining: 9m 29s\n"
     ]
    },
    {
     "name": "stdout",
     "output_type": "stream",
     "text": [
      "2000:\tlearn: 0.8316029\ttest: 0.7953185\tbest: 0.7959032 (1735)\ttotal: 6m 16s\tremaining: 9m 24s\n"
     ]
    },
    {
     "name": "stdout",
     "output_type": "stream",
     "text": [
      "2025:\tlearn: 0.8319980\ttest: 0.7951827\tbest: 0.7959032 (1735)\ttotal: 6m 21s\tremaining: 9m 20s\n"
     ]
    },
    {
     "name": "stdout",
     "output_type": "stream",
     "text": [
      "2050:\tlearn: 0.8322875\ttest: 0.7959954\tbest: 0.7959954 (2050)\ttotal: 6m 26s\tremaining: 9m 15s\n"
     ]
    },
    {
     "name": "stdout",
     "output_type": "stream",
     "text": [
      "2075:\tlearn: 0.8328911\ttest: 0.7960194\tbest: 0.7962699 (2062)\ttotal: 6m 30s\tremaining: 9m 10s\n"
     ]
    },
    {
     "name": "stdout",
     "output_type": "stream",
     "text": [
      "2100:\tlearn: 0.8334640\ttest: 0.7957094\tbest: 0.7962699 (2062)\ttotal: 6m 35s\tremaining: 9m 5s\n"
     ]
    },
    {
     "name": "stdout",
     "output_type": "stream",
     "text": [
      "2125:\tlearn: 0.8338467\ttest: 0.7958260\tbest: 0.7962699 (2062)\ttotal: 6m 40s\tremaining: 9m 1s\n"
     ]
    },
    {
     "name": "stdout",
     "output_type": "stream",
     "text": [
      "2150:\tlearn: 0.8343691\ttest: 0.7955458\tbest: 0.7962699 (2062)\ttotal: 6m 45s\tremaining: 8m 56s\n"
     ]
    },
    {
     "name": "stdout",
     "output_type": "stream",
     "text": [
      "2175:\tlearn: 0.8351334\ttest: 0.7957251\tbest: 0.7962699 (2062)\ttotal: 6m 49s\tremaining: 8m 51s\n"
     ]
    },
    {
     "name": "stdout",
     "output_type": "stream",
     "text": [
      "2200:\tlearn: 0.8357980\ttest: 0.7955774\tbest: 0.7962699 (2062)\ttotal: 6m 54s\tremaining: 8m 46s\n"
     ]
    },
    {
     "name": "stdout",
     "output_type": "stream",
     "text": [
      "2225:\tlearn: 0.8361852\ttest: 0.7954362\tbest: 0.7962699 (2062)\ttotal: 6m 59s\tremaining: 8m 42s\n"
     ]
    },
    {
     "name": "stdout",
     "output_type": "stream",
     "text": [
      "2250:\tlearn: 0.8366169\ttest: 0.7956545\tbest: 0.7962699 (2062)\ttotal: 7m 3s\tremaining: 8m 37s\n"
     ]
    },
    {
     "name": "stdout",
     "output_type": "stream",
     "text": [
      "2275:\tlearn: 0.8370666\ttest: 0.7955495\tbest: 0.7962699 (2062)\ttotal: 7m 8s\tremaining: 8m 32s\n"
     ]
    },
    {
     "name": "stdout",
     "output_type": "stream",
     "text": [
      "2300:\tlearn: 0.8373930\ttest: 0.7958506\tbest: 0.7962699 (2062)\ttotal: 7m 13s\tremaining: 8m 28s\n"
     ]
    },
    {
     "name": "stdout",
     "output_type": "stream",
     "text": [
      "2325:\tlearn: 0.8381134\ttest: 0.7956874\tbest: 0.7962699 (2062)\ttotal: 7m 17s\tremaining: 8m 23s\n"
     ]
    },
    {
     "name": "stdout",
     "output_type": "stream",
     "text": [
      "2350:\tlearn: 0.8384607\ttest: 0.7957547\tbest: 0.7962699 (2062)\ttotal: 7m 22s\tremaining: 8m 18s\n"
     ]
    },
    {
     "name": "stdout",
     "output_type": "stream",
     "text": [
      "2375:\tlearn: 0.8389676\ttest: 0.7958042\tbest: 0.7962699 (2062)\ttotal: 7m 27s\tremaining: 8m 13s\n"
     ]
    },
    {
     "name": "stdout",
     "output_type": "stream",
     "text": [
      "2400:\tlearn: 0.8394037\ttest: 0.7962717\tbest: 0.7963749 (2398)\ttotal: 7m 31s\tremaining: 8m 9s\n"
     ]
    },
    {
     "name": "stdout",
     "output_type": "stream",
     "text": [
      "2425:\tlearn: 0.8399386\ttest: 0.7961537\tbest: 0.7963749 (2398)\ttotal: 7m 36s\tremaining: 8m 4s\n"
     ]
    },
    {
     "name": "stdout",
     "output_type": "stream",
     "text": [
      "2450:\tlearn: 0.8402879\ttest: 0.7961007\tbest: 0.7965802 (2433)\ttotal: 7m 41s\tremaining: 7m 59s\n"
     ]
    },
    {
     "name": "stdout",
     "output_type": "stream",
     "text": [
      "2475:\tlearn: 0.8407015\ttest: 0.7959322\tbest: 0.7965802 (2433)\ttotal: 7m 45s\tremaining: 7m 55s\n"
     ]
    },
    {
     "name": "stdout",
     "output_type": "stream",
     "text": [
      "2500:\tlearn: 0.8410928\ttest: 0.7959972\tbest: 0.7965802 (2433)\ttotal: 7m 50s\tremaining: 7m 50s\n"
     ]
    },
    {
     "name": "stdout",
     "output_type": "stream",
     "text": [
      "2525:\tlearn: 0.8414842\ttest: 0.7963595\tbest: 0.7965802 (2433)\ttotal: 7m 55s\tremaining: 7m 45s\n"
     ]
    },
    {
     "name": "stdout",
     "output_type": "stream",
     "text": [
      "2550:\tlearn: 0.8421017\ttest: 0.7961338\tbest: 0.7965802 (2433)\ttotal: 8m\tremaining: 7m 40s\n"
     ]
    },
    {
     "name": "stdout",
     "output_type": "stream",
     "text": [
      "2575:\tlearn: 0.8424706\ttest: 0.7959474\tbest: 0.7965802 (2433)\ttotal: 8m 4s\tremaining: 7m 36s\n"
     ]
    },
    {
     "name": "stdout",
     "output_type": "stream",
     "text": [
      "2600:\tlearn: 0.8428647\ttest: 0.7960420\tbest: 0.7965802 (2433)\ttotal: 8m 9s\tremaining: 7m 31s\n"
     ]
    },
    {
     "name": "stdout",
     "output_type": "stream",
     "text": [
      "2625:\tlearn: 0.8434446\ttest: 0.7964325\tbest: 0.7966417 (2624)\ttotal: 8m 14s\tremaining: 7m 26s\n"
     ]
    },
    {
     "name": "stdout",
     "output_type": "stream",
     "text": [
      "2650:\tlearn: 0.8438162\ttest: 0.7967510\tbest: 0.7969180 (2649)\ttotal: 8m 18s\tremaining: 7m 22s\n"
     ]
    },
    {
     "name": "stdout",
     "output_type": "stream",
     "text": [
      "2675:\tlearn: 0.8441834\ttest: 0.7963324\tbest: 0.7969180 (2649)\ttotal: 8m 23s\tremaining: 7m 17s\n"
     ]
    },
    {
     "name": "stdout",
     "output_type": "stream",
     "text": [
      "2700:\tlearn: 0.8446850\ttest: 0.7965647\tbest: 0.7969180 (2649)\ttotal: 8m 28s\tremaining: 7m 12s\n"
     ]
    },
    {
     "name": "stdout",
     "output_type": "stream",
     "text": [
      "2725:\tlearn: 0.8451841\ttest: 0.7965732\tbest: 0.7969180 (2649)\ttotal: 8m 33s\tremaining: 7m 7s\n"
     ]
    },
    {
     "name": "stdout",
     "output_type": "stream",
     "text": [
      "2750:\tlearn: 0.8456303\ttest: 0.7965961\tbest: 0.7969180 (2649)\ttotal: 8m 37s\tremaining: 7m 3s\n"
     ]
    },
    {
     "name": "stdout",
     "output_type": "stream",
     "text": [
      "2775:\tlearn: 0.8460822\ttest: 0.7964529\tbest: 0.7969180 (2649)\ttotal: 8m 42s\tremaining: 6m 58s\n"
     ]
    },
    {
     "name": "stdout",
     "output_type": "stream",
     "text": [
      "2800:\tlearn: 0.8463784\ttest: 0.7963910\tbest: 0.7969180 (2649)\ttotal: 8m 47s\tremaining: 6m 53s\n"
     ]
    },
    {
     "name": "stdout",
     "output_type": "stream",
     "text": [
      "2825:\tlearn: 0.8468434\ttest: 0.7963900\tbest: 0.7969180 (2649)\ttotal: 8m 51s\tremaining: 6m 49s\n"
     ]
    },
    {
     "name": "stdout",
     "output_type": "stream",
     "text": [
      "2850:\tlearn: 0.8473792\ttest: 0.7959306\tbest: 0.7969180 (2649)\ttotal: 8m 56s\tremaining: 6m 44s\n"
     ]
    },
    {
     "name": "stdout",
     "output_type": "stream",
     "text": [
      "2875:\tlearn: 0.8477925\ttest: 0.7963580\tbest: 0.7969180 (2649)\ttotal: 9m 1s\tremaining: 6m 39s\n"
     ]
    },
    {
     "name": "stdout",
     "output_type": "stream",
     "text": [
      "2900:\tlearn: 0.8481776\ttest: 0.7960196\tbest: 0.7969180 (2649)\ttotal: 9m 5s\tremaining: 6m 34s\n"
     ]
    },
    {
     "name": "stdout",
     "output_type": "stream",
     "text": [
      "2925:\tlearn: 0.8487138\ttest: 0.7964718\tbest: 0.7969180 (2649)\ttotal: 9m 10s\tremaining: 6m 30s\n"
     ]
    },
    {
     "name": "stdout",
     "output_type": "stream",
     "text": [
      "2950:\tlearn: 0.8491186\ttest: 0.7964572\tbest: 0.7969180 (2649)\ttotal: 9m 15s\tremaining: 6m 25s\n"
     ]
    },
    {
     "name": "stdout",
     "output_type": "stream",
     "text": [
      "2975:\tlearn: 0.8495463\ttest: 0.7965906\tbest: 0.7969180 (2649)\ttotal: 9m 19s\tremaining: 6m 20s\n"
     ]
    },
    {
     "name": "stdout",
     "output_type": "stream",
     "text": [
      "3000:\tlearn: 0.8499520\ttest: 0.7967435\tbest: 0.7969180 (2649)\ttotal: 9m 24s\tremaining: 6m 16s\n"
     ]
    },
    {
     "name": "stdout",
     "output_type": "stream",
     "text": [
      "3025:\tlearn: 0.8503734\ttest: 0.7964110\tbest: 0.7969180 (2649)\ttotal: 9m 29s\tremaining: 6m 11s\n"
     ]
    },
    {
     "name": "stdout",
     "output_type": "stream",
     "text": [
      "3050:\tlearn: 0.8508180\ttest: 0.7962053\tbest: 0.7969180 (2649)\ttotal: 9m 34s\tremaining: 6m 6s\n"
     ]
    },
    {
     "name": "stdout",
     "output_type": "stream",
     "text": [
      "3075:\tlearn: 0.8512676\ttest: 0.7970119\tbest: 0.7970119 (3075)\ttotal: 9m 38s\tremaining: 6m 2s\n"
     ]
    },
    {
     "name": "stdout",
     "output_type": "stream",
     "text": [
      "3100:\tlearn: 0.8516770\ttest: 0.7969772\tbest: 0.7970119 (3075)\ttotal: 9m 43s\tremaining: 5m 57s\n"
     ]
    },
    {
     "name": "stdout",
     "output_type": "stream",
     "text": [
      "3125:\tlearn: 0.8520834\ttest: 0.7970891\tbest: 0.7973180 (3108)\ttotal: 9m 48s\tremaining: 5m 52s\n"
     ]
    },
    {
     "name": "stdout",
     "output_type": "stream",
     "text": [
      "3150:\tlearn: 0.8524290\ttest: 0.7970793\tbest: 0.7974123 (3148)\ttotal: 9m 52s\tremaining: 5m 47s\n"
     ]
    },
    {
     "name": "stdout",
     "output_type": "stream",
     "text": [
      "3175:\tlearn: 0.8532159\ttest: 0.7969966\tbest: 0.7974123 (3148)\ttotal: 9m 57s\tremaining: 5m 43s\n"
     ]
    },
    {
     "name": "stdout",
     "output_type": "stream",
     "text": [
      "3200:\tlearn: 0.8535047\ttest: 0.7972332\tbest: 0.7974123 (3148)\ttotal: 10m 2s\tremaining: 5m 38s\n"
     ]
    },
    {
     "name": "stdout",
     "output_type": "stream",
     "text": [
      "3225:\tlearn: 0.8539367\ttest: 0.7972347\tbest: 0.7974123 (3148)\ttotal: 10m 6s\tremaining: 5m 33s\n"
     ]
    },
    {
     "name": "stdout",
     "output_type": "stream",
     "text": [
      "3250:\tlearn: 0.8541540\ttest: 0.7972612\tbest: 0.7974123 (3148)\ttotal: 10m 11s\tremaining: 5m 29s\n"
     ]
    },
    {
     "name": "stdout",
     "output_type": "stream",
     "text": [
      "3275:\tlearn: 0.8547296\ttest: 0.7970975\tbest: 0.7974123 (3148)\ttotal: 10m 16s\tremaining: 5m 24s\n"
     ]
    },
    {
     "name": "stdout",
     "output_type": "stream",
     "text": [
      "3300:\tlearn: 0.8549818\ttest: 0.7971849\tbest: 0.7974123 (3148)\ttotal: 10m 21s\tremaining: 5m 19s\n"
     ]
    },
    {
     "name": "stdout",
     "output_type": "stream",
     "text": [
      "3325:\tlearn: 0.8554330\ttest: 0.7972722\tbest: 0.7976059 (3309)\ttotal: 10m 25s\tremaining: 5m 14s\n"
     ]
    },
    {
     "name": "stdout",
     "output_type": "stream",
     "text": [
      "3350:\tlearn: 0.8559234\ttest: 0.7973199\tbest: 0.7976059 (3309)\ttotal: 10m 30s\tremaining: 5m 10s\n"
     ]
    },
    {
     "name": "stdout",
     "output_type": "stream",
     "text": [
      "3375:\tlearn: 0.8564717\ttest: 0.7975989\tbest: 0.7976059 (3309)\ttotal: 10m 35s\tremaining: 5m 5s\n"
     ]
    },
    {
     "name": "stdout",
     "output_type": "stream",
     "text": [
      "3400:\tlearn: 0.8569152\ttest: 0.7975942\tbest: 0.7977218 (3384)\ttotal: 10m 39s\tremaining: 5m\n"
     ]
    },
    {
     "name": "stdout",
     "output_type": "stream",
     "text": [
      "3425:\tlearn: 0.8572614\ttest: 0.7976604\tbest: 0.7977847 (3407)\ttotal: 10m 44s\tremaining: 4m 56s\n"
     ]
    },
    {
     "name": "stdout",
     "output_type": "stream",
     "text": [
      "3450:\tlearn: 0.8574134\ttest: 0.7975196\tbest: 0.7977847 (3407)\ttotal: 10m 49s\tremaining: 4m 51s\n"
     ]
    },
    {
     "name": "stdout",
     "output_type": "stream",
     "text": [
      "3475:\tlearn: 0.8577971\ttest: 0.7978358\tbest: 0.7978358 (3475)\ttotal: 10m 53s\tremaining: 4m 46s\n"
     ]
    },
    {
     "name": "stdout",
     "output_type": "stream",
     "text": [
      "3500:\tlearn: 0.8581721\ttest: 0.7979697\tbest: 0.7980961 (3497)\ttotal: 10m 58s\tremaining: 4m 42s\n"
     ]
    },
    {
     "name": "stdout",
     "output_type": "stream",
     "text": [
      "3525:\tlearn: 0.8587416\ttest: 0.7977766\tbest: 0.7981582 (3503)\ttotal: 11m 3s\tremaining: 4m 37s\n"
     ]
    },
    {
     "name": "stdout",
     "output_type": "stream",
     "text": [
      "3550:\tlearn: 0.8591316\ttest: 0.7973737\tbest: 0.7981582 (3503)\ttotal: 11m 8s\tremaining: 4m 32s\n"
     ]
    },
    {
     "name": "stdout",
     "output_type": "stream",
     "text": [
      "3575:\tlearn: 0.8594114\ttest: 0.7973772\tbest: 0.7981582 (3503)\ttotal: 11m 12s\tremaining: 4m 27s\n"
     ]
    },
    {
     "name": "stdout",
     "output_type": "stream",
     "text": [
      "3600:\tlearn: 0.8597951\ttest: 0.7975471\tbest: 0.7981582 (3503)\ttotal: 11m 17s\tremaining: 4m 23s\n"
     ]
    },
    {
     "name": "stdout",
     "output_type": "stream",
     "text": [
      "3625:\tlearn: 0.8602881\ttest: 0.7973242\tbest: 0.7981582 (3503)\ttotal: 11m 22s\tremaining: 4m 18s\n"
     ]
    },
    {
     "name": "stdout",
     "output_type": "stream",
     "text": [
      "3650:\tlearn: 0.8607736\ttest: 0.7973627\tbest: 0.7981582 (3503)\ttotal: 11m 26s\tremaining: 4m 13s\n"
     ]
    },
    {
     "name": "stdout",
     "output_type": "stream",
     "text": [
      "3675:\tlearn: 0.8610774\ttest: 0.7971694\tbest: 0.7981582 (3503)\ttotal: 11m 31s\tremaining: 4m 9s\n"
     ]
    },
    {
     "name": "stdout",
     "output_type": "stream",
     "text": [
      "3700:\tlearn: 0.8615799\ttest: 0.7969777\tbest: 0.7981582 (3503)\ttotal: 11m 36s\tremaining: 4m 4s\n"
     ]
    },
    {
     "name": "stdout",
     "output_type": "stream",
     "text": [
      "3725:\tlearn: 0.8619735\ttest: 0.7977133\tbest: 0.7981582 (3503)\ttotal: 11m 41s\tremaining: 3m 59s\n"
     ]
    },
    {
     "name": "stdout",
     "output_type": "stream",
     "text": [
      "3750:\tlearn: 0.8623866\ttest: 0.7978437\tbest: 0.7981582 (3503)\ttotal: 11m 45s\tremaining: 3m 54s\n"
     ]
    },
    {
     "name": "stdout",
     "output_type": "stream",
     "text": [
      "3775:\tlearn: 0.8627171\ttest: 0.7977650\tbest: 0.7981582 (3503)\ttotal: 11m 50s\tremaining: 3m 50s\n"
     ]
    },
    {
     "name": "stdout",
     "output_type": "stream",
     "text": [
      "3800:\tlearn: 0.8631313\ttest: 0.7978939\tbest: 0.7981582 (3503)\ttotal: 11m 55s\tremaining: 3m 45s\n"
     ]
    },
    {
     "name": "stdout",
     "output_type": "stream",
     "text": [
      "3825:\tlearn: 0.8634881\ttest: 0.7980414\tbest: 0.7981694 (3822)\ttotal: 11m 59s\tremaining: 3m 40s\n"
     ]
    },
    {
     "name": "stdout",
     "output_type": "stream",
     "text": [
      "3850:\tlearn: 0.8639565\ttest: 0.7982718\tbest: 0.7982718 (3850)\ttotal: 12m 4s\tremaining: 3m 36s\n"
     ]
    },
    {
     "name": "stdout",
     "output_type": "stream",
     "text": [
      "3875:\tlearn: 0.8643835\ttest: 0.7983536\tbest: 0.7984383 (3872)\ttotal: 12m 9s\tremaining: 3m 31s\n"
     ]
    },
    {
     "name": "stdout",
     "output_type": "stream",
     "text": [
      "3900:\tlearn: 0.8647579\ttest: 0.7983748\tbest: 0.7986042 (3895)\ttotal: 12m 13s\tremaining: 3m 26s\n"
     ]
    },
    {
     "name": "stdout",
     "output_type": "stream",
     "text": [
      "3925:\tlearn: 0.8650142\ttest: 0.7983334\tbest: 0.7986050 (3913)\ttotal: 12m 18s\tremaining: 3m 22s\n"
     ]
    },
    {
     "name": "stdout",
     "output_type": "stream",
     "text": [
      "3950:\tlearn: 0.8653188\ttest: 0.7983762\tbest: 0.7986050 (3913)\ttotal: 12m 23s\tremaining: 3m 17s\n"
     ]
    },
    {
     "name": "stdout",
     "output_type": "stream",
     "text": [
      "3975:\tlearn: 0.8657634\ttest: 0.7980789\tbest: 0.7986050 (3913)\ttotal: 12m 27s\tremaining: 3m 12s\n"
     ]
    },
    {
     "name": "stdout",
     "output_type": "stream",
     "text": [
      "4000:\tlearn: 0.8661206\ttest: 0.7977660\tbest: 0.7986050 (3913)\ttotal: 12m 32s\tremaining: 3m 7s\n"
     ]
    },
    {
     "name": "stdout",
     "output_type": "stream",
     "text": [
      "4025:\tlearn: 0.8666168\ttest: 0.7978329\tbest: 0.7986050 (3913)\ttotal: 12m 37s\tremaining: 3m 3s\n"
     ]
    },
    {
     "name": "stdout",
     "output_type": "stream",
     "text": [
      "4050:\tlearn: 0.8669325\ttest: 0.7979151\tbest: 0.7986050 (3913)\ttotal: 12m 41s\tremaining: 2m 58s\n"
     ]
    },
    {
     "name": "stdout",
     "output_type": "stream",
     "text": [
      "4075:\tlearn: 0.8672886\ttest: 0.7977502\tbest: 0.7986050 (3913)\ttotal: 12m 46s\tremaining: 2m 53s\n"
     ]
    },
    {
     "name": "stdout",
     "output_type": "stream",
     "text": [
      "4100:\tlearn: 0.8677491\ttest: 0.7981350\tbest: 0.7986050 (3913)\ttotal: 12m 51s\tremaining: 2m 49s\n"
     ]
    },
    {
     "name": "stdout",
     "output_type": "stream",
     "text": [
      "4125:\tlearn: 0.8680764\ttest: 0.7976897\tbest: 0.7986050 (3913)\ttotal: 12m 56s\tremaining: 2m 44s\n"
     ]
    },
    {
     "name": "stdout",
     "output_type": "stream",
     "text": [
      "4150:\tlearn: 0.8685201\ttest: 0.7976037\tbest: 0.7986050 (3913)\ttotal: 13m\tremaining: 2m 39s\n"
     ]
    },
    {
     "name": "stdout",
     "output_type": "stream",
     "text": [
      "4175:\tlearn: 0.8689415\ttest: 0.7976900\tbest: 0.7986050 (3913)\ttotal: 13m 5s\tremaining: 2m 34s\n"
     ]
    },
    {
     "name": "stdout",
     "output_type": "stream",
     "text": [
      "4200:\tlearn: 0.8692017\ttest: 0.7978576\tbest: 0.7986050 (3913)\ttotal: 13m 10s\tremaining: 2m 30s\n"
     ]
    },
    {
     "name": "stdout",
     "output_type": "stream",
     "text": [
      "4225:\tlearn: 0.8696185\ttest: 0.7979440\tbest: 0.7986050 (3913)\ttotal: 13m 14s\tremaining: 2m 25s\n"
     ]
    },
    {
     "name": "stdout",
     "output_type": "stream",
     "text": [
      "4250:\tlearn: 0.8699787\ttest: 0.7978184\tbest: 0.7986050 (3913)\ttotal: 13m 19s\tremaining: 2m 20s\n"
     ]
    },
    {
     "name": "stdout",
     "output_type": "stream",
     "text": [
      "4275:\tlearn: 0.8703059\ttest: 0.7980098\tbest: 0.7986050 (3913)\ttotal: 13m 24s\tremaining: 2m 16s\n"
     ]
    },
    {
     "name": "stdout",
     "output_type": "stream",
     "text": [
      "4300:\tlearn: 0.8707058\ttest: 0.7978203\tbest: 0.7986050 (3913)\ttotal: 13m 29s\tremaining: 2m 11s\n"
     ]
    },
    {
     "name": "stdout",
     "output_type": "stream",
     "text": [
      "4325:\tlearn: 0.8711392\ttest: 0.7981985\tbest: 0.7986050 (3913)\ttotal: 13m 33s\tremaining: 2m 6s\n"
     ]
    },
    {
     "name": "stdout",
     "output_type": "stream",
     "text": [
      "4350:\tlearn: 0.8713399\ttest: 0.7981220\tbest: 0.7986050 (3913)\ttotal: 13m 38s\tremaining: 2m 2s\n"
     ]
    },
    {
     "name": "stdout",
     "output_type": "stream",
     "text": [
      "4375:\tlearn: 0.8715850\ttest: 0.7982456\tbest: 0.7986050 (3913)\ttotal: 13m 43s\tremaining: 1m 57s\n"
     ]
    },
    {
     "name": "stdout",
     "output_type": "stream",
     "text": [
      "4400:\tlearn: 0.8720518\ttest: 0.7977254\tbest: 0.7986050 (3913)\ttotal: 13m 47s\tremaining: 1m 52s\n"
     ]
    },
    {
     "name": "stdout",
     "output_type": "stream",
     "text": [
      "4425:\tlearn: 0.8723768\ttest: 0.7974322\tbest: 0.7986050 (3913)\ttotal: 13m 52s\tremaining: 1m 47s\n"
     ]
    },
    {
     "name": "stdout",
     "output_type": "stream",
     "text": [
      "4450:\tlearn: 0.8729972\ttest: 0.7974983\tbest: 0.7986050 (3913)\ttotal: 13m 57s\tremaining: 1m 43s\n"
     ]
    },
    {
     "name": "stdout",
     "output_type": "stream",
     "text": [
      "4475:\tlearn: 0.8732529\ttest: 0.7973300\tbest: 0.7986050 (3913)\ttotal: 14m 1s\tremaining: 1m 38s\n"
     ]
    },
    {
     "name": "stdout",
     "output_type": "stream",
     "text": [
      "4500:\tlearn: 0.8735499\ttest: 0.7974560\tbest: 0.7986050 (3913)\ttotal: 14m 6s\tremaining: 1m 33s\n"
     ]
    },
    {
     "name": "stdout",
     "output_type": "stream",
     "text": [
      "4525:\tlearn: 0.8741757\ttest: 0.7975859\tbest: 0.7986050 (3913)\ttotal: 14m 11s\tremaining: 1m 29s\n"
     ]
    },
    {
     "name": "stdout",
     "output_type": "stream",
     "text": [
      "4550:\tlearn: 0.8744771\ttest: 0.7979191\tbest: 0.7986050 (3913)\ttotal: 14m 16s\tremaining: 1m 24s\n"
     ]
    },
    {
     "name": "stdout",
     "output_type": "stream",
     "text": [
      "4575:\tlearn: 0.8748976\ttest: 0.7975402\tbest: 0.7986050 (3913)\ttotal: 14m 20s\tremaining: 1m 19s\n"
     ]
    },
    {
     "name": "stdout",
     "output_type": "stream",
     "text": [
      "4600:\tlearn: 0.8751363\ttest: 0.7975384\tbest: 0.7986050 (3913)\ttotal: 14m 25s\tremaining: 1m 15s\n"
     ]
    },
    {
     "name": "stdout",
     "output_type": "stream",
     "text": [
      "4625:\tlearn: 0.8756029\ttest: 0.7973956\tbest: 0.7986050 (3913)\ttotal: 14m 30s\tremaining: 1m 10s\n"
     ]
    },
    {
     "name": "stdout",
     "output_type": "stream",
     "text": [
      "4650:\tlearn: 0.8758821\ttest: 0.7974580\tbest: 0.7986050 (3913)\ttotal: 14m 34s\tremaining: 1m 5s\n"
     ]
    },
    {
     "name": "stdout",
     "output_type": "stream",
     "text": [
      "4675:\tlearn: 0.8762233\ttest: 0.7972906\tbest: 0.7986050 (3913)\ttotal: 14m 39s\tremaining: 1m\n"
     ]
    },
    {
     "name": "stdout",
     "output_type": "stream",
     "text": [
      "4700:\tlearn: 0.8765952\ttest: 0.7976541\tbest: 0.7986050 (3913)\ttotal: 14m 44s\tremaining: 56.2s\n"
     ]
    },
    {
     "name": "stdout",
     "output_type": "stream",
     "text": [
      "4725:\tlearn: 0.8770914\ttest: 0.7973416\tbest: 0.7986050 (3913)\ttotal: 14m 48s\tremaining: 51.5s\n"
     ]
    },
    {
     "name": "stdout",
     "output_type": "stream",
     "text": [
      "4750:\tlearn: 0.8775438\ttest: 0.7975151\tbest: 0.7986050 (3913)\ttotal: 14m 53s\tremaining: 46.8s\n"
     ]
    },
    {
     "name": "stdout",
     "output_type": "stream",
     "text": [
      "4775:\tlearn: 0.8778637\ttest: 0.7976834\tbest: 0.7986050 (3913)\ttotal: 14m 58s\tremaining: 42.1s\n"
     ]
    },
    {
     "name": "stdout",
     "output_type": "stream",
     "text": [
      "4800:\tlearn: 0.8782847\ttest: 0.7977140\tbest: 0.7986050 (3913)\ttotal: 15m 3s\tremaining: 37.4s\n"
     ]
    },
    {
     "name": "stdout",
     "output_type": "stream",
     "text": [
      "4825:\tlearn: 0.8785592\ttest: 0.7973344\tbest: 0.7986050 (3913)\ttotal: 15m 7s\tremaining: 32.7s\n"
     ]
    },
    {
     "name": "stdout",
     "output_type": "stream",
     "text": [
      "4850:\tlearn: 0.8788475\ttest: 0.7976871\tbest: 0.7986050 (3913)\ttotal: 15m 12s\tremaining: 28s\n"
     ]
    },
    {
     "name": "stdout",
     "output_type": "stream",
     "text": [
      "4875:\tlearn: 0.8791952\ttest: 0.7974000\tbest: 0.7986050 (3913)\ttotal: 15m 17s\tremaining: 23.3s\n"
     ]
    },
    {
     "name": "stdout",
     "output_type": "stream",
     "text": [
      "4900:\tlearn: 0.8795694\ttest: 0.7975932\tbest: 0.7986050 (3913)\ttotal: 15m 21s\tremaining: 18.6s\n"
     ]
    },
    {
     "name": "stdout",
     "output_type": "stream",
     "text": [
      "4925:\tlearn: 0.8798101\ttest: 0.7972641\tbest: 0.7986050 (3913)\ttotal: 15m 26s\tremaining: 13.9s\n"
     ]
    },
    {
     "name": "stdout",
     "output_type": "stream",
     "text": [
      "4950:\tlearn: 0.8801131\ttest: 0.7975151\tbest: 0.7986050 (3913)\ttotal: 15m 31s\tremaining: 9.22s\n"
     ]
    },
    {
     "name": "stdout",
     "output_type": "stream",
     "text": [
      "4975:\tlearn: 0.8805939\ttest: 0.7973707\tbest: 0.7986050 (3913)\ttotal: 15m 36s\tremaining: 4.51s\n"
     ]
    },
    {
     "name": "stdout",
     "output_type": "stream",
     "text": [
      "4999:\tlearn: 0.8808117\ttest: 0.7974964\tbest: 0.7986050 (3913)\ttotal: 15m 40s\tremaining: 0us\n",
      "\n",
      "bestTest = 0.7986050423\n",
      "bestIteration = 3913\n",
      "\n"
     ]
    },
    {
     "name": "stdout",
     "output_type": "stream",
     "text": [
      "######################################## training model 4/5 ########################################\n"
     ]
    },
    {
     "name": "stdout",
     "output_type": "stream",
     "text": [
      "0:\tlearn: 0.5508144\ttest: 0.5578809\tbest: 0.5578809 (0)\ttotal: 504ms\tremaining: 41m 59s\n"
     ]
    },
    {
     "name": "stdout",
     "output_type": "stream",
     "text": [
      "25:\tlearn: 0.7136390\ttest: 0.7197829\tbest: 0.7197829 (25)\ttotal: 5.06s\tremaining: 16m 8s\n"
     ]
    },
    {
     "name": "stdout",
     "output_type": "stream",
     "text": [
      "50:\tlearn: 0.7316454\ttest: 0.7362144\tbest: 0.7362144 (50)\ttotal: 9.74s\tremaining: 15m 45s\n"
     ]
    },
    {
     "name": "stdout",
     "output_type": "stream",
     "text": [
      "75:\tlearn: 0.7432615\ttest: 0.7501066\tbest: 0.7501066 (75)\ttotal: 14.4s\tremaining: 15m 34s\n"
     ]
    },
    {
     "name": "stdout",
     "output_type": "stream",
     "text": [
      "100:\tlearn: 0.7490518\ttest: 0.7548486\tbest: 0.7548486 (100)\ttotal: 19.1s\tremaining: 15m 25s\n"
     ]
    },
    {
     "name": "stdout",
     "output_type": "stream",
     "text": [
      "125:\tlearn: 0.7533079\ttest: 0.7587845\tbest: 0.7587845 (125)\ttotal: 23.8s\tremaining: 15m 19s\n"
     ]
    },
    {
     "name": "stdout",
     "output_type": "stream",
     "text": [
      "150:\tlearn: 0.7560960\ttest: 0.7611751\tbest: 0.7611751 (150)\ttotal: 28.4s\tremaining: 15m 13s\n"
     ]
    },
    {
     "name": "stdout",
     "output_type": "stream",
     "text": [
      "175:\tlearn: 0.7585676\ttest: 0.7638768\tbest: 0.7638768 (175)\ttotal: 33.2s\tremaining: 15m 8s\n"
     ]
    },
    {
     "name": "stdout",
     "output_type": "stream",
     "text": [
      "200:\tlearn: 0.7608299\ttest: 0.7659756\tbest: 0.7662667 (198)\ttotal: 37.8s\tremaining: 15m 2s\n"
     ]
    },
    {
     "name": "stdout",
     "output_type": "stream",
     "text": [
      "225:\tlearn: 0.7626241\ttest: 0.7681975\tbest: 0.7681975 (225)\ttotal: 42.5s\tremaining: 14m 56s\n"
     ]
    },
    {
     "name": "stdout",
     "output_type": "stream",
     "text": [
      "250:\tlearn: 0.7641461\ttest: 0.7703544\tbest: 0.7703544 (250)\ttotal: 47.2s\tremaining: 14m 52s\n"
     ]
    },
    {
     "name": "stdout",
     "output_type": "stream",
     "text": [
      "275:\tlearn: 0.7666964\ttest: 0.7725252\tbest: 0.7725252 (275)\ttotal: 51.9s\tremaining: 14m 47s\n"
     ]
    },
    {
     "name": "stdout",
     "output_type": "stream",
     "text": [
      "300:\tlearn: 0.7708981\ttest: 0.7760159\tbest: 0.7761303 (299)\ttotal: 56.6s\tremaining: 14m 43s\n"
     ]
    },
    {
     "name": "stdout",
     "output_type": "stream",
     "text": [
      "325:\tlearn: 0.7754161\ttest: 0.7798396\tbest: 0.7798878 (324)\ttotal: 1m 1s\tremaining: 14m 39s\n"
     ]
    },
    {
     "name": "stdout",
     "output_type": "stream",
     "text": [
      "350:\tlearn: 0.7788890\ttest: 0.7835598\tbest: 0.7835598 (350)\ttotal: 1m 6s\tremaining: 14m 34s\n"
     ]
    },
    {
     "name": "stdout",
     "output_type": "stream",
     "text": [
      "375:\tlearn: 0.7816196\ttest: 0.7856321\tbest: 0.7856321 (375)\ttotal: 1m 10s\tremaining: 14m 29s\n"
     ]
    },
    {
     "name": "stdout",
     "output_type": "stream",
     "text": [
      "400:\tlearn: 0.7838097\ttest: 0.7868628\tbest: 0.7871041 (395)\ttotal: 1m 15s\tremaining: 14m 24s\n"
     ]
    },
    {
     "name": "stdout",
     "output_type": "stream",
     "text": [
      "425:\tlearn: 0.7855203\ttest: 0.7886048\tbest: 0.7886048 (425)\ttotal: 1m 20s\tremaining: 14m 20s\n"
     ]
    },
    {
     "name": "stdout",
     "output_type": "stream",
     "text": [
      "450:\tlearn: 0.7872741\ttest: 0.7893445\tbest: 0.7895281 (443)\ttotal: 1m 24s\tremaining: 14m 16s\n"
     ]
    },
    {
     "name": "stdout",
     "output_type": "stream",
     "text": [
      "475:\tlearn: 0.7889577\ttest: 0.7898757\tbest: 0.7900030 (473)\ttotal: 1m 29s\tremaining: 14m 11s\n"
     ]
    },
    {
     "name": "stdout",
     "output_type": "stream",
     "text": [
      "500:\tlearn: 0.7900373\ttest: 0.7910573\tbest: 0.7914136 (497)\ttotal: 1m 34s\tremaining: 14m 6s\n"
     ]
    },
    {
     "name": "stdout",
     "output_type": "stream",
     "text": [
      "525:\tlearn: 0.7912164\ttest: 0.7921884\tbest: 0.7921884 (525)\ttotal: 1m 38s\tremaining: 14m 1s\n"
     ]
    },
    {
     "name": "stdout",
     "output_type": "stream",
     "text": [
      "550:\tlearn: 0.7926437\ttest: 0.7923611\tbest: 0.7926297 (545)\ttotal: 1m 43s\tremaining: 13m 57s\n"
     ]
    },
    {
     "name": "stdout",
     "output_type": "stream",
     "text": [
      "575:\tlearn: 0.7934475\ttest: 0.7928566\tbest: 0.7928566 (575)\ttotal: 1m 48s\tremaining: 13m 52s\n"
     ]
    },
    {
     "name": "stdout",
     "output_type": "stream",
     "text": [
      "600:\tlearn: 0.7945223\ttest: 0.7938057\tbest: 0.7938427 (598)\ttotal: 1m 53s\tremaining: 13m 47s\n"
     ]
    },
    {
     "name": "stdout",
     "output_type": "stream",
     "text": [
      "625:\tlearn: 0.7955435\ttest: 0.7940382\tbest: 0.7943186 (620)\ttotal: 1m 57s\tremaining: 13m 43s\n"
     ]
    },
    {
     "name": "stdout",
     "output_type": "stream",
     "text": [
      "650:\tlearn: 0.7963078\ttest: 0.7944017\tbest: 0.7945671 (646)\ttotal: 2m 2s\tremaining: 13m 38s\n"
     ]
    },
    {
     "name": "stdout",
     "output_type": "stream",
     "text": [
      "675:\tlearn: 0.7971041\ttest: 0.7951466\tbest: 0.7952624 (671)\ttotal: 2m 7s\tremaining: 13m 33s\n"
     ]
    },
    {
     "name": "stdout",
     "output_type": "stream",
     "text": [
      "700:\tlearn: 0.7979426\ttest: 0.7952999\tbest: 0.7955290 (683)\ttotal: 2m 11s\tremaining: 13m 28s\n"
     ]
    },
    {
     "name": "stdout",
     "output_type": "stream",
     "text": [
      "725:\tlearn: 0.7986460\ttest: 0.7955765\tbest: 0.7956364 (724)\ttotal: 2m 16s\tremaining: 13m 23s\n"
     ]
    },
    {
     "name": "stdout",
     "output_type": "stream",
     "text": [
      "750:\tlearn: 0.7997308\ttest: 0.7955433\tbest: 0.7958671 (747)\ttotal: 2m 21s\tremaining: 13m 19s\n"
     ]
    },
    {
     "name": "stdout",
     "output_type": "stream",
     "text": [
      "775:\tlearn: 0.8003437\ttest: 0.7962310\tbest: 0.7962310 (775)\ttotal: 2m 26s\tremaining: 13m 14s\n"
     ]
    },
    {
     "name": "stdout",
     "output_type": "stream",
     "text": [
      "800:\tlearn: 0.8010493\ttest: 0.7966351\tbest: 0.7967889 (782)\ttotal: 2m 30s\tremaining: 13m 10s\n"
     ]
    },
    {
     "name": "stdout",
     "output_type": "stream",
     "text": [
      "825:\tlearn: 0.8016562\ttest: 0.7970609\tbest: 0.7970609 (825)\ttotal: 2m 35s\tremaining: 13m 5s\n"
     ]
    },
    {
     "name": "stdout",
     "output_type": "stream",
     "text": [
      "850:\tlearn: 0.8025877\ttest: 0.7974022\tbest: 0.7975805 (844)\ttotal: 2m 40s\tremaining: 13m\n"
     ]
    },
    {
     "name": "stdout",
     "output_type": "stream",
     "text": [
      "875:\tlearn: 0.8033931\ttest: 0.7974067\tbest: 0.7976279 (872)\ttotal: 2m 44s\tremaining: 12m 55s\n"
     ]
    },
    {
     "name": "stdout",
     "output_type": "stream",
     "text": [
      "900:\tlearn: 0.8043630\ttest: 0.7975015\tbest: 0.7976279 (872)\ttotal: 2m 49s\tremaining: 12m 51s\n"
     ]
    },
    {
     "name": "stdout",
     "output_type": "stream",
     "text": [
      "925:\tlearn: 0.8050560\ttest: 0.7979311\tbest: 0.7981990 (922)\ttotal: 2m 54s\tremaining: 12m 46s\n"
     ]
    },
    {
     "name": "stdout",
     "output_type": "stream",
     "text": [
      "950:\tlearn: 0.8057679\ttest: 0.7982640\tbest: 0.7984522 (948)\ttotal: 2m 58s\tremaining: 12m 41s\n"
     ]
    },
    {
     "name": "stdout",
     "output_type": "stream",
     "text": [
      "975:\tlearn: 0.8064604\ttest: 0.7984076\tbest: 0.7988243 (971)\ttotal: 3m 3s\tremaining: 12m 36s\n"
     ]
    },
    {
     "name": "stdout",
     "output_type": "stream",
     "text": [
      "1000:\tlearn: 0.8070621\ttest: 0.7985084\tbest: 0.7988243 (971)\ttotal: 3m 8s\tremaining: 12m 32s\n"
     ]
    },
    {
     "name": "stdout",
     "output_type": "stream",
     "text": [
      "1025:\tlearn: 0.8079316\ttest: 0.7986713\tbest: 0.7989770 (1003)\ttotal: 3m 12s\tremaining: 12m 27s\n"
     ]
    },
    {
     "name": "stdout",
     "output_type": "stream",
     "text": [
      "1050:\tlearn: 0.8084487\ttest: 0.7990207\tbest: 0.7991366 (1044)\ttotal: 3m 17s\tremaining: 12m 22s\n"
     ]
    },
    {
     "name": "stdout",
     "output_type": "stream",
     "text": [
      "1075:\tlearn: 0.8092819\ttest: 0.7992019\tbest: 0.7993012 (1070)\ttotal: 3m 22s\tremaining: 12m 18s\n"
     ]
    },
    {
     "name": "stdout",
     "output_type": "stream",
     "text": [
      "1100:\tlearn: 0.8099716\ttest: 0.7994595\tbest: 0.7995192 (1077)\ttotal: 3m 27s\tremaining: 12m 13s\n"
     ]
    },
    {
     "name": "stdout",
     "output_type": "stream",
     "text": [
      "1125:\tlearn: 0.8106483\ttest: 0.7992769\tbest: 0.7995192 (1077)\ttotal: 3m 31s\tremaining: 12m 8s\n"
     ]
    },
    {
     "name": "stdout",
     "output_type": "stream",
     "text": [
      "1150:\tlearn: 0.8112819\ttest: 0.7995605\tbest: 0.7996455 (1149)\ttotal: 3m 36s\tremaining: 12m 3s\n"
     ]
    },
    {
     "name": "stdout",
     "output_type": "stream",
     "text": [
      "1175:\tlearn: 0.8119913\ttest: 0.7994236\tbest: 0.7997229 (1161)\ttotal: 3m 41s\tremaining: 11m 59s\n"
     ]
    },
    {
     "name": "stdout",
     "output_type": "stream",
     "text": [
      "1200:\tlearn: 0.8127229\ttest: 0.7995983\tbest: 0.7997229 (1161)\ttotal: 3m 45s\tremaining: 11m 54s\n"
     ]
    },
    {
     "name": "stdout",
     "output_type": "stream",
     "text": [
      "1225:\tlearn: 0.8135077\ttest: 0.7999953\tbest: 0.7999953 (1225)\ttotal: 3m 50s\tremaining: 11m 49s\n"
     ]
    },
    {
     "name": "stdout",
     "output_type": "stream",
     "text": [
      "1250:\tlearn: 0.8141458\ttest: 0.7997183\tbest: 0.8001008 (1227)\ttotal: 3m 55s\tremaining: 11m 45s\n"
     ]
    },
    {
     "name": "stdout",
     "output_type": "stream",
     "text": [
      "1275:\tlearn: 0.8146102\ttest: 0.7999496\tbest: 0.8001008 (1227)\ttotal: 3m 59s\tremaining: 11m 40s\n"
     ]
    },
    {
     "name": "stdout",
     "output_type": "stream",
     "text": [
      "1300:\tlearn: 0.8152069\ttest: 0.7999329\tbest: 0.8001008 (1227)\ttotal: 4m 4s\tremaining: 11m 35s\n"
     ]
    },
    {
     "name": "stdout",
     "output_type": "stream",
     "text": [
      "1325:\tlearn: 0.8156446\ttest: 0.7999699\tbest: 0.8002645 (1322)\ttotal: 4m 9s\tremaining: 11m 30s\n"
     ]
    },
    {
     "name": "stdout",
     "output_type": "stream",
     "text": [
      "1350:\tlearn: 0.8161729\ttest: 0.8003039\tbest: 0.8003327 (1330)\ttotal: 4m 14s\tremaining: 11m 26s\n"
     ]
    },
    {
     "name": "stdout",
     "output_type": "stream",
     "text": [
      "1375:\tlearn: 0.8166318\ttest: 0.8006358\tbest: 0.8006358 (1375)\ttotal: 4m 18s\tremaining: 11m 21s\n"
     ]
    },
    {
     "name": "stdout",
     "output_type": "stream",
     "text": [
      "1400:\tlearn: 0.8171963\ttest: 0.8003997\tbest: 0.8006592 (1378)\ttotal: 4m 23s\tremaining: 11m 16s\n"
     ]
    },
    {
     "name": "stdout",
     "output_type": "stream",
     "text": [
      "1425:\tlearn: 0.8180627\ttest: 0.8006481\tbest: 0.8006592 (1378)\ttotal: 4m 28s\tremaining: 11m 11s\n"
     ]
    },
    {
     "name": "stdout",
     "output_type": "stream",
     "text": [
      "1450:\tlearn: 0.8185253\ttest: 0.8003601\tbest: 0.8006735 (1429)\ttotal: 4m 32s\tremaining: 11m 7s\n"
     ]
    },
    {
     "name": "stdout",
     "output_type": "stream",
     "text": [
      "1475:\tlearn: 0.8189632\ttest: 0.8003786\tbest: 0.8006735 (1429)\ttotal: 4m 37s\tremaining: 11m 2s\n"
     ]
    },
    {
     "name": "stdout",
     "output_type": "stream",
     "text": [
      "1500:\tlearn: 0.8195333\ttest: 0.8007761\tbest: 0.8008171 (1499)\ttotal: 4m 42s\tremaining: 10m 57s\n"
     ]
    },
    {
     "name": "stdout",
     "output_type": "stream",
     "text": [
      "1525:\tlearn: 0.8200951\ttest: 0.8009940\tbest: 0.8009940 (1524)\ttotal: 4m 46s\tremaining: 10m 52s\n"
     ]
    },
    {
     "name": "stdout",
     "output_type": "stream",
     "text": [
      "1550:\tlearn: 0.8206185\ttest: 0.8012589\tbest: 0.8012999 (1549)\ttotal: 4m 51s\tremaining: 10m 48s\n"
     ]
    },
    {
     "name": "stdout",
     "output_type": "stream",
     "text": [
      "1575:\tlearn: 0.8213421\ttest: 0.8013988\tbest: 0.8013988 (1574)\ttotal: 4m 56s\tremaining: 10m 43s\n"
     ]
    },
    {
     "name": "stdout",
     "output_type": "stream",
     "text": [
      "1600:\tlearn: 0.8220450\ttest: 0.8010922\tbest: 0.8013988 (1574)\ttotal: 5m\tremaining: 10m 38s\n"
     ]
    },
    {
     "name": "stdout",
     "output_type": "stream",
     "text": [
      "1625:\tlearn: 0.8226548\ttest: 0.8012489\tbest: 0.8014385 (1623)\ttotal: 5m 5s\tremaining: 10m 34s\n"
     ]
    },
    {
     "name": "stdout",
     "output_type": "stream",
     "text": [
      "1650:\tlearn: 0.8231237\ttest: 0.8014266\tbest: 0.8014385 (1623)\ttotal: 5m 10s\tremaining: 10m 29s\n"
     ]
    },
    {
     "name": "stdout",
     "output_type": "stream",
     "text": [
      "1675:\tlearn: 0.8237189\ttest: 0.8011598\tbest: 0.8015739 (1656)\ttotal: 5m 14s\tremaining: 10m 24s\n"
     ]
    },
    {
     "name": "stdout",
     "output_type": "stream",
     "text": [
      "1700:\tlearn: 0.8242340\ttest: 0.8012119\tbest: 0.8015739 (1656)\ttotal: 5m 19s\tremaining: 10m 19s\n"
     ]
    },
    {
     "name": "stdout",
     "output_type": "stream",
     "text": [
      "1725:\tlearn: 0.8246427\ttest: 0.8006999\tbest: 0.8015739 (1656)\ttotal: 5m 24s\tremaining: 10m 15s\n"
     ]
    },
    {
     "name": "stdout",
     "output_type": "stream",
     "text": [
      "1750:\tlearn: 0.8251679\ttest: 0.8011103\tbest: 0.8015739 (1656)\ttotal: 5m 29s\tremaining: 10m 10s\n"
     ]
    },
    {
     "name": "stdout",
     "output_type": "stream",
     "text": [
      "1775:\tlearn: 0.8256011\ttest: 0.8015192\tbest: 0.8015739 (1656)\ttotal: 5m 33s\tremaining: 10m 5s\n"
     ]
    },
    {
     "name": "stdout",
     "output_type": "stream",
     "text": [
      "1800:\tlearn: 0.8258797\ttest: 0.8017798\tbest: 0.8018401 (1799)\ttotal: 5m 38s\tremaining: 10m\n"
     ]
    },
    {
     "name": "stdout",
     "output_type": "stream",
     "text": [
      "1825:\tlearn: 0.8266469\ttest: 0.8017315\tbest: 0.8022088 (1817)\ttotal: 5m 43s\tremaining: 9m 56s\n"
     ]
    },
    {
     "name": "stdout",
     "output_type": "stream",
     "text": [
      "1850:\tlearn: 0.8270819\ttest: 0.8021032\tbest: 0.8022088 (1817)\ttotal: 5m 47s\tremaining: 9m 51s\n"
     ]
    },
    {
     "name": "stdout",
     "output_type": "stream",
     "text": [
      "1875:\tlearn: 0.8276391\ttest: 0.8018249\tbest: 0.8022135 (1864)\ttotal: 5m 52s\tremaining: 9m 46s\n"
     ]
    },
    {
     "name": "stdout",
     "output_type": "stream",
     "text": [
      "1900:\tlearn: 0.8282757\ttest: 0.8022391\tbest: 0.8022753 (1885)\ttotal: 5m 57s\tremaining: 9m 42s\n"
     ]
    },
    {
     "name": "stdout",
     "output_type": "stream",
     "text": [
      "1925:\tlearn: 0.8287290\ttest: 0.8019369\tbest: 0.8024923 (1905)\ttotal: 6m 1s\tremaining: 9m 37s\n"
     ]
    },
    {
     "name": "stdout",
     "output_type": "stream",
     "text": [
      "1950:\tlearn: 0.8292079\ttest: 0.8021075\tbest: 0.8024923 (1905)\ttotal: 6m 6s\tremaining: 9m 32s\n"
     ]
    },
    {
     "name": "stdout",
     "output_type": "stream",
     "text": [
      "1975:\tlearn: 0.8299769\ttest: 0.8018690\tbest: 0.8024923 (1905)\ttotal: 6m 11s\tremaining: 9m 27s\n"
     ]
    },
    {
     "name": "stdout",
     "output_type": "stream",
     "text": [
      "2000:\tlearn: 0.8303607\ttest: 0.8022054\tbest: 0.8024923 (1905)\ttotal: 6m 15s\tremaining: 9m 23s\n"
     ]
    },
    {
     "name": "stdout",
     "output_type": "stream",
     "text": [
      "2025:\tlearn: 0.8308184\ttest: 0.8022804\tbest: 0.8024923 (1905)\ttotal: 6m 20s\tremaining: 9m 18s\n"
     ]
    },
    {
     "name": "stdout",
     "output_type": "stream",
     "text": [
      "2050:\tlearn: 0.8313622\ttest: 0.8023945\tbest: 0.8024923 (1905)\ttotal: 6m 25s\tremaining: 9m 13s\n"
     ]
    },
    {
     "name": "stdout",
     "output_type": "stream",
     "text": [
      "2075:\tlearn: 0.8317539\ttest: 0.8020469\tbest: 0.8024923 (1905)\ttotal: 6m 29s\tremaining: 9m 9s\n"
     ]
    },
    {
     "name": "stdout",
     "output_type": "stream",
     "text": [
      "2100:\tlearn: 0.8321476\ttest: 0.8023293\tbest: 0.8024923 (1905)\ttotal: 6m 34s\tremaining: 9m 4s\n"
     ]
    },
    {
     "name": "stdout",
     "output_type": "stream",
     "text": [
      "2125:\tlearn: 0.8327141\ttest: 0.8019335\tbest: 0.8024923 (1905)\ttotal: 6m 39s\tremaining: 8m 59s\n"
     ]
    },
    {
     "name": "stdout",
     "output_type": "stream",
     "text": [
      "2150:\tlearn: 0.8332968\ttest: 0.8019788\tbest: 0.8024923 (1905)\ttotal: 6m 43s\tremaining: 8m 54s\n"
     ]
    },
    {
     "name": "stdout",
     "output_type": "stream",
     "text": [
      "2175:\tlearn: 0.8337624\ttest: 0.8020498\tbest: 0.8024923 (1905)\ttotal: 6m 48s\tremaining: 8m 50s\n"
     ]
    },
    {
     "name": "stdout",
     "output_type": "stream",
     "text": [
      "2200:\tlearn: 0.8341460\ttest: 0.8015535\tbest: 0.8024923 (1905)\ttotal: 6m 53s\tremaining: 8m 45s\n"
     ]
    },
    {
     "name": "stdout",
     "output_type": "stream",
     "text": [
      "2225:\tlearn: 0.8345243\ttest: 0.8014148\tbest: 0.8024923 (1905)\ttotal: 6m 57s\tremaining: 8m 40s\n"
     ]
    },
    {
     "name": "stdout",
     "output_type": "stream",
     "text": [
      "2250:\tlearn: 0.8349885\ttest: 0.8020874\tbest: 0.8024923 (1905)\ttotal: 7m 2s\tremaining: 8m 36s\n"
     ]
    },
    {
     "name": "stdout",
     "output_type": "stream",
     "text": [
      "2275:\tlearn: 0.8355171\ttest: 0.8022467\tbest: 0.8024923 (1905)\ttotal: 7m 7s\tremaining: 8m 31s\n"
     ]
    },
    {
     "name": "stdout",
     "output_type": "stream",
     "text": [
      "2300:\tlearn: 0.8358753\ttest: 0.8017291\tbest: 0.8024923 (1905)\ttotal: 7m 12s\tremaining: 8m 26s\n"
     ]
    },
    {
     "name": "stdout",
     "output_type": "stream",
     "text": [
      "2325:\tlearn: 0.8361542\ttest: 0.8017561\tbest: 0.8024923 (1905)\ttotal: 7m 16s\tremaining: 8m 22s\n"
     ]
    },
    {
     "name": "stdout",
     "output_type": "stream",
     "text": [
      "2350:\tlearn: 0.8366837\ttest: 0.8018067\tbest: 0.8024923 (1905)\ttotal: 7m 21s\tremaining: 8m 17s\n"
     ]
    },
    {
     "name": "stdout",
     "output_type": "stream",
     "text": [
      "2375:\tlearn: 0.8369826\ttest: 0.8020643\tbest: 0.8024923 (1905)\ttotal: 7m 26s\tremaining: 8m 12s\n"
     ]
    },
    {
     "name": "stdout",
     "output_type": "stream",
     "text": [
      "2400:\tlearn: 0.8375197\ttest: 0.8017902\tbest: 0.8024923 (1905)\ttotal: 7m 30s\tremaining: 8m 7s\n"
     ]
    },
    {
     "name": "stdout",
     "output_type": "stream",
     "text": [
      "2425:\tlearn: 0.8381871\ttest: 0.8015615\tbest: 0.8024923 (1905)\ttotal: 7m 35s\tremaining: 8m 3s\n"
     ]
    },
    {
     "name": "stdout",
     "output_type": "stream",
     "text": [
      "2450:\tlearn: 0.8386063\ttest: 0.8015758\tbest: 0.8024923 (1905)\ttotal: 7m 40s\tremaining: 7m 58s\n"
     ]
    },
    {
     "name": "stdout",
     "output_type": "stream",
     "text": [
      "2475:\tlearn: 0.8392574\ttest: 0.8019404\tbest: 0.8024923 (1905)\ttotal: 7m 44s\tremaining: 7m 53s\n"
     ]
    },
    {
     "name": "stdout",
     "output_type": "stream",
     "text": [
      "2500:\tlearn: 0.8397186\ttest: 0.8017160\tbest: 0.8024923 (1905)\ttotal: 7m 49s\tremaining: 7m 49s\n"
     ]
    },
    {
     "name": "stdout",
     "output_type": "stream",
     "text": [
      "2525:\tlearn: 0.8402074\ttest: 0.8017037\tbest: 0.8024923 (1905)\ttotal: 7m 54s\tremaining: 7m 44s\n"
     ]
    },
    {
     "name": "stdout",
     "output_type": "stream",
     "text": [
      "2550:\tlearn: 0.8407229\ttest: 0.8016439\tbest: 0.8024923 (1905)\ttotal: 7m 58s\tremaining: 7m 39s\n"
     ]
    },
    {
     "name": "stdout",
     "output_type": "stream",
     "text": [
      "2575:\tlearn: 0.8410863\ttest: 0.8018841\tbest: 0.8024923 (1905)\ttotal: 8m 3s\tremaining: 7m 35s\n"
     ]
    },
    {
     "name": "stdout",
     "output_type": "stream",
     "text": [
      "2600:\tlearn: 0.8416481\ttest: 0.8019672\tbest: 0.8024923 (1905)\ttotal: 8m 8s\tremaining: 7m 30s\n"
     ]
    },
    {
     "name": "stdout",
     "output_type": "stream",
     "text": [
      "2625:\tlearn: 0.8419442\ttest: 0.8019824\tbest: 0.8024923 (1905)\ttotal: 8m 13s\tremaining: 7m 25s\n"
     ]
    },
    {
     "name": "stdout",
     "output_type": "stream",
     "text": [
      "2650:\tlearn: 0.8422694\ttest: 0.8020506\tbest: 0.8024923 (1905)\ttotal: 8m 17s\tremaining: 7m 20s\n"
     ]
    },
    {
     "name": "stdout",
     "output_type": "stream",
     "text": [
      "2675:\tlearn: 0.8425971\ttest: 0.8021204\tbest: 0.8024923 (1905)\ttotal: 8m 22s\tremaining: 7m 16s\n"
     ]
    },
    {
     "name": "stdout",
     "output_type": "stream",
     "text": [
      "2700:\tlearn: 0.8429395\ttest: 0.8022103\tbest: 0.8024923 (1905)\ttotal: 8m 27s\tremaining: 7m 11s\n"
     ]
    },
    {
     "name": "stdout",
     "output_type": "stream",
     "text": [
      "2725:\tlearn: 0.8436069\ttest: 0.8023415\tbest: 0.8024923 (1905)\ttotal: 8m 31s\tremaining: 7m 6s\n"
     ]
    },
    {
     "name": "stdout",
     "output_type": "stream",
     "text": [
      "2750:\tlearn: 0.8440932\ttest: 0.8023458\tbest: 0.8025774 (2747)\ttotal: 8m 36s\tremaining: 7m 2s\n"
     ]
    },
    {
     "name": "stdout",
     "output_type": "stream",
     "text": [
      "2775:\tlearn: 0.8447119\ttest: 0.8024377\tbest: 0.8025774 (2747)\ttotal: 8m 41s\tremaining: 6m 57s\n"
     ]
    },
    {
     "name": "stdout",
     "output_type": "stream",
     "text": [
      "2800:\tlearn: 0.8450722\ttest: 0.8024000\tbest: 0.8025774 (2747)\ttotal: 8m 45s\tremaining: 6m 52s\n"
     ]
    },
    {
     "name": "stdout",
     "output_type": "stream",
     "text": [
      "2825:\tlearn: 0.8454880\ttest: 0.8022622\tbest: 0.8025774 (2747)\ttotal: 8m 50s\tremaining: 6m 48s\n"
     ]
    },
    {
     "name": "stdout",
     "output_type": "stream",
     "text": [
      "2850:\tlearn: 0.8458840\ttest: 0.8025601\tbest: 0.8026010 (2846)\ttotal: 8m 55s\tremaining: 6m 43s\n"
     ]
    },
    {
     "name": "stdout",
     "output_type": "stream",
     "text": [
      "2875:\tlearn: 0.8463108\ttest: 0.8023938\tbest: 0.8026010 (2846)\ttotal: 8m 59s\tremaining: 6m 38s\n"
     ]
    },
    {
     "name": "stdout",
     "output_type": "stream",
     "text": [
      "2900:\tlearn: 0.8467173\ttest: 0.8024254\tbest: 0.8026270 (2879)\ttotal: 9m 4s\tremaining: 6m 34s\n"
     ]
    },
    {
     "name": "stdout",
     "output_type": "stream",
     "text": [
      "2925:\tlearn: 0.8471684\ttest: 0.8022590\tbest: 0.8026270 (2879)\ttotal: 9m 9s\tremaining: 6m 29s\n"
     ]
    },
    {
     "name": "stdout",
     "output_type": "stream",
     "text": [
      "2950:\tlearn: 0.8475961\ttest: 0.8024291\tbest: 0.8026270 (2879)\ttotal: 9m 13s\tremaining: 6m 24s\n"
     ]
    },
    {
     "name": "stdout",
     "output_type": "stream",
     "text": [
      "2975:\tlearn: 0.8479484\ttest: 0.8026055\tbest: 0.8026270 (2879)\ttotal: 9m 18s\tremaining: 6m 19s\n"
     ]
    },
    {
     "name": "stdout",
     "output_type": "stream",
     "text": [
      "3000:\tlearn: 0.8484550\ttest: 0.8025482\tbest: 0.8026696 (2986)\ttotal: 9m 23s\tremaining: 6m 15s\n"
     ]
    },
    {
     "name": "stdout",
     "output_type": "stream",
     "text": [
      "3025:\tlearn: 0.8487879\ttest: 0.8024634\tbest: 0.8026696 (2986)\ttotal: 9m 27s\tremaining: 6m 10s\n"
     ]
    },
    {
     "name": "stdout",
     "output_type": "stream",
     "text": [
      "3050:\tlearn: 0.8492809\ttest: 0.8022180\tbest: 0.8026696 (2986)\ttotal: 9m 32s\tremaining: 6m 5s\n"
     ]
    },
    {
     "name": "stdout",
     "output_type": "stream",
     "text": [
      "3075:\tlearn: 0.8496774\ttest: 0.8020914\tbest: 0.8026696 (2986)\ttotal: 9m 37s\tremaining: 6m 1s\n"
     ]
    },
    {
     "name": "stdout",
     "output_type": "stream",
     "text": [
      "3100:\tlearn: 0.8502555\ttest: 0.8021310\tbest: 0.8026696 (2986)\ttotal: 9m 42s\tremaining: 5m 56s\n"
     ]
    },
    {
     "name": "stdout",
     "output_type": "stream",
     "text": [
      "3125:\tlearn: 0.8505877\ttest: 0.8024079\tbest: 0.8026696 (2986)\ttotal: 9m 46s\tremaining: 5m 51s\n"
     ]
    },
    {
     "name": "stdout",
     "output_type": "stream",
     "text": [
      "3150:\tlearn: 0.8507916\ttest: 0.8022674\tbest: 0.8026696 (2986)\ttotal: 9m 51s\tremaining: 5m 47s\n"
     ]
    },
    {
     "name": "stdout",
     "output_type": "stream",
     "text": [
      "3175:\tlearn: 0.8512896\ttest: 0.8021477\tbest: 0.8026696 (2986)\ttotal: 9m 56s\tremaining: 5m 42s\n"
     ]
    },
    {
     "name": "stdout",
     "output_type": "stream",
     "text": [
      "3200:\tlearn: 0.8517985\ttest: 0.8021301\tbest: 0.8026696 (2986)\ttotal: 10m\tremaining: 5m 37s\n"
     ]
    },
    {
     "name": "stdout",
     "output_type": "stream",
     "text": [
      "3225:\tlearn: 0.8524118\ttest: 0.8023434\tbest: 0.8026796 (3216)\ttotal: 10m 5s\tremaining: 5m 32s\n"
     ]
    },
    {
     "name": "stdout",
     "output_type": "stream",
     "text": [
      "3250:\tlearn: 0.8527801\ttest: 0.8023266\tbest: 0.8026796 (3216)\ttotal: 10m 10s\tremaining: 5m 28s\n"
     ]
    },
    {
     "name": "stdout",
     "output_type": "stream",
     "text": [
      "3275:\tlearn: 0.8533089\ttest: 0.8024785\tbest: 0.8027082 (3266)\ttotal: 10m 14s\tremaining: 5m 23s\n"
     ]
    },
    {
     "name": "stdout",
     "output_type": "stream",
     "text": [
      "3300:\tlearn: 0.8536508\ttest: 0.8020341\tbest: 0.8027082 (3266)\ttotal: 10m 19s\tremaining: 5m 18s\n"
     ]
    },
    {
     "name": "stdout",
     "output_type": "stream",
     "text": [
      "3325:\tlearn: 0.8540594\ttest: 0.8024347\tbest: 0.8027082 (3266)\ttotal: 10m 24s\tremaining: 5m 14s\n"
     ]
    },
    {
     "name": "stdout",
     "output_type": "stream",
     "text": [
      "3350:\tlearn: 0.8546239\ttest: 0.8023794\tbest: 0.8027329 (3345)\ttotal: 10m 28s\tremaining: 5m 9s\n"
     ]
    },
    {
     "name": "stdout",
     "output_type": "stream",
     "text": [
      "3375:\tlearn: 0.8550245\ttest: 0.8022991\tbest: 0.8027329 (3345)\ttotal: 10m 33s\tremaining: 5m 4s\n"
     ]
    },
    {
     "name": "stdout",
     "output_type": "stream",
     "text": [
      "3400:\tlearn: 0.8555156\ttest: 0.8025336\tbest: 0.8027329 (3345)\ttotal: 10m 38s\tremaining: 5m\n"
     ]
    },
    {
     "name": "stdout",
     "output_type": "stream",
     "text": [
      "3425:\tlearn: 0.8558054\ttest: 0.8024076\tbest: 0.8027329 (3345)\ttotal: 10m 42s\tremaining: 4m 55s\n"
     ]
    },
    {
     "name": "stdout",
     "output_type": "stream",
     "text": [
      "3450:\tlearn: 0.8563703\ttest: 0.8027453\tbest: 0.8028079 (3449)\ttotal: 10m 47s\tremaining: 4m 50s\n"
     ]
    },
    {
     "name": "stdout",
     "output_type": "stream",
     "text": [
      "3475:\tlearn: 0.8567135\ttest: 0.8028128\tbest: 0.8029354 (3453)\ttotal: 10m 52s\tremaining: 4m 46s\n"
     ]
    },
    {
     "name": "stdout",
     "output_type": "stream",
     "text": [
      "3500:\tlearn: 0.8571868\ttest: 0.8024568\tbest: 0.8030044 (3481)\ttotal: 10m 57s\tremaining: 4m 41s\n"
     ]
    },
    {
     "name": "stdout",
     "output_type": "stream",
     "text": [
      "3525:\tlearn: 0.8577595\ttest: 0.8022950\tbest: 0.8030044 (3481)\ttotal: 11m 1s\tremaining: 4m 36s\n"
     ]
    },
    {
     "name": "stdout",
     "output_type": "stream",
     "text": [
      "3550:\tlearn: 0.8581757\ttest: 0.8024273\tbest: 0.8030044 (3481)\ttotal: 11m 6s\tremaining: 4m 31s\n"
     ]
    },
    {
     "name": "stdout",
     "output_type": "stream",
     "text": [
      "3575:\tlearn: 0.8585414\ttest: 0.8023236\tbest: 0.8030044 (3481)\ttotal: 11m 11s\tremaining: 4m 27s\n"
     ]
    },
    {
     "name": "stdout",
     "output_type": "stream",
     "text": [
      "3600:\tlearn: 0.8588590\ttest: 0.8022366\tbest: 0.8030044 (3481)\ttotal: 11m 15s\tremaining: 4m 22s\n"
     ]
    },
    {
     "name": "stdout",
     "output_type": "stream",
     "text": [
      "3625:\tlearn: 0.8594472\ttest: 0.8021253\tbest: 0.8030044 (3481)\ttotal: 11m 20s\tremaining: 4m 17s\n"
     ]
    },
    {
     "name": "stdout",
     "output_type": "stream",
     "text": [
      "3650:\tlearn: 0.8599107\ttest: 0.8024692\tbest: 0.8030044 (3481)\ttotal: 11m 25s\tremaining: 4m 13s\n"
     ]
    },
    {
     "name": "stdout",
     "output_type": "stream",
     "text": [
      "3675:\tlearn: 0.8603255\ttest: 0.8022449\tbest: 0.8030044 (3481)\ttotal: 11m 29s\tremaining: 4m 8s\n"
     ]
    },
    {
     "name": "stdout",
     "output_type": "stream",
     "text": [
      "3700:\tlearn: 0.8607912\ttest: 0.8026921\tbest: 0.8030044 (3481)\ttotal: 11m 34s\tremaining: 4m 3s\n"
     ]
    },
    {
     "name": "stdout",
     "output_type": "stream",
     "text": [
      "3725:\tlearn: 0.8611623\ttest: 0.8030586\tbest: 0.8030586 (3725)\ttotal: 11m 39s\tremaining: 3m 59s\n"
     ]
    },
    {
     "name": "stdout",
     "output_type": "stream",
     "text": [
      "3750:\tlearn: 0.8615729\ttest: 0.8028255\tbest: 0.8030586 (3725)\ttotal: 11m 43s\tremaining: 3m 54s\n"
     ]
    },
    {
     "name": "stdout",
     "output_type": "stream",
     "text": [
      "3775:\tlearn: 0.8618121\ttest: 0.8026373\tbest: 0.8030586 (3725)\ttotal: 11m 48s\tremaining: 3m 49s\n"
     ]
    },
    {
     "name": "stdout",
     "output_type": "stream",
     "text": [
      "3800:\tlearn: 0.8622528\ttest: 0.8026049\tbest: 0.8030586 (3725)\ttotal: 11m 53s\tremaining: 3m 44s\n"
     ]
    },
    {
     "name": "stdout",
     "output_type": "stream",
     "text": [
      "3825:\tlearn: 0.8625191\ttest: 0.8030490\tbest: 0.8030586 (3725)\ttotal: 11m 57s\tremaining: 3m 40s\n"
     ]
    },
    {
     "name": "stdout",
     "output_type": "stream",
     "text": [
      "3850:\tlearn: 0.8629553\ttest: 0.8029873\tbest: 0.8030910 (3843)\ttotal: 12m 2s\tremaining: 3m 35s\n"
     ]
    },
    {
     "name": "stdout",
     "output_type": "stream",
     "text": [
      "3875:\tlearn: 0.8631308\ttest: 0.8030344\tbest: 0.8031993 (3857)\ttotal: 12m 7s\tremaining: 3m 30s\n"
     ]
    },
    {
     "name": "stdout",
     "output_type": "stream",
     "text": [
      "3900:\tlearn: 0.8636900\ttest: 0.8030998\tbest: 0.8032498 (3891)\ttotal: 12m 11s\tremaining: 3m 26s\n"
     ]
    },
    {
     "name": "stdout",
     "output_type": "stream",
     "text": [
      "3925:\tlearn: 0.8640885\ttest: 0.8033303\tbest: 0.8033924 (3905)\ttotal: 12m 16s\tremaining: 3m 21s\n"
     ]
    },
    {
     "name": "stdout",
     "output_type": "stream",
     "text": [
      "3950:\tlearn: 0.8645475\ttest: 0.8033947\tbest: 0.8034761 (3946)\ttotal: 12m 21s\tremaining: 3m 16s\n"
     ]
    },
    {
     "name": "stdout",
     "output_type": "stream",
     "text": [
      "3975:\tlearn: 0.8650188\ttest: 0.8037574\tbest: 0.8037574 (3975)\ttotal: 12m 26s\tremaining: 3m 12s\n"
     ]
    },
    {
     "name": "stdout",
     "output_type": "stream",
     "text": [
      "4000:\tlearn: 0.8654302\ttest: 0.8035245\tbest: 0.8037949 (3985)\ttotal: 12m 30s\tremaining: 3m 7s\n"
     ]
    },
    {
     "name": "stdout",
     "output_type": "stream",
     "text": [
      "4025:\tlearn: 0.8658955\ttest: 0.8035342\tbest: 0.8038251 (4019)\ttotal: 12m 35s\tremaining: 3m 2s\n"
     ]
    },
    {
     "name": "stdout",
     "output_type": "stream",
     "text": [
      "4050:\tlearn: 0.8662279\ttest: 0.8033640\tbest: 0.8038251 (4019)\ttotal: 12m 40s\tremaining: 2m 58s\n"
     ]
    },
    {
     "name": "stdout",
     "output_type": "stream",
     "text": [
      "4075:\tlearn: 0.8665313\ttest: 0.8033193\tbest: 0.8038251 (4019)\ttotal: 12m 44s\tremaining: 2m 53s\n"
     ]
    },
    {
     "name": "stdout",
     "output_type": "stream",
     "text": [
      "4100:\tlearn: 0.8670433\ttest: 0.8032582\tbest: 0.8038251 (4019)\ttotal: 12m 49s\tremaining: 2m 48s\n"
     ]
    },
    {
     "name": "stdout",
     "output_type": "stream",
     "text": [
      "4125:\tlearn: 0.8673256\ttest: 0.8032841\tbest: 0.8038251 (4019)\ttotal: 12m 54s\tremaining: 2m 43s\n"
     ]
    },
    {
     "name": "stdout",
     "output_type": "stream",
     "text": [
      "4150:\tlearn: 0.8679243\ttest: 0.8030496\tbest: 0.8038251 (4019)\ttotal: 12m 58s\tremaining: 2m 39s\n"
     ]
    },
    {
     "name": "stdout",
     "output_type": "stream",
     "text": [
      "4175:\tlearn: 0.8680616\ttest: 0.8029439\tbest: 0.8038251 (4019)\ttotal: 13m 3s\tremaining: 2m 34s\n"
     ]
    },
    {
     "name": "stdout",
     "output_type": "stream",
     "text": [
      "4200:\tlearn: 0.8685403\ttest: 0.8027720\tbest: 0.8038251 (4019)\ttotal: 13m 8s\tremaining: 2m 29s\n"
     ]
    },
    {
     "name": "stdout",
     "output_type": "stream",
     "text": [
      "4225:\tlearn: 0.8690214\ttest: 0.8028895\tbest: 0.8038251 (4019)\ttotal: 13m 12s\tremaining: 2m 25s\n"
     ]
    },
    {
     "name": "stdout",
     "output_type": "stream",
     "text": [
      "4250:\tlearn: 0.8695153\ttest: 0.8029530\tbest: 0.8038251 (4019)\ttotal: 13m 17s\tremaining: 2m 20s\n"
     ]
    },
    {
     "name": "stdout",
     "output_type": "stream",
     "text": [
      "4275:\tlearn: 0.8700361\ttest: 0.8029748\tbest: 0.8038251 (4019)\ttotal: 13m 22s\tremaining: 2m 15s\n"
     ]
    },
    {
     "name": "stdout",
     "output_type": "stream",
     "text": [
      "4300:\tlearn: 0.8705314\ttest: 0.8031860\tbest: 0.8038251 (4019)\ttotal: 13m 26s\tremaining: 2m 11s\n"
     ]
    },
    {
     "name": "stdout",
     "output_type": "stream",
     "text": [
      "4325:\tlearn: 0.8707246\ttest: 0.8031629\tbest: 0.8038251 (4019)\ttotal: 13m 31s\tremaining: 2m 6s\n"
     ]
    },
    {
     "name": "stdout",
     "output_type": "stream",
     "text": [
      "4350:\tlearn: 0.8710187\ttest: 0.8029956\tbest: 0.8038251 (4019)\ttotal: 13m 36s\tremaining: 2m 1s\n"
     ]
    },
    {
     "name": "stdout",
     "output_type": "stream",
     "text": [
      "4375:\tlearn: 0.8713316\ttest: 0.8030786\tbest: 0.8038251 (4019)\ttotal: 13m 41s\tremaining: 1m 57s\n"
     ]
    },
    {
     "name": "stdout",
     "output_type": "stream",
     "text": [
      "4400:\tlearn: 0.8717001\ttest: 0.8033514\tbest: 0.8038251 (4019)\ttotal: 13m 45s\tremaining: 1m 52s\n"
     ]
    },
    {
     "name": "stdout",
     "output_type": "stream",
     "text": [
      "4425:\tlearn: 0.8721617\ttest: 0.8033496\tbest: 0.8038251 (4019)\ttotal: 13m 50s\tremaining: 1m 47s\n"
     ]
    },
    {
     "name": "stdout",
     "output_type": "stream",
     "text": [
      "4450:\tlearn: 0.8723756\ttest: 0.8034969\tbest: 0.8038251 (4019)\ttotal: 13m 55s\tremaining: 1m 43s\n"
     ]
    },
    {
     "name": "stdout",
     "output_type": "stream",
     "text": [
      "4475:\tlearn: 0.8727553\ttest: 0.8035626\tbest: 0.8038251 (4019)\ttotal: 13m 59s\tremaining: 1m 38s\n"
     ]
    },
    {
     "name": "stdout",
     "output_type": "stream",
     "text": [
      "4500:\tlearn: 0.8729942\ttest: 0.8036696\tbest: 0.8038251 (4019)\ttotal: 14m 4s\tremaining: 1m 33s\n"
     ]
    },
    {
     "name": "stdout",
     "output_type": "stream",
     "text": [
      "4525:\tlearn: 0.8734797\ttest: 0.8036342\tbest: 0.8038251 (4019)\ttotal: 14m 9s\tremaining: 1m 28s\n"
     ]
    },
    {
     "name": "stdout",
     "output_type": "stream",
     "text": [
      "4550:\tlearn: 0.8738749\ttest: 0.8039283\tbest: 0.8039283 (4550)\ttotal: 14m 13s\tremaining: 1m 24s\n"
     ]
    },
    {
     "name": "stdout",
     "output_type": "stream",
     "text": [
      "4575:\tlearn: 0.8743351\ttest: 0.8036993\tbest: 0.8039943 (4568)\ttotal: 14m 18s\tremaining: 1m 19s\n"
     ]
    },
    {
     "name": "stdout",
     "output_type": "stream",
     "text": [
      "4600:\tlearn: 0.8746032\ttest: 0.8037423\tbest: 0.8039943 (4598)\ttotal: 14m 23s\tremaining: 1m 14s\n"
     ]
    },
    {
     "name": "stdout",
     "output_type": "stream",
     "text": [
      "4625:\tlearn: 0.8748548\ttest: 0.8033664\tbest: 0.8039943 (4598)\ttotal: 14m 27s\tremaining: 1m 10s\n"
     ]
    },
    {
     "name": "stdout",
     "output_type": "stream",
     "text": [
      "4650:\tlearn: 0.8752860\ttest: 0.8036178\tbest: 0.8039943 (4598)\ttotal: 14m 32s\tremaining: 1m 5s\n"
     ]
    },
    {
     "name": "stdout",
     "output_type": "stream",
     "text": [
      "4675:\tlearn: 0.8756113\ttest: 0.8039385\tbest: 0.8040400 (4663)\ttotal: 14m 37s\tremaining: 1m\n"
     ]
    },
    {
     "name": "stdout",
     "output_type": "stream",
     "text": [
      "4700:\tlearn: 0.8759786\ttest: 0.8040208\tbest: 0.8041485 (4682)\ttotal: 14m 41s\tremaining: 56.1s\n"
     ]
    },
    {
     "name": "stdout",
     "output_type": "stream",
     "text": [
      "4725:\tlearn: 0.8762322\ttest: 0.8040253\tbest: 0.8041485 (4682)\ttotal: 14m 46s\tremaining: 51.4s\n"
     ]
    },
    {
     "name": "stdout",
     "output_type": "stream",
     "text": [
      "4750:\tlearn: 0.8766412\ttest: 0.8039392\tbest: 0.8041485 (4682)\ttotal: 14m 51s\tremaining: 46.7s\n"
     ]
    },
    {
     "name": "stdout",
     "output_type": "stream",
     "text": [
      "4775:\tlearn: 0.8768670\ttest: 0.8036074\tbest: 0.8041485 (4682)\ttotal: 14m 55s\tremaining: 42s\n"
     ]
    },
    {
     "name": "stdout",
     "output_type": "stream",
     "text": [
      "4800:\tlearn: 0.8773227\ttest: 0.8035520\tbest: 0.8041485 (4682)\ttotal: 15m\tremaining: 37.3s\n"
     ]
    },
    {
     "name": "stdout",
     "output_type": "stream",
     "text": [
      "4825:\tlearn: 0.8774921\ttest: 0.8035320\tbest: 0.8041485 (4682)\ttotal: 15m 5s\tremaining: 32.6s\n"
     ]
    },
    {
     "name": "stdout",
     "output_type": "stream",
     "text": [
      "4850:\tlearn: 0.8779464\ttest: 0.8033409\tbest: 0.8041485 (4682)\ttotal: 15m 9s\tremaining: 27.9s\n"
     ]
    },
    {
     "name": "stdout",
     "output_type": "stream",
     "text": [
      "4875:\tlearn: 0.8782449\ttest: 0.8035353\tbest: 0.8041485 (4682)\ttotal: 15m 14s\tremaining: 23.3s\n"
     ]
    },
    {
     "name": "stdout",
     "output_type": "stream",
     "text": [
      "4900:\tlearn: 0.8786249\ttest: 0.8034544\tbest: 0.8041485 (4682)\ttotal: 15m 19s\tremaining: 18.6s\n"
     ]
    },
    {
     "name": "stdout",
     "output_type": "stream",
     "text": [
      "4925:\tlearn: 0.8789720\ttest: 0.8035211\tbest: 0.8041485 (4682)\ttotal: 15m 24s\tremaining: 13.9s\n"
     ]
    },
    {
     "name": "stdout",
     "output_type": "stream",
     "text": [
      "4950:\tlearn: 0.8795831\ttest: 0.8034548\tbest: 0.8041485 (4682)\ttotal: 15m 28s\tremaining: 9.19s\n"
     ]
    },
    {
     "name": "stdout",
     "output_type": "stream",
     "text": [
      "4975:\tlearn: 0.8800268\ttest: 0.8033552\tbest: 0.8041485 (4682)\ttotal: 15m 33s\tremaining: 4.5s\n"
     ]
    },
    {
     "name": "stdout",
     "output_type": "stream",
     "text": [
      "4999:\tlearn: 0.8802193\ttest: 0.8031201\tbest: 0.8041485 (4682)\ttotal: 15m 37s\tremaining: 0us\n",
      "\n",
      "bestTest = 0.8041484635\n",
      "bestIteration = 4682\n",
      "\n"
     ]
    },
    {
     "name": "stdout",
     "output_type": "stream",
     "text": [
      "######################################## training model 5/5 ########################################\n"
     ]
    },
    {
     "name": "stdout",
     "output_type": "stream",
     "text": [
      "0:\tlearn: 0.5640764\ttest: 0.5633468\tbest: 0.5633468 (0)\ttotal: 494ms\tremaining: 41m 10s\n"
     ]
    },
    {
     "name": "stdout",
     "output_type": "stream",
     "text": [
      "25:\tlearn: 0.7122218\ttest: 0.7133743\tbest: 0.7133743 (25)\ttotal: 5.05s\tremaining: 16m 6s\n"
     ]
    },
    {
     "name": "stdout",
     "output_type": "stream",
     "text": [
      "50:\tlearn: 0.7332858\ttest: 0.7361583\tbest: 0.7361583 (50)\ttotal: 9.75s\tremaining: 15m 46s\n"
     ]
    },
    {
     "name": "stdout",
     "output_type": "stream",
     "text": [
      "75:\tlearn: 0.7435240\ttest: 0.7449294\tbest: 0.7450160 (73)\ttotal: 14.4s\tremaining: 15m 35s\n"
     ]
    },
    {
     "name": "stdout",
     "output_type": "stream",
     "text": [
      "100:\tlearn: 0.7481682\ttest: 0.7505255\tbest: 0.7505255 (100)\ttotal: 19.1s\tremaining: 15m 25s\n"
     ]
    },
    {
     "name": "stdout",
     "output_type": "stream",
     "text": [
      "125:\tlearn: 0.7528056\ttest: 0.7543576\tbest: 0.7543576 (125)\ttotal: 23.8s\tremaining: 15m 19s\n"
     ]
    },
    {
     "name": "stdout",
     "output_type": "stream",
     "text": [
      "150:\tlearn: 0.7561405\ttest: 0.7575545\tbest: 0.7575545 (150)\ttotal: 28.4s\tremaining: 15m 13s\n"
     ]
    },
    {
     "name": "stdout",
     "output_type": "stream",
     "text": [
      "175:\tlearn: 0.7593496\ttest: 0.7613468\tbest: 0.7615552 (174)\ttotal: 33.1s\tremaining: 15m 7s\n"
     ]
    },
    {
     "name": "stdout",
     "output_type": "stream",
     "text": [
      "200:\tlearn: 0.7614237\ttest: 0.7634464\tbest: 0.7634464 (200)\ttotal: 37.8s\tremaining: 15m 1s\n"
     ]
    },
    {
     "name": "stdout",
     "output_type": "stream",
     "text": [
      "225:\tlearn: 0.7635622\ttest: 0.7646997\tbest: 0.7652072 (221)\ttotal: 42.4s\tremaining: 14m 56s\n"
     ]
    },
    {
     "name": "stdout",
     "output_type": "stream",
     "text": [
      "250:\tlearn: 0.7652686\ttest: 0.7663863\tbest: 0.7663863 (250)\ttotal: 47.1s\tremaining: 14m 51s\n"
     ]
    },
    {
     "name": "stdout",
     "output_type": "stream",
     "text": [
      "275:\tlearn: 0.7677323\ttest: 0.7682555\tbest: 0.7682630 (274)\ttotal: 51.8s\tremaining: 14m 46s\n"
     ]
    },
    {
     "name": "stdout",
     "output_type": "stream",
     "text": [
      "300:\tlearn: 0.7707849\ttest: 0.7713519\tbest: 0.7713519 (300)\ttotal: 56.5s\tremaining: 14m 42s\n"
     ]
    },
    {
     "name": "stdout",
     "output_type": "stream",
     "text": [
      "325:\tlearn: 0.7764820\ttest: 0.7755441\tbest: 0.7755441 (325)\ttotal: 1m 1s\tremaining: 14m 38s\n"
     ]
    },
    {
     "name": "stdout",
     "output_type": "stream",
     "text": [
      "350:\tlearn: 0.7799006\ttest: 0.7791444\tbest: 0.7791444 (350)\ttotal: 1m 5s\tremaining: 14m 33s\n"
     ]
    },
    {
     "name": "stdout",
     "output_type": "stream",
     "text": [
      "375:\tlearn: 0.7824654\ttest: 0.7810415\tbest: 0.7811120 (374)\ttotal: 1m 10s\tremaining: 14m 29s\n"
     ]
    },
    {
     "name": "stdout",
     "output_type": "stream",
     "text": [
      "400:\tlearn: 0.7848606\ttest: 0.7821252\tbest: 0.7822554 (399)\ttotal: 1m 15s\tremaining: 14m 25s\n"
     ]
    },
    {
     "name": "stdout",
     "output_type": "stream",
     "text": [
      "425:\tlearn: 0.7870144\ttest: 0.7836873\tbest: 0.7837811 (424)\ttotal: 1m 20s\tremaining: 14m 20s\n"
     ]
    },
    {
     "name": "stdout",
     "output_type": "stream",
     "text": [
      "450:\tlearn: 0.7887448\ttest: 0.7841035\tbest: 0.7844035 (447)\ttotal: 1m 24s\tremaining: 14m 16s\n"
     ]
    },
    {
     "name": "stdout",
     "output_type": "stream",
     "text": [
      "475:\tlearn: 0.7901926\ttest: 0.7850298\tbest: 0.7851633 (473)\ttotal: 1m 29s\tremaining: 14m 12s\n"
     ]
    },
    {
     "name": "stdout",
     "output_type": "stream",
     "text": [
      "500:\tlearn: 0.7915607\ttest: 0.7853216\tbest: 0.7854176 (494)\ttotal: 1m 34s\tremaining: 14m 7s\n"
     ]
    },
    {
     "name": "stdout",
     "output_type": "stream",
     "text": [
      "525:\tlearn: 0.7926699\ttest: 0.7855439\tbest: 0.7858496 (523)\ttotal: 1m 39s\tremaining: 14m 3s\n"
     ]
    },
    {
     "name": "stdout",
     "output_type": "stream",
     "text": [
      "550:\tlearn: 0.7940242\ttest: 0.7865597\tbest: 0.7865659 (541)\ttotal: 1m 43s\tremaining: 13m 58s\n"
     ]
    },
    {
     "name": "stdout",
     "output_type": "stream",
     "text": [
      "575:\tlearn: 0.7951059\ttest: 0.7865587\tbest: 0.7867561 (557)\ttotal: 1m 48s\tremaining: 13m 53s\n"
     ]
    },
    {
     "name": "stdout",
     "output_type": "stream",
     "text": [
      "600:\tlearn: 0.7960718\ttest: 0.7870828\tbest: 0.7872426 (598)\ttotal: 1m 53s\tremaining: 13m 48s\n"
     ]
    },
    {
     "name": "stdout",
     "output_type": "stream",
     "text": [
      "625:\tlearn: 0.7970452\ttest: 0.7866756\tbest: 0.7872426 (598)\ttotal: 1m 57s\tremaining: 13m 43s\n"
     ]
    },
    {
     "name": "stdout",
     "output_type": "stream",
     "text": [
      "650:\tlearn: 0.7982128\ttest: 0.7871432\tbest: 0.7872702 (643)\ttotal: 2m 2s\tremaining: 13m 39s\n"
     ]
    },
    {
     "name": "stdout",
     "output_type": "stream",
     "text": [
      "675:\tlearn: 0.7989250\ttest: 0.7867013\tbest: 0.7872702 (643)\ttotal: 2m 7s\tremaining: 13m 34s\n"
     ]
    },
    {
     "name": "stdout",
     "output_type": "stream",
     "text": [
      "700:\tlearn: 0.7998639\ttest: 0.7872716\tbest: 0.7872716 (700)\ttotal: 2m 12s\tremaining: 13m 29s\n"
     ]
    },
    {
     "name": "stdout",
     "output_type": "stream",
     "text": [
      "725:\tlearn: 0.8009848\ttest: 0.7873471\tbest: 0.7873471 (725)\ttotal: 2m 16s\tremaining: 13m 24s\n"
     ]
    },
    {
     "name": "stdout",
     "output_type": "stream",
     "text": [
      "750:\tlearn: 0.8017778\ttest: 0.7874405\tbest: 0.7876185 (745)\ttotal: 2m 21s\tremaining: 13m 20s\n"
     ]
    },
    {
     "name": "stdout",
     "output_type": "stream",
     "text": [
      "775:\tlearn: 0.8024160\ttest: 0.7870535\tbest: 0.7876185 (745)\ttotal: 2m 26s\tremaining: 13m 15s\n"
     ]
    },
    {
     "name": "stdout",
     "output_type": "stream",
     "text": [
      "800:\tlearn: 0.8033011\ttest: 0.7875454\tbest: 0.7878043 (794)\ttotal: 2m 30s\tremaining: 13m 10s\n"
     ]
    },
    {
     "name": "stdout",
     "output_type": "stream",
     "text": [
      "825:\tlearn: 0.8042338\ttest: 0.7875814\tbest: 0.7878043 (794)\ttotal: 2m 35s\tremaining: 13m 5s\n"
     ]
    },
    {
     "name": "stdout",
     "output_type": "stream",
     "text": [
      "850:\tlearn: 0.8049358\ttest: 0.7873389\tbest: 0.7878043 (794)\ttotal: 2m 40s\tremaining: 13m 1s\n"
     ]
    },
    {
     "name": "stdout",
     "output_type": "stream",
     "text": [
      "875:\tlearn: 0.8055906\ttest: 0.7876373\tbest: 0.7878043 (794)\ttotal: 2m 44s\tremaining: 12m 56s\n"
     ]
    },
    {
     "name": "stdout",
     "output_type": "stream",
     "text": [
      "900:\tlearn: 0.8061192\ttest: 0.7874863\tbest: 0.7879023 (884)\ttotal: 2m 49s\tremaining: 12m 51s\n"
     ]
    },
    {
     "name": "stdout",
     "output_type": "stream",
     "text": [
      "925:\tlearn: 0.8068630\ttest: 0.7881825\tbest: 0.7882228 (924)\ttotal: 2m 54s\tremaining: 12m 46s\n"
     ]
    },
    {
     "name": "stdout",
     "output_type": "stream",
     "text": [
      "950:\tlearn: 0.8074466\ttest: 0.7887238\tbest: 0.7887239 (949)\ttotal: 2m 59s\tremaining: 12m 42s\n"
     ]
    },
    {
     "name": "stdout",
     "output_type": "stream",
     "text": [
      "975:\tlearn: 0.8083766\ttest: 0.7892570\tbest: 0.7892570 (975)\ttotal: 3m 3s\tremaining: 12m 37s\n"
     ]
    },
    {
     "name": "stdout",
     "output_type": "stream",
     "text": [
      "1000:\tlearn: 0.8093334\ttest: 0.7890355\tbest: 0.7892570 (975)\ttotal: 3m 8s\tremaining: 12m 32s\n"
     ]
    },
    {
     "name": "stdout",
     "output_type": "stream",
     "text": [
      "1025:\tlearn: 0.8100822\ttest: 0.7890449\tbest: 0.7892570 (975)\ttotal: 3m 13s\tremaining: 12m 27s\n"
     ]
    },
    {
     "name": "stdout",
     "output_type": "stream",
     "text": [
      "1050:\tlearn: 0.8109582\ttest: 0.7892629\tbest: 0.7892629 (1050)\ttotal: 3m 17s\tremaining: 12m 23s\n"
     ]
    },
    {
     "name": "stdout",
     "output_type": "stream",
     "text": [
      "1075:\tlearn: 0.8116501\ttest: 0.7893496\tbest: 0.7894122 (1074)\ttotal: 3m 22s\tremaining: 12m 18s\n"
     ]
    },
    {
     "name": "stdout",
     "output_type": "stream",
     "text": [
      "1100:\tlearn: 0.8124972\ttest: 0.7892706\tbest: 0.7896268 (1080)\ttotal: 3m 27s\tremaining: 12m 13s\n"
     ]
    },
    {
     "name": "stdout",
     "output_type": "stream",
     "text": [
      "1125:\tlearn: 0.8130530\ttest: 0.7889543\tbest: 0.7896268 (1080)\ttotal: 3m 31s\tremaining: 12m 9s\n"
     ]
    },
    {
     "name": "stdout",
     "output_type": "stream",
     "text": [
      "1150:\tlearn: 0.8136512\ttest: 0.7891825\tbest: 0.7896268 (1080)\ttotal: 3m 36s\tremaining: 12m 4s\n"
     ]
    },
    {
     "name": "stdout",
     "output_type": "stream",
     "text": [
      "1175:\tlearn: 0.8141403\ttest: 0.7891268\tbest: 0.7896268 (1080)\ttotal: 3m 41s\tremaining: 11m 59s\n"
     ]
    },
    {
     "name": "stdout",
     "output_type": "stream",
     "text": [
      "1200:\tlearn: 0.8147315\ttest: 0.7894970\tbest: 0.7897255 (1195)\ttotal: 3m 46s\tremaining: 11m 54s\n"
     ]
    },
    {
     "name": "stdout",
     "output_type": "stream",
     "text": [
      "1225:\tlearn: 0.8155630\ttest: 0.7894221\tbest: 0.7897331 (1204)\ttotal: 3m 50s\tremaining: 11m 50s\n"
     ]
    },
    {
     "name": "stdout",
     "output_type": "stream",
     "text": [
      "1250:\tlearn: 0.8163757\ttest: 0.7897273\tbest: 0.7897461 (1243)\ttotal: 3m 55s\tremaining: 11m 45s\n"
     ]
    },
    {
     "name": "stdout",
     "output_type": "stream",
     "text": [
      "1275:\tlearn: 0.8170372\ttest: 0.7899104\tbest: 0.7900995 (1272)\ttotal: 4m\tremaining: 11m 40s\n"
     ]
    },
    {
     "name": "stdout",
     "output_type": "stream",
     "text": [
      "1300:\tlearn: 0.8174332\ttest: 0.7898228\tbest: 0.7900995 (1272)\ttotal: 4m 4s\tremaining: 11m 35s\n"
     ]
    },
    {
     "name": "stdout",
     "output_type": "stream",
     "text": [
      "1325:\tlearn: 0.8181117\ttest: 0.7899685\tbest: 0.7901994 (1323)\ttotal: 4m 9s\tremaining: 11m 31s\n"
     ]
    },
    {
     "name": "stdout",
     "output_type": "stream",
     "text": [
      "1350:\tlearn: 0.8188176\ttest: 0.7901091\tbest: 0.7902513 (1344)\ttotal: 4m 14s\tremaining: 11m 26s\n"
     ]
    },
    {
     "name": "stdout",
     "output_type": "stream",
     "text": [
      "1375:\tlearn: 0.8195378\ttest: 0.7904444\tbest: 0.7904444 (1375)\ttotal: 4m 18s\tremaining: 11m 21s\n"
     ]
    },
    {
     "name": "stdout",
     "output_type": "stream",
     "text": [
      "1400:\tlearn: 0.8199048\ttest: 0.7908154\tbest: 0.7908354 (1396)\ttotal: 4m 23s\tremaining: 11m 16s\n"
     ]
    },
    {
     "name": "stdout",
     "output_type": "stream",
     "text": [
      "1425:\tlearn: 0.8206553\ttest: 0.7909554\tbest: 0.7909762 (1424)\ttotal: 4m 28s\tremaining: 11m 12s\n"
     ]
    },
    {
     "name": "stdout",
     "output_type": "stream",
     "text": [
      "1450:\tlearn: 0.8211647\ttest: 0.7904702\tbest: 0.7909999 (1428)\ttotal: 4m 32s\tremaining: 11m 7s\n"
     ]
    },
    {
     "name": "stdout",
     "output_type": "stream",
     "text": [
      "1475:\tlearn: 0.8217070\ttest: 0.7899628\tbest: 0.7909999 (1428)\ttotal: 4m 37s\tremaining: 11m 2s\n"
     ]
    },
    {
     "name": "stdout",
     "output_type": "stream",
     "text": [
      "1500:\tlearn: 0.8222233\ttest: 0.7902277\tbest: 0.7909999 (1428)\ttotal: 4m 42s\tremaining: 10m 58s\n"
     ]
    },
    {
     "name": "stdout",
     "output_type": "stream",
     "text": [
      "1525:\tlearn: 0.8228558\ttest: 0.7901400\tbest: 0.7909999 (1428)\ttotal: 4m 47s\tremaining: 10m 53s\n"
     ]
    },
    {
     "name": "stdout",
     "output_type": "stream",
     "text": [
      "1550:\tlearn: 0.8233919\ttest: 0.7906386\tbest: 0.7909999 (1428)\ttotal: 4m 51s\tremaining: 10m 48s\n"
     ]
    },
    {
     "name": "stdout",
     "output_type": "stream",
     "text": [
      "1575:\tlearn: 0.8235952\ttest: 0.7902943\tbest: 0.7909999 (1428)\ttotal: 4m 56s\tremaining: 10m 43s\n"
     ]
    },
    {
     "name": "stdout",
     "output_type": "stream",
     "text": [
      "1600:\tlearn: 0.8242070\ttest: 0.7904306\tbest: 0.7909999 (1428)\ttotal: 5m 1s\tremaining: 10m 39s\n"
     ]
    },
    {
     "name": "stdout",
     "output_type": "stream",
     "text": [
      "1625:\tlearn: 0.8248425\ttest: 0.7899389\tbest: 0.7909999 (1428)\ttotal: 5m 5s\tremaining: 10m 34s\n"
     ]
    },
    {
     "name": "stdout",
     "output_type": "stream",
     "text": [
      "1650:\tlearn: 0.8254596\ttest: 0.7900341\tbest: 0.7909999 (1428)\ttotal: 5m 10s\tremaining: 10m 29s\n"
     ]
    },
    {
     "name": "stdout",
     "output_type": "stream",
     "text": [
      "1675:\tlearn: 0.8258969\ttest: 0.7904475\tbest: 0.7909999 (1428)\ttotal: 5m 15s\tremaining: 10m 24s\n"
     ]
    },
    {
     "name": "stdout",
     "output_type": "stream",
     "text": [
      "1700:\tlearn: 0.8265256\ttest: 0.7908791\tbest: 0.7909999 (1428)\ttotal: 5m 19s\tremaining: 10m 20s\n"
     ]
    },
    {
     "name": "stdout",
     "output_type": "stream",
     "text": [
      "1725:\tlearn: 0.8270972\ttest: 0.7908681\tbest: 0.7910077 (1706)\ttotal: 5m 24s\tremaining: 10m 15s\n"
     ]
    },
    {
     "name": "stdout",
     "output_type": "stream",
     "text": [
      "1750:\tlearn: 0.8275774\ttest: 0.7908872\tbest: 0.7910077 (1706)\ttotal: 5m 29s\tremaining: 10m 10s\n"
     ]
    },
    {
     "name": "stdout",
     "output_type": "stream",
     "text": [
      "1775:\tlearn: 0.8279963\ttest: 0.7909608\tbest: 0.7910649 (1764)\ttotal: 5m 33s\tremaining: 10m 6s\n"
     ]
    },
    {
     "name": "stdout",
     "output_type": "stream",
     "text": [
      "1800:\tlearn: 0.8284449\ttest: 0.7908599\tbest: 0.7913423 (1786)\ttotal: 5m 38s\tremaining: 10m 1s\n"
     ]
    },
    {
     "name": "stdout",
     "output_type": "stream",
     "text": [
      "1825:\tlearn: 0.8289728\ttest: 0.7909305\tbest: 0.7913492 (1812)\ttotal: 5m 43s\tremaining: 9m 56s\n"
     ]
    },
    {
     "name": "stdout",
     "output_type": "stream",
     "text": [
      "1850:\tlearn: 0.8293006\ttest: 0.7910793\tbest: 0.7913492 (1812)\ttotal: 5m 47s\tremaining: 9m 51s\n"
     ]
    },
    {
     "name": "stdout",
     "output_type": "stream",
     "text": [
      "1875:\tlearn: 0.8298240\ttest: 0.7912580\tbest: 0.7914224 (1860)\ttotal: 5m 52s\tremaining: 9m 47s\n"
     ]
    },
    {
     "name": "stdout",
     "output_type": "stream",
     "text": [
      "1900:\tlearn: 0.8304735\ttest: 0.7909488\tbest: 0.7914224 (1860)\ttotal: 5m 57s\tremaining: 9m 42s\n"
     ]
    },
    {
     "name": "stdout",
     "output_type": "stream",
     "text": [
      "1925:\tlearn: 0.8309715\ttest: 0.7912348\tbest: 0.7914224 (1860)\ttotal: 6m 1s\tremaining: 9m 37s\n"
     ]
    },
    {
     "name": "stdout",
     "output_type": "stream",
     "text": [
      "1950:\tlearn: 0.8315014\ttest: 0.7912024\tbest: 0.7916852 (1942)\ttotal: 6m 6s\tremaining: 9m 33s\n"
     ]
    },
    {
     "name": "stdout",
     "output_type": "stream",
     "text": [
      "1975:\tlearn: 0.8320610\ttest: 0.7914088\tbest: 0.7917589 (1966)\ttotal: 6m 11s\tremaining: 9m 28s\n"
     ]
    },
    {
     "name": "stdout",
     "output_type": "stream",
     "text": [
      "2000:\tlearn: 0.8325521\ttest: 0.7912870\tbest: 0.7917589 (1966)\ttotal: 6m 16s\tremaining: 9m 23s\n"
     ]
    },
    {
     "name": "stdout",
     "output_type": "stream",
     "text": [
      "2025:\tlearn: 0.8330429\ttest: 0.7915519\tbest: 0.7917589 (1966)\ttotal: 6m 20s\tremaining: 9m 18s\n"
     ]
    },
    {
     "name": "stdout",
     "output_type": "stream",
     "text": [
      "2050:\tlearn: 0.8335797\ttest: 0.7913274\tbest: 0.7917589 (1966)\ttotal: 6m 25s\tremaining: 9m 14s\n"
     ]
    },
    {
     "name": "stdout",
     "output_type": "stream",
     "text": [
      "2075:\tlearn: 0.8340870\ttest: 0.7911743\tbest: 0.7917589 (1966)\ttotal: 6m 30s\tremaining: 9m 9s\n"
     ]
    },
    {
     "name": "stdout",
     "output_type": "stream",
     "text": [
      "2100:\tlearn: 0.8345430\ttest: 0.7908925\tbest: 0.7917589 (1966)\ttotal: 6m 34s\tremaining: 9m 4s\n"
     ]
    },
    {
     "name": "stdout",
     "output_type": "stream",
     "text": [
      "2125:\tlearn: 0.8351513\ttest: 0.7914920\tbest: 0.7917589 (1966)\ttotal: 6m 39s\tremaining: 8m 59s\n"
     ]
    },
    {
     "name": "stdout",
     "output_type": "stream",
     "text": [
      "2150:\tlearn: 0.8354789\ttest: 0.7910188\tbest: 0.7917589 (1966)\ttotal: 6m 44s\tremaining: 8m 55s\n"
     ]
    },
    {
     "name": "stdout",
     "output_type": "stream",
     "text": [
      "2175:\tlearn: 0.8358411\ttest: 0.7908524\tbest: 0.7917589 (1966)\ttotal: 6m 48s\tremaining: 8m 50s\n"
     ]
    },
    {
     "name": "stdout",
     "output_type": "stream",
     "text": [
      "2200:\tlearn: 0.8364908\ttest: 0.7909058\tbest: 0.7917589 (1966)\ttotal: 6m 53s\tremaining: 8m 45s\n"
     ]
    },
    {
     "name": "stdout",
     "output_type": "stream",
     "text": [
      "2225:\tlearn: 0.8371660\ttest: 0.7910789\tbest: 0.7917589 (1966)\ttotal: 6m 58s\tremaining: 8m 41s\n"
     ]
    },
    {
     "name": "stdout",
     "output_type": "stream",
     "text": [
      "2250:\tlearn: 0.8377446\ttest: 0.7911119\tbest: 0.7917589 (1966)\ttotal: 7m 2s\tremaining: 8m 36s\n"
     ]
    },
    {
     "name": "stdout",
     "output_type": "stream",
     "text": [
      "2275:\tlearn: 0.8383191\ttest: 0.7913851\tbest: 0.7917589 (1966)\ttotal: 7m 7s\tremaining: 8m 31s\n"
     ]
    },
    {
     "name": "stdout",
     "output_type": "stream",
     "text": [
      "2300:\tlearn: 0.8387819\ttest: 0.7912907\tbest: 0.7917589 (1966)\ttotal: 7m 12s\tremaining: 8m 27s\n"
     ]
    },
    {
     "name": "stdout",
     "output_type": "stream",
     "text": [
      "2325:\tlearn: 0.8393543\ttest: 0.7913975\tbest: 0.7917589 (1966)\ttotal: 7m 16s\tremaining: 8m 22s\n"
     ]
    },
    {
     "name": "stdout",
     "output_type": "stream",
     "text": [
      "2350:\tlearn: 0.8395608\ttest: 0.7914235\tbest: 0.7918228 (2348)\ttotal: 7m 21s\tremaining: 8m 17s\n"
     ]
    },
    {
     "name": "stdout",
     "output_type": "stream",
     "text": [
      "2375:\tlearn: 0.8401560\ttest: 0.7919733\tbest: 0.7919733 (2375)\ttotal: 7m 26s\tremaining: 8m 12s\n"
     ]
    },
    {
     "name": "stdout",
     "output_type": "stream",
     "text": [
      "2400:\tlearn: 0.8407246\ttest: 0.7913683\tbest: 0.7919942 (2376)\ttotal: 7m 31s\tremaining: 8m 8s\n"
     ]
    },
    {
     "name": "stdout",
     "output_type": "stream",
     "text": [
      "2425:\tlearn: 0.8412709\ttest: 0.7913073\tbest: 0.7919942 (2376)\ttotal: 7m 35s\tremaining: 8m 3s\n"
     ]
    },
    {
     "name": "stdout",
     "output_type": "stream",
     "text": [
      "2450:\tlearn: 0.8416700\ttest: 0.7911349\tbest: 0.7919942 (2376)\ttotal: 7m 40s\tremaining: 7m 58s\n"
     ]
    },
    {
     "name": "stdout",
     "output_type": "stream",
     "text": [
      "2475:\tlearn: 0.8421051\ttest: 0.7911858\tbest: 0.7919942 (2376)\ttotal: 7m 45s\tremaining: 7m 54s\n"
     ]
    },
    {
     "name": "stdout",
     "output_type": "stream",
     "text": [
      "2500:\tlearn: 0.8425618\ttest: 0.7913518\tbest: 0.7919942 (2376)\ttotal: 7m 49s\tremaining: 7m 49s\n"
     ]
    },
    {
     "name": "stdout",
     "output_type": "stream",
     "text": [
      "2525:\tlearn: 0.8432420\ttest: 0.7910921\tbest: 0.7919942 (2376)\ttotal: 7m 54s\tremaining: 7m 44s\n"
     ]
    },
    {
     "name": "stdout",
     "output_type": "stream",
     "text": [
      "2550:\tlearn: 0.8435284\ttest: 0.7915638\tbest: 0.7919942 (2376)\ttotal: 7m 59s\tremaining: 7m 40s\n"
     ]
    },
    {
     "name": "stdout",
     "output_type": "stream",
     "text": [
      "2575:\tlearn: 0.8439957\ttest: 0.7912736\tbest: 0.7919942 (2376)\ttotal: 8m 3s\tremaining: 7m 35s\n"
     ]
    },
    {
     "name": "stdout",
     "output_type": "stream",
     "text": [
      "2600:\tlearn: 0.8445051\ttest: 0.7913173\tbest: 0.7919942 (2376)\ttotal: 8m 8s\tremaining: 7m 30s\n"
     ]
    },
    {
     "name": "stdout",
     "output_type": "stream",
     "text": [
      "2625:\tlearn: 0.8449767\ttest: 0.7914479\tbest: 0.7919942 (2376)\ttotal: 8m 13s\tremaining: 7m 25s\n"
     ]
    },
    {
     "name": "stdout",
     "output_type": "stream",
     "text": [
      "2650:\tlearn: 0.8454552\ttest: 0.7914466\tbest: 0.7919942 (2376)\ttotal: 8m 17s\tremaining: 7m 21s\n"
     ]
    },
    {
     "name": "stdout",
     "output_type": "stream",
     "text": [
      "2675:\tlearn: 0.8458923\ttest: 0.7913958\tbest: 0.7919942 (2376)\ttotal: 8m 22s\tremaining: 7m 16s\n"
     ]
    },
    {
     "name": "stdout",
     "output_type": "stream",
     "text": [
      "2700:\tlearn: 0.8462324\ttest: 0.7912887\tbest: 0.7919942 (2376)\ttotal: 8m 27s\tremaining: 7m 11s\n"
     ]
    },
    {
     "name": "stdout",
     "output_type": "stream",
     "text": [
      "2725:\tlearn: 0.8467551\ttest: 0.7916521\tbest: 0.7919942 (2376)\ttotal: 8m 31s\tremaining: 7m 7s\n"
     ]
    },
    {
     "name": "stdout",
     "output_type": "stream",
     "text": [
      "2750:\tlearn: 0.8473046\ttest: 0.7917048\tbest: 0.7919942 (2376)\ttotal: 8m 36s\tremaining: 7m 2s\n"
     ]
    },
    {
     "name": "stdout",
     "output_type": "stream",
     "text": [
      "2775:\tlearn: 0.8475962\ttest: 0.7918378\tbest: 0.7919942 (2376)\ttotal: 8m 41s\tremaining: 6m 57s\n"
     ]
    },
    {
     "name": "stdout",
     "output_type": "stream",
     "text": [
      "2800:\tlearn: 0.8482209\ttest: 0.7915533\tbest: 0.7919942 (2376)\ttotal: 8m 46s\tremaining: 6m 52s\n"
     ]
    },
    {
     "name": "stdout",
     "output_type": "stream",
     "text": [
      "2825:\tlearn: 0.8488065\ttest: 0.7913179\tbest: 0.7919942 (2376)\ttotal: 8m 50s\tremaining: 6m 48s\n"
     ]
    },
    {
     "name": "stdout",
     "output_type": "stream",
     "text": [
      "2850:\tlearn: 0.8492479\ttest: 0.7918629\tbest: 0.7920103 (2846)\ttotal: 8m 55s\tremaining: 6m 43s\n"
     ]
    },
    {
     "name": "stdout",
     "output_type": "stream",
     "text": [
      "2875:\tlearn: 0.8496099\ttest: 0.7916311\tbest: 0.7920103 (2846)\ttotal: 9m\tremaining: 6m 38s\n"
     ]
    },
    {
     "name": "stdout",
     "output_type": "stream",
     "text": [
      "2900:\tlearn: 0.8500390\ttest: 0.7919486\tbest: 0.7920345 (2897)\ttotal: 9m 4s\tremaining: 6m 34s\n"
     ]
    },
    {
     "name": "stdout",
     "output_type": "stream",
     "text": [
      "2925:\tlearn: 0.8506352\ttest: 0.7915299\tbest: 0.7920738 (2903)\ttotal: 9m 9s\tremaining: 6m 29s\n"
     ]
    },
    {
     "name": "stdout",
     "output_type": "stream",
     "text": [
      "2950:\tlearn: 0.8510185\ttest: 0.7915508\tbest: 0.7920738 (2903)\ttotal: 9m 14s\tremaining: 6m 24s\n"
     ]
    },
    {
     "name": "stdout",
     "output_type": "stream",
     "text": [
      "2975:\tlearn: 0.8512723\ttest: 0.7914504\tbest: 0.7920738 (2903)\ttotal: 9m 18s\tremaining: 6m 20s\n"
     ]
    },
    {
     "name": "stdout",
     "output_type": "stream",
     "text": [
      "3000:\tlearn: 0.8517284\ttest: 0.7916926\tbest: 0.7920738 (2903)\ttotal: 9m 23s\tremaining: 6m 15s\n"
     ]
    },
    {
     "name": "stdout",
     "output_type": "stream",
     "text": [
      "3025:\tlearn: 0.8519636\ttest: 0.7920302\tbest: 0.7920738 (2903)\ttotal: 9m 28s\tremaining: 6m 10s\n"
     ]
    },
    {
     "name": "stdout",
     "output_type": "stream",
     "text": [
      "3050:\tlearn: 0.8525595\ttest: 0.7913197\tbest: 0.7920738 (2903)\ttotal: 9m 32s\tremaining: 6m 5s\n"
     ]
    },
    {
     "name": "stdout",
     "output_type": "stream",
     "text": [
      "3075:\tlearn: 0.8529101\ttest: 0.7913188\tbest: 0.7920738 (2903)\ttotal: 9m 37s\tremaining: 6m 1s\n"
     ]
    },
    {
     "name": "stdout",
     "output_type": "stream",
     "text": [
      "3100:\tlearn: 0.8533654\ttest: 0.7913378\tbest: 0.7920738 (2903)\ttotal: 9m 42s\tremaining: 5m 56s\n"
     ]
    },
    {
     "name": "stdout",
     "output_type": "stream",
     "text": [
      "3125:\tlearn: 0.8536629\ttest: 0.7914904\tbest: 0.7920738 (2903)\ttotal: 9m 46s\tremaining: 5m 51s\n"
     ]
    },
    {
     "name": "stdout",
     "output_type": "stream",
     "text": [
      "3150:\tlearn: 0.8541656\ttest: 0.7916972\tbest: 0.7920738 (2903)\ttotal: 9m 51s\tremaining: 5m 47s\n"
     ]
    },
    {
     "name": "stdout",
     "output_type": "stream",
     "text": [
      "3175:\tlearn: 0.8546085\ttest: 0.7916573\tbest: 0.7920792 (3158)\ttotal: 9m 56s\tremaining: 5m 42s\n"
     ]
    },
    {
     "name": "stdout",
     "output_type": "stream",
     "text": [
      "3200:\tlearn: 0.8549663\ttest: 0.7921664\tbest: 0.7921664 (3200)\ttotal: 10m\tremaining: 5m 37s\n"
     ]
    },
    {
     "name": "stdout",
     "output_type": "stream",
     "text": [
      "3225:\tlearn: 0.8555224\ttest: 0.7921941\tbest: 0.7921941 (3225)\ttotal: 10m 5s\tremaining: 5m 33s\n"
     ]
    },
    {
     "name": "stdout",
     "output_type": "stream",
     "text": [
      "3250:\tlearn: 0.8557689\ttest: 0.7921578\tbest: 0.7924939 (3246)\ttotal: 10m 10s\tremaining: 5m 28s\n"
     ]
    },
    {
     "name": "stdout",
     "output_type": "stream",
     "text": [
      "3275:\tlearn: 0.8561865\ttest: 0.7923469\tbest: 0.7924943 (3273)\ttotal: 10m 15s\tremaining: 5m 23s\n"
     ]
    },
    {
     "name": "stdout",
     "output_type": "stream",
     "text": [
      "3300:\tlearn: 0.8568210\ttest: 0.7924961\tbest: 0.7925178 (3299)\ttotal: 10m 19s\tremaining: 5m 18s\n"
     ]
    },
    {
     "name": "stdout",
     "output_type": "stream",
     "text": [
      "3325:\tlearn: 0.8571789\ttest: 0.7923094\tbest: 0.7925178 (3299)\ttotal: 10m 24s\tremaining: 5m 14s\n"
     ]
    },
    {
     "name": "stdout",
     "output_type": "stream",
     "text": [
      "3350:\tlearn: 0.8576224\ttest: 0.7921841\tbest: 0.7925178 (3299)\ttotal: 10m 29s\tremaining: 5m 9s\n"
     ]
    },
    {
     "name": "stdout",
     "output_type": "stream",
     "text": [
      "3375:\tlearn: 0.8579023\ttest: 0.7918993\tbest: 0.7925178 (3299)\ttotal: 10m 33s\tremaining: 5m 4s\n"
     ]
    },
    {
     "name": "stdout",
     "output_type": "stream",
     "text": [
      "3400:\tlearn: 0.8583222\ttest: 0.7921378\tbest: 0.7925178 (3299)\ttotal: 10m 38s\tremaining: 5m\n"
     ]
    },
    {
     "name": "stdout",
     "output_type": "stream",
     "text": [
      "3425:\tlearn: 0.8587550\ttest: 0.7919527\tbest: 0.7925178 (3299)\ttotal: 10m 43s\tremaining: 4m 55s\n"
     ]
    },
    {
     "name": "stdout",
     "output_type": "stream",
     "text": [
      "3450:\tlearn: 0.8590545\ttest: 0.7918824\tbest: 0.7925178 (3299)\ttotal: 10m 47s\tremaining: 4m 50s\n"
     ]
    },
    {
     "name": "stdout",
     "output_type": "stream",
     "text": [
      "3475:\tlearn: 0.8595609\ttest: 0.7919535\tbest: 0.7925178 (3299)\ttotal: 10m 52s\tremaining: 4m 46s\n"
     ]
    },
    {
     "name": "stdout",
     "output_type": "stream",
     "text": [
      "3500:\tlearn: 0.8601471\ttest: 0.7918246\tbest: 0.7925178 (3299)\ttotal: 10m 57s\tremaining: 4m 41s\n"
     ]
    },
    {
     "name": "stdout",
     "output_type": "stream",
     "text": [
      "3525:\tlearn: 0.8606525\ttest: 0.7922309\tbest: 0.7925178 (3299)\ttotal: 11m 1s\tremaining: 4m 36s\n"
     ]
    },
    {
     "name": "stdout",
     "output_type": "stream",
     "text": [
      "3550:\tlearn: 0.8610034\ttest: 0.7924320\tbest: 0.7925725 (3531)\ttotal: 11m 6s\tremaining: 4m 31s\n"
     ]
    },
    {
     "name": "stdout",
     "output_type": "stream",
     "text": [
      "3575:\tlearn: 0.8613324\ttest: 0.7925375\tbest: 0.7925725 (3531)\ttotal: 11m 11s\tremaining: 4m 27s\n"
     ]
    },
    {
     "name": "stdout",
     "output_type": "stream",
     "text": [
      "3600:\tlearn: 0.8618104\ttest: 0.7926671\tbest: 0.7927276 (3593)\ttotal: 11m 15s\tremaining: 4m 22s\n"
     ]
    },
    {
     "name": "stdout",
     "output_type": "stream",
     "text": [
      "3625:\tlearn: 0.8623587\ttest: 0.7928562\tbest: 0.7929615 (3621)\ttotal: 11m 20s\tremaining: 4m 17s\n"
     ]
    },
    {
     "name": "stdout",
     "output_type": "stream",
     "text": [
      "3650:\tlearn: 0.8628166\ttest: 0.7931499\tbest: 0.7931499 (3650)\ttotal: 11m 25s\tremaining: 4m 13s\n"
     ]
    },
    {
     "name": "stdout",
     "output_type": "stream",
     "text": [
      "3675:\tlearn: 0.8630198\ttest: 0.7927498\tbest: 0.7931499 (3650)\ttotal: 11m 29s\tremaining: 4m 8s\n"
     ]
    },
    {
     "name": "stdout",
     "output_type": "stream",
     "text": [
      "3700:\tlearn: 0.8636812\ttest: 0.7929394\tbest: 0.7931499 (3650)\ttotal: 11m 34s\tremaining: 4m 3s\n"
     ]
    },
    {
     "name": "stdout",
     "output_type": "stream",
     "text": [
      "3725:\tlearn: 0.8639508\ttest: 0.7926872\tbest: 0.7931499 (3650)\ttotal: 11m 39s\tremaining: 3m 59s\n"
     ]
    },
    {
     "name": "stdout",
     "output_type": "stream",
     "text": [
      "3750:\tlearn: 0.8644608\ttest: 0.7926852\tbest: 0.7931499 (3650)\ttotal: 11m 43s\tremaining: 3m 54s\n"
     ]
    },
    {
     "name": "stdout",
     "output_type": "stream",
     "text": [
      "3775:\tlearn: 0.8647207\ttest: 0.7925211\tbest: 0.7931499 (3650)\ttotal: 11m 48s\tremaining: 3m 49s\n"
     ]
    },
    {
     "name": "stdout",
     "output_type": "stream",
     "text": [
      "3800:\tlearn: 0.8651397\ttest: 0.7926078\tbest: 0.7931499 (3650)\ttotal: 11m 53s\tremaining: 3m 44s\n"
     ]
    },
    {
     "name": "stdout",
     "output_type": "stream",
     "text": [
      "3825:\tlearn: 0.8655485\ttest: 0.7926490\tbest: 0.7931499 (3650)\ttotal: 11m 57s\tremaining: 3m 40s\n"
     ]
    },
    {
     "name": "stdout",
     "output_type": "stream",
     "text": [
      "3850:\tlearn: 0.8660253\ttest: 0.7925409\tbest: 0.7931499 (3650)\ttotal: 12m 2s\tremaining: 3m 35s\n"
     ]
    },
    {
     "name": "stdout",
     "output_type": "stream",
     "text": [
      "3875:\tlearn: 0.8664228\ttest: 0.7926461\tbest: 0.7931499 (3650)\ttotal: 12m 7s\tremaining: 3m 30s\n"
     ]
    },
    {
     "name": "stdout",
     "output_type": "stream",
     "text": [
      "3900:\tlearn: 0.8667614\ttest: 0.7922355\tbest: 0.7931499 (3650)\ttotal: 12m 12s\tremaining: 3m 26s\n"
     ]
    },
    {
     "name": "stdout",
     "output_type": "stream",
     "text": [
      "3925:\tlearn: 0.8671353\ttest: 0.7922579\tbest: 0.7931499 (3650)\ttotal: 12m 16s\tremaining: 3m 21s\n"
     ]
    },
    {
     "name": "stdout",
     "output_type": "stream",
     "text": [
      "3950:\tlearn: 0.8677049\ttest: 0.7922813\tbest: 0.7931499 (3650)\ttotal: 12m 21s\tremaining: 3m 16s\n"
     ]
    },
    {
     "name": "stdout",
     "output_type": "stream",
     "text": [
      "3975:\tlearn: 0.8679630\ttest: 0.7923615\tbest: 0.7931499 (3650)\ttotal: 12m 26s\tremaining: 3m 12s\n"
     ]
    },
    {
     "name": "stdout",
     "output_type": "stream",
     "text": [
      "4000:\tlearn: 0.8683602\ttest: 0.7921998\tbest: 0.7931499 (3650)\ttotal: 12m 30s\tremaining: 3m 7s\n"
     ]
    },
    {
     "name": "stdout",
     "output_type": "stream",
     "text": [
      "4025:\tlearn: 0.8687264\ttest: 0.7921142\tbest: 0.7931499 (3650)\ttotal: 12m 35s\tremaining: 3m 2s\n"
     ]
    },
    {
     "name": "stdout",
     "output_type": "stream",
     "text": [
      "4050:\tlearn: 0.8692214\ttest: 0.7921974\tbest: 0.7931499 (3650)\ttotal: 12m 40s\tremaining: 2m 58s\n"
     ]
    },
    {
     "name": "stdout",
     "output_type": "stream",
     "text": [
      "4075:\tlearn: 0.8694097\ttest: 0.7923606\tbest: 0.7931499 (3650)\ttotal: 12m 44s\tremaining: 2m 53s\n"
     ]
    },
    {
     "name": "stdout",
     "output_type": "stream",
     "text": [
      "4100:\tlearn: 0.8699777\ttest: 0.7921779\tbest: 0.7931499 (3650)\ttotal: 12m 49s\tremaining: 2m 48s\n"
     ]
    },
    {
     "name": "stdout",
     "output_type": "stream",
     "text": [
      "4125:\tlearn: 0.8702998\ttest: 0.7924306\tbest: 0.7931499 (3650)\ttotal: 12m 54s\tremaining: 2m 44s\n"
     ]
    },
    {
     "name": "stdout",
     "output_type": "stream",
     "text": [
      "4150:\tlearn: 0.8706403\ttest: 0.7924108\tbest: 0.7931499 (3650)\ttotal: 12m 58s\tremaining: 2m 39s\n"
     ]
    },
    {
     "name": "stdout",
     "output_type": "stream",
     "text": [
      "4175:\tlearn: 0.8709711\ttest: 0.7925425\tbest: 0.7931499 (3650)\ttotal: 13m 3s\tremaining: 2m 34s\n"
     ]
    },
    {
     "name": "stdout",
     "output_type": "stream",
     "text": [
      "4200:\tlearn: 0.8714053\ttest: 0.7925481\tbest: 0.7931499 (3650)\ttotal: 13m 8s\tremaining: 2m 29s\n"
     ]
    },
    {
     "name": "stdout",
     "output_type": "stream",
     "text": [
      "4225:\tlearn: 0.8718429\ttest: 0.7927788\tbest: 0.7931499 (3650)\ttotal: 13m 12s\tremaining: 2m 25s\n"
     ]
    },
    {
     "name": "stdout",
     "output_type": "stream",
     "text": [
      "4250:\tlearn: 0.8722565\ttest: 0.7928905\tbest: 0.7931499 (3650)\ttotal: 13m 17s\tremaining: 2m 20s\n"
     ]
    },
    {
     "name": "stdout",
     "output_type": "stream",
     "text": [
      "4275:\tlearn: 0.8727360\ttest: 0.7926790\tbest: 0.7931499 (3650)\ttotal: 13m 22s\tremaining: 2m 15s\n"
     ]
    },
    {
     "name": "stdout",
     "output_type": "stream",
     "text": [
      "4300:\tlearn: 0.8731136\ttest: 0.7929936\tbest: 0.7931499 (3650)\ttotal: 13m 26s\tremaining: 2m 11s\n"
     ]
    },
    {
     "name": "stdout",
     "output_type": "stream",
     "text": [
      "4325:\tlearn: 0.8733952\ttest: 0.7930995\tbest: 0.7933106 (4319)\ttotal: 13m 31s\tremaining: 2m 6s\n"
     ]
    },
    {
     "name": "stdout",
     "output_type": "stream",
     "text": [
      "4350:\tlearn: 0.8737248\ttest: 0.7930831\tbest: 0.7933970 (4331)\ttotal: 13m 36s\tremaining: 2m 1s\n"
     ]
    },
    {
     "name": "stdout",
     "output_type": "stream",
     "text": [
      "4375:\tlearn: 0.8741351\ttest: 0.7930221\tbest: 0.7933970 (4331)\ttotal: 13m 41s\tremaining: 1m 57s\n"
     ]
    },
    {
     "name": "stdout",
     "output_type": "stream",
     "text": [
      "4400:\tlearn: 0.8744598\ttest: 0.7933377\tbest: 0.7934006 (4398)\ttotal: 13m 45s\tremaining: 1m 52s\n"
     ]
    },
    {
     "name": "stdout",
     "output_type": "stream",
     "text": [
      "4425:\tlearn: 0.8747357\ttest: 0.7931146\tbest: 0.7934006 (4398)\ttotal: 13m 50s\tremaining: 1m 47s\n"
     ]
    },
    {
     "name": "stdout",
     "output_type": "stream",
     "text": [
      "4450:\tlearn: 0.8751053\ttest: 0.7931814\tbest: 0.7934006 (4398)\ttotal: 13m 55s\tremaining: 1m 43s\n"
     ]
    },
    {
     "name": "stdout",
     "output_type": "stream",
     "text": [
      "4475:\tlearn: 0.8754643\ttest: 0.7932538\tbest: 0.7934419 (4467)\ttotal: 13m 59s\tremaining: 1m 38s\n"
     ]
    },
    {
     "name": "stdout",
     "output_type": "stream",
     "text": [
      "4500:\tlearn: 0.8757396\ttest: 0.7930289\tbest: 0.7934419 (4467)\ttotal: 14m 4s\tremaining: 1m 33s\n"
     ]
    },
    {
     "name": "stdout",
     "output_type": "stream",
     "text": [
      "4525:\tlearn: 0.8760065\ttest: 0.7931731\tbest: 0.7934419 (4467)\ttotal: 14m 9s\tremaining: 1m 28s\n"
     ]
    },
    {
     "name": "stdout",
     "output_type": "stream",
     "text": [
      "4550:\tlearn: 0.8762842\ttest: 0.7927952\tbest: 0.7934419 (4467)\ttotal: 14m 13s\tremaining: 1m 24s\n"
     ]
    },
    {
     "name": "stdout",
     "output_type": "stream",
     "text": [
      "4575:\tlearn: 0.8766443\ttest: 0.7928169\tbest: 0.7934419 (4467)\ttotal: 14m 18s\tremaining: 1m 19s\n"
     ]
    },
    {
     "name": "stdout",
     "output_type": "stream",
     "text": [
      "4600:\tlearn: 0.8771208\ttest: 0.7928845\tbest: 0.7934419 (4467)\ttotal: 14m 23s\tremaining: 1m 14s\n"
     ]
    },
    {
     "name": "stdout",
     "output_type": "stream",
     "text": [
      "4625:\tlearn: 0.8775210\ttest: 0.7928865\tbest: 0.7934419 (4467)\ttotal: 14m 27s\tremaining: 1m 10s\n"
     ]
    },
    {
     "name": "stdout",
     "output_type": "stream",
     "text": [
      "4650:\tlearn: 0.8779110\ttest: 0.7925955\tbest: 0.7934419 (4467)\ttotal: 14m 32s\tremaining: 1m 5s\n"
     ]
    },
    {
     "name": "stdout",
     "output_type": "stream",
     "text": [
      "4675:\tlearn: 0.8781178\ttest: 0.7924908\tbest: 0.7934419 (4467)\ttotal: 14m 37s\tremaining: 1m\n"
     ]
    },
    {
     "name": "stdout",
     "output_type": "stream",
     "text": [
      "4700:\tlearn: 0.8785590\ttest: 0.7923179\tbest: 0.7934419 (4467)\ttotal: 14m 41s\tremaining: 56.1s\n"
     ]
    },
    {
     "name": "stdout",
     "output_type": "stream",
     "text": [
      "4725:\tlearn: 0.8787942\ttest: 0.7925543\tbest: 0.7934419 (4467)\ttotal: 14m 46s\tremaining: 51.4s\n"
     ]
    },
    {
     "name": "stdout",
     "output_type": "stream",
     "text": [
      "4750:\tlearn: 0.8790655\ttest: 0.7929722\tbest: 0.7934419 (4467)\ttotal: 14m 51s\tremaining: 46.7s\n"
     ]
    },
    {
     "name": "stdout",
     "output_type": "stream",
     "text": [
      "4775:\tlearn: 0.8794961\ttest: 0.7930195\tbest: 0.7934419 (4467)\ttotal: 14m 55s\tremaining: 42s\n"
     ]
    },
    {
     "name": "stdout",
     "output_type": "stream",
     "text": [
      "4800:\tlearn: 0.8798856\ttest: 0.7931051\tbest: 0.7934419 (4467)\ttotal: 15m\tremaining: 37.3s\n"
     ]
    },
    {
     "name": "stdout",
     "output_type": "stream",
     "text": [
      "4825:\tlearn: 0.8803962\ttest: 0.7931503\tbest: 0.7934419 (4467)\ttotal: 15m 5s\tremaining: 32.6s\n"
     ]
    },
    {
     "name": "stdout",
     "output_type": "stream",
     "text": [
      "4850:\tlearn: 0.8806861\ttest: 0.7933675\tbest: 0.7934419 (4467)\ttotal: 15m 10s\tremaining: 28s\n"
     ]
    },
    {
     "name": "stdout",
     "output_type": "stream",
     "text": [
      "4875:\tlearn: 0.8809628\ttest: 0.7933259\tbest: 0.7935561 (4852)\ttotal: 15m 14s\tremaining: 23.3s\n"
     ]
    },
    {
     "name": "stdout",
     "output_type": "stream",
     "text": [
      "4900:\tlearn: 0.8813789\ttest: 0.7930528\tbest: 0.7935561 (4852)\ttotal: 15m 19s\tremaining: 18.6s\n"
     ]
    },
    {
     "name": "stdout",
     "output_type": "stream",
     "text": [
      "4925:\tlearn: 0.8816143\ttest: 0.7927591\tbest: 0.7935561 (4852)\ttotal: 15m 24s\tremaining: 13.9s\n"
     ]
    },
    {
     "name": "stdout",
     "output_type": "stream",
     "text": [
      "4950:\tlearn: 0.8818715\ttest: 0.7926591\tbest: 0.7935561 (4852)\ttotal: 15m 28s\tremaining: 9.19s\n"
     ]
    },
    {
     "name": "stdout",
     "output_type": "stream",
     "text": [
      "4975:\tlearn: 0.8821859\ttest: 0.7928501\tbest: 0.7935561 (4852)\ttotal: 15m 33s\tremaining: 4.5s\n"
     ]
    },
    {
     "name": "stdout",
     "output_type": "stream",
     "text": [
      "4999:\tlearn: 0.8824488\ttest: 0.7929998\tbest: 0.7935561 (4852)\ttotal: 15m 37s\tremaining: 0us\n",
      "\n",
      "bestTest = 0.7935561303\n",
      "bestIteration = 4852\n",
      "\n"
     ]
    },
    {
     "name": "stdout",
     "output_type": "stream",
     "text": [
      "Training time: 78.82535272836685 min.\n",
      "OOF recall_at4: 0.6662234490187497\n",
      "OOF normalized_gini: 0.9246118867441915\n",
      "OOF competition metric: 0.7954176678814706\n"
     ]
    },
    {
     "name": "stdout",
     "output_type": "stream",
     "text": [
      "CPU times: user 1d 13h 56min 47s, sys: 1h 6min 13s, total: 1d 15h 3min\n",
      "Wall time: 3h 56min 42s\n"
     ]
    }
   ],
   "source": [
    "%%time \n",
    "\n",
    "all_models = list()\n",
    "all_oof_dfs = list()\n",
    "\n",
    "for repetition in range(N_REPEATS):\n",
    "    print(f\" repeated cross-validation step: {repetition+1}/{N_REPEATS} \".center(100, \"#\"))\n",
    "\n",
    "    folds = pd.read_csv(f'../data/processed/cv{repetition}.csv', index_col=\"customer_ID\")\n",
    "    _train = pd.merge(train, folds, how=\"inner\", left_index=True, right_index=True).reset_index(drop=True)\n",
    "    \n",
    "    tic = time.time()\n",
    "    models,oof = train_models(_train)\n",
    "    tac = time.time()\n",
    "    print(f\"Training time: {(tac-tic)/60} min.\")\n",
    "          \n",
    "    # oof metrics\n",
    "    print(\"OOF recall_at4:\", compute_recall_at4(oof.target.values, oof.pred.values))\n",
    "    print(\"OOF normalized_gini:\", compute_normalized_gini(oof.target.values, oof.pred.values))\n",
    "    print(\"OOF competition metric:\", compute_amex_metric(oof.target.values, oof.pred.values))\n",
    "    \n",
    "    all_models.append(models)\n",
    "    all_oof_dfs.append(oof)\n",
    "    \n",
    "    # save oof predictions\n",
    "    oof.to_csv(OOF_PATH/f\"oof-cv{repetition}.csv\", index=False)\n",
    "    # save models\n",
    "    for fold,_model in enumerate(models):\n",
    "        _model.save_model(ART_PATH/f\"/model-cv{repetition}-fold{fold}.cbm\", format=\"cbm\")\n",
    "          \n",
    "    del _train, folds; gc.collect()"
   ]
  },
  {
   "cell_type": "code",
   "execution_count": 13,
   "id": "9a35987e",
   "metadata": {
    "execution": {
     "iopub.execute_input": "2022-08-08T19:24:20.443209Z",
     "iopub.status.busy": "2022-08-08T19:24:20.253066Z",
     "iopub.status.idle": "2022-08-08T19:24:20.456738Z",
     "shell.execute_reply": "2022-08-08T19:24:20.457097Z"
    },
    "papermill": {
     "duration": 1.273672,
     "end_time": "2022-08-08T19:24:20.457249",
     "exception": false,
     "start_time": "2022-08-08T19:24:19.183577",
     "status": "completed"
    },
    "tags": []
   },
   "outputs": [
    {
     "data": {
      "text/html": [
       "<div>\n",
       "<style scoped>\n",
       "    .dataframe tbody tr th:only-of-type {\n",
       "        vertical-align: middle;\n",
       "    }\n",
       "\n",
       "    .dataframe tbody tr th {\n",
       "        vertical-align: top;\n",
       "    }\n",
       "\n",
       "    .dataframe thead th {\n",
       "        text-align: right;\n",
       "    }\n",
       "</style>\n",
       "<table border=\"1\" class=\"dataframe\">\n",
       "  <thead>\n",
       "    <tr style=\"text-align: right;\">\n",
       "      <th></th>\n",
       "      <th>recall_at4</th>\n",
       "      <th>gini</th>\n",
       "      <th>metric</th>\n",
       "    </tr>\n",
       "  </thead>\n",
       "  <tbody>\n",
       "    <tr>\n",
       "      <th>0</th>\n",
       "      <td>0.666846</td>\n",
       "      <td>0.924419</td>\n",
       "      <td>0.795633</td>\n",
       "    </tr>\n",
       "    <tr>\n",
       "      <th>1</th>\n",
       "      <td>0.666619</td>\n",
       "      <td>0.924532</td>\n",
       "      <td>0.795575</td>\n",
       "    </tr>\n",
       "    <tr>\n",
       "      <th>2</th>\n",
       "      <td>0.666223</td>\n",
       "      <td>0.924612</td>\n",
       "      <td>0.795418</td>\n",
       "    </tr>\n",
       "  </tbody>\n",
       "</table>\n",
       "</div>"
      ],
      "text/plain": [
       "   recall_at4      gini    metric\n",
       "0    0.666846  0.924419  0.795633\n",
       "1    0.666619  0.924532  0.795575\n",
       "2    0.666223  0.924612  0.795418"
      ]
     },
     "metadata": {},
     "output_type": "display_data"
    },
    {
     "name": "stdout",
     "output_type": "stream",
     "text": [
      "\n",
      "mean:\n"
     ]
    },
    {
     "data": {
      "text/plain": [
       "recall_at4    0.666563\n",
       "gini          0.924521\n",
       "metric        0.795542\n",
       "dtype: float64"
      ]
     },
     "metadata": {},
     "output_type": "display_data"
    },
    {
     "name": "stdout",
     "output_type": "stream",
     "text": [
      "\n",
      "std:\n"
     ]
    },
    {
     "data": {
      "text/plain": [
       "recall_at4    0.000315\n",
       "gini          0.000097\n",
       "metric        0.000111\n",
       "dtype: float64"
      ]
     },
     "metadata": {},
     "output_type": "display_data"
    }
   ],
   "source": [
    "results = list()\n",
    "\n",
    "for oof in all_oof_dfs:  \n",
    "    r = {\n",
    "        \"recall_at4\": compute_recall_at4(oof.target.values, oof.pred.values),\n",
    "        \"gini\": compute_normalized_gini(oof.target.values, oof.pred.values),\n",
    "        \"metric\": compute_amex_metric(oof.target.values, oof.pred.values),\n",
    "    }\n",
    "    results.append(r)\n",
    "\n",
    "results = pd.DataFrame(results)\n",
    "display(results)\n",
    "\n",
    "print(\"\\nmean:\")\n",
    "display(results.mean(axis=0))\n",
    "\n",
    "print(\"\\nstd:\")\n",
    "display(results.std(axis=0))"
   ]
  },
  {
   "cell_type": "code",
   "execution_count": 14,
   "id": "737f7b7c",
   "metadata": {
    "execution": {
     "iopub.execute_input": "2022-08-08T19:24:21.982555Z",
     "iopub.status.busy": "2022-08-08T19:24:21.981996Z",
     "iopub.status.idle": "2022-08-08T19:24:21.984490Z",
     "shell.execute_reply": "2022-08-08T19:24:21.984076Z"
    },
    "papermill": {
     "duration": 0.835926,
     "end_time": "2022-08-08T19:24:21.984614",
     "exception": false,
     "start_time": "2022-08-08T19:24:21.148688",
     "status": "completed"
    },
    "tags": []
   },
   "outputs": [
    {
     "data": {
      "text/plain": [
       "21"
      ]
     },
     "execution_count": 14,
     "metadata": {},
     "output_type": "execute_result"
    }
   ],
   "source": [
    "del train\n",
    "gc.collect()"
   ]
  },
  {
   "cell_type": "markdown",
   "id": "d37f7963",
   "metadata": {
    "papermill": {
     "duration": 0.693071,
     "end_time": "2022-08-08T19:24:23.366663",
     "exception": false,
     "start_time": "2022-08-08T19:24:22.673592",
     "status": "completed"
    },
    "tags": []
   },
   "source": [
    "***\n",
    "## make predictions and submit"
   ]
  },
  {
   "cell_type": "code",
   "execution_count": 15,
   "id": "55523a7e",
   "metadata": {
    "execution": {
     "iopub.execute_input": "2022-08-08T19:24:24.751348Z",
     "iopub.status.busy": "2022-08-08T19:24:24.750780Z",
     "iopub.status.idle": "2022-08-08T19:24:24.752652Z",
     "shell.execute_reply": "2022-08-08T19:24:24.752141Z"
    },
    "papermill": {
     "duration": 0.694914,
     "end_time": "2022-08-08T19:24:24.752767",
     "exception": false,
     "start_time": "2022-08-08T19:24:24.057853",
     "status": "completed"
    },
    "tags": []
   },
   "outputs": [],
   "source": [
    "def make_predictions(dataframe:pd.DataFrame, input_feats:list, models:list) -> np.array:\n",
    "    preds = [\n",
    "        model.predict(dataframe[input_feats], prediction_type=\"Probability\")[:,1] \n",
    "        for model in models\n",
    "    ]\n",
    "    return np.mean(preds, axis=0)    "
   ]
  },
  {
   "cell_type": "code",
   "execution_count": 16,
   "id": "3e8cb5e9",
   "metadata": {
    "execution": {
     "iopub.execute_input": "2022-08-08T19:24:26.139238Z",
     "iopub.status.busy": "2022-08-08T19:24:26.138719Z",
     "iopub.status.idle": "2022-08-08T19:24:38.307518Z",
     "shell.execute_reply": "2022-08-08T19:24:38.306994Z"
    },
    "papermill": {
     "duration": 12.867534,
     "end_time": "2022-08-08T19:24:38.307661",
     "exception": false,
     "start_time": "2022-08-08T19:24:25.440127",
     "status": "completed"
    },
    "tags": []
   },
   "outputs": [],
   "source": [
    "test = pd.read_parquet(\"../data/processed/dsv04/test.parquet\")\n",
    "sub = pd.read_csv(\"../data/raw/sample_submission.csv\")"
   ]
  },
  {
   "cell_type": "code",
   "execution_count": 17,
   "id": "0dc3d65a",
   "metadata": {
    "execution": {
     "iopub.execute_input": "2022-08-08T19:24:39.692535Z",
     "iopub.status.busy": "2022-08-08T19:24:39.691975Z",
     "iopub.status.idle": "2022-08-08T19:25:46.643008Z",
     "shell.execute_reply": "2022-08-08T19:25:46.643450Z"
    },
    "papermill": {
     "duration": 67.644288,
     "end_time": "2022-08-08T19:25:46.643607",
     "exception": false,
     "start_time": "2022-08-08T19:24:38.999319",
     "status": "completed"
    },
    "tags": []
   },
   "outputs": [
    {
     "name": "stdout",
     "output_type": "stream",
     "text": [
      "CPU times: user 8min 27s, sys: 15.1 s, total: 8min 42s\n",
      "Wall time: 1min 6s\n"
     ]
    }
   ],
   "source": [
    "%%time\n",
    "\n",
    "all_preds = list()\n",
    "\n",
    "for repetition in range(N_REPEATS):\n",
    "    if \"prediction\" in sub.columns:\n",
    "        sub.drop(\"prediction\", axis=1, inplace=True)\n",
    "    if \"prediction\" in test.columns:\n",
    "        test.drop(\"prediction\", axis=1, inplace=True)\n",
    "        \n",
    "    models = all_models[repetition]\n",
    "    preds = make_predictions(test, input_feats, models)\n",
    "    all_preds.append(preds)\n",
    "       \n",
    "    test[\"prediction\"] = preds\n",
    "    sub[\"prediction\"] = test.loc[sub.customer_ID.values,\"prediction\"].values\n",
    "    assert sub.prediction.isna().sum() == 0\n",
    "    sub.to_csv(SUB_PATH/f\"submission-cv{repetition}.csv\", index=False)"
   ]
  },
  {
   "cell_type": "code",
   "execution_count": 18,
   "id": "f78140d1",
   "metadata": {
    "execution": {
     "iopub.execute_input": "2022-08-08T19:25:48.030069Z",
     "iopub.status.busy": "2022-08-08T19:25:48.029512Z",
     "iopub.status.idle": "2022-08-08T19:25:52.473292Z",
     "shell.execute_reply": "2022-08-08T19:25:52.473664Z"
    },
    "papermill": {
     "duration": 5.139995,
     "end_time": "2022-08-08T19:25:52.473812",
     "exception": false,
     "start_time": "2022-08-08T19:25:47.333817",
     "status": "completed"
    },
    "tags": []
   },
   "outputs": [
    {
     "name": "stdout",
     "output_type": "stream",
     "text": [
      "CPU times: user 3.59 s, sys: 859 ms, total: 4.45 s\n",
      "Wall time: 4.44 s\n"
     ]
    }
   ],
   "source": [
    "%%time\n",
    "# predict using all the trained models\n",
    "if \"prediction\" in sub.columns:\n",
    "    sub.drop(\"prediction\", axis=1, inplace=True)\n",
    "if \"prediction\" in test.columns:\n",
    "    test.drop(\"prediction\", axis=1, inplace=True)\n",
    "\n",
    "test[\"prediction\"] = np.mean(all_preds, axis=0)\n",
    "sub[\"prediction\"] = test.loc[sub.customer_ID.values,\"prediction\"].values\n",
    "assert sub.prediction.isna().sum() == 0\n",
    "sub.to_csv(SUB_PATH/f\"submission-all.csv\", index=False)"
   ]
  },
  {
   "cell_type": "markdown",
   "id": "cfc7dcb0",
   "metadata": {
    "papermill": {
     "duration": 0.686421,
     "end_time": "2022-08-08T19:25:53.858482",
     "exception": false,
     "start_time": "2022-08-08T19:25:53.172061",
     "status": "completed"
    },
    "tags": []
   },
   "source": [
    "***"
   ]
  }
 ],
 "metadata": {
  "kernelspec": {
   "display_name": "Python 3 (ipykernel)",
   "language": "python",
   "name": "python3"
  },
  "language_info": {
   "codemirror_mode": {
    "name": "ipython",
    "version": 3
   },
   "file_extension": ".py",
   "mimetype": "text/x-python",
   "name": "python",
   "nbconvert_exporter": "python",
   "pygments_lexer": "ipython3",
   "version": "3.7.12"
  },
  "papermill": {
   "default_parameters": {},
   "duration": 14310.850464,
   "end_time": "2022-08-08T19:25:55.683123",
   "environment_variables": {},
   "exception": null,
   "input_path": "train/catboost-dsv04.ipynb",
   "output_path": "train/outputs/catboost-dsv04.ipynb",
   "parameters": {},
   "start_time": "2022-08-08T15:27:24.832659",
   "version": "2.3.3"
  }
 },
 "nbformat": 4,
 "nbformat_minor": 5
}