{
 "cells": [
  {
   "cell_type": "code",
   "execution_count": 1,
   "id": "85692670",
   "metadata": {
    "_cell_guid": "b1076dfc-b9ad-4769-8c92-a6c4dae69d19",
    "_uuid": "8f2839f25d086af736a60e9eeb907d3b93b6e0e5",
    "execution": {
     "iopub.execute_input": "2022-07-18T13:32:16.194556Z",
     "iopub.status.busy": "2022-07-18T13:32:16.194051Z",
     "iopub.status.idle": "2022-07-18T13:32:16.766070Z",
     "shell.execute_reply": "2022-07-18T13:32:16.766484Z"
    },
    "papermill": {
     "duration": 0.594621,
     "end_time": "2022-07-18T13:32:16.766750",
     "exception": false,
     "start_time": "2022-07-18T13:32:16.172129",
     "status": "completed"
    },
    "tags": []
   },
   "outputs": [],
   "source": [
    "import gc\n",
    "from glob import glob\n",
    "import numpy as np\n",
    "import pandas as pd\n",
    "import matplotlib.pyplot as plt\n",
    "from pathlib import Path\n",
    "import time\n",
    "\n",
    "import category_encoders as ce\n",
    "import catboost\n",
    "from sklearn import metrics\n",
    "\n",
    "import sys\n",
    "sys.path.append(\"../utils\")\n",
    "from metrics import compute_recall_at4, compute_normalized_gini, compute_amex_metric\n",
    "#from messaging import send_message\n",
    "\n",
    "pd.set_option('display.max_columns', None)"
   ]
  },
  {
   "cell_type": "code",
   "execution_count": 2,
   "id": "4f5dbff6",
   "metadata": {
    "execution": {
     "iopub.execute_input": "2022-07-18T13:32:16.797352Z",
     "iopub.status.busy": "2022-07-18T13:32:16.796800Z",
     "iopub.status.idle": "2022-07-18T13:32:16.798788Z",
     "shell.execute_reply": "2022-07-18T13:32:16.798392Z"
    },
    "papermill": {
     "duration": 0.020686,
     "end_time": "2022-07-18T13:32:16.798897",
     "exception": false,
     "start_time": "2022-07-18T13:32:16.778211",
     "status": "completed"
    },
    "tags": []
   },
   "outputs": [],
   "source": [
    "# metrics in catboost format\n",
    "class AmexMetric:\n",
    "    \n",
    "    def is_max_optimal(self):\n",
    "        return True\n",
    "\n",
    "    def evaluate(self, approxes, target, weight):    \n",
    "        assert len(approxes) == 1\n",
    "        assert len(target) == len(approxes[0])\n",
    "        scores = approxes[0]\n",
    "        target = target\n",
    "        return compute_amex_metric(target, scores), 1.\n",
    "\n",
    "    def get_final_error(self, error, weight):\n",
    "        return error\n",
    "\n",
    "class RecallAt4:\n",
    "    \n",
    "    def is_max_optimal(self):\n",
    "        return True\n",
    "\n",
    "    def evaluate(self, approxes, target, weight):\n",
    "        assert len(approxes) == 1\n",
    "        assert len(target) == len(approxes[0])\n",
    "        scores = np.array(approxes[0])\n",
    "        target = np.array(target)                                   \n",
    "        return compute_recall_at4(target, scores), 1.\n",
    "\n",
    "    def get_final_error(self, error, weight):\n",
    "        return error\n",
    "\n",
    "class NormGini:\n",
    "    \n",
    "    def is_max_optimal(self):\n",
    "        return True\n",
    "\n",
    "    def evaluate(self, approxes, target, weight):\n",
    "        assert len(approxes) == 1\n",
    "        assert len(target) == len(approxes[0])\n",
    "        scores = np.array(approxes[0])\n",
    "        target = np.array(target)                   \n",
    "        return compute_normalized_gini(target, scores), 1.\n",
    "\n",
    "    def get_final_error(self, error, weight):\n",
    "        return error"
   ]
  },
  {
   "cell_type": "code",
   "execution_count": 3,
   "id": "f744a6e2",
   "metadata": {
    "execution": {
     "iopub.execute_input": "2022-07-18T13:32:16.823484Z",
     "iopub.status.busy": "2022-07-18T13:32:16.823001Z",
     "iopub.status.idle": "2022-07-18T13:32:16.824583Z",
     "shell.execute_reply": "2022-07-18T13:32:16.824931Z"
    },
    "papermill": {
     "duration": 0.015529,
     "end_time": "2022-07-18T13:32:16.825074",
     "exception": false,
     "start_time": "2022-07-18T13:32:16.809545",
     "status": "completed"
    },
    "tags": []
   },
   "outputs": [],
   "source": [
    "# CONFIG PARAMS\n",
    "N_REPEATS = 3"
   ]
  },
  {
   "cell_type": "code",
   "execution_count": 4,
   "id": "255f58f1",
   "metadata": {
    "execution": {
     "iopub.execute_input": "2022-07-18T13:32:16.851147Z",
     "iopub.status.busy": "2022-07-18T13:32:16.850662Z",
     "iopub.status.idle": "2022-07-18T13:32:16.852293Z",
     "shell.execute_reply": "2022-07-18T13:32:16.852672Z"
    },
    "papermill": {
     "duration": 0.016991,
     "end_time": "2022-07-18T13:32:16.852785",
     "exception": false,
     "start_time": "2022-07-18T13:32:16.835794",
     "status": "completed"
    },
    "tags": []
   },
   "outputs": [],
   "source": [
    "OOF_PATH = Path(\"../data/oof/catboost-dsv02\")\n",
    "SUB_PATH = Path(\"../data/subs/catboost-dsv02\")\n",
    "ART_PATH = Path(\"../artifacts/catboost-dsv02\")\n",
    "\n",
    "if not OOF_PATH.exists():\n",
    "    OOF_PATH.mkdir(parents=True, exist_ok=True)\n",
    "if not SUB_PATH.exists():\n",
    "    SUB_PATH.mkdir(parents=True, exist_ok=True)\n",
    "if not ART_PATH.exists():\n",
    "    ART_PATH.mkdir(parents=True, exist_ok=True)"
   ]
  },
  {
   "cell_type": "markdown",
   "id": "2de4fafd",
   "metadata": {
    "papermill": {
     "duration": 0.01084,
     "end_time": "2022-07-18T13:32:16.874463",
     "exception": false,
     "start_time": "2022-07-18T13:32:16.863623",
     "status": "completed"
    },
    "tags": []
   },
   "source": [
    "***\n",
    "## load and prepare data"
   ]
  },
  {
   "cell_type": "code",
   "execution_count": 5,
   "id": "9335163e",
   "metadata": {
    "execution": {
     "iopub.execute_input": "2022-07-18T13:32:16.900936Z",
     "iopub.status.busy": "2022-07-18T13:32:16.900392Z",
     "iopub.status.idle": "2022-07-18T13:32:17.022311Z",
     "shell.execute_reply": "2022-07-18T13:32:17.021820Z"
    },
    "papermill": {
     "duration": 0.136831,
     "end_time": "2022-07-18T13:32:17.022442",
     "exception": false,
     "start_time": "2022-07-18T13:32:16.885611",
     "status": "completed"
    },
    "tags": []
   },
   "outputs": [
    {
     "name": "stdout",
     "output_type": "stream",
     "text": [
      "test.parquet  train.parquet\r\n"
     ]
    }
   ],
   "source": [
    "!ls ../data/processed/dsv02"
   ]
  },
  {
   "cell_type": "code",
   "execution_count": 6,
   "id": "4b095a67",
   "metadata": {
    "execution": {
     "iopub.execute_input": "2022-07-18T13:32:17.050412Z",
     "iopub.status.busy": "2022-07-18T13:32:17.049885Z",
     "iopub.status.idle": "2022-07-18T13:32:19.251722Z",
     "shell.execute_reply": "2022-07-18T13:32:19.251250Z"
    },
    "papermill": {
     "duration": 2.217479,
     "end_time": "2022-07-18T13:32:19.251847",
     "exception": false,
     "start_time": "2022-07-18T13:32:17.034368",
     "status": "completed"
    },
    "tags": []
   },
   "outputs": [],
   "source": [
    "train = pd.read_parquet(\"../data/processed/dsv02/train.parquet\")\n",
    "train_labels = pd.read_csv(\"../data/raw/train_labels.csv\", index_col=\"customer_ID\")"
   ]
  },
  {
   "cell_type": "code",
   "execution_count": 7,
   "id": "77f06146",
   "metadata": {
    "execution": {
     "iopub.execute_input": "2022-07-18T13:32:19.282893Z",
     "iopub.status.busy": "2022-07-18T13:32:19.282381Z",
     "iopub.status.idle": "2022-07-18T13:32:19.285004Z",
     "shell.execute_reply": "2022-07-18T13:32:19.284640Z"
    },
    "papermill": {
     "duration": 0.02166,
     "end_time": "2022-07-18T13:32:19.285203",
     "exception": false,
     "start_time": "2022-07-18T13:32:19.263543",
     "status": "completed"
    },
    "tags": []
   },
   "outputs": [
    {
     "data": {
      "text/plain": [
       "1562"
      ]
     },
     "execution_count": 7,
     "metadata": {},
     "output_type": "execute_result"
    }
   ],
   "source": [
    "input_feats = train.columns.tolist()\n",
    "categ_feats = [\n",
    "    'B_30_first', 'B_38_first', 'D_114_first', 'D_116_first', 'D_117_first', \n",
    "    'D_120_first', 'D_126_first', 'D_63_first', 'D_64_first', 'D_66_first', 'D_68_first',\n",
    "    'B_30_last', 'B_38_last', 'D_114_last', 'D_116_last', 'D_117_last', \n",
    "    'D_120_last', 'D_126_last', 'D_63_last', 'D_64_last', 'D_66_last', 'D_68_last',\n",
    "]\n",
    "len(input_feats)"
   ]
  },
  {
   "cell_type": "code",
   "execution_count": 8,
   "id": "6baf2b79",
   "metadata": {
    "execution": {
     "iopub.execute_input": "2022-07-18T13:32:19.545801Z",
     "iopub.status.busy": "2022-07-18T13:32:19.544177Z",
     "iopub.status.idle": "2022-07-18T13:32:21.669666Z",
     "shell.execute_reply": "2022-07-18T13:32:21.670069Z"
    },
    "papermill": {
     "duration": 2.375181,
     "end_time": "2022-07-18T13:32:21.670221",
     "exception": false,
     "start_time": "2022-07-18T13:32:19.295040",
     "status": "completed"
    },
    "tags": []
   },
   "outputs": [
    {
     "data": {
      "text/plain": [
       "0"
      ]
     },
     "execution_count": 8,
     "metadata": {},
     "output_type": "execute_result"
    }
   ],
   "source": [
    "train = pd.merge(train, train_labels, how=\"inner\", left_index=True, right_index=True)\n",
    "del train_labels\n",
    "gc.collect()"
   ]
  },
  {
   "cell_type": "markdown",
   "id": "38a04fbe",
   "metadata": {
    "papermill": {
     "duration": 0.012376,
     "end_time": "2022-07-18T13:32:21.694885",
     "exception": false,
     "start_time": "2022-07-18T13:32:21.682509",
     "status": "completed"
    },
    "tags": []
   },
   "source": [
    "***\n",
    "## model training\n",
    "\n",
    "train with repeated cross validation"
   ]
  },
  {
   "cell_type": "code",
   "execution_count": 9,
   "id": "d79a0318",
   "metadata": {
    "execution": {
     "iopub.execute_input": "2022-07-18T13:32:21.724190Z",
     "iopub.status.busy": "2022-07-18T13:32:21.723680Z",
     "iopub.status.idle": "2022-07-18T13:32:21.725336Z",
     "shell.execute_reply": "2022-07-18T13:32:21.725691Z"
    },
    "papermill": {
     "duration": 0.018632,
     "end_time": "2022-07-18T13:32:21.725823",
     "exception": false,
     "start_time": "2022-07-18T13:32:21.707191",
     "status": "completed"
    },
    "tags": []
   },
   "outputs": [],
   "source": [
    "model_params = {\n",
    "    'eval_metric':AmexMetric(),\n",
    "    'learning_rate': 0.05,\n",
    "    'nan_mode':'Min',\n",
    "    'random_seed': 2112,\n",
    "    'auto_class_weights': None,\n",
    "    'bootstrap_type': 'Bernoulli',\n",
    "    'depth': 5,\n",
    "    'rsm': 0.1,\n",
    "    'iterations': 3900,\n",
    "    'l2_leaf_reg': 8.017281499631434,\n",
    "    'min_data_in_leaf': 1600,\n",
    "    'random_strength': 7.69963242351621,\n",
    "    'subsample': 0.8500000000000001,\n",
    "    # early stopping\n",
    "    'early_stopping_rounds':3900,\n",
    "    'use_best_model': False,\n",
    " }"
   ]
  },
  {
   "cell_type": "code",
   "execution_count": 10,
   "id": "bb036bd1",
   "metadata": {
    "execution": {
     "iopub.execute_input": "2022-07-18T13:32:21.757537Z",
     "iopub.status.busy": "2022-07-18T13:32:21.757032Z",
     "iopub.status.idle": "2022-07-18T13:32:21.758676Z",
     "shell.execute_reply": "2022-07-18T13:32:21.759086Z"
    },
    "papermill": {
     "duration": 0.021376,
     "end_time": "2022-07-18T13:32:21.759217",
     "exception": false,
     "start_time": "2022-07-18T13:32:21.737841",
     "status": "completed"
    },
    "tags": []
   },
   "outputs": [],
   "source": [
    "def train_models(dataframe: pd.DataFrame, n_folds: int = 5,) -> tuple:\n",
    "    \n",
    "    models = list()\n",
    "    \n",
    "    # dataframe to store the oof predictions\n",
    "    oof = dataframe[[\"target\"]].copy()\n",
    "    oof[\"pred\"] = -1\n",
    "\n",
    "    for fold in range(n_folds):\n",
    "        \n",
    "        print(f\" training model {fold+1}/{n_folds} \".center(100, \"#\"))\n",
    "        \n",
    "        train_df = dataframe.query(\"fold != @fold\").copy()\n",
    "        valid_df = dataframe.query(\"fold == @fold\").copy()\n",
    "                \n",
    "        train_dset = catboost.Pool(\n",
    "            data=train_df.loc[:,input_feats],\n",
    "            label=train_df.loc[:,\"target\"].values,\n",
    "            cat_features=categ_feats,\n",
    "        )\n",
    "        valid_dset = catboost.Pool(\n",
    "            data=valid_df.loc[:,input_feats],\n",
    "            label=valid_df.loc[:,\"target\"].values,\n",
    "            cat_features=categ_feats,\n",
    "        )\n",
    "        \n",
    "        model = catboost.CatBoostClassifier(**model_params)\n",
    "        model.fit(\n",
    "            train_dset,\n",
    "            eval_set=valid_dset,\n",
    "            verbose=25,\n",
    "        )\n",
    "        \n",
    "        #lgb.plot_importance(model, figsize=(8,15), importance_type=\"split\", max_num_features=30)\n",
    "        #lgb.plot_importance(model, figsize=(8,15), importance_type=\"gain\", max_num_features=30)\n",
    "        #plt.show()        \n",
    "        \n",
    "        oof.loc[valid_df.index,\"pred\"] = model.predict(valid_dset, prediction_type=\"Probability\")[:,1]\n",
    "        \n",
    "        models.append(model)\n",
    "        del train_df,valid_df,train_dset,valid_dset\n",
    "        gc.collect()\n",
    "    \n",
    "    return models,oof"
   ]
  },
  {
   "cell_type": "code",
   "execution_count": 11,
   "id": "9ece7118",
   "metadata": {
    "execution": {
     "iopub.execute_input": "2022-07-18T13:32:21.787254Z",
     "iopub.status.busy": "2022-07-18T13:32:21.786757Z",
     "iopub.status.idle": "2022-07-18T13:32:21.790481Z",
     "shell.execute_reply": "2022-07-18T13:32:21.790074Z"
    },
    "papermill": {
     "duration": 0.019139,
     "end_time": "2022-07-18T13:32:21.790591",
     "exception": false,
     "start_time": "2022-07-18T13:32:21.771452",
     "status": "completed"
    },
    "tags": []
   },
   "outputs": [
    {
     "data": {
      "text/plain": [
       "['../data/processed/cv0.csv',\n",
       " '../data/processed/cv1.csv',\n",
       " '../data/processed/cv2.csv',\n",
       " '../data/processed/cv3.csv',\n",
       " '../data/processed/cv4.csv',\n",
       " '../data/processed/cv5.csv',\n",
       " '../data/processed/cv6.csv',\n",
       " '../data/processed/cv7.csv',\n",
       " '../data/processed/cv8.csv',\n",
       " '../data/processed/cv9.csv']"
      ]
     },
     "execution_count": 11,
     "metadata": {},
     "output_type": "execute_result"
    }
   ],
   "source": [
    "# implement repeated cross validation\n",
    "sorted(glob(\"../data/processed/cv*.csv\"))"
   ]
  },
  {
   "cell_type": "code",
   "execution_count": 12,
   "id": "cfcd7039",
   "metadata": {
    "execution": {
     "iopub.execute_input": "2022-07-18T13:32:21.822181Z",
     "iopub.status.busy": "2022-07-18T13:32:21.821676Z",
     "iopub.status.idle": "2022-07-18T16:47:54.550668Z",
     "shell.execute_reply": "2022-07-18T16:47:54.550248Z"
    },
    "papermill": {
     "duration": 11732.747608,
     "end_time": "2022-07-18T16:47:54.550792",
     "exception": false,
     "start_time": "2022-07-18T13:32:21.803184",
     "status": "completed"
    },
    "tags": []
   },
   "outputs": [
    {
     "name": "stdout",
     "output_type": "stream",
     "text": [
      "############################### repeated cross-validation step: 1/3 ################################\n"
     ]
    },
    {
     "name": "stdout",
     "output_type": "stream",
     "text": [
      "######################################## training model 1/5 ########################################\n"
     ]
    },
    {
     "name": "stdout",
     "output_type": "stream",
     "text": [
      "0:\tlearn: 0.5826840\ttest: 0.5890591\tbest: 0.5890591 (0)\ttotal: 2.78s\tremaining: 3h 37s\n"
     ]
    },
    {
     "name": "stdout",
     "output_type": "stream",
     "text": [
      "25:\tlearn: 0.7274137\ttest: 0.7311854\tbest: 0.7311854 (25)\ttotal: 7.54s\tremaining: 18m 43s\n"
     ]
    },
    {
     "name": "stdout",
     "output_type": "stream",
     "text": [
      "50:\tlearn: 0.7472592\ttest: 0.7519620\tbest: 0.7519620 (50)\ttotal: 12.5s\tremaining: 15m 43s\n"
     ]
    },
    {
     "name": "stdout",
     "output_type": "stream",
     "text": [
      "75:\tlearn: 0.7546823\ttest: 0.7597247\tbest: 0.7597247 (75)\ttotal: 17.6s\tremaining: 14m 43s\n"
     ]
    },
    {
     "name": "stdout",
     "output_type": "stream",
     "text": [
      "100:\tlearn: 0.7589398\ttest: 0.7645849\tbest: 0.7645849 (100)\ttotal: 22.5s\tremaining: 14m 6s\n"
     ]
    },
    {
     "name": "stdout",
     "output_type": "stream",
     "text": [
      "125:\tlearn: 0.7631245\ttest: 0.7669594\tbest: 0.7669683 (124)\ttotal: 27.4s\tremaining: 13m 42s\n"
     ]
    },
    {
     "name": "stdout",
     "output_type": "stream",
     "text": [
      "150:\tlearn: 0.7653741\ttest: 0.7687467\tbest: 0.7687467 (150)\ttotal: 32.4s\tremaining: 13m 25s\n"
     ]
    },
    {
     "name": "stdout",
     "output_type": "stream",
     "text": [
      "175:\tlearn: 0.7676348\ttest: 0.7713947\tbest: 0.7718285 (173)\ttotal: 37.4s\tremaining: 13m 10s\n"
     ]
    },
    {
     "name": "stdout",
     "output_type": "stream",
     "text": [
      "200:\tlearn: 0.7693406\ttest: 0.7727171\tbest: 0.7727724 (199)\ttotal: 42.4s\tremaining: 12m 59s\n"
     ]
    },
    {
     "name": "stdout",
     "output_type": "stream",
     "text": [
      "225:\tlearn: 0.7707376\ttest: 0.7736668\tbest: 0.7739643 (219)\ttotal: 47.3s\tremaining: 12m 49s\n"
     ]
    },
    {
     "name": "stdout",
     "output_type": "stream",
     "text": [
      "250:\tlearn: 0.7722995\ttest: 0.7747594\tbest: 0.7748005 (246)\ttotal: 52.2s\tremaining: 12m 39s\n"
     ]
    },
    {
     "name": "stdout",
     "output_type": "stream",
     "text": [
      "275:\tlearn: 0.7746713\ttest: 0.7771942\tbest: 0.7771942 (275)\ttotal: 57.2s\tremaining: 12m 30s\n"
     ]
    },
    {
     "name": "stdout",
     "output_type": "stream",
     "text": [
      "300:\tlearn: 0.7773669\ttest: 0.7788901\tbest: 0.7792042 (298)\ttotal: 1m 2s\tremaining: 12m 22s\n"
     ]
    },
    {
     "name": "stdout",
     "output_type": "stream",
     "text": [
      "325:\tlearn: 0.7799430\ttest: 0.7809606\tbest: 0.7809606 (325)\ttotal: 1m 7s\tremaining: 12m 14s\n"
     ]
    },
    {
     "name": "stdout",
     "output_type": "stream",
     "text": [
      "350:\tlearn: 0.7823043\ttest: 0.7826758\tbest: 0.7826758 (350)\ttotal: 1m 12s\tremaining: 12m 8s\n"
     ]
    },
    {
     "name": "stdout",
     "output_type": "stream",
     "text": [
      "375:\tlearn: 0.7837382\ttest: 0.7835891\tbest: 0.7836323 (373)\ttotal: 1m 17s\tremaining: 12m 1s\n"
     ]
    },
    {
     "name": "stdout",
     "output_type": "stream",
     "text": [
      "400:\tlearn: 0.7853323\ttest: 0.7854794\tbest: 0.7854794 (400)\ttotal: 1m 21s\tremaining: 11m 55s\n"
     ]
    },
    {
     "name": "stdout",
     "output_type": "stream",
     "text": [
      "425:\tlearn: 0.7867030\ttest: 0.7867763\tbest: 0.7867763 (425)\ttotal: 1m 27s\tremaining: 11m 49s\n"
     ]
    },
    {
     "name": "stdout",
     "output_type": "stream",
     "text": [
      "450:\tlearn: 0.7879284\ttest: 0.7870637\tbest: 0.7873226 (448)\ttotal: 1m 31s\tremaining: 11m 43s\n"
     ]
    },
    {
     "name": "stdout",
     "output_type": "stream",
     "text": [
      "475:\tlearn: 0.7886875\ttest: 0.7878166\tbest: 0.7880500 (459)\ttotal: 1m 36s\tremaining: 11m 37s\n"
     ]
    },
    {
     "name": "stdout",
     "output_type": "stream",
     "text": [
      "500:\tlearn: 0.7895227\ttest: 0.7881663\tbest: 0.7885880 (490)\ttotal: 1m 41s\tremaining: 11m 31s\n"
     ]
    },
    {
     "name": "stdout",
     "output_type": "stream",
     "text": [
      "525:\tlearn: 0.7903315\ttest: 0.7884656\tbest: 0.7885880 (490)\ttotal: 1m 46s\tremaining: 11m 25s\n"
     ]
    },
    {
     "name": "stdout",
     "output_type": "stream",
     "text": [
      "550:\tlearn: 0.7914642\ttest: 0.7890899\tbest: 0.7890899 (550)\ttotal: 1m 51s\tremaining: 11m 19s\n"
     ]
    },
    {
     "name": "stdout",
     "output_type": "stream",
     "text": [
      "575:\tlearn: 0.7922339\ttest: 0.7899566\tbest: 0.7900759 (570)\ttotal: 1m 56s\tremaining: 11m 14s\n"
     ]
    },
    {
     "name": "stdout",
     "output_type": "stream",
     "text": [
      "600:\tlearn: 0.7928276\ttest: 0.7902040\tbest: 0.7905636 (593)\ttotal: 2m 1s\tremaining: 11m 8s\n"
     ]
    },
    {
     "name": "stdout",
     "output_type": "stream",
     "text": [
      "625:\tlearn: 0.7937752\ttest: 0.7906720\tbest: 0.7908119 (624)\ttotal: 2m 6s\tremaining: 11m 3s\n"
     ]
    },
    {
     "name": "stdout",
     "output_type": "stream",
     "text": [
      "650:\tlearn: 0.7944464\ttest: 0.7909592\tbest: 0.7910713 (646)\ttotal: 2m 11s\tremaining: 10m 57s\n"
     ]
    },
    {
     "name": "stdout",
     "output_type": "stream",
     "text": [
      "675:\tlearn: 0.7952508\ttest: 0.7915940\tbest: 0.7919434 (671)\ttotal: 2m 16s\tremaining: 10m 51s\n"
     ]
    },
    {
     "name": "stdout",
     "output_type": "stream",
     "text": [
      "700:\tlearn: 0.7958385\ttest: 0.7915384\tbest: 0.7919434 (671)\ttotal: 2m 21s\tremaining: 10m 46s\n"
     ]
    },
    {
     "name": "stdout",
     "output_type": "stream",
     "text": [
      "725:\tlearn: 0.7965527\ttest: 0.7916513\tbest: 0.7919434 (671)\ttotal: 2m 26s\tremaining: 10m 41s\n"
     ]
    },
    {
     "name": "stdout",
     "output_type": "stream",
     "text": [
      "750:\tlearn: 0.7972181\ttest: 0.7919983\tbest: 0.7921231 (739)\ttotal: 2m 31s\tremaining: 10m 35s\n"
     ]
    },
    {
     "name": "stdout",
     "output_type": "stream",
     "text": [
      "775:\tlearn: 0.7979223\ttest: 0.7925099\tbest: 0.7925099 (775)\ttotal: 2m 36s\tremaining: 10m 30s\n"
     ]
    },
    {
     "name": "stdout",
     "output_type": "stream",
     "text": [
      "800:\tlearn: 0.7986656\ttest: 0.7929644\tbest: 0.7931042 (788)\ttotal: 2m 41s\tremaining: 10m 25s\n"
     ]
    },
    {
     "name": "stdout",
     "output_type": "stream",
     "text": [
      "825:\tlearn: 0.7992205\ttest: 0.7932593\tbest: 0.7932947 (819)\ttotal: 2m 46s\tremaining: 10m 19s\n"
     ]
    },
    {
     "name": "stdout",
     "output_type": "stream",
     "text": [
      "850:\tlearn: 0.7998381\ttest: 0.7936123\tbest: 0.7936925 (845)\ttotal: 2m 51s\tremaining: 10m 14s\n"
     ]
    },
    {
     "name": "stdout",
     "output_type": "stream",
     "text": [
      "875:\tlearn: 0.8003646\ttest: 0.7939925\tbest: 0.7941380 (873)\ttotal: 2m 56s\tremaining: 10m 9s\n"
     ]
    },
    {
     "name": "stdout",
     "output_type": "stream",
     "text": [
      "900:\tlearn: 0.8009645\ttest: 0.7937023\tbest: 0.7941380 (873)\ttotal: 3m 1s\tremaining: 10m 4s\n"
     ]
    },
    {
     "name": "stdout",
     "output_type": "stream",
     "text": [
      "925:\tlearn: 0.8016171\ttest: 0.7941964\tbest: 0.7941964 (925)\ttotal: 3m 6s\tremaining: 9m 59s\n"
     ]
    },
    {
     "name": "stdout",
     "output_type": "stream",
     "text": [
      "950:\tlearn: 0.8021904\ttest: 0.7943887\tbest: 0.7945347 (948)\ttotal: 3m 11s\tremaining: 9m 53s\n"
     ]
    },
    {
     "name": "stdout",
     "output_type": "stream",
     "text": [
      "975:\tlearn: 0.8026140\ttest: 0.7943735\tbest: 0.7945347 (948)\ttotal: 3m 16s\tremaining: 9m 48s\n"
     ]
    },
    {
     "name": "stdout",
     "output_type": "stream",
     "text": [
      "1000:\tlearn: 0.8029441\ttest: 0.7943971\tbest: 0.7947019 (988)\ttotal: 3m 21s\tremaining: 9m 43s\n"
     ]
    },
    {
     "name": "stdout",
     "output_type": "stream",
     "text": [
      "1025:\tlearn: 0.8036074\ttest: 0.7944689\tbest: 0.7947019 (988)\ttotal: 3m 26s\tremaining: 9m 38s\n"
     ]
    },
    {
     "name": "stdout",
     "output_type": "stream",
     "text": [
      "1050:\tlearn: 0.8040400\ttest: 0.7946869\tbest: 0.7947856 (1042)\ttotal: 3m 31s\tremaining: 9m 33s\n"
     ]
    },
    {
     "name": "stdout",
     "output_type": "stream",
     "text": [
      "1075:\tlearn: 0.8047654\ttest: 0.7943003\tbest: 0.7947856 (1042)\ttotal: 3m 36s\tremaining: 9m 27s\n"
     ]
    },
    {
     "name": "stdout",
     "output_type": "stream",
     "text": [
      "1100:\tlearn: 0.8054029\ttest: 0.7942487\tbest: 0.7947856 (1042)\ttotal: 3m 41s\tremaining: 9m 22s\n"
     ]
    },
    {
     "name": "stdout",
     "output_type": "stream",
     "text": [
      "1125:\tlearn: 0.8057845\ttest: 0.7947484\tbest: 0.7947856 (1042)\ttotal: 3m 46s\tremaining: 9m 17s\n"
     ]
    },
    {
     "name": "stdout",
     "output_type": "stream",
     "text": [
      "1150:\tlearn: 0.8063032\ttest: 0.7949443\tbest: 0.7950684 (1145)\ttotal: 3m 51s\tremaining: 9m 12s\n"
     ]
    },
    {
     "name": "stdout",
     "output_type": "stream",
     "text": [
      "1175:\tlearn: 0.8071691\ttest: 0.7950635\tbest: 0.7952494 (1171)\ttotal: 3m 56s\tremaining: 9m 7s\n"
     ]
    },
    {
     "name": "stdout",
     "output_type": "stream",
     "text": [
      "1200:\tlearn: 0.8075743\ttest: 0.7947423\tbest: 0.7952494 (1171)\ttotal: 4m 1s\tremaining: 9m 1s\n"
     ]
    },
    {
     "name": "stdout",
     "output_type": "stream",
     "text": [
      "1225:\tlearn: 0.8081037\ttest: 0.7949597\tbest: 0.7952494 (1171)\ttotal: 4m 6s\tremaining: 8m 56s\n"
     ]
    },
    {
     "name": "stdout",
     "output_type": "stream",
     "text": [
      "1250:\tlearn: 0.8083508\ttest: 0.7951711\tbest: 0.7952494 (1171)\ttotal: 4m 11s\tremaining: 8m 51s\n"
     ]
    },
    {
     "name": "stdout",
     "output_type": "stream",
     "text": [
      "1275:\tlearn: 0.8087615\ttest: 0.7952124\tbest: 0.7953886 (1258)\ttotal: 4m 16s\tremaining: 8m 46s\n"
     ]
    },
    {
     "name": "stdout",
     "output_type": "stream",
     "text": [
      "1300:\tlearn: 0.8092828\ttest: 0.7953544\tbest: 0.7953886 (1258)\ttotal: 4m 21s\tremaining: 8m 41s\n"
     ]
    },
    {
     "name": "stdout",
     "output_type": "stream",
     "text": [
      "1325:\tlearn: 0.8095056\ttest: 0.7955223\tbest: 0.7955367 (1314)\ttotal: 4m 26s\tremaining: 8m 36s\n"
     ]
    },
    {
     "name": "stdout",
     "output_type": "stream",
     "text": [
      "1350:\tlearn: 0.8101384\ttest: 0.7951770\tbest: 0.7955367 (1314)\ttotal: 4m 31s\tremaining: 8m 31s\n"
     ]
    },
    {
     "name": "stdout",
     "output_type": "stream",
     "text": [
      "1375:\tlearn: 0.8106537\ttest: 0.7954312\tbest: 0.7956146 (1369)\ttotal: 4m 36s\tremaining: 8m 26s\n"
     ]
    },
    {
     "name": "stdout",
     "output_type": "stream",
     "text": [
      "1400:\tlearn: 0.8111764\ttest: 0.7951248\tbest: 0.7956146 (1369)\ttotal: 4m 40s\tremaining: 8m 21s\n"
     ]
    },
    {
     "name": "stdout",
     "output_type": "stream",
     "text": [
      "1425:\tlearn: 0.8116709\ttest: 0.7951686\tbest: 0.7956146 (1369)\ttotal: 4m 46s\tremaining: 8m 16s\n"
     ]
    },
    {
     "name": "stdout",
     "output_type": "stream",
     "text": [
      "1450:\tlearn: 0.8120885\ttest: 0.7949306\tbest: 0.7956146 (1369)\ttotal: 4m 50s\tremaining: 8m 11s\n"
     ]
    },
    {
     "name": "stdout",
     "output_type": "stream",
     "text": [
      "1475:\tlearn: 0.8125615\ttest: 0.7951902\tbest: 0.7956146 (1369)\ttotal: 4m 55s\tremaining: 8m 5s\n"
     ]
    },
    {
     "name": "stdout",
     "output_type": "stream",
     "text": [
      "1500:\tlearn: 0.8129742\ttest: 0.7947830\tbest: 0.7956146 (1369)\ttotal: 5m\tremaining: 8m\n"
     ]
    },
    {
     "name": "stdout",
     "output_type": "stream",
     "text": [
      "1525:\tlearn: 0.8134208\ttest: 0.7945475\tbest: 0.7956146 (1369)\ttotal: 5m 5s\tremaining: 7m 55s\n"
     ]
    },
    {
     "name": "stdout",
     "output_type": "stream",
     "text": [
      "1550:\tlearn: 0.8138911\ttest: 0.7947865\tbest: 0.7956146 (1369)\ttotal: 5m 10s\tremaining: 7m 50s\n"
     ]
    },
    {
     "name": "stdout",
     "output_type": "stream",
     "text": [
      "1575:\tlearn: 0.8142175\ttest: 0.7948257\tbest: 0.7956146 (1369)\ttotal: 5m 15s\tremaining: 7m 45s\n"
     ]
    },
    {
     "name": "stdout",
     "output_type": "stream",
     "text": [
      "1600:\tlearn: 0.8147666\ttest: 0.7947262\tbest: 0.7956146 (1369)\ttotal: 5m 20s\tremaining: 7m 40s\n"
     ]
    },
    {
     "name": "stdout",
     "output_type": "stream",
     "text": [
      "1625:\tlearn: 0.8150785\ttest: 0.7947155\tbest: 0.7956146 (1369)\ttotal: 5m 25s\tremaining: 7m 35s\n"
     ]
    },
    {
     "name": "stdout",
     "output_type": "stream",
     "text": [
      "1650:\tlearn: 0.8155139\ttest: 0.7944955\tbest: 0.7956146 (1369)\ttotal: 5m 30s\tremaining: 7m 30s\n"
     ]
    },
    {
     "name": "stdout",
     "output_type": "stream",
     "text": [
      "1675:\tlearn: 0.8156933\ttest: 0.7945069\tbest: 0.7956146 (1369)\ttotal: 5m 35s\tremaining: 7m 25s\n"
     ]
    },
    {
     "name": "stdout",
     "output_type": "stream",
     "text": [
      "1700:\tlearn: 0.8163437\ttest: 0.7944583\tbest: 0.7956146 (1369)\ttotal: 5m 40s\tremaining: 7m 20s\n"
     ]
    },
    {
     "name": "stdout",
     "output_type": "stream",
     "text": [
      "1725:\tlearn: 0.8168989\ttest: 0.7948030\tbest: 0.7956146 (1369)\ttotal: 5m 45s\tremaining: 7m 15s\n"
     ]
    },
    {
     "name": "stdout",
     "output_type": "stream",
     "text": [
      "1750:\tlearn: 0.8171683\ttest: 0.7948401\tbest: 0.7956146 (1369)\ttotal: 5m 50s\tremaining: 7m 10s\n"
     ]
    },
    {
     "name": "stdout",
     "output_type": "stream",
     "text": [
      "1775:\tlearn: 0.8174193\ttest: 0.7951465\tbest: 0.7956146 (1369)\ttotal: 5m 55s\tremaining: 7m 4s\n"
     ]
    },
    {
     "name": "stdout",
     "output_type": "stream",
     "text": [
      "1800:\tlearn: 0.8178992\ttest: 0.7952642\tbest: 0.7956146 (1369)\ttotal: 6m\tremaining: 6m 59s\n"
     ]
    },
    {
     "name": "stdout",
     "output_type": "stream",
     "text": [
      "1825:\tlearn: 0.8183694\ttest: 0.7953402\tbest: 0.7956146 (1369)\ttotal: 6m 5s\tremaining: 6m 54s\n"
     ]
    },
    {
     "name": "stdout",
     "output_type": "stream",
     "text": [
      "1850:\tlearn: 0.8189446\ttest: 0.7953730\tbest: 0.7956146 (1369)\ttotal: 6m 10s\tremaining: 6m 49s\n"
     ]
    },
    {
     "name": "stdout",
     "output_type": "stream",
     "text": [
      "1875:\tlearn: 0.8192660\ttest: 0.7950638\tbest: 0.7956146 (1369)\ttotal: 6m 15s\tremaining: 6m 44s\n"
     ]
    },
    {
     "name": "stdout",
     "output_type": "stream",
     "text": [
      "1900:\tlearn: 0.8195693\ttest: 0.7951808\tbest: 0.7956146 (1369)\ttotal: 6m 20s\tremaining: 6m 39s\n"
     ]
    },
    {
     "name": "stdout",
     "output_type": "stream",
     "text": [
      "1925:\tlearn: 0.8199548\ttest: 0.7953389\tbest: 0.7956146 (1369)\ttotal: 6m 25s\tremaining: 6m 34s\n"
     ]
    },
    {
     "name": "stdout",
     "output_type": "stream",
     "text": [
      "1950:\tlearn: 0.8202489\ttest: 0.7954084\tbest: 0.7956146 (1369)\ttotal: 6m 30s\tremaining: 6m 29s\n"
     ]
    },
    {
     "name": "stdout",
     "output_type": "stream",
     "text": [
      "1975:\tlearn: 0.8207022\ttest: 0.7957961\tbest: 0.7958175 (1974)\ttotal: 6m 35s\tremaining: 6m 24s\n"
     ]
    },
    {
     "name": "stdout",
     "output_type": "stream",
     "text": [
      "2000:\tlearn: 0.8211389\ttest: 0.7953201\tbest: 0.7958175 (1974)\ttotal: 6m 40s\tremaining: 6m 19s\n"
     ]
    },
    {
     "name": "stdout",
     "output_type": "stream",
     "text": [
      "2025:\tlearn: 0.8214884\ttest: 0.7954231\tbest: 0.7958175 (1974)\ttotal: 6m 45s\tremaining: 6m 14s\n"
     ]
    },
    {
     "name": "stdout",
     "output_type": "stream",
     "text": [
      "2050:\tlearn: 0.8219520\ttest: 0.7957070\tbest: 0.7958320 (2046)\ttotal: 6m 49s\tremaining: 6m 9s\n"
     ]
    },
    {
     "name": "stdout",
     "output_type": "stream",
     "text": [
      "2075:\tlearn: 0.8224565\ttest: 0.7956345\tbest: 0.7958320 (2046)\ttotal: 6m 54s\tremaining: 6m 4s\n"
     ]
    },
    {
     "name": "stdout",
     "output_type": "stream",
     "text": [
      "2100:\tlearn: 0.8227749\ttest: 0.7957405\tbest: 0.7958320 (2046)\ttotal: 6m 59s\tremaining: 5m 59s\n"
     ]
    },
    {
     "name": "stdout",
     "output_type": "stream",
     "text": [
      "2125:\tlearn: 0.8232111\ttest: 0.7958050\tbest: 0.7958899 (2104)\ttotal: 7m 4s\tremaining: 5m 54s\n"
     ]
    },
    {
     "name": "stdout",
     "output_type": "stream",
     "text": [
      "2150:\tlearn: 0.8235029\ttest: 0.7958583\tbest: 0.7958899 (2104)\ttotal: 7m 9s\tremaining: 5m 49s\n"
     ]
    },
    {
     "name": "stdout",
     "output_type": "stream",
     "text": [
      "2175:\tlearn: 0.8236999\ttest: 0.7956959\tbest: 0.7958899 (2104)\ttotal: 7m 14s\tremaining: 5m 44s\n"
     ]
    },
    {
     "name": "stdout",
     "output_type": "stream",
     "text": [
      "2200:\tlearn: 0.8242401\ttest: 0.7954213\tbest: 0.7958899 (2104)\ttotal: 7m 19s\tremaining: 5m 39s\n"
     ]
    },
    {
     "name": "stdout",
     "output_type": "stream",
     "text": [
      "2225:\tlearn: 0.8245493\ttest: 0.7958040\tbest: 0.7958899 (2104)\ttotal: 7m 24s\tremaining: 5m 34s\n"
     ]
    },
    {
     "name": "stdout",
     "output_type": "stream",
     "text": [
      "2250:\tlearn: 0.8251381\ttest: 0.7954159\tbest: 0.7958899 (2104)\ttotal: 7m 29s\tremaining: 5m 29s\n"
     ]
    },
    {
     "name": "stdout",
     "output_type": "stream",
     "text": [
      "2275:\tlearn: 0.8256383\ttest: 0.7955971\tbest: 0.7958899 (2104)\ttotal: 7m 34s\tremaining: 5m 24s\n"
     ]
    },
    {
     "name": "stdout",
     "output_type": "stream",
     "text": [
      "2300:\tlearn: 0.8259795\ttest: 0.7956479\tbest: 0.7958899 (2104)\ttotal: 7m 39s\tremaining: 5m 19s\n"
     ]
    },
    {
     "name": "stdout",
     "output_type": "stream",
     "text": [
      "2325:\tlearn: 0.8263989\ttest: 0.7956978\tbest: 0.7959083 (2315)\ttotal: 7m 44s\tremaining: 5m 14s\n"
     ]
    },
    {
     "name": "stdout",
     "output_type": "stream",
     "text": [
      "2350:\tlearn: 0.8266717\ttest: 0.7957192\tbest: 0.7959083 (2315)\ttotal: 7m 49s\tremaining: 5m 9s\n"
     ]
    },
    {
     "name": "stdout",
     "output_type": "stream",
     "text": [
      "2375:\tlearn: 0.8270461\ttest: 0.7958581\tbest: 0.7959083 (2315)\ttotal: 7m 54s\tremaining: 5m 4s\n"
     ]
    },
    {
     "name": "stdout",
     "output_type": "stream",
     "text": [
      "2400:\tlearn: 0.8275345\ttest: 0.7959476\tbest: 0.7959476 (2400)\ttotal: 7m 59s\tremaining: 4m 59s\n"
     ]
    },
    {
     "name": "stdout",
     "output_type": "stream",
     "text": [
      "2425:\tlearn: 0.8279012\ttest: 0.7959741\tbest: 0.7960128 (2405)\ttotal: 8m 4s\tremaining: 4m 54s\n"
     ]
    },
    {
     "name": "stdout",
     "output_type": "stream",
     "text": [
      "2450:\tlearn: 0.8282350\ttest: 0.7957924\tbest: 0.7960863 (2437)\ttotal: 8m 9s\tremaining: 4m 49s\n"
     ]
    },
    {
     "name": "stdout",
     "output_type": "stream",
     "text": [
      "2475:\tlearn: 0.8287355\ttest: 0.7953155\tbest: 0.7960863 (2437)\ttotal: 8m 14s\tremaining: 4m 44s\n"
     ]
    },
    {
     "name": "stdout",
     "output_type": "stream",
     "text": [
      "2500:\tlearn: 0.8291673\ttest: 0.7952903\tbest: 0.7960863 (2437)\ttotal: 8m 19s\tremaining: 4m 39s\n"
     ]
    },
    {
     "name": "stdout",
     "output_type": "stream",
     "text": [
      "2525:\tlearn: 0.8294905\ttest: 0.7953459\tbest: 0.7960863 (2437)\ttotal: 8m 24s\tremaining: 4m 34s\n"
     ]
    },
    {
     "name": "stdout",
     "output_type": "stream",
     "text": [
      "2550:\tlearn: 0.8299566\ttest: 0.7956269\tbest: 0.7960863 (2437)\ttotal: 8m 29s\tremaining: 4m 29s\n"
     ]
    },
    {
     "name": "stdout",
     "output_type": "stream",
     "text": [
      "2575:\tlearn: 0.8305387\ttest: 0.7955538\tbest: 0.7960863 (2437)\ttotal: 8m 34s\tremaining: 4m 24s\n"
     ]
    },
    {
     "name": "stdout",
     "output_type": "stream",
     "text": [
      "2600:\tlearn: 0.8309749\ttest: 0.7958122\tbest: 0.7960863 (2437)\ttotal: 8m 38s\tremaining: 4m 19s\n"
     ]
    },
    {
     "name": "stdout",
     "output_type": "stream",
     "text": [
      "2625:\tlearn: 0.8312270\ttest: 0.7959920\tbest: 0.7960863 (2437)\ttotal: 8m 43s\tremaining: 4m 14s\n"
     ]
    },
    {
     "name": "stdout",
     "output_type": "stream",
     "text": [
      "2650:\tlearn: 0.8315949\ttest: 0.7963463\tbest: 0.7964294 (2646)\ttotal: 8m 48s\tremaining: 4m 9s\n"
     ]
    },
    {
     "name": "stdout",
     "output_type": "stream",
     "text": [
      "2675:\tlearn: 0.8319102\ttest: 0.7964284\tbest: 0.7964923 (2669)\ttotal: 8m 53s\tremaining: 4m 4s\n"
     ]
    },
    {
     "name": "stdout",
     "output_type": "stream",
     "text": [
      "2700:\tlearn: 0.8324288\ttest: 0.7963411\tbest: 0.7965117 (2678)\ttotal: 8m 58s\tremaining: 3m 59s\n"
     ]
    },
    {
     "name": "stdout",
     "output_type": "stream",
     "text": [
      "2725:\tlearn: 0.8327610\ttest: 0.7962616\tbest: 0.7965117 (2678)\ttotal: 9m 3s\tremaining: 3m 54s\n"
     ]
    },
    {
     "name": "stdout",
     "output_type": "stream",
     "text": [
      "2750:\tlearn: 0.8332895\ttest: 0.7962440\tbest: 0.7965117 (2678)\ttotal: 9m 8s\tremaining: 3m 49s\n"
     ]
    },
    {
     "name": "stdout",
     "output_type": "stream",
     "text": [
      "2775:\tlearn: 0.8336309\ttest: 0.7960780\tbest: 0.7965117 (2678)\ttotal: 9m 13s\tremaining: 3m 44s\n"
     ]
    },
    {
     "name": "stdout",
     "output_type": "stream",
     "text": [
      "2800:\tlearn: 0.8340711\ttest: 0.7961488\tbest: 0.7965117 (2678)\ttotal: 9m 18s\tremaining: 3m 39s\n"
     ]
    },
    {
     "name": "stdout",
     "output_type": "stream",
     "text": [
      "2825:\tlearn: 0.8345002\ttest: 0.7958915\tbest: 0.7965117 (2678)\ttotal: 9m 23s\tremaining: 3m 34s\n"
     ]
    },
    {
     "name": "stdout",
     "output_type": "stream",
     "text": [
      "2850:\tlearn: 0.8351318\ttest: 0.7959553\tbest: 0.7965117 (2678)\ttotal: 9m 28s\tremaining: 3m 29s\n"
     ]
    },
    {
     "name": "stdout",
     "output_type": "stream",
     "text": [
      "2875:\tlearn: 0.8354402\ttest: 0.7959100\tbest: 0.7965117 (2678)\ttotal: 9m 33s\tremaining: 3m 24s\n"
     ]
    },
    {
     "name": "stdout",
     "output_type": "stream",
     "text": [
      "2900:\tlearn: 0.8358584\ttest: 0.7957640\tbest: 0.7965117 (2678)\ttotal: 9m 38s\tremaining: 3m 19s\n"
     ]
    },
    {
     "name": "stdout",
     "output_type": "stream",
     "text": [
      "2925:\tlearn: 0.8363991\ttest: 0.7956480\tbest: 0.7965117 (2678)\ttotal: 9m 43s\tremaining: 3m 14s\n"
     ]
    },
    {
     "name": "stdout",
     "output_type": "stream",
     "text": [
      "2950:\tlearn: 0.8365297\ttest: 0.7956098\tbest: 0.7965117 (2678)\ttotal: 9m 48s\tremaining: 3m 9s\n"
     ]
    },
    {
     "name": "stdout",
     "output_type": "stream",
     "text": [
      "2975:\tlearn: 0.8370141\ttest: 0.7956620\tbest: 0.7965117 (2678)\ttotal: 9m 53s\tremaining: 3m 4s\n"
     ]
    },
    {
     "name": "stdout",
     "output_type": "stream",
     "text": [
      "3000:\tlearn: 0.8373175\ttest: 0.7956460\tbest: 0.7965117 (2678)\ttotal: 9m 58s\tremaining: 2m 59s\n"
     ]
    },
    {
     "name": "stdout",
     "output_type": "stream",
     "text": [
      "3025:\tlearn: 0.8376978\ttest: 0.7960032\tbest: 0.7965117 (2678)\ttotal: 10m 3s\tremaining: 2m 54s\n"
     ]
    },
    {
     "name": "stdout",
     "output_type": "stream",
     "text": [
      "3050:\tlearn: 0.8379968\ttest: 0.7960955\tbest: 0.7965117 (2678)\ttotal: 10m 8s\tremaining: 2m 49s\n"
     ]
    },
    {
     "name": "stdout",
     "output_type": "stream",
     "text": [
      "3075:\tlearn: 0.8383078\ttest: 0.7961239\tbest: 0.7965117 (2678)\ttotal: 10m 13s\tremaining: 2m 44s\n"
     ]
    },
    {
     "name": "stdout",
     "output_type": "stream",
     "text": [
      "3100:\tlearn: 0.8386588\ttest: 0.7961988\tbest: 0.7965117 (2678)\ttotal: 10m 18s\tremaining: 2m 39s\n"
     ]
    },
    {
     "name": "stdout",
     "output_type": "stream",
     "text": [
      "3125:\tlearn: 0.8391255\ttest: 0.7960793\tbest: 0.7965117 (2678)\ttotal: 10m 23s\tremaining: 2m 34s\n"
     ]
    },
    {
     "name": "stdout",
     "output_type": "stream",
     "text": [
      "3150:\tlearn: 0.8394014\ttest: 0.7956794\tbest: 0.7965117 (2678)\ttotal: 10m 28s\tremaining: 2m 29s\n"
     ]
    },
    {
     "name": "stdout",
     "output_type": "stream",
     "text": [
      "3175:\tlearn: 0.8398109\ttest: 0.7957242\tbest: 0.7965117 (2678)\ttotal: 10m 33s\tremaining: 2m 24s\n"
     ]
    },
    {
     "name": "stdout",
     "output_type": "stream",
     "text": [
      "3200:\tlearn: 0.8400834\ttest: 0.7958565\tbest: 0.7965117 (2678)\ttotal: 10m 38s\tremaining: 2m 19s\n"
     ]
    },
    {
     "name": "stdout",
     "output_type": "stream",
     "text": [
      "3225:\tlearn: 0.8404269\ttest: 0.7960886\tbest: 0.7965117 (2678)\ttotal: 10m 43s\tremaining: 2m 14s\n"
     ]
    },
    {
     "name": "stdout",
     "output_type": "stream",
     "text": [
      "3250:\tlearn: 0.8408483\ttest: 0.7959608\tbest: 0.7965117 (2678)\ttotal: 10m 47s\tremaining: 2m 9s\n"
     ]
    },
    {
     "name": "stdout",
     "output_type": "stream",
     "text": [
      "3275:\tlearn: 0.8413006\ttest: 0.7959434\tbest: 0.7965117 (2678)\ttotal: 10m 52s\tremaining: 2m 4s\n"
     ]
    },
    {
     "name": "stdout",
     "output_type": "stream",
     "text": [
      "3300:\tlearn: 0.8416668\ttest: 0.7961127\tbest: 0.7965117 (2678)\ttotal: 10m 57s\tremaining: 1m 59s\n"
     ]
    },
    {
     "name": "stdout",
     "output_type": "stream",
     "text": [
      "3325:\tlearn: 0.8420473\ttest: 0.7960975\tbest: 0.7965117 (2678)\ttotal: 11m 2s\tremaining: 1m 54s\n"
     ]
    },
    {
     "name": "stdout",
     "output_type": "stream",
     "text": [
      "3350:\tlearn: 0.8423890\ttest: 0.7962889\tbest: 0.7965117 (2678)\ttotal: 11m 7s\tremaining: 1m 49s\n"
     ]
    },
    {
     "name": "stdout",
     "output_type": "stream",
     "text": [
      "3375:\tlearn: 0.8427190\ttest: 0.7965204\tbest: 0.7967513 (3357)\ttotal: 11m 12s\tremaining: 1m 44s\n"
     ]
    },
    {
     "name": "stdout",
     "output_type": "stream",
     "text": [
      "3400:\tlearn: 0.8429900\ttest: 0.7965863\tbest: 0.7967513 (3357)\ttotal: 11m 17s\tremaining: 1m 39s\n"
     ]
    },
    {
     "name": "stdout",
     "output_type": "stream",
     "text": [
      "3425:\tlearn: 0.8432977\ttest: 0.7966613\tbest: 0.7967513 (3357)\ttotal: 11m 22s\tremaining: 1m 34s\n"
     ]
    },
    {
     "name": "stdout",
     "output_type": "stream",
     "text": [
      "3450:\tlearn: 0.8436600\ttest: 0.7964531\tbest: 0.7969549 (3433)\ttotal: 11m 27s\tremaining: 1m 29s\n"
     ]
    },
    {
     "name": "stdout",
     "output_type": "stream",
     "text": [
      "3475:\tlearn: 0.8441454\ttest: 0.7961963\tbest: 0.7969549 (3433)\ttotal: 11m 32s\tremaining: 1m 24s\n"
     ]
    },
    {
     "name": "stdout",
     "output_type": "stream",
     "text": [
      "3500:\tlearn: 0.8445208\ttest: 0.7961788\tbest: 0.7969549 (3433)\ttotal: 11m 37s\tremaining: 1m 19s\n"
     ]
    },
    {
     "name": "stdout",
     "output_type": "stream",
     "text": [
      "3525:\tlearn: 0.8448157\ttest: 0.7965204\tbest: 0.7969549 (3433)\ttotal: 11m 42s\tremaining: 1m 14s\n"
     ]
    },
    {
     "name": "stdout",
     "output_type": "stream",
     "text": [
      "3550:\tlearn: 0.8454131\ttest: 0.7969011\tbest: 0.7969651 (3547)\ttotal: 11m 47s\tremaining: 1m 9s\n"
     ]
    },
    {
     "name": "stdout",
     "output_type": "stream",
     "text": [
      "3575:\tlearn: 0.8456800\ttest: 0.7966503\tbest: 0.7971148 (3558)\ttotal: 11m 52s\tremaining: 1m 4s\n"
     ]
    },
    {
     "name": "stdout",
     "output_type": "stream",
     "text": [
      "3600:\tlearn: 0.8461114\ttest: 0.7966333\tbest: 0.7971148 (3558)\ttotal: 11m 57s\tremaining: 59.6s\n"
     ]
    },
    {
     "name": "stdout",
     "output_type": "stream",
     "text": [
      "3625:\tlearn: 0.8465201\ttest: 0.7965248\tbest: 0.7971148 (3558)\ttotal: 12m 2s\tremaining: 54.6s\n"
     ]
    },
    {
     "name": "stdout",
     "output_type": "stream",
     "text": [
      "3650:\tlearn: 0.8469243\ttest: 0.7968657\tbest: 0.7971148 (3558)\ttotal: 12m 7s\tremaining: 49.6s\n"
     ]
    },
    {
     "name": "stdout",
     "output_type": "stream",
     "text": [
      "3675:\tlearn: 0.8472352\ttest: 0.7964022\tbest: 0.7971148 (3558)\ttotal: 12m 12s\tremaining: 44.6s\n"
     ]
    },
    {
     "name": "stdout",
     "output_type": "stream",
     "text": [
      "3700:\tlearn: 0.8474978\ttest: 0.7965493\tbest: 0.7971148 (3558)\ttotal: 12m 17s\tremaining: 39.6s\n"
     ]
    },
    {
     "name": "stdout",
     "output_type": "stream",
     "text": [
      "3725:\tlearn: 0.8479933\ttest: 0.7965576\tbest: 0.7971148 (3558)\ttotal: 12m 22s\tremaining: 34.7s\n"
     ]
    },
    {
     "name": "stdout",
     "output_type": "stream",
     "text": [
      "3750:\tlearn: 0.8483232\ttest: 0.7965224\tbest: 0.7971148 (3558)\ttotal: 12m 27s\tremaining: 29.7s\n"
     ]
    },
    {
     "name": "stdout",
     "output_type": "stream",
     "text": [
      "3775:\tlearn: 0.8486102\ttest: 0.7966915\tbest: 0.7971148 (3558)\ttotal: 12m 32s\tremaining: 24.7s\n"
     ]
    },
    {
     "name": "stdout",
     "output_type": "stream",
     "text": [
      "3800:\tlearn: 0.8488032\ttest: 0.7964812\tbest: 0.7971148 (3558)\ttotal: 12m 37s\tremaining: 19.7s\n"
     ]
    },
    {
     "name": "stdout",
     "output_type": "stream",
     "text": [
      "3825:\tlearn: 0.8490603\ttest: 0.7967192\tbest: 0.7971148 (3558)\ttotal: 12m 42s\tremaining: 14.7s\n"
     ]
    },
    {
     "name": "stdout",
     "output_type": "stream",
     "text": [
      "3850:\tlearn: 0.8495214\ttest: 0.7966646\tbest: 0.7971148 (3558)\ttotal: 12m 46s\tremaining: 9.76s\n"
     ]
    },
    {
     "name": "stdout",
     "output_type": "stream",
     "text": [
      "3875:\tlearn: 0.8498335\ttest: 0.7968342\tbest: 0.7971148 (3558)\ttotal: 12m 51s\tremaining: 4.78s\n"
     ]
    },
    {
     "name": "stdout",
     "output_type": "stream",
     "text": [
      "3899:\tlearn: 0.8501976\ttest: 0.7966008\tbest: 0.7971148 (3558)\ttotal: 12m 56s\tremaining: 0us\n",
      "\n",
      "bestTest = 0.7971147947\n",
      "bestIteration = 3558\n",
      "\n"
     ]
    },
    {
     "name": "stdout",
     "output_type": "stream",
     "text": [
      "######################################## training model 2/5 ########################################\n"
     ]
    },
    {
     "name": "stdout",
     "output_type": "stream",
     "text": [
      "0:\tlearn: 0.6149727\ttest: 0.6187063\tbest: 0.6187063 (0)\ttotal: 511ms\tremaining: 33m 11s\n"
     ]
    },
    {
     "name": "stdout",
     "output_type": "stream",
     "text": [
      "25:\tlearn: 0.7304532\ttest: 0.7323818\tbest: 0.7323818 (25)\ttotal: 5.23s\tremaining: 12m 59s\n"
     ]
    },
    {
     "name": "stdout",
     "output_type": "stream",
     "text": [
      "50:\tlearn: 0.7495859\ttest: 0.7499710\tbest: 0.7499710 (50)\ttotal: 10.1s\tremaining: 12m 44s\n"
     ]
    },
    {
     "name": "stdout",
     "output_type": "stream",
     "text": [
      "75:\tlearn: 0.7572463\ttest: 0.7558534\tbest: 0.7559786 (74)\ttotal: 15.1s\tremaining: 12m 41s\n"
     ]
    },
    {
     "name": "stdout",
     "output_type": "stream",
     "text": [
      "100:\tlearn: 0.7620597\ttest: 0.7598992\tbest: 0.7598992 (100)\ttotal: 20.1s\tremaining: 12m 36s\n"
     ]
    },
    {
     "name": "stdout",
     "output_type": "stream",
     "text": [
      "125:\tlearn: 0.7653705\ttest: 0.7636158\tbest: 0.7636158 (125)\ttotal: 25.1s\tremaining: 12m 31s\n"
     ]
    },
    {
     "name": "stdout",
     "output_type": "stream",
     "text": [
      "150:\tlearn: 0.7676137\ttest: 0.7663869\tbest: 0.7663869 (150)\ttotal: 30s\tremaining: 12m 26s\n"
     ]
    },
    {
     "name": "stdout",
     "output_type": "stream",
     "text": [
      "175:\tlearn: 0.7694682\ttest: 0.7683978\tbest: 0.7687590 (172)\ttotal: 35s\tremaining: 12m 20s\n"
     ]
    },
    {
     "name": "stdout",
     "output_type": "stream",
     "text": [
      "200:\tlearn: 0.7711483\ttest: 0.7689268\tbest: 0.7691401 (199)\ttotal: 40s\tremaining: 12m 15s\n"
     ]
    },
    {
     "name": "stdout",
     "output_type": "stream",
     "text": [
      "225:\tlearn: 0.7727536\ttest: 0.7700183\tbest: 0.7700974 (213)\ttotal: 44.9s\tremaining: 12m 9s\n"
     ]
    },
    {
     "name": "stdout",
     "output_type": "stream",
     "text": [
      "250:\tlearn: 0.7745136\ttest: 0.7719023\tbest: 0.7719023 (250)\ttotal: 49.9s\tremaining: 12m 4s\n"
     ]
    },
    {
     "name": "stdout",
     "output_type": "stream",
     "text": [
      "275:\tlearn: 0.7763615\ttest: 0.7738643\tbest: 0.7738643 (275)\ttotal: 54.8s\tremaining: 11m 59s\n"
     ]
    },
    {
     "name": "stdout",
     "output_type": "stream",
     "text": [
      "300:\tlearn: 0.7790419\ttest: 0.7766455\tbest: 0.7769000 (297)\ttotal: 59.8s\tremaining: 11m 54s\n"
     ]
    },
    {
     "name": "stdout",
     "output_type": "stream",
     "text": [
      "325:\tlearn: 0.7817641\ttest: 0.7791018\tbest: 0.7792964 (322)\ttotal: 1m 4s\tremaining: 11m 49s\n"
     ]
    },
    {
     "name": "stdout",
     "output_type": "stream",
     "text": [
      "350:\tlearn: 0.7837312\ttest: 0.7811598\tbest: 0.7813101 (347)\ttotal: 1m 9s\tremaining: 11m 44s\n"
     ]
    },
    {
     "name": "stdout",
     "output_type": "stream",
     "text": [
      "375:\tlearn: 0.7849966\ttest: 0.7826925\tbest: 0.7826925 (375)\ttotal: 1m 14s\tremaining: 11m 40s\n"
     ]
    },
    {
     "name": "stdout",
     "output_type": "stream",
     "text": [
      "400:\tlearn: 0.7861769\ttest: 0.7831269\tbest: 0.7831269 (400)\ttotal: 1m 19s\tremaining: 11m 34s\n"
     ]
    },
    {
     "name": "stdout",
     "output_type": "stream",
     "text": [
      "425:\tlearn: 0.7873529\ttest: 0.7846622\tbest: 0.7846622 (425)\ttotal: 1m 24s\tremaining: 11m 29s\n"
     ]
    },
    {
     "name": "stdout",
     "output_type": "stream",
     "text": [
      "450:\tlearn: 0.7882670\ttest: 0.7841477\tbest: 0.7846622 (425)\ttotal: 1m 29s\tremaining: 11m 24s\n"
     ]
    },
    {
     "name": "stdout",
     "output_type": "stream",
     "text": [
      "475:\tlearn: 0.7891933\ttest: 0.7849297\tbest: 0.7849489 (474)\ttotal: 1m 34s\tremaining: 11m 19s\n"
     ]
    },
    {
     "name": "stdout",
     "output_type": "stream",
     "text": [
      "500:\tlearn: 0.7901956\ttest: 0.7854911\tbest: 0.7856473 (498)\ttotal: 1m 39s\tremaining: 11m 14s\n"
     ]
    },
    {
     "name": "stdout",
     "output_type": "stream",
     "text": [
      "525:\tlearn: 0.7911660\ttest: 0.7858755\tbest: 0.7864163 (515)\ttotal: 1m 44s\tremaining: 11m 9s\n"
     ]
    },
    {
     "name": "stdout",
     "output_type": "stream",
     "text": [
      "550:\tlearn: 0.7921243\ttest: 0.7862184\tbest: 0.7865089 (544)\ttotal: 1m 49s\tremaining: 11m 4s\n"
     ]
    },
    {
     "name": "stdout",
     "output_type": "stream",
     "text": [
      "575:\tlearn: 0.7929698\ttest: 0.7871000\tbest: 0.7871110 (572)\ttotal: 1m 54s\tremaining: 10m 58s\n"
     ]
    },
    {
     "name": "stdout",
     "output_type": "stream",
     "text": [
      "600:\tlearn: 0.7936011\ttest: 0.7872964\tbest: 0.7872964 (600)\ttotal: 1m 59s\tremaining: 10m 53s\n"
     ]
    },
    {
     "name": "stdout",
     "output_type": "stream",
     "text": [
      "625:\tlearn: 0.7944096\ttest: 0.7876891\tbest: 0.7878346 (624)\ttotal: 2m 4s\tremaining: 10m 48s\n"
     ]
    },
    {
     "name": "stdout",
     "output_type": "stream",
     "text": [
      "650:\tlearn: 0.7950608\ttest: 0.7872307\tbest: 0.7879808 (629)\ttotal: 2m 9s\tremaining: 10m 44s\n"
     ]
    },
    {
     "name": "stdout",
     "output_type": "stream",
     "text": [
      "675:\tlearn: 0.7957169\ttest: 0.7877737\tbest: 0.7879808 (629)\ttotal: 2m 14s\tremaining: 10m 39s\n"
     ]
    },
    {
     "name": "stdout",
     "output_type": "stream",
     "text": [
      "700:\tlearn: 0.7964328\ttest: 0.7879773\tbest: 0.7882477 (687)\ttotal: 2m 18s\tremaining: 10m 33s\n"
     ]
    },
    {
     "name": "stdout",
     "output_type": "stream",
     "text": [
      "725:\tlearn: 0.7970172\ttest: 0.7882616\tbest: 0.7883893 (716)\ttotal: 2m 23s\tremaining: 10m 28s\n"
     ]
    },
    {
     "name": "stdout",
     "output_type": "stream",
     "text": [
      "750:\tlearn: 0.7978110\ttest: 0.7889491\tbest: 0.7889491 (750)\ttotal: 2m 28s\tremaining: 10m 23s\n"
     ]
    },
    {
     "name": "stdout",
     "output_type": "stream",
     "text": [
      "775:\tlearn: 0.7985341\ttest: 0.7892555\tbest: 0.7892555 (775)\ttotal: 2m 33s\tremaining: 10m 18s\n"
     ]
    },
    {
     "name": "stdout",
     "output_type": "stream",
     "text": [
      "800:\tlearn: 0.7991809\ttest: 0.7897387\tbest: 0.7897387 (800)\ttotal: 2m 38s\tremaining: 10m 13s\n"
     ]
    },
    {
     "name": "stdout",
     "output_type": "stream",
     "text": [
      "825:\tlearn: 0.7998198\ttest: 0.7899569\tbest: 0.7900540 (820)\ttotal: 2m 43s\tremaining: 10m 8s\n"
     ]
    },
    {
     "name": "stdout",
     "output_type": "stream",
     "text": [
      "850:\tlearn: 0.8004055\ttest: 0.7900561\tbest: 0.7900561 (850)\ttotal: 2m 48s\tremaining: 10m 3s\n"
     ]
    },
    {
     "name": "stdout",
     "output_type": "stream",
     "text": [
      "875:\tlearn: 0.8012158\ttest: 0.7902979\tbest: 0.7904420 (873)\ttotal: 2m 53s\tremaining: 9m 58s\n"
     ]
    },
    {
     "name": "stdout",
     "output_type": "stream",
     "text": [
      "900:\tlearn: 0.8017612\ttest: 0.7907015\tbest: 0.7907015 (900)\ttotal: 2m 58s\tremaining: 9m 54s\n"
     ]
    },
    {
     "name": "stdout",
     "output_type": "stream",
     "text": [
      "925:\tlearn: 0.8019912\ttest: 0.7909481\tbest: 0.7910919 (907)\ttotal: 3m 3s\tremaining: 9m 49s\n"
     ]
    },
    {
     "name": "stdout",
     "output_type": "stream",
     "text": [
      "950:\tlearn: 0.8026505\ttest: 0.7915622\tbest: 0.7915622 (950)\ttotal: 3m 8s\tremaining: 9m 44s\n"
     ]
    },
    {
     "name": "stdout",
     "output_type": "stream",
     "text": [
      "975:\tlearn: 0.8032484\ttest: 0.7914740\tbest: 0.7915622 (950)\ttotal: 3m 13s\tremaining: 9m 39s\n"
     ]
    },
    {
     "name": "stdout",
     "output_type": "stream",
     "text": [
      "1000:\tlearn: 0.8038097\ttest: 0.7920929\tbest: 0.7921300 (998)\ttotal: 3m 18s\tremaining: 9m 34s\n"
     ]
    },
    {
     "name": "stdout",
     "output_type": "stream",
     "text": [
      "1025:\tlearn: 0.8043046\ttest: 0.7921064\tbest: 0.7922846 (1002)\ttotal: 3m 23s\tremaining: 9m 29s\n"
     ]
    },
    {
     "name": "stdout",
     "output_type": "stream",
     "text": [
      "1050:\tlearn: 0.8048941\ttest: 0.7920469\tbest: 0.7922846 (1002)\ttotal: 3m 28s\tremaining: 9m 24s\n"
     ]
    },
    {
     "name": "stdout",
     "output_type": "stream",
     "text": [
      "1075:\tlearn: 0.8053753\ttest: 0.7916376\tbest: 0.7922846 (1002)\ttotal: 3m 33s\tremaining: 9m 19s\n"
     ]
    },
    {
     "name": "stdout",
     "output_type": "stream",
     "text": [
      "1100:\tlearn: 0.8058601\ttest: 0.7918474\tbest: 0.7922846 (1002)\ttotal: 3m 38s\tremaining: 9m 14s\n"
     ]
    },
    {
     "name": "stdout",
     "output_type": "stream",
     "text": [
      "1125:\tlearn: 0.8063550\ttest: 0.7916594\tbest: 0.7922846 (1002)\ttotal: 3m 43s\tremaining: 9m 9s\n"
     ]
    },
    {
     "name": "stdout",
     "output_type": "stream",
     "text": [
      "1150:\tlearn: 0.8069727\ttest: 0.7920645\tbest: 0.7922846 (1002)\ttotal: 3m 48s\tremaining: 9m 5s\n"
     ]
    },
    {
     "name": "stdout",
     "output_type": "stream",
     "text": [
      "1175:\tlearn: 0.8075704\ttest: 0.7924010\tbest: 0.7924010 (1175)\ttotal: 3m 53s\tremaining: 9m\n"
     ]
    },
    {
     "name": "stdout",
     "output_type": "stream",
     "text": [
      "1200:\tlearn: 0.8079512\ttest: 0.7925322\tbest: 0.7927629 (1179)\ttotal: 3m 58s\tremaining: 8m 55s\n"
     ]
    },
    {
     "name": "stdout",
     "output_type": "stream",
     "text": [
      "1225:\tlearn: 0.8085292\ttest: 0.7926342\tbest: 0.7927629 (1179)\ttotal: 4m 3s\tremaining: 8m 50s\n"
     ]
    },
    {
     "name": "stdout",
     "output_type": "stream",
     "text": [
      "1250:\tlearn: 0.8087959\ttest: 0.7925711\tbest: 0.7929153 (1235)\ttotal: 4m 8s\tremaining: 8m 45s\n"
     ]
    },
    {
     "name": "stdout",
     "output_type": "stream",
     "text": [
      "1275:\tlearn: 0.8094944\ttest: 0.7925706\tbest: 0.7929153 (1235)\ttotal: 4m 12s\tremaining: 8m 40s\n"
     ]
    },
    {
     "name": "stdout",
     "output_type": "stream",
     "text": [
      "1300:\tlearn: 0.8097963\ttest: 0.7928617\tbest: 0.7930225 (1288)\ttotal: 4m 17s\tremaining: 8m 35s\n"
     ]
    },
    {
     "name": "stdout",
     "output_type": "stream",
     "text": [
      "1325:\tlearn: 0.8103126\ttest: 0.7928972\tbest: 0.7930225 (1288)\ttotal: 4m 22s\tremaining: 8m 30s\n"
     ]
    },
    {
     "name": "stdout",
     "output_type": "stream",
     "text": [
      "1350:\tlearn: 0.8108729\ttest: 0.7929613\tbest: 0.7930488 (1329)\ttotal: 4m 27s\tremaining: 8m 25s\n"
     ]
    },
    {
     "name": "stdout",
     "output_type": "stream",
     "text": [
      "1375:\tlearn: 0.8113682\ttest: 0.7926212\tbest: 0.7930488 (1329)\ttotal: 4m 32s\tremaining: 8m 20s\n"
     ]
    },
    {
     "name": "stdout",
     "output_type": "stream",
     "text": [
      "1400:\tlearn: 0.8118316\ttest: 0.7929334\tbest: 0.7930488 (1329)\ttotal: 4m 37s\tremaining: 8m 15s\n"
     ]
    },
    {
     "name": "stdout",
     "output_type": "stream",
     "text": [
      "1425:\tlearn: 0.8122062\ttest: 0.7926759\tbest: 0.7930488 (1329)\ttotal: 4m 42s\tremaining: 8m 10s\n"
     ]
    },
    {
     "name": "stdout",
     "output_type": "stream",
     "text": [
      "1450:\tlearn: 0.8128456\ttest: 0.7930395\tbest: 0.7930595 (1448)\ttotal: 4m 47s\tremaining: 8m 5s\n"
     ]
    },
    {
     "name": "stdout",
     "output_type": "stream",
     "text": [
      "1475:\tlearn: 0.8132838\ttest: 0.7931158\tbest: 0.7933255 (1469)\ttotal: 4m 52s\tremaining: 8m\n"
     ]
    },
    {
     "name": "stdout",
     "output_type": "stream",
     "text": [
      "1500:\tlearn: 0.8137416\ttest: 0.7930656\tbest: 0.7933759 (1490)\ttotal: 4m 57s\tremaining: 7m 55s\n"
     ]
    },
    {
     "name": "stdout",
     "output_type": "stream",
     "text": [
      "1525:\tlearn: 0.8141675\ttest: 0.7931690\tbest: 0.7933759 (1490)\ttotal: 5m 2s\tremaining: 7m 50s\n"
     ]
    },
    {
     "name": "stdout",
     "output_type": "stream",
     "text": [
      "1550:\tlearn: 0.8145956\ttest: 0.7929706\tbest: 0.7933759 (1490)\ttotal: 5m 7s\tremaining: 7m 45s\n"
     ]
    },
    {
     "name": "stdout",
     "output_type": "stream",
     "text": [
      "1575:\tlearn: 0.8152241\ttest: 0.7931111\tbest: 0.7933759 (1490)\ttotal: 5m 12s\tremaining: 7m 40s\n"
     ]
    },
    {
     "name": "stdout",
     "output_type": "stream",
     "text": [
      "1600:\tlearn: 0.8155924\ttest: 0.7928255\tbest: 0.7933759 (1490)\ttotal: 5m 17s\tremaining: 7m 35s\n"
     ]
    },
    {
     "name": "stdout",
     "output_type": "stream",
     "text": [
      "1625:\tlearn: 0.8158804\ttest: 0.7931955\tbest: 0.7933759 (1490)\ttotal: 5m 22s\tremaining: 7m 30s\n"
     ]
    },
    {
     "name": "stdout",
     "output_type": "stream",
     "text": [
      "1650:\tlearn: 0.8162822\ttest: 0.7931444\tbest: 0.7933759 (1490)\ttotal: 5m 27s\tremaining: 7m 25s\n"
     ]
    },
    {
     "name": "stdout",
     "output_type": "stream",
     "text": [
      "1675:\tlearn: 0.8168018\ttest: 0.7933681\tbest: 0.7935149 (1669)\ttotal: 5m 32s\tremaining: 7m 20s\n"
     ]
    },
    {
     "name": "stdout",
     "output_type": "stream",
     "text": [
      "1700:\tlearn: 0.8171850\ttest: 0.7935891\tbest: 0.7938195 (1698)\ttotal: 5m 37s\tremaining: 7m 16s\n"
     ]
    },
    {
     "name": "stdout",
     "output_type": "stream",
     "text": [
      "1725:\tlearn: 0.8175464\ttest: 0.7937971\tbest: 0.7938195 (1698)\ttotal: 5m 42s\tremaining: 7m 11s\n"
     ]
    },
    {
     "name": "stdout",
     "output_type": "stream",
     "text": [
      "1750:\tlearn: 0.8181606\ttest: 0.7936769\tbest: 0.7938195 (1698)\ttotal: 5m 47s\tremaining: 7m 6s\n"
     ]
    },
    {
     "name": "stdout",
     "output_type": "stream",
     "text": [
      "1775:\tlearn: 0.8185379\ttest: 0.7939828\tbest: 0.7940450 (1771)\ttotal: 5m 52s\tremaining: 7m 1s\n"
     ]
    },
    {
     "name": "stdout",
     "output_type": "stream",
     "text": [
      "1800:\tlearn: 0.8187963\ttest: 0.7932088\tbest: 0.7940450 (1771)\ttotal: 5m 57s\tremaining: 6m 56s\n"
     ]
    },
    {
     "name": "stdout",
     "output_type": "stream",
     "text": [
      "1825:\tlearn: 0.8191732\ttest: 0.7933447\tbest: 0.7940450 (1771)\ttotal: 6m 2s\tremaining: 6m 51s\n"
     ]
    },
    {
     "name": "stdout",
     "output_type": "stream",
     "text": [
      "1850:\tlearn: 0.8194869\ttest: 0.7927500\tbest: 0.7940450 (1771)\ttotal: 6m 7s\tremaining: 6m 46s\n"
     ]
    },
    {
     "name": "stdout",
     "output_type": "stream",
     "text": [
      "1875:\tlearn: 0.8199427\ttest: 0.7928901\tbest: 0.7940450 (1771)\ttotal: 6m 12s\tremaining: 6m 41s\n"
     ]
    },
    {
     "name": "stdout",
     "output_type": "stream",
     "text": [
      "1900:\tlearn: 0.8204399\ttest: 0.7928951\tbest: 0.7940450 (1771)\ttotal: 6m 16s\tremaining: 6m 36s\n"
     ]
    },
    {
     "name": "stdout",
     "output_type": "stream",
     "text": [
      "1925:\tlearn: 0.8211285\ttest: 0.7932621\tbest: 0.7940450 (1771)\ttotal: 6m 21s\tremaining: 6m 31s\n"
     ]
    },
    {
     "name": "stdout",
     "output_type": "stream",
     "text": [
      "1950:\tlearn: 0.8213798\ttest: 0.7932714\tbest: 0.7940450 (1771)\ttotal: 6m 26s\tremaining: 6m 26s\n"
     ]
    },
    {
     "name": "stdout",
     "output_type": "stream",
     "text": [
      "1975:\tlearn: 0.8219047\ttest: 0.7932817\tbest: 0.7940450 (1771)\ttotal: 6m 31s\tremaining: 6m 21s\n"
     ]
    },
    {
     "name": "stdout",
     "output_type": "stream",
     "text": [
      "2000:\tlearn: 0.8224898\ttest: 0.7931279\tbest: 0.7940450 (1771)\ttotal: 6m 36s\tremaining: 6m 16s\n"
     ]
    },
    {
     "name": "stdout",
     "output_type": "stream",
     "text": [
      "2025:\tlearn: 0.8229592\ttest: 0.7931779\tbest: 0.7940450 (1771)\ttotal: 6m 41s\tremaining: 6m 11s\n"
     ]
    },
    {
     "name": "stdout",
     "output_type": "stream",
     "text": [
      "2050:\tlearn: 0.8235147\ttest: 0.7933111\tbest: 0.7940450 (1771)\ttotal: 6m 46s\tremaining: 6m 6s\n"
     ]
    },
    {
     "name": "stdout",
     "output_type": "stream",
     "text": [
      "2075:\tlearn: 0.8240613\ttest: 0.7934977\tbest: 0.7940450 (1771)\ttotal: 6m 51s\tremaining: 6m 1s\n"
     ]
    },
    {
     "name": "stdout",
     "output_type": "stream",
     "text": [
      "2100:\tlearn: 0.8244905\ttest: 0.7938464\tbest: 0.7940450 (1771)\ttotal: 6m 56s\tremaining: 5m 56s\n"
     ]
    },
    {
     "name": "stdout",
     "output_type": "stream",
     "text": [
      "2125:\tlearn: 0.8248504\ttest: 0.7935444\tbest: 0.7940450 (1771)\ttotal: 7m 1s\tremaining: 5m 51s\n"
     ]
    },
    {
     "name": "stdout",
     "output_type": "stream",
     "text": [
      "2150:\tlearn: 0.8253479\ttest: 0.7937788\tbest: 0.7940450 (1771)\ttotal: 7m 6s\tremaining: 5m 46s\n"
     ]
    },
    {
     "name": "stdout",
     "output_type": "stream",
     "text": [
      "2175:\tlearn: 0.8256644\ttest: 0.7937887\tbest: 0.7940450 (1771)\ttotal: 7m 11s\tremaining: 5m 41s\n"
     ]
    },
    {
     "name": "stdout",
     "output_type": "stream",
     "text": [
      "2200:\tlearn: 0.8259708\ttest: 0.7938395\tbest: 0.7941084 (2197)\ttotal: 7m 16s\tremaining: 5m 36s\n"
     ]
    },
    {
     "name": "stdout",
     "output_type": "stream",
     "text": [
      "2225:\tlearn: 0.8264955\ttest: 0.7942255\tbest: 0.7942887 (2220)\ttotal: 7m 21s\tremaining: 5m 31s\n"
     ]
    },
    {
     "name": "stdout",
     "output_type": "stream",
     "text": [
      "2250:\tlearn: 0.8268678\ttest: 0.7941649\tbest: 0.7943129 (2235)\ttotal: 7m 26s\tremaining: 5m 27s\n"
     ]
    },
    {
     "name": "stdout",
     "output_type": "stream",
     "text": [
      "2275:\tlearn: 0.8273656\ttest: 0.7939659\tbest: 0.7943129 (2235)\ttotal: 7m 31s\tremaining: 5m 22s\n"
     ]
    },
    {
     "name": "stdout",
     "output_type": "stream",
     "text": [
      "2300:\tlearn: 0.8278969\ttest: 0.7939249\tbest: 0.7943129 (2235)\ttotal: 7m 36s\tremaining: 5m 16s\n"
     ]
    },
    {
     "name": "stdout",
     "output_type": "stream",
     "text": [
      "2325:\tlearn: 0.8281019\ttest: 0.7940182\tbest: 0.7943129 (2235)\ttotal: 7m 41s\tremaining: 5m 12s\n"
     ]
    },
    {
     "name": "stdout",
     "output_type": "stream",
     "text": [
      "2350:\tlearn: 0.8286318\ttest: 0.7937488\tbest: 0.7943129 (2235)\ttotal: 7m 46s\tremaining: 5m 7s\n"
     ]
    },
    {
     "name": "stdout",
     "output_type": "stream",
     "text": [
      "2375:\tlearn: 0.8290361\ttest: 0.7938810\tbest: 0.7943129 (2235)\ttotal: 7m 51s\tremaining: 5m 2s\n"
     ]
    },
    {
     "name": "stdout",
     "output_type": "stream",
     "text": [
      "2400:\tlearn: 0.8295430\ttest: 0.7939953\tbest: 0.7943129 (2235)\ttotal: 7m 55s\tremaining: 4m 57s\n"
     ]
    },
    {
     "name": "stdout",
     "output_type": "stream",
     "text": [
      "2425:\tlearn: 0.8296810\ttest: 0.7937239\tbest: 0.7943129 (2235)\ttotal: 8m\tremaining: 4m 52s\n"
     ]
    },
    {
     "name": "stdout",
     "output_type": "stream",
     "text": [
      "2450:\tlearn: 0.8300970\ttest: 0.7940194\tbest: 0.7943129 (2235)\ttotal: 8m 5s\tremaining: 4m 47s\n"
     ]
    },
    {
     "name": "stdout",
     "output_type": "stream",
     "text": [
      "2475:\tlearn: 0.8304038\ttest: 0.7940064\tbest: 0.7943129 (2235)\ttotal: 8m 10s\tremaining: 4m 42s\n"
     ]
    },
    {
     "name": "stdout",
     "output_type": "stream",
     "text": [
      "2500:\tlearn: 0.8308888\ttest: 0.7937790\tbest: 0.7943129 (2235)\ttotal: 8m 15s\tremaining: 4m 37s\n"
     ]
    },
    {
     "name": "stdout",
     "output_type": "stream",
     "text": [
      "2525:\tlearn: 0.8311229\ttest: 0.7934085\tbest: 0.7943129 (2235)\ttotal: 8m 20s\tremaining: 4m 32s\n"
     ]
    },
    {
     "name": "stdout",
     "output_type": "stream",
     "text": [
      "2550:\tlearn: 0.8315613\ttest: 0.7938750\tbest: 0.7943129 (2235)\ttotal: 8m 25s\tremaining: 4m 27s\n"
     ]
    },
    {
     "name": "stdout",
     "output_type": "stream",
     "text": [
      "2575:\tlearn: 0.8319373\ttest: 0.7937942\tbest: 0.7943129 (2235)\ttotal: 8m 30s\tremaining: 4m 22s\n"
     ]
    },
    {
     "name": "stdout",
     "output_type": "stream",
     "text": [
      "2600:\tlearn: 0.8325476\ttest: 0.7938440\tbest: 0.7943129 (2235)\ttotal: 8m 35s\tremaining: 4m 17s\n"
     ]
    },
    {
     "name": "stdout",
     "output_type": "stream",
     "text": [
      "2625:\tlearn: 0.8329590\ttest: 0.7941193\tbest: 0.7943129 (2235)\ttotal: 8m 40s\tremaining: 4m 12s\n"
     ]
    },
    {
     "name": "stdout",
     "output_type": "stream",
     "text": [
      "2650:\tlearn: 0.8332903\ttest: 0.7940975\tbest: 0.7943129 (2235)\ttotal: 8m 45s\tremaining: 4m 7s\n"
     ]
    },
    {
     "name": "stdout",
     "output_type": "stream",
     "text": [
      "2675:\tlearn: 0.8336546\ttest: 0.7939922\tbest: 0.7943129 (2235)\ttotal: 8m 50s\tremaining: 4m 2s\n"
     ]
    },
    {
     "name": "stdout",
     "output_type": "stream",
     "text": [
      "2700:\tlearn: 0.8340589\ttest: 0.7943372\tbest: 0.7943372 (2700)\ttotal: 8m 55s\tremaining: 3m 57s\n"
     ]
    },
    {
     "name": "stdout",
     "output_type": "stream",
     "text": [
      "2725:\tlearn: 0.8343569\ttest: 0.7943010\tbest: 0.7944213 (2701)\ttotal: 9m\tremaining: 3m 52s\n"
     ]
    },
    {
     "name": "stdout",
     "output_type": "stream",
     "text": [
      "2750:\tlearn: 0.8346897\ttest: 0.7941584\tbest: 0.7944213 (2701)\ttotal: 9m 5s\tremaining: 3m 47s\n"
     ]
    },
    {
     "name": "stdout",
     "output_type": "stream",
     "text": [
      "2775:\tlearn: 0.8348950\ttest: 0.7942722\tbest: 0.7944213 (2701)\ttotal: 9m 9s\tremaining: 3m 42s\n"
     ]
    },
    {
     "name": "stdout",
     "output_type": "stream",
     "text": [
      "2800:\tlearn: 0.8353929\ttest: 0.7943381\tbest: 0.7945914 (2795)\ttotal: 9m 14s\tremaining: 3m 37s\n"
     ]
    },
    {
     "name": "stdout",
     "output_type": "stream",
     "text": [
      "2825:\tlearn: 0.8357337\ttest: 0.7946147\tbest: 0.7946784 (2824)\ttotal: 9m 19s\tremaining: 3m 32s\n"
     ]
    },
    {
     "name": "stdout",
     "output_type": "stream",
     "text": [
      "2850:\tlearn: 0.8361967\ttest: 0.7945855\tbest: 0.7948119 (2837)\ttotal: 9m 24s\tremaining: 3m 27s\n"
     ]
    },
    {
     "name": "stdout",
     "output_type": "stream",
     "text": [
      "2875:\tlearn: 0.8367101\ttest: 0.7949513\tbest: 0.7951153 (2861)\ttotal: 9m 29s\tremaining: 3m 22s\n"
     ]
    },
    {
     "name": "stdout",
     "output_type": "stream",
     "text": [
      "2900:\tlearn: 0.8370001\ttest: 0.7948310\tbest: 0.7951892 (2897)\ttotal: 9m 34s\tremaining: 3m 17s\n"
     ]
    },
    {
     "name": "stdout",
     "output_type": "stream",
     "text": [
      "2925:\tlearn: 0.8375053\ttest: 0.7945169\tbest: 0.7951892 (2897)\ttotal: 9m 39s\tremaining: 3m 12s\n"
     ]
    },
    {
     "name": "stdout",
     "output_type": "stream",
     "text": [
      "2950:\tlearn: 0.8378772\ttest: 0.7948616\tbest: 0.7951892 (2897)\ttotal: 9m 44s\tremaining: 3m 7s\n"
     ]
    },
    {
     "name": "stdout",
     "output_type": "stream",
     "text": [
      "2975:\tlearn: 0.8380269\ttest: 0.7952052\tbest: 0.7952263 (2970)\ttotal: 9m 49s\tremaining: 3m 3s\n"
     ]
    },
    {
     "name": "stdout",
     "output_type": "stream",
     "text": [
      "3000:\tlearn: 0.8383685\ttest: 0.7953613\tbest: 0.7954420 (2985)\ttotal: 9m 54s\tremaining: 2m 58s\n"
     ]
    },
    {
     "name": "stdout",
     "output_type": "stream",
     "text": [
      "3025:\tlearn: 0.8388326\ttest: 0.7951975\tbest: 0.7954420 (2985)\ttotal: 9m 59s\tremaining: 2m 53s\n"
     ]
    },
    {
     "name": "stdout",
     "output_type": "stream",
     "text": [
      "3050:\tlearn: 0.8392438\ttest: 0.7952443\tbest: 0.7954420 (2985)\ttotal: 10m 4s\tremaining: 2m 48s\n"
     ]
    },
    {
     "name": "stdout",
     "output_type": "stream",
     "text": [
      "3075:\tlearn: 0.8396061\ttest: 0.7952442\tbest: 0.7954420 (2985)\ttotal: 10m 9s\tremaining: 2m 43s\n"
     ]
    },
    {
     "name": "stdout",
     "output_type": "stream",
     "text": [
      "3100:\tlearn: 0.8399571\ttest: 0.7950243\tbest: 0.7954420 (2985)\ttotal: 10m 14s\tremaining: 2m 38s\n"
     ]
    },
    {
     "name": "stdout",
     "output_type": "stream",
     "text": [
      "3125:\tlearn: 0.8404151\ttest: 0.7949855\tbest: 0.7954420 (2985)\ttotal: 10m 19s\tremaining: 2m 33s\n"
     ]
    },
    {
     "name": "stdout",
     "output_type": "stream",
     "text": [
      "3150:\tlearn: 0.8406106\ttest: 0.7951195\tbest: 0.7954420 (2985)\ttotal: 10m 24s\tremaining: 2m 28s\n"
     ]
    },
    {
     "name": "stdout",
     "output_type": "stream",
     "text": [
      "3175:\tlearn: 0.8410333\ttest: 0.7949078\tbest: 0.7954420 (2985)\ttotal: 10m 29s\tremaining: 2m 23s\n"
     ]
    },
    {
     "name": "stdout",
     "output_type": "stream",
     "text": [
      "3200:\tlearn: 0.8413560\ttest: 0.7946004\tbest: 0.7954420 (2985)\ttotal: 10m 34s\tremaining: 2m 18s\n"
     ]
    },
    {
     "name": "stdout",
     "output_type": "stream",
     "text": [
      "3225:\tlearn: 0.8417443\ttest: 0.7947726\tbest: 0.7954420 (2985)\ttotal: 10m 39s\tremaining: 2m 13s\n"
     ]
    },
    {
     "name": "stdout",
     "output_type": "stream",
     "text": [
      "3250:\tlearn: 0.8422385\ttest: 0.7947828\tbest: 0.7954420 (2985)\ttotal: 10m 43s\tremaining: 2m 8s\n"
     ]
    },
    {
     "name": "stdout",
     "output_type": "stream",
     "text": [
      "3275:\tlearn: 0.8425280\ttest: 0.7947670\tbest: 0.7954420 (2985)\ttotal: 10m 48s\tremaining: 2m 3s\n"
     ]
    },
    {
     "name": "stdout",
     "output_type": "stream",
     "text": [
      "3300:\tlearn: 0.8427767\ttest: 0.7948330\tbest: 0.7954420 (2985)\ttotal: 10m 53s\tremaining: 1m 58s\n"
     ]
    },
    {
     "name": "stdout",
     "output_type": "stream",
     "text": [
      "3325:\tlearn: 0.8430896\ttest: 0.7950272\tbest: 0.7954420 (2985)\ttotal: 10m 58s\tremaining: 1m 53s\n"
     ]
    },
    {
     "name": "stdout",
     "output_type": "stream",
     "text": [
      "3350:\tlearn: 0.8435424\ttest: 0.7946292\tbest: 0.7954420 (2985)\ttotal: 11m 3s\tremaining: 1m 48s\n"
     ]
    },
    {
     "name": "stdout",
     "output_type": "stream",
     "text": [
      "3375:\tlearn: 0.8440320\ttest: 0.7948887\tbest: 0.7954420 (2985)\ttotal: 11m 8s\tremaining: 1m 43s\n"
     ]
    },
    {
     "name": "stdout",
     "output_type": "stream",
     "text": [
      "3400:\tlearn: 0.8442477\ttest: 0.7949504\tbest: 0.7954420 (2985)\ttotal: 11m 13s\tremaining: 1m 38s\n"
     ]
    },
    {
     "name": "stdout",
     "output_type": "stream",
     "text": [
      "3425:\tlearn: 0.8445826\ttest: 0.7953829\tbest: 0.7955504 (3424)\ttotal: 11m 18s\tremaining: 1m 33s\n"
     ]
    },
    {
     "name": "stdout",
     "output_type": "stream",
     "text": [
      "3450:\tlearn: 0.8448476\ttest: 0.7953678\tbest: 0.7955927 (3426)\ttotal: 11m 23s\tremaining: 1m 28s\n"
     ]
    },
    {
     "name": "stdout",
     "output_type": "stream",
     "text": [
      "3475:\tlearn: 0.8452334\ttest: 0.7954582\tbest: 0.7955927 (3426)\ttotal: 11m 28s\tremaining: 1m 23s\n"
     ]
    },
    {
     "name": "stdout",
     "output_type": "stream",
     "text": [
      "3500:\tlearn: 0.8455041\ttest: 0.7953412\tbest: 0.7955927 (3426)\ttotal: 11m 33s\tremaining: 1m 19s\n"
     ]
    },
    {
     "name": "stdout",
     "output_type": "stream",
     "text": [
      "3525:\tlearn: 0.8459864\ttest: 0.7951350\tbest: 0.7955927 (3426)\ttotal: 11m 38s\tremaining: 1m 14s\n"
     ]
    },
    {
     "name": "stdout",
     "output_type": "stream",
     "text": [
      "3550:\tlearn: 0.8462651\ttest: 0.7950366\tbest: 0.7955927 (3426)\ttotal: 11m 43s\tremaining: 1m 9s\n"
     ]
    },
    {
     "name": "stdout",
     "output_type": "stream",
     "text": [
      "3575:\tlearn: 0.8466238\ttest: 0.7953549\tbest: 0.7955927 (3426)\ttotal: 11m 48s\tremaining: 1m 4s\n"
     ]
    },
    {
     "name": "stdout",
     "output_type": "stream",
     "text": [
      "3600:\tlearn: 0.8469644\ttest: 0.7953583\tbest: 0.7955927 (3426)\ttotal: 11m 53s\tremaining: 59.2s\n"
     ]
    },
    {
     "name": "stdout",
     "output_type": "stream",
     "text": [
      "3625:\tlearn: 0.8472996\ttest: 0.7954508\tbest: 0.7956991 (3612)\ttotal: 11m 58s\tremaining: 54.3s\n"
     ]
    },
    {
     "name": "stdout",
     "output_type": "stream",
     "text": [
      "3650:\tlearn: 0.8478685\ttest: 0.7956832\tbest: 0.7958265 (3640)\ttotal: 12m 3s\tremaining: 49.3s\n"
     ]
    },
    {
     "name": "stdout",
     "output_type": "stream",
     "text": [
      "3675:\tlearn: 0.8481659\ttest: 0.7950766\tbest: 0.7958265 (3640)\ttotal: 12m 8s\tremaining: 44.4s\n"
     ]
    },
    {
     "name": "stdout",
     "output_type": "stream",
     "text": [
      "3700:\tlearn: 0.8484656\ttest: 0.7950598\tbest: 0.7958265 (3640)\ttotal: 12m 13s\tremaining: 39.4s\n"
     ]
    },
    {
     "name": "stdout",
     "output_type": "stream",
     "text": [
      "3725:\tlearn: 0.8488448\ttest: 0.7949558\tbest: 0.7958265 (3640)\ttotal: 12m 17s\tremaining: 34.5s\n"
     ]
    },
    {
     "name": "stdout",
     "output_type": "stream",
     "text": [
      "3750:\tlearn: 0.8492684\ttest: 0.7949537\tbest: 0.7958265 (3640)\ttotal: 12m 22s\tremaining: 29.5s\n"
     ]
    },
    {
     "name": "stdout",
     "output_type": "stream",
     "text": [
      "3775:\tlearn: 0.8495630\ttest: 0.7947232\tbest: 0.7958265 (3640)\ttotal: 12m 27s\tremaining: 24.6s\n"
     ]
    },
    {
     "name": "stdout",
     "output_type": "stream",
     "text": [
      "3800:\tlearn: 0.8497281\ttest: 0.7948706\tbest: 0.7958265 (3640)\ttotal: 12m 32s\tremaining: 19.6s\n"
     ]
    },
    {
     "name": "stdout",
     "output_type": "stream",
     "text": [
      "3825:\tlearn: 0.8502772\ttest: 0.7951257\tbest: 0.7958265 (3640)\ttotal: 12m 37s\tremaining: 14.7s\n"
     ]
    },
    {
     "name": "stdout",
     "output_type": "stream",
     "text": [
      "3850:\tlearn: 0.8506827\ttest: 0.7953289\tbest: 0.7958265 (3640)\ttotal: 12m 42s\tremaining: 9.71s\n"
     ]
    },
    {
     "name": "stdout",
     "output_type": "stream",
     "text": [
      "3875:\tlearn: 0.8510692\ttest: 0.7953910\tbest: 0.7958265 (3640)\ttotal: 12m 47s\tremaining: 4.75s\n"
     ]
    },
    {
     "name": "stdout",
     "output_type": "stream",
     "text": [
      "3899:\tlearn: 0.8514110\ttest: 0.7954821\tbest: 0.7958265 (3640)\ttotal: 12m 52s\tremaining: 0us\n",
      "\n",
      "bestTest = 0.7958265484\n",
      "bestIteration = 3640\n",
      "\n"
     ]
    },
    {
     "name": "stdout",
     "output_type": "stream",
     "text": [
      "######################################## training model 3/5 ########################################\n"
     ]
    },
    {
     "name": "stdout",
     "output_type": "stream",
     "text": [
      "0:\tlearn: 0.5415475\ttest: 0.5406138\tbest: 0.5406138 (0)\ttotal: 508ms\tremaining: 33m 2s\n"
     ]
    },
    {
     "name": "stdout",
     "output_type": "stream",
     "text": [
      "25:\tlearn: 0.7324573\ttest: 0.7275607\tbest: 0.7275607 (25)\ttotal: 5.29s\tremaining: 13m 7s\n"
     ]
    },
    {
     "name": "stdout",
     "output_type": "stream",
     "text": [
      "50:\tlearn: 0.7480088\ttest: 0.7443868\tbest: 0.7444354 (49)\ttotal: 10.2s\tremaining: 12m 51s\n"
     ]
    },
    {
     "name": "stdout",
     "output_type": "stream",
     "text": [
      "75:\tlearn: 0.7563060\ttest: 0.7526320\tbest: 0.7526320 (75)\ttotal: 15.2s\tremaining: 12m 44s\n"
     ]
    },
    {
     "name": "stdout",
     "output_type": "stream",
     "text": [
      "100:\tlearn: 0.7613565\ttest: 0.7559803\tbest: 0.7559803 (100)\ttotal: 20.2s\tremaining: 12m 39s\n"
     ]
    },
    {
     "name": "stdout",
     "output_type": "stream",
     "text": [
      "125:\tlearn: 0.7654904\ttest: 0.7592802\tbest: 0.7592802 (125)\ttotal: 25.2s\tremaining: 12m 33s\n"
     ]
    },
    {
     "name": "stdout",
     "output_type": "stream",
     "text": [
      "150:\tlearn: 0.7684158\ttest: 0.7615971\tbest: 0.7617385 (144)\ttotal: 30.2s\tremaining: 12m 30s\n"
     ]
    },
    {
     "name": "stdout",
     "output_type": "stream",
     "text": [
      "175:\tlearn: 0.7704665\ttest: 0.7638097\tbest: 0.7638097 (175)\ttotal: 35.1s\tremaining: 12m 23s\n"
     ]
    },
    {
     "name": "stdout",
     "output_type": "stream",
     "text": [
      "200:\tlearn: 0.7723030\ttest: 0.7654227\tbest: 0.7654227 (200)\ttotal: 40.1s\tremaining: 12m 18s\n"
     ]
    },
    {
     "name": "stdout",
     "output_type": "stream",
     "text": [
      "225:\tlearn: 0.7739660\ttest: 0.7670351\tbest: 0.7670351 (225)\ttotal: 45.1s\tremaining: 12m 12s\n"
     ]
    },
    {
     "name": "stdout",
     "output_type": "stream",
     "text": [
      "250:\tlearn: 0.7760203\ttest: 0.7684075\tbest: 0.7685040 (249)\ttotal: 50s\tremaining: 12m 6s\n"
     ]
    },
    {
     "name": "stdout",
     "output_type": "stream",
     "text": [
      "275:\tlearn: 0.7781094\ttest: 0.7711989\tbest: 0.7713596 (273)\ttotal: 55s\tremaining: 12m 1s\n"
     ]
    },
    {
     "name": "stdout",
     "output_type": "stream",
     "text": [
      "300:\tlearn: 0.7805687\ttest: 0.7729392\tbest: 0.7732236 (298)\ttotal: 59.9s\tremaining: 11m 56s\n"
     ]
    },
    {
     "name": "stdout",
     "output_type": "stream",
     "text": [
      "325:\tlearn: 0.7825766\ttest: 0.7747669\tbest: 0.7748390 (319)\ttotal: 1m 4s\tremaining: 11m 50s\n"
     ]
    },
    {
     "name": "stdout",
     "output_type": "stream",
     "text": [
      "350:\tlearn: 0.7843549\ttest: 0.7760680\tbest: 0.7761744 (348)\ttotal: 1m 9s\tremaining: 11m 44s\n"
     ]
    },
    {
     "name": "stdout",
     "output_type": "stream",
     "text": [
      "375:\tlearn: 0.7863181\ttest: 0.7773720\tbest: 0.7773720 (375)\ttotal: 1m 14s\tremaining: 11m 40s\n"
     ]
    },
    {
     "name": "stdout",
     "output_type": "stream",
     "text": [
      "400:\tlearn: 0.7873853\ttest: 0.7780052\tbest: 0.7780052 (400)\ttotal: 1m 19s\tremaining: 11m 34s\n"
     ]
    },
    {
     "name": "stdout",
     "output_type": "stream",
     "text": [
      "425:\tlearn: 0.7884810\ttest: 0.7791649\tbest: 0.7791649 (425)\ttotal: 1m 24s\tremaining: 11m 29s\n"
     ]
    },
    {
     "name": "stdout",
     "output_type": "stream",
     "text": [
      "450:\tlearn: 0.7895600\ttest: 0.7794960\tbest: 0.7794960 (450)\ttotal: 1m 29s\tremaining: 11m 24s\n"
     ]
    },
    {
     "name": "stdout",
     "output_type": "stream",
     "text": [
      "475:\tlearn: 0.7905838\ttest: 0.7800141\tbest: 0.7801640 (472)\ttotal: 1m 34s\tremaining: 11m 19s\n"
     ]
    },
    {
     "name": "stdout",
     "output_type": "stream",
     "text": [
      "500:\tlearn: 0.7915551\ttest: 0.7805667\tbest: 0.7806014 (499)\ttotal: 1m 39s\tremaining: 11m 15s\n"
     ]
    },
    {
     "name": "stdout",
     "output_type": "stream",
     "text": [
      "525:\tlearn: 0.7924230\ttest: 0.7809768\tbest: 0.7811946 (523)\ttotal: 1m 44s\tremaining: 11m 9s\n"
     ]
    },
    {
     "name": "stdout",
     "output_type": "stream",
     "text": [
      "550:\tlearn: 0.7934023\ttest: 0.7811794\tbest: 0.7812740 (548)\ttotal: 1m 49s\tremaining: 11m 5s\n"
     ]
    },
    {
     "name": "stdout",
     "output_type": "stream",
     "text": [
      "575:\tlearn: 0.7942953\ttest: 0.7816689\tbest: 0.7816689 (575)\ttotal: 1m 54s\tremaining: 10m 59s\n"
     ]
    },
    {
     "name": "stdout",
     "output_type": "stream",
     "text": [
      "600:\tlearn: 0.7950775\ttest: 0.7820011\tbest: 0.7820702 (589)\ttotal: 1m 59s\tremaining: 10m 55s\n"
     ]
    },
    {
     "name": "stdout",
     "output_type": "stream",
     "text": [
      "625:\tlearn: 0.7959332\ttest: 0.7824235\tbest: 0.7824235 (625)\ttotal: 2m 4s\tremaining: 10m 50s\n"
     ]
    },
    {
     "name": "stdout",
     "output_type": "stream",
     "text": [
      "650:\tlearn: 0.7970463\ttest: 0.7823522\tbest: 0.7827081 (635)\ttotal: 2m 9s\tremaining: 10m 45s\n"
     ]
    },
    {
     "name": "stdout",
     "output_type": "stream",
     "text": [
      "675:\tlearn: 0.7978217\ttest: 0.7831960\tbest: 0.7831960 (675)\ttotal: 2m 14s\tremaining: 10m 40s\n"
     ]
    },
    {
     "name": "stdout",
     "output_type": "stream",
     "text": [
      "700:\tlearn: 0.7981985\ttest: 0.7832497\tbest: 0.7833118 (688)\ttotal: 2m 19s\tremaining: 10m 35s\n"
     ]
    },
    {
     "name": "stdout",
     "output_type": "stream",
     "text": [
      "725:\tlearn: 0.7990052\ttest: 0.7837700\tbest: 0.7837756 (720)\ttotal: 2m 24s\tremaining: 10m 30s\n"
     ]
    },
    {
     "name": "stdout",
     "output_type": "stream",
     "text": [
      "750:\tlearn: 0.7999471\ttest: 0.7837189\tbest: 0.7840809 (734)\ttotal: 2m 29s\tremaining: 10m 25s\n"
     ]
    },
    {
     "name": "stdout",
     "output_type": "stream",
     "text": [
      "775:\tlearn: 0.8004259\ttest: 0.7839895\tbest: 0.7841959 (773)\ttotal: 2m 34s\tremaining: 10m 20s\n"
     ]
    },
    {
     "name": "stdout",
     "output_type": "stream",
     "text": [
      "800:\tlearn: 0.8012202\ttest: 0.7841708\tbest: 0.7844026 (789)\ttotal: 2m 39s\tremaining: 10m 15s\n"
     ]
    },
    {
     "name": "stdout",
     "output_type": "stream",
     "text": [
      "825:\tlearn: 0.8016905\ttest: 0.7846953\tbest: 0.7846953 (825)\ttotal: 2m 44s\tremaining: 10m 10s\n"
     ]
    },
    {
     "name": "stdout",
     "output_type": "stream",
     "text": [
      "850:\tlearn: 0.8021174\ttest: 0.7842546\tbest: 0.7848140 (846)\ttotal: 2m 49s\tremaining: 10m 5s\n"
     ]
    },
    {
     "name": "stdout",
     "output_type": "stream",
     "text": [
      "875:\tlearn: 0.8029342\ttest: 0.7847126\tbest: 0.7848140 (846)\ttotal: 2m 53s\tremaining: 10m\n"
     ]
    },
    {
     "name": "stdout",
     "output_type": "stream",
     "text": [
      "900:\tlearn: 0.8032832\ttest: 0.7849383\tbest: 0.7851445 (896)\ttotal: 2m 58s\tremaining: 9m 55s\n"
     ]
    },
    {
     "name": "stdout",
     "output_type": "stream",
     "text": [
      "925:\tlearn: 0.8038929\ttest: 0.7852478\tbest: 0.7852669 (923)\ttotal: 3m 3s\tremaining: 9m 50s\n"
     ]
    },
    {
     "name": "stdout",
     "output_type": "stream",
     "text": [
      "950:\tlearn: 0.8042968\ttest: 0.7850223\tbest: 0.7853393 (933)\ttotal: 3m 8s\tremaining: 9m 45s\n"
     ]
    },
    {
     "name": "stdout",
     "output_type": "stream",
     "text": [
      "975:\tlearn: 0.8049613\ttest: 0.7851061\tbest: 0.7853393 (933)\ttotal: 3m 13s\tremaining: 9m 40s\n"
     ]
    },
    {
     "name": "stdout",
     "output_type": "stream",
     "text": [
      "1000:\tlearn: 0.8054708\ttest: 0.7853882\tbest: 0.7855712 (995)\ttotal: 3m 18s\tremaining: 9m 35s\n"
     ]
    },
    {
     "name": "stdout",
     "output_type": "stream",
     "text": [
      "1025:\tlearn: 0.8059826\ttest: 0.7855254\tbest: 0.7855712 (995)\ttotal: 3m 23s\tremaining: 9m 30s\n"
     ]
    },
    {
     "name": "stdout",
     "output_type": "stream",
     "text": [
      "1050:\tlearn: 0.8066695\ttest: 0.7860819\tbest: 0.7860819 (1050)\ttotal: 3m 28s\tremaining: 9m 25s\n"
     ]
    },
    {
     "name": "stdout",
     "output_type": "stream",
     "text": [
      "1075:\tlearn: 0.8070662\ttest: 0.7862119\tbest: 0.7865864 (1071)\ttotal: 3m 33s\tremaining: 9m 20s\n"
     ]
    },
    {
     "name": "stdout",
     "output_type": "stream",
     "text": [
      "1100:\tlearn: 0.8073536\ttest: 0.7861320\tbest: 0.7865864 (1071)\ttotal: 3m 38s\tremaining: 9m 15s\n"
     ]
    },
    {
     "name": "stdout",
     "output_type": "stream",
     "text": [
      "1125:\tlearn: 0.8078830\ttest: 0.7860751\tbest: 0.7865864 (1071)\ttotal: 3m 43s\tremaining: 9m 10s\n"
     ]
    },
    {
     "name": "stdout",
     "output_type": "stream",
     "text": [
      "1150:\tlearn: 0.8082741\ttest: 0.7865960\tbest: 0.7866799 (1149)\ttotal: 3m 48s\tremaining: 9m 5s\n"
     ]
    },
    {
     "name": "stdout",
     "output_type": "stream",
     "text": [
      "1175:\tlearn: 0.8089360\ttest: 0.7869115\tbest: 0.7869320 (1173)\ttotal: 3m 53s\tremaining: 9m\n"
     ]
    },
    {
     "name": "stdout",
     "output_type": "stream",
     "text": [
      "1200:\tlearn: 0.8095171\ttest: 0.7865513\tbest: 0.7869320 (1173)\ttotal: 3m 58s\tremaining: 8m 55s\n"
     ]
    },
    {
     "name": "stdout",
     "output_type": "stream",
     "text": [
      "1225:\tlearn: 0.8101627\ttest: 0.7867434\tbest: 0.7869455 (1218)\ttotal: 4m 3s\tremaining: 8m 50s\n"
     ]
    },
    {
     "name": "stdout",
     "output_type": "stream",
     "text": [
      "1250:\tlearn: 0.8106637\ttest: 0.7866098\tbest: 0.7869455 (1218)\ttotal: 4m 8s\tremaining: 8m 45s\n"
     ]
    },
    {
     "name": "stdout",
     "output_type": "stream",
     "text": [
      "1275:\tlearn: 0.8110450\ttest: 0.7868263\tbest: 0.7870133 (1272)\ttotal: 4m 13s\tremaining: 8m 41s\n"
     ]
    },
    {
     "name": "stdout",
     "output_type": "stream",
     "text": [
      "1300:\tlearn: 0.8116687\ttest: 0.7864899\tbest: 0.7870133 (1272)\ttotal: 4m 18s\tremaining: 8m 35s\n"
     ]
    },
    {
     "name": "stdout",
     "output_type": "stream",
     "text": [
      "1325:\tlearn: 0.8121856\ttest: 0.7863583\tbest: 0.7870133 (1272)\ttotal: 4m 23s\tremaining: 8m 30s\n"
     ]
    },
    {
     "name": "stdout",
     "output_type": "stream",
     "text": [
      "1350:\tlearn: 0.8127565\ttest: 0.7868791\tbest: 0.7870133 (1272)\ttotal: 4m 28s\tremaining: 8m 25s\n"
     ]
    },
    {
     "name": "stdout",
     "output_type": "stream",
     "text": [
      "1375:\tlearn: 0.8130590\ttest: 0.7866002\tbest: 0.7870133 (1272)\ttotal: 4m 33s\tremaining: 8m 21s\n"
     ]
    },
    {
     "name": "stdout",
     "output_type": "stream",
     "text": [
      "1400:\tlearn: 0.8138360\ttest: 0.7866989\tbest: 0.7870133 (1272)\ttotal: 4m 38s\tremaining: 8m 16s\n"
     ]
    },
    {
     "name": "stdout",
     "output_type": "stream",
     "text": [
      "1425:\tlearn: 0.8142358\ttest: 0.7867495\tbest: 0.7870133 (1272)\ttotal: 4m 42s\tremaining: 8m 10s\n"
     ]
    },
    {
     "name": "stdout",
     "output_type": "stream",
     "text": [
      "1450:\tlearn: 0.8144748\ttest: 0.7867259\tbest: 0.7870133 (1272)\ttotal: 4m 47s\tremaining: 8m 6s\n"
     ]
    },
    {
     "name": "stdout",
     "output_type": "stream",
     "text": [
      "1475:\tlearn: 0.8148765\ttest: 0.7867075\tbest: 0.7871160 (1463)\ttotal: 4m 52s\tremaining: 8m\n"
     ]
    },
    {
     "name": "stdout",
     "output_type": "stream",
     "text": [
      "1500:\tlearn: 0.8151744\ttest: 0.7866641\tbest: 0.7871160 (1463)\ttotal: 4m 57s\tremaining: 7m 56s\n"
     ]
    },
    {
     "name": "stdout",
     "output_type": "stream",
     "text": [
      "1525:\tlearn: 0.8156378\ttest: 0.7869754\tbest: 0.7871160 (1463)\ttotal: 5m 2s\tremaining: 7m 51s\n"
     ]
    },
    {
     "name": "stdout",
     "output_type": "stream",
     "text": [
      "1550:\tlearn: 0.8160751\ttest: 0.7870777\tbest: 0.7871160 (1463)\ttotal: 5m 7s\tremaining: 7m 46s\n"
     ]
    },
    {
     "name": "stdout",
     "output_type": "stream",
     "text": [
      "1575:\tlearn: 0.8165828\ttest: 0.7869234\tbest: 0.7872937 (1559)\ttotal: 5m 12s\tremaining: 7m 41s\n"
     ]
    },
    {
     "name": "stdout",
     "output_type": "stream",
     "text": [
      "1600:\tlearn: 0.8171063\ttest: 0.7872713\tbest: 0.7873134 (1596)\ttotal: 5m 17s\tremaining: 7m 36s\n"
     ]
    },
    {
     "name": "stdout",
     "output_type": "stream",
     "text": [
      "1625:\tlearn: 0.8176592\ttest: 0.7871541\tbest: 0.7873974 (1602)\ttotal: 5m 22s\tremaining: 7m 31s\n"
     ]
    },
    {
     "name": "stdout",
     "output_type": "stream",
     "text": [
      "1650:\tlearn: 0.8180198\ttest: 0.7869982\tbest: 0.7873974 (1602)\ttotal: 5m 27s\tremaining: 7m 26s\n"
     ]
    },
    {
     "name": "stdout",
     "output_type": "stream",
     "text": [
      "1675:\tlearn: 0.8185904\ttest: 0.7869296\tbest: 0.7873974 (1602)\ttotal: 5m 32s\tremaining: 7m 21s\n"
     ]
    },
    {
     "name": "stdout",
     "output_type": "stream",
     "text": [
      "1700:\tlearn: 0.8191383\ttest: 0.7876267\tbest: 0.7876267 (1700)\ttotal: 5m 37s\tremaining: 7m 16s\n"
     ]
    },
    {
     "name": "stdout",
     "output_type": "stream",
     "text": [
      "1725:\tlearn: 0.8194154\ttest: 0.7872202\tbest: 0.7876267 (1700)\ttotal: 5m 42s\tremaining: 7m 11s\n"
     ]
    },
    {
     "name": "stdout",
     "output_type": "stream",
     "text": [
      "1750:\tlearn: 0.8199344\ttest: 0.7874882\tbest: 0.7877154 (1745)\ttotal: 5m 47s\tremaining: 7m 6s\n"
     ]
    },
    {
     "name": "stdout",
     "output_type": "stream",
     "text": [
      "1775:\tlearn: 0.8202748\ttest: 0.7873967\tbest: 0.7877471 (1767)\ttotal: 5m 52s\tremaining: 7m 1s\n"
     ]
    },
    {
     "name": "stdout",
     "output_type": "stream",
     "text": [
      "1800:\tlearn: 0.8205803\ttest: 0.7880110\tbest: 0.7880535 (1799)\ttotal: 5m 57s\tremaining: 6m 56s\n"
     ]
    },
    {
     "name": "stdout",
     "output_type": "stream",
     "text": [
      "1825:\tlearn: 0.8209775\ttest: 0.7877227\tbest: 0.7880535 (1799)\ttotal: 6m 2s\tremaining: 6m 51s\n"
     ]
    },
    {
     "name": "stdout",
     "output_type": "stream",
     "text": [
      "1850:\tlearn: 0.8213818\ttest: 0.7880981\tbest: 0.7880981 (1850)\ttotal: 6m 7s\tremaining: 6m 46s\n"
     ]
    },
    {
     "name": "stdout",
     "output_type": "stream",
     "text": [
      "1875:\tlearn: 0.8218846\ttest: 0.7875603\tbest: 0.7882032 (1851)\ttotal: 6m 12s\tremaining: 6m 41s\n"
     ]
    },
    {
     "name": "stdout",
     "output_type": "stream",
     "text": [
      "1900:\tlearn: 0.8223125\ttest: 0.7875716\tbest: 0.7882032 (1851)\ttotal: 6m 17s\tremaining: 6m 36s\n"
     ]
    },
    {
     "name": "stdout",
     "output_type": "stream",
     "text": [
      "1925:\tlearn: 0.8228030\ttest: 0.7872649\tbest: 0.7882032 (1851)\ttotal: 6m 22s\tremaining: 6m 32s\n"
     ]
    },
    {
     "name": "stdout",
     "output_type": "stream",
     "text": [
      "1950:\tlearn: 0.8231843\ttest: 0.7875011\tbest: 0.7882032 (1851)\ttotal: 6m 27s\tremaining: 6m 27s\n"
     ]
    },
    {
     "name": "stdout",
     "output_type": "stream",
     "text": [
      "1975:\tlearn: 0.8237506\ttest: 0.7872635\tbest: 0.7882032 (1851)\ttotal: 6m 32s\tremaining: 6m 22s\n"
     ]
    },
    {
     "name": "stdout",
     "output_type": "stream",
     "text": [
      "2000:\tlearn: 0.8240557\ttest: 0.7872970\tbest: 0.7882032 (1851)\ttotal: 6m 37s\tremaining: 6m 17s\n"
     ]
    },
    {
     "name": "stdout",
     "output_type": "stream",
     "text": [
      "2025:\tlearn: 0.8245226\ttest: 0.7870563\tbest: 0.7882032 (1851)\ttotal: 6m 42s\tremaining: 6m 12s\n"
     ]
    },
    {
     "name": "stdout",
     "output_type": "stream",
     "text": [
      "2050:\tlearn: 0.8248886\ttest: 0.7868539\tbest: 0.7882032 (1851)\ttotal: 6m 47s\tremaining: 6m 7s\n"
     ]
    },
    {
     "name": "stdout",
     "output_type": "stream",
     "text": [
      "2075:\tlearn: 0.8255653\ttest: 0.7870988\tbest: 0.7882032 (1851)\ttotal: 6m 52s\tremaining: 6m 2s\n"
     ]
    },
    {
     "name": "stdout",
     "output_type": "stream",
     "text": [
      "2100:\tlearn: 0.8258183\ttest: 0.7871291\tbest: 0.7882032 (1851)\ttotal: 6m 57s\tremaining: 5m 57s\n"
     ]
    },
    {
     "name": "stdout",
     "output_type": "stream",
     "text": [
      "2125:\tlearn: 0.8263178\ttest: 0.7872884\tbest: 0.7882032 (1851)\ttotal: 7m 2s\tremaining: 5m 52s\n"
     ]
    },
    {
     "name": "stdout",
     "output_type": "stream",
     "text": [
      "2150:\tlearn: 0.8266700\ttest: 0.7870559\tbest: 0.7882032 (1851)\ttotal: 7m 7s\tremaining: 5m 47s\n"
     ]
    },
    {
     "name": "stdout",
     "output_type": "stream",
     "text": [
      "2175:\tlearn: 0.8269156\ttest: 0.7876926\tbest: 0.7882032 (1851)\ttotal: 7m 12s\tremaining: 5m 42s\n"
     ]
    },
    {
     "name": "stdout",
     "output_type": "stream",
     "text": [
      "2200:\tlearn: 0.8273123\ttest: 0.7877417\tbest: 0.7882032 (1851)\ttotal: 7m 16s\tremaining: 5m 37s\n"
     ]
    },
    {
     "name": "stdout",
     "output_type": "stream",
     "text": [
      "2225:\tlearn: 0.8279089\ttest: 0.7871343\tbest: 0.7882032 (1851)\ttotal: 7m 21s\tremaining: 5m 32s\n"
     ]
    },
    {
     "name": "stdout",
     "output_type": "stream",
     "text": [
      "2250:\tlearn: 0.8282134\ttest: 0.7871238\tbest: 0.7882032 (1851)\ttotal: 7m 26s\tremaining: 5m 27s\n"
     ]
    },
    {
     "name": "stdout",
     "output_type": "stream",
     "text": [
      "2275:\tlearn: 0.8286783\ttest: 0.7873632\tbest: 0.7882032 (1851)\ttotal: 7m 31s\tremaining: 5m 22s\n"
     ]
    },
    {
     "name": "stdout",
     "output_type": "stream",
     "text": [
      "2300:\tlearn: 0.8290587\ttest: 0.7875445\tbest: 0.7882032 (1851)\ttotal: 7m 36s\tremaining: 5m 17s\n"
     ]
    },
    {
     "name": "stdout",
     "output_type": "stream",
     "text": [
      "2325:\tlearn: 0.8295347\ttest: 0.7874252\tbest: 0.7882032 (1851)\ttotal: 7m 41s\tremaining: 5m 12s\n"
     ]
    },
    {
     "name": "stdout",
     "output_type": "stream",
     "text": [
      "2350:\tlearn: 0.8300226\ttest: 0.7872209\tbest: 0.7882032 (1851)\ttotal: 7m 46s\tremaining: 5m 7s\n"
     ]
    },
    {
     "name": "stdout",
     "output_type": "stream",
     "text": [
      "2375:\tlearn: 0.8302347\ttest: 0.7872487\tbest: 0.7882032 (1851)\ttotal: 7m 51s\tremaining: 5m 2s\n"
     ]
    },
    {
     "name": "stdout",
     "output_type": "stream",
     "text": [
      "2400:\tlearn: 0.8306602\ttest: 0.7875887\tbest: 0.7882032 (1851)\ttotal: 7m 56s\tremaining: 4m 57s\n"
     ]
    },
    {
     "name": "stdout",
     "output_type": "stream",
     "text": [
      "2425:\tlearn: 0.8309933\ttest: 0.7878449\tbest: 0.7882032 (1851)\ttotal: 8m 1s\tremaining: 4m 52s\n"
     ]
    },
    {
     "name": "stdout",
     "output_type": "stream",
     "text": [
      "2450:\tlearn: 0.8312762\ttest: 0.7874515\tbest: 0.7882032 (1851)\ttotal: 8m 6s\tremaining: 4m 47s\n"
     ]
    },
    {
     "name": "stdout",
     "output_type": "stream",
     "text": [
      "2475:\tlearn: 0.8316496\ttest: 0.7875648\tbest: 0.7882032 (1851)\ttotal: 8m 11s\tremaining: 4m 42s\n"
     ]
    },
    {
     "name": "stdout",
     "output_type": "stream",
     "text": [
      "2500:\tlearn: 0.8320154\ttest: 0.7877807\tbest: 0.7882032 (1851)\ttotal: 8m 16s\tremaining: 4m 37s\n"
     ]
    },
    {
     "name": "stdout",
     "output_type": "stream",
     "text": [
      "2525:\tlearn: 0.8323977\ttest: 0.7878481\tbest: 0.7882032 (1851)\ttotal: 8m 21s\tremaining: 4m 32s\n"
     ]
    },
    {
     "name": "stdout",
     "output_type": "stream",
     "text": [
      "2550:\tlearn: 0.8327418\ttest: 0.7874323\tbest: 0.7882032 (1851)\ttotal: 8m 26s\tremaining: 4m 27s\n"
     ]
    },
    {
     "name": "stdout",
     "output_type": "stream",
     "text": [
      "2575:\tlearn: 0.8331279\ttest: 0.7873545\tbest: 0.7882032 (1851)\ttotal: 8m 31s\tremaining: 4m 22s\n"
     ]
    },
    {
     "name": "stdout",
     "output_type": "stream",
     "text": [
      "2600:\tlearn: 0.8335458\ttest: 0.7876097\tbest: 0.7882032 (1851)\ttotal: 8m 36s\tremaining: 4m 17s\n"
     ]
    },
    {
     "name": "stdout",
     "output_type": "stream",
     "text": [
      "2625:\tlearn: 0.8337983\ttest: 0.7874800\tbest: 0.7882032 (1851)\ttotal: 8m 41s\tremaining: 4m 12s\n"
     ]
    },
    {
     "name": "stdout",
     "output_type": "stream",
     "text": [
      "2650:\tlearn: 0.8340138\ttest: 0.7874187\tbest: 0.7882032 (1851)\ttotal: 8m 46s\tremaining: 4m 7s\n"
     ]
    },
    {
     "name": "stdout",
     "output_type": "stream",
     "text": [
      "2675:\tlearn: 0.8344452\ttest: 0.7875511\tbest: 0.7882032 (1851)\ttotal: 8m 51s\tremaining: 4m 2s\n"
     ]
    },
    {
     "name": "stdout",
     "output_type": "stream",
     "text": [
      "2700:\tlearn: 0.8348297\ttest: 0.7879734\tbest: 0.7882032 (1851)\ttotal: 8m 56s\tremaining: 3m 58s\n"
     ]
    },
    {
     "name": "stdout",
     "output_type": "stream",
     "text": [
      "2725:\tlearn: 0.8353029\ttest: 0.7877676\tbest: 0.7882032 (1851)\ttotal: 9m 1s\tremaining: 3m 53s\n"
     ]
    },
    {
     "name": "stdout",
     "output_type": "stream",
     "text": [
      "2750:\tlearn: 0.8357284\ttest: 0.7876728\tbest: 0.7882032 (1851)\ttotal: 9m 6s\tremaining: 3m 48s\n"
     ]
    },
    {
     "name": "stdout",
     "output_type": "stream",
     "text": [
      "2775:\tlearn: 0.8359569\ttest: 0.7876965\tbest: 0.7882032 (1851)\ttotal: 9m 10s\tremaining: 3m 43s\n"
     ]
    },
    {
     "name": "stdout",
     "output_type": "stream",
     "text": [
      "2800:\tlearn: 0.8362270\ttest: 0.7877599\tbest: 0.7882032 (1851)\ttotal: 9m 15s\tremaining: 3m 38s\n"
     ]
    },
    {
     "name": "stdout",
     "output_type": "stream",
     "text": [
      "2825:\tlearn: 0.8365772\ttest: 0.7874021\tbest: 0.7882032 (1851)\ttotal: 9m 20s\tremaining: 3m 33s\n"
     ]
    },
    {
     "name": "stdout",
     "output_type": "stream",
     "text": [
      "2850:\tlearn: 0.8372167\ttest: 0.7876820\tbest: 0.7882032 (1851)\ttotal: 9m 25s\tremaining: 3m 28s\n"
     ]
    },
    {
     "name": "stdout",
     "output_type": "stream",
     "text": [
      "2875:\tlearn: 0.8375348\ttest: 0.7877528\tbest: 0.7882032 (1851)\ttotal: 9m 30s\tremaining: 3m 23s\n"
     ]
    },
    {
     "name": "stdout",
     "output_type": "stream",
     "text": [
      "2900:\tlearn: 0.8378718\ttest: 0.7877104\tbest: 0.7882032 (1851)\ttotal: 9m 35s\tremaining: 3m 18s\n"
     ]
    },
    {
     "name": "stdout",
     "output_type": "stream",
     "text": [
      "2925:\tlearn: 0.8381703\ttest: 0.7878460\tbest: 0.7882032 (1851)\ttotal: 9m 40s\tremaining: 3m 13s\n"
     ]
    },
    {
     "name": "stdout",
     "output_type": "stream",
     "text": [
      "2950:\tlearn: 0.8387015\ttest: 0.7875935\tbest: 0.7882032 (1851)\ttotal: 9m 45s\tremaining: 3m 8s\n"
     ]
    },
    {
     "name": "stdout",
     "output_type": "stream",
     "text": [
      "2975:\tlearn: 0.8388639\ttest: 0.7874518\tbest: 0.7882032 (1851)\ttotal: 9m 50s\tremaining: 3m 3s\n"
     ]
    },
    {
     "name": "stdout",
     "output_type": "stream",
     "text": [
      "3000:\tlearn: 0.8391960\ttest: 0.7872147\tbest: 0.7882032 (1851)\ttotal: 9m 55s\tremaining: 2m 58s\n"
     ]
    },
    {
     "name": "stdout",
     "output_type": "stream",
     "text": [
      "3025:\tlearn: 0.8396553\ttest: 0.7874080\tbest: 0.7882032 (1851)\ttotal: 10m\tremaining: 2m 53s\n"
     ]
    },
    {
     "name": "stdout",
     "output_type": "stream",
     "text": [
      "3050:\tlearn: 0.8400803\ttest: 0.7874302\tbest: 0.7882032 (1851)\ttotal: 10m 5s\tremaining: 2m 48s\n"
     ]
    },
    {
     "name": "stdout",
     "output_type": "stream",
     "text": [
      "3075:\tlearn: 0.8402569\ttest: 0.7872859\tbest: 0.7882032 (1851)\ttotal: 10m 10s\tremaining: 2m 43s\n"
     ]
    },
    {
     "name": "stdout",
     "output_type": "stream",
     "text": [
      "3100:\tlearn: 0.8407871\ttest: 0.7877668\tbest: 0.7882032 (1851)\ttotal: 10m 15s\tremaining: 2m 38s\n"
     ]
    },
    {
     "name": "stdout",
     "output_type": "stream",
     "text": [
      "3125:\tlearn: 0.8411798\ttest: 0.7875415\tbest: 0.7882032 (1851)\ttotal: 10m 20s\tremaining: 2m 33s\n"
     ]
    },
    {
     "name": "stdout",
     "output_type": "stream",
     "text": [
      "3150:\tlearn: 0.8415868\ttest: 0.7876098\tbest: 0.7882032 (1851)\ttotal: 10m 25s\tremaining: 2m 28s\n"
     ]
    },
    {
     "name": "stdout",
     "output_type": "stream",
     "text": [
      "3175:\tlearn: 0.8419668\ttest: 0.7875086\tbest: 0.7882032 (1851)\ttotal: 10m 29s\tremaining: 2m 23s\n"
     ]
    },
    {
     "name": "stdout",
     "output_type": "stream",
     "text": [
      "3200:\tlearn: 0.8424152\ttest: 0.7875366\tbest: 0.7882032 (1851)\ttotal: 10m 34s\tremaining: 2m 18s\n"
     ]
    },
    {
     "name": "stdout",
     "output_type": "stream",
     "text": [
      "3225:\tlearn: 0.8426858\ttest: 0.7878777\tbest: 0.7882032 (1851)\ttotal: 10m 39s\tremaining: 2m 13s\n"
     ]
    },
    {
     "name": "stdout",
     "output_type": "stream",
     "text": [
      "3250:\tlearn: 0.8431350\ttest: 0.7875225\tbest: 0.7882032 (1851)\ttotal: 10m 44s\tremaining: 2m 8s\n"
     ]
    },
    {
     "name": "stdout",
     "output_type": "stream",
     "text": [
      "3275:\tlearn: 0.8435089\ttest: 0.7876176\tbest: 0.7882032 (1851)\ttotal: 10m 49s\tremaining: 2m 3s\n"
     ]
    },
    {
     "name": "stdout",
     "output_type": "stream",
     "text": [
      "3300:\tlearn: 0.8440947\ttest: 0.7873269\tbest: 0.7882032 (1851)\ttotal: 10m 54s\tremaining: 1m 58s\n"
     ]
    },
    {
     "name": "stdout",
     "output_type": "stream",
     "text": [
      "3325:\tlearn: 0.8444589\ttest: 0.7877054\tbest: 0.7882032 (1851)\ttotal: 10m 59s\tremaining: 1m 53s\n"
     ]
    },
    {
     "name": "stdout",
     "output_type": "stream",
     "text": [
      "3350:\tlearn: 0.8445829\ttest: 0.7874624\tbest: 0.7882032 (1851)\ttotal: 11m 4s\tremaining: 1m 48s\n"
     ]
    },
    {
     "name": "stdout",
     "output_type": "stream",
     "text": [
      "3375:\tlearn: 0.8451757\ttest: 0.7875262\tbest: 0.7882032 (1851)\ttotal: 11m 9s\tremaining: 1m 43s\n"
     ]
    },
    {
     "name": "stdout",
     "output_type": "stream",
     "text": [
      "3400:\tlearn: 0.8455423\ttest: 0.7877600\tbest: 0.7882032 (1851)\ttotal: 11m 14s\tremaining: 1m 38s\n"
     ]
    },
    {
     "name": "stdout",
     "output_type": "stream",
     "text": [
      "3425:\tlearn: 0.8458670\ttest: 0.7876806\tbest: 0.7882032 (1851)\ttotal: 11m 19s\tremaining: 1m 34s\n"
     ]
    },
    {
     "name": "stdout",
     "output_type": "stream",
     "text": [
      "3450:\tlearn: 0.8462138\ttest: 0.7876004\tbest: 0.7882032 (1851)\ttotal: 11m 24s\tremaining: 1m 29s\n"
     ]
    },
    {
     "name": "stdout",
     "output_type": "stream",
     "text": [
      "3475:\tlearn: 0.8465203\ttest: 0.7875641\tbest: 0.7882032 (1851)\ttotal: 11m 29s\tremaining: 1m 24s\n"
     ]
    },
    {
     "name": "stdout",
     "output_type": "stream",
     "text": [
      "3500:\tlearn: 0.8469938\ttest: 0.7879423\tbest: 0.7882032 (1851)\ttotal: 11m 34s\tremaining: 1m 19s\n"
     ]
    },
    {
     "name": "stdout",
     "output_type": "stream",
     "text": [
      "3525:\tlearn: 0.8473839\ttest: 0.7878786\tbest: 0.7882032 (1851)\ttotal: 11m 39s\tremaining: 1m 14s\n"
     ]
    },
    {
     "name": "stdout",
     "output_type": "stream",
     "text": [
      "3550:\tlearn: 0.8476544\ttest: 0.7877783\tbest: 0.7882032 (1851)\ttotal: 11m 44s\tremaining: 1m 9s\n"
     ]
    },
    {
     "name": "stdout",
     "output_type": "stream",
     "text": [
      "3575:\tlearn: 0.8482113\ttest: 0.7878603\tbest: 0.7882032 (1851)\ttotal: 11m 49s\tremaining: 1m 4s\n"
     ]
    },
    {
     "name": "stdout",
     "output_type": "stream",
     "text": [
      "3600:\tlearn: 0.8483481\ttest: 0.7878613\tbest: 0.7882032 (1851)\ttotal: 11m 54s\tremaining: 59.3s\n"
     ]
    },
    {
     "name": "stdout",
     "output_type": "stream",
     "text": [
      "3625:\tlearn: 0.8488414\ttest: 0.7879481\tbest: 0.7882032 (1851)\ttotal: 11m 59s\tremaining: 54.3s\n"
     ]
    },
    {
     "name": "stdout",
     "output_type": "stream",
     "text": [
      "3650:\tlearn: 0.8491708\ttest: 0.7878081\tbest: 0.7882032 (1851)\ttotal: 12m 4s\tremaining: 49.4s\n"
     ]
    },
    {
     "name": "stdout",
     "output_type": "stream",
     "text": [
      "3675:\tlearn: 0.8494413\ttest: 0.7877937\tbest: 0.7882032 (1851)\ttotal: 12m 9s\tremaining: 44.4s\n"
     ]
    },
    {
     "name": "stdout",
     "output_type": "stream",
     "text": [
      "3700:\tlearn: 0.8497521\ttest: 0.7883285\tbest: 0.7883701 (3698)\ttotal: 12m 14s\tremaining: 39.5s\n"
     ]
    },
    {
     "name": "stdout",
     "output_type": "stream",
     "text": [
      "3725:\tlearn: 0.8502750\ttest: 0.7884809\tbest: 0.7885850 (3712)\ttotal: 12m 18s\tremaining: 34.5s\n"
     ]
    },
    {
     "name": "stdout",
     "output_type": "stream",
     "text": [
      "3750:\tlearn: 0.8506841\ttest: 0.7886488\tbest: 0.7888610 (3746)\ttotal: 12m 23s\tremaining: 29.6s\n"
     ]
    },
    {
     "name": "stdout",
     "output_type": "stream",
     "text": [
      "3775:\tlearn: 0.8510571\ttest: 0.7886542\tbest: 0.7888610 (3746)\ttotal: 12m 28s\tremaining: 24.6s\n"
     ]
    },
    {
     "name": "stdout",
     "output_type": "stream",
     "text": [
      "3800:\tlearn: 0.8513918\ttest: 0.7884645\tbest: 0.7888610 (3746)\ttotal: 12m 33s\tremaining: 19.6s\n"
     ]
    },
    {
     "name": "stdout",
     "output_type": "stream",
     "text": [
      "3825:\tlearn: 0.8517462\ttest: 0.7882290\tbest: 0.7888610 (3746)\ttotal: 12m 38s\tremaining: 14.7s\n"
     ]
    },
    {
     "name": "stdout",
     "output_type": "stream",
     "text": [
      "3850:\tlearn: 0.8521988\ttest: 0.7884851\tbest: 0.7888610 (3746)\ttotal: 12m 43s\tremaining: 9.72s\n"
     ]
    },
    {
     "name": "stdout",
     "output_type": "stream",
     "text": [
      "3875:\tlearn: 0.8525575\ttest: 0.7886141\tbest: 0.7888610 (3746)\ttotal: 12m 48s\tremaining: 4.76s\n"
     ]
    },
    {
     "name": "stdout",
     "output_type": "stream",
     "text": [
      "3899:\tlearn: 0.8529811\ttest: 0.7884549\tbest: 0.7888610 (3746)\ttotal: 12m 53s\tremaining: 0us\n",
      "\n",
      "bestTest = 0.7888610059\n",
      "bestIteration = 3746\n",
      "\n"
     ]
    },
    {
     "name": "stdout",
     "output_type": "stream",
     "text": [
      "######################################## training model 4/5 ########################################\n"
     ]
    },
    {
     "name": "stdout",
     "output_type": "stream",
     "text": [
      "0:\tlearn: 0.5866727\ttest: 0.5802686\tbest: 0.5802686 (0)\ttotal: 514ms\tremaining: 33m 22s\n"
     ]
    },
    {
     "name": "stdout",
     "output_type": "stream",
     "text": [
      "25:\tlearn: 0.7364234\ttest: 0.7318353\tbest: 0.7318353 (25)\ttotal: 5.33s\tremaining: 13m 13s\n"
     ]
    },
    {
     "name": "stdout",
     "output_type": "stream",
     "text": [
      "50:\tlearn: 0.7520560\ttest: 0.7495314\tbest: 0.7495314 (50)\ttotal: 10.3s\tremaining: 12m 54s\n"
     ]
    },
    {
     "name": "stdout",
     "output_type": "stream",
     "text": [
      "75:\tlearn: 0.7583302\ttest: 0.7560471\tbest: 0.7560471 (75)\ttotal: 15.3s\tremaining: 12m 49s\n"
     ]
    },
    {
     "name": "stdout",
     "output_type": "stream",
     "text": [
      "100:\tlearn: 0.7625104\ttest: 0.7589689\tbest: 0.7589689 (100)\ttotal: 20.2s\tremaining: 12m 41s\n"
     ]
    },
    {
     "name": "stdout",
     "output_type": "stream",
     "text": [
      "125:\tlearn: 0.7656757\ttest: 0.7617580\tbest: 0.7622123 (123)\ttotal: 25.2s\tremaining: 12m 36s\n"
     ]
    },
    {
     "name": "stdout",
     "output_type": "stream",
     "text": [
      "150:\tlearn: 0.7682902\ttest: 0.7644020\tbest: 0.7644020 (150)\ttotal: 30.2s\tremaining: 12m 30s\n"
     ]
    },
    {
     "name": "stdout",
     "output_type": "stream",
     "text": [
      "175:\tlearn: 0.7705084\ttest: 0.7666460\tbest: 0.7666460 (175)\ttotal: 35.1s\tremaining: 12m 23s\n"
     ]
    },
    {
     "name": "stdout",
     "output_type": "stream",
     "text": [
      "200:\tlearn: 0.7721445\ttest: 0.7670530\tbest: 0.7671784 (192)\ttotal: 40.1s\tremaining: 12m 17s\n"
     ]
    },
    {
     "name": "stdout",
     "output_type": "stream",
     "text": [
      "225:\tlearn: 0.7734982\ttest: 0.7678922\tbest: 0.7679766 (220)\ttotal: 45s\tremaining: 12m 12s\n"
     ]
    },
    {
     "name": "stdout",
     "output_type": "stream",
     "text": [
      "250:\tlearn: 0.7752793\ttest: 0.7696883\tbest: 0.7696883 (250)\ttotal: 50s\tremaining: 12m 6s\n"
     ]
    },
    {
     "name": "stdout",
     "output_type": "stream",
     "text": [
      "275:\tlearn: 0.7772931\ttest: 0.7707901\tbest: 0.7709002 (274)\ttotal: 55s\tremaining: 12m 2s\n"
     ]
    },
    {
     "name": "stdout",
     "output_type": "stream",
     "text": [
      "300:\tlearn: 0.7801293\ttest: 0.7730390\tbest: 0.7730390 (300)\ttotal: 1m\tremaining: 11m 57s\n"
     ]
    },
    {
     "name": "stdout",
     "output_type": "stream",
     "text": [
      "325:\tlearn: 0.7822658\ttest: 0.7751564\tbest: 0.7751564 (325)\ttotal: 1m 4s\tremaining: 11m 52s\n"
     ]
    },
    {
     "name": "stdout",
     "output_type": "stream",
     "text": [
      "350:\tlearn: 0.7843456\ttest: 0.7756748\tbest: 0.7756748 (350)\ttotal: 1m 9s\tremaining: 11m 47s\n"
     ]
    },
    {
     "name": "stdout",
     "output_type": "stream",
     "text": [
      "375:\tlearn: 0.7858204\ttest: 0.7765245\tbest: 0.7765956 (374)\ttotal: 1m 14s\tremaining: 11m 42s\n"
     ]
    },
    {
     "name": "stdout",
     "output_type": "stream",
     "text": [
      "400:\tlearn: 0.7871034\ttest: 0.7775403\tbest: 0.7775403 (400)\ttotal: 1m 19s\tremaining: 11m 37s\n"
     ]
    },
    {
     "name": "stdout",
     "output_type": "stream",
     "text": [
      "425:\tlearn: 0.7883560\ttest: 0.7782141\tbest: 0.7784731 (419)\ttotal: 1m 24s\tremaining: 11m 32s\n"
     ]
    },
    {
     "name": "stdout",
     "output_type": "stream",
     "text": [
      "450:\tlearn: 0.7895582\ttest: 0.7792423\tbest: 0.7795900 (446)\ttotal: 1m 29s\tremaining: 11m 27s\n"
     ]
    },
    {
     "name": "stdout",
     "output_type": "stream",
     "text": [
      "475:\tlearn: 0.7906739\ttest: 0.7804474\tbest: 0.7804474 (475)\ttotal: 1m 34s\tremaining: 11m 22s\n"
     ]
    },
    {
     "name": "stdout",
     "output_type": "stream",
     "text": [
      "500:\tlearn: 0.7917253\ttest: 0.7803953\tbest: 0.7805342 (495)\ttotal: 1m 39s\tremaining: 11m 17s\n"
     ]
    },
    {
     "name": "stdout",
     "output_type": "stream",
     "text": [
      "525:\tlearn: 0.7925598\ttest: 0.7805449\tbest: 0.7807343 (507)\ttotal: 1m 44s\tremaining: 11m 12s\n"
     ]
    },
    {
     "name": "stdout",
     "output_type": "stream",
     "text": [
      "550:\tlearn: 0.7931074\ttest: 0.7819935\tbest: 0.7819935 (550)\ttotal: 1m 49s\tremaining: 11m 6s\n"
     ]
    },
    {
     "name": "stdout",
     "output_type": "stream",
     "text": [
      "575:\tlearn: 0.7939336\ttest: 0.7821205\tbest: 0.7823027 (569)\ttotal: 1m 54s\tremaining: 11m 2s\n"
     ]
    },
    {
     "name": "stdout",
     "output_type": "stream",
     "text": [
      "600:\tlearn: 0.7945926\ttest: 0.7825483\tbest: 0.7825867 (589)\ttotal: 1m 59s\tremaining: 10m 56s\n"
     ]
    },
    {
     "name": "stdout",
     "output_type": "stream",
     "text": [
      "625:\tlearn: 0.7952550\ttest: 0.7827032\tbest: 0.7829164 (608)\ttotal: 2m 4s\tremaining: 10m 51s\n"
     ]
    },
    {
     "name": "stdout",
     "output_type": "stream",
     "text": [
      "650:\tlearn: 0.7961000\ttest: 0.7831400\tbest: 0.7832227 (646)\ttotal: 2m 9s\tremaining: 10m 46s\n"
     ]
    },
    {
     "name": "stdout",
     "output_type": "stream",
     "text": [
      "675:\tlearn: 0.7968159\ttest: 0.7829349\tbest: 0.7832610 (653)\ttotal: 2m 14s\tremaining: 10m 41s\n"
     ]
    },
    {
     "name": "stdout",
     "output_type": "stream",
     "text": [
      "700:\tlearn: 0.7975681\ttest: 0.7834147\tbest: 0.7835834 (687)\ttotal: 2m 19s\tremaining: 10m 36s\n"
     ]
    },
    {
     "name": "stdout",
     "output_type": "stream",
     "text": [
      "725:\tlearn: 0.7982100\ttest: 0.7838210\tbest: 0.7839591 (721)\ttotal: 2m 24s\tremaining: 10m 31s\n"
     ]
    },
    {
     "name": "stdout",
     "output_type": "stream",
     "text": [
      "750:\tlearn: 0.7988009\ttest: 0.7842822\tbest: 0.7842822 (750)\ttotal: 2m 29s\tremaining: 10m 26s\n"
     ]
    },
    {
     "name": "stdout",
     "output_type": "stream",
     "text": [
      "775:\tlearn: 0.7994996\ttest: 0.7842535\tbest: 0.7843314 (753)\ttotal: 2m 34s\tremaining: 10m 21s\n"
     ]
    },
    {
     "name": "stdout",
     "output_type": "stream",
     "text": [
      "800:\tlearn: 0.8001668\ttest: 0.7842375\tbest: 0.7845596 (784)\ttotal: 2m 39s\tremaining: 10m 16s\n"
     ]
    },
    {
     "name": "stdout",
     "output_type": "stream",
     "text": [
      "825:\tlearn: 0.8008148\ttest: 0.7839557\tbest: 0.7845596 (784)\ttotal: 2m 44s\tremaining: 10m 11s\n"
     ]
    },
    {
     "name": "stdout",
     "output_type": "stream",
     "text": [
      "850:\tlearn: 0.8016525\ttest: 0.7838870\tbest: 0.7845596 (784)\ttotal: 2m 49s\tremaining: 10m 6s\n"
     ]
    },
    {
     "name": "stdout",
     "output_type": "stream",
     "text": [
      "875:\tlearn: 0.8021306\ttest: 0.7846790\tbest: 0.7847421 (874)\ttotal: 2m 54s\tremaining: 10m\n"
     ]
    },
    {
     "name": "stdout",
     "output_type": "stream",
     "text": [
      "900:\tlearn: 0.8025993\ttest: 0.7850309\tbest: 0.7852378 (882)\ttotal: 2m 59s\tremaining: 9m 56s\n"
     ]
    },
    {
     "name": "stdout",
     "output_type": "stream",
     "text": [
      "925:\tlearn: 0.8034199\ttest: 0.7849257\tbest: 0.7852378 (882)\ttotal: 3m 4s\tremaining: 9m 51s\n"
     ]
    },
    {
     "name": "stdout",
     "output_type": "stream",
     "text": [
      "950:\tlearn: 0.8039877\ttest: 0.7852971\tbest: 0.7852971 (950)\ttotal: 3m 9s\tremaining: 9m 46s\n"
     ]
    },
    {
     "name": "stdout",
     "output_type": "stream",
     "text": [
      "975:\tlearn: 0.8044823\ttest: 0.7853713\tbest: 0.7856220 (972)\ttotal: 3m 13s\tremaining: 9m 40s\n"
     ]
    },
    {
     "name": "stdout",
     "output_type": "stream",
     "text": [
      "1000:\tlearn: 0.8049557\ttest: 0.7858288\tbest: 0.7858288 (1000)\ttotal: 3m 18s\tremaining: 9m 35s\n"
     ]
    },
    {
     "name": "stdout",
     "output_type": "stream",
     "text": [
      "1025:\tlearn: 0.8056147\ttest: 0.7855627\tbest: 0.7858288 (1000)\ttotal: 3m 23s\tremaining: 9m 31s\n"
     ]
    },
    {
     "name": "stdout",
     "output_type": "stream",
     "text": [
      "1050:\tlearn: 0.8062758\ttest: 0.7860207\tbest: 0.7860721 (1044)\ttotal: 3m 28s\tremaining: 9m 26s\n"
     ]
    },
    {
     "name": "stdout",
     "output_type": "stream",
     "text": [
      "1075:\tlearn: 0.8066076\ttest: 0.7865138\tbest: 0.7865138 (1075)\ttotal: 3m 33s\tremaining: 9m 21s\n"
     ]
    },
    {
     "name": "stdout",
     "output_type": "stream",
     "text": [
      "1100:\tlearn: 0.8071706\ttest: 0.7868369\tbest: 0.7868369 (1100)\ttotal: 3m 38s\tremaining: 9m 16s\n"
     ]
    },
    {
     "name": "stdout",
     "output_type": "stream",
     "text": [
      "1125:\tlearn: 0.8078543\ttest: 0.7865341\tbest: 0.7869642 (1101)\ttotal: 3m 43s\tremaining: 9m 11s\n"
     ]
    },
    {
     "name": "stdout",
     "output_type": "stream",
     "text": [
      "1150:\tlearn: 0.8081441\ttest: 0.7867686\tbest: 0.7869642 (1101)\ttotal: 3m 48s\tremaining: 9m 6s\n"
     ]
    },
    {
     "name": "stdout",
     "output_type": "stream",
     "text": [
      "1175:\tlearn: 0.8086663\ttest: 0.7865900\tbest: 0.7869642 (1101)\ttotal: 3m 53s\tremaining: 9m 1s\n"
     ]
    },
    {
     "name": "stdout",
     "output_type": "stream",
     "text": [
      "1200:\tlearn: 0.8091393\ttest: 0.7866193\tbest: 0.7869642 (1101)\ttotal: 3m 58s\tremaining: 8m 56s\n"
     ]
    },
    {
     "name": "stdout",
     "output_type": "stream",
     "text": [
      "1225:\tlearn: 0.8095505\ttest: 0.7867024\tbest: 0.7869642 (1101)\ttotal: 4m 3s\tremaining: 8m 51s\n"
     ]
    },
    {
     "name": "stdout",
     "output_type": "stream",
     "text": [
      "1250:\tlearn: 0.8100827\ttest: 0.7869781\tbest: 0.7870803 (1249)\ttotal: 4m 8s\tremaining: 8m 46s\n"
     ]
    },
    {
     "name": "stdout",
     "output_type": "stream",
     "text": [
      "1275:\tlearn: 0.8107779\ttest: 0.7872906\tbest: 0.7874312 (1263)\ttotal: 4m 13s\tremaining: 8m 41s\n"
     ]
    },
    {
     "name": "stdout",
     "output_type": "stream",
     "text": [
      "1300:\tlearn: 0.8113960\ttest: 0.7876455\tbest: 0.7877849 (1290)\ttotal: 4m 18s\tremaining: 8m 36s\n"
     ]
    },
    {
     "name": "stdout",
     "output_type": "stream",
     "text": [
      "1325:\tlearn: 0.8118316\ttest: 0.7875669\tbest: 0.7878243 (1311)\ttotal: 4m 23s\tremaining: 8m 31s\n"
     ]
    },
    {
     "name": "stdout",
     "output_type": "stream",
     "text": [
      "1350:\tlearn: 0.8122265\ttest: 0.7875458\tbest: 0.7878243 (1311)\ttotal: 4m 28s\tremaining: 8m 26s\n"
     ]
    },
    {
     "name": "stdout",
     "output_type": "stream",
     "text": [
      "1375:\tlearn: 0.8127470\ttest: 0.7877070\tbest: 0.7878243 (1311)\ttotal: 4m 33s\tremaining: 8m 21s\n"
     ]
    },
    {
     "name": "stdout",
     "output_type": "stream",
     "text": [
      "1400:\tlearn: 0.8133451\ttest: 0.7881182\tbest: 0.7881182 (1400)\ttotal: 4m 38s\tremaining: 8m 16s\n"
     ]
    },
    {
     "name": "stdout",
     "output_type": "stream",
     "text": [
      "1425:\tlearn: 0.8138810\ttest: 0.7877139\tbest: 0.7881290 (1411)\ttotal: 4m 43s\tremaining: 8m 11s\n"
     ]
    },
    {
     "name": "stdout",
     "output_type": "stream",
     "text": [
      "1450:\tlearn: 0.8143530\ttest: 0.7877304\tbest: 0.7881290 (1411)\ttotal: 4m 48s\tremaining: 8m 6s\n"
     ]
    },
    {
     "name": "stdout",
     "output_type": "stream",
     "text": [
      "1475:\tlearn: 0.8148270\ttest: 0.7879198\tbest: 0.7881290 (1411)\ttotal: 4m 53s\tremaining: 8m 1s\n"
     ]
    },
    {
     "name": "stdout",
     "output_type": "stream",
     "text": [
      "1500:\tlearn: 0.8152443\ttest: 0.7877677\tbest: 0.7881290 (1411)\ttotal: 4m 58s\tremaining: 7m 56s\n"
     ]
    },
    {
     "name": "stdout",
     "output_type": "stream",
     "text": [
      "1525:\tlearn: 0.8155248\ttest: 0.7875726\tbest: 0.7881290 (1411)\ttotal: 5m 3s\tremaining: 7m 51s\n"
     ]
    },
    {
     "name": "stdout",
     "output_type": "stream",
     "text": [
      "1550:\tlearn: 0.8159634\ttest: 0.7879462\tbest: 0.7881290 (1411)\ttotal: 5m 8s\tremaining: 7m 46s\n"
     ]
    },
    {
     "name": "stdout",
     "output_type": "stream",
     "text": [
      "1575:\tlearn: 0.8163723\ttest: 0.7878385\tbest: 0.7881290 (1411)\ttotal: 5m 12s\tremaining: 7m 41s\n"
     ]
    },
    {
     "name": "stdout",
     "output_type": "stream",
     "text": [
      "1600:\tlearn: 0.8168404\ttest: 0.7878292\tbest: 0.7881290 (1411)\ttotal: 5m 17s\tremaining: 7m 36s\n"
     ]
    },
    {
     "name": "stdout",
     "output_type": "stream",
     "text": [
      "1625:\tlearn: 0.8172085\ttest: 0.7880571\tbest: 0.7881776 (1619)\ttotal: 5m 22s\tremaining: 7m 31s\n"
     ]
    },
    {
     "name": "stdout",
     "output_type": "stream",
     "text": [
      "1650:\tlearn: 0.8175525\ttest: 0.7879395\tbest: 0.7882061 (1639)\ttotal: 5m 27s\tremaining: 7m 26s\n"
     ]
    },
    {
     "name": "stdout",
     "output_type": "stream",
     "text": [
      "1675:\tlearn: 0.8178471\ttest: 0.7884117\tbest: 0.7884117 (1675)\ttotal: 5m 32s\tremaining: 7m 21s\n"
     ]
    },
    {
     "name": "stdout",
     "output_type": "stream",
     "text": [
      "1700:\tlearn: 0.8184466\ttest: 0.7882767\tbest: 0.7886334 (1690)\ttotal: 5m 37s\tremaining: 7m 16s\n"
     ]
    },
    {
     "name": "stdout",
     "output_type": "stream",
     "text": [
      "1725:\tlearn: 0.8189823\ttest: 0.7886281\tbest: 0.7886689 (1717)\ttotal: 5m 42s\tremaining: 7m 11s\n"
     ]
    },
    {
     "name": "stdout",
     "output_type": "stream",
     "text": [
      "1750:\tlearn: 0.8194743\ttest: 0.7890807\tbest: 0.7891626 (1745)\ttotal: 5m 47s\tremaining: 7m 6s\n"
     ]
    },
    {
     "name": "stdout",
     "output_type": "stream",
     "text": [
      "1775:\tlearn: 0.8198509\ttest: 0.7886749\tbest: 0.7892547 (1758)\ttotal: 5m 52s\tremaining: 7m 1s\n"
     ]
    },
    {
     "name": "stdout",
     "output_type": "stream",
     "text": [
      "1800:\tlearn: 0.8203289\ttest: 0.7889623\tbest: 0.7892547 (1758)\ttotal: 5m 57s\tremaining: 6m 57s\n"
     ]
    },
    {
     "name": "stdout",
     "output_type": "stream",
     "text": [
      "1825:\tlearn: 0.8206280\ttest: 0.7889489\tbest: 0.7892547 (1758)\ttotal: 6m 2s\tremaining: 6m 52s\n"
     ]
    },
    {
     "name": "stdout",
     "output_type": "stream",
     "text": [
      "1850:\tlearn: 0.8208880\ttest: 0.7891173\tbest: 0.7892547 (1758)\ttotal: 6m 7s\tremaining: 6m 47s\n"
     ]
    },
    {
     "name": "stdout",
     "output_type": "stream",
     "text": [
      "1875:\tlearn: 0.8214057\ttest: 0.7892940\tbest: 0.7893171 (1870)\ttotal: 6m 12s\tremaining: 6m 42s\n"
     ]
    },
    {
     "name": "stdout",
     "output_type": "stream",
     "text": [
      "1900:\tlearn: 0.8217364\ttest: 0.7890887\tbest: 0.7893375 (1878)\ttotal: 6m 17s\tremaining: 6m 37s\n"
     ]
    },
    {
     "name": "stdout",
     "output_type": "stream",
     "text": [
      "1925:\tlearn: 0.8220940\ttest: 0.7892239\tbest: 0.7893375 (1878)\ttotal: 6m 22s\tremaining: 6m 32s\n"
     ]
    },
    {
     "name": "stdout",
     "output_type": "stream",
     "text": [
      "1950:\tlearn: 0.8225959\ttest: 0.7894837\tbest: 0.7894837 (1950)\ttotal: 6m 27s\tremaining: 6m 27s\n"
     ]
    },
    {
     "name": "stdout",
     "output_type": "stream",
     "text": [
      "1975:\tlearn: 0.8226565\ttest: 0.7893661\tbest: 0.7894837 (1950)\ttotal: 6m 32s\tremaining: 6m 22s\n"
     ]
    },
    {
     "name": "stdout",
     "output_type": "stream",
     "text": [
      "2000:\tlearn: 0.8229584\ttest: 0.7894867\tbest: 0.7895912 (1997)\ttotal: 6m 37s\tremaining: 6m 17s\n"
     ]
    },
    {
     "name": "stdout",
     "output_type": "stream",
     "text": [
      "2025:\tlearn: 0.8234826\ttest: 0.7894522\tbest: 0.7897011 (2013)\ttotal: 6m 42s\tremaining: 6m 12s\n"
     ]
    },
    {
     "name": "stdout",
     "output_type": "stream",
     "text": [
      "2050:\tlearn: 0.8239529\ttest: 0.7893514\tbest: 0.7897011 (2013)\ttotal: 6m 47s\tremaining: 6m 7s\n"
     ]
    },
    {
     "name": "stdout",
     "output_type": "stream",
     "text": [
      "2075:\tlearn: 0.8243374\ttest: 0.7894324\tbest: 0.7897011 (2013)\ttotal: 6m 52s\tremaining: 6m 2s\n"
     ]
    },
    {
     "name": "stdout",
     "output_type": "stream",
     "text": [
      "2100:\tlearn: 0.8246916\ttest: 0.7896494\tbest: 0.7898820 (2094)\ttotal: 6m 57s\tremaining: 5m 57s\n"
     ]
    },
    {
     "name": "stdout",
     "output_type": "stream",
     "text": [
      "2125:\tlearn: 0.8250339\ttest: 0.7893542\tbest: 0.7898820 (2094)\ttotal: 7m 2s\tremaining: 5m 52s\n"
     ]
    },
    {
     "name": "stdout",
     "output_type": "stream",
     "text": [
      "2150:\tlearn: 0.8254785\ttest: 0.7892414\tbest: 0.7898820 (2094)\ttotal: 7m 7s\tremaining: 5m 47s\n"
     ]
    },
    {
     "name": "stdout",
     "output_type": "stream",
     "text": [
      "2175:\tlearn: 0.8258735\ttest: 0.7895683\tbest: 0.7898820 (2094)\ttotal: 7m 12s\tremaining: 5m 42s\n"
     ]
    },
    {
     "name": "stdout",
     "output_type": "stream",
     "text": [
      "2200:\tlearn: 0.8262774\ttest: 0.7898727\tbest: 0.7899301 (2185)\ttotal: 7m 16s\tremaining: 5m 37s\n"
     ]
    },
    {
     "name": "stdout",
     "output_type": "stream",
     "text": [
      "2225:\tlearn: 0.8266430\ttest: 0.7895061\tbest: 0.7899584 (2202)\ttotal: 7m 21s\tremaining: 5m 32s\n"
     ]
    },
    {
     "name": "stdout",
     "output_type": "stream",
     "text": [
      "2250:\tlearn: 0.8271588\ttest: 0.7897556\tbest: 0.7900439 (2241)\ttotal: 7m 26s\tremaining: 5m 27s\n"
     ]
    },
    {
     "name": "stdout",
     "output_type": "stream",
     "text": [
      "2275:\tlearn: 0.8273910\ttest: 0.7896142\tbest: 0.7900439 (2241)\ttotal: 7m 31s\tremaining: 5m 22s\n"
     ]
    },
    {
     "name": "stdout",
     "output_type": "stream",
     "text": [
      "2300:\tlearn: 0.8277663\ttest: 0.7897416\tbest: 0.7900439 (2241)\ttotal: 7m 36s\tremaining: 5m 17s\n"
     ]
    },
    {
     "name": "stdout",
     "output_type": "stream",
     "text": [
      "2325:\tlearn: 0.8282268\ttest: 0.7900846\tbest: 0.7902501 (2320)\ttotal: 7m 41s\tremaining: 5m 12s\n"
     ]
    },
    {
     "name": "stdout",
     "output_type": "stream",
     "text": [
      "2350:\tlearn: 0.8284989\ttest: 0.7901188\tbest: 0.7902501 (2320)\ttotal: 7m 46s\tremaining: 5m 7s\n"
     ]
    },
    {
     "name": "stdout",
     "output_type": "stream",
     "text": [
      "2375:\tlearn: 0.8289279\ttest: 0.7897875\tbest: 0.7902501 (2320)\ttotal: 7m 51s\tremaining: 5m 2s\n"
     ]
    },
    {
     "name": "stdout",
     "output_type": "stream",
     "text": [
      "2400:\tlearn: 0.8293650\ttest: 0.7900969\tbest: 0.7902501 (2320)\ttotal: 7m 56s\tremaining: 4m 57s\n"
     ]
    },
    {
     "name": "stdout",
     "output_type": "stream",
     "text": [
      "2425:\tlearn: 0.8298074\ttest: 0.7901026\tbest: 0.7903740 (2413)\ttotal: 8m 1s\tremaining: 4m 52s\n"
     ]
    },
    {
     "name": "stdout",
     "output_type": "stream",
     "text": [
      "2450:\tlearn: 0.8303326\ttest: 0.7899384\tbest: 0.7903740 (2413)\ttotal: 8m 6s\tremaining: 4m 47s\n"
     ]
    },
    {
     "name": "stdout",
     "output_type": "stream",
     "text": [
      "2475:\tlearn: 0.8309402\ttest: 0.7900696\tbest: 0.7903740 (2413)\ttotal: 8m 11s\tremaining: 4m 42s\n"
     ]
    },
    {
     "name": "stdout",
     "output_type": "stream",
     "text": [
      "2500:\tlearn: 0.8310128\ttest: 0.7898272\tbest: 0.7903740 (2413)\ttotal: 8m 16s\tremaining: 4m 37s\n"
     ]
    },
    {
     "name": "stdout",
     "output_type": "stream",
     "text": [
      "2525:\tlearn: 0.8314354\ttest: 0.7897230\tbest: 0.7903740 (2413)\ttotal: 8m 21s\tremaining: 4m 32s\n"
     ]
    },
    {
     "name": "stdout",
     "output_type": "stream",
     "text": [
      "2550:\tlearn: 0.8319898\ttest: 0.7896228\tbest: 0.7903740 (2413)\ttotal: 8m 26s\tremaining: 4m 27s\n"
     ]
    },
    {
     "name": "stdout",
     "output_type": "stream",
     "text": [
      "2575:\tlearn: 0.8324060\ttest: 0.7895046\tbest: 0.7903740 (2413)\ttotal: 8m 31s\tremaining: 4m 22s\n"
     ]
    },
    {
     "name": "stdout",
     "output_type": "stream",
     "text": [
      "2600:\tlearn: 0.8328662\ttest: 0.7893576\tbest: 0.7903740 (2413)\ttotal: 8m 36s\tremaining: 4m 17s\n"
     ]
    },
    {
     "name": "stdout",
     "output_type": "stream",
     "text": [
      "2625:\tlearn: 0.8329940\ttest: 0.7898170\tbest: 0.7903740 (2413)\ttotal: 8m 41s\tremaining: 4m 12s\n"
     ]
    },
    {
     "name": "stdout",
     "output_type": "stream",
     "text": [
      "2650:\tlearn: 0.8334151\ttest: 0.7899960\tbest: 0.7903740 (2413)\ttotal: 8m 46s\tremaining: 4m 7s\n"
     ]
    },
    {
     "name": "stdout",
     "output_type": "stream",
     "text": [
      "2675:\tlearn: 0.8338797\ttest: 0.7900751\tbest: 0.7903740 (2413)\ttotal: 8m 51s\tremaining: 4m 2s\n"
     ]
    },
    {
     "name": "stdout",
     "output_type": "stream",
     "text": [
      "2700:\tlearn: 0.8341079\ttest: 0.7899145\tbest: 0.7903740 (2413)\ttotal: 8m 56s\tremaining: 3m 57s\n"
     ]
    },
    {
     "name": "stdout",
     "output_type": "stream",
     "text": [
      "2725:\tlearn: 0.8344294\ttest: 0.7901718\tbest: 0.7903740 (2413)\ttotal: 9m\tremaining: 3m 52s\n"
     ]
    },
    {
     "name": "stdout",
     "output_type": "stream",
     "text": [
      "2750:\tlearn: 0.8349214\ttest: 0.7902897\tbest: 0.7904152 (2749)\ttotal: 9m 5s\tremaining: 3m 47s\n"
     ]
    },
    {
     "name": "stdout",
     "output_type": "stream",
     "text": [
      "2775:\tlearn: 0.8352231\ttest: 0.7903146\tbest: 0.7904603 (2758)\ttotal: 9m 10s\tremaining: 3m 43s\n"
     ]
    },
    {
     "name": "stdout",
     "output_type": "stream",
     "text": [
      "2800:\tlearn: 0.8356390\ttest: 0.7904017\tbest: 0.7905469 (2779)\ttotal: 9m 15s\tremaining: 3m 38s\n"
     ]
    },
    {
     "name": "stdout",
     "output_type": "stream",
     "text": [
      "2825:\tlearn: 0.8361899\ttest: 0.7903903\tbest: 0.7905469 (2779)\ttotal: 9m 20s\tremaining: 3m 33s\n"
     ]
    },
    {
     "name": "stdout",
     "output_type": "stream",
     "text": [
      "2850:\tlearn: 0.8365542\ttest: 0.7903767\tbest: 0.7907527 (2844)\ttotal: 9m 25s\tremaining: 3m 28s\n"
     ]
    },
    {
     "name": "stdout",
     "output_type": "stream",
     "text": [
      "2875:\tlearn: 0.8369884\ttest: 0.7907619\tbest: 0.7909071 (2869)\ttotal: 9m 30s\tremaining: 3m 23s\n"
     ]
    },
    {
     "name": "stdout",
     "output_type": "stream",
     "text": [
      "2900:\tlearn: 0.8375012\ttest: 0.7903853\tbest: 0.7909071 (2869)\ttotal: 9m 35s\tremaining: 3m 18s\n"
     ]
    },
    {
     "name": "stdout",
     "output_type": "stream",
     "text": [
      "2925:\tlearn: 0.8377920\ttest: 0.7902669\tbest: 0.7909071 (2869)\ttotal: 9m 40s\tremaining: 3m 13s\n"
     ]
    },
    {
     "name": "stdout",
     "output_type": "stream",
     "text": [
      "2950:\tlearn: 0.8381124\ttest: 0.7905205\tbest: 0.7909071 (2869)\ttotal: 9m 45s\tremaining: 3m 8s\n"
     ]
    },
    {
     "name": "stdout",
     "output_type": "stream",
     "text": [
      "2975:\tlearn: 0.8384759\ttest: 0.7902792\tbest: 0.7909071 (2869)\ttotal: 9m 50s\tremaining: 3m 3s\n"
     ]
    },
    {
     "name": "stdout",
     "output_type": "stream",
     "text": [
      "3000:\tlearn: 0.8387490\ttest: 0.7899677\tbest: 0.7909071 (2869)\ttotal: 9m 55s\tremaining: 2m 58s\n"
     ]
    },
    {
     "name": "stdout",
     "output_type": "stream",
     "text": [
      "3025:\tlearn: 0.8391138\ttest: 0.7897375\tbest: 0.7909071 (2869)\ttotal: 10m\tremaining: 2m 53s\n"
     ]
    },
    {
     "name": "stdout",
     "output_type": "stream",
     "text": [
      "3050:\tlearn: 0.8393798\ttest: 0.7895352\tbest: 0.7909071 (2869)\ttotal: 10m 5s\tremaining: 2m 48s\n"
     ]
    },
    {
     "name": "stdout",
     "output_type": "stream",
     "text": [
      "3075:\tlearn: 0.8398121\ttest: 0.7901256\tbest: 0.7909071 (2869)\ttotal: 10m 10s\tremaining: 2m 43s\n"
     ]
    },
    {
     "name": "stdout",
     "output_type": "stream",
     "text": [
      "3100:\tlearn: 0.8401606\ttest: 0.7896049\tbest: 0.7909071 (2869)\ttotal: 10m 15s\tremaining: 2m 38s\n"
     ]
    },
    {
     "name": "stdout",
     "output_type": "stream",
     "text": [
      "3125:\tlearn: 0.8404759\ttest: 0.7898860\tbest: 0.7909071 (2869)\ttotal: 10m 20s\tremaining: 2m 33s\n"
     ]
    },
    {
     "name": "stdout",
     "output_type": "stream",
     "text": [
      "3150:\tlearn: 0.8408305\ttest: 0.7901248\tbest: 0.7909071 (2869)\ttotal: 10m 25s\tremaining: 2m 28s\n"
     ]
    },
    {
     "name": "stdout",
     "output_type": "stream",
     "text": [
      "3175:\tlearn: 0.8413029\ttest: 0.7904092\tbest: 0.7909071 (2869)\ttotal: 10m 30s\tremaining: 2m 23s\n"
     ]
    },
    {
     "name": "stdout",
     "output_type": "stream",
     "text": [
      "3200:\tlearn: 0.8417366\ttest: 0.7902672\tbest: 0.7909071 (2869)\ttotal: 10m 34s\tremaining: 2m 18s\n"
     ]
    },
    {
     "name": "stdout",
     "output_type": "stream",
     "text": [
      "3225:\tlearn: 0.8421854\ttest: 0.7904168\tbest: 0.7909071 (2869)\ttotal: 10m 39s\tremaining: 2m 13s\n"
     ]
    },
    {
     "name": "stdout",
     "output_type": "stream",
     "text": [
      "3250:\tlearn: 0.8424680\ttest: 0.7905616\tbest: 0.7909071 (2869)\ttotal: 10m 44s\tremaining: 2m 8s\n"
     ]
    },
    {
     "name": "stdout",
     "output_type": "stream",
     "text": [
      "3275:\tlearn: 0.8429413\ttest: 0.7907965\tbest: 0.7909603 (3265)\ttotal: 10m 49s\tremaining: 2m 3s\n"
     ]
    },
    {
     "name": "stdout",
     "output_type": "stream",
     "text": [
      "3300:\tlearn: 0.8433630\ttest: 0.7908203\tbest: 0.7912158 (3284)\ttotal: 10m 54s\tremaining: 1m 58s\n"
     ]
    },
    {
     "name": "stdout",
     "output_type": "stream",
     "text": [
      "3325:\tlearn: 0.8436207\ttest: 0.7906342\tbest: 0.7912158 (3284)\ttotal: 10m 59s\tremaining: 1m 53s\n"
     ]
    },
    {
     "name": "stdout",
     "output_type": "stream",
     "text": [
      "3350:\tlearn: 0.8440068\ttest: 0.7900308\tbest: 0.7912158 (3284)\ttotal: 11m 4s\tremaining: 1m 48s\n"
     ]
    },
    {
     "name": "stdout",
     "output_type": "stream",
     "text": [
      "3375:\tlearn: 0.8443689\ttest: 0.7901465\tbest: 0.7912158 (3284)\ttotal: 11m 9s\tremaining: 1m 43s\n"
     ]
    },
    {
     "name": "stdout",
     "output_type": "stream",
     "text": [
      "3400:\tlearn: 0.8447728\ttest: 0.7900643\tbest: 0.7912158 (3284)\ttotal: 11m 14s\tremaining: 1m 38s\n"
     ]
    },
    {
     "name": "stdout",
     "output_type": "stream",
     "text": [
      "3425:\tlearn: 0.8452105\ttest: 0.7900267\tbest: 0.7912158 (3284)\ttotal: 11m 19s\tremaining: 1m 34s\n"
     ]
    },
    {
     "name": "stdout",
     "output_type": "stream",
     "text": [
      "3450:\tlearn: 0.8457451\ttest: 0.7899909\tbest: 0.7912158 (3284)\ttotal: 11m 24s\tremaining: 1m 29s\n"
     ]
    },
    {
     "name": "stdout",
     "output_type": "stream",
     "text": [
      "3475:\tlearn: 0.8460008\ttest: 0.7900325\tbest: 0.7912158 (3284)\ttotal: 11m 29s\tremaining: 1m 24s\n"
     ]
    },
    {
     "name": "stdout",
     "output_type": "stream",
     "text": [
      "3500:\tlearn: 0.8462533\ttest: 0.7899494\tbest: 0.7912158 (3284)\ttotal: 11m 34s\tremaining: 1m 19s\n"
     ]
    },
    {
     "name": "stdout",
     "output_type": "stream",
     "text": [
      "3525:\tlearn: 0.8464030\ttest: 0.7894696\tbest: 0.7912158 (3284)\ttotal: 11m 39s\tremaining: 1m 14s\n"
     ]
    },
    {
     "name": "stdout",
     "output_type": "stream",
     "text": [
      "3550:\tlearn: 0.8468255\ttest: 0.7896390\tbest: 0.7912158 (3284)\ttotal: 11m 44s\tremaining: 1m 9s\n"
     ]
    },
    {
     "name": "stdout",
     "output_type": "stream",
     "text": [
      "3575:\tlearn: 0.8472373\ttest: 0.7897312\tbest: 0.7912158 (3284)\ttotal: 11m 49s\tremaining: 1m 4s\n"
     ]
    },
    {
     "name": "stdout",
     "output_type": "stream",
     "text": [
      "3600:\tlearn: 0.8474648\ttest: 0.7896975\tbest: 0.7912158 (3284)\ttotal: 11m 54s\tremaining: 59.3s\n"
     ]
    },
    {
     "name": "stdout",
     "output_type": "stream",
     "text": [
      "3625:\tlearn: 0.8479744\ttest: 0.7901876\tbest: 0.7912158 (3284)\ttotal: 11m 59s\tremaining: 54.3s\n"
     ]
    },
    {
     "name": "stdout",
     "output_type": "stream",
     "text": [
      "3650:\tlearn: 0.8484057\ttest: 0.7900223\tbest: 0.7912158 (3284)\ttotal: 12m 4s\tremaining: 49.4s\n"
     ]
    },
    {
     "name": "stdout",
     "output_type": "stream",
     "text": [
      "3675:\tlearn: 0.8486710\ttest: 0.7901086\tbest: 0.7912158 (3284)\ttotal: 12m 9s\tremaining: 44.4s\n"
     ]
    },
    {
     "name": "stdout",
     "output_type": "stream",
     "text": [
      "3700:\tlearn: 0.8488917\ttest: 0.7899202\tbest: 0.7912158 (3284)\ttotal: 12m 14s\tremaining: 39.5s\n"
     ]
    },
    {
     "name": "stdout",
     "output_type": "stream",
     "text": [
      "3725:\tlearn: 0.8493993\ttest: 0.7897519\tbest: 0.7912158 (3284)\ttotal: 12m 19s\tremaining: 34.5s\n"
     ]
    },
    {
     "name": "stdout",
     "output_type": "stream",
     "text": [
      "3750:\tlearn: 0.8497202\ttest: 0.7902001\tbest: 0.7912158 (3284)\ttotal: 12m 23s\tremaining: 29.6s\n"
     ]
    },
    {
     "name": "stdout",
     "output_type": "stream",
     "text": [
      "3775:\tlearn: 0.8500588\ttest: 0.7899092\tbest: 0.7912158 (3284)\ttotal: 12m 28s\tremaining: 24.6s\n"
     ]
    },
    {
     "name": "stdout",
     "output_type": "stream",
     "text": [
      "3800:\tlearn: 0.8503046\ttest: 0.7897881\tbest: 0.7912158 (3284)\ttotal: 12m 33s\tremaining: 19.6s\n"
     ]
    },
    {
     "name": "stdout",
     "output_type": "stream",
     "text": [
      "3825:\tlearn: 0.8507638\ttest: 0.7896859\tbest: 0.7912158 (3284)\ttotal: 12m 38s\tremaining: 14.7s\n"
     ]
    },
    {
     "name": "stdout",
     "output_type": "stream",
     "text": [
      "3850:\tlearn: 0.8510602\ttest: 0.7897939\tbest: 0.7912158 (3284)\ttotal: 12m 43s\tremaining: 9.72s\n"
     ]
    },
    {
     "name": "stdout",
     "output_type": "stream",
     "text": [
      "3875:\tlearn: 0.8513535\ttest: 0.7900970\tbest: 0.7912158 (3284)\ttotal: 12m 48s\tremaining: 4.76s\n"
     ]
    },
    {
     "name": "stdout",
     "output_type": "stream",
     "text": [
      "3899:\tlearn: 0.8517863\ttest: 0.7901553\tbest: 0.7912158 (3284)\ttotal: 12m 53s\tremaining: 0us\n",
      "\n",
      "bestTest = 0.79121575\n",
      "bestIteration = 3284\n",
      "\n"
     ]
    },
    {
     "name": "stdout",
     "output_type": "stream",
     "text": [
      "######################################## training model 5/5 ########################################\n"
     ]
    },
    {
     "name": "stdout",
     "output_type": "stream",
     "text": [
      "0:\tlearn: 0.5756073\ttest: 0.5817374\tbest: 0.5817374 (0)\ttotal: 518ms\tremaining: 33m 41s\n"
     ]
    },
    {
     "name": "stdout",
     "output_type": "stream",
     "text": [
      "25:\tlearn: 0.7346436\ttest: 0.7385572\tbest: 0.7385572 (25)\ttotal: 5.3s\tremaining: 13m 9s\n"
     ]
    },
    {
     "name": "stdout",
     "output_type": "stream",
     "text": [
      "50:\tlearn: 0.7484260\ttest: 0.7548209\tbest: 0.7548209 (50)\ttotal: 10.3s\tremaining: 12m 56s\n"
     ]
    },
    {
     "name": "stdout",
     "output_type": "stream",
     "text": [
      "75:\tlearn: 0.7564301\ttest: 0.7617156\tbest: 0.7617156 (75)\ttotal: 15.2s\tremaining: 12m 46s\n"
     ]
    },
    {
     "name": "stdout",
     "output_type": "stream",
     "text": [
      "100:\tlearn: 0.7606146\ttest: 0.7681366\tbest: 0.7681366 (100)\ttotal: 20.2s\tremaining: 12m 39s\n"
     ]
    },
    {
     "name": "stdout",
     "output_type": "stream",
     "text": [
      "125:\tlearn: 0.7641093\ttest: 0.7707683\tbest: 0.7708888 (124)\ttotal: 25.1s\tremaining: 12m 32s\n"
     ]
    },
    {
     "name": "stdout",
     "output_type": "stream",
     "text": [
      "150:\tlearn: 0.7662288\ttest: 0.7718808\tbest: 0.7719279 (142)\ttotal: 30.1s\tremaining: 12m 27s\n"
     ]
    },
    {
     "name": "stdout",
     "output_type": "stream",
     "text": [
      "175:\tlearn: 0.7682426\ttest: 0.7739270\tbest: 0.7740850 (174)\ttotal: 35.1s\tremaining: 12m 22s\n"
     ]
    },
    {
     "name": "stdout",
     "output_type": "stream",
     "text": [
      "200:\tlearn: 0.7697996\ttest: 0.7759639\tbest: 0.7759823 (197)\ttotal: 40s\tremaining: 12m 16s\n"
     ]
    },
    {
     "name": "stdout",
     "output_type": "stream",
     "text": [
      "225:\tlearn: 0.7717219\ttest: 0.7772264\tbest: 0.7772264 (225)\ttotal: 45s\tremaining: 12m 10s\n"
     ]
    },
    {
     "name": "stdout",
     "output_type": "stream",
     "text": [
      "250:\tlearn: 0.7732087\ttest: 0.7790638\tbest: 0.7790638 (250)\ttotal: 49.9s\tremaining: 12m 4s\n"
     ]
    },
    {
     "name": "stdout",
     "output_type": "stream",
     "text": [
      "275:\tlearn: 0.7754304\ttest: 0.7806419\tbest: 0.7807550 (273)\ttotal: 54.8s\tremaining: 11m 59s\n"
     ]
    },
    {
     "name": "stdout",
     "output_type": "stream",
     "text": [
      "300:\tlearn: 0.7782062\ttest: 0.7834607\tbest: 0.7834607 (300)\ttotal: 59.8s\tremaining: 11m 54s\n"
     ]
    },
    {
     "name": "stdout",
     "output_type": "stream",
     "text": [
      "325:\tlearn: 0.7803323\ttest: 0.7850710\tbest: 0.7851725 (322)\ttotal: 1m 4s\tremaining: 11m 49s\n"
     ]
    },
    {
     "name": "stdout",
     "output_type": "stream",
     "text": [
      "350:\tlearn: 0.7820677\ttest: 0.7876055\tbest: 0.7876055 (350)\ttotal: 1m 9s\tremaining: 11m 44s\n"
     ]
    },
    {
     "name": "stdout",
     "output_type": "stream",
     "text": [
      "375:\tlearn: 0.7835246\ttest: 0.7882444\tbest: 0.7884503 (368)\ttotal: 1m 14s\tremaining: 11m 39s\n"
     ]
    },
    {
     "name": "stdout",
     "output_type": "stream",
     "text": [
      "400:\tlearn: 0.7848807\ttest: 0.7890740\tbest: 0.7892745 (394)\ttotal: 1m 19s\tremaining: 11m 34s\n"
     ]
    },
    {
     "name": "stdout",
     "output_type": "stream",
     "text": [
      "425:\tlearn: 0.7863272\ttest: 0.7902084\tbest: 0.7902337 (423)\ttotal: 1m 24s\tremaining: 11m 29s\n"
     ]
    },
    {
     "name": "stdout",
     "output_type": "stream",
     "text": [
      "450:\tlearn: 0.7873833\ttest: 0.7906239\tbest: 0.7907581 (448)\ttotal: 1m 29s\tremaining: 11m 24s\n"
     ]
    },
    {
     "name": "stdout",
     "output_type": "stream",
     "text": [
      "475:\tlearn: 0.7885076\ttest: 0.7912614\tbest: 0.7912614 (475)\ttotal: 1m 34s\tremaining: 11m 19s\n"
     ]
    },
    {
     "name": "stdout",
     "output_type": "stream",
     "text": [
      "500:\tlearn: 0.7895995\ttest: 0.7919268\tbest: 0.7920428 (499)\ttotal: 1m 39s\tremaining: 11m 14s\n"
     ]
    },
    {
     "name": "stdout",
     "output_type": "stream",
     "text": [
      "525:\tlearn: 0.7903642\ttest: 0.7927674\tbest: 0.7928425 (524)\ttotal: 1m 44s\tremaining: 11m 8s\n"
     ]
    },
    {
     "name": "stdout",
     "output_type": "stream",
     "text": [
      "550:\tlearn: 0.7913078\ttest: 0.7924228\tbest: 0.7928425 (524)\ttotal: 1m 49s\tremaining: 11m 3s\n"
     ]
    },
    {
     "name": "stdout",
     "output_type": "stream",
     "text": [
      "575:\tlearn: 0.7920630\ttest: 0.7929058\tbest: 0.7932308 (572)\ttotal: 1m 54s\tremaining: 10m 58s\n"
     ]
    },
    {
     "name": "stdout",
     "output_type": "stream",
     "text": [
      "600:\tlearn: 0.7929165\ttest: 0.7933094\tbest: 0.7935994 (599)\ttotal: 1m 59s\tremaining: 10m 53s\n"
     ]
    },
    {
     "name": "stdout",
     "output_type": "stream",
     "text": [
      "625:\tlearn: 0.7935509\ttest: 0.7935304\tbest: 0.7937152 (624)\ttotal: 2m 4s\tremaining: 10m 48s\n"
     ]
    },
    {
     "name": "stdout",
     "output_type": "stream",
     "text": [
      "650:\tlearn: 0.7944812\ttest: 0.7940314\tbest: 0.7943373 (646)\ttotal: 2m 8s\tremaining: 10m 43s\n"
     ]
    },
    {
     "name": "stdout",
     "output_type": "stream",
     "text": [
      "675:\tlearn: 0.7951095\ttest: 0.7942891\tbest: 0.7943373 (646)\ttotal: 2m 13s\tremaining: 10m 38s\n"
     ]
    },
    {
     "name": "stdout",
     "output_type": "stream",
     "text": [
      "700:\tlearn: 0.7959140\ttest: 0.7940986\tbest: 0.7946817 (679)\ttotal: 2m 18s\tremaining: 10m 33s\n"
     ]
    },
    {
     "name": "stdout",
     "output_type": "stream",
     "text": [
      "725:\tlearn: 0.7963480\ttest: 0.7945100\tbest: 0.7946817 (679)\ttotal: 2m 23s\tremaining: 10m 28s\n"
     ]
    },
    {
     "name": "stdout",
     "output_type": "stream",
     "text": [
      "750:\tlearn: 0.7970105\ttest: 0.7946041\tbest: 0.7947421 (726)\ttotal: 2m 28s\tremaining: 10m 23s\n"
     ]
    },
    {
     "name": "stdout",
     "output_type": "stream",
     "text": [
      "775:\tlearn: 0.7975843\ttest: 0.7946345\tbest: 0.7948070 (758)\ttotal: 2m 33s\tremaining: 10m 18s\n"
     ]
    },
    {
     "name": "stdout",
     "output_type": "stream",
     "text": [
      "800:\tlearn: 0.7981301\ttest: 0.7950248\tbest: 0.7951573 (795)\ttotal: 2m 38s\tremaining: 10m 13s\n"
     ]
    },
    {
     "name": "stdout",
     "output_type": "stream",
     "text": [
      "825:\tlearn: 0.7990208\ttest: 0.7946777\tbest: 0.7953272 (803)\ttotal: 2m 43s\tremaining: 10m 8s\n"
     ]
    },
    {
     "name": "stdout",
     "output_type": "stream",
     "text": [
      "850:\tlearn: 0.7997231\ttest: 0.7948425\tbest: 0.7954154 (843)\ttotal: 2m 48s\tremaining: 10m 4s\n"
     ]
    },
    {
     "name": "stdout",
     "output_type": "stream",
     "text": [
      "875:\tlearn: 0.8003353\ttest: 0.7947634\tbest: 0.7954154 (843)\ttotal: 2m 53s\tremaining: 9m 59s\n"
     ]
    },
    {
     "name": "stdout",
     "output_type": "stream",
     "text": [
      "900:\tlearn: 0.8008021\ttest: 0.7950566\tbest: 0.7954154 (843)\ttotal: 2m 58s\tremaining: 9m 53s\n"
     ]
    },
    {
     "name": "stdout",
     "output_type": "stream",
     "text": [
      "925:\tlearn: 0.8011730\ttest: 0.7949388\tbest: 0.7954154 (843)\ttotal: 3m 3s\tremaining: 9m 49s\n"
     ]
    },
    {
     "name": "stdout",
     "output_type": "stream",
     "text": [
      "950:\tlearn: 0.8017627\ttest: 0.7950909\tbest: 0.7954154 (843)\ttotal: 3m 8s\tremaining: 9m 43s\n"
     ]
    },
    {
     "name": "stdout",
     "output_type": "stream",
     "text": [
      "975:\tlearn: 0.8023159\ttest: 0.7953124\tbest: 0.7954294 (964)\ttotal: 3m 13s\tremaining: 9m 39s\n"
     ]
    },
    {
     "name": "stdout",
     "output_type": "stream",
     "text": [
      "1000:\tlearn: 0.8028604\ttest: 0.7954328\tbest: 0.7957634 (995)\ttotal: 3m 18s\tremaining: 9m 34s\n"
     ]
    },
    {
     "name": "stdout",
     "output_type": "stream",
     "text": [
      "1025:\tlearn: 0.8035377\ttest: 0.7962157\tbest: 0.7962925 (1019)\ttotal: 3m 23s\tremaining: 9m 28s\n"
     ]
    },
    {
     "name": "stdout",
     "output_type": "stream",
     "text": [
      "1050:\tlearn: 0.8040007\ttest: 0.7962473\tbest: 0.7963064 (1047)\ttotal: 3m 28s\tremaining: 9m 23s\n"
     ]
    },
    {
     "name": "stdout",
     "output_type": "stream",
     "text": [
      "1075:\tlearn: 0.8043804\ttest: 0.7964176\tbest: 0.7965005 (1074)\ttotal: 3m 32s\tremaining: 9m 18s\n"
     ]
    },
    {
     "name": "stdout",
     "output_type": "stream",
     "text": [
      "1100:\tlearn: 0.8050044\ttest: 0.7958667\tbest: 0.7965005 (1074)\ttotal: 3m 37s\tremaining: 9m 13s\n"
     ]
    },
    {
     "name": "stdout",
     "output_type": "stream",
     "text": [
      "1125:\tlearn: 0.8055755\ttest: 0.7961864\tbest: 0.7965005 (1074)\ttotal: 3m 42s\tremaining: 9m 8s\n"
     ]
    },
    {
     "name": "stdout",
     "output_type": "stream",
     "text": [
      "1150:\tlearn: 0.8059296\ttest: 0.7963641\tbest: 0.7965005 (1074)\ttotal: 3m 47s\tremaining: 9m 3s\n"
     ]
    },
    {
     "name": "stdout",
     "output_type": "stream",
     "text": [
      "1175:\tlearn: 0.8065675\ttest: 0.7960762\tbest: 0.7965540 (1154)\ttotal: 3m 52s\tremaining: 8m 58s\n"
     ]
    },
    {
     "name": "stdout",
     "output_type": "stream",
     "text": [
      "1200:\tlearn: 0.8069748\ttest: 0.7963910\tbest: 0.7965939 (1187)\ttotal: 3m 57s\tremaining: 8m 53s\n"
     ]
    },
    {
     "name": "stdout",
     "output_type": "stream",
     "text": [
      "1225:\tlearn: 0.8074990\ttest: 0.7969008\tbest: 0.7969008 (1225)\ttotal: 4m 2s\tremaining: 8m 48s\n"
     ]
    },
    {
     "name": "stdout",
     "output_type": "stream",
     "text": [
      "1250:\tlearn: 0.8080217\ttest: 0.7969483\tbest: 0.7971082 (1246)\ttotal: 4m 7s\tremaining: 8m 43s\n"
     ]
    },
    {
     "name": "stdout",
     "output_type": "stream",
     "text": [
      "1275:\tlearn: 0.8084314\ttest: 0.7972205\tbest: 0.7974719 (1273)\ttotal: 4m 12s\tremaining: 8m 38s\n"
     ]
    },
    {
     "name": "stdout",
     "output_type": "stream",
     "text": [
      "1300:\tlearn: 0.8090210\ttest: 0.7974829\tbest: 0.7975045 (1299)\ttotal: 4m 17s\tremaining: 8m 33s\n"
     ]
    },
    {
     "name": "stdout",
     "output_type": "stream",
     "text": [
      "1325:\tlearn: 0.8095075\ttest: 0.7976277\tbest: 0.7977512 (1321)\ttotal: 4m 22s\tremaining: 8m 29s\n"
     ]
    },
    {
     "name": "stdout",
     "output_type": "stream",
     "text": [
      "1350:\tlearn: 0.8099818\ttest: 0.7973503\tbest: 0.7977512 (1321)\ttotal: 4m 27s\tremaining: 8m 24s\n"
     ]
    },
    {
     "name": "stdout",
     "output_type": "stream",
     "text": [
      "1375:\tlearn: 0.8104598\ttest: 0.7975801\tbest: 0.7977512 (1321)\ttotal: 4m 32s\tremaining: 8m 19s\n"
     ]
    },
    {
     "name": "stdout",
     "output_type": "stream",
     "text": [
      "1400:\tlearn: 0.8112243\ttest: 0.7975197\tbest: 0.7977512 (1321)\ttotal: 4m 37s\tremaining: 8m 14s\n"
     ]
    },
    {
     "name": "stdout",
     "output_type": "stream",
     "text": [
      "1425:\tlearn: 0.8114011\ttest: 0.7975740\tbest: 0.7977512 (1321)\ttotal: 4m 41s\tremaining: 8m 9s\n"
     ]
    },
    {
     "name": "stdout",
     "output_type": "stream",
     "text": [
      "1450:\tlearn: 0.8118150\ttest: 0.7976775\tbest: 0.7978325 (1433)\ttotal: 4m 46s\tremaining: 8m 4s\n"
     ]
    },
    {
     "name": "stdout",
     "output_type": "stream",
     "text": [
      "1475:\tlearn: 0.8125201\ttest: 0.7979812\tbest: 0.7980642 (1473)\ttotal: 4m 51s\tremaining: 7m 59s\n"
     ]
    },
    {
     "name": "stdout",
     "output_type": "stream",
     "text": [
      "1500:\tlearn: 0.8129675\ttest: 0.7979720\tbest: 0.7981395 (1497)\ttotal: 4m 56s\tremaining: 7m 54s\n"
     ]
    },
    {
     "name": "stdout",
     "output_type": "stream",
     "text": [
      "1525:\tlearn: 0.8132769\ttest: 0.7979843\tbest: 0.7981514 (1520)\ttotal: 5m 1s\tremaining: 7m 49s\n"
     ]
    },
    {
     "name": "stdout",
     "output_type": "stream",
     "text": [
      "1550:\tlearn: 0.8136841\ttest: 0.7984792\tbest: 0.7984984 (1545)\ttotal: 5m 6s\tremaining: 7m 44s\n"
     ]
    },
    {
     "name": "stdout",
     "output_type": "stream",
     "text": [
      "1575:\tlearn: 0.8140000\ttest: 0.7986787\tbest: 0.7987408 (1574)\ttotal: 5m 11s\tremaining: 7m 39s\n"
     ]
    },
    {
     "name": "stdout",
     "output_type": "stream",
     "text": [
      "1600:\tlearn: 0.8144140\ttest: 0.7985318\tbest: 0.7987438 (1579)\ttotal: 5m 16s\tremaining: 7m 34s\n"
     ]
    },
    {
     "name": "stdout",
     "output_type": "stream",
     "text": [
      "1625:\tlearn: 0.8149098\ttest: 0.7983780\tbest: 0.7987438 (1579)\ttotal: 5m 21s\tremaining: 7m 29s\n"
     ]
    },
    {
     "name": "stdout",
     "output_type": "stream",
     "text": [
      "1650:\tlearn: 0.8152371\ttest: 0.7984350\tbest: 0.7987438 (1579)\ttotal: 5m 26s\tremaining: 7m 24s\n"
     ]
    },
    {
     "name": "stdout",
     "output_type": "stream",
     "text": [
      "1675:\tlearn: 0.8155204\ttest: 0.7986594\tbest: 0.7987836 (1664)\ttotal: 5m 31s\tremaining: 7m 19s\n"
     ]
    },
    {
     "name": "stdout",
     "output_type": "stream",
     "text": [
      "1700:\tlearn: 0.8159172\ttest: 0.7987932\tbest: 0.7988170 (1693)\ttotal: 5m 36s\tremaining: 7m 14s\n"
     ]
    },
    {
     "name": "stdout",
     "output_type": "stream",
     "text": [
      "1725:\tlearn: 0.8163999\ttest: 0.7990982\tbest: 0.7992225 (1718)\ttotal: 5m 41s\tremaining: 7m 9s\n"
     ]
    },
    {
     "name": "stdout",
     "output_type": "stream",
     "text": [
      "1750:\tlearn: 0.8167172\ttest: 0.7988385\tbest: 0.7992328 (1737)\ttotal: 5m 46s\tremaining: 7m 4s\n"
     ]
    },
    {
     "name": "stdout",
     "output_type": "stream",
     "text": [
      "1775:\tlearn: 0.8171687\ttest: 0.7991512\tbest: 0.7992328 (1737)\ttotal: 5m 51s\tremaining: 7m\n"
     ]
    },
    {
     "name": "stdout",
     "output_type": "stream",
     "text": [
      "1800:\tlearn: 0.8174192\ttest: 0.7992498\tbest: 0.7993513 (1797)\ttotal: 5m 56s\tremaining: 6m 55s\n"
     ]
    },
    {
     "name": "stdout",
     "output_type": "stream",
     "text": [
      "1825:\tlearn: 0.8178747\ttest: 0.7989836\tbest: 0.7993513 (1797)\ttotal: 6m 1s\tremaining: 6m 50s\n"
     ]
    },
    {
     "name": "stdout",
     "output_type": "stream",
     "text": [
      "1850:\tlearn: 0.8184065\ttest: 0.7990620\tbest: 0.7993513 (1797)\ttotal: 6m 6s\tremaining: 6m 45s\n"
     ]
    },
    {
     "name": "stdout",
     "output_type": "stream",
     "text": [
      "1875:\tlearn: 0.8189932\ttest: 0.7995766\tbest: 0.7995766 (1875)\ttotal: 6m 11s\tremaining: 6m 40s\n"
     ]
    },
    {
     "name": "stdout",
     "output_type": "stream",
     "text": [
      "1900:\tlearn: 0.8193796\ttest: 0.7994126\tbest: 0.7996818 (1876)\ttotal: 6m 16s\tremaining: 6m 35s\n"
     ]
    },
    {
     "name": "stdout",
     "output_type": "stream",
     "text": [
      "1925:\tlearn: 0.8198684\ttest: 0.7995937\tbest: 0.7998587 (1913)\ttotal: 6m 21s\tremaining: 6m 30s\n"
     ]
    },
    {
     "name": "stdout",
     "output_type": "stream",
     "text": [
      "1950:\tlearn: 0.8203458\ttest: 0.7997465\tbest: 0.7998587 (1913)\ttotal: 6m 26s\tremaining: 6m 25s\n"
     ]
    },
    {
     "name": "stdout",
     "output_type": "stream",
     "text": [
      "1975:\tlearn: 0.8207197\ttest: 0.7997573\tbest: 0.7998752 (1954)\ttotal: 6m 31s\tremaining: 6m 20s\n"
     ]
    },
    {
     "name": "stdout",
     "output_type": "stream",
     "text": [
      "2000:\tlearn: 0.8211655\ttest: 0.7995921\tbest: 0.7999459 (1980)\ttotal: 6m 36s\tremaining: 6m 15s\n"
     ]
    },
    {
     "name": "stdout",
     "output_type": "stream",
     "text": [
      "2025:\tlearn: 0.8214585\ttest: 0.7996293\tbest: 0.7999459 (1980)\ttotal: 6m 41s\tremaining: 6m 10s\n"
     ]
    },
    {
     "name": "stdout",
     "output_type": "stream",
     "text": [
      "2050:\tlearn: 0.8217087\ttest: 0.7995910\tbest: 0.7999459 (1980)\ttotal: 6m 45s\tremaining: 6m 5s\n"
     ]
    },
    {
     "name": "stdout",
     "output_type": "stream",
     "text": [
      "2075:\tlearn: 0.8222643\ttest: 0.7995571\tbest: 0.7999459 (1980)\ttotal: 6m 50s\tremaining: 6m 1s\n"
     ]
    },
    {
     "name": "stdout",
     "output_type": "stream",
     "text": [
      "2100:\tlearn: 0.8227480\ttest: 0.7995452\tbest: 0.7999459 (1980)\ttotal: 6m 55s\tremaining: 5m 56s\n"
     ]
    },
    {
     "name": "stdout",
     "output_type": "stream",
     "text": [
      "2125:\tlearn: 0.8230866\ttest: 0.7995281\tbest: 0.7999459 (1980)\ttotal: 7m\tremaining: 5m 51s\n"
     ]
    },
    {
     "name": "stdout",
     "output_type": "stream",
     "text": [
      "2150:\tlearn: 0.8234901\ttest: 0.7994316\tbest: 0.7999459 (1980)\ttotal: 7m 5s\tremaining: 5m 46s\n"
     ]
    },
    {
     "name": "stdout",
     "output_type": "stream",
     "text": [
      "2175:\tlearn: 0.8240138\ttest: 0.7994346\tbest: 0.7999459 (1980)\ttotal: 7m 10s\tremaining: 5m 41s\n"
     ]
    },
    {
     "name": "stdout",
     "output_type": "stream",
     "text": [
      "2200:\tlearn: 0.8247629\ttest: 0.7991214\tbest: 0.7999459 (1980)\ttotal: 7m 15s\tremaining: 5m 36s\n"
     ]
    },
    {
     "name": "stdout",
     "output_type": "stream",
     "text": [
      "2225:\tlearn: 0.8252869\ttest: 0.7995889\tbest: 0.7999459 (1980)\ttotal: 7m 20s\tremaining: 5m 31s\n"
     ]
    },
    {
     "name": "stdout",
     "output_type": "stream",
     "text": [
      "2250:\tlearn: 0.8257465\ttest: 0.7995673\tbest: 0.7999459 (1980)\ttotal: 7m 25s\tremaining: 5m 26s\n"
     ]
    },
    {
     "name": "stdout",
     "output_type": "stream",
     "text": [
      "2275:\tlearn: 0.8261907\ttest: 0.7994042\tbest: 0.7999459 (1980)\ttotal: 7m 30s\tremaining: 5m 21s\n"
     ]
    },
    {
     "name": "stdout",
     "output_type": "stream",
     "text": [
      "2300:\tlearn: 0.8266853\ttest: 0.7997723\tbest: 0.7999459 (1980)\ttotal: 7m 35s\tremaining: 5m 16s\n"
     ]
    },
    {
     "name": "stdout",
     "output_type": "stream",
     "text": [
      "2325:\tlearn: 0.8271015\ttest: 0.7996786\tbest: 0.7999459 (1980)\ttotal: 7m 40s\tremaining: 5m 11s\n"
     ]
    },
    {
     "name": "stdout",
     "output_type": "stream",
     "text": [
      "2350:\tlearn: 0.8275195\ttest: 0.7999632\tbest: 0.8000487 (2345)\ttotal: 7m 45s\tremaining: 5m 6s\n"
     ]
    },
    {
     "name": "stdout",
     "output_type": "stream",
     "text": [
      "2375:\tlearn: 0.8279024\ttest: 0.7998439\tbest: 0.8000487 (2345)\ttotal: 7m 50s\tremaining: 5m 1s\n"
     ]
    },
    {
     "name": "stdout",
     "output_type": "stream",
     "text": [
      "2400:\tlearn: 0.8282194\ttest: 0.7998669\tbest: 0.8000487 (2345)\ttotal: 7m 55s\tremaining: 4m 56s\n"
     ]
    },
    {
     "name": "stdout",
     "output_type": "stream",
     "text": [
      "2425:\tlearn: 0.8287200\ttest: 0.7998087\tbest: 0.8000487 (2345)\ttotal: 8m\tremaining: 4m 51s\n"
     ]
    },
    {
     "name": "stdout",
     "output_type": "stream",
     "text": [
      "2450:\tlearn: 0.8291362\ttest: 0.7996453\tbest: 0.8000487 (2345)\ttotal: 8m 5s\tremaining: 4m 46s\n"
     ]
    },
    {
     "name": "stdout",
     "output_type": "stream",
     "text": [
      "2475:\tlearn: 0.8296856\ttest: 0.7991948\tbest: 0.8000487 (2345)\ttotal: 8m 10s\tremaining: 4m 41s\n"
     ]
    },
    {
     "name": "stdout",
     "output_type": "stream",
     "text": [
      "2500:\tlearn: 0.8298776\ttest: 0.7994977\tbest: 0.8000487 (2345)\ttotal: 8m 14s\tremaining: 4m 36s\n"
     ]
    },
    {
     "name": "stdout",
     "output_type": "stream",
     "text": [
      "2525:\tlearn: 0.8301851\ttest: 0.7995921\tbest: 0.8000487 (2345)\ttotal: 8m 19s\tremaining: 4m 31s\n"
     ]
    },
    {
     "name": "stdout",
     "output_type": "stream",
     "text": [
      "2550:\tlearn: 0.8306257\ttest: 0.7997297\tbest: 0.8000487 (2345)\ttotal: 8m 24s\tremaining: 4m 26s\n"
     ]
    },
    {
     "name": "stdout",
     "output_type": "stream",
     "text": [
      "2575:\tlearn: 0.8310143\ttest: 0.7997996\tbest: 0.8000487 (2345)\ttotal: 8m 29s\tremaining: 4m 22s\n"
     ]
    },
    {
     "name": "stdout",
     "output_type": "stream",
     "text": [
      "2600:\tlearn: 0.8314495\ttest: 0.7999098\tbest: 0.8001356 (2584)\ttotal: 8m 34s\tremaining: 4m 17s\n"
     ]
    },
    {
     "name": "stdout",
     "output_type": "stream",
     "text": [
      "2625:\tlearn: 0.8318487\ttest: 0.7998079\tbest: 0.8001356 (2584)\ttotal: 8m 39s\tremaining: 4m 12s\n"
     ]
    },
    {
     "name": "stdout",
     "output_type": "stream",
     "text": [
      "2650:\tlearn: 0.8323060\ttest: 0.7999211\tbest: 0.8001356 (2584)\ttotal: 8m 44s\tremaining: 4m 7s\n"
     ]
    },
    {
     "name": "stdout",
     "output_type": "stream",
     "text": [
      "2675:\tlearn: 0.8326408\ttest: 0.7999593\tbest: 0.8001356 (2584)\ttotal: 8m 49s\tremaining: 4m 2s\n"
     ]
    },
    {
     "name": "stdout",
     "output_type": "stream",
     "text": [
      "2700:\tlearn: 0.8329189\ttest: 0.7991777\tbest: 0.8001356 (2584)\ttotal: 8m 54s\tremaining: 3m 57s\n"
     ]
    },
    {
     "name": "stdout",
     "output_type": "stream",
     "text": [
      "2725:\tlearn: 0.8334088\ttest: 0.7995419\tbest: 0.8001356 (2584)\ttotal: 8m 59s\tremaining: 3m 52s\n"
     ]
    },
    {
     "name": "stdout",
     "output_type": "stream",
     "text": [
      "2750:\tlearn: 0.8338706\ttest: 0.7995689\tbest: 0.8001356 (2584)\ttotal: 9m 4s\tremaining: 3m 47s\n"
     ]
    },
    {
     "name": "stdout",
     "output_type": "stream",
     "text": [
      "2775:\tlearn: 0.8343422\ttest: 0.7998924\tbest: 0.8001356 (2584)\ttotal: 9m 9s\tremaining: 3m 42s\n"
     ]
    },
    {
     "name": "stdout",
     "output_type": "stream",
     "text": [
      "2800:\tlearn: 0.8347338\ttest: 0.7995585\tbest: 0.8001356 (2584)\ttotal: 9m 14s\tremaining: 3m 37s\n"
     ]
    },
    {
     "name": "stdout",
     "output_type": "stream",
     "text": [
      "2825:\tlearn: 0.8351625\ttest: 0.7996060\tbest: 0.8001356 (2584)\ttotal: 9m 19s\tremaining: 3m 32s\n"
     ]
    },
    {
     "name": "stdout",
     "output_type": "stream",
     "text": [
      "2850:\tlearn: 0.8355205\ttest: 0.7996899\tbest: 0.8001356 (2584)\ttotal: 9m 24s\tremaining: 3m 27s\n"
     ]
    },
    {
     "name": "stdout",
     "output_type": "stream",
     "text": [
      "2875:\tlearn: 0.8359218\ttest: 0.7994166\tbest: 0.8001356 (2584)\ttotal: 9m 28s\tremaining: 3m 22s\n"
     ]
    },
    {
     "name": "stdout",
     "output_type": "stream",
     "text": [
      "2900:\tlearn: 0.8360760\ttest: 0.7996560\tbest: 0.8001356 (2584)\ttotal: 9m 33s\tremaining: 3m 17s\n"
     ]
    },
    {
     "name": "stdout",
     "output_type": "stream",
     "text": [
      "2925:\tlearn: 0.8365577\ttest: 0.7995981\tbest: 0.8001356 (2584)\ttotal: 9m 38s\tremaining: 3m 12s\n"
     ]
    },
    {
     "name": "stdout",
     "output_type": "stream",
     "text": [
      "2950:\tlearn: 0.8368216\ttest: 0.7999554\tbest: 0.8001356 (2584)\ttotal: 9m 43s\tremaining: 3m 7s\n"
     ]
    },
    {
     "name": "stdout",
     "output_type": "stream",
     "text": [
      "2975:\tlearn: 0.8370289\ttest: 0.7995159\tbest: 0.8001356 (2584)\ttotal: 9m 48s\tremaining: 3m 2s\n"
     ]
    },
    {
     "name": "stdout",
     "output_type": "stream",
     "text": [
      "3000:\tlearn: 0.8373843\ttest: 0.7999188\tbest: 0.8001356 (2584)\ttotal: 9m 53s\tremaining: 2m 57s\n"
     ]
    },
    {
     "name": "stdout",
     "output_type": "stream",
     "text": [
      "3025:\tlearn: 0.8377152\ttest: 0.7995882\tbest: 0.8001356 (2584)\ttotal: 9m 58s\tremaining: 2m 52s\n"
     ]
    },
    {
     "name": "stdout",
     "output_type": "stream",
     "text": [
      "3050:\tlearn: 0.8379654\ttest: 0.7994572\tbest: 0.8001356 (2584)\ttotal: 10m 3s\tremaining: 2m 47s\n"
     ]
    },
    {
     "name": "stdout",
     "output_type": "stream",
     "text": [
      "3075:\tlearn: 0.8383750\ttest: 0.7994633\tbest: 0.8001356 (2584)\ttotal: 10m 8s\tremaining: 2m 43s\n"
     ]
    },
    {
     "name": "stdout",
     "output_type": "stream",
     "text": [
      "3100:\tlearn: 0.8388292\ttest: 0.7992747\tbest: 0.8001356 (2584)\ttotal: 10m 13s\tremaining: 2m 38s\n"
     ]
    },
    {
     "name": "stdout",
     "output_type": "stream",
     "text": [
      "3125:\tlearn: 0.8393010\ttest: 0.7997387\tbest: 0.8001356 (2584)\ttotal: 10m 18s\tremaining: 2m 33s\n"
     ]
    },
    {
     "name": "stdout",
     "output_type": "stream",
     "text": [
      "3150:\tlearn: 0.8397000\ttest: 0.7994471\tbest: 0.8001356 (2584)\ttotal: 10m 23s\tremaining: 2m 28s\n"
     ]
    },
    {
     "name": "stdout",
     "output_type": "stream",
     "text": [
      "3175:\tlearn: 0.8401182\ttest: 0.7996707\tbest: 0.8001356 (2584)\ttotal: 10m 28s\tremaining: 2m 23s\n"
     ]
    },
    {
     "name": "stdout",
     "output_type": "stream",
     "text": [
      "3200:\tlearn: 0.8404317\ttest: 0.7994268\tbest: 0.8001356 (2584)\ttotal: 10m 33s\tremaining: 2m 18s\n"
     ]
    },
    {
     "name": "stdout",
     "output_type": "stream",
     "text": [
      "3225:\tlearn: 0.8411040\ttest: 0.7993560\tbest: 0.8001356 (2584)\ttotal: 10m 38s\tremaining: 2m 13s\n"
     ]
    },
    {
     "name": "stdout",
     "output_type": "stream",
     "text": [
      "3250:\tlearn: 0.8413740\ttest: 0.7992121\tbest: 0.8001356 (2584)\ttotal: 10m 43s\tremaining: 2m 8s\n"
     ]
    },
    {
     "name": "stdout",
     "output_type": "stream",
     "text": [
      "3275:\tlearn: 0.8417000\ttest: 0.7996187\tbest: 0.8001356 (2584)\ttotal: 10m 48s\tremaining: 2m 3s\n"
     ]
    },
    {
     "name": "stdout",
     "output_type": "stream",
     "text": [
      "3300:\tlearn: 0.8422906\ttest: 0.7993900\tbest: 0.8001356 (2584)\ttotal: 10m 53s\tremaining: 1m 58s\n"
     ]
    },
    {
     "name": "stdout",
     "output_type": "stream",
     "text": [
      "3325:\tlearn: 0.8425692\ttest: 0.7996057\tbest: 0.8001356 (2584)\ttotal: 10m 57s\tremaining: 1m 53s\n"
     ]
    },
    {
     "name": "stdout",
     "output_type": "stream",
     "text": [
      "3350:\tlearn: 0.8429239\ttest: 0.7993401\tbest: 0.8001356 (2584)\ttotal: 11m 2s\tremaining: 1m 48s\n"
     ]
    },
    {
     "name": "stdout",
     "output_type": "stream",
     "text": [
      "3375:\tlearn: 0.8434231\ttest: 0.7993446\tbest: 0.8001356 (2584)\ttotal: 11m 7s\tremaining: 1m 43s\n"
     ]
    },
    {
     "name": "stdout",
     "output_type": "stream",
     "text": [
      "3400:\tlearn: 0.8438483\ttest: 0.7991334\tbest: 0.8001356 (2584)\ttotal: 11m 12s\tremaining: 1m 38s\n"
     ]
    },
    {
     "name": "stdout",
     "output_type": "stream",
     "text": [
      "3425:\tlearn: 0.8441579\ttest: 0.7996245\tbest: 0.8001356 (2584)\ttotal: 11m 17s\tremaining: 1m 33s\n"
     ]
    },
    {
     "name": "stdout",
     "output_type": "stream",
     "text": [
      "3450:\tlearn: 0.8445115\ttest: 0.7996235\tbest: 0.8001356 (2584)\ttotal: 11m 22s\tremaining: 1m 28s\n"
     ]
    },
    {
     "name": "stdout",
     "output_type": "stream",
     "text": [
      "3475:\tlearn: 0.8448212\ttest: 0.7995805\tbest: 0.8001356 (2584)\ttotal: 11m 27s\tremaining: 1m 23s\n"
     ]
    },
    {
     "name": "stdout",
     "output_type": "stream",
     "text": [
      "3500:\tlearn: 0.8451587\ttest: 0.7995410\tbest: 0.8001356 (2584)\ttotal: 11m 32s\tremaining: 1m 18s\n"
     ]
    },
    {
     "name": "stdout",
     "output_type": "stream",
     "text": [
      "3525:\tlearn: 0.8456313\ttest: 0.7996263\tbest: 0.8001356 (2584)\ttotal: 11m 37s\tremaining: 1m 14s\n"
     ]
    },
    {
     "name": "stdout",
     "output_type": "stream",
     "text": [
      "3550:\tlearn: 0.8459299\ttest: 0.7993939\tbest: 0.8001356 (2584)\ttotal: 11m 42s\tremaining: 1m 9s\n"
     ]
    },
    {
     "name": "stdout",
     "output_type": "stream",
     "text": [
      "3575:\tlearn: 0.8461545\ttest: 0.7994823\tbest: 0.8001356 (2584)\ttotal: 11m 47s\tremaining: 1m 4s\n"
     ]
    },
    {
     "name": "stdout",
     "output_type": "stream",
     "text": [
      "3600:\tlearn: 0.8464500\ttest: 0.7995324\tbest: 0.8001356 (2584)\ttotal: 11m 52s\tremaining: 59.2s\n"
     ]
    },
    {
     "name": "stdout",
     "output_type": "stream",
     "text": [
      "3625:\tlearn: 0.8467168\ttest: 0.7992416\tbest: 0.8001356 (2584)\ttotal: 11m 57s\tremaining: 54.2s\n"
     ]
    },
    {
     "name": "stdout",
     "output_type": "stream",
     "text": [
      "3650:\tlearn: 0.8470503\ttest: 0.7997724\tbest: 0.8001356 (2584)\ttotal: 12m 2s\tremaining: 49.3s\n"
     ]
    },
    {
     "name": "stdout",
     "output_type": "stream",
     "text": [
      "3675:\tlearn: 0.8474094\ttest: 0.7992717\tbest: 0.8001356 (2584)\ttotal: 12m 7s\tremaining: 44.3s\n"
     ]
    },
    {
     "name": "stdout",
     "output_type": "stream",
     "text": [
      "3700:\tlearn: 0.8476645\ttest: 0.7992658\tbest: 0.8001356 (2584)\ttotal: 12m 12s\tremaining: 39.4s\n"
     ]
    },
    {
     "name": "stdout",
     "output_type": "stream",
     "text": [
      "3725:\tlearn: 0.8481449\ttest: 0.7993059\tbest: 0.8001356 (2584)\ttotal: 12m 17s\tremaining: 34.4s\n"
     ]
    },
    {
     "name": "stdout",
     "output_type": "stream",
     "text": [
      "3750:\tlearn: 0.8483284\ttest: 0.7994126\tbest: 0.8001356 (2584)\ttotal: 12m 22s\tremaining: 29.5s\n"
     ]
    },
    {
     "name": "stdout",
     "output_type": "stream",
     "text": [
      "3775:\tlearn: 0.8487663\ttest: 0.7989731\tbest: 0.8001356 (2584)\ttotal: 12m 26s\tremaining: 24.5s\n"
     ]
    },
    {
     "name": "stdout",
     "output_type": "stream",
     "text": [
      "3800:\tlearn: 0.8490813\ttest: 0.7988494\tbest: 0.8001356 (2584)\ttotal: 12m 31s\tremaining: 19.6s\n"
     ]
    },
    {
     "name": "stdout",
     "output_type": "stream",
     "text": [
      "3825:\tlearn: 0.8495081\ttest: 0.7988535\tbest: 0.8001356 (2584)\ttotal: 12m 36s\tremaining: 14.6s\n"
     ]
    },
    {
     "name": "stdout",
     "output_type": "stream",
     "text": [
      "3850:\tlearn: 0.8497818\ttest: 0.7989164\tbest: 0.8001356 (2584)\ttotal: 12m 41s\tremaining: 9.69s\n"
     ]
    },
    {
     "name": "stdout",
     "output_type": "stream",
     "text": [
      "3875:\tlearn: 0.8500674\ttest: 0.7986638\tbest: 0.8001356 (2584)\ttotal: 12m 46s\tremaining: 4.75s\n"
     ]
    },
    {
     "name": "stdout",
     "output_type": "stream",
     "text": [
      "3899:\tlearn: 0.8503699\ttest: 0.7991890\tbest: 0.8001356 (2584)\ttotal: 12m 51s\tremaining: 0us\n",
      "\n",
      "bestTest = 0.8001355837\n",
      "bestIteration = 2584\n",
      "\n"
     ]
    },
    {
     "name": "stdout",
     "output_type": "stream",
     "text": [
      "Training time: 65.17340507904689 min.\n"
     ]
    },
    {
     "name": "stdout",
     "output_type": "stream",
     "text": [
      "OOF recall_at4: 0.6629834719089777\n"
     ]
    },
    {
     "name": "stdout",
     "output_type": "stream",
     "text": [
      "OOF normalized_gini: 0.9240585946669035\n"
     ]
    },
    {
     "name": "stdout",
     "output_type": "stream",
     "text": [
      "OOF competition metric: 0.7935210332879405\n"
     ]
    },
    {
     "name": "stdout",
     "output_type": "stream",
     "text": [
      "############################### repeated cross-validation step: 2/3 ################################\n"
     ]
    },
    {
     "name": "stdout",
     "output_type": "stream",
     "text": [
      "######################################## training model 1/5 ########################################\n"
     ]
    },
    {
     "name": "stdout",
     "output_type": "stream",
     "text": [
      "0:\tlearn: 0.6033242\ttest: 0.6065733\tbest: 0.6065733 (0)\ttotal: 513ms\tremaining: 33m 21s\n"
     ]
    },
    {
     "name": "stdout",
     "output_type": "stream",
     "text": [
      "25:\tlearn: 0.7353189\ttest: 0.7367371\tbest: 0.7367371 (25)\ttotal: 5.23s\tremaining: 12m 59s\n"
     ]
    },
    {
     "name": "stdout",
     "output_type": "stream",
     "text": [
      "50:\tlearn: 0.7513166\ttest: 0.7539368\tbest: 0.7539368 (50)\ttotal: 10.2s\tremaining: 12m 47s\n"
     ]
    },
    {
     "name": "stdout",
     "output_type": "stream",
     "text": [
      "75:\tlearn: 0.7577884\ttest: 0.7603591\tbest: 0.7603591 (75)\ttotal: 15.2s\tremaining: 12m 42s\n"
     ]
    },
    {
     "name": "stdout",
     "output_type": "stream",
     "text": [
      "100:\tlearn: 0.7613836\ttest: 0.7651267\tbest: 0.7651267 (100)\ttotal: 20.1s\tremaining: 12m 37s\n"
     ]
    },
    {
     "name": "stdout",
     "output_type": "stream",
     "text": [
      "125:\tlearn: 0.7645682\ttest: 0.7674982\tbest: 0.7676825 (123)\ttotal: 25.1s\tremaining: 12m 32s\n"
     ]
    },
    {
     "name": "stdout",
     "output_type": "stream",
     "text": [
      "150:\tlearn: 0.7671775\ttest: 0.7703234\tbest: 0.7703234 (150)\ttotal: 30.1s\tremaining: 12m 27s\n"
     ]
    },
    {
     "name": "stdout",
     "output_type": "stream",
     "text": [
      "175:\tlearn: 0.7689149\ttest: 0.7722674\tbest: 0.7722772 (169)\ttotal: 35.1s\tremaining: 12m 21s\n"
     ]
    },
    {
     "name": "stdout",
     "output_type": "stream",
     "text": [
      "200:\tlearn: 0.7711105\ttest: 0.7740180\tbest: 0.7740180 (200)\ttotal: 40s\tremaining: 12m 15s\n"
     ]
    },
    {
     "name": "stdout",
     "output_type": "stream",
     "text": [
      "225:\tlearn: 0.7730417\ttest: 0.7754983\tbest: 0.7756655 (216)\ttotal: 45s\tremaining: 12m 10s\n"
     ]
    },
    {
     "name": "stdout",
     "output_type": "stream",
     "text": [
      "250:\tlearn: 0.7743130\ttest: 0.7769953\tbest: 0.7772482 (246)\ttotal: 49.9s\tremaining: 12m 5s\n"
     ]
    },
    {
     "name": "stdout",
     "output_type": "stream",
     "text": [
      "275:\tlearn: 0.7769023\ttest: 0.7798020\tbest: 0.7798020 (275)\ttotal: 54.8s\tremaining: 12m\n"
     ]
    },
    {
     "name": "stdout",
     "output_type": "stream",
     "text": [
      "300:\tlearn: 0.7799108\ttest: 0.7816850\tbest: 0.7816850 (300)\ttotal: 59.9s\tremaining: 11m 55s\n"
     ]
    },
    {
     "name": "stdout",
     "output_type": "stream",
     "text": [
      "325:\tlearn: 0.7812097\ttest: 0.7835785\tbest: 0.7837800 (322)\ttotal: 1m 4s\tremaining: 11m 49s\n"
     ]
    },
    {
     "name": "stdout",
     "output_type": "stream",
     "text": [
      "350:\tlearn: 0.7828115\ttest: 0.7849465\tbest: 0.7850003 (348)\ttotal: 1m 9s\tremaining: 11m 44s\n"
     ]
    },
    {
     "name": "stdout",
     "output_type": "stream",
     "text": [
      "375:\tlearn: 0.7842568\ttest: 0.7860522\tbest: 0.7861432 (374)\ttotal: 1m 14s\tremaining: 11m 39s\n"
     ]
    },
    {
     "name": "stdout",
     "output_type": "stream",
     "text": [
      "400:\tlearn: 0.7857564\ttest: 0.7872550\tbest: 0.7873748 (399)\ttotal: 1m 19s\tremaining: 11m 34s\n"
     ]
    },
    {
     "name": "stdout",
     "output_type": "stream",
     "text": [
      "425:\tlearn: 0.7870337\ttest: 0.7879769\tbest: 0.7881019 (422)\ttotal: 1m 24s\tremaining: 11m 29s\n"
     ]
    },
    {
     "name": "stdout",
     "output_type": "stream",
     "text": [
      "450:\tlearn: 0.7881572\ttest: 0.7884372\tbest: 0.7885053 (435)\ttotal: 1m 29s\tremaining: 11m 25s\n"
     ]
    },
    {
     "name": "stdout",
     "output_type": "stream",
     "text": [
      "475:\tlearn: 0.7890576\ttest: 0.7890632\tbest: 0.7893765 (471)\ttotal: 1m 34s\tremaining: 11m 20s\n"
     ]
    },
    {
     "name": "stdout",
     "output_type": "stream",
     "text": [
      "500:\tlearn: 0.7900841\ttest: 0.7903153\tbest: 0.7903153 (500)\ttotal: 1m 39s\tremaining: 11m 15s\n"
     ]
    },
    {
     "name": "stdout",
     "output_type": "stream",
     "text": [
      "525:\tlearn: 0.7909705\ttest: 0.7901785\tbest: 0.7904476 (501)\ttotal: 1m 44s\tremaining: 11m 10s\n"
     ]
    },
    {
     "name": "stdout",
     "output_type": "stream",
     "text": [
      "550:\tlearn: 0.7917493\ttest: 0.7904900\tbest: 0.7904900 (550)\ttotal: 1m 49s\tremaining: 11m 4s\n"
     ]
    },
    {
     "name": "stdout",
     "output_type": "stream",
     "text": [
      "575:\tlearn: 0.7923688\ttest: 0.7910362\tbest: 0.7910549 (574)\ttotal: 1m 54s\tremaining: 11m\n"
     ]
    },
    {
     "name": "stdout",
     "output_type": "stream",
     "text": [
      "600:\tlearn: 0.7932106\ttest: 0.7911066\tbest: 0.7913534 (587)\ttotal: 1m 59s\tremaining: 10m 55s\n"
     ]
    },
    {
     "name": "stdout",
     "output_type": "stream",
     "text": [
      "625:\tlearn: 0.7939266\ttest: 0.7913617\tbest: 0.7914784 (616)\ttotal: 2m 4s\tremaining: 10m 49s\n"
     ]
    },
    {
     "name": "stdout",
     "output_type": "stream",
     "text": [
      "650:\tlearn: 0.7945381\ttest: 0.7916859\tbest: 0.7918689 (647)\ttotal: 2m 9s\tremaining: 10m 44s\n"
     ]
    },
    {
     "name": "stdout",
     "output_type": "stream",
     "text": [
      "675:\tlearn: 0.7951681\ttest: 0.7918644\tbest: 0.7918689 (647)\ttotal: 2m 14s\tremaining: 10m 39s\n"
     ]
    },
    {
     "name": "stdout",
     "output_type": "stream",
     "text": [
      "700:\tlearn: 0.7960230\ttest: 0.7915497\tbest: 0.7918689 (647)\ttotal: 2m 19s\tremaining: 10m 34s\n"
     ]
    },
    {
     "name": "stdout",
     "output_type": "stream",
     "text": [
      "725:\tlearn: 0.7968072\ttest: 0.7914943\tbest: 0.7918689 (647)\ttotal: 2m 24s\tremaining: 10m 29s\n"
     ]
    },
    {
     "name": "stdout",
     "output_type": "stream",
     "text": [
      "750:\tlearn: 0.7973404\ttest: 0.7913952\tbest: 0.7918689 (647)\ttotal: 2m 29s\tremaining: 10m 24s\n"
     ]
    },
    {
     "name": "stdout",
     "output_type": "stream",
     "text": [
      "775:\tlearn: 0.7978044\ttest: 0.7908140\tbest: 0.7918689 (647)\ttotal: 2m 33s\tremaining: 10m 19s\n"
     ]
    },
    {
     "name": "stdout",
     "output_type": "stream",
     "text": [
      "800:\tlearn: 0.7984496\ttest: 0.7910918\tbest: 0.7918689 (647)\ttotal: 2m 38s\tremaining: 10m 14s\n"
     ]
    },
    {
     "name": "stdout",
     "output_type": "stream",
     "text": [
      "825:\tlearn: 0.7992032\ttest: 0.7913219\tbest: 0.7918689 (647)\ttotal: 2m 43s\tremaining: 10m 9s\n"
     ]
    },
    {
     "name": "stdout",
     "output_type": "stream",
     "text": [
      "850:\tlearn: 0.7998867\ttest: 0.7916695\tbest: 0.7920870 (848)\ttotal: 2m 48s\tremaining: 10m 4s\n"
     ]
    },
    {
     "name": "stdout",
     "output_type": "stream",
     "text": [
      "875:\tlearn: 0.8003635\ttest: 0.7920230\tbest: 0.7921680 (873)\ttotal: 2m 53s\tremaining: 9m 59s\n"
     ]
    },
    {
     "name": "stdout",
     "output_type": "stream",
     "text": [
      "900:\tlearn: 0.8011072\ttest: 0.7921771\tbest: 0.7924910 (898)\ttotal: 2m 58s\tremaining: 9m 54s\n"
     ]
    },
    {
     "name": "stdout",
     "output_type": "stream",
     "text": [
      "925:\tlearn: 0.8014689\ttest: 0.7924660\tbest: 0.7925380 (920)\ttotal: 3m 3s\tremaining: 9m 49s\n"
     ]
    },
    {
     "name": "stdout",
     "output_type": "stream",
     "text": [
      "950:\tlearn: 0.8022211\ttest: 0.7925657\tbest: 0.7928142 (936)\ttotal: 3m 8s\tremaining: 9m 44s\n"
     ]
    },
    {
     "name": "stdout",
     "output_type": "stream",
     "text": [
      "975:\tlearn: 0.8028408\ttest: 0.7927435\tbest: 0.7928142 (936)\ttotal: 3m 13s\tremaining: 9m 39s\n"
     ]
    },
    {
     "name": "stdout",
     "output_type": "stream",
     "text": [
      "1000:\tlearn: 0.8030081\ttest: 0.7926742\tbest: 0.7928364 (993)\ttotal: 3m 18s\tremaining: 9m 34s\n"
     ]
    },
    {
     "name": "stdout",
     "output_type": "stream",
     "text": [
      "1025:\tlearn: 0.8035011\ttest: 0.7931243\tbest: 0.7931580 (1016)\ttotal: 3m 23s\tremaining: 9m 29s\n"
     ]
    },
    {
     "name": "stdout",
     "output_type": "stream",
     "text": [
      "1050:\tlearn: 0.8041178\ttest: 0.7928242\tbest: 0.7932051 (1039)\ttotal: 3m 28s\tremaining: 9m 24s\n"
     ]
    },
    {
     "name": "stdout",
     "output_type": "stream",
     "text": [
      "1075:\tlearn: 0.8047353\ttest: 0.7931021\tbest: 0.7932618 (1063)\ttotal: 3m 33s\tremaining: 9m 19s\n"
     ]
    },
    {
     "name": "stdout",
     "output_type": "stream",
     "text": [
      "1100:\tlearn: 0.8051981\ttest: 0.7929781\tbest: 0.7933720 (1091)\ttotal: 3m 38s\tremaining: 9m 14s\n"
     ]
    },
    {
     "name": "stdout",
     "output_type": "stream",
     "text": [
      "1125:\tlearn: 0.8056803\ttest: 0.7931233\tbest: 0.7933720 (1091)\ttotal: 3m 43s\tremaining: 9m 9s\n"
     ]
    },
    {
     "name": "stdout",
     "output_type": "stream",
     "text": [
      "1150:\tlearn: 0.8062024\ttest: 0.7937530\tbest: 0.7937530 (1150)\ttotal: 3m 48s\tremaining: 9m 4s\n"
     ]
    },
    {
     "name": "stdout",
     "output_type": "stream",
     "text": [
      "1175:\tlearn: 0.8066536\ttest: 0.7936749\tbest: 0.7941667 (1165)\ttotal: 3m 53s\tremaining: 8m 59s\n"
     ]
    },
    {
     "name": "stdout",
     "output_type": "stream",
     "text": [
      "1200:\tlearn: 0.8072786\ttest: 0.7935860\tbest: 0.7941667 (1165)\ttotal: 3m 57s\tremaining: 8m 54s\n"
     ]
    },
    {
     "name": "stdout",
     "output_type": "stream",
     "text": [
      "1225:\tlearn: 0.8078057\ttest: 0.7941882\tbest: 0.7941882 (1225)\ttotal: 4m 2s\tremaining: 8m 49s\n"
     ]
    },
    {
     "name": "stdout",
     "output_type": "stream",
     "text": [
      "1250:\tlearn: 0.8083659\ttest: 0.7939943\tbest: 0.7941882 (1225)\ttotal: 4m 7s\tremaining: 8m 44s\n"
     ]
    },
    {
     "name": "stdout",
     "output_type": "stream",
     "text": [
      "1275:\tlearn: 0.8088686\ttest: 0.7939233\tbest: 0.7942512 (1260)\ttotal: 4m 12s\tremaining: 8m 39s\n"
     ]
    },
    {
     "name": "stdout",
     "output_type": "stream",
     "text": [
      "1300:\tlearn: 0.8092996\ttest: 0.7942852\tbest: 0.7942852 (1300)\ttotal: 4m 17s\tremaining: 8m 34s\n"
     ]
    },
    {
     "name": "stdout",
     "output_type": "stream",
     "text": [
      "1325:\tlearn: 0.8099706\ttest: 0.7935219\tbest: 0.7942855 (1302)\ttotal: 4m 22s\tremaining: 8m 29s\n"
     ]
    },
    {
     "name": "stdout",
     "output_type": "stream",
     "text": [
      "1350:\tlearn: 0.8105222\ttest: 0.7939148\tbest: 0.7942855 (1302)\ttotal: 4m 27s\tremaining: 8m 25s\n"
     ]
    },
    {
     "name": "stdout",
     "output_type": "stream",
     "text": [
      "1375:\tlearn: 0.8109301\ttest: 0.7946252\tbest: 0.7946272 (1374)\ttotal: 4m 32s\tremaining: 8m 20s\n"
     ]
    },
    {
     "name": "stdout",
     "output_type": "stream",
     "text": [
      "1400:\tlearn: 0.8114197\ttest: 0.7947852\tbest: 0.7947852 (1400)\ttotal: 4m 37s\tremaining: 8m 15s\n"
     ]
    },
    {
     "name": "stdout",
     "output_type": "stream",
     "text": [
      "1425:\tlearn: 0.8116735\ttest: 0.7947850\tbest: 0.7950225 (1404)\ttotal: 4m 42s\tremaining: 8m 10s\n"
     ]
    },
    {
     "name": "stdout",
     "output_type": "stream",
     "text": [
      "1450:\tlearn: 0.8121579\ttest: 0.7945955\tbest: 0.7950225 (1404)\ttotal: 4m 47s\tremaining: 8m 5s\n"
     ]
    },
    {
     "name": "stdout",
     "output_type": "stream",
     "text": [
      "1475:\tlearn: 0.8126552\ttest: 0.7944236\tbest: 0.7950225 (1404)\ttotal: 4m 52s\tremaining: 8m\n"
     ]
    },
    {
     "name": "stdout",
     "output_type": "stream",
     "text": [
      "1500:\tlearn: 0.8133304\ttest: 0.7951686\tbest: 0.7952519 (1499)\ttotal: 4m 57s\tremaining: 7m 55s\n"
     ]
    },
    {
     "name": "stdout",
     "output_type": "stream",
     "text": [
      "1525:\tlearn: 0.8137729\ttest: 0.7948688\tbest: 0.7952524 (1502)\ttotal: 5m 2s\tremaining: 7m 50s\n"
     ]
    },
    {
     "name": "stdout",
     "output_type": "stream",
     "text": [
      "1550:\tlearn: 0.8142075\ttest: 0.7953872\tbest: 0.7954487 (1541)\ttotal: 5m 7s\tremaining: 7m 45s\n"
     ]
    },
    {
     "name": "stdout",
     "output_type": "stream",
     "text": [
      "1575:\tlearn: 0.8145653\ttest: 0.7955963\tbest: 0.7956938 (1565)\ttotal: 5m 12s\tremaining: 7m 40s\n"
     ]
    },
    {
     "name": "stdout",
     "output_type": "stream",
     "text": [
      "1600:\tlearn: 0.8151513\ttest: 0.7957149\tbest: 0.7958207 (1599)\ttotal: 5m 17s\tremaining: 7m 35s\n"
     ]
    },
    {
     "name": "stdout",
     "output_type": "stream",
     "text": [
      "1625:\tlearn: 0.8158259\ttest: 0.7957408\tbest: 0.7959297 (1621)\ttotal: 5m 22s\tremaining: 7m 30s\n"
     ]
    },
    {
     "name": "stdout",
     "output_type": "stream",
     "text": [
      "1650:\tlearn: 0.8159593\ttest: 0.7959833\tbest: 0.7959833 (1650)\ttotal: 5m 27s\tremaining: 7m 25s\n"
     ]
    },
    {
     "name": "stdout",
     "output_type": "stream",
     "text": [
      "1675:\tlearn: 0.8163569\ttest: 0.7963344\tbest: 0.7963344 (1675)\ttotal: 5m 32s\tremaining: 7m 20s\n"
     ]
    },
    {
     "name": "stdout",
     "output_type": "stream",
     "text": [
      "1700:\tlearn: 0.8167534\ttest: 0.7961925\tbest: 0.7963758 (1676)\ttotal: 5m 36s\tremaining: 7m 15s\n"
     ]
    },
    {
     "name": "stdout",
     "output_type": "stream",
     "text": [
      "1725:\tlearn: 0.8171052\ttest: 0.7960405\tbest: 0.7963758 (1676)\ttotal: 5m 41s\tremaining: 7m 10s\n"
     ]
    },
    {
     "name": "stdout",
     "output_type": "stream",
     "text": [
      "1750:\tlearn: 0.8175736\ttest: 0.7957409\tbest: 0.7963758 (1676)\ttotal: 5m 46s\tremaining: 7m 5s\n"
     ]
    },
    {
     "name": "stdout",
     "output_type": "stream",
     "text": [
      "1775:\tlearn: 0.8178852\ttest: 0.7958744\tbest: 0.7963758 (1676)\ttotal: 5m 51s\tremaining: 7m\n"
     ]
    },
    {
     "name": "stdout",
     "output_type": "stream",
     "text": [
      "1800:\tlearn: 0.8185071\ttest: 0.7958290\tbest: 0.7963758 (1676)\ttotal: 5m 56s\tremaining: 6m 55s\n"
     ]
    },
    {
     "name": "stdout",
     "output_type": "stream",
     "text": [
      "1825:\tlearn: 0.8191004\ttest: 0.7958409\tbest: 0.7963758 (1676)\ttotal: 6m 1s\tremaining: 6m 50s\n"
     ]
    },
    {
     "name": "stdout",
     "output_type": "stream",
     "text": [
      "1850:\tlearn: 0.8194276\ttest: 0.7961009\tbest: 0.7963758 (1676)\ttotal: 6m 6s\tremaining: 6m 45s\n"
     ]
    },
    {
     "name": "stdout",
     "output_type": "stream",
     "text": [
      "1875:\tlearn: 0.8199053\ttest: 0.7959199\tbest: 0.7963758 (1676)\ttotal: 6m 11s\tremaining: 6m 40s\n"
     ]
    },
    {
     "name": "stdout",
     "output_type": "stream",
     "text": [
      "1900:\tlearn: 0.8204629\ttest: 0.7958628\tbest: 0.7963758 (1676)\ttotal: 6m 16s\tremaining: 6m 35s\n"
     ]
    },
    {
     "name": "stdout",
     "output_type": "stream",
     "text": [
      "1925:\tlearn: 0.8208562\ttest: 0.7961425\tbest: 0.7963758 (1676)\ttotal: 6m 21s\tremaining: 6m 30s\n"
     ]
    },
    {
     "name": "stdout",
     "output_type": "stream",
     "text": [
      "1950:\tlearn: 0.8211393\ttest: 0.7964168\tbest: 0.7966682 (1948)\ttotal: 6m 26s\tremaining: 6m 25s\n"
     ]
    },
    {
     "name": "stdout",
     "output_type": "stream",
     "text": [
      "1975:\tlearn: 0.8214700\ttest: 0.7966166\tbest: 0.7966682 (1948)\ttotal: 6m 31s\tremaining: 6m 20s\n"
     ]
    },
    {
     "name": "stdout",
     "output_type": "stream",
     "text": [
      "2000:\tlearn: 0.8219738\ttest: 0.7962489\tbest: 0.7966682 (1948)\ttotal: 6m 36s\tremaining: 6m 15s\n"
     ]
    },
    {
     "name": "stdout",
     "output_type": "stream",
     "text": [
      "2025:\tlearn: 0.8224139\ttest: 0.7962575\tbest: 0.7966682 (1948)\ttotal: 6m 41s\tremaining: 6m 10s\n"
     ]
    },
    {
     "name": "stdout",
     "output_type": "stream",
     "text": [
      "2050:\tlearn: 0.8227630\ttest: 0.7964762\tbest: 0.7966682 (1948)\ttotal: 6m 46s\tremaining: 6m 6s\n"
     ]
    },
    {
     "name": "stdout",
     "output_type": "stream",
     "text": [
      "2075:\tlearn: 0.8231766\ttest: 0.7959857\tbest: 0.7966682 (1948)\ttotal: 6m 51s\tremaining: 6m 1s\n"
     ]
    },
    {
     "name": "stdout",
     "output_type": "stream",
     "text": [
      "2100:\tlearn: 0.8236015\ttest: 0.7961344\tbest: 0.7966682 (1948)\ttotal: 6m 55s\tremaining: 5m 56s\n"
     ]
    },
    {
     "name": "stdout",
     "output_type": "stream",
     "text": [
      "2125:\tlearn: 0.8241079\ttest: 0.7961616\tbest: 0.7966682 (1948)\ttotal: 7m\tremaining: 5m 51s\n"
     ]
    },
    {
     "name": "stdout",
     "output_type": "stream",
     "text": [
      "2150:\tlearn: 0.8244581\ttest: 0.7960808\tbest: 0.7966682 (1948)\ttotal: 7m 5s\tremaining: 5m 46s\n"
     ]
    },
    {
     "name": "stdout",
     "output_type": "stream",
     "text": [
      "2175:\tlearn: 0.8248762\ttest: 0.7962131\tbest: 0.7966682 (1948)\ttotal: 7m 10s\tremaining: 5m 41s\n"
     ]
    },
    {
     "name": "stdout",
     "output_type": "stream",
     "text": [
      "2200:\tlearn: 0.8252423\ttest: 0.7964575\tbest: 0.7966682 (1948)\ttotal: 7m 15s\tremaining: 5m 36s\n"
     ]
    },
    {
     "name": "stdout",
     "output_type": "stream",
     "text": [
      "2225:\tlearn: 0.8257377\ttest: 0.7964242\tbest: 0.7966682 (1948)\ttotal: 7m 20s\tremaining: 5m 31s\n"
     ]
    },
    {
     "name": "stdout",
     "output_type": "stream",
     "text": [
      "2250:\tlearn: 0.8259110\ttest: 0.7963063\tbest: 0.7966682 (1948)\ttotal: 7m 25s\tremaining: 5m 26s\n"
     ]
    },
    {
     "name": "stdout",
     "output_type": "stream",
     "text": [
      "2275:\tlearn: 0.8265700\ttest: 0.7963968\tbest: 0.7966682 (1948)\ttotal: 7m 30s\tremaining: 5m 21s\n"
     ]
    },
    {
     "name": "stdout",
     "output_type": "stream",
     "text": [
      "2300:\tlearn: 0.8269980\ttest: 0.7964021\tbest: 0.7966682 (1948)\ttotal: 7m 35s\tremaining: 5m 16s\n"
     ]
    },
    {
     "name": "stdout",
     "output_type": "stream",
     "text": [
      "2325:\tlearn: 0.8272162\ttest: 0.7964067\tbest: 0.7966682 (1948)\ttotal: 7m 40s\tremaining: 5m 11s\n"
     ]
    },
    {
     "name": "stdout",
     "output_type": "stream",
     "text": [
      "2350:\tlearn: 0.8277309\ttest: 0.7962668\tbest: 0.7966682 (1948)\ttotal: 7m 45s\tremaining: 5m 6s\n"
     ]
    },
    {
     "name": "stdout",
     "output_type": "stream",
     "text": [
      "2375:\tlearn: 0.8281209\ttest: 0.7966520\tbest: 0.7967774 (2371)\ttotal: 7m 50s\tremaining: 5m 1s\n"
     ]
    },
    {
     "name": "stdout",
     "output_type": "stream",
     "text": [
      "2400:\tlearn: 0.8283614\ttest: 0.7964030\tbest: 0.7967774 (2371)\ttotal: 7m 55s\tremaining: 4m 56s\n"
     ]
    },
    {
     "name": "stdout",
     "output_type": "stream",
     "text": [
      "2425:\tlearn: 0.8288005\ttest: 0.7963025\tbest: 0.7967774 (2371)\ttotal: 8m\tremaining: 4m 51s\n"
     ]
    },
    {
     "name": "stdout",
     "output_type": "stream",
     "text": [
      "2450:\tlearn: 0.8292683\ttest: 0.7963545\tbest: 0.7967774 (2371)\ttotal: 8m 5s\tremaining: 4m 46s\n"
     ]
    },
    {
     "name": "stdout",
     "output_type": "stream",
     "text": [
      "2475:\tlearn: 0.8296696\ttest: 0.7964533\tbest: 0.7967774 (2371)\ttotal: 8m 10s\tremaining: 4m 41s\n"
     ]
    },
    {
     "name": "stdout",
     "output_type": "stream",
     "text": [
      "2500:\tlearn: 0.8300975\ttest: 0.7964600\tbest: 0.7967774 (2371)\ttotal: 8m 15s\tremaining: 4m 37s\n"
     ]
    },
    {
     "name": "stdout",
     "output_type": "stream",
     "text": [
      "2525:\tlearn: 0.8304879\ttest: 0.7963632\tbest: 0.7967774 (2371)\ttotal: 8m 20s\tremaining: 4m 32s\n"
     ]
    },
    {
     "name": "stdout",
     "output_type": "stream",
     "text": [
      "2550:\tlearn: 0.8308529\ttest: 0.7961359\tbest: 0.7967774 (2371)\ttotal: 8m 25s\tremaining: 4m 27s\n"
     ]
    },
    {
     "name": "stdout",
     "output_type": "stream",
     "text": [
      "2575:\tlearn: 0.8311943\ttest: 0.7963713\tbest: 0.7967774 (2371)\ttotal: 8m 30s\tremaining: 4m 22s\n"
     ]
    },
    {
     "name": "stdout",
     "output_type": "stream",
     "text": [
      "2600:\tlearn: 0.8315314\ttest: 0.7964592\tbest: 0.7967774 (2371)\ttotal: 8m 34s\tremaining: 4m 17s\n"
     ]
    },
    {
     "name": "stdout",
     "output_type": "stream",
     "text": [
      "2625:\tlearn: 0.8319916\ttest: 0.7966126\tbest: 0.7967774 (2371)\ttotal: 8m 40s\tremaining: 4m 12s\n"
     ]
    },
    {
     "name": "stdout",
     "output_type": "stream",
     "text": [
      "2650:\tlearn: 0.8324128\ttest: 0.7965149\tbest: 0.7967774 (2371)\ttotal: 8m 45s\tremaining: 4m 7s\n"
     ]
    },
    {
     "name": "stdout",
     "output_type": "stream",
     "text": [
      "2675:\tlearn: 0.8329062\ttest: 0.7966412\tbest: 0.7968964 (2671)\ttotal: 8m 49s\tremaining: 4m 2s\n"
     ]
    },
    {
     "name": "stdout",
     "output_type": "stream",
     "text": [
      "2700:\tlearn: 0.8330850\ttest: 0.7966677\tbest: 0.7968964 (2671)\ttotal: 8m 54s\tremaining: 3m 57s\n"
     ]
    },
    {
     "name": "stdout",
     "output_type": "stream",
     "text": [
      "2725:\tlearn: 0.8334512\ttest: 0.7967925\tbest: 0.7970494 (2708)\ttotal: 8m 59s\tremaining: 3m 52s\n"
     ]
    },
    {
     "name": "stdout",
     "output_type": "stream",
     "text": [
      "2750:\tlearn: 0.8337984\ttest: 0.7965679\tbest: 0.7970494 (2708)\ttotal: 9m 4s\tremaining: 3m 47s\n"
     ]
    },
    {
     "name": "stdout",
     "output_type": "stream",
     "text": [
      "2775:\tlearn: 0.8341444\ttest: 0.7968777\tbest: 0.7970494 (2708)\ttotal: 9m 9s\tremaining: 3m 42s\n"
     ]
    },
    {
     "name": "stdout",
     "output_type": "stream",
     "text": [
      "2800:\tlearn: 0.8345121\ttest: 0.7967484\tbest: 0.7970494 (2708)\ttotal: 9m 14s\tremaining: 3m 37s\n"
     ]
    },
    {
     "name": "stdout",
     "output_type": "stream",
     "text": [
      "2825:\tlearn: 0.8351270\ttest: 0.7970930\tbest: 0.7970930 (2825)\ttotal: 9m 19s\tremaining: 3m 32s\n"
     ]
    },
    {
     "name": "stdout",
     "output_type": "stream",
     "text": [
      "2850:\tlearn: 0.8354694\ttest: 0.7969466\tbest: 0.7971361 (2829)\ttotal: 9m 24s\tremaining: 3m 27s\n"
     ]
    },
    {
     "name": "stdout",
     "output_type": "stream",
     "text": [
      "2875:\tlearn: 0.8358147\ttest: 0.7967787\tbest: 0.7971361 (2829)\ttotal: 9m 29s\tremaining: 3m 22s\n"
     ]
    },
    {
     "name": "stdout",
     "output_type": "stream",
     "text": [
      "2900:\tlearn: 0.8362880\ttest: 0.7967380\tbest: 0.7971361 (2829)\ttotal: 9m 34s\tremaining: 3m 17s\n"
     ]
    },
    {
     "name": "stdout",
     "output_type": "stream",
     "text": [
      "2925:\tlearn: 0.8366031\ttest: 0.7969259\tbest: 0.7971361 (2829)\ttotal: 9m 39s\tremaining: 3m 12s\n"
     ]
    },
    {
     "name": "stdout",
     "output_type": "stream",
     "text": [
      "2950:\tlearn: 0.8368890\ttest: 0.7967792\tbest: 0.7971361 (2829)\ttotal: 9m 44s\tremaining: 3m 7s\n"
     ]
    },
    {
     "name": "stdout",
     "output_type": "stream",
     "text": [
      "2975:\tlearn: 0.8371129\ttest: 0.7969521\tbest: 0.7971361 (2829)\ttotal: 9m 49s\tremaining: 3m 2s\n"
     ]
    },
    {
     "name": "stdout",
     "output_type": "stream",
     "text": [
      "3000:\tlearn: 0.8374628\ttest: 0.7968474\tbest: 0.7971361 (2829)\ttotal: 9m 54s\tremaining: 2m 58s\n"
     ]
    },
    {
     "name": "stdout",
     "output_type": "stream",
     "text": [
      "3025:\tlearn: 0.8377701\ttest: 0.7969948\tbest: 0.7971361 (2829)\ttotal: 9m 59s\tremaining: 2m 53s\n"
     ]
    },
    {
     "name": "stdout",
     "output_type": "stream",
     "text": [
      "3050:\tlearn: 0.8381048\ttest: 0.7972094\tbest: 0.7972701 (3043)\ttotal: 10m 4s\tremaining: 2m 48s\n"
     ]
    },
    {
     "name": "stdout",
     "output_type": "stream",
     "text": [
      "3075:\tlearn: 0.8386252\ttest: 0.7968303\tbest: 0.7972701 (3043)\ttotal: 10m 9s\tremaining: 2m 43s\n"
     ]
    },
    {
     "name": "stdout",
     "output_type": "stream",
     "text": [
      "3100:\tlearn: 0.8389490\ttest: 0.7968959\tbest: 0.7972701 (3043)\ttotal: 10m 13s\tremaining: 2m 38s\n"
     ]
    },
    {
     "name": "stdout",
     "output_type": "stream",
     "text": [
      "3125:\tlearn: 0.8393215\ttest: 0.7969615\tbest: 0.7972701 (3043)\ttotal: 10m 18s\tremaining: 2m 33s\n"
     ]
    },
    {
     "name": "stdout",
     "output_type": "stream",
     "text": [
      "3150:\tlearn: 0.8397553\ttest: 0.7965643\tbest: 0.7972701 (3043)\ttotal: 10m 23s\tremaining: 2m 28s\n"
     ]
    },
    {
     "name": "stdout",
     "output_type": "stream",
     "text": [
      "3175:\tlearn: 0.8403561\ttest: 0.7969937\tbest: 0.7972701 (3043)\ttotal: 10m 28s\tremaining: 2m 23s\n"
     ]
    },
    {
     "name": "stdout",
     "output_type": "stream",
     "text": [
      "3200:\tlearn: 0.8407110\ttest: 0.7972283\tbest: 0.7973119 (3197)\ttotal: 10m 33s\tremaining: 2m 18s\n"
     ]
    },
    {
     "name": "stdout",
     "output_type": "stream",
     "text": [
      "3225:\tlearn: 0.8410357\ttest: 0.7969968\tbest: 0.7973119 (3197)\ttotal: 10m 38s\tremaining: 2m 13s\n"
     ]
    },
    {
     "name": "stdout",
     "output_type": "stream",
     "text": [
      "3250:\tlearn: 0.8414683\ttest: 0.7968935\tbest: 0.7973119 (3197)\ttotal: 10m 43s\tremaining: 2m 8s\n"
     ]
    },
    {
     "name": "stdout",
     "output_type": "stream",
     "text": [
      "3275:\tlearn: 0.8416950\ttest: 0.7967656\tbest: 0.7973119 (3197)\ttotal: 10m 48s\tremaining: 2m 3s\n"
     ]
    },
    {
     "name": "stdout",
     "output_type": "stream",
     "text": [
      "3300:\tlearn: 0.8422547\ttest: 0.7966170\tbest: 0.7973119 (3197)\ttotal: 10m 53s\tremaining: 1m 58s\n"
     ]
    },
    {
     "name": "stdout",
     "output_type": "stream",
     "text": [
      "3325:\tlearn: 0.8425893\ttest: 0.7965124\tbest: 0.7973119 (3197)\ttotal: 10m 58s\tremaining: 1m 53s\n"
     ]
    },
    {
     "name": "stdout",
     "output_type": "stream",
     "text": [
      "3350:\tlearn: 0.8430593\ttest: 0.7967088\tbest: 0.7973119 (3197)\ttotal: 11m 3s\tremaining: 1m 48s\n"
     ]
    },
    {
     "name": "stdout",
     "output_type": "stream",
     "text": [
      "3375:\tlearn: 0.8433885\ttest: 0.7967942\tbest: 0.7973119 (3197)\ttotal: 11m 8s\tremaining: 1m 43s\n"
     ]
    },
    {
     "name": "stdout",
     "output_type": "stream",
     "text": [
      "3400:\tlearn: 0.8438021\ttest: 0.7966671\tbest: 0.7973119 (3197)\ttotal: 11m 13s\tremaining: 1m 38s\n"
     ]
    },
    {
     "name": "stdout",
     "output_type": "stream",
     "text": [
      "3425:\tlearn: 0.8439864\ttest: 0.7967071\tbest: 0.7973119 (3197)\ttotal: 11m 18s\tremaining: 1m 33s\n"
     ]
    },
    {
     "name": "stdout",
     "output_type": "stream",
     "text": [
      "3450:\tlearn: 0.8443741\ttest: 0.7967671\tbest: 0.7973119 (3197)\ttotal: 11m 23s\tremaining: 1m 28s\n"
     ]
    },
    {
     "name": "stdout",
     "output_type": "stream",
     "text": [
      "3475:\tlearn: 0.8447278\ttest: 0.7967966\tbest: 0.7973119 (3197)\ttotal: 11m 28s\tremaining: 1m 23s\n"
     ]
    },
    {
     "name": "stdout",
     "output_type": "stream",
     "text": [
      "3500:\tlearn: 0.8451861\ttest: 0.7969954\tbest: 0.7973119 (3197)\ttotal: 11m 33s\tremaining: 1m 19s\n"
     ]
    },
    {
     "name": "stdout",
     "output_type": "stream",
     "text": [
      "3525:\tlearn: 0.8456265\ttest: 0.7969759\tbest: 0.7973119 (3197)\ttotal: 11m 38s\tremaining: 1m 14s\n"
     ]
    },
    {
     "name": "stdout",
     "output_type": "stream",
     "text": [
      "3550:\tlearn: 0.8461494\ttest: 0.7965806\tbest: 0.7973119 (3197)\ttotal: 11m 43s\tremaining: 1m 9s\n"
     ]
    },
    {
     "name": "stdout",
     "output_type": "stream",
     "text": [
      "3575:\tlearn: 0.8464045\ttest: 0.7965874\tbest: 0.7973119 (3197)\ttotal: 11m 48s\tremaining: 1m 4s\n"
     ]
    },
    {
     "name": "stdout",
     "output_type": "stream",
     "text": [
      "3600:\tlearn: 0.8467727\ttest: 0.7965885\tbest: 0.7973119 (3197)\ttotal: 11m 53s\tremaining: 59.2s\n"
     ]
    },
    {
     "name": "stdout",
     "output_type": "stream",
     "text": [
      "3625:\tlearn: 0.8470765\ttest: 0.7962106\tbest: 0.7973119 (3197)\ttotal: 11m 58s\tremaining: 54.3s\n"
     ]
    },
    {
     "name": "stdout",
     "output_type": "stream",
     "text": [
      "3650:\tlearn: 0.8474642\ttest: 0.7963847\tbest: 0.7973119 (3197)\ttotal: 12m 2s\tremaining: 49.3s\n"
     ]
    },
    {
     "name": "stdout",
     "output_type": "stream",
     "text": [
      "3675:\tlearn: 0.8477850\ttest: 0.7965343\tbest: 0.7973119 (3197)\ttotal: 12m 7s\tremaining: 44.3s\n"
     ]
    },
    {
     "name": "stdout",
     "output_type": "stream",
     "text": [
      "3700:\tlearn: 0.8480331\ttest: 0.7966231\tbest: 0.7973119 (3197)\ttotal: 12m 12s\tremaining: 39.4s\n"
     ]
    },
    {
     "name": "stdout",
     "output_type": "stream",
     "text": [
      "3725:\tlearn: 0.8482972\ttest: 0.7963701\tbest: 0.7973119 (3197)\ttotal: 12m 17s\tremaining: 34.4s\n"
     ]
    },
    {
     "name": "stdout",
     "output_type": "stream",
     "text": [
      "3750:\tlearn: 0.8486670\ttest: 0.7963264\tbest: 0.7973119 (3197)\ttotal: 12m 22s\tremaining: 29.5s\n"
     ]
    },
    {
     "name": "stdout",
     "output_type": "stream",
     "text": [
      "3775:\tlearn: 0.8490056\ttest: 0.7964153\tbest: 0.7973119 (3197)\ttotal: 12m 27s\tremaining: 24.6s\n"
     ]
    },
    {
     "name": "stdout",
     "output_type": "stream",
     "text": [
      "3800:\tlearn: 0.8493681\ttest: 0.7963978\tbest: 0.7973119 (3197)\ttotal: 12m 32s\tremaining: 19.6s\n"
     ]
    },
    {
     "name": "stdout",
     "output_type": "stream",
     "text": [
      "3825:\tlearn: 0.8496888\ttest: 0.7963803\tbest: 0.7973119 (3197)\ttotal: 12m 37s\tremaining: 14.7s\n"
     ]
    },
    {
     "name": "stdout",
     "output_type": "stream",
     "text": [
      "3850:\tlearn: 0.8501741\ttest: 0.7963419\tbest: 0.7973119 (3197)\ttotal: 12m 42s\tremaining: 9.7s\n"
     ]
    },
    {
     "name": "stdout",
     "output_type": "stream",
     "text": [
      "3875:\tlearn: 0.8505560\ttest: 0.7964446\tbest: 0.7973119 (3197)\ttotal: 12m 47s\tremaining: 4.75s\n"
     ]
    },
    {
     "name": "stdout",
     "output_type": "stream",
     "text": [
      "3899:\tlearn: 0.8507618\ttest: 0.7964078\tbest: 0.7973119 (3197)\ttotal: 12m 52s\tremaining: 0us\n",
      "\n",
      "bestTest = 0.7973119476\n",
      "bestIteration = 3197\n",
      "\n"
     ]
    },
    {
     "name": "stdout",
     "output_type": "stream",
     "text": [
      "######################################## training model 2/5 ########################################\n"
     ]
    },
    {
     "name": "stdout",
     "output_type": "stream",
     "text": [
      "0:\tlearn: 0.5500171\ttest: 0.5514792\tbest: 0.5514792 (0)\ttotal: 527ms\tremaining: 34m 12s\n"
     ]
    },
    {
     "name": "stdout",
     "output_type": "stream",
     "text": [
      "25:\tlearn: 0.7311712\ttest: 0.7320279\tbest: 0.7320279 (25)\ttotal: 5.29s\tremaining: 13m 7s\n"
     ]
    },
    {
     "name": "stdout",
     "output_type": "stream",
     "text": [
      "50:\tlearn: 0.7480643\ttest: 0.7477159\tbest: 0.7477159 (50)\ttotal: 10.2s\tremaining: 12m 49s\n"
     ]
    },
    {
     "name": "stdout",
     "output_type": "stream",
     "text": [
      "75:\tlearn: 0.7562192\ttest: 0.7560849\tbest: 0.7561655 (74)\ttotal: 15.2s\tremaining: 12m 44s\n"
     ]
    },
    {
     "name": "stdout",
     "output_type": "stream",
     "text": [
      "100:\tlearn: 0.7613858\ttest: 0.7613035\tbest: 0.7613035 (100)\ttotal: 20.2s\tremaining: 12m 40s\n"
     ]
    },
    {
     "name": "stdout",
     "output_type": "stream",
     "text": [
      "125:\tlearn: 0.7645998\ttest: 0.7648513\tbest: 0.7648513 (125)\ttotal: 25.2s\tremaining: 12m 33s\n"
     ]
    },
    {
     "name": "stdout",
     "output_type": "stream",
     "text": [
      "150:\tlearn: 0.7664292\ttest: 0.7664143\tbest: 0.7665068 (146)\ttotal: 30.1s\tremaining: 12m 28s\n"
     ]
    },
    {
     "name": "stdout",
     "output_type": "stream",
     "text": [
      "175:\tlearn: 0.7686034\ttest: 0.7681840\tbest: 0.7684943 (174)\ttotal: 35.1s\tremaining: 12m 22s\n"
     ]
    },
    {
     "name": "stdout",
     "output_type": "stream",
     "text": [
      "200:\tlearn: 0.7705138\ttest: 0.7701768\tbest: 0.7703493 (198)\ttotal: 40.1s\tremaining: 12m 17s\n"
     ]
    },
    {
     "name": "stdout",
     "output_type": "stream",
     "text": [
      "225:\tlearn: 0.7724309\ttest: 0.7715507\tbest: 0.7715507 (225)\ttotal: 45s\tremaining: 12m 10s\n"
     ]
    },
    {
     "name": "stdout",
     "output_type": "stream",
     "text": [
      "250:\tlearn: 0.7738870\ttest: 0.7727900\tbest: 0.7727900 (250)\ttotal: 49.8s\tremaining: 12m 4s\n"
     ]
    },
    {
     "name": "stdout",
     "output_type": "stream",
     "text": [
      "275:\tlearn: 0.7761805\ttest: 0.7740694\tbest: 0.7741812 (273)\ttotal: 54.8s\tremaining: 11m 59s\n"
     ]
    },
    {
     "name": "stdout",
     "output_type": "stream",
     "text": [
      "300:\tlearn: 0.7788465\ttest: 0.7761976\tbest: 0.7762227 (299)\ttotal: 59.7s\tremaining: 11m 54s\n"
     ]
    },
    {
     "name": "stdout",
     "output_type": "stream",
     "text": [
      "325:\tlearn: 0.7814025\ttest: 0.7781195\tbest: 0.7781195 (325)\ttotal: 1m 4s\tremaining: 11m 50s\n"
     ]
    },
    {
     "name": "stdout",
     "output_type": "stream",
     "text": [
      "350:\tlearn: 0.7833990\ttest: 0.7791589\tbest: 0.7792072 (349)\ttotal: 1m 9s\tremaining: 11m 45s\n"
     ]
    },
    {
     "name": "stdout",
     "output_type": "stream",
     "text": [
      "375:\tlearn: 0.7850988\ttest: 0.7799454\tbest: 0.7799454 (375)\ttotal: 1m 14s\tremaining: 11m 41s\n"
     ]
    },
    {
     "name": "stdout",
     "output_type": "stream",
     "text": [
      "400:\tlearn: 0.7867808\ttest: 0.7802360\tbest: 0.7804925 (393)\ttotal: 1m 19s\tremaining: 11m 36s\n"
     ]
    },
    {
     "name": "stdout",
     "output_type": "stream",
     "text": [
      "425:\tlearn: 0.7883012\ttest: 0.7810512\tbest: 0.7810512 (425)\ttotal: 1m 24s\tremaining: 11m 30s\n"
     ]
    },
    {
     "name": "stdout",
     "output_type": "stream",
     "text": [
      "450:\tlearn: 0.7892699\ttest: 0.7809874\tbest: 0.7814481 (444)\ttotal: 1m 29s\tremaining: 11m 25s\n"
     ]
    },
    {
     "name": "stdout",
     "output_type": "stream",
     "text": [
      "475:\tlearn: 0.7903335\ttest: 0.7817005\tbest: 0.7819678 (467)\ttotal: 1m 34s\tremaining: 11m 21s\n"
     ]
    },
    {
     "name": "stdout",
     "output_type": "stream",
     "text": [
      "500:\tlearn: 0.7911724\ttest: 0.7822407\tbest: 0.7823371 (494)\ttotal: 1m 39s\tremaining: 11m 15s\n"
     ]
    },
    {
     "name": "stdout",
     "output_type": "stream",
     "text": [
      "525:\tlearn: 0.7921086\ttest: 0.7824713\tbest: 0.7826761 (519)\ttotal: 1m 44s\tremaining: 11m 10s\n"
     ]
    },
    {
     "name": "stdout",
     "output_type": "stream",
     "text": [
      "550:\tlearn: 0.7929126\ttest: 0.7834349\tbest: 0.7834349 (550)\ttotal: 1m 49s\tremaining: 11m 5s\n"
     ]
    },
    {
     "name": "stdout",
     "output_type": "stream",
     "text": [
      "575:\tlearn: 0.7936222\ttest: 0.7837052\tbest: 0.7839110 (573)\ttotal: 1m 54s\tremaining: 11m\n"
     ]
    },
    {
     "name": "stdout",
     "output_type": "stream",
     "text": [
      "600:\tlearn: 0.7944394\ttest: 0.7838512\tbest: 0.7840744 (597)\ttotal: 1m 59s\tremaining: 10m 56s\n"
     ]
    },
    {
     "name": "stdout",
     "output_type": "stream",
     "text": [
      "625:\tlearn: 0.7951176\ttest: 0.7843790\tbest: 0.7843790 (625)\ttotal: 2m 4s\tremaining: 10m 51s\n"
     ]
    },
    {
     "name": "stdout",
     "output_type": "stream",
     "text": [
      "650:\tlearn: 0.7957109\ttest: 0.7845659\tbest: 0.7847502 (648)\ttotal: 2m 9s\tremaining: 10m 46s\n"
     ]
    },
    {
     "name": "stdout",
     "output_type": "stream",
     "text": [
      "675:\tlearn: 0.7964011\ttest: 0.7846609\tbest: 0.7850900 (670)\ttotal: 2m 14s\tremaining: 10m 41s\n"
     ]
    },
    {
     "name": "stdout",
     "output_type": "stream",
     "text": [
      "700:\tlearn: 0.7968727\ttest: 0.7847558\tbest: 0.7850900 (670)\ttotal: 2m 19s\tremaining: 10m 36s\n"
     ]
    },
    {
     "name": "stdout",
     "output_type": "stream",
     "text": [
      "725:\tlearn: 0.7974882\ttest: 0.7849149\tbest: 0.7852129 (721)\ttotal: 2m 24s\tremaining: 10m 31s\n"
     ]
    },
    {
     "name": "stdout",
     "output_type": "stream",
     "text": [
      "750:\tlearn: 0.7980466\ttest: 0.7850792\tbest: 0.7852863 (741)\ttotal: 2m 29s\tremaining: 10m 26s\n"
     ]
    },
    {
     "name": "stdout",
     "output_type": "stream",
     "text": [
      "775:\tlearn: 0.7988466\ttest: 0.7852454\tbest: 0.7853280 (774)\ttotal: 2m 34s\tremaining: 10m 21s\n"
     ]
    },
    {
     "name": "stdout",
     "output_type": "stream",
     "text": [
      "800:\tlearn: 0.7995916\ttest: 0.7849600\tbest: 0.7853280 (774)\ttotal: 2m 39s\tremaining: 10m 15s\n"
     ]
    },
    {
     "name": "stdout",
     "output_type": "stream",
     "text": [
      "825:\tlearn: 0.8004158\ttest: 0.7855483\tbest: 0.7856708 (822)\ttotal: 2m 44s\tremaining: 10m 10s\n"
     ]
    },
    {
     "name": "stdout",
     "output_type": "stream",
     "text": [
      "850:\tlearn: 0.8010083\ttest: 0.7859855\tbest: 0.7860000 (844)\ttotal: 2m 49s\tremaining: 10m 5s\n"
     ]
    },
    {
     "name": "stdout",
     "output_type": "stream",
     "text": [
      "875:\tlearn: 0.8014830\ttest: 0.7857991\tbest: 0.7863108 (858)\ttotal: 2m 54s\tremaining: 10m\n"
     ]
    },
    {
     "name": "stdout",
     "output_type": "stream",
     "text": [
      "900:\tlearn: 0.8022485\ttest: 0.7866078\tbest: 0.7866463 (899)\ttotal: 2m 58s\tremaining: 9m 55s\n"
     ]
    },
    {
     "name": "stdout",
     "output_type": "stream",
     "text": [
      "925:\tlearn: 0.8026345\ttest: 0.7864969\tbest: 0.7867572 (902)\ttotal: 3m 3s\tremaining: 9m 50s\n"
     ]
    },
    {
     "name": "stdout",
     "output_type": "stream",
     "text": [
      "950:\tlearn: 0.8032649\ttest: 0.7869534\tbest: 0.7870348 (948)\ttotal: 3m 8s\tremaining: 9m 45s\n"
     ]
    },
    {
     "name": "stdout",
     "output_type": "stream",
     "text": [
      "975:\tlearn: 0.8038211\ttest: 0.7869210\tbest: 0.7871622 (966)\ttotal: 3m 13s\tremaining: 9m 40s\n"
     ]
    },
    {
     "name": "stdout",
     "output_type": "stream",
     "text": [
      "1000:\tlearn: 0.8042779\ttest: 0.7871599\tbest: 0.7872757 (992)\ttotal: 3m 18s\tremaining: 9m 35s\n"
     ]
    },
    {
     "name": "stdout",
     "output_type": "stream",
     "text": [
      "1025:\tlearn: 0.8047346\ttest: 0.7877698\tbest: 0.7877698 (1025)\ttotal: 3m 23s\tremaining: 9m 30s\n"
     ]
    },
    {
     "name": "stdout",
     "output_type": "stream",
     "text": [
      "1050:\tlearn: 0.8051308\ttest: 0.7878324\tbest: 0.7881403 (1041)\ttotal: 3m 28s\tremaining: 9m 25s\n"
     ]
    },
    {
     "name": "stdout",
     "output_type": "stream",
     "text": [
      "1075:\tlearn: 0.8057037\ttest: 0.7878615\tbest: 0.7882984 (1058)\ttotal: 3m 33s\tremaining: 9m 20s\n"
     ]
    },
    {
     "name": "stdout",
     "output_type": "stream",
     "text": [
      "1100:\tlearn: 0.8061173\ttest: 0.7882528\tbest: 0.7883106 (1095)\ttotal: 3m 38s\tremaining: 9m 15s\n"
     ]
    },
    {
     "name": "stdout",
     "output_type": "stream",
     "text": [
      "1125:\tlearn: 0.8066002\ttest: 0.7883982\tbest: 0.7884570 (1120)\ttotal: 3m 43s\tremaining: 9m 10s\n"
     ]
    },
    {
     "name": "stdout",
     "output_type": "stream",
     "text": [
      "1150:\tlearn: 0.8070183\ttest: 0.7883878\tbest: 0.7885689 (1143)\ttotal: 3m 48s\tremaining: 9m 5s\n"
     ]
    },
    {
     "name": "stdout",
     "output_type": "stream",
     "text": [
      "1175:\tlearn: 0.8075682\ttest: 0.7884246\tbest: 0.7885689 (1143)\ttotal: 3m 53s\tremaining: 9m\n"
     ]
    },
    {
     "name": "stdout",
     "output_type": "stream",
     "text": [
      "1200:\tlearn: 0.8080372\ttest: 0.7885133\tbest: 0.7887239 (1197)\ttotal: 3m 58s\tremaining: 8m 55s\n"
     ]
    },
    {
     "name": "stdout",
     "output_type": "stream",
     "text": [
      "1225:\tlearn: 0.8085447\ttest: 0.7888055\tbest: 0.7891139 (1213)\ttotal: 4m 3s\tremaining: 8m 50s\n"
     ]
    },
    {
     "name": "stdout",
     "output_type": "stream",
     "text": [
      "1250:\tlearn: 0.8089941\ttest: 0.7886185\tbest: 0.7891139 (1213)\ttotal: 4m 8s\tremaining: 8m 45s\n"
     ]
    },
    {
     "name": "stdout",
     "output_type": "stream",
     "text": [
      "1275:\tlearn: 0.8093516\ttest: 0.7889545\tbest: 0.7891139 (1213)\ttotal: 4m 13s\tremaining: 8m 40s\n"
     ]
    },
    {
     "name": "stdout",
     "output_type": "stream",
     "text": [
      "1300:\tlearn: 0.8098254\ttest: 0.7889782\tbest: 0.7892323 (1280)\ttotal: 4m 18s\tremaining: 8m 35s\n"
     ]
    },
    {
     "name": "stdout",
     "output_type": "stream",
     "text": [
      "1325:\tlearn: 0.8104690\ttest: 0.7893535\tbest: 0.7893535 (1325)\ttotal: 4m 23s\tremaining: 8m 30s\n"
     ]
    },
    {
     "name": "stdout",
     "output_type": "stream",
     "text": [
      "1350:\tlearn: 0.8110688\ttest: 0.7892245\tbest: 0.7895996 (1347)\ttotal: 4m 28s\tremaining: 8m 25s\n"
     ]
    },
    {
     "name": "stdout",
     "output_type": "stream",
     "text": [
      "1375:\tlearn: 0.8113351\ttest: 0.7897686\tbest: 0.7898430 (1365)\ttotal: 4m 33s\tremaining: 8m 20s\n"
     ]
    },
    {
     "name": "stdout",
     "output_type": "stream",
     "text": [
      "1400:\tlearn: 0.8117608\ttest: 0.7898495\tbest: 0.7898919 (1399)\ttotal: 4m 38s\tremaining: 8m 15s\n"
     ]
    },
    {
     "name": "stdout",
     "output_type": "stream",
     "text": [
      "1425:\tlearn: 0.8123499\ttest: 0.7899908\tbest: 0.7900028 (1409)\ttotal: 4m 43s\tremaining: 8m 10s\n"
     ]
    },
    {
     "name": "stdout",
     "output_type": "stream",
     "text": [
      "1450:\tlearn: 0.8127485\ttest: 0.7901592\tbest: 0.7903778 (1433)\ttotal: 4m 48s\tremaining: 8m 6s\n"
     ]
    },
    {
     "name": "stdout",
     "output_type": "stream",
     "text": [
      "1475:\tlearn: 0.8131606\ttest: 0.7899906\tbest: 0.7903778 (1433)\ttotal: 4m 53s\tremaining: 8m 1s\n"
     ]
    },
    {
     "name": "stdout",
     "output_type": "stream",
     "text": [
      "1500:\tlearn: 0.8135419\ttest: 0.7898721\tbest: 0.7903778 (1433)\ttotal: 4m 57s\tremaining: 7m 56s\n"
     ]
    },
    {
     "name": "stdout",
     "output_type": "stream",
     "text": [
      "1525:\tlearn: 0.8140074\ttest: 0.7900669\tbest: 0.7904016 (1520)\ttotal: 5m 2s\tremaining: 7m 51s\n"
     ]
    },
    {
     "name": "stdout",
     "output_type": "stream",
     "text": [
      "1550:\tlearn: 0.8145916\ttest: 0.7899065\tbest: 0.7904303 (1540)\ttotal: 5m 7s\tremaining: 7m 46s\n"
     ]
    },
    {
     "name": "stdout",
     "output_type": "stream",
     "text": [
      "1575:\tlearn: 0.8149550\ttest: 0.7900215\tbest: 0.7904303 (1540)\ttotal: 5m 12s\tremaining: 7m 41s\n"
     ]
    },
    {
     "name": "stdout",
     "output_type": "stream",
     "text": [
      "1600:\tlearn: 0.8154226\ttest: 0.7901862\tbest: 0.7904303 (1540)\ttotal: 5m 17s\tremaining: 7m 36s\n"
     ]
    },
    {
     "name": "stdout",
     "output_type": "stream",
     "text": [
      "1625:\tlearn: 0.8157895\ttest: 0.7902450\tbest: 0.7904303 (1540)\ttotal: 5m 22s\tremaining: 7m 31s\n"
     ]
    },
    {
     "name": "stdout",
     "output_type": "stream",
     "text": [
      "1650:\tlearn: 0.8162642\ttest: 0.7903668\tbest: 0.7904303 (1540)\ttotal: 5m 27s\tremaining: 7m 26s\n"
     ]
    },
    {
     "name": "stdout",
     "output_type": "stream",
     "text": [
      "1675:\tlearn: 0.8169217\ttest: 0.7902980\tbest: 0.7904727 (1654)\ttotal: 5m 32s\tremaining: 7m 21s\n"
     ]
    },
    {
     "name": "stdout",
     "output_type": "stream",
     "text": [
      "1700:\tlearn: 0.8173701\ttest: 0.7901673\tbest: 0.7904727 (1654)\ttotal: 5m 37s\tremaining: 7m 16s\n"
     ]
    },
    {
     "name": "stdout",
     "output_type": "stream",
     "text": [
      "1725:\tlearn: 0.8177779\ttest: 0.7902381\tbest: 0.7904727 (1654)\ttotal: 5m 42s\tremaining: 7m 11s\n"
     ]
    },
    {
     "name": "stdout",
     "output_type": "stream",
     "text": [
      "1750:\tlearn: 0.8183639\ttest: 0.7902313\tbest: 0.7904727 (1654)\ttotal: 5m 47s\tremaining: 7m 6s\n"
     ]
    },
    {
     "name": "stdout",
     "output_type": "stream",
     "text": [
      "1775:\tlearn: 0.8187966\ttest: 0.7902936\tbest: 0.7904727 (1654)\ttotal: 5m 52s\tremaining: 7m 1s\n"
     ]
    },
    {
     "name": "stdout",
     "output_type": "stream",
     "text": [
      "1800:\tlearn: 0.8192384\ttest: 0.7902408\tbest: 0.7904727 (1654)\ttotal: 5m 57s\tremaining: 6m 56s\n"
     ]
    },
    {
     "name": "stdout",
     "output_type": "stream",
     "text": [
      "1825:\tlearn: 0.8197972\ttest: 0.7902979\tbest: 0.7904727 (1654)\ttotal: 6m 2s\tremaining: 6m 51s\n"
     ]
    },
    {
     "name": "stdout",
     "output_type": "stream",
     "text": [
      "1850:\tlearn: 0.8200080\ttest: 0.7905008\tbest: 0.7907298 (1848)\ttotal: 6m 7s\tremaining: 6m 46s\n"
     ]
    },
    {
     "name": "stdout",
     "output_type": "stream",
     "text": [
      "1875:\tlearn: 0.8206180\ttest: 0.7907447\tbest: 0.7909308 (1871)\ttotal: 6m 12s\tremaining: 6m 41s\n"
     ]
    },
    {
     "name": "stdout",
     "output_type": "stream",
     "text": [
      "1900:\tlearn: 0.8210324\ttest: 0.7911388\tbest: 0.7912204 (1897)\ttotal: 6m 17s\tremaining: 6m 36s\n"
     ]
    },
    {
     "name": "stdout",
     "output_type": "stream",
     "text": [
      "1925:\tlearn: 0.8214512\ttest: 0.7911026\tbest: 0.7912204 (1897)\ttotal: 6m 22s\tremaining: 6m 31s\n"
     ]
    },
    {
     "name": "stdout",
     "output_type": "stream",
     "text": [
      "1950:\tlearn: 0.8218499\ttest: 0.7911144\tbest: 0.7912204 (1897)\ttotal: 6m 27s\tremaining: 6m 26s\n"
     ]
    },
    {
     "name": "stdout",
     "output_type": "stream",
     "text": [
      "1975:\tlearn: 0.8221036\ttest: 0.7912058\tbest: 0.7913320 (1963)\ttotal: 6m 31s\tremaining: 6m 21s\n"
     ]
    },
    {
     "name": "stdout",
     "output_type": "stream",
     "text": [
      "2000:\tlearn: 0.8225713\ttest: 0.7910917\tbest: 0.7913320 (1963)\ttotal: 6m 36s\tremaining: 6m 16s\n"
     ]
    },
    {
     "name": "stdout",
     "output_type": "stream",
     "text": [
      "2025:\tlearn: 0.8229888\ttest: 0.7909981\tbest: 0.7913320 (1963)\ttotal: 6m 41s\tremaining: 6m 11s\n"
     ]
    },
    {
     "name": "stdout",
     "output_type": "stream",
     "text": [
      "2050:\tlearn: 0.8231518\ttest: 0.7910499\tbest: 0.7913320 (1963)\ttotal: 6m 46s\tremaining: 6m 6s\n"
     ]
    },
    {
     "name": "stdout",
     "output_type": "stream",
     "text": [
      "2075:\tlearn: 0.8235361\ttest: 0.7913978\tbest: 0.7913978 (2075)\ttotal: 6m 51s\tremaining: 6m 1s\n"
     ]
    },
    {
     "name": "stdout",
     "output_type": "stream",
     "text": [
      "2100:\tlearn: 0.8242864\ttest: 0.7911128\tbest: 0.7914434 (2081)\ttotal: 6m 56s\tremaining: 5m 56s\n"
     ]
    },
    {
     "name": "stdout",
     "output_type": "stream",
     "text": [
      "2125:\tlearn: 0.8245576\ttest: 0.7912301\tbest: 0.7914434 (2081)\ttotal: 7m 1s\tremaining: 5m 51s\n"
     ]
    },
    {
     "name": "stdout",
     "output_type": "stream",
     "text": [
      "2150:\tlearn: 0.8249022\ttest: 0.7911568\tbest: 0.7914434 (2081)\ttotal: 7m 6s\tremaining: 5m 46s\n"
     ]
    },
    {
     "name": "stdout",
     "output_type": "stream",
     "text": [
      "2175:\tlearn: 0.8253805\ttest: 0.7908684\tbest: 0.7914434 (2081)\ttotal: 7m 11s\tremaining: 5m 41s\n"
     ]
    },
    {
     "name": "stdout",
     "output_type": "stream",
     "text": [
      "2200:\tlearn: 0.8256761\ttest: 0.7914877\tbest: 0.7914877 (2200)\ttotal: 7m 16s\tremaining: 5m 36s\n"
     ]
    },
    {
     "name": "stdout",
     "output_type": "stream",
     "text": [
      "2225:\tlearn: 0.8259026\ttest: 0.7914318\tbest: 0.7915296 (2201)\ttotal: 7m 21s\tremaining: 5m 31s\n"
     ]
    },
    {
     "name": "stdout",
     "output_type": "stream",
     "text": [
      "2250:\tlearn: 0.8262728\ttest: 0.7913765\tbest: 0.7917290 (2235)\ttotal: 7m 26s\tremaining: 5m 26s\n"
     ]
    },
    {
     "name": "stdout",
     "output_type": "stream",
     "text": [
      "2275:\tlearn: 0.8267177\ttest: 0.7914404\tbest: 0.7917290 (2235)\ttotal: 7m 31s\tremaining: 5m 21s\n"
     ]
    },
    {
     "name": "stdout",
     "output_type": "stream",
     "text": [
      "2300:\tlearn: 0.8271406\ttest: 0.7914856\tbest: 0.7917290 (2235)\ttotal: 7m 36s\tremaining: 5m 16s\n"
     ]
    },
    {
     "name": "stdout",
     "output_type": "stream",
     "text": [
      "2325:\tlearn: 0.8275043\ttest: 0.7912226\tbest: 0.7917290 (2235)\ttotal: 7m 41s\tremaining: 5m 12s\n"
     ]
    },
    {
     "name": "stdout",
     "output_type": "stream",
     "text": [
      "2350:\tlearn: 0.8279756\ttest: 0.7913092\tbest: 0.7917290 (2235)\ttotal: 7m 46s\tremaining: 5m 7s\n"
     ]
    },
    {
     "name": "stdout",
     "output_type": "stream",
     "text": [
      "2375:\tlearn: 0.8284398\ttest: 0.7912739\tbest: 0.7917290 (2235)\ttotal: 7m 50s\tremaining: 5m 2s\n"
     ]
    },
    {
     "name": "stdout",
     "output_type": "stream",
     "text": [
      "2400:\tlearn: 0.8288254\ttest: 0.7909645\tbest: 0.7917290 (2235)\ttotal: 7m 55s\tremaining: 4m 57s\n"
     ]
    },
    {
     "name": "stdout",
     "output_type": "stream",
     "text": [
      "2425:\tlearn: 0.8292090\ttest: 0.7912628\tbest: 0.7917290 (2235)\ttotal: 8m\tremaining: 4m 52s\n"
     ]
    },
    {
     "name": "stdout",
     "output_type": "stream",
     "text": [
      "2450:\tlearn: 0.8293855\ttest: 0.7911615\tbest: 0.7917290 (2235)\ttotal: 8m 5s\tremaining: 4m 47s\n"
     ]
    },
    {
     "name": "stdout",
     "output_type": "stream",
     "text": [
      "2475:\tlearn: 0.8298114\ttest: 0.7907941\tbest: 0.7917290 (2235)\ttotal: 8m 10s\tremaining: 4m 42s\n"
     ]
    },
    {
     "name": "stdout",
     "output_type": "stream",
     "text": [
      "2500:\tlearn: 0.8302660\ttest: 0.7908594\tbest: 0.7917290 (2235)\ttotal: 8m 15s\tremaining: 4m 37s\n"
     ]
    },
    {
     "name": "stdout",
     "output_type": "stream",
     "text": [
      "2525:\tlearn: 0.8306908\ttest: 0.7909955\tbest: 0.7917290 (2235)\ttotal: 8m 20s\tremaining: 4m 32s\n"
     ]
    },
    {
     "name": "stdout",
     "output_type": "stream",
     "text": [
      "2550:\tlearn: 0.8309407\ttest: 0.7909996\tbest: 0.7917290 (2235)\ttotal: 8m 25s\tremaining: 4m 27s\n"
     ]
    },
    {
     "name": "stdout",
     "output_type": "stream",
     "text": [
      "2575:\tlearn: 0.8314893\ttest: 0.7909466\tbest: 0.7917290 (2235)\ttotal: 8m 30s\tremaining: 4m 22s\n"
     ]
    },
    {
     "name": "stdout",
     "output_type": "stream",
     "text": [
      "2600:\tlearn: 0.8318756\ttest: 0.7912840\tbest: 0.7917290 (2235)\ttotal: 8m 35s\tremaining: 4m 17s\n"
     ]
    },
    {
     "name": "stdout",
     "output_type": "stream",
     "text": [
      "2625:\tlearn: 0.8322793\ttest: 0.7911841\tbest: 0.7917290 (2235)\ttotal: 8m 40s\tremaining: 4m 12s\n"
     ]
    },
    {
     "name": "stdout",
     "output_type": "stream",
     "text": [
      "2650:\tlearn: 0.8326269\ttest: 0.7911092\tbest: 0.7917290 (2235)\ttotal: 8m 45s\tremaining: 4m 7s\n"
     ]
    },
    {
     "name": "stdout",
     "output_type": "stream",
     "text": [
      "2675:\tlearn: 0.8331311\ttest: 0.7912478\tbest: 0.7917290 (2235)\ttotal: 8m 50s\tremaining: 4m 2s\n"
     ]
    },
    {
     "name": "stdout",
     "output_type": "stream",
     "text": [
      "2700:\tlearn: 0.8333439\ttest: 0.7911909\tbest: 0.7917290 (2235)\ttotal: 8m 55s\tremaining: 3m 57s\n"
     ]
    },
    {
     "name": "stdout",
     "output_type": "stream",
     "text": [
      "2725:\tlearn: 0.8337080\ttest: 0.7914679\tbest: 0.7917290 (2235)\ttotal: 9m\tremaining: 3m 52s\n"
     ]
    },
    {
     "name": "stdout",
     "output_type": "stream",
     "text": [
      "2750:\tlearn: 0.8341911\ttest: 0.7915145\tbest: 0.7917290 (2235)\ttotal: 9m 5s\tremaining: 3m 47s\n"
     ]
    },
    {
     "name": "stdout",
     "output_type": "stream",
     "text": [
      "2775:\tlearn: 0.8346933\ttest: 0.7918640\tbest: 0.7918844 (2774)\ttotal: 9m 10s\tremaining: 3m 42s\n"
     ]
    },
    {
     "name": "stdout",
     "output_type": "stream",
     "text": [
      "2800:\tlearn: 0.8352475\ttest: 0.7914928\tbest: 0.7918879 (2786)\ttotal: 9m 15s\tremaining: 3m 37s\n"
     ]
    },
    {
     "name": "stdout",
     "output_type": "stream",
     "text": [
      "2825:\tlearn: 0.8354748\ttest: 0.7919602\tbest: 0.7920227 (2822)\ttotal: 9m 20s\tremaining: 3m 32s\n"
     ]
    },
    {
     "name": "stdout",
     "output_type": "stream",
     "text": [
      "2850:\tlearn: 0.8357454\ttest: 0.7920693\tbest: 0.7921093 (2842)\ttotal: 9m 24s\tremaining: 3m 27s\n"
     ]
    },
    {
     "name": "stdout",
     "output_type": "stream",
     "text": [
      "2875:\tlearn: 0.8360146\ttest: 0.7920330\tbest: 0.7921780 (2868)\ttotal: 9m 29s\tremaining: 3m 22s\n"
     ]
    },
    {
     "name": "stdout",
     "output_type": "stream",
     "text": [
      "2900:\tlearn: 0.8363356\ttest: 0.7916041\tbest: 0.7921780 (2868)\ttotal: 9m 34s\tremaining: 3m 17s\n"
     ]
    },
    {
     "name": "stdout",
     "output_type": "stream",
     "text": [
      "2925:\tlearn: 0.8368408\ttest: 0.7916698\tbest: 0.7921780 (2868)\ttotal: 9m 39s\tremaining: 3m 12s\n"
     ]
    },
    {
     "name": "stdout",
     "output_type": "stream",
     "text": [
      "2950:\tlearn: 0.8372074\ttest: 0.7920880\tbest: 0.7921780 (2868)\ttotal: 9m 44s\tremaining: 3m 8s\n"
     ]
    },
    {
     "name": "stdout",
     "output_type": "stream",
     "text": [
      "2975:\tlearn: 0.8374453\ttest: 0.7917544\tbest: 0.7921780 (2868)\ttotal: 9m 49s\tremaining: 3m 3s\n"
     ]
    },
    {
     "name": "stdout",
     "output_type": "stream",
     "text": [
      "3000:\tlearn: 0.8378323\ttest: 0.7918684\tbest: 0.7921780 (2868)\ttotal: 9m 54s\tremaining: 2m 58s\n"
     ]
    },
    {
     "name": "stdout",
     "output_type": "stream",
     "text": [
      "3025:\tlearn: 0.8382423\ttest: 0.7919363\tbest: 0.7922715 (3015)\ttotal: 9m 59s\tremaining: 2m 53s\n"
     ]
    },
    {
     "name": "stdout",
     "output_type": "stream",
     "text": [
      "3050:\tlearn: 0.8385503\ttest: 0.7919182\tbest: 0.7922715 (3015)\ttotal: 10m 4s\tremaining: 2m 48s\n"
     ]
    },
    {
     "name": "stdout",
     "output_type": "stream",
     "text": [
      "3075:\tlearn: 0.8391171\ttest: 0.7915920\tbest: 0.7922715 (3015)\ttotal: 10m 9s\tremaining: 2m 43s\n"
     ]
    },
    {
     "name": "stdout",
     "output_type": "stream",
     "text": [
      "3100:\tlearn: 0.8392332\ttest: 0.7917832\tbest: 0.7922715 (3015)\ttotal: 10m 14s\tremaining: 2m 38s\n"
     ]
    },
    {
     "name": "stdout",
     "output_type": "stream",
     "text": [
      "3125:\tlearn: 0.8395531\ttest: 0.7916981\tbest: 0.7922715 (3015)\ttotal: 10m 19s\tremaining: 2m 33s\n"
     ]
    },
    {
     "name": "stdout",
     "output_type": "stream",
     "text": [
      "3150:\tlearn: 0.8398267\ttest: 0.7918111\tbest: 0.7922715 (3015)\ttotal: 10m 24s\tremaining: 2m 28s\n"
     ]
    },
    {
     "name": "stdout",
     "output_type": "stream",
     "text": [
      "3175:\tlearn: 0.8402797\ttest: 0.7923476\tbest: 0.7923476 (3175)\ttotal: 10m 29s\tremaining: 2m 23s\n"
     ]
    },
    {
     "name": "stdout",
     "output_type": "stream",
     "text": [
      "3200:\tlearn: 0.8405769\ttest: 0.7922262\tbest: 0.7923476 (3175)\ttotal: 10m 34s\tremaining: 2m 18s\n"
     ]
    },
    {
     "name": "stdout",
     "output_type": "stream",
     "text": [
      "3225:\tlearn: 0.8409016\ttest: 0.7923754\tbest: 0.7923754 (3225)\ttotal: 10m 39s\tremaining: 2m 13s\n"
     ]
    },
    {
     "name": "stdout",
     "output_type": "stream",
     "text": [
      "3250:\tlearn: 0.8411471\ttest: 0.7922916\tbest: 0.7924833 (3236)\ttotal: 10m 44s\tremaining: 2m 8s\n"
     ]
    },
    {
     "name": "stdout",
     "output_type": "stream",
     "text": [
      "3275:\tlearn: 0.8418002\ttest: 0.7923454\tbest: 0.7924833 (3236)\ttotal: 10m 49s\tremaining: 2m 3s\n"
     ]
    },
    {
     "name": "stdout",
     "output_type": "stream",
     "text": [
      "3300:\tlearn: 0.8420482\ttest: 0.7922220\tbest: 0.7924833 (3236)\ttotal: 10m 54s\tremaining: 1m 58s\n"
     ]
    },
    {
     "name": "stdout",
     "output_type": "stream",
     "text": [
      "3325:\tlearn: 0.8424973\ttest: 0.7927056\tbest: 0.7927056 (3325)\ttotal: 10m 58s\tremaining: 1m 53s\n"
     ]
    },
    {
     "name": "stdout",
     "output_type": "stream",
     "text": [
      "3350:\tlearn: 0.8428555\ttest: 0.7928643\tbest: 0.7929224 (3340)\ttotal: 11m 3s\tremaining: 1m 48s\n"
     ]
    },
    {
     "name": "stdout",
     "output_type": "stream",
     "text": [
      "3375:\tlearn: 0.8431589\ttest: 0.7926978\tbest: 0.7929224 (3340)\ttotal: 11m 8s\tremaining: 1m 43s\n"
     ]
    },
    {
     "name": "stdout",
     "output_type": "stream",
     "text": [
      "3400:\tlearn: 0.8436549\ttest: 0.7925018\tbest: 0.7929224 (3340)\ttotal: 11m 13s\tremaining: 1m 38s\n"
     ]
    },
    {
     "name": "stdout",
     "output_type": "stream",
     "text": [
      "3425:\tlearn: 0.8441150\ttest: 0.7925473\tbest: 0.7929224 (3340)\ttotal: 11m 18s\tremaining: 1m 33s\n"
     ]
    },
    {
     "name": "stdout",
     "output_type": "stream",
     "text": [
      "3450:\tlearn: 0.8446232\ttest: 0.7927433\tbest: 0.7930352 (3442)\ttotal: 11m 23s\tremaining: 1m 28s\n"
     ]
    },
    {
     "name": "stdout",
     "output_type": "stream",
     "text": [
      "3475:\tlearn: 0.8447010\ttest: 0.7926384\tbest: 0.7930352 (3442)\ttotal: 11m 28s\tremaining: 1m 24s\n"
     ]
    },
    {
     "name": "stdout",
     "output_type": "stream",
     "text": [
      "3500:\tlearn: 0.8449686\ttest: 0.7925177\tbest: 0.7930352 (3442)\ttotal: 11m 33s\tremaining: 1m 19s\n"
     ]
    },
    {
     "name": "stdout",
     "output_type": "stream",
     "text": [
      "3525:\tlearn: 0.8454141\ttest: 0.7925210\tbest: 0.7930352 (3442)\ttotal: 11m 38s\tremaining: 1m 14s\n"
     ]
    },
    {
     "name": "stdout",
     "output_type": "stream",
     "text": [
      "3550:\tlearn: 0.8456814\ttest: 0.7925241\tbest: 0.7930352 (3442)\ttotal: 11m 43s\tremaining: 1m 9s\n"
     ]
    },
    {
     "name": "stdout",
     "output_type": "stream",
     "text": [
      "3575:\tlearn: 0.8459254\ttest: 0.7926567\tbest: 0.7930352 (3442)\ttotal: 11m 48s\tremaining: 1m 4s\n"
     ]
    },
    {
     "name": "stdout",
     "output_type": "stream",
     "text": [
      "3600:\tlearn: 0.8463832\ttest: 0.7925964\tbest: 0.7930352 (3442)\ttotal: 11m 53s\tremaining: 59.2s\n"
     ]
    },
    {
     "name": "stdout",
     "output_type": "stream",
     "text": [
      "3625:\tlearn: 0.8467760\ttest: 0.7926423\tbest: 0.7930352 (3442)\ttotal: 11m 58s\tremaining: 54.3s\n"
     ]
    },
    {
     "name": "stdout",
     "output_type": "stream",
     "text": [
      "3650:\tlearn: 0.8470257\ttest: 0.7927283\tbest: 0.7930352 (3442)\ttotal: 12m 3s\tremaining: 49.3s\n"
     ]
    },
    {
     "name": "stdout",
     "output_type": "stream",
     "text": [
      "3675:\tlearn: 0.8472662\ttest: 0.7927965\tbest: 0.7930468 (3664)\ttotal: 12m 8s\tremaining: 44.4s\n"
     ]
    },
    {
     "name": "stdout",
     "output_type": "stream",
     "text": [
      "3700:\tlearn: 0.8478653\ttest: 0.7927320\tbest: 0.7930468 (3664)\ttotal: 12m 13s\tremaining: 39.4s\n"
     ]
    },
    {
     "name": "stdout",
     "output_type": "stream",
     "text": [
      "3725:\tlearn: 0.8482458\ttest: 0.7925503\tbest: 0.7930468 (3664)\ttotal: 12m 18s\tremaining: 34.5s\n"
     ]
    },
    {
     "name": "stdout",
     "output_type": "stream",
     "text": [
      "3750:\tlearn: 0.8484434\ttest: 0.7927418\tbest: 0.7930468 (3664)\ttotal: 12m 23s\tremaining: 29.5s\n"
     ]
    },
    {
     "name": "stdout",
     "output_type": "stream",
     "text": [
      "3775:\tlearn: 0.8488974\ttest: 0.7925572\tbest: 0.7930468 (3664)\ttotal: 12m 28s\tremaining: 24.6s\n"
     ]
    },
    {
     "name": "stdout",
     "output_type": "stream",
     "text": [
      "3800:\tlearn: 0.8490986\ttest: 0.7925445\tbest: 0.7930468 (3664)\ttotal: 12m 33s\tremaining: 19.6s\n"
     ]
    },
    {
     "name": "stdout",
     "output_type": "stream",
     "text": [
      "3825:\tlearn: 0.8494114\ttest: 0.7924156\tbest: 0.7930468 (3664)\ttotal: 12m 38s\tremaining: 14.7s\n"
     ]
    },
    {
     "name": "stdout",
     "output_type": "stream",
     "text": [
      "3850:\tlearn: 0.8496595\ttest: 0.7925878\tbest: 0.7930468 (3664)\ttotal: 12m 43s\tremaining: 9.71s\n"
     ]
    },
    {
     "name": "stdout",
     "output_type": "stream",
     "text": [
      "3875:\tlearn: 0.8501808\ttest: 0.7929469\tbest: 0.7930468 (3664)\ttotal: 12m 48s\tremaining: 4.76s\n"
     ]
    },
    {
     "name": "stdout",
     "output_type": "stream",
     "text": [
      "3899:\tlearn: 0.8504309\ttest: 0.7930121\tbest: 0.7931173 (3895)\ttotal: 12m 53s\tremaining: 0us\n",
      "\n",
      "bestTest = 0.7931173273\n",
      "bestIteration = 3895\n",
      "\n"
     ]
    },
    {
     "name": "stdout",
     "output_type": "stream",
     "text": [
      "######################################## training model 3/5 ########################################\n"
     ]
    },
    {
     "name": "stdout",
     "output_type": "stream",
     "text": [
      "0:\tlearn: 0.5664600\ttest: 0.5681200\tbest: 0.5681200 (0)\ttotal: 515ms\tremaining: 33m 27s\n"
     ]
    },
    {
     "name": "stdout",
     "output_type": "stream",
     "text": [
      "25:\tlearn: 0.7354971\ttest: 0.7284924\tbest: 0.7284924 (25)\ttotal: 5.3s\tremaining: 13m 10s\n"
     ]
    },
    {
     "name": "stdout",
     "output_type": "stream",
     "text": [
      "50:\tlearn: 0.7509622\ttest: 0.7430794\tbest: 0.7432109 (49)\ttotal: 10.3s\tremaining: 12m 57s\n"
     ]
    },
    {
     "name": "stdout",
     "output_type": "stream",
     "text": [
      "75:\tlearn: 0.7590134\ttest: 0.7513172\tbest: 0.7513172 (75)\ttotal: 15.3s\tremaining: 12m 51s\n"
     ]
    },
    {
     "name": "stdout",
     "output_type": "stream",
     "text": [
      "100:\tlearn: 0.7631867\ttest: 0.7551695\tbest: 0.7553987 (97)\ttotal: 20.3s\tremaining: 12m 44s\n"
     ]
    },
    {
     "name": "stdout",
     "output_type": "stream",
     "text": [
      "125:\tlearn: 0.7664248\ttest: 0.7579585\tbest: 0.7580093 (123)\ttotal: 25.3s\tremaining: 12m 39s\n"
     ]
    },
    {
     "name": "stdout",
     "output_type": "stream",
     "text": [
      "150:\tlearn: 0.7690906\ttest: 0.7602578\tbest: 0.7602578 (150)\ttotal: 30.3s\tremaining: 12m 31s\n"
     ]
    },
    {
     "name": "stdout",
     "output_type": "stream",
     "text": [
      "175:\tlearn: 0.7710718\ttest: 0.7616630\tbest: 0.7618750 (173)\ttotal: 35.3s\tremaining: 12m 26s\n"
     ]
    },
    {
     "name": "stdout",
     "output_type": "stream",
     "text": [
      "200:\tlearn: 0.7724594\ttest: 0.7635629\tbest: 0.7637175 (194)\ttotal: 40.2s\tremaining: 12m 19s\n"
     ]
    },
    {
     "name": "stdout",
     "output_type": "stream",
     "text": [
      "225:\tlearn: 0.7742380\ttest: 0.7652727\tbest: 0.7656288 (223)\ttotal: 45.2s\tremaining: 12m 14s\n"
     ]
    },
    {
     "name": "stdout",
     "output_type": "stream",
     "text": [
      "250:\tlearn: 0.7755922\ttest: 0.7673250\tbest: 0.7673250 (250)\ttotal: 50s\tremaining: 12m 6s\n"
     ]
    },
    {
     "name": "stdout",
     "output_type": "stream",
     "text": [
      "275:\tlearn: 0.7781927\ttest: 0.7701457\tbest: 0.7701457 (275)\ttotal: 54.9s\tremaining: 12m\n"
     ]
    },
    {
     "name": "stdout",
     "output_type": "stream",
     "text": [
      "300:\tlearn: 0.7802779\ttest: 0.7727954\tbest: 0.7728833 (297)\ttotal: 59.8s\tremaining: 11m 54s\n"
     ]
    },
    {
     "name": "stdout",
     "output_type": "stream",
     "text": [
      "325:\tlearn: 0.7830613\ttest: 0.7740119\tbest: 0.7741249 (323)\ttotal: 1m 4s\tremaining: 11m 49s\n"
     ]
    },
    {
     "name": "stdout",
     "output_type": "stream",
     "text": [
      "350:\tlearn: 0.7844118\ttest: 0.7762003\tbest: 0.7762003 (350)\ttotal: 1m 9s\tremaining: 11m 44s\n"
     ]
    },
    {
     "name": "stdout",
     "output_type": "stream",
     "text": [
      "375:\tlearn: 0.7858479\ttest: 0.7775505\tbest: 0.7775505 (375)\ttotal: 1m 14s\tremaining: 11m 39s\n"
     ]
    },
    {
     "name": "stdout",
     "output_type": "stream",
     "text": [
      "400:\tlearn: 0.7871312\ttest: 0.7791662\tbest: 0.7791662 (400)\ttotal: 1m 19s\tremaining: 11m 34s\n"
     ]
    },
    {
     "name": "stdout",
     "output_type": "stream",
     "text": [
      "425:\tlearn: 0.7880818\ttest: 0.7803190\tbest: 0.7803190 (425)\ttotal: 1m 24s\tremaining: 11m 30s\n"
     ]
    },
    {
     "name": "stdout",
     "output_type": "stream",
     "text": [
      "450:\tlearn: 0.7892091\ttest: 0.7804786\tbest: 0.7805059 (438)\ttotal: 1m 29s\tremaining: 11m 25s\n"
     ]
    },
    {
     "name": "stdout",
     "output_type": "stream",
     "text": [
      "475:\tlearn: 0.7903103\ttest: 0.7813977\tbest: 0.7814769 (474)\ttotal: 1m 34s\tremaining: 11m 20s\n"
     ]
    },
    {
     "name": "stdout",
     "output_type": "stream",
     "text": [
      "500:\tlearn: 0.7910789\ttest: 0.7820216\tbest: 0.7823382 (495)\ttotal: 1m 39s\tremaining: 11m 15s\n"
     ]
    },
    {
     "name": "stdout",
     "output_type": "stream",
     "text": [
      "525:\tlearn: 0.7919457\ttest: 0.7829813\tbest: 0.7830749 (522)\ttotal: 1m 44s\tremaining: 11m 10s\n"
     ]
    },
    {
     "name": "stdout",
     "output_type": "stream",
     "text": [
      "550:\tlearn: 0.7926978\ttest: 0.7837718\tbest: 0.7838878 (547)\ttotal: 1m 49s\tremaining: 11m 5s\n"
     ]
    },
    {
     "name": "stdout",
     "output_type": "stream",
     "text": [
      "575:\tlearn: 0.7935645\ttest: 0.7836689\tbest: 0.7838889 (553)\ttotal: 1m 54s\tremaining: 11m\n"
     ]
    },
    {
     "name": "stdout",
     "output_type": "stream",
     "text": [
      "600:\tlearn: 0.7944809\ttest: 0.7835171\tbest: 0.7839675 (576)\ttotal: 1m 59s\tremaining: 10m 55s\n"
     ]
    },
    {
     "name": "stdout",
     "output_type": "stream",
     "text": [
      "625:\tlearn: 0.7952720\ttest: 0.7846045\tbest: 0.7846045 (625)\ttotal: 2m 4s\tremaining: 10m 50s\n"
     ]
    },
    {
     "name": "stdout",
     "output_type": "stream",
     "text": [
      "650:\tlearn: 0.7959475\ttest: 0.7852996\tbest: 0.7852996 (650)\ttotal: 2m 9s\tremaining: 10m 44s\n"
     ]
    },
    {
     "name": "stdout",
     "output_type": "stream",
     "text": [
      "675:\tlearn: 0.7968326\ttest: 0.7851991\tbest: 0.7854266 (659)\ttotal: 2m 14s\tremaining: 10m 40s\n"
     ]
    },
    {
     "name": "stdout",
     "output_type": "stream",
     "text": [
      "700:\tlearn: 0.7973827\ttest: 0.7857568\tbest: 0.7857568 (700)\ttotal: 2m 19s\tremaining: 10m 34s\n"
     ]
    },
    {
     "name": "stdout",
     "output_type": "stream",
     "text": [
      "725:\tlearn: 0.7980406\ttest: 0.7863150\tbest: 0.7863150 (725)\ttotal: 2m 24s\tremaining: 10m 29s\n"
     ]
    },
    {
     "name": "stdout",
     "output_type": "stream",
     "text": [
      "750:\tlearn: 0.7987750\ttest: 0.7865699\tbest: 0.7866354 (744)\ttotal: 2m 28s\tremaining: 10m 24s\n"
     ]
    },
    {
     "name": "stdout",
     "output_type": "stream",
     "text": [
      "775:\tlearn: 0.7995063\ttest: 0.7870191\tbest: 0.7870191 (775)\ttotal: 2m 33s\tremaining: 10m 19s\n"
     ]
    },
    {
     "name": "stdout",
     "output_type": "stream",
     "text": [
      "800:\tlearn: 0.7999538\ttest: 0.7871506\tbest: 0.7872477 (795)\ttotal: 2m 38s\tremaining: 10m 14s\n"
     ]
    },
    {
     "name": "stdout",
     "output_type": "stream",
     "text": [
      "825:\tlearn: 0.8002914\ttest: 0.7872948\tbest: 0.7873409 (801)\ttotal: 2m 43s\tremaining: 10m 9s\n"
     ]
    },
    {
     "name": "stdout",
     "output_type": "stream",
     "text": [
      "850:\tlearn: 0.8011753\ttest: 0.7872922\tbest: 0.7875102 (841)\ttotal: 2m 48s\tremaining: 10m 4s\n"
     ]
    },
    {
     "name": "stdout",
     "output_type": "stream",
     "text": [
      "875:\tlearn: 0.8016594\ttest: 0.7874821\tbest: 0.7876155 (856)\ttotal: 2m 53s\tremaining: 9m 59s\n"
     ]
    },
    {
     "name": "stdout",
     "output_type": "stream",
     "text": [
      "900:\tlearn: 0.8022646\ttest: 0.7873290\tbest: 0.7876155 (856)\ttotal: 2m 58s\tremaining: 9m 54s\n"
     ]
    },
    {
     "name": "stdout",
     "output_type": "stream",
     "text": [
      "925:\tlearn: 0.8031424\ttest: 0.7878073\tbest: 0.7878438 (922)\ttotal: 3m 3s\tremaining: 9m 49s\n"
     ]
    },
    {
     "name": "stdout",
     "output_type": "stream",
     "text": [
      "950:\tlearn: 0.8036677\ttest: 0.7880122\tbest: 0.7880122 (950)\ttotal: 3m 8s\tremaining: 9m 44s\n"
     ]
    },
    {
     "name": "stdout",
     "output_type": "stream",
     "text": [
      "975:\tlearn: 0.8040997\ttest: 0.7882020\tbest: 0.7882432 (974)\ttotal: 3m 13s\tremaining: 9m 40s\n"
     ]
    },
    {
     "name": "stdout",
     "output_type": "stream",
     "text": [
      "1000:\tlearn: 0.8047565\ttest: 0.7881471\tbest: 0.7882432 (974)\ttotal: 3m 18s\tremaining: 9m 35s\n"
     ]
    },
    {
     "name": "stdout",
     "output_type": "stream",
     "text": [
      "1025:\tlearn: 0.8053143\ttest: 0.7887296\tbest: 0.7887296 (1025)\ttotal: 3m 23s\tremaining: 9m 30s\n"
     ]
    },
    {
     "name": "stdout",
     "output_type": "stream",
     "text": [
      "1050:\tlearn: 0.8058979\ttest: 0.7884857\tbest: 0.7888385 (1030)\ttotal: 3m 28s\tremaining: 9m 24s\n"
     ]
    },
    {
     "name": "stdout",
     "output_type": "stream",
     "text": [
      "1075:\tlearn: 0.8062966\ttest: 0.7889230\tbest: 0.7889230 (1075)\ttotal: 3m 33s\tremaining: 9m 20s\n"
     ]
    },
    {
     "name": "stdout",
     "output_type": "stream",
     "text": [
      "1100:\tlearn: 0.8068093\ttest: 0.7890355\tbest: 0.7891516 (1090)\ttotal: 3m 38s\tremaining: 9m 15s\n"
     ]
    },
    {
     "name": "stdout",
     "output_type": "stream",
     "text": [
      "1125:\tlearn: 0.8072516\ttest: 0.7892966\tbest: 0.7895533 (1112)\ttotal: 3m 43s\tremaining: 9m 10s\n"
     ]
    },
    {
     "name": "stdout",
     "output_type": "stream",
     "text": [
      "1150:\tlearn: 0.8075191\ttest: 0.7891463\tbest: 0.7895533 (1112)\ttotal: 3m 48s\tremaining: 9m 5s\n"
     ]
    },
    {
     "name": "stdout",
     "output_type": "stream",
     "text": [
      "1175:\tlearn: 0.8081891\ttest: 0.7890066\tbest: 0.7895533 (1112)\ttotal: 3m 53s\tremaining: 9m\n"
     ]
    },
    {
     "name": "stdout",
     "output_type": "stream",
     "text": [
      "1200:\tlearn: 0.8085744\ttest: 0.7892535\tbest: 0.7895533 (1112)\ttotal: 3m 58s\tremaining: 8m 55s\n"
     ]
    },
    {
     "name": "stdout",
     "output_type": "stream",
     "text": [
      "1225:\tlearn: 0.8092124\ttest: 0.7892381\tbest: 0.7895533 (1112)\ttotal: 4m 3s\tremaining: 8m 50s\n"
     ]
    },
    {
     "name": "stdout",
     "output_type": "stream",
     "text": [
      "1250:\tlearn: 0.8095307\ttest: 0.7892766\tbest: 0.7895533 (1112)\ttotal: 4m 8s\tremaining: 8m 45s\n"
     ]
    },
    {
     "name": "stdout",
     "output_type": "stream",
     "text": [
      "1275:\tlearn: 0.8099254\ttest: 0.7891891\tbest: 0.7895533 (1112)\ttotal: 4m 13s\tremaining: 8m 40s\n"
     ]
    },
    {
     "name": "stdout",
     "output_type": "stream",
     "text": [
      "1300:\tlearn: 0.8105185\ttest: 0.7891702\tbest: 0.7895533 (1112)\ttotal: 4m 18s\tremaining: 8m 35s\n"
     ]
    },
    {
     "name": "stdout",
     "output_type": "stream",
     "text": [
      "1325:\tlearn: 0.8109170\ttest: 0.7891856\tbest: 0.7895533 (1112)\ttotal: 4m 23s\tremaining: 8m 30s\n"
     ]
    },
    {
     "name": "stdout",
     "output_type": "stream",
     "text": [
      "1350:\tlearn: 0.8112648\ttest: 0.7892695\tbest: 0.7895533 (1112)\ttotal: 4m 27s\tremaining: 8m 25s\n"
     ]
    },
    {
     "name": "stdout",
     "output_type": "stream",
     "text": [
      "1375:\tlearn: 0.8119898\ttest: 0.7896273\tbest: 0.7897521 (1372)\ttotal: 4m 32s\tremaining: 8m 20s\n"
     ]
    },
    {
     "name": "stdout",
     "output_type": "stream",
     "text": [
      "1400:\tlearn: 0.8123680\ttest: 0.7896258\tbest: 0.7897790 (1382)\ttotal: 4m 37s\tremaining: 8m 15s\n"
     ]
    },
    {
     "name": "stdout",
     "output_type": "stream",
     "text": [
      "1425:\tlearn: 0.8128204\ttest: 0.7894505\tbest: 0.7899188 (1408)\ttotal: 4m 42s\tremaining: 8m 10s\n"
     ]
    },
    {
     "name": "stdout",
     "output_type": "stream",
     "text": [
      "1450:\tlearn: 0.8131611\ttest: 0.7896140\tbest: 0.7899188 (1408)\ttotal: 4m 47s\tremaining: 8m 5s\n"
     ]
    },
    {
     "name": "stdout",
     "output_type": "stream",
     "text": [
      "1475:\tlearn: 0.8138015\ttest: 0.7896984\tbest: 0.7899188 (1408)\ttotal: 4m 52s\tremaining: 8m\n"
     ]
    },
    {
     "name": "stdout",
     "output_type": "stream",
     "text": [
      "1500:\tlearn: 0.8143555\ttest: 0.7895885\tbest: 0.7899188 (1408)\ttotal: 4m 57s\tremaining: 7m 55s\n"
     ]
    },
    {
     "name": "stdout",
     "output_type": "stream",
     "text": [
      "1525:\tlearn: 0.8148433\ttest: 0.7894665\tbest: 0.7899188 (1408)\ttotal: 5m 2s\tremaining: 7m 50s\n"
     ]
    },
    {
     "name": "stdout",
     "output_type": "stream",
     "text": [
      "1550:\tlearn: 0.8154193\ttest: 0.7895039\tbest: 0.7899188 (1408)\ttotal: 5m 7s\tremaining: 7m 45s\n"
     ]
    },
    {
     "name": "stdout",
     "output_type": "stream",
     "text": [
      "1575:\tlearn: 0.8158600\ttest: 0.7897296\tbest: 0.7899188 (1408)\ttotal: 5m 12s\tremaining: 7m 40s\n"
     ]
    },
    {
     "name": "stdout",
     "output_type": "stream",
     "text": [
      "1600:\tlearn: 0.8160987\ttest: 0.7900638\tbest: 0.7900638 (1600)\ttotal: 5m 17s\tremaining: 7m 35s\n"
     ]
    },
    {
     "name": "stdout",
     "output_type": "stream",
     "text": [
      "1625:\tlearn: 0.8165291\ttest: 0.7903538\tbest: 0.7903538 (1625)\ttotal: 5m 22s\tremaining: 7m 30s\n"
     ]
    },
    {
     "name": "stdout",
     "output_type": "stream",
     "text": [
      "1650:\tlearn: 0.8170178\ttest: 0.7899920\tbest: 0.7903538 (1625)\ttotal: 5m 27s\tremaining: 7m 25s\n"
     ]
    },
    {
     "name": "stdout",
     "output_type": "stream",
     "text": [
      "1675:\tlearn: 0.8175392\ttest: 0.7902204\tbest: 0.7903538 (1625)\ttotal: 5m 32s\tremaining: 7m 21s\n"
     ]
    },
    {
     "name": "stdout",
     "output_type": "stream",
     "text": [
      "1700:\tlearn: 0.8180757\ttest: 0.7902315\tbest: 0.7903538 (1625)\ttotal: 5m 37s\tremaining: 7m 16s\n"
     ]
    },
    {
     "name": "stdout",
     "output_type": "stream",
     "text": [
      "1725:\tlearn: 0.8186130\ttest: 0.7898429\tbest: 0.7903538 (1625)\ttotal: 5m 42s\tremaining: 7m 11s\n"
     ]
    },
    {
     "name": "stdout",
     "output_type": "stream",
     "text": [
      "1750:\tlearn: 0.8189961\ttest: 0.7900042\tbest: 0.7903538 (1625)\ttotal: 5m 47s\tremaining: 7m 6s\n"
     ]
    },
    {
     "name": "stdout",
     "output_type": "stream",
     "text": [
      "1775:\tlearn: 0.8193023\ttest: 0.7901194\tbest: 0.7903538 (1625)\ttotal: 5m 52s\tremaining: 7m 1s\n"
     ]
    },
    {
     "name": "stdout",
     "output_type": "stream",
     "text": [
      "1800:\tlearn: 0.8196654\ttest: 0.7901854\tbest: 0.7903538 (1625)\ttotal: 5m 57s\tremaining: 6m 56s\n"
     ]
    },
    {
     "name": "stdout",
     "output_type": "stream",
     "text": [
      "1825:\tlearn: 0.8199532\ttest: 0.7906542\tbest: 0.7908877 (1818)\ttotal: 6m 2s\tremaining: 6m 51s\n"
     ]
    },
    {
     "name": "stdout",
     "output_type": "stream",
     "text": [
      "1850:\tlearn: 0.8204032\ttest: 0.7903729\tbest: 0.7908877 (1818)\ttotal: 6m 7s\tremaining: 6m 46s\n"
     ]
    },
    {
     "name": "stdout",
     "output_type": "stream",
     "text": [
      "1875:\tlearn: 0.8208937\ttest: 0.7905283\tbest: 0.7908877 (1818)\ttotal: 6m 11s\tremaining: 6m 41s\n"
     ]
    },
    {
     "name": "stdout",
     "output_type": "stream",
     "text": [
      "1900:\tlearn: 0.8211364\ttest: 0.7907715\tbest: 0.7910177 (1893)\ttotal: 6m 16s\tremaining: 6m 36s\n"
     ]
    },
    {
     "name": "stdout",
     "output_type": "stream",
     "text": [
      "1925:\tlearn: 0.8218145\ttest: 0.7907193\tbest: 0.7910177 (1893)\ttotal: 6m 21s\tremaining: 6m 31s\n"
     ]
    },
    {
     "name": "stdout",
     "output_type": "stream",
     "text": [
      "1950:\tlearn: 0.8220784\ttest: 0.7908491\tbest: 0.7910177 (1893)\ttotal: 6m 26s\tremaining: 6m 26s\n"
     ]
    },
    {
     "name": "stdout",
     "output_type": "stream",
     "text": [
      "1975:\tlearn: 0.8225432\ttest: 0.7907795\tbest: 0.7910177 (1893)\ttotal: 6m 31s\tremaining: 6m 21s\n"
     ]
    },
    {
     "name": "stdout",
     "output_type": "stream",
     "text": [
      "2000:\tlearn: 0.8228715\ttest: 0.7906526\tbest: 0.7910177 (1893)\ttotal: 6m 36s\tremaining: 6m 16s\n"
     ]
    },
    {
     "name": "stdout",
     "output_type": "stream",
     "text": [
      "2025:\tlearn: 0.8232351\ttest: 0.7907299\tbest: 0.7910177 (1893)\ttotal: 6m 41s\tremaining: 6m 11s\n"
     ]
    },
    {
     "name": "stdout",
     "output_type": "stream",
     "text": [
      "2050:\tlearn: 0.8236572\ttest: 0.7906138\tbest: 0.7910177 (1893)\ttotal: 6m 46s\tremaining: 6m 6s\n"
     ]
    },
    {
     "name": "stdout",
     "output_type": "stream",
     "text": [
      "2075:\tlearn: 0.8241669\ttest: 0.7904758\tbest: 0.7910177 (1893)\ttotal: 6m 51s\tremaining: 6m 1s\n"
     ]
    },
    {
     "name": "stdout",
     "output_type": "stream",
     "text": [
      "2100:\tlearn: 0.8243290\ttest: 0.7909894\tbest: 0.7911117 (2097)\ttotal: 6m 56s\tremaining: 5m 56s\n"
     ]
    },
    {
     "name": "stdout",
     "output_type": "stream",
     "text": [
      "2125:\tlearn: 0.8248155\ttest: 0.7910003\tbest: 0.7912715 (2109)\ttotal: 7m 1s\tremaining: 5m 51s\n"
     ]
    },
    {
     "name": "stdout",
     "output_type": "stream",
     "text": [
      "2150:\tlearn: 0.8251494\ttest: 0.7908607\tbest: 0.7912715 (2109)\ttotal: 7m 6s\tremaining: 5m 46s\n"
     ]
    },
    {
     "name": "stdout",
     "output_type": "stream",
     "text": [
      "2175:\tlearn: 0.8255448\ttest: 0.7907164\tbest: 0.7912715 (2109)\ttotal: 7m 11s\tremaining: 5m 41s\n"
     ]
    },
    {
     "name": "stdout",
     "output_type": "stream",
     "text": [
      "2200:\tlearn: 0.8260861\ttest: 0.7907232\tbest: 0.7912715 (2109)\ttotal: 7m 16s\tremaining: 5m 36s\n"
     ]
    },
    {
     "name": "stdout",
     "output_type": "stream",
     "text": [
      "2225:\tlearn: 0.8265266\ttest: 0.7908994\tbest: 0.7912715 (2109)\ttotal: 7m 21s\tremaining: 5m 31s\n"
     ]
    },
    {
     "name": "stdout",
     "output_type": "stream",
     "text": [
      "2250:\tlearn: 0.8268796\ttest: 0.7908572\tbest: 0.7912715 (2109)\ttotal: 7m 26s\tremaining: 5m 26s\n"
     ]
    },
    {
     "name": "stdout",
     "output_type": "stream",
     "text": [
      "2275:\tlearn: 0.8272282\ttest: 0.7909530\tbest: 0.7912715 (2109)\ttotal: 7m 31s\tremaining: 5m 21s\n"
     ]
    },
    {
     "name": "stdout",
     "output_type": "stream",
     "text": [
      "2300:\tlearn: 0.8277080\ttest: 0.7908741\tbest: 0.7912715 (2109)\ttotal: 7m 36s\tremaining: 5m 16s\n"
     ]
    },
    {
     "name": "stdout",
     "output_type": "stream",
     "text": [
      "2325:\tlearn: 0.8281459\ttest: 0.7912373\tbest: 0.7912715 (2109)\ttotal: 7m 41s\tremaining: 5m 11s\n"
     ]
    },
    {
     "name": "stdout",
     "output_type": "stream",
     "text": [
      "2350:\tlearn: 0.8286875\ttest: 0.7909291\tbest: 0.7912828 (2330)\ttotal: 7m 45s\tremaining: 5m 7s\n"
     ]
    },
    {
     "name": "stdout",
     "output_type": "stream",
     "text": [
      "2375:\tlearn: 0.8289020\ttest: 0.7908933\tbest: 0.7912828 (2330)\ttotal: 7m 50s\tremaining: 5m 2s\n"
     ]
    },
    {
     "name": "stdout",
     "output_type": "stream",
     "text": [
      "2400:\tlearn: 0.8292911\ttest: 0.7907760\tbest: 0.7912828 (2330)\ttotal: 7m 55s\tremaining: 4m 57s\n"
     ]
    },
    {
     "name": "stdout",
     "output_type": "stream",
     "text": [
      "2425:\tlearn: 0.8295021\ttest: 0.7910191\tbest: 0.7912828 (2330)\ttotal: 8m\tremaining: 4m 52s\n"
     ]
    },
    {
     "name": "stdout",
     "output_type": "stream",
     "text": [
      "2450:\tlearn: 0.8297440\ttest: 0.7914938\tbest: 0.7915768 (2448)\ttotal: 8m 5s\tremaining: 4m 47s\n"
     ]
    },
    {
     "name": "stdout",
     "output_type": "stream",
     "text": [
      "2475:\tlearn: 0.8303228\ttest: 0.7916046\tbest: 0.7916232 (2463)\ttotal: 8m 10s\tremaining: 4m 42s\n"
     ]
    },
    {
     "name": "stdout",
     "output_type": "stream",
     "text": [
      "2500:\tlearn: 0.8308055\ttest: 0.7917392\tbest: 0.7918445 (2498)\ttotal: 8m 15s\tremaining: 4m 37s\n"
     ]
    },
    {
     "name": "stdout",
     "output_type": "stream",
     "text": [
      "2525:\tlearn: 0.8311282\ttest: 0.7917833\tbest: 0.7920139 (2524)\ttotal: 8m 20s\tremaining: 4m 32s\n"
     ]
    },
    {
     "name": "stdout",
     "output_type": "stream",
     "text": [
      "2550:\tlearn: 0.8314016\ttest: 0.7917382\tbest: 0.7920139 (2524)\ttotal: 8m 25s\tremaining: 4m 27s\n"
     ]
    },
    {
     "name": "stdout",
     "output_type": "stream",
     "text": [
      "2575:\tlearn: 0.8318637\ttest: 0.7916400\tbest: 0.7920139 (2524)\ttotal: 8m 30s\tremaining: 4m 22s\n"
     ]
    },
    {
     "name": "stdout",
     "output_type": "stream",
     "text": [
      "2600:\tlearn: 0.8324319\ttest: 0.7916897\tbest: 0.7920139 (2524)\ttotal: 8m 35s\tremaining: 4m 17s\n"
     ]
    },
    {
     "name": "stdout",
     "output_type": "stream",
     "text": [
      "2625:\tlearn: 0.8327848\ttest: 0.7915446\tbest: 0.7920139 (2524)\ttotal: 8m 40s\tremaining: 4m 12s\n"
     ]
    },
    {
     "name": "stdout",
     "output_type": "stream",
     "text": [
      "2650:\tlearn: 0.8331805\ttest: 0.7913879\tbest: 0.7920139 (2524)\ttotal: 8m 45s\tremaining: 4m 7s\n"
     ]
    },
    {
     "name": "stdout",
     "output_type": "stream",
     "text": [
      "2675:\tlearn: 0.8334935\ttest: 0.7910535\tbest: 0.7920139 (2524)\ttotal: 8m 50s\tremaining: 4m 2s\n"
     ]
    },
    {
     "name": "stdout",
     "output_type": "stream",
     "text": [
      "2700:\tlearn: 0.8338111\ttest: 0.7910595\tbest: 0.7920139 (2524)\ttotal: 8m 55s\tremaining: 3m 57s\n"
     ]
    },
    {
     "name": "stdout",
     "output_type": "stream",
     "text": [
      "2725:\tlearn: 0.8340617\ttest: 0.7910798\tbest: 0.7920139 (2524)\ttotal: 9m\tremaining: 3m 52s\n"
     ]
    },
    {
     "name": "stdout",
     "output_type": "stream",
     "text": [
      "2750:\tlearn: 0.8344777\ttest: 0.7911052\tbest: 0.7920139 (2524)\ttotal: 9m 5s\tremaining: 3m 47s\n"
     ]
    },
    {
     "name": "stdout",
     "output_type": "stream",
     "text": [
      "2775:\tlearn: 0.8348573\ttest: 0.7913227\tbest: 0.7920139 (2524)\ttotal: 9m 9s\tremaining: 3m 42s\n"
     ]
    },
    {
     "name": "stdout",
     "output_type": "stream",
     "text": [
      "2800:\tlearn: 0.8352082\ttest: 0.7913883\tbest: 0.7920139 (2524)\ttotal: 9m 14s\tremaining: 3m 37s\n"
     ]
    },
    {
     "name": "stdout",
     "output_type": "stream",
     "text": [
      "2825:\tlearn: 0.8356421\ttest: 0.7914091\tbest: 0.7920139 (2524)\ttotal: 9m 19s\tremaining: 3m 32s\n"
     ]
    },
    {
     "name": "stdout",
     "output_type": "stream",
     "text": [
      "2850:\tlearn: 0.8357503\ttest: 0.7915401\tbest: 0.7920139 (2524)\ttotal: 9m 24s\tremaining: 3m 27s\n"
     ]
    },
    {
     "name": "stdout",
     "output_type": "stream",
     "text": [
      "2875:\tlearn: 0.8362473\ttest: 0.7915042\tbest: 0.7920139 (2524)\ttotal: 9m 29s\tremaining: 3m 22s\n"
     ]
    },
    {
     "name": "stdout",
     "output_type": "stream",
     "text": [
      "2900:\tlearn: 0.8364359\ttest: 0.7915497\tbest: 0.7920139 (2524)\ttotal: 9m 34s\tremaining: 3m 17s\n"
     ]
    },
    {
     "name": "stdout",
     "output_type": "stream",
     "text": [
      "2925:\tlearn: 0.8369586\ttest: 0.7914525\tbest: 0.7920139 (2524)\ttotal: 9m 39s\tremaining: 3m 13s\n"
     ]
    },
    {
     "name": "stdout",
     "output_type": "stream",
     "text": [
      "2950:\tlearn: 0.8373510\ttest: 0.7913502\tbest: 0.7920139 (2524)\ttotal: 9m 44s\tremaining: 3m 8s\n"
     ]
    },
    {
     "name": "stdout",
     "output_type": "stream",
     "text": [
      "2975:\tlearn: 0.8376714\ttest: 0.7915225\tbest: 0.7920139 (2524)\ttotal: 9m 49s\tremaining: 3m 3s\n"
     ]
    },
    {
     "name": "stdout",
     "output_type": "stream",
     "text": [
      "3000:\tlearn: 0.8380374\ttest: 0.7918067\tbest: 0.7920139 (2524)\ttotal: 9m 54s\tremaining: 2m 58s\n"
     ]
    },
    {
     "name": "stdout",
     "output_type": "stream",
     "text": [
      "3025:\tlearn: 0.8382967\ttest: 0.7914572\tbest: 0.7920139 (2524)\ttotal: 9m 59s\tremaining: 2m 53s\n"
     ]
    },
    {
     "name": "stdout",
     "output_type": "stream",
     "text": [
      "3050:\tlearn: 0.8387263\ttest: 0.7918448\tbest: 0.7920139 (2524)\ttotal: 10m 4s\tremaining: 2m 48s\n"
     ]
    },
    {
     "name": "stdout",
     "output_type": "stream",
     "text": [
      "3075:\tlearn: 0.8391875\ttest: 0.7916107\tbest: 0.7920139 (2524)\ttotal: 10m 9s\tremaining: 2m 43s\n"
     ]
    },
    {
     "name": "stdout",
     "output_type": "stream",
     "text": [
      "3100:\tlearn: 0.8396645\ttest: 0.7916022\tbest: 0.7920139 (2524)\ttotal: 10m 14s\tremaining: 2m 38s\n"
     ]
    },
    {
     "name": "stdout",
     "output_type": "stream",
     "text": [
      "3125:\tlearn: 0.8399163\ttest: 0.7915488\tbest: 0.7920139 (2524)\ttotal: 10m 19s\tremaining: 2m 33s\n"
     ]
    },
    {
     "name": "stdout",
     "output_type": "stream",
     "text": [
      "3150:\tlearn: 0.8403121\ttest: 0.7912556\tbest: 0.7920139 (2524)\ttotal: 10m 24s\tremaining: 2m 28s\n"
     ]
    },
    {
     "name": "stdout",
     "output_type": "stream",
     "text": [
      "3175:\tlearn: 0.8406146\ttest: 0.7914925\tbest: 0.7920139 (2524)\ttotal: 10m 29s\tremaining: 2m 23s\n"
     ]
    },
    {
     "name": "stdout",
     "output_type": "stream",
     "text": [
      "3200:\tlearn: 0.8407550\ttest: 0.7918585\tbest: 0.7920139 (2524)\ttotal: 10m 34s\tremaining: 2m 18s\n"
     ]
    },
    {
     "name": "stdout",
     "output_type": "stream",
     "text": [
      "3225:\tlearn: 0.8412285\ttest: 0.7919443\tbest: 0.7920260 (3213)\ttotal: 10m 39s\tremaining: 2m 13s\n"
     ]
    },
    {
     "name": "stdout",
     "output_type": "stream",
     "text": [
      "3250:\tlearn: 0.8417236\ttest: 0.7918185\tbest: 0.7921350 (3240)\ttotal: 10m 44s\tremaining: 2m 8s\n"
     ]
    },
    {
     "name": "stdout",
     "output_type": "stream",
     "text": [
      "3275:\tlearn: 0.8419339\ttest: 0.7913799\tbest: 0.7921350 (3240)\ttotal: 10m 49s\tremaining: 2m 3s\n"
     ]
    },
    {
     "name": "stdout",
     "output_type": "stream",
     "text": [
      "3300:\tlearn: 0.8421298\ttest: 0.7914896\tbest: 0.7921350 (3240)\ttotal: 10m 54s\tremaining: 1m 58s\n"
     ]
    },
    {
     "name": "stdout",
     "output_type": "stream",
     "text": [
      "3325:\tlearn: 0.8424769\ttest: 0.7915201\tbest: 0.7921350 (3240)\ttotal: 10m 59s\tremaining: 1m 53s\n"
     ]
    },
    {
     "name": "stdout",
     "output_type": "stream",
     "text": [
      "3350:\tlearn: 0.8428701\ttest: 0.7916004\tbest: 0.7921350 (3240)\ttotal: 11m 4s\tremaining: 1m 48s\n"
     ]
    },
    {
     "name": "stdout",
     "output_type": "stream",
     "text": [
      "3375:\tlearn: 0.8434274\ttest: 0.7914280\tbest: 0.7921350 (3240)\ttotal: 11m 9s\tremaining: 1m 43s\n"
     ]
    },
    {
     "name": "stdout",
     "output_type": "stream",
     "text": [
      "3400:\tlearn: 0.8438397\ttest: 0.7912950\tbest: 0.7921350 (3240)\ttotal: 11m 14s\tremaining: 1m 38s\n"
     ]
    },
    {
     "name": "stdout",
     "output_type": "stream",
     "text": [
      "3425:\tlearn: 0.8442098\ttest: 0.7912558\tbest: 0.7921350 (3240)\ttotal: 11m 18s\tremaining: 1m 33s\n"
     ]
    },
    {
     "name": "stdout",
     "output_type": "stream",
     "text": [
      "3450:\tlearn: 0.8445622\ttest: 0.7911273\tbest: 0.7921350 (3240)\ttotal: 11m 23s\tremaining: 1m 28s\n"
     ]
    },
    {
     "name": "stdout",
     "output_type": "stream",
     "text": [
      "3475:\tlearn: 0.8448781\ttest: 0.7910534\tbest: 0.7921350 (3240)\ttotal: 11m 28s\tremaining: 1m 24s\n"
     ]
    },
    {
     "name": "stdout",
     "output_type": "stream",
     "text": [
      "3500:\tlearn: 0.8451632\ttest: 0.7914581\tbest: 0.7921350 (3240)\ttotal: 11m 33s\tremaining: 1m 19s\n"
     ]
    },
    {
     "name": "stdout",
     "output_type": "stream",
     "text": [
      "3525:\tlearn: 0.8454963\ttest: 0.7911873\tbest: 0.7921350 (3240)\ttotal: 11m 38s\tremaining: 1m 14s\n"
     ]
    },
    {
     "name": "stdout",
     "output_type": "stream",
     "text": [
      "3550:\tlearn: 0.8457993\ttest: 0.7913254\tbest: 0.7921350 (3240)\ttotal: 11m 43s\tremaining: 1m 9s\n"
     ]
    },
    {
     "name": "stdout",
     "output_type": "stream",
     "text": [
      "3575:\tlearn: 0.8462472\ttest: 0.7906884\tbest: 0.7921350 (3240)\ttotal: 11m 48s\tremaining: 1m 4s\n"
     ]
    },
    {
     "name": "stdout",
     "output_type": "stream",
     "text": [
      "3600:\tlearn: 0.8464233\ttest: 0.7909887\tbest: 0.7921350 (3240)\ttotal: 11m 53s\tremaining: 59.3s\n"
     ]
    },
    {
     "name": "stdout",
     "output_type": "stream",
     "text": [
      "3625:\tlearn: 0.8467012\ttest: 0.7908013\tbest: 0.7921350 (3240)\ttotal: 11m 58s\tremaining: 54.3s\n"
     ]
    },
    {
     "name": "stdout",
     "output_type": "stream",
     "text": [
      "3650:\tlearn: 0.8471164\ttest: 0.7903208\tbest: 0.7921350 (3240)\ttotal: 12m 3s\tremaining: 49.4s\n"
     ]
    },
    {
     "name": "stdout",
     "output_type": "stream",
     "text": [
      "3675:\tlearn: 0.8474157\ttest: 0.7905402\tbest: 0.7921350 (3240)\ttotal: 12m 8s\tremaining: 44.4s\n"
     ]
    },
    {
     "name": "stdout",
     "output_type": "stream",
     "text": [
      "3700:\tlearn: 0.8478144\ttest: 0.7907306\tbest: 0.7921350 (3240)\ttotal: 12m 13s\tremaining: 39.4s\n"
     ]
    },
    {
     "name": "stdout",
     "output_type": "stream",
     "text": [
      "3725:\tlearn: 0.8480814\ttest: 0.7910468\tbest: 0.7921350 (3240)\ttotal: 12m 18s\tremaining: 34.5s\n"
     ]
    },
    {
     "name": "stdout",
     "output_type": "stream",
     "text": [
      "3750:\tlearn: 0.8483759\ttest: 0.7908651\tbest: 0.7921350 (3240)\ttotal: 12m 23s\tremaining: 29.5s\n"
     ]
    },
    {
     "name": "stdout",
     "output_type": "stream",
     "text": [
      "3775:\tlearn: 0.8488039\ttest: 0.7910585\tbest: 0.7921350 (3240)\ttotal: 12m 28s\tremaining: 24.6s\n"
     ]
    },
    {
     "name": "stdout",
     "output_type": "stream",
     "text": [
      "3800:\tlearn: 0.8490737\ttest: 0.7913620\tbest: 0.7921350 (3240)\ttotal: 12m 33s\tremaining: 19.6s\n"
     ]
    },
    {
     "name": "stdout",
     "output_type": "stream",
     "text": [
      "3825:\tlearn: 0.8492701\ttest: 0.7918881\tbest: 0.7921350 (3240)\ttotal: 12m 38s\tremaining: 14.7s\n"
     ]
    },
    {
     "name": "stdout",
     "output_type": "stream",
     "text": [
      "3850:\tlearn: 0.8493897\ttest: 0.7919738\tbest: 0.7921350 (3240)\ttotal: 12m 43s\tremaining: 9.71s\n"
     ]
    },
    {
     "name": "stdout",
     "output_type": "stream",
     "text": [
      "3875:\tlearn: 0.8499148\ttest: 0.7918264\tbest: 0.7921350 (3240)\ttotal: 12m 48s\tremaining: 4.76s\n"
     ]
    },
    {
     "name": "stdout",
     "output_type": "stream",
     "text": [
      "3899:\tlearn: 0.8502037\ttest: 0.7916215\tbest: 0.7921350 (3240)\ttotal: 12m 52s\tremaining: 0us\n",
      "\n",
      "bestTest = 0.7921350399\n",
      "bestIteration = 3240\n",
      "\n"
     ]
    },
    {
     "name": "stdout",
     "output_type": "stream",
     "text": [
      "######################################## training model 4/5 ########################################\n"
     ]
    },
    {
     "name": "stdout",
     "output_type": "stream",
     "text": [
      "0:\tlearn: 0.6165961\ttest: 0.6176107\tbest: 0.6176107 (0)\ttotal: 520ms\tremaining: 33m 47s\n"
     ]
    },
    {
     "name": "stdout",
     "output_type": "stream",
     "text": [
      "25:\tlearn: 0.7328770\ttest: 0.7379878\tbest: 0.7379878 (25)\ttotal: 5.35s\tremaining: 13m 16s\n"
     ]
    },
    {
     "name": "stdout",
     "output_type": "stream",
     "text": [
      "50:\tlearn: 0.7484805\ttest: 0.7534124\tbest: 0.7536777 (49)\ttotal: 10.3s\tremaining: 12m 58s\n"
     ]
    },
    {
     "name": "stdout",
     "output_type": "stream",
     "text": [
      "75:\tlearn: 0.7561832\ttest: 0.7605382\tbest: 0.7605382 (75)\ttotal: 15.3s\tremaining: 12m 51s\n"
     ]
    },
    {
     "name": "stdout",
     "output_type": "stream",
     "text": [
      "100:\tlearn: 0.7609177\ttest: 0.7645124\tbest: 0.7645124 (100)\ttotal: 20.3s\tremaining: 12m 42s\n"
     ]
    },
    {
     "name": "stdout",
     "output_type": "stream",
     "text": [
      "125:\tlearn: 0.7638394\ttest: 0.7667436\tbest: 0.7667436 (125)\ttotal: 25.2s\tremaining: 12m 34s\n"
     ]
    },
    {
     "name": "stdout",
     "output_type": "stream",
     "text": [
      "150:\tlearn: 0.7663388\ttest: 0.7690086\tbest: 0.7691803 (144)\ttotal: 30.1s\tremaining: 12m 27s\n"
     ]
    },
    {
     "name": "stdout",
     "output_type": "stream",
     "text": [
      "175:\tlearn: 0.7684048\ttest: 0.7702114\tbest: 0.7703115 (171)\ttotal: 35s\tremaining: 12m 21s\n"
     ]
    },
    {
     "name": "stdout",
     "output_type": "stream",
     "text": [
      "200:\tlearn: 0.7700657\ttest: 0.7721386\tbest: 0.7721386 (200)\ttotal: 40s\tremaining: 12m 15s\n"
     ]
    },
    {
     "name": "stdout",
     "output_type": "stream",
     "text": [
      "225:\tlearn: 0.7713954\ttest: 0.7738973\tbest: 0.7738973 (225)\ttotal: 44.9s\tremaining: 12m 10s\n"
     ]
    },
    {
     "name": "stdout",
     "output_type": "stream",
     "text": [
      "250:\tlearn: 0.7730002\ttest: 0.7750721\tbest: 0.7753235 (247)\ttotal: 49.9s\tremaining: 12m 5s\n"
     ]
    },
    {
     "name": "stdout",
     "output_type": "stream",
     "text": [
      "275:\tlearn: 0.7750416\ttest: 0.7764553\tbest: 0.7764553 (275)\ttotal: 54.9s\tremaining: 12m\n"
     ]
    },
    {
     "name": "stdout",
     "output_type": "stream",
     "text": [
      "300:\tlearn: 0.7777115\ttest: 0.7797246\tbest: 0.7797246 (300)\ttotal: 59.9s\tremaining: 11m 56s\n"
     ]
    },
    {
     "name": "stdout",
     "output_type": "stream",
     "text": [
      "325:\tlearn: 0.7795885\ttest: 0.7820476\tbest: 0.7820823 (323)\ttotal: 1m 4s\tremaining: 11m 51s\n"
     ]
    },
    {
     "name": "stdout",
     "output_type": "stream",
     "text": [
      "350:\tlearn: 0.7815637\ttest: 0.7836089\tbest: 0.7836089 (350)\ttotal: 1m 9s\tremaining: 11m 46s\n"
     ]
    },
    {
     "name": "stdout",
     "output_type": "stream",
     "text": [
      "375:\tlearn: 0.7832301\ttest: 0.7848709\tbest: 0.7848709 (375)\ttotal: 1m 14s\tremaining: 11m 41s\n"
     ]
    },
    {
     "name": "stdout",
     "output_type": "stream",
     "text": [
      "400:\tlearn: 0.7847142\ttest: 0.7855387\tbest: 0.7857512 (398)\ttotal: 1m 19s\tremaining: 11m 35s\n"
     ]
    },
    {
     "name": "stdout",
     "output_type": "stream",
     "text": [
      "425:\tlearn: 0.7860725\ttest: 0.7865376\tbest: 0.7866429 (423)\ttotal: 1m 24s\tremaining: 11m 30s\n"
     ]
    },
    {
     "name": "stdout",
     "output_type": "stream",
     "text": [
      "450:\tlearn: 0.7871276\ttest: 0.7872181\tbest: 0.7872942 (449)\ttotal: 1m 29s\tremaining: 11m 25s\n"
     ]
    },
    {
     "name": "stdout",
     "output_type": "stream",
     "text": [
      "475:\tlearn: 0.7879491\ttest: 0.7870184\tbest: 0.7874402 (458)\ttotal: 1m 34s\tremaining: 11m 19s\n"
     ]
    },
    {
     "name": "stdout",
     "output_type": "stream",
     "text": [
      "500:\tlearn: 0.7892289\ttest: 0.7878951\tbest: 0.7878951 (500)\ttotal: 1m 39s\tremaining: 11m 14s\n"
     ]
    },
    {
     "name": "stdout",
     "output_type": "stream",
     "text": [
      "525:\tlearn: 0.7900400\ttest: 0.7885846\tbest: 0.7887903 (524)\ttotal: 1m 44s\tremaining: 11m 9s\n"
     ]
    },
    {
     "name": "stdout",
     "output_type": "stream",
     "text": [
      "550:\tlearn: 0.7907545\ttest: 0.7892023\tbest: 0.7892534 (548)\ttotal: 1m 49s\tremaining: 11m 4s\n"
     ]
    },
    {
     "name": "stdout",
     "output_type": "stream",
     "text": [
      "575:\tlearn: 0.7915229\ttest: 0.7898982\tbest: 0.7900012 (568)\ttotal: 1m 54s\tremaining: 10m 59s\n"
     ]
    },
    {
     "name": "stdout",
     "output_type": "stream",
     "text": [
      "600:\tlearn: 0.7924922\ttest: 0.7902946\tbest: 0.7903337 (599)\ttotal: 1m 59s\tremaining: 10m 54s\n"
     ]
    },
    {
     "name": "stdout",
     "output_type": "stream",
     "text": [
      "625:\tlearn: 0.7933802\ttest: 0.7902681\tbest: 0.7906716 (613)\ttotal: 2m 4s\tremaining: 10m 49s\n"
     ]
    },
    {
     "name": "stdout",
     "output_type": "stream",
     "text": [
      "650:\tlearn: 0.7942371\ttest: 0.7902156\tbest: 0.7906716 (613)\ttotal: 2m 9s\tremaining: 10m 44s\n"
     ]
    },
    {
     "name": "stdout",
     "output_type": "stream",
     "text": [
      "675:\tlearn: 0.7951692\ttest: 0.7911678\tbest: 0.7912456 (673)\ttotal: 2m 14s\tremaining: 10m 40s\n"
     ]
    },
    {
     "name": "stdout",
     "output_type": "stream",
     "text": [
      "700:\tlearn: 0.7957145\ttest: 0.7918313\tbest: 0.7918313 (700)\ttotal: 2m 19s\tremaining: 10m 34s\n"
     ]
    },
    {
     "name": "stdout",
     "output_type": "stream",
     "text": [
      "725:\tlearn: 0.7963770\ttest: 0.7916333\tbest: 0.7919698 (705)\ttotal: 2m 24s\tremaining: 10m 29s\n"
     ]
    },
    {
     "name": "stdout",
     "output_type": "stream",
     "text": [
      "750:\tlearn: 0.7969744\ttest: 0.7925144\tbest: 0.7925144 (750)\ttotal: 2m 28s\tremaining: 10m 24s\n"
     ]
    },
    {
     "name": "stdout",
     "output_type": "stream",
     "text": [
      "775:\tlearn: 0.7975260\ttest: 0.7926505\tbest: 0.7926505 (775)\ttotal: 2m 33s\tremaining: 10m 19s\n"
     ]
    },
    {
     "name": "stdout",
     "output_type": "stream",
     "text": [
      "800:\tlearn: 0.7984544\ttest: 0.7929449\tbest: 0.7929449 (800)\ttotal: 2m 38s\tremaining: 10m 14s\n"
     ]
    },
    {
     "name": "stdout",
     "output_type": "stream",
     "text": [
      "825:\tlearn: 0.7989232\ttest: 0.7928282\tbest: 0.7929449 (800)\ttotal: 2m 43s\tremaining: 10m 9s\n"
     ]
    },
    {
     "name": "stdout",
     "output_type": "stream",
     "text": [
      "850:\tlearn: 0.7995953\ttest: 0.7930411\tbest: 0.7931236 (839)\ttotal: 2m 48s\tremaining: 10m 5s\n"
     ]
    },
    {
     "name": "stdout",
     "output_type": "stream",
     "text": [
      "875:\tlearn: 0.8002427\ttest: 0.7933111\tbest: 0.7933111 (875)\ttotal: 2m 53s\tremaining: 10m\n"
     ]
    },
    {
     "name": "stdout",
     "output_type": "stream",
     "text": [
      "900:\tlearn: 0.8007357\ttest: 0.7937361\tbest: 0.7938409 (887)\ttotal: 2m 58s\tremaining: 9m 55s\n"
     ]
    },
    {
     "name": "stdout",
     "output_type": "stream",
     "text": [
      "925:\tlearn: 0.8013856\ttest: 0.7937176\tbest: 0.7940072 (912)\ttotal: 3m 3s\tremaining: 9m 50s\n"
     ]
    },
    {
     "name": "stdout",
     "output_type": "stream",
     "text": [
      "950:\tlearn: 0.8023662\ttest: 0.7936881\tbest: 0.7940072 (912)\ttotal: 3m 8s\tremaining: 9m 45s\n"
     ]
    },
    {
     "name": "stdout",
     "output_type": "stream",
     "text": [
      "975:\tlearn: 0.8028738\ttest: 0.7936745\tbest: 0.7940324 (958)\ttotal: 3m 13s\tremaining: 9m 40s\n"
     ]
    },
    {
     "name": "stdout",
     "output_type": "stream",
     "text": [
      "1000:\tlearn: 0.8032856\ttest: 0.7939921\tbest: 0.7940324 (958)\ttotal: 3m 18s\tremaining: 9m 35s\n"
     ]
    },
    {
     "name": "stdout",
     "output_type": "stream",
     "text": [
      "1025:\tlearn: 0.8038906\ttest: 0.7940745\tbest: 0.7941801 (1024)\ttotal: 3m 23s\tremaining: 9m 30s\n"
     ]
    },
    {
     "name": "stdout",
     "output_type": "stream",
     "text": [
      "1050:\tlearn: 0.8041927\ttest: 0.7940772\tbest: 0.7941801 (1024)\ttotal: 3m 28s\tremaining: 9m 25s\n"
     ]
    },
    {
     "name": "stdout",
     "output_type": "stream",
     "text": [
      "1075:\tlearn: 0.8051700\ttest: 0.7939948\tbest: 0.7942854 (1069)\ttotal: 3m 33s\tremaining: 9m 20s\n"
     ]
    },
    {
     "name": "stdout",
     "output_type": "stream",
     "text": [
      "1100:\tlearn: 0.8057671\ttest: 0.7939985\tbest: 0.7942854 (1069)\ttotal: 3m 38s\tremaining: 9m 15s\n"
     ]
    },
    {
     "name": "stdout",
     "output_type": "stream",
     "text": [
      "1125:\tlearn: 0.8062212\ttest: 0.7941192\tbest: 0.7942854 (1069)\ttotal: 3m 43s\tremaining: 9m 10s\n"
     ]
    },
    {
     "name": "stdout",
     "output_type": "stream",
     "text": [
      "1150:\tlearn: 0.8066975\ttest: 0.7940971\tbest: 0.7943789 (1131)\ttotal: 3m 48s\tremaining: 9m 5s\n"
     ]
    },
    {
     "name": "stdout",
     "output_type": "stream",
     "text": [
      "1175:\tlearn: 0.8071145\ttest: 0.7939512\tbest: 0.7943789 (1131)\ttotal: 3m 53s\tremaining: 9m\n"
     ]
    },
    {
     "name": "stdout",
     "output_type": "stream",
     "text": [
      "1200:\tlearn: 0.8075418\ttest: 0.7940605\tbest: 0.7943789 (1131)\ttotal: 3m 58s\tremaining: 8m 55s\n"
     ]
    },
    {
     "name": "stdout",
     "output_type": "stream",
     "text": [
      "1225:\tlearn: 0.8079224\ttest: 0.7944490\tbest: 0.7944490 (1225)\ttotal: 4m 3s\tremaining: 8m 50s\n"
     ]
    },
    {
     "name": "stdout",
     "output_type": "stream",
     "text": [
      "1250:\tlearn: 0.8084250\ttest: 0.7943252\tbest: 0.7946990 (1248)\ttotal: 4m 8s\tremaining: 8m 45s\n"
     ]
    },
    {
     "name": "stdout",
     "output_type": "stream",
     "text": [
      "1275:\tlearn: 0.8089871\ttest: 0.7946563\tbest: 0.7947703 (1261)\ttotal: 4m 13s\tremaining: 8m 40s\n"
     ]
    },
    {
     "name": "stdout",
     "output_type": "stream",
     "text": [
      "1300:\tlearn: 0.8094662\ttest: 0.7946966\tbest: 0.7948883 (1278)\ttotal: 4m 18s\tremaining: 8m 35s\n"
     ]
    },
    {
     "name": "stdout",
     "output_type": "stream",
     "text": [
      "1325:\tlearn: 0.8099107\ttest: 0.7946454\tbest: 0.7948883 (1278)\ttotal: 4m 22s\tremaining: 8m 30s\n"
     ]
    },
    {
     "name": "stdout",
     "output_type": "stream",
     "text": [
      "1350:\tlearn: 0.8104186\ttest: 0.7950621\tbest: 0.7950621 (1350)\ttotal: 4m 27s\tremaining: 8m 25s\n"
     ]
    },
    {
     "name": "stdout",
     "output_type": "stream",
     "text": [
      "1375:\tlearn: 0.8112984\ttest: 0.7954182\tbest: 0.7954607 (1373)\ttotal: 4m 32s\tremaining: 8m 20s\n"
     ]
    },
    {
     "name": "stdout",
     "output_type": "stream",
     "text": [
      "1400:\tlearn: 0.8118480\ttest: 0.7954294\tbest: 0.7956338 (1382)\ttotal: 4m 37s\tremaining: 8m 15s\n"
     ]
    },
    {
     "name": "stdout",
     "output_type": "stream",
     "text": [
      "1425:\tlearn: 0.8119017\ttest: 0.7948928\tbest: 0.7956338 (1382)\ttotal: 4m 42s\tremaining: 8m 10s\n"
     ]
    },
    {
     "name": "stdout",
     "output_type": "stream",
     "text": [
      "1450:\tlearn: 0.8124217\ttest: 0.7953487\tbest: 0.7956338 (1382)\ttotal: 4m 47s\tremaining: 8m 5s\n"
     ]
    },
    {
     "name": "stdout",
     "output_type": "stream",
     "text": [
      "1475:\tlearn: 0.8130267\ttest: 0.7956348\tbest: 0.7958449 (1474)\ttotal: 4m 52s\tremaining: 8m\n"
     ]
    },
    {
     "name": "stdout",
     "output_type": "stream",
     "text": [
      "1500:\tlearn: 0.8132206\ttest: 0.7953993\tbest: 0.7958449 (1474)\ttotal: 4m 57s\tremaining: 7m 55s\n"
     ]
    },
    {
     "name": "stdout",
     "output_type": "stream",
     "text": [
      "1525:\tlearn: 0.8135720\ttest: 0.7952812\tbest: 0.7958449 (1474)\ttotal: 5m 2s\tremaining: 7m 50s\n"
     ]
    },
    {
     "name": "stdout",
     "output_type": "stream",
     "text": [
      "1550:\tlearn: 0.8141172\ttest: 0.7950811\tbest: 0.7958449 (1474)\ttotal: 5m 7s\tremaining: 7m 45s\n"
     ]
    },
    {
     "name": "stdout",
     "output_type": "stream",
     "text": [
      "1575:\tlearn: 0.8145203\ttest: 0.7954548\tbest: 0.7958449 (1474)\ttotal: 5m 12s\tremaining: 7m 40s\n"
     ]
    },
    {
     "name": "stdout",
     "output_type": "stream",
     "text": [
      "1600:\tlearn: 0.8149062\ttest: 0.7954258\tbest: 0.7958449 (1474)\ttotal: 5m 17s\tremaining: 7m 35s\n"
     ]
    },
    {
     "name": "stdout",
     "output_type": "stream",
     "text": [
      "1625:\tlearn: 0.8153971\ttest: 0.7952941\tbest: 0.7958449 (1474)\ttotal: 5m 22s\tremaining: 7m 30s\n"
     ]
    },
    {
     "name": "stdout",
     "output_type": "stream",
     "text": [
      "1650:\tlearn: 0.8158452\ttest: 0.7956400\tbest: 0.7958449 (1474)\ttotal: 5m 27s\tremaining: 7m 25s\n"
     ]
    },
    {
     "name": "stdout",
     "output_type": "stream",
     "text": [
      "1675:\tlearn: 0.8162571\ttest: 0.7956947\tbest: 0.7958449 (1474)\ttotal: 5m 32s\tremaining: 7m 20s\n"
     ]
    },
    {
     "name": "stdout",
     "output_type": "stream",
     "text": [
      "1700:\tlearn: 0.8165947\ttest: 0.7953291\tbest: 0.7958449 (1474)\ttotal: 5m 37s\tremaining: 7m 15s\n"
     ]
    },
    {
     "name": "stdout",
     "output_type": "stream",
     "text": [
      "1725:\tlearn: 0.8170744\ttest: 0.7953659\tbest: 0.7958449 (1474)\ttotal: 5m 42s\tremaining: 7m 10s\n"
     ]
    },
    {
     "name": "stdout",
     "output_type": "stream",
     "text": [
      "1750:\tlearn: 0.8173368\ttest: 0.7952720\tbest: 0.7958449 (1474)\ttotal: 5m 47s\tremaining: 7m 5s\n"
     ]
    },
    {
     "name": "stdout",
     "output_type": "stream",
     "text": [
      "1775:\tlearn: 0.8178891\ttest: 0.7954887\tbest: 0.7958449 (1474)\ttotal: 5m 51s\tremaining: 7m\n"
     ]
    },
    {
     "name": "stdout",
     "output_type": "stream",
     "text": [
      "1800:\tlearn: 0.8180080\ttest: 0.7952432\tbest: 0.7958449 (1474)\ttotal: 5m 56s\tremaining: 6m 55s\n"
     ]
    },
    {
     "name": "stdout",
     "output_type": "stream",
     "text": [
      "1825:\tlearn: 0.8185794\ttest: 0.7953436\tbest: 0.7958449 (1474)\ttotal: 6m 1s\tremaining: 6m 50s\n"
     ]
    },
    {
     "name": "stdout",
     "output_type": "stream",
     "text": [
      "1850:\tlearn: 0.8188118\ttest: 0.7953144\tbest: 0.7958449 (1474)\ttotal: 6m 6s\tremaining: 6m 45s\n"
     ]
    },
    {
     "name": "stdout",
     "output_type": "stream",
     "text": [
      "1875:\tlearn: 0.8193430\ttest: 0.7955399\tbest: 0.7958449 (1474)\ttotal: 6m 11s\tremaining: 6m 40s\n"
     ]
    },
    {
     "name": "stdout",
     "output_type": "stream",
     "text": [
      "1900:\tlearn: 0.8197066\ttest: 0.7956534\tbest: 0.7958449 (1474)\ttotal: 6m 16s\tremaining: 6m 36s\n"
     ]
    },
    {
     "name": "stdout",
     "output_type": "stream",
     "text": [
      "1925:\tlearn: 0.8199470\ttest: 0.7958453\tbest: 0.7958657 (1913)\ttotal: 6m 21s\tremaining: 6m 31s\n"
     ]
    },
    {
     "name": "stdout",
     "output_type": "stream",
     "text": [
      "1950:\tlearn: 0.8205780\ttest: 0.7957333\tbest: 0.7960235 (1940)\ttotal: 6m 26s\tremaining: 6m 26s\n"
     ]
    },
    {
     "name": "stdout",
     "output_type": "stream",
     "text": [
      "1975:\tlearn: 0.8208946\ttest: 0.7960518\tbest: 0.7961557 (1973)\ttotal: 6m 31s\tremaining: 6m 21s\n"
     ]
    },
    {
     "name": "stdout",
     "output_type": "stream",
     "text": [
      "2000:\tlearn: 0.8212704\ttest: 0.7958408\tbest: 0.7963032 (1981)\ttotal: 6m 36s\tremaining: 6m 16s\n"
     ]
    },
    {
     "name": "stdout",
     "output_type": "stream",
     "text": [
      "2025:\tlearn: 0.8215381\ttest: 0.7956565\tbest: 0.7963032 (1981)\ttotal: 6m 41s\tremaining: 6m 11s\n"
     ]
    },
    {
     "name": "stdout",
     "output_type": "stream",
     "text": [
      "2050:\tlearn: 0.8220004\ttest: 0.7955889\tbest: 0.7963032 (1981)\ttotal: 6m 46s\tremaining: 6m 6s\n"
     ]
    },
    {
     "name": "stdout",
     "output_type": "stream",
     "text": [
      "2075:\tlearn: 0.8224773\ttest: 0.7955928\tbest: 0.7963032 (1981)\ttotal: 6m 51s\tremaining: 6m 1s\n"
     ]
    },
    {
     "name": "stdout",
     "output_type": "stream",
     "text": [
      "2100:\tlearn: 0.8230676\ttest: 0.7954976\tbest: 0.7963032 (1981)\ttotal: 6m 56s\tremaining: 5m 56s\n"
     ]
    },
    {
     "name": "stdout",
     "output_type": "stream",
     "text": [
      "2125:\tlearn: 0.8234264\ttest: 0.7956067\tbest: 0.7963032 (1981)\ttotal: 7m 1s\tremaining: 5m 51s\n"
     ]
    },
    {
     "name": "stdout",
     "output_type": "stream",
     "text": [
      "2150:\tlearn: 0.8238817\ttest: 0.7955747\tbest: 0.7963032 (1981)\ttotal: 7m 6s\tremaining: 5m 46s\n"
     ]
    },
    {
     "name": "stdout",
     "output_type": "stream",
     "text": [
      "2175:\tlearn: 0.8239992\ttest: 0.7960014\tbest: 0.7963032 (1981)\ttotal: 7m 11s\tremaining: 5m 41s\n"
     ]
    },
    {
     "name": "stdout",
     "output_type": "stream",
     "text": [
      "2200:\tlearn: 0.8243808\ttest: 0.7957705\tbest: 0.7963032 (1981)\ttotal: 7m 16s\tremaining: 5m 36s\n"
     ]
    },
    {
     "name": "stdout",
     "output_type": "stream",
     "text": [
      "2225:\tlearn: 0.8247251\ttest: 0.7960962\tbest: 0.7963032 (1981)\ttotal: 7m 20s\tremaining: 5m 31s\n"
     ]
    },
    {
     "name": "stdout",
     "output_type": "stream",
     "text": [
      "2250:\tlearn: 0.8252744\ttest: 0.7959584\tbest: 0.7963032 (1981)\ttotal: 7m 25s\tremaining: 5m 26s\n"
     ]
    },
    {
     "name": "stdout",
     "output_type": "stream",
     "text": [
      "2275:\tlearn: 0.8258566\ttest: 0.7961563\tbest: 0.7963032 (1981)\ttotal: 7m 30s\tremaining: 5m 21s\n"
     ]
    },
    {
     "name": "stdout",
     "output_type": "stream",
     "text": [
      "2300:\tlearn: 0.8262592\ttest: 0.7960750\tbest: 0.7964542 (2293)\ttotal: 7m 35s\tremaining: 5m 16s\n"
     ]
    },
    {
     "name": "stdout",
     "output_type": "stream",
     "text": [
      "2325:\tlearn: 0.8267011\ttest: 0.7962773\tbest: 0.7964542 (2293)\ttotal: 7m 40s\tremaining: 5m 11s\n"
     ]
    },
    {
     "name": "stdout",
     "output_type": "stream",
     "text": [
      "2350:\tlearn: 0.8271329\ttest: 0.7961807\tbest: 0.7965324 (2333)\ttotal: 7m 45s\tremaining: 5m 6s\n"
     ]
    },
    {
     "name": "stdout",
     "output_type": "stream",
     "text": [
      "2375:\tlearn: 0.8274400\ttest: 0.7957843\tbest: 0.7965324 (2333)\ttotal: 7m 50s\tremaining: 5m 1s\n"
     ]
    },
    {
     "name": "stdout",
     "output_type": "stream",
     "text": [
      "2400:\tlearn: 0.8278386\ttest: 0.7957421\tbest: 0.7965324 (2333)\ttotal: 7m 55s\tremaining: 4m 56s\n"
     ]
    },
    {
     "name": "stdout",
     "output_type": "stream",
     "text": [
      "2425:\tlearn: 0.8281365\ttest: 0.7956320\tbest: 0.7965324 (2333)\ttotal: 8m\tremaining: 4m 51s\n"
     ]
    },
    {
     "name": "stdout",
     "output_type": "stream",
     "text": [
      "2450:\tlearn: 0.8285120\ttest: 0.7957074\tbest: 0.7965324 (2333)\ttotal: 8m 5s\tremaining: 4m 46s\n"
     ]
    },
    {
     "name": "stdout",
     "output_type": "stream",
     "text": [
      "2475:\tlearn: 0.8287782\ttest: 0.7952942\tbest: 0.7965324 (2333)\ttotal: 8m 10s\tremaining: 4m 41s\n"
     ]
    },
    {
     "name": "stdout",
     "output_type": "stream",
     "text": [
      "2500:\tlearn: 0.8292256\ttest: 0.7953212\tbest: 0.7965324 (2333)\ttotal: 8m 15s\tremaining: 4m 37s\n"
     ]
    },
    {
     "name": "stdout",
     "output_type": "stream",
     "text": [
      "2525:\tlearn: 0.8296353\ttest: 0.7952651\tbest: 0.7965324 (2333)\ttotal: 8m 20s\tremaining: 4m 32s\n"
     ]
    },
    {
     "name": "stdout",
     "output_type": "stream",
     "text": [
      "2550:\tlearn: 0.8298923\ttest: 0.7954737\tbest: 0.7965324 (2333)\ttotal: 8m 25s\tremaining: 4m 27s\n"
     ]
    },
    {
     "name": "stdout",
     "output_type": "stream",
     "text": [
      "2575:\tlearn: 0.8303165\ttest: 0.7953070\tbest: 0.7965324 (2333)\ttotal: 8m 30s\tremaining: 4m 22s\n"
     ]
    },
    {
     "name": "stdout",
     "output_type": "stream",
     "text": [
      "2600:\tlearn: 0.8305501\ttest: 0.7955880\tbest: 0.7965324 (2333)\ttotal: 8m 35s\tremaining: 4m 17s\n"
     ]
    },
    {
     "name": "stdout",
     "output_type": "stream",
     "text": [
      "2625:\tlearn: 0.8308780\ttest: 0.7953155\tbest: 0.7965324 (2333)\ttotal: 8m 40s\tremaining: 4m 12s\n"
     ]
    },
    {
     "name": "stdout",
     "output_type": "stream",
     "text": [
      "2650:\tlearn: 0.8314432\ttest: 0.7957050\tbest: 0.7965324 (2333)\ttotal: 8m 44s\tremaining: 4m 7s\n"
     ]
    },
    {
     "name": "stdout",
     "output_type": "stream",
     "text": [
      "2675:\tlearn: 0.8315767\ttest: 0.7955203\tbest: 0.7965324 (2333)\ttotal: 8m 49s\tremaining: 4m 2s\n"
     ]
    },
    {
     "name": "stdout",
     "output_type": "stream",
     "text": [
      "2700:\tlearn: 0.8319717\ttest: 0.7958376\tbest: 0.7965324 (2333)\ttotal: 8m 54s\tremaining: 3m 57s\n"
     ]
    },
    {
     "name": "stdout",
     "output_type": "stream",
     "text": [
      "2725:\tlearn: 0.8324635\ttest: 0.7958646\tbest: 0.7965324 (2333)\ttotal: 8m 59s\tremaining: 3m 52s\n"
     ]
    },
    {
     "name": "stdout",
     "output_type": "stream",
     "text": [
      "2750:\tlearn: 0.8327245\ttest: 0.7959498\tbest: 0.7965324 (2333)\ttotal: 9m 4s\tremaining: 3m 47s\n"
     ]
    },
    {
     "name": "stdout",
     "output_type": "stream",
     "text": [
      "2775:\tlearn: 0.8330393\ttest: 0.7964002\tbest: 0.7965324 (2333)\ttotal: 9m 9s\tremaining: 3m 42s\n"
     ]
    },
    {
     "name": "stdout",
     "output_type": "stream",
     "text": [
      "2800:\tlearn: 0.8334589\ttest: 0.7962135\tbest: 0.7965324 (2333)\ttotal: 9m 14s\tremaining: 3m 37s\n"
     ]
    },
    {
     "name": "stdout",
     "output_type": "stream",
     "text": [
      "2825:\tlearn: 0.8336714\ttest: 0.7963902\tbest: 0.7966007 (2821)\ttotal: 9m 19s\tremaining: 3m 32s\n"
     ]
    },
    {
     "name": "stdout",
     "output_type": "stream",
     "text": [
      "2850:\tlearn: 0.8339479\ttest: 0.7962286\tbest: 0.7966007 (2821)\ttotal: 9m 24s\tremaining: 3m 27s\n"
     ]
    },
    {
     "name": "stdout",
     "output_type": "stream",
     "text": [
      "2875:\tlearn: 0.8345564\ttest: 0.7964641\tbest: 0.7966306 (2856)\ttotal: 9m 29s\tremaining: 3m 22s\n"
     ]
    },
    {
     "name": "stdout",
     "output_type": "stream",
     "text": [
      "2900:\tlearn: 0.8348053\ttest: 0.7965302\tbest: 0.7966306 (2856)\ttotal: 9m 34s\tremaining: 3m 17s\n"
     ]
    },
    {
     "name": "stdout",
     "output_type": "stream",
     "text": [
      "2925:\tlearn: 0.8350980\ttest: 0.7965425\tbest: 0.7966306 (2856)\ttotal: 9m 39s\tremaining: 3m 12s\n"
     ]
    },
    {
     "name": "stdout",
     "output_type": "stream",
     "text": [
      "2950:\tlearn: 0.8355923\ttest: 0.7962529\tbest: 0.7966306 (2856)\ttotal: 9m 44s\tremaining: 3m 7s\n"
     ]
    },
    {
     "name": "stdout",
     "output_type": "stream",
     "text": [
      "2975:\tlearn: 0.8360095\ttest: 0.7963008\tbest: 0.7966306 (2856)\ttotal: 9m 49s\tremaining: 3m 2s\n"
     ]
    },
    {
     "name": "stdout",
     "output_type": "stream",
     "text": [
      "3000:\tlearn: 0.8362738\ttest: 0.7964370\tbest: 0.7966306 (2856)\ttotal: 9m 54s\tremaining: 2m 58s\n"
     ]
    },
    {
     "name": "stdout",
     "output_type": "stream",
     "text": [
      "3025:\tlearn: 0.8368141\ttest: 0.7965670\tbest: 0.7966482 (3018)\ttotal: 9m 59s\tremaining: 2m 53s\n"
     ]
    },
    {
     "name": "stdout",
     "output_type": "stream",
     "text": [
      "3050:\tlearn: 0.8370612\ttest: 0.7963864\tbest: 0.7966482 (3018)\ttotal: 10m 4s\tremaining: 2m 48s\n"
     ]
    },
    {
     "name": "stdout",
     "output_type": "stream",
     "text": [
      "3075:\tlearn: 0.8375869\ttest: 0.7965411\tbest: 0.7966482 (3018)\ttotal: 10m 9s\tremaining: 2m 43s\n"
     ]
    },
    {
     "name": "stdout",
     "output_type": "stream",
     "text": [
      "3100:\tlearn: 0.8379092\ttest: 0.7964662\tbest: 0.7966482 (3018)\ttotal: 10m 14s\tremaining: 2m 38s\n"
     ]
    },
    {
     "name": "stdout",
     "output_type": "stream",
     "text": [
      "3125:\tlearn: 0.8383773\ttest: 0.7966615\tbest: 0.7967653 (3112)\ttotal: 10m 19s\tremaining: 2m 33s\n"
     ]
    },
    {
     "name": "stdout",
     "output_type": "stream",
     "text": [
      "3150:\tlearn: 0.8387463\ttest: 0.7962555\tbest: 0.7967653 (3112)\ttotal: 10m 24s\tremaining: 2m 28s\n"
     ]
    },
    {
     "name": "stdout",
     "output_type": "stream",
     "text": [
      "3175:\tlearn: 0.8391379\ttest: 0.7961159\tbest: 0.7967653 (3112)\ttotal: 10m 28s\tremaining: 2m 23s\n"
     ]
    },
    {
     "name": "stdout",
     "output_type": "stream",
     "text": [
      "3200:\tlearn: 0.8393634\ttest: 0.7962428\tbest: 0.7967653 (3112)\ttotal: 10m 33s\tremaining: 2m 18s\n"
     ]
    },
    {
     "name": "stdout",
     "output_type": "stream",
     "text": [
      "3225:\tlearn: 0.8396592\ttest: 0.7962590\tbest: 0.7967653 (3112)\ttotal: 10m 38s\tremaining: 2m 13s\n"
     ]
    },
    {
     "name": "stdout",
     "output_type": "stream",
     "text": [
      "3250:\tlearn: 0.8401890\ttest: 0.7961340\tbest: 0.7967653 (3112)\ttotal: 10m 43s\tremaining: 2m 8s\n"
     ]
    },
    {
     "name": "stdout",
     "output_type": "stream",
     "text": [
      "3275:\tlearn: 0.8406817\ttest: 0.7963965\tbest: 0.7967653 (3112)\ttotal: 10m 48s\tremaining: 2m 3s\n"
     ]
    },
    {
     "name": "stdout",
     "output_type": "stream",
     "text": [
      "3300:\tlearn: 0.8410565\ttest: 0.7964532\tbest: 0.7967653 (3112)\ttotal: 10m 53s\tremaining: 1m 58s\n"
     ]
    },
    {
     "name": "stdout",
     "output_type": "stream",
     "text": [
      "3325:\tlearn: 0.8414318\ttest: 0.7962677\tbest: 0.7967653 (3112)\ttotal: 10m 58s\tremaining: 1m 53s\n"
     ]
    },
    {
     "name": "stdout",
     "output_type": "stream",
     "text": [
      "3350:\tlearn: 0.8417902\ttest: 0.7960351\tbest: 0.7967653 (3112)\ttotal: 11m 3s\tremaining: 1m 48s\n"
     ]
    },
    {
     "name": "stdout",
     "output_type": "stream",
     "text": [
      "3375:\tlearn: 0.8420637\ttest: 0.7959964\tbest: 0.7967653 (3112)\ttotal: 11m 8s\tremaining: 1m 43s\n"
     ]
    },
    {
     "name": "stdout",
     "output_type": "stream",
     "text": [
      "3400:\tlearn: 0.8424370\ttest: 0.7962348\tbest: 0.7967653 (3112)\ttotal: 11m 13s\tremaining: 1m 38s\n"
     ]
    },
    {
     "name": "stdout",
     "output_type": "stream",
     "text": [
      "3425:\tlearn: 0.8428824\ttest: 0.7962757\tbest: 0.7967653 (3112)\ttotal: 11m 18s\tremaining: 1m 33s\n"
     ]
    },
    {
     "name": "stdout",
     "output_type": "stream",
     "text": [
      "3450:\tlearn: 0.8432594\ttest: 0.7965576\tbest: 0.7967653 (3112)\ttotal: 11m 23s\tremaining: 1m 28s\n"
     ]
    },
    {
     "name": "stdout",
     "output_type": "stream",
     "text": [
      "3475:\tlearn: 0.8436966\ttest: 0.7963927\tbest: 0.7967653 (3112)\ttotal: 11m 28s\tremaining: 1m 23s\n"
     ]
    },
    {
     "name": "stdout",
     "output_type": "stream",
     "text": [
      "3500:\tlearn: 0.8440887\ttest: 0.7963335\tbest: 0.7967653 (3112)\ttotal: 11m 33s\tremaining: 1m 19s\n"
     ]
    },
    {
     "name": "stdout",
     "output_type": "stream",
     "text": [
      "3525:\tlearn: 0.8444817\ttest: 0.7963134\tbest: 0.7967653 (3112)\ttotal: 11m 38s\tremaining: 1m 14s\n"
     ]
    },
    {
     "name": "stdout",
     "output_type": "stream",
     "text": [
      "3550:\tlearn: 0.8448123\ttest: 0.7963133\tbest: 0.7967653 (3112)\ttotal: 11m 43s\tremaining: 1m 9s\n"
     ]
    },
    {
     "name": "stdout",
     "output_type": "stream",
     "text": [
      "3575:\tlearn: 0.8450678\ttest: 0.7959797\tbest: 0.7967653 (3112)\ttotal: 11m 48s\tremaining: 1m 4s\n"
     ]
    },
    {
     "name": "stdout",
     "output_type": "stream",
     "text": [
      "3600:\tlearn: 0.8455659\ttest: 0.7964045\tbest: 0.7967653 (3112)\ttotal: 11m 53s\tremaining: 59.2s\n"
     ]
    },
    {
     "name": "stdout",
     "output_type": "stream",
     "text": [
      "3625:\tlearn: 0.8460449\ttest: 0.7962242\tbest: 0.7967653 (3112)\ttotal: 11m 57s\tremaining: 54.3s\n"
     ]
    },
    {
     "name": "stdout",
     "output_type": "stream",
     "text": [
      "3650:\tlearn: 0.8462361\ttest: 0.7963554\tbest: 0.7967653 (3112)\ttotal: 12m 2s\tremaining: 49.3s\n"
     ]
    },
    {
     "name": "stdout",
     "output_type": "stream",
     "text": [
      "3675:\tlearn: 0.8467117\ttest: 0.7963614\tbest: 0.7967653 (3112)\ttotal: 12m 7s\tremaining: 44.3s\n"
     ]
    },
    {
     "name": "stdout",
     "output_type": "stream",
     "text": [
      "3700:\tlearn: 0.8470921\ttest: 0.7965094\tbest: 0.7967653 (3112)\ttotal: 12m 12s\tremaining: 39.4s\n"
     ]
    },
    {
     "name": "stdout",
     "output_type": "stream",
     "text": [
      "3725:\tlearn: 0.8474798\ttest: 0.7962617\tbest: 0.7967653 (3112)\ttotal: 12m 17s\tremaining: 34.5s\n"
     ]
    },
    {
     "name": "stdout",
     "output_type": "stream",
     "text": [
      "3750:\tlearn: 0.8480449\ttest: 0.7964728\tbest: 0.7967653 (3112)\ttotal: 12m 22s\tremaining: 29.5s\n"
     ]
    },
    {
     "name": "stdout",
     "output_type": "stream",
     "text": [
      "3775:\tlearn: 0.8484126\ttest: 0.7964960\tbest: 0.7967653 (3112)\ttotal: 12m 27s\tremaining: 24.5s\n"
     ]
    },
    {
     "name": "stdout",
     "output_type": "stream",
     "text": [
      "3800:\tlearn: 0.8485711\ttest: 0.7963829\tbest: 0.7967653 (3112)\ttotal: 12m 32s\tremaining: 19.6s\n"
     ]
    },
    {
     "name": "stdout",
     "output_type": "stream",
     "text": [
      "3825:\tlearn: 0.8488030\ttest: 0.7963852\tbest: 0.7967653 (3112)\ttotal: 12m 37s\tremaining: 14.7s\n"
     ]
    },
    {
     "name": "stdout",
     "output_type": "stream",
     "text": [
      "3850:\tlearn: 0.8493101\ttest: 0.7961530\tbest: 0.7967653 (3112)\ttotal: 12m 42s\tremaining: 9.7s\n"
     ]
    },
    {
     "name": "stdout",
     "output_type": "stream",
     "text": [
      "3875:\tlearn: 0.8497389\ttest: 0.7961526\tbest: 0.7967653 (3112)\ttotal: 12m 47s\tremaining: 4.75s\n"
     ]
    },
    {
     "name": "stdout",
     "output_type": "stream",
     "text": [
      "3899:\tlearn: 0.8501395\ttest: 0.7959637\tbest: 0.7967653 (3112)\ttotal: 12m 52s\tremaining: 0us\n",
      "\n",
      "bestTest = 0.7967653384\n",
      "bestIteration = 3112\n",
      "\n"
     ]
    },
    {
     "name": "stdout",
     "output_type": "stream",
     "text": [
      "######################################## training model 5/5 ########################################\n"
     ]
    },
    {
     "name": "stdout",
     "output_type": "stream",
     "text": [
      "0:\tlearn: 0.5636627\ttest: 0.5640068\tbest: 0.5640068 (0)\ttotal: 514ms\tremaining: 33m 23s\n"
     ]
    },
    {
     "name": "stdout",
     "output_type": "stream",
     "text": [
      "25:\tlearn: 0.7314369\ttest: 0.7358724\tbest: 0.7358724 (25)\ttotal: 5.34s\tremaining: 13m 15s\n"
     ]
    },
    {
     "name": "stdout",
     "output_type": "stream",
     "text": [
      "50:\tlearn: 0.7481744\ttest: 0.7519727\tbest: 0.7519727 (50)\ttotal: 10.3s\tremaining: 12m 55s\n"
     ]
    },
    {
     "name": "stdout",
     "output_type": "stream",
     "text": [
      "75:\tlearn: 0.7563860\ttest: 0.7602419\tbest: 0.7602419 (75)\ttotal: 15.2s\tremaining: 12m 45s\n"
     ]
    },
    {
     "name": "stdout",
     "output_type": "stream",
     "text": [
      "100:\tlearn: 0.7608839\ttest: 0.7639615\tbest: 0.7640174 (99)\ttotal: 20.2s\tremaining: 12m 38s\n"
     ]
    },
    {
     "name": "stdout",
     "output_type": "stream",
     "text": [
      "125:\tlearn: 0.7642968\ttest: 0.7683685\tbest: 0.7683685 (125)\ttotal: 25.2s\tremaining: 12m 33s\n"
     ]
    },
    {
     "name": "stdout",
     "output_type": "stream",
     "text": [
      "150:\tlearn: 0.7666880\ttest: 0.7702424\tbest: 0.7702486 (149)\ttotal: 30.1s\tremaining: 12m 28s\n"
     ]
    },
    {
     "name": "stdout",
     "output_type": "stream",
     "text": [
      "175:\tlearn: 0.7686969\ttest: 0.7715997\tbest: 0.7716570 (167)\ttotal: 35s\tremaining: 12m 21s\n"
     ]
    },
    {
     "name": "stdout",
     "output_type": "stream",
     "text": [
      "200:\tlearn: 0.7704114\ttest: 0.7728589\tbest: 0.7732333 (192)\ttotal: 40s\tremaining: 12m 16s\n"
     ]
    },
    {
     "name": "stdout",
     "output_type": "stream",
     "text": [
      "225:\tlearn: 0.7721516\ttest: 0.7742891\tbest: 0.7742891 (225)\ttotal: 45s\tremaining: 12m 10s\n"
     ]
    },
    {
     "name": "stdout",
     "output_type": "stream",
     "text": [
      "250:\tlearn: 0.7742334\ttest: 0.7752913\tbest: 0.7753057 (248)\ttotal: 49.9s\tremaining: 12m 5s\n"
     ]
    },
    {
     "name": "stdout",
     "output_type": "stream",
     "text": [
      "275:\tlearn: 0.7762056\ttest: 0.7776294\tbest: 0.7776294 (275)\ttotal: 54.8s\tremaining: 11m 59s\n"
     ]
    },
    {
     "name": "stdout",
     "output_type": "stream",
     "text": [
      "300:\tlearn: 0.7785454\ttest: 0.7793470\tbest: 0.7793470 (300)\ttotal: 59.8s\tremaining: 11m 54s\n"
     ]
    },
    {
     "name": "stdout",
     "output_type": "stream",
     "text": [
      "325:\tlearn: 0.7803634\ttest: 0.7819464\tbest: 0.7819464 (325)\ttotal: 1m 4s\tremaining: 11m 49s\n"
     ]
    },
    {
     "name": "stdout",
     "output_type": "stream",
     "text": [
      "350:\tlearn: 0.7822821\ttest: 0.7829851\tbest: 0.7833129 (349)\ttotal: 1m 9s\tremaining: 11m 44s\n"
     ]
    },
    {
     "name": "stdout",
     "output_type": "stream",
     "text": [
      "375:\tlearn: 0.7841140\ttest: 0.7842758\tbest: 0.7843798 (371)\ttotal: 1m 14s\tremaining: 11m 40s\n"
     ]
    },
    {
     "name": "stdout",
     "output_type": "stream",
     "text": [
      "400:\tlearn: 0.7855573\ttest: 0.7855990\tbest: 0.7858256 (397)\ttotal: 1m 19s\tremaining: 11m 35s\n"
     ]
    },
    {
     "name": "stdout",
     "output_type": "stream",
     "text": [
      "425:\tlearn: 0.7867367\ttest: 0.7869341\tbest: 0.7871151 (424)\ttotal: 1m 24s\tremaining: 11m 30s\n"
     ]
    },
    {
     "name": "stdout",
     "output_type": "stream",
     "text": [
      "450:\tlearn: 0.7878261\ttest: 0.7873330\tbest: 0.7876507 (442)\ttotal: 1m 29s\tremaining: 11m 26s\n"
     ]
    },
    {
     "name": "stdout",
     "output_type": "stream",
     "text": [
      "475:\tlearn: 0.7889177\ttest: 0.7883483\tbest: 0.7885581 (474)\ttotal: 1m 34s\tremaining: 11m 21s\n"
     ]
    },
    {
     "name": "stdout",
     "output_type": "stream",
     "text": [
      "500:\tlearn: 0.7899442\ttest: 0.7886426\tbest: 0.7886802 (494)\ttotal: 1m 39s\tremaining: 11m 16s\n"
     ]
    },
    {
     "name": "stdout",
     "output_type": "stream",
     "text": [
      "525:\tlearn: 0.7908665\ttest: 0.7889512\tbest: 0.7893375 (522)\ttotal: 1m 44s\tremaining: 11m 10s\n"
     ]
    },
    {
     "name": "stdout",
     "output_type": "stream",
     "text": [
      "550:\tlearn: 0.7914458\ttest: 0.7898960\tbest: 0.7899981 (544)\ttotal: 1m 49s\tremaining: 11m 5s\n"
     ]
    },
    {
     "name": "stdout",
     "output_type": "stream",
     "text": [
      "575:\tlearn: 0.7923529\ttest: 0.7898581\tbest: 0.7902076 (560)\ttotal: 1m 54s\tremaining: 11m\n"
     ]
    },
    {
     "name": "stdout",
     "output_type": "stream",
     "text": [
      "600:\tlearn: 0.7932799\ttest: 0.7904357\tbest: 0.7904877 (598)\ttotal: 1m 59s\tremaining: 10m 55s\n"
     ]
    },
    {
     "name": "stdout",
     "output_type": "stream",
     "text": [
      "625:\tlearn: 0.7941242\ttest: 0.7909192\tbest: 0.7910542 (621)\ttotal: 2m 4s\tremaining: 10m 50s\n"
     ]
    },
    {
     "name": "stdout",
     "output_type": "stream",
     "text": [
      "650:\tlearn: 0.7948400\ttest: 0.7912429\tbest: 0.7917160 (639)\ttotal: 2m 9s\tremaining: 10m 45s\n"
     ]
    },
    {
     "name": "stdout",
     "output_type": "stream",
     "text": [
      "675:\tlearn: 0.7954509\ttest: 0.7915723\tbest: 0.7917160 (639)\ttotal: 2m 14s\tremaining: 10m 40s\n"
     ]
    },
    {
     "name": "stdout",
     "output_type": "stream",
     "text": [
      "700:\tlearn: 0.7961815\ttest: 0.7917418\tbest: 0.7917418 (700)\ttotal: 2m 19s\tremaining: 10m 35s\n"
     ]
    },
    {
     "name": "stdout",
     "output_type": "stream",
     "text": [
      "725:\tlearn: 0.7970391\ttest: 0.7914817\tbest: 0.7917418 (700)\ttotal: 2m 24s\tremaining: 10m 30s\n"
     ]
    },
    {
     "name": "stdout",
     "output_type": "stream",
     "text": [
      "750:\tlearn: 0.7976973\ttest: 0.7914186\tbest: 0.7918795 (739)\ttotal: 2m 29s\tremaining: 10m 25s\n"
     ]
    },
    {
     "name": "stdout",
     "output_type": "stream",
     "text": [
      "775:\tlearn: 0.7982467\ttest: 0.7914998\tbest: 0.7918795 (739)\ttotal: 2m 34s\tremaining: 10m 20s\n"
     ]
    },
    {
     "name": "stdout",
     "output_type": "stream",
     "text": [
      "800:\tlearn: 0.7991072\ttest: 0.7919388\tbest: 0.7923128 (797)\ttotal: 2m 39s\tremaining: 10m 15s\n"
     ]
    },
    {
     "name": "stdout",
     "output_type": "stream",
     "text": [
      "825:\tlearn: 0.7995989\ttest: 0.7923069\tbest: 0.7923128 (797)\ttotal: 2m 44s\tremaining: 10m 10s\n"
     ]
    },
    {
     "name": "stdout",
     "output_type": "stream",
     "text": [
      "850:\tlearn: 0.7999699\ttest: 0.7923278\tbest: 0.7923886 (849)\ttotal: 2m 48s\tremaining: 10m 5s\n"
     ]
    },
    {
     "name": "stdout",
     "output_type": "stream",
     "text": [
      "875:\tlearn: 0.8006696\ttest: 0.7925655\tbest: 0.7925655 (875)\ttotal: 2m 53s\tremaining: 10m\n"
     ]
    },
    {
     "name": "stdout",
     "output_type": "stream",
     "text": [
      "900:\tlearn: 0.8013744\ttest: 0.7924852\tbest: 0.7926708 (898)\ttotal: 2m 58s\tremaining: 9m 55s\n"
     ]
    },
    {
     "name": "stdout",
     "output_type": "stream",
     "text": [
      "925:\tlearn: 0.8019679\ttest: 0.7928951\tbest: 0.7930063 (913)\ttotal: 3m 3s\tremaining: 9m 50s\n"
     ]
    },
    {
     "name": "stdout",
     "output_type": "stream",
     "text": [
      "950:\tlearn: 0.8025597\ttest: 0.7927499\tbest: 0.7930616 (946)\ttotal: 3m 8s\tremaining: 9m 45s\n"
     ]
    },
    {
     "name": "stdout",
     "output_type": "stream",
     "text": [
      "975:\tlearn: 0.8031651\ttest: 0.7933246\tbest: 0.7933246 (975)\ttotal: 3m 13s\tremaining: 9m 40s\n"
     ]
    },
    {
     "name": "stdout",
     "output_type": "stream",
     "text": [
      "1000:\tlearn: 0.8036659\ttest: 0.7932489\tbest: 0.7933848 (994)\ttotal: 3m 18s\tremaining: 9m 35s\n"
     ]
    },
    {
     "name": "stdout",
     "output_type": "stream",
     "text": [
      "1025:\tlearn: 0.8040975\ttest: 0.7931799\tbest: 0.7933848 (994)\ttotal: 3m 23s\tremaining: 9m 30s\n"
     ]
    },
    {
     "name": "stdout",
     "output_type": "stream",
     "text": [
      "1050:\tlearn: 0.8046918\ttest: 0.7931433\tbest: 0.7935410 (1047)\ttotal: 3m 28s\tremaining: 9m 25s\n"
     ]
    },
    {
     "name": "stdout",
     "output_type": "stream",
     "text": [
      "1075:\tlearn: 0.8051834\ttest: 0.7931717\tbest: 0.7935410 (1047)\ttotal: 3m 33s\tremaining: 9m 20s\n"
     ]
    },
    {
     "name": "stdout",
     "output_type": "stream",
     "text": [
      "1100:\tlearn: 0.8057631\ttest: 0.7926055\tbest: 0.7935410 (1047)\ttotal: 3m 38s\tremaining: 9m 15s\n"
     ]
    },
    {
     "name": "stdout",
     "output_type": "stream",
     "text": [
      "1125:\tlearn: 0.8062410\ttest: 0.7928579\tbest: 0.7935410 (1047)\ttotal: 3m 43s\tremaining: 9m 10s\n"
     ]
    },
    {
     "name": "stdout",
     "output_type": "stream",
     "text": [
      "1150:\tlearn: 0.8065840\ttest: 0.7930082\tbest: 0.7935410 (1047)\ttotal: 3m 48s\tremaining: 9m 5s\n"
     ]
    },
    {
     "name": "stdout",
     "output_type": "stream",
     "text": [
      "1175:\tlearn: 0.8071090\ttest: 0.7926421\tbest: 0.7935410 (1047)\ttotal: 3m 53s\tremaining: 9m\n"
     ]
    },
    {
     "name": "stdout",
     "output_type": "stream",
     "text": [
      "1200:\tlearn: 0.8076581\ttest: 0.7929120\tbest: 0.7935410 (1047)\ttotal: 3m 58s\tremaining: 8m 55s\n"
     ]
    },
    {
     "name": "stdout",
     "output_type": "stream",
     "text": [
      "1225:\tlearn: 0.8080426\ttest: 0.7929924\tbest: 0.7935410 (1047)\ttotal: 4m 3s\tremaining: 8m 50s\n"
     ]
    },
    {
     "name": "stdout",
     "output_type": "stream",
     "text": [
      "1250:\tlearn: 0.8084534\ttest: 0.7929978\tbest: 0.7935410 (1047)\ttotal: 4m 8s\tremaining: 8m 45s\n"
     ]
    },
    {
     "name": "stdout",
     "output_type": "stream",
     "text": [
      "1275:\tlearn: 0.8090270\ttest: 0.7931821\tbest: 0.7935410 (1047)\ttotal: 4m 13s\tremaining: 8m 40s\n"
     ]
    },
    {
     "name": "stdout",
     "output_type": "stream",
     "text": [
      "1300:\tlearn: 0.8093645\ttest: 0.7928845\tbest: 0.7935410 (1047)\ttotal: 4m 18s\tremaining: 8m 35s\n"
     ]
    },
    {
     "name": "stdout",
     "output_type": "stream",
     "text": [
      "1325:\tlearn: 0.8099252\ttest: 0.7933410\tbest: 0.7935410 (1047)\ttotal: 4m 23s\tremaining: 8m 30s\n"
     ]
    },
    {
     "name": "stdout",
     "output_type": "stream",
     "text": [
      "1350:\tlearn: 0.8103855\ttest: 0.7934817\tbest: 0.7935410 (1047)\ttotal: 4m 28s\tremaining: 8m 25s\n"
     ]
    },
    {
     "name": "stdout",
     "output_type": "stream",
     "text": [
      "1375:\tlearn: 0.8109873\ttest: 0.7929250\tbest: 0.7936344 (1355)\ttotal: 4m 32s\tremaining: 8m 20s\n"
     ]
    },
    {
     "name": "stdout",
     "output_type": "stream",
     "text": [
      "1400:\tlearn: 0.8114389\ttest: 0.7932219\tbest: 0.7936344 (1355)\ttotal: 4m 37s\tremaining: 8m 15s\n"
     ]
    },
    {
     "name": "stdout",
     "output_type": "stream",
     "text": [
      "1425:\tlearn: 0.8117747\ttest: 0.7935439\tbest: 0.7936689 (1403)\ttotal: 4m 42s\tremaining: 8m 10s\n"
     ]
    },
    {
     "name": "stdout",
     "output_type": "stream",
     "text": [
      "1450:\tlearn: 0.8123703\ttest: 0.7935378\tbest: 0.7936689 (1403)\ttotal: 4m 47s\tremaining: 8m 5s\n"
     ]
    },
    {
     "name": "stdout",
     "output_type": "stream",
     "text": [
      "1475:\tlearn: 0.8128297\ttest: 0.7930878\tbest: 0.7936689 (1403)\ttotal: 4m 52s\tremaining: 8m\n"
     ]
    },
    {
     "name": "stdout",
     "output_type": "stream",
     "text": [
      "1500:\tlearn: 0.8131400\ttest: 0.7930148\tbest: 0.7936689 (1403)\ttotal: 4m 57s\tremaining: 7m 55s\n"
     ]
    },
    {
     "name": "stdout",
     "output_type": "stream",
     "text": [
      "1525:\tlearn: 0.8134215\ttest: 0.7929856\tbest: 0.7936689 (1403)\ttotal: 5m 2s\tremaining: 7m 51s\n"
     ]
    },
    {
     "name": "stdout",
     "output_type": "stream",
     "text": [
      "1550:\tlearn: 0.8139650\ttest: 0.7929824\tbest: 0.7936689 (1403)\ttotal: 5m 7s\tremaining: 7m 45s\n"
     ]
    },
    {
     "name": "stdout",
     "output_type": "stream",
     "text": [
      "1575:\tlearn: 0.8142000\ttest: 0.7930817\tbest: 0.7936689 (1403)\ttotal: 5m 12s\tremaining: 7m 41s\n"
     ]
    },
    {
     "name": "stdout",
     "output_type": "stream",
     "text": [
      "1600:\tlearn: 0.8146667\ttest: 0.7927750\tbest: 0.7936689 (1403)\ttotal: 5m 17s\tremaining: 7m 36s\n"
     ]
    },
    {
     "name": "stdout",
     "output_type": "stream",
     "text": [
      "1625:\tlearn: 0.8151407\ttest: 0.7927057\tbest: 0.7936689 (1403)\ttotal: 5m 22s\tremaining: 7m 31s\n"
     ]
    },
    {
     "name": "stdout",
     "output_type": "stream",
     "text": [
      "1650:\tlearn: 0.8156929\ttest: 0.7927198\tbest: 0.7936689 (1403)\ttotal: 5m 27s\tremaining: 7m 26s\n"
     ]
    },
    {
     "name": "stdout",
     "output_type": "stream",
     "text": [
      "1675:\tlearn: 0.8160665\ttest: 0.7928687\tbest: 0.7936689 (1403)\ttotal: 5m 32s\tremaining: 7m 21s\n"
     ]
    },
    {
     "name": "stdout",
     "output_type": "stream",
     "text": [
      "1700:\tlearn: 0.8165214\ttest: 0.7929313\tbest: 0.7936689 (1403)\ttotal: 5m 37s\tremaining: 7m 16s\n"
     ]
    },
    {
     "name": "stdout",
     "output_type": "stream",
     "text": [
      "1725:\tlearn: 0.8168755\ttest: 0.7929045\tbest: 0.7936689 (1403)\ttotal: 5m 42s\tremaining: 7m 11s\n"
     ]
    },
    {
     "name": "stdout",
     "output_type": "stream",
     "text": [
      "1750:\tlearn: 0.8174123\ttest: 0.7931004\tbest: 0.7936689 (1403)\ttotal: 5m 47s\tremaining: 7m 6s\n"
     ]
    },
    {
     "name": "stdout",
     "output_type": "stream",
     "text": [
      "1775:\tlearn: 0.8178402\ttest: 0.7934671\tbest: 0.7936689 (1403)\ttotal: 5m 52s\tremaining: 7m 1s\n"
     ]
    },
    {
     "name": "stdout",
     "output_type": "stream",
     "text": [
      "1800:\tlearn: 0.8183973\ttest: 0.7932911\tbest: 0.7936689 (1403)\ttotal: 5m 57s\tremaining: 6m 56s\n"
     ]
    },
    {
     "name": "stdout",
     "output_type": "stream",
     "text": [
      "1825:\tlearn: 0.8188047\ttest: 0.7931794\tbest: 0.7936689 (1403)\ttotal: 6m 2s\tremaining: 6m 51s\n"
     ]
    },
    {
     "name": "stdout",
     "output_type": "stream",
     "text": [
      "1850:\tlearn: 0.8190841\ttest: 0.7933783\tbest: 0.7936689 (1403)\ttotal: 6m 6s\tremaining: 6m 46s\n"
     ]
    },
    {
     "name": "stdout",
     "output_type": "stream",
     "text": [
      "1875:\tlearn: 0.8197310\ttest: 0.7933018\tbest: 0.7936689 (1403)\ttotal: 6m 11s\tremaining: 6m 41s\n"
     ]
    },
    {
     "name": "stdout",
     "output_type": "stream",
     "text": [
      "1900:\tlearn: 0.8202350\ttest: 0.7933964\tbest: 0.7936689 (1403)\ttotal: 6m 16s\tremaining: 6m 36s\n"
     ]
    },
    {
     "name": "stdout",
     "output_type": "stream",
     "text": [
      "1925:\tlearn: 0.8205776\ttest: 0.7931289\tbest: 0.7936689 (1403)\ttotal: 6m 21s\tremaining: 6m 31s\n"
     ]
    },
    {
     "name": "stdout",
     "output_type": "stream",
     "text": [
      "1950:\tlearn: 0.8211471\ttest: 0.7932686\tbest: 0.7936689 (1403)\ttotal: 6m 26s\tremaining: 6m 26s\n"
     ]
    },
    {
     "name": "stdout",
     "output_type": "stream",
     "text": [
      "1975:\tlearn: 0.8214328\ttest: 0.7933576\tbest: 0.7936689 (1403)\ttotal: 6m 31s\tremaining: 6m 21s\n"
     ]
    },
    {
     "name": "stdout",
     "output_type": "stream",
     "text": [
      "2000:\tlearn: 0.8218022\ttest: 0.7932736\tbest: 0.7936689 (1403)\ttotal: 6m 36s\tremaining: 6m 16s\n"
     ]
    },
    {
     "name": "stdout",
     "output_type": "stream",
     "text": [
      "2025:\tlearn: 0.8223364\ttest: 0.7932390\tbest: 0.7937377 (2014)\ttotal: 6m 41s\tremaining: 6m 11s\n"
     ]
    },
    {
     "name": "stdout",
     "output_type": "stream",
     "text": [
      "2050:\tlearn: 0.8227571\ttest: 0.7932729\tbest: 0.7937377 (2014)\ttotal: 6m 46s\tremaining: 6m 6s\n"
     ]
    },
    {
     "name": "stdout",
     "output_type": "stream",
     "text": [
      "2075:\tlearn: 0.8230388\ttest: 0.7932375\tbest: 0.7937377 (2014)\ttotal: 6m 51s\tremaining: 6m 1s\n"
     ]
    },
    {
     "name": "stdout",
     "output_type": "stream",
     "text": [
      "2100:\tlearn: 0.8234023\ttest: 0.7935235\tbest: 0.7937377 (2014)\ttotal: 6m 56s\tremaining: 5m 56s\n"
     ]
    },
    {
     "name": "stdout",
     "output_type": "stream",
     "text": [
      "2125:\tlearn: 0.8239045\ttest: 0.7936419\tbest: 0.7939080 (2108)\ttotal: 7m 1s\tremaining: 5m 51s\n"
     ]
    },
    {
     "name": "stdout",
     "output_type": "stream",
     "text": [
      "2150:\tlearn: 0.8242841\ttest: 0.7937624\tbest: 0.7940353 (2148)\ttotal: 7m 6s\tremaining: 5m 46s\n"
     ]
    },
    {
     "name": "stdout",
     "output_type": "stream",
     "text": [
      "2175:\tlearn: 0.8244436\ttest: 0.7941295\tbest: 0.7942761 (2166)\ttotal: 7m 11s\tremaining: 5m 41s\n"
     ]
    },
    {
     "name": "stdout",
     "output_type": "stream",
     "text": [
      "2200:\tlearn: 0.8247410\ttest: 0.7941580\tbest: 0.7942761 (2166)\ttotal: 7m 16s\tremaining: 5m 36s\n"
     ]
    },
    {
     "name": "stdout",
     "output_type": "stream",
     "text": [
      "2225:\tlearn: 0.8252411\ttest: 0.7942962\tbest: 0.7943168 (2222)\ttotal: 7m 21s\tremaining: 5m 31s\n"
     ]
    },
    {
     "name": "stdout",
     "output_type": "stream",
     "text": [
      "2250:\tlearn: 0.8256237\ttest: 0.7942158\tbest: 0.7943205 (2248)\ttotal: 7m 26s\tremaining: 5m 26s\n"
     ]
    },
    {
     "name": "stdout",
     "output_type": "stream",
     "text": [
      "2275:\tlearn: 0.8261979\ttest: 0.7942454\tbest: 0.7943947 (2266)\ttotal: 7m 31s\tremaining: 5m 21s\n"
     ]
    },
    {
     "name": "stdout",
     "output_type": "stream",
     "text": [
      "2300:\tlearn: 0.8265724\ttest: 0.7941920\tbest: 0.7944587 (2288)\ttotal: 7m 36s\tremaining: 5m 16s\n"
     ]
    },
    {
     "name": "stdout",
     "output_type": "stream",
     "text": [
      "2325:\tlearn: 0.8269571\ttest: 0.7942810\tbest: 0.7944587 (2288)\ttotal: 7m 40s\tremaining: 5m 11s\n"
     ]
    },
    {
     "name": "stdout",
     "output_type": "stream",
     "text": [
      "2350:\tlearn: 0.8273162\ttest: 0.7942492\tbest: 0.7944587 (2288)\ttotal: 7m 45s\tremaining: 5m 6s\n"
     ]
    },
    {
     "name": "stdout",
     "output_type": "stream",
     "text": [
      "2375:\tlearn: 0.8276757\ttest: 0.7947294\tbest: 0.7947932 (2374)\ttotal: 7m 50s\tremaining: 5m 2s\n"
     ]
    },
    {
     "name": "stdout",
     "output_type": "stream",
     "text": [
      "2400:\tlearn: 0.8281734\ttest: 0.7946959\tbest: 0.7949047 (2399)\ttotal: 7m 55s\tremaining: 4m 57s\n"
     ]
    },
    {
     "name": "stdout",
     "output_type": "stream",
     "text": [
      "2425:\tlearn: 0.8287618\ttest: 0.7945374\tbest: 0.7949047 (2399)\ttotal: 8m\tremaining: 4m 52s\n"
     ]
    },
    {
     "name": "stdout",
     "output_type": "stream",
     "text": [
      "2450:\tlearn: 0.8290505\ttest: 0.7950686\tbest: 0.7950686 (2450)\ttotal: 8m 5s\tremaining: 4m 47s\n"
     ]
    },
    {
     "name": "stdout",
     "output_type": "stream",
     "text": [
      "2475:\tlearn: 0.8292649\ttest: 0.7951399\tbest: 0.7951592 (2472)\ttotal: 8m 10s\tremaining: 4m 42s\n"
     ]
    },
    {
     "name": "stdout",
     "output_type": "stream",
     "text": [
      "2500:\tlearn: 0.8297290\ttest: 0.7951698\tbest: 0.7953546 (2489)\ttotal: 8m 15s\tremaining: 4m 37s\n"
     ]
    },
    {
     "name": "stdout",
     "output_type": "stream",
     "text": [
      "2525:\tlearn: 0.8300171\ttest: 0.7950691\tbest: 0.7953839 (2506)\ttotal: 8m 20s\tremaining: 4m 32s\n"
     ]
    },
    {
     "name": "stdout",
     "output_type": "stream",
     "text": [
      "2550:\tlearn: 0.8303324\ttest: 0.7952499\tbest: 0.7953839 (2506)\ttotal: 8m 25s\tremaining: 4m 27s\n"
     ]
    },
    {
     "name": "stdout",
     "output_type": "stream",
     "text": [
      "2575:\tlearn: 0.8306452\ttest: 0.7949542\tbest: 0.7953839 (2506)\ttotal: 8m 30s\tremaining: 4m 22s\n"
     ]
    },
    {
     "name": "stdout",
     "output_type": "stream",
     "text": [
      "2600:\tlearn: 0.8310343\ttest: 0.7947546\tbest: 0.7953839 (2506)\ttotal: 8m 35s\tremaining: 4m 17s\n"
     ]
    },
    {
     "name": "stdout",
     "output_type": "stream",
     "text": [
      "2625:\tlearn: 0.8314189\ttest: 0.7948626\tbest: 0.7953839 (2506)\ttotal: 8m 40s\tremaining: 4m 12s\n"
     ]
    },
    {
     "name": "stdout",
     "output_type": "stream",
     "text": [
      "2650:\tlearn: 0.8317993\ttest: 0.7947845\tbest: 0.7953839 (2506)\ttotal: 8m 45s\tremaining: 4m 7s\n"
     ]
    },
    {
     "name": "stdout",
     "output_type": "stream",
     "text": [
      "2675:\tlearn: 0.8321874\ttest: 0.7952497\tbest: 0.7953839 (2506)\ttotal: 8m 50s\tremaining: 4m 2s\n"
     ]
    },
    {
     "name": "stdout",
     "output_type": "stream",
     "text": [
      "2700:\tlearn: 0.8323836\ttest: 0.7950423\tbest: 0.7953839 (2506)\ttotal: 8m 55s\tremaining: 3m 57s\n"
     ]
    },
    {
     "name": "stdout",
     "output_type": "stream",
     "text": [
      "2725:\tlearn: 0.8329137\ttest: 0.7954470\tbest: 0.7954685 (2724)\ttotal: 9m\tremaining: 3m 52s\n"
     ]
    },
    {
     "name": "stdout",
     "output_type": "stream",
     "text": [
      "2750:\tlearn: 0.8333000\ttest: 0.7952823\tbest: 0.7954685 (2724)\ttotal: 9m 5s\tremaining: 3m 47s\n"
     ]
    },
    {
     "name": "stdout",
     "output_type": "stream",
     "text": [
      "2775:\tlearn: 0.8336727\ttest: 0.7951573\tbest: 0.7954685 (2724)\ttotal: 9m 10s\tremaining: 3m 42s\n"
     ]
    },
    {
     "name": "stdout",
     "output_type": "stream",
     "text": [
      "2800:\tlearn: 0.8339186\ttest: 0.7952441\tbest: 0.7954685 (2724)\ttotal: 9m 14s\tremaining: 3m 37s\n"
     ]
    },
    {
     "name": "stdout",
     "output_type": "stream",
     "text": [
      "2825:\tlearn: 0.8345025\ttest: 0.7951385\tbest: 0.7954685 (2724)\ttotal: 9m 19s\tremaining: 3m 32s\n"
     ]
    },
    {
     "name": "stdout",
     "output_type": "stream",
     "text": [
      "2850:\tlearn: 0.8347828\ttest: 0.7954371\tbest: 0.7956242 (2846)\ttotal: 9m 24s\tremaining: 3m 27s\n"
     ]
    },
    {
     "name": "stdout",
     "output_type": "stream",
     "text": [
      "2875:\tlearn: 0.8352392\ttest: 0.7953556\tbest: 0.7956242 (2846)\ttotal: 9m 29s\tremaining: 3m 22s\n"
     ]
    },
    {
     "name": "stdout",
     "output_type": "stream",
     "text": [
      "2900:\tlearn: 0.8356101\ttest: 0.7953378\tbest: 0.7956242 (2846)\ttotal: 9m 34s\tremaining: 3m 17s\n"
     ]
    },
    {
     "name": "stdout",
     "output_type": "stream",
     "text": [
      "2925:\tlearn: 0.8359027\ttest: 0.7951331\tbest: 0.7956242 (2846)\ttotal: 9m 39s\tremaining: 3m 12s\n"
     ]
    },
    {
     "name": "stdout",
     "output_type": "stream",
     "text": [
      "2950:\tlearn: 0.8365148\ttest: 0.7952253\tbest: 0.7956242 (2846)\ttotal: 9m 44s\tremaining: 3m 8s\n"
     ]
    },
    {
     "name": "stdout",
     "output_type": "stream",
     "text": [
      "2975:\tlearn: 0.8368496\ttest: 0.7955733\tbest: 0.7956242 (2846)\ttotal: 9m 49s\tremaining: 3m 3s\n"
     ]
    },
    {
     "name": "stdout",
     "output_type": "stream",
     "text": [
      "3000:\tlearn: 0.8371361\ttest: 0.7953889\tbest: 0.7956242 (2846)\ttotal: 9m 54s\tremaining: 2m 58s\n"
     ]
    },
    {
     "name": "stdout",
     "output_type": "stream",
     "text": [
      "3025:\tlearn: 0.8374332\ttest: 0.7956489\tbest: 0.7956695 (3023)\ttotal: 9m 59s\tremaining: 2m 53s\n"
     ]
    },
    {
     "name": "stdout",
     "output_type": "stream",
     "text": [
      "3050:\tlearn: 0.8378015\ttest: 0.7954406\tbest: 0.7956908 (3027)\ttotal: 10m 4s\tremaining: 2m 48s\n"
     ]
    },
    {
     "name": "stdout",
     "output_type": "stream",
     "text": [
      "3075:\tlearn: 0.8381784\ttest: 0.7954475\tbest: 0.7956908 (3027)\ttotal: 10m 9s\tremaining: 2m 43s\n"
     ]
    },
    {
     "name": "stdout",
     "output_type": "stream",
     "text": [
      "3100:\tlearn: 0.8387489\ttest: 0.7956226\tbest: 0.7956908 (3027)\ttotal: 10m 14s\tremaining: 2m 38s\n"
     ]
    },
    {
     "name": "stdout",
     "output_type": "stream",
     "text": [
      "3125:\tlearn: 0.8389692\ttest: 0.7957087\tbest: 0.7957699 (3120)\ttotal: 10m 19s\tremaining: 2m 33s\n"
     ]
    },
    {
     "name": "stdout",
     "output_type": "stream",
     "text": [
      "3150:\tlearn: 0.8392213\ttest: 0.7953377\tbest: 0.7957758 (3129)\ttotal: 10m 24s\tremaining: 2m 28s\n"
     ]
    },
    {
     "name": "stdout",
     "output_type": "stream",
     "text": [
      "3175:\tlearn: 0.8397428\ttest: 0.7957614\tbest: 0.7957758 (3129)\ttotal: 10m 29s\tremaining: 2m 23s\n"
     ]
    },
    {
     "name": "stdout",
     "output_type": "stream",
     "text": [
      "3200:\tlearn: 0.8400148\ttest: 0.7956605\tbest: 0.7958270 (3187)\ttotal: 10m 34s\tremaining: 2m 18s\n"
     ]
    },
    {
     "name": "stdout",
     "output_type": "stream",
     "text": [
      "3225:\tlearn: 0.8405845\ttest: 0.7957090\tbest: 0.7958326 (3211)\ttotal: 10m 39s\tremaining: 2m 13s\n"
     ]
    },
    {
     "name": "stdout",
     "output_type": "stream",
     "text": [
      "3250:\tlearn: 0.8409389\ttest: 0.7954570\tbest: 0.7958326 (3211)\ttotal: 10m 44s\tremaining: 2m 8s\n"
     ]
    },
    {
     "name": "stdout",
     "output_type": "stream",
     "text": [
      "3275:\tlearn: 0.8413290\ttest: 0.7956475\tbest: 0.7958326 (3211)\ttotal: 10m 49s\tremaining: 2m 3s\n"
     ]
    },
    {
     "name": "stdout",
     "output_type": "stream",
     "text": [
      "3300:\tlearn: 0.8415651\ttest: 0.7955426\tbest: 0.7958326 (3211)\ttotal: 10m 54s\tremaining: 1m 58s\n"
     ]
    },
    {
     "name": "stdout",
     "output_type": "stream",
     "text": [
      "3325:\tlearn: 0.8417364\ttest: 0.7954194\tbest: 0.7958326 (3211)\ttotal: 10m 59s\tremaining: 1m 53s\n"
     ]
    },
    {
     "name": "stdout",
     "output_type": "stream",
     "text": [
      "3350:\tlearn: 0.8420233\ttest: 0.7955754\tbest: 0.7958326 (3211)\ttotal: 11m 4s\tremaining: 1m 48s\n"
     ]
    },
    {
     "name": "stdout",
     "output_type": "stream",
     "text": [
      "3375:\tlearn: 0.8425269\ttest: 0.7956017\tbest: 0.7958326 (3211)\ttotal: 11m 9s\tremaining: 1m 43s\n"
     ]
    },
    {
     "name": "stdout",
     "output_type": "stream",
     "text": [
      "3400:\tlearn: 0.8430655\ttest: 0.7956253\tbest: 0.7958326 (3211)\ttotal: 11m 14s\tremaining: 1m 38s\n"
     ]
    },
    {
     "name": "stdout",
     "output_type": "stream",
     "text": [
      "3425:\tlearn: 0.8435726\ttest: 0.7959621\tbest: 0.7961099 (3423)\ttotal: 11m 18s\tremaining: 1m 33s\n"
     ]
    },
    {
     "name": "stdout",
     "output_type": "stream",
     "text": [
      "3450:\tlearn: 0.8438320\ttest: 0.7961566\tbest: 0.7962171 (3447)\ttotal: 11m 23s\tremaining: 1m 28s\n"
     ]
    },
    {
     "name": "stdout",
     "output_type": "stream",
     "text": [
      "3475:\tlearn: 0.8443110\ttest: 0.7960966\tbest: 0.7962171 (3447)\ttotal: 11m 28s\tremaining: 1m 24s\n"
     ]
    },
    {
     "name": "stdout",
     "output_type": "stream",
     "text": [
      "3500:\tlearn: 0.8446645\ttest: 0.7962247\tbest: 0.7962247 (3500)\ttotal: 11m 33s\tremaining: 1m 19s\n"
     ]
    },
    {
     "name": "stdout",
     "output_type": "stream",
     "text": [
      "3525:\tlearn: 0.8451364\ttest: 0.7961433\tbest: 0.7962254 (3521)\ttotal: 11m 38s\tremaining: 1m 14s\n"
     ]
    },
    {
     "name": "stdout",
     "output_type": "stream",
     "text": [
      "3550:\tlearn: 0.8454417\ttest: 0.7960833\tbest: 0.7963539 (3542)\ttotal: 11m 43s\tremaining: 1m 9s\n"
     ]
    },
    {
     "name": "stdout",
     "output_type": "stream",
     "text": [
      "3575:\tlearn: 0.8457129\ttest: 0.7966383\tbest: 0.7966383 (3575)\ttotal: 11m 48s\tremaining: 1m 4s\n"
     ]
    },
    {
     "name": "stdout",
     "output_type": "stream",
     "text": [
      "3600:\tlearn: 0.8460609\ttest: 0.7961762\tbest: 0.7966383 (3575)\ttotal: 11m 53s\tremaining: 59.2s\n"
     ]
    },
    {
     "name": "stdout",
     "output_type": "stream",
     "text": [
      "3625:\tlearn: 0.8464682\ttest: 0.7964511\tbest: 0.7966383 (3575)\ttotal: 11m 58s\tremaining: 54.3s\n"
     ]
    },
    {
     "name": "stdout",
     "output_type": "stream",
     "text": [
      "3650:\tlearn: 0.8468811\ttest: 0.7963941\tbest: 0.7966383 (3575)\ttotal: 12m 3s\tremaining: 49.3s\n"
     ]
    },
    {
     "name": "stdout",
     "output_type": "stream",
     "text": [
      "3675:\tlearn: 0.8471079\ttest: 0.7961890\tbest: 0.7966383 (3575)\ttotal: 12m 8s\tremaining: 44.4s\n"
     ]
    },
    {
     "name": "stdout",
     "output_type": "stream",
     "text": [
      "3700:\tlearn: 0.8474375\ttest: 0.7963430\tbest: 0.7966383 (3575)\ttotal: 12m 13s\tremaining: 39.4s\n"
     ]
    },
    {
     "name": "stdout",
     "output_type": "stream",
     "text": [
      "3725:\tlearn: 0.8478001\ttest: 0.7962600\tbest: 0.7966611 (3716)\ttotal: 12m 18s\tremaining: 34.5s\n"
     ]
    },
    {
     "name": "stdout",
     "output_type": "stream",
     "text": [
      "3750:\tlearn: 0.8481315\ttest: 0.7966199\tbest: 0.7968309 (3740)\ttotal: 12m 23s\tremaining: 29.5s\n"
     ]
    },
    {
     "name": "stdout",
     "output_type": "stream",
     "text": [
      "3775:\tlearn: 0.8484831\ttest: 0.7966911\tbest: 0.7970476 (3760)\ttotal: 12m 28s\tremaining: 24.6s\n"
     ]
    },
    {
     "name": "stdout",
     "output_type": "stream",
     "text": [
      "3800:\tlearn: 0.8489049\ttest: 0.7965700\tbest: 0.7970476 (3760)\ttotal: 12m 33s\tremaining: 19.6s\n"
     ]
    },
    {
     "name": "stdout",
     "output_type": "stream",
     "text": [
      "3825:\tlearn: 0.8494644\ttest: 0.7969836\tbest: 0.7971276 (3820)\ttotal: 12m 38s\tremaining: 14.7s\n"
     ]
    },
    {
     "name": "stdout",
     "output_type": "stream",
     "text": [
      "3850:\tlearn: 0.8496877\ttest: 0.7966542\tbest: 0.7971276 (3820)\ttotal: 12m 42s\tremaining: 9.71s\n"
     ]
    },
    {
     "name": "stdout",
     "output_type": "stream",
     "text": [
      "3875:\tlearn: 0.8498733\ttest: 0.7965746\tbest: 0.7971276 (3820)\ttotal: 12m 47s\tremaining: 4.75s\n"
     ]
    },
    {
     "name": "stdout",
     "output_type": "stream",
     "text": [
      "3899:\tlearn: 0.8501542\ttest: 0.7966798\tbest: 0.7971276 (3820)\ttotal: 12m 52s\tremaining: 0us\n",
      "\n",
      "bestTest = 0.7971276092\n",
      "bestIteration = 3820\n",
      "\n"
     ]
    },
    {
     "name": "stdout",
     "output_type": "stream",
     "text": [
      "Training time: 65.09871420065562 min.\n",
      "OOF recall_at4: 0.6652809102231797\n",
      "OOF normalized_gini: 0.92410441646435\n",
      "OOF competition metric: 0.7946926633437649\n"
     ]
    },
    {
     "name": "stdout",
     "output_type": "stream",
     "text": [
      "############################### repeated cross-validation step: 3/3 ################################\n"
     ]
    },
    {
     "name": "stdout",
     "output_type": "stream",
     "text": [
      "######################################## training model 1/5 ########################################\n"
     ]
    },
    {
     "name": "stdout",
     "output_type": "stream",
     "text": [
      "0:\tlearn: 0.4948365\ttest: 0.4940967\tbest: 0.4940967 (0)\ttotal: 521ms\tremaining: 33m 53s\n"
     ]
    },
    {
     "name": "stdout",
     "output_type": "stream",
     "text": [
      "25:\tlearn: 0.7325077\ttest: 0.7298615\tbest: 0.7298615 (25)\ttotal: 5.38s\tremaining: 13m 22s\n"
     ]
    },
    {
     "name": "stdout",
     "output_type": "stream",
     "text": [
      "50:\tlearn: 0.7500781\ttest: 0.7448569\tbest: 0.7448569 (50)\ttotal: 10.3s\tremaining: 12m 58s\n"
     ]
    },
    {
     "name": "stdout",
     "output_type": "stream",
     "text": [
      "75:\tlearn: 0.7584173\ttest: 0.7536069\tbest: 0.7536069 (75)\ttotal: 15.2s\tremaining: 12m 47s\n"
     ]
    },
    {
     "name": "stdout",
     "output_type": "stream",
     "text": [
      "100:\tlearn: 0.7626943\ttest: 0.7579654\tbest: 0.7580839 (98)\ttotal: 20.2s\tremaining: 12m 40s\n"
     ]
    },
    {
     "name": "stdout",
     "output_type": "stream",
     "text": [
      "125:\tlearn: 0.7660285\ttest: 0.7614814\tbest: 0.7614814 (125)\ttotal: 25.2s\tremaining: 12m 34s\n"
     ]
    },
    {
     "name": "stdout",
     "output_type": "stream",
     "text": [
      "150:\tlearn: 0.7678515\ttest: 0.7629818\tbest: 0.7631352 (144)\ttotal: 30.2s\tremaining: 12m 30s\n"
     ]
    },
    {
     "name": "stdout",
     "output_type": "stream",
     "text": [
      "175:\tlearn: 0.7697652\ttest: 0.7644841\tbest: 0.7646504 (174)\ttotal: 35.2s\tremaining: 12m 24s\n"
     ]
    },
    {
     "name": "stdout",
     "output_type": "stream",
     "text": [
      "200:\tlearn: 0.7714380\ttest: 0.7661129\tbest: 0.7661556 (199)\ttotal: 40.2s\tremaining: 12m 19s\n"
     ]
    },
    {
     "name": "stdout",
     "output_type": "stream",
     "text": [
      "225:\tlearn: 0.7732973\ttest: 0.7675551\tbest: 0.7678170 (224)\ttotal: 45.1s\tremaining: 12m 13s\n"
     ]
    },
    {
     "name": "stdout",
     "output_type": "stream",
     "text": [
      "250:\tlearn: 0.7748476\ttest: 0.7699767\tbest: 0.7699767 (250)\ttotal: 50.1s\tremaining: 12m 7s\n"
     ]
    },
    {
     "name": "stdout",
     "output_type": "stream",
     "text": [
      "275:\tlearn: 0.7767548\ttest: 0.7721104\tbest: 0.7721201 (273)\ttotal: 55s\tremaining: 12m 2s\n"
     ]
    },
    {
     "name": "stdout",
     "output_type": "stream",
     "text": [
      "300:\tlearn: 0.7792388\ttest: 0.7752418\tbest: 0.7752418 (300)\ttotal: 60s\tremaining: 11m 57s\n"
     ]
    },
    {
     "name": "stdout",
     "output_type": "stream",
     "text": [
      "325:\tlearn: 0.7817252\ttest: 0.7774670\tbest: 0.7774729 (324)\ttotal: 1m 4s\tremaining: 11m 51s\n"
     ]
    },
    {
     "name": "stdout",
     "output_type": "stream",
     "text": [
      "350:\tlearn: 0.7835132\ttest: 0.7794433\tbest: 0.7794433 (350)\ttotal: 1m 9s\tremaining: 11m 46s\n"
     ]
    },
    {
     "name": "stdout",
     "output_type": "stream",
     "text": [
      "375:\tlearn: 0.7850713\ttest: 0.7800743\tbest: 0.7802589 (372)\ttotal: 1m 14s\tremaining: 11m 41s\n"
     ]
    },
    {
     "name": "stdout",
     "output_type": "stream",
     "text": [
      "400:\tlearn: 0.7863507\ttest: 0.7815476\tbest: 0.7816541 (395)\ttotal: 1m 19s\tremaining: 11m 36s\n"
     ]
    },
    {
     "name": "stdout",
     "output_type": "stream",
     "text": [
      "425:\tlearn: 0.7876313\ttest: 0.7823911\tbest: 0.7827110 (423)\ttotal: 1m 24s\tremaining: 11m 32s\n"
     ]
    },
    {
     "name": "stdout",
     "output_type": "stream",
     "text": [
      "450:\tlearn: 0.7887884\ttest: 0.7823189\tbest: 0.7827229 (439)\ttotal: 1m 29s\tremaining: 11m 27s\n"
     ]
    },
    {
     "name": "stdout",
     "output_type": "stream",
     "text": [
      "475:\tlearn: 0.7897172\ttest: 0.7827540\tbest: 0.7829168 (474)\ttotal: 1m 34s\tremaining: 11m 22s\n"
     ]
    },
    {
     "name": "stdout",
     "output_type": "stream",
     "text": [
      "500:\tlearn: 0.7908164\ttest: 0.7837294\tbest: 0.7839972 (498)\ttotal: 1m 39s\tremaining: 11m 16s\n"
     ]
    },
    {
     "name": "stdout",
     "output_type": "stream",
     "text": [
      "525:\tlearn: 0.7913340\ttest: 0.7841129\tbest: 0.7842922 (520)\ttotal: 1m 44s\tremaining: 11m 11s\n"
     ]
    },
    {
     "name": "stdout",
     "output_type": "stream",
     "text": [
      "550:\tlearn: 0.7922684\ttest: 0.7842932\tbest: 0.7845935 (534)\ttotal: 1m 49s\tremaining: 11m 6s\n"
     ]
    },
    {
     "name": "stdout",
     "output_type": "stream",
     "text": [
      "575:\tlearn: 0.7931370\ttest: 0.7847188\tbest: 0.7847764 (573)\ttotal: 1m 54s\tremaining: 11m 1s\n"
     ]
    },
    {
     "name": "stdout",
     "output_type": "stream",
     "text": [
      "600:\tlearn: 0.7939628\ttest: 0.7849314\tbest: 0.7850533 (580)\ttotal: 1m 59s\tremaining: 10m 56s\n"
     ]
    },
    {
     "name": "stdout",
     "output_type": "stream",
     "text": [
      "625:\tlearn: 0.7949393\ttest: 0.7853688\tbest: 0.7854834 (622)\ttotal: 2m 4s\tremaining: 10m 50s\n"
     ]
    },
    {
     "name": "stdout",
     "output_type": "stream",
     "text": [
      "650:\tlearn: 0.7955396\ttest: 0.7854700\tbest: 0.7856975 (640)\ttotal: 2m 9s\tremaining: 10m 45s\n"
     ]
    },
    {
     "name": "stdout",
     "output_type": "stream",
     "text": [
      "675:\tlearn: 0.7962186\ttest: 0.7861659\tbest: 0.7861886 (666)\ttotal: 2m 14s\tremaining: 10m 40s\n"
     ]
    },
    {
     "name": "stdout",
     "output_type": "stream",
     "text": [
      "700:\tlearn: 0.7969307\ttest: 0.7867571\tbest: 0.7867571 (700)\ttotal: 2m 19s\tremaining: 10m 35s\n"
     ]
    },
    {
     "name": "stdout",
     "output_type": "stream",
     "text": [
      "725:\tlearn: 0.7974777\ttest: 0.7866602\tbest: 0.7868513 (705)\ttotal: 2m 24s\tremaining: 10m 30s\n"
     ]
    },
    {
     "name": "stdout",
     "output_type": "stream",
     "text": [
      "750:\tlearn: 0.7981711\ttest: 0.7866665\tbest: 0.7868513 (705)\ttotal: 2m 29s\tremaining: 10m 25s\n"
     ]
    },
    {
     "name": "stdout",
     "output_type": "stream",
     "text": [
      "775:\tlearn: 0.7985916\ttest: 0.7866771\tbest: 0.7870042 (759)\ttotal: 2m 34s\tremaining: 10m 20s\n"
     ]
    },
    {
     "name": "stdout",
     "output_type": "stream",
     "text": [
      "800:\tlearn: 0.7993108\ttest: 0.7870081\tbest: 0.7871907 (792)\ttotal: 2m 39s\tremaining: 10m 15s\n"
     ]
    },
    {
     "name": "stdout",
     "output_type": "stream",
     "text": [
      "825:\tlearn: 0.7996682\ttest: 0.7869865\tbest: 0.7871907 (792)\ttotal: 2m 44s\tremaining: 10m 10s\n"
     ]
    },
    {
     "name": "stdout",
     "output_type": "stream",
     "text": [
      "850:\tlearn: 0.8004299\ttest: 0.7867564\tbest: 0.7871907 (792)\ttotal: 2m 49s\tremaining: 10m 5s\n"
     ]
    },
    {
     "name": "stdout",
     "output_type": "stream",
     "text": [
      "875:\tlearn: 0.8010330\ttest: 0.7869603\tbest: 0.7871907 (792)\ttotal: 2m 53s\tremaining: 10m\n"
     ]
    },
    {
     "name": "stdout",
     "output_type": "stream",
     "text": [
      "900:\tlearn: 0.8016344\ttest: 0.7874418\tbest: 0.7875044 (899)\ttotal: 2m 58s\tremaining: 9m 55s\n"
     ]
    },
    {
     "name": "stdout",
     "output_type": "stream",
     "text": [
      "925:\tlearn: 0.8023072\ttest: 0.7872028\tbest: 0.7875044 (899)\ttotal: 3m 3s\tremaining: 9m 50s\n"
     ]
    },
    {
     "name": "stdout",
     "output_type": "stream",
     "text": [
      "950:\tlearn: 0.8026924\ttest: 0.7871806\tbest: 0.7875044 (899)\ttotal: 3m 8s\tremaining: 9m 45s\n"
     ]
    },
    {
     "name": "stdout",
     "output_type": "stream",
     "text": [
      "975:\tlearn: 0.8031317\ttest: 0.7874621\tbest: 0.7875756 (966)\ttotal: 3m 13s\tremaining: 9m 40s\n"
     ]
    },
    {
     "name": "stdout",
     "output_type": "stream",
     "text": [
      "1000:\tlearn: 0.8036969\ttest: 0.7874524\tbest: 0.7877589 (977)\ttotal: 3m 18s\tremaining: 9m 35s\n"
     ]
    },
    {
     "name": "stdout",
     "output_type": "stream",
     "text": [
      "1025:\tlearn: 0.8042831\ttest: 0.7873325\tbest: 0.7877589 (977)\ttotal: 3m 23s\tremaining: 9m 30s\n"
     ]
    },
    {
     "name": "stdout",
     "output_type": "stream",
     "text": [
      "1050:\tlearn: 0.8047997\ttest: 0.7877661\tbest: 0.7878283 (1049)\ttotal: 3m 28s\tremaining: 9m 25s\n"
     ]
    },
    {
     "name": "stdout",
     "output_type": "stream",
     "text": [
      "1075:\tlearn: 0.8053408\ttest: 0.7877002\tbest: 0.7878283 (1049)\ttotal: 3m 33s\tremaining: 9m 20s\n"
     ]
    },
    {
     "name": "stdout",
     "output_type": "stream",
     "text": [
      "1100:\tlearn: 0.8059560\ttest: 0.7881750\tbest: 0.7882167 (1099)\ttotal: 3m 38s\tremaining: 9m 15s\n"
     ]
    },
    {
     "name": "stdout",
     "output_type": "stream",
     "text": [
      "1125:\tlearn: 0.8064201\ttest: 0.7882599\tbest: 0.7883358 (1121)\ttotal: 3m 43s\tremaining: 9m 10s\n"
     ]
    },
    {
     "name": "stdout",
     "output_type": "stream",
     "text": [
      "1150:\tlearn: 0.8070472\ttest: 0.7882772\tbest: 0.7883358 (1121)\ttotal: 3m 48s\tremaining: 9m 5s\n"
     ]
    },
    {
     "name": "stdout",
     "output_type": "stream",
     "text": [
      "1175:\tlearn: 0.8075955\ttest: 0.7881648\tbest: 0.7883636 (1166)\ttotal: 3m 53s\tremaining: 9m\n"
     ]
    },
    {
     "name": "stdout",
     "output_type": "stream",
     "text": [
      "1200:\tlearn: 0.8078745\ttest: 0.7882246\tbest: 0.7883636 (1166)\ttotal: 3m 58s\tremaining: 8m 55s\n"
     ]
    },
    {
     "name": "stdout",
     "output_type": "stream",
     "text": [
      "1225:\tlearn: 0.8085169\ttest: 0.7880970\tbest: 0.7883636 (1166)\ttotal: 4m 3s\tremaining: 8m 50s\n"
     ]
    },
    {
     "name": "stdout",
     "output_type": "stream",
     "text": [
      "1250:\tlearn: 0.8089910\ttest: 0.7883597\tbest: 0.7883636 (1166)\ttotal: 4m 8s\tremaining: 8m 45s\n"
     ]
    },
    {
     "name": "stdout",
     "output_type": "stream",
     "text": [
      "1275:\tlearn: 0.8095411\ttest: 0.7883236\tbest: 0.7883675 (1259)\ttotal: 4m 13s\tremaining: 8m 40s\n"
     ]
    },
    {
     "name": "stdout",
     "output_type": "stream",
     "text": [
      "1300:\tlearn: 0.8100555\ttest: 0.7882786\tbest: 0.7883675 (1259)\ttotal: 4m 18s\tremaining: 8m 35s\n"
     ]
    },
    {
     "name": "stdout",
     "output_type": "stream",
     "text": [
      "1325:\tlearn: 0.8103821\ttest: 0.7881671\tbest: 0.7884121 (1308)\ttotal: 4m 22s\tremaining: 8m 30s\n"
     ]
    },
    {
     "name": "stdout",
     "output_type": "stream",
     "text": [
      "1350:\tlearn: 0.8109888\ttest: 0.7880223\tbest: 0.7884121 (1308)\ttotal: 4m 27s\tremaining: 8m 25s\n"
     ]
    },
    {
     "name": "stdout",
     "output_type": "stream",
     "text": [
      "1375:\tlearn: 0.8114862\ttest: 0.7881246\tbest: 0.7884121 (1308)\ttotal: 4m 32s\tremaining: 8m 20s\n"
     ]
    },
    {
     "name": "stdout",
     "output_type": "stream",
     "text": [
      "1400:\tlearn: 0.8118168\ttest: 0.7880150\tbest: 0.7884121 (1308)\ttotal: 4m 37s\tremaining: 8m 15s\n"
     ]
    },
    {
     "name": "stdout",
     "output_type": "stream",
     "text": [
      "1425:\tlearn: 0.8121781\ttest: 0.7875693\tbest: 0.7884121 (1308)\ttotal: 4m 42s\tremaining: 8m 10s\n"
     ]
    },
    {
     "name": "stdout",
     "output_type": "stream",
     "text": [
      "1450:\tlearn: 0.8126633\ttest: 0.7876710\tbest: 0.7884121 (1308)\ttotal: 4m 47s\tremaining: 8m 5s\n"
     ]
    },
    {
     "name": "stdout",
     "output_type": "stream",
     "text": [
      "1475:\tlearn: 0.8129956\ttest: 0.7877498\tbest: 0.7884121 (1308)\ttotal: 4m 52s\tremaining: 8m\n"
     ]
    },
    {
     "name": "stdout",
     "output_type": "stream",
     "text": [
      "1500:\tlearn: 0.8136025\ttest: 0.7879987\tbest: 0.7884121 (1308)\ttotal: 4m 57s\tremaining: 7m 55s\n"
     ]
    },
    {
     "name": "stdout",
     "output_type": "stream",
     "text": [
      "1525:\tlearn: 0.8140094\ttest: 0.7878015\tbest: 0.7884121 (1308)\ttotal: 5m 2s\tremaining: 7m 50s\n"
     ]
    },
    {
     "name": "stdout",
     "output_type": "stream",
     "text": [
      "1550:\tlearn: 0.8143508\ttest: 0.7880415\tbest: 0.7884121 (1308)\ttotal: 5m 7s\tremaining: 7m 45s\n"
     ]
    },
    {
     "name": "stdout",
     "output_type": "stream",
     "text": [
      "1575:\tlearn: 0.8147609\ttest: 0.7885420\tbest: 0.7885628 (1574)\ttotal: 5m 12s\tremaining: 7m 40s\n"
     ]
    },
    {
     "name": "stdout",
     "output_type": "stream",
     "text": [
      "1600:\tlearn: 0.8152017\ttest: 0.7882820\tbest: 0.7887124 (1579)\ttotal: 5m 17s\tremaining: 7m 35s\n"
     ]
    },
    {
     "name": "stdout",
     "output_type": "stream",
     "text": [
      "1625:\tlearn: 0.8158625\ttest: 0.7886977\tbest: 0.7887124 (1579)\ttotal: 5m 22s\tremaining: 7m 30s\n"
     ]
    },
    {
     "name": "stdout",
     "output_type": "stream",
     "text": [
      "1650:\tlearn: 0.8161474\ttest: 0.7884935\tbest: 0.7887191 (1627)\ttotal: 5m 27s\tremaining: 7m 25s\n"
     ]
    },
    {
     "name": "stdout",
     "output_type": "stream",
     "text": [
      "1675:\tlearn: 0.8165704\ttest: 0.7888807\tbest: 0.7888807 (1675)\ttotal: 5m 32s\tremaining: 7m 20s\n"
     ]
    },
    {
     "name": "stdout",
     "output_type": "stream",
     "text": [
      "1700:\tlearn: 0.8169019\ttest: 0.7889044\tbest: 0.7890596 (1683)\ttotal: 5m 37s\tremaining: 7m 15s\n"
     ]
    },
    {
     "name": "stdout",
     "output_type": "stream",
     "text": [
      "1725:\tlearn: 0.8174405\ttest: 0.7890838\tbest: 0.7890838 (1725)\ttotal: 5m 42s\tremaining: 7m 10s\n"
     ]
    },
    {
     "name": "stdout",
     "output_type": "stream",
     "text": [
      "1750:\tlearn: 0.8178348\ttest: 0.7892027\tbest: 0.7893053 (1746)\ttotal: 5m 47s\tremaining: 7m 5s\n"
     ]
    },
    {
     "name": "stdout",
     "output_type": "stream",
     "text": [
      "1775:\tlearn: 0.8184331\ttest: 0.7892727\tbest: 0.7893362 (1774)\ttotal: 5m 51s\tremaining: 7m\n"
     ]
    },
    {
     "name": "stdout",
     "output_type": "stream",
     "text": [
      "1800:\tlearn: 0.8187634\ttest: 0.7891121\tbest: 0.7893362 (1774)\ttotal: 5m 56s\tremaining: 6m 55s\n"
     ]
    },
    {
     "name": "stdout",
     "output_type": "stream",
     "text": [
      "1825:\tlearn: 0.8191758\ttest: 0.7892996\tbest: 0.7895049 (1819)\ttotal: 6m 1s\tremaining: 6m 50s\n"
     ]
    },
    {
     "name": "stdout",
     "output_type": "stream",
     "text": [
      "1850:\tlearn: 0.8196015\ttest: 0.7894093\tbest: 0.7895139 (1842)\ttotal: 6m 6s\tremaining: 6m 45s\n"
     ]
    },
    {
     "name": "stdout",
     "output_type": "stream",
     "text": [
      "1875:\tlearn: 0.8200494\ttest: 0.7892715\tbest: 0.7895139 (1842)\ttotal: 6m 11s\tremaining: 6m 40s\n"
     ]
    },
    {
     "name": "stdout",
     "output_type": "stream",
     "text": [
      "1900:\tlearn: 0.8205879\ttest: 0.7896164\tbest: 0.7896164 (1900)\ttotal: 6m 16s\tremaining: 6m 35s\n"
     ]
    },
    {
     "name": "stdout",
     "output_type": "stream",
     "text": [
      "1925:\tlearn: 0.8208840\ttest: 0.7895886\tbest: 0.7897492 (1915)\ttotal: 6m 21s\tremaining: 6m 30s\n"
     ]
    },
    {
     "name": "stdout",
     "output_type": "stream",
     "text": [
      "1950:\tlearn: 0.8212990\ttest: 0.7896004\tbest: 0.7899702 (1934)\ttotal: 6m 26s\tremaining: 6m 25s\n"
     ]
    },
    {
     "name": "stdout",
     "output_type": "stream",
     "text": [
      "1975:\tlearn: 0.8216440\ttest: 0.7896921\tbest: 0.7899702 (1934)\ttotal: 6m 31s\tremaining: 6m 21s\n"
     ]
    },
    {
     "name": "stdout",
     "output_type": "stream",
     "text": [
      "2000:\tlearn: 0.8223191\ttest: 0.7896564\tbest: 0.7899899 (1985)\ttotal: 6m 36s\tremaining: 6m 16s\n"
     ]
    },
    {
     "name": "stdout",
     "output_type": "stream",
     "text": [
      "2025:\tlearn: 0.8227075\ttest: 0.7893270\tbest: 0.7899899 (1985)\ttotal: 6m 41s\tremaining: 6m 11s\n"
     ]
    },
    {
     "name": "stdout",
     "output_type": "stream",
     "text": [
      "2050:\tlearn: 0.8233163\ttest: 0.7895894\tbest: 0.7899899 (1985)\ttotal: 6m 46s\tremaining: 6m 6s\n"
     ]
    },
    {
     "name": "stdout",
     "output_type": "stream",
     "text": [
      "2075:\tlearn: 0.8239029\ttest: 0.7895506\tbest: 0.7899899 (1985)\ttotal: 6m 51s\tremaining: 6m 1s\n"
     ]
    },
    {
     "name": "stdout",
     "output_type": "stream",
     "text": [
      "2100:\tlearn: 0.8240827\ttest: 0.7896428\tbest: 0.7899899 (1985)\ttotal: 6m 56s\tremaining: 5m 56s\n"
     ]
    },
    {
     "name": "stdout",
     "output_type": "stream",
     "text": [
      "2125:\tlearn: 0.8245576\ttest: 0.7895226\tbest: 0.7899899 (1985)\ttotal: 7m 1s\tremaining: 5m 51s\n"
     ]
    },
    {
     "name": "stdout",
     "output_type": "stream",
     "text": [
      "2150:\tlearn: 0.8249173\ttest: 0.7891803\tbest: 0.7899899 (1985)\ttotal: 7m 6s\tremaining: 5m 46s\n"
     ]
    },
    {
     "name": "stdout",
     "output_type": "stream",
     "text": [
      "2175:\tlearn: 0.8253225\ttest: 0.7897003\tbest: 0.7899899 (1985)\ttotal: 7m 11s\tremaining: 5m 41s\n"
     ]
    },
    {
     "name": "stdout",
     "output_type": "stream",
     "text": [
      "2200:\tlearn: 0.8256298\ttest: 0.7896223\tbest: 0.7899899 (1985)\ttotal: 7m 15s\tremaining: 5m 36s\n"
     ]
    },
    {
     "name": "stdout",
     "output_type": "stream",
     "text": [
      "2225:\tlearn: 0.8260250\ttest: 0.7896300\tbest: 0.7899899 (1985)\ttotal: 7m 20s\tremaining: 5m 31s\n"
     ]
    },
    {
     "name": "stdout",
     "output_type": "stream",
     "text": [
      "2250:\tlearn: 0.8263990\ttest: 0.7892794\tbest: 0.7899899 (1985)\ttotal: 7m 25s\tremaining: 5m 26s\n"
     ]
    },
    {
     "name": "stdout",
     "output_type": "stream",
     "text": [
      "2275:\tlearn: 0.8268890\ttest: 0.7895780\tbest: 0.7899899 (1985)\ttotal: 7m 30s\tremaining: 5m 21s\n"
     ]
    },
    {
     "name": "stdout",
     "output_type": "stream",
     "text": [
      "2300:\tlearn: 0.8270769\ttest: 0.7895419\tbest: 0.7899899 (1985)\ttotal: 7m 35s\tremaining: 5m 16s\n"
     ]
    },
    {
     "name": "stdout",
     "output_type": "stream",
     "text": [
      "2325:\tlearn: 0.8275714\ttest: 0.7897068\tbest: 0.7899899 (1985)\ttotal: 7m 40s\tremaining: 5m 11s\n"
     ]
    },
    {
     "name": "stdout",
     "output_type": "stream",
     "text": [
      "2350:\tlearn: 0.8279698\ttest: 0.7897129\tbest: 0.7899899 (1985)\ttotal: 7m 45s\tremaining: 5m 6s\n"
     ]
    },
    {
     "name": "stdout",
     "output_type": "stream",
     "text": [
      "2375:\tlearn: 0.8284577\ttest: 0.7901191\tbest: 0.7901822 (2372)\ttotal: 7m 50s\tremaining: 5m 1s\n"
     ]
    },
    {
     "name": "stdout",
     "output_type": "stream",
     "text": [
      "2400:\tlearn: 0.8288062\ttest: 0.7899981\tbest: 0.7901822 (2372)\ttotal: 7m 55s\tremaining: 4m 56s\n"
     ]
    },
    {
     "name": "stdout",
     "output_type": "stream",
     "text": [
      "2425:\tlearn: 0.8290749\ttest: 0.7898786\tbest: 0.7901822 (2372)\ttotal: 8m\tremaining: 4m 51s\n"
     ]
    },
    {
     "name": "stdout",
     "output_type": "stream",
     "text": [
      "2450:\tlearn: 0.8294739\ttest: 0.7899725\tbest: 0.7902451 (2446)\ttotal: 8m 5s\tremaining: 4m 46s\n"
     ]
    },
    {
     "name": "stdout",
     "output_type": "stream",
     "text": [
      "2475:\tlearn: 0.8299647\ttest: 0.7901508\tbest: 0.7902758 (2468)\ttotal: 8m 10s\tremaining: 4m 42s\n"
     ]
    },
    {
     "name": "stdout",
     "output_type": "stream",
     "text": [
      "2500:\tlearn: 0.8302212\ttest: 0.7900375\tbest: 0.7902758 (2468)\ttotal: 8m 15s\tremaining: 4m 37s\n"
     ]
    },
    {
     "name": "stdout",
     "output_type": "stream",
     "text": [
      "2525:\tlearn: 0.8306910\ttest: 0.7901245\tbest: 0.7902758 (2468)\ttotal: 8m 20s\tremaining: 4m 32s\n"
     ]
    },
    {
     "name": "stdout",
     "output_type": "stream",
     "text": [
      "2550:\tlearn: 0.8310097\ttest: 0.7897276\tbest: 0.7902758 (2468)\ttotal: 8m 25s\tremaining: 4m 27s\n"
     ]
    },
    {
     "name": "stdout",
     "output_type": "stream",
     "text": [
      "2575:\tlearn: 0.8313895\ttest: 0.7898563\tbest: 0.7902758 (2468)\ttotal: 8m 30s\tremaining: 4m 22s\n"
     ]
    },
    {
     "name": "stdout",
     "output_type": "stream",
     "text": [
      "2600:\tlearn: 0.8319359\ttest: 0.7897884\tbest: 0.7902758 (2468)\ttotal: 8m 35s\tremaining: 4m 17s\n"
     ]
    },
    {
     "name": "stdout",
     "output_type": "stream",
     "text": [
      "2625:\tlearn: 0.8322156\ttest: 0.7900682\tbest: 0.7902758 (2468)\ttotal: 8m 39s\tremaining: 4m 12s\n"
     ]
    },
    {
     "name": "stdout",
     "output_type": "stream",
     "text": [
      "2650:\tlearn: 0.8326396\ttest: 0.7899113\tbest: 0.7902758 (2468)\ttotal: 8m 44s\tremaining: 4m 7s\n"
     ]
    },
    {
     "name": "stdout",
     "output_type": "stream",
     "text": [
      "2675:\tlearn: 0.8329360\ttest: 0.7899448\tbest: 0.7902758 (2468)\ttotal: 8m 49s\tremaining: 4m 2s\n"
     ]
    },
    {
     "name": "stdout",
     "output_type": "stream",
     "text": [
      "2700:\tlearn: 0.8333771\ttest: 0.7901838\tbest: 0.7902758 (2468)\ttotal: 8m 54s\tremaining: 3m 57s\n"
     ]
    },
    {
     "name": "stdout",
     "output_type": "stream",
     "text": [
      "2725:\tlearn: 0.8337972\ttest: 0.7904982\tbest: 0.7905613 (2708)\ttotal: 8m 59s\tremaining: 3m 52s\n"
     ]
    },
    {
     "name": "stdout",
     "output_type": "stream",
     "text": [
      "2750:\tlearn: 0.8340805\ttest: 0.7906720\tbest: 0.7907368 (2746)\ttotal: 9m 4s\tremaining: 3m 47s\n"
     ]
    },
    {
     "name": "stdout",
     "output_type": "stream",
     "text": [
      "2775:\tlearn: 0.8344898\ttest: 0.7906163\tbest: 0.7907368 (2746)\ttotal: 9m 9s\tremaining: 3m 42s\n"
     ]
    },
    {
     "name": "stdout",
     "output_type": "stream",
     "text": [
      "2800:\tlearn: 0.8350539\ttest: 0.7908768\tbest: 0.7909369 (2790)\ttotal: 9m 14s\tremaining: 3m 37s\n"
     ]
    },
    {
     "name": "stdout",
     "output_type": "stream",
     "text": [
      "2825:\tlearn: 0.8353655\ttest: 0.7905826\tbest: 0.7909369 (2790)\ttotal: 9m 19s\tremaining: 3m 32s\n"
     ]
    },
    {
     "name": "stdout",
     "output_type": "stream",
     "text": [
      "2850:\tlearn: 0.8357357\ttest: 0.7904826\tbest: 0.7909369 (2790)\ttotal: 9m 24s\tremaining: 3m 27s\n"
     ]
    },
    {
     "name": "stdout",
     "output_type": "stream",
     "text": [
      "2875:\tlearn: 0.8361532\ttest: 0.7905749\tbest: 0.7909369 (2790)\ttotal: 9m 29s\tremaining: 3m 22s\n"
     ]
    },
    {
     "name": "stdout",
     "output_type": "stream",
     "text": [
      "2900:\tlearn: 0.8363543\ttest: 0.7906658\tbest: 0.7909369 (2790)\ttotal: 9m 34s\tremaining: 3m 17s\n"
     ]
    },
    {
     "name": "stdout",
     "output_type": "stream",
     "text": [
      "2925:\tlearn: 0.8368052\ttest: 0.7902869\tbest: 0.7909369 (2790)\ttotal: 9m 39s\tremaining: 3m 12s\n"
     ]
    },
    {
     "name": "stdout",
     "output_type": "stream",
     "text": [
      "2950:\tlearn: 0.8370225\ttest: 0.7904968\tbest: 0.7909369 (2790)\ttotal: 9m 44s\tremaining: 3m 7s\n"
     ]
    },
    {
     "name": "stdout",
     "output_type": "stream",
     "text": [
      "2975:\tlearn: 0.8373395\ttest: 0.7903531\tbest: 0.7909369 (2790)\ttotal: 9m 49s\tremaining: 3m 2s\n"
     ]
    },
    {
     "name": "stdout",
     "output_type": "stream",
     "text": [
      "3000:\tlearn: 0.8378215\ttest: 0.7902926\tbest: 0.7909369 (2790)\ttotal: 9m 54s\tremaining: 2m 58s\n"
     ]
    },
    {
     "name": "stdout",
     "output_type": "stream",
     "text": [
      "3025:\tlearn: 0.8382519\ttest: 0.7901305\tbest: 0.7909369 (2790)\ttotal: 9m 59s\tremaining: 2m 53s\n"
     ]
    },
    {
     "name": "stdout",
     "output_type": "stream",
     "text": [
      "3050:\tlearn: 0.8385917\ttest: 0.7906142\tbest: 0.7909369 (2790)\ttotal: 10m 4s\tremaining: 2m 48s\n"
     ]
    },
    {
     "name": "stdout",
     "output_type": "stream",
     "text": [
      "3075:\tlearn: 0.8390465\ttest: 0.7903029\tbest: 0.7909369 (2790)\ttotal: 10m 8s\tremaining: 2m 43s\n"
     ]
    },
    {
     "name": "stdout",
     "output_type": "stream",
     "text": [
      "3100:\tlearn: 0.8393277\ttest: 0.7903037\tbest: 0.7909369 (2790)\ttotal: 10m 13s\tremaining: 2m 38s\n"
     ]
    },
    {
     "name": "stdout",
     "output_type": "stream",
     "text": [
      "3125:\tlearn: 0.8396211\ttest: 0.7907051\tbest: 0.7909369 (2790)\ttotal: 10m 18s\tremaining: 2m 33s\n"
     ]
    },
    {
     "name": "stdout",
     "output_type": "stream",
     "text": [
      "3150:\tlearn: 0.8400457\ttest: 0.7907343\tbest: 0.7909369 (2790)\ttotal: 10m 23s\tremaining: 2m 28s\n"
     ]
    },
    {
     "name": "stdout",
     "output_type": "stream",
     "text": [
      "3175:\tlearn: 0.8406501\ttest: 0.7906772\tbest: 0.7909369 (2790)\ttotal: 10m 28s\tremaining: 2m 23s\n"
     ]
    },
    {
     "name": "stdout",
     "output_type": "stream",
     "text": [
      "3200:\tlearn: 0.8410793\ttest: 0.7904985\tbest: 0.7909369 (2790)\ttotal: 10m 33s\tremaining: 2m 18s\n"
     ]
    },
    {
     "name": "stdout",
     "output_type": "stream",
     "text": [
      "3225:\tlearn: 0.8415466\ttest: 0.7906066\tbest: 0.7909369 (2790)\ttotal: 10m 38s\tremaining: 2m 13s\n"
     ]
    },
    {
     "name": "stdout",
     "output_type": "stream",
     "text": [
      "3250:\tlearn: 0.8418784\ttest: 0.7904804\tbest: 0.7909369 (2790)\ttotal: 10m 43s\tremaining: 2m 8s\n"
     ]
    },
    {
     "name": "stdout",
     "output_type": "stream",
     "text": [
      "3275:\tlearn: 0.8421404\ttest: 0.7904199\tbest: 0.7909369 (2790)\ttotal: 10m 48s\tremaining: 2m 3s\n"
     ]
    },
    {
     "name": "stdout",
     "output_type": "stream",
     "text": [
      "3300:\tlearn: 0.8426592\ttest: 0.7906345\tbest: 0.7909369 (2790)\ttotal: 10m 53s\tremaining: 1m 58s\n"
     ]
    },
    {
     "name": "stdout",
     "output_type": "stream",
     "text": [
      "3325:\tlearn: 0.8430897\ttest: 0.7904029\tbest: 0.7909369 (2790)\ttotal: 10m 58s\tremaining: 1m 53s\n"
     ]
    },
    {
     "name": "stdout",
     "output_type": "stream",
     "text": [
      "3350:\tlearn: 0.8432548\ttest: 0.7903398\tbest: 0.7909369 (2790)\ttotal: 11m 3s\tremaining: 1m 48s\n"
     ]
    },
    {
     "name": "stdout",
     "output_type": "stream",
     "text": [
      "3375:\tlearn: 0.8437600\ttest: 0.7901928\tbest: 0.7909369 (2790)\ttotal: 11m 8s\tremaining: 1m 43s\n"
     ]
    },
    {
     "name": "stdout",
     "output_type": "stream",
     "text": [
      "3400:\tlearn: 0.8441286\ttest: 0.7904406\tbest: 0.7909369 (2790)\ttotal: 11m 13s\tremaining: 1m 38s\n"
     ]
    },
    {
     "name": "stdout",
     "output_type": "stream",
     "text": [
      "3425:\tlearn: 0.8445043\ttest: 0.7905299\tbest: 0.7909369 (2790)\ttotal: 11m 18s\tremaining: 1m 33s\n"
     ]
    },
    {
     "name": "stdout",
     "output_type": "stream",
     "text": [
      "3450:\tlearn: 0.8448838\ttest: 0.7903824\tbest: 0.7909369 (2790)\ttotal: 11m 23s\tremaining: 1m 28s\n"
     ]
    },
    {
     "name": "stdout",
     "output_type": "stream",
     "text": [
      "3475:\tlearn: 0.8453719\ttest: 0.7905978\tbest: 0.7909369 (2790)\ttotal: 11m 28s\tremaining: 1m 23s\n"
     ]
    },
    {
     "name": "stdout",
     "output_type": "stream",
     "text": [
      "3500:\tlearn: 0.8456399\ttest: 0.7904098\tbest: 0.7909369 (2790)\ttotal: 11m 33s\tremaining: 1m 18s\n"
     ]
    },
    {
     "name": "stdout",
     "output_type": "stream",
     "text": [
      "3525:\tlearn: 0.8460435\ttest: 0.7907942\tbest: 0.7909369 (2790)\ttotal: 11m 38s\tremaining: 1m 14s\n"
     ]
    },
    {
     "name": "stdout",
     "output_type": "stream",
     "text": [
      "3550:\tlearn: 0.8462347\ttest: 0.7907506\tbest: 0.7909826 (3540)\ttotal: 11m 43s\tremaining: 1m 9s\n"
     ]
    },
    {
     "name": "stdout",
     "output_type": "stream",
     "text": [
      "3575:\tlearn: 0.8468399\ttest: 0.7909865\tbest: 0.7910486 (3562)\ttotal: 11m 48s\tremaining: 1m 4s\n"
     ]
    },
    {
     "name": "stdout",
     "output_type": "stream",
     "text": [
      "3600:\tlearn: 0.8471689\ttest: 0.7913080\tbest: 0.7913505 (3599)\ttotal: 11m 52s\tremaining: 59.2s\n"
     ]
    },
    {
     "name": "stdout",
     "output_type": "stream",
     "text": [
      "3625:\tlearn: 0.8475791\ttest: 0.7913560\tbest: 0.7916232 (3606)\ttotal: 11m 57s\tremaining: 54.2s\n"
     ]
    },
    {
     "name": "stdout",
     "output_type": "stream",
     "text": [
      "3650:\tlearn: 0.8479145\ttest: 0.7912282\tbest: 0.7916232 (3606)\ttotal: 12m 2s\tremaining: 49.3s\n"
     ]
    },
    {
     "name": "stdout",
     "output_type": "stream",
     "text": [
      "3675:\tlearn: 0.8482094\ttest: 0.7915071\tbest: 0.7916232 (3606)\ttotal: 12m 7s\tremaining: 44.3s\n"
     ]
    },
    {
     "name": "stdout",
     "output_type": "stream",
     "text": [
      "3700:\tlearn: 0.8485242\ttest: 0.7914540\tbest: 0.7916622 (3688)\ttotal: 12m 12s\tremaining: 39.4s\n"
     ]
    },
    {
     "name": "stdout",
     "output_type": "stream",
     "text": [
      "3725:\tlearn: 0.8489216\ttest: 0.7916520\tbest: 0.7916622 (3688)\ttotal: 12m 17s\tremaining: 34.4s\n"
     ]
    },
    {
     "name": "stdout",
     "output_type": "stream",
     "text": [
      "3750:\tlearn: 0.8493568\ttest: 0.7913548\tbest: 0.7917355 (3730)\ttotal: 12m 22s\tremaining: 29.5s\n"
     ]
    },
    {
     "name": "stdout",
     "output_type": "stream",
     "text": [
      "3775:\tlearn: 0.8496131\ttest: 0.7916160\tbest: 0.7917355 (3730)\ttotal: 12m 27s\tremaining: 24.6s\n"
     ]
    },
    {
     "name": "stdout",
     "output_type": "stream",
     "text": [
      "3800:\tlearn: 0.8499608\ttest: 0.7916100\tbest: 0.7917415 (3780)\ttotal: 12m 32s\tremaining: 19.6s\n"
     ]
    },
    {
     "name": "stdout",
     "output_type": "stream",
     "text": [
      "3825:\tlearn: 0.8503547\ttest: 0.7913824\tbest: 0.7917415 (3780)\ttotal: 12m 37s\tremaining: 14.7s\n"
     ]
    },
    {
     "name": "stdout",
     "output_type": "stream",
     "text": [
      "3850:\tlearn: 0.8508865\ttest: 0.7913871\tbest: 0.7917415 (3780)\ttotal: 12m 42s\tremaining: 9.7s\n"
     ]
    },
    {
     "name": "stdout",
     "output_type": "stream",
     "text": [
      "3875:\tlearn: 0.8510871\ttest: 0.7911943\tbest: 0.7917415 (3780)\ttotal: 12m 47s\tremaining: 4.75s\n"
     ]
    },
    {
     "name": "stdout",
     "output_type": "stream",
     "text": [
      "3899:\tlearn: 0.8513745\ttest: 0.7911932\tbest: 0.7917415 (3780)\ttotal: 12m 52s\tremaining: 0us\n",
      "\n",
      "bestTest = 0.791741548\n",
      "bestIteration = 3780\n",
      "\n"
     ]
    },
    {
     "name": "stdout",
     "output_type": "stream",
     "text": [
      "######################################## training model 2/5 ########################################\n"
     ]
    },
    {
     "name": "stdout",
     "output_type": "stream",
     "text": [
      "0:\tlearn: 0.5635973\ttest: 0.5676693\tbest: 0.5676693 (0)\ttotal: 519ms\tremaining: 33m 43s\n"
     ]
    },
    {
     "name": "stdout",
     "output_type": "stream",
     "text": [
      "25:\tlearn: 0.7291121\ttest: 0.7285635\tbest: 0.7285635 (25)\ttotal: 5.31s\tremaining: 13m 11s\n"
     ]
    },
    {
     "name": "stdout",
     "output_type": "stream",
     "text": [
      "50:\tlearn: 0.7477984\ttest: 0.7460600\tbest: 0.7460600 (50)\ttotal: 10.3s\tremaining: 12m 57s\n"
     ]
    },
    {
     "name": "stdout",
     "output_type": "stream",
     "text": [
      "75:\tlearn: 0.7570487\ttest: 0.7556245\tbest: 0.7556245 (75)\ttotal: 15.2s\tremaining: 12m 46s\n"
     ]
    },
    {
     "name": "stdout",
     "output_type": "stream",
     "text": [
      "100:\tlearn: 0.7613411\ttest: 0.7590980\tbest: 0.7590980 (100)\ttotal: 20.2s\tremaining: 12m 38s\n"
     ]
    },
    {
     "name": "stdout",
     "output_type": "stream",
     "text": [
      "125:\tlearn: 0.7653281\ttest: 0.7631406\tbest: 0.7631406 (125)\ttotal: 25.1s\tremaining: 12m 32s\n"
     ]
    },
    {
     "name": "stdout",
     "output_type": "stream",
     "text": [
      "150:\tlearn: 0.7680268\ttest: 0.7644746\tbest: 0.7648933 (145)\ttotal: 30.1s\tremaining: 12m 27s\n"
     ]
    },
    {
     "name": "stdout",
     "output_type": "stream",
     "text": [
      "175:\tlearn: 0.7702369\ttest: 0.7667839\tbest: 0.7669784 (169)\ttotal: 35.1s\tremaining: 12m 23s\n"
     ]
    },
    {
     "name": "stdout",
     "output_type": "stream",
     "text": [
      "200:\tlearn: 0.7721488\ttest: 0.7683202\tbest: 0.7686032 (195)\ttotal: 40.1s\tremaining: 12m 18s\n"
     ]
    },
    {
     "name": "stdout",
     "output_type": "stream",
     "text": [
      "225:\tlearn: 0.7738684\ttest: 0.7696613\tbest: 0.7698659 (220)\ttotal: 45.1s\tremaining: 12m 13s\n"
     ]
    },
    {
     "name": "stdout",
     "output_type": "stream",
     "text": [
      "250:\tlearn: 0.7757864\ttest: 0.7709465\tbest: 0.7709465 (250)\ttotal: 50.1s\tremaining: 12m 8s\n"
     ]
    },
    {
     "name": "stdout",
     "output_type": "stream",
     "text": [
      "275:\tlearn: 0.7776203\ttest: 0.7724280\tbest: 0.7724280 (275)\ttotal: 55s\tremaining: 12m 2s\n"
     ]
    },
    {
     "name": "stdout",
     "output_type": "stream",
     "text": [
      "300:\tlearn: 0.7797137\ttest: 0.7739018\tbest: 0.7740645 (296)\ttotal: 59.9s\tremaining: 11m 56s\n"
     ]
    },
    {
     "name": "stdout",
     "output_type": "stream",
     "text": [
      "325:\tlearn: 0.7820002\ttest: 0.7754046\tbest: 0.7754711 (324)\ttotal: 1m 4s\tremaining: 11m 51s\n"
     ]
    },
    {
     "name": "stdout",
     "output_type": "stream",
     "text": [
      "350:\tlearn: 0.7842064\ttest: 0.7770661\tbest: 0.7770661 (350)\ttotal: 1m 9s\tremaining: 11m 46s\n"
     ]
    },
    {
     "name": "stdout",
     "output_type": "stream",
     "text": [
      "375:\tlearn: 0.7858617\ttest: 0.7777193\tbest: 0.7780892 (374)\ttotal: 1m 14s\tremaining: 11m 41s\n"
     ]
    },
    {
     "name": "stdout",
     "output_type": "stream",
     "text": [
      "400:\tlearn: 0.7875807\ttest: 0.7787988\tbest: 0.7790218 (399)\ttotal: 1m 19s\tremaining: 11m 36s\n"
     ]
    },
    {
     "name": "stdout",
     "output_type": "stream",
     "text": [
      "425:\tlearn: 0.7885318\ttest: 0.7796632\tbest: 0.7796797 (424)\ttotal: 1m 24s\tremaining: 11m 31s\n"
     ]
    },
    {
     "name": "stdout",
     "output_type": "stream",
     "text": [
      "450:\tlearn: 0.7896155\ttest: 0.7803368\tbest: 0.7805564 (438)\ttotal: 1m 29s\tremaining: 11m 26s\n"
     ]
    },
    {
     "name": "stdout",
     "output_type": "stream",
     "text": [
      "475:\tlearn: 0.7905533\ttest: 0.7810084\tbest: 0.7811166 (472)\ttotal: 1m 34s\tremaining: 11m 21s\n"
     ]
    },
    {
     "name": "stdout",
     "output_type": "stream",
     "text": [
      "500:\tlearn: 0.7914214\ttest: 0.7827835\tbest: 0.7827835 (500)\ttotal: 1m 39s\tremaining: 11m 15s\n"
     ]
    },
    {
     "name": "stdout",
     "output_type": "stream",
     "text": [
      "525:\tlearn: 0.7921949\ttest: 0.7829115\tbest: 0.7829925 (512)\ttotal: 1m 44s\tremaining: 11m 11s\n"
     ]
    },
    {
     "name": "stdout",
     "output_type": "stream",
     "text": [
      "550:\tlearn: 0.7931624\ttest: 0.7830979\tbest: 0.7833630 (530)\ttotal: 1m 49s\tremaining: 11m 5s\n"
     ]
    },
    {
     "name": "stdout",
     "output_type": "stream",
     "text": [
      "575:\tlearn: 0.7935983\ttest: 0.7836858\tbest: 0.7836858 (575)\ttotal: 1m 54s\tremaining: 11m\n"
     ]
    },
    {
     "name": "stdout",
     "output_type": "stream",
     "text": [
      "600:\tlearn: 0.7943038\ttest: 0.7842250\tbest: 0.7842250 (600)\ttotal: 1m 59s\tremaining: 10m 56s\n"
     ]
    },
    {
     "name": "stdout",
     "output_type": "stream",
     "text": [
      "625:\tlearn: 0.7951099\ttest: 0.7839766\tbest: 0.7844554 (614)\ttotal: 2m 4s\tremaining: 10m 51s\n"
     ]
    },
    {
     "name": "stdout",
     "output_type": "stream",
     "text": [
      "650:\tlearn: 0.7959277\ttest: 0.7845698\tbest: 0.7845698 (650)\ttotal: 2m 9s\tremaining: 10m 45s\n"
     ]
    },
    {
     "name": "stdout",
     "output_type": "stream",
     "text": [
      "675:\tlearn: 0.7966324\ttest: 0.7847541\tbest: 0.7847856 (651)\ttotal: 2m 14s\tremaining: 10m 40s\n"
     ]
    },
    {
     "name": "stdout",
     "output_type": "stream",
     "text": [
      "700:\tlearn: 0.7972816\ttest: 0.7849229\tbest: 0.7850839 (697)\ttotal: 2m 19s\tremaining: 10m 35s\n"
     ]
    },
    {
     "name": "stdout",
     "output_type": "stream",
     "text": [
      "725:\tlearn: 0.7978732\ttest: 0.7849536\tbest: 0.7854378 (723)\ttotal: 2m 24s\tremaining: 10m 30s\n"
     ]
    },
    {
     "name": "stdout",
     "output_type": "stream",
     "text": [
      "750:\tlearn: 0.7985705\ttest: 0.7854770\tbest: 0.7856161 (748)\ttotal: 2m 29s\tremaining: 10m 25s\n"
     ]
    },
    {
     "name": "stdout",
     "output_type": "stream",
     "text": [
      "775:\tlearn: 0.7991577\ttest: 0.7852988\tbest: 0.7858406 (752)\ttotal: 2m 34s\tremaining: 10m 20s\n"
     ]
    },
    {
     "name": "stdout",
     "output_type": "stream",
     "text": [
      "800:\tlearn: 0.7998843\ttest: 0.7853662\tbest: 0.7858406 (752)\ttotal: 2m 39s\tremaining: 10m 15s\n"
     ]
    },
    {
     "name": "stdout",
     "output_type": "stream",
     "text": [
      "825:\tlearn: 0.8004930\ttest: 0.7856854\tbest: 0.7858819 (815)\ttotal: 2m 44s\tremaining: 10m 10s\n"
     ]
    },
    {
     "name": "stdout",
     "output_type": "stream",
     "text": [
      "850:\tlearn: 0.8010381\ttest: 0.7858672\tbest: 0.7860379 (839)\ttotal: 2m 49s\tremaining: 10m 5s\n"
     ]
    },
    {
     "name": "stdout",
     "output_type": "stream",
     "text": [
      "875:\tlearn: 0.8014977\ttest: 0.7857577\tbest: 0.7860379 (839)\ttotal: 2m 54s\tremaining: 10m\n"
     ]
    },
    {
     "name": "stdout",
     "output_type": "stream",
     "text": [
      "900:\tlearn: 0.8020835\ttest: 0.7857356\tbest: 0.7860379 (839)\ttotal: 2m 58s\tremaining: 9m 55s\n"
     ]
    },
    {
     "name": "stdout",
     "output_type": "stream",
     "text": [
      "925:\tlearn: 0.8027377\ttest: 0.7860237\tbest: 0.7861391 (917)\ttotal: 3m 3s\tremaining: 9m 50s\n"
     ]
    },
    {
     "name": "stdout",
     "output_type": "stream",
     "text": [
      "950:\tlearn: 0.8032627\ttest: 0.7858664\tbest: 0.7861391 (917)\ttotal: 3m 8s\tremaining: 9m 45s\n"
     ]
    },
    {
     "name": "stdout",
     "output_type": "stream",
     "text": [
      "975:\tlearn: 0.8039333\ttest: 0.7863467\tbest: 0.7864247 (971)\ttotal: 3m 13s\tremaining: 9m 40s\n"
     ]
    },
    {
     "name": "stdout",
     "output_type": "stream",
     "text": [
      "1000:\tlearn: 0.8044651\ttest: 0.7864214\tbest: 0.7865004 (995)\ttotal: 3m 18s\tremaining: 9m 35s\n"
     ]
    },
    {
     "name": "stdout",
     "output_type": "stream",
     "text": [
      "1025:\tlearn: 0.8050213\ttest: 0.7863290\tbest: 0.7866446 (1008)\ttotal: 3m 23s\tremaining: 9m 30s\n"
     ]
    },
    {
     "name": "stdout",
     "output_type": "stream",
     "text": [
      "1050:\tlearn: 0.8056333\ttest: 0.7865860\tbest: 0.7867076 (1048)\ttotal: 3m 28s\tremaining: 9m 25s\n"
     ]
    },
    {
     "name": "stdout",
     "output_type": "stream",
     "text": [
      "1075:\tlearn: 0.8061656\ttest: 0.7867379\tbest: 0.7869944 (1057)\ttotal: 3m 33s\tremaining: 9m 20s\n"
     ]
    },
    {
     "name": "stdout",
     "output_type": "stream",
     "text": [
      "1100:\tlearn: 0.8066686\ttest: 0.7869234\tbest: 0.7870278 (1094)\ttotal: 3m 38s\tremaining: 9m 15s\n"
     ]
    },
    {
     "name": "stdout",
     "output_type": "stream",
     "text": [
      "1125:\tlearn: 0.8070182\ttest: 0.7873391\tbest: 0.7873585 (1124)\ttotal: 3m 43s\tremaining: 9m 10s\n"
     ]
    },
    {
     "name": "stdout",
     "output_type": "stream",
     "text": [
      "1150:\tlearn: 0.8076681\ttest: 0.7875100\tbest: 0.7877735 (1144)\ttotal: 3m 48s\tremaining: 9m 5s\n"
     ]
    },
    {
     "name": "stdout",
     "output_type": "stream",
     "text": [
      "1175:\tlearn: 0.8080323\ttest: 0.7870998\tbest: 0.7877735 (1144)\ttotal: 3m 53s\tremaining: 9m\n"
     ]
    },
    {
     "name": "stdout",
     "output_type": "stream",
     "text": [
      "1200:\tlearn: 0.8087159\ttest: 0.7872880\tbest: 0.7877735 (1144)\ttotal: 3m 58s\tremaining: 8m 55s\n"
     ]
    },
    {
     "name": "stdout",
     "output_type": "stream",
     "text": [
      "1225:\tlearn: 0.8091356\ttest: 0.7870145\tbest: 0.7877735 (1144)\ttotal: 4m 3s\tremaining: 8m 50s\n"
     ]
    },
    {
     "name": "stdout",
     "output_type": "stream",
     "text": [
      "1250:\tlearn: 0.8097229\ttest: 0.7870969\tbest: 0.7877735 (1144)\ttotal: 4m 8s\tremaining: 8m 45s\n"
     ]
    },
    {
     "name": "stdout",
     "output_type": "stream",
     "text": [
      "1275:\tlearn: 0.8101511\ttest: 0.7871975\tbest: 0.7877735 (1144)\ttotal: 4m 13s\tremaining: 8m 40s\n"
     ]
    },
    {
     "name": "stdout",
     "output_type": "stream",
     "text": [
      "1300:\tlearn: 0.8107240\ttest: 0.7872291\tbest: 0.7877735 (1144)\ttotal: 4m 18s\tremaining: 8m 35s\n"
     ]
    },
    {
     "name": "stdout",
     "output_type": "stream",
     "text": [
      "1325:\tlearn: 0.8111707\ttest: 0.7872320\tbest: 0.7877735 (1144)\ttotal: 4m 23s\tremaining: 8m 30s\n"
     ]
    },
    {
     "name": "stdout",
     "output_type": "stream",
     "text": [
      "1350:\tlearn: 0.8118035\ttest: 0.7876091\tbest: 0.7877735 (1144)\ttotal: 4m 28s\tremaining: 8m 25s\n"
     ]
    },
    {
     "name": "stdout",
     "output_type": "stream",
     "text": [
      "1375:\tlearn: 0.8123491\ttest: 0.7877604\tbest: 0.7877735 (1144)\ttotal: 4m 33s\tremaining: 8m 21s\n"
     ]
    },
    {
     "name": "stdout",
     "output_type": "stream",
     "text": [
      "1400:\tlearn: 0.8126951\ttest: 0.7879882\tbest: 0.7880468 (1397)\ttotal: 4m 38s\tremaining: 8m 16s\n"
     ]
    },
    {
     "name": "stdout",
     "output_type": "stream",
     "text": [
      "1425:\tlearn: 0.8131275\ttest: 0.7878110\tbest: 0.7880943 (1401)\ttotal: 4m 42s\tremaining: 8m 10s\n"
     ]
    },
    {
     "name": "stdout",
     "output_type": "stream",
     "text": [
      "1450:\tlearn: 0.8136606\ttest: 0.7874990\tbest: 0.7880943 (1401)\ttotal: 4m 47s\tremaining: 8m 5s\n"
     ]
    },
    {
     "name": "stdout",
     "output_type": "stream",
     "text": [
      "1475:\tlearn: 0.8141904\ttest: 0.7875949\tbest: 0.7880943 (1401)\ttotal: 4m 52s\tremaining: 8m\n"
     ]
    },
    {
     "name": "stdout",
     "output_type": "stream",
     "text": [
      "1500:\tlearn: 0.8147049\ttest: 0.7877786\tbest: 0.7880943 (1401)\ttotal: 4m 57s\tremaining: 7m 56s\n"
     ]
    },
    {
     "name": "stdout",
     "output_type": "stream",
     "text": [
      "1525:\tlearn: 0.8149050\ttest: 0.7875242\tbest: 0.7880943 (1401)\ttotal: 5m 2s\tremaining: 7m 51s\n"
     ]
    },
    {
     "name": "stdout",
     "output_type": "stream",
     "text": [
      "1550:\tlearn: 0.8153447\ttest: 0.7879026\tbest: 0.7880943 (1401)\ttotal: 5m 7s\tremaining: 7m 46s\n"
     ]
    },
    {
     "name": "stdout",
     "output_type": "stream",
     "text": [
      "1575:\tlearn: 0.8156867\ttest: 0.7878286\tbest: 0.7880963 (1569)\ttotal: 5m 12s\tremaining: 7m 41s\n"
     ]
    },
    {
     "name": "stdout",
     "output_type": "stream",
     "text": [
      "1600:\tlearn: 0.8162395\ttest: 0.7879837\tbest: 0.7881515 (1597)\ttotal: 5m 17s\tremaining: 7m 36s\n"
     ]
    },
    {
     "name": "stdout",
     "output_type": "stream",
     "text": [
      "1625:\tlearn: 0.8165757\ttest: 0.7883794\tbest: 0.7883794 (1625)\ttotal: 5m 22s\tremaining: 7m 31s\n"
     ]
    },
    {
     "name": "stdout",
     "output_type": "stream",
     "text": [
      "1650:\tlearn: 0.8171171\ttest: 0.7886818\tbest: 0.7886818 (1650)\ttotal: 5m 27s\tremaining: 7m 26s\n"
     ]
    },
    {
     "name": "stdout",
     "output_type": "stream",
     "text": [
      "1675:\tlearn: 0.8176841\ttest: 0.7885839\tbest: 0.7886818 (1650)\ttotal: 5m 32s\tremaining: 7m 21s\n"
     ]
    },
    {
     "name": "stdout",
     "output_type": "stream",
     "text": [
      "1700:\tlearn: 0.8181645\ttest: 0.7888707\tbest: 0.7889326 (1698)\ttotal: 5m 37s\tremaining: 7m 16s\n"
     ]
    },
    {
     "name": "stdout",
     "output_type": "stream",
     "text": [
      "1725:\tlearn: 0.8184424\ttest: 0.7888583\tbest: 0.7889593 (1719)\ttotal: 5m 42s\tremaining: 7m 11s\n"
     ]
    },
    {
     "name": "stdout",
     "output_type": "stream",
     "text": [
      "1750:\tlearn: 0.8190062\ttest: 0.7888298\tbest: 0.7891197 (1744)\ttotal: 5m 47s\tremaining: 7m 6s\n"
     ]
    },
    {
     "name": "stdout",
     "output_type": "stream",
     "text": [
      "1775:\tlearn: 0.8192612\ttest: 0.7889283\tbest: 0.7891197 (1744)\ttotal: 5m 52s\tremaining: 7m 1s\n"
     ]
    },
    {
     "name": "stdout",
     "output_type": "stream",
     "text": [
      "1800:\tlearn: 0.8196683\ttest: 0.7887517\tbest: 0.7891197 (1744)\ttotal: 5m 57s\tremaining: 6m 56s\n"
     ]
    },
    {
     "name": "stdout",
     "output_type": "stream",
     "text": [
      "1825:\tlearn: 0.8200746\ttest: 0.7888020\tbest: 0.7891197 (1744)\ttotal: 6m 2s\tremaining: 6m 51s\n"
     ]
    },
    {
     "name": "stdout",
     "output_type": "stream",
     "text": [
      "1850:\tlearn: 0.8206331\ttest: 0.7888827\tbest: 0.7891197 (1744)\ttotal: 6m 7s\tremaining: 6m 46s\n"
     ]
    },
    {
     "name": "stdout",
     "output_type": "stream",
     "text": [
      "1875:\tlearn: 0.8211124\ttest: 0.7885313\tbest: 0.7891197 (1744)\ttotal: 6m 11s\tremaining: 6m 41s\n"
     ]
    },
    {
     "name": "stdout",
     "output_type": "stream",
     "text": [
      "1900:\tlearn: 0.8215632\ttest: 0.7884496\tbest: 0.7891197 (1744)\ttotal: 6m 16s\tremaining: 6m 36s\n"
     ]
    },
    {
     "name": "stdout",
     "output_type": "stream",
     "text": [
      "1925:\tlearn: 0.8220077\ttest: 0.7886734\tbest: 0.7891197 (1744)\ttotal: 6m 21s\tremaining: 6m 31s\n"
     ]
    },
    {
     "name": "stdout",
     "output_type": "stream",
     "text": [
      "1950:\tlearn: 0.8223663\ttest: 0.7889978\tbest: 0.7891197 (1744)\ttotal: 6m 26s\tremaining: 6m 26s\n"
     ]
    },
    {
     "name": "stdout",
     "output_type": "stream",
     "text": [
      "1975:\tlearn: 0.8228014\ttest: 0.7890247\tbest: 0.7892088 (1958)\ttotal: 6m 31s\tremaining: 6m 21s\n"
     ]
    },
    {
     "name": "stdout",
     "output_type": "stream",
     "text": [
      "2000:\tlearn: 0.8230605\ttest: 0.7890508\tbest: 0.7892791 (1985)\ttotal: 6m 36s\tremaining: 6m 16s\n"
     ]
    },
    {
     "name": "stdout",
     "output_type": "stream",
     "text": [
      "2025:\tlearn: 0.8234290\ttest: 0.7888535\tbest: 0.7892791 (1985)\ttotal: 6m 41s\tremaining: 6m 11s\n"
     ]
    },
    {
     "name": "stdout",
     "output_type": "stream",
     "text": [
      "2050:\tlearn: 0.8238446\ttest: 0.7886271\tbest: 0.7892791 (1985)\ttotal: 6m 46s\tremaining: 6m 6s\n"
     ]
    },
    {
     "name": "stdout",
     "output_type": "stream",
     "text": [
      "2075:\tlearn: 0.8241577\ttest: 0.7888038\tbest: 0.7892791 (1985)\ttotal: 6m 51s\tremaining: 6m 1s\n"
     ]
    },
    {
     "name": "stdout",
     "output_type": "stream",
     "text": [
      "2100:\tlearn: 0.8244997\ttest: 0.7887305\tbest: 0.7892791 (1985)\ttotal: 6m 56s\tremaining: 5m 56s\n"
     ]
    },
    {
     "name": "stdout",
     "output_type": "stream",
     "text": [
      "2125:\tlearn: 0.8249714\ttest: 0.7885337\tbest: 0.7892791 (1985)\ttotal: 7m 1s\tremaining: 5m 51s\n"
     ]
    },
    {
     "name": "stdout",
     "output_type": "stream",
     "text": [
      "2150:\tlearn: 0.8252505\ttest: 0.7885771\tbest: 0.7892791 (1985)\ttotal: 7m 6s\tremaining: 5m 46s\n"
     ]
    },
    {
     "name": "stdout",
     "output_type": "stream",
     "text": [
      "2175:\tlearn: 0.8258044\ttest: 0.7888849\tbest: 0.7892791 (1985)\ttotal: 7m 11s\tremaining: 5m 41s\n"
     ]
    },
    {
     "name": "stdout",
     "output_type": "stream",
     "text": [
      "2200:\tlearn: 0.8259660\ttest: 0.7886371\tbest: 0.7892791 (1985)\ttotal: 7m 16s\tremaining: 5m 36s\n"
     ]
    },
    {
     "name": "stdout",
     "output_type": "stream",
     "text": [
      "2225:\tlearn: 0.8260955\ttest: 0.7886459\tbest: 0.7892791 (1985)\ttotal: 7m 21s\tremaining: 5m 31s\n"
     ]
    },
    {
     "name": "stdout",
     "output_type": "stream",
     "text": [
      "2250:\tlearn: 0.8265826\ttest: 0.7887764\tbest: 0.7892791 (1985)\ttotal: 7m 26s\tremaining: 5m 26s\n"
     ]
    },
    {
     "name": "stdout",
     "output_type": "stream",
     "text": [
      "2275:\tlearn: 0.8270533\ttest: 0.7888949\tbest: 0.7892791 (1985)\ttotal: 7m 31s\tremaining: 5m 22s\n"
     ]
    },
    {
     "name": "stdout",
     "output_type": "stream",
     "text": [
      "2300:\tlearn: 0.8274914\ttest: 0.7888612\tbest: 0.7892791 (1985)\ttotal: 7m 36s\tremaining: 5m 17s\n"
     ]
    },
    {
     "name": "stdout",
     "output_type": "stream",
     "text": [
      "2325:\tlearn: 0.8279397\ttest: 0.7886745\tbest: 0.7892791 (1985)\ttotal: 7m 41s\tremaining: 5m 12s\n"
     ]
    },
    {
     "name": "stdout",
     "output_type": "stream",
     "text": [
      "2350:\tlearn: 0.8282779\ttest: 0.7882787\tbest: 0.7892791 (1985)\ttotal: 7m 46s\tremaining: 5m 7s\n"
     ]
    },
    {
     "name": "stdout",
     "output_type": "stream",
     "text": [
      "2375:\tlearn: 0.8285049\ttest: 0.7883003\tbest: 0.7892791 (1985)\ttotal: 7m 51s\tremaining: 5m 2s\n"
     ]
    },
    {
     "name": "stdout",
     "output_type": "stream",
     "text": [
      "2400:\tlearn: 0.8288982\ttest: 0.7886649\tbest: 0.7892791 (1985)\ttotal: 7m 56s\tremaining: 4m 57s\n"
     ]
    },
    {
     "name": "stdout",
     "output_type": "stream",
     "text": [
      "2425:\tlearn: 0.8292600\ttest: 0.7887047\tbest: 0.7892791 (1985)\ttotal: 8m 1s\tremaining: 4m 52s\n"
     ]
    },
    {
     "name": "stdout",
     "output_type": "stream",
     "text": [
      "2450:\tlearn: 0.8296494\ttest: 0.7886222\tbest: 0.7892791 (1985)\ttotal: 8m 6s\tremaining: 4m 47s\n"
     ]
    },
    {
     "name": "stdout",
     "output_type": "stream",
     "text": [
      "2475:\tlearn: 0.8300837\ttest: 0.7886060\tbest: 0.7892791 (1985)\ttotal: 8m 10s\tremaining: 4m 42s\n"
     ]
    },
    {
     "name": "stdout",
     "output_type": "stream",
     "text": [
      "2500:\tlearn: 0.8304117\ttest: 0.7890704\tbest: 0.7892791 (1985)\ttotal: 8m 15s\tremaining: 4m 37s\n"
     ]
    },
    {
     "name": "stdout",
     "output_type": "stream",
     "text": [
      "2525:\tlearn: 0.8308853\ttest: 0.7893265\tbest: 0.7893265 (2525)\ttotal: 8m 20s\tremaining: 4m 32s\n"
     ]
    },
    {
     "name": "stdout",
     "output_type": "stream",
     "text": [
      "2550:\tlearn: 0.8312325\ttest: 0.7892441\tbest: 0.7893922 (2542)\ttotal: 8m 25s\tremaining: 4m 27s\n"
     ]
    },
    {
     "name": "stdout",
     "output_type": "stream",
     "text": [
      "2575:\tlearn: 0.8316261\ttest: 0.7891408\tbest: 0.7893922 (2542)\ttotal: 8m 30s\tremaining: 4m 22s\n"
     ]
    },
    {
     "name": "stdout",
     "output_type": "stream",
     "text": [
      "2600:\tlearn: 0.8320266\ttest: 0.7890207\tbest: 0.7893922 (2542)\ttotal: 8m 35s\tremaining: 4m 17s\n"
     ]
    },
    {
     "name": "stdout",
     "output_type": "stream",
     "text": [
      "2625:\tlearn: 0.8323123\ttest: 0.7888774\tbest: 0.7893922 (2542)\ttotal: 8m 40s\tremaining: 4m 12s\n"
     ]
    },
    {
     "name": "stdout",
     "output_type": "stream",
     "text": [
      "2650:\tlearn: 0.8327046\ttest: 0.7887547\tbest: 0.7893922 (2542)\ttotal: 8m 45s\tremaining: 4m 7s\n"
     ]
    },
    {
     "name": "stdout",
     "output_type": "stream",
     "text": [
      "2675:\tlearn: 0.8328160\ttest: 0.7889293\tbest: 0.7893922 (2542)\ttotal: 8m 50s\tremaining: 4m 2s\n"
     ]
    },
    {
     "name": "stdout",
     "output_type": "stream",
     "text": [
      "2700:\tlearn: 0.8334163\ttest: 0.7889177\tbest: 0.7893922 (2542)\ttotal: 8m 55s\tremaining: 3m 57s\n"
     ]
    },
    {
     "name": "stdout",
     "output_type": "stream",
     "text": [
      "2725:\tlearn: 0.8338515\ttest: 0.7886446\tbest: 0.7893922 (2542)\ttotal: 9m\tremaining: 3m 52s\n"
     ]
    },
    {
     "name": "stdout",
     "output_type": "stream",
     "text": [
      "2750:\tlearn: 0.8340895\ttest: 0.7887184\tbest: 0.7893922 (2542)\ttotal: 9m 5s\tremaining: 3m 47s\n"
     ]
    },
    {
     "name": "stdout",
     "output_type": "stream",
     "text": [
      "2775:\tlearn: 0.8345358\ttest: 0.7885720\tbest: 0.7893922 (2542)\ttotal: 9m 10s\tremaining: 3m 42s\n"
     ]
    },
    {
     "name": "stdout",
     "output_type": "stream",
     "text": [
      "2800:\tlearn: 0.8348124\ttest: 0.7886538\tbest: 0.7893922 (2542)\ttotal: 9m 15s\tremaining: 3m 37s\n"
     ]
    },
    {
     "name": "stdout",
     "output_type": "stream",
     "text": [
      "2825:\tlearn: 0.8351994\ttest: 0.7888291\tbest: 0.7893922 (2542)\ttotal: 9m 20s\tremaining: 3m 32s\n"
     ]
    },
    {
     "name": "stdout",
     "output_type": "stream",
     "text": [
      "2850:\tlearn: 0.8355391\ttest: 0.7889392\tbest: 0.7893922 (2542)\ttotal: 9m 25s\tremaining: 3m 27s\n"
     ]
    },
    {
     "name": "stdout",
     "output_type": "stream",
     "text": [
      "2875:\tlearn: 0.8358218\ttest: 0.7888185\tbest: 0.7893922 (2542)\ttotal: 9m 30s\tremaining: 3m 23s\n"
     ]
    },
    {
     "name": "stdout",
     "output_type": "stream",
     "text": [
      "2900:\tlearn: 0.8361109\ttest: 0.7887606\tbest: 0.7893922 (2542)\ttotal: 9m 35s\tremaining: 3m 18s\n"
     ]
    },
    {
     "name": "stdout",
     "output_type": "stream",
     "text": [
      "2925:\tlearn: 0.8365635\ttest: 0.7890169\tbest: 0.7893922 (2542)\ttotal: 9m 39s\tremaining: 3m 13s\n"
     ]
    },
    {
     "name": "stdout",
     "output_type": "stream",
     "text": [
      "2950:\tlearn: 0.8368883\ttest: 0.7889466\tbest: 0.7893922 (2542)\ttotal: 9m 44s\tremaining: 3m 8s\n"
     ]
    },
    {
     "name": "stdout",
     "output_type": "stream",
     "text": [
      "2975:\tlearn: 0.8372570\ttest: 0.7886139\tbest: 0.7893922 (2542)\ttotal: 9m 49s\tremaining: 3m 3s\n"
     ]
    },
    {
     "name": "stdout",
     "output_type": "stream",
     "text": [
      "3000:\tlearn: 0.8375323\ttest: 0.7887298\tbest: 0.7893922 (2542)\ttotal: 9m 54s\tremaining: 2m 58s\n"
     ]
    },
    {
     "name": "stdout",
     "output_type": "stream",
     "text": [
      "3025:\tlearn: 0.8379110\ttest: 0.7887957\tbest: 0.7893922 (2542)\ttotal: 9m 59s\tremaining: 2m 53s\n"
     ]
    },
    {
     "name": "stdout",
     "output_type": "stream",
     "text": [
      "3050:\tlearn: 0.8382837\ttest: 0.7888669\tbest: 0.7893922 (2542)\ttotal: 10m 4s\tremaining: 2m 48s\n"
     ]
    },
    {
     "name": "stdout",
     "output_type": "stream",
     "text": [
      "3075:\tlearn: 0.8384832\ttest: 0.7886189\tbest: 0.7893922 (2542)\ttotal: 10m 9s\tremaining: 2m 43s\n"
     ]
    },
    {
     "name": "stdout",
     "output_type": "stream",
     "text": [
      "3100:\tlearn: 0.8390091\ttest: 0.7888965\tbest: 0.7893922 (2542)\ttotal: 10m 14s\tremaining: 2m 38s\n"
     ]
    },
    {
     "name": "stdout",
     "output_type": "stream",
     "text": [
      "3125:\tlearn: 0.8391988\ttest: 0.7889138\tbest: 0.7893922 (2542)\ttotal: 10m 19s\tremaining: 2m 33s\n"
     ]
    },
    {
     "name": "stdout",
     "output_type": "stream",
     "text": [
      "3150:\tlearn: 0.8394755\ttest: 0.7886448\tbest: 0.7893922 (2542)\ttotal: 10m 24s\tremaining: 2m 28s\n"
     ]
    },
    {
     "name": "stdout",
     "output_type": "stream",
     "text": [
      "3175:\tlearn: 0.8399081\ttest: 0.7883484\tbest: 0.7893922 (2542)\ttotal: 10m 29s\tremaining: 2m 23s\n"
     ]
    },
    {
     "name": "stdout",
     "output_type": "stream",
     "text": [
      "3200:\tlearn: 0.8402449\ttest: 0.7883714\tbest: 0.7893922 (2542)\ttotal: 10m 34s\tremaining: 2m 18s\n"
     ]
    },
    {
     "name": "stdout",
     "output_type": "stream",
     "text": [
      "3225:\tlearn: 0.8405388\ttest: 0.7883720\tbest: 0.7893922 (2542)\ttotal: 10m 39s\tremaining: 2m 13s\n"
     ]
    },
    {
     "name": "stdout",
     "output_type": "stream",
     "text": [
      "3250:\tlearn: 0.8409276\ttest: 0.7883549\tbest: 0.7893922 (2542)\ttotal: 10m 44s\tremaining: 2m 8s\n"
     ]
    },
    {
     "name": "stdout",
     "output_type": "stream",
     "text": [
      "3275:\tlearn: 0.8413564\ttest: 0.7885072\tbest: 0.7893922 (2542)\ttotal: 10m 49s\tremaining: 2m 3s\n"
     ]
    },
    {
     "name": "stdout",
     "output_type": "stream",
     "text": [
      "3300:\tlearn: 0.8417346\ttest: 0.7882153\tbest: 0.7893922 (2542)\ttotal: 10m 53s\tremaining: 1m 58s\n"
     ]
    },
    {
     "name": "stdout",
     "output_type": "stream",
     "text": [
      "3325:\tlearn: 0.8421350\ttest: 0.7886213\tbest: 0.7893922 (2542)\ttotal: 10m 58s\tremaining: 1m 53s\n"
     ]
    },
    {
     "name": "stdout",
     "output_type": "stream",
     "text": [
      "3350:\tlearn: 0.8424710\ttest: 0.7886454\tbest: 0.7893922 (2542)\ttotal: 11m 3s\tremaining: 1m 48s\n"
     ]
    },
    {
     "name": "stdout",
     "output_type": "stream",
     "text": [
      "3375:\tlearn: 0.8429120\ttest: 0.7886510\tbest: 0.7893922 (2542)\ttotal: 11m 8s\tremaining: 1m 43s\n"
     ]
    },
    {
     "name": "stdout",
     "output_type": "stream",
     "text": [
      "3400:\tlearn: 0.8431635\ttest: 0.7884256\tbest: 0.7893922 (2542)\ttotal: 11m 13s\tremaining: 1m 38s\n"
     ]
    },
    {
     "name": "stdout",
     "output_type": "stream",
     "text": [
      "3425:\tlearn: 0.8437315\ttest: 0.7888285\tbest: 0.7893922 (2542)\ttotal: 11m 18s\tremaining: 1m 33s\n"
     ]
    },
    {
     "name": "stdout",
     "output_type": "stream",
     "text": [
      "3450:\tlearn: 0.8441644\ttest: 0.7885182\tbest: 0.7893922 (2542)\ttotal: 11m 23s\tremaining: 1m 28s\n"
     ]
    },
    {
     "name": "stdout",
     "output_type": "stream",
     "text": [
      "3475:\tlearn: 0.8445550\ttest: 0.7884341\tbest: 0.7893922 (2542)\ttotal: 11m 28s\tremaining: 1m 24s\n"
     ]
    },
    {
     "name": "stdout",
     "output_type": "stream",
     "text": [
      "3500:\tlearn: 0.8448617\ttest: 0.7885162\tbest: 0.7893922 (2542)\ttotal: 11m 33s\tremaining: 1m 19s\n"
     ]
    },
    {
     "name": "stdout",
     "output_type": "stream",
     "text": [
      "3525:\tlearn: 0.8451981\ttest: 0.7889193\tbest: 0.7893922 (2542)\ttotal: 11m 38s\tremaining: 1m 14s\n"
     ]
    },
    {
     "name": "stdout",
     "output_type": "stream",
     "text": [
      "3550:\tlearn: 0.8457686\ttest: 0.7890303\tbest: 0.7893922 (2542)\ttotal: 11m 43s\tremaining: 1m 9s\n"
     ]
    },
    {
     "name": "stdout",
     "output_type": "stream",
     "text": [
      "3575:\tlearn: 0.8461640\ttest: 0.7888647\tbest: 0.7893922 (2542)\ttotal: 11m 48s\tremaining: 1m 4s\n"
     ]
    },
    {
     "name": "stdout",
     "output_type": "stream",
     "text": [
      "3600:\tlearn: 0.8466337\ttest: 0.7890984\tbest: 0.7893922 (2542)\ttotal: 11m 53s\tremaining: 59.2s\n"
     ]
    },
    {
     "name": "stdout",
     "output_type": "stream",
     "text": [
      "3625:\tlearn: 0.8469069\ttest: 0.7891202\tbest: 0.7893922 (2542)\ttotal: 11m 58s\tremaining: 54.3s\n"
     ]
    },
    {
     "name": "stdout",
     "output_type": "stream",
     "text": [
      "3650:\tlearn: 0.8471995\ttest: 0.7891603\tbest: 0.7893922 (2542)\ttotal: 12m 3s\tremaining: 49.3s\n"
     ]
    },
    {
     "name": "stdout",
     "output_type": "stream",
     "text": [
      "3675:\tlearn: 0.8477809\ttest: 0.7891237\tbest: 0.7893922 (2542)\ttotal: 12m 8s\tremaining: 44.4s\n"
     ]
    },
    {
     "name": "stdout",
     "output_type": "stream",
     "text": [
      "3700:\tlearn: 0.8481354\ttest: 0.7893994\tbest: 0.7894849 (3696)\ttotal: 12m 13s\tremaining: 39.4s\n"
     ]
    },
    {
     "name": "stdout",
     "output_type": "stream",
     "text": [
      "3725:\tlearn: 0.8484469\ttest: 0.7891481\tbest: 0.7895699 (3704)\ttotal: 12m 18s\tremaining: 34.5s\n"
     ]
    },
    {
     "name": "stdout",
     "output_type": "stream",
     "text": [
      "3750:\tlearn: 0.8487842\ttest: 0.7895250\tbest: 0.7895699 (3704)\ttotal: 12m 23s\tremaining: 29.5s\n"
     ]
    },
    {
     "name": "stdout",
     "output_type": "stream",
     "text": [
      "3775:\tlearn: 0.8491854\ttest: 0.7894460\tbest: 0.7896092 (3752)\ttotal: 12m 28s\tremaining: 24.6s\n"
     ]
    },
    {
     "name": "stdout",
     "output_type": "stream",
     "text": [
      "3800:\tlearn: 0.8496021\ttest: 0.7897805\tbest: 0.7897805 (3800)\ttotal: 12m 33s\tremaining: 19.6s\n"
     ]
    },
    {
     "name": "stdout",
     "output_type": "stream",
     "text": [
      "3825:\tlearn: 0.8499432\ttest: 0.7894232\tbest: 0.7897805 (3800)\ttotal: 12m 38s\tremaining: 14.7s\n"
     ]
    },
    {
     "name": "stdout",
     "output_type": "stream",
     "text": [
      "3850:\tlearn: 0.8502533\ttest: 0.7896200\tbest: 0.7897871 (3838)\ttotal: 12m 43s\tremaining: 9.71s\n"
     ]
    },
    {
     "name": "stdout",
     "output_type": "stream",
     "text": [
      "3875:\tlearn: 0.8505330\ttest: 0.7895123\tbest: 0.7897871 (3838)\ttotal: 12m 48s\tremaining: 4.75s\n"
     ]
    },
    {
     "name": "stdout",
     "output_type": "stream",
     "text": [
      "3899:\tlearn: 0.8509322\ttest: 0.7892862\tbest: 0.7897871 (3838)\ttotal: 12m 52s\tremaining: 0us\n",
      "\n",
      "bestTest = 0.7897870909\n",
      "bestIteration = 3838\n",
      "\n"
     ]
    },
    {
     "name": "stdout",
     "output_type": "stream",
     "text": [
      "######################################## training model 3/5 ########################################\n"
     ]
    },
    {
     "name": "stdout",
     "output_type": "stream",
     "text": [
      "0:\tlearn: 0.5456606\ttest: 0.5521058\tbest: 0.5521058 (0)\ttotal: 511ms\tremaining: 33m 12s\n"
     ]
    },
    {
     "name": "stdout",
     "output_type": "stream",
     "text": [
      "25:\tlearn: 0.7295254\ttest: 0.7290030\tbest: 0.7290030 (25)\ttotal: 5.29s\tremaining: 13m 7s\n"
     ]
    },
    {
     "name": "stdout",
     "output_type": "stream",
     "text": [
      "50:\tlearn: 0.7489069\ttest: 0.7493510\tbest: 0.7493510 (50)\ttotal: 10.3s\tremaining: 12m 54s\n"
     ]
    },
    {
     "name": "stdout",
     "output_type": "stream",
     "text": [
      "75:\tlearn: 0.7565389\ttest: 0.7568863\tbest: 0.7568863 (75)\ttotal: 15.2s\tremaining: 12m 43s\n"
     ]
    },
    {
     "name": "stdout",
     "output_type": "stream",
     "text": [
      "100:\tlearn: 0.7616479\ttest: 0.7610379\tbest: 0.7610444 (96)\ttotal: 20.2s\tremaining: 12m 38s\n"
     ]
    },
    {
     "name": "stdout",
     "output_type": "stream",
     "text": [
      "125:\tlearn: 0.7643525\ttest: 0.7648860\tbest: 0.7650437 (124)\ttotal: 25.2s\tremaining: 12m 33s\n"
     ]
    },
    {
     "name": "stdout",
     "output_type": "stream",
     "text": [
      "150:\tlearn: 0.7668108\ttest: 0.7665969\tbest: 0.7668331 (149)\ttotal: 30.1s\tremaining: 12m 27s\n"
     ]
    },
    {
     "name": "stdout",
     "output_type": "stream",
     "text": [
      "175:\tlearn: 0.7680741\ttest: 0.7687744\tbest: 0.7687744 (175)\ttotal: 35.1s\tremaining: 12m 22s\n"
     ]
    },
    {
     "name": "stdout",
     "output_type": "stream",
     "text": [
      "200:\tlearn: 0.7699389\ttest: 0.7708430\tbest: 0.7708430 (200)\ttotal: 40s\tremaining: 12m 16s\n"
     ]
    },
    {
     "name": "stdout",
     "output_type": "stream",
     "text": [
      "225:\tlearn: 0.7714447\ttest: 0.7717811\tbest: 0.7719521 (223)\ttotal: 45s\tremaining: 12m 11s\n"
     ]
    },
    {
     "name": "stdout",
     "output_type": "stream",
     "text": [
      "250:\tlearn: 0.7729315\ttest: 0.7746747\tbest: 0.7746747 (250)\ttotal: 49.9s\tremaining: 12m 6s\n"
     ]
    },
    {
     "name": "stdout",
     "output_type": "stream",
     "text": [
      "275:\tlearn: 0.7756498\ttest: 0.7769227\tbest: 0.7769227 (275)\ttotal: 54.9s\tremaining: 12m\n"
     ]
    },
    {
     "name": "stdout",
     "output_type": "stream",
     "text": [
      "300:\tlearn: 0.7780315\ttest: 0.7786673\tbest: 0.7786673 (300)\ttotal: 59.9s\tremaining: 11m 56s\n"
     ]
    },
    {
     "name": "stdout",
     "output_type": "stream",
     "text": [
      "325:\tlearn: 0.7801815\ttest: 0.7806507\tbest: 0.7806507 (325)\ttotal: 1m 4s\tremaining: 11m 50s\n"
     ]
    },
    {
     "name": "stdout",
     "output_type": "stream",
     "text": [
      "350:\tlearn: 0.7821325\ttest: 0.7821212\tbest: 0.7823100 (349)\ttotal: 1m 9s\tremaining: 11m 45s\n"
     ]
    },
    {
     "name": "stdout",
     "output_type": "stream",
     "text": [
      "375:\tlearn: 0.7839967\ttest: 0.7836943\tbest: 0.7836943 (375)\ttotal: 1m 14s\tremaining: 11m 40s\n"
     ]
    },
    {
     "name": "stdout",
     "output_type": "stream",
     "text": [
      "400:\tlearn: 0.7850403\ttest: 0.7847471\tbest: 0.7847730 (397)\ttotal: 1m 19s\tremaining: 11m 35s\n"
     ]
    },
    {
     "name": "stdout",
     "output_type": "stream",
     "text": [
      "425:\tlearn: 0.7863059\ttest: 0.7857009\tbest: 0.7858741 (423)\ttotal: 1m 24s\tremaining: 11m 30s\n"
     ]
    },
    {
     "name": "stdout",
     "output_type": "stream",
     "text": [
      "450:\tlearn: 0.7873837\ttest: 0.7862924\tbest: 0.7865520 (446)\ttotal: 1m 29s\tremaining: 11m 25s\n"
     ]
    },
    {
     "name": "stdout",
     "output_type": "stream",
     "text": [
      "475:\tlearn: 0.7882556\ttest: 0.7868604\tbest: 0.7869066 (473)\ttotal: 1m 34s\tremaining: 11m 20s\n"
     ]
    },
    {
     "name": "stdout",
     "output_type": "stream",
     "text": [
      "500:\tlearn: 0.7891370\ttest: 0.7881383\tbest: 0.7881383 (500)\ttotal: 1m 39s\tremaining: 11m 15s\n"
     ]
    },
    {
     "name": "stdout",
     "output_type": "stream",
     "text": [
      "525:\tlearn: 0.7899532\ttest: 0.7881538\tbest: 0.7882295 (523)\ttotal: 1m 44s\tremaining: 11m 10s\n"
     ]
    },
    {
     "name": "stdout",
     "output_type": "stream",
     "text": [
      "550:\tlearn: 0.7911176\ttest: 0.7890817\tbest: 0.7890817 (550)\ttotal: 1m 49s\tremaining: 11m 4s\n"
     ]
    },
    {
     "name": "stdout",
     "output_type": "stream",
     "text": [
      "575:\tlearn: 0.7921521\ttest: 0.7896413\tbest: 0.7900739 (569)\ttotal: 1m 54s\tremaining: 11m\n"
     ]
    },
    {
     "name": "stdout",
     "output_type": "stream",
     "text": [
      "600:\tlearn: 0.7928660\ttest: 0.7901325\tbest: 0.7902472 (598)\ttotal: 1m 59s\tremaining: 10m 54s\n"
     ]
    },
    {
     "name": "stdout",
     "output_type": "stream",
     "text": [
      "625:\tlearn: 0.7932540\ttest: 0.7904634\tbest: 0.7905683 (624)\ttotal: 2m 4s\tremaining: 10m 49s\n"
     ]
    },
    {
     "name": "stdout",
     "output_type": "stream",
     "text": [
      "650:\tlearn: 0.7941997\ttest: 0.7911580\tbest: 0.7912348 (648)\ttotal: 2m 9s\tremaining: 10m 44s\n"
     ]
    },
    {
     "name": "stdout",
     "output_type": "stream",
     "text": [
      "675:\tlearn: 0.7949160\ttest: 0.7912409\tbest: 0.7914706 (665)\ttotal: 2m 14s\tremaining: 10m 39s\n"
     ]
    },
    {
     "name": "stdout",
     "output_type": "stream",
     "text": [
      "700:\tlearn: 0.7958020\ttest: 0.7915801\tbest: 0.7917033 (699)\ttotal: 2m 19s\tremaining: 10m 34s\n"
     ]
    },
    {
     "name": "stdout",
     "output_type": "stream",
     "text": [
      "725:\tlearn: 0.7964426\ttest: 0.7913203\tbest: 0.7917033 (699)\ttotal: 2m 23s\tremaining: 10m 29s\n"
     ]
    },
    {
     "name": "stdout",
     "output_type": "stream",
     "text": [
      "750:\tlearn: 0.7972064\ttest: 0.7914867\tbest: 0.7917107 (736)\ttotal: 2m 28s\tremaining: 10m 24s\n"
     ]
    },
    {
     "name": "stdout",
     "output_type": "stream",
     "text": [
      "775:\tlearn: 0.7978402\ttest: 0.7917229\tbest: 0.7918393 (771)\ttotal: 2m 33s\tremaining: 10m 19s\n"
     ]
    },
    {
     "name": "stdout",
     "output_type": "stream",
     "text": [
      "800:\tlearn: 0.7983232\ttest: 0.7924716\tbest: 0.7924716 (800)\ttotal: 2m 38s\tremaining: 10m 14s\n"
     ]
    },
    {
     "name": "stdout",
     "output_type": "stream",
     "text": [
      "825:\tlearn: 0.7991495\ttest: 0.7928433\tbest: 0.7930074 (817)\ttotal: 2m 43s\tremaining: 10m 9s\n"
     ]
    },
    {
     "name": "stdout",
     "output_type": "stream",
     "text": [
      "850:\tlearn: 0.7997535\ttest: 0.7929494\tbest: 0.7930074 (817)\ttotal: 2m 48s\tremaining: 10m 3s\n"
     ]
    },
    {
     "name": "stdout",
     "output_type": "stream",
     "text": [
      "875:\tlearn: 0.8002295\ttest: 0.7929779\tbest: 0.7931968 (866)\ttotal: 2m 53s\tremaining: 9m 58s\n"
     ]
    },
    {
     "name": "stdout",
     "output_type": "stream",
     "text": [
      "900:\tlearn: 0.8006281\ttest: 0.7929325\tbest: 0.7931968 (866)\ttotal: 2m 58s\tremaining: 9m 53s\n"
     ]
    },
    {
     "name": "stdout",
     "output_type": "stream",
     "text": [
      "925:\tlearn: 0.8013765\ttest: 0.7931364\tbest: 0.7933434 (922)\ttotal: 3m 3s\tremaining: 9m 48s\n"
     ]
    },
    {
     "name": "stdout",
     "output_type": "stream",
     "text": [
      "950:\tlearn: 0.8018803\ttest: 0.7934496\tbest: 0.7934497 (949)\ttotal: 3m 8s\tremaining: 9m 43s\n"
     ]
    },
    {
     "name": "stdout",
     "output_type": "stream",
     "text": [
      "975:\tlearn: 0.8022439\ttest: 0.7936275\tbest: 0.7936710 (957)\ttotal: 3m 13s\tremaining: 9m 38s\n"
     ]
    },
    {
     "name": "stdout",
     "output_type": "stream",
     "text": [
      "1000:\tlearn: 0.8029848\ttest: 0.7937115\tbest: 0.7938577 (991)\ttotal: 3m 18s\tremaining: 9m 33s\n"
     ]
    },
    {
     "name": "stdout",
     "output_type": "stream",
     "text": [
      "1025:\tlearn: 0.8033884\ttest: 0.7943329\tbest: 0.7943329 (1025)\ttotal: 3m 23s\tremaining: 9m 28s\n"
     ]
    },
    {
     "name": "stdout",
     "output_type": "stream",
     "text": [
      "1050:\tlearn: 0.8039292\ttest: 0.7941735\tbest: 0.7943777 (1048)\ttotal: 3m 28s\tremaining: 9m 23s\n"
     ]
    },
    {
     "name": "stdout",
     "output_type": "stream",
     "text": [
      "1075:\tlearn: 0.8045017\ttest: 0.7940675\tbest: 0.7943777 (1048)\ttotal: 3m 33s\tremaining: 9m 19s\n"
     ]
    },
    {
     "name": "stdout",
     "output_type": "stream",
     "text": [
      "1100:\tlearn: 0.8051829\ttest: 0.7944511\tbest: 0.7945742 (1094)\ttotal: 3m 38s\tremaining: 9m 14s\n"
     ]
    },
    {
     "name": "stdout",
     "output_type": "stream",
     "text": [
      "1125:\tlearn: 0.8053667\ttest: 0.7948151\tbest: 0.7948151 (1125)\ttotal: 3m 42s\tremaining: 9m 9s\n"
     ]
    },
    {
     "name": "stdout",
     "output_type": "stream",
     "text": [
      "1150:\tlearn: 0.8058741\ttest: 0.7945838\tbest: 0.7948151 (1125)\ttotal: 3m 47s\tremaining: 9m 4s\n"
     ]
    },
    {
     "name": "stdout",
     "output_type": "stream",
     "text": [
      "1175:\tlearn: 0.8063238\ttest: 0.7947247\tbest: 0.7949323 (1171)\ttotal: 3m 52s\tremaining: 8m 59s\n"
     ]
    },
    {
     "name": "stdout",
     "output_type": "stream",
     "text": [
      "1200:\tlearn: 0.8069575\ttest: 0.7949830\tbest: 0.7949830 (1200)\ttotal: 3m 57s\tremaining: 8m 54s\n"
     ]
    },
    {
     "name": "stdout",
     "output_type": "stream",
     "text": [
      "1225:\tlearn: 0.8072794\ttest: 0.7946745\tbest: 0.7949830 (1200)\ttotal: 4m 2s\tremaining: 8m 49s\n"
     ]
    },
    {
     "name": "stdout",
     "output_type": "stream",
     "text": [
      "1250:\tlearn: 0.8078355\ttest: 0.7947646\tbest: 0.7949830 (1200)\ttotal: 4m 7s\tremaining: 8m 44s\n"
     ]
    },
    {
     "name": "stdout",
     "output_type": "stream",
     "text": [
      "1275:\tlearn: 0.8083279\ttest: 0.7945689\tbest: 0.7949830 (1200)\ttotal: 4m 12s\tremaining: 8m 39s\n"
     ]
    },
    {
     "name": "stdout",
     "output_type": "stream",
     "text": [
      "1300:\tlearn: 0.8087403\ttest: 0.7950620\tbest: 0.7950620 (1300)\ttotal: 4m 17s\tremaining: 8m 34s\n"
     ]
    },
    {
     "name": "stdout",
     "output_type": "stream",
     "text": [
      "1325:\tlearn: 0.8095307\ttest: 0.7950272\tbest: 0.7951095 (1303)\ttotal: 4m 22s\tremaining: 8m 29s\n"
     ]
    },
    {
     "name": "stdout",
     "output_type": "stream",
     "text": [
      "1350:\tlearn: 0.8099824\ttest: 0.7949777\tbest: 0.7951804 (1332)\ttotal: 4m 27s\tremaining: 8m 24s\n"
     ]
    },
    {
     "name": "stdout",
     "output_type": "stream",
     "text": [
      "1375:\tlearn: 0.8104379\ttest: 0.7952776\tbest: 0.7952776 (1375)\ttotal: 4m 32s\tremaining: 8m 19s\n"
     ]
    },
    {
     "name": "stdout",
     "output_type": "stream",
     "text": [
      "1400:\tlearn: 0.8110716\ttest: 0.7952311\tbest: 0.7954751 (1386)\ttotal: 4m 37s\tremaining: 8m 14s\n"
     ]
    },
    {
     "name": "stdout",
     "output_type": "stream",
     "text": [
      "1425:\tlearn: 0.8116327\ttest: 0.7952045\tbest: 0.7955147 (1420)\ttotal: 4m 42s\tremaining: 8m 9s\n"
     ]
    },
    {
     "name": "stdout",
     "output_type": "stream",
     "text": [
      "1450:\tlearn: 0.8121887\ttest: 0.7955799\tbest: 0.7956209 (1449)\ttotal: 4m 47s\tremaining: 8m 4s\n"
     ]
    },
    {
     "name": "stdout",
     "output_type": "stream",
     "text": [
      "1475:\tlearn: 0.8126684\ttest: 0.7956557\tbest: 0.7958359 (1461)\ttotal: 4m 52s\tremaining: 7m 59s\n"
     ]
    },
    {
     "name": "stdout",
     "output_type": "stream",
     "text": [
      "1500:\tlearn: 0.8131056\ttest: 0.7960910\tbest: 0.7962570 (1491)\ttotal: 4m 57s\tremaining: 7m 55s\n"
     ]
    },
    {
     "name": "stdout",
     "output_type": "stream",
     "text": [
      "1525:\tlearn: 0.8135003\ttest: 0.7959254\tbest: 0.7962570 (1491)\ttotal: 5m 2s\tremaining: 7m 50s\n"
     ]
    },
    {
     "name": "stdout",
     "output_type": "stream",
     "text": [
      "1550:\tlearn: 0.8137352\ttest: 0.7958563\tbest: 0.7962570 (1491)\ttotal: 5m 7s\tremaining: 7m 45s\n"
     ]
    },
    {
     "name": "stdout",
     "output_type": "stream",
     "text": [
      "1575:\tlearn: 0.8140280\ttest: 0.7961210\tbest: 0.7963328 (1571)\ttotal: 5m 12s\tremaining: 7m 40s\n"
     ]
    },
    {
     "name": "stdout",
     "output_type": "stream",
     "text": [
      "1600:\tlearn: 0.8145070\ttest: 0.7959660\tbest: 0.7963328 (1571)\ttotal: 5m 17s\tremaining: 7m 35s\n"
     ]
    },
    {
     "name": "stdout",
     "output_type": "stream",
     "text": [
      "1625:\tlearn: 0.8149995\ttest: 0.7960846\tbest: 0.7963328 (1571)\ttotal: 5m 22s\tremaining: 7m 30s\n"
     ]
    },
    {
     "name": "stdout",
     "output_type": "stream",
     "text": [
      "1650:\tlearn: 0.8154943\ttest: 0.7962452\tbest: 0.7965172 (1644)\ttotal: 5m 26s\tremaining: 7m 25s\n"
     ]
    },
    {
     "name": "stdout",
     "output_type": "stream",
     "text": [
      "1675:\tlearn: 0.8159050\ttest: 0.7963099\tbest: 0.7965172 (1644)\ttotal: 5m 31s\tremaining: 7m 20s\n"
     ]
    },
    {
     "name": "stdout",
     "output_type": "stream",
     "text": [
      "1700:\tlearn: 0.8163266\ttest: 0.7964920\tbest: 0.7965172 (1644)\ttotal: 5m 36s\tremaining: 7m 15s\n"
     ]
    },
    {
     "name": "stdout",
     "output_type": "stream",
     "text": [
      "1725:\tlearn: 0.8166211\ttest: 0.7966917\tbest: 0.7966917 (1725)\ttotal: 5m 41s\tremaining: 7m 10s\n"
     ]
    },
    {
     "name": "stdout",
     "output_type": "stream",
     "text": [
      "1750:\tlearn: 0.8169337\ttest: 0.7965615\tbest: 0.7968243 (1734)\ttotal: 5m 46s\tremaining: 7m 5s\n"
     ]
    },
    {
     "name": "stdout",
     "output_type": "stream",
     "text": [
      "1775:\tlearn: 0.8173464\ttest: 0.7962399\tbest: 0.7968243 (1734)\ttotal: 5m 51s\tremaining: 7m\n"
     ]
    },
    {
     "name": "stdout",
     "output_type": "stream",
     "text": [
      "1800:\tlearn: 0.8178087\ttest: 0.7961515\tbest: 0.7968243 (1734)\ttotal: 5m 56s\tremaining: 6m 55s\n"
     ]
    },
    {
     "name": "stdout",
     "output_type": "stream",
     "text": [
      "1825:\tlearn: 0.8184087\ttest: 0.7964823\tbest: 0.7968243 (1734)\ttotal: 6m 1s\tremaining: 6m 50s\n"
     ]
    },
    {
     "name": "stdout",
     "output_type": "stream",
     "text": [
      "1850:\tlearn: 0.8186666\ttest: 0.7962402\tbest: 0.7968243 (1734)\ttotal: 6m 6s\tremaining: 6m 45s\n"
     ]
    },
    {
     "name": "stdout",
     "output_type": "stream",
     "text": [
      "1875:\tlearn: 0.8190658\ttest: 0.7964991\tbest: 0.7968243 (1734)\ttotal: 6m 11s\tremaining: 6m 40s\n"
     ]
    },
    {
     "name": "stdout",
     "output_type": "stream",
     "text": [
      "1900:\tlearn: 0.8196911\ttest: 0.7966184\tbest: 0.7968243 (1734)\ttotal: 6m 16s\tremaining: 6m 35s\n"
     ]
    },
    {
     "name": "stdout",
     "output_type": "stream",
     "text": [
      "1925:\tlearn: 0.8201348\ttest: 0.7965203\tbest: 0.7968243 (1734)\ttotal: 6m 21s\tremaining: 6m 30s\n"
     ]
    },
    {
     "name": "stdout",
     "output_type": "stream",
     "text": [
      "1950:\tlearn: 0.8206448\ttest: 0.7963626\tbest: 0.7968243 (1734)\ttotal: 6m 26s\tremaining: 6m 25s\n"
     ]
    },
    {
     "name": "stdout",
     "output_type": "stream",
     "text": [
      "1975:\tlearn: 0.8208383\ttest: 0.7962270\tbest: 0.7968243 (1734)\ttotal: 6m 31s\tremaining: 6m 20s\n"
     ]
    },
    {
     "name": "stdout",
     "output_type": "stream",
     "text": [
      "2000:\tlearn: 0.8212757\ttest: 0.7960711\tbest: 0.7968243 (1734)\ttotal: 6m 36s\tremaining: 6m 15s\n"
     ]
    },
    {
     "name": "stdout",
     "output_type": "stream",
     "text": [
      "2025:\tlearn: 0.8214984\ttest: 0.7959973\tbest: 0.7968243 (1734)\ttotal: 6m 40s\tremaining: 6m 10s\n"
     ]
    },
    {
     "name": "stdout",
     "output_type": "stream",
     "text": [
      "2050:\tlearn: 0.8219233\ttest: 0.7963487\tbest: 0.7968243 (1734)\ttotal: 6m 45s\tremaining: 6m 5s\n"
     ]
    },
    {
     "name": "stdout",
     "output_type": "stream",
     "text": [
      "2075:\tlearn: 0.8225307\ttest: 0.7959582\tbest: 0.7968243 (1734)\ttotal: 6m 50s\tremaining: 6m\n"
     ]
    },
    {
     "name": "stdout",
     "output_type": "stream",
     "text": [
      "2100:\tlearn: 0.8229430\ttest: 0.7963468\tbest: 0.7968243 (1734)\ttotal: 6m 55s\tremaining: 5m 56s\n"
     ]
    },
    {
     "name": "stdout",
     "output_type": "stream",
     "text": [
      "2125:\tlearn: 0.8233935\ttest: 0.7960152\tbest: 0.7968243 (1734)\ttotal: 7m\tremaining: 5m 51s\n"
     ]
    },
    {
     "name": "stdout",
     "output_type": "stream",
     "text": [
      "2150:\tlearn: 0.8240215\ttest: 0.7959631\tbest: 0.7968243 (1734)\ttotal: 7m 5s\tremaining: 5m 46s\n"
     ]
    },
    {
     "name": "stdout",
     "output_type": "stream",
     "text": [
      "2175:\tlearn: 0.8242065\ttest: 0.7964060\tbest: 0.7968243 (1734)\ttotal: 7m 10s\tremaining: 5m 41s\n"
     ]
    },
    {
     "name": "stdout",
     "output_type": "stream",
     "text": [
      "2200:\tlearn: 0.8245710\ttest: 0.7966247\tbest: 0.7968243 (1734)\ttotal: 7m 15s\tremaining: 5m 36s\n"
     ]
    },
    {
     "name": "stdout",
     "output_type": "stream",
     "text": [
      "2225:\tlearn: 0.8250476\ttest: 0.7965078\tbest: 0.7968243 (1734)\ttotal: 7m 20s\tremaining: 5m 31s\n"
     ]
    },
    {
     "name": "stdout",
     "output_type": "stream",
     "text": [
      "2250:\tlearn: 0.8255901\ttest: 0.7964113\tbest: 0.7968243 (1734)\ttotal: 7m 25s\tremaining: 5m 26s\n"
     ]
    },
    {
     "name": "stdout",
     "output_type": "stream",
     "text": [
      "2275:\tlearn: 0.8259910\ttest: 0.7966901\tbest: 0.7968243 (1734)\ttotal: 7m 30s\tremaining: 5m 21s\n"
     ]
    },
    {
     "name": "stdout",
     "output_type": "stream",
     "text": [
      "2300:\tlearn: 0.8263682\ttest: 0.7964238\tbest: 0.7968621 (2285)\ttotal: 7m 35s\tremaining: 5m 16s\n"
     ]
    },
    {
     "name": "stdout",
     "output_type": "stream",
     "text": [
      "2325:\tlearn: 0.8264677\ttest: 0.7961157\tbest: 0.7968621 (2285)\ttotal: 7m 40s\tremaining: 5m 11s\n"
     ]
    },
    {
     "name": "stdout",
     "output_type": "stream",
     "text": [
      "2350:\tlearn: 0.8269393\ttest: 0.7960127\tbest: 0.7968621 (2285)\ttotal: 7m 45s\tremaining: 5m 6s\n"
     ]
    },
    {
     "name": "stdout",
     "output_type": "stream",
     "text": [
      "2375:\tlearn: 0.8271175\ttest: 0.7964036\tbest: 0.7968621 (2285)\ttotal: 7m 50s\tremaining: 5m 1s\n"
     ]
    },
    {
     "name": "stdout",
     "output_type": "stream",
     "text": [
      "2400:\tlearn: 0.8275663\ttest: 0.7965599\tbest: 0.7968621 (2285)\ttotal: 7m 55s\tremaining: 4m 56s\n"
     ]
    },
    {
     "name": "stdout",
     "output_type": "stream",
     "text": [
      "2425:\tlearn: 0.8279066\ttest: 0.7965411\tbest: 0.7968621 (2285)\ttotal: 8m\tremaining: 4m 51s\n"
     ]
    },
    {
     "name": "stdout",
     "output_type": "stream",
     "text": [
      "2450:\tlearn: 0.8282892\ttest: 0.7968000\tbest: 0.7969051 (2447)\ttotal: 8m 4s\tremaining: 4m 46s\n"
     ]
    },
    {
     "name": "stdout",
     "output_type": "stream",
     "text": [
      "2475:\tlearn: 0.8287593\ttest: 0.7964734\tbest: 0.7969051 (2447)\ttotal: 8m 10s\tremaining: 4m 41s\n"
     ]
    },
    {
     "name": "stdout",
     "output_type": "stream",
     "text": [
      "2500:\tlearn: 0.8293412\ttest: 0.7964145\tbest: 0.7969051 (2447)\ttotal: 8m 14s\tremaining: 4m 36s\n"
     ]
    },
    {
     "name": "stdout",
     "output_type": "stream",
     "text": [
      "2525:\tlearn: 0.8297655\ttest: 0.7960879\tbest: 0.7969051 (2447)\ttotal: 8m 19s\tremaining: 4m 31s\n"
     ]
    },
    {
     "name": "stdout",
     "output_type": "stream",
     "text": [
      "2550:\tlearn: 0.8301907\ttest: 0.7959489\tbest: 0.7969051 (2447)\ttotal: 8m 24s\tremaining: 4m 26s\n"
     ]
    },
    {
     "name": "stdout",
     "output_type": "stream",
     "text": [
      "2575:\tlearn: 0.8305691\ttest: 0.7961846\tbest: 0.7969051 (2447)\ttotal: 8m 29s\tremaining: 4m 21s\n"
     ]
    },
    {
     "name": "stdout",
     "output_type": "stream",
     "text": [
      "2600:\tlearn: 0.8308555\ttest: 0.7962772\tbest: 0.7969051 (2447)\ttotal: 8m 34s\tremaining: 4m 17s\n"
     ]
    },
    {
     "name": "stdout",
     "output_type": "stream",
     "text": [
      "2625:\tlearn: 0.8313247\ttest: 0.7964937\tbest: 0.7969051 (2447)\ttotal: 8m 39s\tremaining: 4m 12s\n"
     ]
    },
    {
     "name": "stdout",
     "output_type": "stream",
     "text": [
      "2650:\tlearn: 0.8318913\ttest: 0.7962970\tbest: 0.7969051 (2447)\ttotal: 8m 44s\tremaining: 4m 7s\n"
     ]
    },
    {
     "name": "stdout",
     "output_type": "stream",
     "text": [
      "2675:\tlearn: 0.8322113\ttest: 0.7964490\tbest: 0.7969051 (2447)\ttotal: 8m 49s\tremaining: 4m 2s\n"
     ]
    },
    {
     "name": "stdout",
     "output_type": "stream",
     "text": [
      "2700:\tlearn: 0.8326572\ttest: 0.7963547\tbest: 0.7969051 (2447)\ttotal: 8m 54s\tremaining: 3m 57s\n"
     ]
    },
    {
     "name": "stdout",
     "output_type": "stream",
     "text": [
      "2725:\tlearn: 0.8330403\ttest: 0.7961561\tbest: 0.7969051 (2447)\ttotal: 8m 59s\tremaining: 3m 52s\n"
     ]
    },
    {
     "name": "stdout",
     "output_type": "stream",
     "text": [
      "2750:\tlearn: 0.8333578\ttest: 0.7959511\tbest: 0.7969051 (2447)\ttotal: 9m 4s\tremaining: 3m 47s\n"
     ]
    },
    {
     "name": "stdout",
     "output_type": "stream",
     "text": [
      "2775:\tlearn: 0.8339340\ttest: 0.7957523\tbest: 0.7969051 (2447)\ttotal: 9m 9s\tremaining: 3m 42s\n"
     ]
    },
    {
     "name": "stdout",
     "output_type": "stream",
     "text": [
      "2800:\tlearn: 0.8343494\ttest: 0.7956962\tbest: 0.7969051 (2447)\ttotal: 9m 14s\tremaining: 3m 37s\n"
     ]
    },
    {
     "name": "stdout",
     "output_type": "stream",
     "text": [
      "2825:\tlearn: 0.8347187\ttest: 0.7957668\tbest: 0.7969051 (2447)\ttotal: 9m 19s\tremaining: 3m 32s\n"
     ]
    },
    {
     "name": "stdout",
     "output_type": "stream",
     "text": [
      "2850:\tlearn: 0.8350568\ttest: 0.7957554\tbest: 0.7969051 (2447)\ttotal: 9m 24s\tremaining: 3m 27s\n"
     ]
    },
    {
     "name": "stdout",
     "output_type": "stream",
     "text": [
      "2875:\tlearn: 0.8355230\ttest: 0.7961828\tbest: 0.7969051 (2447)\ttotal: 9m 29s\tremaining: 3m 22s\n"
     ]
    },
    {
     "name": "stdout",
     "output_type": "stream",
     "text": [
      "2900:\tlearn: 0.8358571\ttest: 0.7958806\tbest: 0.7969051 (2447)\ttotal: 9m 34s\tremaining: 3m 17s\n"
     ]
    },
    {
     "name": "stdout",
     "output_type": "stream",
     "text": [
      "2925:\tlearn: 0.8361940\ttest: 0.7961562\tbest: 0.7969051 (2447)\ttotal: 9m 39s\tremaining: 3m 12s\n"
     ]
    },
    {
     "name": "stdout",
     "output_type": "stream",
     "text": [
      "2950:\tlearn: 0.8365754\ttest: 0.7958023\tbest: 0.7969051 (2447)\ttotal: 9m 44s\tremaining: 3m 7s\n"
     ]
    },
    {
     "name": "stdout",
     "output_type": "stream",
     "text": [
      "2975:\tlearn: 0.8369079\ttest: 0.7960388\tbest: 0.7969051 (2447)\ttotal: 9m 49s\tremaining: 3m 2s\n"
     ]
    },
    {
     "name": "stdout",
     "output_type": "stream",
     "text": [
      "3000:\tlearn: 0.8371643\ttest: 0.7962363\tbest: 0.7969051 (2447)\ttotal: 9m 53s\tremaining: 2m 57s\n"
     ]
    },
    {
     "name": "stdout",
     "output_type": "stream",
     "text": [
      "3025:\tlearn: 0.8377447\ttest: 0.7963241\tbest: 0.7969051 (2447)\ttotal: 9m 58s\tremaining: 2m 52s\n"
     ]
    },
    {
     "name": "stdout",
     "output_type": "stream",
     "text": [
      "3050:\tlearn: 0.8380356\ttest: 0.7963269\tbest: 0.7969051 (2447)\ttotal: 10m 3s\tremaining: 2m 48s\n"
     ]
    },
    {
     "name": "stdout",
     "output_type": "stream",
     "text": [
      "3075:\tlearn: 0.8384733\ttest: 0.7964141\tbest: 0.7969051 (2447)\ttotal: 10m 8s\tremaining: 2m 43s\n"
     ]
    },
    {
     "name": "stdout",
     "output_type": "stream",
     "text": [
      "3100:\tlearn: 0.8388756\ttest: 0.7963702\tbest: 0.7969051 (2447)\ttotal: 10m 13s\tremaining: 2m 38s\n"
     ]
    },
    {
     "name": "stdout",
     "output_type": "stream",
     "text": [
      "3125:\tlearn: 0.8392810\ttest: 0.7962672\tbest: 0.7969051 (2447)\ttotal: 10m 18s\tremaining: 2m 33s\n"
     ]
    },
    {
     "name": "stdout",
     "output_type": "stream",
     "text": [
      "3150:\tlearn: 0.8395527\ttest: 0.7967135\tbest: 0.7969051 (2447)\ttotal: 10m 23s\tremaining: 2m 28s\n"
     ]
    },
    {
     "name": "stdout",
     "output_type": "stream",
     "text": [
      "3175:\tlearn: 0.8398864\ttest: 0.7963610\tbest: 0.7969051 (2447)\ttotal: 10m 28s\tremaining: 2m 23s\n"
     ]
    },
    {
     "name": "stdout",
     "output_type": "stream",
     "text": [
      "3200:\tlearn: 0.8402235\ttest: 0.7963449\tbest: 0.7969051 (2447)\ttotal: 10m 33s\tremaining: 2m 18s\n"
     ]
    },
    {
     "name": "stdout",
     "output_type": "stream",
     "text": [
      "3225:\tlearn: 0.8407610\ttest: 0.7967716\tbest: 0.7969051 (2447)\ttotal: 10m 38s\tremaining: 2m 13s\n"
     ]
    },
    {
     "name": "stdout",
     "output_type": "stream",
     "text": [
      "3250:\tlearn: 0.8411229\ttest: 0.7966475\tbest: 0.7969051 (2447)\ttotal: 10m 43s\tremaining: 2m 8s\n"
     ]
    },
    {
     "name": "stdout",
     "output_type": "stream",
     "text": [
      "3275:\tlearn: 0.8415388\ttest: 0.7966499\tbest: 0.7969051 (2447)\ttotal: 10m 48s\tremaining: 2m 3s\n"
     ]
    },
    {
     "name": "stdout",
     "output_type": "stream",
     "text": [
      "3300:\tlearn: 0.8418133\ttest: 0.7970558\tbest: 0.7970564 (3298)\ttotal: 10m 53s\tremaining: 1m 58s\n"
     ]
    },
    {
     "name": "stdout",
     "output_type": "stream",
     "text": [
      "3325:\tlearn: 0.8422738\ttest: 0.7971333\tbest: 0.7972483 (3307)\ttotal: 10m 58s\tremaining: 1m 53s\n"
     ]
    },
    {
     "name": "stdout",
     "output_type": "stream",
     "text": [
      "3350:\tlearn: 0.8426195\ttest: 0.7967147\tbest: 0.7972483 (3307)\ttotal: 11m 3s\tremaining: 1m 48s\n"
     ]
    },
    {
     "name": "stdout",
     "output_type": "stream",
     "text": [
      "3375:\tlearn: 0.8430353\ttest: 0.7968875\tbest: 0.7972483 (3307)\ttotal: 11m 8s\tremaining: 1m 43s\n"
     ]
    },
    {
     "name": "stdout",
     "output_type": "stream",
     "text": [
      "3400:\tlearn: 0.8433604\ttest: 0.7969378\tbest: 0.7972483 (3307)\ttotal: 11m 13s\tremaining: 1m 38s\n"
     ]
    },
    {
     "name": "stdout",
     "output_type": "stream",
     "text": [
      "3425:\tlearn: 0.8436972\ttest: 0.7969215\tbest: 0.7972483 (3307)\ttotal: 11m 18s\tremaining: 1m 33s\n"
     ]
    },
    {
     "name": "stdout",
     "output_type": "stream",
     "text": [
      "3450:\tlearn: 0.8439092\ttest: 0.7970495\tbest: 0.7972483 (3307)\ttotal: 11m 23s\tremaining: 1m 28s\n"
     ]
    },
    {
     "name": "stdout",
     "output_type": "stream",
     "text": [
      "3475:\tlearn: 0.8440688\ttest: 0.7966529\tbest: 0.7972483 (3307)\ttotal: 11m 27s\tremaining: 1m 23s\n"
     ]
    },
    {
     "name": "stdout",
     "output_type": "stream",
     "text": [
      "3500:\tlearn: 0.8445824\ttest: 0.7969266\tbest: 0.7972483 (3307)\ttotal: 11m 32s\tremaining: 1m 18s\n"
     ]
    },
    {
     "name": "stdout",
     "output_type": "stream",
     "text": [
      "3525:\tlearn: 0.8448811\ttest: 0.7969712\tbest: 0.7972483 (3307)\ttotal: 11m 37s\tremaining: 1m 14s\n"
     ]
    },
    {
     "name": "stdout",
     "output_type": "stream",
     "text": [
      "3550:\tlearn: 0.8452152\ttest: 0.7969948\tbest: 0.7972483 (3307)\ttotal: 11m 42s\tremaining: 1m 9s\n"
     ]
    },
    {
     "name": "stdout",
     "output_type": "stream",
     "text": [
      "3575:\tlearn: 0.8456450\ttest: 0.7970813\tbest: 0.7972483 (3307)\ttotal: 11m 47s\tremaining: 1m 4s\n"
     ]
    },
    {
     "name": "stdout",
     "output_type": "stream",
     "text": [
      "3600:\tlearn: 0.8460015\ttest: 0.7969185\tbest: 0.7972511 (3578)\ttotal: 11m 52s\tremaining: 59.2s\n"
     ]
    },
    {
     "name": "stdout",
     "output_type": "stream",
     "text": [
      "3625:\tlearn: 0.8463802\ttest: 0.7970856\tbest: 0.7972511 (3578)\ttotal: 11m 57s\tremaining: 54.2s\n"
     ]
    },
    {
     "name": "stdout",
     "output_type": "stream",
     "text": [
      "3650:\tlearn: 0.8467459\ttest: 0.7971978\tbest: 0.7973187 (3635)\ttotal: 12m 2s\tremaining: 49.3s\n"
     ]
    },
    {
     "name": "stdout",
     "output_type": "stream",
     "text": [
      "3675:\tlearn: 0.8472883\ttest: 0.7972850\tbest: 0.7975568 (3659)\ttotal: 12m 7s\tremaining: 44.3s\n"
     ]
    },
    {
     "name": "stdout",
     "output_type": "stream",
     "text": [
      "3700:\tlearn: 0.8474712\ttest: 0.7971764\tbest: 0.7975568 (3659)\ttotal: 12m 12s\tremaining: 39.4s\n"
     ]
    },
    {
     "name": "stdout",
     "output_type": "stream",
     "text": [
      "3725:\tlearn: 0.8479642\ttest: 0.7973259\tbest: 0.7975568 (3659)\ttotal: 12m 17s\tremaining: 34.4s\n"
     ]
    },
    {
     "name": "stdout",
     "output_type": "stream",
     "text": [
      "3750:\tlearn: 0.8481537\ttest: 0.7977683\tbest: 0.7978733 (3744)\ttotal: 12m 22s\tremaining: 29.5s\n"
     ]
    },
    {
     "name": "stdout",
     "output_type": "stream",
     "text": [
      "3775:\tlearn: 0.8486185\ttest: 0.7977716\tbest: 0.7978733 (3744)\ttotal: 12m 27s\tremaining: 24.5s\n"
     ]
    },
    {
     "name": "stdout",
     "output_type": "stream",
     "text": [
      "3800:\tlearn: 0.8490810\ttest: 0.7980255\tbest: 0.7980275 (3793)\ttotal: 12m 32s\tremaining: 19.6s\n"
     ]
    },
    {
     "name": "stdout",
     "output_type": "stream",
     "text": [
      "3825:\tlearn: 0.8492914\ttest: 0.7977551\tbest: 0.7980681 (3807)\ttotal: 12m 37s\tremaining: 14.6s\n"
     ]
    },
    {
     "name": "stdout",
     "output_type": "stream",
     "text": [
      "3850:\tlearn: 0.8499026\ttest: 0.7975421\tbest: 0.7980681 (3807)\ttotal: 12m 42s\tremaining: 9.7s\n"
     ]
    },
    {
     "name": "stdout",
     "output_type": "stream",
     "text": [
      "3875:\tlearn: 0.8503291\ttest: 0.7977321\tbest: 0.7980681 (3807)\ttotal: 12m 47s\tremaining: 4.75s\n"
     ]
    },
    {
     "name": "stdout",
     "output_type": "stream",
     "text": [
      "3899:\tlearn: 0.8505639\ttest: 0.7972915\tbest: 0.7980681 (3807)\ttotal: 12m 51s\tremaining: 0us\n",
      "\n",
      "bestTest = 0.7980680754\n",
      "bestIteration = 3807\n",
      "\n"
     ]
    },
    {
     "name": "stdout",
     "output_type": "stream",
     "text": [
      "######################################## training model 4/5 ########################################\n"
     ]
    },
    {
     "name": "stdout",
     "output_type": "stream",
     "text": [
      "0:\tlearn: 0.5545591\ttest: 0.5654312\tbest: 0.5654312 (0)\ttotal: 509ms\tremaining: 33m 5s\n"
     ]
    },
    {
     "name": "stdout",
     "output_type": "stream",
     "text": [
      "25:\tlearn: 0.7272666\ttest: 0.7320764\tbest: 0.7320764 (25)\ttotal: 5.27s\tremaining: 13m 5s\n"
     ]
    },
    {
     "name": "stdout",
     "output_type": "stream",
     "text": [
      "50:\tlearn: 0.7476624\ttest: 0.7544908\tbest: 0.7544908 (50)\ttotal: 10.2s\tremaining: 12m 48s\n"
     ]
    },
    {
     "name": "stdout",
     "output_type": "stream",
     "text": [
      "75:\tlearn: 0.7561329\ttest: 0.7620058\tbest: 0.7620058 (75)\ttotal: 15.1s\tremaining: 12m 37s\n"
     ]
    },
    {
     "name": "stdout",
     "output_type": "stream",
     "text": [
      "100:\tlearn: 0.7606509\ttest: 0.7663584\tbest: 0.7663584 (100)\ttotal: 20s\tremaining: 12m 32s\n"
     ]
    },
    {
     "name": "stdout",
     "output_type": "stream",
     "text": [
      "125:\tlearn: 0.7641024\ttest: 0.7696763\tbest: 0.7700151 (124)\ttotal: 25s\tremaining: 12m 28s\n"
     ]
    },
    {
     "name": "stdout",
     "output_type": "stream",
     "text": [
      "150:\tlearn: 0.7662604\ttest: 0.7721750\tbest: 0.7721750 (150)\ttotal: 30s\tremaining: 12m 24s\n"
     ]
    },
    {
     "name": "stdout",
     "output_type": "stream",
     "text": [
      "175:\tlearn: 0.7682209\ttest: 0.7736930\tbest: 0.7736930 (175)\ttotal: 34.9s\tremaining: 12m 18s\n"
     ]
    },
    {
     "name": "stdout",
     "output_type": "stream",
     "text": [
      "200:\tlearn: 0.7699411\ttest: 0.7758651\tbest: 0.7759526 (199)\ttotal: 39.9s\tremaining: 12m 14s\n"
     ]
    },
    {
     "name": "stdout",
     "output_type": "stream",
     "text": [
      "225:\tlearn: 0.7710498\ttest: 0.7772358\tbest: 0.7774733 (222)\ttotal: 44.7s\tremaining: 12m 6s\n"
     ]
    },
    {
     "name": "stdout",
     "output_type": "stream",
     "text": [
      "250:\tlearn: 0.7733455\ttest: 0.7792921\tbest: 0.7792921 (250)\ttotal: 49.7s\tremaining: 12m 2s\n"
     ]
    },
    {
     "name": "stdout",
     "output_type": "stream",
     "text": [
      "275:\tlearn: 0.7750905\ttest: 0.7812051\tbest: 0.7812051 (275)\ttotal: 54.6s\tremaining: 11m 57s\n"
     ]
    },
    {
     "name": "stdout",
     "output_type": "stream",
     "text": [
      "300:\tlearn: 0.7781567\ttest: 0.7837040\tbest: 0.7837040 (300)\ttotal: 59.6s\tremaining: 11m 52s\n"
     ]
    },
    {
     "name": "stdout",
     "output_type": "stream",
     "text": [
      "325:\tlearn: 0.7807657\ttest: 0.7854758\tbest: 0.7854758 (325)\ttotal: 1m 4s\tremaining: 11m 47s\n"
     ]
    },
    {
     "name": "stdout",
     "output_type": "stream",
     "text": [
      "350:\tlearn: 0.7825732\ttest: 0.7868879\tbest: 0.7868879 (350)\ttotal: 1m 9s\tremaining: 11m 42s\n"
     ]
    },
    {
     "name": "stdout",
     "output_type": "stream",
     "text": [
      "375:\tlearn: 0.7838135\ttest: 0.7886988\tbest: 0.7886988 (375)\ttotal: 1m 14s\tremaining: 11m 36s\n"
     ]
    },
    {
     "name": "stdout",
     "output_type": "stream",
     "text": [
      "400:\tlearn: 0.7850965\ttest: 0.7892769\tbest: 0.7893739 (397)\ttotal: 1m 19s\tremaining: 11m 32s\n"
     ]
    },
    {
     "name": "stdout",
     "output_type": "stream",
     "text": [
      "425:\tlearn: 0.7865792\ttest: 0.7897072\tbest: 0.7899546 (424)\ttotal: 1m 24s\tremaining: 11m 27s\n"
     ]
    },
    {
     "name": "stdout",
     "output_type": "stream",
     "text": [
      "450:\tlearn: 0.7875442\ttest: 0.7902132\tbest: 0.7903688 (446)\ttotal: 1m 29s\tremaining: 11m 22s\n"
     ]
    },
    {
     "name": "stdout",
     "output_type": "stream",
     "text": [
      "475:\tlearn: 0.7886688\ttest: 0.7912554\tbest: 0.7913606 (463)\ttotal: 1m 34s\tremaining: 11m 17s\n"
     ]
    },
    {
     "name": "stdout",
     "output_type": "stream",
     "text": [
      "500:\tlearn: 0.7895612\ttest: 0.7914970\tbest: 0.7917081 (493)\ttotal: 1m 39s\tremaining: 11m 12s\n"
     ]
    },
    {
     "name": "stdout",
     "output_type": "stream",
     "text": [
      "525:\tlearn: 0.7902690\ttest: 0.7924359\tbest: 0.7925605 (521)\ttotal: 1m 44s\tremaining: 11m 7s\n"
     ]
    },
    {
     "name": "stdout",
     "output_type": "stream",
     "text": [
      "550:\tlearn: 0.7909943\ttest: 0.7924168\tbest: 0.7926228 (544)\ttotal: 1m 49s\tremaining: 11m 2s\n"
     ]
    },
    {
     "name": "stdout",
     "output_type": "stream",
     "text": [
      "575:\tlearn: 0.7918078\ttest: 0.7920184\tbest: 0.7926228 (544)\ttotal: 1m 53s\tremaining: 10m 57s\n"
     ]
    },
    {
     "name": "stdout",
     "output_type": "stream",
     "text": [
      "600:\tlearn: 0.7925722\ttest: 0.7922642\tbest: 0.7926228 (544)\ttotal: 1m 58s\tremaining: 10m 52s\n"
     ]
    },
    {
     "name": "stdout",
     "output_type": "stream",
     "text": [
      "625:\tlearn: 0.7933123\ttest: 0.7928775\tbest: 0.7930223 (624)\ttotal: 2m 3s\tremaining: 10m 47s\n"
     ]
    },
    {
     "name": "stdout",
     "output_type": "stream",
     "text": [
      "650:\tlearn: 0.7937256\ttest: 0.7933856\tbest: 0.7935090 (649)\ttotal: 2m 8s\tremaining: 10m 42s\n"
     ]
    },
    {
     "name": "stdout",
     "output_type": "stream",
     "text": [
      "675:\tlearn: 0.7946187\ttest: 0.7932649\tbest: 0.7935090 (649)\ttotal: 2m 13s\tremaining: 10m 38s\n"
     ]
    },
    {
     "name": "stdout",
     "output_type": "stream",
     "text": [
      "700:\tlearn: 0.7952261\ttest: 0.7930288\tbest: 0.7935588 (695)\ttotal: 2m 18s\tremaining: 10m 32s\n"
     ]
    },
    {
     "name": "stdout",
     "output_type": "stream",
     "text": [
      "725:\tlearn: 0.7957502\ttest: 0.7936917\tbest: 0.7940018 (723)\ttotal: 2m 23s\tremaining: 10m 27s\n"
     ]
    },
    {
     "name": "stdout",
     "output_type": "stream",
     "text": [
      "750:\tlearn: 0.7965191\ttest: 0.7940827\tbest: 0.7942141 (735)\ttotal: 2m 28s\tremaining: 10m 22s\n"
     ]
    },
    {
     "name": "stdout",
     "output_type": "stream",
     "text": [
      "775:\tlearn: 0.7969768\ttest: 0.7943380\tbest: 0.7944396 (763)\ttotal: 2m 33s\tremaining: 10m 17s\n"
     ]
    },
    {
     "name": "stdout",
     "output_type": "stream",
     "text": [
      "800:\tlearn: 0.7977485\ttest: 0.7946405\tbest: 0.7947739 (796)\ttotal: 2m 38s\tremaining: 10m 13s\n"
     ]
    },
    {
     "name": "stdout",
     "output_type": "stream",
     "text": [
      "825:\tlearn: 0.7984569\ttest: 0.7944752\tbest: 0.7950225 (802)\ttotal: 2m 43s\tremaining: 10m 8s\n"
     ]
    },
    {
     "name": "stdout",
     "output_type": "stream",
     "text": [
      "850:\tlearn: 0.7986802\ttest: 0.7949579\tbest: 0.7953034 (844)\ttotal: 2m 48s\tremaining: 10m 3s\n"
     ]
    },
    {
     "name": "stdout",
     "output_type": "stream",
     "text": [
      "875:\tlearn: 0.7993824\ttest: 0.7951294\tbest: 0.7954641 (863)\ttotal: 2m 53s\tremaining: 9m 58s\n"
     ]
    },
    {
     "name": "stdout",
     "output_type": "stream",
     "text": [
      "900:\tlearn: 0.7999426\ttest: 0.7950768\tbest: 0.7954641 (863)\ttotal: 2m 58s\tremaining: 9m 53s\n"
     ]
    },
    {
     "name": "stdout",
     "output_type": "stream",
     "text": [
      "925:\tlearn: 0.8005946\ttest: 0.7953228\tbest: 0.7954641 (863)\ttotal: 3m 3s\tremaining: 9m 48s\n"
     ]
    },
    {
     "name": "stdout",
     "output_type": "stream",
     "text": [
      "950:\tlearn: 0.8013527\ttest: 0.7957198\tbest: 0.7959429 (944)\ttotal: 3m 8s\tremaining: 9m 43s\n"
     ]
    },
    {
     "name": "stdout",
     "output_type": "stream",
     "text": [
      "975:\tlearn: 0.8017451\ttest: 0.7958208\tbest: 0.7961507 (971)\ttotal: 3m 13s\tremaining: 9m 38s\n"
     ]
    },
    {
     "name": "stdout",
     "output_type": "stream",
     "text": [
      "1000:\tlearn: 0.8022794\ttest: 0.7959859\tbest: 0.7961605 (991)\ttotal: 3m 18s\tremaining: 9m 33s\n"
     ]
    },
    {
     "name": "stdout",
     "output_type": "stream",
     "text": [
      "1025:\tlearn: 0.8027712\ttest: 0.7962943\tbest: 0.7964055 (1010)\ttotal: 3m 23s\tremaining: 9m 28s\n"
     ]
    },
    {
     "name": "stdout",
     "output_type": "stream",
     "text": [
      "1050:\tlearn: 0.8033578\ttest: 0.7965015\tbest: 0.7965806 (1035)\ttotal: 3m 28s\tremaining: 9m 23s\n"
     ]
    },
    {
     "name": "stdout",
     "output_type": "stream",
     "text": [
      "1075:\tlearn: 0.8039178\ttest: 0.7968681\tbest: 0.7968681 (1075)\ttotal: 3m 32s\tremaining: 9m 18s\n"
     ]
    },
    {
     "name": "stdout",
     "output_type": "stream",
     "text": [
      "1100:\tlearn: 0.8042538\ttest: 0.7965140\tbest: 0.7968681 (1075)\ttotal: 3m 37s\tremaining: 9m 14s\n"
     ]
    },
    {
     "name": "stdout",
     "output_type": "stream",
     "text": [
      "1125:\tlearn: 0.8048120\ttest: 0.7965030\tbest: 0.7968681 (1075)\ttotal: 3m 42s\tremaining: 9m 9s\n"
     ]
    },
    {
     "name": "stdout",
     "output_type": "stream",
     "text": [
      "1150:\tlearn: 0.8052917\ttest: 0.7967132\tbest: 0.7970196 (1138)\ttotal: 3m 47s\tremaining: 9m 3s\n"
     ]
    },
    {
     "name": "stdout",
     "output_type": "stream",
     "text": [
      "1175:\tlearn: 0.8058207\ttest: 0.7966116\tbest: 0.7970196 (1138)\ttotal: 3m 52s\tremaining: 8m 59s\n"
     ]
    },
    {
     "name": "stdout",
     "output_type": "stream",
     "text": [
      "1200:\tlearn: 0.8064981\ttest: 0.7963981\tbest: 0.7970196 (1138)\ttotal: 3m 57s\tremaining: 8m 54s\n"
     ]
    },
    {
     "name": "stdout",
     "output_type": "stream",
     "text": [
      "1225:\tlearn: 0.8070608\ttest: 0.7968387\tbest: 0.7970196 (1138)\ttotal: 4m 2s\tremaining: 8m 49s\n"
     ]
    },
    {
     "name": "stdout",
     "output_type": "stream",
     "text": [
      "1250:\tlearn: 0.8076352\ttest: 0.7970712\tbest: 0.7972118 (1236)\ttotal: 4m 7s\tremaining: 8m 44s\n"
     ]
    },
    {
     "name": "stdout",
     "output_type": "stream",
     "text": [
      "1275:\tlearn: 0.8078813\ttest: 0.7972198\tbest: 0.7972198 (1275)\ttotal: 4m 12s\tremaining: 8m 39s\n"
     ]
    },
    {
     "name": "stdout",
     "output_type": "stream",
     "text": [
      "1300:\tlearn: 0.8084644\ttest: 0.7972463\tbest: 0.7973976 (1283)\ttotal: 4m 17s\tremaining: 8m 34s\n"
     ]
    },
    {
     "name": "stdout",
     "output_type": "stream",
     "text": [
      "1325:\tlearn: 0.8090851\ttest: 0.7971566\tbest: 0.7973976 (1283)\ttotal: 4m 22s\tremaining: 8m 29s\n"
     ]
    },
    {
     "name": "stdout",
     "output_type": "stream",
     "text": [
      "1350:\tlearn: 0.8095237\ttest: 0.7979105\tbest: 0.7980138 (1345)\ttotal: 4m 27s\tremaining: 8m 24s\n"
     ]
    },
    {
     "name": "stdout",
     "output_type": "stream",
     "text": [
      "1375:\tlearn: 0.8099842\ttest: 0.7978553\tbest: 0.7980215 (1368)\ttotal: 4m 32s\tremaining: 8m 19s\n"
     ]
    },
    {
     "name": "stdout",
     "output_type": "stream",
     "text": [
      "1400:\tlearn: 0.8103962\ttest: 0.7979418\tbest: 0.7980759 (1384)\ttotal: 4m 37s\tremaining: 8m 14s\n"
     ]
    },
    {
     "name": "stdout",
     "output_type": "stream",
     "text": [
      "1425:\tlearn: 0.8109391\ttest: 0.7981239\tbest: 0.7981239 (1425)\ttotal: 4m 42s\tremaining: 8m 9s\n"
     ]
    },
    {
     "name": "stdout",
     "output_type": "stream",
     "text": [
      "1450:\tlearn: 0.8111458\ttest: 0.7983717\tbest: 0.7984125 (1447)\ttotal: 4m 46s\tremaining: 8m 4s\n"
     ]
    },
    {
     "name": "stdout",
     "output_type": "stream",
     "text": [
      "1475:\tlearn: 0.8117184\ttest: 0.7986468\tbest: 0.7987883 (1465)\ttotal: 4m 51s\tremaining: 7m 59s\n"
     ]
    },
    {
     "name": "stdout",
     "output_type": "stream",
     "text": [
      "1500:\tlearn: 0.8121124\ttest: 0.7988101\tbest: 0.7988101 (1500)\ttotal: 4m 56s\tremaining: 7m 54s\n"
     ]
    },
    {
     "name": "stdout",
     "output_type": "stream",
     "text": [
      "1525:\tlearn: 0.8125907\ttest: 0.7989646\tbest: 0.7989646 (1525)\ttotal: 5m 1s\tremaining: 7m 49s\n"
     ]
    },
    {
     "name": "stdout",
     "output_type": "stream",
     "text": [
      "1550:\tlearn: 0.8128525\ttest: 0.7990127\tbest: 0.7992615 (1534)\ttotal: 5m 6s\tremaining: 7m 44s\n"
     ]
    },
    {
     "name": "stdout",
     "output_type": "stream",
     "text": [
      "1575:\tlearn: 0.8131424\ttest: 0.7993445\tbest: 0.7993862 (1574)\ttotal: 5m 11s\tremaining: 7m 39s\n"
     ]
    },
    {
     "name": "stdout",
     "output_type": "stream",
     "text": [
      "1600:\tlearn: 0.8135587\ttest: 0.7993585\tbest: 0.7996188 (1585)\ttotal: 5m 16s\tremaining: 7m 34s\n"
     ]
    },
    {
     "name": "stdout",
     "output_type": "stream",
     "text": [
      "1625:\tlearn: 0.8139486\ttest: 0.7992891\tbest: 0.7996188 (1585)\ttotal: 5m 21s\tremaining: 7m 29s\n"
     ]
    },
    {
     "name": "stdout",
     "output_type": "stream",
     "text": [
      "1650:\tlearn: 0.8143686\ttest: 0.7991740\tbest: 0.7996188 (1585)\ttotal: 5m 26s\tremaining: 7m 24s\n"
     ]
    },
    {
     "name": "stdout",
     "output_type": "stream",
     "text": [
      "1675:\tlearn: 0.8149023\ttest: 0.7992921\tbest: 0.7996495 (1671)\ttotal: 5m 31s\tremaining: 7m 19s\n"
     ]
    },
    {
     "name": "stdout",
     "output_type": "stream",
     "text": [
      "1700:\tlearn: 0.8153656\ttest: 0.7993002\tbest: 0.7996495 (1671)\ttotal: 5m 36s\tremaining: 7m 14s\n"
     ]
    },
    {
     "name": "stdout",
     "output_type": "stream",
     "text": [
      "1725:\tlearn: 0.8158067\ttest: 0.7989342\tbest: 0.7996495 (1671)\ttotal: 5m 41s\tremaining: 7m 9s\n"
     ]
    },
    {
     "name": "stdout",
     "output_type": "stream",
     "text": [
      "1750:\tlearn: 0.8160881\ttest: 0.7992184\tbest: 0.7996495 (1671)\ttotal: 5m 46s\tremaining: 7m 4s\n"
     ]
    },
    {
     "name": "stdout",
     "output_type": "stream",
     "text": [
      "1775:\tlearn: 0.8165739\ttest: 0.7992955\tbest: 0.7996495 (1671)\ttotal: 5m 51s\tremaining: 6m 59s\n"
     ]
    },
    {
     "name": "stdout",
     "output_type": "stream",
     "text": [
      "1800:\tlearn: 0.8170603\ttest: 0.7994129\tbest: 0.7996495 (1671)\ttotal: 5m 56s\tremaining: 6m 54s\n"
     ]
    },
    {
     "name": "stdout",
     "output_type": "stream",
     "text": [
      "1825:\tlearn: 0.8174792\ttest: 0.7991765\tbest: 0.7996495 (1671)\ttotal: 6m\tremaining: 6m 50s\n"
     ]
    },
    {
     "name": "stdout",
     "output_type": "stream",
     "text": [
      "1850:\tlearn: 0.8178651\ttest: 0.7995470\tbest: 0.7996495 (1671)\ttotal: 6m 5s\tremaining: 6m 45s\n"
     ]
    },
    {
     "name": "stdout",
     "output_type": "stream",
     "text": [
      "1875:\tlearn: 0.8181398\ttest: 0.7997297\tbest: 0.7997498 (1873)\ttotal: 6m 10s\tremaining: 6m 40s\n"
     ]
    },
    {
     "name": "stdout",
     "output_type": "stream",
     "text": [
      "1900:\tlearn: 0.8183870\ttest: 0.7994847\tbest: 0.7997552 (1893)\ttotal: 6m 15s\tremaining: 6m 34s\n"
     ]
    },
    {
     "name": "stdout",
     "output_type": "stream",
     "text": [
      "1925:\tlearn: 0.8190449\ttest: 0.7999791\tbest: 0.7999791 (1925)\ttotal: 6m 20s\tremaining: 6m 30s\n"
     ]
    },
    {
     "name": "stdout",
     "output_type": "stream",
     "text": [
      "1950:\tlearn: 0.8193621\ttest: 0.7999889\tbest: 0.8003242 (1945)\ttotal: 6m 25s\tremaining: 6m 25s\n"
     ]
    },
    {
     "name": "stdout",
     "output_type": "stream",
     "text": [
      "1975:\tlearn: 0.8196785\ttest: 0.7996749\tbest: 0.8003242 (1945)\ttotal: 6m 30s\tremaining: 6m 20s\n"
     ]
    },
    {
     "name": "stdout",
     "output_type": "stream",
     "text": [
      "2000:\tlearn: 0.8203163\ttest: 0.8001314\tbest: 0.8003242 (1945)\ttotal: 6m 35s\tremaining: 6m 15s\n"
     ]
    },
    {
     "name": "stdout",
     "output_type": "stream",
     "text": [
      "2025:\tlearn: 0.8207144\ttest: 0.8002031\tbest: 0.8004524 (2010)\ttotal: 6m 40s\tremaining: 6m 10s\n"
     ]
    },
    {
     "name": "stdout",
     "output_type": "stream",
     "text": [
      "2050:\tlearn: 0.8212490\ttest: 0.8004631\tbest: 0.8006499 (2039)\ttotal: 6m 45s\tremaining: 6m 5s\n"
     ]
    },
    {
     "name": "stdout",
     "output_type": "stream",
     "text": [
      "2075:\tlearn: 0.8215168\ttest: 0.8002262\tbest: 0.8006499 (2039)\ttotal: 6m 50s\tremaining: 6m\n"
     ]
    },
    {
     "name": "stdout",
     "output_type": "stream",
     "text": [
      "2100:\tlearn: 0.8219007\ttest: 0.8002524\tbest: 0.8006499 (2039)\ttotal: 6m 55s\tremaining: 5m 55s\n"
     ]
    },
    {
     "name": "stdout",
     "output_type": "stream",
     "text": [
      "2125:\tlearn: 0.8222365\ttest: 0.8005367\tbest: 0.8006499 (2039)\ttotal: 7m\tremaining: 5m 50s\n"
     ]
    },
    {
     "name": "stdout",
     "output_type": "stream",
     "text": [
      "2150:\tlearn: 0.8226523\ttest: 0.8004713\tbest: 0.8006612 (2149)\ttotal: 7m 5s\tremaining: 5m 45s\n"
     ]
    },
    {
     "name": "stdout",
     "output_type": "stream",
     "text": [
      "2175:\tlearn: 0.8234088\ttest: 0.8004788\tbest: 0.8006612 (2149)\ttotal: 7m 10s\tremaining: 5m 40s\n"
     ]
    },
    {
     "name": "stdout",
     "output_type": "stream",
     "text": [
      "2200:\tlearn: 0.8236670\ttest: 0.8004012\tbest: 0.8008230 (2195)\ttotal: 7m 15s\tremaining: 5m 35s\n"
     ]
    },
    {
     "name": "stdout",
     "output_type": "stream",
     "text": [
      "2225:\tlearn: 0.8239428\ttest: 0.8003653\tbest: 0.8008230 (2195)\ttotal: 7m 19s\tremaining: 5m 30s\n"
     ]
    },
    {
     "name": "stdout",
     "output_type": "stream",
     "text": [
      "2250:\tlearn: 0.8243681\ttest: 0.8005189\tbest: 0.8008230 (2195)\ttotal: 7m 24s\tremaining: 5m 25s\n"
     ]
    },
    {
     "name": "stdout",
     "output_type": "stream",
     "text": [
      "2275:\tlearn: 0.8247630\ttest: 0.8001957\tbest: 0.8008230 (2195)\ttotal: 7m 29s\tremaining: 5m 21s\n"
     ]
    },
    {
     "name": "stdout",
     "output_type": "stream",
     "text": [
      "2300:\tlearn: 0.8252614\ttest: 0.8005258\tbest: 0.8008230 (2195)\ttotal: 7m 34s\tremaining: 5m 16s\n"
     ]
    },
    {
     "name": "stdout",
     "output_type": "stream",
     "text": [
      "2325:\tlearn: 0.8256582\ttest: 0.8004459\tbest: 0.8008230 (2195)\ttotal: 7m 39s\tremaining: 5m 11s\n"
     ]
    },
    {
     "name": "stdout",
     "output_type": "stream",
     "text": [
      "2350:\tlearn: 0.8261199\ttest: 0.8005786\tbest: 0.8008230 (2195)\ttotal: 7m 44s\tremaining: 5m 6s\n"
     ]
    },
    {
     "name": "stdout",
     "output_type": "stream",
     "text": [
      "2375:\tlearn: 0.8265219\ttest: 0.8005052\tbest: 0.8008230 (2195)\ttotal: 7m 49s\tremaining: 5m 1s\n"
     ]
    },
    {
     "name": "stdout",
     "output_type": "stream",
     "text": [
      "2400:\tlearn: 0.8268934\ttest: 0.8002360\tbest: 0.8008230 (2195)\ttotal: 7m 54s\tremaining: 4m 56s\n"
     ]
    },
    {
     "name": "stdout",
     "output_type": "stream",
     "text": [
      "2425:\tlearn: 0.8272699\ttest: 0.8004786\tbest: 0.8008230 (2195)\ttotal: 7m 59s\tremaining: 4m 51s\n"
     ]
    },
    {
     "name": "stdout",
     "output_type": "stream",
     "text": [
      "2450:\tlearn: 0.8275534\ttest: 0.8007162\tbest: 0.8008230 (2195)\ttotal: 8m 4s\tremaining: 4m 46s\n"
     ]
    },
    {
     "name": "stdout",
     "output_type": "stream",
     "text": [
      "2475:\tlearn: 0.8281041\ttest: 0.8009286\tbest: 0.8009286 (2475)\ttotal: 8m 9s\tremaining: 4m 41s\n"
     ]
    },
    {
     "name": "stdout",
     "output_type": "stream",
     "text": [
      "2500:\tlearn: 0.8285216\ttest: 0.8005839\tbest: 0.8009714 (2478)\ttotal: 8m 14s\tremaining: 4m 36s\n"
     ]
    },
    {
     "name": "stdout",
     "output_type": "stream",
     "text": [
      "2525:\tlearn: 0.8288363\ttest: 0.8009258\tbest: 0.8009714 (2478)\ttotal: 8m 19s\tremaining: 4m 31s\n"
     ]
    },
    {
     "name": "stdout",
     "output_type": "stream",
     "text": [
      "2550:\tlearn: 0.8293068\ttest: 0.8011389\tbest: 0.8014079 (2537)\ttotal: 8m 24s\tremaining: 4m 26s\n"
     ]
    },
    {
     "name": "stdout",
     "output_type": "stream",
     "text": [
      "2575:\tlearn: 0.8296103\ttest: 0.8012943\tbest: 0.8014079 (2537)\ttotal: 8m 29s\tremaining: 4m 21s\n"
     ]
    },
    {
     "name": "stdout",
     "output_type": "stream",
     "text": [
      "2600:\tlearn: 0.8301835\ttest: 0.8007635\tbest: 0.8014079 (2537)\ttotal: 8m 34s\tremaining: 4m 16s\n"
     ]
    },
    {
     "name": "stdout",
     "output_type": "stream",
     "text": [
      "2625:\tlearn: 0.8305018\ttest: 0.8009595\tbest: 0.8014079 (2537)\ttotal: 8m 38s\tremaining: 4m 11s\n"
     ]
    },
    {
     "name": "stdout",
     "output_type": "stream",
     "text": [
      "2650:\tlearn: 0.8308280\ttest: 0.8007472\tbest: 0.8014079 (2537)\ttotal: 8m 43s\tremaining: 4m 6s\n"
     ]
    },
    {
     "name": "stdout",
     "output_type": "stream",
     "text": [
      "2675:\tlearn: 0.8311628\ttest: 0.8006713\tbest: 0.8014079 (2537)\ttotal: 8m 48s\tremaining: 4m 1s\n"
     ]
    },
    {
     "name": "stdout",
     "output_type": "stream",
     "text": [
      "2700:\tlearn: 0.8315402\ttest: 0.8005445\tbest: 0.8014079 (2537)\ttotal: 8m 53s\tremaining: 3m 56s\n"
     ]
    },
    {
     "name": "stdout",
     "output_type": "stream",
     "text": [
      "2725:\tlearn: 0.8318936\ttest: 0.8007743\tbest: 0.8014079 (2537)\ttotal: 8m 58s\tremaining: 3m 52s\n"
     ]
    },
    {
     "name": "stdout",
     "output_type": "stream",
     "text": [
      "2750:\tlearn: 0.8323844\ttest: 0.8012041\tbest: 0.8014079 (2537)\ttotal: 9m 3s\tremaining: 3m 47s\n"
     ]
    },
    {
     "name": "stdout",
     "output_type": "stream",
     "text": [
      "2775:\tlearn: 0.8326990\ttest: 0.8009986\tbest: 0.8014079 (2537)\ttotal: 9m 8s\tremaining: 3m 42s\n"
     ]
    },
    {
     "name": "stdout",
     "output_type": "stream",
     "text": [
      "2800:\tlearn: 0.8331219\ttest: 0.8012357\tbest: 0.8014079 (2537)\ttotal: 9m 13s\tremaining: 3m 37s\n"
     ]
    },
    {
     "name": "stdout",
     "output_type": "stream",
     "text": [
      "2825:\tlearn: 0.8333211\ttest: 0.8010506\tbest: 0.8014079 (2537)\ttotal: 9m 18s\tremaining: 3m 32s\n"
     ]
    },
    {
     "name": "stdout",
     "output_type": "stream",
     "text": [
      "2850:\tlearn: 0.8338577\ttest: 0.8009268\tbest: 0.8014079 (2537)\ttotal: 9m 23s\tremaining: 3m 27s\n"
     ]
    },
    {
     "name": "stdout",
     "output_type": "stream",
     "text": [
      "2875:\tlearn: 0.8342919\ttest: 0.8010347\tbest: 0.8014079 (2537)\ttotal: 9m 28s\tremaining: 3m 22s\n"
     ]
    },
    {
     "name": "stdout",
     "output_type": "stream",
     "text": [
      "2900:\tlearn: 0.8346363\ttest: 0.8010177\tbest: 0.8014079 (2537)\ttotal: 9m 33s\tremaining: 3m 17s\n"
     ]
    },
    {
     "name": "stdout",
     "output_type": "stream",
     "text": [
      "2925:\tlearn: 0.8349342\ttest: 0.8009558\tbest: 0.8014079 (2537)\ttotal: 9m 38s\tremaining: 3m 12s\n"
     ]
    },
    {
     "name": "stdout",
     "output_type": "stream",
     "text": [
      "2950:\tlearn: 0.8352153\ttest: 0.8010588\tbest: 0.8014079 (2537)\ttotal: 9m 43s\tremaining: 3m 7s\n"
     ]
    },
    {
     "name": "stdout",
     "output_type": "stream",
     "text": [
      "2975:\tlearn: 0.8356426\ttest: 0.8005783\tbest: 0.8014079 (2537)\ttotal: 9m 48s\tremaining: 3m 2s\n"
     ]
    },
    {
     "name": "stdout",
     "output_type": "stream",
     "text": [
      "3000:\tlearn: 0.8359908\ttest: 0.8007242\tbest: 0.8014079 (2537)\ttotal: 9m 53s\tremaining: 2m 57s\n"
     ]
    },
    {
     "name": "stdout",
     "output_type": "stream",
     "text": [
      "3025:\tlearn: 0.8365167\ttest: 0.8008960\tbest: 0.8014079 (2537)\ttotal: 9m 58s\tremaining: 2m 52s\n"
     ]
    },
    {
     "name": "stdout",
     "output_type": "stream",
     "text": [
      "3050:\tlearn: 0.8367246\ttest: 0.8007251\tbest: 0.8014079 (2537)\ttotal: 10m 3s\tremaining: 2m 47s\n"
     ]
    },
    {
     "name": "stdout",
     "output_type": "stream",
     "text": [
      "3075:\tlearn: 0.8369946\ttest: 0.8007000\tbest: 0.8014079 (2537)\ttotal: 10m 7s\tremaining: 2m 42s\n"
     ]
    },
    {
     "name": "stdout",
     "output_type": "stream",
     "text": [
      "3100:\tlearn: 0.8373346\ttest: 0.8007346\tbest: 0.8014079 (2537)\ttotal: 10m 12s\tremaining: 2m 37s\n"
     ]
    },
    {
     "name": "stdout",
     "output_type": "stream",
     "text": [
      "3125:\tlearn: 0.8377378\ttest: 0.8007398\tbest: 0.8014079 (2537)\ttotal: 10m 17s\tremaining: 2m 32s\n"
     ]
    },
    {
     "name": "stdout",
     "output_type": "stream",
     "text": [
      "3150:\tlearn: 0.8380838\ttest: 0.8003846\tbest: 0.8014079 (2537)\ttotal: 10m 22s\tremaining: 2m 28s\n"
     ]
    },
    {
     "name": "stdout",
     "output_type": "stream",
     "text": [
      "3175:\tlearn: 0.8384443\ttest: 0.8003470\tbest: 0.8014079 (2537)\ttotal: 10m 27s\tremaining: 2m 23s\n"
     ]
    },
    {
     "name": "stdout",
     "output_type": "stream",
     "text": [
      "3200:\tlearn: 0.8389734\ttest: 0.8002444\tbest: 0.8014079 (2537)\ttotal: 10m 32s\tremaining: 2m 18s\n"
     ]
    },
    {
     "name": "stdout",
     "output_type": "stream",
     "text": [
      "3225:\tlearn: 0.8392562\ttest: 0.8002902\tbest: 0.8014079 (2537)\ttotal: 10m 37s\tremaining: 2m 13s\n"
     ]
    },
    {
     "name": "stdout",
     "output_type": "stream",
     "text": [
      "3250:\tlearn: 0.8394719\ttest: 0.8003924\tbest: 0.8014079 (2537)\ttotal: 10m 42s\tremaining: 2m 8s\n"
     ]
    },
    {
     "name": "stdout",
     "output_type": "stream",
     "text": [
      "3275:\tlearn: 0.8398944\ttest: 0.8006109\tbest: 0.8014079 (2537)\ttotal: 10m 47s\tremaining: 2m 3s\n"
     ]
    },
    {
     "name": "stdout",
     "output_type": "stream",
     "text": [
      "3300:\tlearn: 0.8402737\ttest: 0.8005708\tbest: 0.8014079 (2537)\ttotal: 10m 52s\tremaining: 1m 58s\n"
     ]
    },
    {
     "name": "stdout",
     "output_type": "stream",
     "text": [
      "3325:\tlearn: 0.8406278\ttest: 0.8007420\tbest: 0.8014079 (2537)\ttotal: 10m 57s\tremaining: 1m 53s\n"
     ]
    },
    {
     "name": "stdout",
     "output_type": "stream",
     "text": [
      "3350:\tlearn: 0.8410701\ttest: 0.8007202\tbest: 0.8014079 (2537)\ttotal: 11m 2s\tremaining: 1m 48s\n"
     ]
    },
    {
     "name": "stdout",
     "output_type": "stream",
     "text": [
      "3375:\tlearn: 0.8413330\ttest: 0.8008938\tbest: 0.8014079 (2537)\ttotal: 11m 7s\tremaining: 1m 43s\n"
     ]
    },
    {
     "name": "stdout",
     "output_type": "stream",
     "text": [
      "3400:\tlearn: 0.8418728\ttest: 0.8009635\tbest: 0.8014079 (2537)\ttotal: 11m 12s\tremaining: 1m 38s\n"
     ]
    },
    {
     "name": "stdout",
     "output_type": "stream",
     "text": [
      "3425:\tlearn: 0.8421377\ttest: 0.8007139\tbest: 0.8014079 (2537)\ttotal: 11m 17s\tremaining: 1m 33s\n"
     ]
    },
    {
     "name": "stdout",
     "output_type": "stream",
     "text": [
      "3450:\tlearn: 0.8424935\ttest: 0.8006924\tbest: 0.8014079 (2537)\ttotal: 11m 22s\tremaining: 1m 28s\n"
     ]
    },
    {
     "name": "stdout",
     "output_type": "stream",
     "text": [
      "3475:\tlearn: 0.8428599\ttest: 0.8006302\tbest: 0.8014079 (2537)\ttotal: 11m 26s\tremaining: 1m 23s\n"
     ]
    },
    {
     "name": "stdout",
     "output_type": "stream",
     "text": [
      "3500:\tlearn: 0.8432814\ttest: 0.8007182\tbest: 0.8014079 (2537)\ttotal: 11m 31s\tremaining: 1m 18s\n"
     ]
    },
    {
     "name": "stdout",
     "output_type": "stream",
     "text": [
      "3525:\tlearn: 0.8435950\ttest: 0.8006588\tbest: 0.8014079 (2537)\ttotal: 11m 36s\tremaining: 1m 13s\n"
     ]
    },
    {
     "name": "stdout",
     "output_type": "stream",
     "text": [
      "3550:\tlearn: 0.8440312\ttest: 0.8005991\tbest: 0.8014079 (2537)\ttotal: 11m 41s\tremaining: 1m 8s\n"
     ]
    },
    {
     "name": "stdout",
     "output_type": "stream",
     "text": [
      "3575:\tlearn: 0.8444307\ttest: 0.8007126\tbest: 0.8014079 (2537)\ttotal: 11m 46s\tremaining: 1m 4s\n"
     ]
    },
    {
     "name": "stdout",
     "output_type": "stream",
     "text": [
      "3600:\tlearn: 0.8449504\ttest: 0.8007149\tbest: 0.8014079 (2537)\ttotal: 11m 51s\tremaining: 59.1s\n"
     ]
    },
    {
     "name": "stdout",
     "output_type": "stream",
     "text": [
      "3625:\tlearn: 0.8452024\ttest: 0.8005258\tbest: 0.8014079 (2537)\ttotal: 11m 56s\tremaining: 54.1s\n"
     ]
    },
    {
     "name": "stdout",
     "output_type": "stream",
     "text": [
      "3650:\tlearn: 0.8454295\ttest: 0.8002965\tbest: 0.8014079 (2537)\ttotal: 12m 1s\tremaining: 49.2s\n"
     ]
    },
    {
     "name": "stdout",
     "output_type": "stream",
     "text": [
      "3675:\tlearn: 0.8458839\ttest: 0.8002994\tbest: 0.8014079 (2537)\ttotal: 12m 6s\tremaining: 44.3s\n"
     ]
    },
    {
     "name": "stdout",
     "output_type": "stream",
     "text": [
      "3700:\tlearn: 0.8461171\ttest: 0.8004800\tbest: 0.8014079 (2537)\ttotal: 12m 11s\tremaining: 39.3s\n"
     ]
    },
    {
     "name": "stdout",
     "output_type": "stream",
     "text": [
      "3725:\tlearn: 0.8464488\ttest: 0.8006088\tbest: 0.8014079 (2537)\ttotal: 12m 16s\tremaining: 34.4s\n"
     ]
    },
    {
     "name": "stdout",
     "output_type": "stream",
     "text": [
      "3750:\tlearn: 0.8467720\ttest: 0.8008238\tbest: 0.8014079 (2537)\ttotal: 12m 21s\tremaining: 29.4s\n"
     ]
    },
    {
     "name": "stdout",
     "output_type": "stream",
     "text": [
      "3775:\tlearn: 0.8472001\ttest: 0.8010387\tbest: 0.8014079 (2537)\ttotal: 12m 26s\tremaining: 24.5s\n"
     ]
    },
    {
     "name": "stdout",
     "output_type": "stream",
     "text": [
      "3800:\tlearn: 0.8475789\ttest: 0.8007401\tbest: 0.8014079 (2537)\ttotal: 12m 31s\tremaining: 19.6s\n"
     ]
    },
    {
     "name": "stdout",
     "output_type": "stream",
     "text": [
      "3825:\tlearn: 0.8479810\ttest: 0.8010794\tbest: 0.8014079 (2537)\ttotal: 12m 36s\tremaining: 14.6s\n"
     ]
    },
    {
     "name": "stdout",
     "output_type": "stream",
     "text": [
      "3850:\tlearn: 0.8483698\ttest: 0.8009790\tbest: 0.8014079 (2537)\ttotal: 12m 41s\tremaining: 9.69s\n"
     ]
    },
    {
     "name": "stdout",
     "output_type": "stream",
     "text": [
      "3875:\tlearn: 0.8485443\ttest: 0.8011731\tbest: 0.8014079 (2537)\ttotal: 12m 46s\tremaining: 4.74s\n"
     ]
    },
    {
     "name": "stdout",
     "output_type": "stream",
     "text": [
      "3899:\tlearn: 0.8490281\ttest: 0.8012133\tbest: 0.8014079 (2537)\ttotal: 12m 50s\tremaining: 0us\n",
      "\n",
      "bestTest = 0.8014079188\n",
      "bestIteration = 2537\n",
      "\n"
     ]
    },
    {
     "name": "stdout",
     "output_type": "stream",
     "text": [
      "######################################## training model 5/5 ########################################\n"
     ]
    },
    {
     "name": "stdout",
     "output_type": "stream",
     "text": [
      "0:\tlearn: 0.6100509\ttest: 0.6082107\tbest: 0.6082107 (0)\ttotal: 528ms\tremaining: 34m 18s\n"
     ]
    },
    {
     "name": "stdout",
     "output_type": "stream",
     "text": [
      "25:\tlearn: 0.7300176\ttest: 0.7304911\tbest: 0.7304911 (25)\ttotal: 5.38s\tremaining: 13m 21s\n"
     ]
    },
    {
     "name": "stdout",
     "output_type": "stream",
     "text": [
      "50:\tlearn: 0.7493452\ttest: 0.7509090\tbest: 0.7509090 (50)\ttotal: 10.3s\tremaining: 12m 58s\n"
     ]
    },
    {
     "name": "stdout",
     "output_type": "stream",
     "text": [
      "75:\tlearn: 0.7574114\ttest: 0.7580166\tbest: 0.7580166 (75)\ttotal: 15.4s\tremaining: 12m 53s\n"
     ]
    },
    {
     "name": "stdout",
     "output_type": "stream",
     "text": [
      "100:\tlearn: 0.7618190\ttest: 0.7622688\tbest: 0.7622688 (100)\ttotal: 20.4s\tremaining: 12m 46s\n"
     ]
    },
    {
     "name": "stdout",
     "output_type": "stream",
     "text": [
      "125:\tlearn: 0.7652770\ttest: 0.7658522\tbest: 0.7658522 (125)\ttotal: 25.3s\tremaining: 12m 39s\n"
     ]
    },
    {
     "name": "stdout",
     "output_type": "stream",
     "text": [
      "150:\tlearn: 0.7680062\ttest: 0.7689284\tbest: 0.7689284 (150)\ttotal: 30.3s\tremaining: 12m 32s\n"
     ]
    },
    {
     "name": "stdout",
     "output_type": "stream",
     "text": [
      "175:\tlearn: 0.7697662\ttest: 0.7705055\tbest: 0.7705055 (175)\ttotal: 35.2s\tremaining: 12m 25s\n"
     ]
    },
    {
     "name": "stdout",
     "output_type": "stream",
     "text": [
      "200:\tlearn: 0.7711277\ttest: 0.7714346\tbest: 0.7715978 (199)\ttotal: 40.2s\tremaining: 12m 20s\n"
     ]
    },
    {
     "name": "stdout",
     "output_type": "stream",
     "text": [
      "225:\tlearn: 0.7725683\ttest: 0.7730198\tbest: 0.7730987 (222)\ttotal: 45.2s\tremaining: 12m 14s\n"
     ]
    },
    {
     "name": "stdout",
     "output_type": "stream",
     "text": [
      "250:\tlearn: 0.7743862\ttest: 0.7744007\tbest: 0.7744931 (249)\ttotal: 50.1s\tremaining: 12m 8s\n"
     ]
    },
    {
     "name": "stdout",
     "output_type": "stream",
     "text": [
      "275:\tlearn: 0.7768375\ttest: 0.7761702\tbest: 0.7762309 (274)\ttotal: 55.1s\tremaining: 12m 3s\n"
     ]
    },
    {
     "name": "stdout",
     "output_type": "stream",
     "text": [
      "300:\tlearn: 0.7790741\ttest: 0.7780328\tbest: 0.7782091 (298)\ttotal: 1m\tremaining: 11m 57s\n"
     ]
    },
    {
     "name": "stdout",
     "output_type": "stream",
     "text": [
      "325:\tlearn: 0.7815825\ttest: 0.7803740\tbest: 0.7803740 (325)\ttotal: 1m 4s\tremaining: 11m 51s\n"
     ]
    },
    {
     "name": "stdout",
     "output_type": "stream",
     "text": [
      "350:\tlearn: 0.7833151\ttest: 0.7821625\tbest: 0.7822972 (349)\ttotal: 1m 9s\tremaining: 11m 46s\n"
     ]
    },
    {
     "name": "stdout",
     "output_type": "stream",
     "text": [
      "375:\tlearn: 0.7850911\ttest: 0.7828728\tbest: 0.7830174 (365)\ttotal: 1m 14s\tremaining: 11m 42s\n"
     ]
    },
    {
     "name": "stdout",
     "output_type": "stream",
     "text": [
      "400:\tlearn: 0.7864068\ttest: 0.7835027\tbest: 0.7836542 (396)\ttotal: 1m 19s\tremaining: 11m 36s\n"
     ]
    },
    {
     "name": "stdout",
     "output_type": "stream",
     "text": [
      "425:\tlearn: 0.7876347\ttest: 0.7842710\tbest: 0.7845496 (415)\ttotal: 1m 24s\tremaining: 11m 32s\n"
     ]
    },
    {
     "name": "stdout",
     "output_type": "stream",
     "text": [
      "450:\tlearn: 0.7888944\ttest: 0.7849013\tbest: 0.7849387 (446)\ttotal: 1m 29s\tremaining: 11m 26s\n"
     ]
    },
    {
     "name": "stdout",
     "output_type": "stream",
     "text": [
      "475:\tlearn: 0.7895691\ttest: 0.7853381\tbest: 0.7854647 (462)\ttotal: 1m 34s\tremaining: 11m 21s\n"
     ]
    },
    {
     "name": "stdout",
     "output_type": "stream",
     "text": [
      "500:\tlearn: 0.7906385\ttest: 0.7856461\tbest: 0.7859467 (494)\ttotal: 1m 39s\tremaining: 11m 16s\n"
     ]
    },
    {
     "name": "stdout",
     "output_type": "stream",
     "text": [
      "525:\tlearn: 0.7915350\ttest: 0.7865247\tbest: 0.7866149 (518)\ttotal: 1m 44s\tremaining: 11m 10s\n"
     ]
    },
    {
     "name": "stdout",
     "output_type": "stream",
     "text": [
      "550:\tlearn: 0.7924802\ttest: 0.7867969\tbest: 0.7869360 (548)\ttotal: 1m 49s\tremaining: 11m 5s\n"
     ]
    },
    {
     "name": "stdout",
     "output_type": "stream",
     "text": [
      "575:\tlearn: 0.7930891\ttest: 0.7871260\tbest: 0.7873114 (569)\ttotal: 1m 54s\tremaining: 11m\n"
     ]
    },
    {
     "name": "stdout",
     "output_type": "stream",
     "text": [
      "600:\tlearn: 0.7940309\ttest: 0.7871632\tbest: 0.7873114 (569)\ttotal: 1m 59s\tremaining: 10m 55s\n"
     ]
    },
    {
     "name": "stdout",
     "output_type": "stream",
     "text": [
      "625:\tlearn: 0.7947734\ttest: 0.7871389\tbest: 0.7873114 (569)\ttotal: 2m 4s\tremaining: 10m 50s\n"
     ]
    },
    {
     "name": "stdout",
     "output_type": "stream",
     "text": [
      "650:\tlearn: 0.7957040\ttest: 0.7868993\tbest: 0.7873114 (569)\ttotal: 2m 9s\tremaining: 10m 44s\n"
     ]
    },
    {
     "name": "stdout",
     "output_type": "stream",
     "text": [
      "675:\tlearn: 0.7965408\ttest: 0.7870384\tbest: 0.7873114 (569)\ttotal: 2m 14s\tremaining: 10m 40s\n"
     ]
    },
    {
     "name": "stdout",
     "output_type": "stream",
     "text": [
      "700:\tlearn: 0.7972246\ttest: 0.7874127\tbest: 0.7875151 (698)\ttotal: 2m 19s\tremaining: 10m 34s\n"
     ]
    },
    {
     "name": "stdout",
     "output_type": "stream",
     "text": [
      "725:\tlearn: 0.7980184\ttest: 0.7874949\tbest: 0.7876645 (708)\ttotal: 2m 24s\tremaining: 10m 30s\n"
     ]
    },
    {
     "name": "stdout",
     "output_type": "stream",
     "text": [
      "750:\tlearn: 0.7986004\ttest: 0.7876271\tbest: 0.7877666 (745)\ttotal: 2m 29s\tremaining: 10m 25s\n"
     ]
    },
    {
     "name": "stdout",
     "output_type": "stream",
     "text": [
      "775:\tlearn: 0.7991321\ttest: 0.7876654\tbest: 0.7877691 (758)\ttotal: 2m 33s\tremaining: 10m 19s\n"
     ]
    },
    {
     "name": "stdout",
     "output_type": "stream",
     "text": [
      "800:\tlearn: 0.7998079\ttest: 0.7875795\tbest: 0.7878730 (790)\ttotal: 2m 38s\tremaining: 10m 14s\n"
     ]
    },
    {
     "name": "stdout",
     "output_type": "stream",
     "text": [
      "825:\tlearn: 0.8003562\ttest: 0.7876623\tbest: 0.7878982 (816)\ttotal: 2m 43s\tremaining: 10m 9s\n"
     ]
    },
    {
     "name": "stdout",
     "output_type": "stream",
     "text": [
      "850:\tlearn: 0.8010015\ttest: 0.7872633\tbest: 0.7878982 (816)\ttotal: 2m 48s\tremaining: 10m 4s\n"
     ]
    },
    {
     "name": "stdout",
     "output_type": "stream",
     "text": [
      "875:\tlearn: 0.8015609\ttest: 0.7877336\tbest: 0.7878982 (816)\ttotal: 2m 53s\tremaining: 9m 59s\n"
     ]
    },
    {
     "name": "stdout",
     "output_type": "stream",
     "text": [
      "900:\tlearn: 0.8022568\ttest: 0.7878599\tbest: 0.7879383 (898)\ttotal: 2m 58s\tremaining: 9m 54s\n"
     ]
    },
    {
     "name": "stdout",
     "output_type": "stream",
     "text": [
      "925:\tlearn: 0.8029361\ttest: 0.7877231\tbest: 0.7880988 (904)\ttotal: 3m 3s\tremaining: 9m 50s\n"
     ]
    },
    {
     "name": "stdout",
     "output_type": "stream",
     "text": [
      "950:\tlearn: 0.8033297\ttest: 0.7876370\tbest: 0.7880988 (904)\ttotal: 3m 8s\tremaining: 9m 45s\n"
     ]
    },
    {
     "name": "stdout",
     "output_type": "stream",
     "text": [
      "975:\tlearn: 0.8039310\ttest: 0.7878340\tbest: 0.7880988 (904)\ttotal: 3m 13s\tremaining: 9m 40s\n"
     ]
    },
    {
     "name": "stdout",
     "output_type": "stream",
     "text": [
      "1000:\tlearn: 0.8045116\ttest: 0.7879358\tbest: 0.7881440 (995)\ttotal: 3m 18s\tremaining: 9m 35s\n"
     ]
    },
    {
     "name": "stdout",
     "output_type": "stream",
     "text": [
      "1025:\tlearn: 0.8049184\ttest: 0.7880092\tbest: 0.7881959 (1004)\ttotal: 3m 23s\tremaining: 9m 30s\n"
     ]
    },
    {
     "name": "stdout",
     "output_type": "stream",
     "text": [
      "1050:\tlearn: 0.8055714\ttest: 0.7883925\tbest: 0.7884501 (1047)\ttotal: 3m 28s\tremaining: 9m 25s\n"
     ]
    },
    {
     "name": "stdout",
     "output_type": "stream",
     "text": [
      "1075:\tlearn: 0.8060807\ttest: 0.7879895\tbest: 0.7884806 (1054)\ttotal: 3m 33s\tremaining: 9m 20s\n"
     ]
    },
    {
     "name": "stdout",
     "output_type": "stream",
     "text": [
      "1100:\tlearn: 0.8067015\ttest: 0.7883389\tbest: 0.7884898 (1089)\ttotal: 3m 38s\tremaining: 9m 15s\n"
     ]
    },
    {
     "name": "stdout",
     "output_type": "stream",
     "text": [
      "1125:\tlearn: 0.8071324\ttest: 0.7880402\tbest: 0.7885736 (1108)\ttotal: 3m 43s\tremaining: 9m 10s\n"
     ]
    },
    {
     "name": "stdout",
     "output_type": "stream",
     "text": [
      "1150:\tlearn: 0.8076156\ttest: 0.7881266\tbest: 0.7885736 (1108)\ttotal: 3m 48s\tremaining: 9m 5s\n"
     ]
    },
    {
     "name": "stdout",
     "output_type": "stream",
     "text": [
      "1175:\tlearn: 0.8082291\ttest: 0.7885297\tbest: 0.7887954 (1166)\ttotal: 3m 53s\tremaining: 9m\n"
     ]
    },
    {
     "name": "stdout",
     "output_type": "stream",
     "text": [
      "1200:\tlearn: 0.8088372\ttest: 0.7885267\tbest: 0.7887954 (1166)\ttotal: 3m 58s\tremaining: 8m 55s\n"
     ]
    },
    {
     "name": "stdout",
     "output_type": "stream",
     "text": [
      "1225:\tlearn: 0.8093088\ttest: 0.7888453\tbest: 0.7888970 (1210)\ttotal: 4m 3s\tremaining: 8m 50s\n"
     ]
    },
    {
     "name": "stdout",
     "output_type": "stream",
     "text": [
      "1250:\tlearn: 0.8096567\ttest: 0.7890236\tbest: 0.7890797 (1243)\ttotal: 4m 8s\tremaining: 8m 45s\n"
     ]
    },
    {
     "name": "stdout",
     "output_type": "stream",
     "text": [
      "1275:\tlearn: 0.8102315\ttest: 0.7886270\tbest: 0.7890797 (1243)\ttotal: 4m 13s\tremaining: 8m 40s\n"
     ]
    },
    {
     "name": "stdout",
     "output_type": "stream",
     "text": [
      "1300:\tlearn: 0.8107315\ttest: 0.7889156\tbest: 0.7890797 (1243)\ttotal: 4m 17s\tremaining: 8m 35s\n"
     ]
    },
    {
     "name": "stdout",
     "output_type": "stream",
     "text": [
      "1325:\tlearn: 0.8112632\ttest: 0.7892187\tbest: 0.7893932 (1311)\ttotal: 4m 22s\tremaining: 8m 30s\n"
     ]
    },
    {
     "name": "stdout",
     "output_type": "stream",
     "text": [
      "1350:\tlearn: 0.8116155\ttest: 0.7892359\tbest: 0.7893932 (1311)\ttotal: 4m 27s\tremaining: 8m 25s\n"
     ]
    },
    {
     "name": "stdout",
     "output_type": "stream",
     "text": [
      "1375:\tlearn: 0.8120411\ttest: 0.7892492\tbest: 0.7893932 (1311)\ttotal: 4m 32s\tremaining: 8m 20s\n"
     ]
    },
    {
     "name": "stdout",
     "output_type": "stream",
     "text": [
      "1400:\tlearn: 0.8124764\ttest: 0.7891491\tbest: 0.7893932 (1311)\ttotal: 4m 37s\tremaining: 8m 15s\n"
     ]
    },
    {
     "name": "stdout",
     "output_type": "stream",
     "text": [
      "1425:\tlearn: 0.8128512\ttest: 0.7891236\tbest: 0.7893932 (1311)\ttotal: 4m 42s\tremaining: 8m 10s\n"
     ]
    },
    {
     "name": "stdout",
     "output_type": "stream",
     "text": [
      "1450:\tlearn: 0.8132321\ttest: 0.7891594\tbest: 0.7893932 (1311)\ttotal: 4m 47s\tremaining: 8m 5s\n"
     ]
    },
    {
     "name": "stdout",
     "output_type": "stream",
     "text": [
      "1475:\tlearn: 0.8137776\ttest: 0.7895698\tbest: 0.7897380 (1472)\ttotal: 4m 52s\tremaining: 8m\n"
     ]
    },
    {
     "name": "stdout",
     "output_type": "stream",
     "text": [
      "1500:\tlearn: 0.8143634\ttest: 0.7895874\tbest: 0.7897803 (1478)\ttotal: 4m 57s\tremaining: 7m 55s\n"
     ]
    },
    {
     "name": "stdout",
     "output_type": "stream",
     "text": [
      "1525:\tlearn: 0.8148050\ttest: 0.7894734\tbest: 0.7897803 (1478)\ttotal: 5m 2s\tremaining: 7m 50s\n"
     ]
    },
    {
     "name": "stdout",
     "output_type": "stream",
     "text": [
      "1550:\tlearn: 0.8152423\ttest: 0.7894822\tbest: 0.7897803 (1478)\ttotal: 5m 7s\tremaining: 7m 45s\n"
     ]
    },
    {
     "name": "stdout",
     "output_type": "stream",
     "text": [
      "1575:\tlearn: 0.8156342\ttest: 0.7894925\tbest: 0.7897803 (1478)\ttotal: 5m 12s\tremaining: 7m 40s\n"
     ]
    },
    {
     "name": "stdout",
     "output_type": "stream",
     "text": [
      "1600:\tlearn: 0.8161923\ttest: 0.7896118\tbest: 0.7897803 (1478)\ttotal: 5m 17s\tremaining: 7m 35s\n"
     ]
    },
    {
     "name": "stdout",
     "output_type": "stream",
     "text": [
      "1625:\tlearn: 0.8166239\ttest: 0.7895363\tbest: 0.7897803 (1478)\ttotal: 5m 22s\tremaining: 7m 30s\n"
     ]
    },
    {
     "name": "stdout",
     "output_type": "stream",
     "text": [
      "1650:\tlearn: 0.8172488\ttest: 0.7894802\tbest: 0.7897803 (1478)\ttotal: 5m 27s\tremaining: 7m 25s\n"
     ]
    },
    {
     "name": "stdout",
     "output_type": "stream",
     "text": [
      "1675:\tlearn: 0.8175029\ttest: 0.7896390\tbest: 0.7898829 (1662)\ttotal: 5m 31s\tremaining: 7m 20s\n"
     ]
    },
    {
     "name": "stdout",
     "output_type": "stream",
     "text": [
      "1700:\tlearn: 0.8180658\ttest: 0.7899440\tbest: 0.7900897 (1687)\ttotal: 5m 36s\tremaining: 7m 15s\n"
     ]
    },
    {
     "name": "stdout",
     "output_type": "stream",
     "text": [
      "1725:\tlearn: 0.8186431\ttest: 0.7901033\tbest: 0.7901989 (1707)\ttotal: 5m 41s\tremaining: 7m 10s\n"
     ]
    },
    {
     "name": "stdout",
     "output_type": "stream",
     "text": [
      "1750:\tlearn: 0.8190866\ttest: 0.7900271\tbest: 0.7901989 (1707)\ttotal: 5m 46s\tremaining: 7m 5s\n"
     ]
    },
    {
     "name": "stdout",
     "output_type": "stream",
     "text": [
      "1775:\tlearn: 0.8195190\ttest: 0.7902417\tbest: 0.7902417 (1775)\ttotal: 5m 51s\tremaining: 7m\n"
     ]
    },
    {
     "name": "stdout",
     "output_type": "stream",
     "text": [
      "1800:\tlearn: 0.8199083\ttest: 0.7906375\tbest: 0.7906375 (1800)\ttotal: 5m 56s\tremaining: 6m 55s\n"
     ]
    },
    {
     "name": "stdout",
     "output_type": "stream",
     "text": [
      "1825:\tlearn: 0.8203559\ttest: 0.7904937\tbest: 0.7906375 (1800)\ttotal: 6m 1s\tremaining: 6m 50s\n"
     ]
    },
    {
     "name": "stdout",
     "output_type": "stream",
     "text": [
      "1850:\tlearn: 0.8207667\ttest: 0.7904869\tbest: 0.7906375 (1800)\ttotal: 6m 6s\tremaining: 6m 45s\n"
     ]
    },
    {
     "name": "stdout",
     "output_type": "stream",
     "text": [
      "1875:\tlearn: 0.8210701\ttest: 0.7905391\tbest: 0.7906375 (1800)\ttotal: 6m 11s\tremaining: 6m 40s\n"
     ]
    },
    {
     "name": "stdout",
     "output_type": "stream",
     "text": [
      "1900:\tlearn: 0.8216437\ttest: 0.7906542\tbest: 0.7908545 (1878)\ttotal: 6m 16s\tremaining: 6m 35s\n"
     ]
    },
    {
     "name": "stdout",
     "output_type": "stream",
     "text": [
      "1925:\tlearn: 0.8219577\ttest: 0.7909910\tbest: 0.7909910 (1925)\ttotal: 6m 21s\tremaining: 6m 30s\n"
     ]
    },
    {
     "name": "stdout",
     "output_type": "stream",
     "text": [
      "1950:\tlearn: 0.8223424\ttest: 0.7908715\tbest: 0.7909910 (1925)\ttotal: 6m 26s\tremaining: 6m 25s\n"
     ]
    },
    {
     "name": "stdout",
     "output_type": "stream",
     "text": [
      "1975:\tlearn: 0.8228206\ttest: 0.7907538\tbest: 0.7909910 (1925)\ttotal: 6m 31s\tremaining: 6m 20s\n"
     ]
    },
    {
     "name": "stdout",
     "output_type": "stream",
     "text": [
      "2000:\tlearn: 0.8232392\ttest: 0.7908955\tbest: 0.7909910 (1925)\ttotal: 6m 36s\tremaining: 6m 15s\n"
     ]
    },
    {
     "name": "stdout",
     "output_type": "stream",
     "text": [
      "2025:\tlearn: 0.8235526\ttest: 0.7907792\tbest: 0.7910514 (2014)\ttotal: 6m 40s\tremaining: 6m 10s\n"
     ]
    },
    {
     "name": "stdout",
     "output_type": "stream",
     "text": [
      "2050:\tlearn: 0.8238044\ttest: 0.7914928\tbest: 0.7915374 (2049)\ttotal: 6m 45s\tremaining: 6m 5s\n"
     ]
    },
    {
     "name": "stdout",
     "output_type": "stream",
     "text": [
      "2075:\tlearn: 0.8244332\ttest: 0.7913121\tbest: 0.7915374 (2049)\ttotal: 6m 50s\tremaining: 6m\n"
     ]
    },
    {
     "name": "stdout",
     "output_type": "stream",
     "text": [
      "2100:\tlearn: 0.8247537\ttest: 0.7911353\tbest: 0.7915374 (2049)\ttotal: 6m 55s\tremaining: 5m 56s\n"
     ]
    },
    {
     "name": "stdout",
     "output_type": "stream",
     "text": [
      "2125:\tlearn: 0.8253501\ttest: 0.7915077\tbest: 0.7915374 (2049)\ttotal: 7m\tremaining: 5m 51s\n"
     ]
    },
    {
     "name": "stdout",
     "output_type": "stream",
     "text": [
      "2150:\tlearn: 0.8255462\ttest: 0.7917865\tbest: 0.7918491 (2148)\ttotal: 7m 5s\tremaining: 5m 46s\n"
     ]
    },
    {
     "name": "stdout",
     "output_type": "stream",
     "text": [
      "2175:\tlearn: 0.8260779\ttest: 0.7916167\tbest: 0.7918491 (2148)\ttotal: 7m 10s\tremaining: 5m 41s\n"
     ]
    },
    {
     "name": "stdout",
     "output_type": "stream",
     "text": [
      "2200:\tlearn: 0.8263808\ttest: 0.7915335\tbest: 0.7918491 (2148)\ttotal: 7m 15s\tremaining: 5m 36s\n"
     ]
    },
    {
     "name": "stdout",
     "output_type": "stream",
     "text": [
      "2225:\tlearn: 0.8268640\ttest: 0.7915222\tbest: 0.7918491 (2148)\ttotal: 7m 20s\tremaining: 5m 31s\n"
     ]
    },
    {
     "name": "stdout",
     "output_type": "stream",
     "text": [
      "2250:\tlearn: 0.8271645\ttest: 0.7913648\tbest: 0.7918491 (2148)\ttotal: 7m 25s\tremaining: 5m 26s\n"
     ]
    },
    {
     "name": "stdout",
     "output_type": "stream",
     "text": [
      "2275:\tlearn: 0.8276317\ttest: 0.7913322\tbest: 0.7918491 (2148)\ttotal: 7m 30s\tremaining: 5m 21s\n"
     ]
    },
    {
     "name": "stdout",
     "output_type": "stream",
     "text": [
      "2300:\tlearn: 0.8279929\ttest: 0.7914681\tbest: 0.7918491 (2148)\ttotal: 7m 35s\tremaining: 5m 16s\n"
     ]
    },
    {
     "name": "stdout",
     "output_type": "stream",
     "text": [
      "2325:\tlearn: 0.8284568\ttest: 0.7915595\tbest: 0.7918491 (2148)\ttotal: 7m 40s\tremaining: 5m 11s\n"
     ]
    },
    {
     "name": "stdout",
     "output_type": "stream",
     "text": [
      "2350:\tlearn: 0.8288255\ttest: 0.7917810\tbest: 0.7919015 (2341)\ttotal: 7m 45s\tremaining: 5m 6s\n"
     ]
    },
    {
     "name": "stdout",
     "output_type": "stream",
     "text": [
      "2375:\tlearn: 0.8292325\ttest: 0.7918862\tbest: 0.7919508 (2374)\ttotal: 7m 50s\tremaining: 5m 1s\n"
     ]
    },
    {
     "name": "stdout",
     "output_type": "stream",
     "text": [
      "2400:\tlearn: 0.8296774\ttest: 0.7917891\tbest: 0.7920805 (2391)\ttotal: 7m 55s\tremaining: 4m 56s\n"
     ]
    },
    {
     "name": "stdout",
     "output_type": "stream",
     "text": [
      "2425:\tlearn: 0.8299812\ttest: 0.7918630\tbest: 0.7920866 (2408)\ttotal: 8m\tremaining: 4m 51s\n"
     ]
    },
    {
     "name": "stdout",
     "output_type": "stream",
     "text": [
      "2450:\tlearn: 0.8303725\ttest: 0.7920102\tbest: 0.7920866 (2408)\ttotal: 8m 5s\tremaining: 4m 46s\n"
     ]
    },
    {
     "name": "stdout",
     "output_type": "stream",
     "text": [
      "2475:\tlearn: 0.8307966\ttest: 0.7918066\tbest: 0.7922632 (2454)\ttotal: 8m 10s\tremaining: 4m 41s\n"
     ]
    },
    {
     "name": "stdout",
     "output_type": "stream",
     "text": [
      "2500:\tlearn: 0.8311666\ttest: 0.7919286\tbest: 0.7922632 (2454)\ttotal: 8m 15s\tremaining: 4m 36s\n"
     ]
    },
    {
     "name": "stdout",
     "output_type": "stream",
     "text": [
      "2525:\tlearn: 0.8315972\ttest: 0.7917010\tbest: 0.7922632 (2454)\ttotal: 8m 19s\tremaining: 4m 31s\n"
     ]
    },
    {
     "name": "stdout",
     "output_type": "stream",
     "text": [
      "2550:\tlearn: 0.8319324\ttest: 0.7918329\tbest: 0.7922632 (2454)\ttotal: 8m 24s\tremaining: 4m 27s\n"
     ]
    },
    {
     "name": "stdout",
     "output_type": "stream",
     "text": [
      "2575:\tlearn: 0.8323444\ttest: 0.7917703\tbest: 0.7922632 (2454)\ttotal: 8m 29s\tremaining: 4m 22s\n"
     ]
    },
    {
     "name": "stdout",
     "output_type": "stream",
     "text": [
      "2600:\tlearn: 0.8327069\ttest: 0.7921423\tbest: 0.7922632 (2454)\ttotal: 8m 34s\tremaining: 4m 17s\n"
     ]
    },
    {
     "name": "stdout",
     "output_type": "stream",
     "text": [
      "2625:\tlearn: 0.8329597\ttest: 0.7918092\tbest: 0.7922632 (2454)\ttotal: 8m 39s\tremaining: 4m 12s\n"
     ]
    },
    {
     "name": "stdout",
     "output_type": "stream",
     "text": [
      "2650:\tlearn: 0.8335424\ttest: 0.7919184\tbest: 0.7922632 (2454)\ttotal: 8m 44s\tremaining: 4m 7s\n"
     ]
    },
    {
     "name": "stdout",
     "output_type": "stream",
     "text": [
      "2675:\tlearn: 0.8338957\ttest: 0.7918000\tbest: 0.7922632 (2454)\ttotal: 8m 49s\tremaining: 4m 2s\n"
     ]
    },
    {
     "name": "stdout",
     "output_type": "stream",
     "text": [
      "2700:\tlearn: 0.8341402\ttest: 0.7915311\tbest: 0.7922632 (2454)\ttotal: 8m 54s\tremaining: 3m 57s\n"
     ]
    },
    {
     "name": "stdout",
     "output_type": "stream",
     "text": [
      "2725:\tlearn: 0.8346256\ttest: 0.7915584\tbest: 0.7922632 (2454)\ttotal: 8m 59s\tremaining: 3m 52s\n"
     ]
    },
    {
     "name": "stdout",
     "output_type": "stream",
     "text": [
      "2750:\tlearn: 0.8349393\ttest: 0.7913310\tbest: 0.7922632 (2454)\ttotal: 9m 4s\tremaining: 3m 47s\n"
     ]
    },
    {
     "name": "stdout",
     "output_type": "stream",
     "text": [
      "2775:\tlearn: 0.8353373\ttest: 0.7918427\tbest: 0.7922632 (2454)\ttotal: 9m 9s\tremaining: 3m 42s\n"
     ]
    },
    {
     "name": "stdout",
     "output_type": "stream",
     "text": [
      "2800:\tlearn: 0.8358376\ttest: 0.7915543\tbest: 0.7922632 (2454)\ttotal: 9m 14s\tremaining: 3m 37s\n"
     ]
    },
    {
     "name": "stdout",
     "output_type": "stream",
     "text": [
      "2825:\tlearn: 0.8359598\ttest: 0.7914818\tbest: 0.7922632 (2454)\ttotal: 9m 19s\tremaining: 3m 32s\n"
     ]
    },
    {
     "name": "stdout",
     "output_type": "stream",
     "text": [
      "2850:\tlearn: 0.8364363\ttest: 0.7916730\tbest: 0.7922632 (2454)\ttotal: 9m 24s\tremaining: 3m 27s\n"
     ]
    },
    {
     "name": "stdout",
     "output_type": "stream",
     "text": [
      "2875:\tlearn: 0.8367158\ttest: 0.7914427\tbest: 0.7922632 (2454)\ttotal: 9m 29s\tremaining: 3m 22s\n"
     ]
    },
    {
     "name": "stdout",
     "output_type": "stream",
     "text": [
      "2900:\tlearn: 0.8373123\ttest: 0.7917661\tbest: 0.7922632 (2454)\ttotal: 9m 34s\tremaining: 3m 17s\n"
     ]
    },
    {
     "name": "stdout",
     "output_type": "stream",
     "text": [
      "2925:\tlearn: 0.8376466\ttest: 0.7918540\tbest: 0.7922632 (2454)\ttotal: 9m 39s\tremaining: 3m 12s\n"
     ]
    },
    {
     "name": "stdout",
     "output_type": "stream",
     "text": [
      "2950:\tlearn: 0.8378750\ttest: 0.7917124\tbest: 0.7922632 (2454)\ttotal: 9m 44s\tremaining: 3m 7s\n"
     ]
    },
    {
     "name": "stdout",
     "output_type": "stream",
     "text": [
      "2975:\tlearn: 0.8382452\ttest: 0.7913782\tbest: 0.7922632 (2454)\ttotal: 9m 49s\tremaining: 3m 2s\n"
     ]
    },
    {
     "name": "stdout",
     "output_type": "stream",
     "text": [
      "3000:\tlearn: 0.8386798\ttest: 0.7919899\tbest: 0.7922632 (2454)\ttotal: 9m 53s\tremaining: 2m 57s\n"
     ]
    },
    {
     "name": "stdout",
     "output_type": "stream",
     "text": [
      "3025:\tlearn: 0.8389753\ttest: 0.7921204\tbest: 0.7922632 (2454)\ttotal: 9m 58s\tremaining: 2m 52s\n"
     ]
    },
    {
     "name": "stdout",
     "output_type": "stream",
     "text": [
      "3050:\tlearn: 0.8393293\ttest: 0.7918330\tbest: 0.7922632 (2454)\ttotal: 10m 3s\tremaining: 2m 48s\n"
     ]
    },
    {
     "name": "stdout",
     "output_type": "stream",
     "text": [
      "3075:\tlearn: 0.8396714\ttest: 0.7920080\tbest: 0.7922632 (2454)\ttotal: 10m 8s\tremaining: 2m 43s\n"
     ]
    },
    {
     "name": "stdout",
     "output_type": "stream",
     "text": [
      "3100:\tlearn: 0.8401182\ttest: 0.7919308\tbest: 0.7922632 (2454)\ttotal: 10m 13s\tremaining: 2m 38s\n"
     ]
    },
    {
     "name": "stdout",
     "output_type": "stream",
     "text": [
      "3125:\tlearn: 0.8403929\ttest: 0.7917439\tbest: 0.7922632 (2454)\ttotal: 10m 18s\tremaining: 2m 33s\n"
     ]
    },
    {
     "name": "stdout",
     "output_type": "stream",
     "text": [
      "3150:\tlearn: 0.8408722\ttest: 0.7918354\tbest: 0.7922632 (2454)\ttotal: 10m 23s\tremaining: 2m 28s\n"
     ]
    },
    {
     "name": "stdout",
     "output_type": "stream",
     "text": [
      "3175:\tlearn: 0.8412616\ttest: 0.7916972\tbest: 0.7922632 (2454)\ttotal: 10m 28s\tremaining: 2m 23s\n"
     ]
    },
    {
     "name": "stdout",
     "output_type": "stream",
     "text": [
      "3200:\tlearn: 0.8416836\ttest: 0.7918038\tbest: 0.7922632 (2454)\ttotal: 10m 33s\tremaining: 2m 18s\n"
     ]
    },
    {
     "name": "stdout",
     "output_type": "stream",
     "text": [
      "3225:\tlearn: 0.8422568\ttest: 0.7917606\tbest: 0.7922632 (2454)\ttotal: 10m 38s\tremaining: 2m 13s\n"
     ]
    },
    {
     "name": "stdout",
     "output_type": "stream",
     "text": [
      "3250:\tlearn: 0.8424476\ttest: 0.7916825\tbest: 0.7922632 (2454)\ttotal: 10m 43s\tremaining: 2m 8s\n"
     ]
    },
    {
     "name": "stdout",
     "output_type": "stream",
     "text": [
      "3275:\tlearn: 0.8428320\ttest: 0.7918267\tbest: 0.7922632 (2454)\ttotal: 10m 48s\tremaining: 2m 3s\n"
     ]
    },
    {
     "name": "stdout",
     "output_type": "stream",
     "text": [
      "3300:\tlearn: 0.8430827\ttest: 0.7921215\tbest: 0.7922632 (2454)\ttotal: 10m 53s\tremaining: 1m 58s\n"
     ]
    },
    {
     "name": "stdout",
     "output_type": "stream",
     "text": [
      "3325:\tlearn: 0.8434670\ttest: 0.7922072\tbest: 0.7923562 (3322)\ttotal: 10m 58s\tremaining: 1m 53s\n"
     ]
    },
    {
     "name": "stdout",
     "output_type": "stream",
     "text": [
      "3350:\tlearn: 0.8437834\ttest: 0.7925434\tbest: 0.7925434 (3350)\ttotal: 11m 3s\tremaining: 1m 48s\n"
     ]
    },
    {
     "name": "stdout",
     "output_type": "stream",
     "text": [
      "3375:\tlearn: 0.8441739\ttest: 0.7926066\tbest: 0.7926073 (3356)\ttotal: 11m 7s\tremaining: 1m 43s\n"
     ]
    },
    {
     "name": "stdout",
     "output_type": "stream",
     "text": [
      "3400:\tlearn: 0.8443479\ttest: 0.7926080\tbest: 0.7927348 (3391)\ttotal: 11m 12s\tremaining: 1m 38s\n"
     ]
    },
    {
     "name": "stdout",
     "output_type": "stream",
     "text": [
      "3425:\tlearn: 0.8446594\ttest: 0.7926123\tbest: 0.7927348 (3391)\ttotal: 11m 17s\tremaining: 1m 33s\n"
     ]
    },
    {
     "name": "stdout",
     "output_type": "stream",
     "text": [
      "3450:\tlearn: 0.8449466\ttest: 0.7926143\tbest: 0.7927348 (3391)\ttotal: 11m 22s\tremaining: 1m 28s\n"
     ]
    },
    {
     "name": "stdout",
     "output_type": "stream",
     "text": [
      "3475:\tlearn: 0.8452895\ttest: 0.7926148\tbest: 0.7927348 (3391)\ttotal: 11m 27s\tremaining: 1m 23s\n"
     ]
    },
    {
     "name": "stdout",
     "output_type": "stream",
     "text": [
      "3500:\tlearn: 0.8458455\ttest: 0.7924671\tbest: 0.7927348 (3391)\ttotal: 11m 32s\tremaining: 1m 18s\n"
     ]
    },
    {
     "name": "stdout",
     "output_type": "stream",
     "text": [
      "3525:\tlearn: 0.8463211\ttest: 0.7923445\tbest: 0.7927348 (3391)\ttotal: 11m 37s\tremaining: 1m 13s\n"
     ]
    },
    {
     "name": "stdout",
     "output_type": "stream",
     "text": [
      "3550:\tlearn: 0.8464930\ttest: 0.7922662\tbest: 0.7927348 (3391)\ttotal: 11m 42s\tremaining: 1m 9s\n"
     ]
    },
    {
     "name": "stdout",
     "output_type": "stream",
     "text": [
      "3575:\tlearn: 0.8469352\ttest: 0.7921875\tbest: 0.7927348 (3391)\ttotal: 11m 47s\tremaining: 1m 4s\n"
     ]
    },
    {
     "name": "stdout",
     "output_type": "stream",
     "text": [
      "3600:\tlearn: 0.8472615\ttest: 0.7921918\tbest: 0.7927348 (3391)\ttotal: 11m 52s\tremaining: 59.2s\n"
     ]
    },
    {
     "name": "stdout",
     "output_type": "stream",
     "text": [
      "3625:\tlearn: 0.8477821\ttest: 0.7919232\tbest: 0.7927348 (3391)\ttotal: 11m 57s\tremaining: 54.2s\n"
     ]
    },
    {
     "name": "stdout",
     "output_type": "stream",
     "text": [
      "3650:\tlearn: 0.8481881\ttest: 0.7918878\tbest: 0.7927348 (3391)\ttotal: 12m 2s\tremaining: 49.3s\n"
     ]
    },
    {
     "name": "stdout",
     "output_type": "stream",
     "text": [
      "3675:\tlearn: 0.8484788\ttest: 0.7917239\tbest: 0.7927348 (3391)\ttotal: 12m 7s\tremaining: 44.3s\n"
     ]
    },
    {
     "name": "stdout",
     "output_type": "stream",
     "text": [
      "3700:\tlearn: 0.8488635\ttest: 0.7916420\tbest: 0.7927348 (3391)\ttotal: 12m 12s\tremaining: 39.4s\n"
     ]
    },
    {
     "name": "stdout",
     "output_type": "stream",
     "text": [
      "3725:\tlearn: 0.8491029\ttest: 0.7917959\tbest: 0.7927348 (3391)\ttotal: 12m 17s\tremaining: 34.4s\n"
     ]
    },
    {
     "name": "stdout",
     "output_type": "stream",
     "text": [
      "3750:\tlearn: 0.8495523\ttest: 0.7918188\tbest: 0.7927348 (3391)\ttotal: 12m 22s\tremaining: 29.5s\n"
     ]
    },
    {
     "name": "stdout",
     "output_type": "stream",
     "text": [
      "3775:\tlearn: 0.8496889\ttest: 0.7918013\tbest: 0.7927348 (3391)\ttotal: 12m 27s\tremaining: 24.5s\n"
     ]
    },
    {
     "name": "stdout",
     "output_type": "stream",
     "text": [
      "3800:\tlearn: 0.8502225\ttest: 0.7919106\tbest: 0.7927348 (3391)\ttotal: 12m 32s\tremaining: 19.6s\n"
     ]
    },
    {
     "name": "stdout",
     "output_type": "stream",
     "text": [
      "3825:\tlearn: 0.8505433\ttest: 0.7920360\tbest: 0.7927348 (3391)\ttotal: 12m 36s\tremaining: 14.6s\n"
     ]
    },
    {
     "name": "stdout",
     "output_type": "stream",
     "text": [
      "3850:\tlearn: 0.8508675\ttest: 0.7918666\tbest: 0.7927348 (3391)\ttotal: 12m 41s\tremaining: 9.69s\n"
     ]
    },
    {
     "name": "stdout",
     "output_type": "stream",
     "text": [
      "3875:\tlearn: 0.8512106\ttest: 0.7919107\tbest: 0.7927348 (3391)\ttotal: 12m 46s\tremaining: 4.75s\n"
     ]
    },
    {
     "name": "stdout",
     "output_type": "stream",
     "text": [
      "3899:\tlearn: 0.8516251\ttest: 0.7920597\tbest: 0.7927348 (3391)\ttotal: 12m 51s\tremaining: 0us\n",
      "\n",
      "bestTest = 0.7927347612\n",
      "bestIteration = 3391\n",
      "\n"
     ]
    },
    {
     "name": "stdout",
     "output_type": "stream",
     "text": [
      "Training time: 65.01668333609899 min.\n",
      "OOF recall_at4: 0.6638502709799037\n",
      "OOF normalized_gini: 0.9240959179448726\n",
      "OOF competition metric: 0.7939730944623882\n"
     ]
    },
    {
     "name": "stdout",
     "output_type": "stream",
     "text": [
      "CPU times: user 1d 6h 45min 34s, sys: 45min 45s, total: 1d 7h 31min 20s\n",
      "Wall time: 3h 15min 32s\n"
     ]
    }
   ],
   "source": [
    "%%time \n",
    "\n",
    "all_models = list()\n",
    "all_oof_dfs = list()\n",
    "\n",
    "for repetition in range(N_REPEATS):\n",
    "    print(f\" repeated cross-validation step: {repetition+1}/{N_REPEATS} \".center(100, \"#\"))\n",
    "\n",
    "    folds = pd.read_csv(f'../data/processed/cv{repetition}.csv', index_col=\"customer_ID\")\n",
    "    _train = pd.merge(train, folds, how=\"inner\", left_index=True, right_index=True).reset_index(drop=True)\n",
    "    \n",
    "    tic = time.time()\n",
    "    models,oof = train_models(_train)\n",
    "    tac = time.time()\n",
    "    print(f\"Training time: {(tac-tic)/60} min.\")\n",
    "          \n",
    "    # oof metrics\n",
    "    print(\"OOF recall_at4:\", compute_recall_at4(oof.target.values, oof.pred.values))\n",
    "    print(\"OOF normalized_gini:\", compute_normalized_gini(oof.target.values, oof.pred.values))\n",
    "    print(\"OOF competition metric:\", compute_amex_metric(oof.target.values, oof.pred.values))\n",
    "    \n",
    "    all_models.append(models)\n",
    "    all_oof_dfs.append(oof)\n",
    "    \n",
    "    # save oof predictions\n",
    "    oof.to_csv(OOF_PATH/f\"oof-cv{repetition}.csv\", index=False)\n",
    "    # save models\n",
    "    for fold,_model in enumerate(models):\n",
    "        _model.save_model(ART_PATH/f\"/model-cv{repetition}-fold{fold}.cbm\", format=\"cbm\")\n",
    "          \n",
    "    del _train, folds; gc.collect()"
   ]
  },
  {
   "cell_type": "code",
   "execution_count": 13,
   "id": "4bce72d4",
   "metadata": {
    "execution": {
     "iopub.execute_input": "2022-07-18T16:47:55.901626Z",
     "iopub.status.busy": "2022-07-18T16:47:55.588204Z",
     "iopub.status.idle": "2022-07-18T16:47:56.164086Z",
     "shell.execute_reply": "2022-07-18T16:47:56.163672Z"
    },
    "papermill": {
     "duration": 1.073332,
     "end_time": "2022-07-18T16:47:56.164209",
     "exception": false,
     "start_time": "2022-07-18T16:47:55.090877",
     "status": "completed"
    },
    "tags": []
   },
   "outputs": [
    {
     "data": {
      "text/html": [
       "<div>\n",
       "<style scoped>\n",
       "    .dataframe tbody tr th:only-of-type {\n",
       "        vertical-align: middle;\n",
       "    }\n",
       "\n",
       "    .dataframe tbody tr th {\n",
       "        vertical-align: top;\n",
       "    }\n",
       "\n",
       "    .dataframe thead th {\n",
       "        text-align: right;\n",
       "    }\n",
       "</style>\n",
       "<table border=\"1\" class=\"dataframe\">\n",
       "  <thead>\n",
       "    <tr style=\"text-align: right;\">\n",
       "      <th></th>\n",
       "      <th>recall_at4</th>\n",
       "      <th>gini</th>\n",
       "      <th>metric</th>\n",
       "    </tr>\n",
       "  </thead>\n",
       "  <tbody>\n",
       "    <tr>\n",
       "      <th>0</th>\n",
       "      <td>0.662983</td>\n",
       "      <td>0.924059</td>\n",
       "      <td>0.793521</td>\n",
       "    </tr>\n",
       "    <tr>\n",
       "      <th>1</th>\n",
       "      <td>0.665281</td>\n",
       "      <td>0.924104</td>\n",
       "      <td>0.794693</td>\n",
       "    </tr>\n",
       "    <tr>\n",
       "      <th>2</th>\n",
       "      <td>0.663850</td>\n",
       "      <td>0.924096</td>\n",
       "      <td>0.793973</td>\n",
       "    </tr>\n",
       "  </tbody>\n",
       "</table>\n",
       "</div>"
      ],
      "text/plain": [
       "   recall_at4      gini    metric\n",
       "0    0.662983  0.924059  0.793521\n",
       "1    0.665281  0.924104  0.794693\n",
       "2    0.663850  0.924096  0.793973"
      ]
     },
     "metadata": {},
     "output_type": "display_data"
    },
    {
     "name": "stdout",
     "output_type": "stream",
     "text": [
      "\n",
      "mean:\n"
     ]
    },
    {
     "data": {
      "text/plain": [
       "recall_at4    0.664038\n",
       "gini          0.924086\n",
       "metric        0.794062\n",
       "dtype: float64"
      ]
     },
     "metadata": {},
     "output_type": "display_data"
    },
    {
     "name": "stdout",
     "output_type": "stream",
     "text": [
      "\n",
      "std:\n"
     ]
    },
    {
     "data": {
      "text/plain": [
       "recall_at4    0.001160\n",
       "gini          0.000024\n",
       "metric        0.000591\n",
       "dtype: float64"
      ]
     },
     "metadata": {},
     "output_type": "display_data"
    }
   ],
   "source": [
    "results = list()\n",
    "\n",
    "for oof in all_oof_dfs:  \n",
    "    r = {\n",
    "        \"recall_at4\": compute_recall_at4(oof.target.values, oof.pred.values),\n",
    "        \"gini\": compute_normalized_gini(oof.target.values, oof.pred.values),\n",
    "        \"metric\": compute_amex_metric(oof.target.values, oof.pred.values),\n",
    "    }\n",
    "    results.append(r)\n",
    "\n",
    "results = pd.DataFrame(results)\n",
    "display(results)\n",
    "\n",
    "print(\"\\nmean:\")\n",
    "display(results.mean(axis=0))\n",
    "\n",
    "print(\"\\nstd:\")\n",
    "display(results.std(axis=0))"
   ]
  },
  {
   "cell_type": "code",
   "execution_count": 14,
   "id": "74dbbe76",
   "metadata": {
    "execution": {
     "iopub.execute_input": "2022-07-18T16:47:57.208997Z",
     "iopub.status.busy": "2022-07-18T16:47:57.208444Z",
     "iopub.status.idle": "2022-07-18T16:47:57.210520Z",
     "shell.execute_reply": "2022-07-18T16:47:57.210876Z"
    },
    "papermill": {
     "duration": 0.584502,
     "end_time": "2022-07-18T16:47:57.211040",
     "exception": false,
     "start_time": "2022-07-18T16:47:56.626538",
     "status": "completed"
    },
    "tags": []
   },
   "outputs": [
    {
     "data": {
      "text/plain": [
       "21"
      ]
     },
     "execution_count": 14,
     "metadata": {},
     "output_type": "execute_result"
    }
   ],
   "source": [
    "del train\n",
    "gc.collect()"
   ]
  },
  {
   "cell_type": "markdown",
   "id": "710f6441",
   "metadata": {
    "papermill": {
     "duration": 0.450393,
     "end_time": "2022-07-18T16:47:58.177763",
     "exception": false,
     "start_time": "2022-07-18T16:47:57.727370",
     "status": "completed"
    },
    "tags": []
   },
   "source": [
    "***\n",
    "## make predictions and submit"
   ]
  },
  {
   "cell_type": "code",
   "execution_count": 15,
   "id": "bc8b17e7",
   "metadata": {
    "execution": {
     "iopub.execute_input": "2022-07-18T16:47:59.037890Z",
     "iopub.status.busy": "2022-07-18T16:47:59.037385Z",
     "iopub.status.idle": "2022-07-18T16:47:59.038912Z",
     "shell.execute_reply": "2022-07-18T16:47:59.039317Z"
    },
    "papermill": {
     "duration": 0.432399,
     "end_time": "2022-07-18T16:47:59.039467",
     "exception": false,
     "start_time": "2022-07-18T16:47:58.607068",
     "status": "completed"
    },
    "tags": []
   },
   "outputs": [],
   "source": [
    "def make_predictions(dataframe:pd.DataFrame, input_feats:list, models:list) -> np.array:\n",
    "    preds = [\n",
    "        model.predict(dataframe[input_feats], prediction_type=\"Probability\")[:,1] \n",
    "        for model in models\n",
    "    ]\n",
    "    return np.mean(preds, axis=0)    "
   ]
  },
  {
   "cell_type": "code",
   "execution_count": 16,
   "id": "51b65ff5",
   "metadata": {
    "execution": {
     "iopub.execute_input": "2022-07-18T16:47:59.928205Z",
     "iopub.status.busy": "2022-07-18T16:47:59.927557Z",
     "iopub.status.idle": "2022-07-18T16:48:03.637437Z",
     "shell.execute_reply": "2022-07-18T16:48:03.636930Z"
    },
    "papermill": {
     "duration": 4.139434,
     "end_time": "2022-07-18T16:48:03.637571",
     "exception": false,
     "start_time": "2022-07-18T16:47:59.498137",
     "status": "completed"
    },
    "tags": []
   },
   "outputs": [],
   "source": [
    "test = pd.read_parquet(\"../data/processed/dsv02/test.parquet\")\n",
    "sub = pd.read_csv(\"../data/raw/sample_submission.csv\")"
   ]
  },
  {
   "cell_type": "code",
   "execution_count": 17,
   "id": "c89c60c6",
   "metadata": {
    "execution": {
     "iopub.execute_input": "2022-07-18T16:48:04.640598Z",
     "iopub.status.busy": "2022-07-18T16:48:04.636959Z",
     "iopub.status.idle": "2022-07-18T16:49:59.821708Z",
     "shell.execute_reply": "2022-07-18T16:49:59.822126Z"
    },
    "papermill": {
     "duration": 115.644023,
     "end_time": "2022-07-18T16:49:59.822270",
     "exception": false,
     "start_time": "2022-07-18T16:48:04.178247",
     "status": "completed"
    },
    "tags": []
   },
   "outputs": [
    {
     "name": "stdout",
     "output_type": "stream",
     "text": [
      "CPU times: user 8min 19s, sys: 14 s, total: 8min 33s\n",
      "Wall time: 1min 54s\n"
     ]
    }
   ],
   "source": [
    "%%time\n",
    "\n",
    "all_preds = list()\n",
    "\n",
    "for repetition in range(N_REPEATS):\n",
    "    if \"prediction\" in sub.columns:\n",
    "        sub.drop(\"prediction\", axis=1, inplace=True)\n",
    "    if \"prediction\" in test.columns:\n",
    "        test.drop(\"prediction\", axis=1, inplace=True)\n",
    "        \n",
    "    models = all_models[repetition]\n",
    "    preds = make_predictions(test, input_feats, models)\n",
    "    all_preds.append(preds)\n",
    "       \n",
    "    test[\"prediction\"] = preds\n",
    "    sub[\"prediction\"] = test.loc[sub.customer_ID.values,\"prediction\"].values\n",
    "    assert sub.prediction.isna().sum() == 0\n",
    "    sub.to_csv(SUB_PATH/f\"submission-cv{repetition}.csv\", index=False)"
   ]
  },
  {
   "cell_type": "code",
   "execution_count": 18,
   "id": "c3b1deb2",
   "metadata": {
    "execution": {
     "iopub.execute_input": "2022-07-18T16:50:00.715013Z",
     "iopub.status.busy": "2022-07-18T16:50:00.714475Z",
     "iopub.status.idle": "2022-07-18T16:50:05.357496Z",
     "shell.execute_reply": "2022-07-18T16:50:05.357066Z"
    },
    "papermill": {
     "duration": 5.087521,
     "end_time": "2022-07-18T16:50:05.357624",
     "exception": false,
     "start_time": "2022-07-18T16:50:00.270103",
     "status": "completed"
    },
    "tags": []
   },
   "outputs": [
    {
     "name": "stdout",
     "output_type": "stream",
     "text": [
      "CPU times: user 3.53 s, sys: 812 ms, total: 4.34 s\n",
      "Wall time: 4.64 s\n"
     ]
    }
   ],
   "source": [
    "%%time\n",
    "# predict using all the trained models\n",
    "if \"prediction\" in sub.columns:\n",
    "    sub.drop(\"prediction\", axis=1, inplace=True)\n",
    "if \"prediction\" in test.columns:\n",
    "    test.drop(\"prediction\", axis=1, inplace=True)\n",
    "\n",
    "test[\"prediction\"] = np.mean(all_preds, axis=0)\n",
    "sub[\"prediction\"] = test.loc[sub.customer_ID.values,\"prediction\"].values\n",
    "assert sub.prediction.isna().sum() == 0\n",
    "sub.to_csv(SUB_PATH/f\"submission-all.csv\", index=False)"
   ]
  },
  {
   "cell_type": "markdown",
   "id": "b600a625",
   "metadata": {
    "papermill": {
     "duration": 0.541579,
     "end_time": "2022-07-18T16:50:06.445220",
     "exception": false,
     "start_time": "2022-07-18T16:50:05.903641",
     "status": "completed"
    },
    "tags": []
   },
   "source": [
    "***"
   ]
  }
 ],
 "metadata": {
  "kernelspec": {
   "display_name": "Python 3 (ipykernel)",
   "language": "python",
   "name": "python3"
  },
  "language_info": {
   "codemirror_mode": {
    "name": "ipython",
    "version": 3
   },
   "file_extension": ".py",
   "mimetype": "text/x-python",
   "name": "python",
   "nbconvert_exporter": "python",
   "pygments_lexer": "ipython3",
   "version": "3.7.12"
  },
  "papermill": {
   "default_parameters": {},
   "duration": 11877.580148,
   "end_time": "2022-07-18T16:50:08.475240",
   "environment_variables": {},
   "exception": null,
   "input_path": "train/catboost-dsv02.ipynb",
   "output_path": "train/outputs/catboost-dsv02.ipynb",
   "parameters": {},
   "start_time": "2022-07-18T13:32:10.895092",
   "version": "2.3.3"
  }
 },
 "nbformat": 4,
 "nbformat_minor": 5
}