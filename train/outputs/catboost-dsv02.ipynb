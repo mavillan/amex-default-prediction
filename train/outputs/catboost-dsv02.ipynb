{
 "cells": [
  {
   "cell_type": "code",
   "execution_count": 1,
   "id": "1d2e4d9d",
   "metadata": {
    "_cell_guid": "b1076dfc-b9ad-4769-8c92-a6c4dae69d19",
    "_uuid": "8f2839f25d086af736a60e9eeb907d3b93b6e0e5",
    "execution": {
     "iopub.execute_input": "2022-07-15T05:57:12.312477Z",
     "iopub.status.busy": "2022-07-15T05:57:12.311996Z",
     "iopub.status.idle": "2022-07-15T05:57:12.913231Z",
     "shell.execute_reply": "2022-07-15T05:57:12.912676Z"
    },
    "papermill": {
     "duration": 0.620802,
     "end_time": "2022-07-15T05:57:12.913384",
     "exception": false,
     "start_time": "2022-07-15T05:57:12.292582",
     "status": "completed"
    },
    "tags": []
   },
   "outputs": [],
   "source": [
    "import gc\n",
    "from glob import glob\n",
    "import numpy as np\n",
    "import pandas as pd\n",
    "import matplotlib.pyplot as plt\n",
    "from pathlib import Path\n",
    "import time\n",
    "\n",
    "import category_encoders as ce\n",
    "import catboost\n",
    "from sklearn import metrics\n",
    "\n",
    "import sys\n",
    "sys.path.append(\"../utils\")\n",
    "from metrics import compute_recall_at4, compute_normalized_gini, compute_amex_metric\n",
    "#from messaging import send_message\n",
    "\n",
    "pd.set_option('display.max_columns', None)"
   ]
  },
  {
   "cell_type": "code",
   "execution_count": 2,
   "id": "17744036",
   "metadata": {
    "execution": {
     "iopub.execute_input": "2022-07-15T05:57:12.944092Z",
     "iopub.status.busy": "2022-07-15T05:57:12.943588Z",
     "iopub.status.idle": "2022-07-15T05:57:12.945270Z",
     "shell.execute_reply": "2022-07-15T05:57:12.945629Z"
    },
    "papermill": {
     "duration": 0.020693,
     "end_time": "2022-07-15T05:57:12.945757",
     "exception": false,
     "start_time": "2022-07-15T05:57:12.925064",
     "status": "completed"
    },
    "tags": []
   },
   "outputs": [],
   "source": [
    "# metrics in catboost format\n",
    "class AmexMetric:\n",
    "    \n",
    "    def is_max_optimal(self):\n",
    "        return True\n",
    "\n",
    "    def evaluate(self, approxes, target, weight):    \n",
    "        assert len(approxes) == 1\n",
    "        assert len(target) == len(approxes[0])\n",
    "        scores = approxes[0]\n",
    "        target = target\n",
    "        return compute_amex_metric(target, scores), 1.\n",
    "\n",
    "    def get_final_error(self, error, weight):\n",
    "        return error\n",
    "\n",
    "class RecallAt4:\n",
    "    \n",
    "    def is_max_optimal(self):\n",
    "        return True\n",
    "\n",
    "    def evaluate(self, approxes, target, weight):\n",
    "        assert len(approxes) == 1\n",
    "        assert len(target) == len(approxes[0])\n",
    "        scores = np.array(approxes[0])\n",
    "        target = np.array(target)                                   \n",
    "        return compute_recall_at4(target, scores), 1.\n",
    "\n",
    "    def get_final_error(self, error, weight):\n",
    "        return error\n",
    "\n",
    "class NormGini:\n",
    "    \n",
    "    def is_max_optimal(self):\n",
    "        return True\n",
    "\n",
    "    def evaluate(self, approxes, target, weight):\n",
    "        assert len(approxes) == 1\n",
    "        assert len(target) == len(approxes[0])\n",
    "        scores = np.array(approxes[0])\n",
    "        target = np.array(target)                   \n",
    "        return compute_normalized_gini(target, scores), 1.\n",
    "\n",
    "    def get_final_error(self, error, weight):\n",
    "        return error"
   ]
  },
  {
   "cell_type": "code",
   "execution_count": 3,
   "id": "9a2fdeff",
   "metadata": {
    "execution": {
     "iopub.execute_input": "2022-07-15T05:57:12.972399Z",
     "iopub.status.busy": "2022-07-15T05:57:12.971849Z",
     "iopub.status.idle": "2022-07-15T05:57:12.973368Z",
     "shell.execute_reply": "2022-07-15T05:57:12.973745Z"
    },
    "papermill": {
     "duration": 0.017392,
     "end_time": "2022-07-15T05:57:12.973872",
     "exception": false,
     "start_time": "2022-07-15T05:57:12.956480",
     "status": "completed"
    },
    "tags": []
   },
   "outputs": [],
   "source": [
    "# CONFIG PARAMS\n",
    "N_REPEATS = 3"
   ]
  },
  {
   "cell_type": "code",
   "execution_count": 4,
   "id": "7e4a12b5",
   "metadata": {
    "execution": {
     "iopub.execute_input": "2022-07-15T05:57:12.999842Z",
     "iopub.status.busy": "2022-07-15T05:57:12.999373Z",
     "iopub.status.idle": "2022-07-15T05:57:13.001266Z",
     "shell.execute_reply": "2022-07-15T05:57:13.001626Z"
    },
    "papermill": {
     "duration": 0.017047,
     "end_time": "2022-07-15T05:57:13.001752",
     "exception": false,
     "start_time": "2022-07-15T05:57:12.984705",
     "status": "completed"
    },
    "tags": []
   },
   "outputs": [],
   "source": [
    "OOF_PATH = Path(\"../data/oof/catboost-dsv02\")\n",
    "SUB_PATH = Path(\"../data/subs/catboost-dsv02\")\n",
    "ART_PATH = Path(\"../artifacts/catboost-dsv02\")\n",
    "\n",
    "if not OOF_PATH.exists():\n",
    "    OOF_PATH.mkdir(parents=True, exist_ok=True)\n",
    "if not SUB_PATH.exists():\n",
    "    SUB_PATH.mkdir(parents=True, exist_ok=True)\n",
    "if not ART_PATH.exists():\n",
    "    ART_PATH.mkdir(parents=True, exist_ok=True)"
   ]
  },
  {
   "cell_type": "markdown",
   "id": "a127328b",
   "metadata": {
    "papermill": {
     "duration": 0.010932,
     "end_time": "2022-07-15T05:57:13.023551",
     "exception": false,
     "start_time": "2022-07-15T05:57:13.012619",
     "status": "completed"
    },
    "tags": []
   },
   "source": [
    "***\n",
    "## load and prepare data"
   ]
  },
  {
   "cell_type": "code",
   "execution_count": 5,
   "id": "1ba311ad",
   "metadata": {
    "execution": {
     "iopub.execute_input": "2022-07-15T05:57:13.049773Z",
     "iopub.status.busy": "2022-07-15T05:57:13.049258Z",
     "iopub.status.idle": "2022-07-15T05:57:13.168883Z",
     "shell.execute_reply": "2022-07-15T05:57:13.169292Z"
    },
    "papermill": {
     "duration": 0.134764,
     "end_time": "2022-07-15T05:57:13.169457",
     "exception": false,
     "start_time": "2022-07-15T05:57:13.034693",
     "status": "completed"
    },
    "tags": []
   },
   "outputs": [
    {
     "name": "stdout",
     "output_type": "stream",
     "text": [
      "test.parquet  train.parquet\r\n"
     ]
    }
   ],
   "source": [
    "!ls ../data/processed/dsv02"
   ]
  },
  {
   "cell_type": "code",
   "execution_count": 6,
   "id": "d06676e7",
   "metadata": {
    "execution": {
     "iopub.execute_input": "2022-07-15T05:57:13.197463Z",
     "iopub.status.busy": "2022-07-15T05:57:13.196932Z",
     "iopub.status.idle": "2022-07-15T05:57:15.339920Z",
     "shell.execute_reply": "2022-07-15T05:57:15.339448Z"
    },
    "papermill": {
     "duration": 2.15879,
     "end_time": "2022-07-15T05:57:15.340053",
     "exception": false,
     "start_time": "2022-07-15T05:57:13.181263",
     "status": "completed"
    },
    "tags": []
   },
   "outputs": [],
   "source": [
    "train = pd.read_parquet(\"../data/processed/dsv02/train.parquet\")\n",
    "train_labels = pd.read_csv(\"../data/raw/train_labels.csv\", index_col=\"customer_ID\")"
   ]
  },
  {
   "cell_type": "code",
   "execution_count": 7,
   "id": "91047bb8",
   "metadata": {
    "execution": {
     "iopub.execute_input": "2022-07-15T05:57:15.370735Z",
     "iopub.status.busy": "2022-07-15T05:57:15.370224Z",
     "iopub.status.idle": "2022-07-15T05:57:15.372403Z",
     "shell.execute_reply": "2022-07-15T05:57:15.372753Z"
    },
    "papermill": {
     "duration": 0.021213,
     "end_time": "2022-07-15T05:57:15.372890",
     "exception": false,
     "start_time": "2022-07-15T05:57:15.351677",
     "status": "completed"
    },
    "tags": []
   },
   "outputs": [
    {
     "data": {
      "text/plain": [
       "1562"
      ]
     },
     "execution_count": 7,
     "metadata": {},
     "output_type": "execute_result"
    }
   ],
   "source": [
    "input_feats = train.columns.tolist()\n",
    "categ_feats = [\n",
    "    'B_30_first', 'B_38_first', 'D_114_first', 'D_116_first', 'D_117_first', \n",
    "    'D_120_first', 'D_126_first', 'D_63_first', 'D_64_first', 'D_66_first', 'D_68_first',\n",
    "    'B_30_last', 'B_38_last', 'D_114_last', 'D_116_last', 'D_117_last', \n",
    "    'D_120_last', 'D_126_last', 'D_63_last', 'D_64_last', 'D_66_last', 'D_68_last',\n",
    "]\n",
    "len(input_feats)"
   ]
  },
  {
   "cell_type": "code",
   "execution_count": 8,
   "id": "f8b86d72",
   "metadata": {
    "execution": {
     "iopub.execute_input": "2022-07-15T05:57:15.597506Z",
     "iopub.status.busy": "2022-07-15T05:57:15.594871Z",
     "iopub.status.idle": "2022-07-15T05:57:17.681226Z",
     "shell.execute_reply": "2022-07-15T05:57:17.681595Z"
    },
    "papermill": {
     "duration": 2.296641,
     "end_time": "2022-07-15T05:57:17.681744",
     "exception": false,
     "start_time": "2022-07-15T05:57:15.385103",
     "status": "completed"
    },
    "tags": []
   },
   "outputs": [
    {
     "data": {
      "text/plain": [
       "0"
      ]
     },
     "execution_count": 8,
     "metadata": {},
     "output_type": "execute_result"
    }
   ],
   "source": [
    "train = pd.merge(train, train_labels, how=\"inner\", left_index=True, right_index=True)\n",
    "del train_labels\n",
    "gc.collect()"
   ]
  },
  {
   "cell_type": "markdown",
   "id": "fb85ba8b",
   "metadata": {
    "papermill": {
     "duration": 0.012152,
     "end_time": "2022-07-15T05:57:17.706067",
     "exception": false,
     "start_time": "2022-07-15T05:57:17.693915",
     "status": "completed"
    },
    "tags": []
   },
   "source": [
    "***\n",
    "## model training\n",
    "\n",
    "train with repeated cross validation"
   ]
  },
  {
   "cell_type": "code",
   "execution_count": 9,
   "id": "487cf584",
   "metadata": {
    "execution": {
     "iopub.execute_input": "2022-07-15T05:57:17.734786Z",
     "iopub.status.busy": "2022-07-15T05:57:17.734297Z",
     "iopub.status.idle": "2022-07-15T05:57:17.735860Z",
     "shell.execute_reply": "2022-07-15T05:57:17.736238Z"
    },
    "papermill": {
     "duration": 0.018089,
     "end_time": "2022-07-15T05:57:17.736382",
     "exception": false,
     "start_time": "2022-07-15T05:57:17.718293",
     "status": "completed"
    },
    "tags": []
   },
   "outputs": [],
   "source": [
    "model_params = {\n",
    "    #'eval_metric':'AUC',\n",
    "    'eval_metric':AmexMetric(),\n",
    "    'depth': 5,\n",
    "    'learning_rate': 0.01,\n",
    "    'iterations': 5000,\n",
    "    'early_stopping_rounds': 300,\n",
    "    'use_best_model':True,\n",
    "    #'subsample': 0.9,\n",
    "    'bootstrap_type':'Bayesian',\n",
    "    'rsm': 0.3,\n",
    "    'l2_leaf_reg': 1.,\n",
    "    'min_data_in_leaf': 1000,\n",
    "    'nan_mode':'Min',\n",
    "    'random_seed': 2112,\n",
    "}"
   ]
  },
  {
   "cell_type": "code",
   "execution_count": 10,
   "id": "d73ac6cb",
   "metadata": {
    "execution": {
     "iopub.execute_input": "2022-07-15T05:57:17.768033Z",
     "iopub.status.busy": "2022-07-15T05:57:17.767537Z",
     "iopub.status.idle": "2022-07-15T05:57:17.769136Z",
     "shell.execute_reply": "2022-07-15T05:57:17.769492Z"
    },
    "papermill": {
     "duration": 0.021211,
     "end_time": "2022-07-15T05:57:17.769619",
     "exception": false,
     "start_time": "2022-07-15T05:57:17.748408",
     "status": "completed"
    },
    "tags": []
   },
   "outputs": [],
   "source": [
    "def train_models(dataframe: pd.DataFrame, n_folds: int = 5,) -> tuple:\n",
    "    \n",
    "    models = list()\n",
    "    \n",
    "    # dataframe to store the oof predictions\n",
    "    oof = dataframe[[\"target\"]].copy()\n",
    "    oof[\"pred\"] = -1\n",
    "\n",
    "    for fold in range(n_folds):\n",
    "        \n",
    "        print(f\" training model {fold+1}/{n_folds} \".center(100, \"#\"))\n",
    "        \n",
    "        train_df = dataframe.query(\"fold != @fold\").copy()\n",
    "        valid_df = dataframe.query(\"fold == @fold\").copy()\n",
    "                \n",
    "        train_dset = catboost.Pool(\n",
    "            data=train_df.loc[:,input_feats],\n",
    "            label=train_df.loc[:,\"target\"].values,\n",
    "            cat_features=categ_feats,\n",
    "        )\n",
    "        valid_dset = catboost.Pool(\n",
    "            data=valid_df.loc[:,input_feats],\n",
    "            label=valid_df.loc[:,\"target\"].values,\n",
    "            cat_features=categ_feats,\n",
    "        )\n",
    "        \n",
    "        model = catboost.CatBoostClassifier(**model_params)\n",
    "        model.fit(\n",
    "            train_dset,\n",
    "            eval_set=valid_dset,\n",
    "            verbose=20\n",
    "        )\n",
    "        \n",
    "        #lgb.plot_importance(model, figsize=(8,15), importance_type=\"split\", max_num_features=30)\n",
    "        #lgb.plot_importance(model, figsize=(8,15), importance_type=\"gain\", max_num_features=30)\n",
    "        #plt.show()        \n",
    "        \n",
    "        oof.loc[valid_df.index,\"pred\"] = model.predict(valid_dset, prediction_type=\"Probability\")[:,1]\n",
    "        \n",
    "        models.append(model)\n",
    "        del train_df,valid_df,train_dset,valid_dset\n",
    "        gc.collect()\n",
    "    \n",
    "    return models,oof"
   ]
  },
  {
   "cell_type": "code",
   "execution_count": 11,
   "id": "d87a4564",
   "metadata": {
    "execution": {
     "iopub.execute_input": "2022-07-15T05:57:17.797685Z",
     "iopub.status.busy": "2022-07-15T05:57:17.796662Z",
     "iopub.status.idle": "2022-07-15T05:57:17.799961Z",
     "shell.execute_reply": "2022-07-15T05:57:17.800340Z"
    },
    "papermill": {
     "duration": 0.0186,
     "end_time": "2022-07-15T05:57:17.800467",
     "exception": false,
     "start_time": "2022-07-15T05:57:17.781867",
     "status": "completed"
    },
    "tags": []
   },
   "outputs": [
    {
     "data": {
      "text/plain": [
       "['../data/processed/cv0.csv',\n",
       " '../data/processed/cv1.csv',\n",
       " '../data/processed/cv2.csv',\n",
       " '../data/processed/cv3.csv',\n",
       " '../data/processed/cv4.csv',\n",
       " '../data/processed/cv5.csv',\n",
       " '../data/processed/cv6.csv',\n",
       " '../data/processed/cv7.csv',\n",
       " '../data/processed/cv8.csv',\n",
       " '../data/processed/cv9.csv']"
      ]
     },
     "execution_count": 11,
     "metadata": {},
     "output_type": "execute_result"
    }
   ],
   "source": [
    "# implement repeated cross validation\n",
    "sorted(glob(\"../data/processed/cv*.csv\"))"
   ]
  },
  {
   "cell_type": "code",
   "execution_count": 12,
   "id": "35f5ae41",
   "metadata": {
    "execution": {
     "iopub.execute_input": "2022-07-15T05:57:17.831788Z",
     "iopub.status.busy": "2022-07-15T05:57:17.831272Z",
     "iopub.status.idle": "2022-07-15T12:03:01.454416Z",
     "shell.execute_reply": "2022-07-15T12:03:01.453996Z"
    },
    "papermill": {
     "duration": 21943.64167,
     "end_time": "2022-07-15T12:03:01.454540",
     "exception": false,
     "start_time": "2022-07-15T05:57:17.812870",
     "status": "completed"
    },
    "tags": []
   },
   "outputs": [
    {
     "name": "stdout",
     "output_type": "stream",
     "text": [
      "############################### repeated cross-validation step: 1/3 ################################\n"
     ]
    },
    {
     "name": "stdout",
     "output_type": "stream",
     "text": [
      "######################################## training model 1/5 ########################################\n"
     ]
    },
    {
     "name": "stdout",
     "output_type": "stream",
     "text": [
      "0:\tlearn: 0.6772284\ttest: 0.6808852\tbest: 0.6808852 (0)\ttotal: 2.93s\tremaining: 4h 3m 50s\n"
     ]
    },
    {
     "name": "stdout",
     "output_type": "stream",
     "text": [
      "20:\tlearn: 0.7320225\ttest: 0.7343627\tbest: 0.7343627 (20)\ttotal: 10.1s\tremaining: 40m 3s\n"
     ]
    },
    {
     "name": "stdout",
     "output_type": "stream",
     "text": [
      "40:\tlearn: 0.7375267\ttest: 0.7405049\tbest: 0.7405049 (40)\ttotal: 17.4s\tremaining: 35m 10s\n"
     ]
    },
    {
     "name": "stdout",
     "output_type": "stream",
     "text": [
      "60:\tlearn: 0.7395320\ttest: 0.7425813\tbest: 0.7425813 (60)\ttotal: 24.8s\tremaining: 33m 30s\n"
     ]
    },
    {
     "name": "stdout",
     "output_type": "stream",
     "text": [
      "80:\tlearn: 0.7428787\ttest: 0.7466779\tbest: 0.7466779 (80)\ttotal: 32.1s\tremaining: 32m 31s\n"
     ]
    },
    {
     "name": "stdout",
     "output_type": "stream",
     "text": [
      "100:\tlearn: 0.7465739\ttest: 0.7508351\tbest: 0.7508351 (100)\ttotal: 39.4s\tremaining: 31m 50s\n"
     ]
    },
    {
     "name": "stdout",
     "output_type": "stream",
     "text": [
      "120:\tlearn: 0.7491971\ttest: 0.7538029\tbest: 0.7538631 (118)\ttotal: 46.8s\tremaining: 31m 28s\n"
     ]
    },
    {
     "name": "stdout",
     "output_type": "stream",
     "text": [
      "140:\tlearn: 0.7520017\ttest: 0.7565971\tbest: 0.7565971 (140)\ttotal: 54.2s\tremaining: 31m 9s\n"
     ]
    },
    {
     "name": "stdout",
     "output_type": "stream",
     "text": [
      "160:\tlearn: 0.7542571\ttest: 0.7586354\tbest: 0.7586354 (160)\ttotal: 1m 1s\tremaining: 31m\n"
     ]
    },
    {
     "name": "stdout",
     "output_type": "stream",
     "text": [
      "180:\tlearn: 0.7565169\ttest: 0.7604939\tbest: 0.7606061 (179)\ttotal: 1m 9s\tremaining: 30m 49s\n"
     ]
    },
    {
     "name": "stdout",
     "output_type": "stream",
     "text": [
      "200:\tlearn: 0.7582129\ttest: 0.7617915\tbest: 0.7618061 (199)\ttotal: 1m 16s\tremaining: 30m 34s\n"
     ]
    },
    {
     "name": "stdout",
     "output_type": "stream",
     "text": [
      "220:\tlearn: 0.7594109\ttest: 0.7634062\tbest: 0.7634202 (215)\ttotal: 1m 24s\tremaining: 30m 23s\n"
     ]
    },
    {
     "name": "stdout",
     "output_type": "stream",
     "text": [
      "240:\tlearn: 0.7611437\ttest: 0.7655026\tbest: 0.7655026 (240)\ttotal: 1m 31s\tremaining: 30m 8s\n"
     ]
    },
    {
     "name": "stdout",
     "output_type": "stream",
     "text": [
      "260:\tlearn: 0.7625838\ttest: 0.7665296\tbest: 0.7665296 (260)\ttotal: 1m 38s\tremaining: 29m 54s\n"
     ]
    },
    {
     "name": "stdout",
     "output_type": "stream",
     "text": [
      "280:\tlearn: 0.7640348\ttest: 0.7674827\tbest: 0.7674827 (280)\ttotal: 1m 46s\tremaining: 29m 42s\n"
     ]
    },
    {
     "name": "stdout",
     "output_type": "stream",
     "text": [
      "300:\tlearn: 0.7651819\ttest: 0.7685712\tbest: 0.7685861 (299)\ttotal: 1m 53s\tremaining: 29m 30s\n"
     ]
    },
    {
     "name": "stdout",
     "output_type": "stream",
     "text": [
      "320:\tlearn: 0.7662246\ttest: 0.7692720\tbest: 0.7694663 (309)\ttotal: 2m\tremaining: 29m 22s\n"
     ]
    },
    {
     "name": "stdout",
     "output_type": "stream",
     "text": [
      "340:\tlearn: 0.7669808\ttest: 0.7699429\tbest: 0.7700153 (337)\ttotal: 2m 7s\tremaining: 29m 8s\n"
     ]
    },
    {
     "name": "stdout",
     "output_type": "stream",
     "text": [
      "360:\tlearn: 0.7678974\ttest: 0.7710155\tbest: 0.7710155 (360)\ttotal: 2m 15s\tremaining: 28m 58s\n"
     ]
    },
    {
     "name": "stdout",
     "output_type": "stream",
     "text": [
      "380:\tlearn: 0.7685470\ttest: 0.7715035\tbest: 0.7715544 (376)\ttotal: 2m 22s\tremaining: 28m 51s\n"
     ]
    },
    {
     "name": "stdout",
     "output_type": "stream",
     "text": [
      "400:\tlearn: 0.7690899\ttest: 0.7719979\tbest: 0.7719979 (400)\ttotal: 2m 29s\tremaining: 28m 39s\n"
     ]
    },
    {
     "name": "stdout",
     "output_type": "stream",
     "text": [
      "420:\tlearn: 0.7697047\ttest: 0.7727820\tbest: 0.7727820 (420)\ttotal: 2m 37s\tremaining: 28m 32s\n"
     ]
    },
    {
     "name": "stdout",
     "output_type": "stream",
     "text": [
      "440:\tlearn: 0.7703541\ttest: 0.7733515\tbest: 0.7733515 (440)\ttotal: 2m 44s\tremaining: 28m 25s\n"
     ]
    },
    {
     "name": "stdout",
     "output_type": "stream",
     "text": [
      "460:\tlearn: 0.7708465\ttest: 0.7739055\tbest: 0.7739055 (460)\ttotal: 2m 52s\tremaining: 28m 15s\n"
     ]
    },
    {
     "name": "stdout",
     "output_type": "stream",
     "text": [
      "480:\tlearn: 0.7715574\ttest: 0.7744695\tbest: 0.7744695 (480)\ttotal: 2m 59s\tremaining: 28m 8s\n"
     ]
    },
    {
     "name": "stdout",
     "output_type": "stream",
     "text": [
      "500:\tlearn: 0.7720734\ttest: 0.7748798\tbest: 0.7750204 (499)\ttotal: 3m 6s\tremaining: 27m 58s\n"
     ]
    },
    {
     "name": "stdout",
     "output_type": "stream",
     "text": [
      "520:\tlearn: 0.7725198\ttest: 0.7753670\tbest: 0.7754705 (513)\ttotal: 3m 14s\tremaining: 27m 51s\n"
     ]
    },
    {
     "name": "stdout",
     "output_type": "stream",
     "text": [
      "540:\tlearn: 0.7731128\ttest: 0.7761639\tbest: 0.7761639 (540)\ttotal: 3m 21s\tremaining: 27m 44s\n"
     ]
    },
    {
     "name": "stdout",
     "output_type": "stream",
     "text": [
      "560:\tlearn: 0.7737567\ttest: 0.7767849\tbest: 0.7767849 (560)\ttotal: 3m 29s\tremaining: 27m 37s\n"
     ]
    },
    {
     "name": "stdout",
     "output_type": "stream",
     "text": [
      "580:\tlearn: 0.7742797\ttest: 0.7770913\tbest: 0.7770913 (580)\ttotal: 3m 37s\tremaining: 27m 30s\n"
     ]
    },
    {
     "name": "stdout",
     "output_type": "stream",
     "text": [
      "600:\tlearn: 0.7745914\ttest: 0.7772501\tbest: 0.7773174 (596)\ttotal: 3m 44s\tremaining: 27m 23s\n"
     ]
    },
    {
     "name": "stdout",
     "output_type": "stream",
     "text": [
      "620:\tlearn: 0.7752531\ttest: 0.7778855\tbest: 0.7779636 (619)\ttotal: 3m 51s\tremaining: 27m 14s\n"
     ]
    },
    {
     "name": "stdout",
     "output_type": "stream",
     "text": [
      "640:\tlearn: 0.7755807\ttest: 0.7783504\tbest: 0.7784292 (635)\ttotal: 3m 59s\tremaining: 27m 6s\n"
     ]
    },
    {
     "name": "stdout",
     "output_type": "stream",
     "text": [
      "660:\tlearn: 0.7760441\ttest: 0.7786835\tbest: 0.7787497 (657)\ttotal: 4m 6s\tremaining: 26m 58s\n"
     ]
    },
    {
     "name": "stdout",
     "output_type": "stream",
     "text": [
      "680:\tlearn: 0.7764872\ttest: 0.7791246\tbest: 0.7791246 (680)\ttotal: 4m 13s\tremaining: 26m 50s\n"
     ]
    },
    {
     "name": "stdout",
     "output_type": "stream",
     "text": [
      "700:\tlearn: 0.7767074\ttest: 0.7794966\tbest: 0.7796182 (699)\ttotal: 4m 21s\tremaining: 26m 43s\n"
     ]
    },
    {
     "name": "stdout",
     "output_type": "stream",
     "text": [
      "720:\tlearn: 0.7771182\ttest: 0.7797681\tbest: 0.7799399 (715)\ttotal: 4m 28s\tremaining: 26m 35s\n"
     ]
    },
    {
     "name": "stdout",
     "output_type": "stream",
     "text": [
      "740:\tlearn: 0.7775335\ttest: 0.7802519\tbest: 0.7803107 (739)\ttotal: 4m 36s\tremaining: 26m 28s\n"
     ]
    },
    {
     "name": "stdout",
     "output_type": "stream",
     "text": [
      "760:\tlearn: 0.7780625\ttest: 0.7806859\tbest: 0.7806859 (760)\ttotal: 4m 43s\tremaining: 26m 19s\n"
     ]
    },
    {
     "name": "stdout",
     "output_type": "stream",
     "text": [
      "780:\tlearn: 0.7784599\ttest: 0.7809758\tbest: 0.7809758 (780)\ttotal: 4m 50s\tremaining: 26m 11s\n"
     ]
    },
    {
     "name": "stdout",
     "output_type": "stream",
     "text": [
      "800:\tlearn: 0.7789041\ttest: 0.7813640\tbest: 0.7813640 (800)\ttotal: 4m 58s\tremaining: 26m 4s\n"
     ]
    },
    {
     "name": "stdout",
     "output_type": "stream",
     "text": [
      "820:\tlearn: 0.7792152\ttest: 0.7818735\tbest: 0.7820383 (819)\ttotal: 5m 5s\tremaining: 25m 56s\n"
     ]
    },
    {
     "name": "stdout",
     "output_type": "stream",
     "text": [
      "840:\tlearn: 0.7796138\ttest: 0.7820224\tbest: 0.7820819 (832)\ttotal: 5m 13s\tremaining: 25m 49s\n"
     ]
    },
    {
     "name": "stdout",
     "output_type": "stream",
     "text": [
      "860:\tlearn: 0.7800057\ttest: 0.7824004\tbest: 0.7825349 (856)\ttotal: 5m 20s\tremaining: 25m 41s\n"
     ]
    },
    {
     "name": "stdout",
     "output_type": "stream",
     "text": [
      "880:\tlearn: 0.7801143\ttest: 0.7829334\tbest: 0.7829685 (878)\ttotal: 5m 27s\tremaining: 25m 32s\n"
     ]
    },
    {
     "name": "stdout",
     "output_type": "stream",
     "text": [
      "900:\tlearn: 0.7805833\ttest: 0.7831635\tbest: 0.7831635 (900)\ttotal: 5m 35s\tremaining: 25m 25s\n"
     ]
    },
    {
     "name": "stdout",
     "output_type": "stream",
     "text": [
      "920:\tlearn: 0.7807371\ttest: 0.7833040\tbest: 0.7834591 (915)\ttotal: 5m 42s\tremaining: 25m 16s\n"
     ]
    },
    {
     "name": "stdout",
     "output_type": "stream",
     "text": [
      "940:\tlearn: 0.7810848\ttest: 0.7837371\tbest: 0.7837539 (938)\ttotal: 5m 49s\tremaining: 25m 8s\n"
     ]
    },
    {
     "name": "stdout",
     "output_type": "stream",
     "text": [
      "960:\tlearn: 0.7813732\ttest: 0.7841097\tbest: 0.7841097 (960)\ttotal: 5m 57s\tremaining: 25m\n"
     ]
    },
    {
     "name": "stdout",
     "output_type": "stream",
     "text": [
      "980:\tlearn: 0.7816331\ttest: 0.7841808\tbest: 0.7842100 (966)\ttotal: 6m 4s\tremaining: 24m 53s\n"
     ]
    },
    {
     "name": "stdout",
     "output_type": "stream",
     "text": [
      "1000:\tlearn: 0.7818717\ttest: 0.7846752\tbest: 0.7846752 (1000)\ttotal: 6m 11s\tremaining: 24m 45s\n"
     ]
    },
    {
     "name": "stdout",
     "output_type": "stream",
     "text": [
      "1020:\tlearn: 0.7821963\ttest: 0.7848347\tbest: 0.7848466 (1018)\ttotal: 6m 19s\tremaining: 24m 37s\n"
     ]
    },
    {
     "name": "stdout",
     "output_type": "stream",
     "text": [
      "1040:\tlearn: 0.7823659\ttest: 0.7847776\tbest: 0.7849463 (1032)\ttotal: 6m 26s\tremaining: 24m 29s\n"
     ]
    },
    {
     "name": "stdout",
     "output_type": "stream",
     "text": [
      "1060:\tlearn: 0.7825816\ttest: 0.7852249\tbest: 0.7853252 (1058)\ttotal: 6m 33s\tremaining: 24m 21s\n"
     ]
    },
    {
     "name": "stdout",
     "output_type": "stream",
     "text": [
      "1080:\tlearn: 0.7827504\ttest: 0.7855000\tbest: 0.7855370 (1077)\ttotal: 6m 40s\tremaining: 24m 13s\n"
     ]
    },
    {
     "name": "stdout",
     "output_type": "stream",
     "text": [
      "1100:\tlearn: 0.7829763\ttest: 0.7857100\tbest: 0.7857387 (1093)\ttotal: 6m 48s\tremaining: 24m 5s\n"
     ]
    },
    {
     "name": "stdout",
     "output_type": "stream",
     "text": [
      "1120:\tlearn: 0.7832154\ttest: 0.7859418\tbest: 0.7860037 (1119)\ttotal: 6m 55s\tremaining: 23m 58s\n"
     ]
    },
    {
     "name": "stdout",
     "output_type": "stream",
     "text": [
      "1140:\tlearn: 0.7834145\ttest: 0.7864633\tbest: 0.7864838 (1139)\ttotal: 7m 3s\tremaining: 23m 50s\n"
     ]
    },
    {
     "name": "stdout",
     "output_type": "stream",
     "text": [
      "1160:\tlearn: 0.7835850\ttest: 0.7864260\tbest: 0.7865501 (1141)\ttotal: 7m 10s\tremaining: 23m 42s\n"
     ]
    },
    {
     "name": "stdout",
     "output_type": "stream",
     "text": [
      "1180:\tlearn: 0.7837320\ttest: 0.7866196\tbest: 0.7867237 (1179)\ttotal: 7m 17s\tremaining: 23m 35s\n"
     ]
    },
    {
     "name": "stdout",
     "output_type": "stream",
     "text": [
      "1200:\tlearn: 0.7839643\ttest: 0.7864516\tbest: 0.7867237 (1179)\ttotal: 7m 24s\tremaining: 23m 27s\n"
     ]
    },
    {
     "name": "stdout",
     "output_type": "stream",
     "text": [
      "1220:\tlearn: 0.7841731\ttest: 0.7867006\tbest: 0.7867796 (1217)\ttotal: 7m 32s\tremaining: 23m 20s\n"
     ]
    },
    {
     "name": "stdout",
     "output_type": "stream",
     "text": [
      "1240:\tlearn: 0.7842282\ttest: 0.7869463\tbest: 0.7870671 (1237)\ttotal: 7m 39s\tremaining: 23m 12s\n"
     ]
    },
    {
     "name": "stdout",
     "output_type": "stream",
     "text": [
      "1260:\tlearn: 0.7843345\ttest: 0.7871119\tbest: 0.7872957 (1257)\ttotal: 7m 47s\tremaining: 23m 4s\n"
     ]
    },
    {
     "name": "stdout",
     "output_type": "stream",
     "text": [
      "1280:\tlearn: 0.7844514\ttest: 0.7872332\tbest: 0.7872957 (1257)\ttotal: 7m 54s\tremaining: 22m 56s\n"
     ]
    },
    {
     "name": "stdout",
     "output_type": "stream",
     "text": [
      "1300:\tlearn: 0.7846190\ttest: 0.7874018\tbest: 0.7874018 (1300)\ttotal: 8m 1s\tremaining: 22m 49s\n"
     ]
    },
    {
     "name": "stdout",
     "output_type": "stream",
     "text": [
      "1320:\tlearn: 0.7847685\ttest: 0.7876848\tbest: 0.7876848 (1320)\ttotal: 8m 9s\tremaining: 22m 42s\n"
     ]
    },
    {
     "name": "stdout",
     "output_type": "stream",
     "text": [
      "1340:\tlearn: 0.7850323\ttest: 0.7879108\tbest: 0.7879108 (1340)\ttotal: 8m 16s\tremaining: 22m 34s\n"
     ]
    },
    {
     "name": "stdout",
     "output_type": "stream",
     "text": [
      "1360:\tlearn: 0.7852642\ttest: 0.7879041\tbest: 0.7879108 (1340)\ttotal: 8m 23s\tremaining: 22m 26s\n"
     ]
    },
    {
     "name": "stdout",
     "output_type": "stream",
     "text": [
      "1380:\tlearn: 0.7854310\ttest: 0.7879791\tbest: 0.7879888 (1374)\ttotal: 8m 31s\tremaining: 22m 19s\n"
     ]
    },
    {
     "name": "stdout",
     "output_type": "stream",
     "text": [
      "1400:\tlearn: 0.7856691\ttest: 0.7881225\tbest: 0.7884228 (1392)\ttotal: 8m 38s\tremaining: 22m 11s\n"
     ]
    },
    {
     "name": "stdout",
     "output_type": "stream",
     "text": [
      "1420:\tlearn: 0.7859408\ttest: 0.7884522\tbest: 0.7884522 (1420)\ttotal: 8m 45s\tremaining: 22m 3s\n"
     ]
    },
    {
     "name": "stdout",
     "output_type": "stream",
     "text": [
      "1440:\tlearn: 0.7860821\ttest: 0.7884872\tbest: 0.7884990 (1424)\ttotal: 8m 52s\tremaining: 21m 55s\n"
     ]
    },
    {
     "name": "stdout",
     "output_type": "stream",
     "text": [
      "1460:\tlearn: 0.7863415\ttest: 0.7884571\tbest: 0.7885741 (1442)\ttotal: 8m 59s\tremaining: 21m 47s\n"
     ]
    },
    {
     "name": "stdout",
     "output_type": "stream",
     "text": [
      "1480:\tlearn: 0.7867112\ttest: 0.7883837\tbest: 0.7885741 (1442)\ttotal: 9m 7s\tremaining: 21m 40s\n"
     ]
    },
    {
     "name": "stdout",
     "output_type": "stream",
     "text": [
      "1500:\tlearn: 0.7867237\ttest: 0.7885777\tbest: 0.7886624 (1485)\ttotal: 9m 14s\tremaining: 21m 32s\n"
     ]
    },
    {
     "name": "stdout",
     "output_type": "stream",
     "text": [
      "1520:\tlearn: 0.7869943\ttest: 0.7884989\tbest: 0.7886624 (1485)\ttotal: 9m 21s\tremaining: 21m 24s\n"
     ]
    },
    {
     "name": "stdout",
     "output_type": "stream",
     "text": [
      "1540:\tlearn: 0.7869667\ttest: 0.7886554\tbest: 0.7888564 (1534)\ttotal: 9m 29s\tremaining: 21m 17s\n"
     ]
    },
    {
     "name": "stdout",
     "output_type": "stream",
     "text": [
      "1560:\tlearn: 0.7871393\ttest: 0.7886872\tbest: 0.7888564 (1534)\ttotal: 9m 36s\tremaining: 21m 10s\n"
     ]
    },
    {
     "name": "stdout",
     "output_type": "stream",
     "text": [
      "1580:\tlearn: 0.7873466\ttest: 0.7889652\tbest: 0.7889652 (1580)\ttotal: 9m 44s\tremaining: 21m 3s\n"
     ]
    },
    {
     "name": "stdout",
     "output_type": "stream",
     "text": [
      "1600:\tlearn: 0.7875939\ttest: 0.7891575\tbest: 0.7892066 (1588)\ttotal: 9m 51s\tremaining: 20m 55s\n"
     ]
    },
    {
     "name": "stdout",
     "output_type": "stream",
     "text": [
      "1620:\tlearn: 0.7877982\ttest: 0.7892458\tbest: 0.7893086 (1603)\ttotal: 9m 58s\tremaining: 20m 47s\n"
     ]
    },
    {
     "name": "stdout",
     "output_type": "stream",
     "text": [
      "1640:\tlearn: 0.7880130\ttest: 0.7893784\tbest: 0.7893784 (1640)\ttotal: 10m 6s\tremaining: 20m 40s\n"
     ]
    },
    {
     "name": "stdout",
     "output_type": "stream",
     "text": [
      "1660:\tlearn: 0.7881970\ttest: 0.7896567\tbest: 0.7897391 (1659)\ttotal: 10m 13s\tremaining: 20m 33s\n"
     ]
    },
    {
     "name": "stdout",
     "output_type": "stream",
     "text": [
      "1680:\tlearn: 0.7882739\ttest: 0.7895574\tbest: 0.7897391 (1659)\ttotal: 10m 20s\tremaining: 20m 25s\n"
     ]
    },
    {
     "name": "stdout",
     "output_type": "stream",
     "text": [
      "1700:\tlearn: 0.7883706\ttest: 0.7899643\tbest: 0.7899643 (1700)\ttotal: 10m 28s\tremaining: 20m 18s\n"
     ]
    },
    {
     "name": "stdout",
     "output_type": "stream",
     "text": [
      "1720:\tlearn: 0.7885185\ttest: 0.7900939\tbest: 0.7900947 (1702)\ttotal: 10m 35s\tremaining: 20m 10s\n"
     ]
    },
    {
     "name": "stdout",
     "output_type": "stream",
     "text": [
      "1740:\tlearn: 0.7887033\ttest: 0.7900083\tbest: 0.7901756 (1739)\ttotal: 10m 42s\tremaining: 20m 2s\n"
     ]
    },
    {
     "name": "stdout",
     "output_type": "stream",
     "text": [
      "1760:\tlearn: 0.7889036\ttest: 0.7901554\tbest: 0.7901777 (1741)\ttotal: 10m 49s\tremaining: 19m 55s\n"
     ]
    },
    {
     "name": "stdout",
     "output_type": "stream",
     "text": [
      "1780:\tlearn: 0.7890471\ttest: 0.7901765\tbest: 0.7902121 (1775)\ttotal: 10m 57s\tremaining: 19m 48s\n"
     ]
    },
    {
     "name": "stdout",
     "output_type": "stream",
     "text": [
      "1800:\tlearn: 0.7891438\ttest: 0.7901974\tbest: 0.7902461 (1786)\ttotal: 11m 4s\tremaining: 19m 40s\n"
     ]
    },
    {
     "name": "stdout",
     "output_type": "stream",
     "text": [
      "1820:\tlearn: 0.7892844\ttest: 0.7902603\tbest: 0.7902603 (1820)\ttotal: 11m 11s\tremaining: 19m 33s\n"
     ]
    },
    {
     "name": "stdout",
     "output_type": "stream",
     "text": [
      "1840:\tlearn: 0.7894078\ttest: 0.7902799\tbest: 0.7903951 (1829)\ttotal: 11m 19s\tremaining: 19m 26s\n"
     ]
    },
    {
     "name": "stdout",
     "output_type": "stream",
     "text": [
      "1860:\tlearn: 0.7894825\ttest: 0.7905340\tbest: 0.7905746 (1859)\ttotal: 11m 26s\tremaining: 19m 18s\n"
     ]
    },
    {
     "name": "stdout",
     "output_type": "stream",
     "text": [
      "1880:\tlearn: 0.7896021\ttest: 0.7906374\tbest: 0.7907176 (1876)\ttotal: 11m 34s\tremaining: 19m 11s\n"
     ]
    },
    {
     "name": "stdout",
     "output_type": "stream",
     "text": [
      "1900:\tlearn: 0.7897127\ttest: 0.7906360\tbest: 0.7907894 (1886)\ttotal: 11m 41s\tremaining: 19m 3s\n"
     ]
    },
    {
     "name": "stdout",
     "output_type": "stream",
     "text": [
      "1920:\tlearn: 0.7898800\ttest: 0.7907192\tbest: 0.7908378 (1912)\ttotal: 11m 49s\tremaining: 18m 56s\n"
     ]
    },
    {
     "name": "stdout",
     "output_type": "stream",
     "text": [
      "1940:\tlearn: 0.7898779\ttest: 0.7907996\tbest: 0.7908378 (1912)\ttotal: 11m 56s\tremaining: 18m 49s\n"
     ]
    },
    {
     "name": "stdout",
     "output_type": "stream",
     "text": [
      "1960:\tlearn: 0.7900418\ttest: 0.7907983\tbest: 0.7908378 (1912)\ttotal: 12m 3s\tremaining: 18m 41s\n"
     ]
    },
    {
     "name": "stdout",
     "output_type": "stream",
     "text": [
      "1980:\tlearn: 0.7900838\ttest: 0.7908373\tbest: 0.7908378 (1912)\ttotal: 12m 11s\tremaining: 18m 34s\n"
     ]
    },
    {
     "name": "stdout",
     "output_type": "stream",
     "text": [
      "2000:\tlearn: 0.7901313\ttest: 0.7908561\tbest: 0.7908561 (2000)\ttotal: 12m 18s\tremaining: 18m 26s\n"
     ]
    },
    {
     "name": "stdout",
     "output_type": "stream",
     "text": [
      "2020:\tlearn: 0.7902845\ttest: 0.7910187\tbest: 0.7911439 (2019)\ttotal: 12m 25s\tremaining: 18m 18s\n"
     ]
    },
    {
     "name": "stdout",
     "output_type": "stream",
     "text": [
      "2040:\tlearn: 0.7904194\ttest: 0.7910969\tbest: 0.7911931 (2030)\ttotal: 12m 32s\tremaining: 18m 11s\n"
     ]
    },
    {
     "name": "stdout",
     "output_type": "stream",
     "text": [
      "2060:\tlearn: 0.7906241\ttest: 0.7911310\tbest: 0.7911931 (2030)\ttotal: 12m 40s\tremaining: 18m 3s\n"
     ]
    },
    {
     "name": "stdout",
     "output_type": "stream",
     "text": [
      "2080:\tlearn: 0.7908036\ttest: 0.7913359\tbest: 0.7913359 (2080)\ttotal: 12m 47s\tremaining: 17m 56s\n"
     ]
    },
    {
     "name": "stdout",
     "output_type": "stream",
     "text": [
      "2100:\tlearn: 0.7909188\ttest: 0.7914123\tbest: 0.7914430 (2083)\ttotal: 12m 54s\tremaining: 17m 48s\n"
     ]
    },
    {
     "name": "stdout",
     "output_type": "stream",
     "text": [
      "2120:\tlearn: 0.7911191\ttest: 0.7915100\tbest: 0.7915724 (2119)\ttotal: 13m 1s\tremaining: 17m 41s\n"
     ]
    },
    {
     "name": "stdout",
     "output_type": "stream",
     "text": [
      "2140:\tlearn: 0.7912654\ttest: 0.7916712\tbest: 0.7916712 (2140)\ttotal: 13m 8s\tremaining: 17m 33s\n"
     ]
    },
    {
     "name": "stdout",
     "output_type": "stream",
     "text": [
      "2160:\tlearn: 0.7913971\ttest: 0.7917289\tbest: 0.7917352 (2141)\ttotal: 13m 16s\tremaining: 17m 25s\n"
     ]
    },
    {
     "name": "stdout",
     "output_type": "stream",
     "text": [
      "2180:\tlearn: 0.7914434\ttest: 0.7918273\tbest: 0.7918273 (2180)\ttotal: 13m 23s\tremaining: 17m 18s\n"
     ]
    },
    {
     "name": "stdout",
     "output_type": "stream",
     "text": [
      "2200:\tlearn: 0.7916016\ttest: 0.7917788\tbest: 0.7918331 (2189)\ttotal: 13m 30s\tremaining: 17m 10s\n"
     ]
    },
    {
     "name": "stdout",
     "output_type": "stream",
     "text": [
      "2220:\tlearn: 0.7916613\ttest: 0.7918974\tbest: 0.7921015 (2210)\ttotal: 13m 38s\tremaining: 17m 3s\n"
     ]
    },
    {
     "name": "stdout",
     "output_type": "stream",
     "text": [
      "2240:\tlearn: 0.7918034\ttest: 0.7919102\tbest: 0.7921015 (2210)\ttotal: 13m 44s\tremaining: 16m 55s\n"
     ]
    },
    {
     "name": "stdout",
     "output_type": "stream",
     "text": [
      "2260:\tlearn: 0.7919130\ttest: 0.7921327\tbest: 0.7922124 (2251)\ttotal: 13m 52s\tremaining: 16m 47s\n"
     ]
    },
    {
     "name": "stdout",
     "output_type": "stream",
     "text": [
      "2280:\tlearn: 0.7920118\ttest: 0.7923154\tbest: 0.7923154 (2280)\ttotal: 13m 59s\tremaining: 16m 40s\n"
     ]
    },
    {
     "name": "stdout",
     "output_type": "stream",
     "text": [
      "2300:\tlearn: 0.7922122\ttest: 0.7923941\tbest: 0.7923941 (2300)\ttotal: 14m 6s\tremaining: 16m 33s\n"
     ]
    },
    {
     "name": "stdout",
     "output_type": "stream",
     "text": [
      "2320:\tlearn: 0.7924260\ttest: 0.7922368\tbest: 0.7924170 (2302)\ttotal: 14m 13s\tremaining: 16m 25s\n"
     ]
    },
    {
     "name": "stdout",
     "output_type": "stream",
     "text": [
      "2340:\tlearn: 0.7924946\ttest: 0.7923802\tbest: 0.7925221 (2332)\ttotal: 14m 21s\tremaining: 16m 18s\n"
     ]
    },
    {
     "name": "stdout",
     "output_type": "stream",
     "text": [
      "2360:\tlearn: 0.7925182\ttest: 0.7924558\tbest: 0.7925221 (2332)\ttotal: 14m 28s\tremaining: 16m 10s\n"
     ]
    },
    {
     "name": "stdout",
     "output_type": "stream",
     "text": [
      "2380:\tlearn: 0.7927227\ttest: 0.7925956\tbest: 0.7927376 (2374)\ttotal: 14m 35s\tremaining: 16m 3s\n"
     ]
    },
    {
     "name": "stdout",
     "output_type": "stream",
     "text": [
      "2400:\tlearn: 0.7928391\ttest: 0.7927296\tbest: 0.7927500 (2399)\ttotal: 14m 43s\tremaining: 15m 56s\n"
     ]
    },
    {
     "name": "stdout",
     "output_type": "stream",
     "text": [
      "2420:\tlearn: 0.7928817\ttest: 0.7925124\tbest: 0.7927539 (2404)\ttotal: 14m 50s\tremaining: 15m 48s\n"
     ]
    },
    {
     "name": "stdout",
     "output_type": "stream",
     "text": [
      "2440:\tlearn: 0.7930413\ttest: 0.7925637\tbest: 0.7927539 (2404)\ttotal: 14m 57s\tremaining: 15m 41s\n"
     ]
    },
    {
     "name": "stdout",
     "output_type": "stream",
     "text": [
      "2460:\tlearn: 0.7930934\ttest: 0.7928297\tbest: 0.7928379 (2442)\ttotal: 15m 4s\tremaining: 15m 33s\n"
     ]
    },
    {
     "name": "stdout",
     "output_type": "stream",
     "text": [
      "2480:\tlearn: 0.7932712\ttest: 0.7926983\tbest: 0.7928379 (2442)\ttotal: 15m 12s\tremaining: 15m 26s\n"
     ]
    },
    {
     "name": "stdout",
     "output_type": "stream",
     "text": [
      "2500:\tlearn: 0.7932989\ttest: 0.7927516\tbest: 0.7928379 (2442)\ttotal: 15m 19s\tremaining: 15m 18s\n"
     ]
    },
    {
     "name": "stdout",
     "output_type": "stream",
     "text": [
      "2520:\tlearn: 0.7933592\ttest: 0.7929104\tbest: 0.7929489 (2514)\ttotal: 15m 26s\tremaining: 15m 11s\n"
     ]
    },
    {
     "name": "stdout",
     "output_type": "stream",
     "text": [
      "2540:\tlearn: 0.7934359\ttest: 0.7927951\tbest: 0.7931449 (2524)\ttotal: 15m 34s\tremaining: 15m 4s\n"
     ]
    },
    {
     "name": "stdout",
     "output_type": "stream",
     "text": [
      "2560:\tlearn: 0.7934542\ttest: 0.7929138\tbest: 0.7931449 (2524)\ttotal: 15m 41s\tremaining: 14m 56s\n"
     ]
    },
    {
     "name": "stdout",
     "output_type": "stream",
     "text": [
      "2580:\tlearn: 0.7935272\ttest: 0.7929643\tbest: 0.7931449 (2524)\ttotal: 15m 49s\tremaining: 14m 49s\n"
     ]
    },
    {
     "name": "stdout",
     "output_type": "stream",
     "text": [
      "2600:\tlearn: 0.7936808\ttest: 0.7929325\tbest: 0.7931449 (2524)\ttotal: 15m 56s\tremaining: 14m 42s\n"
     ]
    },
    {
     "name": "stdout",
     "output_type": "stream",
     "text": [
      "2620:\tlearn: 0.7937480\ttest: 0.7927091\tbest: 0.7931449 (2524)\ttotal: 16m 3s\tremaining: 14m 34s\n"
     ]
    },
    {
     "name": "stdout",
     "output_type": "stream",
     "text": [
      "2640:\tlearn: 0.7939158\ttest: 0.7926318\tbest: 0.7931449 (2524)\ttotal: 16m 10s\tremaining: 14m 27s\n"
     ]
    },
    {
     "name": "stdout",
     "output_type": "stream",
     "text": [
      "2660:\tlearn: 0.7940286\ttest: 0.7924939\tbest: 0.7931449 (2524)\ttotal: 16m 18s\tremaining: 14m 19s\n"
     ]
    },
    {
     "name": "stdout",
     "output_type": "stream",
     "text": [
      "2680:\tlearn: 0.7940689\ttest: 0.7925457\tbest: 0.7931449 (2524)\ttotal: 16m 25s\tremaining: 14m 12s\n"
     ]
    },
    {
     "name": "stdout",
     "output_type": "stream",
     "text": [
      "2700:\tlearn: 0.7941526\ttest: 0.7926170\tbest: 0.7931449 (2524)\ttotal: 16m 33s\tremaining: 14m 5s\n"
     ]
    },
    {
     "name": "stdout",
     "output_type": "stream",
     "text": [
      "2720:\tlearn: 0.7942794\ttest: 0.7928181\tbest: 0.7931449 (2524)\ttotal: 16m 40s\tremaining: 13m 58s\n"
     ]
    },
    {
     "name": "stdout",
     "output_type": "stream",
     "text": [
      "2740:\tlearn: 0.7943115\ttest: 0.7928715\tbest: 0.7931449 (2524)\ttotal: 16m 47s\tremaining: 13m 50s\n"
     ]
    },
    {
     "name": "stdout",
     "output_type": "stream",
     "text": [
      "2760:\tlearn: 0.7944712\ttest: 0.7929664\tbest: 0.7931449 (2524)\ttotal: 16m 54s\tremaining: 13m 43s\n"
     ]
    },
    {
     "name": "stdout",
     "output_type": "stream",
     "text": [
      "2780:\tlearn: 0.7945237\ttest: 0.7929957\tbest: 0.7931449 (2524)\ttotal: 17m 2s\tremaining: 13m 35s\n"
     ]
    },
    {
     "name": "stdout",
     "output_type": "stream",
     "text": [
      "2800:\tlearn: 0.7945983\ttest: 0.7930259\tbest: 0.7931449 (2524)\ttotal: 17m 9s\tremaining: 13m 28s\n"
     ]
    },
    {
     "name": "stdout",
     "output_type": "stream",
     "text": [
      "2820:\tlearn: 0.7947614\ttest: 0.7930341\tbest: 0.7932208 (2814)\ttotal: 17m 16s\tremaining: 13m 20s\n"
     ]
    },
    {
     "name": "stdout",
     "output_type": "stream",
     "text": [
      "2840:\tlearn: 0.7948272\ttest: 0.7930188\tbest: 0.7932681 (2830)\ttotal: 17m 23s\tremaining: 13m 13s\n"
     ]
    },
    {
     "name": "stdout",
     "output_type": "stream",
     "text": [
      "2860:\tlearn: 0.7948995\ttest: 0.7930265\tbest: 0.7932681 (2830)\ttotal: 17m 31s\tremaining: 13m 5s\n"
     ]
    },
    {
     "name": "stdout",
     "output_type": "stream",
     "text": [
      "2880:\tlearn: 0.7949942\ttest: 0.7931627\tbest: 0.7932681 (2830)\ttotal: 17m 38s\tremaining: 12m 58s\n"
     ]
    },
    {
     "name": "stdout",
     "output_type": "stream",
     "text": [
      "2900:\tlearn: 0.7950041\ttest: 0.7931278\tbest: 0.7932726 (2894)\ttotal: 17m 45s\tremaining: 12m 51s\n"
     ]
    },
    {
     "name": "stdout",
     "output_type": "stream",
     "text": [
      "2920:\tlearn: 0.7950929\ttest: 0.7931382\tbest: 0.7932726 (2894)\ttotal: 17m 53s\tremaining: 12m 43s\n"
     ]
    },
    {
     "name": "stdout",
     "output_type": "stream",
     "text": [
      "2940:\tlearn: 0.7951391\ttest: 0.7932528\tbest: 0.7933113 (2930)\ttotal: 18m\tremaining: 12m 36s\n"
     ]
    },
    {
     "name": "stdout",
     "output_type": "stream",
     "text": [
      "2960:\tlearn: 0.7951384\ttest: 0.7931987\tbest: 0.7933817 (2948)\ttotal: 18m 7s\tremaining: 12m 28s\n"
     ]
    },
    {
     "name": "stdout",
     "output_type": "stream",
     "text": [
      "2980:\tlearn: 0.7952575\ttest: 0.7933318\tbest: 0.7933817 (2948)\ttotal: 18m 14s\tremaining: 12m 21s\n"
     ]
    },
    {
     "name": "stdout",
     "output_type": "stream",
     "text": [
      "3000:\tlearn: 0.7952919\ttest: 0.7932554\tbest: 0.7933817 (2948)\ttotal: 18m 22s\tremaining: 12m 14s\n"
     ]
    },
    {
     "name": "stdout",
     "output_type": "stream",
     "text": [
      "3020:\tlearn: 0.7954205\ttest: 0.7933254\tbest: 0.7934286 (3016)\ttotal: 18m 29s\tremaining: 12m 6s\n"
     ]
    },
    {
     "name": "stdout",
     "output_type": "stream",
     "text": [
      "3040:\tlearn: 0.7955716\ttest: 0.7933534\tbest: 0.7934286 (3016)\ttotal: 18m 36s\tremaining: 11m 59s\n"
     ]
    },
    {
     "name": "stdout",
     "output_type": "stream",
     "text": [
      "3060:\tlearn: 0.7957958\ttest: 0.7934641\tbest: 0.7935449 (3047)\ttotal: 18m 44s\tremaining: 11m 52s\n"
     ]
    },
    {
     "name": "stdout",
     "output_type": "stream",
     "text": [
      "3080:\tlearn: 0.7959367\ttest: 0.7935561\tbest: 0.7935970 (3073)\ttotal: 18m 51s\tremaining: 11m 44s\n"
     ]
    },
    {
     "name": "stdout",
     "output_type": "stream",
     "text": [
      "3100:\tlearn: 0.7960351\ttest: 0.7933330\tbest: 0.7935970 (3073)\ttotal: 18m 58s\tremaining: 11m 37s\n"
     ]
    },
    {
     "name": "stdout",
     "output_type": "stream",
     "text": [
      "3120:\tlearn: 0.7960699\ttest: 0.7934666\tbest: 0.7935970 (3073)\ttotal: 19m 6s\tremaining: 11m 30s\n"
     ]
    },
    {
     "name": "stdout",
     "output_type": "stream",
     "text": [
      "3140:\tlearn: 0.7962188\ttest: 0.7935775\tbest: 0.7936187 (3136)\ttotal: 19m 13s\tremaining: 11m 22s\n"
     ]
    },
    {
     "name": "stdout",
     "output_type": "stream",
     "text": [
      "3160:\tlearn: 0.7962260\ttest: 0.7936691\tbest: 0.7937945 (3157)\ttotal: 19m 20s\tremaining: 11m 15s\n"
     ]
    },
    {
     "name": "stdout",
     "output_type": "stream",
     "text": [
      "3180:\tlearn: 0.7961994\ttest: 0.7937203\tbest: 0.7938218 (3170)\ttotal: 19m 27s\tremaining: 11m 7s\n"
     ]
    },
    {
     "name": "stdout",
     "output_type": "stream",
     "text": [
      "3200:\tlearn: 0.7963483\ttest: 0.7937044\tbest: 0.7938474 (3183)\ttotal: 19m 35s\tremaining: 11m\n"
     ]
    },
    {
     "name": "stdout",
     "output_type": "stream",
     "text": [
      "3220:\tlearn: 0.7963027\ttest: 0.7939006\tbest: 0.7939218 (3219)\ttotal: 19m 42s\tremaining: 10m 52s\n"
     ]
    },
    {
     "name": "stdout",
     "output_type": "stream",
     "text": [
      "3240:\tlearn: 0.7963095\ttest: 0.7938441\tbest: 0.7939457 (3230)\ttotal: 19m 49s\tremaining: 10m 45s\n"
     ]
    },
    {
     "name": "stdout",
     "output_type": "stream",
     "text": [
      "3260:\tlearn: 0.7964869\ttest: 0.7939157\tbest: 0.7939963 (3256)\ttotal: 19m 56s\tremaining: 10m 38s\n"
     ]
    },
    {
     "name": "stdout",
     "output_type": "stream",
     "text": [
      "3280:\tlearn: 0.7966827\ttest: 0.7938174\tbest: 0.7939963 (3256)\ttotal: 20m 4s\tremaining: 10m 30s\n"
     ]
    },
    {
     "name": "stdout",
     "output_type": "stream",
     "text": [
      "3300:\tlearn: 0.7966884\ttest: 0.7939074\tbest: 0.7939963 (3256)\ttotal: 20m 11s\tremaining: 10m 23s\n"
     ]
    },
    {
     "name": "stdout",
     "output_type": "stream",
     "text": [
      "3320:\tlearn: 0.7966947\ttest: 0.7939781\tbest: 0.7939963 (3256)\ttotal: 20m 18s\tremaining: 10m 15s\n"
     ]
    },
    {
     "name": "stdout",
     "output_type": "stream",
     "text": [
      "3340:\tlearn: 0.7968082\ttest: 0.7940058\tbest: 0.7940262 (3338)\ttotal: 20m 25s\tremaining: 10m 8s\n"
     ]
    },
    {
     "name": "stdout",
     "output_type": "stream",
     "text": [
      "3360:\tlearn: 0.7969052\ttest: 0.7939513\tbest: 0.7940550 (3356)\ttotal: 20m 32s\tremaining: 10m 1s\n"
     ]
    },
    {
     "name": "stdout",
     "output_type": "stream",
     "text": [
      "3380:\tlearn: 0.7970278\ttest: 0.7940634\tbest: 0.7940634 (3380)\ttotal: 20m 39s\tremaining: 9m 53s\n"
     ]
    },
    {
     "name": "stdout",
     "output_type": "stream",
     "text": [
      "3400:\tlearn: 0.7971189\ttest: 0.7940689\tbest: 0.7940899 (3399)\ttotal: 20m 47s\tremaining: 9m 46s\n"
     ]
    },
    {
     "name": "stdout",
     "output_type": "stream",
     "text": [
      "3420:\tlearn: 0.7971776\ttest: 0.7941571\tbest: 0.7941571 (3420)\ttotal: 20m 54s\tremaining: 9m 39s\n"
     ]
    },
    {
     "name": "stdout",
     "output_type": "stream",
     "text": [
      "3440:\tlearn: 0.7972368\ttest: 0.7939529\tbest: 0.7941571 (3420)\ttotal: 21m 1s\tremaining: 9m 31s\n"
     ]
    },
    {
     "name": "stdout",
     "output_type": "stream",
     "text": [
      "3460:\tlearn: 0.7973891\ttest: 0.7940631\tbest: 0.7941660 (3454)\ttotal: 21m 8s\tremaining: 9m 24s\n"
     ]
    },
    {
     "name": "stdout",
     "output_type": "stream",
     "text": [
      "3480:\tlearn: 0.7975272\ttest: 0.7940685\tbest: 0.7941729 (3476)\ttotal: 21m 15s\tremaining: 9m 16s\n"
     ]
    },
    {
     "name": "stdout",
     "output_type": "stream",
     "text": [
      "3500:\tlearn: 0.7976323\ttest: 0.7940938\tbest: 0.7941760 (3492)\ttotal: 21m 22s\tremaining: 9m 9s\n"
     ]
    },
    {
     "name": "stdout",
     "output_type": "stream",
     "text": [
      "3520:\tlearn: 0.7977831\ttest: 0.7941223\tbest: 0.7941760 (3492)\ttotal: 21m 30s\tremaining: 9m 2s\n"
     ]
    },
    {
     "name": "stdout",
     "output_type": "stream",
     "text": [
      "3540:\tlearn: 0.7978673\ttest: 0.7942758\tbest: 0.7942758 (3540)\ttotal: 21m 37s\tremaining: 8m 54s\n"
     ]
    },
    {
     "name": "stdout",
     "output_type": "stream",
     "text": [
      "3560:\tlearn: 0.7979120\ttest: 0.7942199\tbest: 0.7942794 (3550)\ttotal: 21m 44s\tremaining: 8m 47s\n"
     ]
    },
    {
     "name": "stdout",
     "output_type": "stream",
     "text": [
      "3580:\tlearn: 0.7979357\ttest: 0.7943335\tbest: 0.7943335 (3580)\ttotal: 21m 51s\tremaining: 8m 39s\n"
     ]
    },
    {
     "name": "stdout",
     "output_type": "stream",
     "text": [
      "3600:\tlearn: 0.7979585\ttest: 0.7942985\tbest: 0.7944207 (3592)\ttotal: 21m 58s\tremaining: 8m 32s\n"
     ]
    },
    {
     "name": "stdout",
     "output_type": "stream",
     "text": [
      "3620:\tlearn: 0.7980965\ttest: 0.7943656\tbest: 0.7944207 (3592)\ttotal: 22m 6s\tremaining: 8m 25s\n"
     ]
    },
    {
     "name": "stdout",
     "output_type": "stream",
     "text": [
      "3640:\tlearn: 0.7982874\ttest: 0.7942883\tbest: 0.7944207 (3592)\ttotal: 22m 13s\tremaining: 8m 17s\n"
     ]
    },
    {
     "name": "stdout",
     "output_type": "stream",
     "text": [
      "3660:\tlearn: 0.7983189\ttest: 0.7941661\tbest: 0.7944207 (3592)\ttotal: 22m 20s\tremaining: 8m 10s\n"
     ]
    },
    {
     "name": "stdout",
     "output_type": "stream",
     "text": [
      "3680:\tlearn: 0.7983864\ttest: 0.7943431\tbest: 0.7944207 (3592)\ttotal: 22m 27s\tremaining: 8m 2s\n"
     ]
    },
    {
     "name": "stdout",
     "output_type": "stream",
     "text": [
      "3700:\tlearn: 0.7984508\ttest: 0.7941801\tbest: 0.7944207 (3592)\ttotal: 22m 34s\tremaining: 7m 55s\n"
     ]
    },
    {
     "name": "stdout",
     "output_type": "stream",
     "text": [
      "3720:\tlearn: 0.7985776\ttest: 0.7943758\tbest: 0.7944207 (3592)\ttotal: 22m 42s\tremaining: 7m 48s\n"
     ]
    },
    {
     "name": "stdout",
     "output_type": "stream",
     "text": [
      "3740:\tlearn: 0.7986147\ttest: 0.7943179\tbest: 0.7944207 (3592)\ttotal: 22m 49s\tremaining: 7m 40s\n"
     ]
    },
    {
     "name": "stdout",
     "output_type": "stream",
     "text": [
      "3760:\tlearn: 0.7986514\ttest: 0.7943020\tbest: 0.7944207 (3592)\ttotal: 22m 56s\tremaining: 7m 33s\n"
     ]
    },
    {
     "name": "stdout",
     "output_type": "stream",
     "text": [
      "3780:\tlearn: 0.7988405\ttest: 0.7942216\tbest: 0.7944207 (3592)\ttotal: 23m 3s\tremaining: 7m 26s\n"
     ]
    },
    {
     "name": "stdout",
     "output_type": "stream",
     "text": [
      "3800:\tlearn: 0.7988039\ttest: 0.7943762\tbest: 0.7945223 (3797)\ttotal: 23m 10s\tremaining: 7m 18s\n"
     ]
    },
    {
     "name": "stdout",
     "output_type": "stream",
     "text": [
      "3820:\tlearn: 0.7989570\ttest: 0.7942336\tbest: 0.7945223 (3797)\ttotal: 23m 18s\tremaining: 7m 11s\n"
     ]
    },
    {
     "name": "stdout",
     "output_type": "stream",
     "text": [
      "3840:\tlearn: 0.7990201\ttest: 0.7940929\tbest: 0.7945223 (3797)\ttotal: 23m 25s\tremaining: 7m 4s\n"
     ]
    },
    {
     "name": "stdout",
     "output_type": "stream",
     "text": [
      "3860:\tlearn: 0.7990167\ttest: 0.7942242\tbest: 0.7945223 (3797)\ttotal: 23m 32s\tremaining: 6m 56s\n"
     ]
    },
    {
     "name": "stdout",
     "output_type": "stream",
     "text": [
      "3880:\tlearn: 0.7990586\ttest: 0.7942288\tbest: 0.7945223 (3797)\ttotal: 23m 39s\tremaining: 6m 49s\n"
     ]
    },
    {
     "name": "stdout",
     "output_type": "stream",
     "text": [
      "3900:\tlearn: 0.7991545\ttest: 0.7941912\tbest: 0.7945223 (3797)\ttotal: 23m 47s\tremaining: 6m 42s\n"
     ]
    },
    {
     "name": "stdout",
     "output_type": "stream",
     "text": [
      "3920:\tlearn: 0.7992340\ttest: 0.7942820\tbest: 0.7945223 (3797)\ttotal: 23m 54s\tremaining: 6m 34s\n"
     ]
    },
    {
     "name": "stdout",
     "output_type": "stream",
     "text": [
      "3940:\tlearn: 0.7993070\ttest: 0.7943067\tbest: 0.7945223 (3797)\ttotal: 24m 1s\tremaining: 6m 27s\n"
     ]
    },
    {
     "name": "stdout",
     "output_type": "stream",
     "text": [
      "3960:\tlearn: 0.7994130\ttest: 0.7944398\tbest: 0.7945223 (3797)\ttotal: 24m 8s\tremaining: 6m 20s\n"
     ]
    },
    {
     "name": "stdout",
     "output_type": "stream",
     "text": [
      "3980:\tlearn: 0.7995406\ttest: 0.7946151\tbest: 0.7946359 (3977)\ttotal: 24m 15s\tremaining: 6m 12s\n"
     ]
    },
    {
     "name": "stdout",
     "output_type": "stream",
     "text": [
      "4000:\tlearn: 0.7996673\ttest: 0.7946640\tbest: 0.7946837 (3998)\ttotal: 24m 23s\tremaining: 6m 5s\n"
     ]
    },
    {
     "name": "stdout",
     "output_type": "stream",
     "text": [
      "4020:\tlearn: 0.7997401\ttest: 0.7946684\tbest: 0.7947297 (4013)\ttotal: 24m 30s\tremaining: 5m 57s\n"
     ]
    },
    {
     "name": "stdout",
     "output_type": "stream",
     "text": [
      "4040:\tlearn: 0.7998909\ttest: 0.7945458\tbest: 0.7947297 (4013)\ttotal: 24m 37s\tremaining: 5m 50s\n"
     ]
    },
    {
     "name": "stdout",
     "output_type": "stream",
     "text": [
      "4060:\tlearn: 0.7999063\ttest: 0.7945941\tbest: 0.7947297 (4013)\ttotal: 24m 45s\tremaining: 5m 43s\n"
     ]
    },
    {
     "name": "stdout",
     "output_type": "stream",
     "text": [
      "4080:\tlearn: 0.7999216\ttest: 0.7945981\tbest: 0.7947297 (4013)\ttotal: 24m 52s\tremaining: 5m 36s\n"
     ]
    },
    {
     "name": "stdout",
     "output_type": "stream",
     "text": [
      "4100:\tlearn: 0.7999850\ttest: 0.7946227\tbest: 0.7947297 (4013)\ttotal: 24m 59s\tremaining: 5m 28s\n"
     ]
    },
    {
     "name": "stdout",
     "output_type": "stream",
     "text": [
      "4120:\tlearn: 0.8000786\ttest: 0.7946053\tbest: 0.7947297 (4013)\ttotal: 25m 6s\tremaining: 5m 21s\n"
     ]
    },
    {
     "name": "stdout",
     "output_type": "stream",
     "text": [
      "4140:\tlearn: 0.8001763\ttest: 0.7945464\tbest: 0.7947297 (4013)\ttotal: 25m 13s\tremaining: 5m 14s\n"
     ]
    },
    {
     "name": "stdout",
     "output_type": "stream",
     "text": [
      "4160:\tlearn: 0.8002852\ttest: 0.7945505\tbest: 0.7947297 (4013)\ttotal: 25m 21s\tremaining: 5m 6s\n"
     ]
    },
    {
     "name": "stdout",
     "output_type": "stream",
     "text": [
      "4180:\tlearn: 0.8003113\ttest: 0.7946383\tbest: 0.7947297 (4013)\ttotal: 25m 28s\tremaining: 4m 59s\n"
     ]
    },
    {
     "name": "stdout",
     "output_type": "stream",
     "text": [
      "4200:\tlearn: 0.8003780\ttest: 0.7946433\tbest: 0.7947297 (4013)\ttotal: 25m 35s\tremaining: 4m 52s\n"
     ]
    },
    {
     "name": "stdout",
     "output_type": "stream",
     "text": [
      "4220:\tlearn: 0.8005556\ttest: 0.7946062\tbest: 0.7947311 (4215)\ttotal: 25m 43s\tremaining: 4m 44s\n"
     ]
    },
    {
     "name": "stdout",
     "output_type": "stream",
     "text": [
      "4240:\tlearn: 0.8005661\ttest: 0.7946098\tbest: 0.7948408 (4237)\ttotal: 25m 50s\tremaining: 4m 37s\n"
     ]
    },
    {
     "name": "stdout",
     "output_type": "stream",
     "text": [
      "4260:\tlearn: 0.8006645\ttest: 0.7947415\tbest: 0.7948408 (4237)\ttotal: 25m 57s\tremaining: 4m 30s\n"
     ]
    },
    {
     "name": "stdout",
     "output_type": "stream",
     "text": [
      "4280:\tlearn: 0.8007058\ttest: 0.7948726\tbest: 0.7948726 (4280)\ttotal: 26m 5s\tremaining: 4m 22s\n"
     ]
    },
    {
     "name": "stdout",
     "output_type": "stream",
     "text": [
      "4300:\tlearn: 0.8007626\ttest: 0.7947519\tbest: 0.7948726 (4280)\ttotal: 26m 12s\tremaining: 4m 15s\n"
     ]
    },
    {
     "name": "stdout",
     "output_type": "stream",
     "text": [
      "4320:\tlearn: 0.8007978\ttest: 0.7946728\tbest: 0.7948726 (4280)\ttotal: 26m 19s\tremaining: 4m 8s\n"
     ]
    },
    {
     "name": "stdout",
     "output_type": "stream",
     "text": [
      "4340:\tlearn: 0.8008055\ttest: 0.7948014\tbest: 0.7948726 (4280)\ttotal: 26m 26s\tremaining: 4m\n"
     ]
    },
    {
     "name": "stdout",
     "output_type": "stream",
     "text": [
      "4360:\tlearn: 0.8009098\ttest: 0.7949311\tbest: 0.7949725 (4358)\ttotal: 26m 33s\tremaining: 3m 53s\n"
     ]
    },
    {
     "name": "stdout",
     "output_type": "stream",
     "text": [
      "4380:\tlearn: 0.8010143\ttest: 0.7949547\tbest: 0.7949725 (4358)\ttotal: 26m 41s\tremaining: 3m 46s\n"
     ]
    },
    {
     "name": "stdout",
     "output_type": "stream",
     "text": [
      "4400:\tlearn: 0.8010785\ttest: 0.7947707\tbest: 0.7949725 (4358)\ttotal: 26m 48s\tremaining: 3m 38s\n"
     ]
    },
    {
     "name": "stdout",
     "output_type": "stream",
     "text": [
      "4420:\tlearn: 0.8010403\ttest: 0.7947517\tbest: 0.7949725 (4358)\ttotal: 26m 55s\tremaining: 3m 31s\n"
     ]
    },
    {
     "name": "stdout",
     "output_type": "stream",
     "text": [
      "4440:\tlearn: 0.8011805\ttest: 0.7947970\tbest: 0.7949725 (4358)\ttotal: 27m 3s\tremaining: 3m 24s\n"
     ]
    },
    {
     "name": "stdout",
     "output_type": "stream",
     "text": [
      "4460:\tlearn: 0.8012526\ttest: 0.7948843\tbest: 0.7949725 (4358)\ttotal: 27m 10s\tremaining: 3m 17s\n"
     ]
    },
    {
     "name": "stdout",
     "output_type": "stream",
     "text": [
      "4480:\tlearn: 0.8012617\ttest: 0.7948459\tbest: 0.7949725 (4358)\ttotal: 27m 17s\tremaining: 3m 9s\n"
     ]
    },
    {
     "name": "stdout",
     "output_type": "stream",
     "text": [
      "4500:\tlearn: 0.8014169\ttest: 0.7948076\tbest: 0.7949725 (4358)\ttotal: 27m 24s\tremaining: 3m 2s\n"
     ]
    },
    {
     "name": "stdout",
     "output_type": "stream",
     "text": [
      "4520:\tlearn: 0.8015155\ttest: 0.7948133\tbest: 0.7949725 (4358)\ttotal: 27m 32s\tremaining: 2m 55s\n"
     ]
    },
    {
     "name": "stdout",
     "output_type": "stream",
     "text": [
      "4540:\tlearn: 0.8015923\ttest: 0.7948577\tbest: 0.7949725 (4358)\ttotal: 27m 39s\tremaining: 2m 47s\n"
     ]
    },
    {
     "name": "stdout",
     "output_type": "stream",
     "text": [
      "4560:\tlearn: 0.8016692\ttest: 0.7949050\tbest: 0.7949866 (4552)\ttotal: 27m 46s\tremaining: 2m 40s\n"
     ]
    },
    {
     "name": "stdout",
     "output_type": "stream",
     "text": [
      "4580:\tlearn: 0.8016885\ttest: 0.7949510\tbest: 0.7949866 (4552)\ttotal: 27m 53s\tremaining: 2m 33s\n"
     ]
    },
    {
     "name": "stdout",
     "output_type": "stream",
     "text": [
      "4600:\tlearn: 0.8018544\ttest: 0.7949751\tbest: 0.7950362 (4584)\ttotal: 28m\tremaining: 2m 25s\n"
     ]
    },
    {
     "name": "stdout",
     "output_type": "stream",
     "text": [
      "4620:\tlearn: 0.8019044\ttest: 0.7949161\tbest: 0.7950362 (4584)\ttotal: 28m 7s\tremaining: 2m 18s\n"
     ]
    },
    {
     "name": "stdout",
     "output_type": "stream",
     "text": [
      "4640:\tlearn: 0.8019491\ttest: 0.7948779\tbest: 0.7950362 (4584)\ttotal: 28m 15s\tremaining: 2m 11s\n"
     ]
    },
    {
     "name": "stdout",
     "output_type": "stream",
     "text": [
      "4660:\tlearn: 0.8020212\ttest: 0.7948614\tbest: 0.7950362 (4584)\ttotal: 28m 22s\tremaining: 2m 3s\n"
     ]
    },
    {
     "name": "stdout",
     "output_type": "stream",
     "text": [
      "4680:\tlearn: 0.8021355\ttest: 0.7947806\tbest: 0.7950362 (4584)\ttotal: 28m 29s\tremaining: 1m 56s\n"
     ]
    },
    {
     "name": "stdout",
     "output_type": "stream",
     "text": [
      "4700:\tlearn: 0.8021550\ttest: 0.7948893\tbest: 0.7950362 (4584)\ttotal: 28m 36s\tremaining: 1m 49s\n"
     ]
    },
    {
     "name": "stdout",
     "output_type": "stream",
     "text": [
      "4720:\tlearn: 0.8022336\ttest: 0.7950419\tbest: 0.7950419 (4720)\ttotal: 28m 44s\tremaining: 1m 41s\n"
     ]
    },
    {
     "name": "stdout",
     "output_type": "stream",
     "text": [
      "4740:\tlearn: 0.8023169\ttest: 0.7950662\tbest: 0.7950870 (4738)\ttotal: 28m 51s\tremaining: 1m 34s\n"
     ]
    },
    {
     "name": "stdout",
     "output_type": "stream",
     "text": [
      "4760:\tlearn: 0.8024099\ttest: 0.7950716\tbest: 0.7951736 (4748)\ttotal: 28m 58s\tremaining: 1m 27s\n"
     ]
    },
    {
     "name": "stdout",
     "output_type": "stream",
     "text": [
      "4780:\tlearn: 0.8024919\ttest: 0.7950114\tbest: 0.7951736 (4748)\ttotal: 29m 5s\tremaining: 1m 19s\n"
     ]
    },
    {
     "name": "stdout",
     "output_type": "stream",
     "text": [
      "4800:\tlearn: 0.8025412\ttest: 0.7951407\tbest: 0.7952456 (4797)\ttotal: 29m 13s\tremaining: 1m 12s\n"
     ]
    },
    {
     "name": "stdout",
     "output_type": "stream",
     "text": [
      "4820:\tlearn: 0.8026120\ttest: 0.7952304\tbest: 0.7952721 (4818)\ttotal: 29m 20s\tremaining: 1m 5s\n"
     ]
    },
    {
     "name": "stdout",
     "output_type": "stream",
     "text": [
      "4840:\tlearn: 0.8027158\ttest: 0.7954232\tbest: 0.7954232 (4840)\ttotal: 29m 27s\tremaining: 58.1s\n"
     ]
    },
    {
     "name": "stdout",
     "output_type": "stream",
     "text": [
      "4860:\tlearn: 0.8027293\ttest: 0.7952799\tbest: 0.7954895 (4852)\ttotal: 29m 34s\tremaining: 50.8s\n"
     ]
    },
    {
     "name": "stdout",
     "output_type": "stream",
     "text": [
      "4880:\tlearn: 0.8028174\ttest: 0.7953265\tbest: 0.7954895 (4852)\ttotal: 29m 42s\tremaining: 43.4s\n"
     ]
    },
    {
     "name": "stdout",
     "output_type": "stream",
     "text": [
      "4900:\tlearn: 0.8029254\ttest: 0.7953510\tbest: 0.7954895 (4852)\ttotal: 29m 49s\tremaining: 36.1s\n"
     ]
    },
    {
     "name": "stdout",
     "output_type": "stream",
     "text": [
      "4920:\tlearn: 0.8029541\ttest: 0.7953955\tbest: 0.7954895 (4852)\ttotal: 29m 56s\tremaining: 28.8s\n"
     ]
    },
    {
     "name": "stdout",
     "output_type": "stream",
     "text": [
      "4940:\tlearn: 0.8029542\ttest: 0.7952946\tbest: 0.7954895 (4852)\ttotal: 30m 3s\tremaining: 21.5s\n"
     ]
    },
    {
     "name": "stdout",
     "output_type": "stream",
     "text": [
      "4960:\tlearn: 0.8030746\ttest: 0.7952990\tbest: 0.7954895 (4852)\ttotal: 30m 11s\tremaining: 14.2s\n"
     ]
    },
    {
     "name": "stdout",
     "output_type": "stream",
     "text": [
      "4980:\tlearn: 0.8031187\ttest: 0.7953029\tbest: 0.7954895 (4852)\ttotal: 30m 18s\tremaining: 6.94s\n"
     ]
    },
    {
     "name": "stdout",
     "output_type": "stream",
     "text": [
      "4999:\tlearn: 0.8032001\ttest: 0.7953489\tbest: 0.7954895 (4852)\ttotal: 30m 25s\tremaining: 0us\n",
      "\n",
      "bestTest = 0.7954895156\n",
      "bestIteration = 4852\n",
      "\n",
      "Shrink model to first 4853 iterations.\n"
     ]
    },
    {
     "name": "stdout",
     "output_type": "stream",
     "text": [
      "######################################## training model 2/5 ########################################\n"
     ]
    },
    {
     "name": "stdout",
     "output_type": "stream",
     "text": [
      "0:\tlearn: 0.6405250\ttest: 0.6454503\tbest: 0.6454503 (0)\ttotal: 694ms\tremaining: 57m 51s\n"
     ]
    },
    {
     "name": "stdout",
     "output_type": "stream",
     "text": [
      "20:\tlearn: 0.7323922\ttest: 0.7310352\tbest: 0.7311935 (19)\ttotal: 7.95s\tremaining: 31m 24s\n"
     ]
    },
    {
     "name": "stdout",
     "output_type": "stream",
     "text": [
      "40:\tlearn: 0.7369003\ttest: 0.7387393\tbest: 0.7388997 (39)\ttotal: 15.2s\tremaining: 30m 39s\n"
     ]
    },
    {
     "name": "stdout",
     "output_type": "stream",
     "text": [
      "60:\tlearn: 0.7410535\ttest: 0.7426795\tbest: 0.7427351 (59)\ttotal: 22.5s\tremaining: 30m 18s\n"
     ]
    },
    {
     "name": "stdout",
     "output_type": "stream",
     "text": [
      "80:\tlearn: 0.7442265\ttest: 0.7447787\tbest: 0.7447787 (80)\ttotal: 30s\tremaining: 30m 23s\n"
     ]
    },
    {
     "name": "stdout",
     "output_type": "stream",
     "text": [
      "100:\tlearn: 0.7472082\ttest: 0.7480431\tbest: 0.7480431 (100)\ttotal: 37.4s\tremaining: 30m 16s\n"
     ]
    },
    {
     "name": "stdout",
     "output_type": "stream",
     "text": [
      "120:\tlearn: 0.7498676\ttest: 0.7504820\tbest: 0.7505593 (119)\ttotal: 44.7s\tremaining: 30m 4s\n"
     ]
    },
    {
     "name": "stdout",
     "output_type": "stream",
     "text": [
      "140:\tlearn: 0.7525097\ttest: 0.7526783\tbest: 0.7527701 (138)\ttotal: 52.1s\tremaining: 29m 55s\n"
     ]
    },
    {
     "name": "stdout",
     "output_type": "stream",
     "text": [
      "160:\tlearn: 0.7547510\ttest: 0.7545830\tbest: 0.7545830 (160)\ttotal: 59.6s\tremaining: 29m 50s\n"
     ]
    },
    {
     "name": "stdout",
     "output_type": "stream",
     "text": [
      "180:\tlearn: 0.7567557\ttest: 0.7567520\tbest: 0.7567520 (180)\ttotal: 1m 7s\tremaining: 29m 49s\n"
     ]
    },
    {
     "name": "stdout",
     "output_type": "stream",
     "text": [
      "200:\tlearn: 0.7588035\ttest: 0.7586134\tbest: 0.7586134 (200)\ttotal: 1m 14s\tremaining: 29m 42s\n"
     ]
    },
    {
     "name": "stdout",
     "output_type": "stream",
     "text": [
      "220:\tlearn: 0.7603825\ttest: 0.7604590\tbest: 0.7604590 (220)\ttotal: 1m 22s\tremaining: 29m 37s\n"
     ]
    },
    {
     "name": "stdout",
     "output_type": "stream",
     "text": [
      "240:\tlearn: 0.7619185\ttest: 0.7618425\tbest: 0.7618425 (240)\ttotal: 1m 29s\tremaining: 29m 26s\n"
     ]
    },
    {
     "name": "stdout",
     "output_type": "stream",
     "text": [
      "260:\tlearn: 0.7633550\ttest: 0.7625631\tbest: 0.7625631 (260)\ttotal: 1m 36s\tremaining: 29m 20s\n"
     ]
    },
    {
     "name": "stdout",
     "output_type": "stream",
     "text": [
      "280:\tlearn: 0.7645460\ttest: 0.7638373\tbest: 0.7638373 (280)\ttotal: 1m 44s\tremaining: 29m 14s\n"
     ]
    },
    {
     "name": "stdout",
     "output_type": "stream",
     "text": [
      "300:\tlearn: 0.7656761\ttest: 0.7646692\tbest: 0.7647636 (299)\ttotal: 1m 52s\tremaining: 29m 10s\n"
     ]
    },
    {
     "name": "stdout",
     "output_type": "stream",
     "text": [
      "320:\tlearn: 0.7666932\ttest: 0.7659069\tbest: 0.7660315 (318)\ttotal: 1m 59s\tremaining: 29m 3s\n"
     ]
    },
    {
     "name": "stdout",
     "output_type": "stream",
     "text": [
      "340:\tlearn: 0.7676421\ttest: 0.7670460\tbest: 0.7670460 (340)\ttotal: 2m 6s\tremaining: 28m 50s\n"
     ]
    },
    {
     "name": "stdout",
     "output_type": "stream",
     "text": [
      "360:\tlearn: 0.7684841\ttest: 0.7686463\tbest: 0.7686463 (360)\ttotal: 2m 14s\tremaining: 28m 44s\n"
     ]
    },
    {
     "name": "stdout",
     "output_type": "stream",
     "text": [
      "380:\tlearn: 0.7689634\ttest: 0.7699118\tbest: 0.7699118 (380)\ttotal: 2m 21s\tremaining: 28m 33s\n"
     ]
    },
    {
     "name": "stdout",
     "output_type": "stream",
     "text": [
      "400:\tlearn: 0.7697183\ttest: 0.7705101\tbest: 0.7705101 (400)\ttotal: 2m 28s\tremaining: 28m 24s\n"
     ]
    },
    {
     "name": "stdout",
     "output_type": "stream",
     "text": [
      "420:\tlearn: 0.7703691\ttest: 0.7710955\tbest: 0.7710955 (420)\ttotal: 2m 35s\tremaining: 28m 14s\n"
     ]
    },
    {
     "name": "stdout",
     "output_type": "stream",
     "text": [
      "440:\tlearn: 0.7709269\ttest: 0.7720996\tbest: 0.7720996 (440)\ttotal: 2m 43s\tremaining: 28m 6s\n"
     ]
    },
    {
     "name": "stdout",
     "output_type": "stream",
     "text": [
      "460:\tlearn: 0.7717922\ttest: 0.7722378\tbest: 0.7722378 (460)\ttotal: 2m 50s\tremaining: 27m 59s\n"
     ]
    },
    {
     "name": "stdout",
     "output_type": "stream",
     "text": [
      "480:\tlearn: 0.7724880\ttest: 0.7723231\tbest: 0.7724754 (478)\ttotal: 2m 57s\tremaining: 27m 49s\n"
     ]
    },
    {
     "name": "stdout",
     "output_type": "stream",
     "text": [
      "500:\tlearn: 0.7731406\ttest: 0.7726715\tbest: 0.7727297 (499)\ttotal: 3m 4s\tremaining: 27m 39s\n"
     ]
    },
    {
     "name": "stdout",
     "output_type": "stream",
     "text": [
      "520:\tlearn: 0.7737101\ttest: 0.7731065\tbest: 0.7731065 (520)\ttotal: 3m 12s\tremaining: 27m 30s\n"
     ]
    },
    {
     "name": "stdout",
     "output_type": "stream",
     "text": [
      "540:\tlearn: 0.7742727\ttest: 0.7736531\tbest: 0.7736531 (540)\ttotal: 3m 19s\tremaining: 27m 24s\n"
     ]
    },
    {
     "name": "stdout",
     "output_type": "stream",
     "text": [
      "560:\tlearn: 0.7747516\ttest: 0.7737898\tbest: 0.7738977 (557)\ttotal: 3m 26s\tremaining: 27m 17s\n"
     ]
    },
    {
     "name": "stdout",
     "output_type": "stream",
     "text": [
      "580:\tlearn: 0.7750843\ttest: 0.7744048\tbest: 0.7744048 (580)\ttotal: 3m 34s\tremaining: 27m 11s\n"
     ]
    },
    {
     "name": "stdout",
     "output_type": "stream",
     "text": [
      "600:\tlearn: 0.7754183\ttest: 0.7748215\tbest: 0.7748215 (600)\ttotal: 3m 41s\tremaining: 27m 4s\n"
     ]
    },
    {
     "name": "stdout",
     "output_type": "stream",
     "text": [
      "620:\tlearn: 0.7758396\ttest: 0.7751995\tbest: 0.7754032 (619)\ttotal: 3m 49s\tremaining: 26m 56s\n"
     ]
    },
    {
     "name": "stdout",
     "output_type": "stream",
     "text": [
      "640:\tlearn: 0.7761251\ttest: 0.7756964\tbest: 0.7757597 (632)\ttotal: 3m 56s\tremaining: 26m 49s\n"
     ]
    },
    {
     "name": "stdout",
     "output_type": "stream",
     "text": [
      "660:\tlearn: 0.7765837\ttest: 0.7758923\tbest: 0.7758923 (660)\ttotal: 4m 4s\tremaining: 26m 41s\n"
     ]
    },
    {
     "name": "stdout",
     "output_type": "stream",
     "text": [
      "680:\tlearn: 0.7771277\ttest: 0.7756647\tbest: 0.7758923 (660)\ttotal: 4m 11s\tremaining: 26m 34s\n"
     ]
    },
    {
     "name": "stdout",
     "output_type": "stream",
     "text": [
      "700:\tlearn: 0.7775989\ttest: 0.7759089\tbest: 0.7759089 (700)\ttotal: 4m 18s\tremaining: 26m 24s\n"
     ]
    },
    {
     "name": "stdout",
     "output_type": "stream",
     "text": [
      "720:\tlearn: 0.7779050\ttest: 0.7762912\tbest: 0.7763511 (719)\ttotal: 4m 25s\tremaining: 26m 17s\n"
     ]
    },
    {
     "name": "stdout",
     "output_type": "stream",
     "text": [
      "740:\tlearn: 0.7781624\ttest: 0.7768372\tbest: 0.7768531 (739)\ttotal: 4m 33s\tremaining: 26m 10s\n"
     ]
    },
    {
     "name": "stdout",
     "output_type": "stream",
     "text": [
      "760:\tlearn: 0.7786733\ttest: 0.7772597\tbest: 0.7773343 (758)\ttotal: 4m 40s\tremaining: 26m 2s\n"
     ]
    },
    {
     "name": "stdout",
     "output_type": "stream",
     "text": [
      "780:\tlearn: 0.7790147\ttest: 0.7778002\tbest: 0.7778002 (780)\ttotal: 4m 48s\tremaining: 25m 55s\n"
     ]
    },
    {
     "name": "stdout",
     "output_type": "stream",
     "text": [
      "800:\tlearn: 0.7793626\ttest: 0.7782528\tbest: 0.7782692 (799)\ttotal: 4m 55s\tremaining: 25m 48s\n"
     ]
    },
    {
     "name": "stdout",
     "output_type": "stream",
     "text": [
      "820:\tlearn: 0.7798253\ttest: 0.7787046\tbest: 0.7787046 (820)\ttotal: 5m 2s\tremaining: 25m 42s\n"
     ]
    },
    {
     "name": "stdout",
     "output_type": "stream",
     "text": [
      "840:\tlearn: 0.7800947\ttest: 0.7792318\tbest: 0.7793173 (834)\ttotal: 5m 10s\tremaining: 25m 33s\n"
     ]
    },
    {
     "name": "stdout",
     "output_type": "stream",
     "text": [
      "860:\tlearn: 0.7804946\ttest: 0.7797474\tbest: 0.7797474 (860)\ttotal: 5m 17s\tremaining: 25m 25s\n"
     ]
    },
    {
     "name": "stdout",
     "output_type": "stream",
     "text": [
      "880:\tlearn: 0.7810042\ttest: 0.7799579\tbest: 0.7799926 (878)\ttotal: 5m 24s\tremaining: 25m 16s\n"
     ]
    },
    {
     "name": "stdout",
     "output_type": "stream",
     "text": [
      "900:\tlearn: 0.7812696\ttest: 0.7804230\tbest: 0.7804800 (898)\ttotal: 5m 31s\tremaining: 25m 10s\n"
     ]
    },
    {
     "name": "stdout",
     "output_type": "stream",
     "text": [
      "920:\tlearn: 0.7814701\ttest: 0.7806715\tbest: 0.7807082 (918)\ttotal: 5m 39s\tremaining: 25m 3s\n"
     ]
    },
    {
     "name": "stdout",
     "output_type": "stream",
     "text": [
      "940:\tlearn: 0.7816183\ttest: 0.7808730\tbest: 0.7808730 (940)\ttotal: 5m 46s\tremaining: 24m 56s\n"
     ]
    },
    {
     "name": "stdout",
     "output_type": "stream",
     "text": [
      "960:\tlearn: 0.7817519\ttest: 0.7810281\tbest: 0.7811094 (959)\ttotal: 5m 54s\tremaining: 24m 50s\n"
     ]
    },
    {
     "name": "stdout",
     "output_type": "stream",
     "text": [
      "980:\tlearn: 0.7819649\ttest: 0.7812300\tbest: 0.7813987 (972)\ttotal: 6m 1s\tremaining: 24m 43s\n"
     ]
    },
    {
     "name": "stdout",
     "output_type": "stream",
     "text": [
      "1000:\tlearn: 0.7821796\ttest: 0.7813228\tbest: 0.7814401 (988)\ttotal: 6m 9s\tremaining: 24m 36s\n"
     ]
    },
    {
     "name": "stdout",
     "output_type": "stream",
     "text": [
      "1020:\tlearn: 0.7823753\ttest: 0.7814371\tbest: 0.7814497 (1016)\ttotal: 6m 16s\tremaining: 24m 27s\n"
     ]
    },
    {
     "name": "stdout",
     "output_type": "stream",
     "text": [
      "1040:\tlearn: 0.7826294\ttest: 0.7818230\tbest: 0.7818230 (1040)\ttotal: 6m 24s\tremaining: 24m 20s\n"
     ]
    },
    {
     "name": "stdout",
     "output_type": "stream",
     "text": [
      "1060:\tlearn: 0.7828222\ttest: 0.7818495\tbest: 0.7819141 (1051)\ttotal: 6m 31s\tremaining: 24m 12s\n"
     ]
    },
    {
     "name": "stdout",
     "output_type": "stream",
     "text": [
      "1080:\tlearn: 0.7831291\ttest: 0.7821487\tbest: 0.7821487 (1080)\ttotal: 6m 38s\tremaining: 24m 4s\n"
     ]
    },
    {
     "name": "stdout",
     "output_type": "stream",
     "text": [
      "1100:\tlearn: 0.7832736\ttest: 0.7823421\tbest: 0.7823553 (1097)\ttotal: 6m 46s\tremaining: 23m 57s\n"
     ]
    },
    {
     "name": "stdout",
     "output_type": "stream",
     "text": [
      "1120:\tlearn: 0.7836318\ttest: 0.7822607\tbest: 0.7825213 (1105)\ttotal: 6m 53s\tremaining: 23m 49s\n"
     ]
    },
    {
     "name": "stdout",
     "output_type": "stream",
     "text": [
      "1140:\tlearn: 0.7839688\ttest: 0.7823635\tbest: 0.7825213 (1105)\ttotal: 7m\tremaining: 23m 43s\n"
     ]
    },
    {
     "name": "stdout",
     "output_type": "stream",
     "text": [
      "1160:\tlearn: 0.7842371\ttest: 0.7825596\tbest: 0.7825702 (1156)\ttotal: 7m 8s\tremaining: 23m 36s\n"
     ]
    },
    {
     "name": "stdout",
     "output_type": "stream",
     "text": [
      "1180:\tlearn: 0.7843942\ttest: 0.7829154\tbest: 0.7829154 (1180)\ttotal: 7m 15s\tremaining: 23m 28s\n"
     ]
    },
    {
     "name": "stdout",
     "output_type": "stream",
     "text": [
      "1200:\tlearn: 0.7844547\ttest: 0.7826398\tbest: 0.7829287 (1186)\ttotal: 7m 23s\tremaining: 23m 21s\n"
     ]
    },
    {
     "name": "stdout",
     "output_type": "stream",
     "text": [
      "1220:\tlearn: 0.7845827\ttest: 0.7828094\tbest: 0.7829287 (1186)\ttotal: 7m 30s\tremaining: 23m 13s\n"
     ]
    },
    {
     "name": "stdout",
     "output_type": "stream",
     "text": [
      "1240:\tlearn: 0.7847801\ttest: 0.7831212\tbest: 0.7831212 (1240)\ttotal: 7m 37s\tremaining: 23m 5s\n"
     ]
    },
    {
     "name": "stdout",
     "output_type": "stream",
     "text": [
      "1260:\tlearn: 0.7850797\ttest: 0.7833700\tbest: 0.7835942 (1256)\ttotal: 7m 44s\tremaining: 22m 58s\n"
     ]
    },
    {
     "name": "stdout",
     "output_type": "stream",
     "text": [
      "1280:\tlearn: 0.7850571\ttest: 0.7837275\tbest: 0.7837871 (1278)\ttotal: 7m 52s\tremaining: 22m 50s\n"
     ]
    },
    {
     "name": "stdout",
     "output_type": "stream",
     "text": [
      "1300:\tlearn: 0.7852936\ttest: 0.7838516\tbest: 0.7840469 (1292)\ttotal: 7m 59s\tremaining: 22m 42s\n"
     ]
    },
    {
     "name": "stdout",
     "output_type": "stream",
     "text": [
      "1320:\tlearn: 0.7854887\ttest: 0.7842252\tbest: 0.7842252 (1320)\ttotal: 8m 6s\tremaining: 22m 34s\n"
     ]
    },
    {
     "name": "stdout",
     "output_type": "stream",
     "text": [
      "1340:\tlearn: 0.7857659\ttest: 0.7845144\tbest: 0.7845338 (1339)\ttotal: 8m 13s\tremaining: 22m 27s\n"
     ]
    },
    {
     "name": "stdout",
     "output_type": "stream",
     "text": [
      "1360:\tlearn: 0.7859100\ttest: 0.7845265\tbest: 0.7846198 (1353)\ttotal: 8m 21s\tremaining: 22m 20s\n"
     ]
    },
    {
     "name": "stdout",
     "output_type": "stream",
     "text": [
      "1380:\tlearn: 0.7862253\ttest: 0.7847324\tbest: 0.7847324 (1380)\ttotal: 8m 28s\tremaining: 22m 12s\n"
     ]
    },
    {
     "name": "stdout",
     "output_type": "stream",
     "text": [
      "1400:\tlearn: 0.7865158\ttest: 0.7847931\tbest: 0.7849754 (1397)\ttotal: 8m 36s\tremaining: 22m 5s\n"
     ]
    },
    {
     "name": "stdout",
     "output_type": "stream",
     "text": [
      "1420:\tlearn: 0.7866022\ttest: 0.7849609\tbest: 0.7849780 (1418)\ttotal: 8m 43s\tremaining: 21m 58s\n"
     ]
    },
    {
     "name": "stdout",
     "output_type": "stream",
     "text": [
      "1440:\tlearn: 0.7866636\ttest: 0.7849911\tbest: 0.7851255 (1432)\ttotal: 8m 50s\tremaining: 21m 50s\n"
     ]
    },
    {
     "name": "stdout",
     "output_type": "stream",
     "text": [
      "1460:\tlearn: 0.7867955\ttest: 0.7852392\tbest: 0.7852392 (1460)\ttotal: 8m 58s\tremaining: 21m 43s\n"
     ]
    },
    {
     "name": "stdout",
     "output_type": "stream",
     "text": [
      "1480:\tlearn: 0.7870299\ttest: 0.7852885\tbest: 0.7854105 (1477)\ttotal: 9m 5s\tremaining: 21m 36s\n"
     ]
    },
    {
     "name": "stdout",
     "output_type": "stream",
     "text": [
      "1500:\tlearn: 0.7873408\ttest: 0.7852977\tbest: 0.7854314 (1491)\ttotal: 9m 12s\tremaining: 21m 28s\n"
     ]
    },
    {
     "name": "stdout",
     "output_type": "stream",
     "text": [
      "1520:\tlearn: 0.7874954\ttest: 0.7854765\tbest: 0.7854765 (1520)\ttotal: 9m 20s\tremaining: 21m 21s\n"
     ]
    },
    {
     "name": "stdout",
     "output_type": "stream",
     "text": [
      "1540:\tlearn: 0.7877360\ttest: 0.7853794\tbest: 0.7855434 (1522)\ttotal: 9m 27s\tremaining: 21m 14s\n"
     ]
    },
    {
     "name": "stdout",
     "output_type": "stream",
     "text": [
      "1560:\tlearn: 0.7878120\ttest: 0.7852622\tbest: 0.7855434 (1522)\ttotal: 9m 35s\tremaining: 21m 7s\n"
     ]
    },
    {
     "name": "stdout",
     "output_type": "stream",
     "text": [
      "1580:\tlearn: 0.7880662\ttest: 0.7854025\tbest: 0.7855434 (1522)\ttotal: 9m 42s\tremaining: 21m\n"
     ]
    },
    {
     "name": "stdout",
     "output_type": "stream",
     "text": [
      "1600:\tlearn: 0.7881825\ttest: 0.7857263\tbest: 0.7857263 (1600)\ttotal: 9m 50s\tremaining: 20m 53s\n"
     ]
    },
    {
     "name": "stdout",
     "output_type": "stream",
     "text": [
      "1620:\tlearn: 0.7884031\ttest: 0.7857512\tbest: 0.7858049 (1613)\ttotal: 9m 57s\tremaining: 20m 45s\n"
     ]
    },
    {
     "name": "stdout",
     "output_type": "stream",
     "text": [
      "1640:\tlearn: 0.7884798\ttest: 0.7859022\tbest: 0.7859803 (1636)\ttotal: 10m 4s\tremaining: 20m 37s\n"
     ]
    },
    {
     "name": "stdout",
     "output_type": "stream",
     "text": [
      "1660:\tlearn: 0.7887114\ttest: 0.7859067\tbest: 0.7859803 (1636)\ttotal: 10m 11s\tremaining: 20m 30s\n"
     ]
    },
    {
     "name": "stdout",
     "output_type": "stream",
     "text": [
      "1680:\tlearn: 0.7888630\ttest: 0.7860409\tbest: 0.7860826 (1666)\ttotal: 10m 18s\tremaining: 20m 22s\n"
     ]
    },
    {
     "name": "stdout",
     "output_type": "stream",
     "text": [
      "1700:\tlearn: 0.7888611\ttest: 0.7860425\tbest: 0.7861619 (1695)\ttotal: 10m 25s\tremaining: 20m 13s\n"
     ]
    },
    {
     "name": "stdout",
     "output_type": "stream",
     "text": [
      "1720:\tlearn: 0.7889439\ttest: 0.7864871\tbest: 0.7864871 (1720)\ttotal: 10m 32s\tremaining: 20m 5s\n"
     ]
    },
    {
     "name": "stdout",
     "output_type": "stream",
     "text": [
      "1740:\tlearn: 0.7890880\ttest: 0.7867622\tbest: 0.7868666 (1738)\ttotal: 10m 40s\tremaining: 19m 58s\n"
     ]
    },
    {
     "name": "stdout",
     "output_type": "stream",
     "text": [
      "1760:\tlearn: 0.7893104\ttest: 0.7868250\tbest: 0.7868935 (1746)\ttotal: 10m 47s\tremaining: 19m 51s\n"
     ]
    },
    {
     "name": "stdout",
     "output_type": "stream",
     "text": [
      "1780:\tlearn: 0.7895916\ttest: 0.7869946\tbest: 0.7869946 (1780)\ttotal: 10m 54s\tremaining: 19m 43s\n"
     ]
    },
    {
     "name": "stdout",
     "output_type": "stream",
     "text": [
      "1800:\tlearn: 0.7897556\ttest: 0.7872898\tbest: 0.7872898 (1800)\ttotal: 11m 2s\tremaining: 19m 36s\n"
     ]
    },
    {
     "name": "stdout",
     "output_type": "stream",
     "text": [
      "1820:\tlearn: 0.7898425\ttest: 0.7872703\tbest: 0.7873398 (1806)\ttotal: 11m 9s\tremaining: 19m 29s\n"
     ]
    },
    {
     "name": "stdout",
     "output_type": "stream",
     "text": [
      "1840:\tlearn: 0.7899048\ttest: 0.7871222\tbest: 0.7873398 (1806)\ttotal: 11m 17s\tremaining: 19m 21s\n"
     ]
    },
    {
     "name": "stdout",
     "output_type": "stream",
     "text": [
      "1860:\tlearn: 0.7899354\ttest: 0.7870781\tbest: 0.7873398 (1806)\ttotal: 11m 24s\tremaining: 19m 13s\n"
     ]
    },
    {
     "name": "stdout",
     "output_type": "stream",
     "text": [
      "1880:\tlearn: 0.7901201\ttest: 0.7873107\tbest: 0.7873398 (1806)\ttotal: 11m 31s\tremaining: 19m 6s\n"
     ]
    },
    {
     "name": "stdout",
     "output_type": "stream",
     "text": [
      "1900:\tlearn: 0.7902797\ttest: 0.7873536\tbest: 0.7874155 (1899)\ttotal: 11m 39s\tremaining: 18m 59s\n"
     ]
    },
    {
     "name": "stdout",
     "output_type": "stream",
     "text": [
      "1920:\tlearn: 0.7904956\ttest: 0.7874538\tbest: 0.7874851 (1905)\ttotal: 11m 46s\tremaining: 18m 51s\n"
     ]
    },
    {
     "name": "stdout",
     "output_type": "stream",
     "text": [
      "1940:\tlearn: 0.7906913\ttest: 0.7874692\tbest: 0.7875041 (1931)\ttotal: 11m 53s\tremaining: 18m 44s\n"
     ]
    },
    {
     "name": "stdout",
     "output_type": "stream",
     "text": [
      "1960:\tlearn: 0.7907189\ttest: 0.7875339\tbest: 0.7876119 (1954)\ttotal: 12m\tremaining: 18m 37s\n"
     ]
    },
    {
     "name": "stdout",
     "output_type": "stream",
     "text": [
      "1980:\tlearn: 0.7907702\ttest: 0.7876575\tbest: 0.7876575 (1980)\ttotal: 12m 8s\tremaining: 18m 29s\n"
     ]
    },
    {
     "name": "stdout",
     "output_type": "stream",
     "text": [
      "2000:\tlearn: 0.7909831\ttest: 0.7878840\tbest: 0.7879036 (1999)\ttotal: 12m 15s\tremaining: 18m 21s\n"
     ]
    },
    {
     "name": "stdout",
     "output_type": "stream",
     "text": [
      "2020:\tlearn: 0.7911742\ttest: 0.7881118\tbest: 0.7881118 (2020)\ttotal: 12m 22s\tremaining: 18m 14s\n"
     ]
    },
    {
     "name": "stdout",
     "output_type": "stream",
     "text": [
      "2040:\tlearn: 0.7912203\ttest: 0.7881527\tbest: 0.7882248 (2027)\ttotal: 12m 30s\tremaining: 18m 7s\n"
     ]
    },
    {
     "name": "stdout",
     "output_type": "stream",
     "text": [
      "2060:\tlearn: 0.7912790\ttest: 0.7880855\tbest: 0.7882248 (2027)\ttotal: 12m 37s\tremaining: 18m\n"
     ]
    },
    {
     "name": "stdout",
     "output_type": "stream",
     "text": [
      "2080:\tlearn: 0.7915052\ttest: 0.7880611\tbest: 0.7882248 (2027)\ttotal: 12m 44s\tremaining: 17m 52s\n"
     ]
    },
    {
     "name": "stdout",
     "output_type": "stream",
     "text": [
      "2100:\tlearn: 0.7915738\ttest: 0.7880775\tbest: 0.7882248 (2027)\ttotal: 12m 52s\tremaining: 17m 45s\n"
     ]
    },
    {
     "name": "stdout",
     "output_type": "stream",
     "text": [
      "2120:\tlearn: 0.7916456\ttest: 0.7880961\tbest: 0.7882800 (2116)\ttotal: 12m 59s\tremaining: 17m 38s\n"
     ]
    },
    {
     "name": "stdout",
     "output_type": "stream",
     "text": [
      "2140:\tlearn: 0.7917394\ttest: 0.7880264\tbest: 0.7882800 (2116)\ttotal: 13m 6s\tremaining: 17m 30s\n"
     ]
    },
    {
     "name": "stdout",
     "output_type": "stream",
     "text": [
      "2160:\tlearn: 0.7918954\ttest: 0.7882098\tbest: 0.7882800 (2116)\ttotal: 13m 13s\tremaining: 17m 23s\n"
     ]
    },
    {
     "name": "stdout",
     "output_type": "stream",
     "text": [
      "2180:\tlearn: 0.7919377\ttest: 0.7880993\tbest: 0.7884511 (2171)\ttotal: 13m 21s\tremaining: 17m 15s\n"
     ]
    },
    {
     "name": "stdout",
     "output_type": "stream",
     "text": [
      "2200:\tlearn: 0.7920841\ttest: 0.7884506\tbest: 0.7884511 (2171)\ttotal: 13m 28s\tremaining: 17m 8s\n"
     ]
    },
    {
     "name": "stdout",
     "output_type": "stream",
     "text": [
      "2220:\tlearn: 0.7922743\ttest: 0.7883438\tbest: 0.7886491 (2210)\ttotal: 13m 35s\tremaining: 17m\n"
     ]
    },
    {
     "name": "stdout",
     "output_type": "stream",
     "text": [
      "2240:\tlearn: 0.7923037\ttest: 0.7883785\tbest: 0.7886491 (2210)\ttotal: 13m 43s\tremaining: 16m 53s\n"
     ]
    },
    {
     "name": "stdout",
     "output_type": "stream",
     "text": [
      "2260:\tlearn: 0.7923262\ttest: 0.7886216\tbest: 0.7886491 (2210)\ttotal: 13m 50s\tremaining: 16m 46s\n"
     ]
    },
    {
     "name": "stdout",
     "output_type": "stream",
     "text": [
      "2280:\tlearn: 0.7924330\ttest: 0.7885570\tbest: 0.7886491 (2210)\ttotal: 13m 57s\tremaining: 16m 38s\n"
     ]
    },
    {
     "name": "stdout",
     "output_type": "stream",
     "text": [
      "2300:\tlearn: 0.7926015\ttest: 0.7884236\tbest: 0.7886491 (2210)\ttotal: 14m 5s\tremaining: 16m 31s\n"
     ]
    },
    {
     "name": "stdout",
     "output_type": "stream",
     "text": [
      "2320:\tlearn: 0.7926917\ttest: 0.7887283\tbest: 0.7887283 (2320)\ttotal: 14m 12s\tremaining: 16m 24s\n"
     ]
    },
    {
     "name": "stdout",
     "output_type": "stream",
     "text": [
      "2340:\tlearn: 0.7927518\ttest: 0.7887191\tbest: 0.7888448 (2338)\ttotal: 14m 19s\tremaining: 16m 16s\n"
     ]
    },
    {
     "name": "stdout",
     "output_type": "stream",
     "text": [
      "2360:\tlearn: 0.7928957\ttest: 0.7889216\tbest: 0.7889216 (2360)\ttotal: 14m 27s\tremaining: 16m 9s\n"
     ]
    },
    {
     "name": "stdout",
     "output_type": "stream",
     "text": [
      "2380:\tlearn: 0.7931112\ttest: 0.7888933\tbest: 0.7889750 (2377)\ttotal: 14m 34s\tremaining: 16m 2s\n"
     ]
    },
    {
     "name": "stdout",
     "output_type": "stream",
     "text": [
      "2400:\tlearn: 0.7932450\ttest: 0.7890310\tbest: 0.7890310 (2400)\ttotal: 14m 42s\tremaining: 15m 54s\n"
     ]
    },
    {
     "name": "stdout",
     "output_type": "stream",
     "text": [
      "2420:\tlearn: 0.7934087\ttest: 0.7888539\tbest: 0.7890593 (2411)\ttotal: 14m 49s\tremaining: 15m 47s\n"
     ]
    },
    {
     "name": "stdout",
     "output_type": "stream",
     "text": [
      "2440:\tlearn: 0.7935014\ttest: 0.7890784\tbest: 0.7890784 (2440)\ttotal: 14m 56s\tremaining: 15m 39s\n"
     ]
    },
    {
     "name": "stdout",
     "output_type": "stream",
     "text": [
      "2460:\tlearn: 0.7935720\ttest: 0.7891750\tbest: 0.7891750 (2460)\ttotal: 15m 3s\tremaining: 15m 32s\n"
     ]
    },
    {
     "name": "stdout",
     "output_type": "stream",
     "text": [
      "2480:\tlearn: 0.7936888\ttest: 0.7891884\tbest: 0.7892466 (2472)\ttotal: 15m 10s\tremaining: 15m 24s\n"
     ]
    },
    {
     "name": "stdout",
     "output_type": "stream",
     "text": [
      "2500:\tlearn: 0.7938496\ttest: 0.7891377\tbest: 0.7892466 (2472)\ttotal: 15m 17s\tremaining: 15m 17s\n"
     ]
    },
    {
     "name": "stdout",
     "output_type": "stream",
     "text": [
      "2520:\tlearn: 0.7938782\ttest: 0.7892116\tbest: 0.7892486 (2511)\ttotal: 15m 25s\tremaining: 15m 9s\n"
     ]
    },
    {
     "name": "stdout",
     "output_type": "stream",
     "text": [
      "2540:\tlearn: 0.7940035\ttest: 0.7890551\tbest: 0.7892486 (2511)\ttotal: 15m 32s\tremaining: 15m 2s\n"
     ]
    },
    {
     "name": "stdout",
     "output_type": "stream",
     "text": [
      "2560:\tlearn: 0.7940820\ttest: 0.7892325\tbest: 0.7892486 (2511)\ttotal: 15m 39s\tremaining: 14m 54s\n"
     ]
    },
    {
     "name": "stdout",
     "output_type": "stream",
     "text": [
      "2580:\tlearn: 0.7942191\ttest: 0.7896225\tbest: 0.7896635 (2579)\ttotal: 15m 46s\tremaining: 14m 47s\n"
     ]
    },
    {
     "name": "stdout",
     "output_type": "stream",
     "text": [
      "2600:\tlearn: 0.7943018\ttest: 0.7895053\tbest: 0.7896635 (2579)\ttotal: 15m 54s\tremaining: 14m 40s\n"
     ]
    },
    {
     "name": "stdout",
     "output_type": "stream",
     "text": [
      "2620:\tlearn: 0.7944241\ttest: 0.7896023\tbest: 0.7896635 (2579)\ttotal: 16m 1s\tremaining: 14m 32s\n"
     ]
    },
    {
     "name": "stdout",
     "output_type": "stream",
     "text": [
      "2640:\tlearn: 0.7945224\ttest: 0.7896318\tbest: 0.7896716 (2636)\ttotal: 16m 8s\tremaining: 14m 25s\n"
     ]
    },
    {
     "name": "stdout",
     "output_type": "stream",
     "text": [
      "2660:\tlearn: 0.7946228\ttest: 0.7895783\tbest: 0.7896991 (2647)\ttotal: 16m 15s\tremaining: 14m 17s\n"
     ]
    },
    {
     "name": "stdout",
     "output_type": "stream",
     "text": [
      "2680:\tlearn: 0.7946164\ttest: 0.7898019\tbest: 0.7898019 (2680)\ttotal: 16m 23s\tremaining: 14m 10s\n"
     ]
    },
    {
     "name": "stdout",
     "output_type": "stream",
     "text": [
      "2700:\tlearn: 0.7947739\ttest: 0.7898756\tbest: 0.7899544 (2688)\ttotal: 16m 30s\tremaining: 14m 2s\n"
     ]
    },
    {
     "name": "stdout",
     "output_type": "stream",
     "text": [
      "2720:\tlearn: 0.7949105\ttest: 0.7899698\tbest: 0.7900535 (2718)\ttotal: 16m 37s\tremaining: 13m 55s\n"
     ]
    },
    {
     "name": "stdout",
     "output_type": "stream",
     "text": [
      "2740:\tlearn: 0.7950896\ttest: 0.7900426\tbest: 0.7900628 (2739)\ttotal: 16m 44s\tremaining: 13m 47s\n"
     ]
    },
    {
     "name": "stdout",
     "output_type": "stream",
     "text": [
      "2760:\tlearn: 0.7952005\ttest: 0.7900321\tbest: 0.7900628 (2739)\ttotal: 16m 51s\tremaining: 13m 40s\n"
     ]
    },
    {
     "name": "stdout",
     "output_type": "stream",
     "text": [
      "2780:\tlearn: 0.7953087\ttest: 0.7901481\tbest: 0.7901481 (2780)\ttotal: 16m 59s\tremaining: 13m 33s\n"
     ]
    },
    {
     "name": "stdout",
     "output_type": "stream",
     "text": [
      "2800:\tlearn: 0.7953831\ttest: 0.7900744\tbest: 0.7901971 (2791)\ttotal: 17m 6s\tremaining: 13m 25s\n"
     ]
    },
    {
     "name": "stdout",
     "output_type": "stream",
     "text": [
      "2820:\tlearn: 0.7954981\ttest: 0.7902106\tbest: 0.7902106 (2820)\ttotal: 17m 13s\tremaining: 13m 18s\n"
     ]
    },
    {
     "name": "stdout",
     "output_type": "stream",
     "text": [
      "2840:\tlearn: 0.7955587\ttest: 0.7903667\tbest: 0.7903667 (2840)\ttotal: 17m 21s\tremaining: 13m 11s\n"
     ]
    },
    {
     "name": "stdout",
     "output_type": "stream",
     "text": [
      "2860:\tlearn: 0.7955704\ttest: 0.7904379\tbest: 0.7904379 (2860)\ttotal: 17m 28s\tremaining: 13m 3s\n"
     ]
    },
    {
     "name": "stdout",
     "output_type": "stream",
     "text": [
      "2880:\tlearn: 0.7957264\ttest: 0.7905729\tbest: 0.7905932 (2879)\ttotal: 17m 35s\tremaining: 12m 56s\n"
     ]
    },
    {
     "name": "stdout",
     "output_type": "stream",
     "text": [
      "2900:\tlearn: 0.7957672\ttest: 0.7904998\tbest: 0.7905949 (2882)\ttotal: 17m 42s\tremaining: 12m 48s\n"
     ]
    },
    {
     "name": "stdout",
     "output_type": "stream",
     "text": [
      "2920:\tlearn: 0.7958828\ttest: 0.7906782\tbest: 0.7906782 (2920)\ttotal: 17m 49s\tremaining: 12m 41s\n"
     ]
    },
    {
     "name": "stdout",
     "output_type": "stream",
     "text": [
      "2940:\tlearn: 0.7959007\ttest: 0.7903288\tbest: 0.7906783 (2921)\ttotal: 17m 56s\tremaining: 12m 33s\n"
     ]
    },
    {
     "name": "stdout",
     "output_type": "stream",
     "text": [
      "2960:\tlearn: 0.7960898\ttest: 0.7905291\tbest: 0.7906783 (2921)\ttotal: 18m 3s\tremaining: 12m 26s\n"
     ]
    },
    {
     "name": "stdout",
     "output_type": "stream",
     "text": [
      "2980:\tlearn: 0.7961254\ttest: 0.7904977\tbest: 0.7906783 (2921)\ttotal: 18m 10s\tremaining: 12m 18s\n"
     ]
    },
    {
     "name": "stdout",
     "output_type": "stream",
     "text": [
      "3000:\tlearn: 0.7962659\ttest: 0.7905057\tbest: 0.7906783 (2921)\ttotal: 18m 18s\tremaining: 12m 11s\n"
     ]
    },
    {
     "name": "stdout",
     "output_type": "stream",
     "text": [
      "3020:\tlearn: 0.7962784\ttest: 0.7906184\tbest: 0.7906783 (2921)\ttotal: 18m 25s\tremaining: 12m 4s\n"
     ]
    },
    {
     "name": "stdout",
     "output_type": "stream",
     "text": [
      "3040:\tlearn: 0.7963066\ttest: 0.7905850\tbest: 0.7906783 (2921)\ttotal: 18m 33s\tremaining: 11m 57s\n"
     ]
    },
    {
     "name": "stdout",
     "output_type": "stream",
     "text": [
      "3060:\tlearn: 0.7963607\ttest: 0.7906976\tbest: 0.7907181 (3059)\ttotal: 18m 40s\tremaining: 11m 49s\n"
     ]
    },
    {
     "name": "stdout",
     "output_type": "stream",
     "text": [
      "3080:\tlearn: 0.7964846\ttest: 0.7905395\tbest: 0.7907432 (3066)\ttotal: 18m 47s\tremaining: 11m 42s\n"
     ]
    },
    {
     "name": "stdout",
     "output_type": "stream",
     "text": [
      "3100:\tlearn: 0.7965771\ttest: 0.7905909\tbest: 0.7907569 (3094)\ttotal: 18m 55s\tremaining: 11m 35s\n"
     ]
    },
    {
     "name": "stdout",
     "output_type": "stream",
     "text": [
      "3120:\tlearn: 0.7966900\ttest: 0.7905561\tbest: 0.7907569 (3094)\ttotal: 19m 2s\tremaining: 11m 27s\n"
     ]
    },
    {
     "name": "stdout",
     "output_type": "stream",
     "text": [
      "3140:\tlearn: 0.7968177\ttest: 0.7905203\tbest: 0.7907569 (3094)\ttotal: 19m 9s\tremaining: 11m 20s\n"
     ]
    },
    {
     "name": "stdout",
     "output_type": "stream",
     "text": [
      "3160:\tlearn: 0.7969941\ttest: 0.7906139\tbest: 0.7907569 (3094)\ttotal: 19m 16s\tremaining: 11m 12s\n"
     ]
    },
    {
     "name": "stdout",
     "output_type": "stream",
     "text": [
      "3180:\tlearn: 0.7970865\ttest: 0.7907283\tbest: 0.7907569 (3094)\ttotal: 19m 24s\tremaining: 11m 5s\n"
     ]
    },
    {
     "name": "stdout",
     "output_type": "stream",
     "text": [
      "3200:\tlearn: 0.7971583\ttest: 0.7906096\tbest: 0.7907569 (3094)\ttotal: 19m 31s\tremaining: 10m 58s\n"
     ]
    },
    {
     "name": "stdout",
     "output_type": "stream",
     "text": [
      "3220:\tlearn: 0.7972130\ttest: 0.7907231\tbest: 0.7907569 (3094)\ttotal: 19m 38s\tremaining: 10m 51s\n"
     ]
    },
    {
     "name": "stdout",
     "output_type": "stream",
     "text": [
      "3240:\tlearn: 0.7973304\ttest: 0.7906052\tbest: 0.7908103 (3227)\ttotal: 19m 46s\tremaining: 10m 43s\n"
     ]
    },
    {
     "name": "stdout",
     "output_type": "stream",
     "text": [
      "3260:\tlearn: 0.7973539\ttest: 0.7908230\tbest: 0.7908230 (3260)\ttotal: 19m 53s\tremaining: 10m 36s\n"
     ]
    },
    {
     "name": "stdout",
     "output_type": "stream",
     "text": [
      "3280:\tlearn: 0.7973973\ttest: 0.7906829\tbest: 0.7908248 (3263)\ttotal: 20m\tremaining: 10m 28s\n"
     ]
    },
    {
     "name": "stdout",
     "output_type": "stream",
     "text": [
      "3300:\tlearn: 0.7975007\ttest: 0.7905861\tbest: 0.7908248 (3263)\ttotal: 20m 7s\tremaining: 10m 21s\n"
     ]
    },
    {
     "name": "stdout",
     "output_type": "stream",
     "text": [
      "3320:\tlearn: 0.7976748\ttest: 0.7906967\tbest: 0.7908248 (3263)\ttotal: 20m 15s\tremaining: 10m 14s\n"
     ]
    },
    {
     "name": "stdout",
     "output_type": "stream",
     "text": [
      "3340:\tlearn: 0.7976617\ttest: 0.7908318\tbest: 0.7908520 (3339)\ttotal: 20m 22s\tremaining: 10m 7s\n"
     ]
    },
    {
     "name": "stdout",
     "output_type": "stream",
     "text": [
      "3360:\tlearn: 0.7977838\ttest: 0.7909654\tbest: 0.7909838 (3353)\ttotal: 20m 29s\tremaining: 9m 59s\n"
     ]
    },
    {
     "name": "stdout",
     "output_type": "stream",
     "text": [
      "3380:\tlearn: 0.7978284\ttest: 0.7909116\tbest: 0.7909838 (3353)\ttotal: 20m 36s\tremaining: 9m 52s\n"
     ]
    },
    {
     "name": "stdout",
     "output_type": "stream",
     "text": [
      "3400:\tlearn: 0.7979222\ttest: 0.7910854\tbest: 0.7910854 (3400)\ttotal: 20m 44s\tremaining: 9m 45s\n"
     ]
    },
    {
     "name": "stdout",
     "output_type": "stream",
     "text": [
      "3420:\tlearn: 0.7979716\ttest: 0.7911355\tbest: 0.7912581 (3413)\ttotal: 20m 51s\tremaining: 9m 37s\n"
     ]
    },
    {
     "name": "stdout",
     "output_type": "stream",
     "text": [
      "3440:\tlearn: 0.7980283\ttest: 0.7912070\tbest: 0.7912678 (3434)\ttotal: 20m 59s\tremaining: 9m 30s\n"
     ]
    },
    {
     "name": "stdout",
     "output_type": "stream",
     "text": [
      "3460:\tlearn: 0.7980664\ttest: 0.7908969\tbest: 0.7912678 (3434)\ttotal: 21m 6s\tremaining: 9m 23s\n"
     ]
    },
    {
     "name": "stdout",
     "output_type": "stream",
     "text": [
      "3480:\tlearn: 0.7981457\ttest: 0.7909044\tbest: 0.7912678 (3434)\ttotal: 21m 13s\tremaining: 9m 15s\n"
     ]
    },
    {
     "name": "stdout",
     "output_type": "stream",
     "text": [
      "3500:\tlearn: 0.7981615\ttest: 0.7911205\tbest: 0.7912678 (3434)\ttotal: 21m 21s\tremaining: 9m 8s\n"
     ]
    },
    {
     "name": "stdout",
     "output_type": "stream",
     "text": [
      "3520:\tlearn: 0.7982073\ttest: 0.7911256\tbest: 0.7912678 (3434)\ttotal: 21m 28s\tremaining: 9m 1s\n"
     ]
    },
    {
     "name": "stdout",
     "output_type": "stream",
     "text": [
      "3540:\tlearn: 0.7983776\ttest: 0.7912166\tbest: 0.7912678 (3434)\ttotal: 21m 35s\tremaining: 8m 53s\n"
     ]
    },
    {
     "name": "stdout",
     "output_type": "stream",
     "text": [
      "3560:\tlearn: 0.7983744\ttest: 0.7910343\tbest: 0.7912678 (3434)\ttotal: 21m 42s\tremaining: 8m 46s\n"
     ]
    },
    {
     "name": "stdout",
     "output_type": "stream",
     "text": [
      "3580:\tlearn: 0.7984271\ttest: 0.7910417\tbest: 0.7912678 (3434)\ttotal: 21m 50s\tremaining: 8m 39s\n"
     ]
    },
    {
     "name": "stdout",
     "output_type": "stream",
     "text": [
      "3600:\tlearn: 0.7985645\ttest: 0.7909216\tbest: 0.7912678 (3434)\ttotal: 21m 57s\tremaining: 8m 31s\n"
     ]
    },
    {
     "name": "stdout",
     "output_type": "stream",
     "text": [
      "3620:\tlearn: 0.7986808\ttest: 0.7910151\tbest: 0.7912678 (3434)\ttotal: 22m 4s\tremaining: 8m 24s\n"
     ]
    },
    {
     "name": "stdout",
     "output_type": "stream",
     "text": [
      "3640:\tlearn: 0.7988810\ttest: 0.7909595\tbest: 0.7912678 (3434)\ttotal: 22m 12s\tremaining: 8m 17s\n"
     ]
    },
    {
     "name": "stdout",
     "output_type": "stream",
     "text": [
      "3660:\tlearn: 0.7989445\ttest: 0.7909865\tbest: 0.7912678 (3434)\ttotal: 22m 19s\tremaining: 8m 9s\n"
     ]
    },
    {
     "name": "stdout",
     "output_type": "stream",
     "text": [
      "3680:\tlearn: 0.7991610\ttest: 0.7910782\tbest: 0.7912678 (3434)\ttotal: 22m 26s\tremaining: 8m 2s\n"
     ]
    },
    {
     "name": "stdout",
     "output_type": "stream",
     "text": [
      "3700:\tlearn: 0.7991816\ttest: 0.7911046\tbest: 0.7912678 (3434)\ttotal: 22m 34s\tremaining: 7m 55s\n"
     ]
    },
    {
     "name": "stdout",
     "output_type": "stream",
     "text": [
      "3720:\tlearn: 0.7992248\ttest: 0.7912592\tbest: 0.7913214 (3717)\ttotal: 22m 41s\tremaining: 7m 47s\n"
     ]
    },
    {
     "name": "stdout",
     "output_type": "stream",
     "text": [
      "3740:\tlearn: 0.7992459\ttest: 0.7912663\tbest: 0.7913214 (3717)\ttotal: 22m 48s\tremaining: 7m 40s\n"
     ]
    },
    {
     "name": "stdout",
     "output_type": "stream",
     "text": [
      "3760:\tlearn: 0.7993576\ttest: 0.7912703\tbest: 0.7913313 (3750)\ttotal: 22m 56s\tremaining: 7m 33s\n"
     ]
    },
    {
     "name": "stdout",
     "output_type": "stream",
     "text": [
      "3780:\tlearn: 0.7994266\ttest: 0.7912134\tbest: 0.7913577 (3767)\ttotal: 23m 3s\tremaining: 7m 26s\n"
     ]
    },
    {
     "name": "stdout",
     "output_type": "stream",
     "text": [
      "3800:\tlearn: 0.7994993\ttest: 0.7913457\tbest: 0.7913577 (3767)\ttotal: 23m 10s\tremaining: 7m 18s\n"
     ]
    },
    {
     "name": "stdout",
     "output_type": "stream",
     "text": [
      "3820:\tlearn: 0.7995787\ttest: 0.7912033\tbest: 0.7913577 (3767)\ttotal: 23m 17s\tremaining: 7m 11s\n"
     ]
    },
    {
     "name": "stdout",
     "output_type": "stream",
     "text": [
      "3840:\tlearn: 0.7997133\ttest: 0.7912109\tbest: 0.7913577 (3767)\ttotal: 23m 25s\tremaining: 7m 3s\n"
     ]
    },
    {
     "name": "stdout",
     "output_type": "stream",
     "text": [
      "3860:\tlearn: 0.7997873\ttest: 0.7913445\tbest: 0.7913577 (3767)\ttotal: 23m 32s\tremaining: 6m 56s\n"
     ]
    },
    {
     "name": "stdout",
     "output_type": "stream",
     "text": [
      "3880:\tlearn: 0.7998957\ttest: 0.7914977\tbest: 0.7914977 (3880)\ttotal: 23m 39s\tremaining: 6m 49s\n"
     ]
    },
    {
     "name": "stdout",
     "output_type": "stream",
     "text": [
      "3900:\tlearn: 0.7999836\ttest: 0.7915021\tbest: 0.7915649 (3895)\ttotal: 23m 46s\tremaining: 6m 41s\n"
     ]
    },
    {
     "name": "stdout",
     "output_type": "stream",
     "text": [
      "3920:\tlearn: 0.8000297\ttest: 0.7915067\tbest: 0.7915694 (3917)\ttotal: 23m 54s\tremaining: 6m 34s\n"
     ]
    },
    {
     "name": "stdout",
     "output_type": "stream",
     "text": [
      "3940:\tlearn: 0.8001606\ttest: 0.7914709\tbest: 0.7915694 (3917)\ttotal: 24m 1s\tremaining: 6m 27s\n"
     ]
    },
    {
     "name": "stdout",
     "output_type": "stream",
     "text": [
      "3960:\tlearn: 0.8002502\ttest: 0.7913295\tbest: 0.7915694 (3917)\ttotal: 24m 8s\tremaining: 6m 19s\n"
     ]
    },
    {
     "name": "stdout",
     "output_type": "stream",
     "text": [
      "3980:\tlearn: 0.8002555\ttest: 0.7913352\tbest: 0.7915694 (3917)\ttotal: 24m 15s\tremaining: 6m 12s\n"
     ]
    },
    {
     "name": "stdout",
     "output_type": "stream",
     "text": [
      "4000:\tlearn: 0.8003740\ttest: 0.7913820\tbest: 0.7915694 (3917)\ttotal: 24m 22s\tremaining: 6m 5s\n"
     ]
    },
    {
     "name": "stdout",
     "output_type": "stream",
     "text": [
      "4020:\tlearn: 0.8003902\ttest: 0.7914729\tbest: 0.7915694 (3917)\ttotal: 24m 30s\tremaining: 5m 57s\n"
     ]
    },
    {
     "name": "stdout",
     "output_type": "stream",
     "text": [
      "4040:\tlearn: 0.8005432\ttest: 0.7914792\tbest: 0.7915694 (3917)\ttotal: 24m 37s\tremaining: 5m 50s\n"
     ]
    },
    {
     "name": "stdout",
     "output_type": "stream",
     "text": [
      "4060:\tlearn: 0.8004635\ttest: 0.7915078\tbest: 0.7915694 (3917)\ttotal: 24m 44s\tremaining: 5m 43s\n"
     ]
    },
    {
     "name": "stdout",
     "output_type": "stream",
     "text": [
      "4080:\tlearn: 0.8005884\ttest: 0.7915126\tbest: 0.7915694 (3917)\ttotal: 24m 51s\tremaining: 5m 35s\n"
     ]
    },
    {
     "name": "stdout",
     "output_type": "stream",
     "text": [
      "4100:\tlearn: 0.8007412\ttest: 0.7914976\tbest: 0.7915694 (3917)\ttotal: 24m 58s\tremaining: 5m 28s\n"
     ]
    },
    {
     "name": "stdout",
     "output_type": "stream",
     "text": [
      "4120:\tlearn: 0.8007547\ttest: 0.7914162\tbest: 0.7915694 (3917)\ttotal: 25m 6s\tremaining: 5m 21s\n"
     ]
    },
    {
     "name": "stdout",
     "output_type": "stream",
     "text": [
      "4140:\tlearn: 0.8007587\ttest: 0.7915257\tbest: 0.7915694 (3917)\ttotal: 25m 13s\tremaining: 5m 13s\n"
     ]
    },
    {
     "name": "stdout",
     "output_type": "stream",
     "text": [
      "4160:\tlearn: 0.8008370\ttest: 0.7916383\tbest: 0.7916383 (4160)\ttotal: 25m 20s\tremaining: 5m 6s\n"
     ]
    },
    {
     "name": "stdout",
     "output_type": "stream",
     "text": [
      "4180:\tlearn: 0.8008993\ttest: 0.7915812\tbest: 0.7916862 (4178)\ttotal: 25m 27s\tremaining: 4m 59s\n"
     ]
    },
    {
     "name": "stdout",
     "output_type": "stream",
     "text": [
      "4200:\tlearn: 0.8009464\ttest: 0.7916701\tbest: 0.7917326 (4195)\ttotal: 25m 34s\tremaining: 4m 51s\n"
     ]
    },
    {
     "name": "stdout",
     "output_type": "stream",
     "text": [
      "4220:\tlearn: 0.8010727\ttest: 0.7916753\tbest: 0.7917791 (4215)\ttotal: 25m 41s\tremaining: 4m 44s\n"
     ]
    },
    {
     "name": "stdout",
     "output_type": "stream",
     "text": [
      "4240:\tlearn: 0.8011147\ttest: 0.7917030\tbest: 0.7917791 (4215)\ttotal: 25m 49s\tremaining: 4m 37s\n"
     ]
    },
    {
     "name": "stdout",
     "output_type": "stream",
     "text": [
      "4260:\tlearn: 0.8012287\ttest: 0.7917700\tbest: 0.7917907 (4258)\ttotal: 25m 56s\tremaining: 4m 29s\n"
     ]
    },
    {
     "name": "stdout",
     "output_type": "stream",
     "text": [
      "4280:\tlearn: 0.8013592\ttest: 0.7918179\tbest: 0.7918769 (4265)\ttotal: 26m 3s\tremaining: 4m 22s\n"
     ]
    },
    {
     "name": "stdout",
     "output_type": "stream",
     "text": [
      "4300:\tlearn: 0.8014372\ttest: 0.7919062\tbest: 0.7919063 (4299)\ttotal: 26m 11s\tremaining: 4m 15s\n"
     ]
    },
    {
     "name": "stdout",
     "output_type": "stream",
     "text": [
      "4320:\tlearn: 0.8016037\ttest: 0.7919951\tbest: 0.7920334 (4303)\ttotal: 26m 18s\tremaining: 4m 8s\n"
     ]
    },
    {
     "name": "stdout",
     "output_type": "stream",
     "text": [
      "4340:\tlearn: 0.8016586\ttest: 0.7919982\tbest: 0.7920374 (4322)\ttotal: 26m 25s\tremaining: 4m\n"
     ]
    },
    {
     "name": "stdout",
     "output_type": "stream",
     "text": [
      "4360:\tlearn: 0.8018106\ttest: 0.7918563\tbest: 0.7920374 (4322)\ttotal: 26m 32s\tremaining: 3m 53s\n"
     ]
    },
    {
     "name": "stdout",
     "output_type": "stream",
     "text": [
      "4380:\tlearn: 0.8018654\ttest: 0.7917354\tbest: 0.7920374 (4322)\ttotal: 26m 40s\tremaining: 3m 46s\n"
     ]
    },
    {
     "name": "stdout",
     "output_type": "stream",
     "text": [
      "4400:\tlearn: 0.8019789\ttest: 0.7918868\tbest: 0.7920374 (4322)\ttotal: 26m 47s\tremaining: 3m 38s\n"
     ]
    },
    {
     "name": "stdout",
     "output_type": "stream",
     "text": [
      "4420:\tlearn: 0.8020049\ttest: 0.7920386\tbest: 0.7920591 (4419)\ttotal: 26m 54s\tremaining: 3m 31s\n"
     ]
    },
    {
     "name": "stdout",
     "output_type": "stream",
     "text": [
      "4440:\tlearn: 0.8019911\ttest: 0.7920210\tbest: 0.7921257 (4438)\ttotal: 27m 1s\tremaining: 3m 24s\n"
     ]
    },
    {
     "name": "stdout",
     "output_type": "stream",
     "text": [
      "4460:\tlearn: 0.8020698\ttest: 0.7920260\tbest: 0.7921257 (4438)\ttotal: 27m 9s\tremaining: 3m 16s\n"
     ]
    },
    {
     "name": "stdout",
     "output_type": "stream",
     "text": [
      "4480:\tlearn: 0.8021514\ttest: 0.7920296\tbest: 0.7921337 (4471)\ttotal: 27m 16s\tremaining: 3m 9s\n"
     ]
    },
    {
     "name": "stdout",
     "output_type": "stream",
     "text": [
      "4500:\tlearn: 0.8022460\ttest: 0.7920346\tbest: 0.7921337 (4471)\ttotal: 27m 23s\tremaining: 3m 2s\n"
     ]
    },
    {
     "name": "stdout",
     "output_type": "stream",
     "text": [
      "4520:\tlearn: 0.8023245\ttest: 0.7920811\tbest: 0.7921436 (4515)\ttotal: 27m 30s\tremaining: 2m 54s\n"
     ]
    },
    {
     "name": "stdout",
     "output_type": "stream",
     "text": [
      "4540:\tlearn: 0.8024388\ttest: 0.7920443\tbest: 0.7921673 (4527)\ttotal: 27m 38s\tremaining: 2m 47s\n"
     ]
    },
    {
     "name": "stdout",
     "output_type": "stream",
     "text": [
      "4560:\tlearn: 0.8024395\ttest: 0.7920485\tbest: 0.7921673 (4527)\ttotal: 27m 45s\tremaining: 2m 40s\n"
     ]
    },
    {
     "name": "stdout",
     "output_type": "stream",
     "text": [
      "4580:\tlearn: 0.8024644\ttest: 0.7919271\tbest: 0.7921673 (4527)\ttotal: 27m 52s\tremaining: 2m 32s\n"
     ]
    },
    {
     "name": "stdout",
     "output_type": "stream",
     "text": [
      "4600:\tlearn: 0.8025317\ttest: 0.7920386\tbest: 0.7921673 (4527)\ttotal: 28m\tremaining: 2m 25s\n"
     ]
    },
    {
     "name": "stdout",
     "output_type": "stream",
     "text": [
      "4620:\tlearn: 0.8026141\ttest: 0.7920438\tbest: 0.7921866 (4602)\ttotal: 28m 7s\tremaining: 2m 18s\n"
     ]
    },
    {
     "name": "stdout",
     "output_type": "stream",
     "text": [
      "4640:\tlearn: 0.8026127\ttest: 0.7920477\tbest: 0.7921866 (4602)\ttotal: 28m 14s\tremaining: 2m 11s\n"
     ]
    },
    {
     "name": "stdout",
     "output_type": "stream",
     "text": [
      "4660:\tlearn: 0.8027107\ttest: 0.7920730\tbest: 0.7921866 (4602)\ttotal: 28m 21s\tremaining: 2m 3s\n"
     ]
    },
    {
     "name": "stdout",
     "output_type": "stream",
     "text": [
      "4680:\tlearn: 0.8027670\ttest: 0.7920767\tbest: 0.7922008 (4668)\ttotal: 28m 29s\tremaining: 1m 56s\n"
     ]
    },
    {
     "name": "stdout",
     "output_type": "stream",
     "text": [
      "4700:\tlearn: 0.8028923\ttest: 0.7923756\tbest: 0.7923958 (4698)\ttotal: 28m 36s\tremaining: 1m 49s\n"
     ]
    },
    {
     "name": "stdout",
     "output_type": "stream",
     "text": [
      "4720:\tlearn: 0.8029820\ttest: 0.7924433\tbest: 0.7924433 (4720)\ttotal: 28m 44s\tremaining: 1m 41s\n"
     ]
    },
    {
     "name": "stdout",
     "output_type": "stream",
     "text": [
      "4740:\tlearn: 0.8031270\ttest: 0.7922791\tbest: 0.7924439 (4721)\ttotal: 28m 51s\tremaining: 1m 34s\n"
     ]
    },
    {
     "name": "stdout",
     "output_type": "stream",
     "text": [
      "4760:\tlearn: 0.8031628\ttest: 0.7923483\tbest: 0.7924439 (4721)\ttotal: 28m 58s\tremaining: 1m 27s\n"
     ]
    },
    {
     "name": "stdout",
     "output_type": "stream",
     "text": [
      "4780:\tlearn: 0.8033080\ttest: 0.7923523\tbest: 0.7924439 (4721)\ttotal: 29m 5s\tremaining: 1m 19s\n"
     ]
    },
    {
     "name": "stdout",
     "output_type": "stream",
     "text": [
      "4800:\tlearn: 0.8032937\ttest: 0.7924409\tbest: 0.7924439 (4721)\ttotal: 29m 13s\tremaining: 1m 12s\n"
     ]
    },
    {
     "name": "stdout",
     "output_type": "stream",
     "text": [
      "4820:\tlearn: 0.8033568\ttest: 0.7922774\tbest: 0.7924833 (4801)\ttotal: 29m 20s\tremaining: 1m 5s\n"
     ]
    },
    {
     "name": "stdout",
     "output_type": "stream",
     "text": [
      "4840:\tlearn: 0.8035457\ttest: 0.7923250\tbest: 0.7924833 (4801)\ttotal: 29m 27s\tremaining: 58.1s\n"
     ]
    },
    {
     "name": "stdout",
     "output_type": "stream",
     "text": [
      "4860:\tlearn: 0.8036262\ttest: 0.7924981\tbest: 0.7924981 (4860)\ttotal: 29m 34s\tremaining: 50.8s\n"
     ]
    },
    {
     "name": "stdout",
     "output_type": "stream",
     "text": [
      "4880:\tlearn: 0.8036267\ttest: 0.7923322\tbest: 0.7924989 (4866)\ttotal: 29m 41s\tremaining: 43.4s\n"
     ]
    },
    {
     "name": "stdout",
     "output_type": "stream",
     "text": [
      "4900:\tlearn: 0.8036930\ttest: 0.7924624\tbest: 0.7925027 (4893)\ttotal: 29m 49s\tremaining: 36.1s\n"
     ]
    },
    {
     "name": "stdout",
     "output_type": "stream",
     "text": [
      "4920:\tlearn: 0.8038072\ttest: 0.7924041\tbest: 0.7925027 (4893)\ttotal: 29m 56s\tremaining: 28.8s\n"
     ]
    },
    {
     "name": "stdout",
     "output_type": "stream",
     "text": [
      "4940:\tlearn: 0.8038941\ttest: 0.7924273\tbest: 0.7925027 (4893)\ttotal: 30m 3s\tremaining: 21.5s\n"
     ]
    },
    {
     "name": "stdout",
     "output_type": "stream",
     "text": [
      "4960:\tlearn: 0.8039123\ttest: 0.7923885\tbest: 0.7925027 (4893)\ttotal: 30m 10s\tremaining: 14.2s\n"
     ]
    },
    {
     "name": "stdout",
     "output_type": "stream",
     "text": [
      "4980:\tlearn: 0.8040423\ttest: 0.7923727\tbest: 0.7925027 (4893)\ttotal: 30m 18s\tremaining: 6.93s\n"
     ]
    },
    {
     "name": "stdout",
     "output_type": "stream",
     "text": [
      "4999:\tlearn: 0.8040981\ttest: 0.7924388\tbest: 0.7925027 (4893)\ttotal: 30m 24s\tremaining: 0us\n",
      "\n",
      "bestTest = 0.7925026623\n",
      "bestIteration = 4893\n",
      "\n",
      "Shrink model to first 4894 iterations.\n"
     ]
    },
    {
     "name": "stdout",
     "output_type": "stream",
     "text": [
      "######################################## training model 3/5 ########################################\n"
     ]
    },
    {
     "name": "stdout",
     "output_type": "stream",
     "text": [
      "0:\tlearn: 0.6448787\ttest: 0.6387768\tbest: 0.6387768 (0)\ttotal: 704ms\tremaining: 58m 41s\n"
     ]
    },
    {
     "name": "stdout",
     "output_type": "stream",
     "text": [
      "20:\tlearn: 0.7326524\ttest: 0.7291410\tbest: 0.7297749 (17)\ttotal: 7.58s\tremaining: 29m 58s\n"
     ]
    },
    {
     "name": "stdout",
     "output_type": "stream",
     "text": [
      "40:\tlearn: 0.7371274\ttest: 0.7345460\tbest: 0.7347889 (39)\ttotal: 14.7s\tremaining: 29m 43s\n"
     ]
    },
    {
     "name": "stdout",
     "output_type": "stream",
     "text": [
      "60:\tlearn: 0.7405663\ttest: 0.7365377\tbest: 0.7367317 (55)\ttotal: 22.3s\tremaining: 30m 7s\n"
     ]
    },
    {
     "name": "stdout",
     "output_type": "stream",
     "text": [
      "80:\tlearn: 0.7438567\ttest: 0.7395891\tbest: 0.7395891 (80)\ttotal: 29.8s\tremaining: 30m 11s\n"
     ]
    },
    {
     "name": "stdout",
     "output_type": "stream",
     "text": [
      "100:\tlearn: 0.7474007\ttest: 0.7423457\tbest: 0.7423457 (100)\ttotal: 37s\tremaining: 29m 52s\n"
     ]
    },
    {
     "name": "stdout",
     "output_type": "stream",
     "text": [
      "120:\tlearn: 0.7506783\ttest: 0.7453578\tbest: 0.7453578 (120)\ttotal: 44.5s\tremaining: 29m 53s\n"
     ]
    },
    {
     "name": "stdout",
     "output_type": "stream",
     "text": [
      "140:\tlearn: 0.7535958\ttest: 0.7485607\tbest: 0.7485607 (140)\ttotal: 51.9s\tremaining: 29m 47s\n"
     ]
    },
    {
     "name": "stdout",
     "output_type": "stream",
     "text": [
      "160:\tlearn: 0.7559868\ttest: 0.7513771\tbest: 0.7513771 (160)\ttotal: 59.3s\tremaining: 29m 42s\n"
     ]
    },
    {
     "name": "stdout",
     "output_type": "stream",
     "text": [
      "180:\tlearn: 0.7580179\ttest: 0.7527779\tbest: 0.7527779 (180)\ttotal: 1m 6s\tremaining: 29m 40s\n"
     ]
    },
    {
     "name": "stdout",
     "output_type": "stream",
     "text": [
      "200:\tlearn: 0.7598963\ttest: 0.7543009\tbest: 0.7543639 (199)\ttotal: 1m 14s\tremaining: 29m 33s\n"
     ]
    },
    {
     "name": "stdout",
     "output_type": "stream",
     "text": [
      "220:\tlearn: 0.7615885\ttest: 0.7554416\tbest: 0.7555962 (216)\ttotal: 1m 21s\tremaining: 29m 25s\n"
     ]
    },
    {
     "name": "stdout",
     "output_type": "stream",
     "text": [
      "240:\tlearn: 0.7631464\ttest: 0.7571326\tbest: 0.7571326 (240)\ttotal: 1m 29s\tremaining: 29m 22s\n"
     ]
    },
    {
     "name": "stdout",
     "output_type": "stream",
     "text": [
      "260:\tlearn: 0.7643179\ttest: 0.7581020\tbest: 0.7582579 (257)\ttotal: 1m 36s\tremaining: 29m 15s\n"
     ]
    },
    {
     "name": "stdout",
     "output_type": "stream",
     "text": [
      "280:\tlearn: 0.7655565\ttest: 0.7594474\tbest: 0.7595954 (277)\ttotal: 1m 44s\tremaining: 29m 6s\n"
     ]
    },
    {
     "name": "stdout",
     "output_type": "stream",
     "text": [
      "300:\tlearn: 0.7663633\ttest: 0.7605036\tbest: 0.7605036 (300)\ttotal: 1m 51s\tremaining: 28m 59s\n"
     ]
    },
    {
     "name": "stdout",
     "output_type": "stream",
     "text": [
      "320:\tlearn: 0.7676417\ttest: 0.7619460\tbest: 0.7619460 (320)\ttotal: 1m 58s\tremaining: 28m 49s\n"
     ]
    },
    {
     "name": "stdout",
     "output_type": "stream",
     "text": [
      "340:\tlearn: 0.7684147\ttest: 0.7627575\tbest: 0.7627575 (340)\ttotal: 2m 6s\tremaining: 28m 42s\n"
     ]
    },
    {
     "name": "stdout",
     "output_type": "stream",
     "text": [
      "360:\tlearn: 0.7691848\ttest: 0.7636704\tbest: 0.7636818 (359)\ttotal: 2m 13s\tremaining: 28m 35s\n"
     ]
    },
    {
     "name": "stdout",
     "output_type": "stream",
     "text": [
      "380:\tlearn: 0.7699146\ttest: 0.7648406\tbest: 0.7648406 (380)\ttotal: 2m 21s\tremaining: 28m 29s\n"
     ]
    },
    {
     "name": "stdout",
     "output_type": "stream",
     "text": [
      "400:\tlearn: 0.7705776\ttest: 0.7649248\tbest: 0.7651544 (385)\ttotal: 2m 28s\tremaining: 28m 23s\n"
     ]
    },
    {
     "name": "stdout",
     "output_type": "stream",
     "text": [
      "420:\tlearn: 0.7713271\ttest: 0.7655079\tbest: 0.7655079 (420)\ttotal: 2m 35s\tremaining: 28m 13s\n"
     ]
    },
    {
     "name": "stdout",
     "output_type": "stream",
     "text": [
      "440:\tlearn: 0.7719689\ttest: 0.7659951\tbest: 0.7660219 (438)\ttotal: 2m 43s\tremaining: 28m 7s\n"
     ]
    },
    {
     "name": "stdout",
     "output_type": "stream",
     "text": [
      "460:\tlearn: 0.7726259\ttest: 0.7667683\tbest: 0.7667683 (460)\ttotal: 2m 50s\tremaining: 28m\n"
     ]
    },
    {
     "name": "stdout",
     "output_type": "stream",
     "text": [
      "480:\tlearn: 0.7732309\ttest: 0.7672396\tbest: 0.7672396 (480)\ttotal: 2m 58s\tremaining: 27m 52s\n"
     ]
    },
    {
     "name": "stdout",
     "output_type": "stream",
     "text": [
      "500:\tlearn: 0.7737009\ttest: 0.7678034\tbest: 0.7678396 (499)\ttotal: 3m 5s\tremaining: 27m 45s\n"
     ]
    },
    {
     "name": "stdout",
     "output_type": "stream",
     "text": [
      "520:\tlearn: 0.7742802\ttest: 0.7683168\tbest: 0.7683168 (520)\ttotal: 3m 13s\tremaining: 27m 39s\n"
     ]
    },
    {
     "name": "stdout",
     "output_type": "stream",
     "text": [
      "540:\tlearn: 0.7747260\ttest: 0.7687410\tbest: 0.7688205 (539)\ttotal: 3m 20s\tremaining: 27m 31s\n"
     ]
    },
    {
     "name": "stdout",
     "output_type": "stream",
     "text": [
      "560:\tlearn: 0.7750755\ttest: 0.7691369\tbest: 0.7692122 (558)\ttotal: 3m 27s\tremaining: 27m 22s\n"
     ]
    },
    {
     "name": "stdout",
     "output_type": "stream",
     "text": [
      "580:\tlearn: 0.7755277\ttest: 0.7697559\tbest: 0.7697559 (580)\ttotal: 3m 34s\tremaining: 27m 14s\n"
     ]
    },
    {
     "name": "stdout",
     "output_type": "stream",
     "text": [
      "600:\tlearn: 0.7760494\ttest: 0.7703887\tbest: 0.7703887 (600)\ttotal: 3m 42s\tremaining: 27m 7s\n"
     ]
    },
    {
     "name": "stdout",
     "output_type": "stream",
     "text": [
      "620:\tlearn: 0.7766358\ttest: 0.7701113\tbest: 0.7704504 (603)\ttotal: 3m 49s\tremaining: 26m 59s\n"
     ]
    },
    {
     "name": "stdout",
     "output_type": "stream",
     "text": [
      "640:\tlearn: 0.7769163\ttest: 0.7705039\tbest: 0.7705146 (638)\ttotal: 3m 57s\tremaining: 26m 52s\n"
     ]
    },
    {
     "name": "stdout",
     "output_type": "stream",
     "text": [
      "660:\tlearn: 0.7774651\ttest: 0.7712126\tbest: 0.7712126 (660)\ttotal: 4m 4s\tremaining: 26m 42s\n"
     ]
    },
    {
     "name": "stdout",
     "output_type": "stream",
     "text": [
      "680:\tlearn: 0.7778901\ttest: 0.7716582\tbest: 0.7718008 (674)\ttotal: 4m 11s\tremaining: 26m 35s\n"
     ]
    },
    {
     "name": "stdout",
     "output_type": "stream",
     "text": [
      "700:\tlearn: 0.7781556\ttest: 0.7720845\tbest: 0.7721226 (699)\ttotal: 4m 18s\tremaining: 26m 28s\n"
     ]
    },
    {
     "name": "stdout",
     "output_type": "stream",
     "text": [
      "720:\tlearn: 0.7785514\ttest: 0.7723933\tbest: 0.7726405 (714)\ttotal: 4m 26s\tremaining: 26m 20s\n"
     ]
    },
    {
     "name": "stdout",
     "output_type": "stream",
     "text": [
      "740:\tlearn: 0.7789097\ttest: 0.7726655\tbest: 0.7728885 (732)\ttotal: 4m 33s\tremaining: 26m 12s\n"
     ]
    },
    {
     "name": "stdout",
     "output_type": "stream",
     "text": [
      "760:\tlearn: 0.7792001\ttest: 0.7730364\tbest: 0.7732397 (758)\ttotal: 4m 40s\tremaining: 26m 4s\n"
     ]
    },
    {
     "name": "stdout",
     "output_type": "stream",
     "text": [
      "780:\tlearn: 0.7795811\ttest: 0.7731946\tbest: 0.7734235 (773)\ttotal: 4m 48s\tremaining: 25m 56s\n"
     ]
    },
    {
     "name": "stdout",
     "output_type": "stream",
     "text": [
      "800:\tlearn: 0.7799993\ttest: 0.7730946\tbest: 0.7734235 (773)\ttotal: 4m 55s\tremaining: 25m 50s\n"
     ]
    },
    {
     "name": "stdout",
     "output_type": "stream",
     "text": [
      "820:\tlearn: 0.7803361\ttest: 0.7736407\tbest: 0.7736594 (819)\ttotal: 5m 3s\tremaining: 25m 42s\n"
     ]
    },
    {
     "name": "stdout",
     "output_type": "stream",
     "text": [
      "840:\tlearn: 0.7807340\ttest: 0.7739362\tbest: 0.7740379 (839)\ttotal: 5m 10s\tremaining: 25m 34s\n"
     ]
    },
    {
     "name": "stdout",
     "output_type": "stream",
     "text": [
      "860:\tlearn: 0.7809361\ttest: 0.7744163\tbest: 0.7744536 (859)\ttotal: 5m 17s\tremaining: 25m 27s\n"
     ]
    },
    {
     "name": "stdout",
     "output_type": "stream",
     "text": [
      "880:\tlearn: 0.7812527\ttest: 0.7746226\tbest: 0.7746607 (879)\ttotal: 5m 25s\tremaining: 25m 21s\n"
     ]
    },
    {
     "name": "stdout",
     "output_type": "stream",
     "text": [
      "900:\tlearn: 0.7816004\ttest: 0.7749803\tbest: 0.7749950 (891)\ttotal: 5m 32s\tremaining: 25m 13s\n"
     ]
    },
    {
     "name": "stdout",
     "output_type": "stream",
     "text": [
      "920:\tlearn: 0.7819436\ttest: 0.7750204\tbest: 0.7753615 (915)\ttotal: 5m 39s\tremaining: 25m 4s\n"
     ]
    },
    {
     "name": "stdout",
     "output_type": "stream",
     "text": [
      "940:\tlearn: 0.7821221\ttest: 0.7750976\tbest: 0.7753816 (936)\ttotal: 5m 47s\tremaining: 24m 57s\n"
     ]
    },
    {
     "name": "stdout",
     "output_type": "stream",
     "text": [
      "960:\tlearn: 0.7821929\ttest: 0.7752163\tbest: 0.7753816 (936)\ttotal: 5m 54s\tremaining: 24m 50s\n"
     ]
    },
    {
     "name": "stdout",
     "output_type": "stream",
     "text": [
      "980:\tlearn: 0.7825634\ttest: 0.7756898\tbest: 0.7756898 (980)\ttotal: 6m 1s\tremaining: 24m 42s\n"
     ]
    },
    {
     "name": "stdout",
     "output_type": "stream",
     "text": [
      "1000:\tlearn: 0.7827699\ttest: 0.7757222\tbest: 0.7757597 (998)\ttotal: 6m 9s\tremaining: 24m 34s\n"
     ]
    },
    {
     "name": "stdout",
     "output_type": "stream",
     "text": [
      "1020:\tlearn: 0.7831036\ttest: 0.7760870\tbest: 0.7760870 (1020)\ttotal: 6m 16s\tremaining: 24m 26s\n"
     ]
    },
    {
     "name": "stdout",
     "output_type": "stream",
     "text": [
      "1040:\tlearn: 0.7835354\ttest: 0.7758388\tbest: 0.7763005 (1030)\ttotal: 6m 23s\tremaining: 24m 19s\n"
     ]
    },
    {
     "name": "stdout",
     "output_type": "stream",
     "text": [
      "1060:\tlearn: 0.7838719\ttest: 0.7762279\tbest: 0.7763005 (1030)\ttotal: 6m 31s\tremaining: 24m 12s\n"
     ]
    },
    {
     "name": "stdout",
     "output_type": "stream",
     "text": [
      "1080:\tlearn: 0.7840507\ttest: 0.7764921\tbest: 0.7765834 (1067)\ttotal: 6m 38s\tremaining: 24m 4s\n"
     ]
    },
    {
     "name": "stdout",
     "output_type": "stream",
     "text": [
      "1100:\tlearn: 0.7843095\ttest: 0.7770156\tbest: 0.7770348 (1099)\ttotal: 6m 45s\tremaining: 23m 57s\n"
     ]
    },
    {
     "name": "stdout",
     "output_type": "stream",
     "text": [
      "1120:\tlearn: 0.7845893\ttest: 0.7771410\tbest: 0.7772242 (1109)\ttotal: 6m 52s\tremaining: 23m 48s\n"
     ]
    },
    {
     "name": "stdout",
     "output_type": "stream",
     "text": [
      "1140:\tlearn: 0.7847847\ttest: 0.7773944\tbest: 0.7774443 (1135)\ttotal: 7m\tremaining: 23m 42s\n"
     ]
    },
    {
     "name": "stdout",
     "output_type": "stream",
     "text": [
      "1160:\tlearn: 0.7850254\ttest: 0.7774620\tbest: 0.7777073 (1157)\ttotal: 7m 7s\tremaining: 23m 35s\n"
     ]
    },
    {
     "name": "stdout",
     "output_type": "stream",
     "text": [
      "1180:\tlearn: 0.7852435\ttest: 0.7777547\tbest: 0.7778065 (1175)\ttotal: 7m 15s\tremaining: 23m 28s\n"
     ]
    },
    {
     "name": "stdout",
     "output_type": "stream",
     "text": [
      "1200:\tlearn: 0.7855373\ttest: 0.7779659\tbest: 0.7780195 (1196)\ttotal: 7m 23s\tremaining: 23m 21s\n"
     ]
    },
    {
     "name": "stdout",
     "output_type": "stream",
     "text": [
      "1220:\tlearn: 0.7858778\ttest: 0.7780320\tbest: 0.7782493 (1215)\ttotal: 7m 30s\tremaining: 23m 14s\n"
     ]
    },
    {
     "name": "stdout",
     "output_type": "stream",
     "text": [
      "1240:\tlearn: 0.7860219\ttest: 0.7784481\tbest: 0.7784481 (1240)\ttotal: 7m 37s\tremaining: 23m 6s\n"
     ]
    },
    {
     "name": "stdout",
     "output_type": "stream",
     "text": [
      "1260:\tlearn: 0.7862477\ttest: 0.7783356\tbest: 0.7785417 (1246)\ttotal: 7m 45s\tremaining: 22m 59s\n"
     ]
    },
    {
     "name": "stdout",
     "output_type": "stream",
     "text": [
      "1280:\tlearn: 0.7865299\ttest: 0.7783737\tbest: 0.7785417 (1246)\ttotal: 7m 52s\tremaining: 22m 52s\n"
     ]
    },
    {
     "name": "stdout",
     "output_type": "stream",
     "text": [
      "1300:\tlearn: 0.7866845\ttest: 0.7786624\tbest: 0.7787351 (1293)\ttotal: 7m 59s\tremaining: 22m 44s\n"
     ]
    },
    {
     "name": "stdout",
     "output_type": "stream",
     "text": [
      "1320:\tlearn: 0.7869216\ttest: 0.7788679\tbest: 0.7788679 (1320)\ttotal: 8m 7s\tremaining: 22m 37s\n"
     ]
    },
    {
     "name": "stdout",
     "output_type": "stream",
     "text": [
      "1340:\tlearn: 0.7873478\ttest: 0.7791134\tbest: 0.7792094 (1334)\ttotal: 8m 15s\tremaining: 22m 30s\n"
     ]
    },
    {
     "name": "stdout",
     "output_type": "stream",
     "text": [
      "1360:\tlearn: 0.7875669\ttest: 0.7790241\tbest: 0.7792094 (1334)\ttotal: 8m 22s\tremaining: 22m 22s\n"
     ]
    },
    {
     "name": "stdout",
     "output_type": "stream",
     "text": [
      "1380:\tlearn: 0.7877219\ttest: 0.7793937\tbest: 0.7793937 (1380)\ttotal: 8m 29s\tremaining: 22m 15s\n"
     ]
    },
    {
     "name": "stdout",
     "output_type": "stream",
     "text": [
      "1400:\tlearn: 0.7878091\ttest: 0.7792531\tbest: 0.7794108 (1392)\ttotal: 8m 36s\tremaining: 22m 7s\n"
     ]
    },
    {
     "name": "stdout",
     "output_type": "stream",
     "text": [
      "1420:\tlearn: 0.7880738\ttest: 0.7794517\tbest: 0.7796731 (1414)\ttotal: 8m 44s\tremaining: 22m\n"
     ]
    },
    {
     "name": "stdout",
     "output_type": "stream",
     "text": [
      "1440:\tlearn: 0.7881444\ttest: 0.7797166\tbest: 0.7797556 (1438)\ttotal: 8m 51s\tremaining: 21m 53s\n"
     ]
    },
    {
     "name": "stdout",
     "output_type": "stream",
     "text": [
      "1460:\tlearn: 0.7882744\ttest: 0.7795964\tbest: 0.7797915 (1449)\ttotal: 8m 59s\tremaining: 21m 45s\n"
     ]
    },
    {
     "name": "stdout",
     "output_type": "stream",
     "text": [
      "1480:\tlearn: 0.7885530\ttest: 0.7794152\tbest: 0.7797915 (1449)\ttotal: 9m 6s\tremaining: 21m 38s\n"
     ]
    },
    {
     "name": "stdout",
     "output_type": "stream",
     "text": [
      "1500:\tlearn: 0.7886480\ttest: 0.7799715\tbest: 0.7799715 (1500)\ttotal: 9m 13s\tremaining: 21m 31s\n"
     ]
    },
    {
     "name": "stdout",
     "output_type": "stream",
     "text": [
      "1520:\tlearn: 0.7889114\ttest: 0.7799377\tbest: 0.7800134 (1516)\ttotal: 9m 21s\tremaining: 21m 24s\n"
     ]
    },
    {
     "name": "stdout",
     "output_type": "stream",
     "text": [
      "1540:\tlearn: 0.7890877\ttest: 0.7799436\tbest: 0.7800813 (1531)\ttotal: 9m 28s\tremaining: 21m 16s\n"
     ]
    },
    {
     "name": "stdout",
     "output_type": "stream",
     "text": [
      "1560:\tlearn: 0.7891865\ttest: 0.7799512\tbest: 0.7800813 (1531)\ttotal: 9m 36s\tremaining: 21m 9s\n"
     ]
    },
    {
     "name": "stdout",
     "output_type": "stream",
     "text": [
      "1580:\tlearn: 0.7893327\ttest: 0.7800408\tbest: 0.7801024 (1579)\ttotal: 9m 43s\tremaining: 21m 1s\n"
     ]
    },
    {
     "name": "stdout",
     "output_type": "stream",
     "text": [
      "1600:\tlearn: 0.7895226\ttest: 0.7802332\tbest: 0.7803137 (1597)\ttotal: 9m 50s\tremaining: 20m 53s\n"
     ]
    },
    {
     "name": "stdout",
     "output_type": "stream",
     "text": [
      "1620:\tlearn: 0.7896517\ttest: 0.7805074\tbest: 0.7805703 (1619)\ttotal: 9m 57s\tremaining: 20m 45s\n"
     ]
    },
    {
     "name": "stdout",
     "output_type": "stream",
     "text": [
      "1640:\tlearn: 0.7897898\ttest: 0.7807018\tbest: 0.7807207 (1638)\ttotal: 10m 5s\tremaining: 20m 38s\n"
     ]
    },
    {
     "name": "stdout",
     "output_type": "stream",
     "text": [
      "1660:\tlearn: 0.7899631\ttest: 0.7807889\tbest: 0.7808526 (1642)\ttotal: 10m 12s\tremaining: 20m 31s\n"
     ]
    },
    {
     "name": "stdout",
     "output_type": "stream",
     "text": [
      "1680:\tlearn: 0.7901173\ttest: 0.7807061\tbest: 0.7808539 (1662)\ttotal: 10m 19s\tremaining: 20m 23s\n"
     ]
    },
    {
     "name": "stdout",
     "output_type": "stream",
     "text": [
      "1700:\tlearn: 0.7902141\ttest: 0.7806867\tbest: 0.7808539 (1662)\ttotal: 10m 27s\tremaining: 20m 16s\n"
     ]
    },
    {
     "name": "stdout",
     "output_type": "stream",
     "text": [
      "1720:\tlearn: 0.7903448\ttest: 0.7808963\tbest: 0.7809766 (1716)\ttotal: 10m 34s\tremaining: 20m 8s\n"
     ]
    },
    {
     "name": "stdout",
     "output_type": "stream",
     "text": [
      "1740:\tlearn: 0.7905227\ttest: 0.7807088\tbest: 0.7809766 (1716)\ttotal: 10m 41s\tremaining: 20m 1s\n"
     ]
    },
    {
     "name": "stdout",
     "output_type": "stream",
     "text": [
      "1760:\tlearn: 0.7907514\ttest: 0.7808374\tbest: 0.7809766 (1716)\ttotal: 10m 48s\tremaining: 19m 53s\n"
     ]
    },
    {
     "name": "stdout",
     "output_type": "stream",
     "text": [
      "1780:\tlearn: 0.7908642\ttest: 0.7810713\tbest: 0.7810713 (1780)\ttotal: 10m 55s\tremaining: 19m 45s\n"
     ]
    },
    {
     "name": "stdout",
     "output_type": "stream",
     "text": [
      "1800:\tlearn: 0.7909763\ttest: 0.7812416\tbest: 0.7812528 (1793)\ttotal: 11m 3s\tremaining: 19m 38s\n"
     ]
    },
    {
     "name": "stdout",
     "output_type": "stream",
     "text": [
      "1820:\tlearn: 0.7911522\ttest: 0.7812218\tbest: 0.7814011 (1810)\ttotal: 11m 10s\tremaining: 19m 30s\n"
     ]
    },
    {
     "name": "stdout",
     "output_type": "stream",
     "text": [
      "1840:\tlearn: 0.7912385\ttest: 0.7814036\tbest: 0.7815007 (1829)\ttotal: 11m 17s\tremaining: 19m 23s\n"
     ]
    },
    {
     "name": "stdout",
     "output_type": "stream",
     "text": [
      "1860:\tlearn: 0.7914076\ttest: 0.7815051\tbest: 0.7815051 (1860)\ttotal: 11m 25s\tremaining: 19m 15s\n"
     ]
    },
    {
     "name": "stdout",
     "output_type": "stream",
     "text": [
      "1880:\tlearn: 0.7915189\ttest: 0.7815472\tbest: 0.7815822 (1873)\ttotal: 11m 32s\tremaining: 19m 8s\n"
     ]
    },
    {
     "name": "stdout",
     "output_type": "stream",
     "text": [
      "1900:\tlearn: 0.7916992\ttest: 0.7816497\tbest: 0.7817082 (1897)\ttotal: 11m 39s\tremaining: 19m\n"
     ]
    },
    {
     "name": "stdout",
     "output_type": "stream",
     "text": [
      "1920:\tlearn: 0.7917640\ttest: 0.7817067\tbest: 0.7818006 (1905)\ttotal: 11m 46s\tremaining: 18m 53s\n"
     ]
    },
    {
     "name": "stdout",
     "output_type": "stream",
     "text": [
      "1940:\tlearn: 0.7918614\ttest: 0.7816389\tbest: 0.7818006 (1905)\ttotal: 11m 54s\tremaining: 18m 45s\n"
     ]
    },
    {
     "name": "stdout",
     "output_type": "stream",
     "text": [
      "1960:\tlearn: 0.7919983\ttest: 0.7817637\tbest: 0.7818396 (1951)\ttotal: 12m 1s\tremaining: 18m 37s\n"
     ]
    },
    {
     "name": "stdout",
     "output_type": "stream",
     "text": [
      "1980:\tlearn: 0.7921151\ttest: 0.7821567\tbest: 0.7821567 (1980)\ttotal: 12m 8s\tremaining: 18m 30s\n"
     ]
    },
    {
     "name": "stdout",
     "output_type": "stream",
     "text": [
      "2000:\tlearn: 0.7922911\ttest: 0.7822379\tbest: 0.7822973 (1996)\ttotal: 12m 15s\tremaining: 18m 22s\n"
     ]
    },
    {
     "name": "stdout",
     "output_type": "stream",
     "text": [
      "2020:\tlearn: 0.7923985\ttest: 0.7822538\tbest: 0.7823370 (2018)\ttotal: 12m 23s\tremaining: 18m 15s\n"
     ]
    },
    {
     "name": "stdout",
     "output_type": "stream",
     "text": [
      "2040:\tlearn: 0.7924823\ttest: 0.7821649\tbest: 0.7823370 (2018)\ttotal: 12m 30s\tremaining: 18m 7s\n"
     ]
    },
    {
     "name": "stdout",
     "output_type": "stream",
     "text": [
      "2060:\tlearn: 0.7925735\ttest: 0.7823110\tbest: 0.7823370 (2018)\ttotal: 12m 37s\tremaining: 18m\n"
     ]
    },
    {
     "name": "stdout",
     "output_type": "stream",
     "text": [
      "2080:\tlearn: 0.7927034\ttest: 0.7822836\tbest: 0.7824701 (2073)\ttotal: 12m 44s\tremaining: 17m 52s\n"
     ]
    },
    {
     "name": "stdout",
     "output_type": "stream",
     "text": [
      "2100:\tlearn: 0.7927466\ttest: 0.7823446\tbest: 0.7824701 (2073)\ttotal: 12m 51s\tremaining: 17m 44s\n"
     ]
    },
    {
     "name": "stdout",
     "output_type": "stream",
     "text": [
      "2120:\tlearn: 0.7928214\ttest: 0.7827390\tbest: 0.7828012 (2117)\ttotal: 12m 59s\tremaining: 17m 37s\n"
     ]
    },
    {
     "name": "stdout",
     "output_type": "stream",
     "text": [
      "2140:\tlearn: 0.7929958\ttest: 0.7823321\tbest: 0.7828012 (2117)\ttotal: 13m 5s\tremaining: 17m 29s\n"
     ]
    },
    {
     "name": "stdout",
     "output_type": "stream",
     "text": [
      "2160:\tlearn: 0.7930487\ttest: 0.7824930\tbest: 0.7828012 (2117)\ttotal: 13m 13s\tremaining: 17m 22s\n"
     ]
    },
    {
     "name": "stdout",
     "output_type": "stream",
     "text": [
      "2180:\tlearn: 0.7931279\ttest: 0.7826556\tbest: 0.7828012 (2117)\ttotal: 13m 20s\tremaining: 17m 14s\n"
     ]
    },
    {
     "name": "stdout",
     "output_type": "stream",
     "text": [
      "2200:\tlearn: 0.7932648\ttest: 0.7827128\tbest: 0.7828012 (2117)\ttotal: 13m 27s\tremaining: 17m 7s\n"
     ]
    },
    {
     "name": "stdout",
     "output_type": "stream",
     "text": [
      "2220:\tlearn: 0.7933238\ttest: 0.7824992\tbest: 0.7828012 (2117)\ttotal: 13m 35s\tremaining: 16m 59s\n"
     ]
    },
    {
     "name": "stdout",
     "output_type": "stream",
     "text": [
      "2240:\tlearn: 0.7934073\ttest: 0.7827242\tbest: 0.7828012 (2117)\ttotal: 13m 42s\tremaining: 16m 52s\n"
     ]
    },
    {
     "name": "stdout",
     "output_type": "stream",
     "text": [
      "2260:\tlearn: 0.7935690\ttest: 0.7826731\tbest: 0.7828012 (2117)\ttotal: 13m 49s\tremaining: 16m 45s\n"
     ]
    },
    {
     "name": "stdout",
     "output_type": "stream",
     "text": [
      "2280:\tlearn: 0.7937082\ttest: 0.7828743\tbest: 0.7828947 (2278)\ttotal: 13m 56s\tremaining: 16m 37s\n"
     ]
    },
    {
     "name": "stdout",
     "output_type": "stream",
     "text": [
      "2300:\tlearn: 0.7938041\ttest: 0.7829915\tbest: 0.7830303 (2296)\ttotal: 14m 4s\tremaining: 16m 30s\n"
     ]
    },
    {
     "name": "stdout",
     "output_type": "stream",
     "text": [
      "2320:\tlearn: 0.7940298\ttest: 0.7829219\tbest: 0.7830352 (2302)\ttotal: 14m 11s\tremaining: 16m 22s\n"
     ]
    },
    {
     "name": "stdout",
     "output_type": "stream",
     "text": [
      "2340:\tlearn: 0.7940820\ttest: 0.7829554\tbest: 0.7831369 (2329)\ttotal: 14m 18s\tremaining: 16m 15s\n"
     ]
    },
    {
     "name": "stdout",
     "output_type": "stream",
     "text": [
      "2360:\tlearn: 0.7942570\ttest: 0.7829038\tbest: 0.7831369 (2329)\ttotal: 14m 26s\tremaining: 16m 8s\n"
     ]
    },
    {
     "name": "stdout",
     "output_type": "stream",
     "text": [
      "2380:\tlearn: 0.7942884\ttest: 0.7830242\tbest: 0.7831369 (2329)\ttotal: 14m 33s\tremaining: 16m\n"
     ]
    },
    {
     "name": "stdout",
     "output_type": "stream",
     "text": [
      "2400:\tlearn: 0.7943957\ttest: 0.7828241\tbest: 0.7831369 (2329)\ttotal: 14m 40s\tremaining: 15m 53s\n"
     ]
    },
    {
     "name": "stdout",
     "output_type": "stream",
     "text": [
      "2420:\tlearn: 0.7945830\ttest: 0.7830252\tbest: 0.7831369 (2329)\ttotal: 14m 47s\tremaining: 15m 45s\n"
     ]
    },
    {
     "name": "stdout",
     "output_type": "stream",
     "text": [
      "2440:\tlearn: 0.7945996\ttest: 0.7833108\tbest: 0.7833108 (2440)\ttotal: 14m 55s\tremaining: 15m 38s\n"
     ]
    },
    {
     "name": "stdout",
     "output_type": "stream",
     "text": [
      "2460:\tlearn: 0.7946969\ttest: 0.7832405\tbest: 0.7833662 (2459)\ttotal: 15m 2s\tremaining: 15m 31s\n"
     ]
    },
    {
     "name": "stdout",
     "output_type": "stream",
     "text": [
      "2480:\tlearn: 0.7947620\ttest: 0.7832714\tbest: 0.7833950 (2475)\ttotal: 15m 9s\tremaining: 15m 23s\n"
     ]
    },
    {
     "name": "stdout",
     "output_type": "stream",
     "text": [
      "2500:\tlearn: 0.7949452\ttest: 0.7835566\tbest: 0.7835566 (2500)\ttotal: 15m 16s\tremaining: 15m 16s\n"
     ]
    },
    {
     "name": "stdout",
     "output_type": "stream",
     "text": [
      "2520:\tlearn: 0.7951205\ttest: 0.7836529\tbest: 0.7837758 (2516)\ttotal: 15m 23s\tremaining: 15m 8s\n"
     ]
    },
    {
     "name": "stdout",
     "output_type": "stream",
     "text": [
      "2540:\tlearn: 0.7951910\ttest: 0.7837902\tbest: 0.7838517 (2538)\ttotal: 15m 31s\tremaining: 15m 1s\n"
     ]
    },
    {
     "name": "stdout",
     "output_type": "stream",
     "text": [
      "2560:\tlearn: 0.7953147\ttest: 0.7836565\tbest: 0.7838517 (2538)\ttotal: 15m 38s\tremaining: 14m 53s\n"
     ]
    },
    {
     "name": "stdout",
     "output_type": "stream",
     "text": [
      "2580:\tlearn: 0.7956304\ttest: 0.7837918\tbest: 0.7838543 (2578)\ttotal: 15m 45s\tremaining: 14m 46s\n"
     ]
    },
    {
     "name": "stdout",
     "output_type": "stream",
     "text": [
      "2600:\tlearn: 0.7957234\ttest: 0.7838435\tbest: 0.7838828 (2594)\ttotal: 15m 52s\tremaining: 14m 38s\n"
     ]
    },
    {
     "name": "stdout",
     "output_type": "stream",
     "text": [
      "2620:\tlearn: 0.7957766\ttest: 0.7838765\tbest: 0.7839148 (2610)\ttotal: 16m\tremaining: 14m 31s\n"
     ]
    },
    {
     "name": "stdout",
     "output_type": "stream",
     "text": [
      "2640:\tlearn: 0.7958786\ttest: 0.7839522\tbest: 0.7840729 (2630)\ttotal: 16m 7s\tremaining: 14m 24s\n"
     ]
    },
    {
     "name": "stdout",
     "output_type": "stream",
     "text": [
      "2660:\tlearn: 0.7959309\ttest: 0.7839181\tbest: 0.7840826 (2650)\ttotal: 16m 15s\tremaining: 14m 17s\n"
     ]
    },
    {
     "name": "stdout",
     "output_type": "stream",
     "text": [
      "2680:\tlearn: 0.7958949\ttest: 0.7839297\tbest: 0.7840826 (2650)\ttotal: 16m 22s\tremaining: 14m 9s\n"
     ]
    },
    {
     "name": "stdout",
     "output_type": "stream",
     "text": [
      "2700:\tlearn: 0.7958825\ttest: 0.7840652\tbest: 0.7841695 (2697)\ttotal: 16m 29s\tremaining: 14m 2s\n"
     ]
    },
    {
     "name": "stdout",
     "output_type": "stream",
     "text": [
      "2720:\tlearn: 0.7960295\ttest: 0.7840952\tbest: 0.7841792 (2719)\ttotal: 16m 37s\tremaining: 13m 55s\n"
     ]
    },
    {
     "name": "stdout",
     "output_type": "stream",
     "text": [
      "2740:\tlearn: 0.7961566\ttest: 0.7840860\tbest: 0.7841792 (2719)\ttotal: 16m 44s\tremaining: 13m 47s\n"
     ]
    },
    {
     "name": "stdout",
     "output_type": "stream",
     "text": [
      "2760:\tlearn: 0.7962902\ttest: 0.7840131\tbest: 0.7841792 (2719)\ttotal: 16m 51s\tremaining: 13m 40s\n"
     ]
    },
    {
     "name": "stdout",
     "output_type": "stream",
     "text": [
      "2780:\tlearn: 0.7963861\ttest: 0.7840236\tbest: 0.7841792 (2719)\ttotal: 16m 58s\tremaining: 13m 32s\n"
     ]
    },
    {
     "name": "stdout",
     "output_type": "stream",
     "text": [
      "2800:\tlearn: 0.7965011\ttest: 0.7840508\tbest: 0.7841792 (2719)\ttotal: 17m 5s\tremaining: 13m 25s\n"
     ]
    },
    {
     "name": "stdout",
     "output_type": "stream",
     "text": [
      "2820:\tlearn: 0.7965419\ttest: 0.7841242\tbest: 0.7842037 (2810)\ttotal: 17m 13s\tremaining: 13m 17s\n"
     ]
    },
    {
     "name": "stdout",
     "output_type": "stream",
     "text": [
      "2840:\tlearn: 0.7966356\ttest: 0.7842390\tbest: 0.7842390 (2840)\ttotal: 17m 20s\tremaining: 13m 10s\n"
     ]
    },
    {
     "name": "stdout",
     "output_type": "stream",
     "text": [
      "2860:\tlearn: 0.7967926\ttest: 0.7842903\tbest: 0.7843100 (2857)\ttotal: 17m 27s\tremaining: 13m 3s\n"
     ]
    },
    {
     "name": "stdout",
     "output_type": "stream",
     "text": [
      "2880:\tlearn: 0.7969156\ttest: 0.7843019\tbest: 0.7843120 (2862)\ttotal: 17m 34s\tremaining: 12m 55s\n"
     ]
    },
    {
     "name": "stdout",
     "output_type": "stream",
     "text": [
      "2900:\tlearn: 0.7969167\ttest: 0.7843132\tbest: 0.7843500 (2889)\ttotal: 17m 42s\tremaining: 12m 48s\n"
     ]
    },
    {
     "name": "stdout",
     "output_type": "stream",
     "text": [
      "2920:\tlearn: 0.7970255\ttest: 0.7842997\tbest: 0.7844044 (2919)\ttotal: 17m 49s\tremaining: 12m 41s\n"
     ]
    },
    {
     "name": "stdout",
     "output_type": "stream",
     "text": [
      "2940:\tlearn: 0.7971645\ttest: 0.7843917\tbest: 0.7844340 (2939)\ttotal: 17m 56s\tremaining: 12m 33s\n"
     ]
    },
    {
     "name": "stdout",
     "output_type": "stream",
     "text": [
      "2960:\tlearn: 0.7972672\ttest: 0.7844635\tbest: 0.7844841 (2958)\ttotal: 18m 3s\tremaining: 12m 26s\n"
     ]
    },
    {
     "name": "stdout",
     "output_type": "stream",
     "text": [
      "2980:\tlearn: 0.7973072\ttest: 0.7844303\tbest: 0.7844903 (2973)\ttotal: 18m 11s\tremaining: 12m 18s\n"
     ]
    },
    {
     "name": "stdout",
     "output_type": "stream",
     "text": [
      "3000:\tlearn: 0.7974415\ttest: 0.7844812\tbest: 0.7845016 (2999)\ttotal: 18m 18s\tremaining: 12m 11s\n"
     ]
    },
    {
     "name": "stdout",
     "output_type": "stream",
     "text": [
      "3020:\tlearn: 0.7974614\ttest: 0.7844880\tbest: 0.7845041 (3005)\ttotal: 18m 25s\tremaining: 12m 4s\n"
     ]
    },
    {
     "name": "stdout",
     "output_type": "stream",
     "text": [
      "3040:\tlearn: 0.7975630\ttest: 0.7845175\tbest: 0.7845790 (3036)\ttotal: 18m 33s\tremaining: 11m 57s\n"
     ]
    },
    {
     "name": "stdout",
     "output_type": "stream",
     "text": [
      "3060:\tlearn: 0.7975697\ttest: 0.7845223\tbest: 0.7846477 (3055)\ttotal: 18m 40s\tremaining: 11m 49s\n"
     ]
    },
    {
     "name": "stdout",
     "output_type": "stream",
     "text": [
      "3080:\tlearn: 0.7977166\ttest: 0.7845532\tbest: 0.7846477 (3055)\ttotal: 18m 47s\tremaining: 11m 42s\n"
     ]
    },
    {
     "name": "stdout",
     "output_type": "stream",
     "text": [
      "3100:\tlearn: 0.7978605\ttest: 0.7846227\tbest: 0.7846477 (3055)\ttotal: 18m 54s\tremaining: 11m 34s\n"
     ]
    },
    {
     "name": "stdout",
     "output_type": "stream",
     "text": [
      "3120:\tlearn: 0.7978586\ttest: 0.7845885\tbest: 0.7846477 (3055)\ttotal: 19m 2s\tremaining: 11m 27s\n"
     ]
    },
    {
     "name": "stdout",
     "output_type": "stream",
     "text": [
      "3140:\tlearn: 0.7980677\ttest: 0.7846818\tbest: 0.7846818 (3140)\ttotal: 19m 9s\tremaining: 11m 20s\n"
     ]
    },
    {
     "name": "stdout",
     "output_type": "stream",
     "text": [
      "3160:\tlearn: 0.7981371\ttest: 0.7845624\tbest: 0.7847920 (3153)\ttotal: 19m 16s\tremaining: 11m 12s\n"
     ]
    },
    {
     "name": "stdout",
     "output_type": "stream",
     "text": [
      "3180:\tlearn: 0.7982707\ttest: 0.7846119\tbest: 0.7847920 (3153)\ttotal: 19m 23s\tremaining: 11m 5s\n"
     ]
    },
    {
     "name": "stdout",
     "output_type": "stream",
     "text": [
      "3200:\tlearn: 0.7983429\ttest: 0.7845770\tbest: 0.7847920 (3153)\ttotal: 19m 30s\tremaining: 10m 58s\n"
     ]
    },
    {
     "name": "stdout",
     "output_type": "stream",
     "text": [
      "3220:\tlearn: 0.7984251\ttest: 0.7845639\tbest: 0.7847920 (3153)\ttotal: 19m 38s\tremaining: 10m 50s\n"
     ]
    },
    {
     "name": "stdout",
     "output_type": "stream",
     "text": [
      "3240:\tlearn: 0.7986533\ttest: 0.7845731\tbest: 0.7847920 (3153)\ttotal: 19m 45s\tremaining: 10m 43s\n"
     ]
    },
    {
     "name": "stdout",
     "output_type": "stream",
     "text": [
      "3260:\tlearn: 0.7986547\ttest: 0.7846424\tbest: 0.7847920 (3153)\ttotal: 19m 53s\tremaining: 10m 36s\n"
     ]
    },
    {
     "name": "stdout",
     "output_type": "stream",
     "text": [
      "3280:\tlearn: 0.7987722\ttest: 0.7846710\tbest: 0.7847920 (3153)\ttotal: 20m\tremaining: 10m 28s\n"
     ]
    },
    {
     "name": "stdout",
     "output_type": "stream",
     "text": [
      "3300:\tlearn: 0.7987571\ttest: 0.7846146\tbest: 0.7847920 (3153)\ttotal: 20m 7s\tremaining: 10m 21s\n"
     ]
    },
    {
     "name": "stdout",
     "output_type": "stream",
     "text": [
      "3320:\tlearn: 0.7989338\ttest: 0.7845808\tbest: 0.7847920 (3153)\ttotal: 20m 15s\tremaining: 10m 14s\n"
     ]
    },
    {
     "name": "stdout",
     "output_type": "stream",
     "text": [
      "3340:\tlearn: 0.7990040\ttest: 0.7844413\tbest: 0.7847920 (3153)\ttotal: 20m 22s\tremaining: 10m 7s\n"
     ]
    },
    {
     "name": "stdout",
     "output_type": "stream",
     "text": [
      "3360:\tlearn: 0.7990894\ttest: 0.7845955\tbest: 0.7847920 (3153)\ttotal: 20m 30s\tremaining: 9m 59s\n"
     ]
    },
    {
     "name": "stdout",
     "output_type": "stream",
     "text": [
      "3380:\tlearn: 0.7991450\ttest: 0.7848572\tbest: 0.7848572 (3380)\ttotal: 20m 37s\tremaining: 9m 52s\n"
     ]
    },
    {
     "name": "stdout",
     "output_type": "stream",
     "text": [
      "3400:\tlearn: 0.7992466\ttest: 0.7848000\tbest: 0.7848572 (3380)\ttotal: 20m 44s\tremaining: 9m 45s\n"
     ]
    },
    {
     "name": "stdout",
     "output_type": "stream",
     "text": [
      "3420:\tlearn: 0.7993893\ttest: 0.7848685\tbest: 0.7848685 (3420)\ttotal: 20m 52s\tremaining: 9m 37s\n"
     ]
    },
    {
     "name": "stdout",
     "output_type": "stream",
     "text": [
      "3440:\tlearn: 0.7995113\ttest: 0.7848749\tbest: 0.7848936 (3435)\ttotal: 20m 59s\tremaining: 9m 30s\n"
     ]
    },
    {
     "name": "stdout",
     "output_type": "stream",
     "text": [
      "3460:\tlearn: 0.7995288\ttest: 0.7848399\tbest: 0.7849180 (3444)\ttotal: 21m 6s\tremaining: 9m 23s\n"
     ]
    },
    {
     "name": "stdout",
     "output_type": "stream",
     "text": [
      "3480:\tlearn: 0.7996186\ttest: 0.7848465\tbest: 0.7849180 (3444)\ttotal: 21m 13s\tremaining: 9m 15s\n"
     ]
    },
    {
     "name": "stdout",
     "output_type": "stream",
     "text": [
      "3500:\tlearn: 0.7997136\ttest: 0.7848944\tbest: 0.7849337 (3490)\ttotal: 21m 21s\tremaining: 9m 8s\n"
     ]
    },
    {
     "name": "stdout",
     "output_type": "stream",
     "text": [
      "3520:\tlearn: 0.7998050\ttest: 0.7850688\tbest: 0.7851095 (3516)\ttotal: 21m 28s\tremaining: 9m 1s\n"
     ]
    },
    {
     "name": "stdout",
     "output_type": "stream",
     "text": [
      "3540:\tlearn: 0.7999170\ttest: 0.7850952\tbest: 0.7851095 (3516)\ttotal: 21m 35s\tremaining: 8m 53s\n"
     ]
    },
    {
     "name": "stdout",
     "output_type": "stream",
     "text": [
      "3560:\tlearn: 0.8000085\ttest: 0.7849328\tbest: 0.7851168 (3542)\ttotal: 21m 42s\tremaining: 8m 46s\n"
     ]
    },
    {
     "name": "stdout",
     "output_type": "stream",
     "text": [
      "3580:\tlearn: 0.8001301\ttest: 0.7848349\tbest: 0.7851168 (3542)\ttotal: 21m 50s\tremaining: 8m 39s\n"
     ]
    },
    {
     "name": "stdout",
     "output_type": "stream",
     "text": [
      "3600:\tlearn: 0.8001076\ttest: 0.7848822\tbest: 0.7851168 (3542)\ttotal: 21m 57s\tremaining: 8m 31s\n"
     ]
    },
    {
     "name": "stdout",
     "output_type": "stream",
     "text": [
      "3620:\tlearn: 0.8002027\ttest: 0.7849319\tbest: 0.7851168 (3542)\ttotal: 22m 4s\tremaining: 8m 24s\n"
     ]
    },
    {
     "name": "stdout",
     "output_type": "stream",
     "text": [
      "3640:\tlearn: 0.8003183\ttest: 0.7849574\tbest: 0.7851168 (3542)\ttotal: 22m 11s\tremaining: 8m 17s\n"
     ]
    },
    {
     "name": "stdout",
     "output_type": "stream",
     "text": [
      "3660:\tlearn: 0.8004444\ttest: 0.7850054\tbest: 0.7851168 (3542)\ttotal: 22m 19s\tremaining: 8m 9s\n"
     ]
    },
    {
     "name": "stdout",
     "output_type": "stream",
     "text": [
      "3680:\tlearn: 0.8004869\ttest: 0.7849711\tbest: 0.7851168 (3542)\ttotal: 22m 26s\tremaining: 8m 2s\n"
     ]
    },
    {
     "name": "stdout",
     "output_type": "stream",
     "text": [
      "3700:\tlearn: 0.8005676\ttest: 0.7848088\tbest: 0.7851168 (3542)\ttotal: 22m 33s\tremaining: 7m 55s\n"
     ]
    },
    {
     "name": "stdout",
     "output_type": "stream",
     "text": [
      "3720:\tlearn: 0.8005827\ttest: 0.7848967\tbest: 0.7851168 (3542)\ttotal: 22m 40s\tremaining: 7m 47s\n"
     ]
    },
    {
     "name": "stdout",
     "output_type": "stream",
     "text": [
      "3740:\tlearn: 0.8006450\ttest: 0.7849848\tbest: 0.7851168 (3542)\ttotal: 22m 48s\tremaining: 7m 40s\n"
     ]
    },
    {
     "name": "stdout",
     "output_type": "stream",
     "text": [
      "3760:\tlearn: 0.8007120\ttest: 0.7850950\tbest: 0.7851168 (3542)\ttotal: 22m 55s\tremaining: 7m 33s\n"
     ]
    },
    {
     "name": "stdout",
     "output_type": "stream",
     "text": [
      "3780:\tlearn: 0.8006541\ttest: 0.7851222\tbest: 0.7851430 (3779)\ttotal: 23m 2s\tremaining: 7m 25s\n"
     ]
    },
    {
     "name": "stdout",
     "output_type": "stream",
     "text": [
      "3800:\tlearn: 0.8007869\ttest: 0.7850663\tbest: 0.7851443 (3782)\ttotal: 23m 10s\tremaining: 7m 18s\n"
     ]
    },
    {
     "name": "stdout",
     "output_type": "stream",
     "text": [
      "3820:\tlearn: 0.8007599\ttest: 0.7849672\tbest: 0.7851742 (3811)\ttotal: 23m 17s\tremaining: 7m 11s\n"
     ]
    },
    {
     "name": "stdout",
     "output_type": "stream",
     "text": [
      "3840:\tlearn: 0.8008686\ttest: 0.7849722\tbest: 0.7851742 (3811)\ttotal: 23m 24s\tremaining: 7m 3s\n"
     ]
    },
    {
     "name": "stdout",
     "output_type": "stream",
     "text": [
      "3860:\tlearn: 0.8009307\ttest: 0.7848515\tbest: 0.7851742 (3811)\ttotal: 23m 31s\tremaining: 6m 56s\n"
     ]
    },
    {
     "name": "stdout",
     "output_type": "stream",
     "text": [
      "3880:\tlearn: 0.8009705\ttest: 0.7849424\tbest: 0.7851742 (3811)\ttotal: 23m 38s\tremaining: 6m 49s\n"
     ]
    },
    {
     "name": "stdout",
     "output_type": "stream",
     "text": [
      "3900:\tlearn: 0.8010706\ttest: 0.7849921\tbest: 0.7851742 (3811)\ttotal: 23m 45s\tremaining: 6m 41s\n"
     ]
    },
    {
     "name": "stdout",
     "output_type": "stream",
     "text": [
      "3920:\tlearn: 0.8012222\ttest: 0.7849143\tbest: 0.7851742 (3811)\ttotal: 23m 53s\tremaining: 6m 34s\n"
     ]
    },
    {
     "name": "stdout",
     "output_type": "stream",
     "text": [
      "3940:\tlearn: 0.8012578\ttest: 0.7848146\tbest: 0.7851742 (3811)\ttotal: 24m\tremaining: 6m 27s\n"
     ]
    },
    {
     "name": "stdout",
     "output_type": "stream",
     "text": [
      "3960:\tlearn: 0.8013642\ttest: 0.7848822\tbest: 0.7851742 (3811)\ttotal: 24m 7s\tremaining: 6m 19s\n"
     ]
    },
    {
     "name": "stdout",
     "output_type": "stream",
     "text": [
      "3980:\tlearn: 0.8013525\ttest: 0.7847389\tbest: 0.7851742 (3811)\ttotal: 24m 14s\tremaining: 6m 12s\n"
     ]
    },
    {
     "name": "stdout",
     "output_type": "stream",
     "text": [
      "4000:\tlearn: 0.8014098\ttest: 0.7848267\tbest: 0.7851742 (3811)\ttotal: 24m 21s\tremaining: 6m 5s\n"
     ]
    },
    {
     "name": "stdout",
     "output_type": "stream",
     "text": [
      "4020:\tlearn: 0.8014819\ttest: 0.7850620\tbest: 0.7851742 (3811)\ttotal: 24m 29s\tremaining: 5m 57s\n"
     ]
    },
    {
     "name": "stdout",
     "output_type": "stream",
     "text": [
      "4040:\tlearn: 0.8015661\ttest: 0.7848981\tbest: 0.7851742 (3811)\ttotal: 24m 36s\tremaining: 5m 50s\n"
     ]
    },
    {
     "name": "stdout",
     "output_type": "stream",
     "text": [
      "4060:\tlearn: 0.8016705\ttest: 0.7849443\tbest: 0.7851742 (3811)\ttotal: 24m 43s\tremaining: 5m 43s\n"
     ]
    },
    {
     "name": "stdout",
     "output_type": "stream",
     "text": [
      "4080:\tlearn: 0.8017386\ttest: 0.7851816\tbest: 0.7851816 (4080)\ttotal: 24m 51s\tremaining: 5m 35s\n"
     ]
    },
    {
     "name": "stdout",
     "output_type": "stream",
     "text": [
      "4100:\tlearn: 0.8017184\ttest: 0.7852716\tbest: 0.7853553 (4097)\ttotal: 24m 58s\tremaining: 5m 28s\n"
     ]
    },
    {
     "name": "stdout",
     "output_type": "stream",
     "text": [
      "4120:\tlearn: 0.8018450\ttest: 0.7852573\tbest: 0.7853553 (4097)\ttotal: 25m 5s\tremaining: 5m 21s\n"
     ]
    },
    {
     "name": "stdout",
     "output_type": "stream",
     "text": [
      "4140:\tlearn: 0.8019191\ttest: 0.7853054\tbest: 0.7853553 (4097)\ttotal: 25m 13s\tremaining: 5m 13s\n"
     ]
    },
    {
     "name": "stdout",
     "output_type": "stream",
     "text": [
      "4160:\tlearn: 0.8020117\ttest: 0.7852459\tbest: 0.7853553 (4097)\ttotal: 25m 20s\tremaining: 5m 6s\n"
     ]
    },
    {
     "name": "stdout",
     "output_type": "stream",
     "text": [
      "4180:\tlearn: 0.8020966\ttest: 0.7853361\tbest: 0.7853964 (4173)\ttotal: 25m 27s\tremaining: 4m 59s\n"
     ]
    },
    {
     "name": "stdout",
     "output_type": "stream",
     "text": [
      "4200:\tlearn: 0.8021053\ttest: 0.7853403\tbest: 0.7854235 (4195)\ttotal: 25m 34s\tremaining: 4m 51s\n"
     ]
    },
    {
     "name": "stdout",
     "output_type": "stream",
     "text": [
      "4220:\tlearn: 0.8020414\ttest: 0.7854060\tbest: 0.7854269 (4213)\ttotal: 25m 41s\tremaining: 4m 44s\n"
     ]
    },
    {
     "name": "stdout",
     "output_type": "stream",
     "text": [
      "4240:\tlearn: 0.8021191\ttest: 0.7855360\tbest: 0.7855360 (4240)\ttotal: 25m 48s\tremaining: 4m 37s\n"
     ]
    },
    {
     "name": "stdout",
     "output_type": "stream",
     "text": [
      "4260:\tlearn: 0.8021971\ttest: 0.7855849\tbest: 0.7855851 (4259)\ttotal: 25m 56s\tremaining: 4m 29s\n"
     ]
    },
    {
     "name": "stdout",
     "output_type": "stream",
     "text": [
      "4280:\tlearn: 0.8022527\ttest: 0.7857582\tbest: 0.7857582 (4280)\ttotal: 26m 3s\tremaining: 4m 22s\n"
     ]
    },
    {
     "name": "stdout",
     "output_type": "stream",
     "text": [
      "4300:\tlearn: 0.8022944\ttest: 0.7856373\tbest: 0.7857585 (4281)\ttotal: 26m 11s\tremaining: 4m 15s\n"
     ]
    },
    {
     "name": "stdout",
     "output_type": "stream",
     "text": [
      "4320:\tlearn: 0.8023062\ttest: 0.7857044\tbest: 0.7857585 (4281)\ttotal: 26m 18s\tremaining: 4m 7s\n"
     ]
    },
    {
     "name": "stdout",
     "output_type": "stream",
     "text": [
      "4340:\tlearn: 0.8024239\ttest: 0.7857504\tbest: 0.7857585 (4281)\ttotal: 26m 25s\tremaining: 4m\n"
     ]
    },
    {
     "name": "stdout",
     "output_type": "stream",
     "text": [
      "4360:\tlearn: 0.8024173\ttest: 0.7856718\tbest: 0.7857585 (4281)\ttotal: 26m 32s\tremaining: 3m 53s\n"
     ]
    },
    {
     "name": "stdout",
     "output_type": "stream",
     "text": [
      "4380:\tlearn: 0.8025165\ttest: 0.7856121\tbest: 0.7857585 (4281)\ttotal: 26m 39s\tremaining: 3m 46s\n"
     ]
    },
    {
     "name": "stdout",
     "output_type": "stream",
     "text": [
      "4400:\tlearn: 0.8024990\ttest: 0.7857015\tbest: 0.7857585 (4281)\ttotal: 26m 46s\tremaining: 3m 38s\n"
     ]
    },
    {
     "name": "stdout",
     "output_type": "stream",
     "text": [
      "4420:\tlearn: 0.8025921\ttest: 0.7857694\tbest: 0.7858307 (4414)\ttotal: 26m 54s\tremaining: 3m 31s\n"
     ]
    },
    {
     "name": "stdout",
     "output_type": "stream",
     "text": [
      "4440:\tlearn: 0.8026003\ttest: 0.7857726\tbest: 0.7858307 (4414)\ttotal: 27m 1s\tremaining: 3m 24s\n"
     ]
    },
    {
     "name": "stdout",
     "output_type": "stream",
     "text": [
      "4460:\tlearn: 0.8026797\ttest: 0.7857795\tbest: 0.7858307 (4414)\ttotal: 27m 9s\tremaining: 3m 16s\n"
     ]
    },
    {
     "name": "stdout",
     "output_type": "stream",
     "text": [
      "4480:\tlearn: 0.8027374\ttest: 0.7857648\tbest: 0.7858452 (4471)\ttotal: 27m 16s\tremaining: 3m 9s\n"
     ]
    },
    {
     "name": "stdout",
     "output_type": "stream",
     "text": [
      "4500:\tlearn: 0.8028469\ttest: 0.7858739\tbest: 0.7858949 (4499)\ttotal: 27m 23s\tremaining: 3m 2s\n"
     ]
    },
    {
     "name": "stdout",
     "output_type": "stream",
     "text": [
      "4520:\tlearn: 0.8028241\ttest: 0.7859199\tbest: 0.7859199 (4520)\ttotal: 27m 31s\tremaining: 2m 54s\n"
     ]
    },
    {
     "name": "stdout",
     "output_type": "stream",
     "text": [
      "4540:\tlearn: 0.8029900\ttest: 0.7858173\tbest: 0.7859199 (4520)\ttotal: 27m 38s\tremaining: 2m 47s\n"
     ]
    },
    {
     "name": "stdout",
     "output_type": "stream",
     "text": [
      "4560:\tlearn: 0.8030630\ttest: 0.7858404\tbest: 0.7859199 (4520)\ttotal: 27m 45s\tremaining: 2m 40s\n"
     ]
    },
    {
     "name": "stdout",
     "output_type": "stream",
     "text": [
      "4580:\tlearn: 0.8032410\ttest: 0.7858460\tbest: 0.7859199 (4520)\ttotal: 27m 52s\tremaining: 2m 32s\n"
     ]
    },
    {
     "name": "stdout",
     "output_type": "stream",
     "text": [
      "4600:\tlearn: 0.8032020\ttest: 0.7857026\tbest: 0.7859199 (4520)\ttotal: 27m 59s\tremaining: 2m 25s\n"
     ]
    },
    {
     "name": "stdout",
     "output_type": "stream",
     "text": [
      "4620:\tlearn: 0.8033156\ttest: 0.7858537\tbest: 0.7859199 (4520)\ttotal: 28m 6s\tremaining: 2m 18s\n"
     ]
    },
    {
     "name": "stdout",
     "output_type": "stream",
     "text": [
      "4640:\tlearn: 0.8032542\ttest: 0.7858146\tbest: 0.7859612 (4634)\ttotal: 28m 14s\tremaining: 2m 11s\n"
     ]
    },
    {
     "name": "stdout",
     "output_type": "stream",
     "text": [
      "4660:\tlearn: 0.8033593\ttest: 0.7856712\tbest: 0.7859612 (4634)\ttotal: 28m 21s\tremaining: 2m 3s\n"
     ]
    },
    {
     "name": "stdout",
     "output_type": "stream",
     "text": [
      "4680:\tlearn: 0.8035254\ttest: 0.7857385\tbest: 0.7859612 (4634)\ttotal: 28m 28s\tremaining: 1m 56s\n"
     ]
    },
    {
     "name": "stdout",
     "output_type": "stream",
     "text": [
      "4700:\tlearn: 0.8035191\ttest: 0.7857871\tbest: 0.7859748 (4694)\ttotal: 28m 36s\tremaining: 1m 49s\n"
     ]
    },
    {
     "name": "stdout",
     "output_type": "stream",
     "text": [
      "4720:\tlearn: 0.8036172\ttest: 0.7859185\tbest: 0.7859748 (4694)\ttotal: 28m 43s\tremaining: 1m 41s\n"
     ]
    },
    {
     "name": "stdout",
     "output_type": "stream",
     "text": [
      "4740:\tlearn: 0.8036415\ttest: 0.7858592\tbest: 0.7860455 (4724)\ttotal: 28m 50s\tremaining: 1m 34s\n"
     ]
    },
    {
     "name": "stdout",
     "output_type": "stream",
     "text": [
      "4760:\tlearn: 0.8037718\ttest: 0.7858642\tbest: 0.7860526 (4757)\ttotal: 28m 57s\tremaining: 1m 27s\n"
     ]
    },
    {
     "name": "stdout",
     "output_type": "stream",
     "text": [
      "4780:\tlearn: 0.8038271\ttest: 0.7858463\tbest: 0.7860526 (4757)\ttotal: 29m 5s\tremaining: 1m 19s\n"
     ]
    },
    {
     "name": "stdout",
     "output_type": "stream",
     "text": [
      "4800:\tlearn: 0.8039498\ttest: 0.7859768\tbest: 0.7860526 (4757)\ttotal: 29m 12s\tremaining: 1m 12s\n"
     ]
    },
    {
     "name": "stdout",
     "output_type": "stream",
     "text": [
      "4820:\tlearn: 0.8039327\ttest: 0.7860224\tbest: 0.7861045 (4807)\ttotal: 29m 19s\tremaining: 1m 5s\n"
     ]
    },
    {
     "name": "stdout",
     "output_type": "stream",
     "text": [
      "4840:\tlearn: 0.8041108\ttest: 0.7861549\tbest: 0.7861744 (4836)\ttotal: 29m 26s\tremaining: 58s\n"
     ]
    },
    {
     "name": "stdout",
     "output_type": "stream",
     "text": [
      "4860:\tlearn: 0.8041236\ttest: 0.7862855\tbest: 0.7862855 (4860)\ttotal: 29m 33s\tremaining: 50.7s\n"
     ]
    },
    {
     "name": "stdout",
     "output_type": "stream",
     "text": [
      "4880:\tlearn: 0.8042476\ttest: 0.7862700\tbest: 0.7863520 (4869)\ttotal: 29m 41s\tremaining: 43.4s\n"
     ]
    },
    {
     "name": "stdout",
     "output_type": "stream",
     "text": [
      "4900:\tlearn: 0.8042916\ttest: 0.7862741\tbest: 0.7863520 (4869)\ttotal: 29m 48s\tremaining: 36.1s\n"
     ]
    },
    {
     "name": "stdout",
     "output_type": "stream",
     "text": [
      "4920:\tlearn: 0.8044115\ttest: 0.7862575\tbest: 0.7863589 (4906)\ttotal: 29m 55s\tremaining: 28.8s\n"
     ]
    },
    {
     "name": "stdout",
     "output_type": "stream",
     "text": [
      "4940:\tlearn: 0.8045149\ttest: 0.7862206\tbest: 0.7863589 (4906)\ttotal: 30m 2s\tremaining: 21.5s\n"
     ]
    },
    {
     "name": "stdout",
     "output_type": "stream",
     "text": [
      "4960:\tlearn: 0.8045434\ttest: 0.7863287\tbest: 0.7863589 (4906)\ttotal: 30m 9s\tremaining: 14.2s\n"
     ]
    },
    {
     "name": "stdout",
     "output_type": "stream",
     "text": [
      "4980:\tlearn: 0.8045935\ttest: 0.7861629\tbest: 0.7863589 (4906)\ttotal: 30m 17s\tremaining: 6.93s\n"
     ]
    },
    {
     "name": "stdout",
     "output_type": "stream",
     "text": [
      "4999:\tlearn: 0.8046377\ttest: 0.7861259\tbest: 0.7863589 (4906)\ttotal: 30m 24s\tremaining: 0us\n",
      "\n",
      "bestTest = 0.7863588516\n",
      "bestIteration = 4906\n",
      "\n",
      "Shrink model to first 4907 iterations.\n"
     ]
    },
    {
     "name": "stdout",
     "output_type": "stream",
     "text": [
      "######################################## training model 4/5 ########################################\n"
     ]
    },
    {
     "name": "stdout",
     "output_type": "stream",
     "text": [
      "0:\tlearn: 0.6660096\ttest: 0.6588603\tbest: 0.6588603 (0)\ttotal: 694ms\tremaining: 57m 49s\n"
     ]
    },
    {
     "name": "stdout",
     "output_type": "stream",
     "text": [
      "20:\tlearn: 0.7357484\ttest: 0.7324586\tbest: 0.7324586 (20)\ttotal: 7.75s\tremaining: 30m 36s\n"
     ]
    },
    {
     "name": "stdout",
     "output_type": "stream",
     "text": [
      "40:\tlearn: 0.7388466\ttest: 0.7371296\tbest: 0.7371296 (40)\ttotal: 15s\tremaining: 30m 8s\n"
     ]
    },
    {
     "name": "stdout",
     "output_type": "stream",
     "text": [
      "60:\tlearn: 0.7419738\ttest: 0.7396505\tbest: 0.7396505 (60)\ttotal: 22.4s\tremaining: 30m 10s\n"
     ]
    },
    {
     "name": "stdout",
     "output_type": "stream",
     "text": [
      "80:\tlearn: 0.7449906\ttest: 0.7412071\tbest: 0.7412071 (80)\ttotal: 30s\tremaining: 30m 20s\n"
     ]
    },
    {
     "name": "stdout",
     "output_type": "stream",
     "text": [
      "100:\tlearn: 0.7476243\ttest: 0.7446232\tbest: 0.7446232 (100)\ttotal: 37.5s\tremaining: 30m 17s\n"
     ]
    },
    {
     "name": "stdout",
     "output_type": "stream",
     "text": [
      "120:\tlearn: 0.7506188\ttest: 0.7470983\tbest: 0.7471838 (119)\ttotal: 44.9s\tremaining: 30m 11s\n"
     ]
    },
    {
     "name": "stdout",
     "output_type": "stream",
     "text": [
      "140:\tlearn: 0.7534891\ttest: 0.7504465\tbest: 0.7504465 (140)\ttotal: 52.3s\tremaining: 30m\n"
     ]
    },
    {
     "name": "stdout",
     "output_type": "stream",
     "text": [
      "160:\tlearn: 0.7555697\ttest: 0.7535203\tbest: 0.7535203 (160)\ttotal: 59.7s\tremaining: 29m 53s\n"
     ]
    },
    {
     "name": "stdout",
     "output_type": "stream",
     "text": [
      "180:\tlearn: 0.7580420\ttest: 0.7558348\tbest: 0.7558348 (180)\ttotal: 1m 6s\tremaining: 29m 41s\n"
     ]
    },
    {
     "name": "stdout",
     "output_type": "stream",
     "text": [
      "200:\tlearn: 0.7598855\ttest: 0.7572278\tbest: 0.7572278 (200)\ttotal: 1m 14s\tremaining: 29m 33s\n"
     ]
    },
    {
     "name": "stdout",
     "output_type": "stream",
     "text": [
      "220:\tlearn: 0.7614215\ttest: 0.7584352\tbest: 0.7584759 (219)\ttotal: 1m 21s\tremaining: 29m 26s\n"
     ]
    },
    {
     "name": "stdout",
     "output_type": "stream",
     "text": [
      "240:\tlearn: 0.7629373\ttest: 0.7601792\tbest: 0.7601792 (240)\ttotal: 1m 29s\tremaining: 29m 22s\n"
     ]
    },
    {
     "name": "stdout",
     "output_type": "stream",
     "text": [
      "260:\tlearn: 0.7640648\ttest: 0.7621311\tbest: 0.7622061 (258)\ttotal: 1m 36s\tremaining: 29m 17s\n"
     ]
    },
    {
     "name": "stdout",
     "output_type": "stream",
     "text": [
      "280:\tlearn: 0.7651285\ttest: 0.7628894\tbest: 0.7632261 (275)\ttotal: 1m 44s\tremaining: 29m 9s\n"
     ]
    },
    {
     "name": "stdout",
     "output_type": "stream",
     "text": [
      "300:\tlearn: 0.7662292\ttest: 0.7637735\tbest: 0.7637735 (300)\ttotal: 1m 51s\tremaining: 29m 4s\n"
     ]
    },
    {
     "name": "stdout",
     "output_type": "stream",
     "text": [
      "320:\tlearn: 0.7671387\ttest: 0.7644697\tbest: 0.7646044 (319)\ttotal: 1m 59s\tremaining: 28m 56s\n"
     ]
    },
    {
     "name": "stdout",
     "output_type": "stream",
     "text": [
      "340:\tlearn: 0.7680229\ttest: 0.7656577\tbest: 0.7656577 (340)\ttotal: 2m 6s\tremaining: 28m 47s\n"
     ]
    },
    {
     "name": "stdout",
     "output_type": "stream",
     "text": [
      "360:\tlearn: 0.7687673\ttest: 0.7660582\tbest: 0.7661891 (356)\ttotal: 2m 13s\tremaining: 28m 40s\n"
     ]
    },
    {
     "name": "stdout",
     "output_type": "stream",
     "text": [
      "380:\tlearn: 0.7694823\ttest: 0.7669513\tbest: 0.7670791 (378)\ttotal: 2m 21s\tremaining: 28m 32s\n"
     ]
    },
    {
     "name": "stdout",
     "output_type": "stream",
     "text": [
      "400:\tlearn: 0.7700486\ttest: 0.7678306\tbest: 0.7678306 (400)\ttotal: 2m 28s\tremaining: 28m 24s\n"
     ]
    },
    {
     "name": "stdout",
     "output_type": "stream",
     "text": [
      "420:\tlearn: 0.7709379\ttest: 0.7683585\tbest: 0.7683585 (420)\ttotal: 2m 35s\tremaining: 28m 15s\n"
     ]
    },
    {
     "name": "stdout",
     "output_type": "stream",
     "text": [
      "440:\tlearn: 0.7716209\ttest: 0.7686847\tbest: 0.7688238 (439)\ttotal: 2m 43s\tremaining: 28m 8s\n"
     ]
    },
    {
     "name": "stdout",
     "output_type": "stream",
     "text": [
      "460:\tlearn: 0.7722589\ttest: 0.7691888\tbest: 0.7692014 (459)\ttotal: 2m 50s\tremaining: 28m\n"
     ]
    },
    {
     "name": "stdout",
     "output_type": "stream",
     "text": [
      "480:\tlearn: 0.7726819\ttest: 0.7691845\tbest: 0.7693896 (464)\ttotal: 2m 58s\tremaining: 27m 54s\n"
     ]
    },
    {
     "name": "stdout",
     "output_type": "stream",
     "text": [
      "500:\tlearn: 0.7735677\ttest: 0.7690943\tbest: 0.7693896 (464)\ttotal: 3m 5s\tremaining: 27m 44s\n"
     ]
    },
    {
     "name": "stdout",
     "output_type": "stream",
     "text": [
      "520:\tlearn: 0.7741235\ttest: 0.7693740\tbest: 0.7695853 (513)\ttotal: 3m 12s\tremaining: 27m 37s\n"
     ]
    },
    {
     "name": "stdout",
     "output_type": "stream",
     "text": [
      "540:\tlearn: 0.7747127\ttest: 0.7697379\tbest: 0.7697823 (537)\ttotal: 3m 19s\tremaining: 27m 27s\n"
     ]
    },
    {
     "name": "stdout",
     "output_type": "stream",
     "text": [
      "560:\tlearn: 0.7751812\ttest: 0.7698092\tbest: 0.7698970 (557)\ttotal: 3m 27s\tremaining: 27m 18s\n"
     ]
    },
    {
     "name": "stdout",
     "output_type": "stream",
     "text": [
      "580:\tlearn: 0.7757803\ttest: 0.7702113\tbest: 0.7702113 (580)\ttotal: 3m 34s\tremaining: 27m 11s\n"
     ]
    },
    {
     "name": "stdout",
     "output_type": "stream",
     "text": [
      "600:\tlearn: 0.7761747\ttest: 0.7705221\tbest: 0.7705956 (598)\ttotal: 3m 41s\tremaining: 27m 3s\n"
     ]
    },
    {
     "name": "stdout",
     "output_type": "stream",
     "text": [
      "620:\tlearn: 0.7766119\ttest: 0.7708814\tbest: 0.7710283 (616)\ttotal: 3m 49s\tremaining: 26m 56s\n"
     ]
    },
    {
     "name": "stdout",
     "output_type": "stream",
     "text": [
      "640:\tlearn: 0.7771628\ttest: 0.7710025\tbest: 0.7711963 (636)\ttotal: 3m 56s\tremaining: 26m 47s\n"
     ]
    },
    {
     "name": "stdout",
     "output_type": "stream",
     "text": [
      "660:\tlearn: 0.7776697\ttest: 0.7715865\tbest: 0.7715865 (660)\ttotal: 4m 3s\tremaining: 26m 39s\n"
     ]
    },
    {
     "name": "stdout",
     "output_type": "stream",
     "text": [
      "680:\tlearn: 0.7781492\ttest: 0.7718119\tbest: 0.7718119 (680)\ttotal: 4m 10s\tremaining: 26m 30s\n"
     ]
    },
    {
     "name": "stdout",
     "output_type": "stream",
     "text": [
      "700:\tlearn: 0.7785727\ttest: 0.7723264\tbest: 0.7723264 (700)\ttotal: 4m 18s\tremaining: 26m 22s\n"
     ]
    },
    {
     "name": "stdout",
     "output_type": "stream",
     "text": [
      "720:\tlearn: 0.7786540\ttest: 0.7725187\tbest: 0.7725514 (718)\ttotal: 4m 25s\tremaining: 26m 15s\n"
     ]
    },
    {
     "name": "stdout",
     "output_type": "stream",
     "text": [
      "740:\tlearn: 0.7790494\ttest: 0.7728321\tbest: 0.7728668 (738)\ttotal: 4m 33s\tremaining: 26m 9s\n"
     ]
    },
    {
     "name": "stdout",
     "output_type": "stream",
     "text": [
      "760:\tlearn: 0.7794982\ttest: 0.7735482\tbest: 0.7736545 (755)\ttotal: 4m 40s\tremaining: 26m 3s\n"
     ]
    },
    {
     "name": "stdout",
     "output_type": "stream",
     "text": [
      "780:\tlearn: 0.7798340\ttest: 0.7737692\tbest: 0.7738576 (770)\ttotal: 4m 48s\tremaining: 25m 56s\n"
     ]
    },
    {
     "name": "stdout",
     "output_type": "stream",
     "text": [
      "800:\tlearn: 0.7802546\ttest: 0.7738249\tbest: 0.7738576 (770)\ttotal: 4m 55s\tremaining: 25m 49s\n"
     ]
    },
    {
     "name": "stdout",
     "output_type": "stream",
     "text": [
      "820:\tlearn: 0.7807305\ttest: 0.7741178\tbest: 0.7741178 (820)\ttotal: 5m 3s\tremaining: 25m 42s\n"
     ]
    },
    {
     "name": "stdout",
     "output_type": "stream",
     "text": [
      "840:\tlearn: 0.7811507\ttest: 0.7747138\tbest: 0.7747138 (840)\ttotal: 5m 10s\tremaining: 25m 35s\n"
     ]
    },
    {
     "name": "stdout",
     "output_type": "stream",
     "text": [
      "860:\tlearn: 0.7813462\ttest: 0.7750135\tbest: 0.7751725 (857)\ttotal: 5m 17s\tremaining: 25m 28s\n"
     ]
    },
    {
     "name": "stdout",
     "output_type": "stream",
     "text": [
      "880:\tlearn: 0.7816823\ttest: 0.7751823\tbest: 0.7752665 (873)\ttotal: 5m 25s\tremaining: 25m 20s\n"
     ]
    },
    {
     "name": "stdout",
     "output_type": "stream",
     "text": [
      "900:\tlearn: 0.7820162\ttest: 0.7754337\tbest: 0.7755460 (889)\ttotal: 5m 32s\tremaining: 25m 11s\n"
     ]
    },
    {
     "name": "stdout",
     "output_type": "stream",
     "text": [
      "920:\tlearn: 0.7821430\ttest: 0.7754087\tbest: 0.7755460 (889)\ttotal: 5m 39s\tremaining: 25m 3s\n"
     ]
    },
    {
     "name": "stdout",
     "output_type": "stream",
     "text": [
      "940:\tlearn: 0.7825024\ttest: 0.7755931\tbest: 0.7756721 (938)\ttotal: 5m 46s\tremaining: 24m 55s\n"
     ]
    },
    {
     "name": "stdout",
     "output_type": "stream",
     "text": [
      "960:\tlearn: 0.7829019\ttest: 0.7756701\tbest: 0.7757226 (956)\ttotal: 5m 53s\tremaining: 24m 47s\n"
     ]
    },
    {
     "name": "stdout",
     "output_type": "stream",
     "text": [
      "980:\tlearn: 0.7831271\ttest: 0.7757327\tbest: 0.7757804 (975)\ttotal: 6m 1s\tremaining: 24m 40s\n"
     ]
    },
    {
     "name": "stdout",
     "output_type": "stream",
     "text": [
      "1000:\tlearn: 0.7835477\ttest: 0.7760159\tbest: 0.7760159 (1000)\ttotal: 6m 8s\tremaining: 24m 32s\n"
     ]
    },
    {
     "name": "stdout",
     "output_type": "stream",
     "text": [
      "1020:\tlearn: 0.7836889\ttest: 0.7759439\tbest: 0.7761628 (1008)\ttotal: 6m 16s\tremaining: 24m 25s\n"
     ]
    },
    {
     "name": "stdout",
     "output_type": "stream",
     "text": [
      "1040:\tlearn: 0.7840574\ttest: 0.7760549\tbest: 0.7761628 (1008)\ttotal: 6m 23s\tremaining: 24m 18s\n"
     ]
    },
    {
     "name": "stdout",
     "output_type": "stream",
     "text": [
      "1060:\tlearn: 0.7843185\ttest: 0.7763448\tbest: 0.7764218 (1056)\ttotal: 6m 30s\tremaining: 24m 10s\n"
     ]
    },
    {
     "name": "stdout",
     "output_type": "stream",
     "text": [
      "1080:\tlearn: 0.7847211\ttest: 0.7764553\tbest: 0.7765336 (1078)\ttotal: 6m 38s\tremaining: 24m 3s\n"
     ]
    },
    {
     "name": "stdout",
     "output_type": "stream",
     "text": [
      "1100:\tlearn: 0.7849683\ttest: 0.7766457\tbest: 0.7767280 (1098)\ttotal: 6m 45s\tremaining: 23m 55s\n"
     ]
    },
    {
     "name": "stdout",
     "output_type": "stream",
     "text": [
      "1120:\tlearn: 0.7853355\ttest: 0.7767102\tbest: 0.7767947 (1110)\ttotal: 6m 52s\tremaining: 23m 47s\n"
     ]
    },
    {
     "name": "stdout",
     "output_type": "stream",
     "text": [
      "1140:\tlearn: 0.7855054\ttest: 0.7767143\tbest: 0.7768390 (1130)\ttotal: 7m\tremaining: 23m 40s\n"
     ]
    },
    {
     "name": "stdout",
     "output_type": "stream",
     "text": [
      "1160:\tlearn: 0.7857397\ttest: 0.7768482\tbest: 0.7768882 (1159)\ttotal: 7m 7s\tremaining: 23m 33s\n"
     ]
    },
    {
     "name": "stdout",
     "output_type": "stream",
     "text": [
      "1180:\tlearn: 0.7860234\ttest: 0.7773945\tbest: 0.7773945 (1180)\ttotal: 7m 14s\tremaining: 23m 25s\n"
     ]
    },
    {
     "name": "stdout",
     "output_type": "stream",
     "text": [
      "1200:\tlearn: 0.7861166\ttest: 0.7771663\tbest: 0.7774174 (1191)\ttotal: 7m 22s\tremaining: 23m 18s\n"
     ]
    },
    {
     "name": "stdout",
     "output_type": "stream",
     "text": [
      "1220:\tlearn: 0.7862149\ttest: 0.7775053\tbest: 0.7775053 (1220)\ttotal: 7m 29s\tremaining: 23m 11s\n"
     ]
    },
    {
     "name": "stdout",
     "output_type": "stream",
     "text": [
      "1240:\tlearn: 0.7864035\ttest: 0.7776600\tbest: 0.7776600 (1240)\ttotal: 7m 36s\tremaining: 23m 3s\n"
     ]
    },
    {
     "name": "stdout",
     "output_type": "stream",
     "text": [
      "1260:\tlearn: 0.7866499\ttest: 0.7777869\tbest: 0.7778488 (1259)\ttotal: 7m 44s\tremaining: 22m 57s\n"
     ]
    },
    {
     "name": "stdout",
     "output_type": "stream",
     "text": [
      "1280:\tlearn: 0.7868444\ttest: 0.7780658\tbest: 0.7780658 (1280)\ttotal: 7m 51s\tremaining: 22m 49s\n"
     ]
    },
    {
     "name": "stdout",
     "output_type": "stream",
     "text": [
      "1300:\tlearn: 0.7871346\ttest: 0.7781271\tbest: 0.7781840 (1297)\ttotal: 7m 58s\tremaining: 22m 41s\n"
     ]
    },
    {
     "name": "stdout",
     "output_type": "stream",
     "text": [
      "1320:\tlearn: 0.7874060\ttest: 0.7784140\tbest: 0.7784518 (1317)\ttotal: 8m 6s\tremaining: 22m 34s\n"
     ]
    },
    {
     "name": "stdout",
     "output_type": "stream",
     "text": [
      "1340:\tlearn: 0.7875467\ttest: 0.7785585\tbest: 0.7785824 (1331)\ttotal: 8m 13s\tremaining: 22m 26s\n"
     ]
    },
    {
     "name": "stdout",
     "output_type": "stream",
     "text": [
      "1360:\tlearn: 0.7876780\ttest: 0.7785096\tbest: 0.7787305 (1355)\ttotal: 8m 20s\tremaining: 22m 19s\n"
     ]
    },
    {
     "name": "stdout",
     "output_type": "stream",
     "text": [
      "1380:\tlearn: 0.7879417\ttest: 0.7787942\tbest: 0.7787942 (1380)\ttotal: 8m 28s\tremaining: 22m 11s\n"
     ]
    },
    {
     "name": "stdout",
     "output_type": "stream",
     "text": [
      "1400:\tlearn: 0.7880648\ttest: 0.7791876\tbest: 0.7791876 (1400)\ttotal: 8m 35s\tremaining: 22m 4s\n"
     ]
    },
    {
     "name": "stdout",
     "output_type": "stream",
     "text": [
      "1420:\tlearn: 0.7882658\ttest: 0.7793897\tbest: 0.7794759 (1408)\ttotal: 8m 42s\tremaining: 21m 57s\n"
     ]
    },
    {
     "name": "stdout",
     "output_type": "stream",
     "text": [
      "1440:\tlearn: 0.7884722\ttest: 0.7797182\tbest: 0.7797377 (1439)\ttotal: 8m 50s\tremaining: 21m 49s\n"
     ]
    },
    {
     "name": "stdout",
     "output_type": "stream",
     "text": [
      "1460:\tlearn: 0.7886760\ttest: 0.7802395\tbest: 0.7802395 (1460)\ttotal: 8m 57s\tremaining: 21m 42s\n"
     ]
    },
    {
     "name": "stdout",
     "output_type": "stream",
     "text": [
      "1480:\tlearn: 0.7890037\ttest: 0.7797900\tbest: 0.7802395 (1460)\ttotal: 9m 4s\tremaining: 21m 34s\n"
     ]
    },
    {
     "name": "stdout",
     "output_type": "stream",
     "text": [
      "1500:\tlearn: 0.7891125\ttest: 0.7797776\tbest: 0.7802395 (1460)\ttotal: 9m 12s\tremaining: 21m 27s\n"
     ]
    },
    {
     "name": "stdout",
     "output_type": "stream",
     "text": [
      "1520:\tlearn: 0.7892846\ttest: 0.7796800\tbest: 0.7802395 (1460)\ttotal: 9m 19s\tremaining: 21m 19s\n"
     ]
    },
    {
     "name": "stdout",
     "output_type": "stream",
     "text": [
      "1540:\tlearn: 0.7894968\ttest: 0.7798172\tbest: 0.7802395 (1460)\ttotal: 9m 26s\tremaining: 21m 12s\n"
     ]
    },
    {
     "name": "stdout",
     "output_type": "stream",
     "text": [
      "1560:\tlearn: 0.7895253\ttest: 0.7800143\tbest: 0.7802395 (1460)\ttotal: 9m 34s\tremaining: 21m 4s\n"
     ]
    },
    {
     "name": "stdout",
     "output_type": "stream",
     "text": [
      "1580:\tlearn: 0.7897006\ttest: 0.7802738\tbest: 0.7802738 (1580)\ttotal: 9m 41s\tremaining: 20m 56s\n"
     ]
    },
    {
     "name": "stdout",
     "output_type": "stream",
     "text": [
      "1600:\tlearn: 0.7898833\ttest: 0.7801719\tbest: 0.7802760 (1582)\ttotal: 9m 48s\tremaining: 20m 49s\n"
     ]
    },
    {
     "name": "stdout",
     "output_type": "stream",
     "text": [
      "1620:\tlearn: 0.7901115\ttest: 0.7800767\tbest: 0.7802760 (1582)\ttotal: 9m 55s\tremaining: 20m 42s\n"
     ]
    },
    {
     "name": "stdout",
     "output_type": "stream",
     "text": [
      "1640:\tlearn: 0.7903375\ttest: 0.7806296\tbest: 0.7806296 (1640)\ttotal: 10m 3s\tremaining: 20m 34s\n"
     ]
    },
    {
     "name": "stdout",
     "output_type": "stream",
     "text": [
      "1660:\tlearn: 0.7906228\ttest: 0.7807001\tbest: 0.7807924 (1651)\ttotal: 10m 10s\tremaining: 20m 27s\n"
     ]
    },
    {
     "name": "stdout",
     "output_type": "stream",
     "text": [
      "1680:\tlearn: 0.7908040\ttest: 0.7807056\tbest: 0.7809062 (1672)\ttotal: 10m 17s\tremaining: 20m 20s\n"
     ]
    },
    {
     "name": "stdout",
     "output_type": "stream",
     "text": [
      "1700:\tlearn: 0.7909571\ttest: 0.7808367\tbest: 0.7809062 (1672)\ttotal: 10m 25s\tremaining: 20m 12s\n"
     ]
    },
    {
     "name": "stdout",
     "output_type": "stream",
     "text": [
      "1720:\tlearn: 0.7909949\ttest: 0.7806512\tbest: 0.7809062 (1672)\ttotal: 10m 32s\tremaining: 20m 4s\n"
     ]
    },
    {
     "name": "stdout",
     "output_type": "stream",
     "text": [
      "1740:\tlearn: 0.7910342\ttest: 0.7808006\tbest: 0.7809062 (1672)\ttotal: 10m 39s\tremaining: 19m 57s\n"
     ]
    },
    {
     "name": "stdout",
     "output_type": "stream",
     "text": [
      "1760:\tlearn: 0.7912716\ttest: 0.7809693\tbest: 0.7810713 (1757)\ttotal: 10m 46s\tremaining: 19m 49s\n"
     ]
    },
    {
     "name": "stdout",
     "output_type": "stream",
     "text": [
      "1780:\tlearn: 0.7913482\ttest: 0.7809919\tbest: 0.7810713 (1757)\ttotal: 10m 54s\tremaining: 19m 42s\n"
     ]
    },
    {
     "name": "stdout",
     "output_type": "stream",
     "text": [
      "1800:\tlearn: 0.7915000\ttest: 0.7807174\tbest: 0.7810713 (1757)\ttotal: 11m 1s\tremaining: 19m 34s\n"
     ]
    },
    {
     "name": "stdout",
     "output_type": "stream",
     "text": [
      "1820:\tlearn: 0.7917026\ttest: 0.7810127\tbest: 0.7810911 (1814)\ttotal: 11m 8s\tremaining: 19m 27s\n"
     ]
    },
    {
     "name": "stdout",
     "output_type": "stream",
     "text": [
      "1840:\tlearn: 0.7918306\ttest: 0.7809714\tbest: 0.7811696 (1828)\ttotal: 11m 15s\tremaining: 19m 19s\n"
     ]
    },
    {
     "name": "stdout",
     "output_type": "stream",
     "text": [
      "1860:\tlearn: 0.7919634\ttest: 0.7808896\tbest: 0.7811696 (1828)\ttotal: 11m 23s\tremaining: 19m 12s\n"
     ]
    },
    {
     "name": "stdout",
     "output_type": "stream",
     "text": [
      "1880:\tlearn: 0.7921401\ttest: 0.7809953\tbest: 0.7811696 (1828)\ttotal: 11m 30s\tremaining: 19m 4s\n"
     ]
    },
    {
     "name": "stdout",
     "output_type": "stream",
     "text": [
      "1900:\tlearn: 0.7923749\ttest: 0.7814575\tbest: 0.7815397 (1898)\ttotal: 11m 37s\tremaining: 18m 57s\n"
     ]
    },
    {
     "name": "stdout",
     "output_type": "stream",
     "text": [
      "1920:\tlearn: 0.7923347\ttest: 0.7814124\tbest: 0.7815397 (1898)\ttotal: 11m 45s\tremaining: 18m 50s\n"
     ]
    },
    {
     "name": "stdout",
     "output_type": "stream",
     "text": [
      "1940:\tlearn: 0.7924796\ttest: 0.7815998\tbest: 0.7816203 (1939)\ttotal: 11m 52s\tremaining: 18m 43s\n"
     ]
    },
    {
     "name": "stdout",
     "output_type": "stream",
     "text": [
      "1960:\tlearn: 0.7925425\ttest: 0.7815328\tbest: 0.7816498 (1948)\ttotal: 11m 59s\tremaining: 18m 35s\n"
     ]
    },
    {
     "name": "stdout",
     "output_type": "stream",
     "text": [
      "1980:\tlearn: 0.7926850\ttest: 0.7815711\tbest: 0.7816498 (1948)\ttotal: 12m 7s\tremaining: 18m 28s\n"
     ]
    },
    {
     "name": "stdout",
     "output_type": "stream",
     "text": [
      "2000:\tlearn: 0.7927516\ttest: 0.7816963\tbest: 0.7818144 (1994)\ttotal: 12m 14s\tremaining: 18m 20s\n"
     ]
    },
    {
     "name": "stdout",
     "output_type": "stream",
     "text": [
      "2020:\tlearn: 0.7928477\ttest: 0.7818406\tbest: 0.7818406 (2020)\ttotal: 12m 21s\tremaining: 18m 12s\n"
     ]
    },
    {
     "name": "stdout",
     "output_type": "stream",
     "text": [
      "2040:\tlearn: 0.7930766\ttest: 0.7821543\tbest: 0.7821543 (2040)\ttotal: 12m 28s\tremaining: 18m 5s\n"
     ]
    },
    {
     "name": "stdout",
     "output_type": "stream",
     "text": [
      "2060:\tlearn: 0.7931135\ttest: 0.7822783\tbest: 0.7822783 (2060)\ttotal: 12m 36s\tremaining: 17m 58s\n"
     ]
    },
    {
     "name": "stdout",
     "output_type": "stream",
     "text": [
      "2080:\tlearn: 0.7932137\ttest: 0.7819990\tbest: 0.7823224 (2063)\ttotal: 12m 43s\tremaining: 17m 50s\n"
     ]
    },
    {
     "name": "stdout",
     "output_type": "stream",
     "text": [
      "2100:\tlearn: 0.7934445\ttest: 0.7821603\tbest: 0.7823224 (2063)\ttotal: 12m 50s\tremaining: 17m 43s\n"
     ]
    },
    {
     "name": "stdout",
     "output_type": "stream",
     "text": [
      "2120:\tlearn: 0.7936383\ttest: 0.7822238\tbest: 0.7823987 (2109)\ttotal: 12m 58s\tremaining: 17m 36s\n"
     ]
    },
    {
     "name": "stdout",
     "output_type": "stream",
     "text": [
      "2140:\tlearn: 0.7937390\ttest: 0.7822596\tbest: 0.7823987 (2109)\ttotal: 13m 5s\tremaining: 17m 29s\n"
     ]
    },
    {
     "name": "stdout",
     "output_type": "stream",
     "text": [
      "2160:\tlearn: 0.7937762\ttest: 0.7822981\tbest: 0.7823987 (2109)\ttotal: 13m 13s\tremaining: 17m 21s\n"
     ]
    },
    {
     "name": "stdout",
     "output_type": "stream",
     "text": [
      "2180:\tlearn: 0.7938957\ttest: 0.7823356\tbest: 0.7823987 (2109)\ttotal: 13m 20s\tremaining: 17m 14s\n"
     ]
    },
    {
     "name": "stdout",
     "output_type": "stream",
     "text": [
      "2200:\tlearn: 0.7939854\ttest: 0.7825847\tbest: 0.7825847 (2200)\ttotal: 13m 27s\tremaining: 17m 7s\n"
     ]
    },
    {
     "name": "stdout",
     "output_type": "stream",
     "text": [
      "2220:\tlearn: 0.7940941\ttest: 0.7825800\tbest: 0.7825995 (2219)\ttotal: 13m 35s\tremaining: 16m 59s\n"
     ]
    },
    {
     "name": "stdout",
     "output_type": "stream",
     "text": [
      "2240:\tlearn: 0.7941324\ttest: 0.7826756\tbest: 0.7826756 (2240)\ttotal: 13m 41s\tremaining: 16m 51s\n"
     ]
    },
    {
     "name": "stdout",
     "output_type": "stream",
     "text": [
      "2260:\tlearn: 0.7942144\ttest: 0.7827523\tbest: 0.7827523 (2260)\ttotal: 13m 49s\tremaining: 16m 44s\n"
     ]
    },
    {
     "name": "stdout",
     "output_type": "stream",
     "text": [
      "2280:\tlearn: 0.7943070\ttest: 0.7827242\tbest: 0.7827769 (2265)\ttotal: 13m 56s\tremaining: 16m 37s\n"
     ]
    },
    {
     "name": "stdout",
     "output_type": "stream",
     "text": [
      "2300:\tlearn: 0.7944359\ttest: 0.7827605\tbest: 0.7828012 (2297)\ttotal: 14m 3s\tremaining: 16m 29s\n"
     ]
    },
    {
     "name": "stdout",
     "output_type": "stream",
     "text": [
      "2320:\tlearn: 0.7945865\ttest: 0.7826479\tbest: 0.7828012 (2297)\ttotal: 14m 11s\tremaining: 16m 22s\n"
     ]
    },
    {
     "name": "stdout",
     "output_type": "stream",
     "text": [
      "2340:\tlearn: 0.7947040\ttest: 0.7828056\tbest: 0.7828056 (2340)\ttotal: 14m 18s\tremaining: 16m 15s\n"
     ]
    },
    {
     "name": "stdout",
     "output_type": "stream",
     "text": [
      "2360:\tlearn: 0.7948016\ttest: 0.7828617\tbest: 0.7828617 (2360)\ttotal: 14m 26s\tremaining: 16m 7s\n"
     ]
    },
    {
     "name": "stdout",
     "output_type": "stream",
     "text": [
      "2380:\tlearn: 0.7948734\ttest: 0.7827713\tbest: 0.7828617 (2360)\ttotal: 14m 33s\tremaining: 16m\n"
     ]
    },
    {
     "name": "stdout",
     "output_type": "stream",
     "text": [
      "2400:\tlearn: 0.7950273\ttest: 0.7825931\tbest: 0.7828617 (2360)\ttotal: 14m 40s\tremaining: 15m 53s\n"
     ]
    },
    {
     "name": "stdout",
     "output_type": "stream",
     "text": [
      "2420:\tlearn: 0.7951256\ttest: 0.7828606\tbest: 0.7828617 (2360)\ttotal: 14m 48s\tremaining: 15m 46s\n"
     ]
    },
    {
     "name": "stdout",
     "output_type": "stream",
     "text": [
      "2440:\tlearn: 0.7951747\ttest: 0.7829587\tbest: 0.7829587 (2440)\ttotal: 14m 55s\tremaining: 15m 38s\n"
     ]
    },
    {
     "name": "stdout",
     "output_type": "stream",
     "text": [
      "2460:\tlearn: 0.7952342\ttest: 0.7829324\tbest: 0.7829809 (2442)\ttotal: 15m 2s\tremaining: 15m 31s\n"
     ]
    },
    {
     "name": "stdout",
     "output_type": "stream",
     "text": [
      "2480:\tlearn: 0.7952778\ttest: 0.7831340\tbest: 0.7831340 (2480)\ttotal: 15m 10s\tremaining: 15m 23s\n"
     ]
    },
    {
     "name": "stdout",
     "output_type": "stream",
     "text": [
      "2500:\tlearn: 0.7952670\ttest: 0.7831266\tbest: 0.7831776 (2482)\ttotal: 15m 17s\tremaining: 15m 16s\n"
     ]
    },
    {
     "name": "stdout",
     "output_type": "stream",
     "text": [
      "2520:\tlearn: 0.7953196\ttest: 0.7832435\tbest: 0.7833267 (2518)\ttotal: 15m 24s\tremaining: 15m 9s\n"
     ]
    },
    {
     "name": "stdout",
     "output_type": "stream",
     "text": [
      "2540:\tlearn: 0.7954403\ttest: 0.7832997\tbest: 0.7833575 (2533)\ttotal: 15m 31s\tremaining: 15m 1s\n"
     ]
    },
    {
     "name": "stdout",
     "output_type": "stream",
     "text": [
      "2560:\tlearn: 0.7953615\ttest: 0.7832052\tbest: 0.7833735 (2558)\ttotal: 15m 38s\tremaining: 14m 54s\n"
     ]
    },
    {
     "name": "stdout",
     "output_type": "stream",
     "text": [
      "2580:\tlearn: 0.7954951\ttest: 0.7831542\tbest: 0.7833735 (2558)\ttotal: 15m 45s\tremaining: 14m 46s\n"
     ]
    },
    {
     "name": "stdout",
     "output_type": "stream",
     "text": [
      "2600:\tlearn: 0.7955395\ttest: 0.7832293\tbest: 0.7833735 (2558)\ttotal: 15m 53s\tremaining: 14m 39s\n"
     ]
    },
    {
     "name": "stdout",
     "output_type": "stream",
     "text": [
      "2620:\tlearn: 0.7957196\ttest: 0.7832201\tbest: 0.7833735 (2558)\ttotal: 16m\tremaining: 14m 31s\n"
     ]
    },
    {
     "name": "stdout",
     "output_type": "stream",
     "text": [
      "2640:\tlearn: 0.7958519\ttest: 0.7831467\tbest: 0.7833735 (2558)\ttotal: 16m 7s\tremaining: 14m 24s\n"
     ]
    },
    {
     "name": "stdout",
     "output_type": "stream",
     "text": [
      "2660:\tlearn: 0.7960200\ttest: 0.7832630\tbest: 0.7834288 (2653)\ttotal: 16m 15s\tremaining: 14m 17s\n"
     ]
    },
    {
     "name": "stdout",
     "output_type": "stream",
     "text": [
      "2680:\tlearn: 0.7961531\ttest: 0.7833380\tbest: 0.7834288 (2653)\ttotal: 16m 22s\tremaining: 14m 9s\n"
     ]
    },
    {
     "name": "stdout",
     "output_type": "stream",
     "text": [
      "2700:\tlearn: 0.7962940\ttest: 0.7833694\tbest: 0.7834712 (2694)\ttotal: 16m 29s\tremaining: 14m 2s\n"
     ]
    },
    {
     "name": "stdout",
     "output_type": "stream",
     "text": [
      "2720:\tlearn: 0.7963222\ttest: 0.7834024\tbest: 0.7834712 (2694)\ttotal: 16m 36s\tremaining: 13m 54s\n"
     ]
    },
    {
     "name": "stdout",
     "output_type": "stream",
     "text": [
      "2740:\tlearn: 0.7964273\ttest: 0.7834562\tbest: 0.7836014 (2734)\ttotal: 16m 43s\tremaining: 13m 47s\n"
     ]
    },
    {
     "name": "stdout",
     "output_type": "stream",
     "text": [
      "2760:\tlearn: 0.7965638\ttest: 0.7837205\tbest: 0.7837205 (2760)\ttotal: 16m 51s\tremaining: 13m 39s\n"
     ]
    },
    {
     "name": "stdout",
     "output_type": "stream",
     "text": [
      "2780:\tlearn: 0.7966848\ttest: 0.7836890\tbest: 0.7837308 (2779)\ttotal: 16m 58s\tremaining: 13m 32s\n"
     ]
    },
    {
     "name": "stdout",
     "output_type": "stream",
     "text": [
      "2800:\tlearn: 0.7967006\ttest: 0.7838058\tbest: 0.7839059 (2792)\ttotal: 17m 5s\tremaining: 13m 25s\n"
     ]
    },
    {
     "name": "stdout",
     "output_type": "stream",
     "text": [
      "2820:\tlearn: 0.7968491\ttest: 0.7838598\tbest: 0.7839059 (2792)\ttotal: 17m 12s\tremaining: 13m 17s\n"
     ]
    },
    {
     "name": "stdout",
     "output_type": "stream",
     "text": [
      "2840:\tlearn: 0.7969524\ttest: 0.7839545\tbest: 0.7839545 (2840)\ttotal: 17m 20s\tremaining: 13m 10s\n"
     ]
    },
    {
     "name": "stdout",
     "output_type": "stream",
     "text": [
      "2860:\tlearn: 0.7971221\ttest: 0.7838591\tbest: 0.7839790 (2845)\ttotal: 17m 27s\tremaining: 13m 3s\n"
     ]
    },
    {
     "name": "stdout",
     "output_type": "stream",
     "text": [
      "2880:\tlearn: 0.7972257\ttest: 0.7839729\tbest: 0.7839790 (2845)\ttotal: 17m 34s\tremaining: 12m 55s\n"
     ]
    },
    {
     "name": "stdout",
     "output_type": "stream",
     "text": [
      "2900:\tlearn: 0.7972234\ttest: 0.7840860\tbest: 0.7841482 (2897)\ttotal: 17m 41s\tremaining: 12m 48s\n"
     ]
    },
    {
     "name": "stdout",
     "output_type": "stream",
     "text": [
      "2920:\tlearn: 0.7972934\ttest: 0.7840082\tbest: 0.7841482 (2897)\ttotal: 17m 49s\tremaining: 12m 41s\n"
     ]
    },
    {
     "name": "stdout",
     "output_type": "stream",
     "text": [
      "2940:\tlearn: 0.7974033\ttest: 0.7837650\tbest: 0.7841482 (2897)\ttotal: 17m 56s\tremaining: 12m 33s\n"
     ]
    },
    {
     "name": "stdout",
     "output_type": "stream",
     "text": [
      "2960:\tlearn: 0.7975173\ttest: 0.7837771\tbest: 0.7841482 (2897)\ttotal: 18m 3s\tremaining: 12m 26s\n"
     ]
    },
    {
     "name": "stdout",
     "output_type": "stream",
     "text": [
      "2980:\tlearn: 0.7976377\ttest: 0.7839561\tbest: 0.7841482 (2897)\ttotal: 18m 11s\tremaining: 12m 19s\n"
     ]
    },
    {
     "name": "stdout",
     "output_type": "stream",
     "text": [
      "3000:\tlearn: 0.7977344\ttest: 0.7841331\tbest: 0.7841727 (2995)\ttotal: 18m 18s\tremaining: 12m 11s\n"
     ]
    },
    {
     "name": "stdout",
     "output_type": "stream",
     "text": [
      "3020:\tlearn: 0.7977694\ttest: 0.7840368\tbest: 0.7841727 (2995)\ttotal: 18m 25s\tremaining: 12m 4s\n"
     ]
    },
    {
     "name": "stdout",
     "output_type": "stream",
     "text": [
      "3040:\tlearn: 0.7979094\ttest: 0.7838576\tbest: 0.7841727 (2995)\ttotal: 18m 33s\tremaining: 11m 57s\n"
     ]
    },
    {
     "name": "stdout",
     "output_type": "stream",
     "text": [
      "3060:\tlearn: 0.7980547\ttest: 0.7840148\tbest: 0.7841727 (2995)\ttotal: 18m 40s\tremaining: 11m 49s\n"
     ]
    },
    {
     "name": "stdout",
     "output_type": "stream",
     "text": [
      "3080:\tlearn: 0.7980591\ttest: 0.7840674\tbest: 0.7841727 (2995)\ttotal: 18m 47s\tremaining: 11m 42s\n"
     ]
    },
    {
     "name": "stdout",
     "output_type": "stream",
     "text": [
      "3100:\tlearn: 0.7981077\ttest: 0.7840736\tbest: 0.7841727 (2995)\ttotal: 18m 54s\tremaining: 11m 35s\n"
     ]
    },
    {
     "name": "stdout",
     "output_type": "stream",
     "text": [
      "3120:\tlearn: 0.7982186\ttest: 0.7838288\tbest: 0.7841727 (2995)\ttotal: 19m 2s\tremaining: 11m 27s\n"
     ]
    },
    {
     "name": "stdout",
     "output_type": "stream",
     "text": [
      "3140:\tlearn: 0.7983624\ttest: 0.7839846\tbest: 0.7841727 (2995)\ttotal: 19m 9s\tremaining: 11m 20s\n"
     ]
    },
    {
     "name": "stdout",
     "output_type": "stream",
     "text": [
      "3160:\tlearn: 0.7984067\ttest: 0.7839080\tbest: 0.7841727 (2995)\ttotal: 19m 16s\tremaining: 11m 12s\n"
     ]
    },
    {
     "name": "stdout",
     "output_type": "stream",
     "text": [
      "3180:\tlearn: 0.7984453\ttest: 0.7839991\tbest: 0.7841727 (2995)\ttotal: 19m 23s\tremaining: 11m 5s\n"
     ]
    },
    {
     "name": "stdout",
     "output_type": "stream",
     "text": [
      "3200:\tlearn: 0.7985416\ttest: 0.7840496\tbest: 0.7841727 (2995)\ttotal: 19m 30s\tremaining: 10m 57s\n"
     ]
    },
    {
     "name": "stdout",
     "output_type": "stream",
     "text": [
      "3220:\tlearn: 0.7985602\ttest: 0.7837854\tbest: 0.7841727 (2995)\ttotal: 19m 38s\tremaining: 10m 50s\n"
     ]
    },
    {
     "name": "stdout",
     "output_type": "stream",
     "text": [
      "3240:\tlearn: 0.7986403\ttest: 0.7840868\tbest: 0.7841727 (2995)\ttotal: 19m 45s\tremaining: 10m 43s\n"
     ]
    },
    {
     "name": "stdout",
     "output_type": "stream",
     "text": [
      "3260:\tlearn: 0.7987058\ttest: 0.7839477\tbest: 0.7841727 (2995)\ttotal: 19m 52s\tremaining: 10m 35s\n"
     ]
    },
    {
     "name": "stdout",
     "output_type": "stream",
     "text": [
      "3280:\tlearn: 0.7988712\ttest: 0.7839145\tbest: 0.7841727 (2995)\ttotal: 19m 59s\tremaining: 10m 28s\n"
     ]
    },
    {
     "name": "stdout",
     "output_type": "stream",
     "text": [
      "Stopped by overfitting detector  (300 iterations wait)\n",
      "\n",
      "bestTest = 0.7841726938\n",
      "bestIteration = 2995\n",
      "\n",
      "Shrink model to first 2996 iterations.\n"
     ]
    },
    {
     "name": "stdout",
     "output_type": "stream",
     "text": [
      "######################################## training model 5/5 ########################################\n"
     ]
    },
    {
     "name": "stdout",
     "output_type": "stream",
     "text": [
      "0:\tlearn: 0.6613710\ttest: 0.6681280\tbest: 0.6681280 (0)\ttotal: 699ms\tremaining: 58m 12s\n"
     ]
    },
    {
     "name": "stdout",
     "output_type": "stream",
     "text": [
      "20:\tlearn: 0.7310386\ttest: 0.7370500\tbest: 0.7370500 (20)\ttotal: 7.71s\tremaining: 30m 27s\n"
     ]
    },
    {
     "name": "stdout",
     "output_type": "stream",
     "text": [
      "40:\tlearn: 0.7356573\ttest: 0.7412826\tbest: 0.7416305 (35)\ttotal: 14.8s\tremaining: 29m 53s\n"
     ]
    },
    {
     "name": "stdout",
     "output_type": "stream",
     "text": [
      "60:\tlearn: 0.7396511\ttest: 0.7451560\tbest: 0.7451560 (60)\ttotal: 22.1s\tremaining: 29m 53s\n"
     ]
    },
    {
     "name": "stdout",
     "output_type": "stream",
     "text": [
      "80:\tlearn: 0.7432533\ttest: 0.7489563\tbest: 0.7489563 (80)\ttotal: 29.8s\tremaining: 30m 9s\n"
     ]
    },
    {
     "name": "stdout",
     "output_type": "stream",
     "text": [
      "100:\tlearn: 0.7464847\ttest: 0.7519183\tbest: 0.7519221 (97)\ttotal: 36.9s\tremaining: 29m 48s\n"
     ]
    },
    {
     "name": "stdout",
     "output_type": "stream",
     "text": [
      "120:\tlearn: 0.7490256\ttest: 0.7547203\tbest: 0.7549370 (119)\ttotal: 44.3s\tremaining: 29m 44s\n"
     ]
    },
    {
     "name": "stdout",
     "output_type": "stream",
     "text": [
      "140:\tlearn: 0.7515258\ttest: 0.7566958\tbest: 0.7568621 (139)\ttotal: 51.6s\tremaining: 29m 36s\n"
     ]
    },
    {
     "name": "stdout",
     "output_type": "stream",
     "text": [
      "160:\tlearn: 0.7540627\ttest: 0.7591965\tbest: 0.7591965 (160)\ttotal: 58.9s\tremaining: 29m 29s\n"
     ]
    },
    {
     "name": "stdout",
     "output_type": "stream",
     "text": [
      "180:\tlearn: 0.7564440\ttest: 0.7615315\tbest: 0.7617943 (179)\ttotal: 1m 6s\tremaining: 29m 22s\n"
     ]
    },
    {
     "name": "stdout",
     "output_type": "stream",
     "text": [
      "200:\tlearn: 0.7582888\ttest: 0.7636881\tbest: 0.7636881 (200)\ttotal: 1m 13s\tremaining: 29m 18s\n"
     ]
    },
    {
     "name": "stdout",
     "output_type": "stream",
     "text": [
      "220:\tlearn: 0.7596225\ttest: 0.7659191\tbest: 0.7659191 (220)\ttotal: 1m 20s\tremaining: 29m 10s\n"
     ]
    },
    {
     "name": "stdout",
     "output_type": "stream",
     "text": [
      "240:\tlearn: 0.7610873\ttest: 0.7672188\tbest: 0.7673296 (238)\ttotal: 1m 28s\tremaining: 29m 3s\n"
     ]
    },
    {
     "name": "stdout",
     "output_type": "stream",
     "text": [
      "260:\tlearn: 0.7621005\ttest: 0.7682075\tbest: 0.7682155 (252)\ttotal: 1m 35s\tremaining: 28m 54s\n"
     ]
    },
    {
     "name": "stdout",
     "output_type": "stream",
     "text": [
      "280:\tlearn: 0.7631493\ttest: 0.7689211\tbest: 0.7690801 (279)\ttotal: 1m 42s\tremaining: 28m 47s\n"
     ]
    },
    {
     "name": "stdout",
     "output_type": "stream",
     "text": [
      "300:\tlearn: 0.7643738\ttest: 0.7704777\tbest: 0.7705750 (298)\ttotal: 1m 50s\tremaining: 28m 41s\n"
     ]
    },
    {
     "name": "stdout",
     "output_type": "stream",
     "text": [
      "320:\tlearn: 0.7651424\ttest: 0.7712178\tbest: 0.7712178 (320)\ttotal: 1m 57s\tremaining: 28m 33s\n"
     ]
    },
    {
     "name": "stdout",
     "output_type": "stream",
     "text": [
      "340:\tlearn: 0.7662227\ttest: 0.7718390\tbest: 0.7720792 (339)\ttotal: 2m 4s\tremaining: 28m 22s\n"
     ]
    },
    {
     "name": "stdout",
     "output_type": "stream",
     "text": [
      "360:\tlearn: 0.7670177\ttest: 0.7730919\tbest: 0.7731881 (359)\ttotal: 2m 11s\tremaining: 28m 14s\n"
     ]
    },
    {
     "name": "stdout",
     "output_type": "stream",
     "text": [
      "380:\tlearn: 0.7678196\ttest: 0.7738251\tbest: 0.7739642 (377)\ttotal: 2m 18s\tremaining: 28m 3s\n"
     ]
    },
    {
     "name": "stdout",
     "output_type": "stream",
     "text": [
      "400:\tlearn: 0.7687515\ttest: 0.7747924\tbest: 0.7748938 (395)\ttotal: 2m 26s\tremaining: 27m 57s\n"
     ]
    },
    {
     "name": "stdout",
     "output_type": "stream",
     "text": [
      "420:\tlearn: 0.7694253\ttest: 0.7755361\tbest: 0.7755361 (420)\ttotal: 2m 33s\tremaining: 27m 52s\n"
     ]
    },
    {
     "name": "stdout",
     "output_type": "stream",
     "text": [
      "440:\tlearn: 0.7700294\ttest: 0.7763435\tbest: 0.7763503 (432)\ttotal: 2m 41s\tremaining: 27m 44s\n"
     ]
    },
    {
     "name": "stdout",
     "output_type": "stream",
     "text": [
      "460:\tlearn: 0.7705448\ttest: 0.7769481\tbest: 0.7770470 (456)\ttotal: 2m 48s\tremaining: 27m 39s\n"
     ]
    },
    {
     "name": "stdout",
     "output_type": "stream",
     "text": [
      "480:\tlearn: 0.7710377\ttest: 0.7772166\tbest: 0.7773793 (479)\ttotal: 2m 55s\tremaining: 27m 32s\n"
     ]
    },
    {
     "name": "stdout",
     "output_type": "stream",
     "text": [
      "500:\tlearn: 0.7716393\ttest: 0.7776198\tbest: 0.7777513 (497)\ttotal: 3m 3s\tremaining: 27m 24s\n"
     ]
    },
    {
     "name": "stdout",
     "output_type": "stream",
     "text": [
      "520:\tlearn: 0.7721674\ttest: 0.7778865\tbest: 0.7779505 (516)\ttotal: 3m 10s\tremaining: 27m 16s\n"
     ]
    },
    {
     "name": "stdout",
     "output_type": "stream",
     "text": [
      "540:\tlearn: 0.7725866\ttest: 0.7782753\tbest: 0.7784087 (538)\ttotal: 3m 17s\tremaining: 27m 11s\n"
     ]
    },
    {
     "name": "stdout",
     "output_type": "stream",
     "text": [
      "560:\tlearn: 0.7731709\ttest: 0.7786616\tbest: 0.7786918 (554)\ttotal: 3m 25s\tremaining: 27m 5s\n"
     ]
    },
    {
     "name": "stdout",
     "output_type": "stream",
     "text": [
      "580:\tlearn: 0.7738641\ttest: 0.7791152\tbest: 0.7791733 (579)\ttotal: 3m 32s\tremaining: 26m 55s\n"
     ]
    },
    {
     "name": "stdout",
     "output_type": "stream",
     "text": [
      "600:\tlearn: 0.7742899\ttest: 0.7795972\tbest: 0.7795972 (600)\ttotal: 3m 39s\tremaining: 26m 47s\n"
     ]
    },
    {
     "name": "stdout",
     "output_type": "stream",
     "text": [
      "620:\tlearn: 0.7747314\ttest: 0.7799289\tbest: 0.7800075 (619)\ttotal: 3m 46s\tremaining: 26m 39s\n"
     ]
    },
    {
     "name": "stdout",
     "output_type": "stream",
     "text": [
      "640:\tlearn: 0.7750830\ttest: 0.7800397\tbest: 0.7802369 (632)\ttotal: 3m 54s\tremaining: 26m 32s\n"
     ]
    },
    {
     "name": "stdout",
     "output_type": "stream",
     "text": [
      "660:\tlearn: 0.7754413\ttest: 0.7799416\tbest: 0.7802369 (632)\ttotal: 4m 1s\tremaining: 26m 25s\n"
     ]
    },
    {
     "name": "stdout",
     "output_type": "stream",
     "text": [
      "680:\tlearn: 0.7758193\ttest: 0.7805150\tbest: 0.7805534 (679)\ttotal: 4m 8s\tremaining: 26m 17s\n"
     ]
    },
    {
     "name": "stdout",
     "output_type": "stream",
     "text": [
      "700:\tlearn: 0.7762785\ttest: 0.7807158\tbest: 0.7808560 (694)\ttotal: 4m 15s\tremaining: 26m 9s\n"
     ]
    },
    {
     "name": "stdout",
     "output_type": "stream",
     "text": [
      "720:\tlearn: 0.7765832\ttest: 0.7810748\tbest: 0.7810868 (718)\ttotal: 4m 23s\tremaining: 26m 2s\n"
     ]
    },
    {
     "name": "stdout",
     "output_type": "stream",
     "text": [
      "740:\tlearn: 0.7769701\ttest: 0.7814615\tbest: 0.7814770 (739)\ttotal: 4m 30s\tremaining: 25m 55s\n"
     ]
    },
    {
     "name": "stdout",
     "output_type": "stream",
     "text": [
      "760:\tlearn: 0.7772939\ttest: 0.7816568\tbest: 0.7816568 (760)\ttotal: 4m 37s\tremaining: 25m 47s\n"
     ]
    },
    {
     "name": "stdout",
     "output_type": "stream",
     "text": [
      "780:\tlearn: 0.7777417\ttest: 0.7816772\tbest: 0.7818497 (776)\ttotal: 4m 45s\tremaining: 25m 40s\n"
     ]
    },
    {
     "name": "stdout",
     "output_type": "stream",
     "text": [
      "800:\tlearn: 0.7780548\ttest: 0.7819361\tbest: 0.7819947 (799)\ttotal: 4m 52s\tremaining: 25m 33s\n"
     ]
    },
    {
     "name": "stdout",
     "output_type": "stream",
     "text": [
      "820:\tlearn: 0.7785038\ttest: 0.7824672\tbest: 0.7825458 (818)\ttotal: 4m 59s\tremaining: 25m 26s\n"
     ]
    },
    {
     "name": "stdout",
     "output_type": "stream",
     "text": [
      "840:\tlearn: 0.7787847\ttest: 0.7827375\tbest: 0.7827375 (840)\ttotal: 5m 7s\tremaining: 25m 19s\n"
     ]
    },
    {
     "name": "stdout",
     "output_type": "stream",
     "text": [
      "860:\tlearn: 0.7792044\ttest: 0.7832205\tbest: 0.7832518 (857)\ttotal: 5m 14s\tremaining: 25m 12s\n"
     ]
    },
    {
     "name": "stdout",
     "output_type": "stream",
     "text": [
      "880:\tlearn: 0.7795302\ttest: 0.7836344\tbest: 0.7836344 (880)\ttotal: 5m 21s\tremaining: 25m 4s\n"
     ]
    },
    {
     "name": "stdout",
     "output_type": "stream",
     "text": [
      "900:\tlearn: 0.7798260\ttest: 0.7836948\tbest: 0.7838820 (899)\ttotal: 5m 29s\tremaining: 24m 57s\n"
     ]
    },
    {
     "name": "stdout",
     "output_type": "stream",
     "text": [
      "920:\tlearn: 0.7801637\ttest: 0.7838987\tbest: 0.7838987 (920)\ttotal: 5m 36s\tremaining: 24m 49s\n"
     ]
    },
    {
     "name": "stdout",
     "output_type": "stream",
     "text": [
      "940:\tlearn: 0.7803097\ttest: 0.7840955\tbest: 0.7840955 (940)\ttotal: 5m 43s\tremaining: 24m 43s\n"
     ]
    },
    {
     "name": "stdout",
     "output_type": "stream",
     "text": [
      "960:\tlearn: 0.7806860\ttest: 0.7840264\tbest: 0.7842005 (947)\ttotal: 5m 51s\tremaining: 24m 36s\n"
     ]
    },
    {
     "name": "stdout",
     "output_type": "stream",
     "text": [
      "980:\tlearn: 0.7810654\ttest: 0.7845190\tbest: 0.7845983 (979)\ttotal: 5m 58s\tremaining: 24m 29s\n"
     ]
    },
    {
     "name": "stdout",
     "output_type": "stream",
     "text": [
      "1000:\tlearn: 0.7814450\ttest: 0.7845896\tbest: 0.7846449 (989)\ttotal: 6m 6s\tremaining: 24m 22s\n"
     ]
    },
    {
     "name": "stdout",
     "output_type": "stream",
     "text": [
      "1020:\tlearn: 0.7816557\ttest: 0.7846368\tbest: 0.7846691 (1015)\ttotal: 6m 13s\tremaining: 24m 14s\n"
     ]
    },
    {
     "name": "stdout",
     "output_type": "stream",
     "text": [
      "1040:\tlearn: 0.7819596\ttest: 0.7848109\tbest: 0.7848109 (1040)\ttotal: 6m 20s\tremaining: 24m 6s\n"
     ]
    },
    {
     "name": "stdout",
     "output_type": "stream",
     "text": [
      "1060:\tlearn: 0.7822297\ttest: 0.7851030\tbest: 0.7851609 (1047)\ttotal: 6m 27s\tremaining: 23m 59s\n"
     ]
    },
    {
     "name": "stdout",
     "output_type": "stream",
     "text": [
      "1080:\tlearn: 0.7826360\ttest: 0.7854854\tbest: 0.7855185 (1076)\ttotal: 6m 35s\tremaining: 23m 52s\n"
     ]
    },
    {
     "name": "stdout",
     "output_type": "stream",
     "text": [
      "1100:\tlearn: 0.7828421\ttest: 0.7855302\tbest: 0.7855302 (1100)\ttotal: 6m 42s\tremaining: 23m 44s\n"
     ]
    },
    {
     "name": "stdout",
     "output_type": "stream",
     "text": [
      "1120:\tlearn: 0.7830946\ttest: 0.7855053\tbest: 0.7857270 (1115)\ttotal: 6m 49s\tremaining: 23m 37s\n"
     ]
    },
    {
     "name": "stdout",
     "output_type": "stream",
     "text": [
      "1140:\tlearn: 0.7833070\ttest: 0.7859489\tbest: 0.7859489 (1140)\ttotal: 6m 56s\tremaining: 23m 29s\n"
     ]
    },
    {
     "name": "stdout",
     "output_type": "stream",
     "text": [
      "1160:\tlearn: 0.7834926\ttest: 0.7864127\tbest: 0.7864127 (1160)\ttotal: 7m 3s\tremaining: 23m 21s\n"
     ]
    },
    {
     "name": "stdout",
     "output_type": "stream",
     "text": [
      "1180:\tlearn: 0.7837436\ttest: 0.7866852\tbest: 0.7866852 (1180)\ttotal: 7m 11s\tremaining: 23m 13s\n"
     ]
    },
    {
     "name": "stdout",
     "output_type": "stream",
     "text": [
      "1200:\tlearn: 0.7839484\ttest: 0.7867700\tbest: 0.7868522 (1190)\ttotal: 7m 18s\tremaining: 23m 6s\n"
     ]
    },
    {
     "name": "stdout",
     "output_type": "stream",
     "text": [
      "1220:\tlearn: 0.7842025\ttest: 0.7869558\tbest: 0.7869558 (1220)\ttotal: 7m 25s\tremaining: 22m 59s\n"
     ]
    },
    {
     "name": "stdout",
     "output_type": "stream",
     "text": [
      "1240:\tlearn: 0.7843225\ttest: 0.7873469\tbest: 0.7874087 (1239)\ttotal: 7m 32s\tremaining: 22m 51s\n"
     ]
    },
    {
     "name": "stdout",
     "output_type": "stream",
     "text": [
      "1260:\tlearn: 0.7845408\ttest: 0.7870041\tbest: 0.7874087 (1239)\ttotal: 7m 40s\tremaining: 22m 44s\n"
     ]
    },
    {
     "name": "stdout",
     "output_type": "stream",
     "text": [
      "1280:\tlearn: 0.7846997\ttest: 0.7873542\tbest: 0.7874304 (1276)\ttotal: 7m 47s\tremaining: 22m 37s\n"
     ]
    },
    {
     "name": "stdout",
     "output_type": "stream",
     "text": [
      "1300:\tlearn: 0.7848182\ttest: 0.7874320\tbest: 0.7874419 (1282)\ttotal: 7m 54s\tremaining: 22m 29s\n"
     ]
    },
    {
     "name": "stdout",
     "output_type": "stream",
     "text": [
      "1320:\tlearn: 0.7849418\ttest: 0.7879476\tbest: 0.7879476 (1320)\ttotal: 8m 2s\tremaining: 22m 23s\n"
     ]
    },
    {
     "name": "stdout",
     "output_type": "stream",
     "text": [
      "1340:\tlearn: 0.7850693\ttest: 0.7878160\tbest: 0.7880265 (1328)\ttotal: 8m 9s\tremaining: 22m 16s\n"
     ]
    },
    {
     "name": "stdout",
     "output_type": "stream",
     "text": [
      "1360:\tlearn: 0.7851711\ttest: 0.7883355\tbest: 0.7883486 (1355)\ttotal: 8m 16s\tremaining: 22m 8s\n"
     ]
    },
    {
     "name": "stdout",
     "output_type": "stream",
     "text": [
      "1380:\tlearn: 0.7853875\ttest: 0.7884931\tbest: 0.7885130 (1379)\ttotal: 8m 24s\tremaining: 22m 1s\n"
     ]
    },
    {
     "name": "stdout",
     "output_type": "stream",
     "text": [
      "1400:\tlearn: 0.7856422\ttest: 0.7885026\tbest: 0.7886380 (1392)\ttotal: 8m 31s\tremaining: 21m 53s\n"
     ]
    },
    {
     "name": "stdout",
     "output_type": "stream",
     "text": [
      "1420:\tlearn: 0.7858496\ttest: 0.7888280\tbest: 0.7888902 (1419)\ttotal: 8m 38s\tremaining: 21m 46s\n"
     ]
    },
    {
     "name": "stdout",
     "output_type": "stream",
     "text": [
      "1440:\tlearn: 0.7860721\ttest: 0.7889404\tbest: 0.7891558 (1428)\ttotal: 8m 46s\tremaining: 21m 39s\n"
     ]
    },
    {
     "name": "stdout",
     "output_type": "stream",
     "text": [
      "1460:\tlearn: 0.7861775\ttest: 0.7889110\tbest: 0.7891558 (1428)\ttotal: 8m 53s\tremaining: 21m 32s\n"
     ]
    },
    {
     "name": "stdout",
     "output_type": "stream",
     "text": [
      "1480:\tlearn: 0.7863220\ttest: 0.7890206\tbest: 0.7891558 (1428)\ttotal: 9m\tremaining: 21m 24s\n"
     ]
    },
    {
     "name": "stdout",
     "output_type": "stream",
     "text": [
      "1500:\tlearn: 0.7865700\ttest: 0.7892987\tbest: 0.7892987 (1500)\ttotal: 9m 8s\tremaining: 21m 17s\n"
     ]
    },
    {
     "name": "stdout",
     "output_type": "stream",
     "text": [
      "1520:\tlearn: 0.7868223\ttest: 0.7891383\tbest: 0.7893004 (1501)\ttotal: 9m 15s\tremaining: 21m 10s\n"
     ]
    },
    {
     "name": "stdout",
     "output_type": "stream",
     "text": [
      "1540:\tlearn: 0.7869283\ttest: 0.7891402\tbest: 0.7893473 (1537)\ttotal: 9m 22s\tremaining: 21m 2s\n"
     ]
    },
    {
     "name": "stdout",
     "output_type": "stream",
     "text": [
      "1560:\tlearn: 0.7872198\ttest: 0.7889115\tbest: 0.7893473 (1537)\ttotal: 9m 29s\tremaining: 20m 55s\n"
     ]
    },
    {
     "name": "stdout",
     "output_type": "stream",
     "text": [
      "1580:\tlearn: 0.7872998\ttest: 0.7891872\tbest: 0.7893473 (1537)\ttotal: 9m 37s\tremaining: 20m 48s\n"
     ]
    },
    {
     "name": "stdout",
     "output_type": "stream",
     "text": [
      "1600:\tlearn: 0.7877037\ttest: 0.7893604\tbest: 0.7894213 (1598)\ttotal: 9m 44s\tremaining: 20m 40s\n"
     ]
    },
    {
     "name": "stdout",
     "output_type": "stream",
     "text": [
      "1620:\tlearn: 0.7877577\ttest: 0.7895726\tbest: 0.7896340 (1618)\ttotal: 9m 51s\tremaining: 20m 33s\n"
     ]
    },
    {
     "name": "stdout",
     "output_type": "stream",
     "text": [
      "1640:\tlearn: 0.7878977\ttest: 0.7896823\tbest: 0.7896823 (1640)\ttotal: 9m 59s\tremaining: 20m 26s\n"
     ]
    },
    {
     "name": "stdout",
     "output_type": "stream",
     "text": [
      "1660:\tlearn: 0.7880408\ttest: 0.7897488\tbest: 0.7899782 (1658)\ttotal: 10m 6s\tremaining: 20m 18s\n"
     ]
    },
    {
     "name": "stdout",
     "output_type": "stream",
     "text": [
      "1680:\tlearn: 0.7882758\ttest: 0.7902985\tbest: 0.7903606 (1679)\ttotal: 10m 13s\tremaining: 20m 11s\n"
     ]
    },
    {
     "name": "stdout",
     "output_type": "stream",
     "text": [
      "1700:\tlearn: 0.7884656\ttest: 0.7905532\tbest: 0.7905731 (1699)\ttotal: 10m 20s\tremaining: 20m 4s\n"
     ]
    },
    {
     "name": "stdout",
     "output_type": "stream",
     "text": [
      "1720:\tlearn: 0.7885906\ttest: 0.7905522\tbest: 0.7906139 (1719)\ttotal: 10m 28s\tremaining: 19m 56s\n"
     ]
    },
    {
     "name": "stdout",
     "output_type": "stream",
     "text": [
      "1740:\tlearn: 0.7886822\ttest: 0.7908670\tbest: 0.7908834 (1735)\ttotal: 10m 35s\tremaining: 19m 49s\n"
     ]
    },
    {
     "name": "stdout",
     "output_type": "stream",
     "text": [
      "1760:\tlearn: 0.7890592\ttest: 0.7907824\tbest: 0.7909334 (1744)\ttotal: 10m 42s\tremaining: 19m 41s\n"
     ]
    },
    {
     "name": "stdout",
     "output_type": "stream",
     "text": [
      "1780:\tlearn: 0.7891961\ttest: 0.7910952\tbest: 0.7910952 (1780)\ttotal: 10m 49s\tremaining: 19m 34s\n"
     ]
    },
    {
     "name": "stdout",
     "output_type": "stream",
     "text": [
      "1800:\tlearn: 0.7892604\ttest: 0.7911146\tbest: 0.7913013 (1798)\ttotal: 10m 57s\tremaining: 19m 27s\n"
     ]
    },
    {
     "name": "stdout",
     "output_type": "stream",
     "text": [
      "1820:\tlearn: 0.7895394\ttest: 0.7911537\tbest: 0.7913013 (1798)\ttotal: 11m 4s\tremaining: 19m 20s\n"
     ]
    },
    {
     "name": "stdout",
     "output_type": "stream",
     "text": [
      "1840:\tlearn: 0.7895047\ttest: 0.7912566\tbest: 0.7913013 (1798)\ttotal: 11m 12s\tremaining: 19m 13s\n"
     ]
    },
    {
     "name": "stdout",
     "output_type": "stream",
     "text": [
      "1860:\tlearn: 0.7896111\ttest: 0.7913404\tbest: 0.7913764 (1853)\ttotal: 11m 19s\tremaining: 19m 5s\n"
     ]
    },
    {
     "name": "stdout",
     "output_type": "stream",
     "text": [
      "1880:\tlearn: 0.7897865\ttest: 0.7914003\tbest: 0.7914279 (1865)\ttotal: 11m 26s\tremaining: 18m 58s\n"
     ]
    },
    {
     "name": "stdout",
     "output_type": "stream",
     "text": [
      "1900:\tlearn: 0.7898463\ttest: 0.7914176\tbest: 0.7915591 (1895)\ttotal: 11m 34s\tremaining: 18m 51s\n"
     ]
    },
    {
     "name": "stdout",
     "output_type": "stream",
     "text": [
      "1920:\tlearn: 0.7899188\ttest: 0.7917936\tbest: 0.7917936 (1920)\ttotal: 11m 41s\tremaining: 18m 44s\n"
     ]
    },
    {
     "name": "stdout",
     "output_type": "stream",
     "text": [
      "1940:\tlearn: 0.7900878\ttest: 0.7917699\tbest: 0.7918905 (1935)\ttotal: 11m 48s\tremaining: 18m 36s\n"
     ]
    },
    {
     "name": "stdout",
     "output_type": "stream",
     "text": [
      "1960:\tlearn: 0.7900781\ttest: 0.7918044\tbest: 0.7919673 (1952)\ttotal: 11m 55s\tremaining: 18m 29s\n"
     ]
    },
    {
     "name": "stdout",
     "output_type": "stream",
     "text": [
      "1980:\tlearn: 0.7901535\ttest: 0.7919260\tbest: 0.7919673 (1952)\ttotal: 12m 3s\tremaining: 18m 22s\n"
     ]
    },
    {
     "name": "stdout",
     "output_type": "stream",
     "text": [
      "2000:\tlearn: 0.7903037\ttest: 0.7921305\tbest: 0.7922968 (1996)\ttotal: 12m 10s\tremaining: 18m 15s\n"
     ]
    },
    {
     "name": "stdout",
     "output_type": "stream",
     "text": [
      "2020:\tlearn: 0.7905002\ttest: 0.7921450\tbest: 0.7923427 (2003)\ttotal: 12m 17s\tremaining: 18m 7s\n"
     ]
    },
    {
     "name": "stdout",
     "output_type": "stream",
     "text": [
      "2040:\tlearn: 0.7906015\ttest: 0.7922464\tbest: 0.7923427 (2003)\ttotal: 12m 25s\tremaining: 18m\n"
     ]
    },
    {
     "name": "stdout",
     "output_type": "stream",
     "text": [
      "2060:\tlearn: 0.7906776\ttest: 0.7923247\tbest: 0.7924222 (2047)\ttotal: 12m 32s\tremaining: 17m 52s\n"
     ]
    },
    {
     "name": "stdout",
     "output_type": "stream",
     "text": [
      "2080:\tlearn: 0.7907335\ttest: 0.7923632\tbest: 0.7924222 (2047)\ttotal: 12m 39s\tremaining: 17m 45s\n"
     ]
    },
    {
     "name": "stdout",
     "output_type": "stream",
     "text": [
      "2100:\tlearn: 0.7909363\ttest: 0.7926514\tbest: 0.7926514 (2100)\ttotal: 12m 47s\tremaining: 17m 38s\n"
     ]
    },
    {
     "name": "stdout",
     "output_type": "stream",
     "text": [
      "2120:\tlearn: 0.7911273\ttest: 0.7924374\tbest: 0.7926514 (2100)\ttotal: 12m 54s\tremaining: 17m 30s\n"
     ]
    },
    {
     "name": "stdout",
     "output_type": "stream",
     "text": [
      "2140:\tlearn: 0.7912018\ttest: 0.7924126\tbest: 0.7926514 (2100)\ttotal: 13m 1s\tremaining: 17m 23s\n"
     ]
    },
    {
     "name": "stdout",
     "output_type": "stream",
     "text": [
      "2160:\tlearn: 0.7913500\ttest: 0.7925772\tbest: 0.7926514 (2100)\ttotal: 13m 8s\tremaining: 17m 16s\n"
     ]
    },
    {
     "name": "stdout",
     "output_type": "stream",
     "text": [
      "2180:\tlearn: 0.7913962\ttest: 0.7925674\tbest: 0.7926514 (2100)\ttotal: 13m 16s\tremaining: 17m 9s\n"
     ]
    },
    {
     "name": "stdout",
     "output_type": "stream",
     "text": [
      "2200:\tlearn: 0.7915793\ttest: 0.7923918\tbest: 0.7926514 (2100)\ttotal: 13m 23s\tremaining: 17m 1s\n"
     ]
    },
    {
     "name": "stdout",
     "output_type": "stream",
     "text": [
      "2220:\tlearn: 0.7917032\ttest: 0.7926978\tbest: 0.7926978 (2220)\ttotal: 13m 30s\tremaining: 16m 54s\n"
     ]
    },
    {
     "name": "stdout",
     "output_type": "stream",
     "text": [
      "2240:\tlearn: 0.7917607\ttest: 0.7927542\tbest: 0.7927542 (2240)\ttotal: 13m 37s\tremaining: 16m 46s\n"
     ]
    },
    {
     "name": "stdout",
     "output_type": "stream",
     "text": [
      "2260:\tlearn: 0.7919759\ttest: 0.7928715\tbest: 0.7929547 (2256)\ttotal: 13m 45s\tremaining: 16m 39s\n"
     ]
    },
    {
     "name": "stdout",
     "output_type": "stream",
     "text": [
      "2280:\tlearn: 0.7921401\ttest: 0.7927956\tbest: 0.7929547 (2256)\ttotal: 13m 52s\tremaining: 16m 32s\n"
     ]
    },
    {
     "name": "stdout",
     "output_type": "stream",
     "text": [
      "2300:\tlearn: 0.7922383\ttest: 0.7930612\tbest: 0.7931026 (2297)\ttotal: 13m 59s\tremaining: 16m 24s\n"
     ]
    },
    {
     "name": "stdout",
     "output_type": "stream",
     "text": [
      "2320:\tlearn: 0.7925344\ttest: 0.7929286\tbest: 0.7931066 (2305)\ttotal: 14m 6s\tremaining: 16m 17s\n"
     ]
    },
    {
     "name": "stdout",
     "output_type": "stream",
     "text": [
      "2340:\tlearn: 0.7925807\ttest: 0.7928371\tbest: 0.7931066 (2305)\ttotal: 14m 14s\tremaining: 16m 10s\n"
     ]
    },
    {
     "name": "stdout",
     "output_type": "stream",
     "text": [
      "2360:\tlearn: 0.7927229\ttest: 0.7929356\tbest: 0.7931066 (2305)\ttotal: 14m 21s\tremaining: 16m 2s\n"
     ]
    },
    {
     "name": "stdout",
     "output_type": "stream",
     "text": [
      "2380:\tlearn: 0.7928822\ttest: 0.7927357\tbest: 0.7931066 (2305)\ttotal: 14m 28s\tremaining: 15m 55s\n"
     ]
    },
    {
     "name": "stdout",
     "output_type": "stream",
     "text": [
      "2400:\tlearn: 0.7929623\ttest: 0.7928293\tbest: 0.7931066 (2305)\ttotal: 14m 35s\tremaining: 15m 47s\n"
     ]
    },
    {
     "name": "stdout",
     "output_type": "stream",
     "text": [
      "2420:\tlearn: 0.7930322\ttest: 0.7925860\tbest: 0.7931066 (2305)\ttotal: 14m 43s\tremaining: 15m 40s\n"
     ]
    },
    {
     "name": "stdout",
     "output_type": "stream",
     "text": [
      "2440:\tlearn: 0.7931501\ttest: 0.7927458\tbest: 0.7931066 (2305)\ttotal: 14m 50s\tremaining: 15m 33s\n"
     ]
    },
    {
     "name": "stdout",
     "output_type": "stream",
     "text": [
      "2460:\tlearn: 0.7932528\ttest: 0.7928831\tbest: 0.7931066 (2305)\ttotal: 14m 57s\tremaining: 15m 25s\n"
     ]
    },
    {
     "name": "stdout",
     "output_type": "stream",
     "text": [
      "2480:\tlearn: 0.7933396\ttest: 0.7927905\tbest: 0.7931066 (2305)\ttotal: 15m 4s\tremaining: 15m 18s\n"
     ]
    },
    {
     "name": "stdout",
     "output_type": "stream",
     "text": [
      "2500:\tlearn: 0.7934889\ttest: 0.7929274\tbest: 0.7931066 (2305)\ttotal: 15m 11s\tremaining: 15m 11s\n"
     ]
    },
    {
     "name": "stdout",
     "output_type": "stream",
     "text": [
      "2520:\tlearn: 0.7935995\ttest: 0.7928538\tbest: 0.7931066 (2305)\ttotal: 15m 19s\tremaining: 15m 3s\n"
     ]
    },
    {
     "name": "stdout",
     "output_type": "stream",
     "text": [
      "2540:\tlearn: 0.7936585\ttest: 0.7929908\tbest: 0.7931066 (2305)\ttotal: 15m 26s\tremaining: 14m 56s\n"
     ]
    },
    {
     "name": "stdout",
     "output_type": "stream",
     "text": [
      "2560:\tlearn: 0.7937530\ttest: 0.7929778\tbest: 0.7931066 (2305)\ttotal: 15m 33s\tremaining: 14m 49s\n"
     ]
    },
    {
     "name": "stdout",
     "output_type": "stream",
     "text": [
      "2580:\tlearn: 0.7938276\ttest: 0.7931550\tbest: 0.7931550 (2580)\ttotal: 15m 40s\tremaining: 14m 41s\n"
     ]
    },
    {
     "name": "stdout",
     "output_type": "stream",
     "text": [
      "2600:\tlearn: 0.7939804\ttest: 0.7930606\tbest: 0.7931557 (2582)\ttotal: 15m 47s\tremaining: 14m 34s\n"
     ]
    },
    {
     "name": "stdout",
     "output_type": "stream",
     "text": [
      "2620:\tlearn: 0.7940953\ttest: 0.7931551\tbest: 0.7931960 (2617)\ttotal: 15m 55s\tremaining: 14m 26s\n"
     ]
    },
    {
     "name": "stdout",
     "output_type": "stream",
     "text": [
      "2640:\tlearn: 0.7941468\ttest: 0.7929532\tbest: 0.7931960 (2617)\ttotal: 16m 2s\tremaining: 14m 19s\n"
     ]
    },
    {
     "name": "stdout",
     "output_type": "stream",
     "text": [
      "2660:\tlearn: 0.7942204\ttest: 0.7929627\tbest: 0.7931960 (2617)\ttotal: 16m 9s\tremaining: 14m 12s\n"
     ]
    },
    {
     "name": "stdout",
     "output_type": "stream",
     "text": [
      "2680:\tlearn: 0.7942115\ttest: 0.7929940\tbest: 0.7931960 (2617)\ttotal: 16m 16s\tremaining: 14m 4s\n"
     ]
    },
    {
     "name": "stdout",
     "output_type": "stream",
     "text": [
      "2700:\tlearn: 0.7943473\ttest: 0.7930018\tbest: 0.7931960 (2617)\ttotal: 16m 23s\tremaining: 13m 57s\n"
     ]
    },
    {
     "name": "stdout",
     "output_type": "stream",
     "text": [
      "2720:\tlearn: 0.7943728\ttest: 0.7930324\tbest: 0.7931960 (2617)\ttotal: 16m 31s\tremaining: 13m 50s\n"
     ]
    },
    {
     "name": "stdout",
     "output_type": "stream",
     "text": [
      "2740:\tlearn: 0.7945339\ttest: 0.7930404\tbest: 0.7931960 (2617)\ttotal: 16m 38s\tremaining: 13m 42s\n"
     ]
    },
    {
     "name": "stdout",
     "output_type": "stream",
     "text": [
      "2760:\tlearn: 0.7946138\ttest: 0.7931134\tbest: 0.7931960 (2617)\ttotal: 16m 45s\tremaining: 13m 35s\n"
     ]
    },
    {
     "name": "stdout",
     "output_type": "stream",
     "text": [
      "2780:\tlearn: 0.7946786\ttest: 0.7930584\tbest: 0.7931960 (2617)\ttotal: 16m 53s\tremaining: 13m 28s\n"
     ]
    },
    {
     "name": "stdout",
     "output_type": "stream",
     "text": [
      "2800:\tlearn: 0.7948080\ttest: 0.7931092\tbest: 0.7931960 (2617)\ttotal: 17m\tremaining: 13m 21s\n"
     ]
    },
    {
     "name": "stdout",
     "output_type": "stream",
     "text": [
      "2820:\tlearn: 0.7948960\ttest: 0.7929490\tbest: 0.7931960 (2617)\ttotal: 17m 7s\tremaining: 13m 13s\n"
     ]
    },
    {
     "name": "stdout",
     "output_type": "stream",
     "text": [
      "2840:\tlearn: 0.7950949\ttest: 0.7927685\tbest: 0.7931960 (2617)\ttotal: 17m 14s\tremaining: 13m 6s\n"
     ]
    },
    {
     "name": "stdout",
     "output_type": "stream",
     "text": [
      "2860:\tlearn: 0.7951144\ttest: 0.7928600\tbest: 0.7931960 (2617)\ttotal: 17m 22s\tremaining: 12m 59s\n"
     ]
    },
    {
     "name": "stdout",
     "output_type": "stream",
     "text": [
      "2880:\tlearn: 0.7952380\ttest: 0.7928244\tbest: 0.7931960 (2617)\ttotal: 17m 29s\tremaining: 12m 51s\n"
     ]
    },
    {
     "name": "stdout",
     "output_type": "stream",
     "text": [
      "2900:\tlearn: 0.7953260\ttest: 0.7928348\tbest: 0.7931960 (2617)\ttotal: 17m 36s\tremaining: 12m 44s\n"
     ]
    },
    {
     "name": "stdout",
     "output_type": "stream",
     "text": [
      "Stopped by overfitting detector  (300 iterations wait)\n",
      "\n",
      "bestTest = 0.7931959659\n",
      "bestIteration = 2617\n",
      "\n",
      "Shrink model to first 2618 iterations.\n"
     ]
    },
    {
     "name": "stdout",
     "output_type": "stream",
     "text": [
      "Training time: 129.75893956422806 min.\n"
     ]
    },
    {
     "name": "stdout",
     "output_type": "stream",
     "text": [
      "OOF recall_at4: 0.6582707779311273\n"
     ]
    },
    {
     "name": "stdout",
     "output_type": "stream",
     "text": [
      "OOF normalized_gini: 0.9213575106060597\n"
     ]
    },
    {
     "name": "stdout",
     "output_type": "stream",
     "text": [
      "OOF competition metric: 0.7898141442685935\n"
     ]
    },
    {
     "name": "stdout",
     "output_type": "stream",
     "text": [
      "############################### repeated cross-validation step: 2/3 ################################\n"
     ]
    },
    {
     "name": "stdout",
     "output_type": "stream",
     "text": [
      "######################################## training model 1/5 ########################################\n"
     ]
    },
    {
     "name": "stdout",
     "output_type": "stream",
     "text": [
      "0:\tlearn: 0.6650667\ttest: 0.6665824\tbest: 0.6665824 (0)\ttotal: 679ms\tremaining: 56m 36s\n"
     ]
    },
    {
     "name": "stdout",
     "output_type": "stream",
     "text": [
      "20:\tlearn: 0.7304881\ttest: 0.7338554\tbest: 0.7338554 (20)\ttotal: 7.74s\tremaining: 30m 34s\n"
     ]
    },
    {
     "name": "stdout",
     "output_type": "stream",
     "text": [
      "40:\tlearn: 0.7365642\ttest: 0.7420490\tbest: 0.7420490 (40)\ttotal: 14.9s\tremaining: 29m 58s\n"
     ]
    },
    {
     "name": "stdout",
     "output_type": "stream",
     "text": [
      "60:\tlearn: 0.7408955\ttest: 0.7455373\tbest: 0.7455373 (60)\ttotal: 22.3s\tremaining: 30m 7s\n"
     ]
    },
    {
     "name": "stdout",
     "output_type": "stream",
     "text": [
      "80:\tlearn: 0.7437338\ttest: 0.7482442\tbest: 0.7482442 (80)\ttotal: 29.7s\tremaining: 30m 5s\n"
     ]
    },
    {
     "name": "stdout",
     "output_type": "stream",
     "text": [
      "100:\tlearn: 0.7468140\ttest: 0.7502146\tbest: 0.7504649 (99)\ttotal: 37.2s\tremaining: 30m 5s\n"
     ]
    },
    {
     "name": "stdout",
     "output_type": "stream",
     "text": [
      "120:\tlearn: 0.7499796\ttest: 0.7532885\tbest: 0.7532885 (120)\ttotal: 44.5s\tremaining: 29m 54s\n"
     ]
    },
    {
     "name": "stdout",
     "output_type": "stream",
     "text": [
      "140:\tlearn: 0.7525498\ttest: 0.7556261\tbest: 0.7556261 (140)\ttotal: 51.7s\tremaining: 29m 42s\n"
     ]
    },
    {
     "name": "stdout",
     "output_type": "stream",
     "text": [
      "160:\tlearn: 0.7547914\ttest: 0.7580353\tbest: 0.7581865 (159)\ttotal: 59.2s\tremaining: 29m 40s\n"
     ]
    },
    {
     "name": "stdout",
     "output_type": "stream",
     "text": [
      "180:\tlearn: 0.7567625\ttest: 0.7597794\tbest: 0.7599206 (179)\ttotal: 1m 6s\tremaining: 29m 30s\n"
     ]
    },
    {
     "name": "stdout",
     "output_type": "stream",
     "text": [
      "200:\tlearn: 0.7584868\ttest: 0.7610374\tbest: 0.7610374 (200)\ttotal: 1m 13s\tremaining: 29m 25s\n"
     ]
    },
    {
     "name": "stdout",
     "output_type": "stream",
     "text": [
      "220:\tlearn: 0.7605766\ttest: 0.7627942\tbest: 0.7627942 (220)\ttotal: 1m 21s\tremaining: 29m 16s\n"
     ]
    },
    {
     "name": "stdout",
     "output_type": "stream",
     "text": [
      "240:\tlearn: 0.7614828\ttest: 0.7643624\tbest: 0.7643624 (240)\ttotal: 1m 28s\tremaining: 29m 5s\n"
     ]
    },
    {
     "name": "stdout",
     "output_type": "stream",
     "text": [
      "260:\tlearn: 0.7632550\ttest: 0.7653821\tbest: 0.7656161 (256)\ttotal: 1m 35s\tremaining: 28m 57s\n"
     ]
    },
    {
     "name": "stdout",
     "output_type": "stream",
     "text": [
      "280:\tlearn: 0.7644365\ttest: 0.7660345\tbest: 0.7663721 (276)\ttotal: 1m 43s\tremaining: 28m 50s\n"
     ]
    },
    {
     "name": "stdout",
     "output_type": "stream",
     "text": [
      "300:\tlearn: 0.7655190\ttest: 0.7675609\tbest: 0.7675609 (300)\ttotal: 1m 50s\tremaining: 28m 42s\n"
     ]
    },
    {
     "name": "stdout",
     "output_type": "stream",
     "text": [
      "320:\tlearn: 0.7665696\ttest: 0.7686858\tbest: 0.7686858 (320)\ttotal: 1m 57s\tremaining: 28m 35s\n"
     ]
    },
    {
     "name": "stdout",
     "output_type": "stream",
     "text": [
      "340:\tlearn: 0.7672159\ttest: 0.7698628\tbest: 0.7698628 (340)\ttotal: 2m 5s\tremaining: 28m 28s\n"
     ]
    },
    {
     "name": "stdout",
     "output_type": "stream",
     "text": [
      "360:\tlearn: 0.7679345\ttest: 0.7704301\tbest: 0.7704301 (360)\ttotal: 2m 12s\tremaining: 28m 21s\n"
     ]
    },
    {
     "name": "stdout",
     "output_type": "stream",
     "text": [
      "380:\tlearn: 0.7689793\ttest: 0.7710218\tbest: 0.7710218 (380)\ttotal: 2m 19s\tremaining: 28m 10s\n"
     ]
    },
    {
     "name": "stdout",
     "output_type": "stream",
     "text": [
      "400:\tlearn: 0.7696313\ttest: 0.7717123\tbest: 0.7718783 (397)\ttotal: 2m 26s\tremaining: 28m 3s\n"
     ]
    },
    {
     "name": "stdout",
     "output_type": "stream",
     "text": [
      "420:\tlearn: 0.7702824\ttest: 0.7726160\tbest: 0.7726160 (420)\ttotal: 2m 33s\tremaining: 27m 53s\n"
     ]
    },
    {
     "name": "stdout",
     "output_type": "stream",
     "text": [
      "440:\tlearn: 0.7708267\ttest: 0.7730946\tbest: 0.7732395 (437)\ttotal: 2m 41s\tremaining: 27m 48s\n"
     ]
    },
    {
     "name": "stdout",
     "output_type": "stream",
     "text": [
      "460:\tlearn: 0.7712666\ttest: 0.7731213\tbest: 0.7732395 (437)\ttotal: 2m 48s\tremaining: 27m 41s\n"
     ]
    },
    {
     "name": "stdout",
     "output_type": "stream",
     "text": [
      "480:\tlearn: 0.7719344\ttest: 0.7738697\tbest: 0.7738697 (480)\ttotal: 2m 56s\tremaining: 27m 34s\n"
     ]
    },
    {
     "name": "stdout",
     "output_type": "stream",
     "text": [
      "500:\tlearn: 0.7724881\ttest: 0.7740481\tbest: 0.7743205 (494)\ttotal: 3m 3s\tremaining: 27m 27s\n"
     ]
    },
    {
     "name": "stdout",
     "output_type": "stream",
     "text": [
      "520:\tlearn: 0.7729395\ttest: 0.7744127\tbest: 0.7745019 (514)\ttotal: 3m 10s\tremaining: 27m 21s\n"
     ]
    },
    {
     "name": "stdout",
     "output_type": "stream",
     "text": [
      "540:\tlearn: 0.7734319\ttest: 0.7748844\tbest: 0.7748844 (540)\ttotal: 3m 18s\tremaining: 27m 15s\n"
     ]
    },
    {
     "name": "stdout",
     "output_type": "stream",
     "text": [
      "560:\tlearn: 0.7739415\ttest: 0.7755914\tbest: 0.7755914 (560)\ttotal: 3m 25s\tremaining: 27m 7s\n"
     ]
    },
    {
     "name": "stdout",
     "output_type": "stream",
     "text": [
      "580:\tlearn: 0.7743085\ttest: 0.7762410\tbest: 0.7763551 (578)\ttotal: 3m 33s\tremaining: 27m\n"
     ]
    },
    {
     "name": "stdout",
     "output_type": "stream",
     "text": [
      "600:\tlearn: 0.7746557\ttest: 0.7763679\tbest: 0.7764675 (599)\ttotal: 3m 40s\tremaining: 26m 53s\n"
     ]
    },
    {
     "name": "stdout",
     "output_type": "stream",
     "text": [
      "620:\tlearn: 0.7750127\ttest: 0.7772042\tbest: 0.7772042 (620)\ttotal: 3m 47s\tremaining: 26m 45s\n"
     ]
    },
    {
     "name": "stdout",
     "output_type": "stream",
     "text": [
      "640:\tlearn: 0.7753834\ttest: 0.7776598\tbest: 0.7777559 (638)\ttotal: 3m 54s\tremaining: 26m 37s\n"
     ]
    },
    {
     "name": "stdout",
     "output_type": "stream",
     "text": [
      "660:\tlearn: 0.7759028\ttest: 0.7782149\tbest: 0.7782149 (660)\ttotal: 4m 2s\tremaining: 26m 30s\n"
     ]
    },
    {
     "name": "stdout",
     "output_type": "stream",
     "text": [
      "680:\tlearn: 0.7764609\ttest: 0.7787166\tbest: 0.7787776 (676)\ttotal: 4m 9s\tremaining: 26m 22s\n"
     ]
    },
    {
     "name": "stdout",
     "output_type": "stream",
     "text": [
      "700:\tlearn: 0.7767558\ttest: 0.7792713\tbest: 0.7792713 (700)\ttotal: 4m 17s\tremaining: 26m 16s\n"
     ]
    },
    {
     "name": "stdout",
     "output_type": "stream",
     "text": [
      "720:\tlearn: 0.7771190\ttest: 0.7797074\tbest: 0.7797674 (719)\ttotal: 4m 24s\tremaining: 26m 8s\n"
     ]
    },
    {
     "name": "stdout",
     "output_type": "stream",
     "text": [
      "740:\tlearn: 0.7775029\ttest: 0.7800287\tbest: 0.7800287 (740)\ttotal: 4m 31s\tremaining: 26m\n"
     ]
    },
    {
     "name": "stdout",
     "output_type": "stream",
     "text": [
      "760:\tlearn: 0.7780099\ttest: 0.7805961\tbest: 0.7806029 (757)\ttotal: 4m 38s\tremaining: 25m 53s\n"
     ]
    },
    {
     "name": "stdout",
     "output_type": "stream",
     "text": [
      "780:\tlearn: 0.7783955\ttest: 0.7806463\tbest: 0.7808231 (777)\ttotal: 4m 46s\tremaining: 25m 45s\n"
     ]
    },
    {
     "name": "stdout",
     "output_type": "stream",
     "text": [
      "800:\tlearn: 0.7787928\ttest: 0.7808283\tbest: 0.7809057 (798)\ttotal: 4m 53s\tremaining: 25m 37s\n"
     ]
    },
    {
     "name": "stdout",
     "output_type": "stream",
     "text": [
      "820:\tlearn: 0.7791205\ttest: 0.7811970\tbest: 0.7812222 (815)\ttotal: 5m\tremaining: 25m 28s\n"
     ]
    },
    {
     "name": "stdout",
     "output_type": "stream",
     "text": [
      "840:\tlearn: 0.7796351\ttest: 0.7814367\tbest: 0.7815506 (837)\ttotal: 5m 7s\tremaining: 25m 21s\n"
     ]
    },
    {
     "name": "stdout",
     "output_type": "stream",
     "text": [
      "860:\tlearn: 0.7799818\ttest: 0.7817951\tbest: 0.7819738 (857)\ttotal: 5m 14s\tremaining: 25m 12s\n"
     ]
    },
    {
     "name": "stdout",
     "output_type": "stream",
     "text": [
      "880:\tlearn: 0.7800795\ttest: 0.7820895\tbest: 0.7821631 (877)\ttotal: 5m 21s\tremaining: 25m 5s\n"
     ]
    },
    {
     "name": "stdout",
     "output_type": "stream",
     "text": [
      "900:\tlearn: 0.7804338\ttest: 0.7824096\tbest: 0.7824909 (899)\ttotal: 5m 29s\tremaining: 24m 57s\n"
     ]
    },
    {
     "name": "stdout",
     "output_type": "stream",
     "text": [
      "920:\tlearn: 0.7806915\ttest: 0.7824626\tbest: 0.7825485 (913)\ttotal: 5m 36s\tremaining: 24m 50s\n"
     ]
    },
    {
     "name": "stdout",
     "output_type": "stream",
     "text": [
      "940:\tlearn: 0.7809158\ttest: 0.7826952\tbest: 0.7826952 (940)\ttotal: 5m 43s\tremaining: 24m 43s\n"
     ]
    },
    {
     "name": "stdout",
     "output_type": "stream",
     "text": [
      "960:\tlearn: 0.7812556\ttest: 0.7828791\tbest: 0.7829363 (958)\ttotal: 5m 51s\tremaining: 24m 36s\n"
     ]
    },
    {
     "name": "stdout",
     "output_type": "stream",
     "text": [
      "980:\tlearn: 0.7815026\ttest: 0.7832291\tbest: 0.7832291 (980)\ttotal: 5m 58s\tremaining: 24m 28s\n"
     ]
    },
    {
     "name": "stdout",
     "output_type": "stream",
     "text": [
      "1000:\tlearn: 0.7817779\ttest: 0.7833278\tbest: 0.7833869 (991)\ttotal: 6m 5s\tremaining: 24m 20s\n"
     ]
    },
    {
     "name": "stdout",
     "output_type": "stream",
     "text": [
      "1020:\tlearn: 0.7820764\ttest: 0.7836341\tbest: 0.7837096 (1017)\ttotal: 6m 13s\tremaining: 24m 14s\n"
     ]
    },
    {
     "name": "stdout",
     "output_type": "stream",
     "text": [
      "1040:\tlearn: 0.7822688\ttest: 0.7838743\tbest: 0.7840403 (1039)\ttotal: 6m 20s\tremaining: 24m 6s\n"
     ]
    },
    {
     "name": "stdout",
     "output_type": "stream",
     "text": [
      "1060:\tlearn: 0.7825687\ttest: 0.7842832\tbest: 0.7843212 (1058)\ttotal: 6m 27s\tremaining: 23m 57s\n"
     ]
    },
    {
     "name": "stdout",
     "output_type": "stream",
     "text": [
      "1080:\tlearn: 0.7827596\ttest: 0.7846253\tbest: 0.7846253 (1080)\ttotal: 6m 34s\tremaining: 23m 50s\n"
     ]
    },
    {
     "name": "stdout",
     "output_type": "stream",
     "text": [
      "1100:\tlearn: 0.7830137\ttest: 0.7847919\tbest: 0.7849335 (1097)\ttotal: 6m 41s\tremaining: 23m 43s\n"
     ]
    },
    {
     "name": "stdout",
     "output_type": "stream",
     "text": [
      "1120:\tlearn: 0.7831429\ttest: 0.7852565\tbest: 0.7852565 (1120)\ttotal: 6m 49s\tremaining: 23m 36s\n"
     ]
    },
    {
     "name": "stdout",
     "output_type": "stream",
     "text": [
      "1140:\tlearn: 0.7833387\ttest: 0.7857685\tbest: 0.7857889 (1130)\ttotal: 6m 56s\tremaining: 23m 29s\n"
     ]
    },
    {
     "name": "stdout",
     "output_type": "stream",
     "text": [
      "1160:\tlearn: 0.7835427\ttest: 0.7854748\tbest: 0.7857889 (1130)\ttotal: 7m 4s\tremaining: 23m 22s\n"
     ]
    },
    {
     "name": "stdout",
     "output_type": "stream",
     "text": [
      "1180:\tlearn: 0.7837247\ttest: 0.7858910\tbest: 0.7858910 (1180)\ttotal: 7m 11s\tremaining: 23m 14s\n"
     ]
    },
    {
     "name": "stdout",
     "output_type": "stream",
     "text": [
      "1200:\tlearn: 0.7839206\ttest: 0.7862092\tbest: 0.7862092 (1200)\ttotal: 7m 18s\tremaining: 23m 7s\n"
     ]
    },
    {
     "name": "stdout",
     "output_type": "stream",
     "text": [
      "1220:\tlearn: 0.7840441\ttest: 0.7863163\tbest: 0.7863163 (1220)\ttotal: 7m 25s\tremaining: 23m\n"
     ]
    },
    {
     "name": "stdout",
     "output_type": "stream",
     "text": [
      "1240:\tlearn: 0.7841755\ttest: 0.7864378\tbest: 0.7864784 (1239)\ttotal: 7m 33s\tremaining: 22m 52s\n"
     ]
    },
    {
     "name": "stdout",
     "output_type": "stream",
     "text": [
      "1260:\tlearn: 0.7844761\ttest: 0.7866630\tbest: 0.7867816 (1256)\ttotal: 7m 40s\tremaining: 22m 44s\n"
     ]
    },
    {
     "name": "stdout",
     "output_type": "stream",
     "text": [
      "1280:\tlearn: 0.7846158\ttest: 0.7869574\tbest: 0.7869574 (1280)\ttotal: 7m 47s\tremaining: 22m 38s\n"
     ]
    },
    {
     "name": "stdout",
     "output_type": "stream",
     "text": [
      "1300:\tlearn: 0.7849580\ttest: 0.7873107\tbest: 0.7873107 (1300)\ttotal: 7m 55s\tremaining: 22m 30s\n"
     ]
    },
    {
     "name": "stdout",
     "output_type": "stream",
     "text": [
      "1320:\tlearn: 0.7852233\ttest: 0.7875793\tbest: 0.7875960 (1318)\ttotal: 8m 2s\tremaining: 22m 23s\n"
     ]
    },
    {
     "name": "stdout",
     "output_type": "stream",
     "text": [
      "1340:\tlearn: 0.7854420\ttest: 0.7878024\tbest: 0.7878024 (1340)\ttotal: 8m 9s\tremaining: 22m 16s\n"
     ]
    },
    {
     "name": "stdout",
     "output_type": "stream",
     "text": [
      "1360:\tlearn: 0.7855872\ttest: 0.7878355\tbest: 0.7879733 (1354)\ttotal: 8m 17s\tremaining: 22m 9s\n"
     ]
    },
    {
     "name": "stdout",
     "output_type": "stream",
     "text": [
      "1380:\tlearn: 0.7857935\ttest: 0.7882532\tbest: 0.7882532 (1380)\ttotal: 8m 24s\tremaining: 22m 2s\n"
     ]
    },
    {
     "name": "stdout",
     "output_type": "stream",
     "text": [
      "1400:\tlearn: 0.7859350\ttest: 0.7881645\tbest: 0.7882974 (1381)\ttotal: 8m 31s\tremaining: 21m 54s\n"
     ]
    },
    {
     "name": "stdout",
     "output_type": "stream",
     "text": [
      "1420:\tlearn: 0.7861306\ttest: 0.7884073\tbest: 0.7884848 (1416)\ttotal: 8m 39s\tremaining: 21m 48s\n"
     ]
    },
    {
     "name": "stdout",
     "output_type": "stream",
     "text": [
      "1440:\tlearn: 0.7863962\ttest: 0.7885884\tbest: 0.7886672 (1437)\ttotal: 8m 46s\tremaining: 21m 41s\n"
     ]
    },
    {
     "name": "stdout",
     "output_type": "stream",
     "text": [
      "1460:\tlearn: 0.7864943\ttest: 0.7884347\tbest: 0.7886762 (1444)\ttotal: 8m 54s\tremaining: 21m 34s\n"
     ]
    },
    {
     "name": "stdout",
     "output_type": "stream",
     "text": [
      "1480:\tlearn: 0.7867464\ttest: 0.7889060\tbest: 0.7889060 (1480)\ttotal: 9m 1s\tremaining: 21m 26s\n"
     ]
    },
    {
     "name": "stdout",
     "output_type": "stream",
     "text": [
      "1500:\tlearn: 0.7870158\ttest: 0.7889171\tbest: 0.7890664 (1487)\ttotal: 9m 8s\tremaining: 21m 18s\n"
     ]
    },
    {
     "name": "stdout",
     "output_type": "stream",
     "text": [
      "1520:\tlearn: 0.7871249\ttest: 0.7892027\tbest: 0.7892027 (1520)\ttotal: 9m 15s\tremaining: 21m 10s\n"
     ]
    },
    {
     "name": "stdout",
     "output_type": "stream",
     "text": [
      "1540:\tlearn: 0.7872921\ttest: 0.7896105\tbest: 0.7896504 (1538)\ttotal: 9m 22s\tremaining: 21m 2s\n"
     ]
    },
    {
     "name": "stdout",
     "output_type": "stream",
     "text": [
      "1560:\tlearn: 0.7874694\ttest: 0.7896582\tbest: 0.7899190 (1549)\ttotal: 9m 29s\tremaining: 20m 54s\n"
     ]
    },
    {
     "name": "stdout",
     "output_type": "stream",
     "text": [
      "1580:\tlearn: 0.7876337\ttest: 0.7895777\tbest: 0.7899190 (1549)\ttotal: 9m 36s\tremaining: 20m 47s\n"
     ]
    },
    {
     "name": "stdout",
     "output_type": "stream",
     "text": [
      "1600:\tlearn: 0.7877858\ttest: 0.7897763\tbest: 0.7899190 (1549)\ttotal: 9m 44s\tremaining: 20m 39s\n"
     ]
    },
    {
     "name": "stdout",
     "output_type": "stream",
     "text": [
      "1620:\tlearn: 0.7879443\ttest: 0.7895498\tbest: 0.7899190 (1549)\ttotal: 9m 51s\tremaining: 20m 32s\n"
     ]
    },
    {
     "name": "stdout",
     "output_type": "stream",
     "text": [
      "1640:\tlearn: 0.7880796\ttest: 0.7895497\tbest: 0.7899190 (1549)\ttotal: 9m 58s\tremaining: 20m 25s\n"
     ]
    },
    {
     "name": "stdout",
     "output_type": "stream",
     "text": [
      "1660:\tlearn: 0.7882641\ttest: 0.7898888\tbest: 0.7899190 (1549)\ttotal: 10m 6s\tremaining: 20m 18s\n"
     ]
    },
    {
     "name": "stdout",
     "output_type": "stream",
     "text": [
      "1680:\tlearn: 0.7883979\ttest: 0.7899981\tbest: 0.7899981 (1680)\ttotal: 10m 13s\tremaining: 20m 11s\n"
     ]
    },
    {
     "name": "stdout",
     "output_type": "stream",
     "text": [
      "1700:\tlearn: 0.7887089\ttest: 0.7900449\tbest: 0.7902504 (1695)\ttotal: 10m 20s\tremaining: 20m 3s\n"
     ]
    },
    {
     "name": "stdout",
     "output_type": "stream",
     "text": [
      "1720:\tlearn: 0.7888383\ttest: 0.7898781\tbest: 0.7902504 (1695)\ttotal: 10m 27s\tremaining: 19m 56s\n"
     ]
    },
    {
     "name": "stdout",
     "output_type": "stream",
     "text": [
      "1740:\tlearn: 0.7888897\ttest: 0.7900294\tbest: 0.7902504 (1695)\ttotal: 10m 35s\tremaining: 19m 49s\n"
     ]
    },
    {
     "name": "stdout",
     "output_type": "stream",
     "text": [
      "1760:\tlearn: 0.7890010\ttest: 0.7901137\tbest: 0.7902504 (1695)\ttotal: 10m 42s\tremaining: 19m 41s\n"
     ]
    },
    {
     "name": "stdout",
     "output_type": "stream",
     "text": [
      "1780:\tlearn: 0.7891122\ttest: 0.7904287\tbest: 0.7904287 (1780)\ttotal: 10m 49s\tremaining: 19m 34s\n"
     ]
    },
    {
     "name": "stdout",
     "output_type": "stream",
     "text": [
      "1800:\tlearn: 0.7893453\ttest: 0.7901727\tbest: 0.7904342 (1785)\ttotal: 10m 57s\tremaining: 19m 27s\n"
     ]
    },
    {
     "name": "stdout",
     "output_type": "stream",
     "text": [
      "1820:\tlearn: 0.7895086\ttest: 0.7903408\tbest: 0.7904342 (1785)\ttotal: 11m 4s\tremaining: 19m 19s\n"
     ]
    },
    {
     "name": "stdout",
     "output_type": "stream",
     "text": [
      "1840:\tlearn: 0.7896445\ttest: 0.7904032\tbest: 0.7904342 (1785)\ttotal: 11m 11s\tremaining: 19m 12s\n"
     ]
    },
    {
     "name": "stdout",
     "output_type": "stream",
     "text": [
      "1860:\tlearn: 0.7898374\ttest: 0.7905893\tbest: 0.7906093 (1859)\ttotal: 11m 18s\tremaining: 19m 5s\n"
     ]
    },
    {
     "name": "stdout",
     "output_type": "stream",
     "text": [
      "1880:\tlearn: 0.7899740\ttest: 0.7905660\tbest: 0.7906365 (1864)\ttotal: 11m 26s\tremaining: 18m 57s\n"
     ]
    },
    {
     "name": "stdout",
     "output_type": "stream",
     "text": [
      "1900:\tlearn: 0.7900498\ttest: 0.7909228\tbest: 0.7909228 (1900)\ttotal: 11m 33s\tremaining: 18m 50s\n"
     ]
    },
    {
     "name": "stdout",
     "output_type": "stream",
     "text": [
      "1920:\tlearn: 0.7901186\ttest: 0.7910059\tbest: 0.7910548 (1906)\ttotal: 11m 40s\tremaining: 18m 43s\n"
     ]
    },
    {
     "name": "stdout",
     "output_type": "stream",
     "text": [
      "1940:\tlearn: 0.7902217\ttest: 0.7911078\tbest: 0.7911494 (1939)\ttotal: 11m 47s\tremaining: 18m 35s\n"
     ]
    },
    {
     "name": "stdout",
     "output_type": "stream",
     "text": [
      "1960:\tlearn: 0.7905719\ttest: 0.7911687\tbest: 0.7912035 (1954)\ttotal: 11m 54s\tremaining: 18m 27s\n"
     ]
    },
    {
     "name": "stdout",
     "output_type": "stream",
     "text": [
      "1980:\tlearn: 0.7906700\ttest: 0.7910631\tbest: 0.7912644 (1972)\ttotal: 12m 2s\tremaining: 18m 20s\n"
     ]
    },
    {
     "name": "stdout",
     "output_type": "stream",
     "text": [
      "2000:\tlearn: 0.7907825\ttest: 0.7912262\tbest: 0.7913288 (1996)\ttotal: 12m 9s\tremaining: 18m 13s\n"
     ]
    },
    {
     "name": "stdout",
     "output_type": "stream",
     "text": [
      "2020:\tlearn: 0.7908095\ttest: 0.7912205\tbest: 0.7913416 (2014)\ttotal: 12m 16s\tremaining: 18m 5s\n"
     ]
    },
    {
     "name": "stdout",
     "output_type": "stream",
     "text": [
      "2040:\tlearn: 0.7909634\ttest: 0.7914889\tbest: 0.7914889 (2040)\ttotal: 12m 24s\tremaining: 17m 58s\n"
     ]
    },
    {
     "name": "stdout",
     "output_type": "stream",
     "text": [
      "2060:\tlearn: 0.7911004\ttest: 0.7914031\tbest: 0.7914889 (2040)\ttotal: 12m 31s\tremaining: 17m 51s\n"
     ]
    },
    {
     "name": "stdout",
     "output_type": "stream",
     "text": [
      "2080:\tlearn: 0.7912339\ttest: 0.7916502\tbest: 0.7916701 (2079)\ttotal: 12m 38s\tremaining: 17m 43s\n"
     ]
    },
    {
     "name": "stdout",
     "output_type": "stream",
     "text": [
      "2100:\tlearn: 0.7913247\ttest: 0.7918139\tbest: 0.7918739 (2096)\ttotal: 12m 45s\tremaining: 17m 36s\n"
     ]
    },
    {
     "name": "stdout",
     "output_type": "stream",
     "text": [
      "2120:\tlearn: 0.7913963\ttest: 0.7917453\tbest: 0.7918739 (2096)\ttotal: 12m 52s\tremaining: 17m 28s\n"
     ]
    },
    {
     "name": "stdout",
     "output_type": "stream",
     "text": [
      "2140:\tlearn: 0.7914519\ttest: 0.7918711\tbest: 0.7918913 (2139)\ttotal: 13m\tremaining: 17m 21s\n"
     ]
    },
    {
     "name": "stdout",
     "output_type": "stream",
     "text": [
      "2160:\tlearn: 0.7915644\ttest: 0.7921193\tbest: 0.7921193 (2160)\ttotal: 13m 7s\tremaining: 17m 14s\n"
     ]
    },
    {
     "name": "stdout",
     "output_type": "stream",
     "text": [
      "2180:\tlearn: 0.7916891\ttest: 0.7920249\tbest: 0.7921446 (2166)\ttotal: 13m 14s\tremaining: 17m 7s\n"
     ]
    },
    {
     "name": "stdout",
     "output_type": "stream",
     "text": [
      "2200:\tlearn: 0.7918808\ttest: 0.7921679\tbest: 0.7921679 (2200)\ttotal: 13m 21s\tremaining: 16m 59s\n"
     ]
    },
    {
     "name": "stdout",
     "output_type": "stream",
     "text": [
      "2220:\tlearn: 0.7919623\ttest: 0.7923493\tbest: 0.7924277 (2210)\ttotal: 13m 29s\tremaining: 16m 52s\n"
     ]
    },
    {
     "name": "stdout",
     "output_type": "stream",
     "text": [
      "2240:\tlearn: 0.7920809\ttest: 0.7922785\tbest: 0.7924277 (2210)\ttotal: 13m 36s\tremaining: 16m 45s\n"
     ]
    },
    {
     "name": "stdout",
     "output_type": "stream",
     "text": [
      "2260:\tlearn: 0.7921072\ttest: 0.7923556\tbest: 0.7925200 (2252)\ttotal: 13m 43s\tremaining: 16m 37s\n"
     ]
    },
    {
     "name": "stdout",
     "output_type": "stream",
     "text": [
      "2280:\tlearn: 0.7922364\ttest: 0.7926404\tbest: 0.7926404 (2280)\ttotal: 13m 50s\tremaining: 16m 30s\n"
     ]
    },
    {
     "name": "stdout",
     "output_type": "stream",
     "text": [
      "2300:\tlearn: 0.7924445\ttest: 0.7925690\tbest: 0.7926466 (2291)\ttotal: 13m 58s\tremaining: 16m 23s\n"
     ]
    },
    {
     "name": "stdout",
     "output_type": "stream",
     "text": [
      "2320:\tlearn: 0.7925829\ttest: 0.7926023\tbest: 0.7926466 (2291)\ttotal: 14m 5s\tremaining: 16m 15s\n"
     ]
    },
    {
     "name": "stdout",
     "output_type": "stream",
     "text": [
      "2340:\tlearn: 0.7926226\ttest: 0.7926367\tbest: 0.7926466 (2291)\ttotal: 14m 12s\tremaining: 16m 8s\n"
     ]
    },
    {
     "name": "stdout",
     "output_type": "stream",
     "text": [
      "2360:\tlearn: 0.7926912\ttest: 0.7927986\tbest: 0.7928387 (2357)\ttotal: 14m 19s\tremaining: 16m 1s\n"
     ]
    },
    {
     "name": "stdout",
     "output_type": "stream",
     "text": [
      "2380:\tlearn: 0.7927737\ttest: 0.7929170\tbest: 0.7929170 (2380)\ttotal: 14m 27s\tremaining: 15m 54s\n"
     ]
    },
    {
     "name": "stdout",
     "output_type": "stream",
     "text": [
      "2400:\tlearn: 0.7928559\ttest: 0.7927172\tbest: 0.7929384 (2381)\ttotal: 14m 34s\tremaining: 15m 46s\n"
     ]
    },
    {
     "name": "stdout",
     "output_type": "stream",
     "text": [
      "2420:\tlearn: 0.7929955\ttest: 0.7926439\tbest: 0.7929384 (2381)\ttotal: 14m 41s\tremaining: 15m 39s\n"
     ]
    },
    {
     "name": "stdout",
     "output_type": "stream",
     "text": [
      "2440:\tlearn: 0.7929969\ttest: 0.7926981\tbest: 0.7929384 (2381)\ttotal: 14m 48s\tremaining: 15m 31s\n"
     ]
    },
    {
     "name": "stdout",
     "output_type": "stream",
     "text": [
      "2460:\tlearn: 0.7929775\ttest: 0.7926264\tbest: 0.7929384 (2381)\ttotal: 14m 56s\tremaining: 15m 24s\n"
     ]
    },
    {
     "name": "stdout",
     "output_type": "stream",
     "text": [
      "2480:\tlearn: 0.7931209\ttest: 0.7925524\tbest: 0.7929384 (2381)\ttotal: 15m 3s\tremaining: 15m 17s\n"
     ]
    },
    {
     "name": "stdout",
     "output_type": "stream",
     "text": [
      "2500:\tlearn: 0.7932417\ttest: 0.7927334\tbest: 0.7929384 (2381)\ttotal: 15m 10s\tremaining: 15m 10s\n"
     ]
    },
    {
     "name": "stdout",
     "output_type": "stream",
     "text": [
      "2520:\tlearn: 0.7933536\ttest: 0.7926184\tbest: 0.7929384 (2381)\ttotal: 15m 18s\tremaining: 15m 2s\n"
     ]
    },
    {
     "name": "stdout",
     "output_type": "stream",
     "text": [
      "2540:\tlearn: 0.7935826\ttest: 0.7925668\tbest: 0.7929384 (2381)\ttotal: 15m 25s\tremaining: 14m 55s\n"
     ]
    },
    {
     "name": "stdout",
     "output_type": "stream",
     "text": [
      "2560:\tlearn: 0.7935296\ttest: 0.7926828\tbest: 0.7929384 (2381)\ttotal: 15m 32s\tremaining: 14m 48s\n"
     ]
    },
    {
     "name": "stdout",
     "output_type": "stream",
     "text": [
      "2580:\tlearn: 0.7936814\ttest: 0.7928818\tbest: 0.7929384 (2381)\ttotal: 15m 39s\tremaining: 14m 40s\n"
     ]
    },
    {
     "name": "stdout",
     "output_type": "stream",
     "text": [
      "2600:\tlearn: 0.7936610\ttest: 0.7926192\tbest: 0.7929384 (2381)\ttotal: 15m 47s\tremaining: 14m 33s\n"
     ]
    },
    {
     "name": "stdout",
     "output_type": "stream",
     "text": [
      "2620:\tlearn: 0.7938293\ttest: 0.7927544\tbest: 0.7929384 (2381)\ttotal: 15m 54s\tremaining: 14m 26s\n"
     ]
    },
    {
     "name": "stdout",
     "output_type": "stream",
     "text": [
      "2640:\tlearn: 0.7939292\ttest: 0.7926599\tbest: 0.7929384 (2381)\ttotal: 16m 1s\tremaining: 14m 18s\n"
     ]
    },
    {
     "name": "stdout",
     "output_type": "stream",
     "text": [
      "2660:\tlearn: 0.7938334\ttest: 0.7926905\tbest: 0.7929384 (2381)\ttotal: 16m 8s\tremaining: 14m 11s\n"
     ]
    },
    {
     "name": "stdout",
     "output_type": "stream",
     "text": [
      "2680:\tlearn: 0.7939638\ttest: 0.7925954\tbest: 0.7929384 (2381)\ttotal: 16m 16s\tremaining: 14m 4s\n"
     ]
    },
    {
     "name": "stdout",
     "output_type": "stream",
     "text": [
      "Stopped by overfitting detector  (300 iterations wait)\n",
      "\n",
      "bestTest = 0.7929383787\n",
      "bestIteration = 2381\n",
      "\n",
      "Shrink model to first 2382 iterations.\n"
     ]
    },
    {
     "name": "stdout",
     "output_type": "stream",
     "text": [
      "######################################## training model 2/5 ########################################\n"
     ]
    },
    {
     "name": "stdout",
     "output_type": "stream",
     "text": [
      "0:\tlearn: 0.6731816\ttest: 0.6768606\tbest: 0.6768606 (0)\ttotal: 707ms\tremaining: 58m 52s\n"
     ]
    },
    {
     "name": "stdout",
     "output_type": "stream",
     "text": [
      "20:\tlearn: 0.7329938\ttest: 0.7355525\tbest: 0.7355525 (20)\ttotal: 7.78s\tremaining: 30m 43s\n"
     ]
    },
    {
     "name": "stdout",
     "output_type": "stream",
     "text": [
      "40:\tlearn: 0.7355042\ttest: 0.7380889\tbest: 0.7380889 (40)\ttotal: 15.1s\tremaining: 30m 29s\n"
     ]
    },
    {
     "name": "stdout",
     "output_type": "stream",
     "text": [
      "60:\tlearn: 0.7397218\ttest: 0.7414235\tbest: 0.7414235 (60)\ttotal: 22.5s\tremaining: 30m 22s\n"
     ]
    },
    {
     "name": "stdout",
     "output_type": "stream",
     "text": [
      "80:\tlearn: 0.7425584\ttest: 0.7431306\tbest: 0.7431306 (80)\ttotal: 29.9s\tremaining: 30m 18s\n"
     ]
    },
    {
     "name": "stdout",
     "output_type": "stream",
     "text": [
      "100:\tlearn: 0.7464249\ttest: 0.7459106\tbest: 0.7459106 (100)\ttotal: 37.5s\tremaining: 30m 18s\n"
     ]
    },
    {
     "name": "stdout",
     "output_type": "stream",
     "text": [
      "120:\tlearn: 0.7493869\ttest: 0.7490758\tbest: 0.7491106 (118)\ttotal: 44.9s\tremaining: 30m 8s\n"
     ]
    },
    {
     "name": "stdout",
     "output_type": "stream",
     "text": [
      "140:\tlearn: 0.7528702\ttest: 0.7525258\tbest: 0.7525258 (140)\ttotal: 52.1s\tremaining: 29m 55s\n"
     ]
    },
    {
     "name": "stdout",
     "output_type": "stream",
     "text": [
      "160:\tlearn: 0.7549300\ttest: 0.7539974\tbest: 0.7539974 (160)\ttotal: 59.4s\tremaining: 29m 46s\n"
     ]
    },
    {
     "name": "stdout",
     "output_type": "stream",
     "text": [
      "180:\tlearn: 0.7570023\ttest: 0.7563227\tbest: 0.7563227 (180)\ttotal: 1m 6s\tremaining: 29m 29s\n"
     ]
    },
    {
     "name": "stdout",
     "output_type": "stream",
     "text": [
      "200:\tlearn: 0.7589552\ttest: 0.7583710\tbest: 0.7583710 (200)\ttotal: 1m 13s\tremaining: 29m 22s\n"
     ]
    },
    {
     "name": "stdout",
     "output_type": "stream",
     "text": [
      "220:\tlearn: 0.7609753\ttest: 0.7607247\tbest: 0.7607247 (220)\ttotal: 1m 21s\tremaining: 29m 15s\n"
     ]
    },
    {
     "name": "stdout",
     "output_type": "stream",
     "text": [
      "240:\tlearn: 0.7618066\ttest: 0.7618718\tbest: 0.7619922 (238)\ttotal: 1m 28s\tremaining: 29m 11s\n"
     ]
    },
    {
     "name": "stdout",
     "output_type": "stream",
     "text": [
      "260:\tlearn: 0.7632565\ttest: 0.7628614\tbest: 0.7628614 (260)\ttotal: 1m 36s\tremaining: 29m 5s\n"
     ]
    },
    {
     "name": "stdout",
     "output_type": "stream",
     "text": [
      "280:\tlearn: 0.7642300\ttest: 0.7640740\tbest: 0.7641818 (279)\ttotal: 1m 43s\tremaining: 29m 4s\n"
     ]
    },
    {
     "name": "stdout",
     "output_type": "stream",
     "text": [
      "300:\tlearn: 0.7653547\ttest: 0.7648480\tbest: 0.7648480 (300)\ttotal: 1m 51s\tremaining: 28m 57s\n"
     ]
    },
    {
     "name": "stdout",
     "output_type": "stream",
     "text": [
      "320:\tlearn: 0.7666820\ttest: 0.7662816\tbest: 0.7662816 (320)\ttotal: 1m 58s\tremaining: 28m 48s\n"
     ]
    },
    {
     "name": "stdout",
     "output_type": "stream",
     "text": [
      "340:\tlearn: 0.7676252\ttest: 0.7672045\tbest: 0.7673851 (339)\ttotal: 2m 5s\tremaining: 28m 40s\n"
     ]
    },
    {
     "name": "stdout",
     "output_type": "stream",
     "text": [
      "360:\tlearn: 0.7684533\ttest: 0.7682579\tbest: 0.7682579 (360)\ttotal: 2m 13s\tremaining: 28m 31s\n"
     ]
    },
    {
     "name": "stdout",
     "output_type": "stream",
     "text": [
      "380:\tlearn: 0.7690263\ttest: 0.7688187\tbest: 0.7689179 (379)\ttotal: 2m 20s\tremaining: 28m 25s\n"
     ]
    },
    {
     "name": "stdout",
     "output_type": "stream",
     "text": [
      "400:\tlearn: 0.7697993\ttest: 0.7690932\tbest: 0.7693734 (391)\ttotal: 2m 28s\tremaining: 28m 17s\n"
     ]
    },
    {
     "name": "stdout",
     "output_type": "stream",
     "text": [
      "420:\tlearn: 0.7706450\ttest: 0.7700980\tbest: 0.7700980 (420)\ttotal: 2m 35s\tremaining: 28m 8s\n"
     ]
    },
    {
     "name": "stdout",
     "output_type": "stream",
     "text": [
      "440:\tlearn: 0.7716402\ttest: 0.7705925\tbest: 0.7706548 (437)\ttotal: 2m 42s\tremaining: 27m 58s\n"
     ]
    },
    {
     "name": "stdout",
     "output_type": "stream",
     "text": [
      "460:\tlearn: 0.7719752\ttest: 0.7710115\tbest: 0.7711228 (452)\ttotal: 2m 49s\tremaining: 27m 51s\n"
     ]
    },
    {
     "name": "stdout",
     "output_type": "stream",
     "text": [
      "480:\tlearn: 0.7729802\ttest: 0.7712782\tbest: 0.7713781 (479)\ttotal: 2m 57s\tremaining: 27m 45s\n"
     ]
    },
    {
     "name": "stdout",
     "output_type": "stream",
     "text": [
      "500:\tlearn: 0.7734010\ttest: 0.7720736\tbest: 0.7720736 (500)\ttotal: 3m 4s\tremaining: 27m 37s\n"
     ]
    },
    {
     "name": "stdout",
     "output_type": "stream",
     "text": [
      "520:\tlearn: 0.7739972\ttest: 0.7721815\tbest: 0.7723464 (517)\ttotal: 3m 11s\tremaining: 27m 28s\n"
     ]
    },
    {
     "name": "stdout",
     "output_type": "stream",
     "text": [
      "540:\tlearn: 0.7746256\ttest: 0.7725293\tbest: 0.7726292 (539)\ttotal: 3m 18s\tremaining: 27m 18s\n"
     ]
    },
    {
     "name": "stdout",
     "output_type": "stream",
     "text": [
      "560:\tlearn: 0.7752177\ttest: 0.7724055\tbest: 0.7726564 (544)\ttotal: 3m 26s\tremaining: 27m 10s\n"
     ]
    },
    {
     "name": "stdout",
     "output_type": "stream",
     "text": [
      "580:\tlearn: 0.7758671\ttest: 0.7725123\tbest: 0.7726564 (544)\ttotal: 3m 33s\tremaining: 27m 2s\n"
     ]
    },
    {
     "name": "stdout",
     "output_type": "stream",
     "text": [
      "600:\tlearn: 0.7761433\ttest: 0.7728573\tbest: 0.7729016 (597)\ttotal: 3m 40s\tremaining: 26m 53s\n"
     ]
    },
    {
     "name": "stdout",
     "output_type": "stream",
     "text": [
      "620:\tlearn: 0.7767687\ttest: 0.7731036\tbest: 0.7731688 (616)\ttotal: 3m 47s\tremaining: 26m 45s\n"
     ]
    },
    {
     "name": "stdout",
     "output_type": "stream",
     "text": [
      "640:\tlearn: 0.7770698\ttest: 0.7737653\tbest: 0.7737653 (640)\ttotal: 3m 54s\tremaining: 26m 37s\n"
     ]
    },
    {
     "name": "stdout",
     "output_type": "stream",
     "text": [
      "660:\tlearn: 0.7773497\ttest: 0.7738691\tbest: 0.7738968 (652)\ttotal: 4m 2s\tremaining: 26m 30s\n"
     ]
    },
    {
     "name": "stdout",
     "output_type": "stream",
     "text": [
      "680:\tlearn: 0.7776254\ttest: 0.7740390\tbest: 0.7740571 (669)\ttotal: 4m 9s\tremaining: 26m 22s\n"
     ]
    },
    {
     "name": "stdout",
     "output_type": "stream",
     "text": [
      "700:\tlearn: 0.7780003\ttest: 0.7743065\tbest: 0.7743065 (700)\ttotal: 4m 16s\tremaining: 26m 14s\n"
     ]
    },
    {
     "name": "stdout",
     "output_type": "stream",
     "text": [
      "720:\tlearn: 0.7782840\ttest: 0.7748873\tbest: 0.7750303 (719)\ttotal: 4m 24s\tremaining: 26m 7s\n"
     ]
    },
    {
     "name": "stdout",
     "output_type": "stream",
     "text": [
      "740:\tlearn: 0.7787072\ttest: 0.7751767\tbest: 0.7752542 (728)\ttotal: 4m 31s\tremaining: 26m\n"
     ]
    },
    {
     "name": "stdout",
     "output_type": "stream",
     "text": [
      "760:\tlearn: 0.7790571\ttest: 0.7756763\tbest: 0.7756763 (760)\ttotal: 4m 38s\tremaining: 25m 52s\n"
     ]
    },
    {
     "name": "stdout",
     "output_type": "stream",
     "text": [
      "780:\tlearn: 0.7793767\ttest: 0.7760824\tbest: 0.7760824 (780)\ttotal: 4m 46s\tremaining: 25m 46s\n"
     ]
    },
    {
     "name": "stdout",
     "output_type": "stream",
     "text": [
      "800:\tlearn: 0.7798447\ttest: 0.7764486\tbest: 0.7766550 (799)\ttotal: 4m 53s\tremaining: 25m 39s\n"
     ]
    },
    {
     "name": "stdout",
     "output_type": "stream",
     "text": [
      "820:\tlearn: 0.7801760\ttest: 0.7769559\tbest: 0.7771421 (819)\ttotal: 5m 1s\tremaining: 25m 32s\n"
     ]
    },
    {
     "name": "stdout",
     "output_type": "stream",
     "text": [
      "840:\tlearn: 0.7804639\ttest: 0.7777010\tbest: 0.7777599 (839)\ttotal: 5m 8s\tremaining: 25m 25s\n"
     ]
    },
    {
     "name": "stdout",
     "output_type": "stream",
     "text": [
      "860:\tlearn: 0.7808024\ttest: 0.7778281\tbest: 0.7779813 (855)\ttotal: 5m 16s\tremaining: 25m 19s\n"
     ]
    },
    {
     "name": "stdout",
     "output_type": "stream",
     "text": [
      "880:\tlearn: 0.7813217\ttest: 0.7781650\tbest: 0.7782040 (879)\ttotal: 5m 23s\tremaining: 25m 13s\n"
     ]
    },
    {
     "name": "stdout",
     "output_type": "stream",
     "text": [
      "900:\tlearn: 0.7815333\ttest: 0.7780557\tbest: 0.7782096 (889)\ttotal: 5m 31s\tremaining: 25m 6s\n"
     ]
    },
    {
     "name": "stdout",
     "output_type": "stream",
     "text": [
      "920:\tlearn: 0.7818787\ttest: 0.7780058\tbest: 0.7782096 (889)\ttotal: 5m 38s\tremaining: 24m 59s\n"
     ]
    },
    {
     "name": "stdout",
     "output_type": "stream",
     "text": [
      "940:\tlearn: 0.7823678\ttest: 0.7782935\tbest: 0.7783406 (934)\ttotal: 5m 45s\tremaining: 24m 50s\n"
     ]
    },
    {
     "name": "stdout",
     "output_type": "stream",
     "text": [
      "960:\tlearn: 0.7824608\ttest: 0.7784279\tbest: 0.7784279 (960)\ttotal: 5m 52s\tremaining: 24m 42s\n"
     ]
    },
    {
     "name": "stdout",
     "output_type": "stream",
     "text": [
      "980:\tlearn: 0.7827327\ttest: 0.7786459\tbest: 0.7786725 (973)\ttotal: 6m\tremaining: 24m 35s\n"
     ]
    },
    {
     "name": "stdout",
     "output_type": "stream",
     "text": [
      "1000:\tlearn: 0.7830812\ttest: 0.7789897\tbest: 0.7789897 (1000)\ttotal: 6m 7s\tremaining: 24m 27s\n"
     ]
    },
    {
     "name": "stdout",
     "output_type": "stream",
     "text": [
      "1020:\tlearn: 0.7833044\ttest: 0.7789899\tbest: 0.7790802 (1003)\ttotal: 6m 14s\tremaining: 24m 20s\n"
     ]
    },
    {
     "name": "stdout",
     "output_type": "stream",
     "text": [
      "1040:\tlearn: 0.7836179\ttest: 0.7789927\tbest: 0.7791850 (1023)\ttotal: 6m 22s\tremaining: 24m 13s\n"
     ]
    },
    {
     "name": "stdout",
     "output_type": "stream",
     "text": [
      "1060:\tlearn: 0.7838871\ttest: 0.7789288\tbest: 0.7791850 (1023)\ttotal: 6m 29s\tremaining: 24m 5s\n"
     ]
    },
    {
     "name": "stdout",
     "output_type": "stream",
     "text": [
      "1080:\tlearn: 0.7840668\ttest: 0.7789096\tbest: 0.7791850 (1023)\ttotal: 6m 36s\tremaining: 23m 57s\n"
     ]
    },
    {
     "name": "stdout",
     "output_type": "stream",
     "text": [
      "1100:\tlearn: 0.7845316\ttest: 0.7791457\tbest: 0.7791850 (1023)\ttotal: 6m 43s\tremaining: 23m 50s\n"
     ]
    },
    {
     "name": "stdout",
     "output_type": "stream",
     "text": [
      "1120:\tlearn: 0.7847239\ttest: 0.7793627\tbest: 0.7793627 (1120)\ttotal: 6m 51s\tremaining: 23m 43s\n"
     ]
    },
    {
     "name": "stdout",
     "output_type": "stream",
     "text": [
      "1140:\tlearn: 0.7849620\ttest: 0.7792559\tbest: 0.7794574 (1135)\ttotal: 6m 58s\tremaining: 23m 36s\n"
     ]
    },
    {
     "name": "stdout",
     "output_type": "stream",
     "text": [
      "1160:\tlearn: 0.7853323\ttest: 0.7793209\tbest: 0.7794574 (1135)\ttotal: 7m 6s\tremaining: 23m 29s\n"
     ]
    },
    {
     "name": "stdout",
     "output_type": "stream",
     "text": [
      "1180:\tlearn: 0.7854132\ttest: 0.7797343\tbest: 0.7797343 (1180)\ttotal: 7m 13s\tremaining: 23m 22s\n"
     ]
    },
    {
     "name": "stdout",
     "output_type": "stream",
     "text": [
      "1200:\tlearn: 0.7857557\ttest: 0.7797774\tbest: 0.7798476 (1193)\ttotal: 7m 21s\tremaining: 23m 15s\n"
     ]
    },
    {
     "name": "stdout",
     "output_type": "stream",
     "text": [
      "1220:\tlearn: 0.7859212\ttest: 0.7799839\tbest: 0.7800690 (1209)\ttotal: 7m 28s\tremaining: 23m 7s\n"
     ]
    },
    {
     "name": "stdout",
     "output_type": "stream",
     "text": [
      "1240:\tlearn: 0.7862713\ttest: 0.7802887\tbest: 0.7802887 (1240)\ttotal: 7m 35s\tremaining: 22m 59s\n"
     ]
    },
    {
     "name": "stdout",
     "output_type": "stream",
     "text": [
      "1260:\tlearn: 0.7862948\ttest: 0.7803873\tbest: 0.7804840 (1256)\ttotal: 7m 42s\tremaining: 22m 52s\n"
     ]
    },
    {
     "name": "stdout",
     "output_type": "stream",
     "text": [
      "1280:\tlearn: 0.7864475\ttest: 0.7803408\tbest: 0.7805035 (1266)\ttotal: 7m 50s\tremaining: 22m 45s\n"
     ]
    },
    {
     "name": "stdout",
     "output_type": "stream",
     "text": [
      "1300:\tlearn: 0.7867207\ttest: 0.7802031\tbest: 0.7805151 (1284)\ttotal: 7m 57s\tremaining: 22m 37s\n"
     ]
    },
    {
     "name": "stdout",
     "output_type": "stream",
     "text": [
      "1320:\tlearn: 0.7870761\ttest: 0.7801349\tbest: 0.7805151 (1284)\ttotal: 8m 5s\tremaining: 22m 31s\n"
     ]
    },
    {
     "name": "stdout",
     "output_type": "stream",
     "text": [
      "1340:\tlearn: 0.7873211\ttest: 0.7803991\tbest: 0.7805151 (1284)\ttotal: 8m 12s\tremaining: 22m 23s\n"
     ]
    },
    {
     "name": "stdout",
     "output_type": "stream",
     "text": [
      "1360:\tlearn: 0.7874368\ttest: 0.7800783\tbest: 0.7805151 (1284)\ttotal: 8m 19s\tremaining: 22m 15s\n"
     ]
    },
    {
     "name": "stdout",
     "output_type": "stream",
     "text": [
      "1380:\tlearn: 0.7876111\ttest: 0.7802552\tbest: 0.7805151 (1284)\ttotal: 8m 26s\tremaining: 22m 8s\n"
     ]
    },
    {
     "name": "stdout",
     "output_type": "stream",
     "text": [
      "1400:\tlearn: 0.7878718\ttest: 0.7804993\tbest: 0.7805151 (1284)\ttotal: 8m 34s\tremaining: 22m 1s\n"
     ]
    },
    {
     "name": "stdout",
     "output_type": "stream",
     "text": [
      "1420:\tlearn: 0.7880721\ttest: 0.7807624\tbest: 0.7807624 (1420)\ttotal: 8m 41s\tremaining: 21m 54s\n"
     ]
    },
    {
     "name": "stdout",
     "output_type": "stream",
     "text": [
      "1440:\tlearn: 0.7883042\ttest: 0.7809604\tbest: 0.7809604 (1440)\ttotal: 8m 49s\tremaining: 21m 47s\n"
     ]
    },
    {
     "name": "stdout",
     "output_type": "stream",
     "text": [
      "1460:\tlearn: 0.7884624\ttest: 0.7810113\tbest: 0.7811343 (1458)\ttotal: 8m 56s\tremaining: 21m 40s\n"
     ]
    },
    {
     "name": "stdout",
     "output_type": "stream",
     "text": [
      "1480:\tlearn: 0.7885727\ttest: 0.7810192\tbest: 0.7811343 (1458)\ttotal: 9m 3s\tremaining: 21m 32s\n"
     ]
    },
    {
     "name": "stdout",
     "output_type": "stream",
     "text": [
      "1500:\tlearn: 0.7886502\ttest: 0.7811735\tbest: 0.7812147 (1499)\ttotal: 9m 11s\tremaining: 21m 24s\n"
     ]
    },
    {
     "name": "stdout",
     "output_type": "stream",
     "text": [
      "1520:\tlearn: 0.7887478\ttest: 0.7813477\tbest: 0.7815494 (1513)\ttotal: 9m 18s\tremaining: 21m 17s\n"
     ]
    },
    {
     "name": "stdout",
     "output_type": "stream",
     "text": [
      "1540:\tlearn: 0.7889236\ttest: 0.7815833\tbest: 0.7815975 (1534)\ttotal: 9m 25s\tremaining: 21m 9s\n"
     ]
    },
    {
     "name": "stdout",
     "output_type": "stream",
     "text": [
      "1560:\tlearn: 0.7891778\ttest: 0.7817323\tbest: 0.7817945 (1559)\ttotal: 9m 32s\tremaining: 21m 2s\n"
     ]
    },
    {
     "name": "stdout",
     "output_type": "stream",
     "text": [
      "1580:\tlearn: 0.7892553\ttest: 0.7818000\tbest: 0.7819286 (1565)\ttotal: 9m 40s\tremaining: 20m 54s\n"
     ]
    },
    {
     "name": "stdout",
     "output_type": "stream",
     "text": [
      "1600:\tlearn: 0.7894305\ttest: 0.7818480\tbest: 0.7819353 (1588)\ttotal: 9m 47s\tremaining: 20m 46s\n"
     ]
    },
    {
     "name": "stdout",
     "output_type": "stream",
     "text": [
      "1620:\tlearn: 0.7895611\ttest: 0.7820579\tbest: 0.7820915 (1610)\ttotal: 9m 54s\tremaining: 20m 40s\n"
     ]
    },
    {
     "name": "stdout",
     "output_type": "stream",
     "text": [
      "1640:\tlearn: 0.7898842\ttest: 0.7819585\tbest: 0.7821026 (1622)\ttotal: 10m 2s\tremaining: 20m 33s\n"
     ]
    },
    {
     "name": "stdout",
     "output_type": "stream",
     "text": [
      "1660:\tlearn: 0.7900198\ttest: 0.7820668\tbest: 0.7821258 (1656)\ttotal: 10m 9s\tremaining: 20m 25s\n"
     ]
    },
    {
     "name": "stdout",
     "output_type": "stream",
     "text": [
      "1680:\tlearn: 0.7901966\ttest: 0.7823623\tbest: 0.7823623 (1680)\ttotal: 10m 16s\tremaining: 20m 17s\n"
     ]
    },
    {
     "name": "stdout",
     "output_type": "stream",
     "text": [
      "1700:\tlearn: 0.7903881\ttest: 0.7821935\tbest: 0.7823623 (1680)\ttotal: 10m 23s\tremaining: 20m 9s\n"
     ]
    },
    {
     "name": "stdout",
     "output_type": "stream",
     "text": [
      "1720:\tlearn: 0.7906234\ttest: 0.7823837\tbest: 0.7823837 (1720)\ttotal: 10m 31s\tremaining: 20m 2s\n"
     ]
    },
    {
     "name": "stdout",
     "output_type": "stream",
     "text": [
      "1740:\tlearn: 0.7906895\ttest: 0.7824454\tbest: 0.7825258 (1736)\ttotal: 10m 38s\tremaining: 19m 55s\n"
     ]
    },
    {
     "name": "stdout",
     "output_type": "stream",
     "text": [
      "1760:\tlearn: 0.7909362\ttest: 0.7824300\tbest: 0.7825258 (1736)\ttotal: 10m 46s\tremaining: 19m 48s\n"
     ]
    },
    {
     "name": "stdout",
     "output_type": "stream",
     "text": [
      "1780:\tlearn: 0.7911279\ttest: 0.7825574\tbest: 0.7825574 (1780)\ttotal: 10m 53s\tremaining: 19m 40s\n"
     ]
    },
    {
     "name": "stdout",
     "output_type": "stream",
     "text": [
      "1800:\tlearn: 0.7913187\ttest: 0.7826439\tbest: 0.7827046 (1798)\ttotal: 11m\tremaining: 19m 32s\n"
     ]
    },
    {
     "name": "stdout",
     "output_type": "stream",
     "text": [
      "1820:\tlearn: 0.7914905\ttest: 0.7828351\tbest: 0.7828351 (1820)\ttotal: 11m 7s\tremaining: 19m 25s\n"
     ]
    },
    {
     "name": "stdout",
     "output_type": "stream",
     "text": [
      "1840:\tlearn: 0.7916345\ttest: 0.7831261\tbest: 0.7831463 (1839)\ttotal: 11m 14s\tremaining: 19m 17s\n"
     ]
    },
    {
     "name": "stdout",
     "output_type": "stream",
     "text": [
      "1860:\tlearn: 0.7918775\ttest: 0.7832309\tbest: 0.7832669 (1856)\ttotal: 11m 22s\tremaining: 19m 10s\n"
     ]
    },
    {
     "name": "stdout",
     "output_type": "stream",
     "text": [
      "1880:\tlearn: 0.7920345\ttest: 0.7832284\tbest: 0.7833679 (1872)\ttotal: 11m 29s\tremaining: 19m 2s\n"
     ]
    },
    {
     "name": "stdout",
     "output_type": "stream",
     "text": [
      "1900:\tlearn: 0.7920643\ttest: 0.7829547\tbest: 0.7833679 (1872)\ttotal: 11m 36s\tremaining: 18m 55s\n"
     ]
    },
    {
     "name": "stdout",
     "output_type": "stream",
     "text": [
      "1920:\tlearn: 0.7922378\ttest: 0.7829306\tbest: 0.7833679 (1872)\ttotal: 11m 43s\tremaining: 18m 47s\n"
     ]
    },
    {
     "name": "stdout",
     "output_type": "stream",
     "text": [
      "1940:\tlearn: 0.7922775\ttest: 0.7829480\tbest: 0.7833679 (1872)\ttotal: 11m 50s\tremaining: 18m 40s\n"
     ]
    },
    {
     "name": "stdout",
     "output_type": "stream",
     "text": [
      "1960:\tlearn: 0.7923112\ttest: 0.7830263\tbest: 0.7833679 (1872)\ttotal: 11m 58s\tremaining: 18m 33s\n"
     ]
    },
    {
     "name": "stdout",
     "output_type": "stream",
     "text": [
      "1980:\tlearn: 0.7924453\ttest: 0.7829804\tbest: 0.7833679 (1872)\ttotal: 12m 5s\tremaining: 18m 25s\n"
     ]
    },
    {
     "name": "stdout",
     "output_type": "stream",
     "text": [
      "2000:\tlearn: 0.7925709\ttest: 0.7829155\tbest: 0.7833679 (1872)\ttotal: 12m 12s\tremaining: 18m 18s\n"
     ]
    },
    {
     "name": "stdout",
     "output_type": "stream",
     "text": [
      "2020:\tlearn: 0.7927141\ttest: 0.7829509\tbest: 0.7833679 (1872)\ttotal: 12m 20s\tremaining: 18m 11s\n"
     ]
    },
    {
     "name": "stdout",
     "output_type": "stream",
     "text": [
      "2040:\tlearn: 0.7927057\ttest: 0.7829886\tbest: 0.7833679 (1872)\ttotal: 12m 27s\tremaining: 18m 3s\n"
     ]
    },
    {
     "name": "stdout",
     "output_type": "stream",
     "text": [
      "2060:\tlearn: 0.7926454\ttest: 0.7832997\tbest: 0.7833679 (1872)\ttotal: 12m 35s\tremaining: 17m 56s\n"
     ]
    },
    {
     "name": "stdout",
     "output_type": "stream",
     "text": [
      "2080:\tlearn: 0.7928803\ttest: 0.7832755\tbest: 0.7833935 (2073)\ttotal: 12m 42s\tremaining: 17m 49s\n"
     ]
    },
    {
     "name": "stdout",
     "output_type": "stream",
     "text": [
      "2100:\tlearn: 0.7929261\ttest: 0.7833993\tbest: 0.7836468 (2096)\ttotal: 12m 49s\tremaining: 17m 42s\n"
     ]
    },
    {
     "name": "stdout",
     "output_type": "stream",
     "text": [
      "2120:\tlearn: 0.7929304\ttest: 0.7834125\tbest: 0.7836468 (2096)\ttotal: 12m 56s\tremaining: 17m 34s\n"
     ]
    },
    {
     "name": "stdout",
     "output_type": "stream",
     "text": [
      "2140:\tlearn: 0.7930808\ttest: 0.7834879\tbest: 0.7836468 (2096)\ttotal: 13m 3s\tremaining: 17m 26s\n"
     ]
    },
    {
     "name": "stdout",
     "output_type": "stream",
     "text": [
      "2160:\tlearn: 0.7932532\ttest: 0.7833950\tbest: 0.7836468 (2096)\ttotal: 13m 10s\tremaining: 17m 19s\n"
     ]
    },
    {
     "name": "stdout",
     "output_type": "stream",
     "text": [
      "2180:\tlearn: 0.7933597\ttest: 0.7834509\tbest: 0.7836468 (2096)\ttotal: 13m 18s\tremaining: 17m 11s\n"
     ]
    },
    {
     "name": "stdout",
     "output_type": "stream",
     "text": [
      "2200:\tlearn: 0.7934087\ttest: 0.7834882\tbest: 0.7836468 (2096)\ttotal: 13m 25s\tremaining: 17m 4s\n"
     ]
    },
    {
     "name": "stdout",
     "output_type": "stream",
     "text": [
      "2220:\tlearn: 0.7935458\ttest: 0.7836913\tbest: 0.7837742 (2217)\ttotal: 13m 32s\tremaining: 16m 57s\n"
     ]
    },
    {
     "name": "stdout",
     "output_type": "stream",
     "text": [
      "2240:\tlearn: 0.7936904\ttest: 0.7837655\tbest: 0.7838668 (2233)\ttotal: 13m 40s\tremaining: 16m 50s\n"
     ]
    },
    {
     "name": "stdout",
     "output_type": "stream",
     "text": [
      "2260:\tlearn: 0.7937764\ttest: 0.7836549\tbest: 0.7838668 (2233)\ttotal: 13m 47s\tremaining: 16m 42s\n"
     ]
    },
    {
     "name": "stdout",
     "output_type": "stream",
     "text": [
      "2280:\tlearn: 0.7939229\ttest: 0.7835433\tbest: 0.7838668 (2233)\ttotal: 13m 54s\tremaining: 16m 35s\n"
     ]
    },
    {
     "name": "stdout",
     "output_type": "stream",
     "text": [
      "2300:\tlearn: 0.7940000\ttest: 0.7836805\tbest: 0.7838668 (2233)\ttotal: 14m 1s\tremaining: 16m 27s\n"
     ]
    },
    {
     "name": "stdout",
     "output_type": "stream",
     "text": [
      "2320:\tlearn: 0.7941251\ttest: 0.7835672\tbest: 0.7838668 (2233)\ttotal: 14m 9s\tremaining: 16m 20s\n"
     ]
    },
    {
     "name": "stdout",
     "output_type": "stream",
     "text": [
      "2340:\tlearn: 0.7941971\ttest: 0.7837079\tbest: 0.7838668 (2233)\ttotal: 14m 16s\tremaining: 16m 12s\n"
     ]
    },
    {
     "name": "stdout",
     "output_type": "stream",
     "text": [
      "2360:\tlearn: 0.7943424\ttest: 0.7837211\tbest: 0.7839653 (2349)\ttotal: 14m 23s\tremaining: 16m 5s\n"
     ]
    },
    {
     "name": "stdout",
     "output_type": "stream",
     "text": [
      "2380:\tlearn: 0.7943455\ttest: 0.7840287\tbest: 0.7840287 (2380)\ttotal: 14m 30s\tremaining: 15m 57s\n"
     ]
    },
    {
     "name": "stdout",
     "output_type": "stream",
     "text": [
      "2400:\tlearn: 0.7944755\ttest: 0.7840407\tbest: 0.7840407 (2400)\ttotal: 14m 38s\tremaining: 15m 50s\n"
     ]
    },
    {
     "name": "stdout",
     "output_type": "stream",
     "text": [
      "2420:\tlearn: 0.7944929\ttest: 0.7841377\tbest: 0.7841901 (2402)\ttotal: 14m 45s\tremaining: 15m 43s\n"
     ]
    },
    {
     "name": "stdout",
     "output_type": "stream",
     "text": [
      "2440:\tlearn: 0.7946264\ttest: 0.7843992\tbest: 0.7844832 (2439)\ttotal: 14m 52s\tremaining: 15m 35s\n"
     ]
    },
    {
     "name": "stdout",
     "output_type": "stream",
     "text": [
      "2460:\tlearn: 0.7947547\ttest: 0.7843895\tbest: 0.7844911 (2452)\ttotal: 15m\tremaining: 15m 28s\n"
     ]
    },
    {
     "name": "stdout",
     "output_type": "stream",
     "text": [
      "2480:\tlearn: 0.7948368\ttest: 0.7843600\tbest: 0.7844911 (2452)\ttotal: 15m 7s\tremaining: 15m 21s\n"
     ]
    },
    {
     "name": "stdout",
     "output_type": "stream",
     "text": [
      "2500:\tlearn: 0.7949928\ttest: 0.7843498\tbest: 0.7845312 (2484)\ttotal: 15m 14s\tremaining: 15m 13s\n"
     ]
    },
    {
     "name": "stdout",
     "output_type": "stream",
     "text": [
      "2520:\tlearn: 0.7950249\ttest: 0.7844220\tbest: 0.7845312 (2484)\ttotal: 15m 21s\tremaining: 15m 6s\n"
     ]
    },
    {
     "name": "stdout",
     "output_type": "stream",
     "text": [
      "2540:\tlearn: 0.7951090\ttest: 0.7845594\tbest: 0.7845594 (2540)\ttotal: 15m 29s\tremaining: 14m 59s\n"
     ]
    },
    {
     "name": "stdout",
     "output_type": "stream",
     "text": [
      "2560:\tlearn: 0.7952290\ttest: 0.7846749\tbest: 0.7846946 (2559)\ttotal: 15m 36s\tremaining: 14m 51s\n"
     ]
    },
    {
     "name": "stdout",
     "output_type": "stream",
     "text": [
      "2580:\tlearn: 0.7954624\ttest: 0.7847279\tbest: 0.7848079 (2572)\ttotal: 15m 43s\tremaining: 14m 44s\n"
     ]
    },
    {
     "name": "stdout",
     "output_type": "stream",
     "text": [
      "2600:\tlearn: 0.7955748\ttest: 0.7848448\tbest: 0.7848448 (2600)\ttotal: 15m 51s\tremaining: 14m 37s\n"
     ]
    },
    {
     "name": "stdout",
     "output_type": "stream",
     "text": [
      "2620:\tlearn: 0.7956644\ttest: 0.7848367\tbest: 0.7849590 (2612)\ttotal: 15m 58s\tremaining: 14m 29s\n"
     ]
    },
    {
     "name": "stdout",
     "output_type": "stream",
     "text": [
      "2640:\tlearn: 0.7956865\ttest: 0.7848476\tbest: 0.7849590 (2612)\ttotal: 16m 5s\tremaining: 14m 22s\n"
     ]
    },
    {
     "name": "stdout",
     "output_type": "stream",
     "text": [
      "2660:\tlearn: 0.7958198\ttest: 0.7846074\tbest: 0.7849590 (2612)\ttotal: 16m 12s\tremaining: 14m 14s\n"
     ]
    },
    {
     "name": "stdout",
     "output_type": "stream",
     "text": [
      "2680:\tlearn: 0.7958943\ttest: 0.7845962\tbest: 0.7849590 (2612)\ttotal: 16m 19s\tremaining: 14m 7s\n"
     ]
    },
    {
     "name": "stdout",
     "output_type": "stream",
     "text": [
      "2700:\tlearn: 0.7960832\ttest: 0.7846290\tbest: 0.7849590 (2612)\ttotal: 16m 27s\tremaining: 14m\n"
     ]
    },
    {
     "name": "stdout",
     "output_type": "stream",
     "text": [
      "2720:\tlearn: 0.7960617\ttest: 0.7849102\tbest: 0.7849590 (2612)\ttotal: 16m 34s\tremaining: 13m 52s\n"
     ]
    },
    {
     "name": "stdout",
     "output_type": "stream",
     "text": [
      "2740:\tlearn: 0.7961935\ttest: 0.7849198\tbest: 0.7849590 (2612)\ttotal: 16m 41s\tremaining: 13m 45s\n"
     ]
    },
    {
     "name": "stdout",
     "output_type": "stream",
     "text": [
      "2760:\tlearn: 0.7963097\ttest: 0.7849940\tbest: 0.7850143 (2758)\ttotal: 16m 48s\tremaining: 13m 38s\n"
     ]
    },
    {
     "name": "stdout",
     "output_type": "stream",
     "text": [
      "2780:\tlearn: 0.7963932\ttest: 0.7849614\tbest: 0.7850861 (2777)\ttotal: 16m 55s\tremaining: 13m 30s\n"
     ]
    },
    {
     "name": "stdout",
     "output_type": "stream",
     "text": [
      "2800:\tlearn: 0.7963932\ttest: 0.7851155\tbest: 0.7851361 (2798)\ttotal: 17m 3s\tremaining: 13m 23s\n"
     ]
    },
    {
     "name": "stdout",
     "output_type": "stream",
     "text": [
      "2820:\tlearn: 0.7964744\ttest: 0.7853338\tbest: 0.7853338 (2820)\ttotal: 17m 10s\tremaining: 13m 16s\n"
     ]
    },
    {
     "name": "stdout",
     "output_type": "stream",
     "text": [
      "2840:\tlearn: 0.7966359\ttest: 0.7854048\tbest: 0.7854048 (2840)\ttotal: 17m 17s\tremaining: 13m 8s\n"
     ]
    },
    {
     "name": "stdout",
     "output_type": "stream",
     "text": [
      "2860:\tlearn: 0.7966555\ttest: 0.7854983\tbest: 0.7855334 (2844)\ttotal: 17m 25s\tremaining: 13m 1s\n"
     ]
    },
    {
     "name": "stdout",
     "output_type": "stream",
     "text": [
      "2880:\tlearn: 0.7968292\ttest: 0.7854641\tbest: 0.7855428 (2865)\ttotal: 17m 32s\tremaining: 12m 54s\n"
     ]
    },
    {
     "name": "stdout",
     "output_type": "stream",
     "text": [
      "2900:\tlearn: 0.7969391\ttest: 0.7855583\tbest: 0.7855991 (2896)\ttotal: 17m 39s\tremaining: 12m 46s\n"
     ]
    },
    {
     "name": "stdout",
     "output_type": "stream",
     "text": [
      "2920:\tlearn: 0.7970072\ttest: 0.7856317\tbest: 0.7857362 (2919)\ttotal: 17m 46s\tremaining: 12m 39s\n"
     ]
    },
    {
     "name": "stdout",
     "output_type": "stream",
     "text": [
      "2940:\tlearn: 0.7970561\ttest: 0.7856173\tbest: 0.7857410 (2935)\ttotal: 17m 54s\tremaining: 12m 32s\n"
     ]
    },
    {
     "name": "stdout",
     "output_type": "stream",
     "text": [
      "2960:\tlearn: 0.7971237\ttest: 0.7855843\tbest: 0.7857410 (2935)\ttotal: 18m 1s\tremaining: 12m 24s\n"
     ]
    },
    {
     "name": "stdout",
     "output_type": "stream",
     "text": [
      "2980:\tlearn: 0.7972218\ttest: 0.7858258\tbest: 0.7858880 (2978)\ttotal: 18m 8s\tremaining: 12m 17s\n"
     ]
    },
    {
     "name": "stdout",
     "output_type": "stream",
     "text": [
      "3000:\tlearn: 0.7973611\ttest: 0.7858953\tbest: 0.7859160 (2999)\ttotal: 18m 15s\tremaining: 12m 10s\n"
     ]
    },
    {
     "name": "stdout",
     "output_type": "stream",
     "text": [
      "3020:\tlearn: 0.7974475\ttest: 0.7856920\tbest: 0.7859160 (2999)\ttotal: 18m 23s\tremaining: 12m 2s\n"
     ]
    },
    {
     "name": "stdout",
     "output_type": "stream",
     "text": [
      "3040:\tlearn: 0.7975641\ttest: 0.7859933\tbest: 0.7860100 (3028)\ttotal: 18m 30s\tremaining: 11m 55s\n"
     ]
    },
    {
     "name": "stdout",
     "output_type": "stream",
     "text": [
      "3060:\tlearn: 0.7976298\ttest: 0.7860433\tbest: 0.7860433 (3060)\ttotal: 18m 37s\tremaining: 11m 48s\n"
     ]
    },
    {
     "name": "stdout",
     "output_type": "stream",
     "text": [
      "3080:\tlearn: 0.7976845\ttest: 0.7861774\tbest: 0.7862565 (3068)\ttotal: 18m 45s\tremaining: 11m 40s\n"
     ]
    },
    {
     "name": "stdout",
     "output_type": "stream",
     "text": [
      "3100:\tlearn: 0.7977501\ttest: 0.7860595\tbest: 0.7862565 (3068)\ttotal: 18m 52s\tremaining: 11m 33s\n"
     ]
    },
    {
     "name": "stdout",
     "output_type": "stream",
     "text": [
      "3120:\tlearn: 0.7978532\ttest: 0.7863823\tbest: 0.7863823 (3120)\ttotal: 18m 59s\tremaining: 11m 26s\n"
     ]
    },
    {
     "name": "stdout",
     "output_type": "stream",
     "text": [
      "3140:\tlearn: 0.7979097\ttest: 0.7860758\tbest: 0.7863823 (3120)\ttotal: 19m 6s\tremaining: 11m 18s\n"
     ]
    },
    {
     "name": "stdout",
     "output_type": "stream",
     "text": [
      "3160:\tlearn: 0.7979689\ttest: 0.7863977\tbest: 0.7864606 (3159)\ttotal: 19m 14s\tremaining: 11m 11s\n"
     ]
    },
    {
     "name": "stdout",
     "output_type": "stream",
     "text": [
      "3180:\tlearn: 0.7980624\ttest: 0.7866373\tbest: 0.7866790 (3179)\ttotal: 19m 21s\tremaining: 11m 4s\n"
     ]
    },
    {
     "name": "stdout",
     "output_type": "stream",
     "text": [
      "3200:\tlearn: 0.7980634\ttest: 0.7867906\tbest: 0.7867906 (3200)\ttotal: 19m 28s\tremaining: 10m 56s\n"
     ]
    },
    {
     "name": "stdout",
     "output_type": "stream",
     "text": [
      "3220:\tlearn: 0.7981028\ttest: 0.7868393\tbest: 0.7868393 (3220)\ttotal: 19m 36s\tremaining: 10m 49s\n"
     ]
    },
    {
     "name": "stdout",
     "output_type": "stream",
     "text": [
      "3240:\tlearn: 0.7981932\ttest: 0.7868240\tbest: 0.7868605 (3221)\ttotal: 19m 43s\tremaining: 10m 42s\n"
     ]
    },
    {
     "name": "stdout",
     "output_type": "stream",
     "text": [
      "3260:\tlearn: 0.7982741\ttest: 0.7867461\tbest: 0.7868605 (3221)\ttotal: 19m 50s\tremaining: 10m 34s\n"
     ]
    },
    {
     "name": "stdout",
     "output_type": "stream",
     "text": [
      "3280:\tlearn: 0.7983455\ttest: 0.7868800\tbest: 0.7868800 (3280)\ttotal: 19m 58s\tremaining: 10m 27s\n"
     ]
    },
    {
     "name": "stdout",
     "output_type": "stream",
     "text": [
      "3300:\tlearn: 0.7984941\ttest: 0.7870359\tbest: 0.7870359 (3300)\ttotal: 20m 5s\tremaining: 10m 20s\n"
     ]
    },
    {
     "name": "stdout",
     "output_type": "stream",
     "text": [
      "3320:\tlearn: 0.7986744\ttest: 0.7870004\tbest: 0.7870624 (3318)\ttotal: 20m 12s\tremaining: 10m 12s\n"
     ]
    },
    {
     "name": "stdout",
     "output_type": "stream",
     "text": [
      "3340:\tlearn: 0.7986292\ttest: 0.7870267\tbest: 0.7870645 (3324)\ttotal: 20m 19s\tremaining: 10m 5s\n"
     ]
    },
    {
     "name": "stdout",
     "output_type": "stream",
     "text": [
      "3360:\tlearn: 0.7987317\ttest: 0.7869490\tbest: 0.7870645 (3324)\ttotal: 20m 26s\tremaining: 9m 58s\n"
     ]
    },
    {
     "name": "stdout",
     "output_type": "stream",
     "text": [
      "3380:\tlearn: 0.7988003\ttest: 0.7869751\tbest: 0.7870645 (3324)\ttotal: 20m 33s\tremaining: 9m 50s\n"
     ]
    },
    {
     "name": "stdout",
     "output_type": "stream",
     "text": [
      "3400:\tlearn: 0.7988262\ttest: 0.7869169\tbest: 0.7870645 (3324)\ttotal: 20m 40s\tremaining: 9m 43s\n"
     ]
    },
    {
     "name": "stdout",
     "output_type": "stream",
     "text": [
      "3420:\tlearn: 0.7988639\ttest: 0.7869232\tbest: 0.7870645 (3324)\ttotal: 20m 48s\tremaining: 9m 36s\n"
     ]
    },
    {
     "name": "stdout",
     "output_type": "stream",
     "text": [
      "3440:\tlearn: 0.7990237\ttest: 0.7871403\tbest: 0.7871403 (3440)\ttotal: 20m 55s\tremaining: 9m 28s\n"
     ]
    },
    {
     "name": "stdout",
     "output_type": "stream",
     "text": [
      "3460:\tlearn: 0.7990713\ttest: 0.7870214\tbest: 0.7871454 (3451)\ttotal: 21m 2s\tremaining: 9m 21s\n"
     ]
    },
    {
     "name": "stdout",
     "output_type": "stream",
     "text": [
      "3480:\tlearn: 0.7991081\ttest: 0.7870261\tbest: 0.7871454 (3451)\ttotal: 21m 9s\tremaining: 9m 14s\n"
     ]
    },
    {
     "name": "stdout",
     "output_type": "stream",
     "text": [
      "3500:\tlearn: 0.7991720\ttest: 0.7871157\tbest: 0.7871768 (3494)\ttotal: 21m 16s\tremaining: 9m 6s\n"
     ]
    },
    {
     "name": "stdout",
     "output_type": "stream",
     "text": [
      "3520:\tlearn: 0.7991938\ttest: 0.7870371\tbest: 0.7872252 (3514)\ttotal: 21m 23s\tremaining: 8m 59s\n"
     ]
    },
    {
     "name": "stdout",
     "output_type": "stream",
     "text": [
      "3540:\tlearn: 0.7993265\ttest: 0.7871283\tbest: 0.7872252 (3514)\ttotal: 21m 31s\tremaining: 8m 51s\n"
     ]
    },
    {
     "name": "stdout",
     "output_type": "stream",
     "text": [
      "3560:\tlearn: 0.7994660\ttest: 0.7872603\tbest: 0.7872603 (3560)\ttotal: 21m 38s\tremaining: 8m 44s\n"
     ]
    },
    {
     "name": "stdout",
     "output_type": "stream",
     "text": [
      "3580:\tlearn: 0.7995404\ttest: 0.7873085\tbest: 0.7873274 (3576)\ttotal: 21m 45s\tremaining: 8m 37s\n"
     ]
    },
    {
     "name": "stdout",
     "output_type": "stream",
     "text": [
      "3600:\tlearn: 0.7996054\ttest: 0.7870417\tbest: 0.7873274 (3576)\ttotal: 21m 52s\tremaining: 8m 29s\n"
     ]
    },
    {
     "name": "stdout",
     "output_type": "stream",
     "text": [
      "3620:\tlearn: 0.7996636\ttest: 0.7870462\tbest: 0.7873274 (3576)\ttotal: 21m 59s\tremaining: 8m 22s\n"
     ]
    },
    {
     "name": "stdout",
     "output_type": "stream",
     "text": [
      "3640:\tlearn: 0.7997486\ttest: 0.7868232\tbest: 0.7873274 (3576)\ttotal: 22m 7s\tremaining: 8m 15s\n"
     ]
    },
    {
     "name": "stdout",
     "output_type": "stream",
     "text": [
      "3660:\tlearn: 0.7998606\ttest: 0.7868516\tbest: 0.7873274 (3576)\ttotal: 22m 14s\tremaining: 8m 8s\n"
     ]
    },
    {
     "name": "stdout",
     "output_type": "stream",
     "text": [
      "3680:\tlearn: 0.7999549\ttest: 0.7871937\tbest: 0.7873274 (3576)\ttotal: 22m 21s\tremaining: 8m\n"
     ]
    },
    {
     "name": "stdout",
     "output_type": "stream",
     "text": [
      "3700:\tlearn: 0.8000280\ttest: 0.7872197\tbest: 0.7873274 (3576)\ttotal: 22m 28s\tremaining: 7m 53s\n"
     ]
    },
    {
     "name": "stdout",
     "output_type": "stream",
     "text": [
      "3720:\tlearn: 0.8000969\ttest: 0.7872674\tbest: 0.7873274 (3576)\ttotal: 22m 36s\tremaining: 7m 46s\n"
     ]
    },
    {
     "name": "stdout",
     "output_type": "stream",
     "text": [
      "3740:\tlearn: 0.8001807\ttest: 0.7872924\tbest: 0.7873274 (3576)\ttotal: 22m 43s\tremaining: 7m 38s\n"
     ]
    },
    {
     "name": "stdout",
     "output_type": "stream",
     "text": [
      "3760:\tlearn: 0.8002182\ttest: 0.7873625\tbest: 0.7874035 (3758)\ttotal: 22m 50s\tremaining: 7m 31s\n"
     ]
    },
    {
     "name": "stdout",
     "output_type": "stream",
     "text": [
      "3780:\tlearn: 0.8005203\ttest: 0.7873267\tbest: 0.7874519 (3777)\ttotal: 22m 57s\tremaining: 7m 24s\n"
     ]
    },
    {
     "name": "stdout",
     "output_type": "stream",
     "text": [
      "3800:\tlearn: 0.8005408\ttest: 0.7873743\tbest: 0.7874744 (3781)\ttotal: 23m 5s\tremaining: 7m 17s\n"
     ]
    },
    {
     "name": "stdout",
     "output_type": "stream",
     "text": [
      "3820:\tlearn: 0.8005889\ttest: 0.7873595\tbest: 0.7874744 (3781)\ttotal: 23m 12s\tremaining: 7m 9s\n"
     ]
    },
    {
     "name": "stdout",
     "output_type": "stream",
     "text": [
      "3840:\tlearn: 0.8006028\ttest: 0.7875111\tbest: 0.7876358 (3833)\ttotal: 23m 19s\tremaining: 7m 2s\n"
     ]
    },
    {
     "name": "stdout",
     "output_type": "stream",
     "text": [
      "3860:\tlearn: 0.8005921\ttest: 0.7875156\tbest: 0.7876358 (3833)\ttotal: 23m 27s\tremaining: 6m 55s\n"
     ]
    },
    {
     "name": "stdout",
     "output_type": "stream",
     "text": [
      "3880:\tlearn: 0.8006453\ttest: 0.7876043\tbest: 0.7876883 (3879)\ttotal: 23m 34s\tremaining: 6m 47s\n"
     ]
    },
    {
     "name": "stdout",
     "output_type": "stream",
     "text": [
      "3900:\tlearn: 0.8007336\ttest: 0.7875456\tbest: 0.7876886 (3882)\ttotal: 23m 41s\tremaining: 6m 40s\n"
     ]
    },
    {
     "name": "stdout",
     "output_type": "stream",
     "text": [
      "3920:\tlearn: 0.8007373\ttest: 0.7874441\tbest: 0.7876886 (3882)\ttotal: 23m 48s\tremaining: 6m 33s\n"
     ]
    },
    {
     "name": "stdout",
     "output_type": "stream",
     "text": [
      "3940:\tlearn: 0.8008255\ttest: 0.7875749\tbest: 0.7876886 (3882)\ttotal: 23m 55s\tremaining: 6m 25s\n"
     ]
    },
    {
     "name": "stdout",
     "output_type": "stream",
     "text": [
      "3960:\tlearn: 0.8009518\ttest: 0.7874132\tbest: 0.7876886 (3882)\ttotal: 24m 3s\tremaining: 6m 18s\n"
     ]
    },
    {
     "name": "stdout",
     "output_type": "stream",
     "text": [
      "3980:\tlearn: 0.8010301\ttest: 0.7875866\tbest: 0.7876886 (3882)\ttotal: 24m 10s\tremaining: 6m 11s\n"
     ]
    },
    {
     "name": "stdout",
     "output_type": "stream",
     "text": [
      "4000:\tlearn: 0.8011714\ttest: 0.7875925\tbest: 0.7876886 (3882)\ttotal: 24m 17s\tremaining: 6m 3s\n"
     ]
    },
    {
     "name": "stdout",
     "output_type": "stream",
     "text": [
      "4020:\tlearn: 0.8012153\ttest: 0.7874517\tbest: 0.7876886 (3882)\ttotal: 24m 24s\tremaining: 5m 56s\n"
     ]
    },
    {
     "name": "stdout",
     "output_type": "stream",
     "text": [
      "4040:\tlearn: 0.8013466\ttest: 0.7876043\tbest: 0.7876886 (3882)\ttotal: 24m 31s\tremaining: 5m 49s\n"
     ]
    },
    {
     "name": "stdout",
     "output_type": "stream",
     "text": [
      "4060:\tlearn: 0.8013620\ttest: 0.7872524\tbest: 0.7876886 (3882)\ttotal: 24m 38s\tremaining: 5m 41s\n"
     ]
    },
    {
     "name": "stdout",
     "output_type": "stream",
     "text": [
      "4080:\tlearn: 0.8013307\ttest: 0.7874045\tbest: 0.7876886 (3882)\ttotal: 24m 46s\tremaining: 5m 34s\n"
     ]
    },
    {
     "name": "stdout",
     "output_type": "stream",
     "text": [
      "4100:\tlearn: 0.8014971\ttest: 0.7875339\tbest: 0.7876886 (3882)\ttotal: 24m 53s\tremaining: 5m 27s\n"
     ]
    },
    {
     "name": "stdout",
     "output_type": "stream",
     "text": [
      "4120:\tlearn: 0.8015236\ttest: 0.7875822\tbest: 0.7876886 (3882)\ttotal: 25m\tremaining: 5m 20s\n"
     ]
    },
    {
     "name": "stdout",
     "output_type": "stream",
     "text": [
      "4140:\tlearn: 0.8015545\ttest: 0.7874604\tbest: 0.7876889 (4125)\ttotal: 25m 7s\tremaining: 5m 12s\n"
     ]
    },
    {
     "name": "stdout",
     "output_type": "stream",
     "text": [
      "4160:\tlearn: 0.8016378\ttest: 0.7875091\tbest: 0.7876889 (4125)\ttotal: 25m 15s\tremaining: 5m 5s\n"
     ]
    },
    {
     "name": "stdout",
     "output_type": "stream",
     "text": [
      "4180:\tlearn: 0.8017234\ttest: 0.7876011\tbest: 0.7876889 (4125)\ttotal: 25m 22s\tremaining: 4m 58s\n"
     ]
    },
    {
     "name": "stdout",
     "output_type": "stream",
     "text": [
      "4200:\tlearn: 0.8018022\ttest: 0.7876477\tbest: 0.7876889 (4125)\ttotal: 25m 29s\tremaining: 4m 50s\n"
     ]
    },
    {
     "name": "stdout",
     "output_type": "stream",
     "text": [
      "4220:\tlearn: 0.8018751\ttest: 0.7878420\tbest: 0.7878420 (4220)\ttotal: 25m 36s\tremaining: 4m 43s\n"
     ]
    },
    {
     "name": "stdout",
     "output_type": "stream",
     "text": [
      "4240:\tlearn: 0.8018701\ttest: 0.7876576\tbest: 0.7878633 (4221)\ttotal: 25m 43s\tremaining: 4m 36s\n"
     ]
    },
    {
     "name": "stdout",
     "output_type": "stream",
     "text": [
      "4260:\tlearn: 0.8019371\ttest: 0.7877456\tbest: 0.7878920 (4255)\ttotal: 25m 50s\tremaining: 4m 28s\n"
     ]
    },
    {
     "name": "stdout",
     "output_type": "stream",
     "text": [
      "4280:\tlearn: 0.8020112\ttest: 0.7875397\tbest: 0.7878920 (4255)\ttotal: 25m 58s\tremaining: 4m 21s\n"
     ]
    },
    {
     "name": "stdout",
     "output_type": "stream",
     "text": [
      "4300:\tlearn: 0.8020356\ttest: 0.7876076\tbest: 0.7878920 (4255)\ttotal: 26m 5s\tremaining: 4m 14s\n"
     ]
    },
    {
     "name": "stdout",
     "output_type": "stream",
     "text": [
      "4320:\tlearn: 0.8021342\ttest: 0.7876120\tbest: 0.7878920 (4255)\ttotal: 26m 13s\tremaining: 4m 7s\n"
     ]
    },
    {
     "name": "stdout",
     "output_type": "stream",
     "text": [
      "4340:\tlearn: 0.8021742\ttest: 0.7876592\tbest: 0.7878920 (4255)\ttotal: 26m 20s\tremaining: 3m 59s\n"
     ]
    },
    {
     "name": "stdout",
     "output_type": "stream",
     "text": [
      "4360:\tlearn: 0.8022662\ttest: 0.7876839\tbest: 0.7878920 (4255)\ttotal: 26m 27s\tremaining: 3m 52s\n"
     ]
    },
    {
     "name": "stdout",
     "output_type": "stream",
     "text": [
      "4380:\tlearn: 0.8024024\ttest: 0.7876471\tbest: 0.7878920 (4255)\ttotal: 26m 34s\tremaining: 3m 45s\n"
     ]
    },
    {
     "name": "stdout",
     "output_type": "stream",
     "text": [
      "4400:\tlearn: 0.8024753\ttest: 0.7876732\tbest: 0.7878920 (4255)\ttotal: 26m 41s\tremaining: 3m 37s\n"
     ]
    },
    {
     "name": "stdout",
     "output_type": "stream",
     "text": [
      "4420:\tlearn: 0.8024684\ttest: 0.7876989\tbest: 0.7878920 (4255)\ttotal: 26m 48s\tremaining: 3m 30s\n"
     ]
    },
    {
     "name": "stdout",
     "output_type": "stream",
     "text": [
      "4440:\tlearn: 0.8025659\ttest: 0.7877031\tbest: 0.7878920 (4255)\ttotal: 26m 55s\tremaining: 3m 23s\n"
     ]
    },
    {
     "name": "stdout",
     "output_type": "stream",
     "text": [
      "4460:\tlearn: 0.8026839\ttest: 0.7876012\tbest: 0.7878920 (4255)\ttotal: 27m 3s\tremaining: 3m 16s\n"
     ]
    },
    {
     "name": "stdout",
     "output_type": "stream",
     "text": [
      "4480:\tlearn: 0.8026972\ttest: 0.7877307\tbest: 0.7878920 (4255)\ttotal: 27m 10s\tremaining: 3m 8s\n"
     ]
    },
    {
     "name": "stdout",
     "output_type": "stream",
     "text": [
      "4500:\tlearn: 0.8027372\ttest: 0.7877129\tbest: 0.7878920 (4255)\ttotal: 27m 17s\tremaining: 3m 1s\n"
     ]
    },
    {
     "name": "stdout",
     "output_type": "stream",
     "text": [
      "4520:\tlearn: 0.8027513\ttest: 0.7876318\tbest: 0.7878920 (4255)\ttotal: 27m 24s\tremaining: 2m 54s\n"
     ]
    },
    {
     "name": "stdout",
     "output_type": "stream",
     "text": [
      "4540:\tlearn: 0.8027658\ttest: 0.7877408\tbest: 0.7878920 (4255)\ttotal: 27m 32s\tremaining: 2m 47s\n"
     ]
    },
    {
     "name": "stdout",
     "output_type": "stream",
     "text": [
      "Stopped by overfitting detector  (300 iterations wait)\n",
      "\n",
      "bestTest = 0.787892015\n",
      "bestIteration = 4255\n",
      "\n",
      "Shrink model to first 4256 iterations.\n"
     ]
    },
    {
     "name": "stdout",
     "output_type": "stream",
     "text": [
      "######################################## training model 3/5 ########################################\n"
     ]
    },
    {
     "name": "stdout",
     "output_type": "stream",
     "text": [
      "0:\tlearn: 0.6459626\ttest: 0.6453642\tbest: 0.6453642 (0)\ttotal: 710ms\tremaining: 59m 7s\n"
     ]
    },
    {
     "name": "stdout",
     "output_type": "stream",
     "text": [
      "20:\tlearn: 0.7309146\ttest: 0.7255215\tbest: 0.7255215 (20)\ttotal: 7.87s\tremaining: 31m 5s\n"
     ]
    },
    {
     "name": "stdout",
     "output_type": "stream",
     "text": [
      "40:\tlearn: 0.7374490\ttest: 0.7304074\tbest: 0.7304074 (40)\ttotal: 15.1s\tremaining: 30m 22s\n"
     ]
    },
    {
     "name": "stdout",
     "output_type": "stream",
     "text": [
      "60:\tlearn: 0.7417156\ttest: 0.7348260\tbest: 0.7348260 (60)\ttotal: 22.4s\tremaining: 30m 10s\n"
     ]
    },
    {
     "name": "stdout",
     "output_type": "stream",
     "text": [
      "80:\tlearn: 0.7448865\ttest: 0.7374489\tbest: 0.7376138 (79)\ttotal: 29.9s\tremaining: 30m 13s\n"
     ]
    },
    {
     "name": "stdout",
     "output_type": "stream",
     "text": [
      "100:\tlearn: 0.7485495\ttest: 0.7409715\tbest: 0.7410738 (99)\ttotal: 37.2s\tremaining: 30m 3s\n"
     ]
    },
    {
     "name": "stdout",
     "output_type": "stream",
     "text": [
      "120:\tlearn: 0.7515291\ttest: 0.7444693\tbest: 0.7444693 (120)\ttotal: 44.6s\tremaining: 30m\n"
     ]
    },
    {
     "name": "stdout",
     "output_type": "stream",
     "text": [
      "140:\tlearn: 0.7540592\ttest: 0.7469652\tbest: 0.7469652 (140)\ttotal: 52.1s\tremaining: 29m 53s\n"
     ]
    },
    {
     "name": "stdout",
     "output_type": "stream",
     "text": [
      "160:\tlearn: 0.7566855\ttest: 0.7496384\tbest: 0.7496763 (158)\ttotal: 59.5s\tremaining: 29m 49s\n"
     ]
    },
    {
     "name": "stdout",
     "output_type": "stream",
     "text": [
      "180:\tlearn: 0.7588673\ttest: 0.7521681\tbest: 0.7522200 (179)\ttotal: 1m 6s\tremaining: 29m 36s\n"
     ]
    },
    {
     "name": "stdout",
     "output_type": "stream",
     "text": [
      "200:\tlearn: 0.7605848\ttest: 0.7546052\tbest: 0.7546052 (200)\ttotal: 1m 13s\tremaining: 29m 21s\n"
     ]
    },
    {
     "name": "stdout",
     "output_type": "stream",
     "text": [
      "220:\tlearn: 0.7621184\ttest: 0.7567064\tbest: 0.7567064 (220)\ttotal: 1m 21s\tremaining: 29m 13s\n"
     ]
    },
    {
     "name": "stdout",
     "output_type": "stream",
     "text": [
      "240:\tlearn: 0.7636913\ttest: 0.7577308\tbest: 0.7577355 (239)\ttotal: 1m 28s\tremaining: 28m 58s\n"
     ]
    },
    {
     "name": "stdout",
     "output_type": "stream",
     "text": [
      "260:\tlearn: 0.7649677\ttest: 0.7591207\tbest: 0.7591896 (259)\ttotal: 1m 35s\tremaining: 28m 52s\n"
     ]
    },
    {
     "name": "stdout",
     "output_type": "stream",
     "text": [
      "280:\tlearn: 0.7659579\ttest: 0.7604469\tbest: 0.7604469 (280)\ttotal: 1m 42s\tremaining: 28m 47s\n"
     ]
    },
    {
     "name": "stdout",
     "output_type": "stream",
     "text": [
      "300:\tlearn: 0.7669429\ttest: 0.7615148\tbest: 0.7615148 (300)\ttotal: 1m 49s\tremaining: 28m 36s\n"
     ]
    },
    {
     "name": "stdout",
     "output_type": "stream",
     "text": [
      "320:\tlearn: 0.7677903\ttest: 0.7623219\tbest: 0.7624587 (319)\ttotal: 1m 57s\tremaining: 28m 27s\n"
     ]
    },
    {
     "name": "stdout",
     "output_type": "stream",
     "text": [
      "340:\tlearn: 0.7685870\ttest: 0.7630787\tbest: 0.7632381 (339)\ttotal: 2m 4s\tremaining: 28m 22s\n"
     ]
    },
    {
     "name": "stdout",
     "output_type": "stream",
     "text": [
      "360:\tlearn: 0.7693611\ttest: 0.7640677\tbest: 0.7644158 (359)\ttotal: 2m 11s\tremaining: 28m 14s\n"
     ]
    },
    {
     "name": "stdout",
     "output_type": "stream",
     "text": [
      "380:\tlearn: 0.7702068\ttest: 0.7645633\tbest: 0.7647497 (373)\ttotal: 2m 19s\tremaining: 28m 6s\n"
     ]
    },
    {
     "name": "stdout",
     "output_type": "stream",
     "text": [
      "400:\tlearn: 0.7709889\ttest: 0.7651813\tbest: 0.7651813 (400)\ttotal: 2m 26s\tremaining: 27m 59s\n"
     ]
    },
    {
     "name": "stdout",
     "output_type": "stream",
     "text": [
      "420:\tlearn: 0.7718496\ttest: 0.7656849\tbest: 0.7656849 (420)\ttotal: 2m 33s\tremaining: 27m 52s\n"
     ]
    },
    {
     "name": "stdout",
     "output_type": "stream",
     "text": [
      "440:\tlearn: 0.7722839\ttest: 0.7662387\tbest: 0.7663581 (439)\ttotal: 2m 41s\tremaining: 27m 45s\n"
     ]
    },
    {
     "name": "stdout",
     "output_type": "stream",
     "text": [
      "460:\tlearn: 0.7728224\ttest: 0.7670459\tbest: 0.7670459 (460)\ttotal: 2m 48s\tremaining: 27m 36s\n"
     ]
    },
    {
     "name": "stdout",
     "output_type": "stream",
     "text": [
      "480:\tlearn: 0.7733258\ttest: 0.7678413\tbest: 0.7678413 (480)\ttotal: 2m 55s\tremaining: 27m 31s\n"
     ]
    },
    {
     "name": "stdout",
     "output_type": "stream",
     "text": [
      "500:\tlearn: 0.7738493\ttest: 0.7681079\tbest: 0.7681671 (499)\ttotal: 3m 3s\tremaining: 27m 25s\n"
     ]
    },
    {
     "name": "stdout",
     "output_type": "stream",
     "text": [
      "520:\tlearn: 0.7742863\ttest: 0.7688759\tbest: 0.7688759 (520)\ttotal: 3m 10s\tremaining: 27m 17s\n"
     ]
    },
    {
     "name": "stdout",
     "output_type": "stream",
     "text": [
      "540:\tlearn: 0.7748465\ttest: 0.7691998\tbest: 0.7691998 (540)\ttotal: 3m 17s\tremaining: 27m 9s\n"
     ]
    },
    {
     "name": "stdout",
     "output_type": "stream",
     "text": [
      "560:\tlearn: 0.7752669\ttest: 0.7692152\tbest: 0.7694210 (555)\ttotal: 3m 25s\tremaining: 27m 2s\n"
     ]
    },
    {
     "name": "stdout",
     "output_type": "stream",
     "text": [
      "580:\tlearn: 0.7758332\ttest: 0.7693553\tbest: 0.7694210 (555)\ttotal: 3m 32s\tremaining: 26m 55s\n"
     ]
    },
    {
     "name": "stdout",
     "output_type": "stream",
     "text": [
      "600:\tlearn: 0.7764316\ttest: 0.7698836\tbest: 0.7700828 (597)\ttotal: 3m 39s\tremaining: 26m 49s\n"
     ]
    },
    {
     "name": "stdout",
     "output_type": "stream",
     "text": [
      "620:\tlearn: 0.7768806\ttest: 0.7704121\tbest: 0.7705536 (611)\ttotal: 3m 47s\tremaining: 26m 42s\n"
     ]
    },
    {
     "name": "stdout",
     "output_type": "stream",
     "text": [
      "640:\tlearn: 0.7772789\ttest: 0.7706969\tbest: 0.7707756 (639)\ttotal: 3m 54s\tremaining: 26m 35s\n"
     ]
    },
    {
     "name": "stdout",
     "output_type": "stream",
     "text": [
      "660:\tlearn: 0.7777284\ttest: 0.7714376\tbest: 0.7714952 (659)\ttotal: 4m 1s\tremaining: 26m 26s\n"
     ]
    },
    {
     "name": "stdout",
     "output_type": "stream",
     "text": [
      "680:\tlearn: 0.7781544\ttest: 0.7717861\tbest: 0.7717861 (680)\ttotal: 4m 9s\tremaining: 26m 19s\n"
     ]
    },
    {
     "name": "stdout",
     "output_type": "stream",
     "text": [
      "700:\tlearn: 0.7784901\ttest: 0.7722137\tbest: 0.7724809 (693)\ttotal: 4m 16s\tremaining: 26m 13s\n"
     ]
    },
    {
     "name": "stdout",
     "output_type": "stream",
     "text": [
      "720:\tlearn: 0.7787918\ttest: 0.7725919\tbest: 0.7727209 (710)\ttotal: 4m 23s\tremaining: 26m 6s\n"
     ]
    },
    {
     "name": "stdout",
     "output_type": "stream",
     "text": [
      "740:\tlearn: 0.7792531\ttest: 0.7731022\tbest: 0.7731022 (740)\ttotal: 4m 31s\tremaining: 25m 59s\n"
     ]
    },
    {
     "name": "stdout",
     "output_type": "stream",
     "text": [
      "760:\tlearn: 0.7797055\ttest: 0.7731486\tbest: 0.7733438 (742)\ttotal: 4m 38s\tremaining: 25m 51s\n"
     ]
    },
    {
     "name": "stdout",
     "output_type": "stream",
     "text": [
      "780:\tlearn: 0.7798484\ttest: 0.7730443\tbest: 0.7733502 (763)\ttotal: 4m 45s\tremaining: 25m 44s\n"
     ]
    },
    {
     "name": "stdout",
     "output_type": "stream",
     "text": [
      "800:\tlearn: 0.7801926\ttest: 0.7735272\tbest: 0.7735272 (800)\ttotal: 4m 52s\tremaining: 25m 35s\n"
     ]
    },
    {
     "name": "stdout",
     "output_type": "stream",
     "text": [
      "820:\tlearn: 0.7805251\ttest: 0.7737484\tbest: 0.7738214 (817)\ttotal: 5m\tremaining: 25m 28s\n"
     ]
    },
    {
     "name": "stdout",
     "output_type": "stream",
     "text": [
      "840:\tlearn: 0.7807835\ttest: 0.7740076\tbest: 0.7742654 (836)\ttotal: 5m 7s\tremaining: 25m 21s\n"
     ]
    },
    {
     "name": "stdout",
     "output_type": "stream",
     "text": [
      "860:\tlearn: 0.7811673\ttest: 0.7746489\tbest: 0.7746489 (860)\ttotal: 5m 15s\tremaining: 25m 14s\n"
     ]
    },
    {
     "name": "stdout",
     "output_type": "stream",
     "text": [
      "880:\tlearn: 0.7814815\ttest: 0.7751817\tbest: 0.7751817 (880)\ttotal: 5m 22s\tremaining: 25m 7s\n"
     ]
    },
    {
     "name": "stdout",
     "output_type": "stream",
     "text": [
      "900:\tlearn: 0.7817767\ttest: 0.7754427\tbest: 0.7754427 (900)\ttotal: 5m 29s\tremaining: 25m\n"
     ]
    },
    {
     "name": "stdout",
     "output_type": "stream",
     "text": [
      "920:\tlearn: 0.7819519\ttest: 0.7760101\tbest: 0.7760101 (920)\ttotal: 5m 36s\tremaining: 24m 52s\n"
     ]
    },
    {
     "name": "stdout",
     "output_type": "stream",
     "text": [
      "940:\tlearn: 0.7821477\ttest: 0.7765654\tbest: 0.7765654 (940)\ttotal: 5m 44s\tremaining: 24m 45s\n"
     ]
    },
    {
     "name": "stdout",
     "output_type": "stream",
     "text": [
      "960:\tlearn: 0.7824966\ttest: 0.7767577\tbest: 0.7767577 (960)\ttotal: 5m 51s\tremaining: 24m 38s\n"
     ]
    },
    {
     "name": "stdout",
     "output_type": "stream",
     "text": [
      "980:\tlearn: 0.7826521\ttest: 0.7766264\tbest: 0.7768552 (964)\ttotal: 5m 59s\tremaining: 24m 31s\n"
     ]
    },
    {
     "name": "stdout",
     "output_type": "stream",
     "text": [
      "1000:\tlearn: 0.7828659\ttest: 0.7770158\tbest: 0.7770158 (1000)\ttotal: 6m 6s\tremaining: 24m 24s\n"
     ]
    },
    {
     "name": "stdout",
     "output_type": "stream",
     "text": [
      "1020:\tlearn: 0.7832040\ttest: 0.7772623\tbest: 0.7772623 (1020)\ttotal: 6m 13s\tremaining: 24m 16s\n"
     ]
    },
    {
     "name": "stdout",
     "output_type": "stream",
     "text": [
      "1040:\tlearn: 0.7833769\ttest: 0.7771122\tbest: 0.7773028 (1026)\ttotal: 6m 20s\tremaining: 24m 7s\n"
     ]
    },
    {
     "name": "stdout",
     "output_type": "stream",
     "text": [
      "1060:\tlearn: 0.7836120\ttest: 0.7776259\tbest: 0.7777402 (1055)\ttotal: 6m 28s\tremaining: 24m\n"
     ]
    },
    {
     "name": "stdout",
     "output_type": "stream",
     "text": [
      "1080:\tlearn: 0.7839518\ttest: 0.7780293\tbest: 0.7780293 (1080)\ttotal: 6m 35s\tremaining: 23m 53s\n"
     ]
    },
    {
     "name": "stdout",
     "output_type": "stream",
     "text": [
      "1100:\tlearn: 0.7843711\ttest: 0.7780580\tbest: 0.7781559 (1097)\ttotal: 6m 42s\tremaining: 23m 46s\n"
     ]
    },
    {
     "name": "stdout",
     "output_type": "stream",
     "text": [
      "1120:\tlearn: 0.7844997\ttest: 0.7781317\tbest: 0.7781756 (1104)\ttotal: 6m 50s\tremaining: 23m 40s\n"
     ]
    },
    {
     "name": "stdout",
     "output_type": "stream",
     "text": [
      "1140:\tlearn: 0.7847068\ttest: 0.7782176\tbest: 0.7783102 (1134)\ttotal: 6m 57s\tremaining: 23m 32s\n"
     ]
    },
    {
     "name": "stdout",
     "output_type": "stream",
     "text": [
      "1160:\tlearn: 0.7847735\ttest: 0.7785154\tbest: 0.7786350 (1157)\ttotal: 7m 4s\tremaining: 23m 24s\n"
     ]
    },
    {
     "name": "stdout",
     "output_type": "stream",
     "text": [
      "1180:\tlearn: 0.7850074\ttest: 0.7788363\tbest: 0.7789820 (1179)\ttotal: 7m 12s\tremaining: 23m 17s\n"
     ]
    },
    {
     "name": "stdout",
     "output_type": "stream",
     "text": [
      "1200:\tlearn: 0.7853294\ttest: 0.7789661\tbest: 0.7791267 (1186)\ttotal: 7m 19s\tremaining: 23m 10s\n"
     ]
    },
    {
     "name": "stdout",
     "output_type": "stream",
     "text": [
      "1220:\tlearn: 0.7854875\ttest: 0.7790488\tbest: 0.7791267 (1186)\ttotal: 7m 26s\tremaining: 23m 2s\n"
     ]
    },
    {
     "name": "stdout",
     "output_type": "stream",
     "text": [
      "1240:\tlearn: 0.7857712\ttest: 0.7794130\tbest: 0.7794130 (1240)\ttotal: 7m 34s\tremaining: 22m 55s\n"
     ]
    },
    {
     "name": "stdout",
     "output_type": "stream",
     "text": [
      "1260:\tlearn: 0.7861080\ttest: 0.7794397\tbest: 0.7795021 (1242)\ttotal: 7m 41s\tremaining: 22m 48s\n"
     ]
    },
    {
     "name": "stdout",
     "output_type": "stream",
     "text": [
      "1280:\tlearn: 0.7863032\ttest: 0.7798387\tbest: 0.7798759 (1276)\ttotal: 7m 48s\tremaining: 22m 40s\n"
     ]
    },
    {
     "name": "stdout",
     "output_type": "stream",
     "text": [
      "1300:\tlearn: 0.7864666\ttest: 0.7803297\tbest: 0.7803297 (1300)\ttotal: 7m 56s\tremaining: 22m 33s\n"
     ]
    },
    {
     "name": "stdout",
     "output_type": "stream",
     "text": [
      "1320:\tlearn: 0.7867197\ttest: 0.7805338\tbest: 0.7805338 (1320)\ttotal: 8m 3s\tremaining: 22m 25s\n"
     ]
    },
    {
     "name": "stdout",
     "output_type": "stream",
     "text": [
      "1340:\tlearn: 0.7870236\ttest: 0.7807211\tbest: 0.7807379 (1338)\ttotal: 8m 10s\tremaining: 22m 18s\n"
     ]
    },
    {
     "name": "stdout",
     "output_type": "stream",
     "text": [
      "1360:\tlearn: 0.7871065\ttest: 0.7808842\tbest: 0.7809393 (1354)\ttotal: 8m 18s\tremaining: 22m 11s\n"
     ]
    },
    {
     "name": "stdout",
     "output_type": "stream",
     "text": [
      "1380:\tlearn: 0.7873268\ttest: 0.7808808\tbest: 0.7809393 (1354)\ttotal: 8m 25s\tremaining: 22m 4s\n"
     ]
    },
    {
     "name": "stdout",
     "output_type": "stream",
     "text": [
      "1400:\tlearn: 0.7875136\ttest: 0.7811068\tbest: 0.7812104 (1399)\ttotal: 8m 32s\tremaining: 21m 56s\n"
     ]
    },
    {
     "name": "stdout",
     "output_type": "stream",
     "text": [
      "1420:\tlearn: 0.7876695\ttest: 0.7811255\tbest: 0.7812276 (1419)\ttotal: 8m 40s\tremaining: 21m 50s\n"
     ]
    },
    {
     "name": "stdout",
     "output_type": "stream",
     "text": [
      "1440:\tlearn: 0.7877522\ttest: 0.7813536\tbest: 0.7814125 (1438)\ttotal: 8m 47s\tremaining: 21m 43s\n"
     ]
    },
    {
     "name": "stdout",
     "output_type": "stream",
     "text": [
      "1460:\tlearn: 0.7879981\ttest: 0.7814296\tbest: 0.7815133 (1447)\ttotal: 8m 54s\tremaining: 21m 35s\n"
     ]
    },
    {
     "name": "stdout",
     "output_type": "stream",
     "text": [
      "1480:\tlearn: 0.7881586\ttest: 0.7814434\tbest: 0.7815888 (1466)\ttotal: 9m 2s\tremaining: 21m 28s\n"
     ]
    },
    {
     "name": "stdout",
     "output_type": "stream",
     "text": [
      "1500:\tlearn: 0.7884369\ttest: 0.7814348\tbest: 0.7815888 (1466)\ttotal: 9m 9s\tremaining: 21m 20s\n"
     ]
    },
    {
     "name": "stdout",
     "output_type": "stream",
     "text": [
      "1520:\tlearn: 0.7885562\ttest: 0.7817385\tbest: 0.7817385 (1520)\ttotal: 9m 16s\tremaining: 21m 12s\n"
     ]
    },
    {
     "name": "stdout",
     "output_type": "stream",
     "text": [
      "1540:\tlearn: 0.7888318\ttest: 0.7817690\tbest: 0.7818723 (1539)\ttotal: 9m 23s\tremaining: 21m 5s\n"
     ]
    },
    {
     "name": "stdout",
     "output_type": "stream",
     "text": [
      "1560:\tlearn: 0.7889722\ttest: 0.7815882\tbest: 0.7818723 (1539)\ttotal: 9m 31s\tremaining: 20m 58s\n"
     ]
    },
    {
     "name": "stdout",
     "output_type": "stream",
     "text": [
      "1580:\tlearn: 0.7891292\ttest: 0.7819097\tbest: 0.7819688 (1577)\ttotal: 9m 38s\tremaining: 20m 51s\n"
     ]
    },
    {
     "name": "stdout",
     "output_type": "stream",
     "text": [
      "1600:\tlearn: 0.7894084\ttest: 0.7819982\tbest: 0.7820397 (1599)\ttotal: 9m 45s\tremaining: 20m 43s\n"
     ]
    },
    {
     "name": "stdout",
     "output_type": "stream",
     "text": [
      "1620:\tlearn: 0.7897234\ttest: 0.7820263\tbest: 0.7821082 (1618)\ttotal: 9m 53s\tremaining: 20m 36s\n"
     ]
    },
    {
     "name": "stdout",
     "output_type": "stream",
     "text": [
      "1640:\tlearn: 0.7898099\ttest: 0.7822201\tbest: 0.7822201 (1640)\ttotal: 10m\tremaining: 20m 29s\n"
     ]
    },
    {
     "name": "stdout",
     "output_type": "stream",
     "text": [
      "1660:\tlearn: 0.7900094\ttest: 0.7822697\tbest: 0.7822697 (1660)\ttotal: 10m 7s\tremaining: 20m 21s\n"
     ]
    },
    {
     "name": "stdout",
     "output_type": "stream",
     "text": [
      "1680:\tlearn: 0.7901926\ttest: 0.7821721\tbest: 0.7824006 (1664)\ttotal: 10m 14s\tremaining: 20m 13s\n"
     ]
    },
    {
     "name": "stdout",
     "output_type": "stream",
     "text": [
      "1700:\tlearn: 0.7902666\ttest: 0.7821750\tbest: 0.7824006 (1664)\ttotal: 10m 21s\tremaining: 20m 6s\n"
     ]
    },
    {
     "name": "stdout",
     "output_type": "stream",
     "text": [
      "1720:\tlearn: 0.7904035\ttest: 0.7821130\tbest: 0.7824006 (1664)\ttotal: 10m 29s\tremaining: 19m 58s\n"
     ]
    },
    {
     "name": "stdout",
     "output_type": "stream",
     "text": [
      "1740:\tlearn: 0.7905013\ttest: 0.7822424\tbest: 0.7824006 (1664)\ttotal: 10m 36s\tremaining: 19m 51s\n"
     ]
    },
    {
     "name": "stdout",
     "output_type": "stream",
     "text": [
      "1760:\tlearn: 0.7906422\ttest: 0.7824584\tbest: 0.7825326 (1752)\ttotal: 10m 43s\tremaining: 19m 44s\n"
     ]
    },
    {
     "name": "stdout",
     "output_type": "stream",
     "text": [
      "1780:\tlearn: 0.7909401\ttest: 0.7825054\tbest: 0.7826474 (1775)\ttotal: 10m 51s\tremaining: 19m 37s\n"
     ]
    },
    {
     "name": "stdout",
     "output_type": "stream",
     "text": [
      "1800:\tlearn: 0.7911342\ttest: 0.7824423\tbest: 0.7826474 (1775)\ttotal: 10m 58s\tremaining: 19m 29s\n"
     ]
    },
    {
     "name": "stdout",
     "output_type": "stream",
     "text": [
      "1820:\tlearn: 0.7913466\ttest: 0.7824266\tbest: 0.7826474 (1775)\ttotal: 11m 5s\tremaining: 19m 22s\n"
     ]
    },
    {
     "name": "stdout",
     "output_type": "stream",
     "text": [
      "1840:\tlearn: 0.7914292\ttest: 0.7824921\tbest: 0.7826474 (1775)\ttotal: 11m 13s\tremaining: 19m 14s\n"
     ]
    },
    {
     "name": "stdout",
     "output_type": "stream",
     "text": [
      "1860:\tlearn: 0.7914445\ttest: 0.7825116\tbest: 0.7826474 (1775)\ttotal: 11m 20s\tremaining: 19m 7s\n"
     ]
    },
    {
     "name": "stdout",
     "output_type": "stream",
     "text": [
      "1880:\tlearn: 0.7914851\ttest: 0.7826139\tbest: 0.7826534 (1877)\ttotal: 11m 27s\tremaining: 19m\n"
     ]
    },
    {
     "name": "stdout",
     "output_type": "stream",
     "text": [
      "1900:\tlearn: 0.7916423\ttest: 0.7825929\tbest: 0.7826534 (1877)\ttotal: 11m 35s\tremaining: 18m 53s\n"
     ]
    },
    {
     "name": "stdout",
     "output_type": "stream",
     "text": [
      "1920:\tlearn: 0.7917633\ttest: 0.7828069\tbest: 0.7828208 (1915)\ttotal: 11m 42s\tremaining: 18m 45s\n"
     ]
    },
    {
     "name": "stdout",
     "output_type": "stream",
     "text": [
      "1940:\tlearn: 0.7919550\ttest: 0.7831629\tbest: 0.7831629 (1940)\ttotal: 11m 49s\tremaining: 18m 38s\n"
     ]
    },
    {
     "name": "stdout",
     "output_type": "stream",
     "text": [
      "1960:\tlearn: 0.7920413\ttest: 0.7830962\tbest: 0.7832282 (1943)\ttotal: 11m 56s\tremaining: 18m 31s\n"
     ]
    },
    {
     "name": "stdout",
     "output_type": "stream",
     "text": [
      "1980:\tlearn: 0.7921398\ttest: 0.7832835\tbest: 0.7832835 (1980)\ttotal: 12m 4s\tremaining: 18m 23s\n"
     ]
    },
    {
     "name": "stdout",
     "output_type": "stream",
     "text": [
      "2000:\tlearn: 0.7923228\ttest: 0.7834307\tbest: 0.7834869 (1995)\ttotal: 12m 11s\tremaining: 18m 16s\n"
     ]
    },
    {
     "name": "stdout",
     "output_type": "stream",
     "text": [
      "2020:\tlearn: 0.7924019\ttest: 0.7833219\tbest: 0.7834869 (1995)\ttotal: 12m 18s\tremaining: 18m 8s\n"
     ]
    },
    {
     "name": "stdout",
     "output_type": "stream",
     "text": [
      "2040:\tlearn: 0.7926073\ttest: 0.7834879\tbest: 0.7835081 (2039)\ttotal: 12m 25s\tremaining: 18m 1s\n"
     ]
    },
    {
     "name": "stdout",
     "output_type": "stream",
     "text": [
      "2060:\tlearn: 0.7927319\ttest: 0.7835287\tbest: 0.7836433 (2052)\ttotal: 12m 33s\tremaining: 17m 54s\n"
     ]
    },
    {
     "name": "stdout",
     "output_type": "stream",
     "text": [
      "2080:\tlearn: 0.7928984\ttest: 0.7837393\tbest: 0.7837393 (2080)\ttotal: 12m 40s\tremaining: 17m 46s\n"
     ]
    },
    {
     "name": "stdout",
     "output_type": "stream",
     "text": [
      "2100:\tlearn: 0.7929585\ttest: 0.7837759\tbest: 0.7838771 (2095)\ttotal: 12m 47s\tremaining: 17m 39s\n"
     ]
    },
    {
     "name": "stdout",
     "output_type": "stream",
     "text": [
      "2120:\tlearn: 0.7931367\ttest: 0.7838335\tbest: 0.7839272 (2103)\ttotal: 12m 55s\tremaining: 17m 32s\n"
     ]
    },
    {
     "name": "stdout",
     "output_type": "stream",
     "text": [
      "2140:\tlearn: 0.7931511\ttest: 0.7839569\tbest: 0.7840187 (2139)\ttotal: 13m 2s\tremaining: 17m 24s\n"
     ]
    },
    {
     "name": "stdout",
     "output_type": "stream",
     "text": [
      "2160:\tlearn: 0.7932703\ttest: 0.7839939\tbest: 0.7840187 (2139)\ttotal: 13m 9s\tremaining: 17m 16s\n"
     ]
    },
    {
     "name": "stdout",
     "output_type": "stream",
     "text": [
      "2180:\tlearn: 0.7933643\ttest: 0.7839905\tbest: 0.7840447 (2170)\ttotal: 13m 16s\tremaining: 17m 9s\n"
     ]
    },
    {
     "name": "stdout",
     "output_type": "stream",
     "text": [
      "2200:\tlearn: 0.7933987\ttest: 0.7841775\tbest: 0.7843163 (2192)\ttotal: 13m 24s\tremaining: 17m 2s\n"
     ]
    },
    {
     "name": "stdout",
     "output_type": "stream",
     "text": [
      "2220:\tlearn: 0.7935926\ttest: 0.7843420\tbest: 0.7843420 (2220)\ttotal: 13m 31s\tremaining: 16m 55s\n"
     ]
    },
    {
     "name": "stdout",
     "output_type": "stream",
     "text": [
      "2240:\tlearn: 0.7937003\ttest: 0.7846083\tbest: 0.7846285 (2238)\ttotal: 13m 38s\tremaining: 16m 47s\n"
     ]
    },
    {
     "name": "stdout",
     "output_type": "stream",
     "text": [
      "2260:\tlearn: 0.7938050\ttest: 0.7846244\tbest: 0.7846524 (2242)\ttotal: 13m 45s\tremaining: 16m 40s\n"
     ]
    },
    {
     "name": "stdout",
     "output_type": "stream",
     "text": [
      "2280:\tlearn: 0.7939778\ttest: 0.7848079\tbest: 0.7848079 (2280)\ttotal: 13m 53s\tremaining: 16m 33s\n"
     ]
    },
    {
     "name": "stdout",
     "output_type": "stream",
     "text": [
      "2300:\tlearn: 0.7940739\ttest: 0.7847799\tbest: 0.7848088 (2282)\ttotal: 14m\tremaining: 16m 25s\n"
     ]
    },
    {
     "name": "stdout",
     "output_type": "stream",
     "text": [
      "2320:\tlearn: 0.7941675\ttest: 0.7848175\tbest: 0.7848175 (2320)\ttotal: 14m 7s\tremaining: 16m 18s\n"
     ]
    },
    {
     "name": "stdout",
     "output_type": "stream",
     "text": [
      "2340:\tlearn: 0.7942287\ttest: 0.7849167\tbest: 0.7850096 (2327)\ttotal: 14m 14s\tremaining: 16m 11s\n"
     ]
    },
    {
     "name": "stdout",
     "output_type": "stream",
     "text": [
      "2360:\tlearn: 0.7942152\ttest: 0.7848874\tbest: 0.7850096 (2327)\ttotal: 14m 22s\tremaining: 16m 3s\n"
     ]
    },
    {
     "name": "stdout",
     "output_type": "stream",
     "text": [
      "2380:\tlearn: 0.7945018\ttest: 0.7849646\tbest: 0.7850415 (2370)\ttotal: 14m 29s\tremaining: 15m 56s\n"
     ]
    },
    {
     "name": "stdout",
     "output_type": "stream",
     "text": [
      "2400:\tlearn: 0.7945460\ttest: 0.7849585\tbest: 0.7850415 (2370)\ttotal: 14m 37s\tremaining: 15m 49s\n"
     ]
    },
    {
     "name": "stdout",
     "output_type": "stream",
     "text": [
      "2420:\tlearn: 0.7946769\ttest: 0.7850150\tbest: 0.7850923 (2410)\ttotal: 14m 44s\tremaining: 15m 42s\n"
     ]
    },
    {
     "name": "stdout",
     "output_type": "stream",
     "text": [
      "2440:\tlearn: 0.7946953\ttest: 0.7848825\tbest: 0.7850923 (2410)\ttotal: 14m 51s\tremaining: 15m 34s\n"
     ]
    },
    {
     "name": "stdout",
     "output_type": "stream",
     "text": [
      "2460:\tlearn: 0.7948375\ttest: 0.7849373\tbest: 0.7850923 (2410)\ttotal: 14m 58s\tremaining: 15m 27s\n"
     ]
    },
    {
     "name": "stdout",
     "output_type": "stream",
     "text": [
      "2480:\tlearn: 0.7948756\ttest: 0.7849504\tbest: 0.7850923 (2410)\ttotal: 15m 5s\tremaining: 15m 19s\n"
     ]
    },
    {
     "name": "stdout",
     "output_type": "stream",
     "text": [
      "2500:\tlearn: 0.7950064\ttest: 0.7851505\tbest: 0.7851505 (2500)\ttotal: 15m 13s\tremaining: 15m 12s\n"
     ]
    },
    {
     "name": "stdout",
     "output_type": "stream",
     "text": [
      "2520:\tlearn: 0.7950472\ttest: 0.7852687\tbest: 0.7852687 (2520)\ttotal: 15m 20s\tremaining: 15m 5s\n"
     ]
    },
    {
     "name": "stdout",
     "output_type": "stream",
     "text": [
      "2540:\tlearn: 0.7951213\ttest: 0.7852803\tbest: 0.7853204 (2536)\ttotal: 15m 27s\tremaining: 14m 57s\n"
     ]
    },
    {
     "name": "stdout",
     "output_type": "stream",
     "text": [
      "2560:\tlearn: 0.7951801\ttest: 0.7852506\tbest: 0.7853204 (2536)\ttotal: 15m 35s\tremaining: 14m 50s\n"
     ]
    },
    {
     "name": "stdout",
     "output_type": "stream",
     "text": [
      "2580:\tlearn: 0.7952606\ttest: 0.7851999\tbest: 0.7853204 (2536)\ttotal: 15m 42s\tremaining: 14m 43s\n"
     ]
    },
    {
     "name": "stdout",
     "output_type": "stream",
     "text": [
      "2600:\tlearn: 0.7953372\ttest: 0.7854454\tbest: 0.7855051 (2598)\ttotal: 15m 49s\tremaining: 14m 36s\n"
     ]
    },
    {
     "name": "stdout",
     "output_type": "stream",
     "text": [
      "2620:\tlearn: 0.7953735\ttest: 0.7854779\tbest: 0.7855051 (2598)\ttotal: 15m 57s\tremaining: 14m 28s\n"
     ]
    },
    {
     "name": "stdout",
     "output_type": "stream",
     "text": [
      "2640:\tlearn: 0.7955218\ttest: 0.7854688\tbest: 0.7855051 (2598)\ttotal: 16m 4s\tremaining: 14m 21s\n"
     ]
    },
    {
     "name": "stdout",
     "output_type": "stream",
     "text": [
      "2660:\tlearn: 0.7955902\ttest: 0.7853938\tbest: 0.7855051 (2598)\ttotal: 16m 11s\tremaining: 14m 14s\n"
     ]
    },
    {
     "name": "stdout",
     "output_type": "stream",
     "text": [
      "2680:\tlearn: 0.7957308\ttest: 0.7853200\tbest: 0.7855051 (2598)\ttotal: 16m 18s\tremaining: 14m 6s\n"
     ]
    },
    {
     "name": "stdout",
     "output_type": "stream",
     "text": [
      "2700:\tlearn: 0.7957529\ttest: 0.7854171\tbest: 0.7855051 (2598)\ttotal: 16m 26s\tremaining: 13m 59s\n"
     ]
    },
    {
     "name": "stdout",
     "output_type": "stream",
     "text": [
      "2720:\tlearn: 0.7958788\ttest: 0.7853452\tbest: 0.7855258 (2707)\ttotal: 16m 33s\tremaining: 13m 51s\n"
     ]
    },
    {
     "name": "stdout",
     "output_type": "stream",
     "text": [
      "2740:\tlearn: 0.7959771\ttest: 0.7852296\tbest: 0.7855258 (2707)\ttotal: 16m 40s\tremaining: 13m 44s\n"
     ]
    },
    {
     "name": "stdout",
     "output_type": "stream",
     "text": [
      "2760:\tlearn: 0.7959492\ttest: 0.7852414\tbest: 0.7855258 (2707)\ttotal: 16m 48s\tremaining: 13m 37s\n"
     ]
    },
    {
     "name": "stdout",
     "output_type": "stream",
     "text": [
      "2780:\tlearn: 0.7960532\ttest: 0.7852111\tbest: 0.7855258 (2707)\ttotal: 16m 55s\tremaining: 13m 30s\n"
     ]
    },
    {
     "name": "stdout",
     "output_type": "stream",
     "text": [
      "2800:\tlearn: 0.7961971\ttest: 0.7851755\tbest: 0.7855258 (2707)\ttotal: 17m 2s\tremaining: 13m 22s\n"
     ]
    },
    {
     "name": "stdout",
     "output_type": "stream",
     "text": [
      "2820:\tlearn: 0.7963186\ttest: 0.7851029\tbest: 0.7855258 (2707)\ttotal: 17m 9s\tremaining: 13m 15s\n"
     ]
    },
    {
     "name": "stdout",
     "output_type": "stream",
     "text": [
      "2840:\tlearn: 0.7964644\ttest: 0.7851957\tbest: 0.7855258 (2707)\ttotal: 17m 17s\tremaining: 13m 8s\n"
     ]
    },
    {
     "name": "stdout",
     "output_type": "stream",
     "text": [
      "2860:\tlearn: 0.7965219\ttest: 0.7853753\tbest: 0.7855258 (2707)\ttotal: 17m 24s\tremaining: 13m 1s\n"
     ]
    },
    {
     "name": "stdout",
     "output_type": "stream",
     "text": [
      "2880:\tlearn: 0.7965876\ttest: 0.7853402\tbest: 0.7855258 (2707)\ttotal: 17m 31s\tremaining: 12m 53s\n"
     ]
    },
    {
     "name": "stdout",
     "output_type": "stream",
     "text": [
      "2900:\tlearn: 0.7966102\ttest: 0.7854738\tbest: 0.7855258 (2707)\ttotal: 17m 38s\tremaining: 12m 46s\n"
     ]
    },
    {
     "name": "stdout",
     "output_type": "stream",
     "text": [
      "2920:\tlearn: 0.7967488\ttest: 0.7855035\tbest: 0.7855442 (2917)\ttotal: 17m 46s\tremaining: 12m 38s\n"
     ]
    },
    {
     "name": "stdout",
     "output_type": "stream",
     "text": [
      "2940:\tlearn: 0.7968553\ttest: 0.7855784\tbest: 0.7856202 (2939)\ttotal: 17m 53s\tremaining: 12m 31s\n"
     ]
    },
    {
     "name": "stdout",
     "output_type": "stream",
     "text": [
      "2960:\tlearn: 0.7969515\ttest: 0.7856282\tbest: 0.7856886 (2953)\ttotal: 18m 1s\tremaining: 12m 24s\n"
     ]
    },
    {
     "name": "stdout",
     "output_type": "stream",
     "text": [
      "2980:\tlearn: 0.7969699\ttest: 0.7855931\tbest: 0.7857980 (2968)\ttotal: 18m 8s\tremaining: 12m 17s\n"
     ]
    },
    {
     "name": "stdout",
     "output_type": "stream",
     "text": [
      "3000:\tlearn: 0.7970909\ttest: 0.7858144\tbest: 0.7858144 (3000)\ttotal: 18m 15s\tremaining: 12m 9s\n"
     ]
    },
    {
     "name": "stdout",
     "output_type": "stream",
     "text": [
      "3020:\tlearn: 0.7971548\ttest: 0.7858879\tbest: 0.7859667 (3012)\ttotal: 18m 23s\tremaining: 12m 2s\n"
     ]
    },
    {
     "name": "stdout",
     "output_type": "stream",
     "text": [
      "3040:\tlearn: 0.7973837\ttest: 0.7858518\tbest: 0.7859667 (3012)\ttotal: 18m 30s\tremaining: 11m 55s\n"
     ]
    },
    {
     "name": "stdout",
     "output_type": "stream",
     "text": [
      "3060:\tlearn: 0.7973635\ttest: 0.7859627\tbest: 0.7859835 (3057)\ttotal: 18m 36s\tremaining: 11m 47s\n"
     ]
    },
    {
     "name": "stdout",
     "output_type": "stream",
     "text": [
      "3080:\tlearn: 0.7974666\ttest: 0.7858227\tbest: 0.7859902 (3077)\ttotal: 18m 44s\tremaining: 11m 40s\n"
     ]
    },
    {
     "name": "stdout",
     "output_type": "stream",
     "text": [
      "3100:\tlearn: 0.7975361\ttest: 0.7858548\tbest: 0.7861038 (3092)\ttotal: 18m 50s\tremaining: 11m 32s\n"
     ]
    },
    {
     "name": "stdout",
     "output_type": "stream",
     "text": [
      "3120:\tlearn: 0.7977033\ttest: 0.7859897\tbest: 0.7861038 (3092)\ttotal: 18m 58s\tremaining: 11m 25s\n"
     ]
    },
    {
     "name": "stdout",
     "output_type": "stream",
     "text": [
      "3140:\tlearn: 0.7977323\ttest: 0.7861246\tbest: 0.7861246 (3140)\ttotal: 19m 5s\tremaining: 11m 17s\n"
     ]
    },
    {
     "name": "stdout",
     "output_type": "stream",
     "text": [
      "3160:\tlearn: 0.7978821\ttest: 0.7860484\tbest: 0.7861680 (3142)\ttotal: 19m 12s\tremaining: 11m 10s\n"
     ]
    },
    {
     "name": "stdout",
     "output_type": "stream",
     "text": [
      "3180:\tlearn: 0.7980099\ttest: 0.7861384\tbest: 0.7862210 (3176)\ttotal: 19m 19s\tremaining: 11m 3s\n"
     ]
    },
    {
     "name": "stdout",
     "output_type": "stream",
     "text": [
      "3200:\tlearn: 0.7981216\ttest: 0.7862310\tbest: 0.7862903 (3190)\ttotal: 19m 26s\tremaining: 10m 55s\n"
     ]
    },
    {
     "name": "stdout",
     "output_type": "stream",
     "text": [
      "3220:\tlearn: 0.7981454\ttest: 0.7862609\tbest: 0.7863230 (3218)\ttotal: 19m 34s\tremaining: 10m 48s\n"
     ]
    },
    {
     "name": "stdout",
     "output_type": "stream",
     "text": [
      "3240:\tlearn: 0.7982695\ttest: 0.7863960\tbest: 0.7863960 (3240)\ttotal: 19m 41s\tremaining: 10m 41s\n"
     ]
    },
    {
     "name": "stdout",
     "output_type": "stream",
     "text": [
      "3260:\tlearn: 0.7982876\ttest: 0.7865516\tbest: 0.7865927 (3258)\ttotal: 19m 48s\tremaining: 10m 33s\n"
     ]
    },
    {
     "name": "stdout",
     "output_type": "stream",
     "text": [
      "3280:\tlearn: 0.7984088\ttest: 0.7864967\tbest: 0.7865927 (3258)\ttotal: 19m 56s\tremaining: 10m 26s\n"
     ]
    },
    {
     "name": "stdout",
     "output_type": "stream",
     "text": [
      "3300:\tlearn: 0.7984467\ttest: 0.7865032\tbest: 0.7865927 (3258)\ttotal: 20m 3s\tremaining: 10m 19s\n"
     ]
    },
    {
     "name": "stdout",
     "output_type": "stream",
     "text": [
      "3320:\tlearn: 0.7985582\ttest: 0.7864901\tbest: 0.7866145 (3318)\ttotal: 20m 10s\tremaining: 10m 12s\n"
     ]
    },
    {
     "name": "stdout",
     "output_type": "stream",
     "text": [
      "3340:\tlearn: 0.7987607\ttest: 0.7866256\tbest: 0.7866669 (3339)\ttotal: 20m 18s\tremaining: 10m 4s\n"
     ]
    },
    {
     "name": "stdout",
     "output_type": "stream",
     "text": [
      "3360:\tlearn: 0.7988099\ttest: 0.7865286\tbest: 0.7866722 (3349)\ttotal: 20m 25s\tremaining: 9m 57s\n"
     ]
    },
    {
     "name": "stdout",
     "output_type": "stream",
     "text": [
      "3380:\tlearn: 0.7988957\ttest: 0.7865785\tbest: 0.7866722 (3349)\ttotal: 20m 32s\tremaining: 9m 50s\n"
     ]
    },
    {
     "name": "stdout",
     "output_type": "stream",
     "text": [
      "3400:\tlearn: 0.7990073\ttest: 0.7866484\tbest: 0.7867096 (3395)\ttotal: 20m 40s\tremaining: 9m 43s\n"
     ]
    },
    {
     "name": "stdout",
     "output_type": "stream",
     "text": [
      "3420:\tlearn: 0.7990548\ttest: 0.7866133\tbest: 0.7867096 (3395)\ttotal: 20m 47s\tremaining: 9m 35s\n"
     ]
    },
    {
     "name": "stdout",
     "output_type": "stream",
     "text": [
      "3440:\tlearn: 0.7991701\ttest: 0.7866620\tbest: 0.7867096 (3395)\ttotal: 20m 54s\tremaining: 9m 28s\n"
     ]
    },
    {
     "name": "stdout",
     "output_type": "stream",
     "text": [
      "3460:\tlearn: 0.7991926\ttest: 0.7866910\tbest: 0.7867096 (3395)\ttotal: 21m 1s\tremaining: 9m 21s\n"
     ]
    },
    {
     "name": "stdout",
     "output_type": "stream",
     "text": [
      "3480:\tlearn: 0.7991990\ttest: 0.7868035\tbest: 0.7868035 (3480)\ttotal: 21m 9s\tremaining: 9m 13s\n"
     ]
    },
    {
     "name": "stdout",
     "output_type": "stream",
     "text": [
      "3500:\tlearn: 0.7991478\ttest: 0.7868108\tbest: 0.7868523 (3498)\ttotal: 21m 16s\tremaining: 9m 6s\n"
     ]
    },
    {
     "name": "stdout",
     "output_type": "stream",
     "text": [
      "3520:\tlearn: 0.7992702\ttest: 0.7867528\tbest: 0.7868523 (3498)\ttotal: 21m 23s\tremaining: 8m 59s\n"
     ]
    },
    {
     "name": "stdout",
     "output_type": "stream",
     "text": [
      "3540:\tlearn: 0.7994207\ttest: 0.7868646\tbest: 0.7868646 (3540)\ttotal: 21m 30s\tremaining: 8m 51s\n"
     ]
    },
    {
     "name": "stdout",
     "output_type": "stream",
     "text": [
      "3560:\tlearn: 0.7995225\ttest: 0.7869137\tbest: 0.7869137 (3560)\ttotal: 21m 38s\tremaining: 8m 44s\n"
     ]
    },
    {
     "name": "stdout",
     "output_type": "stream",
     "text": [
      "3580:\tlearn: 0.7995769\ttest: 0.7869620\tbest: 0.7870859 (3575)\ttotal: 21m 45s\tremaining: 8m 37s\n"
     ]
    },
    {
     "name": "stdout",
     "output_type": "stream",
     "text": [
      "3600:\tlearn: 0.7995519\ttest: 0.7869255\tbest: 0.7870859 (3575)\ttotal: 21m 52s\tremaining: 8m 29s\n"
     ]
    },
    {
     "name": "stdout",
     "output_type": "stream",
     "text": [
      "3620:\tlearn: 0.7995434\ttest: 0.7868056\tbest: 0.7870859 (3575)\ttotal: 21m 59s\tremaining: 8m 22s\n"
     ]
    },
    {
     "name": "stdout",
     "output_type": "stream",
     "text": [
      "3640:\tlearn: 0.7996263\ttest: 0.7869376\tbest: 0.7870859 (3575)\ttotal: 22m 7s\tremaining: 8m 15s\n"
     ]
    },
    {
     "name": "stdout",
     "output_type": "stream",
     "text": [
      "3660:\tlearn: 0.7996888\ttest: 0.7869018\tbest: 0.7870859 (3575)\ttotal: 22m 14s\tremaining: 8m 8s\n"
     ]
    },
    {
     "name": "stdout",
     "output_type": "stream",
     "text": [
      "3680:\tlearn: 0.7997937\ttest: 0.7869097\tbest: 0.7870859 (3575)\ttotal: 22m 21s\tremaining: 8m\n"
     ]
    },
    {
     "name": "stdout",
     "output_type": "stream",
     "text": [
      "3700:\tlearn: 0.7999682\ttest: 0.7868334\tbest: 0.7870859 (3575)\ttotal: 22m 28s\tremaining: 7m 53s\n"
     ]
    },
    {
     "name": "stdout",
     "output_type": "stream",
     "text": [
      "3720:\tlearn: 0.8000264\ttest: 0.7868615\tbest: 0.7870859 (3575)\ttotal: 22m 35s\tremaining: 7m 46s\n"
     ]
    },
    {
     "name": "stdout",
     "output_type": "stream",
     "text": [
      "3740:\tlearn: 0.8001628\ttest: 0.7868057\tbest: 0.7870859 (3575)\ttotal: 22m 42s\tremaining: 7m 38s\n"
     ]
    },
    {
     "name": "stdout",
     "output_type": "stream",
     "text": [
      "3760:\tlearn: 0.8002103\ttest: 0.7868947\tbest: 0.7870859 (3575)\ttotal: 22m 49s\tremaining: 7m 31s\n"
     ]
    },
    {
     "name": "stdout",
     "output_type": "stream",
     "text": [
      "3780:\tlearn: 0.8003217\ttest: 0.7870275\tbest: 0.7870859 (3575)\ttotal: 22m 57s\tremaining: 7m 24s\n"
     ]
    },
    {
     "name": "stdout",
     "output_type": "stream",
     "text": [
      "3800:\tlearn: 0.8003581\ttest: 0.7868850\tbest: 0.7871568 (3793)\ttotal: 23m 4s\tremaining: 7m 16s\n"
     ]
    },
    {
     "name": "stdout",
     "output_type": "stream",
     "text": [
      "3820:\tlearn: 0.8004369\ttest: 0.7867859\tbest: 0.7871568 (3793)\ttotal: 23m 11s\tremaining: 7m 9s\n"
     ]
    },
    {
     "name": "stdout",
     "output_type": "stream",
     "text": [
      "3840:\tlearn: 0.8004519\ttest: 0.7867925\tbest: 0.7871568 (3793)\ttotal: 23m 19s\tremaining: 7m 2s\n"
     ]
    },
    {
     "name": "stdout",
     "output_type": "stream",
     "text": [
      "3860:\tlearn: 0.8005039\ttest: 0.7868827\tbest: 0.7871568 (3793)\ttotal: 23m 26s\tremaining: 6m 54s\n"
     ]
    },
    {
     "name": "stdout",
     "output_type": "stream",
     "text": [
      "3880:\tlearn: 0.8006933\ttest: 0.7872444\tbest: 0.7872860 (3879)\ttotal: 23m 33s\tremaining: 6m 47s\n"
     ]
    },
    {
     "name": "stdout",
     "output_type": "stream",
     "text": [
      "3900:\tlearn: 0.8008450\ttest: 0.7872075\tbest: 0.7873091 (3883)\ttotal: 23m 40s\tremaining: 6m 40s\n"
     ]
    },
    {
     "name": "stdout",
     "output_type": "stream",
     "text": [
      "3920:\tlearn: 0.8008005\ttest: 0.7871490\tbest: 0.7873091 (3883)\ttotal: 23m 48s\tremaining: 6m 32s\n"
     ]
    },
    {
     "name": "stdout",
     "output_type": "stream",
     "text": [
      "3940:\tlearn: 0.8008618\ttest: 0.7871135\tbest: 0.7873091 (3883)\ttotal: 23m 55s\tremaining: 6m 25s\n"
     ]
    },
    {
     "name": "stdout",
     "output_type": "stream",
     "text": [
      "3960:\tlearn: 0.8009981\ttest: 0.7870353\tbest: 0.7873091 (3883)\ttotal: 24m 2s\tremaining: 6m 18s\n"
     ]
    },
    {
     "name": "stdout",
     "output_type": "stream",
     "text": [
      "3980:\tlearn: 0.8010861\ttest: 0.7870832\tbest: 0.7873091 (3883)\ttotal: 24m 10s\tremaining: 6m 11s\n"
     ]
    },
    {
     "name": "stdout",
     "output_type": "stream",
     "text": [
      "4000:\tlearn: 0.8011380\ttest: 0.7872150\tbest: 0.7873091 (3883)\ttotal: 24m 17s\tremaining: 6m 3s\n"
     ]
    },
    {
     "name": "stdout",
     "output_type": "stream",
     "text": [
      "4020:\tlearn: 0.8012258\ttest: 0.7871775\tbest: 0.7873091 (3883)\ttotal: 24m 24s\tremaining: 5m 56s\n"
     ]
    },
    {
     "name": "stdout",
     "output_type": "stream",
     "text": [
      "4040:\tlearn: 0.8013343\ttest: 0.7872876\tbest: 0.7873293 (4038)\ttotal: 24m 31s\tremaining: 5m 49s\n"
     ]
    },
    {
     "name": "stdout",
     "output_type": "stream",
     "text": [
      "4060:\tlearn: 0.8014332\ttest: 0.7873769\tbest: 0.7873976 (4058)\ttotal: 24m 38s\tremaining: 5m 41s\n"
     ]
    },
    {
     "name": "stdout",
     "output_type": "stream",
     "text": [
      "4080:\tlearn: 0.8015266\ttest: 0.7873618\tbest: 0.7873996 (4066)\ttotal: 24m 46s\tremaining: 5m 34s\n"
     ]
    },
    {
     "name": "stdout",
     "output_type": "stream",
     "text": [
      "4100:\tlearn: 0.8015569\ttest: 0.7873451\tbest: 0.7874687 (4089)\ttotal: 24m 53s\tremaining: 5m 27s\n"
     ]
    },
    {
     "name": "stdout",
     "output_type": "stream",
     "text": [
      "4120:\tlearn: 0.8016192\ttest: 0.7873072\tbest: 0.7874742 (4110)\ttotal: 25m\tremaining: 5m 20s\n"
     ]
    },
    {
     "name": "stdout",
     "output_type": "stream",
     "text": [
      "4140:\tlearn: 0.8016190\ttest: 0.7872920\tbest: 0.7874742 (4110)\ttotal: 25m 7s\tremaining: 5m 12s\n"
     ]
    },
    {
     "name": "stdout",
     "output_type": "stream",
     "text": [
      "4160:\tlearn: 0.8016664\ttest: 0.7872994\tbest: 0.7874742 (4110)\ttotal: 25m 15s\tremaining: 5m 5s\n"
     ]
    },
    {
     "name": "stdout",
     "output_type": "stream",
     "text": [
      "4180:\tlearn: 0.8017395\ttest: 0.7872020\tbest: 0.7874742 (4110)\ttotal: 25m 22s\tremaining: 4m 58s\n"
     ]
    },
    {
     "name": "stdout",
     "output_type": "stream",
     "text": [
      "4200:\tlearn: 0.8018745\ttest: 0.7874379\tbest: 0.7874742 (4110)\ttotal: 25m 29s\tremaining: 4m 50s\n"
     ]
    },
    {
     "name": "stdout",
     "output_type": "stream",
     "text": [
      "4220:\tlearn: 0.8019105\ttest: 0.7873167\tbest: 0.7874742 (4110)\ttotal: 25m 36s\tremaining: 4m 43s\n"
     ]
    },
    {
     "name": "stdout",
     "output_type": "stream",
     "text": [
      "4240:\tlearn: 0.8019780\ttest: 0.7873642\tbest: 0.7874742 (4110)\ttotal: 25m 43s\tremaining: 4m 36s\n"
     ]
    },
    {
     "name": "stdout",
     "output_type": "stream",
     "text": [
      "4260:\tlearn: 0.8019989\ttest: 0.7873707\tbest: 0.7875345 (4249)\ttotal: 25m 51s\tremaining: 4m 29s\n"
     ]
    },
    {
     "name": "stdout",
     "output_type": "stream",
     "text": [
      "4280:\tlearn: 0.8020512\ttest: 0.7876082\tbest: 0.7876082 (4280)\ttotal: 25m 58s\tremaining: 4m 21s\n"
     ]
    },
    {
     "name": "stdout",
     "output_type": "stream",
     "text": [
      "4300:\tlearn: 0.8021382\ttest: 0.7876140\tbest: 0.7876531 (4291)\ttotal: 26m 5s\tremaining: 4m 14s\n"
     ]
    },
    {
     "name": "stdout",
     "output_type": "stream",
     "text": [
      "4320:\tlearn: 0.8022739\ttest: 0.7876618\tbest: 0.7877648 (4313)\ttotal: 26m 12s\tremaining: 4m 7s\n"
     ]
    },
    {
     "name": "stdout",
     "output_type": "stream",
     "text": [
      "4340:\tlearn: 0.8022920\ttest: 0.7877305\tbest: 0.7877648 (4313)\ttotal: 26m 20s\tremaining: 3m 59s\n"
     ]
    },
    {
     "name": "stdout",
     "output_type": "stream",
     "text": [
      "4360:\tlearn: 0.8024019\ttest: 0.7877784\tbest: 0.7878405 (4354)\ttotal: 26m 27s\tremaining: 3m 52s\n"
     ]
    },
    {
     "name": "stdout",
     "output_type": "stream",
     "text": [
      "4380:\tlearn: 0.8024535\ttest: 0.7877624\tbest: 0.7878405 (4354)\ttotal: 26m 34s\tremaining: 3m 45s\n"
     ]
    },
    {
     "name": "stdout",
     "output_type": "stream",
     "text": [
      "4400:\tlearn: 0.8024946\ttest: 0.7877885\tbest: 0.7878405 (4354)\ttotal: 26m 41s\tremaining: 3m 37s\n"
     ]
    },
    {
     "name": "stdout",
     "output_type": "stream",
     "text": [
      "4420:\tlearn: 0.8025788\ttest: 0.7878779\tbest: 0.7879820 (4413)\ttotal: 26m 48s\tremaining: 3m 30s\n"
     ]
    },
    {
     "name": "stdout",
     "output_type": "stream",
     "text": [
      "4440:\tlearn: 0.8025774\ttest: 0.7879260\tbest: 0.7879820 (4413)\ttotal: 26m 55s\tremaining: 3m 23s\n"
     ]
    },
    {
     "name": "stdout",
     "output_type": "stream",
     "text": [
      "4460:\tlearn: 0.8026918\ttest: 0.7878895\tbest: 0.7880124 (4450)\ttotal: 27m 3s\tremaining: 3m 16s\n"
     ]
    },
    {
     "name": "stdout",
     "output_type": "stream",
     "text": [
      "4480:\tlearn: 0.8026802\ttest: 0.7878525\tbest: 0.7880124 (4450)\ttotal: 27m 10s\tremaining: 3m 8s\n"
     ]
    },
    {
     "name": "stdout",
     "output_type": "stream",
     "text": [
      "4500:\tlearn: 0.8027624\ttest: 0.7878759\tbest: 0.7880124 (4450)\ttotal: 27m 17s\tremaining: 3m 1s\n"
     ]
    },
    {
     "name": "stdout",
     "output_type": "stream",
     "text": [
      "4520:\tlearn: 0.8028684\ttest: 0.7878189\tbest: 0.7880124 (4450)\ttotal: 27m 24s\tremaining: 2m 54s\n"
     ]
    },
    {
     "name": "stdout",
     "output_type": "stream",
     "text": [
      "4540:\tlearn: 0.8029055\ttest: 0.7878251\tbest: 0.7880124 (4450)\ttotal: 27m 32s\tremaining: 2m 47s\n"
     ]
    },
    {
     "name": "stdout",
     "output_type": "stream",
     "text": [
      "4560:\tlearn: 0.8030562\ttest: 0.7878291\tbest: 0.7880124 (4450)\ttotal: 27m 39s\tremaining: 2m 39s\n"
     ]
    },
    {
     "name": "stdout",
     "output_type": "stream",
     "text": [
      "4580:\tlearn: 0.8031654\ttest: 0.7879174\tbest: 0.7880124 (4450)\ttotal: 27m 46s\tremaining: 2m 32s\n"
     ]
    },
    {
     "name": "stdout",
     "output_type": "stream",
     "text": [
      "4600:\tlearn: 0.8032529\ttest: 0.7878375\tbest: 0.7880124 (4450)\ttotal: 27m 53s\tremaining: 2m 25s\n"
     ]
    },
    {
     "name": "stdout",
     "output_type": "stream",
     "text": [
      "4620:\tlearn: 0.8032354\ttest: 0.7878202\tbest: 0.7880124 (4450)\ttotal: 28m\tremaining: 2m 17s\n"
     ]
    },
    {
     "name": "stdout",
     "output_type": "stream",
     "text": [
      "4640:\tlearn: 0.8033290\ttest: 0.7876357\tbest: 0.7880124 (4450)\ttotal: 28m 8s\tremaining: 2m 10s\n"
     ]
    },
    {
     "name": "stdout",
     "output_type": "stream",
     "text": [
      "4660:\tlearn: 0.8033701\ttest: 0.7874318\tbest: 0.7880124 (4450)\ttotal: 28m 15s\tremaining: 2m 3s\n"
     ]
    },
    {
     "name": "stdout",
     "output_type": "stream",
     "text": [
      "4680:\tlearn: 0.8034840\ttest: 0.7874388\tbest: 0.7880124 (4450)\ttotal: 28m 22s\tremaining: 1m 56s\n"
     ]
    },
    {
     "name": "stdout",
     "output_type": "stream",
     "text": [
      "4700:\tlearn: 0.8036089\ttest: 0.7874637\tbest: 0.7880124 (4450)\ttotal: 28m 29s\tremaining: 1m 48s\n"
     ]
    },
    {
     "name": "stdout",
     "output_type": "stream",
     "text": [
      "4720:\tlearn: 0.8036536\ttest: 0.7875312\tbest: 0.7880124 (4450)\ttotal: 28m 37s\tremaining: 1m 41s\n"
     ]
    },
    {
     "name": "stdout",
     "output_type": "stream",
     "text": [
      "4740:\tlearn: 0.8038526\ttest: 0.7874741\tbest: 0.7880124 (4450)\ttotal: 28m 44s\tremaining: 1m 34s\n"
     ]
    },
    {
     "name": "stdout",
     "output_type": "stream",
     "text": [
      "Stopped by overfitting detector  (300 iterations wait)\n",
      "\n",
      "bestTest = 0.7880123925\n",
      "bestIteration = 4450\n",
      "\n",
      "Shrink model to first 4451 iterations.\n"
     ]
    },
    {
     "name": "stdout",
     "output_type": "stream",
     "text": [
      "######################################## training model 4/5 ########################################\n"
     ]
    },
    {
     "name": "stdout",
     "output_type": "stream",
     "text": [
      "0:\tlearn: 0.6586993\ttest: 0.6603842\tbest: 0.6603842 (0)\ttotal: 716ms\tremaining: 59m 41s\n"
     ]
    },
    {
     "name": "stdout",
     "output_type": "stream",
     "text": [
      "20:\tlearn: 0.7322105\ttest: 0.7348130\tbest: 0.7348130 (20)\ttotal: 7.52s\tremaining: 29m 43s\n"
     ]
    },
    {
     "name": "stdout",
     "output_type": "stream",
     "text": [
      "40:\tlearn: 0.7371219\ttest: 0.7391731\tbest: 0.7391731 (40)\ttotal: 14.6s\tremaining: 29m 28s\n"
     ]
    },
    {
     "name": "stdout",
     "output_type": "stream",
     "text": [
      "60:\tlearn: 0.7408748\ttest: 0.7430884\tbest: 0.7430884 (60)\ttotal: 21.8s\tremaining: 29m 28s\n"
     ]
    },
    {
     "name": "stdout",
     "output_type": "stream",
     "text": [
      "80:\tlearn: 0.7442720\ttest: 0.7466041\tbest: 0.7466041 (80)\ttotal: 29.2s\tremaining: 29m 30s\n"
     ]
    },
    {
     "name": "stdout",
     "output_type": "stream",
     "text": [
      "100:\tlearn: 0.7468609\ttest: 0.7495528\tbest: 0.7495528 (100)\ttotal: 36.6s\tremaining: 29m 33s\n"
     ]
    },
    {
     "name": "stdout",
     "output_type": "stream",
     "text": [
      "120:\tlearn: 0.7494950\ttest: 0.7520965\tbest: 0.7520965 (120)\ttotal: 43.9s\tremaining: 29m 28s\n"
     ]
    },
    {
     "name": "stdout",
     "output_type": "stream",
     "text": [
      "140:\tlearn: 0.7521687\ttest: 0.7548774\tbest: 0.7548774 (140)\ttotal: 51.5s\tremaining: 29m 33s\n"
     ]
    },
    {
     "name": "stdout",
     "output_type": "stream",
     "text": [
      "160:\tlearn: 0.7546178\ttest: 0.7575967\tbest: 0.7575967 (160)\ttotal: 58.8s\tremaining: 29m 28s\n"
     ]
    },
    {
     "name": "stdout",
     "output_type": "stream",
     "text": [
      "180:\tlearn: 0.7566558\ttest: 0.7593164\tbest: 0.7593164 (180)\ttotal: 1m 6s\tremaining: 29m 27s\n"
     ]
    },
    {
     "name": "stdout",
     "output_type": "stream",
     "text": [
      "200:\tlearn: 0.7584970\ttest: 0.7608472\tbest: 0.7608533 (198)\ttotal: 1m 13s\tremaining: 29m 19s\n"
     ]
    },
    {
     "name": "stdout",
     "output_type": "stream",
     "text": [
      "220:\tlearn: 0.7604857\ttest: 0.7620250\tbest: 0.7620250 (220)\ttotal: 1m 20s\tremaining: 29m 11s\n"
     ]
    },
    {
     "name": "stdout",
     "output_type": "stream",
     "text": [
      "240:\tlearn: 0.7619577\ttest: 0.7632795\tbest: 0.7632795 (240)\ttotal: 1m 28s\tremaining: 29m 8s\n"
     ]
    },
    {
     "name": "stdout",
     "output_type": "stream",
     "text": [
      "260:\tlearn: 0.7629985\ttest: 0.7649237\tbest: 0.7649237 (260)\ttotal: 1m 35s\tremaining: 28m 58s\n"
     ]
    },
    {
     "name": "stdout",
     "output_type": "stream",
     "text": [
      "280:\tlearn: 0.7641326\ttest: 0.7660241\tbest: 0.7660241 (280)\ttotal: 1m 43s\tremaining: 28m 50s\n"
     ]
    },
    {
     "name": "stdout",
     "output_type": "stream",
     "text": [
      "300:\tlearn: 0.7652929\ttest: 0.7674922\tbest: 0.7674922 (300)\ttotal: 1m 50s\tremaining: 28m 46s\n"
     ]
    },
    {
     "name": "stdout",
     "output_type": "stream",
     "text": [
      "320:\tlearn: 0.7666542\ttest: 0.7686429\tbest: 0.7689720 (317)\ttotal: 1m 57s\tremaining: 28m 37s\n"
     ]
    },
    {
     "name": "stdout",
     "output_type": "stream",
     "text": [
      "340:\tlearn: 0.7675313\ttest: 0.7696327\tbest: 0.7696327 (340)\ttotal: 2m 5s\tremaining: 28m 30s\n"
     ]
    },
    {
     "name": "stdout",
     "output_type": "stream",
     "text": [
      "360:\tlearn: 0.7684692\ttest: 0.7707580\tbest: 0.7707580 (360)\ttotal: 2m 12s\tremaining: 28m 23s\n"
     ]
    },
    {
     "name": "stdout",
     "output_type": "stream",
     "text": [
      "380:\tlearn: 0.7691456\ttest: 0.7717024\tbest: 0.7717024 (380)\ttotal: 2m 19s\tremaining: 28m 17s\n"
     ]
    },
    {
     "name": "stdout",
     "output_type": "stream",
     "text": [
      "400:\tlearn: 0.7698548\ttest: 0.7718917\tbest: 0.7720509 (396)\ttotal: 2m 27s\tremaining: 28m 12s\n"
     ]
    },
    {
     "name": "stdout",
     "output_type": "stream",
     "text": [
      "420:\tlearn: 0.7707807\ttest: 0.7723217\tbest: 0.7724786 (413)\ttotal: 2m 34s\tremaining: 28m 3s\n"
     ]
    },
    {
     "name": "stdout",
     "output_type": "stream",
     "text": [
      "440:\tlearn: 0.7714783\ttest: 0.7731189\tbest: 0.7731189 (440)\ttotal: 2m 42s\tremaining: 27m 56s\n"
     ]
    },
    {
     "name": "stdout",
     "output_type": "stream",
     "text": [
      "460:\tlearn: 0.7719488\ttest: 0.7740412\tbest: 0.7740412 (460)\ttotal: 2m 49s\tremaining: 27m 48s\n"
     ]
    },
    {
     "name": "stdout",
     "output_type": "stream",
     "text": [
      "480:\tlearn: 0.7723441\ttest: 0.7741181\tbest: 0.7741181 (480)\ttotal: 2m 56s\tremaining: 27m 41s\n"
     ]
    },
    {
     "name": "stdout",
     "output_type": "stream",
     "text": [
      "500:\tlearn: 0.7729968\ttest: 0.7744910\tbest: 0.7744910 (500)\ttotal: 3m 4s\tremaining: 27m 34s\n"
     ]
    },
    {
     "name": "stdout",
     "output_type": "stream",
     "text": [
      "520:\tlearn: 0.7734011\ttest: 0.7748444\tbest: 0.7748967 (518)\ttotal: 3m 11s\tremaining: 27m 27s\n"
     ]
    },
    {
     "name": "stdout",
     "output_type": "stream",
     "text": [
      "540:\tlearn: 0.7739504\ttest: 0.7757465\tbest: 0.7757465 (540)\ttotal: 3m 18s\tremaining: 27m 20s\n"
     ]
    },
    {
     "name": "stdout",
     "output_type": "stream",
     "text": [
      "560:\tlearn: 0.7744846\ttest: 0.7760876\tbest: 0.7762459 (558)\ttotal: 3m 26s\tremaining: 27m 12s\n"
     ]
    },
    {
     "name": "stdout",
     "output_type": "stream",
     "text": [
      "580:\tlearn: 0.7748606\ttest: 0.7766730\tbest: 0.7766730 (580)\ttotal: 3m 33s\tremaining: 27m 5s\n"
     ]
    },
    {
     "name": "stdout",
     "output_type": "stream",
     "text": [
      "600:\tlearn: 0.7751535\ttest: 0.7770052\tbest: 0.7770100 (597)\ttotal: 3m 41s\tremaining: 26m 59s\n"
     ]
    },
    {
     "name": "stdout",
     "output_type": "stream",
     "text": [
      "620:\tlearn: 0.7757269\ttest: 0.7772509\tbest: 0.7773195 (616)\ttotal: 3m 48s\tremaining: 26m 53s\n"
     ]
    },
    {
     "name": "stdout",
     "output_type": "stream",
     "text": [
      "640:\tlearn: 0.7761787\ttest: 0.7778459\tbest: 0.7778459 (640)\ttotal: 3m 56s\tremaining: 26m 45s\n"
     ]
    },
    {
     "name": "stdout",
     "output_type": "stream",
     "text": [
      "660:\tlearn: 0.7764906\ttest: 0.7781421\tbest: 0.7781602 (659)\ttotal: 4m 3s\tremaining: 26m 38s\n"
     ]
    },
    {
     "name": "stdout",
     "output_type": "stream",
     "text": [
      "680:\tlearn: 0.7769465\ttest: 0.7782873\tbest: 0.7783667 (668)\ttotal: 4m 10s\tremaining: 26m 31s\n"
     ]
    },
    {
     "name": "stdout",
     "output_type": "stream",
     "text": [
      "700:\tlearn: 0.7774350\ttest: 0.7785609\tbest: 0.7786133 (698)\ttotal: 4m 18s\tremaining: 26m 22s\n"
     ]
    },
    {
     "name": "stdout",
     "output_type": "stream",
     "text": [
      "720:\tlearn: 0.7778045\ttest: 0.7786940\tbest: 0.7788145 (719)\ttotal: 4m 25s\tremaining: 26m 15s\n"
     ]
    },
    {
     "name": "stdout",
     "output_type": "stream",
     "text": [
      "740:\tlearn: 0.7782314\ttest: 0.7790859\tbest: 0.7790864 (735)\ttotal: 4m 32s\tremaining: 26m 7s\n"
     ]
    },
    {
     "name": "stdout",
     "output_type": "stream",
     "text": [
      "760:\tlearn: 0.7784037\ttest: 0.7789859\tbest: 0.7791783 (755)\ttotal: 4m 39s\tremaining: 25m 58s\n"
     ]
    },
    {
     "name": "stdout",
     "output_type": "stream",
     "text": [
      "780:\tlearn: 0.7788719\ttest: 0.7791668\tbest: 0.7792120 (769)\ttotal: 4m 46s\tremaining: 25m 50s\n"
     ]
    },
    {
     "name": "stdout",
     "output_type": "stream",
     "text": [
      "800:\tlearn: 0.7793802\ttest: 0.7795579\tbest: 0.7796161 (799)\ttotal: 4m 54s\tremaining: 25m 43s\n"
     ]
    },
    {
     "name": "stdout",
     "output_type": "stream",
     "text": [
      "820:\tlearn: 0.7795232\ttest: 0.7798544\tbest: 0.7799125 (812)\ttotal: 5m 1s\tremaining: 25m 34s\n"
     ]
    },
    {
     "name": "stdout",
     "output_type": "stream",
     "text": [
      "840:\tlearn: 0.7797787\ttest: 0.7800211\tbest: 0.7800688 (835)\ttotal: 5m 8s\tremaining: 25m 27s\n"
     ]
    },
    {
     "name": "stdout",
     "output_type": "stream",
     "text": [
      "860:\tlearn: 0.7801151\ttest: 0.7800962\tbest: 0.7801436 (854)\ttotal: 5m 16s\tremaining: 25m 20s\n"
     ]
    },
    {
     "name": "stdout",
     "output_type": "stream",
     "text": [
      "880:\tlearn: 0.7805286\ttest: 0.7800766\tbest: 0.7801918 (877)\ttotal: 5m 23s\tremaining: 25m 12s\n"
     ]
    },
    {
     "name": "stdout",
     "output_type": "stream",
     "text": [
      "900:\tlearn: 0.7809985\ttest: 0.7802390\tbest: 0.7802390 (900)\ttotal: 5m 30s\tremaining: 25m 5s\n"
     ]
    },
    {
     "name": "stdout",
     "output_type": "stream",
     "text": [
      "920:\tlearn: 0.7812350\ttest: 0.7804881\tbest: 0.7805282 (919)\ttotal: 5m 38s\tremaining: 24m 58s\n"
     ]
    },
    {
     "name": "stdout",
     "output_type": "stream",
     "text": [
      "940:\tlearn: 0.7814968\ttest: 0.7808090\tbest: 0.7808090 (940)\ttotal: 5m 45s\tremaining: 24m 50s\n"
     ]
    },
    {
     "name": "stdout",
     "output_type": "stream",
     "text": [
      "960:\tlearn: 0.7818346\ttest: 0.7812894\tbest: 0.7812894 (960)\ttotal: 5m 53s\tremaining: 24m 44s\n"
     ]
    },
    {
     "name": "stdout",
     "output_type": "stream",
     "text": [
      "980:\tlearn: 0.7819386\ttest: 0.7816346\tbest: 0.7816520 (979)\ttotal: 6m\tremaining: 24m 36s\n"
     ]
    },
    {
     "name": "stdout",
     "output_type": "stream",
     "text": [
      "1000:\tlearn: 0.7821774\ttest: 0.7818716\tbest: 0.7820007 (992)\ttotal: 6m 7s\tremaining: 24m 30s\n"
     ]
    },
    {
     "name": "stdout",
     "output_type": "stream",
     "text": [
      "1020:\tlearn: 0.7824066\ttest: 0.7820463\tbest: 0.7821665 (1017)\ttotal: 6m 15s\tremaining: 24m 22s\n"
     ]
    },
    {
     "name": "stdout",
     "output_type": "stream",
     "text": [
      "1040:\tlearn: 0.7827249\ttest: 0.7824751\tbest: 0.7824751 (1040)\ttotal: 6m 22s\tremaining: 24m 14s\n"
     ]
    },
    {
     "name": "stdout",
     "output_type": "stream",
     "text": [
      "1060:\tlearn: 0.7829031\ttest: 0.7827925\tbest: 0.7827925 (1060)\ttotal: 6m 29s\tremaining: 24m 7s\n"
     ]
    },
    {
     "name": "stdout",
     "output_type": "stream",
     "text": [
      "1080:\tlearn: 0.7831927\ttest: 0.7832028\tbest: 0.7832028 (1080)\ttotal: 6m 37s\tremaining: 24m\n"
     ]
    },
    {
     "name": "stdout",
     "output_type": "stream",
     "text": [
      "1100:\tlearn: 0.7833529\ttest: 0.7833939\tbest: 0.7833939 (1100)\ttotal: 6m 44s\tremaining: 23m 52s\n"
     ]
    },
    {
     "name": "stdout",
     "output_type": "stream",
     "text": [
      "1120:\tlearn: 0.7836307\ttest: 0.7837081\tbest: 0.7837275 (1119)\ttotal: 6m 51s\tremaining: 23m 45s\n"
     ]
    },
    {
     "name": "stdout",
     "output_type": "stream",
     "text": [
      "1140:\tlearn: 0.7839939\ttest: 0.7836607\tbest: 0.7837487 (1130)\ttotal: 6m 59s\tremaining: 23m 37s\n"
     ]
    },
    {
     "name": "stdout",
     "output_type": "stream",
     "text": [
      "1160:\tlearn: 0.7843639\ttest: 0.7842718\tbest: 0.7842718 (1160)\ttotal: 7m 6s\tremaining: 23m 29s\n"
     ]
    },
    {
     "name": "stdout",
     "output_type": "stream",
     "text": [
      "1180:\tlearn: 0.7846082\ttest: 0.7846244\tbest: 0.7847061 (1179)\ttotal: 7m 13s\tremaining: 23m 21s\n"
     ]
    },
    {
     "name": "stdout",
     "output_type": "stream",
     "text": [
      "1200:\tlearn: 0.7849043\ttest: 0.7847896\tbest: 0.7847896 (1200)\ttotal: 7m 20s\tremaining: 23m 14s\n"
     ]
    },
    {
     "name": "stdout",
     "output_type": "stream",
     "text": [
      "1220:\tlearn: 0.7850161\ttest: 0.7847232\tbest: 0.7848781 (1202)\ttotal: 7m 27s\tremaining: 23m 6s\n"
     ]
    },
    {
     "name": "stdout",
     "output_type": "stream",
     "text": [
      "1240:\tlearn: 0.7852321\ttest: 0.7850736\tbest: 0.7851098 (1237)\ttotal: 7m 35s\tremaining: 22m 58s\n"
     ]
    },
    {
     "name": "stdout",
     "output_type": "stream",
     "text": [
      "1260:\tlearn: 0.7852334\ttest: 0.7853415\tbest: 0.7853415 (1260)\ttotal: 7m 42s\tremaining: 22m 51s\n"
     ]
    },
    {
     "name": "stdout",
     "output_type": "stream",
     "text": [
      "1280:\tlearn: 0.7854942\ttest: 0.7857768\tbest: 0.7857967 (1279)\ttotal: 7m 49s\tremaining: 22m 43s\n"
     ]
    },
    {
     "name": "stdout",
     "output_type": "stream",
     "text": [
      "1300:\tlearn: 0.7856787\ttest: 0.7860016\tbest: 0.7860206 (1299)\ttotal: 7m 57s\tremaining: 22m 36s\n"
     ]
    },
    {
     "name": "stdout",
     "output_type": "stream",
     "text": [
      "1320:\tlearn: 0.7858517\ttest: 0.7864008\tbest: 0.7864569 (1317)\ttotal: 8m 4s\tremaining: 22m 29s\n"
     ]
    },
    {
     "name": "stdout",
     "output_type": "stream",
     "text": [
      "1340:\tlearn: 0.7861165\ttest: 0.7863949\tbest: 0.7864951 (1326)\ttotal: 8m 11s\tremaining: 22m 21s\n"
     ]
    },
    {
     "name": "stdout",
     "output_type": "stream",
     "text": [
      "1360:\tlearn: 0.7864481\ttest: 0.7865776\tbest: 0.7866501 (1353)\ttotal: 8m 18s\tremaining: 22m 13s\n"
     ]
    },
    {
     "name": "stdout",
     "output_type": "stream",
     "text": [
      "1380:\tlearn: 0.7867242\ttest: 0.7868822\tbest: 0.7868971 (1375)\ttotal: 8m 26s\tremaining: 22m 6s\n"
     ]
    },
    {
     "name": "stdout",
     "output_type": "stream",
     "text": [
      "1400:\tlearn: 0.7868255\ttest: 0.7871879\tbest: 0.7872288 (1399)\ttotal: 8m 33s\tremaining: 21m 58s\n"
     ]
    },
    {
     "name": "stdout",
     "output_type": "stream",
     "text": [
      "1420:\tlearn: 0.7869924\ttest: 0.7868647\tbest: 0.7872288 (1399)\ttotal: 8m 40s\tremaining: 21m 51s\n"
     ]
    },
    {
     "name": "stdout",
     "output_type": "stream",
     "text": [
      "1440:\tlearn: 0.7871792\ttest: 0.7872104\tbest: 0.7872288 (1399)\ttotal: 8m 47s\tremaining: 21m 43s\n"
     ]
    },
    {
     "name": "stdout",
     "output_type": "stream",
     "text": [
      "1460:\tlearn: 0.7871934\ttest: 0.7871136\tbest: 0.7872645 (1447)\ttotal: 8m 54s\tremaining: 21m 35s\n"
     ]
    },
    {
     "name": "stdout",
     "output_type": "stream",
     "text": [
      "1480:\tlearn: 0.7873564\ttest: 0.7872041\tbest: 0.7872855 (1479)\ttotal: 9m 1s\tremaining: 21m 27s\n"
     ]
    },
    {
     "name": "stdout",
     "output_type": "stream",
     "text": [
      "1500:\tlearn: 0.7875557\ttest: 0.7871053\tbest: 0.7872855 (1479)\ttotal: 9m 9s\tremaining: 21m 20s\n"
     ]
    },
    {
     "name": "stdout",
     "output_type": "stream",
     "text": [
      "1520:\tlearn: 0.7877528\ttest: 0.7871939\tbest: 0.7872855 (1479)\ttotal: 9m 16s\tremaining: 21m 13s\n"
     ]
    },
    {
     "name": "stdout",
     "output_type": "stream",
     "text": [
      "1540:\tlearn: 0.7879206\ttest: 0.7868845\tbest: 0.7874072 (1523)\ttotal: 9m 23s\tremaining: 21m 5s\n"
     ]
    },
    {
     "name": "stdout",
     "output_type": "stream",
     "text": [
      "1560:\tlearn: 0.7881695\ttest: 0.7869294\tbest: 0.7874072 (1523)\ttotal: 9m 31s\tremaining: 20m 57s\n"
     ]
    },
    {
     "name": "stdout",
     "output_type": "stream",
     "text": [
      "1580:\tlearn: 0.7882893\ttest: 0.7871663\tbest: 0.7874072 (1523)\ttotal: 9m 38s\tremaining: 20m 50s\n"
     ]
    },
    {
     "name": "stdout",
     "output_type": "stream",
     "text": [
      "1600:\tlearn: 0.7884683\ttest: 0.7876108\tbest: 0.7877571 (1599)\ttotal: 9m 45s\tremaining: 20m 43s\n"
     ]
    },
    {
     "name": "stdout",
     "output_type": "stream",
     "text": [
      "1620:\tlearn: 0.7886046\ttest: 0.7876151\tbest: 0.7877571 (1599)\ttotal: 9m 52s\tremaining: 20m 35s\n"
     ]
    },
    {
     "name": "stdout",
     "output_type": "stream",
     "text": [
      "1640:\tlearn: 0.7888841\ttest: 0.7874104\tbest: 0.7877571 (1599)\ttotal: 9m 59s\tremaining: 20m 28s\n"
     ]
    },
    {
     "name": "stdout",
     "output_type": "stream",
     "text": [
      "1660:\tlearn: 0.7890257\ttest: 0.7876449\tbest: 0.7877571 (1599)\ttotal: 10m 7s\tremaining: 20m 20s\n"
     ]
    },
    {
     "name": "stdout",
     "output_type": "stream",
     "text": [
      "1680:\tlearn: 0.7891093\ttest: 0.7878368\tbest: 0.7880210 (1676)\ttotal: 10m 14s\tremaining: 20m 13s\n"
     ]
    },
    {
     "name": "stdout",
     "output_type": "stream",
     "text": [
      "1700:\tlearn: 0.7892670\ttest: 0.7878567\tbest: 0.7880210 (1676)\ttotal: 10m 21s\tremaining: 20m 6s\n"
     ]
    },
    {
     "name": "stdout",
     "output_type": "stream",
     "text": [
      "1720:\tlearn: 0.7893617\ttest: 0.7881548\tbest: 0.7881735 (1718)\ttotal: 10m 29s\tremaining: 19m 58s\n"
     ]
    },
    {
     "name": "stdout",
     "output_type": "stream",
     "text": [
      "1740:\tlearn: 0.7894423\ttest: 0.7882588\tbest: 0.7882588 (1740)\ttotal: 10m 36s\tremaining: 19m 51s\n"
     ]
    },
    {
     "name": "stdout",
     "output_type": "stream",
     "text": [
      "1760:\tlearn: 0.7896211\ttest: 0.7882988\tbest: 0.7883993 (1753)\ttotal: 10m 43s\tremaining: 19m 44s\n"
     ]
    },
    {
     "name": "stdout",
     "output_type": "stream",
     "text": [
      "1780:\tlearn: 0.7897066\ttest: 0.7881548\tbest: 0.7884143 (1768)\ttotal: 10m 51s\tremaining: 19m 36s\n"
     ]
    },
    {
     "name": "stdout",
     "output_type": "stream",
     "text": [
      "1800:\tlearn: 0.7897211\ttest: 0.7882196\tbest: 0.7884143 (1768)\ttotal: 10m 58s\tremaining: 19m 29s\n"
     ]
    },
    {
     "name": "stdout",
     "output_type": "stream",
     "text": [
      "1820:\tlearn: 0.7898451\ttest: 0.7886621\tbest: 0.7886621 (1820)\ttotal: 11m 5s\tremaining: 19m 21s\n"
     ]
    },
    {
     "name": "stdout",
     "output_type": "stream",
     "text": [
      "1840:\tlearn: 0.7899531\ttest: 0.7885729\tbest: 0.7886838 (1821)\ttotal: 11m 12s\tremaining: 19m 14s\n"
     ]
    },
    {
     "name": "stdout",
     "output_type": "stream",
     "text": [
      "1860:\tlearn: 0.7901710\ttest: 0.7886342\tbest: 0.7886838 (1821)\ttotal: 11m 19s\tremaining: 19m 6s\n"
     ]
    },
    {
     "name": "stdout",
     "output_type": "stream",
     "text": [
      "1880:\tlearn: 0.7902410\ttest: 0.7884229\tbest: 0.7886838 (1821)\ttotal: 11m 27s\tremaining: 18m 59s\n"
     ]
    },
    {
     "name": "stdout",
     "output_type": "stream",
     "text": [
      "1900:\tlearn: 0.7904760\ttest: 0.7886093\tbest: 0.7886838 (1821)\ttotal: 11m 34s\tremaining: 18m 51s\n"
     ]
    },
    {
     "name": "stdout",
     "output_type": "stream",
     "text": [
      "1920:\tlearn: 0.7906797\ttest: 0.7886890\tbest: 0.7887291 (1918)\ttotal: 11m 41s\tremaining: 18m 44s\n"
     ]
    },
    {
     "name": "stdout",
     "output_type": "stream",
     "text": [
      "1940:\tlearn: 0.7907568\ttest: 0.7887282\tbest: 0.7888295 (1935)\ttotal: 11m 48s\tremaining: 18m 36s\n"
     ]
    },
    {
     "name": "stdout",
     "output_type": "stream",
     "text": [
      "1960:\tlearn: 0.7909715\ttest: 0.7887899\tbest: 0.7888519 (1958)\ttotal: 11m 56s\tremaining: 18m 29s\n"
     ]
    },
    {
     "name": "stdout",
     "output_type": "stream",
     "text": [
      "1980:\tlearn: 0.7910868\ttest: 0.7888909\tbest: 0.7890687 (1966)\ttotal: 12m 3s\tremaining: 18m 22s\n"
     ]
    },
    {
     "name": "stdout",
     "output_type": "stream",
     "text": [
      "2000:\tlearn: 0.7912961\ttest: 0.7889470\tbest: 0.7890687 (1966)\ttotal: 12m 10s\tremaining: 18m 14s\n"
     ]
    },
    {
     "name": "stdout",
     "output_type": "stream",
     "text": [
      "2020:\tlearn: 0.7913865\ttest: 0.7890470\tbest: 0.7890687 (1966)\ttotal: 12m 17s\tremaining: 18m 7s\n"
     ]
    },
    {
     "name": "stdout",
     "output_type": "stream",
     "text": [
      "2040:\tlearn: 0.7914694\ttest: 0.7889386\tbest: 0.7891408 (2030)\ttotal: 12m 25s\tremaining: 18m\n"
     ]
    },
    {
     "name": "stdout",
     "output_type": "stream",
     "text": [
      "2060:\tlearn: 0.7916075\ttest: 0.7891015\tbest: 0.7892062 (2059)\ttotal: 12m 32s\tremaining: 17m 52s\n"
     ]
    },
    {
     "name": "stdout",
     "output_type": "stream",
     "text": [
      "2080:\tlearn: 0.7917286\ttest: 0.7893034\tbest: 0.7893440 (2079)\ttotal: 12m 39s\tremaining: 17m 45s\n"
     ]
    },
    {
     "name": "stdout",
     "output_type": "stream",
     "text": [
      "2100:\tlearn: 0.7918435\ttest: 0.7894410\tbest: 0.7894965 (2085)\ttotal: 12m 46s\tremaining: 17m 37s\n"
     ]
    },
    {
     "name": "stdout",
     "output_type": "stream",
     "text": [
      "2120:\tlearn: 0.7917902\ttest: 0.7891795\tbest: 0.7894965 (2085)\ttotal: 12m 53s\tremaining: 17m 30s\n"
     ]
    },
    {
     "name": "stdout",
     "output_type": "stream",
     "text": [
      "2140:\tlearn: 0.7919293\ttest: 0.7894035\tbest: 0.7894965 (2085)\ttotal: 13m\tremaining: 17m 22s\n"
     ]
    },
    {
     "name": "stdout",
     "output_type": "stream",
     "text": [
      "2160:\tlearn: 0.7920457\ttest: 0.7893132\tbest: 0.7894965 (2085)\ttotal: 13m 8s\tremaining: 17m 15s\n"
     ]
    },
    {
     "name": "stdout",
     "output_type": "stream",
     "text": [
      "2180:\tlearn: 0.7922093\ttest: 0.7894718\tbest: 0.7895514 (2174)\ttotal: 13m 15s\tremaining: 17m 8s\n"
     ]
    },
    {
     "name": "stdout",
     "output_type": "stream",
     "text": [
      "2200:\tlearn: 0.7922973\ttest: 0.7897392\tbest: 0.7897392 (2200)\ttotal: 13m 22s\tremaining: 17m\n"
     ]
    },
    {
     "name": "stdout",
     "output_type": "stream",
     "text": [
      "2220:\tlearn: 0.7924712\ttest: 0.7897310\tbest: 0.7897688 (2214)\ttotal: 13m 29s\tremaining: 16m 53s\n"
     ]
    },
    {
     "name": "stdout",
     "output_type": "stream",
     "text": [
      "2240:\tlearn: 0.7926175\ttest: 0.7898702\tbest: 0.7900306 (2227)\ttotal: 13m 37s\tremaining: 16m 45s\n"
     ]
    },
    {
     "name": "stdout",
     "output_type": "stream",
     "text": [
      "2260:\tlearn: 0.7926448\ttest: 0.7901813\tbest: 0.7901989 (2255)\ttotal: 13m 44s\tremaining: 16m 38s\n"
     ]
    },
    {
     "name": "stdout",
     "output_type": "stream",
     "text": [
      "2280:\tlearn: 0.7927564\ttest: 0.7902139\tbest: 0.7902139 (2280)\ttotal: 13m 51s\tremaining: 16m 31s\n"
     ]
    },
    {
     "name": "stdout",
     "output_type": "stream",
     "text": [
      "2300:\tlearn: 0.7929299\ttest: 0.7899320\tbest: 0.7902154 (2281)\ttotal: 13m 59s\tremaining: 16m 24s\n"
     ]
    },
    {
     "name": "stdout",
     "output_type": "stream",
     "text": [
      "2320:\tlearn: 0.7929882\ttest: 0.7898406\tbest: 0.7902154 (2281)\ttotal: 14m 6s\tremaining: 16m 16s\n"
     ]
    },
    {
     "name": "stdout",
     "output_type": "stream",
     "text": [
      "2340:\tlearn: 0.7931510\ttest: 0.7899742\tbest: 0.7902154 (2281)\ttotal: 14m 13s\tremaining: 16m 9s\n"
     ]
    },
    {
     "name": "stdout",
     "output_type": "stream",
     "text": [
      "2360:\tlearn: 0.7932358\ttest: 0.7901522\tbest: 0.7902154 (2281)\ttotal: 14m 20s\tremaining: 16m 2s\n"
     ]
    },
    {
     "name": "stdout",
     "output_type": "stream",
     "text": [
      "2380:\tlearn: 0.7932440\ttest: 0.7902711\tbest: 0.7902711 (2380)\ttotal: 14m 27s\tremaining: 15m 54s\n"
     ]
    },
    {
     "name": "stdout",
     "output_type": "stream",
     "text": [
      "2400:\tlearn: 0.7933839\ttest: 0.7899664\tbest: 0.7902757 (2388)\ttotal: 14m 35s\tremaining: 15m 47s\n"
     ]
    },
    {
     "name": "stdout",
     "output_type": "stream",
     "text": [
      "2420:\tlearn: 0.7933716\ttest: 0.7903168\tbest: 0.7903534 (2412)\ttotal: 14m 42s\tremaining: 15m 39s\n"
     ]
    },
    {
     "name": "stdout",
     "output_type": "stream",
     "text": [
      "2440:\tlearn: 0.7935592\ttest: 0.7904974\tbest: 0.7904974 (2440)\ttotal: 14m 49s\tremaining: 15m 32s\n"
     ]
    },
    {
     "name": "stdout",
     "output_type": "stream",
     "text": [
      "2460:\tlearn: 0.7937600\ttest: 0.7905709\tbest: 0.7906332 (2459)\ttotal: 14m 56s\tremaining: 15m 25s\n"
     ]
    },
    {
     "name": "stdout",
     "output_type": "stream",
     "text": [
      "2480:\tlearn: 0.7938555\ttest: 0.7903905\tbest: 0.7906332 (2459)\ttotal: 15m 4s\tremaining: 15m 18s\n"
     ]
    },
    {
     "name": "stdout",
     "output_type": "stream",
     "text": [
      "2500:\tlearn: 0.7939262\ttest: 0.7903818\tbest: 0.7906332 (2459)\ttotal: 15m 11s\tremaining: 15m 10s\n"
     ]
    },
    {
     "name": "stdout",
     "output_type": "stream",
     "text": [
      "2520:\tlearn: 0.7940747\ttest: 0.7903498\tbest: 0.7906332 (2459)\ttotal: 15m 18s\tremaining: 15m 3s\n"
     ]
    },
    {
     "name": "stdout",
     "output_type": "stream",
     "text": [
      "2540:\tlearn: 0.7940558\ttest: 0.7903830\tbest: 0.7906332 (2459)\ttotal: 15m 26s\tremaining: 14m 56s\n"
     ]
    },
    {
     "name": "stdout",
     "output_type": "stream",
     "text": [
      "2560:\tlearn: 0.7942152\ttest: 0.7904136\tbest: 0.7906332 (2459)\ttotal: 15m 33s\tremaining: 14m 48s\n"
     ]
    },
    {
     "name": "stdout",
     "output_type": "stream",
     "text": [
      "2580:\tlearn: 0.7943920\ttest: 0.7904030\tbest: 0.7906332 (2459)\ttotal: 15m 40s\tremaining: 14m 41s\n"
     ]
    },
    {
     "name": "stdout",
     "output_type": "stream",
     "text": [
      "2600:\tlearn: 0.7944442\ttest: 0.7904980\tbest: 0.7906332 (2459)\ttotal: 15m 47s\tremaining: 14m 34s\n"
     ]
    },
    {
     "name": "stdout",
     "output_type": "stream",
     "text": [
      "2620:\tlearn: 0.7945651\ttest: 0.7903595\tbest: 0.7906332 (2459)\ttotal: 15m 54s\tremaining: 14m 26s\n"
     ]
    },
    {
     "name": "stdout",
     "output_type": "stream",
     "text": [
      "2640:\tlearn: 0.7945870\ttest: 0.7903061\tbest: 0.7906332 (2459)\ttotal: 16m 2s\tremaining: 14m 19s\n"
     ]
    },
    {
     "name": "stdout",
     "output_type": "stream",
     "text": [
      "2660:\tlearn: 0.7946187\ttest: 0.7903791\tbest: 0.7906332 (2459)\ttotal: 16m 9s\tremaining: 14m 12s\n"
     ]
    },
    {
     "name": "stdout",
     "output_type": "stream",
     "text": [
      "2680:\tlearn: 0.7947760\ttest: 0.7903667\tbest: 0.7906332 (2459)\ttotal: 16m 16s\tremaining: 14m 4s\n"
     ]
    },
    {
     "name": "stdout",
     "output_type": "stream",
     "text": [
      "2700:\tlearn: 0.7948534\ttest: 0.7905053\tbest: 0.7906332 (2459)\ttotal: 16m 24s\tremaining: 13m 57s\n"
     ]
    },
    {
     "name": "stdout",
     "output_type": "stream",
     "text": [
      "2720:\tlearn: 0.7949426\ttest: 0.7904716\tbest: 0.7906332 (2459)\ttotal: 16m 31s\tremaining: 13m 50s\n"
     ]
    },
    {
     "name": "stdout",
     "output_type": "stream",
     "text": [
      "2740:\tlearn: 0.7950178\ttest: 0.7907551\tbest: 0.7907551 (2740)\ttotal: 16m 38s\tremaining: 13m 43s\n"
     ]
    },
    {
     "name": "stdout",
     "output_type": "stream",
     "text": [
      "2760:\tlearn: 0.7951549\ttest: 0.7907035\tbest: 0.7908687 (2751)\ttotal: 16m 45s\tremaining: 13m 35s\n"
     ]
    },
    {
     "name": "stdout",
     "output_type": "stream",
     "text": [
      "2780:\tlearn: 0.7952428\ttest: 0.7905445\tbest: 0.7908687 (2751)\ttotal: 16m 53s\tremaining: 13m 28s\n"
     ]
    },
    {
     "name": "stdout",
     "output_type": "stream",
     "text": [
      "2800:\tlearn: 0.7953149\ttest: 0.7907203\tbest: 0.7908687 (2751)\ttotal: 17m\tremaining: 13m 21s\n"
     ]
    },
    {
     "name": "stdout",
     "output_type": "stream",
     "text": [
      "2820:\tlearn: 0.7953772\ttest: 0.7907062\tbest: 0.7908687 (2751)\ttotal: 17m 8s\tremaining: 13m 14s\n"
     ]
    },
    {
     "name": "stdout",
     "output_type": "stream",
     "text": [
      "2840:\tlearn: 0.7954264\ttest: 0.7907958\tbest: 0.7909628 (2833)\ttotal: 17m 15s\tremaining: 13m 6s\n"
     ]
    },
    {
     "name": "stdout",
     "output_type": "stream",
     "text": [
      "2860:\tlearn: 0.7955423\ttest: 0.7908273\tbest: 0.7909628 (2833)\ttotal: 17m 22s\tremaining: 12m 59s\n"
     ]
    },
    {
     "name": "stdout",
     "output_type": "stream",
     "text": [
      "2880:\tlearn: 0.7955282\ttest: 0.7909174\tbest: 0.7909628 (2833)\ttotal: 17m 29s\tremaining: 12m 51s\n"
     ]
    },
    {
     "name": "stdout",
     "output_type": "stream",
     "text": [
      "2900:\tlearn: 0.7956970\ttest: 0.7910327\tbest: 0.7910950 (2898)\ttotal: 17m 36s\tremaining: 12m 44s\n"
     ]
    },
    {
     "name": "stdout",
     "output_type": "stream",
     "text": [
      "2920:\tlearn: 0.7958817\ttest: 0.7911680\tbest: 0.7912050 (2909)\ttotal: 17m 43s\tremaining: 12m 37s\n"
     ]
    },
    {
     "name": "stdout",
     "output_type": "stream",
     "text": [
      "2940:\tlearn: 0.7958855\ttest: 0.7911328\tbest: 0.7912126 (2925)\ttotal: 17m 51s\tremaining: 12m 29s\n"
     ]
    },
    {
     "name": "stdout",
     "output_type": "stream",
     "text": [
      "2960:\tlearn: 0.7960315\ttest: 0.7910996\tbest: 0.7912126 (2925)\ttotal: 17m 58s\tremaining: 12m 22s\n"
     ]
    },
    {
     "name": "stdout",
     "output_type": "stream",
     "text": [
      "2980:\tlearn: 0.7960327\ttest: 0.7911083\tbest: 0.7912126 (2925)\ttotal: 18m 5s\tremaining: 12m 15s\n"
     ]
    },
    {
     "name": "stdout",
     "output_type": "stream",
     "text": [
      "3000:\tlearn: 0.7961595\ttest: 0.7910969\tbest: 0.7912156 (2985)\ttotal: 18m 12s\tremaining: 12m 7s\n"
     ]
    },
    {
     "name": "stdout",
     "output_type": "stream",
     "text": [
      "3020:\tlearn: 0.7963106\ttest: 0.7910001\tbest: 0.7912156 (2985)\ttotal: 18m 20s\tremaining: 12m\n"
     ]
    },
    {
     "name": "stdout",
     "output_type": "stream",
     "text": [
      "3040:\tlearn: 0.7962508\ttest: 0.7911336\tbest: 0.7912156 (2985)\ttotal: 18m 27s\tremaining: 11m 53s\n"
     ]
    },
    {
     "name": "stdout",
     "output_type": "stream",
     "text": [
      "3060:\tlearn: 0.7964009\ttest: 0.7912026\tbest: 0.7913040 (3047)\ttotal: 18m 34s\tremaining: 11m 46s\n"
     ]
    },
    {
     "name": "stdout",
     "output_type": "stream",
     "text": [
      "3080:\tlearn: 0.7965672\ttest: 0.7909783\tbest: 0.7913040 (3047)\ttotal: 18m 41s\tremaining: 11m 38s\n"
     ]
    },
    {
     "name": "stdout",
     "output_type": "stream",
     "text": [
      "3100:\tlearn: 0.7967747\ttest: 0.7910717\tbest: 0.7913040 (3047)\ttotal: 18m 49s\tremaining: 11m 31s\n"
     ]
    },
    {
     "name": "stdout",
     "output_type": "stream",
     "text": [
      "3120:\tlearn: 0.7968125\ttest: 0.7909512\tbest: 0.7913040 (3047)\ttotal: 18m 56s\tremaining: 11m 24s\n"
     ]
    },
    {
     "name": "stdout",
     "output_type": "stream",
     "text": [
      "3140:\tlearn: 0.7968996\ttest: 0.7911486\tbest: 0.7913040 (3047)\ttotal: 19m 3s\tremaining: 11m 17s\n"
     ]
    },
    {
     "name": "stdout",
     "output_type": "stream",
     "text": [
      "3160:\tlearn: 0.7969582\ttest: 0.7909664\tbest: 0.7913040 (3047)\ttotal: 19m 10s\tremaining: 11m 9s\n"
     ]
    },
    {
     "name": "stdout",
     "output_type": "stream",
     "text": [
      "3180:\tlearn: 0.7969649\ttest: 0.7910154\tbest: 0.7913040 (3047)\ttotal: 19m 18s\tremaining: 11m 2s\n"
     ]
    },
    {
     "name": "stdout",
     "output_type": "stream",
     "text": [
      "3200:\tlearn: 0.7970731\ttest: 0.7911481\tbest: 0.7913040 (3047)\ttotal: 19m 25s\tremaining: 10m 54s\n"
     ]
    },
    {
     "name": "stdout",
     "output_type": "stream",
     "text": [
      "3220:\tlearn: 0.7971227\ttest: 0.7910691\tbest: 0.7913040 (3047)\ttotal: 19m 32s\tremaining: 10m 47s\n"
     ]
    },
    {
     "name": "stdout",
     "output_type": "stream",
     "text": [
      "3240:\tlearn: 0.7972246\ttest: 0.7910764\tbest: 0.7913040 (3047)\ttotal: 19m 39s\tremaining: 10m 40s\n"
     ]
    },
    {
     "name": "stdout",
     "output_type": "stream",
     "text": [
      "3260:\tlearn: 0.7973418\ttest: 0.7911032\tbest: 0.7913040 (3047)\ttotal: 19m 46s\tremaining: 10m 32s\n"
     ]
    },
    {
     "name": "stdout",
     "output_type": "stream",
     "text": [
      "3280:\tlearn: 0.7974697\ttest: 0.7910884\tbest: 0.7913040 (3047)\ttotal: 19m 54s\tremaining: 10m 25s\n"
     ]
    },
    {
     "name": "stdout",
     "output_type": "stream",
     "text": [
      "3300:\tlearn: 0.7974670\ttest: 0.7909050\tbest: 0.7913040 (3047)\ttotal: 20m 1s\tremaining: 10m 18s\n"
     ]
    },
    {
     "name": "stdout",
     "output_type": "stream",
     "text": [
      "3320:\tlearn: 0.7975857\ttest: 0.7911031\tbest: 0.7913040 (3047)\ttotal: 20m 8s\tremaining: 10m 11s\n"
     ]
    },
    {
     "name": "stdout",
     "output_type": "stream",
     "text": [
      "3340:\tlearn: 0.7976901\ttest: 0.7910485\tbest: 0.7913040 (3047)\ttotal: 20m 16s\tremaining: 10m 3s\n"
     ]
    },
    {
     "name": "stdout",
     "output_type": "stream",
     "text": [
      "Stopped by overfitting detector  (300 iterations wait)\n",
      "\n",
      "bestTest = 0.791304027\n",
      "bestIteration = 3047\n",
      "\n",
      "Shrink model to first 3048 iterations.\n"
     ]
    },
    {
     "name": "stdout",
     "output_type": "stream",
     "text": [
      "######################################## training model 5/5 ########################################\n"
     ]
    },
    {
     "name": "stdout",
     "output_type": "stream",
     "text": [
      "0:\tlearn: 0.6606913\ttest: 0.6620703\tbest: 0.6620703 (0)\ttotal: 704ms\tremaining: 58m 38s\n"
     ]
    },
    {
     "name": "stdout",
     "output_type": "stream",
     "text": [
      "20:\tlearn: 0.7302608\ttest: 0.7339919\tbest: 0.7339919 (20)\ttotal: 8.06s\tremaining: 31m 51s\n"
     ]
    },
    {
     "name": "stdout",
     "output_type": "stream",
     "text": [
      "40:\tlearn: 0.7380134\ttest: 0.7413262\tbest: 0.7413262 (40)\ttotal: 15.4s\tremaining: 30m 57s\n"
     ]
    },
    {
     "name": "stdout",
     "output_type": "stream",
     "text": [
      "60:\tlearn: 0.7406082\ttest: 0.7444367\tbest: 0.7444367 (60)\ttotal: 22.8s\tremaining: 30m 42s\n"
     ]
    },
    {
     "name": "stdout",
     "output_type": "stream",
     "text": [
      "80:\tlearn: 0.7438429\ttest: 0.7472298\tbest: 0.7472606 (79)\ttotal: 30.2s\tremaining: 30m 32s\n"
     ]
    },
    {
     "name": "stdout",
     "output_type": "stream",
     "text": [
      "100:\tlearn: 0.7466680\ttest: 0.7503556\tbest: 0.7503556 (100)\ttotal: 37.6s\tremaining: 30m 23s\n"
     ]
    },
    {
     "name": "stdout",
     "output_type": "stream",
     "text": [
      "120:\tlearn: 0.7493401\ttest: 0.7529794\tbest: 0.7530856 (119)\ttotal: 45s\tremaining: 30m 13s\n"
     ]
    },
    {
     "name": "stdout",
     "output_type": "stream",
     "text": [
      "140:\tlearn: 0.7515463\ttest: 0.7551312\tbest: 0.7551312 (140)\ttotal: 52.1s\tremaining: 29m 56s\n"
     ]
    },
    {
     "name": "stdout",
     "output_type": "stream",
     "text": [
      "160:\tlearn: 0.7540830\ttest: 0.7574118\tbest: 0.7574118 (160)\ttotal: 59.3s\tremaining: 29m 42s\n"
     ]
    },
    {
     "name": "stdout",
     "output_type": "stream",
     "text": [
      "180:\tlearn: 0.7564002\ttest: 0.7602498\tbest: 0.7602498 (180)\ttotal: 1m 6s\tremaining: 29m 34s\n"
     ]
    },
    {
     "name": "stdout",
     "output_type": "stream",
     "text": [
      "200:\tlearn: 0.7582118\ttest: 0.7622804\tbest: 0.7622804 (200)\ttotal: 1m 13s\tremaining: 29m 22s\n"
     ]
    },
    {
     "name": "stdout",
     "output_type": "stream",
     "text": [
      "220:\tlearn: 0.7598573\ttest: 0.7640967\tbest: 0.7640967 (220)\ttotal: 1m 21s\tremaining: 29m 12s\n"
     ]
    },
    {
     "name": "stdout",
     "output_type": "stream",
     "text": [
      "240:\tlearn: 0.7615822\ttest: 0.7659069\tbest: 0.7659069 (240)\ttotal: 1m 28s\tremaining: 29m 10s\n"
     ]
    },
    {
     "name": "stdout",
     "output_type": "stream",
     "text": [
      "260:\tlearn: 0.7625911\ttest: 0.7667442\tbest: 0.7667442 (260)\ttotal: 1m 35s\tremaining: 29m 1s\n"
     ]
    },
    {
     "name": "stdout",
     "output_type": "stream",
     "text": [
      "280:\tlearn: 0.7637364\ttest: 0.7678851\tbest: 0.7678851 (280)\ttotal: 1m 43s\tremaining: 28m 52s\n"
     ]
    },
    {
     "name": "stdout",
     "output_type": "stream",
     "text": [
      "300:\tlearn: 0.7648886\ttest: 0.7687104\tbest: 0.7689031 (294)\ttotal: 1m 50s\tremaining: 28m 43s\n"
     ]
    },
    {
     "name": "stdout",
     "output_type": "stream",
     "text": [
      "320:\tlearn: 0.7656429\ttest: 0.7692397\tbest: 0.7693430 (314)\ttotal: 1m 57s\tremaining: 28m 37s\n"
     ]
    },
    {
     "name": "stdout",
     "output_type": "stream",
     "text": [
      "340:\tlearn: 0.7667799\ttest: 0.7699989\tbest: 0.7702495 (338)\ttotal: 2m 5s\tremaining: 28m 28s\n"
     ]
    },
    {
     "name": "stdout",
     "output_type": "stream",
     "text": [
      "360:\tlearn: 0.7676445\ttest: 0.7704562\tbest: 0.7705765 (355)\ttotal: 2m 12s\tremaining: 28m 24s\n"
     ]
    },
    {
     "name": "stdout",
     "output_type": "stream",
     "text": [
      "380:\tlearn: 0.7686716\ttest: 0.7707882\tbest: 0.7709594 (376)\ttotal: 2m 20s\tremaining: 28m 17s\n"
     ]
    },
    {
     "name": "stdout",
     "output_type": "stream",
     "text": [
      "400:\tlearn: 0.7694810\ttest: 0.7717846\tbest: 0.7717846 (400)\ttotal: 2m 27s\tremaining: 28m 9s\n"
     ]
    },
    {
     "name": "stdout",
     "output_type": "stream",
     "text": [
      "420:\tlearn: 0.7701229\ttest: 0.7724847\tbest: 0.7724847 (420)\ttotal: 2m 34s\tremaining: 28m 4s\n"
     ]
    },
    {
     "name": "stdout",
     "output_type": "stream",
     "text": [
      "440:\tlearn: 0.7708984\ttest: 0.7729065\tbest: 0.7730522 (437)\ttotal: 2m 42s\tremaining: 27m 57s\n"
     ]
    },
    {
     "name": "stdout",
     "output_type": "stream",
     "text": [
      "460:\tlearn: 0.7715567\ttest: 0.7732118\tbest: 0.7732118 (460)\ttotal: 2m 49s\tremaining: 27m 48s\n"
     ]
    },
    {
     "name": "stdout",
     "output_type": "stream",
     "text": [
      "480:\tlearn: 0.7722608\ttest: 0.7736966\tbest: 0.7738554 (472)\ttotal: 2m 56s\tremaining: 27m 41s\n"
     ]
    },
    {
     "name": "stdout",
     "output_type": "stream",
     "text": [
      "500:\tlearn: 0.7727230\ttest: 0.7743590\tbest: 0.7744780 (499)\ttotal: 3m 4s\tremaining: 27m 32s\n"
     ]
    },
    {
     "name": "stdout",
     "output_type": "stream",
     "text": [
      "520:\tlearn: 0.7733761\ttest: 0.7749275\tbest: 0.7749275 (520)\ttotal: 3m 11s\tremaining: 27m 23s\n"
     ]
    },
    {
     "name": "stdout",
     "output_type": "stream",
     "text": [
      "540:\tlearn: 0.7738328\ttest: 0.7753411\tbest: 0.7753411 (540)\ttotal: 3m 18s\tremaining: 27m 15s\n"
     ]
    },
    {
     "name": "stdout",
     "output_type": "stream",
     "text": [
      "560:\tlearn: 0.7742685\ttest: 0.7756696\tbest: 0.7757132 (557)\ttotal: 3m 25s\tremaining: 27m 6s\n"
     ]
    },
    {
     "name": "stdout",
     "output_type": "stream",
     "text": [
      "580:\tlearn: 0.7749255\ttest: 0.7761998\tbest: 0.7762998 (579)\ttotal: 3m 32s\tremaining: 26m 57s\n"
     ]
    },
    {
     "name": "stdout",
     "output_type": "stream",
     "text": [
      "600:\tlearn: 0.7753280\ttest: 0.7765106\tbest: 0.7766094 (599)\ttotal: 3m 40s\tremaining: 26m 51s\n"
     ]
    },
    {
     "name": "stdout",
     "output_type": "stream",
     "text": [
      "620:\tlearn: 0.7756134\ttest: 0.7772584\tbest: 0.7772743 (619)\ttotal: 3m 47s\tremaining: 26m 45s\n"
     ]
    },
    {
     "name": "stdout",
     "output_type": "stream",
     "text": [
      "640:\tlearn: 0.7761515\ttest: 0.7776903\tbest: 0.7777238 (638)\ttotal: 3m 55s\tremaining: 26m 39s\n"
     ]
    },
    {
     "name": "stdout",
     "output_type": "stream",
     "text": [
      "660:\tlearn: 0.7763665\ttest: 0.7775059\tbest: 0.7778559 (649)\ttotal: 4m 2s\tremaining: 26m 32s\n"
     ]
    },
    {
     "name": "stdout",
     "output_type": "stream",
     "text": [
      "680:\tlearn: 0.7767758\ttest: 0.7777833\tbest: 0.7778559 (649)\ttotal: 4m 10s\tremaining: 26m 25s\n"
     ]
    },
    {
     "name": "stdout",
     "output_type": "stream",
     "text": [
      "700:\tlearn: 0.7770848\ttest: 0.7780361\tbest: 0.7780361 (700)\ttotal: 4m 17s\tremaining: 26m 19s\n"
     ]
    },
    {
     "name": "stdout",
     "output_type": "stream",
     "text": [
      "720:\tlearn: 0.7774880\ttest: 0.7784744\tbest: 0.7784744 (720)\ttotal: 4m 24s\tremaining: 26m 10s\n"
     ]
    },
    {
     "name": "stdout",
     "output_type": "stream",
     "text": [
      "740:\tlearn: 0.7776699\ttest: 0.7784454\tbest: 0.7786235 (737)\ttotal: 4m 32s\tremaining: 26m 4s\n"
     ]
    },
    {
     "name": "stdout",
     "output_type": "stream",
     "text": [
      "760:\tlearn: 0.7782996\ttest: 0.7791771\tbest: 0.7792082 (757)\ttotal: 4m 39s\tremaining: 25m 57s\n"
     ]
    },
    {
     "name": "stdout",
     "output_type": "stream",
     "text": [
      "780:\tlearn: 0.7785227\ttest: 0.7794584\tbest: 0.7795089 (776)\ttotal: 4m 46s\tremaining: 25m 49s\n"
     ]
    },
    {
     "name": "stdout",
     "output_type": "stream",
     "text": [
      "800:\tlearn: 0.7787061\ttest: 0.7800429\tbest: 0.7800529 (797)\ttotal: 4m 54s\tremaining: 25m 41s\n"
     ]
    },
    {
     "name": "stdout",
     "output_type": "stream",
     "text": [
      "820:\tlearn: 0.7789718\ttest: 0.7802536\tbest: 0.7803092 (817)\ttotal: 5m 1s\tremaining: 25m 33s\n"
     ]
    },
    {
     "name": "stdout",
     "output_type": "stream",
     "text": [
      "840:\tlearn: 0.7793523\ttest: 0.7804050\tbest: 0.7805075 (839)\ttotal: 5m 8s\tremaining: 25m 27s\n"
     ]
    },
    {
     "name": "stdout",
     "output_type": "stream",
     "text": [
      "860:\tlearn: 0.7795267\ttest: 0.7805647\tbest: 0.7806805 (855)\ttotal: 5m 16s\tremaining: 25m 19s\n"
     ]
    },
    {
     "name": "stdout",
     "output_type": "stream",
     "text": [
      "880:\tlearn: 0.7797669\ttest: 0.7807942\tbest: 0.7808042 (877)\ttotal: 5m 23s\tremaining: 25m 11s\n"
     ]
    },
    {
     "name": "stdout",
     "output_type": "stream",
     "text": [
      "900:\tlearn: 0.7802012\ttest: 0.7812790\tbest: 0.7813142 (898)\ttotal: 5m 30s\tremaining: 25m 4s\n"
     ]
    },
    {
     "name": "stdout",
     "output_type": "stream",
     "text": [
      "920:\tlearn: 0.7805007\ttest: 0.7812946\tbest: 0.7813548 (912)\ttotal: 5m 37s\tremaining: 24m 55s\n"
     ]
    },
    {
     "name": "stdout",
     "output_type": "stream",
     "text": [
      "940:\tlearn: 0.7807580\ttest: 0.7814565\tbest: 0.7816797 (930)\ttotal: 5m 44s\tremaining: 24m 47s\n"
     ]
    },
    {
     "name": "stdout",
     "output_type": "stream",
     "text": [
      "960:\tlearn: 0.7810446\ttest: 0.7819969\tbest: 0.7819969 (960)\ttotal: 5m 52s\tremaining: 24m 40s\n"
     ]
    },
    {
     "name": "stdout",
     "output_type": "stream",
     "text": [
      "980:\tlearn: 0.7812714\ttest: 0.7822572\tbest: 0.7823306 (975)\ttotal: 5m 59s\tremaining: 24m 33s\n"
     ]
    },
    {
     "name": "stdout",
     "output_type": "stream",
     "text": [
      "1000:\tlearn: 0.7816498\ttest: 0.7824803\tbest: 0.7825767 (996)\ttotal: 6m 6s\tremaining: 24m 25s\n"
     ]
    },
    {
     "name": "stdout",
     "output_type": "stream",
     "text": [
      "1020:\tlearn: 0.7819056\ttest: 0.7828288\tbest: 0.7828324 (1014)\ttotal: 6m 13s\tremaining: 24m 17s\n"
     ]
    },
    {
     "name": "stdout",
     "output_type": "stream",
     "text": [
      "1040:\tlearn: 0.7822737\ttest: 0.7831577\tbest: 0.7832314 (1036)\ttotal: 6m 21s\tremaining: 24m 9s\n"
     ]
    },
    {
     "name": "stdout",
     "output_type": "stream",
     "text": [
      "1060:\tlearn: 0.7824781\ttest: 0.7832038\tbest: 0.7833461 (1049)\ttotal: 6m 28s\tremaining: 24m 2s\n"
     ]
    },
    {
     "name": "stdout",
     "output_type": "stream",
     "text": [
      "1080:\tlearn: 0.7827737\ttest: 0.7835221\tbest: 0.7835221 (1080)\ttotal: 6m 35s\tremaining: 23m 54s\n"
     ]
    },
    {
     "name": "stdout",
     "output_type": "stream",
     "text": [
      "1100:\tlearn: 0.7830481\ttest: 0.7836266\tbest: 0.7838402 (1091)\ttotal: 6m 43s\tremaining: 23m 47s\n"
     ]
    },
    {
     "name": "stdout",
     "output_type": "stream",
     "text": [
      "1120:\tlearn: 0.7832751\ttest: 0.7837517\tbest: 0.7838402 (1091)\ttotal: 6m 50s\tremaining: 23m 40s\n"
     ]
    },
    {
     "name": "stdout",
     "output_type": "stream",
     "text": [
      "1140:\tlearn: 0.7835772\ttest: 0.7843476\tbest: 0.7843476 (1140)\ttotal: 6m 57s\tremaining: 23m 32s\n"
     ]
    },
    {
     "name": "stdout",
     "output_type": "stream",
     "text": [
      "1160:\tlearn: 0.7839316\ttest: 0.7844347\tbest: 0.7845560 (1148)\ttotal: 7m 4s\tremaining: 23m 24s\n"
     ]
    },
    {
     "name": "stdout",
     "output_type": "stream",
     "text": [
      "1180:\tlearn: 0.7839266\ttest: 0.7848327\tbest: 0.7848327 (1180)\ttotal: 7m 12s\tremaining: 23m 17s\n"
     ]
    },
    {
     "name": "stdout",
     "output_type": "stream",
     "text": [
      "1200:\tlearn: 0.7841030\ttest: 0.7846176\tbest: 0.7848798 (1183)\ttotal: 7m 19s\tremaining: 23m 9s\n"
     ]
    },
    {
     "name": "stdout",
     "output_type": "stream",
     "text": [
      "1220:\tlearn: 0.7843752\ttest: 0.7848231\tbest: 0.7848798 (1183)\ttotal: 7m 26s\tremaining: 23m 2s\n"
     ]
    },
    {
     "name": "stdout",
     "output_type": "stream",
     "text": [
      "1240:\tlearn: 0.7846725\ttest: 0.7849085\tbest: 0.7851254 (1232)\ttotal: 7m 34s\tremaining: 22m 55s\n"
     ]
    },
    {
     "name": "stdout",
     "output_type": "stream",
     "text": [
      "1260:\tlearn: 0.7848103\ttest: 0.7849645\tbest: 0.7851254 (1232)\ttotal: 7m 41s\tremaining: 22m 48s\n"
     ]
    },
    {
     "name": "stdout",
     "output_type": "stream",
     "text": [
      "1280:\tlearn: 0.7850852\ttest: 0.7849780\tbest: 0.7851254 (1232)\ttotal: 7m 48s\tremaining: 22m 41s\n"
     ]
    },
    {
     "name": "stdout",
     "output_type": "stream",
     "text": [
      "1300:\tlearn: 0.7852508\ttest: 0.7849285\tbest: 0.7851301 (1283)\ttotal: 7m 55s\tremaining: 22m 33s\n"
     ]
    },
    {
     "name": "stdout",
     "output_type": "stream",
     "text": [
      "1320:\tlearn: 0.7854238\ttest: 0.7851496\tbest: 0.7852635 (1312)\ttotal: 8m 3s\tremaining: 22m 26s\n"
     ]
    },
    {
     "name": "stdout",
     "output_type": "stream",
     "text": [
      "1340:\tlearn: 0.7855858\ttest: 0.7854162\tbest: 0.7854404 (1330)\ttotal: 8m 10s\tremaining: 22m 18s\n"
     ]
    },
    {
     "name": "stdout",
     "output_type": "stream",
     "text": [
      "1360:\tlearn: 0.7856542\ttest: 0.7855809\tbest: 0.7857963 (1351)\ttotal: 8m 17s\tremaining: 22m 11s\n"
     ]
    },
    {
     "name": "stdout",
     "output_type": "stream",
     "text": [
      "1380:\tlearn: 0.7858904\ttest: 0.7859913\tbest: 0.7859913 (1380)\ttotal: 8m 25s\tremaining: 22m 4s\n"
     ]
    },
    {
     "name": "stdout",
     "output_type": "stream",
     "text": [
      "1400:\tlearn: 0.7862228\ttest: 0.7861932\tbest: 0.7862526 (1398)\ttotal: 8m 32s\tremaining: 21m 56s\n"
     ]
    },
    {
     "name": "stdout",
     "output_type": "stream",
     "text": [
      "1420:\tlearn: 0.7863633\ttest: 0.7861626\tbest: 0.7863203 (1401)\ttotal: 8m 39s\tremaining: 21m 48s\n"
     ]
    },
    {
     "name": "stdout",
     "output_type": "stream",
     "text": [
      "1440:\tlearn: 0.7865134\ttest: 0.7861983\tbest: 0.7863203 (1401)\ttotal: 8m 47s\tremaining: 21m 42s\n"
     ]
    },
    {
     "name": "stdout",
     "output_type": "stream",
     "text": [
      "1460:\tlearn: 0.7866925\ttest: 0.7865016\tbest: 0.7865016 (1460)\ttotal: 8m 54s\tremaining: 21m 34s\n"
     ]
    },
    {
     "name": "stdout",
     "output_type": "stream",
     "text": [
      "1480:\tlearn: 0.7869462\ttest: 0.7864074\tbest: 0.7865400 (1472)\ttotal: 9m 1s\tremaining: 21m 27s\n"
     ]
    },
    {
     "name": "stdout",
     "output_type": "stream",
     "text": [
      "1500:\tlearn: 0.7871076\ttest: 0.7865413\tbest: 0.7866803 (1494)\ttotal: 9m 8s\tremaining: 21m 19s\n"
     ]
    },
    {
     "name": "stdout",
     "output_type": "stream",
     "text": [
      "1520:\tlearn: 0.7872158\ttest: 0.7865672\tbest: 0.7866803 (1494)\ttotal: 9m 16s\tremaining: 21m 11s\n"
     ]
    },
    {
     "name": "stdout",
     "output_type": "stream",
     "text": [
      "1540:\tlearn: 0.7874254\ttest: 0.7869118\tbest: 0.7869118 (1540)\ttotal: 9m 23s\tremaining: 21m 4s\n"
     ]
    },
    {
     "name": "stdout",
     "output_type": "stream",
     "text": [
      "1560:\tlearn: 0.7875395\ttest: 0.7870028\tbest: 0.7871029 (1557)\ttotal: 9m 30s\tremaining: 20m 56s\n"
     ]
    },
    {
     "name": "stdout",
     "output_type": "stream",
     "text": [
      "1580:\tlearn: 0.7877773\ttest: 0.7871723\tbest: 0.7871723 (1580)\ttotal: 9m 37s\tremaining: 20m 49s\n"
     ]
    },
    {
     "name": "stdout",
     "output_type": "stream",
     "text": [
      "1600:\tlearn: 0.7879006\ttest: 0.7874084\tbest: 0.7874690 (1597)\ttotal: 9m 44s\tremaining: 20m 41s\n"
     ]
    },
    {
     "name": "stdout",
     "output_type": "stream",
     "text": [
      "1620:\tlearn: 0.7880493\ttest: 0.7876246\tbest: 0.7876246 (1620)\ttotal: 9m 52s\tremaining: 20m 34s\n"
     ]
    },
    {
     "name": "stdout",
     "output_type": "stream",
     "text": [
      "1640:\tlearn: 0.7882547\ttest: 0.7874611\tbest: 0.7877134 (1623)\ttotal: 9m 59s\tremaining: 20m 27s\n"
     ]
    },
    {
     "name": "stdout",
     "output_type": "stream",
     "text": [
      "1660:\tlearn: 0.7884378\ttest: 0.7875932\tbest: 0.7877134 (1623)\ttotal: 10m 6s\tremaining: 20m 19s\n"
     ]
    },
    {
     "name": "stdout",
     "output_type": "stream",
     "text": [
      "1680:\tlearn: 0.7886463\ttest: 0.7876768\tbest: 0.7877134 (1623)\ttotal: 10m 13s\tremaining: 20m 12s\n"
     ]
    },
    {
     "name": "stdout",
     "output_type": "stream",
     "text": [
      "1700:\tlearn: 0.7887292\ttest: 0.7879689\tbest: 0.7880890 (1695)\ttotal: 10m 21s\tremaining: 20m 4s\n"
     ]
    },
    {
     "name": "stdout",
     "output_type": "stream",
     "text": [
      "1720:\tlearn: 0.7888697\ttest: 0.7879280\tbest: 0.7881331 (1714)\ttotal: 10m 28s\tremaining: 19m 56s\n"
     ]
    },
    {
     "name": "stdout",
     "output_type": "stream",
     "text": [
      "1740:\tlearn: 0.7889679\ttest: 0.7881782\tbest: 0.7881782 (1740)\ttotal: 10m 35s\tremaining: 19m 49s\n"
     ]
    },
    {
     "name": "stdout",
     "output_type": "stream",
     "text": [
      "1760:\tlearn: 0.7890569\ttest: 0.7883278\tbest: 0.7883278 (1760)\ttotal: 10m 42s\tremaining: 19m 42s\n"
     ]
    },
    {
     "name": "stdout",
     "output_type": "stream",
     "text": [
      "1780:\tlearn: 0.7891363\ttest: 0.7883072\tbest: 0.7883957 (1763)\ttotal: 10m 50s\tremaining: 19m 35s\n"
     ]
    },
    {
     "name": "stdout",
     "output_type": "stream",
     "text": [
      "1800:\tlearn: 0.7891494\ttest: 0.7883480\tbest: 0.7886396 (1796)\ttotal: 10m 57s\tremaining: 19m 28s\n"
     ]
    },
    {
     "name": "stdout",
     "output_type": "stream",
     "text": [
      "1820:\tlearn: 0.7892995\ttest: 0.7885786\tbest: 0.7886817 (1816)\ttotal: 11m 5s\tremaining: 19m 21s\n"
     ]
    },
    {
     "name": "stdout",
     "output_type": "stream",
     "text": [
      "1840:\tlearn: 0.7894435\ttest: 0.7887267\tbest: 0.7888251 (1833)\ttotal: 11m 12s\tremaining: 19m 13s\n"
     ]
    },
    {
     "name": "stdout",
     "output_type": "stream",
     "text": [
      "1860:\tlearn: 0.7895266\ttest: 0.7888300\tbest: 0.7888300 (1860)\ttotal: 11m 19s\tremaining: 19m 6s\n"
     ]
    },
    {
     "name": "stdout",
     "output_type": "stream",
     "text": [
      "1880:\tlearn: 0.7896464\ttest: 0.7886373\tbest: 0.7888300 (1860)\ttotal: 11m 26s\tremaining: 18m 58s\n"
     ]
    },
    {
     "name": "stdout",
     "output_type": "stream",
     "text": [
      "1900:\tlearn: 0.7897191\ttest: 0.7888263\tbest: 0.7888435 (1897)\ttotal: 11m 34s\tremaining: 18m 51s\n"
     ]
    },
    {
     "name": "stdout",
     "output_type": "stream",
     "text": [
      "1920:\tlearn: 0.7900315\ttest: 0.7889942\tbest: 0.7890135 (1918)\ttotal: 11m 41s\tremaining: 18m 44s\n"
     ]
    },
    {
     "name": "stdout",
     "output_type": "stream",
     "text": [
      "1940:\tlearn: 0.7901160\ttest: 0.7887982\tbest: 0.7890373 (1922)\ttotal: 11m 49s\tremaining: 18m 37s\n"
     ]
    },
    {
     "name": "stdout",
     "output_type": "stream",
     "text": [
      "1960:\tlearn: 0.7903212\ttest: 0.7888806\tbest: 0.7890373 (1922)\ttotal: 11m 56s\tremaining: 18m 30s\n"
     ]
    },
    {
     "name": "stdout",
     "output_type": "stream",
     "text": [
      "1980:\tlearn: 0.7905266\ttest: 0.7889201\tbest: 0.7890373 (1922)\ttotal: 12m 3s\tremaining: 18m 22s\n"
     ]
    },
    {
     "name": "stdout",
     "output_type": "stream",
     "text": [
      "2000:\tlearn: 0.7906590\ttest: 0.7891073\tbest: 0.7892115 (1999)\ttotal: 12m 10s\tremaining: 18m 15s\n"
     ]
    },
    {
     "name": "stdout",
     "output_type": "stream",
     "text": [
      "2020:\tlearn: 0.7909257\ttest: 0.7893777\tbest: 0.7893777 (2020)\ttotal: 12m 18s\tremaining: 18m 7s\n"
     ]
    },
    {
     "name": "stdout",
     "output_type": "stream",
     "text": [
      "2040:\tlearn: 0.7910492\ttest: 0.7895632\tbest: 0.7895803 (2037)\ttotal: 12m 25s\tremaining: 18m\n"
     ]
    },
    {
     "name": "stdout",
     "output_type": "stream",
     "text": [
      "2060:\tlearn: 0.7911040\ttest: 0.7896425\tbest: 0.7896425 (2060)\ttotal: 12m 32s\tremaining: 17m 53s\n"
     ]
    },
    {
     "name": "stdout",
     "output_type": "stream",
     "text": [
      "2080:\tlearn: 0.7912878\ttest: 0.7894706\tbest: 0.7896425 (2060)\ttotal: 12m 39s\tremaining: 17m 45s\n"
     ]
    },
    {
     "name": "stdout",
     "output_type": "stream",
     "text": [
      "2100:\tlearn: 0.7914465\ttest: 0.7896528\tbest: 0.7897530 (2092)\ttotal: 12m 47s\tremaining: 17m 38s\n"
     ]
    },
    {
     "name": "stdout",
     "output_type": "stream",
     "text": [
      "2120:\tlearn: 0.7915674\ttest: 0.7898981\tbest: 0.7899345 (2113)\ttotal: 12m 54s\tremaining: 17m 31s\n"
     ]
    },
    {
     "name": "stdout",
     "output_type": "stream",
     "text": [
      "2140:\tlearn: 0.7917500\ttest: 0.7898535\tbest: 0.7899682 (2126)\ttotal: 13m 1s\tremaining: 17m 24s\n"
     ]
    },
    {
     "name": "stdout",
     "output_type": "stream",
     "text": [
      "2160:\tlearn: 0.7918436\ttest: 0.7898878\tbest: 0.7899889 (2156)\ttotal: 13m 9s\tremaining: 17m 16s\n"
     ]
    },
    {
     "name": "stdout",
     "output_type": "stream",
     "text": [
      "2180:\tlearn: 0.7918778\ttest: 0.7899712\tbest: 0.7900545 (2179)\ttotal: 13m 16s\tremaining: 17m 9s\n"
     ]
    },
    {
     "name": "stdout",
     "output_type": "stream",
     "text": [
      "2200:\tlearn: 0.7919982\ttest: 0.7900902\tbest: 0.7902911 (2186)\ttotal: 13m 23s\tremaining: 17m 2s\n"
     ]
    },
    {
     "name": "stdout",
     "output_type": "stream",
     "text": [
      "2220:\tlearn: 0.7920761\ttest: 0.7900409\tbest: 0.7902911 (2186)\ttotal: 13m 31s\tremaining: 16m 54s\n"
     ]
    },
    {
     "name": "stdout",
     "output_type": "stream",
     "text": [
      "2240:\tlearn: 0.7921765\ttest: 0.7900760\tbest: 0.7902911 (2186)\ttotal: 13m 38s\tremaining: 16m 47s\n"
     ]
    },
    {
     "name": "stdout",
     "output_type": "stream",
     "text": [
      "2260:\tlearn: 0.7922860\ttest: 0.7900055\tbest: 0.7902911 (2186)\ttotal: 13m 45s\tremaining: 16m 40s\n"
     ]
    },
    {
     "name": "stdout",
     "output_type": "stream",
     "text": [
      "2280:\tlearn: 0.7923380\ttest: 0.7900004\tbest: 0.7902911 (2186)\ttotal: 13m 52s\tremaining: 16m 32s\n"
     ]
    },
    {
     "name": "stdout",
     "output_type": "stream",
     "text": [
      "2300:\tlearn: 0.7925497\ttest: 0.7899298\tbest: 0.7902911 (2186)\ttotal: 14m\tremaining: 16m 25s\n"
     ]
    },
    {
     "name": "stdout",
     "output_type": "stream",
     "text": [
      "2320:\tlearn: 0.7926773\ttest: 0.7899189\tbest: 0.7902911 (2186)\ttotal: 14m 7s\tremaining: 16m 18s\n"
     ]
    },
    {
     "name": "stdout",
     "output_type": "stream",
     "text": [
      "2340:\tlearn: 0.7927809\ttest: 0.7899529\tbest: 0.7902911 (2186)\ttotal: 14m 15s\tremaining: 16m 11s\n"
     ]
    },
    {
     "name": "stdout",
     "output_type": "stream",
     "text": [
      "2360:\tlearn: 0.7928935\ttest: 0.7899860\tbest: 0.7902911 (2186)\ttotal: 14m 22s\tremaining: 16m 4s\n"
     ]
    },
    {
     "name": "stdout",
     "output_type": "stream",
     "text": [
      "2380:\tlearn: 0.7929284\ttest: 0.7899787\tbest: 0.7902911 (2186)\ttotal: 14m 29s\tremaining: 15m 56s\n"
     ]
    },
    {
     "name": "stdout",
     "output_type": "stream",
     "text": [
      "2400:\tlearn: 0.7930600\ttest: 0.7900297\tbest: 0.7902911 (2186)\ttotal: 14m 36s\tremaining: 15m 49s\n"
     ]
    },
    {
     "name": "stdout",
     "output_type": "stream",
     "text": [
      "2420:\tlearn: 0.7931663\ttest: 0.7900806\tbest: 0.7902911 (2186)\ttotal: 14m 44s\tremaining: 15m 41s\n"
     ]
    },
    {
     "name": "stdout",
     "output_type": "stream",
     "text": [
      "2440:\tlearn: 0.7931832\ttest: 0.7900496\tbest: 0.7902911 (2186)\ttotal: 14m 51s\tremaining: 15m 34s\n"
     ]
    },
    {
     "name": "stdout",
     "output_type": "stream",
     "text": [
      "2460:\tlearn: 0.7933317\ttest: 0.7899981\tbest: 0.7902911 (2186)\ttotal: 14m 58s\tremaining: 15m 27s\n"
     ]
    },
    {
     "name": "stdout",
     "output_type": "stream",
     "text": [
      "2480:\tlearn: 0.7934315\ttest: 0.7900092\tbest: 0.7902911 (2186)\ttotal: 15m 6s\tremaining: 15m 20s\n"
     ]
    },
    {
     "name": "stdout",
     "output_type": "stream",
     "text": [
      "Stopped by overfitting detector  (300 iterations wait)\n",
      "\n",
      "bestTest = 0.7902910935\n",
      "bestIteration = 2186\n",
      "\n",
      "Shrink model to first 2187 iterations.\n"
     ]
    },
    {
     "name": "stdout",
     "output_type": "stream",
     "text": [
      "Training time: 108.8408444404602 min.\n",
      "OOF recall_at4: 0.6582960245060087\n",
      "OOF normalized_gini: 0.9208890470355089\n",
      "OOF competition metric: 0.7895925357707587\n"
     ]
    },
    {
     "name": "stdout",
     "output_type": "stream",
     "text": [
      "############################### repeated cross-validation step: 3/3 ################################\n"
     ]
    },
    {
     "name": "stdout",
     "output_type": "stream",
     "text": [
      "######################################## training model 1/5 ########################################\n"
     ]
    },
    {
     "name": "stdout",
     "output_type": "stream",
     "text": [
      "0:\tlearn: 0.6433338\ttest: 0.6386672\tbest: 0.6386672 (0)\ttotal: 691ms\tremaining: 57m 35s\n"
     ]
    },
    {
     "name": "stdout",
     "output_type": "stream",
     "text": [
      "20:\tlearn: 0.7306055\ttest: 0.7276832\tbest: 0.7276832 (20)\ttotal: 7.7s\tremaining: 30m 25s\n"
     ]
    },
    {
     "name": "stdout",
     "output_type": "stream",
     "text": [
      "40:\tlearn: 0.7363337\ttest: 0.7346531\tbest: 0.7346531 (40)\ttotal: 15s\tremaining: 30m 17s\n"
     ]
    },
    {
     "name": "stdout",
     "output_type": "stream",
     "text": [
      "60:\tlearn: 0.7411610\ttest: 0.7390721\tbest: 0.7391357 (59)\ttotal: 22.3s\tremaining: 30m 8s\n"
     ]
    },
    {
     "name": "stdout",
     "output_type": "stream",
     "text": [
      "80:\tlearn: 0.7444669\ttest: 0.7423222\tbest: 0.7423222 (80)\ttotal: 29.6s\tremaining: 30m\n"
     ]
    },
    {
     "name": "stdout",
     "output_type": "stream",
     "text": [
      "100:\tlearn: 0.7473778\ttest: 0.7451328\tbest: 0.7451328 (100)\ttotal: 36.9s\tremaining: 29m 49s\n"
     ]
    },
    {
     "name": "stdout",
     "output_type": "stream",
     "text": [
      "120:\tlearn: 0.7513908\ttest: 0.7479923\tbest: 0.7479923 (120)\ttotal: 44.3s\tremaining: 29m 47s\n"
     ]
    },
    {
     "name": "stdout",
     "output_type": "stream",
     "text": [
      "140:\tlearn: 0.7542539\ttest: 0.7499164\tbest: 0.7499551 (138)\ttotal: 51.8s\tremaining: 29m 44s\n"
     ]
    },
    {
     "name": "stdout",
     "output_type": "stream",
     "text": [
      "160:\tlearn: 0.7565757\ttest: 0.7521187\tbest: 0.7521187 (160)\ttotal: 59.1s\tremaining: 29m 37s\n"
     ]
    },
    {
     "name": "stdout",
     "output_type": "stream",
     "text": [
      "180:\tlearn: 0.7584172\ttest: 0.7545823\tbest: 0.7546094 (178)\ttotal: 1m 6s\tremaining: 29m 33s\n"
     ]
    },
    {
     "name": "stdout",
     "output_type": "stream",
     "text": [
      "200:\tlearn: 0.7599200\ttest: 0.7568914\tbest: 0.7568914 (200)\ttotal: 1m 13s\tremaining: 29m 23s\n"
     ]
    },
    {
     "name": "stdout",
     "output_type": "stream",
     "text": [
      "220:\tlearn: 0.7616735\ttest: 0.7581781\tbest: 0.7581781 (220)\ttotal: 1m 21s\tremaining: 29m 18s\n"
     ]
    },
    {
     "name": "stdout",
     "output_type": "stream",
     "text": [
      "240:\tlearn: 0.7633226\ttest: 0.7593732\tbest: 0.7593732 (240)\ttotal: 1m 28s\tremaining: 29m 12s\n"
     ]
    },
    {
     "name": "stdout",
     "output_type": "stream",
     "text": [
      "260:\tlearn: 0.7644074\ttest: 0.7603435\tbest: 0.7603576 (257)\ttotal: 1m 36s\tremaining: 29m 9s\n"
     ]
    },
    {
     "name": "stdout",
     "output_type": "stream",
     "text": [
      "280:\tlearn: 0.7654335\ttest: 0.7616382\tbest: 0.7616631 (279)\ttotal: 1m 43s\tremaining: 29m 2s\n"
     ]
    },
    {
     "name": "stdout",
     "output_type": "stream",
     "text": [
      "300:\tlearn: 0.7663756\ttest: 0.7622156\tbest: 0.7623147 (298)\ttotal: 1m 51s\tremaining: 28m 54s\n"
     ]
    },
    {
     "name": "stdout",
     "output_type": "stream",
     "text": [
      "320:\tlearn: 0.7676354\ttest: 0.7638898\tbest: 0.7638898 (320)\ttotal: 1m 58s\tremaining: 28m 47s\n"
     ]
    },
    {
     "name": "stdout",
     "output_type": "stream",
     "text": [
      "340:\tlearn: 0.7684542\ttest: 0.7646231\tbest: 0.7647171 (339)\ttotal: 2m 6s\tremaining: 28m 43s\n"
     ]
    },
    {
     "name": "stdout",
     "output_type": "stream",
     "text": [
      "360:\tlearn: 0.7690091\ttest: 0.7652504\tbest: 0.7652828 (359)\ttotal: 2m 13s\tremaining: 28m 34s\n"
     ]
    },
    {
     "name": "stdout",
     "output_type": "stream",
     "text": [
      "380:\tlearn: 0.7698351\ttest: 0.7659346\tbest: 0.7659346 (380)\ttotal: 2m 20s\tremaining: 28m 27s\n"
     ]
    },
    {
     "name": "stdout",
     "output_type": "stream",
     "text": [
      "400:\tlearn: 0.7707402\ttest: 0.7665120\tbest: 0.7667080 (396)\ttotal: 2m 28s\tremaining: 28m 20s\n"
     ]
    },
    {
     "name": "stdout",
     "output_type": "stream",
     "text": [
      "420:\tlearn: 0.7715307\ttest: 0.7669888\tbest: 0.7669888 (420)\ttotal: 2m 35s\tremaining: 28m 11s\n"
     ]
    },
    {
     "name": "stdout",
     "output_type": "stream",
     "text": [
      "440:\tlearn: 0.7722085\ttest: 0.7676896\tbest: 0.7677160 (438)\ttotal: 2m 42s\tremaining: 28m 3s\n"
     ]
    },
    {
     "name": "stdout",
     "output_type": "stream",
     "text": [
      "460:\tlearn: 0.7726005\ttest: 0.7679682\tbest: 0.7682513 (456)\ttotal: 2m 50s\tremaining: 27m 55s\n"
     ]
    },
    {
     "name": "stdout",
     "output_type": "stream",
     "text": [
      "480:\tlearn: 0.7731414\ttest: 0.7684044\tbest: 0.7686489 (476)\ttotal: 2m 57s\tremaining: 27m 46s\n"
     ]
    },
    {
     "name": "stdout",
     "output_type": "stream",
     "text": [
      "500:\tlearn: 0.7734145\ttest: 0.7687557\tbest: 0.7687557 (500)\ttotal: 3m 4s\tremaining: 27m 39s\n"
     ]
    },
    {
     "name": "stdout",
     "output_type": "stream",
     "text": [
      "520:\tlearn: 0.7738680\ttest: 0.7693858\tbest: 0.7694775 (517)\ttotal: 3m 12s\tremaining: 27m 32s\n"
     ]
    },
    {
     "name": "stdout",
     "output_type": "stream",
     "text": [
      "540:\tlearn: 0.7744119\ttest: 0.7697098\tbest: 0.7698830 (537)\ttotal: 3m 19s\tremaining: 27m 24s\n"
     ]
    },
    {
     "name": "stdout",
     "output_type": "stream",
     "text": [
      "560:\tlearn: 0.7750997\ttest: 0.7700997\tbest: 0.7700997 (560)\ttotal: 3m 26s\tremaining: 27m 17s\n"
     ]
    },
    {
     "name": "stdout",
     "output_type": "stream",
     "text": [
      "580:\tlearn: 0.7756046\ttest: 0.7706738\tbest: 0.7706738 (580)\ttotal: 3m 34s\tremaining: 27m 9s\n"
     ]
    },
    {
     "name": "stdout",
     "output_type": "stream",
     "text": [
      "600:\tlearn: 0.7761374\ttest: 0.7716167\tbest: 0.7716167 (600)\ttotal: 3m 41s\tremaining: 27m 1s\n"
     ]
    },
    {
     "name": "stdout",
     "output_type": "stream",
     "text": [
      "620:\tlearn: 0.7765823\ttest: 0.7719638\tbest: 0.7720753 (616)\ttotal: 3m 48s\tremaining: 26m 52s\n"
     ]
    },
    {
     "name": "stdout",
     "output_type": "stream",
     "text": [
      "640:\tlearn: 0.7770335\ttest: 0.7726194\tbest: 0.7726973 (639)\ttotal: 3m 55s\tremaining: 26m 44s\n"
     ]
    },
    {
     "name": "stdout",
     "output_type": "stream",
     "text": [
      "660:\tlearn: 0.7774267\ttest: 0.7727345\tbest: 0.7728875 (657)\ttotal: 4m 3s\tremaining: 26m 37s\n"
     ]
    },
    {
     "name": "stdout",
     "output_type": "stream",
     "text": [
      "680:\tlearn: 0.7778416\ttest: 0.7730773\tbest: 0.7731358 (679)\ttotal: 4m 10s\tremaining: 26m 30s\n"
     ]
    },
    {
     "name": "stdout",
     "output_type": "stream",
     "text": [
      "700:\tlearn: 0.7781748\ttest: 0.7737064\tbest: 0.7737064 (700)\ttotal: 4m 18s\tremaining: 26m 23s\n"
     ]
    },
    {
     "name": "stdout",
     "output_type": "stream",
     "text": [
      "720:\tlearn: 0.7784530\ttest: 0.7736598\tbest: 0.7737064 (700)\ttotal: 4m 25s\tremaining: 26m 15s\n"
     ]
    },
    {
     "name": "stdout",
     "output_type": "stream",
     "text": [
      "740:\tlearn: 0.7788486\ttest: 0.7739296\tbest: 0.7740930 (738)\ttotal: 4m 32s\tremaining: 26m 7s\n"
     ]
    },
    {
     "name": "stdout",
     "output_type": "stream",
     "text": [
      "760:\tlearn: 0.7789095\ttest: 0.7744635\tbest: 0.7744635 (760)\ttotal: 4m 40s\tremaining: 25m 59s\n"
     ]
    },
    {
     "name": "stdout",
     "output_type": "stream",
     "text": [
      "780:\tlearn: 0.7794283\ttest: 0.7749206\tbest: 0.7749796 (779)\ttotal: 4m 47s\tremaining: 25m 54s\n"
     ]
    },
    {
     "name": "stdout",
     "output_type": "stream",
     "text": [
      "800:\tlearn: 0.7797747\ttest: 0.7750144\tbest: 0.7752180 (798)\ttotal: 4m 54s\tremaining: 25m 46s\n"
     ]
    },
    {
     "name": "stdout",
     "output_type": "stream",
     "text": [
      "820:\tlearn: 0.7803034\ttest: 0.7757315\tbest: 0.7757315 (820)\ttotal: 5m 2s\tremaining: 25m 38s\n"
     ]
    },
    {
     "name": "stdout",
     "output_type": "stream",
     "text": [
      "840:\tlearn: 0.7807492\ttest: 0.7762663\tbest: 0.7762663 (840)\ttotal: 5m 9s\tremaining: 25m 31s\n"
     ]
    },
    {
     "name": "stdout",
     "output_type": "stream",
     "text": [
      "860:\tlearn: 0.7809129\ttest: 0.7764144\tbest: 0.7764144 (860)\ttotal: 5m 16s\tremaining: 25m 23s\n"
     ]
    },
    {
     "name": "stdout",
     "output_type": "stream",
     "text": [
      "880:\tlearn: 0.7812107\ttest: 0.7769341\tbest: 0.7769341 (880)\ttotal: 5m 24s\tremaining: 25m 16s\n"
     ]
    },
    {
     "name": "stdout",
     "output_type": "stream",
     "text": [
      "900:\tlearn: 0.7815965\ttest: 0.7774741\tbest: 0.7774741 (900)\ttotal: 5m 31s\tremaining: 25m 7s\n"
     ]
    },
    {
     "name": "stdout",
     "output_type": "stream",
     "text": [
      "920:\tlearn: 0.7818204\ttest: 0.7774676\tbest: 0.7775546 (906)\ttotal: 5m 38s\tremaining: 24m 59s\n"
     ]
    },
    {
     "name": "stdout",
     "output_type": "stream",
     "text": [
      "940:\tlearn: 0.7820564\ttest: 0.7779384\tbest: 0.7779508 (937)\ttotal: 5m 45s\tremaining: 24m 50s\n"
     ]
    },
    {
     "name": "stdout",
     "output_type": "stream",
     "text": [
      "960:\tlearn: 0.7822653\ttest: 0.7779884\tbest: 0.7780987 (953)\ttotal: 5m 52s\tremaining: 24m 42s\n"
     ]
    },
    {
     "name": "stdout",
     "output_type": "stream",
     "text": [
      "980:\tlearn: 0.7824200\ttest: 0.7781909\tbest: 0.7781909 (980)\ttotal: 6m\tremaining: 24m 36s\n"
     ]
    },
    {
     "name": "stdout",
     "output_type": "stream",
     "text": [
      "1000:\tlearn: 0.7826430\ttest: 0.7785184\tbest: 0.7785184 (1000)\ttotal: 6m 7s\tremaining: 24m 28s\n"
     ]
    },
    {
     "name": "stdout",
     "output_type": "stream",
     "text": [
      "1020:\tlearn: 0.7828468\ttest: 0.7787605\tbest: 0.7787605 (1020)\ttotal: 6m 14s\tremaining: 24m 20s\n"
     ]
    },
    {
     "name": "stdout",
     "output_type": "stream",
     "text": [
      "1040:\tlearn: 0.7830605\ttest: 0.7792086\tbest: 0.7792858 (1037)\ttotal: 6m 21s\tremaining: 24m 11s\n"
     ]
    },
    {
     "name": "stdout",
     "output_type": "stream",
     "text": [
      "1060:\tlearn: 0.7834948\ttest: 0.7793418\tbest: 0.7794973 (1055)\ttotal: 6m 29s\tremaining: 24m 4s\n"
     ]
    },
    {
     "name": "stdout",
     "output_type": "stream",
     "text": [
      "1080:\tlearn: 0.7837535\ttest: 0.7797847\tbest: 0.7798040 (1079)\ttotal: 6m 36s\tremaining: 23m 57s\n"
     ]
    },
    {
     "name": "stdout",
     "output_type": "stream",
     "text": [
      "1100:\tlearn: 0.7839235\ttest: 0.7800338\tbest: 0.7801306 (1096)\ttotal: 6m 43s\tremaining: 23m 48s\n"
     ]
    },
    {
     "name": "stdout",
     "output_type": "stream",
     "text": [
      "1120:\tlearn: 0.7842754\ttest: 0.7801789\tbest: 0.7802165 (1117)\ttotal: 6m 50s\tremaining: 23m 41s\n"
     ]
    },
    {
     "name": "stdout",
     "output_type": "stream",
     "text": [
      "1140:\tlearn: 0.7843231\ttest: 0.7805148\tbest: 0.7805148 (1140)\ttotal: 6m 58s\tremaining: 23m 34s\n"
     ]
    },
    {
     "name": "stdout",
     "output_type": "stream",
     "text": [
      "1160:\tlearn: 0.7846924\ttest: 0.7808262\tbest: 0.7808331 (1153)\ttotal: 7m 5s\tremaining: 23m 27s\n"
     ]
    },
    {
     "name": "stdout",
     "output_type": "stream",
     "text": [
      "1180:\tlearn: 0.7848538\ttest: 0.7812907\tbest: 0.7813302 (1178)\ttotal: 7m 13s\tremaining: 23m 20s\n"
     ]
    },
    {
     "name": "stdout",
     "output_type": "stream",
     "text": [
      "1200:\tlearn: 0.7850605\ttest: 0.7814785\tbest: 0.7814972 (1199)\ttotal: 7m 20s\tremaining: 23m 12s\n"
     ]
    },
    {
     "name": "stdout",
     "output_type": "stream",
     "text": [
      "1220:\tlearn: 0.7852526\ttest: 0.7814797\tbest: 0.7816198 (1206)\ttotal: 7m 27s\tremaining: 23m 4s\n"
     ]
    },
    {
     "name": "stdout",
     "output_type": "stream",
     "text": [
      "1240:\tlearn: 0.7856990\ttest: 0.7815841\tbest: 0.7816540 (1232)\ttotal: 7m 34s\tremaining: 22m 56s\n"
     ]
    },
    {
     "name": "stdout",
     "output_type": "stream",
     "text": [
      "1260:\tlearn: 0.7857408\ttest: 0.7817840\tbest: 0.7818218 (1257)\ttotal: 7m 41s\tremaining: 22m 48s\n"
     ]
    },
    {
     "name": "stdout",
     "output_type": "stream",
     "text": [
      "1280:\tlearn: 0.7858665\ttest: 0.7820721\tbest: 0.7820721 (1280)\ttotal: 7m 48s\tremaining: 22m 41s\n"
     ]
    },
    {
     "name": "stdout",
     "output_type": "stream",
     "text": [
      "1300:\tlearn: 0.7861569\ttest: 0.7822330\tbest: 0.7822833 (1294)\ttotal: 7m 56s\tremaining: 22m 33s\n"
     ]
    },
    {
     "name": "stdout",
     "output_type": "stream",
     "text": [
      "1320:\tlearn: 0.7863442\ttest: 0.7822028\tbest: 0.7823166 (1312)\ttotal: 8m 3s\tremaining: 22m 26s\n"
     ]
    },
    {
     "name": "stdout",
     "output_type": "stream",
     "text": [
      "1340:\tlearn: 0.7865878\ttest: 0.7827006\tbest: 0.7827006 (1340)\ttotal: 8m 10s\tremaining: 22m 18s\n"
     ]
    },
    {
     "name": "stdout",
     "output_type": "stream",
     "text": [
      "1360:\tlearn: 0.7868868\ttest: 0.7826334\tbest: 0.7827206 (1351)\ttotal: 8m 17s\tremaining: 22m 10s\n"
     ]
    },
    {
     "name": "stdout",
     "output_type": "stream",
     "text": [
      "1380:\tlearn: 0.7870373\ttest: 0.7827879\tbest: 0.7828210 (1374)\ttotal: 8m 25s\tremaining: 22m 3s\n"
     ]
    },
    {
     "name": "stdout",
     "output_type": "stream",
     "text": [
      "1400:\tlearn: 0.7872882\ttest: 0.7829029\tbest: 0.7830269 (1398)\ttotal: 8m 32s\tremaining: 21m 55s\n"
     ]
    },
    {
     "name": "stdout",
     "output_type": "stream",
     "text": [
      "1420:\tlearn: 0.7874429\ttest: 0.7830582\tbest: 0.7832111 (1408)\ttotal: 8m 39s\tremaining: 21m 48s\n"
     ]
    },
    {
     "name": "stdout",
     "output_type": "stream",
     "text": [
      "1440:\tlearn: 0.7876105\ttest: 0.7831527\tbest: 0.7833519 (1432)\ttotal: 8m 46s\tremaining: 21m 41s\n"
     ]
    },
    {
     "name": "stdout",
     "output_type": "stream",
     "text": [
      "1460:\tlearn: 0.7878504\ttest: 0.7830743\tbest: 0.7833519 (1432)\ttotal: 8m 54s\tremaining: 21m 34s\n"
     ]
    },
    {
     "name": "stdout",
     "output_type": "stream",
     "text": [
      "1480:\tlearn: 0.7879188\ttest: 0.7833497\tbest: 0.7833519 (1432)\ttotal: 9m 1s\tremaining: 21m 26s\n"
     ]
    },
    {
     "name": "stdout",
     "output_type": "stream",
     "text": [
      "1500:\tlearn: 0.7880229\ttest: 0.7832276\tbest: 0.7835064 (1487)\ttotal: 9m 8s\tremaining: 21m 18s\n"
     ]
    },
    {
     "name": "stdout",
     "output_type": "stream",
     "text": [
      "1520:\tlearn: 0.7882264\ttest: 0.7832545\tbest: 0.7835064 (1487)\ttotal: 9m 15s\tremaining: 21m 11s\n"
     ]
    },
    {
     "name": "stdout",
     "output_type": "stream",
     "text": [
      "1540:\tlearn: 0.7884985\ttest: 0.7836373\tbest: 0.7836373 (1540)\ttotal: 9m 23s\tremaining: 21m 4s\n"
     ]
    },
    {
     "name": "stdout",
     "output_type": "stream",
     "text": [
      "1560:\tlearn: 0.7886998\ttest: 0.7837263\tbest: 0.7837263 (1560)\ttotal: 9m 30s\tremaining: 20m 57s\n"
     ]
    },
    {
     "name": "stdout",
     "output_type": "stream",
     "text": [
      "1580:\tlearn: 0.7888761\ttest: 0.7838133\tbest: 0.7839099 (1572)\ttotal: 9m 38s\tremaining: 20m 50s\n"
     ]
    },
    {
     "name": "stdout",
     "output_type": "stream",
     "text": [
      "1600:\tlearn: 0.7889256\ttest: 0.7839009\tbest: 0.7839298 (1589)\ttotal: 9m 45s\tremaining: 20m 42s\n"
     ]
    },
    {
     "name": "stdout",
     "output_type": "stream",
     "text": [
      "1620:\tlearn: 0.7891979\ttest: 0.7839836\tbest: 0.7839836 (1620)\ttotal: 9m 52s\tremaining: 20m 35s\n"
     ]
    },
    {
     "name": "stdout",
     "output_type": "stream",
     "text": [
      "1640:\tlearn: 0.7893089\ttest: 0.7839661\tbest: 0.7840698 (1621)\ttotal: 10m\tremaining: 20m 28s\n"
     ]
    },
    {
     "name": "stdout",
     "output_type": "stream",
     "text": [
      "1660:\tlearn: 0.7895040\ttest: 0.7839269\tbest: 0.7840698 (1621)\ttotal: 10m 7s\tremaining: 20m 21s\n"
     ]
    },
    {
     "name": "stdout",
     "output_type": "stream",
     "text": [
      "1680:\tlearn: 0.7895611\ttest: 0.7842030\tbest: 0.7842863 (1679)\ttotal: 10m 14s\tremaining: 20m 14s\n"
     ]
    },
    {
     "name": "stdout",
     "output_type": "stream",
     "text": [
      "1700:\tlearn: 0.7896846\ttest: 0.7841639\tbest: 0.7843825 (1688)\ttotal: 10m 22s\tremaining: 20m 6s\n"
     ]
    },
    {
     "name": "stdout",
     "output_type": "stream",
     "text": [
      "1720:\tlearn: 0.7899339\ttest: 0.7843963\tbest: 0.7845347 (1714)\ttotal: 10m 29s\tremaining: 19m 59s\n"
     ]
    },
    {
     "name": "stdout",
     "output_type": "stream",
     "text": [
      "1740:\tlearn: 0.7900700\ttest: 0.7844168\tbest: 0.7846383 (1732)\ttotal: 10m 36s\tremaining: 19m 52s\n"
     ]
    },
    {
     "name": "stdout",
     "output_type": "stream",
     "text": [
      "1760:\tlearn: 0.7902135\ttest: 0.7845602\tbest: 0.7846383 (1732)\ttotal: 10m 44s\tremaining: 19m 44s\n"
     ]
    },
    {
     "name": "stdout",
     "output_type": "stream",
     "text": [
      "1780:\tlearn: 0.7904802\ttest: 0.7848139\tbest: 0.7848139 (1780)\ttotal: 10m 51s\tremaining: 19m 37s\n"
     ]
    },
    {
     "name": "stdout",
     "output_type": "stream",
     "text": [
      "1800:\tlearn: 0.7906773\ttest: 0.7847689\tbest: 0.7848256 (1794)\ttotal: 10m 59s\tremaining: 19m 30s\n"
     ]
    },
    {
     "name": "stdout",
     "output_type": "stream",
     "text": [
      "1820:\tlearn: 0.7908353\ttest: 0.7850203\tbest: 0.7850994 (1815)\ttotal: 11m 6s\tremaining: 19m 23s\n"
     ]
    },
    {
     "name": "stdout",
     "output_type": "stream",
     "text": [
      "1840:\tlearn: 0.7910390\ttest: 0.7850161\tbest: 0.7850994 (1815)\ttotal: 11m 13s\tremaining: 19m 16s\n"
     ]
    },
    {
     "name": "stdout",
     "output_type": "stream",
     "text": [
      "1860:\tlearn: 0.7909983\ttest: 0.7849952\tbest: 0.7851293 (1847)\ttotal: 11m 21s\tremaining: 19m 8s\n"
     ]
    },
    {
     "name": "stdout",
     "output_type": "stream",
     "text": [
      "1880:\tlearn: 0.7911172\ttest: 0.7850758\tbest: 0.7851293 (1847)\ttotal: 11m 28s\tremaining: 19m\n"
     ]
    },
    {
     "name": "stdout",
     "output_type": "stream",
     "text": [
      "1900:\tlearn: 0.7912697\ttest: 0.7852418\tbest: 0.7853020 (1896)\ttotal: 11m 35s\tremaining: 18m 53s\n"
     ]
    },
    {
     "name": "stdout",
     "output_type": "stream",
     "text": [
      "1920:\tlearn: 0.7914142\ttest: 0.7854264\tbest: 0.7854264 (1920)\ttotal: 11m 42s\tremaining: 18m 46s\n"
     ]
    },
    {
     "name": "stdout",
     "output_type": "stream",
     "text": [
      "1940:\tlearn: 0.7913728\ttest: 0.7857352\tbest: 0.7857543 (1938)\ttotal: 11m 49s\tremaining: 18m 38s\n"
     ]
    },
    {
     "name": "stdout",
     "output_type": "stream",
     "text": [
      "1960:\tlearn: 0.7915952\ttest: 0.7854759\tbest: 0.7857543 (1938)\ttotal: 11m 56s\tremaining: 18m 30s\n"
     ]
    },
    {
     "name": "stdout",
     "output_type": "stream",
     "text": [
      "1980:\tlearn: 0.7917112\ttest: 0.7856638\tbest: 0.7857543 (1938)\ttotal: 12m 3s\tremaining: 18m 23s\n"
     ]
    },
    {
     "name": "stdout",
     "output_type": "stream",
     "text": [
      "2000:\tlearn: 0.7918070\ttest: 0.7858464\tbest: 0.7859494 (1998)\ttotal: 12m 10s\tremaining: 18m 15s\n"
     ]
    },
    {
     "name": "stdout",
     "output_type": "stream",
     "text": [
      "2020:\tlearn: 0.7919295\ttest: 0.7857971\tbest: 0.7859494 (1998)\ttotal: 12m 18s\tremaining: 18m 8s\n"
     ]
    },
    {
     "name": "stdout",
     "output_type": "stream",
     "text": [
      "2040:\tlearn: 0.7920080\ttest: 0.7861509\tbest: 0.7861509 (2040)\ttotal: 12m 25s\tremaining: 18m\n"
     ]
    },
    {
     "name": "stdout",
     "output_type": "stream",
     "text": [
      "2060:\tlearn: 0.7921197\ttest: 0.7861041\tbest: 0.7861979 (2047)\ttotal: 12m 32s\tremaining: 17m 53s\n"
     ]
    },
    {
     "name": "stdout",
     "output_type": "stream",
     "text": [
      "2080:\tlearn: 0.7923013\ttest: 0.7861859\tbest: 0.7861979 (2047)\ttotal: 12m 39s\tremaining: 17m 45s\n"
     ]
    },
    {
     "name": "stdout",
     "output_type": "stream",
     "text": [
      "2100:\tlearn: 0.7923179\ttest: 0.7859904\tbest: 0.7861979 (2047)\ttotal: 12m 47s\tremaining: 17m 38s\n"
     ]
    },
    {
     "name": "stdout",
     "output_type": "stream",
     "text": [
      "2120:\tlearn: 0.7926038\ttest: 0.7861539\tbest: 0.7861979 (2047)\ttotal: 12m 54s\tremaining: 17m 30s\n"
     ]
    },
    {
     "name": "stdout",
     "output_type": "stream",
     "text": [
      "2140:\tlearn: 0.7926287\ttest: 0.7861228\tbest: 0.7861979 (2047)\ttotal: 13m 1s\tremaining: 17m 23s\n"
     ]
    },
    {
     "name": "stdout",
     "output_type": "stream",
     "text": [
      "2160:\tlearn: 0.7927339\ttest: 0.7861568\tbest: 0.7863358 (2144)\ttotal: 13m 8s\tremaining: 17m 15s\n"
     ]
    },
    {
     "name": "stdout",
     "output_type": "stream",
     "text": [
      "2180:\tlearn: 0.7928317\ttest: 0.7860224\tbest: 0.7863358 (2144)\ttotal: 13m 15s\tremaining: 17m 8s\n"
     ]
    },
    {
     "name": "stdout",
     "output_type": "stream",
     "text": [
      "2200:\tlearn: 0.7930233\ttest: 0.7859556\tbest: 0.7863358 (2144)\ttotal: 13m 22s\tremaining: 17m 1s\n"
     ]
    },
    {
     "name": "stdout",
     "output_type": "stream",
     "text": [
      "2220:\tlearn: 0.7929924\ttest: 0.7860323\tbest: 0.7863358 (2144)\ttotal: 13m 30s\tremaining: 16m 53s\n"
     ]
    },
    {
     "name": "stdout",
     "output_type": "stream",
     "text": [
      "2240:\tlearn: 0.7931725\ttest: 0.7860013\tbest: 0.7863358 (2144)\ttotal: 13m 37s\tremaining: 16m 46s\n"
     ]
    },
    {
     "name": "stdout",
     "output_type": "stream",
     "text": [
      "2260:\tlearn: 0.7931621\ttest: 0.7860358\tbest: 0.7863358 (2144)\ttotal: 13m 44s\tremaining: 16m 38s\n"
     ]
    },
    {
     "name": "stdout",
     "output_type": "stream",
     "text": [
      "2280:\tlearn: 0.7933874\ttest: 0.7860492\tbest: 0.7863358 (2144)\ttotal: 13m 51s\tremaining: 16m 31s\n"
     ]
    },
    {
     "name": "stdout",
     "output_type": "stream",
     "text": [
      "2300:\tlearn: 0.7934019\ttest: 0.7859135\tbest: 0.7863358 (2144)\ttotal: 13m 58s\tremaining: 16m 24s\n"
     ]
    },
    {
     "name": "stdout",
     "output_type": "stream",
     "text": [
      "2320:\tlearn: 0.7935658\ttest: 0.7860740\tbest: 0.7863358 (2144)\ttotal: 14m 6s\tremaining: 16m 16s\n"
     ]
    },
    {
     "name": "stdout",
     "output_type": "stream",
     "text": [
      "2340:\tlearn: 0.7937739\ttest: 0.7858111\tbest: 0.7863358 (2144)\ttotal: 14m 13s\tremaining: 16m 9s\n"
     ]
    },
    {
     "name": "stdout",
     "output_type": "stream",
     "text": [
      "2360:\tlearn: 0.7939085\ttest: 0.7859082\tbest: 0.7863358 (2144)\ttotal: 14m 20s\tremaining: 16m 2s\n"
     ]
    },
    {
     "name": "stdout",
     "output_type": "stream",
     "text": [
      "2380:\tlearn: 0.7939894\ttest: 0.7858559\tbest: 0.7863358 (2144)\ttotal: 14m 27s\tremaining: 15m 54s\n"
     ]
    },
    {
     "name": "stdout",
     "output_type": "stream",
     "text": [
      "2400:\tlearn: 0.7941264\ttest: 0.7859128\tbest: 0.7863358 (2144)\ttotal: 14m 35s\tremaining: 15m 47s\n"
     ]
    },
    {
     "name": "stdout",
     "output_type": "stream",
     "text": [
      "2420:\tlearn: 0.7941865\ttest: 0.7859853\tbest: 0.7863358 (2144)\ttotal: 14m 42s\tremaining: 15m 39s\n"
     ]
    },
    {
     "name": "stdout",
     "output_type": "stream",
     "text": [
      "2440:\tlearn: 0.7943783\ttest: 0.7861434\tbest: 0.7863358 (2144)\ttotal: 14m 49s\tremaining: 15m 32s\n"
     ]
    },
    {
     "name": "stdout",
     "output_type": "stream",
     "text": [
      "2460:\tlearn: 0.7945007\ttest: 0.7862585\tbest: 0.7864613 (2445)\ttotal: 14m 56s\tremaining: 15m 24s\n"
     ]
    },
    {
     "name": "stdout",
     "output_type": "stream",
     "text": [
      "2480:\tlearn: 0.7946539\ttest: 0.7860981\tbest: 0.7864613 (2445)\ttotal: 15m 4s\tremaining: 15m 17s\n"
     ]
    },
    {
     "name": "stdout",
     "output_type": "stream",
     "text": [
      "2500:\tlearn: 0.7946967\ttest: 0.7862986\tbest: 0.7864613 (2445)\ttotal: 15m 11s\tremaining: 15m 10s\n"
     ]
    },
    {
     "name": "stdout",
     "output_type": "stream",
     "text": [
      "2520:\tlearn: 0.7948781\ttest: 0.7861633\tbest: 0.7864613 (2445)\ttotal: 15m 18s\tremaining: 15m 3s\n"
     ]
    },
    {
     "name": "stdout",
     "output_type": "stream",
     "text": [
      "2540:\tlearn: 0.7949773\ttest: 0.7861958\tbest: 0.7864613 (2445)\ttotal: 15m 25s\tremaining: 14m 55s\n"
     ]
    },
    {
     "name": "stdout",
     "output_type": "stream",
     "text": [
      "2560:\tlearn: 0.7951194\ttest: 0.7862059\tbest: 0.7864613 (2445)\ttotal: 15m 33s\tremaining: 14m 48s\n"
     ]
    },
    {
     "name": "stdout",
     "output_type": "stream",
     "text": [
      "2580:\tlearn: 0.7952118\ttest: 0.7862597\tbest: 0.7864613 (2445)\ttotal: 15m 40s\tremaining: 14m 41s\n"
     ]
    },
    {
     "name": "stdout",
     "output_type": "stream",
     "text": [
      "2600:\tlearn: 0.7953644\ttest: 0.7862891\tbest: 0.7864613 (2445)\ttotal: 15m 48s\tremaining: 14m 34s\n"
     ]
    },
    {
     "name": "stdout",
     "output_type": "stream",
     "text": [
      "2620:\tlearn: 0.7954862\ttest: 0.7863642\tbest: 0.7864613 (2445)\ttotal: 15m 55s\tremaining: 14m 27s\n"
     ]
    },
    {
     "name": "stdout",
     "output_type": "stream",
     "text": [
      "2640:\tlearn: 0.7955294\ttest: 0.7862473\tbest: 0.7864613 (2445)\ttotal: 16m 2s\tremaining: 14m 19s\n"
     ]
    },
    {
     "name": "stdout",
     "output_type": "stream",
     "text": [
      "2660:\tlearn: 0.7956238\ttest: 0.7862978\tbest: 0.7864856 (2656)\ttotal: 16m 9s\tremaining: 14m 12s\n"
     ]
    },
    {
     "name": "stdout",
     "output_type": "stream",
     "text": [
      "2680:\tlearn: 0.7957546\ttest: 0.7863699\tbest: 0.7864856 (2656)\ttotal: 16m 17s\tremaining: 14m 5s\n"
     ]
    },
    {
     "name": "stdout",
     "output_type": "stream",
     "text": [
      "2700:\tlearn: 0.7957926\ttest: 0.7863798\tbest: 0.7865237 (2693)\ttotal: 16m 24s\tremaining: 13m 57s\n"
     ]
    },
    {
     "name": "stdout",
     "output_type": "stream",
     "text": [
      "2720:\tlearn: 0.7959444\ttest: 0.7865363\tbest: 0.7865363 (2720)\ttotal: 16m 31s\tremaining: 13m 50s\n"
     ]
    },
    {
     "name": "stdout",
     "output_type": "stream",
     "text": [
      "2740:\tlearn: 0.7958653\ttest: 0.7865454\tbest: 0.7865867 (2739)\ttotal: 16m 38s\tremaining: 13m 42s\n"
     ]
    },
    {
     "name": "stdout",
     "output_type": "stream",
     "text": [
      "2760:\tlearn: 0.7960544\ttest: 0.7863851\tbest: 0.7865867 (2739)\ttotal: 16m 45s\tremaining: 13m 35s\n"
     ]
    },
    {
     "name": "stdout",
     "output_type": "stream",
     "text": [
      "2780:\tlearn: 0.7960802\ttest: 0.7862468\tbest: 0.7865867 (2739)\ttotal: 16m 53s\tremaining: 13m 28s\n"
     ]
    },
    {
     "name": "stdout",
     "output_type": "stream",
     "text": [
      "2800:\tlearn: 0.7962284\ttest: 0.7863222\tbest: 0.7865867 (2739)\ttotal: 17m\tremaining: 13m 21s\n"
     ]
    },
    {
     "name": "stdout",
     "output_type": "stream",
     "text": [
      "2820:\tlearn: 0.7963329\ttest: 0.7863528\tbest: 0.7865867 (2739)\ttotal: 17m 7s\tremaining: 13m 13s\n"
     ]
    },
    {
     "name": "stdout",
     "output_type": "stream",
     "text": [
      "2840:\tlearn: 0.7964780\ttest: 0.7863181\tbest: 0.7865867 (2739)\ttotal: 17m 14s\tremaining: 13m 6s\n"
     ]
    },
    {
     "name": "stdout",
     "output_type": "stream",
     "text": [
      "2860:\tlearn: 0.7965466\ttest: 0.7863501\tbest: 0.7865867 (2739)\ttotal: 17m 22s\tremaining: 12m 59s\n"
     ]
    },
    {
     "name": "stdout",
     "output_type": "stream",
     "text": [
      "2880:\tlearn: 0.7967244\ttest: 0.7866103\tbest: 0.7866311 (2879)\ttotal: 17m 28s\tremaining: 12m 51s\n"
     ]
    },
    {
     "name": "stdout",
     "output_type": "stream",
     "text": [
      "2900:\tlearn: 0.7968709\ttest: 0.7867238\tbest: 0.7867238 (2900)\ttotal: 17m 36s\tremaining: 12m 44s\n"
     ]
    },
    {
     "name": "stdout",
     "output_type": "stream",
     "text": [
      "2920:\tlearn: 0.7968669\ttest: 0.7867945\tbest: 0.7868120 (2908)\ttotal: 17m 43s\tremaining: 12m 36s\n"
     ]
    },
    {
     "name": "stdout",
     "output_type": "stream",
     "text": [
      "2940:\tlearn: 0.7969644\ttest: 0.7868031\tbest: 0.7868851 (2936)\ttotal: 17m 50s\tremaining: 12m 29s\n"
     ]
    },
    {
     "name": "stdout",
     "output_type": "stream",
     "text": [
      "2960:\tlearn: 0.7971007\ttest: 0.7865383\tbest: 0.7868851 (2936)\ttotal: 17m 57s\tremaining: 12m 22s\n"
     ]
    },
    {
     "name": "stdout",
     "output_type": "stream",
     "text": [
      "2980:\tlearn: 0.7970575\ttest: 0.7866126\tbest: 0.7868851 (2936)\ttotal: 18m 4s\tremaining: 12m 14s\n"
     ]
    },
    {
     "name": "stdout",
     "output_type": "stream",
     "text": [
      "3000:\tlearn: 0.7971712\ttest: 0.7867883\tbest: 0.7868851 (2936)\ttotal: 18m 12s\tremaining: 12m 7s\n"
     ]
    },
    {
     "name": "stdout",
     "output_type": "stream",
     "text": [
      "3020:\tlearn: 0.7972849\ttest: 0.7868201\tbest: 0.7868851 (2936)\ttotal: 18m 19s\tremaining: 12m\n"
     ]
    },
    {
     "name": "stdout",
     "output_type": "stream",
     "text": [
      "3040:\tlearn: 0.7973605\ttest: 0.7868481\tbest: 0.7868851 (2936)\ttotal: 18m 26s\tremaining: 11m 53s\n"
     ]
    },
    {
     "name": "stdout",
     "output_type": "stream",
     "text": [
      "3060:\tlearn: 0.7974305\ttest: 0.7869802\tbest: 0.7869802 (3060)\ttotal: 18m 34s\tremaining: 11m 45s\n"
     ]
    },
    {
     "name": "stdout",
     "output_type": "stream",
     "text": [
      "3080:\tlearn: 0.7976093\ttest: 0.7871771\tbest: 0.7871771 (3080)\ttotal: 18m 41s\tremaining: 11m 38s\n"
     ]
    },
    {
     "name": "stdout",
     "output_type": "stream",
     "text": [
      "3100:\tlearn: 0.7977006\ttest: 0.7872903\tbest: 0.7872903 (3100)\ttotal: 18m 48s\tremaining: 11m 31s\n"
     ]
    },
    {
     "name": "stdout",
     "output_type": "stream",
     "text": [
      "3120:\tlearn: 0.7977498\ttest: 0.7873817\tbest: 0.7874024 (3118)\ttotal: 18m 55s\tremaining: 11m 23s\n"
     ]
    },
    {
     "name": "stdout",
     "output_type": "stream",
     "text": [
      "3140:\tlearn: 0.7978297\ttest: 0.7873038\tbest: 0.7874471 (3129)\ttotal: 19m 3s\tremaining: 11m 16s\n"
     ]
    },
    {
     "name": "stdout",
     "output_type": "stream",
     "text": [
      "3160:\tlearn: 0.7979583\ttest: 0.7871001\tbest: 0.7874471 (3129)\ttotal: 19m 10s\tremaining: 11m 9s\n"
     ]
    },
    {
     "name": "stdout",
     "output_type": "stream",
     "text": [
      "3180:\tlearn: 0.7980135\ttest: 0.7871490\tbest: 0.7874471 (3129)\ttotal: 19m 17s\tremaining: 11m 1s\n"
     ]
    },
    {
     "name": "stdout",
     "output_type": "stream",
     "text": [
      "3200:\tlearn: 0.7982210\ttest: 0.7869458\tbest: 0.7874471 (3129)\ttotal: 19m 24s\tremaining: 10m 54s\n"
     ]
    },
    {
     "name": "stdout",
     "output_type": "stream",
     "text": [
      "3220:\tlearn: 0.7982380\ttest: 0.7870151\tbest: 0.7874471 (3129)\ttotal: 19m 31s\tremaining: 10m 47s\n"
     ]
    },
    {
     "name": "stdout",
     "output_type": "stream",
     "text": [
      "3240:\tlearn: 0.7983033\ttest: 0.7869600\tbest: 0.7874471 (3129)\ttotal: 19m 39s\tremaining: 10m 40s\n"
     ]
    },
    {
     "name": "stdout",
     "output_type": "stream",
     "text": [
      "3260:\tlearn: 0.7984233\ttest: 0.7869269\tbest: 0.7874471 (3129)\ttotal: 19m 46s\tremaining: 10m 32s\n"
     ]
    },
    {
     "name": "stdout",
     "output_type": "stream",
     "text": [
      "3280:\tlearn: 0.7985337\ttest: 0.7872899\tbest: 0.7874471 (3129)\ttotal: 19m 53s\tremaining: 10m 25s\n"
     ]
    },
    {
     "name": "stdout",
     "output_type": "stream",
     "text": [
      "3300:\tlearn: 0.7986198\ttest: 0.7872553\tbest: 0.7874471 (3129)\ttotal: 20m 1s\tremaining: 10m 18s\n"
     ]
    },
    {
     "name": "stdout",
     "output_type": "stream",
     "text": [
      "3320:\tlearn: 0.7986678\ttest: 0.7872202\tbest: 0.7874471 (3129)\ttotal: 20m 8s\tremaining: 10m 10s\n"
     ]
    },
    {
     "name": "stdout",
     "output_type": "stream",
     "text": [
      "3340:\tlearn: 0.7988330\ttest: 0.7871205\tbest: 0.7874471 (3129)\ttotal: 20m 15s\tremaining: 10m 3s\n"
     ]
    },
    {
     "name": "stdout",
     "output_type": "stream",
     "text": [
      "3360:\tlearn: 0.7989248\ttest: 0.7873588\tbest: 0.7874471 (3129)\ttotal: 20m 22s\tremaining: 9m 56s\n"
     ]
    },
    {
     "name": "stdout",
     "output_type": "stream",
     "text": [
      "3380:\tlearn: 0.7990847\ttest: 0.7874311\tbest: 0.7874471 (3129)\ttotal: 20m 29s\tremaining: 9m 48s\n"
     ]
    },
    {
     "name": "stdout",
     "output_type": "stream",
     "text": [
      "3400:\tlearn: 0.7991953\ttest: 0.7874354\tbest: 0.7875391 (3391)\ttotal: 20m 36s\tremaining: 9m 41s\n"
     ]
    },
    {
     "name": "stdout",
     "output_type": "stream",
     "text": [
      "3420:\tlearn: 0.7991964\ttest: 0.7874626\tbest: 0.7875391 (3391)\ttotal: 20m 44s\tremaining: 9m 34s\n"
     ]
    },
    {
     "name": "stdout",
     "output_type": "stream",
     "text": [
      "3440:\tlearn: 0.7991807\ttest: 0.7875529\tbest: 0.7875529 (3440)\ttotal: 20m 51s\tremaining: 9m 26s\n"
     ]
    },
    {
     "name": "stdout",
     "output_type": "stream",
     "text": [
      "3460:\tlearn: 0.7993670\ttest: 0.7874960\tbest: 0.7876165 (3443)\ttotal: 20m 58s\tremaining: 9m 19s\n"
     ]
    },
    {
     "name": "stdout",
     "output_type": "stream",
     "text": [
      "3480:\tlearn: 0.7994615\ttest: 0.7875228\tbest: 0.7876165 (3443)\ttotal: 21m 5s\tremaining: 9m 12s\n"
     ]
    },
    {
     "name": "stdout",
     "output_type": "stream",
     "text": [
      "3500:\tlearn: 0.7994121\ttest: 0.7875303\tbest: 0.7876165 (3443)\ttotal: 21m 13s\tremaining: 9m 5s\n"
     ]
    },
    {
     "name": "stdout",
     "output_type": "stream",
     "text": [
      "3520:\tlearn: 0.7995642\ttest: 0.7874314\tbest: 0.7876165 (3443)\ttotal: 21m 20s\tremaining: 8m 57s\n"
     ]
    },
    {
     "name": "stdout",
     "output_type": "stream",
     "text": [
      "3540:\tlearn: 0.7995860\ttest: 0.7874355\tbest: 0.7876165 (3443)\ttotal: 21m 27s\tremaining: 8m 50s\n"
     ]
    },
    {
     "name": "stdout",
     "output_type": "stream",
     "text": [
      "3560:\tlearn: 0.7996992\ttest: 0.7874843\tbest: 0.7876165 (3443)\ttotal: 21m 35s\tremaining: 8m 43s\n"
     ]
    },
    {
     "name": "stdout",
     "output_type": "stream",
     "text": [
      "3580:\tlearn: 0.7998270\ttest: 0.7875109\tbest: 0.7876165 (3443)\ttotal: 21m 42s\tremaining: 8m 36s\n"
     ]
    },
    {
     "name": "stdout",
     "output_type": "stream",
     "text": [
      "3600:\tlearn: 0.7998015\ttest: 0.7876028\tbest: 0.7877064 (3592)\ttotal: 21m 49s\tremaining: 8m 28s\n"
     ]
    },
    {
     "name": "stdout",
     "output_type": "stream",
     "text": [
      "3620:\tlearn: 0.7998769\ttest: 0.7877565\tbest: 0.7877771 (3617)\ttotal: 21m 56s\tremaining: 8m 21s\n"
     ]
    },
    {
     "name": "stdout",
     "output_type": "stream",
     "text": [
      "3640:\tlearn: 0.7999864\ttest: 0.7877823\tbest: 0.7878869 (3633)\ttotal: 22m 3s\tremaining: 8m 14s\n"
     ]
    },
    {
     "name": "stdout",
     "output_type": "stream",
     "text": [
      "3660:\tlearn: 0.8000018\ttest: 0.7876611\tbest: 0.7878869 (3633)\ttotal: 22m 10s\tremaining: 8m 6s\n"
     ]
    },
    {
     "name": "stdout",
     "output_type": "stream",
     "text": [
      "3680:\tlearn: 0.8000566\ttest: 0.7878116\tbest: 0.7878946 (3673)\ttotal: 22m 18s\tremaining: 7m 59s\n"
     ]
    },
    {
     "name": "stdout",
     "output_type": "stream",
     "text": [
      "3700:\tlearn: 0.8001943\ttest: 0.7877968\tbest: 0.7878946 (3673)\ttotal: 22m 25s\tremaining: 7m 52s\n"
     ]
    },
    {
     "name": "stdout",
     "output_type": "stream",
     "text": [
      "3720:\tlearn: 0.8001828\ttest: 0.7879915\tbest: 0.7879915 (3720)\ttotal: 22m 32s\tremaining: 7m 44s\n"
     ]
    },
    {
     "name": "stdout",
     "output_type": "stream",
     "text": [
      "3740:\tlearn: 0.8001671\ttest: 0.7880378\tbest: 0.7880378 (3740)\ttotal: 22m 39s\tremaining: 7m 37s\n"
     ]
    },
    {
     "name": "stdout",
     "output_type": "stream",
     "text": [
      "3760:\tlearn: 0.8003414\ttest: 0.7880862\tbest: 0.7881065 (3758)\ttotal: 22m 47s\tremaining: 7m 30s\n"
     ]
    },
    {
     "name": "stdout",
     "output_type": "stream",
     "text": [
      "3780:\tlearn: 0.8004568\ttest: 0.7879241\tbest: 0.7881065 (3758)\ttotal: 22m 54s\tremaining: 7m 23s\n"
     ]
    },
    {
     "name": "stdout",
     "output_type": "stream",
     "text": [
      "3800:\tlearn: 0.8006425\ttest: 0.7880986\tbest: 0.7881065 (3758)\ttotal: 23m 2s\tremaining: 7m 15s\n"
     ]
    },
    {
     "name": "stdout",
     "output_type": "stream",
     "text": [
      "3820:\tlearn: 0.8007260\ttest: 0.7879771\tbest: 0.7881225 (3813)\ttotal: 23m 9s\tremaining: 7m 8s\n"
     ]
    },
    {
     "name": "stdout",
     "output_type": "stream",
     "text": [
      "3840:\tlearn: 0.8007239\ttest: 0.7879379\tbest: 0.7881255 (3825)\ttotal: 23m 16s\tremaining: 7m 1s\n"
     ]
    },
    {
     "name": "stdout",
     "output_type": "stream",
     "text": [
      "3860:\tlearn: 0.8008405\ttest: 0.7879445\tbest: 0.7881255 (3825)\ttotal: 23m 23s\tremaining: 6m 54s\n"
     ]
    },
    {
     "name": "stdout",
     "output_type": "stream",
     "text": [
      "3880:\tlearn: 0.8009144\ttest: 0.7880977\tbest: 0.7881255 (3825)\ttotal: 23m 30s\tremaining: 6m 46s\n"
     ]
    },
    {
     "name": "stdout",
     "output_type": "stream",
     "text": [
      "3900:\tlearn: 0.8009144\ttest: 0.7878717\tbest: 0.7881255 (3825)\ttotal: 23m 38s\tremaining: 6m 39s\n"
     ]
    },
    {
     "name": "stdout",
     "output_type": "stream",
     "text": [
      "3920:\tlearn: 0.8009462\ttest: 0.7878333\tbest: 0.7881255 (3825)\ttotal: 23m 45s\tremaining: 6m 32s\n"
     ]
    },
    {
     "name": "stdout",
     "output_type": "stream",
     "text": [
      "3940:\tlearn: 0.8010936\ttest: 0.7876919\tbest: 0.7881255 (3825)\ttotal: 23m 52s\tremaining: 6m 24s\n"
     ]
    },
    {
     "name": "stdout",
     "output_type": "stream",
     "text": [
      "3960:\tlearn: 0.8011876\ttest: 0.7878866\tbest: 0.7881255 (3825)\ttotal: 23m 59s\tremaining: 6m 17s\n"
     ]
    },
    {
     "name": "stdout",
     "output_type": "stream",
     "text": [
      "3980:\tlearn: 0.8011922\ttest: 0.7878918\tbest: 0.7881255 (3825)\ttotal: 24m 6s\tremaining: 6m 10s\n"
     ]
    },
    {
     "name": "stdout",
     "output_type": "stream",
     "text": [
      "4000:\tlearn: 0.8013336\ttest: 0.7877909\tbest: 0.7881255 (3825)\ttotal: 24m 13s\tremaining: 6m 3s\n"
     ]
    },
    {
     "name": "stdout",
     "output_type": "stream",
     "text": [
      "4020:\tlearn: 0.8013379\ttest: 0.7878364\tbest: 0.7881255 (3825)\ttotal: 24m 20s\tremaining: 5m 55s\n"
     ]
    },
    {
     "name": "stdout",
     "output_type": "stream",
     "text": [
      "4040:\tlearn: 0.8013635\ttest: 0.7878627\tbest: 0.7881255 (3825)\ttotal: 24m 28s\tremaining: 5m 48s\n"
     ]
    },
    {
     "name": "stdout",
     "output_type": "stream",
     "text": [
      "4060:\tlearn: 0.8014107\ttest: 0.7879926\tbest: 0.7881255 (3825)\ttotal: 24m 35s\tremaining: 5m 41s\n"
     ]
    },
    {
     "name": "stdout",
     "output_type": "stream",
     "text": [
      "4080:\tlearn: 0.8014786\ttest: 0.7879982\tbest: 0.7881255 (3825)\ttotal: 24m 42s\tremaining: 5m 33s\n"
     ]
    },
    {
     "name": "stdout",
     "output_type": "stream",
     "text": [
      "4100:\tlearn: 0.8015039\ttest: 0.7880030\tbest: 0.7881268 (4091)\ttotal: 24m 50s\tremaining: 5m 26s\n"
     ]
    },
    {
     "name": "stdout",
     "output_type": "stream",
     "text": [
      "4120:\tlearn: 0.8015278\ttest: 0.7879849\tbest: 0.7881268 (4091)\ttotal: 24m 57s\tremaining: 5m 19s\n"
     ]
    },
    {
     "name": "stdout",
     "output_type": "stream",
     "text": [
      "4140:\tlearn: 0.8016112\ttest: 0.7879046\tbest: 0.7881268 (4091)\ttotal: 25m 4s\tremaining: 5m 12s\n"
     ]
    },
    {
     "name": "stdout",
     "output_type": "stream",
     "text": [
      "4160:\tlearn: 0.8016526\ttest: 0.7879940\tbest: 0.7881268 (4091)\ttotal: 25m 11s\tremaining: 5m 4s\n"
     ]
    },
    {
     "name": "stdout",
     "output_type": "stream",
     "text": [
      "4180:\tlearn: 0.8016925\ttest: 0.7880183\tbest: 0.7881268 (4091)\ttotal: 25m 19s\tremaining: 4m 57s\n"
     ]
    },
    {
     "name": "stdout",
     "output_type": "stream",
     "text": [
      "4200:\tlearn: 0.8019025\ttest: 0.7880228\tbest: 0.7881268 (4091)\ttotal: 25m 26s\tremaining: 4m 50s\n"
     ]
    },
    {
     "name": "stdout",
     "output_type": "stream",
     "text": [
      "4220:\tlearn: 0.8019972\ttest: 0.7880070\tbest: 0.7881268 (4091)\ttotal: 25m 33s\tremaining: 4m 42s\n"
     ]
    },
    {
     "name": "stdout",
     "output_type": "stream",
     "text": [
      "4240:\tlearn: 0.8021070\ttest: 0.7880117\tbest: 0.7881268 (4091)\ttotal: 25m 40s\tremaining: 4m 35s\n"
     ]
    },
    {
     "name": "stdout",
     "output_type": "stream",
     "text": [
      "4260:\tlearn: 0.8021471\ttest: 0.7880358\tbest: 0.7881268 (4091)\ttotal: 25m 47s\tremaining: 4m 28s\n"
     ]
    },
    {
     "name": "stdout",
     "output_type": "stream",
     "text": [
      "4280:\tlearn: 0.8022140\ttest: 0.7880400\tbest: 0.7881268 (4091)\ttotal: 25m 55s\tremaining: 4m 21s\n"
     ]
    },
    {
     "name": "stdout",
     "output_type": "stream",
     "text": [
      "4300:\tlearn: 0.8022405\ttest: 0.7880673\tbest: 0.7881268 (4091)\ttotal: 26m 2s\tremaining: 4m 13s\n"
     ]
    },
    {
     "name": "stdout",
     "output_type": "stream",
     "text": [
      "4320:\tlearn: 0.8022284\ttest: 0.7880931\tbest: 0.7881336 (4315)\ttotal: 26m 9s\tremaining: 4m 6s\n"
     ]
    },
    {
     "name": "stdout",
     "output_type": "stream",
     "text": [
      "4340:\tlearn: 0.8022858\ttest: 0.7880555\tbest: 0.7881372 (4329)\ttotal: 26m 16s\tremaining: 3m 59s\n"
     ]
    },
    {
     "name": "stdout",
     "output_type": "stream",
     "text": [
      "4360:\tlearn: 0.8023751\ttest: 0.7880616\tbest: 0.7881442 (4350)\ttotal: 26m 24s\tremaining: 3m 52s\n"
     ]
    },
    {
     "name": "stdout",
     "output_type": "stream",
     "text": [
      "4380:\tlearn: 0.8023266\ttest: 0.7880885\tbest: 0.7881442 (4350)\ttotal: 26m 31s\tremaining: 3m 44s\n"
     ]
    },
    {
     "name": "stdout",
     "output_type": "stream",
     "text": [
      "4400:\tlearn: 0.8023964\ttest: 0.7882170\tbest: 0.7883004 (4391)\ttotal: 26m 38s\tremaining: 3m 37s\n"
     ]
    },
    {
     "name": "stdout",
     "output_type": "stream",
     "text": [
      "4420:\tlearn: 0.8024727\ttest: 0.7881991\tbest: 0.7883004 (4391)\ttotal: 26m 45s\tremaining: 3m 30s\n"
     ]
    },
    {
     "name": "stdout",
     "output_type": "stream",
     "text": [
      "4440:\tlearn: 0.8025936\ttest: 0.7881606\tbest: 0.7883004 (4391)\ttotal: 26m 52s\tremaining: 3m 23s\n"
     ]
    },
    {
     "name": "stdout",
     "output_type": "stream",
     "text": [
      "4460:\tlearn: 0.8026437\ttest: 0.7883319\tbest: 0.7883319 (4460)\ttotal: 27m\tremaining: 3m 15s\n"
     ]
    },
    {
     "name": "stdout",
     "output_type": "stream",
     "text": [
      "4480:\tlearn: 0.8026994\ttest: 0.7881046\tbest: 0.7883762 (4473)\ttotal: 27m 7s\tremaining: 3m 8s\n"
     ]
    },
    {
     "name": "stdout",
     "output_type": "stream",
     "text": [
      "4500:\tlearn: 0.8027448\ttest: 0.7880877\tbest: 0.7883762 (4473)\ttotal: 27m 14s\tremaining: 3m 1s\n"
     ]
    },
    {
     "name": "stdout",
     "output_type": "stream",
     "text": [
      "4520:\tlearn: 0.8028164\ttest: 0.7879653\tbest: 0.7883762 (4473)\ttotal: 27m 21s\tremaining: 2m 53s\n"
     ]
    },
    {
     "name": "stdout",
     "output_type": "stream",
     "text": [
      "4540:\tlearn: 0.8028736\ttest: 0.7880950\tbest: 0.7883762 (4473)\ttotal: 27m 28s\tremaining: 2m 46s\n"
     ]
    },
    {
     "name": "stdout",
     "output_type": "stream",
     "text": [
      "4560:\tlearn: 0.8029553\ttest: 0.7880147\tbest: 0.7883762 (4473)\ttotal: 27m 35s\tremaining: 2m 39s\n"
     ]
    },
    {
     "name": "stdout",
     "output_type": "stream",
     "text": [
      "4580:\tlearn: 0.8029951\ttest: 0.7883356\tbest: 0.7883762 (4473)\ttotal: 27m 43s\tremaining: 2m 32s\n"
     ]
    },
    {
     "name": "stdout",
     "output_type": "stream",
     "text": [
      "4600:\tlearn: 0.8031480\ttest: 0.7883598\tbest: 0.7883762 (4473)\ttotal: 27m 50s\tremaining: 2m 24s\n"
     ]
    },
    {
     "name": "stdout",
     "output_type": "stream",
     "text": [
      "4620:\tlearn: 0.8032478\ttest: 0.7883216\tbest: 0.7883845 (4619)\ttotal: 27m 57s\tremaining: 2m 17s\n"
     ]
    },
    {
     "name": "stdout",
     "output_type": "stream",
     "text": [
      "4640:\tlearn: 0.8033567\ttest: 0.7884510\tbest: 0.7885349 (4635)\ttotal: 28m 4s\tremaining: 2m 10s\n"
     ]
    },
    {
     "name": "stdout",
     "output_type": "stream",
     "text": [
      "4660:\tlearn: 0.8034699\ttest: 0.7884119\tbest: 0.7885381 (4659)\ttotal: 28m 11s\tremaining: 2m 3s\n"
     ]
    },
    {
     "name": "stdout",
     "output_type": "stream",
     "text": [
      "4680:\tlearn: 0.8035002\ttest: 0.7885436\tbest: 0.7887531 (4674)\ttotal: 28m 19s\tremaining: 1m 55s\n"
     ]
    },
    {
     "name": "stdout",
     "output_type": "stream",
     "text": [
      "4700:\tlearn: 0.8036191\ttest: 0.7885474\tbest: 0.7887531 (4674)\ttotal: 28m 26s\tremaining: 1m 48s\n"
     ]
    },
    {
     "name": "stdout",
     "output_type": "stream",
     "text": [
      "4720:\tlearn: 0.8036701\ttest: 0.7884880\tbest: 0.7887531 (4674)\ttotal: 28m 33s\tremaining: 1m 41s\n"
     ]
    },
    {
     "name": "stdout",
     "output_type": "stream",
     "text": [
      "4740:\tlearn: 0.8037418\ttest: 0.7884700\tbest: 0.7887531 (4674)\ttotal: 28m 40s\tremaining: 1m 34s\n"
     ]
    },
    {
     "name": "stdout",
     "output_type": "stream",
     "text": [
      "4760:\tlearn: 0.8038082\ttest: 0.7887259\tbest: 0.7887674 (4757)\ttotal: 28m 47s\tremaining: 1m 26s\n"
     ]
    },
    {
     "name": "stdout",
     "output_type": "stream",
     "text": [
      "4780:\tlearn: 0.8039439\ttest: 0.7887305\tbest: 0.7888316 (4763)\ttotal: 28m 55s\tremaining: 1m 19s\n"
     ]
    },
    {
     "name": "stdout",
     "output_type": "stream",
     "text": [
      "4800:\tlearn: 0.8040725\ttest: 0.7887320\tbest: 0.7888316 (4763)\ttotal: 29m 2s\tremaining: 1m 12s\n"
     ]
    },
    {
     "name": "stdout",
     "output_type": "stream",
     "text": [
      "4820:\tlearn: 0.8040190\ttest: 0.7886727\tbest: 0.7888316 (4763)\ttotal: 29m 9s\tremaining: 1m 4s\n"
     ]
    },
    {
     "name": "stdout",
     "output_type": "stream",
     "text": [
      "4840:\tlearn: 0.8041105\ttest: 0.7887399\tbest: 0.7888316 (4763)\ttotal: 29m 16s\tremaining: 57.7s\n"
     ]
    },
    {
     "name": "stdout",
     "output_type": "stream",
     "text": [
      "4860:\tlearn: 0.8042730\ttest: 0.7887875\tbest: 0.7888316 (4763)\ttotal: 29m 24s\tremaining: 50.4s\n"
     ]
    },
    {
     "name": "stdout",
     "output_type": "stream",
     "text": [
      "4880:\tlearn: 0.8043911\ttest: 0.7887281\tbest: 0.7888316 (4763)\ttotal: 29m 31s\tremaining: 43.2s\n"
     ]
    },
    {
     "name": "stdout",
     "output_type": "stream",
     "text": [
      "4900:\tlearn: 0.8043786\ttest: 0.7887962\tbest: 0.7888378 (4898)\ttotal: 29m 38s\tremaining: 35.9s\n"
     ]
    },
    {
     "name": "stdout",
     "output_type": "stream",
     "text": [
      "4920:\tlearn: 0.8044018\ttest: 0.7887161\tbest: 0.7888378 (4898)\ttotal: 29m 45s\tremaining: 28.7s\n"
     ]
    },
    {
     "name": "stdout",
     "output_type": "stream",
     "text": [
      "4940:\tlearn: 0.8044414\ttest: 0.7888038\tbest: 0.7888378 (4898)\ttotal: 29m 52s\tremaining: 21.4s\n"
     ]
    },
    {
     "name": "stdout",
     "output_type": "stream",
     "text": [
      "4960:\tlearn: 0.8045242\ttest: 0.7886800\tbest: 0.7888456 (4942)\ttotal: 30m\tremaining: 14.2s\n"
     ]
    },
    {
     "name": "stdout",
     "output_type": "stream",
     "text": [
      "4980:\tlearn: 0.8046128\ttest: 0.7888113\tbest: 0.7888456 (4942)\ttotal: 30m 7s\tremaining: 6.89s\n"
     ]
    },
    {
     "name": "stdout",
     "output_type": "stream",
     "text": [
      "4999:\tlearn: 0.8047004\ttest: 0.7887318\tbest: 0.7888456 (4942)\ttotal: 30m 14s\tremaining: 0us\n",
      "\n",
      "bestTest = 0.7888456447\n",
      "bestIteration = 4942\n",
      "\n",
      "Shrink model to first 4943 iterations.\n"
     ]
    },
    {
     "name": "stdout",
     "output_type": "stream",
     "text": [
      "######################################## training model 2/5 ########################################\n"
     ]
    },
    {
     "name": "stdout",
     "output_type": "stream",
     "text": [
      "0:\tlearn: 0.6657721\ttest: 0.6605730\tbest: 0.6605730 (0)\ttotal: 721ms\tremaining: 1h 2s\n"
     ]
    },
    {
     "name": "stdout",
     "output_type": "stream",
     "text": [
      "20:\tlearn: 0.7303145\ttest: 0.7273680\tbest: 0.7278395 (19)\ttotal: 7.91s\tremaining: 31m 14s\n"
     ]
    },
    {
     "name": "stdout",
     "output_type": "stream",
     "text": [
      "40:\tlearn: 0.7360540\ttest: 0.7352830\tbest: 0.7355251 (39)\ttotal: 15.2s\tremaining: 30m 32s\n"
     ]
    },
    {
     "name": "stdout",
     "output_type": "stream",
     "text": [
      "60:\tlearn: 0.7415333\ttest: 0.7398292\tbest: 0.7399141 (59)\ttotal: 22.4s\tremaining: 30m 14s\n"
     ]
    },
    {
     "name": "stdout",
     "output_type": "stream",
     "text": [
      "80:\tlearn: 0.7445892\ttest: 0.7432272\tbest: 0.7432272 (80)\ttotal: 29.6s\tremaining: 29m 58s\n"
     ]
    },
    {
     "name": "stdout",
     "output_type": "stream",
     "text": [
      "100:\tlearn: 0.7479746\ttest: 0.7473044\tbest: 0.7473044 (100)\ttotal: 37.1s\tremaining: 29m 58s\n"
     ]
    },
    {
     "name": "stdout",
     "output_type": "stream",
     "text": [
      "120:\tlearn: 0.7510961\ttest: 0.7497957\tbest: 0.7497957 (120)\ttotal: 44.5s\tremaining: 29m 56s\n"
     ]
    },
    {
     "name": "stdout",
     "output_type": "stream",
     "text": [
      "140:\tlearn: 0.7533097\ttest: 0.7522461\tbest: 0.7522745 (135)\ttotal: 51.9s\tremaining: 29m 49s\n"
     ]
    },
    {
     "name": "stdout",
     "output_type": "stream",
     "text": [
      "160:\tlearn: 0.7559146\ttest: 0.7541986\tbest: 0.7541986 (160)\ttotal: 59.2s\tremaining: 29m 40s\n"
     ]
    },
    {
     "name": "stdout",
     "output_type": "stream",
     "text": [
      "180:\tlearn: 0.7582749\ttest: 0.7564214\tbest: 0.7564214 (180)\ttotal: 1m 6s\tremaining: 29m 38s\n"
     ]
    },
    {
     "name": "stdout",
     "output_type": "stream",
     "text": [
      "200:\tlearn: 0.7600316\ttest: 0.7576609\tbest: 0.7578857 (199)\ttotal: 1m 14s\tremaining: 29m 29s\n"
     ]
    },
    {
     "name": "stdout",
     "output_type": "stream",
     "text": [
      "220:\tlearn: 0.7619728\ttest: 0.7591744\tbest: 0.7591744 (220)\ttotal: 1m 21s\tremaining: 29m 20s\n"
     ]
    },
    {
     "name": "stdout",
     "output_type": "stream",
     "text": [
      "240:\tlearn: 0.7634280\ttest: 0.7596113\tbest: 0.7600711 (236)\ttotal: 1m 28s\tremaining: 29m 13s\n"
     ]
    },
    {
     "name": "stdout",
     "output_type": "stream",
     "text": [
      "260:\tlearn: 0.7648552\ttest: 0.7612345\tbest: 0.7613796 (258)\ttotal: 1m 36s\tremaining: 29m 8s\n"
     ]
    },
    {
     "name": "stdout",
     "output_type": "stream",
     "text": [
      "280:\tlearn: 0.7658788\ttest: 0.7626347\tbest: 0.7626610 (279)\ttotal: 1m 43s\tremaining: 29m\n"
     ]
    },
    {
     "name": "stdout",
     "output_type": "stream",
     "text": [
      "300:\tlearn: 0.7670844\ttest: 0.7633027\tbest: 0.7633027 (300)\ttotal: 1m 50s\tremaining: 28m 52s\n"
     ]
    },
    {
     "name": "stdout",
     "output_type": "stream",
     "text": [
      "320:\tlearn: 0.7679235\ttest: 0.7638181\tbest: 0.7641404 (317)\ttotal: 1m 58s\tremaining: 28m 44s\n"
     ]
    },
    {
     "name": "stdout",
     "output_type": "stream",
     "text": [
      "340:\tlearn: 0.7687503\ttest: 0.7645654\tbest: 0.7646943 (336)\ttotal: 2m 5s\tremaining: 28m 36s\n"
     ]
    },
    {
     "name": "stdout",
     "output_type": "stream",
     "text": [
      "360:\tlearn: 0.7696737\ttest: 0.7653283\tbest: 0.7654784 (358)\ttotal: 2m 13s\tremaining: 28m 29s\n"
     ]
    },
    {
     "name": "stdout",
     "output_type": "stream",
     "text": [
      "380:\tlearn: 0.7703832\ttest: 0.7663903\tbest: 0.7665264 (379)\ttotal: 2m 20s\tremaining: 28m 20s\n"
     ]
    },
    {
     "name": "stdout",
     "output_type": "stream",
     "text": [
      "400:\tlearn: 0.7712525\ttest: 0.7667420\tbest: 0.7669612 (393)\ttotal: 2m 27s\tremaining: 28m 12s\n"
     ]
    },
    {
     "name": "stdout",
     "output_type": "stream",
     "text": [
      "420:\tlearn: 0.7720007\ttest: 0.7673755\tbest: 0.7673943 (417)\ttotal: 2m 34s\tremaining: 28m 3s\n"
     ]
    },
    {
     "name": "stdout",
     "output_type": "stream",
     "text": [
      "440:\tlearn: 0.7724653\ttest: 0.7678855\tbest: 0.7678888 (429)\ttotal: 2m 41s\tremaining: 27m 53s\n"
     ]
    },
    {
     "name": "stdout",
     "output_type": "stream",
     "text": [
      "460:\tlearn: 0.7732587\ttest: 0.7688922\tbest: 0.7690685 (458)\ttotal: 2m 49s\tremaining: 27m 46s\n"
     ]
    },
    {
     "name": "stdout",
     "output_type": "stream",
     "text": [
      "480:\tlearn: 0.7738150\ttest: 0.7690928\tbest: 0.7691273 (473)\ttotal: 2m 56s\tremaining: 27m 37s\n"
     ]
    },
    {
     "name": "stdout",
     "output_type": "stream",
     "text": [
      "500:\tlearn: 0.7742905\ttest: 0.7691580\tbest: 0.7695729 (489)\ttotal: 3m 3s\tremaining: 27m 29s\n"
     ]
    },
    {
     "name": "stdout",
     "output_type": "stream",
     "text": [
      "520:\tlearn: 0.7748466\ttest: 0.7696139\tbest: 0.7699440 (512)\ttotal: 3m 10s\tremaining: 27m 21s\n"
     ]
    },
    {
     "name": "stdout",
     "output_type": "stream",
     "text": [
      "540:\tlearn: 0.7754419\ttest: 0.7703041\tbest: 0.7703908 (537)\ttotal: 3m 18s\tremaining: 27m 13s\n"
     ]
    },
    {
     "name": "stdout",
     "output_type": "stream",
     "text": [
      "560:\tlearn: 0.7756655\ttest: 0.7705134\tbest: 0.7705864 (558)\ttotal: 3m 25s\tremaining: 27m 7s\n"
     ]
    },
    {
     "name": "stdout",
     "output_type": "stream",
     "text": [
      "580:\tlearn: 0.7759977\ttest: 0.7709176\tbest: 0.7709515 (575)\ttotal: 3m 33s\tremaining: 27m\n"
     ]
    },
    {
     "name": "stdout",
     "output_type": "stream",
     "text": [
      "600:\tlearn: 0.7763562\ttest: 0.7709316\tbest: 0.7709515 (575)\ttotal: 3m 40s\tremaining: 26m 55s\n"
     ]
    },
    {
     "name": "stdout",
     "output_type": "stream",
     "text": [
      "620:\tlearn: 0.7769656\ttest: 0.7713623\tbest: 0.7713734 (618)\ttotal: 3m 47s\tremaining: 26m 46s\n"
     ]
    },
    {
     "name": "stdout",
     "output_type": "stream",
     "text": [
      "640:\tlearn: 0.7774584\ttest: 0.7715212\tbest: 0.7716425 (635)\ttotal: 3m 54s\tremaining: 26m 37s\n"
     ]
    },
    {
     "name": "stdout",
     "output_type": "stream",
     "text": [
      "660:\tlearn: 0.7777737\ttest: 0.7721628\tbest: 0.7721971 (658)\ttotal: 4m 2s\tremaining: 26m 30s\n"
     ]
    },
    {
     "name": "stdout",
     "output_type": "stream",
     "text": [
      "680:\tlearn: 0.7782177\ttest: 0.7724081\tbest: 0.7724135 (676)\ttotal: 4m 9s\tremaining: 26m 23s\n"
     ]
    },
    {
     "name": "stdout",
     "output_type": "stream",
     "text": [
      "700:\tlearn: 0.7785572\ttest: 0.7730399\tbest: 0.7731139 (697)\ttotal: 4m 17s\tremaining: 26m 16s\n"
     ]
    },
    {
     "name": "stdout",
     "output_type": "stream",
     "text": [
      "720:\tlearn: 0.7788774\ttest: 0.7731213\tbest: 0.7731783 (714)\ttotal: 4m 24s\tremaining: 26m 7s\n"
     ]
    },
    {
     "name": "stdout",
     "output_type": "stream",
     "text": [
      "740:\tlearn: 0.7791717\ttest: 0.7731325\tbest: 0.7733720 (731)\ttotal: 4m 31s\tremaining: 26m\n"
     ]
    },
    {
     "name": "stdout",
     "output_type": "stream",
     "text": [
      "760:\tlearn: 0.7795697\ttest: 0.7732064\tbest: 0.7734596 (749)\ttotal: 4m 38s\tremaining: 25m 53s\n"
     ]
    },
    {
     "name": "stdout",
     "output_type": "stream",
     "text": [
      "780:\tlearn: 0.7798773\ttest: 0.7735498\tbest: 0.7737116 (778)\ttotal: 4m 46s\tremaining: 25m 45s\n"
     ]
    },
    {
     "name": "stdout",
     "output_type": "stream",
     "text": [
      "800:\tlearn: 0.7801793\ttest: 0.7741431\tbest: 0.7741431 (800)\ttotal: 4m 53s\tremaining: 25m 37s\n"
     ]
    },
    {
     "name": "stdout",
     "output_type": "stream",
     "text": [
      "820:\tlearn: 0.7804462\ttest: 0.7742900\tbest: 0.7742900 (820)\ttotal: 5m\tremaining: 25m 30s\n"
     ]
    },
    {
     "name": "stdout",
     "output_type": "stream",
     "text": [
      "840:\tlearn: 0.7808830\ttest: 0.7745674\tbest: 0.7745674 (840)\ttotal: 5m 7s\tremaining: 25m 22s\n"
     ]
    },
    {
     "name": "stdout",
     "output_type": "stream",
     "text": [
      "860:\tlearn: 0.7810606\ttest: 0.7751124\tbest: 0.7751124 (860)\ttotal: 5m 15s\tremaining: 25m 15s\n"
     ]
    },
    {
     "name": "stdout",
     "output_type": "stream",
     "text": [
      "880:\tlearn: 0.7813266\ttest: 0.7752168\tbest: 0.7753902 (875)\ttotal: 5m 22s\tremaining: 25m 7s\n"
     ]
    },
    {
     "name": "stdout",
     "output_type": "stream",
     "text": [
      "900:\tlearn: 0.7816070\ttest: 0.7755490\tbest: 0.7755490 (900)\ttotal: 5m 29s\tremaining: 24m 59s\n"
     ]
    },
    {
     "name": "stdout",
     "output_type": "stream",
     "text": [
      "920:\tlearn: 0.7818879\ttest: 0.7761307\tbest: 0.7762536 (911)\ttotal: 5m 37s\tremaining: 24m 52s\n"
     ]
    },
    {
     "name": "stdout",
     "output_type": "stream",
     "text": [
      "940:\tlearn: 0.7821813\ttest: 0.7763053\tbest: 0.7763586 (928)\ttotal: 5m 44s\tremaining: 24m 45s\n"
     ]
    },
    {
     "name": "stdout",
     "output_type": "stream",
     "text": [
      "960:\tlearn: 0.7824913\ttest: 0.7765906\tbest: 0.7767563 (959)\ttotal: 5m 52s\tremaining: 24m 39s\n"
     ]
    },
    {
     "name": "stdout",
     "output_type": "stream",
     "text": [
      "980:\tlearn: 0.7825163\ttest: 0.7767467\tbest: 0.7767764 (975)\ttotal: 5m 59s\tremaining: 24m 31s\n"
     ]
    },
    {
     "name": "stdout",
     "output_type": "stream",
     "text": [
      "1000:\tlearn: 0.7828351\ttest: 0.7765475\tbest: 0.7768873 (985)\ttotal: 6m 6s\tremaining: 24m 23s\n"
     ]
    },
    {
     "name": "stdout",
     "output_type": "stream",
     "text": [
      "1020:\tlearn: 0.7831916\ttest: 0.7767690\tbest: 0.7768873 (985)\ttotal: 6m 13s\tremaining: 24m 15s\n"
     ]
    },
    {
     "name": "stdout",
     "output_type": "stream",
     "text": [
      "1040:\tlearn: 0.7833014\ttest: 0.7773009\tbest: 0.7774468 (1039)\ttotal: 6m 20s\tremaining: 24m 7s\n"
     ]
    },
    {
     "name": "stdout",
     "output_type": "stream",
     "text": [
      "1060:\tlearn: 0.7836096\ttest: 0.7772193\tbest: 0.7774468 (1039)\ttotal: 6m 27s\tremaining: 24m\n"
     ]
    },
    {
     "name": "stdout",
     "output_type": "stream",
     "text": [
      "1080:\tlearn: 0.7839210\ttest: 0.7774151\tbest: 0.7774468 (1039)\ttotal: 6m 35s\tremaining: 23m 52s\n"
     ]
    },
    {
     "name": "stdout",
     "output_type": "stream",
     "text": [
      "1100:\tlearn: 0.7841776\ttest: 0.7777775\tbest: 0.7777775 (1100)\ttotal: 6m 42s\tremaining: 23m 44s\n"
     ]
    },
    {
     "name": "stdout",
     "output_type": "stream",
     "text": [
      "1120:\tlearn: 0.7844864\ttest: 0.7779310\tbest: 0.7779564 (1113)\ttotal: 6m 49s\tremaining: 23m 37s\n"
     ]
    },
    {
     "name": "stdout",
     "output_type": "stream",
     "text": [
      "1140:\tlearn: 0.7847033\ttest: 0.7777648\tbest: 0.7780193 (1122)\ttotal: 6m 56s\tremaining: 23m 30s\n"
     ]
    },
    {
     "name": "stdout",
     "output_type": "stream",
     "text": [
      "1160:\tlearn: 0.7850225\ttest: 0.7782736\tbest: 0.7783014 (1153)\ttotal: 7m 4s\tremaining: 23m 22s\n"
     ]
    },
    {
     "name": "stdout",
     "output_type": "stream",
     "text": [
      "1180:\tlearn: 0.7852326\ttest: 0.7780830\tbest: 0.7783808 (1161)\ttotal: 7m 11s\tremaining: 23m 14s\n"
     ]
    },
    {
     "name": "stdout",
     "output_type": "stream",
     "text": [
      "1200:\tlearn: 0.7854676\ttest: 0.7784048\tbest: 0.7784868 (1199)\ttotal: 7m 18s\tremaining: 23m 7s\n"
     ]
    },
    {
     "name": "stdout",
     "output_type": "stream",
     "text": [
      "1220:\tlearn: 0.7857115\ttest: 0.7783618\tbest: 0.7784868 (1199)\ttotal: 7m 25s\tremaining: 22m 59s\n"
     ]
    },
    {
     "name": "stdout",
     "output_type": "stream",
     "text": [
      "1240:\tlearn: 0.7859049\ttest: 0.7785078\tbest: 0.7785925 (1230)\ttotal: 7m 33s\tremaining: 22m 52s\n"
     ]
    },
    {
     "name": "stdout",
     "output_type": "stream",
     "text": [
      "1260:\tlearn: 0.7862887\ttest: 0.7785072\tbest: 0.7786019 (1245)\ttotal: 7m 40s\tremaining: 22m 45s\n"
     ]
    },
    {
     "name": "stdout",
     "output_type": "stream",
     "text": [
      "1280:\tlearn: 0.7865549\ttest: 0.7787955\tbest: 0.7788154 (1279)\ttotal: 7m 47s\tremaining: 22m 38s\n"
     ]
    },
    {
     "name": "stdout",
     "output_type": "stream",
     "text": [
      "1300:\tlearn: 0.7866892\ttest: 0.7786885\tbest: 0.7788479 (1297)\ttotal: 7m 55s\tremaining: 22m 31s\n"
     ]
    },
    {
     "name": "stdout",
     "output_type": "stream",
     "text": [
      "1320:\tlearn: 0.7869808\ttest: 0.7791256\tbest: 0.7791256 (1320)\ttotal: 8m 2s\tremaining: 22m 23s\n"
     ]
    },
    {
     "name": "stdout",
     "output_type": "stream",
     "text": [
      "1340:\tlearn: 0.7871373\ttest: 0.7792878\tbest: 0.7792878 (1340)\ttotal: 8m 9s\tremaining: 22m 16s\n"
     ]
    },
    {
     "name": "stdout",
     "output_type": "stream",
     "text": [
      "1360:\tlearn: 0.7874464\ttest: 0.7794497\tbest: 0.7794497 (1360)\ttotal: 8m 17s\tremaining: 22m 9s\n"
     ]
    },
    {
     "name": "stdout",
     "output_type": "stream",
     "text": [
      "1380:\tlearn: 0.7877271\ttest: 0.7798448\tbest: 0.7798448 (1380)\ttotal: 8m 24s\tremaining: 22m 2s\n"
     ]
    },
    {
     "name": "stdout",
     "output_type": "stream",
     "text": [
      "1400:\tlearn: 0.7878230\ttest: 0.7798542\tbest: 0.7798705 (1396)\ttotal: 8m 32s\tremaining: 21m 55s\n"
     ]
    },
    {
     "name": "stdout",
     "output_type": "stream",
     "text": [
      "1420:\tlearn: 0.7880260\ttest: 0.7801193\tbest: 0.7801562 (1417)\ttotal: 8m 39s\tremaining: 21m 48s\n"
     ]
    },
    {
     "name": "stdout",
     "output_type": "stream",
     "text": [
      "1440:\tlearn: 0.7881863\ttest: 0.7799437\tbest: 0.7801562 (1417)\ttotal: 8m 46s\tremaining: 21m 41s\n"
     ]
    },
    {
     "name": "stdout",
     "output_type": "stream",
     "text": [
      "1460:\tlearn: 0.7884372\ttest: 0.7798947\tbest: 0.7801562 (1417)\ttotal: 8m 54s\tremaining: 21m 34s\n"
     ]
    },
    {
     "name": "stdout",
     "output_type": "stream",
     "text": [
      "1480:\tlearn: 0.7887027\ttest: 0.7800758\tbest: 0.7801562 (1417)\ttotal: 9m 1s\tremaining: 21m 26s\n"
     ]
    },
    {
     "name": "stdout",
     "output_type": "stream",
     "text": [
      "1500:\tlearn: 0.7889286\ttest: 0.7803778\tbest: 0.7804187 (1499)\ttotal: 9m 8s\tremaining: 21m 19s\n"
     ]
    },
    {
     "name": "stdout",
     "output_type": "stream",
     "text": [
      "1520:\tlearn: 0.7890772\ttest: 0.7804935\tbest: 0.7807533 (1513)\ttotal: 9m 15s\tremaining: 21m 11s\n"
     ]
    },
    {
     "name": "stdout",
     "output_type": "stream",
     "text": [
      "1540:\tlearn: 0.7892638\ttest: 0.7805015\tbest: 0.7807533 (1513)\ttotal: 9m 22s\tremaining: 21m 3s\n"
     ]
    },
    {
     "name": "stdout",
     "output_type": "stream",
     "text": [
      "1560:\tlearn: 0.7894232\ttest: 0.7803178\tbest: 0.7807533 (1513)\ttotal: 9m 30s\tremaining: 20m 56s\n"
     ]
    },
    {
     "name": "stdout",
     "output_type": "stream",
     "text": [
      "1580:\tlearn: 0.7896188\ttest: 0.7802607\tbest: 0.7807533 (1513)\ttotal: 9m 37s\tremaining: 20m 49s\n"
     ]
    },
    {
     "name": "stdout",
     "output_type": "stream",
     "text": [
      "1600:\tlearn: 0.7896399\ttest: 0.7801380\tbest: 0.7807533 (1513)\ttotal: 9m 44s\tremaining: 20m 41s\n"
     ]
    },
    {
     "name": "stdout",
     "output_type": "stream",
     "text": [
      "1620:\tlearn: 0.7899151\ttest: 0.7800999\tbest: 0.7807533 (1513)\ttotal: 9m 52s\tremaining: 20m 34s\n"
     ]
    },
    {
     "name": "stdout",
     "output_type": "stream",
     "text": [
      "1640:\tlearn: 0.7900416\ttest: 0.7802745\tbest: 0.7807533 (1513)\ttotal: 9m 59s\tremaining: 20m 27s\n"
     ]
    },
    {
     "name": "stdout",
     "output_type": "stream",
     "text": [
      "1660:\tlearn: 0.7902155\ttest: 0.7804472\tbest: 0.7807533 (1513)\ttotal: 10m 6s\tremaining: 20m 20s\n"
     ]
    },
    {
     "name": "stdout",
     "output_type": "stream",
     "text": [
      "1680:\tlearn: 0.7902410\ttest: 0.7804506\tbest: 0.7807533 (1513)\ttotal: 10m 14s\tremaining: 20m 12s\n"
     ]
    },
    {
     "name": "stdout",
     "output_type": "stream",
     "text": [
      "1700:\tlearn: 0.7903188\ttest: 0.7806425\tbest: 0.7807533 (1513)\ttotal: 10m 21s\tremaining: 20m 5s\n"
     ]
    },
    {
     "name": "stdout",
     "output_type": "stream",
     "text": [
      "1720:\tlearn: 0.7904397\ttest: 0.7804165\tbest: 0.7807533 (1513)\ttotal: 10m 29s\tremaining: 19m 58s\n"
     ]
    },
    {
     "name": "stdout",
     "output_type": "stream",
     "text": [
      "1740:\tlearn: 0.7907077\ttest: 0.7803166\tbest: 0.7807533 (1513)\ttotal: 10m 36s\tremaining: 19m 51s\n"
     ]
    },
    {
     "name": "stdout",
     "output_type": "stream",
     "text": [
      "1760:\tlearn: 0.7908467\ttest: 0.7803182\tbest: 0.7807533 (1513)\ttotal: 10m 43s\tremaining: 19m 44s\n"
     ]
    },
    {
     "name": "stdout",
     "output_type": "stream",
     "text": [
      "1780:\tlearn: 0.7910006\ttest: 0.7805275\tbest: 0.7807533 (1513)\ttotal: 10m 51s\tremaining: 19m 37s\n"
     ]
    },
    {
     "name": "stdout",
     "output_type": "stream",
     "text": [
      "1800:\tlearn: 0.7911653\ttest: 0.7808422\tbest: 0.7808422 (1800)\ttotal: 10m 58s\tremaining: 19m 29s\n"
     ]
    },
    {
     "name": "stdout",
     "output_type": "stream",
     "text": [
      "1820:\tlearn: 0.7913253\ttest: 0.7808378\tbest: 0.7808577 (1819)\ttotal: 11m 5s\tremaining: 19m 21s\n"
     ]
    },
    {
     "name": "stdout",
     "output_type": "stream",
     "text": [
      "1840:\tlearn: 0.7915143\ttest: 0.7807947\tbest: 0.7808776 (1838)\ttotal: 11m 12s\tremaining: 19m 14s\n"
     ]
    },
    {
     "name": "stdout",
     "output_type": "stream",
     "text": [
      "1860:\tlearn: 0.7916350\ttest: 0.7810462\tbest: 0.7812044 (1850)\ttotal: 11m 20s\tremaining: 19m 7s\n"
     ]
    },
    {
     "name": "stdout",
     "output_type": "stream",
     "text": [
      "1880:\tlearn: 0.7918624\ttest: 0.7812978\tbest: 0.7812978 (1880)\ttotal: 11m 27s\tremaining: 19m\n"
     ]
    },
    {
     "name": "stdout",
     "output_type": "stream",
     "text": [
      "1900:\tlearn: 0.7919086\ttest: 0.7813142\tbest: 0.7813901 (1890)\ttotal: 11m 35s\tremaining: 18m 53s\n"
     ]
    },
    {
     "name": "stdout",
     "output_type": "stream",
     "text": [
      "1920:\tlearn: 0.7919919\ttest: 0.7813757\tbest: 0.7813901 (1890)\ttotal: 11m 42s\tremaining: 18m 46s\n"
     ]
    },
    {
     "name": "stdout",
     "output_type": "stream",
     "text": [
      "1940:\tlearn: 0.7921980\ttest: 0.7813986\tbest: 0.7814174 (1938)\ttotal: 11m 49s\tremaining: 18m 38s\n"
     ]
    },
    {
     "name": "stdout",
     "output_type": "stream",
     "text": [
      "1960:\tlearn: 0.7922678\ttest: 0.7815405\tbest: 0.7815608 (1959)\ttotal: 11m 56s\tremaining: 18m 30s\n"
     ]
    },
    {
     "name": "stdout",
     "output_type": "stream",
     "text": [
      "1980:\tlearn: 0.7924325\ttest: 0.7815777\tbest: 0.7815777 (1980)\ttotal: 12m 3s\tremaining: 18m 23s\n"
     ]
    },
    {
     "name": "stdout",
     "output_type": "stream",
     "text": [
      "2000:\tlearn: 0.7925492\ttest: 0.7815961\tbest: 0.7815961 (2000)\ttotal: 12m 11s\tremaining: 18m 15s\n"
     ]
    },
    {
     "name": "stdout",
     "output_type": "stream",
     "text": [
      "2020:\tlearn: 0.7926690\ttest: 0.7817405\tbest: 0.7817405 (2020)\ttotal: 12m 18s\tremaining: 18m 8s\n"
     ]
    },
    {
     "name": "stdout",
     "output_type": "stream",
     "text": [
      "2040:\tlearn: 0.7927367\ttest: 0.7819901\tbest: 0.7820306 (2038)\ttotal: 12m 25s\tremaining: 18m\n"
     ]
    },
    {
     "name": "stdout",
     "output_type": "stream",
     "text": [
      "2060:\tlearn: 0.7928803\ttest: 0.7819217\tbest: 0.7820306 (2038)\ttotal: 12m 32s\tremaining: 17m 53s\n"
     ]
    },
    {
     "name": "stdout",
     "output_type": "stream",
     "text": [
      "2080:\tlearn: 0.7929916\ttest: 0.7820440\tbest: 0.7820440 (2080)\ttotal: 12m 40s\tremaining: 17m 46s\n"
     ]
    },
    {
     "name": "stdout",
     "output_type": "stream",
     "text": [
      "2100:\tlearn: 0.7932161\ttest: 0.7821246\tbest: 0.7822704 (2098)\ttotal: 12m 47s\tremaining: 17m 39s\n"
     ]
    },
    {
     "name": "stdout",
     "output_type": "stream",
     "text": [
      "2120:\tlearn: 0.7931456\ttest: 0.7821623\tbest: 0.7822704 (2098)\ttotal: 12m 55s\tremaining: 17m 32s\n"
     ]
    },
    {
     "name": "stdout",
     "output_type": "stream",
     "text": [
      "2140:\tlearn: 0.7932854\ttest: 0.7819903\tbest: 0.7822704 (2098)\ttotal: 13m 2s\tremaining: 17m 24s\n"
     ]
    },
    {
     "name": "stdout",
     "output_type": "stream",
     "text": [
      "2160:\tlearn: 0.7934378\ttest: 0.7820906\tbest: 0.7822704 (2098)\ttotal: 13m 9s\tremaining: 17m 17s\n"
     ]
    },
    {
     "name": "stdout",
     "output_type": "stream",
     "text": [
      "2180:\tlearn: 0.7935386\ttest: 0.7824208\tbest: 0.7824208 (2180)\ttotal: 13m 16s\tremaining: 17m 9s\n"
     ]
    },
    {
     "name": "stdout",
     "output_type": "stream",
     "text": [
      "2200:\tlearn: 0.7936963\ttest: 0.7824554\tbest: 0.7826190 (2193)\ttotal: 13m 24s\tremaining: 17m 2s\n"
     ]
    },
    {
     "name": "stdout",
     "output_type": "stream",
     "text": [
      "2220:\tlearn: 0.7937813\ttest: 0.7824707\tbest: 0.7826741 (2212)\ttotal: 13m 31s\tremaining: 16m 55s\n"
     ]
    },
    {
     "name": "stdout",
     "output_type": "stream",
     "text": [
      "2240:\tlearn: 0.7939833\ttest: 0.7826106\tbest: 0.7827550 (2236)\ttotal: 13m 38s\tremaining: 16m 48s\n"
     ]
    },
    {
     "name": "stdout",
     "output_type": "stream",
     "text": [
      "2260:\tlearn: 0.7940304\ttest: 0.7829184\tbest: 0.7829184 (2260)\ttotal: 13m 46s\tremaining: 16m 40s\n"
     ]
    },
    {
     "name": "stdout",
     "output_type": "stream",
     "text": [
      "2280:\tlearn: 0.7942280\ttest: 0.7832039\tbest: 0.7832039 (2280)\ttotal: 13m 53s\tremaining: 16m 33s\n"
     ]
    },
    {
     "name": "stdout",
     "output_type": "stream",
     "text": [
      "2300:\tlearn: 0.7943217\ttest: 0.7833437\tbest: 0.7833630 (2298)\ttotal: 14m\tremaining: 16m 26s\n"
     ]
    },
    {
     "name": "stdout",
     "output_type": "stream",
     "text": [
      "2320:\tlearn: 0.7945194\ttest: 0.7834205\tbest: 0.7834205 (2320)\ttotal: 14m 8s\tremaining: 16m 18s\n"
     ]
    },
    {
     "name": "stdout",
     "output_type": "stream",
     "text": [
      "2340:\tlearn: 0.7946580\ttest: 0.7833895\tbest: 0.7835725 (2330)\ttotal: 14m 15s\tremaining: 16m 11s\n"
     ]
    },
    {
     "name": "stdout",
     "output_type": "stream",
     "text": [
      "2360:\tlearn: 0.7947135\ttest: 0.7835288\tbest: 0.7836075 (2353)\ttotal: 14m 22s\tremaining: 16m 4s\n"
     ]
    },
    {
     "name": "stdout",
     "output_type": "stream",
     "text": [
      "2380:\tlearn: 0.7948266\ttest: 0.7834553\tbest: 0.7836075 (2353)\ttotal: 14m 29s\tremaining: 15m 56s\n"
     ]
    },
    {
     "name": "stdout",
     "output_type": "stream",
     "text": [
      "2400:\tlearn: 0.7949032\ttest: 0.7835505\tbest: 0.7836075 (2353)\ttotal: 14m 36s\tremaining: 15m 49s\n"
     ]
    },
    {
     "name": "stdout",
     "output_type": "stream",
     "text": [
      "2420:\tlearn: 0.7949124\ttest: 0.7835222\tbest: 0.7836413 (2408)\ttotal: 14m 44s\tremaining: 15m 41s\n"
     ]
    },
    {
     "name": "stdout",
     "output_type": "stream",
     "text": [
      "2440:\tlearn: 0.7950911\ttest: 0.7836163\tbest: 0.7836569 (2436)\ttotal: 14m 51s\tremaining: 15m 34s\n"
     ]
    },
    {
     "name": "stdout",
     "output_type": "stream",
     "text": [
      "2460:\tlearn: 0.7951177\ttest: 0.7838149\tbest: 0.7838738 (2450)\ttotal: 14m 58s\tremaining: 15m 27s\n"
     ]
    },
    {
     "name": "stdout",
     "output_type": "stream",
     "text": [
      "2480:\tlearn: 0.7952139\ttest: 0.7838687\tbest: 0.7839296 (2477)\ttotal: 15m 6s\tremaining: 15m 19s\n"
     ]
    },
    {
     "name": "stdout",
     "output_type": "stream",
     "text": [
      "2500:\tlearn: 0.7952622\ttest: 0.7838595\tbest: 0.7839850 (2497)\ttotal: 15m 13s\tremaining: 15m 12s\n"
     ]
    },
    {
     "name": "stdout",
     "output_type": "stream",
     "text": [
      "2520:\tlearn: 0.7953206\ttest: 0.7838916\tbest: 0.7839850 (2497)\ttotal: 15m 20s\tremaining: 15m 5s\n"
     ]
    },
    {
     "name": "stdout",
     "output_type": "stream",
     "text": [
      "2540:\tlearn: 0.7953638\ttest: 0.7840721\tbest: 0.7841135 (2537)\ttotal: 15m 28s\tremaining: 14m 58s\n"
     ]
    },
    {
     "name": "stdout",
     "output_type": "stream",
     "text": [
      "2560:\tlearn: 0.7954858\ttest: 0.7840419\tbest: 0.7841135 (2537)\ttotal: 15m 35s\tremaining: 14m 50s\n"
     ]
    },
    {
     "name": "stdout",
     "output_type": "stream",
     "text": [
      "2580:\tlearn: 0.7956228\ttest: 0.7841580\tbest: 0.7841708 (2565)\ttotal: 15m 42s\tremaining: 14m 43s\n"
     ]
    },
    {
     "name": "stdout",
     "output_type": "stream",
     "text": [
      "2600:\tlearn: 0.7957068\ttest: 0.7842724\tbest: 0.7842912 (2597)\ttotal: 15m 49s\tremaining: 14m 36s\n"
     ]
    },
    {
     "name": "stdout",
     "output_type": "stream",
     "text": [
      "2620:\tlearn: 0.7957649\ttest: 0.7844097\tbest: 0.7844097 (2620)\ttotal: 15m 57s\tremaining: 14m 29s\n"
     ]
    },
    {
     "name": "stdout",
     "output_type": "stream",
     "text": [
      "2640:\tlearn: 0.7958280\ttest: 0.7844596\tbest: 0.7845380 (2624)\ttotal: 16m 4s\tremaining: 14m 21s\n"
     ]
    },
    {
     "name": "stdout",
     "output_type": "stream",
     "text": [
      "2660:\tlearn: 0.7958235\ttest: 0.7844508\tbest: 0.7845534 (2655)\ttotal: 16m 12s\tremaining: 14m 14s\n"
     ]
    },
    {
     "name": "stdout",
     "output_type": "stream",
     "text": [
      "2680:\tlearn: 0.7958803\ttest: 0.7844610\tbest: 0.7845628 (2673)\ttotal: 16m 19s\tremaining: 14m 7s\n"
     ]
    },
    {
     "name": "stdout",
     "output_type": "stream",
     "text": [
      "2700:\tlearn: 0.7960120\ttest: 0.7845559\tbest: 0.7845706 (2689)\ttotal: 16m 26s\tremaining: 13m 59s\n"
     ]
    },
    {
     "name": "stdout",
     "output_type": "stream",
     "text": [
      "2720:\tlearn: 0.7961206\ttest: 0.7844596\tbest: 0.7845706 (2689)\ttotal: 16m 34s\tremaining: 13m 52s\n"
     ]
    },
    {
     "name": "stdout",
     "output_type": "stream",
     "text": [
      "2740:\tlearn: 0.7961271\ttest: 0.7844875\tbest: 0.7845706 (2689)\ttotal: 16m 41s\tremaining: 13m 45s\n"
     ]
    },
    {
     "name": "stdout",
     "output_type": "stream",
     "text": [
      "2760:\tlearn: 0.7962474\ttest: 0.7845406\tbest: 0.7846382 (2748)\ttotal: 16m 48s\tremaining: 13m 38s\n"
     ]
    },
    {
     "name": "stdout",
     "output_type": "stream",
     "text": [
      "2780:\tlearn: 0.7963322\ttest: 0.7845928\tbest: 0.7846927 (2770)\ttotal: 16m 55s\tremaining: 13m 30s\n"
     ]
    },
    {
     "name": "stdout",
     "output_type": "stream",
     "text": [
      "2800:\tlearn: 0.7964174\ttest: 0.7847085\tbest: 0.7847692 (2794)\ttotal: 17m 3s\tremaining: 13m 23s\n"
     ]
    },
    {
     "name": "stdout",
     "output_type": "stream",
     "text": [
      "2820:\tlearn: 0.7965524\ttest: 0.7846743\tbest: 0.7847735 (2807)\ttotal: 17m 10s\tremaining: 13m 15s\n"
     ]
    },
    {
     "name": "stdout",
     "output_type": "stream",
     "text": [
      "2840:\tlearn: 0.7966033\ttest: 0.7847263\tbest: 0.7848670 (2826)\ttotal: 17m 17s\tremaining: 13m 8s\n"
     ]
    },
    {
     "name": "stdout",
     "output_type": "stream",
     "text": [
      "2860:\tlearn: 0.7967595\ttest: 0.7850293\tbest: 0.7850293 (2860)\ttotal: 17m 25s\tremaining: 13m 1s\n"
     ]
    },
    {
     "name": "stdout",
     "output_type": "stream",
     "text": [
      "2880:\tlearn: 0.7968721\ttest: 0.7851209\tbest: 0.7851209 (2880)\ttotal: 17m 32s\tremaining: 12m 53s\n"
     ]
    },
    {
     "name": "stdout",
     "output_type": "stream",
     "text": [
      "2900:\tlearn: 0.7969065\ttest: 0.7852118\tbest: 0.7852118 (2900)\ttotal: 17m 39s\tremaining: 12m 46s\n"
     ]
    },
    {
     "name": "stdout",
     "output_type": "stream",
     "text": [
      "2920:\tlearn: 0.7969590\ttest: 0.7851363\tbest: 0.7852173 (2912)\ttotal: 17m 46s\tremaining: 12m 39s\n"
     ]
    },
    {
     "name": "stdout",
     "output_type": "stream",
     "text": [
      "2940:\tlearn: 0.7970092\ttest: 0.7852692\tbest: 0.7852901 (2939)\ttotal: 17m 53s\tremaining: 12m 31s\n"
     ]
    },
    {
     "name": "stdout",
     "output_type": "stream",
     "text": [
      "2960:\tlearn: 0.7971446\ttest: 0.7854246\tbest: 0.7854246 (2960)\ttotal: 18m 1s\tremaining: 12m 24s\n"
     ]
    },
    {
     "name": "stdout",
     "output_type": "stream",
     "text": [
      "2980:\tlearn: 0.7972419\ttest: 0.7854961\tbest: 0.7855379 (2979)\ttotal: 18m 8s\tremaining: 12m 17s\n"
     ]
    },
    {
     "name": "stdout",
     "output_type": "stream",
     "text": [
      "3000:\tlearn: 0.7972663\ttest: 0.7853988\tbest: 0.7855433 (2990)\ttotal: 18m 15s\tremaining: 12m 9s\n"
     ]
    },
    {
     "name": "stdout",
     "output_type": "stream",
     "text": [
      "3020:\tlearn: 0.7972952\ttest: 0.7854708\tbest: 0.7855433 (2990)\ttotal: 18m 22s\tremaining: 12m 2s\n"
     ]
    },
    {
     "name": "stdout",
     "output_type": "stream",
     "text": [
      "3040:\tlearn: 0.7973924\ttest: 0.7856682\tbest: 0.7857296 (3034)\ttotal: 18m 30s\tremaining: 11m 55s\n"
     ]
    },
    {
     "name": "stdout",
     "output_type": "stream",
     "text": [
      "3060:\tlearn: 0.7975067\ttest: 0.7856147\tbest: 0.7857367 (3050)\ttotal: 18m 37s\tremaining: 11m 47s\n"
     ]
    },
    {
     "name": "stdout",
     "output_type": "stream",
     "text": [
      "3080:\tlearn: 0.7976423\ttest: 0.7855175\tbest: 0.7857367 (3050)\ttotal: 18m 44s\tremaining: 11m 40s\n"
     ]
    },
    {
     "name": "stdout",
     "output_type": "stream",
     "text": [
      "3100:\tlearn: 0.7977683\ttest: 0.7855706\tbest: 0.7857367 (3050)\ttotal: 18m 51s\tremaining: 11m 33s\n"
     ]
    },
    {
     "name": "stdout",
     "output_type": "stream",
     "text": [
      "3120:\tlearn: 0.7978451\ttest: 0.7856630\tbest: 0.7857367 (3050)\ttotal: 18m 58s\tremaining: 11m 25s\n"
     ]
    },
    {
     "name": "stdout",
     "output_type": "stream",
     "text": [
      "3140:\tlearn: 0.7979329\ttest: 0.7855871\tbest: 0.7857367 (3050)\ttotal: 19m 6s\tremaining: 11m 18s\n"
     ]
    },
    {
     "name": "stdout",
     "output_type": "stream",
     "text": [
      "3160:\tlearn: 0.7980158\ttest: 0.7857852\tbest: 0.7858891 (3158)\ttotal: 19m 13s\tremaining: 11m 11s\n"
     ]
    },
    {
     "name": "stdout",
     "output_type": "stream",
     "text": [
      "3180:\tlearn: 0.7980026\ttest: 0.7854992\tbest: 0.7858891 (3158)\ttotal: 19m 20s\tremaining: 11m 3s\n"
     ]
    },
    {
     "name": "stdout",
     "output_type": "stream",
     "text": [
      "3200:\tlearn: 0.7980198\ttest: 0.7857393\tbest: 0.7858891 (3158)\ttotal: 19m 27s\tremaining: 10m 56s\n"
     ]
    },
    {
     "name": "stdout",
     "output_type": "stream",
     "text": [
      "3220:\tlearn: 0.7980874\ttest: 0.7856224\tbest: 0.7858891 (3158)\ttotal: 19m 35s\tremaining: 10m 49s\n"
     ]
    },
    {
     "name": "stdout",
     "output_type": "stream",
     "text": [
      "3240:\tlearn: 0.7981199\ttest: 0.7855020\tbest: 0.7858891 (3158)\ttotal: 19m 42s\tremaining: 10m 41s\n"
     ]
    },
    {
     "name": "stdout",
     "output_type": "stream",
     "text": [
      "3260:\tlearn: 0.7982798\ttest: 0.7856128\tbest: 0.7858891 (3158)\ttotal: 19m 49s\tremaining: 10m 34s\n"
     ]
    },
    {
     "name": "stdout",
     "output_type": "stream",
     "text": [
      "3280:\tlearn: 0.7983181\ttest: 0.7857251\tbest: 0.7858891 (3158)\ttotal: 19m 56s\tremaining: 10m 26s\n"
     ]
    },
    {
     "name": "stdout",
     "output_type": "stream",
     "text": [
      "3300:\tlearn: 0.7984241\ttest: 0.7854784\tbest: 0.7858891 (3158)\ttotal: 20m 3s\tremaining: 10m 19s\n"
     ]
    },
    {
     "name": "stdout",
     "output_type": "stream",
     "text": [
      "3320:\tlearn: 0.7984427\ttest: 0.7855081\tbest: 0.7858891 (3158)\ttotal: 20m 11s\tremaining: 10m 12s\n"
     ]
    },
    {
     "name": "stdout",
     "output_type": "stream",
     "text": [
      "3340:\tlearn: 0.7985078\ttest: 0.7857650\tbest: 0.7858891 (3158)\ttotal: 20m 18s\tremaining: 10m 4s\n"
     ]
    },
    {
     "name": "stdout",
     "output_type": "stream",
     "text": [
      "3360:\tlearn: 0.7984828\ttest: 0.7857068\tbest: 0.7858891 (3158)\ttotal: 20m 25s\tremaining: 9m 57s\n"
     ]
    },
    {
     "name": "stdout",
     "output_type": "stream",
     "text": [
      "3380:\tlearn: 0.7986101\ttest: 0.7857972\tbest: 0.7858891 (3158)\ttotal: 20m 32s\tremaining: 9m 50s\n"
     ]
    },
    {
     "name": "stdout",
     "output_type": "stream",
     "text": [
      "3400:\tlearn: 0.7986683\ttest: 0.7860347\tbest: 0.7860347 (3400)\ttotal: 20m 40s\tremaining: 9m 43s\n"
     ]
    },
    {
     "name": "stdout",
     "output_type": "stream",
     "text": [
      "3420:\tlearn: 0.7986950\ttest: 0.7859566\tbest: 0.7860347 (3400)\ttotal: 20m 47s\tremaining: 9m 35s\n"
     ]
    },
    {
     "name": "stdout",
     "output_type": "stream",
     "text": [
      "3440:\tlearn: 0.7988508\ttest: 0.7859659\tbest: 0.7860347 (3400)\ttotal: 20m 54s\tremaining: 9m 28s\n"
     ]
    },
    {
     "name": "stdout",
     "output_type": "stream",
     "text": [
      "3460:\tlearn: 0.7988559\ttest: 0.7859711\tbest: 0.7860947 (3447)\ttotal: 21m 1s\tremaining: 9m 21s\n"
     ]
    },
    {
     "name": "stdout",
     "output_type": "stream",
     "text": [
      "3480:\tlearn: 0.7990671\ttest: 0.7860618\tbest: 0.7860947 (3447)\ttotal: 21m 9s\tremaining: 9m 13s\n"
     ]
    },
    {
     "name": "stdout",
     "output_type": "stream",
     "text": [
      "3500:\tlearn: 0.7990249\ttest: 0.7859837\tbest: 0.7860947 (3447)\ttotal: 21m 16s\tremaining: 9m 6s\n"
     ]
    },
    {
     "name": "stdout",
     "output_type": "stream",
     "text": [
      "3520:\tlearn: 0.7991524\ttest: 0.7860331\tbest: 0.7861380 (3519)\ttotal: 21m 23s\tremaining: 8m 59s\n"
     ]
    },
    {
     "name": "stdout",
     "output_type": "stream",
     "text": [
      "3540:\tlearn: 0.7992679\ttest: 0.7861426\tbest: 0.7861426 (3540)\ttotal: 21m 30s\tremaining: 8m 51s\n"
     ]
    },
    {
     "name": "stdout",
     "output_type": "stream",
     "text": [
      "3560:\tlearn: 0.7993419\ttest: 0.7862542\tbest: 0.7862542 (3560)\ttotal: 21m 37s\tremaining: 8m 44s\n"
     ]
    },
    {
     "name": "stdout",
     "output_type": "stream",
     "text": [
      "3580:\tlearn: 0.7993963\ttest: 0.7859445\tbest: 0.7862757 (3561)\ttotal: 21m 44s\tremaining: 8m 37s\n"
     ]
    },
    {
     "name": "stdout",
     "output_type": "stream",
     "text": [
      "3600:\tlearn: 0.7994675\ttest: 0.7858895\tbest: 0.7862757 (3561)\ttotal: 21m 52s\tremaining: 8m 29s\n"
     ]
    },
    {
     "name": "stdout",
     "output_type": "stream",
     "text": [
      "3620:\tlearn: 0.7995311\ttest: 0.7858962\tbest: 0.7862757 (3561)\ttotal: 21m 59s\tremaining: 8m 22s\n"
     ]
    },
    {
     "name": "stdout",
     "output_type": "stream",
     "text": [
      "3640:\tlearn: 0.7996419\ttest: 0.7859457\tbest: 0.7862757 (3561)\ttotal: 22m 6s\tremaining: 8m 15s\n"
     ]
    },
    {
     "name": "stdout",
     "output_type": "stream",
     "text": [
      "3660:\tlearn: 0.7997437\ttest: 0.7859732\tbest: 0.7862757 (3561)\ttotal: 22m 13s\tremaining: 8m 7s\n"
     ]
    },
    {
     "name": "stdout",
     "output_type": "stream",
     "text": [
      "3680:\tlearn: 0.7997328\ttest: 0.7857901\tbest: 0.7862757 (3561)\ttotal: 22m 20s\tremaining: 8m\n"
     ]
    },
    {
     "name": "stdout",
     "output_type": "stream",
     "text": [
      "3700:\tlearn: 0.7998541\ttest: 0.7860070\tbest: 0.7862757 (3561)\ttotal: 22m 28s\tremaining: 7m 53s\n"
     ]
    },
    {
     "name": "stdout",
     "output_type": "stream",
     "text": [
      "3720:\tlearn: 0.7998967\ttest: 0.7858665\tbest: 0.7862757 (3561)\ttotal: 22m 35s\tremaining: 7m 45s\n"
     ]
    },
    {
     "name": "stdout",
     "output_type": "stream",
     "text": [
      "3740:\tlearn: 0.7999371\ttest: 0.7859776\tbest: 0.7862757 (3561)\ttotal: 22m 42s\tremaining: 7m 38s\n"
     ]
    },
    {
     "name": "stdout",
     "output_type": "stream",
     "text": [
      "3760:\tlearn: 0.8000512\ttest: 0.7861709\tbest: 0.7862757 (3561)\ttotal: 22m 49s\tremaining: 7m 31s\n"
     ]
    },
    {
     "name": "stdout",
     "output_type": "stream",
     "text": [
      "3780:\tlearn: 0.8001277\ttest: 0.7862374\tbest: 0.7862757 (3561)\ttotal: 22m 57s\tremaining: 7m 23s\n"
     ]
    },
    {
     "name": "stdout",
     "output_type": "stream",
     "text": [
      "3800:\tlearn: 0.8002324\ttest: 0.7863269\tbest: 0.7863475 (3798)\ttotal: 23m 4s\tremaining: 7m 16s\n"
     ]
    },
    {
     "name": "stdout",
     "output_type": "stream",
     "text": [
      "3820:\tlearn: 0.8002736\ttest: 0.7864589\tbest: 0.7865213 (3819)\ttotal: 23m 11s\tremaining: 7m 9s\n"
     ]
    },
    {
     "name": "stdout",
     "output_type": "stream",
     "text": [
      "3840:\tlearn: 0.8003684\ttest: 0.7864005\tbest: 0.7865228 (3825)\ttotal: 23m 18s\tremaining: 7m 2s\n"
     ]
    },
    {
     "name": "stdout",
     "output_type": "stream",
     "text": [
      "3860:\tlearn: 0.8004372\ttest: 0.7863850\tbest: 0.7865228 (3825)\ttotal: 23m 26s\tremaining: 6m 54s\n"
     ]
    },
    {
     "name": "stdout",
     "output_type": "stream",
     "text": [
      "3880:\tlearn: 0.8005226\ttest: 0.7861189\tbest: 0.7865228 (3825)\ttotal: 23m 33s\tremaining: 6m 47s\n"
     ]
    },
    {
     "name": "stdout",
     "output_type": "stream",
     "text": [
      "3900:\tlearn: 0.8006800\ttest: 0.7861887\tbest: 0.7865228 (3825)\ttotal: 23m 40s\tremaining: 6m 40s\n"
     ]
    },
    {
     "name": "stdout",
     "output_type": "stream",
     "text": [
      "3920:\tlearn: 0.8007371\ttest: 0.7862151\tbest: 0.7865228 (3825)\ttotal: 23m 47s\tremaining: 6m 32s\n"
     ]
    },
    {
     "name": "stdout",
     "output_type": "stream",
     "text": [
      "3940:\tlearn: 0.8008098\ttest: 0.7861573\tbest: 0.7865228 (3825)\ttotal: 23m 55s\tremaining: 6m 25s\n"
     ]
    },
    {
     "name": "stdout",
     "output_type": "stream",
     "text": [
      "3960:\tlearn: 0.8008625\ttest: 0.7861203\tbest: 0.7865228 (3825)\ttotal: 24m 2s\tremaining: 6m 18s\n"
     ]
    },
    {
     "name": "stdout",
     "output_type": "stream",
     "text": [
      "3980:\tlearn: 0.8009048\ttest: 0.7861454\tbest: 0.7865228 (3825)\ttotal: 24m 10s\tremaining: 6m 11s\n"
     ]
    },
    {
     "name": "stdout",
     "output_type": "stream",
     "text": [
      "4000:\tlearn: 0.8010086\ttest: 0.7861909\tbest: 0.7865228 (3825)\ttotal: 24m 17s\tremaining: 6m 3s\n"
     ]
    },
    {
     "name": "stdout",
     "output_type": "stream",
     "text": [
      "4020:\tlearn: 0.8010028\ttest: 0.7862804\tbest: 0.7865228 (3825)\ttotal: 24m 24s\tremaining: 5m 56s\n"
     ]
    },
    {
     "name": "stdout",
     "output_type": "stream",
     "text": [
      "4040:\tlearn: 0.8011221\ttest: 0.7862866\tbest: 0.7865228 (3825)\ttotal: 24m 31s\tremaining: 5m 49s\n"
     ]
    },
    {
     "name": "stdout",
     "output_type": "stream",
     "text": [
      "4060:\tlearn: 0.8011755\ttest: 0.7863760\tbest: 0.7865228 (3825)\ttotal: 24m 38s\tremaining: 5m 41s\n"
     ]
    },
    {
     "name": "stdout",
     "output_type": "stream",
     "text": [
      "4080:\tlearn: 0.8012747\ttest: 0.7863401\tbest: 0.7865228 (3825)\ttotal: 24m 46s\tremaining: 5m 34s\n"
     ]
    },
    {
     "name": "stdout",
     "output_type": "stream",
     "text": [
      "4100:\tlearn: 0.8014262\ttest: 0.7863860\tbest: 0.7865228 (3825)\ttotal: 24m 53s\tremaining: 5m 27s\n"
     ]
    },
    {
     "name": "stdout",
     "output_type": "stream",
     "text": [
      "4120:\tlearn: 0.8013895\ttest: 0.7863923\tbest: 0.7865228 (3825)\ttotal: 25m\tremaining: 5m 20s\n"
     ]
    },
    {
     "name": "stdout",
     "output_type": "stream",
     "text": [
      "Stopped by overfitting detector  (300 iterations wait)\n",
      "\n",
      "bestTest = 0.7865227927\n",
      "bestIteration = 3825\n",
      "\n",
      "Shrink model to first 3826 iterations.\n"
     ]
    },
    {
     "name": "stdout",
     "output_type": "stream",
     "text": [
      "######################################## training model 3/5 ########################################\n"
     ]
    },
    {
     "name": "stdout",
     "output_type": "stream",
     "text": [
      "0:\tlearn: 0.6652606\ttest: 0.6652014\tbest: 0.6652014 (0)\ttotal: 695ms\tremaining: 57m 55s\n"
     ]
    },
    {
     "name": "stdout",
     "output_type": "stream",
     "text": [
      "20:\tlearn: 0.7292341\ttest: 0.7295338\tbest: 0.7295743 (19)\ttotal: 7.83s\tremaining: 30m 56s\n"
     ]
    },
    {
     "name": "stdout",
     "output_type": "stream",
     "text": [
      "40:\tlearn: 0.7373444\ttest: 0.7361291\tbest: 0.7361291 (40)\ttotal: 14.7s\tremaining: 29m 36s\n"
     ]
    },
    {
     "name": "stdout",
     "output_type": "stream",
     "text": [
      "60:\tlearn: 0.7418299\ttest: 0.7405417\tbest: 0.7405417 (60)\ttotal: 21.9s\tremaining: 29m 34s\n"
     ]
    },
    {
     "name": "stdout",
     "output_type": "stream",
     "text": [
      "80:\tlearn: 0.7446716\ttest: 0.7436741\tbest: 0.7440030 (79)\ttotal: 29.3s\tremaining: 29m 40s\n"
     ]
    },
    {
     "name": "stdout",
     "output_type": "stream",
     "text": [
      "100:\tlearn: 0.7472790\ttest: 0.7464782\tbest: 0.7466877 (99)\ttotal: 36.6s\tremaining: 29m 37s\n"
     ]
    },
    {
     "name": "stdout",
     "output_type": "stream",
     "text": [
      "120:\tlearn: 0.7505208\ttest: 0.7493316\tbest: 0.7493316 (120)\ttotal: 44.2s\tremaining: 29m 43s\n"
     ]
    },
    {
     "name": "stdout",
     "output_type": "stream",
     "text": [
      "140:\tlearn: 0.7529912\ttest: 0.7510135\tbest: 0.7511673 (135)\ttotal: 51.7s\tremaining: 29m 41s\n"
     ]
    },
    {
     "name": "stdout",
     "output_type": "stream",
     "text": [
      "160:\tlearn: 0.7550027\ttest: 0.7547233\tbest: 0.7547233 (160)\ttotal: 59.1s\tremaining: 29m 37s\n"
     ]
    },
    {
     "name": "stdout",
     "output_type": "stream",
     "text": [
      "180:\tlearn: 0.7569413\ttest: 0.7572546\tbest: 0.7572546 (180)\ttotal: 1m 6s\tremaining: 29m 36s\n"
     ]
    },
    {
     "name": "stdout",
     "output_type": "stream",
     "text": [
      "200:\tlearn: 0.7590198\ttest: 0.7593555\tbest: 0.7593555 (200)\ttotal: 1m 14s\tremaining: 29m 31s\n"
     ]
    },
    {
     "name": "stdout",
     "output_type": "stream",
     "text": [
      "220:\tlearn: 0.7602755\ttest: 0.7608806\tbest: 0.7610672 (217)\ttotal: 1m 21s\tremaining: 29m 23s\n"
     ]
    },
    {
     "name": "stdout",
     "output_type": "stream",
     "text": [
      "240:\tlearn: 0.7617006\ttest: 0.7625462\tbest: 0.7625462 (240)\ttotal: 1m 29s\tremaining: 29m 17s\n"
     ]
    },
    {
     "name": "stdout",
     "output_type": "stream",
     "text": [
      "260:\tlearn: 0.7629356\ttest: 0.7643057\tbest: 0.7643057 (260)\ttotal: 1m 36s\tremaining: 29m 8s\n"
     ]
    },
    {
     "name": "stdout",
     "output_type": "stream",
     "text": [
      "280:\tlearn: 0.7639740\ttest: 0.7647021\tbest: 0.7648539 (271)\ttotal: 1m 43s\tremaining: 28m 58s\n"
     ]
    },
    {
     "name": "stdout",
     "output_type": "stream",
     "text": [
      "300:\tlearn: 0.7651275\ttest: 0.7657460\tbest: 0.7657460 (300)\ttotal: 1m 50s\tremaining: 28m 52s\n"
     ]
    },
    {
     "name": "stdout",
     "output_type": "stream",
     "text": [
      "320:\tlearn: 0.7660487\ttest: 0.7664069\tbest: 0.7664069 (320)\ttotal: 1m 58s\tremaining: 28m 44s\n"
     ]
    },
    {
     "name": "stdout",
     "output_type": "stream",
     "text": [
      "340:\tlearn: 0.7672927\ttest: 0.7675232\tbest: 0.7675232 (340)\ttotal: 2m 5s\tremaining: 28m 35s\n"
     ]
    },
    {
     "name": "stdout",
     "output_type": "stream",
     "text": [
      "360:\tlearn: 0.7679506\ttest: 0.7684412\tbest: 0.7685249 (358)\ttotal: 2m 12s\tremaining: 28m 27s\n"
     ]
    },
    {
     "name": "stdout",
     "output_type": "stream",
     "text": [
      "380:\tlearn: 0.7687312\ttest: 0.7692549\tbest: 0.7692876 (379)\ttotal: 2m 20s\tremaining: 28m 18s\n"
     ]
    },
    {
     "name": "stdout",
     "output_type": "stream",
     "text": [
      "400:\tlearn: 0.7693193\ttest: 0.7702316\tbest: 0.7702316 (400)\ttotal: 2m 27s\tremaining: 28m 11s\n"
     ]
    },
    {
     "name": "stdout",
     "output_type": "stream",
     "text": [
      "420:\tlearn: 0.7701149\ttest: 0.7707727\tbest: 0.7707727 (420)\ttotal: 2m 35s\tremaining: 28m 5s\n"
     ]
    },
    {
     "name": "stdout",
     "output_type": "stream",
     "text": [
      "440:\tlearn: 0.7708864\ttest: 0.7716852\tbest: 0.7716874 (438)\ttotal: 2m 42s\tremaining: 27m 58s\n"
     ]
    },
    {
     "name": "stdout",
     "output_type": "stream",
     "text": [
      "460:\tlearn: 0.7714002\ttest: 0.7718409\tbest: 0.7720255 (457)\ttotal: 2m 49s\tremaining: 27m 51s\n"
     ]
    },
    {
     "name": "stdout",
     "output_type": "stream",
     "text": [
      "480:\tlearn: 0.7717979\ttest: 0.7728103\tbest: 0.7728103 (480)\ttotal: 2m 57s\tremaining: 27m 44s\n"
     ]
    },
    {
     "name": "stdout",
     "output_type": "stream",
     "text": [
      "500:\tlearn: 0.7724132\ttest: 0.7732056\tbest: 0.7732567 (498)\ttotal: 3m 4s\tremaining: 27m 38s\n"
     ]
    },
    {
     "name": "stdout",
     "output_type": "stream",
     "text": [
      "520:\tlearn: 0.7728410\ttest: 0.7734699\tbest: 0.7735382 (518)\ttotal: 3m 12s\tremaining: 27m 30s\n"
     ]
    },
    {
     "name": "stdout",
     "output_type": "stream",
     "text": [
      "540:\tlearn: 0.7732797\ttest: 0.7739541\tbest: 0.7739909 (539)\ttotal: 3m 19s\tremaining: 27m 24s\n"
     ]
    },
    {
     "name": "stdout",
     "output_type": "stream",
     "text": [
      "560:\tlearn: 0.7739138\ttest: 0.7745696\tbest: 0.7747402 (557)\ttotal: 3m 26s\tremaining: 27m 15s\n"
     ]
    },
    {
     "name": "stdout",
     "output_type": "stream",
     "text": [
      "580:\tlearn: 0.7744048\ttest: 0.7749134\tbest: 0.7751496 (577)\ttotal: 3m 33s\tremaining: 27m 7s\n"
     ]
    },
    {
     "name": "stdout",
     "output_type": "stream",
     "text": [
      "600:\tlearn: 0.7747500\ttest: 0.7758832\tbest: 0.7759836 (599)\ttotal: 3m 41s\tremaining: 26m 58s\n"
     ]
    },
    {
     "name": "stdout",
     "output_type": "stream",
     "text": [
      "620:\tlearn: 0.7750439\ttest: 0.7765701\tbest: 0.7765701 (620)\ttotal: 3m 48s\tremaining: 26m 50s\n"
     ]
    },
    {
     "name": "stdout",
     "output_type": "stream",
     "text": [
      "640:\tlearn: 0.7756133\ttest: 0.7768296\tbest: 0.7769900 (635)\ttotal: 3m 55s\tremaining: 26m 41s\n"
     ]
    },
    {
     "name": "stdout",
     "output_type": "stream",
     "text": [
      "660:\tlearn: 0.7758574\ttest: 0.7771199\tbest: 0.7771734 (658)\ttotal: 4m 2s\tremaining: 26m 33s\n"
     ]
    },
    {
     "name": "stdout",
     "output_type": "stream",
     "text": [
      "680:\tlearn: 0.7761708\ttest: 0.7775791\tbest: 0.7776886 (677)\ttotal: 4m 10s\tremaining: 26m 25s\n"
     ]
    },
    {
     "name": "stdout",
     "output_type": "stream",
     "text": [
      "700:\tlearn: 0.7765736\ttest: 0.7781459\tbest: 0.7781512 (697)\ttotal: 4m 17s\tremaining: 26m 17s\n"
     ]
    },
    {
     "name": "stdout",
     "output_type": "stream",
     "text": [
      "720:\tlearn: 0.7771168\ttest: 0.7783221\tbest: 0.7784447 (710)\ttotal: 4m 24s\tremaining: 26m 10s\n"
     ]
    },
    {
     "name": "stdout",
     "output_type": "stream",
     "text": [
      "740:\tlearn: 0.7774474\ttest: 0.7789803\tbest: 0.7789803 (740)\ttotal: 4m 31s\tremaining: 26m 2s\n"
     ]
    },
    {
     "name": "stdout",
     "output_type": "stream",
     "text": [
      "760:\tlearn: 0.7776516\ttest: 0.7794430\tbest: 0.7794970 (758)\ttotal: 4m 39s\tremaining: 25m 54s\n"
     ]
    },
    {
     "name": "stdout",
     "output_type": "stream",
     "text": [
      "780:\tlearn: 0.7779842\ttest: 0.7799855\tbest: 0.7799855 (780)\ttotal: 4m 46s\tremaining: 25m 45s\n"
     ]
    },
    {
     "name": "stdout",
     "output_type": "stream",
     "text": [
      "800:\tlearn: 0.7782930\ttest: 0.7801780\tbest: 0.7802163 (799)\ttotal: 4m 53s\tremaining: 25m 37s\n"
     ]
    },
    {
     "name": "stdout",
     "output_type": "stream",
     "text": [
      "820:\tlearn: 0.7786359\ttest: 0.7802947\tbest: 0.7805410 (818)\ttotal: 5m\tremaining: 25m 31s\n"
     ]
    },
    {
     "name": "stdout",
     "output_type": "stream",
     "text": [
      "840:\tlearn: 0.7790358\ttest: 0.7804063\tbest: 0.7805410 (818)\ttotal: 5m 8s\tremaining: 25m 23s\n"
     ]
    },
    {
     "name": "stdout",
     "output_type": "stream",
     "text": [
      "860:\tlearn: 0.7792002\ttest: 0.7808080\tbest: 0.7808080 (860)\ttotal: 5m 15s\tremaining: 25m 15s\n"
     ]
    },
    {
     "name": "stdout",
     "output_type": "stream",
     "text": [
      "880:\tlearn: 0.7797439\ttest: 0.7809202\tbest: 0.7809593 (879)\ttotal: 5m 22s\tremaining: 25m 8s\n"
     ]
    },
    {
     "name": "stdout",
     "output_type": "stream",
     "text": [
      "900:\tlearn: 0.7800308\ttest: 0.7814668\tbest: 0.7814668 (900)\ttotal: 5m 29s\tremaining: 25m\n"
     ]
    },
    {
     "name": "stdout",
     "output_type": "stream",
     "text": [
      "920:\tlearn: 0.7803987\ttest: 0.7816552\tbest: 0.7816836 (916)\ttotal: 5m 37s\tremaining: 24m 54s\n"
     ]
    },
    {
     "name": "stdout",
     "output_type": "stream",
     "text": [
      "940:\tlearn: 0.7807592\ttest: 0.7816655\tbest: 0.7818064 (925)\ttotal: 5m 44s\tremaining: 24m 46s\n"
     ]
    },
    {
     "name": "stdout",
     "output_type": "stream",
     "text": [
      "960:\tlearn: 0.7810471\ttest: 0.7820859\tbest: 0.7820859 (960)\ttotal: 5m 51s\tremaining: 24m 39s\n"
     ]
    },
    {
     "name": "stdout",
     "output_type": "stream",
     "text": [
      "980:\tlearn: 0.7813575\ttest: 0.7824790\tbest: 0.7824955 (978)\ttotal: 5m 59s\tremaining: 24m 32s\n"
     ]
    },
    {
     "name": "stdout",
     "output_type": "stream",
     "text": [
      "1000:\tlearn: 0.7815340\ttest: 0.7827215\tbest: 0.7827215 (1000)\ttotal: 6m 6s\tremaining: 24m 24s\n"
     ]
    },
    {
     "name": "stdout",
     "output_type": "stream",
     "text": [
      "1020:\tlearn: 0.7819995\ttest: 0.7827555\tbest: 0.7828971 (1010)\ttotal: 6m 13s\tremaining: 24m 17s\n"
     ]
    },
    {
     "name": "stdout",
     "output_type": "stream",
     "text": [
      "1040:\tlearn: 0.7820926\ttest: 0.7831049\tbest: 0.7831049 (1040)\ttotal: 6m 21s\tremaining: 24m 9s\n"
     ]
    },
    {
     "name": "stdout",
     "output_type": "stream",
     "text": [
      "1060:\tlearn: 0.7823801\ttest: 0.7835358\tbest: 0.7835358 (1060)\ttotal: 6m 28s\tremaining: 24m 2s\n"
     ]
    },
    {
     "name": "stdout",
     "output_type": "stream",
     "text": [
      "1080:\tlearn: 0.7826579\ttest: 0.7834399\tbest: 0.7835589 (1061)\ttotal: 6m 35s\tremaining: 23m 55s\n"
     ]
    },
    {
     "name": "stdout",
     "output_type": "stream",
     "text": [
      "1100:\tlearn: 0.7827877\ttest: 0.7833203\tbest: 0.7836231 (1087)\ttotal: 6m 43s\tremaining: 23m 48s\n"
     ]
    },
    {
     "name": "stdout",
     "output_type": "stream",
     "text": [
      "1120:\tlearn: 0.7832051\ttest: 0.7835780\tbest: 0.7836231 (1087)\ttotal: 6m 50s\tremaining: 23m 40s\n"
     ]
    },
    {
     "name": "stdout",
     "output_type": "stream",
     "text": [
      "1140:\tlearn: 0.7834337\ttest: 0.7837348\tbest: 0.7838277 (1136)\ttotal: 6m 57s\tremaining: 23m 32s\n"
     ]
    },
    {
     "name": "stdout",
     "output_type": "stream",
     "text": [
      "1160:\tlearn: 0.7836974\ttest: 0.7841803\tbest: 0.7841803 (1160)\ttotal: 7m 5s\tremaining: 23m 25s\n"
     ]
    },
    {
     "name": "stdout",
     "output_type": "stream",
     "text": [
      "1180:\tlearn: 0.7839335\ttest: 0.7842426\tbest: 0.7842426 (1180)\ttotal: 7m 12s\tremaining: 23m 17s\n"
     ]
    },
    {
     "name": "stdout",
     "output_type": "stream",
     "text": [
      "1200:\tlearn: 0.7840486\ttest: 0.7842019\tbest: 0.7843821 (1196)\ttotal: 7m 19s\tremaining: 23m 10s\n"
     ]
    },
    {
     "name": "stdout",
     "output_type": "stream",
     "text": [
      "1220:\tlearn: 0.7841999\ttest: 0.7844807\tbest: 0.7844807 (1220)\ttotal: 7m 26s\tremaining: 23m 3s\n"
     ]
    },
    {
     "name": "stdout",
     "output_type": "stream",
     "text": [
      "1240:\tlearn: 0.7843535\ttest: 0.7843531\tbest: 0.7844807 (1220)\ttotal: 7m 33s\tremaining: 22m 54s\n"
     ]
    },
    {
     "name": "stdout",
     "output_type": "stream",
     "text": [
      "1260:\tlearn: 0.7845891\ttest: 0.7845851\tbest: 0.7845995 (1257)\ttotal: 7m 41s\tremaining: 22m 47s\n"
     ]
    },
    {
     "name": "stdout",
     "output_type": "stream",
     "text": [
      "1280:\tlearn: 0.7848923\ttest: 0.7848949\tbest: 0.7848949 (1280)\ttotal: 7m 48s\tremaining: 22m 40s\n"
     ]
    },
    {
     "name": "stdout",
     "output_type": "stream",
     "text": [
      "1300:\tlearn: 0.7851547\ttest: 0.7851429\tbest: 0.7852059 (1289)\ttotal: 7m 56s\tremaining: 22m 33s\n"
     ]
    },
    {
     "name": "stdout",
     "output_type": "stream",
     "text": [
      "1320:\tlearn: 0.7853580\ttest: 0.7855170\tbest: 0.7855170 (1320)\ttotal: 8m 3s\tremaining: 22m 26s\n"
     ]
    },
    {
     "name": "stdout",
     "output_type": "stream",
     "text": [
      "1340:\tlearn: 0.7855660\ttest: 0.7857014\tbest: 0.7857213 (1339)\ttotal: 8m 11s\tremaining: 22m 19s\n"
     ]
    },
    {
     "name": "stdout",
     "output_type": "stream",
     "text": [
      "1360:\tlearn: 0.7857648\ttest: 0.7859097\tbest: 0.7860965 (1359)\ttotal: 8m 18s\tremaining: 22m 12s\n"
     ]
    },
    {
     "name": "stdout",
     "output_type": "stream",
     "text": [
      "1380:\tlearn: 0.7859649\ttest: 0.7861779\tbest: 0.7862413 (1369)\ttotal: 8m 25s\tremaining: 22m 5s\n"
     ]
    },
    {
     "name": "stdout",
     "output_type": "stream",
     "text": [
      "1400:\tlearn: 0.7862749\ttest: 0.7861327\tbest: 0.7862524 (1385)\ttotal: 8m 32s\tremaining: 21m 57s\n"
     ]
    },
    {
     "name": "stdout",
     "output_type": "stream",
     "text": [
      "1420:\tlearn: 0.7863828\ttest: 0.7864232\tbest: 0.7864845 (1419)\ttotal: 8m 40s\tremaining: 21m 50s\n"
     ]
    },
    {
     "name": "stdout",
     "output_type": "stream",
     "text": [
      "1440:\tlearn: 0.7865815\ttest: 0.7866292\tbest: 0.7866292 (1440)\ttotal: 8m 47s\tremaining: 21m 42s\n"
     ]
    },
    {
     "name": "stdout",
     "output_type": "stream",
     "text": [
      "1460:\tlearn: 0.7867084\ttest: 0.7867469\tbest: 0.7869499 (1455)\ttotal: 8m 54s\tremaining: 21m 35s\n"
     ]
    },
    {
     "name": "stdout",
     "output_type": "stream",
     "text": [
      "1480:\tlearn: 0.7868903\ttest: 0.7868191\tbest: 0.7869499 (1455)\ttotal: 9m 1s\tremaining: 21m 27s\n"
     ]
    },
    {
     "name": "stdout",
     "output_type": "stream",
     "text": [
      "1500:\tlearn: 0.7869995\ttest: 0.7869754\tbest: 0.7870140 (1498)\ttotal: 9m 9s\tremaining: 21m 19s\n"
     ]
    },
    {
     "name": "stdout",
     "output_type": "stream",
     "text": [
      "1520:\tlearn: 0.7872036\ttest: 0.7870059\tbest: 0.7870711 (1508)\ttotal: 9m 16s\tremaining: 21m 12s\n"
     ]
    },
    {
     "name": "stdout",
     "output_type": "stream",
     "text": [
      "1540:\tlearn: 0.7872788\ttest: 0.7870403\tbest: 0.7870751 (1536)\ttotal: 9m 23s\tremaining: 21m 4s\n"
     ]
    },
    {
     "name": "stdout",
     "output_type": "stream",
     "text": [
      "1560:\tlearn: 0.7874681\ttest: 0.7874260\tbest: 0.7874871 (1558)\ttotal: 9m 30s\tremaining: 20m 56s\n"
     ]
    },
    {
     "name": "stdout",
     "output_type": "stream",
     "text": [
      "1580:\tlearn: 0.7874632\ttest: 0.7873674\tbest: 0.7874871 (1558)\ttotal: 9m 37s\tremaining: 20m 49s\n"
     ]
    },
    {
     "name": "stdout",
     "output_type": "stream",
     "text": [
      "1600:\tlearn: 0.7877502\ttest: 0.7876932\tbest: 0.7876932 (1600)\ttotal: 9m 45s\tremaining: 20m 42s\n"
     ]
    },
    {
     "name": "stdout",
     "output_type": "stream",
     "text": [
      "1620:\tlearn: 0.7878631\ttest: 0.7876187\tbest: 0.7877576 (1601)\ttotal: 9m 52s\tremaining: 20m 34s\n"
     ]
    },
    {
     "name": "stdout",
     "output_type": "stream",
     "text": [
      "1640:\tlearn: 0.7879870\ttest: 0.7876688\tbest: 0.7878209 (1628)\ttotal: 9m 59s\tremaining: 20m 27s\n"
     ]
    },
    {
     "name": "stdout",
     "output_type": "stream",
     "text": [
      "1660:\tlearn: 0.7882017\ttest: 0.7877130\tbest: 0.7878209 (1628)\ttotal: 10m 7s\tremaining: 20m 20s\n"
     ]
    },
    {
     "name": "stdout",
     "output_type": "stream",
     "text": [
      "1680:\tlearn: 0.7883004\ttest: 0.7876551\tbest: 0.7878209 (1628)\ttotal: 10m 14s\tremaining: 20m 12s\n"
     ]
    },
    {
     "name": "stdout",
     "output_type": "stream",
     "text": [
      "1700:\tlearn: 0.7884451\ttest: 0.7876220\tbest: 0.7878778 (1689)\ttotal: 10m 21s\tremaining: 20m 5s\n"
     ]
    },
    {
     "name": "stdout",
     "output_type": "stream",
     "text": [
      "1720:\tlearn: 0.7884579\ttest: 0.7878343\tbest: 0.7880431 (1718)\ttotal: 10m 28s\tremaining: 19m 58s\n"
     ]
    },
    {
     "name": "stdout",
     "output_type": "stream",
     "text": [
      "1740:\tlearn: 0.7886202\ttest: 0.7879672\tbest: 0.7880431 (1718)\ttotal: 10m 36s\tremaining: 19m 50s\n"
     ]
    },
    {
     "name": "stdout",
     "output_type": "stream",
     "text": [
      "1760:\tlearn: 0.7888656\ttest: 0.7881819\tbest: 0.7881819 (1760)\ttotal: 10m 43s\tremaining: 19m 43s\n"
     ]
    },
    {
     "name": "stdout",
     "output_type": "stream",
     "text": [
      "1780:\tlearn: 0.7890060\ttest: 0.7879123\tbest: 0.7881819 (1760)\ttotal: 10m 50s\tremaining: 19m 36s\n"
     ]
    },
    {
     "name": "stdout",
     "output_type": "stream",
     "text": [
      "1800:\tlearn: 0.7891318\ttest: 0.7878897\tbest: 0.7881819 (1760)\ttotal: 10m 58s\tremaining: 19m 29s\n"
     ]
    },
    {
     "name": "stdout",
     "output_type": "stream",
     "text": [
      "1820:\tlearn: 0.7893236\ttest: 0.7881418\tbest: 0.7882014 (1817)\ttotal: 11m 5s\tremaining: 19m 21s\n"
     ]
    },
    {
     "name": "stdout",
     "output_type": "stream",
     "text": [
      "1840:\tlearn: 0.7895170\ttest: 0.7881195\tbest: 0.7882014 (1817)\ttotal: 11m 12s\tremaining: 19m 14s\n"
     ]
    },
    {
     "name": "stdout",
     "output_type": "stream",
     "text": [
      "1860:\tlearn: 0.7896046\ttest: 0.7882436\tbest: 0.7882839 (1858)\ttotal: 11m 20s\tremaining: 19m 7s\n"
     ]
    },
    {
     "name": "stdout",
     "output_type": "stream",
     "text": [
      "1880:\tlearn: 0.7896792\ttest: 0.7883526\tbest: 0.7883526 (1880)\ttotal: 11m 27s\tremaining: 19m\n"
     ]
    },
    {
     "name": "stdout",
     "output_type": "stream",
     "text": [
      "1900:\tlearn: 0.7898612\ttest: 0.7883728\tbest: 0.7884885 (1890)\ttotal: 11m 34s\tremaining: 18m 52s\n"
     ]
    },
    {
     "name": "stdout",
     "output_type": "stream",
     "text": [
      "1920:\tlearn: 0.7899652\ttest: 0.7884560\tbest: 0.7885166 (1917)\ttotal: 11m 42s\tremaining: 18m 45s\n"
     ]
    },
    {
     "name": "stdout",
     "output_type": "stream",
     "text": [
      "1940:\tlearn: 0.7900148\ttest: 0.7885366\tbest: 0.7885366 (1940)\ttotal: 11m 49s\tremaining: 18m 37s\n"
     ]
    },
    {
     "name": "stdout",
     "output_type": "stream",
     "text": [
      "1960:\tlearn: 0.7902373\ttest: 0.7887074\tbest: 0.7887899 (1959)\ttotal: 11m 56s\tremaining: 18m 30s\n"
     ]
    },
    {
     "name": "stdout",
     "output_type": "stream",
     "text": [
      "1980:\tlearn: 0.7902980\ttest: 0.7887724\tbest: 0.7888318 (1976)\ttotal: 12m 3s\tremaining: 18m 23s\n"
     ]
    },
    {
     "name": "stdout",
     "output_type": "stream",
     "text": [
      "2000:\tlearn: 0.7904677\ttest: 0.7888972\tbest: 0.7890182 (1996)\ttotal: 12m 11s\tremaining: 18m 15s\n"
     ]
    },
    {
     "name": "stdout",
     "output_type": "stream",
     "text": [
      "2020:\tlearn: 0.7906006\ttest: 0.7889778\tbest: 0.7890811 (2018)\ttotal: 12m 18s\tremaining: 18m 8s\n"
     ]
    },
    {
     "name": "stdout",
     "output_type": "stream",
     "text": [
      "2040:\tlearn: 0.7907361\ttest: 0.7889969\tbest: 0.7891627 (2038)\ttotal: 12m 25s\tremaining: 18m\n"
     ]
    },
    {
     "name": "stdout",
     "output_type": "stream",
     "text": [
      "2060:\tlearn: 0.7908099\ttest: 0.7891419\tbest: 0.7891796 (2056)\ttotal: 12m 32s\tremaining: 17m 53s\n"
     ]
    },
    {
     "name": "stdout",
     "output_type": "stream",
     "text": [
      "2080:\tlearn: 0.7910068\ttest: 0.7893082\tbest: 0.7893082 (2080)\ttotal: 12m 40s\tremaining: 17m 46s\n"
     ]
    },
    {
     "name": "stdout",
     "output_type": "stream",
     "text": [
      "2100:\tlearn: 0.7910654\ttest: 0.7893445\tbest: 0.7893965 (2087)\ttotal: 12m 47s\tremaining: 17m 39s\n"
     ]
    },
    {
     "name": "stdout",
     "output_type": "stream",
     "text": [
      "2120:\tlearn: 0.7910948\ttest: 0.7895290\tbest: 0.7895493 (2119)\ttotal: 12m 55s\tremaining: 17m 32s\n"
     ]
    },
    {
     "name": "stdout",
     "output_type": "stream",
     "text": [
      "2140:\tlearn: 0.7912568\ttest: 0.7897757\tbest: 0.7897757 (2140)\ttotal: 13m 2s\tremaining: 17m 24s\n"
     ]
    },
    {
     "name": "stdout",
     "output_type": "stream",
     "text": [
      "2160:\tlearn: 0.7913826\ttest: 0.7899208\tbest: 0.7899208 (2160)\ttotal: 13m 9s\tremaining: 17m 17s\n"
     ]
    },
    {
     "name": "stdout",
     "output_type": "stream",
     "text": [
      "2180:\tlearn: 0.7915606\ttest: 0.7899160\tbest: 0.7899714 (2172)\ttotal: 13m 16s\tremaining: 17m 9s\n"
     ]
    },
    {
     "name": "stdout",
     "output_type": "stream",
     "text": [
      "2200:\tlearn: 0.7917703\ttest: 0.7900375\tbest: 0.7900925 (2190)\ttotal: 13m 23s\tremaining: 17m 2s\n"
     ]
    },
    {
     "name": "stdout",
     "output_type": "stream",
     "text": [
      "2220:\tlearn: 0.7918691\ttest: 0.7902609\tbest: 0.7902801 (2217)\ttotal: 13m 31s\tremaining: 16m 54s\n"
     ]
    },
    {
     "name": "stdout",
     "output_type": "stream",
     "text": [
      "2240:\tlearn: 0.7919731\ttest: 0.7902348\tbest: 0.7903045 (2223)\ttotal: 13m 38s\tremaining: 16m 47s\n"
     ]
    },
    {
     "name": "stdout",
     "output_type": "stream",
     "text": [
      "2260:\tlearn: 0.7920558\ttest: 0.7901232\tbest: 0.7903045 (2223)\ttotal: 13m 45s\tremaining: 16m 39s\n"
     ]
    },
    {
     "name": "stdout",
     "output_type": "stream",
     "text": [
      "2280:\tlearn: 0.7922074\ttest: 0.7903271\tbest: 0.7903445 (2274)\ttotal: 13m 52s\tremaining: 16m 32s\n"
     ]
    },
    {
     "name": "stdout",
     "output_type": "stream",
     "text": [
      "2300:\tlearn: 0.7924023\ttest: 0.7903403\tbest: 0.7903601 (2299)\ttotal: 13m 59s\tremaining: 16m 24s\n"
     ]
    },
    {
     "name": "stdout",
     "output_type": "stream",
     "text": [
      "2320:\tlearn: 0.7925709\ttest: 0.7902297\tbest: 0.7903601 (2299)\ttotal: 14m 6s\tremaining: 16m 17s\n"
     ]
    },
    {
     "name": "stdout",
     "output_type": "stream",
     "text": [
      "2340:\tlearn: 0.7926483\ttest: 0.7903064\tbest: 0.7903601 (2299)\ttotal: 14m 14s\tremaining: 16m 10s\n"
     ]
    },
    {
     "name": "stdout",
     "output_type": "stream",
     "text": [
      "2360:\tlearn: 0.7927253\ttest: 0.7903625\tbest: 0.7903625 (2360)\ttotal: 14m 21s\tremaining: 16m 2s\n"
     ]
    },
    {
     "name": "stdout",
     "output_type": "stream",
     "text": [
      "2380:\tlearn: 0.7928397\ttest: 0.7905040\tbest: 0.7906672 (2376)\ttotal: 14m 28s\tremaining: 15m 55s\n"
     ]
    },
    {
     "name": "stdout",
     "output_type": "stream",
     "text": [
      "2400:\tlearn: 0.7928910\ttest: 0.7907069\tbest: 0.7907069 (2400)\ttotal: 14m 35s\tremaining: 15m 48s\n"
     ]
    },
    {
     "name": "stdout",
     "output_type": "stream",
     "text": [
      "2420:\tlearn: 0.7929563\ttest: 0.7908478\tbest: 0.7908666 (2415)\ttotal: 14m 42s\tremaining: 15m 40s\n"
     ]
    },
    {
     "name": "stdout",
     "output_type": "stream",
     "text": [
      "2440:\tlearn: 0.7930623\ttest: 0.7907770\tbest: 0.7908693 (2421)\ttotal: 14m 50s\tremaining: 15m 33s\n"
     ]
    },
    {
     "name": "stdout",
     "output_type": "stream",
     "text": [
      "2460:\tlearn: 0.7932142\ttest: 0.7906874\tbest: 0.7908693 (2421)\ttotal: 14m 57s\tremaining: 15m 25s\n"
     ]
    },
    {
     "name": "stdout",
     "output_type": "stream",
     "text": [
      "2480:\tlearn: 0.7931510\ttest: 0.7908460\tbest: 0.7908693 (2421)\ttotal: 15m 4s\tremaining: 15m 18s\n"
     ]
    },
    {
     "name": "stdout",
     "output_type": "stream",
     "text": [
      "2500:\tlearn: 0.7933338\ttest: 0.7908192\tbest: 0.7909141 (2485)\ttotal: 15m 11s\tremaining: 15m 11s\n"
     ]
    },
    {
     "name": "stdout",
     "output_type": "stream",
     "text": [
      "2520:\tlearn: 0.7933885\ttest: 0.7908552\tbest: 0.7909141 (2485)\ttotal: 15m 19s\tremaining: 15m 3s\n"
     ]
    },
    {
     "name": "stdout",
     "output_type": "stream",
     "text": [
      "2540:\tlearn: 0.7934510\ttest: 0.7908856\tbest: 0.7910275 (2531)\ttotal: 15m 26s\tremaining: 14m 56s\n"
     ]
    },
    {
     "name": "stdout",
     "output_type": "stream",
     "text": [
      "2560:\tlearn: 0.7935954\ttest: 0.7909619\tbest: 0.7910275 (2531)\ttotal: 15m 33s\tremaining: 14m 49s\n"
     ]
    },
    {
     "name": "stdout",
     "output_type": "stream",
     "text": [
      "2580:\tlearn: 0.7936083\ttest: 0.7910168\tbest: 0.7911394 (2574)\ttotal: 15m 40s\tremaining: 14m 41s\n"
     ]
    },
    {
     "name": "stdout",
     "output_type": "stream",
     "text": [
      "2600:\tlearn: 0.7936251\ttest: 0.7910700\tbest: 0.7911394 (2574)\ttotal: 15m 48s\tremaining: 14m 34s\n"
     ]
    },
    {
     "name": "stdout",
     "output_type": "stream",
     "text": [
      "2620:\tlearn: 0.7937611\ttest: 0.7909965\tbest: 0.7911645 (2619)\ttotal: 15m 55s\tremaining: 14m 27s\n"
     ]
    },
    {
     "name": "stdout",
     "output_type": "stream",
     "text": [
      "2640:\tlearn: 0.7939154\ttest: 0.7913252\tbest: 0.7913252 (2640)\ttotal: 16m 2s\tremaining: 14m 20s\n"
     ]
    },
    {
     "name": "stdout",
     "output_type": "stream",
     "text": [
      "2660:\tlearn: 0.7939853\ttest: 0.7914436\tbest: 0.7914436 (2660)\ttotal: 16m 10s\tremaining: 14m 13s\n"
     ]
    },
    {
     "name": "stdout",
     "output_type": "stream",
     "text": [
      "2680:\tlearn: 0.7940268\ttest: 0.7914759\tbest: 0.7914759 (2680)\ttotal: 16m 17s\tremaining: 14m 5s\n"
     ]
    },
    {
     "name": "stdout",
     "output_type": "stream",
     "text": [
      "2700:\tlearn: 0.7941856\ttest: 0.7914458\tbest: 0.7915670 (2692)\ttotal: 16m 25s\tremaining: 13m 58s\n"
     ]
    },
    {
     "name": "stdout",
     "output_type": "stream",
     "text": [
      "2720:\tlearn: 0.7942701\ttest: 0.7916451\tbest: 0.7916451 (2720)\ttotal: 16m 32s\tremaining: 13m 50s\n"
     ]
    },
    {
     "name": "stdout",
     "output_type": "stream",
     "text": [
      "2740:\tlearn: 0.7943311\ttest: 0.7918446\tbest: 0.7919068 (2738)\ttotal: 16m 39s\tremaining: 13m 43s\n"
     ]
    },
    {
     "name": "stdout",
     "output_type": "stream",
     "text": [
      "2760:\tlearn: 0.7943775\ttest: 0.7919375\tbest: 0.7919583 (2759)\ttotal: 16m 46s\tremaining: 13m 36s\n"
     ]
    },
    {
     "name": "stdout",
     "output_type": "stream",
     "text": [
      "2780:\tlearn: 0.7945163\ttest: 0.7919727\tbest: 0.7919727 (2780)\ttotal: 16m 53s\tremaining: 13m 28s\n"
     ]
    },
    {
     "name": "stdout",
     "output_type": "stream",
     "text": [
      "2800:\tlearn: 0.7946882\ttest: 0.7920049\tbest: 0.7920846 (2794)\ttotal: 17m 1s\tremaining: 13m 21s\n"
     ]
    },
    {
     "name": "stdout",
     "output_type": "stream",
     "text": [
      "2820:\tlearn: 0.7947424\ttest: 0.7921022\tbest: 0.7921412 (2817)\ttotal: 17m 8s\tremaining: 13m 14s\n"
     ]
    },
    {
     "name": "stdout",
     "output_type": "stream",
     "text": [
      "2840:\tlearn: 0.7948210\ttest: 0.7919884\tbest: 0.7921412 (2817)\ttotal: 17m 15s\tremaining: 13m 7s\n"
     ]
    },
    {
     "name": "stdout",
     "output_type": "stream",
     "text": [
      "2860:\tlearn: 0.7949301\ttest: 0.7921886\tbest: 0.7921886 (2860)\ttotal: 17m 23s\tremaining: 12m 59s\n"
     ]
    },
    {
     "name": "stdout",
     "output_type": "stream",
     "text": [
      "2880:\tlearn: 0.7950467\ttest: 0.7921576\tbest: 0.7922358 (2870)\ttotal: 17m 30s\tremaining: 12m 52s\n"
     ]
    },
    {
     "name": "stdout",
     "output_type": "stream",
     "text": [
      "2900:\tlearn: 0.7951957\ttest: 0.7922910\tbest: 0.7922910 (2900)\ttotal: 17m 37s\tremaining: 12m 45s\n"
     ]
    },
    {
     "name": "stdout",
     "output_type": "stream",
     "text": [
      "2920:\tlearn: 0.7951405\ttest: 0.7923648\tbest: 0.7923648 (2920)\ttotal: 17m 44s\tremaining: 12m 37s\n"
     ]
    },
    {
     "name": "stdout",
     "output_type": "stream",
     "text": [
      "2940:\tlearn: 0.7954133\ttest: 0.7923541\tbest: 0.7923876 (2921)\ttotal: 17m 51s\tremaining: 12m 30s\n"
     ]
    },
    {
     "name": "stdout",
     "output_type": "stream",
     "text": [
      "2960:\tlearn: 0.7954332\ttest: 0.7923216\tbest: 0.7923876 (2921)\ttotal: 17m 59s\tremaining: 12m 23s\n"
     ]
    },
    {
     "name": "stdout",
     "output_type": "stream",
     "text": [
      "2980:\tlearn: 0.7955319\ttest: 0.7922678\tbest: 0.7923909 (2974)\ttotal: 18m 6s\tremaining: 12m 15s\n"
     ]
    },
    {
     "name": "stdout",
     "output_type": "stream",
     "text": [
      "3000:\tlearn: 0.7955719\ttest: 0.7921727\tbest: 0.7923909 (2974)\ttotal: 18m 13s\tremaining: 12m 8s\n"
     ]
    },
    {
     "name": "stdout",
     "output_type": "stream",
     "text": [
      "3020:\tlearn: 0.7956458\ttest: 0.7921831\tbest: 0.7923909 (2974)\ttotal: 18m 20s\tremaining: 12m\n"
     ]
    },
    {
     "name": "stdout",
     "output_type": "stream",
     "text": [
      "3040:\tlearn: 0.7958227\ttest: 0.7923827\tbest: 0.7924862 (3037)\ttotal: 18m 27s\tremaining: 11m 53s\n"
     ]
    },
    {
     "name": "stdout",
     "output_type": "stream",
     "text": [
      "3060:\tlearn: 0.7959190\ttest: 0.7926206\tbest: 0.7926206 (3060)\ttotal: 18m 34s\tremaining: 11m 46s\n"
     ]
    },
    {
     "name": "stdout",
     "output_type": "stream",
     "text": [
      "3080:\tlearn: 0.7960455\ttest: 0.7925008\tbest: 0.7926437 (3064)\ttotal: 18m 42s\tremaining: 11m 38s\n"
     ]
    },
    {
     "name": "stdout",
     "output_type": "stream",
     "text": [
      "3100:\tlearn: 0.7961061\ttest: 0.7924044\tbest: 0.7926437 (3064)\ttotal: 18m 49s\tremaining: 11m 31s\n"
     ]
    },
    {
     "name": "stdout",
     "output_type": "stream",
     "text": [
      "3120:\tlearn: 0.7961920\ttest: 0.7924959\tbest: 0.7926437 (3064)\ttotal: 18m 56s\tremaining: 11m 24s\n"
     ]
    },
    {
     "name": "stdout",
     "output_type": "stream",
     "text": [
      "3140:\tlearn: 0.7962737\ttest: 0.7924413\tbest: 0.7926437 (3064)\ttotal: 19m 3s\tremaining: 11m 16s\n"
     ]
    },
    {
     "name": "stdout",
     "output_type": "stream",
     "text": [
      "3160:\tlearn: 0.7963506\ttest: 0.7923668\tbest: 0.7926437 (3064)\ttotal: 19m 10s\tremaining: 11m 9s\n"
     ]
    },
    {
     "name": "stdout",
     "output_type": "stream",
     "text": [
      "3180:\tlearn: 0.7964367\ttest: 0.7922699\tbest: 0.7926437 (3064)\ttotal: 19m 17s\tremaining: 11m 2s\n"
     ]
    },
    {
     "name": "stdout",
     "output_type": "stream",
     "text": [
      "3200:\tlearn: 0.7965033\ttest: 0.7922805\tbest: 0.7926437 (3064)\ttotal: 19m 25s\tremaining: 10m 54s\n"
     ]
    },
    {
     "name": "stdout",
     "output_type": "stream",
     "text": [
      "3220:\tlearn: 0.7965319\ttest: 0.7923311\tbest: 0.7926437 (3064)\ttotal: 19m 32s\tremaining: 10m 47s\n"
     ]
    },
    {
     "name": "stdout",
     "output_type": "stream",
     "text": [
      "3240:\tlearn: 0.7966851\ttest: 0.7921918\tbest: 0.7926437 (3064)\ttotal: 19m 39s\tremaining: 10m 40s\n"
     ]
    },
    {
     "name": "stdout",
     "output_type": "stream",
     "text": [
      "3260:\tlearn: 0.7966664\ttest: 0.7924103\tbest: 0.7926437 (3064)\ttotal: 19m 46s\tremaining: 10m 32s\n"
     ]
    },
    {
     "name": "stdout",
     "output_type": "stream",
     "text": [
      "3280:\tlearn: 0.7967935\ttest: 0.7924570\tbest: 0.7926437 (3064)\ttotal: 19m 53s\tremaining: 10m 25s\n"
     ]
    },
    {
     "name": "stdout",
     "output_type": "stream",
     "text": [
      "3300:\tlearn: 0.7968825\ttest: 0.7924200\tbest: 0.7926437 (3064)\ttotal: 20m\tremaining: 10m 18s\n"
     ]
    },
    {
     "name": "stdout",
     "output_type": "stream",
     "text": [
      "3320:\tlearn: 0.7969222\ttest: 0.7923454\tbest: 0.7926437 (3064)\ttotal: 20m 7s\tremaining: 10m 10s\n"
     ]
    },
    {
     "name": "stdout",
     "output_type": "stream",
     "text": [
      "3340:\tlearn: 0.7969718\ttest: 0.7923122\tbest: 0.7926437 (3064)\ttotal: 20m 15s\tremaining: 10m 3s\n"
     ]
    },
    {
     "name": "stdout",
     "output_type": "stream",
     "text": [
      "3360:\tlearn: 0.7971099\ttest: 0.7922338\tbest: 0.7926437 (3064)\ttotal: 20m 22s\tremaining: 9m 56s\n"
     ]
    },
    {
     "name": "stdout",
     "output_type": "stream",
     "text": [
      "Stopped by overfitting detector  (300 iterations wait)\n",
      "\n",
      "bestTest = 0.7926437286\n",
      "bestIteration = 3064\n",
      "\n",
      "Shrink model to first 3065 iterations.\n"
     ]
    },
    {
     "name": "stdout",
     "output_type": "stream",
     "text": [
      "######################################## training model 4/5 ########################################\n"
     ]
    },
    {
     "name": "stdout",
     "output_type": "stream",
     "text": [
      "0:\tlearn: 0.6531622\ttest: 0.6619061\tbest: 0.6619061 (0)\ttotal: 698ms\tremaining: 58m 8s\n"
     ]
    },
    {
     "name": "stdout",
     "output_type": "stream",
     "text": [
      "20:\tlearn: 0.7276321\ttest: 0.7335616\tbest: 0.7335616 (20)\ttotal: 7.84s\tremaining: 31m\n"
     ]
    },
    {
     "name": "stdout",
     "output_type": "stream",
     "text": [
      "40:\tlearn: 0.7338268\ttest: 0.7396368\tbest: 0.7396368 (40)\ttotal: 15.2s\tremaining: 30m 43s\n"
     ]
    },
    {
     "name": "stdout",
     "output_type": "stream",
     "text": [
      "60:\tlearn: 0.7388310\ttest: 0.7445337\tbest: 0.7447325 (59)\ttotal: 22.5s\tremaining: 30m 21s\n"
     ]
    },
    {
     "name": "stdout",
     "output_type": "stream",
     "text": [
      "80:\tlearn: 0.7423372\ttest: 0.7488735\tbest: 0.7491234 (79)\ttotal: 29.9s\tremaining: 30m 18s\n"
     ]
    },
    {
     "name": "stdout",
     "output_type": "stream",
     "text": [
      "100:\tlearn: 0.7454662\ttest: 0.7515418\tbest: 0.7515418 (100)\ttotal: 37.2s\tremaining: 30m 6s\n"
     ]
    },
    {
     "name": "stdout",
     "output_type": "stream",
     "text": [
      "120:\tlearn: 0.7486459\ttest: 0.7546056\tbest: 0.7546056 (120)\ttotal: 44.4s\tremaining: 29m 50s\n"
     ]
    },
    {
     "name": "stdout",
     "output_type": "stream",
     "text": [
      "140:\tlearn: 0.7515234\ttest: 0.7581218\tbest: 0.7581218 (140)\ttotal: 51.8s\tremaining: 29m 43s\n"
     ]
    },
    {
     "name": "stdout",
     "output_type": "stream",
     "text": [
      "160:\tlearn: 0.7538703\ttest: 0.7597148\tbest: 0.7598240 (159)\ttotal: 58.8s\tremaining: 29m 27s\n"
     ]
    },
    {
     "name": "stdout",
     "output_type": "stream",
     "text": [
      "180:\tlearn: 0.7562904\ttest: 0.7613505\tbest: 0.7613648 (179)\ttotal: 1m 6s\tremaining: 29m 18s\n"
     ]
    },
    {
     "name": "stdout",
     "output_type": "stream",
     "text": [
      "200:\tlearn: 0.7578370\ttest: 0.7640118\tbest: 0.7641283 (199)\ttotal: 1m 13s\tremaining: 29m 14s\n"
     ]
    },
    {
     "name": "stdout",
     "output_type": "stream",
     "text": [
      "220:\tlearn: 0.7596080\ttest: 0.7662391\tbest: 0.7662391 (220)\ttotal: 1m 20s\tremaining: 29m 11s\n"
     ]
    },
    {
     "name": "stdout",
     "output_type": "stream",
     "text": [
      "240:\tlearn: 0.7613083\ttest: 0.7682483\tbest: 0.7682483 (240)\ttotal: 1m 28s\tremaining: 28m 58s\n"
     ]
    },
    {
     "name": "stdout",
     "output_type": "stream",
     "text": [
      "260:\tlearn: 0.7624291\ttest: 0.7688475\tbest: 0.7688475 (260)\ttotal: 1m 35s\tremaining: 28m 52s\n"
     ]
    },
    {
     "name": "stdout",
     "output_type": "stream",
     "text": [
      "280:\tlearn: 0.7635170\ttest: 0.7698812\tbest: 0.7698812 (280)\ttotal: 1m 42s\tremaining: 28m 44s\n"
     ]
    },
    {
     "name": "stdout",
     "output_type": "stream",
     "text": [
      "300:\tlearn: 0.7643965\ttest: 0.7708265\tbest: 0.7711285 (299)\ttotal: 1m 50s\tremaining: 28m 39s\n"
     ]
    },
    {
     "name": "stdout",
     "output_type": "stream",
     "text": [
      "320:\tlearn: 0.7655110\ttest: 0.7724162\tbest: 0.7724162 (320)\ttotal: 1m 57s\tremaining: 28m 31s\n"
     ]
    },
    {
     "name": "stdout",
     "output_type": "stream",
     "text": [
      "340:\tlearn: 0.7663893\ttest: 0.7731961\tbest: 0.7731961 (340)\ttotal: 2m 4s\tremaining: 28m 26s\n"
     ]
    },
    {
     "name": "stdout",
     "output_type": "stream",
     "text": [
      "360:\tlearn: 0.7671064\ttest: 0.7743819\tbest: 0.7743819 (360)\ttotal: 2m 12s\tremaining: 28m 17s\n"
     ]
    },
    {
     "name": "stdout",
     "output_type": "stream",
     "text": [
      "380:\tlearn: 0.7679832\ttest: 0.7753224\tbest: 0.7755145 (374)\ttotal: 2m 19s\tremaining: 28m 11s\n"
     ]
    },
    {
     "name": "stdout",
     "output_type": "stream",
     "text": [
      "400:\tlearn: 0.7686884\ttest: 0.7756187\tbest: 0.7758891 (397)\ttotal: 2m 26s\tremaining: 28m 4s\n"
     ]
    },
    {
     "name": "stdout",
     "output_type": "stream",
     "text": [
      "420:\tlearn: 0.7691713\ttest: 0.7759878\tbest: 0.7760862 (419)\ttotal: 2m 34s\tremaining: 27m 56s\n"
     ]
    },
    {
     "name": "stdout",
     "output_type": "stream",
     "text": [
      "440:\tlearn: 0.7701737\ttest: 0.7768193\tbest: 0.7770125 (438)\ttotal: 2m 41s\tremaining: 27m 47s\n"
     ]
    },
    {
     "name": "stdout",
     "output_type": "stream",
     "text": [
      "460:\tlearn: 0.7709358\ttest: 0.7776395\tbest: 0.7776395 (460)\ttotal: 2m 48s\tremaining: 27m 41s\n"
     ]
    },
    {
     "name": "stdout",
     "output_type": "stream",
     "text": [
      "480:\tlearn: 0.7714505\ttest: 0.7781316\tbest: 0.7781316 (480)\ttotal: 2m 56s\tremaining: 27m 35s\n"
     ]
    },
    {
     "name": "stdout",
     "output_type": "stream",
     "text": [
      "500:\tlearn: 0.7718464\ttest: 0.7782755\tbest: 0.7782755 (500)\ttotal: 3m 3s\tremaining: 27m 27s\n"
     ]
    },
    {
     "name": "stdout",
     "output_type": "stream",
     "text": [
      "520:\tlearn: 0.7723349\ttest: 0.7784350\tbest: 0.7784350 (520)\ttotal: 3m 10s\tremaining: 27m 21s\n"
     ]
    },
    {
     "name": "stdout",
     "output_type": "stream",
     "text": [
      "540:\tlearn: 0.7730397\ttest: 0.7786728\tbest: 0.7787456 (538)\ttotal: 3m 18s\tremaining: 27m 14s\n"
     ]
    },
    {
     "name": "stdout",
     "output_type": "stream",
     "text": [
      "560:\tlearn: 0.7734527\ttest: 0.7791307\tbest: 0.7791392 (555)\ttotal: 3m 25s\tremaining: 27m 5s\n"
     ]
    },
    {
     "name": "stdout",
     "output_type": "stream",
     "text": [
      "580:\tlearn: 0.7739243\ttest: 0.7794391\tbest: 0.7795152 (576)\ttotal: 3m 32s\tremaining: 26m 57s\n"
     ]
    },
    {
     "name": "stdout",
     "output_type": "stream",
     "text": [
      "600:\tlearn: 0.7743570\ttest: 0.7797699\tbest: 0.7798076 (599)\ttotal: 3m 40s\tremaining: 26m 50s\n"
     ]
    },
    {
     "name": "stdout",
     "output_type": "stream",
     "text": [
      "620:\tlearn: 0.7748076\ttest: 0.7798158\tbest: 0.7798905 (618)\ttotal: 3m 47s\tremaining: 26m 44s\n"
     ]
    },
    {
     "name": "stdout",
     "output_type": "stream",
     "text": [
      "640:\tlearn: 0.7752561\ttest: 0.7802068\tbest: 0.7803181 (632)\ttotal: 3m 55s\tremaining: 26m 38s\n"
     ]
    },
    {
     "name": "stdout",
     "output_type": "stream",
     "text": [
      "660:\tlearn: 0.7756472\ttest: 0.7809476\tbest: 0.7810078 (659)\ttotal: 4m 2s\tremaining: 26m 31s\n"
     ]
    },
    {
     "name": "stdout",
     "output_type": "stream",
     "text": [
      "680:\tlearn: 0.7759248\ttest: 0.7813393\tbest: 0.7813569 (679)\ttotal: 4m 9s\tremaining: 26m 24s\n"
     ]
    },
    {
     "name": "stdout",
     "output_type": "stream",
     "text": [
      "700:\tlearn: 0.7763987\ttest: 0.7816443\tbest: 0.7816443 (700)\ttotal: 4m 17s\tremaining: 26m 19s\n"
     ]
    },
    {
     "name": "stdout",
     "output_type": "stream",
     "text": [
      "720:\tlearn: 0.7767025\ttest: 0.7818916\tbest: 0.7818916 (720)\ttotal: 4m 25s\tremaining: 26m 12s\n"
     ]
    },
    {
     "name": "stdout",
     "output_type": "stream",
     "text": [
      "740:\tlearn: 0.7769788\ttest: 0.7819832\tbest: 0.7820354 (733)\ttotal: 4m 32s\tremaining: 26m 5s\n"
     ]
    },
    {
     "name": "stdout",
     "output_type": "stream",
     "text": [
      "760:\tlearn: 0.7772799\ttest: 0.7825279\tbest: 0.7825279 (760)\ttotal: 4m 39s\tremaining: 25m 58s\n"
     ]
    },
    {
     "name": "stdout",
     "output_type": "stream",
     "text": [
      "780:\tlearn: 0.7775910\ttest: 0.7831766\tbest: 0.7831766 (780)\ttotal: 4m 47s\tremaining: 25m 51s\n"
     ]
    },
    {
     "name": "stdout",
     "output_type": "stream",
     "text": [
      "800:\tlearn: 0.7781153\ttest: 0.7835204\tbest: 0.7835204 (800)\ttotal: 4m 54s\tremaining: 25m 43s\n"
     ]
    },
    {
     "name": "stdout",
     "output_type": "stream",
     "text": [
      "820:\tlearn: 0.7784733\ttest: 0.7836164\tbest: 0.7836977 (819)\ttotal: 5m 1s\tremaining: 25m 36s\n"
     ]
    },
    {
     "name": "stdout",
     "output_type": "stream",
     "text": [
      "840:\tlearn: 0.7789365\ttest: 0.7839360\tbest: 0.7839509 (832)\ttotal: 5m 9s\tremaining: 25m 28s\n"
     ]
    },
    {
     "name": "stdout",
     "output_type": "stream",
     "text": [
      "860:\tlearn: 0.7793256\ttest: 0.7844666\tbest: 0.7844794 (857)\ttotal: 5m 16s\tremaining: 25m 21s\n"
     ]
    },
    {
     "name": "stdout",
     "output_type": "stream",
     "text": [
      "880:\tlearn: 0.7795618\ttest: 0.7847390\tbest: 0.7848390 (878)\ttotal: 5m 23s\tremaining: 25m 12s\n"
     ]
    },
    {
     "name": "stdout",
     "output_type": "stream",
     "text": [
      "900:\tlearn: 0.7798918\ttest: 0.7851850\tbest: 0.7852026 (899)\ttotal: 5m 30s\tremaining: 25m 4s\n"
     ]
    },
    {
     "name": "stdout",
     "output_type": "stream",
     "text": [
      "920:\tlearn: 0.7801236\ttest: 0.7851195\tbest: 0.7852626 (919)\ttotal: 5m 38s\tremaining: 24m 57s\n"
     ]
    },
    {
     "name": "stdout",
     "output_type": "stream",
     "text": [
      "940:\tlearn: 0.7804704\ttest: 0.7853250\tbest: 0.7853250 (940)\ttotal: 5m 45s\tremaining: 24m 50s\n"
     ]
    },
    {
     "name": "stdout",
     "output_type": "stream",
     "text": [
      "960:\tlearn: 0.7807377\ttest: 0.7855039\tbest: 0.7855518 (955)\ttotal: 5m 52s\tremaining: 24m 42s\n"
     ]
    },
    {
     "name": "stdout",
     "output_type": "stream",
     "text": [
      "980:\tlearn: 0.7810381\ttest: 0.7855347\tbest: 0.7856721 (975)\ttotal: 5m 59s\tremaining: 24m 34s\n"
     ]
    },
    {
     "name": "stdout",
     "output_type": "stream",
     "text": [
      "1000:\tlearn: 0.7813493\ttest: 0.7859844\tbest: 0.7859938 (995)\ttotal: 6m 7s\tremaining: 24m 26s\n"
     ]
    },
    {
     "name": "stdout",
     "output_type": "stream",
     "text": [
      "1020:\tlearn: 0.7817052\ttest: 0.7859905\tbest: 0.7861868 (1014)\ttotal: 6m 14s\tremaining: 24m 19s\n"
     ]
    },
    {
     "name": "stdout",
     "output_type": "stream",
     "text": [
      "1040:\tlearn: 0.7819787\ttest: 0.7863056\tbest: 0.7863056 (1040)\ttotal: 6m 21s\tremaining: 24m 12s\n"
     ]
    },
    {
     "name": "stdout",
     "output_type": "stream",
     "text": [
      "1060:\tlearn: 0.7823637\ttest: 0.7866895\tbest: 0.7867084 (1059)\ttotal: 6m 29s\tremaining: 24m 5s\n"
     ]
    },
    {
     "name": "stdout",
     "output_type": "stream",
     "text": [
      "1080:\tlearn: 0.7826425\ttest: 0.7867808\tbest: 0.7868200 (1079)\ttotal: 6m 36s\tremaining: 23m 58s\n"
     ]
    },
    {
     "name": "stdout",
     "output_type": "stream",
     "text": [
      "1100:\tlearn: 0.7828553\ttest: 0.7868484\tbest: 0.7868758 (1094)\ttotal: 6m 44s\tremaining: 23m 50s\n"
     ]
    },
    {
     "name": "stdout",
     "output_type": "stream",
     "text": [
      "1120:\tlearn: 0.7830774\ttest: 0.7870234\tbest: 0.7871088 (1112)\ttotal: 6m 51s\tremaining: 23m 43s\n"
     ]
    },
    {
     "name": "stdout",
     "output_type": "stream",
     "text": [
      "1140:\tlearn: 0.7831940\ttest: 0.7869773\tbest: 0.7871088 (1112)\ttotal: 6m 58s\tremaining: 23m 35s\n"
     ]
    },
    {
     "name": "stdout",
     "output_type": "stream",
     "text": [
      "1160:\tlearn: 0.7834552\ttest: 0.7869778\tbest: 0.7871088 (1112)\ttotal: 7m 5s\tremaining: 23m 28s\n"
     ]
    },
    {
     "name": "stdout",
     "output_type": "stream",
     "text": [
      "1180:\tlearn: 0.7836419\ttest: 0.7871479\tbest: 0.7872446 (1176)\ttotal: 7m 13s\tremaining: 23m 21s\n"
     ]
    },
    {
     "name": "stdout",
     "output_type": "stream",
     "text": [
      "1200:\tlearn: 0.7837702\ttest: 0.7872808\tbest: 0.7873370 (1198)\ttotal: 7m 20s\tremaining: 23m 14s\n"
     ]
    },
    {
     "name": "stdout",
     "output_type": "stream",
     "text": [
      "1220:\tlearn: 0.7839611\ttest: 0.7876339\tbest: 0.7876339 (1220)\ttotal: 7m 28s\tremaining: 23m 7s\n"
     ]
    },
    {
     "name": "stdout",
     "output_type": "stream",
     "text": [
      "1240:\tlearn: 0.7840751\ttest: 0.7879285\tbest: 0.7879685 (1239)\ttotal: 7m 35s\tremaining: 22m 59s\n"
     ]
    },
    {
     "name": "stdout",
     "output_type": "stream",
     "text": [
      "1260:\tlearn: 0.7842046\ttest: 0.7880705\tbest: 0.7880705 (1260)\ttotal: 7m 42s\tremaining: 22m 52s\n"
     ]
    },
    {
     "name": "stdout",
     "output_type": "stream",
     "text": [
      "1280:\tlearn: 0.7843328\ttest: 0.7877966\tbest: 0.7881332 (1270)\ttotal: 7m 50s\tremaining: 22m 44s\n"
     ]
    },
    {
     "name": "stdout",
     "output_type": "stream",
     "text": [
      "1300:\tlearn: 0.7846230\ttest: 0.7881495\tbest: 0.7881887 (1298)\ttotal: 7m 57s\tremaining: 22m 37s\n"
     ]
    },
    {
     "name": "stdout",
     "output_type": "stream",
     "text": [
      "1320:\tlearn: 0.7847915\ttest: 0.7882722\tbest: 0.7883689 (1316)\ttotal: 8m 4s\tremaining: 22m 29s\n"
     ]
    },
    {
     "name": "stdout",
     "output_type": "stream",
     "text": [
      "1340:\tlearn: 0.7850225\ttest: 0.7885177\tbest: 0.7885309 (1336)\ttotal: 8m 11s\tremaining: 22m 20s\n"
     ]
    },
    {
     "name": "stdout",
     "output_type": "stream",
     "text": [
      "1360:\tlearn: 0.7851847\ttest: 0.7887644\tbest: 0.7887644 (1360)\ttotal: 8m 18s\tremaining: 22m 13s\n"
     ]
    },
    {
     "name": "stdout",
     "output_type": "stream",
     "text": [
      "1380:\tlearn: 0.7853685\ttest: 0.7885859\tbest: 0.7887644 (1360)\ttotal: 8m 26s\tremaining: 22m 6s\n"
     ]
    },
    {
     "name": "stdout",
     "output_type": "stream",
     "text": [
      "1400:\tlearn: 0.7856630\ttest: 0.7887641\tbest: 0.7887644 (1360)\ttotal: 8m 33s\tremaining: 21m 59s\n"
     ]
    },
    {
     "name": "stdout",
     "output_type": "stream",
     "text": [
      "1420:\tlearn: 0.7858948\ttest: 0.7890498\tbest: 0.7890685 (1419)\ttotal: 8m 40s\tremaining: 21m 51s\n"
     ]
    },
    {
     "name": "stdout",
     "output_type": "stream",
     "text": [
      "1440:\tlearn: 0.7860450\ttest: 0.7889542\tbest: 0.7890685 (1419)\ttotal: 8m 48s\tremaining: 21m 44s\n"
     ]
    },
    {
     "name": "stdout",
     "output_type": "stream",
     "text": [
      "1460:\tlearn: 0.7862943\ttest: 0.7889191\tbest: 0.7891650 (1455)\ttotal: 8m 55s\tremaining: 21m 36s\n"
     ]
    },
    {
     "name": "stdout",
     "output_type": "stream",
     "text": [
      "1480:\tlearn: 0.7864162\ttest: 0.7890325\tbest: 0.7891905 (1473)\ttotal: 9m 2s\tremaining: 21m 29s\n"
     ]
    },
    {
     "name": "stdout",
     "output_type": "stream",
     "text": [
      "1500:\tlearn: 0.7866356\ttest: 0.7891869\tbest: 0.7893514 (1497)\ttotal: 9m 9s\tremaining: 21m 21s\n"
     ]
    },
    {
     "name": "stdout",
     "output_type": "stream",
     "text": [
      "1520:\tlearn: 0.7868865\ttest: 0.7893478\tbest: 0.7893856 (1516)\ttotal: 9m 17s\tremaining: 21m 14s\n"
     ]
    },
    {
     "name": "stdout",
     "output_type": "stream",
     "text": [
      "1540:\tlearn: 0.7871561\ttest: 0.7893003\tbest: 0.7894367 (1523)\ttotal: 9m 24s\tremaining: 21m 7s\n"
     ]
    },
    {
     "name": "stdout",
     "output_type": "stream",
     "text": [
      "1560:\tlearn: 0.7872611\ttest: 0.7897087\tbest: 0.7897087 (1560)\ttotal: 9m 31s\tremaining: 20m 59s\n"
     ]
    },
    {
     "name": "stdout",
     "output_type": "stream",
     "text": [
      "1580:\tlearn: 0.7874210\ttest: 0.7896953\tbest: 0.7898589 (1577)\ttotal: 9m 39s\tremaining: 20m 52s\n"
     ]
    },
    {
     "name": "stdout",
     "output_type": "stream",
     "text": [
      "1600:\tlearn: 0.7875263\ttest: 0.7898895\tbest: 0.7899658 (1593)\ttotal: 9m 46s\tremaining: 20m 45s\n"
     ]
    },
    {
     "name": "stdout",
     "output_type": "stream",
     "text": [
      "1620:\tlearn: 0.7877322\ttest: 0.7898962\tbest: 0.7899844 (1610)\ttotal: 9m 53s\tremaining: 20m 37s\n"
     ]
    },
    {
     "name": "stdout",
     "output_type": "stream",
     "text": [
      "1640:\tlearn: 0.7878510\ttest: 0.7898358\tbest: 0.7899844 (1610)\ttotal: 10m\tremaining: 20m 30s\n"
     ]
    },
    {
     "name": "stdout",
     "output_type": "stream",
     "text": [
      "1660:\tlearn: 0.7880770\ttest: 0.7901363\tbest: 0.7901363 (1660)\ttotal: 10m 8s\tremaining: 20m 22s\n"
     ]
    },
    {
     "name": "stdout",
     "output_type": "stream",
     "text": [
      "1680:\tlearn: 0.7881383\ttest: 0.7904332\tbest: 0.7904332 (1680)\ttotal: 10m 15s\tremaining: 20m 15s\n"
     ]
    },
    {
     "name": "stdout",
     "output_type": "stream",
     "text": [
      "1700:\tlearn: 0.7883865\ttest: 0.7904168\tbest: 0.7905231 (1685)\ttotal: 10m 22s\tremaining: 20m 7s\n"
     ]
    },
    {
     "name": "stdout",
     "output_type": "stream",
     "text": [
      "1720:\tlearn: 0.7884142\ttest: 0.7907983\tbest: 0.7907983 (1720)\ttotal: 10m 30s\tremaining: 20m\n"
     ]
    },
    {
     "name": "stdout",
     "output_type": "stream",
     "text": [
      "1740:\tlearn: 0.7885855\ttest: 0.7909529\tbest: 0.7909723 (1739)\ttotal: 10m 37s\tremaining: 19m 53s\n"
     ]
    },
    {
     "name": "stdout",
     "output_type": "stream",
     "text": [
      "1760:\tlearn: 0.7887225\ttest: 0.7910177\tbest: 0.7911004 (1758)\ttotal: 10m 44s\tremaining: 19m 46s\n"
     ]
    },
    {
     "name": "stdout",
     "output_type": "stream",
     "text": [
      "1780:\tlearn: 0.7889467\ttest: 0.7908106\tbest: 0.7911004 (1758)\ttotal: 10m 52s\tremaining: 19m 38s\n"
     ]
    },
    {
     "name": "stdout",
     "output_type": "stream",
     "text": [
      "1800:\tlearn: 0.7890856\ttest: 0.7909821\tbest: 0.7911004 (1758)\ttotal: 10m 59s\tremaining: 19m 31s\n"
     ]
    },
    {
     "name": "stdout",
     "output_type": "stream",
     "text": [
      "1820:\tlearn: 0.7891482\ttest: 0.7909190\tbest: 0.7911004 (1758)\ttotal: 11m 6s\tremaining: 19m 23s\n"
     ]
    },
    {
     "name": "stdout",
     "output_type": "stream",
     "text": [
      "1840:\tlearn: 0.7893690\ttest: 0.7909161\tbest: 0.7911028 (1837)\ttotal: 11m 13s\tremaining: 19m 15s\n"
     ]
    },
    {
     "name": "stdout",
     "output_type": "stream",
     "text": [
      "1860:\tlearn: 0.7896016\ttest: 0.7910641\tbest: 0.7911263 (1859)\ttotal: 11m 21s\tremaining: 19m 8s\n"
     ]
    },
    {
     "name": "stdout",
     "output_type": "stream",
     "text": [
      "1880:\tlearn: 0.7896582\ttest: 0.7911050\tbest: 0.7911996 (1870)\ttotal: 11m 28s\tremaining: 19m 1s\n"
     ]
    },
    {
     "name": "stdout",
     "output_type": "stream",
     "text": [
      "1900:\tlearn: 0.7896800\ttest: 0.7912524\tbest: 0.7913345 (1898)\ttotal: 11m 35s\tremaining: 18m 53s\n"
     ]
    },
    {
     "name": "stdout",
     "output_type": "stream",
     "text": [
      "1920:\tlearn: 0.7898408\ttest: 0.7915067\tbest: 0.7915067 (1920)\ttotal: 11m 42s\tremaining: 18m 46s\n"
     ]
    },
    {
     "name": "stdout",
     "output_type": "stream",
     "text": [
      "1940:\tlearn: 0.7899393\ttest: 0.7916311\tbest: 0.7917484 (1930)\ttotal: 11m 50s\tremaining: 18m 39s\n"
     ]
    },
    {
     "name": "stdout",
     "output_type": "stream",
     "text": [
      "1960:\tlearn: 0.7900310\ttest: 0.7916690\tbest: 0.7917484 (1930)\ttotal: 11m 57s\tremaining: 18m 31s\n"
     ]
    },
    {
     "name": "stdout",
     "output_type": "stream",
     "text": [
      "1980:\tlearn: 0.7901862\ttest: 0.7915389\tbest: 0.7917674 (1975)\ttotal: 12m 4s\tremaining: 18m 24s\n"
     ]
    },
    {
     "name": "stdout",
     "output_type": "stream",
     "text": [
      "2000:\tlearn: 0.7902960\ttest: 0.7916865\tbest: 0.7917674 (1975)\ttotal: 12m 12s\tremaining: 18m 17s\n"
     ]
    },
    {
     "name": "stdout",
     "output_type": "stream",
     "text": [
      "2020:\tlearn: 0.7904279\ttest: 0.7918712\tbest: 0.7918712 (2020)\ttotal: 12m 19s\tremaining: 18m 10s\n"
     ]
    },
    {
     "name": "stdout",
     "output_type": "stream",
     "text": [
      "2040:\tlearn: 0.7904961\ttest: 0.7918656\tbest: 0.7919485 (2038)\ttotal: 12m 26s\tremaining: 18m 2s\n"
     ]
    },
    {
     "name": "stdout",
     "output_type": "stream",
     "text": [
      "2060:\tlearn: 0.7906327\ttest: 0.7918799\tbest: 0.7919485 (2038)\ttotal: 12m 33s\tremaining: 17m 54s\n"
     ]
    },
    {
     "name": "stdout",
     "output_type": "stream",
     "text": [
      "2080:\tlearn: 0.7908173\ttest: 0.7917907\tbest: 0.7919485 (2038)\ttotal: 12m 40s\tremaining: 17m 47s\n"
     ]
    },
    {
     "name": "stdout",
     "output_type": "stream",
     "text": [
      "2100:\tlearn: 0.7909283\ttest: 0.7918088\tbest: 0.7919485 (2038)\ttotal: 12m 48s\tremaining: 17m 39s\n"
     ]
    },
    {
     "name": "stdout",
     "output_type": "stream",
     "text": [
      "2120:\tlearn: 0.7911404\ttest: 0.7918683\tbest: 0.7919485 (2038)\ttotal: 12m 55s\tremaining: 17m 32s\n"
     ]
    },
    {
     "name": "stdout",
     "output_type": "stream",
     "text": [
      "2140:\tlearn: 0.7912615\ttest: 0.7917983\tbest: 0.7919574 (2131)\ttotal: 13m 2s\tremaining: 17m 25s\n"
     ]
    },
    {
     "name": "stdout",
     "output_type": "stream",
     "text": [
      "2160:\tlearn: 0.7914045\ttest: 0.7919612\tbest: 0.7919779 (2155)\ttotal: 13m 9s\tremaining: 17m 17s\n"
     ]
    },
    {
     "name": "stdout",
     "output_type": "stream",
     "text": [
      "2180:\tlearn: 0.7914725\ttest: 0.7919357\tbest: 0.7920466 (2162)\ttotal: 13m 17s\tremaining: 17m 10s\n"
     ]
    },
    {
     "name": "stdout",
     "output_type": "stream",
     "text": [
      "2200:\tlearn: 0.7915640\ttest: 0.7919962\tbest: 0.7920994 (2198)\ttotal: 13m 24s\tremaining: 17m 2s\n"
     ]
    },
    {
     "name": "stdout",
     "output_type": "stream",
     "text": [
      "2220:\tlearn: 0.7917521\ttest: 0.7921177\tbest: 0.7921595 (2219)\ttotal: 13m 31s\tremaining: 16m 55s\n"
     ]
    },
    {
     "name": "stdout",
     "output_type": "stream",
     "text": [
      "2240:\tlearn: 0.7917852\ttest: 0.7923017\tbest: 0.7923017 (2240)\ttotal: 13m 38s\tremaining: 16m 47s\n"
     ]
    },
    {
     "name": "stdout",
     "output_type": "stream",
     "text": [
      "2260:\tlearn: 0.7918535\ttest: 0.7921273\tbest: 0.7923017 (2240)\ttotal: 13m 45s\tremaining: 16m 40s\n"
     ]
    },
    {
     "name": "stdout",
     "output_type": "stream",
     "text": [
      "2280:\tlearn: 0.7919894\ttest: 0.7922254\tbest: 0.7923017 (2240)\ttotal: 13m 52s\tremaining: 16m 32s\n"
     ]
    },
    {
     "name": "stdout",
     "output_type": "stream",
     "text": [
      "2300:\tlearn: 0.7921750\ttest: 0.7920503\tbest: 0.7923017 (2240)\ttotal: 14m\tremaining: 16m 25s\n"
     ]
    },
    {
     "name": "stdout",
     "output_type": "stream",
     "text": [
      "2320:\tlearn: 0.7922048\ttest: 0.7922323\tbest: 0.7923017 (2240)\ttotal: 14m 7s\tremaining: 16m 18s\n"
     ]
    },
    {
     "name": "stdout",
     "output_type": "stream",
     "text": [
      "2340:\tlearn: 0.7922646\ttest: 0.7921380\tbest: 0.7923017 (2240)\ttotal: 14m 14s\tremaining: 16m 10s\n"
     ]
    },
    {
     "name": "stdout",
     "output_type": "stream",
     "text": [
      "2360:\tlearn: 0.7923032\ttest: 0.7923439\tbest: 0.7924007 (2353)\ttotal: 14m 21s\tremaining: 16m 3s\n"
     ]
    },
    {
     "name": "stdout",
     "output_type": "stream",
     "text": [
      "2380:\tlearn: 0.7924587\ttest: 0.7924194\tbest: 0.7924820 (2379)\ttotal: 14m 29s\tremaining: 15m 55s\n"
     ]
    },
    {
     "name": "stdout",
     "output_type": "stream",
     "text": [
      "2400:\tlearn: 0.7925741\ttest: 0.7924945\tbest: 0.7926373 (2391)\ttotal: 14m 36s\tremaining: 15m 48s\n"
     ]
    },
    {
     "name": "stdout",
     "output_type": "stream",
     "text": [
      "2420:\tlearn: 0.7926136\ttest: 0.7924864\tbest: 0.7926373 (2391)\ttotal: 14m 43s\tremaining: 15m 41s\n"
     ]
    },
    {
     "name": "stdout",
     "output_type": "stream",
     "text": [
      "2440:\tlearn: 0.7927680\ttest: 0.7926717\tbest: 0.7927123 (2439)\ttotal: 14m 50s\tremaining: 15m 33s\n"
     ]
    },
    {
     "name": "stdout",
     "output_type": "stream",
     "text": [
      "2460:\tlearn: 0.7928077\ttest: 0.7928544\tbest: 0.7928937 (2455)\ttotal: 14m 57s\tremaining: 15m 26s\n"
     ]
    },
    {
     "name": "stdout",
     "output_type": "stream",
     "text": [
      "2480:\tlearn: 0.7928612\ttest: 0.7926336\tbest: 0.7928937 (2455)\ttotal: 15m 4s\tremaining: 15m 18s\n"
     ]
    },
    {
     "name": "stdout",
     "output_type": "stream",
     "text": [
      "2500:\tlearn: 0.7929790\ttest: 0.7925189\tbest: 0.7928937 (2455)\ttotal: 15m 12s\tremaining: 15m 11s\n"
     ]
    },
    {
     "name": "stdout",
     "output_type": "stream",
     "text": [
      "2520:\tlearn: 0.7932246\ttest: 0.7925305\tbest: 0.7928937 (2455)\ttotal: 15m 19s\tremaining: 15m 3s\n"
     ]
    },
    {
     "name": "stdout",
     "output_type": "stream",
     "text": [
      "2540:\tlearn: 0.7933412\ttest: 0.7926269\tbest: 0.7928937 (2455)\ttotal: 15m 26s\tremaining: 14m 56s\n"
     ]
    },
    {
     "name": "stdout",
     "output_type": "stream",
     "text": [
      "2560:\tlearn: 0.7934267\ttest: 0.7926611\tbest: 0.7929050 (2548)\ttotal: 15m 33s\tremaining: 14m 48s\n"
     ]
    },
    {
     "name": "stdout",
     "output_type": "stream",
     "text": [
      "2580:\tlearn: 0.7934173\ttest: 0.7929234\tbest: 0.7929438 (2579)\ttotal: 15m 40s\tremaining: 14m 41s\n"
     ]
    },
    {
     "name": "stdout",
     "output_type": "stream",
     "text": [
      "2600:\tlearn: 0.7935946\ttest: 0.7929532\tbest: 0.7929532 (2600)\ttotal: 15m 47s\tremaining: 14m 34s\n"
     ]
    },
    {
     "name": "stdout",
     "output_type": "stream",
     "text": [
      "2620:\tlearn: 0.7936475\ttest: 0.7930907\tbest: 0.7930907 (2620)\ttotal: 15m 55s\tremaining: 14m 26s\n"
     ]
    },
    {
     "name": "stdout",
     "output_type": "stream",
     "text": [
      "2640:\tlearn: 0.7938032\ttest: 0.7932713\tbest: 0.7932713 (2640)\ttotal: 16m 2s\tremaining: 14m 19s\n"
     ]
    },
    {
     "name": "stdout",
     "output_type": "stream",
     "text": [
      "2660:\tlearn: 0.7938292\ttest: 0.7931538\tbest: 0.7933356 (2645)\ttotal: 16m 9s\tremaining: 14m 12s\n"
     ]
    },
    {
     "name": "stdout",
     "output_type": "stream",
     "text": [
      "2680:\tlearn: 0.7939335\ttest: 0.7931442\tbest: 0.7933356 (2645)\ttotal: 16m 16s\tremaining: 14m 4s\n"
     ]
    },
    {
     "name": "stdout",
     "output_type": "stream",
     "text": [
      "2700:\tlearn: 0.7940899\ttest: 0.7930060\tbest: 0.7933356 (2645)\ttotal: 16m 23s\tremaining: 13m 57s\n"
     ]
    },
    {
     "name": "stdout",
     "output_type": "stream",
     "text": [
      "2720:\tlearn: 0.7941753\ttest: 0.7930177\tbest: 0.7933356 (2645)\ttotal: 16m 30s\tremaining: 13m 49s\n"
     ]
    },
    {
     "name": "stdout",
     "output_type": "stream",
     "text": [
      "2740:\tlearn: 0.7942704\ttest: 0.7929855\tbest: 0.7933356 (2645)\ttotal: 16m 38s\tremaining: 13m 42s\n"
     ]
    },
    {
     "name": "stdout",
     "output_type": "stream",
     "text": [
      "2760:\tlearn: 0.7943973\ttest: 0.7930141\tbest: 0.7933356 (2645)\ttotal: 16m 45s\tremaining: 13m 35s\n"
     ]
    },
    {
     "name": "stdout",
     "output_type": "stream",
     "text": [
      "2780:\tlearn: 0.7944072\ttest: 0.7930011\tbest: 0.7933356 (2645)\ttotal: 16m 52s\tremaining: 13m 28s\n"
     ]
    },
    {
     "name": "stdout",
     "output_type": "stream",
     "text": [
      "2800:\tlearn: 0.7944116\ttest: 0.7930080\tbest: 0.7933356 (2645)\ttotal: 17m\tremaining: 13m 20s\n"
     ]
    },
    {
     "name": "stdout",
     "output_type": "stream",
     "text": [
      "2820:\tlearn: 0.7944610\ttest: 0.7928129\tbest: 0.7933356 (2645)\ttotal: 17m 7s\tremaining: 13m 13s\n"
     ]
    },
    {
     "name": "stdout",
     "output_type": "stream",
     "text": [
      "2840:\tlearn: 0.7945599\ttest: 0.7929702\tbest: 0.7933356 (2645)\ttotal: 17m 14s\tremaining: 13m 6s\n"
     ]
    },
    {
     "name": "stdout",
     "output_type": "stream",
     "text": [
      "2860:\tlearn: 0.7946389\ttest: 0.7930849\tbest: 0.7933356 (2645)\ttotal: 17m 21s\tremaining: 12m 58s\n"
     ]
    },
    {
     "name": "stdout",
     "output_type": "stream",
     "text": [
      "2880:\tlearn: 0.7947217\ttest: 0.7930310\tbest: 0.7933356 (2645)\ttotal: 17m 29s\tremaining: 12m 51s\n"
     ]
    },
    {
     "name": "stdout",
     "output_type": "stream",
     "text": [
      "2900:\tlearn: 0.7947779\ttest: 0.7929960\tbest: 0.7933356 (2645)\ttotal: 17m 36s\tremaining: 12m 44s\n"
     ]
    },
    {
     "name": "stdout",
     "output_type": "stream",
     "text": [
      "2920:\tlearn: 0.7948498\ttest: 0.7933848\tbest: 0.7933848 (2920)\ttotal: 17m 43s\tremaining: 12m 37s\n"
     ]
    },
    {
     "name": "stdout",
     "output_type": "stream",
     "text": [
      "2940:\tlearn: 0.7949932\ttest: 0.7933932\tbest: 0.7934518 (2928)\ttotal: 17m 51s\tremaining: 12m 29s\n"
     ]
    },
    {
     "name": "stdout",
     "output_type": "stream",
     "text": [
      "2960:\tlearn: 0.7950288\ttest: 0.7933825\tbest: 0.7934580 (2943)\ttotal: 17m 58s\tremaining: 12m 22s\n"
     ]
    },
    {
     "name": "stdout",
     "output_type": "stream",
     "text": [
      "2980:\tlearn: 0.7950778\ttest: 0.7932603\tbest: 0.7934580 (2943)\ttotal: 18m 5s\tremaining: 12m 15s\n"
     ]
    },
    {
     "name": "stdout",
     "output_type": "stream",
     "text": [
      "3000:\tlearn: 0.7952489\ttest: 0.7931415\tbest: 0.7934580 (2943)\ttotal: 18m 12s\tremaining: 12m 7s\n"
     ]
    },
    {
     "name": "stdout",
     "output_type": "stream",
     "text": [
      "3020:\tlearn: 0.7954317\ttest: 0.7932149\tbest: 0.7934580 (2943)\ttotal: 18m 20s\tremaining: 12m\n"
     ]
    },
    {
     "name": "stdout",
     "output_type": "stream",
     "text": [
      "3040:\tlearn: 0.7955032\ttest: 0.7933071\tbest: 0.7934580 (2943)\ttotal: 18m 27s\tremaining: 11m 53s\n"
     ]
    },
    {
     "name": "stdout",
     "output_type": "stream",
     "text": [
      "3060:\tlearn: 0.7956903\ttest: 0.7933164\tbest: 0.7934580 (2943)\ttotal: 18m 34s\tremaining: 11m 45s\n"
     ]
    },
    {
     "name": "stdout",
     "output_type": "stream",
     "text": [
      "3080:\tlearn: 0.7957258\ttest: 0.7935762\tbest: 0.7935762 (3080)\ttotal: 18m 41s\tremaining: 11m 38s\n"
     ]
    },
    {
     "name": "stdout",
     "output_type": "stream",
     "text": [
      "3100:\tlearn: 0.7958506\ttest: 0.7935005\tbest: 0.7935989 (3087)\ttotal: 18m 49s\tremaining: 11m 31s\n"
     ]
    },
    {
     "name": "stdout",
     "output_type": "stream",
     "text": [
      "3120:\tlearn: 0.7959368\ttest: 0.7935700\tbest: 0.7936083 (3111)\ttotal: 18m 56s\tremaining: 11m 24s\n"
     ]
    },
    {
     "name": "stdout",
     "output_type": "stream",
     "text": [
      "3140:\tlearn: 0.7959649\ttest: 0.7935563\tbest: 0.7936390 (3135)\ttotal: 19m 3s\tremaining: 11m 16s\n"
     ]
    },
    {
     "name": "stdout",
     "output_type": "stream",
     "text": [
      "3160:\tlearn: 0.7960567\ttest: 0.7936275\tbest: 0.7936390 (3135)\ttotal: 19m 10s\tremaining: 11m 9s\n"
     ]
    },
    {
     "name": "stdout",
     "output_type": "stream",
     "text": [
      "3180:\tlearn: 0.7961122\ttest: 0.7934901\tbest: 0.7936390 (3135)\ttotal: 19m 18s\tremaining: 11m 2s\n"
     ]
    },
    {
     "name": "stdout",
     "output_type": "stream",
     "text": [
      "3200:\tlearn: 0.7960875\ttest: 0.7935603\tbest: 0.7936390 (3135)\ttotal: 19m 25s\tremaining: 10m 54s\n"
     ]
    },
    {
     "name": "stdout",
     "output_type": "stream",
     "text": [
      "3220:\tlearn: 0.7962685\ttest: 0.7935035\tbest: 0.7936390 (3135)\ttotal: 19m 32s\tremaining: 10m 47s\n"
     ]
    },
    {
     "name": "stdout",
     "output_type": "stream",
     "text": [
      "3240:\tlearn: 0.7963713\ttest: 0.7934677\tbest: 0.7936390 (3135)\ttotal: 19m 39s\tremaining: 10m 40s\n"
     ]
    },
    {
     "name": "stdout",
     "output_type": "stream",
     "text": [
      "3260:\tlearn: 0.7964777\ttest: 0.7934729\tbest: 0.7936390 (3135)\ttotal: 19m 46s\tremaining: 10m 32s\n"
     ]
    },
    {
     "name": "stdout",
     "output_type": "stream",
     "text": [
      "3280:\tlearn: 0.7964956\ttest: 0.7935645\tbest: 0.7936390 (3135)\ttotal: 19m 53s\tremaining: 10m 25s\n"
     ]
    },
    {
     "name": "stdout",
     "output_type": "stream",
     "text": [
      "3300:\tlearn: 0.7966602\ttest: 0.7934867\tbest: 0.7936390 (3135)\ttotal: 20m 1s\tremaining: 10m 18s\n"
     ]
    },
    {
     "name": "stdout",
     "output_type": "stream",
     "text": [
      "3320:\tlearn: 0.7967917\ttest: 0.7935972\tbest: 0.7936601 (3319)\ttotal: 20m 8s\tremaining: 10m 10s\n"
     ]
    },
    {
     "name": "stdout",
     "output_type": "stream",
     "text": [
      "3340:\tlearn: 0.7968204\ttest: 0.7938133\tbest: 0.7938739 (3332)\ttotal: 20m 15s\tremaining: 10m 3s\n"
     ]
    },
    {
     "name": "stdout",
     "output_type": "stream",
     "text": [
      "3360:\tlearn: 0.7969813\ttest: 0.7938847\tbest: 0.7938847 (3360)\ttotal: 20m 23s\tremaining: 9m 56s\n"
     ]
    },
    {
     "name": "stdout",
     "output_type": "stream",
     "text": [
      "3380:\tlearn: 0.7971019\ttest: 0.7939520\tbest: 0.7939520 (3380)\ttotal: 20m 30s\tremaining: 9m 49s\n"
     ]
    },
    {
     "name": "stdout",
     "output_type": "stream",
     "text": [
      "3400:\tlearn: 0.7971775\ttest: 0.7936641\tbest: 0.7939520 (3380)\ttotal: 20m 38s\tremaining: 9m 42s\n"
     ]
    },
    {
     "name": "stdout",
     "output_type": "stream",
     "text": [
      "3420:\tlearn: 0.7971798\ttest: 0.7940102\tbest: 0.7940102 (3420)\ttotal: 20m 45s\tremaining: 9m 34s\n"
     ]
    },
    {
     "name": "stdout",
     "output_type": "stream",
     "text": [
      "3440:\tlearn: 0.7972066\ttest: 0.7939739\tbest: 0.7940320 (3421)\ttotal: 20m 52s\tremaining: 9m 27s\n"
     ]
    },
    {
     "name": "stdout",
     "output_type": "stream",
     "text": [
      "3460:\tlearn: 0.7972953\ttest: 0.7940011\tbest: 0.7940428 (3458)\ttotal: 20m 59s\tremaining: 9m 20s\n"
     ]
    },
    {
     "name": "stdout",
     "output_type": "stream",
     "text": [
      "3480:\tlearn: 0.7972878\ttest: 0.7938198\tbest: 0.7940433 (3461)\ttotal: 21m 6s\tremaining: 9m 12s\n"
     ]
    },
    {
     "name": "stdout",
     "output_type": "stream",
     "text": [
      "3500:\tlearn: 0.7973429\ttest: 0.7938272\tbest: 0.7941191 (3490)\ttotal: 21m 13s\tremaining: 9m 5s\n"
     ]
    },
    {
     "name": "stdout",
     "output_type": "stream",
     "text": [
      "3520:\tlearn: 0.7974423\ttest: 0.7941908\tbest: 0.7941908 (3520)\ttotal: 21m 21s\tremaining: 8m 58s\n"
     ]
    },
    {
     "name": "stdout",
     "output_type": "stream",
     "text": [
      "3540:\tlearn: 0.7975289\ttest: 0.7941969\tbest: 0.7943223 (3537)\ttotal: 21m 28s\tremaining: 8m 50s\n"
     ]
    },
    {
     "name": "stdout",
     "output_type": "stream",
     "text": [
      "3560:\tlearn: 0.7976544\ttest: 0.7942871\tbest: 0.7944330 (3555)\ttotal: 21m 35s\tremaining: 8m 43s\n"
     ]
    },
    {
     "name": "stdout",
     "output_type": "stream",
     "text": [
      "3580:\tlearn: 0.7976713\ttest: 0.7944603\tbest: 0.7944603 (3580)\ttotal: 21m 42s\tremaining: 8m 36s\n"
     ]
    },
    {
     "name": "stdout",
     "output_type": "stream",
     "text": [
      "3600:\tlearn: 0.7977665\ttest: 0.7944230\tbest: 0.7944603 (3580)\ttotal: 21m 49s\tremaining: 8m 28s\n"
     ]
    },
    {
     "name": "stdout",
     "output_type": "stream",
     "text": [
      "3620:\tlearn: 0.7977735\ttest: 0.7941981\tbest: 0.7944603 (3580)\ttotal: 21m 57s\tremaining: 8m 21s\n"
     ]
    },
    {
     "name": "stdout",
     "output_type": "stream",
     "text": [
      "3640:\tlearn: 0.7978909\ttest: 0.7941632\tbest: 0.7944603 (3580)\ttotal: 22m 4s\tremaining: 8m 14s\n"
     ]
    },
    {
     "name": "stdout",
     "output_type": "stream",
     "text": [
      "3660:\tlearn: 0.7979283\ttest: 0.7941688\tbest: 0.7944603 (3580)\ttotal: 22m 12s\tremaining: 8m 7s\n"
     ]
    },
    {
     "name": "stdout",
     "output_type": "stream",
     "text": [
      "3680:\tlearn: 0.7980459\ttest: 0.7942174\tbest: 0.7944603 (3580)\ttotal: 22m 19s\tremaining: 7m 59s\n"
     ]
    },
    {
     "name": "stdout",
     "output_type": "stream",
     "text": [
      "3700:\tlearn: 0.7982425\ttest: 0.7941615\tbest: 0.7944603 (3580)\ttotal: 22m 26s\tremaining: 7m 52s\n"
     ]
    },
    {
     "name": "stdout",
     "output_type": "stream",
     "text": [
      "3720:\tlearn: 0.7983118\ttest: 0.7943991\tbest: 0.7944603 (3580)\ttotal: 22m 34s\tremaining: 7m 45s\n"
     ]
    },
    {
     "name": "stdout",
     "output_type": "stream",
     "text": [
      "3740:\tlearn: 0.7984069\ttest: 0.7944476\tbest: 0.7945099 (3735)\ttotal: 22m 41s\tremaining: 7m 38s\n"
     ]
    },
    {
     "name": "stdout",
     "output_type": "stream",
     "text": [
      "3760:\tlearn: 0.7985132\ttest: 0.7946639\tbest: 0.7946639 (3760)\ttotal: 22m 48s\tremaining: 7m 30s\n"
     ]
    },
    {
     "name": "stdout",
     "output_type": "stream",
     "text": [
      "3780:\tlearn: 0.7985979\ttest: 0.7946907\tbest: 0.7947328 (3778)\ttotal: 22m 55s\tremaining: 7m 23s\n"
     ]
    },
    {
     "name": "stdout",
     "output_type": "stream",
     "text": [
      "3800:\tlearn: 0.7986969\ttest: 0.7946722\tbest: 0.7948389 (3788)\ttotal: 23m 3s\tremaining: 7m 16s\n"
     ]
    },
    {
     "name": "stdout",
     "output_type": "stream",
     "text": [
      "3820:\tlearn: 0.7987650\ttest: 0.7947002\tbest: 0.7948389 (3788)\ttotal: 23m 10s\tremaining: 7m 8s\n"
     ]
    },
    {
     "name": "stdout",
     "output_type": "stream",
     "text": [
      "3840:\tlearn: 0.7987556\ttest: 0.7946230\tbest: 0.7948389 (3788)\ttotal: 23m 17s\tremaining: 7m 1s\n"
     ]
    },
    {
     "name": "stdout",
     "output_type": "stream",
     "text": [
      "3860:\tlearn: 0.7988440\ttest: 0.7946918\tbest: 0.7948389 (3788)\ttotal: 23m 24s\tremaining: 6m 54s\n"
     ]
    },
    {
     "name": "stdout",
     "output_type": "stream",
     "text": [
      "3880:\tlearn: 0.7988359\ttest: 0.7946974\tbest: 0.7948389 (3788)\ttotal: 23m 31s\tremaining: 6m 46s\n"
     ]
    },
    {
     "name": "stdout",
     "output_type": "stream",
     "text": [
      "3900:\tlearn: 0.7989834\ttest: 0.7948311\tbest: 0.7948731 (3898)\ttotal: 23m 38s\tremaining: 6m 39s\n"
     ]
    },
    {
     "name": "stdout",
     "output_type": "stream",
     "text": [
      "3920:\tlearn: 0.7990566\ttest: 0.7949006\tbest: 0.7950475 (3918)\ttotal: 23m 46s\tremaining: 6m 32s\n"
     ]
    },
    {
     "name": "stdout",
     "output_type": "stream",
     "text": [
      "3940:\tlearn: 0.7991037\ttest: 0.7948855\tbest: 0.7950475 (3918)\ttotal: 23m 53s\tremaining: 6m 25s\n"
     ]
    },
    {
     "name": "stdout",
     "output_type": "stream",
     "text": [
      "3960:\tlearn: 0.7991922\ttest: 0.7947434\tbest: 0.7950475 (3918)\ttotal: 24m\tremaining: 6m 17s\n"
     ]
    },
    {
     "name": "stdout",
     "output_type": "stream",
     "text": [
      "3980:\tlearn: 0.7991962\ttest: 0.7946849\tbest: 0.7950475 (3918)\ttotal: 24m 7s\tremaining: 6m 10s\n"
     ]
    },
    {
     "name": "stdout",
     "output_type": "stream",
     "text": [
      "4000:\tlearn: 0.7992862\ttest: 0.7946493\tbest: 0.7950475 (3918)\ttotal: 24m 14s\tremaining: 6m 3s\n"
     ]
    },
    {
     "name": "stdout",
     "output_type": "stream",
     "text": [
      "4020:\tlearn: 0.7993685\ttest: 0.7947387\tbest: 0.7950475 (3918)\ttotal: 24m 22s\tremaining: 5m 55s\n"
     ]
    },
    {
     "name": "stdout",
     "output_type": "stream",
     "text": [
      "4040:\tlearn: 0.7994744\ttest: 0.7947224\tbest: 0.7950475 (3918)\ttotal: 24m 29s\tremaining: 5m 48s\n"
     ]
    },
    {
     "name": "stdout",
     "output_type": "stream",
     "text": [
      "4060:\tlearn: 0.7994684\ttest: 0.7947900\tbest: 0.7950475 (3918)\ttotal: 24m 36s\tremaining: 5m 41s\n"
     ]
    },
    {
     "name": "stdout",
     "output_type": "stream",
     "text": [
      "4080:\tlearn: 0.7995475\ttest: 0.7947539\tbest: 0.7950475 (3918)\ttotal: 24m 43s\tremaining: 5m 34s\n"
     ]
    },
    {
     "name": "stdout",
     "output_type": "stream",
     "text": [
      "4100:\tlearn: 0.7995582\ttest: 0.7947807\tbest: 0.7950475 (3918)\ttotal: 24m 51s\tremaining: 5m 26s\n"
     ]
    },
    {
     "name": "stdout",
     "output_type": "stream",
     "text": [
      "4120:\tlearn: 0.7996046\ttest: 0.7946371\tbest: 0.7950475 (3918)\ttotal: 24m 58s\tremaining: 5m 19s\n"
     ]
    },
    {
     "name": "stdout",
     "output_type": "stream",
     "text": [
      "4140:\tlearn: 0.7996519\ttest: 0.7948100\tbest: 0.7950475 (3918)\ttotal: 25m 5s\tremaining: 5m 12s\n"
     ]
    },
    {
     "name": "stdout",
     "output_type": "stream",
     "text": [
      "4160:\tlearn: 0.7997629\ttest: 0.7947524\tbest: 0.7950475 (3918)\ttotal: 25m 12s\tremaining: 5m 4s\n"
     ]
    },
    {
     "name": "stdout",
     "output_type": "stream",
     "text": [
      "4180:\tlearn: 0.7998129\ttest: 0.7947570\tbest: 0.7950475 (3918)\ttotal: 25m 19s\tremaining: 4m 57s\n"
     ]
    },
    {
     "name": "stdout",
     "output_type": "stream",
     "text": [
      "4200:\tlearn: 0.7999177\ttest: 0.7947629\tbest: 0.7950475 (3918)\ttotal: 25m 26s\tremaining: 4m 50s\n"
     ]
    },
    {
     "name": "stdout",
     "output_type": "stream",
     "text": [
      "Stopped by overfitting detector  (300 iterations wait)\n",
      "\n",
      "bestTest = 0.7950474539\n",
      "bestIteration = 3918\n",
      "\n",
      "Shrink model to first 3919 iterations.\n"
     ]
    },
    {
     "name": "stdout",
     "output_type": "stream",
     "text": [
      "######################################## training model 5/5 ########################################\n"
     ]
    },
    {
     "name": "stdout",
     "output_type": "stream",
     "text": [
      "0:\tlearn: 0.6554622\ttest: 0.6582697\tbest: 0.6582697 (0)\ttotal: 681ms\tremaining: 56m 42s\n"
     ]
    },
    {
     "name": "stdout",
     "output_type": "stream",
     "text": [
      "20:\tlearn: 0.7304343\ttest: 0.7344216\tbest: 0.7344216 (20)\ttotal: 7.77s\tremaining: 30m 42s\n"
     ]
    },
    {
     "name": "stdout",
     "output_type": "stream",
     "text": [
      "40:\tlearn: 0.7375227\ttest: 0.7390223\tbest: 0.7390497 (38)\ttotal: 15.1s\tremaining: 30m 25s\n"
     ]
    },
    {
     "name": "stdout",
     "output_type": "stream",
     "text": [
      "60:\tlearn: 0.7409606\ttest: 0.7430047\tbest: 0.7430047 (60)\ttotal: 22.5s\tremaining: 30m 18s\n"
     ]
    },
    {
     "name": "stdout",
     "output_type": "stream",
     "text": [
      "80:\tlearn: 0.7443414\ttest: 0.7459389\tbest: 0.7459389 (80)\ttotal: 29.6s\tremaining: 29m 58s\n"
     ]
    },
    {
     "name": "stdout",
     "output_type": "stream",
     "text": [
      "100:\tlearn: 0.7468772\ttest: 0.7481758\tbest: 0.7481758 (100)\ttotal: 37.1s\tremaining: 29m 59s\n"
     ]
    },
    {
     "name": "stdout",
     "output_type": "stream",
     "text": [
      "120:\tlearn: 0.7495648\ttest: 0.7522811\tbest: 0.7522811 (120)\ttotal: 44.5s\tremaining: 29m 53s\n"
     ]
    },
    {
     "name": "stdout",
     "output_type": "stream",
     "text": [
      "140:\tlearn: 0.7523064\ttest: 0.7549936\tbest: 0.7549936 (140)\ttotal: 51.7s\tremaining: 29m 41s\n"
     ]
    },
    {
     "name": "stdout",
     "output_type": "stream",
     "text": [
      "160:\tlearn: 0.7545318\ttest: 0.7572072\tbest: 0.7572072 (160)\ttotal: 58.9s\tremaining: 29m 29s\n"
     ]
    },
    {
     "name": "stdout",
     "output_type": "stream",
     "text": [
      "180:\tlearn: 0.7567925\ttest: 0.7588941\tbest: 0.7590092 (179)\ttotal: 1m 6s\tremaining: 29m 25s\n"
     ]
    },
    {
     "name": "stdout",
     "output_type": "stream",
     "text": [
      "200:\tlearn: 0.7584457\ttest: 0.7607355\tbest: 0.7607680 (199)\ttotal: 1m 13s\tremaining: 29m 16s\n"
     ]
    },
    {
     "name": "stdout",
     "output_type": "stream",
     "text": [
      "220:\tlearn: 0.7604595\ttest: 0.7619756\tbest: 0.7621507 (219)\ttotal: 1m 20s\tremaining: 29m 8s\n"
     ]
    },
    {
     "name": "stdout",
     "output_type": "stream",
     "text": [
      "240:\tlearn: 0.7617937\ttest: 0.7632249\tbest: 0.7632249 (240)\ttotal: 1m 28s\tremaining: 29m 5s\n"
     ]
    },
    {
     "name": "stdout",
     "output_type": "stream",
     "text": [
      "260:\tlearn: 0.7634687\ttest: 0.7642364\tbest: 0.7645122 (259)\ttotal: 1m 35s\tremaining: 29m\n"
     ]
    },
    {
     "name": "stdout",
     "output_type": "stream",
     "text": [
      "280:\tlearn: 0.7643256\ttest: 0.7658824\tbest: 0.7658824 (280)\ttotal: 1m 43s\tremaining: 28m 58s\n"
     ]
    },
    {
     "name": "stdout",
     "output_type": "stream",
     "text": [
      "300:\tlearn: 0.7654517\ttest: 0.7666979\tbest: 0.7667861 (294)\ttotal: 1m 50s\tremaining: 28m 49s\n"
     ]
    },
    {
     "name": "stdout",
     "output_type": "stream",
     "text": [
      "320:\tlearn: 0.7663964\ttest: 0.7675778\tbest: 0.7676874 (317)\ttotal: 1m 58s\tremaining: 28m 41s\n"
     ]
    },
    {
     "name": "stdout",
     "output_type": "stream",
     "text": [
      "340:\tlearn: 0.7674047\ttest: 0.7686106\tbest: 0.7688518 (337)\ttotal: 2m 5s\tremaining: 28m 32s\n"
     ]
    },
    {
     "name": "stdout",
     "output_type": "stream",
     "text": [
      "360:\tlearn: 0.7682278\ttest: 0.7691926\tbest: 0.7692910 (357)\ttotal: 2m 12s\tremaining: 28m 25s\n"
     ]
    },
    {
     "name": "stdout",
     "output_type": "stream",
     "text": [
      "380:\tlearn: 0.7691830\ttest: 0.7703634\tbest: 0.7703634 (380)\ttotal: 2m 20s\tremaining: 28m 19s\n"
     ]
    },
    {
     "name": "stdout",
     "output_type": "stream",
     "text": [
      "400:\tlearn: 0.7698744\ttest: 0.7706099\tbest: 0.7708678 (392)\ttotal: 2m 27s\tremaining: 28m 13s\n"
     ]
    },
    {
     "name": "stdout",
     "output_type": "stream",
     "text": [
      "420:\tlearn: 0.7706415\ttest: 0.7715430\tbest: 0.7715430 (420)\ttotal: 2m 34s\tremaining: 28m 2s\n"
     ]
    },
    {
     "name": "stdout",
     "output_type": "stream",
     "text": [
      "440:\tlearn: 0.7709992\ttest: 0.7718343\tbest: 0.7719780 (439)\ttotal: 2m 41s\tremaining: 27m 54s\n"
     ]
    },
    {
     "name": "stdout",
     "output_type": "stream",
     "text": [
      "460:\tlearn: 0.7717298\ttest: 0.7727080\tbest: 0.7727080 (460)\ttotal: 2m 49s\tremaining: 27m 47s\n"
     ]
    },
    {
     "name": "stdout",
     "output_type": "stream",
     "text": [
      "480:\tlearn: 0.7723388\ttest: 0.7735193\tbest: 0.7735319 (479)\ttotal: 2m 56s\tremaining: 27m 40s\n"
     ]
    },
    {
     "name": "stdout",
     "output_type": "stream",
     "text": [
      "500:\tlearn: 0.7729503\ttest: 0.7740657\tbest: 0.7740698 (497)\ttotal: 3m 4s\tremaining: 27m 33s\n"
     ]
    },
    {
     "name": "stdout",
     "output_type": "stream",
     "text": [
      "520:\tlearn: 0.7735524\ttest: 0.7745601\tbest: 0.7746047 (517)\ttotal: 3m 11s\tremaining: 27m 24s\n"
     ]
    },
    {
     "name": "stdout",
     "output_type": "stream",
     "text": [
      "540:\tlearn: 0.7739083\ttest: 0.7747480\tbest: 0.7749075 (538)\ttotal: 3m 18s\tremaining: 27m 17s\n"
     ]
    },
    {
     "name": "stdout",
     "output_type": "stream",
     "text": [
      "560:\tlearn: 0.7742666\ttest: 0.7754486\tbest: 0.7754486 (560)\ttotal: 3m 25s\tremaining: 27m 7s\n"
     ]
    },
    {
     "name": "stdout",
     "output_type": "stream",
     "text": [
      "580:\tlearn: 0.7745783\ttest: 0.7759762\tbest: 0.7760769 (579)\ttotal: 3m 33s\tremaining: 27m 1s\n"
     ]
    },
    {
     "name": "stdout",
     "output_type": "stream",
     "text": [
      "600:\tlearn: 0.7753080\ttest: 0.7763260\tbest: 0.7764186 (593)\ttotal: 3m 40s\tremaining: 26m 54s\n"
     ]
    },
    {
     "name": "stdout",
     "output_type": "stream",
     "text": [
      "620:\tlearn: 0.7757798\ttest: 0.7762997\tbest: 0.7764673 (604)\ttotal: 3m 47s\tremaining: 26m 45s\n"
     ]
    },
    {
     "name": "stdout",
     "output_type": "stream",
     "text": [
      "640:\tlearn: 0.7761401\ttest: 0.7768365\tbest: 0.7768365 (640)\ttotal: 3m 54s\tremaining: 26m 37s\n"
     ]
    },
    {
     "name": "stdout",
     "output_type": "stream",
     "text": [
      "660:\tlearn: 0.7763421\ttest: 0.7769057\tbest: 0.7769611 (649)\ttotal: 4m 2s\tremaining: 26m 31s\n"
     ]
    },
    {
     "name": "stdout",
     "output_type": "stream",
     "text": [
      "680:\tlearn: 0.7766432\ttest: 0.7772635\tbest: 0.7772787 (679)\ttotal: 4m 9s\tremaining: 26m 23s\n"
     ]
    },
    {
     "name": "stdout",
     "output_type": "stream",
     "text": [
      "700:\tlearn: 0.7770416\ttest: 0.7777254\tbest: 0.7777858 (699)\ttotal: 4m 16s\tremaining: 26m 14s\n"
     ]
    },
    {
     "name": "stdout",
     "output_type": "stream",
     "text": [
      "720:\tlearn: 0.7774219\ttest: 0.7781878\tbest: 0.7781878 (720)\ttotal: 4m 24s\tremaining: 26m 7s\n"
     ]
    },
    {
     "name": "stdout",
     "output_type": "stream",
     "text": [
      "740:\tlearn: 0.7778397\ttest: 0.7784892\tbest: 0.7785909 (739)\ttotal: 4m 31s\tremaining: 26m\n"
     ]
    },
    {
     "name": "stdout",
     "output_type": "stream",
     "text": [
      "760:\tlearn: 0.7780734\ttest: 0.7788284\tbest: 0.7790008 (755)\ttotal: 4m 38s\tremaining: 25m 53s\n"
     ]
    },
    {
     "name": "stdout",
     "output_type": "stream",
     "text": [
      "780:\tlearn: 0.7783370\ttest: 0.7791352\tbest: 0.7791941 (779)\ttotal: 4m 46s\tremaining: 25m 46s\n"
     ]
    },
    {
     "name": "stdout",
     "output_type": "stream",
     "text": [
      "800:\tlearn: 0.7787557\ttest: 0.7792818\tbest: 0.7793402 (798)\ttotal: 4m 53s\tremaining: 25m 38s\n"
     ]
    },
    {
     "name": "stdout",
     "output_type": "stream",
     "text": [
      "820:\tlearn: 0.7791879\ttest: 0.7793093\tbest: 0.7794436 (810)\ttotal: 5m\tremaining: 25m 29s\n"
     ]
    },
    {
     "name": "stdout",
     "output_type": "stream",
     "text": [
      "840:\tlearn: 0.7796459\ttest: 0.7794620\tbest: 0.7796038 (838)\ttotal: 5m 7s\tremaining: 25m 22s\n"
     ]
    },
    {
     "name": "stdout",
     "output_type": "stream",
     "text": [
      "860:\tlearn: 0.7799282\ttest: 0.7798195\tbest: 0.7798578 (859)\ttotal: 5m 15s\tremaining: 25m 14s\n"
     ]
    },
    {
     "name": "stdout",
     "output_type": "stream",
     "text": [
      "880:\tlearn: 0.7802021\ttest: 0.7798407\tbest: 0.7799245 (867)\ttotal: 5m 22s\tremaining: 25m 8s\n"
     ]
    },
    {
     "name": "stdout",
     "output_type": "stream",
     "text": [
      "900:\tlearn: 0.7807065\ttest: 0.7799800\tbest: 0.7799989 (899)\ttotal: 5m 29s\tremaining: 25m\n"
     ]
    },
    {
     "name": "stdout",
     "output_type": "stream",
     "text": [
      "920:\tlearn: 0.7810773\ttest: 0.7802081\tbest: 0.7802254 (919)\ttotal: 5m 36s\tremaining: 24m 51s\n"
     ]
    },
    {
     "name": "stdout",
     "output_type": "stream",
     "text": [
      "940:\tlearn: 0.7815262\ttest: 0.7802203\tbest: 0.7804402 (935)\ttotal: 5m 43s\tremaining: 24m 43s\n"
     ]
    },
    {
     "name": "stdout",
     "output_type": "stream",
     "text": [
      "960:\tlearn: 0.7817825\ttest: 0.7805552\tbest: 0.7805599 (955)\ttotal: 5m 51s\tremaining: 24m 37s\n"
     ]
    },
    {
     "name": "stdout",
     "output_type": "stream",
     "text": [
      "980:\tlearn: 0.7820783\ttest: 0.7807304\tbest: 0.7809885 (974)\ttotal: 5m 59s\tremaining: 24m 31s\n"
     ]
    },
    {
     "name": "stdout",
     "output_type": "stream",
     "text": [
      "1000:\tlearn: 0.7824001\ttest: 0.7808654\tbest: 0.7810156 (993)\ttotal: 6m 6s\tremaining: 24m 23s\n"
     ]
    },
    {
     "name": "stdout",
     "output_type": "stream",
     "text": [
      "1020:\tlearn: 0.7826648\ttest: 0.7808543\tbest: 0.7810156 (993)\ttotal: 6m 13s\tremaining: 24m 17s\n"
     ]
    },
    {
     "name": "stdout",
     "output_type": "stream",
     "text": [
      "1040:\tlearn: 0.7828865\ttest: 0.7809008\tbest: 0.7810156 (993)\ttotal: 6m 21s\tremaining: 24m 9s\n"
     ]
    },
    {
     "name": "stdout",
     "output_type": "stream",
     "text": [
      "1060:\tlearn: 0.7830698\ttest: 0.7810952\tbest: 0.7811547 (1048)\ttotal: 6m 28s\tremaining: 24m 1s\n"
     ]
    },
    {
     "name": "stdout",
     "output_type": "stream",
     "text": [
      "1080:\tlearn: 0.7833518\ttest: 0.7812432\tbest: 0.7812758 (1076)\ttotal: 6m 35s\tremaining: 23m 54s\n"
     ]
    },
    {
     "name": "stdout",
     "output_type": "stream",
     "text": [
      "1100:\tlearn: 0.7835979\ttest: 0.7815592\tbest: 0.7815914 (1096)\ttotal: 6m 42s\tremaining: 23m 46s\n"
     ]
    },
    {
     "name": "stdout",
     "output_type": "stream",
     "text": [
      "1120:\tlearn: 0.7838199\ttest: 0.7816249\tbest: 0.7816597 (1107)\ttotal: 6m 50s\tremaining: 23m 38s\n"
     ]
    },
    {
     "name": "stdout",
     "output_type": "stream",
     "text": [
      "1140:\tlearn: 0.7841913\ttest: 0.7817930\tbest: 0.7818890 (1136)\ttotal: 6m 57s\tremaining: 23m 31s\n"
     ]
    },
    {
     "name": "stdout",
     "output_type": "stream",
     "text": [
      "1160:\tlearn: 0.7843682\ttest: 0.7819217\tbest: 0.7820719 (1151)\ttotal: 7m 4s\tremaining: 23m 24s\n"
     ]
    },
    {
     "name": "stdout",
     "output_type": "stream",
     "text": [
      "1180:\tlearn: 0.7845592\ttest: 0.7821732\tbest: 0.7821732 (1180)\ttotal: 7m 12s\tremaining: 23m 17s\n"
     ]
    },
    {
     "name": "stdout",
     "output_type": "stream",
     "text": [
      "1200:\tlearn: 0.7846470\ttest: 0.7822343\tbest: 0.7822644 (1194)\ttotal: 7m 19s\tremaining: 23m 10s\n"
     ]
    },
    {
     "name": "stdout",
     "output_type": "stream",
     "text": [
      "1220:\tlearn: 0.7847821\ttest: 0.7825052\tbest: 0.7825052 (1220)\ttotal: 7m 26s\tremaining: 23m 3s\n"
     ]
    },
    {
     "name": "stdout",
     "output_type": "stream",
     "text": [
      "1240:\tlearn: 0.7850725\ttest: 0.7824141\tbest: 0.7825052 (1220)\ttotal: 7m 34s\tremaining: 22m 55s\n"
     ]
    },
    {
     "name": "stdout",
     "output_type": "stream",
     "text": [
      "1260:\tlearn: 0.7852805\ttest: 0.7827031\tbest: 0.7827031 (1260)\ttotal: 7m 41s\tremaining: 22m 48s\n"
     ]
    },
    {
     "name": "stdout",
     "output_type": "stream",
     "text": [
      "1280:\tlearn: 0.7855514\ttest: 0.7827626\tbest: 0.7829505 (1279)\ttotal: 7m 48s\tremaining: 22m 40s\n"
     ]
    },
    {
     "name": "stdout",
     "output_type": "stream",
     "text": [
      "1300:\tlearn: 0.7857412\ttest: 0.7826758\tbest: 0.7829505 (1279)\ttotal: 7m 55s\tremaining: 22m 32s\n"
     ]
    },
    {
     "name": "stdout",
     "output_type": "stream",
     "text": [
      "1320:\tlearn: 0.7859063\ttest: 0.7831549\tbest: 0.7831741 (1319)\ttotal: 8m 3s\tremaining: 22m 25s\n"
     ]
    },
    {
     "name": "stdout",
     "output_type": "stream",
     "text": [
      "1340:\tlearn: 0.7860838\ttest: 0.7831887\tbest: 0.7834330 (1335)\ttotal: 8m 10s\tremaining: 22m 17s\n"
     ]
    },
    {
     "name": "stdout",
     "output_type": "stream",
     "text": [
      "1360:\tlearn: 0.7863306\ttest: 0.7834966\tbest: 0.7835293 (1355)\ttotal: 8m 17s\tremaining: 22m 11s\n"
     ]
    },
    {
     "name": "stdout",
     "output_type": "stream",
     "text": [
      "1380:\tlearn: 0.7866848\ttest: 0.7836376\tbest: 0.7836376 (1380)\ttotal: 8m 25s\tremaining: 22m 3s\n"
     ]
    },
    {
     "name": "stdout",
     "output_type": "stream",
     "text": [
      "1400:\tlearn: 0.7868577\ttest: 0.7839458\tbest: 0.7839458 (1400)\ttotal: 8m 32s\tremaining: 21m 56s\n"
     ]
    },
    {
     "name": "stdout",
     "output_type": "stream",
     "text": [
      "1420:\tlearn: 0.7870813\ttest: 0.7842034\tbest: 0.7842034 (1420)\ttotal: 8m 39s\tremaining: 21m 48s\n"
     ]
    },
    {
     "name": "stdout",
     "output_type": "stream",
     "text": [
      "1440:\tlearn: 0.7870543\ttest: 0.7844498\tbest: 0.7844777 (1433)\ttotal: 8m 46s\tremaining: 21m 41s\n"
     ]
    },
    {
     "name": "stdout",
     "output_type": "stream",
     "text": [
      "1460:\tlearn: 0.7872421\ttest: 0.7845217\tbest: 0.7846510 (1447)\ttotal: 8m 54s\tremaining: 21m 34s\n"
     ]
    },
    {
     "name": "stdout",
     "output_type": "stream",
     "text": [
      "1480:\tlearn: 0.7874942\ttest: 0.7846742\tbest: 0.7846938 (1479)\ttotal: 9m 1s\tremaining: 21m 26s\n"
     ]
    },
    {
     "name": "stdout",
     "output_type": "stream",
     "text": [
      "1500:\tlearn: 0.7874987\ttest: 0.7845743\tbest: 0.7847101 (1491)\ttotal: 9m 8s\tremaining: 21m 19s\n"
     ]
    },
    {
     "name": "stdout",
     "output_type": "stream",
     "text": [
      "1520:\tlearn: 0.7878279\ttest: 0.7846481\tbest: 0.7847101 (1491)\ttotal: 9m 15s\tremaining: 21m 11s\n"
     ]
    },
    {
     "name": "stdout",
     "output_type": "stream",
     "text": [
      "1540:\tlearn: 0.7880178\ttest: 0.7848247\tbest: 0.7849229 (1536)\ttotal: 9m 22s\tremaining: 21m 3s\n"
     ]
    },
    {
     "name": "stdout",
     "output_type": "stream",
     "text": [
      "1560:\tlearn: 0.7880660\ttest: 0.7853370\tbest: 0.7853370 (1560)\ttotal: 9m 30s\tremaining: 20m 56s\n"
     ]
    },
    {
     "name": "stdout",
     "output_type": "stream",
     "text": [
      "1580:\tlearn: 0.7882548\ttest: 0.7851517\tbest: 0.7853370 (1560)\ttotal: 9m 37s\tremaining: 20m 49s\n"
     ]
    },
    {
     "name": "stdout",
     "output_type": "stream",
     "text": [
      "1600:\tlearn: 0.7885213\ttest: 0.7852629\tbest: 0.7854819 (1592)\ttotal: 9m 44s\tremaining: 20m 41s\n"
     ]
    },
    {
     "name": "stdout",
     "output_type": "stream",
     "text": [
      "1620:\tlearn: 0.7887847\ttest: 0.7854981\tbest: 0.7855579 (1616)\ttotal: 9m 51s\tremaining: 20m 34s\n"
     ]
    },
    {
     "name": "stdout",
     "output_type": "stream",
     "text": [
      "1640:\tlearn: 0.7889837\ttest: 0.7855644\tbest: 0.7855872 (1623)\ttotal: 9m 59s\tremaining: 20m 26s\n"
     ]
    },
    {
     "name": "stdout",
     "output_type": "stream",
     "text": [
      "1660:\tlearn: 0.7890391\ttest: 0.7858442\tbest: 0.7858804 (1655)\ttotal: 10m 6s\tremaining: 20m 19s\n"
     ]
    },
    {
     "name": "stdout",
     "output_type": "stream",
     "text": [
      "1680:\tlearn: 0.7892283\ttest: 0.7857146\tbest: 0.7859210 (1676)\ttotal: 10m 14s\tremaining: 20m 12s\n"
     ]
    },
    {
     "name": "stdout",
     "output_type": "stream",
     "text": [
      "1700:\tlearn: 0.7894230\ttest: 0.7858636\tbest: 0.7859210 (1676)\ttotal: 10m 21s\tremaining: 20m 5s\n"
     ]
    },
    {
     "name": "stdout",
     "output_type": "stream",
     "text": [
      "1720:\tlearn: 0.7896109\ttest: 0.7859933\tbest: 0.7859933 (1720)\ttotal: 10m 28s\tremaining: 19m 57s\n"
     ]
    },
    {
     "name": "stdout",
     "output_type": "stream",
     "text": [
      "1740:\tlearn: 0.7897498\ttest: 0.7860357\tbest: 0.7860357 (1740)\ttotal: 10m 35s\tremaining: 19m 49s\n"
     ]
    },
    {
     "name": "stdout",
     "output_type": "stream",
     "text": [
      "1760:\tlearn: 0.7900264\ttest: 0.7860976\tbest: 0.7860976 (1760)\ttotal: 10m 42s\tremaining: 19m 41s\n"
     ]
    },
    {
     "name": "stdout",
     "output_type": "stream",
     "text": [
      "1780:\tlearn: 0.7900534\ttest: 0.7860110\tbest: 0.7861747 (1774)\ttotal: 10m 49s\tremaining: 19m 34s\n"
     ]
    },
    {
     "name": "stdout",
     "output_type": "stream",
     "text": [
      "1800:\tlearn: 0.7902514\ttest: 0.7860102\tbest: 0.7861747 (1774)\ttotal: 10m 57s\tremaining: 19m 27s\n"
     ]
    },
    {
     "name": "stdout",
     "output_type": "stream",
     "text": [
      "1820:\tlearn: 0.7904751\ttest: 0.7860750\tbest: 0.7862068 (1805)\ttotal: 11m 4s\tremaining: 19m 19s\n"
     ]
    },
    {
     "name": "stdout",
     "output_type": "stream",
     "text": [
      "1840:\tlearn: 0.7905498\ttest: 0.7862415\tbest: 0.7862415 (1840)\ttotal: 11m 11s\tremaining: 19m 12s\n"
     ]
    },
    {
     "name": "stdout",
     "output_type": "stream",
     "text": [
      "1860:\tlearn: 0.7907976\ttest: 0.7862604\tbest: 0.7862604 (1860)\ttotal: 11m 18s\tremaining: 19m 5s\n"
     ]
    },
    {
     "name": "stdout",
     "output_type": "stream",
     "text": [
      "1880:\tlearn: 0.7911051\ttest: 0.7862171\tbest: 0.7863520 (1868)\ttotal: 11m 26s\tremaining: 18m 57s\n"
     ]
    },
    {
     "name": "stdout",
     "output_type": "stream",
     "text": [
      "1900:\tlearn: 0.7911812\ttest: 0.7860931\tbest: 0.7863520 (1868)\ttotal: 11m 33s\tremaining: 18m 50s\n"
     ]
    },
    {
     "name": "stdout",
     "output_type": "stream",
     "text": [
      "1920:\tlearn: 0.7913637\ttest: 0.7859839\tbest: 0.7863520 (1868)\ttotal: 11m 40s\tremaining: 18m 43s\n"
     ]
    },
    {
     "name": "stdout",
     "output_type": "stream",
     "text": [
      "1940:\tlearn: 0.7913929\ttest: 0.7862313\tbest: 0.7863520 (1868)\ttotal: 11m 48s\tremaining: 18m 35s\n"
     ]
    },
    {
     "name": "stdout",
     "output_type": "stream",
     "text": [
      "1960:\tlearn: 0.7915715\ttest: 0.7861471\tbest: 0.7863520 (1868)\ttotal: 11m 55s\tremaining: 18m 28s\n"
     ]
    },
    {
     "name": "stdout",
     "output_type": "stream",
     "text": [
      "1980:\tlearn: 0.7917174\ttest: 0.7861038\tbest: 0.7863520 (1868)\ttotal: 12m 2s\tremaining: 18m 20s\n"
     ]
    },
    {
     "name": "stdout",
     "output_type": "stream",
     "text": [
      "2000:\tlearn: 0.7917626\ttest: 0.7863935\tbest: 0.7863935 (2000)\ttotal: 12m 9s\tremaining: 18m 13s\n"
     ]
    },
    {
     "name": "stdout",
     "output_type": "stream",
     "text": [
      "2020:\tlearn: 0.7919357\ttest: 0.7864068\tbest: 0.7864068 (2020)\ttotal: 12m 16s\tremaining: 18m 6s\n"
     ]
    },
    {
     "name": "stdout",
     "output_type": "stream",
     "text": [
      "2040:\tlearn: 0.7920059\ttest: 0.7864858\tbest: 0.7865646 (2032)\ttotal: 12m 24s\tremaining: 17m 58s\n"
     ]
    },
    {
     "name": "stdout",
     "output_type": "stream",
     "text": [
      "2060:\tlearn: 0.7922109\ttest: 0.7865025\tbest: 0.7865646 (2032)\ttotal: 12m 31s\tremaining: 17m 51s\n"
     ]
    },
    {
     "name": "stdout",
     "output_type": "stream",
     "text": [
      "2080:\tlearn: 0.7923223\ttest: 0.7867270\tbest: 0.7867840 (2070)\ttotal: 12m 38s\tremaining: 17m 43s\n"
     ]
    },
    {
     "name": "stdout",
     "output_type": "stream",
     "text": [
      "2100:\tlearn: 0.7922970\ttest: 0.7868894\tbest: 0.7868894 (2100)\ttotal: 12m 45s\tremaining: 17m 36s\n"
     ]
    },
    {
     "name": "stdout",
     "output_type": "stream",
     "text": [
      "2120:\tlearn: 0.7926169\ttest: 0.7870094\tbest: 0.7871290 (2110)\ttotal: 12m 53s\tremaining: 17m 29s\n"
     ]
    },
    {
     "name": "stdout",
     "output_type": "stream",
     "text": [
      "2140:\tlearn: 0.7927911\ttest: 0.7869185\tbest: 0.7871290 (2110)\ttotal: 13m\tremaining: 17m 21s\n"
     ]
    },
    {
     "name": "stdout",
     "output_type": "stream",
     "text": [
      "2160:\tlearn: 0.7927913\ttest: 0.7868911\tbest: 0.7871290 (2110)\ttotal: 13m 7s\tremaining: 17m 14s\n"
     ]
    },
    {
     "name": "stdout",
     "output_type": "stream",
     "text": [
      "2180:\tlearn: 0.7928751\ttest: 0.7870096\tbest: 0.7871290 (2110)\ttotal: 13m 14s\tremaining: 17m 7s\n"
     ]
    },
    {
     "name": "stdout",
     "output_type": "stream",
     "text": [
      "2200:\tlearn: 0.7930444\ttest: 0.7869814\tbest: 0.7871290 (2110)\ttotal: 13m 21s\tremaining: 16m 59s\n"
     ]
    },
    {
     "name": "stdout",
     "output_type": "stream",
     "text": [
      "2220:\tlearn: 0.7931747\ttest: 0.7869942\tbest: 0.7871808 (2216)\ttotal: 13m 29s\tremaining: 16m 52s\n"
     ]
    },
    {
     "name": "stdout",
     "output_type": "stream",
     "text": [
      "2240:\tlearn: 0.7932648\ttest: 0.7869472\tbest: 0.7871808 (2216)\ttotal: 13m 36s\tremaining: 16m 44s\n"
     ]
    },
    {
     "name": "stdout",
     "output_type": "stream",
     "text": [
      "2260:\tlearn: 0.7933516\ttest: 0.7867920\tbest: 0.7871808 (2216)\ttotal: 13m 43s\tremaining: 16m 37s\n"
     ]
    },
    {
     "name": "stdout",
     "output_type": "stream",
     "text": [
      "2280:\tlearn: 0.7933968\ttest: 0.7869711\tbest: 0.7871808 (2216)\ttotal: 13m 50s\tremaining: 16m 29s\n"
     ]
    },
    {
     "name": "stdout",
     "output_type": "stream",
     "text": [
      "2300:\tlearn: 0.7935795\ttest: 0.7867760\tbest: 0.7871808 (2216)\ttotal: 13m 57s\tremaining: 16m 22s\n"
     ]
    },
    {
     "name": "stdout",
     "output_type": "stream",
     "text": [
      "2320:\tlearn: 0.7936914\ttest: 0.7867650\tbest: 0.7871808 (2216)\ttotal: 14m 5s\tremaining: 16m 15s\n"
     ]
    },
    {
     "name": "stdout",
     "output_type": "stream",
     "text": [
      "2340:\tlearn: 0.7937384\ttest: 0.7869490\tbest: 0.7871808 (2216)\ttotal: 14m 12s\tremaining: 16m 8s\n"
     ]
    },
    {
     "name": "stdout",
     "output_type": "stream",
     "text": [
      "2360:\tlearn: 0.7938874\ttest: 0.7868544\tbest: 0.7871808 (2216)\ttotal: 14m 19s\tremaining: 16m\n"
     ]
    },
    {
     "name": "stdout",
     "output_type": "stream",
     "text": [
      "2380:\tlearn: 0.7940904\ttest: 0.7870808\tbest: 0.7872185 (2368)\ttotal: 14m 26s\tremaining: 15m 53s\n"
     ]
    },
    {
     "name": "stdout",
     "output_type": "stream",
     "text": [
      "2400:\tlearn: 0.7940822\ttest: 0.7871112\tbest: 0.7872185 (2368)\ttotal: 14m 33s\tremaining: 15m 45s\n"
     ]
    },
    {
     "name": "stdout",
     "output_type": "stream",
     "text": [
      "2420:\tlearn: 0.7942330\ttest: 0.7872492\tbest: 0.7872698 (2419)\ttotal: 14m 40s\tremaining: 15m 38s\n"
     ]
    },
    {
     "name": "stdout",
     "output_type": "stream",
     "text": [
      "2440:\tlearn: 0.7942569\ttest: 0.7872403\tbest: 0.7872698 (2419)\ttotal: 14m 48s\tremaining: 15m 31s\n"
     ]
    },
    {
     "name": "stdout",
     "output_type": "stream",
     "text": [
      "2460:\tlearn: 0.7942292\ttest: 0.7871694\tbest: 0.7872894 (2452)\ttotal: 14m 55s\tremaining: 15m 24s\n"
     ]
    },
    {
     "name": "stdout",
     "output_type": "stream",
     "text": [
      "2480:\tlearn: 0.7943808\ttest: 0.7871427\tbest: 0.7872894 (2452)\ttotal: 15m 3s\tremaining: 15m 16s\n"
     ]
    },
    {
     "name": "stdout",
     "output_type": "stream",
     "text": [
      "2500:\tlearn: 0.7943612\ttest: 0.7871962\tbest: 0.7874214 (2489)\ttotal: 15m 10s\tremaining: 15m 9s\n"
     ]
    },
    {
     "name": "stdout",
     "output_type": "stream",
     "text": [
      "2520:\tlearn: 0.7945793\ttest: 0.7871852\tbest: 0.7874214 (2489)\ttotal: 15m 17s\tremaining: 15m 2s\n"
     ]
    },
    {
     "name": "stdout",
     "output_type": "stream",
     "text": [
      "2540:\tlearn: 0.7945566\ttest: 0.7872789\tbest: 0.7874214 (2489)\ttotal: 15m 24s\tremaining: 14m 54s\n"
     ]
    },
    {
     "name": "stdout",
     "output_type": "stream",
     "text": [
      "2560:\tlearn: 0.7945690\ttest: 0.7873960\tbest: 0.7874573 (2556)\ttotal: 15m 31s\tremaining: 14m 47s\n"
     ]
    },
    {
     "name": "stdout",
     "output_type": "stream",
     "text": [
      "2580:\tlearn: 0.7946297\ttest: 0.7874721\tbest: 0.7875762 (2578)\ttotal: 15m 39s\tremaining: 14m 40s\n"
     ]
    },
    {
     "name": "stdout",
     "output_type": "stream",
     "text": [
      "2600:\tlearn: 0.7948034\ttest: 0.7876930\tbest: 0.7876930 (2600)\ttotal: 15m 46s\tremaining: 14m 32s\n"
     ]
    },
    {
     "name": "stdout",
     "output_type": "stream",
     "text": [
      "2620:\tlearn: 0.7948805\ttest: 0.7876399\tbest: 0.7877010 (2615)\ttotal: 15m 53s\tremaining: 14m 25s\n"
     ]
    },
    {
     "name": "stdout",
     "output_type": "stream",
     "text": [
      "2640:\tlearn: 0.7949678\ttest: 0.7876479\tbest: 0.7877683 (2625)\ttotal: 16m\tremaining: 14m 18s\n"
     ]
    },
    {
     "name": "stdout",
     "output_type": "stream",
     "text": [
      "2660:\tlearn: 0.7950695\ttest: 0.7877631\tbest: 0.7878679 (2659)\ttotal: 16m 8s\tremaining: 14m 10s\n"
     ]
    },
    {
     "name": "stdout",
     "output_type": "stream",
     "text": [
      "2680:\tlearn: 0.7951646\ttest: 0.7878136\tbest: 0.7878705 (2666)\ttotal: 16m 15s\tremaining: 14m 3s\n"
     ]
    },
    {
     "name": "stdout",
     "output_type": "stream",
     "text": [
      "2700:\tlearn: 0.7952793\ttest: 0.7877813\tbest: 0.7878705 (2666)\ttotal: 16m 22s\tremaining: 13m 56s\n"
     ]
    },
    {
     "name": "stdout",
     "output_type": "stream",
     "text": [
      "2720:\tlearn: 0.7953325\ttest: 0.7878110\tbest: 0.7878705 (2666)\ttotal: 16m 29s\tremaining: 13m 49s\n"
     ]
    },
    {
     "name": "stdout",
     "output_type": "stream",
     "text": [
      "2740:\tlearn: 0.7954063\ttest: 0.7877366\tbest: 0.7878705 (2666)\ttotal: 16m 37s\tremaining: 13m 41s\n"
     ]
    },
    {
     "name": "stdout",
     "output_type": "stream",
     "text": [
      "2760:\tlearn: 0.7955059\ttest: 0.7878717\tbest: 0.7878717 (2760)\ttotal: 16m 44s\tremaining: 13m 34s\n"
     ]
    },
    {
     "name": "stdout",
     "output_type": "stream",
     "text": [
      "2780:\tlearn: 0.7955311\ttest: 0.7878394\tbest: 0.7878928 (2761)\ttotal: 16m 51s\tremaining: 13m 27s\n"
     ]
    },
    {
     "name": "stdout",
     "output_type": "stream",
     "text": [
      "2800:\tlearn: 0.7956460\ttest: 0.7877629\tbest: 0.7878928 (2761)\ttotal: 16m 59s\tremaining: 13m 20s\n"
     ]
    },
    {
     "name": "stdout",
     "output_type": "stream",
     "text": [
      "2820:\tlearn: 0.7957558\ttest: 0.7877936\tbest: 0.7878928 (2761)\ttotal: 17m 6s\tremaining: 13m 12s\n"
     ]
    },
    {
     "name": "stdout",
     "output_type": "stream",
     "text": [
      "2840:\tlearn: 0.7958343\ttest: 0.7877414\tbest: 0.7878928 (2761)\ttotal: 17m 13s\tremaining: 13m 5s\n"
     ]
    },
    {
     "name": "stdout",
     "output_type": "stream",
     "text": [
      "2860:\tlearn: 0.7959220\ttest: 0.7877483\tbest: 0.7878928 (2761)\ttotal: 17m 20s\tremaining: 12m 58s\n"
     ]
    },
    {
     "name": "stdout",
     "output_type": "stream",
     "text": [
      "2880:\tlearn: 0.7959911\ttest: 0.7877585\tbest: 0.7878928 (2761)\ttotal: 17m 27s\tremaining: 12m 50s\n"
     ]
    },
    {
     "name": "stdout",
     "output_type": "stream",
     "text": [
      "2900:\tlearn: 0.7961159\ttest: 0.7877672\tbest: 0.7880123 (2884)\ttotal: 17m 35s\tremaining: 12m 43s\n"
     ]
    },
    {
     "name": "stdout",
     "output_type": "stream",
     "text": [
      "2920:\tlearn: 0.7962028\ttest: 0.7880060\tbest: 0.7880123 (2884)\ttotal: 17m 42s\tremaining: 12m 36s\n"
     ]
    },
    {
     "name": "stdout",
     "output_type": "stream",
     "text": [
      "2940:\tlearn: 0.7962199\ttest: 0.7880776\tbest: 0.7882035 (2938)\ttotal: 17m 49s\tremaining: 12m 28s\n"
     ]
    },
    {
     "name": "stdout",
     "output_type": "stream",
     "text": [
      "2960:\tlearn: 0.7962622\ttest: 0.7882130\tbest: 0.7882537 (2958)\ttotal: 17m 56s\tremaining: 12m 21s\n"
     ]
    },
    {
     "name": "stdout",
     "output_type": "stream",
     "text": [
      "2980:\tlearn: 0.7963695\ttest: 0.7882198\tbest: 0.7882785 (2968)\ttotal: 18m 3s\tremaining: 12m 13s\n"
     ]
    },
    {
     "name": "stdout",
     "output_type": "stream",
     "text": [
      "3000:\tlearn: 0.7965606\ttest: 0.7881199\tbest: 0.7882785 (2968)\ttotal: 18m 10s\tremaining: 12m 6s\n"
     ]
    },
    {
     "name": "stdout",
     "output_type": "stream",
     "text": [
      "3020:\tlearn: 0.7966269\ttest: 0.7879174\tbest: 0.7882785 (2968)\ttotal: 18m 17s\tremaining: 11m 59s\n"
     ]
    },
    {
     "name": "stdout",
     "output_type": "stream",
     "text": [
      "3040:\tlearn: 0.7967305\ttest: 0.7880305\tbest: 0.7882785 (2968)\ttotal: 18m 25s\tremaining: 11m 51s\n"
     ]
    },
    {
     "name": "stdout",
     "output_type": "stream",
     "text": [
      "3060:\tlearn: 0.7968071\ttest: 0.7879548\tbest: 0.7882785 (2968)\ttotal: 18m 32s\tremaining: 11m 44s\n"
     ]
    },
    {
     "name": "stdout",
     "output_type": "stream",
     "text": [
      "3080:\tlearn: 0.7969191\ttest: 0.7879625\tbest: 0.7882785 (2968)\ttotal: 18m 39s\tremaining: 11m 37s\n"
     ]
    },
    {
     "name": "stdout",
     "output_type": "stream",
     "text": [
      "3100:\tlearn: 0.7969702\ttest: 0.7880110\tbest: 0.7882785 (2968)\ttotal: 18m 46s\tremaining: 11m 30s\n"
     ]
    },
    {
     "name": "stdout",
     "output_type": "stream",
     "text": [
      "3120:\tlearn: 0.7970639\ttest: 0.7880402\tbest: 0.7882785 (2968)\ttotal: 18m 54s\tremaining: 11m 22s\n"
     ]
    },
    {
     "name": "stdout",
     "output_type": "stream",
     "text": [
      "3140:\tlearn: 0.7971147\ttest: 0.7880049\tbest: 0.7882785 (2968)\ttotal: 19m 1s\tremaining: 11m 15s\n"
     ]
    },
    {
     "name": "stdout",
     "output_type": "stream",
     "text": [
      "3160:\tlearn: 0.7973327\ttest: 0.7882848\tbest: 0.7883044 (3155)\ttotal: 19m 8s\tremaining: 11m 8s\n"
     ]
    },
    {
     "name": "stdout",
     "output_type": "stream",
     "text": [
      "3180:\tlearn: 0.7973274\ttest: 0.7882731\tbest: 0.7883706 (3164)\ttotal: 19m 15s\tremaining: 11m\n"
     ]
    },
    {
     "name": "stdout",
     "output_type": "stream",
     "text": [
      "3200:\tlearn: 0.7973765\ttest: 0.7883861\tbest: 0.7883861 (3200)\ttotal: 19m 22s\tremaining: 10m 53s\n"
     ]
    },
    {
     "name": "stdout",
     "output_type": "stream",
     "text": [
      "3220:\tlearn: 0.7974364\ttest: 0.7883932\tbest: 0.7883932 (3220)\ttotal: 19m 30s\tremaining: 10m 46s\n"
     ]
    },
    {
     "name": "stdout",
     "output_type": "stream",
     "text": [
      "3240:\tlearn: 0.7975462\ttest: 0.7883198\tbest: 0.7884609 (3228)\ttotal: 19m 37s\tremaining: 10m 39s\n"
     ]
    },
    {
     "name": "stdout",
     "output_type": "stream",
     "text": [
      "3260:\tlearn: 0.7976126\ttest: 0.7882230\tbest: 0.7884609 (3228)\ttotal: 19m 44s\tremaining: 10m 31s\n"
     ]
    },
    {
     "name": "stdout",
     "output_type": "stream",
     "text": [
      "3280:\tlearn: 0.7977422\ttest: 0.7881470\tbest: 0.7884609 (3228)\ttotal: 19m 52s\tremaining: 10m 24s\n"
     ]
    },
    {
     "name": "stdout",
     "output_type": "stream",
     "text": [
      "3300:\tlearn: 0.7979131\ttest: 0.7883436\tbest: 0.7884609 (3228)\ttotal: 19m 59s\tremaining: 10m 17s\n"
     ]
    },
    {
     "name": "stdout",
     "output_type": "stream",
     "text": [
      "3320:\tlearn: 0.7979048\ttest: 0.7883503\tbest: 0.7885130 (3303)\ttotal: 20m 6s\tremaining: 10m 10s\n"
     ]
    },
    {
     "name": "stdout",
     "output_type": "stream",
     "text": [
      "3340:\tlearn: 0.7980005\ttest: 0.7883578\tbest: 0.7885130 (3303)\ttotal: 20m 13s\tremaining: 10m 2s\n"
     ]
    },
    {
     "name": "stdout",
     "output_type": "stream",
     "text": [
      "3360:\tlearn: 0.7980195\ttest: 0.7882168\tbest: 0.7885130 (3303)\ttotal: 20m 21s\tremaining: 9m 55s\n"
     ]
    },
    {
     "name": "stdout",
     "output_type": "stream",
     "text": [
      "3380:\tlearn: 0.7981048\ttest: 0.7882434\tbest: 0.7885130 (3303)\ttotal: 20m 28s\tremaining: 9m 48s\n"
     ]
    },
    {
     "name": "stdout",
     "output_type": "stream",
     "text": [
      "3400:\tlearn: 0.7982430\ttest: 0.7883745\tbest: 0.7885130 (3303)\ttotal: 20m 35s\tremaining: 9m 40s\n"
     ]
    },
    {
     "name": "stdout",
     "output_type": "stream",
     "text": [
      "3420:\tlearn: 0.7981932\ttest: 0.7884876\tbest: 0.7885130 (3303)\ttotal: 20m 42s\tremaining: 9m 33s\n"
     ]
    },
    {
     "name": "stdout",
     "output_type": "stream",
     "text": [
      "3440:\tlearn: 0.7983309\ttest: 0.7883057\tbest: 0.7885130 (3303)\ttotal: 20m 50s\tremaining: 9m 26s\n"
     ]
    },
    {
     "name": "stdout",
     "output_type": "stream",
     "text": [
      "3460:\tlearn: 0.7984529\ttest: 0.7884379\tbest: 0.7885130 (3303)\ttotal: 20m 57s\tremaining: 9m 19s\n"
     ]
    },
    {
     "name": "stdout",
     "output_type": "stream",
     "text": [
      "3480:\tlearn: 0.7985445\ttest: 0.7884028\tbest: 0.7885290 (3478)\ttotal: 21m 4s\tremaining: 9m 11s\n"
     ]
    },
    {
     "name": "stdout",
     "output_type": "stream",
     "text": [
      "3500:\tlearn: 0.7985624\ttest: 0.7883051\tbest: 0.7885290 (3478)\ttotal: 21m 11s\tremaining: 9m 4s\n"
     ]
    },
    {
     "name": "stdout",
     "output_type": "stream",
     "text": [
      "3520:\tlearn: 0.7986893\ttest: 0.7884160\tbest: 0.7885290 (3478)\ttotal: 21m 19s\tremaining: 8m 57s\n"
     ]
    },
    {
     "name": "stdout",
     "output_type": "stream",
     "text": [
      "3540:\tlearn: 0.7987895\ttest: 0.7884215\tbest: 0.7885290 (3478)\ttotal: 21m 26s\tremaining: 8m 50s\n"
     ]
    },
    {
     "name": "stdout",
     "output_type": "stream",
     "text": [
      "3560:\tlearn: 0.7988973\ttest: 0.7883661\tbest: 0.7885290 (3478)\ttotal: 21m 33s\tremaining: 8m 42s\n"
     ]
    },
    {
     "name": "stdout",
     "output_type": "stream",
     "text": [
      "3580:\tlearn: 0.7989979\ttest: 0.7886872\tbest: 0.7886872 (3580)\ttotal: 21m 40s\tremaining: 8m 35s\n"
     ]
    },
    {
     "name": "stdout",
     "output_type": "stream",
     "text": [
      "3600:\tlearn: 0.7991097\ttest: 0.7885057\tbest: 0.7887082 (3581)\ttotal: 21m 47s\tremaining: 8m 28s\n"
     ]
    },
    {
     "name": "stdout",
     "output_type": "stream",
     "text": [
      "3620:\tlearn: 0.7991900\ttest: 0.7885125\tbest: 0.7887082 (3581)\ttotal: 21m 55s\tremaining: 8m 20s\n"
     ]
    },
    {
     "name": "stdout",
     "output_type": "stream",
     "text": [
      "3640:\tlearn: 0.7993551\ttest: 0.7884970\tbest: 0.7887082 (3581)\ttotal: 22m 2s\tremaining: 8m 13s\n"
     ]
    },
    {
     "name": "stdout",
     "output_type": "stream",
     "text": [
      "3660:\tlearn: 0.7995276\ttest: 0.7884593\tbest: 0.7887082 (3581)\ttotal: 22m 9s\tremaining: 8m 6s\n"
     ]
    },
    {
     "name": "stdout",
     "output_type": "stream",
     "text": [
      "3680:\tlearn: 0.7995499\ttest: 0.7885927\tbest: 0.7887082 (3581)\ttotal: 22m 16s\tremaining: 7m 58s\n"
     ]
    },
    {
     "name": "stdout",
     "output_type": "stream",
     "text": [
      "3700:\tlearn: 0.7995912\ttest: 0.7885777\tbest: 0.7887082 (3581)\ttotal: 22m 24s\tremaining: 7m 51s\n"
     ]
    },
    {
     "name": "stdout",
     "output_type": "stream",
     "text": [
      "3720:\tlearn: 0.7997955\ttest: 0.7886453\tbest: 0.7888127 (3717)\ttotal: 22m 31s\tremaining: 7m 44s\n"
     ]
    },
    {
     "name": "stdout",
     "output_type": "stream",
     "text": [
      "3740:\tlearn: 0.7998222\ttest: 0.7884820\tbest: 0.7888127 (3717)\ttotal: 22m 38s\tremaining: 7m 37s\n"
     ]
    },
    {
     "name": "stdout",
     "output_type": "stream",
     "text": [
      "3760:\tlearn: 0.7998491\ttest: 0.7886357\tbest: 0.7888127 (3717)\ttotal: 22m 45s\tremaining: 7m 29s\n"
     ]
    },
    {
     "name": "stdout",
     "output_type": "stream",
     "text": [
      "3780:\tlearn: 0.8000071\ttest: 0.7885976\tbest: 0.7888127 (3717)\ttotal: 22m 53s\tremaining: 7m 22s\n"
     ]
    },
    {
     "name": "stdout",
     "output_type": "stream",
     "text": [
      "3800:\tlearn: 0.8001570\ttest: 0.7887112\tbest: 0.7888127 (3717)\ttotal: 23m\tremaining: 7m 15s\n"
     ]
    },
    {
     "name": "stdout",
     "output_type": "stream",
     "text": [
      "3820:\tlearn: 0.8002556\ttest: 0.7888217\tbest: 0.7888217 (3820)\ttotal: 23m 7s\tremaining: 7m 8s\n"
     ]
    },
    {
     "name": "stdout",
     "output_type": "stream",
     "text": [
      "3840:\tlearn: 0.8003120\ttest: 0.7885298\tbest: 0.7888217 (3820)\ttotal: 23m 14s\tremaining: 7m\n"
     ]
    },
    {
     "name": "stdout",
     "output_type": "stream",
     "text": [
      "3860:\tlearn: 0.8003282\ttest: 0.7887454\tbest: 0.7888217 (3820)\ttotal: 23m 22s\tremaining: 6m 53s\n"
     ]
    },
    {
     "name": "stdout",
     "output_type": "stream",
     "text": [
      "3880:\tlearn: 0.8004259\ttest: 0.7885398\tbest: 0.7888217 (3820)\ttotal: 23m 29s\tremaining: 6m 46s\n"
     ]
    },
    {
     "name": "stdout",
     "output_type": "stream",
     "text": [
      "3900:\tlearn: 0.8005369\ttest: 0.7885244\tbest: 0.7888217 (3820)\ttotal: 23m 36s\tremaining: 6m 39s\n"
     ]
    },
    {
     "name": "stdout",
     "output_type": "stream",
     "text": [
      "3920:\tlearn: 0.8005528\ttest: 0.7885067\tbest: 0.7888217 (3820)\ttotal: 23m 43s\tremaining: 6m 31s\n"
     ]
    },
    {
     "name": "stdout",
     "output_type": "stream",
     "text": [
      "3940:\tlearn: 0.8006099\ttest: 0.7885132\tbest: 0.7888217 (3820)\ttotal: 23m 50s\tremaining: 6m 24s\n"
     ]
    },
    {
     "name": "stdout",
     "output_type": "stream",
     "text": [
      "3960:\tlearn: 0.8006874\ttest: 0.7885811\tbest: 0.7888217 (3820)\ttotal: 23m 58s\tremaining: 6m 17s\n"
     ]
    },
    {
     "name": "stdout",
     "output_type": "stream",
     "text": [
      "3980:\tlearn: 0.8007564\ttest: 0.7886491\tbest: 0.7888217 (3820)\ttotal: 24m 5s\tremaining: 6m 10s\n"
     ]
    },
    {
     "name": "stdout",
     "output_type": "stream",
     "text": [
      "4000:\tlearn: 0.8008289\ttest: 0.7886738\tbest: 0.7888217 (3820)\ttotal: 24m 12s\tremaining: 6m 2s\n"
     ]
    },
    {
     "name": "stdout",
     "output_type": "stream",
     "text": [
      "4020:\tlearn: 0.8008629\ttest: 0.7885546\tbest: 0.7888217 (3820)\ttotal: 24m 20s\tremaining: 5m 55s\n"
     ]
    },
    {
     "name": "stdout",
     "output_type": "stream",
     "text": [
      "4040:\tlearn: 0.8009463\ttest: 0.7885593\tbest: 0.7888217 (3820)\ttotal: 24m 27s\tremaining: 5m 48s\n"
     ]
    },
    {
     "name": "stdout",
     "output_type": "stream",
     "text": [
      "4060:\tlearn: 0.8010836\ttest: 0.7886702\tbest: 0.7888217 (3820)\ttotal: 24m 34s\tremaining: 5m 40s\n"
     ]
    },
    {
     "name": "stdout",
     "output_type": "stream",
     "text": [
      "4080:\tlearn: 0.8011730\ttest: 0.7886553\tbest: 0.7888217 (3820)\ttotal: 24m 41s\tremaining: 5m 33s\n"
     ]
    },
    {
     "name": "stdout",
     "output_type": "stream",
     "text": [
      "4100:\tlearn: 0.8012566\ttest: 0.7887657\tbest: 0.7888217 (3820)\ttotal: 24m 48s\tremaining: 5m 26s\n"
     ]
    },
    {
     "name": "stdout",
     "output_type": "stream",
     "text": [
      "4120:\tlearn: 0.8012713\ttest: 0.7887060\tbest: 0.7888217 (3820)\ttotal: 24m 55s\tremaining: 5m 19s\n",
      "Stopped by overfitting detector  (300 iterations wait)\n",
      "\n",
      "bestTest = 0.7888216584\n",
      "bestIteration = 3820\n",
      "\n",
      "Shrink model to first 3821 iterations.\n"
     ]
    },
    {
     "name": "stdout",
     "output_type": "stream",
     "text": [
      "Training time: 126.87184566259384 min.\n",
      "OOF recall_at4: 0.6582876089810482\n",
      "OOF normalized_gini: 0.9214266240848463\n",
      "OOF competition metric: 0.7898571165329473\n"
     ]
    },
    {
     "name": "stdout",
     "output_type": "stream",
     "text": [
      "CPU times: user 3d 1h 22min 55s, sys: 1h 21min 9s, total: 3d 2h 44min 5s\n",
      "Wall time: 6h 5min 43s\n"
     ]
    }
   ],
   "source": [
    "%%time \n",
    "\n",
    "all_models = list()\n",
    "all_oof_dfs = list()\n",
    "\n",
    "for repetition in range(N_REPEATS):\n",
    "    print(f\" repeated cross-validation step: {repetition+1}/{N_REPEATS} \".center(100, \"#\"))\n",
    "\n",
    "    folds = pd.read_csv(f'../data/processed/cv{repetition}.csv', index_col=\"customer_ID\")\n",
    "    _train = pd.merge(train, folds, how=\"inner\", left_index=True, right_index=True).reset_index(drop=True)\n",
    "    \n",
    "    tic = time.time()\n",
    "    models,oof = train_models(_train)\n",
    "    tac = time.time()\n",
    "    print(f\"Training time: {(tac-tic)/60} min.\")\n",
    "          \n",
    "    # oof metrics\n",
    "    print(\"OOF recall_at4:\", compute_recall_at4(oof.target.values, oof.pred.values))\n",
    "    print(\"OOF normalized_gini:\", compute_normalized_gini(oof.target.values, oof.pred.values))\n",
    "    print(\"OOF competition metric:\", compute_amex_metric(oof.target.values, oof.pred.values))\n",
    "    \n",
    "    all_models.append(models)\n",
    "    all_oof_dfs.append(oof)\n",
    "    \n",
    "    # save oof predictions\n",
    "    oof.to_csv(OOF_PATH/f\"oof-cv{repetition}.csv\", index=False)\n",
    "    # save models\n",
    "    for fold,_model in enumerate(models):\n",
    "        _model.save_model(ART_PATH/f\"/model-cv{repetition}-fold{fold}.cbm\", format=\"cbm\")\n",
    "          \n",
    "    del _train, folds; gc.collect()"
   ]
  },
  {
   "cell_type": "code",
   "execution_count": 13,
   "id": "dc01d70f",
   "metadata": {
    "execution": {
     "iopub.execute_input": "2022-07-15T12:03:03.312009Z",
     "iopub.status.busy": "2022-07-15T12:03:03.187610Z",
     "iopub.status.idle": "2022-07-15T12:03:03.325750Z",
     "shell.execute_reply": "2022-07-15T12:03:03.325313Z"
    },
    "papermill": {
     "duration": 1.193297,
     "end_time": "2022-07-15T12:03:03.325863",
     "exception": false,
     "start_time": "2022-07-15T12:03:02.132566",
     "status": "completed"
    },
    "tags": []
   },
   "outputs": [
    {
     "data": {
      "text/html": [
       "<div>\n",
       "<style scoped>\n",
       "    .dataframe tbody tr th:only-of-type {\n",
       "        vertical-align: middle;\n",
       "    }\n",
       "\n",
       "    .dataframe tbody tr th {\n",
       "        vertical-align: top;\n",
       "    }\n",
       "\n",
       "    .dataframe thead th {\n",
       "        text-align: right;\n",
       "    }\n",
       "</style>\n",
       "<table border=\"1\" class=\"dataframe\">\n",
       "  <thead>\n",
       "    <tr style=\"text-align: right;\">\n",
       "      <th></th>\n",
       "      <th>recall_at4</th>\n",
       "      <th>gini</th>\n",
       "      <th>metric</th>\n",
       "    </tr>\n",
       "  </thead>\n",
       "  <tbody>\n",
       "    <tr>\n",
       "      <th>0</th>\n",
       "      <td>0.658271</td>\n",
       "      <td>0.921358</td>\n",
       "      <td>0.789814</td>\n",
       "    </tr>\n",
       "    <tr>\n",
       "      <th>1</th>\n",
       "      <td>0.658296</td>\n",
       "      <td>0.920889</td>\n",
       "      <td>0.789593</td>\n",
       "    </tr>\n",
       "    <tr>\n",
       "      <th>2</th>\n",
       "      <td>0.658288</td>\n",
       "      <td>0.921427</td>\n",
       "      <td>0.789857</td>\n",
       "    </tr>\n",
       "  </tbody>\n",
       "</table>\n",
       "</div>"
      ],
      "text/plain": [
       "   recall_at4      gini    metric\n",
       "0    0.658271  0.921358  0.789814\n",
       "1    0.658296  0.920889  0.789593\n",
       "2    0.658288  0.921427  0.789857"
      ]
     },
     "metadata": {},
     "output_type": "display_data"
    },
    {
     "name": "stdout",
     "output_type": "stream",
     "text": [
      "\n",
      "mean:\n"
     ]
    },
    {
     "data": {
      "text/plain": [
       "recall_at4    0.658285\n",
       "gini          0.921224\n",
       "metric        0.789755\n",
       "dtype: float64"
      ]
     },
     "metadata": {},
     "output_type": "display_data"
    },
    {
     "name": "stdout",
     "output_type": "stream",
     "text": [
      "\n",
      "std:\n"
     ]
    },
    {
     "data": {
      "text/plain": [
       "recall_at4    0.000013\n",
       "gini          0.000292\n",
       "metric        0.000142\n",
       "dtype: float64"
      ]
     },
     "metadata": {},
     "output_type": "display_data"
    }
   ],
   "source": [
    "results = list()\n",
    "\n",
    "for oof in all_oof_dfs:  \n",
    "    r = {\n",
    "        \"recall_at4\": compute_recall_at4(oof.target.values, oof.pred.values),\n",
    "        \"gini\": compute_normalized_gini(oof.target.values, oof.pred.values),\n",
    "        \"metric\": compute_amex_metric(oof.target.values, oof.pred.values),\n",
    "    }\n",
    "    results.append(r)\n",
    "\n",
    "results = pd.DataFrame(results)\n",
    "display(results)\n",
    "\n",
    "print(\"\\nmean:\")\n",
    "display(results.mean(axis=0))\n",
    "\n",
    "print(\"\\nstd:\")\n",
    "display(results.std(axis=0))"
   ]
  },
  {
   "cell_type": "code",
   "execution_count": 14,
   "id": "125e7e84",
   "metadata": {
    "execution": {
     "iopub.execute_input": "2022-07-15T12:03:04.760581Z",
     "iopub.status.busy": "2022-07-15T12:03:04.625033Z",
     "iopub.status.idle": "2022-07-15T12:03:04.763181Z",
     "shell.execute_reply": "2022-07-15T12:03:04.762777Z"
    },
    "papermill": {
     "duration": 0.758581,
     "end_time": "2022-07-15T12:03:04.763311",
     "exception": false,
     "start_time": "2022-07-15T12:03:04.004730",
     "status": "completed"
    },
    "tags": []
   },
   "outputs": [
    {
     "data": {
      "text/plain": [
       "21"
      ]
     },
     "execution_count": 14,
     "metadata": {},
     "output_type": "execute_result"
    }
   ],
   "source": [
    "del train\n",
    "gc.collect()"
   ]
  },
  {
   "cell_type": "markdown",
   "id": "98278948",
   "metadata": {
    "papermill": {
     "duration": 0.647172,
     "end_time": "2022-07-15T12:03:06.065857",
     "exception": false,
     "start_time": "2022-07-15T12:03:05.418685",
     "status": "completed"
    },
    "tags": []
   },
   "source": [
    "***\n",
    "## make predictions and submit"
   ]
  },
  {
   "cell_type": "code",
   "execution_count": 15,
   "id": "9c78d307",
   "metadata": {
    "execution": {
     "iopub.execute_input": "2022-07-15T12:03:07.387348Z",
     "iopub.status.busy": "2022-07-15T12:03:07.386816Z",
     "iopub.status.idle": "2022-07-15T12:03:07.388462Z",
     "shell.execute_reply": "2022-07-15T12:03:07.388812Z"
    },
    "papermill": {
     "duration": 0.754522,
     "end_time": "2022-07-15T12:03:07.388948",
     "exception": false,
     "start_time": "2022-07-15T12:03:06.634426",
     "status": "completed"
    },
    "tags": []
   },
   "outputs": [],
   "source": [
    "def make_predictions(dataframe:pd.DataFrame, input_feats:list, models:list) -> np.array:\n",
    "    preds = [\n",
    "        model.predict(dataframe[input_feats], prediction_type=\"Probability\")[:,1] \n",
    "        for model in models\n",
    "    ]\n",
    "    return np.mean(preds, axis=0)    "
   ]
  },
  {
   "cell_type": "code",
   "execution_count": 16,
   "id": "65627646",
   "metadata": {
    "execution": {
     "iopub.execute_input": "2022-07-15T12:03:08.650997Z",
     "iopub.status.busy": "2022-07-15T12:03:08.650505Z",
     "iopub.status.idle": "2022-07-15T12:03:12.413773Z",
     "shell.execute_reply": "2022-07-15T12:03:12.414201Z"
    },
    "papermill": {
     "duration": 4.341912,
     "end_time": "2022-07-15T12:03:12.414361",
     "exception": false,
     "start_time": "2022-07-15T12:03:08.072449",
     "status": "completed"
    },
    "tags": []
   },
   "outputs": [],
   "source": [
    "test = pd.read_parquet(\"../data/processed/dsv02/test.parquet\")\n",
    "sub = pd.read_csv(\"../data/raw/sample_submission.csv\")"
   ]
  },
  {
   "cell_type": "code",
   "execution_count": 17,
   "id": "0905fe04",
   "metadata": {
    "execution": {
     "iopub.execute_input": "2022-07-15T12:03:13.700174Z",
     "iopub.status.busy": "2022-07-15T12:03:13.699667Z",
     "iopub.status.idle": "2022-07-15T12:05:09.277187Z",
     "shell.execute_reply": "2022-07-15T12:05:09.277564Z"
    },
    "papermill": {
     "duration": 116.180575,
     "end_time": "2022-07-15T12:05:09.277701",
     "exception": false,
     "start_time": "2022-07-15T12:03:13.097126",
     "status": "completed"
    },
    "tags": []
   },
   "outputs": [
    {
     "name": "stdout",
     "output_type": "stream",
     "text": [
      "CPU times: user 7min 28s, sys: 14.4 s, total: 7min 43s\n",
      "Wall time: 1min 54s\n"
     ]
    }
   ],
   "source": [
    "%%time\n",
    "\n",
    "all_preds = list()\n",
    "\n",
    "for repetition in range(N_REPEATS):\n",
    "    if \"prediction\" in sub.columns:\n",
    "        sub.drop(\"prediction\", axis=1, inplace=True)\n",
    "    if \"prediction\" in test.columns:\n",
    "        test.drop(\"prediction\", axis=1, inplace=True)\n",
    "        \n",
    "    models = all_models[repetition]\n",
    "    preds = make_predictions(test, input_feats, models)\n",
    "    all_preds.append(preds)\n",
    "       \n",
    "    test[\"prediction\"] = preds\n",
    "    sub[\"prediction\"] = test.loc[sub.customer_ID.values,\"prediction\"].values\n",
    "    assert sub.prediction.isna().sum() == 0\n",
    "    sub.to_csv(SUB_PATH/f\"submission-cv{repetition}.csv\", index=False)"
   ]
  },
  {
   "cell_type": "code",
   "execution_count": 18,
   "id": "27c536e5",
   "metadata": {
    "execution": {
     "iopub.execute_input": "2022-07-15T12:05:10.396779Z",
     "iopub.status.busy": "2022-07-15T12:05:10.396254Z",
     "iopub.status.idle": "2022-07-15T12:05:15.028659Z",
     "shell.execute_reply": "2022-07-15T12:05:15.028189Z"
    },
    "papermill": {
     "duration": 5.181835,
     "end_time": "2022-07-15T12:05:15.028780",
     "exception": false,
     "start_time": "2022-07-15T12:05:09.846945",
     "status": "completed"
    },
    "tags": []
   },
   "outputs": [
    {
     "name": "stdout",
     "output_type": "stream",
     "text": [
      "CPU times: user 3.49 s, sys: 836 ms, total: 4.33 s\n",
      "Wall time: 4.63 s\n"
     ]
    }
   ],
   "source": [
    "%%time\n",
    "# predict using all the trained models\n",
    "if \"prediction\" in sub.columns:\n",
    "    sub.drop(\"prediction\", axis=1, inplace=True)\n",
    "if \"prediction\" in test.columns:\n",
    "    test.drop(\"prediction\", axis=1, inplace=True)\n",
    "\n",
    "test[\"prediction\"] = np.mean(all_preds, axis=0)\n",
    "sub[\"prediction\"] = test.loc[sub.customer_ID.values,\"prediction\"].values\n",
    "assert sub.prediction.isna().sum() == 0\n",
    "sub.to_csv(SUB_PATH/f\"submission-all.csv\", index=False)"
   ]
  },
  {
   "cell_type": "markdown",
   "id": "076cd503",
   "metadata": {
    "papermill": {
     "duration": 0.692455,
     "end_time": "2022-07-15T12:05:16.342508",
     "exception": false,
     "start_time": "2022-07-15T12:05:15.650053",
     "status": "completed"
    },
    "tags": []
   },
   "source": [
    "***"
   ]
  }
 ],
 "metadata": {
  "kernelspec": {
   "display_name": "Python 3 (ipykernel)",
   "language": "python",
   "name": "python3"
  },
  "language_info": {
   "codemirror_mode": {
    "name": "ipython",
    "version": 3
   },
   "file_extension": ".py",
   "mimetype": "text/x-python",
   "name": "python",
   "nbconvert_exporter": "python",
   "pygments_lexer": "ipython3",
   "version": "3.7.12"
  },
  "papermill": {
   "default_parameters": {},
   "duration": 22091.365855,
   "end_time": "2022-07-15T12:05:18.475283",
   "environment_variables": {},
   "exception": null,
   "input_path": "train/catboost-dsv02.ipynb",
   "output_path": "train/outputs/catboost-dsv02.ipynb",
   "parameters": {},
   "start_time": "2022-07-15T05:57:07.109428",
   "version": "2.3.3"
  }
 },
 "nbformat": 4,
 "nbformat_minor": 5
}