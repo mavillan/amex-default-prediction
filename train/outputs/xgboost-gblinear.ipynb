{
 "cells": [
  {
   "cell_type": "code",
   "execution_count": 1,
   "id": "8727b73c",
   "metadata": {
    "_cell_guid": "b1076dfc-b9ad-4769-8c92-a6c4dae69d19",
    "_uuid": "8f2839f25d086af736a60e9eeb907d3b93b6e0e5",
    "execution": {
     "iopub.execute_input": "2022-07-19T19:15:03.836255Z",
     "iopub.status.busy": "2022-07-19T19:15:03.835773Z",
     "iopub.status.idle": "2022-07-19T19:15:04.393958Z",
     "shell.execute_reply": "2022-07-19T19:15:04.393378Z"
    },
    "papermill": {
     "duration": 0.580391,
     "end_time": "2022-07-19T19:15:04.394115",
     "exception": false,
     "start_time": "2022-07-19T19:15:03.813724",
     "status": "completed"
    },
    "tags": []
   },
   "outputs": [],
   "source": [
    "import gc\n",
    "from glob import glob\n",
    "import numpy as np\n",
    "import pandas as pd\n",
    "import matplotlib.pyplot as plt\n",
    "from pathlib import Path\n",
    "import time\n",
    "from typing import Tuple\n",
    "\n",
    "import category_encoders as ce\n",
    "import xgboost as xgb\n",
    "from sklearn.preprocessing import StandardScaler\n",
    "from sklearn import metrics\n",
    "\n",
    "import sys\n",
    "sys.path.append(\"../utils\")\n",
    "from metrics import compute_recall_at4, compute_normalized_gini, compute_amex_metric\n",
    "#from messaging import send_message\n",
    "\n",
    "pd.set_option('display.max_columns', None)"
   ]
  },
  {
   "cell_type": "code",
   "execution_count": 2,
   "id": "6c5aabea",
   "metadata": {
    "execution": {
     "iopub.execute_input": "2022-07-19T19:15:04.422003Z",
     "iopub.status.busy": "2022-07-19T19:15:04.421506Z",
     "iopub.status.idle": "2022-07-19T19:15:04.423442Z",
     "shell.execute_reply": "2022-07-19T19:15:04.423060Z"
    },
    "papermill": {
     "duration": 0.017916,
     "end_time": "2022-07-19T19:15:04.423546",
     "exception": false,
     "start_time": "2022-07-19T19:15:04.405630",
     "status": "completed"
    },
    "tags": []
   },
   "outputs": [],
   "source": [
    "# metrics in xgboost format\n",
    "\n",
    "def metric_recall_at4(predt: np.ndarray, dtrain: xgb.DMatrix) -> Tuple[str, float]:\n",
    "    y_true = dtrain.get_label()\n",
    "    return 'recall_at4', compute_recall_at4(y_true, predt)\n",
    "\n",
    "def metric_normalized_gini(predt: np.ndarray, dtrain: xgb.DMatrix) -> Tuple[str, float]:\n",
    "    y_true = dtrain.get_label()\n",
    "    return 'norm_gini', compute_normalized_gini(y_true, predt)\n",
    "\n",
    "def metric_amex(predt: np.ndarray, dtrain: xgb.DMatrix) -> Tuple[str, float]:\n",
    "    y_true = dtrain.get_label()\n",
    "    return 'amex_metric', compute_amex_metric(y_true, predt)"
   ]
  },
  {
   "cell_type": "code",
   "execution_count": 3,
   "id": "69dc420f",
   "metadata": {
    "execution": {
     "iopub.execute_input": "2022-07-19T19:15:04.448414Z",
     "iopub.status.busy": "2022-07-19T19:15:04.447944Z",
     "iopub.status.idle": "2022-07-19T19:15:04.449534Z",
     "shell.execute_reply": "2022-07-19T19:15:04.449887Z"
    },
    "papermill": {
     "duration": 0.015654,
     "end_time": "2022-07-19T19:15:04.450008",
     "exception": false,
     "start_time": "2022-07-19T19:15:04.434354",
     "status": "completed"
    },
    "tags": []
   },
   "outputs": [],
   "source": [
    "# CONFIG PARAMS\n",
    "N_REPEATS = 3\n",
    "MAX_ITERATIONS = 3000\n",
    "DATASET_VERSION = \"02\""
   ]
  },
  {
   "cell_type": "code",
   "execution_count": 4,
   "id": "d3a0af18",
   "metadata": {
    "execution": {
     "iopub.execute_input": "2022-07-19T19:15:04.476184Z",
     "iopub.status.busy": "2022-07-19T19:15:04.475703Z",
     "iopub.status.idle": "2022-07-19T19:15:04.477497Z",
     "shell.execute_reply": "2022-07-19T19:15:04.477846Z"
    },
    "papermill": {
     "duration": 0.01707,
     "end_time": "2022-07-19T19:15:04.477965",
     "exception": false,
     "start_time": "2022-07-19T19:15:04.460895",
     "status": "completed"
    },
    "tags": []
   },
   "outputs": [],
   "source": [
    "OOF_PATH = Path(f\"../data/oof/xgboost-gblinear-dsv{DATASET_VERSION}\")\n",
    "SUB_PATH = Path(f\"../data/subs/xgboost-gblinear-dsv{DATASET_VERSION}\")\n",
    "ART_PATH = Path(f\"../artifacts/xgboost-gblinear-dsv{DATASET_VERSION}\")\n",
    "\n",
    "if not OOF_PATH.exists():\n",
    "    OOF_PATH.mkdir(parents=True, exist_ok=True)\n",
    "if not SUB_PATH.exists():\n",
    "    SUB_PATH.mkdir(parents=True, exist_ok=True)\n",
    "if not ART_PATH.exists():\n",
    "    ART_PATH.mkdir(parents=True, exist_ok=True)"
   ]
  },
  {
   "cell_type": "markdown",
   "id": "eebe9155",
   "metadata": {
    "papermill": {
     "duration": 0.010899,
     "end_time": "2022-07-19T19:15:04.499776",
     "exception": false,
     "start_time": "2022-07-19T19:15:04.488877",
     "status": "completed"
    },
    "tags": []
   },
   "source": [
    "***\n",
    "## load and prepare data"
   ]
  },
  {
   "cell_type": "code",
   "execution_count": 5,
   "id": "babfd19d",
   "metadata": {
    "execution": {
     "iopub.execute_input": "2022-07-19T19:15:04.525575Z",
     "iopub.status.busy": "2022-07-19T19:15:04.525111Z",
     "iopub.status.idle": "2022-07-19T19:15:06.760767Z",
     "shell.execute_reply": "2022-07-19T19:15:06.760282Z"
    },
    "papermill": {
     "duration": 2.250019,
     "end_time": "2022-07-19T19:15:06.760913",
     "exception": false,
     "start_time": "2022-07-19T19:15:04.510894",
     "status": "completed"
    },
    "tags": []
   },
   "outputs": [],
   "source": [
    "train = pd.read_parquet(f\"../data/processed/dsv{DATASET_VERSION}/train.parquet\")\n",
    "train_labels = pd.read_csv(\"../data/raw/train_labels.csv\", index_col=\"customer_ID\")"
   ]
  },
  {
   "cell_type": "code",
   "execution_count": 6,
   "id": "a49efa31",
   "metadata": {
    "execution": {
     "iopub.execute_input": "2022-07-19T19:15:06.792232Z",
     "iopub.status.busy": "2022-07-19T19:15:06.791703Z",
     "iopub.status.idle": "2022-07-19T19:15:06.794064Z",
     "shell.execute_reply": "2022-07-19T19:15:06.794426Z"
    },
    "papermill": {
     "duration": 0.021973,
     "end_time": "2022-07-19T19:15:06.794560",
     "exception": false,
     "start_time": "2022-07-19T19:15:06.772587",
     "status": "completed"
    },
    "tags": []
   },
   "outputs": [
    {
     "data": {
      "text/plain": [
       "1562"
      ]
     },
     "execution_count": 6,
     "metadata": {},
     "output_type": "execute_result"
    }
   ],
   "source": [
    "input_feats = train.columns.tolist()\n",
    "categ_feats = [\n",
    "    'B_30_first', 'B_38_first', 'D_114_first', 'D_116_first', 'D_117_first', \n",
    "    'D_120_first', 'D_126_first', 'D_63_first', 'D_64_first', 'D_66_first', 'D_68_first',\n",
    "    'B_30_last', 'B_38_last', 'D_114_last', 'D_116_last', 'D_117_last', \n",
    "    'D_120_last', 'D_126_last', 'D_63_last', 'D_64_last', 'D_66_last', 'D_68_last',\n",
    "]\n",
    "numeric_feats = [col for col in input_feats if col not in categ_feats]\n",
    "\n",
    "len(input_feats)"
   ]
  },
  {
   "cell_type": "code",
   "execution_count": 7,
   "id": "5742e3fc",
   "metadata": {
    "execution": {
     "iopub.execute_input": "2022-07-19T19:15:07.018064Z",
     "iopub.status.busy": "2022-07-19T19:15:06.955731Z",
     "iopub.status.idle": "2022-07-19T19:15:09.069668Z",
     "shell.execute_reply": "2022-07-19T19:15:09.070035Z"
    },
    "papermill": {
     "duration": 2.263903,
     "end_time": "2022-07-19T19:15:09.070197",
     "exception": false,
     "start_time": "2022-07-19T19:15:06.806294",
     "status": "completed"
    },
    "tags": []
   },
   "outputs": [
    {
     "data": {
      "text/plain": [
       "517"
      ]
     },
     "execution_count": 7,
     "metadata": {},
     "output_type": "execute_result"
    }
   ],
   "source": [
    "train = pd.merge(train, train_labels, how=\"inner\", left_index=True, right_index=True)\n",
    "del train_labels\n",
    "gc.collect()"
   ]
  },
  {
   "cell_type": "markdown",
   "id": "40d155bb",
   "metadata": {
    "papermill": {
     "duration": 0.0107,
     "end_time": "2022-07-19T19:15:09.093077",
     "exception": false,
     "start_time": "2022-07-19T19:15:09.082377",
     "status": "completed"
    },
    "tags": []
   },
   "source": [
    "***\n",
    "## model training\n",
    "\n",
    "train with repeated cross validation"
   ]
  },
  {
   "cell_type": "code",
   "execution_count": 8,
   "id": "ac05f665",
   "metadata": {
    "execution": {
     "iopub.execute_input": "2022-07-19T19:15:09.118291Z",
     "iopub.status.busy": "2022-07-19T19:15:09.117771Z",
     "iopub.status.idle": "2022-07-19T19:15:09.119433Z",
     "shell.execute_reply": "2022-07-19T19:15:09.119811Z"
    },
    "papermill": {
     "duration": 0.017132,
     "end_time": "2022-07-19T19:15:09.119956",
     "exception": false,
     "start_time": "2022-07-19T19:15:09.102824",
     "status": "completed"
    },
    "tags": []
   },
   "outputs": [],
   "source": [
    "model_params = {\n",
    "    # general parameters\n",
    "    'booster':'gblinear',\n",
    "    'objective':'binary:logistic',\n",
    "    'disable_default_eval_metric':True,\n",
    "    'seed':2112,\n",
    "    'eta': 0.05,\n",
    "    # linear booster parameters\n",
    "    'updater': 'coord_descent',\n",
    "    'feature_selector': 'thrifty',\n",
    "    #'feature_selector': 'cyclic',\n",
    "    'top_k': 150,\n",
    "    'alpha':  1.0,\n",
    "    'lambda': 0.1,\n",
    "}"
   ]
  },
  {
   "cell_type": "code",
   "execution_count": 9,
   "id": "f30c7e78",
   "metadata": {
    "execution": {
     "iopub.execute_input": "2022-07-19T19:15:09.150769Z",
     "iopub.status.busy": "2022-07-19T19:15:09.150273Z",
     "iopub.status.idle": "2022-07-19T19:15:09.152285Z",
     "shell.execute_reply": "2022-07-19T19:15:09.151899Z"
    },
    "papermill": {
     "duration": 0.020741,
     "end_time": "2022-07-19T19:15:09.152391",
     "exception": false,
     "start_time": "2022-07-19T19:15:09.131650",
     "status": "completed"
    },
    "tags": []
   },
   "outputs": [],
   "source": [
    "def train_models(dataframe: pd.DataFrame, n_folds: int = 5,) -> tuple:\n",
    "    \n",
    "    models = list()\n",
    "    encoders = list()\n",
    "    \n",
    "    # dataframe to store the oof predictions\n",
    "    oof = dataframe[[\"target\"]].copy()\n",
    "    oof[\"pred\"] = -1\n",
    "\n",
    "    for fold in range(n_folds):\n",
    "        \n",
    "        print(f\" training model {fold+1}/{n_folds} \".center(100, \"#\"))\n",
    "        \n",
    "        train_df = dataframe.query(\"fold != @fold\").copy()\n",
    "        valid_df = dataframe.query(\"fold == @fold\").copy()\n",
    "        \n",
    "        encoder = ce.glmm.GLMMEncoder()\n",
    "        encoder.fit(train_df[categ_feats], train_df[\"target\"].values)\n",
    "        train_df[categ_feats] = encoder.transform(train_df[categ_feats])\n",
    "        valid_df[categ_feats] = encoder.transform(valid_df[categ_feats])\n",
    "        \n",
    "        scaler = StandardScaler(with_mean=True, with_std=True)\n",
    "        scaler.fit(train_df[input_feats].values)\n",
    "        train_df[input_feats] = scaler.transform(train_df[input_feats].values)\n",
    "        valid_df[input_feats] = scaler.transform(valid_df[input_feats].values)\n",
    "                        \n",
    "        train_dset = xgb.DMatrix(\n",
    "            data=train_df.loc[:,input_feats],\n",
    "            label=train_df.loc[:,\"target\"].values,\n",
    "        )\n",
    "        valid_dset = xgb.DMatrix(\n",
    "            data=valid_df.loc[:,input_feats],\n",
    "            label=valid_df.loc[:,\"target\"].values,\n",
    "        )\n",
    "        \n",
    "        model = xgb.train(\n",
    "            params = model_params,\n",
    "            dtrain=train_dset,\n",
    "            num_boost_round=MAX_ITERATIONS,\n",
    "            early_stopping_rounds=int(0.1*MAX_ITERATIONS),\n",
    "            evals=[(valid_dset,\"eval\"), ],\n",
    "            custom_metric=metric_amex,\n",
    "            maximize=True,\n",
    "            verbose_eval=20,\n",
    "        )\n",
    "        \n",
    "        #lgb.plot_importance(model, figsize=(8,15), importance_type=\"split\", max_num_features=30)\n",
    "        #lgb.plot_importance(model, figsize=(8,15), importance_type=\"gain\", max_num_features=30)\n",
    "        #plt.show()        \n",
    "        \n",
    "        oof.loc[valid_df.index,\"pred\"] = model.predict(valid_dset)\n",
    "        \n",
    "        models.append(model)\n",
    "        encoders.append(encoder)\n",
    "        del train_df,valid_df,train_dset,valid_dset\n",
    "        gc.collect()\n",
    "    \n",
    "    return models,encoders,oof"
   ]
  },
  {
   "cell_type": "code",
   "execution_count": 10,
   "id": "7c94ddda",
   "metadata": {
    "execution": {
     "iopub.execute_input": "2022-07-19T19:15:09.177309Z",
     "iopub.status.busy": "2022-07-19T19:15:09.176218Z",
     "iopub.status.idle": "2022-07-19T19:15:09.179594Z",
     "shell.execute_reply": "2022-07-19T19:15:09.179964Z"
    },
    "papermill": {
     "duration": 0.016295,
     "end_time": "2022-07-19T19:15:09.180115",
     "exception": false,
     "start_time": "2022-07-19T19:15:09.163820",
     "status": "completed"
    },
    "tags": []
   },
   "outputs": [
    {
     "data": {
      "text/plain": [
       "['../data/processed/cv0.csv',\n",
       " '../data/processed/cv1.csv',\n",
       " '../data/processed/cv2.csv',\n",
       " '../data/processed/cv3.csv',\n",
       " '../data/processed/cv4.csv',\n",
       " '../data/processed/cv5.csv',\n",
       " '../data/processed/cv6.csv',\n",
       " '../data/processed/cv7.csv',\n",
       " '../data/processed/cv8.csv',\n",
       " '../data/processed/cv9.csv']"
      ]
     },
     "execution_count": 10,
     "metadata": {},
     "output_type": "execute_result"
    }
   ],
   "source": [
    "# implement repeated cross validation\n",
    "sorted(glob(\"../data/processed/cv*.csv\"))"
   ]
  },
  {
   "cell_type": "code",
   "execution_count": 11,
   "id": "cecaa4ab",
   "metadata": {
    "execution": {
     "iopub.execute_input": "2022-07-19T19:15:09.212185Z",
     "iopub.status.busy": "2022-07-19T19:15:09.211661Z"
    },
    "papermill": {
     "duration": 114.223249,
     "end_time": "2022-07-19T19:17:03.416194",
     "exception": false,
     "start_time": "2022-07-19T19:15:09.192945",
     "status": "completed"
    },
    "tags": []
   },
   "outputs": [
    {
     "name": "stdout",
     "output_type": "stream",
     "text": [
      "############################### repeated cross-validation step: 1/3 ################################\n"
     ]
    },
    {
     "name": "stdout",
     "output_type": "stream",
     "text": [
      "######################################## training model 1/5 ########################################\n"
     ]
    },
    {
     "name": "stdout",
     "output_type": "stream",
     "text": [
      "[0]\teval-amex_metric:0.02116\n"
     ]
    },
    {
     "name": "stdout",
     "output_type": "stream",
     "text": [
      "[20]\teval-amex_metric:0.02116\n"
     ]
    }
   ],
   "source": [
    "%%time \n",
    "\n",
    "# 'feature_selector': 'cyclic',\n",
    "\n",
    "all_models = list()\n",
    "all_encoders = list()\n",
    "all_oof_dfs = list()\n",
    "\n",
    "for repetition in range(N_REPEATS):\n",
    "    print(f\" repeated cross-validation step: {repetition+1}/{N_REPEATS} \".center(100, \"#\"))\n",
    "\n",
    "    folds = pd.read_csv(f'../data/processed/cv{repetition}.csv', index_col=\"customer_ID\")\n",
    "    _train = pd.merge(train, folds, how=\"inner\", left_index=True, right_index=True).reset_index(drop=True)\n",
    "    \n",
    "    tic = time.time()\n",
    "    models,encoders,oof = train_models(_train, n_folds=5)\n",
    "    tac = time.time()\n",
    "    print(f\"Training time: {(tac-tic)/60} min.\")\n",
    "          \n",
    "    # oof metrics\n",
    "    print(\"OOF recall_at4:\", compute_recall_at4(oof.target.values, oof.pred.values))\n",
    "    print(\"OOF normalized_gini:\", compute_normalized_gini(oof.target.values, oof.pred.values))\n",
    "    print(\"OOF competition metric:\", compute_amex_metric(oof.target.values, oof.pred.values))\n",
    "    \n",
    "    all_models.append(models)\n",
    "    all_encoders.append(encoders)\n",
    "    all_oof_dfs.append(oof)\n",
    "    \n",
    "    # save oof predictions\n",
    "    oof.to_csv(OOF_PATH/f\"oof-cv{repetition}.csv\", index=False)\n",
    "    # save models\n",
    "    #for fold,_model in enumerate(models):\n",
    "    #    _model.save_model(ART_PATH/f\"/model-cv{repetition}-fold{fold}.cbm\", format=\"cbm\")\n",
    "          \n",
    "    del _train, folds; gc.collect()"
   ]
  },
  {
   "cell_type": "code",
   "execution_count": null,
   "id": "d5720b91",
   "metadata": {
    "papermill": {
     "duration": null,
     "end_time": null,
     "exception": null,
     "start_time": null,
     "status": "completed"
    },
    "tags": []
   },
   "outputs": [],
   "source": [
    "%%time \n",
    "\n",
    "# 'feature_selector': 'thrifty',\n",
    "\n",
    "all_models = list()\n",
    "all_encoders = list()\n",
    "all_oof_dfs = list()\n",
    "\n",
    "for repetition in range(N_REPEATS):\n",
    "    print(f\" repeated cross-validation step: {repetition+1}/{N_REPEATS} \".center(100, \"#\"))\n",
    "\n",
    "    folds = pd.read_csv(f'../data/processed/cv{repetition}.csv', index_col=\"customer_ID\")\n",
    "    _train = pd.merge(train, folds, how=\"inner\", left_index=True, right_index=True).reset_index(drop=True)\n",
    "    \n",
    "    tic = time.time()\n",
    "    models,encoders,oof = train_models(_train, n_folds=5)\n",
    "    tac = time.time()\n",
    "    print(f\"Training time: {(tac-tic)/60} min.\")\n",
    "          \n",
    "    # oof metrics\n",
    "    print(\"OOF recall_at4:\", compute_recall_at4(oof.target.values, oof.pred.values))\n",
    "    print(\"OOF normalized_gini:\", compute_normalized_gini(oof.target.values, oof.pred.values))\n",
    "    print(\"OOF competition metric:\", compute_amex_metric(oof.target.values, oof.pred.values))\n",
    "    \n",
    "    all_models.append(models)\n",
    "    all_encoders.append(encoders)\n",
    "    all_oof_dfs.append(oof)\n",
    "    \n",
    "    # save oof predictions\n",
    "    oof.to_csv(OOF_PATH/f\"oof-cv{repetition}.csv\", index=False)\n",
    "    # save models\n",
    "    #for fold,_model in enumerate(models):\n",
    "    #    _model.save_model(ART_PATH/f\"/model-cv{repetition}-fold{fold}.cbm\", format=\"cbm\")\n",
    "          \n",
    "    del _train, folds; gc.collect()"
   ]
  },
  {
   "cell_type": "code",
   "execution_count": null,
   "id": "6d697499",
   "metadata": {
    "papermill": {
     "duration": null,
     "end_time": null,
     "exception": null,
     "start_time": null,
     "status": "completed"
    },
    "tags": []
   },
   "outputs": [],
   "source": [
    "results = list()\n",
    "\n",
    "for oof in all_oof_dfs:  \n",
    "    r = {\n",
    "        \"recall_at4\": compute_recall_at4(oof.target.values, oof.pred.values),\n",
    "        \"gini\": compute_normalized_gini(oof.target.values, oof.pred.values),\n",
    "        \"metric\": compute_amex_metric(oof.target.values, oof.pred.values),\n",
    "    }\n",
    "    results.append(r)\n",
    "\n",
    "results = pd.DataFrame(results)\n",
    "display(results)\n",
    "\n",
    "print(\"\\nmean:\")\n",
    "display(results.mean(axis=0))\n",
    "\n",
    "print(\"\\nstd:\")\n",
    "display(results.std(axis=0))"
   ]
  },
  {
   "cell_type": "code",
   "execution_count": null,
   "id": "665bcf41",
   "metadata": {
    "papermill": {
     "duration": null,
     "end_time": null,
     "exception": null,
     "start_time": null,
     "status": "completed"
    },
    "tags": []
   },
   "outputs": [],
   "source": [
    "del train\n",
    "gc.collect()"
   ]
  },
  {
   "cell_type": "markdown",
   "id": "e4dd43a9",
   "metadata": {
    "papermill": {
     "duration": null,
     "end_time": null,
     "exception": null,
     "start_time": null,
     "status": "completed"
    },
    "tags": []
   },
   "source": [
    "***\n",
    "## make predictions and submit"
   ]
  },
  {
   "cell_type": "code",
   "execution_count": null,
   "id": "7d0f0eab",
   "metadata": {
    "papermill": {
     "duration": null,
     "end_time": null,
     "exception": null,
     "start_time": null,
     "status": "completed"
    },
    "tags": []
   },
   "outputs": [],
   "source": [
    "def make_predictions(\n",
    "        dataframe:pd.DataFrame, \n",
    "        input_feats:list,\n",
    "        categ_feats:list,\n",
    "        encoders:list,\n",
    "        models:list,\n",
    "    ) -> np.array:\n",
    "    preds = list()\n",
    "    for encoder,model in zip(encoders,models):\n",
    "        _dataframe = dataframe.copy()\n",
    "        _dataframe[categ_feats] = encoder.transform(_dataframe[categ_feats])\n",
    "        _dataframe_casted = xgb.DMatrix(data=_dataframe[input_feats])\n",
    "        preds.append( model.predict(_dataframe_casted))\n",
    "    return np.mean(preds, axis=0)   "
   ]
  },
  {
   "cell_type": "code",
   "execution_count": null,
   "id": "1b0b6d42",
   "metadata": {
    "papermill": {
     "duration": null,
     "end_time": null,
     "exception": null,
     "start_time": null,
     "status": "completed"
    },
    "tags": []
   },
   "outputs": [],
   "source": [
    "test = pd.read_parquet(f\"../data/processed/dsv{DATASET_VERSION}/test.parquet\")\n",
    "sub = pd.read_csv(\"../data/raw/sample_submission.csv\")"
   ]
  },
  {
   "cell_type": "code",
   "execution_count": null,
   "id": "5559914d",
   "metadata": {
    "papermill": {
     "duration": null,
     "end_time": null,
     "exception": null,
     "start_time": null,
     "status": "completed"
    },
    "tags": []
   },
   "outputs": [],
   "source": [
    "%%time\n",
    "\n",
    "all_preds = list()\n",
    "\n",
    "for repetition in range(N_REPEATS):\n",
    "    if \"prediction\" in sub.columns:\n",
    "        sub.drop(\"prediction\", axis=1, inplace=True)\n",
    "    if \"prediction\" in test.columns:\n",
    "        test.drop(\"prediction\", axis=1, inplace=True)\n",
    "        \n",
    "    models = all_models[repetition]\n",
    "    encoders = all_encoders[repetition]\n",
    "    preds = make_predictions(test, input_feats, categ_feats, encoders, models)\n",
    "    all_preds.append(preds)\n",
    "       \n",
    "    test[\"prediction\"] = preds\n",
    "    sub[\"prediction\"] = test.loc[sub.customer_ID.values,\"prediction\"].values\n",
    "    assert sub.prediction.isna().sum() == 0\n",
    "    sub.to_csv(SUB_PATH/f\"submission-cv{repetition}.csv\", index=False)"
   ]
  },
  {
   "cell_type": "code",
   "execution_count": null,
   "id": "e0c12187",
   "metadata": {
    "papermill": {
     "duration": null,
     "end_time": null,
     "exception": null,
     "start_time": null,
     "status": "completed"
    },
    "tags": []
   },
   "outputs": [],
   "source": [
    "%%time\n",
    "# predict using all the trained models\n",
    "if \"prediction\" in sub.columns:\n",
    "    sub.drop(\"prediction\", axis=1, inplace=True)\n",
    "if \"prediction\" in test.columns:\n",
    "    test.drop(\"prediction\", axis=1, inplace=True)\n",
    "\n",
    "test[\"prediction\"] = np.mean(all_preds, axis=0)\n",
    "sub[\"prediction\"] = test.loc[sub.customer_ID.values,\"prediction\"].values\n",
    "assert sub.prediction.isna().sum() == 0\n",
    "sub.to_csv(SUB_PATH/f\"submission-all.csv\", index=False)"
   ]
  },
  {
   "cell_type": "markdown",
   "id": "eea2f844",
   "metadata": {
    "papermill": {
     "duration": null,
     "end_time": null,
     "exception": null,
     "start_time": null,
     "status": "completed"
    },
    "tags": []
   },
   "source": [
    "***"
   ]
  }
 ],
 "metadata": {
  "kernelspec": {
   "display_name": "Python 3 (ipykernel)",
   "language": "python",
   "name": "python3"
  },
  "language_info": {
   "codemirror_mode": {
    "name": "ipython",
    "version": 3
   },
   "file_extension": ".py",
   "mimetype": "text/x-python",
   "name": "python",
   "nbconvert_exporter": "python",
   "pygments_lexer": "ipython3",
   "version": "3.7.12"
  },
  "papermill": {
   "default_parameters": {},
   "duration": 126.008224,
   "end_time": "2022-07-19T19:17:04.267920",
   "environment_variables": {},
   "exception": null,
   "input_path": "train/xgboost-gblinear.ipynb",
   "output_path": "train/outputs/xgboost-gblinear.ipynb",
   "parameters": {},
   "start_time": "2022-07-19T19:14:58.259696",
   "version": "2.3.3"
  }
 },
 "nbformat": 4,
 "nbformat_minor": 5
}