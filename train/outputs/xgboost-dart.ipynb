{
 "cells": [
  {
   "cell_type": "code",
   "execution_count": 1,
   "id": "5f5ae364",
   "metadata": {
    "_cell_guid": "b1076dfc-b9ad-4769-8c92-a6c4dae69d19",
    "_uuid": "8f2839f25d086af736a60e9eeb907d3b93b6e0e5",
    "execution": {
     "iopub.execute_input": "2022-07-15T16:11:17.775842Z",
     "iopub.status.busy": "2022-07-15T16:11:17.775349Z",
     "iopub.status.idle": "2022-07-15T16:11:18.326704Z",
     "shell.execute_reply": "2022-07-15T16:11:18.326156Z"
    },
    "papermill": {
     "duration": 0.573343,
     "end_time": "2022-07-15T16:11:18.326843",
     "exception": false,
     "start_time": "2022-07-15T16:11:17.753500",
     "status": "completed"
    },
    "tags": []
   },
   "outputs": [],
   "source": [
    "import gc\n",
    "from glob import glob\n",
    "import numpy as np\n",
    "import pandas as pd\n",
    "import matplotlib.pyplot as plt\n",
    "from pathlib import Path\n",
    "import time\n",
    "from typing import Tuple\n",
    "\n",
    "import category_encoders as ce\n",
    "import xgboost as xgb\n",
    "from sklearn import metrics\n",
    "\n",
    "import sys\n",
    "sys.path.append(\"../utils\")\n",
    "from metrics import compute_recall_at4, compute_normalized_gini, compute_amex_metric\n",
    "#from messaging import send_message\n",
    "\n",
    "pd.set_option('display.max_columns', None)"
   ]
  },
  {
   "cell_type": "code",
   "execution_count": 2,
   "id": "fb1aca4a",
   "metadata": {
    "execution": {
     "iopub.execute_input": "2022-07-15T16:11:18.354468Z",
     "iopub.status.busy": "2022-07-15T16:11:18.353905Z",
     "iopub.status.idle": "2022-07-15T16:11:18.356042Z",
     "shell.execute_reply": "2022-07-15T16:11:18.355644Z"
    },
    "papermill": {
     "duration": 0.017896,
     "end_time": "2022-07-15T16:11:18.356159",
     "exception": false,
     "start_time": "2022-07-15T16:11:18.338263",
     "status": "completed"
    },
    "tags": []
   },
   "outputs": [],
   "source": [
    "# metrics in xgboost format\n",
    "\n",
    "def metric_recall_at4(predt: np.ndarray, dtrain: xgb.DMatrix) -> Tuple[str, float]:\n",
    "    y_true = dtrain.get_label()\n",
    "    return 'recall_at4', compute_recall_at4(y_true, predt)\n",
    "\n",
    "def metric_normalized_gini(predt: np.ndarray, dtrain: xgb.DMatrix) -> Tuple[str, float]:\n",
    "    y_true = dtrain.get_label()\n",
    "    return 'norm_gini', compute_normalized_gini(y_true, predt)\n",
    "\n",
    "def metric_amex(predt: np.ndarray, dtrain: xgb.DMatrix) -> Tuple[str, float]:\n",
    "    y_true = dtrain.get_label()\n",
    "    return 'amex_metric', compute_amex_metric(y_true, predt)"
   ]
  },
  {
   "cell_type": "code",
   "execution_count": 3,
   "id": "e0c6ad59",
   "metadata": {
    "execution": {
     "iopub.execute_input": "2022-07-15T16:11:18.380670Z",
     "iopub.status.busy": "2022-07-15T16:11:18.380185Z",
     "iopub.status.idle": "2022-07-15T16:11:18.382362Z",
     "shell.execute_reply": "2022-07-15T16:11:18.381828Z"
    },
    "papermill": {
     "duration": 0.01568,
     "end_time": "2022-07-15T16:11:18.382469",
     "exception": false,
     "start_time": "2022-07-15T16:11:18.366789",
     "status": "completed"
    },
    "tags": []
   },
   "outputs": [],
   "source": [
    "# CONFIG PARAMS\n",
    "N_REPEATS = 1\n",
    "MAX_ITERATIONS = 5000"
   ]
  },
  {
   "cell_type": "code",
   "execution_count": 4,
   "id": "4f7bcbcb",
   "metadata": {
    "execution": {
     "iopub.execute_input": "2022-07-15T16:11:18.408475Z",
     "iopub.status.busy": "2022-07-15T16:11:18.407924Z",
     "iopub.status.idle": "2022-07-15T16:11:18.409716Z",
     "shell.execute_reply": "2022-07-15T16:11:18.410110Z"
    },
    "papermill": {
     "duration": 0.017105,
     "end_time": "2022-07-15T16:11:18.410239",
     "exception": false,
     "start_time": "2022-07-15T16:11:18.393134",
     "status": "completed"
    },
    "tags": []
   },
   "outputs": [],
   "source": [
    "OOF_PATH = Path(\"../data/oof/xgboost-dart-dsv02\")\n",
    "SUB_PATH = Path(\"../data/subs/xgboost-dart-dsv02\")\n",
    "ART_PATH = Path(\"../artifacts/xgboost-dart-dsv02\")\n",
    "\n",
    "if not OOF_PATH.exists():\n",
    "    OOF_PATH.mkdir(parents=True, exist_ok=True)\n",
    "if not SUB_PATH.exists():\n",
    "    SUB_PATH.mkdir(parents=True, exist_ok=True)\n",
    "if not ART_PATH.exists():\n",
    "    ART_PATH.mkdir(parents=True, exist_ok=True)"
   ]
  },
  {
   "cell_type": "markdown",
   "id": "5370337b",
   "metadata": {
    "papermill": {
     "duration": 0.010777,
     "end_time": "2022-07-15T16:11:18.431926",
     "exception": false,
     "start_time": "2022-07-15T16:11:18.421149",
     "status": "completed"
    },
    "tags": []
   },
   "source": [
    "***\n",
    "## load and prepare data"
   ]
  },
  {
   "cell_type": "code",
   "execution_count": 5,
   "id": "ee5e4a9a",
   "metadata": {
    "execution": {
     "iopub.execute_input": "2022-07-15T16:11:18.457516Z",
     "iopub.status.busy": "2022-07-15T16:11:18.456963Z",
     "iopub.status.idle": "2022-07-15T16:11:18.578042Z",
     "shell.execute_reply": "2022-07-15T16:11:18.577577Z"
    },
    "papermill": {
     "duration": 0.135191,
     "end_time": "2022-07-15T16:11:18.578186",
     "exception": false,
     "start_time": "2022-07-15T16:11:18.442995",
     "status": "completed"
    },
    "tags": []
   },
   "outputs": [
    {
     "name": "stdout",
     "output_type": "stream",
     "text": [
      "test.parquet  train.parquet\r\n"
     ]
    }
   ],
   "source": [
    "!ls ../data/processed/dsv02"
   ]
  },
  {
   "cell_type": "code",
   "execution_count": 6,
   "id": "bcbaf150",
   "metadata": {
    "execution": {
     "iopub.execute_input": "2022-07-15T16:11:18.606821Z",
     "iopub.status.busy": "2022-07-15T16:11:18.605503Z",
     "iopub.status.idle": "2022-07-15T16:11:20.730655Z",
     "shell.execute_reply": "2022-07-15T16:11:20.731050Z"
    },
    "papermill": {
     "duration": 2.141159,
     "end_time": "2022-07-15T16:11:20.731219",
     "exception": false,
     "start_time": "2022-07-15T16:11:18.590060",
     "status": "completed"
    },
    "tags": []
   },
   "outputs": [],
   "source": [
    "train = pd.read_parquet(\"../data/processed/dsv02/train.parquet\")\n",
    "train_labels = pd.read_csv(\"../data/raw/train_labels.csv\", index_col=\"customer_ID\")"
   ]
  },
  {
   "cell_type": "code",
   "execution_count": 7,
   "id": "28793ec1",
   "metadata": {
    "execution": {
     "iopub.execute_input": "2022-07-15T16:11:20.761732Z",
     "iopub.status.busy": "2022-07-15T16:11:20.761017Z",
     "iopub.status.idle": "2022-07-15T16:11:20.764130Z",
     "shell.execute_reply": "2022-07-15T16:11:20.763671Z"
    },
    "papermill": {
     "duration": 0.021459,
     "end_time": "2022-07-15T16:11:20.764245",
     "exception": false,
     "start_time": "2022-07-15T16:11:20.742786",
     "status": "completed"
    },
    "tags": []
   },
   "outputs": [
    {
     "data": {
      "text/plain": [
       "1562"
      ]
     },
     "execution_count": 7,
     "metadata": {},
     "output_type": "execute_result"
    }
   ],
   "source": [
    "input_feats = train.columns.tolist()\n",
    "categ_feats = [\n",
    "    'B_30_first', 'B_38_first', 'D_114_first', 'D_116_first', 'D_117_first', \n",
    "    'D_120_first', 'D_126_first', 'D_63_first', 'D_64_first', 'D_66_first', 'D_68_first',\n",
    "    'B_30_last', 'B_38_last', 'D_114_last', 'D_116_last', 'D_117_last', \n",
    "    'D_120_last', 'D_126_last', 'D_63_last', 'D_64_last', 'D_66_last', 'D_68_last',\n",
    "]\n",
    "len(input_feats)"
   ]
  },
  {
   "cell_type": "code",
   "execution_count": 8,
   "id": "62bc8d30",
   "metadata": {
    "execution": {
     "iopub.execute_input": "2022-07-15T16:11:20.985949Z",
     "iopub.status.busy": "2022-07-15T16:11:20.984280Z",
     "iopub.status.idle": "2022-07-15T16:11:23.055126Z",
     "shell.execute_reply": "2022-07-15T16:11:23.055503Z"
    },
    "papermill": {
     "duration": 2.279502,
     "end_time": "2022-07-15T16:11:23.055663",
     "exception": false,
     "start_time": "2022-07-15T16:11:20.776161",
     "status": "completed"
    },
    "tags": []
   },
   "outputs": [
    {
     "data": {
      "text/plain": [
       "517"
      ]
     },
     "execution_count": 8,
     "metadata": {},
     "output_type": "execute_result"
    }
   ],
   "source": [
    "train = pd.merge(train, train_labels, how=\"inner\", left_index=True, right_index=True)\n",
    "del train_labels\n",
    "gc.collect()"
   ]
  },
  {
   "cell_type": "markdown",
   "id": "52ca6ccd",
   "metadata": {
    "papermill": {
     "duration": 0.012024,
     "end_time": "2022-07-15T16:11:23.079821",
     "exception": false,
     "start_time": "2022-07-15T16:11:23.067797",
     "status": "completed"
    },
    "tags": []
   },
   "source": [
    "***\n",
    "## model training\n",
    "\n",
    "train with repeated cross validation"
   ]
  },
  {
   "cell_type": "code",
   "execution_count": 9,
   "id": "87fb38f4",
   "metadata": {
    "execution": {
     "iopub.execute_input": "2022-07-15T16:11:23.109082Z",
     "iopub.status.busy": "2022-07-15T16:11:23.108536Z",
     "iopub.status.idle": "2022-07-15T16:11:23.110348Z",
     "shell.execute_reply": "2022-07-15T16:11:23.110714Z"
    },
    "papermill": {
     "duration": 0.018828,
     "end_time": "2022-07-15T16:11:23.110850",
     "exception": false,
     "start_time": "2022-07-15T16:11:23.092022",
     "status": "completed"
    },
    "tags": []
   },
   "outputs": [],
   "source": [
    "model_params = {\n",
    "    'objective':'binary:logistic',\n",
    "    'seed':2112,\n",
    "    'booster': 'dart',\n",
    "    'disable_default_eval_metric':True,\n",
    "    'eta': 0.05,\n",
    "    'max_depth': 5,\n",
    "    'min_child_weight': 500,\n",
    "    'subsample':0.95,\n",
    "    'colsample_bytree':0.2,\n",
    "    'alpha':10,\n",
    "    'lambda':1,\n",
    "    'tree_method':'hist',\n",
    "    'grow_policy':'depthwise',\n",
    "    'max_bin':256,\n",
    "    # dart parameters\n",
    "    'sample_type':'uniform',\n",
    "    'normalize_type':'tree',\n",
    "    'rate_drop':0.05,\n",
    "    'skip_drop':0.5,\n",
    "}"
   ]
  },
  {
   "cell_type": "code",
   "execution_count": 10,
   "id": "e44a6853",
   "metadata": {
    "execution": {
     "iopub.execute_input": "2022-07-15T16:11:23.143954Z",
     "iopub.status.busy": "2022-07-15T16:11:23.143394Z",
     "iopub.status.idle": "2022-07-15T16:11:23.145174Z",
     "shell.execute_reply": "2022-07-15T16:11:23.145535Z"
    },
    "papermill": {
     "duration": 0.022845,
     "end_time": "2022-07-15T16:11:23.145672",
     "exception": false,
     "start_time": "2022-07-15T16:11:23.122827",
     "status": "completed"
    },
    "tags": []
   },
   "outputs": [],
   "source": [
    "def train_models(dataframe: pd.DataFrame, n_folds: int = 5,) -> tuple:\n",
    "    \n",
    "    models = list()\n",
    "    encoders = list()\n",
    "    \n",
    "    # dataframe to store the oof predictions\n",
    "    oof = dataframe[[\"target\"]].copy()\n",
    "    oof[\"pred\"] = -1\n",
    "\n",
    "    for fold in range(n_folds):\n",
    "        \n",
    "        print(f\" training model {fold+1}/{n_folds} \".center(100, \"#\"))\n",
    "        \n",
    "        train_df = dataframe.query(\"fold != @fold\").copy()\n",
    "        valid_df = dataframe.query(\"fold == @fold\").copy()\n",
    "        \n",
    "        encoder = ce.glmm.GLMMEncoder()\n",
    "        encoder.fit(train_df[categ_feats], train_df[\"target\"].values)\n",
    "        train_df[categ_feats] = encoder.transform(train_df[categ_feats])\n",
    "        valid_df[categ_feats] = encoder.transform(valid_df[categ_feats])\n",
    "                        \n",
    "        train_dset = xgb.DMatrix(\n",
    "            data=train_df.loc[:,input_feats],\n",
    "            label=train_df.loc[:,\"target\"].values,\n",
    "        )\n",
    "        valid_dset = xgb.DMatrix(\n",
    "            data=valid_df.loc[:,input_feats],\n",
    "            label=valid_df.loc[:,\"target\"].values,\n",
    "        )\n",
    "        \n",
    "        model = xgb.train(\n",
    "            params = model_params,\n",
    "            dtrain=train_dset,\n",
    "            num_boost_round=MAX_ITERATIONS,\n",
    "            #early_stopping_rounds=300,\n",
    "            evals=[(valid_dset,\"eval\"), ],\n",
    "            custom_metric=metric_amex,\n",
    "            maximize=True,\n",
    "            verbose_eval=20,\n",
    "        )\n",
    "        \n",
    "        #lgb.plot_importance(model, figsize=(8,15), importance_type=\"split\", max_num_features=30)\n",
    "        #lgb.plot_importance(model, figsize=(8,15), importance_type=\"gain\", max_num_features=30)\n",
    "        #plt.show()        \n",
    "        \n",
    "        oof.loc[valid_df.index,\"pred\"] = model.predict(valid_dset, iteration_range=(0,MAX_ITERATIONS))\n",
    "        \n",
    "        models.append(model)\n",
    "        encoders.append(encoder)\n",
    "        del train_df,valid_df,train_dset,valid_dset\n",
    "        gc.collect()\n",
    "    \n",
    "    return models,encoders,oof"
   ]
  },
  {
   "cell_type": "code",
   "execution_count": 11,
   "id": "538f7089",
   "metadata": {
    "execution": {
     "iopub.execute_input": "2022-07-15T16:11:23.170451Z",
     "iopub.status.busy": "2022-07-15T16:11:23.169901Z",
     "iopub.status.idle": "2022-07-15T16:11:23.173429Z",
     "shell.execute_reply": "2022-07-15T16:11:23.173782Z"
    },
    "papermill": {
     "duration": 0.016325,
     "end_time": "2022-07-15T16:11:23.173913",
     "exception": false,
     "start_time": "2022-07-15T16:11:23.157588",
     "status": "completed"
    },
    "tags": []
   },
   "outputs": [
    {
     "data": {
      "text/plain": [
       "['../data/processed/cv0.csv',\n",
       " '../data/processed/cv1.csv',\n",
       " '../data/processed/cv2.csv',\n",
       " '../data/processed/cv3.csv',\n",
       " '../data/processed/cv4.csv',\n",
       " '../data/processed/cv5.csv',\n",
       " '../data/processed/cv6.csv',\n",
       " '../data/processed/cv7.csv',\n",
       " '../data/processed/cv8.csv',\n",
       " '../data/processed/cv9.csv']"
      ]
     },
     "execution_count": 11,
     "metadata": {},
     "output_type": "execute_result"
    }
   ],
   "source": [
    "# implement repeated cross validation\n",
    "sorted(glob(\"../data/processed/cv*.csv\"))"
   ]
  },
  {
   "cell_type": "code",
   "execution_count": 12,
   "id": "73b17f43",
   "metadata": {
    "execution": {
     "iopub.execute_input": "2022-07-15T16:11:23.204916Z",
     "iopub.status.busy": "2022-07-15T16:11:23.204320Z"
    },
    "papermill": {
     "duration": 33410.34126,
     "end_time": "2022-07-16T01:28:13.527634",
     "exception": false,
     "start_time": "2022-07-15T16:11:23.186374",
     "status": "completed"
    },
    "tags": []
   },
   "outputs": [
    {
     "name": "stdout",
     "output_type": "stream",
     "text": [
      "############################### repeated cross-validation step: 1/1 ################################\n"
     ]
    },
    {
     "name": "stdout",
     "output_type": "stream",
     "text": [
      "######################################## training model 1/1 ########################################\n"
     ]
    },
    {
     "name": "stdout",
     "output_type": "stream",
     "text": [
      "[0]\teval-amex_metric:0.67798\n"
     ]
    },
    {
     "name": "stdout",
     "output_type": "stream",
     "text": [
      "[20]\teval-amex_metric:0.74552\n"
     ]
    },
    {
     "name": "stdout",
     "output_type": "stream",
     "text": [
      "[40]\teval-amex_metric:0.75533\n"
     ]
    },
    {
     "name": "stdout",
     "output_type": "stream",
     "text": [
      "[60]\teval-amex_metric:0.76387\n"
     ]
    },
    {
     "name": "stdout",
     "output_type": "stream",
     "text": [
      "[80]\teval-amex_metric:0.76650\n"
     ]
    },
    {
     "name": "stdout",
     "output_type": "stream",
     "text": [
      "[100]\teval-amex_metric:0.76929\n"
     ]
    },
    {
     "name": "stdout",
     "output_type": "stream",
     "text": [
      "[120]\teval-amex_metric:0.77217\n"
     ]
    },
    {
     "name": "stdout",
     "output_type": "stream",
     "text": [
      "[140]\teval-amex_metric:0.77435\n"
     ]
    },
    {
     "name": "stdout",
     "output_type": "stream",
     "text": [
      "[160]\teval-amex_metric:0.77692\n"
     ]
    },
    {
     "name": "stdout",
     "output_type": "stream",
     "text": [
      "[180]\teval-amex_metric:0.77870\n"
     ]
    },
    {
     "name": "stdout",
     "output_type": "stream",
     "text": [
      "[200]\teval-amex_metric:0.78033\n"
     ]
    },
    {
     "name": "stdout",
     "output_type": "stream",
     "text": [
      "[220]\teval-amex_metric:0.78138\n"
     ]
    },
    {
     "name": "stdout",
     "output_type": "stream",
     "text": [
      "[240]\teval-amex_metric:0.78196\n"
     ]
    },
    {
     "name": "stdout",
     "output_type": "stream",
     "text": [
      "[260]\teval-amex_metric:0.78356\n"
     ]
    },
    {
     "name": "stdout",
     "output_type": "stream",
     "text": [
      "[280]\teval-amex_metric:0.78464\n"
     ]
    },
    {
     "name": "stdout",
     "output_type": "stream",
     "text": [
      "[300]\teval-amex_metric:0.78532\n"
     ]
    },
    {
     "name": "stdout",
     "output_type": "stream",
     "text": [
      "[320]\teval-amex_metric:0.78587\n"
     ]
    },
    {
     "name": "stdout",
     "output_type": "stream",
     "text": [
      "[340]\teval-amex_metric:0.78594\n"
     ]
    },
    {
     "name": "stdout",
     "output_type": "stream",
     "text": [
      "[360]\teval-amex_metric:0.78630\n"
     ]
    },
    {
     "name": "stdout",
     "output_type": "stream",
     "text": [
      "[380]\teval-amex_metric:0.78707\n"
     ]
    },
    {
     "name": "stdout",
     "output_type": "stream",
     "text": [
      "[400]\teval-amex_metric:0.78796\n"
     ]
    },
    {
     "name": "stdout",
     "output_type": "stream",
     "text": [
      "[420]\teval-amex_metric:0.78819\n"
     ]
    },
    {
     "name": "stdout",
     "output_type": "stream",
     "text": [
      "[440]\teval-amex_metric:0.78914\n"
     ]
    }
   ],
   "source": [
    "%%time \n",
    "\n",
    "all_models = list()\n",
    "all_encoders = list()\n",
    "all_oof_dfs = list()\n",
    "\n",
    "for repetition in range(N_REPEATS):\n",
    "    print(f\" repeated cross-validation step: {repetition+1}/{N_REPEATS} \".center(100, \"#\"))\n",
    "\n",
    "    folds = pd.read_csv(f'../data/processed/cv{repetition}.csv', index_col=\"customer_ID\")\n",
    "    _train = pd.merge(train, folds, how=\"inner\", left_index=True, right_index=True).reset_index(drop=True)\n",
    "    \n",
    "    tic = time.time()\n",
    "    models,encoders,oof = train_models(_train, n_folds=1)\n",
    "    tac = time.time()\n",
    "    print(f\"Training time: {(tac-tic)/60} min.\")\n",
    "          \n",
    "    # oof metrics\n",
    "    print(\"OOF recall_at4:\", compute_recall_at4(oof.target.values, oof.pred.values))\n",
    "    print(\"OOF normalized_gini:\", compute_normalized_gini(oof.target.values, oof.pred.values))\n",
    "    print(\"OOF competition metric:\", compute_amex_metric(oof.target.values, oof.pred.values))\n",
    "    \n",
    "    all_models.append(models)\n",
    "    all_encoders.append(encoders)\n",
    "    all_oof_dfs.append(oof)\n",
    "    \n",
    "    # save oof predictions\n",
    "    oof.to_csv(OOF_PATH/f\"oof-cv{repetition}.csv\", index=False)\n",
    "    # save models\n",
    "    #for fold,_model in enumerate(models):\n",
    "    #    _model.save_model(ART_PATH/f\"/model-cv{repetition}-fold{fold}.cbm\", format=\"cbm\")\n",
    "          \n",
    "    del _train, folds; gc.collect()"
   ]
  },
  {
   "cell_type": "code",
   "execution_count": null,
   "id": "5d75eb8f",
   "metadata": {
    "papermill": {
     "duration": null,
     "end_time": null,
     "exception": null,
     "start_time": null,
     "status": "completed"
    },
    "tags": []
   },
   "outputs": [],
   "source": [
    "results = list()\n",
    "\n",
    "for oof in all_oof_dfs:  \n",
    "    r = {\n",
    "        \"recall_at4\": compute_recall_at4(oof.target.values, oof.pred.values),\n",
    "        \"gini\": compute_normalized_gini(oof.target.values, oof.pred.values),\n",
    "        \"metric\": compute_amex_metric(oof.target.values, oof.pred.values),\n",
    "    }\n",
    "    results.append(r)\n",
    "\n",
    "results = pd.DataFrame(results)\n",
    "display(results)\n",
    "\n",
    "print(\"\\nmean:\")\n",
    "display(results.mean(axis=0))\n",
    "\n",
    "print(\"\\nstd:\")\n",
    "display(results.std(axis=0))"
   ]
  },
  {
   "cell_type": "code",
   "execution_count": null,
   "id": "d2d8caac",
   "metadata": {
    "papermill": {
     "duration": null,
     "end_time": null,
     "exception": null,
     "start_time": null,
     "status": "completed"
    },
    "tags": []
   },
   "outputs": [],
   "source": [
    "del train\n",
    "gc.collect()"
   ]
  },
  {
   "cell_type": "markdown",
   "id": "342e6d45",
   "metadata": {
    "papermill": {
     "duration": null,
     "end_time": null,
     "exception": null,
     "start_time": null,
     "status": "completed"
    },
    "tags": []
   },
   "source": [
    "***\n",
    "## make predictions and submit"
   ]
  },
  {
   "cell_type": "code",
   "execution_count": null,
   "id": "71b1540f",
   "metadata": {
    "papermill": {
     "duration": null,
     "end_time": null,
     "exception": null,
     "start_time": null,
     "status": "completed"
    },
    "tags": []
   },
   "outputs": [],
   "source": [
    "def make_predictions(\n",
    "        dataframe:pd.DataFrame, \n",
    "        input_feats:list,\n",
    "        categ_feats:list,\n",
    "        encoders:list,\n",
    "        models:list,\n",
    "    ) -> np.array:\n",
    "    preds = list()\n",
    "    for encoder,model in zip(encoders,models):\n",
    "        _dataframe = dataframe.copy()\n",
    "        _dataframe[categ_feats] = encoder.transform(_dataframe[categ_feats])\n",
    "        _dataframe_casted = xgb.DMatrix(data=_dataframe[input_feats])\n",
    "        preds.append( model.predict(_dataframe_casted, iteration_range=(0,MAX_ITERATIONS)))\n",
    "    return np.mean(preds, axis=0)   "
   ]
  },
  {
   "cell_type": "code",
   "execution_count": null,
   "id": "b183b7a4",
   "metadata": {
    "papermill": {
     "duration": null,
     "end_time": null,
     "exception": null,
     "start_time": null,
     "status": "completed"
    },
    "tags": []
   },
   "outputs": [],
   "source": [
    "test = pd.read_parquet(\"../data/processed/dsv02/test.parquet\")\n",
    "sub = pd.read_csv(\"../data/raw/sample_submission.csv\")"
   ]
  },
  {
   "cell_type": "code",
   "execution_count": null,
   "id": "c175154e",
   "metadata": {
    "papermill": {
     "duration": null,
     "end_time": null,
     "exception": null,
     "start_time": null,
     "status": "completed"
    },
    "tags": []
   },
   "outputs": [],
   "source": [
    "%%time\n",
    "\n",
    "all_preds = list()\n",
    "\n",
    "for repetition in range(N_REPEATS):\n",
    "    if \"prediction\" in sub.columns:\n",
    "        sub.drop(\"prediction\", axis=1, inplace=True)\n",
    "    if \"prediction\" in test.columns:\n",
    "        test.drop(\"prediction\", axis=1, inplace=True)\n",
    "        \n",
    "    models = all_models[repetition]\n",
    "    encoders = all_encoders[repetition]\n",
    "    preds = make_predictions(test, input_feats, categ_feats, encoders, models)\n",
    "    all_preds.append(preds)\n",
    "       \n",
    "    test[\"prediction\"] = preds\n",
    "    sub[\"prediction\"] = test.loc[sub.customer_ID.values,\"prediction\"].values\n",
    "    assert sub.prediction.isna().sum() == 0\n",
    "    sub.to_csv(SUB_PATH/f\"submission-cv{repetition}.csv\", index=False)"
   ]
  },
  {
   "cell_type": "code",
   "execution_count": null,
   "id": "58ee242a",
   "metadata": {
    "papermill": {
     "duration": null,
     "end_time": null,
     "exception": null,
     "start_time": null,
     "status": "completed"
    },
    "tags": []
   },
   "outputs": [],
   "source": [
    "%%time\n",
    "# predict using all the trained models\n",
    "if \"prediction\" in sub.columns:\n",
    "    sub.drop(\"prediction\", axis=1, inplace=True)\n",
    "if \"prediction\" in test.columns:\n",
    "    test.drop(\"prediction\", axis=1, inplace=True)\n",
    "\n",
    "test[\"prediction\"] = np.mean(all_preds, axis=0)\n",
    "sub[\"prediction\"] = test.loc[sub.customer_ID.values,\"prediction\"].values\n",
    "assert sub.prediction.isna().sum() == 0\n",
    "sub.to_csv(SUB_PATH/f\"submission-all.csv\", index=False)"
   ]
  },
  {
   "cell_type": "markdown",
   "id": "0757dd1b",
   "metadata": {
    "papermill": {
     "duration": null,
     "end_time": null,
     "exception": null,
     "start_time": null,
     "status": "completed"
    },
    "tags": []
   },
   "source": [
    "***"
   ]
  }
 ],
 "metadata": {
  "kernelspec": {
   "display_name": "Python 3 (ipykernel)",
   "language": "python",
   "name": "python3"
  },
  "language_info": {
   "codemirror_mode": {
    "name": "ipython",
    "version": 3
   },
   "file_extension": ".py",
   "mimetype": "text/x-python",
   "name": "python",
   "nbconvert_exporter": "python",
   "pygments_lexer": "ipython3",
   "version": "3.7.12"
  },
  "papermill": {
   "default_parameters": {},
   "duration": 33424.011464,
   "end_time": "2022-07-16T01:28:16.730238",
   "environment_variables": {},
   "exception": null,
   "input_path": "train/xgboost-dart-dsv02.ipynb",
   "output_path": "train/outputs/xgboost-dart-dsv02.ipynb",
   "parameters": {},
   "start_time": "2022-07-15T16:11:12.718774",
   "version": "2.3.3"
  }
 },
 "nbformat": 4,
 "nbformat_minor": 5
}