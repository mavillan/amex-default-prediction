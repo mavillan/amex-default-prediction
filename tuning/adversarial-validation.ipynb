{
 "cells": [
  {
   "cell_type": "code",
   "execution_count": null,
   "id": "f7f97b71-4097-487c-a3b9-ba5378fff7e6",
   "metadata": {},
   "outputs": [],
   "source": [
    "import gc\n",
    "from glob import glob\n",
    "import numpy as np\n",
    "import pandas as pd\n",
    "import matplotlib.pyplot as plt\n",
    "from pathlib import Path\n",
    "import time\n",
    "import re\n",
    "\n",
    "import category_encoders as ce\n",
    "import lightgbm as lgb\n",
    "\n",
    "from sklearn import metrics\n",
    "from sklearn.model_selection import StratifiedKFold\n",
    "\n",
    "pd.set_option('display.max_columns', None)"
   ]
  },
  {
   "cell_type": "code",
   "execution_count": null,
   "id": "e761634d-8b85-4bfa-8f3d-6691cabeae62",
   "metadata": {},
   "outputs": [],
   "source": [
    "DATASET_VERSION = \"06\""
   ]
  },
  {
   "cell_type": "markdown",
   "id": "4878a632-2494-4303-9985-1d4c7dc8416f",
   "metadata": {},
   "source": [
    "***\n",
    "## loading data"
   ]
  },
  {
   "cell_type": "code",
   "execution_count": null,
   "id": "cf1320c7-2ea0-4316-ba30-14cf4c2c2503",
   "metadata": {},
   "outputs": [],
   "source": [
    "raw = pd.read_parquet(\n",
    "    \"../data/ext/amex-data-integer-dtypes-parquet-format/test.parquet\", \n",
    "    columns=[\"customer_ID\",\"S_2\"]\n",
    ")\n",
    "raw[\"S_2\"] = pd.to_datetime(raw[\"S_2\"])\n",
    "raw = raw.groupby(\"customer_ID\")[\"S_2\"].max().reset_index()\n",
    "raw[\"S_2_month\"] = raw.S_2.dt.month\n",
    "raw.loc[raw.query(\"S_2_month == 4\").index,\"which\"]  = \"pub\"\n",
    "raw.loc[raw.query(\"S_2_month == 10\").index,\"which\"] = \"priv\"\n",
    "raw"
   ]
  },
  {
   "cell_type": "code",
   "execution_count": null,
   "id": "f02453a2-c0dd-4179-9489-9b1cbcba8ccc",
   "metadata": {},
   "outputs": [],
   "source": [
    "raw = raw[[\"customer_ID\",\"which\"]].set_index(\"customer_ID\")\n",
    "raw"
   ]
  },
  {
   "cell_type": "code",
   "execution_count": null,
   "id": "ea1ec598-f3fb-4cdf-88c2-24e9054e8ce2",
   "metadata": {},
   "outputs": [],
   "source": [
    "train = pd.read_parquet(f\"../data/processed/dsv{DATASET_VERSION}/train.parquet\")\n",
    "test = pd.read_parquet(f\"../data/processed/dsv{DATASET_VERSION}/test.parquet\")"
   ]
  },
  {
   "cell_type": "code",
   "execution_count": null,
   "id": "3b8f94c4-7dd6-4282-aa58-b211900649d2",
   "metadata": {},
   "outputs": [],
   "source": [
    "test = pd.merge(test, raw, how=\"inner\", left_index=True, right_index=True)\n",
    "test_pub = test.query(\"which == 'pub'\").copy()\n",
    "test_priv = test.query(\"which == 'priv'\").copy()\n",
    "del test; gc.collect()"
   ]
  },
  {
   "cell_type": "code",
   "execution_count": null,
   "id": "07e612e3-5f1c-4ba9-bc94-fdf56b6200d3",
   "metadata": {},
   "outputs": [],
   "source": [
    "input_feats = train.columns.tolist()\n",
    "len(input_feats)"
   ]
  },
  {
   "cell_type": "code",
   "execution_count": null,
   "id": "257b146d-c937-4623-9efe-be3646b5f76f",
   "metadata": {},
   "outputs": [],
   "source": [
    "train[\"target\"] = 0\n",
    "test_pub[\"target\"] = 1\n",
    "test_priv[\"target\"] = 1"
   ]
  },
  {
   "cell_type": "code",
   "execution_count": null,
   "id": "c2db9ff0-1ba2-4c02-8a8c-b9e5b7992705",
   "metadata": {},
   "outputs": [],
   "source": [
    "#dset = pd.concat([train,test_pub], ignore_index=True)\n",
    "dset = pd.concat([train,test_priv], ignore_index=True)\n",
    "dset.target.value_counts() "
   ]
  },
  {
   "cell_type": "markdown",
   "id": "298e71e0-af5c-4f78-aab1-c3f196ce2a24",
   "metadata": {},
   "source": [
    "***\n",
    "## removes some known different features"
   ]
  },
  {
   "cell_type": "code",
   "execution_count": null,
   "id": "dc9a48ca-fbe0-443f-8b7e-bc3c99a1eae0",
   "metadata": {},
   "outputs": [],
   "source": [
    "feats_to_remove = list()\n",
    "\n",
    "_group = list(filter(re.compile(\".*B_29_.*\").match, input_feats))\n",
    "print(_group, \"\\n\")\n",
    "feats_to_remove.extend(_group)\n",
    "\n",
    "_group = list(filter(re.compile(\".*S_9_.*\").match, input_feats))\n",
    "print(_group, \"\\n\")\n",
    "feats_to_remove.extend(_group)\n",
    "\n",
    "_group = list(filter(re.compile(\".*R_1_.*\").match, input_feats))\n",
    "print(_group, \"\\n\")\n",
    "feats_to_remove.extend(_group)\n",
    "\n",
    "_group = list(filter(re.compile(\".*D_59_.*\").match, input_feats))\n",
    "print(_group, \"\\n\")\n",
    "feats_to_remove.extend(_group)\n",
    "\n",
    "_group = list(filter(re.compile(\".*S_11_.*\").match, input_feats))\n",
    "print(_group, \"\\n\")\n",
    "feats_to_remove.extend(_group)\n",
    "\n",
    "_group = list(filter(re.compile(\".*S_9_.*\").match, input_feats))\n",
    "print(_group, \"\\n\")\n",
    "feats_to_remove.extend(_group)\n",
    "\n",
    "_group = list(filter(re.compile(\".*D_121_.*\").match, input_feats))\n",
    "print(_group, \"\\n\")\n",
    "feats_to_remove.extend(_group)"
   ]
  },
  {
   "cell_type": "code",
   "execution_count": null,
   "id": "8b03006d-60a8-46d5-bef0-2f7c1fea1ccc",
   "metadata": {},
   "outputs": [],
   "source": [
    "print(feats_to_remove)"
   ]
  },
  {
   "cell_type": "code",
   "execution_count": null,
   "id": "76fde07e-f91c-4fc6-9011-84a36891f5f7",
   "metadata": {},
   "outputs": [],
   "source": [
    "len(feats_to_remove)"
   ]
  },
  {
   "cell_type": "code",
   "execution_count": null,
   "id": "c07fc8ed-7299-43b9-bb5c-0ab2440247cc",
   "metadata": {},
   "outputs": [],
   "source": [
    "input_feats = [col for col in input_feats if col not in feats_to_remove]\n",
    "len(input_feats)"
   ]
  },
  {
   "cell_type": "markdown",
   "id": "6391c804-643a-49c9-a993-189ceec3c40b",
   "metadata": {},
   "source": [
    "***\n",
    "## training the adversarial classifier"
   ]
  },
  {
   "cell_type": "code",
   "execution_count": null,
   "id": "e3f3ec0f-be41-4c34-9f92-6d63705e4e91",
   "metadata": {},
   "outputs": [],
   "source": [
    "model_params = {\n",
    "    'objective': 'binary',\n",
    "    'metric': 'auc',\n",
    "    'num_iterations': 500,\n",
    "    'num_leaves': 31,\n",
    "    'learning_rate': 0.05,\n",
    "    'max_bin': 127,\n",
    "    'bin_construct_sample_cnt': 100000000,\n",
    "    'bagging_freq': 1,\n",
    "    'bagging_fraction': 1.0,\n",
    "    'feature_fraction': 0.2,\n",
    "    'lambda_l1': 6,\n",
    "    'lambda_l2': 2,\n",
    "    'min_data_in_leaf': 1000,\n",
    "    'path_smooth': 1.5,\n",
    "    'min_gain_to_split': 0.5,\n",
    "    'seed': 2112,\n",
    "    'force_col_wise': True,\n",
    "    'feature_pre_filter': True,\n",
    "    'verbosity': -1,\n",
    "}"
   ]
  },
  {
   "cell_type": "code",
   "execution_count": null,
   "id": "2b90b925-7751-431c-b382-10071260a7b7",
   "metadata": {},
   "outputs": [],
   "source": [
    "skf = StratifiedKFold(n_splits=2, shuffle=True, random_state=2112)\n",
    "skf_split = list(skf.split(dset, dset[\"target\"].values))"
   ]
  },
  {
   "cell_type": "code",
   "execution_count": null,
   "id": "a4628e5b-910d-4569-8ab3-9a24e342932c",
   "metadata": {
    "tags": []
   },
   "outputs": [],
   "source": [
    "ITERATIONS = 100\n",
    "removed = list()\n",
    "scores_log = list()\n",
    "\n",
    "for i in range(ITERATIONS):\n",
    "    print(\"-\"*100)\n",
    "    print(f\"ITER: {i+1}/{ITERATIONS}\")\n",
    "    \n",
    "    tic = time.time()\n",
    "\n",
    "    importances = list()\n",
    "    scores = list()\n",
    "\n",
    "    for train_idx,valid_idx in skf_split:\n",
    "        train_dset = lgb.Dataset(\n",
    "            data=dset.loc[train_idx,input_feats],\n",
    "            label=dset.loc[train_idx,\"target\"].values,\n",
    "            free_raw_data=True,\n",
    "        )\n",
    "        valid_dset = lgb.Dataset(\n",
    "            data=dset.loc[valid_idx,input_feats],\n",
    "            label=dset.loc[valid_idx,\"target\"].values,\n",
    "            free_raw_data=True,\n",
    "        )\n",
    "        model = lgb.train(\n",
    "            params=model_params,\n",
    "            train_set=train_dset,\n",
    "            valid_sets=[valid_dset,],\n",
    "            callbacks=[lgb.log_evaluation(period=50), lgb.early_stopping(50)],\n",
    "        )\n",
    "        lgb.plot_importance(model, figsize=(8,10), importance_type=\"split\", max_num_features=15)\n",
    "        lgb.plot_importance(model, figsize=(8,10), importance_type=\"gain\", max_num_features=15)\n",
    "        plt.show()   \n",
    "\n",
    "        imp = model.feature_importance(importance_type=\"gain\")\n",
    "        imp /= imp.sum()\n",
    "        importances.append(imp)\n",
    "        scores.append(model.best_score[\"valid_0\"][\"auc\"])\n",
    "\n",
    "        del train_dset,valid_dset,model; gc.collect()\n",
    "        \n",
    "    importances = np.mean(importances, axis=0)\n",
    "    score = np.mean(scores)\n",
    "    \n",
    "    # removes top 5 features\n",
    "    to_remove_idx = importances.argsort()[::-1][:5].tolist()\n",
    "    to_remove = [input_feats[i] for i in to_remove_idx]\n",
    "    for col in to_remove: input_feats.remove(col)\n",
    "    removed.extend(to_remove)\n",
    "    print(\"removed:\", removed[-5:])\n",
    "    scores_log.append(score)\n",
    "    \n",
    "    tac = time.time()\n",
    "    print(f\"Elapsed time: {(tac-tic)/60.} min.\")"
   ]
  },
  {
   "cell_type": "code",
   "execution_count": null,
   "id": "17d9d2f5-01b7-4572-8589-d966a72718b0",
   "metadata": {},
   "outputs": [],
   "source": [
    "print(removed)"
   ]
  },
  {
   "cell_type": "code",
   "execution_count": null,
   "id": "387f21d0-f439-425c-9af2-f31097bdec43",
   "metadata": {},
   "outputs": [],
   "source": [
    "print(scores_log)"
   ]
  },
  {
   "cell_type": "code",
   "execution_count": null,
   "id": "f9478970-9a16-4e07-950a-49c51841fbe5",
   "metadata": {},
   "outputs": [],
   "source": [
    "plt.figure(figsize=(15,5))\n",
    "plt.plot(scores_log, \"o-\")\n",
    "plt.grid()\n",
    "plt.show()"
   ]
  },
  {
   "cell_type": "markdown",
   "id": "7c5da2c3-2472-4bed-b563-543d82becd93",
   "metadata": {},
   "source": [
    "***"
   ]
  }
 ],
 "metadata": {
  "kernelspec": {
   "display_name": "Python 3 (ipykernel)",
   "language": "python",
   "name": "python3"
  },
  "language_info": {
   "codemirror_mode": {
    "name": "ipython",
    "version": 3
   },
   "file_extension": ".py",
   "mimetype": "text/x-python",
   "name": "python",
   "nbconvert_exporter": "python",
   "pygments_lexer": "ipython3",
   "version": "3.7.12"
  }
 },
 "nbformat": 4,
 "nbformat_minor": 5
}
