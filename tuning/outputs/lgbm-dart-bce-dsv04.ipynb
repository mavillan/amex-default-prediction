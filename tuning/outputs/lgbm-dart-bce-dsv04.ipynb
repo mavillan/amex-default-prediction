{
 "cells": [
  {
   "cell_type": "code",
   "execution_count": 1,
   "id": "6c5aa0ac",
   "metadata": {
    "_cell_guid": "b1076dfc-b9ad-4769-8c92-a6c4dae69d19",
    "_uuid": "8f2839f25d086af736a60e9eeb907d3b93b6e0e5",
    "execution": {
     "iopub.execute_input": "2022-08-04T03:41:36.772022Z",
     "iopub.status.busy": "2022-08-04T03:41:36.766461Z",
     "iopub.status.idle": "2022-08-04T03:41:38.118389Z",
     "shell.execute_reply": "2022-08-04T03:41:38.117774Z"
    },
    "papermill": {
     "duration": 1.369742,
     "end_time": "2022-08-04T03:41:38.118530",
     "exception": false,
     "start_time": "2022-08-04T03:41:36.748788",
     "status": "completed"
    },
    "tags": []
   },
   "outputs": [
    {
     "data": {
      "text/html": [
       "<style type='text/css'>\n",
       ".datatable table.frame { margin-bottom: 0; }\n",
       ".datatable table.frame thead { border-bottom: none; }\n",
       ".datatable table.frame tr.coltypes td {  color: #FFFFFF;  line-height: 6px;  padding: 0 0.5em;}\n",
       ".datatable .bool    { background: #DDDD99; }\n",
       ".datatable .object  { background: #565656; }\n",
       ".datatable .int     { background: #5D9E5D; }\n",
       ".datatable .float   { background: #4040CC; }\n",
       ".datatable .str     { background: #CC4040; }\n",
       ".datatable .time    { background: #40CC40; }\n",
       ".datatable .row_index {  background: var(--jp-border-color3);  border-right: 1px solid var(--jp-border-color0);  color: var(--jp-ui-font-color3);  font-size: 9px;}\n",
       ".datatable .frame tbody td { text-align: left; }\n",
       ".datatable .frame tr.coltypes .row_index {  background: var(--jp-border-color0);}\n",
       ".datatable th:nth-child(2) { padding-left: 12px; }\n",
       ".datatable .hellipsis {  color: var(--jp-cell-editor-border-color);}\n",
       ".datatable .vellipsis {  background: var(--jp-layout-color0);  color: var(--jp-cell-editor-border-color);}\n",
       ".datatable .na {  color: var(--jp-cell-editor-border-color);  font-size: 80%;}\n",
       ".datatable .sp {  opacity: 0.25;}\n",
       ".datatable .footer { font-size: 9px; }\n",
       ".datatable .frame_dimensions {  background: var(--jp-border-color3);  border-top: 1px solid var(--jp-border-color0);  color: var(--jp-ui-font-color3);  display: inline-block;  opacity: 0.6;  padding: 1px 10px 1px 5px;}\n",
       "</style>\n"
      ],
      "text/plain": [
       "<IPython.core.display.HTML object>"
      ]
     },
     "metadata": {},
     "output_type": "display_data"
    }
   ],
   "source": [
    "import gc\n",
    "from glob import glob\n",
    "import numpy as np\n",
    "import pandas as pd\n",
    "import matplotlib.pyplot as plt\n",
    "import time\n",
    "import yaml\n",
    "\n",
    "import lightgbm as lgb\n",
    "from sklearn.model_selection import StratifiedKFold\n",
    "from sklearn import metrics\n",
    "\n",
    "import optuna\n",
    "from optuna.visualization import (\n",
    "    plot_contour\n",
    "    , plot_edf\n",
    "    , plot_intermediate_values\n",
    "    , plot_optimization_history\n",
    "    , plot_parallel_coordinate\n",
    "    , plot_param_importances\n",
    "    , plot_slice\n",
    ")\n",
    "\n",
    "import sys\n",
    "sys.path.append(\"../utils\")\n",
    "from metrics import compute_recall_at4, compute_normalized_gini, compute_amex_metric\n",
    "\n",
    "np.random.seed(2112)\n",
    "pd.set_option('display.max_columns', None)"
   ]
  },
  {
   "cell_type": "code",
   "execution_count": 2,
   "id": "5e7376a7",
   "metadata": {
    "execution": {
     "iopub.execute_input": "2022-08-04T03:41:38.146911Z",
     "iopub.status.busy": "2022-08-04T03:41:38.146417Z",
     "iopub.status.idle": "2022-08-04T03:41:38.300978Z",
     "shell.execute_reply": "2022-08-04T03:41:38.300535Z"
    },
    "papermill": {
     "duration": 0.170053,
     "end_time": "2022-08-04T03:41:38.301098",
     "exception": false,
     "start_time": "2022-08-04T03:41:38.131045",
     "status": "completed"
    },
    "tags": []
   },
   "outputs": [],
   "source": [
    "import plotly.express as px\n",
    "import plotly.io as pio\n",
    "pio.renderers.default = \"jupyterlab\""
   ]
  },
  {
   "cell_type": "code",
   "execution_count": 3,
   "id": "d31e9f10",
   "metadata": {
    "execution": {
     "iopub.execute_input": "2022-08-04T03:41:38.329259Z",
     "iopub.status.busy": "2022-08-04T03:41:38.328709Z",
     "iopub.status.idle": "2022-08-04T03:41:38.331041Z",
     "shell.execute_reply": "2022-08-04T03:41:38.331418Z"
    },
    "papermill": {
     "duration": 0.018504,
     "end_time": "2022-08-04T03:41:38.331558",
     "exception": false,
     "start_time": "2022-08-04T03:41:38.313054",
     "status": "completed"
    },
    "tags": []
   },
   "outputs": [
    {
     "data": {
      "text/plain": [
       "'3.3.2'"
      ]
     },
     "execution_count": 3,
     "metadata": {},
     "output_type": "execute_result"
    }
   ],
   "source": [
    "lgb.__version__"
   ]
  },
  {
   "cell_type": "markdown",
   "id": "ee0a6a46",
   "metadata": {
    "papermill": {
     "duration": 0.012065,
     "end_time": "2022-08-04T03:41:38.355682",
     "exception": false,
     "start_time": "2022-08-04T03:41:38.343617",
     "status": "completed"
    },
    "tags": []
   },
   "source": [
    "***\n",
    "## load and prepare data"
   ]
  },
  {
   "cell_type": "code",
   "execution_count": 4,
   "id": "a0ae995f",
   "metadata": {
    "execution": {
     "iopub.execute_input": "2022-08-04T03:41:38.383823Z",
     "iopub.status.busy": "2022-08-04T03:41:38.383251Z",
     "iopub.status.idle": "2022-08-04T03:41:38.504581Z",
     "shell.execute_reply": "2022-08-04T03:41:38.504082Z"
    },
    "papermill": {
     "duration": 0.137124,
     "end_time": "2022-08-04T03:41:38.504709",
     "exception": false,
     "start_time": "2022-08-04T03:41:38.367585",
     "status": "completed"
    },
    "tags": []
   },
   "outputs": [
    {
     "name": "stdout",
     "output_type": "stream",
     "text": [
      "test.parquet  train.parquet\r\n"
     ]
    }
   ],
   "source": [
    "!ls ../data/processed/dsv04"
   ]
  },
  {
   "cell_type": "code",
   "execution_count": 5,
   "id": "5ed73f22",
   "metadata": {
    "execution": {
     "iopub.execute_input": "2022-08-04T03:41:38.535114Z",
     "iopub.status.busy": "2022-08-04T03:41:38.534596Z",
     "iopub.status.idle": "2022-08-04T03:41:41.702535Z",
     "shell.execute_reply": "2022-08-04T03:41:41.702015Z"
    },
    "papermill": {
     "duration": 3.185075,
     "end_time": "2022-08-04T03:41:41.702674",
     "exception": false,
     "start_time": "2022-08-04T03:41:38.517599",
     "status": "completed"
    },
    "tags": []
   },
   "outputs": [],
   "source": [
    "train = pd.read_parquet(\"../data/processed/dsv04/train.parquet\")\n",
    "train_labels = pd.read_csv(\"../data/raw/train_labels.csv\", index_col=\"customer_ID\")"
   ]
  },
  {
   "cell_type": "code",
   "execution_count": 6,
   "id": "79718ac7",
   "metadata": {
    "execution": {
     "iopub.execute_input": "2022-08-04T03:41:41.733613Z",
     "iopub.status.busy": "2022-08-04T03:41:41.733085Z",
     "iopub.status.idle": "2022-08-04T03:41:41.736610Z",
     "shell.execute_reply": "2022-08-04T03:41:41.736173Z"
    },
    "papermill": {
     "duration": 0.020808,
     "end_time": "2022-08-04T03:41:41.736728",
     "exception": false,
     "start_time": "2022-08-04T03:41:41.715920",
     "status": "completed"
    },
    "tags": []
   },
   "outputs": [
    {
     "data": {
      "text/plain": [
       "1639"
      ]
     },
     "execution_count": 6,
     "metadata": {},
     "output_type": "execute_result"
    }
   ],
   "source": [
    "input_feats = train.columns.tolist()\n",
    "len(input_feats)"
   ]
  },
  {
   "cell_type": "code",
   "execution_count": 7,
   "id": "80bd381e",
   "metadata": {
    "execution": {
     "iopub.execute_input": "2022-08-04T03:41:41.969507Z",
     "iopub.status.busy": "2022-08-04T03:41:41.965612Z",
     "iopub.status.idle": "2022-08-04T03:41:46.806785Z",
     "shell.execute_reply": "2022-08-04T03:41:46.806307Z"
    },
    "papermill": {
     "duration": 5.057036,
     "end_time": "2022-08-04T03:41:46.806905",
     "exception": false,
     "start_time": "2022-08-04T03:41:41.749869",
     "status": "completed"
    },
    "tags": []
   },
   "outputs": [
    {
     "data": {
      "text/plain": [
       "0"
      ]
     },
     "execution_count": 7,
     "metadata": {},
     "output_type": "execute_result"
    }
   ],
   "source": [
    "train = pd.merge(train, train_labels, how=\"inner\", left_index=True, right_index=True)\n",
    "train = train.reset_index()\n",
    "\n",
    "del train_labels\n",
    "gc.collect()"
   ]
  },
  {
   "cell_type": "markdown",
   "id": "f4b8e483",
   "metadata": {
    "papermill": {
     "duration": 0.01317,
     "end_time": "2022-08-04T03:41:46.833576",
     "exception": false,
     "start_time": "2022-08-04T03:41:46.820406",
     "status": "completed"
    },
    "tags": []
   },
   "source": [
    "***\n",
    "## model tuning\n",
    "\n",
    "train with repeated cross validation"
   ]
  },
  {
   "cell_type": "code",
   "execution_count": 8,
   "id": "93e71a17",
   "metadata": {
    "execution": {
     "iopub.execute_input": "2022-08-04T03:41:46.866204Z",
     "iopub.status.busy": "2022-08-04T03:41:46.865050Z",
     "iopub.status.idle": "2022-08-04T03:41:46.930577Z",
     "shell.execute_reply": "2022-08-04T03:41:46.930059Z"
    },
    "papermill": {
     "duration": 0.083958,
     "end_time": "2022-08-04T03:41:46.930721",
     "exception": false,
     "start_time": "2022-08-04T03:41:46.846763",
     "status": "completed"
    },
    "tags": []
   },
   "outputs": [],
   "source": [
    "skf = StratifiedKFold(n_splits=3, random_state=2112, shuffle=True)\n",
    "skf_split = list(skf.split(train, train[\"target\"].values))"
   ]
  },
  {
   "cell_type": "code",
   "execution_count": 9,
   "id": "9d405035",
   "metadata": {
    "execution": {
     "iopub.execute_input": "2022-08-04T03:41:46.966542Z",
     "iopub.status.busy": "2022-08-04T03:41:46.965807Z",
     "iopub.status.idle": "2022-08-04T03:41:46.968970Z",
     "shell.execute_reply": "2022-08-04T03:41:46.968466Z"
    },
    "papermill": {
     "duration": 0.024692,
     "end_time": "2022-08-04T03:41:46.969083",
     "exception": false,
     "start_time": "2022-08-04T03:41:46.944391",
     "status": "completed"
    },
    "tags": []
   },
   "outputs": [
    {
     "data": {
      "text/plain": [
       "{'bagging_fraction': 1.0,\n",
       " 'bagging_freq': 1,\n",
       " 'bin_construct_sample_cnt': 100000000,\n",
       " 'feature_fraction': 0.15000000000000002,\n",
       " 'feature_pre_filter': True,\n",
       " 'force_col_wise': True,\n",
       " 'lambda_l1': 5.996099571922015,\n",
       " 'lambda_l2': 2.8900783163910697,\n",
       " 'learning_rate': 0.05,\n",
       " 'max_bin': 63,\n",
       " 'metric': 'None',\n",
       " 'min_data_in_leaf': 1000,\n",
       " 'min_gain_to_split': 0.313937968985787,\n",
       " 'num_leaves': 15,\n",
       " 'objective': 'binary',\n",
       " 'path_smooth': 1.476306537276899,\n",
       " 'seed': 2112,\n",
       " 'verbosity': -1,\n",
       " 'boosting': 'dart'}"
      ]
     },
     "metadata": {},
     "output_type": "display_data"
    }
   ],
   "source": [
    "with open(\"../data/config/lgbm-bce-dsv04.yml\", \"r\") as file:\n",
    "    default_params = yaml.safe_load(file)\n",
    "    file.close()\n",
    "\n",
    "del default_params[\"num_iterations\"]\n",
    "default_params[\"boosting\"] = \"dart\"\n",
    "\n",
    "display(default_params)"
   ]
  },
  {
   "cell_type": "code",
   "execution_count": 10,
   "id": "5c6bd115",
   "metadata": {
    "execution": {
     "iopub.execute_input": "2022-08-04T03:41:47.004012Z",
     "iopub.status.busy": "2022-08-04T03:41:47.003242Z",
     "iopub.status.idle": "2022-08-04T03:41:47.005047Z",
     "shell.execute_reply": "2022-08-04T03:41:47.005448Z"
    },
    "papermill": {
     "duration": 0.022733,
     "end_time": "2022-08-04T03:41:47.005602",
     "exception": false,
     "start_time": "2022-08-04T03:41:46.982869",
     "status": "completed"
    },
    "tags": []
   },
   "outputs": [],
   "source": [
    "def train_models(dataframe: pd.DataFrame, split: list, model_params: dict) -> pd.DataFrame:\n",
    "    \n",
    "    # dataframe to store the oof predictions\n",
    "    oof = dataframe[[\"target\"]].copy()\n",
    "    oof[\"pred\"] = -1\n",
    "\n",
    "    for train_idx,valid_idx in split:\n",
    "        \n",
    "        train_df = dataframe.loc[train_idx,:]\n",
    "        valid_df = dataframe.loc[valid_idx,:]\n",
    "        \n",
    "        train_dset = lgb.Dataset(\n",
    "            data=train_df[input_feats],\n",
    "            label=train_df[\"target\"].values,\n",
    "            free_raw_data=True\n",
    "        )        \n",
    "        model = lgb.train(\n",
    "            params=model_params,\n",
    "            train_set=train_dset\n",
    "        )        \n",
    "        oof.loc[valid_idx,\"pred\"] = model.predict(valid_df[input_feats])\n",
    "            \n",
    "        del train_dset,model\n",
    "        gc.collect()\n",
    "    \n",
    "    return oof"
   ]
  },
  {
   "cell_type": "code",
   "execution_count": 11,
   "id": "bf12b941",
   "metadata": {
    "execution": {
     "iopub.execute_input": "2022-08-04T03:41:47.039782Z",
     "iopub.status.busy": "2022-08-04T03:41:47.039042Z",
     "iopub.status.idle": "2022-08-04T03:41:47.040884Z",
     "shell.execute_reply": "2022-08-04T03:41:47.041263Z"
    },
    "papermill": {
     "duration": 0.021596,
     "end_time": "2022-08-04T03:41:47.041413",
     "exception": false,
     "start_time": "2022-08-04T03:41:47.019817",
     "status": "completed"
    },
    "tags": []
   },
   "outputs": [],
   "source": [
    "def objective(trial):\n",
    "    sampled_params = dict(\n",
    "        num_iterations = trial.suggest_int(\"num_iterations\", 1000, 7000, 50),\n",
    "        # dart\n",
    "        drop_rate = trial.suggest_discrete_uniform(\"drop_rate\", 0.05, 0.3, 0.01),\n",
    "        max_drop = trial.suggest_int(\"max_drop\", 10, 500, 10),\n",
    "        skip_drop = trial.suggest_discrete_uniform(\"skip_drop\", 0.2, 0.8, 0.05),        \n",
    "    )\n",
    "    model_params = {**default_params, **sampled_params}\n",
    "    \n",
    "    oof = train_models(train, skf_split, model_params)\n",
    "    metric = compute_amex_metric(oof.target.values, oof.pred.values)\n",
    "    return metric"
   ]
  },
  {
   "cell_type": "code",
   "execution_count": 12,
   "id": "024aae0a",
   "metadata": {
    "execution": {
     "iopub.execute_input": "2022-08-04T03:41:47.075732Z",
     "iopub.status.busy": "2022-08-04T03:41:47.074943Z",
     "iopub.status.idle": "2022-08-08T04:48:06.173965Z",
     "shell.execute_reply": "2022-08-08T04:48:06.174424Z"
    },
    "papermill": {
     "duration": 349579.119025,
     "end_time": "2022-08-08T04:48:06.174592",
     "exception": false,
     "start_time": "2022-08-04T03:41:47.055567",
     "status": "completed"
    },
    "tags": []
   },
   "outputs": [
    {
     "name": "stderr",
     "output_type": "stream",
     "text": [
      "\u001b[32m[I 2022-08-04 03:41:47,137]\u001b[0m Using an existing study with name 'lgbm-dart-bce-dsv04' instead of creating a new one.\u001b[0m\n"
     ]
    },
    {
     "name": "stderr",
     "output_type": "stream",
     "text": [
      "/opt/conda/lib/python3.7/site-packages/lightgbm/engine.py:177: UserWarning:\n",
      "\n",
      "Found `num_iterations` in params. Will use it instead of argument\n",
      "\n"
     ]
    },
    {
     "name": "stderr",
     "output_type": "stream",
     "text": [
      "\u001b[32m[I 2022-08-04 04:19:02,155]\u001b[0m Trial 68 finished with value: 0.7957112516672616 and parameters: {'num_iterations': 2750, 'drop_rate': 0.060000000000000005, 'max_drop': 120, 'skip_drop': 0.65}. Best is trial 62 with value: 0.7968637138993222.\u001b[0m\n"
     ]
    },
    {
     "name": "stderr",
     "output_type": "stream",
     "text": [
      "/opt/conda/lib/python3.7/site-packages/lightgbm/engine.py:177: UserWarning:\n",
      "\n",
      "Found `num_iterations` in params. Will use it instead of argument\n",
      "\n"
     ]
    },
    {
     "name": "stderr",
     "output_type": "stream",
     "text": [
      "\u001b[32m[I 2022-08-04 05:07:05,040]\u001b[0m Trial 69 finished with value: 0.7964764858825374 and parameters: {'num_iterations': 4300, 'drop_rate': 0.09, 'max_drop': 100, 'skip_drop': 0.75}. Best is trial 62 with value: 0.7968637138993222.\u001b[0m\n"
     ]
    },
    {
     "name": "stderr",
     "output_type": "stream",
     "text": [
      "/opt/conda/lib/python3.7/site-packages/lightgbm/engine.py:177: UserWarning:\n",
      "\n",
      "Found `num_iterations` in params. Will use it instead of argument\n",
      "\n"
     ]
    },
    {
     "name": "stderr",
     "output_type": "stream",
     "text": [
      "\u001b[32m[I 2022-08-04 05:53:48,153]\u001b[0m Trial 70 finished with value: 0.7954780192239252 and parameters: {'num_iterations': 4350, 'drop_rate': 0.09, 'max_drop': 90, 'skip_drop': 0.75}. Best is trial 62 with value: 0.7968637138993222.\u001b[0m\n"
     ]
    },
    {
     "name": "stderr",
     "output_type": "stream",
     "text": [
      "/opt/conda/lib/python3.7/site-packages/lightgbm/engine.py:177: UserWarning:\n",
      "\n",
      "Found `num_iterations` in params. Will use it instead of argument\n",
      "\n"
     ]
    },
    {
     "name": "stderr",
     "output_type": "stream",
     "text": [
      "\u001b[32m[I 2022-08-04 06:29:29,620]\u001b[0m Trial 71 finished with value: 0.796387006592817 and parameters: {'num_iterations': 4950, 'drop_rate': 0.07, 'max_drop': 30, 'skip_drop': 0.7}. Best is trial 62 with value: 0.7968637138993222.\u001b[0m\n"
     ]
    },
    {
     "name": "stderr",
     "output_type": "stream",
     "text": [
      "/opt/conda/lib/python3.7/site-packages/lightgbm/engine.py:177: UserWarning:\n",
      "\n",
      "Found `num_iterations` in params. Will use it instead of argument\n",
      "\n"
     ]
    },
    {
     "name": "stderr",
     "output_type": "stream",
     "text": [
      "\u001b[32m[I 2022-08-04 07:33:26,039]\u001b[0m Trial 72 finished with value: 0.7957550371208463 and parameters: {'num_iterations': 4600, 'drop_rate': 0.1, 'max_drop': 110, 'skip_drop': 0.7}. Best is trial 62 with value: 0.7968637138993222.\u001b[0m\n"
     ]
    },
    {
     "name": "stderr",
     "output_type": "stream",
     "text": [
      "/opt/conda/lib/python3.7/site-packages/lightgbm/engine.py:177: UserWarning:\n",
      "\n",
      "Found `num_iterations` in params. Will use it instead of argument\n",
      "\n"
     ]
    },
    {
     "name": "stderr",
     "output_type": "stream",
     "text": [
      "\u001b[32m[I 2022-08-04 08:10:53,655]\u001b[0m Trial 73 finished with value: 0.7957111458081036 and parameters: {'num_iterations': 4050, 'drop_rate': 0.14, 'max_drop': 80, 'skip_drop': 0.8}. Best is trial 62 with value: 0.7968637138993222.\u001b[0m\n"
     ]
    },
    {
     "name": "stderr",
     "output_type": "stream",
     "text": [
      "/opt/conda/lib/python3.7/site-packages/lightgbm/engine.py:177: UserWarning:\n",
      "\n",
      "Found `num_iterations` in params. Will use it instead of argument\n",
      "\n"
     ]
    },
    {
     "name": "stderr",
     "output_type": "stream",
     "text": [
      "\u001b[32m[I 2022-08-04 09:51:07,518]\u001b[0m Trial 74 finished with value: 0.7962731045832812 and parameters: {'num_iterations': 4300, 'drop_rate': 0.13, 'max_drop': 220, 'skip_drop': 0.65}. Best is trial 62 with value: 0.7968637138993222.\u001b[0m\n"
     ]
    },
    {
     "name": "stderr",
     "output_type": "stream",
     "text": [
      "/opt/conda/lib/python3.7/site-packages/lightgbm/engine.py:177: UserWarning:\n",
      "\n",
      "Found `num_iterations` in params. Will use it instead of argument\n",
      "\n"
     ]
    },
    {
     "name": "stderr",
     "output_type": "stream",
     "text": [
      "\u001b[32m[I 2022-08-04 10:33:23,400]\u001b[0m Trial 75 finished with value: 0.7960451055762632 and parameters: {'num_iterations': 5200, 'drop_rate': 0.09, 'max_drop': 50, 'skip_drop': 0.75}. Best is trial 62 with value: 0.7968637138993222.\u001b[0m\n"
     ]
    },
    {
     "name": "stderr",
     "output_type": "stream",
     "text": [
      "/opt/conda/lib/python3.7/site-packages/lightgbm/engine.py:177: UserWarning:\n",
      "\n",
      "Found `num_iterations` in params. Will use it instead of argument\n",
      "\n"
     ]
    },
    {
     "name": "stderr",
     "output_type": "stream",
     "text": [
      "\u001b[32m[I 2022-08-04 12:48:35,999]\u001b[0m Trial 76 finished with value: 0.7913334344772897 and parameters: {'num_iterations': 3750, 'drop_rate': 0.11, 'max_drop': 270, 'skip_drop': 0.35000000000000003}. Best is trial 62 with value: 0.7968637138993222.\u001b[0m\n"
     ]
    },
    {
     "name": "stderr",
     "output_type": "stream",
     "text": [
      "/opt/conda/lib/python3.7/site-packages/lightgbm/engine.py:177: UserWarning:\n",
      "\n",
      "Found `num_iterations` in params. Will use it instead of argument\n",
      "\n"
     ]
    },
    {
     "name": "stderr",
     "output_type": "stream",
     "text": [
      "\u001b[32m[I 2022-08-04 14:19:17,957]\u001b[0m Trial 77 finished with value: 0.795657199688902 and parameters: {'num_iterations': 3200, 'drop_rate': 0.12000000000000001, 'max_drop': 480, 'skip_drop': 0.6000000000000001}. Best is trial 62 with value: 0.7968637138993222.\u001b[0m\n"
     ]
    },
    {
     "name": "stderr",
     "output_type": "stream",
     "text": [
      "/opt/conda/lib/python3.7/site-packages/lightgbm/engine.py:177: UserWarning:\n",
      "\n",
      "Found `num_iterations` in params. Will use it instead of argument\n",
      "\n"
     ]
    },
    {
     "name": "stderr",
     "output_type": "stream",
     "text": [
      "\u001b[32m[I 2022-08-04 15:33:18,096]\u001b[0m Trial 78 finished with value: 0.7960413707037921 and parameters: {'num_iterations': 4850, 'drop_rate': 0.060000000000000005, 'max_drop': 200, 'skip_drop': 0.7}. Best is trial 62 with value: 0.7968637138993222.\u001b[0m\n"
     ]
    },
    {
     "name": "stderr",
     "output_type": "stream",
     "text": [
      "/opt/conda/lib/python3.7/site-packages/lightgbm/engine.py:177: UserWarning:\n",
      "\n",
      "Found `num_iterations` in params. Will use it instead of argument\n",
      "\n"
     ]
    },
    {
     "name": "stderr",
     "output_type": "stream",
     "text": [
      "\u001b[32m[I 2022-08-04 16:23:17,091]\u001b[0m Trial 79 finished with value: 0.7965725304554911 and parameters: {'num_iterations': 4650, 'drop_rate': 0.15000000000000002, 'max_drop': 60, 'skip_drop': 0.65}. Best is trial 62 with value: 0.7968637138993222.\u001b[0m\n"
     ]
    },
    {
     "name": "stderr",
     "output_type": "stream",
     "text": [
      "/opt/conda/lib/python3.7/site-packages/lightgbm/engine.py:177: UserWarning:\n",
      "\n",
      "Found `num_iterations` in params. Will use it instead of argument\n",
      "\n"
     ]
    },
    {
     "name": "stderr",
     "output_type": "stream",
     "text": [
      "\u001b[32m[I 2022-08-04 17:07:50,908]\u001b[0m Trial 80 finished with value: 0.795862327608742 and parameters: {'num_iterations': 4700, 'drop_rate': 0.16, 'max_drop': 70, 'skip_drop': 0.75}. Best is trial 62 with value: 0.7968637138993222.\u001b[0m\n"
     ]
    },
    {
     "name": "stderr",
     "output_type": "stream",
     "text": [
      "/opt/conda/lib/python3.7/site-packages/lightgbm/engine.py:177: UserWarning:\n",
      "\n",
      "Found `num_iterations` in params. Will use it instead of argument\n",
      "\n"
     ]
    },
    {
     "name": "stderr",
     "output_type": "stream",
     "text": [
      "\u001b[32m[I 2022-08-04 17:43:36,947]\u001b[0m Trial 81 finished with value: 0.7962678033163437 and parameters: {'num_iterations': 4150, 'drop_rate': 0.15000000000000002, 'max_drop': 40, 'skip_drop': 0.65}. Best is trial 62 with value: 0.7968637138993222.\u001b[0m\n"
     ]
    },
    {
     "name": "stderr",
     "output_type": "stream",
     "text": [
      "/opt/conda/lib/python3.7/site-packages/lightgbm/engine.py:177: UserWarning:\n",
      "\n",
      "Found `num_iterations` in params. Will use it instead of argument\n",
      "\n"
     ]
    },
    {
     "name": "stderr",
     "output_type": "stream",
     "text": [
      "\u001b[32m[I 2022-08-04 18:31:00,015]\u001b[0m Trial 82 finished with value: 0.7962281462784069 and parameters: {'num_iterations': 4400, 'drop_rate': 0.12000000000000001, 'max_drop': 60, 'skip_drop': 0.65}. Best is trial 62 with value: 0.7968637138993222.\u001b[0m\n"
     ]
    },
    {
     "name": "stderr",
     "output_type": "stream",
     "text": [
      "/opt/conda/lib/python3.7/site-packages/lightgbm/engine.py:177: UserWarning:\n",
      "\n",
      "Found `num_iterations` in params. Will use it instead of argument\n",
      "\n"
     ]
    },
    {
     "name": "stderr",
     "output_type": "stream",
     "text": [
      "\u001b[32m[I 2022-08-04 19:32:35,599]\u001b[0m Trial 83 finished with value: 0.7959700346908047 and parameters: {'num_iterations': 4600, 'drop_rate': 0.21000000000000002, 'max_drop': 100, 'skip_drop': 0.7}. Best is trial 62 with value: 0.7968637138993222.\u001b[0m\n"
     ]
    },
    {
     "name": "stderr",
     "output_type": "stream",
     "text": [
      "/opt/conda/lib/python3.7/site-packages/lightgbm/engine.py:177: UserWarning:\n",
      "\n",
      "Found `num_iterations` in params. Will use it instead of argument\n",
      "\n"
     ]
    },
    {
     "name": "stderr",
     "output_type": "stream",
     "text": [
      "\u001b[32m[I 2022-08-04 21:22:42,834]\u001b[0m Trial 84 finished with value: 0.7960564301759181 and parameters: {'num_iterations': 5050, 'drop_rate': 0.08, 'max_drop': 190, 'skip_drop': 0.6000000000000001}. Best is trial 62 with value: 0.7968637138993222.\u001b[0m\n"
     ]
    },
    {
     "name": "stderr",
     "output_type": "stream",
     "text": [
      "/opt/conda/lib/python3.7/site-packages/lightgbm/engine.py:177: UserWarning:\n",
      "\n",
      "Found `num_iterations` in params. Will use it instead of argument\n",
      "\n"
     ]
    },
    {
     "name": "stderr",
     "output_type": "stream",
     "text": [
      "\u001b[32m[I 2022-08-04 21:42:13,306]\u001b[0m Trial 85 finished with value: 0.7961715317009572 and parameters: {'num_iterations': 3500, 'drop_rate': 0.13, 'max_drop': 10, 'skip_drop': 0.7}. Best is trial 62 with value: 0.7968637138993222.\u001b[0m\n"
     ]
    },
    {
     "name": "stderr",
     "output_type": "stream",
     "text": [
      "/opt/conda/lib/python3.7/site-packages/lightgbm/engine.py:177: UserWarning:\n",
      "\n",
      "Found `num_iterations` in params. Will use it instead of argument\n",
      "\n"
     ]
    },
    {
     "name": "stderr",
     "output_type": "stream",
     "text": [
      "\u001b[32m[I 2022-08-04 23:56:39,944]\u001b[0m Trial 86 finished with value: 0.7962268129065593 and parameters: {'num_iterations': 5300, 'drop_rate': 0.14, 'max_drop': 240, 'skip_drop': 0.65}. Best is trial 62 with value: 0.7968637138993222.\u001b[0m\n"
     ]
    },
    {
     "name": "stderr",
     "output_type": "stream",
     "text": [
      "/opt/conda/lib/python3.7/site-packages/lightgbm/engine.py:177: UserWarning:\n",
      "\n",
      "Found `num_iterations` in params. Will use it instead of argument\n",
      "\n"
     ]
    },
    {
     "name": "stderr",
     "output_type": "stream",
     "text": [
      "\u001b[32m[I 2022-08-05 01:42:17,830]\u001b[0m Trial 87 finished with value: 0.7962566448887831 and parameters: {'num_iterations': 4900, 'drop_rate': 0.16, 'max_drop': 140, 'skip_drop': 0.55}. Best is trial 62 with value: 0.7968637138993222.\u001b[0m\n"
     ]
    },
    {
     "name": "stderr",
     "output_type": "stream",
     "text": [
      "/opt/conda/lib/python3.7/site-packages/lightgbm/engine.py:177: UserWarning:\n",
      "\n",
      "Found `num_iterations` in params. Will use it instead of argument\n",
      "\n"
     ]
    },
    {
     "name": "stderr",
     "output_type": "stream",
     "text": [
      "\u001b[32m[I 2022-08-05 03:52:00,649]\u001b[0m Trial 88 finished with value: 0.7962392314462488 and parameters: {'num_iterations': 5600, 'drop_rate': 0.15000000000000002, 'max_drop': 170, 'skip_drop': 0.6000000000000001}. Best is trial 62 with value: 0.7968637138993222.\u001b[0m\n"
     ]
    },
    {
     "name": "stderr",
     "output_type": "stream",
     "text": [
      "/opt/conda/lib/python3.7/site-packages/lightgbm/engine.py:177: UserWarning:\n",
      "\n",
      "Found `num_iterations` in params. Will use it instead of argument\n",
      "\n"
     ]
    },
    {
     "name": "stderr",
     "output_type": "stream",
     "text": [
      "\u001b[32m[I 2022-08-05 04:56:33,971]\u001b[0m Trial 89 finished with value: 0.7954019640791886 and parameters: {'num_iterations': 4050, 'drop_rate': 0.16999999999999998, 'max_drop': 230, 'skip_drop': 0.8}. Best is trial 62 with value: 0.7968637138993222.\u001b[0m\n"
     ]
    },
    {
     "name": "stderr",
     "output_type": "stream",
     "text": [
      "/opt/conda/lib/python3.7/site-packages/lightgbm/engine.py:177: UserWarning:\n",
      "\n",
      "Found `num_iterations` in params. Will use it instead of argument\n",
      "\n"
     ]
    },
    {
     "name": "stderr",
     "output_type": "stream",
     "text": [
      "\u001b[32m[I 2022-08-05 07:16:57,192]\u001b[0m Trial 90 finished with value: 0.796166565254393 and parameters: {'num_iterations': 4400, 'drop_rate': 0.19, 'max_drop': 330, 'skip_drop': 0.65}. Best is trial 62 with value: 0.7968637138993222.\u001b[0m\n"
     ]
    },
    {
     "name": "stderr",
     "output_type": "stream",
     "text": [
      "/opt/conda/lib/python3.7/site-packages/lightgbm/engine.py:177: UserWarning:\n",
      "\n",
      "Found `num_iterations` in params. Will use it instead of argument\n",
      "\n"
     ]
    },
    {
     "name": "stderr",
     "output_type": "stream",
     "text": [
      "\u001b[32m[I 2022-08-05 07:52:44,614]\u001b[0m Trial 91 finished with value: 0.796387006592817 and parameters: {'num_iterations': 4950, 'drop_rate': 0.07, 'max_drop': 30, 'skip_drop': 0.7}. Best is trial 62 with value: 0.7968637138993222.\u001b[0m\n"
     ]
    },
    {
     "name": "stderr",
     "output_type": "stream",
     "text": [
      "/opt/conda/lib/python3.7/site-packages/lightgbm/engine.py:177: UserWarning:\n",
      "\n",
      "Found `num_iterations` in params. Will use it instead of argument\n",
      "\n"
     ]
    },
    {
     "name": "stderr",
     "output_type": "stream",
     "text": [
      "\u001b[32m[I 2022-08-05 08:25:07,321]\u001b[0m Trial 92 finished with value: 0.7960357106719247 and parameters: {'num_iterations': 5150, 'drop_rate': 0.07, 'max_drop': 20, 'skip_drop': 0.7}. Best is trial 62 with value: 0.7968637138993222.\u001b[0m\n"
     ]
    },
    {
     "name": "stderr",
     "output_type": "stream",
     "text": [
      "/opt/conda/lib/python3.7/site-packages/lightgbm/engine.py:177: UserWarning:\n",
      "\n",
      "Found `num_iterations` in params. Will use it instead of argument\n",
      "\n"
     ]
    },
    {
     "name": "stderr",
     "output_type": "stream",
     "text": [
      "\u001b[32m[I 2022-08-05 09:15:49,739]\u001b[0m Trial 93 finished with value: 0.7964109441907348 and parameters: {'num_iterations': 4700, 'drop_rate': 0.1, 'max_drop': 60, 'skip_drop': 0.65}. Best is trial 62 with value: 0.7968637138993222.\u001b[0m\n"
     ]
    },
    {
     "name": "stderr",
     "output_type": "stream",
     "text": [
      "/opt/conda/lib/python3.7/site-packages/lightgbm/engine.py:177: UserWarning:\n",
      "\n",
      "Found `num_iterations` in params. Will use it instead of argument\n",
      "\n"
     ]
    },
    {
     "name": "stderr",
     "output_type": "stream",
     "text": [
      "\u001b[32m[I 2022-08-05 10:53:47,289]\u001b[0m Trial 94 finished with value: 0.7958739663029102 and parameters: {'num_iterations': 4250, 'drop_rate': 0.09, 'max_drop': 420, 'skip_drop': 0.65}. Best is trial 62 with value: 0.7968637138993222.\u001b[0m\n"
     ]
    },
    {
     "name": "stderr",
     "output_type": "stream",
     "text": [
      "/opt/conda/lib/python3.7/site-packages/lightgbm/engine.py:177: UserWarning:\n",
      "\n",
      "Found `num_iterations` in params. Will use it instead of argument\n",
      "\n"
     ]
    },
    {
     "name": "stderr",
     "output_type": "stream",
     "text": [
      "\u001b[32m[I 2022-08-05 11:52:09,678]\u001b[0m Trial 95 finished with value: 0.7960926991363448 and parameters: {'num_iterations': 4700, 'drop_rate': 0.11, 'max_drop': 80, 'skip_drop': 0.65}. Best is trial 62 with value: 0.7968637138993222.\u001b[0m\n"
     ]
    },
    {
     "name": "stderr",
     "output_type": "stream",
     "text": [
      "/opt/conda/lib/python3.7/site-packages/lightgbm/engine.py:177: UserWarning:\n",
      "\n",
      "Found `num_iterations` in params. Will use it instead of argument\n",
      "\n"
     ]
    },
    {
     "name": "stderr",
     "output_type": "stream",
     "text": [
      "\u001b[32m[I 2022-08-05 12:36:17,160]\u001b[0m Trial 96 finished with value: 0.7959541870636127 and parameters: {'num_iterations': 3850, 'drop_rate': 0.1, 'max_drop': 60, 'skip_drop': 0.6000000000000001}. Best is trial 62 with value: 0.7968637138993222.\u001b[0m\n"
     ]
    },
    {
     "name": "stderr",
     "output_type": "stream",
     "text": [
      "/opt/conda/lib/python3.7/site-packages/lightgbm/engine.py:177: UserWarning:\n",
      "\n",
      "Found `num_iterations` in params. Will use it instead of argument\n",
      "\n"
     ]
    },
    {
     "name": "stderr",
     "output_type": "stream",
     "text": [
      "\u001b[32m[I 2022-08-05 14:18:54,283]\u001b[0m Trial 97 finished with value: 0.7955628397897097 and parameters: {'num_iterations': 4550, 'drop_rate': 0.08, 'max_drop': 210, 'skip_drop': 0.6000000000000001}. Best is trial 62 with value: 0.7968637138993222.\u001b[0m\n"
     ]
    },
    {
     "name": "stderr",
     "output_type": "stream",
     "text": [
      "/opt/conda/lib/python3.7/site-packages/lightgbm/engine.py:177: UserWarning:\n",
      "\n",
      "Found `num_iterations` in params. Will use it instead of argument\n",
      "\n"
     ]
    },
    {
     "name": "stderr",
     "output_type": "stream",
     "text": [
      "\u001b[32m[I 2022-08-05 16:56:20,085]\u001b[0m Trial 98 finished with value: 0.7959127943303909 and parameters: {'num_iterations': 5350, 'drop_rate': 0.18, 'max_drop': 270, 'skip_drop': 0.65}. Best is trial 62 with value: 0.7968637138993222.\u001b[0m\n"
     ]
    },
    {
     "name": "stderr",
     "output_type": "stream",
     "text": [
      "/opt/conda/lib/python3.7/site-packages/lightgbm/engine.py:177: UserWarning:\n",
      "\n",
      "Found `num_iterations` in params. Will use it instead of argument\n",
      "\n"
     ]
    },
    {
     "name": "stderr",
     "output_type": "stream",
     "text": [
      "\u001b[32m[I 2022-08-05 17:42:29,194]\u001b[0m Trial 99 finished with value: 0.795649271894906 and parameters: {'num_iterations': 4200, 'drop_rate': 0.2, 'max_drop': 90, 'skip_drop': 0.75}. Best is trial 62 with value: 0.7968637138993222.\u001b[0m\n"
     ]
    },
    {
     "name": "stderr",
     "output_type": "stream",
     "text": [
      "/opt/conda/lib/python3.7/site-packages/lightgbm/engine.py:177: UserWarning:\n",
      "\n",
      "Found `num_iterations` in params. Will use it instead of argument\n",
      "\n"
     ]
    },
    {
     "name": "stderr",
     "output_type": "stream",
     "text": [
      "\u001b[32m[I 2022-08-05 21:38:17,442]\u001b[0m Trial 100 finished with value: 0.7959708998279383 and parameters: {'num_iterations': 6050, 'drop_rate': 0.16999999999999998, 'max_drop': 300, 'skip_drop': 0.55}. Best is trial 62 with value: 0.7968637138993222.\u001b[0m\n"
     ]
    },
    {
     "name": "stderr",
     "output_type": "stream",
     "text": [
      "/opt/conda/lib/python3.7/site-packages/lightgbm/engine.py:177: UserWarning:\n",
      "\n",
      "Found `num_iterations` in params. Will use it instead of argument\n",
      "\n"
     ]
    },
    {
     "name": "stderr",
     "output_type": "stream",
     "text": [
      "\u001b[32m[I 2022-08-05 22:17:02,506]\u001b[0m Trial 101 finished with value: 0.7960900573253732 and parameters: {'num_iterations': 4850, 'drop_rate': 0.07, 'max_drop': 40, 'skip_drop': 0.7}. Best is trial 62 with value: 0.7968637138993222.\u001b[0m\n"
     ]
    },
    {
     "name": "stderr",
     "output_type": "stream",
     "text": [
      "/opt/conda/lib/python3.7/site-packages/lightgbm/engine.py:177: UserWarning:\n",
      "\n",
      "Found `num_iterations` in params. Will use it instead of argument\n",
      "\n"
     ]
    },
    {
     "name": "stderr",
     "output_type": "stream",
     "text": [
      "\u001b[32m[I 2022-08-05 22:46:56,621]\u001b[0m Trial 102 finished with value: 0.7959105672173384 and parameters: {'num_iterations': 4450, 'drop_rate': 0.060000000000000005, 'max_drop': 30, 'skip_drop': 0.75}. Best is trial 62 with value: 0.7968637138993222.\u001b[0m\n"
     ]
    },
    {
     "name": "stderr",
     "output_type": "stream",
     "text": [
      "/opt/conda/lib/python3.7/site-packages/lightgbm/engine.py:177: UserWarning:\n",
      "\n",
      "Found `num_iterations` in params. Will use it instead of argument\n",
      "\n"
     ]
    },
    {
     "name": "stderr",
     "output_type": "stream",
     "text": [
      "\u001b[32m[I 2022-08-05 23:37:31,325]\u001b[0m Trial 103 finished with value: 0.7963323522827768 and parameters: {'num_iterations': 5100, 'drop_rate': 0.1, 'max_drop': 60, 'skip_drop': 0.7}. Best is trial 62 with value: 0.7968637138993222.\u001b[0m\n"
     ]
    },
    {
     "name": "stderr",
     "output_type": "stream",
     "text": [
      "/opt/conda/lib/python3.7/site-packages/lightgbm/engine.py:177: UserWarning:\n",
      "\n",
      "Found `num_iterations` in params. Will use it instead of argument\n",
      "\n"
     ]
    },
    {
     "name": "stderr",
     "output_type": "stream",
     "text": [
      "\u001b[32m[I 2022-08-06 00:09:02,622]\u001b[0m Trial 104 finished with value: 0.7963250791502111 and parameters: {'num_iterations': 4750, 'drop_rate': 0.08, 'max_drop': 20, 'skip_drop': 0.65}. Best is trial 62 with value: 0.7968637138993222.\u001b[0m\n"
     ]
    },
    {
     "name": "stderr",
     "output_type": "stream",
     "text": [
      "/opt/conda/lib/python3.7/site-packages/lightgbm/engine.py:177: UserWarning:\n",
      "\n",
      "Found `num_iterations` in params. Will use it instead of argument\n",
      "\n"
     ]
    },
    {
     "name": "stderr",
     "output_type": "stream",
     "text": [
      "\u001b[32m[I 2022-08-06 00:55:02,713]\u001b[0m Trial 105 finished with value: 0.7955504115342283 and parameters: {'num_iterations': 5800, 'drop_rate': 0.05, 'max_drop': 40, 'skip_drop': 0.7}. Best is trial 62 with value: 0.7968637138993222.\u001b[0m\n"
     ]
    },
    {
     "name": "stderr",
     "output_type": "stream",
     "text": [
      "/opt/conda/lib/python3.7/site-packages/lightgbm/engine.py:177: UserWarning:\n",
      "\n",
      "Found `num_iterations` in params. Will use it instead of argument\n",
      "\n"
     ]
    },
    {
     "name": "stderr",
     "output_type": "stream",
     "text": [
      "\u001b[32m[I 2022-08-06 01:38:49,240]\u001b[0m Trial 106 finished with value: 0.7964391972407712 and parameters: {'num_iterations': 4950, 'drop_rate': 0.1, 'max_drop': 50, 'skip_drop': 0.7}. Best is trial 62 with value: 0.7968637138993222.\u001b[0m\n"
     ]
    },
    {
     "name": "stderr",
     "output_type": "stream",
     "text": [
      "/opt/conda/lib/python3.7/site-packages/lightgbm/engine.py:177: UserWarning:\n",
      "\n",
      "Found `num_iterations` in params. Will use it instead of argument\n",
      "\n"
     ]
    },
    {
     "name": "stderr",
     "output_type": "stream",
     "text": [
      "\u001b[32m[I 2022-08-06 02:31:04,999]\u001b[0m Trial 107 finished with value: 0.7960261528940157 and parameters: {'num_iterations': 4600, 'drop_rate': 0.1, 'max_drop': 70, 'skip_drop': 0.65}. Best is trial 62 with value: 0.7968637138993222.\u001b[0m\n"
     ]
    },
    {
     "name": "stderr",
     "output_type": "stream",
     "text": [
      "/opt/conda/lib/python3.7/site-packages/lightgbm/engine.py:177: UserWarning:\n",
      "\n",
      "Found `num_iterations` in params. Will use it instead of argument\n",
      "\n"
     ]
    },
    {
     "name": "stderr",
     "output_type": "stream",
     "text": [
      "\u001b[32m[I 2022-08-06 03:29:38,132]\u001b[0m Trial 108 finished with value: 0.7954391711154651 and parameters: {'num_iterations': 4000, 'drop_rate': 0.09, 'max_drop': 230, 'skip_drop': 0.75}. Best is trial 62 with value: 0.7968637138993222.\u001b[0m\n"
     ]
    },
    {
     "name": "stderr",
     "output_type": "stream",
     "text": [
      "/opt/conda/lib/python3.7/site-packages/lightgbm/engine.py:177: UserWarning:\n",
      "\n",
      "Found `num_iterations` in params. Will use it instead of argument\n",
      "\n"
     ]
    },
    {
     "name": "stderr",
     "output_type": "stream",
     "text": [
      "\u001b[32m[I 2022-08-06 04:44:15,264]\u001b[0m Trial 109 finished with value: 0.7961090191865334 and parameters: {'num_iterations': 4700, 'drop_rate': 0.12000000000000001, 'max_drop': 100, 'skip_drop': 0.6000000000000001}. Best is trial 62 with value: 0.7968637138993222.\u001b[0m\n"
     ]
    },
    {
     "name": "stderr",
     "output_type": "stream",
     "text": [
      "/opt/conda/lib/python3.7/site-packages/lightgbm/engine.py:177: UserWarning:\n",
      "\n",
      "Found `num_iterations` in params. Will use it instead of argument\n",
      "\n"
     ]
    },
    {
     "name": "stderr",
     "output_type": "stream",
     "text": [
      "\u001b[32m[I 2022-08-06 05:46:25,253]\u001b[0m Trial 110 finished with value: 0.7960570963525793 and parameters: {'num_iterations': 5000, 'drop_rate': 0.11, 'max_drop': 80, 'skip_drop': 0.65}. Best is trial 62 with value: 0.7968637138993222.\u001b[0m\n"
     ]
    },
    {
     "name": "stderr",
     "output_type": "stream",
     "text": [
      "/opt/conda/lib/python3.7/site-packages/lightgbm/engine.py:177: UserWarning:\n",
      "\n",
      "Found `num_iterations` in params. Will use it instead of argument\n",
      "\n"
     ]
    },
    {
     "name": "stderr",
     "output_type": "stream",
     "text": [
      "\u001b[32m[I 2022-08-06 06:20:11,090]\u001b[0m Trial 111 finished with value: 0.7958391011291436 and parameters: {'num_iterations': 5400, 'drop_rate': 0.09, 'max_drop': 20, 'skip_drop': 0.7}. Best is trial 62 with value: 0.7968637138993222.\u001b[0m\n"
     ]
    },
    {
     "name": "stderr",
     "output_type": "stream",
     "text": [
      "/opt/conda/lib/python3.7/site-packages/lightgbm/engine.py:177: UserWarning:\n",
      "\n",
      "Found `num_iterations` in params. Will use it instead of argument\n",
      "\n"
     ]
    },
    {
     "name": "stderr",
     "output_type": "stream",
     "text": [
      "\u001b[32m[I 2022-08-06 07:03:24,932]\u001b[0m Trial 112 finished with value: 0.7966806850684205 and parameters: {'num_iterations': 4950, 'drop_rate': 0.19, 'max_drop': 50, 'skip_drop': 0.7}. Best is trial 62 with value: 0.7968637138993222.\u001b[0m\n"
     ]
    },
    {
     "name": "stderr",
     "output_type": "stream",
     "text": [
      "/opt/conda/lib/python3.7/site-packages/lightgbm/engine.py:177: UserWarning:\n",
      "\n",
      "Found `num_iterations` in params. Will use it instead of argument\n",
      "\n"
     ]
    },
    {
     "name": "stderr",
     "output_type": "stream",
     "text": [
      "\u001b[32m[I 2022-08-06 07:52:42,742]\u001b[0m Trial 113 finished with value: 0.7962602057968124 and parameters: {'num_iterations': 5550, 'drop_rate': 0.21000000000000002, 'max_drop': 50, 'skip_drop': 0.7}. Best is trial 62 with value: 0.7968637138993222.\u001b[0m\n"
     ]
    },
    {
     "name": "stderr",
     "output_type": "stream",
     "text": [
      "/opt/conda/lib/python3.7/site-packages/lightgbm/engine.py:177: UserWarning:\n",
      "\n",
      "Found `num_iterations` in params. Will use it instead of argument\n",
      "\n"
     ]
    },
    {
     "name": "stderr",
     "output_type": "stream",
     "text": [
      "\u001b[32m[I 2022-08-06 08:38:52,892]\u001b[0m Trial 114 finished with value: 0.7966629375923067 and parameters: {'num_iterations': 4300, 'drop_rate': 0.2, 'max_drop': 60, 'skip_drop': 0.65}. Best is trial 62 with value: 0.7968637138993222.\u001b[0m\n"
     ]
    },
    {
     "name": "stderr",
     "output_type": "stream",
     "text": [
      "/opt/conda/lib/python3.7/site-packages/lightgbm/engine.py:177: UserWarning:\n",
      "\n",
      "Found `num_iterations` in params. Will use it instead of argument\n",
      "\n"
     ]
    },
    {
     "name": "stderr",
     "output_type": "stream",
     "text": [
      "\u001b[32m[I 2022-08-06 09:21:30,747]\u001b[0m Trial 115 finished with value: 0.796021675257926 and parameters: {'num_iterations': 4350, 'drop_rate': 0.22000000000000003, 'max_drop': 60, 'skip_drop': 0.7}. Best is trial 62 with value: 0.7968637138993222.\u001b[0m\n"
     ]
    },
    {
     "name": "stderr",
     "output_type": "stream",
     "text": [
      "/opt/conda/lib/python3.7/site-packages/lightgbm/engine.py:177: UserWarning:\n",
      "\n",
      "Found `num_iterations` in params. Will use it instead of argument\n",
      "\n"
     ]
    },
    {
     "name": "stderr",
     "output_type": "stream",
     "text": [
      "\u001b[32m[I 2022-08-06 10:01:13,318]\u001b[0m Trial 116 finished with value: 0.7961556841381535 and parameters: {'num_iterations': 4800, 'drop_rate': 0.2, 'max_drop': 50, 'skip_drop': 0.75}. Best is trial 62 with value: 0.7968637138993222.\u001b[0m\n"
     ]
    },
    {
     "name": "stderr",
     "output_type": "stream",
     "text": [
      "/opt/conda/lib/python3.7/site-packages/lightgbm/engine.py:177: UserWarning:\n",
      "\n",
      "Found `num_iterations` in params. Will use it instead of argument\n",
      "\n"
     ]
    },
    {
     "name": "stderr",
     "output_type": "stream",
     "text": [
      "\u001b[32m[I 2022-08-06 11:05:41,018]\u001b[0m Trial 117 finished with value: 0.7958277662708002 and parameters: {'num_iterations': 4600, 'drop_rate': 0.19, 'max_drop': 70, 'skip_drop': 0.5}. Best is trial 62 with value: 0.7968637138993222.\u001b[0m\n"
     ]
    },
    {
     "name": "stderr",
     "output_type": "stream",
     "text": [
      "/opt/conda/lib/python3.7/site-packages/lightgbm/engine.py:177: UserWarning:\n",
      "\n",
      "Found `num_iterations` in params. Will use it instead of argument\n",
      "\n"
     ]
    },
    {
     "name": "stderr",
     "output_type": "stream",
     "text": [
      "\u001b[32m[I 2022-08-06 12:15:33,541]\u001b[0m Trial 118 finished with value: 0.7957529957626814 and parameters: {'num_iterations': 5150, 'drop_rate': 0.19, 'max_drop': 90, 'skip_drop': 0.65}. Best is trial 62 with value: 0.7968637138993222.\u001b[0m\n"
     ]
    },
    {
     "name": "stderr",
     "output_type": "stream",
     "text": [
      "/opt/conda/lib/python3.7/site-packages/lightgbm/engine.py:177: UserWarning:\n",
      "\n",
      "Found `num_iterations` in params. Will use it instead of argument\n",
      "\n"
     ]
    },
    {
     "name": "stderr",
     "output_type": "stream",
     "text": [
      "\u001b[32m[I 2022-08-06 12:49:30,494]\u001b[0m Trial 119 finished with value: 0.7961947948318175 and parameters: {'num_iterations': 4250, 'drop_rate': 0.18, 'max_drop': 40, 'skip_drop': 0.7}. Best is trial 62 with value: 0.7968637138993222.\u001b[0m\n"
     ]
    },
    {
     "name": "stderr",
     "output_type": "stream",
     "text": [
      "/opt/conda/lib/python3.7/site-packages/lightgbm/engine.py:177: UserWarning:\n",
      "\n",
      "Found `num_iterations` in params. Will use it instead of argument\n",
      "\n"
     ]
    },
    {
     "name": "stderr",
     "output_type": "stream",
     "text": [
      "\u001b[32m[I 2022-08-06 13:15:10,562]\u001b[0m Trial 120 finished with value: 0.7959120238279729 and parameters: {'num_iterations': 4500, 'drop_rate': 0.2, 'max_drop': 10, 'skip_drop': 0.6000000000000001}. Best is trial 62 with value: 0.7968637138993222.\u001b[0m\n"
     ]
    },
    {
     "name": "stderr",
     "output_type": "stream",
     "text": [
      "/opt/conda/lib/python3.7/site-packages/lightgbm/engine.py:177: UserWarning:\n",
      "\n",
      "Found `num_iterations` in params. Will use it instead of argument\n",
      "\n"
     ]
    },
    {
     "name": "stderr",
     "output_type": "stream",
     "text": [
      "\u001b[32m[I 2022-08-06 15:05:03,834]\u001b[0m Trial 121 finished with value: 0.7960847071977042 and parameters: {'num_iterations': 4900, 'drop_rate': 0.15000000000000002, 'max_drop': 200, 'skip_drop': 0.65}. Best is trial 62 with value: 0.7968637138993222.\u001b[0m\n"
     ]
    },
    {
     "name": "stderr",
     "output_type": "stream",
     "text": [
      "/opt/conda/lib/python3.7/site-packages/lightgbm/engine.py:177: UserWarning:\n",
      "\n",
      "Found `num_iterations` in params. Will use it instead of argument\n",
      "\n"
     ]
    },
    {
     "name": "stderr",
     "output_type": "stream",
     "text": [
      "\u001b[32m[I 2022-08-06 16:13:51,587]\u001b[0m Trial 122 finished with value: 0.7958950773727684 and parameters: {'num_iterations': 4450, 'drop_rate': 0.14, 'max_drop': 110, 'skip_drop': 0.65}. Best is trial 62 with value: 0.7968637138993222.\u001b[0m\n"
     ]
    },
    {
     "name": "stderr",
     "output_type": "stream",
     "text": [
      "/opt/conda/lib/python3.7/site-packages/lightgbm/engine.py:177: UserWarning:\n",
      "\n",
      "Found `num_iterations` in params. Will use it instead of argument\n",
      "\n"
     ]
    },
    {
     "name": "stderr",
     "output_type": "stream",
     "text": [
      "\u001b[32m[I 2022-08-06 17:56:52,683]\u001b[0m Trial 123 finished with value: 0.7961906667189884 and parameters: {'num_iterations': 4150, 'drop_rate': 0.18, 'max_drop': 220, 'skip_drop': 0.65}. Best is trial 62 with value: 0.7968637138993222.\u001b[0m\n"
     ]
    },
    {
     "name": "stderr",
     "output_type": "stream",
     "text": [
      "/opt/conda/lib/python3.7/site-packages/lightgbm/engine.py:177: UserWarning:\n",
      "\n",
      "Found `num_iterations` in params. Will use it instead of argument\n",
      "\n"
     ]
    },
    {
     "name": "stderr",
     "output_type": "stream",
     "text": [
      "\u001b[32m[I 2022-08-06 20:06:59,028]\u001b[0m Trial 124 finished with value: 0.7954966143437976 and parameters: {'num_iterations': 3750, 'drop_rate': 0.22000000000000003, 'max_drop': 490, 'skip_drop': 0.7}. Best is trial 62 with value: 0.7968637138993222.\u001b[0m\n"
     ]
    },
    {
     "name": "stderr",
     "output_type": "stream",
     "text": [
      "/opt/conda/lib/python3.7/site-packages/lightgbm/engine.py:177: UserWarning:\n",
      "\n",
      "Found `num_iterations` in params. Will use it instead of argument\n",
      "\n"
     ]
    },
    {
     "name": "stderr",
     "output_type": "stream",
     "text": [
      "\u001b[32m[I 2022-08-06 22:15:49,240]\u001b[0m Trial 125 finished with value: 0.7958063638425524 and parameters: {'num_iterations': 4650, 'drop_rate': 0.21000000000000002, 'max_drop': 250, 'skip_drop': 0.65}. Best is trial 62 with value: 0.7968637138993222.\u001b[0m\n"
     ]
    },
    {
     "name": "stderr",
     "output_type": "stream",
     "text": [
      "/opt/conda/lib/python3.7/site-packages/lightgbm/engine.py:177: UserWarning:\n",
      "\n",
      "Found `num_iterations` in params. Will use it instead of argument\n",
      "\n"
     ]
    },
    {
     "name": "stderr",
     "output_type": "stream",
     "text": [
      "\u001b[32m[I 2022-08-06 22:42:53,127]\u001b[0m Trial 126 finished with value: 0.7933970367522607 and parameters: {'num_iterations': 1550, 'drop_rate': 0.13, 'max_drop': 380, 'skip_drop': 0.6000000000000001}. Best is trial 62 with value: 0.7968637138993222.\u001b[0m\n"
     ]
    },
    {
     "name": "stderr",
     "output_type": "stream",
     "text": [
      "/opt/conda/lib/python3.7/site-packages/lightgbm/engine.py:177: UserWarning:\n",
      "\n",
      "Found `num_iterations` in params. Will use it instead of argument\n",
      "\n"
     ]
    },
    {
     "name": "stderr",
     "output_type": "stream",
     "text": [
      "\u001b[32m[I 2022-08-06 23:25:34,987]\u001b[0m Trial 127 finished with value: 0.79568753700347 and parameters: {'num_iterations': 4800, 'drop_rate': 0.2, 'max_drop': 60, 'skip_drop': 0.75}. Best is trial 62 with value: 0.7968637138993222.\u001b[0m\n"
     ]
    },
    {
     "name": "stderr",
     "output_type": "stream",
     "text": [
      "/opt/conda/lib/python3.7/site-packages/lightgbm/engine.py:177: UserWarning:\n",
      "\n",
      "Found `num_iterations` in params. Will use it instead of argument\n",
      "\n"
     ]
    },
    {
     "name": "stderr",
     "output_type": "stream",
     "text": [
      "\u001b[32m[I 2022-08-07 00:56:30,039]\u001b[0m Trial 128 finished with value: 0.7960124819536183 and parameters: {'num_iterations': 3900, 'drop_rate': 0.11, 'max_drop': 270, 'skip_drop': 0.65}. Best is trial 62 with value: 0.7968637138993222.\u001b[0m\n"
     ]
    },
    {
     "name": "stderr",
     "output_type": "stream",
     "text": [
      "/opt/conda/lib/python3.7/site-packages/lightgbm/engine.py:177: UserWarning:\n",
      "\n",
      "Found `num_iterations` in params. Will use it instead of argument\n",
      "\n"
     ]
    },
    {
     "name": "stderr",
     "output_type": "stream",
     "text": [
      "\u001b[32m[I 2022-08-07 03:47:49,328]\u001b[0m Trial 129 finished with value: 0.7955087254158286 and parameters: {'num_iterations': 5250, 'drop_rate': 0.19, 'max_drop': 420, 'skip_drop': 0.7}. Best is trial 62 with value: 0.7968637138993222.\u001b[0m\n"
     ]
    },
    {
     "name": "stderr",
     "output_type": "stream",
     "text": [
      "/opt/conda/lib/python3.7/site-packages/lightgbm/engine.py:177: UserWarning:\n",
      "\n",
      "Found `num_iterations` in params. Will use it instead of argument\n",
      "\n"
     ]
    },
    {
     "name": "stderr",
     "output_type": "stream",
     "text": [
      "\u001b[32m[I 2022-08-07 05:27:19,224]\u001b[0m Trial 130 finished with value: 0.7958284514939185 and parameters: {'num_iterations': 4300, 'drop_rate': 0.16, 'max_drop': 180, 'skip_drop': 0.6000000000000001}. Best is trial 62 with value: 0.7968637138993222.\u001b[0m\n"
     ]
    },
    {
     "name": "stderr",
     "output_type": "stream",
     "text": [
      "/opt/conda/lib/python3.7/site-packages/lightgbm/engine.py:177: UserWarning:\n",
      "\n",
      "Found `num_iterations` in params. Will use it instead of argument\n",
      "\n"
     ]
    },
    {
     "name": "stderr",
     "output_type": "stream",
     "text": [
      "\u001b[32m[I 2022-08-07 06:02:04,186]\u001b[0m Trial 131 finished with value: 0.7961017274214817 and parameters: {'num_iterations': 4850, 'drop_rate': 0.08, 'max_drop': 30, 'skip_drop': 0.7}. Best is trial 62 with value: 0.7968637138993222.\u001b[0m\n"
     ]
    },
    {
     "name": "stderr",
     "output_type": "stream",
     "text": [
      "/opt/conda/lib/python3.7/site-packages/lightgbm/engine.py:177: UserWarning:\n",
      "\n",
      "Found `num_iterations` in params. Will use it instead of argument\n",
      "\n"
     ]
    },
    {
     "name": "stderr",
     "output_type": "stream",
     "text": [
      "\u001b[32m[I 2022-08-07 06:38:00,209]\u001b[0m Trial 132 finished with value: 0.7958209172633458 and parameters: {'num_iterations': 5000, 'drop_rate': 0.1, 'max_drop': 30, 'skip_drop': 0.7}. Best is trial 62 with value: 0.7968637138993222.\u001b[0m\n"
     ]
    },
    {
     "name": "stderr",
     "output_type": "stream",
     "text": [
      "/opt/conda/lib/python3.7/site-packages/lightgbm/engine.py:177: UserWarning:\n",
      "\n",
      "Found `num_iterations` in params. Will use it instead of argument\n",
      "\n"
     ]
    },
    {
     "name": "stderr",
     "output_type": "stream",
     "text": [
      "\u001b[32m[I 2022-08-07 07:34:57,634]\u001b[0m Trial 133 finished with value: 0.7959387555028534 and parameters: {'num_iterations': 5150, 'drop_rate': 0.07, 'max_drop': 80, 'skip_drop': 0.7}. Best is trial 62 with value: 0.7968637138993222.\u001b[0m\n"
     ]
    },
    {
     "name": "stderr",
     "output_type": "stream",
     "text": [
      "/opt/conda/lib/python3.7/site-packages/lightgbm/engine.py:177: UserWarning:\n",
      "\n",
      "Found `num_iterations` in params. Will use it instead of argument\n",
      "\n"
     ]
    },
    {
     "name": "stderr",
     "output_type": "stream",
     "text": [
      "\u001b[32m[I 2022-08-07 08:18:33,801]\u001b[0m Trial 134 finished with value: 0.7957199647668938 and parameters: {'num_iterations': 5050, 'drop_rate': 0.09, 'max_drop': 40, 'skip_drop': 0.65}. Best is trial 62 with value: 0.7968637138993222.\u001b[0m\n"
     ]
    },
    {
     "name": "stderr",
     "output_type": "stream",
     "text": [
      "/opt/conda/lib/python3.7/site-packages/lightgbm/engine.py:177: UserWarning:\n",
      "\n",
      "Found `num_iterations` in params. Will use it instead of argument\n",
      "\n"
     ]
    },
    {
     "name": "stderr",
     "output_type": "stream",
     "text": [
      "\u001b[32m[I 2022-08-07 09:37:32,756]\u001b[0m Trial 135 finished with value: 0.7958069778086923 and parameters: {'num_iterations': 4950, 'drop_rate': 0.08, 'max_drop': 450, 'skip_drop': 0.75}. Best is trial 62 with value: 0.7968637138993222.\u001b[0m\n"
     ]
    },
    {
     "name": "stderr",
     "output_type": "stream",
     "text": [
      "/opt/conda/lib/python3.7/site-packages/lightgbm/engine.py:177: UserWarning:\n",
      "\n",
      "Found `num_iterations` in params. Will use it instead of argument\n",
      "\n"
     ]
    },
    {
     "name": "stderr",
     "output_type": "stream",
     "text": [
      "\u001b[32m[I 2022-08-07 10:20:58,279]\u001b[0m Trial 136 finished with value: 0.7958467823262184 and parameters: {'num_iterations': 4500, 'drop_rate': 0.060000000000000005, 'max_drop': 50, 'skip_drop': 0.65}. Best is trial 62 with value: 0.7968637138993222.\u001b[0m\n"
     ]
    },
    {
     "name": "stderr",
     "output_type": "stream",
     "text": [
      "/opt/conda/lib/python3.7/site-packages/lightgbm/engine.py:177: UserWarning:\n",
      "\n",
      "Found `num_iterations` in params. Will use it instead of argument\n",
      "\n"
     ]
    },
    {
     "name": "stderr",
     "output_type": "stream",
     "text": [
      "\u001b[32m[I 2022-08-07 11:04:52,462]\u001b[0m Trial 137 finished with value: 0.7962203124268008 and parameters: {'num_iterations': 4050, 'drop_rate': 0.16999999999999998, 'max_drop': 70, 'skip_drop': 0.7}. Best is trial 62 with value: 0.7968637138993222.\u001b[0m\n"
     ]
    },
    {
     "name": "stderr",
     "output_type": "stream",
     "text": [
      "/opt/conda/lib/python3.7/site-packages/lightgbm/engine.py:177: UserWarning:\n",
      "\n",
      "Found `num_iterations` in params. Will use it instead of argument\n",
      "\n"
     ]
    },
    {
     "name": "stderr",
     "output_type": "stream",
     "text": [
      "\u001b[32m[I 2022-08-07 14:07:24,740]\u001b[0m Trial 138 finished with value: 0.7901948509223892 and parameters: {'num_iterations': 4750, 'drop_rate': 0.12000000000000001, 'max_drop': 240, 'skip_drop': 0.30000000000000004}. Best is trial 62 with value: 0.7968637138993222.\u001b[0m\n"
     ]
    },
    {
     "name": "stderr",
     "output_type": "stream",
     "text": [
      "/opt/conda/lib/python3.7/site-packages/lightgbm/engine.py:177: UserWarning:\n",
      "\n",
      "Found `num_iterations` in params. Will use it instead of argument\n",
      "\n"
     ]
    },
    {
     "name": "stderr",
     "output_type": "stream",
     "text": [
      "\u001b[32m[I 2022-08-07 15:04:35,159]\u001b[0m Trial 139 finished with value: 0.7956689023864849 and parameters: {'num_iterations': 4350, 'drop_rate': 0.18, 'max_drop': 160, 'skip_drop': 0.8}. Best is trial 62 with value: 0.7968637138993222.\u001b[0m\n"
     ]
    },
    {
     "name": "stderr",
     "output_type": "stream",
     "text": [
      "/opt/conda/lib/python3.7/site-packages/lightgbm/engine.py:177: UserWarning:\n",
      "\n",
      "Found `num_iterations` in params. Will use it instead of argument\n",
      "\n"
     ]
    },
    {
     "name": "stderr",
     "output_type": "stream",
     "text": [
      "\u001b[32m[I 2022-08-07 15:20:26,090]\u001b[0m Trial 140 finished with value: 0.7958133456991754 and parameters: {'num_iterations': 2600, 'drop_rate': 0.1, 'max_drop': 10, 'skip_drop': 0.6000000000000001}. Best is trial 62 with value: 0.7968637138993222.\u001b[0m\n"
     ]
    },
    {
     "name": "stderr",
     "output_type": "stream",
     "text": [
      "/opt/conda/lib/python3.7/site-packages/lightgbm/engine.py:177: UserWarning:\n",
      "\n",
      "Found `num_iterations` in params. Will use it instead of argument\n",
      "\n"
     ]
    },
    {
     "name": "stderr",
     "output_type": "stream",
     "text": [
      "\u001b[32m[I 2022-08-07 15:49:49,426]\u001b[0m Trial 141 finished with value: 0.7961668075327544 and parameters: {'num_iterations': 4650, 'drop_rate': 0.07, 'max_drop': 20, 'skip_drop': 0.7}. Best is trial 62 with value: 0.7968637138993222.\u001b[0m\n"
     ]
    },
    {
     "name": "stderr",
     "output_type": "stream",
     "text": [
      "/opt/conda/lib/python3.7/site-packages/lightgbm/engine.py:177: UserWarning:\n",
      "\n",
      "Found `num_iterations` in params. Will use it instead of argument\n",
      "\n"
     ]
    },
    {
     "name": "stderr",
     "output_type": "stream",
     "text": [
      "\u001b[32m[I 2022-08-07 16:25:27,962]\u001b[0m Trial 142 finished with value: 0.796387006592817 and parameters: {'num_iterations': 4950, 'drop_rate': 0.07, 'max_drop': 30, 'skip_drop': 0.7}. Best is trial 62 with value: 0.7968637138993222.\u001b[0m\n"
     ]
    },
    {
     "name": "stderr",
     "output_type": "stream",
     "text": [
      "/opt/conda/lib/python3.7/site-packages/lightgbm/engine.py:177: UserWarning:\n",
      "\n",
      "Found `num_iterations` in params. Will use it instead of argument\n",
      "\n"
     ]
    },
    {
     "name": "stderr",
     "output_type": "stream",
     "text": [
      "\u001b[32m[I 2022-08-07 17:08:20,537]\u001b[0m Trial 143 finished with value: 0.7961019240560185 and parameters: {'num_iterations': 5300, 'drop_rate': 0.09, 'max_drop': 50, 'skip_drop': 0.75}. Best is trial 62 with value: 0.7968637138993222.\u001b[0m\n"
     ]
    },
    {
     "name": "stderr",
     "output_type": "stream",
     "text": [
      "/opt/conda/lib/python3.7/site-packages/lightgbm/engine.py:177: UserWarning:\n",
      "\n",
      "Found `num_iterations` in params. Will use it instead of argument\n",
      "\n"
     ]
    },
    {
     "name": "stderr",
     "output_type": "stream",
     "text": [
      "\u001b[32m[I 2022-08-07 17:51:28,700]\u001b[0m Trial 144 finished with value: 0.7960634142192957 and parameters: {'num_iterations': 4950, 'drop_rate': 0.05, 'max_drop': 40, 'skip_drop': 0.65}. Best is trial 62 with value: 0.7968637138993222.\u001b[0m\n"
     ]
    },
    {
     "name": "stderr",
     "output_type": "stream",
     "text": [
      "/opt/conda/lib/python3.7/site-packages/lightgbm/engine.py:177: UserWarning:\n",
      "\n",
      "Found `num_iterations` in params. Will use it instead of argument\n",
      "\n"
     ]
    },
    {
     "name": "stderr",
     "output_type": "stream",
     "text": [
      "\u001b[32m[I 2022-08-07 18:35:24,056]\u001b[0m Trial 145 finished with value: 0.7963947725585567 and parameters: {'num_iterations': 6200, 'drop_rate': 0.07, 'max_drop': 30, 'skip_drop': 0.7}. Best is trial 62 with value: 0.7968637138993222.\u001b[0m\n"
     ]
    },
    {
     "name": "stderr",
     "output_type": "stream",
     "text": [
      "/opt/conda/lib/python3.7/site-packages/lightgbm/engine.py:177: UserWarning:\n",
      "\n",
      "Found `num_iterations` in params. Will use it instead of argument\n",
      "\n"
     ]
    },
    {
     "name": "stderr",
     "output_type": "stream",
     "text": [
      "\u001b[32m[I 2022-08-07 19:38:02,675]\u001b[0m Trial 146 finished with value: 0.7953540671955556 and parameters: {'num_iterations': 6400, 'drop_rate': 0.28, 'max_drop': 60, 'skip_drop': 0.7}. Best is trial 62 with value: 0.7968637138993222.\u001b[0m\n"
     ]
    },
    {
     "name": "stderr",
     "output_type": "stream",
     "text": [
      "/opt/conda/lib/python3.7/site-packages/lightgbm/engine.py:177: UserWarning:\n",
      "\n",
      "Found `num_iterations` in params. Will use it instead of argument\n",
      "\n"
     ]
    },
    {
     "name": "stderr",
     "output_type": "stream",
     "text": [
      "\u001b[32m[I 2022-08-07 22:39:44,677]\u001b[0m Trial 147 finished with value: 0.7961780762580597 and parameters: {'num_iterations': 6000, 'drop_rate': 0.2, 'max_drop': 210, 'skip_drop': 0.55}. Best is trial 62 with value: 0.7968637138993222.\u001b[0m\n"
     ]
    },
    {
     "name": "stderr",
     "output_type": "stream",
     "text": [
      "/opt/conda/lib/python3.7/site-packages/lightgbm/engine.py:177: UserWarning:\n",
      "\n",
      "Found `num_iterations` in params. Will use it instead of argument\n",
      "\n"
     ]
    },
    {
     "name": "stderr",
     "output_type": "stream",
     "text": [
      "\u001b[32m[I 2022-08-08 02:36:08,665]\u001b[0m Trial 148 finished with value: 0.7957706039391443 and parameters: {'num_iterations': 5900, 'drop_rate': 0.08, 'max_drop': 340, 'skip_drop': 0.45}. Best is trial 62 with value: 0.7968637138993222.\u001b[0m\n"
     ]
    },
    {
     "name": "stderr",
     "output_type": "stream",
     "text": [
      "/opt/conda/lib/python3.7/site-packages/lightgbm/engine.py:177: UserWarning:\n",
      "\n",
      "Found `num_iterations` in params. Will use it instead of argument\n",
      "\n"
     ]
    },
    {
     "name": "stderr",
     "output_type": "stream",
     "text": [
      "\u001b[32m[I 2022-08-08 03:39:03,699]\u001b[0m Trial 149 finished with value: 0.7962627545979319 and parameters: {'num_iterations': 5500, 'drop_rate': 0.14, 'max_drop': 70, 'skip_drop': 0.65}. Best is trial 62 with value: 0.7968637138993222.\u001b[0m\n"
     ]
    },
    {
     "name": "stderr",
     "output_type": "stream",
     "text": [
      "/opt/conda/lib/python3.7/site-packages/lightgbm/engine.py:177: UserWarning:\n",
      "\n",
      "Found `num_iterations` in params. Will use it instead of argument\n",
      "\n"
     ]
    },
    {
     "name": "stderr",
     "output_type": "stream",
     "text": [
      "\u001b[32m[I 2022-08-08 04:48:05,968]\u001b[0m Trial 150 finished with value: 0.7957108310503919 and parameters: {'num_iterations': 4450, 'drop_rate': 0.09, 'max_drop': 290, 'skip_drop': 0.75}. Best is trial 62 with value: 0.7968637138993222.\u001b[0m\n"
     ]
    }
   ],
   "source": [
    "do_optimize = True\n",
    "\n",
    "study = optuna.create_study(\n",
    "    study_name=\"lgbm-dart-bce-dsv04\",\n",
    "    direction='maximize',\n",
    "    storage='sqlite:///lgbm-dart-bce-dsv04.db',\n",
    "    load_if_exists=True,\n",
    ")\n",
    "\n",
    "if do_optimize:\n",
    "    study.optimize(\n",
    "        objective, \n",
    "        n_trials=1000, \n",
    "        timeout=345600, #4-days\n",
    "        n_jobs=1, \n",
    "        gc_after_trial=True,\n",
    "    ) "
   ]
  },
  {
   "cell_type": "code",
   "execution_count": 13,
   "id": "99cab1fb",
   "metadata": {
    "execution": {
     "iopub.execute_input": "2022-08-08T04:48:06.285024Z",
     "iopub.status.busy": "2022-08-08T04:48:06.284486Z",
     "iopub.status.idle": "2022-08-08T04:48:06.313954Z",
     "shell.execute_reply": "2022-08-08T04:48:06.313531Z"
    },
    "papermill": {
     "duration": 0.085996,
     "end_time": "2022-08-08T04:48:06.314079",
     "exception": false,
     "start_time": "2022-08-08T04:48:06.228083",
     "status": "completed"
    },
    "tags": []
   },
   "outputs": [
    {
     "data": {
      "text/html": [
       "<div>\n",
       "<style scoped>\n",
       "    .dataframe tbody tr th:only-of-type {\n",
       "        vertical-align: middle;\n",
       "    }\n",
       "\n",
       "    .dataframe tbody tr th {\n",
       "        vertical-align: top;\n",
       "    }\n",
       "\n",
       "    .dataframe thead th {\n",
       "        text-align: right;\n",
       "    }\n",
       "</style>\n",
       "<table border=\"1\" class=\"dataframe\">\n",
       "  <thead>\n",
       "    <tr style=\"text-align: right;\">\n",
       "      <th></th>\n",
       "      <th>number</th>\n",
       "      <th>value</th>\n",
       "      <th>datetime_start</th>\n",
       "      <th>datetime_complete</th>\n",
       "      <th>duration</th>\n",
       "      <th>params_drop_rate</th>\n",
       "      <th>params_max_drop</th>\n",
       "      <th>params_num_iterations</th>\n",
       "      <th>params_skip_drop</th>\n",
       "      <th>state</th>\n",
       "    </tr>\n",
       "  </thead>\n",
       "  <tbody>\n",
       "    <tr>\n",
       "      <th>62</th>\n",
       "      <td>62</td>\n",
       "      <td>0.796864</td>\n",
       "      <td>2022-08-03 22:14:26.784423</td>\n",
       "      <td>2022-08-03 22:50:00.732739</td>\n",
       "      <td>0 days 00:35:33.948316</td>\n",
       "      <td>0.10</td>\n",
       "      <td>40</td>\n",
       "      <td>4350</td>\n",
       "      <td>0.70</td>\n",
       "      <td>COMPLETE</td>\n",
       "    </tr>\n",
       "    <tr>\n",
       "      <th>112</th>\n",
       "      <td>112</td>\n",
       "      <td>0.796681</td>\n",
       "      <td>2022-08-06 06:20:11.251245</td>\n",
       "      <td>2022-08-06 07:03:24.908742</td>\n",
       "      <td>0 days 00:43:13.657497</td>\n",
       "      <td>0.19</td>\n",
       "      <td>50</td>\n",
       "      <td>4950</td>\n",
       "      <td>0.70</td>\n",
       "      <td>COMPLETE</td>\n",
       "    </tr>\n",
       "    <tr>\n",
       "      <th>114</th>\n",
       "      <td>114</td>\n",
       "      <td>0.796663</td>\n",
       "      <td>2022-08-06 07:52:42.895430</td>\n",
       "      <td>2022-08-06 08:38:52.869665</td>\n",
       "      <td>0 days 00:46:09.974235</td>\n",
       "      <td>0.20</td>\n",
       "      <td>60</td>\n",
       "      <td>4300</td>\n",
       "      <td>0.65</td>\n",
       "      <td>COMPLETE</td>\n",
       "    </tr>\n",
       "    <tr>\n",
       "      <th>16</th>\n",
       "      <td>16</td>\n",
       "      <td>0.796638</td>\n",
       "      <td>2022-07-29 14:42:08.222255</td>\n",
       "      <td>2022-07-29 17:21:58.205647</td>\n",
       "      <td>0 days 02:39:49.983392</td>\n",
       "      <td>0.14</td>\n",
       "      <td>220</td>\n",
       "      <td>5750</td>\n",
       "      <td>0.60</td>\n",
       "      <td>COMPLETE</td>\n",
       "    </tr>\n",
       "    <tr>\n",
       "      <th>79</th>\n",
       "      <td>79</td>\n",
       "      <td>0.796573</td>\n",
       "      <td>2022-08-04 15:33:18.245685</td>\n",
       "      <td>2022-08-04 16:23:17.068902</td>\n",
       "      <td>0 days 00:49:58.823217</td>\n",
       "      <td>0.15</td>\n",
       "      <td>60</td>\n",
       "      <td>4650</td>\n",
       "      <td>0.65</td>\n",
       "      <td>COMPLETE</td>\n",
       "    </tr>\n",
       "    <tr>\n",
       "      <th>28</th>\n",
       "      <td>28</td>\n",
       "      <td>0.796567</td>\n",
       "      <td>2022-07-30 17:30:28.167280</td>\n",
       "      <td>2022-07-30 20:32:23.234022</td>\n",
       "      <td>0 days 03:01:55.066742</td>\n",
       "      <td>0.20</td>\n",
       "      <td>490</td>\n",
       "      <td>5250</td>\n",
       "      <td>0.70</td>\n",
       "      <td>COMPLETE</td>\n",
       "    </tr>\n",
       "    <tr>\n",
       "      <th>50</th>\n",
       "      <td>50</td>\n",
       "      <td>0.796478</td>\n",
       "      <td>2022-08-01 23:37:29.570490</td>\n",
       "      <td>2022-08-02 02:05:19.308352</td>\n",
       "      <td>0 days 02:27:49.737862</td>\n",
       "      <td>0.17</td>\n",
       "      <td>250</td>\n",
       "      <td>4800</td>\n",
       "      <td>0.60</td>\n",
       "      <td>COMPLETE</td>\n",
       "    </tr>\n",
       "    <tr>\n",
       "      <th>69</th>\n",
       "      <td>69</td>\n",
       "      <td>0.796476</td>\n",
       "      <td>2022-08-04 04:19:02.323358</td>\n",
       "      <td>2022-08-04 05:07:05.016649</td>\n",
       "      <td>0 days 00:48:02.693291</td>\n",
       "      <td>0.09</td>\n",
       "      <td>100</td>\n",
       "      <td>4300</td>\n",
       "      <td>0.75</td>\n",
       "      <td>COMPLETE</td>\n",
       "    </tr>\n",
       "    <tr>\n",
       "      <th>22</th>\n",
       "      <td>22</td>\n",
       "      <td>0.796458</td>\n",
       "      <td>2022-07-30 07:36:39.928330</td>\n",
       "      <td>2022-07-30 08:55:42.709861</td>\n",
       "      <td>0 days 01:19:02.781531</td>\n",
       "      <td>0.08</td>\n",
       "      <td>210</td>\n",
       "      <td>4250</td>\n",
       "      <td>0.65</td>\n",
       "      <td>COMPLETE</td>\n",
       "    </tr>\n",
       "    <tr>\n",
       "      <th>44</th>\n",
       "      <td>44</td>\n",
       "      <td>0.796451</td>\n",
       "      <td>2022-08-01 09:50:23.076169</td>\n",
       "      <td>2022-08-01 12:27:05.024984</td>\n",
       "      <td>0 days 02:36:41.948815</td>\n",
       "      <td>0.19</td>\n",
       "      <td>360</td>\n",
       "      <td>4750</td>\n",
       "      <td>0.65</td>\n",
       "      <td>COMPLETE</td>\n",
       "    </tr>\n",
       "    <tr>\n",
       "      <th>106</th>\n",
       "      <td>106</td>\n",
       "      <td>0.796439</td>\n",
       "      <td>2022-08-06 00:55:02.872103</td>\n",
       "      <td>2022-08-06 01:38:49.217912</td>\n",
       "      <td>0 days 00:43:46.345809</td>\n",
       "      <td>0.10</td>\n",
       "      <td>50</td>\n",
       "      <td>4950</td>\n",
       "      <td>0.70</td>\n",
       "      <td>COMPLETE</td>\n",
       "    </tr>\n",
       "    <tr>\n",
       "      <th>93</th>\n",
       "      <td>93</td>\n",
       "      <td>0.796411</td>\n",
       "      <td>2022-08-05 08:25:07.473702</td>\n",
       "      <td>2022-08-05 09:15:49.716899</td>\n",
       "      <td>0 days 00:50:42.243197</td>\n",
       "      <td>0.10</td>\n",
       "      <td>60</td>\n",
       "      <td>4700</td>\n",
       "      <td>0.65</td>\n",
       "      <td>COMPLETE</td>\n",
       "    </tr>\n",
       "    <tr>\n",
       "      <th>145</th>\n",
       "      <td>145</td>\n",
       "      <td>0.796395</td>\n",
       "      <td>2022-08-07 17:51:28.844105</td>\n",
       "      <td>2022-08-07 18:35:24.034387</td>\n",
       "      <td>0 days 00:43:55.190282</td>\n",
       "      <td>0.07</td>\n",
       "      <td>30</td>\n",
       "      <td>6200</td>\n",
       "      <td>0.70</td>\n",
       "      <td>COMPLETE</td>\n",
       "    </tr>\n",
       "    <tr>\n",
       "      <th>59</th>\n",
       "      <td>59</td>\n",
       "      <td>0.796388</td>\n",
       "      <td>2022-08-03 19:10:56.425104</td>\n",
       "      <td>2022-08-03 20:18:21.989068</td>\n",
       "      <td>0 days 01:07:25.563964</td>\n",
       "      <td>0.13</td>\n",
       "      <td>180</td>\n",
       "      <td>3400</td>\n",
       "      <td>0.65</td>\n",
       "      <td>COMPLETE</td>\n",
       "    </tr>\n",
       "    <tr>\n",
       "      <th>71</th>\n",
       "      <td>71</td>\n",
       "      <td>0.796387</td>\n",
       "      <td>2022-08-04 05:53:48.299826</td>\n",
       "      <td>2022-08-04 06:29:29.598428</td>\n",
       "      <td>0 days 00:35:41.298602</td>\n",
       "      <td>0.07</td>\n",
       "      <td>30</td>\n",
       "      <td>4950</td>\n",
       "      <td>0.70</td>\n",
       "      <td>COMPLETE</td>\n",
       "    </tr>\n",
       "    <tr>\n",
       "      <th>91</th>\n",
       "      <td>91</td>\n",
       "      <td>0.796387</td>\n",
       "      <td>2022-08-05 07:16:57.346262</td>\n",
       "      <td>2022-08-05 07:52:44.591800</td>\n",
       "      <td>0 days 00:35:47.245538</td>\n",
       "      <td>0.07</td>\n",
       "      <td>30</td>\n",
       "      <td>4950</td>\n",
       "      <td>0.70</td>\n",
       "      <td>COMPLETE</td>\n",
       "    </tr>\n",
       "    <tr>\n",
       "      <th>142</th>\n",
       "      <td>142</td>\n",
       "      <td>0.796387</td>\n",
       "      <td>2022-08-07 15:49:49.579117</td>\n",
       "      <td>2022-08-07 16:25:27.940363</td>\n",
       "      <td>0 days 00:35:38.361246</td>\n",
       "      <td>0.07</td>\n",
       "      <td>30</td>\n",
       "      <td>4950</td>\n",
       "      <td>0.70</td>\n",
       "      <td>COMPLETE</td>\n",
       "    </tr>\n",
       "    <tr>\n",
       "      <th>51</th>\n",
       "      <td>51</td>\n",
       "      <td>0.796386</td>\n",
       "      <td>2022-08-02 02:05:19.495110</td>\n",
       "      <td>2022-08-02 04:54:31.646109</td>\n",
       "      <td>0 days 02:49:12.150999</td>\n",
       "      <td>0.17</td>\n",
       "      <td>250</td>\n",
       "      <td>5450</td>\n",
       "      <td>0.60</td>\n",
       "      <td>COMPLETE</td>\n",
       "    </tr>\n",
       "    <tr>\n",
       "      <th>33</th>\n",
       "      <td>33</td>\n",
       "      <td>0.796381</td>\n",
       "      <td>2022-07-31 06:26:53.353875</td>\n",
       "      <td>2022-07-31 09:51:15.599213</td>\n",
       "      <td>0 days 03:24:22.245338</td>\n",
       "      <td>0.15</td>\n",
       "      <td>360</td>\n",
       "      <td>5450</td>\n",
       "      <td>0.60</td>\n",
       "      <td>COMPLETE</td>\n",
       "    </tr>\n",
       "    <tr>\n",
       "      <th>40</th>\n",
       "      <td>40</td>\n",
       "      <td>0.796344</td>\n",
       "      <td>2022-08-01 03:58:00.106538</td>\n",
       "      <td>2022-08-01 06:11:11.777820</td>\n",
       "      <td>0 days 02:13:11.671282</td>\n",
       "      <td>0.23</td>\n",
       "      <td>280</td>\n",
       "      <td>5000</td>\n",
       "      <td>0.70</td>\n",
       "      <td>COMPLETE</td>\n",
       "    </tr>\n",
       "  </tbody>\n",
       "</table>\n",
       "</div>"
      ],
      "text/plain": [
       "     number     value             datetime_start          datetime_complete  \\\n",
       "62       62  0.796864 2022-08-03 22:14:26.784423 2022-08-03 22:50:00.732739   \n",
       "112     112  0.796681 2022-08-06 06:20:11.251245 2022-08-06 07:03:24.908742   \n",
       "114     114  0.796663 2022-08-06 07:52:42.895430 2022-08-06 08:38:52.869665   \n",
       "16       16  0.796638 2022-07-29 14:42:08.222255 2022-07-29 17:21:58.205647   \n",
       "79       79  0.796573 2022-08-04 15:33:18.245685 2022-08-04 16:23:17.068902   \n",
       "28       28  0.796567 2022-07-30 17:30:28.167280 2022-07-30 20:32:23.234022   \n",
       "50       50  0.796478 2022-08-01 23:37:29.570490 2022-08-02 02:05:19.308352   \n",
       "69       69  0.796476 2022-08-04 04:19:02.323358 2022-08-04 05:07:05.016649   \n",
       "22       22  0.796458 2022-07-30 07:36:39.928330 2022-07-30 08:55:42.709861   \n",
       "44       44  0.796451 2022-08-01 09:50:23.076169 2022-08-01 12:27:05.024984   \n",
       "106     106  0.796439 2022-08-06 00:55:02.872103 2022-08-06 01:38:49.217912   \n",
       "93       93  0.796411 2022-08-05 08:25:07.473702 2022-08-05 09:15:49.716899   \n",
       "145     145  0.796395 2022-08-07 17:51:28.844105 2022-08-07 18:35:24.034387   \n",
       "59       59  0.796388 2022-08-03 19:10:56.425104 2022-08-03 20:18:21.989068   \n",
       "71       71  0.796387 2022-08-04 05:53:48.299826 2022-08-04 06:29:29.598428   \n",
       "91       91  0.796387 2022-08-05 07:16:57.346262 2022-08-05 07:52:44.591800   \n",
       "142     142  0.796387 2022-08-07 15:49:49.579117 2022-08-07 16:25:27.940363   \n",
       "51       51  0.796386 2022-08-02 02:05:19.495110 2022-08-02 04:54:31.646109   \n",
       "33       33  0.796381 2022-07-31 06:26:53.353875 2022-07-31 09:51:15.599213   \n",
       "40       40  0.796344 2022-08-01 03:58:00.106538 2022-08-01 06:11:11.777820   \n",
       "\n",
       "                  duration  params_drop_rate  params_max_drop  \\\n",
       "62  0 days 00:35:33.948316              0.10               40   \n",
       "112 0 days 00:43:13.657497              0.19               50   \n",
       "114 0 days 00:46:09.974235              0.20               60   \n",
       "16  0 days 02:39:49.983392              0.14              220   \n",
       "79  0 days 00:49:58.823217              0.15               60   \n",
       "28  0 days 03:01:55.066742              0.20              490   \n",
       "50  0 days 02:27:49.737862              0.17              250   \n",
       "69  0 days 00:48:02.693291              0.09              100   \n",
       "22  0 days 01:19:02.781531              0.08              210   \n",
       "44  0 days 02:36:41.948815              0.19              360   \n",
       "106 0 days 00:43:46.345809              0.10               50   \n",
       "93  0 days 00:50:42.243197              0.10               60   \n",
       "145 0 days 00:43:55.190282              0.07               30   \n",
       "59  0 days 01:07:25.563964              0.13              180   \n",
       "71  0 days 00:35:41.298602              0.07               30   \n",
       "91  0 days 00:35:47.245538              0.07               30   \n",
       "142 0 days 00:35:38.361246              0.07               30   \n",
       "51  0 days 02:49:12.150999              0.17              250   \n",
       "33  0 days 03:24:22.245338              0.15              360   \n",
       "40  0 days 02:13:11.671282              0.23              280   \n",
       "\n",
       "     params_num_iterations  params_skip_drop     state  \n",
       "62                    4350              0.70  COMPLETE  \n",
       "112                   4950              0.70  COMPLETE  \n",
       "114                   4300              0.65  COMPLETE  \n",
       "16                    5750              0.60  COMPLETE  \n",
       "79                    4650              0.65  COMPLETE  \n",
       "28                    5250              0.70  COMPLETE  \n",
       "50                    4800              0.60  COMPLETE  \n",
       "69                    4300              0.75  COMPLETE  \n",
       "22                    4250              0.65  COMPLETE  \n",
       "44                    4750              0.65  COMPLETE  \n",
       "106                   4950              0.70  COMPLETE  \n",
       "93                    4700              0.65  COMPLETE  \n",
       "145                   6200              0.70  COMPLETE  \n",
       "59                    3400              0.65  COMPLETE  \n",
       "71                    4950              0.70  COMPLETE  \n",
       "91                    4950              0.70  COMPLETE  \n",
       "142                   4950              0.70  COMPLETE  \n",
       "51                    5450              0.60  COMPLETE  \n",
       "33                    5450              0.60  COMPLETE  \n",
       "40                    5000              0.70  COMPLETE  "
      ]
     },
     "execution_count": 13,
     "metadata": {},
     "output_type": "execute_result"
    }
   ],
   "source": [
    "study.trials_dataframe().sort_values(\"value\", ascending=False).head(20)"
   ]
  },
  {
   "cell_type": "code",
   "execution_count": 14,
   "id": "e6e10bee",
   "metadata": {
    "execution": {
     "iopub.execute_input": "2022-08-08T04:48:06.423456Z",
     "iopub.status.busy": "2022-08-08T04:48:06.422119Z",
     "iopub.status.idle": "2022-08-08T04:48:06.467142Z",
     "shell.execute_reply": "2022-08-08T04:48:06.467540Z"
    },
    "papermill": {
     "duration": 0.100638,
     "end_time": "2022-08-08T04:48:06.467690",
     "exception": false,
     "start_time": "2022-08-08T04:48:06.367052",
     "status": "completed"
    },
    "tags": []
   },
   "outputs": [
    {
     "data": {
      "application/vnd.plotly.v1+json": {
       "config": {
        "plotlyServerURL": "https://plot.ly"
       },
       "data": [
        {
         "mode": "markers",
         "name": "Objective Value",
         "type": "scatter",
         "x": [
          0,
          1,
          2,
          3,
          4,
          5,
          6,
          7,
          8,
          9,
          10,
          11,
          12,
          13,
          14,
          15,
          16,
          17,
          18,
          19,
          20,
          21,
          22,
          23,
          24,
          25,
          26,
          27,
          28,
          29,
          30,
          31,
          32,
          33,
          34,
          35,
          36,
          37,
          38,
          39,
          40,
          41,
          42,
          43,
          44,
          45,
          46,
          47,
          48,
          49,
          50,
          51,
          52,
          53,
          54,
          55,
          56,
          57,
          58,
          59,
          60,
          61,
          62,
          63,
          64,
          65,
          66,
          67,
          68,
          69,
          70,
          71,
          72,
          73,
          74,
          75,
          76,
          77,
          78,
          79,
          80,
          81,
          82,
          83,
          84,
          85,
          86,
          87,
          88,
          89,
          90,
          91,
          92,
          93,
          94,
          95,
          96,
          97,
          98,
          99,
          100,
          101,
          102,
          103,
          104,
          105,
          106,
          107,
          108,
          109,
          110,
          111,
          112,
          113,
          114,
          115,
          116,
          117,
          118,
          119,
          120,
          121,
          122,
          123,
          124,
          125,
          126,
          127,
          128,
          129,
          130,
          131,
          132,
          133,
          134,
          135,
          136,
          137,
          138,
          139,
          140,
          141,
          142,
          143,
          144,
          145,
          146,
          147,
          148,
          149,
          150
         ],
         "y": [
          0.7934828513823854,
          0.7887776754653126,
          0.7657633949669009,
          0.7893063535187914,
          0.7934140239367882,
          0.768933165673208,
          0.7936585516988193,
          0.795994121407122,
          0.788278297819258,
          0.7950361830594934,
          0.7957554482693723,
          0.795487713607252,
          0.7959821320686388,
          0.7959489394860406,
          0.7962949582774446,
          0.7962618347378678,
          0.7966376587847954,
          0.7960910690791542,
          0.7959193132710607,
          0.7961135552705001,
          0.7955447522998303,
          0.795879868122323,
          0.7964576014381992,
          0.7960453693146496,
          0.7956606465542907,
          0.7959290707602688,
          0.795572137262973,
          0.7960866108179058,
          0.7965667812409801,
          0.7936340597348707,
          0.7956593661461255,
          0.7961545927947526,
          0.7959167649071475,
          0.7963814938208511,
          0.7921076008500592,
          0.7963189927083211,
          0.795444752372658,
          0.7952457004183644,
          0.7957675579142425,
          0.7958930620928751,
          0.7963435413764814,
          0.796009636292423,
          0.7956885900268742,
          0.7963152399408011,
          0.7964513809306517,
          0.7957155635305967,
          0.7913291997347736,
          0.7959161874428411,
          0.7956860155375409,
          0.7961820894159517,
          0.7964783354372674,
          0.7963864815542239,
          0.7959366360430715,
          0.7960624398499789,
          0.796085505075128,
          0.7873062166996656,
          0.7961821947439658,
          0.7963079295416275,
          0.7956104430340134,
          0.7963883663867688,
          0.7957973579353552,
          0.7950897880785908,
          0.7968637138993222,
          0.796088689763687,
          0.7957005681186292,
          0.7957218797278811,
          0.7958285598615233,
          0.7960043557241444,
          0.7957112516672616,
          0.7964764858825374,
          0.7954780192239252,
          0.796387006592817,
          0.7957550371208463,
          0.7957111458081036,
          0.7962731045832812,
          0.7960451055762632,
          0.7913334344772897,
          0.795657199688902,
          0.7960413707037921,
          0.7965725304554911,
          0.795862327608742,
          0.7962678033163437,
          0.7962281462784069,
          0.7959700346908047,
          0.7960564301759181,
          0.7961715317009572,
          0.7962268129065593,
          0.7962566448887831,
          0.7962392314462488,
          0.7954019640791886,
          0.796166565254393,
          0.796387006592817,
          0.7960357106719247,
          0.7964109441907348,
          0.7958739663029102,
          0.7960926991363448,
          0.7959541870636127,
          0.7955628397897097,
          0.7959127943303909,
          0.795649271894906,
          0.7959708998279383,
          0.7960900573253732,
          0.7959105672173384,
          0.7963323522827768,
          0.7963250791502111,
          0.7955504115342283,
          0.7964391972407712,
          0.7960261528940157,
          0.7954391711154651,
          0.7961090191865334,
          0.7960570963525793,
          0.7958391011291436,
          0.7966806850684205,
          0.7962602057968124,
          0.7966629375923067,
          0.796021675257926,
          0.7961556841381535,
          0.7958277662708002,
          0.7957529957626814,
          0.7961947948318175,
          0.7959120238279729,
          0.7960847071977042,
          0.7958950773727684,
          0.7961906667189884,
          0.7954966143437976,
          0.7958063638425524,
          0.7933970367522607,
          0.79568753700347,
          0.7960124819536183,
          0.7955087254158286,
          0.7958284514939185,
          0.7961017274214817,
          0.7958209172633458,
          0.7959387555028534,
          0.7957199647668938,
          0.7958069778086923,
          0.7958467823262184,
          0.7962203124268008,
          0.7901948509223892,
          0.7956689023864849,
          0.7958133456991754,
          0.7961668075327544,
          0.796387006592817,
          0.7961019240560185,
          0.7960634142192957,
          0.7963947725585567,
          0.7953540671955556,
          0.7961780762580597,
          0.7957706039391443,
          0.7962627545979319,
          0.7957108310503919
         ]
        },
        {
         "name": "Best Value",
         "type": "scatter",
         "x": [
          0,
          1,
          2,
          3,
          4,
          5,
          6,
          7,
          8,
          9,
          10,
          11,
          12,
          13,
          14,
          15,
          16,
          17,
          18,
          19,
          20,
          21,
          22,
          23,
          24,
          25,
          26,
          27,
          28,
          29,
          30,
          31,
          32,
          33,
          34,
          35,
          36,
          37,
          38,
          39,
          40,
          41,
          42,
          43,
          44,
          45,
          46,
          47,
          48,
          49,
          50,
          51,
          52,
          53,
          54,
          55,
          56,
          57,
          58,
          59,
          60,
          61,
          62,
          63,
          64,
          65,
          66,
          67,
          68,
          69,
          70,
          71,
          72,
          73,
          74,
          75,
          76,
          77,
          78,
          79,
          80,
          81,
          82,
          83,
          84,
          85,
          86,
          87,
          88,
          89,
          90,
          91,
          92,
          93,
          94,
          95,
          96,
          97,
          98,
          99,
          100,
          101,
          102,
          103,
          104,
          105,
          106,
          107,
          108,
          109,
          110,
          111,
          112,
          113,
          114,
          115,
          116,
          117,
          118,
          119,
          120,
          121,
          122,
          123,
          124,
          125,
          126,
          127,
          128,
          129,
          130,
          131,
          132,
          133,
          134,
          135,
          136,
          137,
          138,
          139,
          140,
          141,
          142,
          143,
          144,
          145,
          146,
          147,
          148,
          149,
          150
         ],
         "y": [
          0.7934828513823854,
          0.7934828513823854,
          0.7934828513823854,
          0.7934828513823854,
          0.7934828513823854,
          0.7934828513823854,
          0.7936585516988193,
          0.795994121407122,
          0.795994121407122,
          0.795994121407122,
          0.795994121407122,
          0.795994121407122,
          0.795994121407122,
          0.795994121407122,
          0.7962949582774446,
          0.7962949582774446,
          0.7966376587847954,
          0.7966376587847954,
          0.7966376587847954,
          0.7966376587847954,
          0.7966376587847954,
          0.7966376587847954,
          0.7966376587847954,
          0.7966376587847954,
          0.7966376587847954,
          0.7966376587847954,
          0.7966376587847954,
          0.7966376587847954,
          0.7966376587847954,
          0.7966376587847954,
          0.7966376587847954,
          0.7966376587847954,
          0.7966376587847954,
          0.7966376587847954,
          0.7966376587847954,
          0.7966376587847954,
          0.7966376587847954,
          0.7966376587847954,
          0.7966376587847954,
          0.7966376587847954,
          0.7966376587847954,
          0.7966376587847954,
          0.7966376587847954,
          0.7966376587847954,
          0.7966376587847954,
          0.7966376587847954,
          0.7966376587847954,
          0.7966376587847954,
          0.7966376587847954,
          0.7966376587847954,
          0.7966376587847954,
          0.7966376587847954,
          0.7966376587847954,
          0.7966376587847954,
          0.7966376587847954,
          0.7966376587847954,
          0.7966376587847954,
          0.7966376587847954,
          0.7966376587847954,
          0.7966376587847954,
          0.7966376587847954,
          0.7966376587847954,
          0.7968637138993222,
          0.7968637138993222,
          0.7968637138993222,
          0.7968637138993222,
          0.7968637138993222,
          0.7968637138993222,
          0.7968637138993222,
          0.7968637138993222,
          0.7968637138993222,
          0.7968637138993222,
          0.7968637138993222,
          0.7968637138993222,
          0.7968637138993222,
          0.7968637138993222,
          0.7968637138993222,
          0.7968637138993222,
          0.7968637138993222,
          0.7968637138993222,
          0.7968637138993222,
          0.7968637138993222,
          0.7968637138993222,
          0.7968637138993222,
          0.7968637138993222,
          0.7968637138993222,
          0.7968637138993222,
          0.7968637138993222,
          0.7968637138993222,
          0.7968637138993222,
          0.7968637138993222,
          0.7968637138993222,
          0.7968637138993222,
          0.7968637138993222,
          0.7968637138993222,
          0.7968637138993222,
          0.7968637138993222,
          0.7968637138993222,
          0.7968637138993222,
          0.7968637138993222,
          0.7968637138993222,
          0.7968637138993222,
          0.7968637138993222,
          0.7968637138993222,
          0.7968637138993222,
          0.7968637138993222,
          0.7968637138993222,
          0.7968637138993222,
          0.7968637138993222,
          0.7968637138993222,
          0.7968637138993222,
          0.7968637138993222,
          0.7968637138993222,
          0.7968637138993222,
          0.7968637138993222,
          0.7968637138993222,
          0.7968637138993222,
          0.7968637138993222,
          0.7968637138993222,
          0.7968637138993222,
          0.7968637138993222,
          0.7968637138993222,
          0.7968637138993222,
          0.7968637138993222,
          0.7968637138993222,
          0.7968637138993222,
          0.7968637138993222,
          0.7968637138993222,
          0.7968637138993222,
          0.7968637138993222,
          0.7968637138993222,
          0.7968637138993222,
          0.7968637138993222,
          0.7968637138993222,
          0.7968637138993222,
          0.7968637138993222,
          0.7968637138993222,
          0.7968637138993222,
          0.7968637138993222,
          0.7968637138993222,
          0.7968637138993222,
          0.7968637138993222,
          0.7968637138993222,
          0.7968637138993222,
          0.7968637138993222,
          0.7968637138993222,
          0.7968637138993222,
          0.7968637138993222,
          0.7968637138993222,
          0.7968637138993222,
          0.7968637138993222
         ]
        }
       ],
       "layout": {
        "template": {
         "data": {
          "bar": [
           {
            "error_x": {
             "color": "#2a3f5f"
            },
            "error_y": {
             "color": "#2a3f5f"
            },
            "marker": {
             "line": {
              "color": "#E5ECF6",
              "width": 0.5
             },
             "pattern": {
              "fillmode": "overlay",
              "size": 10,
              "solidity": 0.2
             }
            },
            "type": "bar"
           }
          ],
          "barpolar": [
           {
            "marker": {
             "line": {
              "color": "#E5ECF6",
              "width": 0.5
             },
             "pattern": {
              "fillmode": "overlay",
              "size": 10,
              "solidity": 0.2
             }
            },
            "type": "barpolar"
           }
          ],
          "carpet": [
           {
            "aaxis": {
             "endlinecolor": "#2a3f5f",
             "gridcolor": "white",
             "linecolor": "white",
             "minorgridcolor": "white",
             "startlinecolor": "#2a3f5f"
            },
            "baxis": {
             "endlinecolor": "#2a3f5f",
             "gridcolor": "white",
             "linecolor": "white",
             "minorgridcolor": "white",
             "startlinecolor": "#2a3f5f"
            },
            "type": "carpet"
           }
          ],
          "choropleth": [
           {
            "colorbar": {
             "outlinewidth": 0,
             "ticks": ""
            },
            "type": "choropleth"
           }
          ],
          "contour": [
           {
            "colorbar": {
             "outlinewidth": 0,
             "ticks": ""
            },
            "colorscale": [
             [
              0.0,
              "#0d0887"
             ],
             [
              0.1111111111111111,
              "#46039f"
             ],
             [
              0.2222222222222222,
              "#7201a8"
             ],
             [
              0.3333333333333333,
              "#9c179e"
             ],
             [
              0.4444444444444444,
              "#bd3786"
             ],
             [
              0.5555555555555556,
              "#d8576b"
             ],
             [
              0.6666666666666666,
              "#ed7953"
             ],
             [
              0.7777777777777778,
              "#fb9f3a"
             ],
             [
              0.8888888888888888,
              "#fdca26"
             ],
             [
              1.0,
              "#f0f921"
             ]
            ],
            "type": "contour"
           }
          ],
          "contourcarpet": [
           {
            "colorbar": {
             "outlinewidth": 0,
             "ticks": ""
            },
            "type": "contourcarpet"
           }
          ],
          "heatmap": [
           {
            "colorbar": {
             "outlinewidth": 0,
             "ticks": ""
            },
            "colorscale": [
             [
              0.0,
              "#0d0887"
             ],
             [
              0.1111111111111111,
              "#46039f"
             ],
             [
              0.2222222222222222,
              "#7201a8"
             ],
             [
              0.3333333333333333,
              "#9c179e"
             ],
             [
              0.4444444444444444,
              "#bd3786"
             ],
             [
              0.5555555555555556,
              "#d8576b"
             ],
             [
              0.6666666666666666,
              "#ed7953"
             ],
             [
              0.7777777777777778,
              "#fb9f3a"
             ],
             [
              0.8888888888888888,
              "#fdca26"
             ],
             [
              1.0,
              "#f0f921"
             ]
            ],
            "type": "heatmap"
           }
          ],
          "heatmapgl": [
           {
            "colorbar": {
             "outlinewidth": 0,
             "ticks": ""
            },
            "colorscale": [
             [
              0.0,
              "#0d0887"
             ],
             [
              0.1111111111111111,
              "#46039f"
             ],
             [
              0.2222222222222222,
              "#7201a8"
             ],
             [
              0.3333333333333333,
              "#9c179e"
             ],
             [
              0.4444444444444444,
              "#bd3786"
             ],
             [
              0.5555555555555556,
              "#d8576b"
             ],
             [
              0.6666666666666666,
              "#ed7953"
             ],
             [
              0.7777777777777778,
              "#fb9f3a"
             ],
             [
              0.8888888888888888,
              "#fdca26"
             ],
             [
              1.0,
              "#f0f921"
             ]
            ],
            "type": "heatmapgl"
           }
          ],
          "histogram": [
           {
            "marker": {
             "pattern": {
              "fillmode": "overlay",
              "size": 10,
              "solidity": 0.2
             }
            },
            "type": "histogram"
           }
          ],
          "histogram2d": [
           {
            "colorbar": {
             "outlinewidth": 0,
             "ticks": ""
            },
            "colorscale": [
             [
              0.0,
              "#0d0887"
             ],
             [
              0.1111111111111111,
              "#46039f"
             ],
             [
              0.2222222222222222,
              "#7201a8"
             ],
             [
              0.3333333333333333,
              "#9c179e"
             ],
             [
              0.4444444444444444,
              "#bd3786"
             ],
             [
              0.5555555555555556,
              "#d8576b"
             ],
             [
              0.6666666666666666,
              "#ed7953"
             ],
             [
              0.7777777777777778,
              "#fb9f3a"
             ],
             [
              0.8888888888888888,
              "#fdca26"
             ],
             [
              1.0,
              "#f0f921"
             ]
            ],
            "type": "histogram2d"
           }
          ],
          "histogram2dcontour": [
           {
            "colorbar": {
             "outlinewidth": 0,
             "ticks": ""
            },
            "colorscale": [
             [
              0.0,
              "#0d0887"
             ],
             [
              0.1111111111111111,
              "#46039f"
             ],
             [
              0.2222222222222222,
              "#7201a8"
             ],
             [
              0.3333333333333333,
              "#9c179e"
             ],
             [
              0.4444444444444444,
              "#bd3786"
             ],
             [
              0.5555555555555556,
              "#d8576b"
             ],
             [
              0.6666666666666666,
              "#ed7953"
             ],
             [
              0.7777777777777778,
              "#fb9f3a"
             ],
             [
              0.8888888888888888,
              "#fdca26"
             ],
             [
              1.0,
              "#f0f921"
             ]
            ],
            "type": "histogram2dcontour"
           }
          ],
          "mesh3d": [
           {
            "colorbar": {
             "outlinewidth": 0,
             "ticks": ""
            },
            "type": "mesh3d"
           }
          ],
          "parcoords": [
           {
            "line": {
             "colorbar": {
              "outlinewidth": 0,
              "ticks": ""
             }
            },
            "type": "parcoords"
           }
          ],
          "pie": [
           {
            "automargin": true,
            "type": "pie"
           }
          ],
          "scatter": [
           {
            "marker": {
             "colorbar": {
              "outlinewidth": 0,
              "ticks": ""
             }
            },
            "type": "scatter"
           }
          ],
          "scatter3d": [
           {
            "line": {
             "colorbar": {
              "outlinewidth": 0,
              "ticks": ""
             }
            },
            "marker": {
             "colorbar": {
              "outlinewidth": 0,
              "ticks": ""
             }
            },
            "type": "scatter3d"
           }
          ],
          "scattercarpet": [
           {
            "marker": {
             "colorbar": {
              "outlinewidth": 0,
              "ticks": ""
             }
            },
            "type": "scattercarpet"
           }
          ],
          "scattergeo": [
           {
            "marker": {
             "colorbar": {
              "outlinewidth": 0,
              "ticks": ""
             }
            },
            "type": "scattergeo"
           }
          ],
          "scattergl": [
           {
            "marker": {
             "colorbar": {
              "outlinewidth": 0,
              "ticks": ""
             }
            },
            "type": "scattergl"
           }
          ],
          "scattermapbox": [
           {
            "marker": {
             "colorbar": {
              "outlinewidth": 0,
              "ticks": ""
             }
            },
            "type": "scattermapbox"
           }
          ],
          "scatterpolar": [
           {
            "marker": {
             "colorbar": {
              "outlinewidth": 0,
              "ticks": ""
             }
            },
            "type": "scatterpolar"
           }
          ],
          "scatterpolargl": [
           {
            "marker": {
             "colorbar": {
              "outlinewidth": 0,
              "ticks": ""
             }
            },
            "type": "scatterpolargl"
           }
          ],
          "scatterternary": [
           {
            "marker": {
             "colorbar": {
              "outlinewidth": 0,
              "ticks": ""
             }
            },
            "type": "scatterternary"
           }
          ],
          "surface": [
           {
            "colorbar": {
             "outlinewidth": 0,
             "ticks": ""
            },
            "colorscale": [
             [
              0.0,
              "#0d0887"
             ],
             [
              0.1111111111111111,
              "#46039f"
             ],
             [
              0.2222222222222222,
              "#7201a8"
             ],
             [
              0.3333333333333333,
              "#9c179e"
             ],
             [
              0.4444444444444444,
              "#bd3786"
             ],
             [
              0.5555555555555556,
              "#d8576b"
             ],
             [
              0.6666666666666666,
              "#ed7953"
             ],
             [
              0.7777777777777778,
              "#fb9f3a"
             ],
             [
              0.8888888888888888,
              "#fdca26"
             ],
             [
              1.0,
              "#f0f921"
             ]
            ],
            "type": "surface"
           }
          ],
          "table": [
           {
            "cells": {
             "fill": {
              "color": "#EBF0F8"
             },
             "line": {
              "color": "white"
             }
            },
            "header": {
             "fill": {
              "color": "#C8D4E3"
             },
             "line": {
              "color": "white"
             }
            },
            "type": "table"
           }
          ]
         },
         "layout": {
          "annotationdefaults": {
           "arrowcolor": "#2a3f5f",
           "arrowhead": 0,
           "arrowwidth": 1
          },
          "autotypenumbers": "strict",
          "coloraxis": {
           "colorbar": {
            "outlinewidth": 0,
            "ticks": ""
           }
          },
          "colorscale": {
           "diverging": [
            [
             0,
             "#8e0152"
            ],
            [
             0.1,
             "#c51b7d"
            ],
            [
             0.2,
             "#de77ae"
            ],
            [
             0.3,
             "#f1b6da"
            ],
            [
             0.4,
             "#fde0ef"
            ],
            [
             0.5,
             "#f7f7f7"
            ],
            [
             0.6,
             "#e6f5d0"
            ],
            [
             0.7,
             "#b8e186"
            ],
            [
             0.8,
             "#7fbc41"
            ],
            [
             0.9,
             "#4d9221"
            ],
            [
             1,
             "#276419"
            ]
           ],
           "sequential": [
            [
             0.0,
             "#0d0887"
            ],
            [
             0.1111111111111111,
             "#46039f"
            ],
            [
             0.2222222222222222,
             "#7201a8"
            ],
            [
             0.3333333333333333,
             "#9c179e"
            ],
            [
             0.4444444444444444,
             "#bd3786"
            ],
            [
             0.5555555555555556,
             "#d8576b"
            ],
            [
             0.6666666666666666,
             "#ed7953"
            ],
            [
             0.7777777777777778,
             "#fb9f3a"
            ],
            [
             0.8888888888888888,
             "#fdca26"
            ],
            [
             1.0,
             "#f0f921"
            ]
           ],
           "sequentialminus": [
            [
             0.0,
             "#0d0887"
            ],
            [
             0.1111111111111111,
             "#46039f"
            ],
            [
             0.2222222222222222,
             "#7201a8"
            ],
            [
             0.3333333333333333,
             "#9c179e"
            ],
            [
             0.4444444444444444,
             "#bd3786"
            ],
            [
             0.5555555555555556,
             "#d8576b"
            ],
            [
             0.6666666666666666,
             "#ed7953"
            ],
            [
             0.7777777777777778,
             "#fb9f3a"
            ],
            [
             0.8888888888888888,
             "#fdca26"
            ],
            [
             1.0,
             "#f0f921"
            ]
           ]
          },
          "colorway": [
           "#636efa",
           "#EF553B",
           "#00cc96",
           "#ab63fa",
           "#FFA15A",
           "#19d3f3",
           "#FF6692",
           "#B6E880",
           "#FF97FF",
           "#FECB52"
          ],
          "font": {
           "color": "#2a3f5f"
          },
          "geo": {
           "bgcolor": "white",
           "lakecolor": "white",
           "landcolor": "#E5ECF6",
           "showlakes": true,
           "showland": true,
           "subunitcolor": "white"
          },
          "hoverlabel": {
           "align": "left"
          },
          "hovermode": "closest",
          "mapbox": {
           "style": "light"
          },
          "paper_bgcolor": "white",
          "plot_bgcolor": "#E5ECF6",
          "polar": {
           "angularaxis": {
            "gridcolor": "white",
            "linecolor": "white",
            "ticks": ""
           },
           "bgcolor": "#E5ECF6",
           "radialaxis": {
            "gridcolor": "white",
            "linecolor": "white",
            "ticks": ""
           }
          },
          "scene": {
           "xaxis": {
            "backgroundcolor": "#E5ECF6",
            "gridcolor": "white",
            "gridwidth": 2,
            "linecolor": "white",
            "showbackground": true,
            "ticks": "",
            "zerolinecolor": "white"
           },
           "yaxis": {
            "backgroundcolor": "#E5ECF6",
            "gridcolor": "white",
            "gridwidth": 2,
            "linecolor": "white",
            "showbackground": true,
            "ticks": "",
            "zerolinecolor": "white"
           },
           "zaxis": {
            "backgroundcolor": "#E5ECF6",
            "gridcolor": "white",
            "gridwidth": 2,
            "linecolor": "white",
            "showbackground": true,
            "ticks": "",
            "zerolinecolor": "white"
           }
          },
          "shapedefaults": {
           "line": {
            "color": "#2a3f5f"
           }
          },
          "ternary": {
           "aaxis": {
            "gridcolor": "white",
            "linecolor": "white",
            "ticks": ""
           },
           "baxis": {
            "gridcolor": "white",
            "linecolor": "white",
            "ticks": ""
           },
           "bgcolor": "#E5ECF6",
           "caxis": {
            "gridcolor": "white",
            "linecolor": "white",
            "ticks": ""
           }
          },
          "title": {
           "x": 0.05
          },
          "xaxis": {
           "automargin": true,
           "gridcolor": "white",
           "linecolor": "white",
           "ticks": "",
           "title": {
            "standoff": 15
           },
           "zerolinecolor": "white",
           "zerolinewidth": 2
          },
          "yaxis": {
           "automargin": true,
           "gridcolor": "white",
           "linecolor": "white",
           "ticks": "",
           "title": {
            "standoff": 15
           },
           "zerolinecolor": "white",
           "zerolinewidth": 2
          }
         }
        },
        "title": {
         "text": "Optimization History Plot"
        },
        "xaxis": {
         "title": {
          "text": "#Trials"
         }
        },
        "yaxis": {
         "title": {
          "text": "Objective Value"
         }
        }
       }
      }
     },
     "metadata": {},
     "output_type": "display_data"
    }
   ],
   "source": [
    "plot_optimization_history(study)"
   ]
  },
  {
   "cell_type": "code",
   "execution_count": 15,
   "id": "9311e203",
   "metadata": {
    "execution": {
     "iopub.execute_input": "2022-08-08T04:48:06.590423Z",
     "iopub.status.busy": "2022-08-08T04:48:06.589105Z",
     "iopub.status.idle": "2022-08-08T04:48:10.373037Z",
     "shell.execute_reply": "2022-08-08T04:48:10.372544Z"
    },
    "papermill": {
     "duration": 3.845988,
     "end_time": "2022-08-08T04:48:10.373157",
     "exception": false,
     "start_time": "2022-08-08T04:48:06.527169",
     "status": "completed"
    },
    "tags": []
   },
   "outputs": [],
   "source": [
    "try:\n",
    "    plot_param_importances(study)\n",
    "except:\n",
    "    pass"
   ]
  },
  {
   "cell_type": "code",
   "execution_count": 16,
   "id": "0ac30fdf",
   "metadata": {
    "execution": {
     "iopub.execute_input": "2022-08-08T04:48:10.493421Z",
     "iopub.status.busy": "2022-08-08T04:48:10.492921Z",
     "iopub.status.idle": "2022-08-08T04:48:10.627068Z",
     "shell.execute_reply": "2022-08-08T04:48:10.627479Z"
    },
    "papermill": {
     "duration": 0.196336,
     "end_time": "2022-08-08T04:48:10.627622",
     "exception": false,
     "start_time": "2022-08-08T04:48:10.431286",
     "status": "completed"
    },
    "tags": []
   },
   "outputs": [
    {
     "data": {
      "application/vnd.plotly.v1+json": {
       "config": {
        "plotlyServerURL": "https://plot.ly"
       },
       "data": [
        {
         "marker": {
          "color": [
           0,
           1,
           2,
           3,
           4,
           5,
           6,
           7,
           8,
           9,
           10,
           11,
           12,
           13,
           14,
           15,
           16,
           17,
           18,
           19,
           20,
           21,
           22,
           23,
           24,
           25,
           26,
           27,
           28,
           29,
           30,
           31,
           32,
           33,
           34,
           35,
           36,
           37,
           38,
           39,
           40,
           41,
           42,
           43,
           44,
           45,
           46,
           47,
           48,
           49,
           50,
           51,
           52,
           53,
           54,
           55,
           56,
           57,
           58,
           59,
           60,
           61,
           62,
           63,
           64,
           65,
           66,
           67,
           68,
           69,
           70,
           71,
           72,
           73,
           74,
           75,
           76,
           77,
           78,
           79,
           80,
           81,
           82,
           83,
           84,
           85,
           86,
           87,
           88,
           89,
           90,
           91,
           92,
           93,
           94,
           95,
           96,
           97,
           98,
           99,
           100,
           101,
           102,
           103,
           104,
           105,
           106,
           107,
           108,
           109,
           110,
           111,
           112,
           113,
           114,
           115,
           116,
           117,
           118,
           119,
           120,
           121,
           122,
           123,
           124,
           125,
           126,
           127,
           128,
           129,
           130,
           131,
           132,
           133,
           134,
           135,
           136,
           137,
           138,
           139,
           140,
           141,
           142,
           143,
           144,
           145,
           146,
           147,
           148,
           149,
           150
          ],
          "colorbar": {
           "title": {
            "text": "#Trials"
           },
           "x": 1.0,
           "xpad": 40
          },
          "colorscale": [
           [
            0.0,
            "rgb(247,251,255)"
           ],
           [
            0.125,
            "rgb(222,235,247)"
           ],
           [
            0.25,
            "rgb(198,219,239)"
           ],
           [
            0.375,
            "rgb(158,202,225)"
           ],
           [
            0.5,
            "rgb(107,174,214)"
           ],
           [
            0.625,
            "rgb(66,146,198)"
           ],
           [
            0.75,
            "rgb(33,113,181)"
           ],
           [
            0.875,
            "rgb(8,81,156)"
           ],
           [
            1.0,
            "rgb(8,48,107)"
           ]
          ],
          "line": {
           "color": "Grey",
           "width": 0.5
          },
          "showscale": true
         },
         "mode": "markers",
         "showlegend": false,
         "type": "scatter",
         "x": [
          0.22999999999999998,
          0.060000000000000005,
          0.16,
          0.09,
          0.18,
          0.25,
          0.16999999999999998,
          0.11,
          0.07,
          0.19,
          0.3,
          0.1,
          0.29,
          0.3,
          0.13,
          0.12000000000000001,
          0.14,
          0.13,
          0.14,
          0.21000000000000002,
          0.14,
          0.12000000000000001,
          0.08,
          0.08,
          0.15000000000000002,
          0.05,
          0.1,
          0.08,
          0.2,
          0.22000000000000003,
          0.24,
          0.2,
          0.16999999999999998,
          0.15000000000000002,
          0.19,
          0.16,
          0.26,
          0.16,
          0.05,
          0.18,
          0.22999999999999998,
          0.22000000000000003,
          0.26,
          0.22999999999999998,
          0.19,
          0.19,
          0.15000000000000002,
          0.18,
          0.2,
          0.11,
          0.16999999999999998,
          0.16999999999999998,
          0.16999999999999998,
          0.21000000000000002,
          0.19,
          0.16,
          0.2,
          0.14,
          0.18,
          0.13,
          0.12000000000000001,
          0.13,
          0.1,
          0.07,
          0.1,
          0.08,
          0.09,
          0.11,
          0.060000000000000005,
          0.09,
          0.09,
          0.07,
          0.1,
          0.14,
          0.13,
          0.09,
          0.11,
          0.12000000000000001,
          0.060000000000000005,
          0.15000000000000002,
          0.16,
          0.15000000000000002,
          0.12000000000000001,
          0.21000000000000002,
          0.08,
          0.13,
          0.14,
          0.16,
          0.15000000000000002,
          0.16999999999999998,
          0.19,
          0.07,
          0.07,
          0.1,
          0.09,
          0.11,
          0.1,
          0.08,
          0.18,
          0.2,
          0.16999999999999998,
          0.07,
          0.060000000000000005,
          0.1,
          0.08,
          0.05,
          0.1,
          0.1,
          0.09,
          0.12000000000000001,
          0.11,
          0.09,
          0.19,
          0.21000000000000002,
          0.2,
          0.22000000000000003,
          0.2,
          0.19,
          0.19,
          0.18,
          0.2,
          0.15000000000000002,
          0.14,
          0.18,
          0.22000000000000003,
          0.21000000000000002,
          0.13,
          0.2,
          0.11,
          0.19,
          0.16,
          0.08,
          0.1,
          0.07,
          0.09,
          0.08,
          0.060000000000000005,
          0.16999999999999998,
          0.12000000000000001,
          0.18,
          0.1,
          0.07,
          0.07,
          0.09,
          0.05,
          0.07,
          0.28,
          0.2,
          0.08,
          0.14,
          0.09
         ],
         "xaxis": "x",
         "y": [
          0.7934828513823854,
          0.7887776754653126,
          0.7657633949669009,
          0.7893063535187914,
          0.7934140239367882,
          0.768933165673208,
          0.7936585516988193,
          0.795994121407122,
          0.788278297819258,
          0.7950361830594934,
          0.7957554482693723,
          0.795487713607252,
          0.7959821320686388,
          0.7959489394860406,
          0.7962949582774446,
          0.7962618347378678,
          0.7966376587847954,
          0.7960910690791542,
          0.7959193132710607,
          0.7961135552705001,
          0.7955447522998303,
          0.795879868122323,
          0.7964576014381992,
          0.7960453693146496,
          0.7956606465542907,
          0.7959290707602688,
          0.795572137262973,
          0.7960866108179058,
          0.7965667812409801,
          0.7936340597348707,
          0.7956593661461255,
          0.7961545927947526,
          0.7959167649071475,
          0.7963814938208511,
          0.7921076008500592,
          0.7963189927083211,
          0.795444752372658,
          0.7952457004183644,
          0.7957675579142425,
          0.7958930620928751,
          0.7963435413764814,
          0.796009636292423,
          0.7956885900268742,
          0.7963152399408011,
          0.7964513809306517,
          0.7957155635305967,
          0.7913291997347736,
          0.7959161874428411,
          0.7956860155375409,
          0.7961820894159517,
          0.7964783354372674,
          0.7963864815542239,
          0.7959366360430715,
          0.7960624398499789,
          0.796085505075128,
          0.7873062166996656,
          0.7961821947439658,
          0.7963079295416275,
          0.7956104430340134,
          0.7963883663867688,
          0.7957973579353552,
          0.7950897880785908,
          0.7968637138993222,
          0.796088689763687,
          0.7957005681186292,
          0.7957218797278811,
          0.7958285598615233,
          0.7960043557241444,
          0.7957112516672616,
          0.7964764858825374,
          0.7954780192239252,
          0.796387006592817,
          0.7957550371208463,
          0.7957111458081036,
          0.7962731045832812,
          0.7960451055762632,
          0.7913334344772897,
          0.795657199688902,
          0.7960413707037921,
          0.7965725304554911,
          0.795862327608742,
          0.7962678033163437,
          0.7962281462784069,
          0.7959700346908047,
          0.7960564301759181,
          0.7961715317009572,
          0.7962268129065593,
          0.7962566448887831,
          0.7962392314462488,
          0.7954019640791886,
          0.796166565254393,
          0.796387006592817,
          0.7960357106719247,
          0.7964109441907348,
          0.7958739663029102,
          0.7960926991363448,
          0.7959541870636127,
          0.7955628397897097,
          0.7959127943303909,
          0.795649271894906,
          0.7959708998279383,
          0.7960900573253732,
          0.7959105672173384,
          0.7963323522827768,
          0.7963250791502111,
          0.7955504115342283,
          0.7964391972407712,
          0.7960261528940157,
          0.7954391711154651,
          0.7961090191865334,
          0.7960570963525793,
          0.7958391011291436,
          0.7966806850684205,
          0.7962602057968124,
          0.7966629375923067,
          0.796021675257926,
          0.7961556841381535,
          0.7958277662708002,
          0.7957529957626814,
          0.7961947948318175,
          0.7959120238279729,
          0.7960847071977042,
          0.7958950773727684,
          0.7961906667189884,
          0.7954966143437976,
          0.7958063638425524,
          0.7933970367522607,
          0.79568753700347,
          0.7960124819536183,
          0.7955087254158286,
          0.7958284514939185,
          0.7961017274214817,
          0.7958209172633458,
          0.7959387555028534,
          0.7957199647668938,
          0.7958069778086923,
          0.7958467823262184,
          0.7962203124268008,
          0.7901948509223892,
          0.7956689023864849,
          0.7958133456991754,
          0.7961668075327544,
          0.796387006592817,
          0.7961019240560185,
          0.7960634142192957,
          0.7963947725585567,
          0.7953540671955556,
          0.7961780762580597,
          0.7957706039391443,
          0.7962627545979319,
          0.7957108310503919
         ],
         "yaxis": "y"
        },
        {
         "marker": {
          "color": [
           0,
           1,
           2,
           3,
           4,
           5,
           6,
           7,
           8,
           9,
           10,
           11,
           12,
           13,
           14,
           15,
           16,
           17,
           18,
           19,
           20,
           21,
           22,
           23,
           24,
           25,
           26,
           27,
           28,
           29,
           30,
           31,
           32,
           33,
           34,
           35,
           36,
           37,
           38,
           39,
           40,
           41,
           42,
           43,
           44,
           45,
           46,
           47,
           48,
           49,
           50,
           51,
           52,
           53,
           54,
           55,
           56,
           57,
           58,
           59,
           60,
           61,
           62,
           63,
           64,
           65,
           66,
           67,
           68,
           69,
           70,
           71,
           72,
           73,
           74,
           75,
           76,
           77,
           78,
           79,
           80,
           81,
           82,
           83,
           84,
           85,
           86,
           87,
           88,
           89,
           90,
           91,
           92,
           93,
           94,
           95,
           96,
           97,
           98,
           99,
           100,
           101,
           102,
           103,
           104,
           105,
           106,
           107,
           108,
           109,
           110,
           111,
           112,
           113,
           114,
           115,
           116,
           117,
           118,
           119,
           120,
           121,
           122,
           123,
           124,
           125,
           126,
           127,
           128,
           129,
           130,
           131,
           132,
           133,
           134,
           135,
           136,
           137,
           138,
           139,
           140,
           141,
           142,
           143,
           144,
           145,
           146,
           147,
           148,
           149,
           150
          ],
          "colorbar": {
           "title": {
            "text": "#Trials"
           },
           "x": 1.0,
           "xpad": 40
          },
          "colorscale": [
           [
            0.0,
            "rgb(247,251,255)"
           ],
           [
            0.125,
            "rgb(222,235,247)"
           ],
           [
            0.25,
            "rgb(198,219,239)"
           ],
           [
            0.375,
            "rgb(158,202,225)"
           ],
           [
            0.5,
            "rgb(107,174,214)"
           ],
           [
            0.625,
            "rgb(66,146,198)"
           ],
           [
            0.75,
            "rgb(33,113,181)"
           ],
           [
            0.875,
            "rgb(8,81,156)"
           ],
           [
            1.0,
            "rgb(8,48,107)"
           ]
          ],
          "line": {
           "color": "Grey",
           "width": 0.5
          },
          "showscale": false
         },
         "mode": "markers",
         "showlegend": false,
         "type": "scatter",
         "x": [
          450,
          20,
          290,
          50,
          310,
          90,
          340,
          80,
          260,
          330,
          150,
          150,
          160,
          170,
          200,
          210,
          220,
          400,
          260,
          220,
          390,
          200,
          210,
          100,
          240,
          120,
          190,
          280,
          490,
          470,
          500,
          400,
          230,
          360,
          440,
          340,
          370,
          440,
          300,
          500,
          280,
          10,
          280,
          320,
          360,
          460,
          370,
          420,
          360,
          180,
          250,
          250,
          260,
          250,
          220,
          140,
          300,
          240,
          210,
          180,
          170,
          130,
          40,
          30,
          70,
          50,
          190,
          160,
          120,
          100,
          90,
          30,
          110,
          80,
          220,
          50,
          270,
          480,
          200,
          60,
          70,
          40,
          60,
          100,
          190,
          10,
          240,
          140,
          170,
          230,
          330,
          30,
          20,
          60,
          420,
          80,
          60,
          210,
          270,
          90,
          300,
          40,
          30,
          60,
          20,
          40,
          50,
          70,
          230,
          100,
          80,
          20,
          50,
          50,
          60,
          60,
          50,
          70,
          90,
          40,
          10,
          200,
          110,
          220,
          490,
          250,
          380,
          60,
          270,
          420,
          180,
          30,
          30,
          80,
          40,
          450,
          50,
          70,
          240,
          160,
          10,
          20,
          30,
          50,
          40,
          30,
          60,
          210,
          340,
          70,
          290
         ],
         "xaxis": "x2",
         "y": [
          0.7934828513823854,
          0.7887776754653126,
          0.7657633949669009,
          0.7893063535187914,
          0.7934140239367882,
          0.768933165673208,
          0.7936585516988193,
          0.795994121407122,
          0.788278297819258,
          0.7950361830594934,
          0.7957554482693723,
          0.795487713607252,
          0.7959821320686388,
          0.7959489394860406,
          0.7962949582774446,
          0.7962618347378678,
          0.7966376587847954,
          0.7960910690791542,
          0.7959193132710607,
          0.7961135552705001,
          0.7955447522998303,
          0.795879868122323,
          0.7964576014381992,
          0.7960453693146496,
          0.7956606465542907,
          0.7959290707602688,
          0.795572137262973,
          0.7960866108179058,
          0.7965667812409801,
          0.7936340597348707,
          0.7956593661461255,
          0.7961545927947526,
          0.7959167649071475,
          0.7963814938208511,
          0.7921076008500592,
          0.7963189927083211,
          0.795444752372658,
          0.7952457004183644,
          0.7957675579142425,
          0.7958930620928751,
          0.7963435413764814,
          0.796009636292423,
          0.7956885900268742,
          0.7963152399408011,
          0.7964513809306517,
          0.7957155635305967,
          0.7913291997347736,
          0.7959161874428411,
          0.7956860155375409,
          0.7961820894159517,
          0.7964783354372674,
          0.7963864815542239,
          0.7959366360430715,
          0.7960624398499789,
          0.796085505075128,
          0.7873062166996656,
          0.7961821947439658,
          0.7963079295416275,
          0.7956104430340134,
          0.7963883663867688,
          0.7957973579353552,
          0.7950897880785908,
          0.7968637138993222,
          0.796088689763687,
          0.7957005681186292,
          0.7957218797278811,
          0.7958285598615233,
          0.7960043557241444,
          0.7957112516672616,
          0.7964764858825374,
          0.7954780192239252,
          0.796387006592817,
          0.7957550371208463,
          0.7957111458081036,
          0.7962731045832812,
          0.7960451055762632,
          0.7913334344772897,
          0.795657199688902,
          0.7960413707037921,
          0.7965725304554911,
          0.795862327608742,
          0.7962678033163437,
          0.7962281462784069,
          0.7959700346908047,
          0.7960564301759181,
          0.7961715317009572,
          0.7962268129065593,
          0.7962566448887831,
          0.7962392314462488,
          0.7954019640791886,
          0.796166565254393,
          0.796387006592817,
          0.7960357106719247,
          0.7964109441907348,
          0.7958739663029102,
          0.7960926991363448,
          0.7959541870636127,
          0.7955628397897097,
          0.7959127943303909,
          0.795649271894906,
          0.7959708998279383,
          0.7960900573253732,
          0.7959105672173384,
          0.7963323522827768,
          0.7963250791502111,
          0.7955504115342283,
          0.7964391972407712,
          0.7960261528940157,
          0.7954391711154651,
          0.7961090191865334,
          0.7960570963525793,
          0.7958391011291436,
          0.7966806850684205,
          0.7962602057968124,
          0.7966629375923067,
          0.796021675257926,
          0.7961556841381535,
          0.7958277662708002,
          0.7957529957626814,
          0.7961947948318175,
          0.7959120238279729,
          0.7960847071977042,
          0.7958950773727684,
          0.7961906667189884,
          0.7954966143437976,
          0.7958063638425524,
          0.7933970367522607,
          0.79568753700347,
          0.7960124819536183,
          0.7955087254158286,
          0.7958284514939185,
          0.7961017274214817,
          0.7958209172633458,
          0.7959387555028534,
          0.7957199647668938,
          0.7958069778086923,
          0.7958467823262184,
          0.7962203124268008,
          0.7901948509223892,
          0.7956689023864849,
          0.7958133456991754,
          0.7961668075327544,
          0.796387006592817,
          0.7961019240560185,
          0.7960634142192957,
          0.7963947725585567,
          0.7953540671955556,
          0.7961780762580597,
          0.7957706039391443,
          0.7962627545979319,
          0.7957108310503919
         ],
         "yaxis": "y2"
        },
        {
         "marker": {
          "color": [
           0,
           1,
           2,
           3,
           4,
           5,
           6,
           7,
           8,
           9,
           10,
           11,
           12,
           13,
           14,
           15,
           16,
           17,
           18,
           19,
           20,
           21,
           22,
           23,
           24,
           25,
           26,
           27,
           28,
           29,
           30,
           31,
           32,
           33,
           34,
           35,
           36,
           37,
           38,
           39,
           40,
           41,
           42,
           43,
           44,
           45,
           46,
           47,
           48,
           49,
           50,
           51,
           52,
           53,
           54,
           55,
           56,
           57,
           58,
           59,
           60,
           61,
           62,
           63,
           64,
           65,
           66,
           67,
           68,
           69,
           70,
           71,
           72,
           73,
           74,
           75,
           76,
           77,
           78,
           79,
           80,
           81,
           82,
           83,
           84,
           85,
           86,
           87,
           88,
           89,
           90,
           91,
           92,
           93,
           94,
           95,
           96,
           97,
           98,
           99,
           100,
           101,
           102,
           103,
           104,
           105,
           106,
           107,
           108,
           109,
           110,
           111,
           112,
           113,
           114,
           115,
           116,
           117,
           118,
           119,
           120,
           121,
           122,
           123,
           124,
           125,
           126,
           127,
           128,
           129,
           130,
           131,
           132,
           133,
           134,
           135,
           136,
           137,
           138,
           139,
           140,
           141,
           142,
           143,
           144,
           145,
           146,
           147,
           148,
           149,
           150
          ],
          "colorbar": {
           "title": {
            "text": "#Trials"
           },
           "x": 1.0,
           "xpad": 40
          },
          "colorscale": [
           [
            0.0,
            "rgb(247,251,255)"
           ],
           [
            0.125,
            "rgb(222,235,247)"
           ],
           [
            0.25,
            "rgb(198,219,239)"
           ],
           [
            0.375,
            "rgb(158,202,225)"
           ],
           [
            0.5,
            "rgb(107,174,214)"
           ],
           [
            0.625,
            "rgb(66,146,198)"
           ],
           [
            0.75,
            "rgb(33,113,181)"
           ],
           [
            0.875,
            "rgb(8,81,156)"
           ],
           [
            1.0,
            "rgb(8,48,107)"
           ]
          ],
          "line": {
           "color": "Grey",
           "width": 0.5
          },
          "showscale": false
         },
         "mode": "markers",
         "showlegend": false,
         "type": "scatter",
         "x": [
          3200,
          1850,
          1800,
          3000,
          6350,
          1000,
          3700,
          3700,
          6700,
          5850,
          5000,
          4750,
          4800,
          4600,
          5500,
          5650,
          5750,
          5600,
          7000,
          6250,
          5300,
          5900,
          4250,
          4250,
          4250,
          5250,
          3000,
          6200,
          5250,
          3650,
          4350,
          5300,
          5050,
          5450,
          2200,
          5950,
          2500,
          6650,
          3950,
          4500,
          5000,
          5050,
          3500,
          4100,
          4750,
          4700,
          1100,
          3900,
          5700,
          6050,
          4800,
          5450,
          6500,
          4850,
          4500,
          5200,
          5750,
          4750,
          5450,
          3400,
          3300,
          2950,
          4350,
          4150,
          4500,
          3400,
          3650,
          3850,
          2750,
          4300,
          4350,
          4950,
          4600,
          4050,
          4300,
          5200,
          3750,
          3200,
          4850,
          4650,
          4700,
          4150,
          4400,
          4600,
          5050,
          3500,
          5300,
          4900,
          5600,
          4050,
          4400,
          4950,
          5150,
          4700,
          4250,
          4700,
          3850,
          4550,
          5350,
          4200,
          6050,
          4850,
          4450,
          5100,
          4750,
          5800,
          4950,
          4600,
          4000,
          4700,
          5000,
          5400,
          4950,
          5550,
          4300,
          4350,
          4800,
          4600,
          5150,
          4250,
          4500,
          4900,
          4450,
          4150,
          3750,
          4650,
          1550,
          4800,
          3900,
          5250,
          4300,
          4850,
          5000,
          5150,
          5050,
          4950,
          4500,
          4050,
          4750,
          4350,
          2600,
          4650,
          4950,
          5300,
          4950,
          6200,
          6400,
          6000,
          5900,
          5500,
          4450
         ],
         "xaxis": "x3",
         "y": [
          0.7934828513823854,
          0.7887776754653126,
          0.7657633949669009,
          0.7893063535187914,
          0.7934140239367882,
          0.768933165673208,
          0.7936585516988193,
          0.795994121407122,
          0.788278297819258,
          0.7950361830594934,
          0.7957554482693723,
          0.795487713607252,
          0.7959821320686388,
          0.7959489394860406,
          0.7962949582774446,
          0.7962618347378678,
          0.7966376587847954,
          0.7960910690791542,
          0.7959193132710607,
          0.7961135552705001,
          0.7955447522998303,
          0.795879868122323,
          0.7964576014381992,
          0.7960453693146496,
          0.7956606465542907,
          0.7959290707602688,
          0.795572137262973,
          0.7960866108179058,
          0.7965667812409801,
          0.7936340597348707,
          0.7956593661461255,
          0.7961545927947526,
          0.7959167649071475,
          0.7963814938208511,
          0.7921076008500592,
          0.7963189927083211,
          0.795444752372658,
          0.7952457004183644,
          0.7957675579142425,
          0.7958930620928751,
          0.7963435413764814,
          0.796009636292423,
          0.7956885900268742,
          0.7963152399408011,
          0.7964513809306517,
          0.7957155635305967,
          0.7913291997347736,
          0.7959161874428411,
          0.7956860155375409,
          0.7961820894159517,
          0.7964783354372674,
          0.7963864815542239,
          0.7959366360430715,
          0.7960624398499789,
          0.796085505075128,
          0.7873062166996656,
          0.7961821947439658,
          0.7963079295416275,
          0.7956104430340134,
          0.7963883663867688,
          0.7957973579353552,
          0.7950897880785908,
          0.7968637138993222,
          0.796088689763687,
          0.7957005681186292,
          0.7957218797278811,
          0.7958285598615233,
          0.7960043557241444,
          0.7957112516672616,
          0.7964764858825374,
          0.7954780192239252,
          0.796387006592817,
          0.7957550371208463,
          0.7957111458081036,
          0.7962731045832812,
          0.7960451055762632,
          0.7913334344772897,
          0.795657199688902,
          0.7960413707037921,
          0.7965725304554911,
          0.795862327608742,
          0.7962678033163437,
          0.7962281462784069,
          0.7959700346908047,
          0.7960564301759181,
          0.7961715317009572,
          0.7962268129065593,
          0.7962566448887831,
          0.7962392314462488,
          0.7954019640791886,
          0.796166565254393,
          0.796387006592817,
          0.7960357106719247,
          0.7964109441907348,
          0.7958739663029102,
          0.7960926991363448,
          0.7959541870636127,
          0.7955628397897097,
          0.7959127943303909,
          0.795649271894906,
          0.7959708998279383,
          0.7960900573253732,
          0.7959105672173384,
          0.7963323522827768,
          0.7963250791502111,
          0.7955504115342283,
          0.7964391972407712,
          0.7960261528940157,
          0.7954391711154651,
          0.7961090191865334,
          0.7960570963525793,
          0.7958391011291436,
          0.7966806850684205,
          0.7962602057968124,
          0.7966629375923067,
          0.796021675257926,
          0.7961556841381535,
          0.7958277662708002,
          0.7957529957626814,
          0.7961947948318175,
          0.7959120238279729,
          0.7960847071977042,
          0.7958950773727684,
          0.7961906667189884,
          0.7954966143437976,
          0.7958063638425524,
          0.7933970367522607,
          0.79568753700347,
          0.7960124819536183,
          0.7955087254158286,
          0.7958284514939185,
          0.7961017274214817,
          0.7958209172633458,
          0.7959387555028534,
          0.7957199647668938,
          0.7958069778086923,
          0.7958467823262184,
          0.7962203124268008,
          0.7901948509223892,
          0.7956689023864849,
          0.7958133456991754,
          0.7961668075327544,
          0.796387006592817,
          0.7961019240560185,
          0.7960634142192957,
          0.7963947725585567,
          0.7953540671955556,
          0.7961780762580597,
          0.7957706039391443,
          0.7962627545979319,
          0.7957108310503919
         ],
         "yaxis": "y3"
        },
        {
         "marker": {
          "color": [
           0,
           1,
           2,
           3,
           4,
           5,
           6,
           7,
           8,
           9,
           10,
           11,
           12,
           13,
           14,
           15,
           16,
           17,
           18,
           19,
           20,
           21,
           22,
           23,
           24,
           25,
           26,
           27,
           28,
           29,
           30,
           31,
           32,
           33,
           34,
           35,
           36,
           37,
           38,
           39,
           40,
           41,
           42,
           43,
           44,
           45,
           46,
           47,
           48,
           49,
           50,
           51,
           52,
           53,
           54,
           55,
           56,
           57,
           58,
           59,
           60,
           61,
           62,
           63,
           64,
           65,
           66,
           67,
           68,
           69,
           70,
           71,
           72,
           73,
           74,
           75,
           76,
           77,
           78,
           79,
           80,
           81,
           82,
           83,
           84,
           85,
           86,
           87,
           88,
           89,
           90,
           91,
           92,
           93,
           94,
           95,
           96,
           97,
           98,
           99,
           100,
           101,
           102,
           103,
           104,
           105,
           106,
           107,
           108,
           109,
           110,
           111,
           112,
           113,
           114,
           115,
           116,
           117,
           118,
           119,
           120,
           121,
           122,
           123,
           124,
           125,
           126,
           127,
           128,
           129,
           130,
           131,
           132,
           133,
           134,
           135,
           136,
           137,
           138,
           139,
           140,
           141,
           142,
           143,
           144,
           145,
           146,
           147,
           148,
           149,
           150
          ],
          "colorbar": {
           "title": {
            "text": "#Trials"
           },
           "x": 1.0,
           "xpad": 40
          },
          "colorscale": [
           [
            0.0,
            "rgb(247,251,255)"
           ],
           [
            0.125,
            "rgb(222,235,247)"
           ],
           [
            0.25,
            "rgb(198,219,239)"
           ],
           [
            0.375,
            "rgb(158,202,225)"
           ],
           [
            0.5,
            "rgb(107,174,214)"
           ],
           [
            0.625,
            "rgb(66,146,198)"
           ],
           [
            0.75,
            "rgb(33,113,181)"
           ],
           [
            0.875,
            "rgb(8,81,156)"
           ],
           [
            1.0,
            "rgb(8,48,107)"
           ]
          ],
          "line": {
           "color": "Grey",
           "width": 0.5
          },
          "showscale": false
         },
         "mode": "markers",
         "showlegend": false,
         "type": "scatter",
         "x": [
          0.45,
          0.30000000000000004,
          0.2,
          0.25,
          0.30000000000000004,
          0.25,
          0.45,
          0.7,
          0.25,
          0.4,
          0.75,
          0.75,
          0.75,
          0.6000000000000001,
          0.65,
          0.6000000000000001,
          0.6000000000000001,
          0.6000000000000001,
          0.65,
          0.55,
          0.8,
          0.55,
          0.65,
          0.65,
          0.5,
          0.65,
          0.7,
          0.55,
          0.7,
          0.45,
          0.8,
          0.7,
          0.65,
          0.6000000000000001,
          0.5,
          0.6000000000000001,
          0.7,
          0.4,
          0.55,
          0.6000000000000001,
          0.7,
          0.7,
          0.75,
          0.7,
          0.65,
          0.65,
          0.6000000000000001,
          0.75,
          0.55,
          0.65,
          0.6000000000000001,
          0.6000000000000001,
          0.5,
          0.65,
          0.55,
          0.2,
          0.6000000000000001,
          0.75,
          0.4,
          0.65,
          0.65,
          0.6000000000000001,
          0.7,
          0.7,
          0.75,
          0.8,
          0.65,
          0.7,
          0.65,
          0.75,
          0.75,
          0.7,
          0.7,
          0.8,
          0.65,
          0.75,
          0.35000000000000003,
          0.6000000000000001,
          0.7,
          0.65,
          0.75,
          0.65,
          0.65,
          0.7,
          0.6000000000000001,
          0.7,
          0.65,
          0.55,
          0.6000000000000001,
          0.8,
          0.65,
          0.7,
          0.7,
          0.65,
          0.65,
          0.65,
          0.6000000000000001,
          0.6000000000000001,
          0.65,
          0.75,
          0.55,
          0.7,
          0.75,
          0.7,
          0.65,
          0.7,
          0.7,
          0.65,
          0.75,
          0.6000000000000001,
          0.65,
          0.7,
          0.7,
          0.7,
          0.65,
          0.7,
          0.75,
          0.5,
          0.65,
          0.7,
          0.6000000000000001,
          0.65,
          0.65,
          0.65,
          0.7,
          0.65,
          0.6000000000000001,
          0.75,
          0.65,
          0.7,
          0.6000000000000001,
          0.7,
          0.7,
          0.7,
          0.65,
          0.75,
          0.65,
          0.7,
          0.30000000000000004,
          0.8,
          0.6000000000000001,
          0.7,
          0.7,
          0.75,
          0.65,
          0.7,
          0.7,
          0.55,
          0.45,
          0.65,
          0.75
         ],
         "xaxis": "x4",
         "y": [
          0.7934828513823854,
          0.7887776754653126,
          0.7657633949669009,
          0.7893063535187914,
          0.7934140239367882,
          0.768933165673208,
          0.7936585516988193,
          0.795994121407122,
          0.788278297819258,
          0.7950361830594934,
          0.7957554482693723,
          0.795487713607252,
          0.7959821320686388,
          0.7959489394860406,
          0.7962949582774446,
          0.7962618347378678,
          0.7966376587847954,
          0.7960910690791542,
          0.7959193132710607,
          0.7961135552705001,
          0.7955447522998303,
          0.795879868122323,
          0.7964576014381992,
          0.7960453693146496,
          0.7956606465542907,
          0.7959290707602688,
          0.795572137262973,
          0.7960866108179058,
          0.7965667812409801,
          0.7936340597348707,
          0.7956593661461255,
          0.7961545927947526,
          0.7959167649071475,
          0.7963814938208511,
          0.7921076008500592,
          0.7963189927083211,
          0.795444752372658,
          0.7952457004183644,
          0.7957675579142425,
          0.7958930620928751,
          0.7963435413764814,
          0.796009636292423,
          0.7956885900268742,
          0.7963152399408011,
          0.7964513809306517,
          0.7957155635305967,
          0.7913291997347736,
          0.7959161874428411,
          0.7956860155375409,
          0.7961820894159517,
          0.7964783354372674,
          0.7963864815542239,
          0.7959366360430715,
          0.7960624398499789,
          0.796085505075128,
          0.7873062166996656,
          0.7961821947439658,
          0.7963079295416275,
          0.7956104430340134,
          0.7963883663867688,
          0.7957973579353552,
          0.7950897880785908,
          0.7968637138993222,
          0.796088689763687,
          0.7957005681186292,
          0.7957218797278811,
          0.7958285598615233,
          0.7960043557241444,
          0.7957112516672616,
          0.7964764858825374,
          0.7954780192239252,
          0.796387006592817,
          0.7957550371208463,
          0.7957111458081036,
          0.7962731045832812,
          0.7960451055762632,
          0.7913334344772897,
          0.795657199688902,
          0.7960413707037921,
          0.7965725304554911,
          0.795862327608742,
          0.7962678033163437,
          0.7962281462784069,
          0.7959700346908047,
          0.7960564301759181,
          0.7961715317009572,
          0.7962268129065593,
          0.7962566448887831,
          0.7962392314462488,
          0.7954019640791886,
          0.796166565254393,
          0.796387006592817,
          0.7960357106719247,
          0.7964109441907348,
          0.7958739663029102,
          0.7960926991363448,
          0.7959541870636127,
          0.7955628397897097,
          0.7959127943303909,
          0.795649271894906,
          0.7959708998279383,
          0.7960900573253732,
          0.7959105672173384,
          0.7963323522827768,
          0.7963250791502111,
          0.7955504115342283,
          0.7964391972407712,
          0.7960261528940157,
          0.7954391711154651,
          0.7961090191865334,
          0.7960570963525793,
          0.7958391011291436,
          0.7966806850684205,
          0.7962602057968124,
          0.7966629375923067,
          0.796021675257926,
          0.7961556841381535,
          0.7958277662708002,
          0.7957529957626814,
          0.7961947948318175,
          0.7959120238279729,
          0.7960847071977042,
          0.7958950773727684,
          0.7961906667189884,
          0.7954966143437976,
          0.7958063638425524,
          0.7933970367522607,
          0.79568753700347,
          0.7960124819536183,
          0.7955087254158286,
          0.7958284514939185,
          0.7961017274214817,
          0.7958209172633458,
          0.7959387555028534,
          0.7957199647668938,
          0.7958069778086923,
          0.7958467823262184,
          0.7962203124268008,
          0.7901948509223892,
          0.7956689023864849,
          0.7958133456991754,
          0.7961668075327544,
          0.796387006592817,
          0.7961019240560185,
          0.7960634142192957,
          0.7963947725585567,
          0.7953540671955556,
          0.7961780762580597,
          0.7957706039391443,
          0.7962627545979319,
          0.7957108310503919
         ],
         "yaxis": "y4"
        }
       ],
       "layout": {
        "template": {
         "data": {
          "bar": [
           {
            "error_x": {
             "color": "#2a3f5f"
            },
            "error_y": {
             "color": "#2a3f5f"
            },
            "marker": {
             "line": {
              "color": "#E5ECF6",
              "width": 0.5
             },
             "pattern": {
              "fillmode": "overlay",
              "size": 10,
              "solidity": 0.2
             }
            },
            "type": "bar"
           }
          ],
          "barpolar": [
           {
            "marker": {
             "line": {
              "color": "#E5ECF6",
              "width": 0.5
             },
             "pattern": {
              "fillmode": "overlay",
              "size": 10,
              "solidity": 0.2
             }
            },
            "type": "barpolar"
           }
          ],
          "carpet": [
           {
            "aaxis": {
             "endlinecolor": "#2a3f5f",
             "gridcolor": "white",
             "linecolor": "white",
             "minorgridcolor": "white",
             "startlinecolor": "#2a3f5f"
            },
            "baxis": {
             "endlinecolor": "#2a3f5f",
             "gridcolor": "white",
             "linecolor": "white",
             "minorgridcolor": "white",
             "startlinecolor": "#2a3f5f"
            },
            "type": "carpet"
           }
          ],
          "choropleth": [
           {
            "colorbar": {
             "outlinewidth": 0,
             "ticks": ""
            },
            "type": "choropleth"
           }
          ],
          "contour": [
           {
            "colorbar": {
             "outlinewidth": 0,
             "ticks": ""
            },
            "colorscale": [
             [
              0.0,
              "#0d0887"
             ],
             [
              0.1111111111111111,
              "#46039f"
             ],
             [
              0.2222222222222222,
              "#7201a8"
             ],
             [
              0.3333333333333333,
              "#9c179e"
             ],
             [
              0.4444444444444444,
              "#bd3786"
             ],
             [
              0.5555555555555556,
              "#d8576b"
             ],
             [
              0.6666666666666666,
              "#ed7953"
             ],
             [
              0.7777777777777778,
              "#fb9f3a"
             ],
             [
              0.8888888888888888,
              "#fdca26"
             ],
             [
              1.0,
              "#f0f921"
             ]
            ],
            "type": "contour"
           }
          ],
          "contourcarpet": [
           {
            "colorbar": {
             "outlinewidth": 0,
             "ticks": ""
            },
            "type": "contourcarpet"
           }
          ],
          "heatmap": [
           {
            "colorbar": {
             "outlinewidth": 0,
             "ticks": ""
            },
            "colorscale": [
             [
              0.0,
              "#0d0887"
             ],
             [
              0.1111111111111111,
              "#46039f"
             ],
             [
              0.2222222222222222,
              "#7201a8"
             ],
             [
              0.3333333333333333,
              "#9c179e"
             ],
             [
              0.4444444444444444,
              "#bd3786"
             ],
             [
              0.5555555555555556,
              "#d8576b"
             ],
             [
              0.6666666666666666,
              "#ed7953"
             ],
             [
              0.7777777777777778,
              "#fb9f3a"
             ],
             [
              0.8888888888888888,
              "#fdca26"
             ],
             [
              1.0,
              "#f0f921"
             ]
            ],
            "type": "heatmap"
           }
          ],
          "heatmapgl": [
           {
            "colorbar": {
             "outlinewidth": 0,
             "ticks": ""
            },
            "colorscale": [
             [
              0.0,
              "#0d0887"
             ],
             [
              0.1111111111111111,
              "#46039f"
             ],
             [
              0.2222222222222222,
              "#7201a8"
             ],
             [
              0.3333333333333333,
              "#9c179e"
             ],
             [
              0.4444444444444444,
              "#bd3786"
             ],
             [
              0.5555555555555556,
              "#d8576b"
             ],
             [
              0.6666666666666666,
              "#ed7953"
             ],
             [
              0.7777777777777778,
              "#fb9f3a"
             ],
             [
              0.8888888888888888,
              "#fdca26"
             ],
             [
              1.0,
              "#f0f921"
             ]
            ],
            "type": "heatmapgl"
           }
          ],
          "histogram": [
           {
            "marker": {
             "pattern": {
              "fillmode": "overlay",
              "size": 10,
              "solidity": 0.2
             }
            },
            "type": "histogram"
           }
          ],
          "histogram2d": [
           {
            "colorbar": {
             "outlinewidth": 0,
             "ticks": ""
            },
            "colorscale": [
             [
              0.0,
              "#0d0887"
             ],
             [
              0.1111111111111111,
              "#46039f"
             ],
             [
              0.2222222222222222,
              "#7201a8"
             ],
             [
              0.3333333333333333,
              "#9c179e"
             ],
             [
              0.4444444444444444,
              "#bd3786"
             ],
             [
              0.5555555555555556,
              "#d8576b"
             ],
             [
              0.6666666666666666,
              "#ed7953"
             ],
             [
              0.7777777777777778,
              "#fb9f3a"
             ],
             [
              0.8888888888888888,
              "#fdca26"
             ],
             [
              1.0,
              "#f0f921"
             ]
            ],
            "type": "histogram2d"
           }
          ],
          "histogram2dcontour": [
           {
            "colorbar": {
             "outlinewidth": 0,
             "ticks": ""
            },
            "colorscale": [
             [
              0.0,
              "#0d0887"
             ],
             [
              0.1111111111111111,
              "#46039f"
             ],
             [
              0.2222222222222222,
              "#7201a8"
             ],
             [
              0.3333333333333333,
              "#9c179e"
             ],
             [
              0.4444444444444444,
              "#bd3786"
             ],
             [
              0.5555555555555556,
              "#d8576b"
             ],
             [
              0.6666666666666666,
              "#ed7953"
             ],
             [
              0.7777777777777778,
              "#fb9f3a"
             ],
             [
              0.8888888888888888,
              "#fdca26"
             ],
             [
              1.0,
              "#f0f921"
             ]
            ],
            "type": "histogram2dcontour"
           }
          ],
          "mesh3d": [
           {
            "colorbar": {
             "outlinewidth": 0,
             "ticks": ""
            },
            "type": "mesh3d"
           }
          ],
          "parcoords": [
           {
            "line": {
             "colorbar": {
              "outlinewidth": 0,
              "ticks": ""
             }
            },
            "type": "parcoords"
           }
          ],
          "pie": [
           {
            "automargin": true,
            "type": "pie"
           }
          ],
          "scatter": [
           {
            "marker": {
             "colorbar": {
              "outlinewidth": 0,
              "ticks": ""
             }
            },
            "type": "scatter"
           }
          ],
          "scatter3d": [
           {
            "line": {
             "colorbar": {
              "outlinewidth": 0,
              "ticks": ""
             }
            },
            "marker": {
             "colorbar": {
              "outlinewidth": 0,
              "ticks": ""
             }
            },
            "type": "scatter3d"
           }
          ],
          "scattercarpet": [
           {
            "marker": {
             "colorbar": {
              "outlinewidth": 0,
              "ticks": ""
             }
            },
            "type": "scattercarpet"
           }
          ],
          "scattergeo": [
           {
            "marker": {
             "colorbar": {
              "outlinewidth": 0,
              "ticks": ""
             }
            },
            "type": "scattergeo"
           }
          ],
          "scattergl": [
           {
            "marker": {
             "colorbar": {
              "outlinewidth": 0,
              "ticks": ""
             }
            },
            "type": "scattergl"
           }
          ],
          "scattermapbox": [
           {
            "marker": {
             "colorbar": {
              "outlinewidth": 0,
              "ticks": ""
             }
            },
            "type": "scattermapbox"
           }
          ],
          "scatterpolar": [
           {
            "marker": {
             "colorbar": {
              "outlinewidth": 0,
              "ticks": ""
             }
            },
            "type": "scatterpolar"
           }
          ],
          "scatterpolargl": [
           {
            "marker": {
             "colorbar": {
              "outlinewidth": 0,
              "ticks": ""
             }
            },
            "type": "scatterpolargl"
           }
          ],
          "scatterternary": [
           {
            "marker": {
             "colorbar": {
              "outlinewidth": 0,
              "ticks": ""
             }
            },
            "type": "scatterternary"
           }
          ],
          "surface": [
           {
            "colorbar": {
             "outlinewidth": 0,
             "ticks": ""
            },
            "colorscale": [
             [
              0.0,
              "#0d0887"
             ],
             [
              0.1111111111111111,
              "#46039f"
             ],
             [
              0.2222222222222222,
              "#7201a8"
             ],
             [
              0.3333333333333333,
              "#9c179e"
             ],
             [
              0.4444444444444444,
              "#bd3786"
             ],
             [
              0.5555555555555556,
              "#d8576b"
             ],
             [
              0.6666666666666666,
              "#ed7953"
             ],
             [
              0.7777777777777778,
              "#fb9f3a"
             ],
             [
              0.8888888888888888,
              "#fdca26"
             ],
             [
              1.0,
              "#f0f921"
             ]
            ],
            "type": "surface"
           }
          ],
          "table": [
           {
            "cells": {
             "fill": {
              "color": "#EBF0F8"
             },
             "line": {
              "color": "white"
             }
            },
            "header": {
             "fill": {
              "color": "#C8D4E3"
             },
             "line": {
              "color": "white"
             }
            },
            "type": "table"
           }
          ]
         },
         "layout": {
          "annotationdefaults": {
           "arrowcolor": "#2a3f5f",
           "arrowhead": 0,
           "arrowwidth": 1
          },
          "autotypenumbers": "strict",
          "coloraxis": {
           "colorbar": {
            "outlinewidth": 0,
            "ticks": ""
           }
          },
          "colorscale": {
           "diverging": [
            [
             0,
             "#8e0152"
            ],
            [
             0.1,
             "#c51b7d"
            ],
            [
             0.2,
             "#de77ae"
            ],
            [
             0.3,
             "#f1b6da"
            ],
            [
             0.4,
             "#fde0ef"
            ],
            [
             0.5,
             "#f7f7f7"
            ],
            [
             0.6,
             "#e6f5d0"
            ],
            [
             0.7,
             "#b8e186"
            ],
            [
             0.8,
             "#7fbc41"
            ],
            [
             0.9,
             "#4d9221"
            ],
            [
             1,
             "#276419"
            ]
           ],
           "sequential": [
            [
             0.0,
             "#0d0887"
            ],
            [
             0.1111111111111111,
             "#46039f"
            ],
            [
             0.2222222222222222,
             "#7201a8"
            ],
            [
             0.3333333333333333,
             "#9c179e"
            ],
            [
             0.4444444444444444,
             "#bd3786"
            ],
            [
             0.5555555555555556,
             "#d8576b"
            ],
            [
             0.6666666666666666,
             "#ed7953"
            ],
            [
             0.7777777777777778,
             "#fb9f3a"
            ],
            [
             0.8888888888888888,
             "#fdca26"
            ],
            [
             1.0,
             "#f0f921"
            ]
           ],
           "sequentialminus": [
            [
             0.0,
             "#0d0887"
            ],
            [
             0.1111111111111111,
             "#46039f"
            ],
            [
             0.2222222222222222,
             "#7201a8"
            ],
            [
             0.3333333333333333,
             "#9c179e"
            ],
            [
             0.4444444444444444,
             "#bd3786"
            ],
            [
             0.5555555555555556,
             "#d8576b"
            ],
            [
             0.6666666666666666,
             "#ed7953"
            ],
            [
             0.7777777777777778,
             "#fb9f3a"
            ],
            [
             0.8888888888888888,
             "#fdca26"
            ],
            [
             1.0,
             "#f0f921"
            ]
           ]
          },
          "colorway": [
           "#636efa",
           "#EF553B",
           "#00cc96",
           "#ab63fa",
           "#FFA15A",
           "#19d3f3",
           "#FF6692",
           "#B6E880",
           "#FF97FF",
           "#FECB52"
          ],
          "font": {
           "color": "#2a3f5f"
          },
          "geo": {
           "bgcolor": "white",
           "lakecolor": "white",
           "landcolor": "#E5ECF6",
           "showlakes": true,
           "showland": true,
           "subunitcolor": "white"
          },
          "hoverlabel": {
           "align": "left"
          },
          "hovermode": "closest",
          "mapbox": {
           "style": "light"
          },
          "paper_bgcolor": "white",
          "plot_bgcolor": "#E5ECF6",
          "polar": {
           "angularaxis": {
            "gridcolor": "white",
            "linecolor": "white",
            "ticks": ""
           },
           "bgcolor": "#E5ECF6",
           "radialaxis": {
            "gridcolor": "white",
            "linecolor": "white",
            "ticks": ""
           }
          },
          "scene": {
           "xaxis": {
            "backgroundcolor": "#E5ECF6",
            "gridcolor": "white",
            "gridwidth": 2,
            "linecolor": "white",
            "showbackground": true,
            "ticks": "",
            "zerolinecolor": "white"
           },
           "yaxis": {
            "backgroundcolor": "#E5ECF6",
            "gridcolor": "white",
            "gridwidth": 2,
            "linecolor": "white",
            "showbackground": true,
            "ticks": "",
            "zerolinecolor": "white"
           },
           "zaxis": {
            "backgroundcolor": "#E5ECF6",
            "gridcolor": "white",
            "gridwidth": 2,
            "linecolor": "white",
            "showbackground": true,
            "ticks": "",
            "zerolinecolor": "white"
           }
          },
          "shapedefaults": {
           "line": {
            "color": "#2a3f5f"
           }
          },
          "ternary": {
           "aaxis": {
            "gridcolor": "white",
            "linecolor": "white",
            "ticks": ""
           },
           "baxis": {
            "gridcolor": "white",
            "linecolor": "white",
            "ticks": ""
           },
           "bgcolor": "#E5ECF6",
           "caxis": {
            "gridcolor": "white",
            "linecolor": "white",
            "ticks": ""
           }
          },
          "title": {
           "x": 0.05
          },
          "xaxis": {
           "automargin": true,
           "gridcolor": "white",
           "linecolor": "white",
           "ticks": "",
           "title": {
            "standoff": 15
           },
           "zerolinecolor": "white",
           "zerolinewidth": 2
          },
          "yaxis": {
           "automargin": true,
           "gridcolor": "white",
           "linecolor": "white",
           "ticks": "",
           "title": {
            "standoff": 15
           },
           "zerolinecolor": "white",
           "zerolinewidth": 2
          }
         }
        },
        "title": {
         "text": "Slice Plot"
        },
        "width": 1200,
        "xaxis": {
         "anchor": "y",
         "domain": [
          0.0,
          0.2125
         ],
         "title": {
          "text": "drop_rate"
         }
        },
        "xaxis2": {
         "anchor": "y2",
         "domain": [
          0.2625,
          0.475
         ],
         "title": {
          "text": "max_drop"
         }
        },
        "xaxis3": {
         "anchor": "y3",
         "domain": [
          0.525,
          0.7375
         ],
         "title": {
          "text": "num_iterations"
         }
        },
        "xaxis4": {
         "anchor": "y4",
         "domain": [
          0.7875,
          1.0
         ],
         "title": {
          "text": "skip_drop"
         }
        },
        "yaxis": {
         "anchor": "x",
         "domain": [
          0.0,
          1.0
         ],
         "title": {
          "text": "Objective Value"
         }
        },
        "yaxis2": {
         "anchor": "x2",
         "domain": [
          0.0,
          1.0
         ],
         "matches": "y",
         "showticklabels": false
        },
        "yaxis3": {
         "anchor": "x3",
         "domain": [
          0.0,
          1.0
         ],
         "matches": "y",
         "showticklabels": false
        },
        "yaxis4": {
         "anchor": "x4",
         "domain": [
          0.0,
          1.0
         ],
         "matches": "y",
         "showticklabels": false
        }
       }
      }
     },
     "metadata": {},
     "output_type": "display_data"
    }
   ],
   "source": [
    "plot_slice(study)"
   ]
  },
  {
   "cell_type": "code",
   "execution_count": 17,
   "id": "9ab853ed",
   "metadata": {
    "execution": {
     "iopub.execute_input": "2022-08-08T04:48:10.767845Z",
     "iopub.status.busy": "2022-08-08T04:48:10.767342Z",
     "iopub.status.idle": "2022-08-08T04:48:10.784451Z",
     "shell.execute_reply": "2022-08-08T04:48:10.784849Z"
    },
    "papermill": {
     "duration": 0.089413,
     "end_time": "2022-08-08T04:48:10.785000",
     "exception": false,
     "start_time": "2022-08-08T04:48:10.695587",
     "status": "completed"
    },
    "tags": []
   },
   "outputs": [
    {
     "data": {
      "application/vnd.plotly.v1+json": {
       "config": {
        "plotlyServerURL": "https://plot.ly"
       },
       "data": [
        {
         "mode": "lines",
         "name": "lgbm-dart-bce-dsv04",
         "type": "scatter",
         "x": [
          0.7657633949669009,
          0.766077539602582,
          0.766391684238263,
          0.766705828873944,
          0.767019973509625,
          0.767334118145306,
          0.7676482627809871,
          0.7679624074166681,
          0.7682765520523491,
          0.7685906966880302,
          0.7689048413237112,
          0.7692189859593922,
          0.7695331305950732,
          0.7698472752307542,
          0.7701614198664353,
          0.7704755645021163,
          0.7707897091377973,
          0.7711038537734783,
          0.7714179984091594,
          0.7717321430448404,
          0.7720462876805214,
          0.7723604323162024,
          0.7726745769518835,
          0.7729887215875645,
          0.7733028662232455,
          0.7736170108589265,
          0.7739311554946076,
          0.7742453001302886,
          0.7745594447659696,
          0.7748735894016506,
          0.7751877340373317,
          0.7755018786730127,
          0.7758160233086937,
          0.7761301679443747,
          0.7764443125800558,
          0.7767584572157368,
          0.7770726018514178,
          0.7773867464870988,
          0.7777008911227798,
          0.7780150357584609,
          0.7783291803941419,
          0.7786433250298229,
          0.7789574696655039,
          0.779271614301185,
          0.779585758936866,
          0.779899903572547,
          0.780214048208228,
          0.7805281928439091,
          0.7808423374795901,
          0.781156482115271,
          0.7814706267509521,
          0.781784771386633,
          0.7820989160223141,
          0.7824130606579951,
          0.7827272052936761,
          0.7830413499293571,
          0.7833554945650382,
          0.7836696392007192,
          0.7839837838364002,
          0.7842979284720812,
          0.7846120731077623,
          0.7849262177434433,
          0.7852403623791243,
          0.7855545070148053,
          0.7858686516504864,
          0.7861827962861674,
          0.7864969409218484,
          0.7868110855575294,
          0.7871252301932105,
          0.7874393748288915,
          0.7877535194645725,
          0.7880676641002535,
          0.7883818087359346,
          0.7886959533716156,
          0.7890100980072966,
          0.7893242426429776,
          0.7896383872786586,
          0.7899525319143397,
          0.7902666765500207,
          0.7905808211857017,
          0.7908949658213827,
          0.7912091104570638,
          0.7915232550927448,
          0.7918373997284258,
          0.7921515443641068,
          0.7924656889997879,
          0.7927798336354689,
          0.7930939782711499,
          0.7934081229068309,
          0.793722267542512,
          0.794036412178193,
          0.794350556813874,
          0.794664701449555,
          0.7949788460852361,
          0.7952929907209171,
          0.7956071353565981,
          0.7959212799922791,
          0.7962354246279602,
          0.7965495692636412,
          0.7968637138993222
         ],
         "y": [
          0.006622516556291391,
          0.006622516556291391,
          0.006622516556291391,
          0.006622516556291391,
          0.006622516556291391,
          0.006622516556291391,
          0.006622516556291391,
          0.006622516556291391,
          0.006622516556291391,
          0.006622516556291391,
          0.006622516556291391,
          0.013245033112582781,
          0.013245033112582781,
          0.013245033112582781,
          0.013245033112582781,
          0.013245033112582781,
          0.013245033112582781,
          0.013245033112582781,
          0.013245033112582781,
          0.013245033112582781,
          0.013245033112582781,
          0.013245033112582781,
          0.013245033112582781,
          0.013245033112582781,
          0.013245033112582781,
          0.013245033112582781,
          0.013245033112582781,
          0.013245033112582781,
          0.013245033112582781,
          0.013245033112582781,
          0.013245033112582781,
          0.013245033112582781,
          0.013245033112582781,
          0.013245033112582781,
          0.013245033112582781,
          0.013245033112582781,
          0.013245033112582781,
          0.013245033112582781,
          0.013245033112582781,
          0.013245033112582781,
          0.013245033112582781,
          0.013245033112582781,
          0.013245033112582781,
          0.013245033112582781,
          0.013245033112582781,
          0.013245033112582781,
          0.013245033112582781,
          0.013245033112582781,
          0.013245033112582781,
          0.013245033112582781,
          0.013245033112582781,
          0.013245033112582781,
          0.013245033112582781,
          0.013245033112582781,
          0.013245033112582781,
          0.013245033112582781,
          0.013245033112582781,
          0.013245033112582781,
          0.013245033112582781,
          0.013245033112582781,
          0.013245033112582781,
          0.013245033112582781,
          0.013245033112582781,
          0.013245033112582781,
          0.013245033112582781,
          0.013245033112582781,
          0.013245033112582781,
          0.013245033112582781,
          0.013245033112582781,
          0.019867549668874173,
          0.019867549668874173,
          0.019867549668874173,
          0.026490066225165563,
          0.026490066225165563,
          0.033112582781456956,
          0.039735099337748346,
          0.039735099337748346,
          0.039735099337748346,
          0.046357615894039736,
          0.046357615894039736,
          0.046357615894039736,
          0.046357615894039736,
          0.059602649006622516,
          0.059602649006622516,
          0.06622516556291391,
          0.06622516556291391,
          0.06622516556291391,
          0.06622516556291391,
          0.0728476821192053,
          0.09933774834437085,
          0.09933774834437085,
          0.09933774834437085,
          0.09933774834437085,
          0.09933774834437085,
          0.11920529801324503,
          0.1986754966887417,
          0.4768211920529801,
          0.7814569536423841,
          0.9602649006622517,
          1.0
         ]
        }
       ],
       "layout": {
        "template": {
         "data": {
          "bar": [
           {
            "error_x": {
             "color": "#2a3f5f"
            },
            "error_y": {
             "color": "#2a3f5f"
            },
            "marker": {
             "line": {
              "color": "#E5ECF6",
              "width": 0.5
             },
             "pattern": {
              "fillmode": "overlay",
              "size": 10,
              "solidity": 0.2
             }
            },
            "type": "bar"
           }
          ],
          "barpolar": [
           {
            "marker": {
             "line": {
              "color": "#E5ECF6",
              "width": 0.5
             },
             "pattern": {
              "fillmode": "overlay",
              "size": 10,
              "solidity": 0.2
             }
            },
            "type": "barpolar"
           }
          ],
          "carpet": [
           {
            "aaxis": {
             "endlinecolor": "#2a3f5f",
             "gridcolor": "white",
             "linecolor": "white",
             "minorgridcolor": "white",
             "startlinecolor": "#2a3f5f"
            },
            "baxis": {
             "endlinecolor": "#2a3f5f",
             "gridcolor": "white",
             "linecolor": "white",
             "minorgridcolor": "white",
             "startlinecolor": "#2a3f5f"
            },
            "type": "carpet"
           }
          ],
          "choropleth": [
           {
            "colorbar": {
             "outlinewidth": 0,
             "ticks": ""
            },
            "type": "choropleth"
           }
          ],
          "contour": [
           {
            "colorbar": {
             "outlinewidth": 0,
             "ticks": ""
            },
            "colorscale": [
             [
              0.0,
              "#0d0887"
             ],
             [
              0.1111111111111111,
              "#46039f"
             ],
             [
              0.2222222222222222,
              "#7201a8"
             ],
             [
              0.3333333333333333,
              "#9c179e"
             ],
             [
              0.4444444444444444,
              "#bd3786"
             ],
             [
              0.5555555555555556,
              "#d8576b"
             ],
             [
              0.6666666666666666,
              "#ed7953"
             ],
             [
              0.7777777777777778,
              "#fb9f3a"
             ],
             [
              0.8888888888888888,
              "#fdca26"
             ],
             [
              1.0,
              "#f0f921"
             ]
            ],
            "type": "contour"
           }
          ],
          "contourcarpet": [
           {
            "colorbar": {
             "outlinewidth": 0,
             "ticks": ""
            },
            "type": "contourcarpet"
           }
          ],
          "heatmap": [
           {
            "colorbar": {
             "outlinewidth": 0,
             "ticks": ""
            },
            "colorscale": [
             [
              0.0,
              "#0d0887"
             ],
             [
              0.1111111111111111,
              "#46039f"
             ],
             [
              0.2222222222222222,
              "#7201a8"
             ],
             [
              0.3333333333333333,
              "#9c179e"
             ],
             [
              0.4444444444444444,
              "#bd3786"
             ],
             [
              0.5555555555555556,
              "#d8576b"
             ],
             [
              0.6666666666666666,
              "#ed7953"
             ],
             [
              0.7777777777777778,
              "#fb9f3a"
             ],
             [
              0.8888888888888888,
              "#fdca26"
             ],
             [
              1.0,
              "#f0f921"
             ]
            ],
            "type": "heatmap"
           }
          ],
          "heatmapgl": [
           {
            "colorbar": {
             "outlinewidth": 0,
             "ticks": ""
            },
            "colorscale": [
             [
              0.0,
              "#0d0887"
             ],
             [
              0.1111111111111111,
              "#46039f"
             ],
             [
              0.2222222222222222,
              "#7201a8"
             ],
             [
              0.3333333333333333,
              "#9c179e"
             ],
             [
              0.4444444444444444,
              "#bd3786"
             ],
             [
              0.5555555555555556,
              "#d8576b"
             ],
             [
              0.6666666666666666,
              "#ed7953"
             ],
             [
              0.7777777777777778,
              "#fb9f3a"
             ],
             [
              0.8888888888888888,
              "#fdca26"
             ],
             [
              1.0,
              "#f0f921"
             ]
            ],
            "type": "heatmapgl"
           }
          ],
          "histogram": [
           {
            "marker": {
             "pattern": {
              "fillmode": "overlay",
              "size": 10,
              "solidity": 0.2
             }
            },
            "type": "histogram"
           }
          ],
          "histogram2d": [
           {
            "colorbar": {
             "outlinewidth": 0,
             "ticks": ""
            },
            "colorscale": [
             [
              0.0,
              "#0d0887"
             ],
             [
              0.1111111111111111,
              "#46039f"
             ],
             [
              0.2222222222222222,
              "#7201a8"
             ],
             [
              0.3333333333333333,
              "#9c179e"
             ],
             [
              0.4444444444444444,
              "#bd3786"
             ],
             [
              0.5555555555555556,
              "#d8576b"
             ],
             [
              0.6666666666666666,
              "#ed7953"
             ],
             [
              0.7777777777777778,
              "#fb9f3a"
             ],
             [
              0.8888888888888888,
              "#fdca26"
             ],
             [
              1.0,
              "#f0f921"
             ]
            ],
            "type": "histogram2d"
           }
          ],
          "histogram2dcontour": [
           {
            "colorbar": {
             "outlinewidth": 0,
             "ticks": ""
            },
            "colorscale": [
             [
              0.0,
              "#0d0887"
             ],
             [
              0.1111111111111111,
              "#46039f"
             ],
             [
              0.2222222222222222,
              "#7201a8"
             ],
             [
              0.3333333333333333,
              "#9c179e"
             ],
             [
              0.4444444444444444,
              "#bd3786"
             ],
             [
              0.5555555555555556,
              "#d8576b"
             ],
             [
              0.6666666666666666,
              "#ed7953"
             ],
             [
              0.7777777777777778,
              "#fb9f3a"
             ],
             [
              0.8888888888888888,
              "#fdca26"
             ],
             [
              1.0,
              "#f0f921"
             ]
            ],
            "type": "histogram2dcontour"
           }
          ],
          "mesh3d": [
           {
            "colorbar": {
             "outlinewidth": 0,
             "ticks": ""
            },
            "type": "mesh3d"
           }
          ],
          "parcoords": [
           {
            "line": {
             "colorbar": {
              "outlinewidth": 0,
              "ticks": ""
             }
            },
            "type": "parcoords"
           }
          ],
          "pie": [
           {
            "automargin": true,
            "type": "pie"
           }
          ],
          "scatter": [
           {
            "marker": {
             "colorbar": {
              "outlinewidth": 0,
              "ticks": ""
             }
            },
            "type": "scatter"
           }
          ],
          "scatter3d": [
           {
            "line": {
             "colorbar": {
              "outlinewidth": 0,
              "ticks": ""
             }
            },
            "marker": {
             "colorbar": {
              "outlinewidth": 0,
              "ticks": ""
             }
            },
            "type": "scatter3d"
           }
          ],
          "scattercarpet": [
           {
            "marker": {
             "colorbar": {
              "outlinewidth": 0,
              "ticks": ""
             }
            },
            "type": "scattercarpet"
           }
          ],
          "scattergeo": [
           {
            "marker": {
             "colorbar": {
              "outlinewidth": 0,
              "ticks": ""
             }
            },
            "type": "scattergeo"
           }
          ],
          "scattergl": [
           {
            "marker": {
             "colorbar": {
              "outlinewidth": 0,
              "ticks": ""
             }
            },
            "type": "scattergl"
           }
          ],
          "scattermapbox": [
           {
            "marker": {
             "colorbar": {
              "outlinewidth": 0,
              "ticks": ""
             }
            },
            "type": "scattermapbox"
           }
          ],
          "scatterpolar": [
           {
            "marker": {
             "colorbar": {
              "outlinewidth": 0,
              "ticks": ""
             }
            },
            "type": "scatterpolar"
           }
          ],
          "scatterpolargl": [
           {
            "marker": {
             "colorbar": {
              "outlinewidth": 0,
              "ticks": ""
             }
            },
            "type": "scatterpolargl"
           }
          ],
          "scatterternary": [
           {
            "marker": {
             "colorbar": {
              "outlinewidth": 0,
              "ticks": ""
             }
            },
            "type": "scatterternary"
           }
          ],
          "surface": [
           {
            "colorbar": {
             "outlinewidth": 0,
             "ticks": ""
            },
            "colorscale": [
             [
              0.0,
              "#0d0887"
             ],
             [
              0.1111111111111111,
              "#46039f"
             ],
             [
              0.2222222222222222,
              "#7201a8"
             ],
             [
              0.3333333333333333,
              "#9c179e"
             ],
             [
              0.4444444444444444,
              "#bd3786"
             ],
             [
              0.5555555555555556,
              "#d8576b"
             ],
             [
              0.6666666666666666,
              "#ed7953"
             ],
             [
              0.7777777777777778,
              "#fb9f3a"
             ],
             [
              0.8888888888888888,
              "#fdca26"
             ],
             [
              1.0,
              "#f0f921"
             ]
            ],
            "type": "surface"
           }
          ],
          "table": [
           {
            "cells": {
             "fill": {
              "color": "#EBF0F8"
             },
             "line": {
              "color": "white"
             }
            },
            "header": {
             "fill": {
              "color": "#C8D4E3"
             },
             "line": {
              "color": "white"
             }
            },
            "type": "table"
           }
          ]
         },
         "layout": {
          "annotationdefaults": {
           "arrowcolor": "#2a3f5f",
           "arrowhead": 0,
           "arrowwidth": 1
          },
          "autotypenumbers": "strict",
          "coloraxis": {
           "colorbar": {
            "outlinewidth": 0,
            "ticks": ""
           }
          },
          "colorscale": {
           "diverging": [
            [
             0,
             "#8e0152"
            ],
            [
             0.1,
             "#c51b7d"
            ],
            [
             0.2,
             "#de77ae"
            ],
            [
             0.3,
             "#f1b6da"
            ],
            [
             0.4,
             "#fde0ef"
            ],
            [
             0.5,
             "#f7f7f7"
            ],
            [
             0.6,
             "#e6f5d0"
            ],
            [
             0.7,
             "#b8e186"
            ],
            [
             0.8,
             "#7fbc41"
            ],
            [
             0.9,
             "#4d9221"
            ],
            [
             1,
             "#276419"
            ]
           ],
           "sequential": [
            [
             0.0,
             "#0d0887"
            ],
            [
             0.1111111111111111,
             "#46039f"
            ],
            [
             0.2222222222222222,
             "#7201a8"
            ],
            [
             0.3333333333333333,
             "#9c179e"
            ],
            [
             0.4444444444444444,
             "#bd3786"
            ],
            [
             0.5555555555555556,
             "#d8576b"
            ],
            [
             0.6666666666666666,
             "#ed7953"
            ],
            [
             0.7777777777777778,
             "#fb9f3a"
            ],
            [
             0.8888888888888888,
             "#fdca26"
            ],
            [
             1.0,
             "#f0f921"
            ]
           ],
           "sequentialminus": [
            [
             0.0,
             "#0d0887"
            ],
            [
             0.1111111111111111,
             "#46039f"
            ],
            [
             0.2222222222222222,
             "#7201a8"
            ],
            [
             0.3333333333333333,
             "#9c179e"
            ],
            [
             0.4444444444444444,
             "#bd3786"
            ],
            [
             0.5555555555555556,
             "#d8576b"
            ],
            [
             0.6666666666666666,
             "#ed7953"
            ],
            [
             0.7777777777777778,
             "#fb9f3a"
            ],
            [
             0.8888888888888888,
             "#fdca26"
            ],
            [
             1.0,
             "#f0f921"
            ]
           ]
          },
          "colorway": [
           "#636efa",
           "#EF553B",
           "#00cc96",
           "#ab63fa",
           "#FFA15A",
           "#19d3f3",
           "#FF6692",
           "#B6E880",
           "#FF97FF",
           "#FECB52"
          ],
          "font": {
           "color": "#2a3f5f"
          },
          "geo": {
           "bgcolor": "white",
           "lakecolor": "white",
           "landcolor": "#E5ECF6",
           "showlakes": true,
           "showland": true,
           "subunitcolor": "white"
          },
          "hoverlabel": {
           "align": "left"
          },
          "hovermode": "closest",
          "mapbox": {
           "style": "light"
          },
          "paper_bgcolor": "white",
          "plot_bgcolor": "#E5ECF6",
          "polar": {
           "angularaxis": {
            "gridcolor": "white",
            "linecolor": "white",
            "ticks": ""
           },
           "bgcolor": "#E5ECF6",
           "radialaxis": {
            "gridcolor": "white",
            "linecolor": "white",
            "ticks": ""
           }
          },
          "scene": {
           "xaxis": {
            "backgroundcolor": "#E5ECF6",
            "gridcolor": "white",
            "gridwidth": 2,
            "linecolor": "white",
            "showbackground": true,
            "ticks": "",
            "zerolinecolor": "white"
           },
           "yaxis": {
            "backgroundcolor": "#E5ECF6",
            "gridcolor": "white",
            "gridwidth": 2,
            "linecolor": "white",
            "showbackground": true,
            "ticks": "",
            "zerolinecolor": "white"
           },
           "zaxis": {
            "backgroundcolor": "#E5ECF6",
            "gridcolor": "white",
            "gridwidth": 2,
            "linecolor": "white",
            "showbackground": true,
            "ticks": "",
            "zerolinecolor": "white"
           }
          },
          "shapedefaults": {
           "line": {
            "color": "#2a3f5f"
           }
          },
          "ternary": {
           "aaxis": {
            "gridcolor": "white",
            "linecolor": "white",
            "ticks": ""
           },
           "baxis": {
            "gridcolor": "white",
            "linecolor": "white",
            "ticks": ""
           },
           "bgcolor": "#E5ECF6",
           "caxis": {
            "gridcolor": "white",
            "linecolor": "white",
            "ticks": ""
           }
          },
          "title": {
           "x": 0.05
          },
          "xaxis": {
           "automargin": true,
           "gridcolor": "white",
           "linecolor": "white",
           "ticks": "",
           "title": {
            "standoff": 15
           },
           "zerolinecolor": "white",
           "zerolinewidth": 2
          },
          "yaxis": {
           "automargin": true,
           "gridcolor": "white",
           "linecolor": "white",
           "ticks": "",
           "title": {
            "standoff": 15
           },
           "zerolinecolor": "white",
           "zerolinewidth": 2
          }
         }
        },
        "title": {
         "text": "Empirical Distribution Function Plot"
        },
        "xaxis": {
         "title": {
          "text": "Objective Value"
         }
        },
        "yaxis": {
         "range": [
          0,
          1
         ],
         "title": {
          "text": "Cumulative Probability"
         }
        }
       }
      }
     },
     "metadata": {},
     "output_type": "display_data"
    }
   ],
   "source": [
    "plot_edf(study)"
   ]
  },
  {
   "cell_type": "code",
   "execution_count": 18,
   "id": "4d9c158a",
   "metadata": {
    "execution": {
     "iopub.execute_input": "2022-08-08T04:48:10.933609Z",
     "iopub.status.busy": "2022-08-08T04:48:10.933085Z",
     "iopub.status.idle": "2022-08-08T04:48:10.974008Z",
     "shell.execute_reply": "2022-08-08T04:48:10.973572Z"
    },
    "papermill": {
     "duration": 0.117133,
     "end_time": "2022-08-08T04:48:10.974128",
     "exception": false,
     "start_time": "2022-08-08T04:48:10.856995",
     "status": "completed"
    },
    "tags": []
   },
   "outputs": [
    {
     "data": {
      "application/vnd.plotly.v1+json": {
       "config": {
        "plotlyServerURL": "https://plot.ly"
       },
       "data": [
        {
         "dimensions": [
          {
           "label": "Objective Value",
           "range": [
            0.7657633949669009,
            0.7968637138993222
           ],
           "values": [
            0.7934828513823854,
            0.7887776754653126,
            0.7657633949669009,
            0.7893063535187914,
            0.7934140239367882,
            0.768933165673208,
            0.7936585516988193,
            0.795994121407122,
            0.788278297819258,
            0.7950361830594934,
            0.7957554482693723,
            0.795487713607252,
            0.7959821320686388,
            0.7959489394860406,
            0.7962949582774446,
            0.7962618347378678,
            0.7966376587847954,
            0.7960910690791542,
            0.7959193132710607,
            0.7961135552705001,
            0.7955447522998303,
            0.795879868122323,
            0.7964576014381992,
            0.7960453693146496,
            0.7956606465542907,
            0.7959290707602688,
            0.795572137262973,
            0.7960866108179058,
            0.7965667812409801,
            0.7936340597348707,
            0.7956593661461255,
            0.7961545927947526,
            0.7959167649071475,
            0.7963814938208511,
            0.7921076008500592,
            0.7963189927083211,
            0.795444752372658,
            0.7952457004183644,
            0.7957675579142425,
            0.7958930620928751,
            0.7963435413764814,
            0.796009636292423,
            0.7956885900268742,
            0.7963152399408011,
            0.7964513809306517,
            0.7957155635305967,
            0.7913291997347736,
            0.7959161874428411,
            0.7956860155375409,
            0.7961820894159517,
            0.7964783354372674,
            0.7963864815542239,
            0.7959366360430715,
            0.7960624398499789,
            0.796085505075128,
            0.7873062166996656,
            0.7961821947439658,
            0.7963079295416275,
            0.7956104430340134,
            0.7963883663867688,
            0.7957973579353552,
            0.7950897880785908,
            0.7968637138993222,
            0.796088689763687,
            0.7957005681186292,
            0.7957218797278811,
            0.7958285598615233,
            0.7960043557241444,
            0.7957112516672616,
            0.7964764858825374,
            0.7954780192239252,
            0.796387006592817,
            0.7957550371208463,
            0.7957111458081036,
            0.7962731045832812,
            0.7960451055762632,
            0.7913334344772897,
            0.795657199688902,
            0.7960413707037921,
            0.7965725304554911,
            0.795862327608742,
            0.7962678033163437,
            0.7962281462784069,
            0.7959700346908047,
            0.7960564301759181,
            0.7961715317009572,
            0.7962268129065593,
            0.7962566448887831,
            0.7962392314462488,
            0.7954019640791886,
            0.796166565254393,
            0.796387006592817,
            0.7960357106719247,
            0.7964109441907348,
            0.7958739663029102,
            0.7960926991363448,
            0.7959541870636127,
            0.7955628397897097,
            0.7959127943303909,
            0.795649271894906,
            0.7959708998279383,
            0.7960900573253732,
            0.7959105672173384,
            0.7963323522827768,
            0.7963250791502111,
            0.7955504115342283,
            0.7964391972407712,
            0.7960261528940157,
            0.7954391711154651,
            0.7961090191865334,
            0.7960570963525793,
            0.7958391011291436,
            0.7966806850684205,
            0.7962602057968124,
            0.7966629375923067,
            0.796021675257926,
            0.7961556841381535,
            0.7958277662708002,
            0.7957529957626814,
            0.7961947948318175,
            0.7959120238279729,
            0.7960847071977042,
            0.7958950773727684,
            0.7961906667189884,
            0.7954966143437976,
            0.7958063638425524,
            0.7933970367522607,
            0.79568753700347,
            0.7960124819536183,
            0.7955087254158286,
            0.7958284514939185,
            0.7961017274214817,
            0.7958209172633458,
            0.7959387555028534,
            0.7957199647668938,
            0.7958069778086923,
            0.7958467823262184,
            0.7962203124268008,
            0.7901948509223892,
            0.7956689023864849,
            0.7958133456991754,
            0.7961668075327544,
            0.796387006592817,
            0.7961019240560185,
            0.7960634142192957,
            0.7963947725585567,
            0.7953540671955556,
            0.7961780762580597,
            0.7957706039391443,
            0.7962627545979319,
            0.7957108310503919
           ]
          },
          {
           "label": "drop_rate",
           "range": [
            0.05,
            0.3
           ],
           "values": [
            0.22999999999999998,
            0.060000000000000005,
            0.16,
            0.09,
            0.18,
            0.25,
            0.16999999999999998,
            0.11,
            0.07,
            0.19,
            0.3,
            0.1,
            0.29,
            0.3,
            0.13,
            0.12000000000000001,
            0.14,
            0.13,
            0.14,
            0.21000000000000002,
            0.14,
            0.12000000000000001,
            0.08,
            0.08,
            0.15000000000000002,
            0.05,
            0.1,
            0.08,
            0.2,
            0.22000000000000003,
            0.24,
            0.2,
            0.16999999999999998,
            0.15000000000000002,
            0.19,
            0.16,
            0.26,
            0.16,
            0.05,
            0.18,
            0.22999999999999998,
            0.22000000000000003,
            0.26,
            0.22999999999999998,
            0.19,
            0.19,
            0.15000000000000002,
            0.18,
            0.2,
            0.11,
            0.16999999999999998,
            0.16999999999999998,
            0.16999999999999998,
            0.21000000000000002,
            0.19,
            0.16,
            0.2,
            0.14,
            0.18,
            0.13,
            0.12000000000000001,
            0.13,
            0.1,
            0.07,
            0.1,
            0.08,
            0.09,
            0.11,
            0.060000000000000005,
            0.09,
            0.09,
            0.07,
            0.1,
            0.14,
            0.13,
            0.09,
            0.11,
            0.12000000000000001,
            0.060000000000000005,
            0.15000000000000002,
            0.16,
            0.15000000000000002,
            0.12000000000000001,
            0.21000000000000002,
            0.08,
            0.13,
            0.14,
            0.16,
            0.15000000000000002,
            0.16999999999999998,
            0.19,
            0.07,
            0.07,
            0.1,
            0.09,
            0.11,
            0.1,
            0.08,
            0.18,
            0.2,
            0.16999999999999998,
            0.07,
            0.060000000000000005,
            0.1,
            0.08,
            0.05,
            0.1,
            0.1,
            0.09,
            0.12000000000000001,
            0.11,
            0.09,
            0.19,
            0.21000000000000002,
            0.2,
            0.22000000000000003,
            0.2,
            0.19,
            0.19,
            0.18,
            0.2,
            0.15000000000000002,
            0.14,
            0.18,
            0.22000000000000003,
            0.21000000000000002,
            0.13,
            0.2,
            0.11,
            0.19,
            0.16,
            0.08,
            0.1,
            0.07,
            0.09,
            0.08,
            0.060000000000000005,
            0.16999999999999998,
            0.12000000000000001,
            0.18,
            0.1,
            0.07,
            0.07,
            0.09,
            0.05,
            0.07,
            0.28,
            0.2,
            0.08,
            0.14,
            0.09
           ]
          },
          {
           "label": "max_drop",
           "range": [
            10,
            500
           ],
           "values": [
            450,
            20,
            290,
            50,
            310,
            90,
            340,
            80,
            260,
            330,
            150,
            150,
            160,
            170,
            200,
            210,
            220,
            400,
            260,
            220,
            390,
            200,
            210,
            100,
            240,
            120,
            190,
            280,
            490,
            470,
            500,
            400,
            230,
            360,
            440,
            340,
            370,
            440,
            300,
            500,
            280,
            10,
            280,
            320,
            360,
            460,
            370,
            420,
            360,
            180,
            250,
            250,
            260,
            250,
            220,
            140,
            300,
            240,
            210,
            180,
            170,
            130,
            40,
            30,
            70,
            50,
            190,
            160,
            120,
            100,
            90,
            30,
            110,
            80,
            220,
            50,
            270,
            480,
            200,
            60,
            70,
            40,
            60,
            100,
            190,
            10,
            240,
            140,
            170,
            230,
            330,
            30,
            20,
            60,
            420,
            80,
            60,
            210,
            270,
            90,
            300,
            40,
            30,
            60,
            20,
            40,
            50,
            70,
            230,
            100,
            80,
            20,
            50,
            50,
            60,
            60,
            50,
            70,
            90,
            40,
            10,
            200,
            110,
            220,
            490,
            250,
            380,
            60,
            270,
            420,
            180,
            30,
            30,
            80,
            40,
            450,
            50,
            70,
            240,
            160,
            10,
            20,
            30,
            50,
            40,
            30,
            60,
            210,
            340,
            70,
            290
           ]
          },
          {
           "label": "num_iterations",
           "range": [
            1000,
            7000
           ],
           "values": [
            3200,
            1850,
            1800,
            3000,
            6350,
            1000,
            3700,
            3700,
            6700,
            5850,
            5000,
            4750,
            4800,
            4600,
            5500,
            5650,
            5750,
            5600,
            7000,
            6250,
            5300,
            5900,
            4250,
            4250,
            4250,
            5250,
            3000,
            6200,
            5250,
            3650,
            4350,
            5300,
            5050,
            5450,
            2200,
            5950,
            2500,
            6650,
            3950,
            4500,
            5000,
            5050,
            3500,
            4100,
            4750,
            4700,
            1100,
            3900,
            5700,
            6050,
            4800,
            5450,
            6500,
            4850,
            4500,
            5200,
            5750,
            4750,
            5450,
            3400,
            3300,
            2950,
            4350,
            4150,
            4500,
            3400,
            3650,
            3850,
            2750,
            4300,
            4350,
            4950,
            4600,
            4050,
            4300,
            5200,
            3750,
            3200,
            4850,
            4650,
            4700,
            4150,
            4400,
            4600,
            5050,
            3500,
            5300,
            4900,
            5600,
            4050,
            4400,
            4950,
            5150,
            4700,
            4250,
            4700,
            3850,
            4550,
            5350,
            4200,
            6050,
            4850,
            4450,
            5100,
            4750,
            5800,
            4950,
            4600,
            4000,
            4700,
            5000,
            5400,
            4950,
            5550,
            4300,
            4350,
            4800,
            4600,
            5150,
            4250,
            4500,
            4900,
            4450,
            4150,
            3750,
            4650,
            1550,
            4800,
            3900,
            5250,
            4300,
            4850,
            5000,
            5150,
            5050,
            4950,
            4500,
            4050,
            4750,
            4350,
            2600,
            4650,
            4950,
            5300,
            4950,
            6200,
            6400,
            6000,
            5900,
            5500,
            4450
           ]
          },
          {
           "label": "skip_drop",
           "range": [
            0.2,
            0.8
           ],
           "values": [
            0.45,
            0.30000000000000004,
            0.2,
            0.25,
            0.30000000000000004,
            0.25,
            0.45,
            0.7,
            0.25,
            0.4,
            0.75,
            0.75,
            0.75,
            0.6000000000000001,
            0.65,
            0.6000000000000001,
            0.6000000000000001,
            0.6000000000000001,
            0.65,
            0.55,
            0.8,
            0.55,
            0.65,
            0.65,
            0.5,
            0.65,
            0.7,
            0.55,
            0.7,
            0.45,
            0.8,
            0.7,
            0.65,
            0.6000000000000001,
            0.5,
            0.6000000000000001,
            0.7,
            0.4,
            0.55,
            0.6000000000000001,
            0.7,
            0.7,
            0.75,
            0.7,
            0.65,
            0.65,
            0.6000000000000001,
            0.75,
            0.55,
            0.65,
            0.6000000000000001,
            0.6000000000000001,
            0.5,
            0.65,
            0.55,
            0.2,
            0.6000000000000001,
            0.75,
            0.4,
            0.65,
            0.65,
            0.6000000000000001,
            0.7,
            0.7,
            0.75,
            0.8,
            0.65,
            0.7,
            0.65,
            0.75,
            0.75,
            0.7,
            0.7,
            0.8,
            0.65,
            0.75,
            0.35000000000000003,
            0.6000000000000001,
            0.7,
            0.65,
            0.75,
            0.65,
            0.65,
            0.7,
            0.6000000000000001,
            0.7,
            0.65,
            0.55,
            0.6000000000000001,
            0.8,
            0.65,
            0.7,
            0.7,
            0.65,
            0.65,
            0.65,
            0.6000000000000001,
            0.6000000000000001,
            0.65,
            0.75,
            0.55,
            0.7,
            0.75,
            0.7,
            0.65,
            0.7,
            0.7,
            0.65,
            0.75,
            0.6000000000000001,
            0.65,
            0.7,
            0.7,
            0.7,
            0.65,
            0.7,
            0.75,
            0.5,
            0.65,
            0.7,
            0.6000000000000001,
            0.65,
            0.65,
            0.65,
            0.7,
            0.65,
            0.6000000000000001,
            0.75,
            0.65,
            0.7,
            0.6000000000000001,
            0.7,
            0.7,
            0.7,
            0.65,
            0.75,
            0.65,
            0.7,
            0.30000000000000004,
            0.8,
            0.6000000000000001,
            0.7,
            0.7,
            0.75,
            0.65,
            0.7,
            0.7,
            0.55,
            0.45,
            0.65,
            0.75
           ]
          }
         ],
         "labelangle": 30,
         "labelside": "bottom",
         "line": {
          "color": [
           0.7934828513823854,
           0.7887776754653126,
           0.7657633949669009,
           0.7893063535187914,
           0.7934140239367882,
           0.768933165673208,
           0.7936585516988193,
           0.795994121407122,
           0.788278297819258,
           0.7950361830594934,
           0.7957554482693723,
           0.795487713607252,
           0.7959821320686388,
           0.7959489394860406,
           0.7962949582774446,
           0.7962618347378678,
           0.7966376587847954,
           0.7960910690791542,
           0.7959193132710607,
           0.7961135552705001,
           0.7955447522998303,
           0.795879868122323,
           0.7964576014381992,
           0.7960453693146496,
           0.7956606465542907,
           0.7959290707602688,
           0.795572137262973,
           0.7960866108179058,
           0.7965667812409801,
           0.7936340597348707,
           0.7956593661461255,
           0.7961545927947526,
           0.7959167649071475,
           0.7963814938208511,
           0.7921076008500592,
           0.7963189927083211,
           0.795444752372658,
           0.7952457004183644,
           0.7957675579142425,
           0.7958930620928751,
           0.7963435413764814,
           0.796009636292423,
           0.7956885900268742,
           0.7963152399408011,
           0.7964513809306517,
           0.7957155635305967,
           0.7913291997347736,
           0.7959161874428411,
           0.7956860155375409,
           0.7961820894159517,
           0.7964783354372674,
           0.7963864815542239,
           0.7959366360430715,
           0.7960624398499789,
           0.796085505075128,
           0.7873062166996656,
           0.7961821947439658,
           0.7963079295416275,
           0.7956104430340134,
           0.7963883663867688,
           0.7957973579353552,
           0.7950897880785908,
           0.7968637138993222,
           0.796088689763687,
           0.7957005681186292,
           0.7957218797278811,
           0.7958285598615233,
           0.7960043557241444,
           0.7957112516672616,
           0.7964764858825374,
           0.7954780192239252,
           0.796387006592817,
           0.7957550371208463,
           0.7957111458081036,
           0.7962731045832812,
           0.7960451055762632,
           0.7913334344772897,
           0.795657199688902,
           0.7960413707037921,
           0.7965725304554911,
           0.795862327608742,
           0.7962678033163437,
           0.7962281462784069,
           0.7959700346908047,
           0.7960564301759181,
           0.7961715317009572,
           0.7962268129065593,
           0.7962566448887831,
           0.7962392314462488,
           0.7954019640791886,
           0.796166565254393,
           0.796387006592817,
           0.7960357106719247,
           0.7964109441907348,
           0.7958739663029102,
           0.7960926991363448,
           0.7959541870636127,
           0.7955628397897097,
           0.7959127943303909,
           0.795649271894906,
           0.7959708998279383,
           0.7960900573253732,
           0.7959105672173384,
           0.7963323522827768,
           0.7963250791502111,
           0.7955504115342283,
           0.7964391972407712,
           0.7960261528940157,
           0.7954391711154651,
           0.7961090191865334,
           0.7960570963525793,
           0.7958391011291436,
           0.7966806850684205,
           0.7962602057968124,
           0.7966629375923067,
           0.796021675257926,
           0.7961556841381535,
           0.7958277662708002,
           0.7957529957626814,
           0.7961947948318175,
           0.7959120238279729,
           0.7960847071977042,
           0.7958950773727684,
           0.7961906667189884,
           0.7954966143437976,
           0.7958063638425524,
           0.7933970367522607,
           0.79568753700347,
           0.7960124819536183,
           0.7955087254158286,
           0.7958284514939185,
           0.7961017274214817,
           0.7958209172633458,
           0.7959387555028534,
           0.7957199647668938,
           0.7958069778086923,
           0.7958467823262184,
           0.7962203124268008,
           0.7901948509223892,
           0.7956689023864849,
           0.7958133456991754,
           0.7961668075327544,
           0.796387006592817,
           0.7961019240560185,
           0.7960634142192957,
           0.7963947725585567,
           0.7953540671955556,
           0.7961780762580597,
           0.7957706039391443,
           0.7962627545979319,
           0.7957108310503919
          ],
          "colorbar": {
           "title": {
            "text": "Objective Value"
           }
          },
          "colorscale": [
           [
            0.0,
            "rgb(247,251,255)"
           ],
           [
            0.125,
            "rgb(222,235,247)"
           ],
           [
            0.25,
            "rgb(198,219,239)"
           ],
           [
            0.375,
            "rgb(158,202,225)"
           ],
           [
            0.5,
            "rgb(107,174,214)"
           ],
           [
            0.625,
            "rgb(66,146,198)"
           ],
           [
            0.75,
            "rgb(33,113,181)"
           ],
           [
            0.875,
            "rgb(8,81,156)"
           ],
           [
            1.0,
            "rgb(8,48,107)"
           ]
          ],
          "reversescale": false,
          "showscale": true
         },
         "type": "parcoords"
        }
       ],
       "layout": {
        "template": {
         "data": {
          "bar": [
           {
            "error_x": {
             "color": "#2a3f5f"
            },
            "error_y": {
             "color": "#2a3f5f"
            },
            "marker": {
             "line": {
              "color": "#E5ECF6",
              "width": 0.5
             },
             "pattern": {
              "fillmode": "overlay",
              "size": 10,
              "solidity": 0.2
             }
            },
            "type": "bar"
           }
          ],
          "barpolar": [
           {
            "marker": {
             "line": {
              "color": "#E5ECF6",
              "width": 0.5
             },
             "pattern": {
              "fillmode": "overlay",
              "size": 10,
              "solidity": 0.2
             }
            },
            "type": "barpolar"
           }
          ],
          "carpet": [
           {
            "aaxis": {
             "endlinecolor": "#2a3f5f",
             "gridcolor": "white",
             "linecolor": "white",
             "minorgridcolor": "white",
             "startlinecolor": "#2a3f5f"
            },
            "baxis": {
             "endlinecolor": "#2a3f5f",
             "gridcolor": "white",
             "linecolor": "white",
             "minorgridcolor": "white",
             "startlinecolor": "#2a3f5f"
            },
            "type": "carpet"
           }
          ],
          "choropleth": [
           {
            "colorbar": {
             "outlinewidth": 0,
             "ticks": ""
            },
            "type": "choropleth"
           }
          ],
          "contour": [
           {
            "colorbar": {
             "outlinewidth": 0,
             "ticks": ""
            },
            "colorscale": [
             [
              0.0,
              "#0d0887"
             ],
             [
              0.1111111111111111,
              "#46039f"
             ],
             [
              0.2222222222222222,
              "#7201a8"
             ],
             [
              0.3333333333333333,
              "#9c179e"
             ],
             [
              0.4444444444444444,
              "#bd3786"
             ],
             [
              0.5555555555555556,
              "#d8576b"
             ],
             [
              0.6666666666666666,
              "#ed7953"
             ],
             [
              0.7777777777777778,
              "#fb9f3a"
             ],
             [
              0.8888888888888888,
              "#fdca26"
             ],
             [
              1.0,
              "#f0f921"
             ]
            ],
            "type": "contour"
           }
          ],
          "contourcarpet": [
           {
            "colorbar": {
             "outlinewidth": 0,
             "ticks": ""
            },
            "type": "contourcarpet"
           }
          ],
          "heatmap": [
           {
            "colorbar": {
             "outlinewidth": 0,
             "ticks": ""
            },
            "colorscale": [
             [
              0.0,
              "#0d0887"
             ],
             [
              0.1111111111111111,
              "#46039f"
             ],
             [
              0.2222222222222222,
              "#7201a8"
             ],
             [
              0.3333333333333333,
              "#9c179e"
             ],
             [
              0.4444444444444444,
              "#bd3786"
             ],
             [
              0.5555555555555556,
              "#d8576b"
             ],
             [
              0.6666666666666666,
              "#ed7953"
             ],
             [
              0.7777777777777778,
              "#fb9f3a"
             ],
             [
              0.8888888888888888,
              "#fdca26"
             ],
             [
              1.0,
              "#f0f921"
             ]
            ],
            "type": "heatmap"
           }
          ],
          "heatmapgl": [
           {
            "colorbar": {
             "outlinewidth": 0,
             "ticks": ""
            },
            "colorscale": [
             [
              0.0,
              "#0d0887"
             ],
             [
              0.1111111111111111,
              "#46039f"
             ],
             [
              0.2222222222222222,
              "#7201a8"
             ],
             [
              0.3333333333333333,
              "#9c179e"
             ],
             [
              0.4444444444444444,
              "#bd3786"
             ],
             [
              0.5555555555555556,
              "#d8576b"
             ],
             [
              0.6666666666666666,
              "#ed7953"
             ],
             [
              0.7777777777777778,
              "#fb9f3a"
             ],
             [
              0.8888888888888888,
              "#fdca26"
             ],
             [
              1.0,
              "#f0f921"
             ]
            ],
            "type": "heatmapgl"
           }
          ],
          "histogram": [
           {
            "marker": {
             "pattern": {
              "fillmode": "overlay",
              "size": 10,
              "solidity": 0.2
             }
            },
            "type": "histogram"
           }
          ],
          "histogram2d": [
           {
            "colorbar": {
             "outlinewidth": 0,
             "ticks": ""
            },
            "colorscale": [
             [
              0.0,
              "#0d0887"
             ],
             [
              0.1111111111111111,
              "#46039f"
             ],
             [
              0.2222222222222222,
              "#7201a8"
             ],
             [
              0.3333333333333333,
              "#9c179e"
             ],
             [
              0.4444444444444444,
              "#bd3786"
             ],
             [
              0.5555555555555556,
              "#d8576b"
             ],
             [
              0.6666666666666666,
              "#ed7953"
             ],
             [
              0.7777777777777778,
              "#fb9f3a"
             ],
             [
              0.8888888888888888,
              "#fdca26"
             ],
             [
              1.0,
              "#f0f921"
             ]
            ],
            "type": "histogram2d"
           }
          ],
          "histogram2dcontour": [
           {
            "colorbar": {
             "outlinewidth": 0,
             "ticks": ""
            },
            "colorscale": [
             [
              0.0,
              "#0d0887"
             ],
             [
              0.1111111111111111,
              "#46039f"
             ],
             [
              0.2222222222222222,
              "#7201a8"
             ],
             [
              0.3333333333333333,
              "#9c179e"
             ],
             [
              0.4444444444444444,
              "#bd3786"
             ],
             [
              0.5555555555555556,
              "#d8576b"
             ],
             [
              0.6666666666666666,
              "#ed7953"
             ],
             [
              0.7777777777777778,
              "#fb9f3a"
             ],
             [
              0.8888888888888888,
              "#fdca26"
             ],
             [
              1.0,
              "#f0f921"
             ]
            ],
            "type": "histogram2dcontour"
           }
          ],
          "mesh3d": [
           {
            "colorbar": {
             "outlinewidth": 0,
             "ticks": ""
            },
            "type": "mesh3d"
           }
          ],
          "parcoords": [
           {
            "line": {
             "colorbar": {
              "outlinewidth": 0,
              "ticks": ""
             }
            },
            "type": "parcoords"
           }
          ],
          "pie": [
           {
            "automargin": true,
            "type": "pie"
           }
          ],
          "scatter": [
           {
            "marker": {
             "colorbar": {
              "outlinewidth": 0,
              "ticks": ""
             }
            },
            "type": "scatter"
           }
          ],
          "scatter3d": [
           {
            "line": {
             "colorbar": {
              "outlinewidth": 0,
              "ticks": ""
             }
            },
            "marker": {
             "colorbar": {
              "outlinewidth": 0,
              "ticks": ""
             }
            },
            "type": "scatter3d"
           }
          ],
          "scattercarpet": [
           {
            "marker": {
             "colorbar": {
              "outlinewidth": 0,
              "ticks": ""
             }
            },
            "type": "scattercarpet"
           }
          ],
          "scattergeo": [
           {
            "marker": {
             "colorbar": {
              "outlinewidth": 0,
              "ticks": ""
             }
            },
            "type": "scattergeo"
           }
          ],
          "scattergl": [
           {
            "marker": {
             "colorbar": {
              "outlinewidth": 0,
              "ticks": ""
             }
            },
            "type": "scattergl"
           }
          ],
          "scattermapbox": [
           {
            "marker": {
             "colorbar": {
              "outlinewidth": 0,
              "ticks": ""
             }
            },
            "type": "scattermapbox"
           }
          ],
          "scatterpolar": [
           {
            "marker": {
             "colorbar": {
              "outlinewidth": 0,
              "ticks": ""
             }
            },
            "type": "scatterpolar"
           }
          ],
          "scatterpolargl": [
           {
            "marker": {
             "colorbar": {
              "outlinewidth": 0,
              "ticks": ""
             }
            },
            "type": "scatterpolargl"
           }
          ],
          "scatterternary": [
           {
            "marker": {
             "colorbar": {
              "outlinewidth": 0,
              "ticks": ""
             }
            },
            "type": "scatterternary"
           }
          ],
          "surface": [
           {
            "colorbar": {
             "outlinewidth": 0,
             "ticks": ""
            },
            "colorscale": [
             [
              0.0,
              "#0d0887"
             ],
             [
              0.1111111111111111,
              "#46039f"
             ],
             [
              0.2222222222222222,
              "#7201a8"
             ],
             [
              0.3333333333333333,
              "#9c179e"
             ],
             [
              0.4444444444444444,
              "#bd3786"
             ],
             [
              0.5555555555555556,
              "#d8576b"
             ],
             [
              0.6666666666666666,
              "#ed7953"
             ],
             [
              0.7777777777777778,
              "#fb9f3a"
             ],
             [
              0.8888888888888888,
              "#fdca26"
             ],
             [
              1.0,
              "#f0f921"
             ]
            ],
            "type": "surface"
           }
          ],
          "table": [
           {
            "cells": {
             "fill": {
              "color": "#EBF0F8"
             },
             "line": {
              "color": "white"
             }
            },
            "header": {
             "fill": {
              "color": "#C8D4E3"
             },
             "line": {
              "color": "white"
             }
            },
            "type": "table"
           }
          ]
         },
         "layout": {
          "annotationdefaults": {
           "arrowcolor": "#2a3f5f",
           "arrowhead": 0,
           "arrowwidth": 1
          },
          "autotypenumbers": "strict",
          "coloraxis": {
           "colorbar": {
            "outlinewidth": 0,
            "ticks": ""
           }
          },
          "colorscale": {
           "diverging": [
            [
             0,
             "#8e0152"
            ],
            [
             0.1,
             "#c51b7d"
            ],
            [
             0.2,
             "#de77ae"
            ],
            [
             0.3,
             "#f1b6da"
            ],
            [
             0.4,
             "#fde0ef"
            ],
            [
             0.5,
             "#f7f7f7"
            ],
            [
             0.6,
             "#e6f5d0"
            ],
            [
             0.7,
             "#b8e186"
            ],
            [
             0.8,
             "#7fbc41"
            ],
            [
             0.9,
             "#4d9221"
            ],
            [
             1,
             "#276419"
            ]
           ],
           "sequential": [
            [
             0.0,
             "#0d0887"
            ],
            [
             0.1111111111111111,
             "#46039f"
            ],
            [
             0.2222222222222222,
             "#7201a8"
            ],
            [
             0.3333333333333333,
             "#9c179e"
            ],
            [
             0.4444444444444444,
             "#bd3786"
            ],
            [
             0.5555555555555556,
             "#d8576b"
            ],
            [
             0.6666666666666666,
             "#ed7953"
            ],
            [
             0.7777777777777778,
             "#fb9f3a"
            ],
            [
             0.8888888888888888,
             "#fdca26"
            ],
            [
             1.0,
             "#f0f921"
            ]
           ],
           "sequentialminus": [
            [
             0.0,
             "#0d0887"
            ],
            [
             0.1111111111111111,
             "#46039f"
            ],
            [
             0.2222222222222222,
             "#7201a8"
            ],
            [
             0.3333333333333333,
             "#9c179e"
            ],
            [
             0.4444444444444444,
             "#bd3786"
            ],
            [
             0.5555555555555556,
             "#d8576b"
            ],
            [
             0.6666666666666666,
             "#ed7953"
            ],
            [
             0.7777777777777778,
             "#fb9f3a"
            ],
            [
             0.8888888888888888,
             "#fdca26"
            ],
            [
             1.0,
             "#f0f921"
            ]
           ]
          },
          "colorway": [
           "#636efa",
           "#EF553B",
           "#00cc96",
           "#ab63fa",
           "#FFA15A",
           "#19d3f3",
           "#FF6692",
           "#B6E880",
           "#FF97FF",
           "#FECB52"
          ],
          "font": {
           "color": "#2a3f5f"
          },
          "geo": {
           "bgcolor": "white",
           "lakecolor": "white",
           "landcolor": "#E5ECF6",
           "showlakes": true,
           "showland": true,
           "subunitcolor": "white"
          },
          "hoverlabel": {
           "align": "left"
          },
          "hovermode": "closest",
          "mapbox": {
           "style": "light"
          },
          "paper_bgcolor": "white",
          "plot_bgcolor": "#E5ECF6",
          "polar": {
           "angularaxis": {
            "gridcolor": "white",
            "linecolor": "white",
            "ticks": ""
           },
           "bgcolor": "#E5ECF6",
           "radialaxis": {
            "gridcolor": "white",
            "linecolor": "white",
            "ticks": ""
           }
          },
          "scene": {
           "xaxis": {
            "backgroundcolor": "#E5ECF6",
            "gridcolor": "white",
            "gridwidth": 2,
            "linecolor": "white",
            "showbackground": true,
            "ticks": "",
            "zerolinecolor": "white"
           },
           "yaxis": {
            "backgroundcolor": "#E5ECF6",
            "gridcolor": "white",
            "gridwidth": 2,
            "linecolor": "white",
            "showbackground": true,
            "ticks": "",
            "zerolinecolor": "white"
           },
           "zaxis": {
            "backgroundcolor": "#E5ECF6",
            "gridcolor": "white",
            "gridwidth": 2,
            "linecolor": "white",
            "showbackground": true,
            "ticks": "",
            "zerolinecolor": "white"
           }
          },
          "shapedefaults": {
           "line": {
            "color": "#2a3f5f"
           }
          },
          "ternary": {
           "aaxis": {
            "gridcolor": "white",
            "linecolor": "white",
            "ticks": ""
           },
           "baxis": {
            "gridcolor": "white",
            "linecolor": "white",
            "ticks": ""
           },
           "bgcolor": "#E5ECF6",
           "caxis": {
            "gridcolor": "white",
            "linecolor": "white",
            "ticks": ""
           }
          },
          "title": {
           "x": 0.05
          },
          "xaxis": {
           "automargin": true,
           "gridcolor": "white",
           "linecolor": "white",
           "ticks": "",
           "title": {
            "standoff": 15
           },
           "zerolinecolor": "white",
           "zerolinewidth": 2
          },
          "yaxis": {
           "automargin": true,
           "gridcolor": "white",
           "linecolor": "white",
           "ticks": "",
           "title": {
            "standoff": 15
           },
           "zerolinecolor": "white",
           "zerolinewidth": 2
          }
         }
        },
        "title": {
         "text": "Parallel Coordinate Plot"
        }
       }
      }
     },
     "metadata": {},
     "output_type": "display_data"
    }
   ],
   "source": [
    "plot_parallel_coordinate(study)"
   ]
  },
  {
   "cell_type": "code",
   "execution_count": 19,
   "id": "0ca72751",
   "metadata": {
    "execution": {
     "iopub.execute_input": "2022-08-08T04:48:11.137950Z",
     "iopub.status.busy": "2022-08-08T04:48:11.137277Z",
     "iopub.status.idle": "2022-08-08T04:48:11.149429Z",
     "shell.execute_reply": "2022-08-08T04:48:11.149807Z"
    },
    "papermill": {
     "duration": 0.09679,
     "end_time": "2022-08-08T04:48:11.149945",
     "exception": false,
     "start_time": "2022-08-08T04:48:11.053155",
     "status": "completed"
    },
    "tags": []
   },
   "outputs": [
    {
     "data": {
      "text/plain": [
       "{'bagging_fraction': 1.0,\n",
       " 'bagging_freq': 1,\n",
       " 'bin_construct_sample_cnt': 100000000,\n",
       " 'feature_fraction': 0.15000000000000002,\n",
       " 'feature_pre_filter': True,\n",
       " 'force_col_wise': True,\n",
       " 'lambda_l1': 5.996099571922015,\n",
       " 'lambda_l2': 2.8900783163910697,\n",
       " 'learning_rate': 0.05,\n",
       " 'max_bin': 63,\n",
       " 'metric': 'None',\n",
       " 'min_data_in_leaf': 1000,\n",
       " 'min_gain_to_split': 0.313937968985787,\n",
       " 'num_leaves': 15,\n",
       " 'objective': 'binary',\n",
       " 'path_smooth': 1.476306537276899,\n",
       " 'seed': 2112,\n",
       " 'verbosity': -1,\n",
       " 'boosting': 'dart',\n",
       " 'drop_rate': 0.1,\n",
       " 'max_drop': 40,\n",
       " 'num_iterations': 4350,\n",
       " 'skip_drop': 0.7}"
      ]
     },
     "execution_count": 19,
     "metadata": {},
     "output_type": "execute_result"
    }
   ],
   "source": [
    "best_params = dict(study.best_params)\n",
    "best_params = {**default_params, **best_params}\n",
    "best_params"
   ]
  },
  {
   "cell_type": "code",
   "execution_count": 20,
   "id": "e2beb3a4",
   "metadata": {
    "execution": {
     "iopub.execute_input": "2022-08-08T04:48:11.313116Z",
     "iopub.status.busy": "2022-08-08T04:48:11.309902Z",
     "iopub.status.idle": "2022-08-08T04:48:11.315913Z",
     "shell.execute_reply": "2022-08-08T04:48:11.315421Z"
    },
    "papermill": {
     "duration": 0.087167,
     "end_time": "2022-08-08T04:48:11.316020",
     "exception": false,
     "start_time": "2022-08-08T04:48:11.228853",
     "status": "completed"
    },
    "tags": []
   },
   "outputs": [],
   "source": [
    "with open(\"../data/config/lgbm-dart-bce-dsv04.yml\", \"w\") as file:\n",
    "    yaml.dump(best_params, file, default_flow_style=False)\n",
    "    file.close()"
   ]
  },
  {
   "cell_type": "markdown",
   "id": "8cbe3e3c",
   "metadata": {
    "papermill": {
     "duration": 0.078528,
     "end_time": "2022-08-08T04:48:11.473585",
     "exception": false,
     "start_time": "2022-08-08T04:48:11.395057",
     "status": "completed"
    },
    "tags": []
   },
   "source": [
    "***"
   ]
  }
 ],
 "metadata": {
  "kernelspec": {
   "display_name": "Python 3 (ipykernel)",
   "language": "python",
   "name": "python3"
  },
  "language_info": {
   "codemirror_mode": {
    "name": "ipython",
    "version": 3
   },
   "file_extension": ".py",
   "mimetype": "text/x-python",
   "name": "python",
   "nbconvert_exporter": "python",
   "pygments_lexer": "ipython3",
   "version": "3.7.12"
  },
  "papermill": {
   "default_parameters": {},
   "duration": 349601.840443,
   "end_time": "2022-08-08T04:48:12.947932",
   "environment_variables": {},
   "exception": null,
   "input_path": "tuning/lgbm-dart-bce-dsv04.ipynb",
   "output_path": "tuning/outputs/lgbm-dart-bce-dsv04.ipynb",
   "parameters": {},
   "start_time": "2022-08-04T03:41:31.107489",
   "version": "2.3.3"
  }
 },
 "nbformat": 4,
 "nbformat_minor": 5
}