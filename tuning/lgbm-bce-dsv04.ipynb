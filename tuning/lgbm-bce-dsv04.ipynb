{
 "cells": [
  {
   "cell_type": "code",
   "execution_count": null,
   "metadata": {
    "_cell_guid": "b1076dfc-b9ad-4769-8c92-a6c4dae69d19",
    "_uuid": "8f2839f25d086af736a60e9eeb907d3b93b6e0e5",
    "tags": []
   },
   "outputs": [],
   "source": [
    "import gc\n",
    "from glob import glob\n",
    "import numpy as np\n",
    "import pandas as pd\n",
    "import matplotlib.pyplot as plt\n",
    "import time\n",
    "import yaml\n",
    "\n",
    "import lightgbm as lgb\n",
    "from sklearn.model_selection import StratifiedKFold\n",
    "from sklearn import metrics\n",
    "\n",
    "import optuna\n",
    "from optuna.visualization import (\n",
    "    plot_contour\n",
    "    , plot_edf\n",
    "    , plot_intermediate_values\n",
    "    , plot_optimization_history\n",
    "    , plot_parallel_coordinate\n",
    "    , plot_param_importances\n",
    "    , plot_slice\n",
    ")\n",
    "\n",
    "import sys\n",
    "sys.path.append(\"../utils\")\n",
    "from metrics import compute_recall_at4, compute_normalized_gini, compute_amex_metric\n",
    "\n",
    "np.random.seed(2112)\n",
    "pd.set_option('display.max_columns', None)"
   ]
  },
  {
   "cell_type": "code",
   "execution_count": null,
   "metadata": {},
   "outputs": [],
   "source": [
    "import plotly.express as px\n",
    "import plotly.io as pio\n",
    "pio.renderers.default = \"jupyterlab\""
   ]
  },
  {
   "cell_type": "code",
   "execution_count": null,
   "metadata": {},
   "outputs": [],
   "source": [
    "lgb.__version__"
   ]
  },
  {
   "cell_type": "markdown",
   "metadata": {},
   "source": [
    "***\n",
    "## load and prepare data"
   ]
  },
  {
   "cell_type": "code",
   "execution_count": null,
   "metadata": {},
   "outputs": [],
   "source": [
    "!ls ../data/processed/dsv04"
   ]
  },
  {
   "cell_type": "code",
   "execution_count": null,
   "metadata": {
    "tags": []
   },
   "outputs": [],
   "source": [
    "train = pd.read_parquet(\"../data/processed/dsv04/train.parquet\")\n",
    "train_labels = pd.read_csv(\"../data/raw/train_labels.csv\", index_col=\"customer_ID\")"
   ]
  },
  {
   "cell_type": "code",
   "execution_count": null,
   "metadata": {
    "tags": []
   },
   "outputs": [],
   "source": [
    "input_feats = train.columns.tolist()\n",
    "len(input_feats)"
   ]
  },
  {
   "cell_type": "code",
   "execution_count": null,
   "metadata": {
    "tags": []
   },
   "outputs": [],
   "source": [
    "train = pd.merge(train, train_labels, how=\"inner\", left_index=True, right_index=True)\n",
    "train = train.reset_index()\n",
    "\n",
    "del train_labels\n",
    "gc.collect()"
   ]
  },
  {
   "cell_type": "markdown",
   "metadata": {},
   "source": [
    "***\n",
    "## model tuning\n",
    "\n",
    "train with repeated cross validation"
   ]
  },
  {
   "cell_type": "code",
   "execution_count": null,
   "metadata": {},
   "outputs": [],
   "source": [
    "skf = StratifiedKFold(n_splits=3, random_state=2112, shuffle=True)\n",
    "skf_split = list(skf.split(train, train[\"target\"].values))"
   ]
  },
  {
   "cell_type": "code",
   "execution_count": null,
   "metadata": {
    "tags": []
   },
   "outputs": [],
   "source": [
    "default_params = {\n",
    "    'objective': 'binary',\n",
    "    'metric': 'None',\n",
    "    'learning_rate': 0.05,\n",
    "    'force_col_wise': True,\n",
    "    'bagging_freq': 1,\n",
    "    'seed': 2112,\n",
    "    'verbosity': -1,\n",
    "    'bin_construct_sample_cnt': 100000000,\n",
    "    'feature_pre_filter': True,\n",
    "}"
   ]
  },
  {
   "cell_type": "code",
   "execution_count": null,
   "metadata": {},
   "outputs": [],
   "source": [
    "def train_models(dataframe: pd.DataFrame, split: list, model_params: dict) -> pd.DataFrame:\n",
    "    \n",
    "    # dataframe to store the oof predictions\n",
    "    oof = dataframe[[\"target\"]].copy()\n",
    "    oof[\"pred\"] = -1\n",
    "\n",
    "    for train_idx,valid_idx in split:\n",
    "        \n",
    "        train_df = dataframe.loc[train_idx,:]\n",
    "        valid_df = dataframe.loc[valid_idx,:]\n",
    "        \n",
    "        train_dset = lgb.Dataset(\n",
    "            data=train_df[input_feats],\n",
    "            label=train_df[\"target\"].values,\n",
    "            free_raw_data=True\n",
    "        )        \n",
    "        model = lgb.train(\n",
    "            params=model_params,\n",
    "            train_set=train_dset\n",
    "        )        \n",
    "        oof.loc[valid_idx,\"pred\"] = model.predict(valid_df[input_feats])\n",
    "            \n",
    "        del train_dset,model\n",
    "        gc.collect()\n",
    "    \n",
    "    return oof"
   ]
  },
  {
   "cell_type": "code",
   "execution_count": null,
   "metadata": {},
   "outputs": [],
   "source": [
    "def objective(trial):\n",
    "    sampled_params = dict(\n",
    "        # general booster config\n",
    "        max_bin = 2**trial.suggest_int(\"max_bin_exp\", 6, 10) - 1,\n",
    "        num_leaves = 2**trial.suggest_int(\"num_leaves_exp\", 4, 8) - 1,\n",
    "        num_iterations = trial.suggest_int(\"num_iterations\", 1000, 3000, 50),\n",
    "        # regularization\n",
    "        feature_fraction = trial.suggest_discrete_uniform(\"feature_fraction\", 0.1, 0.4, 0.05),\n",
    "        bagging_fraction = trial.suggest_discrete_uniform(\"bagging_fraction\", 0.8, 1.0, 0.05),\n",
    "        lambda_l1 = trial.suggest_float(\"lambda_l1\", 0., 100.),\n",
    "        lambda_l2 = trial.suggest_float(\"lambda_l2\", 0., 10.),\n",
    "        min_data_in_leaf = trial.suggest_int(\"min_data_in_leaf\", 500, 3000, 100),\n",
    "        path_smooth = trial.suggest_float(\"path_smooth\", 0., 100.),\n",
    "        min_gain_to_split = trial.suggest_loguniform(\"min_gain_to_split\", 1e-10, 1e0),\n",
    "    )\n",
    "    model_params = {**default_params, **sampled_params}\n",
    "    \n",
    "    oof = train_models(train, skf_split, model_params)\n",
    "    metric = compute_amex_metric(oof.target.values, oof.pred.values)\n",
    "    return metric"
   ]
  },
  {
   "cell_type": "code",
   "execution_count": null,
   "metadata": {},
   "outputs": [],
   "source": [
    "do_optimize = True\n",
    "\n",
    "study = optuna.create_study(\n",
    "    study_name=\"lgbm-bce-dsv04\",\n",
    "    direction='maximize',\n",
    "    storage='sqlite:///lgbm-bce-dsv04.db',\n",
    "    load_if_exists=True,\n",
    ")\n",
    "\n",
    "if do_optimize:\n",
    "    study.optimize(\n",
    "        objective, \n",
    "        n_trials=1000, \n",
    "        timeout=259200, # 3-days\n",
    "        n_jobs=1, \n",
    "        gc_after_trial=True,\n",
    "    ) "
   ]
  },
  {
   "cell_type": "code",
   "execution_count": null,
   "metadata": {},
   "outputs": [],
   "source": [
    "study.trials_dataframe().sort_values(\"value\", ascending=False).head(20)"
   ]
  },
  {
   "cell_type": "code",
   "execution_count": null,
   "metadata": {},
   "outputs": [],
   "source": [
    "plot_optimization_history(study)"
   ]
  },
  {
   "cell_type": "code",
   "execution_count": null,
   "metadata": {},
   "outputs": [],
   "source": [
    "try:\n",
    "    plot_param_importances(study)\n",
    "except:\n",
    "    pass"
   ]
  },
  {
   "cell_type": "code",
   "execution_count": null,
   "metadata": {},
   "outputs": [],
   "source": [
    "plot_slice(study)"
   ]
  },
  {
   "cell_type": "code",
   "execution_count": null,
   "metadata": {},
   "outputs": [],
   "source": [
    "plot_edf(study)"
   ]
  },
  {
   "cell_type": "code",
   "execution_count": null,
   "metadata": {},
   "outputs": [],
   "source": [
    "plot_parallel_coordinate(study)"
   ]
  },
  {
   "cell_type": "code",
   "execution_count": null,
   "metadata": {},
   "outputs": [],
   "source": [
    "best_params = dict(study.best_params)\n",
    "best_params[\"max_bin\"] = 2**best_params.pop(\"max_bin_exp\")-1\n",
    "best_params[\"num_leaves\"] = 2**best_params.pop(\"num_leaves_exp\")-1\n",
    "best_params = {**default_params, **best_params}\n",
    "best_params"
   ]
  },
  {
   "cell_type": "code",
   "execution_count": null,
   "metadata": {},
   "outputs": [],
   "source": [
    "with open(\"../data/config/lgbm-bce-dsv04.yml\", \"w\") as file:\n",
    "    yaml.dump(best_params, file, default_flow_style=False)\n",
    "    file.close()"
   ]
  },
  {
   "cell_type": "markdown",
   "metadata": {},
   "source": [
    "***"
   ]
  }
 ],
 "metadata": {
  "kernelspec": {
   "display_name": "Python 3 (ipykernel)",
   "language": "python",
   "name": "python3"
  },
  "language_info": {
   "codemirror_mode": {
    "name": "ipython",
    "version": 3
   },
   "file_extension": ".py",
   "mimetype": "text/x-python",
   "name": "python",
   "nbconvert_exporter": "python",
   "pygments_lexer": "ipython3",
   "version": "3.7.12"
  }
 },
 "nbformat": 4,
 "nbformat_minor": 4
}
