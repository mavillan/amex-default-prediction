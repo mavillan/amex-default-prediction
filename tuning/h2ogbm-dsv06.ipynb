{
 "cells": [
  {
   "cell_type": "code",
   "execution_count": null,
   "metadata": {
    "_cell_guid": "b1076dfc-b9ad-4769-8c92-a6c4dae69d19",
    "_uuid": "8f2839f25d086af736a60e9eeb907d3b93b6e0e5",
    "tags": []
   },
   "outputs": [],
   "source": [
    "import gc\n",
    "from glob import glob\n",
    "import numpy as np\n",
    "import pandas as pd\n",
    "import matplotlib.pyplot as plt\n",
    "import time\n",
    "\n",
    "import h2o\n",
    "from h2o.estimators import H2OGradientBoostingEstimator\n",
    "from sklearn.model_selection import StratifiedKFold\n",
    "from sklearn import metrics\n",
    "\n",
    "import optuna\n",
    "from optuna.visualization import (\n",
    "    plot_contour\n",
    "    , plot_edf\n",
    "    , plot_intermediate_values\n",
    "    , plot_optimization_history\n",
    "    , plot_parallel_coordinate\n",
    "    , plot_param_importances\n",
    "    , plot_slice\n",
    ")\n",
    "\n",
    "import sys\n",
    "sys.path.append(\"../utils\")\n",
    "from metrics import compute_recall_at4, compute_normalized_gini, compute_amex_metric\n",
    "\n",
    "np.random.seed(2112)\n",
    "pd.set_option('display.max_columns', None)\n",
    "\n",
    "H2O_server = h2o.init(port=54321, nthreads=-1)\n",
    "h2o.remove_all()"
   ]
  },
  {
   "cell_type": "markdown",
   "metadata": {},
   "source": [
    "***\n",
    "## load and prepare data"
   ]
  },
  {
   "cell_type": "code",
   "execution_count": null,
   "metadata": {},
   "outputs": [],
   "source": [
    "!ls ../data/processed/dsv06"
   ]
  },
  {
   "cell_type": "code",
   "execution_count": null,
   "metadata": {
    "tags": []
   },
   "outputs": [],
   "source": [
    "train = pd.read_parquet(\"../data/processed/dsv06/train.parquet\")\n",
    "train_labels = pd.read_csv(\"../data/raw/train_labels.csv\", index_col=\"customer_ID\")"
   ]
  },
  {
   "cell_type": "code",
   "execution_count": null,
   "metadata": {
    "tags": []
   },
   "outputs": [],
   "source": [
    "input_feats = train.columns.tolist()\n",
    "len(input_feats)"
   ]
  },
  {
   "cell_type": "code",
   "execution_count": null,
   "metadata": {
    "tags": []
   },
   "outputs": [],
   "source": [
    "train = pd.merge(train, train_labels, how=\"inner\", left_index=True, right_index=True)\n",
    "train = train.reset_index(drop=True)\n",
    "\n",
    "del train_labels\n",
    "gc.collect()"
   ]
  },
  {
   "cell_type": "markdown",
   "metadata": {},
   "source": [
    "***\n",
    "## model tuning\n"
   ]
  },
  {
   "cell_type": "code",
   "execution_count": null,
   "metadata": {},
   "outputs": [],
   "source": [
    "%%time\n",
    "# split-data\n",
    "skf = StratifiedKFold(n_splits=2, random_state=2112, shuffle=True)\n",
    "skf_split = list(skf.split(train, train[\"target\"].values))\n",
    "\n",
    "for train_idx,valid_idx in skf_split: \n",
    "    # train\n",
    "    train_df = train.loc[train_idx,:].copy()\n",
    "    train_df[\"target\"] = train_df[\"target\"].astype(str)\n",
    "    train_dset = h2o.H2OFrame(\n",
    "        train_df,\n",
    "        column_types = {\"target\":\"categorical\"},\n",
    "    )\n",
    "    # valid\n",
    "    valid_df = train.loc[valid_idx,:].copy()\n",
    "    valid_df[\"target\"] = valid_df[\"target\"].astype(str)\n",
    "    valid_dset = h2o.H2OFrame(\n",
    "        valid_df,\n",
    "        column_types = {\"target\":\"categorical\"},\n",
    "    )\n",
    "    break\n",
    "    \n",
    "print(len(train_df))\n",
    "print(len(valid_df))"
   ]
  },
  {
   "cell_type": "code",
   "execution_count": null,
   "metadata": {
    "tags": []
   },
   "outputs": [],
   "source": [
    "default_params = {\n",
    "    \"distribution\": \"bernoulli\",\n",
    "    \"learn_rate\": 0.05,\n",
    "    \"max_depth\": 5,\n",
    "    \"nbins\": 256,\n",
    "    \"seed\": 42,\n",
    "}"
   ]
  },
  {
   "cell_type": "code",
   "execution_count": null,
   "metadata": {},
   "outputs": [],
   "source": [
    "def train_models(model_params: dict) -> pd.DataFrame:\n",
    "        \n",
    "    # dataframe to store the oof predictions\n",
    "    oof = valid_df[[\"target\"]].copy()\n",
    "    oof[\"target\"] = oof[\"target\"].astype(int)\n",
    "    oof[\"pred\"] = -1\n",
    "\n",
    "    model = H2OGradientBoostingEstimator(**model_params)        \n",
    "    model.train(\n",
    "        x=input_feats, \n",
    "        y=\"target\", \n",
    "        training_frame=train_dset,\n",
    "    )\n",
    "    pred = model.predict(valid_dset).as_data_frame()[\"p1\"].values.flatten()\n",
    "    oof.loc[valid_df.index,\"pred\"] = pred\n",
    "        \n",
    "    del model\n",
    "    gc.collect()\n",
    "        \n",
    "    return oof"
   ]
  },
  {
   "cell_type": "code",
   "execution_count": null,
   "metadata": {},
   "outputs": [],
   "source": [
    "def objective(trial):\n",
    "    sampled_params = {\n",
    "        # regularization\n",
    "        \"min_rows\": trial.suggest_int(\"min_rows\", 100, 3000, 100),\n",
    "        \"col_sample_rate\": trial.suggest_discrete_uniform(\"col_sample_rate\", 0.1, 0.3, 0.05),\n",
    "        \"sample_rate\": trial.suggest_discrete_uniform(\"sample_rate\", 0.8, 1.0, 0.05),\n",
    "        \"max_abs_leafnode_pred\": trial.suggest_loguniform(\"max_abs_leafnode_pred\", 1e-2, 1e2),\n",
    "        \"min_split_improvement\": trial.suggest_loguniform(\"min_split_improvement\", 1e-10, 1e-3),\n",
    "        \"pred_noise_bandwidth\": trial.suggest_float(\"pred_noise_bandwidth\", 0., 1.),\n",
    "        # general parameters\n",
    "        \"ntrees\" : trial.suggest_int(\"ntrees\", 1000, 5000, 50),\n",
    "    }    \n",
    "    model_params = {**default_params, **sampled_params}\n",
    "    \n",
    "    oof = train_models(model_params)\n",
    "    metric = compute_amex_metric(oof.target.values, oof.pred.values)\n",
    "    return metric"
   ]
  },
  {
   "cell_type": "code",
   "execution_count": null,
   "metadata": {
    "tags": []
   },
   "outputs": [],
   "source": [
    "do_optimize = True\n",
    "\n",
    "study = optuna.create_study(\n",
    "    study_name=\"h2ogbm-dsv06\",\n",
    "    direction='maximize',\n",
    "    storage='sqlite:///h2ogbm-dsv06.db',\n",
    "    load_if_exists=True,\n",
    ")\n",
    "\n",
    "if do_optimize:\n",
    "    study.optimize(\n",
    "        objective, \n",
    "        n_trials=1000, \n",
    "        timeout=216000, # 2.5-days\n",
    "        n_jobs=1, \n",
    "        gc_after_trial=True,\n",
    "    ) "
   ]
  },
  {
   "cell_type": "code",
   "execution_count": null,
   "metadata": {},
   "outputs": [],
   "source": [
    "study.trials_dataframe().sort_values(\"value\", ascending=False).head(20)"
   ]
  },
  {
   "cell_type": "code",
   "execution_count": null,
   "metadata": {},
   "outputs": [],
   "source": [
    "plot_optimization_history(study)"
   ]
  },
  {
   "cell_type": "code",
   "execution_count": null,
   "metadata": {},
   "outputs": [],
   "source": [
    "plot_param_importances(study)"
   ]
  },
  {
   "cell_type": "code",
   "execution_count": null,
   "metadata": {},
   "outputs": [],
   "source": [
    "plot_slice(study)"
   ]
  },
  {
   "cell_type": "code",
   "execution_count": null,
   "metadata": {},
   "outputs": [],
   "source": [
    "plot_edf(study)"
   ]
  },
  {
   "cell_type": "code",
   "execution_count": null,
   "metadata": {},
   "outputs": [],
   "source": [
    "plot_parallel_coordinate(study)"
   ]
  },
  {
   "cell_type": "code",
   "execution_count": null,
   "metadata": {},
   "outputs": [],
   "source": [
    "best_params = dict(study.best_params)\n",
    "best_params = {**default_params, **best_params}\n",
    "best_params"
   ]
  },
  {
   "cell_type": "markdown",
   "metadata": {},
   "source": [
    "***"
   ]
  }
 ],
 "metadata": {
  "kernelspec": {
   "display_name": "Python 3 (ipykernel)",
   "language": "python",
   "name": "python3"
  },
  "language_info": {
   "codemirror_mode": {
    "name": "ipython",
    "version": 3
   },
   "file_extension": ".py",
   "mimetype": "text/x-python",
   "name": "python",
   "nbconvert_exporter": "python",
   "pygments_lexer": "ipython3",
   "version": "3.7.12"
  }
 },
 "nbformat": 4,
 "nbformat_minor": 4
}
