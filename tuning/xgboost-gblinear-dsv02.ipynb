{
 "cells": [
  {
   "cell_type": "code",
   "execution_count": null,
   "metadata": {
    "_cell_guid": "b1076dfc-b9ad-4769-8c92-a6c4dae69d19",
    "_uuid": "8f2839f25d086af736a60e9eeb907d3b93b6e0e5",
    "tags": []
   },
   "outputs": [],
   "source": [
    "import gc\n",
    "from glob import glob\n",
    "import numpy as np\n",
    "import pandas as pd\n",
    "import matplotlib.pyplot as plt\n",
    "import time\n",
    "\n",
    "import category_encoders as ce\n",
    "import xgboost as xgb\n",
    "from sklearn.preprocessing import StandardScaler\n",
    "from sklearn.model_selection import StratifiedKFold\n",
    "from sklearn import metrics\n",
    "\n",
    "import optuna\n",
    "from optuna.visualization import (\n",
    "    plot_contour\n",
    "    , plot_edf\n",
    "    , plot_intermediate_values\n",
    "    , plot_optimization_history\n",
    "    , plot_parallel_coordinate\n",
    "    , plot_param_importances\n",
    "    , plot_slice\n",
    ")\n",
    "\n",
    "import sys\n",
    "sys.path.append(\"../utils\")\n",
    "from metrics import compute_recall_at4, compute_normalized_gini, compute_amex_metric\n",
    "\n",
    "np.random.seed(2112)\n",
    "pd.set_option('display.max_columns', None)"
   ]
  },
  {
   "cell_type": "markdown",
   "metadata": {},
   "source": [
    "***\n",
    "## load and prepare data"
   ]
  },
  {
   "cell_type": "code",
   "execution_count": null,
   "metadata": {},
   "outputs": [],
   "source": [
    "!ls ../data/processed/dsv02"
   ]
  },
  {
   "cell_type": "code",
   "execution_count": null,
   "metadata": {
    "tags": []
   },
   "outputs": [],
   "source": [
    "train = pd.read_parquet(\"../data/processed/dsv02/train.parquet\")\n",
    "train_labels = pd.read_csv(\"../data/raw/train_labels.csv\", index_col=\"customer_ID\")"
   ]
  },
  {
   "cell_type": "code",
   "execution_count": null,
   "metadata": {
    "tags": []
   },
   "outputs": [],
   "source": [
    "input_feats = train.columns.tolist()\n",
    "categ_feats = [\n",
    "    'B_30_first', 'B_38_first', 'D_114_first', 'D_116_first', 'D_117_first', \n",
    "    'D_120_first', 'D_126_first', 'D_63_first', 'D_64_first', 'D_66_first', 'D_68_first',\n",
    "    'B_30_last', 'B_38_last', 'D_114_last', 'D_116_last', 'D_117_last', \n",
    "    'D_120_last', 'D_126_last', 'D_63_last', 'D_64_last', 'D_66_last', 'D_68_last',\n",
    "]\n",
    "len(input_feats)"
   ]
  },
  {
   "cell_type": "code",
   "execution_count": null,
   "metadata": {
    "tags": []
   },
   "outputs": [],
   "source": [
    "train = pd.merge(train, train_labels, how=\"inner\", left_index=True, right_index=True)\n",
    "train = train.reset_index()\n",
    "\n",
    "del train_labels\n",
    "gc.collect()"
   ]
  },
  {
   "cell_type": "markdown",
   "metadata": {},
   "source": [
    "***\n",
    "## model tuning\n"
   ]
  },
  {
   "cell_type": "code",
   "execution_count": null,
   "metadata": {},
   "outputs": [],
   "source": [
    "skf = StratifiedKFold(n_splits=3, random_state=2112, shuffle=True)\n",
    "skf_split = list(skf.split(train, train[\"target\"].values))"
   ]
  },
  {
   "cell_type": "code",
   "execution_count": null,
   "metadata": {
    "tags": []
   },
   "outputs": [],
   "source": [
    "default_params = {\n",
    "    # general parameters\n",
    "    'booster':'gblinear',\n",
    "    'objective':'binary:logistic',\n",
    "    'seed':2112,\n",
    "    'eta': 0.05,\n",
    "    'updater': 'coord_descent',\n",
    "    'feature_selector' : 'thrifty',\n",
    "}"
   ]
  },
  {
   "cell_type": "code",
   "execution_count": null,
   "metadata": {},
   "outputs": [],
   "source": [
    "def train_models(dataframe: pd.DataFrame, split: list, model_params: dict) -> pd.DataFrame:\n",
    "        \n",
    "    # dataframe to store the oof predictions\n",
    "    oof = dataframe[[\"target\"]].copy()\n",
    "    oof[\"pred\"] = -1\n",
    "    MAX_ITERATIONS = model_params.pop(\"iterations\")\n",
    "\n",
    "    for train_idx,valid_idx in split:\n",
    "        \n",
    "        train_df = dataframe.loc[train_idx,:]\n",
    "        valid_df = dataframe.loc[valid_idx,:]\n",
    "                \n",
    "        encoder = ce.glmm.GLMMEncoder()\n",
    "        encoder.fit(train_df[categ_feats], train_df[\"target\"].values)\n",
    "        train_df[categ_feats] = encoder.transform(train_df[categ_feats])\n",
    "        valid_df[categ_feats] = encoder.transform(valid_df[categ_feats])\n",
    "        \n",
    "        scaler = StandardScaler(with_mean=True, with_std=True)\n",
    "        scaler.fit(train_df[input_feats].values)\n",
    "        train_df[input_feats] = scaler.transform(train_df[input_feats].values)\n",
    "        valid_df[input_feats] = scaler.transform(valid_df[input_feats].values)\n",
    "                        \n",
    "        train_dset = xgb.DMatrix(\n",
    "            data=train_df.loc[:,input_feats],\n",
    "            label=train_df.loc[:,\"target\"].values,\n",
    "        )\n",
    "        valid_dset = xgb.DMatrix(\n",
    "            data=valid_df.loc[:,input_feats],\n",
    "            label=valid_df.loc[:,\"target\"].values,\n",
    "        )\n",
    "        \n",
    "        model = xgb.train(\n",
    "            params = model_params,\n",
    "            dtrain=train_dset,\n",
    "            num_boost_round=MAX_ITERATIONS,\n",
    "        )        \n",
    "        oof.loc[valid_df.index,\"pred\"] = model.predict(valid_dset)\n",
    "        \n",
    "        del train_df,valid_df,train_dset,valid_dset,model,encoder,scaler\n",
    "        gc.collect()\n",
    "    \n",
    "    return oof"
   ]
  },
  {
   "cell_type": "code",
   "execution_count": null,
   "metadata": {},
   "outputs": [],
   "source": [
    "def objective(trial):\n",
    "    sampled_params = {\n",
    "        # general booster config\n",
    "        \"iterations\" : trial.suggest_int(\"iterations\", 500, 2000, 100),\n",
    "        # regularization\n",
    "        \"alpha\" : trial.suggest_float(\"alpha\", 0., 10.),\n",
    "        \"lambda\" : trial.suggest_float(\"lambda\", 0., 10.),\n",
    "        \"top_k\" : trial.suggest_int(\"top_k\", 100, 1000, 25),\n",
    "    }\n",
    "    \n",
    "    model_params = {**default_params, **sampled_params}\n",
    "    \n",
    "    oof = train_models(train, skf_split, model_params)\n",
    "    metric = compute_amex_metric(oof.target.values, oof.pred.values)\n",
    "    return metric"
   ]
  },
  {
   "cell_type": "code",
   "execution_count": null,
   "metadata": {},
   "outputs": [],
   "source": [
    "do_optimize = True\n",
    "\n",
    "study = optuna.create_study(\n",
    "    study_name=\"xgboost-gblinear-dsv02\",\n",
    "    direction='maximize',\n",
    "    storage='sqlite:///xgboost-gblinear-dsv02.db',\n",
    "    load_if_exists=True,\n",
    ")\n",
    "\n",
    "if do_optimize:\n",
    "    study.optimize(\n",
    "        objective, \n",
    "        n_trials=1000, \n",
    "        timeout=28800, # 8-hours\n",
    "        n_jobs=1, \n",
    "        gc_after_trial=True,\n",
    "    ) "
   ]
  },
  {
   "cell_type": "code",
   "execution_count": null,
   "metadata": {},
   "outputs": [],
   "source": [
    "study.trials_dataframe().sort_values(\"value\", ascending=False).head(20)"
   ]
  },
  {
   "cell_type": "code",
   "execution_count": null,
   "metadata": {},
   "outputs": [],
   "source": [
    "plot_optimization_history(study)"
   ]
  },
  {
   "cell_type": "code",
   "execution_count": null,
   "metadata": {},
   "outputs": [],
   "source": [
    "plot_param_importances(study)"
   ]
  },
  {
   "cell_type": "code",
   "execution_count": null,
   "metadata": {},
   "outputs": [],
   "source": [
    "plot_slice(study)"
   ]
  },
  {
   "cell_type": "code",
   "execution_count": null,
   "metadata": {},
   "outputs": [],
   "source": [
    "plot_edf(study)"
   ]
  },
  {
   "cell_type": "code",
   "execution_count": null,
   "metadata": {},
   "outputs": [],
   "source": [
    "plot_parallel_coordinate(study)"
   ]
  },
  {
   "cell_type": "code",
   "execution_count": null,
   "metadata": {},
   "outputs": [],
   "source": [
    "best_params = dict(study.best_params)\n",
    "best_params"
   ]
  },
  {
   "cell_type": "markdown",
   "metadata": {},
   "source": [
    "***"
   ]
  }
 ],
 "metadata": {
  "kernelspec": {
   "display_name": "Python 3 (ipykernel)",
   "language": "python",
   "name": "python3"
  },
  "language_info": {
   "codemirror_mode": {
    "name": "ipython",
    "version": 3
   },
   "file_extension": ".py",
   "mimetype": "text/x-python",
   "name": "python",
   "nbconvert_exporter": "python",
   "pygments_lexer": "ipython3",
   "version": "3.7.12"
  }
 },
 "nbformat": 4,
 "nbformat_minor": 4
}
