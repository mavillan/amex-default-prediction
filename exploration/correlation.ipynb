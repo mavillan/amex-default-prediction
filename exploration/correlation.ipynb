{
 "cells": [
  {
   "cell_type": "code",
   "execution_count": null,
   "id": "f55d0634-ee82-4248-bf61-cff164d0dfde",
   "metadata": {},
   "outputs": [],
   "source": [
    "%env JOBLIB_TEMP_FOLDER=/tmp"
   ]
  },
  {
   "cell_type": "code",
   "execution_count": null,
   "id": "5e2c49ac-061a-406d-8646-e3621c35d4b3",
   "metadata": {},
   "outputs": [],
   "source": [
    "import numpy as np\n",
    "import pandas as pd\n",
    "from scipy import stats\n",
    "import matplotlib.pyplot as plt\n",
    "from joblib import Parallel, delayed\n",
    "from tqdm import tqdm"
   ]
  },
  {
   "cell_type": "markdown",
   "id": "d1b49561-20af-47c8-88db-c15b019c8d82",
   "metadata": {},
   "source": [
    "***\n",
    "## feature groups\n",
    "- D_* = Delinquency variables\n",
    "- S_* = Spend variables\n",
    "- P_* = Payment variables\n",
    "- B_* = Balance variables\n",
    "- R_* = Risk variables"
   ]
  },
  {
   "cell_type": "code",
   "execution_count": null,
   "id": "cec6ff33-f1d3-4710-bed6-00fb672fc8ab",
   "metadata": {},
   "outputs": [],
   "source": [
    "data = pd.read_parquet(\"../data/processed/dsv05/train.parquet\")"
   ]
  },
  {
   "cell_type": "code",
   "execution_count": null,
   "id": "fbcb0589-f220-40c5-8761-029da37639da",
   "metadata": {},
   "outputs": [],
   "source": [
    "data.info()"
   ]
  },
  {
   "cell_type": "markdown",
   "id": "f03c8d68-c32c-4b32-8b50-3e74011ce183",
   "metadata": {},
   "source": [
    "***\n",
    "## correlation analysis"
   ]
  },
  {
   "cell_type": "code",
   "execution_count": null,
   "id": "b164c2fa-9add-42be-bb1f-63e7a28fbaf6",
   "metadata": {},
   "outputs": [],
   "source": [
    "def compute_feat_correlation(array, i):\n",
    "    n = array.shape[1]\n",
    "    out = list()\n",
    "    \n",
    "    for j in range(n):\n",
    "        if i < j: continue\n",
    "        \n",
    "        x = array[:,i]\n",
    "        y = array[:,j]\n",
    "        \n",
    "        mask = (~np.isnan(x)) & (~np.isnan(y))\n",
    "        x = x[mask]\n",
    "        y = y[mask]\n",
    "        \n",
    "        out.append((i,j,stats.pearsonr(x,y)[0]))\n",
    "        \n",
    "    return out\n",
    "\n",
    "def compute_correlation(dataframe, columns):\n",
    "\n",
    "    n = len(columns)\n",
    "    array = dataframe[columns].values\n",
    "    corr_array = np.empty((n,n))\n",
    "\n",
    "    with Parallel(n_jobs=-1) as parallel:\n",
    "        delayed_func = delayed(compute_feat_correlation)\n",
    "        results = parallel(\n",
    "            delayed_func(array, i) \n",
    "            for i in tqdm(range(n))\n",
    "        )\n",
    "\n",
    "    for r in results:\n",
    "        for corr_row in r:\n",
    "            i,j,corr = corr_row\n",
    "            corr_array[i,j] = corr\n",
    "            corr_array[j,i] = corr\n",
    "\n",
    "    corr_df = pd.DataFrame(corr_array, columns=columns, index=columns)\n",
    "    return corr_df"
   ]
  },
  {
   "cell_type": "code",
   "execution_count": null,
   "id": "442bc909-38f0-48c1-8676-2f72de4ff52c",
   "metadata": {},
   "outputs": [],
   "source": [
    "corr_df = compute_correlation(data, columns=data.columns)\n",
    "corr_df"
   ]
  },
  {
   "cell_type": "code",
   "execution_count": null,
   "id": "5b24f32c-bad9-4d62-afcd-987e879a7131",
   "metadata": {},
   "outputs": [],
   "source": [
    "corr_df.to_parquet(\"../data/feat-selection/corr.parquet\")"
   ]
  },
  {
   "cell_type": "markdown",
   "id": "21914ee4-86fa-44b7-9529-a1a380fd0992",
   "metadata": {},
   "source": [
    "***"
   ]
  }
 ],
 "metadata": {
  "kernelspec": {
   "display_name": "Python 3 (ipykernel)",
   "language": "python",
   "name": "python3"
  },
  "language_info": {
   "codemirror_mode": {
    "name": "ipython",
    "version": 3
   },
   "file_extension": ".py",
   "mimetype": "text/x-python",
   "name": "python",
   "nbconvert_exporter": "python",
   "pygments_lexer": "ipython3",
   "version": "3.7.12"
  }
 },
 "nbformat": 4,
 "nbformat_minor": 5
}
