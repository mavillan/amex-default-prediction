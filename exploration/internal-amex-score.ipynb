{
 "cells": [
  {
   "cell_type": "code",
   "execution_count": 1,
   "id": "c362e900-939d-40fc-9666-a30eca7178f2",
   "metadata": {},
   "outputs": [],
   "source": [
    "import numpy as np\n",
    "import pandas as pd\n",
    "from scipy import stats\n",
    "import matplotlib.pyplot as plt\n",
    "from tqdm import tqdm\n",
    "\n",
    "from  sklearn.preprocessing import MinMaxScaler\n",
    "\n",
    "import sys\n",
    "sys.path.append(\"../utils\")\n",
    "from metrics import compute_recall_at4, compute_normalized_gini, compute_amex_metric"
   ]
  },
  {
   "cell_type": "markdown",
   "id": "04dc696e-02d4-433e-b176-d162d45f7a6a",
   "metadata": {},
   "source": [
    "***\n",
    "## feature groups\n",
    "- D_* = Delinquency variables\n",
    "- S_* = Spend variables\n",
    "- P_* = Payment variables\n",
    "- B_* = Balance variables\n",
    "- R_* = Risk variables"
   ]
  },
  {
   "cell_type": "code",
   "execution_count": 2,
   "id": "1cc49993-81ac-46ed-8299-588b24bd6e67",
   "metadata": {},
   "outputs": [
    {
     "data": {
      "text/html": [
       "<div>\n",
       "<style scoped>\n",
       "    .dataframe tbody tr th:only-of-type {\n",
       "        vertical-align: middle;\n",
       "    }\n",
       "\n",
       "    .dataframe tbody tr th {\n",
       "        vertical-align: top;\n",
       "    }\n",
       "\n",
       "    .dataframe thead th {\n",
       "        text-align: right;\n",
       "    }\n",
       "</style>\n",
       "<table border=\"1\" class=\"dataframe\">\n",
       "  <thead>\n",
       "    <tr style=\"text-align: right;\">\n",
       "      <th></th>\n",
       "      <th>customer_ID</th>\n",
       "      <th>S_2</th>\n",
       "      <th>P_2</th>\n",
       "      <th>D_39</th>\n",
       "      <th>B_1</th>\n",
       "      <th>B_2</th>\n",
       "      <th>R_1</th>\n",
       "      <th>S_3</th>\n",
       "      <th>D_41</th>\n",
       "      <th>B_3</th>\n",
       "      <th>...</th>\n",
       "      <th>D_136</th>\n",
       "      <th>D_137</th>\n",
       "      <th>D_138</th>\n",
       "      <th>D_139</th>\n",
       "      <th>D_140</th>\n",
       "      <th>D_141</th>\n",
       "      <th>D_142</th>\n",
       "      <th>D_143</th>\n",
       "      <th>D_144</th>\n",
       "      <th>D_145</th>\n",
       "    </tr>\n",
       "  </thead>\n",
       "  <tbody>\n",
       "    <tr>\n",
       "      <th>0</th>\n",
       "      <td>0000099d6bd597052cdcda90ffabf56573fe9d7c79be5f...</td>\n",
       "      <td>2017-03-09</td>\n",
       "      <td>0.938469</td>\n",
       "      <td>0</td>\n",
       "      <td>0.008724</td>\n",
       "      <td>1.006838</td>\n",
       "      <td>0.009228</td>\n",
       "      <td>0.124035</td>\n",
       "      <td>0.0</td>\n",
       "      <td>0.004709</td>\n",
       "      <td>...</td>\n",
       "      <td>-1</td>\n",
       "      <td>-1</td>\n",
       "      <td>-1</td>\n",
       "      <td>0</td>\n",
       "      <td>0</td>\n",
       "      <td>0.0</td>\n",
       "      <td>NaN</td>\n",
       "      <td>0</td>\n",
       "      <td>0.000610</td>\n",
       "      <td>0</td>\n",
       "    </tr>\n",
       "    <tr>\n",
       "      <th>1</th>\n",
       "      <td>0000099d6bd597052cdcda90ffabf56573fe9d7c79be5f...</td>\n",
       "      <td>2017-04-07</td>\n",
       "      <td>0.936665</td>\n",
       "      <td>0</td>\n",
       "      <td>0.004923</td>\n",
       "      <td>1.000653</td>\n",
       "      <td>0.006151</td>\n",
       "      <td>0.126750</td>\n",
       "      <td>0.0</td>\n",
       "      <td>0.002714</td>\n",
       "      <td>...</td>\n",
       "      <td>-1</td>\n",
       "      <td>-1</td>\n",
       "      <td>-1</td>\n",
       "      <td>0</td>\n",
       "      <td>0</td>\n",
       "      <td>0.0</td>\n",
       "      <td>NaN</td>\n",
       "      <td>0</td>\n",
       "      <td>0.005492</td>\n",
       "      <td>0</td>\n",
       "    </tr>\n",
       "    <tr>\n",
       "      <th>2</th>\n",
       "      <td>0000099d6bd597052cdcda90ffabf56573fe9d7c79be5f...</td>\n",
       "      <td>2017-05-28</td>\n",
       "      <td>0.954180</td>\n",
       "      <td>3</td>\n",
       "      <td>0.021655</td>\n",
       "      <td>1.009672</td>\n",
       "      <td>0.006815</td>\n",
       "      <td>0.123977</td>\n",
       "      <td>0.0</td>\n",
       "      <td>0.009423</td>\n",
       "      <td>...</td>\n",
       "      <td>-1</td>\n",
       "      <td>-1</td>\n",
       "      <td>-1</td>\n",
       "      <td>0</td>\n",
       "      <td>0</td>\n",
       "      <td>0.0</td>\n",
       "      <td>NaN</td>\n",
       "      <td>0</td>\n",
       "      <td>0.006986</td>\n",
       "      <td>0</td>\n",
       "    </tr>\n",
       "    <tr>\n",
       "      <th>3</th>\n",
       "      <td>0000099d6bd597052cdcda90ffabf56573fe9d7c79be5f...</td>\n",
       "      <td>2017-06-13</td>\n",
       "      <td>0.960384</td>\n",
       "      <td>0</td>\n",
       "      <td>0.013683</td>\n",
       "      <td>1.002700</td>\n",
       "      <td>0.001373</td>\n",
       "      <td>0.117169</td>\n",
       "      <td>0.0</td>\n",
       "      <td>0.005531</td>\n",
       "      <td>...</td>\n",
       "      <td>-1</td>\n",
       "      <td>-1</td>\n",
       "      <td>-1</td>\n",
       "      <td>0</td>\n",
       "      <td>0</td>\n",
       "      <td>0.0</td>\n",
       "      <td>NaN</td>\n",
       "      <td>0</td>\n",
       "      <td>0.006527</td>\n",
       "      <td>0</td>\n",
       "    </tr>\n",
       "    <tr>\n",
       "      <th>4</th>\n",
       "      <td>0000099d6bd597052cdcda90ffabf56573fe9d7c79be5f...</td>\n",
       "      <td>2017-07-16</td>\n",
       "      <td>0.947248</td>\n",
       "      <td>0</td>\n",
       "      <td>0.015193</td>\n",
       "      <td>1.000727</td>\n",
       "      <td>0.007605</td>\n",
       "      <td>0.117325</td>\n",
       "      <td>0.0</td>\n",
       "      <td>0.009312</td>\n",
       "      <td>...</td>\n",
       "      <td>-1</td>\n",
       "      <td>-1</td>\n",
       "      <td>-1</td>\n",
       "      <td>0</td>\n",
       "      <td>0</td>\n",
       "      <td>0.0</td>\n",
       "      <td>NaN</td>\n",
       "      <td>0</td>\n",
       "      <td>0.008126</td>\n",
       "      <td>0</td>\n",
       "    </tr>\n",
       "    <tr>\n",
       "      <th>...</th>\n",
       "      <td>...</td>\n",
       "      <td>...</td>\n",
       "      <td>...</td>\n",
       "      <td>...</td>\n",
       "      <td>...</td>\n",
       "      <td>...</td>\n",
       "      <td>...</td>\n",
       "      <td>...</td>\n",
       "      <td>...</td>\n",
       "      <td>...</td>\n",
       "      <td>...</td>\n",
       "      <td>...</td>\n",
       "      <td>...</td>\n",
       "      <td>...</td>\n",
       "      <td>...</td>\n",
       "      <td>...</td>\n",
       "      <td>...</td>\n",
       "      <td>...</td>\n",
       "      <td>...</td>\n",
       "      <td>...</td>\n",
       "      <td>...</td>\n",
       "    </tr>\n",
       "    <tr>\n",
       "      <th>5531446</th>\n",
       "      <td>fffff1d38b785cef84adeace64f8f83db3a0c31e8d92ea...</td>\n",
       "      <td>2017-11-05</td>\n",
       "      <td>0.979333</td>\n",
       "      <td>14</td>\n",
       "      <td>0.020818</td>\n",
       "      <td>0.828199</td>\n",
       "      <td>0.003487</td>\n",
       "      <td>0.090743</td>\n",
       "      <td>0.0</td>\n",
       "      <td>0.025139</td>\n",
       "      <td>...</td>\n",
       "      <td>-1</td>\n",
       "      <td>-1</td>\n",
       "      <td>-1</td>\n",
       "      <td>0</td>\n",
       "      <td>0</td>\n",
       "      <td>0.0</td>\n",
       "      <td>NaN</td>\n",
       "      <td>0</td>\n",
       "      <td>0.001498</td>\n",
       "      <td>0</td>\n",
       "    </tr>\n",
       "    <tr>\n",
       "      <th>5531447</th>\n",
       "      <td>fffff1d38b785cef84adeace64f8f83db3a0c31e8d92ea...</td>\n",
       "      <td>2017-12-23</td>\n",
       "      <td>0.984907</td>\n",
       "      <td>10</td>\n",
       "      <td>0.007209</td>\n",
       "      <td>0.812610</td>\n",
       "      <td>0.005904</td>\n",
       "      <td>0.079886</td>\n",
       "      <td>0.0</td>\n",
       "      <td>0.023691</td>\n",
       "      <td>...</td>\n",
       "      <td>-1</td>\n",
       "      <td>-1</td>\n",
       "      <td>-1</td>\n",
       "      <td>0</td>\n",
       "      <td>0</td>\n",
       "      <td>0.0</td>\n",
       "      <td>NaN</td>\n",
       "      <td>0</td>\n",
       "      <td>0.008225</td>\n",
       "      <td>0</td>\n",
       "    </tr>\n",
       "    <tr>\n",
       "      <th>5531448</th>\n",
       "      <td>fffff1d38b785cef84adeace64f8f83db3a0c31e8d92ea...</td>\n",
       "      <td>2018-01-06</td>\n",
       "      <td>0.983019</td>\n",
       "      <td>15</td>\n",
       "      <td>0.013151</td>\n",
       "      <td>0.815422</td>\n",
       "      <td>0.003457</td>\n",
       "      <td>0.100503</td>\n",
       "      <td>0.0</td>\n",
       "      <td>0.012343</td>\n",
       "      <td>...</td>\n",
       "      <td>-1</td>\n",
       "      <td>-1</td>\n",
       "      <td>-1</td>\n",
       "      <td>0</td>\n",
       "      <td>0</td>\n",
       "      <td>0.0</td>\n",
       "      <td>NaN</td>\n",
       "      <td>0</td>\n",
       "      <td>0.006773</td>\n",
       "      <td>0</td>\n",
       "    </tr>\n",
       "    <tr>\n",
       "      <th>5531449</th>\n",
       "      <td>fffff1d38b785cef84adeace64f8f83db3a0c31e8d92ea...</td>\n",
       "      <td>2018-02-06</td>\n",
       "      <td>0.969861</td>\n",
       "      <td>15</td>\n",
       "      <td>0.009855</td>\n",
       "      <td>1.003541</td>\n",
       "      <td>0.005117</td>\n",
       "      <td>0.101802</td>\n",
       "      <td>0.0</td>\n",
       "      <td>0.008578</td>\n",
       "      <td>...</td>\n",
       "      <td>-1</td>\n",
       "      <td>-1</td>\n",
       "      <td>-1</td>\n",
       "      <td>0</td>\n",
       "      <td>0</td>\n",
       "      <td>0.0</td>\n",
       "      <td>NaN</td>\n",
       "      <td>0</td>\n",
       "      <td>0.001168</td>\n",
       "      <td>0</td>\n",
       "    </tr>\n",
       "    <tr>\n",
       "      <th>5531450</th>\n",
       "      <td>fffff1d38b785cef84adeace64f8f83db3a0c31e8d92ea...</td>\n",
       "      <td>2018-03-14</td>\n",
       "      <td>0.982175</td>\n",
       "      <td>0</td>\n",
       "      <td>0.000077</td>\n",
       "      <td>0.992880</td>\n",
       "      <td>0.000809</td>\n",
       "      <td>0.119165</td>\n",
       "      <td>0.0</td>\n",
       "      <td>0.014092</td>\n",
       "      <td>...</td>\n",
       "      <td>-1</td>\n",
       "      <td>-1</td>\n",
       "      <td>-1</td>\n",
       "      <td>0</td>\n",
       "      <td>0</td>\n",
       "      <td>0.0</td>\n",
       "      <td>NaN</td>\n",
       "      <td>0</td>\n",
       "      <td>0.003184</td>\n",
       "      <td>0</td>\n",
       "    </tr>\n",
       "  </tbody>\n",
       "</table>\n",
       "<p>5531451 rows × 190 columns</p>\n",
       "</div>"
      ],
      "text/plain": [
       "                                               customer_ID         S_2  \\\n",
       "0        0000099d6bd597052cdcda90ffabf56573fe9d7c79be5f...  2017-03-09   \n",
       "1        0000099d6bd597052cdcda90ffabf56573fe9d7c79be5f...  2017-04-07   \n",
       "2        0000099d6bd597052cdcda90ffabf56573fe9d7c79be5f...  2017-05-28   \n",
       "3        0000099d6bd597052cdcda90ffabf56573fe9d7c79be5f...  2017-06-13   \n",
       "4        0000099d6bd597052cdcda90ffabf56573fe9d7c79be5f...  2017-07-16   \n",
       "...                                                    ...         ...   \n",
       "5531446  fffff1d38b785cef84adeace64f8f83db3a0c31e8d92ea...  2017-11-05   \n",
       "5531447  fffff1d38b785cef84adeace64f8f83db3a0c31e8d92ea...  2017-12-23   \n",
       "5531448  fffff1d38b785cef84adeace64f8f83db3a0c31e8d92ea...  2018-01-06   \n",
       "5531449  fffff1d38b785cef84adeace64f8f83db3a0c31e8d92ea...  2018-02-06   \n",
       "5531450  fffff1d38b785cef84adeace64f8f83db3a0c31e8d92ea...  2018-03-14   \n",
       "\n",
       "              P_2  D_39       B_1       B_2       R_1       S_3  D_41  \\\n",
       "0        0.938469     0  0.008724  1.006838  0.009228  0.124035   0.0   \n",
       "1        0.936665     0  0.004923  1.000653  0.006151  0.126750   0.0   \n",
       "2        0.954180     3  0.021655  1.009672  0.006815  0.123977   0.0   \n",
       "3        0.960384     0  0.013683  1.002700  0.001373  0.117169   0.0   \n",
       "4        0.947248     0  0.015193  1.000727  0.007605  0.117325   0.0   \n",
       "...           ...   ...       ...       ...       ...       ...   ...   \n",
       "5531446  0.979333    14  0.020818  0.828199  0.003487  0.090743   0.0   \n",
       "5531447  0.984907    10  0.007209  0.812610  0.005904  0.079886   0.0   \n",
       "5531448  0.983019    15  0.013151  0.815422  0.003457  0.100503   0.0   \n",
       "5531449  0.969861    15  0.009855  1.003541  0.005117  0.101802   0.0   \n",
       "5531450  0.982175     0  0.000077  0.992880  0.000809  0.119165   0.0   \n",
       "\n",
       "              B_3  ...  D_136  D_137  D_138  D_139  D_140  D_141  D_142  \\\n",
       "0        0.004709  ...     -1     -1     -1      0      0    0.0    NaN   \n",
       "1        0.002714  ...     -1     -1     -1      0      0    0.0    NaN   \n",
       "2        0.009423  ...     -1     -1     -1      0      0    0.0    NaN   \n",
       "3        0.005531  ...     -1     -1     -1      0      0    0.0    NaN   \n",
       "4        0.009312  ...     -1     -1     -1      0      0    0.0    NaN   \n",
       "...           ...  ...    ...    ...    ...    ...    ...    ...    ...   \n",
       "5531446  0.025139  ...     -1     -1     -1      0      0    0.0    NaN   \n",
       "5531447  0.023691  ...     -1     -1     -1      0      0    0.0    NaN   \n",
       "5531448  0.012343  ...     -1     -1     -1      0      0    0.0    NaN   \n",
       "5531449  0.008578  ...     -1     -1     -1      0      0    0.0    NaN   \n",
       "5531450  0.014092  ...     -1     -1     -1      0      0    0.0    NaN   \n",
       "\n",
       "         D_143     D_144  D_145  \n",
       "0            0  0.000610      0  \n",
       "1            0  0.005492      0  \n",
       "2            0  0.006986      0  \n",
       "3            0  0.006527      0  \n",
       "4            0  0.008126      0  \n",
       "...        ...       ...    ...  \n",
       "5531446      0  0.001498      0  \n",
       "5531447      0  0.008225      0  \n",
       "5531448      0  0.006773      0  \n",
       "5531449      0  0.001168      0  \n",
       "5531450      0  0.003184      0  \n",
       "\n",
       "[5531451 rows x 190 columns]"
      ]
     },
     "metadata": {},
     "output_type": "display_data"
    }
   ],
   "source": [
    "data = pd.read_parquet(\"../data/ext/amex-data-integer-dtypes-parquet-format/train.parquet\")\n",
    "input_cols = data.columns[2:]\n",
    "\n",
    "categorical_cols = ['B_30', 'B_38', 'D_114', 'D_116', 'D_117', 'D_120', 'D_126', 'D_63', 'D_64', 'D_66', 'D_68']\n",
    "numerical_cols = [col for col in input_cols if col not in categorical_cols]\n",
    "\n",
    "labels = pd.read_csv(\"../data/raw/train_labels.csv\")\n",
    "\n",
    "display(data)"
   ]
  },
  {
   "cell_type": "code",
   "execution_count": 3,
   "id": "78ff3972-7d4a-46aa-9163-e92a973b1c37",
   "metadata": {},
   "outputs": [
    {
     "data": {
      "text/html": [
       "<div>\n",
       "<style scoped>\n",
       "    .dataframe tbody tr th:only-of-type {\n",
       "        vertical-align: middle;\n",
       "    }\n",
       "\n",
       "    .dataframe tbody tr th {\n",
       "        vertical-align: top;\n",
       "    }\n",
       "\n",
       "    .dataframe thead th {\n",
       "        text-align: right;\n",
       "    }\n",
       "</style>\n",
       "<table border=\"1\" class=\"dataframe\">\n",
       "  <thead>\n",
       "    <tr style=\"text-align: right;\">\n",
       "      <th></th>\n",
       "      <th>customer_ID</th>\n",
       "      <th>P_2</th>\n",
       "      <th>target</th>\n",
       "    </tr>\n",
       "  </thead>\n",
       "  <tbody>\n",
       "    <tr>\n",
       "      <th>0</th>\n",
       "      <td>0000099d6bd597052cdcda90ffabf56573fe9d7c79be5f...</td>\n",
       "      <td>0.934745</td>\n",
       "      <td>0</td>\n",
       "    </tr>\n",
       "    <tr>\n",
       "      <th>1</th>\n",
       "      <td>00000fd6641609c6ece5454664794f0340ad84dddce9a2...</td>\n",
       "      <td>0.880519</td>\n",
       "      <td>0</td>\n",
       "    </tr>\n",
       "    <tr>\n",
       "      <th>2</th>\n",
       "      <td>00001b22f846c82c51f6e3958ccd81970162bae8b007e8...</td>\n",
       "      <td>0.880875</td>\n",
       "      <td>0</td>\n",
       "    </tr>\n",
       "    <tr>\n",
       "      <th>3</th>\n",
       "      <td>000041bdba6ecadd89a52d11886e8eaaec9325906c9723...</td>\n",
       "      <td>0.621776</td>\n",
       "      <td>0</td>\n",
       "    </tr>\n",
       "    <tr>\n",
       "      <th>4</th>\n",
       "      <td>00007889e4fcd2614b6cbe7f8f3d2e5c728eca32d9eb8a...</td>\n",
       "      <td>0.871900</td>\n",
       "      <td>0</td>\n",
       "    </tr>\n",
       "    <tr>\n",
       "      <th>...</th>\n",
       "      <td>...</td>\n",
       "      <td>...</td>\n",
       "      <td>...</td>\n",
       "    </tr>\n",
       "    <tr>\n",
       "      <th>458908</th>\n",
       "      <td>ffff41c8a52833b56430603969b9ca48d208e7c192c6a4...</td>\n",
       "      <td>0.844229</td>\n",
       "      <td>0</td>\n",
       "    </tr>\n",
       "    <tr>\n",
       "      <th>458909</th>\n",
       "      <td>ffff518bb2075e4816ee3fe9f3b152c57fc0e6f01bf7fd...</td>\n",
       "      <td>0.831279</td>\n",
       "      <td>0</td>\n",
       "    </tr>\n",
       "    <tr>\n",
       "      <th>458910</th>\n",
       "      <td>ffff9984b999fccb2b6127635ed0736dda94e544e67e02...</td>\n",
       "      <td>0.800522</td>\n",
       "      <td>0</td>\n",
       "    </tr>\n",
       "    <tr>\n",
       "      <th>458911</th>\n",
       "      <td>ffffa5c46bc8de74f5a4554e74e239c8dee6b9baf38814...</td>\n",
       "      <td>0.754129</td>\n",
       "      <td>1</td>\n",
       "    </tr>\n",
       "    <tr>\n",
       "      <th>458912</th>\n",
       "      <td>fffff1d38b785cef84adeace64f8f83db3a0c31e8d92ea...</td>\n",
       "      <td>0.982175</td>\n",
       "      <td>0</td>\n",
       "    </tr>\n",
       "  </tbody>\n",
       "</table>\n",
       "<p>458913 rows × 3 columns</p>\n",
       "</div>"
      ],
      "text/plain": [
       "                                              customer_ID       P_2  target\n",
       "0       0000099d6bd597052cdcda90ffabf56573fe9d7c79be5f...  0.934745       0\n",
       "1       00000fd6641609c6ece5454664794f0340ad84dddce9a2...  0.880519       0\n",
       "2       00001b22f846c82c51f6e3958ccd81970162bae8b007e8...  0.880875       0\n",
       "3       000041bdba6ecadd89a52d11886e8eaaec9325906c9723...  0.621776       0\n",
       "4       00007889e4fcd2614b6cbe7f8f3d2e5c728eca32d9eb8a...  0.871900       0\n",
       "...                                                   ...       ...     ...\n",
       "458908  ffff41c8a52833b56430603969b9ca48d208e7c192c6a4...  0.844229       0\n",
       "458909  ffff518bb2075e4816ee3fe9f3b152c57fc0e6f01bf7fd...  0.831279       0\n",
       "458910  ffff9984b999fccb2b6127635ed0736dda94e544e67e02...  0.800522       0\n",
       "458911  ffffa5c46bc8de74f5a4554e74e239c8dee6b9baf38814...  0.754129       1\n",
       "458912  fffff1d38b785cef84adeace64f8f83db3a0c31e8d92ea...  0.982175       0\n",
       "\n",
       "[458913 rows x 3 columns]"
      ]
     },
     "execution_count": 3,
     "metadata": {},
     "output_type": "execute_result"
    }
   ],
   "source": [
    "scores = data.groupby(\"customer_ID\")[\"P_2\"].last().reset_index()\n",
    "scores = pd.merge(scores, labels)\n",
    "scores"
   ]
  },
  {
   "cell_type": "code",
   "execution_count": 4,
   "id": "e3b79e6a-eccf-4401-a5ca-6952fbccfb3d",
   "metadata": {},
   "outputs": [
    {
     "data": {
      "image/png": "[encoded data removed]",
      "text/plain": [
       "<Figure size 1080x360 with 1 Axes>"
      ]
     },
     "metadata": {
      "needs_background": "light"
     },
     "output_type": "display_data"
    }
   ],
   "source": [
    "plt.figure(figsize=(15,5))\n",
    "scores.P_2.hist(bins=100)\n",
    "plt.xlabel(\"P_2\")\n",
    "plt.ylabel(\"count\")\n",
    "plt.show()"
   ]
  },
  {
   "cell_type": "code",
   "execution_count": 5,
   "id": "22a2d938-d3d7-40bd-9978-92475cc5154a",
   "metadata": {},
   "outputs": [
    {
     "data": {
      "image/png": "[encoded data removed]",
      "text/plain": [
       "<Figure size 1080x360 with 1 Axes>"
      ]
     },
     "metadata": {
      "needs_background": "light"
     },
     "output_type": "display_data"
    }
   ],
   "source": [
    "plt.figure(figsize=(15,5))\n",
    "scores.P_2.quantile(np.arange(0,1.01,0.01)).plot()\n",
    "plt.grid()\n",
    "plt.xlabel(\"quantile\")\n",
    "plt.ylabel(\"P_2\")\n",
    "plt.show()"
   ]
  },
  {
   "cell_type": "code",
   "execution_count": 6,
   "id": "fe3747c6-4542-4eb5-8eab-a6cb375fd6ab",
   "metadata": {},
   "outputs": [
    {
     "data": {
      "text/plain": [
       "target\n",
       "0    0.740877\n",
       "1    0.333752\n",
       "Name: P_2, dtype: float32"
      ]
     },
     "execution_count": 6,
     "metadata": {},
     "output_type": "execute_result"
    }
   ],
   "source": [
    "scores.groupby(\"target\")[\"P_2\"].mean()"
   ]
  },
  {
   "cell_type": "code",
   "execution_count": 7,
   "id": "8fd44af5-a3b5-4230-8fd4-ed6f86c9b2ca",
   "metadata": {},
   "outputs": [
    {
     "data": {
      "image/png": "[encoded data removed]",
      "text/plain": [
       "<Figure size 1080x360 with 1 Axes>"
      ]
     },
     "metadata": {
      "needs_background": "light"
     },
     "output_type": "display_data"
    }
   ],
   "source": [
    "plt.figure(figsize=(15,5))\n",
    "scores.query(\"target == 0\").P_2.hist(bins=100, color=\"blue\", density=True, label=\"non defaulter\")\n",
    "scores.query(\"target == 1\").P_2.hist(bins=100, color=\"red\", density=True, alpha=0.6, label=\"defaulter\")\n",
    "plt.xlabel(\"P_2\")\n",
    "plt.ylabel(\"count\")\n",
    "plt.legend(loc=\"best\")\n",
    "plt.show()"
   ]
  },
  {
   "cell_type": "code",
   "execution_count": 8,
   "id": "1f0c9f17-3fb3-48ad-8754-80ee897153b7",
   "metadata": {},
   "outputs": [
    {
     "data": {
      "image/png": "[encoded data removed]",
      "text/plain": [
       "<Figure size 1080x360 with 1 Axes>"
      ]
     },
     "metadata": {
      "needs_background": "light"
     },
     "output_type": "display_data"
    }
   ],
   "source": [
    "plt.figure(figsize=(15,5))\n",
    "scores.query(\"target == 0\").P_2.quantile(np.arange(0,1.01,0.01)).plot(label=\"non defaulter\", lw=3)\n",
    "scores.query(\"target == 1\").P_2.quantile(np.arange(0,1.01,0.01)).plot(label=\"defaulter\", lw=3)\n",
    "plt.grid()\n",
    "plt.xlabel(\"quantile\")\n",
    "plt.ylabel(\"P_2\")\n",
    "plt.legend(loc=\"best\")\n",
    "plt.show()"
   ]
  },
  {
   "cell_type": "code",
   "execution_count": 9,
   "id": "dfb0dfe4-8597-48fb-90da-64527e7d10ae",
   "metadata": {},
   "outputs": [
    {
     "data": {
      "text/plain": [
       "count    456479.000000\n",
       "mean          0.635229\n",
       "std           0.267534\n",
       "min          -0.458955\n",
       "25%           0.449369\n",
       "50%           0.682590\n",
       "75%           0.862202\n",
       "max           1.009998\n",
       "Name: P_2, dtype: float64"
      ]
     },
     "execution_count": 9,
     "metadata": {},
     "output_type": "execute_result"
    }
   ],
   "source": [
    "scores.P_2.describe()"
   ]
  },
  {
   "cell_type": "code",
   "execution_count": 10,
   "id": "33d34e24-4e0c-4d38-920a-ea1f3629cef3",
   "metadata": {},
   "outputs": [],
   "source": [
    "scaler = MinMaxScaler(feature_range=(0,1))\n",
    "scaler.fit((-1*scores.P_2).values.reshape(-1,1))\n",
    "scores[\"s\"] = scaler.transform((-1*scores.P_2).values.reshape(-1,1)).ravel()"
   ]
  },
  {
   "cell_type": "code",
   "execution_count": 11,
   "id": "54112414-d021-4c41-aaf9-406b5faf337f",
   "metadata": {},
   "outputs": [],
   "source": [
    "scores = scores.dropna(axis=0, subset=[\"s\"]).reset_index(drop=True)"
   ]
  },
  {
   "cell_type": "code",
   "execution_count": 16,
   "id": "300eecd9-9b8d-4f56-aabb-ac48ee1d4f4e",
   "metadata": {},
   "outputs": [
    {
     "data": {
      "text/plain": [
       "0.44347143170801734"
      ]
     },
     "execution_count": 16,
     "metadata": {},
     "output_type": "execute_result"
    }
   ],
   "source": [
    "compute_recall_at4(scores.target.values, scores.s.values)"
   ]
  },
  {
   "cell_type": "code",
   "execution_count": 17,
   "id": "169b6901-0c4c-4ec0-8080-4ea64a2554aa",
   "metadata": {},
   "outputs": [
    {
     "data": {
      "text/plain": [
       "0.8333765289005133"
      ]
     },
     "execution_count": 17,
     "metadata": {},
     "output_type": "execute_result"
    }
   ],
   "source": [
    "compute_normalized_gini(scores.target.values, scores.s.values)"
   ]
  },
  {
   "cell_type": "code",
   "execution_count": 18,
   "id": "9740e886-8c7d-4f6f-ad11-852121182438",
   "metadata": {},
   "outputs": [
    {
     "data": {
      "text/plain": [
       "0.6384239803042653"
      ]
     },
     "execution_count": 18,
     "metadata": {},
     "output_type": "execute_result"
    }
   ],
   "source": [
    "compute_amex_metric(scores.target.values, scores.s.values)"
   ]
  },
  {
   "cell_type": "markdown",
   "id": "0eba8706-80b4-434a-9ab6-e7a508a24881",
   "metadata": {},
   "source": [
    "***"
   ]
  }
 ],
 "metadata": {
  "kernelspec": {
   "display_name": "Python 3 (ipykernel)",
   "language": "python",
   "name": "python3"
  },
  "language_info": {
   "codemirror_mode": {
    "name": "ipython",
    "version": 3
   },
   "file_extension": ".py",
   "mimetype": "text/x-python",
   "name": "python",
   "nbconvert_exporter": "python",
   "pygments_lexer": "ipython3",
   "version": "3.9.7"
  }
 },
 "nbformat": 4,
 "nbformat_minor": 5
}
